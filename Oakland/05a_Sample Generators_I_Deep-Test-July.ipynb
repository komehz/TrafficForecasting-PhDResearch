{
 "cells": [
  {
   "cell_type": "code",
   "execution_count": 1,
   "metadata": {},
   "outputs": [],
   "source": [
    "import pandas as pd\n",
    "import numpy as np\n",
    "import matplotlib.pyplot as plt\n",
    "import seaborn as sns\n",
    "import joblib"
   ]
  },
  {
   "cell_type": "markdown",
   "metadata": {},
   "source": [
    "#### Read training data from csv files"
   ]
  },
  {
   "cell_type": "code",
   "execution_count": 2,
   "metadata": {},
   "outputs": [],
   "source": [
    "Test      = pd.DataFrame(joblib.load(\"0000Test.save\")) "
   ]
  },
  {
   "cell_type": "code",
   "execution_count": 3,
   "metadata": {},
   "outputs": [],
   "source": [
    "columns = ['f1', 'f2', 'f3', 'f4', 'f5', 'f6']\n",
    "Test.columns = columns"
   ]
  },
  {
   "cell_type": "code",
   "execution_count": 4,
   "metadata": {},
   "outputs": [],
   "source": [
    "date_range = pd.date_range('2018-07-01 00:00', '2018-07-29 23:59', freq='5Min')"
   ]
  },
  {
   "cell_type": "code",
   "execution_count": 5,
   "metadata": {},
   "outputs": [],
   "source": [
    "test = Test[4320:].copy().reset_index(drop=True)"
   ]
  },
  {
   "cell_type": "code",
   "execution_count": 6,
   "metadata": {},
   "outputs": [],
   "source": [
    "Test['Timestamp'] = date_range"
   ]
  },
  {
   "cell_type": "markdown",
   "metadata": {},
   "source": [
    "# 5-minute (1 step ahead) foreast"
   ]
  },
  {
   "cell_type": "code",
   "execution_count": 7,
   "metadata": {},
   "outputs": [],
   "source": [
    "length = 15\n",
    "step = 1\n",
    "k = -1\n",
    "\n",
    "a = np.zeros((15, 6))\n",
    "b = np.zeros((1,))\n",
    "x = np.zeros((15, 6))\n",
    "y = np.zeros((1,))\n",
    "\n",
    "\n",
    "for i in range(length, (len(test)-step+1)):\n",
    "    b[0] = test[\"f4\"][i+step-1]\n",
    "    k = k+1\n",
    "    for j in range(length):\n",
    "        if j+k <= (len(test) + length - step):\n",
    "            a[j] = test.iloc[j+k]\n",
    "            \n",
    "    x = np.append(x, a, axis=0)\n",
    "    y = np.append(y, b, axis=0)\n",
    "\n",
    "x = np.delete(x, np.s_[0:15], 0).reshape(-1, 15, 6)\n",
    "y = np.delete(y, np.s_[0], 0)"
   ]
  },
  {
   "cell_type": "code",
   "execution_count": 8,
   "metadata": {},
   "outputs": [
    {
     "data": {
      "text/plain": [
       "(4017, 15, 6)"
      ]
     },
     "execution_count": 8,
     "metadata": {},
     "output_type": "execute_result"
    }
   ],
   "source": [
    "x.shape"
   ]
  },
  {
   "cell_type": "code",
   "execution_count": 9,
   "metadata": {},
   "outputs": [
    {
     "data": {
      "text/plain": [
       "(4017,)"
      ]
     },
     "execution_count": 9,
     "metadata": {},
     "output_type": "execute_result"
    }
   ],
   "source": [
    "y.shape"
   ]
  },
  {
   "cell_type": "code",
   "execution_count": 10,
   "metadata": {},
   "outputs": [],
   "source": [
    "# Checked as correct"
   ]
  },
  {
   "cell_type": "code",
   "execution_count": 11,
   "metadata": {},
   "outputs": [],
   "source": [
    "# Save \n",
    "\n",
    "np.savez_compressed(\"Deep_July_test_5\", x=x , y=y)"
   ]
  },
  {
   "cell_type": "markdown",
   "metadata": {},
   "source": [
    "# 15-minute (3 step ahead) forecast"
   ]
  },
  {
   "cell_type": "code",
   "execution_count": 12,
   "metadata": {},
   "outputs": [],
   "source": [
    "length = 15\n",
    "step = 3\n",
    "k = -1\n",
    "\n",
    "a = np.zeros((15, 6))\n",
    "b = np.zeros((1,))\n",
    "x = np.zeros((15, 6))\n",
    "y = np.zeros((1,))\n",
    "\n",
    "\n",
    "for i in range(length, (len(test)-step+1)):\n",
    "    b[0] = test[\"f4\"][i+step-1]\n",
    "    k = k+1\n",
    "    for j in range(length):\n",
    "        if j+k <= (len(test) + length - step):\n",
    "            a[j] = test.iloc[j+k]\n",
    "            \n",
    "    x = np.append(x, a, axis=0)\n",
    "    y = np.append(y, b, axis=0)\n",
    "    \n",
    "x = np.delete(x, np.s_[0:15], 0).reshape(-1, 15, 6)\n",
    "y = np.delete(y, np.s_[0], 0)"
   ]
  },
  {
   "cell_type": "code",
   "execution_count": 13,
   "metadata": {},
   "outputs": [
    {
     "data": {
      "text/plain": [
       "(4015, 15, 6)"
      ]
     },
     "execution_count": 13,
     "metadata": {},
     "output_type": "execute_result"
    }
   ],
   "source": [
    "x.shape"
   ]
  },
  {
   "cell_type": "code",
   "execution_count": 14,
   "metadata": {},
   "outputs": [
    {
     "data": {
      "text/plain": [
       "(4015,)"
      ]
     },
     "execution_count": 14,
     "metadata": {},
     "output_type": "execute_result"
    }
   ],
   "source": [
    "y.shape"
   ]
  },
  {
   "cell_type": "code",
   "execution_count": 15,
   "metadata": {},
   "outputs": [],
   "source": [
    "# Checked as correct"
   ]
  },
  {
   "cell_type": "code",
   "execution_count": 16,
   "metadata": {},
   "outputs": [],
   "source": [
    "# Save \n",
    "\n",
    "np.savez_compressed(\"Deep_July_test_15\", x=x , y=y)"
   ]
  },
  {
   "cell_type": "markdown",
   "metadata": {},
   "source": [
    "# 30-minute (6 step ahead) forecast"
   ]
  },
  {
   "cell_type": "code",
   "execution_count": 17,
   "metadata": {},
   "outputs": [],
   "source": [
    "length = 15\n",
    "step = 6\n",
    "k = -1\n",
    "\n",
    "a = np.zeros((15, 6))\n",
    "b = np.zeros((1,))\n",
    "x = np.zeros((15, 6))\n",
    "y = np.zeros((1,))\n",
    "\n",
    "\n",
    "for i in range(length, (len(test)-step+1)):\n",
    "    b[0] = test[\"f4\"][i+step-1]\n",
    "    k = k+1\n",
    "    for j in range(length):\n",
    "        if j+k <= (len(test) + length - step):\n",
    "            a[j] = test.iloc[j+k]\n",
    "            \n",
    "    x = np.append(x, a, axis=0)\n",
    "    y = np.append(y, b, axis=0)\n",
    "    \n",
    "x = np.delete(x, np.s_[0:15], 0).reshape(-1, 15, 6)\n",
    "y = np.delete(y, np.s_[0], 0)\n",
    "\n",
    "#x = np.delete(x, np.s_[0:4300], 0)\n",
    "#y = np.delete(y, np.s_[0:4300], 0)"
   ]
  },
  {
   "cell_type": "code",
   "execution_count": 18,
   "metadata": {},
   "outputs": [
    {
     "data": {
      "text/plain": [
       "(4012, 15, 6)"
      ]
     },
     "execution_count": 18,
     "metadata": {},
     "output_type": "execute_result"
    }
   ],
   "source": [
    "x.shape"
   ]
  },
  {
   "cell_type": "code",
   "execution_count": 19,
   "metadata": {},
   "outputs": [
    {
     "data": {
      "text/plain": [
       "(4012,)"
      ]
     },
     "execution_count": 19,
     "metadata": {},
     "output_type": "execute_result"
    }
   ],
   "source": [
    "y.shape"
   ]
  },
  {
   "cell_type": "code",
   "execution_count": 20,
   "metadata": {},
   "outputs": [],
   "source": [
    "# Checked as correct"
   ]
  },
  {
   "cell_type": "code",
   "execution_count": 21,
   "metadata": {},
   "outputs": [],
   "source": [
    "# Save \n",
    "\n",
    "np.savez_compressed(\"Deep_July_test_30\", x=x , y=y)"
   ]
  },
  {
   "cell_type": "markdown",
   "metadata": {},
   "source": [
    "# 60-minute (12 step ahead) forecast"
   ]
  },
  {
   "cell_type": "code",
   "execution_count": 22,
   "metadata": {},
   "outputs": [],
   "source": [
    "length = 15\n",
    "step = 12\n",
    "k = -1\n",
    "\n",
    "a = np.zeros((15, 6))\n",
    "b = np.zeros((1,))\n",
    "x = np.zeros((15, 6))\n",
    "y = np.zeros((1,))\n",
    "\n",
    "\n",
    "for i in range(length, (len(test)-step+1)):\n",
    "    b[0] = test[\"f4\"][i+step-1]\n",
    "    k = k+1\n",
    "    for j in range(length):\n",
    "        if j+k <= (len(test) + length - step):\n",
    "            a[j] = test.iloc[j+k]\n",
    "            \n",
    "    x = np.append(x, a, axis=0)\n",
    "    y = np.append(y, b, axis=0)\n",
    "    \n",
    "x = np.delete(x, np.s_[0:15], 0).reshape(-1, 15, 6)\n",
    "y = np.delete(y, np.s_[0], 0)\n",
    "\n",
    "#x = np.delete(x, np.s_[0:4294], 0)\n",
    "#y = np.delete(y, np.s_[0:4294], 0)"
   ]
  },
  {
   "cell_type": "code",
   "execution_count": 23,
   "metadata": {},
   "outputs": [
    {
     "data": {
      "text/plain": [
       "(4006, 15, 6)"
      ]
     },
     "execution_count": 23,
     "metadata": {},
     "output_type": "execute_result"
    }
   ],
   "source": [
    "x.shape"
   ]
  },
  {
   "cell_type": "code",
   "execution_count": 24,
   "metadata": {},
   "outputs": [
    {
     "data": {
      "text/plain": [
       "(4006,)"
      ]
     },
     "execution_count": 24,
     "metadata": {},
     "output_type": "execute_result"
    }
   ],
   "source": [
    "y.shape"
   ]
  },
  {
   "cell_type": "code",
   "execution_count": 25,
   "metadata": {},
   "outputs": [],
   "source": [
    "# Checked as correct"
   ]
  },
  {
   "cell_type": "code",
   "execution_count": 26,
   "metadata": {},
   "outputs": [],
   "source": [
    "# Save \n",
    "\n",
    "np.savez_compressed(\"Deep_July_test_60\", x=x , y=y)"
   ]
  }
 ],
 "metadata": {
  "kernelspec": {
   "display_name": "Python 3 (ipykernel)",
   "language": "python",
   "name": "python3"
  },
  "language_info": {
   "codemirror_mode": {
    "name": "ipython",
    "version": 3
   },
   "file_extension": ".py",
   "mimetype": "text/x-python",
   "name": "python",
   "nbconvert_exporter": "python",
   "pygments_lexer": "ipython3",
   "version": "3.11.5"
  }
 },
 "nbformat": 4,
 "nbformat_minor": 4
}
