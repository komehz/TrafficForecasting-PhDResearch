{
 "cells": [
  {
   "cell_type": "code",
   "execution_count": 1,
   "metadata": {},
   "outputs": [],
   "source": [
    "import pandas as pd\n",
    "import numpy as np\n",
    "import matplotlib.pyplot as plt\n",
    "import seaborn as sns\n",
    "import joblib"
   ]
  },
  {
   "cell_type": "code",
   "execution_count": 2,
   "metadata": {},
   "outputs": [],
   "source": [
    "import os\n",
    "import relative_accuracy as ra\n",
    "import geh as ga"
   ]
  },
  {
   "cell_type": "code",
   "execution_count": 3,
   "metadata": {},
   "outputs": [],
   "source": [
    "from sklearn.metrics import mean_absolute_error,mean_squared_error,mean_absolute_percentage_error"
   ]
  },
  {
   "cell_type": "code",
   "execution_count": 4,
   "metadata": {},
   "outputs": [],
   "source": [
    "import keras_tuner as kt\n",
    "from keras_tuner import RandomSearch"
   ]
  },
  {
   "cell_type": "code",
   "execution_count": 5,
   "metadata": {},
   "outputs": [],
   "source": [
    "# Load all Inputs and Output Data\n",
    "\n",
    "# 5 mins (1 step ahead)\n",
    "Deep_train_5   = np.load(\"Deep_train_5_multi.npz\")['x'] \n",
    "Output_train_5 = np.load(\"Deep_train_5_multi.npz\")['y']\n",
    "\n",
    "Deep_test_5   = np.load(\"Deep_test_5_multi.npz\")['x'] \n",
    "Output_test_5 = np.load(\"Deep_test_5_multi.npz\")['y'] \n",
    "\n",
    "# 15 mins (3 steps ahead)\n",
    "Deep_train_15   = np.load(\"Deep_train_15_multi.npz\")['x'] \n",
    "Output_train_15 = np.load(\"Deep_train_15_multi.npz\")['y']\n",
    "\n",
    "Deep_test_15   = np.load(\"Deep_test_15_multi.npz\")['x'] \n",
    "Output_test_15 = np.load(\"Deep_test_15_multi.npz\")['y']\n",
    "\n",
    "# 30 mins (6 steps ahead)\n",
    "Deep_train_30   = np.load(\"Deep_train_30_multi.npz\")['x'] \n",
    "Output_train_30 = np.load(\"Deep_train_30_multi.npz\")['y']\n",
    "\n",
    "Deep_test_30   = np.load(\"Deep_test_30_multi.npz\")['x'] \n",
    "Output_test_30 = np.load(\"Deep_test_30_multi.npz\")['y']\n",
    "\n",
    "# 60 mins (12 steps ahead)\n",
    "Deep_train_60   = np.load(\"Deep_train_60_multi.npz\")['x'] \n",
    "Output_train_60 = np.load(\"Deep_train_60_multi.npz\")['y']\n",
    "\n",
    "Deep_test_60   = np.load(\"Deep_test_60_multi.npz\")['x'] \n",
    "Output_test_60 = np.load(\"Deep_test_60_multi.npz\")['y']"
   ]
  },
  {
   "cell_type": "code",
   "execution_count": 6,
   "metadata": {},
   "outputs": [
    {
     "name": "stderr",
     "output_type": "stream",
     "text": [
      "C:\\Users\\esugom\\Anaconda3\\lib\\site-packages\\sklearn\\base.py:310: UserWarning: Trying to unpickle estimator MinMaxScaler from version 1.0.1 when using version 0.24.1. This might lead to breaking code or invalid results. Use at your own risk.\n",
      "  warnings.warn(\n"
     ]
    }
   ],
   "source": [
    "scaler_filename = \"scaler.save\"\n",
    "scaler = joblib.load(scaler_filename) "
   ]
  },
  {
   "cell_type": "code",
   "execution_count": 7,
   "metadata": {},
   "outputs": [],
   "source": [
    "Test      = pd.read_csv('01test_scaled.csv', index_col=None, parse_dates=[0])"
   ]
  },
  {
   "cell_type": "markdown",
   "metadata": {},
   "source": [
    "## Input"
   ]
  },
  {
   "cell_type": "markdown",
   "metadata": {},
   "source": [
    "#### 5 mins"
   ]
  },
  {
   "cell_type": "code",
   "execution_count": 8,
   "metadata": {},
   "outputs": [],
   "source": [
    "# Train\n",
    "Xt5 = Deep_train_5\n",
    "yt5 = scaler.inverse_transform(Output_train_5)\n",
    "# Test\n",
    "Xv5 = Deep_test_5\n",
    "yv5 = scaler.inverse_transform(Output_test_5)"
   ]
  },
  {
   "cell_type": "markdown",
   "metadata": {},
   "source": [
    "#### 15 mins"
   ]
  },
  {
   "cell_type": "code",
   "execution_count": 9,
   "metadata": {},
   "outputs": [],
   "source": [
    "# Train\n",
    "Xt15 = Deep_train_15\n",
    "yt15 = scaler.inverse_transform(Output_train_15)\n",
    "# Test\n",
    "Xv15 = Deep_test_15\n",
    "yv15 = scaler.inverse_transform(Output_test_15)"
   ]
  },
  {
   "cell_type": "markdown",
   "metadata": {},
   "source": [
    "#### 30 mins"
   ]
  },
  {
   "cell_type": "code",
   "execution_count": 10,
   "metadata": {},
   "outputs": [],
   "source": [
    "# Train\n",
    "Xt30 = Deep_train_30\n",
    "yt30 = scaler.inverse_transform(Output_train_30)\n",
    "# Test\n",
    "Xv30 = Deep_test_30\n",
    "yv30 = scaler.inverse_transform(Output_test_30)"
   ]
  },
  {
   "cell_type": "markdown",
   "metadata": {},
   "source": [
    "#### 60 mins"
   ]
  },
  {
   "cell_type": "code",
   "execution_count": 11,
   "metadata": {},
   "outputs": [],
   "source": [
    "# Train\n",
    "Xt60 = Deep_train_60\n",
    "yt60 = scaler.inverse_transform(Output_train_60)\n",
    "# Test\n",
    "Xv60 = Deep_test_60\n",
    "yv60 = scaler.inverse_transform(Output_test_60)"
   ]
  },
  {
   "cell_type": "markdown",
   "metadata": {},
   "source": [
    "# LSTM Model"
   ]
  },
  {
   "cell_type": "code",
   "execution_count": 12,
   "metadata": {},
   "outputs": [],
   "source": [
    "from tensorflow.keras.models import Sequential\n",
    "from tensorflow.keras.layers import Dense,LSTM\n",
    "from tensorflow.keras.callbacks import EarlyStopping"
   ]
  },
  {
   "cell_type": "code",
   "execution_count": 13,
   "metadata": {},
   "outputs": [],
   "source": [
    "# We're using 6 features in our time series samples (6 spatial locations)\n",
    "n_features = 6\n",
    "length = 15\n",
    "# val_percent = 0.07567        # 2 weeks\n",
    "val_percent = 0.2\n",
    "batch_size = 32"
   ]
  },
  {
   "cell_type": "code",
   "execution_count": 14,
   "metadata": {},
   "outputs": [],
   "source": [
    "input_shape = (length, n_features)"
   ]
  },
  {
   "cell_type": "code",
   "execution_count": 15,
   "metadata": {},
   "outputs": [],
   "source": [
    "from tensorflow import keras\n",
    "\n",
    "# Early Stopping\n",
    "early_stop = EarlyStopping(monitor='val_loss', patience=5)"
   ]
  },
  {
   "cell_type": "markdown",
   "metadata": {},
   "source": [
    "# 5 mins ahead"
   ]
  },
  {
   "cell_type": "code",
   "execution_count": 16,
   "metadata": {},
   "outputs": [],
   "source": [
    "def build_model_5(hp):\n",
    "    # define model\n",
    "    model_5 = Sequential()\n",
    "    \n",
    "    # Simple LSTM layer\n",
    "    model_5.add(LSTM(units=hp.Int(\"Units_1\", min_value=1, max_value=100, step=1),\n",
    "                     activation='relu', return_sequences=True, input_shape=input_shape))\n",
    "    model_5.add(LSTM(units=hp.Int(\"Units_2\", min_value=1, max_value=100, step=1),\n",
    "                     activation='relu'))\n",
    "    \n",
    "    # Final Prediction\n",
    "    model_5.add(Dense(n_features))\n",
    "    \n",
    "    model_5.compile(optimizer=keras.optimizers.Adam(hp.Choice(\"learning_rate\", [1e-2, 1e-3, 1e-4])), \n",
    "        loss='mse',metrics=['MeanAbsoluteError','RootMeanSquaredError','MeanAbsolutePercentageError'])\n",
    "    \n",
    "    return model_5"
   ]
  },
  {
   "cell_type": "code",
   "execution_count": 17,
   "metadata": {},
   "outputs": [],
   "source": [
    "tuner5 = RandomSearch(\n",
    "    build_model_5,\n",
    "    objective=\"val_loss\",\n",
    "    max_trials=30,\n",
    "    executions_per_trial=2,\n",
    "    overwrite=False,\n",
    "    directory=os.path.normpath('C:/RunsOak'),\n",
    "    project_name=\"6a-5\"\n",
    ")"
   ]
  },
  {
   "cell_type": "code",
   "execution_count": 18,
   "metadata": {},
   "outputs": [
    {
     "name": "stdout",
     "output_type": "stream",
     "text": [
      "Search space summary\n",
      "Default search space size: 3\n",
      "Units_1 (Int)\n",
      "{'default': None, 'conditions': [], 'min_value': 1, 'max_value': 100, 'step': 1, 'sampling': None}\n",
      "Units_2 (Int)\n",
      "{'default': None, 'conditions': [], 'min_value': 1, 'max_value': 100, 'step': 1, 'sampling': None}\n",
      "learning_rate (Choice)\n",
      "{'default': 0.01, 'conditions': [], 'values': [0.01, 0.001, 0.0001], 'ordered': True}\n"
     ]
    }
   ],
   "source": [
    "tuner5.search_space_summary()"
   ]
  },
  {
   "cell_type": "code",
   "execution_count": 19,
   "metadata": {},
   "outputs": [
    {
     "name": "stdout",
     "output_type": "stream",
     "text": [
      "Trial 30 Complete [00h 22m 05s]\n",
      "val_loss: 453.4235076904297\n",
      "\n",
      "Best val_loss So Far: 404.3006896972656\n",
      "Total elapsed time: 08h 39m 29s\n",
      "INFO:tensorflow:Oracle triggered exit\n"
     ]
    }
   ],
   "source": [
    "tuner5.search(Xt5, yt5, epochs=200,\n",
    "           validation_split = val_percent,\n",
    "           callbacks = [early_stop],\n",
    "           verbose=2)"
   ]
  },
  {
   "cell_type": "code",
   "execution_count": 20,
   "metadata": {},
   "outputs": [
    {
     "name": "stdout",
     "output_type": "stream",
     "text": [
      "Results summary\n",
      "Results in C:\\RunsOak\\6a-5\n",
      "Showing 1 best trials\n",
      "Objective(name='val_loss', direction='min')\n",
      "Trial summary\n",
      "Hyperparameters:\n",
      "Units_1: 91\n",
      "Units_2: 45\n",
      "learning_rate: 0.001\n",
      "Score: 404.3006896972656\n"
     ]
    }
   ],
   "source": [
    "tuner5.results_summary(1)"
   ]
  },
  {
   "cell_type": "markdown",
   "metadata": {},
   "source": [
    "### Best Model"
   ]
  },
  {
   "cell_type": "code",
   "execution_count": 21,
   "metadata": {},
   "outputs": [],
   "source": [
    "best_hp5 = tuner5.get_best_hyperparameters()[0]\n",
    "model5 = tuner5.hypermodel.build(best_hp5)"
   ]
  },
  {
   "cell_type": "code",
   "execution_count": 22,
   "metadata": {},
   "outputs": [
    {
     "data": {
      "text/plain": [
       "['Best_HP/6a-5']"
      ]
     },
     "execution_count": 22,
     "metadata": {},
     "output_type": "execute_result"
    }
   ],
   "source": [
    "scaler_filename = \"Best_HP/6a-5\"\n",
    "joblib.dump(best_hp5, scaler_filename) "
   ]
  },
  {
   "cell_type": "code",
   "execution_count": 23,
   "metadata": {},
   "outputs": [
    {
     "name": "stdout",
     "output_type": "stream",
     "text": [
      "Model: \"sequential\"\n",
      "_________________________________________________________________\n",
      "Layer (type)                 Output Shape              Param #   \n",
      "=================================================================\n",
      "lstm (LSTM)                  (None, 15, 91)            35672     \n",
      "_________________________________________________________________\n",
      "lstm_1 (LSTM)                (None, 45)                24660     \n",
      "_________________________________________________________________\n",
      "dense (Dense)                (None, 6)                 276       \n",
      "=================================================================\n",
      "Total params: 60,608\n",
      "Trainable params: 60,608\n",
      "Non-trainable params: 0\n",
      "_________________________________________________________________\n"
     ]
    }
   ],
   "source": [
    "model5.summary()"
   ]
  },
  {
   "cell_type": "code",
   "execution_count": 24,
   "metadata": {},
   "outputs": [
    {
     "name": "stdout",
     "output_type": "stream",
     "text": [
      "Epoch 1/100\n",
      "1539/1539 [==============================] - 22s 14ms/step - loss: 1619.4192 - mean_absolute_error: 25.6003 - root_mean_squared_error: 40.2420 - mean_absolute_percentage_error: 40.7189\n",
      "Epoch 2/100\n",
      "1539/1539 [==============================] - 22s 15ms/step - loss: 657.3209 - mean_absolute_error: 18.2033 - root_mean_squared_error: 25.6383 - mean_absolute_percentage_error: 26.0192\n",
      "Epoch 3/100\n",
      "1539/1539 [==============================] - 23s 15ms/step - loss: 582.8234 - mean_absolute_error: 17.1470 - root_mean_squared_error: 24.1417 - mean_absolute_percentage_error: 24.8493\n",
      "Epoch 4/100\n",
      "1539/1539 [==============================] - 22s 14ms/step - loss: 565.5579 - mean_absolute_error: 16.8430 - root_mean_squared_error: 23.7815 - mean_absolute_percentage_error: 24.3318\n",
      "Epoch 5/100\n",
      "1539/1539 [==============================] - 22s 14ms/step - loss: 531.8369 - mean_absolute_error: 16.2982 - root_mean_squared_error: 23.0616 - mean_absolute_percentage_error: 23.6078\n",
      "Epoch 6/100\n",
      "1539/1539 [==============================] - 22s 14ms/step - loss: 525.3358 - mean_absolute_error: 16.2005 - root_mean_squared_error: 22.9202 - mean_absolute_percentage_error: 23.4151\n",
      "Epoch 7/100\n",
      "1539/1539 [==============================] - 22s 14ms/step - loss: 497.4088 - mean_absolute_error: 15.7383 - root_mean_squared_error: 22.3026 - mean_absolute_percentage_error: 22.6942\n",
      "Epoch 8/100\n",
      "1539/1539 [==============================] - 23s 15ms/step - loss: 479.9844 - mean_absolute_error: 15.4645 - root_mean_squared_error: 21.9085 - mean_absolute_percentage_error: 22.3270\n",
      "Epoch 9/100\n",
      "1539/1539 [==============================] - 22s 14ms/step - loss: 460.8295 - mean_absolute_error: 15.1666 - root_mean_squared_error: 21.4669 - mean_absolute_percentage_error: 21.9440\n",
      "Epoch 10/100\n",
      "1539/1539 [==============================] - 22s 14ms/step - loss: 446.0815 - mean_absolute_error: 14.9042 - root_mean_squared_error: 21.1206 - mean_absolute_percentage_error: 21.3318\n",
      "Epoch 11/100\n",
      "1539/1539 [==============================] - 22s 14ms/step - loss: 438.6376 - mean_absolute_error: 14.7516 - root_mean_squared_error: 20.9437 - mean_absolute_percentage_error: 21.0078\n",
      "Epoch 12/100\n",
      "1539/1539 [==============================] - 22s 14ms/step - loss: 430.5159 - mean_absolute_error: 14.6172 - root_mean_squared_error: 20.7489 - mean_absolute_percentage_error: 20.7475\n",
      "Epoch 13/100\n",
      "1539/1539 [==============================] - 23s 15ms/step - loss: 425.1954 - mean_absolute_error: 14.5028 - root_mean_squared_error: 20.6203 - mean_absolute_percentage_error: 20.4544\n",
      "Epoch 14/100\n",
      "1539/1539 [==============================] - 22s 14ms/step - loss: 420.0094 - mean_absolute_error: 14.4170 - root_mean_squared_error: 20.4941 - mean_absolute_percentage_error: 20.2275\n",
      "Epoch 15/100\n",
      "1539/1539 [==============================] - 22s 14ms/step - loss: 415.7556 - mean_absolute_error: 14.3227 - root_mean_squared_error: 20.3901 - mean_absolute_percentage_error: 20.0911\n",
      "Epoch 16/100\n",
      "1539/1539 [==============================] - 22s 14ms/step - loss: 413.6043 - mean_absolute_error: 14.2801 - root_mean_squared_error: 20.3373 - mean_absolute_percentage_error: 19.9834\n",
      "Epoch 17/100\n",
      "1539/1539 [==============================] - 22s 14ms/step - loss: 412.2318 - mean_absolute_error: 14.2479 - root_mean_squared_error: 20.3035 - mean_absolute_percentage_error: 19.8431\n",
      "Epoch 18/100\n",
      "1539/1539 [==============================] - 22s 14ms/step - loss: 406.8648 - mean_absolute_error: 14.1435 - root_mean_squared_error: 20.1709 - mean_absolute_percentage_error: 19.6802\n",
      "Epoch 19/100\n",
      "1539/1539 [==============================] - 23s 15ms/step - loss: 405.9861 - mean_absolute_error: 14.1325 - root_mean_squared_error: 20.1491 - mean_absolute_percentage_error: 19.6581\n",
      "Epoch 20/100\n",
      "1539/1539 [==============================] - 22s 14ms/step - loss: 403.3845 - mean_absolute_error: 14.0763 - root_mean_squared_error: 20.0844 - mean_absolute_percentage_error: 19.5017\n",
      "Epoch 21/100\n",
      "1539/1539 [==============================] - 22s 14ms/step - loss: 402.6199 - mean_absolute_error: 14.0644 - root_mean_squared_error: 20.0654 - mean_absolute_percentage_error: 19.4586\n",
      "Epoch 22/100\n",
      "1539/1539 [==============================] - 22s 14ms/step - loss: 398.7065 - mean_absolute_error: 13.9855 - root_mean_squared_error: 19.9676 - mean_absolute_percentage_error: 19.3220\n",
      "Epoch 23/100\n",
      "1539/1539 [==============================] - 22s 14ms/step - loss: 397.4789 - mean_absolute_error: 13.9608 - root_mean_squared_error: 19.9369 - mean_absolute_percentage_error: 19.2896\n",
      "Epoch 24/100\n",
      "1539/1539 [==============================] - 23s 15ms/step - loss: 396.8024 - mean_absolute_error: 13.9314 - root_mean_squared_error: 19.9199 - mean_absolute_percentage_error: 19.2347\n",
      "Epoch 25/100\n",
      "1539/1539 [==============================] - 22s 14ms/step - loss: 396.0329 - mean_absolute_error: 13.9351 - root_mean_squared_error: 19.9006 - mean_absolute_percentage_error: 19.2053\n",
      "Epoch 26/100\n",
      "1539/1539 [==============================] - 22s 14ms/step - loss: 394.5757 - mean_absolute_error: 13.8830 - root_mean_squared_error: 19.8639 - mean_absolute_percentage_error: 19.1157\n",
      "Epoch 27/100\n",
      "1539/1539 [==============================] - 22s 14ms/step - loss: 390.9394 - mean_absolute_error: 13.8241 - root_mean_squared_error: 19.7722 - mean_absolute_percentage_error: 18.9909\n",
      "Epoch 28/100\n",
      "1539/1539 [==============================] - 22s 14ms/step - loss: 390.2982 - mean_absolute_error: 13.8122 - root_mean_squared_error: 19.7560 - mean_absolute_percentage_error: 19.0502\n",
      "Epoch 29/100\n",
      "1539/1539 [==============================] - 22s 14ms/step - loss: 390.1378 - mean_absolute_error: 13.8078 - root_mean_squared_error: 19.7519 - mean_absolute_percentage_error: 18.9596\n",
      "Epoch 30/100\n",
      "1539/1539 [==============================] - 23s 15ms/step - loss: 388.2990 - mean_absolute_error: 13.7748 - root_mean_squared_error: 19.7053 - mean_absolute_percentage_error: 18.8743\n",
      "Epoch 31/100\n",
      "1539/1539 [==============================] - 22s 14ms/step - loss: 389.8723 - mean_absolute_error: 13.7943 - root_mean_squared_error: 19.7452 - mean_absolute_percentage_error: 18.8999\n",
      "Epoch 32/100\n",
      "1539/1539 [==============================] - 22s 14ms/step - loss: 384.6319 - mean_absolute_error: 13.7056 - root_mean_squared_error: 19.6120 - mean_absolute_percentage_error: 18.7581\n",
      "Epoch 33/100\n",
      "1539/1539 [==============================] - 22s 14ms/step - loss: 384.3100 - mean_absolute_error: 13.6883 - root_mean_squared_error: 19.6038 - mean_absolute_percentage_error: 18.7181\n",
      "Epoch 34/100\n",
      "1539/1539 [==============================] - 22s 14ms/step - loss: 385.4368 - mean_absolute_error: 13.7204 - root_mean_squared_error: 19.6325 - mean_absolute_percentage_error: 18.7149\n",
      "Epoch 35/100\n",
      "1539/1539 [==============================] - 23s 15ms/step - loss: 382.8090 - mean_absolute_error: 13.6526 - root_mean_squared_error: 19.5655 - mean_absolute_percentage_error: 18.6337\n",
      "Epoch 36/100\n",
      "1539/1539 [==============================] - 22s 14ms/step - loss: 384.0102 - mean_absolute_error: 13.7075 - root_mean_squared_error: 19.5962 - mean_absolute_percentage_error: 18.6992\n",
      "Epoch 37/100\n",
      "1539/1539 [==============================] - 22s 14ms/step - loss: 383.0776 - mean_absolute_error: 13.6703 - root_mean_squared_error: 19.5724 - mean_absolute_percentage_error: 18.6441\n",
      "Epoch 38/100\n",
      "1539/1539 [==============================] - 22s 14ms/step - loss: 381.7411 - mean_absolute_error: 13.6295 - root_mean_squared_error: 19.5382 - mean_absolute_percentage_error: 18.4982\n",
      "Epoch 39/100\n",
      "1539/1539 [==============================] - 22s 14ms/step - loss: 378.2029 - mean_absolute_error: 13.5746 - root_mean_squared_error: 19.4474 - mean_absolute_percentage_error: 18.4454\n",
      "Epoch 40/100\n",
      "1539/1539 [==============================] - 22s 14ms/step - loss: 381.6700 - mean_absolute_error: 13.6379 - root_mean_squared_error: 19.5364 - mean_absolute_percentage_error: 18.5261\n",
      "Epoch 41/100\n",
      "1539/1539 [==============================] - 23s 15ms/step - loss: 379.5729 - mean_absolute_error: 13.5944 - root_mean_squared_error: 19.4826 - mean_absolute_percentage_error: 18.3798\n",
      "Epoch 42/100\n",
      "1539/1539 [==============================] - 22s 14ms/step - loss: 379.2336 - mean_absolute_error: 13.5952 - root_mean_squared_error: 19.4739 - mean_absolute_percentage_error: 18.3335\n",
      "Epoch 43/100\n",
      "1539/1539 [==============================] - 22s 14ms/step - loss: 377.6715 - mean_absolute_error: 13.5677 - root_mean_squared_error: 19.4338 - mean_absolute_percentage_error: 18.4073\n",
      "Epoch 44/100\n",
      "1539/1539 [==============================] - 22s 14ms/step - loss: 375.7870 - mean_absolute_error: 13.5398 - root_mean_squared_error: 19.3852 - mean_absolute_percentage_error: 18.3309\n",
      "Epoch 45/100\n",
      "1539/1539 [==============================] - 22s 14ms/step - loss: 375.8796 - mean_absolute_error: 13.5384 - root_mean_squared_error: 19.3876 - mean_absolute_percentage_error: 18.2956\n",
      "Epoch 46/100\n",
      "1539/1539 [==============================] - 22s 15ms/step - loss: 376.3179 - mean_absolute_error: 13.5363 - root_mean_squared_error: 19.3989 - mean_absolute_percentage_error: 18.2789\n",
      "Epoch 47/100\n",
      "1539/1539 [==============================] - 22s 14ms/step - loss: 375.5916 - mean_absolute_error: 13.5167 - root_mean_squared_error: 19.3802 - mean_absolute_percentage_error: 18.2389\n",
      "Epoch 48/100\n",
      "1539/1539 [==============================] - 22s 14ms/step - loss: 372.6518 - mean_absolute_error: 13.4680 - root_mean_squared_error: 19.3042 - mean_absolute_percentage_error: 18.1904\n",
      "Epoch 49/100\n",
      "1539/1539 [==============================] - 22s 14ms/step - loss: 374.2997 - mean_absolute_error: 13.4932 - root_mean_squared_error: 19.3468 - mean_absolute_percentage_error: 18.1152\n",
      "Epoch 50/100\n",
      "1539/1539 [==============================] - 22s 14ms/step - loss: 372.5686 - mean_absolute_error: 13.4717 - root_mean_squared_error: 19.3020 - mean_absolute_percentage_error: 18.0704\n",
      "Epoch 51/100\n",
      "1539/1539 [==============================] - 22s 14ms/step - loss: 372.1550 - mean_absolute_error: 13.4477 - root_mean_squared_error: 19.2913 - mean_absolute_percentage_error: 18.0917\n",
      "Epoch 52/100\n",
      "1539/1539 [==============================] - 22s 15ms/step - loss: 371.6942 - mean_absolute_error: 13.4450 - root_mean_squared_error: 19.2794 - mean_absolute_percentage_error: 18.0904\n",
      "Epoch 53/100\n",
      "1539/1539 [==============================] - 22s 14ms/step - loss: 371.0137 - mean_absolute_error: 13.4384 - root_mean_squared_error: 19.2617 - mean_absolute_percentage_error: 18.0230\n",
      "Epoch 54/100\n",
      "1539/1539 [==============================] - 22s 14ms/step - loss: 370.0272 - mean_absolute_error: 13.4064 - root_mean_squared_error: 19.2361 - mean_absolute_percentage_error: 17.9882\n",
      "Epoch 55/100\n",
      "1539/1539 [==============================] - 22s 14ms/step - loss: 371.3214 - mean_absolute_error: 13.4367 - root_mean_squared_error: 19.2697 - mean_absolute_percentage_error: 18.0685\n",
      "Epoch 56/100\n",
      "1539/1539 [==============================] - 21s 14ms/step - loss: 370.3165 - mean_absolute_error: 13.4268 - root_mean_squared_error: 19.2436 - mean_absolute_percentage_error: 18.0384\n",
      "Epoch 57/100\n",
      "1539/1539 [==============================] - 22s 15ms/step - loss: 370.2215 - mean_absolute_error: 13.4089 - root_mean_squared_error: 19.2411 - mean_absolute_percentage_error: 17.9931\n",
      "Epoch 58/100\n",
      "1539/1539 [==============================] - 22s 14ms/step - loss: 370.4771 - mean_absolute_error: 13.4209 - root_mean_squared_error: 19.2478 - mean_absolute_percentage_error: 18.0228\n",
      "Epoch 59/100\n",
      "1539/1539 [==============================] - 22s 14ms/step - loss: 368.0403 - mean_absolute_error: 13.3705 - root_mean_squared_error: 19.1844 - mean_absolute_percentage_error: 17.9176\n",
      "Epoch 60/100\n",
      "1539/1539 [==============================] - 22s 14ms/step - loss: 368.6348 - mean_absolute_error: 13.3943 - root_mean_squared_error: 19.1999 - mean_absolute_percentage_error: 17.9610\n",
      "Epoch 61/100\n",
      "1539/1539 [==============================] - 22s 14ms/step - loss: 367.2810 - mean_absolute_error: 13.3592 - root_mean_squared_error: 19.1646 - mean_absolute_percentage_error: 17.9280\n",
      "Epoch 62/100\n",
      "1539/1539 [==============================] - 22s 14ms/step - loss: 368.5894 - mean_absolute_error: 13.3808 - root_mean_squared_error: 19.1987 - mean_absolute_percentage_error: 17.8701\n",
      "Epoch 63/100\n",
      "1539/1539 [==============================] - 22s 14ms/step - loss: 367.5226 - mean_absolute_error: 13.3643 - root_mean_squared_error: 19.1709 - mean_absolute_percentage_error: 17.9177\n",
      "Epoch 64/100\n",
      "1539/1539 [==============================] - 22s 14ms/step - loss: 366.9483 - mean_absolute_error: 13.3626 - root_mean_squared_error: 19.1559 - mean_absolute_percentage_error: 17.9775\n",
      "Epoch 65/100\n",
      "1539/1539 [==============================] - 22s 14ms/step - loss: 365.0777 - mean_absolute_error: 13.3259 - root_mean_squared_error: 19.1070 - mean_absolute_percentage_error: 17.8703\n",
      "Epoch 66/100\n",
      "1539/1539 [==============================] - 22s 14ms/step - loss: 366.9911 - mean_absolute_error: 13.3688 - root_mean_squared_error: 19.1570 - mean_absolute_percentage_error: 17.8593\n",
      "Epoch 67/100\n",
      "1539/1539 [==============================] - 21s 14ms/step - loss: 363.8183 - mean_absolute_error: 13.2928 - root_mean_squared_error: 19.0740 - mean_absolute_percentage_error: 17.7583\n",
      "Epoch 68/100\n",
      "1539/1539 [==============================] - 22s 15ms/step - loss: 364.9036 - mean_absolute_error: 13.3164 - root_mean_squared_error: 19.1024 - mean_absolute_percentage_error: 17.8457\n",
      "Epoch 69/100\n",
      "1539/1539 [==============================] - 22s 14ms/step - loss: 364.7781 - mean_absolute_error: 13.3221 - root_mean_squared_error: 19.0992 - mean_absolute_percentage_error: 17.8577\n",
      "Epoch 70/100\n",
      "1539/1539 [==============================] - 22s 14ms/step - loss: 364.0981 - mean_absolute_error: 13.3080 - root_mean_squared_error: 19.0814 - mean_absolute_percentage_error: 17.7555\n",
      "Epoch 71/100\n",
      "1539/1539 [==============================] - 22s 14ms/step - loss: 364.5832 - mean_absolute_error: 13.3135 - root_mean_squared_error: 19.0941 - mean_absolute_percentage_error: 17.8430\n",
      "Epoch 72/100\n",
      "1539/1539 [==============================] - 22s 14ms/step - loss: 364.2951 - mean_absolute_error: 13.3115 - root_mean_squared_error: 19.0865 - mean_absolute_percentage_error: 17.7609\n",
      "Epoch 73/100\n",
      "1539/1539 [==============================] - 22s 14ms/step - loss: 361.7918 - mean_absolute_error: 13.2665 - root_mean_squared_error: 19.0208 - mean_absolute_percentage_error: 17.7217\n",
      "Epoch 74/100\n",
      "1539/1539 [==============================] - 22s 14ms/step - loss: 362.0378 - mean_absolute_error: 13.2707 - root_mean_squared_error: 19.0273 - mean_absolute_percentage_error: 17.7775\n",
      "Epoch 75/100\n",
      "1539/1539 [==============================] - 22s 14ms/step - loss: 362.0354 - mean_absolute_error: 13.2667 - root_mean_squared_error: 19.0272 - mean_absolute_percentage_error: 17.7207\n",
      "Epoch 76/100\n",
      "1539/1539 [==============================] - 21s 14ms/step - loss: 361.5770 - mean_absolute_error: 13.2522 - root_mean_squared_error: 19.0152 - mean_absolute_percentage_error: 17.7175\n",
      "Epoch 77/100\n",
      "1539/1539 [==============================] - 21s 14ms/step - loss: 361.6769 - mean_absolute_error: 13.2576 - root_mean_squared_error: 19.0178 - mean_absolute_percentage_error: 17.7068\n",
      "Epoch 78/100\n",
      "1539/1539 [==============================] - 21s 14ms/step - loss: 360.9735 - mean_absolute_error: 13.2566 - root_mean_squared_error: 18.9993 - mean_absolute_percentage_error: 17.7512\n",
      "Epoch 79/100\n",
      "1539/1539 [==============================] - 22s 14ms/step - loss: 360.4230 - mean_absolute_error: 13.2380 - root_mean_squared_error: 18.9848 - mean_absolute_percentage_error: 17.6608\n",
      "Epoch 80/100\n",
      "1539/1539 [==============================] - 21s 14ms/step - loss: 359.8393 - mean_absolute_error: 13.2309 - root_mean_squared_error: 18.9694 - mean_absolute_percentage_error: 17.6538\n",
      "Epoch 81/100\n",
      "1539/1539 [==============================] - 22s 14ms/step - loss: 359.1006 - mean_absolute_error: 13.2140 - root_mean_squared_error: 18.9500 - mean_absolute_percentage_error: 17.7169\n",
      "Epoch 82/100\n",
      "1539/1539 [==============================] - 21s 14ms/step - loss: 359.3569 - mean_absolute_error: 13.2149 - root_mean_squared_error: 18.9567 - mean_absolute_percentage_error: 17.6657\n",
      "Epoch 83/100\n"
     ]
    },
    {
     "name": "stdout",
     "output_type": "stream",
     "text": [
      "1539/1539 [==============================] - 21s 14ms/step - loss: 359.4111 - mean_absolute_error: 13.2105 - root_mean_squared_error: 18.9581 - mean_absolute_percentage_error: 17.5937\n",
      "Epoch 84/100\n",
      "1539/1539 [==============================] - 21s 14ms/step - loss: 358.7115 - mean_absolute_error: 13.2114 - root_mean_squared_error: 18.9397 - mean_absolute_percentage_error: 17.6077\n",
      "Epoch 85/100\n",
      "1539/1539 [==============================] - 22s 14ms/step - loss: 358.3405 - mean_absolute_error: 13.2041 - root_mean_squared_error: 18.9299 - mean_absolute_percentage_error: 17.6935\n",
      "Epoch 86/100\n",
      "1539/1539 [==============================] - 22s 14ms/step - loss: 359.0842 - mean_absolute_error: 13.2042 - root_mean_squared_error: 18.9495 - mean_absolute_percentage_error: 17.6102\n",
      "Epoch 87/100\n",
      "1539/1539 [==============================] - 22s 14ms/step - loss: 356.4900 - mean_absolute_error: 13.1647 - root_mean_squared_error: 18.8809 - mean_absolute_percentage_error: 17.6551\n",
      "Epoch 88/100\n",
      "1539/1539 [==============================] - 21s 14ms/step - loss: 358.2809 - mean_absolute_error: 13.2066 - root_mean_squared_error: 18.9283 - mean_absolute_percentage_error: 17.6378\n",
      "Epoch 89/100\n",
      "1539/1539 [==============================] - 21s 14ms/step - loss: 356.6318 - mean_absolute_error: 13.1582 - root_mean_squared_error: 18.8847 - mean_absolute_percentage_error: 17.5162\n",
      "Epoch 90/100\n",
      "1539/1539 [==============================] - 23s 15ms/step - loss: 356.5543 - mean_absolute_error: 13.1624 - root_mean_squared_error: 18.8826 - mean_absolute_percentage_error: 17.5946\n",
      "Epoch 91/100\n",
      "1539/1539 [==============================] - 21s 14ms/step - loss: 355.1603 - mean_absolute_error: 13.1395 - root_mean_squared_error: 18.8457 - mean_absolute_percentage_error: 17.5543\n",
      "Epoch 92/100\n",
      "1539/1539 [==============================] - 22s 14ms/step - loss: 356.1386 - mean_absolute_error: 13.1654 - root_mean_squared_error: 18.8716 - mean_absolute_percentage_error: 17.5905\n",
      "Epoch 93/100\n",
      "1539/1539 [==============================] - 21s 14ms/step - loss: 355.8366 - mean_absolute_error: 13.1516 - root_mean_squared_error: 18.8636 - mean_absolute_percentage_error: 17.5163\n",
      "Epoch 94/100\n",
      "1539/1539 [==============================] - 21s 14ms/step - loss: 354.8747 - mean_absolute_error: 13.1374 - root_mean_squared_error: 18.8381 - mean_absolute_percentage_error: 17.5463\n",
      "Epoch 95/100\n",
      "1539/1539 [==============================] - 22s 14ms/step - loss: 355.8313 - mean_absolute_error: 13.1560 - root_mean_squared_error: 18.8635 - mean_absolute_percentage_error: 17.6367\n",
      "Epoch 96/100\n",
      "1539/1539 [==============================] - 22s 14ms/step - loss: 355.0221 - mean_absolute_error: 13.1391 - root_mean_squared_error: 18.8420 - mean_absolute_percentage_error: 17.5337\n",
      "Epoch 97/100\n",
      "1539/1539 [==============================] - 21s 14ms/step - loss: 354.1239 - mean_absolute_error: 13.1245 - root_mean_squared_error: 18.8182 - mean_absolute_percentage_error: 17.4607 0s - loss: 354.4951 - mean_absolute_error: 13.1278 - root_mean_squared_error: 18.8281 - mean_absolute_percentag\n",
      "Epoch 98/100\n",
      "1539/1539 [==============================] - 22s 14ms/step - loss: 353.4381 - mean_absolute_error: 13.1160 - root_mean_squared_error: 18.8000 - mean_absolute_percentage_error: 17.4778\n",
      "Epoch 99/100\n",
      "1539/1539 [==============================] - 21s 14ms/step - loss: 352.6840 - mean_absolute_error: 13.1079 - root_mean_squared_error: 18.7799 - mean_absolute_percentage_error: 17.5463\n",
      "Epoch 100/100\n",
      "1539/1539 [==============================] - 21s 14ms/step - loss: 353.3663 - mean_absolute_error: 13.1169 - root_mean_squared_error: 18.7980 - mean_absolute_percentage_error: 17.4580\n"
     ]
    },
    {
     "data": {
      "text/plain": [
       "<tensorflow.python.keras.callbacks.History at 0x1c6110be9a0>"
      ]
     },
     "execution_count": 24,
     "metadata": {},
     "output_type": "execute_result"
    }
   ],
   "source": [
    "model5.fit(Xt5, yt5, \n",
    "           epochs = 100, \n",
    "           verbose = 1)"
   ]
  },
  {
   "cell_type": "code",
   "execution_count": 25,
   "metadata": {},
   "outputs": [
    {
     "name": "stdout",
     "output_type": "stream",
     "text": [
      "WARNING:tensorflow:From C:\\Users\\esugom\\Anaconda3\\lib\\site-packages\\tensorflow\\python\\training\\tracking\\tracking.py:111: Model.state_updates (from tensorflow.python.keras.engine.training) is deprecated and will be removed in a future version.\n",
      "Instructions for updating:\n",
      "This property should not be used in TensorFlow 2.0, as updates are applied automatically.\n",
      "WARNING:tensorflow:From C:\\Users\\esugom\\Anaconda3\\lib\\site-packages\\tensorflow\\python\\training\\tracking\\tracking.py:111: Layer.updates (from tensorflow.python.keras.engine.base_layer) is deprecated and will be removed in a future version.\n",
      "Instructions for updating:\n",
      "This property should not be used in TensorFlow 2.0, as updates are applied automatically.\n",
      "INFO:tensorflow:Assets written to: my_dir/6a-5\\assets\n"
     ]
    }
   ],
   "source": [
    "model5.save(\"my_dir/6a-5\")"
   ]
  },
  {
   "cell_type": "code",
   "execution_count": 26,
   "metadata": {},
   "outputs": [],
   "source": [
    "metrics5 = pd.DataFrame(model5.history.history)"
   ]
  },
  {
   "cell_type": "code",
   "execution_count": 27,
   "metadata": {},
   "outputs": [
    {
     "data": {
      "text/plain": [
       "<AxesSubplot:>"
      ]
     },
     "execution_count": 27,
     "metadata": {},
     "output_type": "execute_result"
    },
    {
     "data": {
      "image/png": "[encoded data removed]",
      "text/plain": [
       "<Figure size 432x288 with 1 Axes>"
      ]
     },
     "metadata": {
      "needs_background": "light"
     },
     "output_type": "display_data"
    }
   ],
   "source": [
    "metrics5[['loss']].plot()"
   ]
  },
  {
   "cell_type": "code",
   "execution_count": 28,
   "metadata": {},
   "outputs": [],
   "source": [
    "# model5 = keras.models.load_model(\"my_dir/6a-5\")"
   ]
  },
  {
   "cell_type": "code",
   "execution_count": 30,
   "metadata": {},
   "outputs": [],
   "source": [
    "# RA10 = ra.RA_10(np.asarray(yv5), np.asarray(test_predictions5))\n",
    "# RA15 = ra.RA_15(np.asarray(yv5), np.asarray(test_predictions5))\n",
    "# RA20 = ra.RA_20(np.asarray(yv5), np.asarray(test_predictions5))\n",
    "\n",
    "# res5 = [RA10, RA15, RA20]\n",
    "# print(res5)"
   ]
  },
  {
   "cell_type": "code",
   "execution_count": 31,
   "metadata": {},
   "outputs": [],
   "source": [
    "# # Create Figure (empty canvas)\n",
    "# fig = plt.figure(figsize=(18,6))\n",
    "\n",
    "# # Add set of axes to figure\n",
    "# axes = fig.add_axes([0, 0, 1, 1]) # left, bottom, width, height (range 0 to 1)\n",
    "\n",
    "# # Plot on that set of axes\n",
    "# axes.plot(yv5, lw=1.2, label=r'$Actual$', color='blue')\n",
    "# axes.plot(test_predictions5, lw=0.8, label=r'$Predicted$', color='green')\n",
    "# axes.plot((yv5-test_predictions5), lw=1, label=r'$Error$', color='red')\n",
    "\n",
    "# #axes.set_xlim(0,24)\n",
    "# axes.set_ylim(-170,600)\n",
    "# axes.set_xlabel('Time (h)')\n",
    "# axes.set_ylabel('Flow (veh/5-Min)')\n",
    "\n",
    "# axes.legend(loc=1)\n",
    "# axes.grid()\n",
    "\n",
    "# axes.set_xticks([144 + i for i in range(0, 4032, 288)])\n",
    "# axes.set_xticklabels(['Mon', 'Tues', 'Wed', 'Thur', 'Fri', 'Sat', 'Sun']*2)\n",
    "\n",
    "# plt.show()"
   ]
  },
  {
   "cell_type": "code",
   "execution_count": 32,
   "metadata": {},
   "outputs": [],
   "source": [
    "# # Create Figure (empty canvas)\n",
    "# fig = plt.figure(figsize=(18,6))\n",
    "\n",
    "# # Add set of axes to figure\n",
    "# axes = fig.add_axes([0, 0, 1, 1]) # left, bottom, width, height (range 0 to 1)\n",
    "\n",
    "# # Plot on that set of axes\n",
    "# axes.plot(yv5, lw=1.2, label=r'$Actual$', color='blue')\n",
    "# axes.plot(test_predictions5, lw=0.8, label=r'$Predicted$', color='green')\n",
    "# axes.plot((yv5-test_predictions5), lw=1, label=r'$Error$', color='red')\n",
    "\n",
    "# axes.set_xlim(0,300)\n",
    "# axes.set_ylim(-170,600)\n",
    "# axes.set_xlabel('Time (h)')\n",
    "# axes.set_ylabel('Flow (veh/5-Min)')\n",
    "\n",
    "# axes.legend(loc=1)\n",
    "# axes.grid()\n",
    "\n",
    "# axes.set_xticks([0, 36, 72, 108, 144, 180, 216, 252, 288])\n",
    "# axes.set_xticklabels(['00:00', '03:00', '06:00', '09:00', '12:00', '15:00', '18:00', '21:00','00:00'])\n",
    "\n",
    "# plt.show()"
   ]
  },
  {
   "cell_type": "markdown",
   "metadata": {},
   "source": [
    "# 15 mins ahead"
   ]
  },
  {
   "cell_type": "code",
   "execution_count": 33,
   "metadata": {},
   "outputs": [],
   "source": [
    "def build_model_15(hp):\n",
    "    # define model\n",
    "    model_15 = Sequential()\n",
    "    \n",
    "    # 2 layer LSTM\n",
    "    model_15.add(LSTM(units=hp.Int(\"Units_1\", min_value=1, max_value=100, step=1),\n",
    "                     activation='relu', return_sequences=True, input_shape=input_shape))\n",
    "    model_15.add(LSTM(units=hp.Int(\"Units_2\", min_value=1, max_value=100, step=1),\n",
    "                     activation='relu'))\n",
    "    \n",
    "    # Final Prediction\n",
    "    model_15.add(Dense(n_features))\n",
    "    \n",
    "    model_15.compile(optimizer=keras.optimizers.Adam(hp.Choice(\"learning_rate\", [1e-2, 1e-3, 1e-4])), \n",
    "        loss='mse',metrics=['MeanAbsoluteError','RootMeanSquaredError','MeanAbsolutePercentageError'])\n",
    "    \n",
    "    return model_15"
   ]
  },
  {
   "cell_type": "code",
   "execution_count": 34,
   "metadata": {},
   "outputs": [],
   "source": [
    "tuner15 = RandomSearch(\n",
    "    build_model_15,\n",
    "    objective=\"val_loss\",\n",
    "    max_trials=30,\n",
    "    executions_per_trial=2,\n",
    "    overwrite=False,\n",
    "    directory=os.path.normpath('C:/RunsOak'),\n",
    "    project_name=\"6a-15\"\n",
    ")"
   ]
  },
  {
   "cell_type": "code",
   "execution_count": 35,
   "metadata": {},
   "outputs": [
    {
     "name": "stdout",
     "output_type": "stream",
     "text": [
      "Search space summary\n",
      "Default search space size: 3\n",
      "Units_1 (Int)\n",
      "{'default': None, 'conditions': [], 'min_value': 1, 'max_value': 100, 'step': 1, 'sampling': None}\n",
      "Units_2 (Int)\n",
      "{'default': None, 'conditions': [], 'min_value': 1, 'max_value': 100, 'step': 1, 'sampling': None}\n",
      "learning_rate (Choice)\n",
      "{'default': 0.01, 'conditions': [], 'values': [0.01, 0.001, 0.0001], 'ordered': True}\n"
     ]
    }
   ],
   "source": [
    "tuner15.search_space_summary()"
   ]
  },
  {
   "cell_type": "code",
   "execution_count": 36,
   "metadata": {},
   "outputs": [
    {
     "name": "stdout",
     "output_type": "stream",
     "text": [
      "Trial 30 Complete [00h 17m 50s]\n",
      "val_loss: 523.2871398925781\n",
      "\n",
      "Best val_loss So Far: 483.07928466796875\n",
      "Total elapsed time: 07h 27m 49s\n",
      "INFO:tensorflow:Oracle triggered exit\n"
     ]
    }
   ],
   "source": [
    "tuner15.search(Xt15, yt15, epochs=200,\n",
    "            validation_split = val_percent,\n",
    "            callbacks=[early_stop], \n",
    "            verbose=2)"
   ]
  },
  {
   "cell_type": "code",
   "execution_count": 37,
   "metadata": {},
   "outputs": [
    {
     "name": "stdout",
     "output_type": "stream",
     "text": [
      "Results summary\n",
      "Results in C:\\RunsOak\\6a-15\n",
      "Showing 1 best trials\n",
      "Objective(name='val_loss', direction='min')\n",
      "Trial summary\n",
      "Hyperparameters:\n",
      "Units_1: 35\n",
      "Units_2: 46\n",
      "learning_rate: 0.001\n",
      "Score: 483.07928466796875\n"
     ]
    }
   ],
   "source": [
    "tuner15.results_summary(1)"
   ]
  },
  {
   "cell_type": "markdown",
   "metadata": {},
   "source": [
    "### Best Model"
   ]
  },
  {
   "cell_type": "code",
   "execution_count": 38,
   "metadata": {},
   "outputs": [],
   "source": [
    "best_hp15 = tuner15.get_best_hyperparameters()[0]\n",
    "model15 = tuner15.hypermodel.build(best_hp15)"
   ]
  },
  {
   "cell_type": "code",
   "execution_count": 39,
   "metadata": {},
   "outputs": [
    {
     "data": {
      "text/plain": [
       "['Best_HP/6a-15']"
      ]
     },
     "execution_count": 39,
     "metadata": {},
     "output_type": "execute_result"
    }
   ],
   "source": [
    "scaler_filename = \"Best_HP/6a-15\"\n",
    "joblib.dump(best_hp15, scaler_filename) "
   ]
  },
  {
   "cell_type": "code",
   "execution_count": 40,
   "metadata": {},
   "outputs": [
    {
     "name": "stdout",
     "output_type": "stream",
     "text": [
      "Model: \"sequential\"\n",
      "_________________________________________________________________\n",
      "Layer (type)                 Output Shape              Param #   \n",
      "=================================================================\n",
      "lstm (LSTM)                  (None, 15, 35)            5880      \n",
      "_________________________________________________________________\n",
      "lstm_1 (LSTM)                (None, 46)                15088     \n",
      "_________________________________________________________________\n",
      "dense (Dense)                (None, 6)                 282       \n",
      "=================================================================\n",
      "Total params: 21,250\n",
      "Trainable params: 21,250\n",
      "Non-trainable params: 0\n",
      "_________________________________________________________________\n"
     ]
    }
   ],
   "source": [
    "model15.summary()"
   ]
  },
  {
   "cell_type": "code",
   "execution_count": 41,
   "metadata": {},
   "outputs": [
    {
     "name": "stdout",
     "output_type": "stream",
     "text": [
      "Epoch 1/100\n",
      "1539/1539 [==============================] - 18s 12ms/step - loss: 2043.3485 - mean_absolute_error: 29.2424 - root_mean_squared_error: 45.2034 - mean_absolute_percentage_error: 46.8579\n",
      "Epoch 2/100\n",
      "1539/1539 [==============================] - 18s 12ms/step - loss: 764.2783 - mean_absolute_error: 19.6643 - root_mean_squared_error: 27.6456 - mean_absolute_percentage_error: 28.1217\n",
      "Epoch 3/100\n",
      "1539/1539 [==============================] - 17s 11ms/step - loss: 684.9573 - mean_absolute_error: 18.6212 - root_mean_squared_error: 26.1717 - mean_absolute_percentage_error: 26.6155\n",
      "Epoch 4/100\n",
      "1539/1539 [==============================] - 17s 11ms/step - loss: 643.6826 - mean_absolute_error: 18.0092 - root_mean_squared_error: 25.3709 - mean_absolute_percentage_error: 25.8670\n",
      "Epoch 5/100\n",
      "1539/1539 [==============================] - 17s 11ms/step - loss: 622.7924 - mean_absolute_error: 17.6788 - root_mean_squared_error: 24.9558 - mean_absolute_percentage_error: 25.4022\n",
      "Epoch 6/100\n",
      "1539/1539 [==============================] - 17s 11ms/step - loss: 614.9218 - mean_absolute_error: 17.5307 - root_mean_squared_error: 24.7976 - mean_absolute_percentage_error: 25.2598\n",
      "Epoch 7/100\n",
      "1539/1539 [==============================] - 17s 11ms/step - loss: 602.7706 - mean_absolute_error: 17.3595 - root_mean_squared_error: 24.5514 - mean_absolute_percentage_error: 25.0302\n",
      "Epoch 8/100\n",
      "1539/1539 [==============================] - 17s 11ms/step - loss: 589.2759 - mean_absolute_error: 17.1391 - root_mean_squared_error: 24.2750 - mean_absolute_percentage_error: 24.7087\n",
      "Epoch 9/100\n",
      "1539/1539 [==============================] - 17s 11ms/step - loss: 577.0771 - mean_absolute_error: 16.9280 - root_mean_squared_error: 24.0224 - mean_absolute_percentage_error: 24.3924\n",
      "Epoch 10/100\n",
      "1539/1539 [==============================] - 17s 11ms/step - loss: 573.1544 - mean_absolute_error: 16.8658 - root_mean_squared_error: 23.9406 - mean_absolute_percentage_error: 24.2542\n",
      "Epoch 11/100\n",
      "1539/1539 [==============================] - 17s 11ms/step - loss: 560.8569 - mean_absolute_error: 16.6689 - root_mean_squared_error: 23.6824 - mean_absolute_percentage_error: 23.9331\n",
      "Epoch 12/100\n",
      "1539/1539 [==============================] - 17s 11ms/step - loss: 555.1646 - mean_absolute_error: 16.5784 - root_mean_squared_error: 23.5619 - mean_absolute_percentage_error: 23.9193\n",
      "Epoch 13/100\n",
      "1539/1539 [==============================] - 17s 11ms/step - loss: 541.4828 - mean_absolute_error: 16.3612 - root_mean_squared_error: 23.2698 - mean_absolute_percentage_error: 23.5117\n",
      "Epoch 14/100\n",
      "1539/1539 [==============================] - 17s 11ms/step - loss: 540.7968 - mean_absolute_error: 16.3484 - root_mean_squared_error: 23.2551 - mean_absolute_percentage_error: 23.4733\n",
      "Epoch 15/100\n",
      "1539/1539 [==============================] - 17s 11ms/step - loss: 533.2264 - mean_absolute_error: 16.2383 - root_mean_squared_error: 23.0917 - mean_absolute_percentage_error: 23.2994\n",
      "Epoch 16/100\n",
      "1539/1539 [==============================] - 17s 11ms/step - loss: 525.9045 - mean_absolute_error: 16.1079 - root_mean_squared_error: 22.9326 - mean_absolute_percentage_error: 23.1374\n",
      "Epoch 17/100\n",
      "1539/1539 [==============================] - 17s 11ms/step - loss: 525.5709 - mean_absolute_error: 16.0975 - root_mean_squared_error: 22.9253 - mean_absolute_percentage_error: 23.0715\n",
      "Epoch 18/100\n",
      "1539/1539 [==============================] - 17s 11ms/step - loss: 515.7541 - mean_absolute_error: 15.9460 - root_mean_squared_error: 22.7102 - mean_absolute_percentage_error: 22.8279\n",
      "Epoch 19/100\n",
      "1539/1539 [==============================] - 17s 11ms/step - loss: 511.1198 - mean_absolute_error: 15.8857 - root_mean_squared_error: 22.6080 - mean_absolute_percentage_error: 22.7928\n",
      "Epoch 20/100\n",
      "1539/1539 [==============================] - 17s 11ms/step - loss: 505.0380 - mean_absolute_error: 15.7751 - root_mean_squared_error: 22.4730 - mean_absolute_percentage_error: 22.7050\n",
      "Epoch 21/100\n",
      "1539/1539 [==============================] - 17s 11ms/step - loss: 504.6879 - mean_absolute_error: 15.7691 - root_mean_squared_error: 22.4653 - mean_absolute_percentage_error: 22.6306\n",
      "Epoch 22/100\n",
      "1539/1539 [==============================] - 17s 11ms/step - loss: 503.6076 - mean_absolute_error: 15.7532 - root_mean_squared_error: 22.4412 - mean_absolute_percentage_error: 22.5395\n",
      "Epoch 23/100\n",
      "1539/1539 [==============================] - 18s 11ms/step - loss: 496.4829 - mean_absolute_error: 15.6288 - root_mean_squared_error: 22.2819 - mean_absolute_percentage_error: 22.3933\n",
      "Epoch 24/100\n",
      "1539/1539 [==============================] - 17s 11ms/step - loss: 494.6437 - mean_absolute_error: 15.5813 - root_mean_squared_error: 22.2406 - mean_absolute_percentage_error: 22.3494\n",
      "Epoch 25/100\n",
      "1539/1539 [==============================] - 17s 11ms/step - loss: 496.7798 - mean_absolute_error: 15.6319 - root_mean_squared_error: 22.2886 - mean_absolute_percentage_error: 22.4303\n",
      "Epoch 26/100\n",
      "1539/1539 [==============================] - 17s 11ms/step - loss: 489.4837 - mean_absolute_error: 15.5109 - root_mean_squared_error: 22.1243 - mean_absolute_percentage_error: 22.1592\n",
      "Epoch 27/100\n",
      "1539/1539 [==============================] - 17s 11ms/step - loss: 486.5315 - mean_absolute_error: 15.4684 - root_mean_squared_error: 22.0575 - mean_absolute_percentage_error: 22.2067\n",
      "Epoch 28/100\n",
      "1539/1539 [==============================] - 17s 11ms/step - loss: 489.2751 - mean_absolute_error: 15.5093 - root_mean_squared_error: 22.1196 - mean_absolute_percentage_error: 22.1496\n",
      "Epoch 29/100\n",
      "1539/1539 [==============================] - 17s 11ms/step - loss: 489.9796 - mean_absolute_error: 15.4992 - root_mean_squared_error: 22.1355 - mean_absolute_percentage_error: 22.1194\n",
      "Epoch 30/100\n",
      "1539/1539 [==============================] - 18s 11ms/step - loss: 482.1670 - mean_absolute_error: 15.3653 - root_mean_squared_error: 21.9583 - mean_absolute_percentage_error: 21.9425\n",
      "Epoch 31/100\n",
      "1539/1539 [==============================] - 17s 11ms/step - loss: 482.3609 - mean_absolute_error: 15.3626 - root_mean_squared_error: 21.9627 - mean_absolute_percentage_error: 21.9177\n",
      "Epoch 32/100\n",
      "1539/1539 [==============================] - 17s 11ms/step - loss: 476.4201 - mean_absolute_error: 15.2747 - root_mean_squared_error: 21.8271 - mean_absolute_percentage_error: 21.7158\n",
      "Epoch 33/100\n",
      "1539/1539 [==============================] - 17s 11ms/step - loss: 477.0077 - mean_absolute_error: 15.2801 - root_mean_squared_error: 21.8405 - mean_absolute_percentage_error: 21.6165\n",
      "Epoch 34/100\n",
      "1539/1539 [==============================] - 17s 11ms/step - loss: 476.0625 - mean_absolute_error: 15.2512 - root_mean_squared_error: 21.8189 - mean_absolute_percentage_error: 21.6611\n",
      "Epoch 35/100\n",
      "1539/1539 [==============================] - 17s 11ms/step - loss: 482.6078 - mean_absolute_error: 15.3706 - root_mean_squared_error: 21.9683 - mean_absolute_percentage_error: 21.8294\n",
      "Epoch 36/100\n",
      "1539/1539 [==============================] - 17s 11ms/step - loss: 471.7948 - mean_absolute_error: 15.1737 - root_mean_squared_error: 21.7208 - mean_absolute_percentage_error: 21.3486\n",
      "Epoch 37/100\n",
      "1539/1539 [==============================] - 18s 11ms/step - loss: 476.5569 - mean_absolute_error: 15.2590 - root_mean_squared_error: 21.8302 - mean_absolute_percentage_error: 21.5107\n",
      "Epoch 38/100\n",
      "1539/1539 [==============================] - 17s 11ms/step - loss: 473.4380 - mean_absolute_error: 15.2112 - root_mean_squared_error: 21.7586 - mean_absolute_percentage_error: 21.4525\n",
      "Epoch 39/100\n",
      "1539/1539 [==============================] - 17s 11ms/step - loss: 467.9957 - mean_absolute_error: 15.1084 - root_mean_squared_error: 21.6332 - mean_absolute_percentage_error: 21.2445\n",
      "Epoch 40/100\n",
      "1539/1539 [==============================] - 17s 11ms/step - loss: 473.6173 - mean_absolute_error: 15.1950 - root_mean_squared_error: 21.7627 - mean_absolute_percentage_error: 21.3086\n",
      "Epoch 41/100\n",
      "1539/1539 [==============================] - 17s 11ms/step - loss: 468.1942 - mean_absolute_error: 15.1057 - root_mean_squared_error: 21.6378 - mean_absolute_percentage_error: 21.2172\n",
      "Epoch 42/100\n",
      "1539/1539 [==============================] - 17s 11ms/step - loss: 466.8993 - mean_absolute_error: 15.0767 - root_mean_squared_error: 21.6079 - mean_absolute_percentage_error: 21.1356\n",
      "Epoch 43/100\n",
      "1539/1539 [==============================] - 17s 11ms/step - loss: 466.4380 - mean_absolute_error: 15.0797 - root_mean_squared_error: 21.5972 - mean_absolute_percentage_error: 21.1292\n",
      "Epoch 44/100\n",
      "1539/1539 [==============================] - 18s 11ms/step - loss: 463.6427 - mean_absolute_error: 15.0196 - root_mean_squared_error: 21.5324 - mean_absolute_percentage_error: 21.2394\n",
      "Epoch 45/100\n",
      "1539/1539 [==============================] - 17s 11ms/step - loss: 469.2358 - mean_absolute_error: 15.1193 - root_mean_squared_error: 21.6619 - mean_absolute_percentage_error: 21.2365\n",
      "Epoch 46/100\n",
      "1539/1539 [==============================] - 17s 11ms/step - loss: 460.5556 - mean_absolute_error: 14.9568 - root_mean_squared_error: 21.4606 - mean_absolute_percentage_error: 21.0445\n",
      "Epoch 47/100\n",
      "1539/1539 [==============================] - 17s 11ms/step - loss: 459.9736 - mean_absolute_error: 14.9665 - root_mean_squared_error: 21.4470 - mean_absolute_percentage_error: 21.1862\n",
      "Epoch 48/100\n",
      "1539/1539 [==============================] - 17s 11ms/step - loss: 462.1763 - mean_absolute_error: 14.9951 - root_mean_squared_error: 21.4983 - mean_absolute_percentage_error: 21.0962\n",
      "Epoch 49/100\n",
      "1539/1539 [==============================] - 17s 11ms/step - loss: 462.2870 - mean_absolute_error: 15.0018 - root_mean_squared_error: 21.5009 - mean_absolute_percentage_error: 21.0608\n",
      "Epoch 50/100\n",
      "1539/1539 [==============================] - 17s 11ms/step - loss: 458.8704 - mean_absolute_error: 14.9217 - root_mean_squared_error: 21.4213 - mean_absolute_percentage_error: 20.8930\n",
      "Epoch 51/100\n",
      "1539/1539 [==============================] - 18s 11ms/step - loss: 460.1675 - mean_absolute_error: 14.9526 - root_mean_squared_error: 21.4515 - mean_absolute_percentage_error: 20.9480\n",
      "Epoch 52/100\n",
      "1539/1539 [==============================] - 17s 11ms/step - loss: 459.5623 - mean_absolute_error: 14.9492 - root_mean_squared_error: 21.4374 - mean_absolute_percentage_error: 21.0058\n",
      "Epoch 53/100\n",
      "1539/1539 [==============================] - 17s 11ms/step - loss: 456.4995 - mean_absolute_error: 14.8897 - root_mean_squared_error: 21.3658 - mean_absolute_percentage_error: 20.9352\n",
      "Epoch 54/100\n",
      "1539/1539 [==============================] - 18s 11ms/step - loss: 454.4169 - mean_absolute_error: 14.8683 - root_mean_squared_error: 21.3171 - mean_absolute_percentage_error: 20.8997\n",
      "Epoch 55/100\n",
      "1539/1539 [==============================] - 17s 11ms/step - loss: 457.6689 - mean_absolute_error: 14.9238 - root_mean_squared_error: 21.3932 - mean_absolute_percentage_error: 20.9578\n",
      "Epoch 56/100\n",
      "1539/1539 [==============================] - 17s 11ms/step - loss: 457.1911 - mean_absolute_error: 14.9033 - root_mean_squared_error: 21.3820 - mean_absolute_percentage_error: 20.9247\n",
      "Epoch 57/100\n",
      "1539/1539 [==============================] - 17s 11ms/step - loss: 453.5929 - mean_absolute_error: 14.8536 - root_mean_squared_error: 21.2977 - mean_absolute_percentage_error: 20.8545\n",
      "Epoch 58/100\n",
      "1539/1539 [==============================] - 18s 12ms/step - loss: 455.2755 - mean_absolute_error: 14.8724 - root_mean_squared_error: 21.3372 - mean_absolute_percentage_error: 20.8694\n",
      "Epoch 59/100\n",
      "1539/1539 [==============================] - 17s 11ms/step - loss: 452.1324 - mean_absolute_error: 14.8147 - root_mean_squared_error: 21.2634 - mean_absolute_percentage_error: 20.7525\n",
      "Epoch 60/100\n",
      "1539/1539 [==============================] - 17s 11ms/step - loss: 456.8876 - mean_absolute_error: 14.8895 - root_mean_squared_error: 21.3749 - mean_absolute_percentage_error: 20.8017\n",
      "Epoch 61/100\n",
      "1539/1539 [==============================] - 17s 11ms/step - loss: 453.0914 - mean_absolute_error: 14.8382 - root_mean_squared_error: 21.2859 - mean_absolute_percentage_error: 20.7227\n",
      "Epoch 62/100\n",
      "1539/1539 [==============================] - 17s 11ms/step - loss: 451.0947 - mean_absolute_error: 14.8052 - root_mean_squared_error: 21.2390 - mean_absolute_percentage_error: 20.7492\n",
      "Epoch 63/100\n",
      "1539/1539 [==============================] - 17s 11ms/step - loss: 458.1848 - mean_absolute_error: 14.9109 - root_mean_squared_error: 21.4053 - mean_absolute_percentage_error: 20.8279\n",
      "Epoch 64/100\n",
      "1539/1539 [==============================] - 17s 11ms/step - loss: 448.8288 - mean_absolute_error: 14.7619 - root_mean_squared_error: 21.1856 - mean_absolute_percentage_error: 20.6635\n",
      "Epoch 65/100\n",
      "1539/1539 [==============================] - 18s 12ms/step - loss: 448.6422 - mean_absolute_error: 14.7625 - root_mean_squared_error: 21.1812 - mean_absolute_percentage_error: 20.6340\n",
      "Epoch 66/100\n",
      "1539/1539 [==============================] - 17s 11ms/step - loss: 450.4085 - mean_absolute_error: 14.7863 - root_mean_squared_error: 21.2228 - mean_absolute_percentage_error: 20.7502\n",
      "Epoch 67/100\n",
      "1539/1539 [==============================] - 17s 11ms/step - loss: 446.6681 - mean_absolute_error: 14.7314 - root_mean_squared_error: 21.1345 - mean_absolute_percentage_error: 20.6053\n",
      "Epoch 68/100\n",
      "1539/1539 [==============================] - 17s 11ms/step - loss: 449.1447 - mean_absolute_error: 14.7726 - root_mean_squared_error: 21.1930 - mean_absolute_percentage_error: 20.6592\n",
      "Epoch 69/100\n",
      "1539/1539 [==============================] - 17s 11ms/step - loss: 448.1035 - mean_absolute_error: 14.7499 - root_mean_squared_error: 21.1684 - mean_absolute_percentage_error: 20.5702\n",
      "Epoch 70/100\n",
      "1539/1539 [==============================] - 17s 11ms/step - loss: 446.7979 - mean_absolute_error: 14.7234 - root_mean_squared_error: 21.1376 - mean_absolute_percentage_error: 20.5929\n",
      "Epoch 71/100\n",
      "1539/1539 [==============================] - 17s 11ms/step - loss: 448.6628 - mean_absolute_error: 14.7723 - root_mean_squared_error: 21.1817 - mean_absolute_percentage_error: 20.7260\n",
      "Epoch 72/100\n",
      "1539/1539 [==============================] - 18s 12ms/step - loss: 447.4810 - mean_absolute_error: 14.7374 - root_mean_squared_error: 21.1538 - mean_absolute_percentage_error: 20.6034\n",
      "Epoch 73/100\n",
      "1539/1539 [==============================] - 17s 11ms/step - loss: 447.1259 - mean_absolute_error: 14.7316 - root_mean_squared_error: 21.1454 - mean_absolute_percentage_error: 20.5079\n",
      "Epoch 74/100\n",
      "1539/1539 [==============================] - 17s 11ms/step - loss: 443.9286 - mean_absolute_error: 14.6816 - root_mean_squared_error: 21.0696 - mean_absolute_percentage_error: 20.5174\n",
      "Epoch 75/100\n",
      "1539/1539 [==============================] - 17s 11ms/step - loss: 444.4620 - mean_absolute_error: 14.6895 - root_mean_squared_error: 21.0823 - mean_absolute_percentage_error: 20.5188\n",
      "Epoch 76/100\n",
      "1539/1539 [==============================] - 17s 11ms/step - loss: 443.6223 - mean_absolute_error: 14.6808 - root_mean_squared_error: 21.0623 - mean_absolute_percentage_error: 20.4664\n",
      "Epoch 77/100\n",
      "1539/1539 [==============================] - 17s 11ms/step - loss: 444.9934 - mean_absolute_error: 14.7025 - root_mean_squared_error: 21.0949 - mean_absolute_percentage_error: 20.5233\n",
      "Epoch 78/100\n",
      "1539/1539 [==============================] - 17s 11ms/step - loss: 442.4849 - mean_absolute_error: 14.6559 - root_mean_squared_error: 21.0353 - mean_absolute_percentage_error: 20.3993\n",
      "Epoch 79/100\n",
      "1539/1539 [==============================] - 18s 12ms/step - loss: 446.5492 - mean_absolute_error: 14.7234 - root_mean_squared_error: 21.1317 - mean_absolute_percentage_error: 20.5564\n",
      "Epoch 80/100\n",
      "1539/1539 [==============================] - 17s 11ms/step - loss: 442.9079 - mean_absolute_error: 14.6594 - root_mean_squared_error: 21.0454 - mean_absolute_percentage_error: 20.4609\n",
      "Epoch 81/100\n",
      "1539/1539 [==============================] - 17s 11ms/step - loss: 443.0307 - mean_absolute_error: 14.6614 - root_mean_squared_error: 21.0483 - mean_absolute_percentage_error: 20.4794\n",
      "Epoch 82/100\n",
      "1539/1539 [==============================] - 17s 11ms/step - loss: 441.1894 - mean_absolute_error: 14.6301 - root_mean_squared_error: 21.0045 - mean_absolute_percentage_error: 20.4352\n",
      "Epoch 83/100\n"
     ]
    },
    {
     "name": "stdout",
     "output_type": "stream",
     "text": [
      "1539/1539 [==============================] - 17s 11ms/step - loss: 441.9499 - mean_absolute_error: 14.6465 - root_mean_squared_error: 21.0226 - mean_absolute_percentage_error: 20.4037\n",
      "Epoch 84/100\n",
      "1539/1539 [==============================] - 17s 11ms/step - loss: 440.6835 - mean_absolute_error: 14.6190 - root_mean_squared_error: 20.9925 - mean_absolute_percentage_error: 20.4407\n",
      "Epoch 85/100\n",
      "1539/1539 [==============================] - 17s 11ms/step - loss: 442.3715 - mean_absolute_error: 14.6427 - root_mean_squared_error: 21.0326 - mean_absolute_percentage_error: 20.3802\n",
      "Epoch 86/100\n",
      "1539/1539 [==============================] - 17s 11ms/step - loss: 439.8919 - mean_absolute_error: 14.5962 - root_mean_squared_error: 20.9736 - mean_absolute_percentage_error: 20.4288\n",
      "Epoch 87/100\n",
      "1539/1539 [==============================] - 17s 11ms/step - loss: 442.3553 - mean_absolute_error: 14.6460 - root_mean_squared_error: 21.0322 - mean_absolute_percentage_error: 20.4176\n",
      "Epoch 88/100\n",
      "1539/1539 [==============================] - 17s 11ms/step - loss: 438.1409 - mean_absolute_error: 14.5710 - root_mean_squared_error: 20.9318 - mean_absolute_percentage_error: 20.3044\n",
      "Epoch 89/100\n",
      "1539/1539 [==============================] - 17s 11ms/step - loss: 438.7338 - mean_absolute_error: 14.5844 - root_mean_squared_error: 20.9460 - mean_absolute_percentage_error: 20.3034\n",
      "Epoch 90/100\n",
      "1539/1539 [==============================] - 17s 11ms/step - loss: 440.6478 - mean_absolute_error: 14.6156 - root_mean_squared_error: 20.9916 - mean_absolute_percentage_error: 20.4419\n",
      "Epoch 91/100\n",
      "1539/1539 [==============================] - 17s 11ms/step - loss: 438.1549 - mean_absolute_error: 14.5770 - root_mean_squared_error: 20.9322 - mean_absolute_percentage_error: 20.3473\n",
      "Epoch 92/100\n",
      "1539/1539 [==============================] - 17s 11ms/step - loss: 436.2852 - mean_absolute_error: 14.5466 - root_mean_squared_error: 20.8874 - mean_absolute_percentage_error: 20.2478\n",
      "Epoch 93/100\n",
      "1539/1539 [==============================] - 17s 11ms/step - loss: 440.6195 - mean_absolute_error: 14.6300 - root_mean_squared_error: 20.9909 - mean_absolute_percentage_error: 20.4264\n",
      "Epoch 94/100\n",
      "1539/1539 [==============================] - 17s 11ms/step - loss: 436.8590 - mean_absolute_error: 14.5551 - root_mean_squared_error: 20.9012 - mean_absolute_percentage_error: 20.3086\n",
      "Epoch 95/100\n",
      "1539/1539 [==============================] - 17s 11ms/step - loss: 438.0877 - mean_absolute_error: 14.5739 - root_mean_squared_error: 20.9305 - mean_absolute_percentage_error: 20.3479\n",
      "Epoch 96/100\n",
      "1539/1539 [==============================] - 17s 11ms/step - loss: 438.4489 - mean_absolute_error: 14.5853 - root_mean_squared_error: 20.9392 - mean_absolute_percentage_error: 20.2695\n",
      "Epoch 97/100\n",
      "1539/1539 [==============================] - 17s 11ms/step - loss: 435.5870 - mean_absolute_error: 14.5202 - root_mean_squared_error: 20.8707 - mean_absolute_percentage_error: 20.2763\n",
      "Epoch 98/100\n",
      "1539/1539 [==============================] - 17s 11ms/step - loss: 434.1768 - mean_absolute_error: 14.5130 - root_mean_squared_error: 20.8369 - mean_absolute_percentage_error: 20.2345\n",
      "Epoch 99/100\n",
      "1539/1539 [==============================] - 17s 11ms/step - loss: 437.5824 - mean_absolute_error: 14.5504 - root_mean_squared_error: 20.9185 - mean_absolute_percentage_error: 20.2324\n",
      "Epoch 100/100\n",
      "1539/1539 [==============================] - 17s 11ms/step - loss: 433.4867 - mean_absolute_error: 14.5027 - root_mean_squared_error: 20.8203 - mean_absolute_percentage_error: 20.2359\n"
     ]
    },
    {
     "data": {
      "text/plain": [
       "<tensorflow.python.keras.callbacks.History at 0x1c6118d5fd0>"
      ]
     },
     "execution_count": 41,
     "metadata": {},
     "output_type": "execute_result"
    }
   ],
   "source": [
    "model15.fit(Xt15, yt15, \n",
    "            epochs = 100,\n",
    "            verbose = 1)"
   ]
  },
  {
   "cell_type": "code",
   "execution_count": 42,
   "metadata": {},
   "outputs": [
    {
     "name": "stdout",
     "output_type": "stream",
     "text": [
      "INFO:tensorflow:Assets written to: my_dir/6a-15\\assets\n"
     ]
    }
   ],
   "source": [
    "model15.save(\"my_dir/6a-15\")"
   ]
  },
  {
   "cell_type": "code",
   "execution_count": 43,
   "metadata": {},
   "outputs": [],
   "source": [
    "metrics15 = pd.DataFrame(model15.history.history)"
   ]
  },
  {
   "cell_type": "code",
   "execution_count": 44,
   "metadata": {},
   "outputs": [
    {
     "data": {
      "text/plain": [
       "<AxesSubplot:>"
      ]
     },
     "execution_count": 44,
     "metadata": {},
     "output_type": "execute_result"
    },
    {
     "data": {
      "image/png": "[encoded data removed]",
      "text/plain": [
       "<Figure size 432x288 with 1 Axes>"
      ]
     },
     "metadata": {
      "needs_background": "light"
     },
     "output_type": "display_data"
    }
   ],
   "source": [
    "metrics15[['loss']].plot()"
   ]
  },
  {
   "cell_type": "code",
   "execution_count": 45,
   "metadata": {},
   "outputs": [],
   "source": [
    "# model15 = keras.models.load_model(\"my_dir/6a-15\")"
   ]
  },
  {
   "cell_type": "code",
   "execution_count": 48,
   "metadata": {},
   "outputs": [],
   "source": [
    "# # Create Figure (empty canvas)\n",
    "# fig = plt.figure(figsize=(18,6))\n",
    "\n",
    "# # Add set of axes to figure\n",
    "# axes = fig.add_axes([0, 0, 1, 1]) # left, bottom, width, height (range 0 to 1)\n",
    "\n",
    "# # Plot on that set of axes\n",
    "# axes.plot(yv15, lw=1.2, label=r'$Actual$', color='blue')\n",
    "# axes.plot(test_predictions15, lw=0.8, label=r'$Predicted$', color='green')\n",
    "# axes.plot((yv15-test_predictions15), lw=1, label=r'$Error$', color='red')\n",
    "\n",
    "# #axes.set_xlim(0,24)\n",
    "# axes.set_ylim(-170,600)\n",
    "# axes.set_xlabel('Time (h)')\n",
    "# axes.set_ylabel('Flow (veh/5-Min)')\n",
    "\n",
    "# axes.legend(loc=1)\n",
    "# axes.grid()\n",
    "\n",
    "# axes.set_xticks([144 + i for i in range(0, 4032, 288)])\n",
    "# axes.set_xticklabels(['Mon', 'Tues', 'Wed', 'Thur', 'Fri', 'Sat', 'Sun']*2)\n",
    "\n",
    "# plt.show()"
   ]
  },
  {
   "cell_type": "code",
   "execution_count": 49,
   "metadata": {},
   "outputs": [],
   "source": [
    "# # Create Figure (empty canvas)\n",
    "# fig = plt.figure(figsize=(18,6))\n",
    "\n",
    "# # Add set of axes to figure\n",
    "# axes = fig.add_axes([0, 0, 1, 1]) # left, bottom, width, height (range 0 to 1)\n",
    "\n",
    "# # Plot on that set of axes\n",
    "# axes.plot(yv15, lw=1.2, label=r'$Actual$', color='blue')\n",
    "# axes.plot(test_predictions15, lw=0.8, label=r'$Predicted$', color='green')\n",
    "# axes.plot((yv15-test_predictions15), lw=1, label=r'$Error$', color='red')\n",
    "\n",
    "# axes.set_xlim(0,300)\n",
    "# axes.set_ylim(-170,600)\n",
    "# axes.set_xlabel('Time (h)')\n",
    "# axes.set_ylabel('Flow (veh/5-Min)')\n",
    "\n",
    "# axes.legend(loc=1)\n",
    "# axes.grid()\n",
    "\n",
    "# axes.set_xticks([0, 36, 72, 108, 144, 180, 216, 252, 288])\n",
    "# axes.set_xticklabels(['00:00', '03:00', '06:00', '09:00', '12:00', '15:00', '18:00', '21:00','00:00'])\n",
    "\n",
    "# plt.show()"
   ]
  },
  {
   "cell_type": "markdown",
   "metadata": {},
   "source": [
    "# 30 mins ahead"
   ]
  },
  {
   "cell_type": "code",
   "execution_count": 50,
   "metadata": {},
   "outputs": [],
   "source": [
    "def build_model_30(hp):\n",
    "    # define model\n",
    "    model_30 = Sequential()\n",
    "    \n",
    "    # 2 layer LSTM\n",
    "    model_30.add(LSTM(units=hp.Int(\"Units_1\", min_value=1, max_value=100, step=1),\n",
    "                     activation='relu', return_sequences=True, input_shape=input_shape))\n",
    "    model_30.add(LSTM(units=hp.Int(\"Units_2\", min_value=1, max_value=100, step=1),\n",
    "                     activation='relu'))\n",
    "    \n",
    "    # Final Prediction\n",
    "    model_30.add(Dense(n_features))\n",
    "    \n",
    "    model_30.compile(optimizer=keras.optimizers.Adam(hp.Choice(\"learning_rate\", [1e-2, 1e-3, 1e-4])), \n",
    "        loss='mse',metrics=['MeanAbsoluteError','RootMeanSquaredError','MeanAbsolutePercentageError'])\n",
    "    \n",
    "    return model_30"
   ]
  },
  {
   "cell_type": "code",
   "execution_count": 51,
   "metadata": {},
   "outputs": [],
   "source": [
    "tuner30 = RandomSearch(\n",
    "    build_model_30,\n",
    "    objective=\"val_loss\",\n",
    "    max_trials=30,\n",
    "    executions_per_trial=2,\n",
    "    overwrite=False,\n",
    "    directory=os.path.normpath('C:/RunsOak'),\n",
    "    project_name=\"6a-30\",\n",
    ")"
   ]
  },
  {
   "cell_type": "code",
   "execution_count": 52,
   "metadata": {},
   "outputs": [
    {
     "name": "stdout",
     "output_type": "stream",
     "text": [
      "Search space summary\n",
      "Default search space size: 3\n",
      "Units_1 (Int)\n",
      "{'default': None, 'conditions': [], 'min_value': 1, 'max_value': 100, 'step': 1, 'sampling': None}\n",
      "Units_2 (Int)\n",
      "{'default': None, 'conditions': [], 'min_value': 1, 'max_value': 100, 'step': 1, 'sampling': None}\n",
      "learning_rate (Choice)\n",
      "{'default': 0.01, 'conditions': [], 'values': [0.01, 0.001, 0.0001], 'ordered': True}\n"
     ]
    }
   ],
   "source": [
    "tuner30.search_space_summary()"
   ]
  },
  {
   "cell_type": "code",
   "execution_count": 53,
   "metadata": {},
   "outputs": [
    {
     "name": "stdout",
     "output_type": "stream",
     "text": [
      "Trial 30 Complete [00h 10m 25s]\n",
      "val_loss: 591.4913330078125\n",
      "\n",
      "Best val_loss So Far: 547.3248596191406\n",
      "Total elapsed time: 07h 41m 28s\n",
      "INFO:tensorflow:Oracle triggered exit\n"
     ]
    }
   ],
   "source": [
    "tuner30.search(Xt30, yt30, epochs=200,\n",
    "            validation_split = val_percent,\n",
    "            callbacks=[early_stop],\n",
    "            verbose=2)"
   ]
  },
  {
   "cell_type": "code",
   "execution_count": 54,
   "metadata": {},
   "outputs": [
    {
     "name": "stdout",
     "output_type": "stream",
     "text": [
      "Results summary\n",
      "Results in C:\\RunsOak\\6a-30\n",
      "Showing 1 best trials\n",
      "Objective(name='val_loss', direction='min')\n",
      "Trial summary\n",
      "Hyperparameters:\n",
      "Units_1: 79\n",
      "Units_2: 67\n",
      "learning_rate: 0.001\n",
      "Score: 547.3248596191406\n"
     ]
    }
   ],
   "source": [
    "tuner30.results_summary(1)"
   ]
  },
  {
   "cell_type": "markdown",
   "metadata": {},
   "source": [
    "### Best Model"
   ]
  },
  {
   "cell_type": "code",
   "execution_count": 55,
   "metadata": {},
   "outputs": [],
   "source": [
    "best_hp30 = tuner30.get_best_hyperparameters()[0]\n",
    "model30 = tuner30.hypermodel.build(best_hp30)"
   ]
  },
  {
   "cell_type": "code",
   "execution_count": 56,
   "metadata": {},
   "outputs": [
    {
     "data": {
      "text/plain": [
       "['Best_HP/6a-30']"
      ]
     },
     "execution_count": 56,
     "metadata": {},
     "output_type": "execute_result"
    }
   ],
   "source": [
    "scaler_filename = \"Best_HP/6a-30\"\n",
    "joblib.dump(best_hp30, scaler_filename) "
   ]
  },
  {
   "cell_type": "code",
   "execution_count": 57,
   "metadata": {},
   "outputs": [
    {
     "name": "stdout",
     "output_type": "stream",
     "text": [
      "Model: \"sequential\"\n",
      "_________________________________________________________________\n",
      "Layer (type)                 Output Shape              Param #   \n",
      "=================================================================\n",
      "lstm (LSTM)                  (None, 15, 79)            27176     \n",
      "_________________________________________________________________\n",
      "lstm_1 (LSTM)                (None, 67)                39396     \n",
      "_________________________________________________________________\n",
      "dense (Dense)                (None, 6)                 408       \n",
      "=================================================================\n",
      "Total params: 66,980\n",
      "Trainable params: 66,980\n",
      "Non-trainable params: 0\n",
      "_________________________________________________________________\n"
     ]
    }
   ],
   "source": [
    "model30.summary()"
   ]
  },
  {
   "cell_type": "code",
   "execution_count": 58,
   "metadata": {},
   "outputs": [
    {
     "name": "stdout",
     "output_type": "stream",
     "text": [
      "Epoch 1/100\n",
      "1539/1539 [==============================] - 25s 16ms/step - loss: 1965.3295 - mean_absolute_error: 29.1318 - root_mean_squared_error: 44.3320 - mean_absolute_percentage_error: 46.1099\n",
      "Epoch 2/100\n",
      "1539/1539 [==============================] - 25s 16ms/step - loss: 847.5756 - mean_absolute_error: 20.7679 - root_mean_squared_error: 29.1132 - mean_absolute_percentage_error: 30.1631\n",
      "Epoch 3/100\n",
      "1539/1539 [==============================] - 24s 16ms/step - loss: 768.7493 - mean_absolute_error: 19.6517 - root_mean_squared_error: 27.7263 - mean_absolute_percentage_error: 28.3117\n",
      "Epoch 4/100\n",
      "1539/1539 [==============================] - 24s 16ms/step - loss: 726.2488 - mean_absolute_error: 19.0476 - root_mean_squared_error: 26.9490 - mean_absolute_percentage_error: 27.3301\n",
      "Epoch 5/100\n",
      "1539/1539 [==============================] - 24s 16ms/step - loss: 703.4805 - mean_absolute_error: 18.7338 - root_mean_squared_error: 26.5232 - mean_absolute_percentage_error: 26.8786\n",
      "Epoch 6/100\n",
      "1539/1539 [==============================] - 24s 16ms/step - loss: 673.3143 - mean_absolute_error: 18.2908 - root_mean_squared_error: 25.9483 - mean_absolute_percentage_error: 26.1909\n",
      "Epoch 7/100\n",
      "1539/1539 [==============================] - 24s 16ms/step - loss: 664.2916 - mean_absolute_error: 18.1504 - root_mean_squared_error: 25.7738 - mean_absolute_percentage_error: 25.8805\n",
      "Epoch 8/100\n",
      "1539/1539 [==============================] - 24s 16ms/step - loss: 651.1161 - mean_absolute_error: 17.9760 - root_mean_squared_error: 25.5170 - mean_absolute_percentage_error: 25.6488\n",
      "Epoch 9/100\n",
      "1539/1539 [==============================] - 24s 16ms/step - loss: 633.3583 - mean_absolute_error: 17.6931 - root_mean_squared_error: 25.1666 - mean_absolute_percentage_error: 25.2581\n",
      "Epoch 10/100\n",
      "1539/1539 [==============================] - 24s 16ms/step - loss: 631.1182 - mean_absolute_error: 17.6743 - root_mean_squared_error: 25.1221 - mean_absolute_percentage_error: 25.1502\n",
      "Epoch 11/100\n",
      "1539/1539 [==============================] - 25s 16ms/step - loss: 609.8275 - mean_absolute_error: 17.3673 - root_mean_squared_error: 24.6947 - mean_absolute_percentage_error: 24.8485\n",
      "Epoch 12/100\n",
      "1539/1539 [==============================] - 24s 16ms/step - loss: 607.0336 - mean_absolute_error: 17.3366 - root_mean_squared_error: 24.6381 - mean_absolute_percentage_error: 24.7854\n",
      "Epoch 13/100\n",
      "1539/1539 [==============================] - 24s 16ms/step - loss: 595.7915 - mean_absolute_error: 17.1484 - root_mean_squared_error: 24.4088 - mean_absolute_percentage_error: 24.4126\n",
      "Epoch 14/100\n",
      "1539/1539 [==============================] - 24s 16ms/step - loss: 585.0115 - mean_absolute_error: 16.9705 - root_mean_squared_error: 24.1870 - mean_absolute_percentage_error: 24.0840\n",
      "Epoch 15/100\n",
      "1539/1539 [==============================] - 24s 16ms/step - loss: 581.8902 - mean_absolute_error: 16.9180 - root_mean_squared_error: 24.1224 - mean_absolute_percentage_error: 23.9113\n",
      "Epoch 16/100\n",
      "1539/1539 [==============================] - 25s 16ms/step - loss: 569.1208 - mean_absolute_error: 16.7253 - root_mean_squared_error: 23.8563 - mean_absolute_percentage_error: 23.6297\n",
      "Epoch 17/100\n",
      "1539/1539 [==============================] - 24s 16ms/step - loss: 565.8423 - mean_absolute_error: 16.6735 - root_mean_squared_error: 23.7874 - mean_absolute_percentage_error: 23.3830\n",
      "Epoch 18/100\n",
      "1539/1539 [==============================] - 24s 16ms/step - loss: 558.2678 - mean_absolute_error: 16.5290 - root_mean_squared_error: 23.6277 - mean_absolute_percentage_error: 23.1576\n",
      "Epoch 19/100\n",
      "1539/1539 [==============================] - 24s 15ms/step - loss: 558.9056 - mean_absolute_error: 16.5394 - root_mean_squared_error: 23.6412 - mean_absolute_percentage_error: 23.0307\n",
      "Epoch 20/100\n",
      "1539/1539 [==============================] - 24s 16ms/step - loss: 550.6236 - mean_absolute_error: 16.4058 - root_mean_squared_error: 23.4654 - mean_absolute_percentage_error: 22.9294\n",
      "Epoch 21/100\n",
      "1539/1539 [==============================] - 24s 16ms/step - loss: 555.1932 - mean_absolute_error: 16.4734 - root_mean_squared_error: 23.5625 - mean_absolute_percentage_error: 22.8843\n",
      "Epoch 22/100\n",
      "1539/1539 [==============================] - 24s 16ms/step - loss: 542.3273 - mean_absolute_error: 16.2539 - root_mean_squared_error: 23.2879 - mean_absolute_percentage_error: 22.5432\n",
      "Epoch 23/100\n",
      "1539/1539 [==============================] - 24s 15ms/step - loss: 543.4355 - mean_absolute_error: 16.2751 - root_mean_squared_error: 23.3117 - mean_absolute_percentage_error: 22.5598\n",
      "Epoch 24/100\n",
      "1539/1539 [==============================] - 24s 15ms/step - loss: 542.1791 - mean_absolute_error: 16.2708 - root_mean_squared_error: 23.2847 - mean_absolute_percentage_error: 22.5551\n",
      "Epoch 25/100\n",
      "1539/1539 [==============================] - 24s 15ms/step - loss: 534.4692 - mean_absolute_error: 16.1556 - root_mean_squared_error: 23.1186 - mean_absolute_percentage_error: 22.4275\n",
      "Epoch 26/100\n",
      "1539/1539 [==============================] - 24s 16ms/step - loss: 534.9312 - mean_absolute_error: 16.1463 - root_mean_squared_error: 23.1286 - mean_absolute_percentage_error: 22.3691\n",
      "Epoch 27/100\n",
      "1539/1539 [==============================] - 24s 16ms/step - loss: 539.5363 - mean_absolute_error: 16.2138 - root_mean_squared_error: 23.2279 - mean_absolute_percentage_error: 22.4734\n",
      "Epoch 28/100\n",
      "1539/1539 [==============================] - 24s 15ms/step - loss: 531.7559 - mean_absolute_error: 16.0992 - root_mean_squared_error: 23.0598 - mean_absolute_percentage_error: 22.3094\n",
      "Epoch 29/100\n",
      "1539/1539 [==============================] - 24s 15ms/step - loss: 526.9316 - mean_absolute_error: 16.0141 - root_mean_squared_error: 22.9550 - mean_absolute_percentage_error: 22.1557\n",
      "Epoch 30/100\n",
      "1539/1539 [==============================] - 24s 15ms/step - loss: 526.1629 - mean_absolute_error: 16.0066 - root_mean_squared_error: 22.9383 - mean_absolute_percentage_error: 22.1688\n",
      "Epoch 31/100\n",
      "1539/1539 [==============================] - 24s 16ms/step - loss: 522.7211 - mean_absolute_error: 15.9577 - root_mean_squared_error: 22.8631 - mean_absolute_percentage_error: 22.0389\n",
      "Epoch 32/100\n",
      "1539/1539 [==============================] - 24s 15ms/step - loss: 524.2799 - mean_absolute_error: 15.9985 - root_mean_squared_error: 22.8972 - mean_absolute_percentage_error: 22.2248\n",
      "Epoch 33/100\n",
      "1539/1539 [==============================] - 24s 16ms/step - loss: 519.3361 - mean_absolute_error: 15.9088 - root_mean_squared_error: 22.7889 - mean_absolute_percentage_error: 21.9408\n",
      "Epoch 34/100\n",
      "1539/1539 [==============================] - 24s 15ms/step - loss: 518.2482 - mean_absolute_error: 15.8779 - root_mean_squared_error: 22.7651 - mean_absolute_percentage_error: 21.9510\n",
      "Epoch 35/100\n",
      "1539/1539 [==============================] - 24s 16ms/step - loss: 515.2726 - mean_absolute_error: 15.8310 - root_mean_squared_error: 22.6996 - mean_absolute_percentage_error: 21.8587\n",
      "Epoch 36/100\n",
      "1539/1539 [==============================] - 24s 16ms/step - loss: 515.2923 - mean_absolute_error: 15.8324 - root_mean_squared_error: 22.7000 - mean_absolute_percentage_error: 21.8457\n",
      "Epoch 37/100\n",
      "1539/1539 [==============================] - 24s 15ms/step - loss: 513.7919 - mean_absolute_error: 15.8106 - root_mean_squared_error: 22.6670 - mean_absolute_percentage_error: 21.8124\n",
      "Epoch 38/100\n",
      "1539/1539 [==============================] - 24s 16ms/step - loss: 509.6216 - mean_absolute_error: 15.7311 - root_mean_squared_error: 22.5748 - mean_absolute_percentage_error: 21.7001\n",
      "Epoch 39/100\n",
      "1539/1539 [==============================] - 24s 15ms/step - loss: 508.9245 - mean_absolute_error: 15.7265 - root_mean_squared_error: 22.5594 - mean_absolute_percentage_error: 21.7365\n",
      "Epoch 40/100\n",
      "1539/1539 [==============================] - 24s 15ms/step - loss: 507.4673 - mean_absolute_error: 15.6798 - root_mean_squared_error: 22.5270 - mean_absolute_percentage_error: 21.6326\n",
      "Epoch 41/100\n",
      "1539/1539 [==============================] - 24s 16ms/step - loss: 507.1760 - mean_absolute_error: 15.6981 - root_mean_squared_error: 22.5206 - mean_absolute_percentage_error: 21.5562\n",
      "Epoch 42/100\n",
      "1539/1539 [==============================] - 24s 15ms/step - loss: 503.0781 - mean_absolute_error: 15.6304 - root_mean_squared_error: 22.4294 - mean_absolute_percentage_error: 21.5643\n",
      "Epoch 43/100\n",
      "1539/1539 [==============================] - 24s 16ms/step - loss: 504.8218 - mean_absolute_error: 15.6535 - root_mean_squared_error: 22.4682 - mean_absolute_percentage_error: 21.5553\n",
      "Epoch 44/100\n",
      "1539/1539 [==============================] - 24s 15ms/step - loss: 498.9596 - mean_absolute_error: 15.5716 - root_mean_squared_error: 22.3374 - mean_absolute_percentage_error: 21.5024\n",
      "Epoch 45/100\n",
      "1539/1539 [==============================] - 23s 15ms/step - loss: 499.4410 - mean_absolute_error: 15.5781 - root_mean_squared_error: 22.3482 - mean_absolute_percentage_error: 21.4970\n",
      "Epoch 46/100\n",
      "1539/1539 [==============================] - 24s 16ms/step - loss: 497.8563 - mean_absolute_error: 15.5400 - root_mean_squared_error: 22.3127 - mean_absolute_percentage_error: 21.3850\n",
      "Epoch 47/100\n",
      "1539/1539 [==============================] - 24s 15ms/step - loss: 497.8198 - mean_absolute_error: 15.5509 - root_mean_squared_error: 22.3119 - mean_absolute_percentage_error: 21.3781\n",
      "Epoch 48/100\n",
      "1539/1539 [==============================] - 24s 15ms/step - loss: 493.8737 - mean_absolute_error: 15.4898 - root_mean_squared_error: 22.2233 - mean_absolute_percentage_error: 21.3272\n",
      "Epoch 49/100\n",
      "1539/1539 [==============================] - 23s 15ms/step - loss: 496.3434 - mean_absolute_error: 15.5083 - root_mean_squared_error: 22.2788 - mean_absolute_percentage_error: 21.3802\n",
      "Epoch 50/100\n",
      "1539/1539 [==============================] - 23s 15ms/step - loss: 491.7338 - mean_absolute_error: 15.4543 - root_mean_squared_error: 22.1751 - mean_absolute_percentage_error: 21.2818\n",
      "Epoch 51/100\n",
      "1539/1539 [==============================] - 24s 15ms/step - loss: 492.5126 - mean_absolute_error: 15.4563 - root_mean_squared_error: 22.1926 - mean_absolute_percentage_error: 21.2481\n",
      "Epoch 52/100\n",
      "1539/1539 [==============================] - 24s 16ms/step - loss: 491.9888 - mean_absolute_error: 15.4629 - root_mean_squared_error: 22.1808 - mean_absolute_percentage_error: 21.2990\n",
      "Epoch 53/100\n",
      "1539/1539 [==============================] - 24s 15ms/step - loss: 487.3346 - mean_absolute_error: 15.3776 - root_mean_squared_error: 22.0757 - mean_absolute_percentage_error: 21.1430\n",
      "Epoch 54/100\n",
      "1539/1539 [==============================] - 23s 15ms/step - loss: 488.5077 - mean_absolute_error: 15.4012 - root_mean_squared_error: 22.1022 - mean_absolute_percentage_error: 21.1868\n",
      "Epoch 55/100\n",
      "1539/1539 [==============================] - 23s 15ms/step - loss: 488.6281 - mean_absolute_error: 15.4088 - root_mean_squared_error: 22.1049 - mean_absolute_percentage_error: 21.1219\n",
      "Epoch 56/100\n",
      "1539/1539 [==============================] - 23s 15ms/step - loss: 484.8694 - mean_absolute_error: 15.3453 - root_mean_squared_error: 22.0198 - mean_absolute_percentage_error: 21.1020\n",
      "Epoch 57/100\n",
      "1539/1539 [==============================] - 24s 16ms/step - loss: 484.6488 - mean_absolute_error: 15.3278 - root_mean_squared_error: 22.0147 - mean_absolute_percentage_error: 21.0523\n",
      "Epoch 58/100\n",
      "1539/1539 [==============================] - 24s 15ms/step - loss: 483.4438 - mean_absolute_error: 15.3389 - root_mean_squared_error: 21.9874 - mean_absolute_percentage_error: 21.1253\n",
      "Epoch 59/100\n",
      "1539/1539 [==============================] - 23s 15ms/step - loss: 481.2197 - mean_absolute_error: 15.2839 - root_mean_squared_error: 21.9367 - mean_absolute_percentage_error: 21.0056\n",
      "Epoch 60/100\n",
      "1539/1539 [==============================] - 23s 15ms/step - loss: 479.2041 - mean_absolute_error: 15.2675 - root_mean_squared_error: 21.8907 - mean_absolute_percentage_error: 21.0112\n",
      "Epoch 61/100\n",
      "1539/1539 [==============================] - 23s 15ms/step - loss: 519.2133 - mean_absolute_error: 15.6588 - root_mean_squared_error: 22.7863 - mean_absolute_percentage_error: 21.3444\n",
      "Epoch 62/100\n",
      "1539/1539 [==============================] - 24s 16ms/step - loss: 485.0076 - mean_absolute_error: 15.3351 - root_mean_squared_error: 22.0229 - mean_absolute_percentage_error: 21.0555\n",
      "Epoch 63/100\n",
      "1539/1539 [==============================] - 23s 15ms/step - loss: 485.8693 - mean_absolute_error: 15.3538 - root_mean_squared_error: 22.0424 - mean_absolute_percentage_error: 21.0896\n",
      "Epoch 64/100\n",
      "1539/1539 [==============================] - 23s 15ms/step - loss: 476.3448 - mean_absolute_error: 15.2085 - root_mean_squared_error: 21.8253 - mean_absolute_percentage_error: 20.9060\n",
      "Epoch 65/100\n",
      "1539/1539 [==============================] - 23s 15ms/step - loss: 477.8196 - mean_absolute_error: 15.2304 - root_mean_squared_error: 21.8591 - mean_absolute_percentage_error: 20.9809\n",
      "Epoch 66/100\n",
      "1539/1539 [==============================] - 23s 15ms/step - loss: 475.7321 - mean_absolute_error: 15.2043 - root_mean_squared_error: 21.8113 - mean_absolute_percentage_error: 20.8874\n",
      "Epoch 67/100\n",
      "1539/1539 [==============================] - 24s 16ms/step - loss: 474.9319 - mean_absolute_error: 15.1941 - root_mean_squared_error: 21.7929 - mean_absolute_percentage_error: 20.9381\n",
      "Epoch 68/100\n",
      "1539/1539 [==============================] - 23s 15ms/step - loss: 474.7378 - mean_absolute_error: 15.1780 - root_mean_squared_error: 21.7885 - mean_absolute_percentage_error: 20.8601\n",
      "Epoch 69/100\n",
      "1539/1539 [==============================] - 23s 15ms/step - loss: 483.8413 - mean_absolute_error: 15.3119 - root_mean_squared_error: 21.9964 - mean_absolute_percentage_error: 21.0992\n",
      "Epoch 70/100\n",
      "1539/1539 [==============================] - 23s 15ms/step - loss: 474.0462 - mean_absolute_error: 15.1686 - root_mean_squared_error: 21.7726 - mean_absolute_percentage_error: 20.8679\n",
      "Epoch 71/100\n",
      "1539/1539 [==============================] - 23s 15ms/step - loss: 469.7286 - mean_absolute_error: 15.1027 - root_mean_squared_error: 21.6732 - mean_absolute_percentage_error: 20.7593\n",
      "Epoch 72/100\n",
      "1539/1539 [==============================] - 24s 16ms/step - loss: 473.8431 - mean_absolute_error: 15.1645 - root_mean_squared_error: 21.7679 - mean_absolute_percentage_error: 20.8456\n",
      "Epoch 73/100\n",
      "1539/1539 [==============================] - 23s 15ms/step - loss: 467.7342 - mean_absolute_error: 15.0779 - root_mean_squared_error: 21.6272 - mean_absolute_percentage_error: 20.7975\n",
      "Epoch 74/100\n",
      "1539/1539 [==============================] - 23s 15ms/step - loss: 468.2148 - mean_absolute_error: 15.0740 - root_mean_squared_error: 21.6383 - mean_absolute_percentage_error: 20.7562\n",
      "Epoch 75/100\n",
      "1539/1539 [==============================] - 23s 15ms/step - loss: 466.2855 - mean_absolute_error: 15.0515 - root_mean_squared_error: 21.5936 - mean_absolute_percentage_error: 20.7134\n",
      "Epoch 76/100\n",
      "1539/1539 [==============================] - 23s 15ms/step - loss: 466.0076 - mean_absolute_error: 15.0411 - root_mean_squared_error: 21.5872 - mean_absolute_percentage_error: 20.6652\n",
      "Epoch 77/100\n",
      "1539/1539 [==============================] - 24s 16ms/step - loss: 471.3479 - mean_absolute_error: 15.1113 - root_mean_squared_error: 21.7106 - mean_absolute_percentage_error: 20.8393\n",
      "Epoch 78/100\n",
      "1539/1539 [==============================] - 23s 15ms/step - loss: 464.2049 - mean_absolute_error: 15.0201 - root_mean_squared_error: 21.5454 - mean_absolute_percentage_error: 20.6060\n",
      "Epoch 79/100\n",
      "1539/1539 [==============================] - 23s 15ms/step - loss: 464.6445 - mean_absolute_error: 15.0360 - root_mean_squared_error: 21.5556 - mean_absolute_percentage_error: 20.6870\n",
      "Epoch 80/100\n",
      "1539/1539 [==============================] - 23s 15ms/step - loss: 474.8845 - mean_absolute_error: 15.1608 - root_mean_squared_error: 21.7918 - mean_absolute_percentage_error: 20.9026\n",
      "Epoch 81/100\n",
      "1539/1539 [==============================] - 23s 15ms/step - loss: 458.8162 - mean_absolute_error: 14.9381 - root_mean_squared_error: 21.4200 - mean_absolute_percentage_error: 20.5640\n",
      "Epoch 82/100\n",
      "1539/1539 [==============================] - 24s 16ms/step - loss: 468.1617 - mean_absolute_error: 15.0816 - root_mean_squared_error: 21.6370 - mean_absolute_percentage_error: 20.6923\n",
      "Epoch 83/100\n"
     ]
    },
    {
     "name": "stdout",
     "output_type": "stream",
     "text": [
      "1539/1539 [==============================] - 23s 15ms/step - loss: 458.5424 - mean_absolute_error: 14.9447 - root_mean_squared_error: 21.4136 - mean_absolute_percentage_error: 20.6155\n",
      "Epoch 84/100\n",
      "1539/1539 [==============================] - 24s 16ms/step - loss: 458.0013 - mean_absolute_error: 14.9353 - root_mean_squared_error: 21.4010 - mean_absolute_percentage_error: 20.5641\n",
      "Epoch 85/100\n",
      "1539/1539 [==============================] - 23s 15ms/step - loss: 457.5932 - mean_absolute_error: 14.9240 - root_mean_squared_error: 21.3914 - mean_absolute_percentage_error: 20.5793\n",
      "Epoch 86/100\n",
      "1539/1539 [==============================] - 23s 15ms/step - loss: 456.7925 - mean_absolute_error: 14.9069 - root_mean_squared_error: 21.3727 - mean_absolute_percentage_error: 20.4582\n",
      "Epoch 87/100\n",
      "1539/1539 [==============================] - 24s 16ms/step - loss: 455.8694 - mean_absolute_error: 14.8967 - root_mean_squared_error: 21.3511 - mean_absolute_percentage_error: 20.5193\n",
      "Epoch 88/100\n",
      "1539/1539 [==============================] - 24s 15ms/step - loss: 455.8921 - mean_absolute_error: 14.8967 - root_mean_squared_error: 21.3516 - mean_absolute_percentage_error: 20.5194\n",
      "Epoch 89/100\n",
      "1539/1539 [==============================] - 23s 15ms/step - loss: 457.5045 - mean_absolute_error: 14.9180 - root_mean_squared_error: 21.3894 - mean_absolute_percentage_error: 20.4927\n",
      "Epoch 90/100\n",
      "1539/1539 [==============================] - 23s 15ms/step - loss: 457.0431 - mean_absolute_error: 14.9127 - root_mean_squared_error: 21.3786 - mean_absolute_percentage_error: 20.5294\n",
      "Epoch 91/100\n",
      "1539/1539 [==============================] - 23s 15ms/step - loss: 450.9953 - mean_absolute_error: 14.8329 - root_mean_squared_error: 21.2367 - mean_absolute_percentage_error: 20.4399\n",
      "Epoch 92/100\n",
      "1539/1539 [==============================] - 24s 16ms/step - loss: 455.1122 - mean_absolute_error: 14.8749 - root_mean_squared_error: 21.3333 - mean_absolute_percentage_error: 20.4563\n",
      "Epoch 93/100\n",
      "1539/1539 [==============================] - 23s 15ms/step - loss: 451.1376 - mean_absolute_error: 14.8221 - root_mean_squared_error: 21.2400 - mean_absolute_percentage_error: 20.4367\n",
      "Epoch 94/100\n",
      "1539/1539 [==============================] - 23s 15ms/step - loss: 448.6739 - mean_absolute_error: 14.7929 - root_mean_squared_error: 21.1819 - mean_absolute_percentage_error: 20.3344\n",
      "Epoch 95/100\n",
      "1539/1539 [==============================] - 23s 15ms/step - loss: 459.0553 - mean_absolute_error: 14.9496 - root_mean_squared_error: 21.4256 - mean_absolute_percentage_error: 20.5269\n",
      "Epoch 96/100\n",
      "1539/1539 [==============================] - 23s 15ms/step - loss: 450.1217 - mean_absolute_error: 14.8089 - root_mean_squared_error: 21.2161 - mean_absolute_percentage_error: 20.3837\n",
      "Epoch 97/100\n",
      "1539/1539 [==============================] - 24s 15ms/step - loss: 447.6189 - mean_absolute_error: 14.7795 - root_mean_squared_error: 21.1570 - mean_absolute_percentage_error: 20.3738\n",
      "Epoch 98/100\n",
      "1539/1539 [==============================] - 24s 15ms/step - loss: 449.6811 - mean_absolute_error: 14.8113 - root_mean_squared_error: 21.2057 - mean_absolute_percentage_error: 20.4236\n",
      "Epoch 99/100\n",
      "1539/1539 [==============================] - 23s 15ms/step - loss: 451.4890 - mean_absolute_error: 14.8185 - root_mean_squared_error: 21.2483 - mean_absolute_percentage_error: 20.3430\n",
      "Epoch 100/100\n",
      "1539/1539 [==============================] - 23s 15ms/step - loss: 448.8270 - mean_absolute_error: 14.7741 - root_mean_squared_error: 21.1855 - mean_absolute_percentage_error: 20.4023\n"
     ]
    },
    {
     "data": {
      "text/plain": [
       "<tensorflow.python.keras.callbacks.History at 0x1c61ff748b0>"
      ]
     },
     "execution_count": 58,
     "metadata": {},
     "output_type": "execute_result"
    }
   ],
   "source": [
    "model30.fit(Xt30, yt30, \n",
    "            epochs = 100,\n",
    "            verbose = 1)"
   ]
  },
  {
   "cell_type": "code",
   "execution_count": 59,
   "metadata": {},
   "outputs": [
    {
     "name": "stdout",
     "output_type": "stream",
     "text": [
      "INFO:tensorflow:Assets written to: my_dir/6a-30\\assets\n"
     ]
    }
   ],
   "source": [
    "model30.save(\"my_dir/6a-30\")"
   ]
  },
  {
   "cell_type": "code",
   "execution_count": 60,
   "metadata": {},
   "outputs": [],
   "source": [
    "metrics30 = pd.DataFrame(model30.history.history)"
   ]
  },
  {
   "cell_type": "code",
   "execution_count": 61,
   "metadata": {},
   "outputs": [
    {
     "data": {
      "text/plain": [
       "<AxesSubplot:>"
      ]
     },
     "execution_count": 61,
     "metadata": {},
     "output_type": "execute_result"
    },
    {
     "data": {
      "image/png": "[encoded data removed]",
      "text/plain": [
       "<Figure size 432x288 with 1 Axes>"
      ]
     },
     "metadata": {
      "needs_background": "light"
     },
     "output_type": "display_data"
    }
   ],
   "source": [
    "metrics30[['loss']].plot()"
   ]
  },
  {
   "cell_type": "code",
   "execution_count": 62,
   "metadata": {},
   "outputs": [],
   "source": [
    "# model30 = keras.models.load_model(\"my_dir/6a-30\")"
   ]
  },
  {
   "cell_type": "markdown",
   "metadata": {},
   "source": [
    "# 60 mins ahead"
   ]
  },
  {
   "cell_type": "code",
   "execution_count": 67,
   "metadata": {},
   "outputs": [],
   "source": [
    "def build_model_60(hp):\n",
    "    # define model\n",
    "    model_60 = Sequential()\n",
    "    \n",
    "    # 2 layer LSTM\n",
    "    model_60.add(LSTM(units=hp.Int(\"Units_1\", min_value=1, max_value=100, step=1),\n",
    "                     activation='relu', return_sequences=True, input_shape=input_shape))\n",
    "    model_60.add(LSTM(units=hp.Int(\"Units_2\", min_value=1, max_value=100, step=1),\n",
    "                     activation='relu'))\n",
    "    \n",
    "    # Final Prediction\n",
    "    model_60.add(Dense(n_features))\n",
    "    \n",
    "    model_60.compile(optimizer=keras.optimizers.Adam(hp.Choice(\"learning_rate\", [1e-2, 1e-3, 1e-4])), \n",
    "        loss='mse',metrics=['MeanAbsoluteError','RootMeanSquaredError','MeanAbsolutePercentageError'])\n",
    "    \n",
    "    return model_60"
   ]
  },
  {
   "cell_type": "code",
   "execution_count": 68,
   "metadata": {},
   "outputs": [],
   "source": [
    "tuner60 = RandomSearch(\n",
    "    build_model_60,\n",
    "    objective=\"val_loss\",\n",
    "    max_trials=30,\n",
    "    executions_per_trial=2,\n",
    "    overwrite=False,\n",
    "    directory=os.path.normpath('C:/RunsOak'),\n",
    "    project_name=\"6a-60\",\n",
    ")"
   ]
  },
  {
   "cell_type": "code",
   "execution_count": 69,
   "metadata": {},
   "outputs": [
    {
     "name": "stdout",
     "output_type": "stream",
     "text": [
      "Search space summary\n",
      "Default search space size: 3\n",
      "Units_1 (Int)\n",
      "{'default': None, 'conditions': [], 'min_value': 1, 'max_value': 100, 'step': 1, 'sampling': None}\n",
      "Units_2 (Int)\n",
      "{'default': None, 'conditions': [], 'min_value': 1, 'max_value': 100, 'step': 1, 'sampling': None}\n",
      "learning_rate (Choice)\n",
      "{'default': 0.01, 'conditions': [], 'values': [0.01, 0.001, 0.0001], 'ordered': True}\n"
     ]
    }
   ],
   "source": [
    "tuner60.search_space_summary()"
   ]
  },
  {
   "cell_type": "code",
   "execution_count": 70,
   "metadata": {},
   "outputs": [
    {
     "name": "stdout",
     "output_type": "stream",
     "text": [
      "Trial 30 Complete [00h 08m 55s]\n",
      "val_loss: 750.0505676269531\n",
      "\n",
      "Best val_loss So Far: 686.9244689941406\n",
      "Total elapsed time: 07h 01m 47s\n",
      "INFO:tensorflow:Oracle triggered exit\n"
     ]
    }
   ],
   "source": [
    "tuner60.search(Xt60, yt60, epochs=200,\n",
    "            validation_split = val_percent,\n",
    "            callbacks=[early_stop],\n",
    "            verbose=2)"
   ]
  },
  {
   "cell_type": "code",
   "execution_count": 71,
   "metadata": {},
   "outputs": [
    {
     "name": "stdout",
     "output_type": "stream",
     "text": [
      "Results summary\n",
      "Results in C:\\RunsOak\\6a-60\n",
      "Showing 1 best trials\n",
      "Objective(name='val_loss', direction='min')\n",
      "Trial summary\n",
      "Hyperparameters:\n",
      "Units_1: 23\n",
      "Units_2: 94\n",
      "learning_rate: 0.001\n",
      "Score: 686.9244689941406\n"
     ]
    }
   ],
   "source": [
    "tuner60.results_summary(1)"
   ]
  },
  {
   "cell_type": "markdown",
   "metadata": {},
   "source": [
    "### Best Model"
   ]
  },
  {
   "cell_type": "code",
   "execution_count": 72,
   "metadata": {},
   "outputs": [],
   "source": [
    "best_hp60 = tuner60.get_best_hyperparameters()[0]\n",
    "model60 = tuner60.hypermodel.build(best_hp60)"
   ]
  },
  {
   "cell_type": "code",
   "execution_count": 73,
   "metadata": {},
   "outputs": [
    {
     "data": {
      "text/plain": [
       "['Best_HP/6a-60']"
      ]
     },
     "execution_count": 73,
     "metadata": {},
     "output_type": "execute_result"
    }
   ],
   "source": [
    "scaler_filename = \"Best_HP/6a-60\"\n",
    "joblib.dump(best_hp60, scaler_filename) "
   ]
  },
  {
   "cell_type": "code",
   "execution_count": 74,
   "metadata": {},
   "outputs": [
    {
     "name": "stdout",
     "output_type": "stream",
     "text": [
      "Model: \"sequential\"\n",
      "_________________________________________________________________\n",
      "Layer (type)                 Output Shape              Param #   \n",
      "=================================================================\n",
      "lstm (LSTM)                  (None, 15, 23)            2760      \n",
      "_________________________________________________________________\n",
      "lstm_1 (LSTM)                (None, 94)                44368     \n",
      "_________________________________________________________________\n",
      "dense (Dense)                (None, 6)                 570       \n",
      "=================================================================\n",
      "Total params: 47,698\n",
      "Trainable params: 47,698\n",
      "Non-trainable params: 0\n",
      "_________________________________________________________________\n"
     ]
    }
   ],
   "source": [
    "model60.summary()"
   ]
  },
  {
   "cell_type": "code",
   "execution_count": 75,
   "metadata": {},
   "outputs": [
    {
     "name": "stdout",
     "output_type": "stream",
     "text": [
      "Epoch 1/100\n",
      "1539/1539 [==============================] - 20s 13ms/step - loss: 2414.5105 - mean_absolute_error: 33.9456 - root_mean_squared_error: 49.1377 - mean_absolute_percentage_error: 56.8111\n",
      "Epoch 2/100\n",
      "1539/1539 [==============================] - 19s 13ms/step - loss: 1265.2626 - mean_absolute_error: 25.3049 - root_mean_squared_error: 35.5705 - mean_absolute_percentage_error: 36.0165\n",
      "Epoch 3/100\n",
      "1539/1539 [==============================] - 20s 13ms/step - loss: 1086.3002 - mean_absolute_error: 23.3627 - root_mean_squared_error: 32.9591 - mean_absolute_percentage_error: 32.4970\n",
      "Epoch 4/100\n",
      "1539/1539 [==============================] - 19s 12ms/step - loss: 1006.3794 - mean_absolute_error: 22.4713 - root_mean_squared_error: 31.7235 - mean_absolute_percentage_error: 31.7778\n",
      "Epoch 5/100\n",
      "1539/1539 [==============================] - 19s 12ms/step - loss: 954.6243 - mean_absolute_error: 21.8407 - root_mean_squared_error: 30.8970 - mean_absolute_percentage_error: 30.8491\n",
      "Epoch 6/100\n",
      "1539/1539 [==============================] - 19s 12ms/step - loss: 912.9151 - mean_absolute_error: 21.3376 - root_mean_squared_error: 30.2145 - mean_absolute_percentage_error: 30.0781\n",
      "Epoch 7/100\n",
      "1539/1539 [==============================] - 19s 12ms/step - loss: 882.2255 - mean_absolute_error: 20.9577 - root_mean_squared_error: 29.7023 - mean_absolute_percentage_error: 29.4394\n",
      "Epoch 8/100\n",
      "1539/1539 [==============================] - 19s 12ms/step - loss: 857.7809 - mean_absolute_error: 20.6248 - root_mean_squared_error: 29.2879 - mean_absolute_percentage_error: 28.9735\n",
      "Epoch 9/100\n",
      "1539/1539 [==============================] - 20s 13ms/step - loss: 841.1139 - mean_absolute_error: 20.4053 - root_mean_squared_error: 29.0020 - mean_absolute_percentage_error: 28.5365\n",
      "Epoch 10/100\n",
      "1539/1539 [==============================] - 19s 13ms/step - loss: 811.2501 - mean_absolute_error: 20.0375 - root_mean_squared_error: 28.4825 - mean_absolute_percentage_error: 28.1001\n",
      "Epoch 11/100\n",
      "1539/1539 [==============================] - 19s 13ms/step - loss: 806.7776 - mean_absolute_error: 19.9469 - root_mean_squared_error: 28.4038 - mean_absolute_percentage_error: 27.8894\n",
      "Epoch 12/100\n",
      "1539/1539 [==============================] - 19s 12ms/step - loss: 779.8857 - mean_absolute_error: 19.6011 - root_mean_squared_error: 27.9264 - mean_absolute_percentage_error: 27.4412\n",
      "Epoch 13/100\n",
      "1539/1539 [==============================] - 19s 12ms/step - loss: 770.5394 - mean_absolute_error: 19.4852 - root_mean_squared_error: 27.7586 - mean_absolute_percentage_error: 27.3191\n",
      "Epoch 14/100\n",
      "1539/1539 [==============================] - 19s 13ms/step - loss: 750.3948 - mean_absolute_error: 19.2076 - root_mean_squared_error: 27.3933 - mean_absolute_percentage_error: 26.9799\n",
      "Epoch 15/100\n",
      "1539/1539 [==============================] - 19s 13ms/step - loss: 746.2342 - mean_absolute_error: 19.1545 - root_mean_squared_error: 27.3173 - mean_absolute_percentage_error: 26.8007\n",
      "Epoch 16/100\n",
      "1539/1539 [==============================] - 20s 13ms/step - loss: 729.0088 - mean_absolute_error: 18.9221 - root_mean_squared_error: 27.0002 - mean_absolute_percentage_error: 26.6152\n",
      "Epoch 17/100\n",
      "1539/1539 [==============================] - 19s 13ms/step - loss: 731.2589 - mean_absolute_error: 18.9191 - root_mean_squared_error: 27.0418 - mean_absolute_percentage_error: 26.5092\n",
      "Epoch 18/100\n",
      "1539/1539 [==============================] - 19s 12ms/step - loss: 714.4163 - mean_absolute_error: 18.6892 - root_mean_squared_error: 26.7286 - mean_absolute_percentage_error: 26.3085\n",
      "Epoch 19/100\n",
      "1539/1539 [==============================] - 19s 12ms/step - loss: 712.0920 - mean_absolute_error: 18.6596 - root_mean_squared_error: 26.6851 - mean_absolute_percentage_error: 26.1828\n",
      "Epoch 20/100\n",
      "1539/1539 [==============================] - 19s 12ms/step - loss: 702.7672 - mean_absolute_error: 18.5445 - root_mean_squared_error: 26.5097 - mean_absolute_percentage_error: 26.0027\n",
      "Epoch 21/100\n",
      "1539/1539 [==============================] - 19s 13ms/step - loss: 694.4586 - mean_absolute_error: 18.4203 - root_mean_squared_error: 26.3526 - mean_absolute_percentage_error: 26.0127\n",
      "Epoch 22/100\n",
      "1539/1539 [==============================] - 20s 13ms/step - loss: 689.7531 - mean_absolute_error: 18.3728 - root_mean_squared_error: 26.2631 - mean_absolute_percentage_error: 25.8500\n",
      "Epoch 23/100\n",
      "1539/1539 [==============================] - 19s 13ms/step - loss: 680.8405 - mean_absolute_error: 18.2159 - root_mean_squared_error: 26.0929 - mean_absolute_percentage_error: 25.6511\n",
      "Epoch 24/100\n",
      "1539/1539 [==============================] - 19s 12ms/step - loss: 678.8840 - mean_absolute_error: 18.1993 - root_mean_squared_error: 26.0554 - mean_absolute_percentage_error: 25.6320\n",
      "Epoch 25/100\n",
      "1539/1539 [==============================] - 19s 12ms/step - loss: 677.3244 - mean_absolute_error: 18.1857 - root_mean_squared_error: 26.0255 - mean_absolute_percentage_error: 25.6468\n",
      "Epoch 26/100\n",
      "1539/1539 [==============================] - 19s 12ms/step - loss: 667.4539 - mean_absolute_error: 18.0383 - root_mean_squared_error: 25.8351 - mean_absolute_percentage_error: 25.3638\n",
      "Epoch 27/100\n",
      "1539/1539 [==============================] - 19s 13ms/step - loss: 668.5414 - mean_absolute_error: 18.0489 - root_mean_squared_error: 25.8562 - mean_absolute_percentage_error: 25.2875\n",
      "Epoch 28/100\n",
      "1539/1539 [==============================] - 20s 13ms/step - loss: 660.2326 - mean_absolute_error: 17.9163 - root_mean_squared_error: 25.6950 - mean_absolute_percentage_error: 25.0622\n",
      "Epoch 29/100\n",
      "1539/1539 [==============================] - 19s 12ms/step - loss: 656.4318 - mean_absolute_error: 17.8759 - root_mean_squared_error: 25.6209 - mean_absolute_percentage_error: 25.1000\n",
      "Epoch 30/100\n",
      "1539/1539 [==============================] - 19s 13ms/step - loss: 658.9973 - mean_absolute_error: 17.8830 - root_mean_squared_error: 25.6709 - mean_absolute_percentage_error: 25.0308\n",
      "Epoch 31/100\n",
      "1539/1539 [==============================] - 19s 12ms/step - loss: 651.7739 - mean_absolute_error: 17.8019 - root_mean_squared_error: 25.5299 - mean_absolute_percentage_error: 24.8629\n",
      "Epoch 32/100\n",
      "1539/1539 [==============================] - 19s 12ms/step - loss: 651.0742 - mean_absolute_error: 17.7610 - root_mean_squared_error: 25.5162 - mean_absolute_percentage_error: 24.8253\n",
      "Epoch 33/100\n",
      "1539/1539 [==============================] - 19s 12ms/step - loss: 645.0768 - mean_absolute_error: 17.7124 - root_mean_squared_error: 25.3984 - mean_absolute_percentage_error: 24.7469\n",
      "Epoch 34/100\n",
      "1539/1539 [==============================] - 20s 13ms/step - loss: 643.3304 - mean_absolute_error: 17.6761 - root_mean_squared_error: 25.3640 - mean_absolute_percentage_error: 24.6873\n",
      "Epoch 35/100\n",
      "1539/1539 [==============================] - 19s 12ms/step - loss: 640.5424 - mean_absolute_error: 17.6369 - root_mean_squared_error: 25.3089 - mean_absolute_percentage_error: 24.6282\n",
      "Epoch 36/100\n",
      "1539/1539 [==============================] - 19s 13ms/step - loss: 640.0162 - mean_absolute_error: 17.6115 - root_mean_squared_error: 25.2985 - mean_absolute_percentage_error: 24.5268\n",
      "Epoch 37/100\n",
      "1539/1539 [==============================] - 19s 12ms/step - loss: 637.3107 - mean_absolute_error: 17.5736 - root_mean_squared_error: 25.2450 - mean_absolute_percentage_error: 24.4551\n",
      "Epoch 38/100\n",
      "1539/1539 [==============================] - 19s 12ms/step - loss: 634.9760 - mean_absolute_error: 17.5516 - root_mean_squared_error: 25.1987 - mean_absolute_percentage_error: 24.4032\n",
      "Epoch 39/100\n",
      "1539/1539 [==============================] - 19s 12ms/step - loss: 629.6548 - mean_absolute_error: 17.4695 - root_mean_squared_error: 25.0929 - mean_absolute_percentage_error: 24.3013\n",
      "Epoch 40/100\n",
      "1539/1539 [==============================] - 20s 13ms/step - loss: 633.9866 - mean_absolute_error: 17.5329 - root_mean_squared_error: 25.1791 - mean_absolute_percentage_error: 24.3730\n",
      "Epoch 41/100\n",
      "1539/1539 [==============================] - 19s 13ms/step - loss: 625.2319 - mean_absolute_error: 17.4222 - root_mean_squared_error: 25.0047 - mean_absolute_percentage_error: 24.2822\n",
      "Epoch 42/100\n",
      "1539/1539 [==============================] - 19s 13ms/step - loss: 626.0511 - mean_absolute_error: 17.4182 - root_mean_squared_error: 25.0210 - mean_absolute_percentage_error: 24.2850\n",
      "Epoch 43/100\n",
      "1539/1539 [==============================] - 19s 12ms/step - loss: 624.2818 - mean_absolute_error: 17.3935 - root_mean_squared_error: 24.9856 - mean_absolute_percentage_error: 24.1398\n",
      "Epoch 44/100\n",
      "1539/1539 [==============================] - 19s 12ms/step - loss: 631.7496 - mean_absolute_error: 17.4968 - root_mean_squared_error: 25.1346 - mean_absolute_percentage_error: 24.2563\n",
      "Epoch 45/100\n",
      "1539/1539 [==============================] - 19s 12ms/step - loss: 627.2093 - mean_absolute_error: 17.4442 - root_mean_squared_error: 25.0442 - mean_absolute_percentage_error: 24.1543\n",
      "Epoch 46/100\n",
      "1539/1539 [==============================] - 19s 12ms/step - loss: 616.3849 - mean_absolute_error: 17.3077 - root_mean_squared_error: 24.8271 - mean_absolute_percentage_error: 23.9352\n",
      "Epoch 47/100\n",
      "1539/1539 [==============================] - 20s 13ms/step - loss: 618.1898 - mean_absolute_error: 17.3196 - root_mean_squared_error: 24.8634 - mean_absolute_percentage_error: 24.0802\n",
      "Epoch 48/100\n",
      "1539/1539 [==============================] - 19s 12ms/step - loss: 612.3013 - mean_absolute_error: 17.2341 - root_mean_squared_error: 24.7447 - mean_absolute_percentage_error: 23.9444\n",
      "Epoch 49/100\n",
      "1539/1539 [==============================] - 19s 12ms/step - loss: 612.6077 - mean_absolute_error: 17.2226 - root_mean_squared_error: 24.7509 - mean_absolute_percentage_error: 23.8554\n",
      "Epoch 50/100\n",
      "1539/1539 [==============================] - 19s 12ms/step - loss: 608.1282 - mean_absolute_error: 17.1689 - root_mean_squared_error: 24.6602 - mean_absolute_percentage_error: 23.7818\n",
      "Epoch 51/100\n",
      "1539/1539 [==============================] - 19s 12ms/step - loss: 609.2213 - mean_absolute_error: 17.1860 - root_mean_squared_error: 24.6824 - mean_absolute_percentage_error: 23.8780\n",
      "Epoch 52/100\n",
      "1539/1539 [==============================] - 19s 12ms/step - loss: 612.9846 - mean_absolute_error: 17.2244 - root_mean_squared_error: 24.7585 - mean_absolute_percentage_error: 23.9280\n",
      "Epoch 53/100\n",
      "1539/1539 [==============================] - 20s 13ms/step - loss: 604.8980 - mean_absolute_error: 17.1267 - root_mean_squared_error: 24.5947 - mean_absolute_percentage_error: 23.6283\n",
      "Epoch 54/100\n",
      "1539/1539 [==============================] - 19s 12ms/step - loss: 605.2250 - mean_absolute_error: 17.1298 - root_mean_squared_error: 24.6013 - mean_absolute_percentage_error: 23.6897\n",
      "Epoch 55/100\n",
      "1539/1539 [==============================] - 19s 12ms/step - loss: 600.3378 - mean_absolute_error: 17.0494 - root_mean_squared_error: 24.5018 - mean_absolute_percentage_error: 23.6344\n",
      "Epoch 56/100\n",
      "1539/1539 [==============================] - 19s 13ms/step - loss: 600.4481 - mean_absolute_error: 17.0352 - root_mean_squared_error: 24.5040 - mean_absolute_percentage_error: 23.4714\n",
      "Epoch 57/100\n",
      "1539/1539 [==============================] - 19s 12ms/step - loss: 596.8036 - mean_absolute_error: 17.0015 - root_mean_squared_error: 24.4296 - mean_absolute_percentage_error: 23.5499\n",
      "Epoch 58/100\n",
      "1539/1539 [==============================] - 19s 12ms/step - loss: 592.9330 - mean_absolute_error: 16.9493 - root_mean_squared_error: 24.3502 - mean_absolute_percentage_error: 23.4943\n",
      "Epoch 59/100\n",
      "1539/1539 [==============================] - 20s 13ms/step - loss: 599.5692 - mean_absolute_error: 17.0238 - root_mean_squared_error: 24.4861 - mean_absolute_percentage_error: 23.5617\n",
      "Epoch 60/100\n",
      "1539/1539 [==============================] - 19s 12ms/step - loss: 591.8503 - mean_absolute_error: 16.9372 - root_mean_squared_error: 24.3280 - mean_absolute_percentage_error: 23.3703\n",
      "Epoch 61/100\n",
      "1539/1539 [==============================] - 19s 12ms/step - loss: 590.5870 - mean_absolute_error: 16.9107 - root_mean_squared_error: 24.3020 - mean_absolute_percentage_error: 23.4301\n",
      "Epoch 62/100\n",
      "1539/1539 [==============================] - 19s 12ms/step - loss: 594.9697 - mean_absolute_error: 16.9699 - root_mean_squared_error: 24.3920 - mean_absolute_percentage_error: 23.4797\n",
      "Epoch 63/100\n",
      "1539/1539 [==============================] - 19s 12ms/step - loss: 591.7646 - mean_absolute_error: 16.9344 - root_mean_squared_error: 24.3262 - mean_absolute_percentage_error: 23.3825\n",
      "Epoch 64/100\n",
      "1539/1539 [==============================] - 19s 12ms/step - loss: 587.7375 - mean_absolute_error: 16.8787 - root_mean_squared_error: 24.2433 - mean_absolute_percentage_error: 23.4368\n",
      "Epoch 65/100\n",
      "1539/1539 [==============================] - 19s 12ms/step - loss: 591.1105 - mean_absolute_error: 16.9033 - root_mean_squared_error: 24.3128 - mean_absolute_percentage_error: 23.3526\n",
      "Epoch 66/100\n",
      "1539/1539 [==============================] - 20s 13ms/step - loss: 583.6995 - mean_absolute_error: 16.8019 - root_mean_squared_error: 24.1599 - mean_absolute_percentage_error: 23.2358\n",
      "Epoch 67/100\n",
      "1539/1539 [==============================] - 19s 12ms/step - loss: 583.5695 - mean_absolute_error: 16.8142 - root_mean_squared_error: 24.1572 - mean_absolute_percentage_error: 23.2184\n",
      "Epoch 68/100\n",
      "1539/1539 [==============================] - 19s 13ms/step - loss: 580.3018 - mean_absolute_error: 16.7587 - root_mean_squared_error: 24.0894 - mean_absolute_percentage_error: 23.2007\n",
      "Epoch 69/100\n",
      "1539/1539 [==============================] - 19s 12ms/step - loss: 578.5714 - mean_absolute_error: 16.7384 - root_mean_squared_error: 24.0535 - mean_absolute_percentage_error: 23.1776\n",
      "Epoch 70/100\n",
      "1539/1539 [==============================] - 19s 12ms/step - loss: 578.7117 - mean_absolute_error: 16.7659 - root_mean_squared_error: 24.0564 - mean_absolute_percentage_error: 23.1983\n",
      "Epoch 71/100\n",
      "1539/1539 [==============================] - 19s 12ms/step - loss: 579.4380 - mean_absolute_error: 16.7546 - root_mean_squared_error: 24.0715 - mean_absolute_percentage_error: 23.2185\n",
      "Epoch 72/100\n",
      "1539/1539 [==============================] - 20s 13ms/step - loss: 575.0007 - mean_absolute_error: 16.7099 - root_mean_squared_error: 23.9792 - mean_absolute_percentage_error: 23.0591\n",
      "Epoch 73/100\n",
      "1539/1539 [==============================] - 19s 12ms/step - loss: 573.5557 - mean_absolute_error: 16.6633 - root_mean_squared_error: 23.9490 - mean_absolute_percentage_error: 23.0832\n",
      "Epoch 74/100\n",
      "1539/1539 [==============================] - 19s 12ms/step - loss: 576.5295 - mean_absolute_error: 16.6906 - root_mean_squared_error: 24.0110 - mean_absolute_percentage_error: 23.0339\n",
      "Epoch 75/100\n",
      "1539/1539 [==============================] - 19s 12ms/step - loss: 573.5238 - mean_absolute_error: 16.6688 - root_mean_squared_error: 23.9484 - mean_absolute_percentage_error: 22.9661\n",
      "Epoch 76/100\n",
      "1539/1539 [==============================] - 19s 12ms/step - loss: 573.3217 - mean_absolute_error: 16.6741 - root_mean_squared_error: 23.9441 - mean_absolute_percentage_error: 23.0036\n",
      "Epoch 77/100\n",
      "1539/1539 [==============================] - 19s 12ms/step - loss: 566.8599 - mean_absolute_error: 16.5808 - root_mean_squared_error: 23.8088 - mean_absolute_percentage_error: 22.8405\n",
      "Epoch 78/100\n",
      "1539/1539 [==============================] - 20s 13ms/step - loss: 572.1529 - mean_absolute_error: 16.6548 - root_mean_squared_error: 23.9197 - mean_absolute_percentage_error: 22.9860\n",
      "Epoch 79/100\n",
      "1539/1539 [==============================] - 19s 12ms/step - loss: 568.6203 - mean_absolute_error: 16.6133 - root_mean_squared_error: 23.8457 - mean_absolute_percentage_error: 22.9272\n",
      "Epoch 80/100\n",
      "1539/1539 [==============================] - 19s 12ms/step - loss: 567.0093 - mean_absolute_error: 16.5862 - root_mean_squared_error: 23.8120 - mean_absolute_percentage_error: 22.9066\n",
      "Epoch 81/100\n",
      "1539/1539 [==============================] - 19s 12ms/step - loss: 567.1009 - mean_absolute_error: 16.5896 - root_mean_squared_error: 23.8139 - mean_absolute_percentage_error: 22.9419\n",
      "Epoch 82/100\n",
      "1539/1539 [==============================] - 19s 12ms/step - loss: 565.8155 - mean_absolute_error: 16.5728 - root_mean_squared_error: 23.7869 - mean_absolute_percentage_error: 22.9038\n",
      "Epoch 83/100\n"
     ]
    },
    {
     "name": "stdout",
     "output_type": "stream",
     "text": [
      "1539/1539 [==============================] - 19s 12ms/step - loss: 563.8131 - mean_absolute_error: 16.5348 - root_mean_squared_error: 23.7448 - mean_absolute_percentage_error: 22.8360\n",
      "Epoch 84/100\n",
      "1539/1539 [==============================] - 19s 12ms/step - loss: 563.6140 - mean_absolute_error: 16.5379 - root_mean_squared_error: 23.7406 - mean_absolute_percentage_error: 22.8153\n",
      "Epoch 85/100\n",
      "1539/1539 [==============================] - 19s 13ms/step - loss: 564.7028 - mean_absolute_error: 16.5385 - root_mean_squared_error: 23.7635 - mean_absolute_percentage_error: 22.7777\n",
      "Epoch 86/100\n",
      "1539/1539 [==============================] - 19s 12ms/step - loss: 561.2717 - mean_absolute_error: 16.5089 - root_mean_squared_error: 23.6912 - mean_absolute_percentage_error: 22.7972\n",
      "Epoch 87/100\n",
      "1539/1539 [==============================] - 19s 12ms/step - loss: 560.5411 - mean_absolute_error: 16.4754 - root_mean_squared_error: 23.6758 - mean_absolute_percentage_error: 22.7608\n",
      "Epoch 88/100\n",
      "1539/1539 [==============================] - 19s 12ms/step - loss: 557.5010 - mean_absolute_error: 16.4596 - root_mean_squared_error: 23.6115 - mean_absolute_percentage_error: 22.8166\n",
      "Epoch 89/100\n",
      "1539/1539 [==============================] - 19s 12ms/step - loss: 559.7744 - mean_absolute_error: 16.4844 - root_mean_squared_error: 23.6595 - mean_absolute_percentage_error: 22.7316\n",
      "Epoch 90/100\n",
      "1539/1539 [==============================] - 19s 12ms/step - loss: 559.1675 - mean_absolute_error: 16.4639 - root_mean_squared_error: 23.6467 - mean_absolute_percentage_error: 22.7680\n",
      "Epoch 91/100\n",
      "1539/1539 [==============================] - 20s 13ms/step - loss: 555.3931 - mean_absolute_error: 16.4311 - root_mean_squared_error: 23.5668 - mean_absolute_percentage_error: 22.6992\n",
      "Epoch 92/100\n",
      "1539/1539 [==============================] - 19s 12ms/step - loss: 557.1454 - mean_absolute_error: 16.4427 - root_mean_squared_error: 23.6039 - mean_absolute_percentage_error: 22.6907\n",
      "Epoch 93/100\n",
      "1539/1539 [==============================] - 19s 12ms/step - loss: 551.3230 - mean_absolute_error: 16.3772 - root_mean_squared_error: 23.4803 - mean_absolute_percentage_error: 22.6150\n",
      "Epoch 94/100\n",
      "1539/1539 [==============================] - 19s 12ms/step - loss: 551.3080 - mean_absolute_error: 16.3645 - root_mean_squared_error: 23.4800 - mean_absolute_percentage_error: 22.6185\n",
      "Epoch 95/100\n",
      "1539/1539 [==============================] - 19s 12ms/step - loss: 551.7576 - mean_absolute_error: 16.3846 - root_mean_squared_error: 23.4895 - mean_absolute_percentage_error: 22.6273\n",
      "Epoch 96/100\n",
      "1539/1539 [==============================] - 19s 12ms/step - loss: 552.5552 - mean_absolute_error: 16.3921 - root_mean_squared_error: 23.5065 - mean_absolute_percentage_error: 22.6483\n",
      "Epoch 97/100\n",
      "1539/1539 [==============================] - 20s 13ms/step - loss: 548.5505 - mean_absolute_error: 16.3254 - root_mean_squared_error: 23.4212 - mean_absolute_percentage_error: 22.5066\n",
      "Epoch 98/100\n",
      "1539/1539 [==============================] - 19s 12ms/step - loss: 549.6218 - mean_absolute_error: 16.3425 - root_mean_squared_error: 23.4440 - mean_absolute_percentage_error: 22.5356\n",
      "Epoch 99/100\n",
      "1539/1539 [==============================] - 19s 12ms/step - loss: 547.2731 - mean_absolute_error: 16.3198 - root_mean_squared_error: 23.3939 - mean_absolute_percentage_error: 22.5369\n",
      "Epoch 100/100\n",
      "1539/1539 [==============================] - 19s 12ms/step - loss: 546.6660 - mean_absolute_error: 16.2969 - root_mean_squared_error: 23.3809 - mean_absolute_percentage_error: 22.5356\n"
     ]
    },
    {
     "data": {
      "text/plain": [
       "<tensorflow.python.keras.callbacks.History at 0x1c616e18fd0>"
      ]
     },
     "execution_count": 75,
     "metadata": {},
     "output_type": "execute_result"
    }
   ],
   "source": [
    "model60.fit(Xt60, yt60, \n",
    "            epochs = 100,\n",
    "            verbose = 1)"
   ]
  },
  {
   "cell_type": "code",
   "execution_count": 76,
   "metadata": {},
   "outputs": [
    {
     "name": "stdout",
     "output_type": "stream",
     "text": [
      "INFO:tensorflow:Assets written to: my_dir/6a-60\\assets\n"
     ]
    }
   ],
   "source": [
    "model60.save(\"my_dir/6a-60\")"
   ]
  },
  {
   "cell_type": "code",
   "execution_count": 77,
   "metadata": {},
   "outputs": [],
   "source": [
    "metrics60 = pd.DataFrame(model60.history.history)"
   ]
  },
  {
   "cell_type": "code",
   "execution_count": 78,
   "metadata": {},
   "outputs": [
    {
     "data": {
      "text/plain": [
       "<AxesSubplot:>"
      ]
     },
     "execution_count": 78,
     "metadata": {},
     "output_type": "execute_result"
    },
    {
     "data": {
      "image/png": "[encoded data removed]",
      "text/plain": [
       "<Figure size 432x288 with 1 Axes>"
      ]
     },
     "metadata": {
      "needs_background": "light"
     },
     "output_type": "display_data"
    }
   ],
   "source": [
    "metrics60[['loss']].plot()"
   ]
  },
  {
   "cell_type": "code",
   "execution_count": 79,
   "metadata": {},
   "outputs": [],
   "source": [
    "# model60 = keras.models.load_model(\"my_dir/6a-60\")"
   ]
  }
 ],
 "metadata": {
  "kernelspec": {
   "display_name": "Python 3 (ipykernel)",
   "language": "python",
   "name": "python3"
  },
  "language_info": {
   "codemirror_mode": {
    "name": "ipython",
    "version": 3
   },
   "file_extension": ".py",
   "mimetype": "text/x-python",
   "name": "python",
   "nbconvert_exporter": "python",
   "pygments_lexer": "ipython3",
   "version": "3.11.5"
  }
 },
 "nbformat": 4,
 "nbformat_minor": 4
}
