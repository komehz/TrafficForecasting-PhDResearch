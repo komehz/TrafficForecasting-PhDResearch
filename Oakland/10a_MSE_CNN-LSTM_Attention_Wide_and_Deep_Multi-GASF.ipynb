{
 "cells": [
  {
   "cell_type": "code",
   "execution_count": 1,
   "metadata": {},
   "outputs": [],
   "source": [
    "import pandas as pd\n",
    "import numpy as np\n",
    "import matplotlib.pyplot as plt\n",
    "import seaborn as sns\n",
    "import joblib\n",
    "import os"
   ]
  },
  {
   "cell_type": "code",
   "execution_count": 2,
   "metadata": {},
   "outputs": [],
   "source": [
    "import keras_tuner as kt\n",
    "from keras_tuner import RandomSearch\n",
    "# from GEH_LOSS import GEH_loss\n",
    "import geh as ga"
   ]
  },
  {
   "cell_type": "code",
   "execution_count": 3,
   "metadata": {},
   "outputs": [],
   "source": [
    "from sklearn.metrics import mean_absolute_error,mean_squared_error,mean_absolute_percentage_error"
   ]
  },
  {
   "cell_type": "code",
   "execution_count": 4,
   "metadata": {},
   "outputs": [],
   "source": [
    "import relative_accuracy as ra"
   ]
  },
  {
   "cell_type": "code",
   "execution_count": 5,
   "metadata": {},
   "outputs": [],
   "source": [
    "# Load all Inputs and Output Data\n",
    "\n",
    "# 5 mins (1 step ahead)\n",
    "Deep_train_5   = np.load(\"Deep_train_5_multi.npz\")['x'] \n",
    "Output_train_5 = np.load(\"Deep_train_5_multi.npz\")['y']\n",
    "\n",
    "Deep_test_5   = np.load(\"Deep_test_5_multi.npz\")['x'] \n",
    "Output_test_5 = np.load(\"Deep_test_5_multi.npz\")['y'] \n",
    "\n",
    "# 15 mins (3 steps ahead)\n",
    "Deep_train_15   = np.load(\"Deep_train_15_multi.npz\")['x'] \n",
    "Output_train_15 = np.load(\"Deep_train_15_multi.npz\")['y']\n",
    "\n",
    "Deep_test_15   = np.load(\"Deep_test_15_multi.npz\")['x'] \n",
    "Output_test_15 = np.load(\"Deep_test_15_multi.npz\")['y']\n",
    "\n",
    "# 30 mins (6 steps ahead)\n",
    "Deep_train_30   = np.load(\"Deep_train_30_multi.npz\")['x'] \n",
    "Output_train_30 = np.load(\"Deep_train_30_multi.npz\")['y']\n",
    "\n",
    "Deep_test_30   = np.load(\"Deep_test_30_multi.npz\")['x'] \n",
    "Output_test_30 = np.load(\"Deep_test_30_multi.npz\")['y']\n",
    "\n",
    "# 60 mins (12 steps ahead)\n",
    "Deep_train_60   = np.load(\"Deep_train_60_multi.npz\")['x'] \n",
    "Output_train_60 = np.load(\"Deep_train_60_multi.npz\")['y']\n",
    "\n",
    "Deep_test_60   = np.load(\"Deep_test_60_multi.npz\")['x'] \n",
    "Output_test_60 = np.load(\"Deep_test_60_multi.npz\")['y']"
   ]
  },
  {
   "cell_type": "code",
   "execution_count": 6,
   "metadata": {},
   "outputs": [],
   "source": [
    "# Wide Data\n",
    "Xtrain = joblib.load(\"002weeks_train_Multi.save\") \n",
    "Xtest = joblib.load(\"002weeks_test_Multi.save\") "
   ]
  },
  {
   "cell_type": "code",
   "execution_count": 7,
   "metadata": {},
   "outputs": [],
   "source": [
    "# 5 mins\n",
    "# Delete first 15 samples\n",
    "Wide_train_5 = np.delete(Xtrain, np.s_[0:15], 0)\n",
    "Wide_test_5 = np.delete(Xtest, np.s_[0:15], 0)"
   ]
  },
  {
   "cell_type": "code",
   "execution_count": 8,
   "metadata": {},
   "outputs": [],
   "source": [
    "# 15 mins\n",
    "# Delete first 17 samples\n",
    "Wide_train_15 = np.delete(Xtrain, np.s_[0:17], 0)\n",
    "Wide_test_15 = np.delete(Xtest, np.s_[0:17], 0)"
   ]
  },
  {
   "cell_type": "code",
   "execution_count": 9,
   "metadata": {},
   "outputs": [],
   "source": [
    "# 30 mins\n",
    "# Delete first 20 samples\n",
    "Wide_train_30 = np.delete(Xtrain, np.s_[0:20], 0)\n",
    "Wide_test_30 = np.delete(Xtest, np.s_[0:20], 0)"
   ]
  },
  {
   "cell_type": "code",
   "execution_count": 10,
   "metadata": {},
   "outputs": [],
   "source": [
    "# 60 mins\n",
    "# Delete first 27 samples\n",
    "Wide_train_60 = np.delete(Xtrain, np.s_[0:26], 0)\n",
    "Wide_test_60 = np.delete(Xtest, np.s_[0:26], 0)"
   ]
  },
  {
   "cell_type": "code",
   "execution_count": 11,
   "metadata": {},
   "outputs": [],
   "source": [
    "scaler_filename = \"scaler.save\"\n",
    "scaler = joblib.load(scaler_filename) "
   ]
  },
  {
   "cell_type": "code",
   "execution_count": 12,
   "metadata": {},
   "outputs": [],
   "source": [
    "Test      = pd.read_csv('01test_scaled.csv', index_col=None, parse_dates=[0])"
   ]
  },
  {
   "cell_type": "code",
   "execution_count": 13,
   "metadata": {},
   "outputs": [],
   "source": [
    "from pyts.image import GramianAngularField"
   ]
  },
  {
   "cell_type": "markdown",
   "metadata": {},
   "source": [
    "# Reshape Samples"
   ]
  },
  {
   "cell_type": "markdown",
   "metadata": {},
   "source": [
    "The first step is to split the input sequences into subsequences that can be processed by the CNN model. Here, each spatio-temporal sample can be split into three sub-samples, each with five time steps. The CNN can interpret each subsequence of five time steps and provide a time series of interpretations of the subsequences to the LSTM model to process as input."
   ]
  },
  {
   "cell_type": "code",
   "execution_count": 14,
   "metadata": {},
   "outputs": [],
   "source": [
    "# reshape from [samples, timesteps] into [samples, subsequences, timesteps, features]\n",
    "n_features = 6                # No of loop detectors\n",
    "n_seq = 3                     # Subsequences\n",
    "n_steps = 5                   # time-step per subsequence\n",
    "# val_percent = 0.07567       # 2 weeks\n",
    "val_percent = 0.2        \n",
    "batch_size = 32\n",
    "n_GAF = 15\n",
    "\n",
    "n_seq_ = 3                     # Subsequences\n",
    "n_steps_ = 3                   # time-step per subsequence"
   ]
  },
  {
   "cell_type": "code",
   "execution_count": 15,
   "metadata": {},
   "outputs": [],
   "source": [
    "# Summation\n",
    "gasf = GramianAngularField(image_size=1., method='summation', sample_range=None)\n",
    "# Difference\n",
    "gadf = GramianAngularField(image_size=1., method='difference', sample_range=None)"
   ]
  },
  {
   "cell_type": "markdown",
   "metadata": {},
   "source": [
    "#### 5 mins"
   ]
  },
  {
   "cell_type": "code",
   "execution_count": 16,
   "metadata": {},
   "outputs": [],
   "source": [
    "# Train\n",
    "Xt5 = np.empty((len(Deep_train_5), n_features, n_GAF, n_GAF))\n",
    "yt5 = scaler.inverse_transform(Output_train_5)"
   ]
  },
  {
   "cell_type": "code",
   "execution_count": 17,
   "metadata": {},
   "outputs": [],
   "source": [
    "# Test\n",
    "Xv5 = np.empty((len(Deep_test_5), n_features, n_GAF, n_GAF))\n",
    "yv5 = scaler.inverse_transform(Output_test_5)"
   ]
  },
  {
   "cell_type": "code",
   "execution_count": 18,
   "metadata": {},
   "outputs": [],
   "source": [
    "Deep_train_5 = np.where(np.isclose(Deep_train_5, 1, rtol=0, atol=1e-9), 1, Deep_train_5)\n",
    "Deep_test_5 = np.where(np.isclose(Deep_test_5, 1, rtol=0, atol=1e-9), 1, Deep_test_5)           "
   ]
  },
  {
   "cell_type": "markdown",
   "metadata": {},
   "source": [
    "#### 15 mins"
   ]
  },
  {
   "cell_type": "code",
   "execution_count": 19,
   "metadata": {},
   "outputs": [],
   "source": [
    "# Train\n",
    "Xt15 = np.empty((len(Deep_train_15), n_features, n_GAF, n_GAF))\n",
    "yt15 = scaler.inverse_transform(Output_train_15)"
   ]
  },
  {
   "cell_type": "code",
   "execution_count": 20,
   "metadata": {},
   "outputs": [],
   "source": [
    "# Test\n",
    "Xv15 = np.empty((len(Deep_test_15), n_features, n_GAF, n_GAF))\n",
    "yv15 = scaler.inverse_transform(Output_test_15)"
   ]
  },
  {
   "cell_type": "code",
   "execution_count": 21,
   "metadata": {},
   "outputs": [],
   "source": [
    "Deep_train_15 = np.where(np.isclose(Deep_train_15, 1, rtol=0, atol=1e-9), 1, Deep_train_15)\n",
    "Deep_test_15 = np.where(np.isclose(Deep_test_15, 1, rtol=0, atol=1e-9), 1, Deep_test_15)     "
   ]
  },
  {
   "cell_type": "markdown",
   "metadata": {},
   "source": [
    "#### 30 mins"
   ]
  },
  {
   "cell_type": "code",
   "execution_count": 22,
   "metadata": {},
   "outputs": [],
   "source": [
    "# Train\n",
    "Xt30 = np.empty((len(Deep_train_30), n_features, n_GAF, n_GAF))\n",
    "yt30 = scaler.inverse_transform(Output_train_30)"
   ]
  },
  {
   "cell_type": "code",
   "execution_count": 23,
   "metadata": {},
   "outputs": [],
   "source": [
    "# Test\n",
    "Xv30 = np.empty((len(Deep_test_30), n_features, n_GAF, n_GAF))\n",
    "yv30 = scaler.inverse_transform(Output_test_30)"
   ]
  },
  {
   "cell_type": "code",
   "execution_count": 24,
   "metadata": {},
   "outputs": [],
   "source": [
    "Deep_train_30 = np.where(np.isclose(Deep_train_30, 1, rtol=0, atol=1e-9), 1, Deep_train_30)\n",
    "Deep_test_30 = np.where(np.isclose(Deep_test_30, 1, rtol=0, atol=1e-9), 1, Deep_test_30)    "
   ]
  },
  {
   "cell_type": "markdown",
   "metadata": {},
   "source": [
    "#### 60 mins"
   ]
  },
  {
   "cell_type": "code",
   "execution_count": 25,
   "metadata": {},
   "outputs": [],
   "source": [
    "# Train\n",
    "Xt60 = np.empty((len(Deep_train_60), n_features, n_GAF, n_GAF))\n",
    "yt60 = scaler.inverse_transform(Output_train_60)"
   ]
  },
  {
   "cell_type": "code",
   "execution_count": 26,
   "metadata": {},
   "outputs": [],
   "source": [
    "# Test\n",
    "Xv60 = np.empty((len(Deep_test_60), n_features, n_GAF, n_GAF))\n",
    "yv60 = scaler.inverse_transform(Output_test_60)"
   ]
  },
  {
   "cell_type": "code",
   "execution_count": 27,
   "metadata": {},
   "outputs": [],
   "source": [
    "Deep_train_60 = np.where(np.isclose(Deep_train_60, 1, rtol=0, atol=1e-9), 1, Deep_train_60)\n",
    "Deep_test_60 = np.where(np.isclose(Deep_test_60, 1, rtol=0, atol=1e-9), 1, Deep_test_60) "
   ]
  },
  {
   "cell_type": "code",
   "execution_count": 28,
   "metadata": {},
   "outputs": [],
   "source": [
    "## Check Size"
   ]
  },
  {
   "cell_type": "code",
   "execution_count": 29,
   "metadata": {},
   "outputs": [
    {
     "data": {
      "text/plain": [
       "(49233, 6, 15, 15)"
      ]
     },
     "execution_count": 29,
     "metadata": {},
     "output_type": "execute_result"
    }
   ],
   "source": [
    "Xt5.shape"
   ]
  },
  {
   "cell_type": "markdown",
   "metadata": {},
   "source": [
    "## Tranformations"
   ]
  },
  {
   "cell_type": "markdown",
   "metadata": {},
   "source": [
    "### 5 mins"
   ]
  },
  {
   "cell_type": "code",
   "execution_count": 30,
   "metadata": {},
   "outputs": [],
   "source": [
    "for i in range(len(Xt5)):\n",
    "    # Transpose data first because:\n",
    "    # expected shape is (n_samples, n_timestamps)\n",
    "    X = np.transpose(Deep_train_5[i])\n",
    "    \n",
    "    # Perform the GAF transformations\n",
    "    X_gasf = gasf.transform(X)\n",
    "    # X_gadf = gadf.transform(X)\n",
    "    \n",
    "    # Store value in the array to get the shape:\n",
    "    # (samples, feature, n_GAF, n_GAF)\n",
    "    Xt5[i,:,:,:] = X_gasf\n",
    "    # Xt5[i,:,:,:] = X_gadf"
   ]
  },
  {
   "cell_type": "code",
   "execution_count": 31,
   "metadata": {},
   "outputs": [],
   "source": [
    "for i in range(len(Xv5)):\n",
    "    # Transpose data first because:\n",
    "    # expected shape is (n_samples, n_timestamps)\n",
    "    X = np.transpose(Deep_test_5[i])\n",
    "    \n",
    "    # Perform the GAF transformations\n",
    "    X_gasf = gasf.transform(X)\n",
    "    # X_gadf = gadf.transform(X)\n",
    "    \n",
    "    # Store value in the array to get the shape:\n",
    "    # (samples, feature, n_GAF, n_GAF)\n",
    "    Xv5[i,:,:,:] = X_gasf\n",
    "    # Xv5[i,:,:,:] = X_gadf"
   ]
  },
  {
   "cell_type": "code",
   "execution_count": 32,
   "metadata": {},
   "outputs": [
    {
     "data": {
      "text/plain": [
       "(49233, 6, 15, 15)"
      ]
     },
     "execution_count": 32,
     "metadata": {},
     "output_type": "execute_result"
    }
   ],
   "source": [
    "Xt5.shape"
   ]
  },
  {
   "cell_type": "code",
   "execution_count": 33,
   "metadata": {},
   "outputs": [
    {
     "data": {
      "text/plain": [
       "(4017, 6, 15, 15)"
      ]
     },
     "execution_count": 33,
     "metadata": {},
     "output_type": "execute_result"
    }
   ],
   "source": [
    "Xv5.shape"
   ]
  },
  {
   "cell_type": "markdown",
   "metadata": {},
   "source": [
    "### 15 mins"
   ]
  },
  {
   "cell_type": "code",
   "execution_count": 34,
   "metadata": {},
   "outputs": [],
   "source": [
    "for i in range(len(Xt15)):\n",
    "    # Transpose data first because:\n",
    "    # expected shape is (n_samples, n_timestamps)\n",
    "    X = np.transpose(Deep_train_15[i])\n",
    "    \n",
    "    # Perform the GAF transformations\n",
    "    X_gasf = gasf.transform(X)\n",
    "    # X_gadf = gadf.transform(X)\n",
    "    \n",
    "    # Store value in the array to get the shape:\n",
    "    # (samples, feature, n_GAF, n_GAF)\n",
    "    Xt15[i,:,:,:] = X_gasf\n",
    "    # Xt5[i,:,:,:] = X_gadf"
   ]
  },
  {
   "cell_type": "code",
   "execution_count": 35,
   "metadata": {},
   "outputs": [],
   "source": [
    "for i in range(len(Xv15)):\n",
    "    # Transpose data first because:\n",
    "    # expected shape is (n_samples, n_timestamps)\n",
    "    X = np.transpose(Deep_test_15[i])\n",
    "    \n",
    "    # Perform the GAF transformations\n",
    "    X_gasf = gasf.transform(X)\n",
    "    # X_gadf = gadf.transform(X)\n",
    "    \n",
    "    # Store value in the array to get the shape:\n",
    "    # (samples, feature, n_GAF, n_GAF)\n",
    "    Xv15[i,:,:,:] = X_gasf\n",
    "    # Xv5[i,:,:,:] = X_gadf"
   ]
  },
  {
   "cell_type": "code",
   "execution_count": 36,
   "metadata": {},
   "outputs": [
    {
     "data": {
      "text/plain": [
       "(49231, 6, 15, 15)"
      ]
     },
     "execution_count": 36,
     "metadata": {},
     "output_type": "execute_result"
    }
   ],
   "source": [
    "Xt15.shape"
   ]
  },
  {
   "cell_type": "code",
   "execution_count": 37,
   "metadata": {},
   "outputs": [
    {
     "data": {
      "text/plain": [
       "(4015, 6, 15, 15)"
      ]
     },
     "execution_count": 37,
     "metadata": {},
     "output_type": "execute_result"
    }
   ],
   "source": [
    "Xv15.shape"
   ]
  },
  {
   "cell_type": "markdown",
   "metadata": {},
   "source": [
    "### 30 mins"
   ]
  },
  {
   "cell_type": "code",
   "execution_count": 38,
   "metadata": {},
   "outputs": [],
   "source": [
    "for i in range(len(Xt30)):\n",
    "    # Transpose data first because:\n",
    "    # expected shape is (n_samples, n_timestamps)\n",
    "    X = np.transpose(Deep_train_30[i])\n",
    "    \n",
    "    # Perform the GAF transformations\n",
    "    X_gasf = gasf.transform(X)\n",
    "    # X_gadf = gadf.transform(X)\n",
    "    \n",
    "    # Store value in the array to get the shape:\n",
    "    # (samples, feature, n_GAF, n_GAF)\n",
    "    Xt30[i,:,:,:] = X_gasf\n",
    "    # Xt5[i,:,:,:] = X_gadf"
   ]
  },
  {
   "cell_type": "code",
   "execution_count": 39,
   "metadata": {},
   "outputs": [],
   "source": [
    "for i in range(len(Xv30)):\n",
    "    # Transpose data first because:\n",
    "    # expected shape is (n_samples, n_timestamps)\n",
    "    X = np.transpose(Deep_test_30[i])\n",
    "    \n",
    "    # Perform the GAF transformations\n",
    "    X_gasf = gasf.transform(X)\n",
    "    # X_gadf = gadf.transform(X)\n",
    "    \n",
    "    # Store value in the array to get the shape:\n",
    "    # (samples, feature, n_GAF, n_GAF)\n",
    "    Xv30[i,:,:,:] = X_gasf\n",
    "    # Xv5[i,:,:,:] = X_gadf"
   ]
  },
  {
   "cell_type": "code",
   "execution_count": 40,
   "metadata": {},
   "outputs": [
    {
     "data": {
      "text/plain": [
       "(49228, 6, 15, 15)"
      ]
     },
     "execution_count": 40,
     "metadata": {},
     "output_type": "execute_result"
    }
   ],
   "source": [
    "Xt30.shape"
   ]
  },
  {
   "cell_type": "code",
   "execution_count": 41,
   "metadata": {},
   "outputs": [
    {
     "data": {
      "text/plain": [
       "(4012, 6, 15, 15)"
      ]
     },
     "execution_count": 41,
     "metadata": {},
     "output_type": "execute_result"
    }
   ],
   "source": [
    "Xv30.shape"
   ]
  },
  {
   "cell_type": "markdown",
   "metadata": {},
   "source": [
    "### 60 mins"
   ]
  },
  {
   "cell_type": "code",
   "execution_count": 42,
   "metadata": {},
   "outputs": [],
   "source": [
    "for i in range(len(Xt60)):\n",
    "    # Transpose data first because:\n",
    "    # expected shape is (n_samples, n_timestamps)\n",
    "    X = np.transpose(Deep_train_60[i])\n",
    "    \n",
    "    # Perform the GAF transformations\n",
    "    X_gasf = gasf.transform(X)\n",
    "    # X_gadf = gadf.transform(X)\n",
    "    \n",
    "    # Store value in the array to get the shape:\n",
    "    # (samples, feature, n_GAF, n_GAF)\n",
    "    Xt30[i,:,:,:] = X_gasf\n",
    "    # Xt5[i,:,:,:] = X_gadf"
   ]
  },
  {
   "cell_type": "code",
   "execution_count": 43,
   "metadata": {},
   "outputs": [],
   "source": [
    "for i in range(len(Xv60)):\n",
    "    # Transpose data first because:\n",
    "    # expected shape is (n_samples, n_timestamps)\n",
    "    X = np.transpose(Deep_test_60[i])\n",
    "    \n",
    "    # Perform the GAF transformations\n",
    "    X_gasf = gasf.transform(X)\n",
    "    # X_gadf = gadf.transform(X)\n",
    "    \n",
    "    # Store value in the array to get the shape:\n",
    "    # (samples, feature, n_GAF, n_GAF)\n",
    "    Xv60[i,:,:,:] = X_gasf\n",
    "    # Xv5[i,:,:,:] = X_gadf"
   ]
  },
  {
   "cell_type": "code",
   "execution_count": 44,
   "metadata": {},
   "outputs": [
    {
     "data": {
      "text/plain": [
       "(49222, 6, 15, 15)"
      ]
     },
     "execution_count": 44,
     "metadata": {},
     "output_type": "execute_result"
    }
   ],
   "source": [
    "Xt60.shape"
   ]
  },
  {
   "cell_type": "code",
   "execution_count": 45,
   "metadata": {},
   "outputs": [
    {
     "data": {
      "text/plain": [
       "(4006, 6, 15, 15)"
      ]
     },
     "execution_count": 45,
     "metadata": {},
     "output_type": "execute_result"
    }
   ],
   "source": [
    "Xv60.shape"
   ]
  },
  {
   "cell_type": "markdown",
   "metadata": {},
   "source": [
    "### Reshaping the Data for Conv2D layer\n",
    "\n",
    "For Conv2D, there is a need to add one more dimension to show we're dealing with 1 channel (since technically the images are in black and white, only showing values from 0-max flow on a single channel).\n",
    "\n",
    "Conv1D - strides in 1 dimension\n",
    "Conv2D - strides in 2 dimensions"
   ]
  },
  {
   "cell_type": "code",
   "execution_count": 46,
   "metadata": {},
   "outputs": [],
   "source": [
    "# Train data\n",
    "Xt5  =  np.transpose(Xt5, (0, 2, 3, 1))\n",
    "Xt15 =  np.transpose(Xt15, (0, 2, 3, 1))\n",
    "Xt30 =  np.transpose(Xt30, (0, 2, 3, 1))\n",
    "Xt60 =  np.transpose(Xt60, (0, 2, 3, 1))\n",
    "\n",
    "# Validation data\n",
    "Xv5  =  np.transpose(Xv5, (0, 2, 3, 1))\n",
    "Xv15 =  np.transpose(Xv15, (0, 2, 3, 1))\n",
    "Xv30 =  np.transpose(Xv30, (0, 2, 3, 1))\n",
    "Xv60 =  np.transpose(Xv60, (0, 2, 3, 1))"
   ]
  },
  {
   "cell_type": "code",
   "execution_count": 47,
   "metadata": {},
   "outputs": [
    {
     "data": {
      "text/plain": [
       "(49233, 15, 15, 6)"
      ]
     },
     "execution_count": 47,
     "metadata": {},
     "output_type": "execute_result"
    }
   ],
   "source": [
    "Xt5.shape"
   ]
  },
  {
   "cell_type": "code",
   "execution_count": 48,
   "metadata": {},
   "outputs": [
    {
     "data": {
      "text/plain": [
       "(4017, 15, 15, 6)"
      ]
     },
     "execution_count": 48,
     "metadata": {},
     "output_type": "execute_result"
    }
   ],
   "source": [
    "Xv5.shape"
   ]
  },
  {
   "cell_type": "code",
   "execution_count": 49,
   "metadata": {},
   "outputs": [],
   "source": [
    "# Train data\n",
    "Xt5  =  Xt5.reshape(Xt5.shape[0], n_seq, n_steps, n_GAF, n_features)\n",
    "Xt15 =  Xt15.reshape(Xt15.shape[0], n_seq, n_steps, n_GAF, n_features)\n",
    "Xt30 =  Xt30.reshape(Xt30.shape[0], n_seq, n_steps, n_GAF, n_features)\n",
    "Xt60 =  Xt60.reshape(Xt60.shape[0], n_seq, n_steps, n_GAF, n_features)\n",
    "\n",
    "# Validation data\n",
    "Xv5  =  Xv5.reshape(Xv5.shape[0], n_seq, n_steps, n_GAF, n_features)\n",
    "Xv15 =  Xv15.reshape(Xv15.shape[0], n_seq, n_steps, n_GAF, n_features)\n",
    "Xv30 =  Xv30.reshape(Xv30.shape[0], n_seq, n_steps, n_GAF, n_features)\n",
    "Xv60 =  Xv60.reshape(Xv60.shape[0], n_seq, n_steps, n_GAF, n_features)"
   ]
  },
  {
   "cell_type": "code",
   "execution_count": 50,
   "metadata": {},
   "outputs": [],
   "source": [
    "Wt5  = Wide_train_5\n",
    "Wt15 = Wide_train_15\n",
    "Wt30 = Wide_train_30\n",
    "Wt60 = Wide_train_60\n",
    "\n",
    "Wv5  = Wide_test_5\n",
    "Wv15 = Wide_test_15\n",
    "Wv30 = Wide_test_30\n",
    "Wv60 = Wide_test_60"
   ]
  },
  {
   "cell_type": "code",
   "execution_count": 51,
   "metadata": {},
   "outputs": [],
   "source": [
    "# Train data\n",
    "Wt5  =  Wt5.reshape(Wt5.shape[0], n_seq_, n_steps_, n_features)\n",
    "Wt15 =  Wt15.reshape(Wt15.shape[0], n_seq_, n_steps_, n_features)\n",
    "Wt30 =  Wt30.reshape(Wt30.shape[0], n_seq_, n_steps_, n_features)\n",
    "Wt60 =  Wt60.reshape(Wt60.shape[0], n_seq_, n_steps_, n_features)\n",
    "\n",
    "# Validation data\n",
    "Wv5  =  Wv5.reshape(Wv5.shape[0], n_seq_, n_steps_, n_features)\n",
    "Wv15 =  Wv15.reshape(Wv15.shape[0], n_seq_, n_steps_, n_features)\n",
    "Wv30 =  Wv30.reshape(Wv30.shape[0], n_seq_, n_steps_, n_features)\n",
    "Wv60 =  Wv60.reshape(Wv60.shape[0], n_seq_, n_steps_, n_features)"
   ]
  },
  {
   "cell_type": "code",
   "execution_count": 52,
   "metadata": {},
   "outputs": [
    {
     "data": {
      "text/plain": [
       "(49233, 3, 5, 15, 6)"
      ]
     },
     "execution_count": 52,
     "metadata": {},
     "output_type": "execute_result"
    }
   ],
   "source": [
    "Xt5.shape"
   ]
  },
  {
   "cell_type": "code",
   "execution_count": 53,
   "metadata": {},
   "outputs": [
    {
     "data": {
      "text/plain": [
       "(49233, 3, 3, 6)"
      ]
     },
     "execution_count": 53,
     "metadata": {},
     "output_type": "execute_result"
    }
   ],
   "source": [
    "Wt5.shape"
   ]
  },
  {
   "cell_type": "markdown",
   "metadata": {},
   "source": [
    "# CNN-LSTM model"
   ]
  },
  {
   "cell_type": "code",
   "execution_count": 54,
   "metadata": {},
   "outputs": [],
   "source": [
    "from tensorflow import keras\n",
    "from keras_self_attention import SeqSelfAttention\n",
    "\n",
    "# Early Stopping\n",
    "early_stop = keras.callbacks.EarlyStopping(monitor='val_loss',patience=5, restore_best_weights = True)"
   ]
  },
  {
   "cell_type": "code",
   "execution_count": 55,
   "metadata": {},
   "outputs": [
    {
     "data": {
      "text/plain": [
       "(49233, 9, 6)"
      ]
     },
     "execution_count": 55,
     "metadata": {},
     "output_type": "execute_result"
    }
   ],
   "source": [
    "Wide_train_5.shape"
   ]
  },
  {
   "cell_type": "markdown",
   "metadata": {},
   "source": [
    "# 5 mins ahead"
   ]
  },
  {
   "cell_type": "code",
   "execution_count": 56,
   "metadata": {},
   "outputs": [],
   "source": [
    "def build_model_5(hp):\n",
    "    # Inputs\n",
    "    channel_Wide = keras.layers.Input(shape=Wt5.shape[1:], name=\"WideInput\")\n",
    "    channel_Deep = keras.layers.Input(shape=Xt5.shape[1:], name=\"DeepInput\")\n",
    "    units = hp.Int(\"units\", min_value=1, max_value=100, step=1)\n",
    "    \n",
    "    \n",
    "    # Wide Model\n",
    "    flatten_5w = keras.layers.TimeDistributed(keras.layers.Flatten())(channel_Wide)\n",
    "    Bi_5 = keras.layers.Bidirectional(\n",
    "        keras.layers.LSTM(units=units, return_sequences=True),\n",
    "        merge_mode=\"ave\"\n",
    "    )(flatten_5w)\n",
    "    \n",
    "    \n",
    "    # Deep Model\n",
    "    # CNN \n",
    "    CNN_5 = keras.layers.TimeDistributed(\n",
    "        keras.layers.Conv2D(filters=hp.Int(\"filters\", min_value=32, max_value=512, step=32),\n",
    "                            kernel_size=hp.Choice(\"kernel_size\", [2, 3]), activation='relu'))(channel_Deep)\n",
    "    flatten_5 = keras.layers.TimeDistributed(keras.layers.Flatten())(CNN_5)\n",
    "    # LSTM          \n",
    "    LSTM_5 = keras.layers.LSTM(units=units, return_sequences=True)(flatten_5)\n",
    "\n",
    "    \n",
    "    # Concatenation \n",
    "    concat = keras.layers.concatenate([Bi_5, LSTM_5], axis=1)\n",
    "\n",
    "    # Attention\n",
    "    Att_5 = SeqSelfAttention(attention_activation='sigmoid')(concat)\n",
    "    merge = keras.layers.Flatten()(concat)\n",
    "    \n",
    "    # Output\n",
    "    output = keras.layers.Dense(n_features, name= \"output\")(merge)\n",
    "    #print(output.shape)\n",
    "    \n",
    "    # Model\n",
    "    model_5 = keras.Model(inputs=[channel_Wide,channel_Deep], outputs=[output])\n",
    "\n",
    "    # Compile\n",
    "    model_5.compile(optimizer=keras.optimizers.Adam(hp.Choice(\"learning_rate\", [1e-2, 1e-3, 1e-4])), \n",
    "        loss=\"mse\", metrics=['MeanAbsoluteError','RootMeanSquaredError','MeanAbsolutePercentageError'])\n",
    "                                   \n",
    "    return model_5"
   ]
  },
  {
   "cell_type": "code",
   "execution_count": 57,
   "metadata": {},
   "outputs": [],
   "source": [
    "tuner5 = RandomSearch(\n",
    "    build_model_5,\n",
    "    objective=\"val_loss\",\n",
    "    max_trials=10,\n",
    "    executions_per_trial=2,\n",
    "    overwrite=False,\n",
    "    directory=os.path.normpath('C:/RunsOak'),\n",
    "    project_name=\"10a-5\",\n",
    ")"
   ]
  },
  {
   "cell_type": "code",
   "execution_count": 58,
   "metadata": {},
   "outputs": [
    {
     "name": "stdout",
     "output_type": "stream",
     "text": [
      "Search space summary\n",
      "Default search space size: 4\n",
      "units (Int)\n",
      "{'default': None, 'conditions': [], 'min_value': 1, 'max_value': 100, 'step': 1, 'sampling': 'linear'}\n",
      "filters (Int)\n",
      "{'default': None, 'conditions': [], 'min_value': 32, 'max_value': 512, 'step': 32, 'sampling': 'linear'}\n",
      "kernel_size (Choice)\n",
      "{'default': 2, 'conditions': [], 'values': [2, 3], 'ordered': True}\n",
      "learning_rate (Choice)\n",
      "{'default': 0.01, 'conditions': [], 'values': [0.01, 0.001, 0.0001], 'ordered': True}\n"
     ]
    }
   ],
   "source": [
    "tuner5.search_space_summary()"
   ]
  },
  {
   "cell_type": "code",
   "execution_count": 59,
   "metadata": {},
   "outputs": [
    {
     "name": "stdout",
     "output_type": "stream",
     "text": [
      "Trial 10 Complete [00h 23m 02s]\n",
      "val_loss: 727.9768676757812\n",
      "\n",
      "Best val_loss So Far: 402.4665069580078\n",
      "Total elapsed time: 10h 45m 17s\n",
      "INFO:tensorflow:Oracle triggered exit\n"
     ]
    }
   ],
   "source": [
    "tuner5.search((Wt5,Xt5), yt5, epochs=200,\n",
    "           validation_split = val_percent,\n",
    "           callbacks = [early_stop],\n",
    "           verbose=2)"
   ]
  },
  {
   "cell_type": "code",
   "execution_count": 60,
   "metadata": {},
   "outputs": [
    {
     "name": "stdout",
     "output_type": "stream",
     "text": [
      "Results summary\n",
      "Results in C:\\RunsOak\\10a-5\n",
      "Showing 1 best trials\n",
      "Objective(name=\"val_loss\", direction=\"min\")\n",
      "\n",
      "Trial 05 summary\n",
      "Hyperparameters:\n",
      "units: 80\n",
      "filters: 480\n",
      "kernel_size: 2\n",
      "learning_rate: 0.0001\n",
      "Score: 402.4665069580078\n"
     ]
    }
   ],
   "source": [
    "tuner5.results_summary(1)"
   ]
  },
  {
   "cell_type": "markdown",
   "metadata": {},
   "source": [
    "### Best Model"
   ]
  },
  {
   "cell_type": "code",
   "execution_count": 61,
   "metadata": {},
   "outputs": [],
   "source": [
    "best_hp5 = tuner5.get_best_hyperparameters()[0]\n",
    "model5 = tuner5.hypermodel.build(best_hp5)"
   ]
  },
  {
   "cell_type": "code",
   "execution_count": 62,
   "metadata": {},
   "outputs": [
    {
     "data": {
      "text/plain": [
       "['Best_HP/10a-5']"
      ]
     },
     "execution_count": 62,
     "metadata": {},
     "output_type": "execute_result"
    }
   ],
   "source": [
    "scaler_filename = \"Best_HP/10a-5\"\n",
    "joblib.dump(best_hp5, scaler_filename) "
   ]
  },
  {
   "cell_type": "code",
   "execution_count": 63,
   "metadata": {},
   "outputs": [],
   "source": [
    "scaler_filename = \"Best_HP/10a-5\"\n",
    "best_hp5 = joblib.load(scaler_filename) \n",
    "\n",
    "model5 = tuner5.hypermodel.build(best_hp5)"
   ]
  },
  {
   "cell_type": "code",
   "execution_count": 64,
   "metadata": {},
   "outputs": [
    {
     "name": "stdout",
     "output_type": "stream",
     "text": [
      "Model: \"model_2\"\n",
      "__________________________________________________________________________________________________\n",
      "Layer (type)                    Output Shape         Param #     Connected to                     \n",
      "==================================================================================================\n",
      "DeepInput (InputLayer)          [(None, 3, 5, 15, 6) 0                                            \n",
      "__________________________________________________________________________________________________\n",
      "WideInput (InputLayer)          [(None, 3, 3, 6)]    0                                            \n",
      "__________________________________________________________________________________________________\n",
      "time_distributed_7 (TimeDistrib (None, 3, 4, 14, 480 12000       DeepInput[0][0]                  \n",
      "__________________________________________________________________________________________________\n",
      "time_distributed_6 (TimeDistrib (None, 3, 18)        0           WideInput[0][0]                  \n",
      "__________________________________________________________________________________________________\n",
      "time_distributed_8 (TimeDistrib (None, 3, 26880)     0           time_distributed_7[0][0]         \n",
      "__________________________________________________________________________________________________\n",
      "bidirectional_2 (Bidirectional) (None, 3, 80)        63360       time_distributed_6[0][0]         \n",
      "__________________________________________________________________________________________________\n",
      "lstm_5 (LSTM)                   (None, 3, 80)        8627520     time_distributed_8[0][0]         \n",
      "__________________________________________________________________________________________________\n",
      "concatenate_2 (Concatenate)     (None, 6, 80)        0           bidirectional_2[0][0]            \n",
      "                                                                 lstm_5[0][0]                     \n",
      "__________________________________________________________________________________________________\n",
      "flatten_8 (Flatten)             (None, 480)          0           concatenate_2[0][0]              \n",
      "__________________________________________________________________________________________________\n",
      "output (Dense)                  (None, 6)            2886        flatten_8[0][0]                  \n",
      "==================================================================================================\n",
      "Total params: 8,705,766\n",
      "Trainable params: 8,705,766\n",
      "Non-trainable params: 0\n",
      "__________________________________________________________________________________________________\n"
     ]
    }
   ],
   "source": [
    "model5.summary()"
   ]
  },
  {
   "cell_type": "code",
   "execution_count": 65,
   "metadata": {},
   "outputs": [
    {
     "name": "stdout",
     "output_type": "stream",
     "text": [
      "Epoch 1/100\n",
      "1231/1231 [==============================] - 73s 56ms/step - loss: 23638.3887 - mean_absolute_error: 119.7864 - root_mean_squared_error: 153.7479 - mean_absolute_percentage_error: 89.8638 - val_loss: 18476.4824 - val_mean_absolute_error: 102.3614 - val_root_mean_squared_error: 135.9283 - val_mean_absolute_percentage_error: 105.4675\n",
      "Epoch 2/100\n",
      "1231/1231 [==============================] - 69s 56ms/step - loss: 13971.8799 - mean_absolute_error: 87.9010 - root_mean_squared_error: 118.2028 - mean_absolute_percentage_error: 114.1693 - val_loss: 11447.9385 - val_mean_absolute_error: 77.2110 - val_root_mean_squared_error: 106.9951 - val_mean_absolute_percentage_error: 110.8341\n",
      "Epoch 3/100\n",
      "1231/1231 [==============================] - 71s 57ms/step - loss: 8580.7549 - mean_absolute_error: 65.4738 - root_mean_squared_error: 92.6324 - mean_absolute_percentage_error: 99.1686 - val_loss: 7141.3716 - val_mean_absolute_error: 58.3772 - val_root_mean_squared_error: 84.5066 - val_mean_absolute_percentage_error: 93.7636\n",
      "Epoch 4/100\n",
      "1231/1231 [==============================] - 68s 55ms/step - loss: 5477.5547 - mean_absolute_error: 51.0320 - root_mean_squared_error: 74.0105 - mean_absolute_percentage_error: 86.1607 - val_loss: 4671.4819 - val_mean_absolute_error: 46.3637 - val_root_mean_squared_error: 68.3482 - val_mean_absolute_percentage_error: 77.5350\n",
      "Epoch 5/100\n",
      "1231/1231 [==============================] - 70s 57ms/step - loss: 3698.2437 - mean_absolute_error: 41.7425 - root_mean_squared_error: 60.8132 - mean_absolute_percentage_error: 72.1673 - val_loss: 3223.7268 - val_mean_absolute_error: 38.6733 - val_root_mean_squared_error: 56.7779 - val_mean_absolute_percentage_error: 63.4726\n",
      "Epoch 6/100\n",
      "1231/1231 [==============================] - 69s 56ms/step - loss: 2685.1465 - mean_absolute_error: 35.9788 - root_mean_squared_error: 51.8184 - mean_absolute_percentage_error: 61.5695 - val_loss: 2382.7559 - val_mean_absolute_error: 33.9129 - val_root_mean_squared_error: 48.8135 - val_mean_absolute_percentage_error: 53.3626\n",
      "Epoch 7/100\n",
      "1231/1231 [==============================] - 69s 56ms/step - loss: 2118.5144 - mean_absolute_error: 32.4813 - root_mean_squared_error: 46.0273 - mean_absolute_percentage_error: 53.5992 - val_loss: 1874.6593 - val_mean_absolute_error: 30.6555 - val_root_mean_squared_error: 43.2973 - val_mean_absolute_percentage_error: 46.0068\n",
      "Epoch 8/100\n",
      "1231/1231 [==============================] - 69s 56ms/step - loss: 1798.7927 - mean_absolute_error: 30.3610 - root_mean_squared_error: 42.4122 - mean_absolute_percentage_error: 48.5114 - val_loss: 1584.7886 - val_mean_absolute_error: 28.7323 - val_root_mean_squared_error: 39.8094 - val_mean_absolute_percentage_error: 42.1288\n",
      "Epoch 9/100\n",
      "1231/1231 [==============================] - 69s 56ms/step - loss: 1620.7986 - mean_absolute_error: 29.0064 - root_mean_squared_error: 40.2591 - mean_absolute_percentage_error: 44.9794 - val_loss: 1398.9431 - val_mean_absolute_error: 27.3477 - val_root_mean_squared_error: 37.4024 - val_mean_absolute_percentage_error: 40.2534\n",
      "Epoch 10/100\n",
      "1231/1231 [==============================] - 71s 57ms/step - loss: 1505.3938 - mean_absolute_error: 27.9826 - root_mean_squared_error: 38.7994 - mean_absolute_percentage_error: 42.4288 - val_loss: 1279.0308 - val_mean_absolute_error: 26.2560 - val_root_mean_squared_error: 35.7635 - val_mean_absolute_percentage_error: 38.4733\n",
      "Epoch 11/100\n",
      "1231/1231 [==============================] - 69s 56ms/step - loss: 1418.5962 - mean_absolute_error: 27.1335 - root_mean_squared_error: 37.6643 - mean_absolute_percentage_error: 40.8331 - val_loss: 1198.1127 - val_mean_absolute_error: 25.4831 - val_root_mean_squared_error: 34.6138 - val_mean_absolute_percentage_error: 37.6049\n",
      "Epoch 12/100\n",
      "1231/1231 [==============================] - 69s 56ms/step - loss: 1344.9753 - mean_absolute_error: 26.4076 - root_mean_squared_error: 36.6739 - mean_absolute_percentage_error: 39.9031 - val_loss: 1133.9750 - val_mean_absolute_error: 24.8428 - val_root_mean_squared_error: 33.6745 - val_mean_absolute_percentage_error: 36.5587\n",
      "Epoch 13/100\n",
      "1231/1231 [==============================] - 70s 57ms/step - loss: 1253.7216 - mean_absolute_error: 25.5197 - root_mean_squared_error: 35.4079 - mean_absolute_percentage_error: 39.0917 - val_loss: 1035.6263 - val_mean_absolute_error: 23.7787 - val_root_mean_squared_error: 32.1811 - val_mean_absolute_percentage_error: 34.8897\n",
      "Epoch 14/100\n",
      "1231/1231 [==============================] - 69s 56ms/step - loss: 1110.2355 - mean_absolute_error: 24.0309 - root_mean_squared_error: 33.3202 - mean_absolute_percentage_error: 37.1289 - val_loss: 919.1454 - val_mean_absolute_error: 22.4095 - val_root_mean_squared_error: 30.3174 - val_mean_absolute_percentage_error: 34.9497\n",
      "Epoch 15/100\n",
      "1231/1231 [==============================] - 69s 56ms/step - loss: 965.9705 - mean_absolute_error: 22.3877 - root_mean_squared_error: 31.0800 - mean_absolute_percentage_error: 36.2881 - val_loss: 794.3741 - val_mean_absolute_error: 20.7827 - val_root_mean_squared_error: 28.1846 - val_mean_absolute_percentage_error: 34.2311\n",
      "Epoch 16/100\n",
      "1231/1231 [==============================] - 71s 58ms/step - loss: 843.0446 - mean_absolute_error: 20.8019 - root_mean_squared_error: 29.0352 - mean_absolute_percentage_error: 35.3229 - val_loss: 702.0427 - val_mean_absolute_error: 19.3886 - val_root_mean_squared_error: 26.4961 - val_mean_absolute_percentage_error: 33.4547\n",
      "Epoch 17/100\n",
      "1231/1231 [==============================] - 69s 56ms/step - loss: 759.4131 - mean_absolute_error: 19.6274 - root_mean_squared_error: 27.5575 - mean_absolute_percentage_error: 33.8922 - val_loss: 632.3530 - val_mean_absolute_error: 18.2671 - val_root_mean_squared_error: 25.1466 - val_mean_absolute_percentage_error: 31.9151\n",
      "Epoch 18/100\n",
      "1231/1231 [==============================] - 69s 56ms/step - loss: 700.4202 - mean_absolute_error: 18.7822 - root_mean_squared_error: 26.4655 - mean_absolute_percentage_error: 32.4509 - val_loss: 604.2377 - val_mean_absolute_error: 17.8050 - val_root_mean_squared_error: 24.5812 - val_mean_absolute_percentage_error: 28.0412\n",
      "Epoch 19/100\n",
      "1231/1231 [==============================] - 70s 57ms/step - loss: 655.9962 - mean_absolute_error: 18.1339 - root_mean_squared_error: 25.6124 - mean_absolute_percentage_error: 31.2338 - val_loss: 565.7010 - val_mean_absolute_error: 17.1113 - val_root_mean_squared_error: 23.7845 - val_mean_absolute_percentage_error: 26.8295\n",
      "Epoch 20/100\n",
      "1231/1231 [==============================] - 69s 56ms/step - loss: 619.9033 - mean_absolute_error: 17.6187 - root_mean_squared_error: 24.8979 - mean_absolute_percentage_error: 30.2700 - val_loss: 530.2245 - val_mean_absolute_error: 16.5323 - val_root_mean_squared_error: 23.0266 - val_mean_absolute_percentage_error: 29.6361\n",
      "Epoch 21/100\n",
      "1231/1231 [==============================] - 70s 57ms/step - loss: 590.8599 - mean_absolute_error: 17.2193 - root_mean_squared_error: 24.3076 - mean_absolute_percentage_error: 29.5149 - val_loss: 514.3090 - val_mean_absolute_error: 16.2190 - val_root_mean_squared_error: 22.6784 - val_mean_absolute_percentage_error: 27.0524\n",
      "Epoch 22/100\n",
      "1231/1231 [==============================] - 69s 56ms/step - loss: 565.8898 - mean_absolute_error: 16.8626 - root_mean_squared_error: 23.7884 - mean_absolute_percentage_error: 28.9289 - val_loss: 497.2877 - val_mean_absolute_error: 15.9507 - val_root_mean_squared_error: 22.2999 - val_mean_absolute_percentage_error: 27.1069\n",
      "Epoch 23/100\n",
      "1231/1231 [==============================] - 69s 56ms/step - loss: 543.8990 - mean_absolute_error: 16.5508 - root_mean_squared_error: 23.3216 - mean_absolute_percentage_error: 28.2471 - val_loss: 487.9168 - val_mean_absolute_error: 15.7143 - val_root_mean_squared_error: 22.0888 - val_mean_absolute_percentage_error: 26.3013\n",
      "Epoch 24/100\n",
      "1231/1231 [==============================] - 71s 57ms/step - loss: 525.4021 - mean_absolute_error: 16.3043 - root_mean_squared_error: 22.9216 - mean_absolute_percentage_error: 27.8303 - val_loss: 477.8069 - val_mean_absolute_error: 15.5686 - val_root_mean_squared_error: 21.8588 - val_mean_absolute_percentage_error: 25.7444\n",
      "Epoch 25/100\n",
      "1231/1231 [==============================] - 69s 56ms/step - loss: 509.3387 - mean_absolute_error: 16.0578 - root_mean_squared_error: 22.5685 - mean_absolute_percentage_error: 27.2038 - val_loss: 468.8336 - val_mean_absolute_error: 15.4825 - val_root_mean_squared_error: 21.6526 - val_mean_absolute_percentage_error: 24.8554\n",
      "Epoch 26/100\n",
      "1231/1231 [==============================] - 70s 57ms/step - loss: 493.8429 - mean_absolute_error: 15.8378 - root_mean_squared_error: 22.2226 - mean_absolute_percentage_error: 26.6913 - val_loss: 457.1864 - val_mean_absolute_error: 15.1877 - val_root_mean_squared_error: 21.3819 - val_mean_absolute_percentage_error: 24.8809\n",
      "Epoch 27/100\n",
      "1231/1231 [==============================] - 70s 57ms/step - loss: 480.4698 - mean_absolute_error: 15.6211 - root_mean_squared_error: 21.9196 - mean_absolute_percentage_error: 26.1587 - val_loss: 462.3915 - val_mean_absolute_error: 15.4140 - val_root_mean_squared_error: 21.5033 - val_mean_absolute_percentage_error: 28.6407\n",
      "Epoch 28/100\n",
      "1231/1231 [==============================] - 69s 56ms/step - loss: 469.1339 - mean_absolute_error: 15.4505 - root_mean_squared_error: 21.6595 - mean_absolute_percentage_error: 25.7860 - val_loss: 454.3812 - val_mean_absolute_error: 15.1565 - val_root_mean_squared_error: 21.3162 - val_mean_absolute_percentage_error: 22.7766\n",
      "Epoch 29/100\n",
      "1231/1231 [==============================] - 69s 56ms/step - loss: 458.7925 - mean_absolute_error: 15.2801 - root_mean_squared_error: 21.4195 - mean_absolute_percentage_error: 25.3477 - val_loss: 441.6386 - val_mean_absolute_error: 15.0152 - val_root_mean_squared_error: 21.0152 - val_mean_absolute_percentage_error: 27.0308\n",
      "Epoch 30/100\n",
      "1231/1231 [==============================] - 69s 56ms/step - loss: 449.6250 - mean_absolute_error: 15.1284 - root_mean_squared_error: 21.2044 - mean_absolute_percentage_error: 24.9765 - val_loss: 436.2259 - val_mean_absolute_error: 14.8010 - val_root_mean_squared_error: 20.8860 - val_mean_absolute_percentage_error: 21.9358\n",
      "Epoch 31/100\n",
      "1231/1231 [==============================] - 69s 56ms/step - loss: 441.3020 - mean_absolute_error: 14.9864 - root_mean_squared_error: 21.0072 - mean_absolute_percentage_error: 24.4991 - val_loss: 432.6255 - val_mean_absolute_error: 14.7587 - val_root_mean_squared_error: 20.7997 - val_mean_absolute_percentage_error: 23.7601\n",
      "Epoch 32/100\n",
      "1231/1231 [==============================] - 69s 56ms/step - loss: 434.8929 - mean_absolute_error: 14.8887 - root_mean_squared_error: 20.8541 - mean_absolute_percentage_error: 24.4548 - val_loss: 431.8178 - val_mean_absolute_error: 14.7926 - val_root_mean_squared_error: 20.7802 - val_mean_absolute_percentage_error: 23.8111\n",
      "Epoch 33/100\n",
      "1231/1231 [==============================] - 69s 56ms/step - loss: 427.2047 - mean_absolute_error: 14.7536 - root_mean_squared_error: 20.6689 - mean_absolute_percentage_error: 24.0201 - val_loss: 436.8301 - val_mean_absolute_error: 14.8349 - val_root_mean_squared_error: 20.9005 - val_mean_absolute_percentage_error: 21.7875\n",
      "Epoch 34/100\n",
      "1231/1231 [==============================] - 69s 56ms/step - loss: 421.8601 - mean_absolute_error: 14.6689 - root_mean_squared_error: 20.5392 - mean_absolute_percentage_error: 23.8252 - val_loss: 422.7028 - val_mean_absolute_error: 14.5501 - val_root_mean_squared_error: 20.5597 - val_mean_absolute_percentage_error: 22.4626\n",
      "Epoch 35/100\n",
      "1231/1231 [==============================] - 70s 57ms/step - loss: 416.4951 - mean_absolute_error: 14.5767 - root_mean_squared_error: 20.4082 - mean_absolute_percentage_error: 23.6260 - val_loss: 421.5869 - val_mean_absolute_error: 14.4693 - val_root_mean_squared_error: 20.5326 - val_mean_absolute_percentage_error: 20.7346\n",
      "Epoch 36/100\n",
      "1231/1231 [==============================] - 67s 55ms/step - loss: 412.0978 - mean_absolute_error: 14.4984 - root_mean_squared_error: 20.3002 - mean_absolute_percentage_error: 23.3913 - val_loss: 428.4660 - val_mean_absolute_error: 14.7501 - val_root_mean_squared_error: 20.6994 - val_mean_absolute_percentage_error: 21.0962\n",
      "Epoch 37/100\n",
      "1231/1231 [==============================] - 69s 56ms/step - loss: 407.2201 - mean_absolute_error: 14.4133 - root_mean_squared_error: 20.1797 - mean_absolute_percentage_error: 23.2787 - val_loss: 420.4065 - val_mean_absolute_error: 14.5193 - val_root_mean_squared_error: 20.5038 - val_mean_absolute_percentage_error: 22.1826\n",
      "Epoch 38/100\n",
      "1231/1231 [==============================] - 70s 57ms/step - loss: 402.8528 - mean_absolute_error: 14.3165 - root_mean_squared_error: 20.0712 - mean_absolute_percentage_error: 22.9480 - val_loss: 423.9332 - val_mean_absolute_error: 14.5893 - val_root_mean_squared_error: 20.5896 - val_mean_absolute_percentage_error: 20.9490\n",
      "Epoch 39/100\n",
      "1231/1231 [==============================] - 69s 56ms/step - loss: 399.3857 - mean_absolute_error: 14.2602 - root_mean_squared_error: 19.9846 - mean_absolute_percentage_error: 22.8616 - val_loss: 417.5263 - val_mean_absolute_error: 14.4671 - val_root_mean_squared_error: 20.4335 - val_mean_absolute_percentage_error: 22.8533\n",
      "Epoch 40/100\n",
      "1231/1231 [==============================] - 69s 56ms/step - loss: 395.8782 - mean_absolute_error: 14.1999 - root_mean_squared_error: 19.8967 - mean_absolute_percentage_error: 22.7534 - val_loss: 412.7420 - val_mean_absolute_error: 14.3339 - val_root_mean_squared_error: 20.3160 - val_mean_absolute_percentage_error: 21.0387\n",
      "Epoch 41/100\n",
      "1231/1231 [==============================] - 70s 57ms/step - loss: 392.6762 - mean_absolute_error: 14.1349 - root_mean_squared_error: 19.8161 - mean_absolute_percentage_error: 22.5678 - val_loss: 413.4455 - val_mean_absolute_error: 14.3208 - val_root_mean_squared_error: 20.3334 - val_mean_absolute_percentage_error: 19.8449\n",
      "Epoch 42/100\n",
      "1231/1231 [==============================] - 68s 55ms/step - loss: 389.0903 - mean_absolute_error: 14.0664 - root_mean_squared_error: 19.7254 - mean_absolute_percentage_error: 22.3994 - val_loss: 416.0805 - val_mean_absolute_error: 14.4288 - val_root_mean_squared_error: 20.3980 - val_mean_absolute_percentage_error: 22.1170\n",
      "Epoch 43/100\n",
      "1231/1231 [==============================] - 69s 56ms/step - loss: 385.9445 - mean_absolute_error: 14.0077 - root_mean_squared_error: 19.6455 - mean_absolute_percentage_error: 22.2414 - val_loss: 413.1092 - val_mean_absolute_error: 14.3338 - val_root_mean_squared_error: 20.3251 - val_mean_absolute_percentage_error: 20.6784\n",
      "Epoch 44/100\n",
      "1231/1231 [==============================] - 69s 56ms/step - loss: 383.1943 - mean_absolute_error: 13.9483 - root_mean_squared_error: 19.5753 - mean_absolute_percentage_error: 22.0751 - val_loss: 406.9673 - val_mean_absolute_error: 14.2266 - val_root_mean_squared_error: 20.1734 - val_mean_absolute_percentage_error: 21.3549\n",
      "Epoch 45/100\n",
      "1231/1231 [==============================] - 69s 56ms/step - loss: 380.0394 - mean_absolute_error: 13.8932 - root_mean_squared_error: 19.4946 - mean_absolute_percentage_error: 21.9447 - val_loss: 407.0963 - val_mean_absolute_error: 14.2206 - val_root_mean_squared_error: 20.1766 - val_mean_absolute_percentage_error: 20.0871\n",
      "Epoch 46/100\n",
      "1231/1231 [==============================] - 70s 57ms/step - loss: 377.7532 - mean_absolute_error: 13.8545 - root_mean_squared_error: 19.4359 - mean_absolute_percentage_error: 21.9449 - val_loss: 405.5931 - val_mean_absolute_error: 14.2262 - val_root_mean_squared_error: 20.1393 - val_mean_absolute_percentage_error: 22.1957\n",
      "Epoch 47/100\n",
      "1231/1231 [==============================] - 69s 56ms/step - loss: 375.2453 - mean_absolute_error: 13.7969 - root_mean_squared_error: 19.3712 - mean_absolute_percentage_error: 21.7151 - val_loss: 409.0644 - val_mean_absolute_error: 14.2516 - val_root_mean_squared_error: 20.2253 - val_mean_absolute_percentage_error: 21.2247\n",
      "Epoch 48/100\n",
      "1231/1231 [==============================] - 69s 56ms/step - loss: 373.8743 - mean_absolute_error: 13.7791 - root_mean_squared_error: 19.3358 - mean_absolute_percentage_error: 21.7311 - val_loss: 409.6329 - val_mean_absolute_error: 14.2543 - val_root_mean_squared_error: 20.2394 - val_mean_absolute_percentage_error: 20.9039\n",
      "Epoch 49/100\n"
     ]
    },
    {
     "name": "stdout",
     "output_type": "stream",
     "text": [
      "1231/1231 [==============================] - 69s 56ms/step - loss: 370.4613 - mean_absolute_error: 13.7100 - root_mean_squared_error: 19.2474 - mean_absolute_percentage_error: 21.5460 - val_loss: 408.0188 - val_mean_absolute_error: 14.3957 - val_root_mean_squared_error: 20.1995 - val_mean_absolute_percentage_error: 25.0396\n",
      "Epoch 50/100\n",
      "1231/1231 [==============================] - 69s 56ms/step - loss: 369.1115 - mean_absolute_error: 13.6854 - root_mean_squared_error: 19.2123 - mean_absolute_percentage_error: 21.5575 - val_loss: 406.6240 - val_mean_absolute_error: 14.3858 - val_root_mean_squared_error: 20.1649 - val_mean_absolute_percentage_error: 25.6479\n",
      "Epoch 51/100\n",
      "1231/1231 [==============================] - 70s 57ms/step - loss: 366.2777 - mean_absolute_error: 13.6352 - root_mean_squared_error: 19.1384 - mean_absolute_percentage_error: 21.3825 - val_loss: 404.4504 - val_mean_absolute_error: 14.1948 - val_root_mean_squared_error: 20.1109 - val_mean_absolute_percentage_error: 22.2105\n",
      "Epoch 52/100\n",
      "1231/1231 [==============================] - 69s 56ms/step - loss: 365.4790 - mean_absolute_error: 13.6296 - root_mean_squared_error: 19.1175 - mean_absolute_percentage_error: 21.4423 - val_loss: 410.0547 - val_mean_absolute_error: 14.2695 - val_root_mean_squared_error: 20.2498 - val_mean_absolute_percentage_error: 20.0520\n",
      "Epoch 53/100\n",
      "1231/1231 [==============================] - 69s 56ms/step - loss: 363.3197 - mean_absolute_error: 13.5703 - root_mean_squared_error: 19.0609 - mean_absolute_percentage_error: 21.1702 - val_loss: 401.9082 - val_mean_absolute_error: 14.0685 - val_root_mean_squared_error: 20.0476 - val_mean_absolute_percentage_error: 19.6640\n",
      "Epoch 54/100\n",
      "1231/1231 [==============================] - 69s 56ms/step - loss: 360.9612 - mean_absolute_error: 13.5258 - root_mean_squared_error: 18.9990 - mean_absolute_percentage_error: 21.1030 - val_loss: 408.8528 - val_mean_absolute_error: 14.3897 - val_root_mean_squared_error: 20.2201 - val_mean_absolute_percentage_error: 23.6381\n",
      "Epoch 55/100\n",
      "1231/1231 [==============================] - 71s 57ms/step - loss: 359.7324 - mean_absolute_error: 13.5128 - root_mean_squared_error: 18.9666 - mean_absolute_percentage_error: 21.1445 - val_loss: 403.8689 - val_mean_absolute_error: 14.2564 - val_root_mean_squared_error: 20.0965 - val_mean_absolute_percentage_error: 23.6930\n",
      "Epoch 56/100\n",
      "1231/1231 [==============================] - 69s 56ms/step - loss: 357.7787 - mean_absolute_error: 13.4685 - root_mean_squared_error: 18.9150 - mean_absolute_percentage_error: 20.9848 - val_loss: 402.7487 - val_mean_absolute_error: 14.0656 - val_root_mean_squared_error: 20.0686 - val_mean_absolute_percentage_error: 19.4414\n",
      "Epoch 57/100\n",
      "1231/1231 [==============================] - 70s 56ms/step - loss: 356.7395 - mean_absolute_error: 13.4564 - root_mean_squared_error: 18.8876 - mean_absolute_percentage_error: 20.9273 - val_loss: 403.1737 - val_mean_absolute_error: 14.1181 - val_root_mean_squared_error: 20.0792 - val_mean_absolute_percentage_error: 20.9474\n",
      "Epoch 58/100\n",
      "1231/1231 [==============================] - 70s 57ms/step - loss: 354.5194 - mean_absolute_error: 13.4153 - root_mean_squared_error: 18.8287 - mean_absolute_percentage_error: 20.9265 - val_loss: 401.5225 - val_mean_absolute_error: 14.0549 - val_root_mean_squared_error: 20.0380 - val_mean_absolute_percentage_error: 20.0256\n",
      "Epoch 59/100\n",
      "1231/1231 [==============================] - 70s 57ms/step - loss: 352.0823 - mean_absolute_error: 13.3559 - root_mean_squared_error: 18.7638 - mean_absolute_percentage_error: 20.6768 - val_loss: 401.0030 - val_mean_absolute_error: 14.0415 - val_root_mean_squared_error: 20.0251 - val_mean_absolute_percentage_error: 19.1151\n",
      "Epoch 60/100\n",
      "1231/1231 [==============================] - 69s 56ms/step - loss: 351.2865 - mean_absolute_error: 13.3485 - root_mean_squared_error: 18.7426 - mean_absolute_percentage_error: 20.7886 - val_loss: 404.5371 - val_mean_absolute_error: 14.0899 - val_root_mean_squared_error: 20.1131 - val_mean_absolute_percentage_error: 19.0314\n",
      "Epoch 61/100\n",
      "1231/1231 [==============================] - 68s 55ms/step - loss: 349.9371 - mean_absolute_error: 13.3221 - root_mean_squared_error: 18.7066 - mean_absolute_percentage_error: 20.6910 - val_loss: 404.6148 - val_mean_absolute_error: 14.1063 - val_root_mean_squared_error: 20.1150 - val_mean_absolute_percentage_error: 19.4444\n",
      "Epoch 62/100\n",
      "1231/1231 [==============================] - 70s 56ms/step - loss: 347.7626 - mean_absolute_error: 13.2706 - root_mean_squared_error: 18.6484 - mean_absolute_percentage_error: 20.5803 - val_loss: 401.3813 - val_mean_absolute_error: 14.0579 - val_root_mean_squared_error: 20.0345 - val_mean_absolute_percentage_error: 20.0510\n",
      "Epoch 63/100\n",
      "1231/1231 [==============================] - 70s 57ms/step - loss: 347.3960 - mean_absolute_error: 13.2742 - root_mean_squared_error: 18.6385 - mean_absolute_percentage_error: 20.6139 - val_loss: 408.1492 - val_mean_absolute_error: 14.2032 - val_root_mean_squared_error: 20.2027 - val_mean_absolute_percentage_error: 18.5838\n",
      "Epoch 64/100\n",
      "1231/1231 [==============================] - 69s 56ms/step - loss: 345.1424 - mean_absolute_error: 13.2213 - root_mean_squared_error: 18.5780 - mean_absolute_percentage_error: 20.4572 - val_loss: 414.9326 - val_mean_absolute_error: 14.5578 - val_root_mean_squared_error: 20.3699 - val_mean_absolute_percentage_error: 26.3758\n",
      "Epoch 65/100\n",
      "1231/1231 [==============================] - 69s 56ms/step - loss: 344.3224 - mean_absolute_error: 13.2260 - root_mean_squared_error: 18.5559 - mean_absolute_percentage_error: 20.5996 - val_loss: 402.9973 - val_mean_absolute_error: 14.0440 - val_root_mean_squared_error: 20.0748 - val_mean_absolute_percentage_error: 19.6646\n",
      "Epoch 66/100\n",
      "1231/1231 [==============================] - 70s 57ms/step - loss: 342.6440 - mean_absolute_error: 13.1777 - root_mean_squared_error: 18.5106 - mean_absolute_percentage_error: 20.3967 - val_loss: 401.1891 - val_mean_absolute_error: 14.0908 - val_root_mean_squared_error: 20.0297 - val_mean_absolute_percentage_error: 20.8871\n",
      "Epoch 67/100\n",
      "1231/1231 [==============================] - 69s 56ms/step - loss: 340.7122 - mean_absolute_error: 13.1469 - root_mean_squared_error: 18.4584 - mean_absolute_percentage_error: 20.3692 - val_loss: 402.5792 - val_mean_absolute_error: 14.0611 - val_root_mean_squared_error: 20.0644 - val_mean_absolute_percentage_error: 18.4829\n",
      "Epoch 68/100\n",
      "1231/1231 [==============================] - 69s 56ms/step - loss: 339.8005 - mean_absolute_error: 13.1270 - root_mean_squared_error: 18.4337 - mean_absolute_percentage_error: 20.3114 - val_loss: 401.3790 - val_mean_absolute_error: 14.0337 - val_root_mean_squared_error: 20.0344 - val_mean_absolute_percentage_error: 20.3280\n",
      "Epoch 69/100\n",
      "1231/1231 [==============================] - 69s 56ms/step - loss: 338.3700 - mean_absolute_error: 13.1126 - root_mean_squared_error: 18.3948 - mean_absolute_percentage_error: 20.3516 - val_loss: 399.8727 - val_mean_absolute_error: 13.9856 - val_root_mean_squared_error: 19.9968 - val_mean_absolute_percentage_error: 19.1101\n",
      "Epoch 70/100\n",
      "1231/1231 [==============================] - 70s 57ms/step - loss: 337.0083 - mean_absolute_error: 13.0687 - root_mean_squared_error: 18.3578 - mean_absolute_percentage_error: 20.1188 - val_loss: 404.2273 - val_mean_absolute_error: 14.1509 - val_root_mean_squared_error: 20.1054 - val_mean_absolute_percentage_error: 20.4003\n",
      "Epoch 71/100\n",
      "1231/1231 [==============================] - 69s 56ms/step - loss: 335.3571 - mean_absolute_error: 13.0390 - root_mean_squared_error: 18.3128 - mean_absolute_percentage_error: 20.1598 - val_loss: 407.0440 - val_mean_absolute_error: 14.1292 - val_root_mean_squared_error: 20.1753 - val_mean_absolute_percentage_error: 19.1600\n",
      "Epoch 72/100\n",
      "1231/1231 [==============================] - 69s 56ms/step - loss: 334.3850 - mean_absolute_error: 13.0276 - root_mean_squared_error: 18.2862 - mean_absolute_percentage_error: 20.1768 - val_loss: 402.0581 - val_mean_absolute_error: 14.0866 - val_root_mean_squared_error: 20.0514 - val_mean_absolute_percentage_error: 19.8384\n",
      "Epoch 73/100\n",
      "1231/1231 [==============================] - 69s 56ms/step - loss: 332.6093 - mean_absolute_error: 12.9975 - root_mean_squared_error: 18.2376 - mean_absolute_percentage_error: 20.0515 - val_loss: 402.1100 - val_mean_absolute_error: 14.0078 - val_root_mean_squared_error: 20.0527 - val_mean_absolute_percentage_error: 18.8106\n",
      "Epoch 74/100\n",
      "1231/1231 [==============================] - 70s 57ms/step - loss: 331.4354 - mean_absolute_error: 12.9769 - root_mean_squared_error: 18.2054 - mean_absolute_percentage_error: 20.0409 - val_loss: 406.0978 - val_mean_absolute_error: 14.0753 - val_root_mean_squared_error: 20.1519 - val_mean_absolute_percentage_error: 18.0043\n",
      "Epoch 75/100\n",
      "1231/1231 [==============================] - 69s 56ms/step - loss: 330.3768 - mean_absolute_error: 12.9540 - root_mean_squared_error: 18.1763 - mean_absolute_percentage_error: 20.0042 - val_loss: 400.4710 - val_mean_absolute_error: 14.0288 - val_root_mean_squared_error: 20.0118 - val_mean_absolute_percentage_error: 19.8258\n",
      "Epoch 76/100\n",
      "1231/1231 [==============================] - 69s 56ms/step - loss: 328.9445 - mean_absolute_error: 12.9253 - root_mean_squared_error: 18.1369 - mean_absolute_percentage_error: 19.9562 - val_loss: 401.7706 - val_mean_absolute_error: 14.0602 - val_root_mean_squared_error: 20.0442 - val_mean_absolute_percentage_error: 20.3074\n",
      "Epoch 77/100\n",
      "1231/1231 [==============================] - 69s 56ms/step - loss: 327.8161 - mean_absolute_error: 12.8982 - root_mean_squared_error: 18.1057 - mean_absolute_percentage_error: 19.8993 - val_loss: 400.4821 - val_mean_absolute_error: 13.9908 - val_root_mean_squared_error: 20.0120 - val_mean_absolute_percentage_error: 19.1560\n",
      "Epoch 78/100\n",
      "1231/1231 [==============================] - 70s 57ms/step - loss: 326.4680 - mean_absolute_error: 12.8776 - root_mean_squared_error: 18.0684 - mean_absolute_percentage_error: 19.8318 - val_loss: 402.6467 - val_mean_absolute_error: 14.1583 - val_root_mean_squared_error: 20.0661 - val_mean_absolute_percentage_error: 22.3318\n",
      "Epoch 79/100\n",
      "1231/1231 [==============================] - 69s 56ms/step - loss: 324.6022 - mean_absolute_error: 12.8510 - root_mean_squared_error: 18.0167 - mean_absolute_percentage_error: 19.8703 - val_loss: 403.9689 - val_mean_absolute_error: 14.1239 - val_root_mean_squared_error: 20.0990 - val_mean_absolute_percentage_error: 20.6610\n",
      "Epoch 80/100\n",
      "1231/1231 [==============================] - 70s 57ms/step - loss: 323.5007 - mean_absolute_error: 12.8187 - root_mean_squared_error: 17.9861 - mean_absolute_percentage_error: 19.7573 - val_loss: 403.9341 - val_mean_absolute_error: 14.1578 - val_root_mean_squared_error: 20.0981 - val_mean_absolute_percentage_error: 22.4880\n",
      "Epoch 81/100\n",
      "1231/1231 [==============================] - 71s 57ms/step - loss: 321.6698 - mean_absolute_error: 12.7876 - root_mean_squared_error: 17.9352 - mean_absolute_percentage_error: 19.7333 - val_loss: 404.4463 - val_mean_absolute_error: 14.0581 - val_root_mean_squared_error: 20.1108 - val_mean_absolute_percentage_error: 20.0475\n",
      "Epoch 82/100\n",
      "1231/1231 [==============================] - 69s 56ms/step - loss: 320.3840 - mean_absolute_error: 12.7586 - root_mean_squared_error: 17.8993 - mean_absolute_percentage_error: 19.6840 - val_loss: 408.0411 - val_mean_absolute_error: 14.2661 - val_root_mean_squared_error: 20.2000 - val_mean_absolute_percentage_error: 21.4076\n",
      "Epoch 83/100\n",
      "1231/1231 [==============================] - 69s 56ms/step - loss: 319.6318 - mean_absolute_error: 12.7514 - root_mean_squared_error: 17.8783 - mean_absolute_percentage_error: 19.6345 - val_loss: 408.4559 - val_mean_absolute_error: 14.1819 - val_root_mean_squared_error: 20.2103 - val_mean_absolute_percentage_error: 18.5670\n",
      "Epoch 84/100\n",
      "1231/1231 [==============================] - 69s 56ms/step - loss: 317.7523 - mean_absolute_error: 12.7078 - root_mean_squared_error: 17.8256 - mean_absolute_percentage_error: 19.5667 - val_loss: 402.6758 - val_mean_absolute_error: 14.0777 - val_root_mean_squared_error: 20.0668 - val_mean_absolute_percentage_error: 20.2573\n",
      "Epoch 85/100\n",
      "1231/1231 [==============================] - 70s 57ms/step - loss: 316.7052 - mean_absolute_error: 12.6889 - root_mean_squared_error: 17.7962 - mean_absolute_percentage_error: 19.6030 - val_loss: 405.6505 - val_mean_absolute_error: 14.0619 - val_root_mean_squared_error: 20.1408 - val_mean_absolute_percentage_error: 18.7814\n",
      "Epoch 86/100\n",
      "1231/1231 [==============================] - 69s 56ms/step - loss: 315.2579 - mean_absolute_error: 12.6708 - root_mean_squared_error: 17.7555 - mean_absolute_percentage_error: 19.5643 - val_loss: 402.1700 - val_mean_absolute_error: 13.9846 - val_root_mean_squared_error: 20.0542 - val_mean_absolute_percentage_error: 19.0947\n",
      "Epoch 87/100\n",
      "1231/1231 [==============================] - 69s 56ms/step - loss: 313.7937 - mean_absolute_error: 12.6372 - root_mean_squared_error: 17.7142 - mean_absolute_percentage_error: 19.4169 - val_loss: 410.7187 - val_mean_absolute_error: 14.2797 - val_root_mean_squared_error: 20.2662 - val_mean_absolute_percentage_error: 22.7764\n",
      "Epoch 88/100\n",
      "1231/1231 [==============================] - 74s 60ms/step - loss: 312.5771 - mean_absolute_error: 12.6137 - root_mean_squared_error: 17.6798 - mean_absolute_percentage_error: 19.3896 - val_loss: 410.2256 - val_mean_absolute_error: 14.1868 - val_root_mean_squared_error: 20.2540 - val_mean_absolute_percentage_error: 20.7514\n",
      "Epoch 89/100\n",
      "1231/1231 [==============================] - 84s 68ms/step - loss: 311.2214 - mean_absolute_error: 12.5938 - root_mean_squared_error: 17.6415 - mean_absolute_percentage_error: 19.4458 - val_loss: 405.4986 - val_mean_absolute_error: 14.0705 - val_root_mean_squared_error: 20.1370 - val_mean_absolute_percentage_error: 19.6811\n",
      "Epoch 90/100\n",
      "1231/1231 [==============================] - 112s 91ms/step - loss: 310.0609 - mean_absolute_error: 12.5751 - root_mean_squared_error: 17.6085 - mean_absolute_percentage_error: 19.4435 - val_loss: 411.8193 - val_mean_absolute_error: 14.2236 - val_root_mean_squared_error: 20.2933 - val_mean_absolute_percentage_error: 19.0201\n",
      "Epoch 91/100\n",
      "1231/1231 [==============================] - 227s 184ms/step - loss: 308.7166 - mean_absolute_error: 12.5465 - root_mean_squared_error: 17.5703 - mean_absolute_percentage_error: 19.3229 - val_loss: 406.1963 - val_mean_absolute_error: 14.0883 - val_root_mean_squared_error: 20.1543 - val_mean_absolute_percentage_error: 19.88447.5674 - mean_absolute_percentage_error: 19.\n",
      "Epoch 92/100\n",
      "1231/1231 [==============================] - 234s 190ms/step - loss: 306.6597 - mean_absolute_error: 12.4984 - root_mean_squared_error: 17.5117 - mean_absolute_percentage_error: 19.2610 - val_loss: 404.5603 - val_mean_absolute_error: 14.0417 - val_root_mean_squared_error: 20.1137 - val_mean_absolute_percentage_error: 19.6683\n",
      "Epoch 93/100\n",
      "1231/1231 [==============================] - 232s 188ms/step - loss: 305.5941 - mean_absolute_error: 12.4806 - root_mean_squared_error: 17.4812 - mean_absolute_percentage_error: 19.2640 - val_loss: 405.5113 - val_mean_absolute_error: 14.1162 - val_root_mean_squared_error: 20.1373 - val_mean_absolute_percentage_error: 20.0812\n",
      "Epoch 94/100\n",
      "1231/1231 [==============================] - 221s 179ms/step - loss: 304.2125 - mean_absolute_error: 12.4545 - root_mean_squared_error: 17.4417 - mean_absolute_percentage_error: 19.2925 - val_loss: 412.1253 - val_mean_absolute_error: 14.1472 - val_root_mean_squared_error: 20.3009 - val_mean_absolute_percentage_error: 19.3210\n",
      "Epoch 95/100\n",
      "1231/1231 [==============================] - 231s 188ms/step - loss: 302.3400 - mean_absolute_error: 12.4210 - root_mean_squared_error: 17.3879 - mean_absolute_percentage_error: 19.1238 - val_loss: 412.2580 - val_mean_absolute_error: 14.1470 - val_root_mean_squared_error: 20.3041 - val_mean_absolute_percentage_error: 18.0671\n",
      "Epoch 96/100\n",
      "1231/1231 [==============================] - 229s 186ms/step - loss: 301.4661 - mean_absolute_error: 12.4018 - root_mean_squared_error: 17.3628 - mean_absolute_percentage_error: 19.1159 - val_loss: 416.1210 - val_mean_absolute_error: 14.3322 - val_root_mean_squared_error: 20.3990 - val_mean_absolute_percentage_error: 19.8168\n",
      "Epoch 97/100\n"
     ]
    },
    {
     "name": "stdout",
     "output_type": "stream",
     "text": [
      "1231/1231 [==============================] - 234s 190ms/step - loss: 300.3817 - mean_absolute_error: 12.3962 - root_mean_squared_error: 17.3315 - mean_absolute_percentage_error: 19.2065 - val_loss: 408.7819 - val_mean_absolute_error: 14.0731 - val_root_mean_squared_error: 20.2184 - val_mean_absolute_percentage_error: 17.8993\n",
      "Epoch 98/100\n",
      "1231/1231 [==============================] - 194s 157ms/step - loss: 298.5356 - mean_absolute_error: 12.3534 - root_mean_squared_error: 17.2782 - mean_absolute_percentage_error: 19.0848 - val_loss: 412.0158 - val_mean_absolute_error: 14.1497 - val_root_mean_squared_error: 20.2982 - val_mean_absolute_percentage_error: 18.0122\n",
      "Epoch 99/100\n",
      "1231/1231 [==============================] - 232s 188ms/step - loss: 296.8274 - mean_absolute_error: 12.3198 - root_mean_squared_error: 17.2287 - mean_absolute_percentage_error: 19.0823 - val_loss: 409.3383 - val_mean_absolute_error: 14.1302 - val_root_mean_squared_error: 20.2321 - val_mean_absolute_percentage_error: 19.8660\n",
      "Epoch 100/100\n",
      "1231/1231 [==============================] - 234s 190ms/step - loss: 296.3311 - mean_absolute_error: 12.3020 - root_mean_squared_error: 17.2143 - mean_absolute_percentage_error: 19.0756 - val_loss: 408.5166 - val_mean_absolute_error: 14.1658 - val_root_mean_squared_error: 20.2118 - val_mean_absolute_percentage_error: 21.4911\n"
     ]
    },
    {
     "data": {
      "text/plain": [
       "<keras.callbacks.History at 0x249363154f0>"
      ]
     },
     "execution_count": 65,
     "metadata": {},
     "output_type": "execute_result"
    }
   ],
   "source": [
    "model5.fit((Wt5,Xt5), yt5, validation_split = val_percent,\n",
    "           epochs = 100, \n",
    "           verbose = 1)"
   ]
  },
  {
   "cell_type": "code",
   "execution_count": 66,
   "metadata": {},
   "outputs": [],
   "source": [
    "metrics5 = pd.DataFrame(model5.history.history)"
   ]
  },
  {
   "cell_type": "code",
   "execution_count": 67,
   "metadata": {},
   "outputs": [],
   "source": [
    "# fig = plt.figure(figsize=(6,4))\n",
    "\n",
    "# # Add set of axes to figure\n",
    "# axes = fig.add_axes([0, 0, 1, 1]) \n",
    "# axes2 = fig.add_axes([0.3, 0.35, 0.5, 0.5]) # Smaller figure\n",
    "# axes.plot(metrics5[['loss','val_loss']], label=['train_loss','val_loss'], lw=4)\n",
    "# axes.set_ylim(0,4000)\n",
    "\n",
    "# axes2.plot(metrics5[['loss','val_loss']], lw=4)\n",
    "# axes2.set_xlim(0,20)\n",
    "# axes2.set_ylim(400,1500)\n",
    "# #plt.xticks(visible=False)\n",
    "# plt.yticks(visible=False)\n",
    "\n",
    "# axes.set_xlabel('Epoch')\n",
    "# axes.set_ylabel('Loss')\n",
    "# axes.grid()\n",
    "# axes2.grid()\n",
    "\n",
    "# mark_inset(axes, axes2, loc1=2, loc2=4, fc=\"0.9\", ec=\"0.1\", ls='--')\n",
    "# axes.yaxis.set_major_formatter(formatter)"
   ]
  },
  {
   "cell_type": "code",
   "execution_count": 68,
   "metadata": {},
   "outputs": [
    {
     "name": "stderr",
     "output_type": "stream",
     "text": [
      "WARNING:absl:Function `_wrapped_model` contains input name(s) WideInput, DeepInput with unsupported characters which will be renamed to wideinput, deepinput in the SavedModel.\n",
      "WARNING:absl:Found untraced functions such as lstm_cell_11_layer_call_and_return_conditional_losses, lstm_cell_11_layer_call_fn, lstm_cell_9_layer_call_and_return_conditional_losses, lstm_cell_9_layer_call_fn, lstm_cell_10_layer_call_and_return_conditional_losses while saving (showing 5 of 15). These functions will not be directly callable after loading.\n"
     ]
    },
    {
     "name": "stdout",
     "output_type": "stream",
     "text": [
      "INFO:tensorflow:Assets written to: my_dir/10a-5\\assets\n"
     ]
    },
    {
     "name": "stderr",
     "output_type": "stream",
     "text": [
      "INFO:tensorflow:Assets written to: my_dir/10a-5\\assets\n"
     ]
    }
   ],
   "source": [
    "model5.save(\"my_dir/10a-5\")"
   ]
  },
  {
   "cell_type": "code",
   "execution_count": 69,
   "metadata": {},
   "outputs": [],
   "source": [
    "model5 = keras.models.load_model(\"my_dir/10a-5\") "
   ]
  },
  {
   "cell_type": "code",
   "execution_count": 70,
   "metadata": {},
   "outputs": [
    {
     "data": {
      "text/plain": [
       "array([[ 33.040283 ,  22.20416  ,  21.194714 ,  72.79177  ,  35.497444 ,\n",
       "          7.6147714],\n",
       "       [ 32.417057 ,  21.986277 ,  21.605656 ,  73.01562  ,  35.16079  ,\n",
       "          8.074565 ],\n",
       "       [ 31.410805 ,  19.921988 ,  19.21482  ,  69.98837  ,  34.01721  ,\n",
       "          6.7701173],\n",
       "       ...,\n",
       "       [ 44.708282 ,  45.79256  ,  58.05465  , 112.04285  ,  51.388657 ,\n",
       "         16.520914 ],\n",
       "       [ 44.19042  ,  44.17982  ,  54.331802 , 109.39746  ,  49.720604 ,\n",
       "         15.315227 ],\n",
       "       [ 42.543262 ,  41.211    ,  52.431633 , 109.08073  ,  49.84595  ,\n",
       "         14.769713 ]], dtype=float32)"
      ]
     },
     "execution_count": 70,
     "metadata": {},
     "output_type": "execute_result"
    }
   ],
   "source": [
    "model5.predict((Wv5,Xv5))"
   ]
  },
  {
   "cell_type": "markdown",
   "metadata": {},
   "source": [
    "### Evaluation on inverse_transform"
   ]
  },
  {
   "cell_type": "code",
   "execution_count": null,
   "metadata": {},
   "outputs": [],
   "source": [
    "test_predictions5 = model5.predict((Wv5,Xv5))\n",
    "\n",
    "\n",
    "MSE5 = mean_squared_error(yv5,test_predictions5)\n",
    "\n",
    "MAE5 = mean_absolute_error(yv5,test_predictions5)\n",
    "\n",
    "RMSE5 = np.sqrt(MSE5)\n",
    "\n",
    "MAPE5 = mean_absolute_percentage_error(yv5,test_predictions5)*100\n",
    "\n",
    "eval5 = [MSE5, MAE5, RMSE5, MAPE5]\n",
    "print(eval5)"
   ]
  },
  {
   "cell_type": "code",
   "execution_count": null,
   "metadata": {},
   "outputs": [],
   "source": [
    "GEH, count = ga.GEH(np.asarray(yv5), np.asarray(test_predictions5))\n",
    "GEH5 = count/GEH.size\n",
    "print(GEH5)"
   ]
  },
  {
   "cell_type": "markdown",
   "metadata": {},
   "source": [
    "# 15 mins ahead"
   ]
  },
  {
   "cell_type": "code",
   "execution_count": 73,
   "metadata": {},
   "outputs": [],
   "source": [
    "def build_model_15(hp):\n",
    "    # Inputs\n",
    "    channel_Wide = keras.layers.Input(shape=Wt15.shape[1:], name=\"WideInput\")\n",
    "    channel_Deep = keras.layers.Input(shape=Xt15.shape[1:], name=\"DeepInput\")\n",
    "    units = hp.Int(\"units\", min_value=1, max_value=100, step=1)\n",
    "    \n",
    "    \n",
    "    # Wide Model\n",
    "    flatten_15w = keras.layers.TimeDistributed(keras.layers.Flatten())(channel_Wide)\n",
    "    Bi_15 = keras.layers.Bidirectional(\n",
    "        keras.layers.LSTM(units=units, return_sequences=True),\n",
    "        merge_mode=\"ave\"\n",
    "    )(flatten_15w)\n",
    "    \n",
    "    \n",
    "    \n",
    "    # Deep Model\n",
    "    # CNN \n",
    "    CNN_15 = keras.layers.TimeDistributed(\n",
    "        keras.layers.Conv2D(filters=hp.Int(\"filters\", min_value=32, max_value=512, step=32),\n",
    "                            kernel_size=hp.Choice(\"kernel_size\", [2, 3]), activation='relu'))(channel_Deep)\n",
    "    flatten_15 = keras.layers.TimeDistributed(keras.layers.Flatten())(CNN_15)\n",
    "    # LSTM          \n",
    "    LSTM_15 = keras.layers.LSTM(units=units, return_sequences=True)(flatten_15)\n",
    "\n",
    "    \n",
    "    # Concatenation \n",
    "    concat = keras.layers.concatenate([Bi_15, LSTM_15], axis=1)\n",
    "\n",
    "    # Attention\n",
    "    Att_15 = SeqSelfAttention(attention_activation='sigmoid')(concat)\n",
    "    merge = keras.layers.Flatten()(concat)\n",
    "\n",
    "    \n",
    "    # Output\n",
    "    output = keras.layers.Dense(n_features, name= \"output\")(merge)\n",
    "    \n",
    "    # Model\n",
    "    model_15 = keras.Model(inputs=[channel_Wide,channel_Deep], outputs=[output])\n",
    "\n",
    "    # Compile\n",
    "    model_15.compile(optimizer=keras.optimizers.Adam(hp.Choice(\"learning_rate\", [1e-2, 1e-3, 1e-4])), \n",
    "        loss=\"mse\", metrics=['MeanAbsoluteError','RootMeanSquaredError','MeanAbsolutePercentageError'])\n",
    "                    \n",
    "    return model_15"
   ]
  },
  {
   "cell_type": "code",
   "execution_count": 74,
   "metadata": {},
   "outputs": [],
   "source": [
    "tuner15 = RandomSearch(\n",
    "    build_model_15,\n",
    "    objective=\"val_loss\",\n",
    "    max_trials=10,\n",
    "    executions_per_trial=2,\n",
    "    overwrite=False,\n",
    "    directory=os.path.normpath('C:/RunsOak'),\n",
    "    project_name=\"10a-15\",\n",
    ")"
   ]
  },
  {
   "cell_type": "code",
   "execution_count": 75,
   "metadata": {},
   "outputs": [
    {
     "name": "stdout",
     "output_type": "stream",
     "text": [
      "Search space summary\n",
      "Default search space size: 4\n",
      "units (Int)\n",
      "{'default': None, 'conditions': [], 'min_value': 1, 'max_value': 100, 'step': 1, 'sampling': 'linear'}\n",
      "filters (Int)\n",
      "{'default': None, 'conditions': [], 'min_value': 32, 'max_value': 512, 'step': 32, 'sampling': 'linear'}\n",
      "kernel_size (Choice)\n",
      "{'default': 2, 'conditions': [], 'values': [2, 3], 'ordered': True}\n",
      "learning_rate (Choice)\n",
      "{'default': 0.01, 'conditions': [], 'values': [0.01, 0.001, 0.0001], 'ordered': True}\n"
     ]
    }
   ],
   "source": [
    "tuner15.search_space_summary()"
   ]
  },
  {
   "cell_type": "code",
   "execution_count": 76,
   "metadata": {},
   "outputs": [
    {
     "name": "stdout",
     "output_type": "stream",
     "text": [
      "Trial 10 Complete [03h 45m 16s]\n",
      "val_loss: 460.9515380859375\n",
      "\n",
      "Best val_loss So Far: 460.9515380859375\n",
      "Total elapsed time: 1d 01h 23m 19s\n",
      "INFO:tensorflow:Oracle triggered exit\n"
     ]
    },
    {
     "name": "stderr",
     "output_type": "stream",
     "text": [
      "INFO:tensorflow:Oracle triggered exit\n"
     ]
    }
   ],
   "source": [
    "tuner15.search((Wt15,Xt15), yt15, epochs=200,\n",
    "            validation_split = val_percent,\n",
    "            callbacks=[early_stop], \n",
    "            verbose=2)"
   ]
  },
  {
   "cell_type": "code",
   "execution_count": 77,
   "metadata": {},
   "outputs": [
    {
     "name": "stdout",
     "output_type": "stream",
     "text": [
      "Results summary\n",
      "Results in C:\\RunsOak\\10a-15\n",
      "Showing 1 best trials\n",
      "Objective(name=\"val_loss\", direction=\"min\")\n",
      "\n",
      "Trial 09 summary\n",
      "Hyperparameters:\n",
      "units: 98\n",
      "filters: 160\n",
      "kernel_size: 2\n",
      "learning_rate: 0.0001\n",
      "Score: 460.9515380859375\n"
     ]
    }
   ],
   "source": [
    "tuner15.results_summary(1)"
   ]
  },
  {
   "cell_type": "markdown",
   "metadata": {},
   "source": [
    "### Best model"
   ]
  },
  {
   "cell_type": "code",
   "execution_count": 78,
   "metadata": {},
   "outputs": [],
   "source": [
    "best_hp15 = tuner15.get_best_hyperparameters()[0]\n",
    "model15 = tuner15.hypermodel.build(best_hp15)"
   ]
  },
  {
   "cell_type": "code",
   "execution_count": 79,
   "metadata": {},
   "outputs": [
    {
     "data": {
      "text/plain": [
       "['Best_HP/10a-15']"
      ]
     },
     "execution_count": 79,
     "metadata": {},
     "output_type": "execute_result"
    }
   ],
   "source": [
    "scaler_filename = \"Best_HP/10a-15\"\n",
    "joblib.dump(best_hp15, scaler_filename) "
   ]
  },
  {
   "cell_type": "code",
   "execution_count": 80,
   "metadata": {},
   "outputs": [],
   "source": [
    "scaler_filename = \"Best_HP/10a-15\"\n",
    "best_hp15 = joblib.load(scaler_filename) \n",
    "\n",
    "model15 = tuner15.hypermodel.build(best_hp15)"
   ]
  },
  {
   "cell_type": "code",
   "execution_count": 81,
   "metadata": {},
   "outputs": [
    {
     "name": "stdout",
     "output_type": "stream",
     "text": [
      "Model: \"model_2\"\n",
      "__________________________________________________________________________________________________\n",
      "Layer (type)                    Output Shape         Param #     Connected to                     \n",
      "==================================================================================================\n",
      "DeepInput (InputLayer)          [(None, 3, 5, 15, 6) 0                                            \n",
      "__________________________________________________________________________________________________\n",
      "WideInput (InputLayer)          [(None, 3, 3, 6)]    0                                            \n",
      "__________________________________________________________________________________________________\n",
      "time_distributed_7 (TimeDistrib (None, 3, 4, 14, 160 4000        DeepInput[0][0]                  \n",
      "__________________________________________________________________________________________________\n",
      "time_distributed_6 (TimeDistrib (None, 3, 18)        0           WideInput[0][0]                  \n",
      "__________________________________________________________________________________________________\n",
      "time_distributed_8 (TimeDistrib (None, 3, 8960)      0           time_distributed_7[0][0]         \n",
      "__________________________________________________________________________________________________\n",
      "bidirectional_2 (Bidirectional) (None, 3, 98)        91728       time_distributed_6[0][0]         \n",
      "__________________________________________________________________________________________________\n",
      "lstm_5 (LSTM)                   (None, 3, 98)        3551128     time_distributed_8[0][0]         \n",
      "__________________________________________________________________________________________________\n",
      "concatenate_2 (Concatenate)     (None, 6, 98)        0           bidirectional_2[0][0]            \n",
      "                                                                 lstm_5[0][0]                     \n",
      "__________________________________________________________________________________________________\n",
      "flatten_8 (Flatten)             (None, 588)          0           concatenate_2[0][0]              \n",
      "__________________________________________________________________________________________________\n",
      "output (Dense)                  (None, 6)            3534        flatten_8[0][0]                  \n",
      "==================================================================================================\n",
      "Total params: 3,650,390\n",
      "Trainable params: 3,650,390\n",
      "Non-trainable params: 0\n",
      "__________________________________________________________________________________________________\n"
     ]
    }
   ],
   "source": [
    "model15.summary()"
   ]
  },
  {
   "cell_type": "code",
   "execution_count": 82,
   "metadata": {},
   "outputs": [
    {
     "name": "stdout",
     "output_type": "stream",
     "text": [
      "Epoch 1/100\n",
      "1231/1231 [==============================] - 79s 60ms/step - loss: 22439.0371 - mean_absolute_error: 116.1856 - root_mean_squared_error: 149.7967 - mean_absolute_percentage_error: 93.4693 - val_loss: 16548.3125 - val_mean_absolute_error: 96.6499 - val_root_mean_squared_error: 128.6402 - val_mean_absolute_percentage_error: 115.3217\n",
      "Epoch 2/100\n",
      "1231/1231 [==============================] - 94s 76ms/step - loss: 11959.3105 - mean_absolute_error: 80.5243 - root_mean_squared_error: 109.3586 - mean_absolute_percentage_error: 116.0417 - val_loss: 9287.4434 - val_mean_absolute_error: 68.2868 - val_root_mean_squared_error: 96.3714 - val_mean_absolute_percentage_error: 105.3345\n",
      "Epoch 3/100\n",
      "1231/1231 [==============================] - 100s 81ms/step - loss: 6753.2681 - mean_absolute_error: 57.6403 - root_mean_squared_error: 82.1783 - mean_absolute_percentage_error: 97.5316 - val_loss: 5449.5596 - val_mean_absolute_error: 50.7514 - val_root_mean_squared_error: 73.8211 - val_mean_absolute_percentage_error: 89.2771\n",
      "Epoch 4/100\n",
      "1231/1231 [==============================] - 102s 83ms/step - loss: 4118.2866 - mean_absolute_error: 44.3822 - root_mean_squared_error: 64.1739 - mean_absolute_percentage_error: 80.6860 - val_loss: 3449.0615 - val_mean_absolute_error: 40.1538 - val_root_mean_squared_error: 58.7287 - val_mean_absolute_percentage_error: 69.7297\n",
      "Epoch 5/100\n",
      "1231/1231 [==============================] - 102s 83ms/step - loss: 2782.7354 - mean_absolute_error: 36.7705 - root_mean_squared_error: 52.7516 - mean_absolute_percentage_error: 65.9989 - val_loss: 2404.3516 - val_mean_absolute_error: 34.2063 - val_root_mean_squared_error: 49.0342 - val_mean_absolute_percentage_error: 56.4006\n",
      "Epoch 6/100\n",
      "1231/1231 [==============================] - 100s 81ms/step - loss: 2115.3833 - mean_absolute_error: 32.5811 - root_mean_squared_error: 45.9933 - mean_absolute_percentage_error: 55.2034 - val_loss: 1842.5519 - val_mean_absolute_error: 30.5565 - val_root_mean_squared_error: 42.9249 - val_mean_absolute_percentage_error: 46.5704\n",
      "Epoch 7/100\n",
      "1231/1231 [==============================] - 99s 80ms/step - loss: 1775.9084 - mean_absolute_error: 30.2479 - root_mean_squared_error: 42.1415 - mean_absolute_percentage_error: 48.4146 - val_loss: 1539.0079 - val_mean_absolute_error: 28.4385 - val_root_mean_squared_error: 39.2302 - val_mean_absolute_percentage_error: 42.0047\n",
      "Epoch 8/100\n",
      "1231/1231 [==============================] - 100s 81ms/step - loss: 1598.0135 - mean_absolute_error: 28.8478 - root_mean_squared_error: 39.9751 - mean_absolute_percentage_error: 44.7625 - val_loss: 1364.1719 - val_mean_absolute_error: 27.0072 - val_root_mean_squared_error: 36.9347 - val_mean_absolute_percentage_error: 39.7026\n",
      "Epoch 9/100\n",
      "1231/1231 [==============================] - 101s 82ms/step - loss: 1496.8073 - mean_absolute_error: 27.9056 - root_mean_squared_error: 38.6886 - mean_absolute_percentage_error: 42.5082 - val_loss: 1264.0551 - val_mean_absolute_error: 26.0735 - val_root_mean_squared_error: 35.5536 - val_mean_absolute_percentage_error: 38.0608\n",
      "Epoch 10/100\n",
      "1231/1231 [==============================] - 100s 81ms/step - loss: 1430.4210 - mean_absolute_error: 27.2084 - root_mean_squared_error: 37.8209 - mean_absolute_percentage_error: 41.2896 - val_loss: 1193.5520 - val_mean_absolute_error: 25.4109 - val_root_mean_squared_error: 34.5478 - val_mean_absolute_percentage_error: 37.6312\n",
      "Epoch 11/100\n",
      "1231/1231 [==============================] - 101s 82ms/step - loss: 1379.4768 - mean_absolute_error: 26.6583 - root_mean_squared_error: 37.1413 - mean_absolute_percentage_error: 40.6567 - val_loss: 1141.1267 - val_mean_absolute_error: 24.8584 - val_root_mean_squared_error: 33.7806 - val_mean_absolute_percentage_error: 37.0839\n",
      "Epoch 12/100\n",
      "1231/1231 [==============================] - 98s 79ms/step - loss: 1332.9794 - mean_absolute_error: 26.1408 - root_mean_squared_error: 36.5100 - mean_absolute_percentage_error: 40.2008 - val_loss: 1094.6147 - val_mean_absolute_error: 24.3403 - val_root_mean_squared_error: 33.0850 - val_mean_absolute_percentage_error: 36.6899-\n",
      "Epoch 13/100\n",
      "1231/1231 [==============================] - 101s 82ms/step - loss: 1282.1155 - mean_absolute_error: 25.5578 - root_mean_squared_error: 35.8066 - mean_absolute_percentage_error: 39.5961 - val_loss: 1026.0680 - val_mean_absolute_error: 23.5099 - val_root_mean_squared_error: 32.0323 - val_mean_absolute_percentage_error: 35.9026\n",
      "Epoch 14/100\n",
      "1231/1231 [==============================] - 100s 81ms/step - loss: 1218.4047 - mean_absolute_error: 24.7702 - root_mean_squared_error: 34.9057 - mean_absolute_percentage_error: 38.6682 - val_loss: 952.7410 - val_mean_absolute_error: 22.5474 - val_root_mean_squared_error: 30.8665 - val_mean_absolute_percentage_error: 34.2432\n",
      "Epoch 15/100\n",
      "1231/1231 [==============================] - 100s 81ms/step - loss: 1084.4037 - mean_absolute_error: 23.2074 - root_mean_squared_error: 32.9303 - mean_absolute_percentage_error: 36.2973 - val_loss: 832.8503 - val_mean_absolute_error: 20.9758 - val_root_mean_squared_error: 28.8591 - val_mean_absolute_percentage_error: 33.2385\n",
      "Epoch 16/100\n",
      "1231/1231 [==============================] - 101s 82ms/step - loss: 974.8278 - mean_absolute_error: 21.8212 - root_mean_squared_error: 31.2222 - mean_absolute_percentage_error: 35.0920 - val_loss: 751.5109 - val_mean_absolute_error: 19.7468 - val_root_mean_squared_error: 27.4137 - val_mean_absolute_percentage_error: 31.2158\n",
      "Epoch 17/100\n",
      "1231/1231 [==============================] - 100s 81ms/step - loss: 903.9211 - mean_absolute_error: 20.8621 - root_mean_squared_error: 30.0653 - mean_absolute_percentage_error: 33.8368 - val_loss: 699.7379 - val_mean_absolute_error: 18.8893 - val_root_mean_squared_error: 26.4526 - val_mean_absolute_percentage_error: 30.7859\n",
      "Epoch 18/100\n",
      "1231/1231 [==============================] - 101s 82ms/step - loss: 855.9327 - mean_absolute_error: 20.2484 - root_mean_squared_error: 29.2563 - mean_absolute_percentage_error: 33.2250 - val_loss: 675.4964 - val_mean_absolute_error: 18.5161 - val_root_mean_squared_error: 25.9903 - val_mean_absolute_percentage_error: 30.0456\n",
      "Epoch 19/100\n",
      "1231/1231 [==============================] - 100s 82ms/step - loss: 827.5679 - mean_absolute_error: 19.8844 - root_mean_squared_error: 28.7675 - mean_absolute_percentage_error: 32.4599 - val_loss: 651.8427 - val_mean_absolute_error: 18.1241 - val_root_mean_squared_error: 25.5312 - val_mean_absolute_percentage_error: 29.5145\n",
      "Epoch 20/100\n",
      "1231/1231 [==============================] - 98s 80ms/step - loss: 798.8615 - mean_absolute_error: 19.5584 - root_mean_squared_error: 28.2641 - mean_absolute_percentage_error: 31.9927 - val_loss: 636.2825 - val_mean_absolute_error: 17.9260 - val_root_mean_squared_error: 25.2246 - val_mean_absolute_percentage_error: 29.2549\n",
      "Epoch 21/100\n",
      "1231/1231 [==============================] - 89s 72ms/step - loss: 781.7287 - mean_absolute_error: 19.3628 - root_mean_squared_error: 27.9594 - mean_absolute_percentage_error: 31.6834 - val_loss: 637.3977 - val_mean_absolute_error: 17.9024 - val_root_mean_squared_error: 25.2467 - val_mean_absolute_percentage_error: 29.5789\n",
      "Epoch 22/100\n",
      "1231/1231 [==============================] - 81s 66ms/step - loss: 762.7234 - mean_absolute_error: 19.1604 - root_mean_squared_error: 27.6175 - mean_absolute_percentage_error: 31.2341 - val_loss: 615.7988 - val_mean_absolute_error: 17.6128 - val_root_mean_squared_error: 24.8153 - val_mean_absolute_percentage_error: 28.6821\n",
      "Epoch 23/100\n",
      "1231/1231 [==============================] - 96s 78ms/step - loss: 743.2119 - mean_absolute_error: 18.9583 - root_mean_squared_error: 27.2619 - mean_absolute_percentage_error: 30.9675 - val_loss: 617.9587 - val_mean_absolute_error: 17.7530 - val_root_mean_squared_error: 24.8588 - val_mean_absolute_percentage_error: 28.58444 - root_mean_squared_error: 27.2602 - mean_absolute_percentage_error: 30.\n",
      "Epoch 24/100\n",
      "1231/1231 [==============================] - 100s 81ms/step - loss: 729.1060 - mean_absolute_error: 18.8071 - root_mean_squared_error: 27.0020 - mean_absolute_percentage_error: 30.6614 - val_loss: 601.7968 - val_mean_absolute_error: 17.4640 - val_root_mean_squared_error: 24.5316 - val_mean_absolute_percentage_error: 28.0678\n",
      "Epoch 25/100\n",
      "1231/1231 [==============================] - 101s 82ms/step - loss: 712.4022 - mean_absolute_error: 18.6206 - root_mean_squared_error: 26.6909 - mean_absolute_percentage_error: 30.3215 - val_loss: 588.8406 - val_mean_absolute_error: 17.2680 - val_root_mean_squared_error: 24.2660 - val_mean_absolute_percentage_error: 28.4439\n",
      "Epoch 26/100\n",
      "1231/1231 [==============================] - 101s 82ms/step - loss: 694.9060 - mean_absolute_error: 18.4311 - root_mean_squared_error: 26.3611 - mean_absolute_percentage_error: 30.1147 - val_loss: 588.1949 - val_mean_absolute_error: 17.2411 - val_root_mean_squared_error: 24.2527 - val_mean_absolute_percentage_error: 27.4354\n",
      "Epoch 27/100\n",
      "1231/1231 [==============================] - 100s 82ms/step - loss: 679.9721 - mean_absolute_error: 18.2524 - root_mean_squared_error: 26.0763 - mean_absolute_percentage_error: 29.8441 - val_loss: 582.4624 - val_mean_absolute_error: 17.1025 - val_root_mean_squared_error: 24.1343 - val_mean_absolute_percentage_error: 27.0090\n",
      "Epoch 28/100\n",
      "1231/1231 [==============================] - 100s 81ms/step - loss: 665.7976 - mean_absolute_error: 18.0833 - root_mean_squared_error: 25.8031 - mean_absolute_percentage_error: 29.4503 - val_loss: 574.6113 - val_mean_absolute_error: 17.0603 - val_root_mean_squared_error: 23.9710 - val_mean_absolute_percentage_error: 27.7870\n",
      "Epoch 29/100\n",
      "1231/1231 [==============================] - 100s 81ms/step - loss: 650.5795 - mean_absolute_error: 17.9086 - root_mean_squared_error: 25.5064 - mean_absolute_percentage_error: 29.1006 - val_loss: 564.5842 - val_mean_absolute_error: 16.8621 - val_root_mean_squared_error: 23.7610 - val_mean_absolute_percentage_error: 26.9994\n",
      "Epoch 30/100\n",
      "1231/1231 [==============================] - 101s 82ms/step - loss: 635.4717 - mean_absolute_error: 17.7387 - root_mean_squared_error: 25.2086 - mean_absolute_percentage_error: 28.8517 - val_loss: 561.6517 - val_mean_absolute_error: 16.9050 - val_root_mean_squared_error: 23.6992 - val_mean_absolute_percentage_error: 28.4224\n",
      "Epoch 31/100\n",
      "1231/1231 [==============================] - 99s 81ms/step - loss: 621.0732 - mean_absolute_error: 17.5553 - root_mean_squared_error: 24.9213 - mean_absolute_percentage_error: 28.5584 - val_loss: 555.6967 - val_mean_absolute_error: 16.8242 - val_root_mean_squared_error: 23.5732 - val_mean_absolute_percentage_error: 29.3423\n",
      "Epoch 32/100\n",
      "1231/1231 [==============================] - 101s 82ms/step - loss: 609.7459 - mean_absolute_error: 17.4065 - root_mean_squared_error: 24.6930 - mean_absolute_percentage_error: 28.1583 - val_loss: 551.5526 - val_mean_absolute_error: 16.5847 - val_root_mean_squared_error: 23.4852 - val_mean_absolute_percentage_error: 27.1869\n",
      "Epoch 33/100\n",
      "1231/1231 [==============================] - 103s 83ms/step - loss: 597.4073 - mean_absolute_error: 17.2426 - root_mean_squared_error: 24.4419 - mean_absolute_percentage_error: 27.9062 - val_loss: 537.0740 - val_mean_absolute_error: 16.4110 - val_root_mean_squared_error: 23.1749 - val_mean_absolute_percentage_error: 26.3062\n",
      "Epoch 34/100\n",
      "1231/1231 [==============================] - 103s 83ms/step - loss: 588.3995 - mean_absolute_error: 17.1203 - root_mean_squared_error: 24.2569 - mean_absolute_percentage_error: 27.6896 - val_loss: 541.4607 - val_mean_absolute_error: 16.5011 - val_root_mean_squared_error: 23.2693 - val_mean_absolute_percentage_error: 25.1603\n",
      "Epoch 35/100\n",
      "1231/1231 [==============================] - 83s 67ms/step - loss: 578.9391 - mean_absolute_error: 16.9914 - root_mean_squared_error: 24.0612 - mean_absolute_percentage_error: 27.3841 - val_loss: 531.6216 - val_mean_absolute_error: 16.3069 - val_root_mean_squared_error: 23.0569 - val_mean_absolute_percentage_error: 25.5370\n",
      "Epoch 36/100\n",
      "1231/1231 [==============================] - 254s 207ms/step - loss: 570.5640 - mean_absolute_error: 16.8852 - root_mean_squared_error: 23.8865 - mean_absolute_percentage_error: 27.1936 - val_loss: 528.8282 - val_mean_absolute_error: 16.2422 - val_root_mean_squared_error: 22.9963 - val_mean_absolute_percentage_error: 25.3984\n",
      "Epoch 37/100\n",
      "1231/1231 [==============================] - 343s 279ms/step - loss: 563.1631 - mean_absolute_error: 16.7890 - root_mean_squared_error: 23.7311 - mean_absolute_percentage_error: 27.0176 - val_loss: 527.4451 - val_mean_absolute_error: 16.2562 - val_root_mean_squared_error: 22.9662 - val_mean_absolute_percentage_error: 25.1373\n",
      "Epoch 38/100\n",
      "1231/1231 [==============================] - 339s 276ms/step - loss: 555.7758 - mean_absolute_error: 16.6846 - root_mean_squared_error: 23.5749 - mean_absolute_percentage_error: 26.7530 - val_loss: 533.5399 - val_mean_absolute_error: 16.3561 - val_root_mean_squared_error: 23.0985 - val_mean_absolute_percentage_error: 23.8342\n",
      "Epoch 39/100\n",
      "1231/1231 [==============================] - 339s 276ms/step - loss: 549.0729 - mean_absolute_error: 16.5877 - root_mean_squared_error: 23.4323 - mean_absolute_percentage_error: 26.5757 - val_loss: 515.9854 - val_mean_absolute_error: 16.0510 - val_root_mean_squared_error: 22.7153 - val_mean_absolute_percentage_error: 25.4474\n",
      "Epoch 40/100\n",
      "1231/1231 [==============================] - 339s 275ms/step - loss: 542.7645 - mean_absolute_error: 16.4967 - root_mean_squared_error: 23.2973 - mean_absolute_percentage_error: 26.3297 - val_loss: 519.0327 - val_mean_absolute_error: 16.0361 - val_root_mean_squared_error: 22.7823 - val_mean_absolute_percentage_error: 24.5075\n",
      "Epoch 41/100\n",
      "1231/1231 [==============================] - 343s 278ms/step - loss: 535.5064 - mean_absolute_error: 16.4033 - root_mean_squared_error: 23.1410 - mean_absolute_percentage_error: 26.2665 - val_loss: 509.8099 - val_mean_absolute_error: 15.9304 - val_root_mean_squared_error: 22.5790 - val_mean_absolute_percentage_error: 24.7337\n",
      "Epoch 42/100\n",
      "1231/1231 [==============================] - 341s 277ms/step - loss: 528.4651 - mean_absolute_error: 16.2929 - root_mean_squared_error: 22.9884 - mean_absolute_percentage_error: 26.0173 - val_loss: 508.7853 - val_mean_absolute_error: 15.9074 - val_root_mean_squared_error: 22.5563 - val_mean_absolute_percentage_error: 23.3318\n",
      "Epoch 43/100\n",
      "1231/1231 [==============================] - 342s 278ms/step - loss: 522.5396 - mean_absolute_error: 16.2149 - root_mean_squared_error: 22.8591 - mean_absolute_percentage_error: 25.8052 - val_loss: 508.8094 - val_mean_absolute_error: 16.0748 - val_root_mean_squared_error: 22.5568 - val_mean_absolute_percentage_error: 30.2448\n",
      "Epoch 44/100\n",
      "1231/1231 [==============================] - 341s 277ms/step - loss: 516.6440 - mean_absolute_error: 16.1325 - root_mean_squared_error: 22.7298 - mean_absolute_percentage_error: 25.7468 - val_loss: 508.8642 - val_mean_absolute_error: 16.1062 - val_root_mean_squared_error: 22.5580 - val_mean_absolute_percentage_error: 29.1553\n",
      "Epoch 45/100\n",
      "1231/1231 [==============================] - 339s 275ms/step - loss: 510.1266 - mean_absolute_error: 16.0347 - root_mean_squared_error: 22.5860 - mean_absolute_percentage_error: 25.5020 - val_loss: 499.6040 - val_mean_absolute_error: 15.7408 - val_root_mean_squared_error: 22.3518 - val_mean_absolute_percentage_error: 23.8256\n",
      "Epoch 46/100\n",
      "1231/1231 [==============================] - 340s 276ms/step - loss: 505.2555 - mean_absolute_error: 15.9476 - root_mean_squared_error: 22.4779 - mean_absolute_percentage_error: 25.3549 - val_loss: 497.6257 - val_mean_absolute_error: 15.7423 - val_root_mean_squared_error: 22.3075 - val_mean_absolute_percentage_error: 23.2416\n",
      "Epoch 47/100\n",
      "1231/1231 [==============================] - 340s 276ms/step - loss: 500.0297 - mean_absolute_error: 15.8676 - root_mean_squared_error: 22.3614 - mean_absolute_percentage_error: 25.0790 - val_loss: 495.2288 - val_mean_absolute_error: 15.6742 - val_root_mean_squared_error: 22.2537 - val_mean_absolute_percentage_error: 23.2355\n",
      "Epoch 48/100\n"
     ]
    },
    {
     "name": "stdout",
     "output_type": "stream",
     "text": [
      "1231/1231 [==============================] - 338s 275ms/step - loss: 496.3419 - mean_absolute_error: 15.8268 - root_mean_squared_error: 22.2787 - mean_absolute_percentage_error: 25.1449 - val_loss: 492.6021 - val_mean_absolute_error: 15.5841 - val_root_mean_squared_error: 22.1946 - val_mean_absolute_percentage_error: 22.4842\n",
      "Epoch 49/100\n",
      "1231/1231 [==============================] - 316s 256ms/step - loss: 491.4695 - mean_absolute_error: 15.7503 - root_mean_squared_error: 22.1691 - mean_absolute_percentage_error: 24.9648 - val_loss: 488.8985 - val_mean_absolute_error: 15.5319 - val_root_mean_squared_error: 22.1111 - val_mean_absolute_percentage_error: 22.1464\n",
      "Epoch 50/100\n",
      "1231/1231 [==============================] - 212s 172ms/step - loss: 486.9839 - mean_absolute_error: 15.6647 - root_mean_squared_error: 22.0677 - mean_absolute_percentage_error: 24.7797 - val_loss: 491.0873 - val_mean_absolute_error: 15.5824 - val_root_mean_squared_error: 22.1605 - val_mean_absolute_percentage_error: 22.4129\n",
      "Epoch 51/100\n",
      "1231/1231 [==============================] - 344s 279ms/step - loss: 483.8999 - mean_absolute_error: 15.6247 - root_mean_squared_error: 21.9977 - mean_absolute_percentage_error: 24.8275 - val_loss: 484.7945 - val_mean_absolute_error: 15.5125 - val_root_mean_squared_error: 22.0181 - val_mean_absolute_percentage_error: 22.9208\n",
      "Epoch 52/100\n",
      "1231/1231 [==============================] - 342s 278ms/step - loss: 479.0799 - mean_absolute_error: 15.5451 - root_mean_squared_error: 21.8879 - mean_absolute_percentage_error: 24.5544 - val_loss: 481.8123 - val_mean_absolute_error: 15.4788 - val_root_mean_squared_error: 21.9502 - val_mean_absolute_percentage_error: 24.3174\n",
      "Epoch 53/100\n",
      "1231/1231 [==============================] - 340s 276ms/step - loss: 475.3361 - mean_absolute_error: 15.4828 - root_mean_squared_error: 21.8022 - mean_absolute_percentage_error: 24.4651 - val_loss: 482.6709 - val_mean_absolute_error: 15.5063 - val_root_mean_squared_error: 21.9698 - val_mean_absolute_percentage_error: 24.7947\n",
      "Epoch 54/100\n",
      "1231/1231 [==============================] - 341s 277ms/step - loss: 472.0168 - mean_absolute_error: 15.4248 - root_mean_squared_error: 21.7259 - mean_absolute_percentage_error: 24.3805 - val_loss: 480.9305 - val_mean_absolute_error: 15.4015 - val_root_mean_squared_error: 21.9301 - val_mean_absolute_percentage_error: 22.2110\n",
      "Epoch 55/100\n",
      "1231/1231 [==============================] - 341s 277ms/step - loss: 469.0565 - mean_absolute_error: 15.3722 - root_mean_squared_error: 21.6577 - mean_absolute_percentage_error: 24.3062 - val_loss: 478.7659 - val_mean_absolute_error: 15.4012 - val_root_mean_squared_error: 21.8807 - val_mean_absolute_percentage_error: 24.5893\n",
      "Epoch 56/100\n",
      "1231/1231 [==============================] - 340s 277ms/step - loss: 466.1547 - mean_absolute_error: 15.3240 - root_mean_squared_error: 21.5906 - mean_absolute_percentage_error: 24.2743 - val_loss: 475.9105 - val_mean_absolute_error: 15.3430 - val_root_mean_squared_error: 21.8154 - val_mean_absolute_percentage_error: 23.1765\n",
      "Epoch 57/100\n",
      "1231/1231 [==============================] - 334s 271ms/step - loss: 463.4081 - mean_absolute_error: 15.2870 - root_mean_squared_error: 21.5269 - mean_absolute_percentage_error: 24.1736 - val_loss: 478.3901 - val_mean_absolute_error: 15.3608 - val_root_mean_squared_error: 21.8721 - val_mean_absolute_percentage_error: 21.9023\n",
      "Epoch 58/100\n",
      "1231/1231 [==============================] - 206s 167ms/step - loss: 460.4078 - mean_absolute_error: 15.2396 - root_mean_squared_error: 21.4571 - mean_absolute_percentage_error: 24.1312 - val_loss: 471.5171 - val_mean_absolute_error: 15.2302 - val_root_mean_squared_error: 21.7144 - val_mean_absolute_percentage_error: 21.8350\n",
      "Epoch 59/100\n",
      "1231/1231 [==============================] - 75s 61ms/step - loss: 457.7941 - mean_absolute_error: 15.1913 - root_mean_squared_error: 21.3961 - mean_absolute_percentage_error: 24.0100 - val_loss: 470.3674 - val_mean_absolute_error: 15.2598 - val_root_mean_squared_error: 21.6880 - val_mean_absolute_percentage_error: 23.8135\n",
      "Epoch 60/100\n",
      "1231/1231 [==============================] - 77s 63ms/step - loss: 455.1687 - mean_absolute_error: 15.1439 - root_mean_squared_error: 21.3347 - mean_absolute_percentage_error: 23.9451 - val_loss: 472.4216 - val_mean_absolute_error: 15.2029 - val_root_mean_squared_error: 21.7353 - val_mean_absolute_percentage_error: 21.1998\n",
      "Epoch 61/100\n",
      "1231/1231 [==============================] - 81s 66ms/step - loss: 454.0223 - mean_absolute_error: 15.1235 - root_mean_squared_error: 21.3078 - mean_absolute_percentage_error: 23.8687 - val_loss: 475.8451 - val_mean_absolute_error: 15.2965 - val_root_mean_squared_error: 21.8139 - val_mean_absolute_percentage_error: 21.6907\n",
      "Epoch 62/100\n",
      "1231/1231 [==============================] - 78s 64ms/step - loss: 449.8443 - mean_absolute_error: 15.0482 - root_mean_squared_error: 21.2095 - mean_absolute_percentage_error: 23.7424 - val_loss: 472.8882 - val_mean_absolute_error: 15.2546 - val_root_mean_squared_error: 21.7460 - val_mean_absolute_percentage_error: 22.3066\n",
      "Epoch 63/100\n",
      "1231/1231 [==============================] - 81s 66ms/step - loss: 447.3367 - mean_absolute_error: 14.9981 - root_mean_squared_error: 21.1503 - mean_absolute_percentage_error: 23.6374 - val_loss: 466.2947 - val_mean_absolute_error: 15.1109 - val_root_mean_squared_error: 21.5939 - val_mean_absolute_percentage_error: 21.7645\n",
      "Epoch 64/100\n",
      "1231/1231 [==============================] - 78s 64ms/step - loss: 446.2255 - mean_absolute_error: 14.9953 - root_mean_squared_error: 21.1240 - mean_absolute_percentage_error: 23.6884 - val_loss: 467.4654 - val_mean_absolute_error: 15.1947 - val_root_mean_squared_error: 21.6209 - val_mean_absolute_percentage_error: 24.0133\n",
      "Epoch 65/100\n",
      "1231/1231 [==============================] - 79s 64ms/step - loss: 443.4956 - mean_absolute_error: 14.9473 - root_mean_squared_error: 21.0593 - mean_absolute_percentage_error: 23.5635 - val_loss: 465.4719 - val_mean_absolute_error: 15.1636 - val_root_mean_squared_error: 21.5748 - val_mean_absolute_percentage_error: 23.9434\n",
      "Epoch 66/100\n",
      "1231/1231 [==============================] - 81s 65ms/step - loss: 441.4695 - mean_absolute_error: 14.8977 - root_mean_squared_error: 21.0112 - mean_absolute_percentage_error: 23.4940 - val_loss: 467.6402 - val_mean_absolute_error: 15.1752 - val_root_mean_squared_error: 21.6250 - val_mean_absolute_percentage_error: 23.1455\n",
      "Epoch 67/100\n",
      "1231/1231 [==============================] - 60s 49ms/step - loss: 439.1036 - mean_absolute_error: 14.8579 - root_mean_squared_error: 20.9548 - mean_absolute_percentage_error: 23.4354 - val_loss: 466.4213 - val_mean_absolute_error: 15.1383 - val_root_mean_squared_error: 21.5968 - val_mean_absolute_percentage_error: 20.7143\n",
      "Epoch 68/100\n",
      "1231/1231 [==============================] - 75s 61ms/step - loss: 436.6566 - mean_absolute_error: 14.8145 - root_mean_squared_error: 20.8963 - mean_absolute_percentage_error: 23.2949 - val_loss: 465.4897 - val_mean_absolute_error: 15.0936 - val_root_mean_squared_error: 21.5752 - val_mean_absolute_percentage_error: 21.5673\n",
      "Epoch 69/100\n",
      "1231/1231 [==============================] - 79s 64ms/step - loss: 435.3654 - mean_absolute_error: 14.8012 - root_mean_squared_error: 20.8654 - mean_absolute_percentage_error: 23.3658 - val_loss: 465.4655 - val_mean_absolute_error: 15.1025 - val_root_mean_squared_error: 21.5747 - val_mean_absolute_percentage_error: 21.2222\n",
      "Epoch 70/100\n",
      "1231/1231 [==============================] - 83s 67ms/step - loss: 433.3962 - mean_absolute_error: 14.7680 - root_mean_squared_error: 20.8182 - mean_absolute_percentage_error: 23.3761 - val_loss: 470.0054 - val_mean_absolute_error: 15.1645 - val_root_mean_squared_error: 21.6796 - val_mean_absolute_percentage_error: 20.3919\n",
      "Epoch 71/100\n",
      "1231/1231 [==============================] - 79s 64ms/step - loss: 431.5424 - mean_absolute_error: 14.7222 - root_mean_squared_error: 20.7736 - mean_absolute_percentage_error: 23.2021 - val_loss: 462.4908 - val_mean_absolute_error: 15.1021 - val_root_mean_squared_error: 21.5056 - val_mean_absolute_percentage_error: 22.8287\n",
      "Epoch 72/100\n",
      "1231/1231 [==============================] - 80s 65ms/step - loss: 430.2134 - mean_absolute_error: 14.6996 - root_mean_squared_error: 20.7416 - mean_absolute_percentage_error: 23.1371 - val_loss: 463.7371 - val_mean_absolute_error: 15.2531 - val_root_mean_squared_error: 21.5346 - val_mean_absolute_percentage_error: 27.0688\n",
      "Epoch 73/100\n",
      "1231/1231 [==============================] - 58s 47ms/step - loss: 428.1783 - mean_absolute_error: 14.6731 - root_mean_squared_error: 20.6925 - mean_absolute_percentage_error: 23.1742 - val_loss: 464.0717 - val_mean_absolute_error: 15.0733 - val_root_mean_squared_error: 21.5423 - val_mean_absolute_percentage_error: 20.9004\n",
      "Epoch 74/100\n",
      "1231/1231 [==============================] - 77s 63ms/step - loss: 426.0228 - mean_absolute_error: 14.6263 - root_mean_squared_error: 20.6403 - mean_absolute_percentage_error: 23.0232 - val_loss: 465.3908 - val_mean_absolute_error: 15.0877 - val_root_mean_squared_error: 21.5729 - val_mean_absolute_percentage_error: 21.1943\n",
      "Epoch 75/100\n",
      "1231/1231 [==============================] - 85s 69ms/step - loss: 425.0970 - mean_absolute_error: 14.6140 - root_mean_squared_error: 20.6179 - mean_absolute_percentage_error: 22.9878 - val_loss: 465.7760 - val_mean_absolute_error: 15.2696 - val_root_mean_squared_error: 21.5818 - val_mean_absolute_percentage_error: 26.6066\n",
      "Epoch 76/100\n",
      "1231/1231 [==============================] - 83s 68ms/step - loss: 423.4679 - mean_absolute_error: 14.5725 - root_mean_squared_error: 20.5783 - mean_absolute_percentage_error: 22.9568 - val_loss: 463.9240 - val_mean_absolute_error: 15.1985 - val_root_mean_squared_error: 21.5389 - val_mean_absolute_percentage_error: 25.1822\n",
      "Epoch 77/100\n",
      "1231/1231 [==============================] - 83s 68ms/step - loss: 421.4447 - mean_absolute_error: 14.5380 - root_mean_squared_error: 20.5291 - mean_absolute_percentage_error: 22.8517 - val_loss: 466.0452 - val_mean_absolute_error: 15.0758 - val_root_mean_squared_error: 21.5881 - val_mean_absolute_percentage_error: 21.9002\n",
      "Epoch 78/100\n",
      "1231/1231 [==============================] - 82s 66ms/step - loss: 420.9939 - mean_absolute_error: 14.5408 - root_mean_squared_error: 20.5181 - mean_absolute_percentage_error: 22.8687 - val_loss: 459.7909 - val_mean_absolute_error: 14.9504 - val_root_mean_squared_error: 21.4427 - val_mean_absolute_percentage_error: 20.3239\n",
      "Epoch 79/100\n",
      "1231/1231 [==============================] - 84s 68ms/step - loss: 419.3817 - mean_absolute_error: 14.5049 - root_mean_squared_error: 20.4788 - mean_absolute_percentage_error: 22.8485 - val_loss: 464.0401 - val_mean_absolute_error: 15.1306 - val_root_mean_squared_error: 21.5416 - val_mean_absolute_percentage_error: 22.9389\n",
      "Epoch 80/100\n",
      "1231/1231 [==============================] - 83s 68ms/step - loss: 417.8182 - mean_absolute_error: 14.4829 - root_mean_squared_error: 20.4406 - mean_absolute_percentage_error: 22.8238 - val_loss: 461.4401 - val_mean_absolute_error: 15.0560 - val_root_mean_squared_error: 21.4812 - val_mean_absolute_percentage_error: 23.2863\n",
      "Epoch 81/100\n",
      "1231/1231 [==============================] - 83s 68ms/step - loss: 416.7183 - mean_absolute_error: 14.4553 - root_mean_squared_error: 20.4137 - mean_absolute_percentage_error: 22.7898 - val_loss: 459.1758 - val_mean_absolute_error: 14.9871 - val_root_mean_squared_error: 21.4284 - val_mean_absolute_percentage_error: 21.1431\n",
      "Epoch 82/100\n",
      "1231/1231 [==============================] - 84s 69ms/step - loss: 415.8384 - mean_absolute_error: 14.4455 - root_mean_squared_error: 20.3921 - mean_absolute_percentage_error: 22.7567 - val_loss: 462.0616 - val_mean_absolute_error: 15.1269 - val_root_mean_squared_error: 21.4956 - val_mean_absolute_percentage_error: 24.1335\n",
      "Epoch 83/100\n",
      "1231/1231 [==============================] - 83s 67ms/step - loss: 413.8911 - mean_absolute_error: 14.4100 - root_mean_squared_error: 20.3443 - mean_absolute_percentage_error: 22.7126 - val_loss: 469.9331 - val_mean_absolute_error: 15.5168 - val_root_mean_squared_error: 21.6779 - val_mean_absolute_percentage_error: 31.1373\n",
      "Epoch 84/100\n",
      "1231/1231 [==============================] - 84s 69ms/step - loss: 412.8962 - mean_absolute_error: 14.3933 - root_mean_squared_error: 20.3198 - mean_absolute_percentage_error: 22.6783 - val_loss: 465.6977 - val_mean_absolute_error: 15.1293 - val_root_mean_squared_error: 21.5800 - val_mean_absolute_percentage_error: 21.4114\n",
      "Epoch 85/100\n",
      "1231/1231 [==============================] - 84s 68ms/step - loss: 410.9804 - mean_absolute_error: 14.3527 - root_mean_squared_error: 20.2727 - mean_absolute_percentage_error: 22.5325 - val_loss: 461.3605 - val_mean_absolute_error: 14.9794 - val_root_mean_squared_error: 21.4793 - val_mean_absolute_percentage_error: 21.9808\n",
      "Epoch 86/100\n",
      "1231/1231 [==============================] - 83s 67ms/step - loss: 410.8641 - mean_absolute_error: 14.3557 - root_mean_squared_error: 20.2698 - mean_absolute_percentage_error: 22.5120 - val_loss: 459.0408 - val_mean_absolute_error: 14.9623 - val_root_mean_squared_error: 21.4252 - val_mean_absolute_percentage_error: 21.7711\n",
      "Epoch 87/100\n",
      "1231/1231 [==============================] - 88s 71ms/step - loss: 409.5829 - mean_absolute_error: 14.3285 - root_mean_squared_error: 20.2381 - mean_absolute_percentage_error: 22.4483 - val_loss: 459.2939 - val_mean_absolute_error: 15.0461 - val_root_mean_squared_error: 21.4311 - val_mean_absolute_percentage_error: 22.1688\n",
      "Epoch 88/100\n",
      "1231/1231 [==============================] - 83s 68ms/step - loss: 408.7504 - mean_absolute_error: 14.3239 - root_mean_squared_error: 20.2176 - mean_absolute_percentage_error: 22.4514 - val_loss: 460.8971 - val_mean_absolute_error: 14.9808 - val_root_mean_squared_error: 21.4685 - val_mean_absolute_percentage_error: 21.82030 - mean_absolute_error: 14.3328 - root_mean_squared_error: 20.2208 - me\n",
      "Epoch 89/100\n",
      "1231/1231 [==============================] - 84s 68ms/step - loss: 407.4297 - mean_absolute_error: 14.2904 - root_mean_squared_error: 20.1849 - mean_absolute_percentage_error: 22.3997 - val_loss: 460.3277 - val_mean_absolute_error: 15.0172 - val_root_mean_squared_error: 21.4552 - val_mean_absolute_percentage_error: 21.3088\n",
      "Epoch 90/100\n",
      "1231/1231 [==============================] - 84s 68ms/step - loss: 406.2360 - mean_absolute_error: 14.2780 - root_mean_squared_error: 20.1553 - mean_absolute_percentage_error: 22.4239 - val_loss: 460.9172 - val_mean_absolute_error: 14.9666 - val_root_mean_squared_error: 21.4690 - val_mean_absolute_percentage_error: 20.8802\n",
      "Epoch 91/100\n",
      "1231/1231 [==============================] - 84s 68ms/step - loss: 405.3590 - mean_absolute_error: 14.2486 - root_mean_squared_error: 20.1335 - mean_absolute_percentage_error: 22.2913 - val_loss: 460.1673 - val_mean_absolute_error: 14.9815 - val_root_mean_squared_error: 21.4515 - val_mean_absolute_percentage_error: 20.5758\n",
      "Epoch 92/100\n",
      "1231/1231 [==============================] - 64s 52ms/step - loss: 404.1866 - mean_absolute_error: 14.2325 - root_mean_squared_error: 20.1044 - mean_absolute_percentage_error: 22.2971 - val_loss: 473.8199 - val_mean_absolute_error: 15.4532 - val_root_mean_squared_error: 21.7674 - val_mean_absolute_percentage_error: 27.930103.9207 - mean_absolute_error: 14.2272 - root_mean_squared_error: 20.0978 - mean_absolute_percentage_erro\n",
      "Epoch 93/100\n",
      "1231/1231 [==============================] - 80s 65ms/step - loss: 403.3982 - mean_absolute_error: 14.2258 - root_mean_squared_error: 20.0848 - mean_absolute_percentage_error: 22.3557 - val_loss: 465.9786 - val_mean_absolute_error: 15.2252 - val_root_mean_squared_error: 21.5865 - val_mean_absolute_percentage_error: 26.7010\n",
      "Epoch 94/100\n",
      "1231/1231 [==============================] - 84s 68ms/step - loss: 402.1023 - mean_absolute_error: 14.1948 - root_mean_squared_error: 20.0525 - mean_absolute_percentage_error: 22.2263 - val_loss: 465.1110 - val_mean_absolute_error: 15.0450 - val_root_mean_squared_error: 21.5664 - val_mean_absolute_percentage_error: 19.8239\n",
      "Epoch 95/100\n"
     ]
    },
    {
     "name": "stdout",
     "output_type": "stream",
     "text": [
      "1231/1231 [==============================] - 83s 68ms/step - loss: 400.6391 - mean_absolute_error: 14.1726 - root_mean_squared_error: 20.0160 - mean_absolute_percentage_error: 22.1862 - val_loss: 462.7363 - val_mean_absolute_error: 15.1750 - val_root_mean_squared_error: 21.5113 - val_mean_absolute_percentage_error: 26.0217\n",
      "Epoch 96/100\n",
      "1231/1231 [==============================] - 83s 68ms/step - loss: 399.9839 - mean_absolute_error: 14.1590 - root_mean_squared_error: 19.9996 - mean_absolute_percentage_error: 22.2182 - val_loss: 461.4930 - val_mean_absolute_error: 15.0692 - val_root_mean_squared_error: 21.4824 - val_mean_absolute_percentage_error: 20.3348\n",
      "Epoch 97/100\n",
      "1231/1231 [==============================] - 84s 68ms/step - loss: 398.9299 - mean_absolute_error: 14.1392 - root_mean_squared_error: 19.9732 - mean_absolute_percentage_error: 22.0921 - val_loss: 462.7769 - val_mean_absolute_error: 15.0564 - val_root_mean_squared_error: 21.5123 - val_mean_absolute_percentage_error: 21.7755error: 14.1360 - root_mean_squared_error: 19.9705 - mean_absolute_percentage_error: 22.\n",
      "Epoch 98/100\n",
      "1231/1231 [==============================] - 85s 69ms/step - loss: 398.1926 - mean_absolute_error: 14.1241 - root_mean_squared_error: 19.9548 - mean_absolute_percentage_error: 22.1223 - val_loss: 461.6026 - val_mean_absolute_error: 15.0312 - val_root_mean_squared_error: 21.4849 - val_mean_absolute_percentage_error: 22.4164\n",
      "Epoch 99/100\n",
      "1231/1231 [==============================] - 85s 69ms/step - loss: 397.2711 - mean_absolute_error: 14.1167 - root_mean_squared_error: 19.9317 - mean_absolute_percentage_error: 22.1677 - val_loss: 465.3998 - val_mean_absolute_error: 15.1701 - val_root_mean_squared_error: 21.5731 - val_mean_absolute_percentage_error: 22.5718\n",
      "Epoch 100/100\n",
      "1231/1231 [==============================] - 84s 68ms/step - loss: 396.9417 - mean_absolute_error: 14.1188 - root_mean_squared_error: 19.9234 - mean_absolute_percentage_error: 22.2039 - val_loss: 463.9461 - val_mean_absolute_error: 15.0765 - val_root_mean_squared_error: 21.5394 - val_mean_absolute_percentage_error: 22.7244\n"
     ]
    },
    {
     "data": {
      "text/plain": [
       "<keras.callbacks.History at 0x24947bc3fa0>"
      ]
     },
     "execution_count": 82,
     "metadata": {},
     "output_type": "execute_result"
    }
   ],
   "source": [
    "model15.fit((Wt15,Xt15), yt15, validation_split = val_percent,\n",
    "            epochs = 100, \n",
    "            verbose = 1)"
   ]
  },
  {
   "cell_type": "code",
   "execution_count": 83,
   "metadata": {},
   "outputs": [],
   "source": [
    "metrics15 = pd.DataFrame(model15.history.history)"
   ]
  },
  {
   "cell_type": "code",
   "execution_count": 84,
   "metadata": {},
   "outputs": [],
   "source": [
    "# fig = plt.figure(figsize=(6,4))\n",
    "\n",
    "# # Add set of axes to figure\n",
    "# axes = fig.add_axes([0, 0, 1, 1]) \n",
    "# axes2 = fig.add_axes([0.3, 0.35, 0.5, 0.5]) # Smaller figure\n",
    "# axes.plot(metrics15[['loss','val_loss']], label=['train_loss','val_loss'], lw=4)\n",
    "# axes.set_ylim(0,4000)\n",
    "\n",
    "# axes2.plot(metrics15[['loss','val_loss']], lw=4)\n",
    "# axes2.set_xlim(0,20)\n",
    "# axes2.set_ylim(500,1500)\n",
    "# #plt.xticks(visible=False)\n",
    "# plt.yticks(visible=False)\n",
    "\n",
    "# axes.set_xlabel('Epoch')\n",
    "# axes.set_ylabel('Loss')\n",
    "# axes.grid()\n",
    "# axes2.grid()\n",
    "\n",
    "# mark_inset(axes, axes2, loc1=2, loc2=4, fc=\"0.9\", ec=\"0.1\", ls='--')\n",
    "# axes.yaxis.set_major_formatter(formatter)"
   ]
  },
  {
   "cell_type": "code",
   "execution_count": 85,
   "metadata": {},
   "outputs": [
    {
     "name": "stderr",
     "output_type": "stream",
     "text": [
      "WARNING:absl:Function `_wrapped_model` contains input name(s) WideInput, DeepInput with unsupported characters which will be renamed to wideinput, deepinput in the SavedModel.\n",
      "WARNING:absl:Found untraced functions such as lstm_cell_11_layer_call_and_return_conditional_losses, lstm_cell_11_layer_call_fn, lstm_cell_9_layer_call_and_return_conditional_losses, lstm_cell_9_layer_call_fn, lstm_cell_10_layer_call_and_return_conditional_losses while saving (showing 5 of 15). These functions will not be directly callable after loading.\n"
     ]
    },
    {
     "name": "stdout",
     "output_type": "stream",
     "text": [
      "INFO:tensorflow:Assets written to: my_dir/10a-15\\assets\n"
     ]
    },
    {
     "name": "stderr",
     "output_type": "stream",
     "text": [
      "INFO:tensorflow:Assets written to: my_dir/10a-15\\assets\n"
     ]
    }
   ],
   "source": [
    "model15.save(\"my_dir/10a-15\")"
   ]
  },
  {
   "cell_type": "code",
   "execution_count": 86,
   "metadata": {},
   "outputs": [],
   "source": [
    "model15 = keras.models.load_model(\"my_dir/10a-15\")"
   ]
  },
  {
   "cell_type": "code",
   "execution_count": 87,
   "metadata": {},
   "outputs": [
    {
     "data": {
      "text/plain": [
       "array([[ 29.974127 ,  18.51719  ,  17.791315 ,  63.91576  ,  30.376251 ,\n",
       "          5.434965 ],\n",
       "       [ 28.995827 ,  17.23334  ,  17.396067 ,  63.593357 ,  30.254843 ,\n",
       "          5.1000767],\n",
       "       [ 28.973717 ,  16.789722 ,  16.582033 ,  62.805164 ,  29.925861 ,\n",
       "          5.2324543],\n",
       "       ...,\n",
       "       [ 49.083817 ,  56.18886  ,  64.6376   , 125.795975 ,  59.11979  ,\n",
       "         18.724407 ],\n",
       "       [ 46.03093  ,  49.900856 ,  58.69641  , 119.98131  ,  56.653145 ,\n",
       "         20.254866 ],\n",
       "       [ 41.164642 ,  40.987244 ,  52.571426 , 111.411736 ,  51.861946 ,\n",
       "         16.80966  ]], dtype=float32)"
      ]
     },
     "execution_count": 87,
     "metadata": {},
     "output_type": "execute_result"
    }
   ],
   "source": [
    "model15.predict((Wv15,Xv15))"
   ]
  },
  {
   "cell_type": "markdown",
   "metadata": {},
   "source": [
    "### Evaluation on inverse_transform"
   ]
  },
  {
   "cell_type": "code",
   "execution_count": null,
   "metadata": {},
   "outputs": [],
   "source": [
    "test_predictions15 = model15.predict((Wv15,Xv15))\n",
    "\n",
    "\n",
    "MSE15 = mean_squared_error(yv15,test_predictions15)\n",
    "\n",
    "MAE15 = mean_absolute_error(yv15,test_predictions15)\n",
    "\n",
    "RMSE15 = np.sqrt(MSE15)\n",
    "\n",
    "MAPE15 = mean_absolute_percentage_error(yv15,test_predictions15)*100\n",
    "\n",
    "eval15 = [MSE15, MAE15, RMSE15, MAPE15]\n",
    "print(eval15)"
   ]
  },
  {
   "cell_type": "code",
   "execution_count": null,
   "metadata": {},
   "outputs": [],
   "source": [
    "GEH, count = ga.GEH(np.asarray(yv15), np.asarray(test_predictions15))\n",
    "GEH15 = count/GEH.size\n",
    "print(GEH15)"
   ]
  },
  {
   "cell_type": "markdown",
   "metadata": {},
   "source": [
    "# 30 mins ahead"
   ]
  },
  {
   "cell_type": "code",
   "execution_count": 90,
   "metadata": {},
   "outputs": [],
   "source": [
    "def build_model_30(hp):\n",
    "    # Inputs\n",
    "    channel_Wide = keras.layers.Input(shape=Wt30.shape[1:], name=\"WideInput\")\n",
    "    channel_Deep = keras.layers.Input(shape=Xt30.shape[1:], name=\"DeepInput\")\n",
    "    units = hp.Int(\"units\", min_value=1, max_value=100, step=1)\n",
    "    \n",
    "    \n",
    "    # Wide Model\n",
    "    flatten_30w = keras.layers.TimeDistributed(keras.layers.Flatten())(channel_Wide)\n",
    "    Bi_30 = keras.layers.Bidirectional(\n",
    "        keras.layers.LSTM(units=units, return_sequences=True),\n",
    "        merge_mode=\"ave\"\n",
    "    )(flatten_30w)\n",
    "    \n",
    "    \n",
    "    # Deep Model\n",
    "    # CNN \n",
    "    CNN_30 = keras.layers.TimeDistributed(\n",
    "        keras.layers.Conv2D(filters=hp.Int(\"filters\", min_value=32, max_value=512, step=32),\n",
    "                            kernel_size=hp.Choice(\"kernel_size\", [2, 3]), activation='relu'))(channel_Deep)\n",
    "    flatten_30 = keras.layers.TimeDistributed(keras.layers.Flatten())(CNN_30)\n",
    "    # LSTM          \n",
    "    LSTM_30 = keras.layers.LSTM(units=units, return_sequences=True)(flatten_30)\n",
    "\n",
    "    \n",
    "    # Concatenation \n",
    "    concat = keras.layers.concatenate([Bi_30, LSTM_30], axis=1)\n",
    "\n",
    "    # Attention\n",
    "    Att_30 = SeqSelfAttention(attention_activation='sigmoid')(concat)\n",
    "    merge = keras.layers.Flatten()(concat)\n",
    "\n",
    "    \n",
    "    # Output\n",
    "    output = keras.layers.Dense(n_features, name= \"output\")(merge)\n",
    "    \n",
    "    # Model\n",
    "    model_30 = keras.Model(inputs=[channel_Wide,channel_Deep], outputs=[output])\n",
    "\n",
    "    # Compile\n",
    "    model_30.compile(optimizer=keras.optimizers.Adam(hp.Choice(\"learning_rate\", [1e-2, 1e-3, 1e-4])), \n",
    "        loss=\"mse\", metrics=['MeanAbsoluteError','RootMeanSquaredError','MeanAbsolutePercentageError'])\n",
    "                    \n",
    "    return model_30"
   ]
  },
  {
   "cell_type": "code",
   "execution_count": 91,
   "metadata": {},
   "outputs": [],
   "source": [
    "tuner30 = RandomSearch(\n",
    "    build_model_30,\n",
    "    objective=\"val_loss\",\n",
    "    max_trials=10,\n",
    "    executions_per_trial=2,\n",
    "    overwrite=False,\n",
    "    directory=os.path.normpath('C:/RunsOak'),\n",
    "    project_name=\"10a-30\",\n",
    ")"
   ]
  },
  {
   "cell_type": "code",
   "execution_count": 92,
   "metadata": {},
   "outputs": [
    {
     "name": "stdout",
     "output_type": "stream",
     "text": [
      "Search space summary\n",
      "Default search space size: 4\n",
      "units (Int)\n",
      "{'default': None, 'conditions': [], 'min_value': 1, 'max_value': 100, 'step': 1, 'sampling': 'linear'}\n",
      "filters (Int)\n",
      "{'default': None, 'conditions': [], 'min_value': 32, 'max_value': 512, 'step': 32, 'sampling': 'linear'}\n",
      "kernel_size (Choice)\n",
      "{'default': 2, 'conditions': [], 'values': [2, 3], 'ordered': True}\n",
      "learning_rate (Choice)\n",
      "{'default': 0.01, 'conditions': [], 'values': [0.01, 0.001, 0.0001], 'ordered': True}\n"
     ]
    }
   ],
   "source": [
    "tuner30.search_space_summary()"
   ]
  },
  {
   "cell_type": "code",
   "execution_count": 93,
   "metadata": {},
   "outputs": [
    {
     "name": "stdout",
     "output_type": "stream",
     "text": [
      "Trial 10 Complete [00h 52m 03s]\n",
      "val_loss: 644.2792053222656\n",
      "\n",
      "Best val_loss So Far: 516.8050842285156\n",
      "Total elapsed time: 1d 09h 52m 50s\n",
      "INFO:tensorflow:Oracle triggered exit\n"
     ]
    },
    {
     "name": "stderr",
     "output_type": "stream",
     "text": [
      "INFO:tensorflow:Oracle triggered exit\n"
     ]
    }
   ],
   "source": [
    "tuner30.search((Wt30,Xt30), yt30, epochs=200,\n",
    "            validation_split = val_percent,\n",
    "            callbacks=[early_stop],\n",
    "            verbose=2)"
   ]
  },
  {
   "cell_type": "code",
   "execution_count": 94,
   "metadata": {},
   "outputs": [
    {
     "name": "stdout",
     "output_type": "stream",
     "text": [
      "Results summary\n",
      "Results in C:\\RunsOak\\10a-30\n",
      "Showing 1 best trials\n",
      "Objective(name=\"val_loss\", direction=\"min\")\n",
      "\n",
      "Trial 00 summary\n",
      "Hyperparameters:\n",
      "units: 70\n",
      "filters: 256\n",
      "kernel_size: 2\n",
      "learning_rate: 0.0001\n",
      "Score: 516.8050842285156\n"
     ]
    }
   ],
   "source": [
    "tuner30.results_summary(1)"
   ]
  },
  {
   "cell_type": "markdown",
   "metadata": {},
   "source": [
    "### Best model"
   ]
  },
  {
   "cell_type": "code",
   "execution_count": 95,
   "metadata": {},
   "outputs": [],
   "source": [
    "best_hp30 = tuner30.get_best_hyperparameters()[0]\n",
    "model30 = tuner30.hypermodel.build(best_hp30)"
   ]
  },
  {
   "cell_type": "code",
   "execution_count": 96,
   "metadata": {},
   "outputs": [
    {
     "data": {
      "text/plain": [
       "['Best_HP/10a-30']"
      ]
     },
     "execution_count": 96,
     "metadata": {},
     "output_type": "execute_result"
    }
   ],
   "source": [
    "scaler_filename = \"Best_HP/10a-30\"\n",
    "joblib.dump(best_hp30, scaler_filename) "
   ]
  },
  {
   "cell_type": "code",
   "execution_count": 97,
   "metadata": {},
   "outputs": [],
   "source": [
    "scaler_filename = \"Best_HP/10a-30\"\n",
    "best_hp30 = joblib.load(scaler_filename) \n",
    "\n",
    "model30 = tuner30.hypermodel.build(best_hp30)"
   ]
  },
  {
   "cell_type": "code",
   "execution_count": 98,
   "metadata": {},
   "outputs": [
    {
     "name": "stdout",
     "output_type": "stream",
     "text": [
      "Model: \"model_2\"\n",
      "__________________________________________________________________________________________________\n",
      "Layer (type)                    Output Shape         Param #     Connected to                     \n",
      "==================================================================================================\n",
      "DeepInput (InputLayer)          [(None, 3, 5, 15, 6) 0                                            \n",
      "__________________________________________________________________________________________________\n",
      "WideInput (InputLayer)          [(None, 3, 3, 6)]    0                                            \n",
      "__________________________________________________________________________________________________\n",
      "time_distributed_7 (TimeDistrib (None, 3, 4, 14, 256 6400        DeepInput[0][0]                  \n",
      "__________________________________________________________________________________________________\n",
      "time_distributed_6 (TimeDistrib (None, 3, 18)        0           WideInput[0][0]                  \n",
      "__________________________________________________________________________________________________\n",
      "time_distributed_8 (TimeDistrib (None, 3, 14336)     0           time_distributed_7[0][0]         \n",
      "__________________________________________________________________________________________________\n",
      "bidirectional_2 (Bidirectional) (None, 3, 70)        49840       time_distributed_6[0][0]         \n",
      "__________________________________________________________________________________________________\n",
      "lstm_5 (LSTM)                   (None, 3, 70)        4033960     time_distributed_8[0][0]         \n",
      "__________________________________________________________________________________________________\n",
      "concatenate_2 (Concatenate)     (None, 6, 70)        0           bidirectional_2[0][0]            \n",
      "                                                                 lstm_5[0][0]                     \n",
      "__________________________________________________________________________________________________\n",
      "flatten_8 (Flatten)             (None, 420)          0           concatenate_2[0][0]              \n",
      "__________________________________________________________________________________________________\n",
      "output (Dense)                  (None, 6)            2526        flatten_8[0][0]                  \n",
      "==================================================================================================\n",
      "Total params: 4,092,726\n",
      "Trainable params: 4,092,726\n",
      "Non-trainable params: 0\n",
      "__________________________________________________________________________________________________\n"
     ]
    }
   ],
   "source": [
    "model30.summary()"
   ]
  },
  {
   "cell_type": "code",
   "execution_count": 99,
   "metadata": {},
   "outputs": [
    {
     "name": "stdout",
     "output_type": "stream",
     "text": [
      "Epoch 1/100\n",
      "1231/1231 [==============================] - 100s 76ms/step - loss: 24427.0449 - mean_absolute_error: 122.4001 - root_mean_squared_error: 156.2915 - mean_absolute_percentage_error: 88.7861 - val_loss: 19688.1602 - val_mean_absolute_error: 106.1674 - val_root_mean_squared_error: 140.3145 - val_mean_absolute_percentage_error: 100.2244\n",
      "Epoch 2/100\n",
      "1231/1231 [==============================] - 96s 78ms/step - loss: 15271.5566 - mean_absolute_error: 92.6185 - root_mean_squared_error: 123.5781 - mean_absolute_percentage_error: 112.9822 - val_loss: 12922.5898 - val_mean_absolute_error: 83.4688 - val_root_mean_squared_error: 113.6776 - val_mean_absolute_percentage_error: 118.1145\n",
      "Epoch 3/100\n",
      "1231/1231 [==============================] - 96s 78ms/step - loss: 9930.4336 - mean_absolute_error: 71.3274 - root_mean_squared_error: 99.6516 - mean_absolute_percentage_error: 103.5289 - val_loss: 8435.6133 - val_mean_absolute_error: 63.9514 - val_root_mean_squared_error: 91.8456 - val_mean_absolute_percentage_error: 97.2495\n",
      "Epoch 4/100\n",
      "1231/1231 [==============================] - 92s 75ms/step - loss: 6570.4087 - mean_absolute_error: 56.0823 - root_mean_squared_error: 81.0581 - mean_absolute_percentage_error: 90.3582 - val_loss: 5706.6943 - val_mean_absolute_error: 51.2770 - val_root_mean_squared_error: 75.5427 - val_mean_absolute_percentage_error: 83.2846\n",
      "Epoch 5/100\n",
      "1231/1231 [==============================] - 93s 76ms/step - loss: 4528.2651 - mean_absolute_error: 45.9694 - root_mean_squared_error: 67.2924 - mean_absolute_percentage_error: 77.7914 - val_loss: 3998.9319 - val_mean_absolute_error: 42.6633 - val_root_mean_squared_error: 63.2371 - val_mean_absolute_percentage_error: 69.9409\n",
      "Epoch 6/100\n",
      "1231/1231 [==============================] - 93s 76ms/step - loss: 3275.9424 - mean_absolute_error: 39.2758 - root_mean_squared_error: 57.2358 - mean_absolute_percentage_error: 67.1890 - val_loss: 2924.4607 - val_mean_absolute_error: 36.9660 - val_root_mean_squared_error: 54.0783 - val_mean_absolute_percentage_error: 59.4746\n",
      "Epoch 7/100\n",
      "1231/1231 [==============================] - 97s 79ms/step - loss: 2509.6240 - mean_absolute_error: 34.8359 - root_mean_squared_error: 50.0962 - mean_absolute_percentage_error: 58.1806 - val_loss: 2251.8391 - val_mean_absolute_error: 33.0638 - val_root_mean_squared_error: 47.4536 - val_mean_absolute_percentage_error: 50.8734\n",
      "Epoch 8/100\n",
      "1231/1231 [==============================] - 94s 76ms/step - loss: 2050.6987 - mean_absolute_error: 31.9559 - root_mean_squared_error: 45.2846 - mean_absolute_percentage_error: 51.4959 - val_loss: 1829.6431 - val_mean_absolute_error: 30.3319 - val_root_mean_squared_error: 42.7743 - val_mean_absolute_percentage_error: 44.8150\n",
      "Epoch 9/100\n",
      "1231/1231 [==============================] - 94s 76ms/step - loss: 1775.3073 - mean_absolute_error: 30.1044 - root_mean_squared_error: 42.1344 - mean_absolute_percentage_error: 47.1493 - val_loss: 1561.0376 - val_mean_absolute_error: 28.5067 - val_root_mean_squared_error: 39.5100 - val_mean_absolute_percentage_error: 42.0423\n",
      "Epoch 10/100\n",
      "1231/1231 [==============================] - 94s 76ms/step - loss: 1607.9149 - mean_absolute_error: 28.8220 - root_mean_squared_error: 40.0988 - mean_absolute_percentage_error: 44.2462 - val_loss: 1395.7147 - val_mean_absolute_error: 27.1867 - val_root_mean_squared_error: 37.3593 - val_mean_absolute_percentage_error: 39.3610\n",
      "Epoch 11/100\n",
      "1231/1231 [==============================] - 96s 78ms/step - loss: 1504.3757 - mean_absolute_error: 27.9292 - root_mean_squared_error: 38.7863 - mean_absolute_percentage_error: 42.3106 - val_loss: 1281.6750 - val_mean_absolute_error: 26.2154 - val_root_mean_squared_error: 35.8005 - val_mean_absolute_percentage_error: 38.1202\n",
      "Epoch 12/100\n",
      "1231/1231 [==============================] - 92s 75ms/step - loss: 1434.5454 - mean_absolute_error: 27.2460 - root_mean_squared_error: 37.8754 - mean_absolute_percentage_error: 41.1013 - val_loss: 1212.1185 - val_mean_absolute_error: 25.5440 - val_root_mean_squared_error: 34.8155 - val_mean_absolute_percentage_error: 37.2585\n",
      "Epoch 13/100\n",
      "1231/1231 [==============================] - 94s 76ms/step - loss: 1380.1033 - mean_absolute_error: 26.6755 - root_mean_squared_error: 37.1497 - mean_absolute_percentage_error: 40.3881 - val_loss: 1160.4528 - val_mean_absolute_error: 25.0084 - val_root_mean_squared_error: 34.0654 - val_mean_absolute_percentage_error: 36.4712\n",
      "Epoch 14/100\n",
      "1231/1231 [==============================] - 74s 60ms/step - loss: 1329.3682 - mean_absolute_error: 26.1287 - root_mean_squared_error: 36.4605 - mean_absolute_percentage_error: 39.8487 - val_loss: 1109.1531 - val_mean_absolute_error: 24.4435 - val_root_mean_squared_error: 33.3040 - val_mean_absolute_percentage_error: 36.1508\n",
      "Epoch 15/100\n",
      "1231/1231 [==============================] - 117s 95ms/step - loss: 1277.0709 - mean_absolute_error: 25.5439 - root_mean_squared_error: 35.7361 - mean_absolute_percentage_error: 39.4167 - val_loss: 1041.8868 - val_mean_absolute_error: 23.7313 - val_root_mean_squared_error: 32.2783 - val_mean_absolute_percentage_error: 35.9044\n",
      "Epoch 16/100\n",
      "1231/1231 [==============================] - 116s 94ms/step - loss: 1204.4602 - mean_absolute_error: 24.7016 - root_mean_squared_error: 34.7053 - mean_absolute_percentage_error: 38.0352 - val_loss: 983.3386 - val_mean_absolute_error: 22.7641 - val_root_mean_squared_error: 31.3582 - val_mean_absolute_percentage_error: 31.8950\n",
      "Epoch 17/100\n",
      "1231/1231 [==============================] - 119s 96ms/step - loss: 1066.0100 - mean_absolute_error: 23.2482 - root_mean_squared_error: 32.6498 - mean_absolute_percentage_error: 36.1679 - val_loss: 857.5435 - val_mean_absolute_error: 21.4248 - val_root_mean_squared_error: 29.2838 - val_mean_absolute_percentage_error: 33.3992\n",
      "Epoch 18/100\n",
      "1231/1231 [==============================] - 120s 98ms/step - loss: 967.5513 - mean_absolute_error: 22.1746 - root_mean_squared_error: 31.1055 - mean_absolute_percentage_error: 36.2747 - val_loss: 793.2050 - val_mean_absolute_error: 20.6100 - val_root_mean_squared_error: 28.1639 - val_mean_absolute_percentage_error: 33.6994\n",
      "Epoch 19/100\n",
      "1231/1231 [==============================] - 119s 97ms/step - loss: 908.3586 - mean_absolute_error: 21.4003 - root_mean_squared_error: 30.1390 - mean_absolute_percentage_error: 35.4227 - val_loss: 749.8748 - val_mean_absolute_error: 19.8689 - val_root_mean_squared_error: 27.3838 - val_mean_absolute_percentage_error: 32.7258\n",
      "Epoch 20/100\n",
      "1231/1231 [==============================] - 122s 99ms/step - loss: 864.3213 - mean_absolute_error: 20.7363 - root_mean_squared_error: 29.3993 - mean_absolute_percentage_error: 34.2327 - val_loss: 707.0043 - val_mean_absolute_error: 19.1803 - val_root_mean_squared_error: 26.5896 - val_mean_absolute_percentage_error: 31.4413\n",
      "Epoch 21/100\n",
      "1231/1231 [==============================] - 119s 96ms/step - loss: 826.0278 - mean_absolute_error: 20.1836 - root_mean_squared_error: 28.7407 - mean_absolute_percentage_error: 33.4200 - val_loss: 678.5511 - val_mean_absolute_error: 18.7246 - val_root_mean_squared_error: 26.0490 - val_mean_absolute_percentage_error: 31.9664\n",
      "Epoch 22/100\n",
      "1231/1231 [==============================] - 119s 96ms/step - loss: 796.2474 - mean_absolute_error: 19.7510 - root_mean_squared_error: 28.2178 - mean_absolute_percentage_error: 32.6006 - val_loss: 650.0295 - val_mean_absolute_error: 18.1927 - val_root_mean_squared_error: 25.4957 - val_mean_absolute_percentage_error: 30.0902.1000 - mea - ETA: 10s - los\n",
      "Epoch 23/100\n",
      "1231/1231 [==============================] - 118s 96ms/step - loss: 775.6721 - mean_absolute_error: 19.4525 - root_mean_squared_error: 27.8509 - mean_absolute_percentage_error: 32.0936 - val_loss: 641.5929 - val_mean_absolute_error: 18.0342 - val_root_mean_squared_error: 25.3297 - val_mean_absolute_percentage_error: 29.1511\n",
      "Epoch 24/100\n",
      "1231/1231 [==============================] - 120s 98ms/step - loss: 754.8954 - mean_absolute_error: 19.1705 - root_mean_squared_error: 27.4754 - mean_absolute_percentage_error: 31.6648 - val_loss: 626.8644 - val_mean_absolute_error: 17.8125 - val_root_mean_squared_error: 25.0373 - val_mean_absolute_percentage_error: 28.9507\n",
      "Epoch 25/100\n"
     ]
    },
    {
     "name": "stdout",
     "output_type": "stream",
     "text": [
      "1231/1231 [==============================] - 121s 98ms/step - loss: 740.8292 - mean_absolute_error: 18.9930 - root_mean_squared_error: 27.2182 - mean_absolute_percentage_error: 31.2722 - val_loss: 621.6444 - val_mean_absolute_error: 17.6806 - val_root_mean_squared_error: 24.9328 - val_mean_absolute_percentage_error: 28.2794\n",
      "Epoch 26/100\n",
      "1231/1231 [==============================] - 120s 97ms/step - loss: 727.5877 - mean_absolute_error: 18.8062 - root_mean_squared_error: 26.9738 - mean_absolute_percentage_error: 30.8389 - val_loss: 607.6261 - val_mean_absolute_error: 17.4598 - val_root_mean_squared_error: 24.6501 - val_mean_absolute_percentage_error: 28.9727\n",
      "Epoch 27/100\n",
      "1231/1231 [==============================] - 118s 96ms/step - loss: 716.8943 - mean_absolute_error: 18.6724 - root_mean_squared_error: 26.7749 - mean_absolute_percentage_error: 30.5933 - val_loss: 600.8387 - val_mean_absolute_error: 17.3859 - val_root_mean_squared_error: 24.5120 - val_mean_absolute_percentage_error: 28.9578\n",
      "Epoch 28/100\n",
      "1231/1231 [==============================] - 120s 98ms/step - loss: 702.3130 - mean_absolute_error: 18.5079 - root_mean_squared_error: 26.5012 - mean_absolute_percentage_error: 30.3324 - val_loss: 600.6115 - val_mean_absolute_error: 17.3412 - val_root_mean_squared_error: 24.5074 - val_mean_absolute_percentage_error: 27.6231\n",
      "Epoch 29/100\n",
      "1231/1231 [==============================] - 120s 98ms/step - loss: 690.1013 - mean_absolute_error: 18.3584 - root_mean_squared_error: 26.2698 - mean_absolute_percentage_error: 30.0802 - val_loss: 601.4095 - val_mean_absolute_error: 17.3776 - val_root_mean_squared_error: 24.5237 - val_mean_absolute_percentage_error: 26.7675\n",
      "Epoch 30/100\n",
      "1231/1231 [==============================] - 123s 100ms/step - loss: 680.7795 - mean_absolute_error: 18.2530 - root_mean_squared_error: 26.0917 - mean_absolute_percentage_error: 29.7982 - val_loss: 591.8167 - val_mean_absolute_error: 17.2509 - val_root_mean_squared_error: 24.3273 - val_mean_absolute_percentage_error: 27.0183\n",
      "Epoch 31/100\n",
      "1231/1231 [==============================] - 120s 98ms/step - loss: 670.8517 - mean_absolute_error: 18.1272 - root_mean_squared_error: 25.9008 - mean_absolute_percentage_error: 29.5377 - val_loss: 587.1180 - val_mean_absolute_error: 17.1448 - val_root_mean_squared_error: 24.2305 - val_mean_absolute_percentage_error: 27.7716\n",
      "Epoch 32/100\n",
      "1231/1231 [==============================] - 119s 96ms/step - loss: 660.7217 - mean_absolute_error: 18.0045 - root_mean_squared_error: 25.7045 - mean_absolute_percentage_error: 29.2422 - val_loss: 577.3814 - val_mean_absolute_error: 17.0568 - val_root_mean_squared_error: 24.0288 - val_mean_absolute_percentage_error: 29.0917\n",
      "Epoch 33/100\n",
      "1231/1231 [==============================] - 119s 97ms/step - loss: 651.6097 - mean_absolute_error: 17.9007 - root_mean_squared_error: 25.5267 - mean_absolute_percentage_error: 29.0613 - val_loss: 575.6577 - val_mean_absolute_error: 16.9359 - val_root_mean_squared_error: 23.9929 - val_mean_absolute_percentage_error: 26.3138\n",
      "Epoch 34/100\n",
      "1231/1231 [==============================] - 118s 96ms/step - loss: 642.5396 - mean_absolute_error: 17.7700 - root_mean_squared_error: 25.3484 - mean_absolute_percentage_error: 28.6554 - val_loss: 569.2197 - val_mean_absolute_error: 16.8526 - val_root_mean_squared_error: 23.8583 - val_mean_absolute_percentage_error: 25.7716\n",
      "Epoch 35/100\n",
      "1231/1231 [==============================] - 120s 97ms/step - loss: 633.2310 - mean_absolute_error: 17.6478 - root_mean_squared_error: 25.1641 - mean_absolute_percentage_error: 28.3550 - val_loss: 562.3090 - val_mean_absolute_error: 16.7212 - val_root_mean_squared_error: 23.7131 - val_mean_absolute_percentage_error: 25.7232\n",
      "Epoch 36/100\n",
      "1231/1231 [==============================] - 120s 97ms/step - loss: 625.6589 - mean_absolute_error: 17.5692 - root_mean_squared_error: 25.0132 - mean_absolute_percentage_error: 28.1321 - val_loss: 563.6308 - val_mean_absolute_error: 16.7327 - val_root_mean_squared_error: 23.7409 - val_mean_absolute_percentage_error: 25.7762\n",
      "Epoch 37/100\n",
      "1231/1231 [==============================] - 120s 97ms/step - loss: 616.1408 - mean_absolute_error: 17.4491 - root_mean_squared_error: 24.8222 - mean_absolute_percentage_error: 28.1356 - val_loss: 562.8066 - val_mean_absolute_error: 16.7405 - val_root_mean_squared_error: 23.7235 - val_mean_absolute_percentage_error: 26.3365\n",
      "Epoch 38/100\n",
      "1231/1231 [==============================] - 119s 96ms/step - loss: 609.3242 - mean_absolute_error: 17.3551 - root_mean_squared_error: 24.6845 - mean_absolute_percentage_error: 27.7789 - val_loss: 557.2894 - val_mean_absolute_error: 16.5842 - val_root_mean_squared_error: 23.6070 - val_mean_absolute_percentage_error: 25.4411\n",
      "Epoch 39/100\n",
      "1231/1231 [==============================] - 121s 98ms/step - loss: 601.2570 - mean_absolute_error: 17.2451 - root_mean_squared_error: 24.5205 - mean_absolute_percentage_error: 27.4735 - val_loss: 553.0726 - val_mean_absolute_error: 16.6316 - val_root_mean_squared_error: 23.5175 - val_mean_absolute_percentage_error: 27.6239\n",
      "Epoch 40/100\n",
      "1231/1231 [==============================] - 122s 99ms/step - loss: 594.5618 - mean_absolute_error: 17.1594 - root_mean_squared_error: 24.3836 - mean_absolute_percentage_error: 27.3215 - val_loss: 554.0630 - val_mean_absolute_error: 16.6803 - val_root_mean_squared_error: 23.5385 - val_mean_absolute_percentage_error: 28.6387\n",
      "Epoch 41/100\n",
      "1231/1231 [==============================] - 120s 97ms/step - loss: 588.5944 - mean_absolute_error: 17.0900 - root_mean_squared_error: 24.2610 - mean_absolute_percentage_error: 27.2458 - val_loss: 549.7418 - val_mean_absolute_error: 16.4817 - val_root_mean_squared_error: 23.4466 - val_mean_absolute_percentage_error: 25.3347\n",
      "Epoch 42/100\n",
      "1231/1231 [==============================] - 121s 98ms/step - loss: 582.1019 - mean_absolute_error: 16.9975 - root_mean_squared_error: 24.1268 - mean_absolute_percentage_error: 27.0248 - val_loss: 543.5661 - val_mean_absolute_error: 16.3853 - val_root_mean_squared_error: 23.3145 - val_mean_absolute_percentage_error: 24.9199\n",
      "Epoch 43/100\n",
      "1231/1231 [==============================] - 121s 98ms/step - loss: 576.6307 - mean_absolute_error: 16.9328 - root_mean_squared_error: 24.0131 - mean_absolute_percentage_error: 26.8329 - val_loss: 543.4930 - val_mean_absolute_error: 16.3874 - val_root_mean_squared_error: 23.3129 - val_mean_absolute_percentage_error: 23.9648\n",
      "Epoch 44/100\n",
      "1231/1231 [==============================] - 120s 98ms/step - loss: 570.5283 - mean_absolute_error: 16.8389 - root_mean_squared_error: 23.8857 - mean_absolute_percentage_error: 26.5880 - val_loss: 548.5334 - val_mean_absolute_error: 16.4983 - val_root_mean_squared_error: 23.4208 - val_mean_absolute_percentage_error: 23.7665\n",
      "Epoch 45/100\n",
      "1231/1231 [==============================] - 125s 102ms/step - loss: 565.9421 - mean_absolute_error: 16.7683 - root_mean_squared_error: 23.7895 - mean_absolute_percentage_error: 26.4870 - val_loss: 537.8904 - val_mean_absolute_error: 16.3688 - val_root_mean_squared_error: 23.1925 - val_mean_absolute_percentage_error: 25.9744\n",
      "Epoch 46/100\n",
      "1231/1231 [==============================] - 121s 98ms/step - loss: 561.2433 - mean_absolute_error: 16.7263 - root_mean_squared_error: 23.6906 - mean_absolute_percentage_error: 26.4437 - val_loss: 536.6368 - val_mean_absolute_error: 16.2965 - val_root_mean_squared_error: 23.1654 - val_mean_absolute_percentage_error: 25.0785\n",
      "Epoch 47/100\n",
      "1231/1231 [==============================] - 121s 99ms/step - loss: 556.0349 - mean_absolute_error: 16.6504 - root_mean_squared_error: 23.5804 - mean_absolute_percentage_error: 26.3169 - val_loss: 538.0757 - val_mean_absolute_error: 16.3003 - val_root_mean_squared_error: 23.1965 - val_mean_absolute_percentage_error: 24.0399\n",
      "Epoch 48/100\n",
      "1231/1231 [==============================] - 123s 100ms/step - loss: 552.1051 - mean_absolute_error: 16.5911 - root_mean_squared_error: 23.4969 - mean_absolute_percentage_error: 26.1371 - val_loss: 534.5288 - val_mean_absolute_error: 16.3243 - val_root_mean_squared_error: 23.1199 - val_mean_absolute_percentage_error: 26.1046\n",
      "Epoch 49/100\n",
      "1231/1231 [==============================] - 121s 98ms/step - loss: 548.6759 - mean_absolute_error: 16.5461 - root_mean_squared_error: 23.4238 - mean_absolute_percentage_error: 26.0908 - val_loss: 529.1877 - val_mean_absolute_error: 16.1606 - val_root_mean_squared_error: 23.0041 - val_mean_absolute_percentage_error: 23.9107\n",
      "Epoch 50/100\n",
      "1231/1231 [==============================] - 123s 100ms/step - loss: 543.9758 - mean_absolute_error: 16.4728 - root_mean_squared_error: 23.3233 - mean_absolute_percentage_error: 25.8965 - val_loss: 530.0987 - val_mean_absolute_error: 16.1840 - val_root_mean_squared_error: 23.0239 - val_mean_absolute_percentage_error: 23.5756\n",
      "Epoch 51/100\n",
      "1231/1231 [==============================] - 123s 100ms/step - loss: 540.2552 - mean_absolute_error: 16.4159 - root_mean_squared_error: 23.2434 - mean_absolute_percentage_error: 25.8465 - val_loss: 535.0128 - val_mean_absolute_error: 16.3027 - val_root_mean_squared_error: 23.1303 - val_mean_absolute_percentage_error: 24.9339\n",
      "Epoch 52/100\n",
      "1231/1231 [==============================] - 123s 100ms/step - loss: 536.5836 - mean_absolute_error: 16.3729 - root_mean_squared_error: 23.1643 - mean_absolute_percentage_error: 25.7579 - val_loss: 525.4793 - val_mean_absolute_error: 16.0948 - val_root_mean_squared_error: 22.9233 - val_mean_absolute_percentage_error: 24.1243\n",
      "Epoch 53/100\n",
      "1231/1231 [==============================] - 124s 101ms/step - loss: 533.2482 - mean_absolute_error: 16.3153 - root_mean_squared_error: 23.0922 - mean_absolute_percentage_error: 25.6516 - val_loss: 530.2049 - val_mean_absolute_error: 16.1482 - val_root_mean_squared_error: 23.0262 - val_mean_absolute_percentage_error: 23.0829\n",
      "Epoch 54/100\n",
      "1231/1231 [==============================] - 123s 100ms/step - loss: 530.6116 - mean_absolute_error: 16.2779 - root_mean_squared_error: 23.0350 - mean_absolute_percentage_error: 25.6188 - val_loss: 524.9619 - val_mean_absolute_error: 16.0913 - val_root_mean_squared_error: 22.9121 - val_mean_absolute_percentage_error: 22.9728\n",
      "Epoch 55/100\n",
      "1231/1231 [==============================] - 123s 100ms/step - loss: 526.7624 - mean_absolute_error: 16.2301 - root_mean_squared_error: 22.9513 - mean_absolute_percentage_error: 25.4982 - val_loss: 526.1049 - val_mean_absolute_error: 16.2143 - val_root_mean_squared_error: 22.9370 - val_mean_absolute_percentage_error: 26.2610\n",
      "Epoch 56/100\n",
      "1231/1231 [==============================] - 85s 69ms/step - loss: 523.8356 - mean_absolute_error: 16.1973 - root_mean_squared_error: 22.8874 - mean_absolute_percentage_error: 25.5161 - val_loss: 527.7997 - val_mean_absolute_error: 16.2233 - val_root_mean_squared_error: 22.9739 - val_mean_absolute_percentage_error: 24.9309\n",
      "Epoch 57/100\n",
      "1231/1231 [==============================] - 116s 94ms/step - loss: 521.3539 - mean_absolute_error: 16.1557 - root_mean_squared_error: 22.8332 - mean_absolute_percentage_error: 25.4485 - val_loss: 523.1368 - val_mean_absolute_error: 16.1809 - val_root_mean_squared_error: 22.8722 - val_mean_absolute_percentage_error: 25.5419\n",
      "Epoch 58/100\n",
      "1231/1231 [==============================] - 125s 101ms/step - loss: 517.8091 - mean_absolute_error: 16.1034 - root_mean_squared_error: 22.7554 - mean_absolute_percentage_error: 25.3985 - val_loss: 538.6541 - val_mean_absolute_error: 16.4121 - val_root_mean_squared_error: 23.2089 - val_mean_absolute_percentage_error: 22.1342\n",
      "Epoch 59/100\n",
      "1231/1231 [==============================] - 123s 100ms/step - loss: 515.2592 - mean_absolute_error: 16.0777 - root_mean_squared_error: 22.6993 - mean_absolute_percentage_error: 25.3768 - val_loss: 519.0020 - val_mean_absolute_error: 15.9871 - val_root_mean_squared_error: 22.7816 - val_mean_absolute_percentage_error: 23.1704\n",
      "Epoch 60/100\n",
      "1231/1231 [==============================] - 122s 99ms/step - loss: 511.7596 - mean_absolute_error: 16.0113 - root_mean_squared_error: 22.6221 - mean_absolute_percentage_error: 25.2583 - val_loss: 520.0283 - val_mean_absolute_error: 16.0018 - val_root_mean_squared_error: 22.8041 - val_mean_absolute_percentage_error: 23.1057\n",
      "Epoch 61/100\n",
      "1231/1231 [==============================] - 124s 101ms/step - loss: 509.5659 - mean_absolute_error: 15.9816 - root_mean_squared_error: 22.5736 - mean_absolute_percentage_error: 25.2542 - val_loss: 520.1058 - val_mean_absolute_error: 16.2020 - val_root_mean_squared_error: 22.8058 - val_mean_absolute_percentage_error: 28.6722\n",
      "Epoch 62/100\n",
      "1231/1231 [==============================] - 122s 99ms/step - loss: 506.7440 - mean_absolute_error: 15.9243 - root_mean_squared_error: 22.5110 - mean_absolute_percentage_error: 25.1198 - val_loss: 515.1106 - val_mean_absolute_error: 15.9982 - val_root_mean_squared_error: 22.6960 - val_mean_absolute_percentage_error: 25.3165\n",
      "Epoch 63/100\n",
      "1231/1231 [==============================] - 124s 101ms/step - loss: 503.7180 - mean_absolute_error: 15.8957 - root_mean_squared_error: 22.4437 - mean_absolute_percentage_error: 25.0635 - val_loss: 514.9992 - val_mean_absolute_error: 15.9374 - val_root_mean_squared_error: 22.6936 - val_mean_absolute_percentage_error: 23.0941\n",
      "Epoch 64/100\n",
      "1231/1231 [==============================] - 124s 100ms/step - loss: 501.5623 - mean_absolute_error: 15.8503 - root_mean_squared_error: 22.3956 - mean_absolute_percentage_error: 24.9323 - val_loss: 517.5372 - val_mean_absolute_error: 16.0830 - val_root_mean_squared_error: 22.7494 - val_mean_absolute_percentage_error: 27.0956\n",
      "Epoch 65/100\n",
      "1231/1231 [==============================] - 124s 101ms/step - loss: 499.5422 - mean_absolute_error: 15.8222 - root_mean_squared_error: 22.3504 - mean_absolute_percentage_error: 24.9656 - val_loss: 511.9206 - val_mean_absolute_error: 15.8667 - val_root_mean_squared_error: 22.6257 - val_mean_absolute_percentage_error: 22.8183\n",
      "Epoch 66/100\n",
      "1231/1231 [==============================] - 125s 102ms/step - loss: 496.7262 - mean_absolute_error: 15.7712 - root_mean_squared_error: 22.2874 - mean_absolute_percentage_error: 24.8758 - val_loss: 514.6625 - val_mean_absolute_error: 15.9839 - val_root_mean_squared_error: 22.6862 - val_mean_absolute_percentage_error: 25.2170\n",
      "Epoch 67/100\n",
      "1231/1231 [==============================] - 123s 100ms/step - loss: 494.4135 - mean_absolute_error: 15.7318 - root_mean_squared_error: 22.2354 - mean_absolute_percentage_error: 24.7531 - val_loss: 513.2886 - val_mean_absolute_error: 15.9689 - val_root_mean_squared_error: 22.6559 - val_mean_absolute_percentage_error: 25.5312\n",
      "Epoch 68/100\n",
      "1231/1231 [==============================] - 123s 100ms/step - loss: 492.9198 - mean_absolute_error: 15.7051 - root_mean_squared_error: 22.2018 - mean_absolute_percentage_error: 24.7151 - val_loss: 511.0229 - val_mean_absolute_error: 15.8641 - val_root_mean_squared_error: 22.6058 - val_mean_absolute_percentage_error: 23.6054\n",
      "Epoch 69/100\n",
      "1231/1231 [==============================] - 125s 102ms/step - loss: 490.0957 - mean_absolute_error: 15.6691 - root_mean_squared_error: 22.1381 - mean_absolute_percentage_error: 24.7311 - val_loss: 510.5456 - val_mean_absolute_error: 15.8915 - val_root_mean_squared_error: 22.5953 - val_mean_absolute_percentage_error: 24.0275\n",
      "Epoch 70/100\n",
      "1231/1231 [==============================] - 122s 99ms/step - loss: 488.2773 - mean_absolute_error: 15.6273 - root_mean_squared_error: 22.0970 - mean_absolute_percentage_error: 24.6026 - val_loss: 512.3426 - val_mean_absolute_error: 16.0616 - val_root_mean_squared_error: 22.6350 - val_mean_absolute_percentage_error: 27.8052\n",
      "Epoch 71/100\n",
      "1231/1231 [==============================] - 123s 100ms/step - loss: 486.6715 - mean_absolute_error: 15.6103 - root_mean_squared_error: 22.0606 - mean_absolute_percentage_error: 24.6635 - val_loss: 509.9365 - val_mean_absolute_error: 15.8379 - val_root_mean_squared_error: 22.5818 - val_mean_absolute_percentage_error: 23.4376\n",
      "Epoch 72/100\n"
     ]
    },
    {
     "name": "stdout",
     "output_type": "stream",
     "text": [
      "1231/1231 [==============================] - 125s 101ms/step - loss: 484.8035 - mean_absolute_error: 15.5791 - root_mean_squared_error: 22.0183 - mean_absolute_percentage_error: 24.5123 - val_loss: 512.9542 - val_mean_absolute_error: 16.0047 - val_root_mean_squared_error: 22.6485 - val_mean_absolute_percentage_error: 26.3445\n",
      "Epoch 73/100\n",
      "1231/1231 [==============================] - 124s 101ms/step - loss: 483.1085 - mean_absolute_error: 15.5632 - root_mean_squared_error: 21.9797 - mean_absolute_percentage_error: 24.6401 - val_loss: 509.8329 - val_mean_absolute_error: 15.8205 - val_root_mean_squared_error: 22.5795 - val_mean_absolute_percentage_error: 22.8598\n",
      "Epoch 74/100\n",
      "1231/1231 [==============================] - 121s 98ms/step - loss: 480.9680 - mean_absolute_error: 15.5295 - root_mean_squared_error: 21.9310 - mean_absolute_percentage_error: 24.5515 - val_loss: 521.1891 - val_mean_absolute_error: 16.2858 - val_root_mean_squared_error: 22.8296 - val_mean_absolute_percentage_error: 28.6947\n",
      "Epoch 75/100\n",
      "1231/1231 [==============================] - 123s 100ms/step - loss: 478.3064 - mean_absolute_error: 15.4901 - root_mean_squared_error: 21.8702 - mean_absolute_percentage_error: 24.5321 - val_loss: 511.9753 - val_mean_absolute_error: 15.9963 - val_root_mean_squared_error: 22.6269 - val_mean_absolute_percentage_error: 27.4533\n",
      "Epoch 76/100\n",
      "1231/1231 [==============================] - 124s 100ms/step - loss: 477.4005 - mean_absolute_error: 15.4740 - root_mean_squared_error: 21.8495 - mean_absolute_percentage_error: 24.4905 - val_loss: 509.3878 - val_mean_absolute_error: 15.9752 - val_root_mean_squared_error: 22.5696 - val_mean_absolute_percentage_error: 27.1695\n",
      "Epoch 77/100\n",
      "1231/1231 [==============================] - 122s 99ms/step - loss: 474.6447 - mean_absolute_error: 15.4202 - root_mean_squared_error: 21.7863 - mean_absolute_percentage_error: 24.3569 - val_loss: 511.9642 - val_mean_absolute_error: 15.9421 - val_root_mean_squared_error: 22.6266 - val_mean_absolute_percentage_error: 22.2810\n",
      "Epoch 78/100\n",
      "1231/1231 [==============================] - 124s 100ms/step - loss: 473.0323 - mean_absolute_error: 15.3949 - root_mean_squared_error: 21.7493 - mean_absolute_percentage_error: 24.3414 - val_loss: 511.9044 - val_mean_absolute_error: 15.9369 - val_root_mean_squared_error: 22.6253 - val_mean_absolute_percentage_error: 24.1855\n",
      "Epoch 79/100\n",
      "1231/1231 [==============================] - 124s 101ms/step - loss: 471.7021 - mean_absolute_error: 15.3811 - root_mean_squared_error: 21.7187 - mean_absolute_percentage_error: 24.3709 - val_loss: 510.5809 - val_mean_absolute_error: 15.9417 - val_root_mean_squared_error: 22.5960 - val_mean_absolute_percentage_error: 24.5567: 15.3828 - root_mean_squared_error: 21.7272 - mean_ab\n",
      "Epoch 80/100\n",
      "1231/1231 [==============================] - 125s 101ms/step - loss: 469.2608 - mean_absolute_error: 15.3276 - root_mean_squared_error: 21.6624 - mean_absolute_percentage_error: 24.2124 - val_loss: 520.3964 - val_mean_absolute_error: 16.0754 - val_root_mean_squared_error: 22.8122 - val_mean_absolute_percentage_error: 22.6398\n",
      "Epoch 81/100\n",
      "1231/1231 [==============================] - 124s 101ms/step - loss: 467.1283 - mean_absolute_error: 15.2968 - root_mean_squared_error: 21.6132 - mean_absolute_percentage_error: 24.1786 - val_loss: 507.3792 - val_mean_absolute_error: 15.7945 - val_root_mean_squared_error: 22.5251 - val_mean_absolute_percentage_error: 22.5369\n",
      "Epoch 82/100\n",
      "1231/1231 [==============================] - 123s 100ms/step - loss: 465.7639 - mean_absolute_error: 15.2773 - root_mean_squared_error: 21.5816 - mean_absolute_percentage_error: 24.1758 - val_loss: 508.8158 - val_mean_absolute_error: 15.8523 - val_root_mean_squared_error: 22.5569 - val_mean_absolute_percentage_error: 22.8172\n",
      "Epoch 83/100\n",
      "1231/1231 [==============================] - 124s 101ms/step - loss: 464.4407 - mean_absolute_error: 15.2584 - root_mean_squared_error: 21.5509 - mean_absolute_percentage_error: 24.1716 - val_loss: 509.6594 - val_mean_absolute_error: 15.8989 - val_root_mean_squared_error: 22.5756 - val_mean_absolute_percentage_error: 24.1534\n",
      "Epoch 84/100\n",
      "1231/1231 [==============================] - 124s 101ms/step - loss: 462.6865 - mean_absolute_error: 15.2247 - root_mean_squared_error: 21.5102 - mean_absolute_percentage_error: 24.0360 - val_loss: 518.0295 - val_mean_absolute_error: 16.0989 - val_root_mean_squared_error: 22.7603 - val_mean_absolute_percentage_error: 26.5848\n",
      "Epoch 85/100\n",
      "1231/1231 [==============================] - 122s 99ms/step - loss: 461.3254 - mean_absolute_error: 15.1974 - root_mean_squared_error: 21.4785 - mean_absolute_percentage_error: 24.0146 - val_loss: 512.5966 - val_mean_absolute_error: 15.8321 - val_root_mean_squared_error: 22.6406 - val_mean_absolute_percentage_error: 21.0318\n",
      "Epoch 86/100\n",
      "1231/1231 [==============================] - 122s 99ms/step - loss: 460.3094 - mean_absolute_error: 15.1934 - root_mean_squared_error: 21.4548 - mean_absolute_percentage_error: 24.0098 - val_loss: 505.6186 - val_mean_absolute_error: 15.7743 - val_root_mean_squared_error: 22.4860 - val_mean_absolute_percentage_error: 23.4668\n",
      "Epoch 87/100\n",
      "1231/1231 [==============================] - 122s 99ms/step - loss: 458.5427 - mean_absolute_error: 15.1568 - root_mean_squared_error: 21.4136 - mean_absolute_percentage_error: 23.9678 - val_loss: 509.6714 - val_mean_absolute_error: 15.8372 - val_root_mean_squared_error: 22.5759 - val_mean_absolute_percentage_error: 22.1922\n",
      "Epoch 88/100\n",
      "1231/1231 [==============================] - 122s 99ms/step - loss: 457.2317 - mean_absolute_error: 15.1352 - root_mean_squared_error: 21.3830 - mean_absolute_percentage_error: 24.0088 - val_loss: 513.8044 - val_mean_absolute_error: 15.9142 - val_root_mean_squared_error: 22.6673 - val_mean_absolute_percentage_error: 23.3114\n",
      "Epoch 89/100\n",
      "1231/1231 [==============================] - 121s 99ms/step - loss: 455.7980 - mean_absolute_error: 15.1131 - root_mean_squared_error: 21.3494 - mean_absolute_percentage_error: 23.9140 - val_loss: 504.1580 - val_mean_absolute_error: 15.7493 - val_root_mean_squared_error: 22.4535 - val_mean_absolute_percentage_error: 22.2061\n",
      "Epoch 90/100\n",
      "1231/1231 [==============================] - 123s 100ms/step - loss: 454.0143 - mean_absolute_error: 15.0877 - root_mean_squared_error: 21.3076 - mean_absolute_percentage_error: 23.8935 - val_loss: 507.1351 - val_mean_absolute_error: 15.8569 - val_root_mean_squared_error: 22.5197 - val_mean_absolute_percentage_error: 24.3408\n",
      "Epoch 91/100\n",
      "1231/1231 [==============================] - 122s 99ms/step - loss: 452.8758 - mean_absolute_error: 15.0702 - root_mean_squared_error: 21.2809 - mean_absolute_percentage_error: 23.9240 - val_loss: 512.1059 - val_mean_absolute_error: 16.0011 - val_root_mean_squared_error: 22.6298 - val_mean_absolute_percentage_error: 26.2874\n",
      "Epoch 92/100\n",
      "1231/1231 [==============================] - 122s 99ms/step - loss: 450.8741 - mean_absolute_error: 15.0341 - root_mean_squared_error: 21.2338 - mean_absolute_percentage_error: 23.7984 - val_loss: 511.8674 - val_mean_absolute_error: 15.8920 - val_root_mean_squared_error: 22.6245 - val_mean_absolute_percentage_error: 22.2385\n",
      "Epoch 93/100\n",
      "1231/1231 [==============================] - 125s 102ms/step - loss: 449.6619 - mean_absolute_error: 15.0200 - root_mean_squared_error: 21.2052 - mean_absolute_percentage_error: 23.8701 - val_loss: 509.5859 - val_mean_absolute_error: 15.8671 - val_root_mean_squared_error: 22.5740 - val_mean_absolute_percentage_error: 24.2489\n",
      "Epoch 94/100\n",
      "1231/1231 [==============================] - 56s 45ms/step - loss: 449.1519 - mean_absolute_error: 15.0065 - root_mean_squared_error: 21.1932 - mean_absolute_percentage_error: 23.8202 - val_loss: 529.1664 - val_mean_absolute_error: 16.5775 - val_root_mean_squared_error: 23.0036 - val_mean_absolute_percentage_error: 33.4785\n",
      "Epoch 95/100\n",
      "1231/1231 [==============================] - 38s 31ms/step - loss: 447.2023 - mean_absolute_error: 14.9748 - root_mean_squared_error: 21.1472 - mean_absolute_percentage_error: 23.7267 - val_loss: 515.2593 - val_mean_absolute_error: 15.9892 - val_root_mean_squared_error: 22.6993 - val_mean_absolute_percentage_error: 23.2258\n",
      "Epoch 96/100\n"
     ]
    },
    {
     "name": "stdout",
     "output_type": "stream",
     "text": [
      "1231/1231 [==============================] - 84s 68ms/step - loss: 445.8452 - mean_absolute_error: 14.9580 - root_mean_squared_error: 21.1150 - mean_absolute_percentage_error: 23.7787 - val_loss: 510.8584 - val_mean_absolute_error: 15.8945 - val_root_mean_squared_error: 22.6022 - val_mean_absolute_percentage_error: 24.4358\n",
      "Epoch 97/100\n",
      "1231/1231 [==============================] - 89s 73ms/step - loss: 445.2450 - mean_absolute_error: 14.9556 - root_mean_squared_error: 21.1008 - mean_absolute_percentage_error: 23.7930 - val_loss: 515.4670 - val_mean_absolute_error: 15.9430 - val_root_mean_squared_error: 22.7039 - val_mean_absolute_percentage_error: 21.2421\n",
      "Epoch 98/100\n",
      "1231/1231 [==============================] - 88s 72ms/step - loss: 443.7401 - mean_absolute_error: 14.9203 - root_mean_squared_error: 21.0651 - mean_absolute_percentage_error: 23.7336 - val_loss: 507.1872 - val_mean_absolute_error: 15.7597 - val_root_mean_squared_error: 22.5208 - val_mean_absolute_percentage_error: 21.8935\n",
      "Epoch 99/100\n",
      "1231/1231 [==============================] - 91s 74ms/step - loss: 441.4348 - mean_absolute_error: 14.8648 - root_mean_squared_error: 21.0104 - mean_absolute_percentage_error: 23.5979 - val_loss: 511.2603 - val_mean_absolute_error: 15.8472 - val_root_mean_squared_error: 22.6111 - val_mean_absolute_percentage_error: 21.9507\n",
      "Epoch 100/100\n",
      "1231/1231 [==============================] - 90s 73ms/step - loss: 440.7073 - mean_absolute_error: 14.8660 - root_mean_squared_error: 20.9930 - mean_absolute_percentage_error: 23.5893 - val_loss: 506.6454 - val_mean_absolute_error: 15.7471 - val_root_mean_squared_error: 22.5088 - val_mean_absolute_percentage_error: 22.0917\n"
     ]
    },
    {
     "data": {
      "text/plain": [
       "<keras.callbacks.History at 0x2498a57da00>"
      ]
     },
     "execution_count": 99,
     "metadata": {},
     "output_type": "execute_result"
    }
   ],
   "source": [
    "model30.fit((Wt30,Xt30), yt30, validation_split = val_percent,\n",
    "            epochs = 100, \n",
    "            verbose = 1)"
   ]
  },
  {
   "cell_type": "code",
   "execution_count": 100,
   "metadata": {},
   "outputs": [],
   "source": [
    "metrics30 = pd.DataFrame(model30.history.history)"
   ]
  },
  {
   "cell_type": "code",
   "execution_count": 101,
   "metadata": {},
   "outputs": [],
   "source": [
    "# fig = plt.figure(figsize=(6,4))\n",
    "\n",
    "# # Add set of axes to figure\n",
    "# axes = fig.add_axes([0, 0, 1, 1]) \n",
    "# axes2 = fig.add_axes([0.3, 0.35, 0.5, 0.5]) # Smaller figure\n",
    "# axes.plot(metrics30[['loss','val_loss']], label=['train_loss','val_loss'], lw=4)\n",
    "# axes.set_ylim(0,4000)\n",
    "\n",
    "# axes2.plot(metrics30[['loss','val_loss']], lw=4)\n",
    "# axes2.set_xlim(0,20)\n",
    "# axes2.set_ylim(500,1500)\n",
    "# # plt.xticks(visible=False)\n",
    "# plt.yticks(visible=False)\n",
    "\n",
    "# axes.set_xlabel('Epoch')\n",
    "# axes.set_ylabel('Loss')\n",
    "# axes.grid()\n",
    "# axes2.grid()\n",
    "\n",
    "# mark_inset(axes, axes2, loc1=2, loc2=4, fc=\"0.9\", ec=\"0.1\", ls='--')\n",
    "# axes.yaxis.set_major_formatter(formatter)"
   ]
  },
  {
   "cell_type": "code",
   "execution_count": 102,
   "metadata": {},
   "outputs": [
    {
     "name": "stderr",
     "output_type": "stream",
     "text": [
      "WARNING:absl:Function `_wrapped_model` contains input name(s) WideInput, DeepInput with unsupported characters which will be renamed to wideinput, deepinput in the SavedModel.\n",
      "WARNING:absl:Found untraced functions such as lstm_cell_11_layer_call_and_return_conditional_losses, lstm_cell_11_layer_call_fn, lstm_cell_9_layer_call_and_return_conditional_losses, lstm_cell_9_layer_call_fn, lstm_cell_10_layer_call_and_return_conditional_losses while saving (showing 5 of 15). These functions will not be directly callable after loading.\n"
     ]
    },
    {
     "name": "stdout",
     "output_type": "stream",
     "text": [
      "INFO:tensorflow:Assets written to: my_dir/10a-30\\assets\n"
     ]
    },
    {
     "name": "stderr",
     "output_type": "stream",
     "text": [
      "INFO:tensorflow:Assets written to: my_dir/10a-30\\assets\n"
     ]
    }
   ],
   "source": [
    "model30.save(\"my_dir/10a-30\")"
   ]
  },
  {
   "cell_type": "code",
   "execution_count": 103,
   "metadata": {},
   "outputs": [],
   "source": [
    "model30 = keras.models.load_model(\"my_dir/10a-30\")"
   ]
  },
  {
   "cell_type": "code",
   "execution_count": 104,
   "metadata": {},
   "outputs": [
    {
     "data": {
      "text/plain": [
       "array([[ 29.635733 ,  17.682741 ,  14.332037 ,  61.468796 ,  29.605316 ,\n",
       "          4.6176314],\n",
       "       [ 29.951576 ,  17.957096 ,  14.0356455,  61.29625  ,  29.56679  ,\n",
       "          4.606252 ],\n",
       "       [ 29.29914  ,  17.14487  ,  14.910206 ,  61.87854  ,  29.828459 ,\n",
       "          4.5007396],\n",
       "       ...,\n",
       "       [ 46.76372  ,  50.088966 ,  63.921627 , 122.95365  ,  54.33687  ,\n",
       "         16.995619 ],\n",
       "       [ 43.581284 ,  43.71205  ,  55.880238 , 112.49877  ,  49.427696 ,\n",
       "         12.282961 ],\n",
       "       [ 41.052296 ,  39.33162  ,  49.738503 , 103.01527  ,  46.070705 ,\n",
       "         10.48734  ]], dtype=float32)"
      ]
     },
     "execution_count": 104,
     "metadata": {},
     "output_type": "execute_result"
    }
   ],
   "source": [
    "model30.predict((Wv30,Xv30))"
   ]
  },
  {
   "cell_type": "markdown",
   "metadata": {},
   "source": [
    "### Evaluation on inverse_transform"
   ]
  },
  {
   "cell_type": "code",
   "execution_count": null,
   "metadata": {},
   "outputs": [],
   "source": [
    "test_predictions30 = model30.predict((Wv30,Xv30))\n",
    "\n",
    "\n",
    "MSE30 = mean_squared_error(yv30,test_predictions30)\n",
    "\n",
    "MAE30 = mean_absolute_error(yv30,test_predictions30)\n",
    "\n",
    "RMSE30 = np.sqrt(MSE30)\n",
    "\n",
    "MAPE30 = mean_absolute_percentage_error(yv30,test_predictions30)*100\n",
    "\n",
    "eval30 = [MSE30, MAE30, RMSE30, MAPE30]\n",
    "print(eval30)"
   ]
  },
  {
   "cell_type": "code",
   "execution_count": null,
   "metadata": {},
   "outputs": [],
   "source": [
    "GEH, count = ga.GEH(np.asarray(yv30), np.asarray(test_predictions30))\n",
    "GEH30 = count/GEH.size\n",
    "print(GEH30)"
   ]
  },
  {
   "cell_type": "markdown",
   "metadata": {},
   "source": [
    "# 60 mins ahead"
   ]
  },
  {
   "cell_type": "code",
   "execution_count": 107,
   "metadata": {},
   "outputs": [],
   "source": [
    "def build_model_60(hp):\n",
    "    # Inputs\n",
    "    channel_Wide = keras.layers.Input(shape=Wt60.shape[1:], name=\"WideInput\")\n",
    "    channel_Deep = keras.layers.Input(shape=Xt60.shape[1:], name=\"DeepInput\")\n",
    "    units = hp.Int(\"units\", min_value=1, max_value=100, step=1)\n",
    "    \n",
    "    \n",
    "    # Wide Model\n",
    "    flatten_60w = keras.layers.TimeDistributed(keras.layers.Flatten())(channel_Wide)\n",
    "    Bi_60 = keras.layers.Bidirectional(\n",
    "        keras.layers.LSTM(units=units, return_sequences=True),\n",
    "        merge_mode=\"ave\"\n",
    "    )(flatten_60w)\n",
    "    \n",
    "    \n",
    "    # Deep Model\n",
    "    # CNN \n",
    "    CNN_60 = keras.layers.TimeDistributed(\n",
    "        keras.layers.Conv2D(filters=hp.Int(\"filters\", min_value=32, max_value=512, step=32),\n",
    "                            kernel_size=hp.Choice(\"kernel_size\", [2, 3]), activation='relu'))(channel_Deep)\n",
    "    flatten_60 = keras.layers.TimeDistributed(keras.layers.Flatten())(CNN_60)\n",
    "    # LSTM          \n",
    "    LSTM_60 = keras.layers.LSTM(units=units, return_sequences=True)(flatten_60)\n",
    "\n",
    "    \n",
    "    # Concatenation \n",
    "    concat = keras.layers.concatenate([Bi_60, LSTM_60], axis=1)\n",
    "\n",
    "    # Attention\n",
    "    Att_60 = SeqSelfAttention(attention_activation='sigmoid')(concat)\n",
    "    merge = keras.layers.Flatten()(concat)\n",
    "\n",
    "    \n",
    "    # Output\n",
    "    output = keras.layers.Dense(n_features, name= \"output\")(merge)\n",
    "    \n",
    "    # Model\n",
    "    model_60 = keras.Model(inputs=[channel_Wide,channel_Deep], outputs=[output])\n",
    "\n",
    "    # Compile\n",
    "    model_60.compile(optimizer=keras.optimizers.Adam(hp.Choice(\"learning_rate\", [1e-2, 1e-3, 1e-4])), \n",
    "        loss=\"mse\", metrics=['MeanAbsoluteError','RootMeanSquaredError','MeanAbsolutePercentageError'])\n",
    "                    \n",
    "    return model_60"
   ]
  },
  {
   "cell_type": "code",
   "execution_count": 108,
   "metadata": {},
   "outputs": [],
   "source": [
    "tuner60 = RandomSearch(\n",
    "    build_model_60,\n",
    "    objective=\"val_loss\",\n",
    "    max_trials=10,\n",
    "    executions_per_trial=2,\n",
    "    overwrite=False,\n",
    "    directory=os.path.normpath('C:/RunsOak'),\n",
    "    project_name=\"10a-60\",\n",
    ")"
   ]
  },
  {
   "cell_type": "code",
   "execution_count": 109,
   "metadata": {},
   "outputs": [
    {
     "name": "stdout",
     "output_type": "stream",
     "text": [
      "Search space summary\n",
      "Default search space size: 4\n",
      "units (Int)\n",
      "{'default': None, 'conditions': [], 'min_value': 1, 'max_value': 100, 'step': 1, 'sampling': 'linear'}\n",
      "filters (Int)\n",
      "{'default': None, 'conditions': [], 'min_value': 32, 'max_value': 512, 'step': 32, 'sampling': 'linear'}\n",
      "kernel_size (Choice)\n",
      "{'default': 2, 'conditions': [], 'values': [2, 3], 'ordered': True}\n",
      "learning_rate (Choice)\n",
      "{'default': 0.01, 'conditions': [], 'values': [0.01, 0.001, 0.0001], 'ordered': True}\n"
     ]
    }
   ],
   "source": [
    "tuner60.search_space_summary()"
   ]
  },
  {
   "cell_type": "code",
   "execution_count": 110,
   "metadata": {},
   "outputs": [
    {
     "name": "stdout",
     "output_type": "stream",
     "text": [
      "Trial 10 Complete [04h 13m 45s]\n",
      "val_loss: 773.4366455078125\n",
      "\n",
      "Best val_loss So Far: 723.2718811035156\n",
      "Total elapsed time: 1d 22h 35m 08s\n",
      "INFO:tensorflow:Oracle triggered exit\n"
     ]
    },
    {
     "name": "stderr",
     "output_type": "stream",
     "text": [
      "INFO:tensorflow:Oracle triggered exit\n"
     ]
    }
   ],
   "source": [
    "tuner60.search((Wt60,Xt60), yt60, epochs=200,\n",
    "            validation_split = val_percent,\n",
    "            callbacks=[early_stop],\n",
    "            verbose=2)"
   ]
  },
  {
   "cell_type": "code",
   "execution_count": 111,
   "metadata": {},
   "outputs": [
    {
     "name": "stdout",
     "output_type": "stream",
     "text": [
      "Results summary\n",
      "Results in C:\\RunsOak\\10a-60\n",
      "Showing 1 best trials\n",
      "Objective(name=\"val_loss\", direction=\"min\")\n",
      "\n",
      "Trial 05 summary\n",
      "Hyperparameters:\n",
      "units: 60\n",
      "filters: 512\n",
      "kernel_size: 3\n",
      "learning_rate: 0.001\n",
      "Score: 723.2718811035156\n"
     ]
    }
   ],
   "source": [
    "tuner60.results_summary(1)"
   ]
  },
  {
   "cell_type": "markdown",
   "metadata": {},
   "source": [
    "### Best model"
   ]
  },
  {
   "cell_type": "code",
   "execution_count": 112,
   "metadata": {},
   "outputs": [],
   "source": [
    "best_hp60 = tuner60.get_best_hyperparameters()[0]\n",
    "model60 = tuner60.hypermodel.build(best_hp60)"
   ]
  },
  {
   "cell_type": "code",
   "execution_count": 113,
   "metadata": {},
   "outputs": [
    {
     "data": {
      "text/plain": [
       "['Best_HP/10a-60']"
      ]
     },
     "execution_count": 113,
     "metadata": {},
     "output_type": "execute_result"
    }
   ],
   "source": [
    "scaler_filename = \"Best_HP/10a-60\"\n",
    "joblib.dump(best_hp60, scaler_filename) "
   ]
  },
  {
   "cell_type": "code",
   "execution_count": 114,
   "metadata": {},
   "outputs": [],
   "source": [
    "scaler_filename = \"Best_HP/10a-60\"\n",
    "best_hp60 = joblib.load(scaler_filename) \n",
    "\n",
    "model60 = tuner60.hypermodel.build(best_hp60)"
   ]
  },
  {
   "cell_type": "code",
   "execution_count": 115,
   "metadata": {},
   "outputs": [
    {
     "name": "stdout",
     "output_type": "stream",
     "text": [
      "Model: \"model_2\"\n",
      "__________________________________________________________________________________________________\n",
      "Layer (type)                    Output Shape         Param #     Connected to                     \n",
      "==================================================================================================\n",
      "DeepInput (InputLayer)          [(None, 3, 5, 15, 6) 0                                            \n",
      "__________________________________________________________________________________________________\n",
      "WideInput (InputLayer)          [(None, 3, 3, 6)]    0                                            \n",
      "__________________________________________________________________________________________________\n",
      "time_distributed_7 (TimeDistrib (None, 3, 3, 13, 512 28160       DeepInput[0][0]                  \n",
      "__________________________________________________________________________________________________\n",
      "time_distributed_6 (TimeDistrib (None, 3, 18)        0           WideInput[0][0]                  \n",
      "__________________________________________________________________________________________________\n",
      "time_distributed_8 (TimeDistrib (None, 3, 19968)     0           time_distributed_7[0][0]         \n",
      "__________________________________________________________________________________________________\n",
      "bidirectional_2 (Bidirectional) (None, 3, 60)        37920       time_distributed_6[0][0]         \n",
      "__________________________________________________________________________________________________\n",
      "lstm_5 (LSTM)                   (None, 3, 60)        4806960     time_distributed_8[0][0]         \n",
      "__________________________________________________________________________________________________\n",
      "concatenate_2 (Concatenate)     (None, 6, 60)        0           bidirectional_2[0][0]            \n",
      "                                                                 lstm_5[0][0]                     \n",
      "__________________________________________________________________________________________________\n",
      "flatten_8 (Flatten)             (None, 360)          0           concatenate_2[0][0]              \n",
      "__________________________________________________________________________________________________\n",
      "output (Dense)                  (None, 6)            2166        flatten_8[0][0]                  \n",
      "==================================================================================================\n",
      "Total params: 4,875,206\n",
      "Trainable params: 4,875,206\n",
      "Non-trainable params: 0\n",
      "__________________________________________________________________________________________________\n"
     ]
    }
   ],
   "source": [
    "model60.summary()"
   ]
  },
  {
   "cell_type": "code",
   "execution_count": 116,
   "metadata": {},
   "outputs": [
    {
     "name": "stdout",
     "output_type": "stream",
     "text": [
      "Epoch 1/100\n",
      "1231/1231 [==============================] - 81s 61ms/step - loss: 8725.9375 - mean_absolute_error: 63.0249 - root_mean_squared_error: 93.4127 - mean_absolute_percentage_error: 90.6548 - val_loss: 2227.2395 - val_mean_absolute_error: 33.3606 - val_root_mean_squared_error: 47.1936 - val_mean_absolute_percentage_error: 57.0772\n",
      "Epoch 2/100\n",
      "1231/1231 [==============================] - 89s 72ms/step - loss: 1768.5132 - mean_absolute_error: 30.1729 - root_mean_squared_error: 42.0537 - mean_absolute_percentage_error: 49.1426 - val_loss: 1357.0542 - val_mean_absolute_error: 26.9465 - val_root_mean_squared_error: 36.8382 - val_mean_absolute_percentage_error: 39.6666\n",
      "Epoch 3/100\n",
      "1231/1231 [==============================] - 102s 83ms/step - loss: 1431.6871 - mean_absolute_error: 26.9735 - root_mean_squared_error: 37.8376 - mean_absolute_percentage_error: 41.5212 - val_loss: 1050.5482 - val_mean_absolute_error: 23.3815 - val_root_mean_squared_error: 32.4122 - val_mean_absolute_percentage_error: 34.6071609 - mean_ - ETA: 41s - loss: 1491.8677 - mean_absolute_error: 27.7046 - root_mean_squared_error: - ETA: 24s - loss: 1466.8054 - mean_absolute_error: 27.4214 - r - ETA: 17s - \n",
      "Epoch 4/100\n",
      "1231/1231 [==============================] - 103s 84ms/step - loss: 1176.4008 - mean_absolute_error: 23.5538 - root_mean_squared_error: 34.2987 - mean_absolute_percentage_error: 36.8963 - val_loss: 812.7431 - val_mean_absolute_error: 20.1342 - val_root_mean_squared_error: 28.5087 - val_mean_absolute_percentage_error: 31.066424.5854  - ETA: 42s - loss: 1223.2312 - mean_absolute_error: 24.1882 - root_mean_squared_error: 34.9747 - mean_absolute_percentage_error: - ETA: 41s - loss: 1223.1615 - mean_absolute_error: 24.1878 - root_mean_squared_error: 34.9737 - mea - ETA: 39s - loss: 1218 - ETA: 29s - loss: 1201.1414 - mean_absolute_error: 23.9167 -  - ETA: 21s - loss: 1191.6577 - mean_absolute_error: 23.7787 - root_mean_squared_error: 34.5204 -  - ETA: 17s\n",
      "Epoch 5/100\n",
      "1231/1231 [==============================] - 104s 84ms/step - loss: 1089.6713 - mean_absolute_error: 22.1890 - root_mean_squared_error: 33.0101 - mean_absolute_percentage_error: 34.6008 - val_loss: 807.1367 - val_mean_absolute_error: 19.8885 - val_root_mean_squared_error: 28.4102 - val_mean_absolute_percentage_error: 29.8465\n",
      "Epoch 6/100\n",
      "1231/1231 [==============================] - 103s 83ms/step - loss: 1069.7937 - mean_absolute_error: 21.8544 - root_mean_squared_error: 32.7077 - mean_absolute_percentage_error: 33.7360 - val_loss: 798.9117 - val_mean_absolute_error: 19.7270 - val_root_mean_squared_error: 28.2650 - val_mean_absolute_percentage_error: 30.1273\n",
      "Epoch 7/100\n",
      "1231/1231 [==============================] - 104s 84ms/step - loss: 1061.7456 - mean_absolute_error: 21.7505 - root_mean_squared_error: 32.5844 - mean_absolute_percentage_error: 33.3888 - val_loss: 837.8726 - val_mean_absolute_error: 20.2192 - val_root_mean_squared_error: 28.9460 - val_mean_absolute_percentage_error: 29.2460\n",
      "Epoch 8/100\n",
      "1231/1231 [==============================] - 103s 84ms/step - loss: 1054.3988 - mean_absolute_error: 21.6669 - root_mean_squared_error: 32.4715 - mean_absolute_percentage_error: 33.0642 - val_loss: 776.8571 - val_mean_absolute_error: 19.4617 - val_root_mean_squared_error: 27.8722 - val_mean_absolute_percentage_error: 28.2514s: 1054.8660 - mean_absolute_error: 21.6454 - root_mean_squared_error\n",
      "Epoch 9/100\n",
      "1231/1231 [==============================] - 103s 84ms/step - loss: 1046.3490 - mean_absolute_error: 21.5822 - root_mean_squared_error: 32.3473 - mean_absolute_percentage_error: 32.7517 - val_loss: 786.4848 - val_mean_absolute_error: 19.4988 - val_root_mean_squared_error: 28.0443 - val_mean_absolute_percentage_error: 28.0875\n",
      "Epoch 10/100\n",
      "1231/1231 [==============================] - 104s 84ms/step - loss: 1036.6713 - mean_absolute_error: 21.4895 - root_mean_squared_error: 32.1974 - mean_absolute_percentage_error: 32.3881 - val_loss: 773.2809 - val_mean_absolute_error: 19.3653 - val_root_mean_squared_error: 27.8079 - val_mean_absolute_percentage_error: 28.1620t_mean_squared_er - ETA:  - ETA: 3s - loss: 1037.2997 - mean_absolu\n",
      "Epoch 11/100\n",
      "1231/1231 [==============================] - 105s 85ms/step - loss: 1027.2635 - mean_absolute_error: 21.4069 - root_mean_squared_error: 32.0509 - mean_absolute_percentage_error: 32.0856 - val_loss: 769.4936 - val_mean_absolute_error: 19.3183 - val_root_mean_squared_error: 27.7397 - val_mean_absolute_percentage_error: 27.2135\n",
      "Epoch 12/100\n",
      "1231/1231 [==============================] - 104s 84ms/step - loss: 1020.3503 - mean_absolute_error: 21.3468 - root_mean_squared_error: 31.9429 - mean_absolute_percentage_error: 31.8824 - val_loss: 761.2979 - val_mean_absolute_error: 19.1344 - val_root_mean_squared_error: 27.5916 - val_mean_absolute_percentage_error: 27.9699rror: 21.3461 - root_mean_squared_error: 31.9408 - mean_absolute_percentage_error: 3\n",
      "Epoch 13/100\n",
      "1231/1231 [==============================] - 102s 83ms/step - loss: 1013.4146 - mean_absolute_error: 21.2888 - root_mean_squared_error: 31.8342 - mean_absolute_percentage_error: 31.6526 - val_loss: 789.7892 - val_mean_absolute_error: 19.5700 - val_root_mean_squared_error: 28.1032 - val_mean_absolute_percentage_error: 26.8320\n",
      "Epoch 14/100\n",
      "1231/1231 [==============================] - 101s 82ms/step - loss: 1007.1980 - mean_absolute_error: 21.2286 - root_mean_squared_error: 31.7364 - mean_absolute_percentage_error: 31.5525 - val_loss: 746.4221 - val_mean_absolute_error: 18.9431 - val_root_mean_squared_error: 27.3207 - val_mean_absolute_percentage_error: 26.8869\n",
      "Epoch 15/100\n",
      "1231/1231 [==============================] - 100s 81ms/step - loss: 1003.8892 - mean_absolute_error: 21.2005 - root_mean_squared_error: 31.6842 - mean_absolute_percentage_error: 31.4361 - val_loss: 732.5826 - val_mean_absolute_error: 18.7665 - val_root_mean_squared_error: 27.0663 - val_mean_absolute_percentage_error: 27.8913\n",
      "Epoch 16/100\n",
      "1231/1231 [==============================] - 102s 83ms/step - loss: 1001.3621 - mean_absolute_error: 21.1804 - root_mean_squared_error: 31.6443 - mean_absolute_percentage_error: 31.3355 - val_loss: 808.6940 - val_mean_absolute_error: 19.6568 - val_root_mean_squared_error: 28.4375 - val_mean_absolute_percentage_error: 26.5090\n",
      "Epoch 17/100\n",
      "1231/1231 [==============================] - 100s 82ms/step - loss: 998.6087 - mean_absolute_error: 21.1439 - root_mean_squared_error: 31.6008 - mean_absolute_percentage_error: 31.3007 - val_loss: 762.0386 - val_mean_absolute_error: 19.1208 - val_root_mean_squared_error: 27.6050 - val_mean_absolute_percentage_error: 27.7394\n",
      "Epoch 18/100\n",
      "1231/1231 [==============================] - 102s 83ms/step - loss: 995.2612 - mean_absolute_error: 21.1159 - root_mean_squared_error: 31.5478 - mean_absolute_percentage_error: 31.2362 - val_loss: 746.3137 - val_mean_absolute_error: 18.8945 - val_root_mean_squared_error: 27.3187 - val_mean_absolute_percentage_error: 26.9556\n",
      "Epoch 19/100\n",
      "1231/1231 [==============================] - 103s 84ms/step - loss: 992.0505 - mean_absolute_error: 21.0799 - root_mean_squared_error: 31.4968 - mean_absolute_percentage_error: 31.1495 - val_loss: 749.3436 - val_mean_absolute_error: 18.9119 - val_root_mean_squared_error: 27.3741 - val_mean_absolute_percentage_error: 26.3046\n",
      "Epoch 20/100\n",
      "1231/1231 [==============================] - 103s 83ms/step - loss: 988.6799 - mean_absolute_error: 21.0445 - root_mean_squared_error: 31.4433 - mean_absolute_percentage_error: 31.0645 - val_loss: 816.9181 - val_mean_absolute_error: 19.6662 - val_root_mean_squared_error: 28.5818 - val_mean_absolute_percentage_error: 27.5025\n",
      "Epoch 21/100\n",
      "1231/1231 [==============================] - 103s 84ms/step - loss: 986.9079 - mean_absolute_error: 21.0308 - root_mean_squared_error: 31.4151 - mean_absolute_percentage_error: 31.0153 - val_loss: 744.9545 - val_mean_absolute_error: 18.8861 - val_root_mean_squared_error: 27.2939 - val_mean_absolute_percentage_error: 27.4900\n",
      "Epoch 22/100\n",
      "1231/1231 [==============================] - 103s 83ms/step - loss: 984.5988 - mean_absolute_error: 21.0060 - root_mean_squared_error: 31.3783 - mean_absolute_percentage_error: 30.9694 - val_loss: 790.4354 - val_mean_absolute_error: 19.4181 - val_root_mean_squared_error: 28.1147 - val_mean_absolute_percentage_error: 25.8638\n",
      "Epoch 23/100\n",
      "1231/1231 [==============================] - 104s 85ms/step - loss: 982.4553 - mean_absolute_error: 20.9861 - root_mean_squared_error: 31.3442 - mean_absolute_percentage_error: 30.9657 - val_loss: 762.2244 - val_mean_absolute_error: 19.1377 - val_root_mean_squared_error: 27.6084 - val_mean_absolute_percentage_error: 25.7528\n",
      "Epoch 24/100\n",
      "1231/1231 [==============================] - 102s 83ms/step - loss: 980.4474 - mean_absolute_error: 20.9627 - root_mean_squared_error: 31.3121 - mean_absolute_percentage_error: 30.8842 - val_loss: 762.8866 - val_mean_absolute_error: 19.1436 - val_root_mean_squared_error: 27.6204 - val_mean_absolute_percentage_error: 26.9012\n",
      "Epoch 25/100\n",
      "1231/1231 [==============================] - 102s 83ms/step - loss: 978.1593 - mean_absolute_error: 20.9490 - root_mean_squared_error: 31.2755 - mean_absolute_percentage_error: 30.9201 - val_loss: 747.1587 - val_mean_absolute_error: 18.9462 - val_root_mean_squared_error: 27.3342 - val_mean_absolute_percentage_error: 26.5129\n",
      "Epoch 26/100\n",
      "1231/1231 [==============================] - 103s 84ms/step - loss: 976.5510 - mean_absolute_error: 20.9199 - root_mean_squared_error: 31.2498 - mean_absolute_percentage_error: 30.8154 - val_loss: 766.8726 - val_mean_absolute_error: 19.0915 - val_root_mean_squared_error: 27.6925 - val_mean_absolute_percentage_error: 26.1956\n",
      "Epoch 27/100\n",
      "1231/1231 [==============================] - 102s 83ms/step - loss: 974.5131 - mean_absolute_error: 20.9026 - root_mean_squared_error: 31.2172 - mean_absolute_percentage_error: 30.8170 - val_loss: 741.8773 - val_mean_absolute_error: 18.8247 - val_root_mean_squared_error: 27.2374 - val_mean_absolute_percentage_error: 25.9989te_error: 20.8998 - root_mean_squared_error: 31.22\n",
      "Epoch 28/100\n",
      "1231/1231 [==============================] - 105s 85ms/step - loss: 972.4175 - mean_absolute_error: 20.8856 - root_mean_squared_error: 31.1836 - mean_absolute_percentage_error: 30.7545 - val_loss: 745.6784 - val_mean_absolute_error: 18.9440 - val_root_mean_squared_error: 27.3071 - val_mean_absolute_percentage_error: 25.7413r: 20.8793 - root_mean_squared_error: 31.1555 - m - ETA: 10s - loss: 970.9875 - mean_absol\n",
      "Epoch 29/100\n",
      "1231/1231 [==============================] - 104s 85ms/step - loss: 970.9558 - mean_absolute_error: 20.8646 - root_mean_squared_error: 31.1602 - mean_absolute_percentage_error: 30.7221 - val_loss: 752.9193 - val_mean_absolute_error: 18.9762 - val_root_mean_squared_error: 27.4394 - val_mean_absolute_percentage_error: 26.7525\n",
      "Epoch 30/100\n",
      "1231/1231 [==============================] - 105s 85ms/step - loss: 969.2490 - mean_absolute_error: 20.8410 - root_mean_squared_error: 31.1327 - mean_absolute_percentage_error: 30.7388 - val_loss: 768.5327 - val_mean_absolute_error: 19.1489 - val_root_mean_squared_error: 27.7224 - val_mean_absolute_percentage_error: 25.1483\n",
      "Epoch 31/100\n",
      "1231/1231 [==============================] - 104s 85ms/step - loss: 967.3608 - mean_absolute_error: 20.8223 - root_mean_squared_error: 31.1024 - mean_absolute_percentage_error: 30.5858 - val_loss: 762.8672 - val_mean_absolute_error: 19.1117 - val_root_mean_squared_error: 27.6201 - val_mean_absolute_percentage_error: 27.0565\n",
      "Epoch 32/100\n",
      "1231/1231 [==============================] - 104s 84ms/step - loss: 965.3395 - mean_absolute_error: 20.7969 - root_mean_squared_error: 31.0699 - mean_absolute_percentage_error: 30.5792 - val_loss: 751.9932 - val_mean_absolute_error: 18.9928 - val_root_mean_squared_error: 27.4225 - val_mean_absolute_percentage_error: 26.4990\n",
      "Epoch 33/100\n",
      "1231/1231 [==============================] - 103s 84ms/step - loss: 964.7878 - mean_absolute_error: 20.7946 - root_mean_squared_error: 31.0610 - mean_absolute_percentage_error: 30.5877 - val_loss: 740.3091 - val_mean_absolute_error: 18.7880 - val_root_mean_squared_error: 27.2086 - val_mean_absolute_percentage_error: 26.0895\n",
      "Epoch 34/100\n",
      "1231/1231 [==============================] - 102s 83ms/step - loss: 962.9799 - mean_absolute_error: 20.7799 - root_mean_squared_error: 31.0319 - mean_absolute_percentage_error: 30.5229 - val_loss: 764.3288 - val_mean_absolute_error: 19.0436 - val_root_mean_squared_error: 27.6465 - val_mean_absolute_percentage_error: 25.9399\n",
      "Epoch 35/100\n",
      "1231/1231 [==============================] - 103s 84ms/step - loss: 961.2947 - mean_absolute_error: 20.7503 - root_mean_squared_error: 31.0047 - mean_absolute_percentage_error: 30.5077 - val_loss: 747.6000 - val_mean_absolute_error: 18.8329 - val_root_mean_squared_error: 27.3423 - val_mean_absolute_percentage_error: 25.7172\n",
      "Epoch 36/100\n",
      "1231/1231 [==============================] - 104s 84ms/step - loss: 959.1460 - mean_absolute_error: 20.7254 - root_mean_squared_error: 30.9701 - mean_absolute_percentage_error: 30.4292 - val_loss: 741.9102 - val_mean_absolute_error: 18.7845 - val_root_mean_squared_error: 27.2380 - val_mean_absolute_percentage_error: 25.2145: 30.9592 - - ETA: 16s - loss: 960.8953 - mean_absolute_error: 20.7170 - root_mean_s - ETA: 1s - loss: 959.5130 - mean_absolute_error: 20.7179 - root_mean_squared_error: 30.9760 - mean_absolute_percentag\n",
      "Epoch 37/100\n",
      "1231/1231 [==============================] - 104s 84ms/step - loss: 958.1022 - mean_absolute_error: 20.7231 - root_mean_squared_error: 30.9532 - mean_absolute_percentage_error: 30.4321 - val_loss: 732.1603 - val_mean_absolute_error: 18.6981 - val_root_mean_squared_error: 27.0585 - val_mean_absolute_percentage_error: 26.9361ean_squared_error\n",
      "Epoch 38/100\n",
      "1231/1231 [==============================] - 102s 83ms/step - loss: 956.9985 - mean_absolute_error: 20.7093 - root_mean_squared_error: 30.9354 - mean_absolute_percentage_error: 30.3772 - val_loss: 736.7404 - val_mean_absolute_error: 18.7835 - val_root_mean_squared_error: 27.1430 - val_mean_absolute_percentage_error: 27.1319\n",
      "Epoch 39/100\n",
      "1231/1231 [==============================] - 105s 85ms/step - loss: 954.3339 - mean_absolute_error: 20.6886 - root_mean_squared_error: 30.8923 - mean_absolute_percentage_error: 30.4053 - val_loss: 744.1592 - val_mean_absolute_error: 18.7344 - val_root_mean_squared_error: 27.2793 - val_mean_absolute_percentage_error: 26.1007\n",
      "Epoch 40/100\n",
      "1231/1231 [==============================] - 106s 86ms/step - loss: 954.6726 - mean_absolute_error: 20.6818 - root_mean_squared_error: 30.8978 - mean_absolute_percentage_error: 30.3764 - val_loss: 744.7759 - val_mean_absolute_error: 18.8128 - val_root_mean_squared_error: 27.2906 - val_mean_absolute_percentage_error: 25.7449\n",
      "Epoch 41/100\n",
      "1231/1231 [==============================] - 95s 77ms/step - loss: 953.6431 - mean_absolute_error: 20.6615 - root_mean_squared_error: 30.8811 - mean_absolute_percentage_error: 30.3046 - val_loss: 836.9565 - val_mean_absolute_error: 19.9320 - val_root_mean_squared_error: 28.9302 - val_mean_absolute_percentage_error: 25.86720.8942 - mean_absolute_per - ETA: 16s - loss: 955.1656 - mea - ETA: 11s - loss: 951.4968 - mean_absolute_error: 20.6544 - roo - ETA: 5s - loss: 951.4948 - mean_absolute_error: 20.6447 - root_mean_squared_e\n",
      "Epoch 42/100\n",
      "1231/1231 [==============================] - 90s 73ms/step - loss: 952.2255 - mean_absolute_error: 20.6558 - root_mean_squared_error: 30.8582 - mean_absolute_percentage_error: 30.3480 - val_loss: 747.4266 - val_mean_absolute_error: 18.8997 - val_root_mean_squared_error: 27.3391 - val_mean_absolute_percentage_error: 26.3739\n",
      "Epoch 43/100\n",
      "1231/1231 [==============================] - 98s 80ms/step - loss: 949.3737 - mean_absolute_error: 20.6404 - root_mean_squared_error: 30.8119 - mean_absolute_percentage_error: 30.3152 - val_loss: 728.7855 - val_mean_absolute_error: 18.6241 - val_root_mean_squared_error: 26.9960 - val_mean_absolute_percentage_error: 24.8750\n",
      "Epoch 44/100\n"
     ]
    },
    {
     "name": "stdout",
     "output_type": "stream",
     "text": [
      "1231/1231 [==============================] - 105s 85ms/step - loss: 948.5312 - mean_absolute_error: 20.6239 - root_mean_squared_error: 30.7982 - mean_absolute_percentage_error: 30.2202 - val_loss: 781.9026 - val_mean_absolute_error: 19.2767 - val_root_mean_squared_error: 27.9625 - val_mean_absolute_percentage_error: 26.2959\n",
      "Epoch 45/100\n",
      "1231/1231 [==============================] - 103s 83ms/step - loss: 948.4413 - mean_absolute_error: 20.6205 - root_mean_squared_error: 30.7968 - mean_absolute_percentage_error: 30.2677 - val_loss: 737.5743 - val_mean_absolute_error: 18.7996 - val_root_mean_squared_error: 27.1583 - val_mean_absolute_percentage_error: 27.3865\n",
      "Epoch 46/100\n",
      "1231/1231 [==============================] - 104s 85ms/step - loss: 946.7153 - mean_absolute_error: 20.6008 - root_mean_squared_error: 30.7687 - mean_absolute_percentage_error: 30.2820 - val_loss: 744.7487 - val_mean_absolute_error: 18.8747 - val_root_mean_squared_error: 27.2901 - val_mean_absolute_percentage_error: 25.6415s: 943.5740 - mean_abs\n",
      "Epoch 47/100\n",
      "1231/1231 [==============================] - 103s 84ms/step - loss: 945.7320 - mean_absolute_error: 20.5917 - root_mean_squared_error: 30.7528 - mean_absolute_percentage_error: 30.2063 - val_loss: 740.0392 - val_mean_absolute_error: 18.8289 - val_root_mean_squared_error: 27.2037 - val_mean_absolute_percentage_error: 27.2259ror: 20.5786 - root_mean_squared_error: 30.7267 - mean_absolute_pe\n",
      "Epoch 48/100\n",
      "1231/1231 [==============================] - 103s 84ms/step - loss: 943.8774 - mean_absolute_error: 20.5720 - root_mean_squared_error: 30.7226 - mean_absolute_percentage_error: 30.1857 - val_loss: 736.1024 - val_mean_absolute_error: 18.6720 - val_root_mean_squared_error: 27.1312 - val_mean_absolute_percentage_error: 25.9673\n",
      "Epoch 49/100\n",
      "1231/1231 [==============================] - 102s 83ms/step - loss: 942.3931 - mean_absolute_error: 20.5618 - root_mean_squared_error: 30.6984 - mean_absolute_percentage_error: 30.1437 - val_loss: 753.0533 - val_mean_absolute_error: 18.9668 - val_root_mean_squared_error: 27.4418 - val_mean_absolute_percentage_error: 25.6614.6553 - mean_absolute_error - ETA: 17s - loss: 941.8889 - mean_absolute_error: 20.5307 - root_mean_squared_error: 30.6902 - mean_absolute_percentag - ETA: 16s - loss: 942.1682 - mean_absolute_er\n",
      "Epoch 50/100\n",
      "1231/1231 [==============================] - 103s 84ms/step - loss: 942.3221 - mean_absolute_error: 20.5522 - root_mean_squared_error: 30.6973 - mean_absolute_percentage_error: 30.1714 - val_loss: 769.2463 - val_mean_absolute_error: 19.2092 - val_root_mean_squared_error: 27.7353 - val_mean_absolute_percentage_error: 26.9254\n",
      "Epoch 51/100\n",
      "1231/1231 [==============================] - 103s 84ms/step - loss: 940.4947 - mean_absolute_error: 20.5410 - root_mean_squared_error: 30.6675 - mean_absolute_percentage_error: 30.1197 - val_loss: 777.3871 - val_mean_absolute_error: 19.2340 - val_root_mean_squared_error: 27.8817 - val_mean_absolute_percentage_error: 25.810234 - mean_absolute_error: 20.5591 - root_mean_squared_error: 30.6430 - mean_absolute_percentage_e - ETA: 1:25 -  - ETA: 36s - loss: 949.5327 - ETA: 5s - loss: 938.9198 - mean_absolute_error: 20.5288 - root_mean_squared_error: 30.6418 - mean_absolute_pe - ETA: 2s - loss: 940.2249 - mean_absolute_error: 20.5411 - root_mean_squared_error: 30.6631 - mean_absolute_pe - ETA: 0s - loss: 940.7673 - mean_absolute_error: 20.5414 - root_mean_squared_error: 30.6719 - mean_absolute_percentage_error: 30.\n",
      "Epoch 52/100\n",
      "1231/1231 [==============================] - 102s 82ms/step - loss: 938.6345 - mean_absolute_error: 20.5175 - root_mean_squared_error: 30.6372 - mean_absolute_percentage_error: 30.0939 - val_loss: 749.6484 - val_mean_absolute_error: 18.8767 - val_root_mean_squared_error: 27.3797 - val_mean_absolute_percentage_error: 25.0753\n",
      "Epoch 53/100\n",
      "1231/1231 [==============================] - 103s 84ms/step - loss: 936.5161 - mean_absolute_error: 20.5041 - root_mean_squared_error: 30.6026 - mean_absolute_percentage_error: 30.0459 - val_loss: 756.2065 - val_mean_absolute_error: 18.9661 - val_root_mean_squared_error: 27.4992 - val_mean_absolute_percentage_error: 25.9423\n",
      "Epoch 54/100\n",
      "1231/1231 [==============================] - 102s 82ms/step - loss: 936.5528 - mean_absolute_error: 20.4969 - root_mean_squared_error: 30.6032 - mean_absolute_percentage_error: 30.0968 - val_loss: 755.6534 - val_mean_absolute_error: 19.0182 - val_root_mean_squared_error: 27.4892 - val_mean_absolute_percentage_error: 26.5238oot_mean_squared_error: 30.6576 - mean_absolute_percentage_error: 3 - ETA: 21s - ETA: 5s - loss: 937.4372 - mean_absolute_error: 20.5033 - root_mean_squared_error: 3\n",
      "Epoch 55/100\n",
      "1231/1231 [==============================] - 103s 84ms/step - loss: 935.1146 - mean_absolute_error: 20.4892 - root_mean_squared_error: 30.5797 - mean_absolute_percentage_error: 30.0155 - val_loss: 754.7273 - val_mean_absolute_error: 18.9856 - val_root_mean_squared_error: 27.4723 - val_mean_absolute_percentage_error: 26.6253mean_absolute_error: 20.4411 - root_mean_squared_error: 30.5297 - mean_absolute_percentage_error:  - ETA: 1:03 - loss: 944.6559 - mean_absolute_error: 20.5498 - root_mean_squared_error: 30.7353 - mean_absolute_perce - ETA: 1:01 - loss - ETA: 8s - loss: 935.2802 - mean_ab\n",
      "Epoch 56/100\n",
      "1231/1231 [==============================] - 102s 83ms/step - loss: 934.5234 - mean_absolute_error: 20.4878 - root_mean_squared_error: 30.5700 - mean_absolute_percentage_error: 30.0658 - val_loss: 754.0928 - val_mean_absolute_error: 18.8783 - val_root_mean_squared_error: 27.4608 - val_mean_absolute_percentage_error: 24.4127\n",
      "Epoch 57/100\n",
      "1231/1231 [==============================] - 104s 84ms/step - loss: 931.8754 - mean_absolute_error: 20.4671 - root_mean_squared_error: 30.5266 - mean_absolute_percentage_error: 29.9831 - val_loss: 772.0826 - val_mean_absolute_error: 19.0838 - val_root_mean_squared_error: 27.7864 - val_mean_absolute_percentage_error: 24.9004mean_absolute_error: 20.5259 - root_mean_squared_error: 30.6404 - mea - ETA: 17s - loss: 937.1931 -\n",
      "Epoch 58/100\n",
      "1231/1231 [==============================] - 105s 85ms/step - loss: 932.1275 - mean_absolute_error: 20.4722 - root_mean_squared_error: 30.5308 - mean_absolute_percentage_error: 29.9688 - val_loss: 770.6277 - val_mean_absolute_error: 19.0953 - val_root_mean_squared_error: 27.7602 - val_mean_absolute_percentage_error: 24.7052\n",
      "Epoch 59/100\n",
      "1231/1231 [==============================] - 105s 85ms/step - loss: 930.2525 - mean_absolute_error: 20.4386 - root_mean_squared_error: 30.5001 - mean_absolute_percentage_error: 29.9601 - val_loss: 769.6553 - val_mean_absolute_error: 19.0784 - val_root_mean_squared_error: 27.7427 - val_mean_absolute_percentage_error: 25.0696\n",
      "Epoch 60/100\n",
      "1231/1231 [==============================] - 102s 83ms/step - loss: 929.5948 - mean_absolute_error: 20.4372 - root_mean_squared_error: 30.4892 - mean_absolute_percentage_error: 29.9411 - val_loss: 765.8802 - val_mean_absolute_error: 19.0863 - val_root_mean_squared_error: 27.6745 - val_mean_absolute_percentage_error: 25.5685\n",
      "Epoch 61/100\n",
      "1231/1231 [==============================] - 104s 85ms/step - loss: 927.4769 - mean_absolute_error: 20.4206 - root_mean_squared_error: 30.4545 - mean_absolute_percentage_error: 29.9183 - val_loss: 767.7709 - val_mean_absolute_error: 19.0946 - val_root_mean_squared_error: 27.7087 - val_mean_absolute_percentage_error: 24.7959\n",
      "Epoch 62/100\n",
      "1231/1231 [==============================] - 103s 84ms/step - loss: 927.2815 - mean_absolute_error: 20.4124 - root_mean_squared_error: 30.4513 - mean_absolute_percentage_error: 29.8893 - val_loss: 771.5526 - val_mean_absolute_error: 19.1426 - val_root_mean_squared_error: 27.7768 - val_mean_absolute_percentage_error: 27.3413\n",
      "Epoch 63/100\n",
      "1231/1231 [==============================] - 104s 84ms/step - loss: 926.0555 - mean_absolute_error: 20.4030 - root_mean_squared_error: 30.4312 - mean_absolute_percentage_error: 29.8899 - val_loss: 746.2070 - val_mean_absolute_error: 18.8895 - val_root_mean_squared_error: 27.3168 - val_mean_absolute_percentage_error: 27.5198\n",
      "Epoch 64/100\n",
      "1231/1231 [==============================] - 105s 86ms/step - loss: 925.6054 - mean_absolute_error: 20.4030 - root_mean_squared_error: 30.4238 - mean_absolute_percentage_error: 29.8882 - val_loss: 746.5972 - val_mean_absolute_error: 18.8325 - val_root_mean_squared_error: 27.3239 - val_mean_absolute_percentage_error: 25.5184\n",
      "Epoch 65/100\n",
      "1231/1231 [==============================] - 105s 85ms/step - loss: 924.6725 - mean_absolute_error: 20.3866 - root_mean_squared_error: 30.4084 - mean_absolute_percentage_error: 29.8620 - val_loss: 748.3185 - val_mean_absolute_error: 18.9486 - val_root_mean_squared_error: 27.3554 - val_mean_absolute_percentage_error: 26.5051\n",
      "Epoch 66/100\n",
      "1231/1231 [==============================] - 102s 83ms/step - loss: 922.2512 - mean_absolute_error: 20.3731 - root_mean_squared_error: 30.3686 - mean_absolute_percentage_error: 29.8476 - val_loss: 757.1599 - val_mean_absolute_error: 18.9501 - val_root_mean_squared_error: 27.5165 - val_mean_absolute_percentage_error: 24.8662ute_error: 20.3725 - root_mean_squared_error: 30.3722 - mean_absolute_percentage_error: \n",
      "Epoch 67/100\n",
      "1231/1231 [==============================] - 102s 83ms/step - loss: 921.5679 - mean_absolute_error: 20.3584 - root_mean_squared_error: 30.3573 - mean_absolute_percentage_error: 29.8287 - val_loss: 727.8438 - val_mean_absolute_error: 18.5547 - val_root_mean_squared_error: 26.9786 - val_mean_absolute_percentage_error: 26.1037\n",
      "Epoch 68/100\n",
      "1231/1231 [==============================] - 104s 85ms/step - loss: 920.5461 - mean_absolute_error: 20.3492 - root_mean_squared_error: 30.3405 - mean_absolute_percentage_error: 29.7778 - val_loss: 769.1271 - val_mean_absolute_error: 19.1743 - val_root_mean_squared_error: 27.7331 - val_mean_absolute_percentage_error: 27.5239\n",
      "Epoch 69/100\n",
      "1231/1231 [==============================] - 104s 85ms/step - loss: 919.7050 - mean_absolute_error: 20.3468 - root_mean_squared_error: 30.3266 - mean_absolute_percentage_error: 29.8102 - val_loss: 778.2028 - val_mean_absolute_error: 19.2347 - val_root_mean_squared_error: 27.8963 - val_mean_absolute_percentage_error: 25.1330\n",
      "Epoch 70/100\n",
      "1231/1231 [==============================] - 104s 84ms/step - loss: 917.6722 - mean_absolute_error: 20.3232 - root_mean_squared_error: 30.2931 - mean_absolute_percentage_error: 29.7577 - val_loss: 755.5912 - val_mean_absolute_error: 18.9453 - val_root_mean_squared_error: 27.4880 - val_mean_absolute_percentage_error: 25.0219oot_mean_squared_error: 30.2990 - mean_absolute_percentage_error: 29.77\n",
      "Epoch 71/100\n",
      "1231/1231 [==============================] - 101s 82ms/step - loss: 916.9733 - mean_absolute_error: 20.3180 - root_mean_squared_error: 30.2816 - mean_absolute_percentage_error: 29.7444 - val_loss: 731.1382 - val_mean_absolute_error: 18.6645 - val_root_mean_squared_error: 27.0396 - val_mean_absolute_percentage_error: 27.2120\n",
      "Epoch 72/100\n",
      "1231/1231 [==============================] - 102s 83ms/step - loss: 915.9813 - mean_absolute_error: 20.3095 - root_mean_squared_error: 30.2652 - mean_absolute_percentage_error: 29.7312 - val_loss: 753.7130 - val_mean_absolute_error: 18.8605 - val_root_mean_squared_error: 27.4538 - val_mean_absolute_percentage_error: 25.8561_error: 20.2844 - root_mean_squared_erro\n",
      "Epoch 73/100\n",
      "1231/1231 [==============================] - 102s 83ms/step - loss: 915.4713 - mean_absolute_error: 20.3059 - root_mean_squared_error: 30.2568 - mean_absolute_percentage_error: 29.6989 - val_loss: 754.5906 - val_mean_absolute_error: 18.9337 - val_root_mean_squared_error: 27.4698 - val_mean_absolute_percentage_error: 25.9872n_squared_error: 30.2750 - mean_absolute_percentage_error\n",
      "Epoch 74/100\n",
      "1231/1231 [==============================] - 104s 84ms/step - loss: 914.3643 - mean_absolute_error: 20.2891 - root_mean_squared_error: 30.2385 - mean_absolute_percentage_error: 29.7082 - val_loss: 791.8323 - val_mean_absolute_error: 19.3654 - val_root_mean_squared_error: 28.1395 - val_mean_absolute_percentage_error: 26.0513\n",
      "Epoch 75/100\n",
      "1231/1231 [==============================] - 101s 82ms/step - loss: 912.4241 - mean_absolute_error: 20.2784 - root_mean_squared_error: 30.2064 - mean_absolute_percentage_error: 29.6415 - val_loss: 760.1631 - val_mean_absolute_error: 19.0066 - val_root_mean_squared_error: 27.5711 - val_mean_absolute_percentage_error: 26.7302ared_error: 30.4892 - mean_absolute_percentag - ETA: 1:10 - loss: 928.0474 - mean_absolute_error: 20.3759 - root_mean_squared_error: 3 - ETA: 3s - loss: 913.0250 - mean_absolute_error: 20.2837 - root_mean_squared_error: 30.2163 - mean_absolute_percentage_e - ETA: 1s - loss: 913.4152 - mean_absolute_error: 20.2885 - root_mean_squared_error: 30.2228 - mean_absolute_percenta\n",
      "Epoch 76/100\n",
      "1231/1231 [==============================] - 108s 87ms/step - loss: 911.0063 - mean_absolute_error: 20.2676 - root_mean_squared_error: 30.1829 - mean_absolute_percentage_error: 29.6459 - val_loss: 799.9380 - val_mean_absolute_error: 19.4902 - val_root_mean_squared_error: 28.2832 - val_mean_absolute_percentage_error: 26.3117\n",
      "Epoch 77/100\n",
      "1231/1231 [==============================] - 103s 84ms/step - loss: 911.5027 - mean_absolute_error: 20.2692 - root_mean_squared_error: 30.1911 - mean_absolute_percentage_error: 29.6638 - val_loss: 751.5080 - val_mean_absolute_error: 18.8467 - val_root_mean_squared_error: 27.4136 - val_mean_absolute_percentage_error: 25.1564\n",
      "Epoch 78/100\n",
      "1231/1231 [==============================] - 103s 84ms/step - loss: 910.0737 - mean_absolute_error: 20.2579 - root_mean_squared_error: 30.1674 - mean_absolute_percentage_error: 29.6624 - val_loss: 754.0437 - val_mean_absolute_error: 18.8633 - val_root_mean_squared_error: 27.4599 - val_mean_absolute_percentage_error: 25.0118\n",
      "Epoch 79/100\n",
      "1231/1231 [==============================] - 94s 76ms/step - loss: 908.4200 - mean_absolute_error: 20.2392 - root_mean_squared_error: 30.1400 - mean_absolute_percentage_error: 29.5993 - val_loss: 772.1742 - val_mean_absolute_error: 19.0537 - val_root_mean_squared_error: 27.7880 - val_mean_absolute_percentage_error: 24.6397\n",
      "Epoch 80/100\n",
      "1231/1231 [==============================] - 172s 140ms/step - loss: 908.3361 - mean_absolute_error: 20.2408 - root_mean_squared_error: 30.1386 - mean_absolute_percentage_error: 29.5575 - val_loss: 768.4396 - val_mean_absolute_error: 19.1140 - val_root_mean_squared_error: 27.7207 - val_mean_absolute_percentage_error: 24.8394\n",
      "Epoch 81/100\n",
      "1231/1231 [==============================] - 187s 152ms/step - loss: 906.6102 - mean_absolute_error: 20.2254 - root_mean_squared_error: 30.1100 - mean_absolute_percentage_error: 29.6050 - val_loss: 775.2329 - val_mean_absolute_error: 19.0961 - val_root_mean_squared_error: 27.8430 - val_mean_absolute_percentage_error: 25.0036\n",
      "Epoch 82/100\n",
      "1231/1231 [==============================] - 202s 164ms/step - loss: 906.8444 - mean_absolute_error: 20.2242 - root_mean_squared_error: 30.1139 - mean_absolute_percentage_error: 29.5392 - val_loss: 747.6922 - val_mean_absolute_error: 18.7600 - val_root_mean_squared_error: 27.3440 - val_mean_absolute_percentage_error: 24.7508\n",
      "Epoch 83/100\n",
      "1231/1231 [==============================] - 195s 158ms/step - loss: 903.7231 - mean_absolute_error: 20.1984 - root_mean_squared_error: 30.0620 - mean_absolute_percentage_error: 29.5631 - val_loss: 757.6605 - val_mean_absolute_error: 18.9246 - val_root_mean_squared_error: 27.5256 - val_mean_absolute_percentage_error: 25.2879\n",
      "Epoch 84/100\n",
      "1231/1231 [==============================] - 199s 162ms/step - loss: 903.8345 - mean_absolute_error: 20.1941 - root_mean_squared_error: 30.0638 - mean_absolute_percentage_error: 29.5399 - val_loss: 751.4079 - val_mean_absolute_error: 18.9509 - val_root_mean_squared_error: 27.4118 - val_mean_absolute_percentage_error: 26.5242\n",
      "Epoch 85/100\n",
      "1231/1231 [==============================] - 200s 163ms/step - loss: 902.5851 - mean_absolute_error: 20.1878 - root_mean_squared_error: 30.0430 - mean_absolute_percentage_error: 29.4866 - val_loss: 767.7826 - val_mean_absolute_error: 19.1084 - val_root_mean_squared_error: 27.7089 - val_mean_absolute_percentage_error: 25.8361\n",
      "Epoch 86/100\n"
     ]
    },
    {
     "name": "stdout",
     "output_type": "stream",
     "text": [
      "1231/1231 [==============================] - 201s 163ms/step - loss: 901.3655 - mean_absolute_error: 20.1670 - root_mean_squared_error: 30.0227 - mean_absolute_percentage_error: 29.4792 - val_loss: 761.3184 - val_mean_absolute_error: 18.9695 - val_root_mean_squared_error: 27.5920 - val_mean_absolute_percentage_error: 24.8693\n",
      "Epoch 87/100\n",
      "1231/1231 [==============================] - 194s 157ms/step - loss: 901.1262 - mean_absolute_error: 20.1598 - root_mean_squared_error: 30.0188 - mean_absolute_percentage_error: 29.4638 - val_loss: 756.7475 - val_mean_absolute_error: 18.9338 - val_root_mean_squared_error: 27.5090 - val_mean_absolute_percentage_error: 25.4094\n",
      "Epoch 88/100\n",
      "1231/1231 [==============================] - 199s 162ms/step - loss: 899.2999 - mean_absolute_error: 20.1533 - root_mean_squared_error: 29.9883 - mean_absolute_percentage_error: 29.5090 - val_loss: 748.5214 - val_mean_absolute_error: 18.8131 - val_root_mean_squared_error: 27.3591 - val_mean_absolute_percentage_error: 25.1076\n",
      "Epoch 89/100\n",
      "1231/1231 [==============================] - 200s 162ms/step - loss: 898.5152 - mean_absolute_error: 20.1388 - root_mean_squared_error: 29.9752 - mean_absolute_percentage_error: 29.4272 - val_loss: 767.4531 - val_mean_absolute_error: 19.0283 - val_root_mean_squared_error: 27.7029 - val_mean_absolute_percentage_error: 24.8017\n",
      "Epoch 90/100\n",
      "1231/1231 [==============================] - 202s 164ms/step - loss: 897.5698 - mean_absolute_error: 20.1320 - root_mean_squared_error: 29.9595 - mean_absolute_percentage_error: 29.3957 - val_loss: 753.1904 - val_mean_absolute_error: 18.8723 - val_root_mean_squared_error: 27.4443 - val_mean_absolute_percentage_error: 24.8242\n",
      "Epoch 91/100\n",
      "1231/1231 [==============================] - 193s 157ms/step - loss: 896.4621 - mean_absolute_error: 20.1200 - root_mean_squared_error: 29.9410 - mean_absolute_percentage_error: 29.4383 - val_loss: 753.1804 - val_mean_absolute_error: 18.9410 - val_root_mean_squared_error: 27.4441 - val_mean_absolute_percentage_error: 25.2027\n",
      "Epoch 92/100\n",
      "1231/1231 [==============================] - 202s 164ms/step - loss: 894.5598 - mean_absolute_error: 20.1068 - root_mean_squared_error: 29.9092 - mean_absolute_percentage_error: 29.3602 - val_loss: 746.3287 - val_mean_absolute_error: 18.7251 - val_root_mean_squared_error: 27.3190 - val_mean_absolute_percentage_error: 25.4209\n",
      "Epoch 93/100\n",
      "1231/1231 [==============================] - 198s 161ms/step - loss: 894.7654 - mean_absolute_error: 20.1160 - root_mean_squared_error: 29.9126 - mean_absolute_percentage_error: 29.4165 - val_loss: 736.8879 - val_mean_absolute_error: 18.6554 - val_root_mean_squared_error: 27.1457 - val_mean_absolute_percentage_error: 25.5476\n",
      "Epoch 94/100\n",
      "1231/1231 [==============================] - 201s 164ms/step - loss: 893.1383 - mean_absolute_error: 20.0798 - root_mean_squared_error: 29.8854 - mean_absolute_percentage_error: 29.3051 - val_loss: 780.6595 - val_mean_absolute_error: 19.2151 - val_root_mean_squared_error: 27.9403 - val_mean_absolute_percentage_error: 25.4083\n",
      "Epoch 95/100\n",
      "1231/1231 [==============================] - 191s 156ms/step - loss: 892.5712 - mean_absolute_error: 20.0833 - root_mean_squared_error: 29.8759 - mean_absolute_percentage_error: 29.3122 - val_loss: 759.6927 - val_mean_absolute_error: 18.9367 - val_root_mean_squared_error: 27.5625 - val_mean_absolute_percentage_error: 25.4415\n",
      "Epoch 96/100\n",
      "1231/1231 [==============================] - 166s 135ms/step - loss: 890.7844 - mean_absolute_error: 20.0638 - root_mean_squared_error: 29.8460 - mean_absolute_percentage_error: 29.3063 - val_loss: 756.7305 - val_mean_absolute_error: 18.9357 - val_root_mean_squared_error: 27.5087 - val_mean_absolute_percentage_error: 25.5681\n",
      "Epoch 97/100\n",
      "1231/1231 [==============================] - 184s 150ms/step - loss: 890.3028 - mean_absolute_error: 20.0686 - root_mean_squared_error: 29.8379 - mean_absolute_percentage_error: 29.2976 - val_loss: 754.8743 - val_mean_absolute_error: 18.9348 - val_root_mean_squared_error: 27.4750 - val_mean_absolute_percentage_error: 26.6274\n",
      "Epoch 98/100\n",
      "1231/1231 [==============================] - 199s 162ms/step - loss: 889.5653 - mean_absolute_error: 20.0575 - root_mean_squared_error: 29.8256 - mean_absolute_percentage_error: 29.2938 - val_loss: 782.0751 - val_mean_absolute_error: 19.3001 - val_root_mean_squared_error: 27.9656 - val_mean_absolute_percentage_error: 26.5613\n",
      "Epoch 99/100\n",
      "1231/1231 [==============================] - 199s 161ms/step - loss: 888.9133 - mean_absolute_error: 20.0639 - root_mean_squared_error: 29.8146 - mean_absolute_percentage_error: 29.2727 - val_loss: 760.3303 - val_mean_absolute_error: 18.9574 - val_root_mean_squared_error: 27.5741 - val_mean_absolute_percentage_error: 24.7261\n",
      "Epoch 100/100\n",
      "1231/1231 [==============================] - 191s 155ms/step - loss: 888.3280 - mean_absolute_error: 20.0452 - root_mean_squared_error: 29.8048 - mean_absolute_percentage_error: 29.1967 - val_loss: 753.5006 - val_mean_absolute_error: 18.8982 - val_root_mean_squared_error: 27.4500 - val_mean_absolute_percentage_error: 26.2611\n"
     ]
    },
    {
     "data": {
      "text/plain": [
       "<keras.callbacks.History at 0x249bc7df4f0>"
      ]
     },
     "execution_count": 116,
     "metadata": {},
     "output_type": "execute_result"
    }
   ],
   "source": [
    "model60.fit((Wt60,Xt60), yt60, validation_split = val_percent,\n",
    "            epochs = 100, \n",
    "            verbose = 1\n",
    "            )"
   ]
  },
  {
   "cell_type": "code",
   "execution_count": 117,
   "metadata": {},
   "outputs": [],
   "source": [
    "metrics60 = pd.DataFrame(model60.history.history)"
   ]
  },
  {
   "cell_type": "code",
   "execution_count": 118,
   "metadata": {},
   "outputs": [],
   "source": [
    "# fig = plt.figure(figsize=(6,4))\n",
    "\n",
    "# # Add set of axes to figure\n",
    "# axes = fig.add_axes([0, 0, 1, 1]) \n",
    "# axes2 = fig.add_axes([0.3, 0.35, 0.5, 0.5]) # Smaller figure\n",
    "# axes.plot(metrics60[['loss','val_loss']], label=['train_loss','val_loss'], lw=4)\n",
    "# axes.set_ylim(0,4000)\n",
    "\n",
    "# axes2.plot(metrics60[['loss','val_loss']], lw=4)\n",
    "# axes2.set_xlim(0,20)\n",
    "# axes2.set_ylim(500,1500)\n",
    "# # plt.xticks(visible=False)\n",
    "# plt.yticks(visible=False)\n",
    "\n",
    "# axes.set_xlabel('Epoch')\n",
    "# axes.set_ylabel('Loss')\n",
    "# axes.grid()\n",
    "# axes2.grid()\n",
    "\n",
    "# mark_inset(axes, axes2, loc1=2, loc2=4, fc=\"0.9\", ec=\"0.1\", ls='--')\n",
    "# axes.yaxis.set_major_formatter(formatter)"
   ]
  },
  {
   "cell_type": "code",
   "execution_count": 119,
   "metadata": {},
   "outputs": [
    {
     "name": "stderr",
     "output_type": "stream",
     "text": [
      "WARNING:absl:Function `_wrapped_model` contains input name(s) WideInput, DeepInput with unsupported characters which will be renamed to wideinput, deepinput in the SavedModel.\n",
      "WARNING:absl:Found untraced functions such as lstm_cell_11_layer_call_and_return_conditional_losses, lstm_cell_11_layer_call_fn, lstm_cell_9_layer_call_and_return_conditional_losses, lstm_cell_9_layer_call_fn, lstm_cell_10_layer_call_and_return_conditional_losses while saving (showing 5 of 15). These functions will not be directly callable after loading.\n"
     ]
    },
    {
     "name": "stdout",
     "output_type": "stream",
     "text": [
      "INFO:tensorflow:Assets written to: my_dir/10a-60\\assets\n"
     ]
    },
    {
     "name": "stderr",
     "output_type": "stream",
     "text": [
      "INFO:tensorflow:Assets written to: my_dir/10a-60\\assets\n"
     ]
    }
   ],
   "source": [
    "model60.save(\"my_dir/10a-60\")"
   ]
  },
  {
   "cell_type": "code",
   "execution_count": 120,
   "metadata": {},
   "outputs": [],
   "source": [
    "model60 = keras.models.load_model(\"my_dir/10a-60\")"
   ]
  },
  {
   "cell_type": "code",
   "execution_count": 121,
   "metadata": {},
   "outputs": [
    {
     "data": {
      "text/plain": [
       "array([[ 28.602158 ,  15.403277 ,  11.139361 ,  57.247555 ,  27.71213  ,\n",
       "          5.306828 ],\n",
       "       [ 28.52893  ,  15.352832 ,  10.651706 ,  55.521908 ,  27.65613  ,\n",
       "          5.9499707],\n",
       "       [ 28.150467 ,  15.013553 ,   8.452792 ,  52.37666  ,  26.582636 ,\n",
       "          5.473912 ],\n",
       "       ...,\n",
       "       [ 45.127037 ,  45.970867 ,  71.73394  , 125.551956 ,  55.82381  ,\n",
       "         26.44265  ],\n",
       "       [ 42.520363 ,  41.628048 ,  63.992268 , 116.50794  ,  50.812943 ,\n",
       "         21.118118 ],\n",
       "       [ 39.78002  ,  37.92139  ,  62.586605 , 119.313095 ,  52.41268  ,\n",
       "         20.479313 ]], dtype=float32)"
      ]
     },
     "execution_count": 121,
     "metadata": {},
     "output_type": "execute_result"
    }
   ],
   "source": [
    "model60.predict((Wv60,Xv60))"
   ]
  },
  {
   "cell_type": "markdown",
   "metadata": {},
   "source": [
    "### Evaluation on inverse_transform"
   ]
  },
  {
   "cell_type": "code",
   "execution_count": null,
   "metadata": {},
   "outputs": [],
   "source": [
    "test_predictions60 = model60.predict((Wv60,Xv60))\n",
    "\n",
    "\n",
    "MSE60 = mean_squared_error(yv60,test_predictions60)\n",
    "\n",
    "MAE60 = mean_absolute_error(yv60,test_predictions60)\n",
    "\n",
    "RMSE60 = np.sqrt(MSE60)\n",
    "\n",
    "MAPE60 = mean_absolute_percentage_error(yv60,test_predictions60)*100\n",
    "\n",
    "eval60 = [MSE60, MAE60, RMSE60, MAPE60]\n",
    "print(eval60)"
   ]
  },
  {
   "cell_type": "code",
   "execution_count": null,
   "metadata": {},
   "outputs": [],
   "source": [
    "GEH, count = ga.GEH(np.asarray(yv60), np.asarray(test_predictions60))\n",
    "GEH60 = count/GEH.size\n",
    "print(GEH60)"
   ]
  },
  {
   "cell_type": "markdown",
   "metadata": {},
   "source": [
    "# RESULTS"
   ]
  },
  {
   "cell_type": "markdown",
   "metadata": {},
   "source": [
    "## General results"
   ]
  },
  {
   "cell_type": "code",
   "execution_count": null,
   "metadata": {},
   "outputs": [],
   "source": [
    "l = ['MSE','MAE','RMSE','MAPE','Horizon']"
   ]
  },
  {
   "cell_type": "code",
   "execution_count": null,
   "metadata": {},
   "outputs": [],
   "source": [
    "eval5.append(5)\n",
    "eval15.append(15)\n",
    "eval30.append(30)\n",
    "eval60.append(60)"
   ]
  },
  {
   "cell_type": "code",
   "execution_count": null,
   "metadata": {},
   "outputs": [],
   "source": [
    "df = pd.DataFrame(np.array([eval5,eval15,eval30,eval60]),columns=l)\n",
    "df.set_index('Horizon')"
   ]
  },
  {
   "cell_type": "markdown",
   "metadata": {},
   "source": [
    "## GEH"
   ]
  },
  {
   "cell_type": "code",
   "execution_count": null,
   "metadata": {},
   "outputs": [],
   "source": [
    "n = [' 5 ',' 15 ',' 30 ',' 60 ']\n",
    "df2 = pd.DataFrame(np.array([[GEH5, GEH15, GEH30, GEH60]]), columns=n)\n",
    "print(df2)"
   ]
  },
  {
   "cell_type": "markdown",
   "metadata": {},
   "source": [
    "## Save Loss"
   ]
  },
  {
   "cell_type": "code",
   "execution_count": 128,
   "metadata": {},
   "outputs": [],
   "source": [
    "# metrics5.to_csv('Loss/8a-5.csv') \n",
    "# metrics15.to_csv('Loss/8a-15.csv') \n",
    "# metrics30.to_csv('Loss/8a-30.csv') \n",
    "# metrics60.to_csv('Loss/8a-60.csv') "
   ]
  }
 ],
 "metadata": {
  "kernelspec": {
   "display_name": "Python 3 (ipykernel)",
   "language": "python",
   "name": "python3"
  },
  "language_info": {
   "codemirror_mode": {
    "name": "ipython",
    "version": 3
   },
   "file_extension": ".py",
   "mimetype": "text/x-python",
   "name": "python",
   "nbconvert_exporter": "python",
   "pygments_lexer": "ipython3",
   "version": "3.11.5"
  }
 },
 "nbformat": 4,
 "nbformat_minor": 4
}
