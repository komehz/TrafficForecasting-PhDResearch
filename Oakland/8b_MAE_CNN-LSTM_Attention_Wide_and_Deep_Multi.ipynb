{
 "cells": [
  {
   "cell_type": "code",
   "execution_count": 1,
   "metadata": {},
   "outputs": [],
   "source": [
    "import pandas as pd\n",
    "import numpy as np\n",
    "import matplotlib.pyplot as plt\n",
    "import seaborn as sns\n",
    "import joblib\n",
    "import os"
   ]
  },
  {
   "cell_type": "code",
   "execution_count": 2,
   "metadata": {},
   "outputs": [],
   "source": [
    "import keras_tuner as kt\n",
    "from keras_tuner import RandomSearch\n",
    "# from GEH_LOSS import GEH_loss\n",
    "import geh as ga"
   ]
  },
  {
   "cell_type": "code",
   "execution_count": 3,
   "metadata": {},
   "outputs": [],
   "source": [
    "from sklearn.metrics import mean_absolute_error,mean_squared_error,mean_absolute_percentage_error"
   ]
  },
  {
   "cell_type": "code",
   "execution_count": 4,
   "metadata": {},
   "outputs": [],
   "source": [
    "import relative_accuracy as ra"
   ]
  },
  {
   "cell_type": "code",
   "execution_count": 5,
   "metadata": {},
   "outputs": [],
   "source": [
    "# Load all Inputs and Output Data\n",
    "\n",
    "# 5 mins (1 step ahead)\n",
    "Deep_train_5   = np.load(\"Deep_train_5_multi.npz\")['x'] \n",
    "Output_train_5 = np.load(\"Deep_train_5_multi.npz\")['y']\n",
    "\n",
    "Deep_test_5   = np.load(\"Deep_test_5_multi.npz\")['x'] \n",
    "Output_test_5 = np.load(\"Deep_test_5_multi.npz\")['y'] \n",
    "\n",
    "# 15 mins (3 steps ahead)\n",
    "Deep_train_15   = np.load(\"Deep_train_15_multi.npz\")['x'] \n",
    "Output_train_15 = np.load(\"Deep_train_15_multi.npz\")['y']\n",
    "\n",
    "Deep_test_15   = np.load(\"Deep_test_15_multi.npz\")['x'] \n",
    "Output_test_15 = np.load(\"Deep_test_15_multi.npz\")['y']\n",
    "\n",
    "# 30 mins (6 steps ahead)\n",
    "Deep_train_30   = np.load(\"Deep_train_30_multi.npz\")['x'] \n",
    "Output_train_30 = np.load(\"Deep_train_30_multi.npz\")['y']\n",
    "\n",
    "Deep_test_30   = np.load(\"Deep_test_30_multi.npz\")['x'] \n",
    "Output_test_30 = np.load(\"Deep_test_30_multi.npz\")['y']\n",
    "\n",
    "# 60 mins (12 steps ahead)\n",
    "Deep_train_60   = np.load(\"Deep_train_60_multi.npz\")['x'] \n",
    "Output_train_60 = np.load(\"Deep_train_60_multi.npz\")['y']\n",
    "\n",
    "Deep_test_60   = np.load(\"Deep_test_60_multi.npz\")['x'] \n",
    "Output_test_60 = np.load(\"Deep_test_60_multi.npz\")['y']"
   ]
  },
  {
   "cell_type": "code",
   "execution_count": 6,
   "metadata": {},
   "outputs": [],
   "source": [
    "# Wide Data\n",
    "Xtrain = joblib.load(\"002weeks_train_Multi.save\") \n",
    "Xtest = joblib.load(\"002weeks_test_Multi.save\") "
   ]
  },
  {
   "cell_type": "code",
   "execution_count": 7,
   "metadata": {},
   "outputs": [],
   "source": [
    "# 5 mins\n",
    "# Delete first 15 samples\n",
    "Wide_train_5 = np.delete(Xtrain, np.s_[0:15], 0)\n",
    "Wide_test_5 = np.delete(Xtest, np.s_[0:15], 0)"
   ]
  },
  {
   "cell_type": "code",
   "execution_count": 8,
   "metadata": {},
   "outputs": [],
   "source": [
    "# 15 mins\n",
    "# Delete first 17 samples\n",
    "Wide_train_15 = np.delete(Xtrain, np.s_[0:17], 0)\n",
    "Wide_test_15 = np.delete(Xtest, np.s_[0:17], 0)"
   ]
  },
  {
   "cell_type": "code",
   "execution_count": 9,
   "metadata": {},
   "outputs": [],
   "source": [
    "# 30 mins\n",
    "# Delete first 20 samples\n",
    "Wide_train_30 = np.delete(Xtrain, np.s_[0:20], 0)\n",
    "Wide_test_30 = np.delete(Xtest, np.s_[0:20], 0)"
   ]
  },
  {
   "cell_type": "code",
   "execution_count": 10,
   "metadata": {},
   "outputs": [],
   "source": [
    "# 60 mins\n",
    "# Delete first 27 samples\n",
    "Wide_train_60 = np.delete(Xtrain, np.s_[0:26], 0)\n",
    "Wide_test_60 = np.delete(Xtest, np.s_[0:26], 0)"
   ]
  },
  {
   "cell_type": "code",
   "execution_count": 11,
   "metadata": {},
   "outputs": [],
   "source": [
    "scaler_filename = \"scaler.save\"\n",
    "scaler = joblib.load(scaler_filename) "
   ]
  },
  {
   "cell_type": "code",
   "execution_count": 12,
   "metadata": {},
   "outputs": [],
   "source": [
    "Test      = pd.read_csv('01test_scaled.csv', index_col=None, parse_dates=[0])"
   ]
  },
  {
   "cell_type": "markdown",
   "metadata": {},
   "source": [
    "# Reshape Samples"
   ]
  },
  {
   "cell_type": "markdown",
   "metadata": {},
   "source": [
    "The first step is to split the input sequences into subsequences that can be processed by the CNN model. Here, each spatio-temporal sample can be split into three sub-samples, each with five time steps. The CNN can interpret each subsequence of five time steps and provide a time series of interpretations of the subsequences to the LSTM model to process as input."
   ]
  },
  {
   "cell_type": "code",
   "execution_count": 13,
   "metadata": {},
   "outputs": [],
   "source": [
    "# reshape from [samples, timesteps] into [samples, subsequences, timesteps, features]\n",
    "n_features = 6                # No of loop detectors\n",
    "n_seq = 3                     # Subsequences\n",
    "n_steps = 5                   # time-step per subsequence\n",
    "# val_percent = 0.07567       # 2 weeks\n",
    "val_percent = 0.2        \n",
    "batch_size = 32\n",
    "\n",
    "n_seq_ = 3                     # Subsequences\n",
    "n_steps_ = 3                   # time-step per subsequence"
   ]
  },
  {
   "cell_type": "markdown",
   "metadata": {},
   "source": [
    "#### 5 mins"
   ]
  },
  {
   "cell_type": "code",
   "execution_count": 14,
   "metadata": {},
   "outputs": [],
   "source": [
    "# Train\n",
    "# reshape from [samples, timesteps] into [samples, subsequences, timesteps, features]\n",
    "Xt5 = Deep_train_5.reshape((Deep_train_5.shape[0], n_seq, n_steps, n_features))\n",
    "yt5 = scaler.inverse_transform(Output_train_5)"
   ]
  },
  {
   "cell_type": "code",
   "execution_count": 15,
   "metadata": {},
   "outputs": [],
   "source": [
    "# Test\n",
    "# reshape from [samples, timesteps] into [samples, subsequences, timesteps, features]\n",
    "Xv5 = Deep_test_5.reshape((Deep_test_5.shape[0], n_seq, n_steps, n_features))\n",
    "yv5 = scaler.inverse_transform(Output_test_5)"
   ]
  },
  {
   "cell_type": "markdown",
   "metadata": {},
   "source": [
    "#### 15 mins"
   ]
  },
  {
   "cell_type": "code",
   "execution_count": 16,
   "metadata": {},
   "outputs": [],
   "source": [
    "# Train\n",
    "# reshape from [samples, timesteps] into [samples, subsequences, timesteps, features]\n",
    "Xt15 = Deep_train_15.reshape((Deep_train_15.shape[0], n_seq, n_steps, n_features))\n",
    "yt15 = scaler.inverse_transform(Output_train_15)"
   ]
  },
  {
   "cell_type": "code",
   "execution_count": 17,
   "metadata": {},
   "outputs": [],
   "source": [
    "# Test\n",
    "# reshape from [samples, timesteps] into [samples, subsequences, timesteps, features]\n",
    "Xv15 = Deep_test_15.reshape((Deep_test_15.shape[0], n_seq, n_steps, n_features))\n",
    "yv15 = scaler.inverse_transform(Output_test_15)"
   ]
  },
  {
   "cell_type": "markdown",
   "metadata": {},
   "source": [
    "#### 30 mins"
   ]
  },
  {
   "cell_type": "code",
   "execution_count": 18,
   "metadata": {},
   "outputs": [],
   "source": [
    "# Train\n",
    "# reshape from [samples, timesteps] into [samples, subsequences, timesteps, features]\n",
    "Xt30 = Deep_train_30.reshape((Deep_train_30.shape[0], n_seq, n_steps, n_features))\n",
    "yt30 = scaler.inverse_transform(Output_train_30)"
   ]
  },
  {
   "cell_type": "code",
   "execution_count": 19,
   "metadata": {},
   "outputs": [],
   "source": [
    "# Test\n",
    "# reshape from [samples, timesteps] into [samples, subsequences, timesteps, features]\n",
    "Xv30 = Deep_test_30.reshape((Deep_test_30.shape[0], n_seq, n_steps, n_features))\n",
    "yv30 = scaler.inverse_transform(Output_test_30)"
   ]
  },
  {
   "cell_type": "markdown",
   "metadata": {},
   "source": [
    "#### 60 mins"
   ]
  },
  {
   "cell_type": "code",
   "execution_count": 20,
   "metadata": {},
   "outputs": [],
   "source": [
    "# Train\n",
    "# reshape from [samples, timesteps] into [samples, subsequences, timesteps, features]\n",
    "Xt60 = Deep_train_60.reshape((Deep_train_60.shape[0], n_seq, n_steps, n_features))\n",
    "yt60 = scaler.inverse_transform(Output_train_60)"
   ]
  },
  {
   "cell_type": "code",
   "execution_count": 21,
   "metadata": {},
   "outputs": [],
   "source": [
    "# Test\n",
    "# reshape from [samples, timesteps] into [samples, subsequences, timesteps, features]\n",
    "Xv60 = Deep_test_60.reshape((Deep_test_60.shape[0], n_seq, n_steps, n_features))\n",
    "yv60 = scaler.inverse_transform(Output_test_60)"
   ]
  },
  {
   "cell_type": "markdown",
   "metadata": {},
   "source": [
    "### Reshaping the Data for Conv2D layer\n",
    "\n",
    "For Conv2D, there is a need to add one more dimension to show we're dealing with 1 channel (since technically the images are in black and white, only showing values from 0-max flow on a single channel).\n",
    "\n",
    "Conv1D - strides in 1 dimension\n",
    "Conv2D - strides in 2 dimensions"
   ]
  },
  {
   "cell_type": "code",
   "execution_count": 22,
   "metadata": {},
   "outputs": [],
   "source": [
    "# define no_of_channels\n",
    "n_channels = 1"
   ]
  },
  {
   "cell_type": "code",
   "execution_count": 23,
   "metadata": {},
   "outputs": [],
   "source": [
    "# Train data\n",
    "Xt5  =  Xt5.reshape(Xt5.shape[0], n_seq, n_steps, n_features, n_channels)\n",
    "Xt15 =  Xt15.reshape(Xt15.shape[0], n_seq, n_steps, n_features, n_channels)\n",
    "Xt30 =  Xt30.reshape(Xt30.shape[0], n_seq, n_steps, n_features, n_channels)\n",
    "Xt60 =  Xt60.reshape(Xt60.shape[0], n_seq, n_steps, n_features, n_channels)\n",
    "\n",
    "# Validation data\n",
    "Xv5  =  Xv5.reshape(Xv5.shape[0], n_seq, n_steps, n_features, n_channels)\n",
    "Xv15 =  Xv15.reshape(Xv15.shape[0], n_seq, n_steps, n_features, n_channels)\n",
    "Xv30 =  Xv30.reshape(Xv30.shape[0], n_seq, n_steps, n_features, n_channels)\n",
    "Xv60 =  Xv60.reshape(Xv60.shape[0], n_seq, n_steps, n_features, n_channels)"
   ]
  },
  {
   "cell_type": "code",
   "execution_count": 24,
   "metadata": {},
   "outputs": [],
   "source": [
    "Wt5  = Wide_train_5\n",
    "Wt15 = Wide_train_15\n",
    "Wt30 = Wide_train_30\n",
    "Wt60 = Wide_train_60\n",
    "\n",
    "Wv5  = Wide_test_5\n",
    "Wv15 = Wide_test_15\n",
    "Wv30 = Wide_test_30\n",
    "Wv60 = Wide_test_60"
   ]
  },
  {
   "cell_type": "code",
   "execution_count": 25,
   "metadata": {},
   "outputs": [],
   "source": [
    "# Train data\n",
    "Wt5  =  Wt5.reshape(Wt5.shape[0], n_seq_, n_steps_, n_features)\n",
    "Wt15 =  Wt15.reshape(Wt15.shape[0], n_seq_, n_steps_, n_features)\n",
    "Wt30 =  Wt30.reshape(Wt30.shape[0], n_seq_, n_steps_, n_features)\n",
    "Wt60 =  Wt60.reshape(Wt60.shape[0], n_seq_, n_steps_, n_features)\n",
    "\n",
    "# Validation data\n",
    "Wv5  =  Wv5.reshape(Wv5.shape[0], n_seq_, n_steps_, n_features)\n",
    "Wv15 =  Wv15.reshape(Wv15.shape[0], n_seq_, n_steps_, n_features)\n",
    "Wv30 =  Wv30.reshape(Wv30.shape[0], n_seq_, n_steps_, n_features)\n",
    "Wv60 =  Wv60.reshape(Wv60.shape[0], n_seq_, n_steps_, n_features)"
   ]
  },
  {
   "cell_type": "code",
   "execution_count": 26,
   "metadata": {},
   "outputs": [
    {
     "data": {
      "text/plain": [
       "(49233, 3, 5, 6, 1)"
      ]
     },
     "execution_count": 26,
     "metadata": {},
     "output_type": "execute_result"
    }
   ],
   "source": [
    "Xt5.shape"
   ]
  },
  {
   "cell_type": "code",
   "execution_count": 27,
   "metadata": {},
   "outputs": [
    {
     "data": {
      "text/plain": [
       "(49233, 3, 3, 6)"
      ]
     },
     "execution_count": 27,
     "metadata": {},
     "output_type": "execute_result"
    }
   ],
   "source": [
    "Wt5.shape"
   ]
  },
  {
   "cell_type": "markdown",
   "metadata": {},
   "source": [
    "# CNN-LSTM model"
   ]
  },
  {
   "cell_type": "code",
   "execution_count": 28,
   "metadata": {},
   "outputs": [],
   "source": [
    "from tensorflow import keras\n",
    "from keras_self_attention import SeqSelfAttention\n",
    "\n",
    "# Early Stopping\n",
    "early_stop = keras.callbacks.EarlyStopping(monitor='val_loss',patience=5, restore_best_weights = True)"
   ]
  },
  {
   "cell_type": "code",
   "execution_count": 29,
   "metadata": {},
   "outputs": [
    {
     "data": {
      "text/plain": [
       "(49233, 9, 6)"
      ]
     },
     "execution_count": 29,
     "metadata": {},
     "output_type": "execute_result"
    }
   ],
   "source": [
    "Wide_train_5.shape"
   ]
  },
  {
   "cell_type": "markdown",
   "metadata": {},
   "source": [
    "# 5 mins ahead"
   ]
  },
  {
   "cell_type": "code",
   "execution_count": 30,
   "metadata": {},
   "outputs": [],
   "source": [
    "def build_model_5(hp):\n",
    "    # Inputs\n",
    "    channel_Wide = keras.layers.Input(shape=Wt5.shape[1:], name=\"WideInput\")\n",
    "    channel_Deep = keras.layers.Input(shape=Xt5.shape[1:], name=\"DeepInput\")\n",
    "    units = hp.Int(\"units\", min_value=1, max_value=100, step=1)\n",
    "    \n",
    "    \n",
    "    # Wide Model\n",
    "    flatten_5w = keras.layers.TimeDistributed(keras.layers.Flatten())(channel_Wide)\n",
    "    Bi_5 = keras.layers.Bidirectional(\n",
    "        keras.layers.LSTM(units=units, return_sequences=True),\n",
    "        merge_mode=\"ave\"\n",
    "    )(flatten_5w)\n",
    "    \n",
    "    \n",
    "    # Deep Model\n",
    "    # CNN \n",
    "    CNN_5 = keras.layers.TimeDistributed(\n",
    "        keras.layers.Conv2D(filters=hp.Int(\"filters\", min_value=32, max_value=512, step=32),\n",
    "                            kernel_size=hp.Choice(\"kernel_size\", [2, 3]), activation='relu'))(channel_Deep)\n",
    "    flatten_5 = keras.layers.TimeDistributed(keras.layers.Flatten())(CNN_5)\n",
    "    # LSTM          \n",
    "    LSTM_5 = keras.layers.LSTM(units=units, return_sequences=True)(flatten_5)\n",
    "\n",
    "    \n",
    "    # Concatenation \n",
    "    concat = keras.layers.concatenate([Bi_5, LSTM_5], axis=1)\n",
    "\n",
    "    # Attention\n",
    "    Att_5 = SeqSelfAttention(attention_activation='sigmoid')(concat)\n",
    "    merge = keras.layers.Flatten()(Att_5)\n",
    "\n",
    "    \n",
    "    # Output\n",
    "    output = keras.layers.Dense(n_features, name= \"output\")(merge)\n",
    "    \n",
    "    # Model\n",
    "    model_5 = keras.Model(inputs=[channel_Wide,channel_Deep], outputs=[output])\n",
    "\n",
    "    # Compile\n",
    "    model_5.compile(optimizer=keras.optimizers.Adam(hp.Choice(\"learning_rate\", [1e-2, 1e-3, 1e-4])), \n",
    "        loss=\"mae\", metrics=['MeanAbsoluteError','RootMeanSquaredError','MeanAbsolutePercentageError'])\n",
    "                                   \n",
    "    return model_5"
   ]
  },
  {
   "cell_type": "code",
   "execution_count": 31,
   "metadata": {},
   "outputs": [
    {
     "name": "stdout",
     "output_type": "stream",
     "text": [
      "INFO:tensorflow:Reloading Oracle from existing project C:\\RunsOak\\8b-5\\oracle.json\n",
      "INFO:tensorflow:Reloading Tuner from C:\\RunsOak\\8b-5\\tuner0.json\n"
     ]
    }
   ],
   "source": [
    "tuner5 = RandomSearch(\n",
    "    build_model_5,\n",
    "    objective=\"val_loss\",\n",
    "    max_trials=60,\n",
    "    executions_per_trial=2,\n",
    "    overwrite=False,\n",
    "    directory=os.path.normpath('C:/RunsOak'),\n",
    "    project_name=\"8b-5\",\n",
    ")"
   ]
  },
  {
   "cell_type": "code",
   "execution_count": 32,
   "metadata": {},
   "outputs": [
    {
     "name": "stdout",
     "output_type": "stream",
     "text": [
      "Search space summary\n",
      "Default search space size: 4\n",
      "units (Int)\n",
      "{'default': None, 'conditions': [], 'min_value': 1, 'max_value': 100, 'step': 1, 'sampling': None}\n",
      "filters (Int)\n",
      "{'default': None, 'conditions': [], 'min_value': 32, 'max_value': 512, 'step': 32, 'sampling': None}\n",
      "kernel_size (Choice)\n",
      "{'default': 2, 'conditions': [], 'values': [2, 3], 'ordered': True}\n",
      "learning_rate (Choice)\n",
      "{'default': 0.01, 'conditions': [], 'values': [0.01, 0.001, 0.0001], 'ordered': True}\n"
     ]
    }
   ],
   "source": [
    "tuner5.search_space_summary()"
   ]
  },
  {
   "cell_type": "code",
   "execution_count": 33,
   "metadata": {},
   "outputs": [
    {
     "name": "stdout",
     "output_type": "stream",
     "text": [
      "Trial 61 Complete [00h 05m 04s]\n",
      "val_loss: 18.150599479675293\n",
      "\n",
      "Best val_loss So Far: 13.497985363006592\n",
      "Total elapsed time: 01h 31m 37s\n",
      "INFO:tensorflow:Oracle triggered exit\n"
     ]
    }
   ],
   "source": [
    "tuner5.search((Wt5,Xt5), yt5, epochs=200,\n",
    "           validation_split = val_percent,\n",
    "           callbacks = [early_stop],\n",
    "           verbose=2)"
   ]
  },
  {
   "cell_type": "code",
   "execution_count": 34,
   "metadata": {},
   "outputs": [
    {
     "name": "stdout",
     "output_type": "stream",
     "text": [
      "Results summary\n",
      "Results in C:\\RunsOak\\8b-5\n",
      "Showing 1 best trials\n",
      "Objective(name='val_loss', direction='min')\n",
      "Trial summary\n",
      "Hyperparameters:\n",
      "units: 88\n",
      "filters: 160\n",
      "kernel_size: 2\n",
      "learning_rate: 0.001\n",
      "Score: 13.497985363006592\n"
     ]
    }
   ],
   "source": [
    "tuner5.results_summary(1)"
   ]
  },
  {
   "cell_type": "markdown",
   "metadata": {},
   "source": [
    "### Best Model"
   ]
  },
  {
   "cell_type": "code",
   "execution_count": 35,
   "metadata": {},
   "outputs": [],
   "source": [
    "best_hp5 = tuner5.get_best_hyperparameters()[0]\n",
    "model5 = tuner5.hypermodel.build(best_hp5)"
   ]
  },
  {
   "cell_type": "code",
   "execution_count": 36,
   "metadata": {},
   "outputs": [
    {
     "data": {
      "text/plain": [
       "['Best_HP/8b-5']"
      ]
     },
     "execution_count": 36,
     "metadata": {},
     "output_type": "execute_result"
    }
   ],
   "source": [
    "scaler_filename = \"Best_HP/8b-5\"\n",
    "joblib.dump(best_hp5, scaler_filename) "
   ]
  },
  {
   "cell_type": "code",
   "execution_count": 37,
   "metadata": {},
   "outputs": [
    {
     "name": "stdout",
     "output_type": "stream",
     "text": [
      "Model: \"model_1\"\n",
      "__________________________________________________________________________________________________\n",
      " Layer (type)                   Output Shape         Param #     Connected to                     \n",
      "==================================================================================================\n",
      " DeepInput (InputLayer)         [(None, 3, 5, 6, 1)  0           []                               \n",
      "                                ]                                                                 \n",
      "                                                                                                  \n",
      " WideInput (InputLayer)         [(None, 3, 3, 6)]    0           []                               \n",
      "                                                                                                  \n",
      " time_distributed_4 (TimeDistri  (None, 3, 4, 5, 160  800        ['DeepInput[0][0]']              \n",
      " buted)                         )                                                                 \n",
      "                                                                                                  \n",
      " time_distributed_3 (TimeDistri  (None, 3, 18)       0           ['WideInput[0][0]']              \n",
      " buted)                                                                                           \n",
      "                                                                                                  \n",
      " time_distributed_5 (TimeDistri  (None, 3, 3200)     0           ['time_distributed_4[0][0]']     \n",
      " buted)                                                                                           \n",
      "                                                                                                  \n",
      " bidirectional_1 (Bidirectional  (None, 3, 88)       75328       ['time_distributed_3[0][0]']     \n",
      " )                                                                                                \n",
      "                                                                                                  \n",
      " lstm_3 (LSTM)                  (None, 3, 88)        1157728     ['time_distributed_5[0][0]']     \n",
      "                                                                                                  \n",
      " concatenate_1 (Concatenate)    (None, 6, 88)        0           ['bidirectional_1[0][0]',        \n",
      "                                                                  'lstm_3[0][0]']                 \n",
      "                                                                                                  \n",
      " seq_self_attention_1 (SeqSelfA  (None, 6, 88)       5697        ['concatenate_1[0][0]']          \n",
      " ttention)                                                                                        \n",
      "                                                                                                  \n",
      " flatten_5 (Flatten)            (None, 528)          0           ['seq_self_attention_1[0][0]']   \n",
      "                                                                                                  \n",
      " output (Dense)                 (None, 6)            3174        ['flatten_5[0][0]']              \n",
      "                                                                                                  \n",
      "==================================================================================================\n",
      "Total params: 1,242,727\n",
      "Trainable params: 1,242,727\n",
      "Non-trainable params: 0\n",
      "__________________________________________________________________________________________________\n"
     ]
    }
   ],
   "source": [
    "model5.summary()"
   ]
  },
  {
   "cell_type": "code",
   "execution_count": 38,
   "metadata": {},
   "outputs": [
    {
     "name": "stdout",
     "output_type": "stream",
     "text": [
      "Epoch 1/100\n",
      "1539/1539 [==============================] - 20s 11ms/step - loss: 39.9376 - mean_absolute_error: 39.9376 - root_mean_squared_error: 68.0062 - mean_absolute_percentage_error: 44.4628\n",
      "Epoch 2/100\n",
      "1539/1539 [==============================] - 16s 11ms/step - loss: 16.7257 - mean_absolute_error: 16.7257 - root_mean_squared_error: 24.5715 - mean_absolute_percentage_error: 25.4230\n",
      "Epoch 3/100\n",
      "1539/1539 [==============================] - 16s 11ms/step - loss: 15.5892 - mean_absolute_error: 15.5892 - root_mean_squared_error: 22.9250 - mean_absolute_percentage_error: 23.3485\n",
      "Epoch 4/100\n",
      "1539/1539 [==============================] - 17s 11ms/step - loss: 14.8193 - mean_absolute_error: 14.8193 - root_mean_squared_error: 21.4277 - mean_absolute_percentage_error: 21.2493\n",
      "Epoch 5/100\n",
      "1539/1539 [==============================] - 16s 11ms/step - loss: 14.3123 - mean_absolute_error: 14.3123 - root_mean_squared_error: 20.5964 - mean_absolute_percentage_error: 20.0922\n",
      "Epoch 6/100\n",
      "1539/1539 [==============================] - 16s 11ms/step - loss: 13.9942 - mean_absolute_error: 13.9942 - root_mean_squared_error: 20.1173 - mean_absolute_percentage_error: 19.2925\n",
      "Epoch 7/100\n",
      "1539/1539 [==============================] - 16s 11ms/step - loss: 13.7906 - mean_absolute_error: 13.7906 - root_mean_squared_error: 19.8555 - mean_absolute_percentage_error: 18.7617\n",
      "Epoch 8/100\n",
      "1539/1539 [==============================] - 17s 11ms/step - loss: 13.6470 - mean_absolute_error: 13.6470 - root_mean_squared_error: 19.6810 - mean_absolute_percentage_error: 18.3831\n",
      "Epoch 9/100\n",
      "1539/1539 [==============================] - 16s 11ms/step - loss: 13.5346 - mean_absolute_error: 13.5346 - root_mean_squared_error: 19.5433 - mean_absolute_percentage_error: 18.0705\n",
      "Epoch 10/100\n",
      "1539/1539 [==============================] - 16s 11ms/step - loss: 13.4419 - mean_absolute_error: 13.4419 - root_mean_squared_error: 19.4332 - mean_absolute_percentage_error: 17.8193\n",
      "Epoch 11/100\n",
      "1539/1539 [==============================] - 16s 11ms/step - loss: 13.3773 - mean_absolute_error: 13.3773 - root_mean_squared_error: 19.3562 - mean_absolute_percentage_error: 17.6003\n",
      "Epoch 12/100\n",
      "1539/1539 [==============================] - 16s 11ms/step - loss: 13.3163 - mean_absolute_error: 13.3163 - root_mean_squared_error: 19.2862 - mean_absolute_percentage_error: 17.4628\n",
      "Epoch 13/100\n",
      "1539/1539 [==============================] - 16s 11ms/step - loss: 13.2488 - mean_absolute_error: 13.2488 - root_mean_squared_error: 19.1944 - mean_absolute_percentage_error: 17.3215\n",
      "Epoch 14/100\n",
      "1539/1539 [==============================] - 16s 11ms/step - loss: 13.1989 - mean_absolute_error: 13.1989 - root_mean_squared_error: 19.1640 - mean_absolute_percentage_error: 17.1424\n",
      "Epoch 15/100\n",
      "1539/1539 [==============================] - 17s 11ms/step - loss: 13.1642 - mean_absolute_error: 13.1642 - root_mean_squared_error: 19.1096 - mean_absolute_percentage_error: 17.0976\n",
      "Epoch 16/100\n",
      "1539/1539 [==============================] - 16s 11ms/step - loss: 13.1220 - mean_absolute_error: 13.1220 - root_mean_squared_error: 19.0499 - mean_absolute_percentage_error: 16.9714\n",
      "Epoch 17/100\n",
      "1539/1539 [==============================] - 16s 11ms/step - loss: 13.0815 - mean_absolute_error: 13.0815 - root_mean_squared_error: 19.0080 - mean_absolute_percentage_error: 16.9157\n",
      "Epoch 18/100\n",
      "1539/1539 [==============================] - 16s 11ms/step - loss: 13.0303 - mean_absolute_error: 13.0303 - root_mean_squared_error: 18.9418 - mean_absolute_percentage_error: 16.8086\n",
      "Epoch 19/100\n",
      "1539/1539 [==============================] - 16s 11ms/step - loss: 13.0065 - mean_absolute_error: 13.0065 - root_mean_squared_error: 18.9248 - mean_absolute_percentage_error: 16.7314\n",
      "Epoch 20/100\n",
      "1539/1539 [==============================] - 16s 11ms/step - loss: 12.9555 - mean_absolute_error: 12.9555 - root_mean_squared_error: 18.8572 - mean_absolute_percentage_error: 16.6760\n",
      "Epoch 21/100\n",
      "1539/1539 [==============================] - 16s 11ms/step - loss: 12.9436 - mean_absolute_error: 12.9436 - root_mean_squared_error: 18.8423 - mean_absolute_percentage_error: 16.6243\n",
      "Epoch 22/100\n",
      "1539/1539 [==============================] - 17s 11ms/step - loss: 12.9050 - mean_absolute_error: 12.9050 - root_mean_squared_error: 18.7985 - mean_absolute_percentage_error: 16.5319\n",
      "Epoch 23/100\n",
      "1539/1539 [==============================] - 16s 11ms/step - loss: 12.8770 - mean_absolute_error: 12.8770 - root_mean_squared_error: 18.7688 - mean_absolute_percentage_error: 16.5119\n",
      "Epoch 24/100\n",
      "1539/1539 [==============================] - 16s 11ms/step - loss: 12.8514 - mean_absolute_error: 12.8514 - root_mean_squared_error: 18.7531 - mean_absolute_percentage_error: 16.5020\n",
      "Epoch 25/100\n",
      "1539/1539 [==============================] - 16s 11ms/step - loss: 12.8202 - mean_absolute_error: 12.8202 - root_mean_squared_error: 18.7076 - mean_absolute_percentage_error: 16.4420\n",
      "Epoch 26/100\n",
      "1539/1539 [==============================] - 17s 11ms/step - loss: 12.7658 - mean_absolute_error: 12.7658 - root_mean_squared_error: 18.6412 - mean_absolute_percentage_error: 16.3217\n",
      "Epoch 27/100\n",
      "1539/1539 [==============================] - 16s 11ms/step - loss: 12.7503 - mean_absolute_error: 12.7503 - root_mean_squared_error: 18.6298 - mean_absolute_percentage_error: 16.2765\n",
      "Epoch 28/100\n",
      "1539/1539 [==============================] - 16s 11ms/step - loss: 12.7107 - mean_absolute_error: 12.7107 - root_mean_squared_error: 18.5666 - mean_absolute_percentage_error: 16.2798\n",
      "Epoch 29/100\n",
      "1539/1539 [==============================] - 16s 11ms/step - loss: 12.6660 - mean_absolute_error: 12.6660 - root_mean_squared_error: 18.5260 - mean_absolute_percentage_error: 16.1968\n",
      "Epoch 30/100\n",
      "1539/1539 [==============================] - 17s 11ms/step - loss: 12.6434 - mean_absolute_error: 12.6434 - root_mean_squared_error: 18.5029 - mean_absolute_percentage_error: 16.1749\n",
      "Epoch 31/100\n",
      "1539/1539 [==============================] - 16s 11ms/step - loss: 12.6161 - mean_absolute_error: 12.6161 - root_mean_squared_error: 18.4671 - mean_absolute_percentage_error: 16.1498\n",
      "Epoch 32/100\n",
      "1539/1539 [==============================] - 16s 11ms/step - loss: 12.5740 - mean_absolute_error: 12.5740 - root_mean_squared_error: 18.4132 - mean_absolute_percentage_error: 16.0857\n",
      "Epoch 33/100\n",
      "1539/1539 [==============================] - 16s 11ms/step - loss: 12.5525 - mean_absolute_error: 12.5525 - root_mean_squared_error: 18.3969 - mean_absolute_percentage_error: 16.0458\n",
      "Epoch 34/100\n",
      "1539/1539 [==============================] - 17s 11ms/step - loss: 12.5185 - mean_absolute_error: 12.5185 - root_mean_squared_error: 18.3479 - mean_absolute_percentage_error: 16.0328\n",
      "Epoch 35/100\n",
      "1539/1539 [==============================] - 16s 11ms/step - loss: 12.4777 - mean_absolute_error: 12.4777 - root_mean_squared_error: 18.3096 - mean_absolute_percentage_error: 15.9689\n",
      "Epoch 36/100\n",
      "1539/1539 [==============================] - 16s 11ms/step - loss: 12.4381 - mean_absolute_error: 12.4381 - root_mean_squared_error: 18.2620 - mean_absolute_percentage_error: 15.9292\n",
      "Epoch 37/100\n",
      "1539/1539 [==============================] - 17s 11ms/step - loss: 12.4014 - mean_absolute_error: 12.4014 - root_mean_squared_error: 18.2166 - mean_absolute_percentage_error: 15.8935\n",
      "Epoch 38/100\n",
      "1539/1539 [==============================] - 16s 11ms/step - loss: 12.3687 - mean_absolute_error: 12.3687 - root_mean_squared_error: 18.1900 - mean_absolute_percentage_error: 15.8667\n",
      "Epoch 39/100\n",
      "1539/1539 [==============================] - 16s 11ms/step - loss: 12.3290 - mean_absolute_error: 12.3290 - root_mean_squared_error: 18.1342 - mean_absolute_percentage_error: 15.8540\n",
      "Epoch 40/100\n",
      "1539/1539 [==============================] - 16s 11ms/step - loss: 12.2973 - mean_absolute_error: 12.2973 - root_mean_squared_error: 18.0971 - mean_absolute_percentage_error: 15.8042\n",
      "Epoch 41/100\n",
      "1539/1539 [==============================] - 16s 11ms/step - loss: 12.2454 - mean_absolute_error: 12.2454 - root_mean_squared_error: 18.0468 - mean_absolute_percentage_error: 15.7644\n",
      "Epoch 42/100\n",
      "1539/1539 [==============================] - 16s 11ms/step - loss: 12.2210 - mean_absolute_error: 12.2210 - root_mean_squared_error: 18.0030 - mean_absolute_percentage_error: 15.7131\n",
      "Epoch 43/100\n",
      "1539/1539 [==============================] - 16s 11ms/step - loss: 12.1711 - mean_absolute_error: 12.1711 - root_mean_squared_error: 17.9603 - mean_absolute_percentage_error: 15.6853\n",
      "Epoch 44/100\n",
      "1539/1539 [==============================] - 17s 11ms/step - loss: 12.1356 - mean_absolute_error: 12.1356 - root_mean_squared_error: 17.9142 - mean_absolute_percentage_error: 15.6678\n",
      "Epoch 45/100\n",
      "1539/1539 [==============================] - 16s 11ms/step - loss: 12.0867 - mean_absolute_error: 12.0867 - root_mean_squared_error: 17.8671 - mean_absolute_percentage_error: 15.5981\n",
      "Epoch 46/100\n",
      "1539/1539 [==============================] - 16s 11ms/step - loss: 12.0649 - mean_absolute_error: 12.0649 - root_mean_squared_error: 17.8379 - mean_absolute_percentage_error: 15.5562\n",
      "Epoch 47/100\n",
      "1539/1539 [==============================] - 16s 11ms/step - loss: 12.0092 - mean_absolute_error: 12.0092 - root_mean_squared_error: 17.7604 - mean_absolute_percentage_error: 15.5498\n",
      "Epoch 48/100\n",
      "1539/1539 [==============================] - 16s 11ms/step - loss: 11.9814 - mean_absolute_error: 11.9814 - root_mean_squared_error: 17.7315 - mean_absolute_percentage_error: 15.50653s - loss: 11.9772 - mean_absolute_error: 11.9772 - root_mean_squared_error: 17.7105 - mean_absolute_percentage_error: 1 - ETA: 3s - loss: 11.9734 - ETA: 0s - loss: 11.9936 - mean_absolute_error: 11.9936 - root_mean_squared_error: 17.7492 - mean_absolute_percentage_\n",
      "Epoch 49/100\n",
      "1539/1539 [==============================] - 16s 11ms/step - loss: 11.9171 - mean_absolute_error: 11.9171 - root_mean_squared_error: 17.6685 - mean_absolute_percentage_error: 15.4250\n",
      "Epoch 50/100\n",
      "1539/1539 [==============================] - 16s 11ms/step - loss: 11.8923 - mean_absolute_error: 11.8923 - root_mean_squared_error: 17.6304 - mean_absolute_percentage_error: 15.4088\n",
      "Epoch 51/100\n",
      "1539/1539 [==============================] - 16s 11ms/step - loss: 11.8525 - mean_absolute_error: 11.8525 - root_mean_squared_error: 17.5849 - mean_absolute_percentage_error: 15.3972\n",
      "Epoch 52/100\n",
      "1539/1539 [==============================] - 18s 12ms/step - loss: 11.7999 - mean_absolute_error: 11.7999 - root_mean_squared_error: 17.5250 - mean_absolute_percentage_error: 15.3242\n",
      "Epoch 53/100\n",
      "1539/1539 [==============================] - 17s 11ms/step - loss: 11.7748 - mean_absolute_error: 11.7748 - root_mean_squared_error: 17.4938 - mean_absolute_percentage_error: 15.3085\n",
      "Epoch 54/100\n",
      "1539/1539 [==============================] - 17s 11ms/step - loss: 11.7193 - mean_absolute_error: 11.7193 - root_mean_squared_error: 17.4251 - mean_absolute_percentage_error: 15.2465\n",
      "Epoch 55/100\n",
      "1539/1539 [==============================] - 17s 11ms/step - loss: 11.6890 - mean_absolute_error: 11.6890 - root_mean_squared_error: 17.3881 - mean_absolute_percentage_error: 15.2506\n",
      "Epoch 56/100\n",
      "1539/1539 [==============================] - 17s 11ms/step - loss: 11.6436 - mean_absolute_error: 11.6436 - root_mean_squared_error: 17.3371 - mean_absolute_percentage_error: 15.2041\n",
      "Epoch 57/100\n",
      "1539/1539 [==============================] - 17s 11ms/step - loss: 11.5930 - mean_absolute_error: 11.5930 - root_mean_squared_error: 17.2756 - mean_absolute_percentage_error: 15.1429\n",
      "Epoch 58/100\n",
      "1539/1539 [==============================] - 16s 11ms/step - loss: 11.5541 - mean_absolute_error: 11.5541 - root_mean_squared_error: 17.2246 - mean_absolute_percentage_error: 15.1073\n",
      "Epoch 59/100\n",
      "1539/1539 [==============================] - 17s 11ms/step - loss: 11.5206 - mean_absolute_error: 11.5206 - root_mean_squared_error: 17.1784 - mean_absolute_percentage_error: 15.11252s - loss: 11.5098 - mean_absolute_error: 11.5098 - root_mea\n",
      "Epoch 60/100\n",
      "1539/1539 [==============================] - 16s 11ms/step - loss: 11.4677 - mean_absolute_error: 11.4677 - root_mean_squared_error: 17.1175 - mean_absolute_percentage_error: 15.0345\n",
      "Epoch 61/100\n",
      "1539/1539 [==============================] - 16s 11ms/step - loss: 11.4325 - mean_absolute_error: 11.4325 - root_mean_squared_error: 17.0885 - mean_absolute_percentage_error: 14.9778\n",
      "Epoch 62/100\n",
      "1539/1539 [==============================] - 16s 11ms/step - loss: 11.3898 - mean_absolute_error: 11.3898 - root_mean_squared_error: 17.0223 - mean_absolute_percentage_error: 14.9787\n",
      "Epoch 63/100\n",
      "1539/1539 [==============================] - 16s 11ms/step - loss: 11.3553 - mean_absolute_error: 11.3553 - root_mean_squared_error: 16.9817 - mean_absolute_percentage_error: 14.9195\n",
      "Epoch 64/100\n",
      "1539/1539 [==============================] - 16s 11ms/step - loss: 11.3154 - mean_absolute_error: 11.3154 - root_mean_squared_error: 16.9220 - mean_absolute_percentage_error: 14.9105\n",
      "Epoch 65/100\n",
      "1539/1539 [==============================] - 16s 11ms/step - loss: 11.2676 - mean_absolute_error: 11.2676 - root_mean_squared_error: 16.8759 - mean_absolute_percentage_error: 14.8770\n",
      "Epoch 66/100\n",
      "1539/1539 [==============================] - 17s 11ms/step - loss: 11.2407 - mean_absolute_error: 11.2407 - root_mean_squared_error: 16.8403 - mean_absolute_percentage_error: 14.8421\n",
      "Epoch 67/100\n",
      "1539/1539 [==============================] - 16s 11ms/step - loss: 11.1744 - mean_absolute_error: 11.1744 - root_mean_squared_error: 16.7615 - mean_absolute_percentage_error: 14.7749\n",
      "Epoch 68/100\n",
      "1539/1539 [==============================] - 16s 11ms/step - loss: 11.1426 - mean_absolute_error: 11.1426 - root_mean_squared_error: 16.7134 - mean_absolute_percentage_error: 14.7689\n",
      "Epoch 69/100\n",
      "1539/1539 [==============================] - 16s 11ms/step - loss: 11.0949 - mean_absolute_error: 11.0949 - root_mean_squared_error: 16.6521 - mean_absolute_percentage_error: 14.7262\n",
      "Epoch 70/100\n",
      "1539/1539 [==============================] - 16s 11ms/step - loss: 11.0554 - mean_absolute_error: 11.0554 - root_mean_squared_error: 16.6079 - mean_absolute_percentage_error: 14.6956\n",
      "Epoch 71/100\n",
      "1539/1539 [==============================] - 16s 11ms/step - loss: 11.0150 - mean_absolute_error: 11.0150 - root_mean_squared_error: 16.5532 - mean_absolute_percentage_error: 14.6597\n",
      "Epoch 72/100\n",
      "1539/1539 [==============================] - 16s 11ms/step - loss: 10.9745 - mean_absolute_error: 10.9745 - root_mean_squared_error: 16.5145 - mean_absolute_percentage_error: 14.5856\n",
      "Epoch 73/100\n",
      "1539/1539 [==============================] - 16s 11ms/step - loss: 10.9368 - mean_absolute_error: 10.9368 - root_mean_squared_error: 16.4666 - mean_absolute_percentage_error: 14.55642s - loss: 10.9341 - mean_absolute_e\n",
      "Epoch 74/100\n",
      "1539/1539 [==============================] - 16s 11ms/step - loss: 10.9089 - mean_absolute_error: 10.9089 - root_mean_squared_error: 16.4126 - mean_absolute_percentage_error: 14.5478\n",
      "Epoch 75/100\n",
      "1539/1539 [==============================] - 17s 11ms/step - loss: 10.8599 - mean_absolute_error: 10.8599 - root_mean_squared_error: 16.3605 - mean_absolute_percentage_error: 14.5201\n",
      "Epoch 76/100\n",
      "1539/1539 [==============================] - 16s 11ms/step - loss: 10.8245 - mean_absolute_error: 10.8245 - root_mean_squared_error: 16.3101 - mean_absolute_percentage_error: 14.5037\n",
      "Epoch 77/100\n",
      "1539/1539 [==============================] - 16s 11ms/step - loss: 10.7790 - mean_absolute_error: 10.7790 - root_mean_squared_error: 16.2542 - mean_absolute_percentage_error: 14.4528\n",
      "Epoch 78/100\n",
      "1539/1539 [==============================] - 16s 11ms/step - loss: 10.7429 - mean_absolute_error: 10.7429 - root_mean_squared_error: 16.2122 - mean_absolute_percentage_error: 14.4406\n",
      "Epoch 79/100\n",
      "1539/1539 [==============================] - 16s 11ms/step - loss: 10.7048 - mean_absolute_error: 10.7048 - root_mean_squared_error: 16.1627 - mean_absolute_percentage_error: 14.3954\n",
      "Epoch 80/100\n",
      "1539/1539 [==============================] - 16s 11ms/step - loss: 10.6655 - mean_absolute_error: 10.6655 - root_mean_squared_error: 16.1107 - mean_absolute_percentage_error: 14.3426\n",
      "Epoch 81/100\n"
     ]
    },
    {
     "name": "stdout",
     "output_type": "stream",
     "text": [
      "1539/1539 [==============================] - 16s 11ms/step - loss: 10.6368 - mean_absolute_error: 10.6368 - root_mean_squared_error: 16.0705 - mean_absolute_percentage_error: 14.2885\n",
      "Epoch 82/100\n",
      "1539/1539 [==============================] - 17s 11ms/step - loss: 10.5881 - mean_absolute_error: 10.5881 - root_mean_squared_error: 16.0128 - mean_absolute_percentage_error: 14.2796\n",
      "Epoch 83/100\n",
      "1539/1539 [==============================] - 16s 11ms/step - loss: 10.5525 - mean_absolute_error: 10.5525 - root_mean_squared_error: 15.9660 - mean_absolute_percentage_error: 14.2274\n",
      "Epoch 84/100\n",
      "1539/1539 [==============================] - 16s 11ms/step - loss: 10.5067 - mean_absolute_error: 10.5067 - root_mean_squared_error: 15.9064 - mean_absolute_percentage_error: 14.2030\n",
      "Epoch 85/100\n",
      "1539/1539 [==============================] - 16s 11ms/step - loss: 10.4756 - mean_absolute_error: 10.4756 - root_mean_squared_error: 15.8571 - mean_absolute_percentage_error: 14.1760\n",
      "Epoch 86/100\n",
      "1539/1539 [==============================] - 16s 11ms/step - loss: 10.4501 - mean_absolute_error: 10.4501 - root_mean_squared_error: 15.8222 - mean_absolute_percentage_error: 14.1330\n",
      "Epoch 87/100\n",
      "1539/1539 [==============================] - 16s 11ms/step - loss: 10.4072 - mean_absolute_error: 10.4072 - root_mean_squared_error: 15.7715 - mean_absolute_percentage_error: 14.1257\n",
      "Epoch 88/100\n",
      "1539/1539 [==============================] - 16s 11ms/step - loss: 10.3624 - mean_absolute_error: 10.3624 - root_mean_squared_error: 15.7203 - mean_absolute_percentage_error: 14.0850\n",
      "Epoch 89/100\n",
      "1539/1539 [==============================] - 16s 11ms/step - loss: 10.3462 - mean_absolute_error: 10.3462 - root_mean_squared_error: 15.6847 - mean_absolute_percentage_error: 14.0892\n",
      "Epoch 90/100\n",
      "1539/1539 [==============================] - 17s 11ms/step - loss: 10.2995 - mean_absolute_error: 10.2995 - root_mean_squared_error: 15.6290 - mean_absolute_percentage_error: 14.0418\n",
      "Epoch 91/100\n",
      "1539/1539 [==============================] - 16s 11ms/step - loss: 10.2730 - mean_absolute_error: 10.2730 - root_mean_squared_error: 15.5970 - mean_absolute_percentage_error: 14.0051\n",
      "Epoch 92/100\n",
      "1539/1539 [==============================] - 16s 11ms/step - loss: 10.2415 - mean_absolute_error: 10.2415 - root_mean_squared_error: 15.5494 - mean_absolute_percentage_error: 13.9691\n",
      "Epoch 93/100\n",
      "1539/1539 [==============================] - 16s 11ms/step - loss: 10.1945 - mean_absolute_error: 10.1945 - root_mean_squared_error: 15.5011 - mean_absolute_percentage_error: 13.9393\n",
      "Epoch 94/100\n",
      "1539/1539 [==============================] - 16s 11ms/step - loss: 10.1564 - mean_absolute_error: 10.1564 - root_mean_squared_error: 15.4367 - mean_absolute_percentage_error: 13.9180\n",
      "Epoch 95/100\n",
      "1539/1539 [==============================] - 16s 11ms/step - loss: 10.1281 - mean_absolute_error: 10.1281 - root_mean_squared_error: 15.3965 - mean_absolute_percentage_error: 13.8824\n",
      "Epoch 96/100\n",
      "1539/1539 [==============================] - 16s 11ms/step - loss: 10.0998 - mean_absolute_error: 10.0998 - root_mean_squared_error: 15.3731 - mean_absolute_percentage_error: 13.8709\n",
      "Epoch 97/100\n",
      "1539/1539 [==============================] - 17s 11ms/step - loss: 10.0647 - mean_absolute_error: 10.0647 - root_mean_squared_error: 15.3175 - mean_absolute_percentage_error: 13.8037\n",
      "Epoch 98/100\n",
      "1539/1539 [==============================] - 16s 11ms/step - loss: 10.0388 - mean_absolute_error: 10.0388 - root_mean_squared_error: 15.2808 - mean_absolute_percentage_error: 13.7970\n",
      "Epoch 99/100\n",
      "1539/1539 [==============================] - 16s 11ms/step - loss: 9.9967 - mean_absolute_error: 9.9967 - root_mean_squared_error: 15.2244 - mean_absolute_percentage_error: 13.7544\n",
      "Epoch 100/100\n",
      "1539/1539 [==============================] - 16s 11ms/step - loss: 9.9686 - mean_absolute_error: 9.9686 - root_mean_squared_error: 15.1962 - mean_absolute_percentage_error: 13.7492\n"
     ]
    },
    {
     "data": {
      "text/plain": [
       "<keras.callbacks.History at 0x1c4ba7e6760>"
      ]
     },
     "execution_count": 38,
     "metadata": {},
     "output_type": "execute_result"
    }
   ],
   "source": [
    "model5.fit((Wt5,Xt5), yt5, \n",
    "           epochs = 100, \n",
    "           verbose = 1)"
   ]
  },
  {
   "cell_type": "code",
   "execution_count": 39,
   "metadata": {},
   "outputs": [
    {
     "name": "stderr",
     "output_type": "stream",
     "text": [
      "WARNING:absl:Function `_wrapped_model` contains input name(s) WideInput, DeepInput with unsupported characters which will be renamed to wideinput, deepinput in the SavedModel.\n",
      "WARNING:absl:Found untraced functions such as lstm_cell_7_layer_call_fn, lstm_cell_7_layer_call_and_return_conditional_losses, lstm_cell_5_layer_call_fn, lstm_cell_5_layer_call_and_return_conditional_losses, lstm_cell_6_layer_call_fn while saving (showing 5 of 15). These functions will not be directly callable after loading.\n"
     ]
    },
    {
     "name": "stdout",
     "output_type": "stream",
     "text": [
      "INFO:tensorflow:Assets written to: my_dir/8b-5\\assets\n"
     ]
    },
    {
     "name": "stderr",
     "output_type": "stream",
     "text": [
      "INFO:tensorflow:Assets written to: my_dir/8b-5\\assets\n",
      "WARNING:absl:<keras.layers.recurrent.LSTMCell object at 0x000001C4AEE710A0> has the same name 'LSTMCell' as a built-in Keras object. Consider renaming <class 'keras.layers.recurrent.LSTMCell'> to avoid naming conflicts when loading with `tf.keras.models.load_model`. If renaming is not possible, pass the object in the `custom_objects` parameter of the load function.\n",
      "WARNING:absl:<keras.layers.recurrent.LSTMCell object at 0x000001C4A48BB850> has the same name 'LSTMCell' as a built-in Keras object. Consider renaming <class 'keras.layers.recurrent.LSTMCell'> to avoid naming conflicts when loading with `tf.keras.models.load_model`. If renaming is not possible, pass the object in the `custom_objects` parameter of the load function.\n",
      "WARNING:absl:<keras.layers.recurrent.LSTMCell object at 0x000001C4A48BB490> has the same name 'LSTMCell' as a built-in Keras object. Consider renaming <class 'keras.layers.recurrent.LSTMCell'> to avoid naming conflicts when loading with `tf.keras.models.load_model`. If renaming is not possible, pass the object in the `custom_objects` parameter of the load function.\n"
     ]
    }
   ],
   "source": [
    "model5.save(\"my_dir/8b-5\")"
   ]
  },
  {
   "cell_type": "code",
   "execution_count": 40,
   "metadata": {},
   "outputs": [],
   "source": [
    "metrics5 = pd.DataFrame(model5.history.history)"
   ]
  },
  {
   "cell_type": "code",
   "execution_count": 41,
   "metadata": {},
   "outputs": [
    {
     "data": {
      "text/plain": [
       "<AxesSubplot:>"
      ]
     },
     "execution_count": 41,
     "metadata": {},
     "output_type": "execute_result"
    },
    {
     "data": {
      "image/png": "[encoded data removed]",
      "text/plain": [
       "<Figure size 432x288 with 1 Axes>"
      ]
     },
     "metadata": {
      "needs_background": "light"
     },
     "output_type": "display_data"
    }
   ],
   "source": [
    "metrics5[['loss']].plot()"
   ]
  },
  {
   "cell_type": "code",
   "execution_count": 33,
   "metadata": {},
   "outputs": [],
   "source": [
    "model5 = keras.models.load_model(\"my_dir/8b-5\") "
   ]
  },
  {
   "cell_type": "code",
   "execution_count": 34,
   "metadata": {},
   "outputs": [
    {
     "data": {
      "text/plain": [
       "array([[ 29.449139 ,  17.443388 ,  24.427925 ,  72.8606   ,  29.999266 ,\n",
       "          5.171674 ],\n",
       "       [ 29.731272 ,  18.11526  ,  26.211586 ,  77.20301  ,  31.163206 ,\n",
       "          6.198778 ],\n",
       "       [ 29.235147 ,  17.553263 ,  22.993195 ,  71.809456 ,  27.462847 ,\n",
       "          5.3308945],\n",
       "       ...,\n",
       "       [ 43.448788 ,  39.50941  ,  60.61557  , 106.984215 ,  50.810806 ,\n",
       "         18.68334  ],\n",
       "       [ 42.79888  ,  39.55882  ,  50.152847 ,  97.07196  ,  43.711212 ,\n",
       "          8.825221 ],\n",
       "       [ 42.71675  ,  42.6231   ,  57.070206 , 101.623215 ,  44.937283 ,\n",
       "         11.293179 ]], dtype=float32)"
      ]
     },
     "execution_count": 34,
     "metadata": {},
     "output_type": "execute_result"
    }
   ],
   "source": [
    "model5.predict((Wv5,Xv5))"
   ]
  },
  {
   "cell_type": "markdown",
   "metadata": {},
   "source": [
    "### Evaluation on inverse_transform"
   ]
  },
  {
   "cell_type": "code",
   "execution_count": null,
   "metadata": {},
   "outputs": [],
   "source": [
    "test_predictions5 = model5.predict((Wv5,Xv5))\n",
    "\n",
    "\n",
    "MSE5 = mean_squared_error(yv5,test_predictions5)\n",
    "\n",
    "MAE5 = mean_absolute_error(yv5,test_predictions5)\n",
    "\n",
    "RMSE5 = np.sqrt(MSE5)\n",
    "\n",
    "MAPE5 = mean_absolute_percentage_error(yv5,test_predictions5)*100\n",
    "\n",
    "eval5 = [MSE5, MAE5, RMSE5, MAPE5]\n",
    "print(eval5)"
   ]
  },
  {
   "cell_type": "code",
   "execution_count": null,
   "metadata": {},
   "outputs": [],
   "source": [
    "GEH, count = ga.GEH(np.asarray(yv5), np.asarray(test_predictions5))\n",
    "GEH5 = count/GEH.size\n",
    "print(GEH5)"
   ]
  },
  {
   "cell_type": "markdown",
   "metadata": {},
   "source": [
    "# 15 mins ahead"
   ]
  },
  {
   "cell_type": "code",
   "execution_count": 37,
   "metadata": {},
   "outputs": [],
   "source": [
    "def build_model_15(hp):\n",
    "    # Inputs\n",
    "    channel_Wide = keras.layers.Input(shape=Wt15.shape[1:], name=\"WideInput\")\n",
    "    channel_Deep = keras.layers.Input(shape=Xt15.shape[1:], name=\"DeepInput\")\n",
    "    units = hp.Int(\"units\", min_value=1, max_value=100, step=1)\n",
    "    \n",
    "    \n",
    "    # Wide Model\n",
    "    flatten_15w = keras.layers.TimeDistributed(keras.layers.Flatten())(channel_Wide)\n",
    "    Bi_15 = keras.layers.Bidirectional(\n",
    "        keras.layers.LSTM(units=units, return_sequences=True),\n",
    "        merge_mode=\"ave\"\n",
    "    )(flatten_15w)\n",
    "    \n",
    "    \n",
    "    # Deep Model\n",
    "    # CNN \n",
    "    CNN_15 = keras.layers.TimeDistributed(\n",
    "        keras.layers.Conv2D(filters=hp.Int(\"filters\", min_value=32, max_value=512, step=32),\n",
    "                            kernel_size=hp.Choice(\"kernel_size\", [2, 3]), activation='relu'))(channel_Deep)\n",
    "    flatten_15 = keras.layers.TimeDistributed(keras.layers.Flatten())(CNN_15)\n",
    "    # LSTM          \n",
    "    LSTM_15 = keras.layers.LSTM(units=units, return_sequences=True)(flatten_15)\n",
    "\n",
    "    \n",
    "    # Concatenation \n",
    "    concat = keras.layers.concatenate([Bi_15, LSTM_15], axis=1)\n",
    "\n",
    "    # Attention\n",
    "    Att_15 = SeqSelfAttention(attention_activation='sigmoid')(concat)\n",
    "    merge = keras.layers.Flatten()(Att_15)\n",
    "\n",
    "    \n",
    "    # Output\n",
    "    output = keras.layers.Dense(n_features, name= \"output\")(merge)\n",
    "    \n",
    "    # Model\n",
    "    model_15 = keras.Model(inputs=[channel_Wide,channel_Deep], outputs=[output])\n",
    "\n",
    "    # Compile\n",
    "    model_15.compile(optimizer=keras.optimizers.Adam(hp.Choice(\"learning_rate\", [1e-2, 1e-3, 1e-4])), \n",
    "        loss=\"mae\", metrics=['MeanAbsoluteError','RootMeanSquaredError','MeanAbsolutePercentageError'])\n",
    "                    \n",
    "    return model_15"
   ]
  },
  {
   "cell_type": "code",
   "execution_count": 38,
   "metadata": {},
   "outputs": [
    {
     "name": "stdout",
     "output_type": "stream",
     "text": [
      "INFO:tensorflow:Reloading Oracle from existing project C:\\RunsOak\\8b-15\\oracle.json\n",
      "INFO:tensorflow:Reloading Tuner from C:\\RunsOak\\8b-15\\tuner0.json\n"
     ]
    }
   ],
   "source": [
    "tuner15 = RandomSearch(\n",
    "    build_model_15,\n",
    "    objective=\"val_loss\",\n",
    "    max_trials=60,\n",
    "    executions_per_trial=2,\n",
    "    overwrite=False,\n",
    "    directory=os.path.normpath('C:/RunsOak'),\n",
    "    project_name=\"8b-15\",\n",
    ")"
   ]
  },
  {
   "cell_type": "code",
   "execution_count": 39,
   "metadata": {},
   "outputs": [
    {
     "name": "stdout",
     "output_type": "stream",
     "text": [
      "Search space summary\n",
      "Default search space size: 4\n",
      "units (Int)\n",
      "{'default': None, 'conditions': [], 'min_value': 1, 'max_value': 100, 'step': 1, 'sampling': None}\n",
      "filters (Int)\n",
      "{'default': None, 'conditions': [], 'min_value': 32, 'max_value': 512, 'step': 32, 'sampling': None}\n",
      "kernel_size (Choice)\n",
      "{'default': 2, 'conditions': [], 'values': [2, 3], 'ordered': True}\n",
      "learning_rate (Choice)\n",
      "{'default': 0.01, 'conditions': [], 'values': [0.01, 0.001, 0.0001], 'ordered': True}\n"
     ]
    }
   ],
   "source": [
    "tuner15.search_space_summary()"
   ]
  },
  {
   "cell_type": "code",
   "execution_count": 49,
   "metadata": {},
   "outputs": [
    {
     "name": "stdout",
     "output_type": "stream",
     "text": [
      "Trial 60 Complete [00h 15m 46s]\n",
      "val_loss: 15.760492324829102\n",
      "\n",
      "Best val_loss So Far: 14.443315505981445\n",
      "Total elapsed time: 09h 12m 17s\n",
      "INFO:tensorflow:Oracle triggered exit\n"
     ]
    },
    {
     "name": "stderr",
     "output_type": "stream",
     "text": [
      "INFO:tensorflow:Oracle triggered exit\n"
     ]
    }
   ],
   "source": [
    "tuner15.search((Wt15,Xt15), yt15, epochs=200,\n",
    "            validation_split = val_percent,\n",
    "            callbacks=[early_stop], \n",
    "            verbose=2)"
   ]
  },
  {
   "cell_type": "code",
   "execution_count": 50,
   "metadata": {},
   "outputs": [
    {
     "name": "stdout",
     "output_type": "stream",
     "text": [
      "Results summary\n",
      "Results in C:\\RunsOak\\8b-15\n",
      "Showing 1 best trials\n",
      "Objective(name='val_loss', direction='min')\n",
      "Trial summary\n",
      "Hyperparameters:\n",
      "units: 99\n",
      "filters: 256\n",
      "kernel_size: 2\n",
      "learning_rate: 0.001\n",
      "Score: 14.443315505981445\n"
     ]
    }
   ],
   "source": [
    "tuner15.results_summary(1)"
   ]
  },
  {
   "cell_type": "markdown",
   "metadata": {},
   "source": [
    "### Best model"
   ]
  },
  {
   "cell_type": "code",
   "execution_count": 51,
   "metadata": {},
   "outputs": [],
   "source": [
    "best_hp15 = tuner15.get_best_hyperparameters()[0]\n",
    "model15 = tuner15.hypermodel.build(best_hp15)"
   ]
  },
  {
   "cell_type": "code",
   "execution_count": 52,
   "metadata": {},
   "outputs": [
    {
     "data": {
      "text/plain": [
       "['Best_HP/8b-15']"
      ]
     },
     "execution_count": 52,
     "metadata": {},
     "output_type": "execute_result"
    }
   ],
   "source": [
    "scaler_filename = \"Best_HP/8b-15\"\n",
    "joblib.dump(best_hp15, scaler_filename) "
   ]
  },
  {
   "cell_type": "code",
   "execution_count": 53,
   "metadata": {},
   "outputs": [
    {
     "name": "stdout",
     "output_type": "stream",
     "text": [
      "Model: \"model_1\"\n",
      "__________________________________________________________________________________________________\n",
      " Layer (type)                   Output Shape         Param #     Connected to                     \n",
      "==================================================================================================\n",
      " DeepInput (InputLayer)         [(None, 3, 5, 6, 1)  0           []                               \n",
      "                                ]                                                                 \n",
      "                                                                                                  \n",
      " WideInput (InputLayer)         [(None, 3, 3, 6)]    0           []                               \n",
      "                                                                                                  \n",
      " time_distributed_4 (TimeDistri  (None, 3, 4, 5, 256  1280       ['DeepInput[0][0]']              \n",
      " buted)                         )                                                                 \n",
      "                                                                                                  \n",
      " time_distributed_3 (TimeDistri  (None, 3, 18)       0           ['WideInput[0][0]']              \n",
      " buted)                                                                                           \n",
      "                                                                                                  \n",
      " time_distributed_5 (TimeDistri  (None, 3, 5120)     0           ['time_distributed_4[0][0]']     \n",
      " buted)                                                                                           \n",
      "                                                                                                  \n",
      " bidirectional_1 (Bidirectional  (None, 3, 99)       93456       ['time_distributed_3[0][0]']     \n",
      " )                                                                                                \n",
      "                                                                                                  \n",
      " lstm_3 (LSTM)                  (None, 3, 99)        2067120     ['time_distributed_5[0][0]']     \n",
      "                                                                                                  \n",
      " concatenate_1 (Concatenate)    (None, 6, 99)        0           ['bidirectional_1[0][0]',        \n",
      "                                                                  'lstm_3[0][0]']                 \n",
      "                                                                                                  \n",
      " seq_self_attention_1 (SeqSelfA  (None, 6, 99)       6401        ['concatenate_1[0][0]']          \n",
      " ttention)                                                                                        \n",
      "                                                                                                  \n",
      " flatten_5 (Flatten)            (None, 594)          0           ['seq_self_attention_1[0][0]']   \n",
      "                                                                                                  \n",
      " output (Dense)                 (None, 6)            3570        ['flatten_5[0][0]']              \n",
      "                                                                                                  \n",
      "==================================================================================================\n",
      "Total params: 2,171,827\n",
      "Trainable params: 2,171,827\n",
      "Non-trainable params: 0\n",
      "__________________________________________________________________________________________________\n"
     ]
    }
   ],
   "source": [
    "model15.summary()"
   ]
  },
  {
   "cell_type": "code",
   "execution_count": 54,
   "metadata": {},
   "outputs": [
    {
     "name": "stdout",
     "output_type": "stream",
     "text": [
      "Epoch 1/100\n",
      "1539/1539 [==============================] - 50s 29ms/step - loss: 38.7354 - mean_absolute_error: 38.7354 - root_mean_squared_error: 65.6220 - mean_absolute_percentage_error: 45.7740\n",
      "Epoch 2/100\n",
      "1539/1539 [==============================] - 45s 29ms/step - loss: 17.6941 - mean_absolute_error: 17.6941 - root_mean_squared_error: 25.8648 - mean_absolute_percentage_error: 26.6499\n",
      "Epoch 3/100\n",
      "1539/1539 [==============================] - 45s 29ms/step - loss: 16.6055 - mean_absolute_error: 16.6055 - root_mean_squared_error: 24.3123 - mean_absolute_percentage_error: 24.3932\n",
      "Epoch 4/100\n",
      "1539/1539 [==============================] - 45s 29ms/step - loss: 15.9047 - mean_absolute_error: 15.9047 - root_mean_squared_error: 23.0029 - mean_absolute_percentage_error: 22.7868\n",
      "Epoch 5/100\n",
      "1539/1539 [==============================] - 45s 29ms/step - loss: 15.4521 - mean_absolute_error: 15.4521 - root_mean_squared_error: 22.2759 - mean_absolute_percentage_error: 21.5961\n",
      "Epoch 6/100\n",
      "1539/1539 [==============================] - 45s 29ms/step - loss: 15.1599 - mean_absolute_error: 15.1599 - root_mean_squared_error: 21.8389 - mean_absolute_percentage_error: 20.9283\n",
      "Epoch 7/100\n",
      "1539/1539 [==============================] - 45s 29ms/step - loss: 14.9452 - mean_absolute_error: 14.9452 - root_mean_squared_error: 21.5519 - mean_absolute_percentage_error: 20.4743\n",
      "Epoch 8/100\n",
      "1539/1539 [==============================] - 45s 29ms/step - loss: 14.7533 - mean_absolute_error: 14.7533 - root_mean_squared_error: 21.3349 - mean_absolute_percentage_error: 20.0285\n",
      "Epoch 9/100\n",
      "1539/1539 [==============================] - 45s 29ms/step - loss: 14.6122 - mean_absolute_error: 14.6122 - root_mean_squared_error: 21.1659 - mean_absolute_percentage_error: 19.7073\n",
      "Epoch 10/100\n",
      "1539/1539 [==============================] - 45s 29ms/step - loss: 14.4779 - mean_absolute_error: 14.4779 - root_mean_squared_error: 21.0066 - mean_absolute_percentage_error: 19.4783\n",
      "Epoch 11/100\n",
      "1539/1539 [==============================] - 45s 29ms/step - loss: 14.4106 - mean_absolute_error: 14.4106 - root_mean_squared_error: 20.9265 - mean_absolute_percentage_error: 19.3204\n",
      "Epoch 12/100\n",
      "1539/1539 [==============================] - 45s 29ms/step - loss: 14.3453 - mean_absolute_error: 14.3453 - root_mean_squared_error: 20.8600 - mean_absolute_percentage_error: 19.1714\n",
      "Epoch 13/100\n",
      "1539/1539 [==============================] - 45s 29ms/step - loss: 14.2771 - mean_absolute_error: 14.2771 - root_mean_squared_error: 20.7793 - mean_absolute_percentage_error: 19.0314\n",
      "Epoch 14/100\n",
      "1539/1539 [==============================] - 45s 29ms/step - loss: 14.2019 - mean_absolute_error: 14.2019 - root_mean_squared_error: 20.6985 - mean_absolute_percentage_error: 18.8367\n",
      "Epoch 15/100\n",
      "1539/1539 [==============================] - 45s 29ms/step - loss: 14.1532 - mean_absolute_error: 14.1532 - root_mean_squared_error: 20.6620 - mean_absolute_percentage_error: 18.7269\n",
      "Epoch 16/100\n",
      "1539/1539 [==============================] - 45s 29ms/step - loss: 14.0977 - mean_absolute_error: 14.0977 - root_mean_squared_error: 20.5759 - mean_absolute_percentage_error: 18.6761\n",
      "Epoch 17/100\n",
      "1539/1539 [==============================] - 45s 29ms/step - loss: 14.0718 - mean_absolute_error: 14.0718 - root_mean_squared_error: 20.5436 - mean_absolute_percentage_error: 18.6192\n",
      "Epoch 18/100\n",
      "1539/1539 [==============================] - 45s 29ms/step - loss: 14.0098 - mean_absolute_error: 14.0098 - root_mean_squared_error: 20.4775 - mean_absolute_percentage_error: 18.4948\n",
      "Epoch 19/100\n",
      "1539/1539 [==============================] - 45s 29ms/step - loss: 13.9763 - mean_absolute_error: 13.9763 - root_mean_squared_error: 20.4424 - mean_absolute_percentage_error: 18.4445\n",
      "Epoch 20/100\n",
      "1539/1539 [==============================] - 45s 29ms/step - loss: 13.9238 - mean_absolute_error: 13.9238 - root_mean_squared_error: 20.3754 - mean_absolute_percentage_error: 18.3464\n",
      "Epoch 21/100\n",
      "1539/1539 [==============================] - 45s 29ms/step - loss: 13.9049 - mean_absolute_error: 13.9049 - root_mean_squared_error: 20.3491 - mean_absolute_percentage_error: 18.2750\n",
      "Epoch 22/100\n",
      "1539/1539 [==============================] - 45s 29ms/step - loss: 13.8490 - mean_absolute_error: 13.8490 - root_mean_squared_error: 20.2901 - mean_absolute_percentage_error: 18.2167\n",
      "Epoch 23/100\n",
      "1539/1539 [==============================] - 45s 29ms/step - loss: 13.8097 - mean_absolute_error: 13.8097 - root_mean_squared_error: 20.2450 - mean_absolute_percentage_error: 18.1001\n",
      "Epoch 24/100\n",
      "1539/1539 [==============================] - 45s 29ms/step - loss: 13.7707 - mean_absolute_error: 13.7707 - root_mean_squared_error: 20.2045 - mean_absolute_percentage_error: 18.0358\n",
      "Epoch 25/100\n",
      "1539/1539 [==============================] - 45s 29ms/step - loss: 13.7330 - mean_absolute_error: 13.7330 - root_mean_squared_error: 20.1580 - mean_absolute_percentage_error: 18.0039\n",
      "Epoch 26/100\n",
      "1539/1539 [==============================] - 45s 29ms/step - loss: 13.7204 - mean_absolute_error: 13.7204 - root_mean_squared_error: 20.1413 - mean_absolute_percentage_error: 17.9717\n",
      "Epoch 27/100\n",
      "1539/1539 [==============================] - 45s 29ms/step - loss: 13.6461 - mean_absolute_error: 13.6461 - root_mean_squared_error: 20.0671 - mean_absolute_percentage_error: 17.8858\n",
      "Epoch 28/100\n",
      "1539/1539 [==============================] - 45s 29ms/step - loss: 13.6143 - mean_absolute_error: 13.6143 - root_mean_squared_error: 20.0305 - mean_absolute_percentage_error: 17.7913\n",
      "Epoch 29/100\n",
      "1539/1539 [==============================] - 45s 29ms/step - loss: 13.5830 - mean_absolute_error: 13.5830 - root_mean_squared_error: 19.9958 - mean_absolute_percentage_error: 17.7310\n",
      "Epoch 30/100\n",
      "1539/1539 [==============================] - 45s 29ms/step - loss: 13.5469 - mean_absolute_error: 13.5469 - root_mean_squared_error: 19.9504 - mean_absolute_percentage_error: 17.6675\n",
      "Epoch 31/100\n",
      "1539/1539 [==============================] - 45s 29ms/step - loss: 13.4922 - mean_absolute_error: 13.4922 - root_mean_squared_error: 19.8910 - mean_absolute_percentage_error: 17.6137\n",
      "Epoch 32/100\n",
      "1539/1539 [==============================] - 45s 29ms/step - loss: 13.4627 - mean_absolute_error: 13.4627 - root_mean_squared_error: 19.8530 - mean_absolute_percentage_error: 17.5393\n",
      "Epoch 33/100\n",
      "1539/1539 [==============================] - 45s 29ms/step - loss: 13.4280 - mean_absolute_error: 13.4280 - root_mean_squared_error: 19.8179 - mean_absolute_percentage_error: 17.5269\n",
      "Epoch 34/100\n",
      "1539/1539 [==============================] - 45s 29ms/step - loss: 13.3721 - mean_absolute_error: 13.3721 - root_mean_squared_error: 19.7549 - mean_absolute_percentage_error: 17.4500\n",
      "Epoch 35/100\n",
      "1539/1539 [==============================] - 45s 29ms/step - loss: 13.3221 - mean_absolute_error: 13.3221 - root_mean_squared_error: 19.6948 - mean_absolute_percentage_error: 17.3846\n",
      "Epoch 36/100\n",
      "1539/1539 [==============================] - 45s 29ms/step - loss: 13.3058 - mean_absolute_error: 13.3058 - root_mean_squared_error: 19.6740 - mean_absolute_percentage_error: 17.3570\n",
      "Epoch 37/100\n",
      "1539/1539 [==============================] - 45s 29ms/step - loss: 13.2545 - mean_absolute_error: 13.2545 - root_mean_squared_error: 19.6268 - mean_absolute_percentage_error: 17.2522\n",
      "Epoch 38/100\n",
      "1539/1539 [==============================] - 44s 29ms/step - loss: 13.2204 - mean_absolute_error: 13.2204 - root_mean_squared_error: 19.5819 - mean_absolute_percentage_error: 17.2414\n",
      "Epoch 39/100\n",
      "1539/1539 [==============================] - 45s 29ms/step - loss: 13.1807 - mean_absolute_error: 13.1807 - root_mean_squared_error: 19.5493 - mean_absolute_percentage_error: 17.2212\n",
      "Epoch 40/100\n",
      "1539/1539 [==============================] - 45s 29ms/step - loss: 13.1386 - mean_absolute_error: 13.1386 - root_mean_squared_error: 19.4879 - mean_absolute_percentage_error: 17.1603\n",
      "Epoch 41/100\n",
      "1539/1539 [==============================] - 45s 29ms/step - loss: 13.1041 - mean_absolute_error: 13.1041 - root_mean_squared_error: 19.4510 - mean_absolute_percentage_error: 17.1313\n",
      "Epoch 42/100\n",
      "1539/1539 [==============================] - 45s 29ms/step - loss: 13.0735 - mean_absolute_error: 13.0735 - root_mean_squared_error: 19.4142 - mean_absolute_percentage_error: 17.0439\n",
      "Epoch 43/100\n",
      "1539/1539 [==============================] - 45s 29ms/step - loss: 13.0198 - mean_absolute_error: 13.0198 - root_mean_squared_error: 19.3630 - mean_absolute_percentage_error: 16.9927\n",
      "Epoch 44/100\n",
      "1539/1539 [==============================] - 45s 29ms/step - loss: 12.9652 - mean_absolute_error: 12.9652 - root_mean_squared_error: 19.2904 - mean_absolute_percentage_error: 16.90103s - loss: 12.9743 - mean_ab\n",
      "Epoch 45/100\n",
      "1539/1539 [==============================] - 45s 29ms/step - loss: 12.9295 - mean_absolute_error: 12.9295 - root_mean_squared_error: 19.2529 - mean_absolute_percentage_error: 16.8931\n",
      "Epoch 46/100\n",
      "1539/1539 [==============================] - 45s 29ms/step - loss: 12.8898 - mean_absolute_error: 12.8898 - root_mean_squared_error: 19.2086 - mean_absolute_percentage_error: 16.8386\n",
      "Epoch 47/100\n",
      "1539/1539 [==============================] - 45s 29ms/step - loss: 12.8457 - mean_absolute_error: 12.8457 - root_mean_squared_error: 19.1543 - mean_absolute_percentage_error: 16.7553\n",
      "Epoch 48/100\n",
      "1539/1539 [==============================] - 45s 29ms/step - loss: 12.8015 - mean_absolute_error: 12.8015 - root_mean_squared_error: 19.1018 - mean_absolute_percentage_error: 16.7326\n",
      "Epoch 49/100\n",
      "1539/1539 [==============================] - 45s 29ms/step - loss: 12.7627 - mean_absolute_error: 12.7627 - root_mean_squared_error: 19.0548 - mean_absolute_percentage_error: 16.6613\n",
      "Epoch 50/100\n",
      "1539/1539 [==============================] - 45s 29ms/step - loss: 12.7211 - mean_absolute_error: 12.7211 - root_mean_squared_error: 19.0108 - mean_absolute_percentage_error: 16.6256\n",
      "Epoch 51/100\n",
      "1539/1539 [==============================] - 45s 29ms/step - loss: 12.6744 - mean_absolute_error: 12.6744 - root_mean_squared_error: 18.9593 - mean_absolute_percentage_error: 16.5758\n",
      "Epoch 52/100\n",
      "1539/1539 [==============================] - 45s 29ms/step - loss: 12.6377 - mean_absolute_error: 12.6377 - root_mean_squared_error: 18.9079 - mean_absolute_percentage_error: 16.4888\n",
      "Epoch 53/100\n",
      "1539/1539 [==============================] - 45s 29ms/step - loss: 12.5833 - mean_absolute_error: 12.5833 - root_mean_squared_error: 18.8445 - mean_absolute_percentage_error: 16.4366\n",
      "Epoch 54/100\n",
      "1539/1539 [==============================] - 45s 29ms/step - loss: 12.5490 - mean_absolute_error: 12.5490 - root_mean_squared_error: 18.8165 - mean_absolute_percentage_error: 16.4045\n",
      "Epoch 55/100\n",
      "1539/1539 [==============================] - 45s 29ms/step - loss: 12.5013 - mean_absolute_error: 12.5013 - root_mean_squared_error: 18.7644 - mean_absolute_percentage_error: 16.3403\n",
      "Epoch 56/100\n",
      "1539/1539 [==============================] - 45s 29ms/step - loss: 12.4504 - mean_absolute_error: 12.4504 - root_mean_squared_error: 18.6952 - mean_absolute_percentage_error: 16.2788\n",
      "Epoch 57/100\n",
      "1539/1539 [==============================] - 45s 29ms/step - loss: 12.4257 - mean_absolute_error: 12.4257 - root_mean_squared_error: 18.6692 - mean_absolute_percentage_error: 16.2616\n",
      "Epoch 58/100\n",
      "1539/1539 [==============================] - 45s 29ms/step - loss: 12.3651 - mean_absolute_error: 12.3651 - root_mean_squared_error: 18.5997 - mean_absolute_percentage_error: 16.2176\n",
      "Epoch 59/100\n",
      "1539/1539 [==============================] - 45s 29ms/step - loss: 12.3342 - mean_absolute_error: 12.3342 - root_mean_squared_error: 18.5504 - mean_absolute_percentage_error: 16.1837\n",
      "Epoch 60/100\n",
      "1539/1539 [==============================] - 45s 29ms/step - loss: 12.2826 - mean_absolute_error: 12.2826 - root_mean_squared_error: 18.5091 - mean_absolute_percentage_error: 16.1000\n",
      "Epoch 61/100\n",
      "1539/1539 [==============================] - 45s 29ms/step - loss: 12.2404 - mean_absolute_error: 12.2404 - root_mean_squared_error: 18.4522 - mean_absolute_percentage_error: 16.0722\n",
      "Epoch 62/100\n",
      "1539/1539 [==============================] - 44s 29ms/step - loss: 12.2002 - mean_absolute_error: 12.2002 - root_mean_squared_error: 18.3934 - mean_absolute_percentage_error: 15.9916\n",
      "Epoch 63/100\n",
      "1539/1539 [==============================] - 45s 29ms/step - loss: 12.1740 - mean_absolute_error: 12.1740 - root_mean_squared_error: 18.3660 - mean_absolute_percentage_error: 15.9848\n",
      "Epoch 64/100\n",
      "1539/1539 [==============================] - 45s 29ms/step - loss: 12.1124 - mean_absolute_error: 12.1124 - root_mean_squared_error: 18.2933 - mean_absolute_percentage_error: 15.8794\n",
      "Epoch 65/100\n",
      "1539/1539 [==============================] - 45s 29ms/step - loss: 12.0764 - mean_absolute_error: 12.0764 - root_mean_squared_error: 18.2484 - mean_absolute_percentage_error: 15.8763\n",
      "Epoch 66/100\n",
      "1539/1539 [==============================] - 45s 29ms/step - loss: 12.0320 - mean_absolute_error: 12.0320 - root_mean_squared_error: 18.1946 - mean_absolute_percentage_error: 15.80082s - loss: 12.0338 - mean_absolute_error: 12.033\n",
      "Epoch 67/100\n",
      "1539/1539 [==============================] - 45s 29ms/step - loss: 11.9947 - mean_absolute_error: 11.9947 - root_mean_squared_error: 18.1486 - mean_absolute_percentage_error: 15.8132\n",
      "Epoch 68/100\n",
      "1539/1539 [==============================] - 45s 29ms/step - loss: 11.9585 - mean_absolute_error: 11.9585 - root_mean_squared_error: 18.1098 - mean_absolute_percentage_error: 15.7426\n",
      "Epoch 69/100\n",
      "1539/1539 [==============================] - 45s 29ms/step - loss: 11.9036 - mean_absolute_error: 11.9036 - root_mean_squared_error: 18.0351 - mean_absolute_percentage_error: 15.6605\n",
      "Epoch 70/100\n",
      "1539/1539 [==============================] - 45s 29ms/step - loss: 11.8527 - mean_absolute_error: 11.8527 - root_mean_squared_error: 17.9732 - mean_absolute_percentage_error: 15.5969\n",
      "Epoch 71/100\n",
      "1539/1539 [==============================] - 44s 29ms/step - loss: 11.8144 - mean_absolute_error: 11.8144 - root_mean_squared_error: 17.9258 - mean_absolute_percentage_error: 15.5839\n",
      "Epoch 72/100\n",
      "1539/1539 [==============================] - 45s 29ms/step - loss: 11.7810 - mean_absolute_error: 11.7810 - root_mean_squared_error: 17.8853 - mean_absolute_percentage_error: 15.5592\n",
      "Epoch 73/100\n",
      "1539/1539 [==============================] - 45s 29ms/step - loss: 11.7404 - mean_absolute_error: 11.7404 - root_mean_squared_error: 17.8345 - mean_absolute_percentage_error: 15.5057\n",
      "Epoch 74/100\n",
      "1539/1539 [==============================] - 45s 29ms/step - loss: 11.7056 - mean_absolute_error: 11.7056 - root_mean_squared_error: 17.7966 - mean_absolute_percentage_error: 15.4492\n",
      "Epoch 75/100\n",
      "1539/1539 [==============================] - 45s 29ms/step - loss: 11.6630 - mean_absolute_error: 11.6630 - root_mean_squared_error: 17.7475 - mean_absolute_percentage_error: 15.3893\n",
      "Epoch 76/100\n",
      "1539/1539 [==============================] - 45s 29ms/step - loss: 11.5984 - mean_absolute_error: 11.5984 - root_mean_squared_error: 17.6558 - mean_absolute_percentage_error: 15.3517\n",
      "Epoch 77/100\n",
      "1539/1539 [==============================] - 45s 29ms/step - loss: 11.5852 - mean_absolute_error: 11.5852 - root_mean_squared_error: 17.6468 - mean_absolute_percentage_error: 15.2943\n",
      "Epoch 78/100\n",
      "1539/1539 [==============================] - 45s 29ms/step - loss: 11.5240 - mean_absolute_error: 11.5240 - root_mean_squared_error: 17.5654 - mean_absolute_percentage_error: 15.2628\n",
      "Epoch 79/100\n",
      "1539/1539 [==============================] - 45s 29ms/step - loss: 11.4958 - mean_absolute_error: 11.4958 - root_mean_squared_error: 17.5301 - mean_absolute_percentage_error: 15.2325\n",
      "Epoch 80/100\n",
      "1539/1539 [==============================] - 45s 29ms/step - loss: 11.4520 - mean_absolute_error: 11.4520 - root_mean_squared_error: 17.4655 - mean_absolute_percentage_error: 15.1701\n",
      "Epoch 81/100\n",
      "1539/1539 [==============================] - 45s 29ms/step - loss: 11.4098 - mean_absolute_error: 11.4098 - root_mean_squared_error: 17.4225 - mean_absolute_percentage_error: 15.1392\n",
      "Epoch 82/100\n",
      "1539/1539 [==============================] - 45s 29ms/step - loss: 11.3639 - mean_absolute_error: 11.3639 - root_mean_squared_error: 17.3645 - mean_absolute_percentage_error: 15.0863\n",
      "Epoch 83/100\n"
     ]
    },
    {
     "name": "stdout",
     "output_type": "stream",
     "text": [
      "1539/1539 [==============================] - 45s 29ms/step - loss: 11.3266 - mean_absolute_error: 11.3266 - root_mean_squared_error: 17.3280 - mean_absolute_percentage_error: 15.0563\n",
      "Epoch 84/100\n",
      "1539/1539 [==============================] - 45s 29ms/step - loss: 11.2978 - mean_absolute_error: 11.2978 - root_mean_squared_error: 17.2736 - mean_absolute_percentage_error: 15.0187\n",
      "Epoch 85/100\n",
      "1539/1539 [==============================] - 45s 29ms/step - loss: 11.2605 - mean_absolute_error: 11.2605 - root_mean_squared_error: 17.2342 - mean_absolute_percentage_error: 14.9885\n",
      "Epoch 86/100\n",
      "1539/1539 [==============================] - 45s 29ms/step - loss: 11.2171 - mean_absolute_error: 11.2171 - root_mean_squared_error: 17.1727 - mean_absolute_percentage_error: 14.9357\n",
      "Epoch 87/100\n",
      "1539/1539 [==============================] - 45s 29ms/step - loss: 11.1919 - mean_absolute_error: 11.1919 - root_mean_squared_error: 17.1414 - mean_absolute_percentage_error: 14.8967\n",
      "Epoch 88/100\n",
      "1539/1539 [==============================] - 45s 29ms/step - loss: 11.1411 - mean_absolute_error: 11.1411 - root_mean_squared_error: 17.0772 - mean_absolute_percentage_error: 14.8498\n",
      "Epoch 89/100\n",
      "1539/1539 [==============================] - 45s 29ms/step - loss: 11.1044 - mean_absolute_error: 11.1044 - root_mean_squared_error: 17.0327 - mean_absolute_percentage_error: 14.8296\n",
      "Epoch 90/100\n",
      "1539/1539 [==============================] - 44s 29ms/step - loss: 11.0690 - mean_absolute_error: 11.0690 - root_mean_squared_error: 16.9702 - mean_absolute_percentage_error: 14.7949\n",
      "Epoch 91/100\n",
      "1539/1539 [==============================] - 45s 29ms/step - loss: 11.0378 - mean_absolute_error: 11.0378 - root_mean_squared_error: 16.9323 - mean_absolute_percentage_error: 14.7345\n",
      "Epoch 92/100\n",
      "1539/1539 [==============================] - 45s 29ms/step - loss: 11.0039 - mean_absolute_error: 11.0039 - root_mean_squared_error: 16.9002 - mean_absolute_percentage_error: 14.7355\n",
      "Epoch 93/100\n",
      "1539/1539 [==============================] - 45s 29ms/step - loss: 10.9581 - mean_absolute_error: 10.9581 - root_mean_squared_error: 16.8441 - mean_absolute_percentage_error: 14.6628\n",
      "Epoch 94/100\n",
      "1539/1539 [==============================] - 45s 29ms/step - loss: 10.9152 - mean_absolute_error: 10.9152 - root_mean_squared_error: 16.7853 - mean_absolute_percentage_error: 14.5972\n",
      "Epoch 95/100\n",
      "1539/1539 [==============================] - 45s 29ms/step - loss: 10.8874 - mean_absolute_error: 10.8874 - root_mean_squared_error: 16.7405 - mean_absolute_percentage_error: 14.5721\n",
      "Epoch 96/100\n",
      "1539/1539 [==============================] - 45s 29ms/step - loss: 10.8608 - mean_absolute_error: 10.8608 - root_mean_squared_error: 16.7122 - mean_absolute_percentage_error: 14.5601\n",
      "Epoch 97/100\n",
      "1539/1539 [==============================] - 45s 29ms/step - loss: 10.8327 - mean_absolute_error: 10.8327 - root_mean_squared_error: 16.6794 - mean_absolute_percentage_error: 14.5115\n",
      "Epoch 98/100\n",
      "1539/1539 [==============================] - 45s 29ms/step - loss: 10.7951 - mean_absolute_error: 10.7951 - root_mean_squared_error: 16.6181 - mean_absolute_percentage_error: 14.4922\n",
      "Epoch 99/100\n",
      "1539/1539 [==============================] - 45s 29ms/step - loss: 10.7678 - mean_absolute_error: 10.7678 - root_mean_squared_error: 16.5853 - mean_absolute_percentage_error: 14.4464\n",
      "Epoch 100/100\n",
      "1539/1539 [==============================] - 45s 29ms/step - loss: 10.7279 - mean_absolute_error: 10.7279 - root_mean_squared_error: 16.5286 - mean_absolute_percentage_error: 14.4008\n"
     ]
    },
    {
     "data": {
      "text/plain": [
       "<keras.callbacks.History at 0x1c4a83e8e50>"
      ]
     },
     "execution_count": 54,
     "metadata": {},
     "output_type": "execute_result"
    }
   ],
   "source": [
    "model15.fit((Wt15,Xt15), yt15, \n",
    "            epochs = 100, \n",
    "            verbose = 1)"
   ]
  },
  {
   "cell_type": "code",
   "execution_count": 55,
   "metadata": {},
   "outputs": [
    {
     "name": "stderr",
     "output_type": "stream",
     "text": [
      "WARNING:absl:Function `_wrapped_model` contains input name(s) WideInput, DeepInput with unsupported characters which will be renamed to wideinput, deepinput in the SavedModel.\n",
      "WARNING:absl:Found untraced functions such as lstm_cell_7_layer_call_fn, lstm_cell_7_layer_call_and_return_conditional_losses, lstm_cell_5_layer_call_fn, lstm_cell_5_layer_call_and_return_conditional_losses, lstm_cell_6_layer_call_fn while saving (showing 5 of 15). These functions will not be directly callable after loading.\n"
     ]
    },
    {
     "name": "stdout",
     "output_type": "stream",
     "text": [
      "INFO:tensorflow:Assets written to: my_dir/8b-15\\assets\n"
     ]
    },
    {
     "name": "stderr",
     "output_type": "stream",
     "text": [
      "INFO:tensorflow:Assets written to: my_dir/8b-15\\assets\n",
      "WARNING:absl:<keras.layers.recurrent.LSTMCell object at 0x000001C496FF0A60> has the same name 'LSTMCell' as a built-in Keras object. Consider renaming <class 'keras.layers.recurrent.LSTMCell'> to avoid naming conflicts when loading with `tf.keras.models.load_model`. If renaming is not possible, pass the object in the `custom_objects` parameter of the load function.\n",
      "WARNING:absl:<keras.layers.recurrent.LSTMCell object at 0x000001C4CE282E80> has the same name 'LSTMCell' as a built-in Keras object. Consider renaming <class 'keras.layers.recurrent.LSTMCell'> to avoid naming conflicts when loading with `tf.keras.models.load_model`. If renaming is not possible, pass the object in the `custom_objects` parameter of the load function.\n",
      "WARNING:absl:<keras.layers.recurrent.LSTMCell object at 0x000001C4AB286F40> has the same name 'LSTMCell' as a built-in Keras object. Consider renaming <class 'keras.layers.recurrent.LSTMCell'> to avoid naming conflicts when loading with `tf.keras.models.load_model`. If renaming is not possible, pass the object in the `custom_objects` parameter of the load function.\n"
     ]
    }
   ],
   "source": [
    "model15.save(\"my_dir/8b-15\")"
   ]
  },
  {
   "cell_type": "code",
   "execution_count": 56,
   "metadata": {},
   "outputs": [],
   "source": [
    "metrics15 = pd.DataFrame(model15.history.history)"
   ]
  },
  {
   "cell_type": "code",
   "execution_count": 57,
   "metadata": {},
   "outputs": [
    {
     "data": {
      "text/plain": [
       "<AxesSubplot:>"
      ]
     },
     "execution_count": 57,
     "metadata": {},
     "output_type": "execute_result"
    },
    {
     "data": {
      "image/png": "[encoded data removed]",
      "text/plain": [
       "<Figure size 432x288 with 1 Axes>"
      ]
     },
     "metadata": {
      "needs_background": "light"
     },
     "output_type": "display_data"
    }
   ],
   "source": [
    "metrics15[['loss']].plot()"
   ]
  },
  {
   "cell_type": "code",
   "execution_count": 40,
   "metadata": {},
   "outputs": [],
   "source": [
    "model15 = keras.models.load_model(\"my_dir/8b-15\")"
   ]
  },
  {
   "cell_type": "code",
   "execution_count": 41,
   "metadata": {},
   "outputs": [
    {
     "data": {
      "text/plain": [
       "array([[ 28.292416 ,  15.795567 ,  26.74224  ,  68.778786 ,  29.899263 ,\n",
       "          4.5864697],\n",
       "       [ 28.50002  ,  15.571213 ,  24.84205  ,  66.34828  ,  28.133608 ,\n",
       "          5.3194304],\n",
       "       [ 28.557968 ,  15.680347 ,  25.813517 ,  72.045975 ,  30.647814 ,\n",
       "          4.919055 ],\n",
       "       ...,\n",
       "       [ 46.543087 ,  49.851227 ,  73.87767  , 125.43842  ,  58.934864 ,\n",
       "         17.380802 ],\n",
       "       [ 40.199986 ,  40.092133 ,  60.300114 , 115.34034  ,  53.539112 ,\n",
       "         10.289107 ],\n",
       "       [ 44.671463 ,  43.250412 ,  59.041004 , 114.65913  ,  55.77885  ,\n",
       "         12.391005 ]], dtype=float32)"
      ]
     },
     "execution_count": 41,
     "metadata": {},
     "output_type": "execute_result"
    }
   ],
   "source": [
    "model15.predict((Wv15,Xv15))"
   ]
  },
  {
   "cell_type": "markdown",
   "metadata": {},
   "source": [
    "### Evaluation on inverse_transform"
   ]
  },
  {
   "cell_type": "code",
   "execution_count": null,
   "metadata": {},
   "outputs": [],
   "source": [
    "test_predictions15 = model15.predict((Wv15,Xv15))\n",
    "\n",
    "\n",
    "MSE15 = mean_squared_error(yv15,test_predictions15)\n",
    "\n",
    "MAE15 = mean_absolute_error(yv15,test_predictions15)\n",
    "\n",
    "RMSE15 = np.sqrt(MSE15)\n",
    "\n",
    "MAPE15 = mean_absolute_percentage_error(yv15,test_predictions15)*100\n",
    "\n",
    "eval15 = [MSE15, MAE15, RMSE15, MAPE15]\n",
    "print(eval15)"
   ]
  },
  {
   "cell_type": "code",
   "execution_count": null,
   "metadata": {},
   "outputs": [],
   "source": [
    "GEH, count = ga.GEH(np.asarray(yv15), np.asarray(test_predictions15))\n",
    "GEH15 = count/GEH.size\n",
    "print(GEH15)"
   ]
  },
  {
   "cell_type": "markdown",
   "metadata": {},
   "source": [
    "# 30 mins ahead"
   ]
  },
  {
   "cell_type": "code",
   "execution_count": 44,
   "metadata": {},
   "outputs": [],
   "source": [
    "def build_model_30(hp):\n",
    "    # Inputs\n",
    "    channel_Wide = keras.layers.Input(shape=Wt30.shape[1:], name=\"WideInput\")\n",
    "    channel_Deep = keras.layers.Input(shape=Xt30.shape[1:], name=\"DeepInput\")\n",
    "    units = hp.Int(\"units\", min_value=1, max_value=100, step=1)\n",
    "    \n",
    "    \n",
    "    # Wide Model\n",
    "    flatten_30w = keras.layers.TimeDistributed(keras.layers.Flatten())(channel_Wide)\n",
    "    Bi_30 = keras.layers.Bidirectional(\n",
    "        keras.layers.LSTM(units=units, return_sequences=True),\n",
    "        merge_mode=\"ave\"\n",
    "    )(flatten_30w)\n",
    "    \n",
    "    \n",
    "    # Deep Model\n",
    "    # CNN \n",
    "    CNN_30 = keras.layers.TimeDistributed(\n",
    "        keras.layers.Conv2D(filters=hp.Int(\"filters\", min_value=32, max_value=512, step=32),\n",
    "                            kernel_size=hp.Choice(\"kernel_size\", [2, 3]), activation='relu'))(channel_Deep)\n",
    "    flatten_30 = keras.layers.TimeDistributed(keras.layers.Flatten())(CNN_30)\n",
    "    # LSTM          \n",
    "    LSTM_30 = keras.layers.LSTM(units=units, return_sequences=True)(flatten_30)\n",
    "\n",
    "    \n",
    "    # Concatenation \n",
    "    concat = keras.layers.concatenate([Bi_30, LSTM_30], axis=1)\n",
    "\n",
    "    # Attention\n",
    "    Att_30 = SeqSelfAttention(attention_activation='sigmoid')(concat)\n",
    "    merge = keras.layers.Flatten()(Att_30)\n",
    "\n",
    "    \n",
    "    # Output\n",
    "    output = keras.layers.Dense(n_features, name= \"output\")(merge)\n",
    "    \n",
    "    # Model\n",
    "    model_30 = keras.Model(inputs=[channel_Wide,channel_Deep], outputs=[output])\n",
    "\n",
    "    # Compile\n",
    "    model_30.compile(optimizer=keras.optimizers.Adam(hp.Choice(\"learning_rate\", [1e-2, 1e-3, 1e-4])), \n",
    "        loss=\"mae\", metrics=['MeanAbsoluteError','RootMeanSquaredError','MeanAbsolutePercentageError'])\n",
    "                    \n",
    "    return model_30"
   ]
  },
  {
   "cell_type": "code",
   "execution_count": 45,
   "metadata": {},
   "outputs": [
    {
     "name": "stdout",
     "output_type": "stream",
     "text": [
      "INFO:tensorflow:Reloading Oracle from existing project C:\\RunsOak\\8b-30\\oracle.json\n",
      "INFO:tensorflow:Reloading Tuner from C:\\RunsOak\\8b-30\\tuner0.json\n"
     ]
    }
   ],
   "source": [
    "tuner30 = RandomSearch(\n",
    "    build_model_30,\n",
    "    objective=\"val_loss\",\n",
    "    max_trials=60,\n",
    "    executions_per_trial=2,\n",
    "    overwrite=False,\n",
    "    directory=os.path.normpath('C:/RunsOak'),\n",
    "    project_name=\"8b-30\",\n",
    ")"
   ]
  },
  {
   "cell_type": "code",
   "execution_count": 46,
   "metadata": {},
   "outputs": [
    {
     "name": "stdout",
     "output_type": "stream",
     "text": [
      "Search space summary\n",
      "Default search space size: 4\n",
      "units (Int)\n",
      "{'default': None, 'conditions': [], 'min_value': 1, 'max_value': 100, 'step': 1, 'sampling': None}\n",
      "filters (Int)\n",
      "{'default': None, 'conditions': [], 'min_value': 32, 'max_value': 512, 'step': 32, 'sampling': None}\n",
      "kernel_size (Choice)\n",
      "{'default': 2, 'conditions': [], 'values': [2, 3], 'ordered': True}\n",
      "learning_rate (Choice)\n",
      "{'default': 0.01, 'conditions': [], 'values': [0.01, 0.001, 0.0001], 'ordered': True}\n"
     ]
    }
   ],
   "source": [
    "tuner30.search_space_summary()"
   ]
  },
  {
   "cell_type": "code",
   "execution_count": 47,
   "metadata": {},
   "outputs": [
    {
     "name": "stdout",
     "output_type": "stream",
     "text": [
      "Trial 61 Complete [00h 21m 57s]\n",
      "val_loss: 18.207335472106934\n",
      "\n",
      "Best val_loss So Far: 15.222926616668701\n",
      "Total elapsed time: 04h 18m 36s\n",
      "INFO:tensorflow:Oracle triggered exit\n"
     ]
    }
   ],
   "source": [
    "tuner30.search((Wt30,Xt30), yt30, epochs=200,\n",
    "            validation_split = val_percent,\n",
    "            callbacks=[early_stop],\n",
    "            verbose=2)"
   ]
  },
  {
   "cell_type": "code",
   "execution_count": 48,
   "metadata": {},
   "outputs": [
    {
     "name": "stdout",
     "output_type": "stream",
     "text": [
      "Results summary\n",
      "Results in C:\\RunsOak\\8b-30\n",
      "Showing 1 best trials\n",
      "Objective(name='val_loss', direction='min')\n",
      "Trial summary\n",
      "Hyperparameters:\n",
      "units: 89\n",
      "filters: 352\n",
      "kernel_size: 2\n",
      "learning_rate: 0.001\n",
      "Score: 15.222926616668701\n"
     ]
    }
   ],
   "source": [
    "tuner30.results_summary(1)"
   ]
  },
  {
   "cell_type": "markdown",
   "metadata": {},
   "source": [
    "### Best model"
   ]
  },
  {
   "cell_type": "code",
   "execution_count": 49,
   "metadata": {},
   "outputs": [],
   "source": [
    "best_hp30 = tuner30.get_best_hyperparameters()[0]\n",
    "model30 = tuner30.hypermodel.build(best_hp30)"
   ]
  },
  {
   "cell_type": "code",
   "execution_count": 50,
   "metadata": {},
   "outputs": [
    {
     "data": {
      "text/plain": [
       "['8b-30']"
      ]
     },
     "execution_count": 50,
     "metadata": {},
     "output_type": "execute_result"
    }
   ],
   "source": [
    "scaler_filename = \"8b-30\"\n",
    "joblib.dump(best_hp30, scaler_filename) "
   ]
  },
  {
   "cell_type": "code",
   "execution_count": 51,
   "metadata": {},
   "outputs": [
    {
     "name": "stdout",
     "output_type": "stream",
     "text": [
      "Model: \"model_1\"\n",
      "__________________________________________________________________________________________________\n",
      " Layer (type)                   Output Shape         Param #     Connected to                     \n",
      "==================================================================================================\n",
      " DeepInput (InputLayer)         [(None, 3, 5, 6, 1)  0           []                               \n",
      "                                ]                                                                 \n",
      "                                                                                                  \n",
      " WideInput (InputLayer)         [(None, 3, 3, 6)]    0           []                               \n",
      "                                                                                                  \n",
      " time_distributed_4 (TimeDistri  (None, 3, 4, 5, 352  1760       ['DeepInput[0][0]']              \n",
      " buted)                         )                                                                 \n",
      "                                                                                                  \n",
      " time_distributed_3 (TimeDistri  (None, 3, 18)       0           ['WideInput[0][0]']              \n",
      " buted)                                                                                           \n",
      "                                                                                                  \n",
      " time_distributed_5 (TimeDistri  (None, 3, 7040)     0           ['time_distributed_4[0][0]']     \n",
      " buted)                                                                                           \n",
      "                                                                                                  \n",
      " bidirectional_1 (Bidirectional  (None, 3, 89)       76896       ['time_distributed_3[0][0]']     \n",
      " )                                                                                                \n",
      "                                                                                                  \n",
      " lstm_3 (LSTM)                  (None, 3, 89)        2538280     ['time_distributed_5[0][0]']     \n",
      "                                                                                                  \n",
      " concatenate_1 (Concatenate)    (None, 6, 89)        0           ['bidirectional_1[0][0]',        \n",
      "                                                                  'lstm_3[0][0]']                 \n",
      "                                                                                                  \n",
      " seq_self_attention_1 (SeqSelfA  (None, 6, 89)       5761        ['concatenate_1[0][0]']          \n",
      " ttention)                                                                                        \n",
      "                                                                                                  \n",
      " flatten_5 (Flatten)            (None, 534)          0           ['seq_self_attention_1[0][0]']   \n",
      "                                                                                                  \n",
      " output (Dense)                 (None, 6)            3210        ['flatten_5[0][0]']              \n",
      "                                                                                                  \n",
      "==================================================================================================\n",
      "Total params: 2,625,907\n",
      "Trainable params: 2,625,907\n",
      "Non-trainable params: 0\n",
      "__________________________________________________________________________________________________\n"
     ]
    }
   ],
   "source": [
    "model30.summary()"
   ]
  },
  {
   "cell_type": "code",
   "execution_count": 52,
   "metadata": {},
   "outputs": [
    {
     "name": "stdout",
     "output_type": "stream",
     "text": [
      "Epoch 1/100\n",
      "1539/1539 [==============================] - 44s 26ms/step - loss: 41.8275 - mean_absolute_error: 41.8275 - root_mean_squared_error: 69.1243 - mean_absolute_percentage_error: 48.7888\n",
      "Epoch 2/100\n",
      "1539/1539 [==============================] - 40s 26ms/step - loss: 19.2479 - mean_absolute_error: 19.2479 - root_mean_squared_error: 28.0910 - mean_absolute_percentage_error: 28.5514\n",
      "Epoch 3/100\n",
      "1539/1539 [==============================] - 40s 26ms/step - loss: 17.5856 - mean_absolute_error: 17.5856 - root_mean_squared_error: 25.7962 - mean_absolute_percentage_error: 26.2244\n",
      "Epoch 4/100\n",
      "1539/1539 [==============================] - 40s 26ms/step - loss: 17.1366 - mean_absolute_error: 17.1366 - root_mean_squared_error: 25.0399 - mean_absolute_percentage_error: 24.86095s - loss: 17.1645 - mean_absolute_error: 17.1645 - root_mean_squared_error: 25.0705 - m\n",
      "Epoch 5/100\n",
      "1539/1539 [==============================] - 40s 26ms/step - loss: 16.6376 - mean_absolute_error: 16.6376 - root_mean_squared_error: 24.1393 - mean_absolute_percentage_error: 23.7869\n",
      "Epoch 6/100\n",
      "1539/1539 [==============================] - 40s 26ms/step - loss: 16.2850 - mean_absolute_error: 16.2850 - root_mean_squared_error: 23.5419 - mean_absolute_percentage_error: 22.8821\n",
      "Epoch 7/100\n",
      "1539/1539 [==============================] - 40s 26ms/step - loss: 16.0069 - mean_absolute_error: 16.0069 - root_mean_squared_error: 23.1191 - mean_absolute_percentage_error: 22.1647\n",
      "Epoch 8/100\n",
      "1539/1539 [==============================] - 40s 26ms/step - loss: 15.8115 - mean_absolute_error: 15.8115 - root_mean_squared_error: 22.8392 - mean_absolute_percentage_error: 21.7720\n",
      "Epoch 9/100\n",
      "1539/1539 [==============================] - 40s 26ms/step - loss: 15.6288 - mean_absolute_error: 15.6288 - root_mean_squared_error: 22.5788 - mean_absolute_percentage_error: 21.3859\n",
      "Epoch 10/100\n",
      "1539/1539 [==============================] - 40s 26ms/step - loss: 15.4816 - mean_absolute_error: 15.4816 - root_mean_squared_error: 22.4286 - mean_absolute_percentage_error: 21.0160\n",
      "Epoch 11/100\n",
      "1539/1539 [==============================] - 40s 26ms/step - loss: 15.3669 - mean_absolute_error: 15.3669 - root_mean_squared_error: 22.3012 - mean_absolute_percentage_error: 20.7694\n",
      "Epoch 12/100\n",
      "1539/1539 [==============================] - 40s 26ms/step - loss: 15.2552 - mean_absolute_error: 15.2552 - root_mean_squared_error: 22.1826 - mean_absolute_percentage_error: 20.5298\n",
      "Epoch 13/100\n",
      "1539/1539 [==============================] - 40s 26ms/step - loss: 15.1568 - mean_absolute_error: 15.1568 - root_mean_squared_error: 22.0678 - mean_absolute_percentage_error: 20.3196\n",
      "Epoch 14/100\n",
      "1539/1539 [==============================] - 40s 26ms/step - loss: 15.0756 - mean_absolute_error: 15.0756 - root_mean_squared_error: 21.9772 - mean_absolute_percentage_error: 20.1043\n",
      "Epoch 15/100\n",
      "1539/1539 [==============================] - 40s 26ms/step - loss: 15.0074 - mean_absolute_error: 15.0074 - root_mean_squared_error: 21.8965 - mean_absolute_percentage_error: 20.0037\n",
      "Epoch 16/100\n",
      "1539/1539 [==============================] - 40s 26ms/step - loss: 14.9379 - mean_absolute_error: 14.9379 - root_mean_squared_error: 21.8170 - mean_absolute_percentage_error: 19.8802\n",
      "Epoch 17/100\n",
      "1539/1539 [==============================] - 40s 26ms/step - loss: 14.8629 - mean_absolute_error: 14.8629 - root_mean_squared_error: 21.7489 - mean_absolute_percentage_error: 19.7221\n",
      "Epoch 18/100\n",
      "1539/1539 [==============================] - 40s 26ms/step - loss: 14.8130 - mean_absolute_error: 14.8130 - root_mean_squared_error: 21.6991 - mean_absolute_percentage_error: 19.5739\n",
      "Epoch 19/100\n",
      "1539/1539 [==============================] - 40s 26ms/step - loss: 14.7400 - mean_absolute_error: 14.7400 - root_mean_squared_error: 21.5943 - mean_absolute_percentage_error: 19.5063\n",
      "Epoch 20/100\n",
      "1539/1539 [==============================] - 40s 26ms/step - loss: 14.7004 - mean_absolute_error: 14.7004 - root_mean_squared_error: 21.5611 - mean_absolute_percentage_error: 19.4611\n",
      "Epoch 21/100\n",
      "1539/1539 [==============================] - 40s 26ms/step - loss: 14.6434 - mean_absolute_error: 14.6434 - root_mean_squared_error: 21.4931 - mean_absolute_percentage_error: 19.3094\n",
      "Epoch 22/100\n",
      "1539/1539 [==============================] - 40s 26ms/step - loss: 14.5937 - mean_absolute_error: 14.5937 - root_mean_squared_error: 21.4221 - mean_absolute_percentage_error: 19.2799\n",
      "Epoch 23/100\n",
      "1539/1539 [==============================] - 40s 26ms/step - loss: 14.5451 - mean_absolute_error: 14.5451 - root_mean_squared_error: 21.3734 - mean_absolute_percentage_error: 19.1115\n",
      "Epoch 24/100\n",
      "1539/1539 [==============================] - 40s 26ms/step - loss: 14.5016 - mean_absolute_error: 14.5016 - root_mean_squared_error: 21.3244 - mean_absolute_percentage_error: 19.1213\n",
      "Epoch 25/100\n",
      "1539/1539 [==============================] - 40s 26ms/step - loss: 14.4525 - mean_absolute_error: 14.4525 - root_mean_squared_error: 21.2575 - mean_absolute_percentage_error: 19.0161\n",
      "Epoch 26/100\n",
      "1539/1539 [==============================] - 40s 26ms/step - loss: 14.4087 - mean_absolute_error: 14.4087 - root_mean_squared_error: 21.2013 - mean_absolute_percentage_error: 18.9536\n",
      "Epoch 27/100\n",
      "1539/1539 [==============================] - 40s 26ms/step - loss: 14.3619 - mean_absolute_error: 14.3619 - root_mean_squared_error: 21.1474 - mean_absolute_percentage_error: 18.8198\n",
      "Epoch 28/100\n",
      "1539/1539 [==============================] - 40s 26ms/step - loss: 14.3058 - mean_absolute_error: 14.3058 - root_mean_squared_error: 21.0877 - mean_absolute_percentage_error: 18.8059\n",
      "Epoch 29/100\n",
      "1539/1539 [==============================] - 40s 26ms/step - loss: 14.2764 - mean_absolute_error: 14.2764 - root_mean_squared_error: 21.0406 - mean_absolute_percentage_error: 18.7122\n",
      "Epoch 30/100\n",
      "1539/1539 [==============================] - 40s 26ms/step - loss: 14.2188 - mean_absolute_error: 14.2188 - root_mean_squared_error: 20.9730 - mean_absolute_percentage_error: 18.6875\n",
      "Epoch 31/100\n",
      "1539/1539 [==============================] - 40s 26ms/step - loss: 14.1906 - mean_absolute_error: 14.1906 - root_mean_squared_error: 20.9425 - mean_absolute_percentage_error: 18.6488\n",
      "Epoch 32/100\n",
      "1539/1539 [==============================] - 40s 26ms/step - loss: 14.1354 - mean_absolute_error: 14.1354 - root_mean_squared_error: 20.8777 - mean_absolute_percentage_error: 18.5144\n",
      "Epoch 33/100\n",
      "1539/1539 [==============================] - 40s 26ms/step - loss: 14.0862 - mean_absolute_error: 14.0862 - root_mean_squared_error: 20.8124 - mean_absolute_percentage_error: 18.4670\n",
      "Epoch 34/100\n",
      "1539/1539 [==============================] - 40s 26ms/step - loss: 14.0345 - mean_absolute_error: 14.0345 - root_mean_squared_error: 20.7484 - mean_absolute_percentage_error: 18.4204\n",
      "Epoch 35/100\n",
      "1539/1539 [==============================] - 40s 26ms/step - loss: 13.9945 - mean_absolute_error: 13.9945 - root_mean_squared_error: 20.7012 - mean_absolute_percentage_error: 18.3674\n",
      "Epoch 36/100\n",
      "1539/1539 [==============================] - 40s 26ms/step - loss: 13.9437 - mean_absolute_error: 13.9437 - root_mean_squared_error: 20.6527 - mean_absolute_percentage_error: 18.3027\n",
      "Epoch 37/100\n",
      "1539/1539 [==============================] - 40s 26ms/step - loss: 13.9010 - mean_absolute_error: 13.9010 - root_mean_squared_error: 20.5890 - mean_absolute_percentage_error: 18.2432\n",
      "Epoch 38/100\n",
      "1539/1539 [==============================] - 40s 26ms/step - loss: 13.8576 - mean_absolute_error: 13.8576 - root_mean_squared_error: 20.5484 - mean_absolute_percentage_error: 18.1240\n",
      "Epoch 39/100\n",
      "1539/1539 [==============================] - 40s 26ms/step - loss: 13.8114 - mean_absolute_error: 13.8114 - root_mean_squared_error: 20.4796 - mean_absolute_percentage_error: 18.1403\n",
      "Epoch 40/100\n",
      "1539/1539 [==============================] - 40s 26ms/step - loss: 13.7677 - mean_absolute_error: 13.7677 - root_mean_squared_error: 20.4427 - mean_absolute_percentage_error: 18.0503\n",
      "Epoch 41/100\n",
      "1539/1539 [==============================] - 40s 26ms/step - loss: 13.7235 - mean_absolute_error: 13.7235 - root_mean_squared_error: 20.3787 - mean_absolute_percentage_error: 18.0229\n",
      "Epoch 42/100\n",
      "1539/1539 [==============================] - 40s 26ms/step - loss: 13.6901 - mean_absolute_error: 13.6901 - root_mean_squared_error: 20.3428 - mean_absolute_percentage_error: 17.9447\n",
      "Epoch 43/100\n",
      "1539/1539 [==============================] - 40s 26ms/step - loss: 13.6330 - mean_absolute_error: 13.6330 - root_mean_squared_error: 20.2765 - mean_absolute_percentage_error: 17.8974\n",
      "Epoch 44/100\n",
      "1539/1539 [==============================] - 40s 26ms/step - loss: 13.5802 - mean_absolute_error: 13.5802 - root_mean_squared_error: 20.2190 - mean_absolute_percentage_error: 17.8204\n",
      "Epoch 45/100\n",
      "1539/1539 [==============================] - 40s 26ms/step - loss: 13.5478 - mean_absolute_error: 13.5478 - root_mean_squared_error: 20.1712 - mean_absolute_percentage_error: 17.7937\n",
      "Epoch 46/100\n",
      "1539/1539 [==============================] - 40s 26ms/step - loss: 13.5134 - mean_absolute_error: 13.5134 - root_mean_squared_error: 20.1311 - mean_absolute_percentage_error: 17.7669\n",
      "Epoch 47/100\n",
      "1539/1539 [==============================] - 40s 26ms/step - loss: 13.4535 - mean_absolute_error: 13.4535 - root_mean_squared_error: 20.0570 - mean_absolute_percentage_error: 17.6845\n",
      "Epoch 48/100\n",
      "1539/1539 [==============================] - 40s 26ms/step - loss: 13.4042 - mean_absolute_error: 13.4042 - root_mean_squared_error: 19.9993 - mean_absolute_percentage_error: 17.6435\n",
      "Epoch 49/100\n",
      "1539/1539 [==============================] - 40s 26ms/step - loss: 13.3554 - mean_absolute_error: 13.3554 - root_mean_squared_error: 19.9395 - mean_absolute_percentage_error: 17.5563\n",
      "Epoch 50/100\n",
      "1539/1539 [==============================] - 40s 26ms/step - loss: 13.3102 - mean_absolute_error: 13.3102 - root_mean_squared_error: 19.8838 - mean_absolute_percentage_error: 17.5106\n",
      "Epoch 51/100\n",
      "1539/1539 [==============================] - 40s 26ms/step - loss: 13.2668 - mean_absolute_error: 13.2668 - root_mean_squared_error: 19.8329 - mean_absolute_percentage_error: 17.4556\n",
      "Epoch 52/100\n",
      "1539/1539 [==============================] - 40s 26ms/step - loss: 13.2251 - mean_absolute_error: 13.2251 - root_mean_squared_error: 19.7811 - mean_absolute_percentage_error: 17.4091\n",
      "Epoch 53/100\n",
      "1539/1539 [==============================] - 40s 26ms/step - loss: 13.1908 - mean_absolute_error: 13.1908 - root_mean_squared_error: 19.7425 - mean_absolute_percentage_error: 17.3891\n",
      "Epoch 54/100\n",
      "1539/1539 [==============================] - 40s 26ms/step - loss: 13.1430 - mean_absolute_error: 13.1430 - root_mean_squared_error: 19.6721 - mean_absolute_percentage_error: 17.28501s - loss: 13.1340 - mean_absolute_error: 13.1340 - root_mean_squared_\n",
      "Epoch 55/100\n",
      "1539/1539 [==============================] - 40s 26ms/step - loss: 13.0873 - mean_absolute_error: 13.0873 - root_mean_squared_error: 19.6178 - mean_absolute_percentage_error: 17.2506\n",
      "Epoch 56/100\n",
      "1539/1539 [==============================] - 40s 26ms/step - loss: 13.0512 - mean_absolute_error: 13.0512 - root_mean_squared_error: 19.5694 - mean_absolute_percentage_error: 17.2156\n",
      "Epoch 57/100\n",
      "1539/1539 [==============================] - 40s 26ms/step - loss: 12.9961 - mean_absolute_error: 12.9961 - root_mean_squared_error: 19.4994 - mean_absolute_percentage_error: 17.1393\n",
      "Epoch 58/100\n",
      "1539/1539 [==============================] - 40s 26ms/step - loss: 12.9422 - mean_absolute_error: 12.9422 - root_mean_squared_error: 19.4349 - mean_absolute_percentage_error: 17.0831\n",
      "Epoch 59/100\n",
      "1539/1539 [==============================] - 40s 26ms/step - loss: 12.9150 - mean_absolute_error: 12.9150 - root_mean_squared_error: 19.4044 - mean_absolute_percentage_error: 17.0530\n",
      "Epoch 60/100\n",
      "1539/1539 [==============================] - 40s 26ms/step - loss: 12.8767 - mean_absolute_error: 12.8767 - root_mean_squared_error: 19.3630 - mean_absolute_percentage_error: 16.9575\n",
      "Epoch 61/100\n",
      "1539/1539 [==============================] - 40s 26ms/step - loss: 12.8377 - mean_absolute_error: 12.8377 - root_mean_squared_error: 19.2978 - mean_absolute_percentage_error: 16.9345\n",
      "Epoch 62/100\n",
      "1539/1539 [==============================] - 40s 26ms/step - loss: 12.7904 - mean_absolute_error: 12.7904 - root_mean_squared_error: 19.2435 - mean_absolute_percentage_error: 16.9390\n",
      "Epoch 63/100\n",
      "1539/1539 [==============================] - 40s 26ms/step - loss: 12.7519 - mean_absolute_error: 12.7519 - root_mean_squared_error: 19.2078 - mean_absolute_percentage_error: 16.8536\n",
      "Epoch 64/100\n",
      "1539/1539 [==============================] - 40s 26ms/step - loss: 12.7019 - mean_absolute_error: 12.7019 - root_mean_squared_error: 19.1286 - mean_absolute_percentage_error: 16.7934\n",
      "Epoch 65/100\n",
      "1539/1539 [==============================] - 40s 26ms/step - loss: 12.6684 - mean_absolute_error: 12.6684 - root_mean_squared_error: 19.1007 - mean_absolute_percentage_error: 16.7725\n",
      "Epoch 66/100\n",
      "1539/1539 [==============================] - 40s 26ms/step - loss: 12.6220 - mean_absolute_error: 12.6220 - root_mean_squared_error: 19.0219 - mean_absolute_percentage_error: 16.6780\n",
      "Epoch 67/100\n",
      "1539/1539 [==============================] - 40s 26ms/step - loss: 12.5732 - mean_absolute_error: 12.5732 - root_mean_squared_error: 18.9829 - mean_absolute_percentage_error: 16.6897\n",
      "Epoch 68/100\n",
      "1539/1539 [==============================] - 40s 26ms/step - loss: 12.5312 - mean_absolute_error: 12.5312 - root_mean_squared_error: 18.9121 - mean_absolute_percentage_error: 16.60851s - loss: 12.5345 - mean_absolute_error: 12.5345 - root_mean_squared_error: 18.9054 - mean_\n",
      "Epoch 69/100\n",
      "1539/1539 [==============================] - 40s 26ms/step - loss: 12.4892 - mean_absolute_error: 12.4892 - root_mean_squared_error: 18.8636 - mean_absolute_percentage_error: 16.5972\n",
      "Epoch 70/100\n",
      "1539/1539 [==============================] - 40s 26ms/step - loss: 12.4532 - mean_absolute_error: 12.4532 - root_mean_squared_error: 18.8272 - mean_absolute_percentage_error: 16.5203\n",
      "Epoch 71/100\n",
      "1539/1539 [==============================] - 40s 26ms/step - loss: 12.4132 - mean_absolute_error: 12.4132 - root_mean_squared_error: 18.7667 - mean_absolute_percentage_error: 16.4786\n",
      "Epoch 72/100\n",
      "1539/1539 [==============================] - 40s 26ms/step - loss: 12.3686 - mean_absolute_error: 12.3686 - root_mean_squared_error: 18.7222 - mean_absolute_percentage_error: 16.3920\n",
      "Epoch 73/100\n",
      "1539/1539 [==============================] - 40s 26ms/step - loss: 12.3407 - mean_absolute_error: 12.3407 - root_mean_squared_error: 18.6730 - mean_absolute_percentage_error: 16.3912\n",
      "Epoch 74/100\n",
      "1539/1539 [==============================] - 40s 26ms/step - loss: 12.2832 - mean_absolute_error: 12.2832 - root_mean_squared_error: 18.6138 - mean_absolute_percentage_error: 16.3384\n",
      "Epoch 75/100\n",
      "1539/1539 [==============================] - 40s 26ms/step - loss: 12.2510 - mean_absolute_error: 12.2510 - root_mean_squared_error: 18.5763 - mean_absolute_percentage_error: 16.2746\n",
      "Epoch 76/100\n",
      "1539/1539 [==============================] - 40s 26ms/step - loss: 12.2154 - mean_absolute_error: 12.2154 - root_mean_squared_error: 18.5237 - mean_absolute_percentage_error: 16.2623\n",
      "Epoch 77/100\n",
      "1539/1539 [==============================] - 40s 26ms/step - loss: 12.1838 - mean_absolute_error: 12.1838 - root_mean_squared_error: 18.4829 - mean_absolute_percentage_error: 16.1931\n",
      "Epoch 78/100\n",
      "1539/1539 [==============================] - 40s 26ms/step - loss: 12.1431 - mean_absolute_error: 12.1431 - root_mean_squared_error: 18.4243 - mean_absolute_percentage_error: 16.1609\n",
      "Epoch 79/100\n",
      "1539/1539 [==============================] - 40s 26ms/step - loss: 12.1087 - mean_absolute_error: 12.1087 - root_mean_squared_error: 18.3889 - mean_absolute_percentage_error: 16.1387\n",
      "Epoch 80/100\n",
      "1539/1539 [==============================] - 40s 26ms/step - loss: 12.0539 - mean_absolute_error: 12.0539 - root_mean_squared_error: 18.3103 - mean_absolute_percentage_error: 16.0534\n",
      "Epoch 81/100\n",
      "1539/1539 [==============================] - 40s 26ms/step - loss: 12.0338 - mean_absolute_error: 12.0338 - root_mean_squared_error: 18.2941 - mean_absolute_percentage_error: 16.0482\n",
      "Epoch 82/100\n",
      "1539/1539 [==============================] - 40s 26ms/step - loss: 11.9889 - mean_absolute_error: 11.9889 - root_mean_squared_error: 18.2409 - mean_absolute_percentage_error: 15.9979\n",
      "Epoch 83/100\n"
     ]
    },
    {
     "name": "stdout",
     "output_type": "stream",
     "text": [
      "1539/1539 [==============================] - 40s 26ms/step - loss: 11.9626 - mean_absolute_error: 11.9626 - root_mean_squared_error: 18.2069 - mean_absolute_percentage_error: 15.9688\n",
      "Epoch 84/100\n",
      "1539/1539 [==============================] - 40s 26ms/step - loss: 11.9167 - mean_absolute_error: 11.9167 - root_mean_squared_error: 18.1487 - mean_absolute_percentage_error: 15.9234\n",
      "Epoch 85/100\n",
      "1539/1539 [==============================] - 40s 26ms/step - loss: 11.8800 - mean_absolute_error: 11.8800 - root_mean_squared_error: 18.1006 - mean_absolute_percentage_error: 15.8687\n",
      "Epoch 86/100\n",
      "1539/1539 [==============================] - 40s 26ms/step - loss: 11.8516 - mean_absolute_error: 11.8516 - root_mean_squared_error: 18.0425 - mean_absolute_percentage_error: 15.8614\n",
      "Epoch 87/100\n",
      "1539/1539 [==============================] - 40s 26ms/step - loss: 11.7990 - mean_absolute_error: 11.7990 - root_mean_squared_error: 17.9931 - mean_absolute_percentage_error: 15.8208\n",
      "Epoch 88/100\n",
      "1539/1539 [==============================] - 40s 26ms/step - loss: 11.7743 - mean_absolute_error: 11.7743 - root_mean_squared_error: 17.9590 - mean_absolute_percentage_error: 15.8053\n",
      "Epoch 89/100\n",
      "1539/1539 [==============================] - 40s 26ms/step - loss: 11.7391 - mean_absolute_error: 11.7391 - root_mean_squared_error: 17.9141 - mean_absolute_percentage_error: 15.7441\n",
      "Epoch 90/100\n",
      "1539/1539 [==============================] - 40s 26ms/step - loss: 11.7015 - mean_absolute_error: 11.7015 - root_mean_squared_error: 17.8634 - mean_absolute_percentage_error: 15.6668\n",
      "Epoch 91/100\n",
      "1539/1539 [==============================] - 40s 26ms/step - loss: 11.6695 - mean_absolute_error: 11.6695 - root_mean_squared_error: 17.8145 - mean_absolute_percentage_error: 15.6476\n",
      "Epoch 92/100\n",
      "1539/1539 [==============================] - 40s 26ms/step - loss: 11.6286 - mean_absolute_error: 11.6286 - root_mean_squared_error: 17.7621 - mean_absolute_percentage_error: 15.6194\n",
      "Epoch 93/100\n",
      "1539/1539 [==============================] - 40s 26ms/step - loss: 11.6086 - mean_absolute_error: 11.6086 - root_mean_squared_error: 17.7448 - mean_absolute_percentage_error: 15.5749\n",
      "Epoch 94/100\n",
      "1539/1539 [==============================] - 40s 26ms/step - loss: 11.5737 - mean_absolute_error: 11.5737 - root_mean_squared_error: 17.7033 - mean_absolute_percentage_error: 15.5572\n",
      "Epoch 95/100\n",
      "1539/1539 [==============================] - 41s 27ms/step - loss: 11.5369 - mean_absolute_error: 11.5369 - root_mean_squared_error: 17.6417 - mean_absolute_percentage_error: 15.5417\n",
      "Epoch 96/100\n",
      "1539/1539 [==============================] - 41s 27ms/step - loss: 11.5062 - mean_absolute_error: 11.5062 - root_mean_squared_error: 17.6132 - mean_absolute_percentage_error: 15.4972\n",
      "Epoch 97/100\n",
      "1539/1539 [==============================] - 41s 26ms/step - loss: 11.4817 - mean_absolute_error: 11.4817 - root_mean_squared_error: 17.5719 - mean_absolute_percentage_error: 15.4500\n",
      "Epoch 98/100\n",
      "1539/1539 [==============================] - 41s 26ms/step - loss: 11.4257 - mean_absolute_error: 11.4257 - root_mean_squared_error: 17.4960 - mean_absolute_percentage_error: 15.41723s - loss: 11.4278\n",
      "Epoch 99/100\n",
      "1539/1539 [==============================] - 41s 27ms/step - loss: 11.4107 - mean_absolute_error: 11.4107 - root_mean_squared_error: 17.4761 - mean_absolute_percentage_error: 15.4145\n",
      "Epoch 100/100\n",
      "1539/1539 [==============================] - 41s 26ms/step - loss: 11.3772 - mean_absolute_error: 11.3772 - root_mean_squared_error: 17.4307 - mean_absolute_percentage_error: 15.3705\n"
     ]
    },
    {
     "data": {
      "text/plain": [
       "<keras.callbacks.History at 0x203c2f66e20>"
      ]
     },
     "execution_count": 52,
     "metadata": {},
     "output_type": "execute_result"
    }
   ],
   "source": [
    "model30.fit((Wt30,Xt30), yt30, \n",
    "            epochs = 100, \n",
    "            verbose = 1)"
   ]
  },
  {
   "cell_type": "code",
   "execution_count": 53,
   "metadata": {},
   "outputs": [
    {
     "name": "stderr",
     "output_type": "stream",
     "text": [
      "WARNING:absl:Function `_wrapped_model` contains input name(s) WideInput, DeepInput with unsupported characters which will be renamed to wideinput, deepinput in the SavedModel.\n",
      "WARNING:absl:Found untraced functions such as lstm_cell_7_layer_call_fn, lstm_cell_7_layer_call_and_return_conditional_losses, lstm_cell_5_layer_call_fn, lstm_cell_5_layer_call_and_return_conditional_losses, lstm_cell_6_layer_call_fn while saving (showing 5 of 15). These functions will not be directly callable after loading.\n"
     ]
    },
    {
     "name": "stdout",
     "output_type": "stream",
     "text": [
      "INFO:tensorflow:Assets written to: my_dir/8b-30\\assets\n"
     ]
    },
    {
     "name": "stderr",
     "output_type": "stream",
     "text": [
      "INFO:tensorflow:Assets written to: my_dir/8b-30\\assets\n",
      "WARNING:absl:<keras.layers.recurrent.LSTMCell object at 0x00000203BF637250> has the same name 'LSTMCell' as a built-in Keras object. Consider renaming <class 'keras.layers.recurrent.LSTMCell'> to avoid naming conflicts when loading with `tf.keras.models.load_model`. If renaming is not possible, pass the object in the `custom_objects` parameter of the load function.\n",
      "WARNING:absl:<keras.layers.recurrent.LSTMCell object at 0x00000203C07CAA90> has the same name 'LSTMCell' as a built-in Keras object. Consider renaming <class 'keras.layers.recurrent.LSTMCell'> to avoid naming conflicts when loading with `tf.keras.models.load_model`. If renaming is not possible, pass the object in the `custom_objects` parameter of the load function.\n",
      "WARNING:absl:<keras.layers.recurrent.LSTMCell object at 0x00000203C3090D60> has the same name 'LSTMCell' as a built-in Keras object. Consider renaming <class 'keras.layers.recurrent.LSTMCell'> to avoid naming conflicts when loading with `tf.keras.models.load_model`. If renaming is not possible, pass the object in the `custom_objects` parameter of the load function.\n"
     ]
    }
   ],
   "source": [
    "model30.save(\"my_dir/8b-30\")"
   ]
  },
  {
   "cell_type": "code",
   "execution_count": 54,
   "metadata": {},
   "outputs": [],
   "source": [
    "metrics30 = pd.DataFrame(model30.history.history)"
   ]
  },
  {
   "cell_type": "code",
   "execution_count": 55,
   "metadata": {},
   "outputs": [
    {
     "data": {
      "text/plain": [
       "<AxesSubplot:>"
      ]
     },
     "execution_count": 55,
     "metadata": {},
     "output_type": "execute_result"
    },
    {
     "data": {
      "image/png": "[encoded data removed]",
      "text/plain": [
       "<Figure size 432x288 with 1 Axes>"
      ]
     },
     "metadata": {
      "needs_background": "light"
     },
     "output_type": "display_data"
    }
   ],
   "source": [
    "metrics30[['loss']].plot()"
   ]
  },
  {
   "cell_type": "code",
   "execution_count": 56,
   "metadata": {},
   "outputs": [],
   "source": [
    "model30 = keras.models.load_model(\"my_dir/8b-30\")"
   ]
  },
  {
   "cell_type": "code",
   "execution_count": 57,
   "metadata": {},
   "outputs": [
    {
     "data": {
      "text/plain": [
       "array([[ 29.343122 ,  15.236221 ,  36.15454  ,  63.903374 ,  25.479877 ,\n",
       "          5.0345173],\n",
       "       [ 28.497854 ,  15.152637 ,  14.715818 ,  59.058044 ,  25.379156 ,\n",
       "          5.422608 ],\n",
       "       [ 28.549734 ,  14.1088295,  24.037624 ,  59.422997 ,  28.096994 ,\n",
       "          5.3759975],\n",
       "       ...,\n",
       "       [ 41.757164 ,  36.316044 ,  66.49898  , 111.77511  ,  49.633015 ,\n",
       "         13.991615 ],\n",
       "       [ 42.368195 ,  39.8477   ,  67.027306 , 127.98414  ,  56.794773 ,\n",
       "         14.663796 ],\n",
       "       [ 40.596268 ,  32.985794 ,  46.323845 ,  95.835724 ,  36.62664  ,\n",
       "          5.5883026]], dtype=float32)"
      ]
     },
     "execution_count": 57,
     "metadata": {},
     "output_type": "execute_result"
    }
   ],
   "source": [
    "model30.predict((Wv30,Xv30))"
   ]
  },
  {
   "cell_type": "markdown",
   "metadata": {},
   "source": [
    "### Evaluation on inverse_transform"
   ]
  },
  {
   "cell_type": "code",
   "execution_count": null,
   "metadata": {},
   "outputs": [],
   "source": [
    "test_predictions30 = model30.predict((Wv30,Xv30))\n",
    "\n",
    "\n",
    "MSE30 = mean_squared_error(yv30,test_predictions30)\n",
    "\n",
    "MAE30 = mean_absolute_error(yv30,test_predictions30)\n",
    "\n",
    "RMSE30 = np.sqrt(MSE30)\n",
    "\n",
    "MAPE30 = mean_absolute_percentage_error(yv30,test_predictions30)*100\n",
    "\n",
    "eval30 = [MSE30, MAE30, RMSE30, MAPE30]\n",
    "print(eval30)"
   ]
  },
  {
   "cell_type": "code",
   "execution_count": null,
   "metadata": {},
   "outputs": [],
   "source": [
    "GEH, count = ga.GEH(np.asarray(yv30), np.asarray(test_predictions30))\n",
    "GEH30 = count/GEH.size\n",
    "print(GEH30)"
   ]
  },
  {
   "cell_type": "markdown",
   "metadata": {},
   "source": [
    "# 60 mins ahead"
   ]
  },
  {
   "cell_type": "code",
   "execution_count": 62,
   "metadata": {},
   "outputs": [],
   "source": [
    "def build_model_60(hp):\n",
    "    # Inputs\n",
    "    channel_Wide = keras.layers.Input(shape=Wt60.shape[1:], name=\"WideInput\")\n",
    "    channel_Deep = keras.layers.Input(shape=Xt60.shape[1:], name=\"DeepInput\")\n",
    "    units = hp.Int(\"units\", min_value=1, max_value=100, step=1)\n",
    "    \n",
    "    \n",
    "    # Wide Model\n",
    "    flatten_60w = keras.layers.TimeDistributed(keras.layers.Flatten())(channel_Wide)\n",
    "    Bi_60 = keras.layers.Bidirectional(\n",
    "        keras.layers.LSTM(units=units, return_sequences=True),\n",
    "        merge_mode=\"ave\"\n",
    "    )(flatten_60w)\n",
    "    \n",
    "    \n",
    "    # Deep Model\n",
    "    # CNN \n",
    "    CNN_60 = keras.layers.TimeDistributed(\n",
    "        keras.layers.Conv2D(filters=hp.Int(\"filters\", min_value=32, max_value=512, step=32),\n",
    "                            kernel_size=hp.Choice(\"kernel_size\", [2, 3]), activation='relu'))(channel_Deep)\n",
    "    flatten_60 = keras.layers.TimeDistributed(keras.layers.Flatten())(CNN_60)\n",
    "    # LSTM          \n",
    "    LSTM_60 = keras.layers.LSTM(units=units, return_sequences=True)(flatten_60)\n",
    "\n",
    "    \n",
    "    # Concatenation \n",
    "    concat = keras.layers.concatenate([Bi_60, LSTM_60], axis=1)\n",
    "\n",
    "    # Attention\n",
    "    Att_60 = SeqSelfAttention(attention_activation='sigmoid')(concat)\n",
    "    merge = keras.layers.Flatten()(Att_60)\n",
    "\n",
    "    \n",
    "    # Output\n",
    "    output = keras.layers.Dense(n_features, name= \"output\")(merge)\n",
    "    \n",
    "    # Model\n",
    "    model_60 = keras.Model(inputs=[channel_Wide,channel_Deep], outputs=[output])\n",
    "\n",
    "    # Compile\n",
    "    model_60.compile(optimizer=keras.optimizers.Adam(hp.Choice(\"learning_rate\", [1e-2, 1e-3, 1e-4])), \n",
    "        loss=\"mae\", metrics=['MeanAbsoluteError','RootMeanSquaredError','MeanAbsolutePercentageError'])\n",
    "                    \n",
    "    return model_60"
   ]
  },
  {
   "cell_type": "code",
   "execution_count": 63,
   "metadata": {},
   "outputs": [],
   "source": [
    "tuner60 = RandomSearch(\n",
    "    build_model_60,\n",
    "    objective=\"val_loss\",\n",
    "    max_trials=60,\n",
    "    executions_per_trial=2,\n",
    "    overwrite=False,\n",
    "    directory=os.path.normpath('C:/RunsOak'),\n",
    "    project_name=\"8b-60\",\n",
    ")"
   ]
  },
  {
   "cell_type": "code",
   "execution_count": 64,
   "metadata": {},
   "outputs": [
    {
     "name": "stdout",
     "output_type": "stream",
     "text": [
      "Search space summary\n",
      "Default search space size: 4\n",
      "units (Int)\n",
      "{'default': None, 'conditions': [], 'min_value': 1, 'max_value': 100, 'step': 1, 'sampling': None}\n",
      "filters (Int)\n",
      "{'default': None, 'conditions': [], 'min_value': 32, 'max_value': 512, 'step': 32, 'sampling': None}\n",
      "kernel_size (Choice)\n",
      "{'default': 2, 'conditions': [], 'values': [2, 3], 'ordered': True}\n",
      "learning_rate (Choice)\n",
      "{'default': 0.01, 'conditions': [], 'values': [0.01, 0.001, 0.0001], 'ordered': True}\n"
     ]
    }
   ],
   "source": [
    "tuner60.search_space_summary()"
   ]
  },
  {
   "cell_type": "code",
   "execution_count": 65,
   "metadata": {},
   "outputs": [
    {
     "name": "stdout",
     "output_type": "stream",
     "text": [
      "Trial 60 Complete [00h 13m 18s]\n",
      "val_loss: 16.664888381958008\n",
      "\n",
      "Best val_loss So Far: 16.058810234069824\n",
      "Total elapsed time: 04h 57m 11s\n",
      "INFO:tensorflow:Oracle triggered exit\n"
     ]
    },
    {
     "name": "stderr",
     "output_type": "stream",
     "text": [
      "INFO:tensorflow:Oracle triggered exit\n"
     ]
    }
   ],
   "source": [
    "tuner60.search((Wt60,Xt60), yt60, epochs=200,\n",
    "            validation_split = val_percent,\n",
    "            callbacks=[early_stop],\n",
    "            verbose=2)"
   ]
  },
  {
   "cell_type": "code",
   "execution_count": 66,
   "metadata": {},
   "outputs": [
    {
     "name": "stdout",
     "output_type": "stream",
     "text": [
      "Results summary\n",
      "Results in C:\\RunsOak\\8b-60\n",
      "Showing 1 best trials\n",
      "Objective(name='val_loss', direction='min')\n",
      "Trial summary\n",
      "Hyperparameters:\n",
      "units: 69\n",
      "filters: 32\n",
      "kernel_size: 2\n",
      "learning_rate: 0.001\n",
      "Score: 16.058810234069824\n"
     ]
    }
   ],
   "source": [
    "tuner60.results_summary(1)"
   ]
  },
  {
   "cell_type": "markdown",
   "metadata": {},
   "source": [
    "### Best model"
   ]
  },
  {
   "cell_type": "code",
   "execution_count": 67,
   "metadata": {},
   "outputs": [],
   "source": [
    "best_hp60 = tuner60.get_best_hyperparameters()[0]\n",
    "model60 = tuner60.hypermodel.build(best_hp60)"
   ]
  },
  {
   "cell_type": "code",
   "execution_count": 68,
   "metadata": {},
   "outputs": [
    {
     "data": {
      "text/plain": [
       "['Best_HP/8b-60']"
      ]
     },
     "execution_count": 68,
     "metadata": {},
     "output_type": "execute_result"
    }
   ],
   "source": [
    "scaler_filename = \"Best_HP/8b-60\"\n",
    "joblib.dump(best_hp60, scaler_filename) "
   ]
  },
  {
   "cell_type": "code",
   "execution_count": 69,
   "metadata": {},
   "outputs": [
    {
     "name": "stdout",
     "output_type": "stream",
     "text": [
      "Model: \"model_1\"\n",
      "__________________________________________________________________________________________________\n",
      " Layer (type)                   Output Shape         Param #     Connected to                     \n",
      "==================================================================================================\n",
      " DeepInput (InputLayer)         [(None, 3, 5, 6, 1)  0           []                               \n",
      "                                ]                                                                 \n",
      "                                                                                                  \n",
      " WideInput (InputLayer)         [(None, 3, 3, 6)]    0           []                               \n",
      "                                                                                                  \n",
      " time_distributed_4 (TimeDistri  (None, 3, 4, 5, 32)  160        ['DeepInput[0][0]']              \n",
      " buted)                                                                                           \n",
      "                                                                                                  \n",
      " time_distributed_3 (TimeDistri  (None, 3, 18)       0           ['WideInput[0][0]']              \n",
      " buted)                                                                                           \n",
      "                                                                                                  \n",
      " time_distributed_5 (TimeDistri  (None, 3, 640)      0           ['time_distributed_4[0][0]']     \n",
      " buted)                                                                                           \n",
      "                                                                                                  \n",
      " bidirectional_1 (Bidirectional  (None, 3, 69)       48576       ['time_distributed_3[0][0]']     \n",
      " )                                                                                                \n",
      "                                                                                                  \n",
      " lstm_3 (LSTM)                  (None, 3, 69)        195960      ['time_distributed_5[0][0]']     \n",
      "                                                                                                  \n",
      " concatenate_1 (Concatenate)    (None, 6, 69)        0           ['bidirectional_1[0][0]',        \n",
      "                                                                  'lstm_3[0][0]']                 \n",
      "                                                                                                  \n",
      " seq_self_attention_1 (SeqSelfA  (None, 6, 69)       4481        ['concatenate_1[0][0]']          \n",
      " ttention)                                                                                        \n",
      "                                                                                                  \n",
      " flatten_5 (Flatten)            (None, 414)          0           ['seq_self_attention_1[0][0]']   \n",
      "                                                                                                  \n",
      " output (Dense)                 (None, 6)            2490        ['flatten_5[0][0]']              \n",
      "                                                                                                  \n",
      "==================================================================================================\n",
      "Total params: 251,667\n",
      "Trainable params: 251,667\n",
      "Non-trainable params: 0\n",
      "__________________________________________________________________________________________________\n"
     ]
    }
   ],
   "source": [
    "model60.summary()"
   ]
  },
  {
   "cell_type": "code",
   "execution_count": 70,
   "metadata": {},
   "outputs": [
    {
     "name": "stdout",
     "output_type": "stream",
     "text": [
      "Epoch 1/100\n",
      "1539/1539 [==============================] - 16s 8ms/step - loss: 46.5379 - mean_absolute_error: 46.5379 - root_mean_squared_error: 75.2322 - mean_absolute_percentage_error: 52.1948\n",
      "Epoch 2/100\n",
      "1539/1539 [==============================] - 12s 8ms/step - loss: 22.7269 - mean_absolute_error: 22.7269 - root_mean_squared_error: 32.9977 - mean_absolute_percentage_error: 31.9600\n",
      "Epoch 3/100\n",
      "1539/1539 [==============================] - 12s 8ms/step - loss: 18.8929 - mean_absolute_error: 18.8929 - root_mean_squared_error: 27.8134 - mean_absolute_percentage_error: 28.2514\n",
      "Epoch 4/100\n",
      "1539/1539 [==============================] - 12s 8ms/step - loss: 18.2892 - mean_absolute_error: 18.2892 - root_mean_squared_error: 27.0074 - mean_absolute_percentage_error: 26.7564 1s - loss: 18.3117 - mean_absolute_error: 18.3117 - root_mean_squared_error:\n",
      "Epoch 5/100\n",
      "1539/1539 [==============================] - 12s 8ms/step - loss: 17.9254 - mean_absolute_error: 17.9254 - root_mean_squared_error: 26.4437 - mean_absolute_percentage_error: 25.6120\n",
      "Epoch 6/100\n",
      "1539/1539 [==============================] - 12s 8ms/step - loss: 17.6269 - mean_absolute_error: 17.6269 - root_mean_squared_error: 25.9351 - mean_absolute_percentage_error: 24.7902\n",
      "Epoch 7/100\n",
      "1539/1539 [==============================] - 12s 8ms/step - loss: 17.3595 - mean_absolute_error: 17.3595 - root_mean_squared_error: 25.4096 - mean_absolute_percentage_error: 24.0684\n",
      "Epoch 8/100\n",
      "1539/1539 [==============================] - 12s 8ms/step - loss: 17.0622 - mean_absolute_error: 17.0622 - root_mean_squared_error: 24.9075 - mean_absolute_percentage_error: 23.3803\n",
      "Epoch 9/100\n",
      "1539/1539 [==============================] - 12s 8ms/step - loss: 16.8465 - mean_absolute_error: 16.8465 - root_mean_squared_error: 24.5581 - mean_absolute_percentage_error: 22.9310\n",
      "Epoch 10/100\n",
      "1539/1539 [==============================] - 12s 8ms/step - loss: 16.7339 - mean_absolute_error: 16.7339 - root_mean_squared_error: 24.3776 - mean_absolute_percentage_error: 22.6630 1s - loss: 16.7396 - mean_absolute_error: 16.7396 - root_mean_squared_error: 24.3990 - m\n",
      "Epoch 11/100\n",
      "1539/1539 [==============================] - 12s 8ms/step - loss: 16.5742 - mean_absolute_error: 16.5742 - root_mean_squared_error: 24.1455 - mean_absolute_percentage_error: 22.3124 2s - loss: 16.6403 - mean_absolute_error: 16.6403 - ro\n",
      "Epoch 12/100\n",
      "1539/1539 [==============================] - 12s 8ms/step - loss: 16.4835 - mean_absolute_error: 16.4835 - root_mean_squared_error: 24.0495 - mean_absolute_percentage_error: 22.0812\n",
      "Epoch 13/100\n",
      "1539/1539 [==============================] - 12s 8ms/step - loss: 16.3763 - mean_absolute_error: 16.3763 - root_mean_squared_error: 23.9029 - mean_absolute_percentage_error: 21.8419\n",
      "Epoch 14/100\n",
      "1539/1539 [==============================] - 12s 8ms/step - loss: 16.2792 - mean_absolute_error: 16.2792 - root_mean_squared_error: 23.7773 - mean_absolute_percentage_error: 21.6895\n",
      "Epoch 15/100\n",
      "1539/1539 [==============================] - 12s 8ms/step - loss: 16.2008 - mean_absolute_error: 16.2008 - root_mean_squared_error: 23.7034 - mean_absolute_percentage_error: 21.5406\n",
      "Epoch 16/100\n",
      "1539/1539 [==============================] - 12s 8ms/step - loss: 16.1209 - mean_absolute_error: 16.1209 - root_mean_squared_error: 23.6107 - mean_absolute_percentage_error: 21.4312\n",
      "Epoch 17/100\n",
      "1539/1539 [==============================] - 12s 8ms/step - loss: 16.0649 - mean_absolute_error: 16.0649 - root_mean_squared_error: 23.5538 - mean_absolute_percentage_error: 21.2938\n",
      "Epoch 18/100\n",
      "1539/1539 [==============================] - 12s 8ms/step - loss: 16.0118 - mean_absolute_error: 16.0118 - root_mean_squared_error: 23.4884 - mean_absolute_percentage_error: 21.2622\n",
      "Epoch 19/100\n",
      "1539/1539 [==============================] - 12s 8ms/step - loss: 15.9603 - mean_absolute_error: 15.9603 - root_mean_squared_error: 23.4372 - mean_absolute_percentage_error: 21.0938\n",
      "Epoch 20/100\n",
      "1539/1539 [==============================] - 12s 8ms/step - loss: 15.8929 - mean_absolute_error: 15.8929 - root_mean_squared_error: 23.3480 - mean_absolute_percentage_error: 20.9773\n",
      "Epoch 21/100\n",
      "1539/1539 [==============================] - 12s 8ms/step - loss: 15.8543 - mean_absolute_error: 15.8543 - root_mean_squared_error: 23.3045 - mean_absolute_percentage_error: 20.9513\n",
      "Epoch 22/100\n",
      "1539/1539 [==============================] - 12s 8ms/step - loss: 15.7896 - mean_absolute_error: 15.7896 - root_mean_squared_error: 23.2402 - mean_absolute_percentage_error: 20.8236\n",
      "Epoch 23/100\n",
      "1539/1539 [==============================] - 12s 8ms/step - loss: 15.7546 - mean_absolute_error: 15.7546 - root_mean_squared_error: 23.2004 - mean_absolute_percentage_error: 20.7888\n",
      "Epoch 24/100\n",
      "1539/1539 [==============================] - 12s 8ms/step - loss: 15.7163 - mean_absolute_error: 15.7163 - root_mean_squared_error: 23.1398 - mean_absolute_percentage_error: 20.7276\n",
      "Epoch 25/100\n",
      "1539/1539 [==============================] - 12s 8ms/step - loss: 15.6683 - mean_absolute_error: 15.6683 - root_mean_squared_error: 23.0756 - mean_absolute_percentage_error: 20.6812\n",
      "Epoch 26/100\n",
      "1539/1539 [==============================] - 12s 8ms/step - loss: 15.6012 - mean_absolute_error: 15.6012 - root_mean_squared_error: 23.0018 - mean_absolute_percentage_error: 20.5800\n",
      "Epoch 27/100\n",
      "1539/1539 [==============================] - 12s 8ms/step - loss: 15.5894 - mean_absolute_error: 15.5894 - root_mean_squared_error: 22.9828 - mean_absolute_percentage_error: 20.5480\n",
      "Epoch 28/100\n",
      "1539/1539 [==============================] - 12s 8ms/step - loss: 15.5507 - mean_absolute_error: 15.5507 - root_mean_squared_error: 22.9310 - mean_absolute_percentage_error: 20.4639\n",
      "Epoch 29/100\n",
      "1539/1539 [==============================] - 12s 8ms/step - loss: 15.5107 - mean_absolute_error: 15.5107 - root_mean_squared_error: 22.8943 - mean_absolute_percentage_error: 20.3700\n",
      "Epoch 30/100\n",
      "1539/1539 [==============================] - 12s 8ms/step - loss: 15.4617 - mean_absolute_error: 15.4617 - root_mean_squared_error: 22.8246 - mean_absolute_percentage_error: 20.3722\n",
      "Epoch 31/100\n",
      "1539/1539 [==============================] - 12s 8ms/step - loss: 15.4423 - mean_absolute_error: 15.4423 - root_mean_squared_error: 22.8007 - mean_absolute_percentage_error: 20.2769\n",
      "Epoch 32/100\n",
      "1539/1539 [==============================] - 12s 8ms/step - loss: 15.4044 - mean_absolute_error: 15.4044 - root_mean_squared_error: 22.7494 - mean_absolute_percentage_error: 20.2504\n",
      "Epoch 33/100\n",
      "1539/1539 [==============================] - 12s 8ms/step - loss: 15.3888 - mean_absolute_error: 15.3888 - root_mean_squared_error: 22.7264 - mean_absolute_percentage_error: 20.1742\n",
      "Epoch 34/100\n",
      "1539/1539 [==============================] - 12s 8ms/step - loss: 15.3649 - mean_absolute_error: 15.3649 - root_mean_squared_error: 22.6944 - mean_absolute_percentage_error: 20.2374\n",
      "Epoch 35/100\n",
      "1539/1539 [==============================] - 12s 8ms/step - loss: 15.3236 - mean_absolute_error: 15.3236 - root_mean_squared_error: 22.6473 - mean_absolute_percentage_error: 20.1390 0s - loss: 15.3226 - mean_absolute_error: 15.3226 - root_mean_squared_error: 22.6462 - mean_absolute_percentage_error: 20.13\n",
      "Epoch 36/100\n",
      "1539/1539 [==============================] - 12s 8ms/step - loss: 15.2988 - mean_absolute_error: 15.2988 - root_mean_squared_error: 22.6141 - mean_absolute_percentage_error: 20.1060\n",
      "Epoch 37/100\n",
      "1539/1539 [==============================] - 12s 8ms/step - loss: 15.2741 - mean_absolute_error: 15.2741 - root_mean_squared_error: 22.5899 - mean_absolute_percentage_error: 20.0569\n",
      "Epoch 38/100\n",
      "1539/1539 [==============================] - 12s 8ms/step - loss: 15.2351 - mean_absolute_error: 15.2351 - root_mean_squared_error: 22.5496 - mean_absolute_percentage_error: 20.0633\n",
      "Epoch 39/100\n",
      "1539/1539 [==============================] - 12s 8ms/step - loss: 15.2187 - mean_absolute_error: 15.2187 - root_mean_squared_error: 22.5146 - mean_absolute_percentage_error: 19.9849\n",
      "Epoch 40/100\n",
      "1539/1539 [==============================] - 12s 8ms/step - loss: 15.1769 - mean_absolute_error: 15.1769 - root_mean_squared_error: 22.4689 - mean_absolute_percentage_error: 19.9879\n",
      "Epoch 41/100\n",
      "1539/1539 [==============================] - 12s 8ms/step - loss: 15.1650 - mean_absolute_error: 15.1650 - root_mean_squared_error: 22.4582 - mean_absolute_percentage_error: 19.9657\n",
      "Epoch 42/100\n",
      "1539/1539 [==============================] - 12s 8ms/step - loss: 15.1327 - mean_absolute_error: 15.1327 - root_mean_squared_error: 22.3990 - mean_absolute_percentage_error: 19.8430\n",
      "Epoch 43/100\n",
      "1539/1539 [==============================] - 12s 8ms/step - loss: 15.0973 - mean_absolute_error: 15.0973 - root_mean_squared_error: 22.3636 - mean_absolute_percentage_error: 19.8665\n",
      "Epoch 44/100\n",
      "1539/1539 [==============================] - 12s 8ms/step - loss: 15.0842 - mean_absolute_error: 15.0842 - root_mean_squared_error: 22.3548 - mean_absolute_percentage_error: 19.8517\n",
      "Epoch 45/100\n",
      "1539/1539 [==============================] - 12s 8ms/step - loss: 15.0625 - mean_absolute_error: 15.0625 - root_mean_squared_error: 22.3105 - mean_absolute_percentage_error: 19.8264\n",
      "Epoch 46/100\n",
      "1539/1539 [==============================] - 12s 8ms/step - loss: 15.0358 - mean_absolute_error: 15.0358 - root_mean_squared_error: 22.2745 - mean_absolute_percentage_error: 19.7417\n",
      "Epoch 47/100\n",
      "1539/1539 [==============================] - 12s 8ms/step - loss: 15.0052 - mean_absolute_error: 15.0052 - root_mean_squared_error: 22.2396 - mean_absolute_percentage_error: 19.7548\n",
      "Epoch 48/100\n",
      "1539/1539 [==============================] - 12s 8ms/step - loss: 14.9875 - mean_absolute_error: 14.9875 - root_mean_squared_error: 22.2220 - mean_absolute_percentage_error: 19.6607\n",
      "Epoch 49/100\n",
      "1539/1539 [==============================] - 12s 8ms/step - loss: 14.9470 - mean_absolute_error: 14.9470 - root_mean_squared_error: 22.1799 - mean_absolute_percentage_error: 19.6327\n",
      "Epoch 50/100\n",
      "1539/1539 [==============================] - 12s 8ms/step - loss: 14.9525 - mean_absolute_error: 14.9525 - root_mean_squared_error: 22.1897 - mean_absolute_percentage_error: 19.6737\n",
      "Epoch 51/100\n",
      "1539/1539 [==============================] - 12s 8ms/step - loss: 14.9093 - mean_absolute_error: 14.9093 - root_mean_squared_error: 22.1247 - mean_absolute_percentage_error: 19.6003\n",
      "Epoch 52/100\n",
      "1539/1539 [==============================] - 12s 8ms/step - loss: 14.8841 - mean_absolute_error: 14.8841 - root_mean_squared_error: 22.1073 - mean_absolute_percentage_error: 19.5816 2s - loss: 14.8795 - mean_absolute_error\n",
      "Epoch 53/100\n",
      "1539/1539 [==============================] - 12s 8ms/step - loss: 14.8556 - mean_absolute_error: 14.8556 - root_mean_squared_error: 22.0480 - mean_absolute_percentage_error: 19.6027\n",
      "Epoch 54/100\n",
      "1539/1539 [==============================] - 12s 8ms/step - loss: 14.8473 - mean_absolute_error: 14.8473 - root_mean_squared_error: 22.0366 - mean_absolute_percentage_error: 19.5378\n",
      "Epoch 55/100\n",
      "1539/1539 [==============================] - 12s 8ms/step - loss: 14.8275 - mean_absolute_error: 14.8275 - root_mean_squared_error: 22.0186 - mean_absolute_percentage_error: 19.4684\n",
      "Epoch 56/100\n",
      "1539/1539 [==============================] - 12s 8ms/step - loss: 14.7999 - mean_absolute_error: 14.7999 - root_mean_squared_error: 21.9855 - mean_absolute_percentage_error: 19.4717\n",
      "Epoch 57/100\n",
      "1539/1539 [==============================] - 12s 8ms/step - loss: 14.7842 - mean_absolute_error: 14.7842 - root_mean_squared_error: 21.9578 - mean_absolute_percentage_error: 19.4112\n",
      "Epoch 58/100\n",
      "1539/1539 [==============================] - 12s 8ms/step - loss: 14.7599 - mean_absolute_error: 14.7599 - root_mean_squared_error: 21.9422 - mean_absolute_percentage_error: 19.4186\n",
      "Epoch 59/100\n",
      "1539/1539 [==============================] - 12s 8ms/step - loss: 14.7430 - mean_absolute_error: 14.7430 - root_mean_squared_error: 21.9035 - mean_absolute_percentage_error: 19.4032\n",
      "Epoch 60/100\n",
      "1539/1539 [==============================] - 12s 8ms/step - loss: 14.6979 - mean_absolute_error: 14.6979 - root_mean_squared_error: 21.8581 - mean_absolute_percentage_error: 19.3484\n",
      "Epoch 61/100\n",
      "1539/1539 [==============================] - 12s 8ms/step - loss: 14.7032 - mean_absolute_error: 14.7032 - root_mean_squared_error: 21.8486 - mean_absolute_percentage_error: 19.3960\n",
      "Epoch 62/100\n",
      "1539/1539 [==============================] - 12s 8ms/step - loss: 14.6658 - mean_absolute_error: 14.6658 - root_mean_squared_error: 21.8152 - mean_absolute_percentage_error: 19.3208\n",
      "Epoch 63/100\n",
      "1539/1539 [==============================] - 12s 8ms/step - loss: 14.6403 - mean_absolute_error: 14.6403 - root_mean_squared_error: 21.7964 - mean_absolute_percentage_error: 19.2963\n",
      "Epoch 64/100\n",
      "1539/1539 [==============================] - 12s 8ms/step - loss: 14.6269 - mean_absolute_error: 14.6269 - root_mean_squared_error: 21.7516 - mean_absolute_percentage_error: 19.2629\n",
      "Epoch 65/100\n",
      "1539/1539 [==============================] - 12s 8ms/step - loss: 14.6261 - mean_absolute_error: 14.6261 - root_mean_squared_error: 21.7666 - mean_absolute_percentage_error: 19.2195\n",
      "Epoch 66/100\n",
      "1539/1539 [==============================] - 12s 8ms/step - loss: 14.5825 - mean_absolute_error: 14.5825 - root_mean_squared_error: 21.7088 - mean_absolute_percentage_error: 19.2024\n",
      "Epoch 67/100\n",
      "1539/1539 [==============================] - 12s 8ms/step - loss: 14.5607 - mean_absolute_error: 14.5607 - root_mean_squared_error: 21.6771 - mean_absolute_percentage_error: 19.1938\n",
      "Epoch 68/100\n",
      "1539/1539 [==============================] - 12s 8ms/step - loss: 14.5467 - mean_absolute_error: 14.5467 - root_mean_squared_error: 21.6661 - mean_absolute_percentage_error: 19.1823\n",
      "Epoch 69/100\n",
      "1539/1539 [==============================] - 12s 8ms/step - loss: 14.5315 - mean_absolute_error: 14.5315 - root_mean_squared_error: 21.6487 - mean_absolute_percentage_error: 19.1671\n",
      "Epoch 70/100\n",
      "1539/1539 [==============================] - 12s 8ms/step - loss: 14.4906 - mean_absolute_error: 14.4906 - root_mean_squared_error: 21.5937 - mean_absolute_percentage_error: 19.1831\n",
      "Epoch 71/100\n",
      "1539/1539 [==============================] - 12s 8ms/step - loss: 14.4859 - mean_absolute_error: 14.4859 - root_mean_squared_error: 21.5892 - mean_absolute_percentage_error: 19.1425\n",
      "Epoch 72/100\n",
      "1539/1539 [==============================] - 12s 8ms/step - loss: 14.4749 - mean_absolute_error: 14.4749 - root_mean_squared_error: 21.5657 - mean_absolute_percentage_error: 19.1279\n",
      "Epoch 73/100\n",
      "1539/1539 [==============================] - 12s 8ms/step - loss: 14.4569 - mean_absolute_error: 14.4569 - root_mean_squared_error: 21.5483 - mean_absolute_percentage_error: 19.0669\n",
      "Epoch 74/100\n",
      "1539/1539 [==============================] - 12s 8ms/step - loss: 14.4047 - mean_absolute_error: 14.4047 - root_mean_squared_error: 21.4804 - mean_absolute_percentage_error: 18.9969 3s - loss:\n",
      "Epoch 75/100\n",
      "1539/1539 [==============================] - 12s 8ms/step - loss: 14.4160 - mean_absolute_error: 14.4160 - root_mean_squared_error: 21.4979 - mean_absolute_percentage_error: 19.0263\n",
      "Epoch 76/100\n",
      "1539/1539 [==============================] - 12s 8ms/step - loss: 14.3871 - mean_absolute_error: 14.3871 - root_mean_squared_error: 21.4612 - mean_absolute_percentage_error: 18.9884 3s - loss: 14.3819 - m\n",
      "Epoch 77/100\n",
      "1539/1539 [==============================] - 12s 8ms/step - loss: 14.3714 - mean_absolute_error: 14.3714 - root_mean_squared_error: 21.4325 - mean_absolute_percentage_error: 18.9711\n",
      "Epoch 78/100\n",
      "1539/1539 [==============================] - 12s 8ms/step - loss: 14.3527 - mean_absolute_error: 14.3527 - root_mean_squared_error: 21.4243 - mean_absolute_percentage_error: 18.9534\n",
      "Epoch 79/100\n",
      "1539/1539 [==============================] - 12s 8ms/step - loss: 14.3129 - mean_absolute_error: 14.3129 - root_mean_squared_error: 21.3632 - mean_absolute_percentage_error: 18.9717\n",
      "Epoch 80/100\n",
      "1539/1539 [==============================] - 12s 8ms/step - loss: 14.3092 - mean_absolute_error: 14.3092 - root_mean_squared_error: 21.3670 - mean_absolute_percentage_error: 18.9237\n",
      "Epoch 81/100\n",
      "1539/1539 [==============================] - 12s 8ms/step - loss: 14.2797 - mean_absolute_error: 14.2797 - root_mean_squared_error: 21.3225 - mean_absolute_percentage_error: 18.9063\n",
      "Epoch 82/100\n"
     ]
    },
    {
     "name": "stdout",
     "output_type": "stream",
     "text": [
      "1539/1539 [==============================] - 12s 8ms/step - loss: 14.2698 - mean_absolute_error: 14.2698 - root_mean_squared_error: 21.3162 - mean_absolute_percentage_error: 18.9066 0s - loss: 14.2670 - mean_absolute_error: 14.2670 - root_mean_squared_error: 21.3136 - mean_absolute\n",
      "Epoch 83/100\n",
      "1539/1539 [==============================] - 12s 8ms/step - loss: 14.2408 - mean_absolute_error: 14.2408 - root_mean_squared_error: 21.2678 - mean_absolute_percentage_error: 18.8748\n",
      "Epoch 84/100\n",
      "1539/1539 [==============================] - 12s 8ms/step - loss: 14.2281 - mean_absolute_error: 14.2281 - root_mean_squared_error: 21.2502 - mean_absolute_percentage_error: 18.8525\n",
      "Epoch 85/100\n",
      "1539/1539 [==============================] - 12s 8ms/step - loss: 14.2227 - mean_absolute_error: 14.2227 - root_mean_squared_error: 21.2491 - mean_absolute_percentage_error: 18.8441\n",
      "Epoch 86/100\n",
      "1539/1539 [==============================] - 12s 8ms/step - loss: 14.1865 - mean_absolute_error: 14.1865 - root_mean_squared_error: 21.1913 - mean_absolute_percentage_error: 18.8026\n",
      "Epoch 87/100\n",
      "1539/1539 [==============================] - 12s 8ms/step - loss: 14.1679 - mean_absolute_error: 14.1679 - root_mean_squared_error: 21.1867 - mean_absolute_percentage_error: 18.7969\n",
      "Epoch 88/100\n",
      "1539/1539 [==============================] - 12s 8ms/step - loss: 14.1343 - mean_absolute_error: 14.1343 - root_mean_squared_error: 21.1305 - mean_absolute_percentage_error: 18.7469\n",
      "Epoch 89/100\n",
      "1539/1539 [==============================] - 12s 8ms/step - loss: 14.1124 - mean_absolute_error: 14.1124 - root_mean_squared_error: 21.1054 - mean_absolute_percentage_error: 18.6938\n",
      "Epoch 90/100\n",
      "1539/1539 [==============================] - 12s 8ms/step - loss: 14.1159 - mean_absolute_error: 14.1159 - root_mean_squared_error: 21.1044 - mean_absolute_percentage_error: 18.7388\n",
      "Epoch 91/100\n",
      "1539/1539 [==============================] - 12s 8ms/step - loss: 14.0687 - mean_absolute_error: 14.0687 - root_mean_squared_error: 21.0432 - mean_absolute_percentage_error: 18.6775\n",
      "Epoch 92/100\n",
      "1539/1539 [==============================] - 12s 8ms/step - loss: 14.0656 - mean_absolute_error: 14.0656 - root_mean_squared_error: 21.0477 - mean_absolute_percentage_error: 18.7104\n",
      "Epoch 93/100\n",
      "1539/1539 [==============================] - 12s 8ms/step - loss: 14.0367 - mean_absolute_error: 14.0367 - root_mean_squared_error: 21.0123 - mean_absolute_percentage_error: 18.6259\n",
      "Epoch 94/100\n",
      "1539/1539 [==============================] - 12s 8ms/step - loss: 14.0386 - mean_absolute_error: 14.0386 - root_mean_squared_error: 20.9960 - mean_absolute_percentage_error: 18.6602\n",
      "Epoch 95/100\n",
      "1539/1539 [==============================] - 12s 8ms/step - loss: 14.0086 - mean_absolute_error: 14.0086 - root_mean_squared_error: 20.9738 - mean_absolute_percentage_error: 18.6221\n",
      "Epoch 96/100\n",
      "1539/1539 [==============================] - 12s 8ms/step - loss: 13.9958 - mean_absolute_error: 13.9958 - root_mean_squared_error: 20.9547 - mean_absolute_percentage_error: 18.6013\n",
      "Epoch 97/100\n",
      "1539/1539 [==============================] - 12s 8ms/step - loss: 13.9814 - mean_absolute_error: 13.9814 - root_mean_squared_error: 20.9273 - mean_absolute_percentage_error: 18.5914\n",
      "Epoch 98/100\n",
      "1539/1539 [==============================] - 12s 8ms/step - loss: 13.9487 - mean_absolute_error: 13.9487 - root_mean_squared_error: 20.9009 - mean_absolute_percentage_error: 18.5635\n",
      "Epoch 99/100\n",
      "1539/1539 [==============================] - 12s 8ms/step - loss: 13.9275 - mean_absolute_error: 13.9275 - root_mean_squared_error: 20.8657 - mean_absolute_percentage_error: 18.5481\n",
      "Epoch 100/100\n",
      "1539/1539 [==============================] - 12s 8ms/step - loss: 13.9124 - mean_absolute_error: 13.9124 - root_mean_squared_error: 20.8526 - mean_absolute_percentage_error: 18.5484\n"
     ]
    },
    {
     "data": {
      "text/plain": [
       "<keras.callbacks.History at 0x20424648a60>"
      ]
     },
     "execution_count": 70,
     "metadata": {},
     "output_type": "execute_result"
    }
   ],
   "source": [
    "model60.fit((Wt60,Xt60), yt60, \n",
    "            epochs = 100, \n",
    "            verbose = 1\n",
    "            )"
   ]
  },
  {
   "cell_type": "code",
   "execution_count": 71,
   "metadata": {},
   "outputs": [
    {
     "name": "stderr",
     "output_type": "stream",
     "text": [
      "WARNING:absl:Function `_wrapped_model` contains input name(s) WideInput, DeepInput with unsupported characters which will be renamed to wideinput, deepinput in the SavedModel.\n",
      "WARNING:absl:Found untraced functions such as lstm_cell_7_layer_call_fn, lstm_cell_7_layer_call_and_return_conditional_losses, lstm_cell_5_layer_call_fn, lstm_cell_5_layer_call_and_return_conditional_losses, lstm_cell_6_layer_call_fn while saving (showing 5 of 15). These functions will not be directly callable after loading.\n"
     ]
    },
    {
     "name": "stdout",
     "output_type": "stream",
     "text": [
      "INFO:tensorflow:Assets written to: my_dir/8b-60\\assets\n"
     ]
    },
    {
     "name": "stderr",
     "output_type": "stream",
     "text": [
      "INFO:tensorflow:Assets written to: my_dir/8b-60\\assets\n",
      "WARNING:absl:<keras.layers.recurrent.LSTMCell object at 0x00000203E12BF970> has the same name 'LSTMCell' as a built-in Keras object. Consider renaming <class 'keras.layers.recurrent.LSTMCell'> to avoid naming conflicts when loading with `tf.keras.models.load_model`. If renaming is not possible, pass the object in the `custom_objects` parameter of the load function.\n",
      "WARNING:absl:<keras.layers.recurrent.LSTMCell object at 0x00000203C3E05D30> has the same name 'LSTMCell' as a built-in Keras object. Consider renaming <class 'keras.layers.recurrent.LSTMCell'> to avoid naming conflicts when loading with `tf.keras.models.load_model`. If renaming is not possible, pass the object in the `custom_objects` parameter of the load function.\n",
      "WARNING:absl:<keras.layers.recurrent.LSTMCell object at 0x00000203C3DEF5B0> has the same name 'LSTMCell' as a built-in Keras object. Consider renaming <class 'keras.layers.recurrent.LSTMCell'> to avoid naming conflicts when loading with `tf.keras.models.load_model`. If renaming is not possible, pass the object in the `custom_objects` parameter of the load function.\n"
     ]
    }
   ],
   "source": [
    "model60.save(\"my_dir/8b-60\")"
   ]
  },
  {
   "cell_type": "code",
   "execution_count": 72,
   "metadata": {},
   "outputs": [],
   "source": [
    "metrics60 = pd.DataFrame(model60.history.history)"
   ]
  },
  {
   "cell_type": "code",
   "execution_count": 73,
   "metadata": {},
   "outputs": [
    {
     "data": {
      "text/plain": [
       "<AxesSubplot:>"
      ]
     },
     "execution_count": 73,
     "metadata": {},
     "output_type": "execute_result"
    },
    {
     "data": {
      "image/png": "[encoded data removed]",
      "text/plain": [
       "<Figure size 432x288 with 1 Axes>"
      ]
     },
     "metadata": {
      "needs_background": "light"
     },
     "output_type": "display_data"
    }
   ],
   "source": [
    "metrics60[['loss']].plot()"
   ]
  },
  {
   "cell_type": "code",
   "execution_count": 74,
   "metadata": {},
   "outputs": [],
   "source": [
    "model60 = keras.models.load_model(\"my_dir/8b-60\")"
   ]
  },
  {
   "cell_type": "code",
   "execution_count": 75,
   "metadata": {},
   "outputs": [
    {
     "data": {
      "text/plain": [
       "array([[ 29.023537 ,  14.997673 ,  16.492004 ,  61.57861  ,  27.519388 ,\n",
       "          5.985657 ],\n",
       "       [ 28.31282  ,  13.842947 ,  12.773359 ,  59.460682 ,  28.419483 ,\n",
       "          5.6061854],\n",
       "       [ 29.35048  ,  15.124817 ,  13.284662 ,  59.66676  ,  28.277412 ,\n",
       "          5.3574452],\n",
       "       ...,\n",
       "       [ 43.330647 ,  37.764244 ,  55.550213 , 114.64623  ,  43.710777 ,\n",
       "          5.8330617],\n",
       "       [ 42.942356 ,  38.4175   ,  57.47635  , 120.02935  ,  44.887753 ,\n",
       "          4.1461067],\n",
       "       [ 38.796383 ,  33.45255  ,  55.40633  , 109.43807  ,  42.90502  ,\n",
       "          3.7495518]], dtype=float32)"
      ]
     },
     "execution_count": 75,
     "metadata": {},
     "output_type": "execute_result"
    }
   ],
   "source": [
    "model60.predict((Wv60,Xv60))"
   ]
  },
  {
   "cell_type": "markdown",
   "metadata": {},
   "source": [
    "### Evaluation on inverse_transform"
   ]
  },
  {
   "cell_type": "code",
   "execution_count": null,
   "metadata": {},
   "outputs": [],
   "source": [
    "test_predictions60 = model60.predict((Wv60,Xv60))\n",
    "\n",
    "\n",
    "MSE60 = mean_squared_error(yv60,test_predictions60)\n",
    "\n",
    "MAE60 = mean_absolute_error(yv60,test_predictions60)\n",
    "\n",
    "RMSE60 = np.sqrt(MSE60)\n",
    "\n",
    "MAPE60 = mean_absolute_percentage_error(yv60,test_predictions60)*100\n",
    "\n",
    "eval60 = [MSE60, MAE60, RMSE60, MAPE60]\n",
    "print(eval60)"
   ]
  },
  {
   "cell_type": "code",
   "execution_count": null,
   "metadata": {},
   "outputs": [],
   "source": [
    "GEH, count = ga.GEH(np.asarray(yv60), np.asarray(test_predictions60))\n",
    "GEH60 = count/GEH.size\n",
    "print(GEH60)"
   ]
  }
 ],
 "metadata": {
  "kernelspec": {
   "display_name": "Python 3 (ipykernel)",
   "language": "python",
   "name": "python3"
  },
  "language_info": {
   "codemirror_mode": {
    "name": "ipython",
    "version": 3
   },
   "file_extension": ".py",
   "mimetype": "text/x-python",
   "name": "python",
   "nbconvert_exporter": "python",
   "pygments_lexer": "ipython3",
   "version": "3.11.5"
  }
 },
 "nbformat": 4,
 "nbformat_minor": 4
}
