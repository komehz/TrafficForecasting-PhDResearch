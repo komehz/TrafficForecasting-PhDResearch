{
 "cells": [
  {
   "cell_type": "code",
   "execution_count": 1,
   "id": "38a99ba8",
   "metadata": {},
   "outputs": [],
   "source": [
    "import pandas as pd\n",
    "import numpy as np\n",
    "import matplotlib.pyplot as plt\n",
    "import seaborn as sns\n",
    "import joblib"
   ]
  },
  {
   "cell_type": "code",
   "execution_count": 2,
   "id": "bf397cfa",
   "metadata": {},
   "outputs": [],
   "source": [
    "Ext             = pd.DataFrame(joblib.load(\"0000Test.save\")) "
   ]
  },
  {
   "cell_type": "code",
   "execution_count": 3,
   "id": "375c5ab9",
   "metadata": {},
   "outputs": [],
   "source": [
    "columns = ['f1', 'f2', 'f3', 'f4', 'f5', 'f6']\n",
    "Ext.columns = columns"
   ]
  },
  {
   "cell_type": "code",
   "execution_count": 4,
   "id": "121a393d",
   "metadata": {},
   "outputs": [
    {
     "data": {
      "text/html": [
       "<div>\n",
       "<style scoped>\n",
       "    .dataframe tbody tr th:only-of-type {\n",
       "        vertical-align: middle;\n",
       "    }\n",
       "\n",
       "    .dataframe tbody tr th {\n",
       "        vertical-align: top;\n",
       "    }\n",
       "\n",
       "    .dataframe thead th {\n",
       "        text-align: right;\n",
       "    }\n",
       "</style>\n",
       "<table border=\"1\" class=\"dataframe\">\n",
       "  <thead>\n",
       "    <tr style=\"text-align: right;\">\n",
       "      <th></th>\n",
       "      <th>f1</th>\n",
       "      <th>f2</th>\n",
       "      <th>f3</th>\n",
       "      <th>f4</th>\n",
       "      <th>f5</th>\n",
       "      <th>f6</th>\n",
       "    </tr>\n",
       "  </thead>\n",
       "  <tbody>\n",
       "    <tr>\n",
       "      <th>0</th>\n",
       "      <td>0.227642</td>\n",
       "      <td>0.205279</td>\n",
       "      <td>0.253036</td>\n",
       "      <td>0.281553</td>\n",
       "      <td>0.221024</td>\n",
       "      <td>0.050704</td>\n",
       "    </tr>\n",
       "    <tr>\n",
       "      <th>1</th>\n",
       "      <td>0.203252</td>\n",
       "      <td>0.187683</td>\n",
       "      <td>0.194332</td>\n",
       "      <td>0.299353</td>\n",
       "      <td>0.226415</td>\n",
       "      <td>0.070423</td>\n",
       "    </tr>\n",
       "    <tr>\n",
       "      <th>2</th>\n",
       "      <td>0.174797</td>\n",
       "      <td>0.152493</td>\n",
       "      <td>0.230769</td>\n",
       "      <td>0.276699</td>\n",
       "      <td>0.194070</td>\n",
       "      <td>0.059155</td>\n",
       "    </tr>\n",
       "    <tr>\n",
       "      <th>3</th>\n",
       "      <td>0.182927</td>\n",
       "      <td>0.187683</td>\n",
       "      <td>0.163968</td>\n",
       "      <td>0.226537</td>\n",
       "      <td>0.140162</td>\n",
       "      <td>0.045070</td>\n",
       "    </tr>\n",
       "    <tr>\n",
       "      <th>4</th>\n",
       "      <td>0.186992</td>\n",
       "      <td>0.181818</td>\n",
       "      <td>0.163968</td>\n",
       "      <td>0.234628</td>\n",
       "      <td>0.180593</td>\n",
       "      <td>0.042254</td>\n",
       "    </tr>\n",
       "    <tr>\n",
       "      <th>...</th>\n",
       "      <td>...</td>\n",
       "      <td>...</td>\n",
       "      <td>...</td>\n",
       "      <td>...</td>\n",
       "      <td>...</td>\n",
       "      <td>...</td>\n",
       "    </tr>\n",
       "    <tr>\n",
       "      <th>8347</th>\n",
       "      <td>0.174797</td>\n",
       "      <td>0.167155</td>\n",
       "      <td>0.170040</td>\n",
       "      <td>0.211974</td>\n",
       "      <td>0.164420</td>\n",
       "      <td>0.104225</td>\n",
       "    </tr>\n",
       "    <tr>\n",
       "      <th>8348</th>\n",
       "      <td>0.203252</td>\n",
       "      <td>0.175953</td>\n",
       "      <td>0.165992</td>\n",
       "      <td>0.163430</td>\n",
       "      <td>0.164420</td>\n",
       "      <td>0.166197</td>\n",
       "    </tr>\n",
       "    <tr>\n",
       "      <th>8349</th>\n",
       "      <td>0.138211</td>\n",
       "      <td>0.123167</td>\n",
       "      <td>0.216599</td>\n",
       "      <td>0.231392</td>\n",
       "      <td>0.188679</td>\n",
       "      <td>0.064789</td>\n",
       "    </tr>\n",
       "    <tr>\n",
       "      <th>8350</th>\n",
       "      <td>0.158537</td>\n",
       "      <td>0.137830</td>\n",
       "      <td>0.206478</td>\n",
       "      <td>0.213592</td>\n",
       "      <td>0.196765</td>\n",
       "      <td>0.047887</td>\n",
       "    </tr>\n",
       "    <tr>\n",
       "      <th>8351</th>\n",
       "      <td>0.146341</td>\n",
       "      <td>0.120235</td>\n",
       "      <td>0.149798</td>\n",
       "      <td>0.153722</td>\n",
       "      <td>0.153639</td>\n",
       "      <td>0.143662</td>\n",
       "    </tr>\n",
       "  </tbody>\n",
       "</table>\n",
       "<p>8352 rows × 6 columns</p>\n",
       "</div>"
      ],
      "text/plain": [
       "            f1        f2        f3        f4        f5        f6\n",
       "0     0.227642  0.205279  0.253036  0.281553  0.221024  0.050704\n",
       "1     0.203252  0.187683  0.194332  0.299353  0.226415  0.070423\n",
       "2     0.174797  0.152493  0.230769  0.276699  0.194070  0.059155\n",
       "3     0.182927  0.187683  0.163968  0.226537  0.140162  0.045070\n",
       "4     0.186992  0.181818  0.163968  0.234628  0.180593  0.042254\n",
       "...        ...       ...       ...       ...       ...       ...\n",
       "8347  0.174797  0.167155  0.170040  0.211974  0.164420  0.104225\n",
       "8348  0.203252  0.175953  0.165992  0.163430  0.164420  0.166197\n",
       "8349  0.138211  0.123167  0.216599  0.231392  0.188679  0.064789\n",
       "8350  0.158537  0.137830  0.206478  0.213592  0.196765  0.047887\n",
       "8351  0.146341  0.120235  0.149798  0.153722  0.153639  0.143662\n",
       "\n",
       "[8352 rows x 6 columns]"
      ]
     },
     "execution_count": 4,
     "metadata": {},
     "output_type": "execute_result"
    }
   ],
   "source": [
    "Ext"
   ]
  },
  {
   "cell_type": "markdown",
   "id": "66a3bf4d",
   "metadata": {},
   "source": [
    "### Total Data"
   ]
  },
  {
   "cell_type": "code",
   "execution_count": 5,
   "id": "5b4619da",
   "metadata": {},
   "outputs": [],
   "source": [
    "df = Ext.copy()"
   ]
  },
  {
   "cell_type": "code",
   "execution_count": 6,
   "id": "a846a23f",
   "metadata": {},
   "outputs": [
    {
     "data": {
      "text/html": [
       "<div>\n",
       "<style scoped>\n",
       "    .dataframe tbody tr th:only-of-type {\n",
       "        vertical-align: middle;\n",
       "    }\n",
       "\n",
       "    .dataframe tbody tr th {\n",
       "        vertical-align: top;\n",
       "    }\n",
       "\n",
       "    .dataframe thead th {\n",
       "        text-align: right;\n",
       "    }\n",
       "</style>\n",
       "<table border=\"1\" class=\"dataframe\">\n",
       "  <thead>\n",
       "    <tr style=\"text-align: right;\">\n",
       "      <th></th>\n",
       "      <th>f1</th>\n",
       "      <th>f2</th>\n",
       "      <th>f3</th>\n",
       "      <th>f4</th>\n",
       "      <th>f5</th>\n",
       "      <th>f6</th>\n",
       "    </tr>\n",
       "  </thead>\n",
       "  <tbody>\n",
       "    <tr>\n",
       "      <th>0</th>\n",
       "      <td>0.227642</td>\n",
       "      <td>0.205279</td>\n",
       "      <td>0.253036</td>\n",
       "      <td>0.281553</td>\n",
       "      <td>0.221024</td>\n",
       "      <td>0.050704</td>\n",
       "    </tr>\n",
       "    <tr>\n",
       "      <th>1</th>\n",
       "      <td>0.203252</td>\n",
       "      <td>0.187683</td>\n",
       "      <td>0.194332</td>\n",
       "      <td>0.299353</td>\n",
       "      <td>0.226415</td>\n",
       "      <td>0.070423</td>\n",
       "    </tr>\n",
       "    <tr>\n",
       "      <th>2</th>\n",
       "      <td>0.174797</td>\n",
       "      <td>0.152493</td>\n",
       "      <td>0.230769</td>\n",
       "      <td>0.276699</td>\n",
       "      <td>0.194070</td>\n",
       "      <td>0.059155</td>\n",
       "    </tr>\n",
       "    <tr>\n",
       "      <th>3</th>\n",
       "      <td>0.182927</td>\n",
       "      <td>0.187683</td>\n",
       "      <td>0.163968</td>\n",
       "      <td>0.226537</td>\n",
       "      <td>0.140162</td>\n",
       "      <td>0.045070</td>\n",
       "    </tr>\n",
       "    <tr>\n",
       "      <th>4</th>\n",
       "      <td>0.186992</td>\n",
       "      <td>0.181818</td>\n",
       "      <td>0.163968</td>\n",
       "      <td>0.234628</td>\n",
       "      <td>0.180593</td>\n",
       "      <td>0.042254</td>\n",
       "    </tr>\n",
       "    <tr>\n",
       "      <th>...</th>\n",
       "      <td>...</td>\n",
       "      <td>...</td>\n",
       "      <td>...</td>\n",
       "      <td>...</td>\n",
       "      <td>...</td>\n",
       "      <td>...</td>\n",
       "    </tr>\n",
       "    <tr>\n",
       "      <th>8347</th>\n",
       "      <td>0.174797</td>\n",
       "      <td>0.167155</td>\n",
       "      <td>0.170040</td>\n",
       "      <td>0.211974</td>\n",
       "      <td>0.164420</td>\n",
       "      <td>0.104225</td>\n",
       "    </tr>\n",
       "    <tr>\n",
       "      <th>8348</th>\n",
       "      <td>0.203252</td>\n",
       "      <td>0.175953</td>\n",
       "      <td>0.165992</td>\n",
       "      <td>0.163430</td>\n",
       "      <td>0.164420</td>\n",
       "      <td>0.166197</td>\n",
       "    </tr>\n",
       "    <tr>\n",
       "      <th>8349</th>\n",
       "      <td>0.138211</td>\n",
       "      <td>0.123167</td>\n",
       "      <td>0.216599</td>\n",
       "      <td>0.231392</td>\n",
       "      <td>0.188679</td>\n",
       "      <td>0.064789</td>\n",
       "    </tr>\n",
       "    <tr>\n",
       "      <th>8350</th>\n",
       "      <td>0.158537</td>\n",
       "      <td>0.137830</td>\n",
       "      <td>0.206478</td>\n",
       "      <td>0.213592</td>\n",
       "      <td>0.196765</td>\n",
       "      <td>0.047887</td>\n",
       "    </tr>\n",
       "    <tr>\n",
       "      <th>8351</th>\n",
       "      <td>0.146341</td>\n",
       "      <td>0.120235</td>\n",
       "      <td>0.149798</td>\n",
       "      <td>0.153722</td>\n",
       "      <td>0.153639</td>\n",
       "      <td>0.143662</td>\n",
       "    </tr>\n",
       "  </tbody>\n",
       "</table>\n",
       "<p>8352 rows × 6 columns</p>\n",
       "</div>"
      ],
      "text/plain": [
       "            f1        f2        f3        f4        f5        f6\n",
       "0     0.227642  0.205279  0.253036  0.281553  0.221024  0.050704\n",
       "1     0.203252  0.187683  0.194332  0.299353  0.226415  0.070423\n",
       "2     0.174797  0.152493  0.230769  0.276699  0.194070  0.059155\n",
       "3     0.182927  0.187683  0.163968  0.226537  0.140162  0.045070\n",
       "4     0.186992  0.181818  0.163968  0.234628  0.180593  0.042254\n",
       "...        ...       ...       ...       ...       ...       ...\n",
       "8347  0.174797  0.167155  0.170040  0.211974  0.164420  0.104225\n",
       "8348  0.203252  0.175953  0.165992  0.163430  0.164420  0.166197\n",
       "8349  0.138211  0.123167  0.216599  0.231392  0.188679  0.064789\n",
       "8350  0.158537  0.137830  0.206478  0.213592  0.196765  0.047887\n",
       "8351  0.146341  0.120235  0.149798  0.153722  0.153639  0.143662\n",
       "\n",
       "[8352 rows x 6 columns]"
      ]
     },
     "execution_count": 6,
     "metadata": {},
     "output_type": "execute_result"
    }
   ],
   "source": [
    "df"
   ]
  },
  {
   "cell_type": "code",
   "execution_count": 7,
   "id": "9c0e3b13",
   "metadata": {},
   "outputs": [],
   "source": [
    "date_range = pd.date_range('2018-07-01 00:00', '2018-07-29 23:59', freq='5Min')\n",
    "myser = pd.Series(data=date_range, name='Timestamp')"
   ]
  },
  {
   "cell_type": "code",
   "execution_count": 8,
   "id": "569e21c6",
   "metadata": {},
   "outputs": [
    {
     "data": {
      "text/plain": [
       "8352"
      ]
     },
     "execution_count": 8,
     "metadata": {},
     "output_type": "execute_result"
    }
   ],
   "source": [
    "len(myser)"
   ]
  },
  {
   "cell_type": "code",
   "execution_count": 9,
   "id": "a7e0c403",
   "metadata": {},
   "outputs": [],
   "source": [
    "df.drop(columns = ['f1', 'f2', 'f3', 'f5', 'f6'], inplace=True);\n",
    "df['Timestamp'] = myser\n",
    "\n",
    "# Re-arrange spatial columns, so, the data is sequential\n",
    "df = df[['Timestamp','f4']]"
   ]
  },
  {
   "cell_type": "code",
   "execution_count": 10,
   "id": "7bf106c4",
   "metadata": {},
   "outputs": [
    {
     "data": {
      "text/html": [
       "<div>\n",
       "<style scoped>\n",
       "    .dataframe tbody tr th:only-of-type {\n",
       "        vertical-align: middle;\n",
       "    }\n",
       "\n",
       "    .dataframe tbody tr th {\n",
       "        vertical-align: top;\n",
       "    }\n",
       "\n",
       "    .dataframe thead th {\n",
       "        text-align: right;\n",
       "    }\n",
       "</style>\n",
       "<table border=\"1\" class=\"dataframe\">\n",
       "  <thead>\n",
       "    <tr style=\"text-align: right;\">\n",
       "      <th></th>\n",
       "      <th>Timestamp</th>\n",
       "      <th>f4</th>\n",
       "    </tr>\n",
       "  </thead>\n",
       "  <tbody>\n",
       "    <tr>\n",
       "      <th>0</th>\n",
       "      <td>2018-07-01 00:00:00</td>\n",
       "      <td>0.281553</td>\n",
       "    </tr>\n",
       "    <tr>\n",
       "      <th>1</th>\n",
       "      <td>2018-07-01 00:05:00</td>\n",
       "      <td>0.299353</td>\n",
       "    </tr>\n",
       "    <tr>\n",
       "      <th>2</th>\n",
       "      <td>2018-07-01 00:10:00</td>\n",
       "      <td>0.276699</td>\n",
       "    </tr>\n",
       "    <tr>\n",
       "      <th>3</th>\n",
       "      <td>2018-07-01 00:15:00</td>\n",
       "      <td>0.226537</td>\n",
       "    </tr>\n",
       "    <tr>\n",
       "      <th>4</th>\n",
       "      <td>2018-07-01 00:20:00</td>\n",
       "      <td>0.234628</td>\n",
       "    </tr>\n",
       "    <tr>\n",
       "      <th>...</th>\n",
       "      <td>...</td>\n",
       "      <td>...</td>\n",
       "    </tr>\n",
       "    <tr>\n",
       "      <th>8347</th>\n",
       "      <td>2018-07-29 23:35:00</td>\n",
       "      <td>0.211974</td>\n",
       "    </tr>\n",
       "    <tr>\n",
       "      <th>8348</th>\n",
       "      <td>2018-07-29 23:40:00</td>\n",
       "      <td>0.163430</td>\n",
       "    </tr>\n",
       "    <tr>\n",
       "      <th>8349</th>\n",
       "      <td>2018-07-29 23:45:00</td>\n",
       "      <td>0.231392</td>\n",
       "    </tr>\n",
       "    <tr>\n",
       "      <th>8350</th>\n",
       "      <td>2018-07-29 23:50:00</td>\n",
       "      <td>0.213592</td>\n",
       "    </tr>\n",
       "    <tr>\n",
       "      <th>8351</th>\n",
       "      <td>2018-07-29 23:55:00</td>\n",
       "      <td>0.153722</td>\n",
       "    </tr>\n",
       "  </tbody>\n",
       "</table>\n",
       "<p>8352 rows × 2 columns</p>\n",
       "</div>"
      ],
      "text/plain": [
       "               Timestamp        f4\n",
       "0    2018-07-01 00:00:00  0.281553\n",
       "1    2018-07-01 00:05:00  0.299353\n",
       "2    2018-07-01 00:10:00  0.276699\n",
       "3    2018-07-01 00:15:00  0.226537\n",
       "4    2018-07-01 00:20:00  0.234628\n",
       "...                  ...       ...\n",
       "8347 2018-07-29 23:35:00  0.211974\n",
       "8348 2018-07-29 23:40:00  0.163430\n",
       "8349 2018-07-29 23:45:00  0.231392\n",
       "8350 2018-07-29 23:50:00  0.213592\n",
       "8351 2018-07-29 23:55:00  0.153722\n",
       "\n",
       "[8352 rows x 2 columns]"
      ]
     },
     "execution_count": 10,
     "metadata": {},
     "output_type": "execute_result"
    }
   ],
   "source": [
    "df"
   ]
  },
  {
   "cell_type": "code",
   "execution_count": 11,
   "id": "33f60250",
   "metadata": {},
   "outputs": [
    {
     "data": {
      "text/plain": [
       "Timestamp    2018-07-16 00:00:00\n",
       "f4                      0.169903\n",
       "Name: 4320, dtype: object"
      ]
     },
     "execution_count": 11,
     "metadata": {},
     "output_type": "execute_result"
    }
   ],
   "source": [
    "df.iloc[4320]          # First sample"
   ]
  },
  {
   "cell_type": "code",
   "execution_count": 12,
   "id": "f14049f2",
   "metadata": {},
   "outputs": [
    {
     "data": {
      "text/plain": [
       "Timestamp    2018-07-09 00:00:00\n",
       "f4                      0.098706\n",
       "Name: 2304, dtype: object"
      ]
     },
     "execution_count": 12,
     "metadata": {},
     "output_type": "execute_result"
    }
   ],
   "source": [
    "df.iloc[2304]          # -1 week (-2016 samples)"
   ]
  },
  {
   "cell_type": "code",
   "execution_count": 13,
   "id": "d9a66860",
   "metadata": {},
   "outputs": [
    {
     "data": {
      "text/plain": [
       "Timestamp    2018-07-02 00:00:00\n",
       "f4                      0.169903\n",
       "Name: 288, dtype: object"
      ]
     },
     "execution_count": 13,
     "metadata": {},
     "output_type": "execute_result"
    }
   ],
   "source": [
    "df.iloc[288]           # -2 week (-4032 samples)"
   ]
  },
  {
   "cell_type": "markdown",
   "id": "e1fbe51c",
   "metadata": {},
   "source": [
    "# Generate Weekly Samples"
   ]
  },
  {
   "cell_type": "code",
   "execution_count": 14,
   "id": "09eff39f",
   "metadata": {},
   "outputs": [],
   "source": [
    "a = np.zeros((2, 7))\n",
    "b = np.zeros((2, 7))\n",
    "x = 4320                           # Start\n",
    "\n",
    "for i in range(len(df.iloc[x:])):\n",
    "    for j in range(2):\n",
    "        for k in range(7):\n",
    "            if j == 0:\n",
    "                a[j][k] = df.iloc[x-2019+i+k].drop(['Timestamp'])\n",
    "            else:\n",
    "                a[j][k] = df.iloc[x-4035+i+k].drop(['Timestamp'])\n",
    "    b = np.append(b, a, axis=0)\n",
    "\n",
    "b = np.delete(b, np.s_[0:2], 0).reshape(-1, 2, 7)"
   ]
  },
  {
   "cell_type": "code",
   "execution_count": 15,
   "id": "5485fbb0",
   "metadata": {},
   "outputs": [
    {
     "data": {
      "text/plain": [
       "array([[0.11003236, 0.11812298, 0.10517799, 0.0987055 , 0.09385113,\n",
       "        0.0987055 , 0.07605178],\n",
       "       [0.20550162, 0.20064725, 0.14563107, 0.16990291, 0.17961165,\n",
       "        0.13754045, 0.20711974]])"
      ]
     },
     "execution_count": 15,
     "metadata": {},
     "output_type": "execute_result"
    }
   ],
   "source": [
    "b[0]"
   ]
  },
  {
   "cell_type": "code",
   "execution_count": 16,
   "id": "f9a0769c",
   "metadata": {},
   "outputs": [
    {
     "data": {
      "text/plain": [
       "array([[0.11812298, 0.10517799, 0.0987055 , 0.09385113, 0.0987055 ,\n",
       "        0.07605178, 0.0776699 ],\n",
       "       [0.20064725, 0.14563107, 0.16990291, 0.17961165, 0.13754045,\n",
       "        0.20711974, 0.13754045]])"
      ]
     },
     "execution_count": 16,
     "metadata": {},
     "output_type": "execute_result"
    }
   ],
   "source": [
    "b[1]"
   ]
  },
  {
   "cell_type": "code",
   "execution_count": 17,
   "id": "80d44ec4",
   "metadata": {},
   "outputs": [
    {
     "data": {
      "text/plain": [
       "array([0.11003236, 0.11812298, 0.10517799, 0.0987055 , 0.09385113,\n",
       "       0.0987055 , 0.07605178, 0.20550162, 0.20064725, 0.14563107,\n",
       "       0.16990291, 0.17961165, 0.13754045, 0.20711974])"
      ]
     },
     "execution_count": 17,
     "metadata": {},
     "output_type": "execute_result"
    }
   ],
   "source": [
    "b[0].flatten()"
   ]
  },
  {
   "cell_type": "code",
   "execution_count": 18,
   "id": "77321798",
   "metadata": {},
   "outputs": [],
   "source": [
    "a = b.flatten().reshape(-1,14)"
   ]
  },
  {
   "cell_type": "code",
   "execution_count": 19,
   "id": "d2198ca2",
   "metadata": {},
   "outputs": [
    {
     "data": {
      "text/plain": [
       "array([0.11003236, 0.11812298, 0.10517799, 0.0987055 , 0.09385113,\n",
       "       0.0987055 , 0.07605178, 0.20550162, 0.20064725, 0.14563107,\n",
       "       0.16990291, 0.17961165, 0.13754045, 0.20711974])"
      ]
     },
     "execution_count": 19,
     "metadata": {},
     "output_type": "execute_result"
    }
   ],
   "source": [
    "a[0]"
   ]
  },
  {
   "cell_type": "markdown",
   "id": "3ed9e851",
   "metadata": {},
   "source": [
    "#### Confirmation"
   ]
  },
  {
   "cell_type": "code",
   "execution_count": 20,
   "id": "607224da",
   "metadata": {},
   "outputs": [
    {
     "data": {
      "text/plain": [
       "array([0.11003236, 0.11812298, 0.10517799, 0.0987055 , 0.09385113,\n",
       "       0.0987055 , 0.07605178, 0.20550162, 0.20064725, 0.14563107,\n",
       "       0.16990291, 0.17961165, 0.13754045, 0.20711974])"
      ]
     },
     "execution_count": 20,
     "metadata": {},
     "output_type": "execute_result"
    }
   ],
   "source": [
    "a[0]"
   ]
  },
  {
   "cell_type": "code",
   "execution_count": 21,
   "id": "fbb8c5bf",
   "metadata": {},
   "outputs": [
    {
     "data": {
      "text/plain": [
       "Timestamp    2018-07-09 00:00:00\n",
       "f4                      0.098706\n",
       "Name: 2304, dtype: object"
      ]
     },
     "execution_count": 21,
     "metadata": {},
     "output_type": "execute_result"
    }
   ],
   "source": [
    "df.iloc[2304] "
   ]
  },
  {
   "cell_type": "code",
   "execution_count": 22,
   "id": "64d58e79",
   "metadata": {},
   "outputs": [
    {
     "data": {
      "text/plain": [
       "Timestamp    2018-07-02 00:00:00\n",
       "f4                      0.169903\n",
       "Name: 288, dtype: object"
      ]
     },
     "execution_count": 22,
     "metadata": {},
     "output_type": "execute_result"
    }
   ],
   "source": [
    "df.iloc[288] "
   ]
  },
  {
   "cell_type": "code",
   "execution_count": 23,
   "id": "da226c46",
   "metadata": {},
   "outputs": [
    {
     "data": {
      "text/plain": [
       "4032"
      ]
     },
     "execution_count": 23,
     "metadata": {},
     "output_type": "execute_result"
    }
   ],
   "source": [
    "len(a)"
   ]
  },
  {
   "cell_type": "markdown",
   "id": "0b001f34",
   "metadata": {},
   "source": [
    "# Save Data"
   ]
  },
  {
   "cell_type": "code",
   "execution_count": 24,
   "id": "9cc679c8",
   "metadata": {},
   "outputs": [],
   "source": [
    "joblib.dump(a, \"002weeks_test_July.save\"); "
   ]
  }
 ],
 "metadata": {
  "kernelspec": {
   "display_name": "Python 3 (ipykernel)",
   "language": "python",
   "name": "python3"
  },
  "language_info": {
   "codemirror_mode": {
    "name": "ipython",
    "version": 3
   },
   "file_extension": ".py",
   "mimetype": "text/x-python",
   "name": "python",
   "nbconvert_exporter": "python",
   "pygments_lexer": "ipython3",
   "version": "3.11.5"
  }
 },
 "nbformat": 4,
 "nbformat_minor": 5
}
