{
 "cells": [
  {
   "cell_type": "code",
   "execution_count": 1,
   "metadata": {},
   "outputs": [],
   "source": [
    "import pandas as pd\n",
    "import numpy as np\n",
    "import matplotlib.pyplot as plt\n",
    "import seaborn as sns\n",
    "import joblib\n",
    "import os"
   ]
  },
  {
   "cell_type": "code",
   "execution_count": 2,
   "metadata": {},
   "outputs": [],
   "source": [
    "import keras_tuner as kt\n",
    "from keras_tuner import RandomSearch\n",
    "# from GEH_LOSS import GEH_loss\n",
    "import geh as ga"
   ]
  },
  {
   "cell_type": "code",
   "execution_count": 3,
   "metadata": {},
   "outputs": [],
   "source": [
    "from sklearn.metrics import mean_absolute_error,mean_squared_error,mean_absolute_percentage_error"
   ]
  },
  {
   "cell_type": "code",
   "execution_count": 4,
   "metadata": {},
   "outputs": [],
   "source": [
    "import relative_accuracy as ra"
   ]
  },
  {
   "cell_type": "code",
   "execution_count": 5,
   "metadata": {},
   "outputs": [],
   "source": [
    "# Load all Inputs and Output Data\n",
    "\n",
    "# 5 mins (1 step ahead)\n",
    "Deep_train_5   = np.load(\"Deep_train_5_multi.npz\")['x'] \n",
    "Output_train_5 = np.load(\"Deep_train_5_multi.npz\")['y']\n",
    "\n",
    "Deep_test_5   = np.load(\"Deep_test_5_multi.npz\")['x'] \n",
    "Output_test_5 = np.load(\"Deep_test_5_multi.npz\")['y'] \n",
    "\n",
    "# 15 mins (3 steps ahead)\n",
    "Deep_train_15   = np.load(\"Deep_train_15_multi.npz\")['x'] \n",
    "Output_train_15 = np.load(\"Deep_train_15_multi.npz\")['y']\n",
    "\n",
    "Deep_test_15   = np.load(\"Deep_test_15_multi.npz\")['x'] \n",
    "Output_test_15 = np.load(\"Deep_test_15_multi.npz\")['y']\n",
    "\n",
    "# 30 mins (6 steps ahead)\n",
    "Deep_train_30   = np.load(\"Deep_train_30_multi.npz\")['x'] \n",
    "Output_train_30 = np.load(\"Deep_train_30_multi.npz\")['y']\n",
    "\n",
    "Deep_test_30   = np.load(\"Deep_test_30_multi.npz\")['x'] \n",
    "Output_test_30 = np.load(\"Deep_test_30_multi.npz\")['y']\n",
    "\n",
    "# 60 mins (12 steps ahead)\n",
    "Deep_train_60   = np.load(\"Deep_train_60_multi.npz\")['x'] \n",
    "Output_train_60 = np.load(\"Deep_train_60_multi.npz\")['y']\n",
    "\n",
    "Deep_test_60   = np.load(\"Deep_test_60_multi.npz\")['x'] \n",
    "Output_test_60 = np.load(\"Deep_test_60_multi.npz\")['y']"
   ]
  },
  {
   "cell_type": "code",
   "execution_count": 6,
   "metadata": {},
   "outputs": [],
   "source": [
    "# Wide Data\n",
    "Xtrain = joblib.load(\"002weeks_train_Multi.save\") \n",
    "Xtest = joblib.load(\"002weeks_test_Multi.save\") "
   ]
  },
  {
   "cell_type": "code",
   "execution_count": 7,
   "metadata": {},
   "outputs": [],
   "source": [
    "# 5 mins\n",
    "# Delete first 15 samples\n",
    "Wide_train_5 = np.delete(Xtrain, np.s_[0:15], 0)\n",
    "Wide_test_5 = np.delete(Xtest, np.s_[0:15], 0)"
   ]
  },
  {
   "cell_type": "code",
   "execution_count": 8,
   "metadata": {},
   "outputs": [],
   "source": [
    "# 15 mins\n",
    "# Delete first 17 samples\n",
    "Wide_train_15 = np.delete(Xtrain, np.s_[0:17], 0)\n",
    "Wide_test_15 = np.delete(Xtest, np.s_[0:17], 0)"
   ]
  },
  {
   "cell_type": "code",
   "execution_count": 9,
   "metadata": {},
   "outputs": [],
   "source": [
    "# 30 mins\n",
    "# Delete first 20 samples\n",
    "Wide_train_30 = np.delete(Xtrain, np.s_[0:20], 0)\n",
    "Wide_test_30 = np.delete(Xtest, np.s_[0:20], 0)"
   ]
  },
  {
   "cell_type": "code",
   "execution_count": 10,
   "metadata": {},
   "outputs": [],
   "source": [
    "# 60 mins\n",
    "# Delete first 27 samples\n",
    "Wide_train_60 = np.delete(Xtrain, np.s_[0:26], 0)\n",
    "Wide_test_60 = np.delete(Xtest, np.s_[0:26], 0)"
   ]
  },
  {
   "cell_type": "code",
   "execution_count": 11,
   "metadata": {},
   "outputs": [],
   "source": [
    "scaler_filename = \"scaler.save\"\n",
    "scaler = joblib.load(scaler_filename) "
   ]
  },
  {
   "cell_type": "code",
   "execution_count": 12,
   "metadata": {},
   "outputs": [],
   "source": [
    "# Wide Day Data\n",
    "Xtest_week = joblib.load(\"002weeks_test.save\") \n",
    "Xtest_day = joblib.load(\"002days_test.save\") \n",
    "\n",
    "Wide_test_5_week = np.delete(Xtest_week, np.s_[0:15], 0)\n",
    "Wide_test_5_day = np.delete(Xtest_day, np.s_[0:15], 0)\n",
    "\n",
    "Wide_test_15_week = np.delete(Xtest_week, np.s_[0:17], 0)\n",
    "Wide_test_15_day = np.delete(Xtest_day, np.s_[0:17], 0)\n",
    "\n",
    "Wide_test_30_week = np.delete(Xtest_week, np.s_[0:20], 0)\n",
    "Wide_test_30_day = np.delete(Xtest_day, np.s_[0:20], 0)\n",
    "\n",
    "Wide_test_60_week = np.delete(Xtest_week, np.s_[0:26], 0)\n",
    "Wide_test_60_day = np.delete(Xtest_day, np.s_[0:26], 0)"
   ]
  },
  {
   "cell_type": "code",
   "execution_count": 13,
   "metadata": {},
   "outputs": [],
   "source": [
    "Test      = pd.read_csv('01test_scaled.csv', index_col=None, parse_dates=[0])"
   ]
  },
  {
   "cell_type": "code",
   "execution_count": 14,
   "metadata": {},
   "outputs": [],
   "source": [
    "# from mpl_toolkits.axes_grid1.inset_locator import inset_axes\n",
    "# from mpl_toolkits.axes_grid1.inset_locator import mark_inset\n",
    "# from matplotlib import ticker\n",
    "# formatter = ticker.ScalarFormatter(useMathText=True)\n",
    "# formatter.set_scientific(True) \n",
    "# formatter.set_powerlimits((-1,1)) \n",
    "# plt.rc('font', size=30)"
   ]
  },
  {
   "cell_type": "markdown",
   "metadata": {},
   "source": [
    "# Reshape Samples"
   ]
  },
  {
   "cell_type": "markdown",
   "metadata": {},
   "source": [
    "The first step is to split the input sequences into subsequences that can be processed by the CNN model. Here, each spatio-temporal sample can be split into three sub-samples, each with five time steps. The CNN can interpret each subsequence of five time steps and provide a time series of interpretations of the subsequences to the LSTM model to process as input."
   ]
  },
  {
   "cell_type": "code",
   "execution_count": 15,
   "metadata": {},
   "outputs": [],
   "source": [
    "# reshape from [samples, timesteps] into [samples, subsequences, timesteps, features]\n",
    "n_features = 6                # No of loop detectors\n",
    "n_seq = 3                     # Subsequences\n",
    "n_steps = 5                   # time-step per subsequence\n",
    "# val_percent = 0.07567       # 2 weeks\n",
    "val_percent = 0.2        \n",
    "batch_size = 32\n",
    "\n",
    "n_seq_ = 3                     # Subsequences\n",
    "n_steps_ = 3                   # time-step per subsequence"
   ]
  },
  {
   "cell_type": "markdown",
   "metadata": {},
   "source": [
    "#### 5 mins"
   ]
  },
  {
   "cell_type": "code",
   "execution_count": 16,
   "metadata": {},
   "outputs": [],
   "source": [
    "# Train\n",
    "# reshape from [samples, timesteps] into [samples, subsequences, timesteps, features]\n",
    "Xt5 = Deep_train_5.reshape((Deep_train_5.shape[0], n_seq, n_steps, n_features))\n",
    "yt5 = scaler.inverse_transform(Output_train_5)"
   ]
  },
  {
   "cell_type": "code",
   "execution_count": 17,
   "metadata": {},
   "outputs": [],
   "source": [
    "# Test\n",
    "# reshape from [samples, timesteps] into [samples, subsequences, timesteps, features]\n",
    "Xv5 = Deep_test_5.reshape((Deep_test_5.shape[0], n_seq, n_steps, n_features))\n",
    "yv5 = scaler.inverse_transform(Output_test_5)"
   ]
  },
  {
   "cell_type": "markdown",
   "metadata": {},
   "source": [
    "#### 15 mins"
   ]
  },
  {
   "cell_type": "code",
   "execution_count": 18,
   "metadata": {},
   "outputs": [],
   "source": [
    "# Train\n",
    "# reshape from [samples, timesteps] into [samples, subsequences, timesteps, features]\n",
    "Xt15 = Deep_train_15.reshape((Deep_train_15.shape[0], n_seq, n_steps, n_features))\n",
    "yt15 = scaler.inverse_transform(Output_train_15)"
   ]
  },
  {
   "cell_type": "code",
   "execution_count": 19,
   "metadata": {},
   "outputs": [],
   "source": [
    "# Test\n",
    "# reshape from [samples, timesteps] into [samples, subsequences, timesteps, features]\n",
    "Xv15 = Deep_test_15.reshape((Deep_test_15.shape[0], n_seq, n_steps, n_features))\n",
    "yv15 = scaler.inverse_transform(Output_test_15)"
   ]
  },
  {
   "cell_type": "markdown",
   "metadata": {},
   "source": [
    "#### 30 mins"
   ]
  },
  {
   "cell_type": "code",
   "execution_count": 20,
   "metadata": {},
   "outputs": [],
   "source": [
    "# Train\n",
    "# reshape from [samples, timesteps] into [samples, subsequences, timesteps, features]\n",
    "Xt30 = Deep_train_30.reshape((Deep_train_30.shape[0], n_seq, n_steps, n_features))\n",
    "yt30 = scaler.inverse_transform(Output_train_30)"
   ]
  },
  {
   "cell_type": "code",
   "execution_count": 21,
   "metadata": {},
   "outputs": [],
   "source": [
    "# Test\n",
    "# reshape from [samples, timesteps] into [samples, subsequences, timesteps, features]\n",
    "Xv30 = Deep_test_30.reshape((Deep_test_30.shape[0], n_seq, n_steps, n_features))\n",
    "yv30 = scaler.inverse_transform(Output_test_30)"
   ]
  },
  {
   "cell_type": "markdown",
   "metadata": {},
   "source": [
    "#### 60 mins"
   ]
  },
  {
   "cell_type": "code",
   "execution_count": 22,
   "metadata": {},
   "outputs": [],
   "source": [
    "# Train\n",
    "# reshape from [samples, timesteps] into [samples, subsequences, timesteps, features]\n",
    "Xt60 = Deep_train_60.reshape((Deep_train_60.shape[0], n_seq, n_steps, n_features))\n",
    "yt60 = scaler.inverse_transform(Output_train_60)"
   ]
  },
  {
   "cell_type": "code",
   "execution_count": 23,
   "metadata": {},
   "outputs": [],
   "source": [
    "# Test\n",
    "# reshape from [samples, timesteps] into [samples, subsequences, timesteps, features]\n",
    "Xv60 = Deep_test_60.reshape((Deep_test_60.shape[0], n_seq, n_steps, n_features))\n",
    "yv60 = scaler.inverse_transform(Output_test_60)"
   ]
  },
  {
   "cell_type": "markdown",
   "metadata": {},
   "source": [
    "### Reshaping the Data for Conv2D layer\n",
    "\n",
    "For Conv2D, there is a need to add one more dimension to show we're dealing with 1 channel (since technically the images are in black and white, only showing values from 0-max flow on a single channel).\n",
    "\n",
    "Conv1D - strides in 1 dimension\n",
    "Conv2D - strides in 2 dimensions"
   ]
  },
  {
   "cell_type": "code",
   "execution_count": 24,
   "metadata": {},
   "outputs": [],
   "source": [
    "# define no_of_channels\n",
    "n_channels = 1"
   ]
  },
  {
   "cell_type": "code",
   "execution_count": 25,
   "metadata": {},
   "outputs": [],
   "source": [
    "# Train data\n",
    "Xt5  =  Xt5.reshape(Xt5.shape[0], n_seq, n_steps, n_features, n_channels)\n",
    "Xt15 =  Xt15.reshape(Xt15.shape[0], n_seq, n_steps, n_features, n_channels)\n",
    "Xt30 =  Xt30.reshape(Xt30.shape[0], n_seq, n_steps, n_features, n_channels)\n",
    "Xt60 =  Xt60.reshape(Xt60.shape[0], n_seq, n_steps, n_features, n_channels)\n",
    "\n",
    "# Validation data\n",
    "Xv5  =  Xv5.reshape(Xv5.shape[0], n_seq, n_steps, n_features, n_channels)\n",
    "Xv15 =  Xv15.reshape(Xv15.shape[0], n_seq, n_steps, n_features, n_channels)\n",
    "Xv30 =  Xv30.reshape(Xv30.shape[0], n_seq, n_steps, n_features, n_channels)\n",
    "Xv60 =  Xv60.reshape(Xv60.shape[0], n_seq, n_steps, n_features, n_channels)"
   ]
  },
  {
   "cell_type": "code",
   "execution_count": 26,
   "metadata": {},
   "outputs": [],
   "source": [
    "Wt5  = Wide_train_5\n",
    "Wt15 = Wide_train_15\n",
    "Wt30 = Wide_train_30\n",
    "Wt60 = Wide_train_60\n",
    "\n",
    "Wv5  = Wide_test_5\n",
    "Wv15 = Wide_test_15\n",
    "Wv30 = Wide_test_30\n",
    "Wv60 = Wide_test_60"
   ]
  },
  {
   "cell_type": "code",
   "execution_count": 27,
   "metadata": {},
   "outputs": [],
   "source": [
    "# Train data\n",
    "Wt5  =  Wt5.reshape(Wt5.shape[0], n_seq_, n_steps_, n_features)\n",
    "Wt15 =  Wt15.reshape(Wt15.shape[0], n_seq_, n_steps_, n_features)\n",
    "Wt30 =  Wt30.reshape(Wt30.shape[0], n_seq_, n_steps_, n_features)\n",
    "Wt60 =  Wt60.reshape(Wt60.shape[0], n_seq_, n_steps_, n_features)\n",
    "\n",
    "# Validation data\n",
    "Wv5  =  Wv5.reshape(Wv5.shape[0], n_seq_, n_steps_, n_features)\n",
    "Wv15 =  Wv15.reshape(Wv15.shape[0], n_seq_, n_steps_, n_features)\n",
    "Wv30 =  Wv30.reshape(Wv30.shape[0], n_seq_, n_steps_, n_features)\n",
    "Wv60 =  Wv60.reshape(Wv60.shape[0], n_seq_, n_steps_, n_features)"
   ]
  },
  {
   "cell_type": "code",
   "execution_count": 28,
   "metadata": {},
   "outputs": [],
   "source": [
    "Wide_test_5_week = np.expand_dims(Wide_test_5_week, 1)\n",
    "Wide_test_15_week = np.expand_dims(Wide_test_15_week, 1)\n",
    "Wide_test_30_week = np.expand_dims(Wide_test_30_week, 1)\n",
    "Wide_test_60_week = np.expand_dims(Wide_test_60_week, 1)\n",
    "\n",
    "Wide_test_5_day = np.expand_dims(Wide_test_5_day, 1)\n",
    "Wide_test_15_day = np.expand_dims(Wide_test_15_day, 1)\n",
    "Wide_test_30_day = np.expand_dims(Wide_test_30_day, 1)\n",
    "Wide_test_60_day = np.expand_dims(Wide_test_60_day, 1)"
   ]
  },
  {
   "cell_type": "code",
   "execution_count": 29,
   "metadata": {},
   "outputs": [],
   "source": [
    "Wv5w  = Wide_test_5_week\n",
    "Wv15w = Wide_test_15_week\n",
    "Wv30w = Wide_test_30_week\n",
    "Wv60w = Wide_test_60_week\n",
    "\n",
    "Wv5x  = Wide_test_5_day\n",
    "Wv15x = Wide_test_15_day\n",
    "Wv30x = Wide_test_30_day\n",
    "Wv60x = Wide_test_60_day"
   ]
  },
  {
   "cell_type": "code",
   "execution_count": 30,
   "metadata": {},
   "outputs": [
    {
     "data": {
      "text/plain": [
       "(49233, 3, 5, 6, 1)"
      ]
     },
     "execution_count": 30,
     "metadata": {},
     "output_type": "execute_result"
    }
   ],
   "source": [
    "Xt5.shape"
   ]
  },
  {
   "cell_type": "code",
   "execution_count": 31,
   "metadata": {},
   "outputs": [
    {
     "data": {
      "text/plain": [
       "(49233, 3, 3, 6)"
      ]
     },
     "execution_count": 31,
     "metadata": {},
     "output_type": "execute_result"
    }
   ],
   "source": [
    "Wt5.shape"
   ]
  },
  {
   "cell_type": "markdown",
   "metadata": {},
   "source": [
    "# CNN-LSTM model"
   ]
  },
  {
   "cell_type": "code",
   "execution_count": 32,
   "metadata": {},
   "outputs": [],
   "source": [
    "from tensorflow import keras\n",
    "from keras_self_attention import SeqSelfAttention\n",
    "\n",
    "# Early Stopping\n",
    "early_stop = keras.callbacks.EarlyStopping(monitor='val_loss',patience=5, restore_best_weights = True)"
   ]
  },
  {
   "cell_type": "code",
   "execution_count": 33,
   "metadata": {},
   "outputs": [
    {
     "data": {
      "text/plain": [
       "(49233, 9, 6)"
      ]
     },
     "execution_count": 33,
     "metadata": {},
     "output_type": "execute_result"
    }
   ],
   "source": [
    "Wide_train_5.shape"
   ]
  },
  {
   "cell_type": "markdown",
   "metadata": {},
   "source": [
    "# 5 mins ahead"
   ]
  },
  {
   "cell_type": "code",
   "execution_count": 34,
   "metadata": {},
   "outputs": [],
   "source": [
    "model5 = keras.models.load_model(\"my_dir/8a-5\") "
   ]
  },
  {
   "cell_type": "code",
   "execution_count": 35,
   "metadata": {},
   "outputs": [
    {
     "name": "stdout",
     "output_type": "stream",
     "text": [
      "WARNING:tensorflow:Layer lstm_6 will not use cuDNN kernels since it doesn't meet the criteria. It will use a generic GPU kernel as fallback when running on GPU.\n",
      "WARNING:tensorflow:Layer lstm_7 will not use cuDNN kernels since it doesn't meet the criteria. It will use a generic GPU kernel as fallback when running on GPU.\n",
      "WARNING:tensorflow:Layer lstm_4 will not use cuDNN kernels since it doesn't meet the criteria. It will use a generic GPU kernel as fallback when running on GPU.\n",
      "WARNING:tensorflow:Layer lstm_4 will not use cuDNN kernels since it doesn't meet the criteria. It will use a generic GPU kernel as fallback when running on GPU.\n",
      "WARNING:tensorflow:Layer lstm_4 will not use cuDNN kernels since it doesn't meet the criteria. It will use a generic GPU kernel as fallback when running on GPU.\n",
      "WARNING:tensorflow:Layer lstm_5 will not use cuDNN kernels since it doesn't meet the criteria. It will use a generic GPU kernel as fallback when running on GPU.\n",
      "WARNING:tensorflow:Layer lstm_5 will not use cuDNN kernels since it doesn't meet the criteria. It will use a generic GPU kernel as fallback when running on GPU.\n",
      "WARNING:tensorflow:Layer lstm_5 will not use cuDNN kernels since it doesn't meet the criteria. It will use a generic GPU kernel as fallback when running on GPU.\n"
     ]
    }
   ],
   "source": [
    "model5_At_Conv_LSTM = keras.models.load_model(\"my_dir/6ai-Conv-LSTM-5\") "
   ]
  },
  {
   "cell_type": "code",
   "execution_count": 36,
   "metadata": {},
   "outputs": [
    {
     "data": {
      "text/plain": [
       "array([[ 29.914661 ,  18.791624 ,  24.836315 ,  75.23582  ,  34.08109  ,\n",
       "          5.342314 ],\n",
       "       [ 29.12519  ,  16.384912 ,  23.3795   ,  73.66425  ,  32.036816 ,\n",
       "          6.4321337],\n",
       "       [ 29.805801 ,  17.7312   ,  21.399952 ,  71.09582  ,  32.1066   ,\n",
       "          3.5656495],\n",
       "       ...,\n",
       "       [ 42.24743  ,  41.425064 ,  56.395412 , 114.05434  ,  52.944767 ,\n",
       "         12.665799 ],\n",
       "       [ 41.2009   ,  35.409634 ,  48.264465 , 101.53913  ,  47.129646 ,\n",
       "         12.5476   ],\n",
       "       [ 41.490868 ,  36.421017 ,  46.603302 ,  99.02628  ,  45.667614 ,\n",
       "          7.4409575]], dtype=float32)"
      ]
     },
     "execution_count": 36,
     "metadata": {},
     "output_type": "execute_result"
    }
   ],
   "source": [
    "model5.predict((Wv5,Xv5))"
   ]
  },
  {
   "cell_type": "code",
   "execution_count": 37,
   "metadata": {},
   "outputs": [
    {
     "data": {
      "text/plain": [
       "(4017, 1, 14)"
      ]
     },
     "execution_count": 37,
     "metadata": {},
     "output_type": "execute_result"
    }
   ],
   "source": [
    "Wv5w.shape"
   ]
  },
  {
   "cell_type": "code",
   "execution_count": 38,
   "metadata": {},
   "outputs": [
    {
     "data": {
      "text/plain": [
       "array([[ 30.566442 ,  18.472126 ,  26.520266 ,  76.057465 ,  32.04153  ,\n",
       "          4.4170194],\n",
       "       [ 30.91039  ,  18.199957 ,  26.264944 ,  78.06238  ,  33.420174 ,\n",
       "          4.591796 ],\n",
       "       [ 30.561365 ,  17.439259 ,  24.886015 ,  72.12782  ,  30.644297 ,\n",
       "          4.0479846],\n",
       "       ...,\n",
       "       [ 41.111897 ,  41.535217 ,  50.47345  , 103.87294  ,  47.822456 ,\n",
       "         12.976104 ],\n",
       "       [ 41.420677 ,  40.818947 ,  49.59189  , 100.41373  ,  46.35575  ,\n",
       "         15.370644 ],\n",
       "       [ 40.217384 ,  39.902344 ,  53.78541  , 103.26345  ,  46.85074  ,\n",
       "         14.696504 ]], dtype=float32)"
      ]
     },
     "execution_count": 38,
     "metadata": {},
     "output_type": "execute_result"
    }
   ],
   "source": [
    "model5_At_Conv_LSTM.predict((Wv5w, Wv5x, Xv5))"
   ]
  },
  {
   "cell_type": "markdown",
   "metadata": {},
   "source": [
    "### Evaluation on inverse_transform"
   ]
  },
  {
   "cell_type": "code",
   "execution_count": 39,
   "metadata": {},
   "outputs": [
    {
     "name": "stdout",
     "output_type": "stream",
     "text": [
      "[14.05587607056846, 19.985919245562627, 14.73871163031716]\n",
      "[13.618255839561705, 19.352964848602294, 14.032712058655447]\n"
     ]
    }
   ],
   "source": [
    "test_predictions5 = model5.predict((Wv5,Xv5))\n",
    "\n",
    "\n",
    "MSE5 = mean_squared_error(yv5,test_predictions5)\n",
    "\n",
    "MAE5 = mean_absolute_error(yv5,test_predictions5)\n",
    "\n",
    "RMSE5 = np.sqrt(MSE5)\n",
    "\n",
    "MAPE5 = mean_absolute_percentage_error(yv5,test_predictions5)*100\n",
    "\n",
    "eval5 = [MAE5, RMSE5, MAPE5]\n",
    "print(eval5)\n",
    "\n",
    "test_predictions5 = model5_At_Conv_LSTM.predict((Wv5w, Wv5x, Xv5))\n",
    "\n",
    "\n",
    "MSE5 = mean_squared_error(yv5,test_predictions5)\n",
    "\n",
    "MAE5 = mean_absolute_error(yv5,test_predictions5)\n",
    "\n",
    "RMSE5 = np.sqrt(MSE5)\n",
    "\n",
    "MAPE5 = mean_absolute_percentage_error(yv5,test_predictions5)*100\n",
    "\n",
    "eval5a = [MAE5, RMSE5, MAPE5]\n",
    "print(eval5a)"
   ]
  },
  {
   "cell_type": "code",
   "execution_count": 40,
   "metadata": {},
   "outputs": [
    {
     "name": "stdout",
     "output_type": "stream",
     "text": [
      "[array([ 7.88702914, 11.54332864, 17.93603809, 20.76948651, 12.65360144,\n",
      "       13.54577261]), array([10.72678002, 15.67971741, 24.41245553, 28.06738568, 16.89747496,\n",
      "       19.14245744]), array([ 8.55850015, 11.60230171, 14.55143003, 10.27735206, 14.21132803,\n",
      "       29.2313578 ])]\n"
     ]
    }
   ],
   "source": [
    "test_predictions5 = model5.predict((Wv5,Xv5))\n",
    "\n",
    "\n",
    "MSE5 = mean_squared_error(yv5,test_predictions5, multioutput='raw_values')\n",
    "\n",
    "MAE5 = mean_absolute_error(yv5,test_predictions5, multioutput='raw_values')\n",
    "\n",
    "RMSE5 = np.sqrt(MSE5)\n",
    "\n",
    "MAPE5 = mean_absolute_percentage_error(yv5,test_predictions5, multioutput='raw_values')*100\n",
    "\n",
    "eval5 = [MAE5, RMSE5, MAPE5]\n",
    "print(eval5)"
   ]
  },
  {
   "cell_type": "code",
   "execution_count": 41,
   "metadata": {},
   "outputs": [
    {
     "name": "stdout",
     "output_type": "stream",
     "text": [
      "[array([ 7.85050248, 11.57751562, 17.26196678, 20.09777124, 11.97011892,\n",
      "       12.95166   ]), array([10.75371269, 15.67397664, 23.37431657, 27.23927505, 16.05080656,\n",
      "       18.437528  ]), array([ 8.44849443, 11.54490612, 14.05897269,  9.83501733, 13.4871379 ,\n",
      "       26.82174389])]\n"
     ]
    }
   ],
   "source": [
    "test_predictions5 = model5_At_Conv_LSTM.predict((Wv5w, Wv5x, Xv5))\n",
    "\n",
    "\n",
    "MSE5 = mean_squared_error(yv5,test_predictions5, multioutput='raw_values')\n",
    "\n",
    "MAE5 = mean_absolute_error(yv5,test_predictions5, multioutput='raw_values')\n",
    "\n",
    "RMSE5 = np.sqrt(MSE5)\n",
    "\n",
    "MAPE5 = mean_absolute_percentage_error(yv5,test_predictions5, multioutput='raw_values')*100\n",
    "\n",
    "eval5a = [MAE5, RMSE5, MAPE5]\n",
    "print(eval5a)"
   ]
  },
  {
   "cell_type": "code",
   "execution_count": 42,
   "metadata": {},
   "outputs": [
    {
     "data": {
      "image/png": "[encoded data removed]",
      "text/plain": [
       "<Figure size 640x480 with 1 Axes>"
      ]
     },
     "metadata": {},
     "output_type": "display_data"
    }
   ],
   "source": [
    "ax = sns.boxplot(data=[eval5[0],eval5a[0]])"
   ]
  },
  {
   "cell_type": "markdown",
   "metadata": {},
   "source": [
    "# 15 mins ahead"
   ]
  },
  {
   "cell_type": "code",
   "execution_count": 43,
   "metadata": {},
   "outputs": [],
   "source": [
    "model15 = keras.models.load_model(\"my_dir/8a-15\")"
   ]
  },
  {
   "cell_type": "code",
   "execution_count": 44,
   "metadata": {},
   "outputs": [
    {
     "name": "stdout",
     "output_type": "stream",
     "text": [
      "WARNING:tensorflow:Layer lstm_6 will not use cuDNN kernels since it doesn't meet the criteria. It will use a generic GPU kernel as fallback when running on GPU.\n",
      "WARNING:tensorflow:Layer lstm_7 will not use cuDNN kernels since it doesn't meet the criteria. It will use a generic GPU kernel as fallback when running on GPU.\n",
      "WARNING:tensorflow:Layer lstm_4 will not use cuDNN kernels since it doesn't meet the criteria. It will use a generic GPU kernel as fallback when running on GPU.\n",
      "WARNING:tensorflow:Layer lstm_4 will not use cuDNN kernels since it doesn't meet the criteria. It will use a generic GPU kernel as fallback when running on GPU.\n",
      "WARNING:tensorflow:Layer lstm_4 will not use cuDNN kernels since it doesn't meet the criteria. It will use a generic GPU kernel as fallback when running on GPU.\n",
      "WARNING:tensorflow:Layer lstm_5 will not use cuDNN kernels since it doesn't meet the criteria. It will use a generic GPU kernel as fallback when running on GPU.\n",
      "WARNING:tensorflow:Layer lstm_5 will not use cuDNN kernels since it doesn't meet the criteria. It will use a generic GPU kernel as fallback when running on GPU.\n",
      "WARNING:tensorflow:Layer lstm_5 will not use cuDNN kernels since it doesn't meet the criteria. It will use a generic GPU kernel as fallback when running on GPU.\n"
     ]
    }
   ],
   "source": [
    "model15_At_Conv_LSTM = keras.models.load_model(\"my_dir/6ai-Conv-LSTM-15\") "
   ]
  },
  {
   "cell_type": "code",
   "execution_count": 45,
   "metadata": {},
   "outputs": [
    {
     "data": {
      "text/plain": [
       "array([[ 32.367676 ,  22.384737 ,  28.886654 ,  74.6526   ,  30.039087 ,\n",
       "          3.0251918],\n",
       "       [ 30.593832 ,  19.779675 ,  27.938778 ,  75.04236  ,  30.473522 ,\n",
       "          3.4109426],\n",
       "       [ 30.097658 ,  18.485462 ,  24.937206 ,  71.6802   ,  28.940048 ,\n",
       "          2.764037 ],\n",
       "       ...,\n",
       "       [ 46.98329  ,  47.46642  ,  61.264767 , 116.85552  ,  52.632145 ,\n",
       "         11.910158 ],\n",
       "       [ 43.497044 ,  41.960136 ,  56.939796 , 112.149086 ,  50.962334 ,\n",
       "         15.604168 ],\n",
       "       [ 40.357895 ,  36.858894 ,  48.12519  , 104.40556  ,  45.399693 ,\n",
       "         15.1380825]], dtype=float32)"
      ]
     },
     "execution_count": 45,
     "metadata": {},
     "output_type": "execute_result"
    }
   ],
   "source": [
    "model15.predict((Wv15,Xv15))"
   ]
  },
  {
   "cell_type": "code",
   "execution_count": 46,
   "metadata": {},
   "outputs": [
    {
     "data": {
      "text/plain": [
       "array([[ 30.91549 ,  20.382683,  19.58915 ,  66.91817 ,  27.45938 ,\n",
       "          5.604291],\n",
       "       [ 30.807467,  20.06128 ,  18.0526  ,  67.469444,  28.698692,\n",
       "          7.74488 ],\n",
       "       [ 30.813248,  19.312992,  15.918254,  65.70153 ,  27.950373,\n",
       "          7.260421],\n",
       "       ...,\n",
       "       [ 45.33571 ,  46.97687 ,  62.511482, 117.00412 ,  54.560585,\n",
       "         20.655788],\n",
       "       [ 44.624924,  45.707584,  59.56117 , 113.42606 ,  53.759254,\n",
       "         24.91065 ],\n",
       "       [ 43.162926,  43.473484,  53.04815 , 109.0426  ,  54.34869 ,\n",
       "         24.800922]], dtype=float32)"
      ]
     },
     "execution_count": 46,
     "metadata": {},
     "output_type": "execute_result"
    }
   ],
   "source": [
    "model15_At_Conv_LSTM.predict((Wv15w, Wv15x, Xv15))"
   ]
  },
  {
   "cell_type": "markdown",
   "metadata": {},
   "source": [
    "### Evaluation on inverse_transform"
   ]
  },
  {
   "cell_type": "code",
   "execution_count": 47,
   "metadata": {},
   "outputs": [
    {
     "name": "stdout",
     "output_type": "stream",
     "text": [
      "[14.524150289861728, 20.609374135127542, 16.104556414568826]\n",
      "[15.709626669075142, 22.363305179164545, 18.46696245937817]\n"
     ]
    }
   ],
   "source": [
    "test_predictions15 = model15.predict((Wv15,Xv15))\n",
    "\n",
    "\n",
    "MSE15 = mean_squared_error(yv15,test_predictions15)\n",
    "\n",
    "MAE15 = mean_absolute_error(yv15,test_predictions15)\n",
    "\n",
    "RMSE15 = np.sqrt(MSE15)\n",
    "\n",
    "MAPE15 = mean_absolute_percentage_error(yv15,test_predictions15)*100\n",
    "\n",
    "eval15 = [MAE15, RMSE15, MAPE15]\n",
    "print(eval15)\n",
    "\n",
    "\n",
    "test_predictions15 = model15_At_Conv_LSTM.predict((Wv15w, Wv15x, Xv15))\n",
    "\n",
    "\n",
    "MSE15 = mean_squared_error(yv15,test_predictions15)\n",
    "\n",
    "MAE15 = mean_absolute_error(yv15,test_predictions15)\n",
    "\n",
    "RMSE15 = np.sqrt(MSE15)\n",
    "\n",
    "MAPE15 = mean_absolute_percentage_error(yv15,test_predictions15)*100\n",
    "\n",
    "eval15a = [MAE15, RMSE15, MAPE15]\n",
    "print(eval15a)"
   ]
  },
  {
   "cell_type": "code",
   "execution_count": 48,
   "metadata": {},
   "outputs": [
    {
     "name": "stdout",
     "output_type": "stream",
     "text": [
      "[array([ 8.41041999, 12.262018  , 18.0680762 , 21.12740816, 12.74297252,\n",
      "       14.53400688]), array([11.46471792, 16.67127606, 24.52948204, 28.61501624, 17.06549605,\n",
      "       20.67270693]), array([ 9.11145417, 12.25505847, 14.69213462, 10.41355759, 14.51794008,\n",
      "       35.63719355])]\n"
     ]
    }
   ],
   "source": [
    "test_predictions15 = model15.predict((Wv15,Xv15))\n",
    "\n",
    "\n",
    "MSE15 = mean_squared_error(yv15,test_predictions15, multioutput='raw_values')\n",
    "\n",
    "MAE15 = mean_absolute_error(yv15,test_predictions15, multioutput='raw_values')\n",
    "\n",
    "RMSE15 = np.sqrt(MSE15)\n",
    "\n",
    "MAPE15 = mean_absolute_percentage_error(yv15,test_predictions15, multioutput='raw_values')*100\n",
    "\n",
    "eval15 = [MAE15, RMSE15, MAPE15]\n",
    "print(eval15)"
   ]
  },
  {
   "cell_type": "code",
   "execution_count": 49,
   "metadata": {},
   "outputs": [
    {
     "name": "stdout",
     "output_type": "stream",
     "text": [
      "[array([ 8.97121486, 13.17989927, 19.78871272, 22.89279579, 13.67103411,\n",
      "       15.75410326]), array([12.34820689, 17.82739675, 26.81610299, 31.23180845, 18.595289  ,\n",
      "       22.13811671]), array([ 9.67154271, 13.64113284, 16.42870457, 11.35163893, 15.50863701,\n",
      "       44.20011869])]\n"
     ]
    }
   ],
   "source": [
    "test_predictions15 = model15_At_Conv_LSTM.predict((Wv15w, Wv15x, Xv15))\n",
    "\n",
    "\n",
    "MSE15 = mean_squared_error(yv15,test_predictions15, multioutput='raw_values')\n",
    "\n",
    "MAE15 = mean_absolute_error(yv15,test_predictions15, multioutput='raw_values')\n",
    "\n",
    "RMSE15 = np.sqrt(MSE15)\n",
    "\n",
    "MAPE15 = mean_absolute_percentage_error(yv15,test_predictions15, multioutput='raw_values')*100\n",
    "\n",
    "eval15a = [MAE15, RMSE15, MAPE15]\n",
    "print(eval15a)"
   ]
  },
  {
   "cell_type": "code",
   "execution_count": 50,
   "metadata": {},
   "outputs": [
    {
     "data": {
      "image/png": "[encoded data removed]",
      "text/plain": [
       "<Figure size 640x480 with 1 Axes>"
      ]
     },
     "metadata": {},
     "output_type": "display_data"
    }
   ],
   "source": [
    "ax = sns.boxplot(data=[eval15[0],eval15a[0]])"
   ]
  },
  {
   "cell_type": "markdown",
   "metadata": {},
   "source": [
    "# 30 mins ahead"
   ]
  },
  {
   "cell_type": "code",
   "execution_count": 51,
   "metadata": {},
   "outputs": [],
   "source": [
    "model30 = keras.models.load_model(\"my_dir/8a-30\")"
   ]
  },
  {
   "cell_type": "code",
   "execution_count": 52,
   "metadata": {},
   "outputs": [
    {
     "name": "stdout",
     "output_type": "stream",
     "text": [
      "WARNING:tensorflow:Layer lstm_14 will not use cuDNN kernels since it doesn't meet the criteria. It will use a generic GPU kernel as fallback when running on GPU.\n",
      "WARNING:tensorflow:Layer lstm_15 will not use cuDNN kernels since it doesn't meet the criteria. It will use a generic GPU kernel as fallback when running on GPU.\n",
      "WARNING:tensorflow:Layer lstm_12 will not use cuDNN kernels since it doesn't meet the criteria. It will use a generic GPU kernel as fallback when running on GPU.\n",
      "WARNING:tensorflow:Layer lstm_12 will not use cuDNN kernels since it doesn't meet the criteria. It will use a generic GPU kernel as fallback when running on GPU.\n",
      "WARNING:tensorflow:Layer lstm_12 will not use cuDNN kernels since it doesn't meet the criteria. It will use a generic GPU kernel as fallback when running on GPU.\n",
      "WARNING:tensorflow:Layer lstm_13 will not use cuDNN kernels since it doesn't meet the criteria. It will use a generic GPU kernel as fallback when running on GPU.\n",
      "WARNING:tensorflow:Layer lstm_13 will not use cuDNN kernels since it doesn't meet the criteria. It will use a generic GPU kernel as fallback when running on GPU.\n",
      "WARNING:tensorflow:Layer lstm_13 will not use cuDNN kernels since it doesn't meet the criteria. It will use a generic GPU kernel as fallback when running on GPU.\n"
     ]
    }
   ],
   "source": [
    "model30_At_Conv_LSTM = keras.models.load_model(\"my_dir/6ai-Conv-LSTM-30\") "
   ]
  },
  {
   "cell_type": "code",
   "execution_count": 53,
   "metadata": {},
   "outputs": [
    {
     "data": {
      "text/plain": [
       "array([[ 27.063957 ,  14.056344 ,  18.44636  ,  61.508213 ,  28.05753  ,\n",
       "          3.6623204],\n",
       "       [ 26.756945 ,  13.901027 ,  14.450296 ,  58.636425 ,  24.64436  ,\n",
       "          3.6292756],\n",
       "       [ 28.447773 ,  15.785947 ,  18.18933  ,  62.540684 ,  29.64607  ,\n",
       "          4.255057 ],\n",
       "       ...,\n",
       "       [ 47.318848 ,  45.66744  ,  55.05055  , 115.60721  ,  52.30607  ,\n",
       "          8.893443 ],\n",
       "       [ 51.467876 ,  51.569767 ,  64.25343  , 120.99522  ,  57.652077 ,\n",
       "         18.639769 ],\n",
       "       [ 49.009396 ,  48.476727 ,  57.220127 , 111.82519  ,  54.490025 ,\n",
       "         14.696287 ]], dtype=float32)"
      ]
     },
     "execution_count": 53,
     "metadata": {},
     "output_type": "execute_result"
    }
   ],
   "source": [
    "model30.predict((Wv30,Xv30))"
   ]
  },
  {
   "cell_type": "code",
   "execution_count": 54,
   "metadata": {},
   "outputs": [
    {
     "data": {
      "text/plain": [
       "array([[ 28.363708 ,  13.881653 ,  10.823496 ,  55.71536  ,  22.814173 ,\n",
       "          3.6711807],\n",
       "       [ 28.292492 ,  13.10416  ,  11.967885 ,  53.960854 ,  22.733667 ,\n",
       "          2.9356365],\n",
       "       [ 27.298353 ,  11.451976 ,  10.237626 ,  51.226234 ,  21.769785 ,\n",
       "          1.5266728],\n",
       "       ...,\n",
       "       [ 41.732967 ,  40.30352  ,  53.30249  , 114.12805  ,  53.944138 ,\n",
       "         20.61045  ],\n",
       "       [ 39.86137  ,  38.50787  ,  49.12318  , 106.81025  ,  52.18516  ,\n",
       "         15.901735 ],\n",
       "       [ 38.731308 ,  37.422844 ,  54.18901  , 105.6326   ,  47.8277   ,\n",
       "         15.014397 ]], dtype=float32)"
      ]
     },
     "execution_count": 54,
     "metadata": {},
     "output_type": "execute_result"
    }
   ],
   "source": [
    "model30_At_Conv_LSTM.predict((Wv30w, Wv30x, Xv30))"
   ]
  },
  {
   "cell_type": "markdown",
   "metadata": {},
   "source": [
    "### Evaluation on inverse_transform"
   ]
  },
  {
   "cell_type": "code",
   "execution_count": 55,
   "metadata": {},
   "outputs": [
    {
     "name": "stdout",
     "output_type": "stream",
     "text": [
      "[16.52625573202646, 23.524523205448848, 17.8670905489843]\n",
      "[16.793780166005806, 23.743173428259638, 19.333504373655597]\n"
     ]
    }
   ],
   "source": [
    "test_predictions30 = model30.predict((Wv30,Xv30))\n",
    "\n",
    "\n",
    "MSE30 = mean_squared_error(yv30,test_predictions30)\n",
    "\n",
    "MAE30 = mean_absolute_error(yv30,test_predictions30)\n",
    "\n",
    "RMSE30 = np.sqrt(MSE30)\n",
    "\n",
    "MAPE30 = mean_absolute_percentage_error(yv30,test_predictions30)*100\n",
    "\n",
    "eval30 = [MAE30, RMSE30, MAPE30]\n",
    "print(eval30)\n",
    "\n",
    "\n",
    "test_predictions30 = model30_At_Conv_LSTM.predict((Wv30w, Wv30x, Xv30))\n",
    "\n",
    "\n",
    "MSE30 = mean_squared_error(yv30,test_predictions30)\n",
    "\n",
    "MAE30 = mean_absolute_error(yv30,test_predictions30)\n",
    "\n",
    "RMSE30 = np.sqrt(MSE30)\n",
    "\n",
    "MAPE30 = mean_absolute_percentage_error(yv30,test_predictions30)*100\n",
    "\n",
    "eval30a = [MAE30, RMSE30, MAPE30]\n",
    "print(eval30a)"
   ]
  },
  {
   "cell_type": "code",
   "execution_count": 56,
   "metadata": {},
   "outputs": [
    {
     "name": "stdout",
     "output_type": "stream",
     "text": [
      "[array([ 9.40369793, 13.63787912, 20.56201573, 24.10548439, 14.79237651,\n",
      "       16.65608071]), array([12.72173413, 18.46557919, 28.06655608, 32.94000166, 20.00520703,\n",
      "       23.33699703]), array([10.24318929, 13.43984815, 17.0344264 , 11.4799697 , 16.01874587,\n",
      "       38.98636389])]\n"
     ]
    }
   ],
   "source": [
    "test_predictions30 = model30.predict((Wv30,Xv30))\n",
    "\n",
    "\n",
    "MSE30 = mean_squared_error(yv30,test_predictions30, multioutput='raw_values')\n",
    "\n",
    "MAE30 = mean_absolute_error(yv30,test_predictions30, multioutput='raw_values')\n",
    "\n",
    "RMSE30 = np.sqrt(MSE30)\n",
    "\n",
    "MAPE30 = mean_absolute_percentage_error(yv30,test_predictions30, multioutput='raw_values')*100\n",
    "\n",
    "eval30 = [MAE30, RMSE30, MAPE30]\n",
    "print(eval30)"
   ]
  },
  {
   "cell_type": "code",
   "execution_count": 57,
   "metadata": {},
   "outputs": [
    {
     "name": "stdout",
     "output_type": "stream",
     "text": [
      "[array([ 9.76242316, 14.42814781, 21.24927218, 24.12336917, 14.47798555,\n",
      "       16.72148313]), array([13.43557097, 19.48989072, 27.95445597, 32.88472056, 19.67304111,\n",
      "       23.92016509]), array([10.39005448, 14.26179125, 18.80648126, 11.63387035, 15.9764777 ,\n",
      "       44.93235121])]\n"
     ]
    }
   ],
   "source": [
    "test_predictions30 = model30_At_Conv_LSTM.predict((Wv30w, Wv30x, Xv30))\n",
    "\n",
    "\n",
    "MSE30 = mean_squared_error(yv30,test_predictions30, multioutput='raw_values')\n",
    "\n",
    "MAE30 = mean_absolute_error(yv30,test_predictions30, multioutput='raw_values')\n",
    "\n",
    "RMSE30 = np.sqrt(MSE30)\n",
    "\n",
    "MAPE30 = mean_absolute_percentage_error(yv30,test_predictions30, multioutput='raw_values')*100\n",
    "\n",
    "eval30a = [MAE30, RMSE30, MAPE30]\n",
    "print(eval30a)"
   ]
  },
  {
   "cell_type": "code",
   "execution_count": 58,
   "metadata": {},
   "outputs": [
    {
     "data": {
      "image/png": "[encoded data removed]",
      "text/plain": [
       "<Figure size 640x480 with 1 Axes>"
      ]
     },
     "metadata": {},
     "output_type": "display_data"
    }
   ],
   "source": [
    "ax = sns.boxplot(data=[eval30[0],eval30a[0]])"
   ]
  },
  {
   "cell_type": "markdown",
   "metadata": {},
   "source": [
    "# 60 mins ahead"
   ]
  },
  {
   "cell_type": "code",
   "execution_count": 59,
   "metadata": {},
   "outputs": [],
   "source": [
    "model60 = keras.models.load_model(\"my_dir/8a-60\")"
   ]
  },
  {
   "cell_type": "code",
   "execution_count": 60,
   "metadata": {},
   "outputs": [
    {
     "name": "stdout",
     "output_type": "stream",
     "text": [
      "WARNING:tensorflow:Layer lstm_6 will not use cuDNN kernels since it doesn't meet the criteria. It will use a generic GPU kernel as fallback when running on GPU.\n",
      "WARNING:tensorflow:Layer lstm_7 will not use cuDNN kernels since it doesn't meet the criteria. It will use a generic GPU kernel as fallback when running on GPU.\n",
      "WARNING:tensorflow:Layer lstm_4 will not use cuDNN kernels since it doesn't meet the criteria. It will use a generic GPU kernel as fallback when running on GPU.\n",
      "WARNING:tensorflow:Layer lstm_4 will not use cuDNN kernels since it doesn't meet the criteria. It will use a generic GPU kernel as fallback when running on GPU.\n",
      "WARNING:tensorflow:Layer lstm_4 will not use cuDNN kernels since it doesn't meet the criteria. It will use a generic GPU kernel as fallback when running on GPU.\n",
      "WARNING:tensorflow:Layer lstm_5 will not use cuDNN kernels since it doesn't meet the criteria. It will use a generic GPU kernel as fallback when running on GPU.\n",
      "WARNING:tensorflow:Layer lstm_5 will not use cuDNN kernels since it doesn't meet the criteria. It will use a generic GPU kernel as fallback when running on GPU.\n",
      "WARNING:tensorflow:Layer lstm_5 will not use cuDNN kernels since it doesn't meet the criteria. It will use a generic GPU kernel as fallback when running on GPU.\n"
     ]
    }
   ],
   "source": [
    "model60_At_Conv_LSTM = keras.models.load_model(\"my_dir/6ai-Conv-LSTM-60\")"
   ]
  },
  {
   "cell_type": "code",
   "execution_count": 61,
   "metadata": {},
   "outputs": [
    {
     "data": {
      "text/plain": [
       "array([[ 30.127056 ,  16.127228 ,  17.567549 ,  61.868767 ,  29.797718 ,\n",
       "          5.241587 ],\n",
       "       [ 29.455692 ,  15.395087 ,  12.677343 ,  57.061455 ,  28.175407 ,\n",
       "          2.2355547],\n",
       "       [ 29.139164 ,  14.742309 ,  13.474688 ,  57.60087  ,  28.59797  ,\n",
       "          3.1858802],\n",
       "       ...,\n",
       "       [ 38.213573 ,  38.490807 ,  66.37027  , 130.71269  ,  58.34733  ,\n",
       "         22.452633 ],\n",
       "       [ 40.02099  ,  38.153847 ,  56.70035  , 121.61234  ,  49.56161  ,\n",
       "         11.933891 ],\n",
       "       [ 38.556087 ,  34.044617 ,  48.519775 , 110.35028  ,  44.35517  ,\n",
       "          7.9856887]], dtype=float32)"
      ]
     },
     "execution_count": 61,
     "metadata": {},
     "output_type": "execute_result"
    }
   ],
   "source": [
    "model60.predict((Wv60,Xv60))"
   ]
  },
  {
   "cell_type": "code",
   "execution_count": 62,
   "metadata": {},
   "outputs": [
    {
     "data": {
      "text/plain": [
       "array([[ 28.278856 ,  12.364385 ,  10.276212 ,  56.546448 ,  29.607153 ,\n",
       "          2.777779 ],\n",
       "       [ 27.70048  ,  11.601729 ,   8.453706 ,  55.801285 ,  30.14507  ,\n",
       "          2.695763 ],\n",
       "       [ 28.817532 ,  13.362411 ,   9.871709 ,  58.612686 ,  30.107584 ,\n",
       "          3.957344 ],\n",
       "       ...,\n",
       "       [ 41.079998 ,  37.90377  ,  51.2606   , 113.99452  ,  49.888054 ,\n",
       "         13.142105 ],\n",
       "       [ 40.8698   ,  38.288788 ,  45.23124  , 115.357704 ,  52.444477 ,\n",
       "          8.709    ],\n",
       "       [ 41.643337 ,  38.14306  ,  52.060688 , 111.213806 ,  48.168068 ,\n",
       "          6.9562774]], dtype=float32)"
      ]
     },
     "execution_count": 62,
     "metadata": {},
     "output_type": "execute_result"
    }
   ],
   "source": [
    "model60_At_Conv_LSTM.predict((Wv60w, Wv60x, Xv60))"
   ]
  },
  {
   "cell_type": "markdown",
   "metadata": {},
   "source": [
    "### Evaluation on inverse_transform"
   ]
  },
  {
   "cell_type": "code",
   "execution_count": 63,
   "metadata": {},
   "outputs": [
    {
     "name": "stdout",
     "output_type": "stream",
     "text": [
      "[17.652301584140897, 25.055063966800983, 19.368627629541045]\n",
      "[18.324573412925353, 26.03247498807579, 20.64197460860164]\n"
     ]
    }
   ],
   "source": [
    "test_predictions60 = model60.predict((Wv60,Xv60))\n",
    "\n",
    "\n",
    "MSE60 = mean_squared_error(yv60,test_predictions60)\n",
    "\n",
    "MAE60 = mean_absolute_error(yv60,test_predictions60)\n",
    "\n",
    "RMSE60 = np.sqrt(MSE60)\n",
    "\n",
    "MAPE60 = mean_absolute_percentage_error(yv60,test_predictions60)*100\n",
    "\n",
    "eval60 = [MAE60, RMSE60, MAPE60]\n",
    "print(eval60)\n",
    "\n",
    "\n",
    "test_predictions60 = model60_At_Conv_LSTM.predict((Wv60w, Wv60x, Xv60))\n",
    "\n",
    "\n",
    "MSE60 = mean_squared_error(yv60,test_predictions60)\n",
    "\n",
    "MAE60 = mean_absolute_error(yv60,test_predictions60)\n",
    "\n",
    "RMSE60 = np.sqrt(MSE60)\n",
    "\n",
    "MAPE60 = mean_absolute_percentage_error(yv60,test_predictions60)*100\n",
    "\n",
    "eval60a = [MAE60, RMSE60, MAPE60]\n",
    "print(eval60a)"
   ]
  },
  {
   "cell_type": "code",
   "execution_count": 64,
   "metadata": {},
   "outputs": [
    {
     "name": "stdout",
     "output_type": "stream",
     "text": [
      "[array([ 9.95706212, 14.45145229, 21.8969772 , 25.60613588, 15.67937194,\n",
      "       18.32281008]), array([13.59718464, 19.62857846, 29.70245291, 34.70613623, 21.14582521,\n",
      "       25.73859622]), array([10.63909141, 13.91727528, 17.79161988, 12.28844404, 17.21166448,\n",
      "       44.3636707 ])]\n"
     ]
    }
   ],
   "source": [
    "test_predictions60 = model60.predict((Wv60,Xv60))\n",
    "\n",
    "\n",
    "MSE60 = mean_squared_error(yv60,test_predictions60, multioutput='raw_values')\n",
    "\n",
    "MAE60 = mean_absolute_error(yv60,test_predictions60, multioutput='raw_values')\n",
    "\n",
    "RMSE60 = np.sqrt(MSE60)\n",
    "\n",
    "MAPE60 = mean_absolute_percentage_error(yv60,test_predictions60, multioutput='raw_values')*100\n",
    "\n",
    "eval60 = [MAE60, RMSE60, MAPE60]\n",
    "print(eval60)"
   ]
  },
  {
   "cell_type": "code",
   "execution_count": 65,
   "metadata": {},
   "outputs": [
    {
     "name": "stdout",
     "output_type": "stream",
     "text": [
      "[array([10.44602031, 15.58168082, 23.74446213, 26.22607513, 15.72205941,\n",
      "       18.22714267]), array([14.4069303 , 21.10730381, 31.26520215, 35.99885128, 21.43402405,\n",
      "       26.0808946 ]), array([11.15909167, 14.96303748, 21.57651371, 12.71776184, 17.64466994,\n",
      "       45.79077301])]\n"
     ]
    }
   ],
   "source": [
    "test_predictions60 = model60_At_Conv_LSTM.predict((Wv60w, Wv60x, Xv60))\n",
    "\n",
    "\n",
    "MSE60 = mean_squared_error(yv60,test_predictions60, multioutput='raw_values')\n",
    "\n",
    "MAE60 = mean_absolute_error(yv60,test_predictions60, multioutput='raw_values')\n",
    "\n",
    "RMSE60 = np.sqrt(MSE60)\n",
    "\n",
    "MAPE60 = mean_absolute_percentage_error(yv60,test_predictions60, multioutput='raw_values')*100\n",
    "\n",
    "eval60a = [MAE60, RMSE60, MAPE60]\n",
    "print(eval60a)"
   ]
  },
  {
   "cell_type": "code",
   "execution_count": 66,
   "metadata": {},
   "outputs": [
    {
     "data": {
      "image/png": "[encoded data removed]",
      "text/plain": [
       "<Figure size 640x480 with 1 Axes>"
      ]
     },
     "metadata": {},
     "output_type": "display_data"
    }
   ],
   "source": [
    "ax = sns.boxplot(data=[eval60[0],eval60a[0]])"
   ]
  },
  {
   "cell_type": "markdown",
   "metadata": {},
   "source": [
    "# RESULTS"
   ]
  },
  {
   "cell_type": "markdown",
   "metadata": {},
   "source": [
    "## General results"
   ]
  },
  {
   "cell_type": "code",
   "execution_count": null,
   "metadata": {},
   "outputs": [],
   "source": [
    "l = ['MAE','RMSE','MAPE','Horizon']"
   ]
  },
  {
   "cell_type": "code",
   "execution_count": null,
   "metadata": {},
   "outputs": [],
   "source": [
    "eval5.append(5)\n",
    "eval15.append(15)\n",
    "eval30.append(30)\n",
    "eval60.append(60)"
   ]
  },
  {
   "cell_type": "code",
   "execution_count": null,
   "metadata": {},
   "outputs": [],
   "source": [
    "df = pd.DataFrame(np.array([eval5,eval15,eval30,eval60]),columns=l)\n",
    "df.set_index('Horizon')"
   ]
  }
 ],
 "metadata": {
  "kernelspec": {
   "display_name": "Python 3 (ipykernel)",
   "language": "python",
   "name": "python3"
  },
  "language_info": {
   "codemirror_mode": {
    "name": "ipython",
    "version": 3
   },
   "file_extension": ".py",
   "mimetype": "text/x-python",
   "name": "python",
   "nbconvert_exporter": "python",
   "pygments_lexer": "ipython3",
   "version": "3.11.5"
  }
 },
 "nbformat": 4,
 "nbformat_minor": 4
}
