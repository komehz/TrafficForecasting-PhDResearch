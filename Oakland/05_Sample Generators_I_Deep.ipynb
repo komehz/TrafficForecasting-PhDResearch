{
 "cells": [
  {
   "cell_type": "code",
   "execution_count": 1,
   "metadata": {},
   "outputs": [],
   "source": [
    "import pandas as pd\n",
    "import numpy as np\n",
    "import matplotlib.pyplot as plt"
   ]
  },
  {
   "cell_type": "markdown",
   "metadata": {},
   "source": [
    "#### Read training data from csv files"
   ]
  },
  {
   "cell_type": "code",
   "execution_count": 2,
   "metadata": {},
   "outputs": [],
   "source": [
    "Train     = pd.read_csv('01train_scaled.csv', index_col=0, parse_dates=[0])\n",
    "Train     = Train[4320:]\n",
    "Test      = pd.read_csv('01test_scaled.csv', index_col=0, parse_dates=[0])"
   ]
  },
  {
   "cell_type": "code",
   "execution_count": 3,
   "metadata": {},
   "outputs": [
    {
     "data": {
      "text/plain": [
       "(49248, 6)"
      ]
     },
     "execution_count": 3,
     "metadata": {},
     "output_type": "execute_result"
    }
   ],
   "source": [
    "Train.shape"
   ]
  },
  {
   "cell_type": "code",
   "execution_count": 4,
   "metadata": {},
   "outputs": [
    {
     "data": {
      "text/plain": [
       "(4032, 6)"
      ]
     },
     "execution_count": 4,
     "metadata": {},
     "output_type": "execute_result"
    }
   ],
   "source": [
    "Test.shape"
   ]
  },
  {
   "cell_type": "code",
   "execution_count": 5,
   "metadata": {},
   "outputs": [
    {
     "data": {
      "text/plain": [
       "pandas.core.indexes.datetimes.DatetimeIndex"
      ]
     },
     "execution_count": 5,
     "metadata": {},
     "output_type": "execute_result"
    }
   ],
   "source": [
    "type(Test.index)"
   ]
  },
  {
   "cell_type": "code",
   "execution_count": 6,
   "metadata": {},
   "outputs": [],
   "source": [
    "train = Train.copy()\n",
    "test = Test.copy()"
   ]
  },
  {
   "cell_type": "markdown",
   "metadata": {},
   "source": [
    "# 5-minute (1 step ahead) foreast"
   ]
  },
  {
   "cell_type": "markdown",
   "metadata": {},
   "source": [
    "## Train"
   ]
  },
  {
   "cell_type": "code",
   "execution_count": 7,
   "metadata": {},
   "outputs": [],
   "source": [
    "length = 15\n",
    "step = 1\n",
    "k = -1\n",
    "\n",
    "a = np.zeros((15, 6))\n",
    "b = np.zeros((1,))\n",
    "x = np.zeros((15, 6))\n",
    "y = np.zeros((1,))\n",
    "\n",
    "\n",
    "for i in range(length, (len(train)-step+1)):\n",
    "    b[0] = train[\"f4\"][i+step-1]\n",
    "    k = k+1\n",
    "    for j in range(length):\n",
    "        if j+k <= (len(train) + length - step):\n",
    "            a[j] = train.iloc[j+k]\n",
    "            \n",
    "    x = np.append(x, a, axis=0)\n",
    "    y = np.append(y, b, axis=0)\n",
    "    \n",
    "x = np.delete(x, np.s_[0:15], 0).reshape(-1, 15, 6)\n",
    "y = np.delete(y, np.s_[0], 0)"
   ]
  },
  {
   "cell_type": "code",
   "execution_count": 8,
   "metadata": {},
   "outputs": [
    {
     "data": {
      "text/plain": [
       "(49233, 15, 6)"
      ]
     },
     "execution_count": 8,
     "metadata": {},
     "output_type": "execute_result"
    }
   ],
   "source": [
    "x.shape"
   ]
  },
  {
   "cell_type": "code",
   "execution_count": 9,
   "metadata": {},
   "outputs": [
    {
     "data": {
      "text/plain": [
       "(49233,)"
      ]
     },
     "execution_count": 9,
     "metadata": {},
     "output_type": "execute_result"
    }
   ],
   "source": [
    "y.shape"
   ]
  },
  {
   "cell_type": "code",
   "execution_count": 10,
   "metadata": {},
   "outputs": [
    {
     "data": {
      "text/html": [
       "<div>\n",
       "<style scoped>\n",
       "    .dataframe tbody tr th:only-of-type {\n",
       "        vertical-align: middle;\n",
       "    }\n",
       "\n",
       "    .dataframe tbody tr th {\n",
       "        vertical-align: top;\n",
       "    }\n",
       "\n",
       "    .dataframe thead th {\n",
       "        text-align: right;\n",
       "    }\n",
       "</style>\n",
       "<table border=\"1\" class=\"dataframe\">\n",
       "  <thead>\n",
       "    <tr style=\"text-align: right;\">\n",
       "      <th></th>\n",
       "      <th>f1</th>\n",
       "      <th>f2</th>\n",
       "      <th>f3</th>\n",
       "      <th>f4</th>\n",
       "      <th>f5</th>\n",
       "      <th>f6</th>\n",
       "    </tr>\n",
       "    <tr>\n",
       "      <th>Timestamp</th>\n",
       "      <th></th>\n",
       "      <th></th>\n",
       "      <th></th>\n",
       "      <th></th>\n",
       "      <th></th>\n",
       "      <th></th>\n",
       "    </tr>\n",
       "  </thead>\n",
       "  <tbody>\n",
       "    <tr>\n",
       "      <th>2018-02-18 22:40:00</th>\n",
       "      <td>0.219512</td>\n",
       "      <td>0.228739</td>\n",
       "      <td>0.200405</td>\n",
       "      <td>0.276699</td>\n",
       "      <td>0.239892</td>\n",
       "      <td>0.216901</td>\n",
       "    </tr>\n",
       "    <tr>\n",
       "      <th>2018-02-18 22:45:00</th>\n",
       "      <td>0.182927</td>\n",
       "      <td>0.155425</td>\n",
       "      <td>0.194332</td>\n",
       "      <td>0.266990</td>\n",
       "      <td>0.223720</td>\n",
       "      <td>0.216901</td>\n",
       "    </tr>\n",
       "    <tr>\n",
       "      <th>2018-02-18 22:50:00</th>\n",
       "      <td>0.235772</td>\n",
       "      <td>0.231672</td>\n",
       "      <td>0.186235</td>\n",
       "      <td>0.250809</td>\n",
       "      <td>0.207547</td>\n",
       "      <td>0.202817</td>\n",
       "    </tr>\n",
       "    <tr>\n",
       "      <th>2018-02-18 22:55:00</th>\n",
       "      <td>0.166667</td>\n",
       "      <td>0.152493</td>\n",
       "      <td>0.204453</td>\n",
       "      <td>0.286408</td>\n",
       "      <td>0.215633</td>\n",
       "      <td>0.200000</td>\n",
       "    </tr>\n",
       "    <tr>\n",
       "      <th>2018-02-18 23:00:00</th>\n",
       "      <td>0.239837</td>\n",
       "      <td>0.219941</td>\n",
       "      <td>0.165992</td>\n",
       "      <td>0.228155</td>\n",
       "      <td>0.185984</td>\n",
       "      <td>0.174648</td>\n",
       "    </tr>\n",
       "    <tr>\n",
       "      <th>2018-02-18 23:05:00</th>\n",
       "      <td>0.211382</td>\n",
       "      <td>0.222874</td>\n",
       "      <td>0.188259</td>\n",
       "      <td>0.203883</td>\n",
       "      <td>0.180593</td>\n",
       "      <td>0.225352</td>\n",
       "    </tr>\n",
       "    <tr>\n",
       "      <th>2018-02-18 23:10:00</th>\n",
       "      <td>0.142276</td>\n",
       "      <td>0.137830</td>\n",
       "      <td>0.196356</td>\n",
       "      <td>0.221683</td>\n",
       "      <td>0.102426</td>\n",
       "      <td>0.045070</td>\n",
       "    </tr>\n",
       "    <tr>\n",
       "      <th>2018-02-18 23:15:00</th>\n",
       "      <td>0.186992</td>\n",
       "      <td>0.167155</td>\n",
       "      <td>0.163968</td>\n",
       "      <td>0.215210</td>\n",
       "      <td>0.159030</td>\n",
       "      <td>0.132394</td>\n",
       "    </tr>\n",
       "    <tr>\n",
       "      <th>2018-02-18 23:20:00</th>\n",
       "      <td>0.178862</td>\n",
       "      <td>0.137830</td>\n",
       "      <td>0.141700</td>\n",
       "      <td>0.161812</td>\n",
       "      <td>0.142857</td>\n",
       "      <td>0.191549</td>\n",
       "    </tr>\n",
       "    <tr>\n",
       "      <th>2018-02-18 23:25:00</th>\n",
       "      <td>0.191057</td>\n",
       "      <td>0.158358</td>\n",
       "      <td>0.163968</td>\n",
       "      <td>0.169903</td>\n",
       "      <td>0.097035</td>\n",
       "      <td>0.042254</td>\n",
       "    </tr>\n",
       "    <tr>\n",
       "      <th>2018-02-18 23:30:00</th>\n",
       "      <td>0.170732</td>\n",
       "      <td>0.126100</td>\n",
       "      <td>0.159919</td>\n",
       "      <td>0.241100</td>\n",
       "      <td>0.185984</td>\n",
       "      <td>0.008451</td>\n",
       "    </tr>\n",
       "    <tr>\n",
       "      <th>2018-02-18 23:35:00</th>\n",
       "      <td>0.207317</td>\n",
       "      <td>0.170088</td>\n",
       "      <td>0.141700</td>\n",
       "      <td>0.160194</td>\n",
       "      <td>0.097035</td>\n",
       "      <td>0.008451</td>\n",
       "    </tr>\n",
       "    <tr>\n",
       "      <th>2018-02-18 23:40:00</th>\n",
       "      <td>0.117886</td>\n",
       "      <td>0.090909</td>\n",
       "      <td>0.147773</td>\n",
       "      <td>0.139159</td>\n",
       "      <td>0.083558</td>\n",
       "      <td>0.081690</td>\n",
       "    </tr>\n",
       "    <tr>\n",
       "      <th>2018-02-18 23:45:00</th>\n",
       "      <td>0.150407</td>\n",
       "      <td>0.108504</td>\n",
       "      <td>0.133603</td>\n",
       "      <td>0.179612</td>\n",
       "      <td>0.102426</td>\n",
       "      <td>0.019718</td>\n",
       "    </tr>\n",
       "    <tr>\n",
       "      <th>2018-02-18 23:50:00</th>\n",
       "      <td>0.142276</td>\n",
       "      <td>0.114370</td>\n",
       "      <td>0.119433</td>\n",
       "      <td>0.171521</td>\n",
       "      <td>0.113208</td>\n",
       "      <td>0.030986</td>\n",
       "    </tr>\n",
       "    <tr>\n",
       "      <th>2018-02-18 23:55:00</th>\n",
       "      <td>0.138211</td>\n",
       "      <td>0.099707</td>\n",
       "      <td>0.113360</td>\n",
       "      <td>0.171521</td>\n",
       "      <td>0.110512</td>\n",
       "      <td>0.008451</td>\n",
       "    </tr>\n",
       "  </tbody>\n",
       "</table>\n",
       "</div>"
      ],
      "text/plain": [
       "                           f1        f2        f3        f4        f5  \\\n",
       "Timestamp                                                               \n",
       "2018-02-18 22:40:00  0.219512  0.228739  0.200405  0.276699  0.239892   \n",
       "2018-02-18 22:45:00  0.182927  0.155425  0.194332  0.266990  0.223720   \n",
       "2018-02-18 22:50:00  0.235772  0.231672  0.186235  0.250809  0.207547   \n",
       "2018-02-18 22:55:00  0.166667  0.152493  0.204453  0.286408  0.215633   \n",
       "2018-02-18 23:00:00  0.239837  0.219941  0.165992  0.228155  0.185984   \n",
       "2018-02-18 23:05:00  0.211382  0.222874  0.188259  0.203883  0.180593   \n",
       "2018-02-18 23:10:00  0.142276  0.137830  0.196356  0.221683  0.102426   \n",
       "2018-02-18 23:15:00  0.186992  0.167155  0.163968  0.215210  0.159030   \n",
       "2018-02-18 23:20:00  0.178862  0.137830  0.141700  0.161812  0.142857   \n",
       "2018-02-18 23:25:00  0.191057  0.158358  0.163968  0.169903  0.097035   \n",
       "2018-02-18 23:30:00  0.170732  0.126100  0.159919  0.241100  0.185984   \n",
       "2018-02-18 23:35:00  0.207317  0.170088  0.141700  0.160194  0.097035   \n",
       "2018-02-18 23:40:00  0.117886  0.090909  0.147773  0.139159  0.083558   \n",
       "2018-02-18 23:45:00  0.150407  0.108504  0.133603  0.179612  0.102426   \n",
       "2018-02-18 23:50:00  0.142276  0.114370  0.119433  0.171521  0.113208   \n",
       "2018-02-18 23:55:00  0.138211  0.099707  0.113360  0.171521  0.110512   \n",
       "\n",
       "                           f6  \n",
       "Timestamp                      \n",
       "2018-02-18 22:40:00  0.216901  \n",
       "2018-02-18 22:45:00  0.216901  \n",
       "2018-02-18 22:50:00  0.202817  \n",
       "2018-02-18 22:55:00  0.200000  \n",
       "2018-02-18 23:00:00  0.174648  \n",
       "2018-02-18 23:05:00  0.225352  \n",
       "2018-02-18 23:10:00  0.045070  \n",
       "2018-02-18 23:15:00  0.132394  \n",
       "2018-02-18 23:20:00  0.191549  \n",
       "2018-02-18 23:25:00  0.042254  \n",
       "2018-02-18 23:30:00  0.008451  \n",
       "2018-02-18 23:35:00  0.008451  \n",
       "2018-02-18 23:40:00  0.081690  \n",
       "2018-02-18 23:45:00  0.019718  \n",
       "2018-02-18 23:50:00  0.030986  \n",
       "2018-02-18 23:55:00  0.008451  "
      ]
     },
     "execution_count": 10,
     "metadata": {},
     "output_type": "execute_result"
    }
   ],
   "source": [
    "train.tail(16)"
   ]
  },
  {
   "cell_type": "code",
   "execution_count": 11,
   "metadata": {},
   "outputs": [
    {
     "data": {
      "text/plain": [
       "array([[0.2195122 , 0.228739  , 0.20040486, 0.27669903, 0.23989218,\n",
       "        0.21690141],\n",
       "       [0.18292683, 0.15542522, 0.19433198, 0.26699029, 0.22371968,\n",
       "        0.21690141],\n",
       "       [0.23577236, 0.23167155, 0.18623482, 0.25080906, 0.20754717,\n",
       "        0.2028169 ],\n",
       "       [0.16666667, 0.15249267, 0.20445344, 0.28640777, 0.21563342,\n",
       "        0.2       ],\n",
       "       [0.2398374 , 0.21994135, 0.1659919 , 0.22815534, 0.18598383,\n",
       "        0.17464789],\n",
       "       [0.21138211, 0.2228739 , 0.18825911, 0.2038835 , 0.18059299,\n",
       "        0.22535211],\n",
       "       [0.14227642, 0.13782991, 0.19635628, 0.22168285, 0.10242588,\n",
       "        0.04507042],\n",
       "       [0.18699187, 0.16715543, 0.16396761, 0.21521036, 0.15902965,\n",
       "        0.13239437],\n",
       "       [0.17886179, 0.13782991, 0.1417004 , 0.1618123 , 0.14285714,\n",
       "        0.1915493 ],\n",
       "       [0.19105691, 0.15835777, 0.16396761, 0.16990291, 0.09703504,\n",
       "        0.04225352],\n",
       "       [0.17073171, 0.12609971, 0.15991903, 0.24110032, 0.18598383,\n",
       "        0.0084507 ],\n",
       "       [0.20731707, 0.17008798, 0.1417004 , 0.16019417, 0.09703504,\n",
       "        0.0084507 ],\n",
       "       [0.11788618, 0.09090909, 0.14777328, 0.13915858, 0.08355795,\n",
       "        0.08169014],\n",
       "       [0.1504065 , 0.1085044 , 0.13360324, 0.17961165, 0.10242588,\n",
       "        0.01971831],\n",
       "       [0.14227642, 0.1143695 , 0.1194332 , 0.17152104, 0.11320755,\n",
       "        0.03098592]])"
      ]
     },
     "execution_count": 11,
     "metadata": {},
     "output_type": "execute_result"
    }
   ],
   "source": [
    "x[-1]"
   ]
  },
  {
   "cell_type": "code",
   "execution_count": 12,
   "metadata": {},
   "outputs": [],
   "source": [
    "# Checked as correct"
   ]
  },
  {
   "cell_type": "code",
   "execution_count": 13,
   "metadata": {},
   "outputs": [],
   "source": [
    "# Save \n",
    "\n",
    "np.savez_compressed(\"Deep_train_5\", x=x , y=y)"
   ]
  },
  {
   "cell_type": "markdown",
   "metadata": {},
   "source": [
    "## Test"
   ]
  },
  {
   "cell_type": "code",
   "execution_count": 14,
   "metadata": {},
   "outputs": [],
   "source": [
    "length = 15\n",
    "step = 1\n",
    "k = -1\n",
    "\n",
    "a = np.zeros((15, 6))\n",
    "b = np.zeros((1,))\n",
    "x = np.zeros((15, 6))\n",
    "y = np.zeros((1,))\n",
    "\n",
    "\n",
    "for i in range(length, (len(test)-step+1)):\n",
    "    b[0] = test[\"f4\"][i+step-1]\n",
    "    k = k+1\n",
    "    for j in range(length):\n",
    "        if j+k <= (len(test) + length - step):\n",
    "            a[j] = test.iloc[j+k]\n",
    "            \n",
    "    x = np.append(x, a, axis=0)\n",
    "    y = np.append(y, b, axis=0)\n",
    "    \n",
    "x = np.delete(x, np.s_[0:15], 0).reshape(-1, 15, 6)\n",
    "y = np.delete(y, np.s_[0], 0)"
   ]
  },
  {
   "cell_type": "code",
   "execution_count": 15,
   "metadata": {},
   "outputs": [
    {
     "data": {
      "text/plain": [
       "(4017, 15, 6)"
      ]
     },
     "execution_count": 15,
     "metadata": {},
     "output_type": "execute_result"
    }
   ],
   "source": [
    "x.shape"
   ]
  },
  {
   "cell_type": "code",
   "execution_count": 16,
   "metadata": {},
   "outputs": [
    {
     "data": {
      "text/plain": [
       "(4017,)"
      ]
     },
     "execution_count": 16,
     "metadata": {},
     "output_type": "execute_result"
    }
   ],
   "source": [
    "y.shape"
   ]
  },
  {
   "cell_type": "code",
   "execution_count": 17,
   "metadata": {},
   "outputs": [],
   "source": [
    "# Checked as correct"
   ]
  },
  {
   "cell_type": "code",
   "execution_count": 18,
   "metadata": {},
   "outputs": [],
   "source": [
    "# Save \n",
    "\n",
    "np.savez_compressed(\"Deep_test_5\", x=x , y=y)"
   ]
  },
  {
   "cell_type": "markdown",
   "metadata": {},
   "source": [
    "# 15-minute (3 step ahead) forecast"
   ]
  },
  {
   "cell_type": "markdown",
   "metadata": {},
   "source": [
    "## Train"
   ]
  },
  {
   "cell_type": "code",
   "execution_count": 19,
   "metadata": {},
   "outputs": [],
   "source": [
    "length = 15\n",
    "step = 3\n",
    "k = -1\n",
    "\n",
    "a = np.zeros((15, 6))\n",
    "b = np.zeros((1,))\n",
    "x = np.zeros((15, 6))\n",
    "y = np.zeros((1,))\n",
    "\n",
    "\n",
    "for i in range(length, (len(train)-step+1)):\n",
    "    b[0] = train[\"f4\"][i+step-1]\n",
    "    k = k+1\n",
    "    for j in range(length):\n",
    "        if j+k <= (len(train) + length - step):\n",
    "            a[j] = train.iloc[j+k]\n",
    "            \n",
    "    x = np.append(x, a, axis=0)\n",
    "    y = np.append(y, b, axis=0)\n",
    "    \n",
    "x = np.delete(x, np.s_[0:15], 0).reshape(-1, 15, 6)\n",
    "y = np.delete(y, np.s_[0], 0)"
   ]
  },
  {
   "cell_type": "code",
   "execution_count": 20,
   "metadata": {},
   "outputs": [
    {
     "data": {
      "text/plain": [
       "(49231, 15, 6)"
      ]
     },
     "execution_count": 20,
     "metadata": {},
     "output_type": "execute_result"
    }
   ],
   "source": [
    "x.shape"
   ]
  },
  {
   "cell_type": "code",
   "execution_count": 21,
   "metadata": {},
   "outputs": [
    {
     "data": {
      "text/plain": [
       "(49231,)"
      ]
     },
     "execution_count": 21,
     "metadata": {},
     "output_type": "execute_result"
    }
   ],
   "source": [
    "y.shape"
   ]
  },
  {
   "cell_type": "code",
   "execution_count": 22,
   "metadata": {},
   "outputs": [],
   "source": [
    "# Checked as correct"
   ]
  },
  {
   "cell_type": "code",
   "execution_count": 23,
   "metadata": {},
   "outputs": [],
   "source": [
    "# Save \n",
    "\n",
    "np.savez_compressed(\"Deep_train_15\", x=x , y=y)"
   ]
  },
  {
   "cell_type": "markdown",
   "metadata": {},
   "source": [
    "## Test"
   ]
  },
  {
   "cell_type": "code",
   "execution_count": 24,
   "metadata": {},
   "outputs": [],
   "source": [
    "length = 15\n",
    "step = 3\n",
    "k = -1\n",
    "\n",
    "a = np.zeros((15, 6))\n",
    "b = np.zeros((1,))\n",
    "x = np.zeros((15, 6))\n",
    "y = np.zeros((1,))\n",
    "\n",
    "\n",
    "for i in range(length, (len(test)-step+1)):\n",
    "    b[0] = test[\"f4\"][i+step-1]\n",
    "    k = k+1\n",
    "    for j in range(length):\n",
    "        if j+k <= (len(test) + length - step):\n",
    "            a[j] = test.iloc[j+k]\n",
    "            \n",
    "    x = np.append(x, a, axis=0)\n",
    "    y = np.append(y, b, axis=0)\n",
    "    \n",
    "x = np.delete(x, np.s_[0:15], 0).reshape(-1, 15, 6)\n",
    "y = np.delete(y, np.s_[0], 0)"
   ]
  },
  {
   "cell_type": "code",
   "execution_count": 25,
   "metadata": {},
   "outputs": [
    {
     "data": {
      "text/plain": [
       "(4015, 15, 6)"
      ]
     },
     "execution_count": 25,
     "metadata": {},
     "output_type": "execute_result"
    }
   ],
   "source": [
    "x.shape"
   ]
  },
  {
   "cell_type": "code",
   "execution_count": 26,
   "metadata": {},
   "outputs": [
    {
     "data": {
      "text/plain": [
       "(4015,)"
      ]
     },
     "execution_count": 26,
     "metadata": {},
     "output_type": "execute_result"
    }
   ],
   "source": [
    "y.shape"
   ]
  },
  {
   "cell_type": "code",
   "execution_count": 27,
   "metadata": {},
   "outputs": [],
   "source": [
    "# Checked as correct"
   ]
  },
  {
   "cell_type": "code",
   "execution_count": 28,
   "metadata": {},
   "outputs": [],
   "source": [
    "# Save \n",
    "\n",
    "np.savez_compressed(\"Deep_test_15\", x=x , y=y)"
   ]
  },
  {
   "cell_type": "markdown",
   "metadata": {},
   "source": [
    "# 30-minute (6 step ahead) forecast"
   ]
  },
  {
   "cell_type": "markdown",
   "metadata": {},
   "source": [
    "## Train"
   ]
  },
  {
   "cell_type": "code",
   "execution_count": 29,
   "metadata": {},
   "outputs": [],
   "source": [
    "length = 15\n",
    "step = 6\n",
    "k = -1\n",
    "\n",
    "a = np.zeros((15, 6))\n",
    "b = np.zeros((1,))\n",
    "x = np.zeros((15, 6))\n",
    "y = np.zeros((1,))\n",
    "\n",
    "\n",
    "for i in range(length, (len(train)-step+1)):\n",
    "    b[0] = train[\"f4\"][i+step-1]\n",
    "    k = k+1\n",
    "    for j in range(length):\n",
    "        if j+k <= (len(train) + length - step):\n",
    "            a[j] = train.iloc[j+k]\n",
    "            \n",
    "    x = np.append(x, a, axis=0)\n",
    "    y = np.append(y, b, axis=0)\n",
    "    \n",
    "x = np.delete(x, np.s_[0:15], 0).reshape(-1, 15, 6)\n",
    "y = np.delete(y, np.s_[0], 0)"
   ]
  },
  {
   "cell_type": "code",
   "execution_count": 30,
   "metadata": {},
   "outputs": [
    {
     "data": {
      "text/plain": [
       "(49228, 15, 6)"
      ]
     },
     "execution_count": 30,
     "metadata": {},
     "output_type": "execute_result"
    }
   ],
   "source": [
    "x.shape"
   ]
  },
  {
   "cell_type": "code",
   "execution_count": 31,
   "metadata": {},
   "outputs": [
    {
     "data": {
      "text/plain": [
       "(49228,)"
      ]
     },
     "execution_count": 31,
     "metadata": {},
     "output_type": "execute_result"
    }
   ],
   "source": [
    "y.shape"
   ]
  },
  {
   "cell_type": "code",
   "execution_count": 32,
   "metadata": {},
   "outputs": [],
   "source": [
    "# Checked as correct"
   ]
  },
  {
   "cell_type": "code",
   "execution_count": 33,
   "metadata": {},
   "outputs": [],
   "source": [
    "# Save \n",
    "\n",
    "np.savez_compressed(\"Deep_train_30\", x=x , y=y)"
   ]
  },
  {
   "cell_type": "markdown",
   "metadata": {},
   "source": [
    "## Test"
   ]
  },
  {
   "cell_type": "code",
   "execution_count": 34,
   "metadata": {},
   "outputs": [],
   "source": [
    "length = 15\n",
    "step = 6\n",
    "k = -1\n",
    "\n",
    "a = np.zeros((15, 6))\n",
    "b = np.zeros((1,))\n",
    "x = np.zeros((15, 6))\n",
    "y = np.zeros((1,))\n",
    "\n",
    "\n",
    "for i in range(length, (len(test)-step+1)):\n",
    "    b[0] = test[\"f4\"][i+step-1]\n",
    "    k = k+1\n",
    "    for j in range(length):\n",
    "        if j+k <= (len(test) + length - step):\n",
    "            a[j] = test.iloc[j+k]\n",
    "            \n",
    "    x = np.append(x, a, axis=0)\n",
    "    y = np.append(y, b, axis=0)\n",
    "    \n",
    "x = np.delete(x, np.s_[0:15], 0).reshape(-1, 15, 6)\n",
    "y = np.delete(y, np.s_[0], 0)"
   ]
  },
  {
   "cell_type": "code",
   "execution_count": 35,
   "metadata": {},
   "outputs": [
    {
     "data": {
      "text/plain": [
       "(4012, 15, 6)"
      ]
     },
     "execution_count": 35,
     "metadata": {},
     "output_type": "execute_result"
    }
   ],
   "source": [
    "x.shape"
   ]
  },
  {
   "cell_type": "code",
   "execution_count": 36,
   "metadata": {},
   "outputs": [
    {
     "data": {
      "text/plain": [
       "(4012,)"
      ]
     },
     "execution_count": 36,
     "metadata": {},
     "output_type": "execute_result"
    }
   ],
   "source": [
    "y.shape"
   ]
  },
  {
   "cell_type": "code",
   "execution_count": 37,
   "metadata": {},
   "outputs": [],
   "source": [
    "# Checked as correct"
   ]
  },
  {
   "cell_type": "code",
   "execution_count": 38,
   "metadata": {},
   "outputs": [],
   "source": [
    "# Save \n",
    "\n",
    "np.savez_compressed(\"Deep_test_30\", x=x , y=y)"
   ]
  },
  {
   "cell_type": "markdown",
   "metadata": {},
   "source": [
    "# 60-minute (12 step ahead) forecast"
   ]
  },
  {
   "cell_type": "markdown",
   "metadata": {},
   "source": [
    "## Train"
   ]
  },
  {
   "cell_type": "code",
   "execution_count": 39,
   "metadata": {},
   "outputs": [],
   "source": [
    "length = 15\n",
    "step = 12\n",
    "k = -1\n",
    "\n",
    "a = np.zeros((15, 6))\n",
    "b = np.zeros((1,))\n",
    "x = np.zeros((15, 6))\n",
    "y = np.zeros((1,))\n",
    "\n",
    "\n",
    "for i in range(length, (len(train)-step+1)):\n",
    "    b[0] = train[\"f4\"][i+step-1]\n",
    "    k = k+1\n",
    "    for j in range(length):\n",
    "        if j+k <= (len(train) + length - step):\n",
    "            a[j] = train.iloc[j+k]\n",
    "            \n",
    "    x = np.append(x, a, axis=0)\n",
    "    y = np.append(y, b, axis=0)\n",
    "    \n",
    "x = np.delete(x, np.s_[0:15], 0).reshape(-1, 15, 6)\n",
    "y = np.delete(y, np.s_[0], 0)"
   ]
  },
  {
   "cell_type": "code",
   "execution_count": 40,
   "metadata": {},
   "outputs": [
    {
     "data": {
      "text/plain": [
       "(49222, 15, 6)"
      ]
     },
     "execution_count": 40,
     "metadata": {},
     "output_type": "execute_result"
    }
   ],
   "source": [
    "x.shape"
   ]
  },
  {
   "cell_type": "code",
   "execution_count": 41,
   "metadata": {},
   "outputs": [
    {
     "data": {
      "text/plain": [
       "(49222,)"
      ]
     },
     "execution_count": 41,
     "metadata": {},
     "output_type": "execute_result"
    }
   ],
   "source": [
    "y.shape"
   ]
  },
  {
   "cell_type": "code",
   "execution_count": 42,
   "metadata": {},
   "outputs": [],
   "source": [
    "# Checked as correct"
   ]
  },
  {
   "cell_type": "code",
   "execution_count": 43,
   "metadata": {},
   "outputs": [],
   "source": [
    "# Save \n",
    "\n",
    "np.savez_compressed(\"Deep_train_60\", x=x , y=y)"
   ]
  },
  {
   "cell_type": "markdown",
   "metadata": {},
   "source": [
    "## Test"
   ]
  },
  {
   "cell_type": "code",
   "execution_count": 44,
   "metadata": {},
   "outputs": [],
   "source": [
    "length = 15\n",
    "step = 12\n",
    "k = -1\n",
    "\n",
    "a = np.zeros((15, 6))\n",
    "b = np.zeros((1,))\n",
    "x = np.zeros((15, 6))\n",
    "y = np.zeros((1,))\n",
    "\n",
    "\n",
    "for i in range(length, (len(test)-step+1)):\n",
    "    b[0] = test[\"f4\"][i+step-1]\n",
    "    k = k+1\n",
    "    for j in range(length):\n",
    "        if j+k <= (len(test) + length - step):\n",
    "            a[j] = test.iloc[j+k]\n",
    "            \n",
    "    x = np.append(x, a, axis=0)\n",
    "    y = np.append(y, b, axis=0)\n",
    "    \n",
    "x = np.delete(x, np.s_[0:15], 0).reshape(-1, 15, 6)\n",
    "y = np.delete(y, np.s_[0], 0)"
   ]
  },
  {
   "cell_type": "code",
   "execution_count": 45,
   "metadata": {},
   "outputs": [
    {
     "data": {
      "text/plain": [
       "(4006, 15, 6)"
      ]
     },
     "execution_count": 45,
     "metadata": {},
     "output_type": "execute_result"
    }
   ],
   "source": [
    "x.shape"
   ]
  },
  {
   "cell_type": "code",
   "execution_count": 46,
   "metadata": {},
   "outputs": [
    {
     "data": {
      "text/plain": [
       "(4006,)"
      ]
     },
     "execution_count": 46,
     "metadata": {},
     "output_type": "execute_result"
    }
   ],
   "source": [
    "y.shape"
   ]
  },
  {
   "cell_type": "code",
   "execution_count": 47,
   "metadata": {},
   "outputs": [],
   "source": [
    "# Checked as correct"
   ]
  },
  {
   "cell_type": "code",
   "execution_count": 48,
   "metadata": {},
   "outputs": [],
   "source": [
    "# Save \n",
    "\n",
    "np.savez_compressed(\"Deep_test_60\", x=x , y=y)"
   ]
  }
 ],
 "metadata": {
  "kernelspec": {
   "display_name": "Python 3 (ipykernel)",
   "language": "python",
   "name": "python3"
  },
  "language_info": {
   "codemirror_mode": {
    "name": "ipython",
    "version": 3
   },
   "file_extension": ".py",
   "mimetype": "text/x-python",
   "name": "python",
   "nbconvert_exporter": "python",
   "pygments_lexer": "ipython3",
   "version": "3.11.5"
  }
 },
 "nbformat": 4,
 "nbformat_minor": 4
}
