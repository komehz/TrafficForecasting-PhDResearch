{
 "cells": [
  {
   "cell_type": "code",
   "execution_count": 1,
   "id": "545d8872",
   "metadata": {},
   "outputs": [],
   "source": [
    "import pandas as pd\n",
    "import numpy as np\n",
    "import matplotlib.pyplot as plt\n",
    "import seaborn as sns\n",
    "import joblib"
   ]
  },
  {
   "cell_type": "code",
   "execution_count": 2,
   "id": "a37a5cf6",
   "metadata": {},
   "outputs": [],
   "source": [
    "# General Period\n",
    "test_period = joblib.load(\"00Periodicity_test.save\") \n",
    "\n",
    "# 2 Week priodicity\n",
    "test_2week = joblib.load(\"002weeks_test_Nov.save\") "
   ]
  },
  {
   "cell_type": "code",
   "execution_count": 3,
   "id": "2d7f84ac",
   "metadata": {},
   "outputs": [
    {
     "data": {
      "text/plain": [
       "(4032, 49)"
      ]
     },
     "execution_count": 3,
     "metadata": {},
     "output_type": "execute_result"
    }
   ],
   "source": [
    "test_period.shape"
   ]
  },
  {
   "cell_type": "code",
   "execution_count": 4,
   "id": "539e1469",
   "metadata": {},
   "outputs": [
    {
     "data": {
      "text/plain": [
       "(4032, 14)"
      ]
     },
     "execution_count": 4,
     "metadata": {},
     "output_type": "execute_result"
    }
   ],
   "source": [
    "test_2week.shape"
   ]
  },
  {
   "cell_type": "code",
   "execution_count": 5,
   "id": "3aa8132e",
   "metadata": {},
   "outputs": [
    {
     "data": {
      "text/plain": [
       "array([0.16713122, 0.03651526, 0.11320755, 0.25728988, 0.14451115,\n",
       "       0.15951973, 0.19554031, 0.16863208, 0.02200822, 0.11663808,\n",
       "       0.21783877, 0.15608919, 0.16723842, 0.18524871, 0.14633362,\n",
       "       0.0290194 , 0.11320755, 0.22298456, 0.12735849, 0.13979417,\n",
       "       0.15866209, 0.1292167 , 0.02506424, 0.08747856, 0.17495712,\n",
       "       0.11320755, 0.13036021, 0.14493997, 0.13859348, 0.01836216,\n",
       "       0.11492281, 0.17324185, 0.12349914, 0.13379074, 0.15265866,\n",
       "       0.13127501, 0.03156054, 0.06174957, 0.2058319 , 0.11749571,\n",
       "       0.13379074, 0.13979417, 0.12795883, 0.02422111, 0.10806175,\n",
       "       0.20926244, 0.11578045, 0.12349914, 0.12950257])"
      ]
     },
     "execution_count": 5,
     "metadata": {},
     "output_type": "execute_result"
    }
   ],
   "source": [
    "test_period[0]"
   ]
  },
  {
   "cell_type": "code",
   "execution_count": 6,
   "id": "7a1052fb",
   "metadata": {},
   "outputs": [
    {
     "data": {
      "text/plain": [
       "array([0.13379074, 0.12864494, 0.11492281, 0.12521441, 0.10634648,\n",
       "       0.12521441, 0.10291595, 0.15780446, 0.10291595, 0.10977702,\n",
       "       0.10291595, 0.08404803, 0.09777015, 0.11149228])"
      ]
     },
     "execution_count": 6,
     "metadata": {},
     "output_type": "execute_result"
    }
   ],
   "source": [
    "test_2week[0]"
   ]
  },
  {
   "cell_type": "code",
   "execution_count": 7,
   "id": "cead2d30",
   "metadata": {},
   "outputs": [
    {
     "data": {
      "text/plain": [
       "array([0.16713122, 0.03651526, 0.11320755, 0.25728988, 0.14451115,\n",
       "       0.15951973, 0.19554031, 0.16863208, 0.02200822, 0.11663808,\n",
       "       0.21783877, 0.15608919, 0.16723842, 0.18524871, 0.14633362,\n",
       "       0.0290194 , 0.11320755, 0.22298456, 0.12735849, 0.13979417,\n",
       "       0.15866209, 0.1292167 , 0.02506424, 0.08747856, 0.17495712,\n",
       "       0.11320755, 0.13036021, 0.14493997, 0.13859348, 0.01836216,\n",
       "       0.11492281, 0.17324185, 0.12349914, 0.13379074, 0.15265866,\n",
       "       0.13127501, 0.03156054, 0.06174957, 0.2058319 , 0.11749571,\n",
       "       0.13379074, 0.13979417, 0.12795883, 0.02422111, 0.10806175,\n",
       "       0.20926244, 0.11578045, 0.12349914, 0.12950257, 0.13379074,\n",
       "       0.12864494, 0.11492281, 0.12521441, 0.10634648, 0.12521441,\n",
       "       0.10291595, 0.15780446, 0.10291595, 0.10977702, 0.10291595,\n",
       "       0.08404803, 0.09777015, 0.11149228])"
      ]
     },
     "execution_count": 7,
     "metadata": {},
     "output_type": "execute_result"
    }
   ],
   "source": [
    "np.concatenate((test_period[0], test_2week[0]), axis=0)"
   ]
  },
  {
   "cell_type": "markdown",
   "id": "83772f40",
   "metadata": {},
   "source": [
    "### Concatenation"
   ]
  },
  {
   "cell_type": "code",
   "execution_count": 8,
   "id": "f0537ca0",
   "metadata": {},
   "outputs": [],
   "source": [
    "b = np.zeros(63)\n",
    "\n",
    "for i in range(len(test_period)):\n",
    "    a = np.concatenate((test_period[i], test_2week[i]), axis=0)\n",
    "    b = np.append(b, a, axis=0)\n",
    "    \n",
    "b = b.reshape(-1,63)\n",
    "Xtest = np.delete(b, np.s_[0], 0)"
   ]
  },
  {
   "cell_type": "code",
   "execution_count": 9,
   "id": "ca19a8b9",
   "metadata": {},
   "outputs": [
    {
     "data": {
      "text/plain": [
       "array([ True,  True,  True,  True,  True,  True,  True,  True,  True,\n",
       "        True,  True,  True,  True,  True,  True,  True,  True,  True,\n",
       "        True,  True,  True,  True,  True,  True,  True,  True,  True,\n",
       "        True,  True,  True,  True,  True,  True,  True,  True,  True,\n",
       "        True,  True,  True,  True,  True,  True,  True,  True,  True,\n",
       "        True,  True,  True,  True,  True,  True,  True,  True,  True,\n",
       "        True,  True,  True,  True,  True,  True,  True,  True,  True])"
      ]
     },
     "execution_count": 9,
     "metadata": {},
     "output_type": "execute_result"
    }
   ],
   "source": [
    "Xtest[0] == np.concatenate((test_period[0], test_2week[0]), axis=0)"
   ]
  },
  {
   "cell_type": "code",
   "execution_count": 10,
   "id": "8a2470ac",
   "metadata": {},
   "outputs": [
    {
     "data": {
      "text/plain": [
       "(4032, 63)"
      ]
     },
     "execution_count": 10,
     "metadata": {},
     "output_type": "execute_result"
    }
   ],
   "source": [
    "Xtest.shape"
   ]
  },
  {
   "cell_type": "markdown",
   "id": "f2cfdb15",
   "metadata": {},
   "source": [
    "# Samples"
   ]
  },
  {
   "cell_type": "markdown",
   "id": "22013a77",
   "metadata": {},
   "source": [
    "### 5 mins"
   ]
  },
  {
   "cell_type": "code",
   "execution_count": 11,
   "id": "1f280350",
   "metadata": {},
   "outputs": [],
   "source": [
    "# Delete first 15 samples\n",
    "a = np.delete(Xtest, np.s_[0:15], 0)"
   ]
  },
  {
   "cell_type": "code",
   "execution_count": 12,
   "id": "8dad44be",
   "metadata": {},
   "outputs": [
    {
     "data": {
      "text/plain": [
       "4017"
      ]
     },
     "execution_count": 12,
     "metadata": {},
     "output_type": "execute_result"
    }
   ],
   "source": [
    "len(a)"
   ]
  },
  {
   "cell_type": "code",
   "execution_count": 13,
   "id": "79506d65",
   "metadata": {},
   "outputs": [],
   "source": [
    "# Save \n",
    "\n",
    "np.save(\"Wide_test_Nov_5\", a)"
   ]
  },
  {
   "cell_type": "markdown",
   "id": "dc034e61",
   "metadata": {},
   "source": [
    "### 15 mins"
   ]
  },
  {
   "cell_type": "code",
   "execution_count": 14,
   "id": "522ea806",
   "metadata": {},
   "outputs": [],
   "source": [
    "# Delete first 15 samples\n",
    "a = np.delete(Xtest, np.s_[0:17], 0)"
   ]
  },
  {
   "cell_type": "code",
   "execution_count": 15,
   "id": "3730b11f",
   "metadata": {},
   "outputs": [
    {
     "data": {
      "text/plain": [
       "4015"
      ]
     },
     "execution_count": 15,
     "metadata": {},
     "output_type": "execute_result"
    }
   ],
   "source": [
    "len(a)"
   ]
  },
  {
   "cell_type": "code",
   "execution_count": 16,
   "id": "5d0b852a",
   "metadata": {},
   "outputs": [],
   "source": [
    "# Save \n",
    "\n",
    "np.save(\"Wide_test_Nov_15\", a)"
   ]
  },
  {
   "cell_type": "markdown",
   "id": "f4cb38b9",
   "metadata": {},
   "source": [
    "### 30 mins"
   ]
  },
  {
   "cell_type": "code",
   "execution_count": 17,
   "id": "e2ccb029",
   "metadata": {},
   "outputs": [],
   "source": [
    "# Delete first 15 samples\n",
    "a = np.delete(Xtest, np.s_[0:20], 0)"
   ]
  },
  {
   "cell_type": "code",
   "execution_count": 18,
   "id": "e8180ecc",
   "metadata": {},
   "outputs": [
    {
     "data": {
      "text/plain": [
       "4012"
      ]
     },
     "execution_count": 18,
     "metadata": {},
     "output_type": "execute_result"
    }
   ],
   "source": [
    "len(a)"
   ]
  },
  {
   "cell_type": "code",
   "execution_count": 19,
   "id": "d2223f2a",
   "metadata": {},
   "outputs": [],
   "source": [
    "# Save \n",
    "\n",
    "np.save(\"Wide_test_Nov_30\", a)"
   ]
  },
  {
   "cell_type": "markdown",
   "id": "6d8b1d09",
   "metadata": {},
   "source": [
    "### 60 mins"
   ]
  },
  {
   "cell_type": "code",
   "execution_count": 20,
   "id": "ffd3970f",
   "metadata": {},
   "outputs": [],
   "source": [
    "# Delete first 15 samples\n",
    "a = np.delete(Xtest, np.s_[0:26], 0)"
   ]
  },
  {
   "cell_type": "code",
   "execution_count": 21,
   "id": "5cb1f265",
   "metadata": {},
   "outputs": [
    {
     "data": {
      "text/plain": [
       "4006"
      ]
     },
     "execution_count": 21,
     "metadata": {},
     "output_type": "execute_result"
    }
   ],
   "source": [
    "len(a)"
   ]
  },
  {
   "cell_type": "code",
   "execution_count": 22,
   "id": "d4250554",
   "metadata": {},
   "outputs": [],
   "source": [
    "# Save \n",
    "\n",
    "np.save(\"Wide_test_Nov_60\", a)"
   ]
  }
 ],
 "metadata": {
  "kernelspec": {
   "display_name": "Python 3 (ipykernel)",
   "language": "python",
   "name": "python3"
  },
  "language_info": {
   "codemirror_mode": {
    "name": "ipython",
    "version": 3
   },
   "file_extension": ".py",
   "mimetype": "text/x-python",
   "name": "python",
   "nbconvert_exporter": "python",
   "pygments_lexer": "ipython3",
   "version": "3.11.5"
  }
 },
 "nbformat": 4,
 "nbformat_minor": 5
}
