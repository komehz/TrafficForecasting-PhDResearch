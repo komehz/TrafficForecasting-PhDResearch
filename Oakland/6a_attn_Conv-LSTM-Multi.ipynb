{
 "cells": [
  {
   "cell_type": "code",
   "execution_count": 1,
   "metadata": {},
   "outputs": [],
   "source": [
    "import pandas as pd\n",
    "import numpy as np\n",
    "import matplotlib.pyplot as plt\n",
    "import seaborn as sns\n",
    "import joblib\n",
    "import os"
   ]
  },
  {
   "cell_type": "code",
   "execution_count": 2,
   "metadata": {},
   "outputs": [],
   "source": [
    "import keras_tuner as kt\n",
    "from keras_tuner import RandomSearch"
   ]
  },
  {
   "cell_type": "code",
   "execution_count": 3,
   "metadata": {},
   "outputs": [],
   "source": [
    "from sklearn.metrics import mean_absolute_error,mean_squared_error,mean_absolute_percentage_error"
   ]
  },
  {
   "cell_type": "code",
   "execution_count": 4,
   "metadata": {},
   "outputs": [],
   "source": [
    "import relative_accuracy as ra\n",
    "from statistics import mean, stdev\n",
    "import geh as ga"
   ]
  },
  {
   "cell_type": "code",
   "execution_count": 5,
   "metadata": {},
   "outputs": [],
   "source": [
    "# Load all Inputs and Output Data\n",
    "\n",
    "# 5 mins (1 step ahead)\n",
    "Deep_train_5   = np.load(\"Deep_train_5_multi.npz\")['x'] \n",
    "Output_train_5 = np.load(\"Deep_train_5_multi.npz\")['y']\n",
    "\n",
    "Deep_test_5   = np.load(\"Deep_test_5_multi.npz\")['x'] \n",
    "Output_test_5 = np.load(\"Deep_test_5_multi.npz\")['y'] \n",
    "\n",
    "# 15 mins (3 steps ahead)\n",
    "Deep_train_15   = np.load(\"Deep_train_15_multi.npz\")['x'] \n",
    "Output_train_15 = np.load(\"Deep_train_15_multi.npz\")['y']\n",
    "\n",
    "Deep_test_15   = np.load(\"Deep_test_15_multi.npz\")['x'] \n",
    "Output_test_15 = np.load(\"Deep_test_15_multi.npz\")['y']\n",
    "\n",
    "# 30 mins (6 steps ahead)\n",
    "Deep_train_30   = np.load(\"Deep_train_30_multi.npz\")['x'] \n",
    "Output_train_30 = np.load(\"Deep_train_30_multi.npz\")['y']\n",
    "\n",
    "Deep_test_30   = np.load(\"Deep_test_30_multi.npz\")['x'] \n",
    "Output_test_30 = np.load(\"Deep_test_30_multi.npz\")['y']\n",
    "\n",
    "# 60 mins (12 steps ahead)\n",
    "Deep_train_60   = np.load(\"Deep_train_60_multi.npz\")['x'] \n",
    "Output_train_60 = np.load(\"Deep_train_60_multi.npz\")['y']\n",
    "\n",
    "Deep_test_60   = np.load(\"Deep_test_60_multi.npz\")['x'] \n",
    "Output_test_60 = np.load(\"Deep_test_60_multi.npz\")['y']"
   ]
  },
  {
   "cell_type": "code",
   "execution_count": 6,
   "metadata": {},
   "outputs": [],
   "source": [
    "# Wide Week Data\n",
    "Xtrain = joblib.load(\"002weeks_train.save\") \n",
    "Xtest = joblib.load(\"002weeks_test.save\") \n",
    "\n",
    "# Wide Day Data\n",
    "Xtrain_day = joblib.load(\"002days_train.save\") \n",
    "Xtest_day = joblib.load(\"002days_test.save\") "
   ]
  },
  {
   "cell_type": "code",
   "execution_count": 7,
   "metadata": {},
   "outputs": [],
   "source": [
    "# 5 mins\n",
    "# Delete first 15 samples\n",
    "Wide_train_5 = np.delete(Xtrain, np.s_[0:15], 0)\n",
    "Wide_test_5 = np.delete(Xtest, np.s_[0:15], 0)\n",
    "\n",
    "Wide_train_5_day = np.delete(Xtrain_day, np.s_[0:15], 0)\n",
    "Wide_test_5_day = np.delete(Xtest_day, np.s_[0:15], 0)"
   ]
  },
  {
   "cell_type": "code",
   "execution_count": 8,
   "metadata": {},
   "outputs": [],
   "source": [
    "# 15 mins\n",
    "# Delete first 17 samples\n",
    "Wide_train_15 = np.delete(Xtrain, np.s_[0:17], 0)\n",
    "Wide_test_15 = np.delete(Xtest, np.s_[0:17], 0)\n",
    "\n",
    "Wide_train_15_day = np.delete(Xtrain_day, np.s_[0:17], 0)\n",
    "Wide_test_15_day = np.delete(Xtest_day, np.s_[0:17], 0)"
   ]
  },
  {
   "cell_type": "code",
   "execution_count": 9,
   "metadata": {},
   "outputs": [],
   "source": [
    "# 30 mins\n",
    "# Delete first 20 samples\n",
    "Wide_train_30 = np.delete(Xtrain, np.s_[0:20], 0)\n",
    "Wide_test_30 = np.delete(Xtest, np.s_[0:20], 0)\n",
    "\n",
    "Wide_train_30_day = np.delete(Xtrain_day, np.s_[0:20], 0)\n",
    "Wide_test_30_day = np.delete(Xtest_day, np.s_[0:20], 0)"
   ]
  },
  {
   "cell_type": "code",
   "execution_count": 10,
   "metadata": {},
   "outputs": [],
   "source": [
    "# 60 mins\n",
    "# Delete first 27 samples\n",
    "Wide_train_60 = np.delete(Xtrain, np.s_[0:26], 0)\n",
    "Wide_test_60 = np.delete(Xtest, np.s_[0:26], 0)\n",
    "\n",
    "Wide_train_60_day = np.delete(Xtrain_day, np.s_[0:26], 0)\n",
    "Wide_test_60_day = np.delete(Xtest_day, np.s_[0:26], 0)"
   ]
  },
  {
   "cell_type": "code",
   "execution_count": 11,
   "metadata": {},
   "outputs": [],
   "source": [
    "scaler_filename = \"scaler.save\"\n",
    "scaler = joblib.load(scaler_filename) "
   ]
  },
  {
   "cell_type": "code",
   "execution_count": 12,
   "metadata": {},
   "outputs": [],
   "source": [
    "Test      = pd.read_csv('01test_scaled.csv', index_col=None, parse_dates=[0])"
   ]
  },
  {
   "cell_type": "markdown",
   "metadata": {},
   "source": [
    "# Reshape Samples"
   ]
  },
  {
   "cell_type": "markdown",
   "metadata": {},
   "source": [
    "The first step is to split the input sequences into subsequences that can be processed by the CNN model. Here, each spatio-temporal sample can be split into three sub-samples, each with five time steps. The CNN can interpret each subsequence of five time steps and provide a time series of interpretations of the subsequences to the LSTM model to process as input."
   ]
  },
  {
   "cell_type": "code",
   "execution_count": 13,
   "metadata": {},
   "outputs": [],
   "source": [
    "# reshape from [samples, timesteps] into [samples, subsequences, timesteps, features]\n",
    "n_features = 6              # No of loop detectors\n",
    "n_seq = 3                    # Subsequences\n",
    "n_steps = 5                  # time-step per subsequence\n",
    "val_percent = 0.2            # 2 weeks\n",
    "batch_size = 32"
   ]
  },
  {
   "cell_type": "markdown",
   "metadata": {},
   "source": [
    "#### 5 mins"
   ]
  },
  {
   "cell_type": "code",
   "execution_count": 14,
   "metadata": {},
   "outputs": [],
   "source": [
    "# Train\n",
    "# reshape from [samples, timesteps] into [samples, subsequences, timesteps, features]\n",
    "Xt5 = Deep_train_5.reshape((Deep_train_5.shape[0], n_seq, n_steps, n_features))\n",
    "yt5 = scaler.inverse_transform(Output_train_5)"
   ]
  },
  {
   "cell_type": "code",
   "execution_count": 15,
   "metadata": {},
   "outputs": [],
   "source": [
    "# Test\n",
    "# reshape from [samples, timesteps] into [samples, subsequences, timesteps, features]\n",
    "Xv5 = Deep_test_5.reshape((Deep_test_5.shape[0], n_seq, n_steps, n_features))\n",
    "yv5 = scaler.inverse_transform(Output_test_5)"
   ]
  },
  {
   "cell_type": "markdown",
   "metadata": {},
   "source": [
    "#### 15 mins"
   ]
  },
  {
   "cell_type": "code",
   "execution_count": 16,
   "metadata": {},
   "outputs": [],
   "source": [
    "# Train\n",
    "# reshape from [samples, timesteps] into [samples, subsequences, timesteps, features]\n",
    "Xt15 = Deep_train_15.reshape((Deep_train_15.shape[0], n_seq, n_steps, n_features))\n",
    "yt15 = scaler.inverse_transform(Output_train_15)"
   ]
  },
  {
   "cell_type": "code",
   "execution_count": 17,
   "metadata": {},
   "outputs": [],
   "source": [
    "# Test\n",
    "# reshape from [samples, timesteps] into [samples, subsequences, timesteps, features]\n",
    "Xv15 = Deep_test_15.reshape((Deep_test_15.shape[0], n_seq, n_steps, n_features))\n",
    "yv15 = scaler.inverse_transform(Output_test_15)"
   ]
  },
  {
   "cell_type": "markdown",
   "metadata": {},
   "source": [
    "#### 30 mins"
   ]
  },
  {
   "cell_type": "code",
   "execution_count": 18,
   "metadata": {},
   "outputs": [],
   "source": [
    "# Train\n",
    "# reshape from [samples, timesteps] into [samples, subsequences, timesteps, features]\n",
    "Xt30 = Deep_train_30.reshape((Deep_train_30.shape[0], n_seq, n_steps, n_features))\n",
    "yt30 = scaler.inverse_transform(Output_train_30)"
   ]
  },
  {
   "cell_type": "code",
   "execution_count": 19,
   "metadata": {},
   "outputs": [],
   "source": [
    "# Test\n",
    "# reshape from [samples, timesteps] into [samples, subsequences, timesteps, features]\n",
    "Xv30 = Deep_test_30.reshape((Deep_test_30.shape[0], n_seq, n_steps, n_features))\n",
    "yv30 = scaler.inverse_transform(Output_test_30)"
   ]
  },
  {
   "cell_type": "markdown",
   "metadata": {},
   "source": [
    "#### 60 mins"
   ]
  },
  {
   "cell_type": "code",
   "execution_count": 20,
   "metadata": {},
   "outputs": [],
   "source": [
    "# Train\n",
    "# reshape from [samples, timesteps] into [samples, subsequences, timesteps, features]\n",
    "Xt60 = Deep_train_60.reshape((Deep_train_60.shape[0], n_seq, n_steps, n_features))\n",
    "yt60 = scaler.inverse_transform(Output_train_60)"
   ]
  },
  {
   "cell_type": "code",
   "execution_count": 21,
   "metadata": {},
   "outputs": [],
   "source": [
    "# Test\n",
    "# reshape from [samples, timesteps] into [samples, subsequences, timesteps, features]\n",
    "Xv60 = Deep_test_60.reshape((Deep_test_60.shape[0], n_seq, n_steps, n_features))\n",
    "yv60 = scaler.inverse_transform(Output_test_60)"
   ]
  },
  {
   "cell_type": "markdown",
   "metadata": {},
   "source": [
    "### Reshaping the Data for Conv2D layer\n",
    "\n",
    "For Conv2D, there is a need to add one more dimension to show we're dealing with 1 channel (since technically the images are in black and white, only showing values from 0-max flow on a single channel).\n",
    "\n",
    "Conv1D - strides in 1 dimension\n",
    "Conv2D - strides in 2 dimensions"
   ]
  },
  {
   "cell_type": "code",
   "execution_count": 22,
   "metadata": {},
   "outputs": [],
   "source": [
    "# define no_of_channels\n",
    "n_channels = 1"
   ]
  },
  {
   "cell_type": "code",
   "execution_count": 23,
   "metadata": {},
   "outputs": [],
   "source": [
    "# Train data\n",
    "Xt5  =  Xt5.reshape(Xt5.shape[0], n_seq, n_steps, n_features, n_channels)\n",
    "Xt15 =  Xt15.reshape(Xt15.shape[0], n_seq, n_steps, n_features, n_channels)\n",
    "Xt30 =  Xt30.reshape(Xt30.shape[0], n_seq, n_steps, n_features, n_channels)\n",
    "Xt60 =  Xt60.reshape(Xt60.shape[0], n_seq, n_steps, n_features, n_channels)\n",
    "\n",
    "# Validation data\n",
    "Xv5  =  Xv5.reshape(Xv5.shape[0], n_seq, n_steps, n_features, n_channels)\n",
    "Xv15 =  Xv15.reshape(Xv15.shape[0], n_seq, n_steps, n_features, n_channels)\n",
    "Xv30 =  Xv30.reshape(Xv30.shape[0], n_seq, n_steps, n_features, n_channels)\n",
    "Xv60 =  Xv60.reshape(Xv60.shape[0], n_seq, n_steps, n_features, n_channels)"
   ]
  },
  {
   "cell_type": "code",
   "execution_count": 24,
   "metadata": {},
   "outputs": [],
   "source": [
    "Wide_train_5 = np.expand_dims(Wide_train_5, 1)\n",
    "Wide_train_15 = np.expand_dims(Wide_train_15, 1)\n",
    "Wide_train_30 = np.expand_dims(Wide_train_30, 1)\n",
    "Wide_train_60 = np.expand_dims(Wide_train_60, 1)\n",
    "\n",
    "Wide_test_5 = np.expand_dims(Wide_test_5, 1)\n",
    "Wide_test_15 = np.expand_dims(Wide_test_15, 1)\n",
    "Wide_test_30 = np.expand_dims(Wide_test_30, 1)\n",
    "Wide_test_60 = np.expand_dims(Wide_test_60, 1)"
   ]
  },
  {
   "cell_type": "code",
   "execution_count": 25,
   "metadata": {},
   "outputs": [],
   "source": [
    "Wide_train_5_day = np.expand_dims(Wide_train_5_day, 1)\n",
    "Wide_train_15_day = np.expand_dims(Wide_train_15_day, 1)\n",
    "Wide_train_30_day = np.expand_dims(Wide_train_30_day, 1)\n",
    "Wide_train_60_day = np.expand_dims(Wide_train_60_day, 1)\n",
    "\n",
    "Wide_test_5_day = np.expand_dims(Wide_test_5_day, 1)\n",
    "Wide_test_15_day = np.expand_dims(Wide_test_15_day, 1)\n",
    "Wide_test_30_day = np.expand_dims(Wide_test_30_day, 1)\n",
    "Wide_test_60_day = np.expand_dims(Wide_test_60_day, 1)"
   ]
  },
  {
   "cell_type": "code",
   "execution_count": 26,
   "metadata": {},
   "outputs": [],
   "source": [
    "Wt5  = Wide_train_5\n",
    "Wt15 = Wide_train_15\n",
    "Wt30 = Wide_train_30\n",
    "Wt60 = Wide_train_60\n",
    "\n",
    "Wv5  = Wide_test_5\n",
    "Wv15 = Wide_test_15\n",
    "Wv30 = Wide_test_30\n",
    "Wv60 = Wide_test_60"
   ]
  },
  {
   "cell_type": "code",
   "execution_count": 27,
   "metadata": {},
   "outputs": [],
   "source": [
    "Wt5x  = Wide_train_5_day\n",
    "Wt15x = Wide_train_15_day\n",
    "Wt30x = Wide_train_30_day\n",
    "Wt60x = Wide_train_60_day\n",
    "\n",
    "Wv5x  = Wide_test_5_day\n",
    "Wv15x = Wide_test_15_day\n",
    "Wv30x = Wide_test_30_day\n",
    "Wv60x = Wide_test_60_day"
   ]
  },
  {
   "cell_type": "markdown",
   "metadata": {},
   "source": [
    "# CNN-LSTM model"
   ]
  },
  {
   "cell_type": "code",
   "execution_count": 28,
   "metadata": {},
   "outputs": [],
   "source": [
    "from tensorflow import keras\n",
    "from keras_self_attention import SeqSelfAttention\n",
    "\n",
    "# Early Stopping\n",
    "early_stop = keras.callbacks.EarlyStopping(monitor='val_loss',patience=5)"
   ]
  },
  {
   "cell_type": "code",
   "execution_count": 29,
   "metadata": {},
   "outputs": [],
   "source": [
    "stop = keras.callbacks.EarlyStopping(\n",
    "    monitor = 'val_loss', \n",
    "    patience = 5, \n",
    "    restore_best_weights = True)"
   ]
  },
  {
   "cell_type": "code",
   "execution_count": 30,
   "metadata": {},
   "outputs": [
    {
     "data": {
      "text/plain": [
       "(49233, 1, 14)"
      ]
     },
     "execution_count": 30,
     "metadata": {},
     "output_type": "execute_result"
    }
   ],
   "source": [
    "Wide_train_5.shape"
   ]
  },
  {
   "cell_type": "code",
   "execution_count": 31,
   "metadata": {},
   "outputs": [
    {
     "data": {
      "text/plain": [
       "(3, 5, 6, 1)"
      ]
     },
     "execution_count": 31,
     "metadata": {},
     "output_type": "execute_result"
    }
   ],
   "source": [
    "Xt5.shape[1:]"
   ]
  },
  {
   "cell_type": "markdown",
   "metadata": {},
   "source": [
    "# 5 mins ahead"
   ]
  },
  {
   "cell_type": "code",
   "execution_count": 32,
   "metadata": {},
   "outputs": [],
   "source": [
    "def build_model_5(hp):\n",
    "    # Inputs\n",
    "    channel_Wide = keras.layers.Input(shape=Wide_train_5.shape[1:], name=\"wide_week\")\n",
    "    channel_Widex = keras.layers.Input(shape=Wide_train_5_day.shape[1:], name=\"wide_day\")\n",
    "    channel_Deep = keras.layers.Input(shape=Xt5.shape[1:], name=\"weep_input\")\n",
    "    \n",
    "    # Wide Model\n",
    "    Wide_5 = keras.layers.Bidirectional(\n",
    "        keras.layers.LSTM(units=hp.Int(\"wide_week_LSTM\", min_value=1, max_value=100, step=1), \n",
    "                                activation='relu'))(channel_Wide)\n",
    "    \n",
    "    Wide_5x = keras.layers.Bidirectional(\n",
    "        keras.layers.LSTM(units=hp.Int(\"wide_day_LSTM\", min_value=1, max_value=100, step=1), \n",
    "                                activation='relu'))(channel_Widex)\n",
    "       \n",
    "    # Deep Model\n",
    "    # CNN \n",
    "    CNN_5a = keras.layers.TimeDistributed(\n",
    "        keras.layers.Conv2D(filters=hp.Int(\"filters\", min_value=32, max_value=512, step=32),\n",
    "                            kernel_size=hp.Choice(\"kernel_size\", [2, 3]), activation='relu'))(channel_Deep)\n",
    "    CNN_5b = keras.layers.TimeDistributed(\n",
    "        keras.layers.Conv2D(filters=hp.Int(\"filters\", min_value=32, max_value=512, step=32),\n",
    "                            kernel_size=hp.Choice(\"kernel_size\", [2, 3]), activation='relu'))(CNN_5a)\n",
    "    flatten_5 = keras.layers.TimeDistributed(keras.layers.Flatten())(CNN_5b)\n",
    "    # LSTM          \n",
    "    LSTM_5a = keras.layers.LSTM(units=hp.Int(\"units_LSTM\", min_value=1, max_value=100, step=1), \n",
    "                                activation='relu', return_sequences=True)(flatten_5)\n",
    "    LSTM_5b = keras.layers.LSTM(units=hp.Int(\"units_LSTM\", min_value=1, max_value=100, step=1), \n",
    "                                activation='relu', return_sequences=True)(LSTM_5a)\n",
    "    Att_5 = SeqSelfAttention(attention_activation='tanh')(LSTM_5b)\n",
    "    Reshaped_5 = keras.layers.Flatten()(Att_5)\n",
    "    \n",
    "    # Concatenation \n",
    "    concat = keras.layers.concatenate([Wide_5, Wide_5x, Reshaped_5])\n",
    "    \n",
    "    # Output\n",
    "    output = keras.layers.Dense(n_features, name= \"output\")(concat)\n",
    "    \n",
    "    # Model\n",
    "    model_5 = keras.Model(inputs=[channel_Wide, channel_Widex, channel_Deep], outputs=[output])\n",
    "\n",
    "    # Compile\n",
    "    model_5.compile(optimizer=keras.optimizers.Adam(hp.Choice(\"learning_rate\", [1e-2, 1e-3, 1e-4])), \n",
    "        loss='mse',metrics=['MeanAbsoluteError','RootMeanSquaredError','MeanAbsolutePercentageError'])\n",
    "                    \n",
    "    return model_5"
   ]
  },
  {
   "cell_type": "code",
   "execution_count": 33,
   "metadata": {},
   "outputs": [
    {
     "name": "stdout",
     "output_type": "stream",
     "text": [
      "INFO:tensorflow:Reloading Oracle from existing project C:\\RunsOak\\6ai-Conv-LSTM-5\\oracle.json\n",
      "INFO:tensorflow:Reloading Tuner from C:\\RunsOak\\6ai-Conv-LSTM-5\\tuner0.json\n"
     ]
    }
   ],
   "source": [
    "tuner5 = RandomSearch(\n",
    "    build_model_5,\n",
    "    objective=\"val_loss\",\n",
    "    max_trials=30,\n",
    "    executions_per_trial=2,\n",
    "    overwrite=False,\n",
    "    directory=os.path.normpath('C:/RunsOak'),\n",
    "    project_name=\"6ai-Conv-LSTM-5\",\n",
    ")"
   ]
  },
  {
   "cell_type": "code",
   "execution_count": 34,
   "metadata": {},
   "outputs": [
    {
     "name": "stdout",
     "output_type": "stream",
     "text": [
      "Search space summary\n",
      "Default search space size: 6\n",
      "wide_week_LSTM (Int)\n",
      "{'default': None, 'conditions': [], 'min_value': 1, 'max_value': 100, 'step': 1, 'sampling': None}\n",
      "wide_day_LSTM (Int)\n",
      "{'default': None, 'conditions': [], 'min_value': 1, 'max_value': 100, 'step': 1, 'sampling': None}\n",
      "filters (Int)\n",
      "{'default': None, 'conditions': [], 'min_value': 32, 'max_value': 512, 'step': 32, 'sampling': None}\n",
      "kernel_size (Choice)\n",
      "{'default': 2, 'conditions': [], 'values': [2, 3], 'ordered': True}\n",
      "units_LSTM (Int)\n",
      "{'default': None, 'conditions': [], 'min_value': 1, 'max_value': 100, 'step': 1, 'sampling': None}\n",
      "learning_rate (Choice)\n",
      "{'default': 0.01, 'conditions': [], 'values': [0.01, 0.001, 0.0001], 'ordered': True}\n"
     ]
    }
   ],
   "source": [
    "tuner5.search_space_summary()"
   ]
  },
  {
   "cell_type": "code",
   "execution_count": 35,
   "metadata": {},
   "outputs": [
    {
     "name": "stdout",
     "output_type": "stream",
     "text": [
      "Trial 30 Complete [00h 09m 41s]\n",
      "val_loss: 411.18780517578125\n",
      "\n",
      "Best val_loss So Far: 383.05503845214844\n",
      "Total elapsed time: 19h 32m 03s\n",
      "INFO:tensorflow:Oracle triggered exit\n"
     ]
    }
   ],
   "source": [
    "tuner5.search((Wt5, Wt5x, Xt5), yt5, epochs=200,\n",
    "           validation_split = val_percent,\n",
    "           callbacks = [early_stop],\n",
    "           verbose=2)"
   ]
  },
  {
   "cell_type": "code",
   "execution_count": 35,
   "metadata": {},
   "outputs": [
    {
     "name": "stdout",
     "output_type": "stream",
     "text": [
      "Results summary\n",
      "Results in C:\\RunsOak\\6ai-Conv-LSTM-5\n",
      "Showing 1 best trials\n",
      "Objective(name='val_loss', direction='min')\n",
      "Trial summary\n",
      "Hyperparameters:\n",
      "wide_week_LSTM: 44\n",
      "wide_day_LSTM: 11\n",
      "filters: 160\n",
      "kernel_size: 2\n",
      "units_LSTM: 84\n",
      "learning_rate: 0.0001\n",
      "Score: 383.05503845214844\n"
     ]
    }
   ],
   "source": [
    "tuner5.results_summary(1)"
   ]
  },
  {
   "cell_type": "markdown",
   "metadata": {},
   "source": [
    "### Best Model"
   ]
  },
  {
   "cell_type": "code",
   "execution_count": 36,
   "metadata": {},
   "outputs": [],
   "source": [
    "best_hp5 = tuner5.get_best_hyperparameters()[0]\n",
    "model5 = tuner5.hypermodel.build(best_hp5)"
   ]
  },
  {
   "cell_type": "code",
   "execution_count": 38,
   "metadata": {},
   "outputs": [
    {
     "data": {
      "text/plain": [
       "['Best_HP/6ai-Conv_LSTM-5']"
      ]
     },
     "execution_count": 38,
     "metadata": {},
     "output_type": "execute_result"
    }
   ],
   "source": [
    "scaler_filename = \"Best_HP/6ai-Conv_LSTM-5\"\n",
    "joblib.dump(best_hp5, scaler_filename) "
   ]
  },
  {
   "cell_type": "code",
   "execution_count": 37,
   "metadata": {},
   "outputs": [
    {
     "name": "stdout",
     "output_type": "stream",
     "text": [
      "Model: \"model_1\"\n",
      "__________________________________________________________________________________________________\n",
      " Layer (type)                   Output Shape         Param #     Connected to                     \n",
      "==================================================================================================\n",
      " weep_input (InputLayer)        [(None, 3, 5, 6, 1)  0           []                               \n",
      "                                ]                                                                 \n",
      "                                                                                                  \n",
      " time_distributed_3 (TimeDistri  (None, 3, 4, 5, 160  800        ['weep_input[0][0]']             \n",
      " buted)                         )                                                                 \n",
      "                                                                                                  \n",
      " time_distributed_4 (TimeDistri  (None, 3, 3, 4, 160  102560     ['time_distributed_3[0][0]']     \n",
      " buted)                         )                                                                 \n",
      "                                                                                                  \n",
      " time_distributed_5 (TimeDistri  (None, 3, 1920)     0           ['time_distributed_4[0][0]']     \n",
      " buted)                                                                                           \n",
      "                                                                                                  \n",
      " lstm_6 (LSTM)                  (None, 3, 84)        673680      ['time_distributed_5[0][0]']     \n",
      "                                                                                                  \n",
      " lstm_7 (LSTM)                  (None, 3, 84)        56784       ['lstm_6[0][0]']                 \n",
      "                                                                                                  \n",
      " wide_week (InputLayer)         [(None, 1, 14)]      0           []                               \n",
      "                                                                                                  \n",
      " wide_day (InputLayer)          [(None, 1, 14)]      0           []                               \n",
      "                                                                                                  \n",
      " seq_self_attention_1 (SeqSelfA  (None, 3, 84)       5441        ['lstm_7[0][0]']                 \n",
      " ttention)                                                                                        \n",
      "                                                                                                  \n",
      " bidirectional_2 (Bidirectional  (None, 88)          20768       ['wide_week[0][0]']              \n",
      " )                                                                                                \n",
      "                                                                                                  \n",
      " bidirectional_3 (Bidirectional  (None, 22)          2288        ['wide_day[0][0]']               \n",
      " )                                                                                                \n",
      "                                                                                                  \n",
      " flatten_3 (Flatten)            (None, 252)          0           ['seq_self_attention_1[0][0]']   \n",
      "                                                                                                  \n",
      " concatenate_1 (Concatenate)    (None, 362)          0           ['bidirectional_2[0][0]',        \n",
      "                                                                  'bidirectional_3[0][0]',        \n",
      "                                                                  'flatten_3[0][0]']              \n",
      "                                                                                                  \n",
      " output (Dense)                 (None, 6)            2178        ['concatenate_1[0][0]']          \n",
      "                                                                                                  \n",
      "==================================================================================================\n",
      "Total params: 864,499\n",
      "Trainable params: 864,499\n",
      "Non-trainable params: 0\n",
      "__________________________________________________________________________________________________\n"
     ]
    }
   ],
   "source": [
    "model5.summary()"
   ]
  },
  {
   "cell_type": "code",
   "execution_count": 38,
   "metadata": {},
   "outputs": [
    {
     "name": "stdout",
     "output_type": "stream",
     "text": [
      "Epoch 1/100\n",
      "1539/1539 [==============================] - 25s 13ms/step - loss: 2559.4182 - mean_absolute_error: 29.1377 - root_mean_squared_error: 50.5907 - mean_absolute_percentage_error: 48.6281\n",
      "Epoch 2/100\n",
      "1539/1539 [==============================] - 19s 12ms/step - loss: 628.9183 - mean_absolute_error: 17.4698 - root_mean_squared_error: 25.0782 - mean_absolute_percentage_error: 27.3743\n",
      "Epoch 3/100\n",
      "1539/1539 [==============================] - 19s 12ms/step - loss: 581.1294 - mean_absolute_error: 16.7117 - root_mean_squared_error: 24.1066 - mean_absolute_percentage_error: 24.8704\n",
      "Epoch 4/100\n",
      "1539/1539 [==============================] - 18s 12ms/step - loss: 509.5873 - mean_absolute_error: 15.8473 - root_mean_squared_error: 22.5740 - mean_absolute_percentage_error: 22.9773\n",
      "Epoch 5/100\n",
      "1539/1539 [==============================] - 19s 12ms/step - loss: 463.3092 - mean_absolute_error: 15.1629 - root_mean_squared_error: 21.5246 - mean_absolute_percentage_error: 21.8920 1s - loss: 464.4133 - mean_absolute_error: 15.1892 - root_mean_squared_error: 21.5502 - mean_absolut\n",
      "Epoch 6/100\n",
      "1539/1539 [==============================] - 19s 12ms/step - loss: 446.1436 - mean_absolute_error: 14.8803 - root_mean_squared_error: 21.1221 - mean_absolute_percentage_error: 21.3341\n",
      "Epoch 7/100\n",
      "1539/1539 [==============================] - 19s 12ms/step - loss: 433.2945 - mean_absolute_error: 14.6606 - root_mean_squared_error: 20.8157 - mean_absolute_percentage_error: 20.8937\n",
      "Epoch 8/100\n",
      "1539/1539 [==============================] - 19s 12ms/step - loss: 425.5373 - mean_absolute_error: 14.4976 - root_mean_squared_error: 20.6285 - mean_absolute_percentage_error: 20.3798\n",
      "Epoch 9/100\n",
      "1539/1539 [==============================] - 19s 12ms/step - loss: 417.7594 - mean_absolute_error: 14.3612 - root_mean_squared_error: 20.4392 - mean_absolute_percentage_error: 20.1705\n",
      "Epoch 10/100\n",
      "1539/1539 [==============================] - 19s 12ms/step - loss: 407.3956 - mean_absolute_error: 14.1672 - root_mean_squared_error: 20.1840 - mean_absolute_percentage_error: 19.6865\n",
      "Epoch 11/100\n",
      "1539/1539 [==============================] - 19s 12ms/step - loss: 401.8140 - mean_absolute_error: 14.0649 - root_mean_squared_error: 20.0453 - mean_absolute_percentage_error: 19.5417\n",
      "Epoch 12/100\n",
      "1539/1539 [==============================] - 19s 12ms/step - loss: 399.0406 - mean_absolute_error: 14.0184 - root_mean_squared_error: 19.9760 - mean_absolute_percentage_error: 19.3892\n",
      "Epoch 13/100\n",
      "1539/1539 [==============================] - 19s 12ms/step - loss: 396.0573 - mean_absolute_error: 13.9361 - root_mean_squared_error: 19.9012 - mean_absolute_percentage_error: 19.2149\n",
      "Epoch 14/100\n",
      "1539/1539 [==============================] - 19s 12ms/step - loss: 390.5434 - mean_absolute_error: 13.8397 - root_mean_squared_error: 19.7622 - mean_absolute_percentage_error: 19.0957\n",
      "Epoch 15/100\n",
      "1539/1539 [==============================] - 19s 12ms/step - loss: 388.9359 - mean_absolute_error: 13.8095 - root_mean_squared_error: 19.7215 - mean_absolute_percentage_error: 18.9689\n",
      "Epoch 16/100\n",
      "1539/1539 [==============================] - 19s 12ms/step - loss: 386.5342 - mean_absolute_error: 13.7535 - root_mean_squared_error: 19.6605 - mean_absolute_percentage_error: 18.8647\n",
      "Epoch 17/100\n",
      "1539/1539 [==============================] - 19s 12ms/step - loss: 384.1078 - mean_absolute_error: 13.7142 - root_mean_squared_error: 19.5987 - mean_absolute_percentage_error: 18.7276\n",
      "Epoch 18/100\n",
      "1539/1539 [==============================] - 19s 12ms/step - loss: 382.5845 - mean_absolute_error: 13.6903 - root_mean_squared_error: 19.5598 - mean_absolute_percentage_error: 18.6397\n",
      "Epoch 19/100\n",
      "1539/1539 [==============================] - 19s 12ms/step - loss: 381.3547 - mean_absolute_error: 13.6553 - root_mean_squared_error: 19.5283 - mean_absolute_percentage_error: 18.6054\n",
      "Epoch 20/100\n",
      "1539/1539 [==============================] - 19s 12ms/step - loss: 378.8838 - mean_absolute_error: 13.6306 - root_mean_squared_error: 19.4649 - mean_absolute_percentage_error: 18.5151\n",
      "Epoch 21/100\n",
      "1539/1539 [==============================] - 19s 12ms/step - loss: 377.4210 - mean_absolute_error: 13.5862 - root_mean_squared_error: 19.4273 - mean_absolute_percentage_error: 18.4323\n",
      "Epoch 22/100\n",
      "1539/1539 [==============================] - 19s 12ms/step - loss: 374.9500 - mean_absolute_error: 13.5347 - root_mean_squared_error: 19.3636 - mean_absolute_percentage_error: 18.2954\n",
      "Epoch 23/100\n",
      "1539/1539 [==============================] - 19s 13ms/step - loss: 372.9860 - mean_absolute_error: 13.4852 - root_mean_squared_error: 19.3128 - mean_absolute_percentage_error: 18.1977\n",
      "Epoch 24/100\n",
      "1539/1539 [==============================] - 19s 13ms/step - loss: 372.3100 - mean_absolute_error: 13.4765 - root_mean_squared_error: 19.2953 - mean_absolute_percentage_error: 18.1673\n",
      "Epoch 25/100\n",
      "1539/1539 [==============================] - 18s 12ms/step - loss: 371.1259 - mean_absolute_error: 13.4570 - root_mean_squared_error: 19.2646 - mean_absolute_percentage_error: 18.0868\n",
      "Epoch 26/100\n",
      "1539/1539 [==============================] - 19s 12ms/step - loss: 370.3497 - mean_absolute_error: 13.4318 - root_mean_squared_error: 19.2445 - mean_absolute_percentage_error: 18.0370\n",
      "Epoch 27/100\n",
      "1539/1539 [==============================] - 18s 12ms/step - loss: 369.1702 - mean_absolute_error: 13.3953 - root_mean_squared_error: 19.2138 - mean_absolute_percentage_error: 17.9317\n",
      "Epoch 28/100\n",
      "1539/1539 [==============================] - 19s 12ms/step - loss: 367.1857 - mean_absolute_error: 13.3577 - root_mean_squared_error: 19.1621 - mean_absolute_percentage_error: 17.8535\n",
      "Epoch 29/100\n",
      "1539/1539 [==============================] - 19s 12ms/step - loss: 367.1347 - mean_absolute_error: 13.3615 - root_mean_squared_error: 19.1608 - mean_absolute_percentage_error: 17.9158\n",
      "Epoch 30/100\n",
      "1539/1539 [==============================] - 19s 12ms/step - loss: 365.8022 - mean_absolute_error: 13.3390 - root_mean_squared_error: 19.1260 - mean_absolute_percentage_error: 17.8786\n",
      "Epoch 31/100\n",
      "1539/1539 [==============================] - 19s 12ms/step - loss: 365.7158 - mean_absolute_error: 13.3392 - root_mean_squared_error: 19.1237 - mean_absolute_percentage_error: 17.8730\n",
      "Epoch 32/100\n",
      "1539/1539 [==============================] - 19s 12ms/step - loss: 363.3788 - mean_absolute_error: 13.2941 - root_mean_squared_error: 19.0625 - mean_absolute_percentage_error: 17.7824\n",
      "Epoch 33/100\n",
      "1539/1539 [==============================] - 19s 12ms/step - loss: 363.6658 - mean_absolute_error: 13.2856 - root_mean_squared_error: 19.0700 - mean_absolute_percentage_error: 17.7118\n",
      "Epoch 34/100\n",
      "1539/1539 [==============================] - 19s 12ms/step - loss: 362.0312 - mean_absolute_error: 13.2592 - root_mean_squared_error: 19.0271 - mean_absolute_percentage_error: 17.7125\n",
      "Epoch 35/100\n",
      "1539/1539 [==============================] - 19s 12ms/step - loss: 361.7100 - mean_absolute_error: 13.2589 - root_mean_squared_error: 19.0187 - mean_absolute_percentage_error: 17.6744\n",
      "Epoch 36/100\n",
      "1539/1539 [==============================] - 19s 12ms/step - loss: 360.3414 - mean_absolute_error: 13.2271 - root_mean_squared_error: 18.9827 - mean_absolute_percentage_error: 17.6715\n",
      "Epoch 37/100\n",
      "1539/1539 [==============================] - 19s 12ms/step - loss: 360.0697 - mean_absolute_error: 13.2341 - root_mean_squared_error: 18.9755 - mean_absolute_percentage_error: 17.6750\n",
      "Epoch 38/100\n",
      "1539/1539 [==============================] - 19s 12ms/step - loss: 360.6779 - mean_absolute_error: 13.2435 - root_mean_squared_error: 18.9915 - mean_absolute_percentage_error: 17.6391\n",
      "Epoch 39/100\n",
      "1539/1539 [==============================] - 19s 12ms/step - loss: 359.6816 - mean_absolute_error: 13.2162 - root_mean_squared_error: 18.9653 - mean_absolute_percentage_error: 17.6163\n",
      "Epoch 40/100\n",
      "1539/1539 [==============================] - 19s 13ms/step - loss: 358.1385 - mean_absolute_error: 13.1884 - root_mean_squared_error: 18.9245 - mean_absolute_percentage_error: 17.5687\n",
      "Epoch 41/100\n",
      "1539/1539 [==============================] - 19s 12ms/step - loss: 358.2059 - mean_absolute_error: 13.1873 - root_mean_squared_error: 18.9263 - mean_absolute_percentage_error: 17.5556\n",
      "Epoch 42/100\n",
      "1539/1539 [==============================] - 19s 12ms/step - loss: 356.6775 - mean_absolute_error: 13.1605 - root_mean_squared_error: 18.8859 - mean_absolute_percentage_error: 17.5003\n",
      "Epoch 43/100\n",
      "1539/1539 [==============================] - 19s 12ms/step - loss: 356.9815 - mean_absolute_error: 13.1568 - root_mean_squared_error: 18.8940 - mean_absolute_percentage_error: 17.4749\n",
      "Epoch 44/100\n",
      "1539/1539 [==============================] - 19s 12ms/step - loss: 355.8846 - mean_absolute_error: 13.1517 - root_mean_squared_error: 18.8649 - mean_absolute_percentage_error: 17.4988\n",
      "Epoch 45/100\n",
      "1539/1539 [==============================] - 19s 12ms/step - loss: 354.5270 - mean_absolute_error: 13.1180 - root_mean_squared_error: 18.8289 - mean_absolute_percentage_error: 17.4587\n",
      "Epoch 46/100\n",
      "1539/1539 [==============================] - 19s 12ms/step - loss: 355.5951 - mean_absolute_error: 13.1488 - root_mean_squared_error: 18.8572 - mean_absolute_percentage_error: 17.5158\n",
      "Epoch 47/100\n",
      "1539/1539 [==============================] - 19s 12ms/step - loss: 354.0067 - mean_absolute_error: 13.1082 - root_mean_squared_error: 18.8151 - mean_absolute_percentage_error: 17.4006\n",
      "Epoch 48/100\n",
      "1539/1539 [==============================] - 19s 12ms/step - loss: 354.6238 - mean_absolute_error: 13.1255 - root_mean_squared_error: 18.8315 - mean_absolute_percentage_error: 17.4316\n",
      "Epoch 49/100\n",
      "1539/1539 [==============================] - 19s 12ms/step - loss: 353.4116 - mean_absolute_error: 13.1059 - root_mean_squared_error: 18.7992 - mean_absolute_percentage_error: 17.3795\n",
      "Epoch 50/100\n",
      "1539/1539 [==============================] - 19s 12ms/step - loss: 351.8864 - mean_absolute_error: 13.0816 - root_mean_squared_error: 18.7587 - mean_absolute_percentage_error: 17.3578\n",
      "Epoch 51/100\n",
      "1539/1539 [==============================] - 19s 12ms/step - loss: 351.6460 - mean_absolute_error: 13.0699 - root_mean_squared_error: 18.7522 - mean_absolute_percentage_error: 17.3294 3s - loss: 352.6609 - mean_absolute_error: 13.0931 - root_mean_squar\n",
      "Epoch 52/100\n",
      "1539/1539 [==============================] - 19s 12ms/step - loss: 350.8846 - mean_absolute_error: 13.0572 - root_mean_squared_error: 18.7319 - mean_absolute_percentage_error: 17.3137\n",
      "Epoch 53/100\n",
      "1539/1539 [==============================] - 19s 12ms/step - loss: 351.4759 - mean_absolute_error: 13.0621 - root_mean_squared_error: 18.7477 - mean_absolute_percentage_error: 17.3063\n",
      "Epoch 54/100\n",
      "1539/1539 [==============================] - 19s 12ms/step - loss: 350.4319 - mean_absolute_error: 13.0478 - root_mean_squared_error: 18.7198 - mean_absolute_percentage_error: 17.2677 2s - loss: 350.1834 - mean_absolute_error: 13.0416 - root_mean_squared_error: 18.7\n",
      "Epoch 55/100\n",
      "1539/1539 [==============================] - 19s 12ms/step - loss: 349.9699 - mean_absolute_error: 13.0397 - root_mean_squared_error: 18.7075 - mean_absolute_percentage_error: 17.3291\n",
      "Epoch 56/100\n",
      "1539/1539 [==============================] - 19s 12ms/step - loss: 349.4288 - mean_absolute_error: 13.0340 - root_mean_squared_error: 18.6930 - mean_absolute_percentage_error: 17.2748 0s - loss: 349.6305 - mean_absolute_error: 13.0367 - root_mean_squared_error: 18.6984 - mean_absolute_percentage_err\n",
      "Epoch 57/100\n",
      "1539/1539 [==============================] - 20s 13ms/step - loss: 349.1349 - mean_absolute_error: 13.0300 - root_mean_squared_error: 18.6852 - mean_absolute_percentage_error: 17.2854\n",
      "Epoch 58/100\n",
      "1539/1539 [==============================] - 19s 12ms/step - loss: 347.6046 - mean_absolute_error: 12.9958 - root_mean_squared_error: 18.6442 - mean_absolute_percentage_error: 17.2257\n",
      "Epoch 59/100\n",
      "1539/1539 [==============================] - 19s 12ms/step - loss: 347.7564 - mean_absolute_error: 12.9999 - root_mean_squared_error: 18.6482 - mean_absolute_percentage_error: 17.2248\n",
      "Epoch 60/100\n",
      "1539/1539 [==============================] - 19s 12ms/step - loss: 349.0805 - mean_absolute_error: 13.0314 - root_mean_squared_error: 18.6837 - mean_absolute_percentage_error: 17.2823\n",
      "Epoch 61/100\n",
      "1539/1539 [==============================] - 19s 12ms/step - loss: 346.6555 - mean_absolute_error: 12.9788 - root_mean_squared_error: 18.6187 - mean_absolute_percentage_error: 17.2049\n",
      "Epoch 62/100\n",
      "1539/1539 [==============================] - 19s 12ms/step - loss: 346.7510 - mean_absolute_error: 12.9972 - root_mean_squared_error: 18.6213 - mean_absolute_percentage_error: 17.2124\n",
      "Epoch 63/100\n",
      "1539/1539 [==============================] - 19s 12ms/step - loss: 345.6251 - mean_absolute_error: 12.9627 - root_mean_squared_error: 18.5910 - mean_absolute_percentage_error: 17.1626\n",
      "Epoch 64/100\n",
      "1539/1539 [==============================] - 19s 12ms/step - loss: 343.9378 - mean_absolute_error: 12.9380 - root_mean_squared_error: 18.5456 - mean_absolute_percentage_error: 17.1556\n",
      "Epoch 65/100\n",
      "1539/1539 [==============================] - 19s 13ms/step - loss: 344.7467 - mean_absolute_error: 12.9436 - root_mean_squared_error: 18.5674 - mean_absolute_percentage_error: 17.1647\n",
      "Epoch 66/100\n",
      "1539/1539 [==============================] - 19s 13ms/step - loss: 343.8962 - mean_absolute_error: 12.9295 - root_mean_squared_error: 18.5444 - mean_absolute_percentage_error: 17.1406\n",
      "Epoch 67/100\n",
      "1539/1539 [==============================] - 19s 12ms/step - loss: 343.9168 - mean_absolute_error: 12.9388 - root_mean_squared_error: 18.5450 - mean_absolute_percentage_error: 17.0950\n",
      "Epoch 68/100\n",
      "1539/1539 [==============================] - 19s 12ms/step - loss: 342.3039 - mean_absolute_error: 12.9006 - root_mean_squared_error: 18.5015 - mean_absolute_percentage_error: 17.0657\n",
      "Epoch 69/100\n",
      "1539/1539 [==============================] - 19s 12ms/step - loss: 342.4352 - mean_absolute_error: 12.9163 - root_mean_squared_error: 18.5050 - mean_absolute_percentage_error: 17.1216\n",
      "Epoch 70/100\n",
      "1539/1539 [==============================] - 19s 12ms/step - loss: 341.5970 - mean_absolute_error: 12.8945 - root_mean_squared_error: 18.4823 - mean_absolute_percentage_error: 17.0691\n",
      "Epoch 71/100\n",
      "1539/1539 [==============================] - 19s 12ms/step - loss: 340.6915 - mean_absolute_error: 12.8816 - root_mean_squared_error: 18.4578 - mean_absolute_percentage_error: 17.0142\n",
      "Epoch 72/100\n",
      "1539/1539 [==============================] - 19s 12ms/step - loss: 340.6281 - mean_absolute_error: 12.8795 - root_mean_squared_error: 18.4561 - mean_absolute_percentage_error: 17.0462\n",
      "Epoch 73/100\n",
      "1539/1539 [==============================] - 19s 12ms/step - loss: 339.8639 - mean_absolute_error: 12.8716 - root_mean_squared_error: 18.4354 - mean_absolute_percentage_error: 17.0174\n",
      "Epoch 74/100\n",
      "1539/1539 [==============================] - 19s 12ms/step - loss: 339.6302 - mean_absolute_error: 12.8713 - root_mean_squared_error: 18.4291 - mean_absolute_percentage_error: 17.0208\n",
      "Epoch 75/100\n",
      "1539/1539 [==============================] - 19s 12ms/step - loss: 338.7828 - mean_absolute_error: 12.8460 - root_mean_squared_error: 18.4061 - mean_absolute_percentage_error: 16.9694\n",
      "Epoch 76/100\n",
      "1539/1539 [==============================] - 19s 12ms/step - loss: 338.4808 - mean_absolute_error: 12.8516 - root_mean_squared_error: 18.3979 - mean_absolute_percentage_error: 17.0009\n",
      "Epoch 77/100\n",
      "1539/1539 [==============================] - 19s 12ms/step - loss: 337.6974 - mean_absolute_error: 12.8305 - root_mean_squared_error: 18.3766 - mean_absolute_percentage_error: 16.9700\n",
      "Epoch 78/100\n",
      "1539/1539 [==============================] - 19s 13ms/step - loss: 337.3789 - mean_absolute_error: 12.8203 - root_mean_squared_error: 18.3679 - mean_absolute_percentage_error: 16.9405\n",
      "Epoch 79/100\n",
      "1539/1539 [==============================] - 19s 12ms/step - loss: 336.0060 - mean_absolute_error: 12.8029 - root_mean_squared_error: 18.3305 - mean_absolute_percentage_error: 16.9337\n",
      "Epoch 80/100\n",
      "1539/1539 [==============================] - 19s 12ms/step - loss: 335.2065 - mean_absolute_error: 12.7880 - root_mean_squared_error: 18.3086 - mean_absolute_percentage_error: 16.9226\n",
      "Epoch 81/100\n",
      "1539/1539 [==============================] - 19s 12ms/step - loss: 334.9287 - mean_absolute_error: 12.7839 - root_mean_squared_error: 18.3011 - mean_absolute_percentage_error: 16.9198\n",
      "Epoch 82/100\n"
     ]
    },
    {
     "name": "stdout",
     "output_type": "stream",
     "text": [
      "1539/1539 [==============================] - 19s 12ms/step - loss: 334.3143 - mean_absolute_error: 12.7707 - root_mean_squared_error: 18.2843 - mean_absolute_percentage_error: 16.8887\n",
      "Epoch 83/100\n",
      "1539/1539 [==============================] - 19s 12ms/step - loss: 333.5102 - mean_absolute_error: 12.7717 - root_mean_squared_error: 18.2623 - mean_absolute_percentage_error: 16.8906\n",
      "Epoch 84/100\n",
      "1539/1539 [==============================] - 19s 12ms/step - loss: 333.5576 - mean_absolute_error: 12.7717 - root_mean_squared_error: 18.2636 - mean_absolute_percentage_error: 16.8721\n",
      "Epoch 85/100\n",
      "1539/1539 [==============================] - 19s 12ms/step - loss: 333.3536 - mean_absolute_error: 12.7657 - root_mean_squared_error: 18.2580 - mean_absolute_percentage_error: 16.8606\n",
      "Epoch 86/100\n",
      "1539/1539 [==============================] - 20s 13ms/step - loss: 331.8982 - mean_absolute_error: 12.7392 - root_mean_squared_error: 18.2181 - mean_absolute_percentage_error: 16.8165\n",
      "Epoch 87/100\n",
      "1539/1539 [==============================] - 20s 13ms/step - loss: 331.0570 - mean_absolute_error: 12.7221 - root_mean_squared_error: 18.1950 - mean_absolute_percentage_error: 16.8071\n",
      "Epoch 88/100\n",
      "1539/1539 [==============================] - 19s 12ms/step - loss: 330.3851 - mean_absolute_error: 12.7089 - root_mean_squared_error: 18.1765 - mean_absolute_percentage_error: 16.7789\n",
      "Epoch 89/100\n",
      "1539/1539 [==============================] - 19s 12ms/step - loss: 330.4081 - mean_absolute_error: 12.7118 - root_mean_squared_error: 18.1771 - mean_absolute_percentage_error: 16.7852\n",
      "Epoch 90/100\n",
      "1539/1539 [==============================] - 19s 12ms/step - loss: 329.7531 - mean_absolute_error: 12.7113 - root_mean_squared_error: 18.1591 - mean_absolute_percentage_error: 16.8225\n",
      "Epoch 91/100\n",
      "1539/1539 [==============================] - 19s 12ms/step - loss: 329.1123 - mean_absolute_error: 12.6909 - root_mean_squared_error: 18.1415 - mean_absolute_percentage_error: 16.7658\n",
      "Epoch 92/100\n",
      "1539/1539 [==============================] - 19s 12ms/step - loss: 328.2395 - mean_absolute_error: 12.6775 - root_mean_squared_error: 18.1174 - mean_absolute_percentage_error: 16.7643 2s - loss: 329.9008 - mean_absolute_error: 12.6963 - root_mean_squared_error: 1\n",
      "Epoch 93/100\n",
      "1539/1539 [==============================] - 19s 12ms/step - loss: 326.9550 - mean_absolute_error: 12.6589 - root_mean_squared_error: 18.0819 - mean_absolute_percentage_error: 16.7104\n",
      "Epoch 94/100\n",
      "1539/1539 [==============================] - 19s 12ms/step - loss: 327.3804 - mean_absolute_error: 12.6694 - root_mean_squared_error: 18.0937 - mean_absolute_percentage_error: 16.7464\n",
      "Epoch 95/100\n",
      "1539/1539 [==============================] - 19s 12ms/step - loss: 326.5910 - mean_absolute_error: 12.6507 - root_mean_squared_error: 18.0718 - mean_absolute_percentage_error: 16.6997\n",
      "Epoch 96/100\n",
      "1539/1539 [==============================] - 19s 12ms/step - loss: 324.5107 - mean_absolute_error: 12.6130 - root_mean_squared_error: 18.0142 - mean_absolute_percentage_error: 16.6709\n",
      "Epoch 97/100\n",
      "1539/1539 [==============================] - 19s 13ms/step - loss: 324.7473 - mean_absolute_error: 12.6259 - root_mean_squared_error: 18.0207 - mean_absolute_percentage_error: 16.6698\n",
      "Epoch 98/100\n",
      "1539/1539 [==============================] - 20s 13ms/step - loss: 323.5332 - mean_absolute_error: 12.5972 - root_mean_squared_error: 17.9870 - mean_absolute_percentage_error: 16.6036\n",
      "Epoch 99/100\n",
      "1539/1539 [==============================] - 21s 14ms/step - loss: 322.9372 - mean_absolute_error: 12.5887 - root_mean_squared_error: 17.9704 - mean_absolute_percentage_error: 16.6367\n",
      "Epoch 100/100\n",
      "1539/1539 [==============================] - 19s 13ms/step - loss: 322.1442 - mean_absolute_error: 12.5803 - root_mean_squared_error: 17.9484 - mean_absolute_percentage_error: 16.5922\n"
     ]
    },
    {
     "data": {
      "text/plain": [
       "<keras.callbacks.History at 0x241b70916d0>"
      ]
     },
     "execution_count": 38,
     "metadata": {},
     "output_type": "execute_result"
    }
   ],
   "source": [
    "model5.fit((Wt5, Wt5x, Xt5), yt5, \n",
    "           epochs = 100, \n",
    "           verbose = 1)"
   ]
  },
  {
   "cell_type": "code",
   "execution_count": 39,
   "metadata": {},
   "outputs": [
    {
     "name": "stdout",
     "output_type": "stream",
     "text": [
      "INFO:tensorflow:Assets written to: my_dir/6ai-Conv-LSTM-5\\assets\n"
     ]
    },
    {
     "name": "stderr",
     "output_type": "stream",
     "text": [
      "WARNING:absl:<keras.layers.recurrent.LSTMCell object at 0x00000241B69C9130> has the same name 'LSTMCell' as a built-in Keras object. Consider renaming <class 'keras.layers.recurrent.LSTMCell'> to avoid naming conflicts when loading with `tf.keras.models.load_model`. If renaming is not possible, pass the object in the `custom_objects` parameter of the load function.\n",
      "WARNING:absl:<keras.layers.recurrent.LSTMCell object at 0x00000241B69DAE50> has the same name 'LSTMCell' as a built-in Keras object. Consider renaming <class 'keras.layers.recurrent.LSTMCell'> to avoid naming conflicts when loading with `tf.keras.models.load_model`. If renaming is not possible, pass the object in the `custom_objects` parameter of the load function.\n",
      "WARNING:absl:<keras.layers.recurrent.LSTMCell object at 0x00000241B6980220> has the same name 'LSTMCell' as a built-in Keras object. Consider renaming <class 'keras.layers.recurrent.LSTMCell'> to avoid naming conflicts when loading with `tf.keras.models.load_model`. If renaming is not possible, pass the object in the `custom_objects` parameter of the load function.\n",
      "WARNING:absl:<keras.layers.recurrent.LSTMCell object at 0x00000241B6AC2490> has the same name 'LSTMCell' as a built-in Keras object. Consider renaming <class 'keras.layers.recurrent.LSTMCell'> to avoid naming conflicts when loading with `tf.keras.models.load_model`. If renaming is not possible, pass the object in the `custom_objects` parameter of the load function.\n",
      "WARNING:absl:<keras.layers.recurrent.LSTMCell object at 0x00000241B6B3D7C0> has the same name 'LSTMCell' as a built-in Keras object. Consider renaming <class 'keras.layers.recurrent.LSTMCell'> to avoid naming conflicts when loading with `tf.keras.models.load_model`. If renaming is not possible, pass the object in the `custom_objects` parameter of the load function.\n",
      "WARNING:absl:<keras.layers.recurrent.LSTMCell object at 0x00000241B6B481C0> has the same name 'LSTMCell' as a built-in Keras object. Consider renaming <class 'keras.layers.recurrent.LSTMCell'> to avoid naming conflicts when loading with `tf.keras.models.load_model`. If renaming is not possible, pass the object in the `custom_objects` parameter of the load function.\n"
     ]
    }
   ],
   "source": [
    "model5.save(\"my_dir/6ai-Conv-LSTM-5\")"
   ]
  },
  {
   "cell_type": "code",
   "execution_count": 40,
   "metadata": {},
   "outputs": [],
   "source": [
    "metrics5 = pd.DataFrame(model5.history.history)"
   ]
  },
  {
   "cell_type": "code",
   "execution_count": 41,
   "metadata": {},
   "outputs": [
    {
     "data": {
      "text/plain": [
       "<AxesSubplot:>"
      ]
     },
     "execution_count": 41,
     "metadata": {},
     "output_type": "execute_result"
    },
    {
     "data": {
      "image/png": "[encoded data removed]",
      "text/plain": [
       "<Figure size 432x288 with 1 Axes>"
      ]
     },
     "metadata": {
      "needs_background": "light"
     },
     "output_type": "display_data"
    }
   ],
   "source": [
    "metrics5[['loss']].plot()"
   ]
  },
  {
   "cell_type": "code",
   "execution_count": 32,
   "metadata": {},
   "outputs": [],
   "source": [
    "model5 = keras.models.load_model(\"my_dir/6ai-Conv-LSTM-5\") "
   ]
  },
  {
   "cell_type": "code",
   "execution_count": 33,
   "metadata": {},
   "outputs": [
    {
     "data": {
      "text/plain": [
       "array([[ 30.56644  ,  18.472122 ,  26.520273 ,  76.05745  ,  32.041523 ,\n",
       "          4.4170156],\n",
       "       [ 30.91039  ,  18.199957 ,  26.264954 ,  78.06237  ,  33.42017  ,\n",
       "          4.5917926],\n",
       "       [ 30.561365 ,  17.439255 ,  24.886017 ,  72.12781  ,  30.644293 ,\n",
       "          4.0479827],\n",
       "       ...,\n",
       "       [ 41.111885 ,  41.535217 ,  50.47345  , 103.872925 ,  47.822456 ,\n",
       "         12.976091 ],\n",
       "       [ 41.420677 ,  40.818954 ,  49.591873 , 100.413734 ,  46.35575  ,\n",
       "         15.37064  ],\n",
       "       [ 40.217384 ,  39.902344 ,  53.785404 , 103.26344  ,  46.850735 ,\n",
       "         14.696518 ]], dtype=float32)"
      ]
     },
     "execution_count": 33,
     "metadata": {},
     "output_type": "execute_result"
    }
   ],
   "source": [
    "model5.predict((Wv5, Wv5x, Xv5))"
   ]
  },
  {
   "cell_type": "markdown",
   "metadata": {},
   "source": [
    "### Evaluation on inverse_transform"
   ]
  },
  {
   "cell_type": "code",
   "execution_count": null,
   "metadata": {},
   "outputs": [],
   "source": [
    "test_predictions5 = model5.predict((Wv5, Wv5x, Xv5))\n",
    "\n",
    "\n",
    "MSE5 = mean_squared_error(yv5,test_predictions5)\n",
    "\n",
    "MAE5 = mean_absolute_error(yv5,test_predictions5)\n",
    "\n",
    "RMSE5 = np.sqrt(MSE5)\n",
    "\n",
    "MAPE5 = mean_absolute_percentage_error(yv5,test_predictions5)*100\n",
    "\n",
    "eval5 = [MSE5, MAE5, RMSE5, MAPE5]\n",
    "print(eval5)"
   ]
  },
  {
   "cell_type": "code",
   "execution_count": null,
   "metadata": {},
   "outputs": [],
   "source": [
    "GEH, count = ga.GEH(np.asarray(yv5), np.asarray(test_predictions5))\n",
    "GEH5 = count/GEH.size\n",
    "print(GEH5)"
   ]
  },
  {
   "cell_type": "markdown",
   "metadata": {},
   "source": [
    "# 15 mins ahead"
   ]
  },
  {
   "cell_type": "code",
   "execution_count": 38,
   "metadata": {},
   "outputs": [],
   "source": [
    "def build_model_15(hp):\n",
    "    # Inputs\n",
    "    channel_Wide = keras.layers.Input(shape=Wide_train_15.shape[1:], name=\"wide_week\")\n",
    "    channel_Widex = keras.layers.Input(shape=Wide_train_15_day.shape[1:], name=\"wide_day\")\n",
    "    channel_Deep = keras.layers.Input(shape=Xt15.shape[1:], name=\"deep_input\")\n",
    "    \n",
    "    # Wide Model\n",
    "    Wide_15 = keras.layers.Bidirectional(\n",
    "        keras.layers.LSTM(units=hp.Int(\"wide_week_LSTM\", min_value=1, max_value=100, step=1), \n",
    "                                activation='relu'))(channel_Wide)\n",
    "    \n",
    "    Wide_15x = keras.layers.Bidirectional(\n",
    "        keras.layers.LSTM(units=hp.Int(\"wide_day_LSTM\", min_value=1, max_value=100, step=1), \n",
    "                                activation='relu'))(channel_Widex)\n",
    "    \n",
    "    # Deep Model\n",
    "    # CNN \n",
    "    CNN_15a = keras.layers.TimeDistributed(\n",
    "        keras.layers.Conv2D(filters=hp.Int(\"filters\", min_value=32, max_value=512, step=32),\n",
    "                            kernel_size=hp.Choice(\"kernel_size\", [2, 3]), activation='relu'))(channel_Deep)\n",
    "    CNN_15b = keras.layers.TimeDistributed(\n",
    "        keras.layers.Conv2D(filters=hp.Int(\"filters\", min_value=32, max_value=512, step=32),\n",
    "                            kernel_size=hp.Choice(\"kernel_size\", [2, 3]), activation='relu'))(CNN_15a)\n",
    "    flatten_15 = keras.layers.TimeDistributed(keras.layers.Flatten())(CNN_15b)\n",
    "    # LSTM          \n",
    "    LSTM_15a = keras.layers.LSTM(units=hp.Int(\"units_LSTM\", min_value=1, max_value=100, step=1), \n",
    "                                activation='relu', return_sequences=True)(flatten_15)\n",
    "    LSTM_15b = keras.layers.LSTM(units=hp.Int(\"units_LSTM\", min_value=1, max_value=100, step=1), \n",
    "                                activation='relu', return_sequences=True)(LSTM_15a)\n",
    "    Att_15 = SeqSelfAttention(attention_activation='tanh')(LSTM_15b)\n",
    "    Reshaped_15 = keras.layers.Flatten()(Att_15)\n",
    "    \n",
    "    # Concatenation \n",
    "    concat = keras.layers.concatenate([Wide_15, Wide_15x, Reshaped_15])\n",
    "    \n",
    "    # Output\n",
    "    output = keras.layers.Dense(n_features, name= \"output\")(concat)\n",
    "    \n",
    "    # Model\n",
    "    model_15 = keras.Model(inputs=[channel_Wide, channel_Widex, channel_Deep], outputs=[output])\n",
    "\n",
    "    # Compile\n",
    "    model_15.compile(optimizer=keras.optimizers.Adam(hp.Choice(\"learning_rate\", [1e-2, 1e-3, 1e-4])), \n",
    "        loss='mse',metrics=['MeanAbsoluteError','RootMeanSquaredError','MeanAbsolutePercentageError'])\n",
    "                    \n",
    "    return model_15"
   ]
  },
  {
   "cell_type": "code",
   "execution_count": 39,
   "metadata": {},
   "outputs": [
    {
     "name": "stdout",
     "output_type": "stream",
     "text": [
      "INFO:tensorflow:Reloading Oracle from existing project C:\\RunsOak\\6ai-Conv-LSTM-15\\oracle.json\n",
      "INFO:tensorflow:Reloading Tuner from C:\\RunsOak\\6ai-Conv-LSTM-15\\tuner0.json\n"
     ]
    }
   ],
   "source": [
    "tuner15 = RandomSearch(\n",
    "    build_model_15,\n",
    "    objective=\"val_loss\",\n",
    "    max_trials=30,\n",
    "    executions_per_trial=2,\n",
    "    overwrite=False,\n",
    "    directory=os.path.normpath('C:/RunsOak'),\n",
    "    project_name=\"6ai-Conv-LSTM-15\",\n",
    ")"
   ]
  },
  {
   "cell_type": "code",
   "execution_count": 48,
   "metadata": {},
   "outputs": [
    {
     "name": "stdout",
     "output_type": "stream",
     "text": [
      "Search space summary\n",
      "Default search space size: 6\n",
      "wide_week_LSTM (Int)\n",
      "{'default': None, 'conditions': [], 'min_value': 1, 'max_value': 100, 'step': 1, 'sampling': None}\n",
      "wide_day_LSTM (Int)\n",
      "{'default': None, 'conditions': [], 'min_value': 1, 'max_value': 100, 'step': 1, 'sampling': None}\n",
      "filters (Int)\n",
      "{'default': None, 'conditions': [], 'min_value': 32, 'max_value': 512, 'step': 32, 'sampling': None}\n",
      "kernel_size (Choice)\n",
      "{'default': 2, 'conditions': [], 'values': [2, 3], 'ordered': True}\n",
      "units_LSTM (Int)\n",
      "{'default': None, 'conditions': [], 'min_value': 1, 'max_value': 100, 'step': 1, 'sampling': None}\n",
      "learning_rate (Choice)\n",
      "{'default': 0.01, 'conditions': [], 'values': [0.01, 0.001, 0.0001], 'ordered': True}\n"
     ]
    }
   ],
   "source": [
    "tuner15.search_space_summary()"
   ]
  },
  {
   "cell_type": "code",
   "execution_count": 49,
   "metadata": {},
   "outputs": [
    {
     "name": "stdout",
     "output_type": "stream",
     "text": [
      "Trial 30 Complete [01h 53m 39s]\n",
      "val_loss: 531.2861022949219\n",
      "\n",
      "Best val_loss So Far: 443.6429443359375\n",
      "Total elapsed time: 00h 52m 43s\n",
      "INFO:tensorflow:Oracle triggered exit\n"
     ]
    },
    {
     "name": "stderr",
     "output_type": "stream",
     "text": [
      "INFO:tensorflow:Oracle triggered exit\n"
     ]
    }
   ],
   "source": [
    "tuner15.search((Wt15, Wt15x, Xt15), yt15, epochs=200,\n",
    "            validation_split = val_percent,\n",
    "            callbacks=[early_stop], \n",
    "            verbose=2)"
   ]
  },
  {
   "cell_type": "code",
   "execution_count": 50,
   "metadata": {},
   "outputs": [
    {
     "name": "stdout",
     "output_type": "stream",
     "text": [
      "Results summary\n",
      "Results in C:\\RunsOak\\6ai-Conv-LSTM-15\n",
      "Showing 1 best trials\n",
      "Objective(name='val_loss', direction='min')\n",
      "Trial summary\n",
      "Hyperparameters:\n",
      "wide_week_LSTM: 84\n",
      "wide_day_LSTM: 91\n",
      "filters: 448\n",
      "kernel_size: 2\n",
      "units_LSTM: 62\n",
      "learning_rate: 0.001\n",
      "Score: 443.6429443359375\n"
     ]
    }
   ],
   "source": [
    "tuner15.results_summary(1)"
   ]
  },
  {
   "cell_type": "markdown",
   "metadata": {},
   "source": [
    "### Best model"
   ]
  },
  {
   "cell_type": "code",
   "execution_count": 51,
   "metadata": {},
   "outputs": [],
   "source": [
    "best_hp15 = tuner15.get_best_hyperparameters()[0]\n",
    "model15 = tuner15.hypermodel.build(best_hp15)"
   ]
  },
  {
   "cell_type": "code",
   "execution_count": 52,
   "metadata": {},
   "outputs": [
    {
     "data": {
      "text/plain": [
       "['Best_HP/6ai-Conv_LSTM-15']"
      ]
     },
     "execution_count": 52,
     "metadata": {},
     "output_type": "execute_result"
    }
   ],
   "source": [
    "scaler_filename = \"Best_HP/6ai-Conv_LSTM-15\"\n",
    "joblib.dump(best_hp15, scaler_filename) "
   ]
  },
  {
   "cell_type": "code",
   "execution_count": 53,
   "metadata": {},
   "outputs": [
    {
     "name": "stdout",
     "output_type": "stream",
     "text": [
      "Model: \"model_1\"\n",
      "__________________________________________________________________________________________________\n",
      " Layer (type)                   Output Shape         Param #     Connected to                     \n",
      "==================================================================================================\n",
      " deep_input (InputLayer)        [(None, 3, 5, 6, 1)  0           []                               \n",
      "                                ]                                                                 \n",
      "                                                                                                  \n",
      " time_distributed_3 (TimeDistri  (None, 3, 4, 5, 448  2240       ['deep_input[0][0]']             \n",
      " buted)                         )                                                                 \n",
      "                                                                                                  \n",
      " time_distributed_4 (TimeDistri  (None, 3, 3, 4, 448  803264     ['time_distributed_3[0][0]']     \n",
      " buted)                         )                                                                 \n",
      "                                                                                                  \n",
      " time_distributed_5 (TimeDistri  (None, 3, 5376)     0           ['time_distributed_4[0][0]']     \n",
      " buted)                                                                                           \n",
      "                                                                                                  \n",
      " lstm_6 (LSTM)                  (None, 3, 62)        1348872     ['time_distributed_5[0][0]']     \n",
      "                                                                                                  \n",
      " lstm_7 (LSTM)                  (None, 3, 62)        31000       ['lstm_6[0][0]']                 \n",
      "                                                                                                  \n",
      " wide_week (InputLayer)         [(None, 1, 14)]      0           []                               \n",
      "                                                                                                  \n",
      " wide_day (InputLayer)          [(None, 1, 14)]      0           []                               \n",
      "                                                                                                  \n",
      " seq_self_attention_1 (SeqSelfA  (None, 3, 62)       4033        ['lstm_7[0][0]']                 \n",
      " ttention)                                                                                        \n",
      "                                                                                                  \n",
      " bidirectional_2 (Bidirectional  (None, 168)         66528       ['wide_week[0][0]']              \n",
      " )                                                                                                \n",
      "                                                                                                  \n",
      " bidirectional_3 (Bidirectional  (None, 182)         77168       ['wide_day[0][0]']               \n",
      " )                                                                                                \n",
      "                                                                                                  \n",
      " flatten_3 (Flatten)            (None, 186)          0           ['seq_self_attention_1[0][0]']   \n",
      "                                                                                                  \n",
      " concatenate_1 (Concatenate)    (None, 536)          0           ['bidirectional_2[0][0]',        \n",
      "                                                                  'bidirectional_3[0][0]',        \n",
      "                                                                  'flatten_3[0][0]']              \n",
      "                                                                                                  \n",
      " output (Dense)                 (None, 6)            3222        ['concatenate_1[0][0]']          \n",
      "                                                                                                  \n",
      "==================================================================================================\n",
      "Total params: 2,336,327\n",
      "Trainable params: 2,336,327\n",
      "Non-trainable params: 0\n",
      "__________________________________________________________________________________________________\n"
     ]
    }
   ],
   "source": [
    "model15.summary()"
   ]
  },
  {
   "cell_type": "code",
   "execution_count": 54,
   "metadata": {},
   "outputs": [
    {
     "name": "stdout",
     "output_type": "stream",
     "text": [
      "Epoch 1/100\n",
      "1539/1539 [==============================] - 201s 124ms/step - loss: 1245.5720 - mean_absolute_error: 23.0608 - root_mean_squared_error: 35.2927 - mean_absolute_percentage_error: 38.2867\n",
      "Epoch 2/100\n",
      "1539/1539 [==============================] - 192s 125ms/step - loss: 566.6308 - mean_absolute_error: 16.8863 - root_mean_squared_error: 23.8040 - mean_absolute_percentage_error: 25.3641\n",
      "Epoch 3/100\n",
      "1539/1539 [==============================] - 192s 125ms/step - loss: 523.2631 - mean_absolute_error: 16.1756 - root_mean_squared_error: 22.8750 - mean_absolute_percentage_error: 23.7786\n",
      "Epoch 4/100\n",
      "1539/1539 [==============================] - 193s 126ms/step - loss: 501.7992 - mean_absolute_error: 15.7900 - root_mean_squared_error: 22.4009 - mean_absolute_percentage_error: 23.3368\n",
      "Epoch 5/100\n",
      "1539/1539 [==============================] - 193s 125ms/step - loss: 490.6471 - mean_absolute_error: 15.5924 - root_mean_squared_error: 22.1505 - mean_absolute_percentage_error: 22.6108\n",
      "Epoch 6/100\n",
      "1539/1539 [==============================] - 193s 125ms/step - loss: 483.5285 - mean_absolute_error: 15.4369 - root_mean_squared_error: 21.9893 - mean_absolute_percentage_error: 22.1608\n",
      "Epoch 7/100\n",
      "1539/1539 [==============================] - 192s 125ms/step - loss: 471.5438 - mean_absolute_error: 15.2329 - root_mean_squared_error: 21.7150 - mean_absolute_percentage_error: 21.8355\n",
      "Epoch 8/100\n",
      "1539/1539 [==============================] - 192s 125ms/step - loss: 466.8335 - mean_absolute_error: 15.1406 - root_mean_squared_error: 21.6063 - mean_absolute_percentage_error: 21.6744\n",
      "Epoch 9/100\n",
      "1539/1539 [==============================] - 191s 124ms/step - loss: 464.4110 - mean_absolute_error: 15.0834 - root_mean_squared_error: 21.5502 - mean_absolute_percentage_error: 21.3904\n",
      "Epoch 10/100\n",
      "1539/1539 [==============================] - 193s 126ms/step - loss: 457.7837 - mean_absolute_error: 14.9589 - root_mean_squared_error: 21.3959 - mean_absolute_percentage_error: 21.2531\n",
      "Epoch 11/100\n",
      "1539/1539 [==============================] - 193s 126ms/step - loss: 451.9669 - mean_absolute_error: 14.8689 - root_mean_squared_error: 21.2595 - mean_absolute_percentage_error: 21.1222\n",
      "Epoch 12/100\n",
      "1539/1539 [==============================] - 194s 126ms/step - loss: 448.6729 - mean_absolute_error: 14.8013 - root_mean_squared_error: 21.1819 - mean_absolute_percentage_error: 21.0289\n",
      "Epoch 13/100\n",
      "1539/1539 [==============================] - 194s 126ms/step - loss: 443.6342 - mean_absolute_error: 14.7134 - root_mean_squared_error: 21.0626 - mean_absolute_percentage_error: 20.9262\n",
      "Epoch 14/100\n",
      "1539/1539 [==============================] - 194s 126ms/step - loss: 442.0430 - mean_absolute_error: 14.6790 - root_mean_squared_error: 21.0248 - mean_absolute_percentage_error: 20.8478\n",
      "Epoch 15/100\n",
      "1539/1539 [==============================] - 194s 126ms/step - loss: 438.1422 - mean_absolute_error: 14.6365 - root_mean_squared_error: 20.9318 - mean_absolute_percentage_error: 20.8027\n",
      "Epoch 16/100\n",
      "1539/1539 [==============================] - 177s 115ms/step - loss: 437.8668 - mean_absolute_error: 14.6273 - root_mean_squared_error: 20.9253 - mean_absolute_percentage_error: 20.7545\n",
      "Epoch 17/100\n",
      "1539/1539 [==============================] - 189s 123ms/step - loss: 433.9487 - mean_absolute_error: 14.5665 - root_mean_squared_error: 20.8314 - mean_absolute_percentage_error: 20.7405\n",
      "Epoch 18/100\n",
      "1539/1539 [==============================] - 186s 121ms/step - loss: 429.8241 - mean_absolute_error: 14.4827 - root_mean_squared_error: 20.7322 - mean_absolute_percentage_error: 20.5777\n",
      "Epoch 19/100\n",
      "1539/1539 [==============================] - 189s 123ms/step - loss: 427.0468 - mean_absolute_error: 14.4371 - root_mean_squared_error: 20.6651 - mean_absolute_percentage_error: 20.4814\n",
      "Epoch 20/100\n",
      "1539/1539 [==============================] - 178s 116ms/step - loss: 425.3009 - mean_absolute_error: 14.4056 - root_mean_squared_error: 20.6228 - mean_absolute_percentage_error: 20.4581\n",
      "Epoch 21/100\n",
      "1539/1539 [==============================] - 188s 122ms/step - loss: 424.7642 - mean_absolute_error: 14.4162 - root_mean_squared_error: 20.6098 - mean_absolute_percentage_error: 20.4766\n",
      "Epoch 22/100\n",
      "1539/1539 [==============================] - 188s 122ms/step - loss: 422.8146 - mean_absolute_error: 14.3636 - root_mean_squared_error: 20.5625 - mean_absolute_percentage_error: 20.3345\n",
      "Epoch 23/100\n",
      "1539/1539 [==============================] - 187s 122ms/step - loss: 420.0684 - mean_absolute_error: 14.3257 - root_mean_squared_error: 20.4956 - mean_absolute_percentage_error: 20.2785\n",
      "Epoch 24/100\n",
      "1539/1539 [==============================] - 189s 123ms/step - loss: 419.5493 - mean_absolute_error: 14.3276 - root_mean_squared_error: 20.4829 - mean_absolute_percentage_error: 20.3442\n",
      "Epoch 25/100\n",
      "1539/1539 [==============================] - 189s 123ms/step - loss: 416.4539 - mean_absolute_error: 14.2713 - root_mean_squared_error: 20.4072 - mean_absolute_percentage_error: 20.1648\n",
      "Epoch 26/100\n",
      "1539/1539 [==============================] - 187s 122ms/step - loss: 415.3084 - mean_absolute_error: 14.2501 - root_mean_squared_error: 20.3791 - mean_absolute_percentage_error: 20.1841\n",
      "Epoch 27/100\n",
      "1539/1539 [==============================] - 198s 129ms/step - loss: 413.3229 - mean_absolute_error: 14.2188 - root_mean_squared_error: 20.3303 - mean_absolute_percentage_error: 20.1154\n",
      "Epoch 28/100\n",
      "1539/1539 [==============================] - 195s 127ms/step - loss: 413.2349 - mean_absolute_error: 14.2182 - root_mean_squared_error: 20.3282 - mean_absolute_percentage_error: 20.1201\n",
      "Epoch 29/100\n",
      "1539/1539 [==============================] - 199s 129ms/step - loss: 409.9254 - mean_absolute_error: 14.1527 - root_mean_squared_error: 20.2466 - mean_absolute_percentage_error: 20.0426\n",
      "Epoch 30/100\n",
      "1539/1539 [==============================] - 198s 129ms/step - loss: 409.0844 - mean_absolute_error: 14.1460 - root_mean_squared_error: 20.2258 - mean_absolute_percentage_error: 20.0181\n",
      "Epoch 31/100\n",
      "1539/1539 [==============================] - 199s 129ms/step - loss: 409.1172 - mean_absolute_error: 14.1399 - root_mean_squared_error: 20.2266 - mean_absolute_percentage_error: 19.9660\n",
      "Epoch 32/100\n",
      "1539/1539 [==============================] - 199s 129ms/step - loss: 405.4802 - mean_absolute_error: 14.0852 - root_mean_squared_error: 20.1365 - mean_absolute_percentage_error: 19.9060\n",
      "Epoch 33/100\n",
      "1539/1539 [==============================] - 201s 131ms/step - loss: 404.5226 - mean_absolute_error: 14.0690 - root_mean_squared_error: 20.1127 - mean_absolute_percentage_error: 19.8515\n",
      "Epoch 34/100\n",
      "1539/1539 [==============================] - 209s 136ms/step - loss: 403.6098 - mean_absolute_error: 14.0542 - root_mean_squared_error: 20.0900 - mean_absolute_percentage_error: 19.7494\n",
      "Epoch 35/100\n",
      "1539/1539 [==============================] - 208s 135ms/step - loss: 402.0491 - mean_absolute_error: 14.0286 - root_mean_squared_error: 20.0512 - mean_absolute_percentage_error: 19.7320\n",
      "Epoch 36/100\n",
      "1539/1539 [==============================] - 208s 135ms/step - loss: 401.0453 - mean_absolute_error: 14.0119 - root_mean_squared_error: 20.0261 - mean_absolute_percentage_error: 19.7536\n",
      "Epoch 37/100\n",
      "1539/1539 [==============================] - 207s 135ms/step - loss: 398.9868 - mean_absolute_error: 13.9897 - root_mean_squared_error: 19.9747 - mean_absolute_percentage_error: 19.7505\n",
      "Epoch 38/100\n",
      "1539/1539 [==============================] - 208s 135ms/step - loss: 397.0974 - mean_absolute_error: 13.9385 - root_mean_squared_error: 19.9273 - mean_absolute_percentage_error: 19.6268\n",
      "Epoch 39/100\n",
      "1539/1539 [==============================] - 203s 132ms/step - loss: 395.6231 - mean_absolute_error: 13.9182 - root_mean_squared_error: 19.8903 - mean_absolute_percentage_error: 19.5173\n",
      "Epoch 40/100\n",
      "1539/1539 [==============================] - 207s 135ms/step - loss: 394.3117 - mean_absolute_error: 13.9013 - root_mean_squared_error: 19.8573 - mean_absolute_percentage_error: 19.5221\n",
      "Epoch 41/100\n",
      "1539/1539 [==============================] - 207s 135ms/step - loss: 393.5561 - mean_absolute_error: 13.8996 - root_mean_squared_error: 19.8382 - mean_absolute_percentage_error: 19.5702\n",
      "Epoch 42/100\n",
      "1539/1539 [==============================] - 207s 135ms/step - loss: 391.1045 - mean_absolute_error: 13.8428 - root_mean_squared_error: 19.7764 - mean_absolute_percentage_error: 19.4455\n",
      "Epoch 43/100\n",
      "1539/1539 [==============================] - 205s 133ms/step - loss: 390.8509 - mean_absolute_error: 13.8374 - root_mean_squared_error: 19.7699 - mean_absolute_percentage_error: 19.4553\n",
      "Epoch 44/100\n",
      "1539/1539 [==============================] - 196s 127ms/step - loss: 386.7628 - mean_absolute_error: 13.7706 - root_mean_squared_error: 19.6663 - mean_absolute_percentage_error: 19.3215\n",
      "Epoch 45/100\n",
      "1539/1539 [==============================] - 197s 128ms/step - loss: 386.9397 - mean_absolute_error: 13.7791 - root_mean_squared_error: 19.6708 - mean_absolute_percentage_error: 19.2840\n",
      "Epoch 46/100\n",
      "1539/1539 [==============================] - 198s 129ms/step - loss: 384.7914 - mean_absolute_error: 13.7415 - root_mean_squared_error: 19.6161 - mean_absolute_percentage_error: 19.2523\n",
      "Epoch 47/100\n",
      "1539/1539 [==============================] - 197s 128ms/step - loss: 384.4075 - mean_absolute_error: 13.7344 - root_mean_squared_error: 19.6063 - mean_absolute_percentage_error: 19.1732\n",
      "Epoch 48/100\n",
      "1539/1539 [==============================] - 197s 128ms/step - loss: 382.3806 - mean_absolute_error: 13.7002 - root_mean_squared_error: 19.5546 - mean_absolute_percentage_error: 19.1764\n",
      "Epoch 49/100\n",
      "1539/1539 [==============================] - 198s 128ms/step - loss: 381.6310 - mean_absolute_error: 13.6864 - root_mean_squared_error: 19.5354 - mean_absolute_percentage_error: 19.1116\n",
      "Epoch 50/100\n",
      "1539/1539 [==============================] - 198s 129ms/step - loss: 379.6784 - mean_absolute_error: 13.6664 - root_mean_squared_error: 19.4853 - mean_absolute_percentage_error: 19.1543\n",
      "Epoch 51/100\n",
      "1539/1539 [==============================] - 199s 129ms/step - loss: 377.6986 - mean_absolute_error: 13.6167 - root_mean_squared_error: 19.4345 - mean_absolute_percentage_error: 19.0366\n",
      "Epoch 52/100\n",
      "1539/1539 [==============================] - 195s 126ms/step - loss: 375.9965 - mean_absolute_error: 13.5897 - root_mean_squared_error: 19.3906 - mean_absolute_percentage_error: 19.0108\n",
      "Epoch 53/100\n",
      "1539/1539 [==============================] - 199s 129ms/step - loss: 374.0576 - mean_absolute_error: 13.5620 - root_mean_squared_error: 19.3406 - mean_absolute_percentage_error: 18.9458\n",
      "Epoch 54/100\n",
      "1539/1539 [==============================] - 199s 130ms/step - loss: 372.0488 - mean_absolute_error: 13.5409 - root_mean_squared_error: 19.2886 - mean_absolute_percentage_error: 18.9476\n",
      "Epoch 55/100\n",
      "1539/1539 [==============================] - 199s 129ms/step - loss: 371.7181 - mean_absolute_error: 13.5313 - root_mean_squared_error: 19.2800 - mean_absolute_percentage_error: 18.8797\n",
      "Epoch 56/100\n",
      "1539/1539 [==============================] - 199s 129ms/step - loss: 368.3104 - mean_absolute_error: 13.4740 - root_mean_squared_error: 19.1914 - mean_absolute_percentage_error: 18.7292\n",
      "Epoch 57/100\n",
      "1539/1539 [==============================] - 199s 130ms/step - loss: 368.1034 - mean_absolute_error: 13.4596 - root_mean_squared_error: 19.1860 - mean_absolute_percentage_error: 18.7477\n",
      "Epoch 58/100\n",
      "1539/1539 [==============================] - 199s 130ms/step - loss: 367.1441 - mean_absolute_error: 13.4529 - root_mean_squared_error: 19.1610 - mean_absolute_percentage_error: 18.8584\n",
      "Epoch 59/100\n",
      "1539/1539 [==============================] - 199s 129ms/step - loss: 364.3434 - mean_absolute_error: 13.3996 - root_mean_squared_error: 19.0878 - mean_absolute_percentage_error: 18.6533\n",
      "Epoch 60/100\n",
      "1539/1539 [==============================] - 199s 129ms/step - loss: 362.7452 - mean_absolute_error: 13.3759 - root_mean_squared_error: 19.0459 - mean_absolute_percentage_error: 18.7073\n",
      "Epoch 61/100\n",
      "1539/1539 [==============================] - 185s 120ms/step - loss: 360.3060 - mean_absolute_error: 13.3285 - root_mean_squared_error: 18.9817 - mean_absolute_percentage_error: 18.5495\n",
      "Epoch 62/100\n",
      "1539/1539 [==============================] - 179s 116ms/step - loss: 358.4342 - mean_absolute_error: 13.2952 - root_mean_squared_error: 18.9324 - mean_absolute_percentage_error: 18.5564\n",
      "Epoch 63/100\n",
      "1539/1539 [==============================] - 201s 130ms/step - loss: 356.5016 - mean_absolute_error: 13.2664 - root_mean_squared_error: 18.8813 - mean_absolute_percentage_error: 18.4607\n",
      "Epoch 64/100\n",
      "1539/1539 [==============================] - 201s 131ms/step - loss: 355.2245 - mean_absolute_error: 13.2393 - root_mean_squared_error: 18.8474 - mean_absolute_percentage_error: 18.3849\n",
      "Epoch 65/100\n",
      "1539/1539 [==============================] - 201s 130ms/step - loss: 352.9239 - mean_absolute_error: 13.1979 - root_mean_squared_error: 18.7863 - mean_absolute_percentage_error: 18.3902\n",
      "Epoch 66/100\n",
      "1539/1539 [==============================] - 200s 130ms/step - loss: 351.7800 - mean_absolute_error: 13.1832 - root_mean_squared_error: 18.7558 - mean_absolute_percentage_error: 18.3920\n",
      "Epoch 67/100\n",
      "1539/1539 [==============================] - 201s 131ms/step - loss: 347.3277 - mean_absolute_error: 13.0958 - root_mean_squared_error: 18.6367 - mean_absolute_percentage_error: 18.1682\n",
      "Epoch 68/100\n",
      "1539/1539 [==============================] - 198s 128ms/step - loss: 347.8346 - mean_absolute_error: 13.1141 - root_mean_squared_error: 18.6503 - mean_absolute_percentage_error: 18.2115\n",
      "Epoch 69/100\n",
      "1539/1539 [==============================] - 202s 131ms/step - loss: 345.2239 - mean_absolute_error: 13.0709 - root_mean_squared_error: 18.5802 - mean_absolute_percentage_error: 18.1305\n",
      "Epoch 70/100\n",
      "1539/1539 [==============================] - 202s 131ms/step - loss: 344.0378 - mean_absolute_error: 13.0469 - root_mean_squared_error: 18.5483 - mean_absolute_percentage_error: 18.1612\n",
      "Epoch 71/100\n",
      "1539/1539 [==============================] - 202s 131ms/step - loss: 343.3227 - mean_absolute_error: 13.0442 - root_mean_squared_error: 18.5290 - mean_absolute_percentage_error: 18.1254\n",
      "Epoch 72/100\n",
      "1539/1539 [==============================] - 202s 131ms/step - loss: 339.9262 - mean_absolute_error: 12.9716 - root_mean_squared_error: 18.4371 - mean_absolute_percentage_error: 17.9963\n",
      "Epoch 73/100\n",
      "1539/1539 [==============================] - 202s 131ms/step - loss: 339.1139 - mean_absolute_error: 12.9695 - root_mean_squared_error: 18.4151 - mean_absolute_percentage_error: 17.9133\n",
      "Epoch 74/100\n",
      "1539/1539 [==============================] - 201s 131ms/step - loss: 337.7177 - mean_absolute_error: 12.9391 - root_mean_squared_error: 18.3771 - mean_absolute_percentage_error: 17.9442\n",
      "Epoch 75/100\n",
      "1539/1539 [==============================] - 202s 131ms/step - loss: 335.2336 - mean_absolute_error: 12.8986 - root_mean_squared_error: 18.3094 - mean_absolute_percentage_error: 17.9535\n",
      "Epoch 76/100\n",
      "1539/1539 [==============================] - 202s 131ms/step - loss: 334.8880 - mean_absolute_error: 12.8961 - root_mean_squared_error: 18.2999 - mean_absolute_percentage_error: 17.9383\n",
      "Epoch 77/100\n",
      "1539/1539 [==============================] - 202s 132ms/step - loss: 330.8099 - mean_absolute_error: 12.8266 - root_mean_squared_error: 18.1882 - mean_absolute_percentage_error: 17.7473\n",
      "Epoch 78/100\n",
      "1539/1539 [==============================] - 202s 131ms/step - loss: 329.7312 - mean_absolute_error: 12.8003 - root_mean_squared_error: 18.1585 - mean_absolute_percentage_error: 17.7891\n",
      "Epoch 79/100\n",
      "1539/1539 [==============================] - 202s 131ms/step - loss: 327.3138 - mean_absolute_error: 12.7496 - root_mean_squared_error: 18.0918 - mean_absolute_percentage_error: 17.6977s - loss: 327.3138 - mean_absolute_error: 12.7496 - root_mean_squared_error: 18.0918 - mean_absolute_percentage_error: 17.697\n",
      "Epoch 80/100\n",
      "1539/1539 [==============================] - 202s 131ms/step - loss: 326.5620 - mean_absolute_error: 12.7378 - root_mean_squared_error: 18.0710 - mean_absolute_percentage_error: 17.6679\n",
      "Epoch 81/100\n",
      "1539/1539 [==============================] - 202s 131ms/step - loss: 324.3976 - mean_absolute_error: 12.7188 - root_mean_squared_error: 18.0110 - mean_absolute_percentage_error: 17.6505\n",
      "Epoch 82/100\n"
     ]
    },
    {
     "name": "stdout",
     "output_type": "stream",
     "text": [
      "1539/1539 [==============================] - 201s 131ms/step - loss: 323.2784 - mean_absolute_error: 12.6832 - root_mean_squared_error: 17.9799 - mean_absolute_percentage_error: 17.5669\n",
      "Epoch 83/100\n",
      "1539/1539 [==============================] - 202s 131ms/step - loss: 319.4972 - mean_absolute_error: 12.6078 - root_mean_squared_error: 17.8745 - mean_absolute_percentage_error: 17.4675\n",
      "Epoch 84/100\n",
      "1539/1539 [==============================] - 202s 131ms/step - loss: 318.8958 - mean_absolute_error: 12.6072 - root_mean_squared_error: 17.8576 - mean_absolute_percentage_error: 17.4264\n",
      "Epoch 85/100\n",
      "1539/1539 [==============================] - 202s 131ms/step - loss: 317.9579 - mean_absolute_error: 12.5778 - root_mean_squared_error: 17.8314 - mean_absolute_percentage_error: 17.3918\n",
      "Epoch 86/100\n",
      "1539/1539 [==============================] - 202s 131ms/step - loss: 315.4563 - mean_absolute_error: 12.5326 - root_mean_squared_error: 17.7611 - mean_absolute_percentage_error: 17.3497\n",
      "Epoch 87/100\n",
      "1539/1539 [==============================] - 202s 131ms/step - loss: 313.6705 - mean_absolute_error: 12.5036 - root_mean_squared_error: 17.7107 - mean_absolute_percentage_error: 17.3113\n",
      "Epoch 88/100\n",
      "1539/1539 [==============================] - 202s 131ms/step - loss: 312.7208 - mean_absolute_error: 12.4934 - root_mean_squared_error: 17.6839 - mean_absolute_percentage_error: 17.3357\n",
      "Epoch 89/100\n",
      "1539/1539 [==============================] - 202s 131ms/step - loss: 310.6140 - mean_absolute_error: 12.4584 - root_mean_squared_error: 17.6242 - mean_absolute_percentage_error: 17.2789\n",
      "Epoch 90/100\n",
      "1539/1539 [==============================] - 202s 131ms/step - loss: 309.0860 - mean_absolute_error: 12.4272 - root_mean_squared_error: 17.5808 - mean_absolute_percentage_error: 17.1994\n",
      "Epoch 91/100\n",
      "1539/1539 [==============================] - 202s 131ms/step - loss: 307.0272 - mean_absolute_error: 12.3735 - root_mean_squared_error: 17.5222 - mean_absolute_percentage_error: 17.1331\n",
      "Epoch 92/100\n",
      "1539/1539 [==============================] - 202s 131ms/step - loss: 304.8293 - mean_absolute_error: 12.3388 - root_mean_squared_error: 17.4594 - mean_absolute_percentage_error: 17.1190\n",
      "Epoch 93/100\n",
      "1539/1539 [==============================] - 202s 131ms/step - loss: 303.5968 - mean_absolute_error: 12.3271 - root_mean_squared_error: 17.4240 - mean_absolute_percentage_error: 17.0841\n",
      "Epoch 94/100\n",
      "1539/1539 [==============================] - 202s 131ms/step - loss: 302.3328 - mean_absolute_error: 12.3073 - root_mean_squared_error: 17.3877 - mean_absolute_percentage_error: 17.0286\n",
      "Epoch 95/100\n",
      "1539/1539 [==============================] - 204s 132ms/step - loss: 299.8308 - mean_absolute_error: 12.2472 - root_mean_squared_error: 17.3156 - mean_absolute_percentage_error: 17.0012\n",
      "Epoch 96/100\n",
      "1539/1539 [==============================] - 251s 163ms/step - loss: 299.0489 - mean_absolute_error: 12.2369 - root_mean_squared_error: 17.2930 - mean_absolute_percentage_error: 16.9817\n",
      "Epoch 97/100\n",
      "1539/1539 [==============================] - 250s 163ms/step - loss: 298.3263 - mean_absolute_error: 12.2198 - root_mean_squared_error: 17.2721 - mean_absolute_percentage_error: 16.9290\n",
      "Epoch 98/100\n",
      "1539/1539 [==============================] - 251s 163ms/step - loss: 295.5843 - mean_absolute_error: 12.1585 - root_mean_squared_error: 17.1926 - mean_absolute_percentage_error: 16.8116\n",
      "Epoch 99/100\n",
      "1539/1539 [==============================] - 250s 163ms/step - loss: 293.4369 - mean_absolute_error: 12.1292 - root_mean_squared_error: 17.1300 - mean_absolute_percentage_error: 16.8094\n",
      "Epoch 100/100\n",
      "1539/1539 [==============================] - 252s 164ms/step - loss: 291.8824 - mean_absolute_error: 12.1068 - root_mean_squared_error: 17.0846 - mean_absolute_percentage_error: 16.7710\n"
     ]
    },
    {
     "data": {
      "text/plain": [
       "<keras.callbacks.History at 0x24181c791f0>"
      ]
     },
     "execution_count": 54,
     "metadata": {},
     "output_type": "execute_result"
    }
   ],
   "source": [
    "model15.fit((Wt15, Wt15x, Xt15), yt15, \n",
    "           epochs = 100, \n",
    "           verbose = 1)"
   ]
  },
  {
   "cell_type": "code",
   "execution_count": 37,
   "metadata": {},
   "outputs": [],
   "source": [
    "model15.save(\"my_dir/6ai-Conv-LSTM-15\")"
   ]
  },
  {
   "cell_type": "code",
   "execution_count": 56,
   "metadata": {},
   "outputs": [],
   "source": [
    "metrics15 = pd.DataFrame(model15.history.history)"
   ]
  },
  {
   "cell_type": "code",
   "execution_count": 57,
   "metadata": {},
   "outputs": [
    {
     "data": {
      "text/plain": [
       "<AxesSubplot:>"
      ]
     },
     "execution_count": 57,
     "metadata": {},
     "output_type": "execute_result"
    },
    {
     "data": {
      "image/png": "[encoded data removed]",
      "text/plain": [
       "<Figure size 432x288 with 1 Axes>"
      ]
     },
     "metadata": {
      "needs_background": "light"
     },
     "output_type": "display_data"
    }
   ],
   "source": [
    "metrics15[['loss']].plot()"
   ]
  },
  {
   "cell_type": "code",
   "execution_count": 36,
   "metadata": {},
   "outputs": [],
   "source": [
    "model15 = keras.models.load_model(\"my_dir/6ai-Conv-LSTM-15\")"
   ]
  },
  {
   "cell_type": "code",
   "execution_count": 37,
   "metadata": {},
   "outputs": [
    {
     "data": {
      "text/plain": [
       "array([[ 30.915487 ,  20.382673 ,  19.589142 ,  66.91815  ,  27.459383 ,\n",
       "          5.604286 ],\n",
       "       [ 30.807465 ,  20.061268 ,  18.05259  ,  67.46942  ,  28.698683 ,\n",
       "          7.744875 ],\n",
       "       [ 30.81324  ,  19.312988 ,  15.918243 ,  65.70153  ,  27.950382 ,\n",
       "          7.2604103],\n",
       "       ...,\n",
       "       [ 45.33571  ,  46.97686  ,  62.511486 , 117.00415  ,  54.56058  ,\n",
       "         20.655792 ],\n",
       "       [ 44.62492  ,  45.70759  ,  59.56116  , 113.42606  ,  53.759254 ,\n",
       "         24.91065  ],\n",
       "       [ 43.16292  ,  43.473473 ,  53.04816  , 109.042595 ,  54.34871  ,\n",
       "         24.800922 ]], dtype=float32)"
      ]
     },
     "execution_count": 37,
     "metadata": {},
     "output_type": "execute_result"
    }
   ],
   "source": [
    "model15.predict((Wv15, Wv15x, Xv15))"
   ]
  },
  {
   "cell_type": "markdown",
   "metadata": {},
   "source": [
    "### Evaluation on inverse_transform"
   ]
  },
  {
   "cell_type": "code",
   "execution_count": null,
   "metadata": {},
   "outputs": [],
   "source": [
    "test_predictions15 = model15.predict((Wv15, Wv15x, Xv15))\n",
    "\n",
    "\n",
    "MSE15 = mean_squared_error(yv15,test_predictions15)\n",
    "\n",
    "MAE15 = mean_absolute_error(yv15,test_predictions15)\n",
    "\n",
    "RMSE15 = np.sqrt(MSE15)\n",
    "\n",
    "MAPE15 = mean_absolute_percentage_error(yv15,test_predictions15)*100\n",
    "\n",
    "eval15 = [MSE15, MAE15, RMSE15, MAPE15]\n",
    "print(eval15)"
   ]
  },
  {
   "cell_type": "code",
   "execution_count": null,
   "metadata": {},
   "outputs": [],
   "source": [
    "GEH, count = ga.GEH(np.asarray(yv15), np.asarray(test_predictions15))\n",
    "GEH15 = count/GEH.size\n",
    "print(GEH15)"
   ]
  },
  {
   "cell_type": "markdown",
   "metadata": {},
   "source": [
    "# 30 mins ahead"
   ]
  },
  {
   "cell_type": "code",
   "execution_count": 44,
   "metadata": {},
   "outputs": [],
   "source": [
    "def build_model_30(hp):\n",
    "    # Inputs\n",
    "    channel_Wide = keras.layers.Input(shape=Wide_train_30.shape[1:], name=\"wide_week\")\n",
    "    channel_Widex = keras.layers.Input(shape=Wide_train_30_day.shape[1:], name=\"wide_day\")\n",
    "    channel_Deep = keras.layers.Input(shape=Xt30.shape[1:], name=\"deep_input\")\n",
    "    \n",
    "    # Wide Model\n",
    "    Wide_30 = keras.layers.Bidirectional(\n",
    "        keras.layers.LSTM(units=hp.Int(\"wide_week_LSTM\", min_value=1, max_value=100, step=1), \n",
    "                                activation='relu'))(channel_Wide)\n",
    "    \n",
    "    Wide_30x = keras.layers.Bidirectional(\n",
    "        keras.layers.LSTM(units=hp.Int(\"wide_day_LSTM\", min_value=1, max_value=100, step=1), \n",
    "                                activation='relu'))(channel_Widex)\n",
    "    \n",
    "    # Deep Model\n",
    "    # CNN \n",
    "    CNN_30a = keras.layers.TimeDistributed(\n",
    "        keras.layers.Conv2D(filters=hp.Int(\"filters\", min_value=32, max_value=512, step=32),\n",
    "                            kernel_size=hp.Choice(\"kernel_size\", [2, 3]), activation='relu'))(channel_Deep)\n",
    "    CNN_30b = keras.layers.TimeDistributed(\n",
    "        keras.layers.Conv2D(filters=hp.Int(\"filters\", min_value=32, max_value=512, step=32),\n",
    "                            kernel_size=hp.Choice(\"kernel_size\", [2, 3]), activation='relu'))(CNN_30a)\n",
    "    flatten_30 = keras.layers.TimeDistributed(keras.layers.Flatten())(CNN_30b)\n",
    "    # LSTM          \n",
    "    LSTM_30a = keras.layers.LSTM(units=hp.Int(\"units_LSTM\", min_value=1, max_value=100, step=1), \n",
    "                                activation='relu', return_sequences=True)(flatten_30)\n",
    "    LSTM_30b = keras.layers.LSTM(units=hp.Int(\"units_LSTM\", min_value=1, max_value=100, step=1), \n",
    "                                activation='relu', return_sequences=True)(LSTM_30a)\n",
    "    Att_30 = SeqSelfAttention(attention_activation='tanh')(LSTM_30b)\n",
    "    Reshaped_30 = keras.layers.Flatten()(Att_30)\n",
    "    \n",
    "    # Concatenation \n",
    "    concat = keras.layers.concatenate([Wide_30, Wide_30x, Reshaped_30])\n",
    "    \n",
    "    # Output\n",
    "    output = keras.layers.Dense(n_features, name= \"output\")(concat)\n",
    "    \n",
    "    # Model\n",
    "    model_30 = keras.Model(inputs=[channel_Wide, channel_Widex, channel_Deep], outputs=[output])\n",
    "\n",
    "    # Compile\n",
    "    model_30.compile(optimizer=keras.optimizers.Adam(hp.Choice(\"learning_rate\", [1e-2, 1e-3, 1e-4])), \n",
    "        loss='mse',metrics=['MeanAbsoluteError','RootMeanSquaredError','MeanAbsolutePercentageError'])\n",
    "                    \n",
    "    return model_30"
   ]
  },
  {
   "cell_type": "code",
   "execution_count": 45,
   "metadata": {},
   "outputs": [
    {
     "name": "stdout",
     "output_type": "stream",
     "text": [
      "INFO:tensorflow:Reloading Oracle from existing project C:\\RunsOak\\6ai-Conv-LSTM-30\\oracle.json\n",
      "INFO:tensorflow:Reloading Tuner from C:\\RunsOak\\6ai-Conv-LSTM-30\\tuner0.json\n"
     ]
    }
   ],
   "source": [
    "tuner30 = RandomSearch(\n",
    "    build_model_30,\n",
    "    objective=\"val_loss\",\n",
    "    max_trials=30,\n",
    "    executions_per_trial=2,\n",
    "    overwrite=False,\n",
    "    directory=os.path.normpath('C:/RunsOak'),\n",
    "    project_name=\"6ai-Conv-LSTM-30\",\n",
    ")"
   ]
  },
  {
   "cell_type": "code",
   "execution_count": 46,
   "metadata": {},
   "outputs": [
    {
     "name": "stdout",
     "output_type": "stream",
     "text": [
      "Search space summary\n",
      "Default search space size: 6\n",
      "wide_week_LSTM (Int)\n",
      "{'default': None, 'conditions': [], 'min_value': 1, 'max_value': 100, 'step': 1, 'sampling': None}\n",
      "wide_day_LSTM (Int)\n",
      "{'default': None, 'conditions': [], 'min_value': 1, 'max_value': 100, 'step': 1, 'sampling': None}\n",
      "filters (Int)\n",
      "{'default': None, 'conditions': [], 'min_value': 32, 'max_value': 512, 'step': 32, 'sampling': None}\n",
      "kernel_size (Choice)\n",
      "{'default': 2, 'conditions': [], 'values': [2, 3], 'ordered': True}\n",
      "units_LSTM (Int)\n",
      "{'default': None, 'conditions': [], 'min_value': 1, 'max_value': 100, 'step': 1, 'sampling': None}\n",
      "learning_rate (Choice)\n",
      "{'default': 0.01, 'conditions': [], 'values': [0.01, 0.001, 0.0001], 'ordered': True}\n"
     ]
    }
   ],
   "source": [
    "tuner30.search_space_summary()"
   ]
  },
  {
   "cell_type": "code",
   "execution_count": 47,
   "metadata": {},
   "outputs": [
    {
     "name": "stdout",
     "output_type": "stream",
     "text": [
      "INFO:tensorflow:Oracle triggered exit\n"
     ]
    }
   ],
   "source": [
    "tuner30.search((Wt30, Wt30x, Xt30), yt30, epochs=200,\n",
    "            validation_split = val_percent,\n",
    "            callbacks=[early_stop],\n",
    "            verbose=2)"
   ]
  },
  {
   "cell_type": "code",
   "execution_count": 48,
   "metadata": {},
   "outputs": [
    {
     "name": "stdout",
     "output_type": "stream",
     "text": [
      "Results summary\n",
      "Results in C:\\RunsOak\\6ai-Conv-LSTM-30\n",
      "Showing 1 best trials\n",
      "Objective(name='val_loss', direction='min')\n",
      "Trial summary\n",
      "Hyperparameters:\n",
      "wide_week_LSTM: 80\n",
      "wide_day_LSTM: 69\n",
      "filters: 480\n",
      "kernel_size: 3\n",
      "units_LSTM: 86\n",
      "learning_rate: 0.001\n",
      "Score: 492.529052734375\n"
     ]
    }
   ],
   "source": [
    "tuner30.results_summary(1)"
   ]
  },
  {
   "cell_type": "markdown",
   "metadata": {},
   "source": [
    "### Best model"
   ]
  },
  {
   "cell_type": "code",
   "execution_count": 49,
   "metadata": {},
   "outputs": [],
   "source": [
    "best_hp30 = tuner30.get_best_hyperparameters()[0]\n",
    "model30 = tuner30.hypermodel.build(best_hp30)"
   ]
  },
  {
   "cell_type": "code",
   "execution_count": 50,
   "metadata": {},
   "outputs": [
    {
     "data": {
      "text/plain": [
       "['6ai-Conv_LSTM-30']"
      ]
     },
     "execution_count": 50,
     "metadata": {},
     "output_type": "execute_result"
    }
   ],
   "source": [
    "scaler_filename = \"6ai-Conv_LSTM-30\"\n",
    "joblib.dump(best_hp30, scaler_filename) "
   ]
  },
  {
   "cell_type": "code",
   "execution_count": 51,
   "metadata": {},
   "outputs": [
    {
     "name": "stdout",
     "output_type": "stream",
     "text": [
      "Model: \"model_3\"\n",
      "__________________________________________________________________________________________________\n",
      " Layer (type)                   Output Shape         Param #     Connected to                     \n",
      "==================================================================================================\n",
      " deep_input (InputLayer)        [(None, 3, 5, 6, 1)  0           []                               \n",
      "                                ]                                                                 \n",
      "                                                                                                  \n",
      " time_distributed_9 (TimeDistri  (None, 3, 3, 4, 480  4800       ['deep_input[0][0]']             \n",
      " buted)                         )                                                                 \n",
      "                                                                                                  \n",
      " time_distributed_10 (TimeDistr  (None, 3, 1, 2, 480  2074080    ['time_distributed_9[0][0]']     \n",
      " ibuted)                        )                                                                 \n",
      "                                                                                                  \n",
      " time_distributed_11 (TimeDistr  (None, 3, 960)      0           ['time_distributed_10[0][0]']    \n",
      " ibuted)                                                                                          \n",
      "                                                                                                  \n",
      " lstm_14 (LSTM)                 (None, 3, 86)        360168      ['time_distributed_11[0][0]']    \n",
      "                                                                                                  \n",
      " lstm_15 (LSTM)                 (None, 3, 86)        59512       ['lstm_14[0][0]']                \n",
      "                                                                                                  \n",
      " wide_week (InputLayer)         [(None, 1, 14)]      0           []                               \n",
      "                                                                                                  \n",
      " wide_day (InputLayer)          [(None, 1, 14)]      0           []                               \n",
      "                                                                                                  \n",
      " seq_self_attention_3 (SeqSelfA  (None, 3, 86)       5569        ['lstm_15[0][0]']                \n",
      " ttention)                                                                                        \n",
      "                                                                                                  \n",
      " bidirectional_6 (Bidirectional  (None, 160)         60800       ['wide_week[0][0]']              \n",
      " )                                                                                                \n",
      "                                                                                                  \n",
      " bidirectional_7 (Bidirectional  (None, 138)         46368       ['wide_day[0][0]']               \n",
      " )                                                                                                \n",
      "                                                                                                  \n",
      " flatten_7 (Flatten)            (None, 258)          0           ['seq_self_attention_3[0][0]']   \n",
      "                                                                                                  \n",
      " concatenate_3 (Concatenate)    (None, 556)          0           ['bidirectional_6[0][0]',        \n",
      "                                                                  'bidirectional_7[0][0]',        \n",
      "                                                                  'flatten_7[0][0]']              \n",
      "                                                                                                  \n",
      " output (Dense)                 (None, 6)            3342        ['concatenate_3[0][0]']          \n",
      "                                                                                                  \n",
      "==================================================================================================\n",
      "Total params: 2,614,639\n",
      "Trainable params: 2,614,639\n",
      "Non-trainable params: 0\n",
      "__________________________________________________________________________________________________\n"
     ]
    }
   ],
   "source": [
    "model30.summary()"
   ]
  },
  {
   "cell_type": "code",
   "execution_count": 54,
   "metadata": {},
   "outputs": [
    {
     "name": "stdout",
     "output_type": "stream",
     "text": [
      "Epoch 1/100\n",
      "1539/1539 [==============================] - 140s 91ms/step - loss: 781.5687 - mean_absolute_error: 19.6793 - root_mean_squared_error: 27.9565 - mean_absolute_percentage_error: 30.0728\n",
      "Epoch 2/100\n",
      "1539/1539 [==============================] - 140s 91ms/step - loss: 656.5806 - mean_absolute_error: 18.0810 - root_mean_squared_error: 25.6238 - mean_absolute_percentage_error: 26.1562\n",
      "Epoch 3/100\n",
      "1539/1539 [==============================] - 140s 91ms/step - loss: 603.2578 - mean_absolute_error: 17.3673 - root_mean_squared_error: 24.5613 - mean_absolute_percentage_error: 25.3824\n",
      "Epoch 4/100\n",
      "1539/1539 [==============================] - 180s 117ms/step - loss: 582.5967 - mean_absolute_error: 17.0091 - root_mean_squared_error: 24.1370 - mean_absolute_percentage_error: 24.53430s - loss: 583.7686 - mean_absolu\n",
      "Epoch 5/100\n",
      "1539/1539 [==============================] - 203s 132ms/step - loss: 562.4391 - mean_absolute_error: 16.6902 - root_mean_squared_error: 23.7158 - mean_absolute_percentage_error: 23.9387\n",
      "Epoch 6/100\n",
      "1539/1539 [==============================] - 202s 132ms/step - loss: 541.5933 - mean_absolute_error: 16.3248 - root_mean_squared_error: 23.2722 - mean_absolute_percentage_error: 23.2099\n",
      "Epoch 7/100\n",
      "1539/1539 [==============================] - 201s 131ms/step - loss: 529.2461 - mean_absolute_error: 16.1013 - root_mean_squared_error: 23.0054 - mean_absolute_percentage_error: 22.9315\n",
      "Epoch 8/100\n",
      "1539/1539 [==============================] - 201s 131ms/step - loss: 520.7240 - mean_absolute_error: 15.9586 - root_mean_squared_error: 22.8194 - mean_absolute_percentage_error: 22.6616\n",
      "Epoch 9/100\n",
      "1539/1539 [==============================] - 202s 132ms/step - loss: 509.6030 - mean_absolute_error: 15.7878 - root_mean_squared_error: 22.5744 - mean_absolute_percentage_error: 22.4507\n",
      "Epoch 10/100\n",
      "1539/1539 [==============================] - 203s 132ms/step - loss: 506.9800 - mean_absolute_error: 15.7437 - root_mean_squared_error: 22.5162 - mean_absolute_percentage_error: 22.4119\n",
      "Epoch 11/100\n",
      "1539/1539 [==============================] - 201s 130ms/step - loss: 496.6478 - mean_absolute_error: 15.5845 - root_mean_squared_error: 22.2856 - mean_absolute_percentage_error: 22.1637\n",
      "Epoch 12/100\n",
      "1539/1539 [==============================] - 201s 131ms/step - loss: 493.7210 - mean_absolute_error: 15.5279 - root_mean_squared_error: 22.2198 - mean_absolute_percentage_error: 22.0574\n",
      "Epoch 13/100\n",
      "1539/1539 [==============================] - 200s 130ms/step - loss: 486.2307 - mean_absolute_error: 15.4156 - root_mean_squared_error: 22.0506 - mean_absolute_percentage_error: 22.0439\n",
      "Epoch 14/100\n",
      "1539/1539 [==============================] - 201s 130ms/step - loss: 483.4753 - mean_absolute_error: 15.3746 - root_mean_squared_error: 21.9881 - mean_absolute_percentage_error: 21.9280\n",
      "Epoch 15/100\n",
      "1539/1539 [==============================] - 201s 131ms/step - loss: 479.7173 - mean_absolute_error: 15.3001 - root_mean_squared_error: 21.9025 - mean_absolute_percentage_error: 21.7584\n",
      "Epoch 16/100\n",
      "1539/1539 [==============================] - 200s 130ms/step - loss: 477.0904 - mean_absolute_error: 15.2680 - root_mean_squared_error: 21.8424 - mean_absolute_percentage_error: 21.6343\n",
      "Epoch 17/100\n",
      "1539/1539 [==============================] - 200s 130ms/step - loss: 471.1389 - mean_absolute_error: 15.1835 - root_mean_squared_error: 21.7057 - mean_absolute_percentage_error: 21.5640\n",
      "Epoch 18/100\n",
      "1539/1539 [==============================] - 202s 131ms/step - loss: 466.3703 - mean_absolute_error: 15.0960 - root_mean_squared_error: 21.5956 - mean_absolute_percentage_error: 21.4279\n",
      "Epoch 19/100\n",
      "1539/1539 [==============================] - 204s 132ms/step - loss: 464.9077 - mean_absolute_error: 15.0670 - root_mean_squared_error: 21.5617 - mean_absolute_percentage_error: 21.3194\n",
      "Epoch 20/100\n",
      "1539/1539 [==============================] - 201s 130ms/step - loss: 459.8586 - mean_absolute_error: 14.9887 - root_mean_squared_error: 21.4443 - mean_absolute_percentage_error: 21.2781\n",
      "Epoch 21/100\n",
      "1539/1539 [==============================] - 203s 132ms/step - loss: 459.4269 - mean_absolute_error: 14.9699 - root_mean_squared_error: 21.4342 - mean_absolute_percentage_error: 21.1387\n",
      "Epoch 22/100\n",
      "1539/1539 [==============================] - 201s 131ms/step - loss: 455.7085 - mean_absolute_error: 14.9038 - root_mean_squared_error: 21.3473 - mean_absolute_percentage_error: 21.0432\n",
      "Epoch 23/100\n",
      "1539/1539 [==============================] - 178s 115ms/step - loss: 453.0950 - mean_absolute_error: 14.8872 - root_mean_squared_error: 21.2860 - mean_absolute_percentage_error: 21.0116\n",
      "Epoch 24/100\n",
      "1539/1539 [==============================] - 199s 129ms/step - loss: 450.6414 - mean_absolute_error: 14.8339 - root_mean_squared_error: 21.2283 - mean_absolute_percentage_error: 20.8846\n",
      "Epoch 25/100\n",
      "1539/1539 [==============================] - 202s 131ms/step - loss: 447.6196 - mean_absolute_error: 14.7937 - root_mean_squared_error: 21.1570 - mean_absolute_percentage_error: 20.8864\n",
      "Epoch 26/100\n",
      "1539/1539 [==============================] - 201s 130ms/step - loss: 444.0911 - mean_absolute_error: 14.7371 - root_mean_squared_error: 21.0735 - mean_absolute_percentage_error: 20.7857\n",
      "Epoch 27/100\n",
      "1539/1539 [==============================] - 201s 131ms/step - loss: 443.3425 - mean_absolute_error: 14.7026 - root_mean_squared_error: 21.0557 - mean_absolute_percentage_error: 20.6435\n",
      "Epoch 28/100\n",
      "1539/1539 [==============================] - 202s 131ms/step - loss: 439.5037 - mean_absolute_error: 14.6612 - root_mean_squared_error: 20.9643 - mean_absolute_percentage_error: 20.6235\n",
      "Epoch 29/100\n",
      "1539/1539 [==============================] - 201s 131ms/step - loss: 438.5230 - mean_absolute_error: 14.6433 - root_mean_squared_error: 20.9409 - mean_absolute_percentage_error: 20.6231\n",
      "Epoch 30/100\n",
      "1539/1539 [==============================] - 201s 131ms/step - loss: 436.1445 - mean_absolute_error: 14.5998 - root_mean_squared_error: 20.8841 - mean_absolute_percentage_error: 20.4493\n",
      "Epoch 31/100\n",
      "1539/1539 [==============================] - 201s 131ms/step - loss: 433.0245 - mean_absolute_error: 14.5473 - root_mean_squared_error: 20.8092 - mean_absolute_percentage_error: 20.3778\n",
      "Epoch 32/100\n",
      "1539/1539 [==============================] - 201s 131ms/step - loss: 430.8552 - mean_absolute_error: 14.5081 - root_mean_squared_error: 20.7570 - mean_absolute_percentage_error: 20.3584\n",
      "Epoch 33/100\n",
      "1539/1539 [==============================] - 202s 131ms/step - loss: 429.1278 - mean_absolute_error: 14.4913 - root_mean_squared_error: 20.7154 - mean_absolute_percentage_error: 20.3150\n",
      "Epoch 34/100\n",
      "1539/1539 [==============================] - 202s 131ms/step - loss: 427.1066 - mean_absolute_error: 14.4660 - root_mean_squared_error: 20.6666 - mean_absolute_percentage_error: 20.2334\n",
      "Epoch 35/100\n",
      "1539/1539 [==============================] - 204s 133ms/step - loss: 424.6569 - mean_absolute_error: 14.4142 - root_mean_squared_error: 20.6072 - mean_absolute_percentage_error: 20.1108\n",
      "Epoch 36/100\n",
      "1539/1539 [==============================] - 202s 132ms/step - loss: 423.5715 - mean_absolute_error: 14.4097 - root_mean_squared_error: 20.5809 - mean_absolute_percentage_error: 20.1527\n",
      "Epoch 37/100\n",
      "1539/1539 [==============================] - 209s 136ms/step - loss: 419.0063 - mean_absolute_error: 14.3326 - root_mean_squared_error: 20.4696 - mean_absolute_percentage_error: 19.9936\n",
      "Epoch 38/100\n",
      "1539/1539 [==============================] - 211s 137ms/step - loss: 417.0645 - mean_absolute_error: 14.2988 - root_mean_squared_error: 20.4222 - mean_absolute_percentage_error: 20.0061\n",
      "Epoch 39/100\n",
      "1539/1539 [==============================] - 202s 131ms/step - loss: 413.6923 - mean_absolute_error: 14.2479 - root_mean_squared_error: 20.3394 - mean_absolute_percentage_error: 19.8611\n",
      "Epoch 40/100\n",
      "1539/1539 [==============================] - 208s 135ms/step - loss: 414.0699 - mean_absolute_error: 14.2507 - root_mean_squared_error: 20.3487 - mean_absolute_percentage_error: 19.8574\n",
      "Epoch 41/100\n",
      "1539/1539 [==============================] - 182s 118ms/step - loss: 411.2321 - mean_absolute_error: 14.2134 - root_mean_squared_error: 20.2789 - mean_absolute_percentage_error: 19.7197\n",
      "Epoch 42/100\n"
     ]
    },
    {
     "name": "stdout",
     "output_type": "stream",
     "text": [
      "1539/1539 [==============================] - 207s 135ms/step - loss: 410.7163 - mean_absolute_error: 14.2015 - root_mean_squared_error: 20.2661 - mean_absolute_percentage_error: 19.8731\n",
      "Epoch 43/100\n",
      "1539/1539 [==============================] - 208s 135ms/step - loss: 405.0338 - mean_absolute_error: 14.1084 - root_mean_squared_error: 20.1254 - mean_absolute_percentage_error: 19.6866\n",
      "Epoch 44/100\n",
      "1539/1539 [==============================] - 211s 137ms/step - loss: 403.6017 - mean_absolute_error: 14.0720 - root_mean_squared_error: 20.0898 - mean_absolute_percentage_error: 19.4638\n",
      "Epoch 45/100\n",
      "1539/1539 [==============================] - 211s 137ms/step - loss: 403.0728 - mean_absolute_error: 14.0735 - root_mean_squared_error: 20.0767 - mean_absolute_percentage_error: 19.6076\n",
      "Epoch 46/100\n",
      "1539/1539 [==============================] - 194s 126ms/step - loss: 402.7112 - mean_absolute_error: 14.0646 - root_mean_squared_error: 20.0677 - mean_absolute_percentage_error: 19.4981\n",
      "Epoch 47/100\n",
      "1539/1539 [==============================] - 192s 125ms/step - loss: 398.7162 - mean_absolute_error: 13.9924 - root_mean_squared_error: 19.9679 - mean_absolute_percentage_error: 19.5124\n",
      "Epoch 48/100\n",
      "1539/1539 [==============================] - 209s 136ms/step - loss: 397.6128 - mean_absolute_error: 13.9739 - root_mean_squared_error: 19.9402 - mean_absolute_percentage_error: 19.4486\n",
      "Epoch 49/100\n",
      "1539/1539 [==============================] - 208s 135ms/step - loss: 397.4185 - mean_absolute_error: 13.9864 - root_mean_squared_error: 19.9354 - mean_absolute_percentage_error: 19.5174\n",
      "Epoch 50/100\n",
      "1539/1539 [==============================] - 210s 137ms/step - loss: 394.2303 - mean_absolute_error: 13.9251 - root_mean_squared_error: 19.8552 - mean_absolute_percentage_error: 19.4143\n",
      "Epoch 51/100\n",
      "1539/1539 [==============================] - 210s 137ms/step - loss: 393.4823 - mean_absolute_error: 13.9088 - root_mean_squared_error: 19.8364 - mean_absolute_percentage_error: 19.3994\n",
      "Epoch 52/100\n",
      "1539/1539 [==============================] - 210s 136ms/step - loss: 390.4055 - mean_absolute_error: 13.8602 - root_mean_squared_error: 19.7587 - mean_absolute_percentage_error: 19.2868\n",
      "Epoch 53/100\n",
      "1539/1539 [==============================] - 209s 136ms/step - loss: 389.9159 - mean_absolute_error: 13.8414 - root_mean_squared_error: 19.7463 - mean_absolute_percentage_error: 19.1955\n",
      "Epoch 54/100\n",
      "1539/1539 [==============================] - 209s 136ms/step - loss: 386.5498 - mean_absolute_error: 13.7804 - root_mean_squared_error: 19.6609 - mean_absolute_percentage_error: 19.1404\n",
      "Epoch 55/100\n",
      "1539/1539 [==============================] - 212s 138ms/step - loss: 383.5030 - mean_absolute_error: 13.7481 - root_mean_squared_error: 19.5832 - mean_absolute_percentage_error: 19.1495\n",
      "Epoch 56/100\n",
      "1539/1539 [==============================] - 209s 136ms/step - loss: 384.6198 - mean_absolute_error: 13.7697 - root_mean_squared_error: 19.6117 - mean_absolute_percentage_error: 19.1496\n",
      "Epoch 57/100\n",
      "1539/1539 [==============================] - 209s 136ms/step - loss: 382.0159 - mean_absolute_error: 13.7221 - root_mean_squared_error: 19.5452 - mean_absolute_percentage_error: 19.0513\n",
      "Epoch 58/100\n",
      "1539/1539 [==============================] - 210s 136ms/step - loss: 378.4772 - mean_absolute_error: 13.6690 - root_mean_squared_error: 19.4545 - mean_absolute_percentage_error: 19.0012\n",
      "Epoch 59/100\n",
      "1539/1539 [==============================] - 209s 136ms/step - loss: 376.5349 - mean_absolute_error: 13.6286 - root_mean_squared_error: 19.4045 - mean_absolute_percentage_error: 18.8823\n",
      "Epoch 60/100\n",
      "1539/1539 [==============================] - 209s 136ms/step - loss: 376.3251 - mean_absolute_error: 13.6235 - root_mean_squared_error: 19.3991 - mean_absolute_percentage_error: 18.8561\n",
      "Epoch 61/100\n",
      "1539/1539 [==============================] - 210s 136ms/step - loss: 373.9785 - mean_absolute_error: 13.5774 - root_mean_squared_error: 19.3385 - mean_absolute_percentage_error: 18.8364\n",
      "Epoch 62/100\n",
      "1539/1539 [==============================] - 209s 136ms/step - loss: 374.0608 - mean_absolute_error: 13.5935 - root_mean_squared_error: 19.3406 - mean_absolute_percentage_error: 18.8838\n",
      "Epoch 63/100\n",
      "1539/1539 [==============================] - 188s 122ms/step - loss: 371.9619 - mean_absolute_error: 13.5557 - root_mean_squared_error: 19.2863 - mean_absolute_percentage_error: 18.8616\n",
      "Epoch 64/100\n",
      "1539/1539 [==============================] - 230s 149ms/step - loss: 369.4199 - mean_absolute_error: 13.5105 - root_mean_squared_error: 19.2203 - mean_absolute_percentage_error: 18.8035\n",
      "Epoch 65/100\n",
      "1539/1539 [==============================] - 229s 149ms/step - loss: 368.3232 - mean_absolute_error: 13.4869 - root_mean_squared_error: 19.1918 - mean_absolute_percentage_error: 18.7245\n",
      "Epoch 66/100\n",
      "1539/1539 [==============================] - 229s 149ms/step - loss: 367.6994 - mean_absolute_error: 13.4752 - root_mean_squared_error: 19.1755 - mean_absolute_percentage_error: 18.6843\n",
      "Epoch 67/100\n",
      "1539/1539 [==============================] - 228s 148ms/step - loss: 364.1699 - mean_absolute_error: 13.4200 - root_mean_squared_error: 19.0832 - mean_absolute_percentage_error: 18.6002\n",
      "Epoch 68/100\n",
      "1539/1539 [==============================] - 205s 133ms/step - loss: 362.3228 - mean_absolute_error: 13.3741 - root_mean_squared_error: 19.0348 - mean_absolute_percentage_error: 18.5631\n",
      "Epoch 69/100\n",
      "1539/1539 [==============================] - 217s 141ms/step - loss: 360.6424 - mean_absolute_error: 13.3692 - root_mean_squared_error: 18.9906 - mean_absolute_percentage_error: 18.6106\n",
      "Epoch 70/100\n",
      "1539/1539 [==============================] - 232s 151ms/step - loss: 359.3532 - mean_absolute_error: 13.3325 - root_mean_squared_error: 18.9566 - mean_absolute_percentage_error: 18.6244\n",
      "Epoch 71/100\n",
      "1539/1539 [==============================] - 234s 152ms/step - loss: 359.1737 - mean_absolute_error: 13.3293 - root_mean_squared_error: 18.9519 - mean_absolute_percentage_error: 18.5711\n",
      "Epoch 72/100\n",
      "1539/1539 [==============================] - 232s 151ms/step - loss: 356.5462 - mean_absolute_error: 13.2917 - root_mean_squared_error: 18.8824 - mean_absolute_percentage_error: 18.5097\n",
      "Epoch 73/100\n",
      "1539/1539 [==============================] - 231s 150ms/step - loss: 355.7790 - mean_absolute_error: 13.2819 - root_mean_squared_error: 18.8621 - mean_absolute_percentage_error: 18.5270\n",
      "Epoch 74/100\n",
      "1539/1539 [==============================] - 171s 111ms/step - loss: 352.7692 - mean_absolute_error: 13.2167 - root_mean_squared_error: 18.7821 - mean_absolute_percentage_error: 18.3280\n",
      "Epoch 75/100\n",
      "1539/1539 [==============================] - 181s 118ms/step - loss: 350.0359 - mean_absolute_error: 13.1734 - root_mean_squared_error: 18.7092 - mean_absolute_percentage_error: 18.4007\n",
      "Epoch 76/100\n",
      "1539/1539 [==============================] - 181s 117ms/step - loss: 351.3581 - mean_absolute_error: 13.1912 - root_mean_squared_error: 18.7446 - mean_absolute_percentage_error: 18.3954\n",
      "Epoch 77/100\n",
      "1539/1539 [==============================] - 181s 118ms/step - loss: 350.4056 - mean_absolute_error: 13.1801 - root_mean_squared_error: 18.7191 - mean_absolute_percentage_error: 18.2747\n",
      "Epoch 78/100\n",
      "1539/1539 [==============================] - 163s 106ms/step - loss: 348.5977 - mean_absolute_error: 13.1522 - root_mean_squared_error: 18.6708 - mean_absolute_percentage_error: 18.2596\n",
      "Epoch 79/100\n",
      "1539/1539 [==============================] - 182s 118ms/step - loss: 345.0304 - mean_absolute_error: 13.0986 - root_mean_squared_error: 18.5750 - mean_absolute_percentage_error: 18.2499\n",
      "Epoch 80/100\n",
      "1539/1539 [==============================] - 172s 112ms/step - loss: 344.7347 - mean_absolute_error: 13.0766 - root_mean_squared_error: 18.5670 - mean_absolute_percentage_error: 18.1255\n",
      "Epoch 81/100\n",
      "1539/1539 [==============================] - 145s 94ms/step - loss: 340.0182 - mean_absolute_error: 12.9950 - root_mean_squared_error: 18.4396 - mean_absolute_percentage_error: 18.0822\n",
      "Epoch 82/100\n",
      "1539/1539 [==============================] - 172s 112ms/step - loss: 341.1744 - mean_absolute_error: 12.9990 - root_mean_squared_error: 18.4709 - mean_absolute_percentage_error: 18.0563\n",
      "Epoch 83/100\n",
      "1539/1539 [==============================] - 173s 112ms/step - loss: 339.0863 - mean_absolute_error: 12.9919 - root_mean_squared_error: 18.4143 - mean_absolute_percentage_error: 18.1389\n",
      "Epoch 84/100\n",
      "1539/1539 [==============================] - 172s 112ms/step - loss: 336.5285 - mean_absolute_error: 12.9291 - root_mean_squared_error: 18.3447 - mean_absolute_percentage_error: 17.9541\n",
      "Epoch 85/100\n",
      "1539/1539 [==============================] - 173s 113ms/step - loss: 338.6671 - mean_absolute_error: 12.9699 - root_mean_squared_error: 18.4029 - mean_absolute_percentage_error: 18.0660\n",
      "Epoch 86/100\n",
      "1539/1539 [==============================] - 173s 112ms/step - loss: 335.8787 - mean_absolute_error: 12.9233 - root_mean_squared_error: 18.3270 - mean_absolute_percentage_error: 18.0182\n",
      "Epoch 87/100\n",
      "1539/1539 [==============================] - 157s 102ms/step - loss: 333.4415 - mean_absolute_error: 12.8719 - root_mean_squared_error: 18.2604 - mean_absolute_percentage_error: 17.8862\n",
      "Epoch 88/100\n",
      "1539/1539 [==============================] - 172s 112ms/step - loss: 332.7245 - mean_absolute_error: 12.8598 - root_mean_squared_error: 18.2407 - mean_absolute_percentage_error: 17.8627\n",
      "Epoch 89/100\n",
      "1539/1539 [==============================] - 172s 112ms/step - loss: 330.6872 - mean_absolute_error: 12.8311 - root_mean_squared_error: 18.1848 - mean_absolute_percentage_error: 17.8559\n",
      "Epoch 90/100\n",
      "1539/1539 [==============================] - 173s 112ms/step - loss: 330.6013 - mean_absolute_error: 12.8115 - root_mean_squared_error: 18.1824 - mean_absolute_percentage_error: 17.8285\n",
      "Epoch 91/100\n",
      "1539/1539 [==============================] - 172s 112ms/step - loss: 327.8850 - mean_absolute_error: 12.7829 - root_mean_squared_error: 18.1076 - mean_absolute_percentage_error: 17.8170s - loss: 327.9527 - mean_absolute_error: 12.7847 - root_mean_squared_error: 18.1095 - mean_absolute\n",
      "Epoch 92/100\n",
      "1539/1539 [==============================] - 175s 114ms/step - loss: 328.5643 - mean_absolute_error: 12.7829 - root_mean_squared_error: 18.1263 - mean_absolute_percentage_error: 17.8031\n",
      "Epoch 93/100\n",
      "1539/1539 [==============================] - 162s 105ms/step - loss: 326.8362 - mean_absolute_error: 12.7782 - root_mean_squared_error: 18.0786 - mean_absolute_percentage_error: 17.7798\n",
      "Epoch 94/100\n",
      "1539/1539 [==============================] - 191s 124ms/step - loss: 324.9897 - mean_absolute_error: 12.7153 - root_mean_squared_error: 18.0275 - mean_absolute_percentage_error: 17.7077\n",
      "Epoch 95/100\n",
      "1539/1539 [==============================] - 197s 128ms/step - loss: 319.9146 - mean_absolute_error: 12.6305 - root_mean_squared_error: 17.8861 - mean_absolute_percentage_error: 17.6972\n",
      "Epoch 96/100\n",
      "1539/1539 [==============================] - 197s 128ms/step - loss: 322.5218 - mean_absolute_error: 12.6876 - root_mean_squared_error: 17.9589 - mean_absolute_percentage_error: 17.7212\n",
      "Epoch 97/100\n",
      "1539/1539 [==============================] - 197s 128ms/step - loss: 321.7252 - mean_absolute_error: 12.6653 - root_mean_squared_error: 17.9367 - mean_absolute_percentage_error: 17.6238\n",
      "Epoch 98/100\n",
      "1539/1539 [==============================] - 197s 128ms/step - loss: 318.9924 - mean_absolute_error: 12.6107 - root_mean_squared_error: 17.8604 - mean_absolute_percentage_error: 17.5164\n",
      "Epoch 99/100\n",
      "1539/1539 [==============================] - 197s 128ms/step - loss: 320.6826 - mean_absolute_error: 12.6670 - root_mean_squared_error: 17.9076 - mean_absolute_percentage_error: 17.6922\n",
      "Epoch 100/100\n",
      "1539/1539 [==============================] - 197s 128ms/step - loss: 318.0999 - mean_absolute_error: 12.6007 - root_mean_squared_error: 17.8354 - mean_absolute_percentage_error: 17.5176\n"
     ]
    },
    {
     "data": {
      "text/plain": [
       "<keras.callbacks.History at 0x29d4f961970>"
      ]
     },
     "execution_count": 54,
     "metadata": {},
     "output_type": "execute_result"
    }
   ],
   "source": [
    "model30.fit((Wt30, Wt30x, Xt30), yt30, \n",
    "            epochs = 100, \n",
    "            verbose = 1)"
   ]
  },
  {
   "cell_type": "code",
   "execution_count": 55,
   "metadata": {},
   "outputs": [
    {
     "name": "stdout",
     "output_type": "stream",
     "text": [
      "INFO:tensorflow:Assets written to: my_dir/6ai-Conv-LSTM-30\\assets\n"
     ]
    },
    {
     "name": "stderr",
     "output_type": "stream",
     "text": [
      "WARNING:absl:<keras.layers.recurrent.LSTMCell object at 0x0000029D65F2C970> has the same name 'LSTMCell' as a built-in Keras object. Consider renaming <class 'keras.layers.recurrent.LSTMCell'> to avoid naming conflicts when loading with `tf.keras.models.load_model`. If renaming is not possible, pass the object in the `custom_objects` parameter of the load function.\n",
      "WARNING:absl:<keras.layers.recurrent.LSTMCell object at 0x0000029D54613AF0> has the same name 'LSTMCell' as a built-in Keras object. Consider renaming <class 'keras.layers.recurrent.LSTMCell'> to avoid naming conflicts when loading with `tf.keras.models.load_model`. If renaming is not possible, pass the object in the `custom_objects` parameter of the load function.\n",
      "WARNING:absl:<keras.layers.recurrent.LSTMCell object at 0x0000029D4DCBA070> has the same name 'LSTMCell' as a built-in Keras object. Consider renaming <class 'keras.layers.recurrent.LSTMCell'> to avoid naming conflicts when loading with `tf.keras.models.load_model`. If renaming is not possible, pass the object in the `custom_objects` parameter of the load function.\n",
      "WARNING:absl:<keras.layers.recurrent.LSTMCell object at 0x0000029D471BEB20> has the same name 'LSTMCell' as a built-in Keras object. Consider renaming <class 'keras.layers.recurrent.LSTMCell'> to avoid naming conflicts when loading with `tf.keras.models.load_model`. If renaming is not possible, pass the object in the `custom_objects` parameter of the load function.\n",
      "WARNING:absl:<keras.layers.recurrent.LSTMCell object at 0x0000029D66048340> has the same name 'LSTMCell' as a built-in Keras object. Consider renaming <class 'keras.layers.recurrent.LSTMCell'> to avoid naming conflicts when loading with `tf.keras.models.load_model`. If renaming is not possible, pass the object in the `custom_objects` parameter of the load function.\n",
      "WARNING:absl:<keras.layers.recurrent.LSTMCell object at 0x0000029D65F97B20> has the same name 'LSTMCell' as a built-in Keras object. Consider renaming <class 'keras.layers.recurrent.LSTMCell'> to avoid naming conflicts when loading with `tf.keras.models.load_model`. If renaming is not possible, pass the object in the `custom_objects` parameter of the load function.\n"
     ]
    }
   ],
   "source": [
    "model30.save(\"my_dir/6ai-Conv-LSTM-30\")"
   ]
  },
  {
   "cell_type": "code",
   "execution_count": 56,
   "metadata": {},
   "outputs": [],
   "source": [
    "metrics30 = pd.DataFrame(model30.history.history)"
   ]
  },
  {
   "cell_type": "code",
   "execution_count": 57,
   "metadata": {},
   "outputs": [
    {
     "data": {
      "text/plain": [
       "<AxesSubplot:>"
      ]
     },
     "execution_count": 57,
     "metadata": {},
     "output_type": "execute_result"
    },
    {
     "data": {
      "image/png": "[encoded data removed]",
      "text/plain": [
       "<Figure size 432x288 with 1 Axes>"
      ]
     },
     "metadata": {
      "needs_background": "light"
     },
     "output_type": "display_data"
    }
   ],
   "source": [
    "metrics30[['loss']].plot()"
   ]
  },
  {
   "cell_type": "code",
   "execution_count": 40,
   "metadata": {},
   "outputs": [],
   "source": [
    "model30 = keras.models.load_model(\"my_dir/6ai-Conv-LSTM-30\")"
   ]
  },
  {
   "cell_type": "code",
   "execution_count": 41,
   "metadata": {},
   "outputs": [
    {
     "data": {
      "text/plain": [
       "array([[ 28.363724 ,  13.881647 ,  10.823495 ,  55.715374 ,  22.81417  ,\n",
       "          3.6711793],\n",
       "       [ 28.292479 ,  13.104168 ,  11.967885 ,  53.960796 ,  22.733671 ,\n",
       "          2.9356332],\n",
       "       [ 27.298342 ,  11.451973 ,  10.237592 ,  51.226223 ,  21.76978  ,\n",
       "          1.5266519],\n",
       "       ...,\n",
       "       [ 41.732975 ,  40.303524 ,  53.30251  , 114.12804  ,  53.944122 ,\n",
       "         20.610447 ],\n",
       "       [ 39.861378 ,  38.507885 ,  49.123234 , 106.81023  ,  52.185158 ,\n",
       "         15.901747 ],\n",
       "       [ 38.73129  ,  37.42284  ,  54.189045 , 105.63263  ,  47.827717 ,\n",
       "         15.014406 ]], dtype=float32)"
      ]
     },
     "execution_count": 41,
     "metadata": {},
     "output_type": "execute_result"
    }
   ],
   "source": [
    "model30.predict((Wv30, Wv30x, Xv30))"
   ]
  },
  {
   "cell_type": "markdown",
   "metadata": {},
   "source": [
    "### Evaluation on inverse_transform"
   ]
  },
  {
   "cell_type": "code",
   "execution_count": null,
   "metadata": {},
   "outputs": [],
   "source": [
    "test_predictions30 = model30.predict((Wv30, Wv30x, Xv30))\n",
    "\n",
    "\n",
    "MSE30 = mean_squared_error(yv30,test_predictions30)\n",
    "\n",
    "MAE30 = mean_absolute_error(yv30,test_predictions30)\n",
    "\n",
    "RMSE30 = np.sqrt(MSE30)\n",
    "\n",
    "MAPE30 = mean_absolute_percentage_error(yv30,test_predictions30)*100\n",
    "\n",
    "eval30 = [MSE30, MAE30, RMSE30, MAPE30]\n",
    "print(eval30)"
   ]
  },
  {
   "cell_type": "code",
   "execution_count": null,
   "metadata": {},
   "outputs": [],
   "source": [
    "GEH, count = ga.GEH(np.asarray(yv30), np.asarray(test_predictions30))\n",
    "GEH30 = count/GEH.size\n",
    "print(GEH30)"
   ]
  },
  {
   "cell_type": "markdown",
   "metadata": {},
   "source": [
    "# 60 mins ahead"
   ]
  },
  {
   "cell_type": "code",
   "execution_count": 44,
   "metadata": {},
   "outputs": [],
   "source": [
    "def build_model_60(hp):\n",
    "    # Inputs\n",
    "    channel_Wide = keras.layers.Input(shape=Wide_train_60.shape[1:], name=\"wide_week\")\n",
    "    channel_Widex = keras.layers.Input(shape=Wide_train_60_day.shape[1:], name=\"wide_day\")\n",
    "    channel_Deep = keras.layers.Input(shape=Xt60.shape[1:], name=\"deep_input\")\n",
    "    \n",
    "    # Wide Model\n",
    "    Wide_60 = keras.layers.Bidirectional(\n",
    "        keras.layers.LSTM(units=hp.Int(\"wide_week_LSTM\", min_value=1, max_value=100, step=1), \n",
    "                                activation='relu'))(channel_Wide)\n",
    "    \n",
    "    Wide_60x = keras.layers.Bidirectional(\n",
    "        keras.layers.LSTM(units=hp.Int(\"wide_day_LSTM\", min_value=1, max_value=100, step=1), \n",
    "                                activation='relu'))(channel_Widex)\n",
    "    \n",
    "    # Deep Model\n",
    "    # CNN \n",
    "    CNN_60a = keras.layers.TimeDistributed(\n",
    "        keras.layers.Conv2D(filters=hp.Int(\"filters\", min_value=32, max_value=512, step=32),\n",
    "                            kernel_size=hp.Choice(\"kernel_size\", [2, 3]), activation='relu'))(channel_Deep)\n",
    "    CNN_60b = keras.layers.TimeDistributed(\n",
    "        keras.layers.Conv2D(filters=hp.Int(\"filters\", min_value=32, max_value=512, step=32),\n",
    "                            kernel_size=hp.Choice(\"kernel_size\", [2, 3]), activation='relu'))(CNN_60a)\n",
    "    flatten_60 = keras.layers.TimeDistributed(keras.layers.Flatten())(CNN_60b)\n",
    "    # LSTM          \n",
    "    LSTM_60a = keras.layers.LSTM(units=hp.Int(\"units_LSTM\", min_value=1, max_value=100, step=1), \n",
    "                                activation='relu', return_sequences=True)(flatten_60)\n",
    "    LSTM_60b = keras.layers.LSTM(units=hp.Int(\"units_LSTM\", min_value=1, max_value=100, step=1), \n",
    "                                activation='relu', return_sequences=True)(LSTM_60a)\n",
    "    Att_60 = SeqSelfAttention(attention_activation='tanh')(LSTM_60b)\n",
    "    Reshaped_60 = keras.layers.Flatten()(Att_60)\n",
    "    \n",
    "    # Concatenation \n",
    "    concat = keras.layers.concatenate([Wide_60, Wide_60x, Reshaped_60])\n",
    "    \n",
    "    # Output\n",
    "    output = keras.layers.Dense(n_features, name= \"output\")(concat)\n",
    "    \n",
    "    # Model\n",
    "    model_60 = keras.Model(inputs=[channel_Wide, channel_Widex, channel_Deep], outputs=[output])\n",
    "\n",
    "    # Compile\n",
    "    model_60.compile(optimizer=keras.optimizers.Adam(hp.Choice(\"learning_rate\", [1e-2, 1e-3, 1e-4])), \n",
    "        loss='mse',metrics=['MeanAbsoluteError','RootMeanSquaredError','MeanAbsolutePercentageError'])\n",
    "                    \n",
    "    return model_60"
   ]
  },
  {
   "cell_type": "code",
   "execution_count": 45,
   "metadata": {},
   "outputs": [
    {
     "name": "stdout",
     "output_type": "stream",
     "text": [
      "INFO:tensorflow:Reloading Oracle from existing project C:\\RunsOak\\6ai-Conv-LSTM-60\\oracle.json\n",
      "INFO:tensorflow:Reloading Tuner from C:\\RunsOak\\6ai-Conv-LSTM-60\\tuner0.json\n"
     ]
    }
   ],
   "source": [
    "tuner60 = RandomSearch(\n",
    "    build_model_60,\n",
    "    objective=\"val_loss\",\n",
    "    max_trials=30,\n",
    "    executions_per_trial=2,\n",
    "    overwrite=False,\n",
    "    directory=os.path.normpath('C:/RunsOak'),\n",
    "    project_name=\"6ai-Conv-LSTM-60\",\n",
    ")"
   ]
  },
  {
   "cell_type": "code",
   "execution_count": 46,
   "metadata": {},
   "outputs": [
    {
     "name": "stdout",
     "output_type": "stream",
     "text": [
      "Search space summary\n",
      "Default search space size: 6\n",
      "wide_week_LSTM (Int)\n",
      "{'default': None, 'conditions': [], 'min_value': 1, 'max_value': 100, 'step': 1, 'sampling': None}\n",
      "wide_day_LSTM (Int)\n",
      "{'default': None, 'conditions': [], 'min_value': 1, 'max_value': 100, 'step': 1, 'sampling': None}\n",
      "filters (Int)\n",
      "{'default': None, 'conditions': [], 'min_value': 32, 'max_value': 512, 'step': 32, 'sampling': None}\n",
      "kernel_size (Choice)\n",
      "{'default': 2, 'conditions': [], 'values': [2, 3], 'ordered': True}\n",
      "units_LSTM (Int)\n",
      "{'default': None, 'conditions': [], 'min_value': 1, 'max_value': 100, 'step': 1, 'sampling': None}\n",
      "learning_rate (Choice)\n",
      "{'default': 0.01, 'conditions': [], 'values': [0.01, 0.001, 0.0001], 'ordered': True}\n"
     ]
    }
   ],
   "source": [
    "tuner60.search_space_summary()"
   ]
  },
  {
   "cell_type": "code",
   "execution_count": 47,
   "metadata": {},
   "outputs": [
    {
     "name": "stdout",
     "output_type": "stream",
     "text": [
      "Trial 31 Complete [00h 14m 18s]\n",
      "val_loss: 579.5111694335938\n",
      "\n",
      "Best val_loss So Far: 559.1917724609375\n",
      "Total elapsed time: 04h 51m 54s\n",
      "INFO:tensorflow:Oracle triggered exit\n"
     ]
    }
   ],
   "source": [
    "tuner60.search((Wt60, Wt60x, Xt60), yt60, epochs=200,\n",
    "            validation_split = val_percent,\n",
    "            callbacks=[early_stop],\n",
    "            verbose=2)"
   ]
  },
  {
   "cell_type": "code",
   "execution_count": 48,
   "metadata": {},
   "outputs": [
    {
     "name": "stdout",
     "output_type": "stream",
     "text": [
      "Results summary\n",
      "Results in C:\\RunsOak\\6ai-Conv-LSTM-60\n",
      "Showing 1 best trials\n",
      "Objective(name='val_loss', direction='min')\n",
      "Trial summary\n",
      "Hyperparameters:\n",
      "wide_week_LSTM: 76\n",
      "wide_day_LSTM: 76\n",
      "filters: 256\n",
      "kernel_size: 2\n",
      "units_LSTM: 52\n",
      "learning_rate: 0.001\n",
      "Score: 559.1917724609375\n"
     ]
    }
   ],
   "source": [
    "tuner60.results_summary(1)"
   ]
  },
  {
   "cell_type": "markdown",
   "metadata": {},
   "source": [
    "### Best model"
   ]
  },
  {
   "cell_type": "code",
   "execution_count": 49,
   "metadata": {},
   "outputs": [],
   "source": [
    "best_hp60 = tuner60.get_best_hyperparameters()[0]\n",
    "model60 = tuner60.hypermodel.build(best_hp60)"
   ]
  },
  {
   "cell_type": "code",
   "execution_count": 50,
   "metadata": {},
   "outputs": [
    {
     "data": {
      "text/plain": [
       "['Best_HP/6ai-Conv-LSTM-60']"
      ]
     },
     "execution_count": 50,
     "metadata": {},
     "output_type": "execute_result"
    }
   ],
   "source": [
    "scaler_filename = \"Best_HP/6ai-Conv-LSTM-60\"\n",
    "joblib.dump(best_hp60, scaler_filename) "
   ]
  },
  {
   "cell_type": "code",
   "execution_count": 51,
   "metadata": {},
   "outputs": [
    {
     "name": "stdout",
     "output_type": "stream",
     "text": [
      "Model: \"model_1\"\n",
      "__________________________________________________________________________________________________\n",
      " Layer (type)                   Output Shape         Param #     Connected to                     \n",
      "==================================================================================================\n",
      " deep_input (InputLayer)        [(None, 3, 5, 6, 1)  0           []                               \n",
      "                                ]                                                                 \n",
      "                                                                                                  \n",
      " time_distributed_3 (TimeDistri  (None, 3, 4, 5, 256  1280       ['deep_input[0][0]']             \n",
      " buted)                         )                                                                 \n",
      "                                                                                                  \n",
      " time_distributed_4 (TimeDistri  (None, 3, 3, 4, 256  262400     ['time_distributed_3[0][0]']     \n",
      " buted)                         )                                                                 \n",
      "                                                                                                  \n",
      " time_distributed_5 (TimeDistri  (None, 3, 3072)     0           ['time_distributed_4[0][0]']     \n",
      " buted)                                                                                           \n",
      "                                                                                                  \n",
      " lstm_6 (LSTM)                  (None, 3, 52)        650000      ['time_distributed_5[0][0]']     \n",
      "                                                                                                  \n",
      " lstm_7 (LSTM)                  (None, 3, 52)        21840       ['lstm_6[0][0]']                 \n",
      "                                                                                                  \n",
      " wide_week (InputLayer)         [(None, 1, 14)]      0           []                               \n",
      "                                                                                                  \n",
      " wide_day (InputLayer)          [(None, 1, 14)]      0           []                               \n",
      "                                                                                                  \n",
      " seq_self_attention_1 (SeqSelfA  (None, 3, 52)       3393        ['lstm_7[0][0]']                 \n",
      " ttention)                                                                                        \n",
      "                                                                                                  \n",
      " bidirectional_2 (Bidirectional  (None, 152)         55328       ['wide_week[0][0]']              \n",
      " )                                                                                                \n",
      "                                                                                                  \n",
      " bidirectional_3 (Bidirectional  (None, 152)         55328       ['wide_day[0][0]']               \n",
      " )                                                                                                \n",
      "                                                                                                  \n",
      " flatten_3 (Flatten)            (None, 156)          0           ['seq_self_attention_1[0][0]']   \n",
      "                                                                                                  \n",
      " concatenate_1 (Concatenate)    (None, 460)          0           ['bidirectional_2[0][0]',        \n",
      "                                                                  'bidirectional_3[0][0]',        \n",
      "                                                                  'flatten_3[0][0]']              \n",
      "                                                                                                  \n",
      " output (Dense)                 (None, 6)            2766        ['concatenate_1[0][0]']          \n",
      "                                                                                                  \n",
      "==================================================================================================\n",
      "Total params: 1,052,335\n",
      "Trainable params: 1,052,335\n",
      "Non-trainable params: 0\n",
      "__________________________________________________________________________________________________\n"
     ]
    }
   ],
   "source": [
    "model60.summary()"
   ]
  },
  {
   "cell_type": "code",
   "execution_count": 52,
   "metadata": {},
   "outputs": [
    {
     "name": "stdout",
     "output_type": "stream",
     "text": [
      "Epoch 1/100\n",
      "1539/1539 [==============================] - 33s 19ms/step - loss: 1590.1169 - mean_absolute_error: 26.0389 - root_mean_squared_error: 39.8763 - mean_absolute_percentage_error: 45.9580\n",
      "Epoch 2/100\n",
      "1539/1539 [==============================] - 29s 19ms/step - loss: 763.9865 - mean_absolute_error: 19.4041 - root_mean_squared_error: 27.6403 - mean_absolute_percentage_error: 28.9039 9s - loss: 775.3289 - mea - ETA: 3s - loss: 771.7127 - mean_absolute_error: 19.4938 - root_mean_squared_error: \n",
      "Epoch 3/100\n",
      "1539/1539 [==============================] - 29s 19ms/step - loss: 692.1244 - mean_absolute_error: 18.5393 - root_mean_squared_error: 26.3083 - mean_absolute_percentage_error: 27.6493\n",
      "Epoch 4/100\n",
      "1539/1539 [==============================] - 29s 19ms/step - loss: 668.7781 - mean_absolute_error: 18.1967 - root_mean_squared_error: 25.8607 - mean_absolute_percentage_error: 26.6563 7s - los\n",
      "Epoch 5/100\n",
      "1539/1539 [==============================] - 29s 19ms/step - loss: 645.6219 - mean_absolute_error: 17.8510 - root_mean_squared_error: 25.4091 - mean_absolute_percentage_error: 26.1845\n",
      "Epoch 6/100\n",
      "1539/1539 [==============================] - 29s 19ms/step - loss: 623.0635 - mean_absolute_error: 17.4890 - root_mean_squared_error: 24.9613 - mean_absolute_percentage_error: 25.5515\n",
      "Epoch 7/100\n",
      "1539/1539 [==============================] - 29s 19ms/step - loss: 605.6270 - mean_absolute_error: 17.2212 - root_mean_squared_error: 24.6095 - mean_absolute_percentage_error: 25.0949\n",
      "Epoch 8/100\n",
      "1539/1539 [==============================] - 29s 19ms/step - loss: 593.3568 - mean_absolute_error: 17.0315 - root_mean_squared_error: 24.3589 - mean_absolute_percentage_error: 24.8290 2s - loss: 595.6083 - mean_absolute_error: 17.0586 - root_mean_squared_error: 24.405\n",
      "Epoch 9/100\n",
      "1539/1539 [==============================] - 29s 19ms/step - loss: 581.2577 - mean_absolute_error: 16.8598 - root_mean_squared_error: 24.1093 - mean_absolute_percentage_error: 24.5393 6s - loss: 581.7292\n",
      "Epoch 10/100\n",
      "1539/1539 [==============================] - 29s 19ms/step - loss: 571.7361 - mean_absolute_error: 16.7103 - root_mean_squared_error: 23.9110 - mean_absolute_percentage_error: 24.3232 3s - loss: 575.2602 - mean_absolute_error: 16.7568 - root_mean_squar\n",
      "Epoch 11/100\n",
      "1539/1539 [==============================] - 29s 19ms/step - loss: 565.2363 - mean_absolute_error: 16.6284 - root_mean_squared_error: 23.7747 - mean_absolute_percentage_error: 24.2591\n",
      "Epoch 12/100\n",
      "1539/1539 [==============================] - 29s 19ms/step - loss: 558.9456 - mean_absolute_error: 16.5294 - root_mean_squared_error: 23.6420 - mean_absolute_percentage_error: 24.0689 0s - loss: 558.8837 - mean_absolute_error: 16.5254 - root_mean_squared_error: 23.6407 - mean_absolute_percentage_e\n",
      "Epoch 13/100\n",
      "1539/1539 [==============================] - 29s 19ms/step - loss: 551.6801 - mean_absolute_error: 16.4031 - root_mean_squared_error: 23.4879 - mean_absolute_percentage_error: 23.9095\n",
      "Epoch 14/100\n",
      "1539/1539 [==============================] - 29s 19ms/step - loss: 545.1808 - mean_absolute_error: 16.3220 - root_mean_squared_error: 23.3491 - mean_absolute_percentage_error: 23.6898\n",
      "Epoch 15/100\n",
      "1539/1539 [==============================] - 29s 19ms/step - loss: 540.6262 - mean_absolute_error: 16.2597 - root_mean_squared_error: 23.2514 - mean_absolute_percentage_error: 23.6747\n",
      "Epoch 16/100\n",
      "1539/1539 [==============================] - 29s 19ms/step - loss: 534.9116 - mean_absolute_error: 16.1689 - root_mean_squared_error: 23.1282 - mean_absolute_percentage_error: 23.4993\n",
      "Epoch 17/100\n",
      "1539/1539 [==============================] - 29s 19ms/step - loss: 531.8879 - mean_absolute_error: 16.1269 - root_mean_squared_error: 23.0627 - mean_absolute_percentage_error: 23.4944 1s - loss: 531.9892 - mean_absolute_error: 16.1258 - root_mean_squared_error: 23.0649 - mean_absolute_p\n",
      "Epoch 18/100\n",
      "1539/1539 [==============================] - 29s 19ms/step - loss: 526.6578 - mean_absolute_error: 16.0507 - root_mean_squared_error: 22.9490 - mean_absolute_percentage_error: 23.3904 19s - loss: 532.5761 - mean_absolute_erro - ETA: 4s - loss: 527.7160 - mean_absolute_error: 16.0783 - root_mean_squared_error: 22.9721 - mean - ETA: 2s - loss: 526.7430 - mean_absolute_error: 16.0572 - root_mean_squared_error: 22.9509 - mean_absolute_percent - ETA: 0s - loss: 526.2741 - mean_absolute_error: 16.0540 - root_mean_squared_error: 22.9407 - mean_absolute_percentage\n",
      "Epoch 19/100\n",
      "1539/1539 [==============================] - 29s 19ms/step - loss: 523.7229 - mean_absolute_error: 15.9873 - root_mean_squared_error: 22.8850 - mean_absolute_percentage_error: 23.2249 16s - loss: 524.040 - ETA: 7s - loss:\n",
      "Epoch 20/100\n",
      "1539/1539 [==============================] - 29s 19ms/step - loss: 518.2642 - mean_absolute_error: 15.9363 - root_mean_squared_error: 22.7654 - mean_absolute_percentage_error: 23.2394\n",
      "Epoch 21/100\n",
      "1539/1539 [==============================] - 29s 19ms/step - loss: 514.9952 - mean_absolute_error: 15.8867 - root_mean_squared_error: 22.6935 - mean_absolute_percentage_error: 23.1551\n",
      "Epoch 22/100\n",
      "1539/1539 [==============================] - 29s 19ms/step - loss: 512.1553 - mean_absolute_error: 15.8501 - root_mean_squared_error: 22.6308 - mean_absolute_percentage_error: 23.0668\n",
      "Epoch 23/100\n",
      "1539/1539 [==============================] - 29s 19ms/step - loss: 506.8529 - mean_absolute_error: 15.7671 - root_mean_squared_error: 22.5134 - mean_absolute_percentage_error: 23.0409 5s - loss: 504.3460 - mean_absolute_error: 15\n",
      "Epoch 24/100\n",
      "1539/1539 [==============================] - 29s 19ms/step - loss: 503.8125 - mean_absolute_error: 15.7268 - root_mean_squared_error: 22.4458 - mean_absolute_percentage_error: 22.9111 4s - loss: 506.4713 - mean_absolute_error: 15.7672 - root_mean\n",
      "Epoch 25/100\n",
      "1539/1539 [==============================] - 29s 19ms/step - loss: 501.1231 - mean_absolute_error: 15.6742 - root_mean_squared_error: 22.3858 - mean_absolute_percentage_error: 22.7236 0s - loss: 501.2077 - mean_absolute_error: 15.6758 - root_mean_squared_error: 22.3877 - mean_absolute_percentage_er\n",
      "Epoch 26/100\n",
      "1539/1539 [==============================] - 29s 19ms/step - loss: 498.6180 - mean_absolute_error: 15.6559 - root_mean_squared_error: 22.3298 - mean_absolute_percentage_error: 22.7410 0s - loss: 498.8213 - mean_absolute_error: 15.6578 - root_mean_squared_error: 22.3343 - mean_absolute_percentage_error: 2\n",
      "Epoch 27/100\n",
      "1539/1539 [==============================] - 29s 19ms/step - loss: 494.4107 - mean_absolute_error: 15.5948 - root_mean_squared_error: 22.2354 - mean_absolute_percentage_error: 22.6168\n",
      "Epoch 28/100\n",
      "1539/1539 [==============================] - 29s 19ms/step - loss: 490.8246 - mean_absolute_error: 15.5387 - root_mean_squared_error: 22.1546 - mean_absolute_percentage_error: 22.6506\n",
      "Epoch 29/100\n",
      "1539/1539 [==============================] - 29s 19ms/step - loss: 487.4069 - mean_absolute_error: 15.4927 - root_mean_squared_error: 22.0773 - mean_absolute_percentage_error: 22.5273 5s - loss: 486.7865 - mean_absolute_error: \n",
      "Epoch 30/100\n",
      "1539/1539 [==============================] - 29s 19ms/step - loss: 484.4411 - mean_absolute_error: 15.4644 - root_mean_squared_error: 22.0100 - mean_absolute_percentage_error: 22.4852\n",
      "Epoch 31/100\n",
      "1539/1539 [==============================] - 29s 19ms/step - loss: 481.9163 - mean_absolute_error: 15.3954 - root_mean_squared_error: 21.9526 - mean_absolute_percentage_error: 22.2776 2s - loss: 481.4250 - mean_absolute_error: 15.3868 - root_mean_squared_error: 21.9414 - mean_absolute_percen - ETA: 0s - loss: 481.5311 - mean_absolute_error: 15.3863 - root_mean_squared_error: 21.9438 - mean_absolute_percentage\n",
      "Epoch 32/100\n",
      "1539/1539 [==============================] - 29s 19ms/step - loss: 476.9492 - mean_absolute_error: 15.3120 - root_mean_squared_error: 21.8392 - mean_absolute_percentage_error: 22.1218\n",
      "Epoch 33/100\n",
      "1539/1539 [==============================] - 29s 19ms/step - loss: 474.4670 - mean_absolute_error: 15.2795 - root_mean_squared_error: 21.7823 - mean_absolute_percentage_error: 22.2026\n",
      "Epoch 34/100\n",
      "1539/1539 [==============================] - 29s 19ms/step - loss: 474.0097 - mean_absolute_error: 15.2843 - root_mean_squared_error: 21.7718 - mean_absolute_percentage_error: 22.2663\n",
      "Epoch 35/100\n",
      "1539/1539 [==============================] - 29s 19ms/step - loss: 469.3260 - mean_absolute_error: 15.2186 - root_mean_squared_error: 21.6639 - mean_absolute_percentage_error: 22.1224 11s - loss: 470. - ETA: 6s - loss: 469.6510 - mean\n",
      "Epoch 36/100\n",
      "1539/1539 [==============================] - 29s 19ms/step - loss: 464.5219 - mean_absolute_error: 15.1447 - root_mean_squared_error: 21.5528 - mean_absolute_percentage_error: 21.9761\n",
      "Epoch 37/100\n",
      "1539/1539 [==============================] - 29s 19ms/step - loss: 462.2528 - mean_absolute_error: 15.1194 - root_mean_squared_error: 21.5001 - mean_absolute_percentage_error: 21.9933 10s - loss: 462.3250 - mean_absolute_error: 15.1 - ETA: 5s - loss: 460.8443 - mean_absolu\n",
      "Epoch 38/100\n",
      "1539/1539 [==============================] - 29s 19ms/step - loss: 460.9624 - mean_absolute_error: 15.1020 - root_mean_squared_error: 21.4700 - mean_absolute_percentage_error: 21.9538 5s - loss: 460.7838 - mean_absolute_er\n",
      "Epoch 39/100\n",
      "1539/1539 [==============================] - 28s 19ms/step - loss: 457.2175 - mean_absolute_error: 15.0267 - root_mean_squared_error: 21.3827 - mean_absolute_percentage_error: 21.8414\n",
      "Epoch 40/100\n",
      "1539/1539 [==============================] - 29s 19ms/step - loss: 454.2484 - mean_absolute_error: 14.9863 - root_mean_squared_error: 21.3131 - mean_absolute_percentage_error: 21.6436\n",
      "Epoch 41/100\n",
      "1539/1539 [==============================] - 29s 19ms/step - loss: 451.1790 - mean_absolute_error: 14.9347 - root_mean_squared_error: 21.2410 - mean_absolute_percentage_error: 21.7211 0s - loss: 451.0399 - mean_absolute_error: 14.9314 - root_mean_squared_error: 21.2377 - mean_absolute_percentage_error: 2\n",
      "Epoch 42/100\n",
      "1539/1539 [==============================] - 28s 18ms/step - loss: 448.2690 - mean_absolute_error: 14.8976 - root_mean_squared_error: 21.1724 - mean_absolute_percentage_error: 21.6307\n",
      "Epoch 43/100\n",
      "1539/1539 [==============================] - 28s 18ms/step - loss: 446.9200 - mean_absolute_error: 14.8747 - root_mean_squared_error: 21.1405 - mean_absolute_percentage_error: 21.6161\n",
      "Epoch 44/100\n",
      "1539/1539 [==============================] - 29s 19ms/step - loss: 441.2757 - mean_absolute_error: 14.7835 - root_mean_squared_error: 21.0066 - mean_absolute_percentage_error: 21.4429\n",
      "Epoch 45/100\n",
      "1539/1539 [==============================] - 29s 19ms/step - loss: 438.4199 - mean_absolute_error: 14.7478 - root_mean_squared_error: 20.9385 - mean_absolute_percentage_error: 21.3659\n",
      "Epoch 46/100\n",
      "1539/1539 [==============================] - 29s 19ms/step - loss: 437.2445 - mean_absolute_error: 14.7355 - root_mean_squared_error: 20.9104 - mean_absolute_percentage_error: 21.3260\n",
      "Epoch 47/100\n",
      "1539/1539 [==============================] - 28s 18ms/step - loss: 434.3257 - mean_absolute_error: 14.6760 - root_mean_squared_error: 20.8405 - mean_absolute_percentage_error: 21.2652\n",
      "Epoch 48/100\n",
      "1539/1539 [==============================] - 29s 19ms/step - loss: 431.9214 - mean_absolute_error: 14.6571 - root_mean_squared_error: 20.7827 - mean_absolute_percentage_error: 21.2640\n",
      "Epoch 49/100\n",
      "1539/1539 [==============================] - 28s 18ms/step - loss: 429.2490 - mean_absolute_error: 14.5998 - root_mean_squared_error: 20.7183 - mean_absolute_percentage_error: 21.2277 7s - loss: 427.\n",
      "Epoch 50/100\n",
      "1539/1539 [==============================] - 28s 18ms/step - loss: 426.8661 - mean_absolute_error: 14.5666 - root_mean_squared_error: 20.6607 - mean_absolute_percentage_error: 21.1454\n",
      "Epoch 51/100\n",
      "1539/1539 [==============================] - 28s 18ms/step - loss: 422.8812 - mean_absolute_error: 14.5130 - root_mean_squared_error: 20.5641 - mean_absolute_percentage_error: 21.0114 8s - loss: 423.7727 - mean_absolute_error: 14.5200 - r - ETA: 4s - loss: 423.1977 - mean_absolute_error: 14.5145 - root_mea\n",
      "Epoch 52/100\n",
      "1539/1539 [==============================] - 29s 19ms/step - loss: 419.1757 - mean_absolute_error: 14.4505 - root_mean_squared_error: 20.4738 - mean_absolute_percentage_error: 21.0069 1s - loss: 418.7277 - mean_absolute_error: 14.4397 - root_mean_squared_error: 20.4628 - mean_absolute_perce\n",
      "Epoch 53/100\n",
      "1539/1539 [==============================] - 28s 18ms/step - loss: 415.9091 - mean_absolute_error: 14.3987 - root_mean_squared_error: 20.3939 - mean_absolute_percentage_error: 20.8807\n",
      "Epoch 54/100\n",
      "1539/1539 [==============================] - 28s 19ms/step - loss: 413.0676 - mean_absolute_error: 14.3479 - root_mean_squared_error: 20.3241 - mean_absolute_percentage_error: 20.7886 16s - loss: 40 - ETA: 13s \n",
      "Epoch 55/100\n",
      "1539/1539 [==============================] - 29s 19ms/step - loss: 411.1523 - mean_absolute_error: 14.3287 - root_mean_squared_error: 20.2769 - mean_absolute_percentage_error: 20.7958 4s - loss: 410.8656 - mean_absolute_error: 14.3192 - root_mean\n",
      "Epoch 56/100\n",
      "1539/1539 [==============================] - 29s 19ms/step - loss: 406.7162 - mean_absolute_error: 14.2469 - root_mean_squared_error: 20.1672 - mean_absolute_percentage_error: 20.6206 0s - loss: 406.9909 - mean_absolute_error: 14.2467 - root_mean_squared_error: 20.1740 - mean_absolute_percentag\n",
      "Epoch 57/100\n",
      "1539/1539 [==============================] - 29s 19ms/step - loss: 406.6936 - mean_absolute_error: 14.2451 - root_mean_squared_error: 20.1666 - mean_absolute_percentage_error: 20.7009 8s - loss: 402.3008 - mean_absolute_error: 14.1706 - root_mean_squared_error: 20.0574 - mean_absolu - ETA: 7s - loss: 404.\n",
      "Epoch 58/100\n",
      "1539/1539 [==============================] - 29s 19ms/step - loss: 402.0254 - mean_absolute_error: 14.1780 - root_mean_squared_error: 20.0506 - mean_absolute_percentage_error: 20.6063\n",
      "Epoch 59/100\n",
      "1539/1539 [==============================] - 29s 19ms/step - loss: 398.9451 - mean_absolute_error: 14.1386 - root_mean_squared_error: 19.9736 - mean_absolute_percentage_error: 20.6147\n",
      "Epoch 60/100\n",
      "1539/1539 [==============================] - 29s 19ms/step - loss: 395.1742 - mean_absolute_error: 14.0710 - root_mean_squared_error: 19.8790 - mean_absolute_percentage_error: 20.4667 1s - loss: 394.7460 - mean_absolute_error: 14.0589 - root_mean_squared_error: 19.8682 - mean_absolute_perce\n",
      "Epoch 61/100\n",
      "1539/1539 [==============================] - 29s 19ms/step - loss: 392.6257 - mean_absolute_error: 14.0292 - root_mean_squared_error: 19.8148 - mean_absolute_percentage_error: 20.4283 6s - loss: 393.0419 - mean_absol\n",
      "Epoch 62/100\n",
      "1539/1539 [==============================] - 29s 19ms/step - loss: 390.5397 - mean_absolute_error: 13.9933 - root_mean_squared_error: 19.7621 - mean_absolute_percentage_error: 20.3755 3s - loss: 390.5020 - mean_absolute_error: 13.9847 - root_mean_squared_error:\n",
      "Epoch 63/100\n",
      "1539/1539 [==============================] - 29s 19ms/step - loss: 388.2621 - mean_absolute_error: 13.9719 - root_mean_squared_error: 19.7044 - mean_absolute_percentage_error: 20.3223\n",
      "Epoch 64/100\n",
      "1539/1539 [==============================] - 28s 19ms/step - loss: 388.6514 - mean_absolute_error: 13.9637 - root_mean_squared_error: 19.7142 - mean_absolute_percentage_error: 20.3171\n",
      "Epoch 65/100\n",
      "1539/1539 [==============================] - 29s 19ms/step - loss: 384.0768 - mean_absolute_error: 13.9039 - root_mean_squared_error: 19.5979 - mean_absolute_percentage_error: 20.2696 8s - loss: 384.3135 - mean_absolute_error: 13.9162 - root_mean_squared_error: 19.6039 - mean_absolute_percentage_err - ETA: 7s - loss: 3\n",
      "Epoch 66/100\n",
      "1539/1539 [==============================] - 29s 19ms/step - loss: 379.5804 - mean_absolute_error: 13.8192 - root_mean_squared_error: 19.4828 - mean_absolute_percentage_error: 20.0949\n",
      "Epoch 67/100\n",
      "1539/1539 [==============================] - 29s 19ms/step - loss: 376.7697 - mean_absolute_error: 13.7827 - root_mean_squared_error: 19.4106 - mean_absolute_percentage_error: 20.0806 6s - loss: 374.5097 - mean_absolute_error: 13.7353 - root_mea - ETA: 2s - loss: 375.4081 - mean_absolute_error: 13.7576 - root_mean_squared_error: 19.3755 - me\n",
      "Epoch 68/100\n"
     ]
    },
    {
     "name": "stdout",
     "output_type": "stream",
     "text": [
      "1539/1539 [==============================] - 28s 18ms/step - loss: 373.6651 - mean_absolute_error: 13.7197 - root_mean_squared_error: 19.3304 - mean_absolute_percentage_error: 20.0043\n",
      "Epoch 69/100\n",
      "1539/1539 [==============================] - 29s 19ms/step - loss: 371.7996 - mean_absolute_error: 13.6830 - root_mean_squared_error: 19.2821 - mean_absolute_percentage_error: 19.9733 4s - loss: 372.6003 - mean_absolute_error: 13.6847 - r\n",
      "Epoch 70/100\n",
      "1539/1539 [==============================] - 29s 19ms/step - loss: 371.8468 - mean_absolute_error: 13.6892 - root_mean_squared_error: 19.2833 - mean_absolute_percentage_error: 19.9594 12s - loss: 373.41 - ETA: 8s - loss: 372.6462 - mean_absolute_error: 13.7005 - root_mean_squared_error:  - ETA: 5s - loss: 372.5997 - mean_absolute_error\n",
      "Epoch 71/100\n",
      "1539/1539 [==============================] - 29s 19ms/step - loss: 366.1392 - mean_absolute_error: 13.5997 - root_mean_squared_error: 19.1347 - mean_absolute_percentage_error: 19.8407\n",
      "Epoch 72/100\n",
      "1539/1539 [==============================] - 29s 19ms/step - loss: 364.4828 - mean_absolute_error: 13.5699 - root_mean_squared_error: 19.0914 - mean_absolute_percentage_error: 19.7926 1s - loss: 363.6574 - mean_absolute_error: 13.5534 - root_mean_squared_error: 19.0698 - mean_abso\n",
      "Epoch 73/100\n",
      "1539/1539 [==============================] - 29s 19ms/step - loss: 361.1964 - mean_absolute_error: 13.5209 - root_mean_squared_error: 19.0052 - mean_absolute_percentage_error: 19.7757\n",
      "Epoch 74/100\n",
      "1539/1539 [==============================] - 29s 19ms/step - loss: 359.2927 - mean_absolute_error: 13.4819 - root_mean_squared_error: 18.9550 - mean_absolute_percentage_error: 19.7238\n",
      "Epoch 75/100\n",
      "1539/1539 [==============================] - 28s 18ms/step - loss: 357.2581 - mean_absolute_error: 13.4646 - root_mean_squared_error: 18.9013 - mean_absolute_percentage_error: 19.7746\n",
      "Epoch 76/100\n",
      "1539/1539 [==============================] - 28s 18ms/step - loss: 355.2751 - mean_absolute_error: 13.4209 - root_mean_squared_error: 18.8488 - mean_absolute_percentage_error: 19.6959\n",
      "Epoch 77/100\n",
      "1539/1539 [==============================] - 29s 19ms/step - loss: 350.7554 - mean_absolute_error: 13.3460 - root_mean_squared_error: 18.7285 - mean_absolute_percentage_error: 19.5767\n",
      "Epoch 78/100\n",
      "1539/1539 [==============================] - 28s 18ms/step - loss: 349.6151 - mean_absolute_error: 13.3206 - root_mean_squared_error: 18.6980 - mean_absolute_percentage_error: 19.5106\n",
      "Epoch 79/100\n",
      "1539/1539 [==============================] - 28s 18ms/step - loss: 348.5143 - mean_absolute_error: 13.3097 - root_mean_squared_error: 18.6685 - mean_absolute_percentage_error: 19.5089\n",
      "Epoch 80/100\n",
      "1539/1539 [==============================] - 28s 18ms/step - loss: 346.7078 - mean_absolute_error: 13.2761 - root_mean_squared_error: 18.6201 - mean_absolute_percentage_error: 19.4970\n",
      "Epoch 81/100\n",
      "1539/1539 [==============================] - 29s 19ms/step - loss: 342.6768 - mean_absolute_error: 13.2140 - root_mean_squared_error: 18.5115 - mean_absolute_percentage_error: 19.4236\n",
      "Epoch 82/100\n",
      "1539/1539 [==============================] - 29s 19ms/step - loss: 339.8763 - mean_absolute_error: 13.1571 - root_mean_squared_error: 18.4357 - mean_absolute_percentage_error: 19.4244 0s - loss: 339.6944 - mean_absolute_error: 13.1520 - root_mean_squared_error: 18.4308 - mean_absolute_percentage_error: 1\n",
      "Epoch 83/100\n",
      "1539/1539 [==============================] - 29s 19ms/step - loss: 337.1574 - mean_absolute_error: 13.1180 - root_mean_squared_error: 18.3618 - mean_absolute_percentage_error: 19.3416\n",
      "Epoch 84/100\n",
      "1539/1539 [==============================] - 29s 19ms/step - loss: 335.0981 - mean_absolute_error: 13.0851 - root_mean_squared_error: 18.3057 - mean_absolute_percentage_error: 19.2675 0s - loss: 335.0648 - mean_absolute_error: 13.0831 - root_mean_squared_error: 18.3048 - mean_absolute_percentage_e\n",
      "Epoch 85/100\n",
      "1539/1539 [==============================] - 28s 18ms/step - loss: 333.5435 - mean_absolute_error: 13.0593 - root_mean_squared_error: 18.2632 - mean_absolute_percentage_error: 19.2799 1s - loss: 333.4214 - mean_absolute_error: 13.0569 - root_mean_squared_error: 18.2598 - mean_absolute_percenta - ETA: 0s - loss: 333.5341 - mean_absolute_error: 13.0571 - root_mean_squared_error: 18.2629 - mean_absolute_percentage_error: \n",
      "Epoch 86/100\n",
      "1539/1539 [==============================] - 29s 19ms/step - loss: 332.8633 - mean_absolute_error: 13.0391 - root_mean_squared_error: 18.2445 - mean_absolute_percentage_error: 19.3727 6s - loss: 331.0431 - mean_absolute_error: 13.0143 - root_mean_squared_e - ETA: 3s - loss: 333.1207 - mean_absolute_error: 13.0388 - root_mean_squared_erro\n",
      "Epoch 87/100\n",
      "1539/1539 [==============================] - 28s 18ms/step - loss: 330.4098 - mean_absolute_error: 12.9981 - root_mean_squared_error: 18.1772 - mean_absolute_percentage_error: 19.2252 5s - loss: 329.1711 - mean_absolute_error: 12.9774\n",
      "Epoch 88/100\n",
      "1539/1539 [==============================] - 28s 18ms/step - loss: 326.2088 - mean_absolute_error: 12.9242 - root_mean_squared_error: 18.0613 - mean_absolute_percentage_error: 19.1308 11s - loss: 321.8127 - mean_absolute_error: 12.8530 - root_mean_squared_error: 17. - ETA: 10s - loss: 321.9826 - mean_absolute_error: 12.8581 - root_me - ETA: 6s - loss: 323.4990 - \n",
      "Epoch 89/100\n",
      "1539/1539 [==============================] - 28s 19ms/step - loss: 327.4160 - mean_absolute_error: 12.9453 - root_mean_squared_error: 18.0946 - mean_absolute_percentage_error: 19.2064\n",
      "Epoch 90/100\n",
      "1539/1539 [==============================] - 29s 19ms/step - loss: 323.0461 - mean_absolute_error: 12.8555 - root_mean_squared_error: 17.9735 - mean_absolute_percentage_error: 19.0726 9s - loss: 320.7190 - mean_absolute_error: 12.7972 - root_mean_squared_error: 17.9086 - mean_absolute_percentage_\n",
      "Epoch 91/100\n",
      "1539/1539 [==============================] - 28s 19ms/step - loss: 319.3849 - mean_absolute_error: 12.7949 - root_mean_squared_error: 17.8713 - mean_absolute_percentage_error: 18.9881\n",
      "Epoch 92/100\n",
      "1539/1539 [==============================] - 28s 18ms/step - loss: 318.3907 - mean_absolute_error: 12.7801 - root_mean_squared_error: 17.8435 - mean_absolute_percentage_error: 19.0051\n",
      "Epoch 93/100\n",
      "1539/1539 [==============================] - 29s 19ms/step - loss: 318.8166 - mean_absolute_error: 12.7894 - root_mean_squared_error: 17.8554 - mean_absolute_percentage_error: 19.0832\n",
      "Epoch 94/100\n",
      "1539/1539 [==============================] - 29s 19ms/step - loss: 314.8578 - mean_absolute_error: 12.7128 - root_mean_squared_error: 17.7442 - mean_absolute_percentage_error: 18.8757 7s - l\n",
      "Epoch 95/100\n",
      "1539/1539 [==============================] - 29s 19ms/step - loss: 314.6667 - mean_absolute_error: 12.7172 - root_mean_squared_error: 17.7389 - mean_absolute_percentage_error: 18.9624\n",
      "Epoch 96/100\n",
      "1539/1539 [==============================] - 29s 19ms/step - loss: 312.6186 - mean_absolute_error: 12.6644 - root_mean_squared_error: 17.6810 - mean_absolute_percentage_error: 18.8937 \n",
      "Epoch 97/100\n",
      "1539/1539 [==============================] - 28s 19ms/step - loss: 311.2515 - mean_absolute_error: 12.6524 - root_mean_squared_error: 17.6423 - mean_absolute_percentage_error: 18.8169\n",
      "Epoch 98/100\n",
      "1539/1539 [==============================] - 29s 19ms/step - loss: 307.5018 - mean_absolute_error: 12.5761 - root_mean_squared_error: 17.5357 - mean_absolute_percentage_error: 18.8353 2s - loss: 306.2680 - mean_absolute_error: 12.5520 - root_mean_squared_error: 17.5005 - mean_absolu - ETA: 0s - loss: 307.1522 - mean_absolute_error: 12.5662 - root_mean_squared_error: 17.5258 - mean_absolute_percentage_\n",
      "Epoch 99/100\n",
      "1539/1539 [==============================] - 29s 19ms/step - loss: 306.1667 - mean_absolute_error: 12.5630 - root_mean_squared_error: 17.4976 - mean_absolute_percentage_error: 18.7448 13s - loss: 304.0915 - mean_abso - ETA: 2s - loss: 306.2159 - mean_absolute_error: 12.5638 - root_mean_squared_error: 17.4990 - mean_ab\n",
      "Epoch 100/100\n",
      "1539/1539 [==============================] - 29s 19ms/step - loss: 305.3506 - mean_absolute_error: 12.5387 - root_mean_squared_error: 17.4743 - mean_absolute_percentage_error: 18.7273 10s - loss: 303.7525 - mean_abso - ETA: 4s - loss: 304.9076 - mean_absolute_error: 12.5329 - roo\n"
     ]
    },
    {
     "data": {
      "text/plain": [
       "<keras.callbacks.History at 0x18ea26adc10>"
      ]
     },
     "execution_count": 52,
     "metadata": {},
     "output_type": "execute_result"
    }
   ],
   "source": [
    "model60.fit((Wt60, Wt60x, Xt60), yt60, \n",
    "            epochs = 100,\n",
    "            verbose = 1\n",
    "            )"
   ]
  },
  {
   "cell_type": "code",
   "execution_count": 53,
   "metadata": {},
   "outputs": [
    {
     "name": "stdout",
     "output_type": "stream",
     "text": [
      "INFO:tensorflow:Assets written to: my_dir/6ai-Conv-LSTM-60\\assets\n"
     ]
    },
    {
     "name": "stderr",
     "output_type": "stream",
     "text": [
      "WARNING:absl:<keras.layers.recurrent.LSTMCell object at 0x0000018EA26599D0> has the same name 'LSTMCell' as a built-in Keras object. Consider renaming <class 'keras.layers.recurrent.LSTMCell'> to avoid naming conflicts when loading with `tf.keras.models.load_model`. If renaming is not possible, pass the object in the `custom_objects` parameter of the load function.\n",
      "WARNING:absl:<keras.layers.recurrent.LSTMCell object at 0x0000018EA25F3C40> has the same name 'LSTMCell' as a built-in Keras object. Consider renaming <class 'keras.layers.recurrent.LSTMCell'> to avoid naming conflicts when loading with `tf.keras.models.load_model`. If renaming is not possible, pass the object in the `custom_objects` parameter of the load function.\n",
      "WARNING:absl:<keras.layers.recurrent.LSTMCell object at 0x0000018EE0243A90> has the same name 'LSTMCell' as a built-in Keras object. Consider renaming <class 'keras.layers.recurrent.LSTMCell'> to avoid naming conflicts when loading with `tf.keras.models.load_model`. If renaming is not possible, pass the object in the `custom_objects` parameter of the load function.\n",
      "WARNING:absl:<keras.layers.recurrent.LSTMCell object at 0x0000018EE0255520> has the same name 'LSTMCell' as a built-in Keras object. Consider renaming <class 'keras.layers.recurrent.LSTMCell'> to avoid naming conflicts when loading with `tf.keras.models.load_model`. If renaming is not possible, pass the object in the `custom_objects` parameter of the load function.\n",
      "WARNING:absl:<keras.layers.recurrent.LSTMCell object at 0x0000018EA27FB610> has the same name 'LSTMCell' as a built-in Keras object. Consider renaming <class 'keras.layers.recurrent.LSTMCell'> to avoid naming conflicts when loading with `tf.keras.models.load_model`. If renaming is not possible, pass the object in the `custom_objects` parameter of the load function.\n",
      "WARNING:absl:<keras.layers.recurrent.LSTMCell object at 0x0000018EA25B84F0> has the same name 'LSTMCell' as a built-in Keras object. Consider renaming <class 'keras.layers.recurrent.LSTMCell'> to avoid naming conflicts when loading with `tf.keras.models.load_model`. If renaming is not possible, pass the object in the `custom_objects` parameter of the load function.\n"
     ]
    }
   ],
   "source": [
    "model60.save(\"my_dir/6ai-Conv-LSTM-60\")"
   ]
  },
  {
   "cell_type": "code",
   "execution_count": 54,
   "metadata": {},
   "outputs": [],
   "source": [
    "metrics60 = pd.DataFrame(model60.history.history)"
   ]
  },
  {
   "cell_type": "code",
   "execution_count": 55,
   "metadata": {},
   "outputs": [
    {
     "data": {
      "text/plain": [
       "<AxesSubplot:>"
      ]
     },
     "execution_count": 55,
     "metadata": {},
     "output_type": "execute_result"
    },
    {
     "data": {
      "image/png": "[encoded data removed]",
      "text/plain": [
       "<Figure size 432x288 with 1 Axes>"
      ]
     },
     "metadata": {
      "needs_background": "light"
     },
     "output_type": "display_data"
    }
   ],
   "source": [
    "metrics60[['loss']].plot()"
   ]
  },
  {
   "cell_type": "code",
   "execution_count": 56,
   "metadata": {},
   "outputs": [],
   "source": [
    "model60 = keras.models.load_model(\"my_dir/6ai-Conv-LSTM-60\")"
   ]
  },
  {
   "cell_type": "code",
   "execution_count": 57,
   "metadata": {},
   "outputs": [
    {
     "data": {
      "text/plain": [
       "array([[ 28.278862 ,  12.364379 ,  10.276216 ,  56.546482 ,  29.607153 ,\n",
       "          2.7777977],\n",
       "       [ 27.70048  ,  11.60172  ,   8.453691 ,  55.8013   ,  30.14506  ,\n",
       "          2.6957703],\n",
       "       [ 28.817532 ,  13.362412 ,   9.871713 ,  58.61265  ,  30.107601 ,\n",
       "          3.9573326],\n",
       "       ...,\n",
       "       [ 41.080006 ,  37.90378  ,  51.26062  , 113.99451  ,  49.888058 ,\n",
       "         13.142097 ],\n",
       "       [ 40.86981  ,  38.288795 ,  45.231255 , 115.35764  ,  52.44448  ,\n",
       "          8.709003 ],\n",
       "       [ 41.643356 ,  38.14305  ,  52.06069  , 111.21376  ,  48.168083 ,\n",
       "          6.9562836]], dtype=float32)"
      ]
     },
     "execution_count": 57,
     "metadata": {},
     "output_type": "execute_result"
    }
   ],
   "source": [
    "model60.predict((Wv60, Wv60x, Xv60))"
   ]
  },
  {
   "cell_type": "markdown",
   "metadata": {},
   "source": [
    "### Evaluation on inverse_transform"
   ]
  },
  {
   "cell_type": "code",
   "execution_count": null,
   "metadata": {},
   "outputs": [],
   "source": [
    "test_predictions60 = model60.predict((Wv60, Wv60x, Xv60))\n",
    "\n",
    "\n",
    "MSE60 = mean_squared_error(yv60,test_predictions60)\n",
    "\n",
    "MAE60 = mean_absolute_error(yv60,test_predictions60)\n",
    "\n",
    "RMSE60 = np.sqrt(MSE60)\n",
    "\n",
    "MAPE60 = mean_absolute_percentage_error(yv60,test_predictions60)*100\n",
    "\n",
    "eval60 = [MSE60, MAE60, RMSE60, MAPE60]\n",
    "print(eval60)"
   ]
  },
  {
   "cell_type": "code",
   "execution_count": null,
   "metadata": {},
   "outputs": [],
   "source": [
    "GEH, count = ga.GEH(np.asarray(yv60), np.asarray(test_predictions60))\n",
    "GEH60 = count/GEH.size\n",
    "print(GEH60)"
   ]
  },
  {
   "cell_type": "markdown",
   "metadata": {},
   "source": [
    "# RESULTS"
   ]
  },
  {
   "cell_type": "markdown",
   "metadata": {},
   "source": [
    "## General results"
   ]
  },
  {
   "cell_type": "code",
   "execution_count": null,
   "metadata": {},
   "outputs": [],
   "source": [
    "l = ['MSE','MAE','RMSE','MAPE','Horizon']"
   ]
  },
  {
   "cell_type": "code",
   "execution_count": null,
   "metadata": {},
   "outputs": [],
   "source": [
    "eval5.append(5)\n",
    "eval15.append(15)\n",
    "eval30.append(30)\n",
    "eval60.append(60)"
   ]
  },
  {
   "cell_type": "code",
   "execution_count": null,
   "metadata": {},
   "outputs": [],
   "source": [
    "df = pd.DataFrame(np.array([eval5,eval15,eval30,eval60]),columns=l)\n",
    "df.set_index('Horizon')"
   ]
  },
  {
   "cell_type": "markdown",
   "metadata": {},
   "source": [
    "## GEH"
   ]
  },
  {
   "cell_type": "code",
   "execution_count": null,
   "metadata": {},
   "outputs": [],
   "source": [
    "n = [' 5 ',' 15 ',' 30 ',' 60 ']\n",
    "df2 = pd.DataFrame(np.array([[GEH5, GEH15, GEH30, GEH60]]), columns=n)\n",
    "print(df2)"
   ]
  }
 ],
 "metadata": {
  "kernelspec": {
   "display_name": "Python 3 (ipykernel)",
   "language": "python",
   "name": "python3"
  },
  "language_info": {
   "codemirror_mode": {
    "name": "ipython",
    "version": 3
   },
   "file_extension": ".py",
   "mimetype": "text/x-python",
   "name": "python",
   "nbconvert_exporter": "python",
   "pygments_lexer": "ipython3",
   "version": "3.11.5"
  }
 },
 "nbformat": 4,
 "nbformat_minor": 4
}
