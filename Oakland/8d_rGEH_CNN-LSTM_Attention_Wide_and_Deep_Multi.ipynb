{
 "cells": [
  {
   "cell_type": "code",
   "execution_count": 1,
   "metadata": {},
   "outputs": [],
   "source": [
    "import pandas as pd\n",
    "import numpy as np\n",
    "import matplotlib.pyplot as plt\n",
    "import seaborn as sns\n",
    "import joblib\n",
    "import os"
   ]
  },
  {
   "cell_type": "code",
   "execution_count": 2,
   "metadata": {},
   "outputs": [],
   "source": [
    "import keras_tuner as kt\n",
    "from keras_tuner import RandomSearch\n",
    "from GEH_LOSS import rGEH_loss\n",
    "import geh as ga"
   ]
  },
  {
   "cell_type": "code",
   "execution_count": 3,
   "metadata": {},
   "outputs": [],
   "source": [
    "from sklearn.metrics import mean_absolute_error,mean_squared_error,mean_absolute_percentage_error"
   ]
  },
  {
   "cell_type": "code",
   "execution_count": 4,
   "metadata": {},
   "outputs": [],
   "source": [
    "import relative_accuracy as ra"
   ]
  },
  {
   "cell_type": "code",
   "execution_count": 5,
   "metadata": {},
   "outputs": [],
   "source": [
    "# Load all Inputs and Output Data\n",
    "\n",
    "# 5 mins (1 step ahead)\n",
    "Deep_train_5   = np.load(\"Deep_train_5_multi.npz\")['x'] \n",
    "Output_train_5 = np.load(\"Deep_train_5_multi.npz\")['y']\n",
    "\n",
    "Deep_test_5   = np.load(\"Deep_test_5_multi.npz\")['x'] \n",
    "Output_test_5 = np.load(\"Deep_test_5_multi.npz\")['y'] \n",
    "\n",
    "# 15 mins (3 steps ahead)\n",
    "Deep_train_15   = np.load(\"Deep_train_15_multi.npz\")['x'] \n",
    "Output_train_15 = np.load(\"Deep_train_15_multi.npz\")['y']\n",
    "\n",
    "Deep_test_15   = np.load(\"Deep_test_15_multi.npz\")['x'] \n",
    "Output_test_15 = np.load(\"Deep_test_15_multi.npz\")['y']\n",
    "\n",
    "# 30 mins (6 steps ahead)\n",
    "Deep_train_30   = np.load(\"Deep_train_30_multi.npz\")['x'] \n",
    "Output_train_30 = np.load(\"Deep_train_30_multi.npz\")['y']\n",
    "\n",
    "Deep_test_30   = np.load(\"Deep_test_30_multi.npz\")['x'] \n",
    "Output_test_30 = np.load(\"Deep_test_30_multi.npz\")['y']\n",
    "\n",
    "# 60 mins (12 steps ahead)\n",
    "Deep_train_60   = np.load(\"Deep_train_60_multi.npz\")['x'] \n",
    "Output_train_60 = np.load(\"Deep_train_60_multi.npz\")['y']\n",
    "\n",
    "Deep_test_60   = np.load(\"Deep_test_60_multi.npz\")['x'] \n",
    "Output_test_60 = np.load(\"Deep_test_60_multi.npz\")['y']"
   ]
  },
  {
   "cell_type": "code",
   "execution_count": 6,
   "metadata": {},
   "outputs": [],
   "source": [
    "# Wide Data\n",
    "Xtrain = joblib.load(\"002weeks_train_Multi.save\") \n",
    "Xtest = joblib.load(\"002weeks_test_Multi.save\") "
   ]
  },
  {
   "cell_type": "code",
   "execution_count": 7,
   "metadata": {},
   "outputs": [],
   "source": [
    "# 5 mins\n",
    "# Delete first 15 samples\n",
    "Wide_train_5 = np.delete(Xtrain, np.s_[0:15], 0)\n",
    "Wide_test_5 = np.delete(Xtest, np.s_[0:15], 0)"
   ]
  },
  {
   "cell_type": "code",
   "execution_count": 8,
   "metadata": {},
   "outputs": [],
   "source": [
    "# 15 mins\n",
    "# Delete first 17 samples\n",
    "Wide_train_15 = np.delete(Xtrain, np.s_[0:17], 0)\n",
    "Wide_test_15 = np.delete(Xtest, np.s_[0:17], 0)"
   ]
  },
  {
   "cell_type": "code",
   "execution_count": 9,
   "metadata": {},
   "outputs": [],
   "source": [
    "# 30 mins\n",
    "# Delete first 20 samples\n",
    "Wide_train_30 = np.delete(Xtrain, np.s_[0:20], 0)\n",
    "Wide_test_30 = np.delete(Xtest, np.s_[0:20], 0)"
   ]
  },
  {
   "cell_type": "code",
   "execution_count": 10,
   "metadata": {},
   "outputs": [],
   "source": [
    "# 60 mins\n",
    "# Delete first 27 samples\n",
    "Wide_train_60 = np.delete(Xtrain, np.s_[0:26], 0)\n",
    "Wide_test_60 = np.delete(Xtest, np.s_[0:26], 0)"
   ]
  },
  {
   "cell_type": "code",
   "execution_count": 11,
   "metadata": {},
   "outputs": [],
   "source": [
    "scaler_filename = \"scaler.save\"\n",
    "scaler = joblib.load(scaler_filename) "
   ]
  },
  {
   "cell_type": "code",
   "execution_count": 12,
   "metadata": {},
   "outputs": [],
   "source": [
    "Test      = pd.read_csv('01test_scaled.csv', index_col=None, parse_dates=[0])"
   ]
  },
  {
   "cell_type": "markdown",
   "metadata": {},
   "source": [
    "# Reshape Samples"
   ]
  },
  {
   "cell_type": "markdown",
   "metadata": {},
   "source": [
    "The first step is to split the input sequences into subsequences that can be processed by the CNN model. Here, each spatio-temporal sample can be split into three sub-samples, each with five time steps. The CNN can interpret each subsequence of five time steps and provide a time series of interpretations of the subsequences to the LSTM model to process as input."
   ]
  },
  {
   "cell_type": "code",
   "execution_count": 13,
   "metadata": {},
   "outputs": [],
   "source": [
    "# reshape from [samples, timesteps] into [samples, subsequences, timesteps, features]\n",
    "n_features = 6                # No of loop detectors\n",
    "n_seq = 3                     # Subsequences\n",
    "n_steps = 5                   # time-step per subsequence\n",
    "# val_percent = 0.07567       # 2 weeks\n",
    "val_percent = 0.2        \n",
    "batch_size = 32\n",
    "\n",
    "n_seq_ = 3                     # Subsequences\n",
    "n_steps_ = 3                   # time-step per subsequence"
   ]
  },
  {
   "cell_type": "markdown",
   "metadata": {},
   "source": [
    "#### 5 mins"
   ]
  },
  {
   "cell_type": "code",
   "execution_count": 14,
   "metadata": {},
   "outputs": [],
   "source": [
    "# Train\n",
    "# reshape from [samples, timesteps] into [samples, subsequences, timesteps, features]\n",
    "Xt5 = Deep_train_5.reshape((Deep_train_5.shape[0], n_seq, n_steps, n_features))\n",
    "yt5 = scaler.inverse_transform(Output_train_5)"
   ]
  },
  {
   "cell_type": "code",
   "execution_count": 15,
   "metadata": {},
   "outputs": [],
   "source": [
    "# Test\n",
    "# reshape from [samples, timesteps] into [samples, subsequences, timesteps, features]\n",
    "Xv5 = Deep_test_5.reshape((Deep_test_5.shape[0], n_seq, n_steps, n_features))\n",
    "yv5 = scaler.inverse_transform(Output_test_5)"
   ]
  },
  {
   "cell_type": "markdown",
   "metadata": {},
   "source": [
    "#### 15 mins"
   ]
  },
  {
   "cell_type": "code",
   "execution_count": 16,
   "metadata": {},
   "outputs": [],
   "source": [
    "# Train\n",
    "# reshape from [samples, timesteps] into [samples, subsequences, timesteps, features]\n",
    "Xt15 = Deep_train_15.reshape((Deep_train_15.shape[0], n_seq, n_steps, n_features))\n",
    "yt15 = scaler.inverse_transform(Output_train_15)"
   ]
  },
  {
   "cell_type": "code",
   "execution_count": 17,
   "metadata": {},
   "outputs": [],
   "source": [
    "# Test\n",
    "# reshape from [samples, timesteps] into [samples, subsequences, timesteps, features]\n",
    "Xv15 = Deep_test_15.reshape((Deep_test_15.shape[0], n_seq, n_steps, n_features))\n",
    "yv15 = scaler.inverse_transform(Output_test_15)"
   ]
  },
  {
   "cell_type": "markdown",
   "metadata": {},
   "source": [
    "#### 30 mins"
   ]
  },
  {
   "cell_type": "code",
   "execution_count": 18,
   "metadata": {},
   "outputs": [],
   "source": [
    "# Train\n",
    "# reshape from [samples, timesteps] into [samples, subsequences, timesteps, features]\n",
    "Xt30 = Deep_train_30.reshape((Deep_train_30.shape[0], n_seq, n_steps, n_features))\n",
    "yt30 = scaler.inverse_transform(Output_train_30)"
   ]
  },
  {
   "cell_type": "code",
   "execution_count": 19,
   "metadata": {},
   "outputs": [],
   "source": [
    "# Test\n",
    "# reshape from [samples, timesteps] into [samples, subsequences, timesteps, features]\n",
    "Xv30 = Deep_test_30.reshape((Deep_test_30.shape[0], n_seq, n_steps, n_features))\n",
    "yv30 = scaler.inverse_transform(Output_test_30)"
   ]
  },
  {
   "cell_type": "markdown",
   "metadata": {},
   "source": [
    "#### 60 mins"
   ]
  },
  {
   "cell_type": "code",
   "execution_count": 20,
   "metadata": {},
   "outputs": [],
   "source": [
    "# Train\n",
    "# reshape from [samples, timesteps] into [samples, subsequences, timesteps, features]\n",
    "Xt60 = Deep_train_60.reshape((Deep_train_60.shape[0], n_seq, n_steps, n_features))\n",
    "yt60 = scaler.inverse_transform(Output_train_60)"
   ]
  },
  {
   "cell_type": "code",
   "execution_count": 21,
   "metadata": {},
   "outputs": [],
   "source": [
    "# Test\n",
    "# reshape from [samples, timesteps] into [samples, subsequences, timesteps, features]\n",
    "Xv60 = Deep_test_60.reshape((Deep_test_60.shape[0], n_seq, n_steps, n_features))\n",
    "yv60 = scaler.inverse_transform(Output_test_60)"
   ]
  },
  {
   "cell_type": "markdown",
   "metadata": {},
   "source": [
    "### Reshaping the Data for Conv2D layer\n",
    "\n",
    "For Conv2D, there is a need to add one more dimension to show we're dealing with 1 channel (since technically the images are in black and white, only showing values from 0-max flow on a single channel).\n",
    "\n",
    "Conv1D - strides in 1 dimension\n",
    "Conv2D - strides in 2 dimensions"
   ]
  },
  {
   "cell_type": "code",
   "execution_count": 22,
   "metadata": {},
   "outputs": [],
   "source": [
    "# define no_of_channels\n",
    "n_channels = 1"
   ]
  },
  {
   "cell_type": "code",
   "execution_count": 23,
   "metadata": {},
   "outputs": [],
   "source": [
    "# Train data\n",
    "Xt5  =  Xt5.reshape(Xt5.shape[0], n_seq, n_steps, n_features, n_channels)\n",
    "Xt15 =  Xt15.reshape(Xt15.shape[0], n_seq, n_steps, n_features, n_channels)\n",
    "Xt30 =  Xt30.reshape(Xt30.shape[0], n_seq, n_steps, n_features, n_channels)\n",
    "Xt60 =  Xt60.reshape(Xt60.shape[0], n_seq, n_steps, n_features, n_channels)\n",
    "\n",
    "# Validation data\n",
    "Xv5  =  Xv5.reshape(Xv5.shape[0], n_seq, n_steps, n_features, n_channels)\n",
    "Xv15 =  Xv15.reshape(Xv15.shape[0], n_seq, n_steps, n_features, n_channels)\n",
    "Xv30 =  Xv30.reshape(Xv30.shape[0], n_seq, n_steps, n_features, n_channels)\n",
    "Xv60 =  Xv60.reshape(Xv60.shape[0], n_seq, n_steps, n_features, n_channels)"
   ]
  },
  {
   "cell_type": "code",
   "execution_count": 24,
   "metadata": {},
   "outputs": [],
   "source": [
    "Wt5  = Wide_train_5\n",
    "Wt15 = Wide_train_15\n",
    "Wt30 = Wide_train_30\n",
    "Wt60 = Wide_train_60\n",
    "\n",
    "Wv5  = Wide_test_5\n",
    "Wv15 = Wide_test_15\n",
    "Wv30 = Wide_test_30\n",
    "Wv60 = Wide_test_60"
   ]
  },
  {
   "cell_type": "code",
   "execution_count": 25,
   "metadata": {},
   "outputs": [],
   "source": [
    "# Train data\n",
    "Wt5  =  Wt5.reshape(Wt5.shape[0], n_seq_, n_steps_, n_features)\n",
    "Wt15 =  Wt15.reshape(Wt15.shape[0], n_seq_, n_steps_, n_features)\n",
    "Wt30 =  Wt30.reshape(Wt30.shape[0], n_seq_, n_steps_, n_features)\n",
    "Wt60 =  Wt60.reshape(Wt60.shape[0], n_seq_, n_steps_, n_features)\n",
    "\n",
    "# Validation data\n",
    "Wv5  =  Wv5.reshape(Wv5.shape[0], n_seq_, n_steps_, n_features)\n",
    "Wv15 =  Wv15.reshape(Wv15.shape[0], n_seq_, n_steps_, n_features)\n",
    "Wv30 =  Wv30.reshape(Wv30.shape[0], n_seq_, n_steps_, n_features)\n",
    "Wv60 =  Wv60.reshape(Wv60.shape[0], n_seq_, n_steps_, n_features)"
   ]
  },
  {
   "cell_type": "code",
   "execution_count": 26,
   "metadata": {},
   "outputs": [
    {
     "data": {
      "text/plain": [
       "(49233, 3, 5, 6, 1)"
      ]
     },
     "execution_count": 26,
     "metadata": {},
     "output_type": "execute_result"
    }
   ],
   "source": [
    "Xt5.shape"
   ]
  },
  {
   "cell_type": "code",
   "execution_count": 27,
   "metadata": {},
   "outputs": [
    {
     "data": {
      "text/plain": [
       "(49233, 3, 3, 6)"
      ]
     },
     "execution_count": 27,
     "metadata": {},
     "output_type": "execute_result"
    }
   ],
   "source": [
    "Wt5.shape"
   ]
  },
  {
   "cell_type": "markdown",
   "metadata": {},
   "source": [
    "# CNN-LSTM model"
   ]
  },
  {
   "cell_type": "code",
   "execution_count": 28,
   "metadata": {},
   "outputs": [],
   "source": [
    "from tensorflow import keras\n",
    "from keras_self_attention import SeqSelfAttention\n",
    "\n",
    "# Early Stopping\n",
    "early_stop = keras.callbacks.EarlyStopping(monitor='val_loss',patience=5, restore_best_weights = True)"
   ]
  },
  {
   "cell_type": "code",
   "execution_count": 29,
   "metadata": {},
   "outputs": [
    {
     "data": {
      "text/plain": [
       "(49233, 9, 6)"
      ]
     },
     "execution_count": 29,
     "metadata": {},
     "output_type": "execute_result"
    }
   ],
   "source": [
    "Wide_train_5.shape"
   ]
  },
  {
   "cell_type": "markdown",
   "metadata": {},
   "source": [
    "# 5 mins ahead"
   ]
  },
  {
   "cell_type": "code",
   "execution_count": 30,
   "metadata": {},
   "outputs": [],
   "source": [
    "def build_model_5(hp):\n",
    "    # Inputs\n",
    "    channel_Wide = keras.layers.Input(shape=Wt5.shape[1:], name=\"WideInput\")\n",
    "    channel_Deep = keras.layers.Input(shape=Xt5.shape[1:], name=\"DeepInput\")\n",
    "    units = hp.Int(\"units\", min_value=1, max_value=100, step=1)\n",
    "    \n",
    "    \n",
    "    # Wide Model\n",
    "    flatten_5w = keras.layers.TimeDistributed(keras.layers.Flatten())(channel_Wide)\n",
    "    Bi_5 = keras.layers.Bidirectional(\n",
    "        keras.layers.LSTM(units=units, return_sequences=True),\n",
    "        merge_mode=\"ave\"\n",
    "    )(flatten_5w)\n",
    "    \n",
    "    \n",
    "    # Deep Model\n",
    "    # CNN \n",
    "    CNN_5 = keras.layers.TimeDistributed(\n",
    "        keras.layers.Conv2D(filters=hp.Int(\"filters\", min_value=32, max_value=512, step=32),\n",
    "                            kernel_size=hp.Choice(\"kernel_size\", [2, 3]), activation='relu'))(channel_Deep)\n",
    "    flatten_5 = keras.layers.TimeDistributed(keras.layers.Flatten())(CNN_5)\n",
    "    # LSTM          \n",
    "    LSTM_5 = keras.layers.LSTM(units=units, activation='relu', return_sequences=True)(flatten_5)\n",
    "\n",
    "    \n",
    "    # Concatenation \n",
    "    concat = keras.layers.concatenate([Bi_5, LSTM_5], axis=1)\n",
    "\n",
    "    # Attention\n",
    "    Att_5 = SeqSelfAttention(attention_activation='sigmoid')(concat)\n",
    "    merge = keras.layers.Flatten()(Att_5)\n",
    "\n",
    "    \n",
    "    # Output\n",
    "    output = keras.layers.Dense(n_features, name= \"output\")(merge)\n",
    "    \n",
    "    # Model\n",
    "    model_5 = keras.Model(inputs=[channel_Wide,channel_Deep], outputs=[output])\n",
    "\n",
    "    # Compile\n",
    "    model_5.compile(optimizer=keras.optimizers.Adam(hp.Choice(\"learning_rate\", [1e-2, 1e-3, 1e-4])), \n",
    "        loss=rGEH_loss, metrics=['MeanAbsoluteError','RootMeanSquaredError','MeanAbsolutePercentageError'])\n",
    "                                   \n",
    "    return model_5"
   ]
  },
  {
   "cell_type": "code",
   "execution_count": 31,
   "metadata": {},
   "outputs": [
    {
     "name": "stdout",
     "output_type": "stream",
     "text": [
      "INFO:tensorflow:Reloading Oracle from existing project C:\\RunsOak\\8d-5\\oracle.json\n",
      "INFO:tensorflow:Reloading Tuner from C:\\RunsOak\\8d-5\\tuner0.json\n"
     ]
    }
   ],
   "source": [
    "tuner5 = RandomSearch(\n",
    "    build_model_5,\n",
    "    objective=\"val_loss\",\n",
    "    max_trials=60,\n",
    "    executions_per_trial=2,\n",
    "    overwrite=False,\n",
    "    directory=os.path.normpath('C:/RunsOak'),\n",
    "    project_name=\"8d-5\",\n",
    ")"
   ]
  },
  {
   "cell_type": "code",
   "execution_count": 32,
   "metadata": {},
   "outputs": [
    {
     "name": "stdout",
     "output_type": "stream",
     "text": [
      "Search space summary\n",
      "Default search space size: 4\n",
      "units (Int)\n",
      "{'default': None, 'conditions': [], 'min_value': 1, 'max_value': 100, 'step': 1, 'sampling': None}\n",
      "filters (Int)\n",
      "{'default': None, 'conditions': [], 'min_value': 32, 'max_value': 512, 'step': 32, 'sampling': None}\n",
      "kernel_size (Choice)\n",
      "{'default': 2, 'conditions': [], 'values': [2, 3], 'ordered': True}\n",
      "learning_rate (Choice)\n",
      "{'default': 0.01, 'conditions': [], 'values': [0.01, 0.001, 0.0001], 'ordered': True}\n"
     ]
    }
   ],
   "source": [
    "tuner5.search_space_summary()"
   ]
  },
  {
   "cell_type": "code",
   "execution_count": 33,
   "metadata": {},
   "outputs": [
    {
     "name": "stdout",
     "output_type": "stream",
     "text": [
      "Trial 61 Complete [00h 17m 51s]\n",
      "val_loss: 4.175632953643799\n",
      "\n",
      "Best val_loss So Far: 4.058511018753052\n",
      "Total elapsed time: 00h 38m 12s\n",
      "INFO:tensorflow:Oracle triggered exit\n"
     ]
    }
   ],
   "source": [
    "tuner5.search((Wt5,Xt5), yt5, epochs=200,\n",
    "           validation_split = val_percent,\n",
    "           callbacks = [early_stop],\n",
    "           verbose=2)"
   ]
  },
  {
   "cell_type": "code",
   "execution_count": 34,
   "metadata": {},
   "outputs": [
    {
     "name": "stdout",
     "output_type": "stream",
     "text": [
      "Results summary\n",
      "Results in C:\\RunsOak\\8d-5\n",
      "Showing 1 best trials\n",
      "Objective(name='val_loss', direction='min')\n",
      "Trial summary\n",
      "Hyperparameters:\n",
      "units: 96\n",
      "filters: 416\n",
      "kernel_size: 2\n",
      "learning_rate: 0.001\n",
      "Score: 4.058511018753052\n"
     ]
    }
   ],
   "source": [
    "tuner5.results_summary(1)"
   ]
  },
  {
   "cell_type": "markdown",
   "metadata": {},
   "source": [
    "### Best Model"
   ]
  },
  {
   "cell_type": "code",
   "execution_count": 35,
   "metadata": {},
   "outputs": [],
   "source": [
    "best_hp5 = tuner5.get_best_hyperparameters()[0]\n",
    "model5 = tuner5.hypermodel.build(best_hp5)"
   ]
  },
  {
   "cell_type": "code",
   "execution_count": 36,
   "metadata": {},
   "outputs": [
    {
     "data": {
      "text/plain": [
       "['Best_HP/8d-5']"
      ]
     },
     "execution_count": 36,
     "metadata": {},
     "output_type": "execute_result"
    }
   ],
   "source": [
    "scaler_filename = \"Best_HP/8d-5\"\n",
    "joblib.dump(best_hp5, scaler_filename) "
   ]
  },
  {
   "cell_type": "code",
   "execution_count": 37,
   "metadata": {},
   "outputs": [
    {
     "name": "stdout",
     "output_type": "stream",
     "text": [
      "Model: \"model_1\"\n",
      "__________________________________________________________________________________________________\n",
      " Layer (type)                   Output Shape         Param #     Connected to                     \n",
      "==================================================================================================\n",
      " DeepInput (InputLayer)         [(None, 3, 5, 6, 1)  0           []                               \n",
      "                                ]                                                                 \n",
      "                                                                                                  \n",
      " WideInput (InputLayer)         [(None, 3, 3, 6)]    0           []                               \n",
      "                                                                                                  \n",
      " time_distributed_4 (TimeDistri  (None, 3, 4, 5, 416  2080       ['DeepInput[0][0]']              \n",
      " buted)                         )                                                                 \n",
      "                                                                                                  \n",
      " time_distributed_3 (TimeDistri  (None, 3, 18)       0           ['WideInput[0][0]']              \n",
      " buted)                                                                                           \n",
      "                                                                                                  \n",
      " time_distributed_5 (TimeDistri  (None, 3, 8320)     0           ['time_distributed_4[0][0]']     \n",
      " buted)                                                                                           \n",
      "                                                                                                  \n",
      " bidirectional_1 (Bidirectional  (None, 3, 96)       88320       ['time_distributed_3[0][0]']     \n",
      " )                                                                                                \n",
      "                                                                                                  \n",
      " lstm_3 (LSTM)                  (None, 3, 96)        3232128     ['time_distributed_5[0][0]']     \n",
      "                                                                                                  \n",
      " concatenate_1 (Concatenate)    (None, 6, 96)        0           ['bidirectional_1[0][0]',        \n",
      "                                                                  'lstm_3[0][0]']                 \n",
      "                                                                                                  \n",
      " seq_self_attention_1 (SeqSelfA  (None, 6, 96)       6209        ['concatenate_1[0][0]']          \n",
      " ttention)                                                                                        \n",
      "                                                                                                  \n",
      " flatten_5 (Flatten)            (None, 576)          0           ['seq_self_attention_1[0][0]']   \n",
      "                                                                                                  \n",
      " output (Dense)                 (None, 6)            3462        ['flatten_5[0][0]']              \n",
      "                                                                                                  \n",
      "==================================================================================================\n",
      "Total params: 3,332,199\n",
      "Trainable params: 3,332,199\n",
      "Non-trainable params: 0\n",
      "__________________________________________________________________________________________________\n"
     ]
    }
   ],
   "source": [
    "model5.summary()"
   ]
  },
  {
   "cell_type": "code",
   "execution_count": 38,
   "metadata": {},
   "outputs": [
    {
     "name": "stdout",
     "output_type": "stream",
     "text": [
      "Epoch 1/100\n",
      "1539/1539 [==============================] - 64s 33ms/step - loss: 6.3746 - mean_absolute_error: 20.3715 - root_mean_squared_error: 33.5633 - mean_absolute_percentage_error: 28.3586 8s - loss: 6.6705 - mean_absolute_error: 21.2502 - root_mean_squared_error: 35.3465 - mean_absolute_percentage - ETA: 7s - l\n",
      "Epoch 2/100\n",
      "1539/1539 [==============================] - 51s 33ms/step - loss: 4.6450 - mean_absolute_error: 15.1818 - root_mean_squared_error: 21.7589 - mean_absolute_percentage_error: 20.4195 4s - loss: 4.6631 - mean_absolute_error: 15.2279 - \n",
      "Epoch 3/100\n",
      "1539/1539 [==============================] - 51s 33ms/step - loss: 4.4074 - mean_absolute_error: 14.4837 - root_mean_squared_error: 20.8293 - mean_absolute_percentage_error: 18.9426\n",
      "Epoch 4/100\n",
      "1539/1539 [==============================] - 51s 33ms/step - loss: 4.2849 - mean_absolute_error: 14.1292 - root_mean_squared_error: 20.3738 - mean_absolute_percentage_error: 18.0667\n",
      "Epoch 5/100\n",
      "1539/1539 [==============================] - 52s 34ms/step - loss: 4.2169 - mean_absolute_error: 13.9265 - root_mean_squared_error: 20.0913 - mean_absolute_percentage_error: 17.6223\n",
      "Epoch 6/100\n",
      "1539/1539 [==============================] - 51s 33ms/step - loss: 4.1662 - mean_absolute_error: 13.7737 - root_mean_squared_error: 19.9136 - mean_absolute_percentage_error: 17.3336 4s - loss: 4.1664 - mean_absolute_error: 13.7733 - root_mean_\n",
      "Epoch 7/100\n",
      "1539/1539 [==============================] - 51s 33ms/step - loss: 4.1310 - mean_absolute_error: 13.6745 - root_mean_squared_error: 19.8072 - mean_absolute_percentage_error: 17.1490 1s - loss: 4.1322 - mean_absolute_error: 13.6801 - root_mean_squared_error: 19.8180 - mean_absolute_pe\n",
      "Epoch 8/100\n",
      "1539/1539 [==============================] - 51s 33ms/step - loss: 4.0952 - mean_absolute_error: 13.5664 - root_mean_squared_error: 19.6625 - mean_absolute_percentage_error: 16.9036\n",
      "Epoch 9/100\n",
      "1539/1539 [==============================] - 52s 34ms/step - loss: 4.0652 - mean_absolute_error: 13.4669 - root_mean_squared_error: 19.5321 - mean_absolute_percentage_error: 16.7485\n",
      "Epoch 10/100\n",
      "1539/1539 [==============================] - 51s 33ms/step - loss: 4.0524 - mean_absolute_error: 13.4380 - root_mean_squared_error: 19.5039 - mean_absolute_percentage_error: 16.6336 0s - loss: 4.0522 - mean_absolute_error: 13.4367 - root_mean_squared_error: 19.5045 - mean_absolute_percentage_er\n",
      "Epoch 11/100\n",
      "1539/1539 [==============================] - 52s 34ms/step - loss: 4.0304 - mean_absolute_error: 13.3666 - root_mean_squared_error: 19.4065 - mean_absolute_percentage_error: 16.5597\n",
      "Epoch 12/100\n",
      "1539/1539 [==============================] - 51s 33ms/step - loss: 4.0184 - mean_absolute_error: 13.3323 - root_mean_squared_error: 19.3668 - mean_absolute_percentage_error: 16.5281 4s - loss: 4.0130 - mean_absolute_error: 13.3056 - root_m\n",
      "Epoch 13/100\n",
      "1539/1539 [==============================] - 53s 34ms/step - loss: 4.0073 - mean_absolute_error: 13.2919 - root_mean_squared_error: 19.2945 - mean_absolute_percentage_error: 16.5005\n",
      "Epoch 14/100\n",
      "1539/1539 [==============================] - 51s 33ms/step - loss: 3.9909 - mean_absolute_error: 13.2560 - root_mean_squared_error: 19.2863 - mean_absolute_percentage_error: 16.3940 3s - loss: 3.9949 - mean_absolute_error: 13.2672 - root_mean_squared_erro\n",
      "Epoch 15/100\n",
      "1539/1539 [==============================] - 51s 33ms/step - loss: 3.9731 - mean_absolute_error: 13.1926 - root_mean_squared_error: 19.1954 - mean_absolute_percentage_error: 16.3067 13s - loss: 3.9721 - mean_abs\n",
      "Epoch 16/100\n",
      "1539/1539 [==============================] - 51s 33ms/step - loss: 3.9637 - mean_absolute_error: 13.1702 - root_mean_squared_error: 19.1562 - mean_absolute_percentage_error: 16.2473\n",
      "Epoch 17/100\n",
      "1539/1539 [==============================] - 51s 33ms/step - loss: 3.9539 - mean_absolute_error: 13.1384 - root_mean_squared_error: 19.1219 - mean_absolute_percentage_error: 16.2403\n",
      "Epoch 18/100\n",
      "1539/1539 [==============================] - 51s 33ms/step - loss: 3.9418 - mean_absolute_error: 13.1099 - root_mean_squared_error: 19.0994 - mean_absolute_percentage_error: 16.1556\n",
      "Epoch 19/100\n",
      "1539/1539 [==============================] - 45s 29ms/step - loss: 3.9333 - mean_absolute_error: 13.0784 - root_mean_squared_error: 19.0541 - mean_absolute_percentage_error: 16.1158\n",
      "Epoch 20/100\n",
      "1539/1539 [==============================] - 50s 32ms/step - loss: 3.9295 - mean_absolute_error: 13.0745 - root_mean_squared_error: 19.0580 - mean_absolute_percentage_error: 16.0609\n",
      "Epoch 21/100\n",
      "1539/1539 [==============================] - 51s 33ms/step - loss: 3.9199 - mean_absolute_error: 13.0486 - root_mean_squared_error: 19.0290 - mean_absolute_percentage_error: 16.0108 4s - loss: 3.9247 - mean_absolute_error: 13.0678 - root_mean_squared_error: 19.0486 - mean_absolute_percentag - ETA: 3s - loss: 3.9216 - mean_absolute_error: 13.0576 - root_mean_squared_e\n",
      "Epoch 22/100\n",
      "1539/1539 [==============================] - 51s 33ms/step - loss: 3.9095 - mean_absolute_error: 13.0172 - root_mean_squared_error: 18.9983 - mean_absolute_percentage_error: 15.9930 24s - loss: 3.9176 - - ETA: 20s - loss: 3.9197 - mean_absolute_err - ETA: 17s - loss:\n",
      "Epoch 23/100\n",
      "1539/1539 [==============================] - 51s 33ms/step - loss: 3.8970 - mean_absolute_error: 12.9768 - root_mean_squared_error: 18.9479 - mean_absolute_percentage_error: 15.9434\n",
      "Epoch 24/100\n",
      "1539/1539 [==============================] - 51s 33ms/step - loss: 3.8879 - mean_absolute_error: 12.9516 - root_mean_squared_error: 18.9209 - mean_absolute_percentage_error: 15.8836 6s - loss: 3.8842 - mean_a\n",
      "Epoch 25/100\n",
      "1539/1539 [==============================] - 51s 33ms/step - loss: 3.8810 - mean_absolute_error: 12.9311 - root_mean_squared_error: 18.8996 - mean_absolute_percentage_error: 15.8732 17s - loss: 3.8712 - mean_absolute_error: 12.9047 - root_mean_squared_error: 18.8558 - me - ETA: 4s - loss: 3.8758 - mean_absolute_error: 12.9114 - \n",
      "Epoch 26/100\n",
      "1539/1539 [==============================] - 52s 34ms/step - loss: 3.8728 - mean_absolute_error: 12.9122 - root_mean_squared_error: 18.8700 - mean_absolute_percentage_error: 15.7721\n",
      "Epoch 27/100\n",
      "1539/1539 [==============================] - 51s 33ms/step - loss: 3.8657 - mean_absolute_error: 12.8968 - root_mean_squared_error: 18.8596 - mean_absolute_percentage_error: 15.7620\n",
      "Epoch 28/100\n",
      "1539/1539 [==============================] - 52s 34ms/step - loss: 3.8580 - mean_absolute_error: 12.8783 - root_mean_squared_error: 18.8475 - mean_absolute_percentage_error: 15.6850 6s - loss: 3.8535 - mean_absolut\n",
      "Epoch 29/100\n",
      "1539/1539 [==============================] - 51s 33ms/step - loss: 3.8494 - mean_absolute_error: 12.8542 - root_mean_squared_error: 18.8102 - mean_absolute_percentage_error: 15.6717\n",
      "Epoch 30/100\n",
      "1539/1539 [==============================] - 52s 34ms/step - loss: 3.8362 - mean_absolute_error: 12.8220 - root_mean_squared_error: 18.7871 - mean_absolute_percentage_error: 15.5670 2s - loss: 3.8376 - mean_absolute_error: 12.8239 - root_mean_squared_error: 18.7839\n",
      "Epoch 31/100\n",
      "1539/1539 [==============================] - 51s 33ms/step - loss: 3.8278 - mean_absolute_error: 12.8013 - root_mean_squared_error: 18.7628 - mean_absolute_percentage_error: 15.5282\n",
      "Epoch 32/100\n",
      "1539/1539 [==============================] - 51s 33ms/step - loss: 3.8208 - mean_absolute_error: 12.7845 - root_mean_squared_error: 18.7436 - mean_absolute_percentage_error: 15.4618 1s - loss: 3.8221 - mean_absolute_error: 12.7912 - root_mean_squared_error: 18.7593 - mean_absolute_percen\n",
      "Epoch 33/100\n",
      "1539/1539 [==============================] - 51s 33ms/step - loss: 3.8107 - mean_absolute_error: 12.7601 - root_mean_squared_error: 18.7141 - mean_absolute_percentage_error: 15.4194\n",
      "Epoch 34/100\n",
      "1539/1539 [==============================] - 51s 33ms/step - loss: 3.8010 - mean_absolute_error: 12.7394 - root_mean_squared_error: 18.7065 - mean_absolute_percentage_error: 15.3673 13s -  - ETA: 0s - loss: 3.8010 - mean_absolute_error: 12.7388 - root_mean_squared_error: 18.7059 - mean_absolute_percentage_error: 15.369\n",
      "Epoch 35/100\n",
      "1539/1539 [==============================] - 51s 33ms/step - loss: 3.7913 - mean_absolute_error: 12.7101 - root_mean_squared_error: 18.6578 - mean_absolute_percentage_error: 15.2622 6s - loss: 3.8010 - mean_absolu\n",
      "Epoch 36/100\n",
      "1539/1539 [==============================] - 43s 28ms/step - loss: 3.7852 - mean_absolute_error: 12.6972 - root_mean_squared_error: 18.6536 - mean_absolute_percentage_error: 15.2236 0s - loss: 3.7874 - mean_absolute_error: 12.7061 - root_mean_squared_error: 18.6633 - mean_absolute_percentage_error: \n",
      "Epoch 37/100\n",
      "1539/1539 [==============================] - 44s 29ms/step - loss: 3.7726 - mean_absolute_error: 12.6603 - root_mean_squared_error: 18.6050 - mean_absolute_percentage_error: 15.1827\n",
      "Epoch 38/100\n",
      "1539/1539 [==============================] - 45s 29ms/step - loss: 3.7702 - mean_absolute_error: 12.6549 - root_mean_squared_error: 18.6035 - mean_absolute_percentage_error: 15.1798\n",
      "Epoch 39/100\n",
      "1539/1539 [==============================] - 45s 29ms/step - loss: 3.7590 - mean_absolute_error: 12.6310 - root_mean_squared_error: 18.5897 - mean_absolute_percentage_error: 15.0794 2s - loss: 3.7579 - mean_absolute_error: 12.6348 - root_mean_squared_error: 18.5928 - mean\n",
      "Epoch 40/100\n",
      "1539/1539 [==============================] - 45s 29ms/step - loss: 3.7507 - mean_absolute_error: 12.6043 - root_mean_squared_error: 18.5531 - mean_absolute_percentage_error: 15.0479\n",
      "Epoch 41/100\n",
      "1539/1539 [==============================] - 45s 29ms/step - loss: 3.7477 - mean_absolute_error: 12.5971 - root_mean_squared_error: 18.5491 - mean_absolute_percentage_error: 15.0142\n",
      "Epoch 42/100\n",
      "1539/1539 [==============================] - 45s 29ms/step - loss: 3.7395 - mean_absolute_error: 12.5727 - root_mean_squared_error: 18.5173 - mean_absolute_percentage_error: 14.9534\n",
      "Epoch 43/100\n",
      "1539/1539 [==============================] - 45s 29ms/step - loss: 3.7358 - mean_absolute_error: 12.5682 - root_mean_squared_error: 18.5144 - mean_absolute_percentage_error: 14.9750\n",
      "Epoch 44/100\n",
      "1539/1539 [==============================] - 45s 29ms/step - loss: 3.7236 - mean_absolute_error: 12.5322 - root_mean_squared_error: 18.4717 - mean_absolute_percentage_error: 14.8779\n",
      "Epoch 45/100\n",
      "1539/1539 [==============================] - 45s 29ms/step - loss: 3.7174 - mean_absolute_error: 12.5114 - root_mean_squared_error: 18.4587 - mean_absolute_percentage_error: 14.8532\n",
      "Epoch 46/100\n",
      "1539/1539 [==============================] - 45s 29ms/step - loss: 3.7139 - mean_absolute_error: 12.5032 - root_mean_squared_error: 18.4444 - mean_absolute_percentage_error: 14.8111\n",
      "Epoch 47/100\n",
      "1539/1539 [==============================] - 45s 29ms/step - loss: 3.7020 - mean_absolute_error: 12.4676 - root_mean_squared_error: 18.4163 - mean_absolute_percentage_error: 14.7514\n",
      "Epoch 48/100\n",
      "1539/1539 [==============================] - 45s 29ms/step - loss: 3.6982 - mean_absolute_error: 12.4648 - root_mean_squared_error: 18.4143 - mean_absolute_percentage_error: 14.7191\n",
      "Epoch 49/100\n",
      "1539/1539 [==============================] - 45s 29ms/step - loss: 3.6914 - mean_absolute_error: 12.4421 - root_mean_squared_error: 18.3798 - mean_absolute_percentage_error: 14.6793\n",
      "Epoch 50/100\n",
      "1539/1539 [==============================] - 45s 29ms/step - loss: 3.6801 - mean_absolute_error: 12.4106 - root_mean_squared_error: 18.3459 - mean_absolute_percentage_error: 14.6371\n",
      "Epoch 51/100\n",
      "1539/1539 [==============================] - 45s 29ms/step - loss: 3.6777 - mean_absolute_error: 12.4091 - root_mean_squared_error: 18.3501 - mean_absolute_percentage_error: 14.5803\n",
      "Epoch 52/100\n",
      "1539/1539 [==============================] - 45s 29ms/step - loss: 3.6650 - mean_absolute_error: 12.3674 - root_mean_squared_error: 18.3048 - mean_absolute_percentage_error: 14.5412\n",
      "Epoch 53/100\n",
      "1539/1539 [==============================] - 45s 29ms/step - loss: 3.6611 - mean_absolute_error: 12.3566 - root_mean_squared_error: 18.2954 - mean_absolute_percentage_error: 14.5484\n",
      "Epoch 54/100\n",
      "1539/1539 [==============================] - 45s 29ms/step - loss: 3.6478 - mean_absolute_error: 12.3199 - root_mean_squared_error: 18.2574 - mean_absolute_percentage_error: 14.4491\n",
      "Epoch 55/100\n",
      "1539/1539 [==============================] - 45s 29ms/step - loss: 3.6493 - mean_absolute_error: 12.3288 - root_mean_squared_error: 18.2707 - mean_absolute_percentage_error: 14.4513\n",
      "Epoch 56/100\n",
      "1539/1539 [==============================] - 45s 29ms/step - loss: 3.6392 - mean_absolute_error: 12.2961 - root_mean_squared_error: 18.2327 - mean_absolute_percentage_error: 14.4399 3s - loss: 3.6382 - mean_absolute_error: 12.2933 - root_mean_squared\n",
      "Epoch 57/100\n",
      "1539/1539 [==============================] - 45s 29ms/step - loss: 3.6282 - mean_absolute_error: 12.2609 - root_mean_squared_error: 18.1900 - mean_absolute_percentage_error: 14.3430\n",
      "Epoch 58/100\n",
      "1539/1539 [==============================] - 45s 29ms/step - loss: 3.6226 - mean_absolute_error: 12.2476 - root_mean_squared_error: 18.1754 - mean_absolute_percentage_error: 14.3309 3s - loss: 3.6199 - mean_absolute_error: 12.2351 - root_mean_squared_er\n",
      "Epoch 59/100\n",
      "1539/1539 [==============================] - 44s 28ms/step - loss: 3.6168 - mean_absolute_error: 12.2311 - root_mean_squared_error: 18.1624 - mean_absolute_percentage_error: 14.2909\n",
      "Epoch 60/100\n",
      "1539/1539 [==============================] - 43s 28ms/step - loss: 3.6099 - mean_absolute_error: 12.2105 - root_mean_squared_error: 18.1459 - mean_absolute_percentage_error: 14.2480\n",
      "Epoch 61/100\n",
      "1539/1539 [==============================] - 45s 29ms/step - loss: 3.6042 - mean_absolute_error: 12.1985 - root_mean_squared_error: 18.1298 - mean_absolute_percentage_error: 14.2154 6s - loss: 3.6015 - mean_absolute_error: 12.1915 - root_mean_squared_error: 18.0977 - mean_absolute_percent - ETA: 5s - loss: 3.6011 - mean_absolute_err\n",
      "Epoch 62/100\n",
      "1539/1539 [==============================] - 45s 29ms/step - loss: 3.5901 - mean_absolute_error: 12.1519 - root_mean_squared_error: 18.0733 - mean_absolute_percentage_error: 14.1673 1s - loss: 3.5879 - mean_absolute_error: 12.1375 - root_mean_squared_error: 18.0613 - mean_absolute_perc\n",
      "Epoch 63/100\n",
      "1539/1539 [==============================] - 45s 29ms/step - loss: 3.5859 - mean_absolute_error: 12.1414 - root_mean_squared_error: 18.0603 - mean_absolute_percentage_error: 14.1437\n",
      "Epoch 64/100\n",
      "1539/1539 [==============================] - 45s 29ms/step - loss: 3.5808 - mean_absolute_error: 12.1275 - root_mean_squared_error: 18.0473 - mean_absolute_percentage_error: 14.1133\n",
      "Epoch 65/100\n",
      "1539/1539 [==============================] - 45s 29ms/step - loss: 3.5736 - mean_absolute_error: 12.1052 - root_mean_squared_error: 18.0193 - mean_absolute_percentage_error: 14.0587\n",
      "Epoch 66/100\n",
      "1539/1539 [==============================] - 45s 29ms/step - loss: 3.5675 - mean_absolute_error: 12.0858 - root_mean_squared_error: 18.0018 - mean_absolute_percentage_error: 14.0365\n",
      "Epoch 67/100\n",
      "1539/1539 [==============================] - 45s 29ms/step - loss: 3.5628 - mean_absolute_error: 12.0773 - root_mean_squared_error: 18.0015 - mean_absolute_percentage_error: 13.9853\n",
      "Epoch 68/100\n",
      "1539/1539 [==============================] - 45s 29ms/step - loss: 3.5567 - mean_absolute_error: 12.0584 - root_mean_squared_error: 17.9791 - mean_absolute_percentage_error: 13.9812\n",
      "Epoch 69/100\n",
      "1539/1539 [==============================] - 45s 29ms/step - loss: 3.5468 - mean_absolute_error: 12.0299 - root_mean_squared_error: 17.9411 - mean_absolute_percentage_error: 13.9250\n",
      "Epoch 70/100\n",
      "1539/1539 [==============================] - 45s 29ms/step - loss: 3.5406 - mean_absolute_error: 12.0157 - root_mean_squared_error: 17.9433 - mean_absolute_percentage_error: 13.8794\n",
      "Epoch 71/100\n",
      "1539/1539 [==============================] - 45s 29ms/step - loss: 3.5302 - mean_absolute_error: 11.9805 - root_mean_squared_error: 17.9006 - mean_absolute_percentage_error: 13.8421\n",
      "Epoch 72/100\n",
      "1539/1539 [==============================] - 45s 29ms/step - loss: 3.5253 - mean_absolute_error: 11.9663 - root_mean_squared_error: 17.8738 - mean_absolute_percentage_error: 13.8011\n",
      "Epoch 73/100\n"
     ]
    },
    {
     "name": "stdout",
     "output_type": "stream",
     "text": [
      "1539/1539 [==============================] - 45s 29ms/step - loss: 3.5178 - mean_absolute_error: 11.9432 - root_mean_squared_error: 17.8576 - mean_absolute_percentage_error: 13.7861\n",
      "Epoch 74/100\n",
      "1539/1539 [==============================] - 45s 29ms/step - loss: 3.5133 - mean_absolute_error: 11.9312 - root_mean_squared_error: 17.8471 - mean_absolute_percentage_error: 13.7683\n",
      "Epoch 75/100\n",
      "1539/1539 [==============================] - 45s 29ms/step - loss: 3.5056 - mean_absolute_error: 11.9112 - root_mean_squared_error: 17.8291 - mean_absolute_percentage_error: 13.7142\n",
      "Epoch 76/100\n",
      "1539/1539 [==============================] - 41s 26ms/step - loss: 3.5036 - mean_absolute_error: 11.8985 - root_mean_squared_error: 17.8068 - mean_absolute_percentage_error: 13.7280\n",
      "Epoch 77/100\n",
      "1539/1539 [==============================] - 43s 28ms/step - loss: 3.4942 - mean_absolute_error: 11.8769 - root_mean_squared_error: 17.7853 - mean_absolute_percentage_error: 13.6746\n",
      "Epoch 78/100\n",
      "1539/1539 [==============================] - 45s 29ms/step - loss: 3.4875 - mean_absolute_error: 11.8570 - root_mean_squared_error: 17.7674 - mean_absolute_percentage_error: 13.6407\n",
      "Epoch 79/100\n",
      "1539/1539 [==============================] - 45s 29ms/step - loss: 3.4811 - mean_absolute_error: 11.8350 - root_mean_squared_error: 17.7382 - mean_absolute_percentage_error: 13.6404\n",
      "Epoch 80/100\n",
      "1539/1539 [==============================] - 45s 29ms/step - loss: 3.4745 - mean_absolute_error: 11.8158 - root_mean_squared_error: 17.7140 - mean_absolute_percentage_error: 13.5580\n",
      "Epoch 81/100\n",
      "1539/1539 [==============================] - 45s 29ms/step - loss: 3.4699 - mean_absolute_error: 11.8064 - root_mean_squared_error: 17.7135 - mean_absolute_percentage_error: 13.5470\n",
      "Epoch 82/100\n",
      "1539/1539 [==============================] - 45s 29ms/step - loss: 3.4649 - mean_absolute_error: 11.7895 - root_mean_squared_error: 17.6920 - mean_absolute_percentage_error: 13.5360\n",
      "Epoch 83/100\n",
      "1539/1539 [==============================] - 45s 29ms/step - loss: 3.4548 - mean_absolute_error: 11.7578 - root_mean_squared_error: 17.6609 - mean_absolute_percentage_error: 13.4703\n",
      "Epoch 84/100\n",
      "1539/1539 [==============================] - 45s 29ms/step - loss: 3.4562 - mean_absolute_error: 11.7596 - root_mean_squared_error: 17.6502 - mean_absolute_percentage_error: 13.5035\n",
      "Epoch 85/100\n",
      "1539/1539 [==============================] - 45s 29ms/step - loss: 3.4507 - mean_absolute_error: 11.7336 - root_mean_squared_error: 17.6253 - mean_absolute_percentage_error: 13.5294\n",
      "Epoch 86/100\n",
      "1539/1539 [==============================] - 45s 29ms/step - loss: 3.4329 - mean_absolute_error: 11.6887 - root_mean_squared_error: 17.5741 - mean_absolute_percentage_error: 13.3718\n",
      "Epoch 87/100\n",
      "1539/1539 [==============================] - 45s 29ms/step - loss: 3.4315 - mean_absolute_error: 11.6865 - root_mean_squared_error: 17.5794 - mean_absolute_percentage_error: 13.3675\n",
      "Epoch 88/100\n",
      "1539/1539 [==============================] - 45s 29ms/step - loss: 3.4222 - mean_absolute_error: 11.6550 - root_mean_squared_error: 17.5401 - mean_absolute_percentage_error: 13.3290\n",
      "Epoch 89/100\n",
      "1539/1539 [==============================] - 45s 29ms/step - loss: 3.4195 - mean_absolute_error: 11.6480 - root_mean_squared_error: 17.5382 - mean_absolute_percentage_error: 13.3155 3s - loss: 3.4138 - mean_absolute_error: 11.6221 - root_mean_squared_error: 17.4\n",
      "Epoch 90/100\n",
      "1539/1539 [==============================] - 45s 29ms/step - loss: 3.4113 - mean_absolute_error: 11.6215 - root_mean_squared_error: 17.4993 - mean_absolute_percentage_error: 13.2752\n",
      "Epoch 91/100\n",
      "1539/1539 [==============================] - 45s 29ms/step - loss: 3.4105 - mean_absolute_error: 11.6221 - root_mean_squared_error: 17.5059 - mean_absolute_percentage_error: 13.2881\n",
      "Epoch 92/100\n",
      "1539/1539 [==============================] - 42s 28ms/step - loss: 3.4049 - mean_absolute_error: 11.6038 - root_mean_squared_error: 17.4822 - mean_absolute_percentage_error: 13.2526\n",
      "Epoch 93/100\n",
      "1539/1539 [==============================] - 44s 29ms/step - loss: 3.3962 - mean_absolute_error: 11.5792 - root_mean_squared_error: 17.4578 - mean_absolute_percentage_error: 13.2062\n",
      "Epoch 94/100\n",
      "1539/1539 [==============================] - 45s 29ms/step - loss: 3.3911 - mean_absolute_error: 11.5610 - root_mean_squared_error: 17.4414 - mean_absolute_percentage_error: 13.1962\n",
      "Epoch 95/100\n",
      "1539/1539 [==============================] - 45s 29ms/step - loss: 3.3841 - mean_absolute_error: 11.5379 - root_mean_squared_error: 17.4113 - mean_absolute_percentage_error: 13.1723\n",
      "Epoch 96/100\n",
      "1539/1539 [==============================] - 45s 29ms/step - loss: 3.3775 - mean_absolute_error: 11.5208 - root_mean_squared_error: 17.3933 - mean_absolute_percentage_error: 13.1529 3s - loss: 3.3754 - mean_absolute_error: 11.5114 - root_mean_squared\n",
      "Epoch 97/100\n",
      "1539/1539 [==============================] - 45s 29ms/step - loss: 3.3773 - mean_absolute_error: 11.5210 - root_mean_squared_error: 17.3869 - mean_absolute_percentage_error: 13.1133\n",
      "Epoch 98/100\n",
      "1539/1539 [==============================] - 45s 29ms/step - loss: 3.3687 - mean_absolute_error: 11.4961 - root_mean_squared_error: 17.3581 - mean_absolute_percentage_error: 13.0499\n",
      "Epoch 99/100\n",
      "1539/1539 [==============================] - 45s 29ms/step - loss: 3.3626 - mean_absolute_error: 11.4723 - root_mean_squared_error: 17.3427 - mean_absolute_percentage_error: 13.0720\n",
      "Epoch 100/100\n",
      "1539/1539 [==============================] - 45s 29ms/step - loss: 3.3536 - mean_absolute_error: 11.4480 - root_mean_squared_error: 17.3170 - mean_absolute_percentage_error: 12.9851\n"
     ]
    },
    {
     "data": {
      "text/plain": [
       "<keras.callbacks.History at 0x17bb4668e80>"
      ]
     },
     "execution_count": 38,
     "metadata": {},
     "output_type": "execute_result"
    }
   ],
   "source": [
    "model5.fit((Wt5,Xt5), yt5, \n",
    "           epochs = 100, \n",
    "           verbose = 1)"
   ]
  },
  {
   "cell_type": "code",
   "execution_count": 39,
   "metadata": {},
   "outputs": [
    {
     "name": "stderr",
     "output_type": "stream",
     "text": [
      "WARNING:absl:Function `_wrapped_model` contains input name(s) WideInput, DeepInput with unsupported characters which will be renamed to wideinput, deepinput in the SavedModel.\n",
      "WARNING:absl:Found untraced functions such as lstm_cell_5_layer_call_fn, lstm_cell_5_layer_call_and_return_conditional_losses, lstm_cell_6_layer_call_fn, lstm_cell_6_layer_call_and_return_conditional_losses, lstm_cell_5_layer_call_fn while saving (showing 5 of 10). These functions will not be directly callable after loading.\n"
     ]
    },
    {
     "name": "stdout",
     "output_type": "stream",
     "text": [
      "INFO:tensorflow:Assets written to: my_dir/8d-5\\assets\n"
     ]
    },
    {
     "name": "stderr",
     "output_type": "stream",
     "text": [
      "INFO:tensorflow:Assets written to: my_dir/8d-5\\assets\n",
      "WARNING:absl:<keras.layers.recurrent.LSTMCell object at 0x0000017BB45ACAF0> has the same name 'LSTMCell' as a built-in Keras object. Consider renaming <class 'keras.layers.recurrent.LSTMCell'> to avoid naming conflicts when loading with `tf.keras.models.load_model`. If renaming is not possible, pass the object in the `custom_objects` parameter of the load function.\n",
      "WARNING:absl:<keras.layers.recurrent.LSTMCell object at 0x0000017BFFE2B610> has the same name 'LSTMCell' as a built-in Keras object. Consider renaming <class 'keras.layers.recurrent.LSTMCell'> to avoid naming conflicts when loading with `tf.keras.models.load_model`. If renaming is not possible, pass the object in the `custom_objects` parameter of the load function.\n",
      "WARNING:absl:<keras.layers.recurrent.LSTMCell object at 0x0000017BAA698850> has the same name 'LSTMCell' as a built-in Keras object. Consider renaming <class 'keras.layers.recurrent.LSTMCell'> to avoid naming conflicts when loading with `tf.keras.models.load_model`. If renaming is not possible, pass the object in the `custom_objects` parameter of the load function.\n"
     ]
    }
   ],
   "source": [
    "model5.save(\"my_dir/8d-5\")"
   ]
  },
  {
   "cell_type": "code",
   "execution_count": 40,
   "metadata": {},
   "outputs": [],
   "source": [
    "metrics5 = pd.DataFrame(model5.history.history)"
   ]
  },
  {
   "cell_type": "code",
   "execution_count": 41,
   "metadata": {},
   "outputs": [
    {
     "data": {
      "text/plain": [
       "<AxesSubplot:>"
      ]
     },
     "execution_count": 41,
     "metadata": {},
     "output_type": "execute_result"
    },
    {
     "data": {
      "image/png": "[encoded data removed]",
      "text/plain": [
       "<Figure size 432x288 with 1 Axes>"
      ]
     },
     "metadata": {
      "needs_background": "light"
     },
     "output_type": "display_data"
    }
   ],
   "source": [
    "metrics5[['loss']].plot()"
   ]
  },
  {
   "cell_type": "code",
   "execution_count": 33,
   "metadata": {},
   "outputs": [],
   "source": [
    "model5 = keras.models.load_model(\"my_dir/8d-5\", custom_objects={'rGEH_loss': rGEH_loss}) "
   ]
  },
  {
   "cell_type": "code",
   "execution_count": 34,
   "metadata": {},
   "outputs": [
    {
     "data": {
      "text/plain": [
       "array([[29.053188 , 16.721489 , 32.799232 , 71.95916  , 24.869194 ,\n",
       "         4.9959774],\n",
       "       [28.929882 , 16.415453 , 36.43313  , 75.49485  , 30.994064 ,\n",
       "         4.8589067],\n",
       "       [27.997463 , 14.846355 , 35.096813 , 71.31339  , 26.277237 ,\n",
       "         5.0040784],\n",
       "       ...,\n",
       "       [43.453922 , 42.04916  , 48.92824  , 98.40154  , 42.710102 ,\n",
       "         9.96608  ],\n",
       "       [42.373676 , 39.59094  , 45.978073 , 83.752495 , 35.61307  ,\n",
       "        10.294956 ],\n",
       "       [41.692425 , 37.85958  , 53.59384  , 96.39124  , 38.791096 ,\n",
       "         8.823437 ]], dtype=float32)"
      ]
     },
     "execution_count": 34,
     "metadata": {},
     "output_type": "execute_result"
    }
   ],
   "source": [
    "model5.predict((Wv5,Xv5))"
   ]
  },
  {
   "cell_type": "markdown",
   "metadata": {},
   "source": [
    "### Evaluation on inverse_transform"
   ]
  },
  {
   "cell_type": "code",
   "execution_count": null,
   "metadata": {},
   "outputs": [],
   "source": [
    "test_predictions5 = model5.predict((Wv5,Xv5))\n",
    "\n",
    "\n",
    "MSE5 = mean_squared_error(yv5,test_predictions5)\n",
    "\n",
    "MAE5 = mean_absolute_error(yv5,test_predictions5)\n",
    "\n",
    "RMSE5 = np.sqrt(MSE5)\n",
    "\n",
    "MAPE5 = mean_absolute_percentage_error(yv5,test_predictions5)*100\n",
    "\n",
    "eval5 = [MSE5, MAE5, RMSE5, MAPE5]\n",
    "print(eval5)"
   ]
  },
  {
   "cell_type": "code",
   "execution_count": null,
   "metadata": {},
   "outputs": [],
   "source": [
    "GEH, count = ga.GEH(np.asarray(yv5), np.asarray(test_predictions5))\n",
    "GEH5 = count/GEH.size\n",
    "print(GEH5)"
   ]
  },
  {
   "cell_type": "markdown",
   "metadata": {},
   "source": [
    "# 15 mins ahead"
   ]
  },
  {
   "cell_type": "code",
   "execution_count": 37,
   "metadata": {},
   "outputs": [],
   "source": [
    "def build_model_15(hp):\n",
    "    # Inputs\n",
    "    channel_Wide = keras.layers.Input(shape=Wt15.shape[1:], name=\"WideInput\")\n",
    "    channel_Deep = keras.layers.Input(shape=Xt15.shape[1:], name=\"DeepInput\")\n",
    "    units = hp.Int(\"units\", min_value=1, max_value=100, step=1)\n",
    "    \n",
    "    \n",
    "    # Wide Model\n",
    "    flatten_15w = keras.layers.TimeDistributed(keras.layers.Flatten())(channel_Wide)\n",
    "    Bi_15 = keras.layers.Bidirectional(\n",
    "        keras.layers.LSTM(units=units, return_sequences=True),\n",
    "        merge_mode=\"ave\"\n",
    "    )(flatten_15w)\n",
    "    \n",
    "    \n",
    "    # Deep Model\n",
    "    # CNN \n",
    "    CNN_15 = keras.layers.TimeDistributed(\n",
    "        keras.layers.Conv2D(filters=hp.Int(\"filters\", min_value=32, max_value=512, step=32),\n",
    "                            kernel_size=hp.Choice(\"kernel_size\", [2, 3]), activation='relu'))(channel_Deep)\n",
    "    flatten_15 = keras.layers.TimeDistributed(keras.layers.Flatten())(CNN_15)\n",
    "    # LSTM          \n",
    "    LSTM_15 = keras.layers.LSTM(units=units, activation='relu', return_sequences=True)(flatten_15)\n",
    "\n",
    "    \n",
    "    # Concatenation \n",
    "    concat = keras.layers.concatenate([Bi_15, LSTM_15], axis=1)\n",
    "\n",
    "    # Attention\n",
    "    Att_15 = SeqSelfAttention(attention_activation='sigmoid')(concat)\n",
    "    merge = keras.layers.Flatten()(Att_15)\n",
    "\n",
    "    \n",
    "    # Output\n",
    "    output = keras.layers.Dense(n_features, name= \"output\")(merge)\n",
    "    \n",
    "    # Model\n",
    "    model_15 = keras.Model(inputs=[channel_Wide,channel_Deep], outputs=[output])\n",
    "\n",
    "    # Compile\n",
    "    model_15.compile(optimizer=keras.optimizers.Adam(hp.Choice(\"learning_rate\", [1e-2, 1e-3, 1e-4])), \n",
    "        loss=rGEH_loss, metrics=['MeanAbsoluteError','RootMeanSquaredError','MeanAbsolutePercentageError'])\n",
    "                    \n",
    "    return model_15"
   ]
  },
  {
   "cell_type": "code",
   "execution_count": 38,
   "metadata": {},
   "outputs": [
    {
     "name": "stdout",
     "output_type": "stream",
     "text": [
      "INFO:tensorflow:Reloading Oracle from existing project C:\\RunsOak\\8d-15\\oracle.json\n",
      "INFO:tensorflow:Reloading Tuner from C:\\RunsOak\\8d-15\\tuner0.json\n"
     ]
    }
   ],
   "source": [
    "tuner15 = RandomSearch(\n",
    "    build_model_15,\n",
    "    objective=\"val_loss\",\n",
    "    max_trials=60,\n",
    "    executions_per_trial=2,\n",
    "    overwrite=False,\n",
    "    directory=os.path.normpath('C:/RunsOak'),\n",
    "    project_name=\"8d-15\",\n",
    ")"
   ]
  },
  {
   "cell_type": "code",
   "execution_count": 39,
   "metadata": {},
   "outputs": [
    {
     "name": "stdout",
     "output_type": "stream",
     "text": [
      "Search space summary\n",
      "Default search space size: 4\n",
      "units (Int)\n",
      "{'default': None, 'conditions': [], 'min_value': 1, 'max_value': 100, 'step': 1, 'sampling': None}\n",
      "filters (Int)\n",
      "{'default': None, 'conditions': [], 'min_value': 32, 'max_value': 512, 'step': 32, 'sampling': None}\n",
      "kernel_size (Choice)\n",
      "{'default': 2, 'conditions': [], 'values': [2, 3], 'ordered': True}\n",
      "learning_rate (Choice)\n",
      "{'default': 0.01, 'conditions': [], 'values': [0.01, 0.001, 0.0001], 'ordered': True}\n"
     ]
    }
   ],
   "source": [
    "tuner15.search_space_summary()"
   ]
  },
  {
   "cell_type": "code",
   "execution_count": 49,
   "metadata": {},
   "outputs": [
    {
     "name": "stdout",
     "output_type": "stream",
     "text": [
      "Trial 60 Complete [00h 16m 21s]\n",
      "val_loss: 4.493234395980835\n",
      "\n",
      "Best val_loss So Far: 4.33412766456604\n",
      "Total elapsed time: 08h 17m 14s\n",
      "INFO:tensorflow:Oracle triggered exit\n"
     ]
    },
    {
     "name": "stderr",
     "output_type": "stream",
     "text": [
      "INFO:tensorflow:Oracle triggered exit\n"
     ]
    }
   ],
   "source": [
    "tuner15.search((Wt15,Xt15), yt15, epochs=200,\n",
    "            validation_split = val_percent,\n",
    "            callbacks=[early_stop], \n",
    "            verbose=2)"
   ]
  },
  {
   "cell_type": "code",
   "execution_count": 50,
   "metadata": {},
   "outputs": [
    {
     "name": "stdout",
     "output_type": "stream",
     "text": [
      "Results summary\n",
      "Results in C:\\RunsOak\\8d-15\n",
      "Showing 1 best trials\n",
      "Objective(name='val_loss', direction='min')\n",
      "Trial summary\n",
      "Hyperparameters:\n",
      "units: 40\n",
      "filters: 256\n",
      "kernel_size: 2\n",
      "learning_rate: 0.001\n",
      "Score: 4.33412766456604\n"
     ]
    }
   ],
   "source": [
    "tuner15.results_summary(1)"
   ]
  },
  {
   "cell_type": "markdown",
   "metadata": {},
   "source": [
    "### Best model"
   ]
  },
  {
   "cell_type": "code",
   "execution_count": 51,
   "metadata": {},
   "outputs": [],
   "source": [
    "best_hp15 = tuner15.get_best_hyperparameters()[0]\n",
    "model15 = tuner15.hypermodel.build(best_hp15)"
   ]
  },
  {
   "cell_type": "code",
   "execution_count": 52,
   "metadata": {},
   "outputs": [
    {
     "data": {
      "text/plain": [
       "['Best_HP/8d-15']"
      ]
     },
     "execution_count": 52,
     "metadata": {},
     "output_type": "execute_result"
    }
   ],
   "source": [
    "scaler_filename = \"Best_HP/8d-15\"\n",
    "joblib.dump(best_hp15, scaler_filename) "
   ]
  },
  {
   "cell_type": "code",
   "execution_count": 53,
   "metadata": {},
   "outputs": [
    {
     "name": "stdout",
     "output_type": "stream",
     "text": [
      "Model: \"model_1\"\n",
      "__________________________________________________________________________________________________\n",
      " Layer (type)                   Output Shape         Param #     Connected to                     \n",
      "==================================================================================================\n",
      " DeepInput (InputLayer)         [(None, 3, 5, 6, 1)  0           []                               \n",
      "                                ]                                                                 \n",
      "                                                                                                  \n",
      " WideInput (InputLayer)         [(None, 3, 3, 6)]    0           []                               \n",
      "                                                                                                  \n",
      " time_distributed_4 (TimeDistri  (None, 3, 4, 5, 256  1280       ['DeepInput[0][0]']              \n",
      " buted)                         )                                                                 \n",
      "                                                                                                  \n",
      " time_distributed_3 (TimeDistri  (None, 3, 18)       0           ['WideInput[0][0]']              \n",
      " buted)                                                                                           \n",
      "                                                                                                  \n",
      " time_distributed_5 (TimeDistri  (None, 3, 5120)     0           ['time_distributed_4[0][0]']     \n",
      " buted)                                                                                           \n",
      "                                                                                                  \n",
      " bidirectional_1 (Bidirectional  (None, 3, 40)       18880       ['time_distributed_3[0][0]']     \n",
      " )                                                                                                \n",
      "                                                                                                  \n",
      " lstm_3 (LSTM)                  (None, 3, 40)        825760      ['time_distributed_5[0][0]']     \n",
      "                                                                                                  \n",
      " concatenate_1 (Concatenate)    (None, 6, 40)        0           ['bidirectional_1[0][0]',        \n",
      "                                                                  'lstm_3[0][0]']                 \n",
      "                                                                                                  \n",
      " seq_self_attention_1 (SeqSelfA  (None, 6, 40)       2625        ['concatenate_1[0][0]']          \n",
      " ttention)                                                                                        \n",
      "                                                                                                  \n",
      " flatten_5 (Flatten)            (None, 240)          0           ['seq_self_attention_1[0][0]']   \n",
      "                                                                                                  \n",
      " output (Dense)                 (None, 6)            1446        ['flatten_5[0][0]']              \n",
      "                                                                                                  \n",
      "==================================================================================================\n",
      "Total params: 849,991\n",
      "Trainable params: 849,991\n",
      "Non-trainable params: 0\n",
      "__________________________________________________________________________________________________\n"
     ]
    }
   ],
   "source": [
    "model15.summary()"
   ]
  },
  {
   "cell_type": "code",
   "execution_count": 54,
   "metadata": {},
   "outputs": [
    {
     "name": "stdout",
     "output_type": "stream",
     "text": [
      "Epoch 1/100\n",
      "1539/1539 [==============================] - 39s 23ms/step - loss: 6.8836 - mean_absolute_error: 21.8579 - root_mean_squared_error: 36.2697 - mean_absolute_percentage_error: 30.8939 4s - loss: 7.0850 - mean_absolute_error: 22.4152 - root_mean_s\n",
      "Epoch 2/100\n",
      "1539/1539 [==============================] - 35s 23ms/step - loss: 5.1377 - mean_absolute_error: 16.8281 - root_mean_squared_error: 24.2790 - mean_absolute_percentage_error: 22.5960\n",
      "Epoch 3/100\n",
      "1539/1539 [==============================] - 35s 23ms/step - loss: 4.8601 - mean_absolute_error: 15.9975 - root_mean_squared_error: 23.0611 - mean_absolute_percentage_error: 21.2044 1s - loss: 4.8597 - mean_absolute_error: 15.9914 - root_mean_squared_error: 23.0503 - mean_absolute_percentage_er - ETA: 0s - loss: 4.8585 - mean_absolute_error: 15.9914 - root_mean_squared_error: 23.0536 - mean_absolute_percentage_e\n",
      "Epoch 4/100\n",
      "1539/1539 [==============================] - 35s 23ms/step - loss: 4.7340 - mean_absolute_error: 15.6461 - root_mean_squared_error: 22.6131 - mean_absolute_percentage_error: 20.4768\n",
      "Epoch 5/100\n",
      "1539/1539 [==============================] - 35s 23ms/step - loss: 4.6537 - mean_absolute_error: 15.4233 - root_mean_squared_error: 22.3569 - mean_absolute_percentage_error: 19.9798\n",
      "Epoch 6/100\n",
      "1539/1539 [==============================] - 36s 23ms/step - loss: 4.5795 - mean_absolute_error: 15.1766 - root_mean_squared_error: 22.0044 - mean_absolute_percentage_error: 19.5801\n",
      "Epoch 7/100\n",
      "1539/1539 [==============================] - 35s 23ms/step - loss: 4.5233 - mean_absolute_error: 14.9804 - root_mean_squared_error: 21.7420 - mean_absolute_percentage_error: 19.3677 0s - loss: 4.5239 - mean_absolute_error: 14.9818 - root_mean_squared_error: 21.7458 - mean_absolute_percentage\n",
      "Epoch 8/100\n",
      "1539/1539 [==============================] - 34s 22ms/step - loss: 4.4725 - mean_absolute_error: 14.8168 - root_mean_squared_error: 21.5455 - mean_absolute_percentage_error: 19.2159 12s - loss: 4.4699 - mean_absolute_error: 14.8094 - root_mean_squared_erro - ETA: 10s - loss: 4.4648 - mean - ETA: 5s - loss: 4.4664 - mean_absolute_error: 14.\n",
      "Epoch 9/100\n",
      "1539/1539 [==============================] - 35s 23ms/step - loss: 4.4508 - mean_absolute_error: 14.7450 - root_mean_squared_error: 21.4316 - mean_absolute_percentage_error: 19.0591\n",
      "Epoch 10/100\n",
      "1539/1539 [==============================] - 36s 23ms/step - loss: 4.4333 - mean_absolute_error: 14.6943 - root_mean_squared_error: 21.3879 - mean_absolute_percentage_error: 18.9415\n",
      "Epoch 11/100\n",
      "1539/1539 [==============================] - 35s 23ms/step - loss: 4.4041 - mean_absolute_error: 14.5973 - root_mean_squared_error: 21.2752 - mean_absolute_percentage_error: 18.8235\n",
      "Epoch 12/100\n",
      "1539/1539 [==============================] - 35s 23ms/step - loss: 4.3880 - mean_absolute_error: 14.5574 - root_mean_squared_error: 21.2137 - mean_absolute_percentage_error: 18.8195\n",
      "Epoch 13/100\n",
      "1539/1539 [==============================] - 35s 23ms/step - loss: 4.3619 - mean_absolute_error: 14.4677 - root_mean_squared_error: 21.1151 - mean_absolute_percentage_error: 18.7062\n",
      "Epoch 14/100\n",
      "1539/1539 [==============================] - 35s 23ms/step - loss: 4.3578 - mean_absolute_error: 14.4591 - root_mean_squared_error: 21.0915 - mean_absolute_percentage_error: 18.6378\n",
      "Epoch 15/100\n",
      "1539/1539 [==============================] - 36s 23ms/step - loss: 4.3463 - mean_absolute_error: 14.4335 - root_mean_squared_error: 21.0765 - mean_absolute_percentage_error: 18.6126\n",
      "Epoch 16/100\n",
      "1539/1539 [==============================] - 35s 23ms/step - loss: 4.3203 - mean_absolute_error: 14.3391 - root_mean_squared_error: 20.9498 - mean_absolute_percentage_error: 18.4365 12s - loss: 4.3198 - mea\n",
      "Epoch 17/100\n",
      "1539/1539 [==============================] - 35s 23ms/step - loss: 4.3140 - mean_absolute_error: 14.3241 - root_mean_squared_error: 20.9352 - mean_absolute_percentage_error: 18.3860\n",
      "Epoch 18/100\n",
      "1539/1539 [==============================] - 36s 23ms/step - loss: 4.3176 - mean_absolute_error: 14.3441 - root_mean_squared_error: 20.9608 - mean_absolute_percentage_error: 18.4563\n",
      "Epoch 19/100\n",
      "1539/1539 [==============================] - 35s 23ms/step - loss: 4.3082 - mean_absolute_error: 14.3193 - root_mean_squared_error: 20.9249 - mean_absolute_percentage_error: 18.3090\n",
      "Epoch 20/100\n",
      "1539/1539 [==============================] - 35s 23ms/step - loss: 4.2932 - mean_absolute_error: 14.2680 - root_mean_squared_error: 20.8681 - mean_absolute_percentage_error: 18.2664\n",
      "Epoch 21/100\n",
      "1539/1539 [==============================] - 35s 23ms/step - loss: 4.2901 - mean_absolute_error: 14.2673 - root_mean_squared_error: 20.8551 - mean_absolute_percentage_error: 18.3042 3s - loss: 4.2917 - mean_absolute_error: 14.2607 - root_mean_squared_erro\n",
      "Epoch 22/100\n",
      "1539/1539 [==============================] - 36s 23ms/step - loss: 4.2759 - mean_absolute_error: 14.2107 - root_mean_squared_error: 20.7858 - mean_absolute_percentage_error: 18.2442\n",
      "Epoch 23/100\n",
      "1539/1539 [==============================] - 35s 23ms/step - loss: 4.2684 - mean_absolute_error: 14.1871 - root_mean_squared_error: 20.7657 - mean_absolute_percentage_error: 18.1534 12s - loss: 4.2592 - mean_absolu\n",
      "Epoch 24/100\n",
      "1539/1539 [==============================] - 35s 23ms/step - loss: 4.2637 - mean_absolute_error: 14.1810 - root_mean_squared_error: 20.7677 - mean_absolute_percentage_error: 18.1951 6s - loss: 4.2620 - mean_abso\n",
      "Epoch 25/100\n",
      "1539/1539 [==============================] - 35s 23ms/step - loss: 4.2439 - mean_absolute_error: 14.1128 - root_mean_squared_error: 20.6666 - mean_absolute_percentage_error: 18.0834 0s - loss: 4.2439 - mean_absolute_error: 14.1128 - root_mean_squared_error: 20.6666 - mean_absolute_percentage_error: 18.083\n",
      "Epoch 26/100\n",
      "1539/1539 [==============================] - 35s 23ms/step - loss: 4.2428 - mean_absolute_error: 14.1164 - root_mean_squared_error: 20.6739 - mean_absolute_percentage_error: 18.0660\n",
      "Epoch 27/100\n",
      "1539/1539 [==============================] - 35s 23ms/step - loss: 4.2353 - mean_absolute_error: 14.0851 - root_mean_squared_error: 20.6468 - mean_absolute_percentage_error: 18.0184 4s - loss: 4.2325 - mean_absolute_error: 14.0938 - root_mean_\n",
      "Epoch 28/100\n",
      "1539/1539 [==============================] - 36s 23ms/step - loss: 4.2260 - mean_absolute_error: 14.0632 - root_mean_squared_error: 20.6166 - mean_absolute_percentage_error: 18.0058\n",
      "Epoch 29/100\n",
      "1539/1539 [==============================] - 35s 23ms/step - loss: 4.2255 - mean_absolute_error: 14.0652 - root_mean_squared_error: 20.6257 - mean_absolute_percentage_error: 17.9739\n",
      "Epoch 30/100\n",
      "1539/1539 [==============================] - 35s 23ms/step - loss: 4.2079 - mean_absolute_error: 14.0052 - root_mean_squared_error: 20.5490 - mean_absolute_percentage_error: 17.9114 3s - loss: 4.2073 - mean_absolute_error: 14.0074 - root_mean_squared_error\n",
      "Epoch 31/100\n",
      "1539/1539 [==============================] - 35s 23ms/step - loss: 4.2068 - mean_absolute_error: 14.0053 - root_mean_squared_error: 20.5469 - mean_absolute_percentage_error: 17.9380\n",
      "Epoch 32/100\n",
      "1539/1539 [==============================] - 36s 23ms/step - loss: 4.1972 - mean_absolute_error: 13.9711 - root_mean_squared_error: 20.4913 - mean_absolute_percentage_error: 17.8566\n",
      "Epoch 33/100\n",
      "1539/1539 [==============================] - 35s 23ms/step - loss: 4.1973 - mean_absolute_error: 13.9773 - root_mean_squared_error: 20.5124 - mean_absolute_percentage_error: 17.7911\n",
      "Epoch 34/100\n",
      "1539/1539 [==============================] - 35s 23ms/step - loss: 4.1838 - mean_absolute_error: 13.9306 - root_mean_squared_error: 20.4495 - mean_absolute_percentage_error: 17.7490 8s - l\n",
      "Epoch 35/100\n",
      "1539/1539 [==============================] - 35s 23ms/step - loss: 4.1798 - mean_absolute_error: 13.9302 - root_mean_squared_error: 20.4592 - mean_absolute_percentage_error: 17.6732 1s - loss: 4.1788 - mean_absolute_error: 13.9326 - root_mean_squared_error: 20.4594 - mean_absolut\n",
      "Epoch 36/100\n",
      "1539/1539 [==============================] - 35s 23ms/step - loss: 4.1764 - mean_absolute_error: 13.9211 - root_mean_squared_error: 20.4441 - mean_absolute_percentage_error: 17.6897\n",
      "Epoch 37/100\n",
      "1539/1539 [==============================] - 35s 23ms/step - loss: 4.1586 - mean_absolute_error: 13.8593 - root_mean_squared_error: 20.3761 - mean_absolute_percentage_error: 17.6053 1s - loss: 4.1588 - mean_absolute_error: 13.8654 - root_mean_squared_error: 20.3867 - mean_absolute_pe\n",
      "Epoch 38/100\n",
      "1539/1539 [==============================] - 35s 23ms/step - loss: 4.1605 - mean_absolute_error: 13.8700 - root_mean_squared_error: 20.3758 - mean_absolute_percentage_error: 17.5682\n",
      "Epoch 39/100\n",
      "1539/1539 [==============================] - 35s 23ms/step - loss: 4.1488 - mean_absolute_error: 13.8361 - root_mean_squared_error: 20.3497 - mean_absolute_percentage_error: 17.5612\n",
      "Epoch 40/100\n",
      "1539/1539 [==============================] - 35s 23ms/step - loss: 4.1377 - mean_absolute_error: 13.7983 - root_mean_squared_error: 20.3079 - mean_absolute_percentage_error: 17.4367 3s - loss: 4.1354 - mean_absolute_error: 13.7972 - root_mean_squared_error: 20\n",
      "Epoch 41/100\n",
      "1539/1539 [==============================] - 35s 23ms/step - loss: 4.1454 - mean_absolute_error: 13.8302 - root_mean_squared_error: 20.3429 - mean_absolute_percentage_error: 17.4831 11s - loss: 4.1371 - mean_absolute_error: 13. - ETA: 7s - l\n",
      "Epoch 42/100\n",
      "1539/1539 [==============================] - 35s 23ms/step - loss: 4.1283 - mean_absolute_error: 13.7750 - root_mean_squared_error: 20.2765 - mean_absolute_percentage_error: 17.4247 3s - loss: 4.1269 - mean_absolute_error: 13.7736 - root_mean_squared_\n",
      "Epoch 43/100\n",
      "1539/1539 [==============================] - 35s 23ms/step - loss: 4.1179 - mean_absolute_error: 13.7429 - root_mean_squared_error: 20.2389 - mean_absolute_percentage_error: 17.3404\n",
      "Epoch 44/100\n",
      "1539/1539 [==============================] - 35s 23ms/step - loss: 4.1186 - mean_absolute_error: 13.7556 - root_mean_squared_error: 20.2592 - mean_absolute_percentage_error: 17.3364 7s - loss: 4.1192 - mean_absolute_error: 13.7517 - root_mean_squared_ - ETA: 3s - loss: 4.1158 - mean_absolute_error: 13.7431 - root_mean_squa\n",
      "Epoch 45/100\n",
      "1539/1539 [==============================] - 36s 23ms/step - loss: 4.1093 - mean_absolute_error: 13.7243 - root_mean_squared_error: 20.2193 - mean_absolute_percentage_error: 17.2900 7s - loss: 4.1069 -\n",
      "Epoch 46/100\n",
      "1539/1539 [==============================] - 35s 23ms/step - loss: 4.1003 - mean_absolute_error: 13.6910 - root_mean_squared_error: 20.1743 - mean_absolute_percentage_error: 17.2948 3s - loss: 4.0984 - mean_absolute_error: 13.6743 - root_mean_squared_er\n",
      "Epoch 47/100\n",
      "1539/1539 [==============================] - 35s 23ms/step - loss: 4.0964 - mean_absolute_error: 13.6859 - root_mean_squared_error: 20.1799 - mean_absolute_percentage_error: 17.2570\n",
      "Epoch 48/100\n",
      "1539/1539 [==============================] - 35s 23ms/step - loss: 4.0906 - mean_absolute_error: 13.6757 - root_mean_squared_error: 20.1760 - mean_absolute_percentage_error: 17.2112\n",
      "Epoch 49/100\n",
      "1539/1539 [==============================] - 35s 23ms/step - loss: 4.0833 - mean_absolute_error: 13.6494 - root_mean_squared_error: 20.1302 - mean_absolute_percentage_error: 17.1663\n",
      "Epoch 50/100\n",
      "1539/1539 [==============================] - 35s 23ms/step - loss: 4.0836 - mean_absolute_error: 13.6507 - root_mean_squared_error: 20.1259 - mean_absolute_percentage_error: 17.1034\n",
      "Epoch 51/100\n",
      "1539/1539 [==============================] - 35s 23ms/step - loss: 4.0714 - mean_absolute_error: 13.6140 - root_mean_squared_error: 20.0972 - mean_absolute_percentage_error: 17.0694\n",
      "Epoch 52/100\n",
      "1539/1539 [==============================] - 35s 23ms/step - loss: 4.0666 - mean_absolute_error: 13.6047 - root_mean_squared_error: 20.0877 - mean_absolute_percentage_error: 17.0244\n",
      "Epoch 53/100\n",
      "1539/1539 [==============================] - 35s 23ms/step - loss: 4.0621 - mean_absolute_error: 13.5910 - root_mean_squared_error: 20.0756 - mean_absolute_percentage_error: 16.9901\n",
      "Epoch 54/100\n",
      "1539/1539 [==============================] - 35s 23ms/step - loss: 4.0522 - mean_absolute_error: 13.5635 - root_mean_squared_error: 20.0424 - mean_absolute_percentage_error: 16.9395\n",
      "Epoch 55/100\n",
      "1539/1539 [==============================] - 35s 23ms/step - loss: 4.0506 - mean_absolute_error: 13.5604 - root_mean_squared_error: 20.0321 - mean_absolute_percentage_error: 16.9682 4s - loss: 4.0480 - mean_absolute_error: 13.5593 - root_mean_sq\n",
      "Epoch 56/100\n",
      "1539/1539 [==============================] - 35s 23ms/step - loss: 4.0383 - mean_absolute_error: 13.5209 - root_mean_squared_error: 19.9960 - mean_absolute_percentage_error: 16.8418 6s - loss: 4.0338 - me\n",
      "Epoch 57/100\n",
      "1539/1539 [==============================] - 35s 23ms/step - loss: 4.0375 - mean_absolute_error: 13.5244 - root_mean_squared_error: 19.9945 - mean_absolute_percentage_error: 16.8509\n",
      "Epoch 58/100\n",
      "1539/1539 [==============================] - 35s 23ms/step - loss: 4.0314 - mean_absolute_error: 13.5075 - root_mean_squared_error: 19.9771 - mean_absolute_percentage_error: 16.8156\n",
      "Epoch 59/100\n",
      "1539/1539 [==============================] - 35s 23ms/step - loss: 4.0282 - mean_absolute_error: 13.4922 - root_mean_squared_error: 19.9595 - mean_absolute_percentage_error: 16.8018 4s - loss: 4.0247 - mean_absolute_error: 13.4892 - root_mean_squared_error: 19.9575 - mean_absolu - ETA: 2s - loss: 4.0274 - mean_absolute_error: 13.4845 - root_mean_squared_error: 19.9379 - m\n",
      "Epoch 60/100\n",
      "1539/1539 [==============================] - 35s 23ms/step - loss: 4.0179 - mean_absolute_error: 13.4699 - root_mean_squared_error: 19.9310 - mean_absolute_percentage_error: 16.7351\n",
      "Epoch 61/100\n",
      "1539/1539 [==============================] - 35s 23ms/step - loss: 4.0125 - mean_absolute_error: 13.4527 - root_mean_squared_error: 19.9349 - mean_absolute_percentage_error: 16.6668 9s - loss: 4.0237 - mean_absolute_error: 13.5200 - root_mean_squared_error: 20.0728 - mean_absolute_percentage -\n",
      "Epoch 62/100\n",
      "1539/1539 [==============================] - 35s 23ms/step - loss: 4.0059 - mean_absolute_error: 13.4324 - root_mean_squared_error: 19.8949 - mean_absolute_percentage_error: 16.6593\n",
      "Epoch 63/100\n",
      "1539/1539 [==============================] - 35s 23ms/step - loss: 4.0022 - mean_absolute_error: 13.4263 - root_mean_squared_error: 19.8825 - mean_absolute_percentage_error: 16.6490\n",
      "Epoch 64/100\n",
      "1539/1539 [==============================] - 35s 23ms/step - loss: 3.9971 - mean_absolute_error: 13.4093 - root_mean_squared_error: 19.8788 - mean_absolute_percentage_error: 16.6053\n",
      "Epoch 65/100\n",
      "1539/1539 [==============================] - 35s 23ms/step - loss: 3.9920 - mean_absolute_error: 13.3968 - root_mean_squared_error: 19.8530 - mean_absolute_percentage_error: 16.5695\n",
      "Epoch 66/100\n",
      "1539/1539 [==============================] - 36s 23ms/step - loss: 3.9904 - mean_absolute_error: 13.3946 - root_mean_squared_error: 19.8672 - mean_absolute_percentage_error: 16.4901\n",
      "Epoch 67/100\n",
      "1539/1539 [==============================] - 36s 23ms/step - loss: 3.9802 - mean_absolute_error: 13.3616 - root_mean_squared_error: 19.8128 - mean_absolute_percentage_error: 16.5170\n",
      "Epoch 68/100\n",
      "1539/1539 [==============================] - 35s 23ms/step - loss: 3.9728 - mean_absolute_error: 13.3405 - root_mean_squared_error: 19.7812 - mean_absolute_percentage_error: 16.4827\n",
      "Epoch 69/100\n",
      "1539/1539 [==============================] - 35s 23ms/step - loss: 3.9699 - mean_absolute_error: 13.3296 - root_mean_squared_error: 19.7787 - mean_absolute_percentage_error: 16.4064\n",
      "Epoch 70/100\n",
      "1539/1539 [==============================] - 35s 23ms/step - loss: 3.9630 - mean_absolute_error: 13.3128 - root_mean_squared_error: 19.7571 - mean_absolute_percentage_error: 16.4271\n",
      "Epoch 71/100\n",
      "1539/1539 [==============================] - 35s 23ms/step - loss: 3.9589 - mean_absolute_error: 13.2942 - root_mean_squared_error: 19.7381 - mean_absolute_percentage_error: 16.3917\n",
      "Epoch 72/100\n"
     ]
    },
    {
     "name": "stdout",
     "output_type": "stream",
     "text": [
      "1539/1539 [==============================] - 36s 23ms/step - loss: 3.9577 - mean_absolute_error: 13.2948 - root_mean_squared_error: 19.7442 - mean_absolute_percentage_error: 16.3981 6s - loss: 3.9601 - mean_ab\n",
      "Epoch 73/100\n",
      "1539/1539 [==============================] - 36s 23ms/step - loss: 3.9542 - mean_absolute_error: 13.2872 - root_mean_squared_error: 19.7281 - mean_absolute_percentage_error: 16.3586 11s  - ETA: 5s - loss: 3.9586 - mean_absolute_error: 1\n",
      "Epoch 74/100\n",
      "1539/1539 [==============================] - 36s 23ms/step - loss: 3.9430 - mean_absolute_error: 13.2508 - root_mean_squared_error: 19.7002 - mean_absolute_percentage_error: 16.2931 3s - loss: 3.9390 - mean_absolute_error: 13.2411 - root_mean_squared_\n",
      "Epoch 75/100\n",
      "1539/1539 [==============================] - 36s 23ms/step - loss: 3.9433 - mean_absolute_error: 13.2552 - root_mean_squared_error: 19.7145 - mean_absolute_percentage_error: 16.3081\n",
      "Epoch 76/100\n",
      "1539/1539 [==============================] - 36s 23ms/step - loss: 3.9361 - mean_absolute_error: 13.2328 - root_mean_squared_error: 19.6721 - mean_absolute_percentage_error: 16.2510 9s - loss: 3.9320 - mean_absolute_error: 13.1990 - root_mean_squared_error: 19.6299 - me - ETA: 6s - loss: 3.9391 - mean_ab\n",
      "Epoch 77/100\n",
      "1539/1539 [==============================] - 35s 23ms/step - loss: 3.9295 - mean_absolute_error: 13.2141 - root_mean_squared_error: 19.6524 - mean_absolute_percentage_error: 16.2254\n",
      "Epoch 78/100\n",
      "1539/1539 [==============================] - 35s 23ms/step - loss: 3.9518 - mean_absolute_error: 13.2545 - root_mean_squared_error: 19.6726 - mean_absolute_percentage_error: 16.5093\n",
      "Epoch 79/100\n",
      "1539/1539 [==============================] - 35s 23ms/step - loss: 3.9213 - mean_absolute_error: 13.1854 - root_mean_squared_error: 19.6082 - mean_absolute_percentage_error: 16.2142 1s - loss: 3.9212 - mean_absolute_error: 13.1864 - root_mean_squared_error: 19.6012 - mean_absolu\n",
      "Epoch 80/100\n",
      "1539/1539 [==============================] - 35s 23ms/step - loss: 3.9165 - mean_absolute_error: 13.1762 - root_mean_squared_error: 19.6053 - mean_absolute_percentage_error: 16.1877\n",
      "Epoch 81/100\n",
      "1539/1539 [==============================] - 35s 23ms/step - loss: 3.9096 - mean_absolute_error: 13.1539 - root_mean_squared_error: 19.5892 - mean_absolute_percentage_error: 16.1640\n",
      "Epoch 82/100\n",
      "1539/1539 [==============================] - 35s 23ms/step - loss: 3.9062 - mean_absolute_error: 13.1377 - root_mean_squared_error: 19.5713 - mean_absolute_percentage_error: 16.1136\n",
      "Epoch 83/100\n",
      "1539/1539 [==============================] - 35s 23ms/step - loss: 3.8988 - mean_absolute_error: 13.1186 - root_mean_squared_error: 19.5345 - mean_absolute_percentage_error: 16.0834\n",
      "Epoch 84/100\n",
      "1539/1539 [==============================] - 35s 23ms/step - loss: 3.8978 - mean_absolute_error: 13.1154 - root_mean_squared_error: 19.5370 - mean_absolute_percentage_error: 16.1108 1s - loss: 3.8980 - mean_absolute_error: 13.1080 - root_mean_squared_error: 19.5145 - mean_absolute_p\n",
      "Epoch 85/100\n",
      "1539/1539 [==============================] - 36s 23ms/step - loss: 3.8911 - mean_absolute_error: 13.0968 - root_mean_squared_error: 19.5154 - mean_absolute_percentage_error: 16.0506\n",
      "Epoch 86/100\n",
      "1539/1539 [==============================] - 36s 23ms/step - loss: 3.8901 - mean_absolute_error: 13.0939 - root_mean_squared_error: 19.5136 - mean_absolute_percentage_error: 16.0069\n",
      "Epoch 87/100\n",
      "1539/1539 [==============================] - 35s 23ms/step - loss: 3.8798 - mean_absolute_error: 13.0562 - root_mean_squared_error: 19.4662 - mean_absolute_percentage_error: 16.0356\n",
      "Epoch 88/100\n",
      "1539/1539 [==============================] - 35s 23ms/step - loss: 3.8864 - mean_absolute_error: 13.0786 - root_mean_squared_error: 19.4975 - mean_absolute_percentage_error: 16.0390 6s - loss: 3.8852 - me\n",
      "Epoch 89/100\n",
      "1539/1539 [==============================] - 36s 23ms/step - loss: 3.8825 - mean_absolute_error: 13.0712 - root_mean_squared_error: 19.4744 - mean_absolute_percentage_error: 16.0117 5s - loss: 3.8772 - mean_absolute_error: 13.0604 - root_mean - ETA: 1s - loss: 3.8827 - mean_absolute_error: 13.0723 - root_mean_squared_error: 19.4758 - mean_absolute_percentag\n",
      "Epoch 90/100\n",
      "1539/1539 [==============================] - 35s 23ms/step - loss: 3.8676 - mean_absolute_error: 13.0189 - root_mean_squared_error: 19.4256 - mean_absolute_percentage_error: 15.9342\n",
      "Epoch 91/100\n",
      "1539/1539 [==============================] - 35s 23ms/step - loss: 3.8688 - mean_absolute_error: 13.0327 - root_mean_squared_error: 19.4421 - mean_absolute_percentage_error: 15.9233 7s - loss: 3.8606 - m\n",
      "Epoch 92/100\n",
      "1539/1539 [==============================] - 35s 23ms/step - loss: 3.8641 - mean_absolute_error: 13.0159 - root_mean_squared_error: 19.4203 - mean_absolute_percentage_error: 15.9000\n",
      "Epoch 93/100\n",
      "1539/1539 [==============================] - 35s 23ms/step - loss: 3.8754 - mean_absolute_error: 13.0379 - root_mean_squared_error: 19.4432 - mean_absolute_percentage_error: 16.0399\n",
      "Epoch 94/100\n",
      "1539/1539 [==============================] - 35s 23ms/step - loss: 3.8559 - mean_absolute_error: 12.9910 - root_mean_squared_error: 19.3888 - mean_absolute_percentage_error: 15.8849\n",
      "Epoch 95/100\n",
      "1539/1539 [==============================] - 35s 23ms/step - loss: 3.8453 - mean_absolute_error: 12.9477 - root_mean_squared_error: 19.3363 - mean_absolute_percentage_error: 15.8607\n",
      "Epoch 96/100\n",
      "1539/1539 [==============================] - 36s 23ms/step - loss: 3.8500 - mean_absolute_error: 12.9700 - root_mean_squared_error: 19.3633 - mean_absolute_percentage_error: 15.8365\n",
      "Epoch 97/100\n",
      "1539/1539 [==============================] - 35s 23ms/step - loss: 3.8352 - mean_absolute_error: 12.9180 - root_mean_squared_error: 19.3061 - mean_absolute_percentage_error: 15.7848\n",
      "Epoch 98/100\n",
      "1539/1539 [==============================] - 36s 23ms/step - loss: 3.8325 - mean_absolute_error: 12.9132 - root_mean_squared_error: 19.3065 - mean_absolute_percentage_error: 15.7693\n",
      "Epoch 99/100\n",
      "1539/1539 [==============================] - 35s 23ms/step - loss: 3.8334 - mean_absolute_error: 12.9196 - root_mean_squared_error: 19.3141 - mean_absolute_percentage_error: 15.7428 11s - loss: 3.8281 - mean_absolute_ - ETA: 6s - loss: 3.8312 - mea\n",
      "Epoch 100/100\n",
      "1539/1539 [==============================] - 36s 23ms/step - loss: 3.8258 - mean_absolute_error: 12.8936 - root_mean_squared_error: 19.2834 - mean_absolute_percentage_error: 15.7367\n"
     ]
    },
    {
     "data": {
      "text/plain": [
       "<keras.callbacks.History at 0x17b9d0d0d90>"
      ]
     },
     "execution_count": 54,
     "metadata": {},
     "output_type": "execute_result"
    }
   ],
   "source": [
    "model15.fit((Wt15,Xt15), yt15, \n",
    "            epochs = 100, \n",
    "            verbose = 1)"
   ]
  },
  {
   "cell_type": "code",
   "execution_count": 55,
   "metadata": {},
   "outputs": [
    {
     "name": "stderr",
     "output_type": "stream",
     "text": [
      "WARNING:absl:Function `_wrapped_model` contains input name(s) WideInput, DeepInput with unsupported characters which will be renamed to wideinput, deepinput in the SavedModel.\n",
      "WARNING:absl:Found untraced functions such as lstm_cell_5_layer_call_fn, lstm_cell_5_layer_call_and_return_conditional_losses, lstm_cell_6_layer_call_fn, lstm_cell_6_layer_call_and_return_conditional_losses, lstm_cell_5_layer_call_fn while saving (showing 5 of 10). These functions will not be directly callable after loading.\n"
     ]
    },
    {
     "name": "stdout",
     "output_type": "stream",
     "text": [
      "INFO:tensorflow:Assets written to: my_dir/8d-15\\assets\n"
     ]
    },
    {
     "name": "stderr",
     "output_type": "stream",
     "text": [
      "INFO:tensorflow:Assets written to: my_dir/8d-15\\assets\n",
      "WARNING:absl:<keras.layers.recurrent.LSTMCell object at 0x0000017B8D1AF0D0> has the same name 'LSTMCell' as a built-in Keras object. Consider renaming <class 'keras.layers.recurrent.LSTMCell'> to avoid naming conflicts when loading with `tf.keras.models.load_model`. If renaming is not possible, pass the object in the `custom_objects` parameter of the load function.\n",
      "WARNING:absl:<keras.layers.recurrent.LSTMCell object at 0x0000017B8D1A1790> has the same name 'LSTMCell' as a built-in Keras object. Consider renaming <class 'keras.layers.recurrent.LSTMCell'> to avoid naming conflicts when loading with `tf.keras.models.load_model`. If renaming is not possible, pass the object in the `custom_objects` parameter of the load function.\n",
      "WARNING:absl:<keras.layers.recurrent.LSTMCell object at 0x0000017B8D1A1DC0> has the same name 'LSTMCell' as a built-in Keras object. Consider renaming <class 'keras.layers.recurrent.LSTMCell'> to avoid naming conflicts when loading with `tf.keras.models.load_model`. If renaming is not possible, pass the object in the `custom_objects` parameter of the load function.\n"
     ]
    }
   ],
   "source": [
    "model15.save(\"my_dir/8d-15\")"
   ]
  },
  {
   "cell_type": "code",
   "execution_count": 56,
   "metadata": {},
   "outputs": [],
   "source": [
    "metrics15 = pd.DataFrame(model15.history.history)"
   ]
  },
  {
   "cell_type": "code",
   "execution_count": 57,
   "metadata": {},
   "outputs": [
    {
     "data": {
      "text/plain": [
       "<AxesSubplot:>"
      ]
     },
     "execution_count": 57,
     "metadata": {},
     "output_type": "execute_result"
    },
    {
     "data": {
      "image/png": "[encoded data removed]",
      "text/plain": [
       "<Figure size 432x288 with 1 Axes>"
      ]
     },
     "metadata": {
      "needs_background": "light"
     },
     "output_type": "display_data"
    }
   ],
   "source": [
    "metrics15[['loss']].plot()"
   ]
  },
  {
   "cell_type": "code",
   "execution_count": 40,
   "metadata": {},
   "outputs": [],
   "source": [
    "model15 = keras.models.load_model(\"my_dir/8d-15\", custom_objects={'rGEH_loss': rGEH_loss})"
   ]
  },
  {
   "cell_type": "code",
   "execution_count": 41,
   "metadata": {},
   "outputs": [
    {
     "data": {
      "text/plain": [
       "array([[ 28.953794 ,  17.61628  ,  26.197735 ,  65.75953  ,  27.640066 ,\n",
       "          5.078393 ],\n",
       "       [ 28.512892 ,  16.504686 ,  24.338223 ,  66.841095 ,  27.580746 ,\n",
       "          5.124794 ],\n",
       "       [ 29.841291 ,  17.422531 ,  26.997944 ,  66.04064  ,  28.762716 ,\n",
       "          5.0387635],\n",
       "       ...,\n",
       "       [ 44.242443 ,  43.503746 ,  65.448906 , 111.07852  ,  51.51123  ,\n",
       "          8.218998 ],\n",
       "       [ 42.308952 ,  40.63667  ,  52.752586 , 109.18111  ,  54.151047 ,\n",
       "         16.483688 ],\n",
       "       [ 38.737034 ,  35.456894 ,  56.699005 , 109.01261  ,  51.353516 ,\n",
       "          8.703751 ]], dtype=float32)"
      ]
     },
     "execution_count": 41,
     "metadata": {},
     "output_type": "execute_result"
    }
   ],
   "source": [
    "model15.predict((Wv15,Xv15))"
   ]
  },
  {
   "cell_type": "markdown",
   "metadata": {},
   "source": [
    "### Evaluation on inverse_transform"
   ]
  },
  {
   "cell_type": "code",
   "execution_count": null,
   "metadata": {},
   "outputs": [],
   "source": [
    "test_predictions15 = model15.predict((Wv15,Xv15))\n",
    "\n",
    "\n",
    "MSE15 = mean_squared_error(yv15,test_predictions15)\n",
    "\n",
    "MAE15 = mean_absolute_error(yv15,test_predictions15)\n",
    "\n",
    "RMSE15 = np.sqrt(MSE15)\n",
    "\n",
    "MAPE15 = mean_absolute_percentage_error(yv15,test_predictions15)*100\n",
    "\n",
    "eval15 = [MSE15, MAE15, RMSE15, MAPE15]\n",
    "print(eval15)"
   ]
  },
  {
   "cell_type": "code",
   "execution_count": null,
   "metadata": {},
   "outputs": [],
   "source": [
    "GEH, count = ga.GEH(np.asarray(yv15), np.asarray(test_predictions15))\n",
    "GEH15 = count/GEH.size\n",
    "print(GEH15)"
   ]
  },
  {
   "cell_type": "markdown",
   "metadata": {},
   "source": [
    "# 30 mins ahead"
   ]
  },
  {
   "cell_type": "code",
   "execution_count": 44,
   "metadata": {},
   "outputs": [],
   "source": [
    "def build_model_30(hp):\n",
    "    # Inputs\n",
    "    channel_Wide = keras.layers.Input(shape=Wt30.shape[1:], name=\"WideInput\")\n",
    "    channel_Deep = keras.layers.Input(shape=Xt30.shape[1:], name=\"DeepInput\")\n",
    "    units = hp.Int(\"units\", min_value=1, max_value=100, step=1)\n",
    "    \n",
    "    \n",
    "    # Wide Model\n",
    "    flatten_30w = keras.layers.TimeDistributed(keras.layers.Flatten())(channel_Wide)\n",
    "    Bi_30 = keras.layers.Bidirectional(\n",
    "        keras.layers.LSTM(units=units, return_sequences=True),\n",
    "        merge_mode=\"ave\"\n",
    "    )(flatten_30w)\n",
    "    \n",
    "    \n",
    "    # Deep Model\n",
    "    # CNN \n",
    "    CNN_30 = keras.layers.TimeDistributed(\n",
    "        keras.layers.Conv2D(filters=hp.Int(\"filters\", min_value=32, max_value=512, step=32),\n",
    "                            kernel_size=hp.Choice(\"kernel_size\", [2, 3]), activation='relu'))(channel_Deep)\n",
    "    flatten_30 = keras.layers.TimeDistributed(keras.layers.Flatten())(CNN_30)\n",
    "    # LSTM          \n",
    "    LSTM_30 = keras.layers.LSTM(units=units, activation='relu', return_sequences=True)(flatten_30)\n",
    "\n",
    "    \n",
    "    # Concatenation \n",
    "    concat = keras.layers.concatenate([Bi_30, LSTM_30], axis=1)\n",
    "\n",
    "    # Attention\n",
    "    Att_30 = SeqSelfAttention(attention_activation='sigmoid')(concat)\n",
    "    merge = keras.layers.Flatten()(Att_30)\n",
    "\n",
    "    \n",
    "    # Output\n",
    "    output = keras.layers.Dense(n_features, name= \"output\")(merge)\n",
    "    \n",
    "    # Model\n",
    "    model_30 = keras.Model(inputs=[channel_Wide,channel_Deep], outputs=[output])\n",
    "\n",
    "    # Compile\n",
    "    model_30.compile(optimizer=keras.optimizers.Adam(hp.Choice(\"learning_rate\", [1e-2, 1e-3, 1e-4])), \n",
    "        loss=rGEH_loss, metrics=['MeanAbsoluteError','RootMeanSquaredError','MeanAbsolutePercentageError'])\n",
    "                    \n",
    "    return model_30"
   ]
  },
  {
   "cell_type": "code",
   "execution_count": 45,
   "metadata": {},
   "outputs": [
    {
     "name": "stdout",
     "output_type": "stream",
     "text": [
      "INFO:tensorflow:Reloading Oracle from existing project C:\\RunsOak\\8d-30\\oracle.json\n",
      "INFO:tensorflow:Reloading Tuner from C:\\RunsOak\\8d-30\\tuner0.json\n"
     ]
    }
   ],
   "source": [
    "tuner30 = RandomSearch(\n",
    "    build_model_30,\n",
    "    objective=\"val_loss\",\n",
    "    max_trials=60,\n",
    "    executions_per_trial=2,\n",
    "    overwrite=False,\n",
    "    directory=os.path.normpath('C:/RunsOak'),\n",
    "    project_name=\"8d-30\",\n",
    ")"
   ]
  },
  {
   "cell_type": "code",
   "execution_count": 46,
   "metadata": {},
   "outputs": [
    {
     "name": "stdout",
     "output_type": "stream",
     "text": [
      "Search space summary\n",
      "Default search space size: 4\n",
      "units (Int)\n",
      "{'default': None, 'conditions': [], 'min_value': 1, 'max_value': 100, 'step': 1, 'sampling': None}\n",
      "filters (Int)\n",
      "{'default': None, 'conditions': [], 'min_value': 32, 'max_value': 512, 'step': 32, 'sampling': None}\n",
      "kernel_size (Choice)\n",
      "{'default': 2, 'conditions': [], 'values': [2, 3], 'ordered': True}\n",
      "learning_rate (Choice)\n",
      "{'default': 0.01, 'conditions': [], 'values': [0.01, 0.001, 0.0001], 'ordered': True}\n"
     ]
    }
   ],
   "source": [
    "tuner30.search_space_summary()"
   ]
  },
  {
   "cell_type": "code",
   "execution_count": 65,
   "metadata": {},
   "outputs": [
    {
     "name": "stdout",
     "output_type": "stream",
     "text": [
      "Trial 60 Complete [00h 43m 15s]\n",
      "val_loss: 5.693761587142944\n",
      "\n",
      "Best val_loss So Far: 4.546577215194702\n",
      "Total elapsed time: 03h 03m 29s\n",
      "INFO:tensorflow:Oracle triggered exit\n"
     ]
    },
    {
     "name": "stderr",
     "output_type": "stream",
     "text": [
      "INFO:tensorflow:Oracle triggered exit\n"
     ]
    }
   ],
   "source": [
    "tuner30.search((Wt30,Xt30), yt30, epochs=200,\n",
    "            validation_split = val_percent,\n",
    "            callbacks=[early_stop],\n",
    "            verbose=2)"
   ]
  },
  {
   "cell_type": "code",
   "execution_count": 66,
   "metadata": {},
   "outputs": [
    {
     "name": "stdout",
     "output_type": "stream",
     "text": [
      "Results summary\n",
      "Results in C:\\RunsOak\\8d-30\n",
      "Showing 1 best trials\n",
      "Objective(name='val_loss', direction='min')\n",
      "Trial summary\n",
      "Hyperparameters:\n",
      "units: 69\n",
      "filters: 320\n",
      "kernel_size: 2\n",
      "learning_rate: 0.001\n",
      "Score: 4.546577215194702\n"
     ]
    }
   ],
   "source": [
    "tuner30.results_summary(1)"
   ]
  },
  {
   "cell_type": "markdown",
   "metadata": {},
   "source": [
    "### Best model"
   ]
  },
  {
   "cell_type": "code",
   "execution_count": 67,
   "metadata": {},
   "outputs": [],
   "source": [
    "best_hp30 = tuner30.get_best_hyperparameters()[0]\n",
    "model30 = tuner30.hypermodel.build(best_hp30)"
   ]
  },
  {
   "cell_type": "code",
   "execution_count": 68,
   "metadata": {},
   "outputs": [
    {
     "data": {
      "text/plain": [
       "['8d-30']"
      ]
     },
     "execution_count": 68,
     "metadata": {},
     "output_type": "execute_result"
    }
   ],
   "source": [
    "scaler_filename = \"8d-30\"\n",
    "joblib.dump(best_hp30, scaler_filename) "
   ]
  },
  {
   "cell_type": "code",
   "execution_count": 69,
   "metadata": {},
   "outputs": [
    {
     "name": "stdout",
     "output_type": "stream",
     "text": [
      "Model: \"model_1\"\n",
      "__________________________________________________________________________________________________\n",
      " Layer (type)                   Output Shape         Param #     Connected to                     \n",
      "==================================================================================================\n",
      " DeepInput (InputLayer)         [(None, 3, 5, 6, 1)  0           []                               \n",
      "                                ]                                                                 \n",
      "                                                                                                  \n",
      " WideInput (InputLayer)         [(None, 3, 3, 6)]    0           []                               \n",
      "                                                                                                  \n",
      " time_distributed_4 (TimeDistri  (None, 3, 4, 5, 320  1600       ['DeepInput[0][0]']              \n",
      " buted)                         )                                                                 \n",
      "                                                                                                  \n",
      " time_distributed_3 (TimeDistri  (None, 3, 18)       0           ['WideInput[0][0]']              \n",
      " buted)                                                                                           \n",
      "                                                                                                  \n",
      " time_distributed_5 (TimeDistri  (None, 3, 6400)     0           ['time_distributed_4[0][0]']     \n",
      " buted)                                                                                           \n",
      "                                                                                                  \n",
      " bidirectional_1 (Bidirectional  (None, 3, 69)       48576       ['time_distributed_3[0][0]']     \n",
      " )                                                                                                \n",
      "                                                                                                  \n",
      " lstm_3 (LSTM)                  (None, 3, 69)        1785720     ['time_distributed_5[0][0]']     \n",
      "                                                                                                  \n",
      " concatenate_1 (Concatenate)    (None, 6, 69)        0           ['bidirectional_1[0][0]',        \n",
      "                                                                  'lstm_3[0][0]']                 \n",
      "                                                                                                  \n",
      " seq_self_attention_1 (SeqSelfA  (None, 6, 69)       4481        ['concatenate_1[0][0]']          \n",
      " ttention)                                                                                        \n",
      "                                                                                                  \n",
      " flatten_5 (Flatten)            (None, 414)          0           ['seq_self_attention_1[0][0]']   \n",
      "                                                                                                  \n",
      " output (Dense)                 (None, 6)            2490        ['flatten_5[0][0]']              \n",
      "                                                                                                  \n",
      "==================================================================================================\n",
      "Total params: 1,842,867\n",
      "Trainable params: 1,842,867\n",
      "Non-trainable params: 0\n",
      "__________________________________________________________________________________________________\n"
     ]
    }
   ],
   "source": [
    "model30.summary()"
   ]
  },
  {
   "cell_type": "code",
   "execution_count": 70,
   "metadata": {},
   "outputs": [
    {
     "name": "stdout",
     "output_type": "stream",
     "text": [
      "Epoch 1/100\n",
      "1539/1539 [==============================] - 60s 37ms/step - loss: 7.1182 - mean_absolute_error: 22.8891 - root_mean_squared_error: 36.9918 - mean_absolute_percentage_error: 32.1302\n",
      "Epoch 2/100\n",
      "1539/1539 [==============================] - 57s 37ms/step - loss: 5.5098 - mean_absolute_error: 18.0958 - root_mean_squared_error: 26.1784 - mean_absolute_percentage_error: 24.3973 0s - loss: 5.5109 - mean_absolute_error: 18.0980 - root_mean_squared_error: 26.1850 - mean_absolute_percentage_e\n",
      "Epoch 3/100\n",
      "1539/1539 [==============================] - 57s 37ms/step - loss: 5.1924 - mean_absolute_error: 17.1301 - root_mean_squared_error: 24.6791 - mean_absolute_percentage_error: 22.3495\n",
      "Epoch 4/100\n",
      "1539/1539 [==============================] - 57s 37ms/step - loss: 5.0576 - mean_absolute_error: 16.7397 - root_mean_squared_error: 24.2195 - mean_absolute_percentage_error: 21.5845\n",
      "Epoch 5/100\n",
      "1539/1539 [==============================] - 57s 37ms/step - loss: 4.9377 - mean_absolute_error: 16.3519 - root_mean_squared_error: 23.7183 - mean_absolute_percentage_error: 21.0999\n",
      "Epoch 6/100\n",
      "1539/1539 [==============================] - 57s 37ms/step - loss: 4.8629 - mean_absolute_error: 16.1315 - root_mean_squared_error: 23.4344 - mean_absolute_percentage_error: 20.6736\n",
      "Epoch 7/100\n",
      "1539/1539 [==============================] - 57s 37ms/step - loss: 4.8028 - mean_absolute_error: 15.9385 - root_mean_squared_error: 23.1863 - mean_absolute_percentage_error: 20.4914\n",
      "Epoch 8/100\n",
      "1539/1539 [==============================] - 57s 37ms/step - loss: 4.7524 - mean_absolute_error: 15.7592 - root_mean_squared_error: 22.9525 - mean_absolute_percentage_error: 20.3033\n",
      "Epoch 9/100\n",
      "1539/1539 [==============================] - 57s 37ms/step - loss: 4.7178 - mean_absolute_error: 15.6527 - root_mean_squared_error: 22.8300 - mean_absolute_percentage_error: 20.1265\n",
      "Epoch 10/100\n",
      "1539/1539 [==============================] - 57s 37ms/step - loss: 4.6920 - mean_absolute_error: 15.5738 - root_mean_squared_error: 22.7277 - mean_absolute_percentage_error: 20.0540\n",
      "Epoch 11/100\n",
      "1539/1539 [==============================] - 57s 37ms/step - loss: 4.6767 - mean_absolute_error: 15.5286 - root_mean_squared_error: 22.6540 - mean_absolute_percentage_error: 19.9195\n",
      "Epoch 12/100\n",
      "1539/1539 [==============================] - 56s 37ms/step - loss: 4.6459 - mean_absolute_error: 15.4389 - root_mean_squared_error: 22.5650 - mean_absolute_percentage_error: 19.7707\n",
      "Epoch 13/100\n",
      "1539/1539 [==============================] - 57s 37ms/step - loss: 4.6326 - mean_absolute_error: 15.3841 - root_mean_squared_error: 22.4787 - mean_absolute_percentage_error: 19.7102\n",
      "Epoch 14/100\n",
      "1539/1539 [==============================] - 56s 37ms/step - loss: 4.6048 - mean_absolute_error: 15.3005 - root_mean_squared_error: 22.3681 - mean_absolute_percentage_error: 19.6860\n",
      "Epoch 15/100\n",
      "1539/1539 [==============================] - 57s 37ms/step - loss: 4.5976 - mean_absolute_error: 15.2771 - root_mean_squared_error: 22.3668 - mean_absolute_percentage_error: 19.6728\n",
      "Epoch 16/100\n",
      "1539/1539 [==============================] - 57s 37ms/step - loss: 4.5737 - mean_absolute_error: 15.2008 - root_mean_squared_error: 22.2638 - mean_absolute_percentage_error: 19.5511\n",
      "Epoch 17/100\n",
      "1539/1539 [==============================] - 56s 37ms/step - loss: 4.5637 - mean_absolute_error: 15.1697 - root_mean_squared_error: 22.2231 - mean_absolute_percentage_error: 19.4252\n",
      "Epoch 18/100\n",
      "1539/1539 [==============================] - 56s 37ms/step - loss: 4.5553 - mean_absolute_error: 15.1503 - root_mean_squared_error: 22.1926 - mean_absolute_percentage_error: 19.4801\n",
      "Epoch 19/100\n",
      "1539/1539 [==============================] - 56s 37ms/step - loss: 4.5418 - mean_absolute_error: 15.1032 - root_mean_squared_error: 22.1549 - mean_absolute_percentage_error: 19.3631\n",
      "Epoch 20/100\n",
      "1539/1539 [==============================] - 56s 37ms/step - loss: 4.5304 - mean_absolute_error: 15.0641 - root_mean_squared_error: 22.0862 - mean_absolute_percentage_error: 19.3199\n",
      "Epoch 21/100\n",
      "1539/1539 [==============================] - 57s 37ms/step - loss: 4.5184 - mean_absolute_error: 15.0371 - root_mean_squared_error: 22.0598 - mean_absolute_percentage_error: 19.2333\n",
      "Epoch 22/100\n",
      "1539/1539 [==============================] - 56s 37ms/step - loss: 4.5039 - mean_absolute_error: 14.9887 - root_mean_squared_error: 21.9973 - mean_absolute_percentage_error: 19.1297\n",
      "Epoch 23/100\n",
      "1539/1539 [==============================] - 57s 37ms/step - loss: 4.4928 - mean_absolute_error: 14.9494 - root_mean_squared_error: 21.9568 - mean_absolute_percentage_error: 19.0781\n",
      "Epoch 24/100\n",
      "1539/1539 [==============================] - 56s 37ms/step - loss: 4.4821 - mean_absolute_error: 14.9280 - root_mean_squared_error: 21.9147 - mean_absolute_percentage_error: 18.9682\n",
      "Epoch 25/100\n",
      "1539/1539 [==============================] - 54s 35ms/step - loss: 4.4762 - mean_absolute_error: 14.9050 - root_mean_squared_error: 21.8976 - mean_absolute_percentage_error: 19.0101\n",
      "Epoch 26/100\n",
      "1539/1539 [==============================] - 56s 37ms/step - loss: 4.4603 - mean_absolute_error: 14.8529 - root_mean_squared_error: 21.8171 - mean_absolute_percentage_error: 18.8995\n",
      "Epoch 27/100\n",
      "1539/1539 [==============================] - 57s 37ms/step - loss: 4.4487 - mean_absolute_error: 14.8169 - root_mean_squared_error: 21.7943 - mean_absolute_percentage_error: 18.8505 3s - loss: 4.4421 - mean_absolute_error: 14.7883 - root_mean_squared_e\n",
      "Epoch 28/100\n",
      "1539/1539 [==============================] - 56s 37ms/step - loss: 4.4441 - mean_absolute_error: 14.8106 - root_mean_squared_error: 21.7844 - mean_absolute_percentage_error: 18.7609\n",
      "Epoch 29/100\n",
      "1539/1539 [==============================] - 56s 37ms/step - loss: 4.4377 - mean_absolute_error: 14.7920 - root_mean_squared_error: 21.7628 - mean_absolute_percentage_error: 18.7999\n",
      "Epoch 30/100\n",
      "1539/1539 [==============================] - 56s 37ms/step - loss: 4.4261 - mean_absolute_error: 14.7506 - root_mean_squared_error: 21.7084 - mean_absolute_percentage_error: 18.7705\n",
      "Epoch 31/100\n",
      "1539/1539 [==============================] - 56s 37ms/step - loss: 4.4168 - mean_absolute_error: 14.7243 - root_mean_squared_error: 21.6663 - mean_absolute_percentage_error: 18.7308\n",
      "Epoch 32/100\n",
      "1539/1539 [==============================] - 56s 37ms/step - loss: 4.4000 - mean_absolute_error: 14.6770 - root_mean_squared_error: 21.6258 - mean_absolute_percentage_error: 18.6475\n",
      "Epoch 33/100\n",
      "1539/1539 [==============================] - 56s 37ms/step - loss: 4.4072 - mean_absolute_error: 14.6961 - root_mean_squared_error: 21.6358 - mean_absolute_percentage_error: 18.6423\n",
      "Epoch 34/100\n",
      "1539/1539 [==============================] - 56s 37ms/step - loss: 4.3820 - mean_absolute_error: 14.6212 - root_mean_squared_error: 21.5419 - mean_absolute_percentage_error: 18.4775\n",
      "Epoch 35/100\n",
      "1539/1539 [==============================] - 56s 37ms/step - loss: 4.3743 - mean_absolute_error: 14.5996 - root_mean_squared_error: 21.5184 - mean_absolute_percentage_error: 18.5427\n",
      "Epoch 36/100\n",
      "1539/1539 [==============================] - 56s 37ms/step - loss: 4.3622 - mean_absolute_error: 14.5650 - root_mean_squared_error: 21.4877 - mean_absolute_percentage_error: 18.3721\n",
      "Epoch 37/100\n",
      "1539/1539 [==============================] - 56s 37ms/step - loss: 4.3621 - mean_absolute_error: 14.5661 - root_mean_squared_error: 21.4821 - mean_absolute_percentage_error: 18.3418\n",
      "Epoch 38/100\n",
      "1539/1539 [==============================] - 56s 37ms/step - loss: 4.3522 - mean_absolute_error: 14.5425 - root_mean_squared_error: 21.4822 - mean_absolute_percentage_error: 18.3508\n",
      "Epoch 39/100\n",
      "1539/1539 [==============================] - 56s 37ms/step - loss: 4.3407 - mean_absolute_error: 14.4993 - root_mean_squared_error: 21.4032 - mean_absolute_percentage_error: 18.3079\n",
      "Epoch 40/100\n",
      "1539/1539 [==============================] - 56s 37ms/step - loss: 4.3318 - mean_absolute_error: 14.4679 - root_mean_squared_error: 21.3747 - mean_absolute_percentage_error: 18.2090\n",
      "Epoch 41/100\n",
      "1539/1539 [==============================] - 57s 37ms/step - loss: 4.3203 - mean_absolute_error: 14.4370 - root_mean_squared_error: 21.3298 - mean_absolute_percentage_error: 18.1566\n",
      "Epoch 42/100\n",
      "1539/1539 [==============================] - 56s 37ms/step - loss: 4.3097 - mean_absolute_error: 14.4116 - root_mean_squared_error: 21.3162 - mean_absolute_percentage_error: 18.1047\n",
      "Epoch 43/100\n",
      "1539/1539 [==============================] - 56s 37ms/step - loss: 4.3069 - mean_absolute_error: 14.4078 - root_mean_squared_error: 21.3051 - mean_absolute_percentage_error: 18.1136\n",
      "Epoch 44/100\n",
      "1539/1539 [==============================] - 56s 36ms/step - loss: 4.2989 - mean_absolute_error: 14.3798 - root_mean_squared_error: 21.2575 - mean_absolute_percentage_error: 18.0756 0s - loss: 4.2981 - mean_absolute_error: 14.3780 - root_mean_squared_error: 21.2610 - mean_absolute_percentage_er\n",
      "Epoch 45/100\n",
      "1539/1539 [==============================] - 56s 37ms/step - loss: 4.2823 - mean_absolute_error: 14.3339 - root_mean_squared_error: 21.2104 - mean_absolute_percentage_error: 17.9941\n",
      "Epoch 46/100\n",
      "1539/1539 [==============================] - 56s 37ms/step - loss: 4.2774 - mean_absolute_error: 14.3192 - root_mean_squared_error: 21.2065 - mean_absolute_percentage_error: 17.9672 1s - loss: 4.2751 - mean_absolute_error: 14.3186 - root_mean_squared_error: 21.1982 - mean_absolute_per\n",
      "Epoch 47/100\n",
      "1539/1539 [==============================] - 56s 37ms/step - loss: 4.2638 - mean_absolute_error: 14.2762 - root_mean_squared_error: 21.1414 - mean_absolute_percentage_error: 17.9049\n",
      "Epoch 48/100\n",
      "1539/1539 [==============================] - 57s 37ms/step - loss: 4.2600 - mean_absolute_error: 14.2746 - root_mean_squared_error: 21.1577 - mean_absolute_percentage_error: 17.7906 6s - loss: 4.2608 - mean_absolute_error: \n",
      "Epoch 49/100\n",
      "1539/1539 [==============================] - 56s 37ms/step - loss: 4.2436 - mean_absolute_error: 14.2136 - root_mean_squared_error: 21.0699 - mean_absolute_percentage_error: 17.7400 2s - loss: 4.2409 - mean_absolute_error: 14.2185 - root_mean_squared_error: 21.0866 \n",
      "Epoch 50/100\n",
      "1539/1539 [==============================] - 56s 37ms/step - loss: 4.2402 - mean_absolute_error: 14.2084 - root_mean_squared_error: 21.0687 - mean_absolute_percentage_error: 17.7041\n",
      "Epoch 51/100\n",
      "1539/1539 [==============================] - 56s 37ms/step - loss: 4.2322 - mean_absolute_error: 14.1843 - root_mean_squared_error: 21.0466 - mean_absolute_percentage_error: 17.6761\n",
      "Epoch 52/100\n",
      "1539/1539 [==============================] - 56s 37ms/step - loss: 4.2261 - mean_absolute_error: 14.1660 - root_mean_squared_error: 21.0145 - mean_absolute_percentage_error: 17.6159 8s - los\n",
      "Epoch 53/100\n",
      "1539/1539 [==============================] - 56s 37ms/step - loss: 4.2130 - mean_absolute_error: 14.1271 - root_mean_squared_error: 20.9790 - mean_absolute_percentage_error: 17.5656\n",
      "Epoch 54/100\n",
      "1539/1539 [==============================] - 56s 37ms/step - loss: 4.2129 - mean_absolute_error: 14.1326 - root_mean_squared_error: 20.9697 - mean_absolute_percentage_error: 17.5453\n",
      "Epoch 55/100\n",
      "1539/1539 [==============================] - 56s 37ms/step - loss: 4.2117 - mean_absolute_error: 14.1334 - root_mean_squared_error: 20.9785 - mean_absolute_percentage_error: 17.5161\n",
      "Epoch 56/100\n",
      "1539/1539 [==============================] - 56s 37ms/step - loss: 4.1947 - mean_absolute_error: 14.0707 - root_mean_squared_error: 20.9070 - mean_absolute_percentage_error: 17.5374\n",
      "Epoch 57/100\n",
      "1539/1539 [==============================] - 56s 37ms/step - loss: 4.1862 - mean_absolute_error: 14.0459 - root_mean_squared_error: 20.8655 - mean_absolute_percentage_error: 17.4519\n",
      "Epoch 58/100\n",
      "1539/1539 [==============================] - ETA: 0s - loss: 4.1899 - mean_absolute_error: 14.0716 - root_mean_squared_error: 20.9277 - mean_absolute_percentage_error: 17.430 - 56s 37ms/step - loss: 4.1897 - mean_absolute_error: 14.0703 - root_mean_squared_error: 20.9259 - mean_absolute_percentage_error: 17.4301\n",
      "Epoch 59/100\n",
      "1539/1539 [==============================] - 56s 37ms/step - loss: 4.1753 - mean_absolute_error: 14.0203 - root_mean_squared_error: 20.8511 - mean_absolute_percentage_error: 17.3288\n",
      "Epoch 60/100\n",
      "1539/1539 [==============================] - 56s 37ms/step - loss: 4.1642 - mean_absolute_error: 13.9783 - root_mean_squared_error: 20.8096 - mean_absolute_percentage_error: 17.3181\n",
      "Epoch 61/100\n",
      "1539/1539 [==============================] - 56s 37ms/step - loss: 4.1567 - mean_absolute_error: 13.9562 - root_mean_squared_error: 20.7572 - mean_absolute_percentage_error: 17.2565\n",
      "Epoch 62/100\n",
      "1539/1539 [==============================] - 56s 37ms/step - loss: 4.1507 - mean_absolute_error: 13.9406 - root_mean_squared_error: 20.7519 - mean_absolute_percentage_error: 17.2488\n",
      "Epoch 63/100\n",
      "1539/1539 [==============================] - 56s 37ms/step - loss: 4.1440 - mean_absolute_error: 13.9266 - root_mean_squared_error: 20.7285 - mean_absolute_percentage_error: 17.1668\n",
      "Epoch 64/100\n",
      "1539/1539 [==============================] - 56s 37ms/step - loss: 4.1347 - mean_absolute_error: 13.8900 - root_mean_squared_error: 20.6878 - mean_absolute_percentage_error: 17.1662\n",
      "Epoch 65/100\n",
      "1539/1539 [==============================] - 56s 37ms/step - loss: 4.1341 - mean_absolute_error: 13.8943 - root_mean_squared_error: 20.6986 - mean_absolute_percentage_error: 17.1682\n",
      "Epoch 66/100\n",
      "1539/1539 [==============================] - 56s 36ms/step - loss: 4.1243 - mean_absolute_error: 13.8580 - root_mean_squared_error: 20.6323 - mean_absolute_percentage_error: 17.1238\n",
      "Epoch 67/100\n",
      "1539/1539 [==============================] - 56s 37ms/step - loss: 4.1219 - mean_absolute_error: 13.8490 - root_mean_squared_error: 20.6338 - mean_absolute_percentage_error: 17.1400\n",
      "Epoch 68/100\n",
      "1539/1539 [==============================] - 56s 37ms/step - loss: 4.1102 - mean_absolute_error: 13.8179 - root_mean_squared_error: 20.6103 - mean_absolute_percentage_error: 17.0305\n",
      "Epoch 69/100\n",
      "1539/1539 [==============================] - 56s 37ms/step - loss: 4.1040 - mean_absolute_error: 13.7915 - root_mean_squared_error: 20.5606 - mean_absolute_percentage_error: 17.0017\n",
      "Epoch 70/100\n",
      "1539/1539 [==============================] - 56s 37ms/step - loss: 4.0934 - mean_absolute_error: 13.7634 - root_mean_squared_error: 20.5296 - mean_absolute_percentage_error: 16.9397 8s -\n",
      "Epoch 71/100\n",
      "1539/1539 [==============================] - 56s 37ms/step - loss: 4.0959 - mean_absolute_error: 13.7786 - root_mean_squared_error: 20.5562 - mean_absolute_percentage_error: 16.9585\n",
      "Epoch 72/100\n",
      "1539/1539 [==============================] - 56s 37ms/step - loss: 4.0827 - mean_absolute_error: 13.7311 - root_mean_squared_error: 20.4918 - mean_absolute_percentage_error: 16.8877\n",
      "Epoch 73/100\n",
      "1539/1539 [==============================] - 56s 36ms/step - loss: 4.0778 - mean_absolute_error: 13.7135 - root_mean_squared_error: 20.4722 - mean_absolute_percentage_error: 16.8842\n",
      "Epoch 74/100\n",
      "1539/1539 [==============================] - 56s 37ms/step - loss: 4.0729 - mean_absolute_error: 13.7015 - root_mean_squared_error: 20.4691 - mean_absolute_percentage_error: 16.8441\n",
      "Epoch 75/100\n",
      "1539/1539 [==============================] - 56s 37ms/step - loss: 4.0689 - mean_absolute_error: 13.6909 - root_mean_squared_error: 20.4490 - mean_absolute_percentage_error: 16.8439\n",
      "Epoch 76/100\n",
      "1539/1539 [==============================] - 56s 37ms/step - loss: 4.0612 - mean_absolute_error: 13.6581 - root_mean_squared_error: 20.3950 - mean_absolute_percentage_error: 16.8311\n",
      "Epoch 77/100\n",
      "1539/1539 [==============================] - 56s 37ms/step - loss: 4.0462 - mean_absolute_error: 13.6138 - root_mean_squared_error: 20.3518 - mean_absolute_percentage_error: 16.7343\n",
      "Epoch 78/100\n",
      "1539/1539 [==============================] - 56s 37ms/step - loss: 4.0463 - mean_absolute_error: 13.6191 - root_mean_squared_error: 20.3824 - mean_absolute_percentage_error: 16.7094\n",
      "Epoch 79/100\n"
     ]
    },
    {
     "name": "stdout",
     "output_type": "stream",
     "text": [
      "1539/1539 [==============================] - 56s 37ms/step - loss: 4.0397 - mean_absolute_error: 13.5910 - root_mean_squared_error: 20.3447 - mean_absolute_percentage_error: 16.6869 1s - loss: 4.0358 - mean_absolute_error: 13.5751 - root_mean_squared_error: 20.3135 - mean_absolute_p\n",
      "Epoch 80/100\n",
      "1539/1539 [==============================] - 56s 37ms/step - loss: 4.0237 - mean_absolute_error: 13.5387 - root_mean_squared_error: 20.2647 - mean_absolute_percentage_error: 16.6300 9s - loss: 4.0201 - mean_absolute_error: 13.5271 - root_mean_squared_err - ETA: 5s - loss: 4.0204 - mean_absolute_error: 13.5272 - root_mean_squared_error: 20.2412 - m - ETA: 2s - loss: 4.0221 - mean_absolute_error: 13.5348 - root_mean_squared_error: 20.2517 -\n",
      "Epoch 81/100\n",
      "1539/1539 [==============================] - 57s 37ms/step - loss: 4.0201 - mean_absolute_error: 13.5280 - root_mean_squared_error: 20.2571 - mean_absolute_percentage_error: 16.6138\n",
      "Epoch 82/100\n",
      "1539/1539 [==============================] - 56s 37ms/step - loss: 4.0138 - mean_absolute_error: 13.5076 - root_mean_squared_error: 20.2307 - mean_absolute_percentage_error: 16.6218\n",
      "Epoch 83/100\n",
      "1539/1539 [==============================] - 56s 37ms/step - loss: 4.0169 - mean_absolute_error: 13.5203 - root_mean_squared_error: 20.2536 - mean_absolute_percentage_error: 16.5956\n",
      "Epoch 84/100\n",
      "1539/1539 [==============================] - 56s 37ms/step - loss: 4.0076 - mean_absolute_error: 13.4898 - root_mean_squared_error: 20.2078 - mean_absolute_percentage_error: 16.5471\n",
      "Epoch 85/100\n",
      "1539/1539 [==============================] - 56s 37ms/step - loss: 4.0042 - mean_absolute_error: 13.4794 - root_mean_squared_error: 20.1997 - mean_absolute_percentage_error: 16.5345\n",
      "Epoch 86/100\n",
      "1539/1539 [==============================] - 56s 37ms/step - loss: 3.9927 - mean_absolute_error: 13.4457 - root_mean_squared_error: 20.1498 - mean_absolute_percentage_error: 16.4469\n",
      "Epoch 87/100\n",
      "1539/1539 [==============================] - 56s 37ms/step - loss: 4.0209 - mean_absolute_error: 13.5225 - root_mean_squared_error: 20.2390 - mean_absolute_percentage_error: 16.6144\n",
      "Epoch 88/100\n",
      "1539/1539 [==============================] - 56s 37ms/step - loss: 3.9789 - mean_absolute_error: 13.3972 - root_mean_squared_error: 20.0950 - mean_absolute_percentage_error: 16.4156 8s - loss: \n",
      "Epoch 89/100\n",
      "1539/1539 [==============================] - 56s 37ms/step - loss: 3.9784 - mean_absolute_error: 13.3960 - root_mean_squared_error: 20.0932 - mean_absolute_percentage_error: 16.4082\n",
      "Epoch 90/100\n",
      "1539/1539 [==============================] - 56s 37ms/step - loss: 3.9701 - mean_absolute_error: 13.3712 - root_mean_squared_error: 20.0716 - mean_absolute_percentage_error: 16.3777\n",
      "Epoch 91/100\n",
      "1539/1539 [==============================] - 56s 37ms/step - loss: 3.9651 - mean_absolute_error: 13.3579 - root_mean_squared_error: 20.0484 - mean_absolute_percentage_error: 16.3445\n",
      "Epoch 92/100\n",
      "1539/1539 [==============================] - 56s 37ms/step - loss: 3.9602 - mean_absolute_error: 13.3379 - root_mean_squared_error: 20.0339 - mean_absolute_percentage_error: 16.3447\n",
      "Epoch 93/100\n",
      "1539/1539 [==============================] - 56s 37ms/step - loss: 3.9532 - mean_absolute_error: 13.3194 - root_mean_squared_error: 20.0115 - mean_absolute_percentage_error: 16.3052\n",
      "Epoch 94/100\n",
      "1539/1539 [==============================] - 56s 37ms/step - loss: 3.9442 - mean_absolute_error: 13.2816 - root_mean_squared_error: 19.9595 - mean_absolute_percentage_error: 16.2797\n",
      "Epoch 95/100\n",
      "1539/1539 [==============================] - 56s 37ms/step - loss: 3.9413 - mean_absolute_error: 13.2823 - root_mean_squared_error: 19.9598 - mean_absolute_percentage_error: 16.2004 11s - loss: 3.9428 - mean_absolute_error: 13.2833 - root_mean_squared_error: 19.9516  - ET\n",
      "Epoch 96/100\n",
      "1539/1539 [==============================] - 56s 37ms/step - loss: 3.9331 - mean_absolute_error: 13.2517 - root_mean_squared_error: 19.9278 - mean_absolute_percentage_error: 16.2158\n",
      "Epoch 97/100\n",
      "1539/1539 [==============================] - 56s 37ms/step - loss: 3.9315 - mean_absolute_error: 13.2451 - root_mean_squared_error: 19.8943 - mean_absolute_percentage_error: 16.1963\n",
      "Epoch 98/100\n",
      "1539/1539 [==============================] - 56s 37ms/step - loss: 3.9253 - mean_absolute_error: 13.2315 - root_mean_squared_error: 19.9002 - mean_absolute_percentage_error: 16.1321\n",
      "Epoch 99/100\n",
      "1539/1539 [==============================] - 56s 37ms/step - loss: 3.9165 - mean_absolute_error: 13.1974 - root_mean_squared_error: 19.8543 - mean_absolute_percentage_error: 16.1508\n",
      "Epoch 100/100\n",
      "1539/1539 [==============================] - 56s 37ms/step - loss: 3.9093 - mean_absolute_error: 13.1718 - root_mean_squared_error: 19.8176 - mean_absolute_percentage_error: 16.1087\n"
     ]
    },
    {
     "data": {
      "text/plain": [
       "<keras.callbacks.History at 0x17bcbaa23a0>"
      ]
     },
     "execution_count": 70,
     "metadata": {},
     "output_type": "execute_result"
    }
   ],
   "source": [
    "model30.fit((Wt30,Xt30), yt30, \n",
    "            epochs = 100, \n",
    "            verbose = 1)"
   ]
  },
  {
   "cell_type": "code",
   "execution_count": 71,
   "metadata": {},
   "outputs": [
    {
     "name": "stderr",
     "output_type": "stream",
     "text": [
      "WARNING:absl:Function `_wrapped_model` contains input name(s) WideInput, DeepInput with unsupported characters which will be renamed to wideinput, deepinput in the SavedModel.\n",
      "WARNING:absl:Found untraced functions such as lstm_cell_5_layer_call_fn, lstm_cell_5_layer_call_and_return_conditional_losses, lstm_cell_6_layer_call_fn, lstm_cell_6_layer_call_and_return_conditional_losses, lstm_cell_5_layer_call_fn while saving (showing 5 of 10). These functions will not be directly callable after loading.\n"
     ]
    },
    {
     "name": "stdout",
     "output_type": "stream",
     "text": [
      "INFO:tensorflow:Assets written to: my_dir/8d-30\\assets\n"
     ]
    },
    {
     "name": "stderr",
     "output_type": "stream",
     "text": [
      "INFO:tensorflow:Assets written to: my_dir/8d-30\\assets\n",
      "WARNING:absl:<keras.layers.recurrent.LSTMCell object at 0x0000017B8FE0D220> has the same name 'LSTMCell' as a built-in Keras object. Consider renaming <class 'keras.layers.recurrent.LSTMCell'> to avoid naming conflicts when loading with `tf.keras.models.load_model`. If renaming is not possible, pass the object in the `custom_objects` parameter of the load function.\n",
      "WARNING:absl:<keras.layers.recurrent.LSTMCell object at 0x0000017B8FD65670> has the same name 'LSTMCell' as a built-in Keras object. Consider renaming <class 'keras.layers.recurrent.LSTMCell'> to avoid naming conflicts when loading with `tf.keras.models.load_model`. If renaming is not possible, pass the object in the `custom_objects` parameter of the load function.\n",
      "WARNING:absl:<keras.layers.recurrent.LSTMCell object at 0x0000017B8FD65CA0> has the same name 'LSTMCell' as a built-in Keras object. Consider renaming <class 'keras.layers.recurrent.LSTMCell'> to avoid naming conflicts when loading with `tf.keras.models.load_model`. If renaming is not possible, pass the object in the `custom_objects` parameter of the load function.\n"
     ]
    }
   ],
   "source": [
    "model30.save(\"my_dir/8d-30\")"
   ]
  },
  {
   "cell_type": "code",
   "execution_count": 72,
   "metadata": {},
   "outputs": [],
   "source": [
    "metrics30 = pd.DataFrame(model30.history.history)"
   ]
  },
  {
   "cell_type": "code",
   "execution_count": 73,
   "metadata": {},
   "outputs": [
    {
     "data": {
      "text/plain": [
       "<AxesSubplot:>"
      ]
     },
     "execution_count": 73,
     "metadata": {},
     "output_type": "execute_result"
    },
    {
     "data": {
      "image/png": "[encoded data removed]",
      "text/plain": [
       "<Figure size 432x288 with 1 Axes>"
      ]
     },
     "metadata": {
      "needs_background": "light"
     },
     "output_type": "display_data"
    }
   ],
   "source": [
    "metrics30[['loss']].plot()"
   ]
  },
  {
   "cell_type": "code",
   "execution_count": 47,
   "metadata": {},
   "outputs": [],
   "source": [
    "model30 = keras.models.load_model(\"my_dir/8d-30\", custom_objects={'rGEH_loss': rGEH_loss})"
   ]
  },
  {
   "cell_type": "code",
   "execution_count": 48,
   "metadata": {},
   "outputs": [
    {
     "data": {
      "text/plain": [
       "array([[ 27.984491 ,  13.966761 ,  32.208153 ,  61.202908 ,  31.365135 ,\n",
       "          5.0193605],\n",
       "       [ 27.154352 ,  13.140772 ,  14.561163 ,  60.124172 ,  29.963541 ,\n",
       "          4.9208794],\n",
       "       [ 28.580935 ,  14.174637 ,  20.40569  ,  59.90272  ,  31.56072  ,\n",
       "          5.0190525],\n",
       "       ...,\n",
       "       [ 43.414787 ,  41.881153 ,  62.99355  , 114.706245 ,  55.90762  ,\n",
       "          7.227172 ],\n",
       "       [ 45.294945 ,  43.21314  ,  59.96069  , 108.91641  ,  52.010487 ,\n",
       "          7.3697443],\n",
       "       [ 40.507095 ,  36.81284  ,  55.723835 , 104.8098   ,  48.461895 ,\n",
       "          9.155896 ]], dtype=float32)"
      ]
     },
     "execution_count": 48,
     "metadata": {},
     "output_type": "execute_result"
    }
   ],
   "source": [
    "model30.predict((Wv30,Xv30))"
   ]
  },
  {
   "cell_type": "markdown",
   "metadata": {},
   "source": [
    "### Evaluation on inverse_transform"
   ]
  },
  {
   "cell_type": "code",
   "execution_count": null,
   "metadata": {},
   "outputs": [],
   "source": [
    "test_predictions30 = model30.predict((Wv30,Xv30))\n",
    "\n",
    "\n",
    "MSE30 = mean_squared_error(yv30,test_predictions30)\n",
    "\n",
    "MAE30 = mean_absolute_error(yv30,test_predictions30)\n",
    "\n",
    "RMSE30 = np.sqrt(MSE30)\n",
    "\n",
    "MAPE30 = mean_absolute_percentage_error(yv30,test_predictions30)*100\n",
    "\n",
    "eval30 = [MSE30, MAE30, RMSE30, MAPE30]\n",
    "print(eval30)"
   ]
  },
  {
   "cell_type": "code",
   "execution_count": null,
   "metadata": {},
   "outputs": [],
   "source": [
    "GEH, count = ga.GEH(np.asarray(yv30), np.asarray(test_predictions30))\n",
    "GEH30 = count/GEH.size\n",
    "print(GEH30)"
   ]
  },
  {
   "cell_type": "markdown",
   "metadata": {},
   "source": [
    "# 60 mins ahead"
   ]
  },
  {
   "cell_type": "code",
   "execution_count": 51,
   "metadata": {},
   "outputs": [],
   "source": [
    "def build_model_60(hp):\n",
    "    # Inputs\n",
    "    channel_Wide = keras.layers.Input(shape=Wt60.shape[1:], name=\"WideInput\")\n",
    "    channel_Deep = keras.layers.Input(shape=Xt60.shape[1:], name=\"DeepInput\")\n",
    "    units = hp.Int(\"units\", min_value=1, max_value=100, step=1)\n",
    "    \n",
    "    \n",
    "    # Wide Model\n",
    "    flatten_60w = keras.layers.TimeDistributed(keras.layers.Flatten())(channel_Wide)\n",
    "    Bi_60 = keras.layers.Bidirectional(\n",
    "        keras.layers.LSTM(units=units, return_sequences=True),\n",
    "        merge_mode=\"ave\"\n",
    "    )(flatten_60w)\n",
    "    \n",
    "    \n",
    "    # Deep Model\n",
    "    # CNN \n",
    "    CNN_60 = keras.layers.TimeDistributed(\n",
    "        keras.layers.Conv2D(filters=hp.Int(\"filters\", min_value=32, max_value=512, step=32),\n",
    "                            kernel_size=hp.Choice(\"kernel_size\", [2, 3]), activation='relu'))(channel_Deep)\n",
    "    flatten_60 = keras.layers.TimeDistributed(keras.layers.Flatten())(CNN_60)\n",
    "    # LSTM          \n",
    "    LSTM_60 = keras.layers.LSTM(units=units, activation='relu', return_sequences=True)(flatten_60)\n",
    "\n",
    "    \n",
    "    # Concatenation \n",
    "    concat = keras.layers.concatenate([Bi_60, LSTM_60], axis=1)\n",
    "\n",
    "    # Attention\n",
    "    Att_60 = SeqSelfAttention(attention_activation='sigmoid')(concat)\n",
    "    merge = keras.layers.Flatten()(Att_60)\n",
    "\n",
    "    \n",
    "    # Output\n",
    "    output = keras.layers.Dense(n_features, name= \"output\")(merge)\n",
    "    \n",
    "    # Model\n",
    "    model_60 = keras.Model(inputs=[channel_Wide,channel_Deep], outputs=[output])\n",
    "\n",
    "    # Compile\n",
    "    model_60.compile(optimizer=keras.optimizers.Adam(hp.Choice(\"learning_rate\", [1e-2, 1e-3, 1e-4])), \n",
    "        loss=rGEH_loss, metrics=['MeanAbsoluteError','RootMeanSquaredError','MeanAbsolutePercentageError'])\n",
    "                    \n",
    "    return model_60"
   ]
  },
  {
   "cell_type": "code",
   "execution_count": 52,
   "metadata": {},
   "outputs": [
    {
     "name": "stdout",
     "output_type": "stream",
     "text": [
      "INFO:tensorflow:Reloading Oracle from existing project C:\\RunsOak\\8d-60\\oracle.json\n",
      "INFO:tensorflow:Reloading Tuner from C:\\RunsOak\\8d-60\\tuner0.json\n"
     ]
    }
   ],
   "source": [
    "tuner60 = RandomSearch(\n",
    "    build_model_60,\n",
    "    objective=\"val_loss\",\n",
    "    max_trials=60,\n",
    "    executions_per_trial=2,\n",
    "    overwrite=False,\n",
    "    directory=os.path.normpath('C:/RunsOak'),\n",
    "    project_name=\"8d-60\",\n",
    ")"
   ]
  },
  {
   "cell_type": "code",
   "execution_count": 53,
   "metadata": {},
   "outputs": [
    {
     "name": "stdout",
     "output_type": "stream",
     "text": [
      "Search space summary\n",
      "Default search space size: 4\n",
      "units (Int)\n",
      "{'default': None, 'conditions': [], 'min_value': 1, 'max_value': 100, 'step': 1, 'sampling': None}\n",
      "filters (Int)\n",
      "{'default': None, 'conditions': [], 'min_value': 32, 'max_value': 512, 'step': 32, 'sampling': None}\n",
      "kernel_size (Choice)\n",
      "{'default': 2, 'conditions': [], 'values': [2, 3], 'ordered': True}\n",
      "learning_rate (Choice)\n",
      "{'default': 0.01, 'conditions': [], 'values': [0.01, 0.001, 0.0001], 'ordered': True}\n"
     ]
    }
   ],
   "source": [
    "tuner60.search_space_summary()"
   ]
  },
  {
   "cell_type": "code",
   "execution_count": 54,
   "metadata": {},
   "outputs": [
    {
     "name": "stdout",
     "output_type": "stream",
     "text": [
      "Trial 61 Complete [00h 17m 51s]\n",
      "val_loss: 4.935488700866699\n",
      "\n",
      "Best val_loss So Far: 4.785287618637085\n",
      "Total elapsed time: 04h 56m 30s\n",
      "INFO:tensorflow:Oracle triggered exit\n"
     ]
    }
   ],
   "source": [
    "tuner60.search((Wt60,Xt60), yt60, epochs=200,\n",
    "            validation_split = val_percent,\n",
    "            callbacks=[early_stop],\n",
    "            verbose=2)"
   ]
  },
  {
   "cell_type": "code",
   "execution_count": 55,
   "metadata": {},
   "outputs": [
    {
     "name": "stdout",
     "output_type": "stream",
     "text": [
      "Results summary\n",
      "Results in C:\\RunsOak\\8d-60\n",
      "Showing 1 best trials\n",
      "Objective(name='val_loss', direction='min')\n",
      "Trial summary\n",
      "Hyperparameters:\n",
      "units: 86\n",
      "filters: 96\n",
      "kernel_size: 3\n",
      "learning_rate: 0.001\n",
      "Score: 4.785287618637085\n"
     ]
    }
   ],
   "source": [
    "tuner60.results_summary(1)"
   ]
  },
  {
   "cell_type": "markdown",
   "metadata": {},
   "source": [
    "### Best model"
   ]
  },
  {
   "cell_type": "code",
   "execution_count": 56,
   "metadata": {},
   "outputs": [],
   "source": [
    "best_hp60 = tuner60.get_best_hyperparameters()[0]\n",
    "model60 = tuner60.hypermodel.build(best_hp60)"
   ]
  },
  {
   "cell_type": "code",
   "execution_count": 57,
   "metadata": {},
   "outputs": [
    {
     "data": {
      "text/plain": [
       "['Best_HP/8d-60']"
      ]
     },
     "execution_count": 57,
     "metadata": {},
     "output_type": "execute_result"
    }
   ],
   "source": [
    "scaler_filename = \"Best_HP/8d-60\"\n",
    "joblib.dump(best_hp60, scaler_filename) "
   ]
  },
  {
   "cell_type": "code",
   "execution_count": 58,
   "metadata": {},
   "outputs": [
    {
     "name": "stdout",
     "output_type": "stream",
     "text": [
      "Model: \"model_1\"\n",
      "__________________________________________________________________________________________________\n",
      " Layer (type)                   Output Shape         Param #     Connected to                     \n",
      "==================================================================================================\n",
      " DeepInput (InputLayer)         [(None, 3, 5, 6, 1)  0           []                               \n",
      "                                ]                                                                 \n",
      "                                                                                                  \n",
      " WideInput (InputLayer)         [(None, 3, 3, 6)]    0           []                               \n",
      "                                                                                                  \n",
      " time_distributed_4 (TimeDistri  (None, 3, 3, 4, 96)  960        ['DeepInput[0][0]']              \n",
      " buted)                                                                                           \n",
      "                                                                                                  \n",
      " time_distributed_3 (TimeDistri  (None, 3, 18)       0           ['WideInput[0][0]']              \n",
      " buted)                                                                                           \n",
      "                                                                                                  \n",
      " time_distributed_5 (TimeDistri  (None, 3, 1152)     0           ['time_distributed_4[0][0]']     \n",
      " buted)                                                                                           \n",
      "                                                                                                  \n",
      " bidirectional_1 (Bidirectional  (None, 3, 86)       72240       ['time_distributed_3[0][0]']     \n",
      " )                                                                                                \n",
      "                                                                                                  \n",
      " lstm_3 (LSTM)                  (None, 3, 86)        426216      ['time_distributed_5[0][0]']     \n",
      "                                                                                                  \n",
      " concatenate_1 (Concatenate)    (None, 6, 86)        0           ['bidirectional_1[0][0]',        \n",
      "                                                                  'lstm_3[0][0]']                 \n",
      "                                                                                                  \n",
      " seq_self_attention_1 (SeqSelfA  (None, 6, 86)       5569        ['concatenate_1[0][0]']          \n",
      " ttention)                                                                                        \n",
      "                                                                                                  \n",
      " flatten_5 (Flatten)            (None, 516)          0           ['seq_self_attention_1[0][0]']   \n",
      "                                                                                                  \n",
      " output (Dense)                 (None, 6)            3102        ['flatten_5[0][0]']              \n",
      "                                                                                                  \n",
      "==================================================================================================\n",
      "Total params: 508,087\n",
      "Trainable params: 508,087\n",
      "Non-trainable params: 0\n",
      "__________________________________________________________________________________________________\n"
     ]
    }
   ],
   "source": [
    "model60.summary()"
   ]
  },
  {
   "cell_type": "code",
   "execution_count": 59,
   "metadata": {},
   "outputs": [
    {
     "name": "stdout",
     "output_type": "stream",
     "text": [
      "Epoch 1/100\n",
      "1539/1539 [==============================] - 22s 11ms/step - loss: 8.0818 - mean_absolute_error: 25.8004 - root_mean_squared_error: 41.0292 - mean_absolute_percentage_error: 37.5484 6s - loss: 9.2143 - mean_absolute_error: 28.9808 - root_mean_squared_error: 46.5336 - mean_absolute_perc - ETA: 5s - loss: 8.9319 - mean_absolute_error: 28.1719 - root_mean_squared_error: 45.1653 - mean_absolute_percentage_error: - ETA: 4s - loss: 8.8306 - mean_absolute_error: 27.8937 - root_mean_squared_error: 44.6881 - mean_absolute_percentage_err - ETA: 4s - loss: 8.6997 - mean_absolute_error: 27.5200 - root_me\n",
      "Epoch 2/100\n",
      "1539/1539 [==============================] - 17s 11ms/step - loss: 5.9235 - mean_absolute_error: 19.5319 - root_mean_squared_error: 28.3507 - mean_absolute_percentage_error: 26.1736\n",
      "Epoch 3/100\n",
      "1539/1539 [==============================] - 16s 11ms/step - loss: 5.5844 - mean_absolute_error: 18.4149 - root_mean_squared_error: 26.5973 - mean_absolute_percentage_error: 23.8352 9s - loss:  - ETA: 3s - loss: 5.6066 - mean_absolute_error: 18.4826 - root_mean_squared_error: 26.6777 - mean_a - ETA: 1s - loss: 5.5923 - mean_absolute_error: 18.4356 - root_mean_squared_error: 26.6031 - mean_a\n",
      "Epoch 4/100\n",
      "1539/1539 [==============================] - 17s 11ms/step - loss: 5.3991 - mean_absolute_error: 17.8145 - root_mean_squared_error: 25.8486 - mean_absolute_percentage_error: 23.0923\n",
      "Epoch 5/100\n",
      "1539/1539 [==============================] - 16s 10ms/step - loss: 5.2830 - mean_absolute_error: 17.4401 - root_mean_squared_error: 25.3707 - mean_absolute_percentage_error: 22.5444\n",
      "Epoch 6/100\n",
      "1539/1539 [==============================] - 17s 11ms/step - loss: 5.1996 - mean_absolute_error: 17.1700 - root_mean_squared_error: 25.0067 - mean_absolute_percentage_error: 22.1914\n",
      "Epoch 7/100\n",
      "1539/1539 [==============================] - 16s 10ms/step - loss: 5.1331 - mean_absolute_error: 16.9739 - root_mean_squared_error: 24.7619 - mean_absolute_percentage_error: 21.6986\n",
      "Epoch 8/100\n",
      "1539/1539 [==============================] - 17s 11ms/step - loss: 5.0786 - mean_absolute_error: 16.8289 - root_mean_squared_error: 24.6180 - mean_absolute_percentage_error: 21.4241\n",
      "Epoch 9/100\n",
      "1539/1539 [==============================] - 16s 10ms/step - loss: 5.0188 - mean_absolute_error: 16.6394 - root_mean_squared_error: 24.3934 - mean_absolute_percentage_error: 21.0772 2s - loss: 5.0191 - mean_absolute_error: 16.6423 - root_mean_squared_error: 24.3850 -\n",
      "Epoch 10/100\n",
      "1539/1539 [==============================] - 17s 11ms/step - loss: 4.9937 - mean_absolute_error: 16.5714 - root_mean_squared_error: 24.2945 - mean_absolute_percentage_error: 20.9747\n",
      "Epoch 11/100\n",
      "1539/1539 [==============================] - 16s 10ms/step - loss: 4.9573 - mean_absolute_error: 16.4530 - root_mean_squared_error: 24.1506 - mean_absolute_percentage_error: 20.8028\n",
      "Epoch 12/100\n",
      "1539/1539 [==============================] - 17s 11ms/step - loss: 4.9339 - mean_absolute_error: 16.3863 - root_mean_squared_error: 24.0949 - mean_absolute_percentage_error: 20.6120 7s - l\n",
      "Epoch 13/100\n",
      "1539/1539 [==============================] - 16s 10ms/step - loss: 4.9281 - mean_absolute_error: 16.3794 - root_mean_squared_error: 24.0737 - mean_absolute_percentage_error: 20.6670\n",
      "Epoch 14/100\n",
      "1539/1539 [==============================] - 17s 11ms/step - loss: 4.8951 - mean_absolute_error: 16.2681 - root_mean_squared_error: 23.9292 - mean_absolute_percentage_error: 20.5386\n",
      "Epoch 15/100\n",
      "1539/1539 [==============================] - 16s 11ms/step - loss: 4.8779 - mean_absolute_error: 16.2241 - root_mean_squared_error: 23.8656 - mean_absolute_percentage_error: 20.4381 3s - loss: 4.8794 - mean_absolute_error: 16.2404 - root_mean_squared_e\n",
      "Epoch 16/100\n",
      "1539/1539 [==============================] - 13s 9ms/step - loss: 4.8582 - mean_absolute_error: 16.1620 - root_mean_squared_error: 23.8061 - mean_absolute_percentage_error: 20.3844\n",
      "Epoch 17/100\n",
      "1539/1539 [==============================] - 17s 11ms/step - loss: 4.8376 - mean_absolute_error: 16.0911 - root_mean_squared_error: 23.6971 - mean_absolute_percentage_error: 20.2549\n",
      "Epoch 18/100\n",
      "1539/1539 [==============================] - 17s 11ms/step - loss: 4.8151 - mean_absolute_error: 16.0262 - root_mean_squared_error: 23.6112 - mean_absolute_percentage_error: 20.1772\n",
      "Epoch 19/100\n",
      "1539/1539 [==============================] - 16s 10ms/step - loss: 4.7911 - mean_absolute_error: 15.9452 - root_mean_squared_error: 23.5363 - mean_absolute_percentage_error: 20.0639 3s - loss: 4.7929 - mean_absolute_error: 15.9633 - root_mean_squared_er\n",
      "Epoch 20/100\n",
      "1539/1539 [==============================] - 17s 11ms/step - loss: 4.7871 - mean_absolute_error: 15.9355 - root_mean_squared_error: 23.4937 - mean_absolute_percentage_error: 20.0971\n",
      "Epoch 21/100\n",
      "1539/1539 [==============================] - 17s 11ms/step - loss: 4.7620 - mean_absolute_error: 15.8583 - root_mean_squared_error: 23.4156 - mean_absolute_percentage_error: 19.9184\n",
      "Epoch 22/100\n",
      "1539/1539 [==============================] - 16s 11ms/step - loss: 4.7523 - mean_absolute_error: 15.8254 - root_mean_squared_error: 23.3564 - mean_absolute_percentage_error: 20.0006\n",
      "Epoch 23/100\n",
      "1539/1539 [==============================] - 17s 11ms/step - loss: 4.7316 - mean_absolute_error: 15.7595 - root_mean_squared_error: 23.2771 - mean_absolute_percentage_error: 19.8570\n",
      "Epoch 24/100\n",
      "1539/1539 [==============================] - 17s 11ms/step - loss: 4.7242 - mean_absolute_error: 15.7401 - root_mean_squared_error: 23.2746 - mean_absolute_percentage_error: 19.8393 11s - loss: 4.7003 - mean_absolute_error: 15.6487 - root_mean_squared_error: 23.2412 - mea - ETA: 9s - loss: 4.7074 - mean_absolute_error: 15.6569 - root_mean_squar - ETA: 6s - loss: 4.7017 - mean\n",
      "Epoch 25/100\n",
      "1539/1539 [==============================] - 16s 11ms/step - loss: 4.7081 - mean_absolute_error: 15.6860 - root_mean_squared_error: 23.2000 - mean_absolute_percentage_error: 19.7930\n",
      "Epoch 26/100\n",
      "1539/1539 [==============================] - 17s 11ms/step - loss: 4.6935 - mean_absolute_error: 15.6369 - root_mean_squared_error: 23.1532 - mean_absolute_percentage_error: 19.7274\n",
      "Epoch 27/100\n",
      "1539/1539 [==============================] - 17s 11ms/step - loss: 4.6796 - mean_absolute_error: 15.5977 - root_mean_squared_error: 23.0938 - mean_absolute_percentage_error: 19.6575 13s - loss: 4.6850 - mean_absolute_error: 15.6142 - root_mean_squared_error: 23.0960 - ETA: 11s - loss: 4.6851 - mea - ETA: 7s -\n",
      "Epoch 28/100\n",
      "1539/1539 [==============================] - 16s 11ms/step - loss: 4.6702 - mean_absolute_error: 15.5689 - root_mean_squared_error: 23.0363 - mean_absolute_percentage_error: 19.5791\n",
      "Epoch 29/100\n",
      "1539/1539 [==============================] - 17s 11ms/step - loss: 4.6538 - mean_absolute_error: 15.5128 - root_mean_squared_error: 22.9813 - mean_absolute_percentage_error: 19.5702 2s - loss: 4.6564 - mean_absolute_error: 15.5213 - root_mean_squared_error: 22.9995\n",
      "Epoch 30/100\n",
      "1539/1539 [==============================] - 17s 11ms/step - loss: 4.6413 - mean_absolute_error: 15.4792 - root_mean_squared_error: 22.9368 - mean_absolute_percentage_error: 19.5032\n",
      "Epoch 31/100\n",
      "1539/1539 [==============================] - 17s 11ms/step - loss: 4.6333 - mean_absolute_error: 15.4558 - root_mean_squared_error: 22.9165 - mean_absolute_percentage_error: 19.4606\n",
      "Epoch 32/100\n",
      "1539/1539 [==============================] - 18s 12ms/step - loss: 4.6152 - mean_absolute_error: 15.3910 - root_mean_squared_error: 22.8404 - mean_absolute_percentage_error: 19.3972 9s - loss: 4.6187 - mean_absolute_error: 15.4593 - root_mean_squared_error: 22.9135 - mean_absolute_p\n",
      "Epoch 33/100\n",
      "1539/1539 [==============================] - 18s 12ms/step - loss: 4.6172 - mean_absolute_error: 15.4070 - root_mean_squared_error: 22.8453 - mean_absolute_percentage_error: 19.3667 2s - loss: 4.6152 - mean_absolute_error: 15.4049 - root_mean_squared_error: 22.8449 - me\n",
      "Epoch 34/100\n",
      "1539/1539 [==============================] - 17s 11ms/step - loss: 4.5995 - mean_absolute_error: 15.3501 - root_mean_squared_error: 22.7837 - mean_absolute_percentage_error: 19.3045\n",
      "Epoch 35/100\n",
      "1539/1539 [==============================] - 18s 12ms/step - loss: 4.5928 - mean_absolute_error: 15.3336 - root_mean_squared_error: 22.7734 - mean_absolute_percentage_error: 19.2335 4s - loss: 4.5974 - mean_absolute_error: 15.3\n",
      "Epoch 36/100\n",
      "1539/1539 [==============================] - 18s 12ms/step - loss: 4.5798 - mean_absolute_error: 15.2877 - root_mean_squared_error: 22.6928 - mean_absolute_percentage_error: 19.1741 8s - loss: 4.5643 - mean_absolute_error: 15.1897 - root_mean_squared_error: 22.5113 -  - ETA: 6s - loss: 4.5615 - mean_absolute_error: - ETA: 1s - loss: 4.5768 - mean_absolute_error: 15.2791 - root_mean_squared_error: 22.6792 - mean_absolute_percenta\n",
      "Epoch 37/100\n",
      "1539/1539 [==============================] - 17s 11ms/step - loss: 4.5650 - mean_absolute_error: 15.2422 - root_mean_squared_error: 22.6409 - mean_absolute_percentage_error: 19.1600\n",
      "Epoch 38/100\n",
      "1539/1539 [==============================] - 18s 12ms/step - loss: 4.5633 - mean_absolute_error: 15.2421 - root_mean_squared_error: 22.6372 - mean_absolute_percentage_error: 19.0831\n",
      "Epoch 39/100\n",
      "1539/1539 [==============================] - 18s 12ms/step - loss: 4.5450 - mean_absolute_error: 15.1806 - root_mean_squared_error: 22.5634 - mean_absolute_percentage_error: 19.0737 6s - loss: 4.5364 - me - ETA: 0s - loss: 4.5403 - mean_absolute_error: 15.1610 - root_mean_squared_error: 22.5282 - mean_absolute_percentage_error\n",
      "Epoch 40/100\n",
      "1539/1539 [==============================] - 16s 11ms/step - loss: 4.5357 - mean_absolute_error: 15.1454 - root_mean_squared_error: 22.5187 - mean_absolute_percentage_error: 19.0217\n",
      "Epoch 41/100\n",
      "1539/1539 [==============================] - 17s 11ms/step - loss: 4.5245 - mean_absolute_error: 15.1168 - root_mean_squared_error: 22.4972 - mean_absolute_percentage_error: 18.9601 2s - loss: 4.5303 - mean_absolute_error: 15.1293 - root_mean_squared_error: 22.5301 - me\n",
      "Epoch 42/100\n",
      "1539/1539 [==============================] - 17s 11ms/step - loss: 4.5220 - mean_absolute_error: 15.1136 - root_mean_squared_error: 22.4875 - mean_absolute_percentage_error: 18.8934\n",
      "Epoch 43/100\n",
      "1539/1539 [==============================] - 16s 10ms/step - loss: 4.5085 - mean_absolute_error: 15.0687 - root_mean_squared_error: 22.4213 - mean_absolute_percentage_error: 18.8444 8s - loss\n",
      "Epoch 44/100\n",
      "1539/1539 [==============================] - 17s 11ms/step - loss: 4.5024 - mean_absolute_error: 15.0528 - root_mean_squared_error: 22.4146 - mean_absolute_percentage_error: 18.8166\n",
      "Epoch 45/100\n",
      "1539/1539 [==============================] - 17s 11ms/step - loss: 4.4926 - mean_absolute_error: 15.0193 - root_mean_squared_error: 22.3651 - mean_absolute_percentage_error: 18.7527 3s - loss: 4.4889 - mean_absolute_error: 15.0164 - root_mean_squared_error: 22.3634 - mean_absolute_percentage_error: 18. - ETA: 3s - loss: 4.4916 - mean_absolute_error: 15.0275 - root_mean_squared_erro\n",
      "Epoch 46/100\n",
      "1539/1539 [==============================] - 16s 10ms/step - loss: 4.4792 - mean_absolute_error: 14.9769 - root_mean_squared_error: 22.3152 - mean_absolute_percentage_error: 18.6970\n",
      "Epoch 47/100\n",
      "1539/1539 [==============================] - 17s 11ms/step - loss: 4.4714 - mean_absolute_error: 14.9622 - root_mean_squared_error: 22.3218 - mean_absolute_percentage_error: 18.6415 6s - loss: 4.4569 - mean_a\n",
      "Epoch 48/100\n",
      "1539/1539 [==============================] - 17s 11ms/step - loss: 4.4584 - mean_absolute_error: 14.9135 - root_mean_squared_error: 22.2429 - mean_absolute_percentage_error: 18.6093\n",
      "Epoch 49/100\n",
      "1539/1539 [==============================] - 16s 10ms/step - loss: 4.4499 - mean_absolute_error: 14.8864 - root_mean_squared_error: 22.1860 - mean_absolute_percentage_error: 18.5998 1s - loss: 4.4416 - mean_absolute_error: 14.8455 - root_mean_squared_error: 22.1231 - mean_absolute_perce\n",
      "Epoch 50/100\n",
      "1539/1539 [==============================] - 17s 11ms/step - loss: 4.4454 - mean_absolute_error: 14.8740 - root_mean_squared_error: 22.1934 - mean_absolute_percentage_error: 18.5229\n",
      "Epoch 51/100\n",
      "1539/1539 [==============================] - 17s 11ms/step - loss: 4.4315 - mean_absolute_error: 14.8337 - root_mean_squared_error: 22.1396 - mean_absolute_percentage_error: 18.4534\n",
      "Epoch 52/100\n",
      "1539/1539 [==============================] - 16s 10ms/step - loss: 4.4260 - mean_absolute_error: 14.8140 - root_mean_squared_error: 22.1182 - mean_absolute_percentage_error: 18.4380\n",
      "Epoch 53/100\n",
      "1539/1539 [==============================] - 17s 11ms/step - loss: 4.4128 - mean_absolute_error: 14.7670 - root_mean_squared_error: 22.0552 - mean_absolute_percentage_error: 18.3501A: 4s - loss: 4.4187 - mean_absolute_error: 14.7820 - root\n",
      "Epoch 54/100\n",
      "1539/1539 [==============================] - 17s 11ms/step - loss: 4.4132 - mean_absolute_error: 14.7764 - root_mean_squared_error: 22.0837 - mean_absolute_percentage_error: 18.4466\n",
      "Epoch 55/100\n",
      "1539/1539 [==============================] - 16s 10ms/step - loss: 4.4054 - mean_absolute_error: 14.7519 - root_mean_squared_error: 22.0501 - mean_absolute_percentage_error: 18.3973\n",
      "Epoch 56/100\n",
      "1539/1539 [==============================] - 17s 11ms/step - loss: 4.3959 - mean_absolute_error: 14.7276 - root_mean_squared_error: 22.0205 - mean_absolute_percentage_error: 18.3304 11s - loss: 4.3804 - mean_absolu - ETA: 6s - loss: 4.\n",
      "Epoch 57/100\n",
      "1539/1539 [==============================] - 17s 11ms/step - loss: 4.3826 - mean_absolute_error: 14.6766 - root_mean_squared_error: 21.9261 - mean_absolute_percentage_error: 18.2707\n",
      "Epoch 58/100\n",
      "1539/1539 [==============================] - 16s 10ms/step - loss: 4.3731 - mean_absolute_error: 14.6560 - root_mean_squared_error: 21.9252 - mean_absolute_percentage_error: 18.2527\n",
      "Epoch 59/100\n",
      "1539/1539 [==============================] - 17s 11ms/step - loss: 4.3679 - mean_absolute_error: 14.6348 - root_mean_squared_error: 21.8972 - mean_absolute_percentage_error: 18.1870\n",
      "Epoch 60/100\n",
      "1539/1539 [==============================] - 17s 11ms/step - loss: 4.3516 - mean_absolute_error: 14.5804 - root_mean_squared_error: 21.8425 - mean_absolute_percentage_error: 18.1467 12s - loss: 4.3315 - mean_absolute_error: 14.5268 - ro - ETA: 10s - loss: 4.3448 - mean_absolute_error: 14.5468 - root_mea - ETA: 7s - loss: 4.\n",
      "Epoch 61/100\n",
      "1539/1539 [==============================] - 16s 10ms/step - loss: 4.3516 - mean_absolute_error: 14.5857 - root_mean_squared_error: 21.8528 - mean_absolute_percentage_error: 18.1283\n",
      "Epoch 62/100\n",
      "1539/1539 [==============================] - 17s 11ms/step - loss: 4.3476 - mean_absolute_error: 14.5730 - root_mean_squared_error: 21.8335 - mean_absolute_percentage_error: 18.1086 3s - loss: 4.3461 - mean_absolute_error: 14.5798 - root_mean_\n",
      "Epoch 63/100\n",
      "1539/1539 [==============================] - 17s 11ms/step - loss: 4.3324 - mean_absolute_error: 14.5209 - root_mean_squared_error: 21.7596 - mean_absolute_percentage_error: 18.0480\n",
      "Epoch 64/100\n",
      "1539/1539 [==============================] - 16s 10ms/step - loss: 4.3212 - mean_absolute_error: 14.4845 - root_mean_squared_error: 21.7136 - mean_absolute_percentage_error: 17.9566\n",
      "Epoch 65/100\n",
      "1539/1539 [==============================] - 17s 11ms/step - loss: 4.3129 - mean_absolute_error: 14.4568 - root_mean_squared_error: 21.6775 - mean_absolute_percentage_error: 17.9320\n",
      "Epoch 66/100\n",
      "1539/1539 [==============================] - 17s 11ms/step - loss: 4.3084 - mean_absolute_error: 14.4417 - root_mean_squared_error: 21.6644 - mean_absolute_percentage_error: 17.9104\n",
      "Epoch 67/100\n",
      "1539/1539 [==============================] - 16s 11ms/step - loss: 4.3025 - mean_absolute_error: 14.4281 - root_mean_squared_error: 21.6478 - mean_absolute_percentage_error: 17.9139 6s - loss: 4.2848 - mean_absolute_er\n",
      "Epoch 68/100\n",
      "1539/1539 [==============================] - 17s 11ms/step - loss: 4.2928 - mean_absolute_error: 14.3898 - root_mean_squared_error: 21.5840 - mean_absolute_percentage_error: 17.8474\n",
      "Epoch 69/100\n"
     ]
    },
    {
     "name": "stdout",
     "output_type": "stream",
     "text": [
      "1539/1539 [==============================] - 17s 11ms/step - loss: 4.2860 - mean_absolute_error: 14.3729 - root_mean_squared_error: 21.5683 - mean_absolute_percentage_error: 17.8262\n",
      "Epoch 70/100\n",
      "1539/1539 [==============================] - 16s 11ms/step - loss: 4.2732 - mean_absolute_error: 14.3311 - root_mean_squared_error: 21.5157 - mean_absolute_percentage_error: 17.7922\n",
      "Epoch 71/100\n",
      "1539/1539 [==============================] - 16s 11ms/step - loss: 4.2661 - mean_absolute_error: 14.3029 - root_mean_squared_error: 21.4672 - mean_absolute_percentage_error: 17.7559\n",
      "Epoch 72/100\n",
      "1539/1539 [==============================] - 17s 11ms/step - loss: 4.2611 - mean_absolute_error: 14.2882 - root_mean_squared_error: 21.4636 - mean_absolute_percentage_error: 17.6503\n",
      "Epoch 73/100\n",
      "1539/1539 [==============================] - 16s 11ms/step - loss: 4.2543 - mean_absolute_error: 14.2610 - root_mean_squared_error: 21.4204 - mean_absolute_percentage_error: 17.7119\n",
      "Epoch 74/100\n",
      "1539/1539 [==============================] - 16s 11ms/step - loss: 4.2534 - mean_absolute_error: 14.2615 - root_mean_squared_error: 21.4107 - mean_absolute_percentage_error: 17.7202\n",
      "Epoch 75/100\n",
      "1539/1539 [==============================] - 17s 11ms/step - loss: 4.2399 - mean_absolute_error: 14.2206 - root_mean_squared_error: 21.3776 - mean_absolute_percentage_error: 17.6292\n",
      "Epoch 76/100\n",
      "1539/1539 [==============================] - 16s 11ms/step - loss: 4.2380 - mean_absolute_error: 14.2075 - root_mean_squared_error: 21.3358 - mean_absolute_percentage_error: 17.6489 4s - loss: 4.2240 - mean_absolute_error: 14.1522 - root_mean_squa\n",
      "Epoch 77/100\n",
      "1539/1539 [==============================] - 16s 11ms/step - loss: 4.2241 - mean_absolute_error: 14.1600 - root_mean_squared_error: 21.2898 - mean_absolute_percentage_error: 17.5516\n",
      "Epoch 78/100\n",
      "1539/1539 [==============================] - 17s 11ms/step - loss: 4.2252 - mean_absolute_error: 14.1756 - root_mean_squared_error: 21.3140 - mean_absolute_percentage_error: 17.5583\n",
      "Epoch 79/100\n",
      "1539/1539 [==============================] - 17s 11ms/step - loss: 4.2140 - mean_absolute_error: 14.1298 - root_mean_squared_error: 21.2650 - mean_absolute_percentage_error: 17.4966\n",
      "Epoch 80/100\n",
      "1539/1539 [==============================] - 16s 11ms/step - loss: 4.1991 - mean_absolute_error: 14.0867 - root_mean_squared_error: 21.2091 - mean_absolute_percentage_error: 17.4382\n",
      "Epoch 81/100\n",
      "1539/1539 [==============================] - 17s 11ms/step - loss: 4.2002 - mean_absolute_error: 14.0864 - root_mean_squared_error: 21.1952 - mean_absolute_percentage_error: 17.4494\n",
      "Epoch 82/100\n",
      "1539/1539 [==============================] - 17s 11ms/step - loss: 4.1947 - mean_absolute_error: 14.0689 - root_mean_squared_error: 21.1805 - mean_absolute_percentage_error: 17.4704\n",
      "Epoch 83/100\n",
      "1539/1539 [==============================] - 16s 11ms/step - loss: 4.1876 - mean_absolute_error: 14.0412 - root_mean_squared_error: 21.1435 - mean_absolute_percentage_error: 17.4185\n",
      "Epoch 84/100\n",
      "1539/1539 [==============================] - 17s 11ms/step - loss: 4.1866 - mean_absolute_error: 14.0400 - root_mean_squared_error: 21.1410 - mean_absolute_percentage_error: 17.3921\n",
      "Epoch 85/100\n",
      "1539/1539 [==============================] - 17s 11ms/step - loss: 4.1735 - mean_absolute_error: 13.9997 - root_mean_squared_error: 21.0917 - mean_absolute_percentage_error: 17.3058\n",
      "Epoch 86/100\n",
      "1539/1539 [==============================] - 16s 11ms/step - loss: 4.1655 - mean_absolute_error: 13.9699 - root_mean_squared_error: 21.0431 - mean_absolute_percentage_error: 17.3113\n",
      "Epoch 87/100\n",
      "1539/1539 [==============================] - 17s 11ms/step - loss: 4.1594 - mean_absolute_error: 13.9440 - root_mean_squared_error: 21.0081 - mean_absolute_percentage_error: 17.3252\n",
      "Epoch 88/100\n",
      "1539/1539 [==============================] - 17s 11ms/step - loss: 4.1514 - mean_absolute_error: 13.9257 - root_mean_squared_error: 21.0093 - mean_absolute_percentage_error: 17.2672\n",
      "Epoch 89/100\n",
      "1539/1539 [==============================] - 16s 11ms/step - loss: 4.1474 - mean_absolute_error: 13.9061 - root_mean_squared_error: 20.9722 - mean_absolute_percentage_error: 17.2339 6s - loss: 4.\n",
      "Epoch 90/100\n",
      "1539/1539 [==============================] - 17s 11ms/step - loss: 4.1430 - mean_absolute_error: 13.8974 - root_mean_squared_error: 20.9750 - mean_absolute_percentage_error: 17.2236 1s - loss: 4.1477 - mean_absolute_error: 13.9121 - root_mean_squared_error: 21.0000 - mean_absolute_pe\n",
      "Epoch 91/100\n",
      "1539/1539 [==============================] - 17s 11ms/step - loss: 4.1344 - mean_absolute_error: 13.8671 - root_mean_squared_error: 20.9327 - mean_absolute_percentage_error: 17.2034\n",
      "Epoch 92/100\n",
      "1539/1539 [==============================] - 16s 10ms/step - loss: 4.1272 - mean_absolute_error: 13.8441 - root_mean_squared_error: 20.8990 - mean_absolute_percentage_error: 17.1412\n",
      "Epoch 93/100\n",
      "1539/1539 [==============================] - 17s 11ms/step - loss: 4.1223 - mean_absolute_error: 13.8280 - root_mean_squared_error: 20.8799 - mean_absolute_percentage_error: 17.0875 7s - los\n",
      "Epoch 94/100\n",
      "1539/1539 [==============================] - 17s 11ms/step - loss: 4.1118 - mean_absolute_error: 13.7878 - root_mean_squared_error: 20.8186 - mean_absolute_percentage_error: 17.0675 3s - loss: 4.1017 - mean_absolute_error: 13.7315 - root_mean_squared_error: 20.7204 - mean_absolute_percentage_error: 17.041 - ETA: 3s - loss: 4.1013 - mean_absolute_error: 13.7309 - root_mean_squared_error: 2\n",
      "Epoch 95/100\n",
      "1539/1539 [==============================] - 16s 10ms/step - loss: 4.1142 - mean_absolute_error: 13.7999 - root_mean_squared_error: 20.8185 - mean_absolute_percentage_error: 17.0890 4s - loss: 4.1120 - mean_absolute_error: 13.7850\n",
      "Epoch 96/100\n",
      "1539/1539 [==============================] - 17s 11ms/step - loss: 4.1034 - mean_absolute_error: 13.7602 - root_mean_squared_error: 20.7849 - mean_absolute_percentage_error: 17.0547\n",
      "Epoch 97/100\n",
      "1539/1539 [==============================] - 17s 11ms/step - loss: 4.0963 - mean_absolute_error: 13.7338 - root_mean_squared_error: 20.7463 - mean_absolute_percentage_error: 17.0614\n",
      "Epoch 98/100\n",
      "1539/1539 [==============================] - 16s 10ms/step - loss: 4.0858 - mean_absolute_error: 13.6984 - root_mean_squared_error: 20.7064 - mean_absolute_percentage_error: 16.9924\n",
      "Epoch 99/100\n",
      "1539/1539 [==============================] - 17s 11ms/step - loss: 4.0854 - mean_absolute_error: 13.6967 - root_mean_squared_error: 20.6983 - mean_absolute_percentage_error: 17.0071\n",
      "Epoch 100/100\n",
      "1539/1539 [==============================] - 17s 11ms/step - loss: 4.0741 - mean_absolute_error: 13.6591 - root_mean_squared_error: 20.6395 - mean_absolute_percentage_error: 16.9494\n"
     ]
    },
    {
     "data": {
      "text/plain": [
       "<keras.callbacks.History at 0x2a39c4b3430>"
      ]
     },
     "execution_count": 59,
     "metadata": {},
     "output_type": "execute_result"
    }
   ],
   "source": [
    "model60.fit((Wt60,Xt60), yt60, \n",
    "            epochs = 100, \n",
    "            verbose = 1\n",
    "            )"
   ]
  },
  {
   "cell_type": "code",
   "execution_count": 60,
   "metadata": {},
   "outputs": [
    {
     "name": "stderr",
     "output_type": "stream",
     "text": [
      "WARNING:absl:Function `_wrapped_model` contains input name(s) WideInput, DeepInput with unsupported characters which will be renamed to wideinput, deepinput in the SavedModel.\n",
      "WARNING:absl:Found untraced functions such as lstm_cell_5_layer_call_fn, lstm_cell_5_layer_call_and_return_conditional_losses, lstm_cell_6_layer_call_fn, lstm_cell_6_layer_call_and_return_conditional_losses, lstm_cell_5_layer_call_fn while saving (showing 5 of 10). These functions will not be directly callable after loading.\n"
     ]
    },
    {
     "name": "stdout",
     "output_type": "stream",
     "text": [
      "INFO:tensorflow:Assets written to: my_dir/8d-60\\assets\n"
     ]
    },
    {
     "name": "stderr",
     "output_type": "stream",
     "text": [
      "INFO:tensorflow:Assets written to: my_dir/8d-60\\assets\n",
      "WARNING:absl:<keras.layers.recurrent.LSTMCell object at 0x000002A3857E3970> has the same name 'LSTMCell' as a built-in Keras object. Consider renaming <class 'keras.layers.recurrent.LSTMCell'> to avoid naming conflicts when loading with `tf.keras.models.load_model`. If renaming is not possible, pass the object in the `custom_objects` parameter of the load function.\n",
      "WARNING:absl:<keras.layers.recurrent.LSTMCell object at 0x000002A3A1C7BA60> has the same name 'LSTMCell' as a built-in Keras object. Consider renaming <class 'keras.layers.recurrent.LSTMCell'> to avoid naming conflicts when loading with `tf.keras.models.load_model`. If renaming is not possible, pass the object in the `custom_objects` parameter of the load function.\n",
      "WARNING:absl:<keras.layers.recurrent.LSTMCell object at 0x000002A3FEC64130> has the same name 'LSTMCell' as a built-in Keras object. Consider renaming <class 'keras.layers.recurrent.LSTMCell'> to avoid naming conflicts when loading with `tf.keras.models.load_model`. If renaming is not possible, pass the object in the `custom_objects` parameter of the load function.\n"
     ]
    }
   ],
   "source": [
    "model60.save(\"my_dir/8d-60\")"
   ]
  },
  {
   "cell_type": "code",
   "execution_count": 61,
   "metadata": {},
   "outputs": [],
   "source": [
    "metrics60 = pd.DataFrame(model60.history.history)"
   ]
  },
  {
   "cell_type": "code",
   "execution_count": 62,
   "metadata": {},
   "outputs": [
    {
     "data": {
      "text/plain": [
       "<AxesSubplot:>"
      ]
     },
     "execution_count": 62,
     "metadata": {},
     "output_type": "execute_result"
    },
    {
     "data": {
      "image/png": "[encoded data removed]",
      "text/plain": [
       "<Figure size 432x288 with 1 Axes>"
      ]
     },
     "metadata": {
      "needs_background": "light"
     },
     "output_type": "display_data"
    }
   ],
   "source": [
    "metrics60[['loss']].plot()"
   ]
  },
  {
   "cell_type": "code",
   "execution_count": 63,
   "metadata": {},
   "outputs": [],
   "source": [
    "model60 = keras.models.load_model(\"my_dir/8d-60\", custom_objects={'rGEH_loss': rGEH_loss})"
   ]
  },
  {
   "cell_type": "code",
   "execution_count": 64,
   "metadata": {},
   "outputs": [
    {
     "data": {
      "text/plain": [
       "array([[ 26.811428 ,  12.054482 ,  19.355532 ,  57.30116  ,  29.672113 ,\n",
       "          4.852217 ],\n",
       "       [ 25.746208 ,  10.074606 ,  11.956555 ,  55.67801  ,  30.777142 ,\n",
       "          4.8221927],\n",
       "       [ 26.157873 ,  11.396345 ,  11.586244 ,  55.688877 ,  33.317406 ,\n",
       "          4.8959846],\n",
       "       ...,\n",
       "       [ 40.18484  ,  36.318348 ,  60.280083 , 130.6921   ,  54.15426  ,\n",
       "          7.3948717],\n",
       "       [ 38.999557 ,  34.38743  ,  54.507057 , 122.37762  ,  51.286545 ,\n",
       "          6.747251 ],\n",
       "       [ 39.951088 ,  37.134716 ,  56.193577 , 116.91752  ,  50.90887  ,\n",
       "          6.6972485]], dtype=float32)"
      ]
     },
     "execution_count": 64,
     "metadata": {},
     "output_type": "execute_result"
    }
   ],
   "source": [
    "model60.predict((Wv60,Xv60))"
   ]
  },
  {
   "cell_type": "markdown",
   "metadata": {},
   "source": [
    "### Evaluation on inverse_transform"
   ]
  },
  {
   "cell_type": "code",
   "execution_count": null,
   "metadata": {},
   "outputs": [],
   "source": [
    "test_predictions60 = model60.predict((Wv60,Xv60))\n",
    "\n",
    "\n",
    "MSE60 = mean_squared_error(yv60,test_predictions60)\n",
    "\n",
    "MAE60 = mean_absolute_error(yv60,test_predictions60)\n",
    "\n",
    "RMSE60 = np.sqrt(MSE60)\n",
    "\n",
    "MAPE60 = mean_absolute_percentage_error(yv60,test_predictions60)*100\n",
    "\n",
    "eval60 = [MSE60, MAE60, RMSE60, MAPE60]\n",
    "print(eval60)"
   ]
  },
  {
   "cell_type": "code",
   "execution_count": null,
   "metadata": {},
   "outputs": [],
   "source": [
    "GEH, count = ga.GEH(np.asarray(yv60), np.asarray(test_predictions60))\n",
    "GEH60 = count/GEH.size\n",
    "print(GEH60)"
   ]
  }
 ],
 "metadata": {
  "kernelspec": {
   "display_name": "Python 3 (ipykernel)",
   "language": "python",
   "name": "python3"
  },
  "language_info": {
   "codemirror_mode": {
    "name": "ipython",
    "version": 3
   },
   "file_extension": ".py",
   "mimetype": "text/x-python",
   "name": "python",
   "nbconvert_exporter": "python",
   "pygments_lexer": "ipython3",
   "version": "3.11.5"
  }
 },
 "nbformat": 4,
 "nbformat_minor": 4
}
