{
 "cells": [
  {
   "cell_type": "code",
   "execution_count": 1,
   "metadata": {},
   "outputs": [],
   "source": [
    "import csv"
   ]
  },
  {
   "cell_type": "markdown",
   "metadata": {},
   "source": [
    "# DataSet"
   ]
  },
  {
   "cell_type": "code",
   "execution_count": 2,
   "metadata": {},
   "outputs": [],
   "source": [
    "# 2 week Extension (Aug)\n",
    "stations = ['408588','401190','408589','401144','408590','401615','408591','401413','401896','401897','400642']\n",
    "\n",
    "with open('00Extension.csv', 'w') as new_file:\n",
    "    csv_writer = csv.writer(new_file)\n",
    "    \n",
    "    for i in range(17,32):\n",
    "        with open('C:/Oakland/00Aug/d04_text_station_5min_2017_08_{}.txt'.\n",
    "                  format(str(i).zfill(2)), 'r') as csv_file:\n",
    "            csv_reader = csv.reader(csv_file)\n",
    "    \n",
    "            for line in csv_reader:\n",
    "                if line[1] in stations:\n",
    "                    csv_writer.writerow(line)"
   ]
  },
  {
   "cell_type": "code",
   "execution_count": 3,
   "metadata": {},
   "outputs": [],
   "source": [
    "# Sept 2017\n",
    "stations = ['408588','401190','408589','401144','408590','401615','408591','401413','401896','401897','400642']\n",
    "\n",
    "with open('01Sept.csv', 'w') as new_file:\n",
    "    csv_writer = csv.writer(new_file)\n",
    "    \n",
    "    for i in range(1,31):\n",
    "        with open('C:/Oakland/01Sept/d04_text_station_5min_2017_09_{}.txt'.\n",
    "                  format(str(i).zfill(2)), 'r') as csv_file:\n",
    "            csv_reader = csv.reader(csv_file)\n",
    "    \n",
    "            for line in csv_reader:\n",
    "                if line[1] in stations:\n",
    "                    csv_writer.writerow(line)"
   ]
  },
  {
   "cell_type": "code",
   "execution_count": 4,
   "metadata": {},
   "outputs": [],
   "source": [
    "# Oct 2017\n",
    "stations = ['408588','401190','408589','401144','408590','401615','408591','401413','401896','401897','400642']\n",
    "\n",
    "with open('02Oct.csv', 'w') as new_file:\n",
    "    csv_writer = csv.writer(new_file)\n",
    "    \n",
    "    for i in range(1,32):\n",
    "        with open('C:/Oakland/02Oct/d04_text_station_5min_2017_10_{}.txt'.\n",
    "                  format(str(i).zfill(2)), 'r') as csv_file:\n",
    "            csv_reader = csv.reader(csv_file)\n",
    "    \n",
    "            for line in csv_reader:\n",
    "                if line[1] in stations:\n",
    "                    csv_writer.writerow(line)"
   ]
  },
  {
   "cell_type": "code",
   "execution_count": 5,
   "metadata": {},
   "outputs": [],
   "source": [
    "# Nov 2017\n",
    "stations = ['408588','401190','408589','401144','408590','401615','408591','401413','401896','401897','400642']\n",
    "\n",
    "with open('03Nov.csv', 'w') as new_file:\n",
    "    csv_writer = csv.writer(new_file)\n",
    "    \n",
    "    for i in range(1,31):\n",
    "        with open('C:/Oakland/03Nov/d04_text_station_5min_2017_11_{}.txt'.\n",
    "                  format(str(i).zfill(2)), 'r') as csv_file:\n",
    "            csv_reader = csv.reader(csv_file)\n",
    "    \n",
    "            for line in csv_reader:\n",
    "                if line[1] in stations:\n",
    "                    csv_writer.writerow(line)"
   ]
  },
  {
   "cell_type": "code",
   "execution_count": 6,
   "metadata": {},
   "outputs": [],
   "source": [
    "# Dec 2017\n",
    "stations = ['408588','401190','408589','401144','408590','401615','408591','401413','401896','401897','400642']\n",
    "\n",
    "with open('04Dec.csv', 'w') as new_file:\n",
    "    csv_writer = csv.writer(new_file)\n",
    "    \n",
    "    for i in range(1,32):\n",
    "        with open('C:/Oakland/04Dec/d04_text_station_5min_2017_12_{}.txt'.\n",
    "                  format(str(i).zfill(2)), 'r') as csv_file:\n",
    "            csv_reader = csv.reader(csv_file)\n",
    "    \n",
    "            for line in csv_reader:\n",
    "                if line[1] in stations:\n",
    "                    csv_writer.writerow(line)"
   ]
  },
  {
   "cell_type": "code",
   "execution_count": 7,
   "metadata": {},
   "outputs": [],
   "source": [
    "# Jan 2018\n",
    "stations = ['408588','401190','408589','401144','408590','401615','408591','401413','401896','401897','400642']\n",
    "\n",
    "with open('05Jan.csv', 'w') as new_file:\n",
    "    csv_writer = csv.writer(new_file)\n",
    "    \n",
    "    for i in range(1,32):\n",
    "        with open('C:/Oakland/05Jan/d04_text_station_5min_2018_01_{}.txt'.\n",
    "                  format(str(i).zfill(2)), 'r') as csv_file:\n",
    "            csv_reader = csv.reader(csv_file)\n",
    "    \n",
    "            for line in csv_reader:\n",
    "                if line[1] in stations:\n",
    "                    csv_writer.writerow(line)"
   ]
  },
  {
   "cell_type": "code",
   "execution_count": 8,
   "metadata": {},
   "outputs": [],
   "source": [
    "# Feb 2018\n",
    "stations = ['408588','401190','408589','401144','408590','401615','408591','401413','401896','401897','400642']\n",
    "\n",
    "with open('06Feb.csv', 'w') as new_file:\n",
    "    csv_writer = csv.writer(new_file)\n",
    "    \n",
    "    for i in range(1,29):\n",
    "        with open('C:/Oakland/06Feb/d04_text_station_5min_2018_02_{}.txt'.\n",
    "                  format(str(i).zfill(2)), 'r') as csv_file:\n",
    "            csv_reader = csv.reader(csv_file)\n",
    "    \n",
    "            for line in csv_reader:\n",
    "                if line[1] in stations:\n",
    "                    csv_writer.writerow(line)"
   ]
  },
  {
   "cell_type": "code",
   "execution_count": 9,
   "metadata": {},
   "outputs": [],
   "source": [
    "# Mar 2018\n",
    "stations = ['408588','401190','408589','401144','408590','401615','408591','401413','401896','401897','400642']\n",
    "\n",
    "with open('07Mar.csv', 'w') as new_file:\n",
    "    csv_writer = csv.writer(new_file)\n",
    "    \n",
    "    for i in range(1,5):\n",
    "        with open('C:/Oakland/07Mar/d04_text_station_5min_2018_03_{}.txt'.\n",
    "                  format(str(i).zfill(2)), 'r') as csv_file:\n",
    "            csv_reader = csv.reader(csv_file)\n",
    "    \n",
    "            for line in csv_reader:\n",
    "                if line[1] in stations:\n",
    "                    csv_writer.writerow(line)"
   ]
  }
 ],
 "metadata": {
  "kernelspec": {
   "display_name": "Python 3 (ipykernel)",
   "language": "python",
   "name": "python3"
  },
  "language_info": {
   "codemirror_mode": {
    "name": "ipython",
    "version": 3
   },
   "file_extension": ".py",
   "mimetype": "text/x-python",
   "name": "python",
   "nbconvert_exporter": "python",
   "pygments_lexer": "ipython3",
   "version": "3.9.7"
  }
 },
 "nbformat": 4,
 "nbformat_minor": 4
}
