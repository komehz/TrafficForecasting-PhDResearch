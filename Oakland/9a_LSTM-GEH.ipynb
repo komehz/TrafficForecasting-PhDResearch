{
 "cells": [
  {
   "cell_type": "code",
   "execution_count": 1,
   "metadata": {},
   "outputs": [],
   "source": [
    "import pandas as pd\n",
    "import numpy as np\n",
    "import matplotlib.pyplot as plt\n",
    "import seaborn as sns\n",
    "import joblib"
   ]
  },
  {
   "cell_type": "code",
   "execution_count": 2,
   "metadata": {},
   "outputs": [],
   "source": [
    "import os\n",
    "import relative_accuracy as ra\n",
    "from statistics import mean, stdev"
   ]
  },
  {
   "cell_type": "code",
   "execution_count": 3,
   "metadata": {},
   "outputs": [],
   "source": [
    "from sklearn.metrics import mean_absolute_error,mean_squared_error,mean_absolute_percentage_error"
   ]
  },
  {
   "cell_type": "code",
   "execution_count": 4,
   "metadata": {},
   "outputs": [],
   "source": [
    "import keras_tuner as kt\n",
    "import MVA as ga\n",
    "from keras_tuner import RandomSearch"
   ]
  },
  {
   "cell_type": "code",
   "execution_count": 5,
   "metadata": {},
   "outputs": [],
   "source": [
    "# Load all Inputs and Output Data\n",
    "\n",
    "# 5 mins (1 step ahead)\n",
    "Deep_train_5   = np.load(\"Deep_train_5.npz\")['x'] \n",
    "Output_train_5 = np.load(\"Deep_train_5.npz\")['y']\n",
    "\n",
    "Deep_test_5   = np.load(\"Deep_test_5.npz\")['x'] \n",
    "Output_test_5 = np.load(\"Deep_test_5.npz\")['y'] \n",
    "\n",
    "# 15 mins (3 steps ahead)\n",
    "Deep_train_15   = np.load(\"Deep_train_15.npz\")['x'] \n",
    "Output_train_15 = np.load(\"Deep_train_15.npz\")['y']\n",
    "\n",
    "Deep_test_15   = np.load(\"Deep_test_15.npz\")['x'] \n",
    "Output_test_15 = np.load(\"Deep_test_15.npz\")['y']\n",
    "\n",
    "# 30 mins (6 steps ahead)\n",
    "Deep_train_30   = np.load(\"Deep_train_30.npz\")['x'] \n",
    "Output_train_30 = np.load(\"Deep_train_30.npz\")['y']\n",
    "\n",
    "Deep_test_30   = np.load(\"Deep_test_30.npz\")['x'] \n",
    "Output_test_30 = np.load(\"Deep_test_30.npz\")['y']\n",
    "\n",
    "# 60 mins (12 steps ahead)\n",
    "Deep_train_60   = np.load(\"Deep_train_60.npz\")['x'] \n",
    "Output_train_60 = np.load(\"Deep_train_60.npz\")['y']\n",
    "\n",
    "Deep_test_60   = np.load(\"Deep_test_60.npz\")['x'] \n",
    "Output_test_60 = np.load(\"Deep_test_60.npz\")['y']"
   ]
  },
  {
   "cell_type": "code",
   "execution_count": 6,
   "metadata": {},
   "outputs": [
    {
     "name": "stderr",
     "output_type": "stream",
     "text": [
      "C:\\Users\\esugom\\AppData\\Roaming\\Python\\Python38\\site-packages\\sklearn\\base.py:329: UserWarning: Trying to unpickle estimator MinMaxScaler from version 1.0.1 when using version 1.0.2. This might lead to breaking code or invalid results. Use at your own risk. For more info please refer to:\n",
      "https://scikit-learn.org/stable/modules/model_persistence.html#security-maintainability-limitations\n",
      "  warnings.warn(\n"
     ]
    }
   ],
   "source": [
    "scaler_filename = \"scaler.save\"\n",
    "scaler = joblib.load(scaler_filename) "
   ]
  },
  {
   "cell_type": "code",
   "execution_count": 7,
   "metadata": {},
   "outputs": [],
   "source": [
    "Test      = pd.read_csv('01test_scaled.csv', index_col=None, parse_dates=[0])"
   ]
  },
  {
   "cell_type": "code",
   "execution_count": 8,
   "metadata": {},
   "outputs": [
    {
     "data": {
      "text/html": [
       "<div>\n",
       "<style scoped>\n",
       "    .dataframe tbody tr th:only-of-type {\n",
       "        vertical-align: middle;\n",
       "    }\n",
       "\n",
       "    .dataframe tbody tr th {\n",
       "        vertical-align: top;\n",
       "    }\n",
       "\n",
       "    .dataframe thead th {\n",
       "        text-align: right;\n",
       "    }\n",
       "</style>\n",
       "<table border=\"1\" class=\"dataframe\">\n",
       "  <thead>\n",
       "    <tr style=\"text-align: right;\">\n",
       "      <th></th>\n",
       "      <th>Timestamp</th>\n",
       "      <th>f1</th>\n",
       "      <th>f2</th>\n",
       "      <th>f3</th>\n",
       "      <th>f4</th>\n",
       "      <th>f5</th>\n",
       "      <th>f6</th>\n",
       "    </tr>\n",
       "  </thead>\n",
       "  <tbody>\n",
       "    <tr>\n",
       "      <th>0</th>\n",
       "      <td>2018-02-19 00:00:00</td>\n",
       "      <td>0.154472</td>\n",
       "      <td>0.123167</td>\n",
       "      <td>0.113360</td>\n",
       "      <td>0.139159</td>\n",
       "      <td>0.091644</td>\n",
       "      <td>0.008451</td>\n",
       "    </tr>\n",
       "    <tr>\n",
       "      <th>1</th>\n",
       "      <td>2018-02-19 00:05:00</td>\n",
       "      <td>0.126016</td>\n",
       "      <td>0.093842</td>\n",
       "      <td>0.101215</td>\n",
       "      <td>0.114887</td>\n",
       "      <td>0.078167</td>\n",
       "      <td>0.008451</td>\n",
       "    </tr>\n",
       "    <tr>\n",
       "      <th>2</th>\n",
       "      <td>2018-02-19 00:10:00</td>\n",
       "      <td>0.109756</td>\n",
       "      <td>0.105572</td>\n",
       "      <td>0.074899</td>\n",
       "      <td>0.144013</td>\n",
       "      <td>0.099730</td>\n",
       "      <td>0.008451</td>\n",
       "    </tr>\n",
       "    <tr>\n",
       "      <th>3</th>\n",
       "      <td>2018-02-19 00:15:00</td>\n",
       "      <td>0.121951</td>\n",
       "      <td>0.073314</td>\n",
       "      <td>0.082996</td>\n",
       "      <td>0.116505</td>\n",
       "      <td>0.072776</td>\n",
       "      <td>0.008451</td>\n",
       "    </tr>\n",
       "    <tr>\n",
       "      <th>4</th>\n",
       "      <td>2018-02-19 00:20:00</td>\n",
       "      <td>0.138211</td>\n",
       "      <td>0.096774</td>\n",
       "      <td>0.113360</td>\n",
       "      <td>0.161812</td>\n",
       "      <td>0.110512</td>\n",
       "      <td>0.008451</td>\n",
       "    </tr>\n",
       "    <tr>\n",
       "      <th>...</th>\n",
       "      <td>...</td>\n",
       "      <td>...</td>\n",
       "      <td>...</td>\n",
       "      <td>...</td>\n",
       "      <td>...</td>\n",
       "      <td>...</td>\n",
       "      <td>...</td>\n",
       "    </tr>\n",
       "    <tr>\n",
       "      <th>4027</th>\n",
       "      <td>2018-03-04 23:35:00</td>\n",
       "      <td>0.162602</td>\n",
       "      <td>0.117302</td>\n",
       "      <td>0.139676</td>\n",
       "      <td>0.174757</td>\n",
       "      <td>0.167116</td>\n",
       "      <td>0.140845</td>\n",
       "    </tr>\n",
       "    <tr>\n",
       "      <th>4028</th>\n",
       "      <td>2018-03-04 23:40:00</td>\n",
       "      <td>0.134146</td>\n",
       "      <td>0.105572</td>\n",
       "      <td>0.105263</td>\n",
       "      <td>0.134304</td>\n",
       "      <td>0.110512</td>\n",
       "      <td>0.073239</td>\n",
       "    </tr>\n",
       "    <tr>\n",
       "      <th>4029</th>\n",
       "      <td>2018-03-04 23:45:00</td>\n",
       "      <td>0.170732</td>\n",
       "      <td>0.155425</td>\n",
       "      <td>0.089069</td>\n",
       "      <td>0.135922</td>\n",
       "      <td>0.099730</td>\n",
       "      <td>0.039437</td>\n",
       "    </tr>\n",
       "    <tr>\n",
       "      <th>4030</th>\n",
       "      <td>2018-03-04 23:50:00</td>\n",
       "      <td>0.150407</td>\n",
       "      <td>0.123167</td>\n",
       "      <td>0.113360</td>\n",
       "      <td>0.165049</td>\n",
       "      <td>0.099730</td>\n",
       "      <td>0.025352</td>\n",
       "    </tr>\n",
       "    <tr>\n",
       "      <th>4031</th>\n",
       "      <td>2018-03-04 23:55:00</td>\n",
       "      <td>0.162602</td>\n",
       "      <td>0.108504</td>\n",
       "      <td>0.115385</td>\n",
       "      <td>0.142395</td>\n",
       "      <td>0.107817</td>\n",
       "      <td>0.028169</td>\n",
       "    </tr>\n",
       "  </tbody>\n",
       "</table>\n",
       "<p>4032 rows × 7 columns</p>\n",
       "</div>"
      ],
      "text/plain": [
       "               Timestamp        f1        f2        f3        f4        f5  \\\n",
       "0    2018-02-19 00:00:00  0.154472  0.123167  0.113360  0.139159  0.091644   \n",
       "1    2018-02-19 00:05:00  0.126016  0.093842  0.101215  0.114887  0.078167   \n",
       "2    2018-02-19 00:10:00  0.109756  0.105572  0.074899  0.144013  0.099730   \n",
       "3    2018-02-19 00:15:00  0.121951  0.073314  0.082996  0.116505  0.072776   \n",
       "4    2018-02-19 00:20:00  0.138211  0.096774  0.113360  0.161812  0.110512   \n",
       "...                  ...       ...       ...       ...       ...       ...   \n",
       "4027 2018-03-04 23:35:00  0.162602  0.117302  0.139676  0.174757  0.167116   \n",
       "4028 2018-03-04 23:40:00  0.134146  0.105572  0.105263  0.134304  0.110512   \n",
       "4029 2018-03-04 23:45:00  0.170732  0.155425  0.089069  0.135922  0.099730   \n",
       "4030 2018-03-04 23:50:00  0.150407  0.123167  0.113360  0.165049  0.099730   \n",
       "4031 2018-03-04 23:55:00  0.162602  0.108504  0.115385  0.142395  0.107817   \n",
       "\n",
       "            f6  \n",
       "0     0.008451  \n",
       "1     0.008451  \n",
       "2     0.008451  \n",
       "3     0.008451  \n",
       "4     0.008451  \n",
       "...        ...  \n",
       "4027  0.140845  \n",
       "4028  0.073239  \n",
       "4029  0.039437  \n",
       "4030  0.025352  \n",
       "4031  0.028169  \n",
       "\n",
       "[4032 rows x 7 columns]"
      ]
     },
     "execution_count": 8,
     "metadata": {},
     "output_type": "execute_result"
    }
   ],
   "source": [
    "Test"
   ]
  },
  {
   "cell_type": "markdown",
   "metadata": {},
   "source": [
    "## Input"
   ]
  },
  {
   "cell_type": "markdown",
   "metadata": {},
   "source": [
    "#### 5 mins"
   ]
  },
  {
   "cell_type": "code",
   "execution_count": 9,
   "metadata": {},
   "outputs": [],
   "source": [
    "# Train\n",
    "Xt5 = Deep_train_5\n",
    "yt5 = Output_train_5\n",
    "# Test\n",
    "Xv5 = Deep_test_5\n",
    "yv5 = Output_test_5"
   ]
  },
  {
   "cell_type": "markdown",
   "metadata": {},
   "source": [
    "#### 15 mins"
   ]
  },
  {
   "cell_type": "code",
   "execution_count": 10,
   "metadata": {},
   "outputs": [],
   "source": [
    "# Train\n",
    "Xt15 = Deep_train_15\n",
    "yt15 = Output_train_15\n",
    "# Test\n",
    "Xv15 = Deep_test_15\n",
    "yv15 = Output_test_15"
   ]
  },
  {
   "cell_type": "markdown",
   "metadata": {},
   "source": [
    "#### 30 mins"
   ]
  },
  {
   "cell_type": "code",
   "execution_count": 11,
   "metadata": {},
   "outputs": [],
   "source": [
    "# Train\n",
    "Xt30 = Deep_train_30\n",
    "yt30 = Output_train_30\n",
    "# Test\n",
    "Xv30 = Deep_test_30\n",
    "yv30 = Output_test_30"
   ]
  },
  {
   "cell_type": "markdown",
   "metadata": {},
   "source": [
    "#### 60 mins"
   ]
  },
  {
   "cell_type": "code",
   "execution_count": 12,
   "metadata": {},
   "outputs": [],
   "source": [
    "# Train\n",
    "Xt60 = Deep_train_60\n",
    "yt60 = Output_train_60\n",
    "# Test\n",
    "Xv60 = Deep_test_60\n",
    "yv60 = Output_test_60"
   ]
  },
  {
   "cell_type": "markdown",
   "metadata": {},
   "source": [
    "# LSTM Model"
   ]
  },
  {
   "cell_type": "code",
   "execution_count": 13,
   "metadata": {},
   "outputs": [],
   "source": [
    "from tensorflow.keras.models import Sequential\n",
    "from tensorflow.keras.layers import Dense,LSTM\n",
    "from tensorflow.keras.callbacks import EarlyStopping"
   ]
  },
  {
   "cell_type": "code",
   "execution_count": 14,
   "metadata": {},
   "outputs": [],
   "source": [
    "# We're using 7 features in our time series samples (7 spatial locations)\n",
    "n_features = 6\n",
    "length = 15\n",
    "val_percent = 0.07567        # 2 weeks\n",
    "batch_size = 32"
   ]
  },
  {
   "cell_type": "code",
   "execution_count": 15,
   "metadata": {},
   "outputs": [],
   "source": [
    "input_shape = (length, n_features)"
   ]
  },
  {
   "cell_type": "code",
   "execution_count": 16,
   "metadata": {},
   "outputs": [],
   "source": [
    "from tensorflow import keras\n",
    "\n",
    "# Early Stopping\n",
    "early_stop = EarlyStopping(monitor='val_loss', patience=5)"
   ]
  },
  {
   "cell_type": "code",
   "execution_count": 17,
   "metadata": {},
   "outputs": [],
   "source": [
    "stop = keras.callbacks.EarlyStopping(\n",
    "    monitor = 'val_loss', \n",
    "    patience = 5,\n",
    "    restore_best_weights = True)"
   ]
  },
  {
   "cell_type": "markdown",
   "metadata": {},
   "source": [
    "# 5 mins ahead"
   ]
  },
  {
   "cell_type": "code",
   "execution_count": 18,
   "metadata": {},
   "outputs": [],
   "source": [
    "model5 = keras.models.load_model(\"my_dir/6a-LSTM-5\")"
   ]
  },
  {
   "cell_type": "markdown",
   "metadata": {},
   "source": [
    "### Evaluation on inverse_transform"
   ]
  },
  {
   "cell_type": "code",
   "execution_count": 19,
   "metadata": {},
   "outputs": [],
   "source": [
    "test_predictions5 = model5.predict((Xv5))\n",
    "\n",
    "yv5 = scaler.inverse_transform(Test.drop('Timestamp', axis = 1))\n",
    "yv5 = yv5[15:,3]\n",
    "\n",
    "df = Test.drop(Test.head(15).index)\n",
    "df.reset_index(inplace = True)\n",
    "df = df.drop(columns=['index','Timestamp'])\n",
    "df['f4'] = pd.Series(test_predictions5.flatten())\n",
    "\n",
    "test_predictions5 = scaler.inverse_transform(df)\n",
    "\n",
    "test_predictions5 = test_predictions5[:,3]\n",
    "\n",
    "# MSE5 = mean_squared_error(yv5,test_predictions5)\n",
    "\n",
    "# MAE5 = mean_absolute_error(yv5,test_predictions5)\n",
    "\n",
    "# RMSE5 = np.sqrt(MSE5)\n",
    "\n",
    "# MAPE5 = mean_absolute_percentage_error(yv5,test_predictions5)*100\n",
    "\n",
    "# eval5 = [MSE5, MAE5, RMSE5, MAPE5]\n",
    "# print(eval5)"
   ]
  },
  {
   "cell_type": "code",
   "execution_count": 20,
   "metadata": {},
   "outputs": [
    {
     "name": "stdout",
     "output_type": "stream",
     "text": [
      "[62.08613393079413, 78.79014189693801, 88.97186955439382]\n"
     ]
    }
   ],
   "source": [
    "RA10 = ra.RA_10(np.asarray(yv5), np.asarray(test_predictions5))\n",
    "RA15 = ra.RA_15(np.asarray(yv5), np.asarray(test_predictions5))\n",
    "RA20 = ra.RA_20(np.asarray(yv5), np.asarray(test_predictions5))\n",
    "\n",
    "res5 = [RA10, RA15, RA20]\n",
    "print(res5)"
   ]
  },
  {
   "cell_type": "code",
   "execution_count": 21,
   "metadata": {},
   "outputs": [],
   "source": [
    "GEH, num, _, _ = ga.GEH(np.asarray(yv5), np.asarray(test_predictions5))"
   ]
  },
  {
   "cell_type": "code",
   "execution_count": 22,
   "metadata": {},
   "outputs": [],
   "source": [
    "x = np.arange(1,len(GEH)+1)"
   ]
  },
  {
   "cell_type": "code",
   "execution_count": 23,
   "metadata": {},
   "outputs": [
    {
     "data": {
      "image/png": "[encoded data removed]",
      "text/plain": [
       "<Figure size 1152x216 with 1 Axes>"
      ]
     },
     "metadata": {
      "needs_background": "light"
     },
     "output_type": "display_data"
    }
   ],
   "source": [
    "# Use similar to plt.figure() except use tuple unpacking to grab fig and axes\n",
    "fig, axes = plt.subplots(figsize=(16,3))\n",
    "\n",
    "# Now use the axes object to add stuff to plot\n",
    "axes.scatter(x, GEH, 4)\n",
    "axes.set_xlabel('Interval')\n",
    "axes.set_ylabel('GEH')\n",
    "axes.set_title('GEH < 5 is ideal')\n",
    "axes.grid()"
   ]
  },
  {
   "cell_type": "code",
   "execution_count": 24,
   "metadata": {},
   "outputs": [],
   "source": [
    "GEH5 = num/len(GEH)"
   ]
  },
  {
   "cell_type": "markdown",
   "metadata": {},
   "source": [
    "# 15 mins ahead"
   ]
  },
  {
   "cell_type": "code",
   "execution_count": 25,
   "metadata": {},
   "outputs": [],
   "source": [
    "model15 = keras.models.load_model(\"my_dir/6a-LSTM-15\")"
   ]
  },
  {
   "cell_type": "markdown",
   "metadata": {},
   "source": [
    "### Evaluation on inverse_transform"
   ]
  },
  {
   "cell_type": "code",
   "execution_count": 26,
   "metadata": {},
   "outputs": [],
   "source": [
    "test_predictions15 = model15.predict(Xv15)\n",
    "\n",
    "yv15 = scaler.inverse_transform(Test.drop('Timestamp', axis = 1))\n",
    "yv15 = yv15[17:,3]\n",
    "\n",
    "df = Test.drop(Test.head(17).index)\n",
    "df.reset_index(inplace = True)\n",
    "df = df.drop(columns=['index','Timestamp'])\n",
    "df['f4'] = pd.Series(test_predictions15.flatten())\n",
    "\n",
    "test_predictions15 = scaler.inverse_transform(df)\n",
    "\n",
    "test_predictions15 = test_predictions15[:,3]\n",
    "\n",
    "# MSE15 = mean_squared_error(yv15,test_predictions15)\n",
    "\n",
    "# MAE15 = mean_absolute_error(yv15,test_predictions15)\n",
    "\n",
    "# RMSE15 = np.sqrt(MSE15)\n",
    "\n",
    "# MAPE15 = mean_absolute_percentage_error(yv15,test_predictions15)*100\n",
    "\n",
    "# eval15 = [MSE15, MAE15, RMSE15, MAPE15]\n",
    "# print(eval15)"
   ]
  },
  {
   "cell_type": "code",
   "execution_count": 27,
   "metadata": {},
   "outputs": [
    {
     "name": "stdout",
     "output_type": "stream",
     "text": [
      "[57.310087173100875, 76.0398505603985, 86.99875466998755]\n"
     ]
    }
   ],
   "source": [
    "RA10 = ra.RA_10(np.asarray(yv15), np.asarray(test_predictions15))\n",
    "RA15 = ra.RA_15(np.asarray(yv15), np.asarray(test_predictions15))\n",
    "RA20 = ra.RA_20(np.asarray(yv15), np.asarray(test_predictions15))\n",
    "\n",
    "res15 = [RA10, RA15, RA20]\n",
    "print(res15)"
   ]
  },
  {
   "cell_type": "code",
   "execution_count": 28,
   "metadata": {},
   "outputs": [],
   "source": [
    "GEH, num, _, _ = ga.GEH(np.asarray(yv15), np.asarray(test_predictions15))"
   ]
  },
  {
   "cell_type": "code",
   "execution_count": 29,
   "metadata": {},
   "outputs": [],
   "source": [
    "x = np.arange(1,len(GEH)+1)"
   ]
  },
  {
   "cell_type": "code",
   "execution_count": 30,
   "metadata": {},
   "outputs": [
    {
     "data": {
      "image/png": "[encoded data removed]",
      "text/plain": [
       "<Figure size 1152x216 with 1 Axes>"
      ]
     },
     "metadata": {
      "needs_background": "light"
     },
     "output_type": "display_data"
    }
   ],
   "source": [
    "# Use similar to plt.figure() except use tuple unpacking to grab fig and axes\n",
    "fig, axes = plt.subplots(figsize=(16,3))\n",
    "\n",
    "# Now use the axes object to add stuff to plot\n",
    "axes.scatter(x, GEH, 4)\n",
    "axes.set_xlabel('Interval')\n",
    "axes.set_ylabel('GEH')\n",
    "axes.set_title('GEH < 5 is ideal')\n",
    "axes.grid()"
   ]
  },
  {
   "cell_type": "code",
   "execution_count": 31,
   "metadata": {},
   "outputs": [],
   "source": [
    "GEH15 = num/len(GEH)"
   ]
  },
  {
   "cell_type": "markdown",
   "metadata": {},
   "source": [
    "# 30 mins ahead"
   ]
  },
  {
   "cell_type": "code",
   "execution_count": 32,
   "metadata": {},
   "outputs": [],
   "source": [
    "model30 = keras.models.load_model(\"my_dir/6a-LSTM-30\")"
   ]
  },
  {
   "cell_type": "markdown",
   "metadata": {},
   "source": [
    "### Evaluation on inverse_transform"
   ]
  },
  {
   "cell_type": "code",
   "execution_count": 33,
   "metadata": {},
   "outputs": [],
   "source": [
    "test_predictions30 = model30.predict(Xv30)\n",
    "\n",
    "yv30 = scaler.inverse_transform(Test.drop('Timestamp', axis = 1))\n",
    "yv30 = yv30[20:,3]\n",
    "\n",
    "df = Test.drop(Test.head(20).index)\n",
    "df.reset_index(inplace = True)\n",
    "df = df.drop(columns=['index','Timestamp'])\n",
    "df['f4'] = pd.Series(test_predictions30.flatten())\n",
    "\n",
    "test_predictions30 = scaler.inverse_transform(df)\n",
    "\n",
    "test_predictions30 = test_predictions30[:,3]\n",
    "\n",
    "# MSE30 = mean_squared_error(yv30,test_predictions30)\n",
    "\n",
    "# MAE30 = mean_absolute_error(yv30,test_predictions30)\n",
    "\n",
    "# RMSE30 = np.sqrt(MSE30)\n",
    "\n",
    "# MAPE30 = mean_absolute_percentage_error(yv30,test_predictions30)*100\n",
    "\n",
    "# eval30 = [MSE30, MAE30, RMSE30, MAPE30]\n",
    "# print(eval30)"
   ]
  },
  {
   "cell_type": "code",
   "execution_count": 34,
   "metadata": {},
   "outputs": [
    {
     "name": "stdout",
     "output_type": "stream",
     "text": [
      "[55.45862412761715, 73.57926221335993, 84.42173479561316]\n"
     ]
    }
   ],
   "source": [
    "RA10 = ra.RA_10(np.asarray(yv30), np.asarray(test_predictions30))\n",
    "RA15 = ra.RA_15(np.asarray(yv30), np.asarray(test_predictions30))\n",
    "RA20 = ra.RA_20(np.asarray(yv30), np.asarray(test_predictions30))\n",
    "\n",
    "res30 = [RA10, RA15, RA20]\n",
    "print(res30)"
   ]
  },
  {
   "cell_type": "code",
   "execution_count": 35,
   "metadata": {},
   "outputs": [],
   "source": [
    "GEH, num, _, _ = ga.GEH(np.asarray(yv30), np.asarray(test_predictions30))"
   ]
  },
  {
   "cell_type": "code",
   "execution_count": 36,
   "metadata": {},
   "outputs": [],
   "source": [
    "x = np.arange(1,len(GEH)+1)"
   ]
  },
  {
   "cell_type": "code",
   "execution_count": 37,
   "metadata": {},
   "outputs": [
    {
     "data": {
      "image/png": "[encoded data removed]",
      "text/plain": [
       "<Figure size 1152x216 with 1 Axes>"
      ]
     },
     "metadata": {
      "needs_background": "light"
     },
     "output_type": "display_data"
    }
   ],
   "source": [
    "# Use similar to plt.figure() except use tuple unpacking to grab fig and axes\n",
    "fig, axes = plt.subplots(figsize=(16,3))\n",
    "\n",
    "# Now use the axes object to add stuff to plot\n",
    "axes.scatter(x, GEH, 4)\n",
    "axes.set_xlabel('Interval')\n",
    "axes.set_ylabel('GEH')\n",
    "axes.set_title('GEH < 5 is ideal')\n",
    "axes.grid()"
   ]
  },
  {
   "cell_type": "code",
   "execution_count": 38,
   "metadata": {},
   "outputs": [],
   "source": [
    "GEH30 = num/len(GEH)"
   ]
  },
  {
   "cell_type": "markdown",
   "metadata": {},
   "source": [
    "# 60 mins ahead"
   ]
  },
  {
   "cell_type": "code",
   "execution_count": 39,
   "metadata": {},
   "outputs": [],
   "source": [
    "model60 = keras.models.load_model(\"my_dir/6a-LSTM-60\")"
   ]
  },
  {
   "cell_type": "markdown",
   "metadata": {},
   "source": [
    "### Evaluation on inverse_transform"
   ]
  },
  {
   "cell_type": "code",
   "execution_count": 40,
   "metadata": {},
   "outputs": [],
   "source": [
    "test_predictions60 = model60.predict((Xv60))\n",
    "\n",
    "yv60 = scaler.inverse_transform(Test.drop('Timestamp', axis = 1))\n",
    "yv60 = yv60[26:,3]\n",
    "\n",
    "df = Test.drop(Test.head(26).index)\n",
    "df.reset_index(inplace = True)\n",
    "df = df.drop(columns=['index','Timestamp'])\n",
    "df['f4'] = pd.Series(test_predictions60.flatten())\n",
    "\n",
    "test_predictions60 = scaler.inverse_transform(df)\n",
    "\n",
    "test_predictions60 = test_predictions60[:,3]\n",
    "\n",
    "# MSE60 = mean_squared_error(yv60,test_predictions60)\n",
    "\n",
    "# MAE60 = mean_absolute_error(yv60,test_predictions60)\n",
    "\n",
    "# RMSE60 = np.sqrt(MSE60)\n",
    "\n",
    "# MAPE60 = mean_absolute_percentage_error(yv60,test_predictions60)*100\n",
    "\n",
    "# eval60 = [MSE60, MAE60, RMSE60, MAPE60]\n",
    "# print(eval60)"
   ]
  },
  {
   "cell_type": "code",
   "execution_count": 41,
   "metadata": {},
   "outputs": [
    {
     "name": "stdout",
     "output_type": "stream",
     "text": [
      "[51.422865701447826, 68.8467299051423, 81.1532700948577]\n"
     ]
    }
   ],
   "source": [
    "RA10 = ra.RA_10(np.asarray(yv60), np.asarray(test_predictions60))\n",
    "RA15 = ra.RA_15(np.asarray(yv60), np.asarray(test_predictions60))\n",
    "RA20 = ra.RA_20(np.asarray(yv60), np.asarray(test_predictions60))\n",
    "\n",
    "res60 = [RA10, RA15, RA20]\n",
    "print(res60)"
   ]
  },
  {
   "cell_type": "code",
   "execution_count": 42,
   "metadata": {},
   "outputs": [],
   "source": [
    "GEH, num, _, _ = ga.GEH(np.asarray(yv60), np.asarray(test_predictions60))"
   ]
  },
  {
   "cell_type": "code",
   "execution_count": 43,
   "metadata": {},
   "outputs": [],
   "source": [
    "x = np.arange(1,len(GEH)+1)"
   ]
  },
  {
   "cell_type": "code",
   "execution_count": 44,
   "metadata": {},
   "outputs": [
    {
     "data": {
      "image/png": "[encoded data removed]",
      "text/plain": [
       "<Figure size 1152x216 with 1 Axes>"
      ]
     },
     "metadata": {
      "needs_background": "light"
     },
     "output_type": "display_data"
    }
   ],
   "source": [
    "# Use similar to plt.figure() except use tuple unpacking to grab fig and axes\n",
    "fig, axes = plt.subplots(figsize=(16,3))\n",
    "\n",
    "# Now use the axes object to add stuff to plot\n",
    "axes.scatter(x, GEH, 4)\n",
    "axes.set_xlabel('Interval')\n",
    "axes.set_ylabel('GEH')\n",
    "axes.set_title('GEH < 5 is ideal')\n",
    "axes.grid()"
   ]
  },
  {
   "cell_type": "code",
   "execution_count": 45,
   "metadata": {},
   "outputs": [],
   "source": [
    "GEH60 = num/len(GEH)"
   ]
  }
 ],
 "metadata": {
  "kernelspec": {
   "display_name": "Python 3 (ipykernel)",
   "language": "python",
   "name": "python3"
  },
  "language_info": {
   "codemirror_mode": {
    "name": "ipython",
    "version": 3
   },
   "file_extension": ".py",
   "mimetype": "text/x-python",
   "name": "python",
   "nbconvert_exporter": "python",
   "pygments_lexer": "ipython3",
   "version": "3.11.5"
  }
 },
 "nbformat": 4,
 "nbformat_minor": 4
}
