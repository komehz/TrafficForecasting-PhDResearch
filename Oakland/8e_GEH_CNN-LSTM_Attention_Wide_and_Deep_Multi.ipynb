{
 "cells": [
  {
   "cell_type": "code",
   "execution_count": 1,
   "metadata": {},
   "outputs": [],
   "source": [
    "import pandas as pd\n",
    "import numpy as np\n",
    "import matplotlib.pyplot as plt\n",
    "import seaborn as sns\n",
    "import joblib\n",
    "import os"
   ]
  },
  {
   "cell_type": "code",
   "execution_count": 2,
   "metadata": {},
   "outputs": [],
   "source": [
    "import keras_tuner as kt\n",
    "from keras_tuner import RandomSearch\n",
    "from GEH_LOSS import GEH_loss\n",
    "import geh as ga"
   ]
  },
  {
   "cell_type": "code",
   "execution_count": 3,
   "metadata": {},
   "outputs": [],
   "source": [
    "from sklearn.metrics import mean_absolute_error,mean_squared_error,mean_absolute_percentage_error"
   ]
  },
  {
   "cell_type": "code",
   "execution_count": 4,
   "metadata": {},
   "outputs": [],
   "source": [
    "import relative_accuracy as ra"
   ]
  },
  {
   "cell_type": "code",
   "execution_count": 5,
   "metadata": {},
   "outputs": [],
   "source": [
    "# Load all Inputs and Output Data\n",
    "\n",
    "# 5 mins (1 step ahead)\n",
    "Deep_train_5   = np.load(\"Deep_train_5_multi.npz\")['x'] \n",
    "Output_train_5 = np.load(\"Deep_train_5_multi.npz\")['y']\n",
    "\n",
    "Deep_test_5   = np.load(\"Deep_test_5_multi.npz\")['x'] \n",
    "Output_test_5 = np.load(\"Deep_test_5_multi.npz\")['y'] \n",
    "\n",
    "# 15 mins (3 steps ahead)\n",
    "Deep_train_15   = np.load(\"Deep_train_15_multi.npz\")['x'] \n",
    "Output_train_15 = np.load(\"Deep_train_15_multi.npz\")['y']\n",
    "\n",
    "Deep_test_15   = np.load(\"Deep_test_15_multi.npz\")['x'] \n",
    "Output_test_15 = np.load(\"Deep_test_15_multi.npz\")['y']\n",
    "\n",
    "# 30 mins (6 steps ahead)\n",
    "Deep_train_30   = np.load(\"Deep_train_30_multi.npz\")['x'] \n",
    "Output_train_30 = np.load(\"Deep_train_30_multi.npz\")['y']\n",
    "\n",
    "Deep_test_30   = np.load(\"Deep_test_30_multi.npz\")['x'] \n",
    "Output_test_30 = np.load(\"Deep_test_30_multi.npz\")['y']\n",
    "\n",
    "# 60 mins (12 steps ahead)\n",
    "Deep_train_60   = np.load(\"Deep_train_60_multi.npz\")['x'] \n",
    "Output_train_60 = np.load(\"Deep_train_60_multi.npz\")['y']\n",
    "\n",
    "Deep_test_60   = np.load(\"Deep_test_60_multi.npz\")['x'] \n",
    "Output_test_60 = np.load(\"Deep_test_60_multi.npz\")['y']"
   ]
  },
  {
   "cell_type": "code",
   "execution_count": 6,
   "metadata": {},
   "outputs": [],
   "source": [
    "# Wide Data\n",
    "Xtrain = joblib.load(\"002weeks_train_Multi.save\") \n",
    "Xtest = joblib.load(\"002weeks_test_Multi.save\") "
   ]
  },
  {
   "cell_type": "code",
   "execution_count": 7,
   "metadata": {},
   "outputs": [],
   "source": [
    "# 5 mins\n",
    "# Delete first 15 samples\n",
    "Wide_train_5 = np.delete(Xtrain, np.s_[0:15], 0)\n",
    "Wide_test_5 = np.delete(Xtest, np.s_[0:15], 0)"
   ]
  },
  {
   "cell_type": "code",
   "execution_count": 8,
   "metadata": {},
   "outputs": [],
   "source": [
    "# 15 mins\n",
    "# Delete first 17 samples\n",
    "Wide_train_15 = np.delete(Xtrain, np.s_[0:17], 0)\n",
    "Wide_test_15 = np.delete(Xtest, np.s_[0:17], 0)"
   ]
  },
  {
   "cell_type": "code",
   "execution_count": 9,
   "metadata": {},
   "outputs": [],
   "source": [
    "# 30 mins\n",
    "# Delete first 20 samples\n",
    "Wide_train_30 = np.delete(Xtrain, np.s_[0:20], 0)\n",
    "Wide_test_30 = np.delete(Xtest, np.s_[0:20], 0)"
   ]
  },
  {
   "cell_type": "code",
   "execution_count": 10,
   "metadata": {},
   "outputs": [],
   "source": [
    "# 60 mins\n",
    "# Delete first 27 samples\n",
    "Wide_train_60 = np.delete(Xtrain, np.s_[0:26], 0)\n",
    "Wide_test_60 = np.delete(Xtest, np.s_[0:26], 0)"
   ]
  },
  {
   "cell_type": "code",
   "execution_count": 11,
   "metadata": {},
   "outputs": [],
   "source": [
    "scaler_filename = \"scaler.save\"\n",
    "scaler = joblib.load(scaler_filename) "
   ]
  },
  {
   "cell_type": "code",
   "execution_count": 12,
   "metadata": {},
   "outputs": [],
   "source": [
    "Test      = pd.read_csv('01test_scaled.csv', index_col=None, parse_dates=[0])"
   ]
  },
  {
   "cell_type": "markdown",
   "metadata": {},
   "source": [
    "# Reshape Samples"
   ]
  },
  {
   "cell_type": "markdown",
   "metadata": {},
   "source": [
    "The first step is to split the input sequences into subsequences that can be processed by the CNN model. Here, each spatio-temporal sample can be split into three sub-samples, each with five time steps. The CNN can interpret each subsequence of five time steps and provide a time series of interpretations of the subsequences to the LSTM model to process as input."
   ]
  },
  {
   "cell_type": "code",
   "execution_count": 13,
   "metadata": {},
   "outputs": [],
   "source": [
    "# reshape from [samples, timesteps] into [samples, subsequences, timesteps, features]\n",
    "n_features = 6                # No of loop detectors\n",
    "n_seq = 3                     # Subsequences\n",
    "n_steps = 5                   # time-step per subsequence\n",
    "# val_percent = 0.07567       # 2 weeks\n",
    "val_percent = 0.2        \n",
    "batch_size = 32\n",
    "\n",
    "n_seq_ = 3                     # Subsequences\n",
    "n_steps_ = 3                   # time-step per subsequence"
   ]
  },
  {
   "cell_type": "markdown",
   "metadata": {},
   "source": [
    "#### 5 mins"
   ]
  },
  {
   "cell_type": "code",
   "execution_count": 14,
   "metadata": {},
   "outputs": [],
   "source": [
    "# Train\n",
    "# reshape from [samples, timesteps] into [samples, subsequences, timesteps, features]\n",
    "Xt5 = Deep_train_5.reshape((Deep_train_5.shape[0], n_seq, n_steps, n_features))\n",
    "yt5 = scaler.inverse_transform(Output_train_5)"
   ]
  },
  {
   "cell_type": "code",
   "execution_count": 15,
   "metadata": {},
   "outputs": [],
   "source": [
    "# Test\n",
    "# reshape from [samples, timesteps] into [samples, subsequences, timesteps, features]\n",
    "Xv5 = Deep_test_5.reshape((Deep_test_5.shape[0], n_seq, n_steps, n_features))\n",
    "yv5 = scaler.inverse_transform(Output_test_5)"
   ]
  },
  {
   "cell_type": "markdown",
   "metadata": {},
   "source": [
    "#### 15 mins"
   ]
  },
  {
   "cell_type": "code",
   "execution_count": 16,
   "metadata": {},
   "outputs": [],
   "source": [
    "# Train\n",
    "# reshape from [samples, timesteps] into [samples, subsequences, timesteps, features]\n",
    "Xt15 = Deep_train_15.reshape((Deep_train_15.shape[0], n_seq, n_steps, n_features))\n",
    "yt15 = scaler.inverse_transform(Output_train_15)"
   ]
  },
  {
   "cell_type": "code",
   "execution_count": 17,
   "metadata": {},
   "outputs": [],
   "source": [
    "# Test\n",
    "# reshape from [samples, timesteps] into [samples, subsequences, timesteps, features]\n",
    "Xv15 = Deep_test_15.reshape((Deep_test_15.shape[0], n_seq, n_steps, n_features))\n",
    "yv15 = scaler.inverse_transform(Output_test_15)"
   ]
  },
  {
   "cell_type": "markdown",
   "metadata": {},
   "source": [
    "#### 30 mins"
   ]
  },
  {
   "cell_type": "code",
   "execution_count": 18,
   "metadata": {},
   "outputs": [],
   "source": [
    "# Train\n",
    "# reshape from [samples, timesteps] into [samples, subsequences, timesteps, features]\n",
    "Xt30 = Deep_train_30.reshape((Deep_train_30.shape[0], n_seq, n_steps, n_features))\n",
    "yt30 = scaler.inverse_transform(Output_train_30)"
   ]
  },
  {
   "cell_type": "code",
   "execution_count": 19,
   "metadata": {},
   "outputs": [],
   "source": [
    "# Test\n",
    "# reshape from [samples, timesteps] into [samples, subsequences, timesteps, features]\n",
    "Xv30 = Deep_test_30.reshape((Deep_test_30.shape[0], n_seq, n_steps, n_features))\n",
    "yv30 = scaler.inverse_transform(Output_test_30)"
   ]
  },
  {
   "cell_type": "markdown",
   "metadata": {},
   "source": [
    "#### 60 mins"
   ]
  },
  {
   "cell_type": "code",
   "execution_count": 20,
   "metadata": {},
   "outputs": [],
   "source": [
    "# Train\n",
    "# reshape from [samples, timesteps] into [samples, subsequences, timesteps, features]\n",
    "Xt60 = Deep_train_60.reshape((Deep_train_60.shape[0], n_seq, n_steps, n_features))\n",
    "yt60 = scaler.inverse_transform(Output_train_60)"
   ]
  },
  {
   "cell_type": "code",
   "execution_count": 21,
   "metadata": {},
   "outputs": [],
   "source": [
    "# Test\n",
    "# reshape from [samples, timesteps] into [samples, subsequences, timesteps, features]\n",
    "Xv60 = Deep_test_60.reshape((Deep_test_60.shape[0], n_seq, n_steps, n_features))\n",
    "yv60 = scaler.inverse_transform(Output_test_60)"
   ]
  },
  {
   "cell_type": "markdown",
   "metadata": {},
   "source": [
    "### Reshaping the Data for Conv2D layer\n",
    "\n",
    "For Conv2D, there is a need to add one more dimension to show we're dealing with 1 channel (since technically the images are in black and white, only showing values from 0-max flow on a single channel).\n",
    "\n",
    "Conv1D - strides in 1 dimension\n",
    "Conv2D - strides in 2 dimensions"
   ]
  },
  {
   "cell_type": "code",
   "execution_count": 22,
   "metadata": {},
   "outputs": [],
   "source": [
    "# define no_of_channels\n",
    "n_channels = 1"
   ]
  },
  {
   "cell_type": "code",
   "execution_count": 23,
   "metadata": {},
   "outputs": [],
   "source": [
    "# Train data\n",
    "Xt5  =  Xt5.reshape(Xt5.shape[0], n_seq, n_steps, n_features, n_channels)\n",
    "Xt15 =  Xt15.reshape(Xt15.shape[0], n_seq, n_steps, n_features, n_channels)\n",
    "Xt30 =  Xt30.reshape(Xt30.shape[0], n_seq, n_steps, n_features, n_channels)\n",
    "Xt60 =  Xt60.reshape(Xt60.shape[0], n_seq, n_steps, n_features, n_channels)\n",
    "\n",
    "# Validation data\n",
    "Xv5  =  Xv5.reshape(Xv5.shape[0], n_seq, n_steps, n_features, n_channels)\n",
    "Xv15 =  Xv15.reshape(Xv15.shape[0], n_seq, n_steps, n_features, n_channels)\n",
    "Xv30 =  Xv30.reshape(Xv30.shape[0], n_seq, n_steps, n_features, n_channels)\n",
    "Xv60 =  Xv60.reshape(Xv60.shape[0], n_seq, n_steps, n_features, n_channels)"
   ]
  },
  {
   "cell_type": "code",
   "execution_count": 24,
   "metadata": {},
   "outputs": [],
   "source": [
    "Wt5  = Wide_train_5\n",
    "Wt15 = Wide_train_15\n",
    "Wt30 = Wide_train_30\n",
    "Wt60 = Wide_train_60\n",
    "\n",
    "Wv5  = Wide_test_5\n",
    "Wv15 = Wide_test_15\n",
    "Wv30 = Wide_test_30\n",
    "Wv60 = Wide_test_60"
   ]
  },
  {
   "cell_type": "code",
   "execution_count": 25,
   "metadata": {},
   "outputs": [],
   "source": [
    "# Train data\n",
    "Wt5  =  Wt5.reshape(Wt5.shape[0], n_seq_, n_steps_, n_features)\n",
    "Wt15 =  Wt15.reshape(Wt15.shape[0], n_seq_, n_steps_, n_features)\n",
    "Wt30 =  Wt30.reshape(Wt30.shape[0], n_seq_, n_steps_, n_features)\n",
    "Wt60 =  Wt60.reshape(Wt60.shape[0], n_seq_, n_steps_, n_features)\n",
    "\n",
    "# Validation data\n",
    "Wv5  =  Wv5.reshape(Wv5.shape[0], n_seq_, n_steps_, n_features)\n",
    "Wv15 =  Wv15.reshape(Wv15.shape[0], n_seq_, n_steps_, n_features)\n",
    "Wv30 =  Wv30.reshape(Wv30.shape[0], n_seq_, n_steps_, n_features)\n",
    "Wv60 =  Wv60.reshape(Wv60.shape[0], n_seq_, n_steps_, n_features)"
   ]
  },
  {
   "cell_type": "code",
   "execution_count": 26,
   "metadata": {},
   "outputs": [
    {
     "data": {
      "text/plain": [
       "(49233, 3, 5, 6, 1)"
      ]
     },
     "execution_count": 26,
     "metadata": {},
     "output_type": "execute_result"
    }
   ],
   "source": [
    "Xt5.shape"
   ]
  },
  {
   "cell_type": "code",
   "execution_count": 27,
   "metadata": {},
   "outputs": [
    {
     "data": {
      "text/plain": [
       "(49233, 3, 3, 6)"
      ]
     },
     "execution_count": 27,
     "metadata": {},
     "output_type": "execute_result"
    }
   ],
   "source": [
    "Wt5.shape"
   ]
  },
  {
   "cell_type": "markdown",
   "metadata": {},
   "source": [
    "# CNN-LSTM model"
   ]
  },
  {
   "cell_type": "code",
   "execution_count": 28,
   "metadata": {},
   "outputs": [],
   "source": [
    "from tensorflow import keras\n",
    "from keras_self_attention import SeqSelfAttention\n",
    "\n",
    "# Early Stopping\n",
    "early_stop = keras.callbacks.EarlyStopping(monitor='val_loss',patience=5, restore_best_weights = True)"
   ]
  },
  {
   "cell_type": "code",
   "execution_count": 29,
   "metadata": {},
   "outputs": [
    {
     "data": {
      "text/plain": [
       "(49233, 9, 6)"
      ]
     },
     "execution_count": 29,
     "metadata": {},
     "output_type": "execute_result"
    }
   ],
   "source": [
    "Wide_train_5.shape"
   ]
  },
  {
   "cell_type": "markdown",
   "metadata": {},
   "source": [
    "# 5 mins ahead"
   ]
  },
  {
   "cell_type": "code",
   "execution_count": 30,
   "metadata": {},
   "outputs": [],
   "source": [
    "def build_model_5(hp):\n",
    "    # Inputs\n",
    "    channel_Wide = keras.layers.Input(shape=Wt5.shape[1:], name=\"WideInput\")\n",
    "    channel_Deep = keras.layers.Input(shape=Xt5.shape[1:], name=\"DeepInput\")\n",
    "    units = hp.Int(\"units\", min_value=1, max_value=100, step=1)\n",
    "    \n",
    "    \n",
    "    # Wide Model\n",
    "    flatten_5w = keras.layers.TimeDistributed(keras.layers.Flatten())(channel_Wide)\n",
    "    Bi_5 = keras.layers.Bidirectional(\n",
    "        keras.layers.LSTM(units=units, return_sequences=True),\n",
    "        merge_mode=\"ave\"\n",
    "    )(flatten_5w)\n",
    "    \n",
    "    \n",
    "    # Deep Model\n",
    "    # CNN \n",
    "    CNN_5 = keras.layers.TimeDistributed(\n",
    "        keras.layers.Conv2D(filters=hp.Int(\"filters\", min_value=32, max_value=512, step=32),\n",
    "                            kernel_size=hp.Choice(\"kernel_size\", [2, 3]), activation='relu'))(channel_Deep)\n",
    "    flatten_5 = keras.layers.TimeDistributed(keras.layers.Flatten())(CNN_5)\n",
    "    # LSTM          \n",
    "    LSTM_5 = keras.layers.LSTM(units=units, activation='relu', return_sequences=True)(flatten_5)\n",
    "\n",
    "    \n",
    "    # Concatenation \n",
    "    concat = keras.layers.concatenate([Bi_5, LSTM_5], axis=1)\n",
    "\n",
    "    # Attention\n",
    "    Att_5 = SeqSelfAttention(attention_activation='sigmoid')(concat)\n",
    "    merge = keras.layers.Flatten()(Att_5)\n",
    "\n",
    "    \n",
    "    # Output\n",
    "    output = keras.layers.Dense(n_features, name= \"output\")(merge)\n",
    "    \n",
    "    # Model\n",
    "    model_5 = keras.Model(inputs=[channel_Wide,channel_Deep], outputs=[output])\n",
    "\n",
    "    # Compile\n",
    "    model_5.compile(optimizer=keras.optimizers.Adam(hp.Choice(\"learning_rate\", [1e-2, 1e-3, 1e-4])), \n",
    "        loss=GEH_loss, metrics=['MeanAbsoluteError','RootMeanSquaredError','MeanAbsolutePercentageError'])\n",
    "                                   \n",
    "    return model_5"
   ]
  },
  {
   "cell_type": "code",
   "execution_count": 31,
   "metadata": {},
   "outputs": [
    {
     "name": "stdout",
     "output_type": "stream",
     "text": [
      "INFO:tensorflow:Reloading Oracle from existing project C:\\RunsOak\\8e-5\\oracle.json\n",
      "INFO:tensorflow:Reloading Tuner from C:\\RunsOak\\8e-5\\tuner0.json\n"
     ]
    }
   ],
   "source": [
    "tuner5 = RandomSearch(\n",
    "    build_model_5,\n",
    "    objective=\"val_loss\",\n",
    "    max_trials=60,\n",
    "    executions_per_trial=2,\n",
    "    overwrite=False,\n",
    "    directory=os.path.normpath('C:/RunsOak'),\n",
    "    project_name=\"8e-5\",\n",
    ")"
   ]
  },
  {
   "cell_type": "code",
   "execution_count": 32,
   "metadata": {},
   "outputs": [
    {
     "name": "stdout",
     "output_type": "stream",
     "text": [
      "Search space summary\n",
      "Default search space size: 4\n",
      "units (Int)\n",
      "{'default': None, 'conditions': [], 'min_value': 1, 'max_value': 100, 'step': 1, 'sampling': None}\n",
      "filters (Int)\n",
      "{'default': None, 'conditions': [], 'min_value': 32, 'max_value': 512, 'step': 32, 'sampling': None}\n",
      "kernel_size (Choice)\n",
      "{'default': 2, 'conditions': [], 'values': [2, 3], 'ordered': True}\n",
      "learning_rate (Choice)\n",
      "{'default': 0.01, 'conditions': [], 'values': [0.01, 0.001, 0.0001], 'ordered': True}\n"
     ]
    }
   ],
   "source": [
    "tuner5.search_space_summary()"
   ]
  },
  {
   "cell_type": "code",
   "execution_count": 33,
   "metadata": {},
   "outputs": [
    {
     "name": "stdout",
     "output_type": "stream",
     "text": [
      "Trial 60 Complete [00h 10m 07s]\n",
      "val_loss: 8.43088960647583\n",
      "\n",
      "Best val_loss So Far: 8.33938455581665\n",
      "Total elapsed time: 20h 43m 05s\n",
      "INFO:tensorflow:Oracle triggered exit\n"
     ]
    }
   ],
   "source": [
    "tuner5.search((Wt5,Xt5), yt5, epochs=200,\n",
    "           validation_split = val_percent,\n",
    "           callbacks = [early_stop],\n",
    "           verbose=2)"
   ]
  },
  {
   "cell_type": "code",
   "execution_count": 34,
   "metadata": {},
   "outputs": [
    {
     "name": "stdout",
     "output_type": "stream",
     "text": [
      "Results summary\n",
      "Results in C:\\RunsOak\\8e-5\n",
      "Showing 1 best trials\n",
      "Objective(name='val_loss', direction='min')\n",
      "Trial summary\n",
      "Hyperparameters:\n",
      "units: 48\n",
      "filters: 96\n",
      "kernel_size: 3\n",
      "learning_rate: 0.001\n",
      "Score: 8.33938455581665\n"
     ]
    }
   ],
   "source": [
    "tuner5.results_summary(1)"
   ]
  },
  {
   "cell_type": "markdown",
   "metadata": {},
   "source": [
    "### Best Model"
   ]
  },
  {
   "cell_type": "code",
   "execution_count": 35,
   "metadata": {},
   "outputs": [],
   "source": [
    "best_hp5 = tuner5.get_best_hyperparameters()[0]\n",
    "model5 = tuner5.hypermodel.build(best_hp5)"
   ]
  },
  {
   "cell_type": "code",
   "execution_count": 36,
   "metadata": {},
   "outputs": [
    {
     "data": {
      "text/plain": [
       "['Best_HP/8e-5']"
      ]
     },
     "execution_count": 36,
     "metadata": {},
     "output_type": "execute_result"
    }
   ],
   "source": [
    "scaler_filename = \"Best_HP/8e-5\"\n",
    "joblib.dump(best_hp5, scaler_filename) "
   ]
  },
  {
   "cell_type": "code",
   "execution_count": 37,
   "metadata": {},
   "outputs": [
    {
     "name": "stdout",
     "output_type": "stream",
     "text": [
      "Model: \"model_1\"\n",
      "__________________________________________________________________________________________________\n",
      " Layer (type)                   Output Shape         Param #     Connected to                     \n",
      "==================================================================================================\n",
      " DeepInput (InputLayer)         [(None, 3, 5, 6, 1)  0           []                               \n",
      "                                ]                                                                 \n",
      "                                                                                                  \n",
      " WideInput (InputLayer)         [(None, 3, 3, 6)]    0           []                               \n",
      "                                                                                                  \n",
      " time_distributed_4 (TimeDistri  (None, 3, 3, 4, 96)  960        ['DeepInput[0][0]']              \n",
      " buted)                                                                                           \n",
      "                                                                                                  \n",
      " time_distributed_3 (TimeDistri  (None, 3, 18)       0           ['WideInput[0][0]']              \n",
      " buted)                                                                                           \n",
      "                                                                                                  \n",
      " time_distributed_5 (TimeDistri  (None, 3, 1152)     0           ['time_distributed_4[0][0]']     \n",
      " buted)                                                                                           \n",
      "                                                                                                  \n",
      " bidirectional_1 (Bidirectional  (None, 3, 48)       25728       ['time_distributed_3[0][0]']     \n",
      " )                                                                                                \n",
      "                                                                                                  \n",
      " lstm_3 (LSTM)                  (None, 3, 48)        230592      ['time_distributed_5[0][0]']     \n",
      "                                                                                                  \n",
      " concatenate_1 (Concatenate)    (None, 6, 48)        0           ['bidirectional_1[0][0]',        \n",
      "                                                                  'lstm_3[0][0]']                 \n",
      "                                                                                                  \n",
      " seq_self_attention_1 (SeqSelfA  (None, 6, 48)       3137        ['concatenate_1[0][0]']          \n",
      " ttention)                                                                                        \n",
      "                                                                                                  \n",
      " flatten_5 (Flatten)            (None, 288)          0           ['seq_self_attention_1[0][0]']   \n",
      "                                                                                                  \n",
      " output (Dense)                 (None, 6)            1734        ['flatten_5[0][0]']              \n",
      "                                                                                                  \n",
      "==================================================================================================\n",
      "Total params: 262,151\n",
      "Trainable params: 262,151\n",
      "Non-trainable params: 0\n",
      "__________________________________________________________________________________________________\n"
     ]
    }
   ],
   "source": [
    "model5.summary()"
   ]
  },
  {
   "cell_type": "code",
   "execution_count": 38,
   "metadata": {},
   "outputs": [
    {
     "name": "stdout",
     "output_type": "stream",
     "text": [
      "Epoch 1/100\n",
      "1539/1539 [==============================] - 24s 11ms/step - loss: 11.1671 - mean_absolute_error: 21.8015 - root_mean_squared_error: 37.7937 - mean_absolute_percentage_error: 30.59263s - loss:\n",
      "Epoch 2/100\n",
      "1539/1539 [==============================] - 18s 12ms/step - loss: 9.1717 - mean_absolute_error: 15.7536 - root_mean_squared_error: 22.6025 - mean_absolute_percentage_error: 21.6225 1s - loss: 9.1905 - mean_absolute_error: 15.8115 - root_mean_squared_error: 22.6850 - mean_absolute\n",
      "Epoch 3/100\n",
      "1539/1539 [==============================] - 18s 12ms/step - loss: 8.7726 - mean_absolute_error: 14.7476 - root_mean_squared_error: 21.0870 - mean_absolute_percentage_error: 19.7174\n",
      "Epoch 4/100\n",
      "1539/1539 [==============================] - 17s 11ms/step - loss: 8.6501 - mean_absolute_error: 14.3388 - root_mean_squared_error: 20.4944 - mean_absolute_percentage_error: 18.9200\n",
      "Epoch 5/100\n",
      "1539/1539 [==============================] - 18s 12ms/step - loss: 8.5919 - mean_absolute_error: 14.0978 - root_mean_squared_error: 20.1804 - mean_absolute_percentage_error: 18.4854 7s - loss: 8\n",
      "Epoch 6/100\n",
      "1539/1539 [==============================] - 18s 11ms/step - loss: 8.5613 - mean_absolute_error: 13.9575 - root_mean_squared_error: 19.9751 - mean_absolute_percentage_error: 18.2141 0s - loss: 8.5593 - mean_absolute_error: 13.9655 - root_mean_squared_error: 19.9810 - mean_absolute_percentage_e\n",
      "Epoch 7/100\n",
      "1539/1539 [==============================] - 18s 12ms/step - loss: 8.5291 - mean_absolute_error: 13.8464 - root_mean_squared_error: 19.8487 - mean_absolute_percentage_error: 17.9796\n",
      "Epoch 8/100\n",
      "1539/1539 [==============================] - 18s 12ms/step - loss: 8.5125 - mean_absolute_error: 13.7785 - root_mean_squared_error: 19.7692 - mean_absolute_percentage_error: 17.8165\n",
      "Epoch 9/100\n",
      "1539/1539 [==============================] - 17s 11ms/step - loss: 8.5130 - mean_absolute_error: 13.7247 - root_mean_squared_error: 19.7224 - mean_absolute_percentage_error: 17.6794\n",
      "Epoch 10/100\n",
      "1539/1539 [==============================] - 18s 12ms/step - loss: 8.5015 - mean_absolute_error: 13.6801 - root_mean_squared_error: 19.6701 - mean_absolute_percentage_error: 17.5536\n",
      "Epoch 11/100\n",
      "1539/1539 [==============================] - 18s 12ms/step - loss: 8.4876 - mean_absolute_error: 13.6208 - root_mean_squared_error: 19.6054 - mean_absolute_percentage_error: 17.3832\n",
      "Epoch 12/100\n",
      "1539/1539 [==============================] - 17s 11ms/step - loss: 8.4658 - mean_absolute_error: 13.6064 - root_mean_squared_error: 19.5836 - mean_absolute_percentage_error: 17.3770\n",
      "Epoch 13/100\n",
      "1539/1539 [==============================] - 18s 12ms/step - loss: 8.4720 - mean_absolute_error: 13.5604 - root_mean_squared_error: 19.5336 - mean_absolute_percentage_error: 17.2939 4s - loss: 8.4759 - mean_absolute_error: 13.5808 - root\n",
      "Epoch 14/100\n",
      "1539/1539 [==============================] - 18s 12ms/step - loss: 8.4600 - mean_absolute_error: 13.5133 - root_mean_squared_error: 19.4718 - mean_absolute_percentage_error: 17.2361\n",
      "Epoch 15/100\n",
      "1539/1539 [==============================] - 17s 11ms/step - loss: 8.4455 - mean_absolute_error: 13.4560 - root_mean_squared_error: 19.3868 - mean_absolute_percentage_error: 17.1410\n",
      "Epoch 16/100\n",
      "1539/1539 [==============================] - 18s 12ms/step - loss: 8.4344 - mean_absolute_error: 13.4415 - root_mean_squared_error: 19.3799 - mean_absolute_percentage_error: 17.1678 9s - loss: 8.4390 - mean_absolute_error: 13.4579 - root_mean_squared_error: 19. - ETA: 6s - loss: 8.4423 - me\n",
      "Epoch 17/100\n",
      "1539/1539 [==============================] - 17s 11ms/step - loss: 8.4300 - mean_absolute_error: 13.4378 - root_mean_squared_error: 19.3688 - mean_absolute_percentage_error: 17.0869\n",
      "Epoch 18/100\n",
      "1539/1539 [==============================] - 15s 10ms/step - loss: 8.4254 - mean_absolute_error: 13.4055 - root_mean_squared_error: 19.3277 - mean_absolute_percentage_error: 17.0604\n",
      "Epoch 19/100\n",
      "1539/1539 [==============================] - 17s 11ms/step - loss: 8.4215 - mean_absolute_error: 13.4016 - root_mean_squared_error: 19.3075 - mean_absolute_percentage_error: 17.1041\n",
      "Epoch 20/100\n",
      "1539/1539 [==============================] - 16s 10ms/step - loss: 8.4013 - mean_absolute_error: 13.3932 - root_mean_squared_error: 19.2966 - mean_absolute_percentage_error: 17.0339\n",
      "Epoch 21/100\n",
      "1539/1539 [==============================] - 17s 11ms/step - loss: 8.4152 - mean_absolute_error: 13.3651 - root_mean_squared_error: 19.2824 - mean_absolute_percentage_error: 16.9661\n",
      "Epoch 22/100\n",
      "1539/1539 [==============================] - 16s 11ms/step - loss: 8.3993 - mean_absolute_error: 13.3068 - root_mean_squared_error: 19.2079 - mean_absolute_percentage_error: 16.8662\n",
      "Epoch 23/100\n",
      "1539/1539 [==============================] - 17s 11ms/step - loss: 8.3975 - mean_absolute_error: 13.3217 - root_mean_squared_error: 19.2018 - mean_absolute_percentage_error: 16.9065 5s - loss: 8.4137 - mean_absolute_\n",
      "Epoch 24/100\n",
      "1539/1539 [==============================] - 16s 11ms/step - loss: 8.3915 - mean_absolute_error: 13.3030 - root_mean_squared_error: 19.1821 - mean_absolute_percentage_error: 16.9175 1s - loss: 8.3817 - mean_absolute_error: 13.3011 - root_mean_squared_error: 19.1772 - mean_absolute_perc\n",
      "Epoch 25/100\n",
      "1539/1539 [==============================] - 17s 11ms/step - loss: 8.3841 - mean_absolute_error: 13.2819 - root_mean_squared_error: 19.1666 - mean_absolute_percentage_error: 16.8632\n",
      "Epoch 26/100\n",
      "1539/1539 [==============================] - 16s 11ms/step - loss: 8.3818 - mean_absolute_error: 13.2585 - root_mean_squared_error: 19.1290 - mean_absolute_percentage_error: 16.7906\n",
      "Epoch 27/100\n",
      "1539/1539 [==============================] - 17s 11ms/step - loss: 8.3776 - mean_absolute_error: 13.2479 - root_mean_squared_error: 19.1171 - mean_absolute_percentage_error: 16.7434\n",
      "Epoch 28/100\n",
      "1539/1539 [==============================] - 17s 11ms/step - loss: 8.3847 - mean_absolute_error: 13.2551 - root_mean_squared_error: 19.1271 - mean_absolute_percentage_error: 16.7991\n",
      "Epoch 29/100\n",
      "1539/1539 [==============================] - 16s 11ms/step - loss: 8.3759 - mean_absolute_error: 13.2320 - root_mean_squared_error: 19.1047 - mean_absolute_percentage_error: 16.7405\n",
      "Epoch 30/100\n",
      "1539/1539 [==============================] - 17s 11ms/step - loss: 8.3579 - mean_absolute_error: 13.2189 - root_mean_squared_error: 19.0841 - mean_absolute_percentage_error: 16.7313\n",
      "Epoch 31/100\n",
      "1539/1539 [==============================] - 16s 11ms/step - loss: 8.3631 - mean_absolute_error: 13.1948 - root_mean_squared_error: 19.0448 - mean_absolute_percentage_error: 16.7141\n",
      "Epoch 32/100\n",
      "1539/1539 [==============================] - ETA: 0s - loss: 8.3594 - mean_absolute_error: 13.2060 - root_mean_squared_error: 19.0659 - mean_absolute_percentage_error: 16.6930- ETA:  - 17s 11ms/step - loss: 8.3593 - mean_absolute_error: 13.2042 - root_mean_squared_error: 19.0625 - mean_absolute_percentage_error: 16.6913\n",
      "Epoch 33/100\n",
      "1539/1539 [==============================] - 16s 11ms/step - loss: 8.3454 - mean_absolute_error: 13.1675 - root_mean_squared_error: 19.0049 - mean_absolute_percentage_error: 16.6434\n",
      "Epoch 34/100\n",
      "1539/1539 [==============================] - 17s 11ms/step - loss: 8.3434 - mean_absolute_error: 13.1681 - root_mean_squared_error: 19.0181 - mean_absolute_percentage_error: 16.6401\n",
      "Epoch 35/100\n",
      "1539/1539 [==============================] - 16s 11ms/step - loss: 8.3512 - mean_absolute_error: 13.1750 - root_mean_squared_error: 19.0177 - mean_absolute_percentage_error: 16.6459\n",
      "Epoch 36/100\n",
      "1539/1539 [==============================] - 17s 11ms/step - loss: 8.3457 - mean_absolute_error: 13.1697 - root_mean_squared_error: 19.0149 - mean_absolute_percentage_error: 16.5865 1s - loss: 8.3438 - mean_absolute_error: 13.1635 - root_mean_squared_error: 19.0017 - mean_absolute_perce\n",
      "Epoch 37/100\n",
      "1539/1539 [==============================] - 16s 11ms/step - loss: 8.3450 - mean_absolute_error: 13.1358 - root_mean_squared_error: 18.9724 - mean_absolute_percentage_error: 16.6183\n",
      "Epoch 38/100\n",
      "1539/1539 [==============================] - 17s 11ms/step - loss: 8.3398 - mean_absolute_error: 13.1167 - root_mean_squared_error: 18.9465 - mean_absolute_percentage_error: 16.5014\n",
      "Epoch 39/100\n"
     ]
    },
    {
     "name": "stdout",
     "output_type": "stream",
     "text": [
      "1539/1539 [==============================] - 16s 11ms/step - loss: 8.3308 - mean_absolute_error: 13.1216 - root_mean_squared_error: 18.9263 - mean_absolute_percentage_error: 16.5551\n",
      "Epoch 40/100\n",
      "1539/1539 [==============================] - 17s 11ms/step - loss: 8.3441 - mean_absolute_error: 13.1186 - root_mean_squared_error: 18.9463 - mean_absolute_percentage_error: 16.5120 ETA: 1s - loss: 8.3541 - mean_absolute_error: 13.1151 - root_mean_squared_error: 18.9423 - mean_absolut\n",
      "Epoch 41/100\n",
      "1539/1539 [==============================] - 16s 11ms/step - loss: 8.3348 - mean_absolute_error: 13.1125 - root_mean_squared_error: 18.9328 - mean_absolute_percentage_error: 16.5209\n",
      "Epoch 42/100\n",
      "1539/1539 [==============================] - 17s 11ms/step - loss: 8.3215 - mean_absolute_error: 13.0711 - root_mean_squared_error: 18.8757 - mean_absolute_percentage_error: 16.4966\n",
      "Epoch 43/100\n",
      "1539/1539 [==============================] - 16s 11ms/step - loss: 8.3121 - mean_absolute_error: 13.0975 - root_mean_squared_error: 18.9049 - mean_absolute_percentage_error: 16.4780\n",
      "Epoch 44/100\n",
      "1539/1539 [==============================] - 16s 11ms/step - loss: 8.3157 - mean_absolute_error: 13.0872 - root_mean_squared_error: 18.9011 - mean_absolute_percentage_error: 16.4601\n",
      "Epoch 45/100\n",
      "1539/1539 [==============================] - 16s 11ms/step - loss: 8.3104 - mean_absolute_error: 13.0711 - root_mean_squared_error: 18.8602 - mean_absolute_percentage_error: 16.4757 4s - loss: 8.2977 - mean_absolute_error: 13.0623 - root_\n",
      "Epoch 46/100\n",
      "1539/1539 [==============================] - 16s 11ms/step - loss: 8.3099 - mean_absolute_error: 13.0502 - root_mean_squared_error: 18.8391 - mean_absolute_percentage_error: 16.4005 4s - loss: 8.3016 - mean_absolute_error: 13.0516 - root_mean\n",
      "Epoch 47/100\n",
      "1539/1539 [==============================] - 17s 11ms/step - loss: 8.3059 - mean_absolute_error: 13.0398 - root_mean_squared_error: 18.8192 - mean_absolute_percentage_error: 16.4038\n",
      "Epoch 48/100\n",
      "1539/1539 [==============================] - 16s 11ms/step - loss: 8.3016 - mean_absolute_error: 13.0370 - root_mean_squared_error: 18.8254 - mean_absolute_percentage_error: 16.4230\n",
      "Epoch 49/100\n",
      "1539/1539 [==============================] - 17s 11ms/step - loss: 8.3013 - mean_absolute_error: 13.0281 - root_mean_squared_error: 18.8132 - mean_absolute_percentage_error: 16.3596\n",
      "Epoch 50/100\n",
      "1539/1539 [==============================] - 16s 11ms/step - loss: 8.3025 - mean_absolute_error: 13.0186 - root_mean_squared_error: 18.8036 - mean_absolute_percentage_error: 16.3405\n",
      "Epoch 51/100\n",
      "1539/1539 [==============================] - 17s 11ms/step - loss: 8.2994 - mean_absolute_error: 13.0080 - root_mean_squared_error: 18.7826 - mean_absolute_percentage_error: 16.4024 8s - loss: 8.3032 - mean_absolute_error: 12.9675 - root_mean_squared_error: 18.7721 - mean_absolute_perc - ETA: 7s - loss:\n",
      "Epoch 52/100\n",
      "1539/1539 [==============================] - 16s 11ms/step - loss: 8.2912 - mean_absolute_error: 12.9968 - root_mean_squared_error: 18.7641 - mean_absolute_percentage_error: 16.2938\n",
      "Epoch 53/100\n",
      "1539/1539 [==============================] - 17s 11ms/step - loss: 8.2798 - mean_absolute_error: 13.0031 - root_mean_squared_error: 18.7671 - mean_absolute_percentage_error: 16.3403 8s - loss: 8.2819 - mean_absolute_er - ETA: 3s - loss: 8.2679 - mean_absolute_error: 12.9822 - root_mean_squared_er\n",
      "Epoch 54/100\n",
      "1539/1539 [==============================] - 16s 11ms/step - loss: 8.2796 - mean_absolute_error: 12.9766 - root_mean_squared_error: 18.7383 - mean_absolute_percentage_error: 16.2905\n",
      "Epoch 55/100\n",
      "1539/1539 [==============================] - 17s 11ms/step - loss: 8.2807 - mean_absolute_error: 12.9793 - root_mean_squared_error: 18.7430 - mean_absolute_percentage_error: 16.3515 7s - loss: 8.2558 - mean_absolute_error: 12. - ETA: 2s - loss: 8.2810 - mean_absolute_error: 12.9836 - root_mean_squared_error: 18.7462 - mean\n",
      "Epoch 56/100\n",
      "1539/1539 [==============================] - 16s 11ms/step - loss: 8.2725 - mean_absolute_error: 12.9715 - root_mean_squared_error: 18.7222 - mean_absolute_percentage_error: 16.2865\n",
      "Epoch 57/100\n",
      "1539/1539 [==============================] - 17s 11ms/step - loss: 8.2605 - mean_absolute_error: 12.9417 - root_mean_squared_error: 18.6769 - mean_absolute_percentage_error: 16.2174\n",
      "Epoch 58/100\n",
      "1539/1539 [==============================] - 16s 11ms/step - loss: 8.2574 - mean_absolute_error: 12.9399 - root_mean_squared_error: 18.6757 - mean_absolute_percentage_error: 16.2157 7s - loss: 8.2579 - mean_absolute_error: 12.9171 - root_mean_squared_error: 18. - ETA: 4s - loss: 8.2590 - mean_absolute_error: 12.9\n",
      "Epoch 59/100\n",
      "1539/1539 [==============================] - 17s 11ms/step - loss: 8.2617 - mean_absolute_error: 12.9152 - root_mean_squared_error: 18.6435 - mean_absolute_percentage_error: 16.2494\n",
      "Epoch 60/100\n",
      "1539/1539 [==============================] - 16s 11ms/step - loss: 8.2654 - mean_absolute_error: 12.9515 - root_mean_squared_error: 18.6979 - mean_absolute_percentage_error: 16.1910 2s - loss: 8.2785 - mean_absolute_error: 12.9602 - root_mean_squared_error: 18.72\n",
      "Epoch 61/100\n",
      "1539/1539 [==============================] - 16s 11ms/step - loss: 8.2538 - mean_absolute_error: 12.9049 - root_mean_squared_error: 18.6202 - mean_absolute_percentage_error: 16.1986\n",
      "Epoch 62/100\n",
      "1539/1539 [==============================] - 17s 11ms/step - loss: 8.2514 - mean_absolute_error: 12.8954 - root_mean_squared_error: 18.6115 - mean_absolute_percentage_error: 16.1726\n",
      "Epoch 63/100\n",
      "1539/1539 [==============================] - 16s 11ms/step - loss: 8.2429 - mean_absolute_error: 12.8958 - root_mean_squared_error: 18.6064 - mean_absolute_percentage_error: 16.1501\n",
      "Epoch 64/100\n",
      "1539/1539 [==============================] - 17s 11ms/step - loss: 8.2501 - mean_absolute_error: 12.8925 - root_mean_squared_error: 18.5984 - mean_absolute_percentage_error: 16.1406\n",
      "Epoch 65/100\n",
      "1539/1539 [==============================] - 16s 11ms/step - loss: 8.2372 - mean_absolute_error: 12.8794 - root_mean_squared_error: 18.5884 - mean_absolute_percentage_error: 16.0894\n",
      "Epoch 66/100\n",
      "1539/1539 [==============================] - 17s 11ms/step - loss: 8.2295 - mean_absolute_error: 12.8643 - root_mean_squared_error: 18.5654 - mean_absolute_percentage_error: 16.1319\n",
      "Epoch 67/100\n",
      "1539/1539 [==============================] - 16s 11ms/step - loss: 8.2423 - mean_absolute_error: 12.8716 - root_mean_squared_error: 18.5697 - mean_absolute_percentage_error: 16.1450\n",
      "Epoch 68/100\n",
      "1539/1539 [==============================] - 17s 11ms/step - loss: 8.2385 - mean_absolute_error: 12.8541 - root_mean_squared_error: 18.5515 - mean_absolute_percentage_error: 16.0748 11s - loss: 8.2493 - mean_absolute_error\n",
      "Epoch 69/100\n",
      "1539/1539 [==============================] - 15s 10ms/step - loss: 8.2273 - mean_absolute_error: 12.8543 - root_mean_squared_error: 18.5523 - mean_absolute_percentage_error: 16.0748\n",
      "Epoch 70/100\n",
      "1539/1539 [==============================] - 16s 10ms/step - loss: 8.2164 - mean_absolute_error: 12.8353 - root_mean_squared_error: 18.5150 - mean_absolute_percentage_error: 16.0379\n",
      "Epoch 71/100\n",
      "1539/1539 [==============================] - 16s 11ms/step - loss: 8.2209 - mean_absolute_error: 12.8414 - root_mean_squared_error: 18.5294 - mean_absolute_percentage_error: 16.0358\n",
      "Epoch 72/100\n",
      "1539/1539 [==============================] - 16s 11ms/step - loss: 8.2153 - mean_absolute_error: 12.8073 - root_mean_squared_error: 18.4953 - mean_absolute_percentage_error: 15.9996\n",
      "Epoch 73/100\n",
      "1539/1539 [==============================] - 16s 11ms/step - loss: 8.2059 - mean_absolute_error: 12.8319 - root_mean_squared_error: 18.4876 - mean_absolute_percentage_error: 15.9699 5s - loss: 8.2116 - mean_absolute_error:\n",
      "Epoch 74/100\n",
      "1539/1539 [==============================] - 16s 11ms/step - loss: 8.2036 - mean_absolute_error: 12.8266 - root_mean_squared_error: 18.4886 - mean_absolute_percentage_error: 15.9667\n",
      "Epoch 75/100\n",
      "1539/1539 [==============================] - 16s 11ms/step - loss: 8.1920 - mean_absolute_error: 12.7741 - root_mean_squared_error: 18.4397 - mean_absolute_percentage_error: 15.9181 4s - loss: 8.2012 - mean_absolute_error: 12.8125 - root_me\n",
      "Epoch 76/100\n",
      "1539/1539 [==============================] - 16s 11ms/step - loss: 8.1899 - mean_absolute_error: 12.7982 - root_mean_squared_error: 18.4496 - mean_absolute_percentage_error: 15.9794\n",
      "Epoch 77/100\n",
      "1539/1539 [==============================] - 16s 11ms/step - loss: 8.1970 - mean_absolute_error: 12.7911 - root_mean_squared_error: 18.4481 - mean_absolute_percentage_error: 15.9371 9s - loss: 8.1974 - mean_absolute_error: 12.780 - ETA: 4s - loss: 8.1990 - mean_absolute_error: 12.8020 - root_mean_\n",
      "Epoch 78/100\n",
      "1539/1539 [==============================] - 16s 11ms/step - loss: 8.1881 - mean_absolute_error: 12.7784 - root_mean_squared_error: 18.4307 - mean_absolute_percentage_error: 15.9594 4s - loss: 8.1762 - mean_absolute_error: 12.7\n",
      "Epoch 79/100\n",
      "1539/1539 [==============================] - 16s 11ms/step - loss: 8.1750 - mean_absolute_error: 12.7697 - root_mean_squared_error: 18.4084 - mean_absolute_percentage_error: 15.9147\n",
      "Epoch 80/100\n",
      "1539/1539 [==============================] - 16s 11ms/step - loss: 8.1838 - mean_absolute_error: 12.7529 - root_mean_squared_error: 18.3932 - mean_absolute_percentage_error: 15.9005\n",
      "Epoch 81/100\n",
      "1539/1539 [==============================] - 16s 10ms/step - loss: 8.1720 - mean_absolute_error: 12.7775 - root_mean_squared_error: 18.4094 - mean_absolute_percentage_error: 15.9018\n",
      "Epoch 82/100\n",
      "1539/1539 [==============================] - 17s 11ms/step - loss: 8.1683 - mean_absolute_error: 12.7405 - root_mean_squared_error: 18.3692 - mean_absolute_percentage_error: 15.8642\n",
      "Epoch 83/100\n",
      "1539/1539 [==============================] - 16s 10ms/step - loss: 8.1666 - mean_absolute_error: 12.7313 - root_mean_squared_error: 18.3522 - mean_absolute_percentage_error: 15.8241\n",
      "Epoch 84/100\n",
      "1539/1539 [==============================] - 17s 11ms/step - loss: 8.1483 - mean_absolute_error: 12.7375 - root_mean_squared_error: 18.3572 - mean_absolute_percentage_error: 15.8494\n",
      "Epoch 85/100\n",
      "1539/1539 [==============================] - 16s 11ms/step - loss: 8.1581 - mean_absolute_error: 12.7132 - root_mean_squared_error: 18.3252 - mean_absolute_percentage_error: 15.8017 3s - loss: 8.1473 - mean_absolute_error: 12.6730 - root_mean_square\n",
      "Epoch 86/100\n",
      "1539/1539 [==============================] - 17s 11ms/step - loss: 8.1543 - mean_absolute_error: 12.7183 - root_mean_squared_error: 18.3277 - mean_absolute_percentage_error: 15.8225\n",
      "Epoch 87/100\n",
      "1539/1539 [==============================] - 16s 10ms/step - loss: 8.1564 - mean_absolute_error: 12.7177 - root_mean_squared_error: 18.3289 - mean_absolute_percentage_error: 15.7754\n",
      "Epoch 88/100\n",
      "1539/1539 [==============================] - 17s 11ms/step - loss: 8.1396 - mean_absolute_error: 12.7014 - root_mean_squared_error: 18.2986 - mean_absolute_percentage_error: 15.7732\n",
      "Epoch 89/100\n",
      "1539/1539 [==============================] - 16s 10ms/step - loss: 8.1409 - mean_absolute_error: 12.6994 - root_mean_squared_error: 18.2940 - mean_absolute_percentage_error: 15.7616\n",
      "Epoch 90/100\n",
      "1539/1539 [==============================] - 17s 11ms/step - loss: 8.1381 - mean_absolute_error: 12.6932 - root_mean_squared_error: 18.2845 - mean_absolute_percentage_error: 15.7468\n",
      "Epoch 91/100\n",
      "1539/1539 [==============================] - 16s 10ms/step - loss: 8.1429 - mean_absolute_error: 12.6681 - root_mean_squared_error: 18.2554 - mean_absolute_percentage_error: 15.7081\n",
      "Epoch 92/100\n",
      "1539/1539 [==============================] - 17s 11ms/step - loss: 8.1345 - mean_absolute_error: 12.6763 - root_mean_squared_error: 18.2682 - mean_absolute_percentage_error: 15.7166 6s - loss: 8.14\n",
      "Epoch 93/100\n",
      "1539/1539 [==============================] - 16s 11ms/step - loss: 8.1286 - mean_absolute_error: 12.6751 - root_mean_squared_error: 18.2442 - mean_absolute_percentage_error: 15.7345\n",
      "Epoch 94/100\n",
      "1539/1539 [==============================] - 17s 11ms/step - loss: 8.1200 - mean_absolute_error: 12.6624 - root_mean_squared_error: 18.2357 - mean_absolute_percentage_error: 15.7091 1s - loss: 8.1229 - mean_absolute_error: 12.6618 - root_mean_squared_error: 18.2297 - mean_absolut\n",
      "Epoch 95/100\n",
      "1539/1539 [==============================] - 16s 10ms/step - loss: 8.1271 - mean_absolute_error: 12.6671 - root_mean_squared_error: 18.2307 - mean_absolute_percentage_error: 15.6612\n",
      "Epoch 96/100\n",
      "1539/1539 [==============================] - 17s 11ms/step - loss: 8.1209 - mean_absolute_error: 12.6310 - root_mean_squared_error: 18.1986 - mean_absolute_percentage_error: 15.6695\n",
      "Epoch 97/100\n",
      "1539/1539 [==============================] - 16s 10ms/step - loss: 8.1217 - mean_absolute_error: 12.6526 - root_mean_squared_error: 18.2293 - mean_absolute_percentage_error: 15.6587\n",
      "Epoch 98/100\n",
      "1539/1539 [==============================] - 17s 11ms/step - loss: 8.1041 - mean_absolute_error: 12.6547 - root_mean_squared_error: 18.2066 - mean_absolute_percentage_error: 15.6391\n",
      "Epoch 99/100\n",
      "1539/1539 [==============================] - 16s 10ms/step - loss: 8.1051 - mean_absolute_error: 12.6235 - root_mean_squared_error: 18.1702 - mean_absolute_percentage_error: 15.6037\n",
      "Epoch 100/100\n",
      "1539/1539 [==============================] - 16s 11ms/step - loss: 8.1034 - mean_absolute_error: 12.6200 - root_mean_squared_error: 18.1776 - mean_absolute_percentage_error: 15.6087\n"
     ]
    },
    {
     "data": {
      "text/plain": [
       "<keras.callbacks.History at 0x28d001ea5b0>"
      ]
     },
     "execution_count": 38,
     "metadata": {},
     "output_type": "execute_result"
    }
   ],
   "source": [
    "model5.fit((Wt5,Xt5), yt5, \n",
    "           epochs = 100, \n",
    "           verbose = 1)"
   ]
  },
  {
   "cell_type": "code",
   "execution_count": 39,
   "metadata": {},
   "outputs": [
    {
     "name": "stderr",
     "output_type": "stream",
     "text": [
      "WARNING:absl:Function `_wrapped_model` contains input name(s) WideInput, DeepInput with unsupported characters which will be renamed to wideinput, deepinput in the SavedModel.\n",
      "WARNING:absl:Found untraced functions such as lstm_cell_5_layer_call_fn, lstm_cell_5_layer_call_and_return_conditional_losses, lstm_cell_6_layer_call_fn, lstm_cell_6_layer_call_and_return_conditional_losses, lstm_cell_5_layer_call_fn while saving (showing 5 of 10). These functions will not be directly callable after loading.\n"
     ]
    },
    {
     "name": "stdout",
     "output_type": "stream",
     "text": [
      "INFO:tensorflow:Assets written to: my_dir/8e-5\\assets\n"
     ]
    },
    {
     "name": "stderr",
     "output_type": "stream",
     "text": [
      "INFO:tensorflow:Assets written to: my_dir/8e-5\\assets\n",
      "WARNING:absl:<keras.layers.recurrent.LSTMCell object at 0x0000028D53019E50> has the same name 'LSTMCell' as a built-in Keras object. Consider renaming <class 'keras.layers.recurrent.LSTMCell'> to avoid naming conflicts when loading with `tf.keras.models.load_model`. If renaming is not possible, pass the object in the `custom_objects` parameter of the load function.\n",
      "WARNING:absl:<keras.layers.recurrent.LSTMCell object at 0x0000028D57849A90> has the same name 'LSTMCell' as a built-in Keras object. Consider renaming <class 'keras.layers.recurrent.LSTMCell'> to avoid naming conflicts when loading with `tf.keras.models.load_model`. If renaming is not possible, pass the object in the `custom_objects` parameter of the load function.\n",
      "WARNING:absl:<keras.layers.recurrent.LSTMCell object at 0x0000028D57836790> has the same name 'LSTMCell' as a built-in Keras object. Consider renaming <class 'keras.layers.recurrent.LSTMCell'> to avoid naming conflicts when loading with `tf.keras.models.load_model`. If renaming is not possible, pass the object in the `custom_objects` parameter of the load function.\n"
     ]
    }
   ],
   "source": [
    "model5.save(\"my_dir/8e-5\")"
   ]
  },
  {
   "cell_type": "code",
   "execution_count": 40,
   "metadata": {},
   "outputs": [],
   "source": [
    "metrics5 = pd.DataFrame(model5.history.history)"
   ]
  },
  {
   "cell_type": "code",
   "execution_count": 41,
   "metadata": {},
   "outputs": [
    {
     "data": {
      "text/plain": [
       "<AxesSubplot:>"
      ]
     },
     "execution_count": 41,
     "metadata": {},
     "output_type": "execute_result"
    },
    {
     "data": {
      "image/png": "[encoded data removed]",
      "text/plain": [
       "<Figure size 432x288 with 1 Axes>"
      ]
     },
     "metadata": {
      "needs_background": "light"
     },
     "output_type": "display_data"
    }
   ],
   "source": [
    "metrics5[['loss']].plot()"
   ]
  },
  {
   "cell_type": "code",
   "execution_count": 33,
   "metadata": {},
   "outputs": [],
   "source": [
    "model5 = keras.models.load_model(\"my_dir/8e-5\", custom_objects={'GEH_loss': GEH_loss}) "
   ]
  },
  {
   "cell_type": "code",
   "execution_count": 34,
   "metadata": {},
   "outputs": [
    {
     "data": {
      "text/plain": [
       "array([[ 32.72192  ,  19.695078 ,  24.172232 ,  74.31604  ,  29.123188 ,\n",
       "          7.3001795],\n",
       "       [ 30.147926 ,  15.489574 ,  24.513449 ,  72.64466  ,  28.709612 ,\n",
       "          6.7407784],\n",
       "       [ 30.089712 ,  15.704155 ,  21.81952  ,  69.72827  ,  28.151793 ,\n",
       "          7.3104515],\n",
       "       ...,\n",
       "       [ 46.698883 ,  44.822002 ,  63.025814 , 111.12173  ,  50.15107  ,\n",
       "         13.079116 ],\n",
       "       [ 44.224052 ,  41.54735  ,  52.86054  , 104.02013  ,  45.810883 ,\n",
       "         11.633217 ],\n",
       "       [ 44.16784  ,  41.62521  ,  57.874454 , 107.87239  ,  47.899506 ,\n",
       "         11.289261 ]], dtype=float32)"
      ]
     },
     "execution_count": 34,
     "metadata": {},
     "output_type": "execute_result"
    }
   ],
   "source": [
    "model5.predict((Wv5,Xv5))"
   ]
  },
  {
   "cell_type": "markdown",
   "metadata": {},
   "source": [
    "### Evaluation on inverse_transform"
   ]
  },
  {
   "cell_type": "code",
   "execution_count": null,
   "metadata": {},
   "outputs": [],
   "source": [
    "test_predictions5 = model5.predict((Wv5,Xv5))\n",
    "\n",
    "\n",
    "MSE5 = mean_squared_error(yv5,test_predictions5)\n",
    "\n",
    "MAE5 = mean_absolute_error(yv5,test_predictions5)\n",
    "\n",
    "RMSE5 = np.sqrt(MSE5)\n",
    "\n",
    "MAPE5 = mean_absolute_percentage_error(yv5,test_predictions5)*100\n",
    "\n",
    "eval5 = [MSE5, MAE5, RMSE5, MAPE5]\n",
    "print(eval5)"
   ]
  },
  {
   "cell_type": "code",
   "execution_count": null,
   "metadata": {},
   "outputs": [],
   "source": [
    "GEH, count = ga.GEH(np.asarray(yv5), np.asarray(test_predictions5))\n",
    "GEH5 = count/GEH.size\n",
    "print(GEH5)"
   ]
  },
  {
   "cell_type": "markdown",
   "metadata": {},
   "source": [
    "# 15 mins ahead"
   ]
  },
  {
   "cell_type": "code",
   "execution_count": 37,
   "metadata": {},
   "outputs": [],
   "source": [
    "def build_model_15(hp):\n",
    "    # Inputs\n",
    "    channel_Wide = keras.layers.Input(shape=Wt15.shape[1:], name=\"WideInput\")\n",
    "    channel_Deep = keras.layers.Input(shape=Xt15.shape[1:], name=\"DeepInput\")\n",
    "    units = hp.Int(\"units\", min_value=1, max_value=100, step=1)\n",
    "    \n",
    "    \n",
    "    # Wide Model\n",
    "    flatten_15w = keras.layers.TimeDistributed(keras.layers.Flatten())(channel_Wide)\n",
    "    Bi_15 = keras.layers.Bidirectional(\n",
    "        keras.layers.LSTM(units=units, return_sequences=True),\n",
    "        merge_mode=\"ave\"\n",
    "    )(flatten_15w)\n",
    "    \n",
    "    \n",
    "    # Deep Model\n",
    "    # CNN \n",
    "    CNN_15 = keras.layers.TimeDistributed(\n",
    "        keras.layers.Conv2D(filters=hp.Int(\"filters\", min_value=32, max_value=512, step=32),\n",
    "                            kernel_size=hp.Choice(\"kernel_size\", [2, 3]), activation='relu'))(channel_Deep)\n",
    "    flatten_15 = keras.layers.TimeDistributed(keras.layers.Flatten())(CNN_15)\n",
    "    # LSTM          \n",
    "    LSTM_15 = keras.layers.LSTM(units=units, activation='relu', return_sequences=True)(flatten_15)\n",
    "\n",
    "    \n",
    "    # Concatenation \n",
    "    concat = keras.layers.concatenate([Bi_15, LSTM_15], axis=1)\n",
    "\n",
    "    # Attention\n",
    "    Att_15 = SeqSelfAttention(attention_activation='sigmoid')(concat)\n",
    "    merge = keras.layers.Flatten()(Att_15)\n",
    "\n",
    "    \n",
    "    # Output\n",
    "    output = keras.layers.Dense(n_features, name= \"output\")(merge)\n",
    "    \n",
    "    # Model\n",
    "    model_15 = keras.Model(inputs=[channel_Wide,channel_Deep], outputs=[output])\n",
    "\n",
    "    # Compile\n",
    "    model_15.compile(optimizer=keras.optimizers.Adam(hp.Choice(\"learning_rate\", [1e-2, 1e-3, 1e-4])), \n",
    "        loss=GEH_loss, metrics=['MeanAbsoluteError','RootMeanSquaredError','MeanAbsolutePercentageError'])\n",
    "                    \n",
    "    return model_15"
   ]
  },
  {
   "cell_type": "code",
   "execution_count": 38,
   "metadata": {},
   "outputs": [
    {
     "name": "stdout",
     "output_type": "stream",
     "text": [
      "INFO:tensorflow:Reloading Oracle from existing project C:\\RunsOak\\8e-15\\oracle.json\n",
      "INFO:tensorflow:Reloading Tuner from C:\\RunsOak\\8e-15\\tuner0.json\n"
     ]
    }
   ],
   "source": [
    "tuner15 = RandomSearch(\n",
    "    build_model_15,\n",
    "    objective=\"val_loss\",\n",
    "    max_trials=60,\n",
    "    executions_per_trial=2,\n",
    "    overwrite=False,\n",
    "    directory=os.path.normpath('C:/RunsOak'),\n",
    "    project_name=\"8e-15\",\n",
    ")"
   ]
  },
  {
   "cell_type": "code",
   "execution_count": 39,
   "metadata": {},
   "outputs": [
    {
     "name": "stdout",
     "output_type": "stream",
     "text": [
      "Search space summary\n",
      "Default search space size: 4\n",
      "units (Int)\n",
      "{'default': None, 'conditions': [], 'min_value': 1, 'max_value': 100, 'step': 1, 'sampling': None}\n",
      "filters (Int)\n",
      "{'default': None, 'conditions': [], 'min_value': 32, 'max_value': 512, 'step': 32, 'sampling': None}\n",
      "kernel_size (Choice)\n",
      "{'default': 2, 'conditions': [], 'values': [2, 3], 'ordered': True}\n",
      "learning_rate (Choice)\n",
      "{'default': 0.01, 'conditions': [], 'values': [0.01, 0.001, 0.0001], 'ordered': True}\n"
     ]
    }
   ],
   "source": [
    "tuner15.search_space_summary()"
   ]
  },
  {
   "cell_type": "code",
   "execution_count": 34,
   "metadata": {},
   "outputs": [
    {
     "name": "stdout",
     "output_type": "stream",
     "text": [
      "INFO:tensorflow:Oracle triggered exit\n"
     ]
    }
   ],
   "source": [
    "tuner15.search((Wt15,Xt15), yt15, epochs=200,\n",
    "            validation_split = val_percent,\n",
    "            callbacks=[early_stop], \n",
    "            verbose=2)"
   ]
  },
  {
   "cell_type": "code",
   "execution_count": 35,
   "metadata": {},
   "outputs": [
    {
     "name": "stdout",
     "output_type": "stream",
     "text": [
      "Results summary\n",
      "Results in C:\\RunsOak\\8e-15\n",
      "Showing 1 best trials\n",
      "Objective(name='val_loss', direction='min')\n",
      "Trial summary\n",
      "Hyperparameters:\n",
      "units: 69\n",
      "filters: 96\n",
      "kernel_size: 2\n",
      "learning_rate: 0.001\n",
      "Score: 8.610459327697754\n"
     ]
    }
   ],
   "source": [
    "tuner15.results_summary(1)"
   ]
  },
  {
   "cell_type": "markdown",
   "metadata": {},
   "source": [
    "### Best model"
   ]
  },
  {
   "cell_type": "code",
   "execution_count": 36,
   "metadata": {},
   "outputs": [],
   "source": [
    "best_hp15 = tuner15.get_best_hyperparameters()[0]\n",
    "model15 = tuner15.hypermodel.build(best_hp15)"
   ]
  },
  {
   "cell_type": "code",
   "execution_count": 37,
   "metadata": {},
   "outputs": [
    {
     "data": {
      "text/plain": [
       "['Best_HP/8e-15']"
      ]
     },
     "execution_count": 37,
     "metadata": {},
     "output_type": "execute_result"
    }
   ],
   "source": [
    "scaler_filename = \"Best_HP/8e-15\"\n",
    "joblib.dump(best_hp15, scaler_filename) "
   ]
  },
  {
   "cell_type": "code",
   "execution_count": 38,
   "metadata": {},
   "outputs": [
    {
     "name": "stdout",
     "output_type": "stream",
     "text": [
      "Model: \"model_1\"\n",
      "__________________________________________________________________________________________________\n",
      " Layer (type)                   Output Shape         Param #     Connected to                     \n",
      "==================================================================================================\n",
      " DeepInput (InputLayer)         [(None, 3, 5, 6, 1)  0           []                               \n",
      "                                ]                                                                 \n",
      "                                                                                                  \n",
      " WideInput (InputLayer)         [(None, 3, 3, 6)]    0           []                               \n",
      "                                                                                                  \n",
      " time_distributed_4 (TimeDistri  (None, 3, 4, 5, 96)  480        ['DeepInput[0][0]']              \n",
      " buted)                                                                                           \n",
      "                                                                                                  \n",
      " time_distributed_3 (TimeDistri  (None, 3, 18)       0           ['WideInput[0][0]']              \n",
      " buted)                                                                                           \n",
      "                                                                                                  \n",
      " time_distributed_5 (TimeDistri  (None, 3, 1920)     0           ['time_distributed_4[0][0]']     \n",
      " buted)                                                                                           \n",
      "                                                                                                  \n",
      " bidirectional_1 (Bidirectional  (None, 3, 69)       48576       ['time_distributed_3[0][0]']     \n",
      " )                                                                                                \n",
      "                                                                                                  \n",
      " lstm_3 (LSTM)                  (None, 3, 69)        549240      ['time_distributed_5[0][0]']     \n",
      "                                                                                                  \n",
      " concatenate_1 (Concatenate)    (None, 6, 69)        0           ['bidirectional_1[0][0]',        \n",
      "                                                                  'lstm_3[0][0]']                 \n",
      "                                                                                                  \n",
      " seq_self_attention_1 (SeqSelfA  (None, 6, 69)       4481        ['concatenate_1[0][0]']          \n",
      " ttention)                                                                                        \n",
      "                                                                                                  \n",
      " flatten_5 (Flatten)            (None, 414)          0           ['seq_self_attention_1[0][0]']   \n",
      "                                                                                                  \n",
      " output (Dense)                 (None, 6)            2490        ['flatten_5[0][0]']              \n",
      "                                                                                                  \n",
      "==================================================================================================\n",
      "Total params: 605,267\n",
      "Trainable params: 605,267\n",
      "Non-trainable params: 0\n",
      "__________________________________________________________________________________________________\n"
     ]
    }
   ],
   "source": [
    "model15.summary()"
   ]
  },
  {
   "cell_type": "code",
   "execution_count": 39,
   "metadata": {},
   "outputs": [
    {
     "name": "stdout",
     "output_type": "stream",
     "text": [
      "Epoch 1/100\n",
      "1539/1539 [==============================] - 44s 15ms/step - loss: 11.0567 - mean_absolute_error: 21.8774 - root_mean_squared_error: 36.8398 - mean_absolute_percentage_error: 31.0616\n",
      "Epoch 2/100\n",
      "1539/1539 [==============================] - 22s 15ms/step - loss: 9.2422 - mean_absolute_error: 16.3643 - root_mean_squared_error: 23.4330 - mean_absolute_percentage_error: 22.1179\n",
      "Epoch 3/100\n",
      "1539/1539 [==============================] - 24s 16ms/step - loss: 9.0666 - mean_absolute_error: 15.7542 - root_mean_squared_error: 22.6458 - mean_absolute_percentage_error: 20.9335\n",
      "Epoch 4/100\n",
      "1539/1539 [==============================] - 22s 15ms/step - loss: 8.9877 - mean_absolute_error: 15.4112 - root_mean_squared_error: 22.1762 - mean_absolute_percentage_error: 20.3942 22s - loss: 9.0475 - mean_absolute_error: 15.1563 - root_mean_squared_error: 22.1067 - mean_absolute_percentage_error: 1 \n",
      "Epoch 5/100\n",
      "1539/1539 [==============================] - 22s 14ms/step - loss: 8.9135 - mean_absolute_error: 15.1705 - root_mean_squared_error: 21.8135 - mean_absolute_percentage_error: 20.0941 2s - loss: 8.9154 - mean_absolute_error: 15.1645 - root_mean_squared_error: 21.8087 - mean_absolute_percentage_e - ETA: 2s - loss: 8.9131 - mean_absolute_error: 15.1732 - root_mean_squared_error: 21.8213 -\n",
      "Epoch 6/100\n",
      "1539/1539 [==============================] - 23s 15ms/step - loss: 8.8956 - mean_absolute_error: 15.0011 - root_mean_squared_error: 21.6342 - mean_absolute_percentage_error: 19.8598 5s - loss: 8.8938 - mean_absolute_\n",
      "Epoch 7/100\n",
      "1539/1539 [==============================] - 22s 14ms/step - loss: 8.8868 - mean_absolute_error: 14.9144 - root_mean_squared_error: 21.5318 - mean_absolute_percentage_error: 19.6964\n",
      "Epoch 8/100\n",
      "1539/1539 [==============================] - 23s 15ms/step - loss: 8.8616 - mean_absolute_error: 14.8080 - root_mean_squared_error: 21.4146 - mean_absolute_percentage_error: 19.5811ETA: 4s - loss: 8.8622 - mean_absolute_error: 14.8096 - roo\n",
      "Epoch 9/100\n",
      "1539/1539 [==============================] - 22s 14ms/step - loss: 8.8493 - mean_absolute_error: 14.7560 - root_mean_squared_error: 21.3143 - mean_absolute_percentage_error: 19.4792 11s - loss: 8.8489 - mean_absolute_error: 14.6939 - root_mean_squared_error: 21.2402 - mean_absolute_p - ETA: 10s - loss: 8.8453 - mean_absolute_error: 14.6870 \n",
      "Epoch 10/100\n",
      "1539/1539 [==============================] - 23s 15ms/step - loss: 8.8269 - mean_absolute_error: 14.6516 - root_mean_squared_error: 21.1764 - mean_absolute_percentage_error: 19.3105 1s - loss: 8.8335 - mean_absolute_error: 14.6687 - root_mean_squared_error: 21.2234 - mean_absolute_percen - ETA: 0s - loss: 8.8315 - mean_absolute_error: 14.6576 - root_mean_squared_error: 21.1952 - mean_absolute_percentage_\n",
      "Epoch 11/100\n",
      "1539/1539 [==============================] - 23s 15ms/step - loss: 8.8158 - mean_absolute_error: 14.6284 - root_mean_squared_error: 21.1606 - mean_absolute_percentage_error: 19.2831 2s - loss: 8.8150 - mean_absolute_error: 14.6606 - root_mean_squared_error: 21.194\n",
      "Epoch 12/100\n",
      "1539/1539 [==============================] - 22s 15ms/step - loss: 8.8049 - mean_absolute_error: 14.5375 - root_mean_squared_error: 21.0426 - mean_absolute_percentage_error: 19.2115 20s - loss: 8.7930 - mean_absolute_err - ETA: 18s - loss: 8.8759 - mean_absolute_error: 14.6587 - root_mean_squared_error: 21.3338 - mean_absolute_percentage_error: - ETA: 17s  - ETA: 10s - loss: 8.8293 - mean_absolute_error: 14.547 - ETA: 6s - loss: 8.8104 - mean_absolute_error: 14.505\n",
      "Epoch 13/100\n",
      "1539/1539 [==============================] - 23s 15ms/step - loss: 8.8006 - mean_absolute_error: 14.4834 - root_mean_squared_error: 20.9791 - mean_absolute_percentage_error: 19.1313\n",
      "Epoch 14/100\n",
      "1539/1539 [==============================] - 22s 14ms/step - loss: 8.7866 - mean_absolute_error: 14.4700 - root_mean_squared_error: 20.9675 - mean_absolute_percentage_error: 19.0705\n",
      "Epoch 15/100\n",
      "1539/1539 [==============================] - 22s 14ms/step - loss: 8.7745 - mean_absolute_error: 14.4605 - root_mean_squared_error: 20.9436 - mean_absolute_percentage_error: 19.0358\n",
      "Epoch 16/100\n",
      "1539/1539 [==============================] - 22s 14ms/step - loss: 8.7664 - mean_absolute_error: 14.4004 - root_mean_squared_error: 20.8677 - mean_absolute_percentage_error: 18.9468 16s - loss: 8.7461 - mean_absolute_error: 14.3764 - root - ETA: 14s - loss: 8.7527 - mean_absolute_error: 14.3280 - root_mean_squared_error: 20.7782 - mean_absolute_percentage_error: 18. - ETA: 13s - loss: 8.7482 - mean_absolute_error: 14.3307 - root_mean_squared_error: 20.7733 - mean_absolute_perce - ETA: 13s - loss:\n",
      "Epoch 17/100\n",
      "1539/1539 [==============================] - 22s 14ms/step - loss: 8.7569 - mean_absolute_error: 14.3656 - root_mean_squared_error: 20.8142 - mean_absolute_percentage_error: 18.9061\n",
      "Epoch 18/100\n",
      "1539/1539 [==============================] - 23s 15ms/step - loss: 8.7562 - mean_absolute_error: 14.3355 - root_mean_squared_error: 20.7836 - mean_absolute_percentage_error: 18.8955 16s -  - ETA: 9s - loss: 8.7713 - mean_absolute_error: 14.3173 - roo - ETA: 5s - loss: 8.7536 - mean_absolute_error: 14.2929 - root_mean_squared_error: 20.7172 - mean_absolute_percentag - ETA: 4s - loss: 8.7533 - mean_absolute_error: 14.3060 \n",
      "Epoch 19/100\n",
      "1539/1539 [==============================] - 22s 14ms/step - loss: 8.7465 - mean_absolute_error: 14.2916 - root_mean_squared_error: 20.7328 - mean_absolute_percentage_error: 18.8116 8s - loss: 8.7220 - mean_absolute_error: 14.2265 - root_mean_squared_e - ETA: 5s - loss: 8.7229 - mean_absolute_err\n",
      "Epoch 20/100\n",
      "1539/1539 [==============================] - 22s 14ms/step - loss: 8.7301 - mean_absolute_error: 14.2728 - root_mean_squared_error: 20.6977 - mean_absolute_percentage_error: 18.7520\n",
      "Epoch 21/100\n",
      "1539/1539 [==============================] - 22s 14ms/step - loss: 8.7335 - mean_absolute_error: 14.2642 - root_mean_squared_error: 20.6853 - mean_absolute_percentage_error: 18.7112\n",
      "Epoch 22/100\n",
      "1539/1539 [==============================] - 23s 15ms/step - loss: 8.7198 - mean_absolute_error: 14.2412 - root_mean_squared_error: 20.6609 - mean_absolute_percentage_error: 18.6509 10s - loss: 8.7436 - mean_absolute_error: 14.2775 - root_mean_squared_error: 20.7519 - mean_absolute_percent - ETA: 9s - loss: 8.7369 - mean_absolute_error: 14.2641 - root_mean_squared_error: 20.7312 - mean_absolute_percen - ETA: 8s -\n",
      "Epoch 23/100\n",
      "1539/1539 [==============================] - 23s 15ms/step - loss: 8.7146 - mean_absolute_error: 14.2078 - root_mean_squared_error: 20.6105 - mean_absolute_percentage_error: 18.6483 16s - loss: 8.6932 - mean_absolute_error: 14.1650 - root_mean_ - ETA: 5s - loss: 8.7171 - mean_a\n",
      "Epoch 24/100\n",
      "1539/1539 [==============================] - 22s 14ms/step - loss: 8.7190 - mean_absolute_error: 14.1997 - root_mean_squared_error: 20.6184 - mean_absolute_percentage_error: 18.6076 7s - loss: 8.7068 - mean_absolute_error: 14.1739 - roo - ETA: 3s - loss: 8.7111 - mean_absolute_error: 14.1855 - root_mean_squ\n",
      "Epoch 25/100\n",
      "1539/1539 [==============================] - 22s 14ms/step - loss: 8.6991 - mean_absolute_error: 14.1924 - root_mean_squared_error: 20.5866 - mean_absolute_percentage_error: 18.6199 5s - loss: 8.6845 - mean_a\n",
      "Epoch 26/100\n",
      "1539/1539 [==============================] - 22s 14ms/step - loss: 8.6928 - mean_absolute_error: 14.1306 - root_mean_squared_error: 20.5217 - mean_absolute_percentage_error: 18.5055\n",
      "Epoch 27/100\n",
      "1539/1539 [==============================] - 22s 14ms/step - loss: 8.6830 - mean_absolute_error: 14.1319 - root_mean_squared_error: 20.5045 - mean_absolute_percentage_error: 18.5033 17s - loss: 8.7031 - mean_absolute_error: 14.1143 - root_mean_squared_error: 20.4751 - mean_absolute - ETA:  - ETA: 12s - loss: 8. -\n",
      "Epoch 28/100\n",
      "1539/1539 [==============================] - 23s 15ms/step - loss: 8.6776 - mean_absolute_error: 14.0950 - root_mean_squared_error: 20.4634 - mean_absolute_percentage_error: 18.4430 6s - loss: 8.6735 - mean_absolute_error: 14.0610 - root_mean_squared_error: 20.4458 - mean_absolute_perc - ETA: 5s - loss: 8.6695 - mean_absolute_error: 14.0628 - root_mean_squared_error: 20.4445 - mean_a - ETA: 3s - loss: 8.6761 - mean_absolute_error: 14.0792 - root_mean_squared_error: 20.4566 - mean_absolute_percentage_error: 18.4 - ETA: 3s - loss: 8.6766 - mean_absolute_error: 14.0805 - root_mean_square\n",
      "Epoch 29/100\n",
      "1539/1539 [==============================] - 13s 8ms/step - loss: 8.6783 - mean_absolute_error: 14.1160 - root_mean_squared_error: 20.4803 - mean_absolute_percentage_error: 18.4557\n",
      "Epoch 30/100\n",
      "1539/1539 [==============================] - 10s 7ms/step - loss: 8.6715 - mean_absolute_error: 14.0653 - root_mean_squared_error: 20.4250 - mean_absolute_percentage_error: 18.3856\n",
      "Epoch 31/100\n",
      "1539/1539 [==============================] - 15s 10ms/step - loss: 8.6547 - mean_absolute_error: 14.0272 - root_mean_squared_error: 20.3706 - mean_absolute_percentage_error: 18.3470\n",
      "Epoch 32/100\n",
      "1539/1539 [==============================] - 20s 13ms/step - loss: 8.6554 - mean_absolute_error: 14.0427 - root_mean_squared_error: 20.3882 - mean_absolute_percentage_error: 18.2957\n",
      "Epoch 33/100\n",
      "1539/1539 [==============================] - 20s 13ms/step - loss: 8.6475 - mean_absolute_error: 14.0145 - root_mean_squared_error: 20.3457 - mean_absolute_percentage_error: 18.2642 10s - loss: 8.6397 - mean_absolute_err - ETA - ETA: 3s - loss: 8.6443 - mean_absolute_error: 14.0212 - root_mean_squared_error: 20.3584 - mean_absolute_percentage_er - ETA: 2s - loss: 8.6475 - mean_absolute_error: 14.0191 - root_mean_squared_error: 20.\n",
      "Epoch 34/100\n",
      "1539/1539 [==============================] - 22s 14ms/step - loss: 8.6403 - mean_absolute_error: 14.0052 - root_mean_squared_error: 20.3370 - mean_absolute_percentage_error: 18.1960\n",
      "Epoch 35/100\n",
      "1539/1539 [==============================] - 22s 14ms/step - loss: 8.6383 - mean_absolute_error: 13.9474 - root_mean_squared_error: 20.2638 - mean_absolute_percentage_error: 18.2042 13s - loss: \n",
      "Epoch 36/100\n",
      "1539/1539 [==============================] - 22s 14ms/step - loss: 8.6236 - mean_absolute_error: 13.9609 - root_mean_squared_error: 20.2741 - mean_absolute_percentage_error: 18.1697 13s - loss: 8.6314 - mean_absolute_error: 13. - ETA: 3s - loss: 8.6267 - mean_absolute_error: 13.9357 - root_mean_squared_error: 20.24\n",
      "Epoch 37/100\n",
      "1539/1539 [==============================] - 24s 15ms/step - loss: 8.6319 - mean_absolute_error: 13.9267 - root_mean_squared_error: 20.2226 - mean_absolute_percentage_error: 18.1541\n",
      "Epoch 38/100\n",
      "1539/1539 [==============================] - 22s 15ms/step - loss: 8.6142 - mean_absolute_error: 13.9289 - root_mean_squared_error: 20.2287 - mean_absolute_percentage_error: 18.0981  - ETA: 3s - loss: 8.6180 - mean_absolute_error: 13.9545 - root_me\n",
      "Epoch 39/100\n",
      "1539/1539 [==============================] - 22s 14ms/step - loss: 8.6041 - mean_absolute_error: 13.9044 - root_mean_squared_error: 20.2013 - mean_absolute_percentage_error: 18.0394 20s - loss: 8.5794 - ETA: 10s - loss: 8.5820 - mean_absolute_error: 13.9107 - root_mean_squared_error: 20.2221 - mea - ETA: 9s - loss: 8.5787 - mean_absolute_error: 13.9168 - root_mean_squared_error: 20.2336 - mean_absolute_percentage_e - ETA: 8s - loss: 8.5779 - mean_absolute_error: 13.9102 - root_mean_squared_error: 20.2273 - m - ETA: 6s - loss: 8.5880 - mean_absolute_error: 13.9024 - root_mean_squared_error: 20.2028 - mean_absolute_percentage_ - ETA: 5s - loss: 8.5972 - me\n",
      "Epoch 40/100\n",
      "1539/1539 [==============================] - 22s 14ms/step - loss: 8.6007 - mean_absolute_error: 13.8927 - root_mean_squared_error: 20.1672 - mean_absolute_percentage_error: 18.0117\n",
      "Epoch 41/100\n",
      "1539/1539 [==============================] - 22s 14ms/step - loss: 8.6012 - mean_absolute_error: 13.8736 - root_mean_squared_error: 20.1500 - mean_absolute_percentage_error: 18.0202 4s - loss: 8.6014 - mean_absolute_error: 13.9060 - root_mean_s\n",
      "Epoch 42/100\n",
      "1539/1539 [==============================] - 24s 15ms/step - loss: 8.5912 - mean_absolute_error: 13.8685 - root_mean_squared_error: 20.1494 - mean_absolute_percentage_error: 18.0304 17s  - ETA: 10s - loss: 8.6011 - mean_absolute_error: 13.8541 - root_mean_squared_error: 20.1418 -  - ETA: 7s  - ETA: 0s - loss: 8.5893 - mean_absolute_error: 13.8613 - root_mean_squared_error: 20.1382 - mean_absolute_percentage_error: 18\n",
      "Epoch 43/100\n",
      "1539/1539 [==============================] - 22s 14ms/step - loss: 8.5880 - mean_absolute_error: 13.8354 - root_mean_squared_error: 20.0955 - mean_absolute_percentage_error: 17.9344\n",
      "Epoch 44/100\n",
      "1539/1539 [==============================] - 22s 14ms/step - loss: 8.5799 - mean_absolute_error: 13.8179 - root_mean_squared_error: 20.0633 - mean_absolute_percentage_error: 17.8749 25s\n",
      "Epoch 45/100\n",
      "1539/1539 [==============================] - 22s 14ms/step - loss: 8.5765 - mean_absolute_error: 13.8088 - root_mean_squared_error: 20.0580 - mean_absolute_percentage_error: 17.8928\n",
      "Epoch 46/100\n",
      "1539/1539 [==============================] - 22s 14ms/step - loss: 8.5793 - mean_absolute_error: 13.7681 - root_mean_squared_error: 20.0015 - mean_absolute_percentage_error: 17.8526 2 - ETA: 8s - loss: 8.5621 - mean_absolute_error: 13.7652 - root_mean_squared_error: 19.9857 - mean_a - ETA: 6s - loss: 8.5695 - mean_absolute\n",
      "Epoch 47/100\n",
      "1539/1539 [==============================] - 23s 15ms/step - loss: 8.5644 - mean_absolute_error: 13.7711 - root_mean_squared_error: 20.0025 - mean_absolute_percentage_error: 17.8001 1s - loss: 8.5636 - mean_absolute_error: 13.7728 - root_mean_squared_error: 20.0030 - mean_absolute_percent\n",
      "Epoch 48/100\n",
      "1539/1539 [==============================] - 22s 14ms/step - loss: 8.5562 - mean_absolute_error: 13.7595 - root_mean_squared_error: 19.9798 - mean_absolute_percentage_error: 17.7781 3s - loss: 8.5460 - mean_absolute_error: 13.7290 - root_mean_squ\n",
      "Epoch 49/100\n",
      "1539/1539 [==============================] - 22s 14ms/step - loss: 8.5461 - mean_absolute_error: 13.7399 - root_mean_squared_error: 19.9486 - mean_absolute_percentage_error: 17.7551 20s - loss: 8.5985 - mean_absolute_e - ETA: 10s - loss: 8.5638 - mean_absolute_error - ETA: 6s - loss: 8.55\n",
      "Epoch 50/100\n",
      "1539/1539 [==============================] - 22s 14ms/step - loss: 8.5533 - mean_absolute_error: 13.7331 - root_mean_squared_error: 19.9427 - mean_absolute_percentage_error: 17.7428\n",
      "Epoch 51/100\n",
      "1539/1539 [==============================] - 22s 14ms/step - loss: 8.5362 - mean_absolute_error: 13.7196 - root_mean_squared_error: 19.9243 - mean_absolute_percentage_error: 17.6504 7s - loss: 8.\n",
      "Epoch 52/100\n",
      "1539/1539 [==============================] - 23s 15ms/step - loss: 8.5279 - mean_absolute_error: 13.7111 - root_mean_squared_error: 19.9128 - mean_absolute_percentage_error: 17.6540\n",
      "Epoch 53/100\n",
      "1539/1539 [==============================] - 22s 14ms/step - loss: 8.5142 - mean_absolute_error: 13.6610 - root_mean_squared_error: 19.8336 - mean_absolute_percentage_error: 17.6227 1s - loss: 8.5216 - mean_absolute_error: 13.6631 - root_mean_squared_error: 19.8405 - mean_abso\n",
      "Epoch 54/100\n",
      "1539/1539 [==============================] - 22s 14ms/step - loss: 8.5199 - mean_absolute_error: 13.6555 - root_mean_squared_error: 19.8346 - mean_absolute_percentage_error: 17.5677 1s - loss: 8.5204 - mean_absolute_error: 13.6387 - root_mean_squared_error: 19.8012 - mean_absolute_perc\n",
      "Epoch 55/100\n",
      "1539/1539 [==============================] - 22s 14ms/step - loss: 8.5124 - mean_absolute_error: 13.6535 - root_mean_squared_error: 19.8237 - mean_absolute_percentage_error: 17.5660\n",
      "Epoch 56/100\n",
      "1539/1539 [==============================] - 22s 14ms/step - loss: 8.4965 - mean_absolute_error: 13.6333 - root_mean_squared_error: 19.7931 - mean_absolute_percentage_error: 17.5563\n",
      "Epoch 57/100\n"
     ]
    },
    {
     "name": "stdout",
     "output_type": "stream",
     "text": [
      "1539/1539 [==============================] - 23s 15ms/step - loss: 8.4997 - mean_absolute_error: 13.6196 - root_mean_squared_error: 19.7851 - mean_absolute_percentage_error: 17.5074 5s - loss: 8.4908 - mean_absolute_error - ETA: 0s - loss: 8.4988 - mean_absolute_error: 13.6171 - root_mean_squared_error: 19.7882 - mean_absolute_percentage_err\n",
      "Epoch 58/100\n",
      "1539/1539 [==============================] - 13s 8ms/step - loss: 8.4892 - mean_absolute_error: 13.6037 - root_mean_squared_error: 19.7557 - mean_absolute_percentage_error: 17.4894\n",
      "Epoch 59/100\n",
      "1539/1539 [==============================] - 10s 7ms/step - loss: 8.4772 - mean_absolute_error: 13.5747 - root_mean_squared_error: 19.6999 - mean_absolute_percentage_error: 17.4398\n",
      "Epoch 60/100\n",
      "1539/1539 [==============================] - 11s 7ms/step - loss: 8.4751 - mean_absolute_error: 13.5788 - root_mean_squared_error: 19.7019 - mean_absolute_percentage_error: 17.4250\n",
      "Epoch 61/100\n",
      "1539/1539 [==============================] - 12s 7ms/step - loss: 8.4662 - mean_absolute_error: 13.5888 - root_mean_squared_error: 19.7253 - mean_absolute_percentage_error: 17.3135\n",
      "Epoch 62/100\n",
      "1539/1539 [==============================] - 12s 8ms/step - loss: 8.4522 - mean_absolute_error: 13.5540 - root_mean_squared_error: 19.6674 - mean_absolute_percentage_error: 17.3894\n",
      "Epoch 63/100\n",
      "1539/1539 [==============================] - 12s 8ms/step - loss: 8.4656 - mean_absolute_error: 13.5280 - root_mean_squared_error: 19.6410 - mean_absolute_percentage_error: 17.3387\n",
      "Epoch 64/100\n",
      "1539/1539 [==============================] - 12s 8ms/step - loss: 8.4514 - mean_absolute_error: 13.5437 - root_mean_squared_error: 19.6538 - mean_absolute_percentage_error: 17.3026\n",
      "Epoch 65/100\n",
      "1539/1539 [==============================] - 12s 8ms/step - loss: 8.4557 - mean_absolute_error: 13.5033 - root_mean_squared_error: 19.6108 - mean_absolute_percentage_error: 17.2439\n",
      "Epoch 66/100\n",
      "1539/1539 [==============================] - 12s 8ms/step - loss: 8.4440 - mean_absolute_error: 13.5161 - root_mean_squared_error: 19.6118 - mean_absolute_percentage_error: 17.2764\n",
      "Epoch 67/100\n",
      "1539/1539 [==============================] - 12s 8ms/step - loss: 8.4450 - mean_absolute_error: 13.4868 - root_mean_squared_error: 19.5767 - mean_absolute_percentage_error: 17.2583: 10s - loss: 8.4438 - mean_absolute_error: 13.3636 - root_mean_sq\n",
      "Epoch 68/100\n",
      "1539/1539 [==============================] - 12s 8ms/step - loss: 8.4335 - mean_absolute_error: 13.4686 - root_mean_squared_error: 19.5509 - mean_absolute_percentage_error: 17.2433\n",
      "Epoch 69/100\n",
      "1539/1539 [==============================] - 12s 8ms/step - loss: 8.4199 - mean_absolute_error: 13.4488 - root_mean_squared_error: 19.5177 - mean_absolute_percentage_error: 17.1925\n",
      "Epoch 70/100\n",
      "1539/1539 [==============================] - 12s 8ms/step - loss: 8.4161 - mean_absolute_error: 13.4658 - root_mean_squared_error: 19.5390 - mean_absolute_percentage_error: 17.2203\n",
      "Epoch 71/100\n",
      "1539/1539 [==============================] - 13s 8ms/step - loss: 8.5310 - mean_absolute_error: 13.7419 - root_mean_squared_error: 19.8998 - mean_absolute_percentage_error: 18.1071: 9s - loss: 8.4100 - mean_absolute_error: 13.3908 - root_mean_squared_error: 19.4816 - mean_absolute_pe\n",
      "Epoch 72/100\n",
      "1539/1539 [==============================] - 13s 8ms/step - loss: 8.5236 - mean_absolute_error: 13.5880 - root_mean_squared_error: 19.6928 - mean_absolute_percentage_error: 17.7916: 6s - loss: 8.5632\n",
      "Epoch 73/100\n",
      "1539/1539 [==============================] - 13s 8ms/step - loss: 8.4193 - mean_absolute_error: 13.4309 - root_mean_squared_error: 19.4799 - mean_absolute_percentage_error: 17.3032: 1s - loss: 8.4211 - mean_absolute_error: 13.4244 - root_mean_squared_error: 19.4453 - mean_absolute_perce\n",
      "Epoch 74/100\n",
      "1539/1539 [==============================] - 12s 8ms/step - loss: 8.4150 - mean_absolute_error: 13.4198 - root_mean_squared_error: 19.4734 - mean_absolute_percentage_error: 17.1403: 0s - loss: 8.4134 - mean_absolute_error: 13.4127 - root_mean_squared_error: 19.4602 - mean_absolute_percentage_error:\n",
      "Epoch 75/100\n",
      "1539/1539 [==============================] - 12s 8ms/step - loss: 8.3940 - mean_absolute_error: 13.4054 - root_mean_squared_error: 19.4372 - mean_absolute_percentage_error: 17.1352\n",
      "Epoch 76/100\n",
      "1539/1539 [==============================] - 12s 8ms/step - loss: 8.3788 - mean_absolute_error: 13.3839 - root_mean_squared_error: 19.3967 - mean_absolute_percentage_error: 17.0824\n",
      "Epoch 77/100\n",
      "1539/1539 [==============================] - 12s 8ms/step - loss: 8.3878 - mean_absolute_error: 13.3735 - root_mean_squared_error: 19.3821 - mean_absolute_percentage_error: 17.0265: 3s - loss: 8.3873 - mean_absolute_error: 13.3510 - root_mean_sq\n",
      "Epoch 78/100\n",
      "1539/1539 [==============================] - 12s 8ms/step - loss: 8.3816 - mean_absolute_error: 13.3702 - root_mean_squared_error: 19.3770 - mean_absolute_percentage_error: 17.0794\n",
      "Epoch 79/100\n",
      "1539/1539 [==============================] - 12s 8ms/step - loss: 8.3753 - mean_absolute_error: 13.3396 - root_mean_squared_error: 19.3312 - mean_absolute_percentage_error: 17.0301\n",
      "Epoch 80/100\n",
      "1539/1539 [==============================] - 10s 7ms/step - loss: 8.3646 - mean_absolute_error: 13.3349 - root_mean_squared_error: 19.3341 - mean_absolute_percentage_error: 16.9574\n",
      "Epoch 81/100\n",
      "1539/1539 [==============================] - 10s 7ms/step - loss: 8.3556 - mean_absolute_error: 13.3233 - root_mean_squared_error: 19.3023 - mean_absolute_percentage_error: 16.9522\n",
      "Epoch 82/100\n",
      "1539/1539 [==============================] - 11s 7ms/step - loss: 8.3524 - mean_absolute_error: 13.3258 - root_mean_squared_error: 19.2928 - mean_absolute_percentage_error: 16.9357\n",
      "Epoch 83/100\n",
      "1539/1539 [==============================] - 11s 7ms/step - loss: 8.3436 - mean_absolute_error: 13.2976 - root_mean_squared_error: 19.2692 - mean_absolute_percentage_error: 16.8947\n",
      "Epoch 84/100\n",
      "1539/1539 [==============================] - 12s 8ms/step - loss: 8.3462 - mean_absolute_error: 13.2622 - root_mean_squared_error: 19.2108 - mean_absolute_percentage_error: 16.8435: 2s - loss: 8.3514 - mean_absolute_error: 13.2587 - root_mean_squared_error: 19.22\n",
      "Epoch 85/100\n",
      "1539/1539 [==============================] - 12s 8ms/step - loss: 8.3367 - mean_absolute_error: 13.2819 - root_mean_squared_error: 19.2188 - mean_absolute_percentage_error: 16.8278: 4s - loss: 8.3442 - mean_absolute_error: 13.2733 - root_mean_squared_error: 19.2176 - mean_absolute_percentage - ETA: 3s - loss: 8.3463 - mean_absolute_error: 13.2620 - root_mean_squared_er\n",
      "Epoch 86/100\n",
      "1539/1539 [==============================] - 12s 8ms/step - loss: 8.3359 - mean_absolute_error: 13.2530 - root_mean_squared_error: 19.1873 - mean_absolute_percentage_error: 16.8586\n",
      "Epoch 87/100\n",
      "1539/1539 [==============================] - 12s 8ms/step - loss: 8.3398 - mean_absolute_error: 13.2478 - root_mean_squared_error: 19.1890 - mean_absolute_percentage_error: 16.8944\n",
      "Epoch 88/100\n",
      "1539/1539 [==============================] - 12s 8ms/step - loss: 8.4505 - mean_absolute_error: 13.5658 - root_mean_squared_error: 19.6087 - mean_absolute_percentage_error: 17.9163\n",
      "Epoch 89/100\n",
      "1539/1539 [==============================] - 12s 8ms/step - loss: 8.4280 - mean_absolute_error: 13.3759 - root_mean_squared_error: 19.3487 - mean_absolute_percentage_error: 17.5500\n",
      "Epoch 90/100\n",
      "1539/1539 [==============================] - 12s 8ms/step - loss: 8.3252 - mean_absolute_error: 13.2096 - root_mean_squared_error: 19.1200 - mean_absolute_percentage_error: 17.0037: 4s - loss: 8.3365 - mean_absolute_error: 13.218 - ETA: 0s - loss: 8.3273 - mean_absolute_error: 13.2146 - root_mean_squared_error: 19.1263 - mean_absolute_percentage_error: 17.016\n",
      "Epoch 91/100\n",
      "1539/1539 [==============================] - 12s 8ms/step - loss: 8.3151 - mean_absolute_error: 13.1942 - root_mean_squared_error: 19.1023 - mean_absolute_percentage_error: 16.8317\n",
      "Epoch 92/100\n",
      "1539/1539 [==============================] - 12s 8ms/step - loss: 8.3102 - mean_absolute_error: 13.2144 - root_mean_squared_error: 19.1243 - mean_absolute_percentage_error: 16.8152\n",
      "Epoch 93/100\n",
      "1539/1539 [==============================] - 12s 8ms/step - loss: 8.2943 - mean_absolute_error: 13.1838 - root_mean_squared_error: 19.0681 - mean_absolute_percentage_error: 16.7535\n",
      "Epoch 94/100\n",
      "1539/1539 [==============================] - 12s 8ms/step - loss: 8.3069 - mean_absolute_error: 13.1802 - root_mean_squared_error: 19.0581 - mean_absolute_percentage_error: 16.7186: 5s - loss: 8.2933 - mean_absolute_error: \n",
      "Epoch 95/100\n",
      "1539/1539 [==============================] - 12s 8ms/step - loss: 8.2864 - mean_absolute_error: 13.1765 - root_mean_squared_error: 19.0608 - mean_absolute_percentage_error: 16.6882: 6s - loss: 8.25\n",
      "Epoch 96/100\n",
      "1539/1539 [==============================] - 12s 8ms/step - loss: 8.2767 - mean_absolute_error: 13.1570 - root_mean_squared_error: 19.0358 - mean_absolute_percentage_error: 16.6282\n",
      "Epoch 97/100\n",
      "1539/1539 [==============================] - 12s 8ms/step - loss: 8.2743 - mean_absolute_error: 13.1448 - root_mean_squared_error: 19.0110 - mean_absolute_percentage_error: 16.5960\n",
      "Epoch 98/100\n",
      "1539/1539 [==============================] - 12s 8ms/step - loss: 8.2796 - mean_absolute_error: 13.1396 - root_mean_squared_error: 18.9999 - mean_absolute_percentage_error: 16.6080\n",
      "Epoch 99/100\n",
      "1539/1539 [==============================] - 10s 7ms/step - loss: 8.2556 - mean_absolute_error: 13.1047 - root_mean_squared_error: 18.9435 - mean_absolute_percentage_error: 16.5384\n",
      "Epoch 100/100\n",
      "1539/1539 [==============================] - 10s 7ms/step - loss: 8.2500 - mean_absolute_error: 13.1071 - root_mean_squared_error: 18.9519 - mean_absolute_percentage_error: 16.5230\n"
     ]
    },
    {
     "data": {
      "text/plain": [
       "<keras.callbacks.History at 0x20e4a184040>"
      ]
     },
     "execution_count": 39,
     "metadata": {},
     "output_type": "execute_result"
    }
   ],
   "source": [
    "model15.fit((Wt15,Xt15), yt15, \n",
    "            epochs = 100, \n",
    "            verbose = 1)"
   ]
  },
  {
   "cell_type": "code",
   "execution_count": 40,
   "metadata": {},
   "outputs": [
    {
     "name": "stderr",
     "output_type": "stream",
     "text": [
      "WARNING:absl:Function `_wrapped_model` contains input name(s) WideInput, DeepInput with unsupported characters which will be renamed to wideinput, deepinput in the SavedModel.\n",
      "WARNING:absl:Found untraced functions such as lstm_cell_5_layer_call_fn, lstm_cell_5_layer_call_and_return_conditional_losses, lstm_cell_6_layer_call_fn, lstm_cell_6_layer_call_and_return_conditional_losses, lstm_cell_5_layer_call_fn while saving (showing 5 of 10). These functions will not be directly callable after loading.\n"
     ]
    },
    {
     "name": "stdout",
     "output_type": "stream",
     "text": [
      "INFO:tensorflow:Assets written to: my_dir/8e-15\\assets\n"
     ]
    },
    {
     "name": "stderr",
     "output_type": "stream",
     "text": [
      "INFO:tensorflow:Assets written to: my_dir/8e-15\\assets\n",
      "WARNING:absl:<keras.layers.recurrent.LSTMCell object at 0x0000020E4A146430> has the same name 'LSTMCell' as a built-in Keras object. Consider renaming <class 'keras.layers.recurrent.LSTMCell'> to avoid naming conflicts when loading with `tf.keras.models.load_model`. If renaming is not possible, pass the object in the `custom_objects` parameter of the load function.\n",
      "WARNING:absl:<keras.layers.recurrent.LSTMCell object at 0x0000020E4884B2B0> has the same name 'LSTMCell' as a built-in Keras object. Consider renaming <class 'keras.layers.recurrent.LSTMCell'> to avoid naming conflicts when loading with `tf.keras.models.load_model`. If renaming is not possible, pass the object in the `custom_objects` parameter of the load function.\n",
      "WARNING:absl:<keras.layers.recurrent.LSTMCell object at 0x0000020E487BE820> has the same name 'LSTMCell' as a built-in Keras object. Consider renaming <class 'keras.layers.recurrent.LSTMCell'> to avoid naming conflicts when loading with `tf.keras.models.load_model`. If renaming is not possible, pass the object in the `custom_objects` parameter of the load function.\n"
     ]
    }
   ],
   "source": [
    "model15.save(\"my_dir/8e-15\")"
   ]
  },
  {
   "cell_type": "code",
   "execution_count": 41,
   "metadata": {},
   "outputs": [],
   "source": [
    "metrics15 = pd.DataFrame(model15.history.history)"
   ]
  },
  {
   "cell_type": "code",
   "execution_count": 42,
   "metadata": {},
   "outputs": [
    {
     "data": {
      "text/plain": [
       "<AxesSubplot:>"
      ]
     },
     "execution_count": 42,
     "metadata": {},
     "output_type": "execute_result"
    },
    {
     "data": {
      "image/png": "[encoded data removed]",
      "text/plain": [
       "<Figure size 432x288 with 1 Axes>"
      ]
     },
     "metadata": {
      "needs_background": "light"
     },
     "output_type": "display_data"
    }
   ],
   "source": [
    "metrics15[['loss']].plot()"
   ]
  },
  {
   "cell_type": "code",
   "execution_count": 40,
   "metadata": {},
   "outputs": [],
   "source": [
    "model15 = keras.models.load_model(\"my_dir/8e-15\", custom_objects={'GEH_loss': GEH_loss})"
   ]
  },
  {
   "cell_type": "code",
   "execution_count": 41,
   "metadata": {},
   "outputs": [
    {
     "data": {
      "text/plain": [
       "array([[ 29.312712,  16.555748,  30.564772,  64.36308 ,  26.770935,\n",
       "          5.632194],\n",
       "       [ 27.986227,  15.669255,  25.911863,  63.534332,  26.522694,\n",
       "          5.642757],\n",
       "       [ 28.778177,  14.98462 ,  28.677515,  66.82657 ,  28.523735,\n",
       "          6.091917],\n",
       "       ...,\n",
       "       [ 46.986347,  46.87968 ,  60.395134, 120.48709 ,  59.323196,\n",
       "          9.422502],\n",
       "       [ 45.709133,  43.946823,  64.07001 , 123.481995,  57.61915 ,\n",
       "          9.276271],\n",
       "       [ 40.564938,  38.032116,  50.008743, 104.32341 ,  47.990814,\n",
       "         12.127048]], dtype=float32)"
      ]
     },
     "execution_count": 41,
     "metadata": {},
     "output_type": "execute_result"
    }
   ],
   "source": [
    "model15.predict((Wv15,Xv15))"
   ]
  },
  {
   "cell_type": "markdown",
   "metadata": {},
   "source": [
    "### Evaluation on inverse_transform"
   ]
  },
  {
   "cell_type": "code",
   "execution_count": null,
   "metadata": {},
   "outputs": [],
   "source": [
    "test_predictions15 = model15.predict((Wv15,Xv15))\n",
    "\n",
    "\n",
    "MSE15 = mean_squared_error(yv15,test_predictions15)\n",
    "\n",
    "MAE15 = mean_absolute_error(yv15,test_predictions15)\n",
    "\n",
    "RMSE15 = np.sqrt(MSE15)\n",
    "\n",
    "MAPE15 = mean_absolute_percentage_error(yv15,test_predictions15)*100\n",
    "\n",
    "eval15 = [MSE15, MAE15, RMSE15, MAPE15]\n",
    "print(eval15)"
   ]
  },
  {
   "cell_type": "code",
   "execution_count": null,
   "metadata": {},
   "outputs": [],
   "source": [
    "GEH, count = ga.GEH(np.asarray(yv15), np.asarray(test_predictions15))\n",
    "GEH15 = count/GEH.size\n",
    "print(GEH15)"
   ]
  },
  {
   "cell_type": "markdown",
   "metadata": {},
   "source": [
    "# 30 mins ahead"
   ]
  },
  {
   "cell_type": "code",
   "execution_count": 44,
   "metadata": {},
   "outputs": [],
   "source": [
    "def build_model_30(hp):\n",
    "    # Inputs\n",
    "    channel_Wide = keras.layers.Input(shape=Wt30.shape[1:], name=\"WideInput\")\n",
    "    channel_Deep = keras.layers.Input(shape=Xt30.shape[1:], name=\"DeepInput\")\n",
    "    units = hp.Int(\"units\", min_value=1, max_value=100, step=1)\n",
    "    \n",
    "    \n",
    "    # Wide Model\n",
    "    flatten_30w = keras.layers.TimeDistributed(keras.layers.Flatten())(channel_Wide)\n",
    "    Bi_30 = keras.layers.Bidirectional(\n",
    "        keras.layers.LSTM(units=units, return_sequences=True),\n",
    "        merge_mode=\"ave\"\n",
    "    )(flatten_30w)\n",
    "    \n",
    "    \n",
    "    # Deep Model\n",
    "    # CNN \n",
    "    CNN_30 = keras.layers.TimeDistributed(\n",
    "        keras.layers.Conv2D(filters=hp.Int(\"filters\", min_value=32, max_value=512, step=32),\n",
    "                            kernel_size=hp.Choice(\"kernel_size\", [2, 3]), activation='relu'))(channel_Deep)\n",
    "    flatten_30 = keras.layers.TimeDistributed(keras.layers.Flatten())(CNN_30)\n",
    "    # LSTM          \n",
    "    LSTM_30 = keras.layers.LSTM(units=units, activation='relu', return_sequences=True)(flatten_30)\n",
    "\n",
    "    \n",
    "    # Concatenation \n",
    "    concat = keras.layers.concatenate([Bi_30, LSTM_30], axis=1)\n",
    "\n",
    "    # Attention\n",
    "    Att_30 = SeqSelfAttention(attention_activation='sigmoid')(concat)\n",
    "    merge = keras.layers.Flatten()(Att_30)\n",
    "\n",
    "    \n",
    "    # Output\n",
    "    output = keras.layers.Dense(n_features, name= \"output\")(merge)\n",
    "    \n",
    "    # Model\n",
    "    model_30 = keras.Model(inputs=[channel_Wide,channel_Deep], outputs=[output])\n",
    "\n",
    "    # Compile\n",
    "    model_30.compile(optimizer=keras.optimizers.Adam(hp.Choice(\"learning_rate\", [1e-2, 1e-3, 1e-4])), \n",
    "        loss=GEH_loss, metrics=['MeanAbsoluteError','RootMeanSquaredError','MeanAbsolutePercentageError'])\n",
    "                    \n",
    "    return model_30"
   ]
  },
  {
   "cell_type": "code",
   "execution_count": 45,
   "metadata": {},
   "outputs": [
    {
     "name": "stdout",
     "output_type": "stream",
     "text": [
      "INFO:tensorflow:Reloading Oracle from existing project C:\\RunsOak\\8e-30\\oracle.json\n",
      "INFO:tensorflow:Reloading Tuner from C:\\RunsOak\\8e-30\\tuner0.json\n"
     ]
    }
   ],
   "source": [
    "tuner30 = RandomSearch(\n",
    "    build_model_30,\n",
    "    objective=\"val_loss\",\n",
    "    max_trials=60,\n",
    "    executions_per_trial=2,\n",
    "    overwrite=False,\n",
    "    directory=os.path.normpath('C:/RunsOak'),\n",
    "    project_name=\"8e-30\",\n",
    ")"
   ]
  },
  {
   "cell_type": "code",
   "execution_count": 46,
   "metadata": {},
   "outputs": [
    {
     "name": "stdout",
     "output_type": "stream",
     "text": [
      "Search space summary\n",
      "Default search space size: 4\n",
      "units (Int)\n",
      "{'default': None, 'conditions': [], 'min_value': 1, 'max_value': 100, 'step': 1, 'sampling': None}\n",
      "filters (Int)\n",
      "{'default': None, 'conditions': [], 'min_value': 32, 'max_value': 512, 'step': 32, 'sampling': None}\n",
      "kernel_size (Choice)\n",
      "{'default': 2, 'conditions': [], 'values': [2, 3], 'ordered': True}\n",
      "learning_rate (Choice)\n",
      "{'default': 0.01, 'conditions': [], 'values': [0.01, 0.001, 0.0001], 'ordered': True}\n"
     ]
    }
   ],
   "source": [
    "tuner30.search_space_summary()"
   ]
  },
  {
   "cell_type": "code",
   "execution_count": 46,
   "metadata": {},
   "outputs": [
    {
     "name": "stdout",
     "output_type": "stream",
     "text": [
      "Trial 61 Complete [00h 19m 27s]\n",
      "val_loss: 8.891591548919678\n",
      "\n",
      "Best val_loss So Far: 8.739480972290039\n",
      "Total elapsed time: 11h 25m 43s\n",
      "INFO:tensorflow:Oracle triggered exit\n"
     ]
    }
   ],
   "source": [
    "tuner30.search((Wt30,Xt30), yt30, epochs=200,\n",
    "            validation_split = val_percent,\n",
    "            callbacks=[early_stop],\n",
    "            verbose=2)"
   ]
  },
  {
   "cell_type": "code",
   "execution_count": 47,
   "metadata": {},
   "outputs": [
    {
     "name": "stdout",
     "output_type": "stream",
     "text": [
      "Results summary\n",
      "Results in C:\\RunsOak\\8e-30\n",
      "Showing 1 best trials\n",
      "Objective(name='val_loss', direction='min')\n",
      "Trial summary\n",
      "Hyperparameters:\n",
      "units: 54\n",
      "filters: 32\n",
      "kernel_size: 3\n",
      "learning_rate: 0.001\n",
      "Score: 8.739480972290039\n"
     ]
    }
   ],
   "source": [
    "tuner30.results_summary(1)"
   ]
  },
  {
   "cell_type": "markdown",
   "metadata": {},
   "source": [
    "### Best model"
   ]
  },
  {
   "cell_type": "code",
   "execution_count": 48,
   "metadata": {},
   "outputs": [],
   "source": [
    "best_hp30 = tuner30.get_best_hyperparameters()[0]\n",
    "model30 = tuner30.hypermodel.build(best_hp30)"
   ]
  },
  {
   "cell_type": "code",
   "execution_count": 49,
   "metadata": {},
   "outputs": [
    {
     "data": {
      "text/plain": [
       "['8e-30']"
      ]
     },
     "execution_count": 49,
     "metadata": {},
     "output_type": "execute_result"
    }
   ],
   "source": [
    "scaler_filename = \"8e-30\"\n",
    "joblib.dump(best_hp30, scaler_filename) "
   ]
  },
  {
   "cell_type": "code",
   "execution_count": 50,
   "metadata": {},
   "outputs": [
    {
     "name": "stdout",
     "output_type": "stream",
     "text": [
      "Model: \"model_1\"\n",
      "__________________________________________________________________________________________________\n",
      " Layer (type)                   Output Shape         Param #     Connected to                     \n",
      "==================================================================================================\n",
      " DeepInput (InputLayer)         [(None, 3, 5, 6, 1)  0           []                               \n",
      "                                ]                                                                 \n",
      "                                                                                                  \n",
      " WideInput (InputLayer)         [(None, 3, 3, 6)]    0           []                               \n",
      "                                                                                                  \n",
      " time_distributed_4 (TimeDistri  (None, 3, 3, 4, 32)  320        ['DeepInput[0][0]']              \n",
      " buted)                                                                                           \n",
      "                                                                                                  \n",
      " time_distributed_3 (TimeDistri  (None, 3, 18)       0           ['WideInput[0][0]']              \n",
      " buted)                                                                                           \n",
      "                                                                                                  \n",
      " time_distributed_5 (TimeDistri  (None, 3, 384)      0           ['time_distributed_4[0][0]']     \n",
      " buted)                                                                                           \n",
      "                                                                                                  \n",
      " bidirectional_1 (Bidirectional  (None, 3, 54)       31536       ['time_distributed_3[0][0]']     \n",
      " )                                                                                                \n",
      "                                                                                                  \n",
      " lstm_3 (LSTM)                  (None, 3, 54)        94824       ['time_distributed_5[0][0]']     \n",
      "                                                                                                  \n",
      " concatenate_1 (Concatenate)    (None, 6, 54)        0           ['bidirectional_1[0][0]',        \n",
      "                                                                  'lstm_3[0][0]']                 \n",
      "                                                                                                  \n",
      " seq_self_attention_1 (SeqSelfA  (None, 6, 54)       3521        ['concatenate_1[0][0]']          \n",
      " ttention)                                                                                        \n",
      "                                                                                                  \n",
      " flatten_5 (Flatten)            (None, 324)          0           ['seq_self_attention_1[0][0]']   \n",
      "                                                                                                  \n",
      " output (Dense)                 (None, 6)            1950        ['flatten_5[0][0]']              \n",
      "                                                                                                  \n",
      "==================================================================================================\n",
      "Total params: 132,151\n",
      "Trainable params: 132,151\n",
      "Non-trainable params: 0\n",
      "__________________________________________________________________________________________________\n"
     ]
    }
   ],
   "source": [
    "model30.summary()"
   ]
  },
  {
   "cell_type": "code",
   "execution_count": 51,
   "metadata": {},
   "outputs": [
    {
     "name": "stdout",
     "output_type": "stream",
     "text": [
      "Epoch 1/100\n",
      "1539/1539 [==============================] - 18s 7ms/step - loss: 12.0206 - mean_absolute_error: 25.0468 - root_mean_squared_error: 41.9461 - mean_absolute_percentage_error: 35.7960\n",
      "Epoch 2/100\n",
      "1539/1539 [==============================] - 11s 7ms/step - loss: 9.9999 - mean_absolute_error: 18.2725 - root_mean_squared_error: 26.6229 - mean_absolute_percentage_error: 25.3745\n",
      "Epoch 3/100\n",
      "1539/1539 [==============================] - 11s 7ms/step - loss: 9.7748 - mean_absolute_error: 17.6896 - root_mean_squared_error: 25.6609 - mean_absolute_percentage_error: 24.0223\n",
      "Epoch 4/100\n",
      "1539/1539 [==============================] - 11s 7ms/step - loss: 9.3938 - mean_absolute_error: 16.8638 - root_mean_squared_error: 24.2707 - mean_absolute_percentage_error: 22.4744\n",
      "Epoch 5/100\n",
      "1539/1539 [==============================] - 11s 7ms/step - loss: 9.3094 - mean_absolute_error: 16.5541 - root_mean_squared_error: 23.8761 - mean_absolute_percentage_error: 21.8857: 4s - loss: 9.3456 - mean_absolute_\n",
      "Epoch 6/100\n",
      "1539/1539 [==============================] - 11s 7ms/step - loss: 9.2487 - mean_absolute_error: 16.2853 - root_mean_squared_error: 23.5367 - mean_absolute_percentage_error: 21.4151\n",
      "Epoch 7/100\n",
      "1539/1539 [==============================] - 11s 7ms/step - loss: 9.1990 - mean_absolute_error: 16.0878 - root_mean_squared_error: 23.2481 - mean_absolute_percentage_error: 21.1177: 0s - loss: 9.2024 - mean_absolute_error: 16.1014 - root_mean_squared_error: 23.2659 - mean_absolute_percentage_erro\n",
      "Epoch 8/100\n",
      "1539/1539 [==============================] - 11s 7ms/step - loss: 9.1630 - mean_absolute_error: 15.9278 - root_mean_squared_error: 23.0383 - mean_absolute_percentage_error: 20.8443\n",
      "Epoch 9/100\n",
      "1539/1539 [==============================] - 11s 7ms/step - loss: 9.1272 - mean_absolute_error: 15.7882 - root_mean_squared_error: 22.8545 - mean_absolute_percentage_error: 20.6414\n",
      "Epoch 10/100\n",
      "1539/1539 [==============================] - 11s 7ms/step - loss: 9.1000 - mean_absolute_error: 15.7131 - root_mean_squared_error: 22.7594 - mean_absolute_percentage_error: 20.4672\n",
      "Epoch 11/100\n",
      "1539/1539 [==============================] - 11s 7ms/step - loss: 9.0997 - mean_absolute_error: 15.6067 - root_mean_squared_error: 22.6168 - mean_absolute_percentage_error: 20.3862\n",
      "Epoch 12/100\n",
      "1539/1539 [==============================] - 11s 7ms/step - loss: 9.0924 - mean_absolute_error: 15.5597 - root_mean_squared_error: 22.5692 - mean_absolute_percentage_error: 20.2401\n",
      "Epoch 13/100\n",
      "1539/1539 [==============================] - 11s 7ms/step - loss: 9.0784 - mean_absolute_error: 15.5057 - root_mean_squared_error: 22.5151 - mean_absolute_percentage_error: 20.1761\n",
      "Epoch 14/100\n",
      "1539/1539 [==============================] - 11s 7ms/step - loss: 9.0559 - mean_absolute_error: 15.4195 - root_mean_squared_error: 22.3797 - mean_absolute_percentage_error: 20.1468\n",
      "Epoch 15/100\n",
      "1539/1539 [==============================] - 11s 7ms/step - loss: 9.0571 - mean_absolute_error: 15.3811 - root_mean_squared_error: 22.3450 - mean_absolute_percentage_error: 20.0578\n",
      "Epoch 16/100\n",
      "1539/1539 [==============================] - 11s 7ms/step - loss: 9.0470 - mean_absolute_error: 15.3369 - root_mean_squared_error: 22.2751 - mean_absolute_percentage_error: 19.9639\n",
      "Epoch 17/100\n",
      "1539/1539 [==============================] - 11s 7ms/step - loss: 9.0369 - mean_absolute_error: 15.3164 - root_mean_squared_error: 22.2543 - mean_absolute_percentage_error: 19.9186\n",
      "Epoch 18/100\n",
      "1539/1539 [==============================] - 11s 7ms/step - loss: 9.0190 - mean_absolute_error: 15.3014 - root_mean_squared_error: 22.2339 - mean_absolute_percentage_error: 19.9348\n",
      "Epoch 19/100\n",
      "1539/1539 [==============================] - 11s 7ms/step - loss: 9.0200 - mean_absolute_error: 15.2280 - root_mean_squared_error: 22.1381 - mean_absolute_percentage_error: 19.8369\n",
      "Epoch 20/100\n",
      "1539/1539 [==============================] - 11s 7ms/step - loss: 9.0097 - mean_absolute_error: 15.2218 - root_mean_squared_error: 22.1334 - mean_absolute_percentage_error: 19.7815\n",
      "Epoch 21/100\n",
      "1539/1539 [==============================] - 11s 7ms/step - loss: 9.0029 - mean_absolute_error: 15.1933 - root_mean_squared_error: 22.1046 - mean_absolute_percentage_error: 19.7649: 4s - loss: 8.9743 - mean_absolute_error: 15\n",
      "Epoch 22/100\n",
      "1539/1539 [==============================] - 11s 7ms/step - loss: 9.0075 - mean_absolute_error: 15.1240 - root_mean_squared_error: 22.0268 - mean_absolute_percentage_error: 19.6808: 5s - loss: 8.9652 \n",
      "Epoch 23/100\n",
      "1539/1539 [==============================] - 11s 7ms/step - loss: 8.9937 - mean_absolute_error: 15.1319 - root_mean_squared_error: 22.0220 - mean_absolute_percentage_error: 19.7373\n",
      "Epoch 24/100\n",
      "1539/1539 [==============================] - 11s 7ms/step - loss: 8.9722 - mean_absolute_error: 15.0955 - root_mean_squared_error: 21.9686 - mean_absolute_percentage_error: 19.7221: 3s - loss: 8.9804 - mean_absolute_error: 15.1110 - root_mea\n",
      "Epoch 25/100\n",
      "1539/1539 [==============================] - 11s 7ms/step - loss: 8.9758 - mean_absolute_error: 15.0677 - root_mean_squared_error: 21.9277 - mean_absolute_percentage_error: 19.6092\n",
      "Epoch 26/100\n",
      "1539/1539 [==============================] - 11s 7ms/step - loss: 8.9731 - mean_absolute_error: 15.0630 - root_mean_squared_error: 21.9270 - mean_absolute_percentage_error: 19.6758\n",
      "Epoch 27/100\n",
      "1539/1539 [==============================] - 11s 7ms/step - loss: 8.9612 - mean_absolute_error: 15.0401 - root_mean_squared_error: 21.8814 - mean_absolute_percentage_error: 19.6715\n",
      "Epoch 28/100\n",
      "1539/1539 [==============================] - 11s 7ms/step - loss: 8.9384 - mean_absolute_error: 15.0040 - root_mean_squared_error: 21.8396 - mean_absolute_percentage_error: 19.5361\n",
      "Epoch 29/100\n",
      "1539/1539 [==============================] - 11s 7ms/step - loss: 8.9355 - mean_absolute_error: 14.9770 - root_mean_squared_error: 21.8090 - mean_absolute_percentage_error: 19.4907\n",
      "Epoch 30/100\n",
      "1539/1539 [==============================] - 11s 7ms/step - loss: 8.9355 - mean_absolute_error: 14.9552 - root_mean_squared_error: 21.7773 - mean_absolute_percentage_error: 19.4696\n",
      "Epoch 31/100\n",
      "1539/1539 [==============================] - 11s 7ms/step - loss: 8.9257 - mean_absolute_error: 14.9592 - root_mean_squared_error: 21.7699 - mean_absolute_percentage_error: 19.4771\n",
      "Epoch 32/100\n",
      "1539/1539 [==============================] - 11s 7ms/step - loss: 8.9300 - mean_absolute_error: 14.9216 - root_mean_squared_error: 21.7306 - mean_absolute_percentage_error: 19.4415\n",
      "Epoch 33/100\n",
      "1539/1539 [==============================] - 10s 6ms/step - loss: 8.9327 - mean_absolute_error: 14.8907 - root_mean_squared_error: 21.6935 - mean_absolute_percentage_error: 19.4013\n",
      "Epoch 34/100\n",
      "1539/1539 [==============================] - 11s 7ms/step - loss: 8.9309 - mean_absolute_error: 14.8778 - root_mean_squared_error: 21.6729 - mean_absolute_percentage_error: 19.4385: 1s - loss: 8.9366 - mean_absolute_error: 14.8942 - root_mean_squared_error: 21.7157 - me\n",
      "Epoch 35/100\n",
      "1539/1539 [==============================] - 12s 8ms/step - loss: 8.9070 - mean_absolute_error: 14.8691 - root_mean_squared_error: 21.6529 - mean_absolute_percentage_error: 19.4081: 4s - loss: 8.8977 - mean_absolute_error: 14.8921 - root_mean_squared_error: 21.6560 - mean_absolute_percentag - ETA: 3s - loss: 8.8950 - mean_absolute_error: 14.9002 - root_mean_squared_err\n",
      "Epoch 36/100\n",
      "1539/1539 [==============================] - 12s 8ms/step - loss: 8.8978 - mean_absolute_error: 14.8285 - root_mean_squared_error: 21.5935 - mean_absolute_percentage_error: 19.3566\n",
      "Epoch 37/100\n",
      "1539/1539 [==============================] - 12s 8ms/step - loss: 8.9103 - mean_absolute_error: 14.8242 - root_mean_squared_error: 21.6071 - mean_absolute_percentage_error: 19.2729: 1s - loss: 8.9106 - mean_absolute_error: 14.8284 - root_mean_squared_error: 21.6204 - mean_absolute_perc\n",
      "Epoch 38/100\n",
      "1539/1539 [==============================] - 12s 8ms/step - loss: 8.9044 - mean_absolute_error: 14.8049 - root_mean_squared_error: 21.5755 - mean_absolute_percentage_error: 19.3130\n",
      "Epoch 39/100\n",
      "1539/1539 [==============================] - 12s 8ms/step - loss: 8.8801 - mean_absolute_error: 14.7939 - root_mean_squared_error: 21.5516 - mean_absolute_percentage_error: 19.2050: 5s - loss: 8.8810 -\n",
      "Epoch 40/100\n",
      "1539/1539 [==============================] - 12s 8ms/step - loss: 8.8829 - mean_absolute_error: 14.7793 - root_mean_squared_error: 21.5365 - mean_absolute_percentage_error: 19.1870\n",
      "Epoch 41/100\n",
      "1539/1539 [==============================] - 12s 8ms/step - loss: 8.8872 - mean_absolute_error: 14.7630 - root_mean_squared_error: 21.5140 - mean_absolute_percentage_error: 19.1707: 3s - loss: 8.8923 - mean_absolute_error: 14.7899 - root_mean_squared_e\n",
      "Epoch 42/100\n",
      "1539/1539 [==============================] - 12s 8ms/step - loss: 8.8703 - mean_absolute_error: 14.7259 - root_mean_squared_error: 21.4566 - mean_absolute_percentage_error: 19.0967: 4s - loss: 8.8621 - mean_absolute_err\n",
      "Epoch 43/100\n",
      "1539/1539 [==============================] - 12s 8ms/step - loss: 8.8786 - mean_absolute_error: 14.7559 - root_mean_squared_error: 21.5005 - mean_absolute_percentage_error: 19.0777\n",
      "Epoch 44/100\n",
      "1539/1539 [==============================] - 12s 8ms/step - loss: 8.8586 - mean_absolute_error: 14.7231 - root_mean_squared_error: 21.4565 - mean_absolute_percentage_error: 19.1455\n",
      "Epoch 45/100\n",
      "1539/1539 [==============================] - 12s 8ms/step - loss: 8.8577 - mean_absolute_error: 14.6833 - root_mean_squared_error: 21.3964 - mean_absolute_percentage_error: 19.0373: 3s - loss: 8.8601 - mean_absolute_error: 14.6908 - root_mean_\n",
      "Epoch 46/100\n",
      "1539/1539 [==============================] - 13s 8ms/step - loss: 8.8423 - mean_absolute_error: 14.6627 - root_mean_squared_error: 21.3656 - mean_absolute_percentage_error: 19.0022\n",
      "Epoch 47/100\n",
      "1539/1539 [==============================] - 12s 8ms/step - loss: 8.8584 - mean_absolute_error: 14.6727 - root_mean_squared_error: 21.3773 - mean_absolute_percentage_error: 19.0775\n",
      "Epoch 48/100\n",
      "1539/1539 [==============================] - 12s 8ms/step - loss: 8.8463 - mean_absolute_error: 14.6360 - root_mean_squared_error: 21.3226 - mean_absolute_percentage_error: 19.0198\n",
      "Epoch 49/100\n",
      "1539/1539 [==============================] - 12s 8ms/step - loss: 8.8361 - mean_absolute_error: 14.6328 - root_mean_squared_error: 21.3194 - mean_absolute_percentage_error: 18.9653\n",
      "Epoch 50/100\n",
      "1539/1539 [==============================] - 12s 8ms/step - loss: 8.8376 - mean_absolute_error: 14.6189 - root_mean_squared_error: 21.2893 - mean_absolute_percentage_error: 18.9503\n",
      "Epoch 51/100\n",
      "1539/1539 [==============================] - 12s 8ms/step - loss: 8.8314 - mean_absolute_error: 14.6033 - root_mean_squared_error: 21.2708 - mean_absolute_percentage_error: 18.9536\n",
      "Epoch 52/100\n",
      "1539/1539 [==============================] - 12s 8ms/step - loss: 8.8186 - mean_absolute_error: 14.5789 - root_mean_squared_error: 21.2383 - mean_absolute_percentage_error: 18.9430\n",
      "Epoch 53/100\n",
      "1539/1539 [==============================] - 12s 8ms/step - loss: 8.8268 - mean_absolute_error: 14.5592 - root_mean_squared_error: 21.2154 - mean_absolute_percentage_error: 18.9207: 5s - loss: 8.8304 - mean_abso\n",
      "Epoch 54/100\n",
      "1539/1539 [==============================] - 13s 8ms/step - loss: 8.8151 - mean_absolute_error: 14.5764 - root_mean_squared_error: 21.2323 - mean_absolute_percentage_error: 18.9042\n",
      "Epoch 55/100\n",
      "1539/1539 [==============================] - 12s 8ms/step - loss: 8.8234 - mean_absolute_error: 14.5530 - root_mean_squared_error: 21.2026 - mean_absolute_percentage_error: 18.8691\n",
      "Epoch 56/100\n",
      "1539/1539 [==============================] - 12s 8ms/step - loss: 8.8053 - mean_absolute_error: 14.5364 - root_mean_squared_error: 21.1807 - mean_absolute_percentage_error: 18.8161\n",
      "Epoch 57/100\n",
      "1539/1539 [==============================] - 12s 8ms/step - loss: 8.7993 - mean_absolute_error: 14.4933 - root_mean_squared_error: 21.1319 - mean_absolute_percentage_error: 18.7744\n",
      "Epoch 58/100\n",
      "1539/1539 [==============================] - 12s 8ms/step - loss: 8.7902 - mean_absolute_error: 14.5038 - root_mean_squared_error: 21.1266 - mean_absolute_percentage_error: 18.8097\n",
      "Epoch 59/100\n",
      "1539/1539 [==============================] - 12s 8ms/step - loss: 8.7901 - mean_absolute_error: 14.4892 - root_mean_squared_error: 21.1120 - mean_absolute_percentage_error: 18.8144\n",
      "Epoch 60/100\n",
      "1539/1539 [==============================] - 12s 8ms/step - loss: 8.7898 - mean_absolute_error: 14.4806 - root_mean_squared_error: 21.1135 - mean_absolute_percentage_error: 18.7862\n",
      "Epoch 61/100\n",
      "1539/1539 [==============================] - 12s 8ms/step - loss: 8.7856 - mean_absolute_error: 14.4613 - root_mean_squared_error: 21.0560 - mean_absolute_percentage_error: 18.7686\n",
      "Epoch 62/100\n",
      "1539/1539 [==============================] - 12s 8ms/step - loss: 8.7787 - mean_absolute_error: 14.4527 - root_mean_squared_error: 21.0546 - mean_absolute_percentage_error: 18.7521\n",
      "Epoch 63/100\n",
      "1539/1539 [==============================] - 12s 8ms/step - loss: 8.7711 - mean_absolute_error: 14.4183 - root_mean_squared_error: 21.0050 - mean_absolute_percentage_error: 18.6883\n",
      "Epoch 64/100\n",
      "1539/1539 [==============================] - 12s 8ms/step - loss: 8.7694 - mean_absolute_error: 14.4133 - root_mean_squared_error: 20.9979 - mean_absolute_percentage_error: 18.7162\n",
      "Epoch 65/100\n",
      "1539/1539 [==============================] - 12s 8ms/step - loss: 8.7600 - mean_absolute_error: 14.3965 - root_mean_squared_error: 20.9650 - mean_absolute_percentage_error: 18.6756: 1s - loss: 8.7541 - mean_absolute_error: 14.3801 - root_mean_squared_error: 20.9380 - mean_absolute_\n",
      "Epoch 66/100\n",
      "1539/1539 [==============================] - 12s 8ms/step - loss: 8.7604 - mean_absolute_error: 14.3838 - root_mean_squared_error: 20.9557 - mean_absolute_percentage_error: 18.6846: 6s - loss: 8.7454 - mean_absolute_error: 14.3895 - root_mean_squared_error: 20.9448 - mean_abso - ETA: 4s - loss: 8.7448 - mean_absolute_error: 14\n",
      "Epoch 67/100\n",
      "1539/1539 [==============================] - 12s 8ms/step - loss: 8.7528 - mean_absolute_error: 14.3812 - root_mean_squared_error: 20.9442 - mean_absolute_percentage_error: 18.6058\n",
      "Epoch 68/100\n",
      "1539/1539 [==============================] - 12s 8ms/step - loss: 8.7506 - mean_absolute_error: 14.3747 - root_mean_squared_error: 20.9303 - mean_absolute_percentage_error: 18.6643\n",
      "Epoch 69/100\n",
      "1539/1539 [==============================] - 12s 8ms/step - loss: 8.7454 - mean_absolute_error: 14.3360 - root_mean_squared_error: 20.8804 - mean_absolute_percentage_error: 18.5670\n",
      "Epoch 70/100\n",
      "1539/1539 [==============================] - 12s 8ms/step - loss: 8.7497 - mean_absolute_error: 14.3384 - root_mean_squared_error: 20.8845 - mean_absolute_percentage_error: 18.5458: 5s - loss: 8.7570 - mean_abso\n",
      "Epoch 71/100\n",
      "1539/1539 [==============================] - 12s 8ms/step - loss: 8.7329 - mean_absolute_error: 14.3329 - root_mean_squared_error: 20.8639 - mean_absolute_percentage_error: 18.5295\n",
      "Epoch 72/100\n",
      "1539/1539 [==============================] - 12s 8ms/step - loss: 8.7341 - mean_absolute_error: 14.3130 - root_mean_squared_error: 20.8530 - mean_absolute_percentage_error: 18.5289\n",
      "Epoch 73/100\n",
      "1539/1539 [==============================] - 12s 8ms/step - loss: 8.7222 - mean_absolute_error: 14.3095 - root_mean_squared_error: 20.8264 - mean_absolute_percentage_error: 18.5150\n",
      "Epoch 74/100\n",
      "1539/1539 [==============================] - 12s 8ms/step - loss: 8.7325 - mean_absolute_error: 14.2877 - root_mean_squared_error: 20.8168 - mean_absolute_percentage_error: 18.4928\n",
      "Epoch 75/100\n",
      "1539/1539 [==============================] - 12s 8ms/step - loss: 8.7143 - mean_absolute_error: 14.2657 - root_mean_squared_error: 20.7713 - mean_absolute_percentage_error: 18.4862\n",
      "Epoch 76/100\n",
      "1539/1539 [==============================] - 12s 8ms/step - loss: 8.7192 - mean_absolute_error: 14.2548 - root_mean_squared_error: 20.7470 - mean_absolute_percentage_error: 18.4148\n",
      "Epoch 77/100\n",
      "1539/1539 [==============================] - 12s 8ms/step - loss: 8.7009 - mean_absolute_error: 14.2579 - root_mean_squared_error: 20.7438 - mean_absolute_percentage_error: 18.5246\n",
      "Epoch 78/100\n"
     ]
    },
    {
     "name": "stdout",
     "output_type": "stream",
     "text": [
      "1539/1539 [==============================] - 12s 8ms/step - loss: 8.7096 - mean_absolute_error: 14.2672 - root_mean_squared_error: 20.7721 - mean_absolute_percentage_error: 18.4879\n",
      "Epoch 79/100\n",
      "1539/1539 [==============================] - 12s 8ms/step - loss: 8.7037 - mean_absolute_error: 14.2474 - root_mean_squared_error: 20.7363 - mean_absolute_percentage_error: 18.4306\n",
      "Epoch 80/100\n",
      "1539/1539 [==============================] - 12s 8ms/step - loss: 8.7002 - mean_absolute_error: 14.1999 - root_mean_squared_error: 20.6759 - mean_absolute_percentage_error: 18.4106\n",
      "Epoch 81/100\n",
      "1539/1539 [==============================] - 12s 8ms/step - loss: 8.6940 - mean_absolute_error: 14.2269 - root_mean_squared_error: 20.6977 - mean_absolute_percentage_error: 18.4026\n",
      "Epoch 82/100\n",
      "1539/1539 [==============================] - 12s 8ms/step - loss: 8.6963 - mean_absolute_error: 14.1977 - root_mean_squared_error: 20.6692 - mean_absolute_percentage_error: 18.3926: 3s - loss: 8.6920 - mean_absolute_error: 14.1676 - \n",
      "Epoch 83/100\n",
      "1539/1539 [==============================] - 12s 8ms/step - loss: 8.6981 - mean_absolute_error: 14.2044 - root_mean_squared_error: 20.6757 - mean_absolute_percentage_error: 18.3766\n",
      "Epoch 84/100\n",
      "1539/1539 [==============================] - 12s 8ms/step - loss: 8.6763 - mean_absolute_error: 14.1949 - root_mean_squared_error: 20.6370 - mean_absolute_percentage_error: 18.3497\n",
      "Epoch 85/100\n",
      "1539/1539 [==============================] - 12s 8ms/step - loss: 8.6720 - mean_absolute_error: 14.1625 - root_mean_squared_error: 20.6068 - mean_absolute_percentage_error: 18.3186\n",
      "Epoch 86/100\n",
      "1539/1539 [==============================] - 13s 8ms/step - loss: 8.6863 - mean_absolute_error: 14.1516 - root_mean_squared_error: 20.6212 - mean_absolute_percentage_error: 18.3217\n",
      "Epoch 87/100\n",
      "1539/1539 [==============================] - 12s 8ms/step - loss: 8.6729 - mean_absolute_error: 14.1216 - root_mean_squared_error: 20.5529 - mean_absolute_percentage_error: 18.3033\n",
      "Epoch 88/100\n",
      "1539/1539 [==============================] - 12s 8ms/step - loss: 8.6650 - mean_absolute_error: 14.1220 - root_mean_squared_error: 20.5539 - mean_absolute_percentage_error: 18.2865\n",
      "Epoch 89/100\n",
      "1539/1539 [==============================] - 12s 8ms/step - loss: 8.6584 - mean_absolute_error: 14.1213 - root_mean_squared_error: 20.5452 - mean_absolute_percentage_error: 18.2937\n",
      "Epoch 90/100\n",
      "1539/1539 [==============================] - 12s 8ms/step - loss: 8.6666 - mean_absolute_error: 14.1054 - root_mean_squared_error: 20.5387 - mean_absolute_percentage_error: 18.2332\n",
      "Epoch 91/100\n",
      "1539/1539 [==============================] - 12s 8ms/step - loss: 8.6593 - mean_absolute_error: 14.0972 - root_mean_squared_error: 20.5074 - mean_absolute_percentage_error: 18.2875\n",
      "Epoch 92/100\n",
      "1539/1539 [==============================] - 12s 8ms/step - loss: 8.6508 - mean_absolute_error: 14.0921 - root_mean_squared_error: 20.5050 - mean_absolute_percentage_error: 18.1988\n",
      "Epoch 93/100\n",
      "1539/1539 [==============================] - 12s 8ms/step - loss: 8.6567 - mean_absolute_error: 14.0694 - root_mean_squared_error: 20.4747 - mean_absolute_percentage_error: 18.2409\n",
      "Epoch 94/100\n",
      "1539/1539 [==============================] - 12s 8ms/step - loss: 8.6363 - mean_absolute_error: 14.0457 - root_mean_squared_error: 20.4397 - mean_absolute_percentage_error: 18.1275\n",
      "Epoch 95/100\n",
      "1539/1539 [==============================] - 12s 8ms/step - loss: 8.6444 - mean_absolute_error: 14.0510 - root_mean_squared_error: 20.4445 - mean_absolute_percentage_error: 18.1492\n",
      "Epoch 96/100\n",
      "1539/1539 [==============================] - 12s 8ms/step - loss: 8.6279 - mean_absolute_error: 14.0409 - root_mean_squared_error: 20.4050 - mean_absolute_percentage_error: 18.1511\n",
      "Epoch 97/100\n",
      "1539/1539 [==============================] - 12s 8ms/step - loss: 8.6313 - mean_absolute_error: 14.0301 - root_mean_squared_error: 20.4003 - mean_absolute_percentage_error: 18.1158: 2s - loss: 8.6317 - mean_absolute_error: 14.0528 - root_mean_squared_error: 20.4\n",
      "Epoch 98/100\n",
      "1539/1539 [==============================] - 12s 8ms/step - loss: 8.6230 - mean_absolute_error: 14.0236 - root_mean_squared_error: 20.3919 - mean_absolute_percentage_error: 18.1094\n",
      "Epoch 99/100\n",
      "1539/1539 [==============================] - 12s 8ms/step - loss: 8.6222 - mean_absolute_error: 14.0165 - root_mean_squared_error: 20.3736 - mean_absolute_percentage_error: 18.1223: 3s - loss: 8.6222 - mean_absolute_error: 13.9772 - root_mean\n",
      "Epoch 100/100\n",
      "1539/1539 [==============================] - 12s 8ms/step - loss: 8.6236 - mean_absolute_error: 14.0046 - root_mean_squared_error: 20.3515 - mean_absolute_percentage_error: 18.0852\n"
     ]
    },
    {
     "data": {
      "text/plain": [
       "<keras.callbacks.History at 0x16846b31fd0>"
      ]
     },
     "execution_count": 51,
     "metadata": {},
     "output_type": "execute_result"
    }
   ],
   "source": [
    "model30.fit((Wt30,Xt30), yt30, \n",
    "            epochs = 100, \n",
    "            verbose = 1)"
   ]
  },
  {
   "cell_type": "code",
   "execution_count": 52,
   "metadata": {},
   "outputs": [
    {
     "name": "stderr",
     "output_type": "stream",
     "text": [
      "WARNING:absl:Function `_wrapped_model` contains input name(s) WideInput, DeepInput with unsupported characters which will be renamed to wideinput, deepinput in the SavedModel.\n",
      "WARNING:absl:Found untraced functions such as lstm_cell_5_layer_call_fn, lstm_cell_5_layer_call_and_return_conditional_losses, lstm_cell_6_layer_call_fn, lstm_cell_6_layer_call_and_return_conditional_losses, lstm_cell_5_layer_call_fn while saving (showing 5 of 10). These functions will not be directly callable after loading.\n"
     ]
    },
    {
     "name": "stdout",
     "output_type": "stream",
     "text": [
      "INFO:tensorflow:Assets written to: my_dir/8e-30\\assets\n"
     ]
    },
    {
     "name": "stderr",
     "output_type": "stream",
     "text": [
      "INFO:tensorflow:Assets written to: my_dir/8e-30\\assets\n",
      "WARNING:absl:<keras.layers.recurrent.LSTMCell object at 0x000001684640EC40> has the same name 'LSTMCell' as a built-in Keras object. Consider renaming <class 'keras.layers.recurrent.LSTMCell'> to avoid naming conflicts when loading with `tf.keras.models.load_model`. If renaming is not possible, pass the object in the `custom_objects` parameter of the load function.\n",
      "WARNING:absl:<keras.layers.recurrent.LSTMCell object at 0x00000168470D0D90> has the same name 'LSTMCell' as a built-in Keras object. Consider renaming <class 'keras.layers.recurrent.LSTMCell'> to avoid naming conflicts when loading with `tf.keras.models.load_model`. If renaming is not possible, pass the object in the `custom_objects` parameter of the load function.\n",
      "WARNING:absl:<keras.layers.recurrent.LSTMCell object at 0x00000168470EC400> has the same name 'LSTMCell' as a built-in Keras object. Consider renaming <class 'keras.layers.recurrent.LSTMCell'> to avoid naming conflicts when loading with `tf.keras.models.load_model`. If renaming is not possible, pass the object in the `custom_objects` parameter of the load function.\n"
     ]
    }
   ],
   "source": [
    "model30.save(\"my_dir/8e-30\")"
   ]
  },
  {
   "cell_type": "code",
   "execution_count": 53,
   "metadata": {},
   "outputs": [],
   "source": [
    "metrics30 = pd.DataFrame(model30.history.history)"
   ]
  },
  {
   "cell_type": "code",
   "execution_count": 54,
   "metadata": {},
   "outputs": [
    {
     "data": {
      "text/plain": [
       "<AxesSubplot:>"
      ]
     },
     "execution_count": 54,
     "metadata": {},
     "output_type": "execute_result"
    },
    {
     "data": {
      "image/png": "[encoded data removed]",
      "text/plain": [
       "<Figure size 432x288 with 1 Axes>"
      ]
     },
     "metadata": {
      "needs_background": "light"
     },
     "output_type": "display_data"
    }
   ],
   "source": [
    "metrics30[['loss']].plot()"
   ]
  },
  {
   "cell_type": "code",
   "execution_count": 47,
   "metadata": {},
   "outputs": [],
   "source": [
    "model30 = keras.models.load_model(\"my_dir/8e-30\", custom_objects={'GEH_loss': GEH_loss})"
   ]
  },
  {
   "cell_type": "code",
   "execution_count": 48,
   "metadata": {},
   "outputs": [
    {
     "data": {
      "text/plain": [
       "array([[ 27.874651,  15.93208 ,  27.715094,  59.89956 ,  30.16772 ,\n",
       "          5.882543],\n",
       "       [ 26.183598,  15.502625,  11.872586,  55.278656,  26.998692,\n",
       "          5.989689],\n",
       "       [ 27.360043,  15.156365,  17.884285,  56.95162 ,  28.246216,\n",
       "          5.784392],\n",
       "       ...,\n",
       "       [ 44.34523 ,  42.110157,  57.0943  , 113.95286 ,  52.086235,\n",
       "          7.969345],\n",
       "       [ 41.7756  ,  39.493217,  52.711895, 104.85813 ,  47.547943,\n",
       "          9.400253],\n",
       "       [ 40.581127,  36.38985 ,  51.056377, 100.845116,  46.50183 ,\n",
       "          7.906383]], dtype=float32)"
      ]
     },
     "execution_count": 48,
     "metadata": {},
     "output_type": "execute_result"
    }
   ],
   "source": [
    "model30.predict((Wv30,Xv30))"
   ]
  },
  {
   "cell_type": "markdown",
   "metadata": {},
   "source": [
    "### Evaluation on inverse_transform"
   ]
  },
  {
   "cell_type": "code",
   "execution_count": null,
   "metadata": {},
   "outputs": [],
   "source": [
    "test_predictions30 = model30.predict((Wv30,Xv30))\n",
    "\n",
    "\n",
    "MSE30 = mean_squared_error(yv30,test_predictions30)\n",
    "\n",
    "MAE30 = mean_absolute_error(yv30,test_predictions30)\n",
    "\n",
    "RMSE30 = np.sqrt(MSE30)\n",
    "\n",
    "MAPE30 = mean_absolute_percentage_error(yv30,test_predictions30)*100\n",
    "\n",
    "eval30 = [MSE30, MAE30, RMSE30, MAPE30]\n",
    "print(eval30)"
   ]
  },
  {
   "cell_type": "code",
   "execution_count": null,
   "metadata": {},
   "outputs": [],
   "source": [
    "GEH, count = ga.GEH(np.asarray(yv30), np.asarray(test_predictions30))\n",
    "GEH30 = count/GEH.size\n",
    "print(GEH30)"
   ]
  },
  {
   "cell_type": "markdown",
   "metadata": {},
   "source": [
    "# 60 mins ahead"
   ]
  },
  {
   "cell_type": "code",
   "execution_count": 51,
   "metadata": {},
   "outputs": [],
   "source": [
    "def build_model_60(hp):\n",
    "    # Inputs\n",
    "    channel_Wide = keras.layers.Input(shape=Wt60.shape[1:], name=\"WideInput\")\n",
    "    channel_Deep = keras.layers.Input(shape=Xt60.shape[1:], name=\"DeepInput\")\n",
    "    units = hp.Int(\"units\", min_value=1, max_value=100, step=1)\n",
    "    \n",
    "    \n",
    "    # Wide Model\n",
    "    flatten_60w = keras.layers.TimeDistributed(keras.layers.Flatten())(channel_Wide)\n",
    "    Bi_60 = keras.layers.Bidirectional(\n",
    "        keras.layers.LSTM(units=units, return_sequences=True),\n",
    "        merge_mode=\"ave\"\n",
    "    )(flatten_60w)\n",
    "    \n",
    "    \n",
    "    # Deep Model\n",
    "    # CNN \n",
    "    CNN_60 = keras.layers.TimeDistributed(\n",
    "        keras.layers.Conv2D(filters=hp.Int(\"filters\", min_value=32, max_value=512, step=32),\n",
    "                            kernel_size=hp.Choice(\"kernel_size\", [2, 3]), activation='relu'))(channel_Deep)\n",
    "    flatten_60 = keras.layers.TimeDistributed(keras.layers.Flatten())(CNN_60)\n",
    "    # LSTM          \n",
    "    LSTM_60 = keras.layers.LSTM(units=units, activation='relu', return_sequences=True)(flatten_60)\n",
    "\n",
    "    \n",
    "    # Concatenation \n",
    "    concat = keras.layers.concatenate([Bi_60, LSTM_60], axis=1)\n",
    "\n",
    "    # Attention\n",
    "    Att_60 = SeqSelfAttention(attention_activation='sigmoid')(concat)\n",
    "    merge = keras.layers.Flatten()(Att_60)\n",
    "\n",
    "    \n",
    "    # Output\n",
    "    output = keras.layers.Dense(n_features, name= \"output\")(merge)\n",
    "    \n",
    "    # Model\n",
    "    model_60 = keras.Model(inputs=[channel_Wide,channel_Deep], outputs=[output])\n",
    "\n",
    "    # Compile\n",
    "    model_60.compile(optimizer=keras.optimizers.Adam(hp.Choice(\"learning_rate\", [1e-2, 1e-3, 1e-4])), \n",
    "        loss=GEH_loss, metrics=['MeanAbsoluteError','RootMeanSquaredError','MeanAbsolutePercentageError'])\n",
    "                    \n",
    "    return model_60"
   ]
  },
  {
   "cell_type": "code",
   "execution_count": 52,
   "metadata": {},
   "outputs": [
    {
     "name": "stdout",
     "output_type": "stream",
     "text": [
      "INFO:tensorflow:Reloading Oracle from existing project C:\\RunsOak\\8e-60\\oracle.json\n",
      "INFO:tensorflow:Reloading Tuner from C:\\RunsOak\\8e-60\\tuner0.json\n"
     ]
    }
   ],
   "source": [
    "tuner60 = RandomSearch(\n",
    "    build_model_60,\n",
    "    objective=\"val_loss\",\n",
    "    max_trials=60,\n",
    "    executions_per_trial=2,\n",
    "    overwrite=False,\n",
    "    directory=os.path.normpath('C:/RunsOak'),\n",
    "    project_name=\"8e-60\",\n",
    ")"
   ]
  },
  {
   "cell_type": "code",
   "execution_count": 53,
   "metadata": {},
   "outputs": [
    {
     "name": "stdout",
     "output_type": "stream",
     "text": [
      "Search space summary\n",
      "Default search space size: 4\n",
      "units (Int)\n",
      "{'default': None, 'conditions': [], 'min_value': 1, 'max_value': 100, 'step': 1, 'sampling': None}\n",
      "filters (Int)\n",
      "{'default': None, 'conditions': [], 'min_value': 32, 'max_value': 512, 'step': 32, 'sampling': None}\n",
      "kernel_size (Choice)\n",
      "{'default': 2, 'conditions': [], 'values': [2, 3], 'ordered': True}\n",
      "learning_rate (Choice)\n",
      "{'default': 0.01, 'conditions': [], 'values': [0.01, 0.001, 0.0001], 'ordered': True}\n"
     ]
    }
   ],
   "source": [
    "tuner60.search_space_summary()"
   ]
  },
  {
   "cell_type": "code",
   "execution_count": 54,
   "metadata": {},
   "outputs": [
    {
     "name": "stdout",
     "output_type": "stream",
     "text": [
      "Trial 61 Complete [00h 21m 28s]\n",
      "val_loss: 9.262146472930908\n",
      "\n",
      "Best val_loss So Far: 8.986808776855469\n",
      "Total elapsed time: 16h 21m 51s\n",
      "INFO:tensorflow:Oracle triggered exit\n"
     ]
    }
   ],
   "source": [
    "tuner60.search((Wt60,Xt60), yt60, epochs=200,\n",
    "            validation_split = val_percent,\n",
    "            callbacks=[early_stop],\n",
    "            verbose=2)"
   ]
  },
  {
   "cell_type": "code",
   "execution_count": 55,
   "metadata": {},
   "outputs": [
    {
     "name": "stdout",
     "output_type": "stream",
     "text": [
      "Results summary\n",
      "Results in C:\\RunsOak\\8e-60\n",
      "Showing 1 best trials\n",
      "Objective(name='val_loss', direction='min')\n",
      "Trial summary\n",
      "Hyperparameters:\n",
      "units: 21\n",
      "filters: 224\n",
      "kernel_size: 2\n",
      "learning_rate: 0.001\n",
      "Score: 8.986808776855469\n"
     ]
    }
   ],
   "source": [
    "tuner60.results_summary(1)"
   ]
  },
  {
   "cell_type": "markdown",
   "metadata": {},
   "source": [
    "### Best model"
   ]
  },
  {
   "cell_type": "code",
   "execution_count": 56,
   "metadata": {},
   "outputs": [],
   "source": [
    "best_hp60 = tuner60.get_best_hyperparameters()[0]\n",
    "model60 = tuner60.hypermodel.build(best_hp60)"
   ]
  },
  {
   "cell_type": "code",
   "execution_count": 57,
   "metadata": {},
   "outputs": [
    {
     "data": {
      "text/plain": [
       "['Best_HP/8e-60']"
      ]
     },
     "execution_count": 57,
     "metadata": {},
     "output_type": "execute_result"
    }
   ],
   "source": [
    "scaler_filename = \"Best_HP/8e-60\"\n",
    "joblib.dump(best_hp60, scaler_filename) "
   ]
  },
  {
   "cell_type": "code",
   "execution_count": 58,
   "metadata": {},
   "outputs": [
    {
     "name": "stdout",
     "output_type": "stream",
     "text": [
      "Model: \"model_1\"\n",
      "__________________________________________________________________________________________________\n",
      " Layer (type)                   Output Shape         Param #     Connected to                     \n",
      "==================================================================================================\n",
      " DeepInput (InputLayer)         [(None, 3, 5, 6, 1)  0           []                               \n",
      "                                ]                                                                 \n",
      "                                                                                                  \n",
      " WideInput (InputLayer)         [(None, 3, 3, 6)]    0           []                               \n",
      "                                                                                                  \n",
      " time_distributed_4 (TimeDistri  (None, 3, 4, 5, 224  1120       ['DeepInput[0][0]']              \n",
      " buted)                         )                                                                 \n",
      "                                                                                                  \n",
      " time_distributed_3 (TimeDistri  (None, 3, 18)       0           ['WideInput[0][0]']              \n",
      " buted)                                                                                           \n",
      "                                                                                                  \n",
      " time_distributed_5 (TimeDistri  (None, 3, 4480)     0           ['time_distributed_4[0][0]']     \n",
      " buted)                                                                                           \n",
      "                                                                                                  \n",
      " bidirectional_1 (Bidirectional  (None, 3, 21)       6720        ['time_distributed_3[0][0]']     \n",
      " )                                                                                                \n",
      "                                                                                                  \n",
      " lstm_3 (LSTM)                  (None, 3, 21)        378168      ['time_distributed_5[0][0]']     \n",
      "                                                                                                  \n",
      " concatenate_1 (Concatenate)    (None, 6, 21)        0           ['bidirectional_1[0][0]',        \n",
      "                                                                  'lstm_3[0][0]']                 \n",
      "                                                                                                  \n",
      " seq_self_attention_1 (SeqSelfA  (None, 6, 21)       1409        ['concatenate_1[0][0]']          \n",
      " ttention)                                                                                        \n",
      "                                                                                                  \n",
      " flatten_5 (Flatten)            (None, 126)          0           ['seq_self_attention_1[0][0]']   \n",
      "                                                                                                  \n",
      " output (Dense)                 (None, 6)            762         ['flatten_5[0][0]']              \n",
      "                                                                                                  \n",
      "==================================================================================================\n",
      "Total params: 388,179\n",
      "Trainable params: 388,179\n",
      "Non-trainable params: 0\n",
      "__________________________________________________________________________________________________\n"
     ]
    }
   ],
   "source": [
    "model60.summary()"
   ]
  },
  {
   "cell_type": "code",
   "execution_count": 59,
   "metadata": {},
   "outputs": [
    {
     "name": "stdout",
     "output_type": "stream",
     "text": [
      "Epoch 1/100\n",
      "1539/1539 [==============================] - 38s 19ms/step - loss: 12.2731 - mean_absolute_error: 26.3861 - root_mean_squared_error: 43.2724 - mean_absolute_percentage_error: 37.4054: 11s - loss: 13.3858 - mean_absolute_error: 29.9112 - root_mean_sq - ETA: 4s - loss: 12.5823 - mean_absolute_error: 27.3665 - root_mean_squared_ - ETA: 2s - loss: 12.4515 - mean_absolute_err\n",
      "Epoch 2/100\n",
      "1539/1539 [==============================] - 29s 19ms/step - loss: 10.5294 - mean_absolute_error: 20.7516 - root_mean_squared_error: 30.0068 - mean_absolute_percentage_error: 28.02591s - loss: 10.5286 - mean_absolute_error: 20.8033 - root_mean_square\n",
      "Epoch 3/100\n",
      "1539/1539 [==============================] - 30s 19ms/step - loss: 10.2767 - mean_absolute_error: 19.7687 - root_mean_squared_error: 28.5412 - mean_absolute_percentage_error: 26.51505s - loss: 10.2913 - mean_absolute_error: 19.8273 - root_mean_squared_error: 2 - ETA\n",
      "Epoch 4/100\n",
      "1539/1539 [==============================] - 30s 19ms/step - loss: 10.0334 - mean_absolute_error: 19.0451 - root_mean_squared_error: 27.3268 - mean_absolute_percentage_error: 25.4530\n",
      "Epoch 5/100\n",
      "1539/1539 [==============================] - 30s 19ms/step - loss: 9.8142 - mean_absolute_error: 18.5160 - root_mean_squared_error: 26.5827 - mean_absolute_percentage_error: 24.4489 17s - loss: 9.8450 - mean_absolute_error: 18.5977 - root_mean_squared_error: 2 - ETA: 16s - loss: 9.8396 - mean_absolute_error: 18.6063 - root_mean_squared_err - ETA: 3s - loss: 9.8128 - mean_absolute_error: 18.5114 - root_mean_squared_error: 26.5881 - mean_absolute_percentage_e - ETA: 2s - loss: 9.8129 - mean_absolute_error: 18.5180 - root_mean_squared_error: 26.5916 - mean_absolute_percentage_error: 24.42 - ETA: 2s - loss: 9.8110 - mean_absolute_error: 18.5206 - root_mean_squared_error: 26.5877 - me\n",
      "Epoch 6/100\n",
      "1539/1539 [==============================] - 29s 19ms/step - loss: 9.7391 - mean_absolute_error: 18.2640 - root_mean_squared_error: 26.2903 - mean_absolute_percentage_error: 23.8926 3s - loss: 9.7499 - mean_absolute_error: 18.2894 - root_mean_squa\n",
      "Epoch 7/100\n",
      "1539/1539 [==============================] - 30s 19ms/step - loss: 9.6907 - mean_absolute_error: 17.9792 - root_mean_squared_error: 25.9284 - mean_absolute_percentage_error: 23.6281 5s - loss: 9.6918 - mean_absolute_error: 17.9660 - root_mean_squared_error: 25.9060 - mean_absolute - ETA: 3s - loss: 9.6904 - mean_absolute_error: 17.9723 - root_mean_squared_error: 25.920 - ETA: 0s - loss: 9.6923 - mean_absolute_error: 17.9820 - root_mean_squared_error: 25.9356 - mean_absolute_percentage_err\n",
      "Epoch 8/100\n",
      "1539/1539 [==============================] - 30s 19ms/step - loss: 9.6434 - mean_absolute_error: 17.8828 - root_mean_squared_error: 25.7774 - mean_absolute_percentage_error: 23.4508 2s - loss: 9.6464 - mean_absolute_error: 17.9146 - root_mean_squared_error: 25.8303 \n",
      "Epoch 9/100\n",
      "1539/1539 [==============================] - 29s 19ms/step - loss: 9.5897 - mean_absolute_error: 17.6171 - root_mean_squared_error: 25.4235 - mean_absolute_percentage_error: 23.1337TA: 0s - loss: 9.5910 - mean_absolute_error: 17.6211 - root_mean_squared_error: 25.4253 - mean_absolute_percentage_error:\n",
      "Epoch 10/100\n",
      "1539/1539 [==============================] - 29s 19ms/step - loss: 9.5699 - mean_absolute_error: 17.4559 - root_mean_squared_error: 25.2544 - mean_absolute_percentage_error: 22.9226 7s -  - ETA: 0s - loss: 9.5716 - mean_absolute_error: 17.4616 - root_mean_squared_error: 25.2638 - mean_absolute_percentage_error: 22.9\n",
      "Epoch 11/100\n",
      "1539/1539 [==============================] - 30s 19ms/step - loss: 9.5577 - mean_absolute_error: 17.3667 - root_mean_squared_error: 25.1403 - mean_absolute_percentage_error: 22.7550 17s - loss: 9.5\n",
      "Epoch 12/100\n",
      "1539/1539 [==============================] - 30s 19ms/step - loss: 9.5273 - mean_absolute_error: 17.2685 - root_mean_squared_error: 24.9756 - mean_absolute_percentage_error: 22.8246\n",
      "Epoch 13/100\n",
      "1539/1539 [==============================] - 29s 19ms/step - loss: 9.5295 - mean_absolute_error: 17.2194 - root_mean_squared_error: 24.9679 - mean_absolute_percentage_error: 22.6594 4s - loss: 9.5278 - mean_absolute_error: 17.207\n",
      "Epoch 14/100\n",
      "1539/1539 [==============================] - 29s 19ms/step - loss: 9.5008 - mean_absolute_error: 17.1190 - root_mean_squared_error: 24.8314 - mean_absolute_percentage_error: 22.6068 28s - loss: 9.4596 - mean_absolute_error: 17.2455 - root_mean_squared_error: 25.0128 - mean_absolute - ETA: 26s - loss: 9.4474 - mean_absolute_error: 17.215 - ETA: 19s - loss: 9. - ETA: 10s - loss: 9.4852 - ETA: 4s - loss: 9.4970 - mean_absolute_error: 17.1075 - root_mean_s\n",
      "Epoch 15/100\n",
      "1539/1539 [==============================] - 30s 19ms/step - loss: 9.4790 - mean_absolute_error: 17.0039 - root_mean_squared_error: 24.6844 - mean_absolute_percentage_error: 22.4156 10s - loss: 9.5054 - mean_ - ETA: 4s - loss: 9.4840 - mean_absolute_error: 17.0057 - root_mean_square - ETA: 0s - loss: 9.4800 - mean_absolute_error: 16.9991 - root_mean_squared_error: 24.6837 - mean_absolute_percentage\n",
      "Epoch 16/100\n",
      "1539/1539 [==============================] - 30s 19ms/step - loss: 9.4795 - mean_absolute_error: 16.9899 - root_mean_squared_error: 24.6717 - mean_absolute_percentage_error: 22.2155 10s - loss: 9.5018 - mean_absolute_error: 17.0103 - root_mean_squared_error: 24.7336 - mean_absolute_percentage_error: 22. - ETA: 10s - loss: 9.5032 - mean_absolute_error: 17.0200 - root_mean_squared_error: 24.7405 - mean_absol - ETA: 0s - loss: 9.4793 - mean_absolute_error: 16.9896 - root_mean_squared_error: 24.6716 - mean_absolute_percentage_error: 22.212\n",
      "Epoch 17/100\n",
      "1539/1539 [==============================] - 29s 19ms/step - loss: 9.4702 - mean_absolute_error: 16.9104 - root_mean_squared_error: 24.5489 - mean_absolute_percentage_error: 22.2933 13s - loss: 9.4755 - mean_absolute_error: 16.9638 - root_mean_squared_er - ETA: 11s - loss: 9.4795 - - ETA: 6s - loss: 9.4821 -\n",
      "Epoch 18/100\n",
      "1539/1539 [==============================] - 29s 19ms/step - loss: 9.4412 - mean_absolute_error: 16.8498 - root_mean_squared_error: 24.4622 - mean_absolute_percentage_error: 22.0533\n",
      "Epoch 19/100\n",
      "1539/1539 [==============================] - 30s 19ms/step - loss: 9.4268 - mean_absolute_error: 16.7584 - root_mean_squared_error: 24.3629 - mean_absolute_percentage_error: 22.1029 9s - loss: 9.423 - ETA: 2s - loss: 9.4346 - mean_absolute_error: 16.7815 - root_mean_squared_error: 24.3968 - mean_ab\n",
      "Epoch 20/100\n",
      "1539/1539 [==============================] - 30s 19ms/step - loss: 9.4323 - mean_absolute_error: 16.7705 - root_mean_squared_error: 24.3832 - mean_absolute_percentage_error: 22.0339 7s -\n",
      "Epoch 21/100\n",
      "1539/1539 [==============================] - 29s 19ms/step - loss: 9.4235 - mean_absolute_error: 16.7259 - root_mean_squared_error: 24.3227 - mean_absolute_percentage_error: 22.0014 5s - loss: 9.4235 - mean_absolute_err\n",
      "Epoch 22/100\n",
      "1539/1539 [==============================] - 29s 19ms/step - loss: 9.3971 - mean_absolute_error: 16.6159 - root_mean_squared_error: 24.1727 - mean_absolute_percentage_error: 21.8281 11s - loss: 9.3957 - mean_absolu - ETA: 6s - loss: 9.39\n",
      "Epoch 23/100\n",
      "1539/1539 [==============================] - 30s 19ms/step - loss: 9.3955 - mean_absolute_error: 16.6678 - root_mean_squared_error: 24.2412 - mean_absolute_percentage_error: 21.8641 6s - loss: 9.3682 - mean_a\n",
      "Epoch 24/100\n",
      "1539/1539 [==============================] - 30s 19ms/step - loss: 9.4028 - mean_absolute_error: 16.6228 - root_mean_squared_error: 24.1811 - mean_absolute_percentage_error: 21.7987\n",
      "Epoch 25/100\n",
      "1539/1539 [==============================] - 29s 19ms/step - loss: 9.3937 - mean_absolute_error: 16.5824 - root_mean_squared_error: 24.1387 - mean_absolute_percentage_error: 21.6721 6s - loss: 9.3929 - mean_abso - ETA: 0s - loss: 9.3915 - mean_absolute_error: 16.5787 - root_mean_squared_error: 24.1317 - mean_absolute_percentage_error: \n",
      "Epoch 26/100\n",
      "1539/1539 [==============================] - 29s 19ms/step - loss: 9.3861 - mean_absolute_error: 16.5488 - root_mean_squared_error: 24.1016 - mean_absolute_percentage_error: 21.6736 3s - loss: 9.3873 - mean_absolute_error: 16.5284 - root_mean_squared_error: 24.0798 - mean_absolut - ETA: 1s - loss: 9.3875 - mean_absolute_error: 16.5429 - root_mean_squared_error: 24.1014 - mean_absolute_pe\n",
      "Epoch 27/100\n",
      "1539/1539 [==============================] - 30s 19ms/step - loss: 9.3572 - mean_absolute_error: 16.4719 - root_mean_squared_error: 23.9895 - mean_absolute_percentage_error: 21.5164\n",
      "Epoch 28/100\n",
      "1539/1539 [==============================] - 29s 19ms/step - loss: 9.3565 - mean_absolute_error: 16.4906 - root_mean_squared_error: 24.0100 - mean_absolute_percentage_error: 21.5225\n",
      "Epoch 29/100\n",
      "1539/1539 [==============================] - 29s 19ms/step - loss: 9.3692 - mean_absolute_error: 16.4609 - root_mean_squared_error: 23.9829 - mean_absolute_percentage_error: 21.5506\n",
      "Epoch 30/100\n",
      "1539/1539 [==============================] - 29s 19ms/step - loss: 9.3412 - mean_absolute_error: 16.3962 - root_mean_squared_error: 23.8918 - mean_absolute_percentage_error: 21.4606 4s - loss: 9.3433 - mean_absolute_error: 16.3852 - root_mean_squared_error: 23.8841 - ETA: 1s - loss: 9.3374 - mean_absolute_error: 16.3825 - root_mean_squared_error: 23.8765 - mean_absolu\n",
      "Epoch 31/100\n",
      "1539/1539 [==============================] - 30s 19ms/step - loss: 9.3486 - mean_absolute_error: 16.3850 - root_mean_squared_error: 23.8736 - mean_absolute_percentage_error: 21.4407\n",
      "Epoch 32/100\n",
      "1539/1539 [==============================] - 29s 19ms/step - loss: 9.3196 - mean_absolute_error: 16.3407 - root_mean_squared_error: 23.8093 - mean_absolute_percentage_error: 21.2373 4s - loss: 9.3187 - mean_absolute_error: 16.3287 - root_mean_squared_error: 23.8049 - mean_absolute_percent - ETA: 3s - loss: 9.3186 - mean_absolute_error: 16.3321 - root_mean_square\n",
      "Epoch 33/100\n",
      "1539/1539 [==============================] - 29s 19ms/step - loss: 9.3361 - mean_absolute_error: 16.3297 - root_mean_squared_error: 23.8210 - mean_absolute_percentage_error: 21.3538 2s - loss: 9.3425 - mean_absolute_error: 16.3464 - root_mean_squared_error: 23.849\n",
      "Epoch 34/100\n",
      "1539/1539 [==============================] - 29s 19ms/step - loss: 9.3239 - mean_absolute_error: 16.3290 - root_mean_squared_error: 23.8098 - mean_absolute_percentage_error: 21.2907 25s - loss: 9.3814 - mean_absolute_error: 16.4418 - root_mean_squared_error: 23.9384 - mean_absolute_percentage_error: 21. - ETA: 25s - loss: 9.3702 - mean_absolute\n",
      "Epoch 35/100\n",
      "1539/1539 [==============================] - 30s 19ms/step - loss: 9.3239 - mean_absolute_error: 16.2814 - root_mean_squared_error: 23.7528 - mean_absolute_percentage_error: 21.2005\n",
      "Epoch 36/100\n",
      "1539/1539 [==============================] - 30s 19ms/step - loss: 9.3027 - mean_absolute_error: 16.2369 - root_mean_squared_error: 23.6909 - mean_absolute_percentage_error: 21.1988 10s - loss: 9.2863 - mean_absolute_error: 16.2176 - ro - ETA: 7s - los\n",
      "Epoch 37/100\n",
      "1539/1539 [==============================] - 29s 19ms/step - loss: 9.3141 - mean_absolute_error: 16.3080 - root_mean_squared_error: 23.7882 - mean_absolute_percentage_error: 21.2354 8s - loss: 9.2986 - mean_absolute_error: 16.2744 - root_mean_s - ETA: 4s - loss: 9.3091 - mean_absolute_error: 16.3062 - root_mean_\n",
      "Epoch 38/100\n",
      "1539/1539 [==============================] - 29s 19ms/step - loss: 9.3204 - mean_absolute_error: 16.2745 - root_mean_squared_error: 23.7558 - mean_absolute_percentage_error: 21.1188 14s - loss: 9.3384 - mean_absolute_error: 16.3519 -  - ETA: 12s - ETA: 6s - loss: 9.3106 - mean_abso\n",
      "Epoch 39/100\n",
      "1539/1539 [==============================] - 30s 19ms/step - loss: 9.2985 - mean_absolute_error: 16.2212 - root_mean_squared_error: 23.6810 - mean_absolute_percentage_error: 21.0987\n",
      "Epoch 40/100\n",
      "1539/1539 [==============================] - 29s 19ms/step - loss: 9.2974 - mean_absolute_error: 16.1757 - root_mean_squared_error: 23.6167 - mean_absolute_percentage_error: 21.0010\n",
      "Epoch 41/100\n",
      "1539/1539 [==============================] - 29s 19ms/step - loss: 9.2948 - mean_absolute_error: 16.1435 - root_mean_squared_error: 23.5717 - mean_absolute_percentage_error: 21.0609\n",
      "Epoch 42/100\n",
      "1539/1539 [==============================] - 29s 19ms/step - loss: 9.2865 - mean_absolute_error: 16.1125 - root_mean_squared_error: 23.5271 - mean_absolute_percentage_error: 20.9008 1s - loss: 9.2845 - mean_absolute_error: 16.1137 - root_mean_squared_error: 23.5319 - mean_absolute_percentage_e - ETA: 0s - loss: 9.2873 - mean_absolute_error: 16.1137 - root_mean_squared_error: 23.5273 - mean_absolute_percentage_erro\n",
      "Epoch 43/100\n",
      "1539/1539 [==============================] - 30s 19ms/step - loss: 9.2819 - mean_absolute_error: 16.0906 - root_mean_squared_error: 23.5192 - mean_absolute_percentage_error: 20.9429 5s - loss: 9.2951 - mean_absolute_error:\n",
      "Epoch 44/100\n",
      "1539/1539 [==============================] - 30s 19ms/step - loss: 9.2802 - mean_absolute_error: 16.1290 - root_mean_squared_error: 23.5559 - mean_absolute_percentage_error: 20.9349 7s - loss: 9.2774 - mean_abso - ETA: 1s - loss: 9.2794 - mean_absolute_error: 16.1268 - root_mean_squared_error: 23.5485 - mean_absolute_per\n",
      "Epoch 45/100\n",
      "1539/1539 [==============================] - 29s 19ms/step - loss: 9.2695 - mean_absolute_error: 16.0837 - root_mean_squared_error: 23.4939 - mean_absolute_percentage_error: 20.8888\n",
      "Epoch 46/100\n",
      "1539/1539 [==============================] - 30s 19ms/step - loss: 9.2591 - mean_absolute_error: 16.0615 - root_mean_squared_error: 23.4744 - mean_absolute_percentage_error: 20.8643 28s - loss: 9.3234 - mean_absolute_error: 15.9147 - root_mean_squared_error: 23.3120 \n",
      "Epoch 47/100\n",
      "1539/1539 [==============================] - 29s 19ms/step - loss: 9.2544 - mean_absolute_error: 16.0395 - root_mean_squared_error: 23.4328 - mean_absolute_percentage_error: 20.7425\n",
      "Epoch 48/100\n",
      "1539/1539 [==============================] - 30s 19ms/step - loss: 9.2483 - mean_absolute_error: 16.0099 - root_mean_squared_error: 23.4011 - mean_absolute_percentage_error: 20.6467 8s - loss: 9.2423 - mean_absolute_error: 15.9800 - root_mean_ - ETA: 4s - loss: 9.2517 - mean_absolute_error: 16.0132 - root_me\n",
      "Epoch 49/100\n",
      "1539/1539 [==============================] - 29s 19ms/step - loss: 9.2393 - mean_absolute_error: 16.0182 - root_mean_squared_error: 23.4050 - mean_absolute_percentage_error: 20.7929 4s - loss: 9.2445 - mean_absolute_error: 16.0378 - ro\n",
      "Epoch 50/100\n",
      "1539/1539 [==============================] - 30s 19ms/step - loss: 9.2374 - mean_absolute_error: 15.9813 - root_mean_squared_error: 23.3471 - mean_absolute_percentage_error: 20.7148 3s - loss: 9.2312 - mean_absolute_error: 15.9999 - root_mean_squared_error: 23.3691 - mean_ - ETA: 1s - loss: 9.2355 - mean_absolute_error: 15.9821 - root_mean_squared_error: 23.3479 - mean_absolute_percen\n",
      "Epoch 51/100\n",
      "1539/1539 [==============================] - 29s 19ms/step - loss: 9.2264 - mean_absolute_error: 15.9614 - root_mean_squared_error: 23.3150 - mean_absolute_percentage_error: 20.6393 13s - loss: 9.2239 - mean_absolute_error: 15.9027 - root_mean_squared_error: - ETA: 12s - loss: 9.2293 - mean_abs\n",
      "Epoch 52/100\n",
      "1539/1539 [==============================] - 29s 19ms/step - loss: 9.2354 - mean_absolute_error: 15.9373 - root_mean_squared_error: 23.3016 - mean_absolute_percentage_error: 20.5455\n",
      "Epoch 53/100\n",
      "1539/1539 [==============================] - 28s 18ms/step - loss: 9.2292 - mean_absolute_error: 15.9164 - root_mean_squared_error: 23.2571 - mean_absolute_percentage_error: 20.5769 11s - loss: 9.2288 - mean_absolute_erro - ETA: 7s - loss: 9.2198 - mean_absolute_err\n",
      "Epoch 54/100\n"
     ]
    },
    {
     "name": "stdout",
     "output_type": "stream",
     "text": [
      "1539/1539 [==============================] - 24s 15ms/step - loss: 9.2181 - mean_absolute_error: 15.9025 - root_mean_squared_error: 23.2399 - mean_absolute_percentage_error: 20.5618 6s - loss: 9.2105 - mean_absolute_error: 15.8706 - root_mean_squared_error: 23.2124 - mean_absolute_percentage_error: 20.78 - ETA: 6s - loss: 9.2126 - mean_absolute_error: 15.8742 - root_mean_squared_error: 23.2213 - mean_absolute_per - ETA: 5s - loss: 9.2134 - me\n",
      "Epoch 55/100\n",
      "1539/1539 [==============================] - 25s 16ms/step - loss: 9.2235 - mean_absolute_error: 15.8860 - root_mean_squared_error: 23.2174 - mean_absolute_percentage_error: 20.5862\n",
      "Epoch 56/100\n",
      "1539/1539 [==============================] - 26s 17ms/step - loss: 9.2201 - mean_absolute_error: 15.8623 - root_mean_squared_error: 23.1827 - mean_absolute_percentage_error: 20.5238\n",
      "Epoch 57/100\n",
      "1539/1539 [==============================] - 26s 17ms/step - loss: 9.2010 - mean_absolute_error: 15.8594 - root_mean_squared_error: 23.1866 - mean_absolute_percentage_error: 20.4896\n",
      "Epoch 58/100\n",
      "1539/1539 [==============================] - 26s 17ms/step - loss: 9.2029 - mean_absolute_error: 15.8728 - root_mean_squared_error: 23.2023 - mean_absolute_percentage_error: 20.5181 15s - loss: 9.1930 - mean_ - ETA: 5s - loss: 9.2009 - mean_absolute_\n",
      "Epoch 59/100\n",
      "1539/1539 [==============================] - 26s 17ms/step - loss: 9.1911 - mean_absolute_error: 15.8536 - root_mean_squared_error: 23.1888 - mean_absolute_percentage_error: 20.4082\n",
      "Epoch 60/100\n",
      "1539/1539 [==============================] - 26s 17ms/step - loss: 9.1806 - mean_absolute_error: 15.8327 - root_mean_squared_error: 23.1580 - mean_absolute_percentage_error: 20.3901 3s - loss: 9.1793 - mean_absolute_error: 15.8303 - root_mean_squared_error: 23.1398 - mean_absolute_percentage_error: - ETA: 3s - loss: 9.1841 - mean_absolute_error: 15.8493 - root_mean_squared_error: 23.1622 - mean_absolute_percentage_error: 20 - ETA: 2s - loss: 9.1887 - mean_absolute_error: 15.8568 - root_mean_squared_error: 23.1883 - mean_absol - ETA: 0s - loss: 9.1808 - mean_absolute_error: 15.8262 - root_mean_squared_error: 23.1491 - mean_absolute_percentage_error: - ETA: 0s - loss: 9.1781 - mean_absolute_error: 15.8301 - root_mean_squared_error: 23.1498 - mean_absolute_percentage_error: 2 - ETA: 0s - loss: 9.1811 - mean_absolute_error: 15.8307 - root_mean_squared_error: 23.1576 - mean_absolute_percentage_error: 20.3\n",
      "Epoch 61/100\n",
      "1539/1539 [==============================] - 26s 17ms/step - loss: 9.1867 - mean_absolute_error: 15.8161 - root_mean_squared_error: 23.1166 - mean_absolute_percentage_error: 20.3800 4s - loss: 9.1892 - mean_absolute_error: 15.8189 - root_mean_squared_error: 23.13 - ETA: 1s - loss: 9.1920 - mean_absolute_error: 15.8119 - root_mean_squared_error: 23.1177 - mean_absol\n",
      "Epoch 62/100\n",
      "1539/1539 [==============================] - 26s 17ms/step - loss: 9.1798 - mean_absolute_error: 15.7864 - root_mean_squared_error: 23.0926 - mean_absolute_percentage_error: 20.3843\n",
      "Epoch 63/100\n",
      "1539/1539 [==============================] - 26s 17ms/step - loss: 9.1788 - mean_absolute_error: 15.7945 - root_mean_squared_error: 23.1097 - mean_absolute_percentage_error: 20.2711 18s - loss: 9.1707 - mean_absolute_error: 15.6633 - root_mean_squared_error: 22.9958 - mean_ - ETA: 17s - loss: 9.1861 - mean_absolute_error: 15.6817 - root_mean_squared_error: 23.0297 - mean_absolute_percentage_error: 2 - ETA: 17s - loss: 9.1783 - mean_absolute_error: 15.6548 - root_mean_squared_error: 23.0021 - mean_absolute_percen - ETA: 5s - loss: 9.1845 - mean_absolute_er - ETA: 0s - loss: 9.1795 - mean_absolute_error: 15.8010 - root_mean_squared_error: 23.1178 - mean_absolute_percentage_error: 20\n",
      "Epoch 64/100\n",
      "1539/1539 [==============================] - 26s 17ms/step - loss: 9.1752 - mean_absolute_error: 15.7382 - root_mean_squared_error: 23.0348 - mean_absolute_percentage_error: 20.2573 4s - loss: 9.1739 - mean_absolute_error: 15\n",
      "Epoch 65/100\n",
      "1539/1539 [==============================] - 26s 17ms/step - loss: 9.1756 - mean_absolute_error: 15.7626 - root_mean_squared_error: 23.0655 - mean_absolute_percentage_error: 20.2946\n",
      "Epoch 66/100\n",
      "1539/1539 [==============================] - 26s 17ms/step - loss: 9.1724 - mean_absolute_error: 15.7203 - root_mean_squared_error: 22.9975 - mean_absolute_percentage_error: 20.2762\n",
      "Epoch 67/100\n",
      "1539/1539 [==============================] - 26s 17ms/step - loss: 9.1602 - mean_absolute_error: 15.7202 - root_mean_squared_error: 22.9947 - mean_absolute_percentage_error: 20.2239\n",
      "Epoch 68/100\n",
      "1539/1539 [==============================] - 26s 17ms/step - loss: 9.1627 - mean_absolute_error: 15.7221 - root_mean_squared_error: 23.0077 - mean_absolute_percentage_error: 20.2238 6s - loss: 9.1700 - mean_a\n",
      "Epoch 69/100\n",
      "1539/1539 [==============================] - 26s 17ms/step - loss: 9.1605 - mean_absolute_error: 15.6936 - root_mean_squared_error: 22.9596 - mean_absolute_percentage_error: 20.1937 5s - loss: 9.1622 - mean_abs\n",
      "Epoch 70/100\n",
      "1539/1539 [==============================] - 26s 17ms/step - loss: 9.1450 - mean_absolute_error: 15.6676 - root_mean_squared_error: 22.9163 - mean_absolute_percentage_error: 20.1697\n",
      "Epoch 71/100\n",
      "1539/1539 [==============================] - 26s 17ms/step - loss: 9.1365 - mean_absolute_error: 15.6569 - root_mean_squared_error: 22.8950 - mean_absolute_percentage_error: 20.1320 4s - loss: 9.1275 - mean_absolute_error: 15.6262 - root_mean_squared_err - ETA: 1s - loss: 9.1291 - mean_absolute_error: 15.6410 - root_mean_squared_error: 22.8781 - mean_absolute_perc\n",
      "Epoch 72/100\n",
      "1539/1539 [==============================] - 26s 17ms/step - loss: 9.1406 - mean_absolute_error: 15.6396 - root_mean_squared_error: 22.8821 - mean_absolute_percentage_error: 20.1088 3s - loss: 9.1387 - mean_absolute_error: 15.6169 - root_mean_squared_e\n",
      "Epoch 73/100\n",
      "1539/1539 [==============================] - 26s 17ms/step - loss: 9.1437 - mean_absolute_error: 15.6494 - root_mean_squared_error: 22.8979 - mean_absolute_percentage_error: 20.1241 12s - loss: 9.1561 - mean_absolute_error: 15.6357 - root_mean_squared_error: 22. - ETA: 11s - loss: 9.1445 - mean_absolute_error: 15.6191 - root_m - \n",
      "Epoch 74/100\n",
      "1539/1539 [==============================] - 26s 17ms/step - loss: 9.1307 - mean_absolute_error: 15.6496 - root_mean_squared_error: 22.8953 - mean_absolute_percentage_error: 20.0710 16s - loss: 9. - ETA: 13s - loss: 9.1199 - mean_absolute_error: 15.5947 - root_mean_squared_error: 22.7970 - mean_absolute_percentage_erro - ETA: 13s - loss: 9.1187 - mean_absolute_error: 15.5905 - root_mean_squared_error: 22.7933 - mean_absolute_percentage_error: - ETA: 12s - loss: 9.1221 - mean_absolut - ETA: 1s - loss: 9.1290 - mean_absolute_error: 15.6527 - root_mean_squared_error: 22.9089 - mean_absolut\n",
      "Epoch 75/100\n",
      "1539/1539 [==============================] - 26s 17ms/step - loss: 9.1316 - mean_absolute_error: 15.5691 - root_mean_squared_error: 22.8030 - mean_absolute_percentage_error: 19.9897: 0s - loss: 9.1321 - mean_absolute_error: 15.5671 - root_mean_squared_error: 22.8041 - mean_absolute_percentage_error: 1\n",
      "Epoch 76/100\n",
      "1539/1539 [==============================] - 26s 17ms/step - loss: 9.1324 - mean_absolute_error: 15.6147 - root_mean_squared_error: 22.8480 - mean_absolute_percentage_error: 20.0046\n",
      "Epoch 77/100\n",
      "1539/1539 [==============================] - 26s 17ms/step - loss: 9.1203 - mean_absolute_error: 15.6108 - root_mean_squared_error: 22.8508 - mean_absolute_percentage_error: 20.0436\n",
      "Epoch 78/100\n",
      "1539/1539 [==============================] - 26s 17ms/step - loss: 9.1169 - mean_absolute_error: 15.5860 - root_mean_squared_error: 22.7994 - mean_absolute_percentage_error: 20.0351 7s - loss: 9.1406 - mean_ - ETA: 1s - loss: 9.1203 - mean_absolute_error: 15.5956 - root_mean_squared_error: 22.8082 - mean_absolute_pe\n",
      "Epoch 79/100\n",
      "1539/1539 [==============================] - 26s 17ms/step - loss: 9.1221 - mean_absolute_error: 15.5890 - root_mean_squared_error: 22.8064 - mean_absolute_percentage_error: 19.9358 7s - \n",
      "Epoch 80/100\n",
      "1539/1539 [==============================] - 26s 17ms/step - loss: 9.1194 - mean_absolute_error: 15.5364 - root_mean_squared_error: 22.7465 - mean_absolute_percentage_error: 19.8811 \n",
      "Epoch 81/100\n",
      "1539/1539 [==============================] - 26s 17ms/step - loss: 9.1159 - mean_absolute_error: 15.5426 - root_mean_squared_error: 22.7668 - mean_absolute_percentage_error: 19.8819\n",
      "Epoch 82/100\n",
      "1539/1539 [==============================] - 26s 17ms/step - loss: 9.1091 - mean_absolute_error: 15.5519 - root_mean_squared_error: 22.7785 - mean_absolute_percentage_error: 19.9011 - ETA: 8s - loss: 9.1078 - mean_absolute_error: 15.5009 - root_mean_squared_e - ETA: 5s - loss: 9.1096 - mean_absolute_error: 15.\n",
      "Epoch 83/100\n",
      "1539/1539 [==============================] - 26s 17ms/step - loss: 9.1088 - mean_absolute_error: 15.5244 - root_mean_squared_error: 22.7333 - mean_absolute_percentage_error: 19.8595 9s - loss: 9.1262 - mean_absolute_error: 15.5671 - root_mean_squared_err - ETA: 6s - loss: 9.1167 - mean_absolute\n",
      "Epoch 84/100\n",
      "1539/1539 [==============================] - 26s 17ms/step - loss: 9.1029 - mean_absolute_error: 15.4868 - root_mean_squared_error: 22.6818 - mean_absolute_percentage_error: 19.8255\n",
      "Epoch 85/100\n",
      "1539/1539 [==============================] - 26s 17ms/step - loss: 9.0989 - mean_absolute_error: 15.5024 - root_mean_squared_error: 22.6982 - mean_absolute_percentage_error: 19.7831 3s - loss: 9.0959 - mean_absolute_error: 15.5054 - root_mean_squared_error: 22.7033 - mean_absolute_percentage_error: 19. - ETA: 3s - loss: 9.0975 - mean_absolute_error: 15.5059 - root_mean_squared_error: 22.7015 -  - ETA: 0s - loss: 9.0965 - mean_absolute_error: 15.5040 - root_mean_squared_error: 22.6931 - mean_absolute_percentage\n",
      "Epoch 86/100\n",
      "1539/1539 [==============================] - 26s 17ms/step - loss: 9.0997 - mean_absolute_error: 15.5008 - root_mean_squared_error: 22.6903 - mean_absolute_percentage_error: 19.7820 12s - loss: 9.0838 - m\n",
      "Epoch 87/100\n",
      "1539/1539 [==============================] - 26s 17ms/step - loss: 9.0946 - mean_absolute_error: 15.4778 - root_mean_squared_error: 22.6629 - mean_absolute_percentage_error: 19.7786 6s - loss: 9.09\n",
      "Epoch 88/100\n",
      "1539/1539 [==============================] - 26s 17ms/step - loss: 9.0836 - mean_absolute_error: 15.4798 - root_mean_squared_error: 22.6597 - mean_absolute_percentage_error: 19.7772\n",
      "Epoch 89/100\n",
      "1539/1539 [==============================] - 26s 17ms/step - loss: 9.0788 - mean_absolute_error: 15.4466 - root_mean_squared_error: 22.6116 - mean_absolute_percentage_error: 19.7745\n",
      "Epoch 90/100\n",
      "1539/1539 [==============================] - 26s 17ms/step - loss: 9.0730 - mean_absolute_error: 15.4532 - root_mean_squared_error: 22.6178 - mean_absolute_percentage_error: 19.7906  - ETA: 17s - loss: 9.0609 - mean_absolute_error: 15.4042 - root_mean_squared_erro - ETA: 16s - loss: 9.0838 - mean_absolute_error: 15.4451 - root_mean_squared_error: 22.6543 - mean_abso - ETA: 4s - loss: 9.0867 - mean_absolute_error: 15.4732 - root_mean_squared_error: 22.6788 - mean_absolute_percentage_error: 19. - ETA: 3s - loss: 9.0839 - mean_absolute_error: 15.4707 - root_mean_squared_error: 22.6760 - mean_absolute_percentage_error: - ETA: 3s - loss: 9.0830 - mean_absolute_error: 15.4737 - root_mean_squared_error: 22.6759 - mean_absol - ETA: 1s - loss: 9.0737 - mean_absolute_error: 15.4658 - root_mean_squared_error: 22.6457 - mean_absolute\n",
      "Epoch 91/100\n",
      "1539/1539 [==============================] - 26s 17ms/step - loss: 9.0721 - mean_absolute_error: 15.4470 - root_mean_squared_error: 22.6121 - mean_absolute_percentage_error: 19.7139 7s - loss: 9.0875 - mean_absolute_error: 15.4334 - root_mean_squa - ETA: 3s - loss: 9.0885 - mean_absolute_error: 15.4566 - root_mean_squa\n",
      "Epoch 92/100\n",
      "1539/1539 [==============================] - 26s 17ms/step - loss: 9.0628 - mean_absolute_error: 15.4182 - root_mean_squared_error: 22.5758 - mean_absolute_percentage_error: 19.7032\n",
      "Epoch 93/100\n",
      "1539/1539 [==============================] - 26s 17ms/step - loss: 9.0691 - mean_absolute_error: 15.4238 - root_mean_squared_error: 22.5822 - mean_absolute_percentage_error: 19.6810 11s - loss: 9.0495 - mean_absolute_error: 15.3378 - root_mean_squared_error: 22.4852 - mean_absolute_percentage_error: - ETA: 10s - loss: 9.0530 - mean_absolute_error: 15.3474 - root_mean_squa - ETA: 8s - loss: 9.0673 - mean_absolute_error: 15.3896 - root_mean_squared_error: 22.5737 - mean_absolute_percentage_error: 19 - ETA: 7s - loss: 9.0665 - mean_absolute_er - ETA: 2s - loss: 9.0693 - mean_absolute_error: 15.4088 - root_mean_squared_error: 22.5697 - mean\n",
      "Epoch 94/100\n",
      "1539/1539 [==============================] - 26s 17ms/step - loss: 9.0506 - mean_absolute_error: 15.4144 - root_mean_squared_error: 22.5473 - mean_absolute_percentage_error: 19.6905 5s - loss: 9.0284 - mean_absolute_error - ETA: 0s - loss: 9.0499 - mean_absolute_error: 15.4144 - root_mean_squared_error: 22.5450 - mean_absolute_percentage_error: \n",
      "Epoch 95/100\n",
      "1539/1539 [==============================] - 26s 17ms/step - loss: 9.0584 - mean_absolute_error: 15.3931 - root_mean_squared_error: 22.5240 - mean_absolute_percentage_error: 19.5840 3s - loss: 9.0587 - mean_absolute_error: 15.4276 - root_mean\n",
      "Epoch 96/100\n",
      "1539/1539 [==============================] - 26s 17ms/step - loss: 9.0469 - mean_absolute_error: 15.3836 - root_mean_squared_error: 22.5053 - mean_absolute_percentage_error: 19.6470\n",
      "Epoch 97/100\n",
      "1539/1539 [==============================] - 26s 17ms/step - loss: 9.0570 - mean_absolute_error: 15.3840 - root_mean_squared_error: 22.5261 - mean_absolute_percentage_error: 19.5979\n",
      "Epoch 98/100\n",
      "1539/1539 [==============================] - 26s 17ms/step - loss: 9.0462 - mean_absolute_error: 15.3751 - root_mean_squared_error: 22.5140 - mean_absolute_percentage_error: 19.5828 9s - loss: 9.0549 - mean_absolute_error: 15.3610 - root_mean_squared_error: 22.537 - ETA: 6s - loss: 9.0\n",
      "Epoch 99/100\n",
      "1539/1539 [==============================] - 26s 17ms/step - loss: 9.0396 - mean_absolute_error: 15.3674 - root_mean_squared_error: 22.4863 - mean_absolute_percentage_error: 19.5381 8s - loss: 9.0392 - mea - ETA: 2s - loss: 9.0408 - mean_absolute_error: 15.3538 - root_mean_squared_error: 22.4826 - mean_absolut - ETA: 0s - loss: 9.0400 - mean_absolute_error: 15.3488 - root_mean_squared_error: 22.4693 - mean_absolute_percentag\n",
      "Epoch 100/100\n",
      "1539/1539 [==============================] - 26s 17ms/step - loss: 9.0358 - mean_absolute_error: 15.3493 - root_mean_squared_error: 22.4639 - mean_absolute_percentage_error: 19.5632 5s - loss: 9.0354 - mean_absolute_error\n"
     ]
    },
    {
     "data": {
      "text/plain": [
       "<keras.callbacks.History at 0x1a262ae1b20>"
      ]
     },
     "execution_count": 59,
     "metadata": {},
     "output_type": "execute_result"
    }
   ],
   "source": [
    "model60.fit((Wt60,Xt60), yt60, \n",
    "            epochs = 100, \n",
    "            verbose = 1\n",
    "            )"
   ]
  },
  {
   "cell_type": "code",
   "execution_count": 60,
   "metadata": {},
   "outputs": [
    {
     "name": "stderr",
     "output_type": "stream",
     "text": [
      "WARNING:absl:Function `_wrapped_model` contains input name(s) WideInput, DeepInput with unsupported characters which will be renamed to wideinput, deepinput in the SavedModel.\n",
      "WARNING:absl:Found untraced functions such as lstm_cell_5_layer_call_fn, lstm_cell_5_layer_call_and_return_conditional_losses, lstm_cell_6_layer_call_fn, lstm_cell_6_layer_call_and_return_conditional_losses, lstm_cell_5_layer_call_fn while saving (showing 5 of 10). These functions will not be directly callable after loading.\n"
     ]
    },
    {
     "name": "stdout",
     "output_type": "stream",
     "text": [
      "INFO:tensorflow:Assets written to: my_dir/8e-60\\assets\n"
     ]
    },
    {
     "name": "stderr",
     "output_type": "stream",
     "text": [
      "INFO:tensorflow:Assets written to: my_dir/8e-60\\assets\n",
      "WARNING:absl:<keras.layers.recurrent.LSTMCell object at 0x000001A25D8469A0> has the same name 'LSTMCell' as a built-in Keras object. Consider renaming <class 'keras.layers.recurrent.LSTMCell'> to avoid naming conflicts when loading with `tf.keras.models.load_model`. If renaming is not possible, pass the object in the `custom_objects` parameter of the load function.\n",
      "WARNING:absl:<keras.layers.recurrent.LSTMCell object at 0x000001A25C851D60> has the same name 'LSTMCell' as a built-in Keras object. Consider renaming <class 'keras.layers.recurrent.LSTMCell'> to avoid naming conflicts when loading with `tf.keras.models.load_model`. If renaming is not possible, pass the object in the `custom_objects` parameter of the load function.\n",
      "WARNING:absl:<keras.layers.recurrent.LSTMCell object at 0x000001A25C84E3D0> has the same name 'LSTMCell' as a built-in Keras object. Consider renaming <class 'keras.layers.recurrent.LSTMCell'> to avoid naming conflicts when loading with `tf.keras.models.load_model`. If renaming is not possible, pass the object in the `custom_objects` parameter of the load function.\n"
     ]
    }
   ],
   "source": [
    "model60.save(\"my_dir/8e-60\")"
   ]
  },
  {
   "cell_type": "code",
   "execution_count": 61,
   "metadata": {},
   "outputs": [],
   "source": [
    "metrics60 = pd.DataFrame(model60.history.history)"
   ]
  },
  {
   "cell_type": "code",
   "execution_count": 62,
   "metadata": {},
   "outputs": [
    {
     "data": {
      "text/plain": [
       "<AxesSubplot:>"
      ]
     },
     "execution_count": 62,
     "metadata": {},
     "output_type": "execute_result"
    },
    {
     "data": {
      "image/png": "[encoded data removed]",
      "text/plain": [
       "<Figure size 432x288 with 1 Axes>"
      ]
     },
     "metadata": {
      "needs_background": "light"
     },
     "output_type": "display_data"
    }
   ],
   "source": [
    "metrics60[['loss']].plot()"
   ]
  },
  {
   "cell_type": "code",
   "execution_count": 63,
   "metadata": {},
   "outputs": [],
   "source": [
    "model60 = keras.models.load_model(\"my_dir/8e-60\", custom_objects={'GEH_loss': GEH_loss})"
   ]
  },
  {
   "cell_type": "code",
   "execution_count": 64,
   "metadata": {},
   "outputs": [
    {
     "data": {
      "text/plain": [
       "array([[ 29.469704 ,  15.134949 ,  14.936466 ,  60.36817  ,  28.699556 ,\n",
       "          5.125877 ],\n",
       "       [ 28.145576 ,  13.994084 ,  11.576061 ,  59.192444 ,  29.458315 ,\n",
       "          6.2517905],\n",
       "       [ 29.144009 ,  15.20198  ,  11.734049 ,  58.987686 ,  29.95547  ,\n",
       "          6.751257 ],\n",
       "       ...,\n",
       "       [ 40.84218  ,  38.637497 ,  58.235634 , 123.174416 ,  49.907284 ,\n",
       "         14.900343 ],\n",
       "       [ 41.59125  ,  40.554317 ,  61.68642  , 123.30201  ,  49.357353 ,\n",
       "         11.969831 ],\n",
       "       [ 38.46529  ,  35.95047  ,  50.54866  , 115.38683  ,  50.555702 ,\n",
       "         11.633176 ]], dtype=float32)"
      ]
     },
     "execution_count": 64,
     "metadata": {},
     "output_type": "execute_result"
    }
   ],
   "source": [
    "model60.predict((Wv60,Xv60))"
   ]
  },
  {
   "cell_type": "markdown",
   "metadata": {},
   "source": [
    "### Evaluation on inverse_transform"
   ]
  },
  {
   "cell_type": "code",
   "execution_count": null,
   "metadata": {},
   "outputs": [],
   "source": [
    "test_predictions60 = model60.predict((Wv60,Xv60))\n",
    "\n",
    "\n",
    "MSE60 = mean_squared_error(yv60,test_predictions60)\n",
    "\n",
    "MAE60 = mean_absolute_error(yv60,test_predictions60)\n",
    "\n",
    "RMSE60 = np.sqrt(MSE60)\n",
    "\n",
    "MAPE60 = mean_absolute_percentage_error(yv60,test_predictions60)*100\n",
    "\n",
    "eval60 = [MSE60, MAE60, RMSE60, MAPE60]\n",
    "print(eval60)"
   ]
  },
  {
   "cell_type": "code",
   "execution_count": null,
   "metadata": {},
   "outputs": [],
   "source": [
    "GEH, count = ga.GEH(np.asarray(yv60), np.asarray(test_predictions60))\n",
    "GEH60 = count/GEH.size\n",
    "print(GEH60)"
   ]
  }
 ],
 "metadata": {
  "kernelspec": {
   "display_name": "Python 3 (ipykernel)",
   "language": "python",
   "name": "python3"
  },
  "language_info": {
   "codemirror_mode": {
    "name": "ipython",
    "version": 3
   },
   "file_extension": ".py",
   "mimetype": "text/x-python",
   "name": "python",
   "nbconvert_exporter": "python",
   "pygments_lexer": "ipython3",
   "version": "3.11.5"
  }
 },
 "nbformat": 4,
 "nbformat_minor": 4
}
