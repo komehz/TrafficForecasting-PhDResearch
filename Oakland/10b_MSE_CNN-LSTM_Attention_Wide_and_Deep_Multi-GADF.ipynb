{
 "cells": [
  {
   "cell_type": "code",
   "execution_count": 1,
   "metadata": {},
   "outputs": [],
   "source": [
    "import pandas as pd\n",
    "import numpy as np\n",
    "import matplotlib.pyplot as plt\n",
    "import seaborn as sns\n",
    "import joblib\n",
    "import os"
   ]
  },
  {
   "cell_type": "code",
   "execution_count": 2,
   "metadata": {},
   "outputs": [],
   "source": [
    "import keras_tuner as kt\n",
    "from keras_tuner import RandomSearch\n",
    "# from GEH_LOSS import GEH_loss\n",
    "import geh as ga"
   ]
  },
  {
   "cell_type": "code",
   "execution_count": 3,
   "metadata": {},
   "outputs": [],
   "source": [
    "from sklearn.metrics import mean_absolute_error,mean_squared_error,mean_absolute_percentage_error"
   ]
  },
  {
   "cell_type": "code",
   "execution_count": 4,
   "metadata": {},
   "outputs": [],
   "source": [
    "import relative_accuracy as ra"
   ]
  },
  {
   "cell_type": "code",
   "execution_count": 5,
   "metadata": {},
   "outputs": [],
   "source": [
    "# Load all Inputs and Output Data\n",
    "\n",
    "# 5 mins (1 step ahead)\n",
    "Deep_train_5   = np.load(\"Deep_train_5_multi.npz\")['x'] \n",
    "Output_train_5 = np.load(\"Deep_train_5_multi.npz\")['y']\n",
    "\n",
    "Deep_test_5   = np.load(\"Deep_test_5_multi.npz\")['x'] \n",
    "Output_test_5 = np.load(\"Deep_test_5_multi.npz\")['y'] \n",
    "\n",
    "# 15 mins (3 steps ahead)\n",
    "Deep_train_15   = np.load(\"Deep_train_15_multi.npz\")['x'] \n",
    "Output_train_15 = np.load(\"Deep_train_15_multi.npz\")['y']\n",
    "\n",
    "Deep_test_15   = np.load(\"Deep_test_15_multi.npz\")['x'] \n",
    "Output_test_15 = np.load(\"Deep_test_15_multi.npz\")['y']\n",
    "\n",
    "# 30 mins (6 steps ahead)\n",
    "Deep_train_30   = np.load(\"Deep_train_30_multi.npz\")['x'] \n",
    "Output_train_30 = np.load(\"Deep_train_30_multi.npz\")['y']\n",
    "\n",
    "Deep_test_30   = np.load(\"Deep_test_30_multi.npz\")['x'] \n",
    "Output_test_30 = np.load(\"Deep_test_30_multi.npz\")['y']\n",
    "\n",
    "# 60 mins (12 steps ahead)\n",
    "Deep_train_60   = np.load(\"Deep_train_60_multi.npz\")['x'] \n",
    "Output_train_60 = np.load(\"Deep_train_60_multi.npz\")['y']\n",
    "\n",
    "Deep_test_60   = np.load(\"Deep_test_60_multi.npz\")['x'] \n",
    "Output_test_60 = np.load(\"Deep_test_60_multi.npz\")['y']"
   ]
  },
  {
   "cell_type": "code",
   "execution_count": 6,
   "metadata": {},
   "outputs": [],
   "source": [
    "# Wide Data\n",
    "Xtrain = joblib.load(\"002weeks_train_Multi.save\") \n",
    "Xtest = joblib.load(\"002weeks_test_Multi.save\") "
   ]
  },
  {
   "cell_type": "code",
   "execution_count": 7,
   "metadata": {},
   "outputs": [],
   "source": [
    "# 5 mins\n",
    "# Delete first 15 samples\n",
    "Wide_train_5 = np.delete(Xtrain, np.s_[0:15], 0)\n",
    "Wide_test_5 = np.delete(Xtest, np.s_[0:15], 0)"
   ]
  },
  {
   "cell_type": "code",
   "execution_count": 8,
   "metadata": {},
   "outputs": [],
   "source": [
    "# 15 mins\n",
    "# Delete first 17 samples\n",
    "Wide_train_15 = np.delete(Xtrain, np.s_[0:17], 0)\n",
    "Wide_test_15 = np.delete(Xtest, np.s_[0:17], 0)"
   ]
  },
  {
   "cell_type": "code",
   "execution_count": 9,
   "metadata": {},
   "outputs": [],
   "source": [
    "# 30 mins\n",
    "# Delete first 20 samples\n",
    "Wide_train_30 = np.delete(Xtrain, np.s_[0:20], 0)\n",
    "Wide_test_30 = np.delete(Xtest, np.s_[0:20], 0)"
   ]
  },
  {
   "cell_type": "code",
   "execution_count": 10,
   "metadata": {},
   "outputs": [],
   "source": [
    "# 60 mins\n",
    "# Delete first 27 samples\n",
    "Wide_train_60 = np.delete(Xtrain, np.s_[0:26], 0)\n",
    "Wide_test_60 = np.delete(Xtest, np.s_[0:26], 0)"
   ]
  },
  {
   "cell_type": "code",
   "execution_count": 11,
   "metadata": {},
   "outputs": [],
   "source": [
    "scaler_filename = \"scaler.save\"\n",
    "scaler = joblib.load(scaler_filename) "
   ]
  },
  {
   "cell_type": "code",
   "execution_count": 12,
   "metadata": {},
   "outputs": [],
   "source": [
    "Test      = pd.read_csv('01test_scaled.csv', index_col=None, parse_dates=[0])"
   ]
  },
  {
   "cell_type": "code",
   "execution_count": 13,
   "metadata": {},
   "outputs": [],
   "source": [
    "from pyts.image import GramianAngularField"
   ]
  },
  {
   "cell_type": "markdown",
   "metadata": {},
   "source": [
    "# Reshape Samples"
   ]
  },
  {
   "cell_type": "markdown",
   "metadata": {},
   "source": [
    "The first step is to split the input sequences into subsequences that can be processed by the CNN model. Here, each spatio-temporal sample can be split into three sub-samples, each with five time steps. The CNN can interpret each subsequence of five time steps and provide a time series of interpretations of the subsequences to the LSTM model to process as input."
   ]
  },
  {
   "cell_type": "code",
   "execution_count": 14,
   "metadata": {},
   "outputs": [],
   "source": [
    "# reshape from [samples, timesteps] into [samples, subsequences, timesteps, features]\n",
    "n_features = 6                # No of loop detectors\n",
    "n_seq = 3                     # Subsequences\n",
    "n_steps = 5                   # time-step per subsequence\n",
    "# val_percent = 0.07567       # 2 weeks\n",
    "val_percent = 0.2        \n",
    "batch_size = 32\n",
    "n_GAF = 15\n",
    "\n",
    "n_seq_ = 3                     # Subsequences\n",
    "n_steps_ = 3                   # time-step per subsequence"
   ]
  },
  {
   "cell_type": "code",
   "execution_count": 15,
   "metadata": {},
   "outputs": [],
   "source": [
    "# Summation\n",
    "gasf = GramianAngularField(image_size=1., method='summation', sample_range=None)\n",
    "# Difference\n",
    "gadf = GramianAngularField(image_size=1., method='difference', sample_range=None)"
   ]
  },
  {
   "cell_type": "markdown",
   "metadata": {},
   "source": [
    "#### 5 mins"
   ]
  },
  {
   "cell_type": "code",
   "execution_count": 16,
   "metadata": {},
   "outputs": [],
   "source": [
    "# Train\n",
    "Xt5 = np.empty((len(Deep_train_5), n_features, n_GAF, n_GAF))\n",
    "yt5 = scaler.inverse_transform(Output_train_5)"
   ]
  },
  {
   "cell_type": "code",
   "execution_count": 17,
   "metadata": {},
   "outputs": [],
   "source": [
    "# Test\n",
    "Xv5 = np.empty((len(Deep_test_5), n_features, n_GAF, n_GAF))\n",
    "yv5 = scaler.inverse_transform(Output_test_5)"
   ]
  },
  {
   "cell_type": "code",
   "execution_count": 18,
   "metadata": {},
   "outputs": [],
   "source": [
    "Deep_train_5 = np.where(np.isclose(Deep_train_5, 1, rtol=0, atol=1e-9), 1, Deep_train_5)\n",
    "Deep_test_5 = np.where(np.isclose(Deep_test_5, 1, rtol=0, atol=1e-9), 1, Deep_test_5) "
   ]
  },
  {
   "cell_type": "markdown",
   "metadata": {},
   "source": [
    "#### 15 mins"
   ]
  },
  {
   "cell_type": "code",
   "execution_count": 19,
   "metadata": {},
   "outputs": [],
   "source": [
    "# Train\n",
    "Xt15 = np.empty((len(Deep_train_15), n_features, n_GAF, n_GAF))\n",
    "yt15 = scaler.inverse_transform(Output_train_15)"
   ]
  },
  {
   "cell_type": "code",
   "execution_count": 20,
   "metadata": {},
   "outputs": [],
   "source": [
    "# Test\n",
    "Xv15 = np.empty((len(Deep_test_15), n_features, n_GAF, n_GAF))\n",
    "yv15 = scaler.inverse_transform(Output_test_15)"
   ]
  },
  {
   "cell_type": "code",
   "execution_count": 21,
   "metadata": {},
   "outputs": [],
   "source": [
    "Deep_train_15 = np.where(np.isclose(Deep_train_15, 1, rtol=0, atol=1e-9), 1, Deep_train_15)\n",
    "Deep_test_15 = np.where(np.isclose(Deep_test_15, 1, rtol=0, atol=1e-9), 1, Deep_test_15) "
   ]
  },
  {
   "cell_type": "markdown",
   "metadata": {},
   "source": [
    "#### 30 mins"
   ]
  },
  {
   "cell_type": "code",
   "execution_count": 22,
   "metadata": {},
   "outputs": [],
   "source": [
    "# Train\n",
    "Xt30 = np.empty((len(Deep_train_30), n_features, n_GAF, n_GAF))\n",
    "yt30 = scaler.inverse_transform(Output_train_30)"
   ]
  },
  {
   "cell_type": "code",
   "execution_count": 23,
   "metadata": {},
   "outputs": [],
   "source": [
    "# Test\n",
    "Xv30 = np.empty((len(Deep_test_30), n_features, n_GAF, n_GAF))\n",
    "yv30 = scaler.inverse_transform(Output_test_30)"
   ]
  },
  {
   "cell_type": "code",
   "execution_count": 24,
   "metadata": {},
   "outputs": [],
   "source": [
    "Deep_train_30 = np.where(np.isclose(Deep_train_30, 1, rtol=0, atol=1e-9), 1, Deep_train_30)\n",
    "Deep_test_30 = np.where(np.isclose(Deep_test_30, 1, rtol=0, atol=1e-9), 1, Deep_test_30)    "
   ]
  },
  {
   "cell_type": "markdown",
   "metadata": {},
   "source": [
    "#### 60 mins"
   ]
  },
  {
   "cell_type": "code",
   "execution_count": 25,
   "metadata": {},
   "outputs": [],
   "source": [
    "# Train\n",
    "Xt60 = np.empty((len(Deep_train_60), n_features, n_GAF, n_GAF))\n",
    "yt60 = scaler.inverse_transform(Output_train_60)"
   ]
  },
  {
   "cell_type": "code",
   "execution_count": 26,
   "metadata": {},
   "outputs": [],
   "source": [
    "# Test\n",
    "Xv60 = np.empty((len(Deep_test_60), n_features, n_GAF, n_GAF))\n",
    "yv60 = scaler.inverse_transform(Output_test_60)"
   ]
  },
  {
   "cell_type": "code",
   "execution_count": 27,
   "metadata": {},
   "outputs": [],
   "source": [
    "Deep_train_60 = np.where(np.isclose(Deep_train_60, 1, rtol=0, atol=1e-9), 1, Deep_train_60)\n",
    "Deep_test_60 = np.where(np.isclose(Deep_test_60, 1, rtol=0, atol=1e-9), 1, Deep_test_60) "
   ]
  },
  {
   "cell_type": "code",
   "execution_count": 28,
   "metadata": {},
   "outputs": [],
   "source": [
    "## Check Size"
   ]
  },
  {
   "cell_type": "code",
   "execution_count": 29,
   "metadata": {},
   "outputs": [
    {
     "data": {
      "text/plain": [
       "(49233, 6, 15, 15)"
      ]
     },
     "execution_count": 29,
     "metadata": {},
     "output_type": "execute_result"
    }
   ],
   "source": [
    "Xt5.shape"
   ]
  },
  {
   "cell_type": "markdown",
   "metadata": {},
   "source": [
    "## Tranformations"
   ]
  },
  {
   "cell_type": "markdown",
   "metadata": {},
   "source": [
    "### 5 mins"
   ]
  },
  {
   "cell_type": "code",
   "execution_count": 30,
   "metadata": {},
   "outputs": [],
   "source": [
    "for i in range(len(Xt5)):\n",
    "    # Transpose data first because:\n",
    "    # expected shape is (n_samples, n_timestamps)\n",
    "    X = np.transpose(Deep_train_5[i])\n",
    "    \n",
    "    # Perform the GAF transformations\n",
    "    # X_gasf = gasf.transform(X)\n",
    "    X_gadf = gadf.transform(X)\n",
    "    \n",
    "    # Store value in the array to get the shape:\n",
    "    # (samples, feature, n_GAF, n_GAF)\n",
    "    # Xt5[i,:,:,:] = X_gasf\n",
    "    Xt5[i,:,:,:] = X_gadf"
   ]
  },
  {
   "cell_type": "code",
   "execution_count": 31,
   "metadata": {},
   "outputs": [],
   "source": [
    "for i in range(len(Xv5)):\n",
    "    # Transpose data first because:\n",
    "    # expected shape is (n_samples, n_timestamps)\n",
    "    X = np.transpose(Deep_test_5[i])\n",
    "    \n",
    "    # Perform the GAF transformations\n",
    "    # X_gasf = gasf.transform(X)\n",
    "    X_gadf = gadf.transform(X)\n",
    "    \n",
    "    # Store value in the array to get the shape:\n",
    "    # (samples, feature, n_GAF, n_GAF)\n",
    "    # Xv5[i,:,:,:] = X_gasf\n",
    "    Xv5[i,:,:,:] = X_gadf"
   ]
  },
  {
   "cell_type": "code",
   "execution_count": 32,
   "metadata": {},
   "outputs": [
    {
     "data": {
      "text/plain": [
       "(49233, 6, 15, 15)"
      ]
     },
     "execution_count": 32,
     "metadata": {},
     "output_type": "execute_result"
    }
   ],
   "source": [
    "Xt5.shape"
   ]
  },
  {
   "cell_type": "code",
   "execution_count": 33,
   "metadata": {},
   "outputs": [
    {
     "data": {
      "text/plain": [
       "(4017, 6, 15, 15)"
      ]
     },
     "execution_count": 33,
     "metadata": {},
     "output_type": "execute_result"
    }
   ],
   "source": [
    "Xv5.shape"
   ]
  },
  {
   "cell_type": "markdown",
   "metadata": {},
   "source": [
    "### 15 mins"
   ]
  },
  {
   "cell_type": "code",
   "execution_count": 34,
   "metadata": {},
   "outputs": [],
   "source": [
    "for i in range(len(Xt15)):\n",
    "    # Transpose data first because:\n",
    "    # expected shape is (n_samples, n_timestamps)\n",
    "    X = np.transpose(Deep_train_15[i])\n",
    "    \n",
    "    # Perform the GAF transformations\n",
    "    # X_gasf = gasf.transform(X)\n",
    "    X_gadf = gadf.transform(X)\n",
    "    \n",
    "    # Store value in the array to get the shape:\n",
    "    # (samples, feature, n_GAF, n_GAF)\n",
    "    # Xt15[i,:,:,:] = X_gasf\n",
    "    Xt5[i,:,:,:] = X_gadf"
   ]
  },
  {
   "cell_type": "code",
   "execution_count": 35,
   "metadata": {},
   "outputs": [],
   "source": [
    "for i in range(len(Xv15)):\n",
    "    # Transpose data first because:\n",
    "    # expected shape is (n_samples, n_timestamps)\n",
    "    X = np.transpose(Deep_test_15[i])\n",
    "    \n",
    "    # Perform the GAF transformations\n",
    "    # X_gasf = gasf.transform(X)\n",
    "    X_gadf = gadf.transform(X)\n",
    "    \n",
    "    # Store value in the array to get the shape:\n",
    "    # (samples, feature, n_GAF, n_GAF)\n",
    "    # Xv15[i,:,:,:] = X_gasf\n",
    "    Xv5[i,:,:,:] = X_gadf"
   ]
  },
  {
   "cell_type": "code",
   "execution_count": 36,
   "metadata": {},
   "outputs": [
    {
     "data": {
      "text/plain": [
       "(49231, 6, 15, 15)"
      ]
     },
     "execution_count": 36,
     "metadata": {},
     "output_type": "execute_result"
    }
   ],
   "source": [
    "Xt15.shape"
   ]
  },
  {
   "cell_type": "code",
   "execution_count": 37,
   "metadata": {},
   "outputs": [
    {
     "data": {
      "text/plain": [
       "(4015, 6, 15, 15)"
      ]
     },
     "execution_count": 37,
     "metadata": {},
     "output_type": "execute_result"
    }
   ],
   "source": [
    "Xv15.shape"
   ]
  },
  {
   "cell_type": "markdown",
   "metadata": {},
   "source": [
    "### 30 mins"
   ]
  },
  {
   "cell_type": "code",
   "execution_count": 38,
   "metadata": {},
   "outputs": [],
   "source": [
    "for i in range(len(Xt30)):\n",
    "    # Transpose data first because:\n",
    "    # expected shape is (n_samples, n_timestamps)\n",
    "    X = np.transpose(Deep_train_30[i])\n",
    "    \n",
    "    # Perform the GAF transformations\n",
    "    # X_gasf = gasf.transform(X)\n",
    "    X_gadf = gadf.transform(X)\n",
    "    \n",
    "    # Store value in the array to get the shape:\n",
    "    # (samples, feature, n_GAF, n_GAF)\n",
    "    # Xt30[i,:,:,:] = X_gasf\n",
    "    Xt5[i,:,:,:] = X_gadf"
   ]
  },
  {
   "cell_type": "code",
   "execution_count": 39,
   "metadata": {},
   "outputs": [],
   "source": [
    "for i in range(len(Xv30)):\n",
    "    # Transpose data first because:\n",
    "    # expected shape is (n_samples, n_timestamps)\n",
    "    X = np.transpose(Deep_test_30[i])\n",
    "    \n",
    "    # Perform the GAF transformations\n",
    "    # X_gasf = gasf.transform(X)\n",
    "    X_gadf = gadf.transform(X)\n",
    "    \n",
    "    # Store value in the array to get the shape:\n",
    "    # (samples, feature, n_GAF, n_GAF)\n",
    "    # Xv30[i,:,:,:] = X_gasf\n",
    "    Xv5[i,:,:,:] = X_gadf"
   ]
  },
  {
   "cell_type": "code",
   "execution_count": 40,
   "metadata": {},
   "outputs": [
    {
     "data": {
      "text/plain": [
       "(49228, 6, 15, 15)"
      ]
     },
     "execution_count": 40,
     "metadata": {},
     "output_type": "execute_result"
    }
   ],
   "source": [
    "Xt30.shape"
   ]
  },
  {
   "cell_type": "code",
   "execution_count": 41,
   "metadata": {},
   "outputs": [
    {
     "data": {
      "text/plain": [
       "(4012, 6, 15, 15)"
      ]
     },
     "execution_count": 41,
     "metadata": {},
     "output_type": "execute_result"
    }
   ],
   "source": [
    "Xv30.shape"
   ]
  },
  {
   "cell_type": "markdown",
   "metadata": {},
   "source": [
    "### 60 mins"
   ]
  },
  {
   "cell_type": "code",
   "execution_count": 42,
   "metadata": {},
   "outputs": [],
   "source": [
    "for i in range(len(Xt60)):\n",
    "    # Transpose data first because:\n",
    "    # expected shape is (n_samples, n_timestamps)\n",
    "    X = np.transpose(Deep_train_60[i])\n",
    "    \n",
    "    # Perform the GAF transformations\n",
    "    # X_gasf = gasf.transform(X)\n",
    "    X_gadf = gadf.transform(X)\n",
    "    \n",
    "    # Store value in the array to get the shape:\n",
    "    # (samples, feature, n_GAF, n_GAF)\n",
    "    # Xt30[i,:,:,:] = X_gasf\n",
    "    Xt5[i,:,:,:] = X_gadf"
   ]
  },
  {
   "cell_type": "code",
   "execution_count": 43,
   "metadata": {},
   "outputs": [],
   "source": [
    "for i in range(len(Xv60)):\n",
    "    # Transpose data first because:\n",
    "    # expected shape is (n_samples, n_timestamps)\n",
    "    X = np.transpose(Deep_test_60[i])\n",
    "    \n",
    "    # Perform the GAF transformations\n",
    "    # X_gasf = gasf.transform(X)\n",
    "    X_gadf = gadf.transform(X)\n",
    "    \n",
    "    # Store value in the array to get the shape:\n",
    "    # (samples, feature, n_GAF, n_GAF)\n",
    "    # Xv60[i,:,:,:] = X_gasf\n",
    "    Xv5[i,:,:,:] = X_gadf"
   ]
  },
  {
   "cell_type": "code",
   "execution_count": 44,
   "metadata": {},
   "outputs": [
    {
     "data": {
      "text/plain": [
       "(49222, 6, 15, 15)"
      ]
     },
     "execution_count": 44,
     "metadata": {},
     "output_type": "execute_result"
    }
   ],
   "source": [
    "Xt60.shape"
   ]
  },
  {
   "cell_type": "code",
   "execution_count": 45,
   "metadata": {},
   "outputs": [
    {
     "data": {
      "text/plain": [
       "(4006, 6, 15, 15)"
      ]
     },
     "execution_count": 45,
     "metadata": {},
     "output_type": "execute_result"
    }
   ],
   "source": [
    "Xv60.shape"
   ]
  },
  {
   "cell_type": "markdown",
   "metadata": {},
   "source": [
    "### Reshaping the Data for Conv2D layer\n",
    "\n",
    "For Conv2D, there is a need to add one more dimension to show we're dealing with 1 channel (since technically the images are in black and white, only showing values from 0-max flow on a single channel).\n",
    "\n",
    "Conv1D - strides in 1 dimension\n",
    "Conv2D - strides in 2 dimensions"
   ]
  },
  {
   "cell_type": "code",
   "execution_count": 46,
   "metadata": {},
   "outputs": [],
   "source": [
    "# Train data\n",
    "Xt5  =  np.transpose(Xt5, (0, 2, 3, 1))\n",
    "Xt15 =  np.transpose(Xt15, (0, 2, 3, 1))\n",
    "Xt30 =  np.transpose(Xt30, (0, 2, 3, 1))\n",
    "Xt60 =  np.transpose(Xt60, (0, 2, 3, 1))\n",
    "\n",
    "# Validation data\n",
    "Xv5  =  np.transpose(Xv5, (0, 2, 3, 1))\n",
    "Xv15 =  np.transpose(Xv15, (0, 2, 3, 1))\n",
    "Xv30 =  np.transpose(Xv30, (0, 2, 3, 1))\n",
    "Xv60 =  np.transpose(Xv60, (0, 2, 3, 1))"
   ]
  },
  {
   "cell_type": "code",
   "execution_count": 47,
   "metadata": {},
   "outputs": [
    {
     "data": {
      "text/plain": [
       "(49233, 15, 15, 6)"
      ]
     },
     "execution_count": 47,
     "metadata": {},
     "output_type": "execute_result"
    }
   ],
   "source": [
    "Xt5.shape"
   ]
  },
  {
   "cell_type": "code",
   "execution_count": 48,
   "metadata": {},
   "outputs": [
    {
     "data": {
      "text/plain": [
       "(4017, 15, 15, 6)"
      ]
     },
     "execution_count": 48,
     "metadata": {},
     "output_type": "execute_result"
    }
   ],
   "source": [
    "Xv5.shape"
   ]
  },
  {
   "cell_type": "code",
   "execution_count": 49,
   "metadata": {},
   "outputs": [],
   "source": [
    "# Train data\n",
    "Xt5  =  Xt5.reshape(Xt5.shape[0], n_seq, n_steps, n_GAF, n_features)\n",
    "Xt15 =  Xt15.reshape(Xt15.shape[0], n_seq, n_steps, n_GAF, n_features)\n",
    "Xt30 =  Xt30.reshape(Xt30.shape[0], n_seq, n_steps, n_GAF, n_features)\n",
    "Xt60 =  Xt60.reshape(Xt60.shape[0], n_seq, n_steps, n_GAF, n_features)\n",
    "\n",
    "# Validation data\n",
    "Xv5  =  Xv5.reshape(Xv5.shape[0], n_seq, n_steps, n_GAF, n_features)\n",
    "Xv15 =  Xv15.reshape(Xv15.shape[0], n_seq, n_steps, n_GAF, n_features)\n",
    "Xv30 =  Xv30.reshape(Xv30.shape[0], n_seq, n_steps, n_GAF, n_features)\n",
    "Xv60 =  Xv60.reshape(Xv60.shape[0], n_seq, n_steps, n_GAF, n_features)"
   ]
  },
  {
   "cell_type": "code",
   "execution_count": 50,
   "metadata": {},
   "outputs": [],
   "source": [
    "Wt5  = Wide_train_5\n",
    "Wt15 = Wide_train_15\n",
    "Wt30 = Wide_train_30\n",
    "Wt60 = Wide_train_60\n",
    "\n",
    "Wv5  = Wide_test_5\n",
    "Wv15 = Wide_test_15\n",
    "Wv30 = Wide_test_30\n",
    "Wv60 = Wide_test_60"
   ]
  },
  {
   "cell_type": "code",
   "execution_count": 51,
   "metadata": {},
   "outputs": [],
   "source": [
    "# Train data\n",
    "Wt5  =  Wt5.reshape(Wt5.shape[0], n_seq_, n_steps_, n_features)\n",
    "Wt15 =  Wt15.reshape(Wt15.shape[0], n_seq_, n_steps_, n_features)\n",
    "Wt30 =  Wt30.reshape(Wt30.shape[0], n_seq_, n_steps_, n_features)\n",
    "Wt60 =  Wt60.reshape(Wt60.shape[0], n_seq_, n_steps_, n_features)\n",
    "\n",
    "# Validation data\n",
    "Wv5  =  Wv5.reshape(Wv5.shape[0], n_seq_, n_steps_, n_features)\n",
    "Wv15 =  Wv15.reshape(Wv15.shape[0], n_seq_, n_steps_, n_features)\n",
    "Wv30 =  Wv30.reshape(Wv30.shape[0], n_seq_, n_steps_, n_features)\n",
    "Wv60 =  Wv60.reshape(Wv60.shape[0], n_seq_, n_steps_, n_features)"
   ]
  },
  {
   "cell_type": "code",
   "execution_count": 52,
   "metadata": {},
   "outputs": [
    {
     "data": {
      "text/plain": [
       "(49233, 3, 5, 15, 6)"
      ]
     },
     "execution_count": 52,
     "metadata": {},
     "output_type": "execute_result"
    }
   ],
   "source": [
    "Xt5.shape"
   ]
  },
  {
   "cell_type": "code",
   "execution_count": 53,
   "metadata": {},
   "outputs": [
    {
     "data": {
      "text/plain": [
       "(49233, 3, 3, 6)"
      ]
     },
     "execution_count": 53,
     "metadata": {},
     "output_type": "execute_result"
    }
   ],
   "source": [
    "Wt5.shape"
   ]
  },
  {
   "cell_type": "markdown",
   "metadata": {},
   "source": [
    "# CNN-LSTM model"
   ]
  },
  {
   "cell_type": "code",
   "execution_count": 54,
   "metadata": {},
   "outputs": [],
   "source": [
    "from tensorflow import keras\n",
    "from keras_self_attention import SeqSelfAttention\n",
    "\n",
    "# Early Stopping\n",
    "early_stop = keras.callbacks.EarlyStopping(monitor='val_loss',patience=5, restore_best_weights = True)"
   ]
  },
  {
   "cell_type": "code",
   "execution_count": 55,
   "metadata": {},
   "outputs": [
    {
     "data": {
      "text/plain": [
       "(49233, 9, 6)"
      ]
     },
     "execution_count": 55,
     "metadata": {},
     "output_type": "execute_result"
    }
   ],
   "source": [
    "Wide_train_5.shape"
   ]
  },
  {
   "cell_type": "markdown",
   "metadata": {},
   "source": [
    "# 5 mins ahead"
   ]
  },
  {
   "cell_type": "code",
   "execution_count": 56,
   "metadata": {},
   "outputs": [],
   "source": [
    "def build_model_5(hp):\n",
    "    # Inputs\n",
    "    channel_Wide = keras.layers.Input(shape=Wt5.shape[1:], name=\"WideInput\")\n",
    "    channel_Deep = keras.layers.Input(shape=Xt5.shape[1:], name=\"DeepInput\")\n",
    "    units = hp.Int(\"units\", min_value=1, max_value=100, step=1)\n",
    "    \n",
    "    \n",
    "    # Wide Model\n",
    "    flatten_5w = keras.layers.TimeDistributed(keras.layers.Flatten())(channel_Wide)\n",
    "    Bi_5 = keras.layers.Bidirectional(\n",
    "        keras.layers.LSTM(units=units, return_sequences=True),\n",
    "        merge_mode=\"ave\"\n",
    "    )(flatten_5w)\n",
    "    \n",
    "    \n",
    "    # Deep Model\n",
    "    # CNN \n",
    "    CNN_5 = keras.layers.TimeDistributed(\n",
    "        keras.layers.Conv2D(filters=hp.Int(\"filters\", min_value=32, max_value=512, step=32),\n",
    "                            kernel_size=hp.Choice(\"kernel_size\", [2, 3]), activation='relu'))(channel_Deep)\n",
    "    flatten_5 = keras.layers.TimeDistributed(keras.layers.Flatten())(CNN_5)\n",
    "    # LSTM          \n",
    "    LSTM_5 = keras.layers.LSTM(units=units, return_sequences=True)(flatten_5)\n",
    "\n",
    "    \n",
    "    # Concatenation \n",
    "    concat = keras.layers.concatenate([Bi_5, LSTM_5], axis=1)\n",
    "\n",
    "    # Attention\n",
    "    Att_5 = SeqSelfAttention(attention_activation='sigmoid')(concat)\n",
    "    merge = keras.layers.Flatten()(concat)\n",
    "\n",
    "    \n",
    "    # Output\n",
    "    output = keras.layers.Dense(n_features, name= \"output\")(merge)\n",
    "    \n",
    "    # Model\n",
    "    model_5 = keras.Model(inputs=[channel_Wide,channel_Deep], outputs=[output])\n",
    "\n",
    "    # Compile\n",
    "    model_5.compile(optimizer=keras.optimizers.Adam(hp.Choice(\"learning_rate\", [1e-2, 1e-3, 1e-4])), \n",
    "        loss=\"mse\", metrics=['MeanAbsoluteError','RootMeanSquaredError','MeanAbsolutePercentageError'])\n",
    "                                   \n",
    "    return model_5"
   ]
  },
  {
   "cell_type": "code",
   "execution_count": 57,
   "metadata": {},
   "outputs": [],
   "source": [
    "tuner5 = RandomSearch(\n",
    "    build_model_5,\n",
    "    objective=\"val_loss\",\n",
    "    max_trials=10,\n",
    "    executions_per_trial=2,\n",
    "    overwrite=False,\n",
    "    directory=os.path.normpath('C:/RunsOak'),\n",
    "    project_name=\"10b-5\",\n",
    ")"
   ]
  },
  {
   "cell_type": "code",
   "execution_count": 58,
   "metadata": {},
   "outputs": [
    {
     "name": "stdout",
     "output_type": "stream",
     "text": [
      "Search space summary\n",
      "Default search space size: 4\n",
      "units (Int)\n",
      "{'default': None, 'conditions': [], 'min_value': 1, 'max_value': 100, 'step': 1, 'sampling': 'linear'}\n",
      "filters (Int)\n",
      "{'default': None, 'conditions': [], 'min_value': 32, 'max_value': 512, 'step': 32, 'sampling': 'linear'}\n",
      "kernel_size (Choice)\n",
      "{'default': 2, 'conditions': [], 'values': [2, 3], 'ordered': True}\n",
      "learning_rate (Choice)\n",
      "{'default': 0.01, 'conditions': [], 'values': [0.01, 0.001, 0.0001], 'ordered': True}\n"
     ]
    }
   ],
   "source": [
    "tuner5.search_space_summary()"
   ]
  },
  {
   "cell_type": "code",
   "execution_count": 59,
   "metadata": {},
   "outputs": [
    {
     "name": "stdout",
     "output_type": "stream",
     "text": [
      "Trial 10 Complete [00h 46m 02s]\n",
      "val_loss: 693.8296508789062\n",
      "\n",
      "Best val_loss So Far: 668.3516540527344\n",
      "Total elapsed time: 18h 51m 21s\n",
      "INFO:tensorflow:Oracle triggered exit\n"
     ]
    }
   ],
   "source": [
    "tuner5.search((Wt5,Xt5), yt5, epochs=200,\n",
    "           validation_split = val_percent,\n",
    "           callbacks = [early_stop],\n",
    "           verbose=2)"
   ]
  },
  {
   "cell_type": "code",
   "execution_count": 60,
   "metadata": {},
   "outputs": [
    {
     "name": "stdout",
     "output_type": "stream",
     "text": [
      "Results summary\n",
      "Results in C:\\RunsOak\\10b-5\n",
      "Showing 1 best trials\n",
      "Objective(name=\"val_loss\", direction=\"min\")\n",
      "\n",
      "Trial 08 summary\n",
      "Hyperparameters:\n",
      "units: 66\n",
      "filters: 512\n",
      "kernel_size: 2\n",
      "learning_rate: 0.001\n",
      "Score: 668.3516540527344\n"
     ]
    }
   ],
   "source": [
    "tuner5.results_summary(1)"
   ]
  },
  {
   "cell_type": "markdown",
   "metadata": {},
   "source": [
    "### Best Model"
   ]
  },
  {
   "cell_type": "code",
   "execution_count": 61,
   "metadata": {},
   "outputs": [],
   "source": [
    "best_hp5 = tuner5.get_best_hyperparameters()[0]\n",
    "model5 = tuner5.hypermodel.build(best_hp5)"
   ]
  },
  {
   "cell_type": "code",
   "execution_count": 62,
   "metadata": {},
   "outputs": [
    {
     "data": {
      "text/plain": [
       "['Best_HP/10b-5']"
      ]
     },
     "execution_count": 62,
     "metadata": {},
     "output_type": "execute_result"
    }
   ],
   "source": [
    "scaler_filename = \"Best_HP/10b-5\"\n",
    "joblib.dump(best_hp5, scaler_filename) "
   ]
  },
  {
   "cell_type": "code",
   "execution_count": 63,
   "metadata": {},
   "outputs": [],
   "source": [
    "scaler_filename = \"Best_HP/10b-5\"\n",
    "best_hp5 = joblib.load(scaler_filename) \n",
    "\n",
    "model5 = tuner5.hypermodel.build(best_hp5)"
   ]
  },
  {
   "cell_type": "code",
   "execution_count": 64,
   "metadata": {},
   "outputs": [
    {
     "name": "stdout",
     "output_type": "stream",
     "text": [
      "Model: \"model_2\"\n",
      "__________________________________________________________________________________________________\n",
      "Layer (type)                    Output Shape         Param #     Connected to                     \n",
      "==================================================================================================\n",
      "DeepInput (InputLayer)          [(None, 3, 5, 15, 6) 0                                            \n",
      "__________________________________________________________________________________________________\n",
      "WideInput (InputLayer)          [(None, 3, 3, 6)]    0                                            \n",
      "__________________________________________________________________________________________________\n",
      "time_distributed_7 (TimeDistrib (None, 3, 4, 14, 512 12800       DeepInput[0][0]                  \n",
      "__________________________________________________________________________________________________\n",
      "time_distributed_6 (TimeDistrib (None, 3, 18)        0           WideInput[0][0]                  \n",
      "__________________________________________________________________________________________________\n",
      "time_distributed_8 (TimeDistrib (None, 3, 28672)     0           time_distributed_7[0][0]         \n",
      "__________________________________________________________________________________________________\n",
      "bidirectional_2 (Bidirectional) (None, 3, 66)        44880       time_distributed_6[0][0]         \n",
      "__________________________________________________________________________________________________\n",
      "lstm_5 (LSTM)                   (None, 3, 66)        7587096     time_distributed_8[0][0]         \n",
      "__________________________________________________________________________________________________\n",
      "concatenate_2 (Concatenate)     (None, 6, 66)        0           bidirectional_2[0][0]            \n",
      "                                                                 lstm_5[0][0]                     \n",
      "__________________________________________________________________________________________________\n",
      "flatten_8 (Flatten)             (None, 396)          0           concatenate_2[0][0]              \n",
      "__________________________________________________________________________________________________\n",
      "output (Dense)                  (None, 6)            2382        flatten_8[0][0]                  \n",
      "==================================================================================================\n",
      "Total params: 7,647,158\n",
      "Trainable params: 7,647,158\n",
      "Non-trainable params: 0\n",
      "__________________________________________________________________________________________________\n"
     ]
    }
   ],
   "source": [
    "model5.summary()"
   ]
  },
  {
   "cell_type": "code",
   "execution_count": 65,
   "metadata": {},
   "outputs": [
    {
     "name": "stdout",
     "output_type": "stream",
     "text": [
      "Epoch 1/100\n",
      "1231/1231 [==============================] - 152s 114ms/step - loss: 7949.7031 - mean_absolute_error: 59.3589 - root_mean_squared_error: 89.1611 - mean_absolute_percentage_error: 80.5669 - val_loss: 2050.3447 - val_mean_absolute_error: 31.4295 - val_root_mean_squared_error: 45.2807 - val_mean_absolute_percentage_error: 43.7618\n",
      "Epoch 2/100\n",
      "1231/1231 [==============================] - 136s 110ms/step - loss: 1540.4163 - mean_absolute_error: 27.8704 - root_mean_squared_error: 39.2481 - mean_absolute_percentage_error: 42.1035 - val_loss: 1167.8466 - val_mean_absolute_error: 24.7666 - val_root_mean_squared_error: 34.1738 - val_mean_absolute_percentage_error: 36.1319s: 1688.7596 - mean_ab - ETA: 40s - loss: 1650.2626 - mean_absolu\n",
      "Epoch 3/100\n",
      "1231/1231 [==============================] - 136s 111ms/step - loss: 1093.5210 - mean_absolute_error: 23.4951 - root_mean_squared_error: 33.0684 - mean_absolute_percentage_error: 36.3006 - val_loss: 862.9873 - val_mean_absolute_error: 21.0578 - val_root_mean_squared_error: 29.3767 - val_mean_absolute_percentage_error: 33.6322olute_error: 23.5\n",
      "Epoch 4/100\n",
      "1231/1231 [==============================] - 128s 104ms/step - loss: 892.1825 - mean_absolute_error: 20.8844 - root_mean_squared_error: 29.8694 - mean_absolute_percentage_error: 33.0543 - val_loss: 750.9031 - val_mean_absolute_error: 19.4024 - val_root_mean_squared_error: 27.4026 - val_mean_absolute_percentage_error: 29.1876\n",
      "Epoch 5/100\n",
      "1231/1231 [==============================] - 136s 111ms/step - loss: 804.4394 - mean_absolute_error: 19.7130 - root_mean_squared_error: 28.3627 - mean_absolute_percentage_error: 31.0619 - val_loss: 703.5827 - val_mean_absolute_error: 18.8712 - val_root_mean_squared_error: 26.5251 - val_mean_absolute_percentage_error: 32.8834\n",
      "Epoch 6/100\n",
      "1231/1231 [==============================] - 141s 114ms/step - loss: 742.0829 - mean_absolute_error: 18.9810 - root_mean_squared_error: 27.2412 - mean_absolute_percentage_error: 29.3763 - val_loss: 677.5341 - val_mean_absolute_error: 18.3225 - val_root_mean_squared_error: 26.0295 - val_mean_absolute_percentage_error: 26.9869\n",
      "Epoch 7/100\n",
      "1231/1231 [==============================] - 137s 112ms/step - loss: 664.9990 - mean_absolute_error: 18.0933 - root_mean_squared_error: 25.7876 - mean_absolute_percentage_error: 27.1179 - val_loss: 671.8112 - val_mean_absolute_error: 18.1896 - val_root_mean_squared_error: 25.9193 - val_mean_absolute_percentage_error: 26.1212ror: 18.0877 - root_mean_squared_error:\n",
      "Epoch 8/100\n",
      "1231/1231 [==============================] - 137s 111ms/step - loss: 604.9883 - mean_absolute_error: 17.3792 - root_mean_squared_error: 24.5965 - mean_absolute_percentage_error: 25.6417 - val_loss: 681.8080 - val_mean_absolute_error: 18.2508 - val_root_mean_squared_error: 26.1115 - val_mean_absolute_percentage_error: 24.8165\n",
      "Epoch 9/100\n",
      "1231/1231 [==============================] - 138s 112ms/step - loss: 556.7499 - mean_absolute_error: 16.7683 - root_mean_squared_error: 23.5956 - mean_absolute_percentage_error: 24.5408 - val_loss: 683.0115 - val_mean_absolute_error: 18.3518 - val_root_mean_squared_error: 26.1345 - val_mean_absolute_percentage_error: 26.8568\n",
      "Epoch 10/100\n",
      "1231/1231 [==============================] - 138s 113ms/step - loss: 513.6804 - mean_absolute_error: 16.1859 - root_mean_squared_error: 22.6645 - mean_absolute_percentage_error: 23.7009 - val_loss: 697.9752 - val_mean_absolute_error: 18.5270 - val_root_mean_squared_error: 26.4192 - val_mean_absolute_percentage_error: 28.0760\n",
      "Epoch 11/100\n",
      "1231/1231 [==============================] - 137s 112ms/step - loss: 472.8608 - mean_absolute_error: 15.5915 - root_mean_squared_error: 21.7454 - mean_absolute_percentage_error: 22.9117 - val_loss: 688.5612 - val_mean_absolute_error: 18.3351 - val_root_mean_squared_error: 26.2404 - val_mean_absolute_percentage_error: 25.0404\n",
      "Epoch 12/100\n",
      "1231/1231 [==============================] - 139s 113ms/step - loss: 430.8234 - mean_absolute_error: 14.9373 - root_mean_squared_error: 20.7563 - mean_absolute_percentage_error: 22.0780 - val_loss: 707.8666 - val_mean_absolute_error: 18.5997 - val_root_mean_squared_error: 26.6058 - val_mean_absolute_percentage_error: 24.1648\n",
      "Epoch 13/100\n",
      "1231/1231 [==============================] - 136s 111ms/step - loss: 391.2554 - mean_absolute_error: 14.2713 - root_mean_squared_error: 19.7802 - mean_absolute_percentage_error: 21.3799 - val_loss: 722.2310 - val_mean_absolute_error: 18.7511 - val_root_mean_squared_error: 26.8744 - val_mean_absolute_percentage_error: 23.6970solute_error: 14.2670 - root_mean_squared_err - ETA: 6s - loss: 390.8404 - mean_absolute_error: 14.2682 - root_mean_squ\n",
      "Epoch 14/100\n",
      "1231/1231 [==============================] - 137s 111ms/step - loss: 357.3820 - mean_absolute_error: 13.6896 - root_mean_squared_error: 18.9045 - mean_absolute_percentage_error: 20.8317 - val_loss: 734.1259 - val_mean_absolute_error: 18.9748 - val_root_mean_squared_error: 27.0948 - val_mean_absolute_percentage_error: 26.0763\n",
      "Epoch 15/100\n",
      "1231/1231 [==============================] - 138s 112ms/step - loss: 325.1510 - mean_absolute_error: 13.0881 - root_mean_squared_error: 18.0319 - mean_absolute_percentage_error: 20.1674 - val_loss: 745.1769 - val_mean_absolute_error: 19.0471 - val_root_mean_squared_error: 27.2979 - val_mean_absolute_percentage_error: 24.7115 - mean_absolute_error: 13.0719 - root_mean_squared_error: 18.0146 - mean_absolute_perc\n",
      "Epoch 16/100\n",
      "1231/1231 [==============================] - 138s 112ms/step - loss: 298.8976 - mean_absolute_error: 12.5823 - root_mean_squared_error: 17.2887 - mean_absolute_percentage_error: 19.5827 - val_loss: 742.7360 - val_mean_absolute_error: 19.0507 - val_root_mean_squared_error: 27.2532 - val_mean_absolute_percentage_error: 24.9244\n",
      "Epoch 17/100\n",
      "1231/1231 [==============================] - 136s 110ms/step - loss: 274.7921 - mean_absolute_error: 12.0893 - root_mean_squared_error: 16.5769 - mean_absolute_percentage_error: 19.1497 - val_loss: 760.0936 - val_mean_absolute_error: 19.2089 - val_root_mean_squared_error: 27.5698 - val_mean_absolute_percentage_error: 25.1461\n",
      "Epoch 18/100\n",
      "1231/1231 [==============================] - 119s 97ms/step - loss: 254.4546 - mean_absolute_error: 11.6424 - root_mean_squared_error: 15.9516 - mean_absolute_percentage_error: 18.6003 - val_loss: 766.8712 - val_mean_absolute_error: 19.3161 - val_root_mean_squared_error: 27.6924 - val_mean_absolute_percentage_error: 26.0135\n",
      "Epoch 19/100\n",
      "1231/1231 [==============================] - 116s 95ms/step - loss: 237.6500 - mean_absolute_error: 11.2717 - root_mean_squared_error: 15.4159 - mean_absolute_percentage_error: 18.1651 - val_loss: 767.8716 - val_mean_absolute_error: 19.3196 - val_root_mean_squared_error: 27.7105 - val_mean_absolute_percentage_error: 25.4203 ETA: 7s - loss: 237.2151 - mean_absolute_error: 11.2616 - root_mean_squared_error: 15.4018 - mean_absolute_percentage_error: - ETA: 7s - loss: 237.3452 - mean_absolute_error: 11\n",
      "Epoch 20/100\n",
      "1231/1231 [==============================] - 124s 101ms/step - loss: 222.7976 - mean_absolute_error: 10.9249 - root_mean_squared_error: 14.9264 - mean_absolute_percentage_error: 17.7330 - val_loss: 777.6512 - val_mean_absolute_error: 19.4381 - val_root_mean_squared_error: 27.8864 - val_mean_absolute_percentage_error: 24.7601\n",
      "Epoch 21/100\n",
      "1231/1231 [==============================] - 131s 106ms/step - loss: 207.7256 - mean_absolute_error: 10.5581 - root_mean_squared_error: 14.4127 - mean_absolute_percentage_error: 17.3526 - val_loss: 787.4470 - val_mean_absolute_error: 19.5651 - val_root_mean_squared_error: 28.0615 - val_mean_absolute_percentage_error: 24.304907.6587 - mean_absolute_error: 10.5563 - root_mean_squared_error: 14.4104 - mean_absolute_percentage_error: 17\n",
      "Epoch 22/100\n",
      "1231/1231 [==============================] - 131s 107ms/step - loss: 195.6486 - mean_absolute_error: 10.2432 - root_mean_squared_error: 13.9874 - mean_absolute_percentage_error: 16.9129 - val_loss: 786.2634 - val_mean_absolute_error: 19.5925 - val_root_mean_squared_error: 28.0404 - val_mean_absolute_percentage_error: 26.1745\n",
      "Epoch 23/100\n",
      "1231/1231 [==============================] - 132s 108ms/step - loss: 182.8858 - mean_absolute_error: 9.9120 - root_mean_squared_error: 13.5235 - mean_absolute_percentage_error: 16.5437 - val_loss: 793.7248 - val_mean_absolute_error: 19.7236 - val_root_mean_squared_error: 28.1731 - val_mean_absolute_percentage_error: 25.7192 - loss: 182.3696 - mean_absolute_error: 9.8985 - root_mean_squared_\n",
      "Epoch 24/100\n",
      "1231/1231 [==============================] - 132s 107ms/step - loss: 171.5637 - mean_absolute_error: 9.5866 - root_mean_squared_error: 13.0982 - mean_absolute_percentage_error: 16.1642 - val_loss: 795.1714 - val_mean_absolute_error: 19.7113 - val_root_mean_squared_error: 28.1988 - val_mean_absolute_percentage_error: 26.1614\n",
      "Epoch 25/100\n",
      "1231/1231 [==============================] - 131s 107ms/step - loss: 162.0380 - mean_absolute_error: 9.3124 - root_mean_squared_error: 12.7294 - mean_absolute_percentage_error: 15.8551 - val_loss: 797.6348 - val_mean_absolute_error: 19.7995 - val_root_mean_squared_error: 28.2424 - val_mean_absolute_percentage_error: 25.7528\n",
      "Epoch 26/100\n",
      "1231/1231 [==============================] - 131s 107ms/step - loss: 151.5058 - mean_absolute_error: 8.9984 - root_mean_squared_error: 12.3088 - mean_absolute_percentage_error: 15.4658 - val_loss: 810.7581 - val_mean_absolute_error: 19.9325 - val_root_mean_squared_error: 28.4738 - val_mean_absolute_percentage_error: 26.4369\n",
      "Epoch 27/100\n",
      "1231/1231 [==============================] - 130s 106ms/step - loss: 143.1081 - mean_absolute_error: 8.7423 - root_mean_squared_error: 11.9628 - mean_absolute_percentage_error: 15.1320 - val_loss: 817.6653 - val_mean_absolute_error: 20.0917 - val_root_mean_squared_error: 28.5948 - val_mean_absolute_percentage_error: 26.5159\n",
      "Epoch 28/100\n",
      "1231/1231 [==============================] - 132s 107ms/step - loss: 135.0579 - mean_absolute_error: 8.4954 - root_mean_squared_error: 11.6214 - mean_absolute_percentage_error: 14.8514 - val_loss: 807.4036 - val_mean_absolute_error: 19.9175 - val_root_mean_squared_error: 28.4149 - val_mean_absolute_percentage_error: 25.2956\n",
      "Epoch 29/100\n",
      "1231/1231 [==============================] - 132s 107ms/step - loss: 127.7618 - mean_absolute_error: 8.2577 - root_mean_squared_error: 11.3032 - mean_absolute_percentage_error: 14.5407 - val_loss: 813.5499 - val_mean_absolute_error: 19.9587 - val_root_mean_squared_error: 28.5228 - val_mean_absolute_percentage_error: 25.5436\n",
      "Epoch 30/100\n",
      "1231/1231 [==============================] - 130s 106ms/step - loss: 119.2653 - mean_absolute_error: 7.9856 - root_mean_squared_error: 10.9209 - mean_absolute_percentage_error: 14.2047 - val_loss: 821.0673 - val_mean_absolute_error: 20.0930 - val_root_mean_squared_error: 28.6543 - val_mean_absolute_percentage_error: 25.3624\n",
      "Epoch 31/100\n",
      "1231/1231 [==============================] - 133s 108ms/step - loss: 113.0438 - mean_absolute_error: 7.7743 - root_mean_squared_error: 10.6322 - mean_absolute_percentage_error: 13.9373 - val_loss: 826.9787 - val_mean_absolute_error: 20.1757 - val_root_mean_squared_error: 28.7572 - val_mean_absolute_percentage_error: 26.3782\n",
      "Epoch 32/100\n",
      "1231/1231 [==============================] - 131s 107ms/step - loss: 105.9744 - mean_absolute_error: 7.5375 - root_mean_squared_error: 10.2944 - mean_absolute_percentage_error: 13.6330 - val_loss: 822.6133 - val_mean_absolute_error: 20.1432 - val_root_mean_squared_error: 28.6812 - val_mean_absolute_percentage_error: 25.8094\n",
      "Epoch 33/100\n",
      "1231/1231 [==============================] - 131s 106ms/step - loss: 100.3870 - mean_absolute_error: 7.3398 - root_mean_squared_error: 10.0193 - mean_absolute_percentage_error: 13.3783 - val_loss: 832.1089 - val_mean_absolute_error: 20.2805 - val_root_mean_squared_error: 28.8463 - val_mean_absolute_percentage_error: 26.1272\n",
      "Epoch 34/100\n",
      "1231/1231 [==============================] - 132s 107ms/step - loss: 94.3969 - mean_absolute_error: 7.1314 - root_mean_squared_error: 9.7158 - mean_absolute_percentage_error: 13.1069 - val_loss: 829.2534 - val_mean_absolute_error: 20.2068 - val_root_mean_squared_error: 28.7968 - val_mean_absolute_percentage_error: 26.3092\n",
      "Epoch 35/100\n",
      "1231/1231 [==============================] - 133s 108ms/step - loss: 88.5438 - mean_absolute_error: 6.9073 - root_mean_squared_error: 9.4098 - mean_absolute_percentage_error: 12.8567 - val_loss: 835.0593 - val_mean_absolute_error: 20.3141 - val_root_mean_squared_error: 28.8974 - val_mean_absolute_percentage_error: 27.0080\n",
      "Epoch 36/100\n",
      "1231/1231 [==============================] - 132s 107ms/step - loss: 83.8787 - mean_absolute_error: 6.7408 - root_mean_squared_error: 9.1585 - mean_absolute_percentage_error: 12.6263 - val_loss: 833.5358 - val_mean_absolute_error: 20.2616 - val_root_mean_squared_error: 28.8710 - val_mean_absolute_percentage_error: 26.6680or: 6.7296 - root_mean - ETA: 1s - loss: 83.8507 - mean_absolute_error: 6.7414 - root_mean_squared_error: 9.1570\n",
      "Epoch 37/100\n",
      "1231/1231 [==============================] - 130s 106ms/step - loss: 79.4182 - mean_absolute_error: 6.5632 - root_mean_squared_error: 8.9117 - mean_absolute_percentage_error: 12.3762 - val_loss: 837.5457 - val_mean_absolute_error: 20.3096 - val_root_mean_squared_error: 28.9404 - val_mean_absolute_percentage_error: 25.9075s - loss: 78.8621 - mean_absolute_error: 6.5399 - root_mean_squared_error: 8.8804 - mean_absolute_percent - ETA: 47s - loss: 78.9688 - mean_absolute_error: 6.5427 - root_mean_squared_error: 8.8864 - mean_absolute_per - ETA: 45s - loss: 79.0743 - mean_absolute_error: 6.5470 - root_mean_squared_error: 8.\n",
      "Epoch 38/100\n",
      "1231/1231 [==============================] - 129s 105ms/step - loss: 73.6495 - mean_absolute_error: 6.3294 - root_mean_squared_error: 8.5819 - mean_absolute_percentage_error: 12.1036 - val_loss: 835.1324 - val_mean_absolute_error: 20.3108 - val_root_mean_squared_error: 28.8987 - val_mean_absolute_percentage_error: 26.6711te_error:  - ETA: 32s - loss: 73.7417 - mean_absolut - ETA: 23s - loss: 73.8503 - mean_absolute_\n",
      "Epoch 39/100\n",
      "1231/1231 [==============================] - 132s 107ms/step - loss: 70.2156 - mean_absolute_error: 6.1896 - root_mean_squared_error: 8.3795 - mean_absolute_percentage_error: 11.8715 - val_loss: 841.4263 - val_mean_absolute_error: 20.4142 - val_root_mean_squared_error: 29.0073 - val_mean_absolute_percentage_error: 26.2087\n",
      "Epoch 40/100\n",
      "1231/1231 [==============================] - 131s 106ms/step - loss: 66.6103 - mean_absolute_error: 6.0350 - root_mean_squared_error: 8.1615 - mean_absolute_percentage_error: 11.6426 - val_loss: 840.3782 - val_mean_absolute_error: 20.3430 - val_root_mean_squared_error: 28.9893 - val_mean_absolute_percentage_error: 26.0172\n",
      "Epoch 41/100\n",
      "1231/1231 [==============================] - 132s 107ms/step - loss: 62.4120 - mean_absolute_error: 5.8508 - root_mean_squared_error: 7.9001 - mean_absolute_percentage_error: 11.4249 - val_loss: 848.1561 - val_mean_absolute_error: 20.4330 - val_root_mean_squared_error: 29.1231 - val_mean_absolute_percentage_error: 26.4712\n",
      "Epoch 42/100\n",
      "1231/1231 [==============================] - 132s 108ms/step - loss: 59.4235 - mean_absolute_error: 5.7141 - root_mean_squared_error: 7.7087 - mean_absolute_percentage_error: 11.2566 - val_loss: 843.9556 - val_mean_absolute_error: 20.4074 - val_root_mean_squared_error: 29.0509 - val_mean_absolute_percentage_error: 26.4171\n",
      "Epoch 43/100\n"
     ]
    },
    {
     "name": "stdout",
     "output_type": "stream",
     "text": [
      "1231/1231 [==============================] - 132s 107ms/step - loss: 56.3915 - mean_absolute_error: 5.5728 - root_mean_squared_error: 7.5094 - mean_absolute_percentage_error: 10.9913 - val_loss: 840.9172 - val_mean_absolute_error: 20.3829 - val_root_mean_squared_error: 28.9986 - val_mean_absolute_percentage_error: 26.9641_absolute_error: 5.5416 - root_mean_squared_error: 7.478 - ETA: 53s - loss: 55.7675 - mean_absolute_error: 5.5383 - - ETA: 32s - loss: 55.8568 - mean_absolute_error: 5.53 - ETA: 24s - loss: 55.9377  - ETA: 14\n",
      "Epoch 44/100\n",
      "1231/1231 [==============================] - 132s 107ms/step - loss: 53.9487 - mean_absolute_error: 5.4565 - root_mean_squared_error: 7.3450 - mean_absolute_percentage_error: 10.7928 - val_loss: 849.6854 - val_mean_absolute_error: 20.4936 - val_root_mean_squared_error: 29.1494 - val_mean_absolute_percentage_error: 26.9872\n",
      "Epoch 45/100\n",
      "1231/1231 [==============================] - 130s 106ms/step - loss: 51.0721 - mean_absolute_error: 5.3150 - root_mean_squared_error: 7.1465 - mean_absolute_percentage_error: 10.6435 - val_loss: 846.0638 - val_mean_absolute_error: 20.4406 - val_root_mean_squared_error: 29.0872 - val_mean_absolute_percentage_error: 26.0965\n",
      "Epoch 46/100\n",
      "1231/1231 [==============================] - 131s 107ms/step - loss: 48.4787 - mean_absolute_error: 5.1805 - root_mean_squared_error: 6.9627 - mean_absolute_percentage_error: 10.4200 - val_loss: 844.8491 - val_mean_absolute_error: 20.4319 - val_root_mean_squared_error: 29.0663 - val_mean_absolute_percentage_error: 26.2172\n",
      "Epoch 47/100\n",
      "1231/1231 [==============================] - 132s 108ms/step - loss: 46.6208 - mean_absolute_error: 5.0863 - root_mean_squared_error: 6.8279 - mean_absolute_percentage_error: 10.2160 - val_loss: 851.3151 - val_mean_absolute_error: 20.5272 - val_root_mean_squared_error: 29.1773 - val_mean_absolute_percentage_error: 26.9092\n",
      "Epoch 48/100\n",
      "1231/1231 [==============================] - 131s 106ms/step - loss: 44.6520 - mean_absolute_error: 4.9851 - root_mean_squared_error: 6.6822 - mean_absolute_percentage_error: 10.1170 - val_loss: 854.5544 - val_mean_absolute_error: 20.5706 - val_root_mean_squared_error: 29.2328 - val_mean_absolute_percentage_error: 26.5401\n",
      "Epoch 49/100\n",
      "1231/1231 [==============================] - 132s 107ms/step - loss: 42.7460 - mean_absolute_error: 4.8794 - root_mean_squared_error: 6.5380 - mean_absolute_percentage_error: 9.8916 - val_loss: 848.0024 - val_mean_absolute_error: 20.5027 - val_root_mean_squared_error: 29.1205 - val_mean_absolute_percentage_error: 26.5042\n",
      "Epoch 50/100\n",
      "1231/1231 [==============================] - 131s 107ms/step - loss: 40.9462 - mean_absolute_error: 4.7772 - root_mean_squared_error: 6.3989 - mean_absolute_percentage_error: 9.7594 - val_loss: 848.2903 - val_mean_absolute_error: 20.4970 - val_root_mean_squared_error: 29.1254 - val_mean_absolute_percentage_error: 26.9243e_error: 4.7721 - root_mean_squared_error: 6.3946 - mean_ab - ETA: 3s - loss: 40.8861 - mean_absolute_error: 4.7738 - root_mean_squared_error: 6.3942 - me\n",
      "Epoch 51/100\n",
      "1231/1231 [==============================] - 131s 107ms/step - loss: 39.3997 - mean_absolute_error: 4.6891 - root_mean_squared_error: 6.2769 - mean_absolute_percentage_error: 9.5686 - val_loss: 850.8036 - val_mean_absolute_error: 20.5265 - val_root_mean_squared_error: 29.1685 - val_mean_absolute_percentage_error: 26.4356\n",
      "Epoch 52/100\n",
      "1231/1231 [==============================] - 131s 107ms/step - loss: 38.6308 - mean_absolute_error: 4.6433 - root_mean_squared_error: 6.2154 - mean_absolute_percentage_error: 9.4744 - val_loss: 856.1360 - val_mean_absolute_error: 20.5851 - val_root_mean_squared_error: 29.2598 - val_mean_absolute_percentage_error: 26.3993\n",
      "Epoch 53/100\n",
      "1231/1231 [==============================] - 132s 107ms/step - loss: 36.6183 - mean_absolute_error: 4.5213 - root_mean_squared_error: 6.0513 - mean_absolute_percentage_error: 9.2773 - val_loss: 849.3240 - val_mean_absolute_error: 20.5424 - val_root_mean_squared_error: 29.1432 - val_mean_absolute_percentage_error: 26.6483: 5s - loss: 36.4693 - mean_absolute_error: 4.5116 - root_mean_squared_\n",
      "Epoch 54/100\n",
      "1231/1231 [==============================] - 132s 107ms/step - loss: 35.2917 - mean_absolute_error: 4.4376 - root_mean_squared_error: 5.9407 - mean_absolute_percentage_error: 9.1573 - val_loss: 850.2832 - val_mean_absolute_error: 20.5421 - val_root_mean_squared_error: 29.1596 - val_mean_absolute_percentage_error: 26.6772\n",
      "Epoch 55/100\n",
      "1231/1231 [==============================] - 131s 107ms/step - loss: 34.1715 - mean_absolute_error: 4.3711 - root_mean_squared_error: 5.8456 - mean_absolute_percentage_error: 9.0139 - val_loss: 855.6642 - val_mean_absolute_error: 20.6099 - val_root_mean_squared_error: 29.2517 - val_mean_absolute_percentage_error: 26.4177\n",
      "Epoch 56/100\n",
      "1231/1231 [==============================] - 133s 108ms/step - loss: 32.9837 - mean_absolute_error: 4.2953 - root_mean_squared_error: 5.7431 - mean_absolute_percentage_error: 8.8733 - val_loss: 853.8238 - val_mean_absolute_error: 20.5947 - val_root_mean_squared_error: 29.2203 - val_mean_absolute_percentage_error: 26.9940\n",
      "Epoch 57/100\n",
      "1231/1231 [==============================] - 132s 107ms/step - loss: 32.0721 - mean_absolute_error: 4.2350 - root_mean_squared_error: 5.6632 - mean_absolute_percentage_error: 8.7687 - val_loss: 853.0451 - val_mean_absolute_error: 20.6044 - val_root_mean_squared_error: 29.2069 - val_mean_absolute_percentage_error: 26.9628lute_error: 4.2347 - root_mean_squared_error: 5.6639 - mean_absolute_percentage_err - ETA: 6s - loss: 32.0911 - mean_absolute_error: 4.2355 - ro\n",
      "Epoch 58/100\n",
      "1231/1231 [==============================] - 133s 108ms/step - loss: 30.7946 - mean_absolute_error: 4.1468 - root_mean_squared_error: 5.5493 - mean_absolute_percentage_error: 8.6272 - val_loss: 858.0990 - val_mean_absolute_error: 20.6342 - val_root_mean_squared_error: 29.2933 - val_mean_absolute_percentage_error: 26.4198\n",
      "Epoch 59/100\n",
      "1231/1231 [==============================] - 131s 106ms/step - loss: 30.2172 - mean_absolute_error: 4.1088 - root_mean_squared_error: 5.4970 - mean_absolute_percentage_error: 8.5328 - val_loss: 854.8251 - val_mean_absolute_error: 20.6077 - val_root_mean_squared_error: 29.2374 - val_mean_absolute_percentage_error: 26.9576\n",
      "Epoch 60/100\n",
      "1231/1231 [==============================] - 132s 107ms/step - loss: 28.6463 - mean_absolute_error: 4.0049 - root_mean_squared_error: 5.3522 - mean_absolute_percentage_error: 8.3449 - val_loss: 858.5259 - val_mean_absolute_error: 20.6502 - val_root_mean_squared_error: 29.3006 - val_mean_absolute_percentage_error: 27.7172\n",
      "Epoch 61/100\n",
      "1231/1231 [==============================] - 130s 106ms/step - loss: 27.6635 - mean_absolute_error: 3.9365 - root_mean_squared_error: 5.2596 - mean_absolute_percentage_error: 8.2619 - val_loss: 852.7896 - val_mean_absolute_error: 20.5874 - val_root_mean_squared_error: 29.2026 - val_mean_absolute_percentage_error: 26.8455A: 0s - loss: 27.6635 - mean_absolute_error: 3.9365 - root_mean_squared_error: 5.2596 - mean_absolute_percentage_error: 8.261\n",
      "Epoch 62/100\n",
      "1231/1231 [==============================] - 132s 107ms/step - loss: 27.0085 - mean_absolute_error: 3.8936 - root_mean_squared_error: 5.1970 - mean_absolute_percentage_error: 8.1583 - val_loss: 856.4126 - val_mean_absolute_error: 20.6479 - val_root_mean_squared_error: 29.2645 - val_mean_absolute_percentage_error: 26.8773\n",
      "Epoch 63/100\n",
      "1231/1231 [==============================] - 131s 106ms/step - loss: 26.3541 - mean_absolute_error: 3.8402 - root_mean_squared_error: 5.1336 - mean_absolute_percentage_error: 8.0389 - val_loss: 856.2615 - val_mean_absolute_error: 20.6730 - val_root_mean_squared_error: 29.2619 - val_mean_absolute_percentage_error: 27.1341\n",
      "Epoch 64/100\n",
      "1231/1231 [==============================] - 133s 108ms/step - loss: 26.0717 - mean_absolute_error: 3.8172 - root_mean_squared_error: 5.1060 - mean_absolute_percentage_error: 7.9498 - val_loss: 855.3337 - val_mean_absolute_error: 20.6544 - val_root_mean_squared_error: 29.2461 - val_mean_absolute_percentage_error: 27.1270\n",
      "Epoch 65/100\n",
      "1231/1231 [==============================] - 132s 108ms/step - loss: 25.4937 - mean_absolute_error: 3.7771 - root_mean_squared_error: 5.0491 - mean_absolute_percentage_error: 7.8814 - val_loss: 857.1905 - val_mean_absolute_error: 20.6888 - val_root_mean_squared_error: 29.2778 - val_mean_absolute_percentage_error: 27.9908\n",
      "Epoch 66/100\n",
      "1231/1231 [==============================] - 132s 107ms/step - loss: 23.9736 - mean_absolute_error: 3.6640 - root_mean_squared_error: 4.8963 - mean_absolute_percentage_error: 7.7346 - val_loss: 859.3599 - val_mean_absolute_error: 20.7186 - val_root_mean_squared_error: 29.3149 - val_mean_absolute_percentage_error: 27.6001\n",
      "Epoch 67/100\n",
      "1231/1231 [==============================] - 133s 108ms/step - loss: 23.4721 - mean_absolute_error: 3.6242 - root_mean_squared_error: 4.8448 - mean_absolute_percentage_error: 7.6377 - val_loss: 861.6035 - val_mean_absolute_error: 20.7167 - val_root_mean_squared_error: 29.3531 - val_mean_absolute_percentage_error: 27.7285\n",
      "Epoch 68/100\n",
      "1231/1231 [==============================] - 131s 107ms/step - loss: 23.2705 - mean_absolute_error: 3.6087 - root_mean_squared_error: 4.8240 - mean_absolute_percentage_error: 7.5479 - val_loss: 858.1769 - val_mean_absolute_error: 20.6839 - val_root_mean_squared_error: 29.2947 - val_mean_absolute_percentage_error: 27.3328\n",
      "Epoch 69/100\n",
      "1231/1231 [==============================] - 133s 108ms/step - loss: 22.1659 - mean_absolute_error: 3.5211 - root_mean_squared_error: 4.7081 - mean_absolute_percentage_error: 7.4142 - val_loss: 859.4420 - val_mean_absolute_error: 20.6998 - val_root_mean_squared_error: 29.3162 - val_mean_absolute_percentage_error: 27.4902\n",
      "Epoch 70/100\n",
      "1231/1231 [==============================] - 133s 108ms/step - loss: 21.6235 - mean_absolute_error: 3.4799 - root_mean_squared_error: 4.6501 - mean_absolute_percentage_error: 7.3141 - val_loss: 858.7188 - val_mean_absolute_error: 20.6961 - val_root_mean_squared_error: 29.3039 - val_mean_absolute_percentage_error: 27.3082\n",
      "Epoch 71/100\n",
      "1231/1231 [==============================] - 132s 107ms/step - loss: 21.0774 - mean_absolute_error: 3.4361 - root_mean_squared_error: 4.5910 - mean_absolute_percentage_error: 7.2710 - val_loss: 860.9824 - val_mean_absolute_error: 20.7264 - val_root_mean_squared_error: 29.3425 - val_mean_absolute_percentage_error: 27.5235\n",
      "Epoch 72/100\n",
      "1231/1231 [==============================] - 131s 107ms/step - loss: 20.9484 - mean_absolute_error: 3.4173 - root_mean_squared_error: 4.5769 - mean_absolute_percentage_error: 7.1729 - val_loss: 859.1621 - val_mean_absolute_error: 20.7521 - val_root_mean_squared_error: 29.3115 - val_mean_absolute_percentage_error: 28.3760\n",
      "Epoch 73/100\n",
      "1231/1231 [==============================] - 131s 106ms/step - loss: 20.2939 - mean_absolute_error: 3.3634 - root_mean_squared_error: 4.5049 - mean_absolute_percentage_error: 7.0887 - val_loss: 858.9933 - val_mean_absolute_error: 20.7151 - val_root_mean_squared_error: 29.3086 - val_mean_absolute_percentage_error: 27.1834\n",
      "Epoch 74/100\n",
      "1231/1231 [==============================] - 133s 108ms/step - loss: 19.1384 - mean_absolute_error: 3.2687 - root_mean_squared_error: 4.3747 - mean_absolute_percentage_error: 6.9439 - val_loss: 859.9578 - val_mean_absolute_error: 20.7256 - val_root_mean_squared_error: 29.3250 - val_mean_absolute_percentage_error: 27.385910 - root_mean_squared_error: 4. - ETA: 4s - loss: 19.0776 - mean_absolute_error: 3.2623 - root_mean_squared_error: 4.36\n",
      "Epoch 75/100\n",
      "1231/1231 [==============================] - 132s 107ms/step - loss: 19.4151 - mean_absolute_error: 3.2961 - root_mean_squared_error: 4.4063 - mean_absolute_percentage_error: 6.9412 - val_loss: 858.4755 - val_mean_absolute_error: 20.7590 - val_root_mean_squared_error: 29.2998 - val_mean_absolute_percentage_error: 28.0367\n",
      "Epoch 76/100\n",
      "1231/1231 [==============================] - 132s 107ms/step - loss: 18.8181 - mean_absolute_error: 3.2386 - root_mean_squared_error: 4.3380 - mean_absolute_percentage_error: 6.7741 - val_loss: 859.1406 - val_mean_absolute_error: 20.7122 - val_root_mean_squared_error: 29.3111 - val_mean_absolute_percentage_error: 27.3133\n",
      "Epoch 77/100\n",
      "1231/1231 [==============================] - 131s 107ms/step - loss: 18.0190 - mean_absolute_error: 3.1718 - root_mean_squared_error: 4.2449 - mean_absolute_percentage_error: 6.7061 - val_loss: 861.3156 - val_mean_absolute_error: 20.7675 - val_root_mean_squared_error: 29.3482 - val_mean_absolute_percentage_error: 27.22751382  - ETA - ETA: 23s - \n",
      "Epoch 78/100\n",
      "1231/1231 [==============================] - 132s 107ms/step - loss: 17.8767 - mean_absolute_error: 3.1563 - root_mean_squared_error: 4.2281 - mean_absolute_percentage_error: 6.6307 - val_loss: 859.7751 - val_mean_absolute_error: 20.7297 - val_root_mean_squared_error: 29.3219 - val_mean_absolute_percentage_error: 27.2595\n",
      "Epoch 79/100\n",
      "1231/1231 [==============================] - 131s 106ms/step - loss: 17.2608 - mean_absolute_error: 3.0984 - root_mean_squared_error: 4.1546 - mean_absolute_percentage_error: 6.5349 - val_loss: 861.2483 - val_mean_absolute_error: 20.7884 - val_root_mean_squared_error: 29.3470 - val_mean_absolute_percentage_error: 27.9595\n",
      "Epoch 80/100\n",
      "1231/1231 [==============================] - 127s 103ms/step - loss: 17.0796 - mean_absolute_error: 3.0828 - root_mean_squared_error: 4.1327 - mean_absolute_percentage_error: 6.5070 - val_loss: 859.2803 - val_mean_absolute_error: 20.7645 - val_root_mean_squared_error: 29.3135 - val_mean_absolute_percentage_error: 27.2793\n",
      "Epoch 81/100\n",
      "1231/1231 [==============================] - 130s 106ms/step - loss: 16.8078 - mean_absolute_error: 3.0619 - root_mean_squared_error: 4.0997 - mean_absolute_percentage_error: 6.4078 - val_loss: 857.2994 - val_mean_absolute_error: 20.7111 - val_root_mean_squared_error: 29.2797 - val_mean_absolute_percentage_error: 28.0463\n",
      "Epoch 82/100\n",
      "1231/1231 [==============================] - 131s 106ms/step - loss: 16.2759 - mean_absolute_error: 3.0078 - root_mean_squared_error: 4.0343 - mean_absolute_percentage_error: 6.3031 - val_loss: 856.9750 - val_mean_absolute_error: 20.7178 - val_root_mean_squared_error: 29.2741 - val_mean_absolute_percentage_error: 27.5748\n",
      "Epoch 83/100\n",
      "1231/1231 [==============================] - 132s 107ms/step - loss: 15.7899 - mean_absolute_error: 2.9607 - root_mean_squared_error: 3.9737 - mean_absolute_percentage_error: 6.2178 - val_loss: 856.7782 - val_mean_absolute_error: 20.7074 - val_root_mean_squared_error: 29.2708 - val_mean_absolute_percentage_error: 27.8289- mean_absolute_error: 2.9553 - root_mean_squared_error: 3.96 - ETA: 4s - loss: 15.7123 - mean_absolute_error: 2.9568 - root_mean_squared_erro\n",
      "Epoch 84/100\n",
      "1231/1231 [==============================] - 131s 106ms/step - loss: 15.4675 - mean_absolute_error: 2.9332 - root_mean_squared_error: 3.9329 - mean_absolute_percentage_error: 6.1636 - val_loss: 859.5912 - val_mean_absolute_error: 20.7435 - val_root_mean_squared_error: 29.3188 - val_mean_absolute_percentage_error: 27.57663.9276 - \n",
      "Epoch 85/100\n",
      "1231/1231 [==============================] - 133s 108ms/step - loss: 15.0317 - mean_absolute_error: 2.8901 - root_mean_squared_error: 3.8771 - mean_absolute_percentage_error: 6.0818 - val_loss: 862.1814 - val_mean_absolute_error: 20.7840 - val_root_mean_squared_error: 29.3629 - val_mean_absolute_percentage_error: 27.4638\n",
      "Epoch 86/100\n"
     ]
    },
    {
     "name": "stdout",
     "output_type": "stream",
     "text": [
      "1231/1231 [==============================] - 132s 107ms/step - loss: 15.3226 - mean_absolute_error: 2.9128 - root_mean_squared_error: 3.9144 - mean_absolute_percentage_error: 6.0700 - val_loss: 856.3129 - val_mean_absolute_error: 20.7182 - val_root_mean_squared_error: 29.2628 - val_mean_absolute_percentage_error: 27.3761.4682 - mean_absolute_error: 2.8408 - root_mean_squared_error: 3. - ETA: 1:45 - loss: 15.3511 - m - ETA: 1:36 - loss: 14.9549 - mean_absolute_error: 2.8264 - root_mean_squared_error: 3.8671 - mean_absolute_perce - ETA: 1:34 - loss: 14.9023 - mean_absolute_error: 2.8313 - root_mean_squared_error: 3.8604 - mean_absolute_percentage_error:  - ETA: 1:33 - loss: 14.9708 - mean_absolute_error: 2.8361 - root_mean_squared_error: 3.8692 - mean_absolute_perc - ETA: 1:30 - loss: 14.9183 - mean_absolute_error: 2.8356 - root_mean_squared_error: 3.8624 - mean_absolute_percentage_error: 5.9 - ETA: 1:30 - loss: 14.8998 - mean_absolute_ - ETA: 45s - loss: 14.8746 - mean_absolute_error: 2.868 - ETA: 41s - loss: 14.8674 - mean_absolute_error: 2.86 - ETA: 2s - loss: 15.3120 - mean_absolute_error: 2.9127 - root_mean_squared_error: 3.9131 - mean_absolute_ - ETA: 0s - loss: 15.3264 - mean_absolute_error: 2.9130 - root_mean_squared_error: 3.9149 - mean_absolute_percentage_error: 6\n",
      "Epoch 87/100\n",
      "1231/1231 [==============================] - 130s 105ms/step - loss: 15.1210 - mean_absolute_error: 2.8987 - root_mean_squared_error: 3.8886 - mean_absolute_percentage_error: 6.0082 - val_loss: 858.6234 - val_mean_absolute_error: 20.7458 - val_root_mean_squared_error: 29.3023 - val_mean_absolute_percentage_error: 27.8213\n",
      "Epoch 88/100\n",
      "1231/1231 [==============================] - 131s 106ms/step - loss: 13.9923 - mean_absolute_error: 2.7856 - root_mean_squared_error: 3.7406 - mean_absolute_percentage_error: 5.8493 - val_loss: 862.8695 - val_mean_absolute_error: 20.7898 - val_root_mean_squared_error: 29.3746 - val_mean_absolute_percentage_error: 27.5014: 13.9729 - mean_absolute_error: 2.7842 - root_mean_squared_error: 3.7380 - mean_absolute_perc - ETA: 7s - loss: 13.9868 - mean_absolute_error: \n",
      "Epoch 89/100\n",
      "1231/1231 [==============================] - 131s 106ms/step - loss: 13.6964 - mean_absolute_error: 2.7541 - root_mean_squared_error: 3.7009 - mean_absolute_percentage_error: 5.7691 - val_loss: 863.1938 - val_mean_absolute_error: 20.8218 - val_root_mean_squared_error: 29.3802 - val_mean_absolute_percentage_error: 28.1108\n",
      "Epoch 90/100\n",
      "1231/1231 [==============================] - 132s 107ms/step - loss: 13.6646 - mean_absolute_error: 2.7503 - root_mean_squared_error: 3.6966 - mean_absolute_percentage_error: 5.7256 - val_loss: 859.4436 - val_mean_absolute_error: 20.7568 - val_root_mean_squared_error: 29.3163 - val_mean_absolute_percentage_error: 27.9350\n",
      "Epoch 91/100\n",
      "1231/1231 [==============================] - 130s 106ms/step - loss: 13.3199 - mean_absolute_error: 2.7136 - root_mean_squared_error: 3.6496 - mean_absolute_percentage_error: 5.6559 - val_loss: 858.0993 - val_mean_absolute_error: 20.7168 - val_root_mean_squared_error: 29.2933 - val_mean_absolute_percentage_error: 27.6718\n",
      "Epoch 92/100\n",
      "1231/1231 [==============================] - 131s 106ms/step - loss: 13.0516 - mean_absolute_error: 2.6893 - root_mean_squared_error: 3.6127 - mean_absolute_percentage_error: 5.5983 - val_loss: 862.0655 - val_mean_absolute_error: 20.8042 - val_root_mean_squared_error: 29.3609 - val_mean_absolute_percentage_error: 27.8801- mean_absolute_error: 2.6889 - root_mean_squared_error: 3.6127 - mean_absolute_percentage_\n",
      "Epoch 93/100\n",
      "1231/1231 [==============================] - 130s 106ms/step - loss: 13.1660 - mean_absolute_error: 2.6975 - root_mean_squared_error: 3.6285 - mean_absolute_percentage_error: 5.5948 - val_loss: 857.9705 - val_mean_absolute_error: 20.7667 - val_root_mean_squared_error: 29.2911 - val_mean_absolute_percentage_error: 28.2266\n",
      "Epoch 94/100\n",
      "1231/1231 [==============================] - 130s 106ms/step - loss: 12.4661 - mean_absolute_error: 2.6240 - root_mean_squared_error: 3.5307 - mean_absolute_percentage_error: 5.4702 - val_loss: 861.2599 - val_mean_absolute_error: 20.7754 - val_root_mean_squared_error: 29.3472 - val_mean_absolute_percentage_error: 27.7721\n",
      "Epoch 95/100\n",
      "1231/1231 [==============================] - 128s 104ms/step - loss: 12.1789 - mean_absolute_error: 2.5923 - root_mean_squared_error: 3.4898 - mean_absolute_percentage_error: 5.3948 - val_loss: 860.9662 - val_mean_absolute_error: 20.7713 - val_root_mean_squared_error: 29.3422 - val_mean_absolute_percentage_error: 27.3886\n",
      "Epoch 96/100\n",
      "1231/1231 [==============================] - 128s 104ms/step - loss: 12.4517 - mean_absolute_error: 2.6220 - root_mean_squared_error: 3.5287 - mean_absolute_percentage_error: 5.4021 - val_loss: 861.7961 - val_mean_absolute_error: 20.7810 - val_root_mean_squared_error: 29.3564 - val_mean_absolute_percentage_error: 27.3252\n",
      "Epoch 97/100\n",
      "1231/1231 [==============================] - 129s 105ms/step - loss: 11.9513 - mean_absolute_error: 2.5709 - root_mean_squared_error: 3.4571 - mean_absolute_percentage_error: 5.2929 - val_loss: 860.3322 - val_mean_absolute_error: 20.7742 - val_root_mean_squared_error: 29.3314 - val_mean_absolute_percentage_error: 27.8315\n",
      "Epoch 98/100\n",
      "1231/1231 [==============================] - 128s 104ms/step - loss: 11.7734 - mean_absolute_error: 2.5512 - root_mean_squared_error: 3.4312 - mean_absolute_percentage_error: 5.2731 - val_loss: 857.8983 - val_mean_absolute_error: 20.7689 - val_root_mean_squared_error: 29.2899 - val_mean_absolute_percentage_error: 27.9033\n",
      "Epoch 99/100\n",
      "1231/1231 [==============================] - 126s 102ms/step - loss: 11.5615 - mean_absolute_error: 2.5250 - root_mean_squared_error: 3.4002 - mean_absolute_percentage_error: 5.2053 - val_loss: 861.2137 - val_mean_absolute_error: 20.7975 - val_root_mean_squared_error: 29.3464 - val_mean_absolute_percentage_error: 27.6462\n",
      "Epoch 100/100\n",
      "1231/1231 [==============================] - 128s 104ms/step - loss: 11.3134 - mean_absolute_error: 2.4908 - root_mean_squared_error: 3.3635 - mean_absolute_percentage_error: 5.1214 - val_loss: 865.4678 - val_mean_absolute_error: 20.8517 - val_root_mean_squared_error: 29.4188 - val_mean_absolute_percentage_error: 28.5325\n"
     ]
    },
    {
     "data": {
      "text/plain": [
       "<keras.callbacks.History at 0x1e6b1512a60>"
      ]
     },
     "execution_count": 65,
     "metadata": {},
     "output_type": "execute_result"
    }
   ],
   "source": [
    "model5.fit((Wt5,Xt5), yt5, validation_split = val_percent,\n",
    "           epochs = 100, \n",
    "           verbose = 1)"
   ]
  },
  {
   "cell_type": "code",
   "execution_count": 66,
   "metadata": {},
   "outputs": [],
   "source": [
    "metrics5 = pd.DataFrame(model5.history.history)"
   ]
  },
  {
   "cell_type": "code",
   "execution_count": 67,
   "metadata": {},
   "outputs": [],
   "source": [
    "# fig = plt.figure(figsize=(6,4))\n",
    "\n",
    "# # Add set of axes to figure\n",
    "# axes = fig.add_axes([0, 0, 1, 1]) \n",
    "# axes2 = fig.add_axes([0.3, 0.35, 0.5, 0.5]) # Smaller figure\n",
    "# axes.plot(metrics5[['loss','val_loss']], label=['train_loss','val_loss'], lw=4)\n",
    "# axes.set_ylim(0,4000)\n",
    "\n",
    "# axes2.plot(metrics5[['loss','val_loss']], lw=4)\n",
    "# axes2.set_xlim(0,20)\n",
    "# axes2.set_ylim(400,1500)\n",
    "# #plt.xticks(visible=False)\n",
    "# plt.yticks(visible=False)\n",
    "\n",
    "# axes.set_xlabel('Epoch')\n",
    "# axes.set_ylabel('Loss')\n",
    "# axes.grid()\n",
    "# axes2.grid()\n",
    "\n",
    "# mark_inset(axes, axes2, loc1=2, loc2=4, fc=\"0.9\", ec=\"0.1\", ls='--')\n",
    "# axes.yaxis.set_major_formatter(formatter)"
   ]
  },
  {
   "cell_type": "code",
   "execution_count": 68,
   "metadata": {},
   "outputs": [
    {
     "name": "stderr",
     "output_type": "stream",
     "text": [
      "WARNING:absl:Function `_wrapped_model` contains input name(s) WideInput, DeepInput with unsupported characters which will be renamed to wideinput, deepinput in the SavedModel.\n",
      "WARNING:absl:Found untraced functions such as lstm_cell_11_layer_call_fn, lstm_cell_11_layer_call_and_return_conditional_losses, lstm_cell_9_layer_call_fn, lstm_cell_9_layer_call_and_return_conditional_losses, lstm_cell_10_layer_call_fn while saving (showing 5 of 15). These functions will not be directly callable after loading.\n"
     ]
    },
    {
     "name": "stdout",
     "output_type": "stream",
     "text": [
      "INFO:tensorflow:Assets written to: my_dir/10b-5\\assets\n"
     ]
    },
    {
     "name": "stderr",
     "output_type": "stream",
     "text": [
      "INFO:tensorflow:Assets written to: my_dir/10b-5\\assets\n"
     ]
    }
   ],
   "source": [
    "model5.save(\"my_dir/10b-5\")"
   ]
  },
  {
   "cell_type": "code",
   "execution_count": 69,
   "metadata": {},
   "outputs": [],
   "source": [
    "model5 = keras.models.load_model(\"my_dir/10b-5\") "
   ]
  },
  {
   "cell_type": "code",
   "execution_count": 70,
   "metadata": {},
   "outputs": [
    {
     "data": {
      "text/plain": [
       "array([[ 30.996784 ,  17.117014 ,  15.890254 ,  64.16951  ,  23.363234 ,\n",
       "          9.781018 ],\n",
       "       [ 29.156677 ,  12.4864855,  18.527386 ,  68.54899  ,  25.519182 ,\n",
       "         10.760842 ],\n",
       "       [ 30.466042 ,  15.949445 ,  11.495    ,  60.74011  ,  20.471987 ,\n",
       "          9.905673 ],\n",
       "       ...,\n",
       "       [ 45.93892  ,  50.226963 ,  58.60002  , 145.95087  ,  53.74116  ,\n",
       "         26.824274 ],\n",
       "       [ 46.163532 ,  44.84726  ,  33.516754 ,  83.04904  ,  33.323006 ,\n",
       "         26.332502 ],\n",
       "       [ 41.85295  ,  33.47098  ,  33.912434 ,  87.96487  ,  34.42287  ,\n",
       "         18.231922 ]], dtype=float32)"
      ]
     },
     "execution_count": 70,
     "metadata": {},
     "output_type": "execute_result"
    }
   ],
   "source": [
    "model5.predict((Wv5,Xv5))"
   ]
  },
  {
   "cell_type": "markdown",
   "metadata": {},
   "source": [
    "### Evaluation on inverse_transform"
   ]
  },
  {
   "cell_type": "code",
   "execution_count": null,
   "metadata": {},
   "outputs": [],
   "source": [
    "test_predictions5 = model5.predict((Wv5,Xv5))\n",
    "\n",
    "\n",
    "MSE5 = mean_squared_error(yv5,test_predictions5)\n",
    "\n",
    "MAE5 = mean_absolute_error(yv5,test_predictions5)\n",
    "\n",
    "RMSE5 = np.sqrt(MSE5)\n",
    "\n",
    "MAPE5 = mean_absolute_percentage_error(yv5,test_predictions5)*100\n",
    "\n",
    "eval5 = [MSE5, MAE5, RMSE5, MAPE5]\n",
    "print(eval5)"
   ]
  },
  {
   "cell_type": "code",
   "execution_count": null,
   "metadata": {},
   "outputs": [],
   "source": [
    "GEH, count = ga.GEH(np.asarray(yv5), np.asarray(test_predictions5))\n",
    "GEH5 = count/GEH.size\n",
    "print(GEH5)"
   ]
  },
  {
   "cell_type": "markdown",
   "metadata": {},
   "source": [
    "# 15 mins ahead"
   ]
  },
  {
   "cell_type": "code",
   "execution_count": 73,
   "metadata": {},
   "outputs": [],
   "source": [
    "def build_model_15(hp):\n",
    "    # Inputs\n",
    "    channel_Wide = keras.layers.Input(shape=Wt15.shape[1:], name=\"WideInput\")\n",
    "    channel_Deep = keras.layers.Input(shape=Xt15.shape[1:], name=\"DeepInput\")\n",
    "    units = hp.Int(\"units\", min_value=1, max_value=100, step=1)\n",
    "    \n",
    "    \n",
    "    # Wide Model\n",
    "    flatten_15w = keras.layers.TimeDistributed(keras.layers.Flatten())(channel_Wide)\n",
    "    Bi_15 = keras.layers.Bidirectional(\n",
    "        keras.layers.LSTM(units=units, return_sequences=True),\n",
    "        merge_mode=\"ave\"\n",
    "    )(flatten_15w)\n",
    "    \n",
    "    \n",
    "    \n",
    "    # Deep Model\n",
    "    # CNN \n",
    "    CNN_15 = keras.layers.TimeDistributed(\n",
    "        keras.layers.Conv2D(filters=hp.Int(\"filters\", min_value=32, max_value=512, step=32),\n",
    "                            kernel_size=hp.Choice(\"kernel_size\", [2, 3]), activation='relu'))(channel_Deep)\n",
    "    flatten_15 = keras.layers.TimeDistributed(keras.layers.Flatten())(CNN_15)\n",
    "    # LSTM          \n",
    "    LSTM_15 = keras.layers.LSTM(units=units, return_sequences=True)(flatten_15)\n",
    "\n",
    "    \n",
    "    # Concatenation \n",
    "    concat = keras.layers.concatenate([Bi_15, LSTM_15], axis=1)\n",
    "\n",
    "    # Attention\n",
    "    Att_15 = SeqSelfAttention(attention_activation='sigmoid')(concat)\n",
    "    merge = keras.layers.Flatten()(concat)\n",
    "\n",
    "    \n",
    "    # Output\n",
    "    output = keras.layers.Dense(n_features, name= \"output\")(merge)\n",
    "    \n",
    "    # Model\n",
    "    model_15 = keras.Model(inputs=[channel_Wide,channel_Deep], outputs=[output])\n",
    "\n",
    "    # Compile\n",
    "    model_15.compile(optimizer=keras.optimizers.Adam(hp.Choice(\"learning_rate\", [1e-2, 1e-3, 1e-4])), \n",
    "        loss=\"mse\", metrics=['MeanAbsoluteError','RootMeanSquaredError','MeanAbsolutePercentageError'])\n",
    "                    \n",
    "    return model_15"
   ]
  },
  {
   "cell_type": "code",
   "execution_count": 74,
   "metadata": {},
   "outputs": [],
   "source": [
    "tuner15 = RandomSearch(\n",
    "    build_model_15,\n",
    "    objective=\"val_loss\",\n",
    "    max_trials=10,\n",
    "    executions_per_trial=2,\n",
    "    overwrite=False,\n",
    "    directory=os.path.normpath('C:/RunsOak'),\n",
    "    project_name=\"10b-15\",\n",
    ")"
   ]
  },
  {
   "cell_type": "code",
   "execution_count": 75,
   "metadata": {},
   "outputs": [
    {
     "name": "stdout",
     "output_type": "stream",
     "text": [
      "Search space summary\n",
      "Default search space size: 4\n",
      "units (Int)\n",
      "{'default': None, 'conditions': [], 'min_value': 1, 'max_value': 100, 'step': 1, 'sampling': 'linear'}\n",
      "filters (Int)\n",
      "{'default': None, 'conditions': [], 'min_value': 32, 'max_value': 512, 'step': 32, 'sampling': 'linear'}\n",
      "kernel_size (Choice)\n",
      "{'default': 2, 'conditions': [], 'values': [2, 3], 'ordered': True}\n",
      "learning_rate (Choice)\n",
      "{'default': 0.01, 'conditions': [], 'values': [0.01, 0.001, 0.0001], 'ordered': True}\n"
     ]
    }
   ],
   "source": [
    "tuner15.search_space_summary()"
   ]
  },
  {
   "cell_type": "code",
   "execution_count": 76,
   "metadata": {},
   "outputs": [
    {
     "name": "stdout",
     "output_type": "stream",
     "text": [
      "Trial 10 Complete [01h 37m 17s]\n",
      "val_loss: 746.0146789550781\n",
      "\n",
      "Best val_loss So Far: 725.2720031738281\n",
      "Total elapsed time: 10h 19m 17s\n",
      "INFO:tensorflow:Oracle triggered exit\n"
     ]
    },
    {
     "name": "stderr",
     "output_type": "stream",
     "text": [
      "INFO:tensorflow:Oracle triggered exit\n"
     ]
    }
   ],
   "source": [
    "tuner15.search((Wt15,Xt15), yt15, epochs=200,\n",
    "            validation_split = val_percent,\n",
    "            callbacks=[early_stop], \n",
    "            verbose=2)"
   ]
  },
  {
   "cell_type": "code",
   "execution_count": 77,
   "metadata": {},
   "outputs": [
    {
     "name": "stdout",
     "output_type": "stream",
     "text": [
      "Results summary\n",
      "Results in C:\\RunsOak\\10b-15\n",
      "Showing 1 best trials\n",
      "Objective(name=\"val_loss\", direction=\"min\")\n",
      "\n",
      "Trial 07 summary\n",
      "Hyperparameters:\n",
      "units: 77\n",
      "filters: 320\n",
      "kernel_size: 3\n",
      "learning_rate: 0.001\n",
      "Score: 725.2720031738281\n"
     ]
    }
   ],
   "source": [
    "tuner15.results_summary(1)"
   ]
  },
  {
   "cell_type": "markdown",
   "metadata": {},
   "source": [
    "### Best model"
   ]
  },
  {
   "cell_type": "code",
   "execution_count": 78,
   "metadata": {},
   "outputs": [],
   "source": [
    "best_hp15 = tuner15.get_best_hyperparameters()[0]\n",
    "model15 = tuner15.hypermodel.build(best_hp15)"
   ]
  },
  {
   "cell_type": "code",
   "execution_count": 79,
   "metadata": {},
   "outputs": [
    {
     "data": {
      "text/plain": [
       "['Best_HP/10b-15']"
      ]
     },
     "execution_count": 79,
     "metadata": {},
     "output_type": "execute_result"
    }
   ],
   "source": [
    "scaler_filename = \"Best_HP/10b-15\"\n",
    "joblib.dump(best_hp15, scaler_filename) "
   ]
  },
  {
   "cell_type": "code",
   "execution_count": 80,
   "metadata": {},
   "outputs": [],
   "source": [
    "scaler_filename = \"Best_HP/10b-15\"\n",
    "best_hp15 = joblib.load(scaler_filename) \n",
    "\n",
    "model15 = tuner15.hypermodel.build(best_hp15)"
   ]
  },
  {
   "cell_type": "code",
   "execution_count": 81,
   "metadata": {},
   "outputs": [
    {
     "name": "stdout",
     "output_type": "stream",
     "text": [
      "Model: \"model_2\"\n",
      "__________________________________________________________________________________________________\n",
      "Layer (type)                    Output Shape         Param #     Connected to                     \n",
      "==================================================================================================\n",
      "DeepInput (InputLayer)          [(None, 3, 5, 15, 6) 0                                            \n",
      "__________________________________________________________________________________________________\n",
      "WideInput (InputLayer)          [(None, 3, 3, 6)]    0                                            \n",
      "__________________________________________________________________________________________________\n",
      "time_distributed_7 (TimeDistrib (None, 3, 3, 13, 320 17600       DeepInput[0][0]                  \n",
      "__________________________________________________________________________________________________\n",
      "time_distributed_6 (TimeDistrib (None, 3, 18)        0           WideInput[0][0]                  \n",
      "__________________________________________________________________________________________________\n",
      "time_distributed_8 (TimeDistrib (None, 3, 12480)     0           time_distributed_7[0][0]         \n",
      "__________________________________________________________________________________________________\n",
      "bidirectional_2 (Bidirectional) (None, 3, 77)        59136       time_distributed_6[0][0]         \n",
      "__________________________________________________________________________________________________\n",
      "lstm_5 (LSTM)                   (None, 3, 77)        3867864     time_distributed_8[0][0]         \n",
      "__________________________________________________________________________________________________\n",
      "concatenate_2 (Concatenate)     (None, 6, 77)        0           bidirectional_2[0][0]            \n",
      "                                                                 lstm_5[0][0]                     \n",
      "__________________________________________________________________________________________________\n",
      "flatten_8 (Flatten)             (None, 462)          0           concatenate_2[0][0]              \n",
      "__________________________________________________________________________________________________\n",
      "output (Dense)                  (None, 6)            2778        flatten_8[0][0]                  \n",
      "==================================================================================================\n",
      "Total params: 3,947,378\n",
      "Trainable params: 3,947,378\n",
      "Non-trainable params: 0\n",
      "__________________________________________________________________________________________________\n"
     ]
    }
   ],
   "source": [
    "model15.summary()"
   ]
  },
  {
   "cell_type": "code",
   "execution_count": 82,
   "metadata": {},
   "outputs": [
    {
     "name": "stdout",
     "output_type": "stream",
     "text": [
      "Epoch 1/100\n",
      "1231/1231 [==============================] - 105s 75ms/step - loss: 7364.4727 - mean_absolute_error: 57.0691 - root_mean_squared_error: 85.8165 - mean_absolute_percentage_error: 86.0703 - val_loss: 1780.9634 - val_mean_absolute_error: 30.6658 - val_root_mean_squared_error: 42.2015 - val_mean_absolute_percentage_error: 50.9635\n",
      "Epoch 2/100\n",
      "1231/1231 [==============================] - 92s 75ms/step - loss: 1608.2527 - mean_absolute_error: 28.8520 - root_mean_squared_error: 40.1030 - mean_absolute_percentage_error: 45.6764 - val_loss: 1207.7526 - val_mean_absolute_error: 25.6921 - val_root_mean_squared_error: 34.7527 - val_mean_absolute_percentage_error: 40.8795\n",
      "Epoch 3/100\n",
      "1231/1231 [==============================] - 92s 74ms/step - loss: 1298.0697 - mean_absolute_error: 25.2753 - root_mean_squared_error: 36.0287 - mean_absolute_percentage_error: 39.3671 - val_loss: 932.6059 - val_mean_absolute_error: 21.8125 - val_root_mean_squared_error: 30.5386 - val_mean_absolute_percentage_error: 33.3911\n",
      "Epoch 4/100\n",
      "1231/1231 [==============================] - 91s 74ms/step - loss: 1119.5917 - mean_absolute_error: 22.6562 - root_mean_squared_error: 33.4603 - mean_absolute_percentage_error: 35.5978 - val_loss: 800.5905 - val_mean_absolute_error: 19.8631 - val_root_mean_squared_error: 28.2947 - val_mean_absolute_percentage_error: 31.0499\n",
      "Epoch 5/100\n",
      "1231/1231 [==============================] - 89s 72ms/step - loss: 1080.2415 - mean_absolute_error: 21.9944 - root_mean_squared_error: 32.8670 - mean_absolute_percentage_error: 34.0644 - val_loss: 815.7002 - val_mean_absolute_error: 19.9534 - val_root_mean_squared_error: 28.5605 - val_mean_absolute_percentage_error: 29.8809\n",
      "Epoch 6/100\n",
      "1231/1231 [==============================] - 93s 76ms/step - loss: 1069.5995 - mean_absolute_error: 21.8446 - root_mean_squared_error: 32.7047 - mean_absolute_percentage_error: 33.5209 - val_loss: 806.2707 - val_mean_absolute_error: 19.7944 - val_root_mean_squared_error: 28.3949 - val_mean_absolute_percentage_error: 29.3435\n",
      "Epoch 7/100\n",
      "1231/1231 [==============================] - 89s 72ms/step - loss: 1061.7030 - mean_absolute_error: 21.7517 - root_mean_squared_error: 32.5838 - mean_absolute_percentage_error: 33.2561 - val_loss: 796.7860 - val_mean_absolute_error: 19.7434 - val_root_mean_squared_error: 28.2274 - val_mean_absolute_percentage_error: 29.804505 - loss: 1034.1306 - mean_absolute_error: 21.5231 - root_mean_squared_error: 32.1579 - mean_absolute - ETA: 1:04 - loss: 1032.7040 - mean_absolute_error: 21.4945 - root_mean_squared_error: 32.1357 - m - ETA: 58s - loss: 1042.8021 - mean_absolute_error: 21.5538 - root_mean_squared_error: 32.2924 - mean_absolute_ - ETA\n",
      "Epoch 8/100\n",
      "1231/1231 [==============================] - 90s 73ms/step - loss: 1051.1129 - mean_absolute_error: 21.6341 - root_mean_squared_error: 32.4209 - mean_absolute_percentage_error: 32.9168 - val_loss: 761.0866 - val_mean_absolute_error: 19.2030 - val_root_mean_squared_error: 27.5878 - val_mean_absolute_percentage_error: 29.6427\n",
      "Epoch 9/100\n",
      "1231/1231 [==============================] - 89s 73ms/step - loss: 1038.2760 - mean_absolute_error: 21.5198 - root_mean_squared_error: 32.2223 - mean_absolute_percentage_error: 32.4991 - val_loss: 776.6891 - val_mean_absolute_error: 19.4244 - val_root_mean_squared_error: 27.8691 - val_mean_absolute_percentage_error: 28.5895ol - ETA: 18s - loss: 1037.9401 - mean_absolute_error: 21.5163 -  - ETA: 10s - loss: 1040.5173 - mean_absolute_error: 21.5284 - root_mean_squared_error: 32.2571 - mean_absolu - ETA: 9s - loss: 1038.4208 - mean_absolute_error: 21.5104 - root_mean_squared_\n",
      "Epoch 10/100\n",
      "1231/1231 [==============================] - 92s 75ms/step - loss: 1027.9021 - mean_absolute_error: 21.4393 - root_mean_squared_error: 32.0609 - mean_absolute_percentage_error: 32.1740 - val_loss: 770.4663 - val_mean_absolute_error: 19.3465 - val_root_mean_squared_error: 27.7573 - val_mean_absolute_percentage_error: 26.7474\n",
      "Epoch 11/100\n",
      "1231/1231 [==============================] - 92s 75ms/step - loss: 1019.9633 - mean_absolute_error: 21.3609 - root_mean_squared_error: 31.9369 - mean_absolute_percentage_error: 31.9046 - val_loss: 749.6069 - val_mean_absolute_error: 18.9775 - val_root_mean_squared_error: 27.3790 - val_mean_absolute_percentage_error: 27.0493\n",
      "Epoch 12/100\n",
      "1231/1231 [==============================] - 90s 73ms/step - loss: 1012.8590 - mean_absolute_error: 21.2945 - root_mean_squared_error: 31.8254 - mean_absolute_percentage_error: 31.7036 - val_loss: 765.7407 - val_mean_absolute_error: 19.1966 - val_root_mean_squared_error: 27.6720 - val_mean_absolute_percentage_error: 26.8931\n",
      "Epoch 13/100\n",
      "1231/1231 [==============================] - 91s 74ms/step - loss: 1008.6979 - mean_absolute_error: 21.2638 - root_mean_squared_error: 31.7600 - mean_absolute_percentage_error: 31.6147 - val_loss: 757.3755 - val_mean_absolute_error: 19.0740 - val_root_mean_squared_error: 27.5205 - val_mean_absolute_percentage_error: 26.7216\n",
      "Epoch 14/100\n",
      "1231/1231 [==============================] - 90s 73ms/step - loss: 1006.1075 - mean_absolute_error: 21.2318 - root_mean_squared_error: 31.7192 - mean_absolute_percentage_error: 31.5341 - val_loss: 738.6044 - val_mean_absolute_error: 18.8132 - val_root_mean_squared_error: 27.1773 - val_mean_absolute_percentage_error: 26.2893\n",
      "Epoch 15/100\n",
      "1231/1231 [==============================] - 91s 74ms/step - loss: 1001.8634 - mean_absolute_error: 21.1858 - root_mean_squared_error: 31.6522 - mean_absolute_percentage_error: 31.4561 - val_loss: 741.8259 - val_mean_absolute_error: 18.8042 - val_root_mean_squared_error: 27.2365 - val_mean_absolute_percentage_error: 26.6442\n",
      "Epoch 16/100\n",
      "1231/1231 [==============================] - 91s 74ms/step - loss: 998.4291 - mean_absolute_error: 21.1691 - root_mean_squared_error: 31.5979 - mean_absolute_percentage_error: 31.3232 - val_loss: 752.2462 - val_mean_absolute_error: 18.9982 - val_root_mean_squared_error: 27.4271 - val_mean_absolute_percentage_error: 26.8583.6088 - mean_absolute_percentage_error: - ETA: 18s - loss: 999.3111 - mean_absolute_error: 21.161 - ETA: 11s - loss: 1001.3943 - mean_absolute_error: 21.2061 - root_mean_squared_error: 31.6448 - mean - ETA: 9s - loss: 999.4070 - mean_absolute_error: 21.1862 - root_mean_squared_error: 31.6134 - mean_a - ETA: 7s - loss: 999.8362\n",
      "Epoch 17/100\n",
      "1231/1231 [==============================] - 94s 77ms/step - loss: 995.5093 - mean_absolute_error: 21.1226 - root_mean_squared_error: 31.5517 - mean_absolute_percentage_error: 31.2880 - val_loss: 735.0023 - val_mean_absolute_error: 18.7470 - val_root_mean_squared_error: 27.1109 - val_mean_absolute_percentage_error: 26.3794\n",
      "Epoch 18/100\n",
      "1231/1231 [==============================] - 92s 75ms/step - loss: 992.5421 - mean_absolute_error: 21.0935 - root_mean_squared_error: 31.5046 - mean_absolute_percentage_error: 31.2525 - val_loss: 745.3630 - val_mean_absolute_error: 18.8752 - val_root_mean_squared_error: 27.3013 - val_mean_absolute_percentage_error: 26.1294\n",
      "Epoch 19/100\n",
      "1231/1231 [==============================] - 89s 72ms/step - loss: 989.4072 - mean_absolute_error: 21.0537 - root_mean_squared_error: 31.4549 - mean_absolute_percentage_error: 31.0904 - val_loss: 763.6865 - val_mean_absolute_error: 19.1032 - val_root_mean_squared_error: 27.6349 - val_mean_absolute_percentage_error: 27.1192\n",
      "Epoch 20/100\n",
      "1231/1231 [==============================] - 92s 75ms/step - loss: 986.5190 - mean_absolute_error: 21.0320 - root_mean_squared_error: 31.4089 - mean_absolute_percentage_error: 31.0361 - val_loss: 730.7056 - val_mean_absolute_error: 18.6890 - val_root_mean_squared_error: 27.0316 - val_mean_absolute_percentage_error: 27.1208\n",
      "Epoch 21/100\n",
      "1231/1231 [==============================] - 92s 74ms/step - loss: 983.5422 - mean_absolute_error: 20.9998 - root_mean_squared_error: 31.3615 - mean_absolute_percentage_error: 31.0031 - val_loss: 746.1046 - val_mean_absolute_error: 18.9130 - val_root_mean_squared_error: 27.3149 - val_mean_absolute_percentage_error: 26.3096ntage_error: 30\n",
      "Epoch 22/100\n",
      "1231/1231 [==============================] - 90s 73ms/step - loss: 981.0781 - mean_absolute_error: 20.9670 - root_mean_squared_error: 31.3222 - mean_absolute_percentage_error: 30.9252 - val_loss: 756.0267 - val_mean_absolute_error: 19.1068 - val_root_mean_squared_error: 27.4959 - val_mean_absolute_percentage_error: 28.6415\n",
      "Epoch 23/100\n",
      "1231/1231 [==============================] - 91s 74ms/step - loss: 979.3460 - mean_absolute_error: 20.9532 - root_mean_squared_error: 31.2945 - mean_absolute_percentage_error: 30.8927 - val_loss: 779.4949 - val_mean_absolute_error: 19.3236 - val_root_mean_squared_error: 27.9194 - val_mean_absolute_percentage_error: 26.7330rror: 20.9567 - root_mean_squared_error: 31.314 - ETA: 7s - loss: 980.2279 - mean_absolute_error: 20.9530 - root_mean_sq - ETA: 1s - loss: 978.0113 - mean_absolute_error: 20.9428 - root_mean_squared_error: 31.2732 - mean_absolute_percentage_error: 30.9 - ETA: 1s - loss: 977.9160 - mean_absolute_error: 20.9409 - root_mean_squared_error: 31.2716 - mean_absolute_percenta\n",
      "Epoch 24/100\n",
      "1231/1231 [==============================] - 93s 76ms/step - loss: 978.2397 - mean_absolute_error: 20.9395 - root_mean_squared_error: 31.2768 - mean_absolute_percentage_error: 30.8355 - val_loss: 736.1663 - val_mean_absolute_error: 18.7976 - val_root_mean_squared_error: 27.1324 - val_mean_absolute_percentage_error: 26.4005\n",
      "Epoch 25/100\n",
      "1231/1231 [==============================] - 91s 74ms/step - loss: 976.0635 - mean_absolute_error: 20.9075 - root_mean_squared_error: 31.2420 - mean_absolute_percentage_error: 30.8446 - val_loss: 749.1144 - val_mean_absolute_error: 18.9082 - val_root_mean_squared_error: 27.3700 - val_mean_absolute_percentage_error: 26.7184983.8254 - mean_absolute_error: 20.9772 - root_mea - ETA: 7s - loss: 978.1312 - mean_absolute_error: 20.9206 - root_mean_squared_error: 31.2751 - mean_absolute_percentage_error: 30. - ETA: 7s - loss: 977.3608 - mean_absolute_error: 20.9154 -\n",
      "Epoch 26/100\n",
      "1231/1231 [==============================] - 90s 73ms/step - loss: 972.5577 - mean_absolute_error: 20.8665 - root_mean_squared_error: 31.1859 - mean_absolute_percentage_error: 30.7832 - val_loss: 744.2216 - val_mean_absolute_error: 19.0072 - val_root_mean_squared_error: 27.2804 - val_mean_absolute_percentage_error: 29.8438n_absolute_error: 20.8221 - root_mean_squared_error: - ETA: 11s - loss: 970.2744 - mean_absolute_error: 20.8 - ETA: 5s - loss: 972.5972 - mean_absolute_error: 20.8494 - root_mean_squared_error: 31.1865 - me - ETA: 1s - loss: 971.7015 - mean_absolute_error: 20.8599 - root_mean_squared_error: 31.1722 - mean_absolute_percen\n",
      "Epoch 27/100\n",
      "1231/1231 [==============================] - 91s 74ms/step - loss: 971.1805 - mean_absolute_error: 20.8519 - root_mean_squared_error: 31.1638 - mean_absolute_percentage_error: 30.7328 - val_loss: 736.9286 - val_mean_absolute_error: 18.7895 - val_root_mean_squared_error: 27.1464 - val_mean_absolute_percentage_error: 28.0001\n",
      "Epoch 28/100\n",
      "1231/1231 [==============================] - 91s 74ms/step - loss: 967.9159 - mean_absolute_error: 20.8346 - root_mean_squared_error: 31.1113 - mean_absolute_percentage_error: 30.6942 - val_loss: 786.2266 - val_mean_absolute_error: 19.4727 - val_root_mean_squared_error: 28.0397 - val_mean_absolute_percentage_error: 26.4115\n",
      "Epoch 29/100\n",
      "1231/1231 [==============================] - 91s 74ms/step - loss: 967.7773 - mean_absolute_error: 20.8265 - root_mean_squared_error: 31.1091 - mean_absolute_percentage_error: 30.6562 - val_loss: 766.9613 - val_mean_absolute_error: 19.0982 - val_root_mean_squared_error: 27.6941 - val_mean_absolute_percentage_error: 26.2022\n",
      "Epoch 30/100\n",
      "1231/1231 [==============================] - 89s 72ms/step - loss: 963.7668 - mean_absolute_error: 20.7896 - root_mean_squared_error: 31.0446 - mean_absolute_percentage_error: 30.6074 - val_loss: 754.6302 - val_mean_absolute_error: 18.8988 - val_root_mean_squared_error: 27.4705 - val_mean_absolute_percentage_error: 24.8958ss: 964.9423 - mean_absolute_error: 20.8016 - root_mean_squared_error: 31.0635 - mean_abso\n",
      "Epoch 31/100\n",
      "1231/1231 [==============================] - 91s 74ms/step - loss: 962.2507 - mean_absolute_error: 20.7669 - root_mean_squared_error: 31.0201 - mean_absolute_percentage_error: 30.5019 - val_loss: 775.4005 - val_mean_absolute_error: 19.2607 - val_root_mean_squared_error: 27.8460 - val_mean_absolute_percentage_error: 26.2794\n",
      "Epoch 32/100\n",
      "1231/1231 [==============================] - 92s 74ms/step - loss: 960.7382 - mean_absolute_error: 20.7439 - root_mean_squared_error: 30.9958 - mean_absolute_percentage_error: 30.5058 - val_loss: 738.5027 - val_mean_absolute_error: 18.8719 - val_root_mean_squared_error: 27.1754 - val_mean_absolute_percentage_error: 27.7784\n",
      "Epoch 33/100\n",
      "1231/1231 [==============================] - 90s 73ms/step - loss: 959.7386 - mean_absolute_error: 20.7439 - root_mean_squared_error: 30.9797 - mean_absolute_percentage_error: 30.4519 - val_loss: 753.7822 - val_mean_absolute_error: 18.9855 - val_root_mean_squared_error: 27.4551 - val_mean_absolute_percentage_error: 27.1719\n",
      "Epoch 34/100\n",
      "1231/1231 [==============================] - 90s 73ms/step - loss: 957.5226 - mean_absolute_error: 20.7257 - root_mean_squared_error: 30.9438 - mean_absolute_percentage_error: 30.4855 - val_loss: 735.4493 - val_mean_absolute_error: 18.7863 - val_root_mean_squared_error: 27.1192 - val_mean_absolute_percentage_error: 27.1119\n",
      "Epoch 35/100\n",
      "1231/1231 [==============================] - 90s 73ms/step - loss: 954.9507 - mean_absolute_error: 20.7079 - root_mean_squared_error: 30.9023 - mean_absolute_percentage_error: 30.4882 - val_loss: 726.3408 - val_mean_absolute_error: 18.5861 - val_root_mean_squared_error: 26.9507 - val_mean_absolute_percentage_error: 25.5627\n",
      "Epoch 36/100\n",
      "1231/1231 [==============================] - 90s 73ms/step - loss: 953.1703 - mean_absolute_error: 20.6777 - root_mean_squared_error: 30.8735 - mean_absolute_percentage_error: 30.3527 - val_loss: 721.1144 - val_mean_absolute_error: 18.6171 - val_root_mean_squared_error: 26.8536 - val_mean_absolute_percentage_error: 27.7899\n",
      "Epoch 37/100\n",
      "1231/1231 [==============================] - 89s 72ms/step - loss: 952.9283 - mean_absolute_error: 20.6780 - root_mean_squared_error: 30.8695 - mean_absolute_percentage_error: 30.3601 - val_loss: 805.2481 - val_mean_absolute_error: 19.5558 - val_root_mean_squared_error: 28.3769 - val_mean_absolute_percentage_error: 24.9669\n",
      "Epoch 38/100\n",
      "1231/1231 [==============================] - 90s 73ms/step - loss: 949.5488 - mean_absolute_error: 20.6568 - root_mean_squared_error: 30.8148 - mean_absolute_percentage_error: 30.3169 - val_loss: 756.8530 - val_mean_absolute_error: 18.9397 - val_root_mean_squared_error: 27.5110 - val_mean_absolute_percentage_error: 25.2209\n",
      "Epoch 39/100\n",
      "1231/1231 [==============================] - 90s 73ms/step - loss: 946.5335 - mean_absolute_error: 20.6047 - root_mean_squared_error: 30.7658 - mean_absolute_percentage_error: 30.2917 - val_loss: 721.5986 - val_mean_absolute_error: 18.5614 - val_root_mean_squared_error: 26.8626 - val_mean_absolute_percentage_error: 25.9166\n",
      "Epoch 40/100\n",
      "1231/1231 [==============================] - 89s 72ms/step - loss: 948.2450 - mean_absolute_error: 20.6279 - root_mean_squared_error: 30.7936 - mean_absolute_percentage_error: 30.2537 - val_loss: 755.7975 - val_mean_absolute_error: 18.9517 - val_root_mean_squared_error: 27.4918 - val_mean_absolute_percentage_error: 25.7038olute_error: 20.6271 - root_mean_squared_error: 30.7933 - mean_absolute_percentage_error: 30\n",
      "Epoch 41/100\n",
      "1231/1231 [==============================] - 93s 76ms/step - loss: 944.3007 - mean_absolute_error: 20.5905 - root_mean_squared_error: 30.7295 - mean_absolute_percentage_error: 30.2766 - val_loss: 749.6509 - val_mean_absolute_error: 18.8536 - val_root_mean_squared_error: 27.3797 - val_mean_absolute_percentage_error: 25.2375\n",
      "Epoch 42/100\n",
      "1231/1231 [==============================] - 92s 75ms/step - loss: 943.1626 - mean_absolute_error: 20.5847 - root_mean_squared_error: 30.7109 - mean_absolute_percentage_error: 30.1949 - val_loss: 724.3016 - val_mean_absolute_error: 18.6355 - val_root_mean_squared_error: 26.9129 - val_mean_absolute_percentage_error: 27.3844\n"
     ]
    },
    {
     "name": "stdout",
     "output_type": "stream",
     "text": [
      "Epoch 43/100\n",
      "1231/1231 [==============================] - 89s 72ms/step - loss: 940.9021 - mean_absolute_error: 20.5455 - root_mean_squared_error: 30.6741 - mean_absolute_percentage_error: 30.1633 - val_loss: 715.9720 - val_mean_absolute_error: 18.4321 - val_root_mean_squared_error: 26.7576 - val_mean_absolute_percentage_error: 26.0139\n",
      "Epoch 44/100\n",
      "1231/1231 [==============================] - 90s 74ms/step - loss: 941.2562 - mean_absolute_error: 20.5532 - root_mean_squared_error: 30.6799 - mean_absolute_percentage_error: 30.2122 - val_loss: 734.4565 - val_mean_absolute_error: 18.7033 - val_root_mean_squared_error: 27.1009 - val_mean_absolute_percentage_error: 24.5068\n",
      "Epoch 45/100\n",
      "1231/1231 [==============================] - 91s 74ms/step - loss: 938.5524 - mean_absolute_error: 20.5283 - root_mean_squared_error: 30.6358 - mean_absolute_percentage_error: 30.0938 - val_loss: 782.7988 - val_mean_absolute_error: 19.3677 - val_root_mean_squared_error: 27.9785 - val_mean_absolute_percentage_error: 27.9619\n",
      "Epoch 46/100\n",
      "1231/1231 [==============================] - 92s 75ms/step - loss: 936.5817 - mean_absolute_error: 20.5170 - root_mean_squared_error: 30.6036 - mean_absolute_percentage_error: 30.1082 - val_loss: 742.9312 - val_mean_absolute_error: 18.8221 - val_root_mean_squared_error: 27.2568 - val_mean_absolute_percentage_error: 24.4296\n",
      "Epoch 47/100\n",
      "1231/1231 [==============================] - 89s 72ms/step - loss: 935.1516 - mean_absolute_error: 20.4910 - root_mean_squared_error: 30.5802 - mean_absolute_percentage_error: 30.0029 - val_loss: 737.2219 - val_mean_absolute_error: 18.7997 - val_root_mean_squared_error: 27.1518 - val_mean_absolute_percentage_error: 27.9236\n",
      "Epoch 48/100\n",
      "1231/1231 [==============================] - 91s 74ms/step - loss: 933.7091 - mean_absolute_error: 20.4855 - root_mean_squared_error: 30.5567 - mean_absolute_percentage_error: 30.0687 - val_loss: 746.4187 - val_mean_absolute_error: 18.8329 - val_root_mean_squared_error: 27.3207 - val_mean_absolute_percentage_error: 26.1598 root_mean_squared_error: 30.5612 - mean_absolute_p\n",
      "Epoch 49/100\n",
      "1231/1231 [==============================] - 90s 73ms/step - loss: 931.7334 - mean_absolute_error: 20.4695 - root_mean_squared_error: 30.5243 - mean_absolute_percentage_error: 29.9722 - val_loss: 732.0962 - val_mean_absolute_error: 18.6368 - val_root_mean_squared_error: 27.0573 - val_mean_absolute_percentage_error: 24.9524\n",
      "Epoch 50/100\n",
      "1231/1231 [==============================] - 91s 74ms/step - loss: 929.5482 - mean_absolute_error: 20.4434 - root_mean_squared_error: 30.4885 - mean_absolute_percentage_error: 30.0455 - val_loss: 764.5305 - val_mean_absolute_error: 19.0629 - val_root_mean_squared_error: 27.6501 - val_mean_absolute_percentage_error: 24.3578\n",
      "Epoch 51/100\n",
      "1231/1231 [==============================] - 90s 73ms/step - loss: 928.6066 - mean_absolute_error: 20.4373 - root_mean_squared_error: 30.4730 - mean_absolute_percentage_error: 29.9068 - val_loss: 786.0853 - val_mean_absolute_error: 19.3974 - val_root_mean_squared_error: 28.0372 - val_mean_absolute_percentage_error: 26.9566 20.4303 - root_mean_squared_error: 30.4522 - mean_absolute_percenta - ETA: 3s - loss: 926.4659 - mean_absolute_error: 20.4288 - root_mean_squared_error: 30.4379 - \n",
      "Epoch 52/100\n",
      "1231/1231 [==============================] - 92s 75ms/step - loss: 927.3454 - mean_absolute_error: 20.4202 - root_mean_squared_error: 30.4524 - mean_absolute_percentage_error: 29.9027 - val_loss: 772.1343 - val_mean_absolute_error: 19.2837 - val_root_mean_squared_error: 27.7873 - val_mean_absolute_percentage_error: 27.0891\n",
      "Epoch 53/100\n",
      "1231/1231 [==============================] - 90s 73ms/step - loss: 925.1807 - mean_absolute_error: 20.4128 - root_mean_squared_error: 30.4168 - mean_absolute_percentage_error: 29.9392 - val_loss: 768.5439 - val_mean_absolute_error: 19.0480 - val_root_mean_squared_error: 27.7226 - val_mean_absolute_percentage_error: 25.4946\n",
      "Epoch 54/100\n",
      "1231/1231 [==============================] - 90s 73ms/step - loss: 923.8535 - mean_absolute_error: 20.3867 - root_mean_squared_error: 30.3950 - mean_absolute_percentage_error: 29.8244 - val_loss: 728.5594 - val_mean_absolute_error: 18.5728 - val_root_mean_squared_error: 26.9918 - val_mean_absolute_percentage_error: 26.6919\n",
      "Epoch 55/100\n",
      "1231/1231 [==============================] - 91s 74ms/step - loss: 923.1254 - mean_absolute_error: 20.3887 - root_mean_squared_error: 30.3830 - mean_absolute_percentage_error: 29.8773 - val_loss: 765.0845 - val_mean_absolute_error: 19.0886 - val_root_mean_squared_error: 27.6602 - val_mean_absolute_percentage_error: 23.6665\n",
      "Epoch 56/100\n",
      "1231/1231 [==============================] - 93s 75ms/step - loss: 923.1819 - mean_absolute_error: 20.3923 - root_mean_squared_error: 30.3839 - mean_absolute_percentage_error: 29.8495 - val_loss: 726.1089 - val_mean_absolute_error: 18.6023 - val_root_mean_squared_error: 26.9464 - val_mean_absolute_percentage_error: 27.2716\n",
      "Epoch 57/100\n",
      "1231/1231 [==============================] - 89s 72ms/step - loss: 921.6064 - mean_absolute_error: 20.3682 - root_mean_squared_error: 30.3580 - mean_absolute_percentage_error: 29.8057 - val_loss: 736.3239 - val_mean_absolute_error: 18.7267 - val_root_mean_squared_error: 27.1353 - val_mean_absolute_percentage_error: 27.1378\n",
      "Epoch 58/100\n",
      "1231/1231 [==============================] - 90s 73ms/step - loss: 919.0849 - mean_absolute_error: 20.3560 - root_mean_squared_error: 30.3164 - mean_absolute_percentage_error: 29.8201 - val_loss: 726.6336 - val_mean_absolute_error: 18.5710 - val_root_mean_squared_error: 26.9561 - val_mean_absolute_percentage_error: 26.8224\n",
      "Epoch 59/100\n",
      "1231/1231 [==============================] - 93s 75ms/step - loss: 917.0177 - mean_absolute_error: 20.3194 - root_mean_squared_error: 30.2823 - mean_absolute_percentage_error: 29.7301 - val_loss: 755.9866 - val_mean_absolute_error: 18.9195 - val_root_mean_squared_error: 27.4952 - val_mean_absolute_percentage_error: 25.5364\n",
      "Epoch 60/100\n",
      "1231/1231 [==============================] - 91s 74ms/step - loss: 915.9778 - mean_absolute_error: 20.3273 - root_mean_squared_error: 30.2651 - mean_absolute_percentage_error: 29.7631 - val_loss: 763.2197 - val_mean_absolute_error: 18.9713 - val_root_mean_squared_error: 27.6264 - val_mean_absolute_percentage_error: 24.7339\n",
      "Epoch 61/100\n",
      "1231/1231 [==============================] - 89s 73ms/step - loss: 913.8143 - mean_absolute_error: 20.2883 - root_mean_squared_error: 30.2294 - mean_absolute_percentage_error: 29.6858 - val_loss: 774.5645 - val_mean_absolute_error: 19.1563 - val_root_mean_squared_error: 27.8310 - val_mean_absolute_percentage_error: 24.0804\n",
      "Epoch 62/100\n",
      "1231/1231 [==============================] - 91s 74ms/step - loss: 911.8946 - mean_absolute_error: 20.2811 - root_mean_squared_error: 30.1976 - mean_absolute_percentage_error: 29.6998 - val_loss: 741.2278 - val_mean_absolute_error: 18.8311 - val_root_mean_squared_error: 27.2255 - val_mean_absolute_percentage_error: 26.6509\n",
      "Epoch 63/100\n",
      "1231/1231 [==============================] - 92s 74ms/step - loss: 911.2639 - mean_absolute_error: 20.2825 - root_mean_squared_error: 30.1872 - mean_absolute_percentage_error: 29.6711 - val_loss: 734.5482 - val_mean_absolute_error: 18.6395 - val_root_mean_squared_error: 27.1025 - val_mean_absolute_percentage_error: 25.6730\n",
      "Epoch 64/100\n",
      "1231/1231 [==============================] - 101s 82ms/step - loss: 909.0018 - mean_absolute_error: 20.2408 - root_mean_squared_error: 30.1497 - mean_absolute_percentage_error: 29.6794 - val_loss: 755.4724 - val_mean_absolute_error: 18.9701 - val_root_mean_squared_error: 27.4859 - val_mean_absolute_percentage_error: 25.1204\n",
      "Epoch 65/100\n",
      "1231/1231 [==============================] - 175s 142ms/step - loss: 909.8702 - mean_absolute_error: 20.2589 - root_mean_squared_error: 30.1640 - mean_absolute_percentage_error: 29.6370 - val_loss: 731.1203 - val_mean_absolute_error: 18.6341 - val_root_mean_squared_error: 27.0392 - val_mean_absolute_percentage_error: 25.3178\n",
      "Epoch 66/100\n",
      "1231/1231 [==============================] - 176s 143ms/step - loss: 906.5605 - mean_absolute_error: 20.2344 - root_mean_squared_error: 30.1091 - mean_absolute_percentage_error: 29.6292 - val_loss: 739.8191 - val_mean_absolute_error: 18.7103 - val_root_mean_squared_error: 27.1996 - val_mean_absolute_percentage_error: 27.1423\n",
      "Epoch 67/100\n",
      "1231/1231 [==============================] - 175s 142ms/step - loss: 906.7427 - mean_absolute_error: 20.2216 - root_mean_squared_error: 30.1122 - mean_absolute_percentage_error: 29.5876 - val_loss: 740.2609 - val_mean_absolute_error: 18.7100 - val_root_mean_squared_error: 27.2077 - val_mean_absolute_percentage_error: 26.0397\n",
      "Epoch 68/100\n",
      "1231/1231 [==============================] - 172s 140ms/step - loss: 904.6653 - mean_absolute_error: 20.2049 - root_mean_squared_error: 30.0777 - mean_absolute_percentage_error: 29.5645 - val_loss: 733.4490 - val_mean_absolute_error: 18.6190 - val_root_mean_squared_error: 27.0823 - val_mean_absolute_percentage_error: 24.3818\n",
      "Epoch 69/100\n",
      "1231/1231 [==============================] - 177s 144ms/step - loss: 902.5098 - mean_absolute_error: 20.1974 - root_mean_squared_error: 30.0418 - mean_absolute_percentage_error: 29.5177 - val_loss: 723.3275 - val_mean_absolute_error: 18.4466 - val_root_mean_squared_error: 26.8947 - val_mean_absolute_percentage_error: 26.1081\n",
      "Epoch 70/100\n",
      "1231/1231 [==============================] - 175s 142ms/step - loss: 901.9215 - mean_absolute_error: 20.1814 - root_mean_squared_error: 30.0320 - mean_absolute_percentage_error: 29.5083 - val_loss: 747.9089 - val_mean_absolute_error: 18.8734 - val_root_mean_squared_error: 27.3479 - val_mean_absolute_percentage_error: 27.2258\n",
      "Epoch 71/100\n",
      "1231/1231 [==============================] - 176s 143ms/step - loss: 901.5788 - mean_absolute_error: 20.1750 - root_mean_squared_error: 30.0263 - mean_absolute_percentage_error: 29.4835 - val_loss: 745.1279 - val_mean_absolute_error: 18.8734 - val_root_mean_squared_error: 27.2970 - val_mean_absolute_percentage_error: 26.7300\n",
      "Epoch 72/100\n",
      "1231/1231 [==============================] - 177s 144ms/step - loss: 898.2419 - mean_absolute_error: 20.1412 - root_mean_squared_error: 29.9707 - mean_absolute_percentage_error: 29.4645 - val_loss: 768.9801 - val_mean_absolute_error: 19.0626 - val_root_mean_squared_error: 27.7305 - val_mean_absolute_percentage_error: 25.5100\n",
      "Epoch 73/100\n",
      "1231/1231 [==============================] - 179s 145ms/step - loss: 896.2305 - mean_absolute_error: 20.1293 - root_mean_squared_error: 29.9371 - mean_absolute_percentage_error: 29.4629 - val_loss: 757.5862 - val_mean_absolute_error: 18.9075 - val_root_mean_squared_error: 27.5243 - val_mean_absolute_percentage_error: 24.8626: 898.1469 - mean_absolute_error: 20.1440 - root_mean_squared_error: 29.9691 - mean\n",
      "Epoch 74/100\n",
      "1231/1231 [==============================] - 169s 137ms/step - loss: 895.8588 - mean_absolute_error: 20.1178 - root_mean_squared_error: 29.9309 - mean_absolute_percentage_error: 29.4770 - val_loss: 739.8268 - val_mean_absolute_error: 18.6526 - val_root_mean_squared_error: 27.1998 - val_mean_absolute_percentage_error: 25.127720.1349 - root_mean_squared_error: 29.9685 - mean_absolute_percentage_error: 29. - ETA: 4s - loss: 898.3912 - mean_absolute_error: 20.1396 - root_mean_squared_error: 29.9732 - mean_ab\n",
      "Epoch 75/100\n",
      "1231/1231 [==============================] - 173s 140ms/step - loss: 893.0674 - mean_absolute_error: 20.0909 - root_mean_squared_error: 29.8842 - mean_absolute_percentage_error: 29.3559 - val_loss: 751.4278 - val_mean_absolute_error: 18.8938 - val_root_mean_squared_error: 27.4122 - val_mean_absolute_percentage_error: 25.69978.0749 - mean_absolute_error: 20.0098 - root_mean_squared_error: 29. - ETA: 2s - loss: 891.4363 - mean_absolute_error: 20.0698 - root_mean_squared_error: 29.8569 - mean_absolute_perce\n",
      "Epoch 76/100\n",
      "1231/1231 [==============================] - 174s 141ms/step - loss: 892.1163 - mean_absolute_error: 20.0887 - root_mean_squared_error: 29.8683 - mean_absolute_percentage_error: 29.3762 - val_loss: 774.1348 - val_mean_absolute_error: 19.1465 - val_root_mean_squared_error: 27.8233 - val_mean_absolute_percentage_error: 25.9501\n",
      "Epoch 77/100\n",
      "1231/1231 [==============================] - 173s 141ms/step - loss: 891.5838 - mean_absolute_error: 20.0874 - root_mean_squared_error: 29.8594 - mean_absolute_percentage_error: 29.3895 - val_loss: 721.3940 - val_mean_absolute_error: 18.4436 - val_root_mean_squared_error: 26.8588 - val_mean_absolute_percentage_error: 25.5951\n",
      "Epoch 78/100\n",
      "1231/1231 [==============================] - 171s 139ms/step - loss: 890.7852 - mean_absolute_error: 20.0668 - root_mean_squared_error: 29.8460 - mean_absolute_percentage_error: 29.3579 - val_loss: 752.8412 - val_mean_absolute_error: 18.8898 - val_root_mean_squared_error: 27.4379 - val_mean_absolute_percentage_error: 24.3165\n",
      "Epoch 79/100\n",
      "1231/1231 [==============================] - 177s 144ms/step - loss: 889.2178 - mean_absolute_error: 20.0744 - root_mean_squared_error: 29.8198 - mean_absolute_percentage_error: 29.3071 - val_loss: 734.9759 - val_mean_absolute_error: 18.6604 - val_root_mean_squared_error: 27.1104 - val_mean_absolute_percentage_error: 24.5454\n",
      "Epoch 80/100\n",
      "1231/1231 [==============================] - 173s 141ms/step - loss: 887.8903 - mean_absolute_error: 20.0457 - root_mean_squared_error: 29.7975 - mean_absolute_percentage_error: 29.2902 - val_loss: 770.6981 - val_mean_absolute_error: 19.0931 - val_root_mean_squared_error: 27.7614 - val_mean_absolute_percentage_error: 24.4229\n",
      "Epoch 81/100\n",
      "1231/1231 [==============================] - 174s 141ms/step - loss: 886.1403 - mean_absolute_error: 20.0214 - root_mean_squared_error: 29.7681 - mean_absolute_percentage_error: 29.2781 - val_loss: 741.0080 - val_mean_absolute_error: 18.7106 - val_root_mean_squared_error: 27.2215 - val_mean_absolute_percentage_error: 25.3648\n",
      "Epoch 82/100\n",
      "1231/1231 [==============================] - 175s 142ms/step - loss: 884.9987 - mean_absolute_error: 20.0104 - root_mean_squared_error: 29.7489 - mean_absolute_percentage_error: 29.2216 - val_loss: 741.3693 - val_mean_absolute_error: 18.7654 - val_root_mean_squared_error: 27.2281 - val_mean_absolute_percentage_error: 25.5276\n",
      "Epoch 83/100\n",
      "1231/1231 [==============================] - 173s 140ms/step - loss: 883.3645 - mean_absolute_error: 20.0083 - root_mean_squared_error: 29.7214 - mean_absolute_percentage_error: 29.2073 - val_loss: 727.0807 - val_mean_absolute_error: 18.5207 - val_root_mean_squared_error: 26.9644 - val_mean_absolute_percentage_error: 24.4811 - root_mean_squared_error: 29.7171 - mean_absolute_percentage\n",
      "Epoch 84/100\n",
      "1231/1231 [==============================] - 177s 144ms/step - loss: 882.3459 - mean_absolute_error: 19.9906 - root_mean_squared_error: 29.7043 - mean_absolute_percentage_error: 29.2471 - val_loss: 770.5338 - val_mean_absolute_error: 19.0918 - val_root_mean_squared_error: 27.7585 - val_mean_absolute_percentage_error: 24.4473\n",
      "Epoch 85/100\n",
      "1231/1231 [==============================] - 176s 143ms/step - loss: 882.5847 - mean_absolute_error: 19.9851 - root_mean_squared_error: 29.7083 - mean_absolute_percentage_error: 29.2213 - val_loss: 757.6888 - val_mean_absolute_error: 18.9778 - val_root_mean_squared_error: 27.5261 - val_mean_absolute_percentage_error: 25.8397\n",
      "Epoch 86/100\n",
      "1231/1231 [==============================] - 173s 140ms/step - loss: 879.3562 - mean_absolute_error: 19.9595 - root_mean_squared_error: 29.6539 - mean_absolute_percentage_error: 29.1504 - val_loss: 828.0168 - val_mean_absolute_error: 19.8170 - val_root_mean_squared_error: 28.7753 - val_mean_absolute_percentage_error: 26.3850\n",
      "Epoch 87/100\n",
      "1231/1231 [==============================] - 176s 143ms/step - loss: 879.0143 - mean_absolute_error: 19.9544 - root_mean_squared_error: 29.6482 - mean_absolute_percentage_error: 29.1988 - val_loss: 747.5174 - val_mean_absolute_error: 18.7827 - val_root_mean_squared_error: 27.3408 - val_mean_absolute_percentage_error: 25.1788\n",
      "Epoch 88/100\n"
     ]
    },
    {
     "name": "stdout",
     "output_type": "stream",
     "text": [
      "1231/1231 [==============================] - 177s 144ms/step - loss: 876.7466 - mean_absolute_error: 19.9276 - root_mean_squared_error: 29.6099 - mean_absolute_percentage_error: 29.0682 - val_loss: 745.3535 - val_mean_absolute_error: 18.7592 - val_root_mean_squared_error: 27.3012 - val_mean_absolute_percentage_error: 25.8565\n",
      "Epoch 89/100\n",
      "1231/1231 [==============================] - 150s 122ms/step - loss: 876.0521 - mean_absolute_error: 19.9358 - root_mean_squared_error: 29.5982 - mean_absolute_percentage_error: 29.1506 - val_loss: 736.5505 - val_mean_absolute_error: 18.6832 - val_root_mean_squared_error: 27.1395 - val_mean_absolute_percentage_error: 25.6932\n",
      "Epoch 90/100\n",
      "1231/1231 [==============================] - 170s 138ms/step - loss: 875.8683 - mean_absolute_error: 19.9274 - root_mean_squared_error: 29.5951 - mean_absolute_percentage_error: 29.1191 - val_loss: 769.4762 - val_mean_absolute_error: 19.0097 - val_root_mean_squared_error: 27.7394 - val_mean_absolute_percentage_error: 24.8636\n",
      "Epoch 91/100\n",
      "1231/1231 [==============================] - 172s 140ms/step - loss: 874.1474 - mean_absolute_error: 19.9052 - root_mean_squared_error: 29.5660 - mean_absolute_percentage_error: 29.0362 - val_loss: 777.3668 - val_mean_absolute_error: 19.0860 - val_root_mean_squared_error: 27.8813 - val_mean_absolute_percentage_error: 25.5175\n",
      "Epoch 92/100\n",
      "1231/1231 [==============================] - 175s 142ms/step - loss: 871.4111 - mean_absolute_error: 19.8761 - root_mean_squared_error: 29.5197 - mean_absolute_percentage_error: 29.0581 - val_loss: 769.9174 - val_mean_absolute_error: 19.0652 - val_root_mean_squared_error: 27.7474 - val_mean_absolute_percentage_error: 24.7318\n",
      "Epoch 93/100\n",
      "1231/1231 [==============================] - 178s 145ms/step - loss: 871.1998 - mean_absolute_error: 19.8800 - root_mean_squared_error: 29.5161 - mean_absolute_percentage_error: 29.0401 - val_loss: 760.2663 - val_mean_absolute_error: 18.9347 - val_root_mean_squared_error: 27.5729 - val_mean_absolute_percentage_error: 25.4423\n",
      "Epoch 94/100\n",
      "1231/1231 [==============================] - 174s 141ms/step - loss: 869.6848 - mean_absolute_error: 19.8690 - root_mean_squared_error: 29.4904 - mean_absolute_percentage_error: 29.0597 - val_loss: 740.0031 - val_mean_absolute_error: 18.6387 - val_root_mean_squared_error: 27.2030 - val_mean_absolute_percentage_error: 24.7085\n",
      "Epoch 95/100\n",
      "1231/1231 [==============================] - 171s 139ms/step - loss: 868.4937 - mean_absolute_error: 19.8468 - root_mean_squared_error: 29.4702 - mean_absolute_percentage_error: 28.9860 - val_loss: 740.5880 - val_mean_absolute_error: 18.6939 - val_root_mean_squared_error: 27.2137 - val_mean_absolute_percentage_error: 25.6920\n",
      "Epoch 96/100\n",
      "1231/1231 [==============================] - 175s 142ms/step - loss: 867.0226 - mean_absolute_error: 19.8453 - root_mean_squared_error: 29.4453 - mean_absolute_percentage_error: 28.9536 - val_loss: 740.1595 - val_mean_absolute_error: 18.6502 - val_root_mean_squared_error: 27.2059 - val_mean_absolute_percentage_error: 25.4054\n",
      "Epoch 97/100\n",
      "1231/1231 [==============================] - 179s 145ms/step - loss: 866.3210 - mean_absolute_error: 19.8273 - root_mean_squared_error: 29.4333 - mean_absolute_percentage_error: 28.9240 - val_loss: 738.9568 - val_mean_absolute_error: 18.6684 - val_root_mean_squared_error: 27.1838 - val_mean_absolute_percentage_error: 25.1900\n",
      "Epoch 98/100\n",
      "1231/1231 [==============================] - 176s 143ms/step - loss: 865.1577 - mean_absolute_error: 19.8175 - root_mean_squared_error: 29.4136 - mean_absolute_percentage_error: 28.9550 - val_loss: 796.7875 - val_mean_absolute_error: 19.4540 - val_root_mean_squared_error: 28.2274 - val_mean_absolute_percentage_error: 24.7245\n",
      "Epoch 99/100\n",
      "1231/1231 [==============================] - 175s 142ms/step - loss: 864.3737 - mean_absolute_error: 19.8131 - root_mean_squared_error: 29.4003 - mean_absolute_percentage_error: 28.8929 - val_loss: 760.9854 - val_mean_absolute_error: 18.9677 - val_root_mean_squared_error: 27.5860 - val_mean_absolute_percentage_error: 25.4176\n",
      "Epoch 100/100\n",
      "1231/1231 [==============================] - 176s 143ms/step - loss: 863.4223 - mean_absolute_error: 19.8052 - root_mean_squared_error: 29.3841 - mean_absolute_percentage_error: 28.8951 - val_loss: 759.9358 - val_mean_absolute_error: 18.9159 - val_root_mean_squared_error: 27.5669 - val_mean_absolute_percentage_error: 25.9956\n"
     ]
    },
    {
     "data": {
      "text/plain": [
       "<keras.callbacks.History at 0x1e750486d60>"
      ]
     },
     "execution_count": 82,
     "metadata": {},
     "output_type": "execute_result"
    }
   ],
   "source": [
    "model15.fit((Wt15,Xt15), yt15, validation_split = val_percent,\n",
    "            epochs = 100, \n",
    "            verbose = 1)"
   ]
  },
  {
   "cell_type": "code",
   "execution_count": 83,
   "metadata": {},
   "outputs": [],
   "source": [
    "metrics15 = pd.DataFrame(model15.history.history)"
   ]
  },
  {
   "cell_type": "code",
   "execution_count": 84,
   "metadata": {},
   "outputs": [],
   "source": [
    "# fig = plt.figure(figsize=(6,4))\n",
    "\n",
    "# # Add set of axes to figure\n",
    "# axes = fig.add_axes([0, 0, 1, 1]) \n",
    "# axes2 = fig.add_axes([0.3, 0.35, 0.5, 0.5]) # Smaller figure\n",
    "# axes.plot(metrics15[['loss','val_loss']], label=['train_loss','val_loss'], lw=4)\n",
    "# axes.set_ylim(0,4000)\n",
    "\n",
    "# axes2.plot(metrics15[['loss','val_loss']], lw=4)\n",
    "# axes2.set_xlim(0,20)\n",
    "# axes2.set_ylim(500,1500)\n",
    "# #plt.xticks(visible=False)\n",
    "# plt.yticks(visible=False)\n",
    "\n",
    "# axes.set_xlabel('Epoch')\n",
    "# axes.set_ylabel('Loss')\n",
    "# axes.grid()\n",
    "# axes2.grid()\n",
    "\n",
    "# mark_inset(axes, axes2, loc1=2, loc2=4, fc=\"0.9\", ec=\"0.1\", ls='--')\n",
    "# axes.yaxis.set_major_formatter(formatter)"
   ]
  },
  {
   "cell_type": "code",
   "execution_count": 85,
   "metadata": {},
   "outputs": [
    {
     "name": "stderr",
     "output_type": "stream",
     "text": [
      "WARNING:absl:Function `_wrapped_model` contains input name(s) WideInput, DeepInput with unsupported characters which will be renamed to wideinput, deepinput in the SavedModel.\n",
      "WARNING:absl:Found untraced functions such as lstm_cell_11_layer_call_fn, lstm_cell_11_layer_call_and_return_conditional_losses, lstm_cell_9_layer_call_fn, lstm_cell_9_layer_call_and_return_conditional_losses, lstm_cell_10_layer_call_fn while saving (showing 5 of 15). These functions will not be directly callable after loading.\n"
     ]
    },
    {
     "name": "stdout",
     "output_type": "stream",
     "text": [
      "INFO:tensorflow:Assets written to: my_dir/10b-15\\assets\n"
     ]
    },
    {
     "name": "stderr",
     "output_type": "stream",
     "text": [
      "INFO:tensorflow:Assets written to: my_dir/10b-15\\assets\n"
     ]
    }
   ],
   "source": [
    "model15.save(\"my_dir/10b-15\")"
   ]
  },
  {
   "cell_type": "code",
   "execution_count": 86,
   "metadata": {},
   "outputs": [],
   "source": [
    "model15 = keras.models.load_model(\"my_dir/10b-15\")"
   ]
  },
  {
   "cell_type": "code",
   "execution_count": 87,
   "metadata": {},
   "outputs": [
    {
     "data": {
      "text/plain": [
       "array([[ 29.745071,  18.38764 ,  16.281563,  66.88104 ,  32.504723,\n",
       "          5.488085],\n",
       "       [ 29.951706,  18.692717,  15.687355,  66.178314,  33.860817,\n",
       "          6.326025],\n",
       "       [ 28.53394 ,  16.752424,  16.232521,  63.110657,  31.676023,\n",
       "          6.394144],\n",
       "       ...,\n",
       "       [ 45.861206,  47.8508  ,  72.72825 , 126.27006 ,  53.170338,\n",
       "         23.103292],\n",
       "       [ 41.77134 ,  41.762688,  66.18008 , 119.95129 ,  49.5751  ,\n",
       "         21.250925],\n",
       "       [ 39.86276 ,  38.848602,  63.853783, 121.30678 ,  51.824577,\n",
       "         20.085047]], dtype=float32)"
      ]
     },
     "execution_count": 87,
     "metadata": {},
     "output_type": "execute_result"
    }
   ],
   "source": [
    "model15.predict((Wv15,Xv15))"
   ]
  },
  {
   "cell_type": "markdown",
   "metadata": {},
   "source": [
    "### Evaluation on inverse_transform"
   ]
  },
  {
   "cell_type": "code",
   "execution_count": null,
   "metadata": {},
   "outputs": [],
   "source": [
    "test_predictions15 = model15.predict((Wv15,Xv15))\n",
    "\n",
    "\n",
    "MSE15 = mean_squared_error(yv15,test_predictions15)\n",
    "\n",
    "MAE15 = mean_absolute_error(yv15,test_predictions15)\n",
    "\n",
    "RMSE15 = np.sqrt(MSE15)\n",
    "\n",
    "MAPE15 = mean_absolute_percentage_error(yv15,test_predictions15)*100\n",
    "\n",
    "eval15 = [MSE15, MAE15, RMSE15, MAPE15]\n",
    "print(eval15)"
   ]
  },
  {
   "cell_type": "code",
   "execution_count": null,
   "metadata": {},
   "outputs": [],
   "source": [
    "GEH, count = ga.GEH(np.asarray(yv15), np.asarray(test_predictions15))\n",
    "GEH15 = count/GEH.size\n",
    "print(GEH15)"
   ]
  },
  {
   "cell_type": "markdown",
   "metadata": {},
   "source": [
    "# 30 mins ahead"
   ]
  },
  {
   "cell_type": "code",
   "execution_count": 90,
   "metadata": {},
   "outputs": [],
   "source": [
    "def build_model_30(hp):\n",
    "    # Inputs\n",
    "    channel_Wide = keras.layers.Input(shape=Wt30.shape[1:], name=\"WideInput\")\n",
    "    channel_Deep = keras.layers.Input(shape=Xt30.shape[1:], name=\"DeepInput\")\n",
    "    units = hp.Int(\"units\", min_value=1, max_value=100, step=1)\n",
    "    \n",
    "    \n",
    "    # Wide Model\n",
    "    flatten_30w = keras.layers.TimeDistributed(keras.layers.Flatten())(channel_Wide)\n",
    "    Bi_30 = keras.layers.Bidirectional(\n",
    "        keras.layers.LSTM(units=units, return_sequences=True),\n",
    "        merge_mode=\"ave\"\n",
    "    )(flatten_30w)\n",
    "    \n",
    "    \n",
    "    # Deep Model\n",
    "    # CNN \n",
    "    CNN_30 = keras.layers.TimeDistributed(\n",
    "        keras.layers.Conv2D(filters=hp.Int(\"filters\", min_value=32, max_value=512, step=32),\n",
    "                            kernel_size=hp.Choice(\"kernel_size\", [2, 3]), activation='relu'))(channel_Deep)\n",
    "    flatten_30 = keras.layers.TimeDistributed(keras.layers.Flatten())(CNN_30)\n",
    "    # LSTM          \n",
    "    LSTM_30 = keras.layers.LSTM(units=units, return_sequences=True)(flatten_30)\n",
    "\n",
    "    \n",
    "    # Concatenation \n",
    "    concat = keras.layers.concatenate([Bi_30, LSTM_30], axis=1)\n",
    "\n",
    "    # Attention\n",
    "    Att_30 = SeqSelfAttention(attention_activation='sigmoid')(concat)\n",
    "    merge = keras.layers.Flatten()(concat)\n",
    "\n",
    "    \n",
    "    # Output\n",
    "    output = keras.layers.Dense(n_features, name= \"output\")(merge)\n",
    "    \n",
    "    # Model\n",
    "    model_30 = keras.Model(inputs=[channel_Wide,channel_Deep], outputs=[output])\n",
    "\n",
    "    # Compile\n",
    "    model_30.compile(optimizer=keras.optimizers.Adam(hp.Choice(\"learning_rate\", [1e-2, 1e-3, 1e-4])), \n",
    "        loss=\"mse\", metrics=['MeanAbsoluteError','RootMeanSquaredError','MeanAbsolutePercentageError'])\n",
    "                    \n",
    "    return model_30"
   ]
  },
  {
   "cell_type": "code",
   "execution_count": 91,
   "metadata": {},
   "outputs": [],
   "source": [
    "tuner30 = RandomSearch(\n",
    "    build_model_30,\n",
    "    objective=\"val_loss\",\n",
    "    max_trials=10,\n",
    "    executions_per_trial=2,\n",
    "    overwrite=False,\n",
    "    directory=os.path.normpath('C:/RunsOak'),\n",
    "    project_name=\"10b-30\",\n",
    ")"
   ]
  },
  {
   "cell_type": "code",
   "execution_count": 92,
   "metadata": {},
   "outputs": [
    {
     "name": "stdout",
     "output_type": "stream",
     "text": [
      "Search space summary\n",
      "Default search space size: 4\n",
      "units (Int)\n",
      "{'default': None, 'conditions': [], 'min_value': 1, 'max_value': 100, 'step': 1, 'sampling': 'linear'}\n",
      "filters (Int)\n",
      "{'default': None, 'conditions': [], 'min_value': 32, 'max_value': 512, 'step': 32, 'sampling': 'linear'}\n",
      "kernel_size (Choice)\n",
      "{'default': 2, 'conditions': [], 'values': [2, 3], 'ordered': True}\n",
      "learning_rate (Choice)\n",
      "{'default': 0.01, 'conditions': [], 'values': [0.01, 0.001, 0.0001], 'ordered': True}\n"
     ]
    }
   ],
   "source": [
    "tuner30.search_space_summary()"
   ]
  },
  {
   "cell_type": "code",
   "execution_count": 93,
   "metadata": {},
   "outputs": [
    {
     "name": "stdout",
     "output_type": "stream",
     "text": [
      "Trial 10 Complete [02h 07m 35s]\n",
      "val_loss: 731.2030029296875\n",
      "\n",
      "Best val_loss So Far: 728.2366333007812\n",
      "Total elapsed time: 1d 10h 08m 29s\n",
      "INFO:tensorflow:Oracle triggered exit\n"
     ]
    },
    {
     "name": "stderr",
     "output_type": "stream",
     "text": [
      "INFO:tensorflow:Oracle triggered exit\n"
     ]
    }
   ],
   "source": [
    "tuner30.search((Wt30,Xt30), yt30, epochs=200,\n",
    "            validation_split = val_percent,\n",
    "            callbacks=[early_stop],\n",
    "            verbose=2)"
   ]
  },
  {
   "cell_type": "code",
   "execution_count": 94,
   "metadata": {},
   "outputs": [
    {
     "name": "stdout",
     "output_type": "stream",
     "text": [
      "Results summary\n",
      "Results in C:\\RunsOak\\10b-30\n",
      "Showing 1 best trials\n",
      "Objective(name=\"val_loss\", direction=\"min\")\n",
      "\n",
      "Trial 02 summary\n",
      "Hyperparameters:\n",
      "units: 68\n",
      "filters: 448\n",
      "kernel_size: 2\n",
      "learning_rate: 0.01\n",
      "Score: 728.2366333007812\n"
     ]
    }
   ],
   "source": [
    "tuner30.results_summary(1)"
   ]
  },
  {
   "cell_type": "markdown",
   "metadata": {},
   "source": [
    "### Best model"
   ]
  },
  {
   "cell_type": "code",
   "execution_count": 95,
   "metadata": {},
   "outputs": [],
   "source": [
    "best_hp30 = tuner30.get_best_hyperparameters()[0]\n",
    "model30 = tuner30.hypermodel.build(best_hp30)"
   ]
  },
  {
   "cell_type": "code",
   "execution_count": 96,
   "metadata": {},
   "outputs": [
    {
     "data": {
      "text/plain": [
       "['Best_HP/10b-30']"
      ]
     },
     "execution_count": 96,
     "metadata": {},
     "output_type": "execute_result"
    }
   ],
   "source": [
    "scaler_filename = \"Best_HP/10b-30\"\n",
    "joblib.dump(best_hp30, scaler_filename) "
   ]
  },
  {
   "cell_type": "code",
   "execution_count": 97,
   "metadata": {},
   "outputs": [],
   "source": [
    "scaler_filename = \"Best_HP/10b-30\"\n",
    "best_hp30 = joblib.load(scaler_filename) \n",
    "\n",
    "model30 = tuner30.hypermodel.build(best_hp30)"
   ]
  },
  {
   "cell_type": "code",
   "execution_count": 98,
   "metadata": {},
   "outputs": [
    {
     "name": "stdout",
     "output_type": "stream",
     "text": [
      "Model: \"model_2\"\n",
      "__________________________________________________________________________________________________\n",
      "Layer (type)                    Output Shape         Param #     Connected to                     \n",
      "==================================================================================================\n",
      "DeepInput (InputLayer)          [(None, 3, 5, 15, 6) 0                                            \n",
      "__________________________________________________________________________________________________\n",
      "WideInput (InputLayer)          [(None, 3, 3, 6)]    0                                            \n",
      "__________________________________________________________________________________________________\n",
      "time_distributed_7 (TimeDistrib (None, 3, 4, 14, 448 11200       DeepInput[0][0]                  \n",
      "__________________________________________________________________________________________________\n",
      "time_distributed_6 (TimeDistrib (None, 3, 18)        0           WideInput[0][0]                  \n",
      "__________________________________________________________________________________________________\n",
      "time_distributed_8 (TimeDistrib (None, 3, 25088)     0           time_distributed_7[0][0]         \n",
      "__________________________________________________________________________________________________\n",
      "bidirectional_2 (Bidirectional) (None, 3, 68)        47328       time_distributed_6[0][0]         \n",
      "__________________________________________________________________________________________________\n",
      "lstm_5 (LSTM)                   (None, 3, 68)        6842704     time_distributed_8[0][0]         \n",
      "__________________________________________________________________________________________________\n",
      "concatenate_2 (Concatenate)     (None, 6, 68)        0           bidirectional_2[0][0]            \n",
      "                                                                 lstm_5[0][0]                     \n",
      "__________________________________________________________________________________________________\n",
      "flatten_8 (Flatten)             (None, 408)          0           concatenate_2[0][0]              \n",
      "__________________________________________________________________________________________________\n",
      "output (Dense)                  (None, 6)            2454        flatten_8[0][0]                  \n",
      "==================================================================================================\n",
      "Total params: 6,903,686\n",
      "Trainable params: 6,903,686\n",
      "Non-trainable params: 0\n",
      "__________________________________________________________________________________________________\n"
     ]
    }
   ],
   "source": [
    "model30.summary()"
   ]
  },
  {
   "cell_type": "code",
   "execution_count": 99,
   "metadata": {},
   "outputs": [
    {
     "name": "stdout",
     "output_type": "stream",
     "text": [
      "Epoch 1/100\n",
      "1231/1231 [==============================] - 412s 330ms/step - loss: 2103.4019 - mean_absolute_error: 29.1007 - root_mean_squared_error: 45.8629 - mean_absolute_percentage_error: 46.1656 - val_loss: 909.7741 - val_mean_absolute_error: 21.0282 - val_root_mean_squared_error: 30.1625 - val_mean_absolute_percentage_error: 30.8659\n",
      "Epoch 2/100\n",
      "1231/1231 [==============================] - 403s 327ms/step - loss: 1098.7954 - mean_absolute_error: 22.2752 - root_mean_squared_error: 33.1481 - mean_absolute_percentage_error: 33.7128 - val_loss: 793.1597 - val_mean_absolute_error: 19.8155 - val_root_mean_squared_error: 28.1631 - val_mean_absolute_percentage_error: 28.3713\n",
      "Epoch 3/100\n",
      "1231/1231 [==============================] - 403s 328ms/step - loss: 1064.4023 - mean_absolute_error: 21.9674 - root_mean_squared_error: 32.6252 - mean_absolute_percentage_error: 32.9084 - val_loss: 819.8615 - val_mean_absolute_error: 19.7703 - val_root_mean_squared_error: 28.6332 - val_mean_absolute_percentage_error: 25.7425\n",
      "Epoch 4/100\n",
      "1231/1231 [==============================] - 407s 331ms/step - loss: 1049.6599 - mean_absolute_error: 21.8197 - root_mean_squared_error: 32.3985 - mean_absolute_percentage_error: 32.6020 - val_loss: 920.7994 - val_mean_absolute_error: 21.3732 - val_root_mean_squared_error: 30.3447 - val_mean_absolute_percentage_error: 29.1761\n",
      "Epoch 5/100\n",
      "1231/1231 [==============================] - 407s 331ms/step - loss: 1038.7194 - mean_absolute_error: 21.6984 - root_mean_squared_error: 32.2292 - mean_absolute_percentage_error: 32.3108 - val_loss: 788.7154 - val_mean_absolute_error: 19.6757 - val_root_mean_squared_error: 28.0841 - val_mean_absolute_percentage_error: 28.2945\n",
      "Epoch 6/100\n",
      "1231/1231 [==============================] - 405s 329ms/step - loss: 1028.5166 - mean_absolute_error: 21.6107 - root_mean_squared_error: 32.0705 - mean_absolute_percentage_error: 32.1669 - val_loss: 802.7831 - val_mean_absolute_error: 19.7328 - val_root_mean_squared_error: 28.3334 - val_mean_absolute_percentage_error: 27.7227\n",
      "Epoch 7/100\n",
      "1231/1231 [==============================] - 404s 328ms/step - loss: 1021.4843 - mean_absolute_error: 21.5328 - root_mean_squared_error: 31.9607 - mean_absolute_percentage_error: 32.0950 - val_loss: 775.2928 - val_mean_absolute_error: 19.3536 - val_root_mean_squared_error: 27.8441 - val_mean_absolute_percentage_error: 25.6844\n",
      "Epoch 8/100\n",
      "1231/1231 [==============================] - 405s 329ms/step - loss: 1016.3793 - mean_absolute_error: 21.4854 - root_mean_squared_error: 31.8807 - mean_absolute_percentage_error: 32.0505 - val_loss: 785.1075 - val_mean_absolute_error: 19.5951 - val_root_mean_squared_error: 28.0198 - val_mean_absolute_percentage_error: 26.0459\n",
      "Epoch 9/100\n",
      "1231/1231 [==============================] - 407s 331ms/step - loss: 1009.8792 - mean_absolute_error: 21.4093 - root_mean_squared_error: 31.7786 - mean_absolute_percentage_error: 31.8064 - val_loss: 767.6675 - val_mean_absolute_error: 19.3044 - val_root_mean_squared_error: 27.7068 - val_mean_absolute_percentage_error: 25.8479\n",
      "Epoch 10/100\n",
      "1231/1231 [==============================] - 404s 328ms/step - loss: 1006.9155 - mean_absolute_error: 21.3990 - root_mean_squared_error: 31.7319 - mean_absolute_percentage_error: 31.7553 - val_loss: 739.6788 - val_mean_absolute_error: 18.8490 - val_root_mean_squared_error: 27.1970 - val_mean_absolute_percentage_error: 26.5998\n",
      "Epoch 11/100\n",
      "1231/1231 [==============================] - 397s 322ms/step - loss: 1005.6295 - mean_absolute_error: 21.3478 - root_mean_squared_error: 31.7117 - mean_absolute_percentage_error: 31.5443 - val_loss: 820.3134 - val_mean_absolute_error: 19.9017 - val_root_mean_squared_error: 28.6411 - val_mean_absolute_percentage_error: 25.6553\n",
      "Epoch 12/100\n",
      "1231/1231 [==============================] - 397s 323ms/step - loss: 1000.9623 - mean_absolute_error: 21.3187 - root_mean_squared_error: 31.6380 - mean_absolute_percentage_error: 31.6608 - val_loss: 777.9216 - val_mean_absolute_error: 19.3054 - val_root_mean_squared_error: 27.8912 - val_mean_absolute_percentage_error: 27.0006\n",
      "Epoch 13/100\n",
      "1231/1231 [==============================] - 401s 326ms/step - loss: 996.9504 - mean_absolute_error: 21.2635 - root_mean_squared_error: 31.5745 - mean_absolute_percentage_error: 31.4896 - val_loss: 785.1332 - val_mean_absolute_error: 19.6259 - val_root_mean_squared_error: 28.0202 - val_mean_absolute_percentage_error: 29.1543\n",
      "Epoch 14/100\n",
      "1231/1231 [==============================] - 405s 329ms/step - loss: 995.0687 - mean_absolute_error: 21.2251 - root_mean_squared_error: 31.5447 - mean_absolute_percentage_error: 31.3443 - val_loss: 772.0052 - val_mean_absolute_error: 19.3528 - val_root_mean_squared_error: 27.7850 - val_mean_absolute_percentage_error: 29.8442\n",
      "Epoch 15/100\n",
      "1231/1231 [==============================] - 404s 328ms/step - loss: 991.1616 - mean_absolute_error: 21.1960 - root_mean_squared_error: 31.4827 - mean_absolute_percentage_error: 31.3547 - val_loss: 772.2897 - val_mean_absolute_error: 19.2423 - val_root_mean_squared_error: 27.7901 - val_mean_absolute_percentage_error: 28.0913\n",
      "Epoch 16/100\n",
      "1231/1231 [==============================] - 404s 329ms/step - loss: 985.9462 - mean_absolute_error: 21.1239 - root_mean_squared_error: 31.3998 - mean_absolute_percentage_error: 31.1476 - val_loss: 775.8613 - val_mean_absolute_error: 19.3786 - val_root_mean_squared_error: 27.8543 - val_mean_absolute_percentage_error: 25.4553\n",
      "Epoch 17/100\n",
      "1231/1231 [==============================] - 404s 328ms/step - loss: 985.1288 - mean_absolute_error: 21.1394 - root_mean_squared_error: 31.3868 - mean_absolute_percentage_error: 31.2478 - val_loss: 737.1876 - val_mean_absolute_error: 18.7916 - val_root_mean_squared_error: 27.1512 - val_mean_absolute_percentage_error: 27.0111\n",
      "Epoch 18/100\n",
      "1231/1231 [==============================] - 406s 330ms/step - loss: 984.4327 - mean_absolute_error: 21.1507 - root_mean_squared_error: 31.3757 - mean_absolute_percentage_error: 31.2740 - val_loss: 800.3595 - val_mean_absolute_error: 19.4681 - val_root_mean_squared_error: 28.2906 - val_mean_absolute_percentage_error: 26.0785\n",
      "Epoch 19/100\n",
      "1231/1231 [==============================] - 406s 329ms/step - loss: 982.3198 - mean_absolute_error: 21.1150 - root_mean_squared_error: 31.3420 - mean_absolute_percentage_error: 31.1457 - val_loss: 746.6692 - val_mean_absolute_error: 18.9190 - val_root_mean_squared_error: 27.3252 - val_mean_absolute_percentage_error: 24.0596\n",
      "Epoch 20/100\n",
      "1231/1231 [==============================] - 410s 333ms/step - loss: 977.4026 - mean_absolute_error: 21.0812 - root_mean_squared_error: 31.2634 - mean_absolute_percentage_error: 31.0883 - val_loss: 744.6494 - val_mean_absolute_error: 18.8992 - val_root_mean_squared_error: 27.2883 - val_mean_absolute_percentage_error: 27.3735\n",
      "Epoch 21/100\n",
      "1231/1231 [==============================] - 404s 328ms/step - loss: 978.3110 - mean_absolute_error: 21.0677 - root_mean_squared_error: 31.2780 - mean_absolute_percentage_error: 31.1284 - val_loss: 855.1368 - val_mean_absolute_error: 20.3067 - val_root_mean_squared_error: 29.2427 - val_mean_absolute_percentage_error: 27.4905\n",
      "Epoch 22/100\n",
      "1231/1231 [==============================] - 404s 328ms/step - loss: 974.2563 - mean_absolute_error: 21.0355 - root_mean_squared_error: 31.2131 - mean_absolute_percentage_error: 30.9496 - val_loss: 757.7839 - val_mean_absolute_error: 19.0758 - val_root_mean_squared_error: 27.5279 - val_mean_absolute_percentage_error: 24.6281\n",
      "Epoch 23/100\n",
      "1231/1231 [==============================] - 406s 330ms/step - loss: 971.8136 - mean_absolute_error: 21.0215 - root_mean_squared_error: 31.1739 - mean_absolute_percentage_error: 30.9244 - val_loss: 730.1390 - val_mean_absolute_error: 18.8188 - val_root_mean_squared_error: 27.0211 - val_mean_absolute_percentage_error: 29.9317\n",
      "Epoch 24/100\n",
      "1231/1231 [==============================] - 408s 332ms/step - loss: 967.8544 - mean_absolute_error: 20.9548 - root_mean_squared_error: 31.1103 - mean_absolute_percentage_error: 30.8487 - val_loss: 749.0784 - val_mean_absolute_error: 19.0620 - val_root_mean_squared_error: 27.3693 - val_mean_absolute_percentage_error: 30.5096\n",
      "Epoch 25/100\n",
      "1231/1231 [==============================] - 347s 282ms/step - loss: 969.7755 - mean_absolute_error: 21.0293 - root_mean_squared_error: 31.1412 - mean_absolute_percentage_error: 31.0416 - val_loss: 764.7309 - val_mean_absolute_error: 19.2231 - val_root_mean_squared_error: 27.6538 - val_mean_absolute_percentage_error: 28.7044\n",
      "Epoch 26/100\n",
      "1231/1231 [==============================] - 397s 323ms/step - loss: 963.4486 - mean_absolute_error: 20.9136 - root_mean_squared_error: 31.0395 - mean_absolute_percentage_error: 30.8258 - val_loss: 790.3259 - val_mean_absolute_error: 19.4010 - val_root_mean_squared_error: 28.1127 - val_mean_absolute_percentage_error: 26.9668\n",
      "Epoch 27/100\n",
      "1231/1231 [==============================] - 406s 330ms/step - loss: 965.2299 - mean_absolute_error: 20.9281 - root_mean_squared_error: 31.0681 - mean_absolute_percentage_error: 30.7044 - val_loss: 754.4536 - val_mean_absolute_error: 19.1068 - val_root_mean_squared_error: 27.4673 - val_mean_absolute_percentage_error: 28.0864\n",
      "Epoch 28/100\n",
      "1231/1231 [==============================] - 408s 332ms/step - loss: 962.0140 - mean_absolute_error: 20.9096 - root_mean_squared_error: 31.0164 - mean_absolute_percentage_error: 30.7698 - val_loss: 756.6372 - val_mean_absolute_error: 18.9919 - val_root_mean_squared_error: 27.5070 - val_mean_absolute_percentage_error: 25.1449\n",
      "Epoch 29/100\n",
      "1231/1231 [==============================] - 406s 330ms/step - loss: 959.4030 - mean_absolute_error: 20.8626 - root_mean_squared_error: 30.9742 - mean_absolute_percentage_error: 30.5864 - val_loss: 735.0980 - val_mean_absolute_error: 18.7660 - val_root_mean_squared_error: 27.1127 - val_mean_absolute_percentage_error: 25.5834\n",
      "Epoch 30/100\n",
      "1231/1231 [==============================] - 407s 331ms/step - loss: 954.2453 - mean_absolute_error: 20.8304 - root_mean_squared_error: 30.8909 - mean_absolute_percentage_error: 30.7026 - val_loss: 775.8619 - val_mean_absolute_error: 19.4180 - val_root_mean_squared_error: 27.8543 - val_mean_absolute_percentage_error: 30.9371\n",
      "Epoch 31/100\n",
      "1231/1231 [==============================] - 406s 330ms/step - loss: 953.5745 - mean_absolute_error: 20.8406 - root_mean_squared_error: 30.8800 - mean_absolute_percentage_error: 30.6114 - val_loss: 756.2819 - val_mean_absolute_error: 19.0593 - val_root_mean_squared_error: 27.5006 - val_mean_absolute_percentage_error: 28.7323\n",
      "Epoch 32/100\n",
      "1231/1231 [==============================] - 408s 331ms/step - loss: 953.6834 - mean_absolute_error: 20.8430 - root_mean_squared_error: 30.8818 - mean_absolute_percentage_error: 30.6300 - val_loss: 746.0847 - val_mean_absolute_error: 18.8361 - val_root_mean_squared_error: 27.3146 - val_mean_absolute_percentage_error: 24.5262\n",
      "Epoch 33/100\n",
      "1231/1231 [==============================] - 407s 331ms/step - loss: 953.2626 - mean_absolute_error: 20.7922 - root_mean_squared_error: 30.8749 - mean_absolute_percentage_error: 30.5216 - val_loss: 786.8114 - val_mean_absolute_error: 19.3874 - val_root_mean_squared_error: 28.0502 - val_mean_absolute_percentage_error: 26.4999\n",
      "Epoch 34/100\n",
      "1231/1231 [==============================] - 409s 332ms/step - loss: 952.7380 - mean_absolute_error: 20.8181 - root_mean_squared_error: 30.8665 - mean_absolute_percentage_error: 30.5295 - val_loss: 768.0228 - val_mean_absolute_error: 19.2695 - val_root_mean_squared_error: 27.7132 - val_mean_absolute_percentage_error: 29.3486\n",
      "Epoch 35/100\n",
      "1231/1231 [==============================] - 405s 330ms/step - loss: 949.5732 - mean_absolute_error: 20.7925 - root_mean_squared_error: 30.8152 - mean_absolute_percentage_error: 30.5117 - val_loss: 737.3632 - val_mean_absolute_error: 18.7404 - val_root_mean_squared_error: 27.1544 - val_mean_absolute_percentage_error: 26.2165\n",
      "Epoch 36/100\n",
      "1231/1231 [==============================] - 407s 331ms/step - loss: 944.7769 - mean_absolute_error: 20.7242 - root_mean_squared_error: 30.7372 - mean_absolute_percentage_error: 30.4127 - val_loss: 737.6214 - val_mean_absolute_error: 18.7459 - val_root_mean_squared_error: 27.1592 - val_mean_absolute_percentage_error: 25.8306\n",
      "Epoch 37/100\n",
      "1231/1231 [==============================] - 407s 331ms/step - loss: 944.1638 - mean_absolute_error: 20.7010 - root_mean_squared_error: 30.7272 - mean_absolute_percentage_error: 30.4003 - val_loss: 769.7634 - val_mean_absolute_error: 19.1398 - val_root_mean_squared_error: 27.7446 - val_mean_absolute_percentage_error: 24.2324\n",
      "Epoch 38/100\n",
      "1231/1231 [==============================] - 406s 330ms/step - loss: 946.3186 - mean_absolute_error: 20.7221 - root_mean_squared_error: 30.7623 - mean_absolute_percentage_error: 30.4184 - val_loss: 773.9596 - val_mean_absolute_error: 19.3331 - val_root_mean_squared_error: 27.8201 - val_mean_absolute_percentage_error: 27.2856\n",
      "Epoch 39/100\n",
      "1231/1231 [==============================] - 406s 330ms/step - loss: 940.3575 - mean_absolute_error: 20.6766 - root_mean_squared_error: 30.6652 - mean_absolute_percentage_error: 30.4229 - val_loss: 738.0114 - val_mean_absolute_error: 18.8899 - val_root_mean_squared_error: 27.1664 - val_mean_absolute_percentage_error: 27.4735\n",
      "Epoch 40/100\n",
      "1231/1231 [==============================] - 407s 331ms/step - loss: 938.0512 - mean_absolute_error: 20.6481 - root_mean_squared_error: 30.6276 - mean_absolute_percentage_error: 30.3138 - val_loss: 767.7786 - val_mean_absolute_error: 19.1721 - val_root_mean_squared_error: 27.7088 - val_mean_absolute_percentage_error: 26.7694\n",
      "Epoch 41/100\n",
      "1231/1231 [==============================] - 406s 330ms/step - loss: 934.9487 - mean_absolute_error: 20.6024 - root_mean_squared_error: 30.5769 - mean_absolute_percentage_error: 30.2593 - val_loss: 773.3505 - val_mean_absolute_error: 19.1613 - val_root_mean_squared_error: 27.8092 - val_mean_absolute_percentage_error: 24.3951\n",
      "Epoch 42/100\n",
      "1231/1231 [==============================] - 408s 332ms/step - loss: 937.5687 - mean_absolute_error: 20.6463 - root_mean_squared_error: 30.6197 - mean_absolute_percentage_error: 30.2351 - val_loss: 730.4188 - val_mean_absolute_error: 18.6457 - val_root_mean_squared_error: 27.0263 - val_mean_absolute_percentage_error: 25.8236\n",
      "Epoch 43/100\n",
      "1231/1231 [==============================] - 406s 330ms/step - loss: 937.1442 - mean_absolute_error: 20.6436 - root_mean_squared_error: 30.6128 - mean_absolute_percentage_error: 30.3817 - val_loss: 772.6467 - val_mean_absolute_error: 19.1449 - val_root_mean_squared_error: 27.7965 - val_mean_absolute_percentage_error: 25.2379\n",
      "Epoch 44/100\n",
      "1231/1231 [==============================] - 407s 331ms/step - loss: 932.2865 - mean_absolute_error: 20.5976 - root_mean_squared_error: 30.5334 - mean_absolute_percentage_error: 30.1859 - val_loss: 770.9318 - val_mean_absolute_error: 19.3552 - val_root_mean_squared_error: 27.7656 - val_mean_absolute_percentage_error: 30.1184\n",
      "Epoch 45/100\n",
      "1231/1231 [==============================] - 407s 331ms/step - loss: 934.2596 - mean_absolute_error: 20.6209 - root_mean_squared_error: 30.5657 - mean_absolute_percentage_error: 30.1776 - val_loss: 765.6335 - val_mean_absolute_error: 19.0918 - val_root_mean_squared_error: 27.6701 - val_mean_absolute_percentage_error: 26.1001\n",
      "Epoch 46/100\n",
      "1231/1231 [==============================] - 407s 331ms/step - loss: 930.4169 - mean_absolute_error: 20.5942 - root_mean_squared_error: 30.5027 - mean_absolute_percentage_error: 30.1900 - val_loss: 770.8792 - val_mean_absolute_error: 19.0640 - val_root_mean_squared_error: 27.7647 - val_mean_absolute_percentage_error: 24.8995\n",
      "Epoch 47/100\n",
      "1231/1231 [==============================] - 403s 328ms/step - loss: 927.0190 - mean_absolute_error: 20.5188 - root_mean_squared_error: 30.4470 - mean_absolute_percentage_error: 29.9915 - val_loss: 779.9713 - val_mean_absolute_error: 19.3206 - val_root_mean_squared_error: 27.9280 - val_mean_absolute_percentage_error: 24.3002\n",
      "Epoch 48/100\n",
      "1231/1231 [==============================] - 408s 332ms/step - loss: 932.6346 - mean_absolute_error: 20.6126 - root_mean_squared_error: 30.5391 - mean_absolute_percentage_error: 30.2393 - val_loss: 813.4929 - val_mean_absolute_error: 19.6399 - val_root_mean_squared_error: 28.5218 - val_mean_absolute_percentage_error: 25.6751\n",
      "Epoch 49/100\n"
     ]
    },
    {
     "name": "stdout",
     "output_type": "stream",
     "text": [
      "1231/1231 [==============================] - 410s 333ms/step - loss: 929.9804 - mean_absolute_error: 20.5791 - root_mean_squared_error: 30.4956 - mean_absolute_percentage_error: 30.1202 - val_loss: 737.9985 - val_mean_absolute_error: 18.7564 - val_root_mean_squared_error: 27.1661 - val_mean_absolute_percentage_error: 26.5700\n",
      "Epoch 50/100\n",
      "1231/1231 [==============================] - 405s 329ms/step - loss: 931.3951 - mean_absolute_error: 20.5797 - root_mean_squared_error: 30.5188 - mean_absolute_percentage_error: 30.1735 - val_loss: 762.0256 - val_mean_absolute_error: 19.1337 - val_root_mean_squared_error: 27.6048 - val_mean_absolute_percentage_error: 29.2726\n",
      "Epoch 51/100\n",
      "1231/1231 [==============================] - 405s 329ms/step - loss: 924.9922 - mean_absolute_error: 20.4941 - root_mean_squared_error: 30.4137 - mean_absolute_percentage_error: 29.9588 - val_loss: 790.8867 - val_mean_absolute_error: 19.4133 - val_root_mean_squared_error: 28.1227 - val_mean_absolute_percentage_error: 26.4435\n",
      "Epoch 52/100\n",
      "1231/1231 [==============================] - 408s 331ms/step - loss: 924.6199 - mean_absolute_error: 20.5030 - root_mean_squared_error: 30.4076 - mean_absolute_percentage_error: 30.0316 - val_loss: 762.7874 - val_mean_absolute_error: 19.2492 - val_root_mean_squared_error: 27.6186 - val_mean_absolute_percentage_error: 29.7166\n",
      "Epoch 53/100\n",
      "1231/1231 [==============================] - 407s 330ms/step - loss: 926.3734 - mean_absolute_error: 20.5263 - root_mean_squared_error: 30.4364 - mean_absolute_percentage_error: 30.0620 - val_loss: 783.5860 - val_mean_absolute_error: 19.3007 - val_root_mean_squared_error: 27.9926 - val_mean_absolute_percentage_error: 25.3538\n",
      "Epoch 54/100\n",
      "1231/1231 [==============================] - 406s 330ms/step - loss: 924.3886 - mean_absolute_error: 20.5125 - root_mean_squared_error: 30.4038 - mean_absolute_percentage_error: 30.0546 - val_loss: 748.2107 - val_mean_absolute_error: 18.8454 - val_root_mean_squared_error: 27.3534 - val_mean_absolute_percentage_error: 24.3763\n",
      "Epoch 55/100\n",
      "1231/1231 [==============================] - 408s 332ms/step - loss: 924.2251 - mean_absolute_error: 20.4941 - root_mean_squared_error: 30.4011 - mean_absolute_percentage_error: 29.9282 - val_loss: 771.5770 - val_mean_absolute_error: 19.1263 - val_root_mean_squared_error: 27.7773 - val_mean_absolute_percentage_error: 26.1959\n",
      "Epoch 56/100\n",
      "1231/1231 [==============================] - 407s 331ms/step - loss: 921.6824 - mean_absolute_error: 20.4510 - root_mean_squared_error: 30.3592 - mean_absolute_percentage_error: 29.9816 - val_loss: 740.8715 - val_mean_absolute_error: 18.7464 - val_root_mean_squared_error: 27.2190 - val_mean_absolute_percentage_error: 25.6564\n",
      "Epoch 57/100\n",
      "1231/1231 [==============================] - 408s 332ms/step - loss: 916.8387 - mean_absolute_error: 20.4193 - root_mean_squared_error: 30.2793 - mean_absolute_percentage_error: 29.9371 - val_loss: 785.4693 - val_mean_absolute_error: 19.3892 - val_root_mean_squared_error: 28.0262 - val_mean_absolute_percentage_error: 24.8466\n",
      "Epoch 58/100\n",
      "1231/1231 [==============================] - 406s 330ms/step - loss: 918.9378 - mean_absolute_error: 20.4356 - root_mean_squared_error: 30.3140 - mean_absolute_percentage_error: 29.9269 - val_loss: 761.1516 - val_mean_absolute_error: 19.1776 - val_root_mean_squared_error: 27.5890 - val_mean_absolute_percentage_error: 29.1863\n",
      "Epoch 59/100\n",
      "1231/1231 [==============================] - 408s 331ms/step - loss: 916.2126 - mean_absolute_error: 20.4128 - root_mean_squared_error: 30.2690 - mean_absolute_percentage_error: 29.8133 - val_loss: 805.1931 - val_mean_absolute_error: 19.5739 - val_root_mean_squared_error: 28.3759 - val_mean_absolute_percentage_error: 25.8129\n",
      "Epoch 60/100\n",
      "1231/1231 [==============================] - 408s 331ms/step - loss: 919.2264 - mean_absolute_error: 20.4570 - root_mean_squared_error: 30.3188 - mean_absolute_percentage_error: 29.9721 - val_loss: 773.9614 - val_mean_absolute_error: 19.1023 - val_root_mean_squared_error: 27.8202 - val_mean_absolute_percentage_error: 24.8940\n",
      "Epoch 61/100\n",
      "1231/1231 [==============================] - 410s 333ms/step - loss: 917.3853 - mean_absolute_error: 20.4231 - root_mean_squared_error: 30.2884 - mean_absolute_percentage_error: 29.8885 - val_loss: 786.1803 - val_mean_absolute_error: 19.3859 - val_root_mean_squared_error: 28.0389 - val_mean_absolute_percentage_error: 27.5526\n",
      "Epoch 62/100\n",
      "1231/1231 [==============================] - 407s 331ms/step - loss: 912.3464 - mean_absolute_error: 20.3571 - root_mean_squared_error: 30.2051 - mean_absolute_percentage_error: 29.7374 - val_loss: 770.4210 - val_mean_absolute_error: 19.2090 - val_root_mean_squared_error: 27.7565 - val_mean_absolute_percentage_error: 28.8269\n",
      "Epoch 63/100\n",
      "1231/1231 [==============================] - 411s 334ms/step - loss: 913.7353 - mean_absolute_error: 20.3846 - root_mean_squared_error: 30.2280 - mean_absolute_percentage_error: 29.7161 - val_loss: 779.8832 - val_mean_absolute_error: 19.2508 - val_root_mean_squared_error: 27.9264 - val_mean_absolute_percentage_error: 26.2948\n",
      "Epoch 64/100\n",
      "1231/1231 [==============================] - 409s 332ms/step - loss: 910.5027 - mean_absolute_error: 20.3638 - root_mean_squared_error: 30.1746 - mean_absolute_percentage_error: 29.8352 - val_loss: 781.9309 - val_mean_absolute_error: 19.2502 - val_root_mean_squared_error: 27.9630 - val_mean_absolute_percentage_error: 25.5446\n",
      "Epoch 65/100\n",
      "1231/1231 [==============================] - 404s 328ms/step - loss: 913.8358 - mean_absolute_error: 20.3862 - root_mean_squared_error: 30.2297 - mean_absolute_percentage_error: 29.7383 - val_loss: 768.5595 - val_mean_absolute_error: 19.1142 - val_root_mean_squared_error: 27.7229 - val_mean_absolute_percentage_error: 25.8671\n",
      "Epoch 66/100\n",
      "1231/1231 [==============================] - 409s 332ms/step - loss: 912.0275 - mean_absolute_error: 20.3576 - root_mean_squared_error: 30.1998 - mean_absolute_percentage_error: 29.7419 - val_loss: 768.2162 - val_mean_absolute_error: 19.0936 - val_root_mean_squared_error: 27.7167 - val_mean_absolute_percentage_error: 25.3038\n",
      "Epoch 67/100\n",
      "1231/1231 [==============================] - 409s 332ms/step - loss: 911.2258 - mean_absolute_error: 20.3759 - root_mean_squared_error: 30.1865 - mean_absolute_percentage_error: 29.7078 - val_loss: 767.2897 - val_mean_absolute_error: 19.0487 - val_root_mean_squared_error: 27.7000 - val_mean_absolute_percentage_error: 24.5235\n",
      "Epoch 68/100\n",
      "1231/1231 [==============================] - 405s 329ms/step - loss: 910.1933 - mean_absolute_error: 20.3660 - root_mean_squared_error: 30.1694 - mean_absolute_percentage_error: 29.8352 - val_loss: 738.6640 - val_mean_absolute_error: 18.7357 - val_root_mean_squared_error: 27.1784 - val_mean_absolute_percentage_error: 25.9239\n",
      "Epoch 69/100\n",
      "1231/1231 [==============================] - 404s 328ms/step - loss: 908.5720 - mean_absolute_error: 20.3109 - root_mean_squared_error: 30.1425 - mean_absolute_percentage_error: 29.5725 - val_loss: 753.3681 - val_mean_absolute_error: 18.9667 - val_root_mean_squared_error: 27.4475 - val_mean_absolute_percentage_error: 29.2633\n",
      "Epoch 70/100\n",
      "1231/1231 [==============================] - 406s 330ms/step - loss: 909.5563 - mean_absolute_error: 20.3499 - root_mean_squared_error: 30.1589 - mean_absolute_percentage_error: 29.7762 - val_loss: 805.6622 - val_mean_absolute_error: 19.5624 - val_root_mean_squared_error: 28.3842 - val_mean_absolute_percentage_error: 27.0627\n",
      "Epoch 71/100\n",
      "1231/1231 [==============================] - 135s 110ms/step - loss: 914.2751 - mean_absolute_error: 20.3901 - root_mean_squared_error: 30.2370 - mean_absolute_percentage_error: 29.7908 - val_loss: 769.7003 - val_mean_absolute_error: 19.1017 - val_root_mean_squared_error: 27.7435 - val_mean_absolute_percentage_error: 24.6392\n",
      "Epoch 72/100\n",
      "1231/1231 [==============================] - 112s 91ms/step - loss: 911.0241 - mean_absolute_error: 20.3662 - root_mean_squared_error: 30.1832 - mean_absolute_percentage_error: 29.8201 - val_loss: 795.0015 - val_mean_absolute_error: 19.3517 - val_root_mean_squared_error: 28.1958 - val_mean_absolute_percentage_error: 25.0012\n",
      "Epoch 73/100\n",
      "1231/1231 [==============================] - 112s 91ms/step - loss: 907.8666 - mean_absolute_error: 20.3473 - root_mean_squared_error: 30.1308 - mean_absolute_percentage_error: 29.8388 - val_loss: 807.1725 - val_mean_absolute_error: 19.5301 - val_root_mean_squared_error: 28.4108 - val_mean_absolute_percentage_error: 24.7514- mean_absolute_error: 20.3357 - root_mean_squared_error: 30.1309 - mean_abs - ETA: 3s - loss: 907.5649 - mean_absolute_error: 20.3485 - root_mean_squared_error: 30.1258 - mea\n",
      "Epoch 74/100\n",
      "1231/1231 [==============================] - 112s 91ms/step - loss: 903.3268 - mean_absolute_error: 20.2818 - root_mean_squared_error: 30.0554 - mean_absolute_percentage_error: 29.6409 - val_loss: 775.9050 - val_mean_absolute_error: 19.1636 - val_root_mean_squared_error: 27.8551 - val_mean_absolute_percentage_error: 24.613709\n",
      "Epoch 75/100\n",
      "1231/1231 [==============================] - 113s 92ms/step - loss: 910.1669 - mean_absolute_error: 20.3598 - root_mean_squared_error: 30.1690 - mean_absolute_percentage_error: 29.6570 - val_loss: 748.9996 - val_mean_absolute_error: 18.8090 - val_root_mean_squared_error: 27.3678 - val_mean_absolute_percentage_error: 26.3504\n",
      "Epoch 76/100\n",
      "1231/1231 [==============================] - 110s 89ms/step - loss: 906.4055 - mean_absolute_error: 20.3082 - root_mean_squared_error: 30.1066 - mean_absolute_percentage_error: 29.7060 - val_loss: 789.4355 - val_mean_absolute_error: 19.3138 - val_root_mean_squared_error: 28.0969 - val_mean_absolute_percentage_error: 25.2378\n",
      "Epoch 77/100\n",
      "1231/1231 [==============================] - 112s 91ms/step - loss: 904.6321 - mean_absolute_error: 20.3169 - root_mean_squared_error: 30.0771 - mean_absolute_percentage_error: 29.6417 - val_loss: 803.7507 - val_mean_absolute_error: 19.5972 - val_root_mean_squared_error: 28.3505 - val_mean_absolute_percentage_error: 27.0602olute_error: 20.2719 - ro - ETA: 13s - loss: 901.0173 - mean_absolute_error: 20.2674 - root_mean_squared_error: 30.0169 - mean_absolute_pe - ETA: 3s - loss: 904.1155 - mean_absolute_error: 20.3137 - root_mean_squared_error: 30.0685 - \n",
      "Epoch 78/100\n",
      "1231/1231 [==============================] - 111s 90ms/step - loss: 907.5003 - mean_absolute_error: 20.3103 - root_mean_squared_error: 30.1247 - mean_absolute_percentage_error: 29.6747 - val_loss: 765.1559 - val_mean_absolute_error: 19.0366 - val_root_mean_squared_error: 27.6615 - val_mean_absolute_percentage_error: 25.6009\n",
      "Epoch 79/100\n",
      "1231/1231 [==============================] - 113s 92ms/step - loss: 904.7252 - mean_absolute_error: 20.2950 - root_mean_squared_error: 30.0786 - mean_absolute_percentage_error: 29.6084 - val_loss: 824.9057 - val_mean_absolute_error: 19.7611 - val_root_mean_squared_error: 28.7212 - val_mean_absolute_percentage_error: 23.7184\n",
      "Epoch 80/100\n",
      "1231/1231 [==============================] - 110s 90ms/step - loss: 902.1572 - mean_absolute_error: 20.2645 - root_mean_squared_error: 30.0359 - mean_absolute_percentage_error: 29.6849 - val_loss: 807.5105 - val_mean_absolute_error: 19.6308 - val_root_mean_squared_error: 28.4167 - val_mean_absolute_percentage_error: 25.6596\n",
      "Epoch 81/100\n",
      "1231/1231 [==============================] - 110s 89ms/step - loss: 903.0148 - mean_absolute_error: 20.2501 - root_mean_squared_error: 30.0502 - mean_absolute_percentage_error: 29.6336 - val_loss: 778.6586 - val_mean_absolute_error: 19.2819 - val_root_mean_squared_error: 27.9045 - val_mean_absolute_percentage_error: 28.5878\n",
      "Epoch 82/100\n",
      "1231/1231 [==============================] - 110s 90ms/step - loss: 899.9854 - mean_absolute_error: 20.2426 - root_mean_squared_error: 29.9998 - mean_absolute_percentage_error: 29.5367 - val_loss: 765.4484 - val_mean_absolute_error: 19.0595 - val_root_mean_squared_error: 27.6667 - val_mean_absolute_percentage_error: 26.7577\n",
      "Epoch 83/100\n",
      "1231/1231 [==============================] - 114s 92ms/step - loss: 896.3427 - mean_absolute_error: 20.2045 - root_mean_squared_error: 29.9390 - mean_absolute_percentage_error: 29.4968 - val_loss: 796.8654 - val_mean_absolute_error: 19.4745 - val_root_mean_squared_error: 28.2288 - val_mean_absolute_percentage_error: 25.1903\n",
      "Epoch 84/100\n",
      "1231/1231 [==============================] - 111s 90ms/step - loss: 893.2708 - mean_absolute_error: 20.1902 - root_mean_squared_error: 29.8876 - mean_absolute_percentage_error: 29.3859 - val_loss: 784.5840 - val_mean_absolute_error: 19.2887 - val_root_mean_squared_error: 28.0104 - val_mean_absolute_percentage_error: 25.6136\n",
      "Epoch 85/100\n",
      "1231/1231 [==============================] - 112s 91ms/step - loss: 895.5802 - mean_absolute_error: 20.2112 - root_mean_squared_error: 29.9263 - mean_absolute_percentage_error: 29.4283 - val_loss: 790.1019 - val_mean_absolute_error: 19.4166 - val_root_mean_squared_error: 28.1088 - val_mean_absolute_percentage_error: 27.1590\n",
      "Epoch 86/100\n",
      "1231/1231 [==============================] - 112s 91ms/step - loss: 900.9211 - mean_absolute_error: 20.2454 - root_mean_squared_error: 30.0154 - mean_absolute_percentage_error: 29.5180 - val_loss: 748.1229 - val_mean_absolute_error: 18.8701 - val_root_mean_squared_error: 27.3518 - val_mean_absolute_percentage_error: 26.6221\n",
      "Epoch 87/100\n",
      "1231/1231 [==============================] - 112s 91ms/step - loss: 893.7538 - mean_absolute_error: 20.1916 - root_mean_squared_error: 29.8957 - mean_absolute_percentage_error: 29.4715 - val_loss: 808.0449 - val_mean_absolute_error: 19.6892 - val_root_mean_squared_error: 28.4261 - val_mean_absolute_percentage_error: 26.5472\n",
      "Epoch 88/100\n",
      "1231/1231 [==============================] - 112s 91ms/step - loss: 897.7045 - mean_absolute_error: 20.2314 - root_mean_squared_error: 29.9617 - mean_absolute_percentage_error: 29.5005 - val_loss: 778.3506 - val_mean_absolute_error: 19.3233 - val_root_mean_squared_error: 27.8989 - val_mean_absolute_percentage_error: 29.4224\n",
      "Epoch 89/100\n",
      "1231/1231 [==============================] - 112s 91ms/step - loss: 895.7863 - mean_absolute_error: 20.2076 - root_mean_squared_error: 29.9297 - mean_absolute_percentage_error: 29.4755 - val_loss: 769.4225 - val_mean_absolute_error: 19.1974 - val_root_mean_squared_error: 27.7385 - val_mean_absolute_percentage_error: 28.7079\n",
      "Epoch 90/100\n",
      "1231/1231 [==============================] - 114s 93ms/step - loss: 896.7780 - mean_absolute_error: 20.2199 - root_mean_squared_error: 29.9462 - mean_absolute_percentage_error: 29.3949 - val_loss: 798.7302 - val_mean_absolute_error: 19.5326 - val_root_mean_squared_error: 28.2618 - val_mean_absolute_percentage_error: 26.9365\n",
      "Epoch 91/100\n",
      "1231/1231 [==============================] - 107s 87ms/step - loss: 894.0316 - mean_absolute_error: 20.1900 - root_mean_squared_error: 29.9003 - mean_absolute_percentage_error: 29.5195 - val_loss: 787.7840 - val_mean_absolute_error: 19.2831 - val_root_mean_squared_error: 28.0675 - val_mean_absolute_percentage_error: 28.0443\n",
      "Epoch 92/100\n",
      "1231/1231 [==============================] - 111s 90ms/step - loss: 892.0766 - mean_absolute_error: 20.1642 - root_mean_squared_error: 29.8676 - mean_absolute_percentage_error: 29.3899 - val_loss: 782.0522 - val_mean_absolute_error: 19.4940 - val_root_mean_squared_error: 27.9652 - val_mean_absolute_percentage_error: 33.5389\n",
      "Epoch 93/100\n",
      "1231/1231 [==============================] - 111s 90ms/step - loss: 891.3179 - mean_absolute_error: 20.1463 - root_mean_squared_error: 29.8549 - mean_absolute_percentage_error: 29.3051 - val_loss: 760.8021 - val_mean_absolute_error: 18.9499 - val_root_mean_squared_error: 27.5826 - val_mean_absolute_percentage_error: 26.1034\n",
      "Epoch 94/100\n",
      "1231/1231 [==============================] - 111s 90ms/step - loss: 892.3507 - mean_absolute_error: 20.1678 - root_mean_squared_error: 29.8722 - mean_absolute_percentage_error: 29.3465 - val_loss: 818.1513 - val_mean_absolute_error: 19.7323 - val_root_mean_squared_error: 28.6033 - val_mean_absolute_percentage_error: 26.0395\n"
     ]
    },
    {
     "name": "stdout",
     "output_type": "stream",
     "text": [
      "Epoch 95/100\n",
      "1231/1231 [==============================] - 111s 91ms/step - loss: 899.5347 - mean_absolute_error: 20.2909 - root_mean_squared_error: 29.9922 - mean_absolute_percentage_error: 29.5050 - val_loss: 798.4011 - val_mean_absolute_error: 19.5140 - val_root_mean_squared_error: 28.2560 - val_mean_absolute_percentage_error: 24.9027absolute_error: 20.3124 - root_mean_squared_error: 30.0254 - mean_absolute_percen\n",
      "Epoch 96/100\n",
      "1231/1231 [==============================] - 111s 90ms/step - loss: 896.9188 - mean_absolute_error: 20.2355 - root_mean_squared_error: 29.9486 - mean_absolute_percentage_error: 29.5542 - val_loss: 777.6954 - val_mean_absolute_error: 19.2552 - val_root_mean_squared_error: 27.8872 - val_mean_absolute_percentage_error: 26.4927\n",
      "Epoch 97/100\n",
      "1231/1231 [==============================] - 111s 90ms/step - loss: 893.5722 - mean_absolute_error: 20.1954 - root_mean_squared_error: 29.8927 - mean_absolute_percentage_error: 29.5218 - val_loss: 776.5025 - val_mean_absolute_error: 19.1072 - val_root_mean_squared_error: 27.8658 - val_mean_absolute_percentage_error: 26.1197\n",
      "Epoch 98/100\n",
      "1231/1231 [==============================] - 113s 92ms/step - loss: 892.6158 - mean_absolute_error: 20.1828 - root_mean_squared_error: 29.8767 - mean_absolute_percentage_error: 29.3722 - val_loss: 794.9299 - val_mean_absolute_error: 19.3292 - val_root_mean_squared_error: 28.1945 - val_mean_absolute_percentage_error: 25.6982\n",
      "Epoch 99/100\n",
      "1231/1231 [==============================] - 115s 93ms/step - loss: 892.7042 - mean_absolute_error: 20.1827 - root_mean_squared_error: 29.8782 - mean_absolute_percentage_error: 29.2744 - val_loss: 772.9973 - val_mean_absolute_error: 19.1328 - val_root_mean_squared_error: 27.8028 - val_mean_absolute_percentage_error: 27.8104\n",
      "Epoch 100/100\n",
      "1231/1231 [==============================] - 213s 173ms/step - loss: 885.2997 - mean_absolute_error: 20.1121 - root_mean_squared_error: 29.7540 - mean_absolute_percentage_error: 29.2413 - val_loss: 778.9529 - val_mean_absolute_error: 19.1721 - val_root_mean_squared_error: 27.9097 - val_mean_absolute_percentage_error: 25.2283\n"
     ]
    },
    {
     "data": {
      "text/plain": [
       "<keras.callbacks.History at 0x1e7908bb880>"
      ]
     },
     "execution_count": 99,
     "metadata": {},
     "output_type": "execute_result"
    }
   ],
   "source": [
    "model30.fit((Wt30,Xt30), yt30, validation_split = val_percent,\n",
    "            epochs = 100, \n",
    "            verbose = 1)"
   ]
  },
  {
   "cell_type": "code",
   "execution_count": 100,
   "metadata": {},
   "outputs": [],
   "source": [
    "metrics30 = pd.DataFrame(model30.history.history)"
   ]
  },
  {
   "cell_type": "code",
   "execution_count": 101,
   "metadata": {},
   "outputs": [],
   "source": [
    "# fig = plt.figure(figsize=(6,4))\n",
    "\n",
    "# # Add set of axes to figure\n",
    "# axes = fig.add_axes([0, 0, 1, 1]) \n",
    "# axes2 = fig.add_axes([0.3, 0.35, 0.5, 0.5]) # Smaller figure\n",
    "# axes.plot(metrics30[['loss','val_loss']], label=['train_loss','val_loss'], lw=4)\n",
    "# axes.set_ylim(0,4000)\n",
    "\n",
    "# axes2.plot(metrics30[['loss','val_loss']], lw=4)\n",
    "# axes2.set_xlim(0,20)\n",
    "# axes2.set_ylim(500,1500)\n",
    "# # plt.xticks(visible=False)\n",
    "# plt.yticks(visible=False)\n",
    "\n",
    "# axes.set_xlabel('Epoch')\n",
    "# axes.set_ylabel('Loss')\n",
    "# axes.grid()\n",
    "# axes2.grid()\n",
    "\n",
    "# mark_inset(axes, axes2, loc1=2, loc2=4, fc=\"0.9\", ec=\"0.1\", ls='--')\n",
    "# axes.yaxis.set_major_formatter(formatter)"
   ]
  },
  {
   "cell_type": "code",
   "execution_count": 102,
   "metadata": {},
   "outputs": [
    {
     "name": "stderr",
     "output_type": "stream",
     "text": [
      "WARNING:absl:Function `_wrapped_model` contains input name(s) WideInput, DeepInput with unsupported characters which will be renamed to wideinput, deepinput in the SavedModel.\n",
      "WARNING:absl:Found untraced functions such as lstm_cell_11_layer_call_fn, lstm_cell_11_layer_call_and_return_conditional_losses, lstm_cell_9_layer_call_fn, lstm_cell_9_layer_call_and_return_conditional_losses, lstm_cell_10_layer_call_fn while saving (showing 5 of 15). These functions will not be directly callable after loading.\n"
     ]
    },
    {
     "name": "stdout",
     "output_type": "stream",
     "text": [
      "INFO:tensorflow:Assets written to: my_dir/10b-30\\assets\n"
     ]
    },
    {
     "name": "stderr",
     "output_type": "stream",
     "text": [
      "INFO:tensorflow:Assets written to: my_dir/10b-30\\assets\n"
     ]
    }
   ],
   "source": [
    "model30.save(\"my_dir/10b-30\")"
   ]
  },
  {
   "cell_type": "code",
   "execution_count": 103,
   "metadata": {},
   "outputs": [],
   "source": [
    "model30 = keras.models.load_model(\"my_dir/10b-30\")"
   ]
  },
  {
   "cell_type": "code",
   "execution_count": 104,
   "metadata": {},
   "outputs": [
    {
     "data": {
      "text/plain": [
       "array([[ 29.47062 ,  15.844233,  21.654182,  58.800125,  28.051598,\n",
       "          5.032404],\n",
       "       [ 29.693886,  16.61149 ,  20.415474,  57.353012,  28.644295,\n",
       "          4.232416],\n",
       "       [ 29.17591 ,  15.853594,  19.708809,  57.3239  ,  27.956581,\n",
       "          3.427744],\n",
       "       ...,\n",
       "       [ 46.77053 ,  48.84504 ,  68.27515 , 112.54521 ,  45.824257,\n",
       "         14.897516],\n",
       "       [ 45.15996 ,  43.62641 ,  68.38453 , 115.6227  ,  44.14582 ,\n",
       "         23.450586],\n",
       "       [ 41.699085,  38.33522 ,  64.77076 , 119.36371 ,  50.48056 ,\n",
       "         19.22252 ]], dtype=float32)"
      ]
     },
     "execution_count": 104,
     "metadata": {},
     "output_type": "execute_result"
    }
   ],
   "source": [
    "model30.predict((Wv30,Xv30))"
   ]
  },
  {
   "cell_type": "markdown",
   "metadata": {},
   "source": [
    "### Evaluation on inverse_transform"
   ]
  },
  {
   "cell_type": "code",
   "execution_count": null,
   "metadata": {},
   "outputs": [],
   "source": [
    "test_predictions30 = model30.predict((Wv30,Xv30))\n",
    "\n",
    "\n",
    "MSE30 = mean_squared_error(yv30,test_predictions30)\n",
    "\n",
    "MAE30 = mean_absolute_error(yv30,test_predictions30)\n",
    "\n",
    "RMSE30 = np.sqrt(MSE30)\n",
    "\n",
    "MAPE30 = mean_absolute_percentage_error(yv30,test_predictions30)*100\n",
    "\n",
    "eval30 = [MSE30, MAE30, RMSE30, MAPE30]\n",
    "print(eval30)"
   ]
  },
  {
   "cell_type": "code",
   "execution_count": null,
   "metadata": {},
   "outputs": [],
   "source": [
    "GEH, count = ga.GEH(np.asarray(yv30), np.asarray(test_predictions30))\n",
    "GEH30 = count/GEH.size\n",
    "print(GEH30)"
   ]
  },
  {
   "cell_type": "markdown",
   "metadata": {},
   "source": [
    "# 60 mins ahead"
   ]
  },
  {
   "cell_type": "code",
   "execution_count": 107,
   "metadata": {},
   "outputs": [],
   "source": [
    "def build_model_60(hp):\n",
    "    # Inputs\n",
    "    channel_Wide = keras.layers.Input(shape=Wt60.shape[1:], name=\"WideInput\")\n",
    "    channel_Deep = keras.layers.Input(shape=Xt60.shape[1:], name=\"DeepInput\")\n",
    "    units = hp.Int(\"units\", min_value=1, max_value=100, step=1)\n",
    "    \n",
    "    \n",
    "    # Wide Model\n",
    "    flatten_60w = keras.layers.TimeDistributed(keras.layers.Flatten())(channel_Wide)\n",
    "    Bi_60 = keras.layers.Bidirectional(\n",
    "        keras.layers.LSTM(units=units, return_sequences=True),\n",
    "        merge_mode=\"ave\"\n",
    "    )(flatten_60w)\n",
    "    \n",
    "    \n",
    "    # Deep Model\n",
    "    # CNN \n",
    "    CNN_60 = keras.layers.TimeDistributed(\n",
    "        keras.layers.Conv2D(filters=hp.Int(\"filters\", min_value=32, max_value=512, step=32),\n",
    "                            kernel_size=hp.Choice(\"kernel_size\", [2, 3]), activation='relu'))(channel_Deep)\n",
    "    flatten_60 = keras.layers.TimeDistributed(keras.layers.Flatten())(CNN_60)\n",
    "    # LSTM          \n",
    "    LSTM_60 = keras.layers.LSTM(units=units, return_sequences=True)(flatten_60)\n",
    "\n",
    "    \n",
    "    # Concatenation \n",
    "    concat = keras.layers.concatenate([Bi_60, LSTM_60], axis=1)\n",
    "\n",
    "    # Attention\n",
    "    Att_60 = SeqSelfAttention(attention_activation='sigmoid')(concat)\n",
    "    merge = keras.layers.Flatten()(concat)\n",
    "\n",
    "    \n",
    "    # Output\n",
    "    output = keras.layers.Dense(n_features, name= \"output\")(merge)\n",
    "    \n",
    "    # Model\n",
    "    model_60 = keras.Model(inputs=[channel_Wide,channel_Deep], outputs=[output])\n",
    "\n",
    "    # Compile\n",
    "    model_60.compile(optimizer=keras.optimizers.Adam(hp.Choice(\"learning_rate\", [1e-2, 1e-3, 1e-4])), \n",
    "        loss=\"mse\", metrics=['MeanAbsoluteError','RootMeanSquaredError','MeanAbsolutePercentageError'])\n",
    "                    \n",
    "    return model_60"
   ]
  },
  {
   "cell_type": "code",
   "execution_count": 108,
   "metadata": {},
   "outputs": [],
   "source": [
    "tuner60 = RandomSearch(\n",
    "    build_model_60,\n",
    "    objective=\"val_loss\",\n",
    "    max_trials=10,\n",
    "    executions_per_trial=2,\n",
    "    overwrite=False,\n",
    "    directory=os.path.normpath('C:/RunsOak'),\n",
    "    project_name=\"10b-60\",\n",
    ")"
   ]
  },
  {
   "cell_type": "code",
   "execution_count": 109,
   "metadata": {},
   "outputs": [
    {
     "name": "stdout",
     "output_type": "stream",
     "text": [
      "Search space summary\n",
      "Default search space size: 4\n",
      "units (Int)\n",
      "{'default': None, 'conditions': [], 'min_value': 1, 'max_value': 100, 'step': 1, 'sampling': 'linear'}\n",
      "filters (Int)\n",
      "{'default': None, 'conditions': [], 'min_value': 32, 'max_value': 512, 'step': 32, 'sampling': 'linear'}\n",
      "kernel_size (Choice)\n",
      "{'default': 2, 'conditions': [], 'values': [2, 3], 'ordered': True}\n",
      "learning_rate (Choice)\n",
      "{'default': 0.01, 'conditions': [], 'values': [0.01, 0.001, 0.0001], 'ordered': True}\n"
     ]
    }
   ],
   "source": [
    "tuner60.search_space_summary()"
   ]
  },
  {
   "cell_type": "code",
   "execution_count": 110,
   "metadata": {},
   "outputs": [
    {
     "name": "stdout",
     "output_type": "stream",
     "text": [
      "Trial 10 Complete [00h 19m 00s]\n",
      "val_loss: 745.8909606933594\n",
      "\n",
      "Best val_loss So Far: 732.4183349609375\n",
      "Total elapsed time: 1d 16h 47m 56s\n",
      "INFO:tensorflow:Oracle triggered exit\n"
     ]
    },
    {
     "name": "stderr",
     "output_type": "stream",
     "text": [
      "INFO:tensorflow:Oracle triggered exit\n"
     ]
    }
   ],
   "source": [
    "tuner60.search((Wt60,Xt60), yt60, epochs=200,\n",
    "            validation_split = val_percent,\n",
    "            callbacks=[early_stop],\n",
    "            verbose=2)"
   ]
  },
  {
   "cell_type": "code",
   "execution_count": 111,
   "metadata": {},
   "outputs": [
    {
     "name": "stdout",
     "output_type": "stream",
     "text": [
      "Results summary\n",
      "Results in C:\\RunsOak\\10b-60\n",
      "Showing 1 best trials\n",
      "Objective(name=\"val_loss\", direction=\"min\")\n",
      "\n",
      "Trial 07 summary\n",
      "Hyperparameters:\n",
      "units: 48\n",
      "filters: 384\n",
      "kernel_size: 3\n",
      "learning_rate: 0.01\n",
      "Score: 732.4183349609375\n"
     ]
    }
   ],
   "source": [
    "tuner60.results_summary(1)"
   ]
  },
  {
   "cell_type": "markdown",
   "metadata": {},
   "source": [
    "### Best model"
   ]
  },
  {
   "cell_type": "code",
   "execution_count": 112,
   "metadata": {},
   "outputs": [],
   "source": [
    "best_hp60 = tuner60.get_best_hyperparameters()[0]\n",
    "model60 = tuner60.hypermodel.build(best_hp60)"
   ]
  },
  {
   "cell_type": "code",
   "execution_count": 113,
   "metadata": {},
   "outputs": [
    {
     "data": {
      "text/plain": [
       "['Best_HP/10b-60']"
      ]
     },
     "execution_count": 113,
     "metadata": {},
     "output_type": "execute_result"
    }
   ],
   "source": [
    "scaler_filename = \"Best_HP/10b-60\"\n",
    "joblib.dump(best_hp60, scaler_filename) "
   ]
  },
  {
   "cell_type": "code",
   "execution_count": 114,
   "metadata": {},
   "outputs": [],
   "source": [
    "scaler_filename = \"Best_HP/10b-60\"\n",
    "best_hp60 = joblib.load(scaler_filename) \n",
    "\n",
    "model60 = tuner60.hypermodel.build(best_hp60)"
   ]
  },
  {
   "cell_type": "code",
   "execution_count": 115,
   "metadata": {},
   "outputs": [
    {
     "name": "stdout",
     "output_type": "stream",
     "text": [
      "Model: \"model_2\"\n",
      "__________________________________________________________________________________________________\n",
      "Layer (type)                    Output Shape         Param #     Connected to                     \n",
      "==================================================================================================\n",
      "DeepInput (InputLayer)          [(None, 3, 5, 15, 6) 0                                            \n",
      "__________________________________________________________________________________________________\n",
      "WideInput (InputLayer)          [(None, 3, 3, 6)]    0                                            \n",
      "__________________________________________________________________________________________________\n",
      "time_distributed_7 (TimeDistrib (None, 3, 3, 13, 384 21120       DeepInput[0][0]                  \n",
      "__________________________________________________________________________________________________\n",
      "time_distributed_6 (TimeDistrib (None, 3, 18)        0           WideInput[0][0]                  \n",
      "__________________________________________________________________________________________________\n",
      "time_distributed_8 (TimeDistrib (None, 3, 14976)     0           time_distributed_7[0][0]         \n",
      "__________________________________________________________________________________________________\n",
      "bidirectional_2 (Bidirectional) (None, 3, 48)        25728       time_distributed_6[0][0]         \n",
      "__________________________________________________________________________________________________\n",
      "lstm_5 (LSTM)                   (None, 3, 48)        2884800     time_distributed_8[0][0]         \n",
      "__________________________________________________________________________________________________\n",
      "concatenate_2 (Concatenate)     (None, 6, 48)        0           bidirectional_2[0][0]            \n",
      "                                                                 lstm_5[0][0]                     \n",
      "__________________________________________________________________________________________________\n",
      "flatten_8 (Flatten)             (None, 288)          0           concatenate_2[0][0]              \n",
      "__________________________________________________________________________________________________\n",
      "output (Dense)                  (None, 6)            1734        flatten_8[0][0]                  \n",
      "==================================================================================================\n",
      "Total params: 2,933,382\n",
      "Trainable params: 2,933,382\n",
      "Non-trainable params: 0\n",
      "__________________________________________________________________________________________________\n"
     ]
    }
   ],
   "source": [
    "model60.summary()"
   ]
  },
  {
   "cell_type": "code",
   "execution_count": 116,
   "metadata": {},
   "outputs": [
    {
     "name": "stdout",
     "output_type": "stream",
     "text": [
      "Epoch 1/100\n",
      "1231/1231 [==============================] - 45s 33ms/step - loss: 2446.1450 - mean_absolute_error: 31.0834 - root_mean_squared_error: 49.4585 - mean_absolute_percentage_error: 48.3178 - val_loss: 926.9287 - val_mean_absolute_error: 21.4709 - val_root_mean_squared_error: 30.4455 - val_mean_absolute_percentage_error: 31.9039\n",
      "Epoch 2/100\n",
      "1231/1231 [==============================] - 38s 31ms/step - loss: 1098.5526 - mean_absolute_error: 22.2443 - root_mean_squared_error: 33.1444 - mean_absolute_percentage_error: 33.9268 - val_loss: 767.1633 - val_mean_absolute_error: 19.5921 - val_root_mean_squared_error: 27.6977 - val_mean_absolute_percentage_error: 34.6444\n",
      "Epoch 3/100\n",
      "1231/1231 [==============================] - 41s 34ms/step - loss: 1063.3062 - mean_absolute_error: 21.8966 - root_mean_squared_error: 32.6084 - mean_absolute_percentage_error: 32.8344 - val_loss: 802.3794 - val_mean_absolute_error: 19.8606 - val_root_mean_squared_error: 28.3263 - val_mean_absolute_percentage_error: 27.0014\n",
      "Epoch 4/100\n",
      "1231/1231 [==============================] - 39s 32ms/step - loss: 1038.2119 - mean_absolute_error: 21.6821 - root_mean_squared_error: 32.2213 - mean_absolute_percentage_error: 32.3309 - val_loss: 871.9686 - val_mean_absolute_error: 20.6630 - val_root_mean_squared_error: 29.5291 - val_mean_absolute_percentage_error: 26.4011\n",
      "Epoch 5/100\n",
      "1231/1231 [==============================] - 38s 31ms/step - loss: 1028.5958 - mean_absolute_error: 21.6045 - root_mean_squared_error: 32.0717 - mean_absolute_percentage_error: 32.0158 - val_loss: 805.4138 - val_mean_absolute_error: 19.8140 - val_root_mean_squared_error: 28.3798 - val_mean_absolute_percentage_error: 28.3541\n",
      "Epoch 6/100\n",
      "1231/1231 [==============================] - 39s 32ms/step - loss: 1023.1955 - mean_absolute_error: 21.5246 - root_mean_squared_error: 31.9874 - mean_absolute_percentage_error: 31.9662 - val_loss: 743.5982 - val_mean_absolute_error: 18.8855 - val_root_mean_squared_error: 27.2690 - val_mean_absolute_percentage_error: 26.5801\n",
      "Epoch 7/100\n",
      "1231/1231 [==============================] - 39s 31ms/step - loss: 1012.8139 - mean_absolute_error: 21.4160 - root_mean_squared_error: 31.8247 - mean_absolute_percentage_error: 31.8504 - val_loss: 767.7544 - val_mean_absolute_error: 19.2757 - val_root_mean_squared_error: 27.7084 - val_mean_absolute_percentage_error: 28.1696\n",
      "Epoch 8/100\n",
      "1231/1231 [==============================] - 38s 31ms/step - loss: 1008.0220 - mean_absolute_error: 21.3613 - root_mean_squared_error: 31.7494 - mean_absolute_percentage_error: 31.6980 - val_loss: 732.9931 - val_mean_absolute_error: 18.7660 - val_root_mean_squared_error: 27.0738 - val_mean_absolute_percentage_error: 25.8849\n",
      "Epoch 9/100\n",
      "1231/1231 [==============================] - 36s 29ms/step - loss: 1003.4854 - mean_absolute_error: 21.3205 - root_mean_squared_error: 31.6778 - mean_absolute_percentage_error: 31.5951 - val_loss: 748.7310 - val_mean_absolute_error: 18.9973 - val_root_mean_squared_error: 27.3630 - val_mean_absolute_percentage_error: 26.0706\n",
      "Epoch 10/100\n",
      "1231/1231 [==============================] - 38s 31ms/step - loss: 998.0635 - mean_absolute_error: 21.2411 - root_mean_squared_error: 31.5921 - mean_absolute_percentage_error: 31.3548 - val_loss: 751.8507 - val_mean_absolute_error: 18.9580 - val_root_mean_squared_error: 27.4199 - val_mean_absolute_percentage_error: 26.4154\n",
      "Epoch 11/100\n",
      "1231/1231 [==============================] - 38s 31ms/step - loss: 993.7505 - mean_absolute_error: 21.2156 - root_mean_squared_error: 31.5238 - mean_absolute_percentage_error: 31.3593 - val_loss: 796.4410 - val_mean_absolute_error: 19.6398 - val_root_mean_squared_error: 28.2213 - val_mean_absolute_percentage_error: 25.2120\n",
      "Epoch 12/100\n",
      "1231/1231 [==============================] - 36s 30ms/step - loss: 991.2759 - mean_absolute_error: 21.1804 - root_mean_squared_error: 31.4845 - mean_absolute_percentage_error: 31.2193 - val_loss: 731.3217 - val_mean_absolute_error: 18.8266 - val_root_mean_squared_error: 27.0430 - val_mean_absolute_percentage_error: 28.1028\n",
      "Epoch 13/100\n",
      "1231/1231 [==============================] - 37s 30ms/step - loss: 987.5005 - mean_absolute_error: 21.1284 - root_mean_squared_error: 31.4245 - mean_absolute_percentage_error: 31.1540 - val_loss: 802.8141 - val_mean_absolute_error: 19.5016 - val_root_mean_squared_error: 28.3340 - val_mean_absolute_percentage_error: 24.6371\n",
      "Epoch 14/100\n",
      "1231/1231 [==============================] - 37s 30ms/step - loss: 986.3666 - mean_absolute_error: 21.1347 - root_mean_squared_error: 31.4065 - mean_absolute_percentage_error: 31.2254 - val_loss: 840.4286 - val_mean_absolute_error: 20.0692 - val_root_mean_squared_error: 28.9901 - val_mean_absolute_percentage_error: 26.3678\n",
      "Epoch 15/100\n",
      "1231/1231 [==============================] - 38s 31ms/step - loss: 980.9457 - mean_absolute_error: 21.0781 - root_mean_squared_error: 31.3201 - mean_absolute_percentage_error: 31.1254 - val_loss: 751.3364 - val_mean_absolute_error: 19.1695 - val_root_mean_squared_error: 27.4105 - val_mean_absolute_percentage_error: 29.6977\n",
      "Epoch 16/100\n",
      "1231/1231 [==============================] - 40s 32ms/step - loss: 978.4916 - mean_absolute_error: 21.0612 - root_mean_squared_error: 31.2808 - mean_absolute_percentage_error: 31.2460 - val_loss: 753.3842 - val_mean_absolute_error: 19.0028 - val_root_mean_squared_error: 27.4479 - val_mean_absolute_percentage_error: 26.5263\n",
      "Epoch 17/100\n",
      "1231/1231 [==============================] - 50s 41ms/step - loss: 978.8883 - mean_absolute_error: 21.0644 - root_mean_squared_error: 31.2872 - mean_absolute_percentage_error: 31.0641 - val_loss: 768.4220 - val_mean_absolute_error: 19.1929 - val_root_mean_squared_error: 27.7204 - val_mean_absolute_percentage_error: 25.5681\n",
      "Epoch 18/100\n",
      "1231/1231 [==============================] - 48s 39ms/step - loss: 974.6399 - mean_absolute_error: 21.0151 - root_mean_squared_error: 31.2192 - mean_absolute_percentage_error: 30.9715 - val_loss: 822.1680 - val_mean_absolute_error: 20.1701 - val_root_mean_squared_error: 28.6735 - val_mean_absolute_percentage_error: 32.1437\n",
      "Epoch 19/100\n",
      "1231/1231 [==============================] - 47s 39ms/step - loss: 970.3083 - mean_absolute_error: 20.9900 - root_mean_squared_error: 31.1498 - mean_absolute_percentage_error: 31.0119 - val_loss: 875.9989 - val_mean_absolute_error: 20.6914 - val_root_mean_squared_error: 29.5973 - val_mean_absolute_percentage_error: 27.3859\n",
      "Epoch 20/100\n",
      "1231/1231 [==============================] - 48s 39ms/step - loss: 968.4573 - mean_absolute_error: 20.9502 - root_mean_squared_error: 31.1201 - mean_absolute_percentage_error: 30.8330 - val_loss: 721.7693 - val_mean_absolute_error: 18.6670 - val_root_mean_squared_error: 26.8658 - val_mean_absolute_percentage_error: 28.9215\n",
      "Epoch 21/100\n",
      "1231/1231 [==============================] - 48s 39ms/step - loss: 965.7662 - mean_absolute_error: 20.9216 - root_mean_squared_error: 31.0768 - mean_absolute_percentage_error: 30.7436 - val_loss: 737.6683 - val_mean_absolute_error: 18.8299 - val_root_mean_squared_error: 27.1600 - val_mean_absolute_percentage_error: 27.9602\n",
      "Epoch 22/100\n",
      "1231/1231 [==============================] - 48s 39ms/step - loss: 965.2238 - mean_absolute_error: 20.9331 - root_mean_squared_error: 31.0681 - mean_absolute_percentage_error: 30.8509 - val_loss: 724.1897 - val_mean_absolute_error: 18.6767 - val_root_mean_squared_error: 26.9108 - val_mean_absolute_percentage_error: 27.1160\n",
      "Epoch 23/100\n",
      "1231/1231 [==============================] - 49s 40ms/step - loss: 963.6898 - mean_absolute_error: 20.9223 - root_mean_squared_error: 31.0433 - mean_absolute_percentage_error: 30.8900 - val_loss: 770.1599 - val_mean_absolute_error: 19.2863 - val_root_mean_squared_error: 27.7518 - val_mean_absolute_percentage_error: 29.9924\n",
      "Epoch 24/100\n",
      "1231/1231 [==============================] - 48s 39ms/step - loss: 959.5662 - mean_absolute_error: 20.8597 - root_mean_squared_error: 30.9769 - mean_absolute_percentage_error: 30.6620 - val_loss: 770.4568 - val_mean_absolute_error: 19.1798 - val_root_mean_squared_error: 27.7571 - val_mean_absolute_percentage_error: 25.4964\n",
      "Epoch 25/100\n",
      "1231/1231 [==============================] - 35s 28ms/step - loss: 958.7372 - mean_absolute_error: 20.8617 - root_mean_squared_error: 30.9635 - mean_absolute_percentage_error: 30.7325 - val_loss: 767.9589 - val_mean_absolute_error: 19.1228 - val_root_mean_squared_error: 27.7121 - val_mean_absolute_percentage_error: 26.2066\n",
      "Epoch 26/100\n",
      "1231/1231 [==============================] - 27s 22ms/step - loss: 958.3657 - mean_absolute_error: 20.8763 - root_mean_squared_error: 30.9575 - mean_absolute_percentage_error: 30.7339 - val_loss: 725.2032 - val_mean_absolute_error: 18.7590 - val_root_mean_squared_error: 26.9296 - val_mean_absolute_percentage_error: 30.2106\n",
      "Epoch 27/100\n",
      "1231/1231 [==============================] - 31s 25ms/step - loss: 954.5593 - mean_absolute_error: 20.8117 - root_mean_squared_error: 30.8960 - mean_absolute_percentage_error: 30.7078 - val_loss: 871.9117 - val_mean_absolute_error: 20.6055 - val_root_mean_squared_error: 29.5281 - val_mean_absolute_percentage_error: 24.6977\n",
      "Epoch 28/100\n",
      "1231/1231 [==============================] - 34s 28ms/step - loss: 951.8029 - mean_absolute_error: 20.7863 - root_mean_squared_error: 30.8513 - mean_absolute_percentage_error: 30.6311 - val_loss: 767.2004 - val_mean_absolute_error: 19.1870 - val_root_mean_squared_error: 27.6984 - val_mean_absolute_percentage_error: 25.1727\n",
      "Epoch 29/100\n",
      "1231/1231 [==============================] - 40s 32ms/step - loss: 955.5307 - mean_absolute_error: 20.8294 - root_mean_squared_error: 30.9117 - mean_absolute_percentage_error: 30.6723 - val_loss: 760.0227 - val_mean_absolute_error: 19.3092 - val_root_mean_squared_error: 27.5685 - val_mean_absolute_percentage_error: 32.4907\n",
      "Epoch 30/100\n",
      "1231/1231 [==============================] - 49s 40ms/step - loss: 952.4119 - mean_absolute_error: 20.7967 - root_mean_squared_error: 30.8612 - mean_absolute_percentage_error: 30.6211 - val_loss: 750.0186 - val_mean_absolute_error: 18.8719 - val_root_mean_squared_error: 27.3865 - val_mean_absolute_percentage_error: 26.1816\n",
      "Epoch 31/100\n",
      "1231/1231 [==============================] - 49s 40ms/step - loss: 949.3663 - mean_absolute_error: 20.7632 - root_mean_squared_error: 30.8118 - mean_absolute_percentage_error: 30.6299 - val_loss: 774.0171 - val_mean_absolute_error: 19.2489 - val_root_mean_squared_error: 27.8212 - val_mean_absolute_percentage_error: 27.5408\n",
      "Epoch 32/100\n",
      "1231/1231 [==============================] - 38s 31ms/step - loss: 946.0837 - mean_absolute_error: 20.7167 - root_mean_squared_error: 30.7585 - mean_absolute_percentage_error: 30.5310 - val_loss: 724.9200 - val_mean_absolute_error: 18.6422 - val_root_mean_squared_error: 26.9243 - val_mean_absolute_percentage_error: 26.9147\n",
      "Epoch 33/100\n",
      "1231/1231 [==============================] - 26s 21ms/step - loss: 945.3880 - mean_absolute_error: 20.7080 - root_mean_squared_error: 30.7472 - mean_absolute_percentage_error: 30.5241 - val_loss: 753.3261 - val_mean_absolute_error: 18.9827 - val_root_mean_squared_error: 27.4468 - val_mean_absolute_percentage_error: 27.2973\n",
      "Epoch 34/100\n",
      "1231/1231 [==============================] - 26s 21ms/step - loss: 940.6071 - mean_absolute_error: 20.6710 - root_mean_squared_error: 30.6693 - mean_absolute_percentage_error: 30.4104 - val_loss: 839.1232 - val_mean_absolute_error: 19.9356 - val_root_mean_squared_error: 28.9676 - val_mean_absolute_percentage_error: 25.4063\n",
      "Epoch 35/100\n",
      "1231/1231 [==============================] - 26s 21ms/step - loss: 940.8644 - mean_absolute_error: 20.6824 - root_mean_squared_error: 30.6735 - mean_absolute_percentage_error: 30.4439 - val_loss: 827.7705 - val_mean_absolute_error: 19.7702 - val_root_mean_squared_error: 28.7710 - val_mean_absolute_percentage_error: 26.5063\n",
      "Epoch 36/100\n",
      "1231/1231 [==============================] - 47s 38ms/step - loss: 942.8121 - mean_absolute_error: 20.6895 - root_mean_squared_error: 30.7053 - mean_absolute_percentage_error: 30.5021 - val_loss: 793.9094 - val_mean_absolute_error: 19.4067 - val_root_mean_squared_error: 28.1764 - val_mean_absolute_percentage_error: 26.9051\n",
      "Epoch 37/100\n",
      "1231/1231 [==============================] - 48s 39ms/step - loss: 943.7581 - mean_absolute_error: 20.7082 - root_mean_squared_error: 30.7206 - mean_absolute_percentage_error: 30.4903 - val_loss: 811.8878 - val_mean_absolute_error: 19.7237 - val_root_mean_squared_error: 28.4937 - val_mean_absolute_percentage_error: 27.1105\n",
      "Epoch 38/100\n",
      "1231/1231 [==============================] - 49s 40ms/step - loss: 939.4727 - mean_absolute_error: 20.6479 - root_mean_squared_error: 30.6508 - mean_absolute_percentage_error: 30.3881 - val_loss: 746.8737 - val_mean_absolute_error: 18.8814 - val_root_mean_squared_error: 27.3290 - val_mean_absolute_percentage_error: 27.6997\n",
      "Epoch 39/100\n",
      "1231/1231 [==============================] - 48s 39ms/step - loss: 938.8148 - mean_absolute_error: 20.6433 - root_mean_squared_error: 30.6401 - mean_absolute_percentage_error: 30.3784 - val_loss: 738.9122 - val_mean_absolute_error: 18.7892 - val_root_mean_squared_error: 27.1830 - val_mean_absolute_percentage_error: 27.1629\n",
      "Epoch 40/100\n",
      "1231/1231 [==============================] - 47s 38ms/step - loss: 941.5966 - mean_absolute_error: 20.6748 - root_mean_squared_error: 30.6854 - mean_absolute_percentage_error: 30.5413 - val_loss: 877.0013 - val_mean_absolute_error: 20.4536 - val_root_mean_squared_error: 29.6142 - val_mean_absolute_percentage_error: 26.3726\n",
      "Epoch 41/100\n",
      "1231/1231 [==============================] - 38s 31ms/step - loss: 936.6393 - mean_absolute_error: 20.6636 - root_mean_squared_error: 30.6046 - mean_absolute_percentage_error: 30.4386 - val_loss: 780.5162 - val_mean_absolute_error: 19.2542 - val_root_mean_squared_error: 27.9377 - val_mean_absolute_percentage_error: 27.8207\n",
      "Epoch 42/100\n",
      "1231/1231 [==============================] - 35s 28ms/step - loss: 933.6129 - mean_absolute_error: 20.6281 - root_mean_squared_error: 30.5551 - mean_absolute_percentage_error: 30.5391 - val_loss: 773.9412 - val_mean_absolute_error: 19.2086 - val_root_mean_squared_error: 27.8198 - val_mean_absolute_percentage_error: 26.4828\n",
      "Epoch 43/100\n",
      "1231/1231 [==============================] - 35s 28ms/step - loss: 934.7548 - mean_absolute_error: 20.6244 - root_mean_squared_error: 30.5738 - mean_absolute_percentage_error: 30.3820 - val_loss: 818.5305 - val_mean_absolute_error: 19.6743 - val_root_mean_squared_error: 28.6100 - val_mean_absolute_percentage_error: 24.0092\n",
      "Epoch 44/100\n",
      "1231/1231 [==============================] - 34s 27ms/step - loss: 933.0909 - mean_absolute_error: 20.6054 - root_mean_squared_error: 30.5465 - mean_absolute_percentage_error: 30.4171 - val_loss: 759.5602 - val_mean_absolute_error: 19.0070 - val_root_mean_squared_error: 27.5601 - val_mean_absolute_percentage_error: 25.4144\n",
      "Epoch 45/100\n",
      "1231/1231 [==============================] - 34s 27ms/step - loss: 933.6862 - mean_absolute_error: 20.6112 - root_mean_squared_error: 30.5563 - mean_absolute_percentage_error: 30.3573 - val_loss: 769.9706 - val_mean_absolute_error: 19.2066 - val_root_mean_squared_error: 27.7483 - val_mean_absolute_percentage_error: 25.9500\n",
      "Epoch 46/100\n",
      "1231/1231 [==============================] - 34s 28ms/step - loss: 934.1104 - mean_absolute_error: 20.6205 - root_mean_squared_error: 30.5632 - mean_absolute_percentage_error: 30.3151 - val_loss: 779.7803 - val_mean_absolute_error: 19.2572 - val_root_mean_squared_error: 27.9245 - val_mean_absolute_percentage_error: 26.0066\n",
      "Epoch 47/100\n",
      "1231/1231 [==============================] - 34s 27ms/step - loss: 931.8909 - mean_absolute_error: 20.5918 - root_mean_squared_error: 30.5269 - mean_absolute_percentage_error: 30.1100 - val_loss: 768.6082 - val_mean_absolute_error: 19.1970 - val_root_mean_squared_error: 27.7238 - val_mean_absolute_percentage_error: 30.4628\n",
      "Epoch 48/100\n",
      "1231/1231 [==============================] - 35s 28ms/step - loss: 929.5597 - mean_absolute_error: 20.5805 - root_mean_squared_error: 30.4887 - mean_absolute_percentage_error: 30.2677 - val_loss: 776.6241 - val_mean_absolute_error: 19.3083 - val_root_mean_squared_error: 27.8680 - val_mean_absolute_percentage_error: 25.4149\n",
      "Epoch 49/100\n"
     ]
    },
    {
     "name": "stdout",
     "output_type": "stream",
     "text": [
      "1231/1231 [==============================] - 34s 27ms/step - loss: 926.1182 - mean_absolute_error: 20.5109 - root_mean_squared_error: 30.4322 - mean_absolute_percentage_error: 30.0944 - val_loss: 757.5894 - val_mean_absolute_error: 18.9413 - val_root_mean_squared_error: 27.5243 - val_mean_absolute_percentage_error: 24.7894\n",
      "Epoch 50/100\n",
      "1231/1231 [==============================] - 35s 29ms/step - loss: 926.1649 - mean_absolute_error: 20.5115 - root_mean_squared_error: 30.4330 - mean_absolute_percentage_error: 30.0133 - val_loss: 778.1261 - val_mean_absolute_error: 19.2871 - val_root_mean_squared_error: 27.8949 - val_mean_absolute_percentage_error: 27.4402\n",
      "Epoch 51/100\n",
      "1231/1231 [==============================] - 36s 29ms/step - loss: 922.9009 - mean_absolute_error: 20.4817 - root_mean_squared_error: 30.3793 - mean_absolute_percentage_error: 30.0352 - val_loss: 778.8002 - val_mean_absolute_error: 19.3450 - val_root_mean_squared_error: 27.9070 - val_mean_absolute_percentage_error: 26.7130\n",
      "Epoch 52/100\n",
      "1231/1231 [==============================] - 36s 29ms/step - loss: 923.4138 - mean_absolute_error: 20.4951 - root_mean_squared_error: 30.3877 - mean_absolute_percentage_error: 30.1674 - val_loss: 810.3591 - val_mean_absolute_error: 19.6502 - val_root_mean_squared_error: 28.4668 - val_mean_absolute_percentage_error: 25.2805\n",
      "Epoch 53/100\n",
      "1231/1231 [==============================] - 34s 28ms/step - loss: 919.7748 - mean_absolute_error: 20.4660 - root_mean_squared_error: 30.3278 - mean_absolute_percentage_error: 30.1026 - val_loss: 755.3676 - val_mean_absolute_error: 18.9884 - val_root_mean_squared_error: 27.4839 - val_mean_absolute_percentage_error: 27.5859\n",
      "Epoch 54/100\n",
      "1231/1231 [==============================] - 35s 28ms/step - loss: 921.4823 - mean_absolute_error: 20.4926 - root_mean_squared_error: 30.3559 - mean_absolute_percentage_error: 30.1487 - val_loss: 753.2959 - val_mean_absolute_error: 18.8564 - val_root_mean_squared_error: 27.4462 - val_mean_absolute_percentage_error: 25.1609\n",
      "Epoch 55/100\n",
      "1231/1231 [==============================] - 35s 28ms/step - loss: 917.1909 - mean_absolute_error: 20.4326 - root_mean_squared_error: 30.2852 - mean_absolute_percentage_error: 29.7711 - val_loss: 768.9122 - val_mean_absolute_error: 19.1593 - val_root_mean_squared_error: 27.7293 - val_mean_absolute_percentage_error: 26.7449\n",
      "Epoch 56/100\n",
      "1231/1231 [==============================] - 34s 28ms/step - loss: 918.6176 - mean_absolute_error: 20.4318 - root_mean_squared_error: 30.3087 - mean_absolute_percentage_error: 29.9235 - val_loss: 763.1964 - val_mean_absolute_error: 19.0878 - val_root_mean_squared_error: 27.6260 - val_mean_absolute_percentage_error: 28.5275\n",
      "Epoch 57/100\n",
      "1231/1231 [==============================] - 33s 27ms/step - loss: 915.1188 - mean_absolute_error: 20.4375 - root_mean_squared_error: 30.2509 - mean_absolute_percentage_error: 29.9873 - val_loss: 778.7300 - val_mean_absolute_error: 19.2336 - val_root_mean_squared_error: 27.9057 - val_mean_absolute_percentage_error: 25.9404\n",
      "Epoch 58/100\n",
      "1231/1231 [==============================] - 34s 28ms/step - loss: 916.3839 - mean_absolute_error: 20.4280 - root_mean_squared_error: 30.2718 - mean_absolute_percentage_error: 30.0415 - val_loss: 778.7876 - val_mean_absolute_error: 19.2166 - val_root_mean_squared_error: 27.9068 - val_mean_absolute_percentage_error: 24.9375\n",
      "Epoch 59/100\n",
      "1231/1231 [==============================] - 38s 31ms/step - loss: 917.0701 - mean_absolute_error: 20.4341 - root_mean_squared_error: 30.2832 - mean_absolute_percentage_error: 29.9950 - val_loss: 785.5295 - val_mean_absolute_error: 19.2797 - val_root_mean_squared_error: 28.0273 - val_mean_absolute_percentage_error: 24.7401\n",
      "Epoch 60/100\n",
      "1231/1231 [==============================] - 40s 33ms/step - loss: 909.7393 - mean_absolute_error: 20.3813 - root_mean_squared_error: 30.1619 - mean_absolute_percentage_error: 29.7929 - val_loss: 816.4855 - val_mean_absolute_error: 19.7734 - val_root_mean_squared_error: 28.5742 - val_mean_absolute_percentage_error: 27.2580\n",
      "Epoch 61/100\n",
      "1231/1231 [==============================] - 34s 28ms/step - loss: 916.5789 - mean_absolute_error: 20.4325 - root_mean_squared_error: 30.2751 - mean_absolute_percentage_error: 29.8117 - val_loss: 759.8695 - val_mean_absolute_error: 19.0588 - val_root_mean_squared_error: 27.5657 - val_mean_absolute_percentage_error: 26.1208\n",
      "Epoch 62/100\n",
      "1231/1231 [==============================] - 43s 35ms/step - loss: 912.9586 - mean_absolute_error: 20.3586 - root_mean_squared_error: 30.2152 - mean_absolute_percentage_error: 29.7834 - val_loss: 751.2861 - val_mean_absolute_error: 18.8974 - val_root_mean_squared_error: 27.4096 - val_mean_absolute_percentage_error: 26.9908\n",
      "Epoch 63/100\n",
      "1231/1231 [==============================] - 46s 38ms/step - loss: 911.4128 - mean_absolute_error: 20.3702 - root_mean_squared_error: 30.1896 - mean_absolute_percentage_error: 29.9000 - val_loss: 811.8019 - val_mean_absolute_error: 19.6183 - val_root_mean_squared_error: 28.4921 - val_mean_absolute_percentage_error: 26.1127\n",
      "Epoch 64/100\n",
      "1231/1231 [==============================] - 46s 37ms/step - loss: 909.0458 - mean_absolute_error: 20.3487 - root_mean_squared_error: 30.1504 - mean_absolute_percentage_error: 29.6876 - val_loss: 832.0461 - val_mean_absolute_error: 19.9157 - val_root_mean_squared_error: 28.8452 - val_mean_absolute_percentage_error: 27.1103\n",
      "Epoch 65/100\n",
      "1231/1231 [==============================] - 47s 38ms/step - loss: 911.7910 - mean_absolute_error: 20.3833 - root_mean_squared_error: 30.1959 - mean_absolute_percentage_error: 29.8295 - val_loss: 774.7471 - val_mean_absolute_error: 19.2825 - val_root_mean_squared_error: 27.8343 - val_mean_absolute_percentage_error: 24.1064\n",
      "Epoch 66/100\n",
      "1231/1231 [==============================] - 47s 38ms/step - loss: 909.5782 - mean_absolute_error: 20.3545 - root_mean_squared_error: 30.1592 - mean_absolute_percentage_error: 29.7660 - val_loss: 784.7945 - val_mean_absolute_error: 19.2215 - val_root_mean_squared_error: 28.0142 - val_mean_absolute_percentage_error: 24.1117\n",
      "Epoch 67/100\n",
      "1231/1231 [==============================] - 46s 38ms/step - loss: 908.5482 - mean_absolute_error: 20.3375 - root_mean_squared_error: 30.1421 - mean_absolute_percentage_error: 29.8145 - val_loss: 746.8586 - val_mean_absolute_error: 18.7967 - val_root_mean_squared_error: 27.3287 - val_mean_absolute_percentage_error: 25.1655\n",
      "Epoch 68/100\n",
      "1231/1231 [==============================] - 29s 24ms/step - loss: 907.3066 - mean_absolute_error: 20.3117 - root_mean_squared_error: 30.1215 - mean_absolute_percentage_error: 29.6651 - val_loss: 788.2145 - val_mean_absolute_error: 19.2698 - val_root_mean_squared_error: 28.0752 - val_mean_absolute_percentage_error: 24.5134\n",
      "Epoch 69/100\n",
      "1231/1231 [==============================] - 26s 21ms/step - loss: 912.4927 - mean_absolute_error: 20.3978 - root_mean_squared_error: 30.2075 - mean_absolute_percentage_error: 29.8484 - val_loss: 813.7898 - val_mean_absolute_error: 19.7299 - val_root_mean_squared_error: 28.5270 - val_mean_absolute_percentage_error: 24.8465\n",
      "Epoch 70/100\n",
      "1231/1231 [==============================] - 26s 21ms/step - loss: 910.8325 - mean_absolute_error: 20.3690 - root_mean_squared_error: 30.1800 - mean_absolute_percentage_error: 29.7664 - val_loss: 761.2478 - val_mean_absolute_error: 19.0182 - val_root_mean_squared_error: 27.5907 - val_mean_absolute_percentage_error: 27.5261\n",
      "Epoch 71/100\n",
      "1231/1231 [==============================] - 26s 21ms/step - loss: 904.0248 - mean_absolute_error: 20.2844 - root_mean_squared_error: 30.0670 - mean_absolute_percentage_error: 29.6371 - val_loss: 785.9936 - val_mean_absolute_error: 19.2964 - val_root_mean_squared_error: 28.0356 - val_mean_absolute_percentage_error: 25.7276e_e - ETA: 4s - loss: 904.4966 - mean_absolute_error: 20.2695 - roo\n",
      "Epoch 72/100\n",
      "1231/1231 [==============================] - 26s 21ms/step - loss: 904.5607 - mean_absolute_error: 20.3027 - root_mean_squared_error: 30.0759 - mean_absolute_percentage_error: 29.6710 - val_loss: 776.9989 - val_mean_absolute_error: 19.1928 - val_root_mean_squared_error: 27.8747 - val_mean_absolute_percentage_error: 27.5194\n",
      "Epoch 73/100\n",
      "1231/1231 [==============================] - 26s 21ms/step - loss: 900.5367 - mean_absolute_error: 20.2619 - root_mean_squared_error: 30.0090 - mean_absolute_percentage_error: 29.6957 - val_loss: 771.8680 - val_mean_absolute_error: 19.1503 - val_root_mean_squared_error: 27.7825 - val_mean_absolute_percentage_error: 25.0954\n",
      "Epoch 74/100\n",
      "1231/1231 [==============================] - 27s 22ms/step - loss: 901.2905 - mean_absolute_error: 20.2336 - root_mean_squared_error: 30.0215 - mean_absolute_percentage_error: 29.5834 - val_loss: 771.6683 - val_mean_absolute_error: 19.1119 - val_root_mean_squared_error: 27.7789 - val_mean_absolute_percentage_error: 25.9337\n",
      "Epoch 75/100\n",
      "1231/1231 [==============================] - 28s 22ms/step - loss: 906.8214 - mean_absolute_error: 20.3283 - root_mean_squared_error: 30.1135 - mean_absolute_percentage_error: 29.6844 - val_loss: 743.7911 - val_mean_absolute_error: 18.6836 - val_root_mean_squared_error: 27.2725 - val_mean_absolute_percentage_error: 24.9034\n",
      "Epoch 76/100\n",
      "1231/1231 [==============================] - 26s 21ms/step - loss: 904.2907 - mean_absolute_error: 20.2950 - root_mean_squared_error: 30.0714 - mean_absolute_percentage_error: 29.6091 - val_loss: 746.0687 - val_mean_absolute_error: 18.7505 - val_root_mean_squared_error: 27.3143 - val_mean_absolute_percentage_error: 26.3817\n",
      "Epoch 77/100\n",
      "1231/1231 [==============================] - 26s 21ms/step - loss: 899.0826 - mean_absolute_error: 20.2312 - root_mean_squared_error: 29.9847 - mean_absolute_percentage_error: 29.5569 - val_loss: 779.3687 - val_mean_absolute_error: 19.1500 - val_root_mean_squared_error: 27.9172 - val_mean_absolute_percentage_error: 25.4930\n",
      "Epoch 78/100\n",
      "1231/1231 [==============================] - 26s 21ms/step - loss: 905.1944 - mean_absolute_error: 20.2885 - root_mean_squared_error: 30.0865 - mean_absolute_percentage_error: 29.5807 - val_loss: 759.4042 - val_mean_absolute_error: 18.9878 - val_root_mean_squared_error: 27.5573 - val_mean_absolute_percentage_error: 27.9661\n",
      "Epoch 79/100\n",
      "1231/1231 [==============================] - 26s 21ms/step - loss: 897.1304 - mean_absolute_error: 20.2285 - root_mean_squared_error: 29.9521 - mean_absolute_percentage_error: 29.4917 - val_loss: 774.4208 - val_mean_absolute_error: 19.2846 - val_root_mean_squared_error: 27.8284 - val_mean_absolute_percentage_error: 24.3954\n",
      "Epoch 80/100\n",
      "1231/1231 [==============================] - 26s 21ms/step - loss: 898.4698 - mean_absolute_error: 20.2433 - root_mean_squared_error: 29.9745 - mean_absolute_percentage_error: 29.6032 - val_loss: 809.2845 - val_mean_absolute_error: 19.7228 - val_root_mean_squared_error: 28.4479 - val_mean_absolute_percentage_error: 28.4228\n",
      "Epoch 81/100\n",
      "1231/1231 [==============================] - 26s 22ms/step - loss: 892.9497 - mean_absolute_error: 20.1740 - root_mean_squared_error: 29.8823 - mean_absolute_percentage_error: 29.4444 - val_loss: 812.5005 - val_mean_absolute_error: 19.6038 - val_root_mean_squared_error: 28.5044 - val_mean_absolute_percentage_error: 25.3157\n",
      "Epoch 82/100\n",
      "1231/1231 [==============================] - 26s 21ms/step - loss: 897.1577 - mean_absolute_error: 20.2157 - root_mean_squared_error: 29.9526 - mean_absolute_percentage_error: 29.5241 - val_loss: 774.4026 - val_mean_absolute_error: 19.1505 - val_root_mean_squared_error: 27.8281 - val_mean_absolute_percentage_error: 26.4039\n",
      "Epoch 83/100\n",
      "1231/1231 [==============================] - 26s 21ms/step - loss: 900.9072 - mean_absolute_error: 20.2622 - root_mean_squared_error: 30.0151 - mean_absolute_percentage_error: 29.5641 - val_loss: 779.2363 - val_mean_absolute_error: 19.2642 - val_root_mean_squared_error: 27.9148 - val_mean_absolute_percentage_error: 25.0551\n",
      "Epoch 84/100\n",
      "1231/1231 [==============================] - 27s 22ms/step - loss: 904.9167 - mean_absolute_error: 20.3305 - root_mean_squared_error: 30.0818 - mean_absolute_percentage_error: 29.6390 - val_loss: 757.3049 - val_mean_absolute_error: 18.9612 - val_root_mean_squared_error: 27.5192 - val_mean_absolute_percentage_error: 25.6411\n",
      "Epoch 85/100\n",
      "1231/1231 [==============================] - 40s 33ms/step - loss: 895.1703 - mean_absolute_error: 20.1840 - root_mean_squared_error: 29.9194 - mean_absolute_percentage_error: 29.4183 - val_loss: 788.3365 - val_mean_absolute_error: 19.2427 - val_root_mean_squared_error: 28.0773 - val_mean_absolute_percentage_error: 25.3700\n",
      "Epoch 86/100\n",
      "1231/1231 [==============================] - 50s 41ms/step - loss: 896.5214 - mean_absolute_error: 20.2302 - root_mean_squared_error: 29.9420 - mean_absolute_percentage_error: 29.4122 - val_loss: 778.9057 - val_mean_absolute_error: 19.2107 - val_root_mean_squared_error: 27.9089 - val_mean_absolute_percentage_error: 26.3878\n",
      "Epoch 87/100\n",
      "1231/1231 [==============================] - 50s 40ms/step - loss: 893.9183 - mean_absolute_error: 20.1893 - root_mean_squared_error: 29.8985 - mean_absolute_percentage_error: 29.3638 - val_loss: 811.8086 - val_mean_absolute_error: 19.6480 - val_root_mean_squared_error: 28.4923 - val_mean_absolute_percentage_error: 24.9170\n",
      "Epoch 88/100\n",
      "1231/1231 [==============================] - 44s 36ms/step - loss: 888.3963 - mean_absolute_error: 20.1475 - root_mean_squared_error: 29.8060 - mean_absolute_percentage_error: 29.4716 - val_loss: 774.2558 - val_mean_absolute_error: 19.2192 - val_root_mean_squared_error: 27.8255 - val_mean_absolute_percentage_error: 25.4062\n",
      "Epoch 89/100\n",
      "1231/1231 [==============================] - 41s 33ms/step - loss: 894.4918 - mean_absolute_error: 20.1991 - root_mean_squared_error: 29.9080 - mean_absolute_percentage_error: 29.3806 - val_loss: 782.4613 - val_mean_absolute_error: 19.2704 - val_root_mean_squared_error: 27.9725 - val_mean_absolute_percentage_error: 24.9935\n",
      "Epoch 90/100\n",
      "1231/1231 [==============================] - 35s 28ms/step - loss: 891.0247 - mean_absolute_error: 20.1550 - root_mean_squared_error: 29.8500 - mean_absolute_percentage_error: 29.3952 - val_loss: 818.1355 - val_mean_absolute_error: 19.7498 - val_root_mean_squared_error: 28.6031 - val_mean_absolute_percentage_error: 26.4481\n",
      "Epoch 91/100\n",
      "1231/1231 [==============================] - 35s 29ms/step - loss: 899.6196 - mean_absolute_error: 20.2769 - root_mean_squared_error: 29.9937 - mean_absolute_percentage_error: 29.6243 - val_loss: 763.3134 - val_mean_absolute_error: 19.0830 - val_root_mean_squared_error: 27.6281 - val_mean_absolute_percentage_error: 27.6043\n",
      "Epoch 92/100\n",
      "1231/1231 [==============================] - 35s 28ms/step - loss: 890.5993 - mean_absolute_error: 20.1801 - root_mean_squared_error: 29.8429 - mean_absolute_percentage_error: 29.4007 - val_loss: 753.8351 - val_mean_absolute_error: 19.0455 - val_root_mean_squared_error: 27.4561 - val_mean_absolute_percentage_error: 28.5720\n",
      "Epoch 93/100\n",
      "1231/1231 [==============================] - 35s 28ms/step - loss: 887.9555 - mean_absolute_error: 20.1377 - root_mean_squared_error: 29.7986 - mean_absolute_percentage_error: 29.4220 - val_loss: 798.3420 - val_mean_absolute_error: 19.5450 - val_root_mean_squared_error: 28.2549 - val_mean_absolute_percentage_error: 24.5275\n",
      "Epoch 94/100\n",
      "1231/1231 [==============================] - 35s 28ms/step - loss: 893.3126 - mean_absolute_error: 20.2057 - root_mean_squared_error: 29.8884 - mean_absolute_percentage_error: 29.3800 - val_loss: 748.2446 - val_mean_absolute_error: 18.9201 - val_root_mean_squared_error: 27.3541 - val_mean_absolute_percentage_error: 28.6710\n",
      "Epoch 95/100\n",
      "1231/1231 [==============================] - 35s 28ms/step - loss: 886.6127 - mean_absolute_error: 20.1220 - root_mean_squared_error: 29.7760 - mean_absolute_percentage_error: 29.2854 - val_loss: 787.7996 - val_mean_absolute_error: 19.4120 - val_root_mean_squared_error: 28.0678 - val_mean_absolute_percentage_error: 29.5531\n",
      "Epoch 96/100\n",
      "1231/1231 [==============================] - 42s 34ms/step - loss: 888.0200 - mean_absolute_error: 20.1374 - root_mean_squared_error: 29.7997 - mean_absolute_percentage_error: 29.3404 - val_loss: 795.0851 - val_mean_absolute_error: 19.4463 - val_root_mean_squared_error: 28.1972 - val_mean_absolute_percentage_error: 27.3879\n",
      "Epoch 97/100\n"
     ]
    },
    {
     "name": "stdout",
     "output_type": "stream",
     "text": [
      "1231/1231 [==============================] - 48s 39ms/step - loss: 889.0920 - mean_absolute_error: 20.1611 - root_mean_squared_error: 29.8177 - mean_absolute_percentage_error: 29.4535 - val_loss: 808.3287 - val_mean_absolute_error: 19.7394 - val_root_mean_squared_error: 28.4311 - val_mean_absolute_percentage_error: 26.8876\n",
      "Epoch 98/100\n",
      "1231/1231 [==============================] - 46s 37ms/step - loss: 889.2863 - mean_absolute_error: 20.1490 - root_mean_squared_error: 29.8209 - mean_absolute_percentage_error: 29.3650 - val_loss: 785.4474 - val_mean_absolute_error: 19.2720 - val_root_mean_squared_error: 28.0258 - val_mean_absolute_percentage_error: 25.3225\n",
      "Epoch 99/100\n",
      "1231/1231 [==============================] - 46s 37ms/step - loss: 884.2193 - mean_absolute_error: 20.1197 - root_mean_squared_error: 29.7358 - mean_absolute_percentage_error: 29.3827 - val_loss: 773.7996 - val_mean_absolute_error: 19.1036 - val_root_mean_squared_error: 27.8173 - val_mean_absolute_percentage_error: 24.4568\n",
      "Epoch 100/100\n",
      "1231/1231 [==============================] - 49s 40ms/step - loss: 886.3771 - mean_absolute_error: 20.1147 - root_mean_squared_error: 29.7721 - mean_absolute_percentage_error: 29.3803 - val_loss: 779.9633 - val_mean_absolute_error: 19.2959 - val_root_mean_squared_error: 27.9278 - val_mean_absolute_percentage_error: 25.0449\n"
     ]
    },
    {
     "data": {
      "text/plain": [
       "<keras.callbacks.History at 0x1e79e9d7c40>"
      ]
     },
     "execution_count": 116,
     "metadata": {},
     "output_type": "execute_result"
    }
   ],
   "source": [
    "model60.fit((Wt60,Xt60), yt60, validation_split = val_percent,\n",
    "            epochs = 100, \n",
    "            verbose = 1\n",
    "            )"
   ]
  },
  {
   "cell_type": "code",
   "execution_count": 117,
   "metadata": {},
   "outputs": [],
   "source": [
    "metrics60 = pd.DataFrame(model60.history.history)"
   ]
  },
  {
   "cell_type": "code",
   "execution_count": 118,
   "metadata": {},
   "outputs": [],
   "source": [
    "# fig = plt.figure(figsize=(6,4))\n",
    "\n",
    "# # Add set of axes to figure\n",
    "# axes = fig.add_axes([0, 0, 1, 1]) \n",
    "# axes2 = fig.add_axes([0.3, 0.35, 0.5, 0.5]) # Smaller figure\n",
    "# axes.plot(metrics60[['loss','val_loss']], label=['train_loss','val_loss'], lw=4)\n",
    "# axes.set_ylim(0,4000)\n",
    "\n",
    "# axes2.plot(metrics60[['loss','val_loss']], lw=4)\n",
    "# axes2.set_xlim(0,20)\n",
    "# axes2.set_ylim(500,1500)\n",
    "# # plt.xticks(visible=False)\n",
    "# plt.yticks(visible=False)\n",
    "\n",
    "# axes.set_xlabel('Epoch')\n",
    "# axes.set_ylabel('Loss')\n",
    "# axes.grid()\n",
    "# axes2.grid()\n",
    "\n",
    "# mark_inset(axes, axes2, loc1=2, loc2=4, fc=\"0.9\", ec=\"0.1\", ls='--')\n",
    "# axes.yaxis.set_major_formatter(formatter)"
   ]
  },
  {
   "cell_type": "code",
   "execution_count": 119,
   "metadata": {},
   "outputs": [
    {
     "name": "stderr",
     "output_type": "stream",
     "text": [
      "WARNING:absl:Function `_wrapped_model` contains input name(s) WideInput, DeepInput with unsupported characters which will be renamed to wideinput, deepinput in the SavedModel.\n",
      "WARNING:absl:Found untraced functions such as lstm_cell_11_layer_call_fn, lstm_cell_11_layer_call_and_return_conditional_losses, lstm_cell_9_layer_call_fn, lstm_cell_9_layer_call_and_return_conditional_losses, lstm_cell_10_layer_call_fn while saving (showing 5 of 15). These functions will not be directly callable after loading.\n"
     ]
    },
    {
     "name": "stdout",
     "output_type": "stream",
     "text": [
      "INFO:tensorflow:Assets written to: my_dir/10b-60\\assets\n"
     ]
    },
    {
     "name": "stderr",
     "output_type": "stream",
     "text": [
      "INFO:tensorflow:Assets written to: my_dir/10b-60\\assets\n"
     ]
    }
   ],
   "source": [
    "model60.save(\"my_dir/10b-60\")"
   ]
  },
  {
   "cell_type": "code",
   "execution_count": 120,
   "metadata": {},
   "outputs": [],
   "source": [
    "model60 = keras.models.load_model(\"my_dir/10b-60\")"
   ]
  },
  {
   "cell_type": "code",
   "execution_count": 121,
   "metadata": {},
   "outputs": [
    {
     "data": {
      "text/plain": [
       "array([[ 24.29293  ,   9.842206 ,  11.568355 ,  55.090828 ,  28.954958 ,\n",
       "          5.781023 ],\n",
       "       [ 25.346882 ,  11.718152 ,  11.0681715,  53.66239  ,  29.205431 ,\n",
       "          5.7151737],\n",
       "       [ 25.559696 ,  12.088765 ,   9.805598 ,  52.679497 ,  28.630014 ,\n",
       "          5.50506  ],\n",
       "       ...,\n",
       "       [ 41.31996  ,  40.70625  ,  66.87429  , 117.21691  ,  51.308437 ,\n",
       "         27.857714 ],\n",
       "       [ 41.076206 ,  40.33038  ,  63.56648  , 116.12339  ,  52.203403 ,\n",
       "         25.74917  ],\n",
       "       [ 38.7423   ,  36.930073 ,  66.78251  , 120.95646  ,  54.61424  ,\n",
       "         29.705645 ]], dtype=float32)"
      ]
     },
     "execution_count": 121,
     "metadata": {},
     "output_type": "execute_result"
    }
   ],
   "source": [
    "model60.predict((Wv60,Xv60))"
   ]
  },
  {
   "cell_type": "markdown",
   "metadata": {},
   "source": [
    "### Evaluation on inverse_transform"
   ]
  },
  {
   "cell_type": "code",
   "execution_count": null,
   "metadata": {},
   "outputs": [],
   "source": [
    "test_predictions60 = model60.predict((Wv60,Xv60))\n",
    "\n",
    "\n",
    "MSE60 = mean_squared_error(yv60,test_predictions60)\n",
    "\n",
    "MAE60 = mean_absolute_error(yv60,test_predictions60)\n",
    "\n",
    "RMSE60 = np.sqrt(MSE60)\n",
    "\n",
    "MAPE60 = mean_absolute_percentage_error(yv60,test_predictions60)*100\n",
    "\n",
    "eval60 = [MSE60, MAE60, RMSE60, MAPE60]\n",
    "print(eval60)"
   ]
  },
  {
   "cell_type": "code",
   "execution_count": null,
   "metadata": {},
   "outputs": [],
   "source": [
    "GEH, count = ga.GEH(np.asarray(yv60), np.asarray(test_predictions60))\n",
    "GEH60 = count/GEH.size\n",
    "print(GEH60)"
   ]
  },
  {
   "cell_type": "markdown",
   "metadata": {},
   "source": [
    "# RESULTS"
   ]
  },
  {
   "cell_type": "markdown",
   "metadata": {},
   "source": [
    "## General results"
   ]
  },
  {
   "cell_type": "code",
   "execution_count": null,
   "metadata": {},
   "outputs": [],
   "source": [
    "l = ['MSE','MAE','RMSE','MAPE','Horizon']"
   ]
  },
  {
   "cell_type": "code",
   "execution_count": null,
   "metadata": {},
   "outputs": [],
   "source": [
    "eval5.append(5)\n",
    "eval15.append(15)\n",
    "eval30.append(30)\n",
    "eval60.append(60)"
   ]
  },
  {
   "cell_type": "code",
   "execution_count": null,
   "metadata": {},
   "outputs": [],
   "source": [
    "df = pd.DataFrame(np.array([eval5,eval15,eval30,eval60]),columns=l)\n",
    "df.set_index('Horizon')"
   ]
  },
  {
   "cell_type": "markdown",
   "metadata": {},
   "source": [
    "## GEH"
   ]
  },
  {
   "cell_type": "code",
   "execution_count": null,
   "metadata": {},
   "outputs": [],
   "source": [
    "n = [' 5 ',' 15 ',' 30 ',' 60 ']\n",
    "df2 = pd.DataFrame(np.array([[GEH5, GEH15, GEH30, GEH60]]), columns=n)\n",
    "print(df2)"
   ]
  },
  {
   "cell_type": "markdown",
   "metadata": {},
   "source": [
    "## Save Loss"
   ]
  },
  {
   "cell_type": "code",
   "execution_count": 128,
   "metadata": {},
   "outputs": [],
   "source": [
    "# metrics5.to_csv('Loss/8a-5.csv') \n",
    "# metrics15.to_csv('Loss/8a-15.csv') \n",
    "# metrics30.to_csv('Loss/8a-30.csv') \n",
    "# metrics60.to_csv('Loss/8a-60.csv') "
   ]
  }
 ],
 "metadata": {
  "kernelspec": {
   "display_name": "Python 3 (ipykernel)",
   "language": "python",
   "name": "python3"
  },
  "language_info": {
   "codemirror_mode": {
    "name": "ipython",
    "version": 3
   },
   "file_extension": ".py",
   "mimetype": "text/x-python",
   "name": "python",
   "nbconvert_exporter": "python",
   "pygments_lexer": "ipython3",
   "version": "3.11.5"
  }
 },
 "nbformat": 4,
 "nbformat_minor": 4
}
