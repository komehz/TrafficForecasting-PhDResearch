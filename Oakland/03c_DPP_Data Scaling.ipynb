{
 "cells": [
  {
   "cell_type": "code",
   "execution_count": 1,
   "metadata": {},
   "outputs": [],
   "source": [
    "import pandas as pd\n",
    "import numpy as np\n",
    "import matplotlib.pyplot as plt\n",
    "import seaborn as sns"
   ]
  },
  {
   "cell_type": "code",
   "execution_count": 2,
   "metadata": {},
   "outputs": [],
   "source": [
    "# Read saved csv files\n",
    "TrainVal     = pd.read_csv('0TrainVal.csv',index_col=0,parse_dates=True)"
   ]
  },
  {
   "cell_type": "code",
   "execution_count": 3,
   "metadata": {},
   "outputs": [
    {
     "data": {
      "text/html": [
       "<div>\n",
       "<style scoped>\n",
       "    .dataframe tbody tr th:only-of-type {\n",
       "        vertical-align: middle;\n",
       "    }\n",
       "\n",
       "    .dataframe tbody tr th {\n",
       "        vertical-align: top;\n",
       "    }\n",
       "\n",
       "    .dataframe thead th {\n",
       "        text-align: right;\n",
       "    }\n",
       "</style>\n",
       "<table border=\"1\" class=\"dataframe\">\n",
       "  <thead>\n",
       "    <tr style=\"text-align: right;\">\n",
       "      <th></th>\n",
       "      <th>f1</th>\n",
       "      <th>f2</th>\n",
       "      <th>f3</th>\n",
       "      <th>f4</th>\n",
       "      <th>f5</th>\n",
       "      <th>f6</th>\n",
       "    </tr>\n",
       "    <tr>\n",
       "      <th>Timestamp</th>\n",
       "      <th></th>\n",
       "      <th></th>\n",
       "      <th></th>\n",
       "      <th></th>\n",
       "      <th></th>\n",
       "      <th></th>\n",
       "    </tr>\n",
       "  </thead>\n",
       "  <tbody>\n",
       "    <tr>\n",
       "      <th>2017-08-17 00:00:00</th>\n",
       "      <td>46.0</td>\n",
       "      <td>38.0</td>\n",
       "      <td>43.9</td>\n",
       "      <td>121.0</td>\n",
       "      <td>65.0</td>\n",
       "      <td>87.0</td>\n",
       "    </tr>\n",
       "    <tr>\n",
       "      <th>2017-08-17 00:05:00</th>\n",
       "      <td>37.0</td>\n",
       "      <td>37.0</td>\n",
       "      <td>52.9</td>\n",
       "      <td>109.0</td>\n",
       "      <td>60.0</td>\n",
       "      <td>90.0</td>\n",
       "    </tr>\n",
       "    <tr>\n",
       "      <th>2017-08-17 00:10:00</th>\n",
       "      <td>45.0</td>\n",
       "      <td>43.0</td>\n",
       "      <td>39.0</td>\n",
       "      <td>105.0</td>\n",
       "      <td>61.0</td>\n",
       "      <td>87.0</td>\n",
       "    </tr>\n",
       "    <tr>\n",
       "      <th>2017-08-17 00:15:00</th>\n",
       "      <td>38.0</td>\n",
       "      <td>35.0</td>\n",
       "      <td>36.2</td>\n",
       "      <td>109.0</td>\n",
       "      <td>68.0</td>\n",
       "      <td>102.0</td>\n",
       "    </tr>\n",
       "    <tr>\n",
       "      <th>2017-08-17 00:20:00</th>\n",
       "      <td>36.0</td>\n",
       "      <td>30.0</td>\n",
       "      <td>30.0</td>\n",
       "      <td>94.0</td>\n",
       "      <td>61.0</td>\n",
       "      <td>93.0</td>\n",
       "    </tr>\n",
       "    <tr>\n",
       "      <th>...</th>\n",
       "      <td>...</td>\n",
       "      <td>...</td>\n",
       "      <td>...</td>\n",
       "      <td>...</td>\n",
       "      <td>...</td>\n",
       "      <td>...</td>\n",
       "    </tr>\n",
       "    <tr>\n",
       "      <th>2018-03-04 23:35:00</th>\n",
       "      <td>46.0</td>\n",
       "      <td>41.0</td>\n",
       "      <td>70.0</td>\n",
       "      <td>118.0</td>\n",
       "      <td>64.0</td>\n",
       "      <td>52.0</td>\n",
       "    </tr>\n",
       "    <tr>\n",
       "      <th>2018-03-04 23:40:00</th>\n",
       "      <td>39.0</td>\n",
       "      <td>37.0</td>\n",
       "      <td>53.0</td>\n",
       "      <td>93.0</td>\n",
       "      <td>43.0</td>\n",
       "      <td>28.0</td>\n",
       "    </tr>\n",
       "    <tr>\n",
       "      <th>2018-03-04 23:45:00</th>\n",
       "      <td>48.0</td>\n",
       "      <td>54.0</td>\n",
       "      <td>45.0</td>\n",
       "      <td>94.0</td>\n",
       "      <td>39.0</td>\n",
       "      <td>16.0</td>\n",
       "    </tr>\n",
       "    <tr>\n",
       "      <th>2018-03-04 23:50:00</th>\n",
       "      <td>43.0</td>\n",
       "      <td>43.0</td>\n",
       "      <td>57.0</td>\n",
       "      <td>112.0</td>\n",
       "      <td>39.0</td>\n",
       "      <td>11.0</td>\n",
       "    </tr>\n",
       "    <tr>\n",
       "      <th>2018-03-04 23:55:00</th>\n",
       "      <td>46.0</td>\n",
       "      <td>38.0</td>\n",
       "      <td>58.0</td>\n",
       "      <td>98.0</td>\n",
       "      <td>42.0</td>\n",
       "      <td>12.0</td>\n",
       "    </tr>\n",
       "  </tbody>\n",
       "</table>\n",
       "<p>57600 rows × 6 columns</p>\n",
       "</div>"
      ],
      "text/plain": [
       "                       f1    f2    f3     f4    f5     f6\n",
       "Timestamp                                                \n",
       "2017-08-17 00:00:00  46.0  38.0  43.9  121.0  65.0   87.0\n",
       "2017-08-17 00:05:00  37.0  37.0  52.9  109.0  60.0   90.0\n",
       "2017-08-17 00:10:00  45.0  43.0  39.0  105.0  61.0   87.0\n",
       "2017-08-17 00:15:00  38.0  35.0  36.2  109.0  68.0  102.0\n",
       "2017-08-17 00:20:00  36.0  30.0  30.0   94.0  61.0   93.0\n",
       "...                   ...   ...   ...    ...   ...    ...\n",
       "2018-03-04 23:35:00  46.0  41.0  70.0  118.0  64.0   52.0\n",
       "2018-03-04 23:40:00  39.0  37.0  53.0   93.0  43.0   28.0\n",
       "2018-03-04 23:45:00  48.0  54.0  45.0   94.0  39.0   16.0\n",
       "2018-03-04 23:50:00  43.0  43.0  57.0  112.0  39.0   11.0\n",
       "2018-03-04 23:55:00  46.0  38.0  58.0   98.0  42.0   12.0\n",
       "\n",
       "[57600 rows x 6 columns]"
      ]
     },
     "execution_count": 3,
     "metadata": {},
     "output_type": "execute_result"
    }
   ],
   "source": [
    "TrainVal"
   ]
  },
  {
   "cell_type": "markdown",
   "metadata": {},
   "source": [
    "# Split to Training and Test Data"
   ]
  },
  {
   "cell_type": "code",
   "execution_count": 4,
   "metadata": {},
   "outputs": [
    {
     "data": {
      "text/plain": [
       "57600"
      ]
     },
     "execution_count": 4,
     "metadata": {},
     "output_type": "execute_result"
    }
   ],
   "source": [
    "len(TrainVal)"
   ]
  },
  {
   "cell_type": "code",
   "execution_count": 5,
   "metadata": {},
   "outputs": [],
   "source": [
    "final_2weeks = 4032\n",
    "train_end = len(TrainVal) - final_2weeks    "
   ]
  },
  {
   "cell_type": "code",
   "execution_count": 6,
   "metadata": {},
   "outputs": [
    {
     "data": {
      "text/plain": [
       "53568"
      ]
     },
     "execution_count": 6,
     "metadata": {},
     "output_type": "execute_result"
    }
   ],
   "source": [
    "train_end"
   ]
  },
  {
   "cell_type": "code",
   "execution_count": 7,
   "metadata": {},
   "outputs": [],
   "source": [
    "train = TrainVal.iloc[:train_end]      # From 1st element to 53568\n",
    "test = TrainVal.iloc[train_end:]       # From 53568 to end"
   ]
  },
  {
   "cell_type": "code",
   "execution_count": 8,
   "metadata": {},
   "outputs": [
    {
     "data": {
      "text/html": [
       "<div>\n",
       "<style scoped>\n",
       "    .dataframe tbody tr th:only-of-type {\n",
       "        vertical-align: middle;\n",
       "    }\n",
       "\n",
       "    .dataframe tbody tr th {\n",
       "        vertical-align: top;\n",
       "    }\n",
       "\n",
       "    .dataframe thead th {\n",
       "        text-align: right;\n",
       "    }\n",
       "</style>\n",
       "<table border=\"1\" class=\"dataframe\">\n",
       "  <thead>\n",
       "    <tr style=\"text-align: right;\">\n",
       "      <th></th>\n",
       "      <th>f1</th>\n",
       "      <th>f2</th>\n",
       "      <th>f3</th>\n",
       "      <th>f4</th>\n",
       "      <th>f5</th>\n",
       "      <th>f6</th>\n",
       "    </tr>\n",
       "    <tr>\n",
       "      <th>Timestamp</th>\n",
       "      <th></th>\n",
       "      <th></th>\n",
       "      <th></th>\n",
       "      <th></th>\n",
       "      <th></th>\n",
       "      <th></th>\n",
       "    </tr>\n",
       "  </thead>\n",
       "  <tbody>\n",
       "    <tr>\n",
       "      <th>2018-02-18 23:35:00</th>\n",
       "      <td>57.0</td>\n",
       "      <td>59.0</td>\n",
       "      <td>71.0</td>\n",
       "      <td>109.0</td>\n",
       "      <td>38.0</td>\n",
       "      <td>5.0</td>\n",
       "    </tr>\n",
       "    <tr>\n",
       "      <th>2018-02-18 23:40:00</th>\n",
       "      <td>35.0</td>\n",
       "      <td>32.0</td>\n",
       "      <td>74.0</td>\n",
       "      <td>96.0</td>\n",
       "      <td>33.0</td>\n",
       "      <td>31.0</td>\n",
       "    </tr>\n",
       "    <tr>\n",
       "      <th>2018-02-18 23:45:00</th>\n",
       "      <td>43.0</td>\n",
       "      <td>38.0</td>\n",
       "      <td>67.0</td>\n",
       "      <td>121.0</td>\n",
       "      <td>40.0</td>\n",
       "      <td>9.0</td>\n",
       "    </tr>\n",
       "    <tr>\n",
       "      <th>2018-02-18 23:50:00</th>\n",
       "      <td>41.0</td>\n",
       "      <td>40.0</td>\n",
       "      <td>60.0</td>\n",
       "      <td>116.0</td>\n",
       "      <td>44.0</td>\n",
       "      <td>13.0</td>\n",
       "    </tr>\n",
       "    <tr>\n",
       "      <th>2018-02-18 23:55:00</th>\n",
       "      <td>40.0</td>\n",
       "      <td>35.0</td>\n",
       "      <td>57.0</td>\n",
       "      <td>116.0</td>\n",
       "      <td>43.0</td>\n",
       "      <td>5.0</td>\n",
       "    </tr>\n",
       "  </tbody>\n",
       "</table>\n",
       "</div>"
      ],
      "text/plain": [
       "                       f1    f2    f3     f4    f5    f6\n",
       "Timestamp                                               \n",
       "2018-02-18 23:35:00  57.0  59.0  71.0  109.0  38.0   5.0\n",
       "2018-02-18 23:40:00  35.0  32.0  74.0   96.0  33.0  31.0\n",
       "2018-02-18 23:45:00  43.0  38.0  67.0  121.0  40.0   9.0\n",
       "2018-02-18 23:50:00  41.0  40.0  60.0  116.0  44.0  13.0\n",
       "2018-02-18 23:55:00  40.0  35.0  57.0  116.0  43.0   5.0"
      ]
     },
     "execution_count": 8,
     "metadata": {},
     "output_type": "execute_result"
    }
   ],
   "source": [
    "train.tail()"
   ]
  },
  {
   "cell_type": "code",
   "execution_count": 9,
   "metadata": {},
   "outputs": [
    {
     "data": {
      "text/html": [
       "<div>\n",
       "<style scoped>\n",
       "    .dataframe tbody tr th:only-of-type {\n",
       "        vertical-align: middle;\n",
       "    }\n",
       "\n",
       "    .dataframe tbody tr th {\n",
       "        vertical-align: top;\n",
       "    }\n",
       "\n",
       "    .dataframe thead th {\n",
       "        text-align: right;\n",
       "    }\n",
       "</style>\n",
       "<table border=\"1\" class=\"dataframe\">\n",
       "  <thead>\n",
       "    <tr style=\"text-align: right;\">\n",
       "      <th></th>\n",
       "      <th>f1</th>\n",
       "      <th>f2</th>\n",
       "      <th>f3</th>\n",
       "      <th>f4</th>\n",
       "      <th>f5</th>\n",
       "      <th>f6</th>\n",
       "    </tr>\n",
       "    <tr>\n",
       "      <th>Timestamp</th>\n",
       "      <th></th>\n",
       "      <th></th>\n",
       "      <th></th>\n",
       "      <th></th>\n",
       "      <th></th>\n",
       "      <th></th>\n",
       "    </tr>\n",
       "  </thead>\n",
       "  <tbody>\n",
       "    <tr>\n",
       "      <th>2018-02-19 00:00:00</th>\n",
       "      <td>44.0</td>\n",
       "      <td>43.0</td>\n",
       "      <td>57.0</td>\n",
       "      <td>96.0</td>\n",
       "      <td>36.0</td>\n",
       "      <td>5.0</td>\n",
       "    </tr>\n",
       "    <tr>\n",
       "      <th>2018-02-19 00:05:00</th>\n",
       "      <td>37.0</td>\n",
       "      <td>33.0</td>\n",
       "      <td>51.0</td>\n",
       "      <td>81.0</td>\n",
       "      <td>31.0</td>\n",
       "      <td>5.0</td>\n",
       "    </tr>\n",
       "    <tr>\n",
       "      <th>2018-02-19 00:10:00</th>\n",
       "      <td>33.0</td>\n",
       "      <td>37.0</td>\n",
       "      <td>38.0</td>\n",
       "      <td>99.0</td>\n",
       "      <td>39.0</td>\n",
       "      <td>5.0</td>\n",
       "    </tr>\n",
       "    <tr>\n",
       "      <th>2018-02-19 00:15:00</th>\n",
       "      <td>36.0</td>\n",
       "      <td>26.0</td>\n",
       "      <td>42.0</td>\n",
       "      <td>82.0</td>\n",
       "      <td>29.0</td>\n",
       "      <td>5.0</td>\n",
       "    </tr>\n",
       "    <tr>\n",
       "      <th>2018-02-19 00:20:00</th>\n",
       "      <td>40.0</td>\n",
       "      <td>34.0</td>\n",
       "      <td>57.0</td>\n",
       "      <td>110.0</td>\n",
       "      <td>43.0</td>\n",
       "      <td>5.0</td>\n",
       "    </tr>\n",
       "  </tbody>\n",
       "</table>\n",
       "</div>"
      ],
      "text/plain": [
       "                       f1    f2    f3     f4    f5   f6\n",
       "Timestamp                                              \n",
       "2018-02-19 00:00:00  44.0  43.0  57.0   96.0  36.0  5.0\n",
       "2018-02-19 00:05:00  37.0  33.0  51.0   81.0  31.0  5.0\n",
       "2018-02-19 00:10:00  33.0  37.0  38.0   99.0  39.0  5.0\n",
       "2018-02-19 00:15:00  36.0  26.0  42.0   82.0  29.0  5.0\n",
       "2018-02-19 00:20:00  40.0  34.0  57.0  110.0  43.0  5.0"
      ]
     },
     "execution_count": 9,
     "metadata": {},
     "output_type": "execute_result"
    }
   ],
   "source": [
    "test.head()"
   ]
  },
  {
   "cell_type": "code",
   "execution_count": 10,
   "metadata": {},
   "outputs": [
    {
     "data": {
      "text/plain": [
       "DatetimeIndex(['2017-08-17 00:00:00', '2017-08-17 00:05:00',\n",
       "               '2017-08-17 00:10:00', '2017-08-17 00:15:00',\n",
       "               '2017-08-17 00:20:00', '2017-08-17 00:25:00',\n",
       "               '2017-08-17 00:30:00', '2017-08-17 00:35:00',\n",
       "               '2017-08-17 00:40:00', '2017-08-17 00:45:00',\n",
       "               ...\n",
       "               '2018-02-18 23:10:00', '2018-02-18 23:15:00',\n",
       "               '2018-02-18 23:20:00', '2018-02-18 23:25:00',\n",
       "               '2018-02-18 23:30:00', '2018-02-18 23:35:00',\n",
       "               '2018-02-18 23:40:00', '2018-02-18 23:45:00',\n",
       "               '2018-02-18 23:50:00', '2018-02-18 23:55:00'],\n",
       "              dtype='datetime64[ns]', name='Timestamp', length=53568, freq=None)"
      ]
     },
     "execution_count": 10,
     "metadata": {},
     "output_type": "execute_result"
    }
   ],
   "source": [
    "train.index"
   ]
  },
  {
   "cell_type": "markdown",
   "metadata": {},
   "source": [
    "# Feature Scaling"
   ]
  },
  {
   "cell_type": "code",
   "execution_count": 11,
   "metadata": {},
   "outputs": [],
   "source": [
    "# The scaler - for min-max scaling\n",
    "from sklearn.preprocessing import MinMaxScaler"
   ]
  },
  {
   "cell_type": "markdown",
   "metadata": {},
   "source": [
    "The MinMaxScaler from scikit-learn subtracts the minimum value and re-scales the the value range, rendering the variable values between 0 and 1. "
   ]
  },
  {
   "cell_type": "code",
   "execution_count": 12,
   "metadata": {},
   "outputs": [],
   "source": [
    "# set up the scaler\n",
    "scaler = MinMaxScaler()\n",
    "\n",
    "# fit the scaler to the train set, it will learn the parameters\n",
    "scaler.fit(train)\n",
    "\n",
    "# transform train and test sets\n",
    "train_scaled = scaler.transform(train)\n",
    "test_scaled = scaler.transform(test)"
   ]
  },
  {
   "cell_type": "code",
   "execution_count": 13,
   "metadata": {},
   "outputs": [
    {
     "data": {
      "text/plain": [
       "array([252., 342., 495., 628., 373., 357.])"
      ]
     },
     "execution_count": 13,
     "metadata": {},
     "output_type": "execute_result"
    }
   ],
   "source": [
    "# the scaler stores the maximum values of the features, learned from train set\n",
    "scaler.data_max_"
   ]
  },
  {
   "cell_type": "code",
   "execution_count": 14,
   "metadata": {},
   "outputs": [
    {
     "data": {
      "text/plain": [
       "array([ 6.,  1.,  1., 10.,  2.,  2.])"
      ]
     },
     "execution_count": 14,
     "metadata": {},
     "output_type": "execute_result"
    }
   ],
   "source": [
    "# the scaler stores the minimum values of the features, learned from train set\n",
    "scaler.data_min_"
   ]
  },
  {
   "cell_type": "code",
   "execution_count": 15,
   "metadata": {},
   "outputs": [],
   "source": [
    "l = ['f1','f2','f3','f4','f5','f6']"
   ]
  },
  {
   "cell_type": "code",
   "execution_count": 16,
   "metadata": {},
   "outputs": [],
   "source": [
    "train_scaled = pd.DataFrame(train_scaled, columns=l)\n",
    "test_scaled = pd.DataFrame(test_scaled, columns=l)"
   ]
  },
  {
   "cell_type": "code",
   "execution_count": 17,
   "metadata": {},
   "outputs": [],
   "source": [
    "train_scaled.set_index(train.index,  inplace=True);\n",
    "test_scaled.set_index(test.index,  inplace=True);"
   ]
  },
  {
   "cell_type": "code",
   "execution_count": 18,
   "metadata": {},
   "outputs": [
    {
     "data": {
      "text/plain": [
       "DatetimeIndex(['2017-08-17 00:00:00', '2017-08-17 00:05:00',\n",
       "               '2017-08-17 00:10:00', '2017-08-17 00:15:00',\n",
       "               '2017-08-17 00:20:00', '2017-08-17 00:25:00',\n",
       "               '2017-08-17 00:30:00', '2017-08-17 00:35:00',\n",
       "               '2017-08-17 00:40:00', '2017-08-17 00:45:00',\n",
       "               ...\n",
       "               '2018-02-18 23:10:00', '2018-02-18 23:15:00',\n",
       "               '2018-02-18 23:20:00', '2018-02-18 23:25:00',\n",
       "               '2018-02-18 23:30:00', '2018-02-18 23:35:00',\n",
       "               '2018-02-18 23:40:00', '2018-02-18 23:45:00',\n",
       "               '2018-02-18 23:50:00', '2018-02-18 23:55:00'],\n",
       "              dtype='datetime64[ns]', name='Timestamp', length=53568, freq=None)"
      ]
     },
     "execution_count": 18,
     "metadata": {},
     "output_type": "execute_result"
    }
   ],
   "source": [
    "train.index"
   ]
  },
  {
   "cell_type": "code",
   "execution_count": 19,
   "metadata": {},
   "outputs": [
    {
     "data": {
      "text/html": [
       "<div>\n",
       "<style scoped>\n",
       "    .dataframe tbody tr th:only-of-type {\n",
       "        vertical-align: middle;\n",
       "    }\n",
       "\n",
       "    .dataframe tbody tr th {\n",
       "        vertical-align: top;\n",
       "    }\n",
       "\n",
       "    .dataframe thead th {\n",
       "        text-align: right;\n",
       "    }\n",
       "</style>\n",
       "<table border=\"1\" class=\"dataframe\">\n",
       "  <thead>\n",
       "    <tr style=\"text-align: right;\">\n",
       "      <th></th>\n",
       "      <th>f1</th>\n",
       "      <th>f2</th>\n",
       "      <th>f3</th>\n",
       "      <th>f4</th>\n",
       "      <th>f5</th>\n",
       "      <th>f6</th>\n",
       "    </tr>\n",
       "    <tr>\n",
       "      <th>Timestamp</th>\n",
       "      <th></th>\n",
       "      <th></th>\n",
       "      <th></th>\n",
       "      <th></th>\n",
       "      <th></th>\n",
       "      <th></th>\n",
       "    </tr>\n",
       "  </thead>\n",
       "  <tbody>\n",
       "    <tr>\n",
       "      <th>2017-08-17 00:00:00</th>\n",
       "      <td>0.162602</td>\n",
       "      <td>0.108504</td>\n",
       "      <td>0.086842</td>\n",
       "      <td>0.179612</td>\n",
       "      <td>0.169811</td>\n",
       "      <td>0.239437</td>\n",
       "    </tr>\n",
       "    <tr>\n",
       "      <th>2017-08-17 00:05:00</th>\n",
       "      <td>0.126016</td>\n",
       "      <td>0.105572</td>\n",
       "      <td>0.105061</td>\n",
       "      <td>0.160194</td>\n",
       "      <td>0.156334</td>\n",
       "      <td>0.247887</td>\n",
       "    </tr>\n",
       "    <tr>\n",
       "      <th>2017-08-17 00:10:00</th>\n",
       "      <td>0.158537</td>\n",
       "      <td>0.123167</td>\n",
       "      <td>0.076923</td>\n",
       "      <td>0.153722</td>\n",
       "      <td>0.159030</td>\n",
       "      <td>0.239437</td>\n",
       "    </tr>\n",
       "    <tr>\n",
       "      <th>2017-08-17 00:15:00</th>\n",
       "      <td>0.130081</td>\n",
       "      <td>0.099707</td>\n",
       "      <td>0.071255</td>\n",
       "      <td>0.160194</td>\n",
       "      <td>0.177898</td>\n",
       "      <td>0.281690</td>\n",
       "    </tr>\n",
       "    <tr>\n",
       "      <th>2017-08-17 00:20:00</th>\n",
       "      <td>0.121951</td>\n",
       "      <td>0.085044</td>\n",
       "      <td>0.058704</td>\n",
       "      <td>0.135922</td>\n",
       "      <td>0.159030</td>\n",
       "      <td>0.256338</td>\n",
       "    </tr>\n",
       "    <tr>\n",
       "      <th>...</th>\n",
       "      <td>...</td>\n",
       "      <td>...</td>\n",
       "      <td>...</td>\n",
       "      <td>...</td>\n",
       "      <td>...</td>\n",
       "      <td>...</td>\n",
       "    </tr>\n",
       "    <tr>\n",
       "      <th>2018-02-18 23:35:00</th>\n",
       "      <td>0.207317</td>\n",
       "      <td>0.170088</td>\n",
       "      <td>0.141700</td>\n",
       "      <td>0.160194</td>\n",
       "      <td>0.097035</td>\n",
       "      <td>0.008451</td>\n",
       "    </tr>\n",
       "    <tr>\n",
       "      <th>2018-02-18 23:40:00</th>\n",
       "      <td>0.117886</td>\n",
       "      <td>0.090909</td>\n",
       "      <td>0.147773</td>\n",
       "      <td>0.139159</td>\n",
       "      <td>0.083558</td>\n",
       "      <td>0.081690</td>\n",
       "    </tr>\n",
       "    <tr>\n",
       "      <th>2018-02-18 23:45:00</th>\n",
       "      <td>0.150407</td>\n",
       "      <td>0.108504</td>\n",
       "      <td>0.133603</td>\n",
       "      <td>0.179612</td>\n",
       "      <td>0.102426</td>\n",
       "      <td>0.019718</td>\n",
       "    </tr>\n",
       "    <tr>\n",
       "      <th>2018-02-18 23:50:00</th>\n",
       "      <td>0.142276</td>\n",
       "      <td>0.114370</td>\n",
       "      <td>0.119433</td>\n",
       "      <td>0.171521</td>\n",
       "      <td>0.113208</td>\n",
       "      <td>0.030986</td>\n",
       "    </tr>\n",
       "    <tr>\n",
       "      <th>2018-02-18 23:55:00</th>\n",
       "      <td>0.138211</td>\n",
       "      <td>0.099707</td>\n",
       "      <td>0.113360</td>\n",
       "      <td>0.171521</td>\n",
       "      <td>0.110512</td>\n",
       "      <td>0.008451</td>\n",
       "    </tr>\n",
       "  </tbody>\n",
       "</table>\n",
       "<p>53568 rows × 6 columns</p>\n",
       "</div>"
      ],
      "text/plain": [
       "                           f1        f2        f3        f4        f5  \\\n",
       "Timestamp                                                               \n",
       "2017-08-17 00:00:00  0.162602  0.108504  0.086842  0.179612  0.169811   \n",
       "2017-08-17 00:05:00  0.126016  0.105572  0.105061  0.160194  0.156334   \n",
       "2017-08-17 00:10:00  0.158537  0.123167  0.076923  0.153722  0.159030   \n",
       "2017-08-17 00:15:00  0.130081  0.099707  0.071255  0.160194  0.177898   \n",
       "2017-08-17 00:20:00  0.121951  0.085044  0.058704  0.135922  0.159030   \n",
       "...                       ...       ...       ...       ...       ...   \n",
       "2018-02-18 23:35:00  0.207317  0.170088  0.141700  0.160194  0.097035   \n",
       "2018-02-18 23:40:00  0.117886  0.090909  0.147773  0.139159  0.083558   \n",
       "2018-02-18 23:45:00  0.150407  0.108504  0.133603  0.179612  0.102426   \n",
       "2018-02-18 23:50:00  0.142276  0.114370  0.119433  0.171521  0.113208   \n",
       "2018-02-18 23:55:00  0.138211  0.099707  0.113360  0.171521  0.110512   \n",
       "\n",
       "                           f6  \n",
       "Timestamp                      \n",
       "2017-08-17 00:00:00  0.239437  \n",
       "2017-08-17 00:05:00  0.247887  \n",
       "2017-08-17 00:10:00  0.239437  \n",
       "2017-08-17 00:15:00  0.281690  \n",
       "2017-08-17 00:20:00  0.256338  \n",
       "...                       ...  \n",
       "2018-02-18 23:35:00  0.008451  \n",
       "2018-02-18 23:40:00  0.081690  \n",
       "2018-02-18 23:45:00  0.019718  \n",
       "2018-02-18 23:50:00  0.030986  \n",
       "2018-02-18 23:55:00  0.008451  \n",
       "\n",
       "[53568 rows x 6 columns]"
      ]
     },
     "execution_count": 19,
     "metadata": {},
     "output_type": "execute_result"
    }
   ],
   "source": [
    "train_scaled"
   ]
  },
  {
   "cell_type": "code",
   "execution_count": 20,
   "metadata": {},
   "outputs": [
    {
     "data": {
      "text/html": [
       "<div>\n",
       "<style scoped>\n",
       "    .dataframe tbody tr th:only-of-type {\n",
       "        vertical-align: middle;\n",
       "    }\n",
       "\n",
       "    .dataframe tbody tr th {\n",
       "        vertical-align: top;\n",
       "    }\n",
       "\n",
       "    .dataframe thead th {\n",
       "        text-align: right;\n",
       "    }\n",
       "</style>\n",
       "<table border=\"1\" class=\"dataframe\">\n",
       "  <thead>\n",
       "    <tr style=\"text-align: right;\">\n",
       "      <th></th>\n",
       "      <th>f1</th>\n",
       "      <th>f2</th>\n",
       "      <th>f3</th>\n",
       "      <th>f4</th>\n",
       "      <th>f5</th>\n",
       "      <th>f6</th>\n",
       "    </tr>\n",
       "    <tr>\n",
       "      <th>Timestamp</th>\n",
       "      <th></th>\n",
       "      <th></th>\n",
       "      <th></th>\n",
       "      <th></th>\n",
       "      <th></th>\n",
       "      <th></th>\n",
       "    </tr>\n",
       "  </thead>\n",
       "  <tbody>\n",
       "    <tr>\n",
       "      <th>2018-02-19 00:00:00</th>\n",
       "      <td>0.154472</td>\n",
       "      <td>0.123167</td>\n",
       "      <td>0.113360</td>\n",
       "      <td>0.139159</td>\n",
       "      <td>0.091644</td>\n",
       "      <td>0.008451</td>\n",
       "    </tr>\n",
       "    <tr>\n",
       "      <th>2018-02-19 00:05:00</th>\n",
       "      <td>0.126016</td>\n",
       "      <td>0.093842</td>\n",
       "      <td>0.101215</td>\n",
       "      <td>0.114887</td>\n",
       "      <td>0.078167</td>\n",
       "      <td>0.008451</td>\n",
       "    </tr>\n",
       "    <tr>\n",
       "      <th>2018-02-19 00:10:00</th>\n",
       "      <td>0.109756</td>\n",
       "      <td>0.105572</td>\n",
       "      <td>0.074899</td>\n",
       "      <td>0.144013</td>\n",
       "      <td>0.099730</td>\n",
       "      <td>0.008451</td>\n",
       "    </tr>\n",
       "    <tr>\n",
       "      <th>2018-02-19 00:15:00</th>\n",
       "      <td>0.121951</td>\n",
       "      <td>0.073314</td>\n",
       "      <td>0.082996</td>\n",
       "      <td>0.116505</td>\n",
       "      <td>0.072776</td>\n",
       "      <td>0.008451</td>\n",
       "    </tr>\n",
       "    <tr>\n",
       "      <th>2018-02-19 00:20:00</th>\n",
       "      <td>0.138211</td>\n",
       "      <td>0.096774</td>\n",
       "      <td>0.113360</td>\n",
       "      <td>0.161812</td>\n",
       "      <td>0.110512</td>\n",
       "      <td>0.008451</td>\n",
       "    </tr>\n",
       "    <tr>\n",
       "      <th>...</th>\n",
       "      <td>...</td>\n",
       "      <td>...</td>\n",
       "      <td>...</td>\n",
       "      <td>...</td>\n",
       "      <td>...</td>\n",
       "      <td>...</td>\n",
       "    </tr>\n",
       "    <tr>\n",
       "      <th>2018-03-04 23:35:00</th>\n",
       "      <td>0.162602</td>\n",
       "      <td>0.117302</td>\n",
       "      <td>0.139676</td>\n",
       "      <td>0.174757</td>\n",
       "      <td>0.167116</td>\n",
       "      <td>0.140845</td>\n",
       "    </tr>\n",
       "    <tr>\n",
       "      <th>2018-03-04 23:40:00</th>\n",
       "      <td>0.134146</td>\n",
       "      <td>0.105572</td>\n",
       "      <td>0.105263</td>\n",
       "      <td>0.134304</td>\n",
       "      <td>0.110512</td>\n",
       "      <td>0.073239</td>\n",
       "    </tr>\n",
       "    <tr>\n",
       "      <th>2018-03-04 23:45:00</th>\n",
       "      <td>0.170732</td>\n",
       "      <td>0.155425</td>\n",
       "      <td>0.089069</td>\n",
       "      <td>0.135922</td>\n",
       "      <td>0.099730</td>\n",
       "      <td>0.039437</td>\n",
       "    </tr>\n",
       "    <tr>\n",
       "      <th>2018-03-04 23:50:00</th>\n",
       "      <td>0.150407</td>\n",
       "      <td>0.123167</td>\n",
       "      <td>0.113360</td>\n",
       "      <td>0.165049</td>\n",
       "      <td>0.099730</td>\n",
       "      <td>0.025352</td>\n",
       "    </tr>\n",
       "    <tr>\n",
       "      <th>2018-03-04 23:55:00</th>\n",
       "      <td>0.162602</td>\n",
       "      <td>0.108504</td>\n",
       "      <td>0.115385</td>\n",
       "      <td>0.142395</td>\n",
       "      <td>0.107817</td>\n",
       "      <td>0.028169</td>\n",
       "    </tr>\n",
       "  </tbody>\n",
       "</table>\n",
       "<p>4032 rows × 6 columns</p>\n",
       "</div>"
      ],
      "text/plain": [
       "                           f1        f2        f3        f4        f5  \\\n",
       "Timestamp                                                               \n",
       "2018-02-19 00:00:00  0.154472  0.123167  0.113360  0.139159  0.091644   \n",
       "2018-02-19 00:05:00  0.126016  0.093842  0.101215  0.114887  0.078167   \n",
       "2018-02-19 00:10:00  0.109756  0.105572  0.074899  0.144013  0.099730   \n",
       "2018-02-19 00:15:00  0.121951  0.073314  0.082996  0.116505  0.072776   \n",
       "2018-02-19 00:20:00  0.138211  0.096774  0.113360  0.161812  0.110512   \n",
       "...                       ...       ...       ...       ...       ...   \n",
       "2018-03-04 23:35:00  0.162602  0.117302  0.139676  0.174757  0.167116   \n",
       "2018-03-04 23:40:00  0.134146  0.105572  0.105263  0.134304  0.110512   \n",
       "2018-03-04 23:45:00  0.170732  0.155425  0.089069  0.135922  0.099730   \n",
       "2018-03-04 23:50:00  0.150407  0.123167  0.113360  0.165049  0.099730   \n",
       "2018-03-04 23:55:00  0.162602  0.108504  0.115385  0.142395  0.107817   \n",
       "\n",
       "                           f6  \n",
       "Timestamp                      \n",
       "2018-02-19 00:00:00  0.008451  \n",
       "2018-02-19 00:05:00  0.008451  \n",
       "2018-02-19 00:10:00  0.008451  \n",
       "2018-02-19 00:15:00  0.008451  \n",
       "2018-02-19 00:20:00  0.008451  \n",
       "...                       ...  \n",
       "2018-03-04 23:35:00  0.140845  \n",
       "2018-03-04 23:40:00  0.073239  \n",
       "2018-03-04 23:45:00  0.039437  \n",
       "2018-03-04 23:50:00  0.025352  \n",
       "2018-03-04 23:55:00  0.028169  \n",
       "\n",
       "[4032 rows x 6 columns]"
      ]
     },
     "execution_count": 20,
     "metadata": {},
     "output_type": "execute_result"
    }
   ],
   "source": [
    "test_scaled"
   ]
  },
  {
   "cell_type": "code",
   "execution_count": 21,
   "metadata": {},
   "outputs": [
    {
     "data": {
      "text/plain": [
       "pandas.core.indexes.datetimes.DatetimeIndex"
      ]
     },
     "execution_count": 21,
     "metadata": {},
     "output_type": "execute_result"
    }
   ],
   "source": [
    "type(test_scaled.index)"
   ]
  },
  {
   "cell_type": "markdown",
   "metadata": {},
   "source": [
    "# Save Data and Scaler"
   ]
  },
  {
   "cell_type": "code",
   "execution_count": 22,
   "metadata": {},
   "outputs": [],
   "source": [
    "import joblib"
   ]
  },
  {
   "cell_type": "code",
   "execution_count": 23,
   "metadata": {},
   "outputs": [
    {
     "data": {
      "text/plain": [
       "['scaler.save']"
      ]
     },
     "execution_count": 23,
     "metadata": {},
     "output_type": "execute_result"
    }
   ],
   "source": [
    "scaler_filename = \"scaler.save\"\n",
    "joblib.dump(scaler, scaler_filename) "
   ]
  },
  {
   "cell_type": "code",
   "execution_count": 24,
   "metadata": {},
   "outputs": [],
   "source": [
    "train.to_csv('01train.csv')\n",
    "test.to_csv('01test.csv')"
   ]
  },
  {
   "cell_type": "code",
   "execution_count": 25,
   "metadata": {},
   "outputs": [],
   "source": [
    "train_scaled.to_csv('01train_scaled.csv')\n",
    "test_scaled.to_csv('01test_scaled.csv')"
   ]
  }
 ],
 "metadata": {
  "kernelspec": {
   "display_name": "Python 3 (ipykernel)",
   "language": "python",
   "name": "python3"
  },
  "language_info": {
   "codemirror_mode": {
    "name": "ipython",
    "version": 3
   },
   "file_extension": ".py",
   "mimetype": "text/x-python",
   "name": "python",
   "nbconvert_exporter": "python",
   "pygments_lexer": "ipython3",
   "version": "3.11.5"
  }
 },
 "nbformat": 4,
 "nbformat_minor": 4
}
