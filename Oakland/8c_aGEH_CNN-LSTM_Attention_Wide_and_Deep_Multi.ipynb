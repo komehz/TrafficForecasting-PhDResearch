{
 "cells": [
  {
   "cell_type": "code",
   "execution_count": 1,
   "metadata": {},
   "outputs": [],
   "source": [
    "import pandas as pd\n",
    "import numpy as np\n",
    "import matplotlib.pyplot as plt\n",
    "import seaborn as sns\n",
    "import joblib\n",
    "import os"
   ]
  },
  {
   "cell_type": "code",
   "execution_count": 2,
   "metadata": {},
   "outputs": [],
   "source": [
    "import keras_tuner as kt\n",
    "from keras_tuner import RandomSearch\n",
    "from GEH_LOSS import custom_loss\n",
    "import geh as ga"
   ]
  },
  {
   "cell_type": "code",
   "execution_count": 3,
   "metadata": {},
   "outputs": [],
   "source": [
    "from sklearn.metrics import mean_absolute_error,mean_squared_error,mean_absolute_percentage_error"
   ]
  },
  {
   "cell_type": "code",
   "execution_count": 4,
   "metadata": {},
   "outputs": [],
   "source": [
    "import relative_accuracy as ra"
   ]
  },
  {
   "cell_type": "code",
   "execution_count": 5,
   "metadata": {},
   "outputs": [],
   "source": [
    "# Load all Inputs and Output Data\n",
    "\n",
    "# 5 mins (1 step ahead)\n",
    "Deep_train_5   = np.load(\"Deep_train_5_multi.npz\")['x'] \n",
    "Output_train_5 = np.load(\"Deep_train_5_multi.npz\")['y']\n",
    "\n",
    "Deep_test_5   = np.load(\"Deep_test_5_multi.npz\")['x'] \n",
    "Output_test_5 = np.load(\"Deep_test_5_multi.npz\")['y'] \n",
    "\n",
    "# 15 mins (3 steps ahead)\n",
    "Deep_train_15   = np.load(\"Deep_train_15_multi.npz\")['x'] \n",
    "Output_train_15 = np.load(\"Deep_train_15_multi.npz\")['y']\n",
    "\n",
    "Deep_test_15   = np.load(\"Deep_test_15_multi.npz\")['x'] \n",
    "Output_test_15 = np.load(\"Deep_test_15_multi.npz\")['y']\n",
    "\n",
    "# 30 mins (6 steps ahead)\n",
    "Deep_train_30   = np.load(\"Deep_train_30_multi.npz\")['x'] \n",
    "Output_train_30 = np.load(\"Deep_train_30_multi.npz\")['y']\n",
    "\n",
    "Deep_test_30   = np.load(\"Deep_test_30_multi.npz\")['x'] \n",
    "Output_test_30 = np.load(\"Deep_test_30_multi.npz\")['y']\n",
    "\n",
    "# 60 mins (12 steps ahead)\n",
    "Deep_train_60   = np.load(\"Deep_train_60_multi.npz\")['x'] \n",
    "Output_train_60 = np.load(\"Deep_train_60_multi.npz\")['y']\n",
    "\n",
    "Deep_test_60   = np.load(\"Deep_test_60_multi.npz\")['x'] \n",
    "Output_test_60 = np.load(\"Deep_test_60_multi.npz\")['y']"
   ]
  },
  {
   "cell_type": "code",
   "execution_count": 6,
   "metadata": {},
   "outputs": [],
   "source": [
    "# Wide Data\n",
    "Xtrain = joblib.load(\"002weeks_train_Multi.save\") \n",
    "Xtest = joblib.load(\"002weeks_test_Multi.save\") "
   ]
  },
  {
   "cell_type": "code",
   "execution_count": 7,
   "metadata": {},
   "outputs": [],
   "source": [
    "# 5 mins\n",
    "# Delete first 15 samples\n",
    "Wide_train_5 = np.delete(Xtrain, np.s_[0:15], 0)\n",
    "Wide_test_5 = np.delete(Xtest, np.s_[0:15], 0)"
   ]
  },
  {
   "cell_type": "code",
   "execution_count": 8,
   "metadata": {},
   "outputs": [],
   "source": [
    "# 15 mins\n",
    "# Delete first 17 samples\n",
    "Wide_train_15 = np.delete(Xtrain, np.s_[0:17], 0)\n",
    "Wide_test_15 = np.delete(Xtest, np.s_[0:17], 0)"
   ]
  },
  {
   "cell_type": "code",
   "execution_count": 9,
   "metadata": {},
   "outputs": [],
   "source": [
    "# 30 mins\n",
    "# Delete first 20 samples\n",
    "Wide_train_30 = np.delete(Xtrain, np.s_[0:20], 0)\n",
    "Wide_test_30 = np.delete(Xtest, np.s_[0:20], 0)"
   ]
  },
  {
   "cell_type": "code",
   "execution_count": 10,
   "metadata": {},
   "outputs": [],
   "source": [
    "# 60 mins\n",
    "# Delete first 27 samples\n",
    "Wide_train_60 = np.delete(Xtrain, np.s_[0:26], 0)\n",
    "Wide_test_60 = np.delete(Xtest, np.s_[0:26], 0)"
   ]
  },
  {
   "cell_type": "code",
   "execution_count": 11,
   "metadata": {},
   "outputs": [],
   "source": [
    "scaler_filename = \"scaler.save\"\n",
    "scaler = joblib.load(scaler_filename) "
   ]
  },
  {
   "cell_type": "code",
   "execution_count": 12,
   "metadata": {},
   "outputs": [],
   "source": [
    "Test      = pd.read_csv('01test_scaled.csv', index_col=None, parse_dates=[0])"
   ]
  },
  {
   "cell_type": "markdown",
   "metadata": {},
   "source": [
    "# Reshape Samples"
   ]
  },
  {
   "cell_type": "markdown",
   "metadata": {},
   "source": [
    "The first step is to split the input sequences into subsequences that can be processed by the CNN model. Here, each spatio-temporal sample can be split into three sub-samples, each with five time steps. The CNN can interpret each subsequence of five time steps and provide a time series of interpretations of the subsequences to the LSTM model to process as input."
   ]
  },
  {
   "cell_type": "code",
   "execution_count": 13,
   "metadata": {},
   "outputs": [],
   "source": [
    "# reshape from [samples, timesteps] into [samples, subsequences, timesteps, features]\n",
    "n_features = 6                # No of loop detectors\n",
    "n_seq = 3                     # Subsequences\n",
    "n_steps = 5                   # time-step per subsequence\n",
    "# val_percent = 0.07567       # 2 weeks\n",
    "val_percent = 0.2        \n",
    "batch_size = 32\n",
    "\n",
    "n_seq_ = 3                     # Subsequences\n",
    "n_steps_ = 3                   # time-step per subsequence"
   ]
  },
  {
   "cell_type": "markdown",
   "metadata": {},
   "source": [
    "#### 5 mins"
   ]
  },
  {
   "cell_type": "code",
   "execution_count": 14,
   "metadata": {},
   "outputs": [],
   "source": [
    "# Train\n",
    "# reshape from [samples, timesteps] into [samples, subsequences, timesteps, features]\n",
    "Xt5 = Deep_train_5.reshape((Deep_train_5.shape[0], n_seq, n_steps, n_features))\n",
    "yt5 = scaler.inverse_transform(Output_train_5)"
   ]
  },
  {
   "cell_type": "code",
   "execution_count": 15,
   "metadata": {},
   "outputs": [],
   "source": [
    "# Test\n",
    "# reshape from [samples, timesteps] into [samples, subsequences, timesteps, features]\n",
    "Xv5 = Deep_test_5.reshape((Deep_test_5.shape[0], n_seq, n_steps, n_features))\n",
    "yv5 = scaler.inverse_transform(Output_test_5)"
   ]
  },
  {
   "cell_type": "markdown",
   "metadata": {},
   "source": [
    "#### 15 mins"
   ]
  },
  {
   "cell_type": "code",
   "execution_count": 16,
   "metadata": {},
   "outputs": [],
   "source": [
    "# Train\n",
    "# reshape from [samples, timesteps] into [samples, subsequences, timesteps, features]\n",
    "Xt15 = Deep_train_15.reshape((Deep_train_15.shape[0], n_seq, n_steps, n_features))\n",
    "yt15 = scaler.inverse_transform(Output_train_15)"
   ]
  },
  {
   "cell_type": "code",
   "execution_count": 17,
   "metadata": {},
   "outputs": [],
   "source": [
    "# Test\n",
    "# reshape from [samples, timesteps] into [samples, subsequences, timesteps, features]\n",
    "Xv15 = Deep_test_15.reshape((Deep_test_15.shape[0], n_seq, n_steps, n_features))\n",
    "yv15 = scaler.inverse_transform(Output_test_15)"
   ]
  },
  {
   "cell_type": "markdown",
   "metadata": {},
   "source": [
    "#### 30 mins"
   ]
  },
  {
   "cell_type": "code",
   "execution_count": 18,
   "metadata": {},
   "outputs": [],
   "source": [
    "# Train\n",
    "# reshape from [samples, timesteps] into [samples, subsequences, timesteps, features]\n",
    "Xt30 = Deep_train_30.reshape((Deep_train_30.shape[0], n_seq, n_steps, n_features))\n",
    "yt30 = scaler.inverse_transform(Output_train_30)"
   ]
  },
  {
   "cell_type": "code",
   "execution_count": 19,
   "metadata": {},
   "outputs": [],
   "source": [
    "# Test\n",
    "# reshape from [samples, timesteps] into [samples, subsequences, timesteps, features]\n",
    "Xv30 = Deep_test_30.reshape((Deep_test_30.shape[0], n_seq, n_steps, n_features))\n",
    "yv30 = scaler.inverse_transform(Output_test_30)"
   ]
  },
  {
   "cell_type": "markdown",
   "metadata": {},
   "source": [
    "#### 60 mins"
   ]
  },
  {
   "cell_type": "code",
   "execution_count": 20,
   "metadata": {},
   "outputs": [],
   "source": [
    "# Train\n",
    "# reshape from [samples, timesteps] into [samples, subsequences, timesteps, features]\n",
    "Xt60 = Deep_train_60.reshape((Deep_train_60.shape[0], n_seq, n_steps, n_features))\n",
    "yt60 = scaler.inverse_transform(Output_train_60)"
   ]
  },
  {
   "cell_type": "code",
   "execution_count": 21,
   "metadata": {},
   "outputs": [],
   "source": [
    "# Test\n",
    "# reshape from [samples, timesteps] into [samples, subsequences, timesteps, features]\n",
    "Xv60 = Deep_test_60.reshape((Deep_test_60.shape[0], n_seq, n_steps, n_features))\n",
    "yv60 = scaler.inverse_transform(Output_test_60)"
   ]
  },
  {
   "cell_type": "markdown",
   "metadata": {},
   "source": [
    "### Reshaping the Data for Conv2D layer\n",
    "\n",
    "For Conv2D, there is a need to add one more dimension to show we're dealing with 1 channel (since technically the images are in black and white, only showing values from 0-max flow on a single channel).\n",
    "\n",
    "Conv1D - strides in 1 dimension\n",
    "Conv2D - strides in 2 dimensions"
   ]
  },
  {
   "cell_type": "code",
   "execution_count": 22,
   "metadata": {},
   "outputs": [],
   "source": [
    "# define no_of_channels\n",
    "n_channels = 1"
   ]
  },
  {
   "cell_type": "code",
   "execution_count": 23,
   "metadata": {},
   "outputs": [],
   "source": [
    "# Train data\n",
    "Xt5  =  Xt5.reshape(Xt5.shape[0], n_seq, n_steps, n_features, n_channels)\n",
    "Xt15 =  Xt15.reshape(Xt15.shape[0], n_seq, n_steps, n_features, n_channels)\n",
    "Xt30 =  Xt30.reshape(Xt30.shape[0], n_seq, n_steps, n_features, n_channels)\n",
    "Xt60 =  Xt60.reshape(Xt60.shape[0], n_seq, n_steps, n_features, n_channels)\n",
    "\n",
    "# Validation data\n",
    "Xv5  =  Xv5.reshape(Xv5.shape[0], n_seq, n_steps, n_features, n_channels)\n",
    "Xv15 =  Xv15.reshape(Xv15.shape[0], n_seq, n_steps, n_features, n_channels)\n",
    "Xv30 =  Xv30.reshape(Xv30.shape[0], n_seq, n_steps, n_features, n_channels)\n",
    "Xv60 =  Xv60.reshape(Xv60.shape[0], n_seq, n_steps, n_features, n_channels)"
   ]
  },
  {
   "cell_type": "code",
   "execution_count": 24,
   "metadata": {},
   "outputs": [],
   "source": [
    "Wt5  = Wide_train_5\n",
    "Wt15 = Wide_train_15\n",
    "Wt30 = Wide_train_30\n",
    "Wt60 = Wide_train_60\n",
    "\n",
    "Wv5  = Wide_test_5\n",
    "Wv15 = Wide_test_15\n",
    "Wv30 = Wide_test_30\n",
    "Wv60 = Wide_test_60"
   ]
  },
  {
   "cell_type": "code",
   "execution_count": 25,
   "metadata": {},
   "outputs": [],
   "source": [
    "# Train data\n",
    "Wt5  =  Wt5.reshape(Wt5.shape[0], n_seq_, n_steps_, n_features, n_channels)\n",
    "Wt15 =  Wt15.reshape(Wt15.shape[0], n_seq_, n_steps_, n_features, n_channels)\n",
    "Wt30 =  Wt30.reshape(Wt30.shape[0], n_seq_, n_steps_, n_features, n_channels)\n",
    "Wt60 =  Wt60.reshape(Wt60.shape[0], n_seq_, n_steps_, n_features, n_channels)\n",
    "\n",
    "# Validation data\n",
    "Wv5  =  Wv5.reshape(Wv5.shape[0], n_seq_, n_steps_, n_features, n_channels)\n",
    "Wv15 =  Wv15.reshape(Wv15.shape[0], n_seq_, n_steps_, n_features, n_channels)\n",
    "Wv30 =  Wv30.reshape(Wv30.shape[0], n_seq_, n_steps_, n_features, n_channels)\n",
    "Wv60 =  Wv60.reshape(Wv60.shape[0], n_seq_, n_steps_, n_features, n_channels)"
   ]
  },
  {
   "cell_type": "code",
   "execution_count": 26,
   "metadata": {},
   "outputs": [
    {
     "data": {
      "text/plain": [
       "(49233, 3, 5, 6, 1)"
      ]
     },
     "execution_count": 26,
     "metadata": {},
     "output_type": "execute_result"
    }
   ],
   "source": [
    "Xt5.shape"
   ]
  },
  {
   "cell_type": "code",
   "execution_count": 27,
   "metadata": {},
   "outputs": [
    {
     "data": {
      "text/plain": [
       "(49233, 3, 3, 6, 1)"
      ]
     },
     "execution_count": 27,
     "metadata": {},
     "output_type": "execute_result"
    }
   ],
   "source": [
    "Wt5.shape"
   ]
  },
  {
   "cell_type": "markdown",
   "metadata": {},
   "source": [
    "# CNN-LSTM model"
   ]
  },
  {
   "cell_type": "code",
   "execution_count": 28,
   "metadata": {},
   "outputs": [],
   "source": [
    "from tensorflow import keras\n",
    "from keras_self_attention import SeqSelfAttention\n",
    "\n",
    "# Early Stopping\n",
    "early_stop = keras.callbacks.EarlyStopping(monitor='val_loss',patience=5, restore_best_weights = True)"
   ]
  },
  {
   "cell_type": "code",
   "execution_count": 29,
   "metadata": {},
   "outputs": [
    {
     "data": {
      "text/plain": [
       "(49233, 9, 6)"
      ]
     },
     "execution_count": 29,
     "metadata": {},
     "output_type": "execute_result"
    }
   ],
   "source": [
    "Wide_train_5.shape"
   ]
  },
  {
   "cell_type": "markdown",
   "metadata": {},
   "source": [
    "# 5 mins ahead"
   ]
  },
  {
   "cell_type": "code",
   "execution_count": 30,
   "metadata": {},
   "outputs": [],
   "source": [
    "def build_model_5(hp):\n",
    "    # Inputs\n",
    "    channel_Wide = keras.layers.Input(shape=Wt5.shape[1:], name=\"WideInput\")\n",
    "    channel_Deep = keras.layers.Input(shape=Xt5.shape[1:], name=\"DeepInput\")\n",
    "    units = hp.Int(\"units\", min_value=1, max_value=100, step=1)\n",
    "    \n",
    "    \n",
    "    # Wide Model\n",
    "    flatten_5w = keras.layers.TimeDistributed(keras.layers.Flatten())(channel_Wide)\n",
    "    Bi_5 = keras.layers.Bidirectional(\n",
    "        keras.layers.LSTM(units=units, activation='relu', return_sequences=True),\n",
    "        merge_mode=\"ave\"\n",
    "    )(flatten_5w)\n",
    "    \n",
    "    \n",
    "    # Deep Model\n",
    "    # CNN \n",
    "    CNN_5 = keras.layers.TimeDistributed(\n",
    "        keras.layers.Conv2D(filters=hp.Int(\"filters\", min_value=32, max_value=512, step=32),\n",
    "                            kernel_size=hp.Choice(\"kernel_size\", [2, 3]), activation='relu'))(channel_Deep)\n",
    "    flatten_5 = keras.layers.TimeDistributed(keras.layers.Flatten())(CNN_5)\n",
    "    # LSTM          \n",
    "    LSTM_5 = keras.layers.LSTM(units=units, activation='relu', return_sequences=True)(flatten_5)\n",
    "\n",
    "    \n",
    "    # Concatenation \n",
    "    concat = keras.layers.concatenate([Bi_5, LSTM_5], axis=1)\n",
    "\n",
    "    # Attention\n",
    "    Att_5 = SeqSelfAttention(attention_activation='sigmoid')(concat)\n",
    "    merge = keras.layers.Flatten()(Att_5)\n",
    "\n",
    "    \n",
    "    # Output\n",
    "    output = keras.layers.Dense(n_features, name= \"output\")(merge)\n",
    "    \n",
    "    # Model\n",
    "    model_5 = keras.Model(inputs=[channel_Wide,channel_Deep], outputs=[output])\n",
    "\n",
    "    # Compile\n",
    "    model_5.compile(optimizer=keras.optimizers.Adam(hp.Choice(\"learning_rate\", [1e-2, 1e-3, 1e-4])), \n",
    "        loss=custom_loss, metrics=['MeanAbsoluteError','RootMeanSquaredError','MeanAbsolutePercentageError'])\n",
    "                                   \n",
    "    return model_5"
   ]
  },
  {
   "cell_type": "code",
   "execution_count": 31,
   "metadata": {},
   "outputs": [],
   "source": [
    "tuner5 = RandomSearch(\n",
    "    build_model_5,\n",
    "    objective=\"val_loss\",\n",
    "    max_trials=60,\n",
    "    executions_per_trial=2,\n",
    "    overwrite=True,\n",
    "    directory=os.path.normpath('C:/RunsOak'),\n",
    "    project_name=\"8c-5\",\n",
    ")"
   ]
  },
  {
   "cell_type": "code",
   "execution_count": 32,
   "metadata": {},
   "outputs": [
    {
     "name": "stdout",
     "output_type": "stream",
     "text": [
      "Search space summary\n",
      "Default search space size: 4\n",
      "units (Int)\n",
      "{'default': None, 'conditions': [], 'min_value': 1, 'max_value': 100, 'step': 1, 'sampling': None}\n",
      "filters (Int)\n",
      "{'default': None, 'conditions': [], 'min_value': 32, 'max_value': 512, 'step': 32, 'sampling': None}\n",
      "kernel_size (Choice)\n",
      "{'default': 2, 'conditions': [], 'values': [2, 3], 'ordered': True}\n",
      "learning_rate (Choice)\n",
      "{'default': 0.01, 'conditions': [], 'values': [0.01, 0.001, 0.0001], 'ordered': True}\n"
     ]
    }
   ],
   "source": [
    "tuner5.search_space_summary()"
   ]
  },
  {
   "cell_type": "code",
   "execution_count": 33,
   "metadata": {},
   "outputs": [
    {
     "name": "stdout",
     "output_type": "stream",
     "text": [
      "Trial 60 Complete [00h 18m 21s]\n",
      "val_loss: 0.45593658089637756\n",
      "\n",
      "Best val_loss So Far: 0.2851945161819458\n",
      "Total elapsed time: 18h 30m 07s\n",
      "INFO:tensorflow:Oracle triggered exit\n"
     ]
    }
   ],
   "source": [
    "tuner5.search((Wt5,Xt5), yt5, epochs=200,\n",
    "           validation_split = val_percent,\n",
    "           callbacks = [early_stop],\n",
    "           verbose=2)"
   ]
  },
  {
   "cell_type": "code",
   "execution_count": 34,
   "metadata": {},
   "outputs": [
    {
     "name": "stdout",
     "output_type": "stream",
     "text": [
      "Results summary\n",
      "Results in C:\\RunsOak\\8c-5\n",
      "Showing 1 best trials\n",
      "Objective(name='val_loss', direction='min')\n",
      "Trial summary\n",
      "Hyperparameters:\n",
      "units: 4\n",
      "filters: 384\n",
      "kernel_size: 3\n",
      "learning_rate: 0.0001\n",
      "Score: 0.2851945161819458\n"
     ]
    }
   ],
   "source": [
    "tuner5.results_summary(1)"
   ]
  },
  {
   "cell_type": "markdown",
   "metadata": {},
   "source": [
    "### Best Model"
   ]
  },
  {
   "cell_type": "code",
   "execution_count": 35,
   "metadata": {},
   "outputs": [],
   "source": [
    "best_hp5 = tuner5.get_best_hyperparameters()[0]\n",
    "model5 = tuner5.hypermodel.build(best_hp5)"
   ]
  },
  {
   "cell_type": "code",
   "execution_count": 36,
   "metadata": {},
   "outputs": [
    {
     "data": {
      "text/plain": [
       "['Best_HP/8c-5']"
      ]
     },
     "execution_count": 36,
     "metadata": {},
     "output_type": "execute_result"
    }
   ],
   "source": [
    "scaler_filename = \"Best_HP/8c-5\"\n",
    "joblib.dump(best_hp5, scaler_filename) "
   ]
  },
  {
   "cell_type": "code",
   "execution_count": 37,
   "metadata": {},
   "outputs": [
    {
     "name": "stdout",
     "output_type": "stream",
     "text": [
      "Model: \"model_1\"\n",
      "__________________________________________________________________________________________________\n",
      " Layer (type)                   Output Shape         Param #     Connected to                     \n",
      "==================================================================================================\n",
      " DeepInput (InputLayer)         [(None, 3, 5, 6, 1)  0           []                               \n",
      "                                ]                                                                 \n",
      "                                                                                                  \n",
      " WideInput (InputLayer)         [(None, 3, 3, 6, 1)  0           []                               \n",
      "                                ]                                                                 \n",
      "                                                                                                  \n",
      " time_distributed_4 (TimeDistri  (None, 3, 3, 4, 384  3840       ['DeepInput[0][0]']              \n",
      " buted)                         )                                                                 \n",
      "                                                                                                  \n",
      " time_distributed_3 (TimeDistri  (None, 3, 18)       0           ['WideInput[0][0]']              \n",
      " buted)                                                                                           \n",
      "                                                                                                  \n",
      " time_distributed_5 (TimeDistri  (None, 3, 4608)     0           ['time_distributed_4[0][0]']     \n",
      " buted)                                                                                           \n",
      "                                                                                                  \n",
      " bidirectional_1 (Bidirectional  (None, 3, 4)        736         ['time_distributed_3[0][0]']     \n",
      " )                                                                                                \n",
      "                                                                                                  \n",
      " lstm_3 (LSTM)                  (None, 3, 4)         73808       ['time_distributed_5[0][0]']     \n",
      "                                                                                                  \n",
      " concatenate_1 (Concatenate)    (None, 6, 4)         0           ['bidirectional_1[0][0]',        \n",
      "                                                                  'lstm_3[0][0]']                 \n",
      "                                                                                                  \n",
      " seq_self_attention_1 (SeqSelfA  (None, 6, 4)        321         ['concatenate_1[0][0]']          \n",
      " ttention)                                                                                        \n",
      "                                                                                                  \n",
      " flatten_5 (Flatten)            (None, 24)           0           ['seq_self_attention_1[0][0]']   \n",
      "                                                                                                  \n",
      " output (Dense)                 (None, 6)            150         ['flatten_5[0][0]']              \n",
      "                                                                                                  \n",
      "==================================================================================================\n",
      "Total params: 78,855\n",
      "Trainable params: 78,855\n",
      "Non-trainable params: 0\n",
      "__________________________________________________________________________________________________\n"
     ]
    }
   ],
   "source": [
    "model5.summary()"
   ]
  },
  {
   "cell_type": "code",
   "execution_count": 38,
   "metadata": {},
   "outputs": [
    {
     "name": "stdout",
     "output_type": "stream",
     "text": [
      "Epoch 1/100\n",
      "1539/1539 [==============================] - 13s 7ms/step - loss: 0.9993 - mean_absolute_error: 144.9523 - root_mean_squared_error: 177.4239 - mean_absolute_percentage_error: 99.9257A: 7s - l\n",
      "Epoch 2/100\n",
      "1539/1539 [==============================] - 10s 7ms/step - loss: 0.8655 - mean_absolute_error: 120.4117 - root_mean_squared_error: 167.0376 - mean_absolute_percentage_error: 76.2253\n",
      "Epoch 3/100\n",
      "1539/1539 [==============================] - 10s 7ms/step - loss: 0.7112 - mean_absolute_error: 99.2605 - root_mean_squared_error: 162.8781 - mean_absolute_percentage_error: 57.4935\n",
      "Epoch 4/100\n",
      "1539/1539 [==============================] - 10s 7ms/step - loss: 0.6893 - mean_absolute_error: 99.4281 - root_mean_squared_error: 164.6935 - mean_absolute_percentage_error: 56.9938 0s - loss: 0.6898 - mean_absolute_error: 99.4716 - root_mean_squared_error: 164.7634 - mean_absolu\n",
      "Epoch 5/100\n",
      "1539/1539 [==============================] - 10s 7ms/step - loss: 0.6755 - mean_absolute_error: 99.2368 - root_mean_squared_error: 165.1976 - mean_absolute_percentage_error: 56.5836\n",
      "Epoch 6/100\n",
      "1539/1539 [==============================] - 10s 6ms/step - loss: 0.6666 - mean_absolute_error: 98.8063 - root_mean_squared_error: 165.3103 - mean_absolute_percentage_error: 56.1682\n",
      "Epoch 7/100\n",
      "1539/1539 [==============================] - 10s 7ms/step - loss: 0.6545 - mean_absolute_error: 97.8314 - root_mean_squared_error: 164.8080 - mean_absolute_percentage_error: 55.5685\n",
      "Epoch 8/100\n",
      "1539/1539 [==============================] - 10s 7ms/step - loss: 0.6374 - mean_absolute_error: 95.9902 - root_mean_squared_error: 163.7307 - mean_absolute_percentage_error: 54.4810\n",
      "Epoch 9/100\n",
      "1539/1539 [==============================] - 10s 7ms/step - loss: 0.6289 - mean_absolute_error: 94.7844 - root_mean_squared_error: 162.9322 - mean_absolute_percentage_error: 53.7889\n",
      "Epoch 10/100\n",
      "1539/1539 [==============================] - 10s 7ms/step - loss: 0.6238 - mean_absolute_error: 93.8884 - root_mean_squared_error: 162.1272 - mean_absolute_percentage_error: 53.2503\n",
      "Epoch 11/100\n",
      "1539/1539 [==============================] - 10s 7ms/step - loss: 0.6196 - mean_absolute_error: 93.3173 - root_mean_squared_error: 161.8641 - mean_absolute_percentage_error: 52.9841\n",
      "Epoch 12/100\n",
      "1539/1539 [==============================] - 10s 7ms/step - loss: 0.6157 - mean_absolute_error: 92.5241 - root_mean_squared_error: 161.3541 - mean_absolute_percentage_error: 52.6473\n",
      "Epoch 13/100\n",
      "1539/1539 [==============================] - 10s 7ms/step - loss: 0.6094 - mean_absolute_error: 91.6537 - root_mean_squared_error: 160.7859 - mean_absolute_percentage_error: 52.2291\n",
      "Epoch 14/100\n",
      "1539/1539 [==============================] - 10s 7ms/step - loss: 0.6032 - mean_absolute_error: 90.2515 - root_mean_squared_error: 159.7493 - mean_absolute_percentage_error: 51.6427\n",
      "Epoch 15/100\n",
      "1539/1539 [==============================] - 10s 7ms/step - loss: 0.5929 - mean_absolute_error: 86.4982 - root_mean_squared_error: 157.5346 - mean_absolute_percentage_error: 50.3566\n",
      "Epoch 16/100\n",
      "1539/1539 [==============================] - 10s 7ms/step - loss: 0.5859 - mean_absolute_error: 84.4055 - root_mean_squared_error: 156.7570 - mean_absolute_percentage_error: 49.4257\n",
      "Epoch 17/100\n",
      "1539/1539 [==============================] - 10s 7ms/step - loss: 0.5795 - mean_absolute_error: 82.9774 - root_mean_squared_error: 156.7948 - mean_absolute_percentage_error: 49.1008\n",
      "Epoch 18/100\n",
      "1539/1539 [==============================] - 10s 7ms/step - loss: 0.5689 - mean_absolute_error: 81.5021 - root_mean_squared_error: 157.0277 - mean_absolute_percentage_error: 48.5845\n",
      "Epoch 19/100\n",
      "1539/1539 [==============================] - 10s 7ms/step - loss: 0.5600 - mean_absolute_error: 80.3637 - root_mean_squared_error: 157.1798 - mean_absolute_percentage_error: 48.0529\n",
      "Epoch 20/100\n",
      "1539/1539 [==============================] - 10s 7ms/step - loss: 0.5461 - mean_absolute_error: 78.8629 - root_mean_squared_error: 157.2220 - mean_absolute_percentage_error: 47.4310\n",
      "Epoch 21/100\n",
      "1539/1539 [==============================] - 10s 7ms/step - loss: 0.5371 - mean_absolute_error: 78.5146 - root_mean_squared_error: 157.3945 - mean_absolute_percentage_error: 47.3267\n",
      "Epoch 22/100\n",
      "1539/1539 [==============================] - 10s 7ms/step - loss: 0.5343 - mean_absolute_error: 78.4883 - root_mean_squared_error: 157.6006 - mean_absolute_percentage_error: 47.1850\n",
      "Epoch 23/100\n",
      "1539/1539 [==============================] - 10s 7ms/step - loss: 0.5320 - mean_absolute_error: 78.3392 - root_mean_squared_error: 157.5677 - mean_absolute_percentage_error: 47.0486\n",
      "Epoch 24/100\n",
      "1539/1539 [==============================] - 10s 7ms/step - loss: 0.5296 - mean_absolute_error: 78.2131 - root_mean_squared_error: 157.4924 - mean_absolute_percentage_error: 47.0472\n",
      "Epoch 25/100\n",
      "1539/1539 [==============================] - 10s 7ms/step - loss: 0.5275 - mean_absolute_error: 78.0748 - root_mean_squared_error: 157.3222 - mean_absolute_percentage_error: 46.9679\n",
      "Epoch 26/100\n",
      "1539/1539 [==============================] - 10s 7ms/step - loss: 0.5265 - mean_absolute_error: 78.0429 - root_mean_squared_error: 157.3307 - mean_absolute_percentage_error: 47.0677\n",
      "Epoch 27/100\n",
      "1539/1539 [==============================] - 10s 7ms/step - loss: 0.5254 - mean_absolute_error: 77.9489 - root_mean_squared_error: 157.2410 - mean_absolute_percentage_error: 46.8899\n",
      "Epoch 28/100\n",
      "1539/1539 [==============================] - 10s 7ms/step - loss: 0.5239 - mean_absolute_error: 77.7935 - root_mean_squared_error: 157.0015 - mean_absolute_percentage_error: 46.8303\n",
      "Epoch 29/100\n",
      "1539/1539 [==============================] - 10s 7ms/step - loss: 0.5229 - mean_absolute_error: 77.6340 - root_mean_squared_error: 156.7388 - mean_absolute_percentage_error: 46.6735\n",
      "Epoch 30/100\n",
      "1539/1539 [==============================] - 10s 7ms/step - loss: 0.5227 - mean_absolute_error: 77.6040 - root_mean_squared_error: 156.6707 - mean_absolute_percentage_error: 46.6657\n",
      "Epoch 31/100\n",
      "1539/1539 [==============================] - 10s 7ms/step - loss: 0.5208 - mean_absolute_error: 77.4713 - root_mean_squared_error: 156.5180 - mean_absolute_percentage_error: 46.5542 0s - loss: 0.5207 - mean_absolute_error: 77.4566 - root_mean_squared_error: 156.5115 - mean_absolute_percentage_error:\n",
      "Epoch 32/100\n",
      "1539/1539 [==============================] - 10s 7ms/step - loss: 0.5198 - mean_absolute_error: 77.3142 - root_mean_squared_error: 156.2462 - mean_absolute_percentage_error: 46.4347\n",
      "Epoch 33/100\n",
      "1539/1539 [==============================] - 10s 7ms/step - loss: 0.5187 - mean_absolute_error: 77.2320 - root_mean_squared_error: 156.0803 - mean_absolute_percentage_error: 46.4669\n",
      "Epoch 34/100\n",
      "1539/1539 [==============================] - 10s 7ms/step - loss: 0.5172 - mean_absolute_error: 77.1536 - root_mean_squared_error: 155.9955 - mean_absolute_percentage_error: 46.3642\n",
      "Epoch 35/100\n",
      "1539/1539 [==============================] - 10s 7ms/step - loss: 0.5162 - mean_absolute_error: 77.1492 - root_mean_squared_error: 156.0486 - mean_absolute_percentage_error: 46.3347\n",
      "Epoch 36/100\n",
      "1539/1539 [==============================] - 10s 7ms/step - loss: 0.5155 - mean_absolute_error: 77.0281 - root_mean_squared_error: 155.8499 - mean_absolute_percentage_error: 46.2093\n",
      "Epoch 37/100\n",
      "1539/1539 [==============================] - 10s 7ms/step - loss: 0.5144 - mean_absolute_error: 77.0008 - root_mean_squared_error: 155.8727 - mean_absolute_percentage_error: 46.3279\n",
      "Epoch 38/100\n",
      "1539/1539 [==============================] - 10s 7ms/step - loss: 0.5132 - mean_absolute_error: 76.9334 - root_mean_squared_error: 155.8099 - mean_absolute_percentage_error: 46.2508\n",
      "Epoch 39/100\n",
      "1539/1539 [==============================] - 10s 7ms/step - loss: 0.5133 - mean_absolute_error: 76.8554 - root_mean_squared_error: 155.6669 - mean_absolute_percentage_error: 46.2489\n",
      "Epoch 40/100\n",
      "1539/1539 [==============================] - 10s 7ms/step - loss: 0.5121 - mean_absolute_error: 76.8123 - root_mean_squared_error: 155.5653 - mean_absolute_percentage_error: 46.0875\n",
      "Epoch 41/100\n",
      "1539/1539 [==============================] - 10s 7ms/step - loss: 0.5116 - mean_absolute_error: 76.7686 - root_mean_squared_error: 155.5312 - mean_absolute_percentage_error: 46.1125\n",
      "Epoch 42/100\n",
      "1539/1539 [==============================] - 10s 7ms/step - loss: 0.5103 - mean_absolute_error: 76.6734 - root_mean_squared_error: 155.4549 - mean_absolute_percentage_error: 46.1015\n",
      "Epoch 43/100\n",
      "1539/1539 [==============================] - 10s 7ms/step - loss: 0.5100 - mean_absolute_error: 76.6013 - root_mean_squared_error: 155.2527 - mean_absolute_percentage_error: 46.0778\n",
      "Epoch 44/100\n",
      "1539/1539 [==============================] - 10s 7ms/step - loss: 0.5103 - mean_absolute_error: 76.5317 - root_mean_squared_error: 155.0800 - mean_absolute_percentage_error: 46.0606\n",
      "Epoch 45/100\n",
      "1539/1539 [==============================] - 10s 7ms/step - loss: 0.5094 - mean_absolute_error: 76.4893 - root_mean_squared_error: 155.0279 - mean_absolute_percentage_error: 46.0364\n",
      "Epoch 46/100\n",
      "1539/1539 [==============================] - 10s 7ms/step - loss: 0.5084 - mean_absolute_error: 76.4456 - root_mean_squared_error: 154.9254 - mean_absolute_percentage_error: 46.0192\n",
      "Epoch 47/100\n",
      "1539/1539 [==============================] - 10s 7ms/step - loss: 0.5077 - mean_absolute_error: 76.3661 - root_mean_squared_error: 154.8052 - mean_absolute_percentage_error: 45.9422\n",
      "Epoch 48/100\n",
      "1539/1539 [==============================] - 10s 7ms/step - loss: 0.5077 - mean_absolute_error: 76.3782 - root_mean_squared_error: 154.7961 - mean_absolute_percentage_error: 45.9292\n",
      "Epoch 49/100\n",
      "1539/1539 [==============================] - 10s 7ms/step - loss: 0.5065 - mean_absolute_error: 76.3227 - root_mean_squared_error: 154.6777 - mean_absolute_percentage_error: 45.9849\n",
      "Epoch 50/100\n",
      "1539/1539 [==============================] - 10s 7ms/step - loss: 0.5063 - mean_absolute_error: 76.3014 - root_mean_squared_error: 154.6418 - mean_absolute_percentage_error: 45.8917\n",
      "Epoch 51/100\n",
      "1539/1539 [==============================] - 10s 7ms/step - loss: 0.5060 - mean_absolute_error: 76.2077 - root_mean_squared_error: 154.4371 - mean_absolute_percentage_error: 45.9146\n",
      "Epoch 52/100\n",
      "1539/1539 [==============================] - 10s 7ms/step - loss: 0.5056 - mean_absolute_error: 76.1188 - root_mean_squared_error: 154.3282 - mean_absolute_percentage_error: 45.8844\n",
      "Epoch 53/100\n",
      "1539/1539 [==============================] - 10s 7ms/step - loss: 0.5039 - mean_absolute_error: 76.0292 - root_mean_squared_error: 154.1382 - mean_absolute_percentage_error: 45.7392\n",
      "Epoch 54/100\n",
      "1539/1539 [==============================] - 10s 7ms/step - loss: 0.5044 - mean_absolute_error: 75.9798 - root_mean_squared_error: 154.0799 - mean_absolute_percentage_error: 45.8043\n",
      "Epoch 55/100\n",
      "1539/1539 [==============================] - 10s 7ms/step - loss: 0.5042 - mean_absolute_error: 75.9653 - root_mean_squared_error: 154.0384 - mean_absolute_percentage_error: 45.6775\n",
      "Epoch 56/100\n",
      "1539/1539 [==============================] - 10s 7ms/step - loss: 0.5039 - mean_absolute_error: 75.9154 - root_mean_squared_error: 153.8941 - mean_absolute_percentage_error: 45.5980\n",
      "Epoch 57/100\n",
      "1539/1539 [==============================] - 10s 7ms/step - loss: 0.5030 - mean_absolute_error: 75.8563 - root_mean_squared_error: 153.8021 - mean_absolute_percentage_error: 45.6635\n",
      "Epoch 58/100\n",
      "1539/1539 [==============================] - 10s 7ms/step - loss: 0.5026 - mean_absolute_error: 75.8390 - root_mean_squared_error: 153.7094 - mean_absolute_percentage_error: 45.7504\n",
      "Epoch 59/100\n",
      "1539/1539 [==============================] - 10s 7ms/step - loss: 0.5025 - mean_absolute_error: 75.8040 - root_mean_squared_error: 153.6335 - mean_absolute_percentage_error: 45.7535\n",
      "Epoch 60/100\n",
      "1539/1539 [==============================] - 10s 7ms/step - loss: 0.5022 - mean_absolute_error: 75.7304 - root_mean_squared_error: 153.5434 - mean_absolute_percentage_error: 45.6955\n",
      "Epoch 61/100\n",
      "1539/1539 [==============================] - 10s 7ms/step - loss: 0.5019 - mean_absolute_error: 75.6833 - root_mean_squared_error: 153.4180 - mean_absolute_percentage_error: 45.6649\n",
      "Epoch 62/100\n",
      "1539/1539 [==============================] - 10s 7ms/step - loss: 0.5018 - mean_absolute_error: 75.6305 - root_mean_squared_error: 153.2780 - mean_absolute_percentage_error: 45.5482\n",
      "Epoch 63/100\n",
      "1539/1539 [==============================] - 10s 7ms/step - loss: 0.5011 - mean_absolute_error: 75.5722 - root_mean_squared_error: 153.1932 - mean_absolute_percentage_error: 45.6446\n",
      "Epoch 64/100\n",
      "1539/1539 [==============================] - 10s 7ms/step - loss: 0.5011 - mean_absolute_error: 75.5479 - root_mean_squared_error: 153.1535 - mean_absolute_percentage_error: 45.5946\n",
      "Epoch 65/100\n",
      "1539/1539 [==============================] - 10s 7ms/step - loss: 0.5002 - mean_absolute_error: 75.4709 - root_mean_squared_error: 152.9387 - mean_absolute_percentage_error: 45.5990\n",
      "Epoch 66/100\n",
      "1539/1539 [==============================] - 10s 7ms/step - loss: 0.5002 - mean_absolute_error: 75.4037 - root_mean_squared_error: 152.8611 - mean_absolute_percentage_error: 45.4996\n",
      "Epoch 67/100\n",
      "1539/1539 [==============================] - 10s 7ms/step - loss: 0.5008 - mean_absolute_error: 75.3827 - root_mean_squared_error: 152.8121 - mean_absolute_percentage_error: 45.5619\n",
      "Epoch 68/100\n",
      "1539/1539 [==============================] - 10s 7ms/step - loss: 0.4999 - mean_absolute_error: 75.3632 - root_mean_squared_error: 152.7040 - mean_absolute_percentage_error: 45.5194\n",
      "Epoch 69/100\n",
      "1539/1539 [==============================] - 10s 7ms/step - loss: 0.4996 - mean_absolute_error: 75.2865 - root_mean_squared_error: 152.5839 - mean_absolute_percentage_error: 45.5416\n",
      "Epoch 70/100\n",
      "1539/1539 [==============================] - 10s 7ms/step - loss: 0.4990 - mean_absolute_error: 75.2364 - root_mean_squared_error: 152.5228 - mean_absolute_percentage_error: 45.4732\n",
      "Epoch 71/100\n",
      "1539/1539 [==============================] - 10s 7ms/step - loss: 0.4980 - mean_absolute_error: 75.2179 - root_mean_squared_error: 152.5074 - mean_absolute_percentage_error: 45.4196\n",
      "Epoch 72/100\n",
      "1539/1539 [==============================] - 10s 7ms/step - loss: 0.4979 - mean_absolute_error: 75.2446 - root_mean_squared_error: 152.5459 - mean_absolute_percentage_error: 45.3955\n",
      "Epoch 73/100\n",
      "1539/1539 [==============================] - 10s 7ms/step - loss: 0.4982 - mean_absolute_error: 75.1888 - root_mean_squared_error: 152.4044 - mean_absolute_percentage_error: 45.4319\n",
      "Epoch 74/100\n",
      "1539/1539 [==============================] - 10s 7ms/step - loss: 0.4975 - mean_absolute_error: 75.1463 - root_mean_squared_error: 152.3525 - mean_absolute_percentage_error: 45.4652\n",
      "Epoch 75/100\n",
      "1539/1539 [==============================] - 10s 7ms/step - loss: 0.4975 - mean_absolute_error: 75.1079 - root_mean_squared_error: 152.2930 - mean_absolute_percentage_error: 45.3766\n",
      "Epoch 76/100\n",
      "1539/1539 [==============================] - 10s 7ms/step - loss: 0.4968 - mean_absolute_error: 75.0202 - root_mean_squared_error: 152.0842 - mean_absolute_percentage_error: 45.3607\n",
      "Epoch 77/100\n",
      "1539/1539 [==============================] - 10s 7ms/step - loss: 0.4965 - mean_absolute_error: 75.0134 - root_mean_squared_error: 152.0822 - mean_absolute_percentage_error: 45.3526\n",
      "Epoch 78/100\n",
      "1539/1539 [==============================] - 10s 7ms/step - loss: 0.4967 - mean_absolute_error: 75.0070 - root_mean_squared_error: 152.0762 - mean_absolute_percentage_error: 45.2702\n",
      "Epoch 79/100\n",
      "1539/1539 [==============================] - 10s 7ms/step - loss: 0.4964 - mean_absolute_error: 74.9435 - root_mean_squared_error: 151.9290 - mean_absolute_percentage_error: 45.3104\n",
      "Epoch 80/100\n",
      "1539/1539 [==============================] - 10s 7ms/step - loss: 0.4953 - mean_absolute_error: 74.9295 - root_mean_squared_error: 151.9062 - mean_absolute_percentage_error: 45.2540\n",
      "Epoch 81/100\n",
      "1539/1539 [==============================] - 10s 7ms/step - loss: 0.4952 - mean_absolute_error: 74.9101 - root_mean_squared_error: 151.8693 - mean_absolute_percentage_error: 45.2293\n",
      "Epoch 82/100\n",
      "1539/1539 [==============================] - 10s 7ms/step - loss: 0.4954 - mean_absolute_error: 74.8534 - root_mean_squared_error: 151.7618 - mean_absolute_percentage_error: 45.2601\n",
      "Epoch 83/100\n"
     ]
    },
    {
     "name": "stdout",
     "output_type": "stream",
     "text": [
      "1539/1539 [==============================] - 10s 7ms/step - loss: 0.4953 - mean_absolute_error: 74.8579 - root_mean_squared_error: 151.7420 - mean_absolute_percentage_error: 45.2788\n",
      "Epoch 84/100\n",
      "1539/1539 [==============================] - 10s 7ms/step - loss: 0.4941 - mean_absolute_error: 74.8139 - root_mean_squared_error: 151.6694 - mean_absolute_percentage_error: 45.2290\n",
      "Epoch 85/100\n",
      "1539/1539 [==============================] - 10s 7ms/step - loss: 0.4943 - mean_absolute_error: 74.8209 - root_mean_squared_error: 151.6672 - mean_absolute_percentage_error: 45.2868\n",
      "Epoch 86/100\n",
      "1539/1539 [==============================] - 10s 7ms/step - loss: 0.4945 - mean_absolute_error: 74.7316 - root_mean_squared_error: 151.5231 - mean_absolute_percentage_error: 45.1913 1s - loss: 0.4944 - mean_absolute_error: 74.8061 - root_mean_squar\n",
      "Epoch 87/100\n",
      "1539/1539 [==============================] - 10s 7ms/step - loss: 0.4946 - mean_absolute_error: 74.7551 - root_mean_squared_error: 151.5558 - mean_absolute_percentage_error: 45.1949 0s - loss: 0.4948 - mean_absolute_error: 74.7491 - root_mean_squared_error: 151.5486 - mean_absolute_percentage_er\n",
      "Epoch 88/100\n",
      "1539/1539 [==============================] - 10s 7ms/step - loss: 0.4937 - mean_absolute_error: 74.7344 - root_mean_squared_error: 151.5402 - mean_absolute_percentage_error: 45.2256\n",
      "Epoch 89/100\n",
      "1539/1539 [==============================] - 10s 7ms/step - loss: 0.4933 - mean_absolute_error: 74.6954 - root_mean_squared_error: 151.4337 - mean_absolute_percentage_error: 45.2127\n",
      "Epoch 90/100\n",
      "1539/1539 [==============================] - 10s 7ms/step - loss: 0.4938 - mean_absolute_error: 74.6566 - root_mean_squared_error: 151.3558 - mean_absolute_percentage_error: 45.1232\n",
      "Epoch 91/100\n",
      "1539/1539 [==============================] - 10s 7ms/step - loss: 0.4932 - mean_absolute_error: 74.5760 - root_mean_squared_error: 151.1945 - mean_absolute_percentage_error: 45.0527\n",
      "Epoch 92/100\n",
      "1539/1539 [==============================] - 10s 7ms/step - loss: 0.4928 - mean_absolute_error: 74.5715 - root_mean_squared_error: 151.1637 - mean_absolute_percentage_error: 45.0818\n",
      "Epoch 93/100\n",
      "1539/1539 [==============================] - 10s 7ms/step - loss: 0.4928 - mean_absolute_error: 74.5110 - root_mean_squared_error: 150.9705 - mean_absolute_percentage_error: 45.1570\n",
      "Epoch 94/100\n",
      "1539/1539 [==============================] - 10s 7ms/step - loss: 0.4924 - mean_absolute_error: 74.4220 - root_mean_squared_error: 150.8217 - mean_absolute_percentage_error: 44.9499\n",
      "Epoch 95/100\n",
      "1539/1539 [==============================] - 10s 7ms/step - loss: 0.4921 - mean_absolute_error: 74.4118 - root_mean_squared_error: 150.7687 - mean_absolute_percentage_error: 45.0671\n",
      "Epoch 96/100\n",
      "1539/1539 [==============================] - 10s 7ms/step - loss: 0.4919 - mean_absolute_error: 74.4529 - root_mean_squared_error: 150.8795 - mean_absolute_percentage_error: 44.9746\n",
      "Epoch 97/100\n",
      "1539/1539 [==============================] - 10s 7ms/step - loss: 0.4912 - mean_absolute_error: 74.3729 - root_mean_squared_error: 150.7202 - mean_absolute_percentage_error: 45.0411\n",
      "Epoch 98/100\n",
      "1539/1539 [==============================] - 10s 7ms/step - loss: 0.4918 - mean_absolute_error: 74.3540 - root_mean_squared_error: 150.6673 - mean_absolute_percentage_error: 45.0423\n",
      "Epoch 99/100\n",
      "1539/1539 [==============================] - 10s 7ms/step - loss: 0.4913 - mean_absolute_error: 74.3935 - root_mean_squared_error: 150.7218 - mean_absolute_percentage_error: 44.9855\n",
      "Epoch 100/100\n",
      "1539/1539 [==============================] - 10s 7ms/step - loss: 0.4910 - mean_absolute_error: 74.3500 - root_mean_squared_error: 150.7137 - mean_absolute_percentage_error: 44.9906\n"
     ]
    },
    {
     "data": {
      "text/plain": [
       "<keras.callbacks.History at 0x12009668370>"
      ]
     },
     "execution_count": 38,
     "metadata": {},
     "output_type": "execute_result"
    }
   ],
   "source": [
    "model5.fit((Wt5,Xt5), yt5, \n",
    "           epochs = 100, \n",
    "           verbose = 1)"
   ]
  },
  {
   "cell_type": "code",
   "execution_count": 39,
   "metadata": {},
   "outputs": [
    {
     "name": "stderr",
     "output_type": "stream",
     "text": [
      "WARNING:absl:Function `_wrapped_model` contains input name(s) WideInput, DeepInput with unsupported characters which will be renamed to wideinput, deepinput in the SavedModel.\n"
     ]
    },
    {
     "name": "stdout",
     "output_type": "stream",
     "text": [
      "INFO:tensorflow:Assets written to: my_dir/8c-5\\assets\n"
     ]
    },
    {
     "name": "stderr",
     "output_type": "stream",
     "text": [
      "INFO:tensorflow:Assets written to: my_dir/8c-5\\assets\n",
      "WARNING:absl:<keras.layers.recurrent.LSTMCell object at 0x0000012004A57DF0> has the same name 'LSTMCell' as a built-in Keras object. Consider renaming <class 'keras.layers.recurrent.LSTMCell'> to avoid naming conflicts when loading with `tf.keras.models.load_model`. If renaming is not possible, pass the object in the `custom_objects` parameter of the load function.\n",
      "WARNING:absl:<keras.layers.recurrent.LSTMCell object at 0x0000012074104BB0> has the same name 'LSTMCell' as a built-in Keras object. Consider renaming <class 'keras.layers.recurrent.LSTMCell'> to avoid naming conflicts when loading with `tf.keras.models.load_model`. If renaming is not possible, pass the object in the `custom_objects` parameter of the load function.\n",
      "WARNING:absl:<keras.layers.recurrent.LSTMCell object at 0x0000012009443A60> has the same name 'LSTMCell' as a built-in Keras object. Consider renaming <class 'keras.layers.recurrent.LSTMCell'> to avoid naming conflicts when loading with `tf.keras.models.load_model`. If renaming is not possible, pass the object in the `custom_objects` parameter of the load function.\n"
     ]
    }
   ],
   "source": [
    "model5.save(\"my_dir/8c-5\")"
   ]
  },
  {
   "cell_type": "code",
   "execution_count": 40,
   "metadata": {},
   "outputs": [],
   "source": [
    "metrics5 = pd.DataFrame(model5.history.history)"
   ]
  },
  {
   "cell_type": "code",
   "execution_count": 41,
   "metadata": {},
   "outputs": [
    {
     "data": {
      "text/plain": [
       "<AxesSubplot:>"
      ]
     },
     "execution_count": 41,
     "metadata": {},
     "output_type": "execute_result"
    },
    {
     "data": {
      "image/png": "[encoded data removed]",
      "text/plain": [
       "<Figure size 432x288 with 1 Axes>"
      ]
     },
     "metadata": {
      "needs_background": "light"
     },
     "output_type": "display_data"
    }
   ],
   "source": [
    "metrics5[['loss']].plot()"
   ]
  },
  {
   "cell_type": "code",
   "execution_count": 42,
   "metadata": {},
   "outputs": [],
   "source": [
    "model5 = keras.models.load_model(\"my_dir/8c-5\", custom_objects={'custom_loss': custom_loss}) "
   ]
  },
  {
   "cell_type": "code",
   "execution_count": 43,
   "metadata": {},
   "outputs": [
    {
     "data": {
      "text/plain": [
       "array([[ 31.298801 ,  19.835503 ,  19.305712 , -10.650746 ,  34.74335  ,\n",
       "          6.221398 ],\n",
       "       [ 29.712725 ,  17.94663  ,  18.587648 , -10.497279 ,  34.331093 ,\n",
       "          6.2054   ],\n",
       "       [ 29.740149 ,  17.935604 ,  17.29424  ,  -9.677536 ,  32.36238  ,\n",
       "          5.998132 ],\n",
       "       ...,\n",
       "       [ 43.922157 ,  40.240116 ,  69.34001  , -23.590532 ,  51.993885 ,\n",
       "          4.897752 ],\n",
       "       [ 43.476948 ,  38.621346 ,  61.517796 , -20.37758  ,  46.806213 ,\n",
       "          4.3963923],\n",
       "       [ 42.072166 ,  38.63112  ,  54.673016 , -18.349268 ,  44.789227 ,\n",
       "          4.7979603]], dtype=float32)"
      ]
     },
     "execution_count": 43,
     "metadata": {},
     "output_type": "execute_result"
    }
   ],
   "source": [
    "model5.predict((Wv5,Xv5))"
   ]
  },
  {
   "cell_type": "markdown",
   "metadata": {},
   "source": [
    "### Evaluation on inverse_transform"
   ]
  },
  {
   "cell_type": "code",
   "execution_count": null,
   "metadata": {},
   "outputs": [],
   "source": [
    "test_predictions5 = model5.predict((Wv5,Xv5))\n",
    "\n",
    "\n",
    "MSE5 = mean_squared_error(yv5,test_predictions5)\n",
    "\n",
    "MAE5 = mean_absolute_error(yv5,test_predictions5)\n",
    "\n",
    "RMSE5 = np.sqrt(MSE5)\n",
    "\n",
    "MAPE5 = mean_absolute_percentage_error(yv5,test_predictions5)*100\n",
    "\n",
    "eval5 = [MSE5, MAE5, RMSE5, MAPE5]\n",
    "print(eval5)"
   ]
  },
  {
   "cell_type": "code",
   "execution_count": null,
   "metadata": {},
   "outputs": [],
   "source": [
    "GEH, count = ga.GEH(np.asarray(yv5), np.asarray(test_predictions5))\n",
    "GEH5 = count/GEH.size\n",
    "print(GEH5)"
   ]
  },
  {
   "cell_type": "markdown",
   "metadata": {},
   "source": [
    "# 15 mins ahead"
   ]
  },
  {
   "cell_type": "code",
   "execution_count": 46,
   "metadata": {},
   "outputs": [],
   "source": [
    "def build_model_15(hp):\n",
    "    # Inputs\n",
    "    channel_Wide = keras.layers.Input(shape=Wt15.shape[1:], name=\"WideInput\")\n",
    "    channel_Deep = keras.layers.Input(shape=Xt15.shape[1:], name=\"DeepInput\")\n",
    "    units = hp.Int(\"units\", min_value=1, max_value=100, step=1)\n",
    "    \n",
    "    \n",
    "    # Wide Model\n",
    "    flatten_15w = keras.layers.TimeDistributed(keras.layers.Flatten())(channel_Wide)\n",
    "    Bi_15 = keras.layers.Bidirectional(\n",
    "        keras.layers.LSTM(units=units, activation='relu', return_sequences=True),\n",
    "        merge_mode=\"ave\"\n",
    "    )(flatten_15w)\n",
    "    \n",
    "    \n",
    "    # Deep Model\n",
    "    # CNN \n",
    "    CNN_15 = keras.layers.TimeDistributed(\n",
    "        keras.layers.Conv2D(filters=hp.Int(\"filters\", min_value=32, max_value=512, step=32),\n",
    "                            kernel_size=hp.Choice(\"kernel_size\", [2, 3]), activation='relu'))(channel_Deep)\n",
    "    flatten_15 = keras.layers.TimeDistributed(keras.layers.Flatten())(CNN_15)\n",
    "    # LSTM          \n",
    "    LSTM_15 = keras.layers.LSTM(units=units, activation='relu', return_sequences=True)(flatten_15)\n",
    "\n",
    "    \n",
    "    # Concatenation \n",
    "    concat = keras.layers.concatenate([Bi_15, LSTM_15], axis=1)\n",
    "\n",
    "    # Attention\n",
    "    Att_15 = SeqSelfAttention(attention_activation='sigmoid')(concat)\n",
    "    merge = keras.layers.Flatten()(Att_15)\n",
    "\n",
    "    \n",
    "    # Output\n",
    "    output = keras.layers.Dense(n_features, name= \"output\")(merge)\n",
    "    \n",
    "    # Model\n",
    "    model_15 = keras.Model(inputs=[channel_Wide,channel_Deep], outputs=[output])\n",
    "\n",
    "    # Compile\n",
    "    model_15.compile(optimizer=keras.optimizers.Adam(hp.Choice(\"learning_rate\", [1e-2, 1e-3, 1e-4])), \n",
    "        loss=custom_loss, metrics=['MeanAbsoluteError','RootMeanSquaredError','MeanAbsolutePercentageError'])\n",
    "                    \n",
    "    return model_15"
   ]
  },
  {
   "cell_type": "code",
   "execution_count": 47,
   "metadata": {},
   "outputs": [],
   "source": [
    "tuner15 = RandomSearch(\n",
    "    build_model_15,\n",
    "    objective=\"val_loss\",\n",
    "    max_trials=60,\n",
    "    executions_per_trial=2,\n",
    "    overwrite=True,\n",
    "    directory=os.path.normpath('C:/RunsOak'),\n",
    "    project_name=\"8c-15\",\n",
    ")"
   ]
  },
  {
   "cell_type": "code",
   "execution_count": 48,
   "metadata": {},
   "outputs": [
    {
     "name": "stdout",
     "output_type": "stream",
     "text": [
      "Search space summary\n",
      "Default search space size: 4\n",
      "units (Int)\n",
      "{'default': None, 'conditions': [], 'min_value': 1, 'max_value': 100, 'step': 1, 'sampling': None}\n",
      "filters (Int)\n",
      "{'default': None, 'conditions': [], 'min_value': 32, 'max_value': 512, 'step': 32, 'sampling': None}\n",
      "kernel_size (Choice)\n",
      "{'default': 2, 'conditions': [], 'values': [2, 3], 'ordered': True}\n",
      "learning_rate (Choice)\n",
      "{'default': 0.01, 'conditions': [], 'values': [0.01, 0.001, 0.0001], 'ordered': True}\n"
     ]
    }
   ],
   "source": [
    "tuner15.search_space_summary()"
   ]
  },
  {
   "cell_type": "code",
   "execution_count": 49,
   "metadata": {},
   "outputs": [
    {
     "name": "stdout",
     "output_type": "stream",
     "text": [
      "Trial 60 Complete [00h 25m 31s]\n",
      "val_loss: 0.40817923843860626\n",
      "\n",
      "Best val_loss So Far: 0.3603269159793854\n",
      "Total elapsed time: 12h 29m 18s\n",
      "INFO:tensorflow:Oracle triggered exit\n"
     ]
    },
    {
     "name": "stderr",
     "output_type": "stream",
     "text": [
      "INFO:tensorflow:Oracle triggered exit\n"
     ]
    }
   ],
   "source": [
    "tuner15.search((Wt15,Xt15), yt15, epochs=200,\n",
    "            validation_split = val_percent,\n",
    "            callbacks=[early_stop], \n",
    "            verbose=2)"
   ]
  },
  {
   "cell_type": "code",
   "execution_count": 50,
   "metadata": {},
   "outputs": [
    {
     "name": "stdout",
     "output_type": "stream",
     "text": [
      "Results summary\n",
      "Results in C:\\RunsOak\\8c-15\n",
      "Showing 1 best trials\n",
      "Objective(name='val_loss', direction='min')\n",
      "Trial summary\n",
      "Hyperparameters:\n",
      "units: 63\n",
      "filters: 448\n",
      "kernel_size: 2\n",
      "learning_rate: 0.001\n",
      "Score: 0.3603269159793854\n"
     ]
    }
   ],
   "source": [
    "tuner15.results_summary(1)"
   ]
  },
  {
   "cell_type": "markdown",
   "metadata": {},
   "source": [
    "### Best model"
   ]
  },
  {
   "cell_type": "code",
   "execution_count": 51,
   "metadata": {},
   "outputs": [],
   "source": [
    "best_hp15 = tuner15.get_best_hyperparameters()[0]\n",
    "model15 = tuner15.hypermodel.build(best_hp5)"
   ]
  },
  {
   "cell_type": "code",
   "execution_count": 52,
   "metadata": {},
   "outputs": [
    {
     "data": {
      "text/plain": [
       "['Best_HP/8c-15']"
      ]
     },
     "execution_count": 52,
     "metadata": {},
     "output_type": "execute_result"
    }
   ],
   "source": [
    "scaler_filename = \"Best_HP/8c-15\"\n",
    "joblib.dump(best_hp15, scaler_filename) "
   ]
  },
  {
   "cell_type": "code",
   "execution_count": 53,
   "metadata": {
    "scrolled": true
   },
   "outputs": [
    {
     "name": "stdout",
     "output_type": "stream",
     "text": [
      "Model: \"model_1\"\n",
      "__________________________________________________________________________________________________\n",
      " Layer (type)                   Output Shape         Param #     Connected to                     \n",
      "==================================================================================================\n",
      " DeepInput (InputLayer)         [(None, 3, 5, 6, 1)  0           []                               \n",
      "                                ]                                                                 \n",
      "                                                                                                  \n",
      " WideInput (InputLayer)         [(None, 3, 3, 6, 1)  0           []                               \n",
      "                                ]                                                                 \n",
      "                                                                                                  \n",
      " time_distributed_4 (TimeDistri  (None, 3, 3, 4, 384  3840       ['DeepInput[0][0]']              \n",
      " buted)                         )                                                                 \n",
      "                                                                                                  \n",
      " time_distributed_3 (TimeDistri  (None, 3, 18)       0           ['WideInput[0][0]']              \n",
      " buted)                                                                                           \n",
      "                                                                                                  \n",
      " time_distributed_5 (TimeDistri  (None, 3, 4608)     0           ['time_distributed_4[0][0]']     \n",
      " buted)                                                                                           \n",
      "                                                                                                  \n",
      " bidirectional_1 (Bidirectional  (None, 3, 4)        736         ['time_distributed_3[0][0]']     \n",
      " )                                                                                                \n",
      "                                                                                                  \n",
      " lstm_3 (LSTM)                  (None, 3, 4)         73808       ['time_distributed_5[0][0]']     \n",
      "                                                                                                  \n",
      " concatenate_1 (Concatenate)    (None, 6, 4)         0           ['bidirectional_1[0][0]',        \n",
      "                                                                  'lstm_3[0][0]']                 \n",
      "                                                                                                  \n",
      " seq_self_attention_1 (SeqSelfA  (None, 6, 4)        321         ['concatenate_1[0][0]']          \n",
      " ttention)                                                                                        \n",
      "                                                                                                  \n",
      " flatten_5 (Flatten)            (None, 24)           0           ['seq_self_attention_1[0][0]']   \n",
      "                                                                                                  \n",
      " output (Dense)                 (None, 6)            150         ['flatten_5[0][0]']              \n",
      "                                                                                                  \n",
      "==================================================================================================\n",
      "Total params: 78,855\n",
      "Trainable params: 78,855\n",
      "Non-trainable params: 0\n",
      "__________________________________________________________________________________________________\n"
     ]
    }
   ],
   "source": [
    "model15.summary()"
   ]
  },
  {
   "cell_type": "code",
   "execution_count": 54,
   "metadata": {},
   "outputs": [
    {
     "name": "stdout",
     "output_type": "stream",
     "text": [
      "Epoch 1/100\n",
      "1539/1539 [==============================] - 12s 6ms/step - loss: 0.9994 - mean_absolute_error: 144.9618 - root_mean_squared_error: 177.4235 - mean_absolute_percentage_error: 99.9240\n",
      "Epoch 2/100\n",
      "1539/1539 [==============================] - 9s 6ms/step - loss: 0.9728 - mean_absolute_error: 142.3167 - root_mean_squared_error: 175.4934 - mean_absolute_percentage_error: 95.5918\n",
      "Epoch 3/100\n",
      "1539/1539 [==============================] - 9s 6ms/step - loss: 0.8946 - mean_absolute_error: 124.7758 - root_mean_squared_error: 164.6678 - mean_absolute_percentage_error: 81.9870\n",
      "Epoch 4/100\n",
      "1539/1539 [==============================] - 9s 6ms/step - loss: 0.7287 - mean_absolute_error: 95.6735 - root_mean_squared_error: 146.9799 - mean_absolute_percentage_error: 61.3758\n",
      "Epoch 5/100\n",
      "1539/1539 [==============================] - 9s 6ms/step - loss: 0.7036 - mean_absolute_error: 89.3651 - root_mean_squared_error: 137.7815 - mean_absolute_percentage_error: 58.1552\n",
      "Epoch 6/100\n",
      "1539/1539 [==============================] - 9s 6ms/step - loss: 0.6823 - mean_absolute_error: 79.8100 - root_mean_squared_error: 124.8056 - mean_absolute_percentage_error: 54.3306\n",
      "Epoch 7/100\n",
      "1539/1539 [==============================] - 9s 6ms/step - loss: 0.6111 - mean_absolute_error: 63.4339 - root_mean_squared_error: 108.9064 - mean_absolute_percentage_error: 48.8614\n",
      "Epoch 8/100\n",
      "1539/1539 [==============================] - 9s 6ms/step - loss: 0.5905 - mean_absolute_error: 61.9751 - root_mean_squared_error: 108.3393 - mean_absolute_percentage_error: 47.9409\n",
      "Epoch 9/100\n",
      "1539/1539 [==============================] - 9s 6ms/step - loss: 0.5800 - mean_absolute_error: 61.0694 - root_mean_squared_error: 107.9065 - mean_absolute_percentage_error: 47.3787\n",
      "Epoch 10/100\n",
      "1539/1539 [==============================] - 9s 6ms/step - loss: 0.5718 - mean_absolute_error: 60.1016 - root_mean_squared_error: 107.1441 - mean_absolute_percentage_error: 46.8678\n",
      "Epoch 11/100\n",
      "1539/1539 [==============================] - 9s 6ms/step - loss: 0.5640 - mean_absolute_error: 59.3476 - root_mean_squared_error: 106.5568 - mean_absolute_percentage_error: 46.4690\n",
      "Epoch 12/100\n",
      "1539/1539 [==============================] - 9s 6ms/step - loss: 0.5600 - mean_absolute_error: 58.9153 - root_mean_squared_error: 106.2118 - mean_absolute_percentage_error: 46.3872\n",
      "Epoch 13/100\n",
      "1539/1539 [==============================] - 9s 6ms/step - loss: 0.5550 - mean_absolute_error: 58.4419 - root_mean_squared_error: 105.7990 - mean_absolute_percentage_error: 46.3822\n",
      "Epoch 14/100\n",
      "1539/1539 [==============================] - 9s 6ms/step - loss: 0.5514 - mean_absolute_error: 58.0711 - root_mean_squared_error: 105.4358 - mean_absolute_percentage_error: 46.2734\n",
      "Epoch 15/100\n",
      "1539/1539 [==============================] - 9s 6ms/step - loss: 0.5498 - mean_absolute_error: 57.9877 - root_mean_squared_error: 105.3659 - mean_absolute_percentage_error: 46.2405\n",
      "Epoch 16/100\n",
      "1539/1539 [==============================] - 9s 6ms/step - loss: 0.5484 - mean_absolute_error: 57.9702 - root_mean_squared_error: 105.3848 - mean_absolute_percentage_error: 46.1372\n",
      "Epoch 17/100\n",
      "1539/1539 [==============================] - 9s 6ms/step - loss: 0.5455 - mean_absolute_error: 57.7780 - root_mean_squared_error: 105.1974 - mean_absolute_percentage_error: 45.9992\n",
      "Epoch 18/100\n",
      "1539/1539 [==============================] - 9s 6ms/step - loss: 0.5453 - mean_absolute_error: 57.8383 - root_mean_squared_error: 105.3232 - mean_absolute_percentage_error: 45.9471\n",
      "Epoch 19/100\n",
      "1539/1539 [==============================] - 9s 6ms/step - loss: 0.5434 - mean_absolute_error: 57.7182 - root_mean_squared_error: 105.2162 - mean_absolute_percentage_error: 46.0021\n",
      "Epoch 20/100\n",
      "1539/1539 [==============================] - 9s 6ms/step - loss: 0.5413 - mean_absolute_error: 57.6298 - root_mean_squared_error: 105.1859 - mean_absolute_percentage_error: 45.8960\n",
      "Epoch 21/100\n",
      "1539/1539 [==============================] - 9s 6ms/step - loss: 0.5408 - mean_absolute_error: 57.5860 - root_mean_squared_error: 105.0670 - mean_absolute_percentage_error: 45.8840\n",
      "Epoch 22/100\n",
      "1539/1539 [==============================] - 9s 6ms/step - loss: 0.5400 - mean_absolute_error: 57.4663 - root_mean_squared_error: 104.9203 - mean_absolute_percentage_error: 45.7829\n",
      "Epoch 23/100\n",
      "1539/1539 [==============================] - 9s 6ms/step - loss: 0.5389 - mean_absolute_error: 57.3244 - root_mean_squared_error: 104.7660 - mean_absolute_percentage_error: 45.6413\n",
      "Epoch 24/100\n",
      "1539/1539 [==============================] - 9s 6ms/step - loss: 0.5384 - mean_absolute_error: 57.3731 - root_mean_squared_error: 104.8910 - mean_absolute_percentage_error: 45.6707\n",
      "Epoch 25/100\n",
      "1539/1539 [==============================] - 9s 6ms/step - loss: 0.5377 - mean_absolute_error: 57.2525 - root_mean_squared_error: 104.6999 - mean_absolute_percentage_error: 45.6023\n",
      "Epoch 26/100\n",
      "1539/1539 [==============================] - 9s 6ms/step - loss: 0.5364 - mean_absolute_error: 57.1689 - root_mean_squared_error: 104.6524 - mean_absolute_percentage_error: 45.5381\n",
      "Epoch 27/100\n",
      "1539/1539 [==============================] - 9s 6ms/step - loss: 0.5366 - mean_absolute_error: 57.0688 - root_mean_squared_error: 104.4728 - mean_absolute_percentage_error: 45.3924\n",
      "Epoch 28/100\n",
      "1539/1539 [==============================] - 9s 6ms/step - loss: 0.5364 - mean_absolute_error: 56.9724 - root_mean_squared_error: 104.3651 - mean_absolute_percentage_error: 45.3052\n",
      "Epoch 29/100\n",
      "1539/1539 [==============================] - 9s 6ms/step - loss: 0.5359 - mean_absolute_error: 56.8648 - root_mean_squared_error: 104.2604 - mean_absolute_percentage_error: 45.2602\n",
      "Epoch 30/100\n",
      "1539/1539 [==============================] - 9s 6ms/step - loss: 0.5354 - mean_absolute_error: 56.8290 - root_mean_squared_error: 104.2077 - mean_absolute_percentage_error: 45.2609\n",
      "Epoch 31/100\n",
      "1539/1539 [==============================] - 9s 6ms/step - loss: 0.5337 - mean_absolute_error: 56.7787 - root_mean_squared_error: 104.1699 - mean_absolute_percentage_error: 45.1697\n",
      "Epoch 32/100\n",
      "1539/1539 [==============================] - 9s 6ms/step - loss: 0.5333 - mean_absolute_error: 56.6945 - root_mean_squared_error: 104.0292 - mean_absolute_percentage_error: 45.0876\n",
      "Epoch 33/100\n",
      "1539/1539 [==============================] - 9s 6ms/step - loss: 0.5335 - mean_absolute_error: 56.6317 - root_mean_squared_error: 103.9515 - mean_absolute_percentage_error: 45.0855\n",
      "Epoch 34/100\n",
      "1539/1539 [==============================] - 9s 6ms/step - loss: 0.5329 - mean_absolute_error: 56.5431 - root_mean_squared_error: 103.9005 - mean_absolute_percentage_error: 45.1225\n",
      "Epoch 35/100\n",
      "1539/1539 [==============================] - 9s 6ms/step - loss: 0.5328 - mean_absolute_error: 56.5819 - root_mean_squared_error: 104.0178 - mean_absolute_percentage_error: 45.0353\n",
      "Epoch 36/100\n",
      "1539/1539 [==============================] - 9s 6ms/step - loss: 0.5320 - mean_absolute_error: 56.4467 - root_mean_squared_error: 103.8494 - mean_absolute_percentage_error: 45.0859\n",
      "Epoch 37/100\n",
      "1539/1539 [==============================] - 9s 6ms/step - loss: 0.5314 - mean_absolute_error: 56.4204 - root_mean_squared_error: 103.8169 - mean_absolute_percentage_error: 44.8543\n",
      "Epoch 38/100\n",
      "1539/1539 [==============================] - 9s 6ms/step - loss: 0.5316 - mean_absolute_error: 56.3115 - root_mean_squared_error: 103.7261 - mean_absolute_percentage_error: 44.8889: 0s - loss: 0.5313 - mean_absolute_error: 56.3634 - root_mean_squared_error: 103.8253 - mean_absolute_percentage_ - ETA: 0s - loss: 0.5314 - mean_absolute_error: 56.3305 - root_mean_squared_error: 103.7655 - mean_absolute_percentage_er\n",
      "Epoch 39/100\n",
      "1539/1539 [==============================] - 9s 6ms/step - loss: 0.5310 - mean_absolute_error: 56.2439 - root_mean_squared_error: 103.6120 - mean_absolute_percentage_error: 44.8933\n",
      "Epoch 40/100\n",
      "1539/1539 [==============================] - 9s 6ms/step - loss: 0.5295 - mean_absolute_error: 56.0910 - root_mean_squared_error: 103.4816 - mean_absolute_percentage_error: 44.7699\n",
      "Epoch 41/100\n",
      "1539/1539 [==============================] - 9s 6ms/step - loss: 0.5291 - mean_absolute_error: 55.8201 - root_mean_squared_error: 103.2116 - mean_absolute_percentage_error: 44.5817\n",
      "Epoch 42/100\n",
      "1539/1539 [==============================] - 9s 6ms/step - loss: 0.5289 - mean_absolute_error: 55.6667 - root_mean_squared_error: 103.1120 - mean_absolute_percentage_error: 44.5995\n",
      "Epoch 43/100\n",
      "1539/1539 [==============================] - 9s 6ms/step - loss: 0.5274 - mean_absolute_error: 55.3468 - root_mean_squared_error: 102.7949 - mean_absolute_percentage_error: 44.6308\n",
      "Epoch 44/100\n",
      "1539/1539 [==============================] - 9s 6ms/step - loss: 0.5266 - mean_absolute_error: 54.7286 - root_mean_squared_error: 102.1784 - mean_absolute_percentage_error: 44.4545\n",
      "Epoch 45/100\n",
      "1539/1539 [==============================] - 9s 6ms/step - loss: 0.5250 - mean_absolute_error: 54.0282 - root_mean_squared_error: 101.3862 - mean_absolute_percentage_error: 44.4596\n",
      "Epoch 46/100\n",
      "1539/1539 [==============================] - 9s 6ms/step - loss: 0.5222 - mean_absolute_error: 53.2355 - root_mean_squared_error: 100.5019 - mean_absolute_percentage_error: 44.2769\n",
      "Epoch 47/100\n",
      "1539/1539 [==============================] - 9s 6ms/step - loss: 0.5212 - mean_absolute_error: 52.1167 - root_mean_squared_error: 99.0812 - mean_absolute_percentage_error: 43.9333\n",
      "Epoch 48/100\n",
      "1539/1539 [==============================] - 9s 6ms/step - loss: 0.5175 - mean_absolute_error: 50.6061 - root_mean_squared_error: 97.3579 - mean_absolute_percentage_error: 43.6411\n",
      "Epoch 49/100\n",
      "1539/1539 [==============================] - 9s 6ms/step - loss: 0.5138 - mean_absolute_error: 49.1695 - root_mean_squared_error: 95.8081 - mean_absolute_percentage_error: 43.5364A: 7s\n",
      "Epoch 50/100\n",
      "1539/1539 [==============================] - 9s 6ms/step - loss: 0.5081 - mean_absolute_error: 47.8636 - root_mean_squared_error: 94.4854 - mean_absolute_percentage_error: 43.7926A: 4s - loss: 0.5093 - mean_absolute_error: 48.1171 - root_mea\n",
      "Epoch 51/100\n",
      "1539/1539 [==============================] - 9s 6ms/step - loss: 0.4991 - mean_absolute_error: 46.9614 - root_mean_squared_error: 93.7937 - mean_absolute_percentage_error: 43.5150\n",
      "Epoch 52/100\n",
      "1539/1539 [==============================] - 9s 6ms/step - loss: 0.4926 - mean_absolute_error: 46.4589 - root_mean_squared_error: 93.2273 - mean_absolute_percentage_error: 42.9370\n",
      "Epoch 53/100\n",
      "1539/1539 [==============================] - 9s 6ms/step - loss: 0.4897 - mean_absolute_error: 46.2951 - root_mean_squared_error: 93.2334 - mean_absolute_percentage_error: 42.4969A: 8s - loss: 0.4899 - mean_absolute_error: 46.5384 - root_mean_squared_error: 93. - ETA: 5s - loss: 0.4892 - mean_absolute\n",
      "Epoch 54/100\n",
      "1539/1539 [==============================] - 9s 6ms/step - loss: 0.4882 - mean_absolute_error: 46.1447 - root_mean_squared_error: 93.1634 - mean_absolute_percentage_error: 42.2134\n",
      "Epoch 55/100\n",
      "1539/1539 [==============================] - 9s 6ms/step - loss: 0.4854 - mean_absolute_error: 45.9990 - root_mean_squared_error: 93.0586 - mean_absolute_percentage_error: 42.0902\n",
      "Epoch 56/100\n",
      "1539/1539 [==============================] - 9s 6ms/step - loss: 0.4846 - mean_absolute_error: 45.8827 - root_mean_squared_error: 92.9253 - mean_absolute_percentage_error: 41.6525\n",
      "Epoch 57/100\n",
      "1539/1539 [==============================] - 9s 6ms/step - loss: 0.4815 - mean_absolute_error: 45.7708 - root_mean_squared_error: 92.8148 - mean_absolute_percentage_error: 41.4501\n",
      "Epoch 58/100\n",
      "1539/1539 [==============================] - 9s 6ms/step - loss: 0.4810 - mean_absolute_error: 45.8042 - root_mean_squared_error: 92.9965 - mean_absolute_percentage_error: 41.8210\n",
      "Epoch 59/100\n",
      "1539/1539 [==============================] - 9s 6ms/step - loss: 0.4805 - mean_absolute_error: 45.7793 - root_mean_squared_error: 92.9894 - mean_absolute_percentage_error: 41.1547A: 2s - loss: 0.4802 - mean_absolute_error: 45.8004 - root_mean_squared_error: 93.0454 - mean\n",
      "Epoch 60/100\n",
      "1539/1539 [==============================] - 9s 6ms/step - loss: 0.4797 - mean_absolute_error: 45.8279 - root_mean_squared_error: 93.2493 - mean_absolute_percentage_error: 41.0397\n",
      "Epoch 61/100\n",
      "1539/1539 [==============================] - 9s 6ms/step - loss: 0.4774 - mean_absolute_error: 45.8060 - root_mean_squared_error: 93.2813 - mean_absolute_percentage_error: 40.9984\n",
      "Epoch 62/100\n",
      "1539/1539 [==============================] - 9s 6ms/step - loss: 0.4769 - mean_absolute_error: 45.7609 - root_mean_squared_error: 93.2036 - mean_absolute_percentage_error: 41.3357\n",
      "Epoch 63/100\n",
      "1539/1539 [==============================] - 9s 6ms/step - loss: 0.4754 - mean_absolute_error: 45.7409 - root_mean_squared_error: 93.2309 - mean_absolute_percentage_error: 41.3639A\n",
      "Epoch 64/100\n",
      "1539/1539 [==============================] - 9s 6ms/step - loss: 0.4753 - mean_absolute_error: 45.7341 - root_mean_squared_error: 93.2878 - mean_absolute_percentage_error: 41.0451\n",
      "Epoch 65/100\n",
      "1539/1539 [==============================] - 9s 6ms/step - loss: 0.4737 - mean_absolute_error: 45.6729 - root_mean_squared_error: 93.2727 - mean_absolute_percentage_error: 41.4409\n",
      "Epoch 66/100\n",
      "1539/1539 [==============================] - 9s 6ms/step - loss: 0.4724 - mean_absolute_error: 45.7471 - root_mean_squared_error: 93.4848 - mean_absolute_percentage_error: 41.2259\n",
      "Epoch 67/100\n",
      "1539/1539 [==============================] - 9s 6ms/step - loss: 0.4714 - mean_absolute_error: 45.7042 - root_mean_squared_error: 93.4343 - mean_absolute_percentage_error: 41.3652\n",
      "Epoch 68/100\n",
      "1539/1539 [==============================] - 9s 6ms/step - loss: 0.4694 - mean_absolute_error: 45.7286 - root_mean_squared_error: 93.5901 - mean_absolute_percentage_error: 41.3228\n",
      "Epoch 69/100\n",
      "1539/1539 [==============================] - 9s 6ms/step - loss: 0.4693 - mean_absolute_error: 45.6310 - root_mean_squared_error: 93.3659 - mean_absolute_percentage_error: 40.8620\n",
      "Epoch 70/100\n",
      "1539/1539 [==============================] - 9s 6ms/step - loss: 0.4683 - mean_absolute_error: 45.5708 - root_mean_squared_error: 93.2510 - mean_absolute_percentage_error: 40.8309\n",
      "Epoch 71/100\n",
      "1539/1539 [==============================] - 9s 6ms/step - loss: 0.4673 - mean_absolute_error: 45.5274 - root_mean_squared_error: 93.2588 - mean_absolute_percentage_error: 40.7200\n",
      "Epoch 72/100\n",
      "1539/1539 [==============================] - 9s 6ms/step - loss: 0.4678 - mean_absolute_error: 45.5411 - root_mean_squared_error: 93.2963 - mean_absolute_percentage_error: 40.8448A: 2s - loss: 0.4673 - mean_absolute_error: 45.4958 - root_mean_squared_error: 93.2562 - mea\n",
      "Epoch 73/100\n",
      "1539/1539 [==============================] - 9s 6ms/step - loss: 0.4666 - mean_absolute_error: 45.5152 - root_mean_squared_error: 93.2696 - mean_absolute_percentage_error: 40.9378\n",
      "Epoch 74/100\n",
      "1539/1539 [==============================] - 9s 6ms/step - loss: 0.4669 - mean_absolute_error: 45.4435 - root_mean_squared_error: 93.0823 - mean_absolute_percentage_error: 40.6800\n",
      "Epoch 75/100\n",
      "1539/1539 [==============================] - 9s 6ms/step - loss: 0.4668 - mean_absolute_error: 45.4944 - root_mean_squared_error: 93.2865 - mean_absolute_percentage_error: 40.5860A: 4s - loss: 0.4667 - mean_absolute_error: 45.5514 - root_mean_squared_error: 93.3385 - mean_absolute_ - ETA: 2s - loss: 0.4668 - mean_absolute_error: 45.5115 - root_mean_squared_error: 93.\n",
      "Epoch 76/100\n",
      "1539/1539 [==============================] - 9s 6ms/step - loss: 0.4670 - mean_absolute_error: 45.4664 - root_mean_squared_error: 93.1512 - mean_absolute_percentage_error: 40.7001A: 4s - loss: 0.4690 - mean_absolute_error: 45.5983 \n",
      "Epoch 77/100\n",
      "1539/1539 [==============================] - 9s 6ms/step - loss: 0.4658 - mean_absolute_error: 45.4397 - root_mean_squared_error: 93.1644 - mean_absolute_percentage_error: 40.5634\n",
      "Epoch 78/100\n",
      "1539/1539 [==============================] - 9s 6ms/step - loss: 0.4651 - mean_absolute_error: 45.3873 - root_mean_squared_error: 93.1007 - mean_absolute_percentage_error: 40.5016\n",
      "Epoch 79/100\n",
      "1539/1539 [==============================] - 9s 6ms/step - loss: 0.4644 - mean_absolute_error: 45.3799 - root_mean_squared_error: 93.0912 - mean_absolute_percentage_error: 40.5175\n",
      "Epoch 80/100\n"
     ]
    },
    {
     "name": "stdout",
     "output_type": "stream",
     "text": [
      "1539/1539 [==============================] - 9s 6ms/step - loss: 0.4647 - mean_absolute_error: 45.3042 - root_mean_squared_error: 92.9286 - mean_absolute_percentage_error: 40.4067\n",
      "Epoch 81/100\n",
      "1539/1539 [==============================] - 9s 6ms/step - loss: 0.4645 - mean_absolute_error: 45.4006 - root_mean_squared_error: 93.2286 - mean_absolute_percentage_error: 40.2053\n",
      "Epoch 82/100\n",
      "1539/1539 [==============================] - 9s 6ms/step - loss: 0.4647 - mean_absolute_error: 45.3400 - root_mean_squared_error: 93.0722 - mean_absolute_percentage_error: 40.4052A: 6s - loss: 0.4640 - mea\n",
      "Epoch 83/100\n",
      "1539/1539 [==============================] - 9s 6ms/step - loss: 0.4634 - mean_absolute_error: 45.2952 - root_mean_squared_error: 93.0131 - mean_absolute_percentage_error: 40.3232\n",
      "Epoch 84/100\n",
      "1539/1539 [==============================] - 9s 6ms/step - loss: 0.4634 - mean_absolute_error: 45.2829 - root_mean_squared_error: 92.9958 - mean_absolute_percentage_error: 40.3693\n",
      "Epoch 85/100\n",
      "1539/1539 [==============================] - 9s 6ms/step - loss: 0.4632 - mean_absolute_error: 45.2625 - root_mean_squared_error: 92.9637 - mean_absolute_percentage_error: 40.2046A: 4s - loss: 0.4641 - mean_absolute_error: 45.3096 - root_mea\n",
      "Epoch 86/100\n",
      "1539/1539 [==============================] - 9s 6ms/step - loss: 0.4634 - mean_absolute_error: 45.2006 - root_mean_squared_error: 92.7688 - mean_absolute_percentage_error: 40.1121A: 3s - loss: 0.4641 - mean_absolute_error: 45.1403 - root_mean_sq\n",
      "Epoch 87/100\n",
      "1539/1539 [==============================] - 9s 6ms/step - loss: 0.4631 - mean_absolute_error: 45.1849 - root_mean_squared_error: 92.7567 - mean_absolute_percentage_error: 40.0572\n",
      "Epoch 88/100\n",
      "1539/1539 [==============================] - 9s 6ms/step - loss: 0.4618 - mean_absolute_error: 45.1869 - root_mean_squared_error: 92.8512 - mean_absolute_percentage_error: 40.0079\n",
      "Epoch 89/100\n",
      "1539/1539 [==============================] - 9s 6ms/step - loss: 0.4616 - mean_absolute_error: 45.1838 - root_mean_squared_error: 92.8554 - mean_absolute_percentage_error: 40.1413\n",
      "Epoch 90/100\n",
      "1539/1539 [==============================] - 9s 6ms/step - loss: 0.4620 - mean_absolute_error: 45.1949 - root_mean_squared_error: 92.8847 - mean_absolute_percentage_error: 40.1293A: 6s - loss: 0.4619 - m\n",
      "Epoch 91/100\n",
      "1539/1539 [==============================] - 9s 6ms/step - loss: 0.4619 - mean_absolute_error: 45.2008 - root_mean_squared_error: 92.8969 - mean_absolute_percentage_error: 40.3529\n",
      "Epoch 92/100\n",
      "1539/1539 [==============================] - 9s 6ms/step - loss: 0.4612 - mean_absolute_error: 45.1605 - root_mean_squared_error: 92.8552 - mean_absolute_percentage_error: 39.9028\n",
      "Epoch 93/100\n",
      "1539/1539 [==============================] - 9s 6ms/step - loss: 0.4608 - mean_absolute_error: 45.1478 - root_mean_squared_error: 92.7848 - mean_absolute_percentage_error: 40.0484\n",
      "Epoch 94/100\n",
      "1539/1539 [==============================] - 9s 6ms/step - loss: 0.4616 - mean_absolute_error: 45.1444 - root_mean_squared_error: 92.7694 - mean_absolute_percentage_error: 39.8989\n",
      "Epoch 95/100\n",
      "1539/1539 [==============================] - 9s 6ms/step - loss: 0.4602 - mean_absolute_error: 45.1107 - root_mean_squared_error: 92.7510 - mean_absolute_percentage_error: 40.0458\n",
      "Epoch 96/100\n",
      "1539/1539 [==============================] - 9s 6ms/step - loss: 0.4598 - mean_absolute_error: 45.1057 - root_mean_squared_error: 92.7568 - mean_absolute_percentage_error: 40.1029\n",
      "Epoch 97/100\n",
      "1539/1539 [==============================] - 9s 6ms/step - loss: 0.4596 - mean_absolute_error: 45.1167 - root_mean_squared_error: 92.8426 - mean_absolute_percentage_error: 39.9868\n",
      "Epoch 98/100\n",
      "1539/1539 [==============================] - 9s 6ms/step - loss: 0.4598 - mean_absolute_error: 45.1385 - root_mean_squared_error: 92.8910 - mean_absolute_percentage_error: 39.9355\n",
      "Epoch 99/100\n",
      "1539/1539 [==============================] - 9s 6ms/step - loss: 0.4600 - mean_absolute_error: 45.2088 - root_mean_squared_error: 93.0758 - mean_absolute_percentage_error: 39.9820\n",
      "Epoch 100/100\n",
      "1539/1539 [==============================] - 9s 6ms/step - loss: 0.4591 - mean_absolute_error: 45.1831 - root_mean_squared_error: 92.9889 - mean_absolute_percentage_error: 39.6137\n"
     ]
    },
    {
     "data": {
      "text/plain": [
       "<keras.callbacks.History at 0x1201dbec520>"
      ]
     },
     "execution_count": 54,
     "metadata": {},
     "output_type": "execute_result"
    }
   ],
   "source": [
    "model15.fit((Wt15,Xt15), yt15, \n",
    "            epochs = 100,\n",
    "            verbose = 1)"
   ]
  },
  {
   "cell_type": "code",
   "execution_count": 55,
   "metadata": {},
   "outputs": [
    {
     "name": "stderr",
     "output_type": "stream",
     "text": [
      "WARNING:absl:Function `_wrapped_model` contains input name(s) WideInput, DeepInput with unsupported characters which will be renamed to wideinput, deepinput in the SavedModel.\n"
     ]
    },
    {
     "name": "stdout",
     "output_type": "stream",
     "text": [
      "INFO:tensorflow:Assets written to: my_dir/8c-15\\assets\n"
     ]
    },
    {
     "name": "stderr",
     "output_type": "stream",
     "text": [
      "INFO:tensorflow:Assets written to: my_dir/8c-15\\assets\n",
      "WARNING:absl:<keras.layers.recurrent.LSTMCell object at 0x000001201DC17BE0> has the same name 'LSTMCell' as a built-in Keras object. Consider renaming <class 'keras.layers.recurrent.LSTMCell'> to avoid naming conflicts when loading with `tf.keras.models.load_model`. If renaming is not possible, pass the object in the `custom_objects` parameter of the load function.\n",
      "WARNING:absl:<keras.layers.recurrent.LSTMCell object at 0x000001200C6FAD60> has the same name 'LSTMCell' as a built-in Keras object. Consider renaming <class 'keras.layers.recurrent.LSTMCell'> to avoid naming conflicts when loading with `tf.keras.models.load_model`. If renaming is not possible, pass the object in the `custom_objects` parameter of the load function.\n",
      "WARNING:absl:<keras.layers.recurrent.LSTMCell object at 0x000001200450DB80> has the same name 'LSTMCell' as a built-in Keras object. Consider renaming <class 'keras.layers.recurrent.LSTMCell'> to avoid naming conflicts when loading with `tf.keras.models.load_model`. If renaming is not possible, pass the object in the `custom_objects` parameter of the load function.\n"
     ]
    }
   ],
   "source": [
    "model15.save(\"my_dir/8c-15\")"
   ]
  },
  {
   "cell_type": "code",
   "execution_count": 56,
   "metadata": {},
   "outputs": [],
   "source": [
    "metrics15 = pd.DataFrame(model15.history.history)"
   ]
  },
  {
   "cell_type": "code",
   "execution_count": 57,
   "metadata": {},
   "outputs": [
    {
     "data": {
      "text/plain": [
       "<AxesSubplot:>"
      ]
     },
     "execution_count": 57,
     "metadata": {},
     "output_type": "execute_result"
    },
    {
     "data": {
      "image/png": "[encoded data removed]",
      "text/plain": [
       "<Figure size 432x288 with 1 Axes>"
      ]
     },
     "metadata": {
      "needs_background": "light"
     },
     "output_type": "display_data"
    }
   ],
   "source": [
    "metrics15[['loss']].plot()"
   ]
  },
  {
   "cell_type": "code",
   "execution_count": 58,
   "metadata": {},
   "outputs": [],
   "source": [
    "model15 = keras.models.load_model(\"my_dir/8c-5\", custom_objects={'custom_loss': custom_loss})"
   ]
  },
  {
   "cell_type": "code",
   "execution_count": 59,
   "metadata": {},
   "outputs": [
    {
     "data": {
      "text/plain": [
       "array([[ 31.264935 ,  19.64991  ,  19.304552 , -10.533635 ,  34.61382  ,\n",
       "          6.2362623],\n",
       "       [ 29.700733 ,  17.959633 ,  18.573256 , -10.495458 ,  34.299274 ,\n",
       "          6.1963515],\n",
       "       [ 29.723057 ,  17.868368 ,  17.269934 ,  -9.646727 ,  32.324917 ,\n",
       "          5.99601  ],\n",
       "       ...,\n",
       "       [ 50.592964 ,  48.080578 ,  73.54753  , -27.856344 ,  58.951893 ,\n",
       "          6.8320208],\n",
       "       [ 48.13155  ,  44.384895 ,  72.21135  , -26.370714 ,  56.564537 ,\n",
       "          6.4021935],\n",
       "       [ 44.023434 ,  38.88681  ,  68.81243  , -22.87929  ,  51.194366 ,\n",
       "          4.891654 ]], dtype=float32)"
      ]
     },
     "execution_count": 59,
     "metadata": {},
     "output_type": "execute_result"
    }
   ],
   "source": [
    "model15.predict((Wv15,Xv15))"
   ]
  },
  {
   "cell_type": "markdown",
   "metadata": {},
   "source": [
    "### Evaluation on inverse_transform"
   ]
  },
  {
   "cell_type": "code",
   "execution_count": null,
   "metadata": {},
   "outputs": [],
   "source": [
    "test_predictions15 = model15.predict((Wv15,Xv15))\n",
    "\n",
    "\n",
    "MSE15 = mean_squared_error(yv15,test_predictions15)\n",
    "\n",
    "MAE15 = mean_absolute_error(yv15,test_predictions15)\n",
    "\n",
    "RMSE15 = np.sqrt(MSE15)\n",
    "\n",
    "MAPE15 = mean_absolute_percentage_error(yv15,test_predictions15)*100\n",
    "\n",
    "eval15 = [MSE15, MAE15, RMSE15, MAPE15]\n",
    "print(eval15)"
   ]
  },
  {
   "cell_type": "code",
   "execution_count": null,
   "metadata": {},
   "outputs": [],
   "source": [
    "GEH, count = ga.GEH(np.asarray(yv15), np.asarray(test_predictions15))\n",
    "GEH15 = count/GEH.size\n",
    "print(GEH15)"
   ]
  },
  {
   "cell_type": "markdown",
   "metadata": {},
   "source": [
    "# 30 mins ahead"
   ]
  },
  {
   "cell_type": "code",
   "execution_count": 62,
   "metadata": {},
   "outputs": [],
   "source": [
    "def build_model_30(hp):\n",
    "    # Inputs\n",
    "    channel_Wide = keras.layers.Input(shape=Wt30.shape[1:], name=\"WideInput\")\n",
    "    channel_Deep = keras.layers.Input(shape=Xt30.shape[1:], name=\"DeepInput\")\n",
    "    units = hp.Int(\"units\", min_value=1, max_value=100, step=1)\n",
    "    \n",
    "    \n",
    "    # Wide Model\n",
    "    flatten_30w = keras.layers.TimeDistributed(keras.layers.Flatten())(channel_Wide)\n",
    "    Bi_30 = keras.layers.Bidirectional(\n",
    "        keras.layers.LSTM(units=units, activation='relu', return_sequences=True),\n",
    "        merge_mode=\"ave\"\n",
    "    )(flatten_30w)\n",
    "    \n",
    "    \n",
    "    # Deep Model\n",
    "    # CNN \n",
    "    CNN_30 = keras.layers.TimeDistributed(\n",
    "        keras.layers.Conv2D(filters=hp.Int(\"filters\", min_value=32, max_value=512, step=32),\n",
    "                            kernel_size=hp.Choice(\"kernel_size\", [2, 3]), activation='relu'))(channel_Deep)\n",
    "    flatten_30 = keras.layers.TimeDistributed(keras.layers.Flatten())(CNN_30)\n",
    "    # LSTM          \n",
    "    LSTM_30 = keras.layers.LSTM(units=units, activation='relu', return_sequences=True)(flatten_30)\n",
    "\n",
    "    \n",
    "    # Concatenation \n",
    "    concat = keras.layers.concatenate([Bi_30, LSTM_30], axis=1)\n",
    "\n",
    "    # Attention\n",
    "    Att_30 = SeqSelfAttention(attention_activation='sigmoid')(concat)\n",
    "    merge = keras.layers.Flatten()(Att_30)\n",
    "\n",
    "    \n",
    "    # Output\n",
    "    output = keras.layers.Dense(n_features, name= \"output\")(merge)\n",
    "    \n",
    "    # Model\n",
    "    model_30 = keras.Model(inputs=[channel_Wide,channel_Deep], outputs=[output])\n",
    "\n",
    "    # Compile\n",
    "    model_30.compile(optimizer=keras.optimizers.Adam(hp.Choice(\"learning_rate\", [1e-2, 1e-3, 1e-4])), \n",
    "        loss=custom_loss, metrics=['MeanAbsoluteError','RootMeanSquaredError','MeanAbsolutePercentageError'])\n",
    "                    \n",
    "    return model_30"
   ]
  },
  {
   "cell_type": "code",
   "execution_count": 63,
   "metadata": {},
   "outputs": [],
   "source": [
    "tuner30 = RandomSearch(\n",
    "    build_model_30,\n",
    "    objective=\"val_loss\",\n",
    "    max_trials=60,\n",
    "    executions_per_trial=2,\n",
    "    overwrite=True,\n",
    "    directory=os.path.normpath('C:/RunsOak'),\n",
    "    project_name=\"8c-30\",\n",
    ")"
   ]
  },
  {
   "cell_type": "code",
   "execution_count": 64,
   "metadata": {},
   "outputs": [
    {
     "name": "stdout",
     "output_type": "stream",
     "text": [
      "Search space summary\n",
      "Default search space size: 4\n",
      "units (Int)\n",
      "{'default': None, 'conditions': [], 'min_value': 1, 'max_value': 100, 'step': 1, 'sampling': None}\n",
      "filters (Int)\n",
      "{'default': None, 'conditions': [], 'min_value': 32, 'max_value': 512, 'step': 32, 'sampling': None}\n",
      "kernel_size (Choice)\n",
      "{'default': 2, 'conditions': [], 'values': [2, 3], 'ordered': True}\n",
      "learning_rate (Choice)\n",
      "{'default': 0.01, 'conditions': [], 'values': [0.01, 0.001, 0.0001], 'ordered': True}\n"
     ]
    }
   ],
   "source": [
    "tuner30.search_space_summary()"
   ]
  },
  {
   "cell_type": "code",
   "execution_count": 65,
   "metadata": {},
   "outputs": [
    {
     "name": "stdout",
     "output_type": "stream",
     "text": [
      "Trial 60 Complete [00h 32m 49s]\n",
      "val_loss: 0.41434861719608307\n",
      "\n",
      "Best val_loss So Far: 0.3952670693397522\n",
      "Total elapsed time: 13h 46m 35s\n",
      "INFO:tensorflow:Oracle triggered exit\n"
     ]
    },
    {
     "name": "stderr",
     "output_type": "stream",
     "text": [
      "INFO:tensorflow:Oracle triggered exit\n"
     ]
    }
   ],
   "source": [
    "tuner30.search((Wt30,Xt30), yt30, epochs=200,\n",
    "            validation_split = val_percent,\n",
    "            callbacks=[early_stop],\n",
    "            verbose=2)"
   ]
  },
  {
   "cell_type": "code",
   "execution_count": 66,
   "metadata": {},
   "outputs": [
    {
     "name": "stdout",
     "output_type": "stream",
     "text": [
      "Results summary\n",
      "Results in C:\\RunsOak\\8c-30\n",
      "Showing 1 best trials\n",
      "Objective(name='val_loss', direction='min')\n",
      "Trial summary\n",
      "Hyperparameters:\n",
      "units: 45\n",
      "filters: 224\n",
      "kernel_size: 3\n",
      "learning_rate: 0.01\n",
      "Score: 0.3952670693397522\n"
     ]
    }
   ],
   "source": [
    "tuner30.results_summary(1)"
   ]
  },
  {
   "cell_type": "markdown",
   "metadata": {},
   "source": [
    "### Best model"
   ]
  },
  {
   "cell_type": "code",
   "execution_count": 67,
   "metadata": {},
   "outputs": [],
   "source": [
    "best_hp30 = tuner30.get_best_hyperparameters()[0]\n",
    "model30 = tuner30.hypermodel.build(best_hp5)"
   ]
  },
  {
   "cell_type": "code",
   "execution_count": 68,
   "metadata": {},
   "outputs": [
    {
     "data": {
      "text/plain": [
       "['8c-30']"
      ]
     },
     "execution_count": 68,
     "metadata": {},
     "output_type": "execute_result"
    }
   ],
   "source": [
    "scaler_filename = \"8c-30\"\n",
    "joblib.dump(best_hp30, scaler_filename) "
   ]
  },
  {
   "cell_type": "code",
   "execution_count": 69,
   "metadata": {},
   "outputs": [
    {
     "name": "stdout",
     "output_type": "stream",
     "text": [
      "Model: \"model_1\"\n",
      "__________________________________________________________________________________________________\n",
      " Layer (type)                   Output Shape         Param #     Connected to                     \n",
      "==================================================================================================\n",
      " DeepInput (InputLayer)         [(None, 3, 5, 6, 1)  0           []                               \n",
      "                                ]                                                                 \n",
      "                                                                                                  \n",
      " WideInput (InputLayer)         [(None, 3, 3, 6, 1)  0           []                               \n",
      "                                ]                                                                 \n",
      "                                                                                                  \n",
      " time_distributed_4 (TimeDistri  (None, 3, 3, 4, 384  3840       ['DeepInput[0][0]']              \n",
      " buted)                         )                                                                 \n",
      "                                                                                                  \n",
      " time_distributed_3 (TimeDistri  (None, 3, 18)       0           ['WideInput[0][0]']              \n",
      " buted)                                                                                           \n",
      "                                                                                                  \n",
      " time_distributed_5 (TimeDistri  (None, 3, 4608)     0           ['time_distributed_4[0][0]']     \n",
      " buted)                                                                                           \n",
      "                                                                                                  \n",
      " bidirectional_1 (Bidirectional  (None, 3, 4)        736         ['time_distributed_3[0][0]']     \n",
      " )                                                                                                \n",
      "                                                                                                  \n",
      " lstm_3 (LSTM)                  (None, 3, 4)         73808       ['time_distributed_5[0][0]']     \n",
      "                                                                                                  \n",
      " concatenate_1 (Concatenate)    (None, 6, 4)         0           ['bidirectional_1[0][0]',        \n",
      "                                                                  'lstm_3[0][0]']                 \n",
      "                                                                                                  \n",
      " seq_self_attention_1 (SeqSelfA  (None, 6, 4)        321         ['concatenate_1[0][0]']          \n",
      " ttention)                                                                                        \n",
      "                                                                                                  \n",
      " flatten_5 (Flatten)            (None, 24)           0           ['seq_self_attention_1[0][0]']   \n",
      "                                                                                                  \n",
      " output (Dense)                 (None, 6)            150         ['flatten_5[0][0]']              \n",
      "                                                                                                  \n",
      "==================================================================================================\n",
      "Total params: 78,855\n",
      "Trainable params: 78,855\n",
      "Non-trainable params: 0\n",
      "__________________________________________________________________________________________________\n"
     ]
    }
   ],
   "source": [
    "model30.summary()"
   ]
  },
  {
   "cell_type": "code",
   "execution_count": 70,
   "metadata": {},
   "outputs": [
    {
     "name": "stdout",
     "output_type": "stream",
     "text": [
      "Epoch 1/100\n",
      "1539/1539 [==============================] - 13s 7ms/step - loss: 0.9993 - mean_absolute_error: 144.9458 - root_mean_squared_error: 177.3962 - mean_absolute_percentage_error: 99.9203\n",
      "Epoch 2/100\n",
      "1539/1539 [==============================] - 11s 7ms/step - loss: 0.9993 - mean_absolute_error: 144.8491 - root_mean_squared_error: 177.3049 - mean_absolute_percentage_error: 99.6966\n",
      "Epoch 3/100\n",
      "1539/1539 [==============================] - 11s 7ms/step - loss: 0.9453 - mean_absolute_error: 134.4908 - root_mean_squared_error: 167.4065 - mean_absolute_percentage_error: 88.2415\n",
      "Epoch 4/100\n",
      "1539/1539 [==============================] - 11s 7ms/step - loss: 0.9254 - mean_absolute_error: 125.2014 - root_mean_squared_error: 159.7020 - mean_absolute_percentage_error: 80.4172\n",
      "Epoch 5/100\n",
      "1539/1539 [==============================] - 11s 7ms/step - loss: 0.7834 - mean_absolute_error: 90.0675 - root_mean_squared_error: 130.8263 - mean_absolute_percentage_error: 56.8064\n",
      "Epoch 6/100\n",
      "1539/1539 [==============================] - 11s 7ms/step - loss: 0.7481 - mean_absolute_error: 82.7392 - root_mean_squared_error: 124.0663 - mean_absolute_percentage_error: 51.9177\n",
      "Epoch 7/100\n",
      "1539/1539 [==============================] - 11s 7ms/step - loss: 0.7328 - mean_absolute_error: 79.5875 - root_mean_squared_error: 120.4144 - mean_absolute_percentage_error: 50.6455\n",
      "Epoch 8/100\n",
      "1539/1539 [==============================] - 11s 7ms/step - loss: 0.7258 - mean_absolute_error: 78.6212 - root_mean_squared_error: 118.9543 - mean_absolute_percentage_error: 50.0564\n",
      "Epoch 9/100\n",
      "1539/1539 [==============================] - 11s 7ms/step - loss: 0.7217 - mean_absolute_error: 77.4813 - root_mean_squared_error: 116.8539 - mean_absolute_percentage_error: 49.3453\n",
      "Epoch 10/100\n",
      "1539/1539 [==============================] - 11s 7ms/step - loss: 0.7200 - mean_absolute_error: 76.1523 - root_mean_squared_error: 114.3955 - mean_absolute_percentage_error: 48.5743\n",
      "Epoch 11/100\n",
      "1539/1539 [==============================] - 11s 7ms/step - loss: 0.7168 - mean_absolute_error: 73.6564 - root_mean_squared_error: 110.0120 - mean_absolute_percentage_error: 47.3750\n",
      "Epoch 12/100\n",
      "1539/1539 [==============================] - 11s 7ms/step - loss: 0.7070 - mean_absolute_error: 67.6559 - root_mean_squared_error: 100.9652 - mean_absolute_percentage_error: 45.0190\n",
      "Epoch 13/100\n",
      "1539/1539 [==============================] - 11s 7ms/step - loss: 0.6660 - mean_absolute_error: 57.5109 - root_mean_squared_error: 88.6769 - mean_absolute_percentage_error: 40.9941\n",
      "Epoch 14/100\n",
      "1539/1539 [==============================] - 11s 7ms/step - loss: 0.6503 - mean_absolute_error: 53.6058 - root_mean_squared_error: 83.4271 - mean_absolute_percentage_error: 39.1506\n",
      "Epoch 15/100\n",
      "1539/1539 [==============================] - 11s 7ms/step - loss: 0.6472 - mean_absolute_error: 53.1145 - root_mean_squared_error: 82.5898 - mean_absolute_percentage_error: 38.8280\n",
      "Epoch 16/100\n",
      "1539/1539 [==============================] - 11s 7ms/step - loss: 0.6449 - mean_absolute_error: 52.9476 - root_mean_squared_error: 82.3455 - mean_absolute_percentage_error: 38.7743\n",
      "Epoch 17/100\n",
      "1539/1539 [==============================] - 11s 7ms/step - loss: 0.6436 - mean_absolute_error: 52.8954 - root_mean_squared_error: 82.3593 - mean_absolute_percentage_error: 38.6440\n",
      "Epoch 18/100\n",
      "1539/1539 [==============================] - 11s 7ms/step - loss: 0.6417 - mean_absolute_error: 52.8683 - root_mean_squared_error: 82.3736 - mean_absolute_percentage_error: 38.5613\n",
      "Epoch 19/100\n",
      "1539/1539 [==============================] - 11s 7ms/step - loss: 0.6391 - mean_absolute_error: 52.7984 - root_mean_squared_error: 82.4183 - mean_absolute_percentage_error: 38.4228\n",
      "Epoch 20/100\n",
      "1539/1539 [==============================] - 11s 7ms/step - loss: 0.6380 - mean_absolute_error: 52.5798 - root_mean_squared_error: 82.0516 - mean_absolute_percentage_error: 38.3390\n",
      "Epoch 21/100\n",
      "1539/1539 [==============================] - 11s 7ms/step - loss: 0.6358 - mean_absolute_error: 52.6507 - root_mean_squared_error: 82.2914 - mean_absolute_percentage_error: 38.2087\n",
      "Epoch 22/100\n",
      "1539/1539 [==============================] - 11s 7ms/step - loss: 0.6335 - mean_absolute_error: 52.5547 - root_mean_squared_error: 82.2873 - mean_absolute_percentage_error: 38.0811\n",
      "Epoch 23/100\n",
      "1539/1539 [==============================] - 11s 7ms/step - loss: 0.6316 - mean_absolute_error: 52.2919 - root_mean_squared_error: 81.8509 - mean_absolute_percentage_error: 37.9723\n",
      "Epoch 24/100\n",
      "1539/1539 [==============================] - 11s 7ms/step - loss: 0.6293 - mean_absolute_error: 52.1693 - root_mean_squared_error: 81.8103 - mean_absolute_percentage_error: 37.8475\n",
      "Epoch 25/100\n",
      "1539/1539 [==============================] - 11s 7ms/step - loss: 0.6275 - mean_absolute_error: 51.9854 - root_mean_squared_error: 81.5815 - mean_absolute_percentage_error: 37.7371\n",
      "Epoch 26/100\n",
      "1539/1539 [==============================] - 11s 7ms/step - loss: 0.6252 - mean_absolute_error: 51.9355 - root_mean_squared_error: 81.5919 - mean_absolute_percentage_error: 37.6380\n",
      "Epoch 27/100\n",
      "1539/1539 [==============================] - 11s 7ms/step - loss: 0.6237 - mean_absolute_error: 51.6785 - root_mean_squared_error: 81.1971 - mean_absolute_percentage_error: 37.5413: 1s - loss: 0.6242 - mean_absolute_error: 51.7185 - root_mean_squared_error: 81.2166 - mean_absolute_perc\n",
      "Epoch 28/100\n",
      "1539/1539 [==============================] - 11s 7ms/step - loss: 0.6212 - mean_absolute_error: 51.6823 - root_mean_squared_error: 81.3829 - mean_absolute_percentage_error: 37.4687\n",
      "Epoch 29/100\n",
      "1539/1539 [==============================] - 11s 7ms/step - loss: 0.6193 - mean_absolute_error: 51.3587 - root_mean_squared_error: 80.9027 - mean_absolute_percentage_error: 37.3651\n",
      "Epoch 30/100\n",
      "1539/1539 [==============================] - 11s 7ms/step - loss: 0.6163 - mean_absolute_error: 51.3054 - root_mean_squared_error: 80.9754 - mean_absolute_percentage_error: 37.2452\n",
      "Epoch 31/100\n",
      "1539/1539 [==============================] - 11s 7ms/step - loss: 0.6142 - mean_absolute_error: 50.9451 - root_mean_squared_error: 80.4178 - mean_absolute_percentage_error: 37.1354\n",
      "Epoch 32/100\n",
      "1539/1539 [==============================] - 11s 7ms/step - loss: 0.6118 - mean_absolute_error: 50.8271 - root_mean_squared_error: 80.3030 - mean_absolute_percentage_error: 37.0623\n",
      "Epoch 33/100\n",
      "1539/1539 [==============================] - 11s 7ms/step - loss: 0.6097 - mean_absolute_error: 50.6616 - root_mean_squared_error: 80.1954 - mean_absolute_percentage_error: 36.9608\n",
      "Epoch 34/100\n",
      "1539/1539 [==============================] - 11s 7ms/step - loss: 0.6074 - mean_absolute_error: 50.2831 - root_mean_squared_error: 79.6741 - mean_absolute_percentage_error: 36.8226\n",
      "Epoch 35/100\n",
      "1539/1539 [==============================] - 11s 7ms/step - loss: 0.6047 - mean_absolute_error: 50.1663 - root_mean_squared_error: 79.6235 - mean_absolute_percentage_error: 36.7097: 0s - loss: 0.6045 - mean_absolute_error: 50.1928 - root_mean_squared_error: 79.6644 - mean_absolute_percentag\n",
      "Epoch 36/100\n",
      "1539/1539 [==============================] - 11s 7ms/step - loss: 0.6027 - mean_absolute_error: 49.7372 - root_mean_squared_error: 78.9842 - mean_absolute_percentage_error: 36.5834\n",
      "Epoch 37/100\n",
      "1539/1539 [==============================] - 11s 7ms/step - loss: 0.5998 - mean_absolute_error: 49.6367 - root_mean_squared_error: 78.9908 - mean_absolute_percentage_error: 36.4645\n",
      "Epoch 38/100\n",
      "1539/1539 [==============================] - 11s 7ms/step - loss: 0.5978 - mean_absolute_error: 49.3604 - root_mean_squared_error: 78.6394 - mean_absolute_percentage_error: 36.4053\n",
      "Epoch 39/100\n",
      "1539/1539 [==============================] - 11s 7ms/step - loss: 0.5953 - mean_absolute_error: 49.1296 - root_mean_squared_error: 78.3866 - mean_absolute_percentage_error: 36.2737\n",
      "Epoch 40/100\n",
      "1539/1539 [==============================] - 11s 7ms/step - loss: 0.5930 - mean_absolute_error: 48.8241 - root_mean_squared_error: 78.0103 - mean_absolute_percentage_error: 36.1293\n",
      "Epoch 41/100\n",
      "1539/1539 [==============================] - 11s 7ms/step - loss: 0.5902 - mean_absolute_error: 48.6492 - root_mean_squared_error: 77.8914 - mean_absolute_percentage_error: 35.9641\n",
      "Epoch 42/100\n",
      "1539/1539 [==============================] - 11s 7ms/step - loss: 0.5874 - mean_absolute_error: 48.2652 - root_mean_squared_error: 77.3490 - mean_absolute_percentage_error: 35.8105\n",
      "Epoch 43/100\n",
      "1539/1539 [==============================] - 11s 7ms/step - loss: 0.5858 - mean_absolute_error: 48.1148 - root_mean_squared_error: 77.2237 - mean_absolute_percentage_error: 35.6733\n",
      "Epoch 44/100\n",
      "1539/1539 [==============================] - 11s 7ms/step - loss: 0.5837 - mean_absolute_error: 47.7481 - root_mean_squared_error: 76.6758 - mean_absolute_percentage_error: 35.5594\n",
      "Epoch 45/100\n",
      "1539/1539 [==============================] - 11s 7ms/step - loss: 0.5817 - mean_absolute_error: 47.4457 - root_mean_squared_error: 76.3337 - mean_absolute_percentage_error: 35.4015\n",
      "Epoch 46/100\n",
      "1539/1539 [==============================] - 11s 7ms/step - loss: 0.5796 - mean_absolute_error: 47.1787 - root_mean_squared_error: 76.0127 - mean_absolute_percentage_error: 35.2523\n",
      "Epoch 47/100\n",
      "1539/1539 [==============================] - 11s 7ms/step - loss: 0.5777 - mean_absolute_error: 46.8621 - root_mean_squared_error: 75.5794 - mean_absolute_percentage_error: 35.0696\n",
      "Epoch 48/100\n",
      "1539/1539 [==============================] - 11s 7ms/step - loss: 0.5757 - mean_absolute_error: 46.5441 - root_mean_squared_error: 75.1794 - mean_absolute_percentage_error: 34.9028\n",
      "Epoch 49/100\n",
      "1539/1539 [==============================] - 11s 7ms/step - loss: 0.5736 - mean_absolute_error: 46.2552 - root_mean_squared_error: 74.7799 - mean_absolute_percentage_error: 34.7604: 4s - loss: 0.5746 - mean_absolute_error: 46.24\n",
      "Epoch 50/100\n",
      "1539/1539 [==============================] - 11s 7ms/step - loss: 0.5720 - mean_absolute_error: 46.1279 - root_mean_squared_error: 74.6594 - mean_absolute_percentage_error: 34.6275\n",
      "Epoch 51/100\n",
      "1539/1539 [==============================] - 11s 7ms/step - loss: 0.5700 - mean_absolute_error: 45.9034 - root_mean_squared_error: 74.3618 - mean_absolute_percentage_error: 34.4974\n",
      "Epoch 52/100\n",
      "1539/1539 [==============================] - 11s 7ms/step - loss: 0.5679 - mean_absolute_error: 45.6976 - root_mean_squared_error: 74.0694 - mean_absolute_percentage_error: 34.4274\n",
      "Epoch 53/100\n",
      "1539/1539 [==============================] - 11s 7ms/step - loss: 0.5668 - mean_absolute_error: 45.6948 - root_mean_squared_error: 74.1333 - mean_absolute_percentage_error: 34.3811\n",
      "Epoch 54/100\n",
      "1539/1539 [==============================] - 11s 7ms/step - loss: 0.5647 - mean_absolute_error: 45.5105 - root_mean_squared_error: 73.9042 - mean_absolute_percentage_error: 34.3243\n",
      "Epoch 55/100\n",
      "1539/1539 [==============================] - 11s 7ms/step - loss: 0.5625 - mean_absolute_error: 45.2497 - root_mean_squared_error: 73.5354 - mean_absolute_percentage_error: 34.2221: 1s - loss: 0.5623 - mean_absolute_error: 45.1938 - root_mean_squared_error: 73.4854 - mean_absol\n",
      "Epoch 56/100\n",
      "1539/1539 [==============================] - 11s 7ms/step - loss: 0.5605 - mean_absolute_error: 45.0635 - root_mean_squared_error: 73.2917 - mean_absolute_percentage_error: 34.0692\n",
      "Epoch 57/100\n",
      "1539/1539 [==============================] - 11s 7ms/step - loss: 0.5583 - mean_absolute_error: 44.8664 - root_mean_squared_error: 73.0385 - mean_absolute_percentage_error: 34.0090\n",
      "Epoch 58/100\n",
      "1539/1539 [==============================] - 11s 7ms/step - loss: 0.5565 - mean_absolute_error: 44.6033 - root_mean_squared_error: 72.6115 - mean_absolute_percentage_error: 33.8866\n",
      "Epoch 59/100\n",
      "1539/1539 [==============================] - 11s 7ms/step - loss: 0.5550 - mean_absolute_error: 44.4914 - root_mean_squared_error: 72.4636 - mean_absolute_percentage_error: 33.7766\n",
      "Epoch 60/100\n",
      "1539/1539 [==============================] - 11s 7ms/step - loss: 0.5538 - mean_absolute_error: 44.0971 - root_mean_squared_error: 71.7898 - mean_absolute_percentage_error: 33.6391\n",
      "Epoch 61/100\n",
      "1539/1539 [==============================] - 11s 7ms/step - loss: 0.5528 - mean_absolute_error: 43.8890 - root_mean_squared_error: 71.4694 - mean_absolute_percentage_error: 33.4979\n",
      "Epoch 62/100\n",
      "1539/1539 [==============================] - 11s 7ms/step - loss: 0.5518 - mean_absolute_error: 43.7384 - root_mean_squared_error: 71.2254 - mean_absolute_percentage_error: 33.4070\n",
      "Epoch 63/100\n",
      "1539/1539 [==============================] - 11s 7ms/step - loss: 0.5504 - mean_absolute_error: 43.5484 - root_mean_squared_error: 70.9408 - mean_absolute_percentage_error: 33.3342\n",
      "Epoch 64/100\n",
      "1539/1539 [==============================] - 11s 7ms/step - loss: 0.5493 - mean_absolute_error: 43.3160 - root_mean_squared_error: 70.5182 - mean_absolute_percentage_error: 33.2056\n",
      "Epoch 65/100\n",
      "1539/1539 [==============================] - 11s 7ms/step - loss: 0.5487 - mean_absolute_error: 43.0204 - root_mean_squared_error: 70.0337 - mean_absolute_percentage_error: 33.0883\n",
      "Epoch 66/100\n",
      "1539/1539 [==============================] - 11s 7ms/step - loss: 0.5481 - mean_absolute_error: 42.8979 - root_mean_squared_error: 69.8046 - mean_absolute_percentage_error: 33.0543\n",
      "Epoch 67/100\n",
      "1539/1539 [==============================] - 11s 7ms/step - loss: 0.5464 - mean_absolute_error: 42.5550 - root_mean_squared_error: 69.2341 - mean_absolute_percentage_error: 32.9200: 2s - loss: 0.5455 - mean_absolute_error: 42.4883 - root_mean_squared_error: 69.1645 - mean\n",
      "Epoch 68/100\n",
      "1539/1539 [==============================] - 11s 7ms/step - loss: 0.5464 - mean_absolute_error: 42.3382 - root_mean_squared_error: 68.8601 - mean_absolute_percentage_error: 32.8075\n",
      "Epoch 69/100\n",
      "1539/1539 [==============================] - 11s 7ms/step - loss: 0.5451 - mean_absolute_error: 42.0212 - root_mean_squared_error: 68.2843 - mean_absolute_percentage_error: 32.7490\n",
      "Epoch 70/100\n",
      "1539/1539 [==============================] - 11s 7ms/step - loss: 0.5440 - mean_absolute_error: 41.6626 - root_mean_squared_error: 67.6773 - mean_absolute_percentage_error: 32.5327\n",
      "Epoch 71/100\n",
      "1539/1539 [==============================] - 11s 7ms/step - loss: 0.5430 - mean_absolute_error: 41.4633 - root_mean_squared_error: 67.3197 - mean_absolute_percentage_error: 32.5101\n",
      "Epoch 72/100\n",
      "1539/1539 [==============================] - 11s 7ms/step - loss: 0.5433 - mean_absolute_error: 41.1059 - root_mean_squared_error: 66.7229 - mean_absolute_percentage_error: 32.3730\n",
      "Epoch 73/100\n",
      "1539/1539 [==============================] - 11s 7ms/step - loss: 0.5420 - mean_absolute_error: 40.7074 - root_mean_squared_error: 66.0435 - mean_absolute_percentage_error: 32.1529\n",
      "Epoch 74/100\n",
      "1539/1539 [==============================] - 11s 7ms/step - loss: 0.5411 - mean_absolute_error: 40.2274 - root_mean_squared_error: 65.2166 - mean_absolute_percentage_error: 32.0368\n",
      "Epoch 75/100\n",
      "1539/1539 [==============================] - 11s 7ms/step - loss: 0.5403 - mean_absolute_error: 39.6643 - root_mean_squared_error: 64.2721 - mean_absolute_percentage_error: 31.8939\n",
      "Epoch 76/100\n",
      "1539/1539 [==============================] - 11s 7ms/step - loss: 0.5394 - mean_absolute_error: 38.6720 - root_mean_squared_error: 62.6575 - mean_absolute_percentage_error: 31.5945\n",
      "Epoch 77/100\n",
      "1539/1539 [==============================] - 11s 7ms/step - loss: 0.5371 - mean_absolute_error: 37.0030 - root_mean_squared_error: 60.0909 - mean_absolute_percentage_error: 31.2915\n",
      "Epoch 78/100\n",
      "1539/1539 [==============================] - 11s 7ms/step - loss: 0.5118 - mean_absolute_error: 32.1118 - root_mean_squared_error: 54.0138 - mean_absolute_percentage_error: 33.3068\n",
      "Epoch 79/100\n",
      "1539/1539 [==============================] - 11s 7ms/step - loss: 0.4978 - mean_absolute_error: 30.9361 - root_mean_squared_error: 52.6741 - mean_absolute_percentage_error: 34.8657\n",
      "Epoch 80/100\n",
      "1539/1539 [==============================] - 11s 7ms/step - loss: 0.4964 - mean_absolute_error: 30.8961 - root_mean_squared_error: 52.6528 - mean_absolute_percentage_error: 34.5964\n",
      "Epoch 81/100\n",
      "1539/1539 [==============================] - 11s 7ms/step - loss: 0.4958 - mean_absolute_error: 30.8113 - root_mean_squared_error: 52.5879 - mean_absolute_percentage_error: 34.3994\n",
      "Epoch 82/100\n",
      "1539/1539 [==============================] - 11s 7ms/step - loss: 0.4949 - mean_absolute_error: 30.7655 - root_mean_squared_error: 52.5603 - mean_absolute_percentage_error: 34.0686\n",
      "Epoch 83/100\n"
     ]
    },
    {
     "name": "stdout",
     "output_type": "stream",
     "text": [
      "1539/1539 [==============================] - 11s 7ms/step - loss: 0.4936 - mean_absolute_error: 30.6547 - root_mean_squared_error: 52.4462 - mean_absolute_percentage_error: 33.6059\n",
      "Epoch 84/100\n",
      "1539/1539 [==============================] - 11s 7ms/step - loss: 0.4927 - mean_absolute_error: 30.6323 - root_mean_squared_error: 52.5229 - mean_absolute_percentage_error: 33.1727\n",
      "Epoch 85/100\n",
      "1539/1539 [==============================] - 11s 7ms/step - loss: 0.4910 - mean_absolute_error: 30.5309 - root_mean_squared_error: 52.4578 - mean_absolute_percentage_error: 32.8371\n",
      "Epoch 86/100\n",
      "1539/1539 [==============================] - 11s 7ms/step - loss: 0.4897 - mean_absolute_error: 30.3847 - root_mean_squared_error: 52.3139 - mean_absolute_percentage_error: 32.1435\n",
      "Epoch 87/100\n",
      "1539/1539 [==============================] - 11s 7ms/step - loss: 0.4876 - mean_absolute_error: 30.3087 - root_mean_squared_error: 52.2194 - mean_absolute_percentage_error: 30.9704\n",
      "Epoch 88/100\n",
      "1539/1539 [==============================] - 11s 7ms/step - loss: 0.4827 - mean_absolute_error: 30.2535 - root_mean_squared_error: 52.2893 - mean_absolute_percentage_error: 29.9031\n",
      "Epoch 89/100\n",
      "1539/1539 [==============================] - 11s 7ms/step - loss: 0.4792 - mean_absolute_error: 30.1854 - root_mean_squared_error: 52.2308 - mean_absolute_percentage_error: 29.3837\n",
      "Epoch 90/100\n",
      "1539/1539 [==============================] - 11s 7ms/step - loss: 0.4757 - mean_absolute_error: 30.1514 - root_mean_squared_error: 52.2656 - mean_absolute_percentage_error: 29.1190\n",
      "Epoch 91/100\n",
      "1539/1539 [==============================] - 11s 7ms/step - loss: 0.4742 - mean_absolute_error: 30.0555 - root_mean_squared_error: 52.1143 - mean_absolute_percentage_error: 29.0088\n",
      "Epoch 92/100\n",
      "1539/1539 [==============================] - 11s 7ms/step - loss: 0.4728 - mean_absolute_error: 30.0625 - root_mean_squared_error: 52.1843 - mean_absolute_percentage_error: 28.9288\n",
      "Epoch 93/100\n",
      " 282/1539 [====>.........................] - ETA: 8s - loss: 0.4735 - mean_absolute_error: 29.9765 - root_mean_squared_error: 51.8983 - mean_absolute_percentage_error: 28.3437"
     ]
    },
    {
     "ename": "KeyboardInterrupt",
     "evalue": "",
     "output_type": "error",
     "traceback": [
      "\u001b[1;31m---------------------------------------------------------------------------\u001b[0m",
      "\u001b[1;31mKeyboardInterrupt\u001b[0m                         Traceback (most recent call last)",
      "\u001b[1;32m~\\AppData\\Local\\Temp/ipykernel_8324/3868495737.py\u001b[0m in \u001b[0;36m<module>\u001b[1;34m\u001b[0m\n\u001b[1;32m----> 1\u001b[1;33m model30.fit((Wt30,Xt30), yt30, \n\u001b[0m\u001b[0;32m      2\u001b[0m             \u001b[0mepochs\u001b[0m \u001b[1;33m=\u001b[0m \u001b[1;36m100\u001b[0m\u001b[1;33m,\u001b[0m\u001b[1;33m\u001b[0m\u001b[1;33m\u001b[0m\u001b[0m\n\u001b[0;32m      3\u001b[0m             verbose = 1)\n",
      "\u001b[1;32m~\\anaconda3\\envs\\my_env\\lib\\site-packages\\keras\\utils\\traceback_utils.py\u001b[0m in \u001b[0;36merror_handler\u001b[1;34m(*args, **kwargs)\u001b[0m\n\u001b[0;32m     62\u001b[0m     \u001b[0mfiltered_tb\u001b[0m \u001b[1;33m=\u001b[0m \u001b[1;32mNone\u001b[0m\u001b[1;33m\u001b[0m\u001b[1;33m\u001b[0m\u001b[0m\n\u001b[0;32m     63\u001b[0m     \u001b[1;32mtry\u001b[0m\u001b[1;33m:\u001b[0m\u001b[1;33m\u001b[0m\u001b[1;33m\u001b[0m\u001b[0m\n\u001b[1;32m---> 64\u001b[1;33m       \u001b[1;32mreturn\u001b[0m \u001b[0mfn\u001b[0m\u001b[1;33m(\u001b[0m\u001b[1;33m*\u001b[0m\u001b[0margs\u001b[0m\u001b[1;33m,\u001b[0m \u001b[1;33m**\u001b[0m\u001b[0mkwargs\u001b[0m\u001b[1;33m)\u001b[0m\u001b[1;33m\u001b[0m\u001b[1;33m\u001b[0m\u001b[0m\n\u001b[0m\u001b[0;32m     65\u001b[0m     \u001b[1;32mexcept\u001b[0m \u001b[0mException\u001b[0m \u001b[1;32mas\u001b[0m \u001b[0me\u001b[0m\u001b[1;33m:\u001b[0m  \u001b[1;31m# pylint: disable=broad-except\u001b[0m\u001b[1;33m\u001b[0m\u001b[1;33m\u001b[0m\u001b[0m\n\u001b[0;32m     66\u001b[0m       \u001b[0mfiltered_tb\u001b[0m \u001b[1;33m=\u001b[0m \u001b[0m_process_traceback_frames\u001b[0m\u001b[1;33m(\u001b[0m\u001b[0me\u001b[0m\u001b[1;33m.\u001b[0m\u001b[0m__traceback__\u001b[0m\u001b[1;33m)\u001b[0m\u001b[1;33m\u001b[0m\u001b[1;33m\u001b[0m\u001b[0m\n",
      "\u001b[1;32m~\\anaconda3\\envs\\my_env\\lib\\site-packages\\keras\\engine\\training.py\u001b[0m in \u001b[0;36mfit\u001b[1;34m(self, x, y, batch_size, epochs, verbose, callbacks, validation_split, validation_data, shuffle, class_weight, sample_weight, initial_epoch, steps_per_epoch, validation_steps, validation_batch_size, validation_freq, max_queue_size, workers, use_multiprocessing)\u001b[0m\n\u001b[0;32m   1214\u001b[0m                 _r=1):\n\u001b[0;32m   1215\u001b[0m               \u001b[0mcallbacks\u001b[0m\u001b[1;33m.\u001b[0m\u001b[0mon_train_batch_begin\u001b[0m\u001b[1;33m(\u001b[0m\u001b[0mstep\u001b[0m\u001b[1;33m)\u001b[0m\u001b[1;33m\u001b[0m\u001b[1;33m\u001b[0m\u001b[0m\n\u001b[1;32m-> 1216\u001b[1;33m               \u001b[0mtmp_logs\u001b[0m \u001b[1;33m=\u001b[0m \u001b[0mself\u001b[0m\u001b[1;33m.\u001b[0m\u001b[0mtrain_function\u001b[0m\u001b[1;33m(\u001b[0m\u001b[0miterator\u001b[0m\u001b[1;33m)\u001b[0m\u001b[1;33m\u001b[0m\u001b[1;33m\u001b[0m\u001b[0m\n\u001b[0m\u001b[0;32m   1217\u001b[0m               \u001b[1;32mif\u001b[0m \u001b[0mdata_handler\u001b[0m\u001b[1;33m.\u001b[0m\u001b[0mshould_sync\u001b[0m\u001b[1;33m:\u001b[0m\u001b[1;33m\u001b[0m\u001b[1;33m\u001b[0m\u001b[0m\n\u001b[0;32m   1218\u001b[0m                 \u001b[0mcontext\u001b[0m\u001b[1;33m.\u001b[0m\u001b[0masync_wait\u001b[0m\u001b[1;33m(\u001b[0m\u001b[1;33m)\u001b[0m\u001b[1;33m\u001b[0m\u001b[1;33m\u001b[0m\u001b[0m\n",
      "\u001b[1;32m~\\anaconda3\\envs\\my_env\\lib\\site-packages\\tensorflow\\python\\util\\traceback_utils.py\u001b[0m in \u001b[0;36merror_handler\u001b[1;34m(*args, **kwargs)\u001b[0m\n\u001b[0;32m    148\u001b[0m     \u001b[0mfiltered_tb\u001b[0m \u001b[1;33m=\u001b[0m \u001b[1;32mNone\u001b[0m\u001b[1;33m\u001b[0m\u001b[1;33m\u001b[0m\u001b[0m\n\u001b[0;32m    149\u001b[0m     \u001b[1;32mtry\u001b[0m\u001b[1;33m:\u001b[0m\u001b[1;33m\u001b[0m\u001b[1;33m\u001b[0m\u001b[0m\n\u001b[1;32m--> 150\u001b[1;33m       \u001b[1;32mreturn\u001b[0m \u001b[0mfn\u001b[0m\u001b[1;33m(\u001b[0m\u001b[1;33m*\u001b[0m\u001b[0margs\u001b[0m\u001b[1;33m,\u001b[0m \u001b[1;33m**\u001b[0m\u001b[0mkwargs\u001b[0m\u001b[1;33m)\u001b[0m\u001b[1;33m\u001b[0m\u001b[1;33m\u001b[0m\u001b[0m\n\u001b[0m\u001b[0;32m    151\u001b[0m     \u001b[1;32mexcept\u001b[0m \u001b[0mException\u001b[0m \u001b[1;32mas\u001b[0m \u001b[0me\u001b[0m\u001b[1;33m:\u001b[0m\u001b[1;33m\u001b[0m\u001b[1;33m\u001b[0m\u001b[0m\n\u001b[0;32m    152\u001b[0m       \u001b[0mfiltered_tb\u001b[0m \u001b[1;33m=\u001b[0m \u001b[0m_process_traceback_frames\u001b[0m\u001b[1;33m(\u001b[0m\u001b[0me\u001b[0m\u001b[1;33m.\u001b[0m\u001b[0m__traceback__\u001b[0m\u001b[1;33m)\u001b[0m\u001b[1;33m\u001b[0m\u001b[1;33m\u001b[0m\u001b[0m\n",
      "\u001b[1;32m~\\anaconda3\\envs\\my_env\\lib\\site-packages\\tensorflow\\python\\eager\\def_function.py\u001b[0m in \u001b[0;36m__call__\u001b[1;34m(self, *args, **kwds)\u001b[0m\n\u001b[0;32m    908\u001b[0m \u001b[1;33m\u001b[0m\u001b[0m\n\u001b[0;32m    909\u001b[0m       \u001b[1;32mwith\u001b[0m \u001b[0mOptionalXlaContext\u001b[0m\u001b[1;33m(\u001b[0m\u001b[0mself\u001b[0m\u001b[1;33m.\u001b[0m\u001b[0m_jit_compile\u001b[0m\u001b[1;33m)\u001b[0m\u001b[1;33m:\u001b[0m\u001b[1;33m\u001b[0m\u001b[1;33m\u001b[0m\u001b[0m\n\u001b[1;32m--> 910\u001b[1;33m         \u001b[0mresult\u001b[0m \u001b[1;33m=\u001b[0m \u001b[0mself\u001b[0m\u001b[1;33m.\u001b[0m\u001b[0m_call\u001b[0m\u001b[1;33m(\u001b[0m\u001b[1;33m*\u001b[0m\u001b[0margs\u001b[0m\u001b[1;33m,\u001b[0m \u001b[1;33m**\u001b[0m\u001b[0mkwds\u001b[0m\u001b[1;33m)\u001b[0m\u001b[1;33m\u001b[0m\u001b[1;33m\u001b[0m\u001b[0m\n\u001b[0m\u001b[0;32m    911\u001b[0m \u001b[1;33m\u001b[0m\u001b[0m\n\u001b[0;32m    912\u001b[0m       \u001b[0mnew_tracing_count\u001b[0m \u001b[1;33m=\u001b[0m \u001b[0mself\u001b[0m\u001b[1;33m.\u001b[0m\u001b[0mexperimental_get_tracing_count\u001b[0m\u001b[1;33m(\u001b[0m\u001b[1;33m)\u001b[0m\u001b[1;33m\u001b[0m\u001b[1;33m\u001b[0m\u001b[0m\n",
      "\u001b[1;32m~\\anaconda3\\envs\\my_env\\lib\\site-packages\\tensorflow\\python\\eager\\def_function.py\u001b[0m in \u001b[0;36m_call\u001b[1;34m(self, *args, **kwds)\u001b[0m\n\u001b[0;32m    940\u001b[0m       \u001b[1;31m# In this case we have created variables on the first call, so we run the\u001b[0m\u001b[1;33m\u001b[0m\u001b[1;33m\u001b[0m\u001b[0m\n\u001b[0;32m    941\u001b[0m       \u001b[1;31m# defunned version which is guaranteed to never create variables.\u001b[0m\u001b[1;33m\u001b[0m\u001b[1;33m\u001b[0m\u001b[0m\n\u001b[1;32m--> 942\u001b[1;33m       \u001b[1;32mreturn\u001b[0m \u001b[0mself\u001b[0m\u001b[1;33m.\u001b[0m\u001b[0m_stateless_fn\u001b[0m\u001b[1;33m(\u001b[0m\u001b[1;33m*\u001b[0m\u001b[0margs\u001b[0m\u001b[1;33m,\u001b[0m \u001b[1;33m**\u001b[0m\u001b[0mkwds\u001b[0m\u001b[1;33m)\u001b[0m  \u001b[1;31m# pylint: disable=not-callable\u001b[0m\u001b[1;33m\u001b[0m\u001b[1;33m\u001b[0m\u001b[0m\n\u001b[0m\u001b[0;32m    943\u001b[0m     \u001b[1;32melif\u001b[0m \u001b[0mself\u001b[0m\u001b[1;33m.\u001b[0m\u001b[0m_stateful_fn\u001b[0m \u001b[1;32mis\u001b[0m \u001b[1;32mnot\u001b[0m \u001b[1;32mNone\u001b[0m\u001b[1;33m:\u001b[0m\u001b[1;33m\u001b[0m\u001b[1;33m\u001b[0m\u001b[0m\n\u001b[0;32m    944\u001b[0m       \u001b[1;31m# Release the lock early so that multiple threads can perform the call\u001b[0m\u001b[1;33m\u001b[0m\u001b[1;33m\u001b[0m\u001b[0m\n",
      "\u001b[1;32m~\\anaconda3\\envs\\my_env\\lib\\site-packages\\tensorflow\\python\\eager\\function.py\u001b[0m in \u001b[0;36m__call__\u001b[1;34m(self, *args, **kwargs)\u001b[0m\n\u001b[0;32m   3128\u001b[0m       (graph_function,\n\u001b[0;32m   3129\u001b[0m        filtered_flat_args) = self._maybe_define_function(args, kwargs)\n\u001b[1;32m-> 3130\u001b[1;33m     return graph_function._call_flat(\n\u001b[0m\u001b[0;32m   3131\u001b[0m         filtered_flat_args, captured_inputs=graph_function.captured_inputs)  # pylint: disable=protected-access\n\u001b[0;32m   3132\u001b[0m \u001b[1;33m\u001b[0m\u001b[0m\n",
      "\u001b[1;32m~\\anaconda3\\envs\\my_env\\lib\\site-packages\\tensorflow\\python\\eager\\function.py\u001b[0m in \u001b[0;36m_call_flat\u001b[1;34m(self, args, captured_inputs, cancellation_manager)\u001b[0m\n\u001b[0;32m   1957\u001b[0m         and executing_eagerly):\n\u001b[0;32m   1958\u001b[0m       \u001b[1;31m# No tape is watching; skip to running the function.\u001b[0m\u001b[1;33m\u001b[0m\u001b[1;33m\u001b[0m\u001b[0m\n\u001b[1;32m-> 1959\u001b[1;33m       return self._build_call_outputs(self._inference_function.call(\n\u001b[0m\u001b[0;32m   1960\u001b[0m           ctx, args, cancellation_manager=cancellation_manager))\n\u001b[0;32m   1961\u001b[0m     forward_backward = self._select_forward_and_backward_functions(\n",
      "\u001b[1;32m~\\anaconda3\\envs\\my_env\\lib\\site-packages\\tensorflow\\python\\eager\\function.py\u001b[0m in \u001b[0;36mcall\u001b[1;34m(self, ctx, args, cancellation_manager)\u001b[0m\n\u001b[0;32m    596\u001b[0m       \u001b[1;32mwith\u001b[0m \u001b[0m_InterpolateFunctionError\u001b[0m\u001b[1;33m(\u001b[0m\u001b[0mself\u001b[0m\u001b[1;33m)\u001b[0m\u001b[1;33m:\u001b[0m\u001b[1;33m\u001b[0m\u001b[1;33m\u001b[0m\u001b[0m\n\u001b[0;32m    597\u001b[0m         \u001b[1;32mif\u001b[0m \u001b[0mcancellation_manager\u001b[0m \u001b[1;32mis\u001b[0m \u001b[1;32mNone\u001b[0m\u001b[1;33m:\u001b[0m\u001b[1;33m\u001b[0m\u001b[1;33m\u001b[0m\u001b[0m\n\u001b[1;32m--> 598\u001b[1;33m           outputs = execute.execute(\n\u001b[0m\u001b[0;32m    599\u001b[0m               \u001b[0mstr\u001b[0m\u001b[1;33m(\u001b[0m\u001b[0mself\u001b[0m\u001b[1;33m.\u001b[0m\u001b[0msignature\u001b[0m\u001b[1;33m.\u001b[0m\u001b[0mname\u001b[0m\u001b[1;33m)\u001b[0m\u001b[1;33m,\u001b[0m\u001b[1;33m\u001b[0m\u001b[1;33m\u001b[0m\u001b[0m\n\u001b[0;32m    600\u001b[0m               \u001b[0mnum_outputs\u001b[0m\u001b[1;33m=\u001b[0m\u001b[0mself\u001b[0m\u001b[1;33m.\u001b[0m\u001b[0m_num_outputs\u001b[0m\u001b[1;33m,\u001b[0m\u001b[1;33m\u001b[0m\u001b[1;33m\u001b[0m\u001b[0m\n",
      "\u001b[1;32m~\\anaconda3\\envs\\my_env\\lib\\site-packages\\tensorflow\\python\\eager\\execute.py\u001b[0m in \u001b[0;36mquick_execute\u001b[1;34m(op_name, num_outputs, inputs, attrs, ctx, name)\u001b[0m\n\u001b[0;32m     56\u001b[0m   \u001b[1;32mtry\u001b[0m\u001b[1;33m:\u001b[0m\u001b[1;33m\u001b[0m\u001b[1;33m\u001b[0m\u001b[0m\n\u001b[0;32m     57\u001b[0m     \u001b[0mctx\u001b[0m\u001b[1;33m.\u001b[0m\u001b[0mensure_initialized\u001b[0m\u001b[1;33m(\u001b[0m\u001b[1;33m)\u001b[0m\u001b[1;33m\u001b[0m\u001b[1;33m\u001b[0m\u001b[0m\n\u001b[1;32m---> 58\u001b[1;33m     tensors = pywrap_tfe.TFE_Py_Execute(ctx._handle, device_name, op_name,\n\u001b[0m\u001b[0;32m     59\u001b[0m                                         inputs, attrs, num_outputs)\n\u001b[0;32m     60\u001b[0m   \u001b[1;32mexcept\u001b[0m \u001b[0mcore\u001b[0m\u001b[1;33m.\u001b[0m\u001b[0m_NotOkStatusException\u001b[0m \u001b[1;32mas\u001b[0m \u001b[0me\u001b[0m\u001b[1;33m:\u001b[0m\u001b[1;33m\u001b[0m\u001b[1;33m\u001b[0m\u001b[0m\n",
      "\u001b[1;31mKeyboardInterrupt\u001b[0m: "
     ]
    }
   ],
   "source": [
    "model30.fit((Wt30,Xt30), yt30, \n",
    "            epochs = 100, \n",
    "            verbose = 1)"
   ]
  },
  {
   "cell_type": "code",
   "execution_count": null,
   "metadata": {},
   "outputs": [],
   "source": [
    "model30.save(\"my_dir/8c-30\")"
   ]
  },
  {
   "cell_type": "code",
   "execution_count": null,
   "metadata": {},
   "outputs": [],
   "source": [
    "metrics30 = pd.DataFrame(model30.history.history)"
   ]
  },
  {
   "cell_type": "code",
   "execution_count": null,
   "metadata": {},
   "outputs": [],
   "source": [
    "metrics30[['loss']].plot()"
   ]
  },
  {
   "cell_type": "code",
   "execution_count": null,
   "metadata": {},
   "outputs": [],
   "source": [
    "model30 = keras.models.load_model(\"my_dir/8c-30\", custom_objects={'custom_loss': custom_loss})"
   ]
  },
  {
   "cell_type": "code",
   "execution_count": null,
   "metadata": {},
   "outputs": [],
   "source": [
    "model30.predict((Wv30,Xv30))"
   ]
  },
  {
   "cell_type": "markdown",
   "metadata": {},
   "source": [
    "### Evaluation on inverse_transform"
   ]
  },
  {
   "cell_type": "code",
   "execution_count": null,
   "metadata": {},
   "outputs": [],
   "source": [
    "test_predictions30 = model30.predict((Wv30,Xv30))\n",
    "\n",
    "\n",
    "MSE30 = mean_squared_error(yv30,test_predictions30)\n",
    "\n",
    "MAE30 = mean_absolute_error(yv30,test_predictions30)\n",
    "\n",
    "RMSE30 = np.sqrt(MSE30)\n",
    "\n",
    "MAPE30 = mean_absolute_percentage_error(yv30,test_predictions30)*100\n",
    "\n",
    "eval30 = [MSE30, MAE30, RMSE30, MAPE30]\n",
    "print(eval30)"
   ]
  },
  {
   "cell_type": "code",
   "execution_count": null,
   "metadata": {},
   "outputs": [],
   "source": [
    "GEH, count = ga.GEH(np.asarray(yv30), np.asarray(test_predictions30))\n",
    "GEH30 = count/GEH.size\n",
    "print(GEH30)"
   ]
  },
  {
   "cell_type": "markdown",
   "metadata": {},
   "source": [
    "# 60 mins ahead"
   ]
  },
  {
   "cell_type": "code",
   "execution_count": null,
   "metadata": {},
   "outputs": [],
   "source": [
    "def build_model_60(hp):\n",
    "    # Inputs\n",
    "    channel_Wide = keras.layers.Input(shape=Wt60.shape[1:], name=\"WideInput\")\n",
    "    channel_Deep = keras.layers.Input(shape=Xt60.shape[1:], name=\"DeepInput\")\n",
    "    units = hp.Int(\"units\", min_value=1, max_value=100, step=1)\n",
    "    \n",
    "    \n",
    "    # Wide Model\n",
    "    flatten_60w = keras.layers.TimeDistributed(keras.layers.Flatten())(channel_Wide)\n",
    "    Bi_60 = keras.layers.Bidirectional(\n",
    "        keras.layers.LSTM(units=units, activation='relu', return_sequences=True),\n",
    "        merge_mode=\"ave\"\n",
    "    )(flatten_60w)\n",
    "    \n",
    "    \n",
    "    # Deep Model\n",
    "    # CNN \n",
    "    CNN_60 = keras.layers.TimeDistributed(\n",
    "        keras.layers.Conv2D(filters=hp.Int(\"filters\", min_value=32, max_value=512, step=32),\n",
    "                            kernel_size=hp.Choice(\"kernel_size\", [2, 3]), activation='relu'))(channel_Deep)\n",
    "    flatten_60 = keras.layers.TimeDistributed(keras.layers.Flatten())(CNN_60)\n",
    "    # LSTM          \n",
    "    LSTM_60 = keras.layers.LSTM(units=units, activation='relu', return_sequences=True)(flatten_60)\n",
    "\n",
    "    \n",
    "    # Concatenation \n",
    "    concat = keras.layers.concatenate([Bi_60, LSTM_60], axis=1)\n",
    "\n",
    "    # Attention\n",
    "    Att_60 = SeqSelfAttention(attention_activation='sigmoid')(concat)\n",
    "    merge = keras.layers.Flatten()(Att_60)\n",
    "\n",
    "    \n",
    "    # Output\n",
    "    output = keras.layers.Dense(n_features, name= \"output\")(merge)\n",
    "    \n",
    "    # Model\n",
    "    model_60 = keras.Model(inputs=[channel_Wide,channel_Deep], outputs=[output])\n",
    "\n",
    "    # Compile\n",
    "    model_60.compile(optimizer=keras.optimizers.Adam(hp.Choice(\"learning_rate\", [1e-2, 1e-3, 1e-4])), \n",
    "        loss=custom_loss, metrics=['MeanAbsoluteError','RootMeanSquaredError','MeanAbsolutePercentageError'])\n",
    "                    \n",
    "    return model_60"
   ]
  },
  {
   "cell_type": "code",
   "execution_count": null,
   "metadata": {},
   "outputs": [],
   "source": [
    "tuner60 = RandomSearch(\n",
    "    build_model_60,\n",
    "    objective=\"val_loss\",\n",
    "    max_trials=60,\n",
    "    executions_per_trial=2,\n",
    "    overwrite=True,\n",
    "    directory=os.path.normpath('C:/RunsOak'),\n",
    "    project_name=\"8c-60\",\n",
    ")"
   ]
  },
  {
   "cell_type": "code",
   "execution_count": null,
   "metadata": {},
   "outputs": [],
   "source": [
    "tuner60.search_space_summary()"
   ]
  },
  {
   "cell_type": "code",
   "execution_count": null,
   "metadata": {},
   "outputs": [],
   "source": [
    "tuner60.search((Wt60,Xt60), yt60, epochs=200,\n",
    "            validation_split = val_percent,\n",
    "            callbacks=[early_stop],\n",
    "            verbose=2)"
   ]
  },
  {
   "cell_type": "code",
   "execution_count": null,
   "metadata": {},
   "outputs": [],
   "source": [
    "tuner60.results_summary(1)"
   ]
  },
  {
   "cell_type": "markdown",
   "metadata": {},
   "source": [
    "### Best model"
   ]
  },
  {
   "cell_type": "code",
   "execution_count": null,
   "metadata": {},
   "outputs": [],
   "source": [
    "best_hp60 = tuner60.get_best_hyperparameters()[0]\n",
    "model60 = tuner60.hypermodel.build(best_hp60)"
   ]
  },
  {
   "cell_type": "code",
   "execution_count": null,
   "metadata": {},
   "outputs": [],
   "source": [
    "scaler_filename = \"Best_HP/8c-60\"\n",
    "joblib.dump(best_hp60, scaler_filename) "
   ]
  },
  {
   "cell_type": "code",
   "execution_count": null,
   "metadata": {},
   "outputs": [],
   "source": [
    "model60.summary()"
   ]
  },
  {
   "cell_type": "code",
   "execution_count": null,
   "metadata": {},
   "outputs": [],
   "source": [
    "model60.fit((Wt60,Xt60), yt60, \n",
    "            epochs = 100, \n",
    "            verbose = 1\n",
    "            )"
   ]
  },
  {
   "cell_type": "code",
   "execution_count": null,
   "metadata": {},
   "outputs": [],
   "source": [
    "model60.save(\"my_dir/8c-60\")"
   ]
  },
  {
   "cell_type": "code",
   "execution_count": null,
   "metadata": {},
   "outputs": [],
   "source": [
    "metrics60 = pd.DataFrame(model60.history.history)"
   ]
  },
  {
   "cell_type": "code",
   "execution_count": null,
   "metadata": {},
   "outputs": [],
   "source": [
    "metrics60[['loss']].plot()"
   ]
  },
  {
   "cell_type": "code",
   "execution_count": null,
   "metadata": {},
   "outputs": [],
   "source": [
    "model60 = keras.models.load_model(\"my_dir/8c-60\", custom_objects={'custom_loss': custom_loss})"
   ]
  },
  {
   "cell_type": "code",
   "execution_count": null,
   "metadata": {},
   "outputs": [],
   "source": [
    "model60.predict((Wv60,Xv60))"
   ]
  },
  {
   "cell_type": "markdown",
   "metadata": {},
   "source": [
    "### Evaluation on inverse_transform"
   ]
  },
  {
   "cell_type": "code",
   "execution_count": null,
   "metadata": {},
   "outputs": [],
   "source": [
    "test_predictions60 = model60.predict((Wv60,Xv60))\n",
    "\n",
    "\n",
    "MSE60 = mean_squared_error(yv60,test_predictions60)\n",
    "\n",
    "MAE60 = mean_absolute_error(yv60,test_predictions60)\n",
    "\n",
    "RMSE60 = np.sqrt(MSE60)\n",
    "\n",
    "MAPE60 = mean_absolute_percentage_error(yv60,test_predictions60)*100\n",
    "\n",
    "eval60 = [MSE60, MAE60, RMSE60, MAPE60]\n",
    "print(eval60)"
   ]
  },
  {
   "cell_type": "code",
   "execution_count": null,
   "metadata": {},
   "outputs": [],
   "source": [
    "GEH, count = ga.GEH(np.asarray(yv60), np.asarray(test_predictions60))\n",
    "GEH60 = count/GEH.size\n",
    "print(GEH60)"
   ]
  },
  {
   "cell_type": "markdown",
   "metadata": {},
   "source": [
    "# RESULTS"
   ]
  },
  {
   "cell_type": "markdown",
   "metadata": {},
   "source": [
    "## General results"
   ]
  },
  {
   "cell_type": "code",
   "execution_count": null,
   "metadata": {},
   "outputs": [],
   "source": [
    "l = ['MSE','MAE','RMSE','MAPE','Horizon']"
   ]
  },
  {
   "cell_type": "code",
   "execution_count": null,
   "metadata": {},
   "outputs": [],
   "source": [
    "eval5.append(5)\n",
    "eval15.append(15)\n",
    "eval30.append(30)\n",
    "eval60.append(60)"
   ]
  },
  {
   "cell_type": "code",
   "execution_count": null,
   "metadata": {},
   "outputs": [],
   "source": [
    "df = pd.DataFrame(np.array([eval5,eval15,eval30,eval60]),columns=l)\n",
    "df.set_index('Horizon')"
   ]
  },
  {
   "cell_type": "markdown",
   "metadata": {},
   "source": [
    "## GEH"
   ]
  },
  {
   "cell_type": "code",
   "execution_count": null,
   "metadata": {},
   "outputs": [],
   "source": [
    "n = [' 5 ',' 15 ',' 30 ',' 60 ']\n",
    "df2 = pd.DataFrame(np.array([[GEH5, GEH15, GEH30, GEH60]]), columns=n)\n",
    "print(df2)"
   ]
  }
 ],
 "metadata": {
  "kernelspec": {
   "display_name": "Python 3 (ipykernel)",
   "language": "python",
   "name": "python3"
  },
  "language_info": {
   "codemirror_mode": {
    "name": "ipython",
    "version": 3
   },
   "file_extension": ".py",
   "mimetype": "text/x-python",
   "name": "python",
   "nbconvert_exporter": "python",
   "pygments_lexer": "ipython3",
   "version": "3.11.5"
  }
 },
 "nbformat": 4,
 "nbformat_minor": 4
}
