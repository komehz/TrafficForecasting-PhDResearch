{
 "cells": [
  {
   "cell_type": "code",
   "execution_count": 1,
   "id": "6381d18a",
   "metadata": {},
   "outputs": [],
   "source": [
    "import pandas as pd\n",
    "import numpy as np\n",
    "import matplotlib.pyplot as plt\n",
    "import seaborn as sns\n",
    "import joblib"
   ]
  },
  {
   "cell_type": "code",
   "execution_count": 2,
   "id": "94d5753a",
   "metadata": {},
   "outputs": [],
   "source": [
    "TrainVal_scaled = pd.read_csv('01train_scaled.csv', index_col=0, parse_dates=True)\n",
    "Test_scaled     = pd.read_csv('01test_scaled.csv', index_col=0, parse_dates=True)\n",
    "Ext = TrainVal_scaled[:4320]"
   ]
  },
  {
   "cell_type": "code",
   "execution_count": 3,
   "id": "8131065f",
   "metadata": {},
   "outputs": [
    {
     "data": {
      "text/html": [
       "<div>\n",
       "<style scoped>\n",
       "    .dataframe tbody tr th:only-of-type {\n",
       "        vertical-align: middle;\n",
       "    }\n",
       "\n",
       "    .dataframe tbody tr th {\n",
       "        vertical-align: top;\n",
       "    }\n",
       "\n",
       "    .dataframe thead th {\n",
       "        text-align: right;\n",
       "    }\n",
       "</style>\n",
       "<table border=\"1\" class=\"dataframe\">\n",
       "  <thead>\n",
       "    <tr style=\"text-align: right;\">\n",
       "      <th></th>\n",
       "      <th>f1</th>\n",
       "      <th>f2</th>\n",
       "      <th>f3</th>\n",
       "      <th>f4</th>\n",
       "      <th>f5</th>\n",
       "      <th>f6</th>\n",
       "    </tr>\n",
       "    <tr>\n",
       "      <th>Timestamp</th>\n",
       "      <th></th>\n",
       "      <th></th>\n",
       "      <th></th>\n",
       "      <th></th>\n",
       "      <th></th>\n",
       "      <th></th>\n",
       "    </tr>\n",
       "  </thead>\n",
       "  <tbody>\n",
       "    <tr>\n",
       "      <th>2017-08-17 00:00:00</th>\n",
       "      <td>0.162602</td>\n",
       "      <td>0.108504</td>\n",
       "      <td>0.086842</td>\n",
       "      <td>0.179612</td>\n",
       "      <td>0.169811</td>\n",
       "      <td>0.239437</td>\n",
       "    </tr>\n",
       "    <tr>\n",
       "      <th>2017-08-17 00:05:00</th>\n",
       "      <td>0.126016</td>\n",
       "      <td>0.105572</td>\n",
       "      <td>0.105061</td>\n",
       "      <td>0.160194</td>\n",
       "      <td>0.156334</td>\n",
       "      <td>0.247887</td>\n",
       "    </tr>\n",
       "    <tr>\n",
       "      <th>2017-08-17 00:10:00</th>\n",
       "      <td>0.158537</td>\n",
       "      <td>0.123167</td>\n",
       "      <td>0.076923</td>\n",
       "      <td>0.153722</td>\n",
       "      <td>0.159030</td>\n",
       "      <td>0.239437</td>\n",
       "    </tr>\n",
       "    <tr>\n",
       "      <th>2017-08-17 00:15:00</th>\n",
       "      <td>0.130081</td>\n",
       "      <td>0.099707</td>\n",
       "      <td>0.071255</td>\n",
       "      <td>0.160194</td>\n",
       "      <td>0.177898</td>\n",
       "      <td>0.281690</td>\n",
       "    </tr>\n",
       "    <tr>\n",
       "      <th>2017-08-17 00:20:00</th>\n",
       "      <td>0.121951</td>\n",
       "      <td>0.085044</td>\n",
       "      <td>0.058704</td>\n",
       "      <td>0.135922</td>\n",
       "      <td>0.159030</td>\n",
       "      <td>0.256338</td>\n",
       "    </tr>\n",
       "    <tr>\n",
       "      <th>...</th>\n",
       "      <td>...</td>\n",
       "      <td>...</td>\n",
       "      <td>...</td>\n",
       "      <td>...</td>\n",
       "      <td>...</td>\n",
       "      <td>...</td>\n",
       "    </tr>\n",
       "    <tr>\n",
       "      <th>2018-02-18 23:35:00</th>\n",
       "      <td>0.207317</td>\n",
       "      <td>0.170088</td>\n",
       "      <td>0.141700</td>\n",
       "      <td>0.160194</td>\n",
       "      <td>0.097035</td>\n",
       "      <td>0.008451</td>\n",
       "    </tr>\n",
       "    <tr>\n",
       "      <th>2018-02-18 23:40:00</th>\n",
       "      <td>0.117886</td>\n",
       "      <td>0.090909</td>\n",
       "      <td>0.147773</td>\n",
       "      <td>0.139159</td>\n",
       "      <td>0.083558</td>\n",
       "      <td>0.081690</td>\n",
       "    </tr>\n",
       "    <tr>\n",
       "      <th>2018-02-18 23:45:00</th>\n",
       "      <td>0.150407</td>\n",
       "      <td>0.108504</td>\n",
       "      <td>0.133603</td>\n",
       "      <td>0.179612</td>\n",
       "      <td>0.102426</td>\n",
       "      <td>0.019718</td>\n",
       "    </tr>\n",
       "    <tr>\n",
       "      <th>2018-02-18 23:50:00</th>\n",
       "      <td>0.142276</td>\n",
       "      <td>0.114370</td>\n",
       "      <td>0.119433</td>\n",
       "      <td>0.171521</td>\n",
       "      <td>0.113208</td>\n",
       "      <td>0.030986</td>\n",
       "    </tr>\n",
       "    <tr>\n",
       "      <th>2018-02-18 23:55:00</th>\n",
       "      <td>0.138211</td>\n",
       "      <td>0.099707</td>\n",
       "      <td>0.113360</td>\n",
       "      <td>0.171521</td>\n",
       "      <td>0.110512</td>\n",
       "      <td>0.008451</td>\n",
       "    </tr>\n",
       "  </tbody>\n",
       "</table>\n",
       "<p>53568 rows × 6 columns</p>\n",
       "</div>"
      ],
      "text/plain": [
       "                           f1        f2        f3        f4        f5  \\\n",
       "Timestamp                                                               \n",
       "2017-08-17 00:00:00  0.162602  0.108504  0.086842  0.179612  0.169811   \n",
       "2017-08-17 00:05:00  0.126016  0.105572  0.105061  0.160194  0.156334   \n",
       "2017-08-17 00:10:00  0.158537  0.123167  0.076923  0.153722  0.159030   \n",
       "2017-08-17 00:15:00  0.130081  0.099707  0.071255  0.160194  0.177898   \n",
       "2017-08-17 00:20:00  0.121951  0.085044  0.058704  0.135922  0.159030   \n",
       "...                       ...       ...       ...       ...       ...   \n",
       "2018-02-18 23:35:00  0.207317  0.170088  0.141700  0.160194  0.097035   \n",
       "2018-02-18 23:40:00  0.117886  0.090909  0.147773  0.139159  0.083558   \n",
       "2018-02-18 23:45:00  0.150407  0.108504  0.133603  0.179612  0.102426   \n",
       "2018-02-18 23:50:00  0.142276  0.114370  0.119433  0.171521  0.113208   \n",
       "2018-02-18 23:55:00  0.138211  0.099707  0.113360  0.171521  0.110512   \n",
       "\n",
       "                           f6  \n",
       "Timestamp                      \n",
       "2017-08-17 00:00:00  0.239437  \n",
       "2017-08-17 00:05:00  0.247887  \n",
       "2017-08-17 00:10:00  0.239437  \n",
       "2017-08-17 00:15:00  0.281690  \n",
       "2017-08-17 00:20:00  0.256338  \n",
       "...                       ...  \n",
       "2018-02-18 23:35:00  0.008451  \n",
       "2018-02-18 23:40:00  0.081690  \n",
       "2018-02-18 23:45:00  0.019718  \n",
       "2018-02-18 23:50:00  0.030986  \n",
       "2018-02-18 23:55:00  0.008451  \n",
       "\n",
       "[53568 rows x 6 columns]"
      ]
     },
     "execution_count": 3,
     "metadata": {},
     "output_type": "execute_result"
    }
   ],
   "source": [
    "TrainVal_scaled"
   ]
  },
  {
   "cell_type": "code",
   "execution_count": 4,
   "id": "735ffb26",
   "metadata": {},
   "outputs": [
    {
     "data": {
      "text/html": [
       "<div>\n",
       "<style scoped>\n",
       "    .dataframe tbody tr th:only-of-type {\n",
       "        vertical-align: middle;\n",
       "    }\n",
       "\n",
       "    .dataframe tbody tr th {\n",
       "        vertical-align: top;\n",
       "    }\n",
       "\n",
       "    .dataframe thead th {\n",
       "        text-align: right;\n",
       "    }\n",
       "</style>\n",
       "<table border=\"1\" class=\"dataframe\">\n",
       "  <thead>\n",
       "    <tr style=\"text-align: right;\">\n",
       "      <th></th>\n",
       "      <th>f1</th>\n",
       "      <th>f2</th>\n",
       "      <th>f3</th>\n",
       "      <th>f4</th>\n",
       "      <th>f5</th>\n",
       "      <th>f6</th>\n",
       "    </tr>\n",
       "    <tr>\n",
       "      <th>Timestamp</th>\n",
       "      <th></th>\n",
       "      <th></th>\n",
       "      <th></th>\n",
       "      <th></th>\n",
       "      <th></th>\n",
       "      <th></th>\n",
       "    </tr>\n",
       "  </thead>\n",
       "  <tbody>\n",
       "    <tr>\n",
       "      <th>2018-02-19 00:00:00</th>\n",
       "      <td>0.154472</td>\n",
       "      <td>0.123167</td>\n",
       "      <td>0.113360</td>\n",
       "      <td>0.139159</td>\n",
       "      <td>0.091644</td>\n",
       "      <td>0.008451</td>\n",
       "    </tr>\n",
       "    <tr>\n",
       "      <th>2018-02-19 00:05:00</th>\n",
       "      <td>0.126016</td>\n",
       "      <td>0.093842</td>\n",
       "      <td>0.101215</td>\n",
       "      <td>0.114887</td>\n",
       "      <td>0.078167</td>\n",
       "      <td>0.008451</td>\n",
       "    </tr>\n",
       "    <tr>\n",
       "      <th>2018-02-19 00:10:00</th>\n",
       "      <td>0.109756</td>\n",
       "      <td>0.105572</td>\n",
       "      <td>0.074899</td>\n",
       "      <td>0.144013</td>\n",
       "      <td>0.099730</td>\n",
       "      <td>0.008451</td>\n",
       "    </tr>\n",
       "    <tr>\n",
       "      <th>2018-02-19 00:15:00</th>\n",
       "      <td>0.121951</td>\n",
       "      <td>0.073314</td>\n",
       "      <td>0.082996</td>\n",
       "      <td>0.116505</td>\n",
       "      <td>0.072776</td>\n",
       "      <td>0.008451</td>\n",
       "    </tr>\n",
       "    <tr>\n",
       "      <th>2018-02-19 00:20:00</th>\n",
       "      <td>0.138211</td>\n",
       "      <td>0.096774</td>\n",
       "      <td>0.113360</td>\n",
       "      <td>0.161812</td>\n",
       "      <td>0.110512</td>\n",
       "      <td>0.008451</td>\n",
       "    </tr>\n",
       "    <tr>\n",
       "      <th>...</th>\n",
       "      <td>...</td>\n",
       "      <td>...</td>\n",
       "      <td>...</td>\n",
       "      <td>...</td>\n",
       "      <td>...</td>\n",
       "      <td>...</td>\n",
       "    </tr>\n",
       "    <tr>\n",
       "      <th>2018-03-04 23:35:00</th>\n",
       "      <td>0.162602</td>\n",
       "      <td>0.117302</td>\n",
       "      <td>0.139676</td>\n",
       "      <td>0.174757</td>\n",
       "      <td>0.167116</td>\n",
       "      <td>0.140845</td>\n",
       "    </tr>\n",
       "    <tr>\n",
       "      <th>2018-03-04 23:40:00</th>\n",
       "      <td>0.134146</td>\n",
       "      <td>0.105572</td>\n",
       "      <td>0.105263</td>\n",
       "      <td>0.134304</td>\n",
       "      <td>0.110512</td>\n",
       "      <td>0.073239</td>\n",
       "    </tr>\n",
       "    <tr>\n",
       "      <th>2018-03-04 23:45:00</th>\n",
       "      <td>0.170732</td>\n",
       "      <td>0.155425</td>\n",
       "      <td>0.089069</td>\n",
       "      <td>0.135922</td>\n",
       "      <td>0.099730</td>\n",
       "      <td>0.039437</td>\n",
       "    </tr>\n",
       "    <tr>\n",
       "      <th>2018-03-04 23:50:00</th>\n",
       "      <td>0.150407</td>\n",
       "      <td>0.123167</td>\n",
       "      <td>0.113360</td>\n",
       "      <td>0.165049</td>\n",
       "      <td>0.099730</td>\n",
       "      <td>0.025352</td>\n",
       "    </tr>\n",
       "    <tr>\n",
       "      <th>2018-03-04 23:55:00</th>\n",
       "      <td>0.162602</td>\n",
       "      <td>0.108504</td>\n",
       "      <td>0.115385</td>\n",
       "      <td>0.142395</td>\n",
       "      <td>0.107817</td>\n",
       "      <td>0.028169</td>\n",
       "    </tr>\n",
       "  </tbody>\n",
       "</table>\n",
       "<p>4032 rows × 6 columns</p>\n",
       "</div>"
      ],
      "text/plain": [
       "                           f1        f2        f3        f4        f5  \\\n",
       "Timestamp                                                               \n",
       "2018-02-19 00:00:00  0.154472  0.123167  0.113360  0.139159  0.091644   \n",
       "2018-02-19 00:05:00  0.126016  0.093842  0.101215  0.114887  0.078167   \n",
       "2018-02-19 00:10:00  0.109756  0.105572  0.074899  0.144013  0.099730   \n",
       "2018-02-19 00:15:00  0.121951  0.073314  0.082996  0.116505  0.072776   \n",
       "2018-02-19 00:20:00  0.138211  0.096774  0.113360  0.161812  0.110512   \n",
       "...                       ...       ...       ...       ...       ...   \n",
       "2018-03-04 23:35:00  0.162602  0.117302  0.139676  0.174757  0.167116   \n",
       "2018-03-04 23:40:00  0.134146  0.105572  0.105263  0.134304  0.110512   \n",
       "2018-03-04 23:45:00  0.170732  0.155425  0.089069  0.135922  0.099730   \n",
       "2018-03-04 23:50:00  0.150407  0.123167  0.113360  0.165049  0.099730   \n",
       "2018-03-04 23:55:00  0.162602  0.108504  0.115385  0.142395  0.107817   \n",
       "\n",
       "                           f6  \n",
       "Timestamp                      \n",
       "2018-02-19 00:00:00  0.008451  \n",
       "2018-02-19 00:05:00  0.008451  \n",
       "2018-02-19 00:10:00  0.008451  \n",
       "2018-02-19 00:15:00  0.008451  \n",
       "2018-02-19 00:20:00  0.008451  \n",
       "...                       ...  \n",
       "2018-03-04 23:35:00  0.140845  \n",
       "2018-03-04 23:40:00  0.073239  \n",
       "2018-03-04 23:45:00  0.039437  \n",
       "2018-03-04 23:50:00  0.025352  \n",
       "2018-03-04 23:55:00  0.028169  \n",
       "\n",
       "[4032 rows x 6 columns]"
      ]
     },
     "execution_count": 4,
     "metadata": {},
     "output_type": "execute_result"
    }
   ],
   "source": [
    "Test_scaled"
   ]
  },
  {
   "cell_type": "markdown",
   "id": "75c73a4b",
   "metadata": {},
   "source": [
    "### Total Data"
   ]
  },
  {
   "cell_type": "code",
   "execution_count": 5,
   "id": "bc75f1e5",
   "metadata": {},
   "outputs": [],
   "source": [
    "df = pd.concat([TrainVal_scaled, Test_scaled])"
   ]
  },
  {
   "cell_type": "code",
   "execution_count": 6,
   "id": "4ee24f88",
   "metadata": {},
   "outputs": [
    {
     "data": {
      "text/html": [
       "<div>\n",
       "<style scoped>\n",
       "    .dataframe tbody tr th:only-of-type {\n",
       "        vertical-align: middle;\n",
       "    }\n",
       "\n",
       "    .dataframe tbody tr th {\n",
       "        vertical-align: top;\n",
       "    }\n",
       "\n",
       "    .dataframe thead th {\n",
       "        text-align: right;\n",
       "    }\n",
       "</style>\n",
       "<table border=\"1\" class=\"dataframe\">\n",
       "  <thead>\n",
       "    <tr style=\"text-align: right;\">\n",
       "      <th></th>\n",
       "      <th>f1</th>\n",
       "      <th>f2</th>\n",
       "      <th>f3</th>\n",
       "      <th>f4</th>\n",
       "      <th>f5</th>\n",
       "      <th>f6</th>\n",
       "    </tr>\n",
       "    <tr>\n",
       "      <th>Timestamp</th>\n",
       "      <th></th>\n",
       "      <th></th>\n",
       "      <th></th>\n",
       "      <th></th>\n",
       "      <th></th>\n",
       "      <th></th>\n",
       "    </tr>\n",
       "  </thead>\n",
       "  <tbody>\n",
       "    <tr>\n",
       "      <th>2017-08-17 00:00:00</th>\n",
       "      <td>0.162602</td>\n",
       "      <td>0.108504</td>\n",
       "      <td>0.086842</td>\n",
       "      <td>0.179612</td>\n",
       "      <td>0.169811</td>\n",
       "      <td>0.239437</td>\n",
       "    </tr>\n",
       "    <tr>\n",
       "      <th>2017-08-17 00:05:00</th>\n",
       "      <td>0.126016</td>\n",
       "      <td>0.105572</td>\n",
       "      <td>0.105061</td>\n",
       "      <td>0.160194</td>\n",
       "      <td>0.156334</td>\n",
       "      <td>0.247887</td>\n",
       "    </tr>\n",
       "    <tr>\n",
       "      <th>2017-08-17 00:10:00</th>\n",
       "      <td>0.158537</td>\n",
       "      <td>0.123167</td>\n",
       "      <td>0.076923</td>\n",
       "      <td>0.153722</td>\n",
       "      <td>0.159030</td>\n",
       "      <td>0.239437</td>\n",
       "    </tr>\n",
       "    <tr>\n",
       "      <th>2017-08-17 00:15:00</th>\n",
       "      <td>0.130081</td>\n",
       "      <td>0.099707</td>\n",
       "      <td>0.071255</td>\n",
       "      <td>0.160194</td>\n",
       "      <td>0.177898</td>\n",
       "      <td>0.281690</td>\n",
       "    </tr>\n",
       "    <tr>\n",
       "      <th>2017-08-17 00:20:00</th>\n",
       "      <td>0.121951</td>\n",
       "      <td>0.085044</td>\n",
       "      <td>0.058704</td>\n",
       "      <td>0.135922</td>\n",
       "      <td>0.159030</td>\n",
       "      <td>0.256338</td>\n",
       "    </tr>\n",
       "    <tr>\n",
       "      <th>...</th>\n",
       "      <td>...</td>\n",
       "      <td>...</td>\n",
       "      <td>...</td>\n",
       "      <td>...</td>\n",
       "      <td>...</td>\n",
       "      <td>...</td>\n",
       "    </tr>\n",
       "    <tr>\n",
       "      <th>2018-03-04 23:35:00</th>\n",
       "      <td>0.162602</td>\n",
       "      <td>0.117302</td>\n",
       "      <td>0.139676</td>\n",
       "      <td>0.174757</td>\n",
       "      <td>0.167116</td>\n",
       "      <td>0.140845</td>\n",
       "    </tr>\n",
       "    <tr>\n",
       "      <th>2018-03-04 23:40:00</th>\n",
       "      <td>0.134146</td>\n",
       "      <td>0.105572</td>\n",
       "      <td>0.105263</td>\n",
       "      <td>0.134304</td>\n",
       "      <td>0.110512</td>\n",
       "      <td>0.073239</td>\n",
       "    </tr>\n",
       "    <tr>\n",
       "      <th>2018-03-04 23:45:00</th>\n",
       "      <td>0.170732</td>\n",
       "      <td>0.155425</td>\n",
       "      <td>0.089069</td>\n",
       "      <td>0.135922</td>\n",
       "      <td>0.099730</td>\n",
       "      <td>0.039437</td>\n",
       "    </tr>\n",
       "    <tr>\n",
       "      <th>2018-03-04 23:50:00</th>\n",
       "      <td>0.150407</td>\n",
       "      <td>0.123167</td>\n",
       "      <td>0.113360</td>\n",
       "      <td>0.165049</td>\n",
       "      <td>0.099730</td>\n",
       "      <td>0.025352</td>\n",
       "    </tr>\n",
       "    <tr>\n",
       "      <th>2018-03-04 23:55:00</th>\n",
       "      <td>0.162602</td>\n",
       "      <td>0.108504</td>\n",
       "      <td>0.115385</td>\n",
       "      <td>0.142395</td>\n",
       "      <td>0.107817</td>\n",
       "      <td>0.028169</td>\n",
       "    </tr>\n",
       "  </tbody>\n",
       "</table>\n",
       "<p>57600 rows × 6 columns</p>\n",
       "</div>"
      ],
      "text/plain": [
       "                           f1        f2        f3        f4        f5  \\\n",
       "Timestamp                                                               \n",
       "2017-08-17 00:00:00  0.162602  0.108504  0.086842  0.179612  0.169811   \n",
       "2017-08-17 00:05:00  0.126016  0.105572  0.105061  0.160194  0.156334   \n",
       "2017-08-17 00:10:00  0.158537  0.123167  0.076923  0.153722  0.159030   \n",
       "2017-08-17 00:15:00  0.130081  0.099707  0.071255  0.160194  0.177898   \n",
       "2017-08-17 00:20:00  0.121951  0.085044  0.058704  0.135922  0.159030   \n",
       "...                       ...       ...       ...       ...       ...   \n",
       "2018-03-04 23:35:00  0.162602  0.117302  0.139676  0.174757  0.167116   \n",
       "2018-03-04 23:40:00  0.134146  0.105572  0.105263  0.134304  0.110512   \n",
       "2018-03-04 23:45:00  0.170732  0.155425  0.089069  0.135922  0.099730   \n",
       "2018-03-04 23:50:00  0.150407  0.123167  0.113360  0.165049  0.099730   \n",
       "2018-03-04 23:55:00  0.162602  0.108504  0.115385  0.142395  0.107817   \n",
       "\n",
       "                           f6  \n",
       "Timestamp                      \n",
       "2017-08-17 00:00:00  0.239437  \n",
       "2017-08-17 00:05:00  0.247887  \n",
       "2017-08-17 00:10:00  0.239437  \n",
       "2017-08-17 00:15:00  0.281690  \n",
       "2017-08-17 00:20:00  0.256338  \n",
       "...                       ...  \n",
       "2018-03-04 23:35:00  0.140845  \n",
       "2018-03-04 23:40:00  0.073239  \n",
       "2018-03-04 23:45:00  0.039437  \n",
       "2018-03-04 23:50:00  0.025352  \n",
       "2018-03-04 23:55:00  0.028169  \n",
       "\n",
       "[57600 rows x 6 columns]"
      ]
     },
     "execution_count": 6,
     "metadata": {},
     "output_type": "execute_result"
    }
   ],
   "source": [
    "df"
   ]
  },
  {
   "cell_type": "code",
   "execution_count": 7,
   "id": "eb0c0ced",
   "metadata": {},
   "outputs": [],
   "source": [
    "df.drop(columns = ['f1', 'f2', 'f3', 'f5', 'f6'], inplace=True);"
   ]
  },
  {
   "cell_type": "code",
   "execution_count": 8,
   "id": "86c3ffb0",
   "metadata": {},
   "outputs": [
    {
     "data": {
      "text/html": [
       "<div>\n",
       "<style scoped>\n",
       "    .dataframe tbody tr th:only-of-type {\n",
       "        vertical-align: middle;\n",
       "    }\n",
       "\n",
       "    .dataframe tbody tr th {\n",
       "        vertical-align: top;\n",
       "    }\n",
       "\n",
       "    .dataframe thead th {\n",
       "        text-align: right;\n",
       "    }\n",
       "</style>\n",
       "<table border=\"1\" class=\"dataframe\">\n",
       "  <thead>\n",
       "    <tr style=\"text-align: right;\">\n",
       "      <th></th>\n",
       "      <th>f4</th>\n",
       "    </tr>\n",
       "    <tr>\n",
       "      <th>Timestamp</th>\n",
       "      <th></th>\n",
       "    </tr>\n",
       "  </thead>\n",
       "  <tbody>\n",
       "    <tr>\n",
       "      <th>2017-08-17 00:00:00</th>\n",
       "      <td>0.179612</td>\n",
       "    </tr>\n",
       "    <tr>\n",
       "      <th>2017-08-17 00:05:00</th>\n",
       "      <td>0.160194</td>\n",
       "    </tr>\n",
       "    <tr>\n",
       "      <th>2017-08-17 00:10:00</th>\n",
       "      <td>0.153722</td>\n",
       "    </tr>\n",
       "    <tr>\n",
       "      <th>2017-08-17 00:15:00</th>\n",
       "      <td>0.160194</td>\n",
       "    </tr>\n",
       "    <tr>\n",
       "      <th>2017-08-17 00:20:00</th>\n",
       "      <td>0.135922</td>\n",
       "    </tr>\n",
       "    <tr>\n",
       "      <th>...</th>\n",
       "      <td>...</td>\n",
       "    </tr>\n",
       "    <tr>\n",
       "      <th>2018-03-04 23:35:00</th>\n",
       "      <td>0.174757</td>\n",
       "    </tr>\n",
       "    <tr>\n",
       "      <th>2018-03-04 23:40:00</th>\n",
       "      <td>0.134304</td>\n",
       "    </tr>\n",
       "    <tr>\n",
       "      <th>2018-03-04 23:45:00</th>\n",
       "      <td>0.135922</td>\n",
       "    </tr>\n",
       "    <tr>\n",
       "      <th>2018-03-04 23:50:00</th>\n",
       "      <td>0.165049</td>\n",
       "    </tr>\n",
       "    <tr>\n",
       "      <th>2018-03-04 23:55:00</th>\n",
       "      <td>0.142395</td>\n",
       "    </tr>\n",
       "  </tbody>\n",
       "</table>\n",
       "<p>57600 rows × 1 columns</p>\n",
       "</div>"
      ],
      "text/plain": [
       "                           f4\n",
       "Timestamp                    \n",
       "2017-08-17 00:00:00  0.179612\n",
       "2017-08-17 00:05:00  0.160194\n",
       "2017-08-17 00:10:00  0.153722\n",
       "2017-08-17 00:15:00  0.160194\n",
       "2017-08-17 00:20:00  0.135922\n",
       "...                       ...\n",
       "2018-03-04 23:35:00  0.174757\n",
       "2018-03-04 23:40:00  0.134304\n",
       "2018-03-04 23:45:00  0.135922\n",
       "2018-03-04 23:50:00  0.165049\n",
       "2018-03-04 23:55:00  0.142395\n",
       "\n",
       "[57600 rows x 1 columns]"
      ]
     },
     "execution_count": 8,
     "metadata": {},
     "output_type": "execute_result"
    }
   ],
   "source": [
    "df"
   ]
  },
  {
   "cell_type": "code",
   "execution_count": 9,
   "id": "4223b026",
   "metadata": {},
   "outputs": [
    {
     "data": {
      "text/plain": [
       "f4    0.250809\n",
       "Name: 2017-09-01 00:00:00, dtype: float64"
      ]
     },
     "execution_count": 9,
     "metadata": {},
     "output_type": "execute_result"
    }
   ],
   "source": [
    "df.iloc[4320]          # First sample"
   ]
  },
  {
   "cell_type": "code",
   "execution_count": 10,
   "id": "1419ce49",
   "metadata": {},
   "outputs": [
    {
     "data": {
      "text/plain": [
       "f4    0.179612\n",
       "Name: 2017-08-25 00:00:00, dtype: float64"
      ]
     },
     "execution_count": 10,
     "metadata": {},
     "output_type": "execute_result"
    }
   ],
   "source": [
    "df.iloc[2304]          # -1 week (-2016 samples)"
   ]
  },
  {
   "cell_type": "code",
   "execution_count": 11,
   "id": "e77e869c",
   "metadata": {},
   "outputs": [
    {
     "data": {
      "text/plain": [
       "f4    0.195793\n",
       "Name: 2017-08-18 00:00:00, dtype: float64"
      ]
     },
     "execution_count": 11,
     "metadata": {},
     "output_type": "execute_result"
    }
   ],
   "source": [
    "df.iloc[288]          # -2 week (-4032 samples)"
   ]
  },
  {
   "cell_type": "markdown",
   "id": "153c1b2d",
   "metadata": {},
   "source": [
    "# Generate Weekly Samples"
   ]
  },
  {
   "cell_type": "code",
   "execution_count": 12,
   "id": "5d49c1ab",
   "metadata": {},
   "outputs": [],
   "source": [
    "a = np.zeros((2, 7))\n",
    "b = np.zeros((2, 7))\n",
    "x = 4320                           # Start\n",
    "\n",
    "for i in range(len(df.iloc[x:])):\n",
    "    for j in range(2):\n",
    "        for k in range(7):\n",
    "            if j == 0:\n",
    "                a[j][k] = df.iloc[x-2019+i+k]\n",
    "            else:\n",
    "                a[j][k] = df.iloc[x-4035+i+k]\n",
    "    b = np.append(b, a, axis=0)\n",
    "\n",
    "b = np.delete(b, np.s_[0:2], 0).reshape(-1, 2, 7)"
   ]
  },
  {
   "cell_type": "code",
   "execution_count": 13,
   "id": "ff57c9c9",
   "metadata": {},
   "outputs": [
    {
     "data": {
      "text/plain": [
       "array([[0.22491909, 0.15857605, 0.24919094, 0.17961165, 0.22815534,\n",
       "        0.17799353, 0.11326861],\n",
       "       [0.17799353, 0.14724919, 0.16343042, 0.19579288, 0.17961165,\n",
       "        0.197411  , 0.16019417]])"
      ]
     },
     "execution_count": 13,
     "metadata": {},
     "output_type": "execute_result"
    }
   ],
   "source": [
    "b[0]"
   ]
  },
  {
   "cell_type": "code",
   "execution_count": 14,
   "id": "8cdb6e1b",
   "metadata": {},
   "outputs": [
    {
     "data": {
      "text/plain": [
       "array([[0.15857605, 0.24919094, 0.17961165, 0.22815534, 0.17799353,\n",
       "        0.11326861, 0.13268608],\n",
       "       [0.14724919, 0.16343042, 0.19579288, 0.17961165, 0.197411  ,\n",
       "        0.16019417, 0.16666667]])"
      ]
     },
     "execution_count": 14,
     "metadata": {},
     "output_type": "execute_result"
    }
   ],
   "source": [
    "b[1]"
   ]
  },
  {
   "cell_type": "code",
   "execution_count": 15,
   "id": "986c6068",
   "metadata": {},
   "outputs": [
    {
     "data": {
      "text/plain": [
       "array([0.22491909, 0.15857605, 0.24919094, 0.17961165, 0.22815534,\n",
       "       0.17799353, 0.11326861, 0.17799353, 0.14724919, 0.16343042,\n",
       "       0.19579288, 0.17961165, 0.197411  , 0.16019417])"
      ]
     },
     "execution_count": 15,
     "metadata": {},
     "output_type": "execute_result"
    }
   ],
   "source": [
    "b[0].flatten()"
   ]
  },
  {
   "cell_type": "code",
   "execution_count": 16,
   "id": "e23c1bf0",
   "metadata": {},
   "outputs": [],
   "source": [
    "a = b.flatten().reshape(-1,14)"
   ]
  },
  {
   "cell_type": "code",
   "execution_count": 17,
   "id": "29f273e9",
   "metadata": {},
   "outputs": [
    {
     "data": {
      "text/plain": [
       "array([0.22491909, 0.15857605, 0.24919094, 0.17961165, 0.22815534,\n",
       "       0.17799353, 0.11326861, 0.17799353, 0.14724919, 0.16343042,\n",
       "       0.19579288, 0.17961165, 0.197411  , 0.16019417])"
      ]
     },
     "execution_count": 17,
     "metadata": {},
     "output_type": "execute_result"
    }
   ],
   "source": [
    "a[0]"
   ]
  },
  {
   "cell_type": "code",
   "execution_count": 18,
   "id": "aeaca2d7",
   "metadata": {},
   "outputs": [
    {
     "data": {
      "text/plain": [
       "True"
      ]
     },
     "execution_count": 18,
     "metadata": {},
     "output_type": "execute_result"
    }
   ],
   "source": [
    "len(a) == len(TrainVal_scaled) + len(Test_scaled) - len(Ext)"
   ]
  },
  {
   "cell_type": "markdown",
   "id": "3bf75a89",
   "metadata": {},
   "source": [
    "### Split into corresponding test and train"
   ]
  },
  {
   "cell_type": "code",
   "execution_count": 19,
   "id": "787e4d84",
   "metadata": {},
   "outputs": [
    {
     "data": {
      "text/plain": [
       "(53280, 14)"
      ]
     },
     "execution_count": 19,
     "metadata": {},
     "output_type": "execute_result"
    }
   ],
   "source": [
    "a.shape"
   ]
  },
  {
   "cell_type": "code",
   "execution_count": 20,
   "id": "9d912874",
   "metadata": {},
   "outputs": [
    {
     "data": {
      "text/plain": [
       "4320"
      ]
     },
     "execution_count": 20,
     "metadata": {},
     "output_type": "execute_result"
    }
   ],
   "source": [
    "Ext.shape[0]"
   ]
  },
  {
   "cell_type": "code",
   "execution_count": 21,
   "id": "680222ff",
   "metadata": {},
   "outputs": [
    {
     "data": {
      "text/plain": [
       "(49248, 6)"
      ]
     },
     "execution_count": 21,
     "metadata": {},
     "output_type": "execute_result"
    }
   ],
   "source": [
    "TrainVal_scaled[4320:].shape"
   ]
  },
  {
   "cell_type": "code",
   "execution_count": 22,
   "id": "a4ef76d1",
   "metadata": {},
   "outputs": [],
   "source": [
    "train = a[:TrainVal_scaled[4320:].shape[0]]"
   ]
  },
  {
   "cell_type": "code",
   "execution_count": 23,
   "id": "f65028fa",
   "metadata": {},
   "outputs": [
    {
     "data": {
      "text/plain": [
       "(49248, 14)"
      ]
     },
     "execution_count": 23,
     "metadata": {},
     "output_type": "execute_result"
    }
   ],
   "source": [
    "train.shape"
   ]
  },
  {
   "cell_type": "code",
   "execution_count": 24,
   "id": "b07be8d3",
   "metadata": {},
   "outputs": [],
   "source": [
    "test = a[TrainVal_scaled[4320:].shape[0]:]"
   ]
  },
  {
   "cell_type": "code",
   "execution_count": 25,
   "id": "80b194c7",
   "metadata": {},
   "outputs": [
    {
     "data": {
      "text/plain": [
       "(4032, 14)"
      ]
     },
     "execution_count": 25,
     "metadata": {},
     "output_type": "execute_result"
    }
   ],
   "source": [
    "test.shape"
   ]
  },
  {
   "cell_type": "code",
   "execution_count": 26,
   "id": "51da75bd",
   "metadata": {},
   "outputs": [
    {
     "data": {
      "text/plain": [
       "(4032, 6)"
      ]
     },
     "execution_count": 26,
     "metadata": {},
     "output_type": "execute_result"
    }
   ],
   "source": [
    "Test_scaled.shape"
   ]
  },
  {
   "cell_type": "markdown",
   "id": "9652f618",
   "metadata": {},
   "source": [
    "#### Confirmation"
   ]
  },
  {
   "cell_type": "code",
   "execution_count": 27,
   "id": "e54b954b",
   "metadata": {},
   "outputs": [
    {
     "data": {
      "text/plain": [
       "array([0.0987055 , 0.16343042, 0.13754045, 0.0566343 , 0.12783172,\n",
       "       0.1197411 , 0.0987055 , 0.11003236, 0.07605178, 0.06957929,\n",
       "       0.11650485, 0.05339806, 0.09385113, 0.06634304])"
      ]
     },
     "execution_count": 27,
     "metadata": {},
     "output_type": "execute_result"
    }
   ],
   "source": [
    "test[0]"
   ]
  },
  {
   "cell_type": "code",
   "execution_count": 28,
   "id": "1d6958b1",
   "metadata": {},
   "outputs": [
    {
     "data": {
      "text/plain": [
       "0.0566343042071197"
      ]
     },
     "execution_count": 28,
     "metadata": {},
     "output_type": "execute_result"
    }
   ],
   "source": [
    "TrainVal_scaled.iloc[-2016]['f4']  "
   ]
  },
  {
   "cell_type": "markdown",
   "id": "c9f417ab",
   "metadata": {},
   "source": [
    "# Save Data"
   ]
  },
  {
   "cell_type": "code",
   "execution_count": 29,
   "id": "8f208ced",
   "metadata": {},
   "outputs": [],
   "source": [
    "joblib.dump(train, \"002weeks_train.save\");\n",
    "joblib.dump(test, \"002weeks_test.save\"); "
   ]
  }
 ],
 "metadata": {
  "kernelspec": {
   "display_name": "Python 3 (ipykernel)",
   "language": "python",
   "name": "python3"
  },
  "language_info": {
   "codemirror_mode": {
    "name": "ipython",
    "version": 3
   },
   "file_extension": ".py",
   "mimetype": "text/x-python",
   "name": "python",
   "nbconvert_exporter": "python",
   "pygments_lexer": "ipython3",
   "version": "3.11.5"
  }
 },
 "nbformat": 4,
 "nbformat_minor": 5
}
