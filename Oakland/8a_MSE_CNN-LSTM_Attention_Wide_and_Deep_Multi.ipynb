{
 "cells": [
  {
   "cell_type": "code",
   "execution_count": 1,
   "metadata": {},
   "outputs": [],
   "source": [
    "import pandas as pd\n",
    "import numpy as np\n",
    "import matplotlib.pyplot as plt\n",
    "import seaborn as sns\n",
    "import joblib\n",
    "import os"
   ]
  },
  {
   "cell_type": "code",
   "execution_count": 2,
   "metadata": {},
   "outputs": [],
   "source": [
    "import keras_tuner as kt\n",
    "from keras_tuner import RandomSearch\n",
    "# from GEH_LOSS import GEH_loss\n",
    "import geh as ga"
   ]
  },
  {
   "cell_type": "code",
   "execution_count": 3,
   "metadata": {},
   "outputs": [],
   "source": [
    "from sklearn.metrics import mean_absolute_error,mean_squared_error,mean_absolute_percentage_error"
   ]
  },
  {
   "cell_type": "code",
   "execution_count": 4,
   "metadata": {},
   "outputs": [],
   "source": [
    "import relative_accuracy as ra"
   ]
  },
  {
   "cell_type": "code",
   "execution_count": 5,
   "metadata": {},
   "outputs": [],
   "source": [
    "# Load all Inputs and Output Data\n",
    "\n",
    "# 5 mins (1 step ahead)\n",
    "Deep_train_5   = np.load(\"Deep_train_5_multi.npz\")['x'] \n",
    "Output_train_5 = np.load(\"Deep_train_5_multi.npz\")['y']\n",
    "\n",
    "Deep_test_5   = np.load(\"Deep_test_5_multi.npz\")['x'] \n",
    "Output_test_5 = np.load(\"Deep_test_5_multi.npz\")['y'] \n",
    "\n",
    "# 15 mins (3 steps ahead)\n",
    "Deep_train_15   = np.load(\"Deep_train_15_multi.npz\")['x'] \n",
    "Output_train_15 = np.load(\"Deep_train_15_multi.npz\")['y']\n",
    "\n",
    "Deep_test_15   = np.load(\"Deep_test_15_multi.npz\")['x'] \n",
    "Output_test_15 = np.load(\"Deep_test_15_multi.npz\")['y']\n",
    "\n",
    "# 30 mins (6 steps ahead)\n",
    "Deep_train_30   = np.load(\"Deep_train_30_multi.npz\")['x'] \n",
    "Output_train_30 = np.load(\"Deep_train_30_multi.npz\")['y']\n",
    "\n",
    "Deep_test_30   = np.load(\"Deep_test_30_multi.npz\")['x'] \n",
    "Output_test_30 = np.load(\"Deep_test_30_multi.npz\")['y']\n",
    "\n",
    "# 60 mins (12 steps ahead)\n",
    "Deep_train_60   = np.load(\"Deep_train_60_multi.npz\")['x'] \n",
    "Output_train_60 = np.load(\"Deep_train_60_multi.npz\")['y']\n",
    "\n",
    "Deep_test_60   = np.load(\"Deep_test_60_multi.npz\")['x'] \n",
    "Output_test_60 = np.load(\"Deep_test_60_multi.npz\")['y']"
   ]
  },
  {
   "cell_type": "code",
   "execution_count": 6,
   "metadata": {},
   "outputs": [],
   "source": [
    "# Wide Data\n",
    "Xtrain = joblib.load(\"002weeks_train_Multi.save\") \n",
    "Xtest = joblib.load(\"002weeks_test_Multi.save\") "
   ]
  },
  {
   "cell_type": "code",
   "execution_count": 7,
   "metadata": {},
   "outputs": [],
   "source": [
    "# 5 mins\n",
    "# Delete first 15 samples\n",
    "Wide_train_5 = np.delete(Xtrain, np.s_[0:15], 0)\n",
    "Wide_test_5 = np.delete(Xtest, np.s_[0:15], 0)"
   ]
  },
  {
   "cell_type": "code",
   "execution_count": 8,
   "metadata": {},
   "outputs": [],
   "source": [
    "# 15 mins\n",
    "# Delete first 17 samples\n",
    "Wide_train_15 = np.delete(Xtrain, np.s_[0:17], 0)\n",
    "Wide_test_15 = np.delete(Xtest, np.s_[0:17], 0)"
   ]
  },
  {
   "cell_type": "code",
   "execution_count": 9,
   "metadata": {},
   "outputs": [],
   "source": [
    "# 30 mins\n",
    "# Delete first 20 samples\n",
    "Wide_train_30 = np.delete(Xtrain, np.s_[0:20], 0)\n",
    "Wide_test_30 = np.delete(Xtest, np.s_[0:20], 0)"
   ]
  },
  {
   "cell_type": "code",
   "execution_count": 10,
   "metadata": {},
   "outputs": [],
   "source": [
    "# 60 mins\n",
    "# Delete first 27 samples\n",
    "Wide_train_60 = np.delete(Xtrain, np.s_[0:26], 0)\n",
    "Wide_test_60 = np.delete(Xtest, np.s_[0:26], 0)"
   ]
  },
  {
   "cell_type": "code",
   "execution_count": 11,
   "metadata": {},
   "outputs": [],
   "source": [
    "scaler_filename = \"scaler.save\"\n",
    "scaler = joblib.load(scaler_filename) "
   ]
  },
  {
   "cell_type": "code",
   "execution_count": 12,
   "metadata": {},
   "outputs": [],
   "source": [
    "Test      = pd.read_csv('01test_scaled.csv', index_col=None, parse_dates=[0])"
   ]
  },
  {
   "cell_type": "code",
   "execution_count": 56,
   "metadata": {},
   "outputs": [],
   "source": [
    "from mpl_toolkits.axes_grid1.inset_locator import inset_axes\n",
    "from mpl_toolkits.axes_grid1.inset_locator import mark_inset\n",
    "from matplotlib import ticker\n",
    "formatter = ticker.ScalarFormatter(useMathText=True)\n",
    "formatter.set_scientific(True) \n",
    "formatter.set_powerlimits((-1,1)) \n",
    "plt.rc('font', size=22)"
   ]
  },
  {
   "cell_type": "markdown",
   "metadata": {},
   "source": [
    "# Reshape Samples"
   ]
  },
  {
   "cell_type": "markdown",
   "metadata": {},
   "source": [
    "The first step is to split the input sequences into subsequences that can be processed by the CNN model. Here, each spatio-temporal sample can be split into three sub-samples, each with five time steps. The CNN can interpret each subsequence of five time steps and provide a time series of interpretations of the subsequences to the LSTM model to process as input."
   ]
  },
  {
   "cell_type": "code",
   "execution_count": 14,
   "metadata": {},
   "outputs": [],
   "source": [
    "# reshape from [samples, timesteps] into [samples, subsequences, timesteps, features]\n",
    "n_features = 6                # No of loop detectors\n",
    "n_seq = 3                     # Subsequences\n",
    "n_steps = 5                   # time-step per subsequence\n",
    "# val_percent = 0.07567       # 2 weeks\n",
    "val_percent = 0.2        \n",
    "batch_size = 32\n",
    "\n",
    "n_seq_ = 3                     # Subsequences\n",
    "n_steps_ = 3                   # time-step per subsequence"
   ]
  },
  {
   "cell_type": "markdown",
   "metadata": {},
   "source": [
    "#### 5 mins"
   ]
  },
  {
   "cell_type": "code",
   "execution_count": 15,
   "metadata": {},
   "outputs": [],
   "source": [
    "# Train\n",
    "# reshape from [samples, timesteps] into [samples, subsequences, timesteps, features]\n",
    "Xt5 = Deep_train_5.reshape((Deep_train_5.shape[0], n_seq, n_steps, n_features))\n",
    "yt5 = scaler.inverse_transform(Output_train_5)"
   ]
  },
  {
   "cell_type": "code",
   "execution_count": 16,
   "metadata": {},
   "outputs": [],
   "source": [
    "# Test\n",
    "# reshape from [samples, timesteps] into [samples, subsequences, timesteps, features]\n",
    "Xv5 = Deep_test_5.reshape((Deep_test_5.shape[0], n_seq, n_steps, n_features))\n",
    "yv5 = scaler.inverse_transform(Output_test_5)"
   ]
  },
  {
   "cell_type": "markdown",
   "metadata": {},
   "source": [
    "#### 15 mins"
   ]
  },
  {
   "cell_type": "code",
   "execution_count": 17,
   "metadata": {},
   "outputs": [],
   "source": [
    "# Train\n",
    "# reshape from [samples, timesteps] into [samples, subsequences, timesteps, features]\n",
    "Xt15 = Deep_train_15.reshape((Deep_train_15.shape[0], n_seq, n_steps, n_features))\n",
    "yt15 = scaler.inverse_transform(Output_train_15)"
   ]
  },
  {
   "cell_type": "code",
   "execution_count": 18,
   "metadata": {},
   "outputs": [],
   "source": [
    "# Test\n",
    "# reshape from [samples, timesteps] into [samples, subsequences, timesteps, features]\n",
    "Xv15 = Deep_test_15.reshape((Deep_test_15.shape[0], n_seq, n_steps, n_features))\n",
    "yv15 = scaler.inverse_transform(Output_test_15)"
   ]
  },
  {
   "cell_type": "markdown",
   "metadata": {},
   "source": [
    "#### 30 mins"
   ]
  },
  {
   "cell_type": "code",
   "execution_count": 19,
   "metadata": {},
   "outputs": [],
   "source": [
    "# Train\n",
    "# reshape from [samples, timesteps] into [samples, subsequences, timesteps, features]\n",
    "Xt30 = Deep_train_30.reshape((Deep_train_30.shape[0], n_seq, n_steps, n_features))\n",
    "yt30 = scaler.inverse_transform(Output_train_30)"
   ]
  },
  {
   "cell_type": "code",
   "execution_count": 20,
   "metadata": {},
   "outputs": [],
   "source": [
    "# Test\n",
    "# reshape from [samples, timesteps] into [samples, subsequences, timesteps, features]\n",
    "Xv30 = Deep_test_30.reshape((Deep_test_30.shape[0], n_seq, n_steps, n_features))\n",
    "yv30 = scaler.inverse_transform(Output_test_30)"
   ]
  },
  {
   "cell_type": "markdown",
   "metadata": {},
   "source": [
    "#### 60 mins"
   ]
  },
  {
   "cell_type": "code",
   "execution_count": 21,
   "metadata": {},
   "outputs": [],
   "source": [
    "# Train\n",
    "# reshape from [samples, timesteps] into [samples, subsequences, timesteps, features]\n",
    "Xt60 = Deep_train_60.reshape((Deep_train_60.shape[0], n_seq, n_steps, n_features))\n",
    "yt60 = scaler.inverse_transform(Output_train_60)"
   ]
  },
  {
   "cell_type": "code",
   "execution_count": 22,
   "metadata": {},
   "outputs": [],
   "source": [
    "# Test\n",
    "# reshape from [samples, timesteps] into [samples, subsequences, timesteps, features]\n",
    "Xv60 = Deep_test_60.reshape((Deep_test_60.shape[0], n_seq, n_steps, n_features))\n",
    "yv60 = scaler.inverse_transform(Output_test_60)"
   ]
  },
  {
   "cell_type": "markdown",
   "metadata": {},
   "source": [
    "### Reshaping the Data for Conv2D layer\n",
    "\n",
    "For Conv2D, there is a need to add one more dimension to show we're dealing with 1 channel (since technically the images are in black and white, only showing values from 0-max flow on a single channel).\n",
    "\n",
    "Conv1D - strides in 1 dimension\n",
    "Conv2D - strides in 2 dimensions"
   ]
  },
  {
   "cell_type": "code",
   "execution_count": 23,
   "metadata": {},
   "outputs": [],
   "source": [
    "# define no_of_channels\n",
    "n_channels = 1"
   ]
  },
  {
   "cell_type": "code",
   "execution_count": 24,
   "metadata": {},
   "outputs": [],
   "source": [
    "# Train data\n",
    "Xt5  =  Xt5.reshape(Xt5.shape[0], n_seq, n_steps, n_features, n_channels)\n",
    "Xt15 =  Xt15.reshape(Xt15.shape[0], n_seq, n_steps, n_features, n_channels)\n",
    "Xt30 =  Xt30.reshape(Xt30.shape[0], n_seq, n_steps, n_features, n_channels)\n",
    "Xt60 =  Xt60.reshape(Xt60.shape[0], n_seq, n_steps, n_features, n_channels)\n",
    "\n",
    "# Validation data\n",
    "Xv5  =  Xv5.reshape(Xv5.shape[0], n_seq, n_steps, n_features, n_channels)\n",
    "Xv15 =  Xv15.reshape(Xv15.shape[0], n_seq, n_steps, n_features, n_channels)\n",
    "Xv30 =  Xv30.reshape(Xv30.shape[0], n_seq, n_steps, n_features, n_channels)\n",
    "Xv60 =  Xv60.reshape(Xv60.shape[0], n_seq, n_steps, n_features, n_channels)"
   ]
  },
  {
   "cell_type": "code",
   "execution_count": 25,
   "metadata": {},
   "outputs": [],
   "source": [
    "Wt5  = Wide_train_5\n",
    "Wt15 = Wide_train_15\n",
    "Wt30 = Wide_train_30\n",
    "Wt60 = Wide_train_60\n",
    "\n",
    "Wv5  = Wide_test_5\n",
    "Wv15 = Wide_test_15\n",
    "Wv30 = Wide_test_30\n",
    "Wv60 = Wide_test_60"
   ]
  },
  {
   "cell_type": "code",
   "execution_count": 26,
   "metadata": {},
   "outputs": [],
   "source": [
    "# Train data\n",
    "Wt5  =  Wt5.reshape(Wt5.shape[0], n_seq_, n_steps_, n_features)\n",
    "Wt15 =  Wt15.reshape(Wt15.shape[0], n_seq_, n_steps_, n_features)\n",
    "Wt30 =  Wt30.reshape(Wt30.shape[0], n_seq_, n_steps_, n_features)\n",
    "Wt60 =  Wt60.reshape(Wt60.shape[0], n_seq_, n_steps_, n_features)\n",
    "\n",
    "# Validation data\n",
    "Wv5  =  Wv5.reshape(Wv5.shape[0], n_seq_, n_steps_, n_features)\n",
    "Wv15 =  Wv15.reshape(Wv15.shape[0], n_seq_, n_steps_, n_features)\n",
    "Wv30 =  Wv30.reshape(Wv30.shape[0], n_seq_, n_steps_, n_features)\n",
    "Wv60 =  Wv60.reshape(Wv60.shape[0], n_seq_, n_steps_, n_features)"
   ]
  },
  {
   "cell_type": "code",
   "execution_count": 27,
   "metadata": {},
   "outputs": [
    {
     "data": {
      "text/plain": [
       "(49233, 3, 5, 6, 1)"
      ]
     },
     "execution_count": 27,
     "metadata": {},
     "output_type": "execute_result"
    }
   ],
   "source": [
    "Xt5.shape"
   ]
  },
  {
   "cell_type": "code",
   "execution_count": 28,
   "metadata": {},
   "outputs": [
    {
     "data": {
      "text/plain": [
       "(49233, 3, 3, 6)"
      ]
     },
     "execution_count": 28,
     "metadata": {},
     "output_type": "execute_result"
    }
   ],
   "source": [
    "Wt5.shape"
   ]
  },
  {
   "cell_type": "markdown",
   "metadata": {},
   "source": [
    "# CNN-LSTM model"
   ]
  },
  {
   "cell_type": "code",
   "execution_count": 29,
   "metadata": {},
   "outputs": [],
   "source": [
    "from tensorflow import keras\n",
    "from keras_self_attention import SeqSelfAttention\n",
    "\n",
    "# Early Stopping\n",
    "early_stop = keras.callbacks.EarlyStopping(monitor='val_loss',patience=5, restore_best_weights = True)"
   ]
  },
  {
   "cell_type": "code",
   "execution_count": 30,
   "metadata": {},
   "outputs": [
    {
     "data": {
      "text/plain": [
       "(49233, 9, 6)"
      ]
     },
     "execution_count": 30,
     "metadata": {},
     "output_type": "execute_result"
    }
   ],
   "source": [
    "Wide_train_5.shape"
   ]
  },
  {
   "cell_type": "markdown",
   "metadata": {},
   "source": [
    "# 5 mins ahead"
   ]
  },
  {
   "cell_type": "code",
   "execution_count": 30,
   "metadata": {},
   "outputs": [],
   "source": [
    "def build_model_5(hp):\n",
    "    # Inputs\n",
    "    channel_Wide = keras.layers.Input(shape=Wt5.shape[1:], name=\"WideInput\")\n",
    "    channel_Deep = keras.layers.Input(shape=Xt5.shape[1:], name=\"DeepInput\")\n",
    "    units = hp.Int(\"units\", min_value=1, max_value=100, step=1)\n",
    "    \n",
    "    \n",
    "    # Wide Model\n",
    "    flatten_5w = keras.layers.TimeDistributed(keras.layers.Flatten())(channel_Wide)\n",
    "    Bi_5 = keras.layers.Bidirectional(\n",
    "        keras.layers.LSTM(units=units, return_sequences=True),\n",
    "        merge_mode=\"ave\"\n",
    "    )(flatten_5w)\n",
    "    \n",
    "    \n",
    "    # Deep Model\n",
    "    # CNN \n",
    "    CNN_5 = keras.layers.TimeDistributed(\n",
    "        keras.layers.Conv2D(filters=hp.Int(\"filters\", min_value=32, max_value=512, step=32),\n",
    "                            kernel_size=hp.Choice(\"kernel_size\", [2, 3]), activation='relu'))(channel_Deep)\n",
    "    flatten_5 = keras.layers.TimeDistributed(keras.layers.Flatten())(CNN_5)\n",
    "    # LSTM          \n",
    "    LSTM_5 = keras.layers.LSTM(units=units, return_sequences=True)(flatten_5)\n",
    "\n",
    "    \n",
    "    # Concatenation \n",
    "    concat = keras.layers.concatenate([Bi_5, LSTM_5], axis=1)\n",
    "\n",
    "    # Attention\n",
    "    Att_5 = SeqSelfAttention(attention_activation='sigmoid')(concat)\n",
    "    merge = keras.layers.Flatten()(Att_5)\n",
    "\n",
    "    \n",
    "    # Output\n",
    "    output = keras.layers.Dense(n_features, name= \"output\")(merge)\n",
    "    \n",
    "    # Model\n",
    "    model_5 = keras.Model(inputs=[channel_Wide,channel_Deep], outputs=[output])\n",
    "\n",
    "    # Compile\n",
    "    model_5.compile(optimizer=keras.optimizers.Adam(hp.Choice(\"learning_rate\", [1e-2, 1e-3, 1e-4])), \n",
    "        loss=\"mse\", metrics=['MeanAbsoluteError','RootMeanSquaredError','MeanAbsolutePercentageError'])\n",
    "                                   \n",
    "    return model_5"
   ]
  },
  {
   "cell_type": "code",
   "execution_count": 31,
   "metadata": {},
   "outputs": [],
   "source": [
    "tuner5 = RandomSearch(\n",
    "    build_model_5,\n",
    "    objective=\"val_loss\",\n",
    "    max_trials=60,\n",
    "    executions_per_trial=2,\n",
    "    overwrite=True,\n",
    "    directory=os.path.normpath('C:/RunsOak'),\n",
    "    project_name=\"8a-5\",\n",
    ")"
   ]
  },
  {
   "cell_type": "code",
   "execution_count": 32,
   "metadata": {},
   "outputs": [
    {
     "name": "stdout",
     "output_type": "stream",
     "text": [
      "Search space summary\n",
      "Default search space size: 4\n",
      "units (Int)\n",
      "{'default': None, 'conditions': [], 'min_value': 1, 'max_value': 100, 'step': 1, 'sampling': None}\n",
      "filters (Int)\n",
      "{'default': None, 'conditions': [], 'min_value': 32, 'max_value': 512, 'step': 32, 'sampling': None}\n",
      "kernel_size (Choice)\n",
      "{'default': 2, 'conditions': [], 'values': [2, 3], 'ordered': True}\n",
      "learning_rate (Choice)\n",
      "{'default': 0.01, 'conditions': [], 'values': [0.01, 0.001, 0.0001], 'ordered': True}\n"
     ]
    }
   ],
   "source": [
    "tuner5.search_space_summary()"
   ]
  },
  {
   "cell_type": "code",
   "execution_count": 33,
   "metadata": {},
   "outputs": [
    {
     "name": "stdout",
     "output_type": "stream",
     "text": [
      "Trial 60 Complete [00h 07m 00s]\n",
      "val_loss: 734.6591186523438\n",
      "\n",
      "Best val_loss So Far: 379.8266143798828\n",
      "Total elapsed time: 00h 40m 41s\n",
      "INFO:tensorflow:Oracle triggered exit\n"
     ]
    }
   ],
   "source": [
    "tuner5.search((Wt5,Xt5), yt5, epochs=200,\n",
    "           validation_split = val_percent,\n",
    "           callbacks = [early_stop],\n",
    "           verbose=2)"
   ]
  },
  {
   "cell_type": "code",
   "execution_count": 34,
   "metadata": {},
   "outputs": [
    {
     "name": "stdout",
     "output_type": "stream",
     "text": [
      "Results summary\n",
      "Results in C:\\RunsOak\\8a-5\n",
      "Showing 1 best trials\n",
      "Objective(name='val_loss', direction='min')\n",
      "Trial summary\n",
      "Hyperparameters:\n",
      "units: 86\n",
      "filters: 64\n",
      "kernel_size: 3\n",
      "learning_rate: 0.001\n",
      "Score: 379.8266143798828\n"
     ]
    }
   ],
   "source": [
    "tuner5.results_summary(1)"
   ]
  },
  {
   "cell_type": "markdown",
   "metadata": {},
   "source": [
    "### Best Model"
   ]
  },
  {
   "cell_type": "code",
   "execution_count": 35,
   "metadata": {},
   "outputs": [],
   "source": [
    "best_hp5 = tuner5.get_best_hyperparameters()[0]\n",
    "model5 = tuner5.hypermodel.build(best_hp5)"
   ]
  },
  {
   "cell_type": "code",
   "execution_count": 36,
   "metadata": {},
   "outputs": [
    {
     "data": {
      "text/plain": [
       "['Best_HP/8a-5']"
      ]
     },
     "execution_count": 36,
     "metadata": {},
     "output_type": "execute_result"
    }
   ],
   "source": [
    "scaler_filename = \"Best_HP/8a-5\"\n",
    "joblib.dump(best_hp5, scaler_filename) "
   ]
  },
  {
   "cell_type": "code",
   "execution_count": 37,
   "metadata": {},
   "outputs": [
    {
     "name": "stdout",
     "output_type": "stream",
     "text": [
      "Model: \"model_1\"\n",
      "__________________________________________________________________________________________________\n",
      " Layer (type)                   Output Shape         Param #     Connected to                     \n",
      "==================================================================================================\n",
      " DeepInput (InputLayer)         [(None, 3, 5, 6, 1)  0           []                               \n",
      "                                ]                                                                 \n",
      "                                                                                                  \n",
      " WideInput (InputLayer)         [(None, 3, 3, 6)]    0           []                               \n",
      "                                                                                                  \n",
      " time_distributed_4 (TimeDistri  (None, 3, 3, 4, 64)  640        ['DeepInput[0][0]']              \n",
      " buted)                                                                                           \n",
      "                                                                                                  \n",
      " time_distributed_3 (TimeDistri  (None, 3, 18)       0           ['WideInput[0][0]']              \n",
      " buted)                                                                                           \n",
      "                                                                                                  \n",
      " time_distributed_5 (TimeDistri  (None, 3, 768)      0           ['time_distributed_4[0][0]']     \n",
      " buted)                                                                                           \n",
      "                                                                                                  \n",
      " bidirectional_1 (Bidirectional  (None, 3, 86)       72240       ['time_distributed_3[0][0]']     \n",
      " )                                                                                                \n",
      "                                                                                                  \n",
      " lstm_3 (LSTM)                  (None, 3, 86)        294120      ['time_distributed_5[0][0]']     \n",
      "                                                                                                  \n",
      " concatenate_1 (Concatenate)    (None, 6, 86)        0           ['bidirectional_1[0][0]',        \n",
      "                                                                  'lstm_3[0][0]']                 \n",
      "                                                                                                  \n",
      " seq_self_attention_1 (SeqSelfA  (None, 6, 86)       5569        ['concatenate_1[0][0]']          \n",
      " ttention)                                                                                        \n",
      "                                                                                                  \n",
      " flatten_5 (Flatten)            (None, 516)          0           ['seq_self_attention_1[0][0]']   \n",
      "                                                                                                  \n",
      " output (Dense)                 (None, 6)            3102        ['flatten_5[0][0]']              \n",
      "                                                                                                  \n",
      "==================================================================================================\n",
      "Total params: 375,671\n",
      "Trainable params: 375,671\n",
      "Non-trainable params: 0\n",
      "__________________________________________________________________________________________________\n"
     ]
    }
   ],
   "source": [
    "model5.summary()"
   ]
  },
  {
   "cell_type": "code",
   "execution_count": 38,
   "metadata": {},
   "outputs": [
    {
     "name": "stdout",
     "output_type": "stream",
     "text": [
      "Epoch 1/100\n",
      "1539/1539 [==============================] - 24s 13ms/step - loss: 5091.4775 - mean_absolute_error: 44.1372 - root_mean_squared_error: 71.3546 - mean_absolute_percentage_error: 58.7683\n",
      "Epoch 2/100\n",
      "1539/1539 [==============================] - 20s 13ms/step - loss: 720.1926 - mean_absolute_error: 18.8023 - root_mean_squared_error: 26.8364 - mean_absolute_percentage_error: 30.3378\n",
      "Epoch 3/100\n",
      "1539/1539 [==============================] - 19s 12ms/step - loss: 531.9703 - mean_absolute_error: 16.0269 - root_mean_squared_error: 23.0645 - mean_absolute_percentage_error: 25.2640\n",
      "Epoch 4/100\n",
      "1539/1539 [==============================] - 19s 13ms/step - loss: 459.3876 - mean_absolute_error: 15.0489 - root_mean_squared_error: 21.4333 - mean_absolute_percentage_error: 22.8458\n",
      "Epoch 5/100\n",
      "1539/1539 [==============================] - 20s 13ms/step - loss: 427.1950 - mean_absolute_error: 14.5311 - root_mean_squared_error: 20.6687 - mean_absolute_percentage_error: 21.3143\n",
      "Epoch 6/100\n",
      "1539/1539 [==============================] - 20s 13ms/step - loss: 409.3202 - mean_absolute_error: 14.2171 - root_mean_squared_error: 20.2317 - mean_absolute_percentage_error: 20.5706\n",
      "Epoch 7/100\n",
      "1539/1539 [==============================] - 19s 12ms/step - loss: 399.1383 - mean_absolute_error: 14.0315 - root_mean_squared_error: 19.9784 - mean_absolute_percentage_error: 20.1459\n",
      "Epoch 8/100\n",
      "1539/1539 [==============================] - 20s 13ms/step - loss: 391.0078 - mean_absolute_error: 13.8642 - root_mean_squared_error: 19.7739 - mean_absolute_percentage_error: 19.7577\n",
      "Epoch 9/100\n",
      "1539/1539 [==============================] - 19s 13ms/step - loss: 384.0121 - mean_absolute_error: 13.7343 - root_mean_squared_error: 19.5962 - mean_absolute_percentage_error: 19.4875\n",
      "Epoch 10/100\n",
      "1539/1539 [==============================] - 19s 13ms/step - loss: 379.7654 - mean_absolute_error: 13.6471 - root_mean_squared_error: 19.4876 - mean_absolute_percentage_error: 19.2568\n",
      "Epoch 11/100\n",
      "1539/1539 [==============================] - 20s 13ms/step - loss: 376.7481 - mean_absolute_error: 13.5756 - root_mean_squared_error: 19.4100 - mean_absolute_percentage_error: 19.0803\n",
      "Epoch 12/100\n",
      "1539/1539 [==============================] - 20s 13ms/step - loss: 372.0385 - mean_absolute_error: 13.4877 - root_mean_squared_error: 19.2883 - mean_absolute_percentage_error: 18.8713\n",
      "Epoch 13/100\n",
      "1539/1539 [==============================] - 20s 13ms/step - loss: 370.4902 - mean_absolute_error: 13.4621 - root_mean_squared_error: 19.2481 - mean_absolute_percentage_error: 18.7483\n",
      "Epoch 14/100\n",
      "1539/1539 [==============================] - 20s 13ms/step - loss: 368.6052 - mean_absolute_error: 13.4088 - root_mean_squared_error: 19.1991 - mean_absolute_percentage_error: 18.6630\n",
      "Epoch 15/100\n",
      "1539/1539 [==============================] - 20s 13ms/step - loss: 366.1986 - mean_absolute_error: 13.3751 - root_mean_squared_error: 19.1363 - mean_absolute_percentage_error: 18.5333\n",
      "Epoch 16/100\n",
      "1539/1539 [==============================] - 20s 13ms/step - loss: 364.6686 - mean_absolute_error: 13.3495 - root_mean_squared_error: 19.0963 - mean_absolute_percentage_error: 18.4890\n",
      "Epoch 17/100\n",
      "1539/1539 [==============================] - 20s 13ms/step - loss: 362.4942 - mean_absolute_error: 13.2882 - root_mean_squared_error: 19.0393 - mean_absolute_percentage_error: 18.2605\n",
      "Epoch 18/100\n",
      "1539/1539 [==============================] - 20s 13ms/step - loss: 360.5563 - mean_absolute_error: 13.2549 - root_mean_squared_error: 18.9883 - mean_absolute_percentage_error: 18.2188\n",
      "Epoch 19/100\n",
      "1539/1539 [==============================] - 19s 12ms/step - loss: 358.9092 - mean_absolute_error: 13.2212 - root_mean_squared_error: 18.9449 - mean_absolute_percentage_error: 18.1417\n",
      "Epoch 20/100\n",
      "1539/1539 [==============================] - 19s 12ms/step - loss: 359.1556 - mean_absolute_error: 13.2360 - root_mean_squared_error: 18.9514 - mean_absolute_percentage_error: 18.1991\n",
      "Epoch 21/100\n",
      "1539/1539 [==============================] - 19s 13ms/step - loss: 356.4880 - mean_absolute_error: 13.1887 - root_mean_squared_error: 18.8809 - mean_absolute_percentage_error: 18.1157\n",
      "Epoch 22/100\n",
      "1539/1539 [==============================] - 19s 12ms/step - loss: 356.1754 - mean_absolute_error: 13.1786 - root_mean_squared_error: 18.8726 - mean_absolute_percentage_error: 18.0750\n",
      "Epoch 23/100\n",
      "1539/1539 [==============================] - 19s 12ms/step - loss: 353.8470 - mean_absolute_error: 13.1362 - root_mean_squared_error: 18.8108 - mean_absolute_percentage_error: 17.9882\n",
      "Epoch 24/100\n",
      "1539/1539 [==============================] - 20s 13ms/step - loss: 352.1698 - mean_absolute_error: 13.1066 - root_mean_squared_error: 18.7662 - mean_absolute_percentage_error: 17.9304\n",
      "Epoch 25/100\n",
      "1539/1539 [==============================] - 20s 13ms/step - loss: 351.3498 - mean_absolute_error: 13.0969 - root_mean_squared_error: 18.7443 - mean_absolute_percentage_error: 17.8947\n",
      "Epoch 26/100\n",
      "1539/1539 [==============================] - 20s 13ms/step - loss: 350.5436 - mean_absolute_error: 13.0788 - root_mean_squared_error: 18.7228 - mean_absolute_percentage_error: 17.8262\n",
      "Epoch 27/100\n",
      "1539/1539 [==============================] - 19s 12ms/step - loss: 348.6566 - mean_absolute_error: 13.0387 - root_mean_squared_error: 18.6723 - mean_absolute_percentage_error: 17.7740\n",
      "Epoch 28/100\n",
      "1539/1539 [==============================] - 19s 13ms/step - loss: 347.9633 - mean_absolute_error: 13.0254 - root_mean_squared_error: 18.6538 - mean_absolute_percentage_error: 17.7640\n",
      "Epoch 29/100\n",
      "1539/1539 [==============================] - 19s 13ms/step - loss: 345.7225 - mean_absolute_error: 12.9844 - root_mean_squared_error: 18.5936 - mean_absolute_percentage_error: 17.6249\n",
      "Epoch 30/100\n",
      "1539/1539 [==============================] - 19s 13ms/step - loss: 346.6247 - mean_absolute_error: 13.0111 - root_mean_squared_error: 18.6179 - mean_absolute_percentage_error: 17.7261\n",
      "Epoch 31/100\n",
      "1539/1539 [==============================] - 20s 13ms/step - loss: 344.8388 - mean_absolute_error: 12.9765 - root_mean_squared_error: 18.5698 - mean_absolute_percentage_error: 17.6753\n",
      "Epoch 32/100\n",
      "1539/1539 [==============================] - 19s 13ms/step - loss: 343.0675 - mean_absolute_error: 12.9396 - root_mean_squared_error: 18.5221 - mean_absolute_percentage_error: 17.5525\n",
      "Epoch 33/100\n",
      "1539/1539 [==============================] - 19s 13ms/step - loss: 342.6612 - mean_absolute_error: 12.9377 - root_mean_squared_error: 18.5111 - mean_absolute_percentage_error: 17.6259\n",
      "Epoch 34/100\n",
      "1539/1539 [==============================] - 20s 13ms/step - loss: 340.9919 - mean_absolute_error: 12.9082 - root_mean_squared_error: 18.4660 - mean_absolute_percentage_error: 17.5791\n",
      "Epoch 35/100\n",
      "1539/1539 [==============================] - 20s 13ms/step - loss: 339.5009 - mean_absolute_error: 12.8726 - root_mean_squared_error: 18.4256 - mean_absolute_percentage_error: 17.4957\n",
      "Epoch 36/100\n",
      "1539/1539 [==============================] - 20s 13ms/step - loss: 339.1536 - mean_absolute_error: 12.8745 - root_mean_squared_error: 18.4161 - mean_absolute_percentage_error: 17.4297\n",
      "Epoch 37/100\n",
      "1539/1539 [==============================] - 19s 12ms/step - loss: 337.8869 - mean_absolute_error: 12.8437 - root_mean_squared_error: 18.3817 - mean_absolute_percentage_error: 17.4338\n",
      "Epoch 38/100\n",
      "1539/1539 [==============================] - 19s 12ms/step - loss: 335.9292 - mean_absolute_error: 12.8186 - root_mean_squared_error: 18.3284 - mean_absolute_percentage_error: 17.3935\n",
      "Epoch 39/100\n",
      "1539/1539 [==============================] - 19s 12ms/step - loss: 335.3841 - mean_absolute_error: 12.8101 - root_mean_squared_error: 18.3135 - mean_absolute_percentage_error: 17.4211\n",
      "Epoch 40/100\n",
      "1539/1539 [==============================] - 19s 13ms/step - loss: 333.8310 - mean_absolute_error: 12.7867 - root_mean_squared_error: 18.2710 - mean_absolute_percentage_error: 17.3709\n",
      "Epoch 41/100\n",
      "1539/1539 [==============================] - 20s 13ms/step - loss: 333.3681 - mean_absolute_error: 12.7732 - root_mean_squared_error: 18.2584 - mean_absolute_percentage_error: 17.3049\n",
      "Epoch 42/100\n",
      "1539/1539 [==============================] - 19s 13ms/step - loss: 332.4411 - mean_absolute_error: 12.7641 - root_mean_squared_error: 18.2330 - mean_absolute_percentage_error: 17.3592\n",
      "Epoch 43/100\n",
      "1539/1539 [==============================] - 19s 13ms/step - loss: 330.6272 - mean_absolute_error: 12.7320 - root_mean_squared_error: 18.1831 - mean_absolute_percentage_error: 17.2709\n",
      "Epoch 44/100\n",
      "1539/1539 [==============================] - 19s 12ms/step - loss: 330.5858 - mean_absolute_error: 12.7277 - root_mean_squared_error: 18.1820 - mean_absolute_percentage_error: 17.2455\n",
      "Epoch 45/100\n",
      "1539/1539 [==============================] - 19s 13ms/step - loss: 328.4805 - mean_absolute_error: 12.6991 - root_mean_squared_error: 18.1240 - mean_absolute_percentage_error: 17.2707\n",
      "Epoch 46/100\n",
      "1539/1539 [==============================] - 19s 13ms/step - loss: 328.2968 - mean_absolute_error: 12.6973 - root_mean_squared_error: 18.1190 - mean_absolute_percentage_error: 17.2387\n",
      "Epoch 47/100\n",
      "1539/1539 [==============================] - 19s 13ms/step - loss: 326.5267 - mean_absolute_error: 12.6547 - root_mean_squared_error: 18.0700 - mean_absolute_percentage_error: 17.1796\n",
      "Epoch 48/100\n",
      "1539/1539 [==============================] - 20s 13ms/step - loss: 325.4628 - mean_absolute_error: 12.6454 - root_mean_squared_error: 18.0406 - mean_absolute_percentage_error: 17.1830\n",
      "Epoch 49/100\n",
      "1539/1539 [==============================] - 20s 13ms/step - loss: 323.4803 - mean_absolute_error: 12.6002 - root_mean_squared_error: 17.9856 - mean_absolute_percentage_error: 17.1174\n",
      "Epoch 50/100\n",
      "1539/1539 [==============================] - 19s 13ms/step - loss: 322.9363 - mean_absolute_error: 12.5977 - root_mean_squared_error: 17.9704 - mean_absolute_percentage_error: 17.1073\n",
      "Epoch 51/100\n",
      "1539/1539 [==============================] - 20s 13ms/step - loss: 320.5934 - mean_absolute_error: 12.5570 - root_mean_squared_error: 17.9051 - mean_absolute_percentage_error: 17.0670\n",
      "Epoch 52/100\n",
      "1539/1539 [==============================] - 20s 13ms/step - loss: 319.9079 - mean_absolute_error: 12.5492 - root_mean_squared_error: 17.8860 - mean_absolute_percentage_error: 17.0494\n",
      "Epoch 53/100\n",
      "1539/1539 [==============================] - 20s 13ms/step - loss: 318.7488 - mean_absolute_error: 12.5243 - root_mean_squared_error: 17.8535 - mean_absolute_percentage_error: 17.0179\n",
      "Epoch 54/100\n",
      "1539/1539 [==============================] - 20s 13ms/step - loss: 316.7118 - mean_absolute_error: 12.4872 - root_mean_squared_error: 17.7964 - mean_absolute_percentage_error: 17.0328\n",
      "Epoch 55/100\n",
      "1539/1539 [==============================] - 19s 13ms/step - loss: 315.9767 - mean_absolute_error: 12.4804 - root_mean_squared_error: 17.7757 - mean_absolute_percentage_error: 17.0031\n",
      "Epoch 56/100\n",
      "1539/1539 [==============================] - 19s 12ms/step - loss: 314.7185 - mean_absolute_error: 12.4551 - root_mean_squared_error: 17.7403 - mean_absolute_percentage_error: 16.9352\n",
      "Epoch 57/100\n",
      "1539/1539 [==============================] - 19s 12ms/step - loss: 313.3087 - mean_absolute_error: 12.4421 - root_mean_squared_error: 17.7005 - mean_absolute_percentage_error: 16.9505\n",
      "Epoch 58/100\n",
      "1539/1539 [==============================] - 19s 12ms/step - loss: 311.4138 - mean_absolute_error: 12.4011 - root_mean_squared_error: 17.6469 - mean_absolute_percentage_error: 16.8840\n",
      "Epoch 59/100\n",
      "1539/1539 [==============================] - 19s 13ms/step - loss: 310.6594 - mean_absolute_error: 12.3863 - root_mean_squared_error: 17.6255 - mean_absolute_percentage_error: 16.8855\n",
      "Epoch 60/100\n",
      "1539/1539 [==============================] - 20s 13ms/step - loss: 309.6658 - mean_absolute_error: 12.3719 - root_mean_squared_error: 17.5973 - mean_absolute_percentage_error: 16.8466\n",
      "Epoch 61/100\n",
      "1539/1539 [==============================] - 19s 13ms/step - loss: 307.7126 - mean_absolute_error: 12.3404 - root_mean_squared_error: 17.5417 - mean_absolute_percentage_error: 16.8451\n",
      "Epoch 62/100\n",
      "1539/1539 [==============================] - 19s 12ms/step - loss: 306.3438 - mean_absolute_error: 12.3068 - root_mean_squared_error: 17.5027 - mean_absolute_percentage_error: 16.7789\n",
      "Epoch 63/100\n",
      "1539/1539 [==============================] - 20s 13ms/step - loss: 304.8518 - mean_absolute_error: 12.2928 - root_mean_squared_error: 17.4600 - mean_absolute_percentage_error: 16.7704\n",
      "Epoch 64/100\n",
      "1539/1539 [==============================] - 20s 13ms/step - loss: 303.5723 - mean_absolute_error: 12.2720 - root_mean_squared_error: 17.4233 - mean_absolute_percentage_error: 16.7561\n",
      "Epoch 65/100\n",
      "1539/1539 [==============================] - 19s 12ms/step - loss: 302.0274 - mean_absolute_error: 12.2464 - root_mean_squared_error: 17.3789 - mean_absolute_percentage_error: 16.7703\n",
      "Epoch 66/100\n",
      "1539/1539 [==============================] - 20s 13ms/step - loss: 301.0296 - mean_absolute_error: 12.2191 - root_mean_squared_error: 17.3502 - mean_absolute_percentage_error: 16.6918\n",
      "Epoch 67/100\n",
      "1539/1539 [==============================] - 20s 13ms/step - loss: 299.0001 - mean_absolute_error: 12.1917 - root_mean_squared_error: 17.2916 - mean_absolute_percentage_error: 16.6807\n",
      "Epoch 68/100\n",
      "1539/1539 [==============================] - 19s 13ms/step - loss: 298.2314 - mean_absolute_error: 12.1724 - root_mean_squared_error: 17.2694 - mean_absolute_percentage_error: 16.6904\n",
      "Epoch 69/100\n",
      "1539/1539 [==============================] - 19s 12ms/step - loss: 295.6250 - mean_absolute_error: 12.1210 - root_mean_squared_error: 17.1938 - mean_absolute_percentage_error: 16.6233\n",
      "Epoch 70/100\n",
      "1539/1539 [==============================] - 19s 12ms/step - loss: 294.8223 - mean_absolute_error: 12.1112 - root_mean_squared_error: 17.1704 - mean_absolute_percentage_error: 16.6290\n",
      "Epoch 71/100\n",
      "1539/1539 [==============================] - 19s 13ms/step - loss: 293.6593 - mean_absolute_error: 12.1037 - root_mean_squared_error: 17.1365 - mean_absolute_percentage_error: 16.6031\n",
      "Epoch 72/100\n",
      "1539/1539 [==============================] - 20s 13ms/step - loss: 292.0280 - mean_absolute_error: 12.0681 - root_mean_squared_error: 17.0888 - mean_absolute_percentage_error: 16.5588\n",
      "Epoch 73/100\n",
      "1539/1539 [==============================] - 20s 13ms/step - loss: 290.7796 - mean_absolute_error: 12.0408 - root_mean_squared_error: 17.0523 - mean_absolute_percentage_error: 16.5494\n",
      "Epoch 74/100\n",
      "1539/1539 [==============================] - 20s 13ms/step - loss: 289.1424 - mean_absolute_error: 12.0115 - root_mean_squared_error: 17.0042 - mean_absolute_percentage_error: 16.5279\n",
      "Epoch 75/100\n",
      "1539/1539 [==============================] - 19s 13ms/step - loss: 287.5636 - mean_absolute_error: 11.9834 - root_mean_squared_error: 16.9577 - mean_absolute_percentage_error: 16.5034\n",
      "Epoch 76/100\n",
      "1539/1539 [==============================] - 19s 13ms/step - loss: 285.6484 - mean_absolute_error: 11.9516 - root_mean_squared_error: 16.9011 - mean_absolute_percentage_error: 16.4743\n",
      "Epoch 77/100\n",
      "1539/1539 [==============================] - 20s 13ms/step - loss: 284.1304 - mean_absolute_error: 11.9194 - root_mean_squared_error: 16.8562 - mean_absolute_percentage_error: 16.4848\n",
      "Epoch 78/100\n",
      "1539/1539 [==============================] - 19s 13ms/step - loss: 282.7693 - mean_absolute_error: 11.9024 - root_mean_squared_error: 16.8158 - mean_absolute_percentage_error: 16.4725\n",
      "Epoch 79/100\n",
      "1539/1539 [==============================] - 19s 12ms/step - loss: 281.8190 - mean_absolute_error: 11.8811 - root_mean_squared_error: 16.7875 - mean_absolute_percentage_error: 16.4281\n",
      "Epoch 80/100\n",
      "1539/1539 [==============================] - 19s 12ms/step - loss: 280.0557 - mean_absolute_error: 11.8606 - root_mean_squared_error: 16.7349 - mean_absolute_percentage_error: 16.4264\n",
      "Epoch 81/100\n",
      "1539/1539 [==============================] - 19s 12ms/step - loss: 278.1500 - mean_absolute_error: 11.8140 - root_mean_squared_error: 16.6778 - mean_absolute_percentage_error: 16.4087\n",
      "Epoch 82/100\n",
      "1539/1539 [==============================] - 19s 13ms/step - loss: 276.4262 - mean_absolute_error: 11.7827 - root_mean_squared_error: 16.6261 - mean_absolute_percentage_error: 16.3442\n",
      "Epoch 83/100\n"
     ]
    },
    {
     "name": "stdout",
     "output_type": "stream",
     "text": [
      "1539/1539 [==============================] - 19s 13ms/step - loss: 274.5161 - mean_absolute_error: 11.7540 - root_mean_squared_error: 16.5685 - mean_absolute_percentage_error: 16.3499 9s - loss: 270.8096 - mean_absolute_error: 11.6721 - root_mean_squared_error: 16.4563 - mean_absolute\n",
      "Epoch 84/100\n",
      "1539/1539 [==============================] - 19s 13ms/step - loss: 273.7678 - mean_absolute_error: 11.7328 - root_mean_squared_error: 16.5459 - mean_absolute_percentage_error: 16.3471\n",
      "Epoch 85/100\n",
      "1539/1539 [==============================] - 20s 13ms/step - loss: 271.5109 - mean_absolute_error: 11.6927 - root_mean_squared_error: 16.4776 - mean_absolute_percentage_error: 16.2914\n",
      "Epoch 86/100\n",
      "1539/1539 [==============================] - 20s 13ms/step - loss: 270.4441 - mean_absolute_error: 11.6722 - root_mean_squared_error: 16.4452 - mean_absolute_percentage_error: 16.2255\n",
      "Epoch 87/100\n",
      "1539/1539 [==============================] - 20s 13ms/step - loss: 268.6337 - mean_absolute_error: 11.6464 - root_mean_squared_error: 16.3901 - mean_absolute_percentage_error: 16.2706\n",
      "Epoch 88/100\n",
      "1539/1539 [==============================] - 20s 13ms/step - loss: 267.2181 - mean_absolute_error: 11.6161 - root_mean_squared_error: 16.3468 - mean_absolute_percentage_error: 16.2372\n",
      "Epoch 89/100\n",
      "1539/1539 [==============================] - 19s 13ms/step - loss: 265.5917 - mean_absolute_error: 11.5989 - root_mean_squared_error: 16.2970 - mean_absolute_percentage_error: 16.2554\n",
      "Epoch 90/100\n",
      "1539/1539 [==============================] - 19s 13ms/step - loss: 264.3592 - mean_absolute_error: 11.5597 - root_mean_squared_error: 16.2591 - mean_absolute_percentage_error: 16.1812\n",
      "Epoch 91/100\n",
      "1539/1539 [==============================] - 19s 12ms/step - loss: 262.9467 - mean_absolute_error: 11.5389 - root_mean_squared_error: 16.2156 - mean_absolute_percentage_error: 16.1332\n",
      "Epoch 92/100\n",
      "1539/1539 [==============================] - 20s 13ms/step - loss: 261.0932 - mean_absolute_error: 11.5036 - root_mean_squared_error: 16.1584 - mean_absolute_percentage_error: 16.1568\n",
      "Epoch 93/100\n",
      "1539/1539 [==============================] - 20s 13ms/step - loss: 258.5601 - mean_absolute_error: 11.4601 - root_mean_squared_error: 16.0798 - mean_absolute_percentage_error: 16.1094\n",
      "Epoch 94/100\n",
      "1539/1539 [==============================] - 19s 13ms/step - loss: 257.8474 - mean_absolute_error: 11.4509 - root_mean_squared_error: 16.0576 - mean_absolute_percentage_error: 16.1271\n",
      "Epoch 95/100\n",
      "1539/1539 [==============================] - 19s 12ms/step - loss: 256.3209 - mean_absolute_error: 11.4198 - root_mean_squared_error: 16.0100 - mean_absolute_percentage_error: 16.0832\n",
      "Epoch 96/100\n",
      "1539/1539 [==============================] - 19s 12ms/step - loss: 254.4456 - mean_absolute_error: 11.3842 - root_mean_squared_error: 15.9514 - mean_absolute_percentage_error: 16.0701\n",
      "Epoch 97/100\n",
      "1539/1539 [==============================] - 19s 13ms/step - loss: 252.8972 - mean_absolute_error: 11.3474 - root_mean_squared_error: 15.9027 - mean_absolute_percentage_error: 16.0425\n",
      "Epoch 98/100\n",
      "1539/1539 [==============================] - 19s 13ms/step - loss: 251.9267 - mean_absolute_error: 11.3297 - root_mean_squared_error: 15.8722 - mean_absolute_percentage_error: 16.0239\n",
      "Epoch 99/100\n",
      "1539/1539 [==============================] - 19s 13ms/step - loss: 250.5881 - mean_absolute_error: 11.3100 - root_mean_squared_error: 15.8300 - mean_absolute_percentage_error: 16.0070\n",
      "Epoch 100/100\n",
      "1539/1539 [==============================] - 20s 13ms/step - loss: 248.7022 - mean_absolute_error: 11.2697 - root_mean_squared_error: 15.7703 - mean_absolute_percentage_error: 15.9973\n"
     ]
    },
    {
     "data": {
      "text/plain": [
       "<keras.callbacks.History at 0x1c87a8f2a00>"
      ]
     },
     "execution_count": 38,
     "metadata": {},
     "output_type": "execute_result"
    }
   ],
   "source": [
    "model5.fit((Wt5,Xt5), yt5, \n",
    "           epochs = 100, \n",
    "           verbose = 1)"
   ]
  },
  {
   "cell_type": "code",
   "execution_count": 39,
   "metadata": {},
   "outputs": [
    {
     "name": "stderr",
     "output_type": "stream",
     "text": [
      "WARNING:absl:Function `_wrapped_model` contains input name(s) WideInput, DeepInput with unsupported characters which will be renamed to wideinput, deepinput in the SavedModel.\n",
      "WARNING:absl:Found untraced functions such as lstm_cell_7_layer_call_fn, lstm_cell_7_layer_call_and_return_conditional_losses, lstm_cell_5_layer_call_fn, lstm_cell_5_layer_call_and_return_conditional_losses, lstm_cell_6_layer_call_fn while saving (showing 5 of 15). These functions will not be directly callable after loading.\n"
     ]
    },
    {
     "name": "stdout",
     "output_type": "stream",
     "text": [
      "INFO:tensorflow:Assets written to: my_dir/8a-5\\assets\n"
     ]
    },
    {
     "name": "stderr",
     "output_type": "stream",
     "text": [
      "INFO:tensorflow:Assets written to: my_dir/8a-5\\assets\n",
      "WARNING:absl:<keras.layers.recurrent.LSTMCell object at 0x000001C8780B4160> has the same name 'LSTMCell' as a built-in Keras object. Consider renaming <class 'keras.layers.recurrent.LSTMCell'> to avoid naming conflicts when loading with `tf.keras.models.load_model`. If renaming is not possible, pass the object in the `custom_objects` parameter of the load function.\n",
      "WARNING:absl:<keras.layers.recurrent.LSTMCell object at 0x000001C86D74C370> has the same name 'LSTMCell' as a built-in Keras object. Consider renaming <class 'keras.layers.recurrent.LSTMCell'> to avoid naming conflicts when loading with `tf.keras.models.load_model`. If renaming is not possible, pass the object in the `custom_objects` parameter of the load function.\n",
      "WARNING:absl:<keras.layers.recurrent.LSTMCell object at 0x000001C87237D640> has the same name 'LSTMCell' as a built-in Keras object. Consider renaming <class 'keras.layers.recurrent.LSTMCell'> to avoid naming conflicts when loading with `tf.keras.models.load_model`. If renaming is not possible, pass the object in the `custom_objects` parameter of the load function.\n"
     ]
    }
   ],
   "source": [
    "model5.save(\"my_dir/8a-5\")"
   ]
  },
  {
   "cell_type": "code",
   "execution_count": 40,
   "metadata": {},
   "outputs": [],
   "source": [
    "metrics5 = pd.DataFrame(model5.history.history)"
   ]
  },
  {
   "cell_type": "code",
   "execution_count": 41,
   "metadata": {},
   "outputs": [
    {
     "data": {
      "text/plain": [
       "<AxesSubplot:>"
      ]
     },
     "execution_count": 41,
     "metadata": {},
     "output_type": "execute_result"
    },
    {
     "data": {
      "image/png": "[encoded data removed]",
      "text/plain": [
       "<Figure size 432x288 with 1 Axes>"
      ]
     },
     "metadata": {
      "needs_background": "light"
     },
     "output_type": "display_data"
    }
   ],
   "source": [
    "metrics5[['loss']].plot()"
   ]
  },
  {
   "cell_type": "code",
   "execution_count": 31,
   "metadata": {},
   "outputs": [],
   "source": [
    "model5 = keras.models.load_model(\"my_dir/8a-5\", custom_objects=SeqSelfAttention.get_custom_objects()) "
   ]
  },
  {
   "cell_type": "code",
   "execution_count": 32,
   "metadata": {},
   "outputs": [
    {
     "data": {
      "text/plain": [
       "array([[ 29.914654 ,  18.791618 ,  24.836315 ,  75.23582  ,  34.081085 ,\n",
       "          5.342311 ],\n",
       "       [ 29.125185 ,  16.384914 ,  23.379498 ,  73.66427  ,  32.036816 ,\n",
       "          6.4321327],\n",
       "       [ 29.805798 ,  17.731197 ,  21.399944 ,  71.09581  ,  32.106598 ,\n",
       "          3.5656488],\n",
       "       ...,\n",
       "       [ 42.247425 ,  41.425056 ,  56.395412 , 114.05431  ,  52.944775 ,\n",
       "         12.665791 ],\n",
       "       [ 41.200893 ,  35.409637 ,  48.264465 , 101.539116 ,  47.129635 ,\n",
       "         12.547594 ],\n",
       "       [ 41.490864 ,  36.421017 ,  46.603283 ,  99.02627  ,  45.6676   ,\n",
       "          7.440952 ]], dtype=float32)"
      ]
     },
     "execution_count": 32,
     "metadata": {},
     "output_type": "execute_result"
    }
   ],
   "source": [
    "model5.predict((Wv5,Xv5))"
   ]
  },
  {
   "cell_type": "markdown",
   "metadata": {},
   "source": [
    "### Evaluation on inverse_transform"
   ]
  },
  {
   "cell_type": "code",
   "execution_count": null,
   "metadata": {},
   "outputs": [],
   "source": [
    "test_predictions5 = model5.predict((Wv5,Xv5))\n",
    "\n",
    "\n",
    "MSE5 = mean_squared_error(yv5,test_predictions5)\n",
    "\n",
    "MAE5 = mean_absolute_error(yv5,test_predictions5)\n",
    "\n",
    "RMSE5 = np.sqrt(MSE5)\n",
    "\n",
    "MAPE5 = mean_absolute_percentage_error(yv5,test_predictions5)*100\n",
    "\n",
    "eval5 = [MSE5, MAE5, RMSE5, MAPE5]\n",
    "print(eval5)"
   ]
  },
  {
   "cell_type": "code",
   "execution_count": 34,
   "metadata": {},
   "outputs": [],
   "source": [
    "err = yv5 - test_predictions5"
   ]
  },
  {
   "cell_type": "code",
   "execution_count": 35,
   "metadata": {},
   "outputs": [
    {
     "data": {
      "image/png": "[encoded data removed]",
      "text/plain": [
       "<Figure size 1152x216 with 1 Axes>"
      ]
     },
     "metadata": {
      "needs_background": "light"
     },
     "output_type": "display_data"
    }
   ],
   "source": [
    "# Use similar to plt.figure() except use tuple unpacking to grab fig and axes\n",
    "fig, axes = plt.subplots(figsize=(16,3))\n",
    "\n",
    "# Now use the axes object to add stuff to plot\n",
    "axes.scatter(test_predictions5, err, 4)\n",
    "axes.set_xlabel('Flow')\n",
    "axes.set_ylabel('Error')\n",
    "axes.set_title('Flow vs. Error')\n",
    "axes.grid()"
   ]
  },
  {
   "cell_type": "code",
   "execution_count": 36,
   "metadata": {},
   "outputs": [],
   "source": [
    "a = err.flatten().reshape(-1, 1)\n",
    "b = test_predictions5.flatten().reshape(-1, 1)\n",
    "c = np.concatenate((a,b), axis=1)"
   ]
  },
  {
   "cell_type": "code",
   "execution_count": 37,
   "metadata": {},
   "outputs": [
    {
     "data": {
      "text/plain": [
       "<AxesSubplot:>"
      ]
     },
     "execution_count": 37,
     "metadata": {},
     "output_type": "execute_result"
    },
    {
     "data": {
      "image/png": "[encoded data removed]",
      "text/plain": [
       "<Figure size 432x288 with 1 Axes>"
      ]
     },
     "metadata": {
      "needs_background": "light"
     },
     "output_type": "display_data"
    }
   ],
   "source": [
    "sns.histplot(data=c, x=c[:,1], y=c[:,0], bins=30)"
   ]
  },
  {
   "cell_type": "code",
   "execution_count": 38,
   "metadata": {},
   "outputs": [
    {
     "data": {
      "text/plain": [
       "<AxesSubplot:ylabel='Count'>"
      ]
     },
     "execution_count": 38,
     "metadata": {},
     "output_type": "execute_result"
    },
    {
     "data": {
      "image/png": "[encoded data removed]",
      "text/plain": [
       "<Figure size 432x288 with 1 Axes>"
      ]
     },
     "metadata": {
      "needs_background": "light"
     },
     "output_type": "display_data"
    }
   ],
   "source": [
    "sns.histplot(data=c, x=c[:,1], bins=20)"
   ]
  },
  {
   "cell_type": "code",
   "execution_count": 39,
   "metadata": {},
   "outputs": [],
   "source": [
    "d = np.diff(yv5, axis=0).flatten().reshape(-1, 1)\n",
    "c = np.concatenate((c[6:,:],d), axis=1)"
   ]
  },
  {
   "cell_type": "code",
   "execution_count": 41,
   "metadata": {},
   "outputs": [
    {
     "data": {
      "text/plain": [
       "<AxesSubplot:>"
      ]
     },
     "execution_count": 41,
     "metadata": {},
     "output_type": "execute_result"
    },
    {
     "data": {
      "image/png": "[encoded data removed]",
      "text/plain": [
       "<Figure size 432x288 with 1 Axes>"
      ]
     },
     "metadata": {
      "needs_background": "light"
     },
     "output_type": "display_data"
    }
   ],
   "source": [
    "# derivative - x\n",
    "# error - y\n",
    "sns.histplot(data=c, x=c[:,2], y=c[:,0], bins=20)"
   ]
  },
  {
   "cell_type": "code",
   "execution_count": 42,
   "metadata": {},
   "outputs": [
    {
     "data": {
      "text/plain": [
       "<AxesSubplot:ylabel='Count'>"
      ]
     },
     "execution_count": 42,
     "metadata": {},
     "output_type": "execute_result"
    },
    {
     "data": {
      "image/png": "[encoded data removed]",
      "text/plain": [
       "<Figure size 432x288 with 1 Axes>"
      ]
     },
     "metadata": {
      "needs_background": "light"
     },
     "output_type": "display_data"
    }
   ],
   "source": [
    "# error dist.\n",
    "sns.histplot(data=c, x=c[:,0], bins=100, kde=True)"
   ]
  },
  {
   "cell_type": "code",
   "execution_count": 43,
   "metadata": {},
   "outputs": [
    {
     "name": "stdout",
     "output_type": "stream",
     "text": [
      "0.6808148701352584\n"
     ]
    },
    {
     "name": "stderr",
     "output_type": "stream",
     "text": [
      "C:\\Users\\esugom\\OneDrive - Coventry University\\CodePhD\\Oakland\\geh.py:6: RuntimeWarning: invalid value encountered in sqrt\n",
      "  geh = np.sqrt(2 * ((predicted - actual) ** 2) / (predicted + actual))\n"
     ]
    }
   ],
   "source": [
    "GEH, count = ga.GEH(np.asarray(yv5), np.asarray(test_predictions5))\n",
    "GEH5 = count/GEH.size\n",
    "print(GEH5)"
   ]
  },
  {
   "cell_type": "code",
   "execution_count": 44,
   "metadata": {},
   "outputs": [],
   "source": [
    "e = GEH.flatten().reshape(-1, 1)\n",
    "c = np.concatenate((c,e[6:,:]), axis=1)"
   ]
  },
  {
   "cell_type": "code",
   "execution_count": 45,
   "metadata": {},
   "outputs": [],
   "source": [
    "# 0 - error\n",
    "# 1 - test predictions flow\n",
    "# 2 - dirivative\n",
    "# 3 - GEH"
   ]
  },
  {
   "cell_type": "code",
   "execution_count": 46,
   "metadata": {},
   "outputs": [
    {
     "data": {
      "text/plain": [
       "array([[  1.87481499,  29.12518501,   6.        ,   1.18450166],\n",
       "       [  2.6150856 ,  16.3849144 ,   5.        ,   2.15368635],\n",
       "       [  4.62050247,  23.37949753, -12.        ,   3.15791202],\n",
       "       ...,\n",
       "       [ -1.02626801,  99.02626801, -14.        ,   0.3581816 ],\n",
       "       [ -3.66759872,  45.66759872,   3.        ,   1.91896799],\n",
       "       [  4.55904818,   7.44095182,   1.        ,   5.06548527]])"
      ]
     },
     "execution_count": 46,
     "metadata": {},
     "output_type": "execute_result"
    }
   ],
   "source": [
    "c"
   ]
  },
  {
   "cell_type": "code",
   "execution_count": 47,
   "metadata": {},
   "outputs": [
    {
     "data": {
      "text/plain": [
       "<AxesSubplot:ylabel='Count'>"
      ]
     },
     "execution_count": 47,
     "metadata": {},
     "output_type": "execute_result"
    },
    {
     "data": {
      "image/png": "[encoded data removed]",
      "text/plain": [
       "<Figure size 432x288 with 1 Axes>"
      ]
     },
     "metadata": {
      "needs_background": "light"
     },
     "output_type": "display_data"
    }
   ],
   "source": [
    "# GEH dist.\n",
    "sns.histplot(data=c, x=c[:,3], bins=100, kde=True)"
   ]
  },
  {
   "cell_type": "code",
   "execution_count": 48,
   "metadata": {},
   "outputs": [
    {
     "data": {
      "text/plain": [
       "<AxesSubplot:>"
      ]
     },
     "execution_count": 48,
     "metadata": {},
     "output_type": "execute_result"
    },
    {
     "data": {
      "image/png": "[encoded data removed]",
      "text/plain": [
       "<Figure size 432x288 with 1 Axes>"
      ]
     },
     "metadata": {
      "needs_background": "light"
     },
     "output_type": "display_data"
    }
   ],
   "source": [
    "# flow = x vs GEH = y\n",
    "sns.histplot(data=c, x=c[:,1], y=c[:,3], bins=30)"
   ]
  },
  {
   "cell_type": "code",
   "execution_count": 67,
   "metadata": {},
   "outputs": [
    {
     "data": {
      "text/plain": [
       "array([1.1844984 , 2.15368635, 3.15791202, ..., 0.35818514, 1.91897581,\n",
       "       5.06548133])"
      ]
     },
     "execution_count": 67,
     "metadata": {},
     "output_type": "execute_result"
    }
   ],
   "source": [
    "c[:,3]"
   ]
  },
  {
   "cell_type": "code",
   "execution_count": 75,
   "metadata": {},
   "outputs": [
    {
     "data": {
      "image/png": "[encoded data removed]",
      "text/plain": [
       "<Figure size 432x288 with 1 Axes>"
      ]
     },
     "metadata": {},
     "output_type": "display_data"
    }
   ],
   "source": [
    "plt.style.use('ggplot')\n",
    "\n",
    "# plt.hist gives you the entries, edges \n",
    "# and drawables we do not need the drawables:\n",
    "entries, edges, _ = plt.hist(x=c[:,1], bins=30)\n",
    "\n",
    "# calculate bin centers\n",
    "bin_centers = 0.5 * (edges[:-1] + edges[1:])\n",
    "\n",
    "# draw errobars, use the sqrt error. You can use what you want there\n",
    "# poissonian 1 sigma intervals would make more sense\n",
    "plt.errorbar(bin_centers, entries, yerr=np.std(entries), fmt='b.')\n",
    "plt.plot\n",
    "plt.show()"
   ]
  },
  {
   "cell_type": "code",
   "execution_count": 77,
   "metadata": {},
   "outputs": [
    {
     "data": {
      "image/png": "[encoded data removed]",
      "text/plain": [
       "<Figure size 432x288 with 1 Axes>"
      ]
     },
     "metadata": {},
     "output_type": "display_data"
    }
   ],
   "source": [
    "aa = sns.histplot(data=c, x=c[:,1], y=c[:,3], bins=30)"
   ]
  },
  {
   "cell_type": "code",
   "execution_count": 79,
   "metadata": {},
   "outputs": [
    {
     "data": {
      "text/plain": [
       "array([[  1.87480927,  29.12519073,   6.        ,   1.1844984 ],\n",
       "       [  2.6150856 ,  16.3849144 ,   5.        ,   2.15368635],\n",
       "       [  4.62050438,  23.37949562, -12.        ,   3.15791202],\n",
       "       ...,\n",
       "       [ -1.02627563,  99.02627563, -14.        ,   0.35818514],\n",
       "       [ -3.66761398,  45.66761398,   3.        ,   1.91897581],\n",
       "       [  4.55904531,   7.44095469,   1.        ,   5.06548133]])"
      ]
     },
     "execution_count": 79,
     "metadata": {},
     "output_type": "execute_result"
    }
   ],
   "source": [
    "c"
   ]
  },
  {
   "cell_type": "code",
   "execution_count": 51,
   "metadata": {},
   "outputs": [
    {
     "name": "stderr",
     "output_type": "stream",
     "text": [
      "C:\\Users\\esugom\\AppData\\Local\\Temp\\ipykernel_16472\\1012612399.py:3: MatplotlibDeprecationWarning: Calling gca() with keyword arguments was deprecated in Matplotlib 3.4. Starting two minor releases later, gca() will take no keyword arguments. The gca() function should only be used to get the current axes, or if no axes exist, create new axes with default keyword arguments. To create a new axes with non-default arguments, use plt.axes() or plt.subplot().\n",
      "  ax = fig.gca(projection='3d')\n"
     ]
    },
    {
     "data": {
      "image/png": "[encoded data removed]",
      "text/plain": [
       "<Figure size 432x432 with 1 Axes>"
      ]
     },
     "metadata": {
      "needs_background": "light"
     },
     "output_type": "display_data"
    }
   ],
   "source": [
    "# Make the plot\n",
    "fig = plt.figure(figsize=(6,6))\n",
    "ax = fig.gca(projection='3d')\n",
    "ax.plot_trisurf(c[:,0], c[:,1], c[:,3], cmap=plt.cm.coolwarm, linewidth=0.2)\n",
    "plt.show()\n",
    " \n",
    "# # to Add a color bar which maps values to colors.\n",
    "# fig = plt.figure()\n",
    "# ax = fig.gca(projection='3d')\n",
    "# surf=ax.plot_trisurf(c[:,0], c[:,1], c[:,3], cmap=plt.cm.viridis, linewidth=0.2)\n",
    "# fig.colorbar( surf, shrink=0.5, aspect=5)\n",
    "# plt.show()"
   ]
  },
  {
   "cell_type": "markdown",
   "metadata": {},
   "source": [
    "# 15 mins ahead"
   ]
  },
  {
   "cell_type": "code",
   "execution_count": 46,
   "metadata": {},
   "outputs": [],
   "source": [
    "def build_model_15(hp):\n",
    "    # Inputs\n",
    "    channel_Wide = keras.layers.Input(shape=Wt15.shape[1:], name=\"WideInput\")\n",
    "    channel_Deep = keras.layers.Input(shape=Xt15.shape[1:], name=\"DeepInput\")\n",
    "    units = hp.Int(\"units\", min_value=1, max_value=100, step=1)\n",
    "    \n",
    "    \n",
    "    # Wide Model\n",
    "    flatten_15w = keras.layers.TimeDistributed(keras.layers.Flatten())(channel_Wide)\n",
    "    Bi_15 = keras.layers.Bidirectional(\n",
    "        keras.layers.LSTM(units=units, return_sequences=True),\n",
    "        merge_mode=\"ave\"\n",
    "    )(flatten_15w)\n",
    "    \n",
    "    \n",
    "    # Deep Model\n",
    "    # CNN \n",
    "    CNN_15 = keras.layers.TimeDistributed(\n",
    "        keras.layers.Conv2D(filters=hp.Int(\"filters\", min_value=32, max_value=512, step=32),\n",
    "                            kernel_size=hp.Choice(\"kernel_size\", [2, 3]), activation='relu'))(channel_Deep)\n",
    "    flatten_15 = keras.layers.TimeDistributed(keras.layers.Flatten())(CNN_15)\n",
    "    # LSTM          \n",
    "    LSTM_15 = keras.layers.LSTM(units=units, return_sequences=True)(flatten_15)\n",
    "\n",
    "    \n",
    "    # Concatenation \n",
    "    concat = keras.layers.concatenate([Bi_15, LSTM_15], axis=1)\n",
    "\n",
    "    # Attention\n",
    "    Att_15 = SeqSelfAttention(attention_activation='sigmoid')(concat)\n",
    "    merge = keras.layers.Flatten()(Att_15)\n",
    "\n",
    "    \n",
    "    # Output\n",
    "    output = keras.layers.Dense(n_features, name= \"output\")(merge)\n",
    "    \n",
    "    # Model\n",
    "    model_15 = keras.Model(inputs=[channel_Wide,channel_Deep], outputs=[output])\n",
    "\n",
    "    # Compile\n",
    "    model_15.compile(optimizer=keras.optimizers.Adam(hp.Choice(\"learning_rate\", [1e-2, 1e-3, 1e-4])), \n",
    "        loss=\"mse\", metrics=['MeanAbsoluteError','RootMeanSquaredError','MeanAbsolutePercentageError'])\n",
    "                    \n",
    "    return model_15"
   ]
  },
  {
   "cell_type": "code",
   "execution_count": 47,
   "metadata": {},
   "outputs": [],
   "source": [
    "tuner15 = RandomSearch(\n",
    "    build_model_15,\n",
    "    objective=\"val_loss\",\n",
    "    max_trials=60,\n",
    "    executions_per_trial=2,\n",
    "    overwrite=True,\n",
    "    directory=os.path.normpath('C:/RunsOak'),\n",
    "    project_name=\"8a-15\",\n",
    ")"
   ]
  },
  {
   "cell_type": "code",
   "execution_count": 48,
   "metadata": {},
   "outputs": [
    {
     "name": "stdout",
     "output_type": "stream",
     "text": [
      "Search space summary\n",
      "Default search space size: 4\n",
      "units (Int)\n",
      "{'default': None, 'conditions': [], 'min_value': 1, 'max_value': 100, 'step': 1, 'sampling': None}\n",
      "filters (Int)\n",
      "{'default': None, 'conditions': [], 'min_value': 32, 'max_value': 512, 'step': 32, 'sampling': None}\n",
      "kernel_size (Choice)\n",
      "{'default': 2, 'conditions': [], 'values': [2, 3], 'ordered': True}\n",
      "learning_rate (Choice)\n",
      "{'default': 0.01, 'conditions': [], 'values': [0.01, 0.001, 0.0001], 'ordered': True}\n"
     ]
    }
   ],
   "source": [
    "tuner15.search_space_summary()"
   ]
  },
  {
   "cell_type": "code",
   "execution_count": 49,
   "metadata": {},
   "outputs": [
    {
     "name": "stdout",
     "output_type": "stream",
     "text": [
      "Trial 60 Complete [00h 12m 25s]\n",
      "val_loss: 458.8946838378906\n",
      "\n",
      "Best val_loss So Far: 439.25047302246094\n",
      "Total elapsed time: 03h 49m 01s\n",
      "INFO:tensorflow:Oracle triggered exit\n"
     ]
    },
    {
     "name": "stderr",
     "output_type": "stream",
     "text": [
      "INFO:tensorflow:Oracle triggered exit\n"
     ]
    }
   ],
   "source": [
    "tuner15.search((Wt15,Xt15), yt15, epochs=200,\n",
    "            validation_split = val_percent,\n",
    "            callbacks=[early_stop], \n",
    "            verbose=2)"
   ]
  },
  {
   "cell_type": "code",
   "execution_count": 50,
   "metadata": {},
   "outputs": [
    {
     "name": "stdout",
     "output_type": "stream",
     "text": [
      "Results summary\n",
      "Results in C:\\RunsOak\\8a-15\n",
      "Showing 1 best trials\n",
      "Objective(name='val_loss', direction='min')\n",
      "Trial summary\n",
      "Hyperparameters:\n",
      "units: 79\n",
      "filters: 224\n",
      "kernel_size: 2\n",
      "learning_rate: 0.0001\n",
      "Score: 439.25047302246094\n"
     ]
    }
   ],
   "source": [
    "tuner15.results_summary(1)"
   ]
  },
  {
   "cell_type": "markdown",
   "metadata": {},
   "source": [
    "### Best model"
   ]
  },
  {
   "cell_type": "code",
   "execution_count": 51,
   "metadata": {},
   "outputs": [],
   "source": [
    "best_hp15 = tuner15.get_best_hyperparameters()[0]\n",
    "model15 = tuner15.hypermodel.build(best_hp15)"
   ]
  },
  {
   "cell_type": "code",
   "execution_count": 52,
   "metadata": {},
   "outputs": [
    {
     "data": {
      "text/plain": [
       "['Best_HP/8a-15']"
      ]
     },
     "execution_count": 52,
     "metadata": {},
     "output_type": "execute_result"
    }
   ],
   "source": [
    "scaler_filename = \"Best_HP/8a-15\"\n",
    "joblib.dump(best_hp15, scaler_filename) "
   ]
  },
  {
   "cell_type": "code",
   "execution_count": 53,
   "metadata": {},
   "outputs": [
    {
     "name": "stdout",
     "output_type": "stream",
     "text": [
      "Model: \"model_1\"\n",
      "__________________________________________________________________________________________________\n",
      " Layer (type)                   Output Shape         Param #     Connected to                     \n",
      "==================================================================================================\n",
      " DeepInput (InputLayer)         [(None, 3, 5, 6, 1)  0           []                               \n",
      "                                ]                                                                 \n",
      "                                                                                                  \n",
      " WideInput (InputLayer)         [(None, 3, 3, 6)]    0           []                               \n",
      "                                                                                                  \n",
      " time_distributed_4 (TimeDistri  (None, 3, 4, 5, 224  1120       ['DeepInput[0][0]']              \n",
      " buted)                         )                                                                 \n",
      "                                                                                                  \n",
      " time_distributed_3 (TimeDistri  (None, 3, 18)       0           ['WideInput[0][0]']              \n",
      " buted)                                                                                           \n",
      "                                                                                                  \n",
      " time_distributed_5 (TimeDistri  (None, 3, 4480)     0           ['time_distributed_4[0][0]']     \n",
      " buted)                                                                                           \n",
      "                                                                                                  \n",
      " bidirectional_1 (Bidirectional  (None, 3, 79)       61936       ['time_distributed_3[0][0]']     \n",
      " )                                                                                                \n",
      "                                                                                                  \n",
      " lstm_3 (LSTM)                  (None, 3, 79)        1440960     ['time_distributed_5[0][0]']     \n",
      "                                                                                                  \n",
      " concatenate_1 (Concatenate)    (None, 6, 79)        0           ['bidirectional_1[0][0]',        \n",
      "                                                                  'lstm_3[0][0]']                 \n",
      "                                                                                                  \n",
      " seq_self_attention_1 (SeqSelfA  (None, 6, 79)       5121        ['concatenate_1[0][0]']          \n",
      " ttention)                                                                                        \n",
      "                                                                                                  \n",
      " flatten_5 (Flatten)            (None, 474)          0           ['seq_self_attention_1[0][0]']   \n",
      "                                                                                                  \n",
      " output (Dense)                 (None, 6)            2850        ['flatten_5[0][0]']              \n",
      "                                                                                                  \n",
      "==================================================================================================\n",
      "Total params: 1,511,987\n",
      "Trainable params: 1,511,987\n",
      "Non-trainable params: 0\n",
      "__________________________________________________________________________________________________\n"
     ]
    }
   ],
   "source": [
    "model15.summary()"
   ]
  },
  {
   "cell_type": "code",
   "execution_count": 54,
   "metadata": {},
   "outputs": [
    {
     "name": "stdout",
     "output_type": "stream",
     "text": [
      "Epoch 1/100\n",
      "1539/1539 [==============================] - 26s 12ms/step - loss: 22113.3379 - mean_absolute_error: 114.7150 - root_mean_squared_error: 148.7054 - mean_absolute_percentage_error: 98.8982\n",
      "Epoch 2/100\n",
      "1539/1539 [==============================] - 19s 12ms/step - loss: 11232.0098 - mean_absolute_error: 74.7501 - root_mean_squared_error: 105.9812 - mean_absolute_percentage_error: 81.5906\n",
      "Epoch 3/100\n",
      "1539/1539 [==============================] - 19s 12ms/step - loss: 6086.1885 - mean_absolute_error: 52.2273 - root_mean_squared_error: 78.0140 - mean_absolute_percentage_error: 68.0896\n",
      "Epoch 4/100\n",
      "1539/1539 [==============================] - 18s 12ms/step - loss: 3526.6387 - mean_absolute_error: 39.5657 - root_mean_squared_error: 59.3855 - mean_absolute_percentage_error: 58.2762\n",
      "Epoch 5/100\n",
      "1539/1539 [==============================] - 18s 12ms/step - loss: 2241.4299 - mean_absolute_error: 32.2488 - root_mean_squared_error: 47.3438 - mean_absolute_percentage_error: 48.5655\n",
      "Epoch 6/100\n",
      "1539/1539 [==============================] - 18s 12ms/step - loss: 1576.5854 - mean_absolute_error: 27.7144 - root_mean_squared_error: 39.7063 - mean_absolute_percentage_error: 42.2600\n",
      "Epoch 7/100\n",
      "1539/1539 [==============================] - 19s 12ms/step - loss: 1158.5529 - mean_absolute_error: 23.9715 - root_mean_squared_error: 34.0375 - mean_absolute_percentage_error: 37.2179\n",
      "Epoch 8/100\n",
      "1539/1539 [==============================] - 18s 12ms/step - loss: 906.9279 - mean_absolute_error: 21.1697 - root_mean_squared_error: 30.1152 - mean_absolute_percentage_error: 33.1420\n",
      "Epoch 9/100\n",
      "1539/1539 [==============================] - 18s 12ms/step - loss: 769.3292 - mean_absolute_error: 19.4488 - root_mean_squared_error: 27.7368 - mean_absolute_percentage_error: 30.4791\n",
      "Epoch 10/100\n",
      "1539/1539 [==============================] - 18s 11ms/step - loss: 692.9360 - mean_absolute_error: 18.4099 - root_mean_squared_error: 26.3237 - mean_absolute_percentage_error: 29.0510\n",
      "Epoch 11/100\n",
      "1539/1539 [==============================] - 18s 12ms/step - loss: 649.7144 - mean_absolute_error: 17.7567 - root_mean_squared_error: 25.4895 - mean_absolute_percentage_error: 28.2248\n",
      "Epoch 12/100\n",
      "1539/1539 [==============================] - 18s 12ms/step - loss: 623.5631 - mean_absolute_error: 17.3563 - root_mean_squared_error: 24.9712 - mean_absolute_percentage_error: 27.7185\n",
      "Epoch 13/100\n",
      "1539/1539 [==============================] - 18s 12ms/step - loss: 606.3689 - mean_absolute_error: 17.0779 - root_mean_squared_error: 24.6245 - mean_absolute_percentage_error: 27.2983\n",
      "Epoch 14/100\n",
      "1539/1539 [==============================] - 19s 12ms/step - loss: 591.4594 - mean_absolute_error: 16.8594 - root_mean_squared_error: 24.3199 - mean_absolute_percentage_error: 26.8695\n",
      "Epoch 15/100\n",
      "1539/1539 [==============================] - 18s 12ms/step - loss: 576.9117 - mean_absolute_error: 16.6512 - root_mean_squared_error: 24.0190 - mean_absolute_percentage_error: 26.2919\n",
      "Epoch 16/100\n",
      "1539/1539 [==============================] - 18s 12ms/step - loss: 561.8820 - mean_absolute_error: 16.4441 - root_mean_squared_error: 23.7041 - mean_absolute_percentage_error: 25.6063\n",
      "Epoch 17/100\n",
      "1539/1539 [==============================] - 18s 12ms/step - loss: 546.2962 - mean_absolute_error: 16.2349 - root_mean_squared_error: 23.3730 - mean_absolute_percentage_error: 24.9711\n",
      "Epoch 18/100\n",
      "1539/1539 [==============================] - 18s 12ms/step - loss: 533.3535 - mean_absolute_error: 16.0557 - root_mean_squared_error: 23.0945 - mean_absolute_percentage_error: 24.4177\n",
      "Epoch 19/100\n",
      "1539/1539 [==============================] - 18s 11ms/step - loss: 522.3438 - mean_absolute_error: 15.9098 - root_mean_squared_error: 22.8548 - mean_absolute_percentage_error: 24.0914\n",
      "Epoch 20/100\n",
      "1539/1539 [==============================] - 18s 12ms/step - loss: 512.0370 - mean_absolute_error: 15.7634 - root_mean_squared_error: 22.6282 - mean_absolute_percentage_error: 23.7184\n",
      "Epoch 21/100\n",
      "1539/1539 [==============================] - 18s 12ms/step - loss: 504.1787 - mean_absolute_error: 15.6570 - root_mean_squared_error: 22.4539 - mean_absolute_percentage_error: 23.4919\n",
      "Epoch 22/100\n",
      "1539/1539 [==============================] - 18s 12ms/step - loss: 497.6679 - mean_absolute_error: 15.5607 - root_mean_squared_error: 22.3085 - mean_absolute_percentage_error: 23.2298\n",
      "Epoch 23/100\n",
      "1539/1539 [==============================] - 18s 12ms/step - loss: 492.5068 - mean_absolute_error: 15.4842 - root_mean_squared_error: 22.1925 - mean_absolute_percentage_error: 23.0113\n",
      "Epoch 24/100\n",
      "1539/1539 [==============================] - 18s 12ms/step - loss: 487.6452 - mean_absolute_error: 15.4163 - root_mean_squared_error: 22.0827 - mean_absolute_percentage_error: 22.8227\n",
      "Epoch 25/100\n",
      "1539/1539 [==============================] - 17s 11ms/step - loss: 483.0962 - mean_absolute_error: 15.3501 - root_mean_squared_error: 21.9795 - mean_absolute_percentage_error: 22.6309\n",
      "Epoch 26/100\n",
      "1539/1539 [==============================] - 17s 11ms/step - loss: 479.2377 - mean_absolute_error: 15.2870 - root_mean_squared_error: 21.8915 - mean_absolute_percentage_error: 22.4127\n",
      "Epoch 27/100\n",
      "1539/1539 [==============================] - 18s 12ms/step - loss: 475.5410 - mean_absolute_error: 15.2255 - root_mean_squared_error: 21.8069 - mean_absolute_percentage_error: 22.2515\n",
      "Epoch 28/100\n",
      "1539/1539 [==============================] - 18s 12ms/step - loss: 471.8908 - mean_absolute_error: 15.1652 - root_mean_squared_error: 21.7230 - mean_absolute_percentage_error: 22.1217\n",
      "Epoch 29/100\n",
      "1539/1539 [==============================] - 18s 12ms/step - loss: 469.0009 - mean_absolute_error: 15.1242 - root_mean_squared_error: 21.6564 - mean_absolute_percentage_error: 21.9916\n",
      "Epoch 30/100\n",
      "1539/1539 [==============================] - 18s 12ms/step - loss: 466.1995 - mean_absolute_error: 15.0795 - root_mean_squared_error: 21.5917 - mean_absolute_percentage_error: 21.8756\n",
      "Epoch 31/100\n",
      "1539/1539 [==============================] - 18s 12ms/step - loss: 462.9221 - mean_absolute_error: 15.0229 - root_mean_squared_error: 21.5156 - mean_absolute_percentage_error: 21.7632\n",
      "Epoch 32/100\n",
      "1539/1539 [==============================] - 18s 12ms/step - loss: 460.4580 - mean_absolute_error: 14.9855 - root_mean_squared_error: 21.4583 - mean_absolute_percentage_error: 21.6939\n",
      "Epoch 33/100\n",
      "1539/1539 [==============================] - 18s 12ms/step - loss: 458.2696 - mean_absolute_error: 14.9424 - root_mean_squared_error: 21.4072 - mean_absolute_percentage_error: 21.5815\n",
      "Epoch 34/100\n",
      "1539/1539 [==============================] - 19s 12ms/step - loss: 455.6833 - mean_absolute_error: 14.8999 - root_mean_squared_error: 21.3467 - mean_absolute_percentage_error: 21.4723\n",
      "Epoch 35/100\n",
      "1539/1539 [==============================] - 19s 12ms/step - loss: 454.5044 - mean_absolute_error: 14.8747 - root_mean_squared_error: 21.3191 - mean_absolute_percentage_error: 21.4677\n",
      "Epoch 36/100\n",
      "1539/1539 [==============================] - 18s 12ms/step - loss: 452.2419 - mean_absolute_error: 14.8431 - root_mean_squared_error: 21.2660 - mean_absolute_percentage_error: 21.3743 8s - - ETA: 0s - loss: 452.7348 - mean_absolute_error: 14.8613 - root_mean_squared_error: 21.2776 - mean_absolute_percentag\n",
      "Epoch 37/100\n",
      "1539/1539 [==============================] - 18s 11ms/step - loss: 449.4145 - mean_absolute_error: 14.7925 - root_mean_squared_error: 21.1994 - mean_absolute_percentage_error: 21.2589\n",
      "Epoch 38/100\n",
      "1539/1539 [==============================] - 18s 11ms/step - loss: 448.3332 - mean_absolute_error: 14.7710 - root_mean_squared_error: 21.1739 - mean_absolute_percentage_error: 21.2130\n",
      "Epoch 39/100\n",
      "1539/1539 [==============================] - 18s 11ms/step - loss: 446.3865 - mean_absolute_error: 14.7374 - root_mean_squared_error: 21.1278 - mean_absolute_percentage_error: 21.0987\n",
      "Epoch 40/100\n",
      "1539/1539 [==============================] - 18s 12ms/step - loss: 444.7006 - mean_absolute_error: 14.7029 - root_mean_squared_error: 21.0879 - mean_absolute_percentage_error: 21.0583\n",
      "Epoch 41/100\n",
      "1539/1539 [==============================] - 18s 12ms/step - loss: 443.3383 - mean_absolute_error: 14.6748 - root_mean_squared_error: 21.0556 - mean_absolute_percentage_error: 21.0110\n",
      "Epoch 42/100\n",
      "1539/1539 [==============================] - 18s 12ms/step - loss: 441.9983 - mean_absolute_error: 14.6513 - root_mean_squared_error: 21.0238 - mean_absolute_percentage_error: 20.9262\n",
      "Epoch 43/100\n",
      "1539/1539 [==============================] - 18s 12ms/step - loss: 440.3815 - mean_absolute_error: 14.6244 - root_mean_squared_error: 20.9853 - mean_absolute_percentage_error: 20.8548\n",
      "Epoch 44/100\n",
      "1539/1539 [==============================] - 18s 12ms/step - loss: 438.9455 - mean_absolute_error: 14.5933 - root_mean_squared_error: 20.9510 - mean_absolute_percentage_error: 20.7920\n",
      "Epoch 45/100\n",
      "1539/1539 [==============================] - 18s 12ms/step - loss: 437.7592 - mean_absolute_error: 14.5748 - root_mean_squared_error: 20.9227 - mean_absolute_percentage_error: 20.7364\n",
      "Epoch 46/100\n",
      "1539/1539 [==============================] - 18s 11ms/step - loss: 436.5853 - mean_absolute_error: 14.5543 - root_mean_squared_error: 20.8946 - mean_absolute_percentage_error: 20.6749\n",
      "Epoch 47/100\n",
      "1539/1539 [==============================] - 18s 12ms/step - loss: 435.4117 - mean_absolute_error: 14.5342 - root_mean_squared_error: 20.8665 - mean_absolute_percentage_error: 20.6696\n",
      "Epoch 48/100\n",
      "1539/1539 [==============================] - 18s 12ms/step - loss: 434.8595 - mean_absolute_error: 14.5147 - root_mean_squared_error: 20.8533 - mean_absolute_percentage_error: 20.6164 2s - loss: 435.4329 - mean_absolute_error: 14.5170 - root_mean_squared_error\n",
      "Epoch 49/100\n",
      "1539/1539 [==============================] - 18s 12ms/step - loss: 433.1902 - mean_absolute_error: 14.4909 - root_mean_squared_error: 20.8132 - mean_absolute_percentage_error: 20.5893\n",
      "Epoch 50/100\n",
      "1539/1539 [==============================] - 18s 12ms/step - loss: 432.3005 - mean_absolute_error: 14.4730 - root_mean_squared_error: 20.7918 - mean_absolute_percentage_error: 20.5464\n",
      "Epoch 51/100\n",
      "1539/1539 [==============================] - 18s 12ms/step - loss: 431.3403 - mean_absolute_error: 14.4545 - root_mean_squared_error: 20.7687 - mean_absolute_percentage_error: 20.4741\n",
      "Epoch 52/100\n",
      "1539/1539 [==============================] - 18s 12ms/step - loss: 431.0301 - mean_absolute_error: 14.4441 - root_mean_squared_error: 20.7613 - mean_absolute_percentage_error: 20.4733\n",
      "Epoch 53/100\n",
      "1539/1539 [==============================] - 18s 12ms/step - loss: 429.9472 - mean_absolute_error: 14.4307 - root_mean_squared_error: 20.7352 - mean_absolute_percentage_error: 20.4214\n",
      "Epoch 54/100\n",
      "1539/1539 [==============================] - 19s 12ms/step - loss: 429.0943 - mean_absolute_error: 14.4167 - root_mean_squared_error: 20.7146 - mean_absolute_percentage_error: 20.4213\n",
      "Epoch 55/100\n",
      "1539/1539 [==============================] - 18s 11ms/step - loss: 428.4632 - mean_absolute_error: 14.3954 - root_mean_squared_error: 20.6994 - mean_absolute_percentage_error: 20.3515\n",
      "Epoch 56/100\n",
      "1539/1539 [==============================] - 18s 12ms/step - loss: 427.4707 - mean_absolute_error: 14.3769 - root_mean_squared_error: 20.6754 - mean_absolute_percentage_error: 20.3275\n",
      "Epoch 57/100\n",
      "1539/1539 [==============================] - 17s 11ms/step - loss: 427.4826 - mean_absolute_error: 14.3787 - root_mean_squared_error: 20.6757 - mean_absolute_percentage_error: 20.3284\n",
      "Epoch 58/100\n",
      "1539/1539 [==============================] - 18s 12ms/step - loss: 425.9947 - mean_absolute_error: 14.3552 - root_mean_squared_error: 20.6396 - mean_absolute_percentage_error: 20.2368\n",
      "Epoch 59/100\n",
      "1539/1539 [==============================] - 18s 12ms/step - loss: 425.3771 - mean_absolute_error: 14.3468 - root_mean_squared_error: 20.6247 - mean_absolute_percentage_error: 20.2491\n",
      "Epoch 60/100\n",
      "1539/1539 [==============================] - 18s 12ms/step - loss: 424.3275 - mean_absolute_error: 14.3243 - root_mean_squared_error: 20.5992 - mean_absolute_percentage_error: 20.2418\n",
      "Epoch 61/100\n",
      "1539/1539 [==============================] - 18s 12ms/step - loss: 424.1305 - mean_absolute_error: 14.3170 - root_mean_squared_error: 20.5944 - mean_absolute_percentage_error: 20.1850\n",
      "Epoch 62/100\n",
      "1539/1539 [==============================] - 18s 11ms/step - loss: 423.6620 - mean_absolute_error: 14.3140 - root_mean_squared_error: 20.5830 - mean_absolute_percentage_error: 20.1864\n",
      "Epoch 63/100\n",
      "1539/1539 [==============================] - 18s 12ms/step - loss: 423.2097 - mean_absolute_error: 14.2995 - root_mean_squared_error: 20.5721 - mean_absolute_percentage_error: 20.1920\n",
      "Epoch 64/100\n",
      "1539/1539 [==============================] - 18s 12ms/step - loss: 422.3341 - mean_absolute_error: 14.2880 - root_mean_squared_error: 20.5508 - mean_absolute_percentage_error: 20.1343\n",
      "Epoch 65/100\n",
      "1539/1539 [==============================] - 18s 11ms/step - loss: 421.7602 - mean_absolute_error: 14.2732 - root_mean_squared_error: 20.5368 - mean_absolute_percentage_error: 20.1310\n",
      "Epoch 66/100\n",
      "1539/1539 [==============================] - 18s 12ms/step - loss: 420.9215 - mean_absolute_error: 14.2659 - root_mean_squared_error: 20.5164 - mean_absolute_percentage_error: 20.1181\n",
      "Epoch 67/100\n",
      "1539/1539 [==============================] - 18s 12ms/step - loss: 420.4932 - mean_absolute_error: 14.2559 - root_mean_squared_error: 20.5059 - mean_absolute_percentage_error: 20.0652\n",
      "Epoch 68/100\n",
      "1539/1539 [==============================] - 18s 12ms/step - loss: 420.0913 - mean_absolute_error: 14.2426 - root_mean_squared_error: 20.4961 - mean_absolute_percentage_error: 20.0672\n",
      "Epoch 69/100\n",
      "1539/1539 [==============================] - 18s 12ms/step - loss: 419.5103 - mean_absolute_error: 14.2378 - root_mean_squared_error: 20.4820 - mean_absolute_percentage_error: 20.0109\n",
      "Epoch 70/100\n",
      "1539/1539 [==============================] - 18s 12ms/step - loss: 418.9124 - mean_absolute_error: 14.2201 - root_mean_squared_error: 20.4673 - mean_absolute_percentage_error: 20.0377\n",
      "Epoch 71/100\n",
      "1539/1539 [==============================] - 18s 12ms/step - loss: 418.7535 - mean_absolute_error: 14.2242 - root_mean_squared_error: 20.4635 - mean_absolute_percentage_error: 20.0152\n",
      "Epoch 72/100\n",
      "1539/1539 [==============================] - 18s 12ms/step - loss: 418.1656 - mean_absolute_error: 14.2115 - root_mean_squared_error: 20.4491 - mean_absolute_percentage_error: 20.0248\n",
      "Epoch 73/100\n",
      "1539/1539 [==============================] - 18s 11ms/step - loss: 417.5240 - mean_absolute_error: 14.1946 - root_mean_squared_error: 20.4334 - mean_absolute_percentage_error: 19.9570\n",
      "Epoch 74/100\n",
      "1539/1539 [==============================] - 18s 11ms/step - loss: 416.7173 - mean_absolute_error: 14.1877 - root_mean_squared_error: 20.4137 - mean_absolute_percentage_error: 19.9445\n",
      "Epoch 75/100\n",
      "1539/1539 [==============================] - 18s 12ms/step - loss: 416.3043 - mean_absolute_error: 14.1828 - root_mean_squared_error: 20.4035 - mean_absolute_percentage_error: 20.0043\n",
      "Epoch 76/100\n",
      "1539/1539 [==============================] - 18s 11ms/step - loss: 416.0570 - mean_absolute_error: 14.1730 - root_mean_squared_error: 20.3975 - mean_absolute_percentage_error: 19.9702\n",
      "Epoch 77/100\n",
      "1539/1539 [==============================] - 18s 11ms/step - loss: 415.7818 - mean_absolute_error: 14.1650 - root_mean_squared_error: 20.3907 - mean_absolute_percentage_error: 19.8859 2s - loss: 414.3969 - mean_absolute_error: 14.1472 - root_mean_squared_error\n",
      "Epoch 78/100\n",
      "1539/1539 [==============================] - 18s 12ms/step - loss: 414.6534 - mean_absolute_error: 14.1471 - root_mean_squared_error: 20.3630 - mean_absolute_percentage_error: 19.8982\n",
      "Epoch 79/100\n",
      "1539/1539 [==============================] - 18s 12ms/step - loss: 414.7639 - mean_absolute_error: 14.1472 - root_mean_squared_error: 20.3658 - mean_absolute_percentage_error: 19.8984\n",
      "Epoch 80/100\n",
      "1539/1539 [==============================] - 18s 12ms/step - loss: 414.4326 - mean_absolute_error: 14.1392 - root_mean_squared_error: 20.3576 - mean_absolute_percentage_error: 19.9019\n",
      "Epoch 81/100\n"
     ]
    },
    {
     "name": "stdout",
     "output_type": "stream",
     "text": [
      "1539/1539 [==============================] - 18s 12ms/step - loss: 414.0547 - mean_absolute_error: 14.1294 - root_mean_squared_error: 20.3483 - mean_absolute_percentage_error: 19.8728 6s -\n",
      "Epoch 82/100\n",
      "1539/1539 [==============================] - 18s 12ms/step - loss: 412.8876 - mean_absolute_error: 14.1111 - root_mean_squared_error: 20.3196 - mean_absolute_percentage_error: 19.8427\n",
      "Epoch 83/100\n",
      "1539/1539 [==============================] - 18s 12ms/step - loss: 412.4951 - mean_absolute_error: 14.1039 - root_mean_squared_error: 20.3100 - mean_absolute_percentage_error: 19.8039\n",
      "Epoch 84/100\n",
      "1539/1539 [==============================] - 18s 11ms/step - loss: 412.1221 - mean_absolute_error: 14.0997 - root_mean_squared_error: 20.3008 - mean_absolute_percentage_error: 19.8546\n",
      "Epoch 85/100\n",
      "1539/1539 [==============================] - 18s 12ms/step - loss: 412.0800 - mean_absolute_error: 14.0988 - root_mean_squared_error: 20.2998 - mean_absolute_percentage_error: 19.8144\n",
      "Epoch 86/100\n",
      "1539/1539 [==============================] - 18s 11ms/step - loss: 411.4720 - mean_absolute_error: 14.0891 - root_mean_squared_error: 20.2848 - mean_absolute_percentage_error: 19.8182\n",
      "Epoch 87/100\n",
      "1539/1539 [==============================] - 18s 12ms/step - loss: 410.9099 - mean_absolute_error: 14.0748 - root_mean_squared_error: 20.2709 - mean_absolute_percentage_error: 19.7684\n",
      "Epoch 88/100\n",
      "1539/1539 [==============================] - 18s 12ms/step - loss: 410.5496 - mean_absolute_error: 14.0686 - root_mean_squared_error: 20.2620 - mean_absolute_percentage_error: 19.7776\n",
      "Epoch 89/100\n",
      "1539/1539 [==============================] - 17s 11ms/step - loss: 410.4311 - mean_absolute_error: 14.0691 - root_mean_squared_error: 20.2591 - mean_absolute_percentage_error: 19.7729\n",
      "Epoch 90/100\n",
      "1539/1539 [==============================] - 18s 11ms/step - loss: 410.1550 - mean_absolute_error: 14.0640 - root_mean_squared_error: 20.2523 - mean_absolute_percentage_error: 19.7757\n",
      "Epoch 91/100\n",
      "1539/1539 [==============================] - 18s 12ms/step - loss: 409.3618 - mean_absolute_error: 14.0517 - root_mean_squared_error: 20.2327 - mean_absolute_percentage_error: 19.7172\n",
      "Epoch 92/100\n",
      "1539/1539 [==============================] - 18s 12ms/step - loss: 409.2216 - mean_absolute_error: 14.0444 - root_mean_squared_error: 20.2292 - mean_absolute_percentage_error: 19.7020\n",
      "Epoch 93/100\n",
      "1539/1539 [==============================] - 18s 12ms/step - loss: 409.1729 - mean_absolute_error: 14.0427 - root_mean_squared_error: 20.2280 - mean_absolute_percentage_error: 19.7604\n",
      "Epoch 94/100\n",
      "1539/1539 [==============================] - 18s 12ms/step - loss: 408.4353 - mean_absolute_error: 14.0362 - root_mean_squared_error: 20.2098 - mean_absolute_percentage_error: 19.7264\n",
      "Epoch 95/100\n",
      "1539/1539 [==============================] - 18s 12ms/step - loss: 407.5663 - mean_absolute_error: 14.0148 - root_mean_squared_error: 20.1883 - mean_absolute_percentage_error: 19.6877\n",
      "Epoch 96/100\n",
      "1539/1539 [==============================] - 18s 12ms/step - loss: 407.5989 - mean_absolute_error: 14.0193 - root_mean_squared_error: 20.1891 - mean_absolute_percentage_error: 19.7101\n",
      "Epoch 97/100\n",
      "1539/1539 [==============================] - 17s 11ms/step - loss: 407.1407 - mean_absolute_error: 14.0055 - root_mean_squared_error: 20.1777 - mean_absolute_percentage_error: 19.7136\n",
      "Epoch 98/100\n",
      "1539/1539 [==============================] - 17s 11ms/step - loss: 406.9809 - mean_absolute_error: 14.0080 - root_mean_squared_error: 20.1738 - mean_absolute_percentage_error: 19.6818\n",
      "Epoch 99/100\n",
      "1539/1539 [==============================] - 18s 12ms/step - loss: 406.6516 - mean_absolute_error: 13.9985 - root_mean_squared_error: 20.1656 - mean_absolute_percentage_error: 19.6691\n",
      "Epoch 100/100\n",
      "1539/1539 [==============================] - 18s 12ms/step - loss: 406.4543 - mean_absolute_error: 13.9959 - root_mean_squared_error: 20.1607 - mean_absolute_percentage_error: 19.6486\n"
     ]
    },
    {
     "data": {
      "text/plain": [
       "<keras.callbacks.History at 0x1c86ab2ed30>"
      ]
     },
     "execution_count": 54,
     "metadata": {},
     "output_type": "execute_result"
    }
   ],
   "source": [
    "model15.fit((Wt15,Xt15), yt15, \n",
    "            epochs = 100, \n",
    "            verbose = 1)"
   ]
  },
  {
   "cell_type": "code",
   "execution_count": 55,
   "metadata": {},
   "outputs": [
    {
     "name": "stderr",
     "output_type": "stream",
     "text": [
      "WARNING:absl:Function `_wrapped_model` contains input name(s) WideInput, DeepInput with unsupported characters which will be renamed to wideinput, deepinput in the SavedModel.\n",
      "WARNING:absl:Found untraced functions such as lstm_cell_7_layer_call_fn, lstm_cell_7_layer_call_and_return_conditional_losses, lstm_cell_5_layer_call_fn, lstm_cell_5_layer_call_and_return_conditional_losses, lstm_cell_6_layer_call_fn while saving (showing 5 of 15). These functions will not be directly callable after loading.\n"
     ]
    },
    {
     "name": "stdout",
     "output_type": "stream",
     "text": [
      "INFO:tensorflow:Assets written to: my_dir/8a-15\\assets\n"
     ]
    },
    {
     "name": "stderr",
     "output_type": "stream",
     "text": [
      "INFO:tensorflow:Assets written to: my_dir/8a-15\\assets\n",
      "WARNING:absl:<keras.layers.recurrent.LSTMCell object at 0x000001C7D91AFA00> has the same name 'LSTMCell' as a built-in Keras object. Consider renaming <class 'keras.layers.recurrent.LSTMCell'> to avoid naming conflicts when loading with `tf.keras.models.load_model`. If renaming is not possible, pass the object in the `custom_objects` parameter of the load function.\n",
      "WARNING:absl:<keras.layers.recurrent.LSTMCell object at 0x000001C8725C86A0> has the same name 'LSTMCell' as a built-in Keras object. Consider renaming <class 'keras.layers.recurrent.LSTMCell'> to avoid naming conflicts when loading with `tf.keras.models.load_model`. If renaming is not possible, pass the object in the `custom_objects` parameter of the load function.\n",
      "WARNING:absl:<keras.layers.recurrent.LSTMCell object at 0x000001C8725C8CD0> has the same name 'LSTMCell' as a built-in Keras object. Consider renaming <class 'keras.layers.recurrent.LSTMCell'> to avoid naming conflicts when loading with `tf.keras.models.load_model`. If renaming is not possible, pass the object in the `custom_objects` parameter of the load function.\n"
     ]
    }
   ],
   "source": [
    "model15.save(\"my_dir/8a-15\")"
   ]
  },
  {
   "cell_type": "code",
   "execution_count": 56,
   "metadata": {},
   "outputs": [],
   "source": [
    "metrics15 = pd.DataFrame(model15.history.history)"
   ]
  },
  {
   "cell_type": "code",
   "execution_count": 57,
   "metadata": {},
   "outputs": [
    {
     "data": {
      "text/plain": [
       "<AxesSubplot:>"
      ]
     },
     "execution_count": 57,
     "metadata": {},
     "output_type": "execute_result"
    },
    {
     "data": {
      "image/png": "[encoded data removed]",
      "text/plain": [
       "<Figure size 432x288 with 1 Axes>"
      ]
     },
     "metadata": {
      "needs_background": "light"
     },
     "output_type": "display_data"
    }
   ],
   "source": [
    "metrics15[['loss']].plot()"
   ]
  },
  {
   "cell_type": "code",
   "execution_count": 32,
   "metadata": {},
   "outputs": [],
   "source": [
    "model15 = keras.models.load_model(\"my_dir/8a-15\", custom_objects=SeqSelfAttention.get_custom_objects())"
   ]
  },
  {
   "cell_type": "code",
   "execution_count": 59,
   "metadata": {},
   "outputs": [
    {
     "data": {
      "text/plain": [
       "array([[ 32.36768  ,  22.384735 ,  28.88665  ,  74.6526   ,  30.03909  ,\n",
       "          3.0251958],\n",
       "       [ 30.593832 ,  19.779678 ,  27.938778 ,  75.04236  ,  30.473528 ,\n",
       "          3.4109426],\n",
       "       [ 30.097656 ,  18.485456 ,  24.937195 ,  71.68019  ,  28.940044 ,\n",
       "          2.7640324],\n",
       "       ...,\n",
       "       [ 46.983288 ,  47.46641  ,  61.264763 , 116.85553  ,  52.63214  ,\n",
       "         11.910154 ],\n",
       "       [ 43.49705  ,  41.960144 ,  56.939808 , 112.14911  ,  50.962337 ,\n",
       "         15.604166 ],\n",
       "       [ 40.35789  ,  36.858887 ,  48.125175 , 104.40556  ,  45.39969  ,\n",
       "         15.138083 ]], dtype=float32)"
      ]
     },
     "execution_count": 59,
     "metadata": {},
     "output_type": "execute_result"
    }
   ],
   "source": [
    "model15.predict((Wv15,Xv15))"
   ]
  },
  {
   "cell_type": "markdown",
   "metadata": {},
   "source": [
    "### Evaluation on inverse_transform"
   ]
  },
  {
   "cell_type": "code",
   "execution_count": null,
   "metadata": {},
   "outputs": [],
   "source": [
    "test_predictions15 = model15.predict((Wv15,Xv15))\n",
    "\n",
    "\n",
    "MSE15 = mean_squared_error(yv15,test_predictions15)\n",
    "\n",
    "MAE15 = mean_absolute_error(yv15,test_predictions15)\n",
    "\n",
    "RMSE15 = np.sqrt(MSE15)\n",
    "\n",
    "MAPE15 = mean_absolute_percentage_error(yv15,test_predictions15)*100\n",
    "\n",
    "eval15 = [MSE15, MAE15, RMSE15, MAPE15]\n",
    "print(eval15)"
   ]
  },
  {
   "cell_type": "code",
   "execution_count": null,
   "metadata": {},
   "outputs": [],
   "source": [
    "GEH, count = ga.GEH(np.asarray(yv15), np.asarray(test_predictions15))\n",
    "GEH15 = count/GEH.size\n",
    "print(GEH15)"
   ]
  },
  {
   "cell_type": "markdown",
   "metadata": {},
   "source": [
    "# 30 mins ahead"
   ]
  },
  {
   "cell_type": "code",
   "execution_count": 62,
   "metadata": {},
   "outputs": [],
   "source": [
    "def build_model_30(hp):\n",
    "    # Inputs\n",
    "    channel_Wide = keras.layers.Input(shape=Wt30.shape[1:], name=\"WideInput\")\n",
    "    channel_Deep = keras.layers.Input(shape=Xt30.shape[1:], name=\"DeepInput\")\n",
    "    units = hp.Int(\"units\", min_value=1, max_value=100, step=1)\n",
    "    \n",
    "    \n",
    "    # Wide Model\n",
    "    flatten_30w = keras.layers.TimeDistributed(keras.layers.Flatten())(channel_Wide)\n",
    "    Bi_30 = keras.layers.Bidirectional(\n",
    "        keras.layers.LSTM(units=units, return_sequences=True),\n",
    "        merge_mode=\"ave\"\n",
    "    )(flatten_30w)\n",
    "    \n",
    "    \n",
    "    # Deep Model\n",
    "    # CNN \n",
    "    CNN_30 = keras.layers.TimeDistributed(\n",
    "        keras.layers.Conv2D(filters=hp.Int(\"filters\", min_value=32, max_value=512, step=32),\n",
    "                            kernel_size=hp.Choice(\"kernel_size\", [2, 3]), activation='relu'))(channel_Deep)\n",
    "    flatten_30 = keras.layers.TimeDistributed(keras.layers.Flatten())(CNN_30)\n",
    "    # LSTM          \n",
    "    LSTM_30 = keras.layers.LSTM(units=units, return_sequences=True)(flatten_30)\n",
    "\n",
    "    \n",
    "    # Concatenation \n",
    "    concat = keras.layers.concatenate([Bi_30, LSTM_30], axis=1)\n",
    "\n",
    "    # Attention\n",
    "    Att_30 = SeqSelfAttention(attention_activation='sigmoid')(concat)\n",
    "    merge = keras.layers.Flatten()(Att_30)\n",
    "\n",
    "    \n",
    "    # Output\n",
    "    output = keras.layers.Dense(n_features, name= \"output\")(merge)\n",
    "    \n",
    "    # Model\n",
    "    model_30 = keras.Model(inputs=[channel_Wide,channel_Deep], outputs=[output])\n",
    "\n",
    "    # Compile\n",
    "    model_30.compile(optimizer=keras.optimizers.Adam(hp.Choice(\"learning_rate\", [1e-2, 1e-3, 1e-4])), \n",
    "        loss=\"mse\", metrics=['MeanAbsoluteError','RootMeanSquaredError','MeanAbsolutePercentageError'])\n",
    "                    \n",
    "    return model_30"
   ]
  },
  {
   "cell_type": "code",
   "execution_count": 63,
   "metadata": {},
   "outputs": [],
   "source": [
    "tuner30 = RandomSearch(\n",
    "    build_model_30,\n",
    "    objective=\"val_loss\",\n",
    "    max_trials=60,\n",
    "    executions_per_trial=2,\n",
    "    overwrite=True,\n",
    "    directory=os.path.normpath('C:/RunsOak'),\n",
    "    project_name=\"8a-30\",\n",
    ")"
   ]
  },
  {
   "cell_type": "code",
   "execution_count": 64,
   "metadata": {},
   "outputs": [
    {
     "name": "stdout",
     "output_type": "stream",
     "text": [
      "Search space summary\n",
      "Default search space size: 4\n",
      "units (Int)\n",
      "{'default': None, 'conditions': [], 'min_value': 1, 'max_value': 100, 'step': 1, 'sampling': None}\n",
      "filters (Int)\n",
      "{'default': None, 'conditions': [], 'min_value': 32, 'max_value': 512, 'step': 32, 'sampling': None}\n",
      "kernel_size (Choice)\n",
      "{'default': 2, 'conditions': [], 'values': [2, 3], 'ordered': True}\n",
      "learning_rate (Choice)\n",
      "{'default': 0.01, 'conditions': [], 'values': [0.01, 0.001, 0.0001], 'ordered': True}\n"
     ]
    }
   ],
   "source": [
    "tuner30.search_space_summary()"
   ]
  },
  {
   "cell_type": "code",
   "execution_count": 65,
   "metadata": {},
   "outputs": [
    {
     "name": "stdout",
     "output_type": "stream",
     "text": [
      "Trial 60 Complete [00h 10m 30s]\n",
      "val_loss: 491.2345886230469\n",
      "\n",
      "Best val_loss So Far: 487.9028778076172\n",
      "Total elapsed time: 01h 29m 06s\n",
      "INFO:tensorflow:Oracle triggered exit\n"
     ]
    },
    {
     "name": "stderr",
     "output_type": "stream",
     "text": [
      "INFO:tensorflow:Oracle triggered exit\n"
     ]
    }
   ],
   "source": [
    "tuner30.search((Wt30,Xt30), yt30, epochs=200,\n",
    "            validation_split = val_percent,\n",
    "            callbacks=[early_stop],\n",
    "            verbose=2)"
   ]
  },
  {
   "cell_type": "code",
   "execution_count": 66,
   "metadata": {},
   "outputs": [
    {
     "name": "stdout",
     "output_type": "stream",
     "text": [
      "Results summary\n",
      "Results in C:\\RunsOak\\8a-30\n",
      "Showing 1 best trials\n",
      "Objective(name='val_loss', direction='min')\n",
      "Trial summary\n",
      "Hyperparameters:\n",
      "units: 47\n",
      "filters: 128\n",
      "kernel_size: 2\n",
      "learning_rate: 0.001\n",
      "Score: 487.9028778076172\n"
     ]
    }
   ],
   "source": [
    "tuner30.results_summary(1)"
   ]
  },
  {
   "cell_type": "markdown",
   "metadata": {},
   "source": [
    "### Best model"
   ]
  },
  {
   "cell_type": "code",
   "execution_count": 67,
   "metadata": {},
   "outputs": [],
   "source": [
    "best_hp30 = tuner30.get_best_hyperparameters()[0]\n",
    "model30 = tuner30.hypermodel.build(best_hp30)"
   ]
  },
  {
   "cell_type": "code",
   "execution_count": 68,
   "metadata": {},
   "outputs": [
    {
     "data": {
      "text/plain": [
       "['8a-30']"
      ]
     },
     "execution_count": 68,
     "metadata": {},
     "output_type": "execute_result"
    }
   ],
   "source": [
    "scaler_filename = \"8a-30\"\n",
    "joblib.dump(best_hp30, scaler_filename) "
   ]
  },
  {
   "cell_type": "code",
   "execution_count": 69,
   "metadata": {},
   "outputs": [
    {
     "name": "stdout",
     "output_type": "stream",
     "text": [
      "Model: \"model_1\"\n",
      "__________________________________________________________________________________________________\n",
      " Layer (type)                   Output Shape         Param #     Connected to                     \n",
      "==================================================================================================\n",
      " DeepInput (InputLayer)         [(None, 3, 5, 6, 1)  0           []                               \n",
      "                                ]                                                                 \n",
      "                                                                                                  \n",
      " WideInput (InputLayer)         [(None, 3, 3, 6)]    0           []                               \n",
      "                                                                                                  \n",
      " time_distributed_4 (TimeDistri  (None, 3, 4, 5, 128  640        ['DeepInput[0][0]']              \n",
      " buted)                         )                                                                 \n",
      "                                                                                                  \n",
      " time_distributed_3 (TimeDistri  (None, 3, 18)       0           ['WideInput[0][0]']              \n",
      " buted)                                                                                           \n",
      "                                                                                                  \n",
      " time_distributed_5 (TimeDistri  (None, 3, 2560)     0           ['time_distributed_4[0][0]']     \n",
      " buted)                                                                                           \n",
      "                                                                                                  \n",
      " bidirectional_1 (Bidirectional  (None, 3, 47)       24816       ['time_distributed_3[0][0]']     \n",
      " )                                                                                                \n",
      "                                                                                                  \n",
      " lstm_3 (LSTM)                  (None, 3, 47)        490304      ['time_distributed_5[0][0]']     \n",
      "                                                                                                  \n",
      " concatenate_1 (Concatenate)    (None, 6, 47)        0           ['bidirectional_1[0][0]',        \n",
      "                                                                  'lstm_3[0][0]']                 \n",
      "                                                                                                  \n",
      " seq_self_attention_1 (SeqSelfA  (None, 6, 47)       3073        ['concatenate_1[0][0]']          \n",
      " ttention)                                                                                        \n",
      "                                                                                                  \n",
      " flatten_5 (Flatten)            (None, 282)          0           ['seq_self_attention_1[0][0]']   \n",
      "                                                                                                  \n",
      " output (Dense)                 (None, 6)            1698        ['flatten_5[0][0]']              \n",
      "                                                                                                  \n",
      "==================================================================================================\n",
      "Total params: 520,531\n",
      "Trainable params: 520,531\n",
      "Non-trainable params: 0\n",
      "__________________________________________________________________________________________________\n"
     ]
    }
   ],
   "source": [
    "model30.summary()"
   ]
  },
  {
   "cell_type": "code",
   "execution_count": 70,
   "metadata": {},
   "outputs": [
    {
     "name": "stdout",
     "output_type": "stream",
     "text": [
      "Epoch 1/100\n",
      "1539/1539 [==============================] - 25s 14ms/step - loss: 8335.7842 - mean_absolute_error: 59.9214 - root_mean_squared_error: 91.3005 - mean_absolute_percentage_error: 70.3934\n",
      "Epoch 2/100\n",
      "1539/1539 [==============================] - 20s 13ms/step - loss: 1350.0099 - mean_absolute_error: 25.7999 - root_mean_squared_error: 36.7425 - mean_absolute_percentage_error: 39.5312\n",
      "Epoch 3/100\n",
      "1539/1539 [==============================] - 21s 13ms/step - loss: 785.7194 - mean_absolute_error: 19.6930 - root_mean_squared_error: 28.0307 - mean_absolute_percentage_error: 31.6560\n",
      "Epoch 4/100\n",
      "1539/1539 [==============================] - 20s 13ms/step - loss: 655.4918 - mean_absolute_error: 17.8932 - root_mean_squared_error: 25.6026 - mean_absolute_percentage_error: 28.7691\n",
      "Epoch 5/100\n",
      "1539/1539 [==============================] - 20s 13ms/step - loss: 597.6487 - mean_absolute_error: 17.1004 - root_mean_squared_error: 24.4469 - mean_absolute_percentage_error: 26.5289\n",
      "Epoch 6/100\n",
      "1539/1539 [==============================] - 20s 13ms/step - loss: 556.6936 - mean_absolute_error: 16.5469 - root_mean_squared_error: 23.5943 - mean_absolute_percentage_error: 24.7588\n",
      "Epoch 7/100\n",
      "1539/1539 [==============================] - 20s 13ms/step - loss: 533.3552 - mean_absolute_error: 16.1787 - root_mean_squared_error: 23.0945 - mean_absolute_percentage_error: 23.7755\n",
      "Epoch 8/100\n",
      "1539/1539 [==============================] - 20s 13ms/step - loss: 521.3829 - mean_absolute_error: 15.9992 - root_mean_squared_error: 22.8338 - mean_absolute_percentage_error: 23.4355\n",
      "Epoch 9/100\n",
      "1539/1539 [==============================] - 20s 13ms/step - loss: 508.8038 - mean_absolute_error: 15.8030 - root_mean_squared_error: 22.5567 - mean_absolute_percentage_error: 23.1361\n",
      "Epoch 10/100\n",
      "1539/1539 [==============================] - 20s 13ms/step - loss: 499.9869 - mean_absolute_error: 15.6419 - root_mean_squared_error: 22.3604 - mean_absolute_percentage_error: 22.8163\n",
      "Epoch 11/100\n",
      "1539/1539 [==============================] - 21s 13ms/step - loss: 494.4981 - mean_absolute_error: 15.5542 - root_mean_squared_error: 22.2373 - mean_absolute_percentage_error: 22.6458\n",
      "Epoch 12/100\n",
      "1539/1539 [==============================] - 21s 13ms/step - loss: 487.6516 - mean_absolute_error: 15.4394 - root_mean_squared_error: 22.0828 - mean_absolute_percentage_error: 22.4916\n",
      "Epoch 13/100\n",
      "1539/1539 [==============================] - 21s 13ms/step - loss: 482.0981 - mean_absolute_error: 15.3424 - root_mean_squared_error: 21.9567 - mean_absolute_percentage_error: 22.3138\n",
      "Epoch 14/100\n",
      "1539/1539 [==============================] - 21s 13ms/step - loss: 477.7762 - mean_absolute_error: 15.2769 - root_mean_squared_error: 21.8581 - mean_absolute_percentage_error: 22.1923\n",
      "Epoch 15/100\n",
      "1539/1539 [==============================] - 20s 13ms/step - loss: 473.0827 - mean_absolute_error: 15.1890 - root_mean_squared_error: 21.7505 - mean_absolute_percentage_error: 21.9936\n",
      "Epoch 16/100\n",
      "1539/1539 [==============================] - 20s 13ms/step - loss: 470.4866 - mean_absolute_error: 15.1505 - root_mean_squared_error: 21.6907 - mean_absolute_percentage_error: 21.9134\n",
      "Epoch 17/100\n",
      "1539/1539 [==============================] - 20s 13ms/step - loss: 466.4286 - mean_absolute_error: 15.0780 - root_mean_squared_error: 21.5970 - mean_absolute_percentage_error: 21.7583\n",
      "Epoch 18/100\n",
      "1539/1539 [==============================] - 20s 13ms/step - loss: 463.5330 - mean_absolute_error: 15.0249 - root_mean_squared_error: 21.5298 - mean_absolute_percentage_error: 21.7530\n",
      "Epoch 19/100\n",
      "1539/1539 [==============================] - 20s 13ms/step - loss: 460.0062 - mean_absolute_error: 14.9661 - root_mean_squared_error: 21.4478 - mean_absolute_percentage_error: 21.5198\n",
      "Epoch 20/100\n",
      "1539/1539 [==============================] - 21s 13ms/step - loss: 457.1279 - mean_absolute_error: 14.9254 - root_mean_squared_error: 21.3806 - mean_absolute_percentage_error: 21.4951\n",
      "Epoch 21/100\n",
      "1539/1539 [==============================] - 20s 13ms/step - loss: 455.8921 - mean_absolute_error: 14.8981 - root_mean_squared_error: 21.3516 - mean_absolute_percentage_error: 21.4689\n",
      "Epoch 22/100\n",
      "1539/1539 [==============================] - 20s 13ms/step - loss: 452.1265 - mean_absolute_error: 14.8470 - root_mean_squared_error: 21.2633 - mean_absolute_percentage_error: 21.3818\n",
      "Epoch 23/100\n",
      "1539/1539 [==============================] - 20s 13ms/step - loss: 449.3858 - mean_absolute_error: 14.8011 - root_mean_squared_error: 21.1987 - mean_absolute_percentage_error: 21.3396\n",
      "Epoch 24/100\n",
      "1539/1539 [==============================] - 21s 13ms/step - loss: 447.2730 - mean_absolute_error: 14.7685 - root_mean_squared_error: 21.1488 - mean_absolute_percentage_error: 21.2605\n",
      "Epoch 25/100\n",
      "1539/1539 [==============================] - 21s 14ms/step - loss: 444.5461 - mean_absolute_error: 14.7380 - root_mean_squared_error: 21.0843 - mean_absolute_percentage_error: 21.2403\n",
      "Epoch 26/100\n",
      "1539/1539 [==============================] - 21s 13ms/step - loss: 442.1745 - mean_absolute_error: 14.6883 - root_mean_squared_error: 21.0280 - mean_absolute_percentage_error: 21.1365\n",
      "Epoch 27/100\n",
      "1539/1539 [==============================] - 20s 13ms/step - loss: 439.8797 - mean_absolute_error: 14.6614 - root_mean_squared_error: 20.9733 - mean_absolute_percentage_error: 21.0338\n",
      "Epoch 28/100\n",
      "1539/1539 [==============================] - 21s 13ms/step - loss: 437.6272 - mean_absolute_error: 14.6182 - root_mean_squared_error: 20.9195 - mean_absolute_percentage_error: 20.9728\n",
      "Epoch 29/100\n",
      "1539/1539 [==============================] - 20s 13ms/step - loss: 435.3480 - mean_absolute_error: 14.5977 - root_mean_squared_error: 20.8650 - mean_absolute_percentage_error: 20.9747\n",
      "Epoch 30/100\n",
      "1539/1539 [==============================] - 20s 13ms/step - loss: 433.0089 - mean_absolute_error: 14.5611 - root_mean_squared_error: 20.8089 - mean_absolute_percentage_error: 20.9536\n",
      "Epoch 31/100\n",
      "1539/1539 [==============================] - 20s 13ms/step - loss: 430.5579 - mean_absolute_error: 14.5150 - root_mean_squared_error: 20.7499 - mean_absolute_percentage_error: 20.8743\n",
      "Epoch 32/100\n",
      "1539/1539 [==============================] - 21s 13ms/step - loss: 428.1440 - mean_absolute_error: 14.4826 - root_mean_squared_error: 20.6917 - mean_absolute_percentage_error: 20.8040\n",
      "Epoch 33/100\n",
      "1539/1539 [==============================] - 20s 13ms/step - loss: 426.8997 - mean_absolute_error: 14.4562 - root_mean_squared_error: 20.6615 - mean_absolute_percentage_error: 20.7700\n",
      "Epoch 34/100\n",
      "1539/1539 [==============================] - 21s 13ms/step - loss: 423.6018 - mean_absolute_error: 14.4217 - root_mean_squared_error: 20.5816 - mean_absolute_percentage_error: 20.7508\n",
      "Epoch 35/100\n",
      "1539/1539 [==============================] - 20s 13ms/step - loss: 421.2697 - mean_absolute_error: 14.3719 - root_mean_squared_error: 20.5249 - mean_absolute_percentage_error: 20.6838\n",
      "Epoch 36/100\n",
      "1539/1539 [==============================] - 19s 13ms/step - loss: 419.2777 - mean_absolute_error: 14.3454 - root_mean_squared_error: 20.4763 - mean_absolute_percentage_error: 20.6116\n",
      "Epoch 37/100\n",
      "1539/1539 [==============================] - 20s 13ms/step - loss: 417.1049 - mean_absolute_error: 14.3063 - root_mean_squared_error: 20.4232 - mean_absolute_percentage_error: 20.5961\n",
      "Epoch 38/100\n",
      "1539/1539 [==============================] - 20s 13ms/step - loss: 414.8188 - mean_absolute_error: 14.2688 - root_mean_squared_error: 20.3671 - mean_absolute_percentage_error: 20.5201\n",
      "Epoch 39/100\n",
      "1539/1539 [==============================] - 20s 13ms/step - loss: 412.2186 - mean_absolute_error: 14.2368 - root_mean_squared_error: 20.3032 - mean_absolute_percentage_error: 20.5046\n",
      "Epoch 40/100\n",
      "1539/1539 [==============================] - 20s 13ms/step - loss: 409.9716 - mean_absolute_error: 14.1961 - root_mean_squared_error: 20.2478 - mean_absolute_percentage_error: 20.4708\n",
      "Epoch 41/100\n",
      "1539/1539 [==============================] - 20s 13ms/step - loss: 408.3607 - mean_absolute_error: 14.1720 - root_mean_squared_error: 20.2079 - mean_absolute_percentage_error: 20.4214\n",
      "Epoch 42/100\n",
      "1539/1539 [==============================] - 20s 13ms/step - loss: 405.9754 - mean_absolute_error: 14.1353 - root_mean_squared_error: 20.1488 - mean_absolute_percentage_error: 20.3968\n",
      "Epoch 43/100\n",
      "1539/1539 [==============================] - 20s 13ms/step - loss: 403.5683 - mean_absolute_error: 14.1003 - root_mean_squared_error: 20.0890 - mean_absolute_percentage_error: 20.3600\n",
      "Epoch 44/100\n",
      "1539/1539 [==============================] - 20s 13ms/step - loss: 401.0623 - mean_absolute_error: 14.0619 - root_mean_squared_error: 20.0265 - mean_absolute_percentage_error: 20.2921\n",
      "Epoch 45/100\n",
      "1539/1539 [==============================] - 20s 13ms/step - loss: 398.3752 - mean_absolute_error: 14.0123 - root_mean_squared_error: 19.9593 - mean_absolute_percentage_error: 20.2265\n",
      "Epoch 46/100\n",
      "1539/1539 [==============================] - 21s 13ms/step - loss: 396.4140 - mean_absolute_error: 13.9905 - root_mean_squared_error: 19.9102 - mean_absolute_percentage_error: 20.2283\n",
      "Epoch 47/100\n",
      "1539/1539 [==============================] - 20s 13ms/step - loss: 394.3224 - mean_absolute_error: 13.9473 - root_mean_squared_error: 19.8576 - mean_absolute_percentage_error: 20.1210\n",
      "Epoch 48/100\n",
      "1539/1539 [==============================] - 20s 13ms/step - loss: 392.3748 - mean_absolute_error: 13.9247 - root_mean_squared_error: 19.8085 - mean_absolute_percentage_error: 20.1216\n",
      "Epoch 49/100\n",
      "1539/1539 [==============================] - 20s 13ms/step - loss: 389.6494 - mean_absolute_error: 13.8923 - root_mean_squared_error: 19.7395 - mean_absolute_percentage_error: 20.1294\n",
      "Epoch 50/100\n",
      "1539/1539 [==============================] - 20s 13ms/step - loss: 388.1892 - mean_absolute_error: 13.8620 - root_mean_squared_error: 19.7025 - mean_absolute_percentage_error: 20.1298\n",
      "Epoch 51/100\n",
      "1539/1539 [==============================] - 20s 13ms/step - loss: 384.9677 - mean_absolute_error: 13.8056 - root_mean_squared_error: 19.6206 - mean_absolute_percentage_error: 20.0066\n",
      "Epoch 52/100\n",
      "1539/1539 [==============================] - 20s 13ms/step - loss: 383.7715 - mean_absolute_error: 13.7952 - root_mean_squared_error: 19.5901 - mean_absolute_percentage_error: 20.0396\n",
      "Epoch 53/100\n",
      "1539/1539 [==============================] - 20s 13ms/step - loss: 381.4853 - mean_absolute_error: 13.7514 - root_mean_squared_error: 19.5316 - mean_absolute_percentage_error: 19.9878\n",
      "Epoch 54/100\n",
      "1539/1539 [==============================] - 20s 13ms/step - loss: 379.6400 - mean_absolute_error: 13.7231 - root_mean_squared_error: 19.4844 - mean_absolute_percentage_error: 19.9173\n",
      "Epoch 55/100\n",
      "1539/1539 [==============================] - 20s 13ms/step - loss: 377.2487 - mean_absolute_error: 13.6899 - root_mean_squared_error: 19.4229 - mean_absolute_percentage_error: 19.9318\n",
      "Epoch 56/100\n",
      "1539/1539 [==============================] - 19s 13ms/step - loss: 374.8683 - mean_absolute_error: 13.6456 - root_mean_squared_error: 19.3615 - mean_absolute_percentage_error: 19.8605\n",
      "Epoch 57/100\n",
      "1539/1539 [==============================] - 20s 13ms/step - loss: 372.6801 - mean_absolute_error: 13.6180 - root_mean_squared_error: 19.3049 - mean_absolute_percentage_error: 19.9018\n",
      "Epoch 58/100\n",
      "1539/1539 [==============================] - 21s 13ms/step - loss: 370.8377 - mean_absolute_error: 13.5794 - root_mean_squared_error: 19.2572 - mean_absolute_percentage_error: 19.7778\n",
      "Epoch 59/100\n",
      "1539/1539 [==============================] - 21s 14ms/step - loss: 369.0099 - mean_absolute_error: 13.5525 - root_mean_squared_error: 19.2096 - mean_absolute_percentage_error: 19.7568\n",
      "Epoch 60/100\n",
      "1539/1539 [==============================] - 21s 14ms/step - loss: 366.5325 - mean_absolute_error: 13.5153 - root_mean_squared_error: 19.1450 - mean_absolute_percentage_error: 19.7556\n",
      "Epoch 61/100\n",
      "1539/1539 [==============================] - 21s 14ms/step - loss: 365.2755 - mean_absolute_error: 13.4946 - root_mean_squared_error: 19.1122 - mean_absolute_percentage_error: 19.7262\n",
      "Epoch 62/100\n",
      "1539/1539 [==============================] - 21s 13ms/step - loss: 363.3752 - mean_absolute_error: 13.4708 - root_mean_squared_error: 19.0624 - mean_absolute_percentage_error: 19.7458\n",
      "Epoch 63/100\n",
      "1539/1539 [==============================] - 20s 13ms/step - loss: 360.6963 - mean_absolute_error: 13.4208 - root_mean_squared_error: 18.9920 - mean_absolute_percentage_error: 19.6944\n",
      "Epoch 64/100\n",
      "1539/1539 [==============================] - 21s 13ms/step - loss: 359.0353 - mean_absolute_error: 13.3898 - root_mean_squared_error: 18.9482 - mean_absolute_percentage_error: 19.6458\n",
      "Epoch 65/100\n",
      "1539/1539 [==============================] - 20s 13ms/step - loss: 356.9959 - mean_absolute_error: 13.3598 - root_mean_squared_error: 18.8943 - mean_absolute_percentage_error: 19.5996\n",
      "Epoch 66/100\n",
      "1539/1539 [==============================] - 20s 13ms/step - loss: 354.8977 - mean_absolute_error: 13.3216 - root_mean_squared_error: 18.8387 - mean_absolute_percentage_error: 19.6080\n",
      "Epoch 67/100\n",
      "1539/1539 [==============================] - 20s 13ms/step - loss: 353.0275 - mean_absolute_error: 13.2921 - root_mean_squared_error: 18.7890 - mean_absolute_percentage_error: 19.5256\n",
      "Epoch 68/100\n",
      "1539/1539 [==============================] - 19s 13ms/step - loss: 350.7216 - mean_absolute_error: 13.2512 - root_mean_squared_error: 18.7276 - mean_absolute_percentage_error: 19.5116\n",
      "Epoch 69/100\n",
      "1539/1539 [==============================] - 20s 13ms/step - loss: 349.1978 - mean_absolute_error: 13.2263 - root_mean_squared_error: 18.6868 - mean_absolute_percentage_error: 19.5296\n",
      "Epoch 70/100\n",
      "1539/1539 [==============================] - 19s 12ms/step - loss: 347.3379 - mean_absolute_error: 13.2009 - root_mean_squared_error: 18.6370 - mean_absolute_percentage_error: 19.5075\n",
      "Epoch 71/100\n",
      "1539/1539 [==============================] - 20s 13ms/step - loss: 345.1500 - mean_absolute_error: 13.1527 - root_mean_squared_error: 18.5782 - mean_absolute_percentage_error: 19.4651\n",
      "Epoch 72/100\n",
      "1539/1539 [==============================] - 20s 13ms/step - loss: 343.9033 - mean_absolute_error: 13.1401 - root_mean_squared_error: 18.5446 - mean_absolute_percentage_error: 19.3915\n",
      "Epoch 73/100\n",
      "1539/1539 [==============================] - 20s 13ms/step - loss: 341.6560 - mean_absolute_error: 13.1043 - root_mean_squared_error: 18.4839 - mean_absolute_percentage_error: 19.4457\n",
      "Epoch 74/100\n",
      "1539/1539 [==============================] - 20s 13ms/step - loss: 339.8727 - mean_absolute_error: 13.0712 - root_mean_squared_error: 18.4356 - mean_absolute_percentage_error: 19.4136\n",
      "Epoch 75/100\n",
      "1539/1539 [==============================] - 20s 13ms/step - loss: 338.3401 - mean_absolute_error: 13.0428 - root_mean_squared_error: 18.3940 - mean_absolute_percentage_error: 19.3618\n",
      "Epoch 76/100\n",
      "1539/1539 [==============================] - 20s 13ms/step - loss: 336.6021 - mean_absolute_error: 13.0163 - root_mean_squared_error: 18.3467 - mean_absolute_percentage_error: 19.3460\n",
      "Epoch 77/100\n",
      "1539/1539 [==============================] - 20s 13ms/step - loss: 334.5172 - mean_absolute_error: 12.9810 - root_mean_squared_error: 18.2898 - mean_absolute_percentage_error: 19.3121\n",
      "Epoch 78/100\n",
      "1539/1539 [==============================] - 20s 13ms/step - loss: 332.4808 - mean_absolute_error: 12.9420 - root_mean_squared_error: 18.2340 - mean_absolute_percentage_error: 19.2733\n",
      "Epoch 79/100\n",
      "1539/1539 [==============================] - 20s 13ms/step - loss: 330.6994 - mean_absolute_error: 12.9181 - root_mean_squared_error: 18.1851 - mean_absolute_percentage_error: 19.3043\n",
      "Epoch 80/100\n",
      "1539/1539 [==============================] - 20s 13ms/step - loss: 328.9063 - mean_absolute_error: 12.8811 - root_mean_squared_error: 18.1358 - mean_absolute_percentage_error: 19.2434\n",
      "Epoch 81/100\n",
      "1539/1539 [==============================] - 20s 13ms/step - loss: 328.5415 - mean_absolute_error: 12.8706 - root_mean_squared_error: 18.1257 - mean_absolute_percentage_error: 19.2414\n",
      "Epoch 82/100\n"
     ]
    },
    {
     "name": "stdout",
     "output_type": "stream",
     "text": [
      "1539/1539 [==============================] - 21s 13ms/step - loss: 325.8342 - mean_absolute_error: 12.8211 - root_mean_squared_error: 18.0509 - mean_absolute_percentage_error: 19.1516\n",
      "Epoch 83/100\n",
      "1539/1539 [==============================] - 21s 14ms/step - loss: 324.2189 - mean_absolute_error: 12.8013 - root_mean_squared_error: 18.0061 - mean_absolute_percentage_error: 19.1665\n",
      "Epoch 84/100\n",
      "1539/1539 [==============================] - 21s 13ms/step - loss: 322.7448 - mean_absolute_error: 12.7699 - root_mean_squared_error: 17.9651 - mean_absolute_percentage_error: 19.1465\n",
      "Epoch 85/100\n",
      "1539/1539 [==============================] - 21s 13ms/step - loss: 321.7113 - mean_absolute_error: 12.7602 - root_mean_squared_error: 17.9363 - mean_absolute_percentage_error: 19.1430\n",
      "Epoch 86/100\n",
      "1539/1539 [==============================] - 20s 13ms/step - loss: 319.9738 - mean_absolute_error: 12.7309 - root_mean_squared_error: 17.8878 - mean_absolute_percentage_error: 19.0907\n",
      "Epoch 87/100\n",
      "1539/1539 [==============================] - 20s 13ms/step - loss: 317.7073 - mean_absolute_error: 12.6780 - root_mean_squared_error: 17.8243 - mean_absolute_percentage_error: 19.0420\n",
      "Epoch 88/100\n",
      "1539/1539 [==============================] - 20s 13ms/step - loss: 316.4402 - mean_absolute_error: 12.6555 - root_mean_squared_error: 17.7888 - mean_absolute_percentage_error: 19.0567\n",
      "Epoch 89/100\n",
      "1539/1539 [==============================] - 20s 13ms/step - loss: 315.3086 - mean_absolute_error: 12.6419 - root_mean_squared_error: 17.7569 - mean_absolute_percentage_error: 19.0011\n",
      "Epoch 90/100\n",
      "1539/1539 [==============================] - 20s 13ms/step - loss: 313.1239 - mean_absolute_error: 12.6088 - root_mean_squared_error: 17.6953 - mean_absolute_percentage_error: 19.0408\n",
      "Epoch 91/100\n",
      "1539/1539 [==============================] - 21s 13ms/step - loss: 311.4182 - mean_absolute_error: 12.5715 - root_mean_squared_error: 17.6471 - mean_absolute_percentage_error: 18.9898\n",
      "Epoch 92/100\n",
      "1539/1539 [==============================] - 21s 13ms/step - loss: 310.5631 - mean_absolute_error: 12.5547 - root_mean_squared_error: 17.6228 - mean_absolute_percentage_error: 18.9950\n",
      "Epoch 93/100\n",
      "1539/1539 [==============================] - 20s 13ms/step - loss: 308.2147 - mean_absolute_error: 12.5195 - root_mean_squared_error: 17.5560 - mean_absolute_percentage_error: 18.9606\n",
      "Epoch 94/100\n",
      "1539/1539 [==============================] - 20s 13ms/step - loss: 307.4882 - mean_absolute_error: 12.4979 - root_mean_squared_error: 17.5353 - mean_absolute_percentage_error: 18.9498\n",
      "Epoch 95/100\n",
      "1539/1539 [==============================] - 20s 13ms/step - loss: 305.7548 - mean_absolute_error: 12.4656 - root_mean_squared_error: 17.4859 - mean_absolute_percentage_error: 18.8848\n",
      "Epoch 96/100\n",
      "1539/1539 [==============================] - 20s 13ms/step - loss: 304.7365 - mean_absolute_error: 12.4404 - root_mean_squared_error: 17.4567 - mean_absolute_percentage_error: 18.8322\n",
      "Epoch 97/100\n",
      "1539/1539 [==============================] - 21s 13ms/step - loss: 303.2960 - mean_absolute_error: 12.4184 - root_mean_squared_error: 17.4154 - mean_absolute_percentage_error: 18.8570\n",
      "Epoch 98/100\n",
      "1539/1539 [==============================] - 20s 13ms/step - loss: 301.2346 - mean_absolute_error: 12.3805 - root_mean_squared_error: 17.3561 - mean_absolute_percentage_error: 18.7811\n",
      "Epoch 99/100\n",
      "1539/1539 [==============================] - 21s 14ms/step - loss: 299.4868 - mean_absolute_error: 12.3483 - root_mean_squared_error: 17.3057 - mean_absolute_percentage_error: 18.7784\n",
      "Epoch 100/100\n",
      "1539/1539 [==============================] - 21s 13ms/step - loss: 299.1586 - mean_absolute_error: 12.3499 - root_mean_squared_error: 17.2962 - mean_absolute_percentage_error: 18.8071\n"
     ]
    },
    {
     "data": {
      "text/plain": [
       "<keras.callbacks.History at 0x1c8901aa610>"
      ]
     },
     "execution_count": 70,
     "metadata": {},
     "output_type": "execute_result"
    }
   ],
   "source": [
    "model30.fit((Wt30,Xt30), yt30, \n",
    "            epochs = 100, \n",
    "            verbose = 1)"
   ]
  },
  {
   "cell_type": "code",
   "execution_count": 71,
   "metadata": {},
   "outputs": [
    {
     "name": "stderr",
     "output_type": "stream",
     "text": [
      "WARNING:absl:Function `_wrapped_model` contains input name(s) WideInput, DeepInput with unsupported characters which will be renamed to wideinput, deepinput in the SavedModel.\n",
      "WARNING:absl:Found untraced functions such as lstm_cell_7_layer_call_fn, lstm_cell_7_layer_call_and_return_conditional_losses, lstm_cell_5_layer_call_fn, lstm_cell_5_layer_call_and_return_conditional_losses, lstm_cell_6_layer_call_fn while saving (showing 5 of 15). These functions will not be directly callable after loading.\n"
     ]
    },
    {
     "name": "stdout",
     "output_type": "stream",
     "text": [
      "INFO:tensorflow:Assets written to: my_dir/8a-30\\assets\n"
     ]
    },
    {
     "name": "stderr",
     "output_type": "stream",
     "text": [
      "INFO:tensorflow:Assets written to: my_dir/8a-30\\assets\n",
      "WARNING:absl:<keras.layers.recurrent.LSTMCell object at 0x000001C8B12621F0> has the same name 'LSTMCell' as a built-in Keras object. Consider renaming <class 'keras.layers.recurrent.LSTMCell'> to avoid naming conflicts when loading with `tf.keras.models.load_model`. If renaming is not possible, pass the object in the `custom_objects` parameter of the load function.\n",
      "WARNING:absl:<keras.layers.recurrent.LSTMCell object at 0x000001C890887100> has the same name 'LSTMCell' as a built-in Keras object. Consider renaming <class 'keras.layers.recurrent.LSTMCell'> to avoid naming conflicts when loading with `tf.keras.models.load_model`. If renaming is not possible, pass the object in the `custom_objects` parameter of the load function.\n",
      "WARNING:absl:<keras.layers.recurrent.LSTMCell object at 0x000001C8908871F0> has the same name 'LSTMCell' as a built-in Keras object. Consider renaming <class 'keras.layers.recurrent.LSTMCell'> to avoid naming conflicts when loading with `tf.keras.models.load_model`. If renaming is not possible, pass the object in the `custom_objects` parameter of the load function.\n"
     ]
    }
   ],
   "source": [
    "model30.save(\"my_dir/8a-30\")"
   ]
  },
  {
   "cell_type": "code",
   "execution_count": 72,
   "metadata": {},
   "outputs": [],
   "source": [
    "metrics30 = pd.DataFrame(model30.history.history)"
   ]
  },
  {
   "cell_type": "code",
   "execution_count": 73,
   "metadata": {},
   "outputs": [
    {
     "data": {
      "text/plain": [
       "<AxesSubplot:>"
      ]
     },
     "execution_count": 73,
     "metadata": {},
     "output_type": "execute_result"
    },
    {
     "data": {
      "image/png": "[encoded data removed]",
      "text/plain": [
       "<Figure size 432x288 with 1 Axes>"
      ]
     },
     "metadata": {
      "needs_background": "light"
     },
     "output_type": "display_data"
    }
   ],
   "source": [
    "metrics30[['loss']].plot()"
   ]
  },
  {
   "cell_type": "code",
   "execution_count": 33,
   "metadata": {},
   "outputs": [],
   "source": [
    "model30 = keras.models.load_model(\"my_dir/8a-30\", custom_objects=SeqSelfAttention.get_custom_objects())"
   ]
  },
  {
   "cell_type": "code",
   "execution_count": 75,
   "metadata": {},
   "outputs": [
    {
     "data": {
      "text/plain": [
       "array([[ 27.06395  ,  14.05634  ,  18.446356 ,  61.508217 ,  28.057526 ,\n",
       "          3.6623185],\n",
       "       [ 26.756947 ,  13.901024 ,  14.450296 ,  58.63642  ,  24.644358 ,\n",
       "          3.6292746],\n",
       "       [ 28.447771 ,  15.785947 ,  18.189331 ,  62.540676 ,  29.646067 ,\n",
       "          4.255053 ],\n",
       "       ...,\n",
       "       [ 47.318848 ,  45.66744  ,  55.05055  , 115.60721  ,  52.306072 ,\n",
       "          8.89345  ],\n",
       "       [ 51.467884 ,  51.569756 ,  64.25345  , 120.9952   ,  57.65207  ,\n",
       "         18.639763 ],\n",
       "       [ 49.009403 ,  48.476723 ,  57.22013  , 111.82519  ,  54.49003  ,\n",
       "         14.696289 ]], dtype=float32)"
      ]
     },
     "execution_count": 75,
     "metadata": {},
     "output_type": "execute_result"
    }
   ],
   "source": [
    "model30.predict((Wv30,Xv30))"
   ]
  },
  {
   "cell_type": "markdown",
   "metadata": {},
   "source": [
    "### Evaluation on inverse_transform"
   ]
  },
  {
   "cell_type": "code",
   "execution_count": null,
   "metadata": {},
   "outputs": [],
   "source": [
    "test_predictions30 = model30.predict((Wv30,Xv30))\n",
    "\n",
    "\n",
    "MSE30 = mean_squared_error(yv30,test_predictions30)\n",
    "\n",
    "MAE30 = mean_absolute_error(yv30,test_predictions30)\n",
    "\n",
    "RMSE30 = np.sqrt(MSE30)\n",
    "\n",
    "MAPE30 = mean_absolute_percentage_error(yv30,test_predictions30)*100\n",
    "\n",
    "eval30 = [MSE30, MAE30, RMSE30, MAPE30]\n",
    "print(eval30)"
   ]
  },
  {
   "cell_type": "code",
   "execution_count": null,
   "metadata": {},
   "outputs": [],
   "source": [
    "GEH, count = ga.GEH(np.asarray(yv30), np.asarray(test_predictions30))\n",
    "GEH30 = count/GEH.size\n",
    "print(GEH30)"
   ]
  },
  {
   "cell_type": "markdown",
   "metadata": {},
   "source": [
    "# 60 mins ahead"
   ]
  },
  {
   "cell_type": "code",
   "execution_count": 78,
   "metadata": {},
   "outputs": [],
   "source": [
    "def build_model_60(hp):\n",
    "    # Inputs\n",
    "    channel_Wide = keras.layers.Input(shape=Wt60.shape[1:], name=\"WideInput\")\n",
    "    channel_Deep = keras.layers.Input(shape=Xt60.shape[1:], name=\"DeepInput\")\n",
    "    units = hp.Int(\"units\", min_value=1, max_value=100, step=1)\n",
    "    \n",
    "    \n",
    "    # Wide Model\n",
    "    flatten_60w = keras.layers.TimeDistributed(keras.layers.Flatten())(channel_Wide)\n",
    "    Bi_60 = keras.layers.Bidirectional(\n",
    "        keras.layers.LSTM(units=units, return_sequences=True),\n",
    "        merge_mode=\"ave\"\n",
    "    )(flatten_60w)\n",
    "    \n",
    "    \n",
    "    # Deep Model\n",
    "    # CNN \n",
    "    CNN_60 = keras.layers.TimeDistributed(\n",
    "        keras.layers.Conv2D(filters=hp.Int(\"filters\", min_value=32, max_value=512, step=32),\n",
    "                            kernel_size=hp.Choice(\"kernel_size\", [2, 3]), activation='relu'))(channel_Deep)\n",
    "    flatten_60 = keras.layers.TimeDistributed(keras.layers.Flatten())(CNN_60)\n",
    "    # LSTM          \n",
    "    LSTM_60 = keras.layers.LSTM(units=units, return_sequences=True)(flatten_60)\n",
    "\n",
    "    \n",
    "    # Concatenation \n",
    "    concat = keras.layers.concatenate([Bi_60, LSTM_60], axis=1)\n",
    "\n",
    "    # Attention\n",
    "    Att_60 = SeqSelfAttention(attention_activation='sigmoid')(concat)\n",
    "    merge = keras.layers.Flatten()(Att_60)\n",
    "\n",
    "    \n",
    "    # Output\n",
    "    output = keras.layers.Dense(n_features, name= \"output\")(merge)\n",
    "    \n",
    "    # Model\n",
    "    model_60 = keras.Model(inputs=[channel_Wide,channel_Deep], outputs=[output])\n",
    "\n",
    "    # Compile\n",
    "    model_60.compile(optimizer=keras.optimizers.Adam(hp.Choice(\"learning_rate\", [1e-2, 1e-3, 1e-4])), \n",
    "        loss=\"mse\", metrics=['MeanAbsoluteError','RootMeanSquaredError','MeanAbsolutePercentageError'])\n",
    "                    \n",
    "    return model_60"
   ]
  },
  {
   "cell_type": "code",
   "execution_count": 79,
   "metadata": {},
   "outputs": [],
   "source": [
    "tuner60 = RandomSearch(\n",
    "    build_model_60,\n",
    "    objective=\"val_loss\",\n",
    "    max_trials=60,\n",
    "    executions_per_trial=2,\n",
    "    overwrite=True,\n",
    "    directory=os.path.normpath('C:/RunsOak'),\n",
    "    project_name=\"8a-60\",\n",
    ")"
   ]
  },
  {
   "cell_type": "code",
   "execution_count": 80,
   "metadata": {},
   "outputs": [
    {
     "name": "stdout",
     "output_type": "stream",
     "text": [
      "Search space summary\n",
      "Default search space size: 4\n",
      "units (Int)\n",
      "{'default': None, 'conditions': [], 'min_value': 1, 'max_value': 100, 'step': 1, 'sampling': None}\n",
      "filters (Int)\n",
      "{'default': None, 'conditions': [], 'min_value': 32, 'max_value': 512, 'step': 32, 'sampling': None}\n",
      "kernel_size (Choice)\n",
      "{'default': 2, 'conditions': [], 'values': [2, 3], 'ordered': True}\n",
      "learning_rate (Choice)\n",
      "{'default': 0.01, 'conditions': [], 'values': [0.01, 0.001, 0.0001], 'ordered': True}\n"
     ]
    }
   ],
   "source": [
    "tuner60.search_space_summary()"
   ]
  },
  {
   "cell_type": "code",
   "execution_count": 81,
   "metadata": {},
   "outputs": [
    {
     "name": "stdout",
     "output_type": "stream",
     "text": [
      "Trial 60 Complete [00h 34m 44s]\n",
      "val_loss: 556.5910339355469\n",
      "\n",
      "Best val_loss So Far: 547.30224609375\n",
      "Total elapsed time: 21h 30m 35s\n",
      "INFO:tensorflow:Oracle triggered exit\n"
     ]
    },
    {
     "name": "stderr",
     "output_type": "stream",
     "text": [
      "INFO:tensorflow:Oracle triggered exit\n"
     ]
    }
   ],
   "source": [
    "tuner60.search((Wt60,Xt60), yt60, epochs=200,\n",
    "            validation_split = val_percent,\n",
    "            callbacks=[early_stop],\n",
    "            verbose=2)"
   ]
  },
  {
   "cell_type": "code",
   "execution_count": 82,
   "metadata": {},
   "outputs": [
    {
     "name": "stdout",
     "output_type": "stream",
     "text": [
      "Results summary\n",
      "Results in C:\\RunsOak\\8a-60\n",
      "Showing 1 best trials\n",
      "Objective(name='val_loss', direction='min')\n",
      "Trial summary\n",
      "Hyperparameters:\n",
      "units: 89\n",
      "filters: 160\n",
      "kernel_size: 2\n",
      "learning_rate: 0.001\n",
      "Score: 547.30224609375\n"
     ]
    }
   ],
   "source": [
    "tuner60.results_summary(1)"
   ]
  },
  {
   "cell_type": "markdown",
   "metadata": {},
   "source": [
    "### Best model"
   ]
  },
  {
   "cell_type": "code",
   "execution_count": 83,
   "metadata": {},
   "outputs": [],
   "source": [
    "best_hp60 = tuner60.get_best_hyperparameters()[0]\n",
    "model60 = tuner60.hypermodel.build(best_hp60)"
   ]
  },
  {
   "cell_type": "code",
   "execution_count": 84,
   "metadata": {},
   "outputs": [
    {
     "data": {
      "text/plain": [
       "['Best_HP/8a-60']"
      ]
     },
     "execution_count": 84,
     "metadata": {},
     "output_type": "execute_result"
    }
   ],
   "source": [
    "scaler_filename = \"Best_HP/8a-60\"\n",
    "joblib.dump(best_hp60, scaler_filename) "
   ]
  },
  {
   "cell_type": "code",
   "execution_count": 85,
   "metadata": {},
   "outputs": [
    {
     "name": "stdout",
     "output_type": "stream",
     "text": [
      "Model: \"model_1\"\n",
      "__________________________________________________________________________________________________\n",
      " Layer (type)                   Output Shape         Param #     Connected to                     \n",
      "==================================================================================================\n",
      " DeepInput (InputLayer)         [(None, 3, 5, 6, 1)  0           []                               \n",
      "                                ]                                                                 \n",
      "                                                                                                  \n",
      " WideInput (InputLayer)         [(None, 3, 3, 6)]    0           []                               \n",
      "                                                                                                  \n",
      " time_distributed_4 (TimeDistri  (None, 3, 4, 5, 160  800        ['DeepInput[0][0]']              \n",
      " buted)                         )                                                                 \n",
      "                                                                                                  \n",
      " time_distributed_3 (TimeDistri  (None, 3, 18)       0           ['WideInput[0][0]']              \n",
      " buted)                                                                                           \n",
      "                                                                                                  \n",
      " time_distributed_5 (TimeDistri  (None, 3, 3200)     0           ['time_distributed_4[0][0]']     \n",
      " buted)                                                                                           \n",
      "                                                                                                  \n",
      " bidirectional_1 (Bidirectional  (None, 3, 89)       76896       ['time_distributed_3[0][0]']     \n",
      " )                                                                                                \n",
      "                                                                                                  \n",
      " lstm_3 (LSTM)                  (None, 3, 89)        1171240     ['time_distributed_5[0][0]']     \n",
      "                                                                                                  \n",
      " concatenate_1 (Concatenate)    (None, 6, 89)        0           ['bidirectional_1[0][0]',        \n",
      "                                                                  'lstm_3[0][0]']                 \n",
      "                                                                                                  \n",
      " seq_self_attention_1 (SeqSelfA  (None, 6, 89)       5761        ['concatenate_1[0][0]']          \n",
      " ttention)                                                                                        \n",
      "                                                                                                  \n",
      " flatten_5 (Flatten)            (None, 534)          0           ['seq_self_attention_1[0][0]']   \n",
      "                                                                                                  \n",
      " output (Dense)                 (None, 6)            3210        ['flatten_5[0][0]']              \n",
      "                                                                                                  \n",
      "==================================================================================================\n",
      "Total params: 1,257,907\n",
      "Trainable params: 1,257,907\n",
      "Non-trainable params: 0\n",
      "__________________________________________________________________________________________________\n"
     ]
    }
   ],
   "source": [
    "model60.summary()"
   ]
  },
  {
   "cell_type": "code",
   "execution_count": 86,
   "metadata": {},
   "outputs": [
    {
     "name": "stdout",
     "output_type": "stream",
     "text": [
      "Epoch 1/100\n",
      "1539/1539 [==============================] - 25s 13ms/step - loss: 5242.4185 - mean_absolute_error: 45.8483 - root_mean_squared_error: 72.4045 - mean_absolute_percentage_error: 61.8943\n",
      "Epoch 2/100\n",
      "1539/1539 [==============================] - 20s 13ms/step - loss: 1013.3586 - mean_absolute_error: 22.7812 - root_mean_squared_error: 31.8333 - mean_absolute_percentage_error: 36.6575\n",
      "Epoch 3/100\n",
      "1539/1539 [==============================] - 20s 13ms/step - loss: 743.6140 - mean_absolute_error: 19.1346 - root_mean_squared_error: 27.2693 - mean_absolute_percentage_error: 31.2922\n",
      "Epoch 4/100\n",
      "1539/1539 [==============================] - 19s 13ms/step - loss: 669.7357 - mean_absolute_error: 18.0997 - root_mean_squared_error: 25.8793 - mean_absolute_percentage_error: 28.4115\n",
      "Epoch 5/100\n",
      "1539/1539 [==============================] - 19s 12ms/step - loss: 626.6930 - mean_absolute_error: 17.5118 - root_mean_squared_error: 25.0338 - mean_absolute_percentage_error: 26.4159\n",
      "Epoch 6/100\n",
      "1539/1539 [==============================] - 19s 12ms/step - loss: 600.6309 - mean_absolute_error: 17.1286 - root_mean_squared_error: 24.5078 - mean_absolute_percentage_error: 25.3213\n",
      "Epoch 7/100\n",
      "1539/1539 [==============================] - 19s 13ms/step - loss: 586.0436 - mean_absolute_error: 16.8882 - root_mean_squared_error: 24.2083 - mean_absolute_percentage_error: 24.5691\n",
      "Epoch 8/100\n",
      "1539/1539 [==============================] - 20s 13ms/step - loss: 575.5606 - mean_absolute_error: 16.7172 - root_mean_squared_error: 23.9909 - mean_absolute_percentage_error: 24.2095\n",
      "Epoch 9/100\n",
      "1539/1539 [==============================] - 20s 13ms/step - loss: 565.0193 - mean_absolute_error: 16.5484 - root_mean_squared_error: 23.7701 - mean_absolute_percentage_error: 23.8868\n",
      "Epoch 10/100\n",
      "1539/1539 [==============================] - 20s 13ms/step - loss: 558.5055 - mean_absolute_error: 16.4519 - root_mean_squared_error: 23.6327 - mean_absolute_percentage_error: 23.8057\n",
      "Epoch 11/100\n",
      "1539/1539 [==============================] - 20s 13ms/step - loss: 552.4701 - mean_absolute_error: 16.3398 - root_mean_squared_error: 23.5047 - mean_absolute_percentage_error: 23.4574\n",
      "Epoch 12/100\n",
      "1539/1539 [==============================] - 19s 13ms/step - loss: 545.4677 - mean_absolute_error: 16.2296 - root_mean_squared_error: 23.3552 - mean_absolute_percentage_error: 23.3275\n",
      "Epoch 13/100\n",
      "1539/1539 [==============================] - 20s 13ms/step - loss: 539.9714 - mean_absolute_error: 16.1419 - root_mean_squared_error: 23.2373 - mean_absolute_percentage_error: 23.1359\n",
      "Epoch 14/100\n",
      "1539/1539 [==============================] - 20s 13ms/step - loss: 535.8085 - mean_absolute_error: 16.0783 - root_mean_squared_error: 23.1475 - mean_absolute_percentage_error: 23.0591\n",
      "Epoch 15/100\n",
      "1539/1539 [==============================] - 20s 13ms/step - loss: 531.6277 - mean_absolute_error: 16.0275 - root_mean_squared_error: 23.0571 - mean_absolute_percentage_error: 22.9818\n",
      "Epoch 16/100\n",
      "1539/1539 [==============================] - 19s 12ms/step - loss: 526.0396 - mean_absolute_error: 15.9466 - root_mean_squared_error: 22.9355 - mean_absolute_percentage_error: 22.8175\n",
      "Epoch 17/100\n",
      "1539/1539 [==============================] - 19s 12ms/step - loss: 523.8577 - mean_absolute_error: 15.8881 - root_mean_squared_error: 22.8879 - mean_absolute_percentage_error: 22.6869\n",
      "Epoch 18/100\n",
      "1539/1539 [==============================] - 19s 12ms/step - loss: 518.9931 - mean_absolute_error: 15.8234 - root_mean_squared_error: 22.7814 - mean_absolute_percentage_error: 22.5854\n",
      "Epoch 19/100\n",
      "1539/1539 [==============================] - 20s 13ms/step - loss: 515.5316 - mean_absolute_error: 15.7764 - root_mean_squared_error: 22.7053 - mean_absolute_percentage_error: 22.4625\n",
      "Epoch 20/100\n",
      "1539/1539 [==============================] - 20s 13ms/step - loss: 511.6357 - mean_absolute_error: 15.7218 - root_mean_squared_error: 22.6194 - mean_absolute_percentage_error: 22.4924\n",
      "Epoch 21/100\n",
      "1539/1539 [==============================] - 21s 13ms/step - loss: 508.5361 - mean_absolute_error: 15.6623 - root_mean_squared_error: 22.5507 - mean_absolute_percentage_error: 22.3094\n",
      "Epoch 22/100\n",
      "1539/1539 [==============================] - 20s 13ms/step - loss: 504.5750 - mean_absolute_error: 15.6065 - root_mean_squared_error: 22.4628 - mean_absolute_percentage_error: 22.2240\n",
      "Epoch 23/100\n",
      "1539/1539 [==============================] - 20s 13ms/step - loss: 502.0457 - mean_absolute_error: 15.5638 - root_mean_squared_error: 22.4064 - mean_absolute_percentage_error: 22.0839\n",
      "Epoch 24/100\n",
      "1539/1539 [==============================] - 21s 13ms/step - loss: 499.4914 - mean_absolute_error: 15.5226 - root_mean_squared_error: 22.3493 - mean_absolute_percentage_error: 22.0628\n",
      "Epoch 25/100\n",
      "1539/1539 [==============================] - 19s 12ms/step - loss: 495.4904 - mean_absolute_error: 15.4735 - root_mean_squared_error: 22.2596 - mean_absolute_percentage_error: 21.9998\n",
      "Epoch 26/100\n",
      "1539/1539 [==============================] - 19s 12ms/step - loss: 491.7269 - mean_absolute_error: 15.4138 - root_mean_squared_error: 22.1749 - mean_absolute_percentage_error: 21.9193\n",
      "Epoch 27/100\n",
      "1539/1539 [==============================] - 20s 13ms/step - loss: 488.1165 - mean_absolute_error: 15.3701 - root_mean_squared_error: 22.0934 - mean_absolute_percentage_error: 21.8559\n",
      "Epoch 28/100\n",
      "1539/1539 [==============================] - 20s 13ms/step - loss: 484.7529 - mean_absolute_error: 15.3173 - root_mean_squared_error: 22.0171 - mean_absolute_percentage_error: 21.8051\n",
      "Epoch 29/100\n",
      "1539/1539 [==============================] - 20s 13ms/step - loss: 482.1455 - mean_absolute_error: 15.2682 - root_mean_squared_error: 21.9578 - mean_absolute_percentage_error: 21.7278\n",
      "Epoch 30/100\n",
      "1539/1539 [==============================] - 19s 12ms/step - loss: 478.9447 - mean_absolute_error: 15.2185 - root_mean_squared_error: 21.8848 - mean_absolute_percentage_error: 21.6292\n",
      "Epoch 31/100\n",
      "1539/1539 [==============================] - 20s 13ms/step - loss: 475.7348 - mean_absolute_error: 15.1736 - root_mean_squared_error: 21.8113 - mean_absolute_percentage_error: 21.4982\n",
      "Epoch 32/100\n",
      "1539/1539 [==============================] - 20s 13ms/step - loss: 472.0099 - mean_absolute_error: 15.1216 - root_mean_squared_error: 21.7258 - mean_absolute_percentage_error: 21.4817\n",
      "Epoch 33/100\n",
      "1539/1539 [==============================] - 20s 13ms/step - loss: 469.5531 - mean_absolute_error: 15.0929 - root_mean_squared_error: 21.6692 - mean_absolute_percentage_error: 21.5039\n",
      "Epoch 34/100\n",
      "1539/1539 [==============================] - 20s 13ms/step - loss: 468.6912 - mean_absolute_error: 15.0869 - root_mean_squared_error: 21.6493 - mean_absolute_percentage_error: 21.4731\n",
      "Epoch 35/100\n",
      "1539/1539 [==============================] - 21s 13ms/step - loss: 463.9444 - mean_absolute_error: 15.0073 - root_mean_squared_error: 21.5394 - mean_absolute_percentage_error: 21.2970\n",
      "Epoch 36/100\n",
      "1539/1539 [==============================] - 20s 13ms/step - loss: 460.6215 - mean_absolute_error: 14.9542 - root_mean_squared_error: 21.4621 - mean_absolute_percentage_error: 21.2086\n",
      "Epoch 37/100\n",
      "1539/1539 [==============================] - 21s 13ms/step - loss: 457.8000 - mean_absolute_error: 14.9181 - root_mean_squared_error: 21.3963 - mean_absolute_percentage_error: 21.2703\n",
      "Epoch 38/100\n",
      "1539/1539 [==============================] - 20s 13ms/step - loss: 455.5789 - mean_absolute_error: 14.8919 - root_mean_squared_error: 21.3443 - mean_absolute_percentage_error: 21.1576\n",
      "Epoch 39/100\n",
      "1539/1539 [==============================] - 20s 13ms/step - loss: 451.8333 - mean_absolute_error: 14.8323 - root_mean_squared_error: 21.2564 - mean_absolute_percentage_error: 21.0656\n",
      "Epoch 40/100\n",
      "1539/1539 [==============================] - 20s 13ms/step - loss: 449.0009 - mean_absolute_error: 14.7878 - root_mean_squared_error: 21.1896 - mean_absolute_percentage_error: 21.0681\n",
      "Epoch 41/100\n",
      "1539/1539 [==============================] - 20s 13ms/step - loss: 446.3199 - mean_absolute_error: 14.7510 - root_mean_squared_error: 21.1263 - mean_absolute_percentage_error: 20.9958\n",
      "Epoch 42/100\n",
      "1539/1539 [==============================] - 19s 13ms/step - loss: 443.2445 - mean_absolute_error: 14.6999 - root_mean_squared_error: 21.0533 - mean_absolute_percentage_error: 20.9361\n",
      "Epoch 43/100\n",
      "1539/1539 [==============================] - 20s 13ms/step - loss: 438.2168 - mean_absolute_error: 14.6266 - root_mean_squared_error: 20.9336 - mean_absolute_percentage_error: 20.8102\n",
      "Epoch 44/100\n",
      "1539/1539 [==============================] - 20s 13ms/step - loss: 436.4180 - mean_absolute_error: 14.6068 - root_mean_squared_error: 20.8906 - mean_absolute_percentage_error: 20.8710\n",
      "Epoch 45/100\n",
      "1539/1539 [==============================] - 20s 13ms/step - loss: 434.0086 - mean_absolute_error: 14.5615 - root_mean_squared_error: 20.8329 - mean_absolute_percentage_error: 20.7432\n",
      "Epoch 46/100\n",
      "1539/1539 [==============================] - 21s 14ms/step - loss: 430.3142 - mean_absolute_error: 14.5170 - root_mean_squared_error: 20.7440 - mean_absolute_percentage_error: 20.6978\n",
      "Epoch 47/100\n",
      "1539/1539 [==============================] - 20s 13ms/step - loss: 428.0481 - mean_absolute_error: 14.4820 - root_mean_squared_error: 20.6893 - mean_absolute_percentage_error: 20.7015\n",
      "Epoch 48/100\n",
      "1539/1539 [==============================] - 19s 13ms/step - loss: 423.3501 - mean_absolute_error: 14.4147 - root_mean_squared_error: 20.5755 - mean_absolute_percentage_error: 20.5794\n",
      "Epoch 49/100\n",
      "1539/1539 [==============================] - 19s 13ms/step - loss: 422.3766 - mean_absolute_error: 14.4073 - root_mean_squared_error: 20.5518 - mean_absolute_percentage_error: 20.6051\n",
      "Epoch 50/100\n",
      "1539/1539 [==============================] - 20s 13ms/step - loss: 418.0381 - mean_absolute_error: 14.3240 - root_mean_squared_error: 20.4460 - mean_absolute_percentage_error: 20.5206\n",
      "Epoch 51/100\n",
      "1539/1539 [==============================] - 20s 13ms/step - loss: 415.6451 - mean_absolute_error: 14.2871 - root_mean_squared_error: 20.3874 - mean_absolute_percentage_error: 20.4327\n",
      "Epoch 52/100\n",
      "1539/1539 [==============================] - 20s 13ms/step - loss: 412.7780 - mean_absolute_error: 14.2436 - root_mean_squared_error: 20.3169 - mean_absolute_percentage_error: 20.4596\n",
      "Epoch 53/100\n",
      "1539/1539 [==============================] - 20s 13ms/step - loss: 408.5532 - mean_absolute_error: 14.1979 - root_mean_squared_error: 20.2127 - mean_absolute_percentage_error: 20.3438\n",
      "Epoch 54/100\n",
      "1539/1539 [==============================] - 21s 14ms/step - loss: 406.9667 - mean_absolute_error: 14.1618 - root_mean_squared_error: 20.1734 - mean_absolute_percentage_error: 20.3095\n",
      "Epoch 55/100\n",
      "1539/1539 [==============================] - 20s 13ms/step - loss: 404.9558 - mean_absolute_error: 14.1306 - root_mean_squared_error: 20.1235 - mean_absolute_percentage_error: 20.2857\n",
      "Epoch 56/100\n",
      "1539/1539 [==============================] - 21s 14ms/step - loss: 401.0860 - mean_absolute_error: 14.0608 - root_mean_squared_error: 20.0271 - mean_absolute_percentage_error: 20.2069\n",
      "Epoch 57/100\n",
      "1539/1539 [==============================] - 20s 13ms/step - loss: 398.2559 - mean_absolute_error: 14.0155 - root_mean_squared_error: 19.9563 - mean_absolute_percentage_error: 20.1177\n",
      "Epoch 58/100\n",
      "1539/1539 [==============================] - 20s 13ms/step - loss: 394.5849 - mean_absolute_error: 13.9579 - root_mean_squared_error: 19.8642 - mean_absolute_percentage_error: 20.1473\n",
      "Epoch 59/100\n",
      "1539/1539 [==============================] - 21s 13ms/step - loss: 392.7725 - mean_absolute_error: 13.9456 - root_mean_squared_error: 19.8185 - mean_absolute_percentage_error: 20.1397\n",
      "Epoch 60/100\n",
      "1539/1539 [==============================] - 20s 13ms/step - loss: 389.6310 - mean_absolute_error: 13.8916 - root_mean_squared_error: 19.7391 - mean_absolute_percentage_error: 20.0022\n",
      "Epoch 61/100\n",
      "1539/1539 [==============================] - 21s 13ms/step - loss: 386.3591 - mean_absolute_error: 13.8385 - root_mean_squared_error: 19.6560 - mean_absolute_percentage_error: 19.9588\n",
      "Epoch 62/100\n",
      "1539/1539 [==============================] - 21s 13ms/step - loss: 384.6061 - mean_absolute_error: 13.8118 - root_mean_squared_error: 19.6114 - mean_absolute_percentage_error: 19.9342\n",
      "Epoch 63/100\n",
      "1539/1539 [==============================] - 21s 13ms/step - loss: 382.2614 - mean_absolute_error: 13.7690 - root_mean_squared_error: 19.5515 - mean_absolute_percentage_error: 19.8659\n",
      "Epoch 64/100\n",
      "1539/1539 [==============================] - 20s 13ms/step - loss: 378.9442 - mean_absolute_error: 13.7122 - root_mean_squared_error: 19.4665 - mean_absolute_percentage_error: 19.7826\n",
      "Epoch 65/100\n",
      "1539/1539 [==============================] - 20s 13ms/step - loss: 377.0516 - mean_absolute_error: 13.6816 - root_mean_squared_error: 19.4178 - mean_absolute_percentage_error: 19.7840\n",
      "Epoch 66/100\n",
      "1539/1539 [==============================] - 20s 13ms/step - loss: 374.6060 - mean_absolute_error: 13.6489 - root_mean_squared_error: 19.3547 - mean_absolute_percentage_error: 19.7457\n",
      "Epoch 67/100\n",
      "1539/1539 [==============================] - 22s 14ms/step - loss: 371.6316 - mean_absolute_error: 13.6101 - root_mean_squared_error: 19.2778 - mean_absolute_percentage_error: 19.6934\n",
      "Epoch 68/100\n",
      "1539/1539 [==============================] - 21s 14ms/step - loss: 369.8970 - mean_absolute_error: 13.5724 - root_mean_squared_error: 19.2327 - mean_absolute_percentage_error: 19.7112\n",
      "Epoch 69/100\n",
      "1539/1539 [==============================] - 21s 14ms/step - loss: 366.2943 - mean_absolute_error: 13.5021 - root_mean_squared_error: 19.1388 - mean_absolute_percentage_error: 19.5807\n",
      "Epoch 70/100\n",
      "1539/1539 [==============================] - 21s 13ms/step - loss: 363.6812 - mean_absolute_error: 13.4734 - root_mean_squared_error: 19.0704 - mean_absolute_percentage_error: 19.5706\n",
      "Epoch 71/100\n",
      "1539/1539 [==============================] - 21s 13ms/step - loss: 362.4816 - mean_absolute_error: 13.4489 - root_mean_squared_error: 19.0390 - mean_absolute_percentage_error: 19.5038\n",
      "Epoch 72/100\n",
      "1539/1539 [==============================] - 20s 13ms/step - loss: 358.5877 - mean_absolute_error: 13.3879 - root_mean_squared_error: 18.9364 - mean_absolute_percentage_error: 19.4497\n",
      "Epoch 73/100\n",
      "1539/1539 [==============================] - 20s 13ms/step - loss: 356.1394 - mean_absolute_error: 13.3411 - root_mean_squared_error: 18.8717 - mean_absolute_percentage_error: 19.4150\n",
      "Epoch 74/100\n",
      "1539/1539 [==============================] - 20s 13ms/step - loss: 354.2850 - mean_absolute_error: 13.3123 - root_mean_squared_error: 18.8225 - mean_absolute_percentage_error: 19.3700\n",
      "Epoch 75/100\n",
      "1539/1539 [==============================] - 20s 13ms/step - loss: 351.9113 - mean_absolute_error: 13.2650 - root_mean_squared_error: 18.7593 - mean_absolute_percentage_error: 19.3196\n",
      "Epoch 76/100\n",
      "1539/1539 [==============================] - 19s 13ms/step - loss: 350.3358 - mean_absolute_error: 13.2427 - root_mean_squared_error: 18.7173 - mean_absolute_percentage_error: 19.3175\n",
      "Epoch 77/100\n",
      "1539/1539 [==============================] - 20s 13ms/step - loss: 348.5464 - mean_absolute_error: 13.2175 - root_mean_squared_error: 18.6694 - mean_absolute_percentage_error: 19.3113\n",
      "Epoch 78/100\n",
      "1539/1539 [==============================] - 20s 13ms/step - loss: 345.1555 - mean_absolute_error: 13.1643 - root_mean_squared_error: 18.5784 - mean_absolute_percentage_error: 19.2111\n",
      "Epoch 79/100\n",
      "1539/1539 [==============================] - 21s 13ms/step - loss: 343.9803 - mean_absolute_error: 13.1344 - root_mean_squared_error: 18.5467 - mean_absolute_percentage_error: 19.2163\n",
      "Epoch 80/100\n",
      "1539/1539 [==============================] - 20s 13ms/step - loss: 341.6373 - mean_absolute_error: 13.0981 - root_mean_squared_error: 18.4834 - mean_absolute_percentage_error: 19.1575\n",
      "Epoch 81/100\n",
      "1539/1539 [==============================] - 20s 13ms/step - loss: 338.9565 - mean_absolute_error: 13.0505 - root_mean_squared_error: 18.4108 - mean_absolute_percentage_error: 19.1255\n",
      "Epoch 82/100\n",
      "1539/1539 [==============================] - 21s 13ms/step - loss: 335.8441 - mean_absolute_error: 12.9916 - root_mean_squared_error: 18.3260 - mean_absolute_percentage_error: 19.0813\n",
      "Epoch 83/100\n"
     ]
    },
    {
     "name": "stdout",
     "output_type": "stream",
     "text": [
      "1539/1539 [==============================] - 21s 13ms/step - loss: 334.4809 - mean_absolute_error: 12.9788 - root_mean_squared_error: 18.2888 - mean_absolute_percentage_error: 19.0734\n",
      "Epoch 84/100\n",
      "1539/1539 [==============================] - 20s 13ms/step - loss: 333.4614 - mean_absolute_error: 12.9559 - root_mean_squared_error: 18.2609 - mean_absolute_percentage_error: 19.0691\n",
      "Epoch 85/100\n",
      "1539/1539 [==============================] - 20s 13ms/step - loss: 331.6508 - mean_absolute_error: 12.9198 - root_mean_squared_error: 18.2113 - mean_absolute_percentage_error: 18.9990\n",
      "Epoch 86/100\n",
      "1539/1539 [==============================] - 20s 13ms/step - loss: 327.9016 - mean_absolute_error: 12.8555 - root_mean_squared_error: 18.1080 - mean_absolute_percentage_error: 18.9048\n",
      "Epoch 87/100\n",
      "1539/1539 [==============================] - 20s 13ms/step - loss: 326.3887 - mean_absolute_error: 12.8339 - root_mean_squared_error: 18.0662 - mean_absolute_percentage_error: 18.9210\n",
      "Epoch 88/100\n",
      "1539/1539 [==============================] - 20s 13ms/step - loss: 324.9103 - mean_absolute_error: 12.8100 - root_mean_squared_error: 18.0253 - mean_absolute_percentage_error: 18.8826\n",
      "Epoch 89/100\n",
      "1539/1539 [==============================] - 20s 13ms/step - loss: 323.1882 - mean_absolute_error: 12.7785 - root_mean_squared_error: 17.9774 - mean_absolute_percentage_error: 18.8236\n",
      "Epoch 90/100\n",
      "1539/1539 [==============================] - 20s 13ms/step - loss: 320.5832 - mean_absolute_error: 12.7310 - root_mean_squared_error: 17.9048 - mean_absolute_percentage_error: 18.8117\n",
      "Epoch 91/100\n",
      "1539/1539 [==============================] - 20s 13ms/step - loss: 319.2948 - mean_absolute_error: 12.7019 - root_mean_squared_error: 17.8688 - mean_absolute_percentage_error: 18.7563\n",
      "Epoch 92/100\n",
      "1539/1539 [==============================] - 20s 13ms/step - loss: 316.9746 - mean_absolute_error: 12.6667 - root_mean_squared_error: 17.8038 - mean_absolute_percentage_error: 18.7476\n",
      "Epoch 93/100\n",
      "1539/1539 [==============================] - 20s 13ms/step - loss: 316.1767 - mean_absolute_error: 12.6529 - root_mean_squared_error: 17.7813 - mean_absolute_percentage_error: 18.7186\n",
      "Epoch 94/100\n",
      "1539/1539 [==============================] - 19s 13ms/step - loss: 313.2450 - mean_absolute_error: 12.5964 - root_mean_squared_error: 17.6987 - mean_absolute_percentage_error: 18.6859\n",
      "Epoch 95/100\n",
      "1539/1539 [==============================] - 20s 13ms/step - loss: 313.1237 - mean_absolute_error: 12.6030 - root_mean_squared_error: 17.6953 - mean_absolute_percentage_error: 18.7172\n",
      "Epoch 96/100\n",
      "1539/1539 [==============================] - 20s 13ms/step - loss: 309.9177 - mean_absolute_error: 12.5319 - root_mean_squared_error: 17.6045 - mean_absolute_percentage_error: 18.6131\n",
      "Epoch 97/100\n",
      "1539/1539 [==============================] - 20s 13ms/step - loss: 308.1677 - mean_absolute_error: 12.5091 - root_mean_squared_error: 17.5547 - mean_absolute_percentage_error: 18.6308\n",
      "Epoch 98/100\n",
      "1539/1539 [==============================] - 21s 13ms/step - loss: 305.9027 - mean_absolute_error: 12.4679 - root_mean_squared_error: 17.4901 - mean_absolute_percentage_error: 18.5453\n",
      "Epoch 99/100\n",
      "1539/1539 [==============================] - 21s 13ms/step - loss: 305.4979 - mean_absolute_error: 12.4481 - root_mean_squared_error: 17.4785 - mean_absolute_percentage_error: 18.5541\n",
      "Epoch 100/100\n",
      "1539/1539 [==============================] - 20s 13ms/step - loss: 303.0483 - mean_absolute_error: 12.4041 - root_mean_squared_error: 17.4083 - mean_absolute_percentage_error: 18.5020\n"
     ]
    },
    {
     "data": {
      "text/plain": [
       "<keras.callbacks.History at 0x1c8a1d27ca0>"
      ]
     },
     "execution_count": 86,
     "metadata": {},
     "output_type": "execute_result"
    }
   ],
   "source": [
    "model60.fit((Wt60,Xt60), yt60, \n",
    "            epochs = 100, \n",
    "            verbose = 1\n",
    "            )"
   ]
  },
  {
   "cell_type": "code",
   "execution_count": 87,
   "metadata": {},
   "outputs": [
    {
     "name": "stderr",
     "output_type": "stream",
     "text": [
      "WARNING:absl:Function `_wrapped_model` contains input name(s) WideInput, DeepInput with unsupported characters which will be renamed to wideinput, deepinput in the SavedModel.\n",
      "WARNING:absl:Found untraced functions such as lstm_cell_7_layer_call_fn, lstm_cell_7_layer_call_and_return_conditional_losses, lstm_cell_5_layer_call_fn, lstm_cell_5_layer_call_and_return_conditional_losses, lstm_cell_6_layer_call_fn while saving (showing 5 of 15). These functions will not be directly callable after loading.\n"
     ]
    },
    {
     "name": "stdout",
     "output_type": "stream",
     "text": [
      "INFO:tensorflow:Assets written to: my_dir/8a-60\\assets\n"
     ]
    },
    {
     "name": "stderr",
     "output_type": "stream",
     "text": [
      "INFO:tensorflow:Assets written to: my_dir/8a-60\\assets\n",
      "WARNING:absl:<keras.layers.recurrent.LSTMCell object at 0x000001C8E89AA490> has the same name 'LSTMCell' as a built-in Keras object. Consider renaming <class 'keras.layers.recurrent.LSTMCell'> to avoid naming conflicts when loading with `tf.keras.models.load_model`. If renaming is not possible, pass the object in the `custom_objects` parameter of the load function.\n",
      "WARNING:absl:<keras.layers.recurrent.LSTMCell object at 0x000001C7DBECBB50> has the same name 'LSTMCell' as a built-in Keras object. Consider renaming <class 'keras.layers.recurrent.LSTMCell'> to avoid naming conflicts when loading with `tf.keras.models.load_model`. If renaming is not possible, pass the object in the `custom_objects` parameter of the load function.\n",
      "WARNING:absl:<keras.layers.recurrent.LSTMCell object at 0x000001C652C3BE50> has the same name 'LSTMCell' as a built-in Keras object. Consider renaming <class 'keras.layers.recurrent.LSTMCell'> to avoid naming conflicts when loading with `tf.keras.models.load_model`. If renaming is not possible, pass the object in the `custom_objects` parameter of the load function.\n"
     ]
    }
   ],
   "source": [
    "model60.save(\"my_dir/8a-60\")"
   ]
  },
  {
   "cell_type": "code",
   "execution_count": 88,
   "metadata": {},
   "outputs": [],
   "source": [
    "metrics60 = pd.DataFrame(model60.history.history)"
   ]
  },
  {
   "cell_type": "code",
   "execution_count": 89,
   "metadata": {},
   "outputs": [
    {
     "data": {
      "text/plain": [
       "<AxesSubplot:>"
      ]
     },
     "execution_count": 89,
     "metadata": {},
     "output_type": "execute_result"
    },
    {
     "data": {
      "image/png": "[encoded data removed]",
      "text/plain": [
       "<Figure size 432x288 with 1 Axes>"
      ]
     },
     "metadata": {
      "needs_background": "light"
     },
     "output_type": "display_data"
    }
   ],
   "source": [
    "metrics60[['loss']].plot()"
   ]
  },
  {
   "cell_type": "code",
   "execution_count": 34,
   "metadata": {},
   "outputs": [],
   "source": [
    "model60 = keras.models.load_model(\"my_dir/8a-60\", custom_objects=SeqSelfAttention.get_custom_objects())"
   ]
  },
  {
   "cell_type": "code",
   "execution_count": 91,
   "metadata": {},
   "outputs": [
    {
     "data": {
      "text/plain": [
       "array([[ 30.127054 ,  16.127226 ,  17.567545 ,  61.868755 ,  29.797714 ,\n",
       "          5.241593 ],\n",
       "       [ 29.455692 ,  15.395089 ,  12.677343 ,  57.06145  ,  28.17541  ,\n",
       "          2.2355564],\n",
       "       [ 29.139166 ,  14.742309 ,  13.474688 ,  57.60087  ,  28.59797  ,\n",
       "          3.1858778],\n",
       "       ...,\n",
       "       [ 38.213573 ,  38.490807 ,  66.37027  , 130.7127   ,  58.34734  ,\n",
       "         22.452633 ],\n",
       "       [ 40.02099  ,  38.153854 ,  56.70036  , 121.612335 ,  49.561615 ,\n",
       "         11.933891 ],\n",
       "       [ 38.556087 ,  34.044613 ,  48.519783 , 110.35029  ,  44.35518  ,\n",
       "          7.9856954]], dtype=float32)"
      ]
     },
     "execution_count": 91,
     "metadata": {},
     "output_type": "execute_result"
    }
   ],
   "source": [
    "model60.predict((Wv60,Xv60))"
   ]
  },
  {
   "cell_type": "markdown",
   "metadata": {},
   "source": [
    "### Evaluation on inverse_transform"
   ]
  },
  {
   "cell_type": "code",
   "execution_count": null,
   "metadata": {},
   "outputs": [],
   "source": [
    "test_predictions60 = model60.predict((Wv60,Xv60))\n",
    "\n",
    "\n",
    "MSE60 = mean_squared_error(yv60,test_predictions60)\n",
    "\n",
    "MAE60 = mean_absolute_error(yv60,test_predictions60)\n",
    "\n",
    "RMSE60 = np.sqrt(MSE60)\n",
    "\n",
    "MAPE60 = mean_absolute_percentage_error(yv60,test_predictions60)*100\n",
    "\n",
    "eval60 = [MSE60, MAE60, RMSE60, MAPE60]\n",
    "print(eval60)"
   ]
  },
  {
   "cell_type": "code",
   "execution_count": null,
   "metadata": {},
   "outputs": [],
   "source": [
    "GEH, count = ga.GEH(np.asarray(yv60), np.asarray(test_predictions60))\n",
    "GEH60 = count/GEH.size\n",
    "print(GEH60)"
   ]
  }
 ],
 "metadata": {
  "kernelspec": {
   "display_name": "Python 3 (ipykernel)",
   "language": "python",
   "name": "python3"
  },
  "language_info": {
   "codemirror_mode": {
    "name": "ipython",
    "version": 3
   },
   "file_extension": ".py",
   "mimetype": "text/x-python",
   "name": "python",
   "nbconvert_exporter": "python",
   "pygments_lexer": "ipython3",
   "version": "3.11.5"
  }
 },
 "nbformat": 4,
 "nbformat_minor": 4
}
