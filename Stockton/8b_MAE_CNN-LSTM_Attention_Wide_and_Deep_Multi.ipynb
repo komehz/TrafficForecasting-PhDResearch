{
 "cells": [
  {
   "cell_type": "code",
   "execution_count": 1,
   "metadata": {},
   "outputs": [],
   "source": [
    "import pandas as pd\n",
    "import numpy as np\n",
    "import matplotlib.pyplot as plt\n",
    "import seaborn as sns\n",
    "import joblib\n",
    "import os"
   ]
  },
  {
   "cell_type": "code",
   "execution_count": 2,
   "metadata": {},
   "outputs": [],
   "source": [
    "import keras_tuner as kt\n",
    "from keras_tuner import RandomSearch\n",
    "# from GEH_LOSS import GEH_loss\n",
    "import geh as ga"
   ]
  },
  {
   "cell_type": "code",
   "execution_count": 3,
   "metadata": {},
   "outputs": [],
   "source": [
    "from sklearn.metrics import mean_absolute_error,mean_squared_error,mean_absolute_percentage_error"
   ]
  },
  {
   "cell_type": "code",
   "execution_count": 4,
   "metadata": {},
   "outputs": [],
   "source": [
    "import relative_accuracy as ra"
   ]
  },
  {
   "cell_type": "code",
   "execution_count": 5,
   "metadata": {},
   "outputs": [],
   "source": [
    "# Load all Inputs and Output Data\n",
    "\n",
    "# 5 mins (1 step ahead)\n",
    "Deep_train_5   = np.load(\"Deep_train_5_multi.npz\")['x'] \n",
    "Output_train_5 = np.load(\"Deep_train_5_multi.npz\")['y']\n",
    "\n",
    "Deep_test_5   = np.load(\"Deep_test_5_multi.npz\")['x'] \n",
    "Output_test_5 = np.load(\"Deep_test_5_multi.npz\")['y'] \n",
    "\n",
    "# 15 mins (3 steps ahead)\n",
    "Deep_train_15   = np.load(\"Deep_train_15_multi.npz\")['x'] \n",
    "Output_train_15 = np.load(\"Deep_train_15_multi.npz\")['y']\n",
    "\n",
    "Deep_test_15   = np.load(\"Deep_test_15_multi.npz\")['x'] \n",
    "Output_test_15 = np.load(\"Deep_test_15_multi.npz\")['y']\n",
    "\n",
    "# 30 mins (6 steps ahead)\n",
    "Deep_train_30   = np.load(\"Deep_train_30_multi.npz\")['x'] \n",
    "Output_train_30 = np.load(\"Deep_train_30_multi.npz\")['y']\n",
    "\n",
    "Deep_test_30   = np.load(\"Deep_test_30_multi.npz\")['x'] \n",
    "Output_test_30 = np.load(\"Deep_test_30_multi.npz\")['y']\n",
    "\n",
    "# 60 mins (12 steps ahead)\n",
    "Deep_train_60   = np.load(\"Deep_train_60_multi.npz\")['x'] \n",
    "Output_train_60 = np.load(\"Deep_train_60_multi.npz\")['y']\n",
    "\n",
    "Deep_test_60   = np.load(\"Deep_test_60_multi.npz\")['x'] \n",
    "Output_test_60 = np.load(\"Deep_test_60_multi.npz\")['y']"
   ]
  },
  {
   "cell_type": "code",
   "execution_count": 6,
   "metadata": {},
   "outputs": [],
   "source": [
    "# Wide Data\n",
    "Xtrain = joblib.load(\"002weeks_train_Multi.save\") \n",
    "Xtest = joblib.load(\"002weeks_test_Multi.save\") "
   ]
  },
  {
   "cell_type": "code",
   "execution_count": 7,
   "metadata": {},
   "outputs": [],
   "source": [
    "# 5 mins\n",
    "# Delete first 15 samples\n",
    "Wide_train_5 = np.delete(Xtrain, np.s_[0:15], 0)\n",
    "Wide_test_5 = np.delete(Xtest, np.s_[0:15], 0)"
   ]
  },
  {
   "cell_type": "code",
   "execution_count": 8,
   "metadata": {},
   "outputs": [],
   "source": [
    "# 15 mins\n",
    "# Delete first 17 samples\n",
    "Wide_train_15 = np.delete(Xtrain, np.s_[0:17], 0)\n",
    "Wide_test_15 = np.delete(Xtest, np.s_[0:17], 0)"
   ]
  },
  {
   "cell_type": "code",
   "execution_count": 9,
   "metadata": {},
   "outputs": [],
   "source": [
    "# 30 mins\n",
    "# Delete first 20 samples\n",
    "Wide_train_30 = np.delete(Xtrain, np.s_[0:20], 0)\n",
    "Wide_test_30 = np.delete(Xtest, np.s_[0:20], 0)"
   ]
  },
  {
   "cell_type": "code",
   "execution_count": 10,
   "metadata": {},
   "outputs": [],
   "source": [
    "# 60 mins\n",
    "# Delete first 27 samples\n",
    "Wide_train_60 = np.delete(Xtrain, np.s_[0:26], 0)\n",
    "Wide_test_60 = np.delete(Xtest, np.s_[0:26], 0)"
   ]
  },
  {
   "cell_type": "code",
   "execution_count": 11,
   "metadata": {},
   "outputs": [
    {
     "name": "stderr",
     "output_type": "stream",
     "text": [
      "C:\\Users\\esugom\\.conda\\envs\\my_env\\lib\\site-packages\\sklearn\\base.py:324: UserWarning: Trying to unpickle estimator MinMaxScaler from version 1.0.2 when using version 1.0.1. This might lead to breaking code or invalid results. Use at your own risk. For more info please refer to:\n",
      "https://scikit-learn.org/stable/modules/model_persistence.html#security-maintainability-limitations\n",
      "  warnings.warn(\n"
     ]
    }
   ],
   "source": [
    "scaler_filename = \"scaler.save\"\n",
    "scaler = joblib.load(scaler_filename) "
   ]
  },
  {
   "cell_type": "code",
   "execution_count": 12,
   "metadata": {},
   "outputs": [],
   "source": [
    "Test      = pd.read_csv('01test_scaled.csv', index_col=None, parse_dates=[0])"
   ]
  },
  {
   "cell_type": "code",
   "execution_count": 13,
   "metadata": {},
   "outputs": [],
   "source": [
    "from mpl_toolkits.axes_grid1.inset_locator import inset_axes\n",
    "from mpl_toolkits.axes_grid1.inset_locator import mark_inset\n",
    "from matplotlib import ticker\n",
    "formatter = ticker.ScalarFormatter(useMathText=True)\n",
    "formatter.set_scientific(True) \n",
    "formatter.set_powerlimits((-1,1)) \n",
    "plt.rc('font', size=30)"
   ]
  },
  {
   "cell_type": "markdown",
   "metadata": {},
   "source": [
    "# Reshape Samples"
   ]
  },
  {
   "cell_type": "markdown",
   "metadata": {},
   "source": [
    "The first step is to split the input sequences into subsequences that can be processed by the CNN model. Here, each spatio-temporal sample can be split into three sub-samples, each with five time steps. The CNN can interpret each subsequence of five time steps and provide a time series of interpretations of the subsequences to the LSTM model to process as input."
   ]
  },
  {
   "cell_type": "code",
   "execution_count": 14,
   "metadata": {},
   "outputs": [],
   "source": [
    "# reshape from [samples, timesteps] into [samples, subsequences, timesteps, features]\n",
    "n_features = 7                # No of loop detectors\n",
    "n_seq = 3                     # Subsequences\n",
    "n_steps = 5                   # time-step per subsequence\n",
    "# val_percent = 0.07567       # 2 weeks\n",
    "val_percent = 0.2        \n",
    "batch_size = 32\n",
    "\n",
    "n_seq_ = 3                     # Subsequences\n",
    "n_steps_ = 3                   # time-step per subsequence"
   ]
  },
  {
   "cell_type": "markdown",
   "metadata": {},
   "source": [
    "#### 5 mins"
   ]
  },
  {
   "cell_type": "code",
   "execution_count": 15,
   "metadata": {},
   "outputs": [],
   "source": [
    "# Train\n",
    "# reshape from [samples, timesteps] into [samples, subsequences, timesteps, features]\n",
    "Xt5 = Deep_train_5.reshape((Deep_train_5.shape[0], n_seq, n_steps, n_features))\n",
    "yt5 = scaler.inverse_transform(Output_train_5)"
   ]
  },
  {
   "cell_type": "code",
   "execution_count": 16,
   "metadata": {},
   "outputs": [],
   "source": [
    "# Test\n",
    "# reshape from [samples, timesteps] into [samples, subsequences, timesteps, features]\n",
    "Xv5 = Deep_test_5.reshape((Deep_test_5.shape[0], n_seq, n_steps, n_features))\n",
    "yv5 = scaler.inverse_transform(Output_test_5)"
   ]
  },
  {
   "cell_type": "markdown",
   "metadata": {},
   "source": [
    "#### 15 mins"
   ]
  },
  {
   "cell_type": "code",
   "execution_count": 17,
   "metadata": {},
   "outputs": [],
   "source": [
    "# Train\n",
    "# reshape from [samples, timesteps] into [samples, subsequences, timesteps, features]\n",
    "Xt15 = Deep_train_15.reshape((Deep_train_15.shape[0], n_seq, n_steps, n_features))\n",
    "yt15 = scaler.inverse_transform(Output_train_15)"
   ]
  },
  {
   "cell_type": "code",
   "execution_count": 18,
   "metadata": {},
   "outputs": [],
   "source": [
    "# Test\n",
    "# reshape from [samples, timesteps] into [samples, subsequences, timesteps, features]\n",
    "Xv15 = Deep_test_15.reshape((Deep_test_15.shape[0], n_seq, n_steps, n_features))\n",
    "yv15 = scaler.inverse_transform(Output_test_15)"
   ]
  },
  {
   "cell_type": "markdown",
   "metadata": {},
   "source": [
    "#### 30 mins"
   ]
  },
  {
   "cell_type": "code",
   "execution_count": 19,
   "metadata": {},
   "outputs": [],
   "source": [
    "# Train\n",
    "# reshape from [samples, timesteps] into [samples, subsequences, timesteps, features]\n",
    "Xt30 = Deep_train_30.reshape((Deep_train_30.shape[0], n_seq, n_steps, n_features))\n",
    "yt30 = scaler.inverse_transform(Output_train_30)"
   ]
  },
  {
   "cell_type": "code",
   "execution_count": 20,
   "metadata": {},
   "outputs": [],
   "source": [
    "# Test\n",
    "# reshape from [samples, timesteps] into [samples, subsequences, timesteps, features]\n",
    "Xv30 = Deep_test_30.reshape((Deep_test_30.shape[0], n_seq, n_steps, n_features))\n",
    "yv30 = scaler.inverse_transform(Output_test_30)"
   ]
  },
  {
   "cell_type": "markdown",
   "metadata": {},
   "source": [
    "#### 60 mins"
   ]
  },
  {
   "cell_type": "code",
   "execution_count": 21,
   "metadata": {},
   "outputs": [],
   "source": [
    "# Train\n",
    "# reshape from [samples, timesteps] into [samples, subsequences, timesteps, features]\n",
    "Xt60 = Deep_train_60.reshape((Deep_train_60.shape[0], n_seq, n_steps, n_features))\n",
    "yt60 = scaler.inverse_transform(Output_train_60)"
   ]
  },
  {
   "cell_type": "code",
   "execution_count": 22,
   "metadata": {},
   "outputs": [],
   "source": [
    "# Test\n",
    "# reshape from [samples, timesteps] into [samples, subsequences, timesteps, features]\n",
    "Xv60 = Deep_test_60.reshape((Deep_test_60.shape[0], n_seq, n_steps, n_features))\n",
    "yv60 = scaler.inverse_transform(Output_test_60)"
   ]
  },
  {
   "cell_type": "markdown",
   "metadata": {},
   "source": [
    "### Reshaping the Data for Conv2D layer\n",
    "\n",
    "For Conv2D, there is a need to add one more dimension to show we're dealing with 1 channel (since technically the images are in black and white, only showing values from 0-max flow on a single channel).\n",
    "\n",
    "Conv1D - strides in 1 dimension\n",
    "Conv2D - strides in 2 dimensions"
   ]
  },
  {
   "cell_type": "code",
   "execution_count": 23,
   "metadata": {},
   "outputs": [],
   "source": [
    "# define no_of_channels\n",
    "n_channels = 1"
   ]
  },
  {
   "cell_type": "code",
   "execution_count": 24,
   "metadata": {},
   "outputs": [],
   "source": [
    "# Train data\n",
    "Xt5  =  Xt5.reshape(Xt5.shape[0], n_seq, n_steps, n_features, n_channels)\n",
    "Xt15 =  Xt15.reshape(Xt15.shape[0], n_seq, n_steps, n_features, n_channels)\n",
    "Xt30 =  Xt30.reshape(Xt30.shape[0], n_seq, n_steps, n_features, n_channels)\n",
    "Xt60 =  Xt60.reshape(Xt60.shape[0], n_seq, n_steps, n_features, n_channels)\n",
    "\n",
    "# Validation data\n",
    "Xv5  =  Xv5.reshape(Xv5.shape[0], n_seq, n_steps, n_features, n_channels)\n",
    "Xv15 =  Xv15.reshape(Xv15.shape[0], n_seq, n_steps, n_features, n_channels)\n",
    "Xv30 =  Xv30.reshape(Xv30.shape[0], n_seq, n_steps, n_features, n_channels)\n",
    "Xv60 =  Xv60.reshape(Xv60.shape[0], n_seq, n_steps, n_features, n_channels)"
   ]
  },
  {
   "cell_type": "code",
   "execution_count": 25,
   "metadata": {},
   "outputs": [],
   "source": [
    "Wt5  = Wide_train_5\n",
    "Wt15 = Wide_train_15\n",
    "Wt30 = Wide_train_30\n",
    "Wt60 = Wide_train_60\n",
    "\n",
    "Wv5  = Wide_test_5\n",
    "Wv15 = Wide_test_15\n",
    "Wv30 = Wide_test_30\n",
    "Wv60 = Wide_test_60"
   ]
  },
  {
   "cell_type": "code",
   "execution_count": 26,
   "metadata": {},
   "outputs": [],
   "source": [
    "# Train data\n",
    "Wt5  =  Wt5.reshape(Wt5.shape[0], n_seq_, n_steps_, n_features)\n",
    "Wt15 =  Wt15.reshape(Wt15.shape[0], n_seq_, n_steps_, n_features)\n",
    "Wt30 =  Wt30.reshape(Wt30.shape[0], n_seq_, n_steps_, n_features)\n",
    "Wt60 =  Wt60.reshape(Wt60.shape[0], n_seq_, n_steps_, n_features)\n",
    "\n",
    "# Validation data\n",
    "Wv5  =  Wv5.reshape(Wv5.shape[0], n_seq_, n_steps_, n_features)\n",
    "Wv15 =  Wv15.reshape(Wv15.shape[0], n_seq_, n_steps_, n_features)\n",
    "Wv30 =  Wv30.reshape(Wv30.shape[0], n_seq_, n_steps_, n_features)\n",
    "Wv60 =  Wv60.reshape(Wv60.shape[0], n_seq_, n_steps_, n_features)"
   ]
  },
  {
   "cell_type": "code",
   "execution_count": 27,
   "metadata": {},
   "outputs": [
    {
     "data": {
      "text/plain": [
       "(31089, 3, 5, 7, 1)"
      ]
     },
     "execution_count": 27,
     "metadata": {},
     "output_type": "execute_result"
    }
   ],
   "source": [
    "Xt5.shape"
   ]
  },
  {
   "cell_type": "code",
   "execution_count": 28,
   "metadata": {},
   "outputs": [
    {
     "data": {
      "text/plain": [
       "(31089, 3, 3, 7)"
      ]
     },
     "execution_count": 28,
     "metadata": {},
     "output_type": "execute_result"
    }
   ],
   "source": [
    "Wt5.shape"
   ]
  },
  {
   "cell_type": "markdown",
   "metadata": {},
   "source": [
    "# CNN-LSTM model"
   ]
  },
  {
   "cell_type": "code",
   "execution_count": 29,
   "metadata": {},
   "outputs": [],
   "source": [
    "from tensorflow import keras\n",
    "from keras_self_attention import SeqSelfAttention\n",
    "\n",
    "# Early Stopping\n",
    "early_stop = keras.callbacks.EarlyStopping(monitor='val_loss',patience=5, restore_best_weights = True)"
   ]
  },
  {
   "cell_type": "code",
   "execution_count": 30,
   "metadata": {},
   "outputs": [
    {
     "data": {
      "text/plain": [
       "(31089, 9, 7)"
      ]
     },
     "execution_count": 30,
     "metadata": {},
     "output_type": "execute_result"
    }
   ],
   "source": [
    "Wide_train_5.shape"
   ]
  },
  {
   "cell_type": "markdown",
   "metadata": {},
   "source": [
    "# 5 mins ahead"
   ]
  },
  {
   "cell_type": "code",
   "execution_count": 31,
   "metadata": {},
   "outputs": [],
   "source": [
    "def build_model_5(hp):\n",
    "    # Inputs\n",
    "    channel_Wide = keras.layers.Input(shape=Wt5.shape[1:], name=\"WideInput\")\n",
    "    channel_Deep = keras.layers.Input(shape=Xt5.shape[1:], name=\"DeepInput\")\n",
    "    units = hp.Int(\"units\", min_value=1, max_value=100, step=1)\n",
    "    \n",
    "    \n",
    "    # Wide Model\n",
    "    flatten_5w = keras.layers.TimeDistributed(keras.layers.Flatten())(channel_Wide)\n",
    "    Bi_5 = keras.layers.Bidirectional(\n",
    "        keras.layers.LSTM(units=units, return_sequences=True),\n",
    "        merge_mode=\"ave\"\n",
    "    )(flatten_5w)\n",
    "    \n",
    "    \n",
    "    # Deep Model\n",
    "    # CNN \n",
    "    CNN_5 = keras.layers.TimeDistributed(\n",
    "        keras.layers.Conv2D(filters=hp.Int(\"filters\", min_value=32, max_value=512, step=32),\n",
    "                            kernel_size=hp.Choice(\"kernel_size\", [2, 3]), activation='relu'))(channel_Deep)\n",
    "    flatten_5 = keras.layers.TimeDistributed(keras.layers.Flatten())(CNN_5)\n",
    "    # LSTM          \n",
    "    LSTM_5 = keras.layers.LSTM(units=units, return_sequences=True)(flatten_5)\n",
    "\n",
    "    \n",
    "    # Concatenation \n",
    "    concat = keras.layers.concatenate([Bi_5, LSTM_5], axis=1)\n",
    "\n",
    "    # Attention\n",
    "    Att_5 = SeqSelfAttention(attention_activation='sigmoid')(concat)\n",
    "    merge = keras.layers.Flatten()(Att_5)\n",
    "\n",
    "    \n",
    "    # Output\n",
    "    output = keras.layers.Dense(n_features, name= \"output\")(merge)\n",
    "    \n",
    "    # Model\n",
    "    model_5 = keras.Model(inputs=[channel_Wide,channel_Deep], outputs=[output])\n",
    "\n",
    "    # Compile\n",
    "    model_5.compile(optimizer=keras.optimizers.Adam(hp.Choice(\"learning_rate\", [1e-2, 1e-3, 1e-4])), \n",
    "        loss=\"mae\", metrics=['MeanAbsoluteError','RootMeanSquaredError','MeanAbsolutePercentageError'])\n",
    "                                   \n",
    "    return model_5"
   ]
  },
  {
   "cell_type": "code",
   "execution_count": 32,
   "metadata": {},
   "outputs": [
    {
     "name": "stdout",
     "output_type": "stream",
     "text": [
      "INFO:tensorflow:Reloading Oracle from existing project C:\\Runs\\8b-5\\oracle.json\n",
      "INFO:tensorflow:Reloading Tuner from C:\\Runs\\8b-5\\tuner0.json\n"
     ]
    }
   ],
   "source": [
    "tuner5 = RandomSearch(\n",
    "    build_model_5,\n",
    "    objective=\"val_loss\",\n",
    "    max_trials=60,\n",
    "    executions_per_trial=2,\n",
    "    overwrite=False,\n",
    "    directory=os.path.normpath('C:/Runs'),\n",
    "    project_name=\"8b-5\",\n",
    ")"
   ]
  },
  {
   "cell_type": "code",
   "execution_count": 33,
   "metadata": {},
   "outputs": [
    {
     "name": "stdout",
     "output_type": "stream",
     "text": [
      "Search space summary\n",
      "Default search space size: 4\n",
      "units (Int)\n",
      "{'default': None, 'conditions': [], 'min_value': 1, 'max_value': 100, 'step': 1, 'sampling': None}\n",
      "filters (Int)\n",
      "{'default': None, 'conditions': [], 'min_value': 32, 'max_value': 512, 'step': 32, 'sampling': None}\n",
      "kernel_size (Choice)\n",
      "{'default': 2, 'conditions': [], 'values': [2, 3], 'ordered': True}\n",
      "learning_rate (Choice)\n",
      "{'default': 0.01, 'conditions': [], 'values': [0.01, 0.001, 0.0001], 'ordered': True}\n"
     ]
    }
   ],
   "source": [
    "tuner5.search_space_summary()"
   ]
  },
  {
   "cell_type": "code",
   "execution_count": 33,
   "metadata": {},
   "outputs": [
    {
     "name": "stdout",
     "output_type": "stream",
     "text": [
      "Trial 60 Complete [00h 06m 30s]\n",
      "val_loss: 23.046046257019043\n",
      "\n",
      "Best val_loss So Far: 16.604711532592773\n",
      "Total elapsed time: 19h 27m 32s\n",
      "INFO:tensorflow:Oracle triggered exit\n"
     ]
    }
   ],
   "source": [
    "tuner5.search((Wt5,Xt5), yt5, epochs=200,\n",
    "           validation_split = val_percent,\n",
    "           callbacks = [early_stop],\n",
    "           verbose=2)"
   ]
  },
  {
   "cell_type": "code",
   "execution_count": 34,
   "metadata": {},
   "outputs": [
    {
     "name": "stdout",
     "output_type": "stream",
     "text": [
      "Results summary\n",
      "Results in C:\\Runs\\8b-5\n",
      "Showing 1 best trials\n",
      "Objective(name='val_loss', direction='min')\n",
      "Trial summary\n",
      "Hyperparameters:\n",
      "units: 66\n",
      "filters: 32\n",
      "kernel_size: 2\n",
      "learning_rate: 0.001\n",
      "Score: 16.604711532592773\n"
     ]
    }
   ],
   "source": [
    "tuner5.results_summary(1)"
   ]
  },
  {
   "cell_type": "markdown",
   "metadata": {},
   "source": [
    "### Best Model"
   ]
  },
  {
   "cell_type": "code",
   "execution_count": 33,
   "metadata": {},
   "outputs": [],
   "source": [
    "scaler_filename = \"Best_HP/8b-5\"\n",
    "best_hp5 = joblib.load(scaler_filename) \n",
    "\n",
    "model5 = tuner5.hypermodel.build(best_hp5)"
   ]
  },
  {
   "cell_type": "code",
   "execution_count": 35,
   "metadata": {},
   "outputs": [],
   "source": [
    "best_hp5 = tuner5.get_best_hyperparameters()[0]\n",
    "model5 = tuner5.hypermodel.build(best_hp5)"
   ]
  },
  {
   "cell_type": "code",
   "execution_count": 36,
   "metadata": {},
   "outputs": [
    {
     "data": {
      "text/plain": [
       "['Best_HP/8b-5']"
      ]
     },
     "execution_count": 36,
     "metadata": {},
     "output_type": "execute_result"
    }
   ],
   "source": [
    "scaler_filename = \"Best_HP/8b-5\"\n",
    "joblib.dump(best_hp5, scaler_filename) "
   ]
  },
  {
   "cell_type": "code",
   "execution_count": 37,
   "metadata": {},
   "outputs": [
    {
     "name": "stdout",
     "output_type": "stream",
     "text": [
      "Model: \"model_1\"\n",
      "__________________________________________________________________________________________________\n",
      " Layer (type)                   Output Shape         Param #     Connected to                     \n",
      "==================================================================================================\n",
      " DeepInput (InputLayer)         [(None, 3, 5, 7, 1)  0           []                               \n",
      "                                ]                                                                 \n",
      "                                                                                                  \n",
      " WideInput (InputLayer)         [(None, 3, 3, 7)]    0           []                               \n",
      "                                                                                                  \n",
      " time_distributed_4 (TimeDistri  (None, 3, 4, 6, 32)  160        ['DeepInput[0][0]']              \n",
      " buted)                                                                                           \n",
      "                                                                                                  \n",
      " time_distributed_3 (TimeDistri  (None, 3, 21)       0           ['WideInput[0][0]']              \n",
      " buted)                                                                                           \n",
      "                                                                                                  \n",
      " time_distributed_5 (TimeDistri  (None, 3, 768)      0           ['time_distributed_4[0][0]']     \n",
      " buted)                                                                                           \n",
      "                                                                                                  \n",
      " bidirectional_1 (Bidirectional  (None, 3, 66)       46464       ['time_distributed_3[0][0]']     \n",
      " )                                                                                                \n",
      "                                                                                                  \n",
      " lstm_3 (LSTM)                  (None, 3, 66)        220440      ['time_distributed_5[0][0]']     \n",
      "                                                                                                  \n",
      " concatenate_1 (Concatenate)    (None, 6, 66)        0           ['bidirectional_1[0][0]',        \n",
      "                                                                  'lstm_3[0][0]']                 \n",
      "                                                                                                  \n",
      " seq_self_attention_1 (SeqSelfA  (None, 6, 66)       4289        ['concatenate_1[0][0]']          \n",
      " ttention)                                                                                        \n",
      "                                                                                                  \n",
      " flatten_5 (Flatten)            (None, 396)          0           ['seq_self_attention_1[0][0]']   \n",
      "                                                                                                  \n",
      " output (Dense)                 (None, 7)            2779        ['flatten_5[0][0]']              \n",
      "                                                                                                  \n",
      "==================================================================================================\n",
      "Total params: 274,132\n",
      "Trainable params: 274,132\n",
      "Non-trainable params: 0\n",
      "__________________________________________________________________________________________________\n"
     ]
    }
   ],
   "source": [
    "model5.summary()"
   ]
  },
  {
   "cell_type": "code",
   "execution_count": 34,
   "metadata": {},
   "outputs": [
    {
     "name": "stdout",
     "output_type": "stream",
     "text": [
      "Epoch 1/100\n",
      "778/778 [==============================] - 22s 17ms/step - loss: 108.4309 - mean_absolute_error: 108.4309 - root_mean_squared_error: 147.9673 - mean_absolute_percentage_error: 48952724.0000 - val_loss: 40.0695 - val_mean_absolute_error: 40.0695 - val_root_mean_squared_error: 59.3671 - val_mean_absolute_percentage_error: 3066951.7500\n",
      "Epoch 2/100\n",
      "778/778 [==============================] - 12s 15ms/step - loss: 26.7585 - mean_absolute_error: 26.7585 - root_mean_squared_error: 40.5323 - mean_absolute_percentage_error: 50533524.0000 - val_loss: 21.3433 - val_mean_absolute_error: 21.3433 - val_root_mean_squared_error: 29.6976 - val_mean_absolute_percentage_error: 3213567.5000\n",
      "Epoch 3/100\n",
      "778/778 [==============================] - 12s 15ms/step - loss: 19.8701 - mean_absolute_error: 19.8701 - root_mean_squared_error: 27.8881 - mean_absolute_percentage_error: 55141164.0000 - val_loss: 19.6751 - val_mean_absolute_error: 19.6751 - val_root_mean_squared_error: 26.4002 - val_mean_absolute_percentage_error: 3412745.0000\n",
      "Epoch 4/100\n",
      "778/778 [==============================] - 12s 15ms/step - loss: 18.8590 - mean_absolute_error: 18.8590 - root_mean_squared_error: 26.1122 - mean_absolute_percentage_error: 56835840.0000 - val_loss: 19.1267 - val_mean_absolute_error: 19.1267 - val_root_mean_squared_error: 25.4645 - val_mean_absolute_percentage_error: 3344890.2500\n",
      "Epoch 5/100\n",
      "778/778 [==============================] - 12s 15ms/step - loss: 18.4896 - mean_absolute_error: 18.4896 - root_mean_squared_error: 25.5508 - mean_absolute_percentage_error: 56622836.0000 - val_loss: 18.5330 - val_mean_absolute_error: 18.5330 - val_root_mean_squared_error: 24.7614 - val_mean_absolute_percentage_error: 3532048.0000\n",
      "Epoch 6/100\n",
      "778/778 [==============================] - 12s 16ms/step - loss: 18.1389 - mean_absolute_error: 18.1389 - root_mean_squared_error: 25.0271 - mean_absolute_percentage_error: 57311344.0000 - val_loss: 18.7036 - val_mean_absolute_error: 18.7036 - val_root_mean_squared_error: 25.0146 - val_mean_absolute_percentage_error: 3388260.7500\n",
      "Epoch 7/100\n",
      "778/778 [==============================] - 12s 15ms/step - loss: 17.9424 - mean_absolute_error: 17.9424 - root_mean_squared_error: 24.7192 - mean_absolute_percentage_error: 56488004.0000 - val_loss: 18.3432 - val_mean_absolute_error: 18.3432 - val_root_mean_squared_error: 24.4685 - val_mean_absolute_percentage_error: 3726000.0000\n",
      "Epoch 8/100\n",
      "778/778 [==============================] - 11s 15ms/step - loss: 17.6787 - mean_absolute_error: 17.6787 - root_mean_squared_error: 24.3661 - mean_absolute_percentage_error: 55085300.0000 - val_loss: 18.1589 - val_mean_absolute_error: 18.1589 - val_root_mean_squared_error: 24.3238 - val_mean_absolute_percentage_error: 3431326.5000\n",
      "Epoch 9/100\n",
      "778/778 [==============================] - 11s 14ms/step - loss: 17.4391 - mean_absolute_error: 17.4391 - root_mean_squared_error: 24.0040 - mean_absolute_percentage_error: 54711912.0000 - val_loss: 17.6870 - val_mean_absolute_error: 17.6870 - val_root_mean_squared_error: 23.6522 - val_mean_absolute_percentage_error: 3634892.0000\n",
      "Epoch 10/100\n",
      "778/778 [==============================] - 11s 14ms/step - loss: 17.3336 - mean_absolute_error: 17.3336 - root_mean_squared_error: 23.8491 - mean_absolute_percentage_error: 53813928.0000 - val_loss: 17.9093 - val_mean_absolute_error: 17.9093 - val_root_mean_squared_error: 23.8740 - val_mean_absolute_percentage_error: 3466428.7500\n",
      "Epoch 11/100\n",
      "778/778 [==============================] - 12s 15ms/step - loss: 17.1781 - mean_absolute_error: 17.1781 - root_mean_squared_error: 23.6357 - mean_absolute_percentage_error: 53176728.0000 - val_loss: 17.7145 - val_mean_absolute_error: 17.7145 - val_root_mean_squared_error: 23.6817 - val_mean_absolute_percentage_error: 3599454.7500\n",
      "Epoch 12/100\n",
      "778/778 [==============================] - 11s 14ms/step - loss: 17.0693 - mean_absolute_error: 17.0693 - root_mean_squared_error: 23.4753 - mean_absolute_percentage_error: 52300140.0000 - val_loss: 17.3332 - val_mean_absolute_error: 17.3332 - val_root_mean_squared_error: 23.1961 - val_mean_absolute_percentage_error: 3317865.5000\n",
      "Epoch 13/100\n",
      "778/778 [==============================] - 11s 14ms/step - loss: 16.9575 - mean_absolute_error: 16.9575 - root_mean_squared_error: 23.3253 - mean_absolute_percentage_error: 51490680.0000 - val_loss: 18.1529 - val_mean_absolute_error: 18.1529 - val_root_mean_squared_error: 24.4623 - val_mean_absolute_percentage_error: 3465867.7500\n",
      "Epoch 14/100\n",
      "778/778 [==============================] - 11s 15ms/step - loss: 16.9004 - mean_absolute_error: 16.9004 - root_mean_squared_error: 23.2243 - mean_absolute_percentage_error: 49672360.0000 - val_loss: 17.2571 - val_mean_absolute_error: 17.2571 - val_root_mean_squared_error: 23.0692 - val_mean_absolute_percentage_error: 3362056.7500\n",
      "Epoch 15/100\n",
      "778/778 [==============================] - 11s 14ms/step - loss: 16.8338 - mean_absolute_error: 16.8338 - root_mean_squared_error: 23.1264 - mean_absolute_percentage_error: 48296128.0000 - val_loss: 17.1658 - val_mean_absolute_error: 17.1658 - val_root_mean_squared_error: 23.0030 - val_mean_absolute_percentage_error: 3501789.5000\n",
      "Epoch 16/100\n",
      "778/778 [==============================] - 11s 14ms/step - loss: 16.7803 - mean_absolute_error: 16.7803 - root_mean_squared_error: 23.0573 - mean_absolute_percentage_error: 46745720.0000 - val_loss: 17.3243 - val_mean_absolute_error: 17.3243 - val_root_mean_squared_error: 23.1769 - val_mean_absolute_percentage_error: 3455324.7500\n",
      "Epoch 17/100\n",
      "778/778 [==============================] - 11s 15ms/step - loss: 16.7537 - mean_absolute_error: 16.7537 - root_mean_squared_error: 22.9978 - mean_absolute_percentage_error: 44178316.0000 - val_loss: 17.3293 - val_mean_absolute_error: 17.3293 - val_root_mean_squared_error: 23.1493 - val_mean_absolute_percentage_error: 3484584.7500\n",
      "Epoch 18/100\n",
      "778/778 [==============================] - 11s 14ms/step - loss: 16.7042 - mean_absolute_error: 16.7042 - root_mean_squared_error: 22.9331 - mean_absolute_percentage_error: 43076224.0000 - val_loss: 17.1094 - val_mean_absolute_error: 17.1094 - val_root_mean_squared_error: 22.8550 - val_mean_absolute_percentage_error: 3478468.0000\n",
      "Epoch 19/100\n",
      "778/778 [==============================] - 11s 14ms/step - loss: 16.6655 - mean_absolute_error: 16.6655 - root_mean_squared_error: 22.8778 - mean_absolute_percentage_error: 41170096.0000 - val_loss: 17.0985 - val_mean_absolute_error: 17.0985 - val_root_mean_squared_error: 22.9170 - val_mean_absolute_percentage_error: 3371411.2500\n",
      "Epoch 20/100\n",
      "778/778 [==============================] - 12s 15ms/step - loss: 16.6137 - mean_absolute_error: 16.6137 - root_mean_squared_error: 22.7882 - mean_absolute_percentage_error: 39453780.0000 - val_loss: 17.0316 - val_mean_absolute_error: 17.0316 - val_root_mean_squared_error: 22.8385 - val_mean_absolute_percentage_error: 3403467.7500\n",
      "Epoch 21/100\n",
      "778/778 [==============================] - 12s 15ms/step - loss: 16.5902 - mean_absolute_error: 16.5902 - root_mean_squared_error: 22.7502 - mean_absolute_percentage_error: 37135476.0000 - val_loss: 17.1066 - val_mean_absolute_error: 17.1066 - val_root_mean_squared_error: 22.9109 - val_mean_absolute_percentage_error: 3460910.7500\n",
      "Epoch 22/100\n",
      "778/778 [==============================] - 11s 15ms/step - loss: 16.5536 - mean_absolute_error: 16.5536 - root_mean_squared_error: 22.7042 - mean_absolute_percentage_error: 35437864.0000 - val_loss: 17.2133 - val_mean_absolute_error: 17.2133 - val_root_mean_squared_error: 23.0221 - val_mean_absolute_percentage_error: 3509918.2500\n",
      "Epoch 23/100\n",
      "778/778 [==============================] - 11s 15ms/step - loss: 16.5127 - mean_absolute_error: 16.5127 - root_mean_squared_error: 22.6377 - mean_absolute_percentage_error: 33524356.0000 - val_loss: 16.8749 - val_mean_absolute_error: 16.8749 - val_root_mean_squared_error: 22.6852 - val_mean_absolute_percentage_error: 3505638.5000\n",
      "Epoch 24/100\n",
      "778/778 [==============================] - 11s 14ms/step - loss: 16.5067 - mean_absolute_error: 16.5067 - root_mean_squared_error: 22.6361 - mean_absolute_percentage_error: 31683380.0000 - val_loss: 16.9311 - val_mean_absolute_error: 16.9311 - val_root_mean_squared_error: 22.6879 - val_mean_absolute_percentage_error: 3575155.2500\n"
     ]
    },
    {
     "name": "stdout",
     "output_type": "stream",
     "text": [
      "Epoch 25/100\n",
      "778/778 [==============================] - 11s 14ms/step - loss: 16.4679 - mean_absolute_error: 16.4679 - root_mean_squared_error: 22.5659 - mean_absolute_percentage_error: 30203276.0000 - val_loss: 16.9894 - val_mean_absolute_error: 16.9894 - val_root_mean_squared_error: 22.7294 - val_mean_absolute_percentage_error: 3564358.5000\n",
      "Epoch 26/100\n",
      "778/778 [==============================] - 11s 14ms/step - loss: 16.4364 - mean_absolute_error: 16.4364 - root_mean_squared_error: 22.5296 - mean_absolute_percentage_error: 28601326.0000 - val_loss: 16.7865 - val_mean_absolute_error: 16.7865 - val_root_mean_squared_error: 22.4890 - val_mean_absolute_percentage_error: 3510893.5000\n",
      "Epoch 27/100\n",
      "778/778 [==============================] - 11s 14ms/step - loss: 16.4008 - mean_absolute_error: 16.4008 - root_mean_squared_error: 22.4893 - mean_absolute_percentage_error: 26106754.0000 - val_loss: 16.8847 - val_mean_absolute_error: 16.8847 - val_root_mean_squared_error: 22.6310 - val_mean_absolute_percentage_error: 3469415.0000\n",
      "Epoch 28/100\n",
      "778/778 [==============================] - 12s 15ms/step - loss: 16.3761 - mean_absolute_error: 16.3761 - root_mean_squared_error: 22.4441 - mean_absolute_percentage_error: 23561020.0000 - val_loss: 16.8429 - val_mean_absolute_error: 16.8429 - val_root_mean_squared_error: 22.5696 - val_mean_absolute_percentage_error: 3512896.0000\n",
      "Epoch 29/100\n",
      "778/778 [==============================] - 11s 14ms/step - loss: 16.3500 - mean_absolute_error: 16.3500 - root_mean_squared_error: 22.4213 - mean_absolute_percentage_error: 21497656.0000 - val_loss: 17.0610 - val_mean_absolute_error: 17.0610 - val_root_mean_squared_error: 22.8015 - val_mean_absolute_percentage_error: 3529318.5000\n",
      "Epoch 30/100\n",
      "778/778 [==============================] - 11s 14ms/step - loss: 16.3034 - mean_absolute_error: 16.3034 - root_mean_squared_error: 22.3492 - mean_absolute_percentage_error: 19416838.0000 - val_loss: 17.0618 - val_mean_absolute_error: 17.0618 - val_root_mean_squared_error: 22.8094 - val_mean_absolute_percentage_error: 3523945.2500\n",
      "Epoch 31/100\n",
      "778/778 [==============================] - 11s 15ms/step - loss: 16.2841 - mean_absolute_error: 16.2841 - root_mean_squared_error: 22.3195 - mean_absolute_percentage_error: 17554662.0000 - val_loss: 16.8141 - val_mean_absolute_error: 16.8141 - val_root_mean_squared_error: 22.5267 - val_mean_absolute_percentage_error: 3454042.2500\n",
      "Epoch 32/100\n",
      "778/778 [==============================] - 12s 15ms/step - loss: 16.2535 - mean_absolute_error: 16.2535 - root_mean_squared_error: 22.2950 - mean_absolute_percentage_error: 14582107.0000 - val_loss: 16.8928 - val_mean_absolute_error: 16.8928 - val_root_mean_squared_error: 22.6242 - val_mean_absolute_percentage_error: 3463394.0000\n",
      "Epoch 33/100\n",
      "778/778 [==============================] - 11s 15ms/step - loss: 16.2484 - mean_absolute_error: 16.2484 - root_mean_squared_error: 22.2822 - mean_absolute_percentage_error: 12910189.0000 - val_loss: 16.8417 - val_mean_absolute_error: 16.8417 - val_root_mean_squared_error: 22.6287 - val_mean_absolute_percentage_error: 3447834.0000\n",
      "Epoch 34/100\n",
      "778/778 [==============================] - 11s 15ms/step - loss: 16.1905 - mean_absolute_error: 16.1905 - root_mean_squared_error: 22.2150 - mean_absolute_percentage_error: 11195798.0000 - val_loss: 17.0231 - val_mean_absolute_error: 17.0231 - val_root_mean_squared_error: 22.7983 - val_mean_absolute_percentage_error: 3574139.7500\n",
      "Epoch 35/100\n",
      "778/778 [==============================] - 11s 15ms/step - loss: 16.1629 - mean_absolute_error: 16.1629 - root_mean_squared_error: 22.1819 - mean_absolute_percentage_error: 10617613.0000 - val_loss: 17.0405 - val_mean_absolute_error: 17.0405 - val_root_mean_squared_error: 22.7846 - val_mean_absolute_percentage_error: 3343643.5000\n",
      "Epoch 36/100\n",
      "778/778 [==============================] - 11s 14ms/step - loss: 16.1374 - mean_absolute_error: 16.1374 - root_mean_squared_error: 22.1387 - mean_absolute_percentage_error: 9806907.0000 - val_loss: 16.9186 - val_mean_absolute_error: 16.9186 - val_root_mean_squared_error: 22.7050 - val_mean_absolute_percentage_error: 3560568.2500\n",
      "Epoch 37/100\n",
      "778/778 [==============================] - 11s 14ms/step - loss: 16.0940 - mean_absolute_error: 16.0940 - root_mean_squared_error: 22.0835 - mean_absolute_percentage_error: 9220915.0000 - val_loss: 16.8002 - val_mean_absolute_error: 16.8002 - val_root_mean_squared_error: 22.5144 - val_mean_absolute_percentage_error: 3501232.2500\n",
      "Epoch 38/100\n",
      "778/778 [==============================] - 11s 14ms/step - loss: 16.0783 - mean_absolute_error: 16.0783 - root_mean_squared_error: 22.0497 - mean_absolute_percentage_error: 9220667.0000 - val_loss: 16.9063 - val_mean_absolute_error: 16.9063 - val_root_mean_squared_error: 22.6675 - val_mean_absolute_percentage_error: 3423086.5000\n",
      "Epoch 39/100\n",
      "778/778 [==============================] - 11s 14ms/step - loss: 16.0459 - mean_absolute_error: 16.0459 - root_mean_squared_error: 22.0166 - mean_absolute_percentage_error: 9091391.0000 - val_loss: 16.7044 - val_mean_absolute_error: 16.7044 - val_root_mean_squared_error: 22.3724 - val_mean_absolute_percentage_error: 3490250.5000\n",
      "Epoch 40/100\n",
      "778/778 [==============================] - 11s 14ms/step - loss: 16.0043 - mean_absolute_error: 16.0043 - root_mean_squared_error: 21.9707 - mean_absolute_percentage_error: 8952988.0000 - val_loss: 16.6911 - val_mean_absolute_error: 16.6911 - val_root_mean_squared_error: 22.3561 - val_mean_absolute_percentage_error: 3436316.7500\n",
      "Epoch 41/100\n",
      "778/778 [==============================] - 11s 14ms/step - loss: 15.9879 - mean_absolute_error: 15.9879 - root_mean_squared_error: 21.9418 - mean_absolute_percentage_error: 8807526.0000 - val_loss: 17.2199 - val_mean_absolute_error: 17.2199 - val_root_mean_squared_error: 23.0025 - val_mean_absolute_percentage_error: 3548996.2500\n",
      "Epoch 42/100\n",
      "778/778 [==============================] - 12s 15ms/step - loss: 15.9568 - mean_absolute_error: 15.9568 - root_mean_squared_error: 21.9119 - mean_absolute_percentage_error: 8496724.0000 - val_loss: 16.7109 - val_mean_absolute_error: 16.7109 - val_root_mean_squared_error: 22.3270 - val_mean_absolute_percentage_error: 3412314.5000\n",
      "Epoch 43/100\n",
      "778/778 [==============================] - 11s 15ms/step - loss: 15.9408 - mean_absolute_error: 15.9408 - root_mean_squared_error: 21.9072 - mean_absolute_percentage_error: 8703450.0000 - val_loss: 16.6528 - val_mean_absolute_error: 16.6528 - val_root_mean_squared_error: 22.2995 - val_mean_absolute_percentage_error: 3447062.0000\n",
      "Epoch 44/100\n",
      "778/778 [==============================] - 11s 14ms/step - loss: 15.9276 - mean_absolute_error: 15.9276 - root_mean_squared_error: 21.8799 - mean_absolute_percentage_error: 8503151.0000 - val_loss: 16.6358 - val_mean_absolute_error: 16.6358 - val_root_mean_squared_error: 22.2546 - val_mean_absolute_percentage_error: 3427289.5000\n",
      "Epoch 45/100\n",
      "778/778 [==============================] - 11s 14ms/step - loss: 15.8933 - mean_absolute_error: 15.8933 - root_mean_squared_error: 21.8156 - mean_absolute_percentage_error: 8387483.5000 - val_loss: 16.7827 - val_mean_absolute_error: 16.7827 - val_root_mean_squared_error: 22.5050 - val_mean_absolute_percentage_error: 3587131.0000\n",
      "Epoch 46/100\n",
      "778/778 [==============================] - 11s 14ms/step - loss: 15.8776 - mean_absolute_error: 15.8776 - root_mean_squared_error: 21.8010 - mean_absolute_percentage_error: 8253615.0000 - val_loss: 16.6536 - val_mean_absolute_error: 16.6536 - val_root_mean_squared_error: 22.2512 - val_mean_absolute_percentage_error: 3609759.5000\n",
      "Epoch 47/100\n",
      "778/778 [==============================] - 11s 14ms/step - loss: 15.8615 - mean_absolute_error: 15.8615 - root_mean_squared_error: 21.7894 - mean_absolute_percentage_error: 8119605.5000 - val_loss: 16.6568 - val_mean_absolute_error: 16.6568 - val_root_mean_squared_error: 22.2734 - val_mean_absolute_percentage_error: 3435646.7500\n",
      "Epoch 48/100\n",
      "778/778 [==============================] - 11s 14ms/step - loss: 15.8394 - mean_absolute_error: 15.8394 - root_mean_squared_error: 21.7499 - mean_absolute_percentage_error: 8132294.5000 - val_loss: 16.5880 - val_mean_absolute_error: 16.5880 - val_root_mean_squared_error: 22.2398 - val_mean_absolute_percentage_error: 3437024.0000\n"
     ]
    },
    {
     "name": "stdout",
     "output_type": "stream",
     "text": [
      "Epoch 49/100\n",
      "778/778 [==============================] - 11s 14ms/step - loss: 15.8275 - mean_absolute_error: 15.8275 - root_mean_squared_error: 21.7238 - mean_absolute_percentage_error: 7972089.0000 - val_loss: 16.5895 - val_mean_absolute_error: 16.5895 - val_root_mean_squared_error: 22.2370 - val_mean_absolute_percentage_error: 3553722.2500\n",
      "Epoch 50/100\n",
      "778/778 [==============================] - 11s 14ms/step - loss: 15.7906 - mean_absolute_error: 15.7906 - root_mean_squared_error: 21.6821 - mean_absolute_percentage_error: 8171706.5000 - val_loss: 16.8934 - val_mean_absolute_error: 16.8934 - val_root_mean_squared_error: 22.5873 - val_mean_absolute_percentage_error: 3370831.2500\n",
      "Epoch 51/100\n",
      "778/778 [==============================] - 11s 14ms/step - loss: 15.7787 - mean_absolute_error: 15.7787 - root_mean_squared_error: 21.6599 - mean_absolute_percentage_error: 7750351.5000 - val_loss: 16.5688 - val_mean_absolute_error: 16.5688 - val_root_mean_squared_error: 22.1426 - val_mean_absolute_percentage_error: 3317033.7500\n",
      "Epoch 52/100\n",
      "778/778 [==============================] - 11s 14ms/step - loss: 15.7707 - mean_absolute_error: 15.7707 - root_mean_squared_error: 21.6601 - mean_absolute_percentage_error: 7884798.0000 - val_loss: 16.7723 - val_mean_absolute_error: 16.7723 - val_root_mean_squared_error: 22.3621 - val_mean_absolute_percentage_error: 3376738.7500\n",
      "Epoch 53/100\n",
      "778/778 [==============================] - 11s 15ms/step - loss: 15.7373 - mean_absolute_error: 15.7373 - root_mean_squared_error: 21.6252 - mean_absolute_percentage_error: 7925553.0000 - val_loss: 16.6223 - val_mean_absolute_error: 16.6223 - val_root_mean_squared_error: 22.2730 - val_mean_absolute_percentage_error: 3527722.7500\n",
      "Epoch 54/100\n",
      "778/778 [==============================] - 11s 14ms/step - loss: 15.7242 - mean_absolute_error: 15.7242 - root_mean_squared_error: 21.5991 - mean_absolute_percentage_error: 7541367.5000 - val_loss: 16.6187 - val_mean_absolute_error: 16.6187 - val_root_mean_squared_error: 22.2472 - val_mean_absolute_percentage_error: 3404581.2500\n",
      "Epoch 55/100\n",
      "778/778 [==============================] - 11s 14ms/step - loss: 15.6945 - mean_absolute_error: 15.6945 - root_mean_squared_error: 21.5700 - mean_absolute_percentage_error: 7629360.5000 - val_loss: 16.6818 - val_mean_absolute_error: 16.6818 - val_root_mean_squared_error: 22.3369 - val_mean_absolute_percentage_error: 3592996.2500\n",
      "Epoch 56/100\n",
      "778/778 [==============================] - 11s 14ms/step - loss: 15.6839 - mean_absolute_error: 15.6839 - root_mean_squared_error: 21.5506 - mean_absolute_percentage_error: 7498422.0000 - val_loss: 16.6646 - val_mean_absolute_error: 16.6646 - val_root_mean_squared_error: 22.2834 - val_mean_absolute_percentage_error: 3577316.2500\n",
      "Epoch 57/100\n",
      "778/778 [==============================] - 11s 14ms/step - loss: 15.6904 - mean_absolute_error: 15.6904 - root_mean_squared_error: 21.5559 - mean_absolute_percentage_error: 7430056.5000 - val_loss: 16.7414 - val_mean_absolute_error: 16.7414 - val_root_mean_squared_error: 22.3772 - val_mean_absolute_percentage_error: 3290331.7500\n",
      "Epoch 58/100\n",
      "778/778 [==============================] - 11s 14ms/step - loss: 15.6669 - mean_absolute_error: 15.6669 - root_mean_squared_error: 21.5272 - mean_absolute_percentage_error: 7480250.0000 - val_loss: 16.6939 - val_mean_absolute_error: 16.6939 - val_root_mean_squared_error: 22.3266 - val_mean_absolute_percentage_error: 3373195.2500\n",
      "Epoch 59/100\n",
      "778/778 [==============================] - 11s 14ms/step - loss: 15.6489 - mean_absolute_error: 15.6489 - root_mean_squared_error: 21.5048 - mean_absolute_percentage_error: 7365101.5000 - val_loss: 16.6606 - val_mean_absolute_error: 16.6606 - val_root_mean_squared_error: 22.3012 - val_mean_absolute_percentage_error: 3434806.2500\n",
      "Epoch 60/100\n",
      "778/778 [==============================] - 11s 14ms/step - loss: 15.6110 - mean_absolute_error: 15.6110 - root_mean_squared_error: 21.4565 - mean_absolute_percentage_error: 7317468.0000 - val_loss: 16.5867 - val_mean_absolute_error: 16.5867 - val_root_mean_squared_error: 22.1608 - val_mean_absolute_percentage_error: 3350515.7500\n",
      "Epoch 61/100\n",
      "778/778 [==============================] - 11s 14ms/step - loss: 15.5992 - mean_absolute_error: 15.5992 - root_mean_squared_error: 21.4492 - mean_absolute_percentage_error: 7359613.0000 - val_loss: 16.6497 - val_mean_absolute_error: 16.6497 - val_root_mean_squared_error: 22.2164 - val_mean_absolute_percentage_error: 3389373.7500\n",
      "Epoch 62/100\n",
      "778/778 [==============================] - 11s 14ms/step - loss: 15.5982 - mean_absolute_error: 15.5982 - root_mean_squared_error: 21.4364 - mean_absolute_percentage_error: 7064673.5000 - val_loss: 16.5933 - val_mean_absolute_error: 16.5933 - val_root_mean_squared_error: 22.1550 - val_mean_absolute_percentage_error: 3255776.2500\n",
      "Epoch 63/100\n",
      "778/778 [==============================] - 11s 14ms/step - loss: 15.5738 - mean_absolute_error: 15.5738 - root_mean_squared_error: 21.4122 - mean_absolute_percentage_error: 7173375.0000 - val_loss: 16.6276 - val_mean_absolute_error: 16.6276 - val_root_mean_squared_error: 22.2344 - val_mean_absolute_percentage_error: 3354349.0000\n",
      "Epoch 64/100\n",
      "778/778 [==============================] - 11s 14ms/step - loss: 15.5386 - mean_absolute_error: 15.5386 - root_mean_squared_error: 21.3544 - mean_absolute_percentage_error: 6818159.5000 - val_loss: 16.9177 - val_mean_absolute_error: 16.9177 - val_root_mean_squared_error: 22.5615 - val_mean_absolute_percentage_error: 3339393.0000\n",
      "Epoch 65/100\n",
      "778/778 [==============================] - 11s 14ms/step - loss: 15.5169 - mean_absolute_error: 15.5169 - root_mean_squared_error: 21.3421 - mean_absolute_percentage_error: 7029727.5000 - val_loss: 16.7581 - val_mean_absolute_error: 16.7581 - val_root_mean_squared_error: 22.4294 - val_mean_absolute_percentage_error: 3238700.5000\n",
      "Epoch 66/100\n",
      "778/778 [==============================] - 11s 14ms/step - loss: 15.5271 - mean_absolute_error: 15.5271 - root_mean_squared_error: 21.3569 - mean_absolute_percentage_error: 7014549.5000 - val_loss: 16.6296 - val_mean_absolute_error: 16.6296 - val_root_mean_squared_error: 22.2196 - val_mean_absolute_percentage_error: 3299682.7500\n",
      "Epoch 67/100\n",
      "778/778 [==============================] - 11s 14ms/step - loss: 15.4837 - mean_absolute_error: 15.4837 - root_mean_squared_error: 21.3075 - mean_absolute_percentage_error: 6883973.0000 - val_loss: 16.5579 - val_mean_absolute_error: 16.5579 - val_root_mean_squared_error: 22.1267 - val_mean_absolute_percentage_error: 3424274.0000\n",
      "Epoch 68/100\n",
      "778/778 [==============================] - 11s 14ms/step - loss: 15.4612 - mean_absolute_error: 15.4612 - root_mean_squared_error: 21.2773 - mean_absolute_percentage_error: 6963822.5000 - val_loss: 16.6619 - val_mean_absolute_error: 16.6619 - val_root_mean_squared_error: 22.2935 - val_mean_absolute_percentage_error: 3383172.7500\n",
      "Epoch 69/100\n",
      "778/778 [==============================] - 11s 14ms/step - loss: 15.4810 - mean_absolute_error: 15.4810 - root_mean_squared_error: 21.3045 - mean_absolute_percentage_error: 6888554.0000 - val_loss: 16.5935 - val_mean_absolute_error: 16.5935 - val_root_mean_squared_error: 22.1715 - val_mean_absolute_percentage_error: 3430761.7500\n",
      "Epoch 70/100\n",
      "778/778 [==============================] - 11s 14ms/step - loss: 15.4430 - mean_absolute_error: 15.4430 - root_mean_squared_error: 21.2564 - mean_absolute_percentage_error: 6806954.0000 - val_loss: 16.6537 - val_mean_absolute_error: 16.6537 - val_root_mean_squared_error: 22.2607 - val_mean_absolute_percentage_error: 3306818.0000\n",
      "Epoch 71/100\n",
      "778/778 [==============================] - 11s 14ms/step - loss: 15.4054 - mean_absolute_error: 15.4054 - root_mean_squared_error: 21.2063 - mean_absolute_percentage_error: 6856055.0000 - val_loss: 16.7030 - val_mean_absolute_error: 16.7030 - val_root_mean_squared_error: 22.3236 - val_mean_absolute_percentage_error: 3180398.5000\n",
      "Epoch 72/100\n",
      "778/778 [==============================] - 11s 14ms/step - loss: 15.4000 - mean_absolute_error: 15.4000 - root_mean_squared_error: 21.1990 - mean_absolute_percentage_error: 6731010.0000 - val_loss: 16.5238 - val_mean_absolute_error: 16.5238 - val_root_mean_squared_error: 22.0984 - val_mean_absolute_percentage_error: 3303026.7500\n"
     ]
    },
    {
     "name": "stdout",
     "output_type": "stream",
     "text": [
      "Epoch 73/100\n",
      "778/778 [==============================] - 11s 14ms/step - loss: 15.3950 - mean_absolute_error: 15.3950 - root_mean_squared_error: 21.1963 - mean_absolute_percentage_error: 6717398.0000 - val_loss: 16.5505 - val_mean_absolute_error: 16.5505 - val_root_mean_squared_error: 22.0986 - val_mean_absolute_percentage_error: 3319599.5000\n",
      "Epoch 74/100\n",
      "778/778 [==============================] - 11s 14ms/step - loss: 15.3524 - mean_absolute_error: 15.3524 - root_mean_squared_error: 21.1484 - mean_absolute_percentage_error: 6690110.0000 - val_loss: 16.9742 - val_mean_absolute_error: 16.9742 - val_root_mean_squared_error: 22.6662 - val_mean_absolute_percentage_error: 3236369.5000\n",
      "Epoch 75/100\n",
      "778/778 [==============================] - 11s 14ms/step - loss: 15.3401 - mean_absolute_error: 15.3401 - root_mean_squared_error: 21.1223 - mean_absolute_percentage_error: 6582946.5000 - val_loss: 16.5871 - val_mean_absolute_error: 16.5871 - val_root_mean_squared_error: 22.1420 - val_mean_absolute_percentage_error: 3384606.2500\n",
      "Epoch 76/100\n",
      "778/778 [==============================] - 11s 14ms/step - loss: 15.3078 - mean_absolute_error: 15.3078 - root_mean_squared_error: 21.0843 - mean_absolute_percentage_error: 6713152.0000 - val_loss: 16.9027 - val_mean_absolute_error: 16.9027 - val_root_mean_squared_error: 22.4934 - val_mean_absolute_percentage_error: 3127223.5000\n",
      "Epoch 77/100\n",
      "778/778 [==============================] - 11s 14ms/step - loss: 15.3371 - mean_absolute_error: 15.3371 - root_mean_squared_error: 21.1292 - mean_absolute_percentage_error: 6514357.5000 - val_loss: 16.6230 - val_mean_absolute_error: 16.6230 - val_root_mean_squared_error: 22.2386 - val_mean_absolute_percentage_error: 3393144.5000\n",
      "Epoch 78/100\n",
      "778/778 [==============================] - 11s 14ms/step - loss: 15.2811 - mean_absolute_error: 15.2811 - root_mean_squared_error: 21.0637 - mean_absolute_percentage_error: 6487037.0000 - val_loss: 16.5964 - val_mean_absolute_error: 16.5964 - val_root_mean_squared_error: 22.1453 - val_mean_absolute_percentage_error: 3149706.0000\n",
      "Epoch 79/100\n",
      "778/778 [==============================] - 11s 14ms/step - loss: 15.2820 - mean_absolute_error: 15.2820 - root_mean_squared_error: 21.0622 - mean_absolute_percentage_error: 6446126.5000 - val_loss: 16.5613 - val_mean_absolute_error: 16.5613 - val_root_mean_squared_error: 22.1061 - val_mean_absolute_percentage_error: 3243049.2500\n",
      "Epoch 80/100\n",
      "778/778 [==============================] - 11s 14ms/step - loss: 15.2653 - mean_absolute_error: 15.2653 - root_mean_squared_error: 21.0481 - mean_absolute_percentage_error: 6527444.0000 - val_loss: 16.7085 - val_mean_absolute_error: 16.7085 - val_root_mean_squared_error: 22.2839 - val_mean_absolute_percentage_error: 3265102.2500\n",
      "Epoch 81/100\n",
      "778/778 [==============================] - 11s 14ms/step - loss: 15.2395 - mean_absolute_error: 15.2395 - root_mean_squared_error: 21.0008 - mean_absolute_percentage_error: 6388581.5000 - val_loss: 16.9743 - val_mean_absolute_error: 16.9743 - val_root_mean_squared_error: 22.6096 - val_mean_absolute_percentage_error: 3241888.7500\n",
      "Epoch 82/100\n",
      "778/778 [==============================] - 11s 14ms/step - loss: 15.2050 - mean_absolute_error: 15.2050 - root_mean_squared_error: 20.9718 - mean_absolute_percentage_error: 6432062.0000 - val_loss: 16.7468 - val_mean_absolute_error: 16.7468 - val_root_mean_squared_error: 22.3182 - val_mean_absolute_percentage_error: 3246312.2500\n",
      "Epoch 83/100\n",
      "778/778 [==============================] - 11s 14ms/step - loss: 15.2001 - mean_absolute_error: 15.2001 - root_mean_squared_error: 20.9625 - mean_absolute_percentage_error: 6434700.5000 - val_loss: 16.8168 - val_mean_absolute_error: 16.8168 - val_root_mean_squared_error: 22.4312 - val_mean_absolute_percentage_error: 3410567.7500\n",
      "Epoch 84/100\n",
      "778/778 [==============================] - 11s 14ms/step - loss: 15.1812 - mean_absolute_error: 15.1812 - root_mean_squared_error: 20.9392 - mean_absolute_percentage_error: 6369281.0000 - val_loss: 16.6647 - val_mean_absolute_error: 16.6647 - val_root_mean_squared_error: 22.2505 - val_mean_absolute_percentage_error: 3229117.7500\n",
      "Epoch 85/100\n",
      "778/778 [==============================] - 11s 14ms/step - loss: 15.1628 - mean_absolute_error: 15.1628 - root_mean_squared_error: 20.9173 - mean_absolute_percentage_error: 6395594.0000 - val_loss: 16.6242 - val_mean_absolute_error: 16.6242 - val_root_mean_squared_error: 22.1682 - val_mean_absolute_percentage_error: 3150532.5000\n",
      "Epoch 86/100\n",
      "778/778 [==============================] - 11s 14ms/step - loss: 15.1362 - mean_absolute_error: 15.1362 - root_mean_squared_error: 20.8942 - mean_absolute_percentage_error: 6132205.5000 - val_loss: 16.6713 - val_mean_absolute_error: 16.6713 - val_root_mean_squared_error: 22.2403 - val_mean_absolute_percentage_error: 3355099.2500\n",
      "Epoch 87/100\n",
      "778/778 [==============================] - 11s 14ms/step - loss: 15.1111 - mean_absolute_error: 15.1111 - root_mean_squared_error: 20.8652 - mean_absolute_percentage_error: 6316298.5000 - val_loss: 16.7027 - val_mean_absolute_error: 16.7027 - val_root_mean_squared_error: 22.2662 - val_mean_absolute_percentage_error: 3441079.2500\n",
      "Epoch 88/100\n",
      "778/778 [==============================] - 11s 14ms/step - loss: 15.0963 - mean_absolute_error: 15.0963 - root_mean_squared_error: 20.8387 - mean_absolute_percentage_error: 6295900.5000 - val_loss: 16.6719 - val_mean_absolute_error: 16.6719 - val_root_mean_squared_error: 22.2527 - val_mean_absolute_percentage_error: 3169234.2500\n",
      "Epoch 89/100\n",
      "778/778 [==============================] - 11s 14ms/step - loss: 15.0865 - mean_absolute_error: 15.0865 - root_mean_squared_error: 20.8433 - mean_absolute_percentage_error: 6164170.0000 - val_loss: 16.7259 - val_mean_absolute_error: 16.7259 - val_root_mean_squared_error: 22.3192 - val_mean_absolute_percentage_error: 3293521.5000\n",
      "Epoch 90/100\n",
      "778/778 [==============================] - 11s 14ms/step - loss: 15.0645 - mean_absolute_error: 15.0645 - root_mean_squared_error: 20.8046 - mean_absolute_percentage_error: 6198123.5000 - val_loss: 16.6090 - val_mean_absolute_error: 16.6090 - val_root_mean_squared_error: 22.1454 - val_mean_absolute_percentage_error: 3242537.7500\n",
      "Epoch 91/100\n",
      "778/778 [==============================] - 11s 14ms/step - loss: 15.0612 - mean_absolute_error: 15.0612 - root_mean_squared_error: 20.7910 - mean_absolute_percentage_error: 6028594.5000 - val_loss: 16.6376 - val_mean_absolute_error: 16.6376 - val_root_mean_squared_error: 22.1782 - val_mean_absolute_percentage_error: 3371872.5000\n",
      "Epoch 92/100\n",
      "778/778 [==============================] - 11s 14ms/step - loss: 15.0175 - mean_absolute_error: 15.0175 - root_mean_squared_error: 20.7623 - mean_absolute_percentage_error: 6150499.5000 - val_loss: 16.8560 - val_mean_absolute_error: 16.8560 - val_root_mean_squared_error: 22.4475 - val_mean_absolute_percentage_error: 3307052.0000\n",
      "Epoch 93/100\n",
      "778/778 [==============================] - 10s 13ms/step - loss: 14.9972 - mean_absolute_error: 14.9972 - root_mean_squared_error: 20.7333 - mean_absolute_percentage_error: 5938269.5000 - val_loss: 16.7064 - val_mean_absolute_error: 16.7064 - val_root_mean_squared_error: 22.3234 - val_mean_absolute_percentage_error: 3257267.0000\n",
      "Epoch 94/100\n",
      "778/778 [==============================] - 10s 13ms/step - loss: 14.9995 - mean_absolute_error: 14.9995 - root_mean_squared_error: 20.7414 - mean_absolute_percentage_error: 5991888.0000 - val_loss: 16.7497 - val_mean_absolute_error: 16.7497 - val_root_mean_squared_error: 22.3443 - val_mean_absolute_percentage_error: 3170354.5000\n",
      "Epoch 95/100\n",
      "778/778 [==============================] - 11s 14ms/step - loss: 14.9716 - mean_absolute_error: 14.9716 - root_mean_squared_error: 20.7052 - mean_absolute_percentage_error: 6049104.0000 - val_loss: 16.6692 - val_mean_absolute_error: 16.6692 - val_root_mean_squared_error: 22.2317 - val_mean_absolute_percentage_error: 3185437.7500\n",
      "Epoch 96/100\n",
      "778/778 [==============================] - 11s 14ms/step - loss: 14.9495 - mean_absolute_error: 14.9495 - root_mean_squared_error: 20.6831 - mean_absolute_percentage_error: 6071153.0000 - val_loss: 16.8446 - val_mean_absolute_error: 16.8446 - val_root_mean_squared_error: 22.4123 - val_mean_absolute_percentage_error: 3258218.2500\n"
     ]
    },
    {
     "name": "stdout",
     "output_type": "stream",
     "text": [
      "Epoch 97/100\n",
      "778/778 [==============================] - 11s 14ms/step - loss: 14.9360 - mean_absolute_error: 14.9360 - root_mean_squared_error: 20.6617 - mean_absolute_percentage_error: 6141996.5000 - val_loss: 16.6924 - val_mean_absolute_error: 16.6924 - val_root_mean_squared_error: 22.2188 - val_mean_absolute_percentage_error: 3243435.7500\n",
      "Epoch 98/100\n",
      "778/778 [==============================] - 11s 14ms/step - loss: 14.9009 - mean_absolute_error: 14.9009 - root_mean_squared_error: 20.6294 - mean_absolute_percentage_error: 6053773.5000 - val_loss: 16.6619 - val_mean_absolute_error: 16.6619 - val_root_mean_squared_error: 22.2038 - val_mean_absolute_percentage_error: 3293648.7500\n",
      "Epoch 99/100\n",
      "778/778 [==============================] - 11s 14ms/step - loss: 14.8772 - mean_absolute_error: 14.8772 - root_mean_squared_error: 20.5923 - mean_absolute_percentage_error: 5905819.0000 - val_loss: 16.9504 - val_mean_absolute_error: 16.9504 - val_root_mean_squared_error: 22.6383 - val_mean_absolute_percentage_error: 3152952.7500\n",
      "Epoch 100/100\n",
      "778/778 [==============================] - 11s 14ms/step - loss: 14.8728 - mean_absolute_error: 14.8728 - root_mean_squared_error: 20.5950 - mean_absolute_percentage_error: 5816295.0000 - val_loss: 16.6665 - val_mean_absolute_error: 16.6665 - val_root_mean_squared_error: 22.1693 - val_mean_absolute_percentage_error: 3246068.2500\n"
     ]
    },
    {
     "data": {
      "text/plain": [
       "<keras.callbacks.History at 0x22dda61b580>"
      ]
     },
     "execution_count": 34,
     "metadata": {},
     "output_type": "execute_result"
    }
   ],
   "source": [
    "model5.fit((Wt5,Xt5), yt5, validation_split = val_percent,\n",
    "           epochs = 100, \n",
    "           verbose = 1)"
   ]
  },
  {
   "cell_type": "code",
   "execution_count": 35,
   "metadata": {},
   "outputs": [],
   "source": [
    "metrics5 = pd.DataFrame(model5.history.history)"
   ]
  },
  {
   "cell_type": "code",
   "execution_count": 36,
   "metadata": {},
   "outputs": [],
   "source": [
    "# Copy the 'metrics5' DataFrame to avoid modifying the original data\n",
    "normalized_metrics5 = metrics5.copy()\n",
    "\n",
    "# Define the columns to be normalized\n",
    "columns_to_normalize = ['loss', 'val_loss']\n",
    "\n",
    "# Perform min-max normalization on the selected columns\n",
    "for column in columns_to_normalize:\n",
    "    min_val = metrics5[column].min()\n",
    "    max_val = metrics5[column].max()\n",
    "    normalized_metrics5[column] = (metrics5[column] - min_val) / (max_val - min_val)"
   ]
  },
  {
   "cell_type": "code",
   "execution_count": 37,
   "metadata": {},
   "outputs": [
    {
     "data": {
      "image/png": "[encoded data removed]",
      "text/plain": [
       "<Figure size 400x400 with 1 Axes>"
      ]
     },
     "metadata": {},
     "output_type": "display_data"
    }
   ],
   "source": [
    "fig, axes = plt.subplots(figsize=(4,4))\n",
    "\n",
    "# Add set of axes to figure\n",
    "axes.set_yscale('log')\n",
    "axes.plot(metrics5[['loss','val_loss']], label=['train_loss','val_loss'], lw=4)\n",
    "\n",
    "axes.set_xlabel('Epoch')\n",
    "axes.set_ylabel('Loss')\n",
    "axes.grid()\n",
    "\n",
    "#mark_inset(axes, axes2, loc1=2, loc2=4, fc=\"0.9\", ec=\"0.1\", ls='--')\n",
    "#axes.yaxis.set_major_formatter(formatter)"
   ]
  },
  {
   "cell_type": "code",
   "execution_count": 38,
   "metadata": {},
   "outputs": [
    {
     "data": {
      "image/png": "[encoded data removed]",
      "text/plain": [
       "<Figure size 600x400 with 1 Axes>"
      ]
     },
     "metadata": {},
     "output_type": "display_data"
    }
   ],
   "source": [
    "fig = plt.figure(figsize=(6,4))\n",
    "\n",
    "# Add set of axes to figure\n",
    "axes = fig.add_axes([0, 0, 1, 1]) \n",
    "axes.plot(normalized_metrics5[['loss','val_loss']], label=['train_loss','val_loss'], lw=4)\n",
    "\n",
    "axes.set_xlabel('Epoch')\n",
    "axes.set_ylabel('Loss')\n",
    "axes.grid()"
   ]
  },
  {
   "cell_type": "code",
   "execution_count": 95,
   "metadata": {},
   "outputs": [
    {
     "data": {
      "text/plain": [
       "(<mpl_toolkits.axes_grid1.inset_locator.BboxPatch at 0x271f45ddc10>,\n",
       " <mpl_toolkits.axes_grid1.inset_locator.BboxConnector at 0x271f4635f40>,\n",
       " <mpl_toolkits.axes_grid1.inset_locator.BboxConnector at 0x271f46358b0>)"
      ]
     },
     "execution_count": 95,
     "metadata": {},
     "output_type": "execute_result"
    },
    {
     "data": {
      "image/png": "[encoded data removed]",
      "text/plain": [
       "<Figure size 432x288 with 2 Axes>"
      ]
     },
     "metadata": {
      "needs_background": "light"
     },
     "output_type": "display_data"
    }
   ],
   "source": [
    "fig = plt.figure(figsize=(6,4))\n",
    "\n",
    "# Add set of axes to figure\n",
    "axes = fig.add_axes([0, 0, 1, 1]) \n",
    "axes2 = fig.add_axes([0.35, 0.45, 0.5, 0.5]) # Smaller figure\n",
    "axes.plot(metrics5[['loss','val_loss']], label=['train_loss','val_loss'], lw=4)\n",
    "axes.set_ylim(10,60)\n",
    "\n",
    "axes2.plot(metrics5[['loss','val_loss']], lw=4)\n",
    "axes2.set_xlim(0,20)\n",
    "axes2.set_ylim(15,35)\n",
    "#plt.xticks(visible=False)\n",
    "plt.yticks(visible=False)\n",
    "\n",
    "axes.set_xlabel('Epoch')\n",
    "axes.set_ylabel('Loss')\n",
    "axes.grid()\n",
    "axes2.grid()\n",
    "\n",
    "mark_inset(axes, axes2, loc1=2, loc2=4, fc=\"0.9\", ec=\"0.1\", ls='--')\n",
    "#axes.yaxis.set_major_formatter(formatter)"
   ]
  },
  {
   "cell_type": "code",
   "execution_count": 39,
   "metadata": {},
   "outputs": [
    {
     "name": "stderr",
     "output_type": "stream",
     "text": [
      "WARNING:absl:Function `_wrapped_model` contains input name(s) WideInput, DeepInput with unsupported characters which will be renamed to wideinput, deepinput in the SavedModel.\n",
      "WARNING:absl:Found untraced functions such as lstm_cell_7_layer_call_fn, lstm_cell_7_layer_call_and_return_conditional_losses, lstm_cell_5_layer_call_fn, lstm_cell_5_layer_call_and_return_conditional_losses, lstm_cell_6_layer_call_fn while saving (showing 5 of 15). These functions will not be directly callable after loading.\n"
     ]
    },
    {
     "name": "stdout",
     "output_type": "stream",
     "text": [
      "INFO:tensorflow:Assets written to: my_dir/8b-5\\assets\n"
     ]
    },
    {
     "name": "stderr",
     "output_type": "stream",
     "text": [
      "INFO:tensorflow:Assets written to: my_dir/8b-5\\assets\n",
      "WARNING:absl:<keras.layers.recurrent.LSTMCell object at 0x0000024439414A30> has the same name 'LSTMCell' as a built-in Keras object. Consider renaming <class 'keras.layers.recurrent.LSTMCell'> to avoid naming conflicts when loading with `tf.keras.models.load_model`. If renaming is not possible, pass the object in the `custom_objects` parameter of the load function.\n",
      "WARNING:absl:<keras.layers.recurrent.LSTMCell object at 0x00000244311AE640> has the same name 'LSTMCell' as a built-in Keras object. Consider renaming <class 'keras.layers.recurrent.LSTMCell'> to avoid naming conflicts when loading with `tf.keras.models.load_model`. If renaming is not possible, pass the object in the `custom_objects` parameter of the load function.\n",
      "WARNING:absl:<keras.layers.recurrent.LSTMCell object at 0x00000244311AEFA0> has the same name 'LSTMCell' as a built-in Keras object. Consider renaming <class 'keras.layers.recurrent.LSTMCell'> to avoid naming conflicts when loading with `tf.keras.models.load_model`. If renaming is not possible, pass the object in the `custom_objects` parameter of the load function.\n"
     ]
    }
   ],
   "source": [
    "model5.save(\"my_dir/8b-5\")"
   ]
  },
  {
   "cell_type": "code",
   "execution_count": 42,
   "metadata": {},
   "outputs": [],
   "source": [
    "model5 = keras.models.load_model(\"my_dir/8b-5\") "
   ]
  },
  {
   "cell_type": "code",
   "execution_count": 43,
   "metadata": {},
   "outputs": [
    {
     "data": {
      "text/plain": [
       "array([[ 67.33616 ,  70.109924,  76.0989  , ...,  72.10715 ,  50.366325,\n",
       "         49.83793 ],\n",
       "       [ 63.753674,  69.12559 ,  71.210434, ...,  71.90302 ,  51.602993,\n",
       "         51.32875 ],\n",
       "       [ 54.48291 ,  59.747673,  59.6719  , ...,  63.21664 ,  44.791904,\n",
       "         48.401367],\n",
       "       ...,\n",
       "       [137.70728 , 142.93764 , 152.68198 , ..., 151.0364  ,  99.28506 ,\n",
       "         89.525276],\n",
       "       [120.54009 , 126.09259 , 133.04842 , ..., 120.427284,  82.956696,\n",
       "         75.78065 ],\n",
       "       [118.93113 , 124.605835, 133.59947 , ..., 133.56564 ,  92.18956 ,\n",
       "         84.57512 ]], dtype=float32)"
      ]
     },
     "execution_count": 43,
     "metadata": {},
     "output_type": "execute_result"
    }
   ],
   "source": [
    "model5.predict((Wv5,Xv5))"
   ]
  },
  {
   "cell_type": "markdown",
   "metadata": {},
   "source": [
    "### Evaluation on inverse_transform"
   ]
  },
  {
   "cell_type": "code",
   "execution_count": null,
   "metadata": {},
   "outputs": [],
   "source": [
    "test_predictions5 = model5.predict((Wv5,Xv5))\n",
    "\n",
    "\n",
    "MSE5 = mean_squared_error(yv5,test_predictions5)\n",
    "\n",
    "MAE5 = mean_absolute_error(yv5,test_predictions5)\n",
    "\n",
    "RMSE5 = np.sqrt(MSE5)\n",
    "\n",
    "MAPE5 = mean_absolute_percentage_error(yv5,test_predictions5)*100\n",
    "\n",
    "eval5 = [MSE5, MAE5, RMSE5, MAPE5]\n",
    "print(eval5)"
   ]
  },
  {
   "cell_type": "code",
   "execution_count": null,
   "metadata": {},
   "outputs": [],
   "source": [
    "GEH, count = ga.GEH(np.asarray(yv5), np.asarray(test_predictions5))\n",
    "GEH5 = count/GEH.size\n",
    "print(GEH5)"
   ]
  },
  {
   "cell_type": "markdown",
   "metadata": {},
   "source": [
    "# 15 mins ahead"
   ]
  },
  {
   "cell_type": "code",
   "execution_count": 38,
   "metadata": {},
   "outputs": [],
   "source": [
    "def build_model_15(hp):\n",
    "    # Inputs\n",
    "    channel_Wide = keras.layers.Input(shape=Wt15.shape[1:], name=\"WideInput\")\n",
    "    channel_Deep = keras.layers.Input(shape=Xt15.shape[1:], name=\"DeepInput\")\n",
    "    units = hp.Int(\"units\", min_value=1, max_value=100, step=1)\n",
    "    \n",
    "    \n",
    "    # Wide Model\n",
    "    flatten_15w = keras.layers.TimeDistributed(keras.layers.Flatten())(channel_Wide)\n",
    "    Bi_15 = keras.layers.Bidirectional(\n",
    "        keras.layers.LSTM(units=units, return_sequences=True),\n",
    "        merge_mode=\"ave\"\n",
    "    )(flatten_15w)\n",
    "    \n",
    "    \n",
    "    # Deep Model\n",
    "    # CNN \n",
    "    CNN_15 = keras.layers.TimeDistributed(\n",
    "        keras.layers.Conv2D(filters=hp.Int(\"filters\", min_value=32, max_value=512, step=32),\n",
    "                            kernel_size=hp.Choice(\"kernel_size\", [2, 3]), activation='relu'))(channel_Deep)\n",
    "    flatten_15 = keras.layers.TimeDistributed(keras.layers.Flatten())(CNN_15)\n",
    "    # LSTM          \n",
    "    LSTM_15 = keras.layers.LSTM(units=units, return_sequences=True)(flatten_15)\n",
    "\n",
    "    \n",
    "    # Concatenation \n",
    "    concat = keras.layers.concatenate([Bi_15, LSTM_15], axis=1)\n",
    "\n",
    "    # Attention\n",
    "    Att_15 = SeqSelfAttention(attention_activation='sigmoid')(concat)\n",
    "    merge = keras.layers.Flatten()(Att_15)\n",
    "\n",
    "    \n",
    "    # Output\n",
    "    output = keras.layers.Dense(n_features, name= \"output\")(merge)\n",
    "    \n",
    "    # Model\n",
    "    model_15 = keras.Model(inputs=[channel_Wide,channel_Deep], outputs=[output])\n",
    "\n",
    "    # Compile\n",
    "    model_15.compile(optimizer=keras.optimizers.Adam(hp.Choice(\"learning_rate\", [1e-2, 1e-3, 1e-4])), \n",
    "        loss=\"mae\", metrics=['MeanAbsoluteError','RootMeanSquaredError','MeanAbsolutePercentageError'])\n",
    "                    \n",
    "    return model_15"
   ]
  },
  {
   "cell_type": "code",
   "execution_count": 39,
   "metadata": {},
   "outputs": [
    {
     "name": "stdout",
     "output_type": "stream",
     "text": [
      "INFO:tensorflow:Reloading Oracle from existing project C:\\Runs\\8b-15\\oracle.json\n",
      "INFO:tensorflow:Reloading Tuner from C:\\Runs\\8b-15\\tuner0.json\n"
     ]
    }
   ],
   "source": [
    "tuner15 = RandomSearch(\n",
    "    build_model_15,\n",
    "    objective=\"val_loss\",\n",
    "    max_trials=60,\n",
    "    executions_per_trial=2,\n",
    "    overwrite=False,\n",
    "    directory=os.path.normpath('C:/Runs'),\n",
    "    project_name=\"8b-15\",\n",
    ")"
   ]
  },
  {
   "cell_type": "code",
   "execution_count": 48,
   "metadata": {},
   "outputs": [
    {
     "name": "stdout",
     "output_type": "stream",
     "text": [
      "Search space summary\n",
      "Default search space size: 4\n",
      "units (Int)\n",
      "{'default': None, 'conditions': [], 'min_value': 1, 'max_value': 100, 'step': 1, 'sampling': None}\n",
      "filters (Int)\n",
      "{'default': None, 'conditions': [], 'min_value': 32, 'max_value': 512, 'step': 32, 'sampling': None}\n",
      "kernel_size (Choice)\n",
      "{'default': 2, 'conditions': [], 'values': [2, 3], 'ordered': True}\n",
      "learning_rate (Choice)\n",
      "{'default': 0.01, 'conditions': [], 'values': [0.01, 0.001, 0.0001], 'ordered': True}\n"
     ]
    }
   ],
   "source": [
    "tuner15.search_space_summary()"
   ]
  },
  {
   "cell_type": "code",
   "execution_count": 49,
   "metadata": {},
   "outputs": [
    {
     "name": "stdout",
     "output_type": "stream",
     "text": [
      "Trial 60 Complete [00h 30m 24s]\n",
      "val_loss: 18.9698543548584\n",
      "\n",
      "Best val_loss So Far: 18.628114700317383\n",
      "Total elapsed time: 18h 58m 31s\n",
      "INFO:tensorflow:Oracle triggered exit\n"
     ]
    },
    {
     "name": "stderr",
     "output_type": "stream",
     "text": [
      "INFO:tensorflow:Oracle triggered exit\n"
     ]
    }
   ],
   "source": [
    "tuner15.search((Wt15,Xt15), yt15, epochs=200,\n",
    "            validation_split = val_percent,\n",
    "            callbacks=[early_stop], \n",
    "            verbose=2)"
   ]
  },
  {
   "cell_type": "code",
   "execution_count": 50,
   "metadata": {},
   "outputs": [
    {
     "name": "stdout",
     "output_type": "stream",
     "text": [
      "Results summary\n",
      "Results in C:\\Runs\\8b-15\n",
      "Showing 1 best trials\n",
      "Objective(name='val_loss', direction='min')\n",
      "Trial summary\n",
      "Hyperparameters:\n",
      "units: 86\n",
      "filters: 384\n",
      "kernel_size: 2\n",
      "learning_rate: 0.0001\n",
      "Score: 18.628114700317383\n"
     ]
    }
   ],
   "source": [
    "tuner15.results_summary(1)"
   ]
  },
  {
   "cell_type": "markdown",
   "metadata": {},
   "source": [
    "### Best model"
   ]
  },
  {
   "cell_type": "code",
   "execution_count": 40,
   "metadata": {},
   "outputs": [],
   "source": [
    "scaler_filename = \"Best_HP/8b-15\"\n",
    "best_hp15 = joblib.load(scaler_filename) \n",
    "\n",
    "model15 = tuner15.hypermodel.build(best_hp15)"
   ]
  },
  {
   "cell_type": "code",
   "execution_count": 51,
   "metadata": {},
   "outputs": [],
   "source": [
    "best_hp15 = tuner15.get_best_hyperparameters()[0]\n",
    "model15 = tuner15.hypermodel.build(best_hp15)"
   ]
  },
  {
   "cell_type": "code",
   "execution_count": 52,
   "metadata": {},
   "outputs": [
    {
     "data": {
      "text/plain": [
       "['Best_HP/8b-15']"
      ]
     },
     "execution_count": 52,
     "metadata": {},
     "output_type": "execute_result"
    }
   ],
   "source": [
    "scaler_filename = \"Best_HP/8b-15\"\n",
    "joblib.dump(best_hp15, scaler_filename) "
   ]
  },
  {
   "cell_type": "code",
   "execution_count": 53,
   "metadata": {},
   "outputs": [
    {
     "name": "stdout",
     "output_type": "stream",
     "text": [
      "Model: \"model_1\"\n",
      "__________________________________________________________________________________________________\n",
      " Layer (type)                   Output Shape         Param #     Connected to                     \n",
      "==================================================================================================\n",
      " DeepInput (InputLayer)         [(None, 3, 5, 7, 1)  0           []                               \n",
      "                                ]                                                                 \n",
      "                                                                                                  \n",
      " WideInput (InputLayer)         [(None, 3, 3, 7)]    0           []                               \n",
      "                                                                                                  \n",
      " time_distributed_4 (TimeDistri  (None, 3, 4, 6, 384  1920       ['DeepInput[0][0]']              \n",
      " buted)                         )                                                                 \n",
      "                                                                                                  \n",
      " time_distributed_3 (TimeDistri  (None, 3, 21)       0           ['WideInput[0][0]']              \n",
      " buted)                                                                                           \n",
      "                                                                                                  \n",
      " time_distributed_5 (TimeDistri  (None, 3, 9216)     0           ['time_distributed_4[0][0]']     \n",
      " buted)                                                                                           \n",
      "                                                                                                  \n",
      " bidirectional_1 (Bidirectional  (None, 3, 86)       74304       ['time_distributed_3[0][0]']     \n",
      " )                                                                                                \n",
      "                                                                                                  \n",
      " lstm_3 (LSTM)                  (None, 3, 86)        3200232     ['time_distributed_5[0][0]']     \n",
      "                                                                                                  \n",
      " concatenate_1 (Concatenate)    (None, 6, 86)        0           ['bidirectional_1[0][0]',        \n",
      "                                                                  'lstm_3[0][0]']                 \n",
      "                                                                                                  \n",
      " seq_self_attention_1 (SeqSelfA  (None, 6, 86)       5569        ['concatenate_1[0][0]']          \n",
      " ttention)                                                                                        \n",
      "                                                                                                  \n",
      " flatten_5 (Flatten)            (None, 516)          0           ['seq_self_attention_1[0][0]']   \n",
      "                                                                                                  \n",
      " output (Dense)                 (None, 7)            3619        ['flatten_5[0][0]']              \n",
      "                                                                                                  \n",
      "==================================================================================================\n",
      "Total params: 3,285,644\n",
      "Trainable params: 3,285,644\n",
      "Non-trainable params: 0\n",
      "__________________________________________________________________________________________________\n"
     ]
    }
   ],
   "source": [
    "model15.summary()"
   ]
  },
  {
   "cell_type": "code",
   "execution_count": 41,
   "metadata": {},
   "outputs": [
    {
     "name": "stdout",
     "output_type": "stream",
     "text": [
      "Epoch 1/100\n",
      "778/778 [==============================] - 19s 17ms/step - loss: 196.5396 - mean_absolute_error: 196.5396 - root_mean_squared_error: 227.8263 - mean_absolute_percentage_error: 16183299.0000 - val_loss: 180.2424 - val_mean_absolute_error: 180.2424 - val_root_mean_squared_error: 210.2101 - val_mean_absolute_percentage_error: 2538065.0000\n",
      "Epoch 2/100\n",
      "778/778 [==============================] - 12s 16ms/step - loss: 159.3567 - mean_absolute_error: 159.3567 - root_mean_squared_error: 193.3197 - mean_absolute_percentage_error: 48272544.0000 - val_loss: 148.2944 - val_mean_absolute_error: 148.2944 - val_root_mean_squared_error: 179.3820 - val_mean_absolute_percentage_error: 4896288.0000\n",
      "Epoch 3/100\n",
      "778/778 [==============================] - 12s 16ms/step - loss: 132.2959 - mean_absolute_error: 132.2959 - root_mean_squared_error: 165.6469 - mean_absolute_percentage_error: 57132912.0000 - val_loss: 120.1814 - val_mean_absolute_error: 120.1814 - val_root_mean_squared_error: 151.1195 - val_mean_absolute_percentage_error: 2625830.7500\n",
      "Epoch 4/100\n",
      "778/778 [==============================] - 12s 16ms/step - loss: 105.7403 - mean_absolute_error: 105.7403 - root_mean_squared_error: 138.0999 - mean_absolute_percentage_error: 47611140.0000 - val_loss: 95.2531 - val_mean_absolute_error: 95.2531 - val_root_mean_squared_error: 124.5489 - val_mean_absolute_percentage_error: 2547532.7500\n",
      "Epoch 5/100\n",
      "778/778 [==============================] - 12s 16ms/step - loss: 83.6596 - mean_absolute_error: 83.6596 - root_mean_squared_error: 113.5169 - mean_absolute_percentage_error: 47206948.0000 - val_loss: 74.1956 - val_mean_absolute_error: 74.1956 - val_root_mean_squared_error: 101.1076 - val_mean_absolute_percentage_error: 2716893.7500\n",
      "Epoch 6/100\n",
      "778/778 [==============================] - 12s 16ms/step - loss: 65.0958 - mean_absolute_error: 65.0958 - root_mean_squared_error: 92.0531 - mean_absolute_percentage_error: 48524712.0000 - val_loss: 56.8261 - val_mean_absolute_error: 56.8261 - val_root_mean_squared_error: 80.8680 - val_mean_absolute_percentage_error: 2805654.2500\n",
      "Epoch 7/100\n",
      "778/778 [==============================] - 12s 16ms/step - loss: 50.0531 - mean_absolute_error: 50.0531 - root_mean_squared_error: 73.7426 - mean_absolute_percentage_error: 50393296.0000 - val_loss: 43.5769 - val_mean_absolute_error: 43.5769 - val_root_mean_squared_error: 64.3815 - val_mean_absolute_percentage_error: 2854517.7500\n",
      "Epoch 8/100\n",
      "778/778 [==============================] - 13s 16ms/step - loss: 39.3642 - mean_absolute_error: 39.3642 - root_mean_squared_error: 59.6134 - mean_absolute_percentage_error: 51874132.0000 - val_loss: 35.2781 - val_mean_absolute_error: 35.2781 - val_root_mean_squared_error: 52.5871 - val_mean_absolute_percentage_error: 2851827.7500\n",
      "Epoch 9/100\n",
      "778/778 [==============================] - 12s 16ms/step - loss: 32.7690 - mean_absolute_error: 32.7690 - root_mean_squared_error: 49.7574 - mean_absolute_percentage_error: 52675796.0000 - val_loss: 30.1400 - val_mean_absolute_error: 30.1400 - val_root_mean_squared_error: 44.4740 - val_mean_absolute_percentage_error: 3026433.2500\n",
      "Epoch 10/100\n",
      "778/778 [==============================] - 12s 16ms/step - loss: 28.3351 - mean_absolute_error: 28.3351 - root_mean_squared_error: 42.5876 - mean_absolute_percentage_error: 53383160.0000 - val_loss: 26.5930 - val_mean_absolute_error: 26.5930 - val_root_mean_squared_error: 38.4736 - val_mean_absolute_percentage_error: 3190132.2500\n",
      "Epoch 11/100\n",
      "778/778 [==============================] - 12s 16ms/step - loss: 25.2167 - mean_absolute_error: 25.2167 - root_mean_squared_error: 37.2343 - mean_absolute_percentage_error: 54317824.0000 - val_loss: 24.1273 - val_mean_absolute_error: 24.1273 - val_root_mean_squared_error: 34.1788 - val_mean_absolute_percentage_error: 3255918.7500\n",
      "Epoch 12/100\n",
      "778/778 [==============================] - 12s 16ms/step - loss: 23.0931 - mean_absolute_error: 23.0931 - root_mean_squared_error: 33.4963 - mean_absolute_percentage_error: 55382720.0000 - val_loss: 22.6790 - val_mean_absolute_error: 22.6790 - val_root_mean_squared_error: 31.6821 - val_mean_absolute_percentage_error: 3296279.7500\n",
      "Epoch 13/100\n",
      "778/778 [==============================] - 12s 16ms/step - loss: 21.7408 - mean_absolute_error: 21.7408 - root_mean_squared_error: 31.0913 - mean_absolute_percentage_error: 56252040.0000 - val_loss: 21.6146 - val_mean_absolute_error: 21.6146 - val_root_mean_squared_error: 29.7620 - val_mean_absolute_percentage_error: 3472976.7500\n",
      "Epoch 14/100\n",
      "778/778 [==============================] - 12s 16ms/step - loss: 20.8973 - mean_absolute_error: 20.8973 - root_mean_squared_error: 29.5785 - mean_absolute_percentage_error: 56788408.0000 - val_loss: 21.1598 - val_mean_absolute_error: 21.1598 - val_root_mean_squared_error: 29.0186 - val_mean_absolute_percentage_error: 3433361.0000\n",
      "Epoch 15/100\n",
      "778/778 [==============================] - 12s 16ms/step - loss: 20.4128 - mean_absolute_error: 20.4128 - root_mean_squared_error: 28.6826 - mean_absolute_percentage_error: 57481248.0000 - val_loss: 20.6834 - val_mean_absolute_error: 20.6834 - val_root_mean_squared_error: 28.1629 - val_mean_absolute_percentage_error: 3545124.5000\n",
      "Epoch 16/100\n",
      "778/778 [==============================] - 12s 16ms/step - loss: 20.1328 - mean_absolute_error: 20.1328 - root_mean_squared_error: 28.1808 - mean_absolute_percentage_error: 58059092.0000 - val_loss: 20.5475 - val_mean_absolute_error: 20.5475 - val_root_mean_squared_error: 27.8829 - val_mean_absolute_percentage_error: 3503204.2500\n",
      "Epoch 17/100\n",
      "778/778 [==============================] - 13s 16ms/step - loss: 19.9616 - mean_absolute_error: 19.9616 - root_mean_squared_error: 27.8752 - mean_absolute_percentage_error: 58331792.0000 - val_loss: 20.5942 - val_mean_absolute_error: 20.5942 - val_root_mean_squared_error: 27.8090 - val_mean_absolute_percentage_error: 3637214.5000\n",
      "Epoch 18/100\n",
      "778/778 [==============================] - 12s 16ms/step - loss: 19.8064 - mean_absolute_error: 19.8064 - root_mean_squared_error: 27.6054 - mean_absolute_percentage_error: 58473820.0000 - val_loss: 20.3394 - val_mean_absolute_error: 20.3394 - val_root_mean_squared_error: 27.5744 - val_mean_absolute_percentage_error: 3678995.2500\n",
      "Epoch 19/100\n",
      "778/778 [==============================] - 12s 16ms/step - loss: 19.7044 - mean_absolute_error: 19.7044 - root_mean_squared_error: 27.4435 - mean_absolute_percentage_error: 58843624.0000 - val_loss: 20.3722 - val_mean_absolute_error: 20.3722 - val_root_mean_squared_error: 27.4808 - val_mean_absolute_percentage_error: 3640552.7500\n",
      "Epoch 20/100\n",
      "778/778 [==============================] - 12s 16ms/step - loss: 19.6106 - mean_absolute_error: 19.6106 - root_mean_squared_error: 27.2880 - mean_absolute_percentage_error: 58909992.0000 - val_loss: 20.3143 - val_mean_absolute_error: 20.3143 - val_root_mean_squared_error: 27.3484 - val_mean_absolute_percentage_error: 3598603.0000\n",
      "Epoch 21/100\n",
      "778/778 [==============================] - 12s 16ms/step - loss: 19.5333 - mean_absolute_error: 19.5333 - root_mean_squared_error: 27.1510 - mean_absolute_percentage_error: 58942328.0000 - val_loss: 20.1868 - val_mean_absolute_error: 20.1868 - val_root_mean_squared_error: 27.2300 - val_mean_absolute_percentage_error: 3727921.5000\n",
      "Epoch 22/100\n",
      "778/778 [==============================] - 12s 16ms/step - loss: 19.4679 - mean_absolute_error: 19.4679 - root_mean_squared_error: 27.0555 - mean_absolute_percentage_error: 59008616.0000 - val_loss: 20.1112 - val_mean_absolute_error: 20.1112 - val_root_mean_squared_error: 27.0979 - val_mean_absolute_percentage_error: 3603111.5000\n",
      "Epoch 23/100\n",
      "778/778 [==============================] - 12s 16ms/step - loss: 19.3917 - mean_absolute_error: 19.3917 - root_mean_squared_error: 26.9397 - mean_absolute_percentage_error: 58832284.0000 - val_loss: 20.0830 - val_mean_absolute_error: 20.0830 - val_root_mean_squared_error: 27.0694 - val_mean_absolute_percentage_error: 3628102.5000\n",
      "Epoch 24/100\n",
      "778/778 [==============================] - 12s 16ms/step - loss: 19.3241 - mean_absolute_error: 19.3241 - root_mean_squared_error: 26.8301 - mean_absolute_percentage_error: 58952768.0000 - val_loss: 19.9951 - val_mean_absolute_error: 19.9951 - val_root_mean_squared_error: 26.9286 - val_mean_absolute_percentage_error: 3748471.5000\n"
     ]
    },
    {
     "name": "stdout",
     "output_type": "stream",
     "text": [
      "Epoch 25/100\n",
      "778/778 [==============================] - 12s 16ms/step - loss: 19.2614 - mean_absolute_error: 19.2614 - root_mean_squared_error: 26.7321 - mean_absolute_percentage_error: 58723376.0000 - val_loss: 19.9459 - val_mean_absolute_error: 19.9459 - val_root_mean_squared_error: 26.8752 - val_mean_absolute_percentage_error: 3760616.5000\n",
      "Epoch 26/100\n",
      "778/778 [==============================] - 12s 16ms/step - loss: 19.2030 - mean_absolute_error: 19.2030 - root_mean_squared_error: 26.6400 - mean_absolute_percentage_error: 58357740.0000 - val_loss: 19.9115 - val_mean_absolute_error: 19.9115 - val_root_mean_squared_error: 26.8044 - val_mean_absolute_percentage_error: 3682071.7500\n",
      "Epoch 27/100\n",
      "778/778 [==============================] - 13s 16ms/step - loss: 19.1405 - mean_absolute_error: 19.1405 - root_mean_squared_error: 26.5545 - mean_absolute_percentage_error: 58231396.0000 - val_loss: 19.9376 - val_mean_absolute_error: 19.9376 - val_root_mean_squared_error: 26.9380 - val_mean_absolute_percentage_error: 3642271.5000\n",
      "Epoch 28/100\n",
      "778/778 [==============================] - 13s 16ms/step - loss: 19.0730 - mean_absolute_error: 19.0730 - root_mean_squared_error: 26.4596 - mean_absolute_percentage_error: 57787452.0000 - val_loss: 19.8674 - val_mean_absolute_error: 19.8674 - val_root_mean_squared_error: 26.7373 - val_mean_absolute_percentage_error: 3608739.0000\n",
      "Epoch 29/100\n",
      "778/778 [==============================] - 13s 16ms/step - loss: 19.0121 - mean_absolute_error: 19.0121 - root_mean_squared_error: 26.3608 - mean_absolute_percentage_error: 57631672.0000 - val_loss: 19.7367 - val_mean_absolute_error: 19.7367 - val_root_mean_squared_error: 26.5095 - val_mean_absolute_percentage_error: 3814396.7500\n",
      "Epoch 30/100\n",
      "778/778 [==============================] - 12s 16ms/step - loss: 18.9632 - mean_absolute_error: 18.9632 - root_mean_squared_error: 26.2903 - mean_absolute_percentage_error: 57210200.0000 - val_loss: 19.6759 - val_mean_absolute_error: 19.6759 - val_root_mean_squared_error: 26.4711 - val_mean_absolute_percentage_error: 3698572.5000\n",
      "Epoch 31/100\n",
      "778/778 [==============================] - 12s 16ms/step - loss: 18.9109 - mean_absolute_error: 18.9109 - root_mean_squared_error: 26.2093 - mean_absolute_percentage_error: 56969492.0000 - val_loss: 19.6516 - val_mean_absolute_error: 19.6516 - val_root_mean_squared_error: 26.3891 - val_mean_absolute_percentage_error: 3651511.2500\n",
      "Epoch 32/100\n",
      "778/778 [==============================] - 12s 16ms/step - loss: 18.8751 - mean_absolute_error: 18.8751 - root_mean_squared_error: 26.1485 - mean_absolute_percentage_error: 56470296.0000 - val_loss: 19.5486 - val_mean_absolute_error: 19.5486 - val_root_mean_squared_error: 26.2547 - val_mean_absolute_percentage_error: 3681240.2500\n",
      "Epoch 33/100\n",
      "778/778 [==============================] - 12s 16ms/step - loss: 18.8123 - mean_absolute_error: 18.8123 - root_mean_squared_error: 26.0637 - mean_absolute_percentage_error: 56252200.0000 - val_loss: 19.5401 - val_mean_absolute_error: 19.5401 - val_root_mean_squared_error: 26.2628 - val_mean_absolute_percentage_error: 3681393.7500\n",
      "Epoch 34/100\n",
      "778/778 [==============================] - 12s 16ms/step - loss: 18.7598 - mean_absolute_error: 18.7598 - root_mean_squared_error: 25.9789 - mean_absolute_percentage_error: 55494452.0000 - val_loss: 19.4542 - val_mean_absolute_error: 19.4542 - val_root_mean_squared_error: 26.1126 - val_mean_absolute_percentage_error: 3690878.0000\n",
      "Epoch 35/100\n",
      "778/778 [==============================] - 12s 16ms/step - loss: 18.7298 - mean_absolute_error: 18.7298 - root_mean_squared_error: 25.9307 - mean_absolute_percentage_error: 55187632.0000 - val_loss: 19.5211 - val_mean_absolute_error: 19.5211 - val_root_mean_squared_error: 26.1911 - val_mean_absolute_percentage_error: 3664848.5000\n",
      "Epoch 36/100\n",
      "778/778 [==============================] - 12s 16ms/step - loss: 18.6655 - mean_absolute_error: 18.6655 - root_mean_squared_error: 25.8365 - mean_absolute_percentage_error: 54931584.0000 - val_loss: 19.4004 - val_mean_absolute_error: 19.4004 - val_root_mean_squared_error: 26.0548 - val_mean_absolute_percentage_error: 3694029.0000\n",
      "Epoch 37/100\n",
      "778/778 [==============================] - 12s 16ms/step - loss: 18.6475 - mean_absolute_error: 18.6475 - root_mean_squared_error: 25.8010 - mean_absolute_percentage_error: 54801476.0000 - val_loss: 19.3905 - val_mean_absolute_error: 19.3905 - val_root_mean_squared_error: 26.0240 - val_mean_absolute_percentage_error: 3665854.5000\n",
      "Epoch 38/100\n",
      "778/778 [==============================] - 12s 16ms/step - loss: 18.6071 - mean_absolute_error: 18.6071 - root_mean_squared_error: 25.7501 - mean_absolute_percentage_error: 54340684.0000 - val_loss: 19.3371 - val_mean_absolute_error: 19.3371 - val_root_mean_squared_error: 25.9787 - val_mean_absolute_percentage_error: 3636666.0000\n",
      "Epoch 39/100\n",
      "778/778 [==============================] - 12s 16ms/step - loss: 18.5827 - mean_absolute_error: 18.5827 - root_mean_squared_error: 25.7114 - mean_absolute_percentage_error: 53877864.0000 - val_loss: 19.2720 - val_mean_absolute_error: 19.2720 - val_root_mean_squared_error: 25.8942 - val_mean_absolute_percentage_error: 3732109.5000\n",
      "Epoch 40/100\n",
      "778/778 [==============================] - 12s 16ms/step - loss: 18.5147 - mean_absolute_error: 18.5147 - root_mean_squared_error: 25.6243 - mean_absolute_percentage_error: 53722380.0000 - val_loss: 19.2561 - val_mean_absolute_error: 19.2561 - val_root_mean_squared_error: 25.8582 - val_mean_absolute_percentage_error: 3688737.2500\n",
      "Epoch 41/100\n",
      "778/778 [==============================] - 12s 16ms/step - loss: 18.5084 - mean_absolute_error: 18.5084 - root_mean_squared_error: 25.5953 - mean_absolute_percentage_error: 53434064.0000 - val_loss: 19.2729 - val_mean_absolute_error: 19.2729 - val_root_mean_squared_error: 25.8714 - val_mean_absolute_percentage_error: 3675808.0000\n",
      "Epoch 42/100\n",
      "778/778 [==============================] - 12s 15ms/step - loss: 18.4732 - mean_absolute_error: 18.4732 - root_mean_squared_error: 25.5466 - mean_absolute_percentage_error: 53297076.0000 - val_loss: 19.1846 - val_mean_absolute_error: 19.1846 - val_root_mean_squared_error: 25.7623 - val_mean_absolute_percentage_error: 3702786.2500\n",
      "Epoch 43/100\n",
      "778/778 [==============================] - 12s 16ms/step - loss: 18.4317 - mean_absolute_error: 18.4317 - root_mean_squared_error: 25.4900 - mean_absolute_percentage_error: 52734132.0000 - val_loss: 19.1597 - val_mean_absolute_error: 19.1597 - val_root_mean_squared_error: 25.7256 - val_mean_absolute_percentage_error: 3613450.2500\n",
      "Epoch 44/100\n",
      "778/778 [==============================] - 12s 16ms/step - loss: 18.4009 - mean_absolute_error: 18.4009 - root_mean_squared_error: 25.4365 - mean_absolute_percentage_error: 52784752.0000 - val_loss: 19.1154 - val_mean_absolute_error: 19.1154 - val_root_mean_squared_error: 25.6677 - val_mean_absolute_percentage_error: 3695107.5000\n",
      "Epoch 45/100\n",
      "778/778 [==============================] - 12s 16ms/step - loss: 18.3724 - mean_absolute_error: 18.3724 - root_mean_squared_error: 25.3862 - mean_absolute_percentage_error: 52410268.0000 - val_loss: 19.1693 - val_mean_absolute_error: 19.1693 - val_root_mean_squared_error: 25.7706 - val_mean_absolute_percentage_error: 3628528.7500\n",
      "Epoch 46/100\n",
      "778/778 [==============================] - 12s 16ms/step - loss: 18.3604 - mean_absolute_error: 18.3604 - root_mean_squared_error: 25.3839 - mean_absolute_percentage_error: 52314484.0000 - val_loss: 19.1347 - val_mean_absolute_error: 19.1347 - val_root_mean_squared_error: 25.6567 - val_mean_absolute_percentage_error: 3646617.5000\n",
      "Epoch 47/100\n",
      "778/778 [==============================] - 13s 17ms/step - loss: 18.3165 - mean_absolute_error: 18.3165 - root_mean_squared_error: 25.3070 - mean_absolute_percentage_error: 52166264.0000 - val_loss: 19.0242 - val_mean_absolute_error: 19.0242 - val_root_mean_squared_error: 25.5109 - val_mean_absolute_percentage_error: 3697598.5000\n",
      "Epoch 48/100\n",
      "778/778 [==============================] - 14s 18ms/step - loss: 18.3019 - mean_absolute_error: 18.3019 - root_mean_squared_error: 25.2768 - mean_absolute_percentage_error: 51833208.0000 - val_loss: 19.0384 - val_mean_absolute_error: 19.0384 - val_root_mean_squared_error: 25.5717 - val_mean_absolute_percentage_error: 3628785.2500\n"
     ]
    },
    {
     "name": "stdout",
     "output_type": "stream",
     "text": [
      "Epoch 49/100\n",
      "778/778 [==============================] - 13s 16ms/step - loss: 18.2729 - mean_absolute_error: 18.2729 - root_mean_squared_error: 25.2472 - mean_absolute_percentage_error: 51731408.0000 - val_loss: 19.0434 - val_mean_absolute_error: 19.0434 - val_root_mean_squared_error: 25.5294 - val_mean_absolute_percentage_error: 3579434.0000\n",
      "Epoch 50/100\n",
      "778/778 [==============================] - 12s 16ms/step - loss: 18.2393 - mean_absolute_error: 18.2393 - root_mean_squared_error: 25.1901 - mean_absolute_percentage_error: 51702608.0000 - val_loss: 19.0854 - val_mean_absolute_error: 19.0854 - val_root_mean_squared_error: 25.6923 - val_mean_absolute_percentage_error: 3677423.0000\n",
      "Epoch 51/100\n",
      "778/778 [==============================] - 13s 16ms/step - loss: 18.2161 - mean_absolute_error: 18.2161 - root_mean_squared_error: 25.1623 - mean_absolute_percentage_error: 51332300.0000 - val_loss: 19.0532 - val_mean_absolute_error: 19.0532 - val_root_mean_squared_error: 25.5422 - val_mean_absolute_percentage_error: 3621645.2500\n",
      "Epoch 52/100\n",
      "778/778 [==============================] - 13s 16ms/step - loss: 18.1934 - mean_absolute_error: 18.1934 - root_mean_squared_error: 25.1325 - mean_absolute_percentage_error: 51203584.0000 - val_loss: 18.9851 - val_mean_absolute_error: 18.9851 - val_root_mean_squared_error: 25.4445 - val_mean_absolute_percentage_error: 3553079.0000\n",
      "Epoch 53/100\n",
      "778/778 [==============================] - 13s 16ms/step - loss: 18.1827 - mean_absolute_error: 18.1827 - root_mean_squared_error: 25.1148 - mean_absolute_percentage_error: 50869860.0000 - val_loss: 19.0535 - val_mean_absolute_error: 19.0535 - val_root_mean_squared_error: 25.5188 - val_mean_absolute_percentage_error: 3765016.7500\n",
      "Epoch 54/100\n",
      "778/778 [==============================] - 13s 16ms/step - loss: 18.1671 - mean_absolute_error: 18.1671 - root_mean_squared_error: 25.0841 - mean_absolute_percentage_error: 50856084.0000 - val_loss: 18.9075 - val_mean_absolute_error: 18.9075 - val_root_mean_squared_error: 25.4098 - val_mean_absolute_percentage_error: 3644818.7500\n",
      "Epoch 55/100\n",
      "778/778 [==============================] - 13s 16ms/step - loss: 18.1312 - mean_absolute_error: 18.1312 - root_mean_squared_error: 25.0447 - mean_absolute_percentage_error: 50513860.0000 - val_loss: 18.9505 - val_mean_absolute_error: 18.9505 - val_root_mean_squared_error: 25.4198 - val_mean_absolute_percentage_error: 3692886.0000\n",
      "Epoch 56/100\n",
      "778/778 [==============================] - 13s 16ms/step - loss: 18.1141 - mean_absolute_error: 18.1141 - root_mean_squared_error: 25.0079 - mean_absolute_percentage_error: 50326688.0000 - val_loss: 18.9768 - val_mean_absolute_error: 18.9768 - val_root_mean_squared_error: 25.4560 - val_mean_absolute_percentage_error: 3734568.5000\n",
      "Epoch 57/100\n",
      "778/778 [==============================] - 12s 16ms/step - loss: 18.0879 - mean_absolute_error: 18.0879 - root_mean_squared_error: 24.9784 - mean_absolute_percentage_error: 50315404.0000 - val_loss: 18.9920 - val_mean_absolute_error: 18.9920 - val_root_mean_squared_error: 25.4830 - val_mean_absolute_percentage_error: 3521333.5000\n",
      "Epoch 58/100\n",
      "778/778 [==============================] - 13s 16ms/step - loss: 18.0635 - mean_absolute_error: 18.0635 - root_mean_squared_error: 24.9333 - mean_absolute_percentage_error: 49937364.0000 - val_loss: 18.9732 - val_mean_absolute_error: 18.9732 - val_root_mean_squared_error: 25.4245 - val_mean_absolute_percentage_error: 3553243.0000\n",
      "Epoch 59/100\n",
      "778/778 [==============================] - 12s 16ms/step - loss: 18.0484 - mean_absolute_error: 18.0484 - root_mean_squared_error: 24.9102 - mean_absolute_percentage_error: 49785028.0000 - val_loss: 18.8963 - val_mean_absolute_error: 18.8963 - val_root_mean_squared_error: 25.4098 - val_mean_absolute_percentage_error: 3631652.5000\n",
      "Epoch 60/100\n",
      "778/778 [==============================] - 12s 16ms/step - loss: 18.0383 - mean_absolute_error: 18.0383 - root_mean_squared_error: 24.8983 - mean_absolute_percentage_error: 49733056.0000 - val_loss: 18.8409 - val_mean_absolute_error: 18.8409 - val_root_mean_squared_error: 25.2993 - val_mean_absolute_percentage_error: 3642073.0000\n",
      "Epoch 61/100\n",
      "778/778 [==============================] - 13s 16ms/step - loss: 18.0048 - mean_absolute_error: 18.0048 - root_mean_squared_error: 24.8524 - mean_absolute_percentage_error: 49487456.0000 - val_loss: 18.8356 - val_mean_absolute_error: 18.8356 - val_root_mean_squared_error: 25.2783 - val_mean_absolute_percentage_error: 3672988.2500\n",
      "Epoch 62/100\n",
      "778/778 [==============================] - 12s 16ms/step - loss: 17.9883 - mean_absolute_error: 17.9883 - root_mean_squared_error: 24.8325 - mean_absolute_percentage_error: 49340928.0000 - val_loss: 18.8014 - val_mean_absolute_error: 18.8014 - val_root_mean_squared_error: 25.2525 - val_mean_absolute_percentage_error: 3597133.5000\n",
      "Epoch 63/100\n",
      "778/778 [==============================] - 12s 16ms/step - loss: 17.9747 - mean_absolute_error: 17.9747 - root_mean_squared_error: 24.8174 - mean_absolute_percentage_error: 49224992.0000 - val_loss: 18.8535 - val_mean_absolute_error: 18.8535 - val_root_mean_squared_error: 25.3390 - val_mean_absolute_percentage_error: 3606831.0000\n",
      "Epoch 64/100\n",
      "778/778 [==============================] - 12s 16ms/step - loss: 17.9470 - mean_absolute_error: 17.9470 - root_mean_squared_error: 24.7758 - mean_absolute_percentage_error: 49186220.0000 - val_loss: 18.7708 - val_mean_absolute_error: 18.7708 - val_root_mean_squared_error: 25.2040 - val_mean_absolute_percentage_error: 3727069.7500\n",
      "Epoch 65/100\n",
      "778/778 [==============================] - 12s 16ms/step - loss: 17.9365 - mean_absolute_error: 17.9365 - root_mean_squared_error: 24.7621 - mean_absolute_percentage_error: 48865460.0000 - val_loss: 18.8384 - val_mean_absolute_error: 18.8384 - val_root_mean_squared_error: 25.2691 - val_mean_absolute_percentage_error: 3724015.5000\n",
      "Epoch 66/100\n",
      "778/778 [==============================] - 13s 17ms/step - loss: 17.9227 - mean_absolute_error: 17.9227 - root_mean_squared_error: 24.7286 - mean_absolute_percentage_error: 48806652.0000 - val_loss: 19.0182 - val_mean_absolute_error: 19.0182 - val_root_mean_squared_error: 25.4947 - val_mean_absolute_percentage_error: 3679505.7500\n",
      "Epoch 67/100\n",
      "778/778 [==============================] - 12s 16ms/step - loss: 17.9119 - mean_absolute_error: 17.9119 - root_mean_squared_error: 24.7262 - mean_absolute_percentage_error: 48555144.0000 - val_loss: 18.7745 - val_mean_absolute_error: 18.7745 - val_root_mean_squared_error: 25.2221 - val_mean_absolute_percentage_error: 3575573.5000\n",
      "Epoch 68/100\n",
      "778/778 [==============================] - 13s 16ms/step - loss: 17.8983 - mean_absolute_error: 17.8983 - root_mean_squared_error: 24.7061 - mean_absolute_percentage_error: 48317292.0000 - val_loss: 18.8186 - val_mean_absolute_error: 18.8186 - val_root_mean_squared_error: 25.2843 - val_mean_absolute_percentage_error: 3566518.0000\n",
      "Epoch 69/100\n",
      "778/778 [==============================] - 12s 16ms/step - loss: 17.8804 - mean_absolute_error: 17.8804 - root_mean_squared_error: 24.6855 - mean_absolute_percentage_error: 48054176.0000 - val_loss: 18.9260 - val_mean_absolute_error: 18.9260 - val_root_mean_squared_error: 25.4519 - val_mean_absolute_percentage_error: 3664178.0000\n",
      "Epoch 70/100\n",
      "778/778 [==============================] - 13s 16ms/step - loss: 17.8638 - mean_absolute_error: 17.8638 - root_mean_squared_error: 24.6621 - mean_absolute_percentage_error: 47974556.0000 - val_loss: 18.8019 - val_mean_absolute_error: 18.8019 - val_root_mean_squared_error: 25.2396 - val_mean_absolute_percentage_error: 3627529.7500\n",
      "Epoch 71/100\n",
      "778/778 [==============================] - 13s 16ms/step - loss: 17.8430 - mean_absolute_error: 17.8430 - root_mean_squared_error: 24.6327 - mean_absolute_percentage_error: 47831096.0000 - val_loss: 18.7967 - val_mean_absolute_error: 18.7967 - val_root_mean_squared_error: 25.2074 - val_mean_absolute_percentage_error: 3730051.2500\n",
      "Epoch 72/100\n",
      "778/778 [==============================] - 13s 16ms/step - loss: 17.8335 - mean_absolute_error: 17.8335 - root_mean_squared_error: 24.6210 - mean_absolute_percentage_error: 47934284.0000 - val_loss: 18.7732 - val_mean_absolute_error: 18.7732 - val_root_mean_squared_error: 25.2290 - val_mean_absolute_percentage_error: 3618862.5000\n"
     ]
    },
    {
     "name": "stdout",
     "output_type": "stream",
     "text": [
      "Epoch 73/100\n",
      "778/778 [==============================] - 13s 16ms/step - loss: 17.8324 - mean_absolute_error: 17.8324 - root_mean_squared_error: 24.6212 - mean_absolute_percentage_error: 47484708.0000 - val_loss: 18.7388 - val_mean_absolute_error: 18.7388 - val_root_mean_squared_error: 25.1614 - val_mean_absolute_percentage_error: 3646545.2500\n",
      "Epoch 74/100\n",
      "778/778 [==============================] - 13s 17ms/step - loss: 17.8018 - mean_absolute_error: 17.8018 - root_mean_squared_error: 24.5833 - mean_absolute_percentage_error: 47532728.0000 - val_loss: 18.7308 - val_mean_absolute_error: 18.7308 - val_root_mean_squared_error: 25.1645 - val_mean_absolute_percentage_error: 3656988.5000\n",
      "Epoch 75/100\n",
      "778/778 [==============================] - 13s 16ms/step - loss: 17.7869 - mean_absolute_error: 17.7869 - root_mean_squared_error: 24.5557 - mean_absolute_percentage_error: 47182316.0000 - val_loss: 18.8196 - val_mean_absolute_error: 18.8196 - val_root_mean_squared_error: 25.2304 - val_mean_absolute_percentage_error: 3616407.0000\n",
      "Epoch 76/100\n",
      "778/778 [==============================] - 13s 16ms/step - loss: 17.7795 - mean_absolute_error: 17.7795 - root_mean_squared_error: 24.5485 - mean_absolute_percentage_error: 47181260.0000 - val_loss: 18.8863 - val_mean_absolute_error: 18.8863 - val_root_mean_squared_error: 25.3082 - val_mean_absolute_percentage_error: 3610641.2500\n",
      "Epoch 77/100\n",
      "778/778 [==============================] - 13s 17ms/step - loss: 17.7776 - mean_absolute_error: 17.7776 - root_mean_squared_error: 24.5386 - mean_absolute_percentage_error: 46959088.0000 - val_loss: 18.7277 - val_mean_absolute_error: 18.7277 - val_root_mean_squared_error: 25.1270 - val_mean_absolute_percentage_error: 3581854.5000\n",
      "Epoch 78/100\n",
      "778/778 [==============================] - 13s 17ms/step - loss: 17.7575 - mean_absolute_error: 17.7575 - root_mean_squared_error: 24.5197 - mean_absolute_percentage_error: 47098972.0000 - val_loss: 18.7912 - val_mean_absolute_error: 18.7912 - val_root_mean_squared_error: 25.1847 - val_mean_absolute_percentage_error: 3661819.0000\n",
      "Epoch 79/100\n",
      "778/778 [==============================] - 13s 16ms/step - loss: 17.7508 - mean_absolute_error: 17.7508 - root_mean_squared_error: 24.5115 - mean_absolute_percentage_error: 46580260.0000 - val_loss: 18.7348 - val_mean_absolute_error: 18.7348 - val_root_mean_squared_error: 25.1477 - val_mean_absolute_percentage_error: 3605730.2500\n",
      "Epoch 80/100\n",
      "778/778 [==============================] - 13s 16ms/step - loss: 17.7287 - mean_absolute_error: 17.7287 - root_mean_squared_error: 24.4905 - mean_absolute_percentage_error: 46688668.0000 - val_loss: 18.8449 - val_mean_absolute_error: 18.8449 - val_root_mean_squared_error: 25.2970 - val_mean_absolute_percentage_error: 3570549.2500\n",
      "Epoch 81/100\n",
      "778/778 [==============================] - 13s 16ms/step - loss: 17.7231 - mean_absolute_error: 17.7231 - root_mean_squared_error: 24.4905 - mean_absolute_percentage_error: 46220524.0000 - val_loss: 18.6932 - val_mean_absolute_error: 18.6932 - val_root_mean_squared_error: 25.1022 - val_mean_absolute_percentage_error: 3629123.7500\n",
      "Epoch 82/100\n",
      "778/778 [==============================] - 13s 16ms/step - loss: 17.6941 - mean_absolute_error: 17.6941 - root_mean_squared_error: 24.4401 - mean_absolute_percentage_error: 46173048.0000 - val_loss: 18.6417 - val_mean_absolute_error: 18.6417 - val_root_mean_squared_error: 25.0483 - val_mean_absolute_percentage_error: 3625954.7500\n",
      "Epoch 83/100\n",
      "778/778 [==============================] - 13s 17ms/step - loss: 17.6854 - mean_absolute_error: 17.6854 - root_mean_squared_error: 24.4270 - mean_absolute_percentage_error: 45934044.0000 - val_loss: 18.7672 - val_mean_absolute_error: 18.7672 - val_root_mean_squared_error: 25.1717 - val_mean_absolute_percentage_error: 3653835.2500\n",
      "Epoch 84/100\n",
      "778/778 [==============================] - 13s 17ms/step - loss: 17.6730 - mean_absolute_error: 17.6730 - root_mean_squared_error: 24.4080 - mean_absolute_percentage_error: 45943052.0000 - val_loss: 18.8122 - val_mean_absolute_error: 18.8122 - val_root_mean_squared_error: 25.2408 - val_mean_absolute_percentage_error: 3693769.2500\n",
      "Epoch 85/100\n",
      "778/778 [==============================] - 13s 16ms/step - loss: 17.6833 - mean_absolute_error: 17.6833 - root_mean_squared_error: 24.4204 - mean_absolute_percentage_error: 45783108.0000 - val_loss: 18.6750 - val_mean_absolute_error: 18.6750 - val_root_mean_squared_error: 25.1082 - val_mean_absolute_percentage_error: 3666573.5000\n",
      "Epoch 86/100\n",
      "778/778 [==============================] - 12s 16ms/step - loss: 17.6678 - mean_absolute_error: 17.6678 - root_mean_squared_error: 24.4021 - mean_absolute_percentage_error: 45410600.0000 - val_loss: 18.8114 - val_mean_absolute_error: 18.8114 - val_root_mean_squared_error: 25.2175 - val_mean_absolute_percentage_error: 3745180.7500\n",
      "Epoch 87/100\n",
      "778/778 [==============================] - 12s 16ms/step - loss: 17.6573 - mean_absolute_error: 17.6573 - root_mean_squared_error: 24.3874 - mean_absolute_percentage_error: 45388120.0000 - val_loss: 18.7845 - val_mean_absolute_error: 18.7845 - val_root_mean_squared_error: 25.1890 - val_mean_absolute_percentage_error: 3679535.0000\n",
      "Epoch 88/100\n",
      "778/778 [==============================] - 12s 16ms/step - loss: 17.6493 - mean_absolute_error: 17.6493 - root_mean_squared_error: 24.3704 - mean_absolute_percentage_error: 45195560.0000 - val_loss: 18.7138 - val_mean_absolute_error: 18.7138 - val_root_mean_squared_error: 25.1164 - val_mean_absolute_percentage_error: 3660751.2500\n",
      "Epoch 89/100\n",
      "778/778 [==============================] - 12s 16ms/step - loss: 17.6266 - mean_absolute_error: 17.6266 - root_mean_squared_error: 24.3444 - mean_absolute_percentage_error: 44835040.0000 - val_loss: 18.6317 - val_mean_absolute_error: 18.6317 - val_root_mean_squared_error: 25.0352 - val_mean_absolute_percentage_error: 3672758.7500\n",
      "Epoch 90/100\n",
      "778/778 [==============================] - 12s 16ms/step - loss: 17.6367 - mean_absolute_error: 17.6367 - root_mean_squared_error: 24.3562 - mean_absolute_percentage_error: 44714548.0000 - val_loss: 18.9102 - val_mean_absolute_error: 18.9102 - val_root_mean_squared_error: 25.4552 - val_mean_absolute_percentage_error: 3523834.0000\n",
      "Epoch 91/100\n",
      "778/778 [==============================] - 12s 16ms/step - loss: 17.6070 - mean_absolute_error: 17.6070 - root_mean_squared_error: 24.3228 - mean_absolute_percentage_error: 44696816.0000 - val_loss: 18.7507 - val_mean_absolute_error: 18.7507 - val_root_mean_squared_error: 25.1440 - val_mean_absolute_percentage_error: 3687897.0000\n",
      "Epoch 92/100\n",
      "778/778 [==============================] - 12s 16ms/step - loss: 17.5973 - mean_absolute_error: 17.5973 - root_mean_squared_error: 24.3069 - mean_absolute_percentage_error: 44422112.0000 - val_loss: 18.6769 - val_mean_absolute_error: 18.6769 - val_root_mean_squared_error: 25.0534 - val_mean_absolute_percentage_error: 3654466.0000\n",
      "Epoch 93/100\n",
      "778/778 [==============================] - 12s 16ms/step - loss: 17.5934 - mean_absolute_error: 17.5934 - root_mean_squared_error: 24.3046 - mean_absolute_percentage_error: 44317252.0000 - val_loss: 18.6849 - val_mean_absolute_error: 18.6849 - val_root_mean_squared_error: 25.0761 - val_mean_absolute_percentage_error: 3618241.5000\n",
      "Epoch 94/100\n",
      "778/778 [==============================] - 13s 16ms/step - loss: 17.5766 - mean_absolute_error: 17.5766 - root_mean_squared_error: 24.2848 - mean_absolute_percentage_error: 44213076.0000 - val_loss: 18.7415 - val_mean_absolute_error: 18.7415 - val_root_mean_squared_error: 25.1331 - val_mean_absolute_percentage_error: 3618672.0000\n",
      "Epoch 95/100\n",
      "778/778 [==============================] - 13s 17ms/step - loss: 17.5679 - mean_absolute_error: 17.5679 - root_mean_squared_error: 24.2632 - mean_absolute_percentage_error: 44269976.0000 - val_loss: 18.7169 - val_mean_absolute_error: 18.7169 - val_root_mean_squared_error: 25.1172 - val_mean_absolute_percentage_error: 3659639.0000\n",
      "Epoch 96/100\n",
      "778/778 [==============================] - 13s 16ms/step - loss: 17.5547 - mean_absolute_error: 17.5547 - root_mean_squared_error: 24.2649 - mean_absolute_percentage_error: 43669364.0000 - val_loss: 18.7533 - val_mean_absolute_error: 18.7533 - val_root_mean_squared_error: 25.1291 - val_mean_absolute_percentage_error: 3702139.7500\n"
     ]
    },
    {
     "name": "stdout",
     "output_type": "stream",
     "text": [
      "Epoch 97/100\n",
      "778/778 [==============================] - 12s 16ms/step - loss: 17.5466 - mean_absolute_error: 17.5466 - root_mean_squared_error: 24.2450 - mean_absolute_percentage_error: 43679344.0000 - val_loss: 18.5972 - val_mean_absolute_error: 18.5972 - val_root_mean_squared_error: 24.9990 - val_mean_absolute_percentage_error: 3641798.7500\n",
      "Epoch 98/100\n",
      "778/778 [==============================] - 12s 16ms/step - loss: 17.5297 - mean_absolute_error: 17.5297 - root_mean_squared_error: 24.2257 - mean_absolute_percentage_error: 43303552.0000 - val_loss: 18.6808 - val_mean_absolute_error: 18.6808 - val_root_mean_squared_error: 25.0754 - val_mean_absolute_percentage_error: 3566477.7500\n",
      "Epoch 99/100\n",
      "778/778 [==============================] - 12s 16ms/step - loss: 17.5174 - mean_absolute_error: 17.5174 - root_mean_squared_error: 24.2117 - mean_absolute_percentage_error: 43540396.0000 - val_loss: 18.7786 - val_mean_absolute_error: 18.7786 - val_root_mean_squared_error: 25.1398 - val_mean_absolute_percentage_error: 3743932.5000\n",
      "Epoch 100/100\n",
      "778/778 [==============================] - 12s 16ms/step - loss: 17.5292 - mean_absolute_error: 17.5292 - root_mean_squared_error: 24.2130 - mean_absolute_percentage_error: 43175056.0000 - val_loss: 18.7841 - val_mean_absolute_error: 18.7841 - val_root_mean_squared_error: 25.3235 - val_mean_absolute_percentage_error: 3554257.0000\n"
     ]
    },
    {
     "data": {
      "text/plain": [
       "<keras.callbacks.History at 0x22fb4a0fcd0>"
      ]
     },
     "execution_count": 41,
     "metadata": {},
     "output_type": "execute_result"
    }
   ],
   "source": [
    "model15.fit((Wt15,Xt15), yt15, validation_split = val_percent,\n",
    "            epochs = 100, \n",
    "            verbose = 1)"
   ]
  },
  {
   "cell_type": "code",
   "execution_count": 42,
   "metadata": {},
   "outputs": [],
   "source": [
    "metrics15 = pd.DataFrame(model15.history.history)"
   ]
  },
  {
   "cell_type": "code",
   "execution_count": 44,
   "metadata": {},
   "outputs": [
    {
     "data": {
      "text/plain": [
       "(<mpl_toolkits.axes_grid1.inset_locator.BboxPatch at 0x24e715c8fd0>,\n",
       " <mpl_toolkits.axes_grid1.inset_locator.BboxConnector at 0x24e715e4ac0>,\n",
       " <mpl_toolkits.axes_grid1.inset_locator.BboxConnector at 0x24e715e4d00>)"
      ]
     },
     "execution_count": 44,
     "metadata": {},
     "output_type": "execute_result"
    },
    {
     "data": {
      "image/png": "[encoded data removed]",
      "text/plain": [
       "<Figure size 600x400 with 2 Axes>"
      ]
     },
     "metadata": {},
     "output_type": "display_data"
    }
   ],
   "source": [
    "fig = plt.figure(figsize=(6,4))\n",
    "\n",
    "# Add set of axes to figure\n",
    "axes = fig.add_axes([0, 0, 1, 1]) \n",
    "axes2 = fig.add_axes([0.35, 0.45, 0.5, 0.5]) # Smaller figure\n",
    "axes.plot(metrics15[['loss','val_loss']], label=['train_loss','val_loss'], lw=4)\n",
    "axes.set_ylim(10,60)\n",
    "\n",
    "axes2.plot(metrics15[['loss','val_loss']], lw=4)\n",
    "axes2.set_xlim(0,20)\n",
    "axes2.set_ylim(15,35)\n",
    "#plt.xticks(visible=False)\n",
    "plt.yticks(visible=False)\n",
    "\n",
    "axes.set_xlabel('Epoch')\n",
    "axes.set_ylabel('Loss')\n",
    "axes.grid()\n",
    "axes2.grid()\n",
    "\n",
    "mark_inset(axes, axes2, loc1=2, loc2=4, fc=\"0.9\", ec=\"0.1\", ls='--')\n",
    "#axes.yaxis.set_major_formatter(formatter)"
   ]
  },
  {
   "cell_type": "code",
   "execution_count": 55,
   "metadata": {},
   "outputs": [
    {
     "name": "stderr",
     "output_type": "stream",
     "text": [
      "WARNING:absl:Function `_wrapped_model` contains input name(s) WideInput, DeepInput with unsupported characters which will be renamed to wideinput, deepinput in the SavedModel.\n",
      "WARNING:absl:Found untraced functions such as lstm_cell_7_layer_call_fn, lstm_cell_7_layer_call_and_return_conditional_losses, lstm_cell_5_layer_call_fn, lstm_cell_5_layer_call_and_return_conditional_losses, lstm_cell_6_layer_call_fn while saving (showing 5 of 15). These functions will not be directly callable after loading.\n"
     ]
    },
    {
     "name": "stdout",
     "output_type": "stream",
     "text": [
      "INFO:tensorflow:Assets written to: my_dir/8b-15\\assets\n"
     ]
    },
    {
     "name": "stderr",
     "output_type": "stream",
     "text": [
      "INFO:tensorflow:Assets written to: my_dir/8b-15\\assets\n",
      "WARNING:absl:<keras.layers.recurrent.LSTMCell object at 0x000002443157ABE0> has the same name 'LSTMCell' as a built-in Keras object. Consider renaming <class 'keras.layers.recurrent.LSTMCell'> to avoid naming conflicts when loading with `tf.keras.models.load_model`. If renaming is not possible, pass the object in the `custom_objects` parameter of the load function.\n",
      "WARNING:absl:<keras.layers.recurrent.LSTMCell object at 0x00000243976C7DC0> has the same name 'LSTMCell' as a built-in Keras object. Consider renaming <class 'keras.layers.recurrent.LSTMCell'> to avoid naming conflicts when loading with `tf.keras.models.load_model`. If renaming is not possible, pass the object in the `custom_objects` parameter of the load function.\n",
      "WARNING:absl:<keras.layers.recurrent.LSTMCell object at 0x00000243976B1430> has the same name 'LSTMCell' as a built-in Keras object. Consider renaming <class 'keras.layers.recurrent.LSTMCell'> to avoid naming conflicts when loading with `tf.keras.models.load_model`. If renaming is not possible, pass the object in the `custom_objects` parameter of the load function.\n"
     ]
    }
   ],
   "source": [
    "model15.save(\"my_dir/8b-15\")"
   ]
  },
  {
   "cell_type": "code",
   "execution_count": 58,
   "metadata": {},
   "outputs": [],
   "source": [
    "model15 = keras.models.load_model(\"my_dir/8b-15\")"
   ]
  },
  {
   "cell_type": "code",
   "execution_count": 59,
   "metadata": {},
   "outputs": [
    {
     "data": {
      "text/plain": [
       "array([[ 61.883595,  63.319424,  69.42591 , ...,  64.47969 ,  43.963783,\n",
       "         43.856728],\n",
       "       [ 59.241505,  60.588444,  66.84262 , ...,  62.113068,  44.36414 ,\n",
       "         44.449814],\n",
       "       [ 59.813507,  61.460663,  68.0273  , ...,  63.73704 ,  45.242588,\n",
       "         45.011024],\n",
       "       ...,\n",
       "       [133.17067 , 138.42993 , 148.62334 , ..., 146.65721 ,  97.61005 ,\n",
       "         88.679214],\n",
       "       [129.55261 , 134.56691 , 144.23344 , ..., 142.34729 ,  95.69301 ,\n",
       "         88.12882 ],\n",
       "       [121.55664 , 125.96773 , 134.80415 , ..., 132.36626 ,  87.36081 ,\n",
       "         81.049614]], dtype=float32)"
      ]
     },
     "execution_count": 59,
     "metadata": {},
     "output_type": "execute_result"
    }
   ],
   "source": [
    "model15.predict((Wv15,Xv15))"
   ]
  },
  {
   "cell_type": "markdown",
   "metadata": {},
   "source": [
    "### Evaluation on inverse_transform"
   ]
  },
  {
   "cell_type": "code",
   "execution_count": null,
   "metadata": {},
   "outputs": [],
   "source": [
    "test_predictions15 = model15.predict((Wv15,Xv15))\n",
    "\n",
    "\n",
    "MSE15 = mean_squared_error(yv15,test_predictions15)\n",
    "\n",
    "MAE15 = mean_absolute_error(yv15,test_predictions15)\n",
    "\n",
    "RMSE15 = np.sqrt(MSE15)\n",
    "\n",
    "MAPE15 = mean_absolute_percentage_error(yv15,test_predictions15)*100\n",
    "\n",
    "eval15 = [MSE15, MAE15, RMSE15, MAPE15]\n",
    "print(eval15)"
   ]
  },
  {
   "cell_type": "code",
   "execution_count": null,
   "metadata": {},
   "outputs": [],
   "source": [
    "GEH, count = ga.GEH(np.asarray(yv15), np.asarray(test_predictions15))\n",
    "GEH15 = count/GEH.size\n",
    "print(GEH15)"
   ]
  },
  {
   "cell_type": "markdown",
   "metadata": {},
   "source": [
    "# 30 mins ahead"
   ]
  },
  {
   "cell_type": "code",
   "execution_count": 43,
   "metadata": {},
   "outputs": [],
   "source": [
    "def build_model_30(hp):\n",
    "    # Inputs\n",
    "    channel_Wide = keras.layers.Input(shape=Wt30.shape[1:], name=\"WideInput\")\n",
    "    channel_Deep = keras.layers.Input(shape=Xt30.shape[1:], name=\"DeepInput\")\n",
    "    units = hp.Int(\"units\", min_value=1, max_value=100, step=1)\n",
    "    \n",
    "    \n",
    "    # Wide Model\n",
    "    flatten_30w = keras.layers.TimeDistributed(keras.layers.Flatten())(channel_Wide)\n",
    "    Bi_30 = keras.layers.Bidirectional(\n",
    "        keras.layers.LSTM(units=units, return_sequences=True),\n",
    "        merge_mode=\"ave\"\n",
    "    )(flatten_30w)\n",
    "    \n",
    "    \n",
    "    # Deep Model\n",
    "    # CNN \n",
    "    CNN_30 = keras.layers.TimeDistributed(\n",
    "        keras.layers.Conv2D(filters=hp.Int(\"filters\", min_value=32, max_value=512, step=32),\n",
    "                            kernel_size=hp.Choice(\"kernel_size\", [2, 3]), activation='relu'))(channel_Deep)\n",
    "    flatten_30 = keras.layers.TimeDistributed(keras.layers.Flatten())(CNN_30)\n",
    "    # LSTM          \n",
    "    LSTM_30 = keras.layers.LSTM(units=units, return_sequences=True)(flatten_30)\n",
    "\n",
    "    \n",
    "    # Concatenation \n",
    "    concat = keras.layers.concatenate([Bi_30, LSTM_30], axis=1)\n",
    "\n",
    "    # Attention\n",
    "    Att_30 = SeqSelfAttention(attention_activation='sigmoid')(concat)\n",
    "    merge = keras.layers.Flatten()(Att_30)\n",
    "\n",
    "    \n",
    "    # Output\n",
    "    output = keras.layers.Dense(n_features, name= \"output\")(merge)\n",
    "    \n",
    "    # Model\n",
    "    model_30 = keras.Model(inputs=[channel_Wide,channel_Deep], outputs=[output])\n",
    "\n",
    "    # Compile\n",
    "    model_30.compile(optimizer=keras.optimizers.Adam(hp.Choice(\"learning_rate\", [1e-2, 1e-3, 1e-4])), \n",
    "        loss=\"mae\", metrics=['MeanAbsoluteError','RootMeanSquaredError','MeanAbsolutePercentageError'])\n",
    "                    \n",
    "    return model_30"
   ]
  },
  {
   "cell_type": "code",
   "execution_count": 44,
   "metadata": {},
   "outputs": [
    {
     "name": "stdout",
     "output_type": "stream",
     "text": [
      "INFO:tensorflow:Reloading Oracle from existing project C:\\Runs\\8b-30\\oracle.json\n",
      "INFO:tensorflow:Reloading Tuner from C:\\Runs\\8b-30\\tuner0.json\n"
     ]
    }
   ],
   "source": [
    "tuner30 = RandomSearch(\n",
    "    build_model_30,\n",
    "    objective=\"val_loss\",\n",
    "    max_trials=60,\n",
    "    executions_per_trial=2,\n",
    "    overwrite=False,\n",
    "    directory=os.path.normpath('C:/Runs'),\n",
    "    project_name=\"8b-30\",\n",
    ")"
   ]
  },
  {
   "cell_type": "code",
   "execution_count": 57,
   "metadata": {},
   "outputs": [
    {
     "name": "stdout",
     "output_type": "stream",
     "text": [
      "Search space summary\n",
      "Default search space size: 4\n",
      "units (Int)\n",
      "{'default': None, 'conditions': [], 'min_value': 1, 'max_value': 100, 'step': 1, 'sampling': None}\n",
      "filters (Int)\n",
      "{'default': None, 'conditions': [], 'min_value': 32, 'max_value': 512, 'step': 32, 'sampling': None}\n",
      "kernel_size (Choice)\n",
      "{'default': 2, 'conditions': [], 'values': [2, 3], 'ordered': True}\n",
      "learning_rate (Choice)\n",
      "{'default': 0.01, 'conditions': [], 'values': [0.01, 0.001, 0.0001], 'ordered': True}\n"
     ]
    }
   ],
   "source": [
    "tuner30.search_space_summary()"
   ]
  },
  {
   "cell_type": "code",
   "execution_count": 65,
   "metadata": {},
   "outputs": [
    {
     "name": "stdout",
     "output_type": "stream",
     "text": [
      "Trial 60 Complete [00h 04m 41s]\n",
      "val_loss: 23.014480590820312\n",
      "\n",
      "Best val_loss So Far: 19.529240608215332\n",
      "Total elapsed time: 19h 38m 34s\n",
      "INFO:tensorflow:Oracle triggered exit\n"
     ]
    },
    {
     "name": "stderr",
     "output_type": "stream",
     "text": [
      "INFO:tensorflow:Oracle triggered exit\n"
     ]
    }
   ],
   "source": [
    "tuner30.search((Wt30,Xt30), yt30, epochs=200,\n",
    "            validation_split = val_percent,\n",
    "            callbacks=[early_stop],\n",
    "            verbose=2)"
   ]
  },
  {
   "cell_type": "code",
   "execution_count": 58,
   "metadata": {},
   "outputs": [
    {
     "name": "stdout",
     "output_type": "stream",
     "text": [
      "Results summary\n",
      "Results in C:\\Runs\\8b-30\n",
      "Showing 1 best trials\n",
      "Objective(name='val_loss', direction='min')\n",
      "Trial summary\n",
      "Hyperparameters:\n",
      "units: 46\n",
      "filters: 352\n",
      "kernel_size: 3\n",
      "learning_rate: 0.001\n",
      "Score: 19.529240608215332\n"
     ]
    }
   ],
   "source": [
    "tuner30.results_summary(1)"
   ]
  },
  {
   "cell_type": "markdown",
   "metadata": {},
   "source": [
    "### Best model"
   ]
  },
  {
   "cell_type": "code",
   "execution_count": 45,
   "metadata": {},
   "outputs": [],
   "source": [
    "scaler_filename = \"Best_HP/8b-30\"\n",
    "best_hp30 = joblib.load(scaler_filename) \n",
    "\n",
    "model30 = tuner30.hypermodel.build(best_hp30)"
   ]
  },
  {
   "cell_type": "code",
   "execution_count": 59,
   "metadata": {},
   "outputs": [],
   "source": [
    "best_hp30 = tuner30.get_best_hyperparameters()[0]\n",
    "model30 = tuner30.hypermodel.build(best_hp30)"
   ]
  },
  {
   "cell_type": "code",
   "execution_count": 60,
   "metadata": {},
   "outputs": [
    {
     "data": {
      "text/plain": [
       "['Best_HP/8b-30']"
      ]
     },
     "execution_count": 60,
     "metadata": {},
     "output_type": "execute_result"
    }
   ],
   "source": [
    "scaler_filename = \"Best_HP/8b-30\"\n",
    "joblib.dump(best_hp30, scaler_filename) "
   ]
  },
  {
   "cell_type": "code",
   "execution_count": 62,
   "metadata": {},
   "outputs": [
    {
     "name": "stdout",
     "output_type": "stream",
     "text": [
      "Model: \"model_7\"\n",
      "__________________________________________________________________________________________________\n",
      " Layer (type)                   Output Shape         Param #     Connected to                     \n",
      "==================================================================================================\n",
      " DeepInput (InputLayer)         [(None, 3, 5, 7, 1)  0           []                               \n",
      "                                ]                                                                 \n",
      "                                                                                                  \n",
      " WideInput (InputLayer)         [(None, 3, 3, 7)]    0           []                               \n",
      "                                                                                                  \n",
      " time_distributed_22 (TimeDistr  (None, 3, 3, 5, 352  3520       ['DeepInput[0][0]']              \n",
      " ibuted)                        )                                                                 \n",
      "                                                                                                  \n",
      " time_distributed_21 (TimeDistr  (None, 3, 21)       0           ['WideInput[0][0]']              \n",
      " ibuted)                                                                                          \n",
      "                                                                                                  \n",
      " time_distributed_23 (TimeDistr  (None, 3, 5280)     0           ['time_distributed_22[0][0]']    \n",
      " ibuted)                                                                                          \n",
      "                                                                                                  \n",
      " bidirectional_7 (Bidirectional  (None, 3, 46)       25024       ['time_distributed_21[0][0]']    \n",
      " )                                                                                                \n",
      "                                                                                                  \n",
      " lstm_15 (LSTM)                 (None, 3, 46)        980168      ['time_distributed_23[0][0]']    \n",
      "                                                                                                  \n",
      " concatenate_7 (Concatenate)    (None, 6, 46)        0           ['bidirectional_7[0][0]',        \n",
      "                                                                  'lstm_15[0][0]']                \n",
      "                                                                                                  \n",
      " seq_self_attention_7 (SeqSelfA  (None, 6, 46)       3009        ['concatenate_7[0][0]']          \n",
      " ttention)                                                                                        \n",
      "                                                                                                  \n",
      " flatten_23 (Flatten)           (None, 276)          0           ['seq_self_attention_7[0][0]']   \n",
      "                                                                                                  \n",
      " output (Dense)                 (None, 7)            1939        ['flatten_23[0][0]']             \n",
      "                                                                                                  \n",
      "==================================================================================================\n",
      "Total params: 1,013,660\n",
      "Trainable params: 1,013,660\n",
      "Non-trainable params: 0\n",
      "__________________________________________________________________________________________________\n"
     ]
    }
   ],
   "source": [
    "model30.summary()"
   ]
  },
  {
   "cell_type": "code",
   "execution_count": 46,
   "metadata": {},
   "outputs": [
    {
     "name": "stdout",
     "output_type": "stream",
     "text": [
      "Epoch 1/100\n",
      "778/778 [==============================] - 18s 16ms/step - loss: 133.9634 - mean_absolute_error: 133.9634 - root_mean_squared_error: 170.8688 - mean_absolute_percentage_error: 47120448.0000 - val_loss: 72.4013 - val_mean_absolute_error: 72.4013 - val_root_mean_squared_error: 98.5454 - val_mean_absolute_percentage_error: 3405433.2500\n",
      "Epoch 2/100\n",
      "778/778 [==============================] - 11s 14ms/step - loss: 43.2190 - mean_absolute_error: 43.2190 - root_mean_squared_error: 65.3718 - mean_absolute_percentage_error: 48381660.0000 - val_loss: 29.0260 - val_mean_absolute_error: 29.0260 - val_root_mean_squared_error: 42.1869 - val_mean_absolute_percentage_error: 3490208.5000\n",
      "Epoch 3/100\n",
      "778/778 [==============================] - 11s 14ms/step - loss: 24.5564 - mean_absolute_error: 24.5564 - root_mean_squared_error: 35.6157 - mean_absolute_percentage_error: 52462116.0000 - val_loss: 23.2040 - val_mean_absolute_error: 23.2040 - val_root_mean_squared_error: 32.3828 - val_mean_absolute_percentage_error: 3286463.7500\n",
      "Epoch 4/100\n",
      "778/778 [==============================] - 11s 14ms/step - loss: 21.5058 - mean_absolute_error: 21.5058 - root_mean_squared_error: 30.1059 - mean_absolute_percentage_error: 56325808.0000 - val_loss: 22.1924 - val_mean_absolute_error: 22.1924 - val_root_mean_squared_error: 30.8308 - val_mean_absolute_percentage_error: 3812983.2500\n",
      "Epoch 5/100\n",
      "778/778 [==============================] - 11s 14ms/step - loss: 20.9246 - mean_absolute_error: 20.9246 - root_mean_squared_error: 29.0363 - mean_absolute_percentage_error: 58445028.0000 - val_loss: 22.3363 - val_mean_absolute_error: 22.3363 - val_root_mean_squared_error: 30.8344 - val_mean_absolute_percentage_error: 4042590.2500\n",
      "Epoch 6/100\n",
      "778/778 [==============================] - 11s 14ms/step - loss: 20.7236 - mean_absolute_error: 20.7236 - root_mean_squared_error: 28.6688 - mean_absolute_percentage_error: 58052028.0000 - val_loss: 22.0576 - val_mean_absolute_error: 22.0576 - val_root_mean_squared_error: 30.5744 - val_mean_absolute_percentage_error: 3841701.5000\n",
      "Epoch 7/100\n",
      "778/778 [==============================] - 10s 13ms/step - loss: 20.5462 - mean_absolute_error: 20.5462 - root_mean_squared_error: 28.4107 - mean_absolute_percentage_error: 58137776.0000 - val_loss: 22.7567 - val_mean_absolute_error: 22.7567 - val_root_mean_squared_error: 31.4801 - val_mean_absolute_percentage_error: 3983882.7500\n",
      "Epoch 8/100\n",
      "778/778 [==============================] - 11s 14ms/step - loss: 20.2859 - mean_absolute_error: 20.2859 - root_mean_squared_error: 28.0374 - mean_absolute_percentage_error: 58384404.0000 - val_loss: 21.7628 - val_mean_absolute_error: 21.7628 - val_root_mean_squared_error: 30.1997 - val_mean_absolute_percentage_error: 4011533.5000\n",
      "Epoch 9/100\n",
      "778/778 [==============================] - 11s 14ms/step - loss: 20.1334 - mean_absolute_error: 20.1334 - root_mean_squared_error: 27.8167 - mean_absolute_percentage_error: 58320304.0000 - val_loss: 21.5655 - val_mean_absolute_error: 21.5655 - val_root_mean_squared_error: 29.9665 - val_mean_absolute_percentage_error: 4157952.2500\n",
      "Epoch 10/100\n",
      "778/778 [==============================] - 12s 16ms/step - loss: 19.9859 - mean_absolute_error: 19.9859 - root_mean_squared_error: 27.6020 - mean_absolute_percentage_error: 58932908.0000 - val_loss: 21.2643 - val_mean_absolute_error: 21.2643 - val_root_mean_squared_error: 29.5785 - val_mean_absolute_percentage_error: 4174821.5000\n",
      "Epoch 11/100\n",
      "778/778 [==============================] - 11s 14ms/step - loss: 19.8341 - mean_absolute_error: 19.8341 - root_mean_squared_error: 27.3926 - mean_absolute_percentage_error: 58614928.0000 - val_loss: 21.1129 - val_mean_absolute_error: 21.1129 - val_root_mean_squared_error: 29.3793 - val_mean_absolute_percentage_error: 4201397.5000\n",
      "Epoch 12/100\n",
      "778/778 [==============================] - 11s 14ms/step - loss: 19.6747 - mean_absolute_error: 19.6747 - root_mean_squared_error: 27.1752 - mean_absolute_percentage_error: 58658892.0000 - val_loss: 21.1047 - val_mean_absolute_error: 21.1047 - val_root_mean_squared_error: 29.3740 - val_mean_absolute_percentage_error: 4248053.5000\n",
      "Epoch 13/100\n",
      "778/778 [==============================] - 11s 14ms/step - loss: 19.5299 - mean_absolute_error: 19.5299 - root_mean_squared_error: 26.9744 - mean_absolute_percentage_error: 58320244.0000 - val_loss: 21.1497 - val_mean_absolute_error: 21.1497 - val_root_mean_squared_error: 29.4559 - val_mean_absolute_percentage_error: 4116982.7500\n",
      "Epoch 14/100\n",
      "778/778 [==============================] - 11s 14ms/step - loss: 19.3893 - mean_absolute_error: 19.3893 - root_mean_squared_error: 26.7838 - mean_absolute_percentage_error: 57590172.0000 - val_loss: 20.9994 - val_mean_absolute_error: 20.9994 - val_root_mean_squared_error: 29.1991 - val_mean_absolute_percentage_error: 4239186.5000\n",
      "Epoch 15/100\n",
      "778/778 [==============================] - 11s 14ms/step - loss: 19.3217 - mean_absolute_error: 19.3217 - root_mean_squared_error: 26.6727 - mean_absolute_percentage_error: 57493472.0000 - val_loss: 20.9449 - val_mean_absolute_error: 20.9449 - val_root_mean_squared_error: 29.1539 - val_mean_absolute_percentage_error: 4169496.7500\n",
      "Epoch 16/100\n",
      "778/778 [==============================] - 11s 14ms/step - loss: 19.2090 - mean_absolute_error: 19.2090 - root_mean_squared_error: 26.5273 - mean_absolute_percentage_error: 57141492.0000 - val_loss: 20.7644 - val_mean_absolute_error: 20.7644 - val_root_mean_squared_error: 28.9813 - val_mean_absolute_percentage_error: 4054477.2500\n",
      "Epoch 17/100\n",
      "778/778 [==============================] - 11s 14ms/step - loss: 19.1091 - mean_absolute_error: 19.1091 - root_mean_squared_error: 26.3745 - mean_absolute_percentage_error: 57307120.0000 - val_loss: 20.6088 - val_mean_absolute_error: 20.6088 - val_root_mean_squared_error: 28.7563 - val_mean_absolute_percentage_error: 3988244.2500\n",
      "Epoch 18/100\n",
      "778/778 [==============================] - 11s 14ms/step - loss: 19.0233 - mean_absolute_error: 19.0233 - root_mean_squared_error: 26.2619 - mean_absolute_percentage_error: 56923324.0000 - val_loss: 20.8374 - val_mean_absolute_error: 20.8374 - val_root_mean_squared_error: 29.0096 - val_mean_absolute_percentage_error: 4053385.7500\n",
      "Epoch 19/100\n",
      "778/778 [==============================] - 11s 14ms/step - loss: 18.9548 - mean_absolute_error: 18.9548 - root_mean_squared_error: 26.1602 - mean_absolute_percentage_error: 56553940.0000 - val_loss: 20.3839 - val_mean_absolute_error: 20.3839 - val_root_mean_squared_error: 28.4025 - val_mean_absolute_percentage_error: 4056964.5000\n",
      "Epoch 20/100\n",
      "778/778 [==============================] - 11s 15ms/step - loss: 18.8359 - mean_absolute_error: 18.8359 - root_mean_squared_error: 26.0102 - mean_absolute_percentage_error: 56447924.0000 - val_loss: 20.3855 - val_mean_absolute_error: 20.3855 - val_root_mean_squared_error: 28.4592 - val_mean_absolute_percentage_error: 4023553.0000\n",
      "Epoch 21/100\n",
      "778/778 [==============================] - 11s 14ms/step - loss: 18.8071 - mean_absolute_error: 18.8071 - root_mean_squared_error: 25.9712 - mean_absolute_percentage_error: 55228392.0000 - val_loss: 20.3705 - val_mean_absolute_error: 20.3705 - val_root_mean_squared_error: 28.4281 - val_mean_absolute_percentage_error: 4194226.5000\n",
      "Epoch 22/100\n",
      "778/778 [==============================] - 11s 14ms/step - loss: 18.7341 - mean_absolute_error: 18.7341 - root_mean_squared_error: 25.8601 - mean_absolute_percentage_error: 54402116.0000 - val_loss: 20.3783 - val_mean_absolute_error: 20.3783 - val_root_mean_squared_error: 28.3526 - val_mean_absolute_percentage_error: 3877304.5000\n",
      "Epoch 23/100\n",
      "778/778 [==============================] - 11s 14ms/step - loss: 18.6732 - mean_absolute_error: 18.6732 - root_mean_squared_error: 25.7716 - mean_absolute_percentage_error: 54150768.0000 - val_loss: 20.2783 - val_mean_absolute_error: 20.2783 - val_root_mean_squared_error: 28.2851 - val_mean_absolute_percentage_error: 3895322.7500\n",
      "Epoch 24/100\n",
      "778/778 [==============================] - 11s 14ms/step - loss: 18.6433 - mean_absolute_error: 18.6433 - root_mean_squared_error: 25.7220 - mean_absolute_percentage_error: 53573792.0000 - val_loss: 20.2854 - val_mean_absolute_error: 20.2854 - val_root_mean_squared_error: 28.2121 - val_mean_absolute_percentage_error: 3953996.0000\n"
     ]
    },
    {
     "name": "stdout",
     "output_type": "stream",
     "text": [
      "Epoch 25/100\n",
      "778/778 [==============================] - 11s 14ms/step - loss: 18.5966 - mean_absolute_error: 18.5966 - root_mean_squared_error: 25.6703 - mean_absolute_percentage_error: 53721256.0000 - val_loss: 20.1461 - val_mean_absolute_error: 20.1461 - val_root_mean_squared_error: 28.0087 - val_mean_absolute_percentage_error: 3961391.0000\n",
      "Epoch 26/100\n",
      "778/778 [==============================] - 11s 14ms/step - loss: 18.5424 - mean_absolute_error: 18.5424 - root_mean_squared_error: 25.6027 - mean_absolute_percentage_error: 52587564.0000 - val_loss: 20.1393 - val_mean_absolute_error: 20.1393 - val_root_mean_squared_error: 28.0213 - val_mean_absolute_percentage_error: 4059558.0000\n",
      "Epoch 27/100\n",
      "778/778 [==============================] - 11s 14ms/step - loss: 18.5229 - mean_absolute_error: 18.5229 - root_mean_squared_error: 25.5648 - mean_absolute_percentage_error: 52329676.0000 - val_loss: 20.2117 - val_mean_absolute_error: 20.2117 - val_root_mean_squared_error: 28.0979 - val_mean_absolute_percentage_error: 4028167.0000\n",
      "Epoch 28/100\n",
      "778/778 [==============================] - 11s 14ms/step - loss: 18.5078 - mean_absolute_error: 18.5078 - root_mean_squared_error: 25.5482 - mean_absolute_percentage_error: 52004676.0000 - val_loss: 20.0623 - val_mean_absolute_error: 20.0623 - val_root_mean_squared_error: 27.9356 - val_mean_absolute_percentage_error: 4049989.7500\n",
      "Epoch 29/100\n",
      "778/778 [==============================] - 11s 14ms/step - loss: 18.4418 - mean_absolute_error: 18.4418 - root_mean_squared_error: 25.4774 - mean_absolute_percentage_error: 51246152.0000 - val_loss: 20.4853 - val_mean_absolute_error: 20.4853 - val_root_mean_squared_error: 28.3930 - val_mean_absolute_percentage_error: 4285949.5000\n",
      "Epoch 30/100\n",
      "778/778 [==============================] - 11s 14ms/step - loss: 18.4311 - mean_absolute_error: 18.4311 - root_mean_squared_error: 25.4633 - mean_absolute_percentage_error: 50373536.0000 - val_loss: 20.2689 - val_mean_absolute_error: 20.2689 - val_root_mean_squared_error: 28.0558 - val_mean_absolute_percentage_error: 4036607.0000\n",
      "Epoch 31/100\n",
      "778/778 [==============================] - 11s 14ms/step - loss: 18.3993 - mean_absolute_error: 18.3993 - root_mean_squared_error: 25.4203 - mean_absolute_percentage_error: 50378900.0000 - val_loss: 20.0958 - val_mean_absolute_error: 20.0958 - val_root_mean_squared_error: 27.8779 - val_mean_absolute_percentage_error: 3822932.2500\n",
      "Epoch 32/100\n",
      "778/778 [==============================] - 11s 14ms/step - loss: 18.3709 - mean_absolute_error: 18.3709 - root_mean_squared_error: 25.3690 - mean_absolute_percentage_error: 49779772.0000 - val_loss: 19.8951 - val_mean_absolute_error: 19.8951 - val_root_mean_squared_error: 27.6650 - val_mean_absolute_percentage_error: 4063816.0000\n",
      "Epoch 33/100\n",
      "778/778 [==============================] - 11s 14ms/step - loss: 18.3290 - mean_absolute_error: 18.3290 - root_mean_squared_error: 25.3099 - mean_absolute_percentage_error: 49843256.0000 - val_loss: 19.8483 - val_mean_absolute_error: 19.8483 - val_root_mean_squared_error: 27.5483 - val_mean_absolute_percentage_error: 3939527.2500\n",
      "Epoch 34/100\n",
      "778/778 [==============================] - 11s 14ms/step - loss: 18.3184 - mean_absolute_error: 18.3184 - root_mean_squared_error: 25.3037 - mean_absolute_percentage_error: 49423080.0000 - val_loss: 20.1603 - val_mean_absolute_error: 20.1603 - val_root_mean_squared_error: 27.9609 - val_mean_absolute_percentage_error: 3808166.5000\n",
      "Epoch 35/100\n",
      "778/778 [==============================] - 11s 14ms/step - loss: 18.3132 - mean_absolute_error: 18.3132 - root_mean_squared_error: 25.2665 - mean_absolute_percentage_error: 48491792.0000 - val_loss: 19.8788 - val_mean_absolute_error: 19.8788 - val_root_mean_squared_error: 27.5748 - val_mean_absolute_percentage_error: 4068680.2500\n",
      "Epoch 36/100\n",
      "778/778 [==============================] - 11s 14ms/step - loss: 18.2864 - mean_absolute_error: 18.2864 - root_mean_squared_error: 25.2454 - mean_absolute_percentage_error: 47916912.0000 - val_loss: 19.9730 - val_mean_absolute_error: 19.9730 - val_root_mean_squared_error: 27.7717 - val_mean_absolute_percentage_error: 3971847.5000\n",
      "Epoch 37/100\n",
      "778/778 [==============================] - 11s 14ms/step - loss: 18.2271 - mean_absolute_error: 18.2271 - root_mean_squared_error: 25.1664 - mean_absolute_percentage_error: 47045388.0000 - val_loss: 19.9020 - val_mean_absolute_error: 19.9020 - val_root_mean_squared_error: 27.6652 - val_mean_absolute_percentage_error: 4045940.5000\n",
      "Epoch 38/100\n",
      "778/778 [==============================] - 11s 14ms/step - loss: 18.2055 - mean_absolute_error: 18.2055 - root_mean_squared_error: 25.1408 - mean_absolute_percentage_error: 46737848.0000 - val_loss: 19.9904 - val_mean_absolute_error: 19.9904 - val_root_mean_squared_error: 27.7666 - val_mean_absolute_percentage_error: 4175112.7500\n",
      "Epoch 39/100\n",
      "778/778 [==============================] - 11s 14ms/step - loss: 18.1770 - mean_absolute_error: 18.1770 - root_mean_squared_error: 25.1072 - mean_absolute_percentage_error: 46042556.0000 - val_loss: 19.8686 - val_mean_absolute_error: 19.8686 - val_root_mean_squared_error: 27.6196 - val_mean_absolute_percentage_error: 3887425.7500\n",
      "Epoch 40/100\n",
      "778/778 [==============================] - 11s 14ms/step - loss: 18.1578 - mean_absolute_error: 18.1578 - root_mean_squared_error: 25.0973 - mean_absolute_percentage_error: 45358796.0000 - val_loss: 19.9094 - val_mean_absolute_error: 19.9094 - val_root_mean_squared_error: 27.6587 - val_mean_absolute_percentage_error: 3907699.7500\n",
      "Epoch 41/100\n",
      "778/778 [==============================] - 11s 14ms/step - loss: 18.1309 - mean_absolute_error: 18.1309 - root_mean_squared_error: 25.0491 - mean_absolute_percentage_error: 44173076.0000 - val_loss: 19.9723 - val_mean_absolute_error: 19.9723 - val_root_mean_squared_error: 27.5950 - val_mean_absolute_percentage_error: 3853686.7500\n",
      "Epoch 42/100\n",
      "778/778 [==============================] - 11s 14ms/step - loss: 18.1259 - mean_absolute_error: 18.1259 - root_mean_squared_error: 25.0763 - mean_absolute_percentage_error: 43779428.0000 - val_loss: 19.9840 - val_mean_absolute_error: 19.9840 - val_root_mean_squared_error: 27.6305 - val_mean_absolute_percentage_error: 3934801.5000\n",
      "Epoch 43/100\n",
      "778/778 [==============================] - 11s 14ms/step - loss: 18.1297 - mean_absolute_error: 18.1297 - root_mean_squared_error: 25.0442 - mean_absolute_percentage_error: 43325216.0000 - val_loss: 19.8059 - val_mean_absolute_error: 19.8059 - val_root_mean_squared_error: 27.4366 - val_mean_absolute_percentage_error: 3861469.5000\n",
      "Epoch 44/100\n",
      "778/778 [==============================] - 12s 15ms/step - loss: 18.0991 - mean_absolute_error: 18.0991 - root_mean_squared_error: 25.0168 - mean_absolute_percentage_error: 42682292.0000 - val_loss: 20.0087 - val_mean_absolute_error: 20.0087 - val_root_mean_squared_error: 27.4730 - val_mean_absolute_percentage_error: 3690311.2500\n",
      "Epoch 45/100\n",
      "778/778 [==============================] - 12s 16ms/step - loss: 18.0581 - mean_absolute_error: 18.0581 - root_mean_squared_error: 24.9586 - mean_absolute_percentage_error: 41434924.0000 - val_loss: 19.8531 - val_mean_absolute_error: 19.8531 - val_root_mean_squared_error: 27.4301 - val_mean_absolute_percentage_error: 3847713.2500\n",
      "Epoch 46/100\n",
      "778/778 [==============================] - 13s 16ms/step - loss: 18.0252 - mean_absolute_error: 18.0252 - root_mean_squared_error: 24.9138 - mean_absolute_percentage_error: 40985392.0000 - val_loss: 19.8867 - val_mean_absolute_error: 19.8867 - val_root_mean_squared_error: 27.5112 - val_mean_absolute_percentage_error: 4059374.7500\n",
      "Epoch 47/100\n",
      "778/778 [==============================] - 14s 18ms/step - loss: 18.0193 - mean_absolute_error: 18.0193 - root_mean_squared_error: 24.9079 - mean_absolute_percentage_error: 39955644.0000 - val_loss: 20.1354 - val_mean_absolute_error: 20.1354 - val_root_mean_squared_error: 27.8439 - val_mean_absolute_percentage_error: 4063588.0000\n",
      "Epoch 48/100\n",
      "778/778 [==============================] - 13s 17ms/step - loss: 17.9789 - mean_absolute_error: 17.9789 - root_mean_squared_error: 24.8551 - mean_absolute_percentage_error: 39561964.0000 - val_loss: 19.7289 - val_mean_absolute_error: 19.7289 - val_root_mean_squared_error: 27.2969 - val_mean_absolute_percentage_error: 3875499.5000\n"
     ]
    },
    {
     "name": "stdout",
     "output_type": "stream",
     "text": [
      "Epoch 49/100\n",
      "778/778 [==============================] - 13s 17ms/step - loss: 17.9997 - mean_absolute_error: 17.9997 - root_mean_squared_error: 24.8924 - mean_absolute_percentage_error: 39119636.0000 - val_loss: 19.8366 - val_mean_absolute_error: 19.8366 - val_root_mean_squared_error: 27.4534 - val_mean_absolute_percentage_error: 3624242.7500\n",
      "Epoch 50/100\n",
      "778/778 [==============================] - 12s 15ms/step - loss: 17.9209 - mean_absolute_error: 17.9209 - root_mean_squared_error: 24.7894 - mean_absolute_percentage_error: 38006548.0000 - val_loss: 19.7077 - val_mean_absolute_error: 19.7077 - val_root_mean_squared_error: 27.2305 - val_mean_absolute_percentage_error: 3849801.7500\n",
      "Epoch 51/100\n",
      "778/778 [==============================] - 11s 15ms/step - loss: 17.9130 - mean_absolute_error: 17.9130 - root_mean_squared_error: 24.7888 - mean_absolute_percentage_error: 37239152.0000 - val_loss: 19.8878 - val_mean_absolute_error: 19.8878 - val_root_mean_squared_error: 27.5221 - val_mean_absolute_percentage_error: 3977978.5000\n",
      "Epoch 52/100\n",
      "778/778 [==============================] - 12s 15ms/step - loss: 17.9156 - mean_absolute_error: 17.9156 - root_mean_squared_error: 24.7867 - mean_absolute_percentage_error: 36556724.0000 - val_loss: 19.8563 - val_mean_absolute_error: 19.8563 - val_root_mean_squared_error: 27.4613 - val_mean_absolute_percentage_error: 3837076.7500\n",
      "Epoch 53/100\n",
      "778/778 [==============================] - 12s 15ms/step - loss: 17.8713 - mean_absolute_error: 17.8713 - root_mean_squared_error: 24.7119 - mean_absolute_percentage_error: 35620560.0000 - val_loss: 19.7583 - val_mean_absolute_error: 19.7583 - val_root_mean_squared_error: 27.2353 - val_mean_absolute_percentage_error: 4036541.2500\n",
      "Epoch 54/100\n",
      "778/778 [==============================] - 14s 17ms/step - loss: 17.8545 - mean_absolute_error: 17.8545 - root_mean_squared_error: 24.6985 - mean_absolute_percentage_error: 35492468.0000 - val_loss: 19.8569 - val_mean_absolute_error: 19.8569 - val_root_mean_squared_error: 27.4429 - val_mean_absolute_percentage_error: 3827124.0000\n",
      "Epoch 55/100\n",
      "778/778 [==============================] - 13s 17ms/step - loss: 17.8475 - mean_absolute_error: 17.8475 - root_mean_squared_error: 24.6899 - mean_absolute_percentage_error: 34651348.0000 - val_loss: 19.8269 - val_mean_absolute_error: 19.8269 - val_root_mean_squared_error: 27.3629 - val_mean_absolute_percentage_error: 3785844.0000\n",
      "Epoch 56/100\n",
      "778/778 [==============================] - 12s 16ms/step - loss: 17.8173 - mean_absolute_error: 17.8173 - root_mean_squared_error: 24.6583 - mean_absolute_percentage_error: 33590480.0000 - val_loss: 19.7618 - val_mean_absolute_error: 19.7618 - val_root_mean_squared_error: 27.2314 - val_mean_absolute_percentage_error: 3750567.2500\n",
      "Epoch 57/100\n",
      "778/778 [==============================] - 12s 15ms/step - loss: 17.7967 - mean_absolute_error: 17.7967 - root_mean_squared_error: 24.6234 - mean_absolute_percentage_error: 33232842.0000 - val_loss: 19.8642 - val_mean_absolute_error: 19.8642 - val_root_mean_squared_error: 27.4855 - val_mean_absolute_percentage_error: 3855126.0000\n",
      "Epoch 58/100\n",
      "778/778 [==============================] - 13s 16ms/step - loss: 17.7916 - mean_absolute_error: 17.7916 - root_mean_squared_error: 24.6134 - mean_absolute_percentage_error: 32063602.0000 - val_loss: 19.9047 - val_mean_absolute_error: 19.9047 - val_root_mean_squared_error: 27.5217 - val_mean_absolute_percentage_error: 3762492.2500\n",
      "Epoch 59/100\n",
      "778/778 [==============================] - 12s 15ms/step - loss: 17.7409 - mean_absolute_error: 17.7409 - root_mean_squared_error: 24.5630 - mean_absolute_percentage_error: 31221942.0000 - val_loss: 19.8621 - val_mean_absolute_error: 19.8621 - val_root_mean_squared_error: 27.3656 - val_mean_absolute_percentage_error: 3840068.2500\n",
      "Epoch 60/100\n",
      "778/778 [==============================] - 12s 15ms/step - loss: 17.7514 - mean_absolute_error: 17.7514 - root_mean_squared_error: 24.5625 - mean_absolute_percentage_error: 30428802.0000 - val_loss: 19.8116 - val_mean_absolute_error: 19.8116 - val_root_mean_squared_error: 27.4297 - val_mean_absolute_percentage_error: 3885194.0000\n",
      "Epoch 61/100\n",
      "778/778 [==============================] - 12s 15ms/step - loss: 17.7114 - mean_absolute_error: 17.7114 - root_mean_squared_error: 24.5038 - mean_absolute_percentage_error: 29270654.0000 - val_loss: 19.7060 - val_mean_absolute_error: 19.7060 - val_root_mean_squared_error: 27.1763 - val_mean_absolute_percentage_error: 3756458.0000\n",
      "Epoch 62/100\n",
      "778/778 [==============================] - 12s 15ms/step - loss: 17.7023 - mean_absolute_error: 17.7023 - root_mean_squared_error: 24.5055 - mean_absolute_percentage_error: 29042444.0000 - val_loss: 19.7794 - val_mean_absolute_error: 19.7794 - val_root_mean_squared_error: 27.3156 - val_mean_absolute_percentage_error: 3975575.2500\n",
      "Epoch 63/100\n",
      "778/778 [==============================] - 12s 15ms/step - loss: 17.6913 - mean_absolute_error: 17.6913 - root_mean_squared_error: 24.5035 - mean_absolute_percentage_error: 28028166.0000 - val_loss: 19.6924 - val_mean_absolute_error: 19.6924 - val_root_mean_squared_error: 27.1368 - val_mean_absolute_percentage_error: 4029330.2500\n",
      "Epoch 64/100\n",
      "778/778 [==============================] - 12s 15ms/step - loss: 17.6714 - mean_absolute_error: 17.6714 - root_mean_squared_error: 24.4650 - mean_absolute_percentage_error: 27169926.0000 - val_loss: 19.7477 - val_mean_absolute_error: 19.7477 - val_root_mean_squared_error: 27.2087 - val_mean_absolute_percentage_error: 3842159.7500\n",
      "Epoch 65/100\n",
      "778/778 [==============================] - 12s 15ms/step - loss: 17.6248 - mean_absolute_error: 17.6248 - root_mean_squared_error: 24.3997 - mean_absolute_percentage_error: 26769534.0000 - val_loss: 19.6815 - val_mean_absolute_error: 19.6815 - val_root_mean_squared_error: 27.1491 - val_mean_absolute_percentage_error: 3838416.7500\n",
      "Epoch 66/100\n",
      "778/778 [==============================] - 12s 15ms/step - loss: 17.6081 - mean_absolute_error: 17.6081 - root_mean_squared_error: 24.3876 - mean_absolute_percentage_error: 25720260.0000 - val_loss: 19.6098 - val_mean_absolute_error: 19.6098 - val_root_mean_squared_error: 27.0262 - val_mean_absolute_percentage_error: 3881522.0000\n",
      "Epoch 67/100\n",
      "778/778 [==============================] - 11s 14ms/step - loss: 17.5885 - mean_absolute_error: 17.5885 - root_mean_squared_error: 24.3667 - mean_absolute_percentage_error: 25472052.0000 - val_loss: 19.7808 - val_mean_absolute_error: 19.7808 - val_root_mean_squared_error: 27.2871 - val_mean_absolute_percentage_error: 3780338.2500\n",
      "Epoch 68/100\n",
      "778/778 [==============================] - 11s 14ms/step - loss: 17.5712 - mean_absolute_error: 17.5712 - root_mean_squared_error: 24.3368 - mean_absolute_percentage_error: 24825564.0000 - val_loss: 19.7808 - val_mean_absolute_error: 19.7808 - val_root_mean_squared_error: 27.2435 - val_mean_absolute_percentage_error: 3840137.0000\n",
      "Epoch 69/100\n",
      "778/778 [==============================] - 11s 14ms/step - loss: 17.5774 - mean_absolute_error: 17.5774 - root_mean_squared_error: 24.3593 - mean_absolute_percentage_error: 24120914.0000 - val_loss: 19.8384 - val_mean_absolute_error: 19.8384 - val_root_mean_squared_error: 27.3165 - val_mean_absolute_percentage_error: 3781219.7500\n",
      "Epoch 70/100\n",
      "778/778 [==============================] - 11s 14ms/step - loss: 17.5385 - mean_absolute_error: 17.5385 - root_mean_squared_error: 24.2954 - mean_absolute_percentage_error: 23878472.0000 - val_loss: 19.8466 - val_mean_absolute_error: 19.8466 - val_root_mean_squared_error: 27.2613 - val_mean_absolute_percentage_error: 3887601.7500\n",
      "Epoch 71/100\n",
      "778/778 [==============================] - 11s 15ms/step - loss: 17.5296 - mean_absolute_error: 17.5296 - root_mean_squared_error: 24.2926 - mean_absolute_percentage_error: 23031538.0000 - val_loss: 20.3313 - val_mean_absolute_error: 20.3313 - val_root_mean_squared_error: 27.8165 - val_mean_absolute_percentage_error: 3704946.0000\n",
      "Epoch 72/100\n",
      "778/778 [==============================] - 11s 14ms/step - loss: 17.5146 - mean_absolute_error: 17.5146 - root_mean_squared_error: 24.2689 - mean_absolute_percentage_error: 22146334.0000 - val_loss: 19.7818 - val_mean_absolute_error: 19.7818 - val_root_mean_squared_error: 27.3375 - val_mean_absolute_percentage_error: 3904132.2500\n"
     ]
    },
    {
     "name": "stdout",
     "output_type": "stream",
     "text": [
      "Epoch 73/100\n",
      "778/778 [==============================] - 11s 14ms/step - loss: 17.4786 - mean_absolute_error: 17.4786 - root_mean_squared_error: 24.2353 - mean_absolute_percentage_error: 21371714.0000 - val_loss: 20.1256 - val_mean_absolute_error: 20.1256 - val_root_mean_squared_error: 27.7281 - val_mean_absolute_percentage_error: 3825783.5000\n",
      "Epoch 74/100\n",
      "778/778 [==============================] - 11s 14ms/step - loss: 17.4797 - mean_absolute_error: 17.4797 - root_mean_squared_error: 24.2487 - mean_absolute_percentage_error: 20466048.0000 - val_loss: 20.2083 - val_mean_absolute_error: 20.2083 - val_root_mean_squared_error: 27.6518 - val_mean_absolute_percentage_error: 3882431.5000\n",
      "Epoch 75/100\n",
      "778/778 [==============================] - 11s 15ms/step - loss: 17.4717 - mean_absolute_error: 17.4717 - root_mean_squared_error: 24.2156 - mean_absolute_percentage_error: 19755618.0000 - val_loss: 19.7905 - val_mean_absolute_error: 19.7905 - val_root_mean_squared_error: 27.2274 - val_mean_absolute_percentage_error: 3822832.7500\n",
      "Epoch 76/100\n",
      "778/778 [==============================] - 12s 15ms/step - loss: 17.4427 - mean_absolute_error: 17.4427 - root_mean_squared_error: 24.1931 - mean_absolute_percentage_error: 19398688.0000 - val_loss: 19.7305 - val_mean_absolute_error: 19.7305 - val_root_mean_squared_error: 27.1301 - val_mean_absolute_percentage_error: 3834921.0000\n",
      "Epoch 77/100\n",
      "778/778 [==============================] - 11s 15ms/step - loss: 17.4266 - mean_absolute_error: 17.4266 - root_mean_squared_error: 24.1795 - mean_absolute_percentage_error: 18398352.0000 - val_loss: 19.6484 - val_mean_absolute_error: 19.6484 - val_root_mean_squared_error: 27.0146 - val_mean_absolute_percentage_error: 3934990.2500\n",
      "Epoch 78/100\n",
      "778/778 [==============================] - 11s 14ms/step - loss: 17.3801 - mean_absolute_error: 17.3801 - root_mean_squared_error: 24.1162 - mean_absolute_percentage_error: 17772908.0000 - val_loss: 19.5942 - val_mean_absolute_error: 19.5942 - val_root_mean_squared_error: 26.9437 - val_mean_absolute_percentage_error: 3884885.0000\n",
      "Epoch 79/100\n",
      "778/778 [==============================] - 11s 14ms/step - loss: 17.3597 - mean_absolute_error: 17.3597 - root_mean_squared_error: 24.0947 - mean_absolute_percentage_error: 17177884.0000 - val_loss: 19.7688 - val_mean_absolute_error: 19.7688 - val_root_mean_squared_error: 27.2029 - val_mean_absolute_percentage_error: 3785212.2500\n",
      "Epoch 80/100\n",
      "778/778 [==============================] - 11s 14ms/step - loss: 17.3333 - mean_absolute_error: 17.3333 - root_mean_squared_error: 24.0542 - mean_absolute_percentage_error: 16580732.0000 - val_loss: 19.6777 - val_mean_absolute_error: 19.6777 - val_root_mean_squared_error: 27.0459 - val_mean_absolute_percentage_error: 3870951.5000\n",
      "Epoch 81/100\n",
      "778/778 [==============================] - 12s 16ms/step - loss: 17.3032 - mean_absolute_error: 17.3032 - root_mean_squared_error: 24.0305 - mean_absolute_percentage_error: 16034104.0000 - val_loss: 19.6671 - val_mean_absolute_error: 19.6671 - val_root_mean_squared_error: 27.0408 - val_mean_absolute_percentage_error: 3890915.7500\n",
      "Epoch 82/100\n",
      "778/778 [==============================] - 11s 15ms/step - loss: 17.2866 - mean_absolute_error: 17.2866 - root_mean_squared_error: 24.0058 - mean_absolute_percentage_error: 15430480.0000 - val_loss: 19.7251 - val_mean_absolute_error: 19.7251 - val_root_mean_squared_error: 27.0572 - val_mean_absolute_percentage_error: 3781835.0000\n",
      "Epoch 83/100\n",
      "778/778 [==============================] - 11s 14ms/step - loss: 17.3014 - mean_absolute_error: 17.3014 - root_mean_squared_error: 24.0090 - mean_absolute_percentage_error: 14877535.0000 - val_loss: 19.7068 - val_mean_absolute_error: 19.7068 - val_root_mean_squared_error: 27.1123 - val_mean_absolute_percentage_error: 3913488.7500\n",
      "Epoch 84/100\n",
      "778/778 [==============================] - 10s 13ms/step - loss: 17.2561 - mean_absolute_error: 17.2561 - root_mean_squared_error: 24.0027 - mean_absolute_percentage_error: 14603985.0000 - val_loss: 19.6771 - val_mean_absolute_error: 19.6771 - val_root_mean_squared_error: 26.9981 - val_mean_absolute_percentage_error: 4029979.5000\n",
      "Epoch 85/100\n",
      "778/778 [==============================] - 11s 14ms/step - loss: 17.2604 - mean_absolute_error: 17.2604 - root_mean_squared_error: 23.9905 - mean_absolute_percentage_error: 14087666.0000 - val_loss: 20.1141 - val_mean_absolute_error: 20.1141 - val_root_mean_squared_error: 27.4799 - val_mean_absolute_percentage_error: 3789836.0000\n",
      "Epoch 86/100\n",
      "778/778 [==============================] - 11s 14ms/step - loss: 17.2277 - mean_absolute_error: 17.2277 - root_mean_squared_error: 23.9440 - mean_absolute_percentage_error: 14455176.0000 - val_loss: 19.6933 - val_mean_absolute_error: 19.6933 - val_root_mean_squared_error: 26.9365 - val_mean_absolute_percentage_error: 4136312.0000\n",
      "Epoch 87/100\n",
      "778/778 [==============================] - 11s 14ms/step - loss: 17.2319 - mean_absolute_error: 17.2319 - root_mean_squared_error: 23.9555 - mean_absolute_percentage_error: 13828288.0000 - val_loss: 19.8966 - val_mean_absolute_error: 19.8966 - val_root_mean_squared_error: 27.2323 - val_mean_absolute_percentage_error: 3971393.7500\n",
      "Epoch 88/100\n",
      "778/778 [==============================] - 11s 15ms/step - loss: 17.2021 - mean_absolute_error: 17.2021 - root_mean_squared_error: 23.9239 - mean_absolute_percentage_error: 13657134.0000 - val_loss: 19.8666 - val_mean_absolute_error: 19.8666 - val_root_mean_squared_error: 27.2134 - val_mean_absolute_percentage_error: 3866700.0000\n",
      "Epoch 89/100\n",
      "778/778 [==============================] - 11s 14ms/step - loss: 17.1887 - mean_absolute_error: 17.1887 - root_mean_squared_error: 23.8824 - mean_absolute_percentage_error: 13341209.0000 - val_loss: 19.7596 - val_mean_absolute_error: 19.7596 - val_root_mean_squared_error: 27.2001 - val_mean_absolute_percentage_error: 3956572.2500\n",
      "Epoch 90/100\n",
      "778/778 [==============================] - 11s 14ms/step - loss: 17.1633 - mean_absolute_error: 17.1633 - root_mean_squared_error: 23.8697 - mean_absolute_percentage_error: 13234211.0000 - val_loss: 19.7435 - val_mean_absolute_error: 19.7435 - val_root_mean_squared_error: 27.0684 - val_mean_absolute_percentage_error: 4084572.7500\n",
      "Epoch 91/100\n",
      "778/778 [==============================] - 11s 14ms/step - loss: 17.1548 - mean_absolute_error: 17.1548 - root_mean_squared_error: 23.8651 - mean_absolute_percentage_error: 13143478.0000 - val_loss: 19.9311 - val_mean_absolute_error: 19.9311 - val_root_mean_squared_error: 27.3665 - val_mean_absolute_percentage_error: 4039416.7500\n",
      "Epoch 92/100\n",
      "778/778 [==============================] - 11s 14ms/step - loss: 17.0851 - mean_absolute_error: 17.0851 - root_mean_squared_error: 23.7737 - mean_absolute_percentage_error: 13079824.0000 - val_loss: 19.7370 - val_mean_absolute_error: 19.7370 - val_root_mean_squared_error: 27.0308 - val_mean_absolute_percentage_error: 4029476.0000\n",
      "Epoch 93/100\n",
      "778/778 [==============================] - 11s 14ms/step - loss: 17.1285 - mean_absolute_error: 17.1285 - root_mean_squared_error: 23.8251 - mean_absolute_percentage_error: 12843539.0000 - val_loss: 19.7543 - val_mean_absolute_error: 19.7543 - val_root_mean_squared_error: 27.0788 - val_mean_absolute_percentage_error: 4015689.7500\n",
      "Epoch 94/100\n",
      "778/778 [==============================] - 11s 14ms/step - loss: 17.0715 - mean_absolute_error: 17.0715 - root_mean_squared_error: 23.7707 - mean_absolute_percentage_error: 12868306.0000 - val_loss: 19.7049 - val_mean_absolute_error: 19.7049 - val_root_mean_squared_error: 27.0038 - val_mean_absolute_percentage_error: 4055649.5000\n",
      "Epoch 95/100\n",
      "778/778 [==============================] - 11s 14ms/step - loss: 17.0540 - mean_absolute_error: 17.0540 - root_mean_squared_error: 23.7388 - mean_absolute_percentage_error: 12667050.0000 - val_loss: 19.9094 - val_mean_absolute_error: 19.9094 - val_root_mean_squared_error: 27.2664 - val_mean_absolute_percentage_error: 4067421.0000\n",
      "Epoch 96/100\n",
      "778/778 [==============================] - 11s 14ms/step - loss: 17.0629 - mean_absolute_error: 17.0629 - root_mean_squared_error: 23.7530 - mean_absolute_percentage_error: 12508379.0000 - val_loss: 20.1582 - val_mean_absolute_error: 20.1582 - val_root_mean_squared_error: 27.5239 - val_mean_absolute_percentage_error: 4165041.2500\n"
     ]
    },
    {
     "name": "stdout",
     "output_type": "stream",
     "text": [
      "Epoch 97/100\n",
      "778/778 [==============================] - 11s 14ms/step - loss: 17.0526 - mean_absolute_error: 17.0526 - root_mean_squared_error: 23.7368 - mean_absolute_percentage_error: 12135226.0000 - val_loss: 19.8534 - val_mean_absolute_error: 19.8534 - val_root_mean_squared_error: 27.2001 - val_mean_absolute_percentage_error: 4168346.0000\n",
      "Epoch 98/100\n",
      "778/778 [==============================] - 11s 14ms/step - loss: 17.0015 - mean_absolute_error: 17.0015 - root_mean_squared_error: 23.6674 - mean_absolute_percentage_error: 12199987.0000 - val_loss: 19.7615 - val_mean_absolute_error: 19.7615 - val_root_mean_squared_error: 27.0665 - val_mean_absolute_percentage_error: 4089502.2500\n",
      "Epoch 99/100\n",
      "778/778 [==============================] - 11s 14ms/step - loss: 17.0253 - mean_absolute_error: 17.0253 - root_mean_squared_error: 23.7051 - mean_absolute_percentage_error: 12027447.0000 - val_loss: 19.9564 - val_mean_absolute_error: 19.9564 - val_root_mean_squared_error: 27.3502 - val_mean_absolute_percentage_error: 4077328.2500\n",
      "Epoch 100/100\n",
      "778/778 [==============================] - 11s 14ms/step - loss: 16.9850 - mean_absolute_error: 16.9850 - root_mean_squared_error: 23.6801 - mean_absolute_percentage_error: 12005401.0000 - val_loss: 19.6507 - val_mean_absolute_error: 19.6507 - val_root_mean_squared_error: 26.8532 - val_mean_absolute_percentage_error: 3884000.0000\n"
     ]
    },
    {
     "data": {
      "text/plain": [
       "<keras.callbacks.History at 0x22ff17a4460>"
      ]
     },
     "execution_count": 46,
     "metadata": {},
     "output_type": "execute_result"
    }
   ],
   "source": [
    "model30.fit((Wt30,Xt30), yt30, validation_split = val_percent,\n",
    "            epochs = 100, \n",
    "            verbose = 1)"
   ]
  },
  {
   "cell_type": "code",
   "execution_count": 47,
   "metadata": {},
   "outputs": [],
   "source": [
    "metrics30 = pd.DataFrame(model30.history.history)"
   ]
  },
  {
   "cell_type": "code",
   "execution_count": 97,
   "metadata": {},
   "outputs": [
    {
     "data": {
      "text/plain": [
       "(<mpl_toolkits.axes_grid1.inset_locator.BboxPatch at 0x271f4726e80>,\n",
       " <mpl_toolkits.axes_grid1.inset_locator.BboxConnector at 0x271f477f850>,\n",
       " <mpl_toolkits.axes_grid1.inset_locator.BboxConnector at 0x271f477fa90>)"
      ]
     },
     "execution_count": 97,
     "metadata": {},
     "output_type": "execute_result"
    },
    {
     "data": {
      "image/png": "[encoded data removed]",
      "text/plain": [
       "<Figure size 432x288 with 2 Axes>"
      ]
     },
     "metadata": {
      "needs_background": "light"
     },
     "output_type": "display_data"
    }
   ],
   "source": [
    "fig = plt.figure(figsize=(6,4))\n",
    "\n",
    "# Add set of axes to figure\n",
    "axes = fig.add_axes([0, 0, 1, 1]) \n",
    "axes2 = fig.add_axes([0.35, 0.45, 0.5, 0.5]) # Smaller figure\n",
    "axes.plot(metrics30[['loss','val_loss']], label=['train_loss','val_loss'], lw=4)\n",
    "axes.set_ylim(10,60)\n",
    "\n",
    "axes2.plot(metrics30[['loss','val_loss']], lw=4)\n",
    "axes2.set_xlim(0,20)\n",
    "axes2.set_ylim(15,30)\n",
    "#plt.xticks(visible=False)\n",
    "plt.yticks(visible=False)\n",
    "\n",
    "axes.set_xlabel('Epoch')\n",
    "axes.set_ylabel('Loss')\n",
    "axes.grid()\n",
    "axes2.grid()\n",
    "\n",
    "mark_inset(axes, axes2, loc1=2, loc2=4, fc=\"0.9\", ec=\"0.1\", ls='--')\n",
    "#axes.yaxis.set_major_formatter(formatter)"
   ]
  },
  {
   "cell_type": "code",
   "execution_count": 71,
   "metadata": {},
   "outputs": [
    {
     "name": "stderr",
     "output_type": "stream",
     "text": [
      "WARNING:absl:Function `_wrapped_model` contains input name(s) WideInput, DeepInput with unsupported characters which will be renamed to wideinput, deepinput in the SavedModel.\n",
      "WARNING:absl:Found untraced functions such as lstm_cell_7_layer_call_fn, lstm_cell_7_layer_call_and_return_conditional_losses, lstm_cell_5_layer_call_fn, lstm_cell_5_layer_call_and_return_conditional_losses, lstm_cell_6_layer_call_fn while saving (showing 5 of 15). These functions will not be directly callable after loading.\n"
     ]
    },
    {
     "name": "stdout",
     "output_type": "stream",
     "text": [
      "INFO:tensorflow:Assets written to: my_dir/8b-30\\assets\n"
     ]
    },
    {
     "name": "stderr",
     "output_type": "stream",
     "text": [
      "INFO:tensorflow:Assets written to: my_dir/8b-30\\assets\n",
      "WARNING:absl:<keras.layers.recurrent.LSTMCell object at 0x0000024441C377C0> has the same name 'LSTMCell' as a built-in Keras object. Consider renaming <class 'keras.layers.recurrent.LSTMCell'> to avoid naming conflicts when loading with `tf.keras.models.load_model`. If renaming is not possible, pass the object in the `custom_objects` parameter of the load function.\n",
      "WARNING:absl:<keras.layers.recurrent.LSTMCell object at 0x0000024427D68FD0> has the same name 'LSTMCell' as a built-in Keras object. Consider renaming <class 'keras.layers.recurrent.LSTMCell'> to avoid naming conflicts when loading with `tf.keras.models.load_model`. If renaming is not possible, pass the object in the `custom_objects` parameter of the load function.\n",
      "WARNING:absl:<keras.layers.recurrent.LSTMCell object at 0x000002439751FFA0> has the same name 'LSTMCell' as a built-in Keras object. Consider renaming <class 'keras.layers.recurrent.LSTMCell'> to avoid naming conflicts when loading with `tf.keras.models.load_model`. If renaming is not possible, pass the object in the `custom_objects` parameter of the load function.\n"
     ]
    }
   ],
   "source": [
    "model30.save(\"my_dir/8b-30\")"
   ]
  },
  {
   "cell_type": "code",
   "execution_count": 74,
   "metadata": {},
   "outputs": [],
   "source": [
    "model30 = keras.models.load_model(\"my_dir/8b-30\")"
   ]
  },
  {
   "cell_type": "code",
   "execution_count": 75,
   "metadata": {},
   "outputs": [
    {
     "data": {
      "text/plain": [
       "array([[ 60.261044,  59.30209 ,  70.363594, ...,  69.09102 ,  43.919075,\n",
       "         44.013596],\n",
       "       [ 54.56575 ,  54.011482,  63.068604, ...,  61.46197 ,  40.238613,\n",
       "         40.845512],\n",
       "       [ 54.32097 ,  55.126602,  62.123085, ...,  61.06039 ,  39.761414,\n",
       "         43.3049  ],\n",
       "       ...,\n",
       "       [141.20145 , 145.89293 , 157.179   , ..., 153.10135 ,  97.52034 ,\n",
       "         90.65527 ],\n",
       "       [143.41713 , 147.90068 , 159.78201 , ..., 155.69283 , 101.93271 ,\n",
       "         92.21802 ],\n",
       "       [126.613686, 131.52786 , 144.02011 , ..., 134.02197 ,  91.81402 ,\n",
       "         79.58982 ]], dtype=float32)"
      ]
     },
     "execution_count": 75,
     "metadata": {},
     "output_type": "execute_result"
    }
   ],
   "source": [
    "model30.predict((Wv30,Xv30))"
   ]
  },
  {
   "cell_type": "markdown",
   "metadata": {},
   "source": [
    "### Evaluation on inverse_transform"
   ]
  },
  {
   "cell_type": "code",
   "execution_count": null,
   "metadata": {},
   "outputs": [],
   "source": [
    "test_predictions30 = model30.predict((Wv30,Xv30))\n",
    "\n",
    "\n",
    "MSE30 = mean_squared_error(yv30,test_predictions30)\n",
    "\n",
    "MAE30 = mean_absolute_error(yv30,test_predictions30)\n",
    "\n",
    "RMSE30 = np.sqrt(MSE30)\n",
    "\n",
    "MAPE30 = mean_absolute_percentage_error(yv30,test_predictions30)*100\n",
    "\n",
    "eval30 = [MSE30, MAE30, RMSE30, MAPE30]\n",
    "print(eval30)"
   ]
  },
  {
   "cell_type": "code",
   "execution_count": null,
   "metadata": {},
   "outputs": [],
   "source": [
    "GEH, count = ga.GEH(np.asarray(yv30), np.asarray(test_predictions30))\n",
    "GEH30 = count/GEH.size\n",
    "print(GEH30)"
   ]
  },
  {
   "cell_type": "markdown",
   "metadata": {},
   "source": [
    "# 60 mins ahead"
   ]
  },
  {
   "cell_type": "code",
   "execution_count": 48,
   "metadata": {},
   "outputs": [],
   "source": [
    "def build_model_60(hp):\n",
    "    # Inputs\n",
    "    channel_Wide = keras.layers.Input(shape=Wt60.shape[1:], name=\"WideInput\")\n",
    "    channel_Deep = keras.layers.Input(shape=Xt60.shape[1:], name=\"DeepInput\")\n",
    "    units = hp.Int(\"units\", min_value=1, max_value=100, step=1)\n",
    "    \n",
    "    \n",
    "    # Wide Model\n",
    "    flatten_60w = keras.layers.TimeDistributed(keras.layers.Flatten())(channel_Wide)\n",
    "    Bi_60 = keras.layers.Bidirectional(\n",
    "        keras.layers.LSTM(units=units, return_sequences=True),\n",
    "        merge_mode=\"ave\"\n",
    "    )(flatten_60w)\n",
    "    \n",
    "    \n",
    "    # Deep Model\n",
    "    # CNN \n",
    "    CNN_60 = keras.layers.TimeDistributed(\n",
    "        keras.layers.Conv2D(filters=hp.Int(\"filters\", min_value=32, max_value=512, step=32),\n",
    "                            kernel_size=hp.Choice(\"kernel_size\", [2, 3]), activation='relu'))(channel_Deep)\n",
    "    flatten_60 = keras.layers.TimeDistributed(keras.layers.Flatten())(CNN_60)\n",
    "    # LSTM          \n",
    "    LSTM_60 = keras.layers.LSTM(units=units, return_sequences=True)(flatten_60)\n",
    "\n",
    "    \n",
    "    # Concatenation \n",
    "    concat = keras.layers.concatenate([Bi_60, LSTM_60], axis=1)\n",
    "\n",
    "    # Attention\n",
    "    Att_60 = SeqSelfAttention(attention_activation='sigmoid')(concat)\n",
    "    merge = keras.layers.Flatten()(Att_60)\n",
    "\n",
    "    \n",
    "    # Output\n",
    "    output = keras.layers.Dense(n_features, name= \"output\")(merge)\n",
    "    \n",
    "    # Model\n",
    "    model_60 = keras.Model(inputs=[channel_Wide,channel_Deep], outputs=[output])\n",
    "\n",
    "    # Compile\n",
    "    model_60.compile(optimizer=keras.optimizers.Adam(hp.Choice(\"learning_rate\", [1e-2, 1e-3, 1e-4])), \n",
    "        loss=\"mae\", metrics=['MeanAbsoluteError','RootMeanSquaredError','MeanAbsolutePercentageError'])\n",
    "                    \n",
    "    return model_60"
   ]
  },
  {
   "cell_type": "code",
   "execution_count": 49,
   "metadata": {},
   "outputs": [
    {
     "name": "stdout",
     "output_type": "stream",
     "text": [
      "INFO:tensorflow:Reloading Oracle from existing project C:\\Runs\\8b-60\\oracle.json\n",
      "INFO:tensorflow:Reloading Tuner from C:\\Runs\\8b-60\\tuner0.json\n"
     ]
    }
   ],
   "source": [
    "tuner60 = RandomSearch(\n",
    "    build_model_60,\n",
    "    objective=\"val_loss\",\n",
    "    max_trials=60,\n",
    "    executions_per_trial=2,\n",
    "    overwrite=False,\n",
    "    directory=os.path.normpath('C:/Runs'),\n",
    "    project_name=\"8b-60\",\n",
    ")"
   ]
  },
  {
   "cell_type": "code",
   "execution_count": 80,
   "metadata": {},
   "outputs": [
    {
     "name": "stdout",
     "output_type": "stream",
     "text": [
      "Search space summary\n",
      "Default search space size: 4\n",
      "units (Int)\n",
      "{'default': None, 'conditions': [], 'min_value': 1, 'max_value': 100, 'step': 1, 'sampling': None}\n",
      "filters (Int)\n",
      "{'default': None, 'conditions': [], 'min_value': 32, 'max_value': 512, 'step': 32, 'sampling': None}\n",
      "kernel_size (Choice)\n",
      "{'default': 2, 'conditions': [], 'values': [2, 3], 'ordered': True}\n",
      "learning_rate (Choice)\n",
      "{'default': 0.01, 'conditions': [], 'values': [0.01, 0.001, 0.0001], 'ordered': True}\n"
     ]
    }
   ],
   "source": [
    "tuner60.search_space_summary()"
   ]
  },
  {
   "cell_type": "code",
   "execution_count": 81,
   "metadata": {},
   "outputs": [
    {
     "name": "stdout",
     "output_type": "stream",
     "text": [
      "Trial 60 Complete [00h 04m 29s]\n",
      "val_loss: 23.015589714050293\n",
      "\n",
      "Best val_loss So Far: 20.66716766357422\n",
      "Total elapsed time: 16h 18m 33s\n",
      "INFO:tensorflow:Oracle triggered exit\n"
     ]
    },
    {
     "name": "stderr",
     "output_type": "stream",
     "text": [
      "INFO:tensorflow:Oracle triggered exit\n"
     ]
    }
   ],
   "source": [
    "tuner60.search((Wt60,Xt60), yt60, epochs=200,\n",
    "            validation_split = val_percent,\n",
    "            callbacks=[early_stop],\n",
    "            verbose=2)"
   ]
  },
  {
   "cell_type": "code",
   "execution_count": 82,
   "metadata": {},
   "outputs": [
    {
     "name": "stdout",
     "output_type": "stream",
     "text": [
      "Results summary\n",
      "Results in C:\\Runs\\8b-60\n",
      "Showing 1 best trials\n",
      "Objective(name='val_loss', direction='min')\n",
      "Trial summary\n",
      "Hyperparameters:\n",
      "units: 86\n",
      "filters: 64\n",
      "kernel_size: 3\n",
      "learning_rate: 0.001\n",
      "Score: 20.66716766357422\n"
     ]
    }
   ],
   "source": [
    "tuner60.results_summary(1)"
   ]
  },
  {
   "cell_type": "markdown",
   "metadata": {},
   "source": [
    "### Best model"
   ]
  },
  {
   "cell_type": "code",
   "execution_count": 50,
   "metadata": {},
   "outputs": [],
   "source": [
    "scaler_filename = \"Best_HP/8b-60\"\n",
    "best_hp60 = joblib.load(scaler_filename) \n",
    "\n",
    "model60 = tuner60.hypermodel.build(best_hp60)"
   ]
  },
  {
   "cell_type": "code",
   "execution_count": 83,
   "metadata": {},
   "outputs": [],
   "source": [
    "best_hp60 = tuner60.get_best_hyperparameters()[0]\n",
    "model60 = tuner60.hypermodel.build(best_hp60)"
   ]
  },
  {
   "cell_type": "code",
   "execution_count": 84,
   "metadata": {},
   "outputs": [
    {
     "data": {
      "text/plain": [
       "['Best_HP/8b-60']"
      ]
     },
     "execution_count": 84,
     "metadata": {},
     "output_type": "execute_result"
    }
   ],
   "source": [
    "scaler_filename = \"Best_HP/8b-60\"\n",
    "joblib.dump(best_hp60, scaler_filename) "
   ]
  },
  {
   "cell_type": "code",
   "execution_count": 85,
   "metadata": {},
   "outputs": [
    {
     "name": "stdout",
     "output_type": "stream",
     "text": [
      "Model: \"model_1\"\n",
      "__________________________________________________________________________________________________\n",
      " Layer (type)                   Output Shape         Param #     Connected to                     \n",
      "==================================================================================================\n",
      " DeepInput (InputLayer)         [(None, 3, 5, 7, 1)  0           []                               \n",
      "                                ]                                                                 \n",
      "                                                                                                  \n",
      " WideInput (InputLayer)         [(None, 3, 3, 7)]    0           []                               \n",
      "                                                                                                  \n",
      " time_distributed_4 (TimeDistri  (None, 3, 3, 5, 64)  640        ['DeepInput[0][0]']              \n",
      " buted)                                                                                           \n",
      "                                                                                                  \n",
      " time_distributed_3 (TimeDistri  (None, 3, 21)       0           ['WideInput[0][0]']              \n",
      " buted)                                                                                           \n",
      "                                                                                                  \n",
      " time_distributed_5 (TimeDistri  (None, 3, 960)      0           ['time_distributed_4[0][0]']     \n",
      " buted)                                                                                           \n",
      "                                                                                                  \n",
      " bidirectional_1 (Bidirectional  (None, 3, 86)       74304       ['time_distributed_3[0][0]']     \n",
      " )                                                                                                \n",
      "                                                                                                  \n",
      " lstm_3 (LSTM)                  (None, 3, 86)        360168      ['time_distributed_5[0][0]']     \n",
      "                                                                                                  \n",
      " concatenate_1 (Concatenate)    (None, 6, 86)        0           ['bidirectional_1[0][0]',        \n",
      "                                                                  'lstm_3[0][0]']                 \n",
      "                                                                                                  \n",
      " seq_self_attention_1 (SeqSelfA  (None, 6, 86)       5569        ['concatenate_1[0][0]']          \n",
      " ttention)                                                                                        \n",
      "                                                                                                  \n",
      " flatten_5 (Flatten)            (None, 516)          0           ['seq_self_attention_1[0][0]']   \n",
      "                                                                                                  \n",
      " output (Dense)                 (None, 7)            3619        ['flatten_5[0][0]']              \n",
      "                                                                                                  \n",
      "==================================================================================================\n",
      "Total params: 444,300\n",
      "Trainable params: 444,300\n",
      "Non-trainable params: 0\n",
      "__________________________________________________________________________________________________\n"
     ]
    }
   ],
   "source": [
    "model60.summary()"
   ]
  },
  {
   "cell_type": "code",
   "execution_count": 51,
   "metadata": {},
   "outputs": [
    {
     "name": "stdout",
     "output_type": "stream",
     "text": [
      "Epoch 1/100\n",
      "777/777 [==============================] - 18s 17ms/step - loss: 92.0754 - mean_absolute_error: 92.0754 - root_mean_squared_error: 132.2787 - mean_absolute_percentage_error: 48533844.0000 - val_loss: 31.1810 - val_mean_absolute_error: 31.1810 - val_root_mean_squared_error: 45.2942 - val_mean_absolute_percentage_error: 3459796.7500\n",
      "Epoch 2/100\n",
      "777/777 [==============================] - 11s 15ms/step - loss: 24.6015 - mean_absolute_error: 24.6015 - root_mean_squared_error: 35.0831 - mean_absolute_percentage_error: 48796744.0000 - val_loss: 23.5300 - val_mean_absolute_error: 23.5300 - val_root_mean_squared_error: 32.9734 - val_mean_absolute_percentage_error: 3421852.2500\n",
      "Epoch 3/100\n",
      "777/777 [==============================] - 11s 14ms/step - loss: 21.7436 - mean_absolute_error: 21.7436 - root_mean_squared_error: 30.1178 - mean_absolute_percentage_error: 53537188.0000 - val_loss: 23.1681 - val_mean_absolute_error: 23.1681 - val_root_mean_squared_error: 32.7917 - val_mean_absolute_percentage_error: 3570224.7500\n",
      "Epoch 4/100\n",
      "777/777 [==============================] - 11s 14ms/step - loss: 21.2372 - mean_absolute_error: 21.2372 - root_mean_squared_error: 29.3242 - mean_absolute_percentage_error: 57091284.0000 - val_loss: 23.2537 - val_mean_absolute_error: 23.2537 - val_root_mean_squared_error: 32.8385 - val_mean_absolute_percentage_error: 3706893.5000\n",
      "Epoch 5/100\n",
      "777/777 [==============================] - 11s 14ms/step - loss: 20.9755 - mean_absolute_error: 20.9755 - root_mean_squared_error: 28.9419 - mean_absolute_percentage_error: 58778312.0000 - val_loss: 22.6076 - val_mean_absolute_error: 22.6076 - val_root_mean_squared_error: 31.8869 - val_mean_absolute_percentage_error: 3751368.0000\n",
      "Epoch 6/100\n",
      "777/777 [==============================] - 11s 15ms/step - loss: 20.9035 - mean_absolute_error: 20.9035 - root_mean_squared_error: 28.8269 - mean_absolute_percentage_error: 59392412.0000 - val_loss: 22.4855 - val_mean_absolute_error: 22.4855 - val_root_mean_squared_error: 31.8236 - val_mean_absolute_percentage_error: 3903863.0000\n",
      "Epoch 7/100\n",
      "777/777 [==============================] - 11s 15ms/step - loss: 20.7171 - mean_absolute_error: 20.7171 - root_mean_squared_error: 28.5613 - mean_absolute_percentage_error: 59797476.0000 - val_loss: 22.7363 - val_mean_absolute_error: 22.7363 - val_root_mean_squared_error: 32.0973 - val_mean_absolute_percentage_error: 3867666.7500\n",
      "Epoch 8/100\n",
      "777/777 [==============================] - 12s 15ms/step - loss: 20.5899 - mean_absolute_error: 20.5899 - root_mean_squared_error: 28.3872 - mean_absolute_percentage_error: 60024052.0000 - val_loss: 22.4325 - val_mean_absolute_error: 22.4325 - val_root_mean_squared_error: 31.8497 - val_mean_absolute_percentage_error: 4039067.7500\n",
      "Epoch 9/100\n",
      "777/777 [==============================] - 11s 15ms/step - loss: 20.4784 - mean_absolute_error: 20.4784 - root_mean_squared_error: 28.2297 - mean_absolute_percentage_error: 60017700.0000 - val_loss: 22.1277 - val_mean_absolute_error: 22.1277 - val_root_mean_squared_error: 31.3462 - val_mean_absolute_percentage_error: 4108634.5000\n",
      "Epoch 10/100\n",
      "777/777 [==============================] - 11s 15ms/step - loss: 20.3702 - mean_absolute_error: 20.3702 - root_mean_squared_error: 28.0761 - mean_absolute_percentage_error: 59888168.0000 - val_loss: 22.1859 - val_mean_absolute_error: 22.1859 - val_root_mean_squared_error: 31.3546 - val_mean_absolute_percentage_error: 4404118.5000\n",
      "Epoch 11/100\n",
      "777/777 [==============================] - 11s 14ms/step - loss: 20.2742 - mean_absolute_error: 20.2742 - root_mean_squared_error: 27.9600 - mean_absolute_percentage_error: 60155868.0000 - val_loss: 22.1293 - val_mean_absolute_error: 22.1293 - val_root_mean_squared_error: 31.3569 - val_mean_absolute_percentage_error: 4298917.5000\n",
      "Epoch 12/100\n",
      "777/777 [==============================] - 11s 14ms/step - loss: 20.1859 - mean_absolute_error: 20.1859 - root_mean_squared_error: 27.8221 - mean_absolute_percentage_error: 60223312.0000 - val_loss: 21.9515 - val_mean_absolute_error: 21.9515 - val_root_mean_squared_error: 31.1456 - val_mean_absolute_percentage_error: 4384013.0000\n",
      "Epoch 13/100\n",
      "777/777 [==============================] - 11s 14ms/step - loss: 20.0905 - mean_absolute_error: 20.0905 - root_mean_squared_error: 27.6885 - mean_absolute_percentage_error: 60194100.0000 - val_loss: 22.0238 - val_mean_absolute_error: 22.0238 - val_root_mean_squared_error: 31.2575 - val_mean_absolute_percentage_error: 4340563.5000\n",
      "Epoch 14/100\n",
      "777/777 [==============================] - 11s 15ms/step - loss: 20.0039 - mean_absolute_error: 20.0039 - root_mean_squared_error: 27.5807 - mean_absolute_percentage_error: 59217476.0000 - val_loss: 22.0570 - val_mean_absolute_error: 22.0570 - val_root_mean_squared_error: 31.2576 - val_mean_absolute_percentage_error: 4337675.5000\n",
      "Epoch 15/100\n",
      "777/777 [==============================] - 11s 15ms/step - loss: 19.9184 - mean_absolute_error: 19.9184 - root_mean_squared_error: 27.4756 - mean_absolute_percentage_error: 58347568.0000 - val_loss: 21.6398 - val_mean_absolute_error: 21.6398 - val_root_mean_squared_error: 30.7109 - val_mean_absolute_percentage_error: 4469858.0000\n",
      "Epoch 16/100\n",
      "777/777 [==============================] - 11s 15ms/step - loss: 19.8324 - mean_absolute_error: 19.8324 - root_mean_squared_error: 27.3607 - mean_absolute_percentage_error: 57639256.0000 - val_loss: 21.7500 - val_mean_absolute_error: 21.7500 - val_root_mean_squared_error: 30.9876 - val_mean_absolute_percentage_error: 4332636.5000\n",
      "Epoch 17/100\n",
      "777/777 [==============================] - 11s 15ms/step - loss: 19.7437 - mean_absolute_error: 19.7437 - root_mean_squared_error: 27.2358 - mean_absolute_percentage_error: 56269532.0000 - val_loss: 21.5924 - val_mean_absolute_error: 21.5924 - val_root_mean_squared_error: 30.6565 - val_mean_absolute_percentage_error: 4426504.0000\n",
      "Epoch 18/100\n",
      "777/777 [==============================] - 11s 15ms/step - loss: 19.6517 - mean_absolute_error: 19.6517 - root_mean_squared_error: 27.1118 - mean_absolute_percentage_error: 55771552.0000 - val_loss: 21.5476 - val_mean_absolute_error: 21.5476 - val_root_mean_squared_error: 30.7775 - val_mean_absolute_percentage_error: 4410178.0000\n",
      "Epoch 19/100\n",
      "777/777 [==============================] - 11s 15ms/step - loss: 19.6197 - mean_absolute_error: 19.6197 - root_mean_squared_error: 27.0664 - mean_absolute_percentage_error: 55112492.0000 - val_loss: 21.3574 - val_mean_absolute_error: 21.3574 - val_root_mean_squared_error: 30.3872 - val_mean_absolute_percentage_error: 4500906.5000\n",
      "Epoch 20/100\n",
      "777/777 [==============================] - 11s 14ms/step - loss: 19.5566 - mean_absolute_error: 19.5566 - root_mean_squared_error: 26.9799 - mean_absolute_percentage_error: 54519836.0000 - val_loss: 21.3164 - val_mean_absolute_error: 21.3164 - val_root_mean_squared_error: 30.2884 - val_mean_absolute_percentage_error: 4549477.5000\n",
      "Epoch 21/100\n",
      "777/777 [==============================] - 11s 14ms/step - loss: 19.4836 - mean_absolute_error: 19.4836 - root_mean_squared_error: 26.9055 - mean_absolute_percentage_error: 54404776.0000 - val_loss: 21.3778 - val_mean_absolute_error: 21.3778 - val_root_mean_squared_error: 30.3699 - val_mean_absolute_percentage_error: 4375728.0000\n",
      "Epoch 22/100\n",
      "777/777 [==============================] - 11s 14ms/step - loss: 19.4201 - mean_absolute_error: 19.4201 - root_mean_squared_error: 26.8205 - mean_absolute_percentage_error: 53822732.0000 - val_loss: 21.4692 - val_mean_absolute_error: 21.4692 - val_root_mean_squared_error: 30.4508 - val_mean_absolute_percentage_error: 4427648.0000\n",
      "Epoch 23/100\n",
      "777/777 [==============================] - 11s 14ms/step - loss: 19.3670 - mean_absolute_error: 19.3670 - root_mean_squared_error: 26.7388 - mean_absolute_percentage_error: 53578440.0000 - val_loss: 21.1835 - val_mean_absolute_error: 21.1835 - val_root_mean_squared_error: 30.0652 - val_mean_absolute_percentage_error: 4220389.5000\n",
      "Epoch 24/100\n",
      "777/777 [==============================] - 11s 14ms/step - loss: 19.3372 - mean_absolute_error: 19.3372 - root_mean_squared_error: 26.7057 - mean_absolute_percentage_error: 53511748.0000 - val_loss: 21.2080 - val_mean_absolute_error: 21.2080 - val_root_mean_squared_error: 30.1380 - val_mean_absolute_percentage_error: 4146813.2500\n"
     ]
    },
    {
     "name": "stdout",
     "output_type": "stream",
     "text": [
      "Epoch 25/100\n",
      "777/777 [==============================] - 11s 15ms/step - loss: 19.3326 - mean_absolute_error: 19.3326 - root_mean_squared_error: 26.6820 - mean_absolute_percentage_error: 53037260.0000 - val_loss: 21.0959 - val_mean_absolute_error: 21.0959 - val_root_mean_squared_error: 29.9124 - val_mean_absolute_percentage_error: 4184652.5000\n",
      "Epoch 26/100\n",
      "777/777 [==============================] - 11s 15ms/step - loss: 19.2375 - mean_absolute_error: 19.2375 - root_mean_squared_error: 26.5470 - mean_absolute_percentage_error: 52546180.0000 - val_loss: 21.3677 - val_mean_absolute_error: 21.3677 - val_root_mean_squared_error: 30.3671 - val_mean_absolute_percentage_error: 4136253.0000\n",
      "Epoch 27/100\n",
      "777/777 [==============================] - 11s 15ms/step - loss: 19.2452 - mean_absolute_error: 19.2452 - root_mean_squared_error: 26.5642 - mean_absolute_percentage_error: 52273628.0000 - val_loss: 21.4369 - val_mean_absolute_error: 21.4369 - val_root_mean_squared_error: 30.4643 - val_mean_absolute_percentage_error: 4234259.0000\n",
      "Epoch 28/100\n",
      "777/777 [==============================] - 11s 15ms/step - loss: 19.1859 - mean_absolute_error: 19.1859 - root_mean_squared_error: 26.4868 - mean_absolute_percentage_error: 52332092.0000 - val_loss: 21.2807 - val_mean_absolute_error: 21.2807 - val_root_mean_squared_error: 30.2618 - val_mean_absolute_percentage_error: 4211153.0000\n",
      "Epoch 29/100\n",
      "777/777 [==============================] - 12s 15ms/step - loss: 19.1507 - mean_absolute_error: 19.1507 - root_mean_squared_error: 26.4380 - mean_absolute_percentage_error: 51666256.0000 - val_loss: 21.2322 - val_mean_absolute_error: 21.2322 - val_root_mean_squared_error: 30.0459 - val_mean_absolute_percentage_error: 4125338.5000\n",
      "Epoch 30/100\n",
      "777/777 [==============================] - 12s 15ms/step - loss: 19.1786 - mean_absolute_error: 19.1786 - root_mean_squared_error: 26.4729 - mean_absolute_percentage_error: 51870396.0000 - val_loss: 21.0742 - val_mean_absolute_error: 21.0742 - val_root_mean_squared_error: 29.9566 - val_mean_absolute_percentage_error: 4146306.5000\n",
      "Epoch 31/100\n",
      "777/777 [==============================] - 11s 14ms/step - loss: 19.1403 - mean_absolute_error: 19.1403 - root_mean_squared_error: 26.4155 - mean_absolute_percentage_error: 51701656.0000 - val_loss: 20.8604 - val_mean_absolute_error: 20.8604 - val_root_mean_squared_error: 29.6493 - val_mean_absolute_percentage_error: 4267165.5000\n",
      "Epoch 32/100\n",
      "777/777 [==============================] - 11s 14ms/step - loss: 19.0934 - mean_absolute_error: 19.0934 - root_mean_squared_error: 26.3698 - mean_absolute_percentage_error: 51379616.0000 - val_loss: 21.2369 - val_mean_absolute_error: 21.2369 - val_root_mean_squared_error: 30.0897 - val_mean_absolute_percentage_error: 4156805.0000\n",
      "Epoch 33/100\n",
      "777/777 [==============================] - 11s 14ms/step - loss: 19.0593 - mean_absolute_error: 19.0593 - root_mean_squared_error: 26.3352 - mean_absolute_percentage_error: 50871980.0000 - val_loss: 20.9732 - val_mean_absolute_error: 20.9732 - val_root_mean_squared_error: 29.6754 - val_mean_absolute_percentage_error: 4320268.0000\n",
      "Epoch 34/100\n",
      "777/777 [==============================] - 11s 14ms/step - loss: 19.0245 - mean_absolute_error: 19.0245 - root_mean_squared_error: 26.2684 - mean_absolute_percentage_error: 50590272.0000 - val_loss: 20.9233 - val_mean_absolute_error: 20.9233 - val_root_mean_squared_error: 29.5669 - val_mean_absolute_percentage_error: 4210663.5000\n",
      "Epoch 35/100\n",
      "777/777 [==============================] - 11s 14ms/step - loss: 18.9826 - mean_absolute_error: 18.9826 - root_mean_squared_error: 26.2068 - mean_absolute_percentage_error: 50331880.0000 - val_loss: 21.1063 - val_mean_absolute_error: 21.1063 - val_root_mean_squared_error: 29.9247 - val_mean_absolute_percentage_error: 3979228.5000\n",
      "Epoch 36/100\n",
      "777/777 [==============================] - 11s 15ms/step - loss: 18.9675 - mean_absolute_error: 18.9675 - root_mean_squared_error: 26.2031 - mean_absolute_percentage_error: 50477976.0000 - val_loss: 20.9346 - val_mean_absolute_error: 20.9346 - val_root_mean_squared_error: 29.6204 - val_mean_absolute_percentage_error: 4169253.5000\n",
      "Epoch 37/100\n",
      "777/777 [==============================] - 11s 14ms/step - loss: 18.9468 - mean_absolute_error: 18.9468 - root_mean_squared_error: 26.1772 - mean_absolute_percentage_error: 50393268.0000 - val_loss: 20.9994 - val_mean_absolute_error: 20.9994 - val_root_mean_squared_error: 29.7685 - val_mean_absolute_percentage_error: 4033102.0000\n",
      "Epoch 38/100\n",
      "777/777 [==============================] - 11s 14ms/step - loss: 18.9266 - mean_absolute_error: 18.9266 - root_mean_squared_error: 26.1554 - mean_absolute_percentage_error: 50103652.0000 - val_loss: 20.7988 - val_mean_absolute_error: 20.7988 - val_root_mean_squared_error: 29.4722 - val_mean_absolute_percentage_error: 4168256.5000\n",
      "Epoch 39/100\n",
      "777/777 [==============================] - 11s 15ms/step - loss: 18.8991 - mean_absolute_error: 18.8991 - root_mean_squared_error: 26.0860 - mean_absolute_percentage_error: 49698456.0000 - val_loss: 20.8046 - val_mean_absolute_error: 20.8046 - val_root_mean_squared_error: 29.5207 - val_mean_absolute_percentage_error: 4188775.0000\n",
      "Epoch 40/100\n",
      "777/777 [==============================] - 11s 15ms/step - loss: 18.9219 - mean_absolute_error: 18.9219 - root_mean_squared_error: 26.1284 - mean_absolute_percentage_error: 49257636.0000 - val_loss: 21.7098 - val_mean_absolute_error: 21.7098 - val_root_mean_squared_error: 30.6916 - val_mean_absolute_percentage_error: 4175829.2500\n",
      "Epoch 41/100\n",
      "777/777 [==============================] - 11s 15ms/step - loss: 18.8728 - mean_absolute_error: 18.8728 - root_mean_squared_error: 26.0639 - mean_absolute_percentage_error: 49198856.0000 - val_loss: 20.8872 - val_mean_absolute_error: 20.8872 - val_root_mean_squared_error: 29.6267 - val_mean_absolute_percentage_error: 4032740.0000\n",
      "Epoch 42/100\n",
      "777/777 [==============================] - 11s 15ms/step - loss: 18.8643 - mean_absolute_error: 18.8643 - root_mean_squared_error: 26.0456 - mean_absolute_percentage_error: 48685288.0000 - val_loss: 20.7891 - val_mean_absolute_error: 20.7891 - val_root_mean_squared_error: 29.4977 - val_mean_absolute_percentage_error: 4043550.0000\n",
      "Epoch 43/100\n",
      "777/777 [==============================] - 11s 15ms/step - loss: 18.7948 - mean_absolute_error: 18.7948 - root_mean_squared_error: 25.9764 - mean_absolute_percentage_error: 49227628.0000 - val_loss: 20.8497 - val_mean_absolute_error: 20.8497 - val_root_mean_squared_error: 29.4189 - val_mean_absolute_percentage_error: 3901613.7500\n",
      "Epoch 44/100\n",
      "777/777 [==============================] - 11s 14ms/step - loss: 18.7902 - mean_absolute_error: 18.7902 - root_mean_squared_error: 25.9758 - mean_absolute_percentage_error: 48662664.0000 - val_loss: 20.7998 - val_mean_absolute_error: 20.7998 - val_root_mean_squared_error: 29.4754 - val_mean_absolute_percentage_error: 3942355.5000\n",
      "Epoch 45/100\n",
      "777/777 [==============================] - 11s 14ms/step - loss: 18.8137 - mean_absolute_error: 18.8137 - root_mean_squared_error: 26.0001 - mean_absolute_percentage_error: 48531992.0000 - val_loss: 20.9148 - val_mean_absolute_error: 20.9148 - val_root_mean_squared_error: 29.6713 - val_mean_absolute_percentage_error: 4190149.2500\n",
      "Epoch 46/100\n",
      "777/777 [==============================] - 11s 14ms/step - loss: 18.7669 - mean_absolute_error: 18.7669 - root_mean_squared_error: 25.9240 - mean_absolute_percentage_error: 48483144.0000 - val_loss: 20.7449 - val_mean_absolute_error: 20.7449 - val_root_mean_squared_error: 29.2881 - val_mean_absolute_percentage_error: 4037372.5000\n",
      "Epoch 47/100\n",
      "777/777 [==============================] - 11s 14ms/step - loss: 18.7292 - mean_absolute_error: 18.7292 - root_mean_squared_error: 25.8863 - mean_absolute_percentage_error: 47728764.0000 - val_loss: 20.7592 - val_mean_absolute_error: 20.7592 - val_root_mean_squared_error: 29.3589 - val_mean_absolute_percentage_error: 3916349.2500\n",
      "Epoch 48/100\n",
      "777/777 [==============================] - 11s 14ms/step - loss: 18.7324 - mean_absolute_error: 18.7324 - root_mean_squared_error: 25.8579 - mean_absolute_percentage_error: 47707772.0000 - val_loss: 20.8938 - val_mean_absolute_error: 20.8938 - val_root_mean_squared_error: 29.4478 - val_mean_absolute_percentage_error: 4294327.0000\n"
     ]
    },
    {
     "name": "stdout",
     "output_type": "stream",
     "text": [
      "Epoch 49/100\n",
      "777/777 [==============================] - 11s 14ms/step - loss: 18.7010 - mean_absolute_error: 18.7010 - root_mean_squared_error: 25.8494 - mean_absolute_percentage_error: 47195260.0000 - val_loss: 20.7798 - val_mean_absolute_error: 20.7798 - val_root_mean_squared_error: 29.4460 - val_mean_absolute_percentage_error: 4144184.2500\n",
      "Epoch 50/100\n",
      "777/777 [==============================] - 11s 14ms/step - loss: 18.6697 - mean_absolute_error: 18.6697 - root_mean_squared_error: 25.7898 - mean_absolute_percentage_error: 47167800.0000 - val_loss: 20.6590 - val_mean_absolute_error: 20.6590 - val_root_mean_squared_error: 29.2785 - val_mean_absolute_percentage_error: 3988191.5000\n",
      "Epoch 51/100\n",
      "777/777 [==============================] - 11s 14ms/step - loss: 18.6602 - mean_absolute_error: 18.6602 - root_mean_squared_error: 25.7927 - mean_absolute_percentage_error: 47126816.0000 - val_loss: 20.7923 - val_mean_absolute_error: 20.7923 - val_root_mean_squared_error: 29.5011 - val_mean_absolute_percentage_error: 3954255.0000\n",
      "Epoch 52/100\n",
      "777/777 [==============================] - 11s 14ms/step - loss: 18.6309 - mean_absolute_error: 18.6309 - root_mean_squared_error: 25.7451 - mean_absolute_percentage_error: 46695796.0000 - val_loss: 20.7401 - val_mean_absolute_error: 20.7401 - val_root_mean_squared_error: 29.4991 - val_mean_absolute_percentage_error: 4014458.0000\n",
      "Epoch 53/100\n",
      "777/777 [==============================] - 11s 14ms/step - loss: 18.6379 - mean_absolute_error: 18.6379 - root_mean_squared_error: 25.7649 - mean_absolute_percentage_error: 46639660.0000 - val_loss: 20.6290 - val_mean_absolute_error: 20.6290 - val_root_mean_squared_error: 29.1584 - val_mean_absolute_percentage_error: 3956558.0000\n",
      "Epoch 54/100\n",
      "777/777 [==============================] - 11s 14ms/step - loss: 18.6052 - mean_absolute_error: 18.6052 - root_mean_squared_error: 25.7200 - mean_absolute_percentage_error: 46509848.0000 - val_loss: 20.6464 - val_mean_absolute_error: 20.6464 - val_root_mean_squared_error: 29.3383 - val_mean_absolute_percentage_error: 4019306.5000\n",
      "Epoch 55/100\n",
      "777/777 [==============================] - 11s 14ms/step - loss: 18.5976 - mean_absolute_error: 18.5976 - root_mean_squared_error: 25.6954 - mean_absolute_percentage_error: 45849696.0000 - val_loss: 20.7263 - val_mean_absolute_error: 20.7263 - val_root_mean_squared_error: 29.3669 - val_mean_absolute_percentage_error: 3985557.2500\n",
      "Epoch 56/100\n",
      "777/777 [==============================] - 11s 14ms/step - loss: 18.5719 - mean_absolute_error: 18.5719 - root_mean_squared_error: 25.6731 - mean_absolute_percentage_error: 45438164.0000 - val_loss: 20.6851 - val_mean_absolute_error: 20.6851 - val_root_mean_squared_error: 29.2894 - val_mean_absolute_percentage_error: 3887849.2500\n",
      "Epoch 57/100\n",
      "777/777 [==============================] - 11s 15ms/step - loss: 18.5457 - mean_absolute_error: 18.5457 - root_mean_squared_error: 25.6316 - mean_absolute_percentage_error: 45674864.0000 - val_loss: 21.3565 - val_mean_absolute_error: 21.3565 - val_root_mean_squared_error: 30.1146 - val_mean_absolute_percentage_error: 4106759.2500\n",
      "Epoch 58/100\n",
      "777/777 [==============================] - 11s 15ms/step - loss: 18.5526 - mean_absolute_error: 18.5526 - root_mean_squared_error: 25.6467 - mean_absolute_percentage_error: 45345712.0000 - val_loss: 20.7601 - val_mean_absolute_error: 20.7601 - val_root_mean_squared_error: 29.4870 - val_mean_absolute_percentage_error: 4028846.0000\n",
      "Epoch 59/100\n",
      "777/777 [==============================] - 11s 14ms/step - loss: 18.4960 - mean_absolute_error: 18.4960 - root_mean_squared_error: 25.5798 - mean_absolute_percentage_error: 45058676.0000 - val_loss: 20.6617 - val_mean_absolute_error: 20.6617 - val_root_mean_squared_error: 29.2829 - val_mean_absolute_percentage_error: 3803530.0000\n",
      "Epoch 60/100\n",
      "777/777 [==============================] - 11s 14ms/step - loss: 18.5077 - mean_absolute_error: 18.5077 - root_mean_squared_error: 25.5865 - mean_absolute_percentage_error: 45094456.0000 - val_loss: 20.5479 - val_mean_absolute_error: 20.5479 - val_root_mean_squared_error: 29.2028 - val_mean_absolute_percentage_error: 4236088.0000\n",
      "Epoch 61/100\n",
      "777/777 [==============================] - 11s 15ms/step - loss: 18.4899 - mean_absolute_error: 18.4899 - root_mean_squared_error: 25.5530 - mean_absolute_percentage_error: 44274948.0000 - val_loss: 20.5448 - val_mean_absolute_error: 20.5448 - val_root_mean_squared_error: 29.0897 - val_mean_absolute_percentage_error: 3966512.5000\n",
      "Epoch 62/100\n",
      "777/777 [==============================] - 11s 15ms/step - loss: 18.4559 - mean_absolute_error: 18.4559 - root_mean_squared_error: 25.5041 - mean_absolute_percentage_error: 43942924.0000 - val_loss: 20.7794 - val_mean_absolute_error: 20.7794 - val_root_mean_squared_error: 29.4035 - val_mean_absolute_percentage_error: 4149883.0000\n",
      "Epoch 63/100\n",
      "777/777 [==============================] - 11s 15ms/step - loss: 18.4201 - mean_absolute_error: 18.4201 - root_mean_squared_error: 25.4800 - mean_absolute_percentage_error: 43993608.0000 - val_loss: 20.6704 - val_mean_absolute_error: 20.6704 - val_root_mean_squared_error: 29.3351 - val_mean_absolute_percentage_error: 3949184.2500\n",
      "Epoch 64/100\n",
      "777/777 [==============================] - 11s 14ms/step - loss: 18.4114 - mean_absolute_error: 18.4114 - root_mean_squared_error: 25.4576 - mean_absolute_percentage_error: 43400760.0000 - val_loss: 20.4832 - val_mean_absolute_error: 20.4832 - val_root_mean_squared_error: 28.9720 - val_mean_absolute_percentage_error: 4423875.5000\n",
      "Epoch 65/100\n",
      "777/777 [==============================] - 11s 15ms/step - loss: 18.3950 - mean_absolute_error: 18.3950 - root_mean_squared_error: 25.4329 - mean_absolute_percentage_error: 43506484.0000 - val_loss: 20.5380 - val_mean_absolute_error: 20.5380 - val_root_mean_squared_error: 29.0672 - val_mean_absolute_percentage_error: 4294819.0000\n",
      "Epoch 66/100\n",
      "777/777 [==============================] - 11s 15ms/step - loss: 18.3557 - mean_absolute_error: 18.3557 - root_mean_squared_error: 25.3866 - mean_absolute_percentage_error: 43493652.0000 - val_loss: 20.6946 - val_mean_absolute_error: 20.6946 - val_root_mean_squared_error: 29.2423 - val_mean_absolute_percentage_error: 4089740.7500\n",
      "Epoch 67/100\n",
      "777/777 [==============================] - 11s 15ms/step - loss: 18.3611 - mean_absolute_error: 18.3611 - root_mean_squared_error: 25.3763 - mean_absolute_percentage_error: 43164104.0000 - val_loss: 20.6487 - val_mean_absolute_error: 20.6487 - val_root_mean_squared_error: 29.2084 - val_mean_absolute_percentage_error: 4193840.0000\n",
      "Epoch 68/100\n",
      "777/777 [==============================] - 11s 14ms/step - loss: 18.3488 - mean_absolute_error: 18.3488 - root_mean_squared_error: 25.3640 - mean_absolute_percentage_error: 42314484.0000 - val_loss: 20.6607 - val_mean_absolute_error: 20.6607 - val_root_mean_squared_error: 29.1900 - val_mean_absolute_percentage_error: 4112299.0000\n",
      "Epoch 69/100\n",
      "777/777 [==============================] - 11s 15ms/step - loss: 18.3362 - mean_absolute_error: 18.3362 - root_mean_squared_error: 25.3521 - mean_absolute_percentage_error: 42712052.0000 - val_loss: 20.6488 - val_mean_absolute_error: 20.6488 - val_root_mean_squared_error: 29.0656 - val_mean_absolute_percentage_error: 4461710.5000\n",
      "Epoch 70/100\n",
      "777/777 [==============================] - 11s 14ms/step - loss: 18.3246 - mean_absolute_error: 18.3246 - root_mean_squared_error: 25.3399 - mean_absolute_percentage_error: 41837464.0000 - val_loss: 20.6042 - val_mean_absolute_error: 20.6042 - val_root_mean_squared_error: 29.2080 - val_mean_absolute_percentage_error: 4110978.5000\n",
      "Epoch 71/100\n",
      "777/777 [==============================] - 11s 15ms/step - loss: 18.3035 - mean_absolute_error: 18.3035 - root_mean_squared_error: 25.3097 - mean_absolute_percentage_error: 42045568.0000 - val_loss: 20.7103 - val_mean_absolute_error: 20.7103 - val_root_mean_squared_error: 29.3134 - val_mean_absolute_percentage_error: 4183876.5000\n",
      "Epoch 72/100\n",
      "777/777 [==============================] - 11s 15ms/step - loss: 18.2818 - mean_absolute_error: 18.2818 - root_mean_squared_error: 25.2675 - mean_absolute_percentage_error: 41785276.0000 - val_loss: 20.4982 - val_mean_absolute_error: 20.4982 - val_root_mean_squared_error: 28.9503 - val_mean_absolute_percentage_error: 4262216.5000\n"
     ]
    },
    {
     "name": "stdout",
     "output_type": "stream",
     "text": [
      "Epoch 73/100\n",
      "777/777 [==============================] - 11s 15ms/step - loss: 18.2602 - mean_absolute_error: 18.2602 - root_mean_squared_error: 25.2446 - mean_absolute_percentage_error: 41372676.0000 - val_loss: 21.0195 - val_mean_absolute_error: 21.0195 - val_root_mean_squared_error: 29.7139 - val_mean_absolute_percentage_error: 4260109.0000\n",
      "Epoch 74/100\n",
      "777/777 [==============================] - 11s 14ms/step - loss: 18.2283 - mean_absolute_error: 18.2283 - root_mean_squared_error: 25.2179 - mean_absolute_percentage_error: 41330224.0000 - val_loss: 20.8083 - val_mean_absolute_error: 20.8083 - val_root_mean_squared_error: 29.2667 - val_mean_absolute_percentage_error: 4309815.5000\n",
      "Epoch 75/100\n",
      "777/777 [==============================] - 11s 14ms/step - loss: 18.2464 - mean_absolute_error: 18.2464 - root_mean_squared_error: 25.2121 - mean_absolute_percentage_error: 41267176.0000 - val_loss: 21.5025 - val_mean_absolute_error: 21.5025 - val_root_mean_squared_error: 30.1870 - val_mean_absolute_percentage_error: 4053092.7500\n",
      "Epoch 76/100\n",
      "777/777 [==============================] - 11s 14ms/step - loss: 18.2353 - mean_absolute_error: 18.2353 - root_mean_squared_error: 25.1908 - mean_absolute_percentage_error: 40194316.0000 - val_loss: 20.8299 - val_mean_absolute_error: 20.8299 - val_root_mean_squared_error: 29.5026 - val_mean_absolute_percentage_error: 4318544.0000\n",
      "Epoch 77/100\n",
      "777/777 [==============================] - 11s 14ms/step - loss: 18.1967 - mean_absolute_error: 18.1967 - root_mean_squared_error: 25.1656 - mean_absolute_percentage_error: 39994152.0000 - val_loss: 20.8243 - val_mean_absolute_error: 20.8243 - val_root_mean_squared_error: 29.5130 - val_mean_absolute_percentage_error: 4172661.5000\n",
      "Epoch 78/100\n",
      "777/777 [==============================] - 11s 14ms/step - loss: 18.1970 - mean_absolute_error: 18.1970 - root_mean_squared_error: 25.1776 - mean_absolute_percentage_error: 39277624.0000 - val_loss: 20.6578 - val_mean_absolute_error: 20.6578 - val_root_mean_squared_error: 29.2447 - val_mean_absolute_percentage_error: 4276725.0000\n",
      "Epoch 79/100\n",
      "777/777 [==============================] - 11s 15ms/step - loss: 18.1426 - mean_absolute_error: 18.1426 - root_mean_squared_error: 25.1029 - mean_absolute_percentage_error: 39523100.0000 - val_loss: 21.3109 - val_mean_absolute_error: 21.3109 - val_root_mean_squared_error: 30.0084 - val_mean_absolute_percentage_error: 4124318.7500\n",
      "Epoch 80/100\n",
      "777/777 [==============================] - 11s 14ms/step - loss: 18.1381 - mean_absolute_error: 18.1381 - root_mean_squared_error: 25.0813 - mean_absolute_percentage_error: 39444012.0000 - val_loss: 20.6378 - val_mean_absolute_error: 20.6378 - val_root_mean_squared_error: 29.1446 - val_mean_absolute_percentage_error: 4173504.0000\n",
      "Epoch 81/100\n",
      "777/777 [==============================] - 11s 14ms/step - loss: 18.1205 - mean_absolute_error: 18.1205 - root_mean_squared_error: 25.0509 - mean_absolute_percentage_error: 38847000.0000 - val_loss: 20.6972 - val_mean_absolute_error: 20.6972 - val_root_mean_squared_error: 29.2339 - val_mean_absolute_percentage_error: 4148097.2500\n",
      "Epoch 82/100\n",
      "777/777 [==============================] - 11s 15ms/step - loss: 18.1204 - mean_absolute_error: 18.1204 - root_mean_squared_error: 25.0682 - mean_absolute_percentage_error: 38871400.0000 - val_loss: 20.6951 - val_mean_absolute_error: 20.6951 - val_root_mean_squared_error: 29.3226 - val_mean_absolute_percentage_error: 4265345.0000\n",
      "Epoch 83/100\n",
      "777/777 [==============================] - 11s 15ms/step - loss: 18.0970 - mean_absolute_error: 18.0970 - root_mean_squared_error: 25.0338 - mean_absolute_percentage_error: 38576024.0000 - val_loss: 20.7318 - val_mean_absolute_error: 20.7318 - val_root_mean_squared_error: 29.1981 - val_mean_absolute_percentage_error: 4254176.5000\n",
      "Epoch 84/100\n",
      "777/777 [==============================] - 11s 14ms/step - loss: 18.0597 - mean_absolute_error: 18.0597 - root_mean_squared_error: 24.9857 - mean_absolute_percentage_error: 38577444.0000 - val_loss: 20.6540 - val_mean_absolute_error: 20.6540 - val_root_mean_squared_error: 29.1733 - val_mean_absolute_percentage_error: 4312560.5000\n",
      "Epoch 85/100\n",
      "777/777 [==============================] - 11s 15ms/step - loss: 18.0529 - mean_absolute_error: 18.0529 - root_mean_squared_error: 24.9765 - mean_absolute_percentage_error: 38559392.0000 - val_loss: 20.7683 - val_mean_absolute_error: 20.7683 - val_root_mean_squared_error: 29.2825 - val_mean_absolute_percentage_error: 4458144.0000\n",
      "Epoch 86/100\n",
      "777/777 [==============================] - 11s 15ms/step - loss: 18.0441 - mean_absolute_error: 18.0441 - root_mean_squared_error: 24.9394 - mean_absolute_percentage_error: 38244804.0000 - val_loss: 20.6832 - val_mean_absolute_error: 20.6832 - val_root_mean_squared_error: 29.1402 - val_mean_absolute_percentage_error: 4285894.5000\n",
      "Epoch 87/100\n",
      "777/777 [==============================] - 11s 14ms/step - loss: 18.0148 - mean_absolute_error: 18.0148 - root_mean_squared_error: 24.9250 - mean_absolute_percentage_error: 37218020.0000 - val_loss: 20.5354 - val_mean_absolute_error: 20.5354 - val_root_mean_squared_error: 28.9677 - val_mean_absolute_percentage_error: 4248860.5000\n",
      "Epoch 88/100\n",
      "777/777 [==============================] - 11s 14ms/step - loss: 17.9961 - mean_absolute_error: 17.9961 - root_mean_squared_error: 24.8887 - mean_absolute_percentage_error: 37557944.0000 - val_loss: 20.6167 - val_mean_absolute_error: 20.6167 - val_root_mean_squared_error: 29.0813 - val_mean_absolute_percentage_error: 4227213.5000\n",
      "Epoch 89/100\n",
      "777/777 [==============================] - 11s 14ms/step - loss: 17.9835 - mean_absolute_error: 17.9835 - root_mean_squared_error: 24.8816 - mean_absolute_percentage_error: 37229812.0000 - val_loss: 20.4911 - val_mean_absolute_error: 20.4911 - val_root_mean_squared_error: 28.9151 - val_mean_absolute_percentage_error: 4319926.0000\n",
      "Epoch 90/100\n",
      "777/777 [==============================] - 11s 14ms/step - loss: 17.9615 - mean_absolute_error: 17.9615 - root_mean_squared_error: 24.8395 - mean_absolute_percentage_error: 37291764.0000 - val_loss: 20.7306 - val_mean_absolute_error: 20.7306 - val_root_mean_squared_error: 29.1404 - val_mean_absolute_percentage_error: 4110530.5000\n",
      "Epoch 91/100\n",
      "777/777 [==============================] - 11s 14ms/step - loss: 17.9696 - mean_absolute_error: 17.9696 - root_mean_squared_error: 24.8642 - mean_absolute_percentage_error: 37124596.0000 - val_loss: 20.5323 - val_mean_absolute_error: 20.5323 - val_root_mean_squared_error: 28.8562 - val_mean_absolute_percentage_error: 4260922.5000\n",
      "Epoch 92/100\n",
      "777/777 [==============================] - 11s 14ms/step - loss: 17.9367 - mean_absolute_error: 17.9367 - root_mean_squared_error: 24.8117 - mean_absolute_percentage_error: 36403932.0000 - val_loss: 20.8358 - val_mean_absolute_error: 20.8358 - val_root_mean_squared_error: 29.3774 - val_mean_absolute_percentage_error: 4147206.0000\n",
      "Epoch 93/100\n",
      "777/777 [==============================] - 11s 15ms/step - loss: 17.9282 - mean_absolute_error: 17.9282 - root_mean_squared_error: 24.8051 - mean_absolute_percentage_error: 36507824.0000 - val_loss: 20.5518 - val_mean_absolute_error: 20.5518 - val_root_mean_squared_error: 28.9929 - val_mean_absolute_percentage_error: 4225362.5000\n",
      "Epoch 94/100\n",
      "777/777 [==============================] - 11s 15ms/step - loss: 17.8987 - mean_absolute_error: 17.8987 - root_mean_squared_error: 24.7678 - mean_absolute_percentage_error: 36243240.0000 - val_loss: 20.5788 - val_mean_absolute_error: 20.5788 - val_root_mean_squared_error: 28.9568 - val_mean_absolute_percentage_error: 4373806.0000\n",
      "Epoch 95/100\n",
      "777/777 [==============================] - 11s 15ms/step - loss: 17.9166 - mean_absolute_error: 17.9166 - root_mean_squared_error: 24.7814 - mean_absolute_percentage_error: 36183800.0000 - val_loss: 20.9173 - val_mean_absolute_error: 20.9173 - val_root_mean_squared_error: 29.4018 - val_mean_absolute_percentage_error: 4570319.0000\n",
      "Epoch 96/100\n",
      "777/777 [==============================] - 11s 15ms/step - loss: 17.9388 - mean_absolute_error: 17.9388 - root_mean_squared_error: 24.8264 - mean_absolute_percentage_error: 36050488.0000 - val_loss: 20.7152 - val_mean_absolute_error: 20.7152 - val_root_mean_squared_error: 29.1193 - val_mean_absolute_percentage_error: 4227091.0000\n"
     ]
    },
    {
     "name": "stdout",
     "output_type": "stream",
     "text": [
      "Epoch 97/100\n",
      "777/777 [==============================] - 11s 14ms/step - loss: 17.8913 - mean_absolute_error: 17.8913 - root_mean_squared_error: 24.7457 - mean_absolute_percentage_error: 35764596.0000 - val_loss: 20.5060 - val_mean_absolute_error: 20.5060 - val_root_mean_squared_error: 28.8817 - val_mean_absolute_percentage_error: 4217542.5000\n",
      "Epoch 98/100\n",
      "777/777 [==============================] - 11s 14ms/step - loss: 17.8331 - mean_absolute_error: 17.8331 - root_mean_squared_error: 24.6774 - mean_absolute_percentage_error: 35572648.0000 - val_loss: 20.5763 - val_mean_absolute_error: 20.5763 - val_root_mean_squared_error: 28.9652 - val_mean_absolute_percentage_error: 4182419.0000\n",
      "Epoch 99/100\n",
      "777/777 [==============================] - 11s 15ms/step - loss: 17.8402 - mean_absolute_error: 17.8402 - root_mean_squared_error: 24.6777 - mean_absolute_percentage_error: 35300504.0000 - val_loss: 20.6011 - val_mean_absolute_error: 20.6011 - val_root_mean_squared_error: 29.0786 - val_mean_absolute_percentage_error: 4063089.7500\n",
      "Epoch 100/100\n",
      "777/777 [==============================] - 11s 15ms/step - loss: 17.8566 - mean_absolute_error: 17.8566 - root_mean_squared_error: 24.7127 - mean_absolute_percentage_error: 35047748.0000 - val_loss: 20.5900 - val_mean_absolute_error: 20.5900 - val_root_mean_squared_error: 29.0312 - val_mean_absolute_percentage_error: 4156569.5000\n"
     ]
    },
    {
     "data": {
      "text/plain": [
       "<keras.callbacks.History at 0x22fff5225e0>"
      ]
     },
     "execution_count": 51,
     "metadata": {},
     "output_type": "execute_result"
    }
   ],
   "source": [
    "model60.fit((Wt60,Xt60), yt60, validation_split = val_percent,\n",
    "            epochs = 100, \n",
    "            verbose = 1\n",
    "            )"
   ]
  },
  {
   "cell_type": "code",
   "execution_count": 52,
   "metadata": {},
   "outputs": [],
   "source": [
    "metrics60 = pd.DataFrame(model60.history.history)"
   ]
  },
  {
   "cell_type": "code",
   "execution_count": 98,
   "metadata": {},
   "outputs": [
    {
     "data": {
      "text/plain": [
       "(<mpl_toolkits.axes_grid1.inset_locator.BboxPatch at 0x271f47caac0>,\n",
       " <mpl_toolkits.axes_grid1.inset_locator.BboxConnector at 0x271f4823be0>,\n",
       " <mpl_toolkits.axes_grid1.inset_locator.BboxConnector at 0x271f4823e20>)"
      ]
     },
     "execution_count": 98,
     "metadata": {},
     "output_type": "execute_result"
    },
    {
     "data": {
      "image/png": "[encoded data removed]",
      "text/plain": [
       "<Figure size 432x288 with 2 Axes>"
      ]
     },
     "metadata": {
      "needs_background": "light"
     },
     "output_type": "display_data"
    }
   ],
   "source": [
    "fig = plt.figure(figsize=(6,4))\n",
    "\n",
    "# Add set of axes to figure\n",
    "axes = fig.add_axes([0, 0, 1, 1]) \n",
    "axes2 = fig.add_axes([0.35, 0.45, 0.5, 0.5]) # Smaller figure\n",
    "axes.plot(metrics60[['loss','val_loss']], label=['train_loss','val_loss'], lw=4)\n",
    "axes.set_ylim(10,60)\n",
    "\n",
    "axes2.plot(metrics60[['loss','val_loss']], lw=4)\n",
    "axes2.set_xlim(0,20)\n",
    "axes2.set_ylim(14,35)\n",
    "# plt.xticks(visible=False)\n",
    "plt.yticks(visible=False)\n",
    "\n",
    "axes.set_xlabel('Epoch')\n",
    "axes.set_ylabel('Loss')\n",
    "axes.grid()\n",
    "axes2.grid()\n",
    "\n",
    "mark_inset(axes, axes2, loc1=2, loc2=4, fc=\"0.9\", ec=\"0.1\", ls='--')\n",
    "#axes.yaxis.set_major_formatter(formatter)"
   ]
  },
  {
   "cell_type": "code",
   "execution_count": 87,
   "metadata": {},
   "outputs": [
    {
     "name": "stderr",
     "output_type": "stream",
     "text": [
      "WARNING:absl:Function `_wrapped_model` contains input name(s) WideInput, DeepInput with unsupported characters which will be renamed to wideinput, deepinput in the SavedModel.\n",
      "WARNING:absl:Found untraced functions such as lstm_cell_7_layer_call_fn, lstm_cell_7_layer_call_and_return_conditional_losses, lstm_cell_5_layer_call_fn, lstm_cell_5_layer_call_and_return_conditional_losses, lstm_cell_6_layer_call_fn while saving (showing 5 of 15). These functions will not be directly callable after loading.\n"
     ]
    },
    {
     "name": "stdout",
     "output_type": "stream",
     "text": [
      "INFO:tensorflow:Assets written to: my_dir/8b-60\\assets\n"
     ]
    },
    {
     "name": "stderr",
     "output_type": "stream",
     "text": [
      "INFO:tensorflow:Assets written to: my_dir/8b-60\\assets\n",
      "WARNING:absl:<keras.layers.recurrent.LSTMCell object at 0x0000024494611580> has the same name 'LSTMCell' as a built-in Keras object. Consider renaming <class 'keras.layers.recurrent.LSTMCell'> to avoid naming conflicts when loading with `tf.keras.models.load_model`. If renaming is not possible, pass the object in the `custom_objects` parameter of the load function.\n",
      "WARNING:absl:<keras.layers.recurrent.LSTMCell object at 0x000002441A9316A0> has the same name 'LSTMCell' as a built-in Keras object. Consider renaming <class 'keras.layers.recurrent.LSTMCell'> to avoid naming conflicts when loading with `tf.keras.models.load_model`. If renaming is not possible, pass the object in the `custom_objects` parameter of the load function.\n",
      "WARNING:absl:<keras.layers.recurrent.LSTMCell object at 0x0000024367537B20> has the same name 'LSTMCell' as a built-in Keras object. Consider renaming <class 'keras.layers.recurrent.LSTMCell'> to avoid naming conflicts when loading with `tf.keras.models.load_model`. If renaming is not possible, pass the object in the `custom_objects` parameter of the load function.\n"
     ]
    }
   ],
   "source": [
    "model60.save(\"my_dir/8b-60\")"
   ]
  },
  {
   "cell_type": "code",
   "execution_count": 90,
   "metadata": {},
   "outputs": [],
   "source": [
    "model60 = keras.models.load_model(\"my_dir/8b-60\")"
   ]
  },
  {
   "cell_type": "code",
   "execution_count": 91,
   "metadata": {},
   "outputs": [
    {
     "data": {
      "text/plain": [
       "array([[ 53.691444,  55.556026,  60.70085 , ...,  58.709393,  37.824448,\n",
       "         36.207043],\n",
       "       [ 53.095505,  54.782017,  60.12111 , ...,  58.37218 ,  37.82393 ,\n",
       "         36.251804],\n",
       "       [ 51.760838,  53.36135 ,  58.108593, ...,  56.514664,  35.952183,\n",
       "         35.70029 ],\n",
       "       ...,\n",
       "       [132.91722 , 138.25598 , 148.89987 , ..., 145.40034 ,  97.9319  ,\n",
       "         86.60261 ],\n",
       "       [130.82994 , 137.33368 , 146.83972 , ..., 143.76132 ,  97.04971 ,\n",
       "         86.262375],\n",
       "       [122.50737 , 128.11826 , 137.58064 , ..., 134.00612 ,  87.98282 ,\n",
       "         77.81962 ]], dtype=float32)"
      ]
     },
     "execution_count": 91,
     "metadata": {},
     "output_type": "execute_result"
    }
   ],
   "source": [
    "model60.predict((Wv60,Xv60))"
   ]
  },
  {
   "cell_type": "markdown",
   "metadata": {},
   "source": [
    "### Evaluation on inverse_transform"
   ]
  },
  {
   "cell_type": "code",
   "execution_count": null,
   "metadata": {},
   "outputs": [],
   "source": [
    "test_predictions60 = model60.predict((Wv60,Xv60))\n",
    "\n",
    "\n",
    "MSE60 = mean_squared_error(yv60,test_predictions60)\n",
    "\n",
    "MAE60 = mean_absolute_error(yv60,test_predictions60)\n",
    "\n",
    "RMSE60 = np.sqrt(MSE60)\n",
    "\n",
    "MAPE60 = mean_absolute_percentage_error(yv60,test_predictions60)*100\n",
    "\n",
    "eval60 = [MSE60, MAE60, RMSE60, MAPE60]\n",
    "print(eval60)"
   ]
  },
  {
   "cell_type": "code",
   "execution_count": null,
   "metadata": {},
   "outputs": [],
   "source": [
    "GEH, count = ga.GEH(np.asarray(yv60), np.asarray(test_predictions60))\n",
    "GEH60 = count/GEH.size\n",
    "print(GEH60)"
   ]
  },
  {
   "cell_type": "markdown",
   "metadata": {},
   "source": [
    "# RESULTS"
   ]
  },
  {
   "cell_type": "markdown",
   "metadata": {},
   "source": [
    "## General results"
   ]
  },
  {
   "cell_type": "code",
   "execution_count": null,
   "metadata": {},
   "outputs": [],
   "source": [
    "l = ['MSE','MAE','RMSE','MAPE','Horizon']"
   ]
  },
  {
   "cell_type": "code",
   "execution_count": null,
   "metadata": {},
   "outputs": [],
   "source": [
    "eval5.append(5)\n",
    "eval15.append(15)\n",
    "eval30.append(30)\n",
    "eval60.append(60)"
   ]
  },
  {
   "cell_type": "code",
   "execution_count": null,
   "metadata": {},
   "outputs": [],
   "source": [
    "df = pd.DataFrame(np.array([eval5,eval15,eval30,eval60]),columns=l)\n",
    "df.set_index('Horizon')"
   ]
  },
  {
   "cell_type": "markdown",
   "metadata": {},
   "source": [
    "## GEH"
   ]
  },
  {
   "cell_type": "code",
   "execution_count": null,
   "metadata": {},
   "outputs": [],
   "source": [
    "n = [' 5 ',' 15 ',' 30 ',' 60 ']\n",
    "df2 = pd.DataFrame(np.array([[GEH5, GEH15, GEH30, GEH60]]), columns=n)\n",
    "print(df2)"
   ]
  },
  {
   "cell_type": "markdown",
   "metadata": {},
   "source": [
    "## Save Loss"
   ]
  },
  {
   "cell_type": "code",
   "execution_count": null,
   "metadata": {},
   "outputs": [],
   "source": [
    "metrics5.to_csv('Loss/8b-5.csv') \n",
    "metrics15.to_csv('Loss/8b-15.csv') \n",
    "metrics30.to_csv('Loss/8b-30.csv') \n",
    "metrics60.to_csv('Loss/8b-60.csv') "
   ]
  }
 ],
 "metadata": {
  "kernelspec": {
   "display_name": "Python 3 (ipykernel)",
   "language": "python",
   "name": "python3"
  },
  "language_info": {
   "codemirror_mode": {
    "name": "ipython",
    "version": 3
   },
   "file_extension": ".py",
   "mimetype": "text/x-python",
   "name": "python",
   "nbconvert_exporter": "python",
   "pygments_lexer": "ipython3",
   "version": "3.11.5"
  }
 },
 "nbformat": 4,
 "nbformat_minor": 4
}
