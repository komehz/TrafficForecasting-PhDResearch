{
 "cells": [
  {
   "cell_type": "code",
   "execution_count": 1,
   "metadata": {},
   "outputs": [],
   "source": [
    "import pandas as pd\n",
    "import numpy as np\n",
    "import matplotlib.pyplot as plt\n",
    "import seaborn as sns\n",
    "import joblib\n",
    "import os"
   ]
  },
  {
   "cell_type": "code",
   "execution_count": 2,
   "metadata": {},
   "outputs": [],
   "source": [
    "import keras_tuner as kt\n",
    "from keras_tuner import RandomSearch\n",
    "# from GEH_LOSS import GEH_loss\n",
    "import geh as ga"
   ]
  },
  {
   "cell_type": "code",
   "execution_count": 3,
   "metadata": {},
   "outputs": [],
   "source": [
    "from sklearn.metrics import mean_absolute_error,mean_squared_error,mean_absolute_percentage_error"
   ]
  },
  {
   "cell_type": "code",
   "execution_count": 4,
   "metadata": {},
   "outputs": [],
   "source": [
    "import relative_accuracy as ra"
   ]
  },
  {
   "cell_type": "code",
   "execution_count": 5,
   "metadata": {},
   "outputs": [],
   "source": [
    "# Load all Inputs and Output Data\n",
    "\n",
    "# 5 mins (1 step ahead)\n",
    "Deep_train_5   = np.load(\"Deep_train_5_multi.npz\")['x'] \n",
    "Output_train_5 = np.load(\"Deep_train_5_multi.npz\")['y']\n",
    "\n",
    "Deep_test_5   = np.load(\"Deep_test_5_multi.npz\")['x'] \n",
    "Output_test_5 = np.load(\"Deep_test_5_multi.npz\")['y'] \n",
    "\n",
    "# 15 mins (3 steps ahead)\n",
    "Deep_train_15   = np.load(\"Deep_train_15_multi.npz\")['x'] \n",
    "Output_train_15 = np.load(\"Deep_train_15_multi.npz\")['y']\n",
    "\n",
    "Deep_test_15   = np.load(\"Deep_test_15_multi.npz\")['x'] \n",
    "Output_test_15 = np.load(\"Deep_test_15_multi.npz\")['y']\n",
    "\n",
    "# 30 mins (6 steps ahead)\n",
    "Deep_train_30   = np.load(\"Deep_train_30_multi.npz\")['x'] \n",
    "Output_train_30 = np.load(\"Deep_train_30_multi.npz\")['y']\n",
    "\n",
    "Deep_test_30   = np.load(\"Deep_test_30_multi.npz\")['x'] \n",
    "Output_test_30 = np.load(\"Deep_test_30_multi.npz\")['y']\n",
    "\n",
    "# 60 mins (12 steps ahead)\n",
    "Deep_train_60   = np.load(\"Deep_train_60_multi.npz\")['x'] \n",
    "Output_train_60 = np.load(\"Deep_train_60_multi.npz\")['y']\n",
    "\n",
    "Deep_test_60   = np.load(\"Deep_test_60_multi.npz\")['x'] \n",
    "Output_test_60 = np.load(\"Deep_test_60_multi.npz\")['y']"
   ]
  },
  {
   "cell_type": "code",
   "execution_count": 6,
   "metadata": {},
   "outputs": [],
   "source": [
    "# Wide Data\n",
    "Xtrain = joblib.load(\"002weeks_train_Multi.save\") \n",
    "Xtest = joblib.load(\"002weeks_test_Multi.save\") "
   ]
  },
  {
   "cell_type": "code",
   "execution_count": 7,
   "metadata": {},
   "outputs": [],
   "source": [
    "# 5 mins\n",
    "# Delete first 15 samples\n",
    "Wide_train_5 = np.delete(Xtrain, np.s_[0:15], 0)\n",
    "Wide_test_5 = np.delete(Xtest, np.s_[0:15], 0)"
   ]
  },
  {
   "cell_type": "code",
   "execution_count": 8,
   "metadata": {},
   "outputs": [],
   "source": [
    "# 15 mins\n",
    "# Delete first 17 samples\n",
    "Wide_train_15 = np.delete(Xtrain, np.s_[0:17], 0)\n",
    "Wide_test_15 = np.delete(Xtest, np.s_[0:17], 0)"
   ]
  },
  {
   "cell_type": "code",
   "execution_count": 9,
   "metadata": {},
   "outputs": [],
   "source": [
    "# 30 mins\n",
    "# Delete first 20 samples\n",
    "Wide_train_30 = np.delete(Xtrain, np.s_[0:20], 0)\n",
    "Wide_test_30 = np.delete(Xtest, np.s_[0:20], 0)"
   ]
  },
  {
   "cell_type": "code",
   "execution_count": 10,
   "metadata": {},
   "outputs": [],
   "source": [
    "# 60 mins\n",
    "# Delete first 27 samples\n",
    "Wide_train_60 = np.delete(Xtrain, np.s_[0:26], 0)\n",
    "Wide_test_60 = np.delete(Xtest, np.s_[0:26], 0)"
   ]
  },
  {
   "cell_type": "code",
   "execution_count": 11,
   "metadata": {},
   "outputs": [
    {
     "name": "stderr",
     "output_type": "stream",
     "text": [
      "C:\\Users\\mesug\\anaconda3\\envs\\my_env\\lib\\site-packages\\sklearn\\base.py:324: UserWarning: Trying to unpickle estimator MinMaxScaler from version 1.0.2 when using version 1.0.1. This might lead to breaking code or invalid results. Use at your own risk. For more info please refer to:\n",
      "https://scikit-learn.org/stable/modules/model_persistence.html#security-maintainability-limitations\n",
      "  warnings.warn(\n"
     ]
    }
   ],
   "source": [
    "scaler_filename = \"scaler.save\"\n",
    "scaler = joblib.load(scaler_filename) "
   ]
  },
  {
   "cell_type": "code",
   "execution_count": 12,
   "metadata": {},
   "outputs": [],
   "source": [
    "Test      = pd.read_csv('01test_scaled.csv', index_col=None, parse_dates=[0])"
   ]
  },
  {
   "cell_type": "code",
   "execution_count": 13,
   "metadata": {},
   "outputs": [],
   "source": [
    "from pyts.image import GramianAngularField"
   ]
  },
  {
   "cell_type": "markdown",
   "metadata": {},
   "source": [
    "# Reshape Samples"
   ]
  },
  {
   "cell_type": "markdown",
   "metadata": {},
   "source": [
    "The first step is to split the input sequences into subsequences that can be processed by the CNN model. Here, each spatio-temporal sample can be split into three sub-samples, each with five time steps. The CNN can interpret each subsequence of five time steps and provide a time series of interpretations of the subsequences to the LSTM model to process as input."
   ]
  },
  {
   "cell_type": "code",
   "execution_count": 14,
   "metadata": {},
   "outputs": [],
   "source": [
    "# reshape from [samples, timesteps] into [samples, subsequences, timesteps, features]\n",
    "n_features = 7                # No of loop detectors\n",
    "n_seq = 3                     # Subsequences\n",
    "n_steps = 5                   # time-step per subsequence\n",
    "# val_percent = 0.07567       # 2 weeks\n",
    "val_percent = 0.2        \n",
    "batch_size = 32\n",
    "n_GAF = 15\n",
    "\n",
    "n_seq_ = 3                     # Subsequences\n",
    "n_steps_ = 3                   # time-step per subsequence"
   ]
  },
  {
   "cell_type": "code",
   "execution_count": 15,
   "metadata": {},
   "outputs": [],
   "source": [
    "# Summation\n",
    "gasf = GramianAngularField(image_size=1., method='summation', sample_range=None)\n",
    "# Difference\n",
    "gadf = GramianAngularField(image_size=1., method='difference', sample_range=None)"
   ]
  },
  {
   "cell_type": "markdown",
   "metadata": {},
   "source": [
    "#### 5 mins"
   ]
  },
  {
   "cell_type": "code",
   "execution_count": 16,
   "metadata": {},
   "outputs": [],
   "source": [
    "# Train\n",
    "Xt5 = np.empty((len(Deep_train_5), n_features, n_GAF, n_GAF))\n",
    "yt5 = scaler.inverse_transform(Output_train_5)"
   ]
  },
  {
   "cell_type": "code",
   "execution_count": 17,
   "metadata": {},
   "outputs": [],
   "source": [
    "# Test\n",
    "Xv5 = np.empty((len(Deep_test_5), n_features, n_GAF, n_GAF))\n",
    "yv5 = scaler.inverse_transform(Output_test_5)"
   ]
  },
  {
   "cell_type": "markdown",
   "metadata": {},
   "source": [
    "#### 15 mins"
   ]
  },
  {
   "cell_type": "code",
   "execution_count": 18,
   "metadata": {},
   "outputs": [],
   "source": [
    "# Train\n",
    "Xt15 = np.empty((len(Deep_train_15), n_features, n_GAF, n_GAF))\n",
    "yt15 = scaler.inverse_transform(Output_train_15)"
   ]
  },
  {
   "cell_type": "code",
   "execution_count": 19,
   "metadata": {},
   "outputs": [],
   "source": [
    "# Test\n",
    "Xv15 = np.empty((len(Deep_test_15), n_features, n_GAF, n_GAF))\n",
    "yv15 = scaler.inverse_transform(Output_test_15)"
   ]
  },
  {
   "cell_type": "markdown",
   "metadata": {},
   "source": [
    "#### 30 mins"
   ]
  },
  {
   "cell_type": "code",
   "execution_count": 20,
   "metadata": {},
   "outputs": [],
   "source": [
    "# Train\n",
    "Xt30 = np.empty((len(Deep_train_30), n_features, n_GAF, n_GAF))\n",
    "yt30 = scaler.inverse_transform(Output_train_30)"
   ]
  },
  {
   "cell_type": "code",
   "execution_count": 21,
   "metadata": {},
   "outputs": [],
   "source": [
    "# Test\n",
    "Xv30 = np.empty((len(Deep_test_30), n_features, n_GAF, n_GAF))\n",
    "yv30 = scaler.inverse_transform(Output_test_30)"
   ]
  },
  {
   "cell_type": "markdown",
   "metadata": {},
   "source": [
    "#### 60 mins"
   ]
  },
  {
   "cell_type": "code",
   "execution_count": 22,
   "metadata": {},
   "outputs": [],
   "source": [
    "# Train\n",
    "Xt60 = np.empty((len(Deep_train_60), n_features, n_GAF, n_GAF))\n",
    "yt60 = scaler.inverse_transform(Output_train_60)"
   ]
  },
  {
   "cell_type": "code",
   "execution_count": 23,
   "metadata": {},
   "outputs": [],
   "source": [
    "# Test\n",
    "Xv60 = np.empty((len(Deep_test_60), n_features, n_GAF, n_GAF))\n",
    "yv60 = scaler.inverse_transform(Output_test_60)"
   ]
  },
  {
   "cell_type": "code",
   "execution_count": 24,
   "metadata": {},
   "outputs": [],
   "source": [
    "## Check Size"
   ]
  },
  {
   "cell_type": "code",
   "execution_count": 25,
   "metadata": {},
   "outputs": [
    {
     "data": {
      "text/plain": [
       "(31089, 7, 15, 15)"
      ]
     },
     "execution_count": 25,
     "metadata": {},
     "output_type": "execute_result"
    }
   ],
   "source": [
    "Xt5.shape"
   ]
  },
  {
   "cell_type": "markdown",
   "metadata": {},
   "source": [
    "## Tranformations"
   ]
  },
  {
   "cell_type": "markdown",
   "metadata": {},
   "source": [
    "### 5 mins"
   ]
  },
  {
   "cell_type": "code",
   "execution_count": 26,
   "metadata": {},
   "outputs": [],
   "source": [
    "for i in range(len(Xt5)):\n",
    "    # Transpose data first because:\n",
    "    # expected shape is (n_samples, n_timestamps)\n",
    "    X = np.transpose(Deep_train_5[i])\n",
    "    \n",
    "    # Perform the GAF transformations\n",
    "    # X_gasf = gasf.transform(X)\n",
    "    X_gadf = gadf.transform(X)\n",
    "    \n",
    "    # Store value in the array to get the shape:\n",
    "    # (samples, feature, n_GAF, n_GAF)\n",
    "    # Xt5[i,:,:,:] = X_gasf\n",
    "    Xt5[i,:,:,:] = X_gadf"
   ]
  },
  {
   "cell_type": "code",
   "execution_count": 27,
   "metadata": {},
   "outputs": [],
   "source": [
    "for i in range(len(Xv5)):\n",
    "    # Transpose data first because:\n",
    "    # expected shape is (n_samples, n_timestamps)\n",
    "    X = np.transpose(Deep_test_5[i])\n",
    "    \n",
    "    # Perform the GAF transformations\n",
    "    # X_gasf = gasf.transform(X)\n",
    "    X_gadf = gadf.transform(X)\n",
    "    \n",
    "    # Store value in the array to get the shape:\n",
    "    # (samples, feature, n_GAF, n_GAF)\n",
    "    # Xv5[i,:,:,:] = X_gasf\n",
    "    Xv5[i,:,:,:] = X_gadf"
   ]
  },
  {
   "cell_type": "code",
   "execution_count": 28,
   "metadata": {},
   "outputs": [
    {
     "data": {
      "text/plain": [
       "(31089, 7, 15, 15)"
      ]
     },
     "execution_count": 28,
     "metadata": {},
     "output_type": "execute_result"
    }
   ],
   "source": [
    "Xt5.shape"
   ]
  },
  {
   "cell_type": "code",
   "execution_count": 29,
   "metadata": {},
   "outputs": [
    {
     "data": {
      "text/plain": [
       "(4017, 7, 15, 15)"
      ]
     },
     "execution_count": 29,
     "metadata": {},
     "output_type": "execute_result"
    }
   ],
   "source": [
    "Xv5.shape"
   ]
  },
  {
   "cell_type": "markdown",
   "metadata": {},
   "source": [
    "### 15 mins"
   ]
  },
  {
   "cell_type": "code",
   "execution_count": 30,
   "metadata": {},
   "outputs": [],
   "source": [
    "for i in range(len(Xt15)):\n",
    "    # Transpose data first because:\n",
    "    # expected shape is (n_samples, n_timestamps)\n",
    "    X = np.transpose(Deep_train_15[i])\n",
    "    \n",
    "    # Perform the GAF transformations\n",
    "    # X_gasf = gasf.transform(X)\n",
    "    X_gadf = gadf.transform(X)\n",
    "    \n",
    "    # Store value in the array to get the shape:\n",
    "    # (samples, feature, n_GAF, n_GAF)\n",
    "    # Xt15[i,:,:,:] = X_gasf\n",
    "    Xt5[i,:,:,:] = X_gadf"
   ]
  },
  {
   "cell_type": "code",
   "execution_count": 31,
   "metadata": {},
   "outputs": [],
   "source": [
    "for i in range(len(Xv15)):\n",
    "    # Transpose data first because:\n",
    "    # expected shape is (n_samples, n_timestamps)\n",
    "    X = np.transpose(Deep_test_15[i])\n",
    "    \n",
    "    # Perform the GAF transformations\n",
    "    # X_gasf = gasf.transform(X)\n",
    "    X_gadf = gadf.transform(X)\n",
    "    \n",
    "    # Store value in the array to get the shape:\n",
    "    # (samples, feature, n_GAF, n_GAF)\n",
    "    # Xv15[i,:,:,:] = X_gasf\n",
    "    Xv5[i,:,:,:] = X_gadf"
   ]
  },
  {
   "cell_type": "code",
   "execution_count": 32,
   "metadata": {},
   "outputs": [
    {
     "data": {
      "text/plain": [
       "(31087, 7, 15, 15)"
      ]
     },
     "execution_count": 32,
     "metadata": {},
     "output_type": "execute_result"
    }
   ],
   "source": [
    "Xt15.shape"
   ]
  },
  {
   "cell_type": "code",
   "execution_count": 33,
   "metadata": {},
   "outputs": [
    {
     "data": {
      "text/plain": [
       "(4015, 7, 15, 15)"
      ]
     },
     "execution_count": 33,
     "metadata": {},
     "output_type": "execute_result"
    }
   ],
   "source": [
    "Xv15.shape"
   ]
  },
  {
   "cell_type": "markdown",
   "metadata": {},
   "source": [
    "### 30 mins"
   ]
  },
  {
   "cell_type": "code",
   "execution_count": 34,
   "metadata": {},
   "outputs": [],
   "source": [
    "for i in range(len(Xt30)):\n",
    "    # Transpose data first because:\n",
    "    # expected shape is (n_samples, n_timestamps)\n",
    "    X = np.transpose(Deep_train_30[i])\n",
    "    \n",
    "    # Perform the GAF transformations\n",
    "    # X_gasf = gasf.transform(X)\n",
    "    X_gadf = gadf.transform(X)\n",
    "    \n",
    "    # Store value in the array to get the shape:\n",
    "    # (samples, feature, n_GAF, n_GAF)\n",
    "    # Xt30[i,:,:,:] = X_gasf\n",
    "    Xt5[i,:,:,:] = X_gadf"
   ]
  },
  {
   "cell_type": "code",
   "execution_count": 35,
   "metadata": {},
   "outputs": [],
   "source": [
    "for i in range(len(Xv30)):\n",
    "    # Transpose data first because:\n",
    "    # expected shape is (n_samples, n_timestamps)\n",
    "    X = np.transpose(Deep_test_30[i])\n",
    "    \n",
    "    # Perform the GAF transformations\n",
    "    # X_gasf = gasf.transform(X)\n",
    "    X_gadf = gadf.transform(X)\n",
    "    \n",
    "    # Store value in the array to get the shape:\n",
    "    # (samples, feature, n_GAF, n_GAF)\n",
    "    # Xv30[i,:,:,:] = X_gasf\n",
    "    Xv5[i,:,:,:] = X_gadf"
   ]
  },
  {
   "cell_type": "code",
   "execution_count": 36,
   "metadata": {},
   "outputs": [
    {
     "data": {
      "text/plain": [
       "(31084, 7, 15, 15)"
      ]
     },
     "execution_count": 36,
     "metadata": {},
     "output_type": "execute_result"
    }
   ],
   "source": [
    "Xt30.shape"
   ]
  },
  {
   "cell_type": "code",
   "execution_count": 37,
   "metadata": {},
   "outputs": [
    {
     "data": {
      "text/plain": [
       "(4012, 7, 15, 15)"
      ]
     },
     "execution_count": 37,
     "metadata": {},
     "output_type": "execute_result"
    }
   ],
   "source": [
    "Xv30.shape"
   ]
  },
  {
   "cell_type": "markdown",
   "metadata": {},
   "source": [
    "### 60 mins"
   ]
  },
  {
   "cell_type": "code",
   "execution_count": 38,
   "metadata": {},
   "outputs": [],
   "source": [
    "for i in range(len(Xt60)):\n",
    "    # Transpose data first because:\n",
    "    # expected shape is (n_samples, n_timestamps)\n",
    "    X = np.transpose(Deep_train_60[i])\n",
    "    \n",
    "    # Perform the GAF transformations\n",
    "    # X_gasf = gasf.transform(X)\n",
    "    X_gadf = gadf.transform(X)\n",
    "    \n",
    "    # Store value in the array to get the shape:\n",
    "    # (samples, feature, n_GAF, n_GAF)\n",
    "    # Xt30[i,:,:,:] = X_gasf\n",
    "    Xt5[i,:,:,:] = X_gadf"
   ]
  },
  {
   "cell_type": "code",
   "execution_count": 39,
   "metadata": {},
   "outputs": [],
   "source": [
    "for i in range(len(Xv60)):\n",
    "    # Transpose data first because:\n",
    "    # expected shape is (n_samples, n_timestamps)\n",
    "    X = np.transpose(Deep_test_60[i])\n",
    "    \n",
    "    # Perform the GAF transformations\n",
    "    # X_gasf = gasf.transform(X)\n",
    "    X_gadf = gadf.transform(X)\n",
    "    \n",
    "    # Store value in the array to get the shape:\n",
    "    # (samples, feature, n_GAF, n_GAF)\n",
    "    # Xv60[i,:,:,:] = X_gasf\n",
    "    Xv5[i,:,:,:] = X_gadf"
   ]
  },
  {
   "cell_type": "code",
   "execution_count": 40,
   "metadata": {},
   "outputs": [
    {
     "data": {
      "text/plain": [
       "(31078, 7, 15, 15)"
      ]
     },
     "execution_count": 40,
     "metadata": {},
     "output_type": "execute_result"
    }
   ],
   "source": [
    "Xt60.shape"
   ]
  },
  {
   "cell_type": "code",
   "execution_count": 41,
   "metadata": {},
   "outputs": [
    {
     "data": {
      "text/plain": [
       "(4006, 7, 15, 15)"
      ]
     },
     "execution_count": 41,
     "metadata": {},
     "output_type": "execute_result"
    }
   ],
   "source": [
    "Xv60.shape"
   ]
  },
  {
   "cell_type": "markdown",
   "metadata": {},
   "source": [
    "### Reshaping the Data for Conv2D layer\n",
    "\n",
    "For Conv2D, there is a need to add one more dimension to show we're dealing with 1 channel (since technically the images are in black and white, only showing values from 0-max flow on a single channel).\n",
    "\n",
    "Conv1D - strides in 1 dimension\n",
    "Conv2D - strides in 2 dimensions"
   ]
  },
  {
   "cell_type": "code",
   "execution_count": 42,
   "metadata": {},
   "outputs": [],
   "source": [
    "# Train data\n",
    "Xt5  =  np.transpose(Xt5, (0, 2, 3, 1))\n",
    "Xt15 =  np.transpose(Xt15, (0, 2, 3, 1))\n",
    "Xt30 =  np.transpose(Xt30, (0, 2, 3, 1))\n",
    "Xt60 =  np.transpose(Xt60, (0, 2, 3, 1))\n",
    "\n",
    "# Validation data\n",
    "Xv5  =  np.transpose(Xv5, (0, 2, 3, 1))\n",
    "Xv15 =  np.transpose(Xv15, (0, 2, 3, 1))\n",
    "Xv30 =  np.transpose(Xv30, (0, 2, 3, 1))\n",
    "Xv60 =  np.transpose(Xv60, (0, 2, 3, 1))"
   ]
  },
  {
   "cell_type": "code",
   "execution_count": 43,
   "metadata": {},
   "outputs": [
    {
     "data": {
      "text/plain": [
       "(31089, 15, 15, 7)"
      ]
     },
     "execution_count": 43,
     "metadata": {},
     "output_type": "execute_result"
    }
   ],
   "source": [
    "Xt5.shape"
   ]
  },
  {
   "cell_type": "code",
   "execution_count": 44,
   "metadata": {},
   "outputs": [
    {
     "data": {
      "text/plain": [
       "(4017, 15, 15, 7)"
      ]
     },
     "execution_count": 44,
     "metadata": {},
     "output_type": "execute_result"
    }
   ],
   "source": [
    "Xv5.shape"
   ]
  },
  {
   "cell_type": "code",
   "execution_count": 45,
   "metadata": {},
   "outputs": [],
   "source": [
    "# Train data\n",
    "Xt5  =  Xt5.reshape(Xt5.shape[0], n_seq, n_steps, n_GAF, n_features)\n",
    "Xt15 =  Xt15.reshape(Xt15.shape[0], n_seq, n_steps, n_GAF, n_features)\n",
    "Xt30 =  Xt30.reshape(Xt30.shape[0], n_seq, n_steps, n_GAF, n_features)\n",
    "Xt60 =  Xt60.reshape(Xt60.shape[0], n_seq, n_steps, n_GAF, n_features)\n",
    "\n",
    "# Validation data\n",
    "Xv5  =  Xv5.reshape(Xv5.shape[0], n_seq, n_steps, n_GAF, n_features)\n",
    "Xv15 =  Xv15.reshape(Xv15.shape[0], n_seq, n_steps, n_GAF, n_features)\n",
    "Xv30 =  Xv30.reshape(Xv30.shape[0], n_seq, n_steps, n_GAF, n_features)\n",
    "Xv60 =  Xv60.reshape(Xv60.shape[0], n_seq, n_steps, n_GAF, n_features)"
   ]
  },
  {
   "cell_type": "code",
   "execution_count": 46,
   "metadata": {},
   "outputs": [],
   "source": [
    "Wt5  = Wide_train_5\n",
    "Wt15 = Wide_train_15\n",
    "Wt30 = Wide_train_30\n",
    "Wt60 = Wide_train_60\n",
    "\n",
    "Wv5  = Wide_test_5\n",
    "Wv15 = Wide_test_15\n",
    "Wv30 = Wide_test_30\n",
    "Wv60 = Wide_test_60"
   ]
  },
  {
   "cell_type": "code",
   "execution_count": 47,
   "metadata": {},
   "outputs": [],
   "source": [
    "# Train data\n",
    "Wt5  =  Wt5.reshape(Wt5.shape[0], n_seq_, n_steps_, n_features)\n",
    "Wt15 =  Wt15.reshape(Wt15.shape[0], n_seq_, n_steps_, n_features)\n",
    "Wt30 =  Wt30.reshape(Wt30.shape[0], n_seq_, n_steps_, n_features)\n",
    "Wt60 =  Wt60.reshape(Wt60.shape[0], n_seq_, n_steps_, n_features)\n",
    "\n",
    "# Validation data\n",
    "Wv5  =  Wv5.reshape(Wv5.shape[0], n_seq_, n_steps_, n_features)\n",
    "Wv15 =  Wv15.reshape(Wv15.shape[0], n_seq_, n_steps_, n_features)\n",
    "Wv30 =  Wv30.reshape(Wv30.shape[0], n_seq_, n_steps_, n_features)\n",
    "Wv60 =  Wv60.reshape(Wv60.shape[0], n_seq_, n_steps_, n_features)"
   ]
  },
  {
   "cell_type": "code",
   "execution_count": 48,
   "metadata": {},
   "outputs": [
    {
     "data": {
      "text/plain": [
       "(31089, 3, 5, 15, 7)"
      ]
     },
     "execution_count": 48,
     "metadata": {},
     "output_type": "execute_result"
    }
   ],
   "source": [
    "Xt5.shape"
   ]
  },
  {
   "cell_type": "code",
   "execution_count": 49,
   "metadata": {},
   "outputs": [
    {
     "data": {
      "text/plain": [
       "(31089, 3, 3, 7)"
      ]
     },
     "execution_count": 49,
     "metadata": {},
     "output_type": "execute_result"
    }
   ],
   "source": [
    "Wt5.shape"
   ]
  },
  {
   "cell_type": "markdown",
   "metadata": {},
   "source": [
    "# CNN-LSTM model"
   ]
  },
  {
   "cell_type": "code",
   "execution_count": 50,
   "metadata": {},
   "outputs": [],
   "source": [
    "from tensorflow import keras\n",
    "from keras_self_attention import SeqSelfAttention\n",
    "\n",
    "# Early Stopping\n",
    "early_stop = keras.callbacks.EarlyStopping(monitor='val_loss',patience=5, restore_best_weights = True)"
   ]
  },
  {
   "cell_type": "code",
   "execution_count": 51,
   "metadata": {},
   "outputs": [
    {
     "data": {
      "text/plain": [
       "(31089, 9, 7)"
      ]
     },
     "execution_count": 51,
     "metadata": {},
     "output_type": "execute_result"
    }
   ],
   "source": [
    "Wide_train_5.shape"
   ]
  },
  {
   "cell_type": "markdown",
   "metadata": {},
   "source": [
    "# 5 mins ahead"
   ]
  },
  {
   "cell_type": "code",
   "execution_count": 52,
   "metadata": {},
   "outputs": [],
   "source": [
    "def build_model_5(hp):\n",
    "    # Inputs\n",
    "    channel_Wide = keras.layers.Input(shape=Wt5.shape[1:], name=\"WideInput\")\n",
    "    channel_Deep = keras.layers.Input(shape=Xt5.shape[1:], name=\"DeepInput\")\n",
    "    units = hp.Int(\"units\", min_value=1, max_value=100, step=1)\n",
    "    \n",
    "    \n",
    "    # Wide Model\n",
    "    flatten_5w = keras.layers.TimeDistributed(keras.layers.Flatten())(channel_Wide)\n",
    "    Bi_5 = keras.layers.Bidirectional(\n",
    "        keras.layers.LSTM(units=units, return_sequences=True),\n",
    "        merge_mode=\"ave\"\n",
    "    )(flatten_5w)\n",
    "    \n",
    "    \n",
    "    # Deep Model\n",
    "    # CNN \n",
    "    CNN_5 = keras.layers.TimeDistributed(\n",
    "        keras.layers.Conv2D(filters=hp.Int(\"filters\", min_value=32, max_value=512, step=32),\n",
    "                            kernel_size=hp.Choice(\"kernel_size\", [2, 3]), activation='relu'))(channel_Deep)\n",
    "    flatten_5 = keras.layers.TimeDistributed(keras.layers.Flatten())(CNN_5)\n",
    "    # LSTM          \n",
    "    LSTM_5 = keras.layers.LSTM(units=units, return_sequences=True)(flatten_5)\n",
    "\n",
    "    \n",
    "    # Concatenation \n",
    "    concat = keras.layers.concatenate([Bi_5, LSTM_5], axis=1)\n",
    "\n",
    "    # Attention\n",
    "    Att_5 = SeqSelfAttention(attention_activation='sigmoid')(concat)\n",
    "    merge = keras.layers.Flatten()(concat)\n",
    "\n",
    "    \n",
    "    # Output\n",
    "    output = keras.layers.Dense(n_features, name= \"output\")(merge)\n",
    "    \n",
    "    # Model\n",
    "    model_5 = keras.Model(inputs=[channel_Wide,channel_Deep], outputs=[output])\n",
    "\n",
    "    # Compile\n",
    "    model_5.compile(optimizer=keras.optimizers.Adam(hp.Choice(\"learning_rate\", [1e-2, 1e-3, 1e-4])), \n",
    "        loss=\"mse\", metrics=['MeanAbsoluteError','RootMeanSquaredError','MeanAbsolutePercentageError'])\n",
    "                                   \n",
    "    return model_5"
   ]
  },
  {
   "cell_type": "code",
   "execution_count": 53,
   "metadata": {},
   "outputs": [
    {
     "name": "stdout",
     "output_type": "stream",
     "text": [
      "INFO:tensorflow:Reloading Tuner from C:\\Runs\\10b-5\\tuner0.json\n"
     ]
    }
   ],
   "source": [
    "tuner5 = RandomSearch(\n",
    "    build_model_5,\n",
    "    objective=\"val_loss\",\n",
    "    max_trials=10,\n",
    "    executions_per_trial=2,\n",
    "    overwrite=False,\n",
    "    directory=os.path.normpath('C:/Runs'),\n",
    "    project_name=\"10b-5\",\n",
    ")"
   ]
  },
  {
   "cell_type": "code",
   "execution_count": 54,
   "metadata": {},
   "outputs": [
    {
     "name": "stdout",
     "output_type": "stream",
     "text": [
      "Search space summary\n",
      "Default search space size: 4\n",
      "units (Int)\n",
      "{'default': None, 'conditions': [], 'min_value': 1, 'max_value': 100, 'step': 1, 'sampling': 'linear'}\n",
      "filters (Int)\n",
      "{'default': None, 'conditions': [], 'min_value': 32, 'max_value': 512, 'step': 32, 'sampling': 'linear'}\n",
      "kernel_size (Choice)\n",
      "{'default': 2, 'conditions': [], 'values': [2, 3], 'ordered': True}\n",
      "learning_rate (Choice)\n",
      "{'default': 0.01, 'conditions': [], 'values': [0.01, 0.001, 0.0001], 'ordered': True}\n"
     ]
    }
   ],
   "source": [
    "tuner5.search_space_summary()"
   ]
  },
  {
   "cell_type": "code",
   "execution_count": 55,
   "metadata": {},
   "outputs": [
    {
     "name": "stdout",
     "output_type": "stream",
     "text": [
      "Trial 10 Complete [02h 37m 35s]\n",
      "val_loss: 925.1968994140625\n",
      "\n",
      "Best val_loss So Far: 894.143798828125\n",
      "Total elapsed time: 02h 37m 35s\n",
      "INFO:tensorflow:Oracle triggered exit\n"
     ]
    }
   ],
   "source": [
    "tuner5.search((Wt5,Xt5), yt5, epochs=200,\n",
    "           validation_split = val_percent,\n",
    "           callbacks = [early_stop],\n",
    "           verbose=2)"
   ]
  },
  {
   "cell_type": "code",
   "execution_count": 56,
   "metadata": {},
   "outputs": [
    {
     "name": "stdout",
     "output_type": "stream",
     "text": [
      "Results summary\n",
      "Results in C:\\Runs\\10b-5\n",
      "Showing 1 best trials\n",
      "Objective(name=\"val_loss\", direction=\"min\")\n",
      "\n",
      "Trial 01 summary\n",
      "Hyperparameters:\n",
      "units: 82\n",
      "filters: 512\n",
      "kernel_size: 2\n",
      "learning_rate: 0.001\n",
      "Score: 894.143798828125\n"
     ]
    }
   ],
   "source": [
    "tuner5.results_summary(1)"
   ]
  },
  {
   "cell_type": "markdown",
   "metadata": {},
   "source": [
    "### Best Model"
   ]
  },
  {
   "cell_type": "code",
   "execution_count": 58,
   "metadata": {},
   "outputs": [],
   "source": [
    "best_hp5 = tuner5.get_best_hyperparameters()[0]\n",
    "model5 = tuner5.hypermodel.build(best_hp5)"
   ]
  },
  {
   "cell_type": "code",
   "execution_count": 59,
   "metadata": {},
   "outputs": [
    {
     "data": {
      "text/plain": [
       "['Best_HP/10b-5']"
      ]
     },
     "execution_count": 59,
     "metadata": {},
     "output_type": "execute_result"
    }
   ],
   "source": [
    "scaler_filename = \"Best_HP/10b-5\"\n",
    "joblib.dump(best_hp5, scaler_filename) "
   ]
  },
  {
   "cell_type": "code",
   "execution_count": 60,
   "metadata": {},
   "outputs": [],
   "source": [
    "scaler_filename = \"Best_HP/10b-5\"\n",
    "best_hp5 = joblib.load(scaler_filename) \n",
    "\n",
    "model5 = tuner5.hypermodel.build(best_hp5)"
   ]
  },
  {
   "cell_type": "code",
   "execution_count": 61,
   "metadata": {},
   "outputs": [
    {
     "name": "stdout",
     "output_type": "stream",
     "text": [
      "Model: \"model_2\"\n",
      "__________________________________________________________________________________________________\n",
      "Layer (type)                    Output Shape         Param #     Connected to                     \n",
      "==================================================================================================\n",
      "DeepInput (InputLayer)          [(None, 3, 5, 15, 7) 0                                            \n",
      "__________________________________________________________________________________________________\n",
      "WideInput (InputLayer)          [(None, 3, 3, 7)]    0                                            \n",
      "__________________________________________________________________________________________________\n",
      "time_distributed_7 (TimeDistrib (None, 3, 4, 14, 512 14848       DeepInput[0][0]                  \n",
      "__________________________________________________________________________________________________\n",
      "time_distributed_6 (TimeDistrib (None, 3, 21)        0           WideInput[0][0]                  \n",
      "__________________________________________________________________________________________________\n",
      "time_distributed_8 (TimeDistrib (None, 3, 28672)     0           time_distributed_7[0][0]         \n",
      "__________________________________________________________________________________________________\n",
      "bidirectional_2 (Bidirectional) (None, 3, 82)        68224       time_distributed_6[0][0]         \n",
      "__________________________________________________________________________________________________\n",
      "lstm_5 (LSTM)                   (None, 3, 82)        9431640     time_distributed_8[0][0]         \n",
      "__________________________________________________________________________________________________\n",
      "concatenate_2 (Concatenate)     (None, 6, 82)        0           bidirectional_2[0][0]            \n",
      "                                                                 lstm_5[0][0]                     \n",
      "__________________________________________________________________________________________________\n",
      "flatten_8 (Flatten)             (None, 492)          0           concatenate_2[0][0]              \n",
      "__________________________________________________________________________________________________\n",
      "output (Dense)                  (None, 7)            3451        flatten_8[0][0]                  \n",
      "==================================================================================================\n",
      "Total params: 9,518,163\n",
      "Trainable params: 9,518,163\n",
      "Non-trainable params: 0\n",
      "__________________________________________________________________________________________________\n"
     ]
    }
   ],
   "source": [
    "model5.summary()"
   ]
  },
  {
   "cell_type": "code",
   "execution_count": 62,
   "metadata": {},
   "outputs": [
    {
     "name": "stdout",
     "output_type": "stream",
     "text": [
      "Epoch 1/100\n",
      "778/778 [==============================] - 82s 95ms/step - loss: 20490.0625 - mean_absolute_error: 105.8178 - root_mean_squared_error: 143.1435 - mean_absolute_percentage_error: 53304808.0000 - val_loss: 4313.2690 - val_mean_absolute_error: 45.8287 - val_root_mean_squared_error: 65.6755 - val_mean_absolute_percentage_error: 4515947.0000\n",
      "Epoch 2/100\n",
      "778/778 [==============================] - 71s 91ms/step - loss: 2261.7578 - mean_absolute_error: 32.1405 - root_mean_squared_error: 47.5579 - mean_absolute_percentage_error: 50708328.0000 - val_loss: 1406.6656 - val_mean_absolute_error: 26.5593 - val_root_mean_squared_error: 37.5056 - val_mean_absolute_percentage_error: 3777687.5000\n",
      "Epoch 3/100\n",
      "778/778 [==============================] - 70s 90ms/step - loss: 1063.8967 - mean_absolute_error: 23.2931 - root_mean_squared_error: 32.6174 - mean_absolute_percentage_error: 53618436.0000 - val_loss: 1052.3053 - val_mean_absolute_error: 23.1067 - val_root_mean_squared_error: 32.4393 - val_mean_absolute_percentage_error: 3932142.5000\n",
      "Epoch 4/100\n",
      "778/778 [==============================] - 68s 87ms/step - loss: 861.5110 - mean_absolute_error: 21.2620 - root_mean_squared_error: 29.3515 - mean_absolute_percentage_error: 56438908.0000 - val_loss: 1007.0276 - val_mean_absolute_error: 22.6643 - val_root_mean_squared_error: 31.7337 - val_mean_absolute_percentage_error: 3791287.7500\n",
      "Epoch 5/100\n",
      "778/778 [==============================] - 67s 86ms/step - loss: 799.6984 - mean_absolute_error: 20.5643 - root_mean_squared_error: 28.2789 - mean_absolute_percentage_error: 58423504.0000 - val_loss: 965.8437 - val_mean_absolute_error: 22.1614 - val_root_mean_squared_error: 31.0780 - val_mean_absolute_percentage_error: 3911103.0000\n",
      "Epoch 6/100\n",
      "778/778 [==============================] - 65s 84ms/step - loss: 765.4500 - mean_absolute_error: 20.1601 - root_mean_squared_error: 27.6668 - mean_absolute_percentage_error: 57978124.0000 - val_loss: 956.8828 - val_mean_absolute_error: 21.9751 - val_root_mean_squared_error: 30.9335 - val_mean_absolute_percentage_error: 3898725.7500\n",
      "Epoch 7/100\n",
      "778/778 [==============================] - 67s 86ms/step - loss: 739.5670 - mean_absolute_error: 19.8456 - root_mean_squared_error: 27.1950 - mean_absolute_percentage_error: 57142216.0000 - val_loss: 932.4871 - val_mean_absolute_error: 21.6489 - val_root_mean_squared_error: 30.5367 - val_mean_absolute_percentage_error: 3921728.2500\n",
      "Epoch 8/100\n",
      "778/778 [==============================] - 67s 86ms/step - loss: 717.5056 - mean_absolute_error: 19.5753 - root_mean_squared_error: 26.7863 - mean_absolute_percentage_error: 56300396.0000 - val_loss: 920.1844 - val_mean_absolute_error: 21.5494 - val_root_mean_squared_error: 30.3345 - val_mean_absolute_percentage_error: 3760790.2500\n",
      "Epoch 9/100\n",
      "778/778 [==============================] - 65s 84ms/step - loss: 693.5652 - mean_absolute_error: 19.2559 - root_mean_squared_error: 26.3356 - mean_absolute_percentage_error: 55690184.0000 - val_loss: 945.7610 - val_mean_absolute_error: 21.9371 - val_root_mean_squared_error: 30.7532 - val_mean_absolute_percentage_error: 3544859.7500\n",
      "Epoch 10/100\n",
      "778/778 [==============================] - 66s 85ms/step - loss: 673.4868 - mean_absolute_error: 19.0068 - root_mean_squared_error: 25.9516 - mean_absolute_percentage_error: 54848628.0000 - val_loss: 913.2014 - val_mean_absolute_error: 21.5074 - val_root_mean_squared_error: 30.2192 - val_mean_absolute_percentage_error: 3639302.2500\n",
      "Epoch 11/100\n",
      "778/778 [==============================] - 68s 87ms/step - loss: 648.7048 - mean_absolute_error: 18.6606 - root_mean_squared_error: 25.4697 - mean_absolute_percentage_error: 54266408.0000 - val_loss: 908.9693 - val_mean_absolute_error: 21.4342 - val_root_mean_squared_error: 30.1491 - val_mean_absolute_percentage_error: 3525025.7500\n",
      "Epoch 12/100\n",
      "778/778 [==============================] - 65s 84ms/step - loss: 625.8283 - mean_absolute_error: 18.3473 - root_mean_squared_error: 25.0166 - mean_absolute_percentage_error: 53595004.0000 - val_loss: 906.9009 - val_mean_absolute_error: 21.3848 - val_root_mean_squared_error: 30.1148 - val_mean_absolute_percentage_error: 3520202.5000\n",
      "Epoch 13/100\n",
      "778/778 [==============================] - 66s 85ms/step - loss: 601.3506 - mean_absolute_error: 17.9866 - root_mean_squared_error: 24.5224 - mean_absolute_percentage_error: 52785088.0000 - val_loss: 911.5671 - val_mean_absolute_error: 21.4029 - val_root_mean_squared_error: 30.1922 - val_mean_absolute_percentage_error: 3273148.2500 root_mean_squared_error: 24.5512 - mean_absolute_percentag - ETA: 9s - loss: 60\n",
      "Epoch 14/100\n",
      "778/778 [==============================] - 66s 85ms/step - loss: 572.8939 - mean_absolute_error: 17.5786 - root_mean_squared_error: 23.9352 - mean_absolute_percentage_error: 52008328.0000 - val_loss: 907.0778 - val_mean_absolute_error: 21.4189 - val_root_mean_squared_error: 30.1177 - val_mean_absolute_percentage_error: 3517367.5000t_mean_squared_error: 23.9337 - mean_absolute_percentage_error: \n",
      "Epoch 15/100\n",
      "778/778 [==============================] - 67s 86ms/step - loss: 541.2433 - mean_absolute_error: 17.0816 - root_mean_squared_error: 23.2646 - mean_absolute_percentage_error: 50902156.0000 - val_loss: 908.4597 - val_mean_absolute_error: 21.4646 - val_root_mean_squared_error: 30.1407 - val_mean_absolute_percentage_error: 3544313.7500\n",
      "Epoch 16/100\n",
      "778/778 [==============================] - 66s 85ms/step - loss: 510.7538 - mean_absolute_error: 16.5895 - root_mean_squared_error: 22.5999 - mean_absolute_percentage_error: 50437908.0000 - val_loss: 907.9633 - val_mean_absolute_error: 21.5723 - val_root_mean_squared_error: 30.1324 - val_mean_absolute_percentage_error: 3625705.7500\n",
      "Epoch 17/100\n",
      "778/778 [==============================] - 66s 85ms/step - loss: 479.1617 - mean_absolute_error: 16.0695 - root_mean_squared_error: 21.8898 - mean_absolute_percentage_error: 49683824.0000 - val_loss: 905.4576 - val_mean_absolute_error: 21.6156 - val_root_mean_squared_error: 30.0908 - val_mean_absolute_percentage_error: 3446253.5000\n",
      "Epoch 18/100\n",
      "778/778 [==============================] - 67s 87ms/step - loss: 449.4549 - mean_absolute_error: 15.5559 - root_mean_squared_error: 21.2004 - mean_absolute_percentage_error: 48770340.0000 - val_loss: 940.6021 - val_mean_absolute_error: 22.0236 - val_root_mean_squared_error: 30.6692 - val_mean_absolute_percentage_error: 3491991.5000\n",
      "Epoch 19/100\n",
      "778/778 [==============================] - 73s 94ms/step - loss: 422.1232 - mean_absolute_error: 15.0622 - root_mean_squared_error: 20.5456 - mean_absolute_percentage_error: 48051180.0000 - val_loss: 921.7918 - val_mean_absolute_error: 21.8075 - val_root_mean_squared_error: 30.3610 - val_mean_absolute_percentage_error: 3313160.7500\n",
      "Epoch 20/100\n",
      "778/778 [==============================] - 67s 86ms/step - loss: 399.9293 - mean_absolute_error: 14.6642 - root_mean_squared_error: 19.9982 - mean_absolute_percentage_error: 46966496.0000 - val_loss: 930.6747 - val_mean_absolute_error: 22.0556 - val_root_mean_squared_error: 30.5070 - val_mean_absolute_percentage_error: 3246033.5000olute_per - ETA: 26s - loss: 392.8639 - mea - ETA: 16s - loss: 395.8139 - mean_absolute_error: 14.5911 - root_mean_squared_error: 19.8951 - mean_absolute_perce - ETA: 15\n",
      "Epoch 21/100\n",
      "778/778 [==============================] - 66s 85ms/step - loss: 378.2292 - mean_absolute_error: 14.2500 - root_mean_squared_error: 19.4481 - mean_absolute_percentage_error: 46474944.0000 - val_loss: 949.6613 - val_mean_absolute_error: 22.3112 - val_root_mean_squared_error: 30.8166 - val_mean_absolute_percentage_error: 3307855.0000\n",
      "Epoch 22/100\n",
      "778/778 [==============================] - 66s 85ms/step - loss: 360.5117 - mean_absolute_error: 13.9007 - root_mean_squared_error: 18.9872 - mean_absolute_percentage_error: 45151900.0000 - val_loss: 926.4845 - val_mean_absolute_error: 21.9231 - val_root_mean_squared_error: 30.4382 - val_mean_absolute_percentage_error: 3560349.7500\n",
      "Epoch 23/100\n",
      "778/778 [==============================] - 66s 85ms/step - loss: 344.9171 - mean_absolute_error: 13.5952 - root_mean_squared_error: 18.5719 - mean_absolute_percentage_error: 44618424.0000 - val_loss: 940.1907 - val_mean_absolute_error: 22.2152 - val_root_mean_squared_error: 30.6625 - val_mean_absolute_percentage_error: 3170849.7500 root_mean_squared_error: 18.4156 - mean_absolute_percent - ETA: 17s - loss: 339.5241 - mean_absolute_error: 13.5161 - root_mea - ETA: 14s - loss: 340.3281 - - ETA: 10s - loss: 342.5724 - mean_absolute_error: 13.5677 - root - ETA: 4s - loss: 343.5888 - mean_absolute_error: 13.5758 - root_mean_squared_error: 18.5361 - mean_absolute_percentage_error - ETA: 3s - loss: 343.8593 - mean_absolute_error: 13.5872 - root_mean_squared_error: 18.5434 - mean_absolute_per - ETA: 1s - loss: 344.8703 - mean_absolute_error: 13.5889 - root_mean_squared_error: 18.5707 - mean_absolute_percentage_error:\n",
      "Epoch 24/100\n",
      "778/778 [==============================] - 66s 85ms/step - loss: 330.7466 - mean_absolute_error: 13.2944 - root_mean_squared_error: 18.1864 - mean_absolute_percentage_error: 43092616.0000 - val_loss: 929.8439 - val_mean_absolute_error: 21.9880 - val_root_mean_squared_error: 30.4933 - val_mean_absolute_percentage_error: 3478211.7500\n",
      "Epoch 25/100\n",
      "778/778 [==============================] - 65s 84ms/step - loss: 319.7347 - mean_absolute_error: 13.0679 - root_mean_squared_error: 17.8811 - mean_absolute_percentage_error: 42387504.0000 - val_loss: 935.7221 - val_mean_absolute_error: 22.0980 - val_root_mean_squared_error: 30.5896 - val_mean_absolute_percentage_error: 3189334.7500an_absolute_error: 13.0488 - root_mean_squar - ETA: 2s - loss: 319.0495 - mean_absolute_error: 13.0576 - root_mean_squared_error: 17.8620 - mean_absol\n",
      "Epoch 26/100\n",
      "778/778 [==============================] - 66s 85ms/step - loss: 308.4480 - mean_absolute_error: 12.8246 - root_mean_squared_error: 17.5627 - mean_absolute_percentage_error: 40764768.0000 - val_loss: 940.2756 - val_mean_absolute_error: 22.2813 - val_root_mean_squared_error: 30.6639 - val_mean_absolute_percentage_error: 3061174.5000\n",
      "Epoch 27/100\n",
      "778/778 [==============================] - 67s 86ms/step - loss: 297.6041 - mean_absolute_error: 12.5803 - root_mean_squared_error: 17.2512 - mean_absolute_percentage_error: 39725800.0000 - val_loss: 931.9621 - val_mean_absolute_error: 22.1063 - val_root_mean_squared_error: 30.5281 - val_mean_absolute_percentage_error: 3183262.2500\n",
      "Epoch 28/100\n",
      "778/778 [==============================] - 66s 85ms/step - loss: 288.4015 - mean_absolute_error: 12.3916 - root_mean_squared_error: 16.9824 - mean_absolute_percentage_error: 37887896.0000 - val_loss: 938.5066 - val_mean_absolute_error: 22.2350 - val_root_mean_squared_error: 30.6350 - val_mean_absolute_percentage_error: 3125515.0000\n",
      "Epoch 29/100\n",
      "778/778 [==============================] - 66s 85ms/step - loss: 276.0003 - mean_absolute_error: 12.1119 - root_mean_squared_error: 16.6133 - mean_absolute_percentage_error: 35508760.0000 - val_loss: 934.0833 - val_mean_absolute_error: 22.1408 - val_root_mean_squared_error: 30.5628 - val_mean_absolute_percentage_error: 2854048.0000\n",
      "Epoch 30/100\n",
      "778/778 [==============================] - 67s 86ms/step - loss: 265.0105 - mean_absolute_error: 11.8575 - root_mean_squared_error: 16.2791 - mean_absolute_percentage_error: 33780028.0000 - val_loss: 939.5709 - val_mean_absolute_error: 22.3382 - val_root_mean_squared_error: 30.6524 - val_mean_absolute_percentage_error: 2871375.5000\n",
      "Epoch 31/100\n",
      "778/778 [==============================] - 65s 84ms/step - loss: 255.2899 - mean_absolute_error: 11.6460 - root_mean_squared_error: 15.9778 - mean_absolute_percentage_error: 31220282.0000 - val_loss: 946.4171 - val_mean_absolute_error: 22.3528 - val_root_mean_squared_error: 30.7639 - val_mean_absolute_percentage_error: 3015120.0000\n",
      "Epoch 32/100\n",
      "778/778 [==============================] - 66s 85ms/step - loss: 243.1782 - mean_absolute_error: 11.3512 - root_mean_squared_error: 15.5942 - mean_absolute_percentage_error: 29508214.0000 - val_loss: 939.3295 - val_mean_absolute_error: 22.3404 - val_root_mean_squared_error: 30.6485 - val_mean_absolute_percentage_error: 2682143.7500\n",
      "Epoch 33/100\n",
      "778/778 [==============================] - 66s 84ms/step - loss: 231.1963 - mean_absolute_error: 11.0525 - root_mean_squared_error: 15.2051 - mean_absolute_percentage_error: 27497708.0000 - val_loss: 954.1725 - val_mean_absolute_error: 22.4510 - val_root_mean_squared_error: 30.8897 - val_mean_absolute_percentage_error: 2591106.5000\n",
      "Epoch 34/100\n",
      "778/778 [==============================] - 66s 85ms/step - loss: 220.6909 - mean_absolute_error: 10.8074 - root_mean_squared_error: 14.8557 - mean_absolute_percentage_error: 25800970.0000 - val_loss: 950.8931 - val_mean_absolute_error: 22.4007 - val_root_mean_squared_error: 30.8366 - val_mean_absolute_percentage_error: 2620920.5000ss: 220.4431 - mean_absolute_error: 10.7994 - root_mean_squared_error: 14.8473 - mean_absolute_percentage_error:\n",
      "Epoch 35/100\n",
      "778/778 [==============================] - 65s 84ms/step - loss: 209.2484 - mean_absolute_error: 10.5020 - root_mean_squared_error: 14.4654 - mean_absolute_percentage_error: 23690184.0000 - val_loss: 951.8395 - val_mean_absolute_error: 22.4878 - val_root_mean_squared_error: 30.8519 - val_mean_absolute_percentage_error: 2321968.0000- ETA: 6s - loss: 208.8893 - mean_absolute_error: 1\n",
      "Epoch 36/100\n",
      "778/778 [==============================] - 66s 85ms/step - loss: 197.4535 - mean_absolute_error: 10.1887 - root_mean_squared_error: 14.0518 - mean_absolute_percentage_error: 21541998.0000 - val_loss: 951.1039 - val_mean_absolute_error: 22.4380 - val_root_mean_squared_error: 30.8400 - val_mean_absolute_percentage_error: 2255014.7500\n",
      "Epoch 37/100\n",
      "778/778 [==============================] - 66s 85ms/step - loss: 187.8027 - mean_absolute_error: 9.9339 - root_mean_squared_error: 13.7041 - mean_absolute_percentage_error: 19481704.0000 - val_loss: 962.3622 - val_mean_absolute_error: 22.6180 - val_root_mean_squared_error: 31.0220 - val_mean_absolute_percentage_error: 2293552.5000 loss: 187.4541 - mean_absolute_error: 9.927\n",
      "Epoch 38/100\n",
      "778/778 [==============================] - 66s 84ms/step - loss: 178.0666 - mean_absolute_error: 9.6398 - root_mean_squared_error: 13.3442 - mean_absolute_percentage_error: 18473864.0000 - val_loss: 965.2127 - val_mean_absolute_error: 22.6579 - val_root_mean_squared_error: 31.0679 - val_mean_absolute_percentage_error: 2282989.5000\n",
      "Epoch 39/100\n",
      "778/778 [==============================] - 66s 84ms/step - loss: 169.5950 - mean_absolute_error: 9.4033 - root_mean_squared_error: 13.0229 - mean_absolute_percentage_error: 16989358.0000 - val_loss: 970.0813 - val_mean_absolute_error: 22.7037 - val_root_mean_squared_error: 31.1461 - val_mean_absolute_percentage_error: 2385751.7500\n",
      "Epoch 40/100\n",
      "778/778 [==============================] - 66s 85ms/step - loss: 160.8848 - mean_absolute_error: 9.1419 - root_mean_squared_error: 12.6840 - mean_absolute_percentage_error: 15481391.0000 - val_loss: 965.5302 - val_mean_absolute_error: 22.6186 - val_root_mean_squared_error: 31.0730 - val_mean_absolute_percentage_error: 2480942.0000\n",
      "Epoch 41/100\n",
      "778/778 [==============================] - 66s 85ms/step - loss: 152.8743 - mean_absolute_error: 8.8942 - root_mean_squared_error: 12.3642 - mean_absolute_percentage_error: 14845949.0000 - val_loss: 983.9286 - val_mean_absolute_error: 22.9059 - val_root_mean_squared_error: 31.3676 - val_mean_absolute_percentage_error: 2431518.2500 - ETA: 34s - l - ETA: 24s - loss: 150.6538 - mean_absolute_error: 8.8508 - root_mean_squared_error: 12.2741 - mean_absolute_percentage_error: 16401044 - ETA: 23s - loss: 150.6625 - mean_absolut - ETA: 16s - loss: 150.1999 - mean_absolute_error: 8.8512  - ETA:  - ETA: 4s - loss: 152.2427 -  - ETA: 0s - loss: 152.8737 - mean_absolute_error: 8.8933 - root_mean_squared_error: 12.3642 - mean_absolute_percentage_error: 14693\n",
      "Epoch 42/100\n"
     ]
    },
    {
     "name": "stdout",
     "output_type": "stream",
     "text": [
      "778/778 [==============================] - 68s 88ms/step - loss: 145.9721 - mean_absolute_error: 8.6876 - root_mean_squared_error: 12.0819 - mean_absolute_percentage_error: 13720936.0000 - val_loss: 978.2320 - val_mean_absolute_error: 22.8488 - val_root_mean_squared_error: 31.2767 - val_mean_absolute_percentage_error: 2455456.7500\n",
      "Epoch 43/100\n",
      "778/778 [==============================] - 65s 83ms/step - loss: 139.2252 - mean_absolute_error: 8.4643 - root_mean_squared_error: 11.7994 - mean_absolute_percentage_error: 13195538.0000 - val_loss: 977.5651 - val_mean_absolute_error: 22.9088 - val_root_mean_squared_error: 31.2660 - val_mean_absolute_percentage_error: 2403331.7500mean_squared_err - ETA: 30s - loss: 139.1668 - mean_ab\n",
      "Epoch 44/100\n",
      "778/778 [==============================] - 65s 84ms/step - loss: 133.3349 - mean_absolute_error: 8.2682 - root_mean_squared_error: 11.5471 - mean_absolute_percentage_error: 12480682.0000 - val_loss: 973.0284 - val_mean_absolute_error: 22.8111 - val_root_mean_squared_error: 31.1934 - val_mean_absolute_percentage_error: 2348979.2500\n",
      "Epoch 45/100\n",
      "778/778 [==============================] - 66s 84ms/step - loss: 128.0842 - mean_absolute_error: 8.0945 - root_mean_squared_error: 11.3174 - mean_absolute_percentage_error: 11588022.0000 - val_loss: 984.7421 - val_mean_absolute_error: 22.9425 - val_root_mean_squared_error: 31.3806 - val_mean_absolute_percentage_error: 2327430.2500\n",
      "Epoch 46/100\n",
      "778/778 [==============================] - 66s 85ms/step - loss: 123.4107 - mean_absolute_error: 7.9501 - root_mean_squared_error: 11.1090 - mean_absolute_percentage_error: 11284019.0000 - val_loss: 991.9979 - val_mean_absolute_error: 23.0406 - val_root_mean_squared_error: 31.4960 - val_mean_absolute_percentage_error: 2361700.2500\n",
      "Epoch 47/100\n",
      "778/778 [==============================] - 67s 86ms/step - loss: 118.5724 - mean_absolute_error: 7.7814 - root_mean_squared_error: 10.8891 - mean_absolute_percentage_error: 10748596.0000 - val_loss: 991.3630 - val_mean_absolute_error: 23.0242 - val_root_mean_squared_error: 31.4859 - val_mean_absolute_percentage_error: 2304766.7500\n",
      "Epoch 48/100\n",
      "778/778 [==============================] - 65s 84ms/step - loss: 114.3383 - mean_absolute_error: 7.6378 - root_mean_squared_error: 10.6929 - mean_absolute_percentage_error: 10277779.0000 - val_loss: 998.0291 - val_mean_absolute_error: 23.0637 - val_root_mean_squared_error: 31.5916 - val_mean_absolute_percentage_error: 2354646.2500\n",
      "Epoch 49/100\n",
      "778/778 [==============================] - 67s 86ms/step - loss: 110.3719 - mean_absolute_error: 7.5032 - root_mean_squared_error: 10.5058 - mean_absolute_percentage_error: 9517170.0000 - val_loss: 992.1135 - val_mean_absolute_error: 23.0205 - val_root_mean_squared_error: 31.4978 - val_mean_absolute_percentage_error: 2509963.2500\n",
      "Epoch 50/100\n",
      "778/778 [==============================] - 66s 85ms/step - loss: 106.3529 - mean_absolute_error: 7.3674 - root_mean_squared_error: 10.3128 - mean_absolute_percentage_error: 9748706.0000 - val_loss: 985.5975 - val_mean_absolute_error: 22.9951 - val_root_mean_squared_error: 31.3942 - val_mean_absolute_percentage_error: 2692888.0000\n",
      "Epoch 51/100\n",
      "778/778 [==============================] - 65s 83ms/step - loss: 102.2912 - mean_absolute_error: 7.2250 - root_mean_squared_error: 10.1139 - mean_absolute_percentage_error: 8703849.0000 - val_loss: 991.7176 - val_mean_absolute_error: 23.0729 - val_root_mean_squared_error: 31.4915 - val_mean_absolute_percentage_error: 2409962.2500mean_squared_error: 10.0902 - mean_absolute_percentage_error: 90 - ETA: 3s - loss: 101.8172 - mean_absolute_error: 7.2148 - root_mean_squared_error: 10.0905\n",
      "Epoch 52/100\n",
      "778/778 [==============================] - 66s 85ms/step - loss: 99.1205 - mean_absolute_error: 7.1085 - root_mean_squared_error: 9.9559 - mean_absolute_percentage_error: 8482479.0000 - val_loss: 993.7647 - val_mean_absolute_error: 23.0947 - val_root_mean_squared_error: 31.5240 - val_mean_absolute_percentage_error: 2365825.7500\n",
      "Epoch 53/100\n",
      "778/778 [==============================] - 67s 87ms/step - loss: 95.7289 - mean_absolute_error: 6.9985 - root_mean_squared_error: 9.7841 - mean_absolute_percentage_error: 7845324.5000 - val_loss: 998.2253 - val_mean_absolute_error: 23.1429 - val_root_mean_squared_error: 31.5947 - val_mean_absolute_percentage_error: 2566208.5000\n",
      "Epoch 54/100\n",
      "778/778 [==============================] - 66s 85ms/step - loss: 93.3550 - mean_absolute_error: 6.9112 - root_mean_squared_error: 9.6620 - mean_absolute_percentage_error: 7492116.0000 - val_loss: 998.7184 - val_mean_absolute_error: 23.1381 - val_root_mean_squared_error: 31.6025 - val_mean_absolute_percentage_error: 2442594.7500\n",
      "Epoch 55/100\n",
      "778/778 [==============================] - 65s 83ms/step - loss: 89.2500 - mean_absolute_error: 6.7560 - root_mean_squared_error: 9.4472 - mean_absolute_percentage_error: 7729463.0000 - val_loss: 1003.1431 - val_mean_absolute_error: 23.2366 - val_root_mean_squared_error: 31.6724 - val_mean_absolute_percentage_error: 2472978.5000e_percentage_error: 74520 - ETA: 6s - loss: 89.3768 - mean_absolute_error: 6.7560 - r\n",
      "Epoch 56/100\n",
      "778/778 [==============================] - 59s 76ms/step - loss: 85.6909 - mean_absolute_error: 6.6235 - root_mean_squared_error: 9.2569 - mean_absolute_percentage_error: 7235758.5000 - val_loss: 998.6793 - val_mean_absolute_error: 23.1990 - val_root_mean_squared_error: 31.6019 - val_mean_absolute_percentage_error: 2604672.5000\n",
      "Epoch 57/100\n",
      "778/778 [==============================] - 59s 75ms/step - loss: 83.2474 - mean_absolute_error: 6.5406 - root_mean_squared_error: 9.1240 - mean_absolute_percentage_error: 6938095.5000 - val_loss: 997.4707 - val_mean_absolute_error: 23.1409 - val_root_mean_squared_error: 31.5828 - val_mean_absolute_percentage_error: 2441481.0000\n",
      "Epoch 58/100\n",
      "778/778 [==============================] - 67s 86ms/step - loss: 79.4486 - mean_absolute_error: 6.3854 - root_mean_squared_error: 8.9134 - mean_absolute_percentage_error: 6451707.0000 - val_loss: 995.5295 - val_mean_absolute_error: 23.1239 - val_root_mean_squared_error: 31.5520 - val_mean_absolute_percentage_error: 2407535.7500\n",
      "Epoch 59/100\n",
      "778/778 [==============================] - 67s 86ms/step - loss: 76.6894 - mean_absolute_error: 6.2903 - root_mean_squared_error: 8.7572 - mean_absolute_percentage_error: 6123185.0000 - val_loss: 1000.0139 - val_mean_absolute_error: 23.1896 - val_root_mean_squared_error: 31.6230 - val_mean_absolute_percentage_error: 2422676.2500\n",
      "Epoch 60/100\n",
      "778/778 [==============================] - 65s 84ms/step - loss: 73.3183 - mean_absolute_error: 6.1428 - root_mean_squared_error: 8.5626 - mean_absolute_percentage_error: 5971482.0000 - val_loss: 1001.4932 - val_mean_absolute_error: 23.1985 - val_root_mean_squared_error: 31.6464 - val_mean_absolute_percentage_error: 2652778.5000\n",
      "Epoch 61/100\n",
      "778/778 [==============================] - 66s 85ms/step - loss: 69.8494 - mean_absolute_error: 5.9978 - root_mean_squared_error: 8.3576 - mean_absolute_percentage_error: 5729019.5000 - val_loss: 1005.8138 - val_mean_absolute_error: 23.2457 - val_root_mean_squared_error: 31.7146 - val_mean_absolute_percentage_error: 2583008.0000\n",
      "Epoch 62/100\n",
      "778/778 [==============================] - 67s 86ms/step - loss: 67.8439 - mean_absolute_error: 5.9211 - root_mean_squared_error: 8.2367 - mean_absolute_percentage_error: 5501515.0000 - val_loss: 1014.2961 - val_mean_absolute_error: 23.3444 - val_root_mean_squared_error: 31.8480 - val_mean_absolute_percentage_error: 2544536.0000\n",
      "Epoch 63/100\n",
      "778/778 [==============================] - 68s 87ms/step - loss: 65.7223 - mean_absolute_error: 5.8443 - root_mean_squared_error: 8.1069 - mean_absolute_percentage_error: 5276167.0000 - val_loss: 1009.1749 - val_mean_absolute_error: 23.3159 - val_root_mean_squared_error: 31.7675 - val_mean_absolute_percentage_error: 2478323.7500\n",
      "Epoch 64/100\n",
      "778/778 [==============================] - 66s 85ms/step - loss: 63.0298 - mean_absolute_error: 5.7212 - root_mean_squared_error: 7.9391 - mean_absolute_percentage_error: 5119939.5000 - val_loss: 1008.6048 - val_mean_absolute_error: 23.2996 - val_root_mean_squared_error: 31.7585 - val_mean_absolute_percentage_error: 2567166.7500\n"
     ]
    },
    {
     "name": "stdout",
     "output_type": "stream",
     "text": [
      "Epoch 65/100\n",
      "778/778 [==============================] - 67s 86ms/step - loss: 60.0754 - mean_absolute_error: 5.5770 - root_mean_squared_error: 7.7508 - mean_absolute_percentage_error: 4886740.5000 - val_loss: 1002.3110 - val_mean_absolute_error: 23.2158 - val_root_mean_squared_error: 31.6593 - val_mean_absolute_percentage_error: 2608053.0000\n",
      "Epoch 66/100\n",
      "778/778 [==============================] - 66s 85ms/step - loss: 56.7701 - mean_absolute_error: 5.4251 - root_mean_squared_error: 7.5346 - mean_absolute_percentage_error: 5241242.5000 - val_loss: 1007.1962 - val_mean_absolute_error: 23.2555 - val_root_mean_squared_error: 31.7364 - val_mean_absolute_percentage_error: 2746616.2500\n",
      "Epoch 67/100\n",
      "778/778 [==============================] - 68s 87ms/step - loss: 54.9050 - mean_absolute_error: 5.3367 - root_mean_squared_error: 7.4098 - mean_absolute_percentage_error: 4984793.5000 - val_loss: 1004.6406 - val_mean_absolute_error: 23.2322 - val_root_mean_squared_error: 31.6961 - val_mean_absolute_percentage_error: 2616466.7500\n",
      "Epoch 68/100\n",
      "778/778 [==============================] - 67s 87ms/step - loss: 52.8198 - mean_absolute_error: 5.2397 - root_mean_squared_error: 7.2677 - mean_absolute_percentage_error: 4686572.5000 - val_loss: 1015.4167 - val_mean_absolute_error: 23.3679 - val_root_mean_squared_error: 31.8656 - val_mean_absolute_percentage_error: 2526507.7500\n",
      "Epoch 69/100\n",
      "778/778 [==============================] - 68s 87ms/step - loss: 49.9257 - mean_absolute_error: 5.1017 - root_mean_squared_error: 7.0658 - mean_absolute_percentage_error: 4324886.0000 - val_loss: 1005.6904 - val_mean_absolute_error: 23.2911 - val_root_mean_squared_error: 31.7126 - val_mean_absolute_percentage_error: 2562064.0000d_error: 7.0658 - mean_absolute_percentage_error: 4324886.000\n",
      "Epoch 70/100\n",
      "778/778 [==============================] - 66s 85ms/step - loss: 47.8849 - mean_absolute_error: 4.9924 - root_mean_squared_error: 6.9199 - mean_absolute_percentage_error: 4595228.0000 - val_loss: 1013.8812 - val_mean_absolute_error: 23.3737 - val_root_mean_squared_error: 31.8415 - val_mean_absolute_percentage_error: 2573001.0000\n",
      "Epoch 71/100\n",
      "778/778 [==============================] - 68s 87ms/step - loss: 45.7054 - mean_absolute_error: 4.8747 - root_mean_squared_error: 6.7606 - mean_absolute_percentage_error: 4586970.0000 - val_loss: 1008.7639 - val_mean_absolute_error: 23.3295 - val_root_mean_squared_error: 31.7611 - val_mean_absolute_percentage_error: 2741187.7500\n",
      "Epoch 72/100\n",
      "778/778 [==============================] - 66s 84ms/step - loss: 44.4255 - mean_absolute_error: 4.8078 - root_mean_squared_error: 6.6652 - mean_absolute_percentage_error: 4199876.0000 - val_loss: 1009.4146 - val_mean_absolute_error: 23.3382 - val_root_mean_squared_error: 31.7713 - val_mean_absolute_percentage_error: 2756234.5000\n",
      "Epoch 73/100\n",
      "778/778 [==============================] - 67s 87ms/step - loss: 42.3589 - mean_absolute_error: 4.7009 - root_mean_squared_error: 6.5084 - mean_absolute_percentage_error: 4642616.5000 - val_loss: 1008.9628 - val_mean_absolute_error: 23.3049 - val_root_mean_squared_error: 31.7642 - val_mean_absolute_percentage_error: 2674137.7500\n",
      "Epoch 74/100\n",
      "778/778 [==============================] - 67s 86ms/step - loss: 40.4008 - mean_absolute_error: 4.5849 - root_mean_squared_error: 6.3562 - mean_absolute_percentage_error: 4072069.2500 - val_loss: 1018.7075 - val_mean_absolute_error: 23.4205 - val_root_mean_squared_error: 31.9172 - val_mean_absolute_percentage_error: 2725465.7500\n",
      "Epoch 75/100\n",
      "778/778 [==============================] - 68s 87ms/step - loss: 38.7638 - mean_absolute_error: 4.4844 - root_mean_squared_error: 6.2261 - mean_absolute_percentage_error: 4251952.5000 - val_loss: 1008.9857 - val_mean_absolute_error: 23.2846 - val_root_mean_squared_error: 31.7645 - val_mean_absolute_percentage_error: 2754666.0000\n",
      "Epoch 76/100\n",
      "778/778 [==============================] - 66s 85ms/step - loss: 36.7909 - mean_absolute_error: 4.3604 - root_mean_squared_error: 6.0655 - mean_absolute_percentage_error: 4160584.5000 - val_loss: 1015.1246 - val_mean_absolute_error: 23.4142 - val_root_mean_squared_error: 31.8610 - val_mean_absolute_percentage_error: 2633641.5000\n",
      "Epoch 77/100\n",
      "778/778 [==============================] - 66s 85ms/step - loss: 36.2137 - mean_absolute_error: 4.3301 - root_mean_squared_error: 6.0178 - mean_absolute_percentage_error: 4333825.0000 - val_loss: 1021.2779 - val_mean_absolute_error: 23.4252 - val_root_mean_squared_error: 31.9574 - val_mean_absolute_percentage_error: 2709823.2500\n",
      "Epoch 78/100\n",
      "778/778 [==============================] - 67s 86ms/step - loss: 34.0843 - mean_absolute_error: 4.1935 - root_mean_squared_error: 5.8382 - mean_absolute_percentage_error: 3910630.0000 - val_loss: 1019.8139 - val_mean_absolute_error: 23.4400 - val_root_mean_squared_error: 31.9345 - val_mean_absolute_percentage_error: 2598585.7500\n",
      "Epoch 79/100\n",
      "778/778 [==============================] - 67s 86ms/step - loss: 32.2057 - mean_absolute_error: 4.0733 - root_mean_squared_error: 5.6750 - mean_absolute_percentage_error: 4068978.2500 - val_loss: 1012.1149 - val_mean_absolute_error: 23.3809 - val_root_mean_squared_error: 31.8138 - val_mean_absolute_percentage_error: 2734682.2500\n",
      "Epoch 80/100\n",
      "778/778 [==============================] - 66s 85ms/step - loss: 30.6321 - mean_absolute_error: 3.9682 - root_mean_squared_error: 5.5346 - mean_absolute_percentage_error: 3883707.0000 - val_loss: 1022.8249 - val_mean_absolute_error: 23.4259 - val_root_mean_squared_error: 31.9816 - val_mean_absolute_percentage_error: 2773327.0000\n",
      "Epoch 81/100\n",
      "778/778 [==============================] - 66s 85ms/step - loss: 29.8264 - mean_absolute_error: 3.9160 - root_mean_squared_error: 5.4614 - mean_absolute_percentage_error: 3929336.0000 - val_loss: 1019.8939 - val_mean_absolute_error: 23.4512 - val_root_mean_squared_error: 31.9358 - val_mean_absolute_percentage_error: 2783548.5000\n",
      "Epoch 82/100\n",
      "778/778 [==============================] - 68s 87ms/step - loss: 29.4991 - mean_absolute_error: 3.9013 - root_mean_squared_error: 5.4313 - mean_absolute_percentage_error: 3851583.5000 - val_loss: 1022.0007 - val_mean_absolute_error: 23.4650 - val_root_mean_squared_error: 31.9687 - val_mean_absolute_percentage_error: 2485083.0000: 8s - loss: 29.2425 - mean_absolu - ETA: 0s - loss: 29.4739 - mean_absolute_error: 3.9005 - root_mean_squared_error: 5.4290 - mean_absolute_percentage_error: 381093\n",
      "Epoch 83/100\n",
      "778/778 [==============================] - 65s 83ms/step - loss: 28.1993 - mean_absolute_error: 3.8015 - root_mean_squared_error: 5.3103 - mean_absolute_percentage_error: 3955305.7500 - val_loss: 1022.8828 - val_mean_absolute_error: 23.5124 - val_root_mean_squared_error: 31.9825 - val_mean_absolute_percentage_error: 2658027.2500\n",
      "Epoch 84/100\n",
      "778/778 [==============================] - 67s 86ms/step - loss: 26.5724 - mean_absolute_error: 3.6909 - root_mean_squared_error: 5.1548 - mean_absolute_percentage_error: 3884261.2500 - val_loss: 1019.3232 - val_mean_absolute_error: 23.4617 - val_root_mean_squared_error: 31.9268 - val_mean_absolute_percentage_error: 2551554.7500\n",
      "Epoch 85/100\n",
      "778/778 [==============================] - 66s 85ms/step - loss: 25.4816 - mean_absolute_error: 3.5963 - root_mean_squared_error: 5.0479 - mean_absolute_percentage_error: 3482113.5000 - val_loss: 1024.7341 - val_mean_absolute_error: 23.5124 - val_root_mean_squared_error: 32.0115 - val_mean_absolute_percentage_error: 2761990.5000\n",
      "Epoch 86/100\n",
      "778/778 [==============================] - 67s 86ms/step - loss: 24.8226 - mean_absolute_error: 3.5536 - root_mean_squared_error: 4.9822 - mean_absolute_percentage_error: 3664524.0000 - val_loss: 1022.3006 - val_mean_absolute_error: 23.4963 - val_root_mean_squared_error: 31.9734 - val_mean_absolute_percentage_error: 2783159.0000\n",
      "Epoch 87/100\n",
      "778/778 [==============================] - 67s 86ms/step - loss: 24.2953 - mean_absolute_error: 3.5107 - root_mean_squared_error: 4.9290 - mean_absolute_percentage_error: 3464563.7500 - val_loss: 1023.3115 - val_mean_absolute_error: 23.5049 - val_root_mean_squared_error: 31.9892 - val_mean_absolute_percentage_error: 2689126.5000\n",
      "Epoch 88/100\n",
      "778/778 [==============================] - 66s 85ms/step - loss: 23.1832 - mean_absolute_error: 3.4282 - root_mean_squared_error: 4.8149 - mean_absolute_percentage_error: 3633967.5000 - val_loss: 1022.3777 - val_mean_absolute_error: 23.4714 - val_root_mean_squared_error: 31.9746 - val_mean_absolute_percentage_error: 2844251.7500\n",
      "Epoch 89/100\n",
      "778/778 [==============================] - 68s 88ms/step - loss: 22.1731 - mean_absolute_error: 3.3519 - root_mean_squared_error: 4.7088 - mean_absolute_percentage_error: 3823158.5000 - val_loss: 1023.6241 - val_mean_absolute_error: 23.4993 - val_root_mean_squared_error: 31.9941 - val_mean_absolute_percentage_error: 2932780.7500\n",
      "Epoch 90/100\n",
      "778/778 [==============================] - 66s 85ms/step - loss: 21.7360 - mean_absolute_error: 3.3119 - root_mean_squared_error: 4.6622 - mean_absolute_percentage_error: 3712217.7500 - val_loss: 1025.4033 - val_mean_absolute_error: 23.5264 - val_root_mean_squared_error: 32.0219 - val_mean_absolute_percentage_error: 2761966.0000\n",
      "Epoch 91/100\n",
      "778/778 [==============================] - 66s 85ms/step - loss: 21.2663 - mean_absolute_error: 3.2702 - root_mean_squared_error: 4.6115 - mean_absolute_percentage_error: 3283704.2500 - val_loss: 1024.7621 - val_mean_absolute_error: 23.4885 - val_root_mean_squared_error: 32.0119 - val_mean_absolute_percentage_error: 2921895.0000\n",
      "Epoch 92/100\n",
      "778/778 [==============================] - 66s 85ms/step - loss: 20.6055 - mean_absolute_error: 3.2230 - root_mean_squared_error: 4.5393 - mean_absolute_percentage_error: 3428995.5000 - val_loss: 1027.3695 - val_mean_absolute_error: 23.5797 - val_root_mean_squared_error: 32.0526 - val_mean_absolute_percentage_error: 2705278.0000\n",
      "Epoch 93/100\n",
      "778/778 [==============================] - 67s 86ms/step - loss: 20.0315 - mean_absolute_error: 3.1673 - root_mean_squared_error: 4.4757 - mean_absolute_percentage_error: 3421510.2500 - val_loss: 1026.0845 - val_mean_absolute_error: 23.5229 - val_root_mean_squared_error: 32.0326 - val_mean_absolute_percentage_error: 3023881.0000\n",
      "Epoch 94/100\n",
      "778/778 [==============================] - 68s 88ms/step - loss: 19.4547 - mean_absolute_error: 3.1147 - root_mean_squared_error: 4.4107 - mean_absolute_percentage_error: 3348670.2500 - val_loss: 1021.2130 - val_mean_absolute_error: 23.4598 - val_root_mean_squared_error: 31.9564 - val_mean_absolute_percentage_error: 2838189.0000\n",
      "Epoch 95/100\n",
      "778/778 [==============================] - 64s 82ms/step - loss: 18.1681 - mean_absolute_error: 2.9972 - root_mean_squared_error: 4.2624 - mean_absolute_percentage_error: 3451661.0000 - val_loss: 1025.8599 - val_mean_absolute_error: 23.4983 - val_root_mean_squared_error: 32.0291 - val_mean_absolute_percentage_error: 2874420.0000\n",
      "Epoch 96/100\n",
      "778/778 [==============================] - 64s 82ms/step - loss: 18.5094 - mean_absolute_error: 3.0401 - root_mean_squared_error: 4.3023 - mean_absolute_percentage_error: 3327914.7500 - val_loss: 1027.6073 - val_mean_absolute_error: 23.5463 - val_root_mean_squared_error: 32.0563 - val_mean_absolute_percentage_error: 2734011.0000\n",
      "Epoch 97/100\n",
      "778/778 [==============================] - 62s 79ms/step - loss: 17.9601 - mean_absolute_error: 2.9940 - root_mean_squared_error: 4.2379 - mean_absolute_percentage_error: 3111355.2500 - val_loss: 1028.1555 - val_mean_absolute_error: 23.5332 - val_root_mean_squared_error: 32.0649 - val_mean_absolute_percentage_error: 2642268.5000\n",
      "Epoch 98/100\n",
      "778/778 [==============================] - 62s 80ms/step - loss: 17.1987 - mean_absolute_error: 2.9144 - root_mean_squared_error: 4.1471 - mean_absolute_percentage_error: 2942452.0000 - val_loss: 1039.1298 - val_mean_absolute_error: 23.7098 - val_root_mean_squared_error: 32.2355 - val_mean_absolute_percentage_error: 2893805.2500\n",
      "Epoch 99/100\n",
      "778/778 [==============================] - 61s 79ms/step - loss: 16.8384 - mean_absolute_error: 2.8797 - root_mean_squared_error: 4.1035 - mean_absolute_percentage_error: 3003618.2500 - val_loss: 1025.4320 - val_mean_absolute_error: 23.5086 - val_root_mean_squared_error: 32.0224 - val_mean_absolute_percentage_error: 2860876.7500root_mean_ - ETA: 1s - loss: 16.7146 - mean_absolute_error: 2.8795 - root_mean_squared_error: 4.0884 - mean_absolute_percentage_\n",
      "Epoch 100/100\n",
      "778/778 [==============================] - 63s 81ms/step - loss: 16.2502 - mean_absolute_error: 2.8297 - root_mean_squared_error: 4.0312 - mean_absolute_percentage_error: 3114492.0000 - val_loss: 1026.3141 - val_mean_absolute_error: 23.5211 - val_root_mean_squared_error: 32.0361 - val_mean_absolute_percentage_error: 2739776.5000\n"
     ]
    },
    {
     "data": {
      "text/plain": [
       "<keras.callbacks.History at 0x2952cdf3520>"
      ]
     },
     "execution_count": 62,
     "metadata": {},
     "output_type": "execute_result"
    }
   ],
   "source": [
    "model5.fit((Wt5,Xt5), yt5, validation_split = val_percent,\n",
    "           epochs = 100, \n",
    "           verbose = 1)"
   ]
  },
  {
   "cell_type": "code",
   "execution_count": 63,
   "metadata": {},
   "outputs": [],
   "source": [
    "metrics5 = pd.DataFrame(model5.history.history)"
   ]
  },
  {
   "cell_type": "code",
   "execution_count": 64,
   "metadata": {},
   "outputs": [],
   "source": [
    "# fig = plt.figure(figsize=(6,4))\n",
    "\n",
    "# # Add set of axes to figure\n",
    "# axes = fig.add_axes([0, 0, 1, 1]) \n",
    "# axes2 = fig.add_axes([0.3, 0.35, 0.5, 0.5]) # Smaller figure\n",
    "# axes.plot(metrics5[['loss','val_loss']], label=['train_loss','val_loss'], lw=4)\n",
    "# axes.set_ylim(0,4000)\n",
    "\n",
    "# axes2.plot(metrics5[['loss','val_loss']], lw=4)\n",
    "# axes2.set_xlim(0,20)\n",
    "# axes2.set_ylim(400,1500)\n",
    "# #plt.xticks(visible=False)\n",
    "# plt.yticks(visible=False)\n",
    "\n",
    "# axes.set_xlabel('Epoch')\n",
    "# axes.set_ylabel('Loss')\n",
    "# axes.grid()\n",
    "# axes2.grid()\n",
    "\n",
    "# mark_inset(axes, axes2, loc1=2, loc2=4, fc=\"0.9\", ec=\"0.1\", ls='--')\n",
    "# axes.yaxis.set_major_formatter(formatter)"
   ]
  },
  {
   "cell_type": "code",
   "execution_count": 65,
   "metadata": {},
   "outputs": [
    {
     "name": "stderr",
     "output_type": "stream",
     "text": [
      "WARNING:absl:Function `_wrapped_model` contains input name(s) WideInput, DeepInput with unsupported characters which will be renamed to wideinput, deepinput in the SavedModel.\n",
      "WARNING:absl:Found untraced functions such as lstm_cell_11_layer_call_and_return_conditional_losses, lstm_cell_11_layer_call_fn, lstm_cell_9_layer_call_and_return_conditional_losses, lstm_cell_9_layer_call_fn, lstm_cell_10_layer_call_and_return_conditional_losses while saving (showing 5 of 15). These functions will not be directly callable after loading.\n"
     ]
    },
    {
     "name": "stdout",
     "output_type": "stream",
     "text": [
      "INFO:tensorflow:Assets written to: my_dir/10b-5\\assets\n"
     ]
    },
    {
     "name": "stderr",
     "output_type": "stream",
     "text": [
      "INFO:tensorflow:Assets written to: my_dir/10b-5\\assets\n"
     ]
    }
   ],
   "source": [
    "model5.save(\"my_dir/10b-5\")"
   ]
  },
  {
   "cell_type": "code",
   "execution_count": 66,
   "metadata": {},
   "outputs": [],
   "source": [
    "model5 = keras.models.load_model(\"my_dir/10b-5\") "
   ]
  },
  {
   "cell_type": "code",
   "execution_count": 67,
   "metadata": {},
   "outputs": [
    {
     "data": {
      "text/plain": [
       "array([[ 60.910927,  69.84143 ,  65.098206, ...,  63.897644,  30.598059,\n",
       "         31.731276],\n",
       "       [ 58.20304 ,  64.22784 ,  66.98384 , ...,  59.839355,  43.055237,\n",
       "         52.91254 ],\n",
       "       [ 63.51069 ,  70.82185 ,  63.362167, ...,  67.73981 ,  37.974625,\n",
       "         43.659687],\n",
       "       ...,\n",
       "       [153.99297 , 156.36574 , 163.75438 , ..., 159.17992 ,  99.89022 ,\n",
       "         91.90446 ],\n",
       "       [135.96739 , 143.32318 , 133.14159 , ..., 121.71164 ,  81.23408 ,\n",
       "         76.319176],\n",
       "       [133.32362 , 122.78693 , 123.97352 , ..., 126.15914 ,  77.61408 ,\n",
       "         78.52111 ]], dtype=float32)"
      ]
     },
     "execution_count": 67,
     "metadata": {},
     "output_type": "execute_result"
    }
   ],
   "source": [
    "model5.predict((Wv5,Xv5))"
   ]
  },
  {
   "cell_type": "markdown",
   "metadata": {},
   "source": [
    "# 15 mins ahead"
   ]
  },
  {
   "cell_type": "code",
   "execution_count": 70,
   "metadata": {},
   "outputs": [],
   "source": [
    "def build_model_15(hp):\n",
    "    # Inputs\n",
    "    channel_Wide = keras.layers.Input(shape=Wt15.shape[1:], name=\"WideInput\")\n",
    "    channel_Deep = keras.layers.Input(shape=Xt15.shape[1:], name=\"DeepInput\")\n",
    "    units = hp.Int(\"units\", min_value=1, max_value=100, step=1)\n",
    "    \n",
    "    \n",
    "    # Wide Model\n",
    "    flatten_15w = keras.layers.TimeDistributed(keras.layers.Flatten())(channel_Wide)\n",
    "    Bi_15 = keras.layers.Bidirectional(\n",
    "        keras.layers.LSTM(units=units, return_sequences=True),\n",
    "        merge_mode=\"ave\"\n",
    "    )(flatten_15w)\n",
    "    \n",
    "    \n",
    "    \n",
    "    # Deep Model\n",
    "    # CNN \n",
    "    CNN_15 = keras.layers.TimeDistributed(\n",
    "        keras.layers.Conv2D(filters=hp.Int(\"filters\", min_value=32, max_value=512, step=32),\n",
    "                            kernel_size=hp.Choice(\"kernel_size\", [2, 3]), activation='relu'))(channel_Deep)\n",
    "    flatten_15 = keras.layers.TimeDistributed(keras.layers.Flatten())(CNN_15)\n",
    "    # LSTM          \n",
    "    LSTM_15 = keras.layers.LSTM(units=units, return_sequences=True)(flatten_15)\n",
    "\n",
    "    \n",
    "    # Concatenation \n",
    "    concat = keras.layers.concatenate([Bi_15, LSTM_15], axis=1)\n",
    "\n",
    "    # Attention\n",
    "    Att_15 = SeqSelfAttention(attention_activation='sigmoid')(concat)\n",
    "    merge = keras.layers.Flatten()(concat)\n",
    "\n",
    "    \n",
    "    # Output\n",
    "    output = keras.layers.Dense(n_features, name= \"output\")(merge)\n",
    "    \n",
    "    # Model\n",
    "    model_15 = keras.Model(inputs=[channel_Wide,channel_Deep], outputs=[output])\n",
    "\n",
    "    # Compile\n",
    "    model_15.compile(optimizer=keras.optimizers.Adam(hp.Choice(\"learning_rate\", [1e-2, 1e-3, 1e-4])), \n",
    "        loss=\"mse\", metrics=['MeanAbsoluteError','RootMeanSquaredError','MeanAbsolutePercentageError'])\n",
    "                    \n",
    "    return model_15"
   ]
  },
  {
   "cell_type": "code",
   "execution_count": 71,
   "metadata": {},
   "outputs": [],
   "source": [
    "tuner15 = RandomSearch(\n",
    "    build_model_15,\n",
    "    objective=\"val_loss\",\n",
    "    max_trials=10,\n",
    "    executions_per_trial=2,\n",
    "    overwrite=False,\n",
    "    directory=os.path.normpath('C:/Runs'),\n",
    "    project_name=\"10b-15\",\n",
    ")"
   ]
  },
  {
   "cell_type": "code",
   "execution_count": 72,
   "metadata": {},
   "outputs": [
    {
     "name": "stdout",
     "output_type": "stream",
     "text": [
      "Search space summary\n",
      "Default search space size: 4\n",
      "units (Int)\n",
      "{'default': None, 'conditions': [], 'min_value': 1, 'max_value': 100, 'step': 1, 'sampling': 'linear'}\n",
      "filters (Int)\n",
      "{'default': None, 'conditions': [], 'min_value': 32, 'max_value': 512, 'step': 32, 'sampling': 'linear'}\n",
      "kernel_size (Choice)\n",
      "{'default': 2, 'conditions': [], 'values': [2, 3], 'ordered': True}\n",
      "learning_rate (Choice)\n",
      "{'default': 0.01, 'conditions': [], 'values': [0.01, 0.001, 0.0001], 'ordered': True}\n"
     ]
    }
   ],
   "source": [
    "tuner15.search_space_summary()"
   ]
  },
  {
   "cell_type": "code",
   "execution_count": 73,
   "metadata": {},
   "outputs": [
    {
     "name": "stdout",
     "output_type": "stream",
     "text": [
      "Trial 10 Complete [00h 27m 39s]\n",
      "val_loss: 1159.9854736328125\n",
      "\n",
      "Best val_loss So Far: 1134.2809448242188\n",
      "Total elapsed time: 17h 06m 36s\n",
      "INFO:tensorflow:Oracle triggered exit\n"
     ]
    },
    {
     "name": "stderr",
     "output_type": "stream",
     "text": [
      "INFO:tensorflow:Oracle triggered exit\n"
     ]
    }
   ],
   "source": [
    "tuner15.search((Wt15,Xt15), yt15, epochs=200,\n",
    "            validation_split = val_percent,\n",
    "            callbacks=[early_stop], \n",
    "            verbose=2)"
   ]
  },
  {
   "cell_type": "code",
   "execution_count": 74,
   "metadata": {},
   "outputs": [
    {
     "name": "stdout",
     "output_type": "stream",
     "text": [
      "Results summary\n",
      "Results in C:\\Runs\\10b-15\n",
      "Showing 1 best trials\n",
      "Objective(name=\"val_loss\", direction=\"min\")\n",
      "\n",
      "Trial 04 summary\n",
      "Hyperparameters:\n",
      "units: 77\n",
      "filters: 416\n",
      "kernel_size: 2\n",
      "learning_rate: 0.001\n",
      "Score: 1134.2809448242188\n"
     ]
    }
   ],
   "source": [
    "tuner15.results_summary(1)"
   ]
  },
  {
   "cell_type": "markdown",
   "metadata": {},
   "source": [
    "### Best model"
   ]
  },
  {
   "cell_type": "code",
   "execution_count": 75,
   "metadata": {},
   "outputs": [],
   "source": [
    "best_hp15 = tuner15.get_best_hyperparameters()[0]\n",
    "model15 = tuner15.hypermodel.build(best_hp15)"
   ]
  },
  {
   "cell_type": "code",
   "execution_count": 76,
   "metadata": {},
   "outputs": [
    {
     "data": {
      "text/plain": [
       "['Best_HP/10b-15']"
      ]
     },
     "execution_count": 76,
     "metadata": {},
     "output_type": "execute_result"
    }
   ],
   "source": [
    "scaler_filename = \"Best_HP/10b-15\"\n",
    "joblib.dump(best_hp15, scaler_filename) "
   ]
  },
  {
   "cell_type": "code",
   "execution_count": 77,
   "metadata": {},
   "outputs": [],
   "source": [
    "scaler_filename = \"Best_HP/10b-15\"\n",
    "best_hp15 = joblib.load(scaler_filename) \n",
    "\n",
    "model15 = tuner15.hypermodel.build(best_hp15)"
   ]
  },
  {
   "cell_type": "code",
   "execution_count": 78,
   "metadata": {},
   "outputs": [
    {
     "name": "stdout",
     "output_type": "stream",
     "text": [
      "Model: \"model_2\"\n",
      "__________________________________________________________________________________________________\n",
      "Layer (type)                    Output Shape         Param #     Connected to                     \n",
      "==================================================================================================\n",
      "DeepInput (InputLayer)          [(None, 3, 5, 15, 7) 0                                            \n",
      "__________________________________________________________________________________________________\n",
      "WideInput (InputLayer)          [(None, 3, 3, 7)]    0                                            \n",
      "__________________________________________________________________________________________________\n",
      "time_distributed_7 (TimeDistrib (None, 3, 4, 14, 416 12064       DeepInput[0][0]                  \n",
      "__________________________________________________________________________________________________\n",
      "time_distributed_6 (TimeDistrib (None, 3, 21)        0           WideInput[0][0]                  \n",
      "__________________________________________________________________________________________________\n",
      "time_distributed_8 (TimeDistrib (None, 3, 23296)     0           time_distributed_7[0][0]         \n",
      "__________________________________________________________________________________________________\n",
      "bidirectional_2 (Bidirectional) (None, 3, 77)        60984       time_distributed_6[0][0]         \n",
      "__________________________________________________________________________________________________\n",
      "lstm_5 (LSTM)                   (None, 3, 77)        7199192     time_distributed_8[0][0]         \n",
      "__________________________________________________________________________________________________\n",
      "concatenate_2 (Concatenate)     (None, 6, 77)        0           bidirectional_2[0][0]            \n",
      "                                                                 lstm_5[0][0]                     \n",
      "__________________________________________________________________________________________________\n",
      "flatten_8 (Flatten)             (None, 462)          0           concatenate_2[0][0]              \n",
      "__________________________________________________________________________________________________\n",
      "output (Dense)                  (None, 7)            3241        flatten_8[0][0]                  \n",
      "==================================================================================================\n",
      "Total params: 7,275,481\n",
      "Trainable params: 7,275,481\n",
      "Non-trainable params: 0\n",
      "__________________________________________________________________________________________________\n"
     ]
    }
   ],
   "source": [
    "model15.summary()"
   ]
  },
  {
   "cell_type": "code",
   "execution_count": 79,
   "metadata": {},
   "outputs": [
    {
     "name": "stdout",
     "output_type": "stream",
     "text": [
      "Epoch 1/100\n",
      "778/778 [==============================] - 95s 103ms/step - loss: 21945.0703 - mean_absolute_error: 111.1085 - root_mean_squared_error: 148.1388 - mean_absolute_percentage_error: 55140580.0000 - val_loss: 4663.7451 - val_mean_absolute_error: 48.6495 - val_root_mean_squared_error: 68.2916 - val_mean_absolute_percentage_error: 5323634.5000\n",
      "Epoch 2/100\n",
      "778/778 [==============================] - 77s 99ms/step - loss: 2452.1526 - mean_absolute_error: 34.7113 - root_mean_squared_error: 49.5192 - mean_absolute_percentage_error: 67564112.0000 - val_loss: 1691.4919 - val_mean_absolute_error: 29.2214 - val_root_mean_squared_error: 41.1277 - val_mean_absolute_percentage_error: 5040957.0000\n",
      "Epoch 3/100\n",
      "778/778 [==============================] - 78s 100ms/step - loss: 1157.6497 - mean_absolute_error: 24.7916 - root_mean_squared_error: 34.0243 - mean_absolute_percentage_error: 65228708.0000 - val_loss: 1320.2103 - val_mean_absolute_error: 25.4947 - val_root_mean_squared_error: 36.3347 - val_mean_absolute_percentage_error: 4881433.5000\n",
      "Epoch 4/100\n",
      "778/778 [==============================] - 77s 99ms/step - loss: 955.7426 - mean_absolute_error: 22.6573 - root_mean_squared_error: 30.9151 - mean_absolute_percentage_error: 63837916.0000 - val_loss: 1228.0237 - val_mean_absolute_error: 24.3367 - val_root_mean_squared_error: 35.0432 - val_mean_absolute_percentage_error: 4748343.0000\n",
      "Epoch 5/100\n",
      "778/778 [==============================] - 78s 100ms/step - loss: 904.0334 - mean_absolute_error: 22.0069 - root_mean_squared_error: 30.0672 - mean_absolute_percentage_error: 62770896.0000 - val_loss: 1214.2585 - val_mean_absolute_error: 24.1088 - val_root_mean_squared_error: 34.8462 - val_mean_absolute_percentage_error: 4547745.5000\n",
      "Epoch 6/100\n",
      "778/778 [==============================] - 80s 103ms/step - loss: 878.6302 - mean_absolute_error: 21.6883 - root_mean_squared_error: 29.6417 - mean_absolute_percentage_error: 61521684.0000 - val_loss: 1208.0637 - val_mean_absolute_error: 23.9839 - val_root_mean_squared_error: 34.7572 - val_mean_absolute_percentage_error: 4425602.0000\n",
      "Epoch 7/100\n",
      "778/778 [==============================] - 78s 100ms/step - loss: 867.0511 - mean_absolute_error: 21.5242 - root_mean_squared_error: 29.4457 - mean_absolute_percentage_error: 60986284.0000 - val_loss: 1217.8269 - val_mean_absolute_error: 24.0490 - val_root_mean_squared_error: 34.8974 - val_mean_absolute_percentage_error: 4267640.5000\n",
      "Epoch 8/100\n",
      "778/778 [==============================] - 76s 98ms/step - loss: 853.5835 - mean_absolute_error: 21.3619 - root_mean_squared_error: 29.2161 - mean_absolute_percentage_error: 60300900.0000 - val_loss: 1214.4021 - val_mean_absolute_error: 23.9365 - val_root_mean_squared_error: 34.8483 - val_mean_absolute_percentage_error: 4171972.0000_squared_error: 29.196\n",
      "Epoch 9/100\n",
      "778/778 [==============================] - 79s 102ms/step - loss: 841.1948 - mean_absolute_error: 21.2129 - root_mean_squared_error: 29.0034 - mean_absolute_percentage_error: 59967976.0000 - val_loss: 1218.1241 - val_mean_absolute_error: 24.0081 - val_root_mean_squared_error: 34.9016 - val_mean_absolute_percentage_error: 4061120.7500\n",
      "Epoch 10/100\n",
      "778/778 [==============================] - 78s 100ms/step - loss: 835.1442 - mean_absolute_error: 21.1359 - root_mean_squared_error: 28.8989 - mean_absolute_percentage_error: 59873472.0000 - val_loss: 1192.9476 - val_mean_absolute_error: 23.6871 - val_root_mean_squared_error: 34.5391 - val_mean_absolute_percentage_error: 4149936.0000\n",
      "Epoch 11/100\n",
      "778/778 [==============================] - 78s 101ms/step - loss: 825.8801 - mean_absolute_error: 21.0162 - root_mean_squared_error: 28.7381 - mean_absolute_percentage_error: 59880684.0000 - val_loss: 1213.6033 - val_mean_absolute_error: 23.7805 - val_root_mean_squared_error: 34.8368 - val_mean_absolute_percentage_error: 4043326.7500\n",
      "Epoch 12/100\n",
      "778/778 [==============================] - 79s 101ms/step - loss: 820.1803 - mean_absolute_error: 20.9322 - root_mean_squared_error: 28.6388 - mean_absolute_percentage_error: 59861952.0000 - val_loss: 1234.9148 - val_mean_absolute_error: 24.2549 - val_root_mean_squared_error: 35.1414 - val_mean_absolute_percentage_error: 4035759.5000\n",
      "Epoch 13/100\n",
      "778/778 [==============================] - 77s 99ms/step - loss: 814.7507 - mean_absolute_error: 20.8517 - root_mean_squared_error: 28.5438 - mean_absolute_percentage_error: 59882020.0000 - val_loss: 1194.5548 - val_mean_absolute_error: 23.5490 - val_root_mean_squared_error: 34.5623 - val_mean_absolute_percentage_error: 4040852.7500\n",
      "Epoch 14/100\n",
      "778/778 [==============================] - 77s 99ms/step - loss: 810.1061 - mean_absolute_error: 20.7716 - root_mean_squared_error: 28.4624 - mean_absolute_percentage_error: 59946932.0000 - val_loss: 1169.1707 - val_mean_absolute_error: 23.4107 - val_root_mean_squared_error: 34.1931 - val_mean_absolute_percentage_error: 4060348.0000\n",
      "Epoch 15/100\n",
      "778/778 [==============================] - 79s 102ms/step - loss: 803.0360 - mean_absolute_error: 20.6594 - root_mean_squared_error: 28.3379 - mean_absolute_percentage_error: 60172968.0000 - val_loss: 1169.2299 - val_mean_absolute_error: 23.2933 - val_root_mean_squared_error: 34.1940 - val_mean_absolute_percentage_error: 3995816.7500\n",
      "Epoch 16/100\n",
      "778/778 [==============================] - 78s 100ms/step - loss: 796.8558 - mean_absolute_error: 20.5782 - root_mean_squared_error: 28.2286 - mean_absolute_percentage_error: 60163768.0000 - val_loss: 1169.6304 - val_mean_absolute_error: 23.2739 - val_root_mean_squared_error: 34.1999 - val_mean_absolute_percentage_error: 4010778.5000\n",
      "Epoch 17/100\n",
      "778/778 [==============================] - 77s 99ms/step - loss: 797.0998 - mean_absolute_error: 20.5627 - root_mean_squared_error: 28.2330 - mean_absolute_percentage_error: 60133692.0000 - val_loss: 1166.4437 - val_mean_absolute_error: 23.2643 - val_root_mean_squared_error: 34.1532 - val_mean_absolute_percentage_error: 3994691.7500\n",
      "Epoch 18/100\n",
      "778/778 [==============================] - 78s 100ms/step - loss: 790.7317 - mean_absolute_error: 20.4565 - root_mean_squared_error: 28.1199 - mean_absolute_percentage_error: 60067364.0000 - val_loss: 1169.8988 - val_mean_absolute_error: 23.2544 - val_root_mean_squared_error: 34.2038 - val_mean_absolute_percentage_error: 3950889.0000\n",
      "Epoch 19/100\n",
      "778/778 [==============================] - 79s 101ms/step - loss: 789.5782 - mean_absolute_error: 20.4450 - root_mean_squared_error: 28.0994 - mean_absolute_percentage_error: 59875360.0000 - val_loss: 1163.0980 - val_mean_absolute_error: 23.1613 - val_root_mean_squared_error: 34.1042 - val_mean_absolute_percentage_error: 3941999.7500\n",
      "Epoch 20/100\n",
      "778/778 [==============================] - 75s 97ms/step - loss: 786.2377 - mean_absolute_error: 20.3967 - root_mean_squared_error: 28.0399 - mean_absolute_percentage_error: 59569980.0000 - val_loss: 1158.9581 - val_mean_absolute_error: 23.1532 - val_root_mean_squared_error: 34.0435 - val_mean_absolute_percentage_error: 3922171.2500\n",
      "Epoch 21/100\n",
      "778/778 [==============================] - 78s 100ms/step - loss: 786.0131 - mean_absolute_error: 20.3896 - root_mean_squared_error: 28.0359 - mean_absolute_percentage_error: 59584248.0000 - val_loss: 1146.8584 - val_mean_absolute_error: 23.0044 - val_root_mean_squared_error: 33.8653 - val_mean_absolute_percentage_error: 3942025.2500\n",
      "Epoch 22/100\n",
      "778/778 [==============================] - 77s 99ms/step - loss: 782.0747 - mean_absolute_error: 20.3379 - root_mean_squared_error: 27.9656 - mean_absolute_percentage_error: 59465652.0000 - val_loss: 1163.2390 - val_mean_absolute_error: 23.2398 - val_root_mean_squared_error: 34.1063 - val_mean_absolute_percentage_error: 3928366.2500\n",
      "Epoch 23/100\n",
      "778/778 [==============================] - 78s 101ms/step - loss: 779.8331 - mean_absolute_error: 20.3098 - root_mean_squared_error: 27.9255 - mean_absolute_percentage_error: 59149912.0000 - val_loss: 1157.0511 - val_mean_absolute_error: 23.0820 - val_root_mean_squared_error: 34.0154 - val_mean_absolute_percentage_error: 3886349.5000\n",
      "Epoch 24/100\n",
      "778/778 [==============================] - 78s 101ms/step - loss: 780.9753 - mean_absolute_error: 20.3201 - root_mean_squared_error: 27.9459 - mean_absolute_percentage_error: 59183976.0000 - val_loss: 1154.8888 - val_mean_absolute_error: 23.0994 - val_root_mean_squared_error: 33.9837 - val_mean_absolute_percentage_error: 3922807.0000\n",
      "Epoch 25/100\n",
      "778/778 [==============================] - 77s 99ms/step - loss: 779.2895 - mean_absolute_error: 20.2894 - root_mean_squared_error: 27.9158 - mean_absolute_percentage_error: 59076308.0000 - val_loss: 1158.1093 - val_mean_absolute_error: 23.1683 - val_root_mean_squared_error: 34.0310 - val_mean_absolute_percentage_error: 3933511.7500\n",
      "Epoch 26/100\n",
      "778/778 [==============================] - 76s 98ms/step - loss: 777.2933 - mean_absolute_error: 20.2686 - root_mean_squared_error: 27.8800 - mean_absolute_percentage_error: 58979004.0000 - val_loss: 1159.4309 - val_mean_absolute_error: 23.2052 - val_root_mean_squared_error: 34.0504 - val_mean_absolute_percentage_error: 3950711.5000\n",
      "Epoch 27/100\n",
      "778/778 [==============================] - 80s 103ms/step - loss: 774.6347 - mean_absolute_error: 20.2327 - root_mean_squared_error: 27.8323 - mean_absolute_percentage_error: 58638796.0000 - val_loss: 1146.2034 - val_mean_absolute_error: 23.0656 - val_root_mean_squared_error: 33.8556 - val_mean_absolute_percentage_error: 3908887.7500\n",
      "Epoch 28/100\n",
      "778/778 [==============================] - 77s 99ms/step - loss: 774.9260 - mean_absolute_error: 20.2415 - root_mean_squared_error: 27.8375 - mean_absolute_percentage_error: 58604444.0000 - val_loss: 1141.5522 - val_mean_absolute_error: 22.9114 - val_root_mean_squared_error: 33.7869 - val_mean_absolute_percentage_error: 3887233.0000\n",
      "Epoch 29/100\n",
      "778/778 [==============================] - 77s 99ms/step - loss: 773.1601 - mean_absolute_error: 20.2144 - root_mean_squared_error: 27.8058 - mean_absolute_percentage_error: 58471220.0000 - val_loss: 1143.4487 - val_mean_absolute_error: 22.9909 - val_root_mean_squared_error: 33.8149 - val_mean_absolute_percentage_error: 3968370.2500\n",
      "Epoch 30/100\n",
      "778/778 [==============================] - 78s 100ms/step - loss: 771.3778 - mean_absolute_error: 20.1825 - root_mean_squared_error: 27.7737 - mean_absolute_percentage_error: 58676200.0000 - val_loss: 1161.4996 - val_mean_absolute_error: 23.2429 - val_root_mean_squared_error: 34.0808 - val_mean_absolute_percentage_error: 3881534.0000\n",
      "Epoch 31/100\n",
      "778/778 [==============================] - 79s 101ms/step - loss: 769.3967 - mean_absolute_error: 20.1750 - root_mean_squared_error: 27.7380 - mean_absolute_percentage_error: 58524252.0000 - val_loss: 1146.5273 - val_mean_absolute_error: 22.9618 - val_root_mean_squared_error: 33.8604 - val_mean_absolute_percentage_error: 3915630.7500or: 27.7472 - mean_absolute_percentage\n",
      "Epoch 32/100\n",
      "778/778 [==============================] - 78s 100ms/step - loss: 769.9959 - mean_absolute_error: 20.1712 - root_mean_squared_error: 27.7488 - mean_absolute_percentage_error: 58383236.0000 - val_loss: 1154.4150 - val_mean_absolute_error: 23.0225 - val_root_mean_squared_error: 33.9767 - val_mean_absolute_percentage_error: 4036318.2500\n",
      "Epoch 33/100\n",
      "778/778 [==============================] - 76s 98ms/step - loss: 766.0117 - mean_absolute_error: 20.1314 - root_mean_squared_error: 27.6769 - mean_absolute_percentage_error: 58183520.0000 - val_loss: 1151.2618 - val_mean_absolute_error: 23.0927 - val_root_mean_squared_error: 33.9302 - val_mean_absolute_percentage_error: 3935767.5000\n",
      "Epoch 34/100\n",
      "778/778 [==============================] - 76s 98ms/step - loss: 765.5716 - mean_absolute_error: 20.1141 - root_mean_squared_error: 27.6690 - mean_absolute_percentage_error: 58347016.0000 - val_loss: 1146.2653 - val_mean_absolute_error: 22.9345 - val_root_mean_squared_error: 33.8565 - val_mean_absolute_percentage_error: 3903780.7500\n",
      "Epoch 35/100\n",
      "778/778 [==============================] - 79s 101ms/step - loss: 762.8777 - mean_absolute_error: 20.0775 - root_mean_squared_error: 27.6203 - mean_absolute_percentage_error: 58209688.0000 - val_loss: 1140.8199 - val_mean_absolute_error: 22.9249 - val_root_mean_squared_error: 33.7760 - val_mean_absolute_percentage_error: 3930058.0000\n",
      "Epoch 36/100\n",
      "778/778 [==============================] - 76s 98ms/step - loss: 761.2368 - mean_absolute_error: 20.0779 - root_mean_squared_error: 27.5905 - mean_absolute_percentage_error: 58099380.0000 - val_loss: 1165.6481 - val_mean_absolute_error: 23.1380 - val_root_mean_squared_error: 34.1416 - val_mean_absolute_percentage_error: 3937386.0000\n",
      "Epoch 37/100\n",
      "778/778 [==============================] - 76s 98ms/step - loss: 760.7510 - mean_absolute_error: 20.0496 - root_mean_squared_error: 27.5817 - mean_absolute_percentage_error: 58369820.0000 - val_loss: 1142.4784 - val_mean_absolute_error: 22.9665 - val_root_mean_squared_error: 33.8006 - val_mean_absolute_percentage_error: 3864551.7500\n",
      "Epoch 38/100\n",
      "778/778 [==============================] - 78s 100ms/step - loss: 758.0466 - mean_absolute_error: 20.0190 - root_mean_squared_error: 27.5327 - mean_absolute_percentage_error: 58158340.0000 - val_loss: 1137.2516 - val_mean_absolute_error: 22.9059 - val_root_mean_squared_error: 33.7232 - val_mean_absolute_percentage_error: 3874215.0000\n",
      "Epoch 39/100\n",
      "778/778 [==============================] - 79s 101ms/step - loss: 758.2130 - mean_absolute_error: 20.0405 - root_mean_squared_error: 27.5357 - mean_absolute_percentage_error: 57933360.0000 - val_loss: 1145.6418 - val_mean_absolute_error: 23.0222 - val_root_mean_squared_error: 33.8473 - val_mean_absolute_percentage_error: 3950964.5000\n",
      "Epoch 40/100\n",
      "778/778 [==============================] - 77s 99ms/step - loss: 755.7941 - mean_absolute_error: 20.0017 - root_mean_squared_error: 27.4917 - mean_absolute_percentage_error: 58134584.0000 - val_loss: 1160.8657 - val_mean_absolute_error: 23.0562 - val_root_mean_squared_error: 34.0715 - val_mean_absolute_percentage_error: 3834584.5000\n",
      "Epoch 41/100\n",
      "778/778 [==============================] - 77s 99ms/step - loss: 755.3105 - mean_absolute_error: 19.9906 - root_mean_squared_error: 27.4829 - mean_absolute_percentage_error: 58081008.0000 - val_loss: 1145.7124 - val_mean_absolute_error: 22.9075 - val_root_mean_squared_error: 33.8484 - val_mean_absolute_percentage_error: 3959903.5000\n",
      "Epoch 42/100\n",
      "778/778 [==============================] - 77s 99ms/step - loss: 752.4220 - mean_absolute_error: 19.9485 - root_mean_squared_error: 27.4303 - mean_absolute_percentage_error: 58209396.0000 - val_loss: 1125.4639 - val_mean_absolute_error: 22.7631 - val_root_mean_squared_error: 33.5479 - val_mean_absolute_percentage_error: 3938399.2500\n",
      "Epoch 43/100\n",
      "778/778 [==============================] - 78s 100ms/step - loss: 753.5399 - mean_absolute_error: 19.9637 - root_mean_squared_error: 27.4507 - mean_absolute_percentage_error: 57966264.0000 - val_loss: 1140.7104 - val_mean_absolute_error: 22.8743 - val_root_mean_squared_error: 33.7744 - val_mean_absolute_percentage_error: 3906159.5000\n",
      "Epoch 44/100\n",
      "778/778 [==============================] - 77s 99ms/step - loss: 751.5508 - mean_absolute_error: 19.9481 - root_mean_squared_error: 27.4144 - mean_absolute_percentage_error: 57893936.0000 - val_loss: 1119.3558 - val_mean_absolute_error: 22.7375 - val_root_mean_squared_error: 33.4568 - val_mean_absolute_percentage_error: 3994489.0000\n",
      "Epoch 45/100\n",
      "778/778 [==============================] - 78s 100ms/step - loss: 750.0970 - mean_absolute_error: 19.9310 - root_mean_squared_error: 27.3879 - mean_absolute_percentage_error: 57986388.0000 - val_loss: 1124.6869 - val_mean_absolute_error: 22.6970 - val_root_mean_squared_error: 33.5364 - val_mean_absolute_percentage_error: 4031185.7500\n",
      "Epoch 46/100\n",
      "778/778 [==============================] - 78s 100ms/step - loss: 750.5076 - mean_absolute_error: 19.9321 - root_mean_squared_error: 27.3954 - mean_absolute_percentage_error: 58097520.0000 - val_loss: 1130.2728 - val_mean_absolute_error: 22.7873 - val_root_mean_squared_error: 33.6195 - val_mean_absolute_percentage_error: 3944619.2500\n",
      "Epoch 47/100\n"
     ]
    },
    {
     "name": "stdout",
     "output_type": "stream",
     "text": [
      "778/778 [==============================] - 76s 98ms/step - loss: 746.6443 - mean_absolute_error: 19.8855 - root_mean_squared_error: 27.3248 - mean_absolute_percentage_error: 57944000.0000 - val_loss: 1129.4431 - val_mean_absolute_error: 22.7617 - val_root_mean_squared_error: 33.6072 - val_mean_absolute_percentage_error: 3948446.7500\n",
      "Epoch 48/100\n",
      "778/778 [==============================] - 79s 101ms/step - loss: 746.8597 - mean_absolute_error: 19.8865 - root_mean_squared_error: 27.3287 - mean_absolute_percentage_error: 58146964.0000 - val_loss: 1137.9865 - val_mean_absolute_error: 22.8689 - val_root_mean_squared_error: 33.7341 - val_mean_absolute_percentage_error: 4080136.0000\n",
      "Epoch 49/100\n",
      "778/778 [==============================] - 77s 99ms/step - loss: 747.5010 - mean_absolute_error: 19.8933 - root_mean_squared_error: 27.3405 - mean_absolute_percentage_error: 58035988.0000 - val_loss: 1118.8898 - val_mean_absolute_error: 22.6684 - val_root_mean_squared_error: 33.4498 - val_mean_absolute_percentage_error: 3939243.0000\n",
      "Epoch 50/100\n",
      "778/778 [==============================] - 79s 101ms/step - loss: 744.3048 - mean_absolute_error: 19.8550 - root_mean_squared_error: 27.2820 - mean_absolute_percentage_error: 57867452.0000 - val_loss: 1134.0421 - val_mean_absolute_error: 22.7603 - val_root_mean_squared_error: 33.6755 - val_mean_absolute_percentage_error: 4147387.5000\n",
      "Epoch 51/100\n",
      "778/778 [==============================] - 76s 98ms/step - loss: 743.9379 - mean_absolute_error: 19.8527 - root_mean_squared_error: 27.2752 - mean_absolute_percentage_error: 58080612.0000 - val_loss: 1131.7677 - val_mean_absolute_error: 22.8487 - val_root_mean_squared_error: 33.6418 - val_mean_absolute_percentage_error: 4158051.2500\n",
      "Epoch 52/100\n",
      "778/778 [==============================] - 77s 99ms/step - loss: 743.5271 - mean_absolute_error: 19.8477 - root_mean_squared_error: 27.2677 - mean_absolute_percentage_error: 57882472.0000 - val_loss: 1137.8894 - val_mean_absolute_error: 22.8047 - val_root_mean_squared_error: 33.7326 - val_mean_absolute_percentage_error: 4155889.7500\n",
      "Epoch 53/100\n",
      "778/778 [==============================] - 78s 100ms/step - loss: 742.2139 - mean_absolute_error: 19.8373 - root_mean_squared_error: 27.2436 - mean_absolute_percentage_error: 58115236.0000 - val_loss: 1143.0088 - val_mean_absolute_error: 22.9456 - val_root_mean_squared_error: 33.8084 - val_mean_absolute_percentage_error: 3865103.2500\n",
      "Epoch 54/100\n",
      "778/778 [==============================] - 78s 100ms/step - loss: 742.9286 - mean_absolute_error: 19.8514 - root_mean_squared_error: 27.2567 - mean_absolute_percentage_error: 57673156.0000 - val_loss: 1141.9503 - val_mean_absolute_error: 22.9124 - val_root_mean_squared_error: 33.7927 - val_mean_absolute_percentage_error: 4091743.0000\n",
      "Epoch 55/100\n",
      "778/778 [==============================] - 79s 102ms/step - loss: 742.6617 - mean_absolute_error: 19.8339 - root_mean_squared_error: 27.2518 - mean_absolute_percentage_error: 58031024.0000 - val_loss: 1134.7454 - val_mean_absolute_error: 22.7930 - val_root_mean_squared_error: 33.6860 - val_mean_absolute_percentage_error: 4026276.7500\n",
      "Epoch 56/100\n",
      "778/778 [==============================] - 78s 100ms/step - loss: 740.6473 - mean_absolute_error: 19.7980 - root_mean_squared_error: 27.2148 - mean_absolute_percentage_error: 57959424.0000 - val_loss: 1131.4419 - val_mean_absolute_error: 22.7888 - val_root_mean_squared_error: 33.6369 - val_mean_absolute_percentage_error: 4026247.7500\n",
      "Epoch 57/100\n",
      "778/778 [==============================] - 78s 100ms/step - loss: 741.3679 - mean_absolute_error: 19.8108 - root_mean_squared_error: 27.2281 - mean_absolute_percentage_error: 58071288.0000 - val_loss: 1121.3239 - val_mean_absolute_error: 22.7263 - val_root_mean_squared_error: 33.4862 - val_mean_absolute_percentage_error: 4194790.0000\n",
      "Epoch 58/100\n",
      "778/778 [==============================] - 76s 98ms/step - loss: 739.7608 - mean_absolute_error: 19.7995 - root_mean_squared_error: 27.1986 - mean_absolute_percentage_error: 57954928.0000 - val_loss: 1122.2516 - val_mean_absolute_error: 22.7014 - val_root_mean_squared_error: 33.5000 - val_mean_absolute_percentage_error: 4113063.2500\n",
      "Epoch 59/100\n",
      "778/778 [==============================] - 78s 100ms/step - loss: 738.4451 - mean_absolute_error: 19.7797 - root_mean_squared_error: 27.1744 - mean_absolute_percentage_error: 58002172.0000 - val_loss: 1118.6786 - val_mean_absolute_error: 22.7522 - val_root_mean_squared_error: 33.4466 - val_mean_absolute_percentage_error: 4041124.2500\n",
      "Epoch 60/100\n",
      "778/778 [==============================] - 80s 103ms/step - loss: 739.0270 - mean_absolute_error: 19.7881 - root_mean_squared_error: 27.1851 - mean_absolute_percentage_error: 57817972.0000 - val_loss: 1128.0308 - val_mean_absolute_error: 22.6983 - val_root_mean_squared_error: 33.5862 - val_mean_absolute_percentage_error: 4032403.0000\n",
      "Epoch 61/100\n",
      "778/778 [==============================] - 78s 100ms/step - loss: 736.5000 - mean_absolute_error: 19.7607 - root_mean_squared_error: 27.1385 - mean_absolute_percentage_error: 57835544.0000 - val_loss: 1121.0334 - val_mean_absolute_error: 22.6647 - val_root_mean_squared_error: 33.4818 - val_mean_absolute_percentage_error: 4138910.5000\n",
      "Epoch 62/100\n",
      "778/778 [==============================] - 79s 102ms/step - loss: 735.4619 - mean_absolute_error: 19.7438 - root_mean_squared_error: 27.1194 - mean_absolute_percentage_error: 57999548.0000 - val_loss: 1125.1401 - val_mean_absolute_error: 22.6861 - val_root_mean_squared_error: 33.5431 - val_mean_absolute_percentage_error: 4074270.7500\n",
      "Epoch 63/100\n",
      "778/778 [==============================] - 77s 100ms/step - loss: 736.9946 - mean_absolute_error: 19.7590 - root_mean_squared_error: 27.1476 - mean_absolute_percentage_error: 57919504.0000 - val_loss: 1124.1638 - val_mean_absolute_error: 22.6727 - val_root_mean_squared_error: 33.5286 - val_mean_absolute_percentage_error: 4145760.0000\n",
      "Epoch 64/100\n",
      "778/778 [==============================] - 78s 100ms/step - loss: 734.9203 - mean_absolute_error: 19.7320 - root_mean_squared_error: 27.1094 - mean_absolute_percentage_error: 57963704.0000 - val_loss: 1119.3250 - val_mean_absolute_error: 22.6800 - val_root_mean_squared_error: 33.4563 - val_mean_absolute_percentage_error: 4121409.0000\n",
      "Epoch 65/100\n",
      "778/778 [==============================] - 79s 101ms/step - loss: 734.4249 - mean_absolute_error: 19.7236 - root_mean_squared_error: 27.1003 - mean_absolute_percentage_error: 57866356.0000 - val_loss: 1119.5890 - val_mean_absolute_error: 22.7089 - val_root_mean_squared_error: 33.4603 - val_mean_absolute_percentage_error: 4175162.0000\n",
      "Epoch 66/100\n",
      "778/778 [==============================] - 77s 99ms/step - loss: 734.4372 - mean_absolute_error: 19.7226 - root_mean_squared_error: 27.1005 - mean_absolute_percentage_error: 57778432.0000 - val_loss: 1146.5272 - val_mean_absolute_error: 22.8526 - val_root_mean_squared_error: 33.8604 - val_mean_absolute_percentage_error: 4076785.0000\n",
      "Epoch 67/100\n",
      "778/778 [==============================] - 78s 100ms/step - loss: 732.9432 - mean_absolute_error: 19.7069 - root_mean_squared_error: 27.0729 - mean_absolute_percentage_error: 57983640.0000 - val_loss: 1143.2667 - val_mean_absolute_error: 22.9037 - val_root_mean_squared_error: 33.8122 - val_mean_absolute_percentage_error: 4133913.2500\n",
      "Epoch 68/100\n",
      "778/778 [==============================] - 78s 101ms/step - loss: 734.1778 - mean_absolute_error: 19.7253 - root_mean_squared_error: 27.0957 - mean_absolute_percentage_error: 57713148.0000 - val_loss: 1129.5524 - val_mean_absolute_error: 22.6837 - val_root_mean_squared_error: 33.6088 - val_mean_absolute_percentage_error: 4067206.7500\n",
      "Epoch 69/100\n",
      "778/778 [==============================] - 77s 99ms/step - loss: 733.0959 - mean_absolute_error: 19.6951 - root_mean_squared_error: 27.0758 - mean_absolute_percentage_error: 57913768.0000 - val_loss: 1127.9698 - val_mean_absolute_error: 22.7053 - val_root_mean_squared_error: 33.5853 - val_mean_absolute_percentage_error: 4023207.5000\n",
      "Epoch 70/100\n",
      "778/778 [==============================] - 76s 98ms/step - loss: 731.5886 - mean_absolute_error: 19.6909 - root_mean_squared_error: 27.0479 - mean_absolute_percentage_error: 57852320.0000 - val_loss: 1136.5009 - val_mean_absolute_error: 22.8629 - val_root_mean_squared_error: 33.7120 - val_mean_absolute_percentage_error: 4047031.2500\n",
      "Epoch 71/100\n",
      "778/778 [==============================] - 79s 101ms/step - loss: 731.8248 - mean_absolute_error: 19.6953 - root_mean_squared_error: 27.0523 - mean_absolute_percentage_error: 57900088.0000 - val_loss: 1137.8788 - val_mean_absolute_error: 22.8694 - val_root_mean_squared_error: 33.7325 - val_mean_absolute_percentage_error: 4000760.0000\n",
      "Epoch 72/100\n",
      "778/778 [==============================] - 80s 103ms/step - loss: 729.3138 - mean_absolute_error: 19.6613 - root_mean_squared_error: 27.0058 - mean_absolute_percentage_error: 57831044.0000 - val_loss: 1124.9200 - val_mean_absolute_error: 22.6679 - val_root_mean_squared_error: 33.5398 - val_mean_absolute_percentage_error: 4085187.2500\n",
      "Epoch 73/100\n",
      "778/778 [==============================] - 77s 100ms/step - loss: 732.1226 - mean_absolute_error: 19.6845 - root_mean_squared_error: 27.0578 - mean_absolute_percentage_error: 57753752.0000 - val_loss: 1115.1434 - val_mean_absolute_error: 22.6430 - val_root_mean_squared_error: 33.3938 - val_mean_absolute_percentage_error: 4135229.7500\n",
      "Epoch 74/100\n",
      "778/778 [==============================] - 78s 100ms/step - loss: 730.3811 - mean_absolute_error: 19.6853 - root_mean_squared_error: 27.0256 - mean_absolute_percentage_error: 57806720.0000 - val_loss: 1113.4019 - val_mean_absolute_error: 22.5988 - val_root_mean_squared_error: 33.3677 - val_mean_absolute_percentage_error: 4129073.7500\n",
      "Epoch 75/100\n",
      "778/778 [==============================] - 70s 90ms/step - loss: 729.7402 - mean_absolute_error: 19.6740 - root_mean_squared_error: 27.0137 - mean_absolute_percentage_error: 57773544.0000 - val_loss: 1122.7920 - val_mean_absolute_error: 22.7036 - val_root_mean_squared_error: 33.5081 - val_mean_absolute_percentage_error: 4148923.0000\n",
      "Epoch 76/100\n",
      "778/778 [==============================] - 77s 100ms/step - loss: 729.7126 - mean_absolute_error: 19.6651 - root_mean_squared_error: 27.0132 - mean_absolute_percentage_error: 57896356.0000 - val_loss: 1145.1832 - val_mean_absolute_error: 22.8846 - val_root_mean_squared_error: 33.8406 - val_mean_absolute_percentage_error: 4008834.5000\n",
      "Epoch 77/100\n",
      "778/778 [==============================] - 78s 100ms/step - loss: 729.2683 - mean_absolute_error: 19.6520 - root_mean_squared_error: 27.0050 - mean_absolute_percentage_error: 57902664.0000 - val_loss: 1132.7557 - val_mean_absolute_error: 22.7587 - val_root_mean_squared_error: 33.6564 - val_mean_absolute_percentage_error: 4102839.2500\n",
      "Epoch 78/100\n",
      "778/778 [==============================] - 78s 101ms/step - loss: 728.1223 - mean_absolute_error: 19.6398 - root_mean_squared_error: 26.9837 - mean_absolute_percentage_error: 58034664.0000 - val_loss: 1122.8900 - val_mean_absolute_error: 22.6782 - val_root_mean_squared_error: 33.5095 - val_mean_absolute_percentage_error: 4099134.0000\n",
      "Epoch 79/100\n",
      "778/778 [==============================] - 77s 98ms/step - loss: 727.5826 - mean_absolute_error: 19.6375 - root_mean_squared_error: 26.9737 - mean_absolute_percentage_error: 57829284.0000 - val_loss: 1141.3583 - val_mean_absolute_error: 22.8807 - val_root_mean_squared_error: 33.7840 - val_mean_absolute_percentage_error: 4028036.2500\n",
      "Epoch 80/100\n",
      "778/778 [==============================] - 79s 102ms/step - loss: 727.3397 - mean_absolute_error: 19.6298 - root_mean_squared_error: 26.9692 - mean_absolute_percentage_error: 57841148.0000 - val_loss: 1125.7894 - val_mean_absolute_error: 22.7073 - val_root_mean_squared_error: 33.5528 - val_mean_absolute_percentage_error: 4154762.5000\n",
      "Epoch 81/100\n",
      "778/778 [==============================] - 78s 100ms/step - loss: 726.5271 - mean_absolute_error: 19.6217 - root_mean_squared_error: 26.9542 - mean_absolute_percentage_error: 57817956.0000 - val_loss: 1127.3820 - val_mean_absolute_error: 22.9180 - val_root_mean_squared_error: 33.5765 - val_mean_absolute_percentage_error: 4136103.7500\n",
      "Epoch 82/100\n",
      "778/778 [==============================] - 78s 100ms/step - loss: 725.2412 - mean_absolute_error: 19.6023 - root_mean_squared_error: 26.9303 - mean_absolute_percentage_error: 57713676.0000 - val_loss: 1120.7024 - val_mean_absolute_error: 22.6526 - val_root_mean_squared_error: 33.4769 - val_mean_absolute_percentage_error: 4115258.0000\n",
      "Epoch 83/100\n",
      "778/778 [==============================] - 80s 102ms/step - loss: 724.2565 - mean_absolute_error: 19.5910 - root_mean_squared_error: 26.9120 - mean_absolute_percentage_error: 57642904.0000 - val_loss: 1120.8656 - val_mean_absolute_error: 22.6695 - val_root_mean_squared_error: 33.4793 - val_mean_absolute_percentage_error: 4082562.5000\n",
      "Epoch 84/100\n",
      "778/778 [==============================] - 78s 100ms/step - loss: 724.6611 - mean_absolute_error: 19.6039 - root_mean_squared_error: 26.9195 - mean_absolute_percentage_error: 57730520.0000 - val_loss: 1142.1711 - val_mean_absolute_error: 22.8059 - val_root_mean_squared_error: 33.7960 - val_mean_absolute_percentage_error: 4185273.5000\n",
      "Epoch 85/100\n",
      "778/778 [==============================] - 78s 100ms/step - loss: 723.1384 - mean_absolute_error: 19.5757 - root_mean_squared_error: 26.8912 - mean_absolute_percentage_error: 57713560.0000 - val_loss: 1136.7810 - val_mean_absolute_error: 22.9050 - val_root_mean_squared_error: 33.7162 - val_mean_absolute_percentage_error: 4102862.7500\n",
      "Epoch 86/100\n",
      "778/778 [==============================] - 78s 101ms/step - loss: 724.7130 - mean_absolute_error: 19.5994 - root_mean_squared_error: 26.9205 - mean_absolute_percentage_error: 57945076.0000 - val_loss: 1149.1971 - val_mean_absolute_error: 23.0733 - val_root_mean_squared_error: 33.8998 - val_mean_absolute_percentage_error: 3901990.7500\n",
      "Epoch 87/100\n",
      "778/778 [==============================] - 78s 100ms/step - loss: 723.8508 - mean_absolute_error: 19.5835 - root_mean_squared_error: 26.9045 - mean_absolute_percentage_error: 57734984.0000 - val_loss: 1138.7747 - val_mean_absolute_error: 22.8606 - val_root_mean_squared_error: 33.7457 - val_mean_absolute_percentage_error: 4067223.2500\n",
      "Epoch 88/100\n",
      "778/778 [==============================] - 78s 100ms/step - loss: 723.5794 - mean_absolute_error: 19.5775 - root_mean_squared_error: 26.8994 - mean_absolute_percentage_error: 57679924.0000 - val_loss: 1129.9462 - val_mean_absolute_error: 22.7410 - val_root_mean_squared_error: 33.6147 - val_mean_absolute_percentage_error: 4170196.2500\n",
      "Epoch 89/100\n",
      "778/778 [==============================] - 77s 99ms/step - loss: 720.7821 - mean_absolute_error: 19.5516 - root_mean_squared_error: 26.8474 - mean_absolute_percentage_error: 57785008.0000 - val_loss: 1125.1389 - val_mean_absolute_error: 22.6572 - val_root_mean_squared_error: 33.5431 - val_mean_absolute_percentage_error: 4159450.7500\n",
      "Epoch 90/100\n",
      "778/778 [==============================] - 77s 98ms/step - loss: 723.0175 - mean_absolute_error: 19.5669 - root_mean_squared_error: 26.8890 - mean_absolute_percentage_error: 57868624.0000 - val_loss: 1125.6200 - val_mean_absolute_error: 22.6655 - val_root_mean_squared_error: 33.5503 - val_mean_absolute_percentage_error: 4040548.0000\n",
      "Epoch 91/100\n",
      "778/778 [==============================] - 77s 100ms/step - loss: 723.1725 - mean_absolute_error: 19.5698 - root_mean_squared_error: 26.8919 - mean_absolute_percentage_error: 57464308.0000 - val_loss: 1126.0016 - val_mean_absolute_error: 22.7579 - val_root_mean_squared_error: 33.5559 - val_mean_absolute_percentage_error: 4290824.0000\n",
      "Epoch 92/100\n",
      "778/778 [==============================] - 78s 100ms/step - loss: 720.4771 - mean_absolute_error: 19.5324 - root_mean_squared_error: 26.8417 - mean_absolute_percentage_error: 57685324.0000 - val_loss: 1126.0760 - val_mean_absolute_error: 22.6801 - val_root_mean_squared_error: 33.5571 - val_mean_absolute_percentage_error: 4088178.2500\n",
      "Epoch 93/100\n"
     ]
    },
    {
     "name": "stdout",
     "output_type": "stream",
     "text": [
      "778/778 [==============================] - 79s 101ms/step - loss: 719.5572 - mean_absolute_error: 19.5202 - root_mean_squared_error: 26.8246 - mean_absolute_percentage_error: 57607252.0000 - val_loss: 1126.4236 - val_mean_absolute_error: 22.7226 - val_root_mean_squared_error: 33.5622 - val_mean_absolute_percentage_error: 4102652.7500\n",
      "Epoch 94/100\n",
      "778/778 [==============================] - 79s 101ms/step - loss: 721.3835 - mean_absolute_error: 19.5532 - root_mean_squared_error: 26.8586 - mean_absolute_percentage_error: 57651548.0000 - val_loss: 1140.5187 - val_mean_absolute_error: 22.7942 - val_root_mean_squared_error: 33.7716 - val_mean_absolute_percentage_error: 4111337.0000\n",
      "Epoch 95/100\n",
      "778/778 [==============================] - 77s 99ms/step - loss: 718.9587 - mean_absolute_error: 19.5080 - root_mean_squared_error: 26.8134 - mean_absolute_percentage_error: 57725056.0000 - val_loss: 1128.1670 - val_mean_absolute_error: 22.6965 - val_root_mean_squared_error: 33.5882 - val_mean_absolute_percentage_error: 4206721.5000\n",
      "Epoch 96/100\n",
      "778/778 [==============================] - 75s 97ms/step - loss: 719.4042 - mean_absolute_error: 19.5151 - root_mean_squared_error: 26.8217 - mean_absolute_percentage_error: 57597336.0000 - val_loss: 1135.0510 - val_mean_absolute_error: 22.7770 - val_root_mean_squared_error: 33.6905 - val_mean_absolute_percentage_error: 4189508.7500\n",
      "Epoch 97/100\n",
      "778/778 [==============================] - 78s 100ms/step - loss: 720.6686 - mean_absolute_error: 19.5498 - root_mean_squared_error: 26.8453 - mean_absolute_percentage_error: 57649100.0000 - val_loss: 1136.6422 - val_mean_absolute_error: 22.8192 - val_root_mean_squared_error: 33.7141 - val_mean_absolute_percentage_error: 4072109.0000\n",
      "Epoch 98/100\n",
      "778/778 [==============================] - 78s 100ms/step - loss: 718.1439 - mean_absolute_error: 19.5106 - root_mean_squared_error: 26.7982 - mean_absolute_percentage_error: 57615376.0000 - val_loss: 1144.7302 - val_mean_absolute_error: 22.8947 - val_root_mean_squared_error: 33.8339 - val_mean_absolute_percentage_error: 4207823.5000\n",
      "Epoch 99/100\n",
      "778/778 [==============================] - 77s 99ms/step - loss: 718.0607 - mean_absolute_error: 19.5072 - root_mean_squared_error: 26.7967 - mean_absolute_percentage_error: 57640100.0000 - val_loss: 1131.2988 - val_mean_absolute_error: 22.8314 - val_root_mean_squared_error: 33.6348 - val_mean_absolute_percentage_error: 4131118.7500\n",
      "Epoch 100/100\n",
      "778/778 [==============================] - 77s 99ms/step - loss: 716.1803 - mean_absolute_error: 19.4747 - root_mean_squared_error: 26.7615 - mean_absolute_percentage_error: 57668756.0000 - val_loss: 1127.0328 - val_mean_absolute_error: 22.7243 - val_root_mean_squared_error: 33.5713 - val_mean_absolute_percentage_error: 4151560.5000\n"
     ]
    },
    {
     "data": {
      "text/plain": [
       "<keras.callbacks.History at 0x29524e29460>"
      ]
     },
     "execution_count": 79,
     "metadata": {},
     "output_type": "execute_result"
    }
   ],
   "source": [
    "model15.fit((Wt15,Xt15), yt15, validation_split = val_percent,\n",
    "            epochs = 100, \n",
    "            verbose = 1)"
   ]
  },
  {
   "cell_type": "code",
   "execution_count": 80,
   "metadata": {},
   "outputs": [],
   "source": [
    "metrics15 = pd.DataFrame(model15.history.history)"
   ]
  },
  {
   "cell_type": "code",
   "execution_count": 81,
   "metadata": {},
   "outputs": [],
   "source": [
    "# fig = plt.figure(figsize=(6,4))\n",
    "\n",
    "# # Add set of axes to figure\n",
    "# axes = fig.add_axes([0, 0, 1, 1]) \n",
    "# axes2 = fig.add_axes([0.3, 0.35, 0.5, 0.5]) # Smaller figure\n",
    "# axes.plot(metrics15[['loss','val_loss']], label=['train_loss','val_loss'], lw=4)\n",
    "# axes.set_ylim(0,4000)\n",
    "\n",
    "# axes2.plot(metrics15[['loss','val_loss']], lw=4)\n",
    "# axes2.set_xlim(0,20)\n",
    "# axes2.set_ylim(500,1500)\n",
    "# #plt.xticks(visible=False)\n",
    "# plt.yticks(visible=False)\n",
    "\n",
    "# axes.set_xlabel('Epoch')\n",
    "# axes.set_ylabel('Loss')\n",
    "# axes.grid()\n",
    "# axes2.grid()\n",
    "\n",
    "# mark_inset(axes, axes2, loc1=2, loc2=4, fc=\"0.9\", ec=\"0.1\", ls='--')\n",
    "# axes.yaxis.set_major_formatter(formatter)"
   ]
  },
  {
   "cell_type": "code",
   "execution_count": 82,
   "metadata": {},
   "outputs": [
    {
     "name": "stderr",
     "output_type": "stream",
     "text": [
      "WARNING:absl:Function `_wrapped_model` contains input name(s) WideInput, DeepInput with unsupported characters which will be renamed to wideinput, deepinput in the SavedModel.\n",
      "WARNING:absl:Found untraced functions such as lstm_cell_11_layer_call_and_return_conditional_losses, lstm_cell_11_layer_call_fn, lstm_cell_9_layer_call_and_return_conditional_losses, lstm_cell_9_layer_call_fn, lstm_cell_10_layer_call_and_return_conditional_losses while saving (showing 5 of 15). These functions will not be directly callable after loading.\n"
     ]
    },
    {
     "name": "stdout",
     "output_type": "stream",
     "text": [
      "INFO:tensorflow:Assets written to: my_dir/10b-15\\assets\n"
     ]
    },
    {
     "name": "stderr",
     "output_type": "stream",
     "text": [
      "INFO:tensorflow:Assets written to: my_dir/10b-15\\assets\n"
     ]
    }
   ],
   "source": [
    "model15.save(\"my_dir/10b-15\")"
   ]
  },
  {
   "cell_type": "code",
   "execution_count": 83,
   "metadata": {},
   "outputs": [],
   "source": [
    "model15 = keras.models.load_model(\"my_dir/10b-15\")"
   ]
  },
  {
   "cell_type": "code",
   "execution_count": 84,
   "metadata": {},
   "outputs": [
    {
     "data": {
      "text/plain": [
       "array([[ 56.3294  ,  57.13089 ,  62.94393 , ...,  60.412666,  36.53721 ,\n",
       "         36.402695],\n",
       "       [ 54.98835 ,  55.844543,  61.73107 , ...,  60.1453  ,  36.57093 ,\n",
       "         36.266113],\n",
       "       [ 54.773827,  55.60002 ,  61.74218 , ...,  61.147087,  37.167778,\n",
       "         36.83461 ],\n",
       "       ...,\n",
       "       [143.08606 , 147.20358 , 159.00183 , ..., 157.11948 , 103.34178 ,\n",
       "         94.21352 ],\n",
       "       [141.83574 , 146.04422 , 157.77507 , ..., 156.96744 , 101.5801  ,\n",
       "         93.20054 ],\n",
       "       [127.53736 , 131.50441 , 142.06848 , ..., 139.32704 ,  91.05906 ,\n",
       "         83.75151 ]], dtype=float32)"
      ]
     },
     "execution_count": 84,
     "metadata": {},
     "output_type": "execute_result"
    }
   ],
   "source": [
    "model15.predict((Wv15,Xv15))"
   ]
  },
  {
   "cell_type": "markdown",
   "metadata": {},
   "source": [
    "# 30 mins ahead"
   ]
  },
  {
   "cell_type": "code",
   "execution_count": 87,
   "metadata": {},
   "outputs": [],
   "source": [
    "def build_model_30(hp):\n",
    "    # Inputs\n",
    "    channel_Wide = keras.layers.Input(shape=Wt30.shape[1:], name=\"WideInput\")\n",
    "    channel_Deep = keras.layers.Input(shape=Xt30.shape[1:], name=\"DeepInput\")\n",
    "    units = hp.Int(\"units\", min_value=1, max_value=100, step=1)\n",
    "    \n",
    "    \n",
    "    # Wide Model\n",
    "    flatten_30w = keras.layers.TimeDistributed(keras.layers.Flatten())(channel_Wide)\n",
    "    Bi_30 = keras.layers.Bidirectional(\n",
    "        keras.layers.LSTM(units=units, return_sequences=True),\n",
    "        merge_mode=\"ave\"\n",
    "    )(flatten_30w)\n",
    "    \n",
    "    \n",
    "    # Deep Model\n",
    "    # CNN \n",
    "    CNN_30 = keras.layers.TimeDistributed(\n",
    "        keras.layers.Conv2D(filters=hp.Int(\"filters\", min_value=32, max_value=512, step=32),\n",
    "                            kernel_size=hp.Choice(\"kernel_size\", [2, 3]), activation='relu'))(channel_Deep)\n",
    "    flatten_30 = keras.layers.TimeDistributed(keras.layers.Flatten())(CNN_30)\n",
    "    # LSTM          \n",
    "    LSTM_30 = keras.layers.LSTM(units=units, return_sequences=True)(flatten_30)\n",
    "\n",
    "    \n",
    "    # Concatenation \n",
    "    concat = keras.layers.concatenate([Bi_30, LSTM_30], axis=1)\n",
    "\n",
    "    # Attention\n",
    "    Att_30 = SeqSelfAttention(attention_activation='sigmoid')(concat)\n",
    "    merge = keras.layers.Flatten()(concat)\n",
    "\n",
    "    \n",
    "    # Output\n",
    "    output = keras.layers.Dense(n_features, name= \"output\")(merge)\n",
    "    \n",
    "    # Model\n",
    "    model_30 = keras.Model(inputs=[channel_Wide,channel_Deep], outputs=[output])\n",
    "\n",
    "    # Compile\n",
    "    model_30.compile(optimizer=keras.optimizers.Adam(hp.Choice(\"learning_rate\", [1e-2, 1e-3, 1e-4])), \n",
    "        loss=\"mse\", metrics=['MeanAbsoluteError','RootMeanSquaredError','MeanAbsolutePercentageError'])\n",
    "                    \n",
    "    return model_30"
   ]
  },
  {
   "cell_type": "code",
   "execution_count": 88,
   "metadata": {},
   "outputs": [],
   "source": [
    "tuner30 = RandomSearch(\n",
    "    build_model_30,\n",
    "    objective=\"val_loss\",\n",
    "    max_trials=10,\n",
    "    executions_per_trial=2,\n",
    "    overwrite=False,\n",
    "    directory=os.path.normpath('C:/Runs'),\n",
    "    project_name=\"10b-30\",\n",
    ")"
   ]
  },
  {
   "cell_type": "code",
   "execution_count": 89,
   "metadata": {},
   "outputs": [
    {
     "name": "stdout",
     "output_type": "stream",
     "text": [
      "Search space summary\n",
      "Default search space size: 4\n",
      "units (Int)\n",
      "{'default': None, 'conditions': [], 'min_value': 1, 'max_value': 100, 'step': 1, 'sampling': 'linear'}\n",
      "filters (Int)\n",
      "{'default': None, 'conditions': [], 'min_value': 32, 'max_value': 512, 'step': 32, 'sampling': 'linear'}\n",
      "kernel_size (Choice)\n",
      "{'default': 2, 'conditions': [], 'values': [2, 3], 'ordered': True}\n",
      "learning_rate (Choice)\n",
      "{'default': 0.01, 'conditions': [], 'values': [0.01, 0.001, 0.0001], 'ordered': True}\n"
     ]
    }
   ],
   "source": [
    "tuner30.search_space_summary()"
   ]
  },
  {
   "cell_type": "code",
   "execution_count": 90,
   "metadata": {},
   "outputs": [
    {
     "name": "stdout",
     "output_type": "stream",
     "text": [
      "Trial 10 Complete [00h 49m 42s]\n",
      "val_loss: 1152.48388671875\n",
      "\n",
      "Best val_loss So Far: 1131.497802734375\n",
      "Total elapsed time: 13h 24m 59s\n",
      "INFO:tensorflow:Oracle triggered exit\n"
     ]
    },
    {
     "name": "stderr",
     "output_type": "stream",
     "text": [
      "INFO:tensorflow:Oracle triggered exit\n"
     ]
    }
   ],
   "source": [
    "tuner30.search((Wt30,Xt30), yt30, epochs=200,\n",
    "            validation_split = val_percent,\n",
    "            callbacks=[early_stop],\n",
    "            verbose=2)"
   ]
  },
  {
   "cell_type": "code",
   "execution_count": 91,
   "metadata": {},
   "outputs": [
    {
     "name": "stdout",
     "output_type": "stream",
     "text": [
      "Results summary\n",
      "Results in C:\\Runs\\10b-30\n",
      "Showing 1 best trials\n",
      "Objective(name=\"val_loss\", direction=\"min\")\n",
      "\n",
      "Trial 05 summary\n",
      "Hyperparameters:\n",
      "units: 53\n",
      "filters: 416\n",
      "kernel_size: 2\n",
      "learning_rate: 0.01\n",
      "Score: 1131.497802734375\n"
     ]
    }
   ],
   "source": [
    "tuner30.results_summary(1)"
   ]
  },
  {
   "cell_type": "markdown",
   "metadata": {},
   "source": [
    "### Best model"
   ]
  },
  {
   "cell_type": "code",
   "execution_count": 92,
   "metadata": {},
   "outputs": [],
   "source": [
    "best_hp30 = tuner30.get_best_hyperparameters()[0]\n",
    "model30 = tuner30.hypermodel.build(best_hp30)"
   ]
  },
  {
   "cell_type": "code",
   "execution_count": 93,
   "metadata": {},
   "outputs": [
    {
     "data": {
      "text/plain": [
       "['Best_HP/10b-30']"
      ]
     },
     "execution_count": 93,
     "metadata": {},
     "output_type": "execute_result"
    }
   ],
   "source": [
    "scaler_filename = \"Best_HP/10b-30\"\n",
    "joblib.dump(best_hp30, scaler_filename) "
   ]
  },
  {
   "cell_type": "code",
   "execution_count": 94,
   "metadata": {},
   "outputs": [],
   "source": [
    "scaler_filename = \"Best_HP/10b-30\"\n",
    "best_hp30 = joblib.load(scaler_filename) \n",
    "\n",
    "model30 = tuner30.hypermodel.build(best_hp30)"
   ]
  },
  {
   "cell_type": "code",
   "execution_count": 95,
   "metadata": {},
   "outputs": [
    {
     "name": "stdout",
     "output_type": "stream",
     "text": [
      "Model: \"model_2\"\n",
      "__________________________________________________________________________________________________\n",
      "Layer (type)                    Output Shape         Param #     Connected to                     \n",
      "==================================================================================================\n",
      "DeepInput (InputLayer)          [(None, 3, 5, 15, 7) 0                                            \n",
      "__________________________________________________________________________________________________\n",
      "WideInput (InputLayer)          [(None, 3, 3, 7)]    0                                            \n",
      "__________________________________________________________________________________________________\n",
      "time_distributed_7 (TimeDistrib (None, 3, 4, 14, 416 12064       DeepInput[0][0]                  \n",
      "__________________________________________________________________________________________________\n",
      "time_distributed_6 (TimeDistrib (None, 3, 21)        0           WideInput[0][0]                  \n",
      "__________________________________________________________________________________________________\n",
      "time_distributed_8 (TimeDistrib (None, 3, 23296)     0           time_distributed_7[0][0]         \n",
      "__________________________________________________________________________________________________\n",
      "bidirectional_2 (Bidirectional) (None, 3, 53)        31800       time_distributed_6[0][0]         \n",
      "__________________________________________________________________________________________________\n",
      "lstm_5 (LSTM)                   (None, 3, 53)        4950200     time_distributed_8[0][0]         \n",
      "__________________________________________________________________________________________________\n",
      "concatenate_2 (Concatenate)     (None, 6, 53)        0           bidirectional_2[0][0]            \n",
      "                                                                 lstm_5[0][0]                     \n",
      "__________________________________________________________________________________________________\n",
      "flatten_8 (Flatten)             (None, 318)          0           concatenate_2[0][0]              \n",
      "__________________________________________________________________________________________________\n",
      "output (Dense)                  (None, 7)            2233        flatten_8[0][0]                  \n",
      "==================================================================================================\n",
      "Total params: 4,996,297\n",
      "Trainable params: 4,996,297\n",
      "Non-trainable params: 0\n",
      "__________________________________________________________________________________________________\n"
     ]
    }
   ],
   "source": [
    "model30.summary()"
   ]
  },
  {
   "cell_type": "code",
   "execution_count": 96,
   "metadata": {},
   "outputs": [
    {
     "name": "stdout",
     "output_type": "stream",
     "text": [
      "Epoch 1/100\n",
      "778/778 [==============================] - 104s 126ms/step - loss: 4840.3267 - mean_absolute_error: 40.0596 - root_mean_squared_error: 69.5724 - mean_absolute_percentage_error: 64198740.0000 - val_loss: 1235.2156 - val_mean_absolute_error: 24.4156 - val_root_mean_squared_error: 35.1456 - val_mean_absolute_percentage_error: 4608397.5000\n",
      "Epoch 2/100\n",
      "778/778 [==============================] - 98s 125ms/step - loss: 893.9984 - mean_absolute_error: 21.8738 - root_mean_squared_error: 29.8998 - mean_absolute_percentage_error: 60785692.0000 - val_loss: 1211.1469 - val_mean_absolute_error: 23.9802 - val_root_mean_squared_error: 34.8015 - val_mean_absolute_percentage_error: 4342699.5000\n",
      "Epoch 3/100\n",
      "778/778 [==============================] - 95s 122ms/step - loss: 863.6465 - mean_absolute_error: 21.5116 - root_mean_squared_error: 29.3878 - mean_absolute_percentage_error: 60315384.0000 - val_loss: 1233.4315 - val_mean_absolute_error: 24.1249 - val_root_mean_squared_error: 35.1203 - val_mean_absolute_percentage_error: 4305451.0000\n",
      "Epoch 4/100\n",
      "778/778 [==============================] - 102s 131ms/step - loss: 849.2132 - mean_absolute_error: 21.3230 - root_mean_squared_error: 29.1413 - mean_absolute_percentage_error: 60502516.0000 - val_loss: 1245.1207 - val_mean_absolute_error: 24.2493 - val_root_mean_squared_error: 35.2863 - val_mean_absolute_percentage_error: 4036625.7500\n",
      "Epoch 5/100\n",
      "778/778 [==============================] - 95s 122ms/step - loss: 825.8871 - mean_absolute_error: 20.9972 - root_mean_squared_error: 28.7383 - mean_absolute_percentage_error: 60834548.0000 - val_loss: 1193.7913 - val_mean_absolute_error: 23.6331 - val_root_mean_squared_error: 34.5513 - val_mean_absolute_percentage_error: 4059576.5000\n",
      "Epoch 6/100\n",
      "778/778 [==============================] - 95s 122ms/step - loss: 817.5984 - mean_absolute_error: 20.8687 - root_mean_squared_error: 28.5937 - mean_absolute_percentage_error: 59914956.0000 - val_loss: 1186.7308 - val_mean_absolute_error: 23.5485 - val_root_mean_squared_error: 34.4490 - val_mean_absolute_percentage_error: 3912459.7500\n",
      "Epoch 7/100\n",
      "778/778 [==============================] - 99s 127ms/step - loss: 808.5665 - mean_absolute_error: 20.7576 - root_mean_squared_error: 28.4353 - mean_absolute_percentage_error: 59568468.0000 - val_loss: 1162.3082 - val_mean_absolute_error: 23.3844 - val_root_mean_squared_error: 34.0926 - val_mean_absolute_percentage_error: 3880224.0000\n",
      "Epoch 8/100\n",
      "778/778 [==============================] - 86s 110ms/step - loss: 804.2009 - mean_absolute_error: 20.7112 - root_mean_squared_error: 28.3584 - mean_absolute_percentage_error: 59104984.0000 - val_loss: 1280.5140 - val_mean_absolute_error: 24.8296 - val_root_mean_squared_error: 35.7843 - val_mean_absolute_percentage_error: 3630427.0000\n",
      "Epoch 9/100\n",
      "778/778 [==============================] - 101s 130ms/step - loss: 799.5170 - mean_absolute_error: 20.6521 - root_mean_squared_error: 28.2757 - mean_absolute_percentage_error: 59096832.0000 - val_loss: 1216.3353 - val_mean_absolute_error: 23.8151 - val_root_mean_squared_error: 34.8760 - val_mean_absolute_percentage_error: 3611628.5000\n",
      "Epoch 10/100\n",
      "778/778 [==============================] - 107s 137ms/step - loss: 794.1397 - mean_absolute_error: 20.5999 - root_mean_squared_error: 28.1805 - mean_absolute_percentage_error: 58520292.0000 - val_loss: 1188.2158 - val_mean_absolute_error: 23.5808 - val_root_mean_squared_error: 34.4705 - val_mean_absolute_percentage_error: 3679203.7500\n",
      "Epoch 11/100\n",
      "778/778 [==============================] - 105s 136ms/step - loss: 789.5909 - mean_absolute_error: 20.5229 - root_mean_squared_error: 28.0997 - mean_absolute_percentage_error: 58990092.0000 - val_loss: 1173.0480 - val_mean_absolute_error: 23.6265 - val_root_mean_squared_error: 34.2498 - val_mean_absolute_percentage_error: 4215728.0000\n",
      "Epoch 12/100\n",
      "778/778 [==============================] - 107s 138ms/step - loss: 792.2802 - mean_absolute_error: 20.5671 - root_mean_squared_error: 28.1475 - mean_absolute_percentage_error: 59329500.0000 - val_loss: 1167.5336 - val_mean_absolute_error: 23.2383 - val_root_mean_squared_error: 34.1692 - val_mean_absolute_percentage_error: 3986309.5000\n",
      "Epoch 13/100\n",
      "778/778 [==============================] - 103s 132ms/step - loss: 789.7280 - mean_absolute_error: 20.5445 - root_mean_squared_error: 28.1021 - mean_absolute_percentage_error: 58924872.0000 - val_loss: 1174.8678 - val_mean_absolute_error: 23.4638 - val_root_mean_squared_error: 34.2763 - val_mean_absolute_percentage_error: 3678940.0000\n",
      "Epoch 14/100\n",
      "778/778 [==============================] - 109s 140ms/step - loss: 785.8745 - mean_absolute_error: 20.5177 - root_mean_squared_error: 28.0334 - mean_absolute_percentage_error: 58791020.0000 - val_loss: 1168.3721 - val_mean_absolute_error: 23.3118 - val_root_mean_squared_error: 34.1815 - val_mean_absolute_percentage_error: 3786260.7500\n",
      "Epoch 15/100\n",
      "778/778 [==============================] - 105s 134ms/step - loss: 778.4064 - mean_absolute_error: 20.3835 - root_mean_squared_error: 27.8999 - mean_absolute_percentage_error: 58736412.0000 - val_loss: 1162.8556 - val_mean_absolute_error: 23.1956 - val_root_mean_squared_error: 34.1007 - val_mean_absolute_percentage_error: 3733889.7500\n",
      "Epoch 16/100\n",
      "778/778 [==============================] - 109s 140ms/step - loss: 777.5897 - mean_absolute_error: 20.3804 - root_mean_squared_error: 27.8853 - mean_absolute_percentage_error: 58918892.0000 - val_loss: 1164.9977 - val_mean_absolute_error: 23.3360 - val_root_mean_squared_error: 34.1321 - val_mean_absolute_percentage_error: 3805399.5000\n",
      "Epoch 17/100\n",
      "778/778 [==============================] - 101s 130ms/step - loss: 781.1161 - mean_absolute_error: 20.4055 - root_mean_squared_error: 27.9484 - mean_absolute_percentage_error: 58698372.0000 - val_loss: 1149.1854 - val_mean_absolute_error: 23.0447 - val_root_mean_squared_error: 33.8996 - val_mean_absolute_percentage_error: 3926895.0000\n",
      "Epoch 18/100\n",
      "778/778 [==============================] - 98s 126ms/step - loss: 775.1978 - mean_absolute_error: 20.3328 - root_mean_squared_error: 27.8424 - mean_absolute_percentage_error: 59369612.0000 - val_loss: 1160.1116 - val_mean_absolute_error: 23.3302 - val_root_mean_squared_error: 34.0604 - val_mean_absolute_percentage_error: 3725859.5000\n",
      "Epoch 19/100\n",
      "778/778 [==============================] - 109s 141ms/step - loss: 772.8215 - mean_absolute_error: 20.3081 - root_mean_squared_error: 27.7997 - mean_absolute_percentage_error: 58493680.0000 - val_loss: 1200.8468 - val_mean_absolute_error: 23.5228 - val_root_mean_squared_error: 34.6532 - val_mean_absolute_percentage_error: 3875369.7500\n",
      "Epoch 20/100\n",
      "778/778 [==============================] - 104s 134ms/step - loss: 773.9376 - mean_absolute_error: 20.3171 - root_mean_squared_error: 27.8197 - mean_absolute_percentage_error: 58977572.0000 - val_loss: 1164.0581 - val_mean_absolute_error: 23.1272 - val_root_mean_squared_error: 34.1183 - val_mean_absolute_percentage_error: 4090248.2500\n",
      "Epoch 21/100\n",
      "778/778 [==============================] - 111s 142ms/step - loss: 770.9050 - mean_absolute_error: 20.2722 - root_mean_squared_error: 27.7652 - mean_absolute_percentage_error: 59034480.0000 - val_loss: 1148.4131 - val_mean_absolute_error: 23.1340 - val_root_mean_squared_error: 33.8882 - val_mean_absolute_percentage_error: 3633358.0000\n",
      "Epoch 22/100\n",
      "778/778 [==============================] - 109s 140ms/step - loss: 771.2429 - mean_absolute_error: 20.2630 - root_mean_squared_error: 27.7713 - mean_absolute_percentage_error: 58235368.0000 - val_loss: 1206.8182 - val_mean_absolute_error: 23.9141 - val_root_mean_squared_error: 34.7393 - val_mean_absolute_percentage_error: 4040633.5000\n",
      "Epoch 23/100\n",
      "778/778 [==============================] - 108s 139ms/step - loss: 770.6974 - mean_absolute_error: 20.2730 - root_mean_squared_error: 27.7614 - mean_absolute_percentage_error: 58744908.0000 - val_loss: 1147.9327 - val_mean_absolute_error: 23.0226 - val_root_mean_squared_error: 33.8812 - val_mean_absolute_percentage_error: 3899214.5000\n",
      "Epoch 24/100\n",
      "778/778 [==============================] - 109s 140ms/step - loss: 770.9644 - mean_absolute_error: 20.2863 - root_mean_squared_error: 27.7663 - mean_absolute_percentage_error: 58358508.0000 - val_loss: 1140.8794 - val_mean_absolute_error: 23.0217 - val_root_mean_squared_error: 33.7769 - val_mean_absolute_percentage_error: 3986169.0000\n",
      "Epoch 25/100\n",
      "778/778 [==============================] - 108s 140ms/step - loss: 770.8078 - mean_absolute_error: 20.2841 - root_mean_squared_error: 27.7634 - mean_absolute_percentage_error: 58980852.0000 - val_loss: 1153.0704 - val_mean_absolute_error: 23.1975 - val_root_mean_squared_error: 33.9569 - val_mean_absolute_percentage_error: 4109769.5000\n",
      "Epoch 26/100\n",
      "778/778 [==============================] - 107s 137ms/step - loss: 770.3096 - mean_absolute_error: 20.2694 - root_mean_squared_error: 27.7545 - mean_absolute_percentage_error: 58226360.0000 - val_loss: 1180.2573 - val_mean_absolute_error: 23.3815 - val_root_mean_squared_error: 34.3549 - val_mean_absolute_percentage_error: 3756116.0000\n",
      "Epoch 27/100\n",
      "778/778 [==============================] - 108s 139ms/step - loss: 767.7474 - mean_absolute_error: 20.2317 - root_mean_squared_error: 27.7083 - mean_absolute_percentage_error: 58388316.0000 - val_loss: 1137.3650 - val_mean_absolute_error: 22.9827 - val_root_mean_squared_error: 33.7248 - val_mean_absolute_percentage_error: 3861947.0000\n",
      "Epoch 28/100\n",
      "778/778 [==============================] - 109s 140ms/step - loss: 764.4988 - mean_absolute_error: 20.1610 - root_mean_squared_error: 27.6496 - mean_absolute_percentage_error: 58179996.0000 - val_loss: 1180.0555 - val_mean_absolute_error: 23.4052 - val_root_mean_squared_error: 34.3519 - val_mean_absolute_percentage_error: 3917937.0000\n",
      "Epoch 29/100\n",
      "778/778 [==============================] - 106s 136ms/step - loss: 768.3767 - mean_absolute_error: 20.2358 - root_mean_squared_error: 27.7196 - mean_absolute_percentage_error: 58095256.0000 - val_loss: 1154.1771 - val_mean_absolute_error: 23.2201 - val_root_mean_squared_error: 33.9732 - val_mean_absolute_percentage_error: 4212659.0000\n",
      "Epoch 30/100\n",
      "778/778 [==============================] - 106s 136ms/step - loss: 765.1802 - mean_absolute_error: 20.1870 - root_mean_squared_error: 27.6619 - mean_absolute_percentage_error: 58179264.0000 - val_loss: 1147.6119 - val_mean_absolute_error: 22.9903 - val_root_mean_squared_error: 33.8764 - val_mean_absolute_percentage_error: 4095948.5000\n",
      "Epoch 31/100\n",
      "778/778 [==============================] - 108s 139ms/step - loss: 761.9253 - mean_absolute_error: 20.1287 - root_mean_squared_error: 27.6030 - mean_absolute_percentage_error: 58632632.0000 - val_loss: 1158.2639 - val_mean_absolute_error: 23.2179 - val_root_mean_squared_error: 34.0333 - val_mean_absolute_percentage_error: 4084991.7500\n",
      "Epoch 32/100\n",
      "778/778 [==============================] - 96s 124ms/step - loss: 764.3896 - mean_absolute_error: 20.1923 - root_mean_squared_error: 27.6476 - mean_absolute_percentage_error: 58375188.0000 - val_loss: 1165.6206 - val_mean_absolute_error: 23.1874 - val_root_mean_squared_error: 34.1412 - val_mean_absolute_percentage_error: 4038748.5000\n",
      "Epoch 33/100\n",
      "778/778 [==============================] - 94s 120ms/step - loss: 765.6709 - mean_absolute_error: 20.1756 - root_mean_squared_error: 27.6708 - mean_absolute_percentage_error: 58415216.0000 - val_loss: 1135.9023 - val_mean_absolute_error: 22.8812 - val_root_mean_squared_error: 33.7032 - val_mean_absolute_percentage_error: 4146432.0000\n",
      "Epoch 34/100\n",
      "778/778 [==============================] - 108s 138ms/step - loss: 763.3958 - mean_absolute_error: 20.1787 - root_mean_squared_error: 27.6296 - mean_absolute_percentage_error: 58456308.0000 - val_loss: 1156.2688 - val_mean_absolute_error: 23.0922 - val_root_mean_squared_error: 34.0040 - val_mean_absolute_percentage_error: 4195336.5000\n",
      "Epoch 35/100\n",
      "778/778 [==============================] - 102s 131ms/step - loss: 761.0782 - mean_absolute_error: 20.1244 - root_mean_squared_error: 27.5876 - mean_absolute_percentage_error: 58601412.0000 - val_loss: 1165.3606 - val_mean_absolute_error: 23.1601 - val_root_mean_squared_error: 34.1374 - val_mean_absolute_percentage_error: 4106473.0000\n",
      "Epoch 36/100\n",
      "778/778 [==============================] - 103s 132ms/step - loss: 761.3000 - mean_absolute_error: 20.1284 - root_mean_squared_error: 27.5917 - mean_absolute_percentage_error: 58765860.0000 - val_loss: 1134.5719 - val_mean_absolute_error: 22.8332 - val_root_mean_squared_error: 33.6834 - val_mean_absolute_percentage_error: 4097013.5000\n",
      "Epoch 37/100\n",
      "778/778 [==============================] - 104s 134ms/step - loss: 760.1869 - mean_absolute_error: 20.1191 - root_mean_squared_error: 27.5715 - mean_absolute_percentage_error: 58665024.0000 - val_loss: 1140.0103 - val_mean_absolute_error: 23.0131 - val_root_mean_squared_error: 33.7640 - val_mean_absolute_percentage_error: 4299121.0000\n",
      "Epoch 38/100\n",
      "778/778 [==============================] - 106s 136ms/step - loss: 756.9515 - mean_absolute_error: 20.0784 - root_mean_squared_error: 27.5127 - mean_absolute_percentage_error: 58296172.0000 - val_loss: 1143.0471 - val_mean_absolute_error: 23.0711 - val_root_mean_squared_error: 33.8090 - val_mean_absolute_percentage_error: 4164439.2500\n",
      "Epoch 39/100\n",
      "778/778 [==============================] - 103s 132ms/step - loss: 761.8721 - mean_absolute_error: 20.1380 - root_mean_squared_error: 27.6020 - mean_absolute_percentage_error: 58438144.0000 - val_loss: 1126.9102 - val_mean_absolute_error: 22.8857 - val_root_mean_squared_error: 33.5695 - val_mean_absolute_percentage_error: 3967268.2500\n",
      "Epoch 40/100\n",
      "778/778 [==============================] - 98s 126ms/step - loss: 761.5965 - mean_absolute_error: 20.1195 - root_mean_squared_error: 27.5970 - mean_absolute_percentage_error: 57883028.0000 - val_loss: 1154.0968 - val_mean_absolute_error: 23.2201 - val_root_mean_squared_error: 33.9720 - val_mean_absolute_percentage_error: 4007786.7500\n",
      "Epoch 41/100\n",
      "778/778 [==============================] - 94s 121ms/step - loss: 758.7311 - mean_absolute_error: 20.1010 - root_mean_squared_error: 27.5451 - mean_absolute_percentage_error: 58474964.0000 - val_loss: 1132.5999 - val_mean_absolute_error: 22.8675 - val_root_mean_squared_error: 33.6541 - val_mean_absolute_percentage_error: 4287203.0000\n",
      "Epoch 42/100\n",
      "778/778 [==============================] - 101s 129ms/step - loss: 756.8500 - mean_absolute_error: 20.0717 - root_mean_squared_error: 27.5109 - mean_absolute_percentage_error: 58529152.0000 - val_loss: 1141.6058 - val_mean_absolute_error: 22.9345 - val_root_mean_squared_error: 33.7877 - val_mean_absolute_percentage_error: 4083320.0000\n",
      "Epoch 43/100\n",
      "778/778 [==============================] - 101s 130ms/step - loss: 755.5110 - mean_absolute_error: 20.0749 - root_mean_squared_error: 27.4866 - mean_absolute_percentage_error: 58293360.0000 - val_loss: 1135.6987 - val_mean_absolute_error: 22.9853 - val_root_mean_squared_error: 33.7001 - val_mean_absolute_percentage_error: 3999557.0000\n",
      "Epoch 44/100\n",
      "778/778 [==============================] - 100s 128ms/step - loss: 757.7198 - mean_absolute_error: 20.0812 - root_mean_squared_error: 27.5267 - mean_absolute_percentage_error: 57973640.0000 - val_loss: 1152.2249 - val_mean_absolute_error: 23.1062 - val_root_mean_squared_error: 33.9444 - val_mean_absolute_percentage_error: 4168672.7500\n",
      "Epoch 45/100\n",
      "778/778 [==============================] - 103s 133ms/step - loss: 758.6645 - mean_absolute_error: 20.0874 - root_mean_squared_error: 27.5439 - mean_absolute_percentage_error: 58574124.0000 - val_loss: 1157.3348 - val_mean_absolute_error: 23.2749 - val_root_mean_squared_error: 34.0196 - val_mean_absolute_percentage_error: 4370891.0000\n",
      "Epoch 46/100\n"
     ]
    },
    {
     "name": "stdout",
     "output_type": "stream",
     "text": [
      "778/778 [==============================] - 103s 133ms/step - loss: 758.8591 - mean_absolute_error: 20.0979 - root_mean_squared_error: 27.5474 - mean_absolute_percentage_error: 58315356.0000 - val_loss: 1126.6135 - val_mean_absolute_error: 22.8058 - val_root_mean_squared_error: 33.5651 - val_mean_absolute_percentage_error: 4056800.5000\n",
      "Epoch 47/100\n",
      "778/778 [==============================] - 100s 128ms/step - loss: 755.0113 - mean_absolute_error: 20.0323 - root_mean_squared_error: 27.4775 - mean_absolute_percentage_error: 58379348.0000 - val_loss: 1160.2887 - val_mean_absolute_error: 23.1492 - val_root_mean_squared_error: 34.0630 - val_mean_absolute_percentage_error: 3900544.2500\n",
      "Epoch 48/100\n",
      "778/778 [==============================] - 106s 136ms/step - loss: 755.0605 - mean_absolute_error: 20.0426 - root_mean_squared_error: 27.4784 - mean_absolute_percentage_error: 58135596.0000 - val_loss: 1142.9834 - val_mean_absolute_error: 22.9634 - val_root_mean_squared_error: 33.8080 - val_mean_absolute_percentage_error: 4237783.0000: 20.0437 - root_mean_squared_error: 27.4585 - mean_absol\n",
      "Epoch 49/100\n",
      "778/778 [==============================] - 102s 131ms/step - loss: 756.5609 - mean_absolute_error: 20.0599 - root_mean_squared_error: 27.5056 - mean_absolute_percentage_error: 58293596.0000 - val_loss: 1134.4846 - val_mean_absolute_error: 23.0407 - val_root_mean_squared_error: 33.6821 - val_mean_absolute_percentage_error: 3785633.5000\n",
      "Epoch 50/100\n",
      "778/778 [==============================] - 98s 125ms/step - loss: 756.5225 - mean_absolute_error: 20.0676 - root_mean_squared_error: 27.5050 - mean_absolute_percentage_error: 57931540.0000 - val_loss: 1235.4526 - val_mean_absolute_error: 23.9684 - val_root_mean_squared_error: 35.1490 - val_mean_absolute_percentage_error: 3849319.5000\n",
      "Epoch 51/100\n",
      "778/778 [==============================] - 87s 112ms/step - loss: 754.7359 - mean_absolute_error: 20.0484 - root_mean_squared_error: 27.4724 - mean_absolute_percentage_error: 57880052.0000 - val_loss: 1156.2339 - val_mean_absolute_error: 23.1001 - val_root_mean_squared_error: 34.0034 - val_mean_absolute_percentage_error: 4074428.2500\n",
      "Epoch 52/100\n",
      "778/778 [==============================] - 99s 128ms/step - loss: 755.6525 - mean_absolute_error: 20.0510 - root_mean_squared_error: 27.4891 - mean_absolute_percentage_error: 58208072.0000 - val_loss: 1129.7577 - val_mean_absolute_error: 22.9006 - val_root_mean_squared_error: 33.6119 - val_mean_absolute_percentage_error: 4090535.5000\n",
      "Epoch 53/100\n",
      "778/778 [==============================] - 102s 131ms/step - loss: 752.4478 - mean_absolute_error: 20.0046 - root_mean_squared_error: 27.4308 - mean_absolute_percentage_error: 58396304.0000 - val_loss: 1141.0591 - val_mean_absolute_error: 23.0295 - val_root_mean_squared_error: 33.7796 - val_mean_absolute_percentage_error: 4028255.5000\n",
      "Epoch 54/100\n",
      "778/778 [==============================] - 96s 123ms/step - loss: 753.5672 - mean_absolute_error: 20.0335 - root_mean_squared_error: 27.4512 - mean_absolute_percentage_error: 58234020.0000 - val_loss: 1137.1333 - val_mean_absolute_error: 22.9390 - val_root_mean_squared_error: 33.7214 - val_mean_absolute_percentage_error: 4065222.7500\n",
      "Epoch 55/100\n",
      "778/778 [==============================] - 102s 131ms/step - loss: 753.3217 - mean_absolute_error: 20.0339 - root_mean_squared_error: 27.4467 - mean_absolute_percentage_error: 57955628.0000 - val_loss: 1150.7222 - val_mean_absolute_error: 23.0020 - val_root_mean_squared_error: 33.9223 - val_mean_absolute_percentage_error: 3901173.7500\n",
      "Epoch 56/100\n",
      "778/778 [==============================] - 101s 130ms/step - loss: 755.1232 - mean_absolute_error: 20.0459 - root_mean_squared_error: 27.4795 - mean_absolute_percentage_error: 58134516.0000 - val_loss: 1131.9441 - val_mean_absolute_error: 22.9267 - val_root_mean_squared_error: 33.6444 - val_mean_absolute_percentage_error: 4244719.5000\n",
      "Epoch 57/100\n",
      "778/778 [==============================] - 100s 129ms/step - loss: 753.9719 - mean_absolute_error: 20.0398 - root_mean_squared_error: 27.4585 - mean_absolute_percentage_error: 57969708.0000 - val_loss: 1125.0875 - val_mean_absolute_error: 22.8111 - val_root_mean_squared_error: 33.5423 - val_mean_absolute_percentage_error: 4351544.5000\n",
      "Epoch 58/100\n",
      "778/778 [==============================] - 98s 126ms/step - loss: 756.5414 - mean_absolute_error: 20.0674 - root_mean_squared_error: 27.5053 - mean_absolute_percentage_error: 58438124.0000 - val_loss: 1160.0895 - val_mean_absolute_error: 23.1601 - val_root_mean_squared_error: 34.0601 - val_mean_absolute_percentage_error: 4185513.5000\n",
      "Epoch 59/100\n",
      "778/778 [==============================] - 98s 126ms/step - loss: 749.5952 - mean_absolute_error: 19.9736 - root_mean_squared_error: 27.3787 - mean_absolute_percentage_error: 57761532.0000 - val_loss: 1142.9646 - val_mean_absolute_error: 23.0487 - val_root_mean_squared_error: 33.8078 - val_mean_absolute_percentage_error: 4005955.5000\n",
      "Epoch 60/100\n",
      "778/778 [==============================] - 97s 125ms/step - loss: 748.5283 - mean_absolute_error: 19.9621 - root_mean_squared_error: 27.3592 - mean_absolute_percentage_error: 57775728.0000 - val_loss: 1134.4414 - val_mean_absolute_error: 22.9969 - val_root_mean_squared_error: 33.6815 - val_mean_absolute_percentage_error: 4196568.0000\n",
      "Epoch 61/100\n",
      "778/778 [==============================] - 102s 131ms/step - loss: 754.1440 - mean_absolute_error: 20.0376 - root_mean_squared_error: 27.4617 - mean_absolute_percentage_error: 57698560.0000 - val_loss: 1126.1256 - val_mean_absolute_error: 22.7927 - val_root_mean_squared_error: 33.5578 - val_mean_absolute_percentage_error: 4157079.2500lute_percentage_err\n",
      "Epoch 62/100\n",
      "778/778 [==============================] - 98s 126ms/step - loss: 750.7393 - mean_absolute_error: 19.9749 - root_mean_squared_error: 27.3996 - mean_absolute_percentage_error: 58000000.0000 - val_loss: 1138.8136 - val_mean_absolute_error: 22.9776 - val_root_mean_squared_error: 33.7463 - val_mean_absolute_percentage_error: 4196509.0000\n",
      "Epoch 63/100\n",
      "778/778 [==============================] - 101s 130ms/step - loss: 750.1134 - mean_absolute_error: 19.9562 - root_mean_squared_error: 27.3882 - mean_absolute_percentage_error: 57717300.0000 - val_loss: 1136.3710 - val_mean_absolute_error: 22.9163 - val_root_mean_squared_error: 33.7101 - val_mean_absolute_percentage_error: 3809223.0000\n",
      "Epoch 64/100\n",
      "778/778 [==============================] - 96s 123ms/step - loss: 748.2458 - mean_absolute_error: 19.9473 - root_mean_squared_error: 27.3541 - mean_absolute_percentage_error: 57587128.0000 - val_loss: 1135.0107 - val_mean_absolute_error: 22.9270 - val_root_mean_squared_error: 33.6899 - val_mean_absolute_percentage_error: 3856624.5000\n",
      "Epoch 65/100\n",
      "778/778 [==============================] - 101s 130ms/step - loss: 747.9579 - mean_absolute_error: 19.9302 - root_mean_squared_error: 27.3488 - mean_absolute_percentage_error: 58030352.0000 - val_loss: 1123.9246 - val_mean_absolute_error: 22.8277 - val_root_mean_squared_error: 33.5250 - val_mean_absolute_percentage_error: 4206234.5000\n",
      "Epoch 66/100\n",
      "778/778 [==============================] - 101s 130ms/step - loss: 750.5219 - mean_absolute_error: 19.9928 - root_mean_squared_error: 27.3956 - mean_absolute_percentage_error: 57813456.0000 - val_loss: 1144.2231 - val_mean_absolute_error: 23.1058 - val_root_mean_squared_error: 33.8264 - val_mean_absolute_percentage_error: 3863736.2500\n",
      "Epoch 67/100\n",
      "778/778 [==============================] - 98s 126ms/step - loss: 749.5303 - mean_absolute_error: 19.9878 - root_mean_squared_error: 27.3775 - mean_absolute_percentage_error: 57806596.0000 - val_loss: 1142.2543 - val_mean_absolute_error: 22.9471 - val_root_mean_squared_error: 33.7972 - val_mean_absolute_percentage_error: 3976964.7500\n",
      "Epoch 68/100\n",
      "778/778 [==============================] - 101s 130ms/step - loss: 748.0018 - mean_absolute_error: 19.9561 - root_mean_squared_error: 27.3496 - mean_absolute_percentage_error: 58202692.0000 - val_loss: 1170.1097 - val_mean_absolute_error: 23.4506 - val_root_mean_squared_error: 34.2069 - val_mean_absolute_percentage_error: 4113648.2500\n",
      "Epoch 69/100\n",
      "778/778 [==============================] - 101s 129ms/step - loss: 751.2398 - mean_absolute_error: 19.9992 - root_mean_squared_error: 27.4087 - mean_absolute_percentage_error: 57753360.0000 - val_loss: 1149.1208 - val_mean_absolute_error: 23.2683 - val_root_mean_squared_error: 33.8987 - val_mean_absolute_percentage_error: 4059370.5000\n",
      "Epoch 70/100\n",
      "778/778 [==============================] - 103s 133ms/step - loss: 750.0743 - mean_absolute_error: 19.9552 - root_mean_squared_error: 27.3875 - mean_absolute_percentage_error: 57731960.0000 - val_loss: 1121.7924 - val_mean_absolute_error: 22.8682 - val_root_mean_squared_error: 33.4932 - val_mean_absolute_percentage_error: 4517966.5000\n",
      "Epoch 71/100\n",
      "778/778 [==============================] - 102s 132ms/step - loss: 749.2606 - mean_absolute_error: 19.9824 - root_mean_squared_error: 27.3726 - mean_absolute_percentage_error: 58067368.0000 - val_loss: 1156.9779 - val_mean_absolute_error: 23.2759 - val_root_mean_squared_error: 34.0144 - val_mean_absolute_percentage_error: 4053814.2500\n",
      "Epoch 72/100\n",
      "778/778 [==============================] - 98s 126ms/step - loss: 745.4828 - mean_absolute_error: 19.9055 - root_mean_squared_error: 27.3035 - mean_absolute_percentage_error: 58039528.0000 - val_loss: 1128.4568 - val_mean_absolute_error: 22.8650 - val_root_mean_squared_error: 33.5925 - val_mean_absolute_percentage_error: 4048632.5000\n",
      "Epoch 73/100\n",
      "778/778 [==============================] - 103s 133ms/step - loss: 749.0673 - mean_absolute_error: 19.9494 - root_mean_squared_error: 27.3691 - mean_absolute_percentage_error: 58062720.0000 - val_loss: 1156.5190 - val_mean_absolute_error: 23.2021 - val_root_mean_squared_error: 34.0076 - val_mean_absolute_percentage_error: 3975198.7500\n",
      "Epoch 74/100\n",
      "778/778 [==============================] - 93s 120ms/step - loss: 744.8162 - mean_absolute_error: 19.8784 - root_mean_squared_error: 27.2913 - mean_absolute_percentage_error: 57954824.0000 - val_loss: 1136.4136 - val_mean_absolute_error: 23.0015 - val_root_mean_squared_error: 33.7107 - val_mean_absolute_percentage_error: 4081419.0000\n",
      "Epoch 75/100\n",
      "778/778 [==============================] - 97s 125ms/step - loss: 747.3098 - mean_absolute_error: 19.9191 - root_mean_squared_error: 27.3370 - mean_absolute_percentage_error: 57656684.0000 - val_loss: 1164.5887 - val_mean_absolute_error: 23.3751 - val_root_mean_squared_error: 34.1261 - val_mean_absolute_percentage_error: 3892368.7500\n",
      "Epoch 76/100\n",
      "778/778 [==============================] - 103s 132ms/step - loss: 745.7576 - mean_absolute_error: 19.8978 - root_mean_squared_error: 27.3086 - mean_absolute_percentage_error: 57542228.0000 - val_loss: 1148.0496 - val_mean_absolute_error: 22.9780 - val_root_mean_squared_error: 33.8829 - val_mean_absolute_percentage_error: 4258093.5000\n",
      "Epoch 77/100\n",
      "778/778 [==============================] - 102s 131ms/step - loss: 748.3943 - mean_absolute_error: 19.9465 - root_mean_squared_error: 27.3568 - mean_absolute_percentage_error: 57916748.0000 - val_loss: 1145.6240 - val_mean_absolute_error: 23.0341 - val_root_mean_squared_error: 33.8471 - val_mean_absolute_percentage_error: 4189842.0000\n",
      "Epoch 78/100\n",
      "778/778 [==============================] - 102s 131ms/step - loss: 746.6987 - mean_absolute_error: 19.9240 - root_mean_squared_error: 27.3258 - mean_absolute_percentage_error: 58144312.0000 - val_loss: 1135.2783 - val_mean_absolute_error: 22.9947 - val_root_mean_squared_error: 33.6939 - val_mean_absolute_percentage_error: 4157036.7500\n",
      "Epoch 79/100\n",
      "778/778 [==============================] - 96s 124ms/step - loss: 748.9960 - mean_absolute_error: 19.9410 - root_mean_squared_error: 27.3678 - mean_absolute_percentage_error: 57620324.0000 - val_loss: 1132.5922 - val_mean_absolute_error: 22.8135 - val_root_mean_squared_error: 33.6540 - val_mean_absolute_percentage_error: 4484504.5000\n",
      "Epoch 80/100\n",
      "778/778 [==============================] - 104s 133ms/step - loss: 743.8592 - mean_absolute_error: 19.8837 - root_mean_squared_error: 27.2738 - mean_absolute_percentage_error: 57812504.0000 - val_loss: 1145.8966 - val_mean_absolute_error: 23.0528 - val_root_mean_squared_error: 33.8511 - val_mean_absolute_percentage_error: 4172841.2500\n",
      "Epoch 81/100\n",
      "778/778 [==============================] - 97s 124ms/step - loss: 745.1528 - mean_absolute_error: 19.9155 - root_mean_squared_error: 27.2975 - mean_absolute_percentage_error: 58351264.0000 - val_loss: 1141.5159 - val_mean_absolute_error: 22.8760 - val_root_mean_squared_error: 33.7863 - val_mean_absolute_percentage_error: 4124920.0000\n",
      "Epoch 82/100\n",
      "778/778 [==============================] - 101s 130ms/step - loss: 742.3188 - mean_absolute_error: 19.8496 - root_mean_squared_error: 27.2455 - mean_absolute_percentage_error: 57668860.0000 - val_loss: 1138.7880 - val_mean_absolute_error: 22.9264 - val_root_mean_squared_error: 33.7459 - val_mean_absolute_percentage_error: 4179253.2500\n",
      "Epoch 83/100\n",
      "778/778 [==============================] - 100s 129ms/step - loss: 743.1596 - mean_absolute_error: 19.8742 - root_mean_squared_error: 27.2609 - mean_absolute_percentage_error: 57666592.0000 - val_loss: 1138.3837 - val_mean_absolute_error: 23.0686 - val_root_mean_squared_error: 33.7400 - val_mean_absolute_percentage_error: 4020894.2500\n",
      "Epoch 84/100\n",
      "778/778 [==============================] - 94s 121ms/step - loss: 743.7006 - mean_absolute_error: 19.8876 - root_mean_squared_error: 27.2709 - mean_absolute_percentage_error: 57505136.0000 - val_loss: 1126.2009 - val_mean_absolute_error: 22.8760 - val_root_mean_squared_error: 33.5589 - val_mean_absolute_percentage_error: 4088044.7500\n",
      "Epoch 85/100\n",
      "778/778 [==============================] - 101s 130ms/step - loss: 741.6435 - mean_absolute_error: 19.8759 - root_mean_squared_error: 27.2331 - mean_absolute_percentage_error: 57525732.0000 - val_loss: 1157.3519 - val_mean_absolute_error: 23.1298 - val_root_mean_squared_error: 34.0199 - val_mean_absolute_percentage_error: 3993491.5000\n",
      "Epoch 86/100\n",
      "778/778 [==============================] - 98s 126ms/step - loss: 747.6365 - mean_absolute_error: 19.9233 - root_mean_squared_error: 27.3429 - mean_absolute_percentage_error: 57351816.0000 - val_loss: 1141.8391 - val_mean_absolute_error: 22.9903 - val_root_mean_squared_error: 33.7911 - val_mean_absolute_percentage_error: 4276089.5000\n",
      "Epoch 87/100\n",
      "778/778 [==============================] - 106s 136ms/step - loss: 745.2097 - mean_absolute_error: 19.8995 - root_mean_squared_error: 27.2985 - mean_absolute_percentage_error: 57817188.0000 - val_loss: 1109.9719 - val_mean_absolute_error: 22.6659 - val_root_mean_squared_error: 33.3162 - val_mean_absolute_percentage_error: 4193804.0000\n",
      "Epoch 88/100\n",
      "778/778 [==============================] - 96s 124ms/step - loss: 744.3051 - mean_absolute_error: 19.8876 - root_mean_squared_error: 27.2820 - mean_absolute_percentage_error: 57868944.0000 - val_loss: 1131.9434 - val_mean_absolute_error: 22.8244 - val_root_mean_squared_error: 33.6444 - val_mean_absolute_percentage_error: 4131296.5000\n",
      "Epoch 89/100\n",
      "778/778 [==============================] - 98s 126ms/step - loss: 742.1392 - mean_absolute_error: 19.8601 - root_mean_squared_error: 27.2422 - mean_absolute_percentage_error: 57517652.0000 - val_loss: 1125.1769 - val_mean_absolute_error: 22.9228 - val_root_mean_squared_error: 33.5437 - val_mean_absolute_percentage_error: 4118801.7500\n",
      "Epoch 90/100\n",
      "778/778 [==============================] - 101s 129ms/step - loss: 744.8677 - mean_absolute_error: 19.9110 - root_mean_squared_error: 27.2923 - mean_absolute_percentage_error: 57464484.0000 - val_loss: 1160.3171 - val_mean_absolute_error: 23.3192 - val_root_mean_squared_error: 34.0634 - val_mean_absolute_percentage_error: 4211761.0000\n",
      "Epoch 91/100\n",
      "778/778 [==============================] - 98s 126ms/step - loss: 743.1441 - mean_absolute_error: 19.8808 - root_mean_squared_error: 27.2607 - mean_absolute_percentage_error: 57657700.0000 - val_loss: 1153.7223 - val_mean_absolute_error: 23.0985 - val_root_mean_squared_error: 33.9665 - val_mean_absolute_percentage_error: 4474032.5000\n",
      "Epoch 92/100\n"
     ]
    },
    {
     "name": "stdout",
     "output_type": "stream",
     "text": [
      "778/778 [==============================] - 103s 132ms/step - loss: 744.7569 - mean_absolute_error: 19.8832 - root_mean_squared_error: 27.2902 - mean_absolute_percentage_error: 57843328.0000 - val_loss: 1149.7130 - val_mean_absolute_error: 23.2448 - val_root_mean_squared_error: 33.9074 - val_mean_absolute_percentage_error: 4165349.7500\n",
      "Epoch 93/100\n",
      "778/778 [==============================] - 98s 126ms/step - loss: 745.6946 - mean_absolute_error: 19.9021 - root_mean_squared_error: 27.3074 - mean_absolute_percentage_error: 57812892.0000 - val_loss: 1145.3585 - val_mean_absolute_error: 23.1688 - val_root_mean_squared_error: 33.8431 - val_mean_absolute_percentage_error: 4229565.5000\n",
      "Epoch 94/100\n",
      "778/778 [==============================] - 102s 131ms/step - loss: 743.0249 - mean_absolute_error: 19.8799 - root_mean_squared_error: 27.2585 - mean_absolute_percentage_error: 57921732.0000 - val_loss: 1147.9500 - val_mean_absolute_error: 22.9924 - val_root_mean_squared_error: 33.8814 - val_mean_absolute_percentage_error: 3875256.5000\n",
      "Epoch 95/100\n",
      "778/778 [==============================] - 97s 125ms/step - loss: 740.7166 - mean_absolute_error: 19.8325 - root_mean_squared_error: 27.2161 - mean_absolute_percentage_error: 57411544.0000 - val_loss: 1156.8956 - val_mean_absolute_error: 23.1856 - val_root_mean_squared_error: 34.0132 - val_mean_absolute_percentage_error: 3893966.5000\n",
      "Epoch 96/100\n",
      "778/778 [==============================] - 97s 125ms/step - loss: 743.4109 - mean_absolute_error: 19.8853 - root_mean_squared_error: 27.2656 - mean_absolute_percentage_error: 57552024.0000 - val_loss: 1129.6725 - val_mean_absolute_error: 22.7589 - val_root_mean_squared_error: 33.6106 - val_mean_absolute_percentage_error: 4052761.0000\n",
      "Epoch 97/100\n",
      "778/778 [==============================] - 103s 132ms/step - loss: 742.2476 - mean_absolute_error: 19.8523 - root_mean_squared_error: 27.2442 - mean_absolute_percentage_error: 57394484.0000 - val_loss: 1142.8049 - val_mean_absolute_error: 23.0510 - val_root_mean_squared_error: 33.8054 - val_mean_absolute_percentage_error: 4362383.5000\n",
      "Epoch 98/100\n",
      "778/778 [==============================] - 98s 126ms/step - loss: 740.7868 - mean_absolute_error: 19.8594 - root_mean_squared_error: 27.2174 - mean_absolute_percentage_error: 57714928.0000 - val_loss: 1170.9000 - val_mean_absolute_error: 23.4531 - val_root_mean_squared_error: 34.2184 - val_mean_absolute_percentage_error: 3645599.0000\n",
      "Epoch 99/100\n",
      "778/778 [==============================] - 98s 126ms/step - loss: 741.6089 - mean_absolute_error: 19.8336 - root_mean_squared_error: 27.2325 - mean_absolute_percentage_error: 57593076.0000 - val_loss: 1125.3627 - val_mean_absolute_error: 22.7941 - val_root_mean_squared_error: 33.5464 - val_mean_absolute_percentage_error: 4295749.5000\n",
      "Epoch 100/100\n",
      "778/778 [==============================] - 96s 123ms/step - loss: 742.5210 - mean_absolute_error: 19.8587 - root_mean_squared_error: 27.2492 - mean_absolute_percentage_error: 57645192.0000 - val_loss: 1169.4357 - val_mean_absolute_error: 23.3241 - val_root_mean_squared_error: 34.1970 - val_mean_absolute_percentage_error: 4057646.2500\n"
     ]
    },
    {
     "data": {
      "text/plain": [
       "<keras.callbacks.History at 0x29564a7c760>"
      ]
     },
     "execution_count": 96,
     "metadata": {},
     "output_type": "execute_result"
    }
   ],
   "source": [
    "model30.fit((Wt30,Xt30), yt30, validation_split = val_percent,\n",
    "            epochs = 100, \n",
    "            verbose = 1)"
   ]
  },
  {
   "cell_type": "code",
   "execution_count": 97,
   "metadata": {},
   "outputs": [],
   "source": [
    "metrics30 = pd.DataFrame(model30.history.history)"
   ]
  },
  {
   "cell_type": "code",
   "execution_count": 98,
   "metadata": {},
   "outputs": [],
   "source": [
    "# fig = plt.figure(figsize=(6,4))\n",
    "\n",
    "# # Add set of axes to figure\n",
    "# axes = fig.add_axes([0, 0, 1, 1]) \n",
    "# axes2 = fig.add_axes([0.3, 0.35, 0.5, 0.5]) # Smaller figure\n",
    "# axes.plot(metrics30[['loss','val_loss']], label=['train_loss','val_loss'], lw=4)\n",
    "# axes.set_ylim(0,4000)\n",
    "\n",
    "# axes2.plot(metrics30[['loss','val_loss']], lw=4)\n",
    "# axes2.set_xlim(0,20)\n",
    "# axes2.set_ylim(500,1500)\n",
    "# # plt.xticks(visible=False)\n",
    "# plt.yticks(visible=False)\n",
    "\n",
    "# axes.set_xlabel('Epoch')\n",
    "# axes.set_ylabel('Loss')\n",
    "# axes.grid()\n",
    "# axes2.grid()\n",
    "\n",
    "# mark_inset(axes, axes2, loc1=2, loc2=4, fc=\"0.9\", ec=\"0.1\", ls='--')\n",
    "# axes.yaxis.set_major_formatter(formatter)"
   ]
  },
  {
   "cell_type": "code",
   "execution_count": 99,
   "metadata": {},
   "outputs": [
    {
     "name": "stderr",
     "output_type": "stream",
     "text": [
      "WARNING:absl:Function `_wrapped_model` contains input name(s) WideInput, DeepInput with unsupported characters which will be renamed to wideinput, deepinput in the SavedModel.\n",
      "WARNING:absl:Found untraced functions such as lstm_cell_11_layer_call_and_return_conditional_losses, lstm_cell_11_layer_call_fn, lstm_cell_9_layer_call_and_return_conditional_losses, lstm_cell_9_layer_call_fn, lstm_cell_10_layer_call_and_return_conditional_losses while saving (showing 5 of 15). These functions will not be directly callable after loading.\n"
     ]
    },
    {
     "name": "stdout",
     "output_type": "stream",
     "text": [
      "INFO:tensorflow:Assets written to: my_dir/10b-30\\assets\n"
     ]
    },
    {
     "name": "stderr",
     "output_type": "stream",
     "text": [
      "INFO:tensorflow:Assets written to: my_dir/10b-30\\assets\n"
     ]
    }
   ],
   "source": [
    "model30.save(\"my_dir/10b-30\")"
   ]
  },
  {
   "cell_type": "code",
   "execution_count": 100,
   "metadata": {},
   "outputs": [],
   "source": [
    "model30 = keras.models.load_model(\"my_dir/10b-30\")"
   ]
  },
  {
   "cell_type": "code",
   "execution_count": 101,
   "metadata": {},
   "outputs": [
    {
     "data": {
      "text/plain": [
       "array([[ 55.39309 ,  55.7585  ,  62.583168, ...,  58.08758 ,  31.142359,\n",
       "         31.483368],\n",
       "       [ 51.659477,  51.858246,  58.35119 , ...,  54.793087,  29.16076 ,\n",
       "         29.723816],\n",
       "       [ 52.59452 ,  52.509705,  59.176918, ...,  56.69293 ,  31.886744,\n",
       "         32.2641  ],\n",
       "       ...,\n",
       "       [130.54787 , 132.92613 , 144.84274 , ..., 135.17789 ,  90.315254,\n",
       "         82.804474],\n",
       "       [126.67985 , 129.11116 , 141.58563 , ..., 131.68103 ,  87.256294,\n",
       "         79.60339 ],\n",
       "       [117.58409 , 120.67651 , 131.24968 , ..., 122.61566 ,  76.83633 ,\n",
       "         71.24238 ]], dtype=float32)"
      ]
     },
     "execution_count": 101,
     "metadata": {},
     "output_type": "execute_result"
    }
   ],
   "source": [
    "model30.predict((Wv30,Xv30))"
   ]
  },
  {
   "cell_type": "markdown",
   "metadata": {},
   "source": [
    "# 60 mins ahead"
   ]
  },
  {
   "cell_type": "code",
   "execution_count": 104,
   "metadata": {},
   "outputs": [],
   "source": [
    "def build_model_60(hp):\n",
    "    # Inputs\n",
    "    channel_Wide = keras.layers.Input(shape=Wt60.shape[1:], name=\"WideInput\")\n",
    "    channel_Deep = keras.layers.Input(shape=Xt60.shape[1:], name=\"DeepInput\")\n",
    "    units = hp.Int(\"units\", min_value=1, max_value=100, step=1)\n",
    "    \n",
    "    \n",
    "    # Wide Model\n",
    "    flatten_60w = keras.layers.TimeDistributed(keras.layers.Flatten())(channel_Wide)\n",
    "    Bi_60 = keras.layers.Bidirectional(\n",
    "        keras.layers.LSTM(units=units, return_sequences=True),\n",
    "        merge_mode=\"ave\"\n",
    "    )(flatten_60w)\n",
    "    \n",
    "    \n",
    "    # Deep Model\n",
    "    # CNN \n",
    "    CNN_60 = keras.layers.TimeDistributed(\n",
    "        keras.layers.Conv2D(filters=hp.Int(\"filters\", min_value=32, max_value=512, step=32),\n",
    "                            kernel_size=hp.Choice(\"kernel_size\", [2, 3]), activation='relu'))(channel_Deep)\n",
    "    flatten_60 = keras.layers.TimeDistributed(keras.layers.Flatten())(CNN_60)\n",
    "    # LSTM          \n",
    "    LSTM_60 = keras.layers.LSTM(units=units, return_sequences=True)(flatten_60)\n",
    "\n",
    "    \n",
    "    # Concatenation \n",
    "    concat = keras.layers.concatenate([Bi_60, LSTM_60], axis=1)\n",
    "\n",
    "    # Attention\n",
    "    Att_60 = SeqSelfAttention(attention_activation='sigmoid')(concat)\n",
    "    merge = keras.layers.Flatten()(concat)\n",
    "\n",
    "    \n",
    "    # Output\n",
    "    output = keras.layers.Dense(n_features, name= \"output\")(merge)\n",
    "    \n",
    "    # Model\n",
    "    model_60 = keras.Model(inputs=[channel_Wide,channel_Deep], outputs=[output])\n",
    "\n",
    "    # Compile\n",
    "    model_60.compile(optimizer=keras.optimizers.Adam(hp.Choice(\"learning_rate\", [1e-2, 1e-3, 1e-4])), \n",
    "        loss=\"mse\", metrics=['MeanAbsoluteError','RootMeanSquaredError','MeanAbsolutePercentageError'])\n",
    "                    \n",
    "    return model_60"
   ]
  },
  {
   "cell_type": "code",
   "execution_count": 105,
   "metadata": {},
   "outputs": [],
   "source": [
    "tuner60 = RandomSearch(\n",
    "    build_model_60,\n",
    "    objective=\"val_loss\",\n",
    "    max_trials=10,\n",
    "    executions_per_trial=2,\n",
    "    overwrite=False,\n",
    "    directory=os.path.normpath('C:/Runs'),\n",
    "    project_name=\"10b-60\",\n",
    ")"
   ]
  },
  {
   "cell_type": "code",
   "execution_count": 106,
   "metadata": {},
   "outputs": [
    {
     "name": "stdout",
     "output_type": "stream",
     "text": [
      "Search space summary\n",
      "Default search space size: 4\n",
      "units (Int)\n",
      "{'default': None, 'conditions': [], 'min_value': 1, 'max_value': 100, 'step': 1, 'sampling': 'linear'}\n",
      "filters (Int)\n",
      "{'default': None, 'conditions': [], 'min_value': 32, 'max_value': 512, 'step': 32, 'sampling': 'linear'}\n",
      "kernel_size (Choice)\n",
      "{'default': 2, 'conditions': [], 'values': [2, 3], 'ordered': True}\n",
      "learning_rate (Choice)\n",
      "{'default': 0.01, 'conditions': [], 'values': [0.01, 0.001, 0.0001], 'ordered': True}\n"
     ]
    }
   ],
   "source": [
    "tuner60.search_space_summary()"
   ]
  },
  {
   "cell_type": "code",
   "execution_count": 107,
   "metadata": {},
   "outputs": [
    {
     "name": "stdout",
     "output_type": "stream",
     "text": [
      "Trial 10 Complete [01h 15m 17s]\n",
      "val_loss: 1130.6312255859375\n",
      "\n",
      "Best val_loss So Far: 1130.6312255859375\n",
      "Total elapsed time: 14h 20m 56s\n",
      "INFO:tensorflow:Oracle triggered exit\n"
     ]
    },
    {
     "name": "stderr",
     "output_type": "stream",
     "text": [
      "INFO:tensorflow:Oracle triggered exit\n"
     ]
    }
   ],
   "source": [
    "tuner60.search((Wt60,Xt60), yt60, epochs=200,\n",
    "            validation_split = val_percent,\n",
    "            callbacks=[early_stop],\n",
    "            verbose=2)"
   ]
  },
  {
   "cell_type": "code",
   "execution_count": 108,
   "metadata": {},
   "outputs": [
    {
     "name": "stdout",
     "output_type": "stream",
     "text": [
      "Results summary\n",
      "Results in C:\\Runs\\10b-60\n",
      "Showing 1 best trials\n",
      "Objective(name=\"val_loss\", direction=\"min\")\n",
      "\n",
      "Trial 09 summary\n",
      "Hyperparameters:\n",
      "units: 96\n",
      "filters: 320\n",
      "kernel_size: 3\n",
      "learning_rate: 0.001\n",
      "Score: 1130.6312255859375\n"
     ]
    }
   ],
   "source": [
    "tuner60.results_summary(1)"
   ]
  },
  {
   "cell_type": "markdown",
   "metadata": {},
   "source": [
    "### Best model"
   ]
  },
  {
   "cell_type": "code",
   "execution_count": 109,
   "metadata": {},
   "outputs": [],
   "source": [
    "best_hp60 = tuner60.get_best_hyperparameters()[0]\n",
    "model60 = tuner60.hypermodel.build(best_hp60)"
   ]
  },
  {
   "cell_type": "code",
   "execution_count": 110,
   "metadata": {},
   "outputs": [
    {
     "data": {
      "text/plain": [
       "['Best_HP/10b-60']"
      ]
     },
     "execution_count": 110,
     "metadata": {},
     "output_type": "execute_result"
    }
   ],
   "source": [
    "scaler_filename = \"Best_HP/10b-60\"\n",
    "joblib.dump(best_hp60, scaler_filename) "
   ]
  },
  {
   "cell_type": "code",
   "execution_count": 111,
   "metadata": {},
   "outputs": [],
   "source": [
    "scaler_filename = \"Best_HP/10b-60\"\n",
    "best_hp60 = joblib.load(scaler_filename) \n",
    "\n",
    "model60 = tuner60.hypermodel.build(best_hp60)"
   ]
  },
  {
   "cell_type": "code",
   "execution_count": 112,
   "metadata": {},
   "outputs": [
    {
     "name": "stdout",
     "output_type": "stream",
     "text": [
      "Model: \"model_2\"\n",
      "__________________________________________________________________________________________________\n",
      "Layer (type)                    Output Shape         Param #     Connected to                     \n",
      "==================================================================================================\n",
      "DeepInput (InputLayer)          [(None, 3, 5, 15, 7) 0                                            \n",
      "__________________________________________________________________________________________________\n",
      "WideInput (InputLayer)          [(None, 3, 3, 7)]    0                                            \n",
      "__________________________________________________________________________________________________\n",
      "time_distributed_7 (TimeDistrib (None, 3, 3, 13, 320 20480       DeepInput[0][0]                  \n",
      "__________________________________________________________________________________________________\n",
      "time_distributed_6 (TimeDistrib (None, 3, 21)        0           WideInput[0][0]                  \n",
      "__________________________________________________________________________________________________\n",
      "time_distributed_8 (TimeDistrib (None, 3, 12480)     0           time_distributed_7[0][0]         \n",
      "__________________________________________________________________________________________________\n",
      "bidirectional_2 (Bidirectional) (None, 3, 96)        90624       time_distributed_6[0][0]         \n",
      "__________________________________________________________________________________________________\n",
      "lstm_5 (LSTM)                   (None, 3, 96)        4829568     time_distributed_8[0][0]         \n",
      "__________________________________________________________________________________________________\n",
      "concatenate_2 (Concatenate)     (None, 6, 96)        0           bidirectional_2[0][0]            \n",
      "                                                                 lstm_5[0][0]                     \n",
      "__________________________________________________________________________________________________\n",
      "flatten_8 (Flatten)             (None, 576)          0           concatenate_2[0][0]              \n",
      "__________________________________________________________________________________________________\n",
      "output (Dense)                  (None, 7)            4039        flatten_8[0][0]                  \n",
      "==================================================================================================\n",
      "Total params: 4,944,711\n",
      "Trainable params: 4,944,711\n",
      "Non-trainable params: 0\n",
      "__________________________________________________________________________________________________\n"
     ]
    }
   ],
   "source": [
    "model60.summary()"
   ]
  },
  {
   "cell_type": "code",
   "execution_count": 113,
   "metadata": {},
   "outputs": [
    {
     "name": "stdout",
     "output_type": "stream",
     "text": [
      "Epoch 1/100\n",
      "777/777 [==============================] - 91s 103ms/step - loss: 18494.5723 - mean_absolute_error: 98.2682 - root_mean_squared_error: 135.9947 - mean_absolute_percentage_error: 61388516.0000 - val_loss: 3116.4819 - val_mean_absolute_error: 39.5535 - val_root_mean_squared_error: 55.8255 - val_mean_absolute_percentage_error: 5376163.5000\n",
      "Epoch 2/100\n",
      "777/777 [==============================] - 80s 103ms/step - loss: 1754.3810 - mean_absolute_error: 29.8845 - root_mean_squared_error: 41.8853 - mean_absolute_percentage_error: 67687272.0000 - val_loss: 1429.5996 - val_mean_absolute_error: 26.7572 - val_root_mean_squared_error: 37.8100 - val_mean_absolute_percentage_error: 5001290.0000\n",
      "Epoch 3/100\n",
      "777/777 [==============================] - 76s 97ms/step - loss: 1034.3583 - mean_absolute_error: 23.5606 - root_mean_squared_error: 32.1614 - mean_absolute_percentage_error: 64667424.0000 - val_loss: 1237.2972 - val_mean_absolute_error: 24.5127 - val_root_mean_squared_error: 35.1752 - val_mean_absolute_percentage_error: 4788928.0000\n",
      "Epoch 4/100\n",
      "777/777 [==============================] - 80s 102ms/step - loss: 922.9174 - mean_absolute_error: 22.2336 - root_mean_squared_error: 30.3795 - mean_absolute_percentage_error: 62982876.0000 - val_loss: 1239.3240 - val_mean_absolute_error: 24.4951 - val_root_mean_squared_error: 35.2040 - val_mean_absolute_percentage_error: 4540890.0000\n",
      "Epoch 5/100\n",
      "777/777 [==============================] - 82s 106ms/step - loss: 891.6626 - mean_absolute_error: 21.8428 - root_mean_squared_error: 29.8607 - mean_absolute_percentage_error: 61893120.0000 - val_loss: 1210.5386 - val_mean_absolute_error: 24.0460 - val_root_mean_squared_error: 34.7928 - val_mean_absolute_percentage_error: 4405401.5000\n",
      "Epoch 6/100\n",
      "777/777 [==============================] - 81s 105ms/step - loss: 874.0076 - mean_absolute_error: 21.6151 - root_mean_squared_error: 29.5636 - mean_absolute_percentage_error: 60936628.0000 - val_loss: 1204.4420 - val_mean_absolute_error: 23.9289 - val_root_mean_squared_error: 34.7051 - val_mean_absolute_percentage_error: 4217967.5000\n",
      "Epoch 7/100\n",
      "777/777 [==============================] - 80s 103ms/step - loss: 859.0255 - mean_absolute_error: 21.4321 - root_mean_squared_error: 29.3091 - mean_absolute_percentage_error: 60069876.0000 - val_loss: 1207.4918 - val_mean_absolute_error: 23.9284 - val_root_mean_squared_error: 34.7490 - val_mean_absolute_percentage_error: 4191169.0000\n",
      "Epoch 8/100\n",
      "777/777 [==============================] - 80s 103ms/step - loss: 848.6586 - mean_absolute_error: 21.3127 - root_mean_squared_error: 29.1317 - mean_absolute_percentage_error: 59725700.0000 - val_loss: 1211.7883 - val_mean_absolute_error: 23.8944 - val_root_mean_squared_error: 34.8107 - val_mean_absolute_percentage_error: 4132436.2500\n",
      "Epoch 9/100\n",
      "777/777 [==============================] - 79s 102ms/step - loss: 841.2476 - mean_absolute_error: 21.2252 - root_mean_squared_error: 29.0043 - mean_absolute_percentage_error: 59813148.0000 - val_loss: 1195.4034 - val_mean_absolute_error: 23.7067 - val_root_mean_squared_error: 34.5746 - val_mean_absolute_percentage_error: 4021957.7500\n",
      "Epoch 10/100\n",
      "777/777 [==============================] - 80s 103ms/step - loss: 831.9557 - mean_absolute_error: 21.0994 - root_mean_squared_error: 28.8436 - mean_absolute_percentage_error: 59651372.0000 - val_loss: 1228.6128 - val_mean_absolute_error: 23.9385 - val_root_mean_squared_error: 35.0516 - val_mean_absolute_percentage_error: 3986492.0000\n",
      "Epoch 11/100\n",
      "777/777 [==============================] - 77s 99ms/step - loss: 827.1050 - mean_absolute_error: 21.0219 - root_mean_squared_error: 28.7594 - mean_absolute_percentage_error: 59808208.0000 - val_loss: 1183.0084 - val_mean_absolute_error: 23.5631 - val_root_mean_squared_error: 34.3949 - val_mean_absolute_percentage_error: 4089339.0000\n",
      "Epoch 12/100\n",
      "777/777 [==============================] - 80s 103ms/step - loss: 818.9965 - mean_absolute_error: 20.9055 - root_mean_squared_error: 28.6181 - mean_absolute_percentage_error: 59713272.0000 - val_loss: 1233.8485 - val_mean_absolute_error: 24.1840 - val_root_mean_squared_error: 35.1262 - val_mean_absolute_percentage_error: 4055020.0000\n",
      "Epoch 13/100\n",
      "777/777 [==============================] - 80s 103ms/step - loss: 812.9048 - mean_absolute_error: 20.8102 - root_mean_squared_error: 28.5115 - mean_absolute_percentage_error: 59809036.0000 - val_loss: 1200.3447 - val_mean_absolute_error: 23.7226 - val_root_mean_squared_error: 34.6460 - val_mean_absolute_percentage_error: 4171456.5000\n",
      "Epoch 14/100\n",
      "777/777 [==============================] - 80s 102ms/step - loss: 805.2162 - mean_absolute_error: 20.6761 - root_mean_squared_error: 28.3763 - mean_absolute_percentage_error: 59749256.0000 - val_loss: 1173.0090 - val_mean_absolute_error: 23.2873 - val_root_mean_squared_error: 34.2492 - val_mean_absolute_percentage_error: 4108503.2500\n",
      "Epoch 15/100\n",
      "777/777 [==============================] - 82s 105ms/step - loss: 799.5159 - mean_absolute_error: 20.5923 - root_mean_squared_error: 28.2757 - mean_absolute_percentage_error: 59625028.0000 - val_loss: 1169.9543 - val_mean_absolute_error: 23.2389 - val_root_mean_squared_error: 34.2046 - val_mean_absolute_percentage_error: 3986958.7500\n",
      "Epoch 16/100\n",
      "777/777 [==============================] - 78s 101ms/step - loss: 795.2548 - mean_absolute_error: 20.5290 - root_mean_squared_error: 28.2003 - mean_absolute_percentage_error: 59596876.0000 - val_loss: 1181.7980 - val_mean_absolute_error: 23.4552 - val_root_mean_squared_error: 34.3773 - val_mean_absolute_percentage_error: 3986470.5000\n",
      "Epoch 17/100\n",
      "777/777 [==============================] - 79s 101ms/step - loss: 791.3680 - mean_absolute_error: 20.4613 - root_mean_squared_error: 28.1313 - mean_absolute_percentage_error: 59316908.0000 - val_loss: 1165.9622 - val_mean_absolute_error: 23.3167 - val_root_mean_squared_error: 34.1462 - val_mean_absolute_percentage_error: 3939193.0000\n",
      "Epoch 18/100\n",
      "777/777 [==============================] - 81s 104ms/step - loss: 789.7607 - mean_absolute_error: 20.4299 - root_mean_squared_error: 28.1027 - mean_absolute_percentage_error: 59089304.0000 - val_loss: 1162.4154 - val_mean_absolute_error: 23.0999 - val_root_mean_squared_error: 34.0942 - val_mean_absolute_percentage_error: 4005880.7500ute_error: 20.4627 - root_mean_squared_error: 2\n",
      "Epoch 19/100\n",
      "777/777 [==============================] - 77s 99ms/step - loss: 785.0711 - mean_absolute_error: 20.3761 - root_mean_squared_error: 28.0191 - mean_absolute_percentage_error: 59107100.0000 - val_loss: 1171.6553 - val_mean_absolute_error: 23.2101 - val_root_mean_squared_error: 34.2295 - val_mean_absolute_percentage_error: 3881394.2500\n",
      "Epoch 20/100\n",
      "777/777 [==============================] - 77s 99ms/step - loss: 783.9062 - mean_absolute_error: 20.3643 - root_mean_squared_error: 27.9983 - mean_absolute_percentage_error: 58835328.0000 - val_loss: 1160.1635 - val_mean_absolute_error: 23.0838 - val_root_mean_squared_error: 34.0612 - val_mean_absolute_percentage_error: 3927058.5000\n",
      "Epoch 21/100\n",
      "777/777 [==============================] - 79s 102ms/step - loss: 783.1526 - mean_absolute_error: 20.3462 - root_mean_squared_error: 27.9849 - mean_absolute_percentage_error: 59033972.0000 - val_loss: 1156.4275 - val_mean_absolute_error: 23.0794 - val_root_mean_squared_error: 34.0063 - val_mean_absolute_percentage_error: 3908791.5000\n",
      "Epoch 22/100\n",
      "777/777 [==============================] - 79s 101ms/step - loss: 781.8869 - mean_absolute_error: 20.3336 - root_mean_squared_error: 27.9622 - mean_absolute_percentage_error: 58561960.0000 - val_loss: 1155.9657 - val_mean_absolute_error: 23.1396 - val_root_mean_squared_error: 33.9995 - val_mean_absolute_percentage_error: 3950859.7500\n",
      "Epoch 23/100\n",
      "777/777 [==============================] - 78s 100ms/step - loss: 779.5602 - mean_absolute_error: 20.3064 - root_mean_squared_error: 27.9206 - mean_absolute_percentage_error: 58586444.0000 - val_loss: 1156.4841 - val_mean_absolute_error: 23.1198 - val_root_mean_squared_error: 34.0071 - val_mean_absolute_percentage_error: 3916638.5000\n",
      "Epoch 24/100\n",
      "777/777 [==============================] - 77s 99ms/step - loss: 779.5309 - mean_absolute_error: 20.3140 - root_mean_squared_error: 27.9201 - mean_absolute_percentage_error: 58479676.0000 - val_loss: 1149.4003 - val_mean_absolute_error: 23.0066 - val_root_mean_squared_error: 33.9028 - val_mean_absolute_percentage_error: 4026382.2500\n",
      "Epoch 25/100\n",
      "777/777 [==============================] - 78s 100ms/step - loss: 779.1339 - mean_absolute_error: 20.3032 - root_mean_squared_error: 27.9130 - mean_absolute_percentage_error: 58521028.0000 - val_loss: 1154.9412 - val_mean_absolute_error: 23.0933 - val_root_mean_squared_error: 33.9844 - val_mean_absolute_percentage_error: 3890458.0000\n",
      "Epoch 26/100\n",
      "777/777 [==============================] - 79s 102ms/step - loss: 776.2515 - mean_absolute_error: 20.2510 - root_mean_squared_error: 27.8613 - mean_absolute_percentage_error: 58464688.0000 - val_loss: 1147.4773 - val_mean_absolute_error: 22.9796 - val_root_mean_squared_error: 33.8744 - val_mean_absolute_percentage_error: 3927779.0000\n",
      "Epoch 27/100\n",
      "777/777 [==============================] - 76s 97ms/step - loss: 773.3079 - mean_absolute_error: 20.2170 - root_mean_squared_error: 27.8084 - mean_absolute_percentage_error: 58509204.0000 - val_loss: 1148.0963 - val_mean_absolute_error: 22.9575 - val_root_mean_squared_error: 33.8836 - val_mean_absolute_percentage_error: 3944772.7500\n",
      "Epoch 28/100\n",
      "777/777 [==============================] - 79s 101ms/step - loss: 771.2653 - mean_absolute_error: 20.1987 - root_mean_squared_error: 27.7717 - mean_absolute_percentage_error: 58304048.0000 - val_loss: 1192.2734 - val_mean_absolute_error: 23.7236 - val_root_mean_squared_error: 34.5293 - val_mean_absolute_percentage_error: 3937094.7500\n",
      "Epoch 29/100\n",
      "777/777 [==============================] - 78s 100ms/step - loss: 770.2137 - mean_absolute_error: 20.1846 - root_mean_squared_error: 27.7527 - mean_absolute_percentage_error: 58366676.0000 - val_loss: 1140.7831 - val_mean_absolute_error: 22.9406 - val_root_mean_squared_error: 33.7755 - val_mean_absolute_percentage_error: 3876143.0000\n",
      "Epoch 30/100\n",
      "777/777 [==============================] - 76s 98ms/step - loss: 769.5889 - mean_absolute_error: 20.1783 - root_mean_squared_error: 27.7415 - mean_absolute_percentage_error: 58297436.0000 - val_loss: 1132.4001 - val_mean_absolute_error: 22.8518 - val_root_mean_squared_error: 33.6512 - val_mean_absolute_percentage_error: 3901376.7500\n",
      "Epoch 31/100\n",
      "777/777 [==============================] - 78s 100ms/step - loss: 768.3130 - mean_absolute_error: 20.1747 - root_mean_squared_error: 27.7185 - mean_absolute_percentage_error: 58278724.0000 - val_loss: 1189.1743 - val_mean_absolute_error: 23.6047 - val_root_mean_squared_error: 34.4844 - val_mean_absolute_percentage_error: 3807257.7500\n",
      "Epoch 32/100\n",
      "777/777 [==============================] - 79s 101ms/step - loss: 768.3423 - mean_absolute_error: 20.1629 - root_mean_squared_error: 27.7190 - mean_absolute_percentage_error: 58240796.0000 - val_loss: 1135.2438 - val_mean_absolute_error: 22.8754 - val_root_mean_squared_error: 33.6934 - val_mean_absolute_percentage_error: 3844131.5000\n",
      "Epoch 33/100\n",
      "777/777 [==============================] - 76s 98ms/step - loss: 763.9874 - mean_absolute_error: 20.1089 - root_mean_squared_error: 27.6403 - mean_absolute_percentage_error: 58147072.0000 - val_loss: 1141.3718 - val_mean_absolute_error: 22.9111 - val_root_mean_squared_error: 33.7842 - val_mean_absolute_percentage_error: 3891947.5000\n",
      "Epoch 34/100\n",
      "777/777 [==============================] - 79s 101ms/step - loss: 764.5016 - mean_absolute_error: 20.1129 - root_mean_squared_error: 27.6496 - mean_absolute_percentage_error: 58245296.0000 - val_loss: 1147.4438 - val_mean_absolute_error: 23.1088 - val_root_mean_squared_error: 33.8739 - val_mean_absolute_percentage_error: 3812609.7500\n",
      "Epoch 35/100\n",
      "777/777 [==============================] - 80s 103ms/step - loss: 762.3575 - mean_absolute_error: 20.0863 - root_mean_squared_error: 27.6108 - mean_absolute_percentage_error: 58081496.0000 - val_loss: 1124.5586 - val_mean_absolute_error: 22.7591 - val_root_mean_squared_error: 33.5344 - val_mean_absolute_percentage_error: 3781711.7500\n",
      "Epoch 36/100\n",
      "777/777 [==============================] - 76s 98ms/step - loss: 761.7313 - mean_absolute_error: 20.0827 - root_mean_squared_error: 27.5995 - mean_absolute_percentage_error: 58395624.0000 - val_loss: 1138.6921 - val_mean_absolute_error: 22.8574 - val_root_mean_squared_error: 33.7445 - val_mean_absolute_percentage_error: 3894263.7500\n",
      "Epoch 37/100\n",
      "777/777 [==============================] - 81s 104ms/step - loss: 759.3472 - mean_absolute_error: 20.0516 - root_mean_squared_error: 27.5563 - mean_absolute_percentage_error: 58177760.0000 - val_loss: 1120.9877 - val_mean_absolute_error: 22.7452 - val_root_mean_squared_error: 33.4812 - val_mean_absolute_percentage_error: 3983343.2500\n",
      "Epoch 38/100\n",
      "777/777 [==============================] - 77s 99ms/step - loss: 757.2606 - mean_absolute_error: 20.0222 - root_mean_squared_error: 27.5184 - mean_absolute_percentage_error: 58192452.0000 - val_loss: 1148.3650 - val_mean_absolute_error: 22.8966 - val_root_mean_squared_error: 33.8875 - val_mean_absolute_percentage_error: 3766342.7500\n",
      "Epoch 39/100\n",
      "777/777 [==============================] - 77s 100ms/step - loss: 756.0681 - mean_absolute_error: 20.0107 - root_mean_squared_error: 27.4967 - mean_absolute_percentage_error: 58043440.0000 - val_loss: 1139.9370 - val_mean_absolute_error: 22.8745 - val_root_mean_squared_error: 33.7630 - val_mean_absolute_percentage_error: 3801807.2500\n",
      "Epoch 40/100\n",
      "777/777 [==============================] - 81s 104ms/step - loss: 755.6261 - mean_absolute_error: 20.0017 - root_mean_squared_error: 27.4887 - mean_absolute_percentage_error: 58195172.0000 - val_loss: 1128.6157 - val_mean_absolute_error: 22.8113 - val_root_mean_squared_error: 33.5949 - val_mean_absolute_percentage_error: 3801508.7500\n",
      "Epoch 41/100\n",
      "777/777 [==============================] - 75s 97ms/step - loss: 753.4622 - mean_absolute_error: 19.9807 - root_mean_squared_error: 27.4493 - mean_absolute_percentage_error: 57818968.0000 - val_loss: 1145.0481 - val_mean_absolute_error: 22.9868 - val_root_mean_squared_error: 33.8386 - val_mean_absolute_percentage_error: 3841223.7500\n",
      "Epoch 42/100\n",
      "777/777 [==============================] - 77s 99ms/step - loss: 751.2355 - mean_absolute_error: 19.9598 - root_mean_squared_error: 27.4087 - mean_absolute_percentage_error: 58229260.0000 - val_loss: 1160.6362 - val_mean_absolute_error: 23.2221 - val_root_mean_squared_error: 34.0681 - val_mean_absolute_percentage_error: 3780788.2500\n",
      "Epoch 43/100\n",
      "777/777 [==============================] - 82s 105ms/step - loss: 752.1383 - mean_absolute_error: 19.9657 - root_mean_squared_error: 27.4251 - mean_absolute_percentage_error: 58005596.0000 - val_loss: 1143.7887 - val_mean_absolute_error: 22.8472 - val_root_mean_squared_error: 33.8199 - val_mean_absolute_percentage_error: 3991513.5000\n",
      "Epoch 44/100\n",
      "777/777 [==============================] - 76s 98ms/step - loss: 750.3956 - mean_absolute_error: 19.9402 - root_mean_squared_error: 27.3933 - mean_absolute_percentage_error: 58349112.0000 - val_loss: 1128.5428 - val_mean_absolute_error: 22.7307 - val_root_mean_squared_error: 33.5938 - val_mean_absolute_percentage_error: 3884871.2500\n",
      "Epoch 45/100\n",
      "777/777 [==============================] - 80s 104ms/step - loss: 748.1039 - mean_absolute_error: 19.9063 - root_mean_squared_error: 27.3515 - mean_absolute_percentage_error: 58042088.0000 - val_loss: 1123.9280 - val_mean_absolute_error: 22.7087 - val_root_mean_squared_error: 33.5250 - val_mean_absolute_percentage_error: 3964695.7500\n",
      "Epoch 46/100\n",
      "777/777 [==============================] - 77s 99ms/step - loss: 747.7448 - mean_absolute_error: 19.9250 - root_mean_squared_error: 27.3449 - mean_absolute_percentage_error: 58104268.0000 - val_loss: 1133.3191 - val_mean_absolute_error: 22.8606 - val_root_mean_squared_error: 33.6648 - val_mean_absolute_percentage_error: 3838452.5000\n",
      "Epoch 47/100\n"
     ]
    },
    {
     "name": "stdout",
     "output_type": "stream",
     "text": [
      "777/777 [==============================] - 77s 99ms/step - loss: 748.1889 - mean_absolute_error: 19.9068 - root_mean_squared_error: 27.3530 - mean_absolute_percentage_error: 58211752.0000 - val_loss: 1130.2010 - val_mean_absolute_error: 22.7579 - val_root_mean_squared_error: 33.6185 - val_mean_absolute_percentage_error: 3812479.5000\n",
      "Epoch 48/100\n",
      "777/777 [==============================] - 78s 100ms/step - loss: 746.3524 - mean_absolute_error: 19.8984 - root_mean_squared_error: 27.3195 - mean_absolute_percentage_error: 58092552.0000 - val_loss: 1119.2191 - val_mean_absolute_error: 22.6916 - val_root_mean_squared_error: 33.4547 - val_mean_absolute_percentage_error: 3866293.2500370 - mean_absolute_error: 19.9438 - root_mean_squared_error: 27.4051 - mean_absolute_percentage_error: 62153100.00 - ETA: 18s - loss: 750.8375 - mean_absolute_e - ETA: 13s - loss: 747.7918 - mean_absolute_error: 19.9145 - root_m - ETA: 10s - loss: 748.70\n",
      "Epoch 49/100\n",
      "777/777 [==============================] - 80s 103ms/step - loss: 747.0071 - mean_absolute_error: 19.8961 - root_mean_squared_error: 27.3314 - mean_absolute_percentage_error: 57983292.0000 - val_loss: 1130.1603 - val_mean_absolute_error: 22.7945 - val_root_mean_squared_error: 33.6179 - val_mean_absolute_percentage_error: 3877607.0000\n",
      "Epoch 50/100\n",
      "777/777 [==============================] - 76s 98ms/step - loss: 745.2507 - mean_absolute_error: 19.8789 - root_mean_squared_error: 27.2993 - mean_absolute_percentage_error: 58052964.0000 - val_loss: 1127.8660 - val_mean_absolute_error: 22.7111 - val_root_mean_squared_error: 33.5837 - val_mean_absolute_percentage_error: 3860125.7500\n",
      "Epoch 51/100\n",
      "777/777 [==============================] - 81s 104ms/step - loss: 743.8779 - mean_absolute_error: 19.8653 - root_mean_squared_error: 27.2741 - mean_absolute_percentage_error: 58081408.0000 - val_loss: 1136.4862 - val_mean_absolute_error: 22.8073 - val_root_mean_squared_error: 33.7118 - val_mean_absolute_percentage_error: 3866741.2500red_error: 27.2805 - mean_absolu\n",
      "Epoch 52/100\n",
      "777/777 [==============================] - 78s 100ms/step - loss: 743.3327 - mean_absolute_error: 19.8530 - root_mean_squared_error: 27.2641 - mean_absolute_percentage_error: 58175852.0000 - val_loss: 1132.0190 - val_mean_absolute_error: 22.8469 - val_root_mean_squared_error: 33.6455 - val_mean_absolute_percentage_error: 3841873.0000\n",
      "Epoch 53/100\n",
      "777/777 [==============================] - 78s 100ms/step - loss: 742.6562 - mean_absolute_error: 19.8438 - root_mean_squared_error: 27.2517 - mean_absolute_percentage_error: 58063304.0000 - val_loss: 1124.7296 - val_mean_absolute_error: 22.6882 - val_root_mean_squared_error: 33.5370 - val_mean_absolute_percentage_error: 3933749.0000\n",
      "Epoch 54/100\n",
      "777/777 [==============================] - 78s 100ms/step - loss: 742.0743 - mean_absolute_error: 19.8221 - root_mean_squared_error: 27.2411 - mean_absolute_percentage_error: 58117232.0000 - val_loss: 1131.4395 - val_mean_absolute_error: 22.7951 - val_root_mean_squared_error: 33.6369 - val_mean_absolute_percentage_error: 3751829.5000\n",
      "Epoch 55/100\n",
      "777/777 [==============================] - 80s 103ms/step - loss: 740.3001 - mean_absolute_error: 19.8071 - root_mean_squared_error: 27.2085 - mean_absolute_percentage_error: 57982892.0000 - val_loss: 1129.8068 - val_mean_absolute_error: 22.7753 - val_root_mean_squared_error: 33.6126 - val_mean_absolute_percentage_error: 3977380.5000\n",
      "Epoch 56/100\n",
      "777/777 [==============================] - 78s 101ms/step - loss: 741.0421 - mean_absolute_error: 19.8176 - root_mean_squared_error: 27.2221 - mean_absolute_percentage_error: 58205796.0000 - val_loss: 1135.6045 - val_mean_absolute_error: 22.8211 - val_root_mean_squared_error: 33.6987 - val_mean_absolute_percentage_error: 3816536.0000\n",
      "Epoch 57/100\n",
      "777/777 [==============================] - 76s 98ms/step - loss: 741.1680 - mean_absolute_error: 19.8226 - root_mean_squared_error: 27.2244 - mean_absolute_percentage_error: 58257792.0000 - val_loss: 1139.9980 - val_mean_absolute_error: 22.9314 - val_root_mean_squared_error: 33.7639 - val_mean_absolute_percentage_error: 3891713.7500\n",
      "Epoch 58/100\n",
      "777/777 [==============================] - 78s 101ms/step - loss: 739.2664 - mean_absolute_error: 19.7937 - root_mean_squared_error: 27.1895 - mean_absolute_percentage_error: 57938768.0000 - val_loss: 1130.7551 - val_mean_absolute_error: 22.8529 - val_root_mean_squared_error: 33.6267 - val_mean_absolute_percentage_error: 3792547.5000\n",
      "Epoch 59/100\n",
      "777/777 [==============================] - 80s 103ms/step - loss: 737.9496 - mean_absolute_error: 19.7849 - root_mean_squared_error: 27.1652 - mean_absolute_percentage_error: 57879196.0000 - val_loss: 1147.7225 - val_mean_absolute_error: 22.9309 - val_root_mean_squared_error: 33.8781 - val_mean_absolute_percentage_error: 4042414.2500\n",
      "Epoch 60/100\n",
      "777/777 [==============================] - 64s 83ms/step - loss: 736.9506 - mean_absolute_error: 19.7628 - root_mean_squared_error: 27.1468 - mean_absolute_percentage_error: 58290944.0000 - val_loss: 1138.8677 - val_mean_absolute_error: 22.8438 - val_root_mean_squared_error: 33.7471 - val_mean_absolute_percentage_error: 3962014.7500\n",
      "Epoch 61/100\n",
      "777/777 [==============================] - 81s 104ms/step - loss: 738.0398 - mean_absolute_error: 19.7777 - root_mean_squared_error: 27.1669 - mean_absolute_percentage_error: 58051720.0000 - val_loss: 1140.1177 - val_mean_absolute_error: 22.8394 - val_root_mean_squared_error: 33.7656 - val_mean_absolute_percentage_error: 3932283.0000\n",
      "Epoch 62/100\n",
      "777/777 [==============================] - 75s 97ms/step - loss: 735.2369 - mean_absolute_error: 19.7503 - root_mean_squared_error: 27.1153 - mean_absolute_percentage_error: 58017728.0000 - val_loss: 1127.1732 - val_mean_absolute_error: 22.7855 - val_root_mean_squared_error: 33.5734 - val_mean_absolute_percentage_error: 3943369.7500\n",
      "Epoch 63/100\n",
      "777/777 [==============================] - 76s 98ms/step - loss: 734.6315 - mean_absolute_error: 19.7326 - root_mean_squared_error: 27.1041 - mean_absolute_percentage_error: 57798172.0000 - val_loss: 1129.5060 - val_mean_absolute_error: 22.8026 - val_root_mean_squared_error: 33.6081 - val_mean_absolute_percentage_error: 3968997.0000 739.0711 - mean_absolute_\n",
      "Epoch 64/100\n",
      "777/777 [==============================] - 81s 105ms/step - loss: 733.7985 - mean_absolute_error: 19.7206 - root_mean_squared_error: 27.0887 - mean_absolute_percentage_error: 58027224.0000 - val_loss: 1128.3954 - val_mean_absolute_error: 22.7506 - val_root_mean_squared_error: 33.5916 - val_mean_absolute_percentage_error: 4055633.0000\n",
      "Epoch 65/100\n",
      "777/777 [==============================] - 78s 100ms/step - loss: 734.6775 - mean_absolute_error: 19.7451 - root_mean_squared_error: 27.1049 - mean_absolute_percentage_error: 58115712.0000 - val_loss: 1127.6527 - val_mean_absolute_error: 22.7487 - val_root_mean_squared_error: 33.5805 - val_mean_absolute_percentage_error: 4029533.5000\n",
      "Epoch 66/100\n",
      "777/777 [==============================] - 78s 100ms/step - loss: 734.7567 - mean_absolute_error: 19.7366 - root_mean_squared_error: 27.1064 - mean_absolute_percentage_error: 58084536.0000 - val_loss: 1128.2388 - val_mean_absolute_error: 22.7567 - val_root_mean_squared_error: 33.5893 - val_mean_absolute_percentage_error: 3921083.2500\n",
      "Epoch 67/100\n",
      "777/777 [==============================] - 80s 103ms/step - loss: 732.0609 - mean_absolute_error: 19.7053 - root_mean_squared_error: 27.0566 - mean_absolute_percentage_error: 57622064.0000 - val_loss: 1134.6125 - val_mean_absolute_error: 22.8723 - val_root_mean_squared_error: 33.6840 - val_mean_absolute_percentage_error: 4018947.0000\n",
      "Epoch 68/100\n",
      "777/777 [==============================] - 79s 102ms/step - loss: 734.6336 - mean_absolute_error: 19.7386 - root_mean_squared_error: 27.1041 - mean_absolute_percentage_error: 58052132.0000 - val_loss: 1126.6228 - val_mean_absolute_error: 22.8300 - val_root_mean_squared_error: 33.5652 - val_mean_absolute_percentage_error: 3803722.2500\n",
      "Epoch 69/100\n",
      "777/777 [==============================] - 79s 101ms/step - loss: 731.1127 - mean_absolute_error: 19.6928 - root_mean_squared_error: 27.0391 - mean_absolute_percentage_error: 57795388.0000 - val_loss: 1128.8137 - val_mean_absolute_error: 22.8380 - val_root_mean_squared_error: 33.5978 - val_mean_absolute_percentage_error: 4034273.2500\n"
     ]
    },
    {
     "name": "stdout",
     "output_type": "stream",
     "text": [
      "Epoch 70/100\n",
      "777/777 [==============================] - 80s 103ms/step - loss: 732.4382 - mean_absolute_error: 19.7078 - root_mean_squared_error: 27.0636 - mean_absolute_percentage_error: 57912340.0000 - val_loss: 1124.8237 - val_mean_absolute_error: 22.6898 - val_root_mean_squared_error: 33.5384 - val_mean_absolute_percentage_error: 3926283.5000\n",
      "Epoch 71/100\n",
      "777/777 [==============================] - 77s 99ms/step - loss: 731.3774 - mean_absolute_error: 19.7008 - root_mean_squared_error: 27.0440 - mean_absolute_percentage_error: 57883492.0000 - val_loss: 1121.9508 - val_mean_absolute_error: 22.6777 - val_root_mean_squared_error: 33.4955 - val_mean_absolute_percentage_error: 3988576.7500\n",
      "Epoch 72/100\n",
      "777/777 [==============================] - 80s 103ms/step - loss: 730.8011 - mean_absolute_error: 19.6873 - root_mean_squared_error: 27.0333 - mean_absolute_percentage_error: 58087416.0000 - val_loss: 1119.6205 - val_mean_absolute_error: 22.6528 - val_root_mean_squared_error: 33.4607 - val_mean_absolute_percentage_error: 4052483.0000\n",
      "Epoch 73/100\n",
      "777/777 [==============================] - 78s 101ms/step - loss: 730.1927 - mean_absolute_error: 19.6709 - root_mean_squared_error: 27.0221 - mean_absolute_percentage_error: 57584988.0000 - val_loss: 1131.9359 - val_mean_absolute_error: 22.9005 - val_root_mean_squared_error: 33.6443 - val_mean_absolute_percentage_error: 4119459.7500\n",
      "Epoch 74/100\n",
      "777/777 [==============================] - 79s 101ms/step - loss: 729.1738 - mean_absolute_error: 19.6701 - root_mean_squared_error: 27.0032 - mean_absolute_percentage_error: 57980344.0000 - val_loss: 1142.6377 - val_mean_absolute_error: 22.8520 - val_root_mean_squared_error: 33.8029 - val_mean_absolute_percentage_error: 4078619.2500\n",
      "Epoch 75/100\n",
      "777/777 [==============================] - 79s 102ms/step - loss: 729.1801 - mean_absolute_error: 19.6675 - root_mean_squared_error: 27.0033 - mean_absolute_percentage_error: 57768916.0000 - val_loss: 1124.2997 - val_mean_absolute_error: 22.6664 - val_root_mean_squared_error: 33.5306 - val_mean_absolute_percentage_error: 4148020.5000\n",
      "Epoch 76/100\n",
      "777/777 [==============================] - 80s 102ms/step - loss: 728.0084 - mean_absolute_error: 19.6533 - root_mean_squared_error: 26.9816 - mean_absolute_percentage_error: 57836700.0000 - val_loss: 1128.2029 - val_mean_absolute_error: 22.7871 - val_root_mean_squared_error: 33.5887 - val_mean_absolute_percentage_error: 3915646.7500mean_squared_error: 26.9819 - mean_absolute_percentage\n",
      "Epoch 77/100\n",
      "777/777 [==============================] - 79s 102ms/step - loss: 726.9747 - mean_absolute_error: 19.6439 - root_mean_squared_error: 26.9625 - mean_absolute_percentage_error: 57843004.0000 - val_loss: 1129.4930 - val_mean_absolute_error: 22.7173 - val_root_mean_squared_error: 33.6079 - val_mean_absolute_percentage_error: 3969824.5000\n",
      "Epoch 78/100\n",
      "777/777 [==============================] - 79s 102ms/step - loss: 727.3451 - mean_absolute_error: 19.6421 - root_mean_squared_error: 26.9694 - mean_absolute_percentage_error: 57735892.0000 - val_loss: 1131.8099 - val_mean_absolute_error: 22.7643 - val_root_mean_squared_error: 33.6424 - val_mean_absolute_percentage_error: 3930923.5000\n",
      "Epoch 79/100\n",
      "777/777 [==============================] - 77s 100ms/step - loss: 726.4133 - mean_absolute_error: 19.6240 - root_mean_squared_error: 26.9520 - mean_absolute_percentage_error: 57740120.0000 - val_loss: 1122.5267 - val_mean_absolute_error: 22.6770 - val_root_mean_squared_error: 33.5041 - val_mean_absolute_percentage_error: 3963808.7500\n",
      "Epoch 80/100\n",
      "777/777 [==============================] - 79s 102ms/step - loss: 726.1789 - mean_absolute_error: 19.6243 - root_mean_squared_error: 26.9477 - mean_absolute_percentage_error: 57815680.0000 - val_loss: 1110.6395 - val_mean_absolute_error: 22.6459 - val_root_mean_squared_error: 33.3263 - val_mean_absolute_percentage_error: 4105227.7500\n",
      "Epoch 81/100\n",
      "777/777 [==============================] - 78s 101ms/step - loss: 725.6489 - mean_absolute_error: 19.6249 - root_mean_squared_error: 26.9379 - mean_absolute_percentage_error: 57946272.0000 - val_loss: 1131.2795 - val_mean_absolute_error: 22.8521 - val_root_mean_squared_error: 33.6345 - val_mean_absolute_percentage_error: 4000211.7500\n",
      "Epoch 82/100\n",
      "777/777 [==============================] - 77s 100ms/step - loss: 725.8406 - mean_absolute_error: 19.6268 - root_mean_squared_error: 26.9414 - mean_absolute_percentage_error: 57614600.0000 - val_loss: 1122.7590 - val_mean_absolute_error: 22.6832 - val_root_mean_squared_error: 33.5076 - val_mean_absolute_percentage_error: 4109300.5000\n",
      "Epoch 83/100\n",
      "777/777 [==============================] - 81s 105ms/step - loss: 723.3478 - mean_absolute_error: 19.5874 - root_mean_squared_error: 26.8951 - mean_absolute_percentage_error: 57741836.0000 - val_loss: 1124.7969 - val_mean_absolute_error: 22.7360 - val_root_mean_squared_error: 33.5380 - val_mean_absolute_percentage_error: 3928660.7500\n",
      "Epoch 84/100\n",
      "777/777 [==============================] - 78s 101ms/step - loss: 724.6202 - mean_absolute_error: 19.6066 - root_mean_squared_error: 26.9188 - mean_absolute_percentage_error: 57740172.0000 - val_loss: 1128.6719 - val_mean_absolute_error: 22.7483 - val_root_mean_squared_error: 33.5957 - val_mean_absolute_percentage_error: 4044263.0000\n",
      "Epoch 85/100\n",
      "777/777 [==============================] - 76s 98ms/step - loss: 722.9962 - mean_absolute_error: 19.5804 - root_mean_squared_error: 26.8886 - mean_absolute_percentage_error: 57712924.0000 - val_loss: 1139.6212 - val_mean_absolute_error: 22.8642 - val_root_mean_squared_error: 33.7583 - val_mean_absolute_percentage_error: 3947738.5000\n",
      "Epoch 86/100\n",
      "777/777 [==============================] - 82s 106ms/step - loss: 723.5889 - mean_absolute_error: 19.6001 - root_mean_squared_error: 26.8996 - mean_absolute_percentage_error: 57751096.0000 - val_loss: 1130.0428 - val_mean_absolute_error: 22.7952 - val_root_mean_squared_error: 33.6161 - val_mean_absolute_percentage_error: 4063186.7500\n",
      "Epoch 87/100\n",
      "777/777 [==============================] - 78s 100ms/step - loss: 723.3185 - mean_absolute_error: 19.5914 - root_mean_squared_error: 26.8946 - mean_absolute_percentage_error: 57887392.0000 - val_loss: 1120.5447 - val_mean_absolute_error: 22.6932 - val_root_mean_squared_error: 33.4745 - val_mean_absolute_percentage_error: 4063446.5000\n",
      "Epoch 88/100\n",
      "777/777 [==============================] - 80s 102ms/step - loss: 721.5986 - mean_absolute_error: 19.5571 - root_mean_squared_error: 26.8626 - mean_absolute_percentage_error: 57731828.0000 - val_loss: 1119.7970 - val_mean_absolute_error: 22.6667 - val_root_mean_squared_error: 33.4634 - val_mean_absolute_percentage_error: 4104433.2500\n",
      "Epoch 89/100\n",
      "777/777 [==============================] - 78s 101ms/step - loss: 721.3721 - mean_absolute_error: 19.5682 - root_mean_squared_error: 26.8584 - mean_absolute_percentage_error: 57810032.0000 - val_loss: 1122.3470 - val_mean_absolute_error: 22.7649 - val_root_mean_squared_error: 33.5014 - val_mean_absolute_percentage_error: 3969769.5000\n",
      "Epoch 90/100\n",
      "777/777 [==============================] - 80s 102ms/step - loss: 721.3541 - mean_absolute_error: 19.5585 - root_mean_squared_error: 26.8580 - mean_absolute_percentage_error: 57583152.0000 - val_loss: 1119.8207 - val_mean_absolute_error: 22.7181 - val_root_mean_squared_error: 33.4637 - val_mean_absolute_percentage_error: 4187463.2500\n",
      "Epoch 91/100\n",
      "777/777 [==============================] - 80s 103ms/step - loss: 720.2431 - mean_absolute_error: 19.5530 - root_mean_squared_error: 26.8374 - mean_absolute_percentage_error: 57872516.0000 - val_loss: 1126.9923 - val_mean_absolute_error: 22.8068 - val_root_mean_squared_error: 33.5707 - val_mean_absolute_percentage_error: 4086310.5000\n",
      "Epoch 92/100\n",
      "777/777 [==============================] - 79s 102ms/step - loss: 720.5615 - mean_absolute_error: 19.5491 - root_mean_squared_error: 26.8433 - mean_absolute_percentage_error: 57850088.0000 - val_loss: 1128.3970 - val_mean_absolute_error: 22.7824 - val_root_mean_squared_error: 33.5916 - val_mean_absolute_percentage_error: 3967927.7500\n",
      "Epoch 93/100\n",
      "777/777 [==============================] - 77s 99ms/step - loss: 719.3942 - mean_absolute_error: 19.5424 - root_mean_squared_error: 26.8215 - mean_absolute_percentage_error: 57781432.0000 - val_loss: 1134.7103 - val_mean_absolute_error: 22.8596 - val_root_mean_squared_error: 33.6855 - val_mean_absolute_percentage_error: 3934058.7500\n",
      "Epoch 94/100\n",
      "777/777 [==============================] - 79s 102ms/step - loss: 718.5591 - mean_absolute_error: 19.5267 - root_mean_squared_error: 26.8060 - mean_absolute_percentage_error: 57999572.0000 - val_loss: 1119.9366 - val_mean_absolute_error: 22.6433 - val_root_mean_squared_error: 33.4655 - val_mean_absolute_percentage_error: 4063675.2500\n",
      "Epoch 95/100\n",
      "777/777 [==============================] - 79s 101ms/step - loss: 719.6577 - mean_absolute_error: 19.5413 - root_mean_squared_error: 26.8264 - mean_absolute_percentage_error: 57525428.0000 - val_loss: 1133.8860 - val_mean_absolute_error: 22.9261 - val_root_mean_squared_error: 33.6732 - val_mean_absolute_percentage_error: 4108513.0000\n",
      "Epoch 96/100\n",
      "777/777 [==============================] - 78s 101ms/step - loss: 717.6201 - mean_absolute_error: 19.5042 - root_mean_squared_error: 26.7884 - mean_absolute_percentage_error: 57793304.0000 - val_loss: 1132.3447 - val_mean_absolute_error: 22.8229 - val_root_mean_squared_error: 33.6503 - val_mean_absolute_percentage_error: 3894701.2500te_percentage_error:\n",
      "Epoch 97/100\n",
      "777/777 [==============================] - 78s 101ms/step - loss: 719.0102 - mean_absolute_error: 19.5401 - root_mean_squared_error: 26.8144 - mean_absolute_percentage_error: 57690792.0000 - val_loss: 1135.3776 - val_mean_absolute_error: 22.8122 - val_root_mean_squared_error: 33.6954 - val_mean_absolute_percentage_error: 4017959.2500\n",
      "Epoch 98/100\n",
      "777/777 [==============================] - 80s 103ms/step - loss: 717.2031 - mean_absolute_error: 19.5140 - root_mean_squared_error: 26.7806 - mean_absolute_percentage_error: 57709316.0000 - val_loss: 1132.2606 - val_mean_absolute_error: 22.8785 - val_root_mean_squared_error: 33.6491 - val_mean_absolute_percentage_error: 4017964.2500\n",
      "Epoch 99/100\n",
      "777/777 [==============================] - 78s 100ms/step - loss: 716.5208 - mean_absolute_error: 19.5006 - root_mean_squared_error: 26.7679 - mean_absolute_percentage_error: 57667652.0000 - val_loss: 1130.2750 - val_mean_absolute_error: 22.7995 - val_root_mean_squared_error: 33.6196 - val_mean_absolute_percentage_error: 3834887.5000\n",
      "Epoch 100/100\n",
      "777/777 [==============================] - 78s 100ms/step - loss: 718.0338 - mean_absolute_error: 19.5256 - root_mean_squared_error: 26.7961 - mean_absolute_percentage_error: 57338964.0000 - val_loss: 1124.9984 - val_mean_absolute_error: 22.7785 - val_root_mean_squared_error: 33.5410 - val_mean_absolute_percentage_error: 4298843.5000\n"
     ]
    },
    {
     "data": {
      "text/plain": [
       "<keras.callbacks.History at 0x2956d8f54c0>"
      ]
     },
     "execution_count": 113,
     "metadata": {},
     "output_type": "execute_result"
    }
   ],
   "source": [
    "model60.fit((Wt60,Xt60), yt60, validation_split = val_percent,\n",
    "            epochs = 100, \n",
    "            verbose = 1\n",
    "            )"
   ]
  },
  {
   "cell_type": "code",
   "execution_count": 114,
   "metadata": {},
   "outputs": [],
   "source": [
    "metrics60 = pd.DataFrame(model60.history.history)"
   ]
  },
  {
   "cell_type": "code",
   "execution_count": 115,
   "metadata": {},
   "outputs": [],
   "source": [
    "# fig = plt.figure(figsize=(6,4))\n",
    "\n",
    "# # Add set of axes to figure\n",
    "# axes = fig.add_axes([0, 0, 1, 1]) \n",
    "# axes2 = fig.add_axes([0.3, 0.35, 0.5, 0.5]) # Smaller figure\n",
    "# axes.plot(metrics60[['loss','val_loss']], label=['train_loss','val_loss'], lw=4)\n",
    "# axes.set_ylim(0,4000)\n",
    "\n",
    "# axes2.plot(metrics60[['loss','val_loss']], lw=4)\n",
    "# axes2.set_xlim(0,20)\n",
    "# axes2.set_ylim(500,1500)\n",
    "# # plt.xticks(visible=False)\n",
    "# plt.yticks(visible=False)\n",
    "\n",
    "# axes.set_xlabel('Epoch')\n",
    "# axes.set_ylabel('Loss')\n",
    "# axes.grid()\n",
    "# axes2.grid()\n",
    "\n",
    "# mark_inset(axes, axes2, loc1=2, loc2=4, fc=\"0.9\", ec=\"0.1\", ls='--')\n",
    "# axes.yaxis.set_major_formatter(formatter)"
   ]
  },
  {
   "cell_type": "code",
   "execution_count": 116,
   "metadata": {},
   "outputs": [
    {
     "name": "stderr",
     "output_type": "stream",
     "text": [
      "WARNING:absl:Function `_wrapped_model` contains input name(s) WideInput, DeepInput with unsupported characters which will be renamed to wideinput, deepinput in the SavedModel.\n",
      "WARNING:absl:Found untraced functions such as lstm_cell_11_layer_call_and_return_conditional_losses, lstm_cell_11_layer_call_fn, lstm_cell_9_layer_call_and_return_conditional_losses, lstm_cell_9_layer_call_fn, lstm_cell_10_layer_call_and_return_conditional_losses while saving (showing 5 of 15). These functions will not be directly callable after loading.\n"
     ]
    },
    {
     "name": "stdout",
     "output_type": "stream",
     "text": [
      "INFO:tensorflow:Assets written to: my_dir/10b-60\\assets\n"
     ]
    },
    {
     "name": "stderr",
     "output_type": "stream",
     "text": [
      "INFO:tensorflow:Assets written to: my_dir/10b-60\\assets\n"
     ]
    }
   ],
   "source": [
    "model60.save(\"my_dir/10b-60\")"
   ]
  },
  {
   "cell_type": "code",
   "execution_count": 117,
   "metadata": {},
   "outputs": [],
   "source": [
    "model60 = keras.models.load_model(\"my_dir/10b-60\")"
   ]
  },
  {
   "cell_type": "code",
   "execution_count": 118,
   "metadata": {},
   "outputs": [
    {
     "data": {
      "text/plain": [
       "array([[ 53.513737,  54.342228,  60.075054, ...,  59.130672,  37.20425 ,\n",
       "         36.68805 ],\n",
       "       [ 52.759792,  53.733692,  59.25777 , ...,  59.25864 ,  38.26328 ,\n",
       "         37.85563 ],\n",
       "       [ 51.46375 ,  52.392414,  57.793346, ...,  57.96033 ,  37.685223,\n",
       "         37.33219 ],\n",
       "       ...,\n",
       "       [138.57323 , 142.54984 , 154.2424  , ..., 148.88919 , 101.34699 ,\n",
       "         90.62144 ],\n",
       "       [139.08858 , 143.23508 , 154.95642 , ..., 150.871   , 102.44961 ,\n",
       "         92.283066],\n",
       "       [124.22687 , 128.20653 , 138.31006 , ..., 132.52254 ,  88.16641 ,\n",
       "         79.858826]], dtype=float32)"
      ]
     },
     "execution_count": 118,
     "metadata": {},
     "output_type": "execute_result"
    }
   ],
   "source": [
    "model60.predict((Wv60,Xv60))"
   ]
  },
  {
   "cell_type": "markdown",
   "metadata": {},
   "source": [
    "## Save Loss"
   ]
  },
  {
   "cell_type": "code",
   "execution_count": null,
   "metadata": {},
   "outputs": [],
   "source": [
    "# metrics5.to_csv('Loss/8a-5.csv') \n",
    "# metrics15.to_csv('Loss/8a-15.csv') \n",
    "# metrics30.to_csv('Loss/8a-30.csv') \n",
    "# metrics60.to_csv('Loss/8a-60.csv') "
   ]
  }
 ],
 "metadata": {
  "kernelspec": {
   "display_name": "Python 3 (ipykernel)",
   "language": "python",
   "name": "python3"
  },
  "language_info": {
   "codemirror_mode": {
    "name": "ipython",
    "version": 3
   },
   "file_extension": ".py",
   "mimetype": "text/x-python",
   "name": "python",
   "nbconvert_exporter": "python",
   "pygments_lexer": "ipython3",
   "version": "3.11.5"
  }
 },
 "nbformat": 4,
 "nbformat_minor": 4
}
