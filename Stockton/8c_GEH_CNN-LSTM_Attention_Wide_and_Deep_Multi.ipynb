{
 "cells": [
  {
   "cell_type": "code",
   "execution_count": 1,
   "metadata": {},
   "outputs": [],
   "source": [
    "import pandas as pd\n",
    "import numpy as np\n",
    "import matplotlib.pyplot as plt\n",
    "import seaborn as sns\n",
    "import joblib\n",
    "import os"
   ]
  },
  {
   "cell_type": "code",
   "execution_count": 2,
   "metadata": {},
   "outputs": [],
   "source": [
    "import keras_tuner as kt\n",
    "from keras_tuner import RandomSearch\n",
    "from GEH_LOSS import custom_loss\n",
    "import geh as ga"
   ]
  },
  {
   "cell_type": "code",
   "execution_count": 3,
   "metadata": {},
   "outputs": [],
   "source": [
    "from sklearn.metrics import mean_absolute_error,mean_squared_error,mean_absolute_percentage_error"
   ]
  },
  {
   "cell_type": "code",
   "execution_count": 4,
   "metadata": {},
   "outputs": [],
   "source": [
    "import relative_accuracy as ra"
   ]
  },
  {
   "cell_type": "code",
   "execution_count": 5,
   "metadata": {},
   "outputs": [],
   "source": [
    "# Load all Inputs and Output Data\n",
    "\n",
    "# 5 mins (1 step ahead)\n",
    "Deep_train_5   = np.load(\"Deep_train_5_multi.npz\")['x'] \n",
    "Output_train_5 = np.load(\"Deep_train_5_multi.npz\")['y']\n",
    "\n",
    "Deep_test_5   = np.load(\"Deep_test_5_multi.npz\")['x'] \n",
    "Output_test_5 = np.load(\"Deep_test_5_multi.npz\")['y'] \n",
    "\n",
    "# 15 mins (3 steps ahead)\n",
    "Deep_train_15   = np.load(\"Deep_train_15_multi.npz\")['x'] \n",
    "Output_train_15 = np.load(\"Deep_train_15_multi.npz\")['y']\n",
    "\n",
    "Deep_test_15   = np.load(\"Deep_test_15_multi.npz\")['x'] \n",
    "Output_test_15 = np.load(\"Deep_test_15_multi.npz\")['y']\n",
    "\n",
    "# 30 mins (6 steps ahead)\n",
    "Deep_train_30   = np.load(\"Deep_train_30_multi.npz\")['x'] \n",
    "Output_train_30 = np.load(\"Deep_train_30_multi.npz\")['y']\n",
    "\n",
    "Deep_test_30   = np.load(\"Deep_test_30_multi.npz\")['x'] \n",
    "Output_test_30 = np.load(\"Deep_test_30_multi.npz\")['y']\n",
    "\n",
    "# 60 mins (12 steps ahead)\n",
    "Deep_train_60   = np.load(\"Deep_train_60_multi.npz\")['x'] \n",
    "Output_train_60 = np.load(\"Deep_train_60_multi.npz\")['y']\n",
    "\n",
    "Deep_test_60   = np.load(\"Deep_test_60_multi.npz\")['x'] \n",
    "Output_test_60 = np.load(\"Deep_test_60_multi.npz\")['y']"
   ]
  },
  {
   "cell_type": "code",
   "execution_count": 6,
   "metadata": {},
   "outputs": [],
   "source": [
    "# Wide Data\n",
    "Xtrain = joblib.load(\"002weeks_train_Multi.save\") \n",
    "Xtest = joblib.load(\"002weeks_test_Multi.save\") "
   ]
  },
  {
   "cell_type": "code",
   "execution_count": 7,
   "metadata": {},
   "outputs": [],
   "source": [
    "# 5 mins\n",
    "# Delete first 15 samples\n",
    "Wide_train_5 = np.delete(Xtrain, np.s_[0:15], 0)\n",
    "Wide_test_5 = np.delete(Xtest, np.s_[0:15], 0)"
   ]
  },
  {
   "cell_type": "code",
   "execution_count": 8,
   "metadata": {},
   "outputs": [],
   "source": [
    "# 15 mins\n",
    "# Delete first 17 samples\n",
    "Wide_train_15 = np.delete(Xtrain, np.s_[0:17], 0)\n",
    "Wide_test_15 = np.delete(Xtest, np.s_[0:17], 0)"
   ]
  },
  {
   "cell_type": "code",
   "execution_count": 9,
   "metadata": {},
   "outputs": [],
   "source": [
    "# 30 mins\n",
    "# Delete first 20 samples\n",
    "Wide_train_30 = np.delete(Xtrain, np.s_[0:20], 0)\n",
    "Wide_test_30 = np.delete(Xtest, np.s_[0:20], 0)"
   ]
  },
  {
   "cell_type": "code",
   "execution_count": 10,
   "metadata": {},
   "outputs": [],
   "source": [
    "# 60 mins\n",
    "# Delete first 27 samples\n",
    "Wide_train_60 = np.delete(Xtrain, np.s_[0:26], 0)\n",
    "Wide_test_60 = np.delete(Xtest, np.s_[0:26], 0)"
   ]
  },
  {
   "cell_type": "code",
   "execution_count": 11,
   "metadata": {},
   "outputs": [
    {
     "name": "stderr",
     "output_type": "stream",
     "text": [
      "C:\\Users\\mesug\\anaconda3\\envs\\my_env\\lib\\site-packages\\sklearn\\base.py:324: UserWarning: Trying to unpickle estimator MinMaxScaler from version 1.0.2 when using version 1.0.1. This might lead to breaking code or invalid results. Use at your own risk. For more info please refer to:\n",
      "https://scikit-learn.org/stable/modules/model_persistence.html#security-maintainability-limitations\n",
      "  warnings.warn(\n"
     ]
    }
   ],
   "source": [
    "scaler_filename = \"scaler.save\"\n",
    "scaler = joblib.load(scaler_filename)"
   ]
  },
  {
   "cell_type": "markdown",
   "metadata": {},
   "source": [
    "# Reshape Samples"
   ]
  },
  {
   "cell_type": "markdown",
   "metadata": {},
   "source": [
    "The first step is to split the input sequences into subsequences that can be processed by the CNN model. Here, each spatio-temporal sample can be split into three sub-samples, each with five time steps. The CNN can interpret each subsequence of five time steps and provide a time series of interpretations of the subsequences to the LSTM model to process as input."
   ]
  },
  {
   "cell_type": "code",
   "execution_count": 12,
   "metadata": {},
   "outputs": [],
   "source": [
    "# reshape from [samples, timesteps] into [samples, subsequences, timesteps, features]\n",
    "n_features = 7                # No of loop detectors\n",
    "n_seq = 3                     # Subsequences\n",
    "n_steps = 5                   # time-step per subsequence\n",
    "# val_percent = 0.07567       # 2 weeks\n",
    "val_percent = 0.2        \n",
    "batch_size = 32\n",
    "\n",
    "n_seq_ = 3                     # Subsequences\n",
    "n_steps_ = 3                   # time-step per subsequence"
   ]
  },
  {
   "cell_type": "markdown",
   "metadata": {},
   "source": [
    "#### 5 mins"
   ]
  },
  {
   "cell_type": "code",
   "execution_count": 13,
   "metadata": {},
   "outputs": [],
   "source": [
    "# Train\n",
    "# reshape from [samples, timesteps] into [samples, subsequences, timesteps, features]\n",
    "Xt5 = Deep_train_5.reshape((Deep_train_5.shape[0], n_seq, n_steps, n_features))\n",
    "yt5 = scaler.inverse_transform(Output_train_5)"
   ]
  },
  {
   "cell_type": "code",
   "execution_count": 14,
   "metadata": {},
   "outputs": [],
   "source": [
    "# Test\n",
    "# reshape from [samples, timesteps] into [samples, subsequences, timesteps, features]\n",
    "Xv5 = Deep_test_5.reshape((Deep_test_5.shape[0], n_seq, n_steps, n_features))\n",
    "yv5 = scaler.inverse_transform(Output_test_5)"
   ]
  },
  {
   "cell_type": "markdown",
   "metadata": {},
   "source": [
    "#### 15 mins"
   ]
  },
  {
   "cell_type": "code",
   "execution_count": 15,
   "metadata": {},
   "outputs": [],
   "source": [
    "# Train\n",
    "# reshape from [samples, timesteps] into [samples, subsequences, timesteps, features]\n",
    "Xt15 = Deep_train_15.reshape((Deep_train_15.shape[0], n_seq, n_steps, n_features))\n",
    "yt15 = scaler.inverse_transform(Output_train_15)"
   ]
  },
  {
   "cell_type": "code",
   "execution_count": 16,
   "metadata": {},
   "outputs": [],
   "source": [
    "# Test\n",
    "# reshape from [samples, timesteps] into [samples, subsequences, timesteps, features]\n",
    "Xv15 = Deep_test_15.reshape((Deep_test_15.shape[0], n_seq, n_steps, n_features))\n",
    "yv15 = scaler.inverse_transform(Output_test_15)"
   ]
  },
  {
   "cell_type": "markdown",
   "metadata": {},
   "source": [
    "#### 30 mins"
   ]
  },
  {
   "cell_type": "code",
   "execution_count": 17,
   "metadata": {},
   "outputs": [],
   "source": [
    "# Train\n",
    "# reshape from [samples, timesteps] into [samples, subsequences, timesteps, features]\n",
    "Xt30 = Deep_train_30.reshape((Deep_train_30.shape[0], n_seq, n_steps, n_features))\n",
    "yt30 = scaler.inverse_transform(Output_train_30)"
   ]
  },
  {
   "cell_type": "code",
   "execution_count": 18,
   "metadata": {},
   "outputs": [],
   "source": [
    "# Test\n",
    "# reshape from [samples, timesteps] into [samples, subsequences, timesteps, features]\n",
    "Xv30 = Deep_test_30.reshape((Deep_test_30.shape[0], n_seq, n_steps, n_features))\n",
    "yv30 = scaler.inverse_transform(Output_test_30)"
   ]
  },
  {
   "cell_type": "markdown",
   "metadata": {},
   "source": [
    "#### 60 mins"
   ]
  },
  {
   "cell_type": "code",
   "execution_count": 19,
   "metadata": {},
   "outputs": [],
   "source": [
    "# Train\n",
    "# reshape from [samples, timesteps] into [samples, subsequences, timesteps, features]\n",
    "Xt60 = Deep_train_60.reshape((Deep_train_60.shape[0], n_seq, n_steps, n_features))\n",
    "yt60 = scaler.inverse_transform(Output_train_60)"
   ]
  },
  {
   "cell_type": "code",
   "execution_count": 20,
   "metadata": {},
   "outputs": [],
   "source": [
    "# Test\n",
    "# reshape from [samples, timesteps] into [samples, subsequences, timesteps, features]\n",
    "Xv60 = Deep_test_60.reshape((Deep_test_60.shape[0], n_seq, n_steps, n_features))\n",
    "yv60 = scaler.inverse_transform(Output_test_60)"
   ]
  },
  {
   "cell_type": "markdown",
   "metadata": {},
   "source": [
    "### Reshaping the Data for Conv2D layer\n",
    "\n",
    "For Conv2D, there is a need to add one more dimension to show we're dealing with 1 channel (since technically the images are in black and white, only showing values from 0-max flow on a single channel).\n",
    "\n",
    "Conv1D - strides in 1 dimension\n",
    "Conv2D - strides in 2 dimensions"
   ]
  },
  {
   "cell_type": "code",
   "execution_count": 21,
   "metadata": {},
   "outputs": [],
   "source": [
    "# define no_of_channels\n",
    "n_channels = 1"
   ]
  },
  {
   "cell_type": "code",
   "execution_count": 22,
   "metadata": {},
   "outputs": [],
   "source": [
    "# Train data\n",
    "Xt5  =  Xt5.reshape(Xt5.shape[0], n_seq, n_steps, n_features, n_channels)\n",
    "Xt15 =  Xt15.reshape(Xt15.shape[0], n_seq, n_steps, n_features, n_channels)\n",
    "Xt30 =  Xt30.reshape(Xt30.shape[0], n_seq, n_steps, n_features, n_channels)\n",
    "Xt60 =  Xt60.reshape(Xt60.shape[0], n_seq, n_steps, n_features, n_channels)\n",
    "\n",
    "# Validation data\n",
    "Xv5  =  Xv5.reshape(Xv5.shape[0], n_seq, n_steps, n_features, n_channels)\n",
    "Xv15 =  Xv15.reshape(Xv15.shape[0], n_seq, n_steps, n_features, n_channels)\n",
    "Xv30 =  Xv30.reshape(Xv30.shape[0], n_seq, n_steps, n_features, n_channels)\n",
    "Xv60 =  Xv60.reshape(Xv60.shape[0], n_seq, n_steps, n_features, n_channels)"
   ]
  },
  {
   "cell_type": "code",
   "execution_count": 23,
   "metadata": {},
   "outputs": [],
   "source": [
    "Wt5  = Wide_train_5\n",
    "Wt15 = Wide_train_15\n",
    "Wt30 = Wide_train_30\n",
    "Wt60 = Wide_train_60\n",
    "\n",
    "Wv5  = Wide_test_5\n",
    "Wv15 = Wide_test_15\n",
    "Wv30 = Wide_test_30\n",
    "Wv60 = Wide_test_60"
   ]
  },
  {
   "cell_type": "code",
   "execution_count": 24,
   "metadata": {},
   "outputs": [],
   "source": [
    "# Train data\n",
    "Wt5  =  Wt5.reshape(Wt5.shape[0], n_seq_, n_steps_, n_features)\n",
    "Wt15 =  Wt15.reshape(Wt15.shape[0], n_seq_, n_steps_, n_features)\n",
    "Wt30 =  Wt30.reshape(Wt30.shape[0], n_seq_, n_steps_, n_features)\n",
    "Wt60 =  Wt60.reshape(Wt60.shape[0], n_seq_, n_steps_, n_features)\n",
    "\n",
    "# Validation data\n",
    "Wv5  =  Wv5.reshape(Wv5.shape[0], n_seq_, n_steps_, n_features)\n",
    "Wv15 =  Wv15.reshape(Wv15.shape[0], n_seq_, n_steps_, n_features)\n",
    "Wv30 =  Wv30.reshape(Wv30.shape[0], n_seq_, n_steps_, n_features)\n",
    "Wv60 =  Wv60.reshape(Wv60.shape[0], n_seq_, n_steps_, n_features)"
   ]
  },
  {
   "cell_type": "code",
   "execution_count": 25,
   "metadata": {},
   "outputs": [],
   "source": [
    "e = 1e-6"
   ]
  },
  {
   "cell_type": "code",
   "execution_count": 26,
   "metadata": {},
   "outputs": [],
   "source": [
    "yt5 = np.where(yt5==0, e, yt5)\n",
    "yt15 = np.where(yt15==0, e, yt15)\n",
    "yt30 = np.where(yt30==0, e, yt30)\n",
    "yt60 = np.where(yt60==0, e, yt60)"
   ]
  },
  {
   "cell_type": "code",
   "execution_count": 27,
   "metadata": {},
   "outputs": [
    {
     "data": {
      "text/plain": [
       "(31089, 3, 5, 7, 1)"
      ]
     },
     "execution_count": 27,
     "metadata": {},
     "output_type": "execute_result"
    }
   ],
   "source": [
    "Xt5.shape"
   ]
  },
  {
   "cell_type": "code",
   "execution_count": 28,
   "metadata": {},
   "outputs": [
    {
     "data": {
      "text/plain": [
       "(31089, 3, 3, 7)"
      ]
     },
     "execution_count": 28,
     "metadata": {},
     "output_type": "execute_result"
    }
   ],
   "source": [
    "Wt5.shape"
   ]
  },
  {
   "cell_type": "markdown",
   "metadata": {},
   "source": [
    "# CNN-LSTM model"
   ]
  },
  {
   "cell_type": "code",
   "execution_count": 29,
   "metadata": {},
   "outputs": [],
   "source": [
    "from tensorflow import keras\n",
    "from keras_self_attention import SeqSelfAttention\n",
    "\n",
    "# Early Stopping\n",
    "early_stop = keras.callbacks.EarlyStopping(monitor='val_loss',patience=5, restore_best_weights = True)"
   ]
  },
  {
   "cell_type": "code",
   "execution_count": 30,
   "metadata": {},
   "outputs": [
    {
     "data": {
      "text/plain": [
       "(31089, 9, 7)"
      ]
     },
     "execution_count": 30,
     "metadata": {},
     "output_type": "execute_result"
    }
   ],
   "source": [
    "Wide_train_5.shape"
   ]
  },
  {
   "cell_type": "markdown",
   "metadata": {},
   "source": [
    "# 5 mins ahead"
   ]
  },
  {
   "cell_type": "code",
   "execution_count": 31,
   "metadata": {},
   "outputs": [],
   "source": [
    "def build_model_5(hp):\n",
    "    # Inputs\n",
    "    channel_Wide = keras.layers.Input(shape=Wt5.shape[1:], name=\"WideInput\")\n",
    "    channel_Deep = keras.layers.Input(shape=Xt5.shape[1:], name=\"DeepInput\")\n",
    "    units = hp.Int(\"units\", min_value=1, max_value=100, step=1)\n",
    "    \n",
    "    \n",
    "    # Wide Model\n",
    "    flatten_5w = keras.layers.TimeDistributed(keras.layers.Flatten())(channel_Wide)\n",
    "    Bi_5 = keras.layers.Bidirectional(\n",
    "        keras.layers.LSTM(units=units, activation='relu', return_sequences=True),\n",
    "        merge_mode=\"ave\"\n",
    "    )(flatten_5w)\n",
    "    \n",
    "    \n",
    "    # Deep Model\n",
    "    # CNN \n",
    "    CNN_5 = keras.layers.TimeDistributed(\n",
    "        keras.layers.Conv2D(filters=hp.Int(\"filters\", min_value=32, max_value=512, step=32),\n",
    "                            kernel_size=hp.Choice(\"kernel_size\", [2, 3]), activation='relu'))(channel_Deep)\n",
    "    flatten_5 = keras.layers.TimeDistributed(keras.layers.Flatten())(CNN_5)\n",
    "    # LSTM          \n",
    "    LSTM_5 = keras.layers.LSTM(units=units, activation='relu', return_sequences=True)(flatten_5)\n",
    "\n",
    "    \n",
    "    # Concatenation \n",
    "    concat = keras.layers.concatenate([Bi_5, LSTM_5], axis=1)\n",
    "\n",
    "    # Attention\n",
    "    Att_5 = SeqSelfAttention(attention_activation='sigmoid')(concat)\n",
    "    merge = keras.layers.Flatten()(Att_5)\n",
    "\n",
    "    \n",
    "    # Output\n",
    "    output = keras.layers.Dense(n_features, name= \"output\")(merge)\n",
    "    \n",
    "    # Model\n",
    "    model_5 = keras.Model(inputs=[channel_Wide,channel_Deep], outputs=[output])\n",
    "\n",
    "    # Compile\n",
    "    model_5.compile(optimizer=keras.optimizers.Adam(hp.Choice(\"learning_rate\", [1e-2, 1e-3, 1e-4])), \n",
    "        loss=custom_loss, metrics=['MeanAbsoluteError','RootMeanSquaredError','MeanAbsolutePercentageError'])\n",
    "                                   \n",
    "    return model_5"
   ]
  },
  {
   "cell_type": "code",
   "execution_count": 32,
   "metadata": {},
   "outputs": [],
   "source": [
    "tuner5 = RandomSearch(\n",
    "    build_model_5,\n",
    "    objective=\"val_loss\",\n",
    "    max_trials=60,\n",
    "    executions_per_trial=2,\n",
    "    overwrite=True,\n",
    "    directory=os.path.normpath('C:/Runs'),\n",
    "    project_name=\"8c-5\",\n",
    ")"
   ]
  },
  {
   "cell_type": "code",
   "execution_count": 33,
   "metadata": {},
   "outputs": [
    {
     "name": "stdout",
     "output_type": "stream",
     "text": [
      "Search space summary\n",
      "Default search space size: 4\n",
      "units (Int)\n",
      "{'default': None, 'conditions': [], 'min_value': 1, 'max_value': 100, 'step': 1, 'sampling': None}\n",
      "filters (Int)\n",
      "{'default': None, 'conditions': [], 'min_value': 32, 'max_value': 512, 'step': 32, 'sampling': None}\n",
      "kernel_size (Choice)\n",
      "{'default': 2, 'conditions': [], 'values': [2, 3], 'ordered': True}\n",
      "learning_rate (Choice)\n",
      "{'default': 0.01, 'conditions': [], 'values': [0.01, 0.001, 0.0001], 'ordered': True}\n"
     ]
    }
   ],
   "source": [
    "tuner5.search_space_summary()"
   ]
  },
  {
   "cell_type": "code",
   "execution_count": 34,
   "metadata": {},
   "outputs": [
    {
     "name": "stdout",
     "output_type": "stream",
     "text": [
      "Trial 60 Complete [00h 02m 12s]\n",
      "val_loss: 0.9999310374259949\n",
      "\n",
      "Best val_loss So Far: 0.6178377568721771\n",
      "Total elapsed time: 04h 05m 11s\n",
      "INFO:tensorflow:Oracle triggered exit\n"
     ]
    }
   ],
   "source": [
    "tuner5.search((Wt5,Xt5), yt5, epochs=200,\n",
    "           validation_split = val_percent,\n",
    "           callbacks = [early_stop],\n",
    "           verbose=2)"
   ]
  },
  {
   "cell_type": "code",
   "execution_count": 35,
   "metadata": {},
   "outputs": [
    {
     "name": "stdout",
     "output_type": "stream",
     "text": [
      "Results summary\n",
      "Results in C:\\Runs\\8c-5\n",
      "Showing 1 best trials\n",
      "Objective(name='val_loss', direction='min')\n",
      "Trial summary\n",
      "Hyperparameters:\n",
      "units: 51\n",
      "filters: 480\n",
      "kernel_size: 3\n",
      "learning_rate: 0.01\n",
      "Score: 0.6178377568721771\n"
     ]
    }
   ],
   "source": [
    "tuner5.results_summary(1)"
   ]
  },
  {
   "cell_type": "markdown",
   "metadata": {},
   "source": [
    "### Best Model"
   ]
  },
  {
   "cell_type": "code",
   "execution_count": 36,
   "metadata": {},
   "outputs": [],
   "source": [
    "best_hp5 = tuner5.get_best_hyperparameters()[0]\n",
    "model5 = tuner5.hypermodel.build(best_hp5)"
   ]
  },
  {
   "cell_type": "code",
   "execution_count": 37,
   "metadata": {},
   "outputs": [
    {
     "data": {
      "text/plain": [
       "['Best_HP/8c-5']"
      ]
     },
     "execution_count": 37,
     "metadata": {},
     "output_type": "execute_result"
    }
   ],
   "source": [
    "scaler_filename = \"Best_HP/8c-5\"\n",
    "joblib.dump(best_hp5, scaler_filename) "
   ]
  },
  {
   "cell_type": "code",
   "execution_count": 38,
   "metadata": {},
   "outputs": [
    {
     "name": "stdout",
     "output_type": "stream",
     "text": [
      "Model: \"model_1\"\n",
      "__________________________________________________________________________________________________\n",
      " Layer (type)                   Output Shape         Param #     Connected to                     \n",
      "==================================================================================================\n",
      " DeepInput (InputLayer)         [(None, 3, 5, 7, 1)  0           []                               \n",
      "                                ]                                                                 \n",
      "                                                                                                  \n",
      " WideInput (InputLayer)         [(None, 3, 3, 7)]    0           []                               \n",
      "                                                                                                  \n",
      " time_distributed_4 (TimeDistri  (None, 3, 3, 5, 480  4800       ['DeepInput[0][0]']              \n",
      " buted)                         )                                                                 \n",
      "                                                                                                  \n",
      " time_distributed_3 (TimeDistri  (None, 3, 21)       0           ['WideInput[0][0]']              \n",
      " buted)                                                                                           \n",
      "                                                                                                  \n",
      " time_distributed_5 (TimeDistri  (None, 3, 7200)     0           ['time_distributed_4[0][0]']     \n",
      " buted)                                                                                           \n",
      "                                                                                                  \n",
      " bidirectional_1 (Bidirectional  (None, 3, 51)       29784       ['time_distributed_3[0][0]']     \n",
      " )                                                                                                \n",
      "                                                                                                  \n",
      " lstm_3 (LSTM)                  (None, 3, 51)        1479408     ['time_distributed_5[0][0]']     \n",
      "                                                                                                  \n",
      " concatenate_1 (Concatenate)    (None, 6, 51)        0           ['bidirectional_1[0][0]',        \n",
      "                                                                  'lstm_3[0][0]']                 \n",
      "                                                                                                  \n",
      " seq_self_attention_1 (SeqSelfA  (None, 6, 51)       3329        ['concatenate_1[0][0]']          \n",
      " ttention)                                                                                        \n",
      "                                                                                                  \n",
      " flatten_5 (Flatten)            (None, 306)          0           ['seq_self_attention_1[0][0]']   \n",
      "                                                                                                  \n",
      " output (Dense)                 (None, 7)            2149        ['flatten_5[0][0]']              \n",
      "                                                                                                  \n",
      "==================================================================================================\n",
      "Total params: 1,519,470\n",
      "Trainable params: 1,519,470\n",
      "Non-trainable params: 0\n",
      "__________________________________________________________________________________________________\n"
     ]
    }
   ],
   "source": [
    "model5.summary()"
   ]
  },
  {
   "cell_type": "code",
   "execution_count": 39,
   "metadata": {},
   "outputs": [
    {
     "name": "stdout",
     "output_type": "stream",
     "text": [
      "Epoch 1/100\n",
      "972/972 [==============================] - 41s 33ms/step - loss: 0.9993 - mean_absolute_error: 219.6720 - root_mean_squared_error: 247.8324 - mean_absolute_percentage_error: 42757.4688\n",
      "Epoch 2/100\n",
      "972/972 [==============================] - 32s 33ms/step - loss: 0.9992 - mean_absolute_error: 219.6058 - root_mean_squared_error: 247.7725 - mean_absolute_percentage_error: 68540.3047\n",
      "Epoch 3/100\n",
      "972/972 [==============================] - 32s 33ms/step - loss: 0.9992 - mean_absolute_error: 219.6082 - root_mean_squared_error: 247.7756 - mean_absolute_percentage_error: 69027.9297\n",
      "Epoch 4/100\n",
      "972/972 [==============================] - 32s 33ms/step - loss: 0.9992 - mean_absolute_error: 219.6087 - root_mean_squared_error: 247.7772 - mean_absolute_percentage_error: 68690.2109: - ETA: 9s - loss: 0.9991 - me - ETA: 1s - loss: 0.9992 - mean_absolute_error: 219.5474 - root_mean_squared_error: 247.7071 - mean_a\n",
      "Epoch 5/100\n",
      "972/972 [==============================] - 32s 33ms/step - loss: 0.9992 - mean_absolute_error: 219.6003 - root_mean_squared_error: 247.7697 - mean_absolute_percentage_error: 70128.0234\n",
      "Epoch 6/100\n",
      "972/972 [==============================] - 32s 33ms/step - loss: 0.9992 - mean_absolute_error: 219.5988 - root_mean_squared_error: 247.7692 - mean_absolute_percentage_error: 69330.7266\n",
      "Epoch 7/100\n",
      "972/972 [==============================] - 32s 33ms/step - loss: 0.9992 - mean_absolute_error: 219.5954 - root_mean_squared_error: 247.7659 - mean_absolute_percentage_error: 68764.0156\n",
      "Epoch 8/100\n",
      "972/972 [==============================] - 32s 33ms/step - loss: 0.9993 - mean_absolute_error: 219.5980 - root_mean_squared_error: 247.7696 - mean_absolute_percentage_error: 67579.5547\n",
      "Epoch 9/100\n",
      "972/972 [==============================] - 32s 33ms/step - loss: 0.9992 - mean_absolute_error: 219.5903 - root_mean_squared_error: 247.7633 - mean_absolute_percentage_error: 68674.3672\n",
      "Epoch 10/100\n",
      "972/972 [==============================] - 31s 32ms/step - loss: 0.9992 - mean_absolute_error: 219.5846 - root_mean_squared_error: 247.7586 - mean_absolute_percentage_error: 69723.1641\n",
      "Epoch 11/100\n",
      "972/972 [==============================] - 32s 33ms/step - loss: 0.9992 - mean_absolute_error: 219.5775 - root_mean_squared_error: 247.7524 - mean_absolute_percentage_error: 68645.1562\n",
      "Epoch 12/100\n",
      "972/972 [==============================] - 32s 33ms/step - loss: 0.9992 - mean_absolute_error: 219.5763 - root_mean_squared_error: 247.7518 - mean_absolute_percentage_error: 68320.7031\n",
      "Epoch 13/100\n",
      "972/972 [==============================] - 32s 33ms/step - loss: 0.9992 - mean_absolute_error: 219.5689 - root_mean_squared_error: 247.7459 - mean_absolute_percentage_error: 68594.7734\n",
      "Epoch 14/100\n",
      "972/972 [==============================] - 31s 32ms/step - loss: 0.9992 - mean_absolute_error: 219.5643 - root_mean_squared_error: 247.7426 - mean_absolute_percentage_error: 68442.6406\n",
      "Epoch 15/100\n",
      "972/972 [==============================] - 32s 33ms/step - loss: 0.9992 - mean_absolute_error: 219.5607 - root_mean_squared_error: 247.7402 - mean_absolute_percentage_error: 68774.8281\n",
      "Epoch 16/100\n",
      "972/972 [==============================] - 32s 33ms/step - loss: 0.9992 - mean_absolute_error: 219.5518 - root_mean_squared_error: 247.7319 - mean_absolute_percentage_error: 68547.15620s - loss: 0.9992 - mean_absolute_error: 219.5355 - root_mean_squared_error: 247.7275 - mean_absolute_pe\n",
      "Epoch 17/100\n",
      "972/972 [==============================] - 32s 33ms/step - loss: 0.9992 - mean_absolute_error: 219.5502 - root_mean_squared_error: 247.7326 - mean_absolute_percentage_error: 68331.7109: 25s - loss: 0.\n",
      "Epoch 18/100\n",
      "972/972 [==============================] - 32s 33ms/step - loss: 0.9992 - mean_absolute_error: 219.5390 - root_mean_squared_error: 247.7231 - mean_absolute_percentage_error: 69061.4609\n",
      "Epoch 19/100\n",
      "972/972 [==============================] - 31s 32ms/step - loss: 0.9992 - mean_absolute_error: 219.5367 - root_mean_squared_error: 247.7223 - mean_absolute_percentage_error: 67891.7969\n",
      "Epoch 20/100\n",
      "972/972 [==============================] - 32s 33ms/step - loss: 0.9992 - mean_absolute_error: 219.5259 - root_mean_squared_error: 247.7134 - mean_absolute_percentage_error: 69008.5938: 16s - loss: 0.9991 - mean_absolute_error: 2\n",
      "Epoch 21/100\n",
      "972/972 [==============================] - 32s 33ms/step - loss: 0.9992 - mean_absolute_error: 219.5164 - root_mean_squared_error: 247.7054 - mean_absolute_percentage_error: 69095.8594\n",
      "Epoch 22/100\n",
      "972/972 [==============================] - 32s 33ms/step - loss: 0.9992 - mean_absolute_error: 219.5052 - root_mean_squared_error: 247.6961 - mean_absolute_percentage_error: 69415.4375\n",
      "Epoch 23/100\n",
      "972/972 [==============================] - 32s 33ms/step - loss: 0.9992 - mean_absolute_error: 219.4884 - root_mean_squared_error: 247.6812 - mean_absolute_percentage_error: 68884.0859\n",
      "Epoch 24/100\n",
      "972/972 [==============================] - 32s 33ms/step - loss: 0.9992 - mean_absolute_error: 219.4693 - root_mean_squared_error: 247.6610 - mean_absolute_percentage_error: 68253.9375\n",
      "Epoch 25/100\n",
      "972/972 [==============================] - 32s 33ms/step - loss: 0.9992 - mean_absolute_error: 219.4691 - root_mean_squared_error: 247.6653 - mean_absolute_percentage_error: 69805.8828\n",
      "Epoch 26/100\n",
      "972/972 [==============================] - 32s 33ms/step - loss: 0.9992 - mean_absolute_error: 219.4602 - root_mean_squared_error: 247.6602 - mean_absolute_percentage_error: 69528.00003s - los\n",
      "Epoch 27/100\n",
      "972/972 [==============================] - 32s 33ms/step - loss: 0.9992 - mean_absolute_error: 219.4436 - root_mean_squared_error: 247.6468 - mean_absolute_percentage_error: 68413.7969\n",
      "Epoch 28/100\n",
      "972/972 [==============================] - 31s 31ms/step - loss: 0.9992 - mean_absolute_error: 219.4273 - root_mean_squared_error: 247.6349 - mean_absolute_percentage_error: 68964.7734\n",
      "Epoch 29/100\n",
      "972/972 [==============================] - 26s 26ms/step - loss: 0.9993 - mean_absolute_error: 219.4124 - root_mean_squared_error: 247.6229 - mean_absolute_percentage_error: 67883.8750\n",
      "Epoch 30/100\n",
      "972/972 [==============================] - 29s 29ms/step - loss: 0.9992 - mean_absolute_error: 219.3914 - root_mean_squared_error: 247.6079 - mean_absolute_percentage_error: 68921.71097s - loss: 0.9992 - mean_absolute_error: 219.5013 - root_mean_squared_error: 247.7428 - mean_absolute_percentage_e - ETA: 6s - loss: 0.9992 - mean_absolute_error: 219.4220 - root_mean_squared_error: 247.7025 - mean_absolute_percentage - ETA: 6s - loss: 0.9992 - mean_absolute_error: 219.2996 - root_mean_squared_error: 247.6083 - mean_absolute_perc - ETA: 5s - loss: 0.9992 - me - ETA: 1s - loss: 0.9992 - mean_absolute_error: 219.3820 - root_mean_squared_error: 247.6322 - mean_abs - ETA: 0s - loss: 0.9992 - mean_absolute_error: 219.4463 - root_mean_squared_error: 247.6651 - mean_absolute_percentage_error\n",
      "Epoch 31/100\n",
      "972/972 [==============================] - 29s 30ms/step - loss: 0.9992 - mean_absolute_error: 219.3851 - root_mean_squared_error: 247.6061 - mean_absolute_percentage_error: 68879.2656\n",
      "Epoch 32/100\n",
      "972/972 [==============================] - 29s 30ms/step - loss: 0.9992 - mean_absolute_error: 219.3513 - root_mean_squared_error: 247.5807 - mean_absolute_percentage_error: 68993.28120s - loss: 0.9992 - mean_absolute_error: 219.3436 - root_mean_squared_error: 247.5733 - mean_absolute_percentage_error: 68742.\n",
      "Epoch 33/100\n",
      "972/972 [==============================] - 28s 29ms/step - loss: 0.9992 - mean_absolute_error: 219.3103 - root_mean_squared_error: 247.5467 - mean_absolute_percentage_error: 67331.5391\n",
      "Epoch 34/100\n",
      "972/972 [==============================] - 29s 29ms/step - loss: 0.9992 - mean_absolute_error: 219.2637 - root_mean_squared_error: 247.5090 - mean_absolute_percentage_error: 68978.5234\n",
      "Epoch 35/100\n",
      "972/972 [==============================] - 27s 28ms/step - loss: 0.9992 - mean_absolute_error: 219.2335 - root_mean_squared_error: 247.4899 - mean_absolute_percentage_error: 67996.6250: 27s - loss: 0.9993 - mean_absolute_error: 217.1750 - root_mean_squa - ETA: 23s - loss: 0.9990 - mean_absolute_error: 218.5044 - root_mean_squared_error: 247.1439 - m\n",
      "Epoch 36/100\n",
      "972/972 [==============================] - 27s 28ms/step - loss: 0.9993 - mean_absolute_error: 219.1739 - root_mean_squared_error: 247.4458 - mean_absolute_percentage_error: 68641.36720s - loss: 0.9993 - mean_absolute_error: 219.4092 - root_mean_squared_error: 247.6156 - mean_absolute_pe\n",
      "Epoch 37/100\n",
      "972/972 [==============================] - 29s 29ms/step - loss: 0.9993 - mean_absolute_error: 218.9090 - root_mean_squared_error: 247.2018 - mean_absolute_percentage_error: 68667.67970s - loss: 0.9993 - mean_absolute_error: 218.8172 - root_mean_squared_error: 247.1488 - mean_absolut\n",
      "Epoch 38/100\n",
      "972/972 [==============================] - 28s 29ms/step - loss: 0.9992 - mean_absolute_error: 218.9454 - root_mean_squared_error: 247.2546 - mean_absolute_percentage_error: 68890.2578: 11s - ETA: 1s - loss: 0.9992 - mean_absolute_error: 219.1142 - root_mean_squared_er\n",
      "Epoch 39/100\n",
      "972/972 [==============================] - 29s 29ms/step - loss: 0.9992 - mean_absolute_error: 218.7448 - root_mean_squared_error: 247.0734 - mean_absolute_percentage_error: 69264.33594s - loss: 0.9992 - mean_absolute_error: 218.6782 - root_mean_squared_error: 247.0089 - mean_absolute_percentage_error - ETA: 4s - loss: 0.9992 - mean_absolute_error: 218.6853 - root_mean_squared_error: 247.0121 - mean_abs - ETA: 3s - loss: 0.9992 - mean_absolute_error: 218.7896 - root_mean_squared_error: 247.0421 - mean_absolute_ - ETA: 2s - loss: 0.9992 - mean_absolute_error: 218.7996 - root_m\n",
      "Epoch 40/100\n",
      "972/972 [==============================] - 29s 30ms/step - loss: 0.9989 - mean_absolute_error: 216.4414 - root_mean_squared_error: 245.1760 - mean_absolute_percentage_error: 79327.34383s - loss: 0.9988 - mean_absolute_error: 216.8447 - root_mean_squared_error: 245.5726 - mean_absolute_ - ETA: 2s - loss: 0.9988 - mean_absolute_error: 216.6556 - root_mean_squared_error: 245.4116 -  - ETA: 1s - loss: 0.9988 - mean_absolute_error: 216.5954 - root_mean_squared_error: 245.379 - ETA: 0s - loss: 0.9989 - mean_absolute_error: 216.4716 - root_mean_squared_error: 245.2027 - mean_absolute_percentage_error: \n",
      "Epoch 41/100\n",
      "972/972 [==============================] - 28s 29ms/step - loss: 0.8704 - mean_absolute_error: 178.6300 - root_mean_squared_error: 223.3476 - mean_absolute_percentage_error: 235619.0000 7s - loss: 0.8827 - mean_absolute_error: 180.8311 - root_mean_squared_error: 224.2966 - mean_a - ETA: 4s - loss: 0.8775 - mean_absolute_error: 180.0684 - root_mean_squared_error: 22 - ETA: 1s - loss: 0.8723 - mean_absolute_error: 179.0480 - root_mean_squared_error: 223.5970 - mean_absolute_pe\n",
      "Epoch 42/100\n",
      "972/972 [==============================] - 28s 29ms/step - loss: 0.8351 - mean_absolute_error: 172.7808 - root_mean_squared_error: 220.9787 - mean_absolute_percentage_error: 177252.1562\n",
      "Epoch 43/100\n",
      "972/972 [==============================] - 28s 29ms/step - loss: 0.8326 - mean_absolute_error: 172.5432 - root_mean_squared_error: 220.8268 - mean_absolute_percentage_error: 175614.3750\n",
      "Epoch 44/100\n",
      "972/972 [==============================] - 29s 30ms/step - loss: 0.8310 - mean_absolute_error: 172.4653 - root_mean_squared_error: 220.7794 - mean_absolute_percentage_error: 185305.4062 18s  - ETA: 14s - loss: 0.8318 - mean_absolute_error: 172.3897 - root_mean_squared_error: 220.6747 - mean_absolute_percentage_erro - ETA: 14 - ETA: 10s - loss: 0.8311 - mean_absolute_error: 172.6788 - root_mean_squared_error: 220.9798 - mean_absolute_perce - ETA: 8s - loss: 0.8309 - mean_absolute_error: 172.8418  - ETA: 3s - loss: 0.8310 - mean_absolute_error: 172.6059 - root_mean_squared\n",
      "Epoch 45/100\n",
      "972/972 [==============================] - 29s 29ms/step - loss: 0.8312 - mean_absolute_error: 172.4590 - root_mean_squared_error: 220.7490 - mean_absolute_percentage_error: 192062.5312 8s - loss: 0.8309 - mean_absolute_ - ETA: 2s - loss: 0.8310 - mean_absolute_error: 172.5995 - root_mean_squared_error: 220.8850 - \n",
      "Epoch 46/100\n",
      "972/972 [==============================] - 28s 29ms/step - loss: 0.8306 - mean_absolute_error: 172.4106 - root_mean_squared_error: 220.7251 - mean_absolute_percentage_error: 196700.3750\n",
      "Epoch 47/100\n",
      "972/972 [==============================] - 24s 25ms/step - loss: 0.8302 - mean_absolute_error: 172.3705 - root_mean_squared_error: 220.6724 - mean_absolute_percentage_error: 200853.2969\n",
      "Epoch 48/100\n",
      "972/972 [==============================] - 26s 27ms/step - loss: 0.8289 - mean_absolute_error: 172.3184 - root_mean_squared_error: 220.6231 - mean_absolute_percentage_error: 202584.5469\n",
      "Epoch 49/100\n",
      "972/972 [==============================] - 26s 27ms/step - loss: 0.8305 - mean_absolute_error: 172.2948 - root_mean_squared_error: 220.5661 - mean_absolute_percentage_error: 198814.3281\n",
      "Epoch 50/100\n",
      "972/972 [==============================] - 27s 27ms/step - loss: 0.8296 - mean_absolute_error: 172.2221 - root_mean_squared_error: 220.4811 - mean_absolute_percentage_error: 203866.6562\n",
      "Epoch 51/100\n",
      "972/972 [==============================] - 26s 27ms/step - loss: 0.8298 - mean_absolute_error: 172.2127 - root_mean_squared_error: 220.4562 - mean_absolute_percentage_error: 219160.1875\n",
      "Epoch 52/100\n",
      "972/972 [==============================] - 26s 27ms/step - loss: 0.8296 - mean_absolute_error: 172.1828 - root_mean_squared_error: 220.4529 - mean_absolute_percentage_error: 218706.6719\n",
      "Epoch 53/100\n",
      "972/972 [==============================] - 27s 28ms/step - loss: 0.8291 - mean_absolute_error: 172.1609 - root_mean_squared_error: 220.4388 - mean_absolute_percentage_error: 209963.6406\n",
      "Epoch 54/100\n",
      "972/972 [==============================] - 26s 27ms/step - loss: 0.8296 - mean_absolute_error: 172.2157 - root_mean_squared_error: 220.4791 - mean_absolute_percentage_error: 210911.1875\n",
      "Epoch 55/100\n",
      "972/972 [==============================] - 27s 27ms/step - loss: 0.8289 - mean_absolute_error: 172.2478 - root_mean_squared_error: 220.5549 - mean_absolute_percentage_error: 199889.7969\n",
      "Epoch 56/100\n",
      "972/972 [==============================] - 26s 27ms/step - loss: 0.8287 - mean_absolute_error: 172.2079 - root_mean_squared_error: 220.5227 - mean_absolute_percentage_error: 200952.5781\n",
      "Epoch 57/100\n",
      "972/972 [==============================] - 26s 27ms/step - loss: 0.8287 - mean_absolute_error: 172.1834 - root_mean_squared_error: 220.4833 - mean_absolute_percentage_error: 200633.8750\n",
      "Epoch 58/100\n",
      "972/972 [==============================] - 27s 28ms/step - loss: 0.8283 - mean_absolute_error: 172.1172 - root_mean_squared_error: 220.4419 - mean_absolute_percentage_error: 194830.5938\n",
      "Epoch 59/100\n",
      "972/972 [==============================] - 26s 27ms/step - loss: 0.8285 - mean_absolute_error: 172.1375 - root_mean_squared_error: 220.4155 - mean_absolute_percentage_error: 190714.9375\n",
      "Epoch 60/100\n",
      "972/972 [==============================] - 26s 27ms/step - loss: 0.8288 - mean_absolute_error: 172.0796 - root_mean_squared_error: 220.3639 - mean_absolute_percentage_error: 189883.8750\n",
      "Epoch 61/100\n",
      "972/972 [==============================] - 27s 27ms/step - loss: 0.8296 - mean_absolute_error: 172.1227 - root_mean_squared_error: 220.3870 - mean_absolute_percentage_error: 180367.5469 1s - loss: 0.8295 - mean_absolute_error: 172.2821 - root_mean_squared_error: 220.6062 - mean_absolute_perce\n",
      "Epoch 62/100\n",
      "972/972 [==============================] - 27s 27ms/step - loss: 0.8280 - mean_absolute_error: 172.0483 - root_mean_squared_error: 220.3656 - mean_absolute_percentage_error: 179171.3750\n",
      "Epoch 63/100\n",
      "972/972 [==============================] - 26s 27ms/step - loss: 0.8279 - mean_absolute_error: 172.0248 - root_mean_squared_error: 220.3217 - mean_absolute_percentage_error: 174395.9375\n",
      "Epoch 64/100\n",
      "972/972 [==============================] - 27s 27ms/step - loss: 0.8279 - mean_absolute_error: 172.0027 - root_mean_squared_error: 220.3063 - mean_absolute_percentage_error: 168818.6406\n",
      "Epoch 65/100\n"
     ]
    },
    {
     "name": "stdout",
     "output_type": "stream",
     "text": [
      "972/972 [==============================] - 26s 27ms/step - loss: 0.8279 - mean_absolute_error: 171.9308 - root_mean_squared_error: 220.2235 - mean_absolute_percentage_error: 164532.4688\n",
      "Epoch 66/100\n",
      "972/972 [==============================] - 26s 27ms/step - loss: 0.8283 - mean_absolute_error: 171.9010 - root_mean_squared_error: 220.1723 - mean_absolute_percentage_error: 159559.3438\n",
      "Epoch 67/100\n",
      "972/972 [==============================] - 27s 28ms/step - loss: 0.8282 - mean_absolute_error: 171.8943 - root_mean_squared_error: 220.1580 - mean_absolute_percentage_error: 159646.4219\n",
      "Epoch 68/100\n",
      "972/972 [==============================] - 26s 27ms/step - loss: 0.8277 - mean_absolute_error: 171.8473 - root_mean_squared_error: 220.1092 - mean_absolute_percentage_error: 155282.4062\n",
      "Epoch 69/100\n",
      "972/972 [==============================] - 27s 27ms/step - loss: 0.8289 - mean_absolute_error: 171.8526 - root_mean_squared_error: 220.0819 - mean_absolute_percentage_error: 149902.5156\n",
      "Epoch 70/100\n",
      "972/972 [==============================] - 24s 25ms/step - loss: 0.8281 - mean_absolute_error: 171.8009 - root_mean_squared_error: 220.0519 - mean_absolute_percentage_error: 151359.8438\n",
      "Epoch 71/100\n",
      "972/972 [==============================] - 27s 28ms/step - loss: 0.8274 - mean_absolute_error: 171.7516 - root_mean_squared_error: 220.0083 - mean_absolute_percentage_error: 151068.0469\n",
      "Epoch 72/100\n",
      "972/972 [==============================] - 26s 27ms/step - loss: 0.8286 - mean_absolute_error: 171.7617 - root_mean_squared_error: 219.9697 - mean_absolute_percentage_error: 144262.5625\n",
      "Epoch 73/100\n",
      "972/972 [==============================] - 26s 27ms/step - loss: 0.8275 - mean_absolute_error: 171.7080 - root_mean_squared_error: 219.9513 - mean_absolute_percentage_error: 139327.3438\n",
      "Epoch 74/100\n",
      "972/972 [==============================] - 27s 27ms/step - loss: 0.8276 - mean_absolute_error: 171.6832 - root_mean_squared_error: 219.9093 - mean_absolute_percentage_error: 138960.3906\n",
      "Epoch 75/100\n",
      "972/972 [==============================] - 26s 27ms/step - loss: 0.8279 - mean_absolute_error: 171.6838 - root_mean_squared_error: 219.8955 - mean_absolute_percentage_error: 135392.0625\n",
      "Epoch 76/100\n",
      "972/972 [==============================] - 27s 27ms/step - loss: 0.8280 - mean_absolute_error: 171.6489 - root_mean_squared_error: 219.8659 - mean_absolute_percentage_error: 131872.6562\n",
      "Epoch 77/100\n",
      "972/972 [==============================] - 27s 27ms/step - loss: 0.8279 - mean_absolute_error: 171.6360 - root_mean_squared_error: 219.8219 - mean_absolute_percentage_error: 129677.6797 1s - loss: 0.8283 - mean_absolute_error: 171.7863 - root_mean_squared_error: 219.9587 - mean_absolute\n",
      "Epoch 78/100\n",
      "972/972 [==============================] - 26s 27ms/step - loss: 0.8282 - mean_absolute_error: 171.6167 - root_mean_squared_error: 219.7929 - mean_absolute_percentage_error: 122655.0078\n",
      "Epoch 79/100\n",
      "972/972 [==============================] - 26s 27ms/step - loss: 0.8271 - mean_absolute_error: 171.5461 - root_mean_squared_error: 219.7440 - mean_absolute_percentage_error: 118418.3516\n",
      "Epoch 80/100\n",
      "972/972 [==============================] - 31s 31ms/step - loss: 0.8277 - mean_absolute_error: 171.5178 - root_mean_squared_error: 219.7045 - mean_absolute_percentage_error: 117560.3594\n",
      "Epoch 81/100\n",
      "972/972 [==============================] - 31s 32ms/step - loss: 0.8272 - mean_absolute_error: 171.4826 - root_mean_squared_error: 219.6644 - mean_absolute_percentage_error: 111338.0391\n",
      "Epoch 82/100\n",
      "972/972 [==============================] - 31s 32ms/step - loss: 0.8270 - mean_absolute_error: 171.4249 - root_mean_squared_error: 219.6111 - mean_absolute_percentage_error: 104007.3438\n",
      "Epoch 83/100\n",
      "972/972 [==============================] - 31s 32ms/step - loss: 0.8275 - mean_absolute_error: 171.4199 - root_mean_squared_error: 219.5780 - mean_absolute_percentage_error: 97533.0938\n",
      "Epoch 84/100\n",
      "972/972 [==============================] - 32s 32ms/step - loss: 0.8278 - mean_absolute_error: 171.3863 - root_mean_squared_error: 219.5406 - mean_absolute_percentage_error: 99383.6484: 8s - loss: 0.8284 - mean_absolute_error: 171.3804 - root_mean_squared_error: 219.5316  - ETA: 5s - loss: 0.8282 - mean_absolute_error: 171.3033 - root_mean_squared_error: - ETA: 1s - loss: 0.8276 - mean_absolute_error: 171.3891 - root_mean_squared_error: 219.\n",
      "Epoch 85/100\n",
      "972/972 [==============================] - 31s 32ms/step - loss: 0.8274 - mean_absolute_error: 171.3308 - root_mean_squared_error: 219.4724 - mean_absolute_percentage_error: 90464.5781\n",
      "Epoch 86/100\n",
      "972/972 [==============================] - 31s 32ms/step - loss: 0.8280 - mean_absolute_error: 171.8261 - root_mean_squared_error: 220.0938 - mean_absolute_percentage_error: 160916.1250 4s - loss: 0.8282 - mean_absolute_error: 171.9512 - root_mean_squared_error: 220.2155 - mean_absolute_perc - ETA: 2s - loss: 0.8281 - mean_absolute_error: 171.9535 - root_mean_squared_error: 220.2326 \n",
      "Epoch 87/100\n",
      "972/972 [==============================] - 31s 32ms/step - loss: 0.8271 - mean_absolute_error: 172.9423 - root_mean_squared_error: 221.5193 - mean_absolute_percentage_error: 277589.0312 0s - loss: 0.8272 - mean_absolute_error: 172.8689 - root_mean_squared_error: 221.4338 - mean_absolute_percentage_er\n",
      "Epoch 88/100\n",
      "972/972 [==============================] - 31s 32ms/step - loss: 0.8271 - mean_absolute_error: 172.9137 - root_mean_squared_error: 221.4716 - mean_absolute_percentage_error: 268494.5625 16s - loss: 0.8265 - mea \n",
      "Epoch 89/100\n",
      "972/972 [==============================] - 31s 32ms/step - loss: 0.8270 - mean_absolute_error: 172.8524 - root_mean_squared_error: 221.4089 - mean_absolute_percentage_error: 257649.6406 2s - loss: 0.8270 - mean_absolute_error: 172.8272 - root_mean_squared_error: 221.3765 - mean_absolute_percentage_error: 253939 - ETA: 2s - loss: 0.8270 - mean_absolute_error: 172.8333 - root_mean_squared_error: 221.3716 - mean_ab\n",
      "Epoch 90/100\n",
      "972/972 [==============================] - 31s 32ms/step - loss: 0.8270 - mean_absolute_error: 172.7840 - root_mean_squared_error: 221.3280 - mean_absolute_percentage_error: 248333.9375\n",
      "Epoch 91/100\n",
      "972/972 [==============================] - 31s 32ms/step - loss: 0.8268 - mean_absolute_error: 172.7286 - root_mean_squared_error: 221.2665 - mean_absolute_percentage_error: 239824.9219 16s - loss: 0.8267 - mean_absolu - ETA: 1 - ETA: 5s - loss: 0.8268 - mean_absolute_error: 172.6592 \n",
      "Epoch 92/100\n",
      "972/972 [==============================] - 31s 32ms/step - loss: 0.8268 - mean_absolute_error: 172.6628 - root_mean_squared_error: 221.2027 - mean_absolute_percentage_error: 233620.0312 0s - loss: 0.8267 - mean_absolute_error: 172.6323 - root_mean_squared_error: 221.1539 - mean_absolute_percentage_error: 2297\n",
      "Epoch 93/100\n",
      "972/972 [==============================] - 31s 32ms/step - loss: 0.8272 - mean_absolute_error: 172.6816 - root_mean_squared_error: 221.1818 - mean_absolute_percentage_error: 231996.5469\n",
      "Epoch 94/100\n",
      "972/972 [==============================] - 31s 32ms/step - loss: 0.8273 - mean_absolute_error: 172.5999 - root_mean_squared_error: 221.0702 - mean_absolute_percentage_error: 216755.6250\n",
      "Epoch 95/100\n",
      "972/972 [==============================] - 31s 32ms/step - loss: 0.8272 - mean_absolute_error: 172.5593 - root_mean_squared_error: 221.0392 - mean_absolute_percentage_error: 213810.5312\n",
      "Epoch 96/100\n",
      "972/972 [==============================] - 31s 32ms/step - loss: 0.8270 - mean_absolute_error: 172.4969 - root_mean_squared_error: 220.9479 - mean_absolute_percentage_error: 201531.6094 1s - loss: 0.8272 - mean_absolute_error: 172.6567 - root_mean_squared_error: 221.0768 - mean_absolute_percen\n",
      "Epoch 97/100\n",
      "972/972 [==============================] - 31s 32ms/step - loss: 0.8264 - mean_absolute_error: 172.4067 - root_mean_squared_error: 220.8566 - mean_absolute_percentage_error: 188435.2188: 7s - loss: 0.8267 - mean_absolute_error: 172.8320 - root_mean_squared_error: 221.2002 - mean_absolute_percentage_error: 181980.078 - ETA: 7s - loss: 0.8267 - mean_absolute_e - ETA: 1s - loss: 0.8265 - mean_absolute_error: 172.2587 - root_mean_squared_error: 220.6833 - mean_absolute_percentage_er\n",
      "Epoch 98/100\n",
      "972/972 [==============================] - 31s 32ms/step - loss: 0.8271 - mean_absolute_error: 172.4024 - root_mean_squared_error: 220.8200 - mean_absolute_percentage_error: 189910.8750 8s - loss: 0.8270 - mean_absolute_error: 172.0813 - root_mean_squared_error:  - ETA: 5s - loss: 0.8271 - mean_absolute_error: 172.0854 - root_mean_squared_error: 220.5247 - mean_absolute_percentage_error: 192897.656 - ETA: 5s - loss: 0.8271 - mean_absolute_error: 172.0767 - r\n",
      "Epoch 99/100\n",
      "972/972 [==============================] - 31s 32ms/step - loss: 0.8265 - mean_absolute_error: 172.3075 - root_mean_squared_error: 220.7326 - mean_absolute_percentage_error: 188751.0625\n",
      "Epoch 100/100\n",
      "972/972 [==============================] - 31s 32ms/step - loss: 0.8265 - mean_absolute_error: 172.2863 - root_mean_squared_error: 220.7092 - mean_absolute_percentage_error: 186722.0000\n"
     ]
    },
    {
     "data": {
      "text/plain": [
       "<keras.callbacks.History at 0x1d196be1940>"
      ]
     },
     "execution_count": 39,
     "metadata": {},
     "output_type": "execute_result"
    }
   ],
   "source": [
    "model5.fit((Wt5,Xt5), yt5, \n",
    "           epochs = 100, \n",
    "           verbose = 1)"
   ]
  },
  {
   "cell_type": "code",
   "execution_count": 41,
   "metadata": {},
   "outputs": [
    {
     "name": "stderr",
     "output_type": "stream",
     "text": [
      "WARNING:absl:Function `_wrapped_model` contains input name(s) WideInput, DeepInput with unsupported characters which will be renamed to wideinput, deepinput in the SavedModel.\n"
     ]
    },
    {
     "name": "stdout",
     "output_type": "stream",
     "text": [
      "INFO:tensorflow:Assets written to: my_dir/8c-5\\assets\n"
     ]
    },
    {
     "name": "stderr",
     "output_type": "stream",
     "text": [
      "INFO:tensorflow:Assets written to: my_dir/8c-5\\assets\n",
      "WARNING:absl:<keras.layers.recurrent.LSTMCell object at 0x000001D196C1E8E0> has the same name 'LSTMCell' as a built-in Keras object. Consider renaming <class 'keras.layers.recurrent.LSTMCell'> to avoid naming conflicts when loading with `tf.keras.models.load_model`. If renaming is not possible, pass the object in the `custom_objects` parameter of the load function.\n",
      "WARNING:absl:<keras.layers.recurrent.LSTMCell object at 0x000001D1989680D0> has the same name 'LSTMCell' as a built-in Keras object. Consider renaming <class 'keras.layers.recurrent.LSTMCell'> to avoid naming conflicts when loading with `tf.keras.models.load_model`. If renaming is not possible, pass the object in the `custom_objects` parameter of the load function.\n",
      "WARNING:absl:<keras.layers.recurrent.LSTMCell object at 0x000001D198968940> has the same name 'LSTMCell' as a built-in Keras object. Consider renaming <class 'keras.layers.recurrent.LSTMCell'> to avoid naming conflicts when loading with `tf.keras.models.load_model`. If renaming is not possible, pass the object in the `custom_objects` parameter of the load function.\n"
     ]
    }
   ],
   "source": [
    "model5.save(\"my_dir/8c-5\")"
   ]
  },
  {
   "cell_type": "code",
   "execution_count": 42,
   "metadata": {},
   "outputs": [],
   "source": [
    "metrics5 = pd.DataFrame(model5.history.history)"
   ]
  },
  {
   "cell_type": "code",
   "execution_count": 43,
   "metadata": {},
   "outputs": [
    {
     "data": {
      "text/plain": [
       "<AxesSubplot:>"
      ]
     },
     "execution_count": 43,
     "metadata": {},
     "output_type": "execute_result"
    },
    {
     "data": {
      "image/png": "[encoded data removed]",
      "text/plain": [
       "<Figure size 432x288 with 1 Axes>"
      ]
     },
     "metadata": {
      "needs_background": "light"
     },
     "output_type": "display_data"
    }
   ],
   "source": [
    "metrics5[['loss']].plot()"
   ]
  },
  {
   "cell_type": "code",
   "execution_count": 44,
   "metadata": {},
   "outputs": [],
   "source": [
    "model5 = keras.models.load_model(\"my_dir/8c-5\", custom_objects={'custom_loss': custom_loss}) "
   ]
  },
  {
   "cell_type": "code",
   "execution_count": 45,
   "metadata": {},
   "outputs": [
    {
     "data": {
      "text/plain": [
       "array([[-3.5697749e-01, -4.2536736e-02,  8.6384547e-01, ...,\n",
       "        -6.4420000e-02,  3.9009808e+01,  3.9596542e+01],\n",
       "       [-3.3588257e-01, -4.3284714e-02,  8.2569957e-01, ...,\n",
       "        -6.1196879e-02,  3.7206532e+01,  3.8045452e+01],\n",
       "       [-3.1702513e-01, -4.2210877e-02,  7.7966577e-01, ...,\n",
       "        -5.7057977e-02,  3.5237518e+01,  3.6358444e+01],\n",
       "       ...,\n",
       "       [-7.2336674e-01, -4.2285442e-02,  1.9417534e+00, ...,\n",
       "        -2.3616803e-01,  9.7024292e+01,  9.0005287e+01],\n",
       "       [-6.8346047e-01, -3.9831758e-02,  1.8472971e+00, ...,\n",
       "        -2.2491547e-01,  9.1915833e+01,  8.5565544e+01],\n",
       "       [-6.4554155e-01, -3.9665759e-02,  1.7275120e+00, ...,\n",
       "        -2.0503843e-01,  8.5759979e+01,  8.0212563e+01]], dtype=float32)"
      ]
     },
     "execution_count": 45,
     "metadata": {},
     "output_type": "execute_result"
    }
   ],
   "source": [
    "model5.predict((Wv5,Xv5))"
   ]
  },
  {
   "cell_type": "markdown",
   "metadata": {},
   "source": [
    "### Evaluation on inverse_transform"
   ]
  },
  {
   "cell_type": "code",
   "execution_count": null,
   "metadata": {},
   "outputs": [],
   "source": [
    "test_predictions5 = model5.predict((Wv5,Xv5))\n",
    "\n",
    "\n",
    "MSE5 = mean_squared_error(yv5,test_predictions5)\n",
    "\n",
    "MAE5 = mean_absolute_error(yv5,test_predictions5)\n",
    "\n",
    "RMSE5 = np.sqrt(MSE5)\n",
    "\n",
    "MAPE5 = mean_absolute_percentage_error(yv5,test_predictions5)*100\n",
    "\n",
    "eval5 = [MSE5, MAE5, RMSE5, MAPE5]\n",
    "print(eval5)"
   ]
  },
  {
   "cell_type": "code",
   "execution_count": null,
   "metadata": {},
   "outputs": [],
   "source": [
    "GEH, count = ga.GEH(np.asarray(yv5), np.asarray(test_predictions5))\n",
    "GEH5 = count/GEH.size\n",
    "print(GEH5)"
   ]
  },
  {
   "cell_type": "markdown",
   "metadata": {},
   "source": [
    "# 15 mins ahead"
   ]
  },
  {
   "cell_type": "code",
   "execution_count": null,
   "metadata": {},
   "outputs": [],
   "source": [
    "def build_model_15(hp):\n",
    "    # Inputs\n",
    "    channel_Wide = keras.layers.Input(shape=Wt15.shape[1:], name=\"WideInput\")\n",
    "    channel_Deep = keras.layers.Input(shape=Xt15.shape[1:], name=\"DeepInput\")\n",
    "    units = hp.Int(\"units\", min_value=1, max_value=100, step=1)\n",
    "    \n",
    "    \n",
    "    # Wide Model\n",
    "    flatten_15w = keras.layers.TimeDistributed(keras.layers.Flatten())(channel_Wide)\n",
    "    Bi_15 = keras.layers.Bidirectional(\n",
    "        keras.layers.LSTM(units=units, activation='relu', return_sequences=True),\n",
    "        merge_mode=\"ave\"\n",
    "    )(flatten_15w)\n",
    "    \n",
    "    \n",
    "    # Deep Model\n",
    "    # CNN \n",
    "    CNN_15 = keras.layers.TimeDistributed(\n",
    "        keras.layers.Conv2D(filters=hp.Int(\"filters\", min_value=32, max_value=512, step=32),\n",
    "                            kernel_size=hp.Choice(\"kernel_size\", [2, 3]), activation='relu'))(channel_Deep)\n",
    "    flatten_15 = keras.layers.TimeDistributed(keras.layers.Flatten())(CNN_15)\n",
    "    # LSTM          \n",
    "    LSTM_15 = keras.layers.LSTM(units=units, activation='relu', return_sequences=True)(flatten_15)\n",
    "\n",
    "    \n",
    "    # Concatenation \n",
    "    concat = keras.layers.concatenate([Bi_15, LSTM_15], axis=1)\n",
    "\n",
    "    # Attention\n",
    "    Att_15 = SeqSelfAttention(attention_activation='sigmoid')(concat)\n",
    "    merge = keras.layers.Flatten()(Att_15)\n",
    "\n",
    "    \n",
    "    # Output\n",
    "    output = keras.layers.Dense(n_features, name= \"output\")(merge)\n",
    "    \n",
    "    # Model\n",
    "    model_15 = keras.Model(inputs=[channel_Wide,channel_Deep], outputs=[output])\n",
    "\n",
    "    # Compile\n",
    "    model_15.compile(optimizer=keras.optimizers.Adam(hp.Choice(\"learning_rate\", [1e-2, 1e-3, 1e-4])), \n",
    "        loss=custom_loss, metrics=['MeanAbsoluteError','RootMeanSquaredError','MeanAbsolutePercentageError'])\n",
    "                    \n",
    "    return model_15"
   ]
  },
  {
   "cell_type": "code",
   "execution_count": null,
   "metadata": {},
   "outputs": [],
   "source": [
    "tuner15 = RandomSearch(\n",
    "    build_model_15,\n",
    "    objective=\"val_loss\",\n",
    "    max_trials=60,\n",
    "    executions_per_trial=2,\n",
    "    overwrite=True,\n",
    "    directory=os.path.normpath('C:/Runs'),\n",
    "    project_name=\"8c-15\",\n",
    ")"
   ]
  },
  {
   "cell_type": "code",
   "execution_count": null,
   "metadata": {},
   "outputs": [],
   "source": [
    "tuner15.search_space_summary()"
   ]
  },
  {
   "cell_type": "code",
   "execution_count": null,
   "metadata": {},
   "outputs": [],
   "source": [
    "tuner15.search((Wt15,Xt15), yt15, epochs=200,\n",
    "            validation_split = val_percent,\n",
    "            callbacks=[early_stop], \n",
    "            verbose=2)"
   ]
  },
  {
   "cell_type": "code",
   "execution_count": null,
   "metadata": {},
   "outputs": [],
   "source": [
    "tuner15.results_summary(1)"
   ]
  },
  {
   "cell_type": "markdown",
   "metadata": {},
   "source": [
    "### Best model"
   ]
  },
  {
   "cell_type": "code",
   "execution_count": null,
   "metadata": {},
   "outputs": [],
   "source": [
    "best_hp15 = tuner15.get_best_hyperparameters()[0]\n",
    "model15 = tuner15.hypermodel.build(best_hp15)"
   ]
  },
  {
   "cell_type": "code",
   "execution_count": null,
   "metadata": {},
   "outputs": [],
   "source": [
    "scaler_filename = \"Best_HP/8c-15\"\n",
    "joblib.dump(best_hp15, scaler_filename) "
   ]
  },
  {
   "cell_type": "code",
   "execution_count": null,
   "metadata": {},
   "outputs": [],
   "source": [
    "model15.summary()"
   ]
  },
  {
   "cell_type": "code",
   "execution_count": null,
   "metadata": {},
   "outputs": [],
   "source": [
    "model15.fit((Wt15,Xt15), yt15, \n",
    "            epochs = 100, \n",
    "            verbose = 1)"
   ]
  },
  {
   "cell_type": "code",
   "execution_count": null,
   "metadata": {},
   "outputs": [],
   "source": [
    "metrics15[['loss']].plot()"
   ]
  },
  {
   "cell_type": "code",
   "execution_count": null,
   "metadata": {},
   "outputs": [],
   "source": [
    "model15 = keras.models.load_model(\"my_dir/8c-15\", custom_objects={'custom_loss': custom_loss})"
   ]
  },
  {
   "cell_type": "code",
   "execution_count": null,
   "metadata": {},
   "outputs": [],
   "source": [
    "model15.predict((Wv15,Xv15))"
   ]
  },
  {
   "cell_type": "markdown",
   "metadata": {},
   "source": [
    "### Evaluation on inverse_transform"
   ]
  },
  {
   "cell_type": "code",
   "execution_count": null,
   "metadata": {},
   "outputs": [],
   "source": [
    "test_predictions15 = model15.predict((Wv15,Xv15))\n",
    "\n",
    "\n",
    "MSE15 = mean_squared_error(yv15,test_predictions15)\n",
    "\n",
    "MAE15 = mean_absolute_error(yv15,test_predictions15)\n",
    "\n",
    "RMSE15 = np.sqrt(MSE15)\n",
    "\n",
    "MAPE15 = mean_absolute_percentage_error(yv15,test_predictions15)*100\n",
    "\n",
    "eval15 = [MSE15, MAE15, RMSE15, MAPE15]\n",
    "print(eval15)"
   ]
  },
  {
   "cell_type": "code",
   "execution_count": null,
   "metadata": {},
   "outputs": [],
   "source": [
    "GEH, count = ga.GEH(np.asarray(yv15), np.asarray(test_predictions15))\n",
    "GEH15 = count/GEH.size\n",
    "print(GEH15)"
   ]
  },
  {
   "cell_type": "markdown",
   "metadata": {},
   "source": [
    "# 30 mins ahead"
   ]
  },
  {
   "cell_type": "code",
   "execution_count": null,
   "metadata": {},
   "outputs": [],
   "source": [
    "def build_model_30(hp):\n",
    "    # Inputs\n",
    "    channel_Wide = keras.layers.Input(shape=Wt30.shape[1:], name=\"WideInput\")\n",
    "    channel_Deep = keras.layers.Input(shape=Xt30.shape[1:], name=\"DeepInput\")\n",
    "    units = hp.Int(\"units\", min_value=1, max_value=100, step=1)\n",
    "    \n",
    "    \n",
    "    # Wide Model\n",
    "    flatten_30w = keras.layers.TimeDistributed(keras.layers.Flatten())(channel_Wide)\n",
    "    Bi_30 = keras.layers.Bidirectional(\n",
    "        keras.layers.LSTM(units=units, activation='relu', return_sequences=True),\n",
    "        merge_mode=\"ave\"\n",
    "    )(flatten_30w)\n",
    "    \n",
    "    \n",
    "    # Deep Model\n",
    "    # CNN \n",
    "    CNN_30 = keras.layers.TimeDistributed(\n",
    "        keras.layers.Conv2D(filters=hp.Int(\"filters\", min_value=32, max_value=512, step=32),\n",
    "                            kernel_size=hp.Choice(\"kernel_size\", [2, 3]), activation='relu'))(channel_Deep)\n",
    "    flatten_30 = keras.layers.TimeDistributed(keras.layers.Flatten())(CNN_30)\n",
    "    # LSTM          \n",
    "    LSTM_30 = keras.layers.LSTM(units=units, activation='relu', return_sequences=True)(flatten_30)\n",
    "\n",
    "    \n",
    "    # Concatenation \n",
    "    concat = keras.layers.concatenate([Bi_30, LSTM_30], axis=1)\n",
    "\n",
    "    # Attention\n",
    "    Att_30 = SeqSelfAttention(attention_activation='sigmoid')(concat)\n",
    "    merge = keras.layers.Flatten()(Att_30)\n",
    "\n",
    "    \n",
    "    # Output\n",
    "    output = keras.layers.Dense(n_features, name= \"output\")(merge)\n",
    "    \n",
    "    # Model\n",
    "    model_30 = keras.Model(inputs=[channel_Wide,channel_Deep], outputs=[output])\n",
    "\n",
    "    # Compile\n",
    "    model_30.compile(optimizer=keras.optimizers.Adam(hp.Choice(\"learning_rate\", [1e-2, 1e-3, 1e-4])), \n",
    "        loss=custom_loss, metrics=['MeanAbsoluteError','RootMeanSquaredError','MeanAbsolutePercentageError'])\n",
    "                    \n",
    "    return model_30"
   ]
  },
  {
   "cell_type": "code",
   "execution_count": null,
   "metadata": {},
   "outputs": [],
   "source": [
    "tuner30 = RandomSearch(\n",
    "    build_model_30,\n",
    "    objective=\"val_loss\",\n",
    "    max_trials=60,\n",
    "    executions_per_trial=2,\n",
    "    overwrite=True,\n",
    "    directory=os.path.normpath('C:/Runs'),\n",
    "    project_name=\"8c-30\",\n",
    ")"
   ]
  },
  {
   "cell_type": "code",
   "execution_count": null,
   "metadata": {},
   "outputs": [],
   "source": [
    "tuner30.search_space_summary()"
   ]
  },
  {
   "cell_type": "code",
   "execution_count": null,
   "metadata": {},
   "outputs": [],
   "source": [
    "tuner30.search((Wt30,Xt30), yt30, epochs=200,\n",
    "            validation_split = val_percent,\n",
    "            callbacks=[early_stop],\n",
    "            verbose=2)"
   ]
  },
  {
   "cell_type": "code",
   "execution_count": null,
   "metadata": {},
   "outputs": [],
   "source": [
    "tuner30.results_summary(1)"
   ]
  },
  {
   "cell_type": "markdown",
   "metadata": {},
   "source": [
    "### Best model"
   ]
  },
  {
   "cell_type": "code",
   "execution_count": null,
   "metadata": {},
   "outputs": [],
   "source": [
    "best_hp30 = tuner30.get_best_hyperparameters()[0]\n",
    "model30 = tuner30.hypermodel.build(best_hp30)"
   ]
  },
  {
   "cell_type": "code",
   "execution_count": null,
   "metadata": {},
   "outputs": [],
   "source": [
    "scaler_filename = \"8c-30\"\n",
    "joblib.dump(best_hp30, scaler_filename) "
   ]
  },
  {
   "cell_type": "code",
   "execution_count": null,
   "metadata": {},
   "outputs": [],
   "source": [
    "model30.summary()"
   ]
  },
  {
   "cell_type": "code",
   "execution_count": null,
   "metadata": {},
   "outputs": [],
   "source": [
    "model30.fit((Wt30,Xt30), yt30, \n",
    "            epochs = 100, \n",
    "            verbose = 1)"
   ]
  },
  {
   "cell_type": "code",
   "execution_count": null,
   "metadata": {},
   "outputs": [],
   "source": [
    "metrics30[['loss']].plot()"
   ]
  },
  {
   "cell_type": "code",
   "execution_count": null,
   "metadata": {},
   "outputs": [],
   "source": [
    "model30 = keras.models.load_model(\"my_dir/8c-30\", custom_objects={'custom_loss': custom_loss})"
   ]
  },
  {
   "cell_type": "code",
   "execution_count": null,
   "metadata": {},
   "outputs": [],
   "source": [
    "model30.predict((Wv30,Xv30))"
   ]
  },
  {
   "cell_type": "markdown",
   "metadata": {},
   "source": [
    "### Evaluation on inverse_transform"
   ]
  },
  {
   "cell_type": "code",
   "execution_count": null,
   "metadata": {},
   "outputs": [],
   "source": [
    "test_predictions30 = model30.predict((Wv30,Xv30))\n",
    "\n",
    "\n",
    "MSE30 = mean_squared_error(yv30,test_predictions30)\n",
    "\n",
    "MAE30 = mean_absolute_error(yv30,test_predictions30)\n",
    "\n",
    "RMSE30 = np.sqrt(MSE30)\n",
    "\n",
    "MAPE30 = mean_absolute_percentage_error(yv30,test_predictions30)*100\n",
    "\n",
    "eval30 = [MSE30, MAE30, RMSE30, MAPE30]\n",
    "print(eval30)"
   ]
  },
  {
   "cell_type": "code",
   "execution_count": null,
   "metadata": {},
   "outputs": [],
   "source": [
    "GEH, count = ga.GEH(np.asarray(yv30), np.asarray(test_predictions30))\n",
    "GEH30 = count/GEH.size\n",
    "print(GEH30)"
   ]
  },
  {
   "cell_type": "markdown",
   "metadata": {},
   "source": [
    "# 60 mins ahead"
   ]
  },
  {
   "cell_type": "code",
   "execution_count": null,
   "metadata": {},
   "outputs": [],
   "source": [
    "def build_model_60(hp):\n",
    "    # Inputs\n",
    "    channel_Wide = keras.layers.Input(shape=Wt60.shape[1:], name=\"WideInput\")\n",
    "    channel_Deep = keras.layers.Input(shape=Xt60.shape[1:], name=\"DeepInput\")\n",
    "    units = hp.Int(\"units\", min_value=1, max_value=100, step=1)\n",
    "    \n",
    "    \n",
    "    # Wide Model\n",
    "    flatten_60w = keras.layers.TimeDistributed(keras.layers.Flatten())(channel_Wide)\n",
    "    Bi_60 = keras.layers.Bidirectional(\n",
    "        keras.layers.LSTM(units=units, activation='relu', return_sequences=True),\n",
    "        merge_mode=\"ave\"\n",
    "    )(flatten_60w)\n",
    "    \n",
    "    \n",
    "    # Deep Model\n",
    "    # CNN \n",
    "    CNN_60 = keras.layers.TimeDistributed(\n",
    "        keras.layers.Conv2D(filters=hp.Int(\"filters\", min_value=32, max_value=512, step=32),\n",
    "                            kernel_size=hp.Choice(\"kernel_size\", [2, 3]), activation='relu'))(channel_Deep)\n",
    "    flatten_60 = keras.layers.TimeDistributed(keras.layers.Flatten())(CNN_60)\n",
    "    # LSTM          \n",
    "    LSTM_60 = keras.layers.LSTM(units=units, activation='relu', return_sequences=True)(flatten_60)\n",
    "\n",
    "    \n",
    "    # Concatenation \n",
    "    concat = keras.layers.concatenate([Bi_60, LSTM_60], axis=1)\n",
    "\n",
    "    # Attention\n",
    "    Att_60 = SeqSelfAttention(attention_activation='sigmoid')(concat)\n",
    "    merge = keras.layers.Flatten()(Att_60)\n",
    "\n",
    "    \n",
    "    # Output\n",
    "    output = keras.layers.Dense(n_features, name= \"output\")(merge)\n",
    "    \n",
    "    # Model\n",
    "    model_60 = keras.Model(inputs=[channel_Wide,channel_Deep], outputs=[output])\n",
    "\n",
    "    # Compile\n",
    "    model_60.compile(optimizer=keras.optimizers.Adam(hp.Choice(\"learning_rate\", [1e-2, 1e-3, 1e-4])), \n",
    "        loss=custom_loss, metrics=['MeanAbsoluteError','RootMeanSquaredError','MeanAbsolutePercentageError'])\n",
    "                    \n",
    "    return model_60"
   ]
  },
  {
   "cell_type": "code",
   "execution_count": null,
   "metadata": {},
   "outputs": [],
   "source": [
    "tuner60 = RandomSearch(\n",
    "    build_model_60,\n",
    "    objective=\"val_loss\",\n",
    "    max_trials=60,\n",
    "    executions_per_trial=2,\n",
    "    overwrite=True,\n",
    "    directory=os.path.normpath('C:/Runs'),\n",
    "    project_name=\"8c-60\",\n",
    ")"
   ]
  },
  {
   "cell_type": "code",
   "execution_count": null,
   "metadata": {},
   "outputs": [],
   "source": [
    "tuner60.search_space_summary()"
   ]
  },
  {
   "cell_type": "code",
   "execution_count": null,
   "metadata": {},
   "outputs": [],
   "source": [
    "tuner60.search((Wt60,Xt60), yt60, epochs=200,\n",
    "            validation_split = val_percent,\n",
    "            callbacks=[early_stop],\n",
    "            verbose=2)"
   ]
  },
  {
   "cell_type": "code",
   "execution_count": null,
   "metadata": {},
   "outputs": [],
   "source": [
    "tuner60.results_summary(1)"
   ]
  },
  {
   "cell_type": "markdown",
   "metadata": {},
   "source": [
    "### Best model"
   ]
  },
  {
   "cell_type": "code",
   "execution_count": null,
   "metadata": {},
   "outputs": [],
   "source": [
    "best_hp60 = tuner60.get_best_hyperparameters()[0]\n",
    "model60 = tuner60.hypermodel.build(best_hp60)"
   ]
  },
  {
   "cell_type": "code",
   "execution_count": null,
   "metadata": {},
   "outputs": [],
   "source": [
    "scaler_filename = \"Best_HP/8c-60\"\n",
    "joblib.dump(best_hp60, scaler_filename) "
   ]
  },
  {
   "cell_type": "code",
   "execution_count": null,
   "metadata": {},
   "outputs": [],
   "source": [
    "model60.summary()"
   ]
  },
  {
   "cell_type": "code",
   "execution_count": null,
   "metadata": {},
   "outputs": [],
   "source": [
    "model60.fit((Wt60,Xt60), yt60, \n",
    "            epochs = 100, \n",
    "            verbose = 1\n",
    "            )"
   ]
  },
  {
   "cell_type": "code",
   "execution_count": null,
   "metadata": {},
   "outputs": [],
   "source": [
    "metrics60[['loss']].plot()"
   ]
  },
  {
   "cell_type": "code",
   "execution_count": null,
   "metadata": {},
   "outputs": [],
   "source": [
    "model60 = keras.models.load_model(\"my_dir/8c-60\", custom_objects={'custom_loss': custom_loss})"
   ]
  },
  {
   "cell_type": "code",
   "execution_count": null,
   "metadata": {},
   "outputs": [],
   "source": [
    "model60.predict((Wv60,Xv60))"
   ]
  },
  {
   "cell_type": "markdown",
   "metadata": {},
   "source": [
    "### Evaluation on inverse_transform"
   ]
  },
  {
   "cell_type": "code",
   "execution_count": null,
   "metadata": {},
   "outputs": [],
   "source": [
    "test_predictions60 = model60.predict((Wv60,Xv60))\n",
    "\n",
    "\n",
    "MSE60 = mean_squared_error(yv60,test_predictions60)\n",
    "\n",
    "MAE60 = mean_absolute_error(yv60,test_predictions60)\n",
    "\n",
    "RMSE60 = np.sqrt(MSE60)\n",
    "\n",
    "MAPE60 = mean_absolute_percentage_error(yv60,test_predictions60)*100\n",
    "\n",
    "eval60 = [MSE60, MAE60, RMSE60, MAPE60]\n",
    "print(eval60)"
   ]
  },
  {
   "cell_type": "code",
   "execution_count": null,
   "metadata": {},
   "outputs": [],
   "source": [
    "GEH, count = ga.GEH(np.asarray(yv60), np.asarray(test_predictions60))\n",
    "GEH60 = count/GEH.size\n",
    "print(GEH60)"
   ]
  },
  {
   "cell_type": "markdown",
   "metadata": {},
   "source": [
    "# RESULTS"
   ]
  },
  {
   "cell_type": "markdown",
   "metadata": {},
   "source": [
    "## General results"
   ]
  },
  {
   "cell_type": "code",
   "execution_count": null,
   "metadata": {},
   "outputs": [],
   "source": [
    "l = ['MSE','MAE','RMSE','MAPE','Horizon']"
   ]
  },
  {
   "cell_type": "code",
   "execution_count": null,
   "metadata": {},
   "outputs": [],
   "source": [
    "eval5.append(5)\n",
    "eval15.append(15)\n",
    "eval30.append(30)\n",
    "eval60.append(60)"
   ]
  },
  {
   "cell_type": "code",
   "execution_count": null,
   "metadata": {},
   "outputs": [],
   "source": [
    "df = pd.DataFrame(np.array([eval5,eval15,eval30,eval60]),columns=l)\n",
    "df.set_index('Horizon')"
   ]
  },
  {
   "cell_type": "markdown",
   "metadata": {},
   "source": [
    "## GEH"
   ]
  },
  {
   "cell_type": "code",
   "execution_count": null,
   "metadata": {},
   "outputs": [],
   "source": [
    "n = [' 5 ',' 15 ',' 30 ',' 60 ']\n",
    "df2 = pd.DataFrame(np.array([[GEH5, GEH15, GEH30, GEH60]]), columns=n)\n",
    "print(df2)"
   ]
  }
 ],
 "metadata": {
  "kernelspec": {
   "display_name": "Python 3 (ipykernel)",
   "language": "python",
   "name": "python3"
  },
  "language_info": {
   "codemirror_mode": {
    "name": "ipython",
    "version": 3
   },
   "file_extension": ".py",
   "mimetype": "text/x-python",
   "name": "python",
   "nbconvert_exporter": "python",
   "pygments_lexer": "ipython3",
   "version": "3.11.5"
  }
 },
 "nbformat": 4,
 "nbformat_minor": 4
}
