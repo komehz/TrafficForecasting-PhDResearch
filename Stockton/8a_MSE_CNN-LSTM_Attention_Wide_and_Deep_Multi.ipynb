{
 "cells": [
  {
   "cell_type": "code",
   "execution_count": 1,
   "metadata": {},
   "outputs": [],
   "source": [
    "import pandas as pd\n",
    "import numpy as np\n",
    "import matplotlib.pyplot as plt\n",
    "import seaborn as sns\n",
    "import joblib\n",
    "import os"
   ]
  },
  {
   "cell_type": "code",
   "execution_count": 2,
   "metadata": {},
   "outputs": [],
   "source": [
    "import keras_tuner as kt\n",
    "from keras_tuner import RandomSearch\n",
    "# from GEH_LOSS import GEH_loss\n",
    "import geh as ga"
   ]
  },
  {
   "cell_type": "code",
   "execution_count": 3,
   "metadata": {},
   "outputs": [],
   "source": [
    "from sklearn.metrics import mean_absolute_error,mean_squared_error,mean_absolute_percentage_error"
   ]
  },
  {
   "cell_type": "code",
   "execution_count": 4,
   "metadata": {},
   "outputs": [],
   "source": [
    "import relative_accuracy as ra"
   ]
  },
  {
   "cell_type": "code",
   "execution_count": 5,
   "metadata": {},
   "outputs": [],
   "source": [
    "# Load all Inputs and Output Data\n",
    "\n",
    "# 5 mins (1 step ahead)\n",
    "Deep_train_5   = np.load(\"Deep_train_5_multi.npz\")['x'] \n",
    "Output_train_5 = np.load(\"Deep_train_5_multi.npz\")['y']\n",
    "\n",
    "Deep_test_5   = np.load(\"Deep_test_5_multi.npz\")['x'] \n",
    "Output_test_5 = np.load(\"Deep_test_5_multi.npz\")['y'] \n",
    "\n",
    "# 15 mins (3 steps ahead)\n",
    "Deep_train_15   = np.load(\"Deep_train_15_multi.npz\")['x'] \n",
    "Output_train_15 = np.load(\"Deep_train_15_multi.npz\")['y']\n",
    "\n",
    "Deep_test_15   = np.load(\"Deep_test_15_multi.npz\")['x'] \n",
    "Output_test_15 = np.load(\"Deep_test_15_multi.npz\")['y']\n",
    "\n",
    "# 30 mins (6 steps ahead)\n",
    "Deep_train_30   = np.load(\"Deep_train_30_multi.npz\")['x'] \n",
    "Output_train_30 = np.load(\"Deep_train_30_multi.npz\")['y']\n",
    "\n",
    "Deep_test_30   = np.load(\"Deep_test_30_multi.npz\")['x'] \n",
    "Output_test_30 = np.load(\"Deep_test_30_multi.npz\")['y']\n",
    "\n",
    "# 60 mins (12 steps ahead)\n",
    "Deep_train_60   = np.load(\"Deep_train_60_multi.npz\")['x'] \n",
    "Output_train_60 = np.load(\"Deep_train_60_multi.npz\")['y']\n",
    "\n",
    "Deep_test_60   = np.load(\"Deep_test_60_multi.npz\")['x'] \n",
    "Output_test_60 = np.load(\"Deep_test_60_multi.npz\")['y']"
   ]
  },
  {
   "cell_type": "code",
   "execution_count": 6,
   "metadata": {},
   "outputs": [],
   "source": [
    "# Wide Data\n",
    "Xtrain = joblib.load(\"002weeks_train_Multi.save\") \n",
    "Xtest = joblib.load(\"002weeks_test_Multi.save\") "
   ]
  },
  {
   "cell_type": "code",
   "execution_count": 7,
   "metadata": {},
   "outputs": [],
   "source": [
    "# 5 mins\n",
    "# Delete first 15 samples\n",
    "Wide_train_5 = np.delete(Xtrain, np.s_[0:15], 0)\n",
    "Wide_test_5 = np.delete(Xtest, np.s_[0:15], 0)"
   ]
  },
  {
   "cell_type": "code",
   "execution_count": 8,
   "metadata": {},
   "outputs": [],
   "source": [
    "# 15 mins\n",
    "# Delete first 17 samples\n",
    "Wide_train_15 = np.delete(Xtrain, np.s_[0:17], 0)\n",
    "Wide_test_15 = np.delete(Xtest, np.s_[0:17], 0)"
   ]
  },
  {
   "cell_type": "code",
   "execution_count": 9,
   "metadata": {},
   "outputs": [],
   "source": [
    "# 30 mins\n",
    "# Delete first 20 samples\n",
    "Wide_train_30 = np.delete(Xtrain, np.s_[0:20], 0)\n",
    "Wide_test_30 = np.delete(Xtest, np.s_[0:20], 0)"
   ]
  },
  {
   "cell_type": "code",
   "execution_count": 10,
   "metadata": {},
   "outputs": [],
   "source": [
    "# 60 mins\n",
    "# Delete first 27 samples\n",
    "Wide_train_60 = np.delete(Xtrain, np.s_[0:26], 0)\n",
    "Wide_test_60 = np.delete(Xtest, np.s_[0:26], 0)"
   ]
  },
  {
   "cell_type": "code",
   "execution_count": 11,
   "metadata": {},
   "outputs": [
    {
     "name": "stderr",
     "output_type": "stream",
     "text": [
      "C:\\Users\\esugom\\.conda\\envs\\my_env\\lib\\site-packages\\sklearn\\base.py:324: UserWarning: Trying to unpickle estimator MinMaxScaler from version 1.0.2 when using version 1.0.1. This might lead to breaking code or invalid results. Use at your own risk. For more info please refer to:\n",
      "https://scikit-learn.org/stable/modules/model_persistence.html#security-maintainability-limitations\n",
      "  warnings.warn(\n"
     ]
    }
   ],
   "source": [
    "scaler_filename = \"scaler.save\"\n",
    "scaler = joblib.load(scaler_filename) "
   ]
  },
  {
   "cell_type": "code",
   "execution_count": 12,
   "metadata": {},
   "outputs": [],
   "source": [
    "Test      = pd.read_csv('01test_scaled.csv', index_col=None, parse_dates=[0])"
   ]
  },
  {
   "cell_type": "code",
   "execution_count": 128,
   "metadata": {},
   "outputs": [],
   "source": [
    "from mpl_toolkits.axes_grid1.inset_locator import inset_axes\n",
    "from mpl_toolkits.axes_grid1.inset_locator import mark_inset\n",
    "from matplotlib import ticker\n",
    "formatter = ticker.ScalarFormatter(useMathText=True)\n",
    "formatter.set_scientific(True) \n",
    "formatter.set_powerlimits((-1,1)) \n",
    "plt.rc('font', size=22)"
   ]
  },
  {
   "cell_type": "markdown",
   "metadata": {},
   "source": [
    "# Reshape Samples"
   ]
  },
  {
   "cell_type": "markdown",
   "metadata": {},
   "source": [
    "The first step is to split the input sequences into subsequences that can be processed by the CNN model. Here, each spatio-temporal sample can be split into three sub-samples, each with five time steps. The CNN can interpret each subsequence of five time steps and provide a time series of interpretations of the subsequences to the LSTM model to process as input."
   ]
  },
  {
   "cell_type": "code",
   "execution_count": 14,
   "metadata": {},
   "outputs": [],
   "source": [
    "# reshape from [samples, timesteps] into [samples, subsequences, timesteps, features]\n",
    "n_features = 7                # No of loop detectors\n",
    "n_seq = 3                     # Subsequences\n",
    "n_steps = 5                   # time-step per subsequence\n",
    "# val_percent = 0.07567       # 2 weeks\n",
    "val_percent = 0.2        \n",
    "batch_size = 32\n",
    "\n",
    "n_seq_ = 3                     # Subsequences\n",
    "n_steps_ = 3                   # time-step per subsequence"
   ]
  },
  {
   "cell_type": "markdown",
   "metadata": {},
   "source": [
    "#### 5 mins"
   ]
  },
  {
   "cell_type": "code",
   "execution_count": 15,
   "metadata": {},
   "outputs": [],
   "source": [
    "# Train\n",
    "# reshape from [samples, timesteps] into [samples, subsequences, timesteps, features]\n",
    "Xt5 = Deep_train_5.reshape((Deep_train_5.shape[0], n_seq, n_steps, n_features))\n",
    "yt5 = scaler.inverse_transform(Output_train_5)"
   ]
  },
  {
   "cell_type": "code",
   "execution_count": 16,
   "metadata": {},
   "outputs": [],
   "source": [
    "# Test\n",
    "# reshape from [samples, timesteps] into [samples, subsequences, timesteps, features]\n",
    "Xv5 = Deep_test_5.reshape((Deep_test_5.shape[0], n_seq, n_steps, n_features))\n",
    "yv5 = scaler.inverse_transform(Output_test_5)"
   ]
  },
  {
   "cell_type": "markdown",
   "metadata": {},
   "source": [
    "#### 15 mins"
   ]
  },
  {
   "cell_type": "code",
   "execution_count": 17,
   "metadata": {},
   "outputs": [],
   "source": [
    "# Train\n",
    "# reshape from [samples, timesteps] into [samples, subsequences, timesteps, features]\n",
    "Xt15 = Deep_train_15.reshape((Deep_train_15.shape[0], n_seq, n_steps, n_features))\n",
    "yt15 = scaler.inverse_transform(Output_train_15)"
   ]
  },
  {
   "cell_type": "code",
   "execution_count": 18,
   "metadata": {},
   "outputs": [],
   "source": [
    "# Test\n",
    "# reshape from [samples, timesteps] into [samples, subsequences, timesteps, features]\n",
    "Xv15 = Deep_test_15.reshape((Deep_test_15.shape[0], n_seq, n_steps, n_features))\n",
    "yv15 = scaler.inverse_transform(Output_test_15)"
   ]
  },
  {
   "cell_type": "markdown",
   "metadata": {},
   "source": [
    "#### 30 mins"
   ]
  },
  {
   "cell_type": "code",
   "execution_count": 19,
   "metadata": {},
   "outputs": [],
   "source": [
    "# Train\n",
    "# reshape from [samples, timesteps] into [samples, subsequences, timesteps, features]\n",
    "Xt30 = Deep_train_30.reshape((Deep_train_30.shape[0], n_seq, n_steps, n_features))\n",
    "yt30 = scaler.inverse_transform(Output_train_30)"
   ]
  },
  {
   "cell_type": "code",
   "execution_count": 20,
   "metadata": {},
   "outputs": [],
   "source": [
    "# Test\n",
    "# reshape from [samples, timesteps] into [samples, subsequences, timesteps, features]\n",
    "Xv30 = Deep_test_30.reshape((Deep_test_30.shape[0], n_seq, n_steps, n_features))\n",
    "yv30 = scaler.inverse_transform(Output_test_30)"
   ]
  },
  {
   "cell_type": "markdown",
   "metadata": {},
   "source": [
    "#### 60 mins"
   ]
  },
  {
   "cell_type": "code",
   "execution_count": 21,
   "metadata": {},
   "outputs": [],
   "source": [
    "# Train\n",
    "# reshape from [samples, timesteps] into [samples, subsequences, timesteps, features]\n",
    "Xt60 = Deep_train_60.reshape((Deep_train_60.shape[0], n_seq, n_steps, n_features))\n",
    "yt60 = scaler.inverse_transform(Output_train_60)"
   ]
  },
  {
   "cell_type": "code",
   "execution_count": 22,
   "metadata": {},
   "outputs": [],
   "source": [
    "# Test\n",
    "# reshape from [samples, timesteps] into [samples, subsequences, timesteps, features]\n",
    "Xv60 = Deep_test_60.reshape((Deep_test_60.shape[0], n_seq, n_steps, n_features))\n",
    "yv60 = scaler.inverse_transform(Output_test_60)"
   ]
  },
  {
   "cell_type": "markdown",
   "metadata": {},
   "source": [
    "### Reshaping the Data for Conv2D layer\n",
    "\n",
    "For Conv2D, there is a need to add one more dimension to show we're dealing with 1 channel (since technically the images are in black and white, only showing values from 0-max flow on a single channel).\n",
    "\n",
    "Conv1D - strides in 1 dimension\n",
    "Conv2D - strides in 2 dimensions"
   ]
  },
  {
   "cell_type": "code",
   "execution_count": 23,
   "metadata": {},
   "outputs": [],
   "source": [
    "# define no_of_channels\n",
    "n_channels = 1"
   ]
  },
  {
   "cell_type": "code",
   "execution_count": 24,
   "metadata": {},
   "outputs": [],
   "source": [
    "# Train data\n",
    "Xt5  =  Xt5.reshape(Xt5.shape[0], n_seq, n_steps, n_features, n_channels)\n",
    "Xt15 =  Xt15.reshape(Xt15.shape[0], n_seq, n_steps, n_features, n_channels)\n",
    "Xt30 =  Xt30.reshape(Xt30.shape[0], n_seq, n_steps, n_features, n_channels)\n",
    "Xt60 =  Xt60.reshape(Xt60.shape[0], n_seq, n_steps, n_features, n_channels)\n",
    "\n",
    "# Validation data\n",
    "Xv5  =  Xv5.reshape(Xv5.shape[0], n_seq, n_steps, n_features, n_channels)\n",
    "Xv15 =  Xv15.reshape(Xv15.shape[0], n_seq, n_steps, n_features, n_channels)\n",
    "Xv30 =  Xv30.reshape(Xv30.shape[0], n_seq, n_steps, n_features, n_channels)\n",
    "Xv60 =  Xv60.reshape(Xv60.shape[0], n_seq, n_steps, n_features, n_channels)"
   ]
  },
  {
   "cell_type": "code",
   "execution_count": 25,
   "metadata": {},
   "outputs": [],
   "source": [
    "Wt5  = Wide_train_5\n",
    "Wt15 = Wide_train_15\n",
    "Wt30 = Wide_train_30\n",
    "Wt60 = Wide_train_60\n",
    "\n",
    "Wv5  = Wide_test_5\n",
    "Wv15 = Wide_test_15\n",
    "Wv30 = Wide_test_30\n",
    "Wv60 = Wide_test_60"
   ]
  },
  {
   "cell_type": "code",
   "execution_count": 26,
   "metadata": {},
   "outputs": [],
   "source": [
    "# Train data\n",
    "Wt5  =  Wt5.reshape(Wt5.shape[0], n_seq_, n_steps_, n_features)\n",
    "Wt15 =  Wt15.reshape(Wt15.shape[0], n_seq_, n_steps_, n_features)\n",
    "Wt30 =  Wt30.reshape(Wt30.shape[0], n_seq_, n_steps_, n_features)\n",
    "Wt60 =  Wt60.reshape(Wt60.shape[0], n_seq_, n_steps_, n_features)\n",
    "\n",
    "# Validation data\n",
    "Wv5  =  Wv5.reshape(Wv5.shape[0], n_seq_, n_steps_, n_features)\n",
    "Wv15 =  Wv15.reshape(Wv15.shape[0], n_seq_, n_steps_, n_features)\n",
    "Wv30 =  Wv30.reshape(Wv30.shape[0], n_seq_, n_steps_, n_features)\n",
    "Wv60 =  Wv60.reshape(Wv60.shape[0], n_seq_, n_steps_, n_features)"
   ]
  },
  {
   "cell_type": "code",
   "execution_count": 27,
   "metadata": {},
   "outputs": [
    {
     "data": {
      "text/plain": [
       "(31089, 3, 5, 7, 1)"
      ]
     },
     "execution_count": 27,
     "metadata": {},
     "output_type": "execute_result"
    }
   ],
   "source": [
    "Xt5.shape"
   ]
  },
  {
   "cell_type": "code",
   "execution_count": 28,
   "metadata": {},
   "outputs": [
    {
     "data": {
      "text/plain": [
       "(31089, 3, 3, 7)"
      ]
     },
     "execution_count": 28,
     "metadata": {},
     "output_type": "execute_result"
    }
   ],
   "source": [
    "Wt5.shape"
   ]
  },
  {
   "cell_type": "markdown",
   "metadata": {},
   "source": [
    "# CNN-LSTM model"
   ]
  },
  {
   "cell_type": "code",
   "execution_count": 29,
   "metadata": {},
   "outputs": [],
   "source": [
    "from tensorflow import keras\n",
    "from keras_self_attention import SeqSelfAttention\n",
    "\n",
    "# Early Stopping\n",
    "early_stop = keras.callbacks.EarlyStopping(monitor='val_loss',patience=5, restore_best_weights = True)"
   ]
  },
  {
   "cell_type": "code",
   "execution_count": 30,
   "metadata": {},
   "outputs": [
    {
     "data": {
      "text/plain": [
       "(31089, 9, 7)"
      ]
     },
     "execution_count": 30,
     "metadata": {},
     "output_type": "execute_result"
    }
   ],
   "source": [
    "Wide_train_5.shape"
   ]
  },
  {
   "cell_type": "markdown",
   "metadata": {},
   "source": [
    "# 5 mins ahead"
   ]
  },
  {
   "cell_type": "code",
   "execution_count": 31,
   "metadata": {},
   "outputs": [],
   "source": [
    "def build_model_5(hp):\n",
    "    # Inputs\n",
    "    channel_Wide = keras.layers.Input(shape=Wt5.shape[1:], name=\"WideInput\")\n",
    "    channel_Deep = keras.layers.Input(shape=Xt5.shape[1:], name=\"DeepInput\")\n",
    "    units = hp.Int(\"units\", min_value=1, max_value=100, step=1)\n",
    "    \n",
    "    \n",
    "    # Wide Model\n",
    "    flatten_5w = keras.layers.TimeDistributed(keras.layers.Flatten())(channel_Wide)\n",
    "    Bi_5 = keras.layers.Bidirectional(\n",
    "        keras.layers.LSTM(units=units, return_sequences=True),\n",
    "        merge_mode=\"ave\"\n",
    "    )(flatten_5w)\n",
    "    \n",
    "    \n",
    "    # Deep Model\n",
    "    # CNN \n",
    "    CNN_5 = keras.layers.TimeDistributed(\n",
    "        keras.layers.Conv2D(filters=hp.Int(\"filters\", min_value=32, max_value=512, step=32),\n",
    "                            kernel_size=hp.Choice(\"kernel_size\", [2, 3]), activation='relu'))(channel_Deep)\n",
    "    flatten_5 = keras.layers.TimeDistributed(keras.layers.Flatten())(CNN_5)\n",
    "    # LSTM          \n",
    "    LSTM_5 = keras.layers.LSTM(units=units, return_sequences=True)(flatten_5)\n",
    "\n",
    "    \n",
    "    # Concatenation \n",
    "    concat = keras.layers.concatenate([Bi_5, LSTM_5], axis=1)\n",
    "\n",
    "    # Attention\n",
    "    Att_5 = SeqSelfAttention(attention_activation='sigmoid')(concat)\n",
    "    merge = keras.layers.Flatten()(Att_5)\n",
    "\n",
    "    \n",
    "    # Output\n",
    "    output = keras.layers.Dense(n_features, name= \"output\")(merge)\n",
    "    \n",
    "    # Model\n",
    "    model_5 = keras.Model(inputs=[channel_Wide,channel_Deep], outputs=[output])\n",
    "\n",
    "    # Compile\n",
    "    model_5.compile(optimizer=keras.optimizers.Adam(hp.Choice(\"learning_rate\", [1e-2, 1e-3, 1e-4])), \n",
    "        loss=\"mse\", metrics=['MeanAbsoluteError','RootMeanSquaredError','MeanAbsolutePercentageError'])\n",
    "                                   \n",
    "    return model_5"
   ]
  },
  {
   "cell_type": "code",
   "execution_count": 32,
   "metadata": {},
   "outputs": [
    {
     "name": "stdout",
     "output_type": "stream",
     "text": [
      "INFO:tensorflow:Reloading Oracle from existing project C:\\Runs\\8a-5\\oracle.json\n",
      "INFO:tensorflow:Reloading Tuner from C:\\Runs\\8a-5\\tuner0.json\n"
     ]
    }
   ],
   "source": [
    "tuner5 = RandomSearch(\n",
    "    build_model_5,\n",
    "    objective=\"val_loss\",\n",
    "    max_trials=60,\n",
    "    executions_per_trial=2,\n",
    "    overwrite=False,\n",
    "    directory=os.path.normpath('C:/Runs'),\n",
    "    project_name=\"8a-5\",\n",
    ")"
   ]
  },
  {
   "cell_type": "code",
   "execution_count": 33,
   "metadata": {},
   "outputs": [
    {
     "name": "stdout",
     "output_type": "stream",
     "text": [
      "Search space summary\n",
      "Default search space size: 4\n",
      "units (Int)\n",
      "{'default': None, 'conditions': [], 'min_value': 1, 'max_value': 100, 'step': 1, 'sampling': None}\n",
      "filters (Int)\n",
      "{'default': None, 'conditions': [], 'min_value': 32, 'max_value': 512, 'step': 32, 'sampling': None}\n",
      "kernel_size (Choice)\n",
      "{'default': 2, 'conditions': [], 'values': [2, 3], 'ordered': True}\n",
      "learning_rate (Choice)\n",
      "{'default': 0.01, 'conditions': [], 'values': [0.01, 0.001, 0.0001], 'ordered': True}\n"
     ]
    }
   ],
   "source": [
    "tuner5.search_space_summary()"
   ]
  },
  {
   "cell_type": "code",
   "execution_count": 34,
   "metadata": {},
   "outputs": [],
   "source": [
    "tuner5.search((Wt5,Xt5), yt5, epochs=200,\n",
    "           validation_split = val_percent,\n",
    "           callbacks = [early_stop],\n",
    "           verbose=2)"
   ]
  },
  {
   "cell_type": "code",
   "execution_count": null,
   "metadata": {},
   "outputs": [],
   "source": [
    "tuner5.results_summary(1)"
   ]
  },
  {
   "cell_type": "markdown",
   "metadata": {},
   "source": [
    "### Best Model"
   ]
  },
  {
   "cell_type": "code",
   "execution_count": 33,
   "metadata": {},
   "outputs": [],
   "source": [
    "scaler_filename = \"Best_HP/8a-5\"\n",
    "best_hp5 = joblib.load(scaler_filename) \n",
    "\n",
    "model5 = tuner5.hypermodel.build(best_hp5)"
   ]
  },
  {
   "cell_type": "code",
   "execution_count": null,
   "metadata": {},
   "outputs": [],
   "source": [
    "best_hp5 = tuner5.get_best_hyperparameters()[0]\n",
    "model5 = tuner5.hypermodel.build(best_hp5)"
   ]
  },
  {
   "cell_type": "code",
   "execution_count": null,
   "metadata": {},
   "outputs": [],
   "source": [
    "scaler_filename = \"Best_HP/8a-5\"\n",
    "joblib.dump(best_hp5, scaler_filename) "
   ]
  },
  {
   "cell_type": "code",
   "execution_count": null,
   "metadata": {},
   "outputs": [],
   "source": [
    "model5.summary()"
   ]
  },
  {
   "cell_type": "code",
   "execution_count": 35,
   "metadata": {},
   "outputs": [
    {
     "name": "stdout",
     "output_type": "stream",
     "text": [
      "Epoch 1/100\n",
      "778/778 [==============================] - 22s 15ms/step - loss: 26429.0098 - mean_absolute_error: 125.3549 - root_mean_squared_error: 162.5700 - mean_absolute_percentage_error: 45293684.0000 - val_loss: 8384.4287 - val_mean_absolute_error: 66.1644 - val_root_mean_squared_error: 91.5665 - val_mean_absolute_percentage_error: 2199867.7500\n",
      "Epoch 2/100\n",
      "778/778 [==============================] - 10s 13ms/step - loss: 4319.7524 - mean_absolute_error: 44.0060 - root_mean_squared_error: 65.7248 - mean_absolute_percentage_error: 44579168.0000 - val_loss: 2011.7249 - val_mean_absolute_error: 30.4076 - val_root_mean_squared_error: 44.8523 - val_mean_absolute_percentage_error: 2273193.5000\n",
      "Epoch 3/100\n",
      "778/778 [==============================] - 11s 14ms/step - loss: 1475.3036 - mean_absolute_error: 26.1276 - root_mean_squared_error: 38.4097 - mean_absolute_percentage_error: 46194940.0000 - val_loss: 973.6551 - val_mean_absolute_error: 22.3882 - val_root_mean_squared_error: 31.2034 - val_mean_absolute_percentage_error: 2525050.5000\n",
      "Epoch 4/100\n",
      "778/778 [==============================] - 11s 14ms/step - loss: 895.8615 - mean_absolute_error: 21.2021 - root_mean_squared_error: 29.9309 - mean_absolute_percentage_error: 48800276.0000 - val_loss: 718.9153 - val_mean_absolute_error: 19.8355 - val_root_mean_squared_error: 26.8126 - val_mean_absolute_percentage_error: 2754688.0000\n",
      "Epoch 5/100\n",
      "778/778 [==============================] - 21s 28ms/step - loss: 729.4325 - mean_absolute_error: 19.4679 - root_mean_squared_error: 27.0080 - mean_absolute_percentage_error: 51223012.0000 - val_loss: 646.4965 - val_mean_absolute_error: 19.0530 - val_root_mean_squared_error: 25.4263 - val_mean_absolute_percentage_error: 2676422.5000\n",
      "Epoch 6/100\n",
      "778/778 [==============================] - 12s 15ms/step - loss: 671.4526 - mean_absolute_error: 18.8170 - root_mean_squared_error: 25.9124 - mean_absolute_percentage_error: 53066480.0000 - val_loss: 617.7920 - val_mean_absolute_error: 18.6428 - val_root_mean_squared_error: 24.8554 - val_mean_absolute_percentage_error: 3238493.7500\n",
      "Epoch 7/100\n",
      "778/778 [==============================] - 13s 16ms/step - loss: 642.4276 - mean_absolute_error: 18.4785 - root_mean_squared_error: 25.3461 - mean_absolute_percentage_error: 53421376.0000 - val_loss: 602.1268 - val_mean_absolute_error: 18.4527 - val_root_mean_squared_error: 24.5383 - val_mean_absolute_percentage_error: 3227496.5000\n",
      "Epoch 8/100\n",
      "778/778 [==============================] - 12s 15ms/step - loss: 629.5191 - mean_absolute_error: 18.3058 - root_mean_squared_error: 25.0902 - mean_absolute_percentage_error: 53496384.0000 - val_loss: 609.9681 - val_mean_absolute_error: 18.4937 - val_root_mean_squared_error: 24.6975 - val_mean_absolute_percentage_error: 3283147.2500\n",
      "Epoch 9/100\n",
      "778/778 [==============================] - 15s 19ms/step - loss: 607.8149 - mean_absolute_error: 18.0172 - root_mean_squared_error: 24.6539 - mean_absolute_percentage_error: 52230444.0000 - val_loss: 576.4410 - val_mean_absolute_error: 18.0216 - val_root_mean_squared_error: 24.0092 - val_mean_absolute_percentage_error: 3437968.5000\n",
      "Epoch 10/100\n",
      "778/778 [==============================] - 47s 60ms/step - loss: 587.8483 - mean_absolute_error: 17.7273 - root_mean_squared_error: 24.2456 - mean_absolute_percentage_error: 49500464.0000 - val_loss: 560.1828 - val_mean_absolute_error: 17.7587 - val_root_mean_squared_error: 23.6682 - val_mean_absolute_percentage_error: 3338977.5000\n",
      "Epoch 11/100\n",
      "778/778 [==============================] - 50s 64ms/step - loss: 566.5920 - mean_absolute_error: 17.4276 - root_mean_squared_error: 23.8032 - mean_absolute_percentage_error: 47200896.0000 - val_loss: 548.8824 - val_mean_absolute_error: 17.5818 - val_root_mean_squared_error: 23.4282 - val_mean_absolute_percentage_error: 3500142.0000\n",
      "Epoch 12/100\n",
      "778/778 [==============================] - 19s 24ms/step - loss: 555.4574 - mean_absolute_error: 17.2790 - root_mean_squared_error: 23.5681 - mean_absolute_percentage_error: 44506776.0000 - val_loss: 559.8491 - val_mean_absolute_error: 17.7958 - val_root_mean_squared_error: 23.6611 - val_mean_absolute_percentage_error: 3481146.5000\n",
      "Epoch 13/100\n",
      "778/778 [==============================] - 11s 14ms/step - loss: 544.6445 - mean_absolute_error: 17.1395 - root_mean_squared_error: 23.3376 - mean_absolute_percentage_error: 41933360.0000 - val_loss: 542.3977 - val_mean_absolute_error: 17.4731 - val_root_mean_squared_error: 23.2894 - val_mean_absolute_percentage_error: 3462846.7500\n",
      "Epoch 14/100\n",
      "778/778 [==============================] - 11s 14ms/step - loss: 535.8911 - mean_absolute_error: 17.0115 - root_mean_squared_error: 23.1493 - mean_absolute_percentage_error: 39681180.0000 - val_loss: 594.1932 - val_mean_absolute_error: 18.3595 - val_root_mean_squared_error: 24.3761 - val_mean_absolute_percentage_error: 3681355.0000\n",
      "Epoch 15/100\n",
      "778/778 [==============================] - 11s 14ms/step - loss: 531.0995 - mean_absolute_error: 16.9416 - root_mean_squared_error: 23.0456 - mean_absolute_percentage_error: 36712968.0000 - val_loss: 533.4165 - val_mean_absolute_error: 17.3354 - val_root_mean_squared_error: 23.0958 - val_mean_absolute_percentage_error: 3341205.5000\n",
      "Epoch 16/100\n",
      "778/778 [==============================] - 10s 13ms/step - loss: 523.7432 - mean_absolute_error: 16.8345 - root_mean_squared_error: 22.8854 - mean_absolute_percentage_error: 34258672.0000 - val_loss: 530.2518 - val_mean_absolute_error: 17.3127 - val_root_mean_squared_error: 23.0272 - val_mean_absolute_percentage_error: 3566755.0000\n",
      "Epoch 17/100\n",
      "778/778 [==============================] - 11s 14ms/step - loss: 518.7963 - mean_absolute_error: 16.7673 - root_mean_squared_error: 22.7771 - mean_absolute_percentage_error: 31980268.0000 - val_loss: 539.7859 - val_mean_absolute_error: 17.4679 - val_root_mean_squared_error: 23.2333 - val_mean_absolute_percentage_error: 3552283.2500\n",
      "Epoch 18/100\n",
      "778/778 [==============================] - 11s 14ms/step - loss: 514.2061 - mean_absolute_error: 16.7157 - root_mean_squared_error: 22.6761 - mean_absolute_percentage_error: 29944018.0000 - val_loss: 517.6245 - val_mean_absolute_error: 17.0700 - val_root_mean_squared_error: 22.7514 - val_mean_absolute_percentage_error: 3503129.2500\n",
      "Epoch 19/100\n",
      "778/778 [==============================] - 11s 14ms/step - loss: 507.7944 - mean_absolute_error: 16.6005 - root_mean_squared_error: 22.5343 - mean_absolute_percentage_error: 28537588.0000 - val_loss: 514.9551 - val_mean_absolute_error: 17.0384 - val_root_mean_squared_error: 22.6926 - val_mean_absolute_percentage_error: 3304664.7500\n",
      "Epoch 20/100\n",
      "778/778 [==============================] - 11s 14ms/step - loss: 502.9669 - mean_absolute_error: 16.5354 - root_mean_squared_error: 22.4269 - mean_absolute_percentage_error: 26377620.0000 - val_loss: 527.8992 - val_mean_absolute_error: 17.2222 - val_root_mean_squared_error: 22.9761 - val_mean_absolute_percentage_error: 3653098.0000\n",
      "Epoch 21/100\n",
      "778/778 [==============================] - 11s 14ms/step - loss: 504.3538 - mean_absolute_error: 16.5676 - root_mean_squared_error: 22.4578 - mean_absolute_percentage_error: 24966906.0000 - val_loss: 519.3398 - val_mean_absolute_error: 17.0965 - val_root_mean_squared_error: 22.7890 - val_mean_absolute_percentage_error: 3730025.5000\n",
      "Epoch 22/100\n",
      "778/778 [==============================] - 11s 14ms/step - loss: 497.5370 - mean_absolute_error: 16.4571 - root_mean_squared_error: 22.3055 - mean_absolute_percentage_error: 23572954.0000 - val_loss: 517.0928 - val_mean_absolute_error: 17.1039 - val_root_mean_squared_error: 22.7397 - val_mean_absolute_percentage_error: 3556235.7500\n",
      "Epoch 23/100\n",
      "778/778 [==============================] - 11s 14ms/step - loss: 493.4047 - mean_absolute_error: 16.4025 - root_mean_squared_error: 22.2127 - mean_absolute_percentage_error: 22444558.0000 - val_loss: 506.3723 - val_mean_absolute_error: 16.8776 - val_root_mean_squared_error: 22.5027 - val_mean_absolute_percentage_error: 3603873.2500\n",
      "Epoch 24/100\n",
      "778/778 [==============================] - 10s 13ms/step - loss: 492.6742 - mean_absolute_error: 16.3870 - root_mean_squared_error: 22.1963 - mean_absolute_percentage_error: 20928006.0000 - val_loss: 507.1280 - val_mean_absolute_error: 16.9142 - val_root_mean_squared_error: 22.5195 - val_mean_absolute_percentage_error: 3676691.0000\n"
     ]
    },
    {
     "name": "stdout",
     "output_type": "stream",
     "text": [
      "Epoch 25/100\n",
      "778/778 [==============================] - 11s 14ms/step - loss: 486.2729 - mean_absolute_error: 16.2860 - root_mean_squared_error: 22.0516 - mean_absolute_percentage_error: 19306920.0000 - val_loss: 505.9502 - val_mean_absolute_error: 16.9285 - val_root_mean_squared_error: 22.4933 - val_mean_absolute_percentage_error: 3494548.0000\n",
      "Epoch 26/100\n",
      "778/778 [==============================] - 11s 14ms/step - loss: 483.8058 - mean_absolute_error: 16.2468 - root_mean_squared_error: 21.9956 - mean_absolute_percentage_error: 18338312.0000 - val_loss: 507.9242 - val_mean_absolute_error: 16.9060 - val_root_mean_squared_error: 22.5372 - val_mean_absolute_percentage_error: 3507164.7500\n",
      "Epoch 27/100\n",
      "778/778 [==============================] - 11s 14ms/step - loss: 483.1603 - mean_absolute_error: 16.2440 - root_mean_squared_error: 21.9809 - mean_absolute_percentage_error: 18032504.0000 - val_loss: 509.9832 - val_mean_absolute_error: 17.0191 - val_root_mean_squared_error: 22.5828 - val_mean_absolute_percentage_error: 3847244.7500\n",
      "Epoch 28/100\n",
      "778/778 [==============================] - 11s 14ms/step - loss: 477.7287 - mean_absolute_error: 16.1634 - root_mean_squared_error: 21.8570 - mean_absolute_percentage_error: 17071620.0000 - val_loss: 503.3840 - val_mean_absolute_error: 16.8631 - val_root_mean_squared_error: 22.4362 - val_mean_absolute_percentage_error: 3617476.7500\n",
      "Epoch 29/100\n",
      "778/778 [==============================] - 11s 14ms/step - loss: 473.4470 - mean_absolute_error: 16.0771 - root_mean_squared_error: 21.7588 - mean_absolute_percentage_error: 16758489.0000 - val_loss: 504.3527 - val_mean_absolute_error: 16.8704 - val_root_mean_squared_error: 22.4578 - val_mean_absolute_percentage_error: 3597663.5000\n",
      "Epoch 30/100\n",
      "778/778 [==============================] - 11s 14ms/step - loss: 472.3073 - mean_absolute_error: 16.0580 - root_mean_squared_error: 21.7326 - mean_absolute_percentage_error: 15522816.0000 - val_loss: 512.7715 - val_mean_absolute_error: 17.0136 - val_root_mean_squared_error: 22.6445 - val_mean_absolute_percentage_error: 3660528.0000\n",
      "Epoch 31/100\n",
      "778/778 [==============================] - 11s 15ms/step - loss: 470.2045 - mean_absolute_error: 16.0289 - root_mean_squared_error: 21.6842 - mean_absolute_percentage_error: 14786447.0000 - val_loss: 499.4382 - val_mean_absolute_error: 16.7584 - val_root_mean_squared_error: 22.3481 - val_mean_absolute_percentage_error: 3680131.2500\n",
      "Epoch 32/100\n",
      "778/778 [==============================] - 11s 14ms/step - loss: 466.5474 - mean_absolute_error: 15.9788 - root_mean_squared_error: 21.5997 - mean_absolute_percentage_error: 13936567.0000 - val_loss: 506.2398 - val_mean_absolute_error: 16.8418 - val_root_mean_squared_error: 22.4998 - val_mean_absolute_percentage_error: 3623727.5000\n",
      "Epoch 33/100\n",
      "778/778 [==============================] - 11s 15ms/step - loss: 464.6761 - mean_absolute_error: 15.9489 - root_mean_squared_error: 21.5563 - mean_absolute_percentage_error: 13534321.0000 - val_loss: 493.7269 - val_mean_absolute_error: 16.6954 - val_root_mean_squared_error: 22.2200 - val_mean_absolute_percentage_error: 3613664.0000\n",
      "Epoch 34/100\n",
      "778/778 [==============================] - 13s 16ms/step - loss: 462.8806 - mean_absolute_error: 15.9260 - root_mean_squared_error: 21.5147 - mean_absolute_percentage_error: 13457701.0000 - val_loss: 509.4309 - val_mean_absolute_error: 16.9081 - val_root_mean_squared_error: 22.5706 - val_mean_absolute_percentage_error: 3610775.2500\n",
      "Epoch 35/100\n",
      "778/778 [==============================] - 11s 14ms/step - loss: 460.2035 - mean_absolute_error: 15.8765 - root_mean_squared_error: 21.4524 - mean_absolute_percentage_error: 13117648.0000 - val_loss: 494.2274 - val_mean_absolute_error: 16.7297 - val_root_mean_squared_error: 22.2312 - val_mean_absolute_percentage_error: 3708249.7500\n",
      "Epoch 36/100\n",
      "778/778 [==============================] - 11s 14ms/step - loss: 457.4544 - mean_absolute_error: 15.8279 - root_mean_squared_error: 21.3882 - mean_absolute_percentage_error: 12257356.0000 - val_loss: 493.0339 - val_mean_absolute_error: 16.6502 - val_root_mean_squared_error: 22.2044 - val_mean_absolute_percentage_error: 3477781.2500\n",
      "Epoch 37/100\n",
      "778/778 [==============================] - 11s 14ms/step - loss: 457.0609 - mean_absolute_error: 15.8225 - root_mean_squared_error: 21.3790 - mean_absolute_percentage_error: 12120615.0000 - val_loss: 497.4929 - val_mean_absolute_error: 16.7222 - val_root_mean_squared_error: 22.3046 - val_mean_absolute_percentage_error: 3519937.0000\n",
      "Epoch 38/100\n",
      "778/778 [==============================] - 12s 15ms/step - loss: 454.4595 - mean_absolute_error: 15.7878 - root_mean_squared_error: 21.3181 - mean_absolute_percentage_error: 12157846.0000 - val_loss: 493.7311 - val_mean_absolute_error: 16.6994 - val_root_mean_squared_error: 22.2201 - val_mean_absolute_percentage_error: 3550456.7500\n",
      "Epoch 39/100\n",
      "778/778 [==============================] - 11s 14ms/step - loss: 452.7310 - mean_absolute_error: 15.7626 - root_mean_squared_error: 21.2775 - mean_absolute_percentage_error: 12054563.0000 - val_loss: 493.6197 - val_mean_absolute_error: 16.7083 - val_root_mean_squared_error: 22.2176 - val_mean_absolute_percentage_error: 3438288.7500\n",
      "Epoch 40/100\n",
      "778/778 [==============================] - 12s 15ms/step - loss: 452.4280 - mean_absolute_error: 15.7734 - root_mean_squared_error: 21.2703 - mean_absolute_percentage_error: 11933609.0000 - val_loss: 489.0033 - val_mean_absolute_error: 16.6362 - val_root_mean_squared_error: 22.1134 - val_mean_absolute_percentage_error: 3358729.5000\n",
      "Epoch 41/100\n",
      "778/778 [==============================] - 11s 14ms/step - loss: 448.1285 - mean_absolute_error: 15.6798 - root_mean_squared_error: 21.1690 - mean_absolute_percentage_error: 11165074.0000 - val_loss: 488.3799 - val_mean_absolute_error: 16.5774 - val_root_mean_squared_error: 22.0993 - val_mean_absolute_percentage_error: 3502371.5000\n",
      "Epoch 42/100\n",
      "778/778 [==============================] - 11s 15ms/step - loss: 447.4797 - mean_absolute_error: 15.6675 - root_mean_squared_error: 21.1537 - mean_absolute_percentage_error: 10902216.0000 - val_loss: 488.7643 - val_mean_absolute_error: 16.5846 - val_root_mean_squared_error: 22.1080 - val_mean_absolute_percentage_error: 3611591.2500\n",
      "Epoch 43/100\n",
      "778/778 [==============================] - 11s 14ms/step - loss: 444.7308 - mean_absolute_error: 15.6252 - root_mean_squared_error: 21.0887 - mean_absolute_percentage_error: 11284988.0000 - val_loss: 489.8007 - val_mean_absolute_error: 16.6010 - val_root_mean_squared_error: 22.1314 - val_mean_absolute_percentage_error: 3442208.0000\n",
      "Epoch 44/100\n",
      "778/778 [==============================] - 12s 16ms/step - loss: 443.5628 - mean_absolute_error: 15.6046 - root_mean_squared_error: 21.0609 - mean_absolute_percentage_error: 10588546.0000 - val_loss: 483.7585 - val_mean_absolute_error: 16.5366 - val_root_mean_squared_error: 21.9945 - val_mean_absolute_percentage_error: 3369246.2500\n",
      "Epoch 45/100\n",
      "778/778 [==============================] - 11s 15ms/step - loss: 441.1591 - mean_absolute_error: 15.5693 - root_mean_squared_error: 21.0038 - mean_absolute_percentage_error: 10496877.0000 - val_loss: 490.1605 - val_mean_absolute_error: 16.6132 - val_root_mean_squared_error: 22.1396 - val_mean_absolute_percentage_error: 3675391.2500\n",
      "Epoch 46/100\n",
      "778/778 [==============================] - 11s 14ms/step - loss: 440.3718 - mean_absolute_error: 15.5568 - root_mean_squared_error: 20.9850 - mean_absolute_percentage_error: 10601928.0000 - val_loss: 495.5158 - val_mean_absolute_error: 16.6735 - val_root_mean_squared_error: 22.2602 - val_mean_absolute_percentage_error: 3493296.7500\n",
      "Epoch 47/100\n",
      "778/778 [==============================] - 11s 14ms/step - loss: 437.3243 - mean_absolute_error: 15.5014 - root_mean_squared_error: 20.9123 - mean_absolute_percentage_error: 10015848.0000 - val_loss: 485.4575 - val_mean_absolute_error: 16.5369 - val_root_mean_squared_error: 22.0331 - val_mean_absolute_percentage_error: 3491922.7500\n",
      "Epoch 48/100\n",
      "778/778 [==============================] - 11s 14ms/step - loss: 436.9458 - mean_absolute_error: 15.5002 - root_mean_squared_error: 20.9032 - mean_absolute_percentage_error: 10100265.0000 - val_loss: 524.4946 - val_mean_absolute_error: 17.3017 - val_root_mean_squared_error: 22.9018 - val_mean_absolute_percentage_error: 3752748.0000\n"
     ]
    },
    {
     "name": "stdout",
     "output_type": "stream",
     "text": [
      "Epoch 49/100\n",
      "778/778 [==============================] - 11s 14ms/step - loss: 435.2237 - mean_absolute_error: 15.4735 - root_mean_squared_error: 20.8620 - mean_absolute_percentage_error: 10663143.0000 - val_loss: 498.1568 - val_mean_absolute_error: 16.7897 - val_root_mean_squared_error: 22.3194 - val_mean_absolute_percentage_error: 3751279.0000\n",
      "Epoch 50/100\n",
      "778/778 [==============================] - 11s 14ms/step - loss: 432.6908 - mean_absolute_error: 15.4260 - root_mean_squared_error: 20.8012 - mean_absolute_percentage_error: 9553540.0000 - val_loss: 489.0992 - val_mean_absolute_error: 16.5951 - val_root_mean_squared_error: 22.1156 - val_mean_absolute_percentage_error: 3542639.5000\n",
      "Epoch 51/100\n",
      "778/778 [==============================] - 11s 14ms/step - loss: 431.3777 - mean_absolute_error: 15.4344 - root_mean_squared_error: 20.7696 - mean_absolute_percentage_error: 9951698.0000 - val_loss: 494.6827 - val_mean_absolute_error: 16.7582 - val_root_mean_squared_error: 22.2415 - val_mean_absolute_percentage_error: 3737855.5000\n",
      "Epoch 52/100\n",
      "778/778 [==============================] - 11s 14ms/step - loss: 429.8650 - mean_absolute_error: 15.3885 - root_mean_squared_error: 20.7332 - mean_absolute_percentage_error: 9611033.0000 - val_loss: 490.4160 - val_mean_absolute_error: 16.6463 - val_root_mean_squared_error: 22.1453 - val_mean_absolute_percentage_error: 3635044.7500\n",
      "Epoch 53/100\n",
      "778/778 [==============================] - 11s 14ms/step - loss: 428.1649 - mean_absolute_error: 15.3606 - root_mean_squared_error: 20.6922 - mean_absolute_percentage_error: 9416883.0000 - val_loss: 493.7918 - val_mean_absolute_error: 16.7067 - val_root_mean_squared_error: 22.2214 - val_mean_absolute_percentage_error: 3583673.2500\n",
      "Epoch 54/100\n",
      "778/778 [==============================] - 12s 15ms/step - loss: 425.3843 - mean_absolute_error: 15.3089 - root_mean_squared_error: 20.6248 - mean_absolute_percentage_error: 9629830.0000 - val_loss: 491.0833 - val_mean_absolute_error: 16.6352 - val_root_mean_squared_error: 22.1604 - val_mean_absolute_percentage_error: 3527657.0000\n",
      "Epoch 55/100\n",
      "778/778 [==============================] - 10s 14ms/step - loss: 423.4569 - mean_absolute_error: 15.2653 - root_mean_squared_error: 20.5781 - mean_absolute_percentage_error: 9481231.0000 - val_loss: 517.8611 - val_mean_absolute_error: 17.1168 - val_root_mean_squared_error: 22.7566 - val_mean_absolute_percentage_error: 3223312.0000\n",
      "Epoch 56/100\n",
      "778/778 [==============================] - 10s 13ms/step - loss: 424.1584 - mean_absolute_error: 15.2773 - root_mean_squared_error: 20.5951 - mean_absolute_percentage_error: 9114235.0000 - val_loss: 488.5499 - val_mean_absolute_error: 16.5978 - val_root_mean_squared_error: 22.1032 - val_mean_absolute_percentage_error: 3457558.0000\n",
      "Epoch 57/100\n",
      "778/778 [==============================] - 11s 15ms/step - loss: 419.6608 - mean_absolute_error: 15.2057 - root_mean_squared_error: 20.4856 - mean_absolute_percentage_error: 9062158.0000 - val_loss: 492.9576 - val_mean_absolute_error: 16.6740 - val_root_mean_squared_error: 22.2026 - val_mean_absolute_percentage_error: 3448296.0000\n",
      "Epoch 58/100\n",
      "778/778 [==============================] - 11s 14ms/step - loss: 420.1881 - mean_absolute_error: 15.2265 - root_mean_squared_error: 20.4985 - mean_absolute_percentage_error: 9479244.0000 - val_loss: 487.8975 - val_mean_absolute_error: 16.6026 - val_root_mean_squared_error: 22.0884 - val_mean_absolute_percentage_error: 3531143.2500\n",
      "Epoch 59/100\n",
      "778/778 [==============================] - 10s 13ms/step - loss: 417.6190 - mean_absolute_error: 15.1790 - root_mean_squared_error: 20.4357 - mean_absolute_percentage_error: 8862565.0000 - val_loss: 489.5070 - val_mean_absolute_error: 16.6227 - val_root_mean_squared_error: 22.1248 - val_mean_absolute_percentage_error: 3354697.7500\n",
      "Epoch 60/100\n",
      "778/778 [==============================] - 10s 13ms/step - loss: 414.1636 - mean_absolute_error: 15.1255 - root_mean_squared_error: 20.3510 - mean_absolute_percentage_error: 9134971.0000 - val_loss: 495.1770 - val_mean_absolute_error: 16.6898 - val_root_mean_squared_error: 22.2526 - val_mean_absolute_percentage_error: 3458335.2500\n",
      "Epoch 61/100\n",
      "778/778 [==============================] - 11s 14ms/step - loss: 413.9994 - mean_absolute_error: 15.1137 - root_mean_squared_error: 20.3470 - mean_absolute_percentage_error: 8805371.0000 - val_loss: 501.6492 - val_mean_absolute_error: 16.8623 - val_root_mean_squared_error: 22.3975 - val_mean_absolute_percentage_error: 3362203.5000\n",
      "Epoch 62/100\n",
      "778/778 [==============================] - 11s 14ms/step - loss: 410.4485 - mean_absolute_error: 15.0641 - root_mean_squared_error: 20.2595 - mean_absolute_percentage_error: 8696161.0000 - val_loss: 493.8658 - val_mean_absolute_error: 16.6982 - val_root_mean_squared_error: 22.2231 - val_mean_absolute_percentage_error: 3258383.2500\n",
      "Epoch 63/100\n",
      "778/778 [==============================] - 10s 13ms/step - loss: 409.8012 - mean_absolute_error: 15.0391 - root_mean_squared_error: 20.2435 - mean_absolute_percentage_error: 8417557.0000 - val_loss: 498.6050 - val_mean_absolute_error: 16.7535 - val_root_mean_squared_error: 22.3295 - val_mean_absolute_percentage_error: 3463863.2500\n",
      "Epoch 64/100\n",
      "778/778 [==============================] - 10s 13ms/step - loss: 407.4178 - mean_absolute_error: 15.0036 - root_mean_squared_error: 20.1846 - mean_absolute_percentage_error: 8666196.0000 - val_loss: 499.2829 - val_mean_absolute_error: 16.8649 - val_root_mean_squared_error: 22.3446 - val_mean_absolute_percentage_error: 3782797.0000\n",
      "Epoch 65/100\n",
      "778/778 [==============================] - 11s 14ms/step - loss: 404.6502 - mean_absolute_error: 14.9592 - root_mean_squared_error: 20.1159 - mean_absolute_percentage_error: 8215076.5000 - val_loss: 497.0028 - val_mean_absolute_error: 16.7328 - val_root_mean_squared_error: 22.2936 - val_mean_absolute_percentage_error: 3447149.2500\n",
      "Epoch 66/100\n",
      "778/778 [==============================] - 11s 14ms/step - loss: 403.3650 - mean_absolute_error: 14.9409 - root_mean_squared_error: 20.0839 - mean_absolute_percentage_error: 8895801.0000 - val_loss: 502.9106 - val_mean_absolute_error: 16.8961 - val_root_mean_squared_error: 22.4257 - val_mean_absolute_percentage_error: 3460094.2500\n",
      "Epoch 67/100\n",
      "778/778 [==============================] - 10s 13ms/step - loss: 401.4317 - mean_absolute_error: 14.9059 - root_mean_squared_error: 20.0358 - mean_absolute_percentage_error: 8067794.0000 - val_loss: 496.2326 - val_mean_absolute_error: 16.7044 - val_root_mean_squared_error: 22.2763 - val_mean_absolute_percentage_error: 3358882.0000\n",
      "Epoch 68/100\n",
      "778/778 [==============================] - 10s 13ms/step - loss: 399.1627 - mean_absolute_error: 14.8619 - root_mean_squared_error: 19.9791 - mean_absolute_percentage_error: 8635183.0000 - val_loss: 495.0976 - val_mean_absolute_error: 16.6942 - val_root_mean_squared_error: 22.2508 - val_mean_absolute_percentage_error: 3334158.2500\n",
      "Epoch 69/100\n",
      "778/778 [==============================] - 10s 13ms/step - loss: 398.2408 - mean_absolute_error: 14.8597 - root_mean_squared_error: 19.9560 - mean_absolute_percentage_error: 8240504.0000 - val_loss: 499.8003 - val_mean_absolute_error: 16.7821 - val_root_mean_squared_error: 22.3562 - val_mean_absolute_percentage_error: 3352928.0000\n",
      "Epoch 70/100\n",
      "778/778 [==============================] - 10s 13ms/step - loss: 395.3980 - mean_absolute_error: 14.7972 - root_mean_squared_error: 19.8846 - mean_absolute_percentage_error: 8338113.0000 - val_loss: 499.3210 - val_mean_absolute_error: 16.7406 - val_root_mean_squared_error: 22.3455 - val_mean_absolute_percentage_error: 3383217.2500\n",
      "Epoch 71/100\n",
      "778/778 [==============================] - 10s 13ms/step - loss: 395.4471 - mean_absolute_error: 14.7888 - root_mean_squared_error: 19.8858 - mean_absolute_percentage_error: 8577766.0000 - val_loss: 505.3756 - val_mean_absolute_error: 16.9461 - val_root_mean_squared_error: 22.4806 - val_mean_absolute_percentage_error: 3508968.2500\n",
      "Epoch 72/100\n",
      "778/778 [==============================] - 10s 13ms/step - loss: 391.3686 - mean_absolute_error: 14.7169 - root_mean_squared_error: 19.7830 - mean_absolute_percentage_error: 8314476.5000 - val_loss: 499.3241 - val_mean_absolute_error: 16.7839 - val_root_mean_squared_error: 22.3456 - val_mean_absolute_percentage_error: 3346675.5000\n"
     ]
    },
    {
     "name": "stdout",
     "output_type": "stream",
     "text": [
      "Epoch 73/100\n",
      "778/778 [==============================] - 11s 14ms/step - loss: 389.1643 - mean_absolute_error: 14.6964 - root_mean_squared_error: 19.7272 - mean_absolute_percentage_error: 8053872.5000 - val_loss: 504.7164 - val_mean_absolute_error: 16.8621 - val_root_mean_squared_error: 22.4659 - val_mean_absolute_percentage_error: 3296538.0000\n",
      "Epoch 74/100\n",
      "778/778 [==============================] - 11s 14ms/step - loss: 389.3601 - mean_absolute_error: 14.6943 - root_mean_squared_error: 19.7322 - mean_absolute_percentage_error: 7681478.5000 - val_loss: 498.0458 - val_mean_absolute_error: 16.7590 - val_root_mean_squared_error: 22.3169 - val_mean_absolute_percentage_error: 3384045.0000\n",
      "Epoch 75/100\n",
      "778/778 [==============================] - 10s 13ms/step - loss: 386.7417 - mean_absolute_error: 14.6495 - root_mean_squared_error: 19.6658 - mean_absolute_percentage_error: 7945591.0000 - val_loss: 502.8574 - val_mean_absolute_error: 16.8611 - val_root_mean_squared_error: 22.4245 - val_mean_absolute_percentage_error: 3398664.2500\n",
      "Epoch 76/100\n",
      "778/778 [==============================] - 10s 13ms/step - loss: 384.4347 - mean_absolute_error: 14.6013 - root_mean_squared_error: 19.6070 - mean_absolute_percentage_error: 7827454.0000 - val_loss: 506.1238 - val_mean_absolute_error: 16.9198 - val_root_mean_squared_error: 22.4972 - val_mean_absolute_percentage_error: 3324791.7500\n",
      "Epoch 77/100\n",
      "778/778 [==============================] - 10s 13ms/step - loss: 381.7896 - mean_absolute_error: 14.5565 - root_mean_squared_error: 19.5394 - mean_absolute_percentage_error: 7703886.0000 - val_loss: 506.5798 - val_mean_absolute_error: 16.9431 - val_root_mean_squared_error: 22.5073 - val_mean_absolute_percentage_error: 3406411.2500\n",
      "Epoch 78/100\n",
      "778/778 [==============================] - 10s 13ms/step - loss: 381.0103 - mean_absolute_error: 14.5524 - root_mean_squared_error: 19.5195 - mean_absolute_percentage_error: 8052778.5000 - val_loss: 505.6066 - val_mean_absolute_error: 16.8780 - val_root_mean_squared_error: 22.4857 - val_mean_absolute_percentage_error: 3424216.7500\n",
      "Epoch 79/100\n",
      "778/778 [==============================] - 10s 13ms/step - loss: 378.1067 - mean_absolute_error: 14.4985 - root_mean_squared_error: 19.4450 - mean_absolute_percentage_error: 8210481.5000 - val_loss: 511.1531 - val_mean_absolute_error: 16.9664 - val_root_mean_squared_error: 22.6087 - val_mean_absolute_percentage_error: 3173134.0000\n",
      "Epoch 80/100\n",
      "778/778 [==============================] - 10s 12ms/step - loss: 375.4832 - mean_absolute_error: 14.4430 - root_mean_squared_error: 19.3774 - mean_absolute_percentage_error: 7778647.0000 - val_loss: 502.7739 - val_mean_absolute_error: 16.8421 - val_root_mean_squared_error: 22.4226 - val_mean_absolute_percentage_error: 3410023.7500\n",
      "Epoch 81/100\n",
      "778/778 [==============================] - 10s 13ms/step - loss: 373.7809 - mean_absolute_error: 14.4121 - root_mean_squared_error: 19.3334 - mean_absolute_percentage_error: 7470409.5000 - val_loss: 506.0054 - val_mean_absolute_error: 16.9044 - val_root_mean_squared_error: 22.4946 - val_mean_absolute_percentage_error: 3426870.5000\n",
      "Epoch 82/100\n",
      "778/778 [==============================] - 10s 13ms/step - loss: 372.1666 - mean_absolute_error: 14.3880 - root_mean_squared_error: 19.2916 - mean_absolute_percentage_error: 8292499.5000 - val_loss: 515.8018 - val_mean_absolute_error: 17.0508 - val_root_mean_squared_error: 22.7113 - val_mean_absolute_percentage_error: 3276000.7500\n",
      "Epoch 83/100\n",
      "778/778 [==============================] - 19s 24ms/step - loss: 370.5509 - mean_absolute_error: 14.3557 - root_mean_squared_error: 19.2497 - mean_absolute_percentage_error: 8241648.0000 - val_loss: 506.8810 - val_mean_absolute_error: 16.8956 - val_root_mean_squared_error: 22.5140 - val_mean_absolute_percentage_error: 3513342.7500\n",
      "Epoch 84/100\n",
      "778/778 [==============================] - 11s 15ms/step - loss: 367.4169 - mean_absolute_error: 14.3042 - root_mean_squared_error: 19.1681 - mean_absolute_percentage_error: 8236733.5000 - val_loss: 505.7739 - val_mean_absolute_error: 16.8990 - val_root_mean_squared_error: 22.4894 - val_mean_absolute_percentage_error: 3320050.7500\n",
      "Epoch 85/100\n",
      "778/778 [==============================] - 12s 16ms/step - loss: 366.0244 - mean_absolute_error: 14.2782 - root_mean_squared_error: 19.1318 - mean_absolute_percentage_error: 8021759.5000 - val_loss: 514.9725 - val_mean_absolute_error: 17.0103 - val_root_mean_squared_error: 22.6930 - val_mean_absolute_percentage_error: 3357521.5000\n",
      "Epoch 86/100\n",
      "778/778 [==============================] - 12s 15ms/step - loss: 364.9522 - mean_absolute_error: 14.2558 - root_mean_squared_error: 19.1037 - mean_absolute_percentage_error: 7884444.5000 - val_loss: 516.9183 - val_mean_absolute_error: 17.1204 - val_root_mean_squared_error: 22.7358 - val_mean_absolute_percentage_error: 3313399.5000\n",
      "Epoch 87/100\n",
      "778/778 [==============================] - 12s 15ms/step - loss: 362.5452 - mean_absolute_error: 14.2098 - root_mean_squared_error: 19.0406 - mean_absolute_percentage_error: 7902630.0000 - val_loss: 512.7021 - val_mean_absolute_error: 16.9963 - val_root_mean_squared_error: 22.6429 - val_mean_absolute_percentage_error: 3256669.2500\n",
      "Epoch 88/100\n",
      "778/778 [==============================] - 12s 16ms/step - loss: 360.0239 - mean_absolute_error: 14.1668 - root_mean_squared_error: 18.9743 - mean_absolute_percentage_error: 7789441.5000 - val_loss: 515.0566 - val_mean_absolute_error: 17.0096 - val_root_mean_squared_error: 22.6949 - val_mean_absolute_percentage_error: 3267216.5000\n",
      "Epoch 89/100\n",
      "778/778 [==============================] - 12s 15ms/step - loss: 358.1607 - mean_absolute_error: 14.1310 - root_mean_squared_error: 18.9251 - mean_absolute_percentage_error: 7952254.5000 - val_loss: 518.6580 - val_mean_absolute_error: 17.1002 - val_root_mean_squared_error: 22.7741 - val_mean_absolute_percentage_error: 3280285.0000\n",
      "Epoch 90/100\n",
      "778/778 [==============================] - 11s 15ms/step - loss: 356.1388 - mean_absolute_error: 14.0942 - root_mean_squared_error: 18.8716 - mean_absolute_percentage_error: 7959362.5000 - val_loss: 520.9696 - val_mean_absolute_error: 17.1713 - val_root_mean_squared_error: 22.8248 - val_mean_absolute_percentage_error: 3207749.2500\n",
      "Epoch 91/100\n",
      "778/778 [==============================] - 12s 16ms/step - loss: 352.8824 - mean_absolute_error: 14.0330 - root_mean_squared_error: 18.7852 - mean_absolute_percentage_error: 7748874.0000 - val_loss: 513.5207 - val_mean_absolute_error: 16.9873 - val_root_mean_squared_error: 22.6610 - val_mean_absolute_percentage_error: 3286552.0000\n",
      "Epoch 92/100\n",
      "778/778 [==============================] - 11s 15ms/step - loss: 350.9225 - mean_absolute_error: 13.9967 - root_mean_squared_error: 18.7329 - mean_absolute_percentage_error: 8259797.5000 - val_loss: 517.7412 - val_mean_absolute_error: 17.0822 - val_root_mean_squared_error: 22.7539 - val_mean_absolute_percentage_error: 3280874.0000\n",
      "Epoch 93/100\n",
      "778/778 [==============================] - 12s 15ms/step - loss: 350.5789 - mean_absolute_error: 13.9809 - root_mean_squared_error: 18.7237 - mean_absolute_percentage_error: 7956358.0000 - val_loss: 516.8766 - val_mean_absolute_error: 17.0561 - val_root_mean_squared_error: 22.7349 - val_mean_absolute_percentage_error: 3354984.0000\n",
      "Epoch 94/100\n",
      "778/778 [==============================] - 12s 15ms/step - loss: 347.3996 - mean_absolute_error: 13.9264 - root_mean_squared_error: 18.6387 - mean_absolute_percentage_error: 7906903.5000 - val_loss: 516.3467 - val_mean_absolute_error: 17.0660 - val_root_mean_squared_error: 22.7233 - val_mean_absolute_percentage_error: 3183723.0000\n",
      "Epoch 95/100\n",
      "778/778 [==============================] - 12s 15ms/step - loss: 345.0529 - mean_absolute_error: 13.8772 - root_mean_squared_error: 18.5756 - mean_absolute_percentage_error: 8202627.0000 - val_loss: 519.4448 - val_mean_absolute_error: 17.0805 - val_root_mean_squared_error: 22.7913 - val_mean_absolute_percentage_error: 3342689.5000\n",
      "Epoch 96/100\n",
      "778/778 [==============================] - 12s 15ms/step - loss: 342.2140 - mean_absolute_error: 13.8269 - root_mean_squared_error: 18.4990 - mean_absolute_percentage_error: 8288461.0000 - val_loss: 521.7962 - val_mean_absolute_error: 17.1654 - val_root_mean_squared_error: 22.8429 - val_mean_absolute_percentage_error: 3436286.5000\n",
      "Epoch 97/100\n",
      "778/778 [==============================] - 12s 15ms/step - loss: 342.0905 - mean_absolute_error: 13.8192 - root_mean_squared_error: 18.4957 - mean_absolute_percentage_error: 7848537.5000 - val_loss: 530.2399 - val_mean_absolute_error: 17.3225 - val_root_mean_squared_error: 23.0269 - val_mean_absolute_percentage_error: 3407619.0000\n",
      "Epoch 98/100\n",
      "778/778 [==============================] - 12s 15ms/step - loss: 338.4099 - mean_absolute_error: 13.7540 - root_mean_squared_error: 18.3959 - mean_absolute_percentage_error: 8389232.0000 - val_loss: 526.5005 - val_mean_absolute_error: 17.2047 - val_root_mean_squared_error: 22.9456 - val_mean_absolute_percentage_error: 3185704.7500\n",
      "Epoch 99/100\n",
      "778/778 [==============================] - 11s 14ms/step - loss: 337.3644 - mean_absolute_error: 13.7310 - root_mean_squared_error: 18.3675 - mean_absolute_percentage_error: 7988685.0000 - val_loss: 526.1471 - val_mean_absolute_error: 17.2132 - val_root_mean_squared_error: 22.9379 - val_mean_absolute_percentage_error: 3198489.5000\n",
      "Epoch 100/100\n",
      "778/778 [==============================] - 11s 14ms/step - loss: 335.0772 - mean_absolute_error: 13.6881 - root_mean_squared_error: 18.3051 - mean_absolute_percentage_error: 8257160.0000 - val_loss: 531.0704 - val_mean_absolute_error: 17.2523 - val_root_mean_squared_error: 23.0450 - val_mean_absolute_percentage_error: 3249294.2500\n"
     ]
    },
    {
     "data": {
      "text/plain": [
       "<keras.callbacks.History at 0x2155568c3d0>"
      ]
     },
     "execution_count": 35,
     "metadata": {},
     "output_type": "execute_result"
    }
   ],
   "source": [
    "model5.fit((Wt5,Xt5), yt5, validation_split = val_percent,\n",
    "           epochs = 100, \n",
    "           verbose = 1)"
   ]
  },
  {
   "cell_type": "code",
   "execution_count": 36,
   "metadata": {},
   "outputs": [],
   "source": [
    "metrics5 = pd.DataFrame(model5.history.history)"
   ]
  },
  {
   "cell_type": "code",
   "execution_count": 37,
   "metadata": {},
   "outputs": [],
   "source": [
    "# Copy the 'metrics5' DataFrame to avoid modifying the original data\n",
    "normalized_metrics5 = metrics5.copy()\n",
    "\n",
    "# Define the columns to be normalized\n",
    "columns_to_normalize = ['loss', 'val_loss']\n",
    "\n",
    "# Perform min-max normalization on the selected columns\n",
    "for column in columns_to_normalize:\n",
    "    min_val = metrics5[column].min()\n",
    "    max_val = metrics5[column].max()\n",
    "    normalized_metrics5[column] = (metrics5[column] - min_val) / (max_val - min_val)"
   ]
  },
  {
   "cell_type": "code",
   "execution_count": 38,
   "metadata": {},
   "outputs": [
    {
     "data": {
      "image/png": "[encoded data removed]",
      "text/plain": [
       "<Figure size 400x400 with 1 Axes>"
      ]
     },
     "metadata": {},
     "output_type": "display_data"
    }
   ],
   "source": [
    "fig, axes = plt.subplots(figsize=(4,4))\n",
    "\n",
    "# Add set of axes to figure\n",
    "axes.set_yscale('log')\n",
    "axes.plot(metrics5[['loss','val_loss']], label=['train_loss','val_loss'], lw=4)\n",
    "\n",
    "axes.set_xlabel('Epoch')\n",
    "axes.set_ylabel('Loss')\n",
    "axes.grid()\n",
    "\n",
    "#mark_inset(axes, axes2, loc1=2, loc2=4, fc=\"0.9\", ec=\"0.1\", ls='--')\n",
    "axes.yaxis.set_major_formatter(formatter)"
   ]
  },
  {
   "cell_type": "code",
   "execution_count": 144,
   "metadata": {},
   "outputs": [
    {
     "data": {
      "image/png": "[encoded data removed]",
      "text/plain": [
       "<Figure size 432x288 with 1 Axes>"
      ]
     },
     "metadata": {
      "needs_background": "light"
     },
     "output_type": "display_data"
    }
   ],
   "source": [
    "fig = plt.figure(figsize=(6,4))\n",
    "\n",
    "# Add set of axes to figure\n",
    "axes = fig.add_axes([0, 0, 1, 1]) \n",
    "axes.plot(normalized_metrics5[['loss','val_loss']], label=['train_loss','val_loss'], lw=4)\n",
    "axes.set_ylim(0,1)\n",
    "\n",
    "axes.set_xlabel('Epoch')\n",
    "axes.set_ylabel('Loss')\n",
    "axes.grid()\n",
    "\n",
    "#mark_inset(axes, axes2, loc1=2, loc2=4, fc=\"0.9\", ec=\"0.1\", ls='--')\n",
    "#axes.yaxis.set_major_formatter(formatter)"
   ]
  },
  {
   "cell_type": "code",
   "execution_count": 145,
   "metadata": {},
   "outputs": [
    {
     "data": {
      "image/png": "[encoded data removed]",
      "text/plain": [
       "<Figure size 432x288 with 2 Axes>"
      ]
     },
     "metadata": {
      "needs_background": "light"
     },
     "output_type": "display_data"
    }
   ],
   "source": [
    "fig = plt.figure(figsize=(6,4))\n",
    "\n",
    "# Add set of axes to figure\n",
    "axes = fig.add_axes([0, 0, 1, 1]) \n",
    "axes2 = fig.add_axes([0.3, 0.35, 0.5, 0.5]) # Smaller figure\n",
    "axes.plot(metrics5[['loss','val_loss']], label=['train_loss','val_loss'], lw=4)\n",
    "axes.set_ylim(0,4000)\n",
    "\n",
    "axes2.plot(metrics5[['loss','val_loss']], lw=4)\n",
    "axes2.set_xlim(0,20)\n",
    "axes2.set_ylim(400,1500)\n",
    "#plt.xticks(visible=False)\n",
    "plt.yticks(visible=False)\n",
    "\n",
    "axes.set_xlabel('Epoch')\n",
    "axes.set_ylabel('Loss')\n",
    "axes.grid()\n",
    "axes2.grid()\n",
    "\n",
    "mark_inset(axes, axes2, loc1=2, loc2=4, fc=\"0.9\", ec=\"0.1\", ls='--')\n",
    "axes.yaxis.set_major_formatter(formatter)"
   ]
  },
  {
   "cell_type": "code",
   "execution_count": null,
   "metadata": {},
   "outputs": [],
   "source": [
    "model5.save(\"my_dir/8a-5\")"
   ]
  },
  {
   "cell_type": "code",
   "execution_count": 31,
   "metadata": {},
   "outputs": [],
   "source": [
    "model5 = keras.models.load_model(\"my_dir/8a-5\", custom_objects=SeqSelfAttention.get_custom_objects()) "
   ]
  },
  {
   "cell_type": "code",
   "execution_count": 32,
   "metadata": {},
   "outputs": [
    {
     "name": "stdout",
     "output_type": "stream",
     "text": [
      "Model: \"model_1\"\n",
      "__________________________________________________________________________________________________\n",
      " Layer (type)                   Output Shape         Param #     Connected to                     \n",
      "==================================================================================================\n",
      " DeepInput (InputLayer)         [(None, 3, 5, 7, 1)  0           []                               \n",
      "                                ]                                                                 \n",
      "                                                                                                  \n",
      " WideInput (InputLayer)         [(None, 3, 3, 7)]    0           []                               \n",
      "                                                                                                  \n",
      " time_distributed_4 (TimeDistri  (None, 3, 4, 6, 160  800        ['DeepInput[0][0]']              \n",
      " buted)                         )                                                                 \n",
      "                                                                                                  \n",
      " time_distributed_3 (TimeDistri  (None, 3, 21)       0           ['WideInput[0][0]']              \n",
      " buted)                                                                                           \n",
      "                                                                                                  \n",
      " time_distributed_5 (TimeDistri  (None, 3, 3840)     0           ['time_distributed_4[0][0]']     \n",
      " buted)                                                                                           \n",
      "                                                                                                  \n",
      " bidirectional_1 (Bidirectional  (None, 3, 57)       36024       ['time_distributed_3[0][0]']     \n",
      " )                                                                                                \n",
      "                                                                                                  \n",
      " lstm_3 (LSTM)                  (None, 3, 57)        888744      ['time_distributed_5[0][0]']     \n",
      "                                                                                                  \n",
      " concatenate_1 (Concatenate)    (None, 6, 57)        0           ['bidirectional_1[0][0]',        \n",
      "                                                                  'lstm_3[0][0]']                 \n",
      "                                                                                                  \n",
      " seq_self_attention_1 (SeqSelfA  (None, 6, 57)       3713        ['concatenate_1[0][0]']          \n",
      " ttention)                                                                                        \n",
      "                                                                                                  \n",
      " flatten_5 (Flatten)            (None, 342)          0           ['seq_self_attention_1[0][0]']   \n",
      "                                                                                                  \n",
      " output (Dense)                 (None, 7)            2401        ['flatten_5[0][0]']              \n",
      "                                                                                                  \n",
      "==================================================================================================\n",
      "Total params: 931,682\n",
      "Trainable params: 931,682\n",
      "Non-trainable params: 0\n",
      "__________________________________________________________________________________________________\n"
     ]
    }
   ],
   "source": [
    "model5.summary()"
   ]
  },
  {
   "cell_type": "code",
   "execution_count": 88,
   "metadata": {},
   "outputs": [
    {
     "data": {
      "text/plain": [
       "[array([[ 0.48384324, -0.3183184 , -0.8582073 , ...,  0.21832728,\n",
       "          0.4985954 , -0.29431903],\n",
       "        [-0.45137864,  0.00704534,  0.34079066, ...,  0.36728662,\n",
       "         -0.43585166, -0.06479387],\n",
       "        [ 0.28983667,  0.14556777,  0.4357353 , ...,  0.2913544 ,\n",
       "          0.07947234, -0.45381728],\n",
       "        ...,\n",
       "        [ 0.00209678,  0.4634204 ,  0.30478254, ...,  0.19451495,\n",
       "         -0.1126006 , -0.31367427],\n",
       "        [ 0.42797792,  0.04627108,  0.03928623, ..., -0.00653986,\n",
       "          0.2094275 , -0.06222307],\n",
       "        [ 0.32913467,  0.1408738 ,  0.38203272, ..., -0.05297726,\n",
       "         -0.16985872, -0.18253165]], dtype=float32),\n",
       " array([[ 0.3884461 ,  1.2442572 , -0.10281471, ...,  0.2919561 ,\n",
       "         -0.0453087 , -0.41885912],\n",
       "        [ 0.5928738 , -0.7634272 ,  0.0785111 , ..., -0.28476167,\n",
       "          0.09262085, -0.15473448],\n",
       "        [-0.08752039, -0.9888884 ,  0.3368069 , ..., -0.3075879 ,\n",
       "          0.23024444, -0.35197234],\n",
       "        ...,\n",
       "        [-0.3727263 ,  0.7320034 ,  0.34687534, ..., -0.05526362,\n",
       "         -0.3449978 ,  0.3092388 ],\n",
       "        [-0.5056726 , -0.78351283,  0.19898158, ...,  0.29143786,\n",
       "          0.0644881 , -0.11624242],\n",
       "        [-0.37222922, -0.32623973,  0.21504201, ...,  0.06902497,\n",
       "          0.5106059 , -0.12792605]], dtype=float32),\n",
       " array([-0.4551008 ,  0.06900866,  0.7313882 , -0.84901315, -0.2606947 ,\n",
       "        -0.41557264,  0.509407  , -0.02650294,  0.61256194, -0.31636375,\n",
       "         0.7280711 ,  0.28261513, -0.08179898, -0.36264923,  0.35662943,\n",
       "         0.7281758 ,  0.56280285,  0.3319046 ,  0.76910293,  0.7501299 ,\n",
       "         0.38053387,  0.01090646,  0.6796604 ,  0.44333947, -0.5782547 ,\n",
       "         0.19548382,  0.78846097, -0.58855516,  0.32979718, -0.6623433 ,\n",
       "        -0.38729686,  0.7373262 ], dtype=float32),\n",
       " array([[ 1.3787584 ],\n",
       "        [ 0.6372662 ],\n",
       "        [-0.9580232 ],\n",
       "        [ 0.7553544 ],\n",
       "        [ 1.303214  ],\n",
       "        [ 1.1672885 ],\n",
       "        [-0.9129543 ],\n",
       "        [ 0.9185361 ],\n",
       "        [-1.1505325 ],\n",
       "        [ 1.2477965 ],\n",
       "        [-1.5601866 ],\n",
       "        [-1.3296291 ],\n",
       "        [ 1.0629952 ],\n",
       "        [ 1.3970567 ],\n",
       "        [-0.75607413],\n",
       "        [-1.5017827 ],\n",
       "        [-0.93327254],\n",
       "        [-1.5886562 ],\n",
       "        [-1.040551  ],\n",
       "        [-1.0896611 ],\n",
       "        [-0.9090794 ],\n",
       "        [-0.97664905],\n",
       "        [-1.4036905 ],\n",
       "        [-0.85075307],\n",
       "        [ 1.1474079 ],\n",
       "        [-1.3644757 ],\n",
       "        [-0.8714829 ],\n",
       "        [ 1.2858924 ],\n",
       "        [-1.3665099 ],\n",
       "        [ 0.8890809 ],\n",
       "        [ 1.1247997 ],\n",
       "        [-0.9967927 ]], dtype=float32),\n",
       " array([-0.30176327], dtype=float32)]"
      ]
     },
     "execution_count": 88,
     "metadata": {},
     "output_type": "execute_result"
    }
   ],
   "source": [
    "model5.layers[8].get_weights()"
   ]
  },
  {
   "cell_type": "code",
   "execution_count": 84,
   "metadata": {},
   "outputs": [],
   "source": [
    "scaler_filename = \"Best_HP/8a-5\"\n",
    "best_hp5 = joblib.load(scaler_filename) "
   ]
  },
  {
   "cell_type": "code",
   "execution_count": 86,
   "metadata": {},
   "outputs": [
    {
     "data": {
      "text/plain": [
       "{'units': 57, 'filters': 160, 'kernel_size': 2, 'learning_rate': 0.001}"
      ]
     },
     "execution_count": 86,
     "metadata": {},
     "output_type": "execute_result"
    }
   ],
   "source": [
    "best_hp5.values"
   ]
  },
  {
   "cell_type": "code",
   "execution_count": 33,
   "metadata": {},
   "outputs": [
    {
     "data": {
      "text/plain": [
       "(57, 32)"
      ]
     },
     "execution_count": 33,
     "metadata": {},
     "output_type": "execute_result"
    }
   ],
   "source": [
    "model5.layers[8].get_weights()[0].shape"
   ]
  },
  {
   "cell_type": "code",
   "execution_count": 34,
   "metadata": {},
   "outputs": [
    {
     "data": {
      "text/plain": [
       "(3840, 228)"
      ]
     },
     "execution_count": 34,
     "metadata": {},
     "output_type": "execute_result"
    }
   ],
   "source": [
    "model5.layers[6].get_weights()[0].shape"
   ]
  },
  {
   "cell_type": "code",
   "execution_count": 35,
   "metadata": {},
   "outputs": [
    {
     "data": {
      "text/plain": [
       "(21, 228)"
      ]
     },
     "execution_count": 35,
     "metadata": {},
     "output_type": "execute_result"
    }
   ],
   "source": [
    "model5.layers[5].get_weights()[0].shape"
   ]
  },
  {
   "cell_type": "code",
   "execution_count": 70,
   "metadata": {},
   "outputs": [
    {
     "data": {
      "text/plain": [
       "{'SeqSelfAttention': keras_self_attention.seq_self_attention.SeqSelfAttention}"
      ]
     },
     "execution_count": 70,
     "metadata": {},
     "output_type": "execute_result"
    }
   ],
   "source": [
    "model5.layers[8].get_custom_objects()"
   ]
  },
  {
   "cell_type": "code",
   "execution_count": 65,
   "metadata": {},
   "outputs": [],
   "source": [
    "att5_weights = model5.layers[8].get_weights()[0]"
   ]
  },
  {
   "cell_type": "code",
   "execution_count": 73,
   "metadata": {},
   "outputs": [
    {
     "data": {
      "image/png": "[encoded data removed]",
      "text/plain": [
       "<Figure size 3600x1200 with 1 Axes>"
      ]
     },
     "metadata": {},
     "output_type": "display_data"
    }
   ],
   "source": [
    "plt.figure(figsize=(12,4), dpi=300)\n",
    "\n",
    "hmap = sns.heatmap(att5_weights,\n",
    "            xticklabels=False,\n",
    "            yticklabels=False,\n",
    "            cbar=False,\n",
    "            #cbar_kws={'fraction' : 0.01}, # shrink colour bar\n",
    "            cmap='viridis',\n",
    "            robust=True,\n",
    "            square=True,\n",
    "            )\n",
    "\n",
    "plt.tight_layout()\n",
    "plt.show()"
   ]
  },
  {
   "cell_type": "code",
   "execution_count": 92,
   "metadata": {},
   "outputs": [
    {
     "data": {
      "image/png": "[encoded data removed]",
      "text/plain": [
       "<Figure size 3600x1200 with 1 Axes>"
      ]
     },
     "metadata": {},
     "output_type": "display_data"
    }
   ],
   "source": [
    "att5_weights = model5.layers[8].get_weights()[0]\n",
    "\n",
    "plt.figure(figsize=(12,4), dpi=300)\n",
    "\n",
    "hmap = sns.heatmap(att5_weights,\n",
    "            xticklabels=False,\n",
    "            yticklabels=False,\n",
    "            cbar=False,\n",
    "            #cbar_kws={'fraction' : 0.01}, # shrink colour bar\n",
    "            cmap='viridis',\n",
    "            robust=True,\n",
    "            square=True,\n",
    "            )\n",
    "plt.axhline(y=29, color='red', linestyle='--')\n",
    "\n",
    "\n",
    "plt.tight_layout()\n",
    "plt.show()"
   ]
  },
  {
   "cell_type": "code",
   "execution_count": 49,
   "metadata": {},
   "outputs": [
    {
     "data": {
      "text/plain": [
       "[0, 1, 2, 3, 4, 5, 6, 7, 8, 9, 10]"
      ]
     },
     "execution_count": 49,
     "metadata": {},
     "output_type": "execute_result"
    }
   ],
   "source": [
    "layers_indices = []\n",
    "for index, layer in enumerate(model5.layers):\n",
    "    layers_indices.append(index)\n",
    "layers_indices"
   ]
  },
  {
   "cell_type": "code",
   "execution_count": 32,
   "metadata": {},
   "outputs": [
    {
     "data": {
      "text/plain": [
       "array([[ 67.75818 ,  70.07021 ,  75.87873 , ...,  72.460625,  51.128777,\n",
       "         51.68292 ],\n",
       "       [ 66.7092  ,  68.1204  ,  76.676674, ...,  71.10775 ,  50.777607,\n",
       "         47.561333],\n",
       "       [ 54.350674,  57.3212  ,  60.9636  , ...,  58.357155,  40.769306,\n",
       "         42.222664],\n",
       "       ...,\n",
       "       [136.07123 , 142.76152 , 152.49614 , ..., 144.12526 ,  97.75095 ,\n",
       "         79.61091 ],\n",
       "       [122.81646 , 126.396614, 135.78204 , ..., 127.48603 ,  90.53893 ,\n",
       "         80.34822 ],\n",
       "       [129.65398 , 135.1509  , 144.26936 , ..., 144.32945 ,  93.88532 ,\n",
       "         83.36093 ]], dtype=float32)"
      ]
     },
     "execution_count": 32,
     "metadata": {},
     "output_type": "execute_result"
    }
   ],
   "source": [
    "model5.predict((Wv5,Xv5))"
   ]
  },
  {
   "cell_type": "markdown",
   "metadata": {},
   "source": [
    "### Evaluation on inverse_transform"
   ]
  },
  {
   "cell_type": "code",
   "execution_count": null,
   "metadata": {},
   "outputs": [],
   "source": [
    "test_predictions5 = model5.predict((Wv5,Xv5))\n",
    "\n",
    "\n",
    "MSE5 = mean_squared_error(yv5,test_predictions5)\n",
    "\n",
    "MAE5 = mean_absolute_error(yv5,test_predictions5)\n",
    "\n",
    "RMSE5 = np.sqrt(MSE5)\n",
    "\n",
    "MAPE5 = mean_absolute_percentage_error(yv5,test_predictions5)*100\n",
    "\n",
    "eval5 = [MSE5, MAE5, RMSE5, MAPE5]\n",
    "print(eval5)"
   ]
  },
  {
   "cell_type": "code",
   "execution_count": 37,
   "metadata": {},
   "outputs": [],
   "source": [
    "test_predictions5 = model5.predict((Wv5,Xv5))\n",
    "\n",
    "\n",
    "MSE5 = mean_squared_error(yv5,test_predictions5,multioutput='raw_values')\n",
    "\n",
    "MAE5 = mean_absolute_error(yv5,test_predictions5,multioutput='raw_values')\n",
    "\n",
    "RMSE5 = mean_squared_error(yv5,test_predictions5,multioutput='raw_values',squared=False)\n",
    "\n",
    "MAPE5 = mean_absolute_percentage_error(yv5,test_predictions5,multioutput='raw_values')*100\n",
    "\n",
    "# eval5 = [MSE5, MAE5, RMSE5, MAPE5]\n",
    "# print(eval5)"
   ]
  },
  {
   "cell_type": "code",
   "execution_count": 38,
   "metadata": {},
   "outputs": [
    {
     "data": {
      "text/plain": [
       "array([581.53845222, 721.91764844, 663.84021779, 356.5477708 ,\n",
       "       581.69117957, 385.38595429, 278.99022469])"
      ]
     },
     "execution_count": 38,
     "metadata": {},
     "output_type": "execute_result"
    }
   ],
   "source": [
    "MSE5"
   ]
  },
  {
   "cell_type": "code",
   "execution_count": 39,
   "metadata": {},
   "outputs": [
    {
     "data": {
      "text/plain": [
       "array([18.69375404, 20.22319968, 19.95069079, 14.43920875, 18.1789424 ,\n",
       "       14.91455547, 12.74645953])"
      ]
     },
     "execution_count": 39,
     "metadata": {},
     "output_type": "execute_result"
    }
   ],
   "source": [
    "MAE5"
   ]
  },
  {
   "cell_type": "code",
   "execution_count": 40,
   "metadata": {},
   "outputs": [
    {
     "data": {
      "text/plain": [
       "array([24.11510838, 26.86852524, 25.76509689, 18.88247258, 24.11827481,\n",
       "       19.63124943, 16.70300047])"
      ]
     },
     "execution_count": 40,
     "metadata": {},
     "output_type": "execute_result"
    }
   ],
   "source": [
    "RMSE5"
   ]
  },
  {
   "cell_type": "code",
   "execution_count": 41,
   "metadata": {},
   "outputs": [
    {
     "data": {
      "text/plain": [
       "array([9.8492457 , 9.87649408, 9.25110254, 7.22043914, 7.91523986,\n",
       "       8.73054685, 8.20278564])"
      ]
     },
     "execution_count": 41,
     "metadata": {},
     "output_type": "execute_result"
    }
   ],
   "source": [
    "MAPE5"
   ]
  },
  {
   "cell_type": "code",
   "execution_count": null,
   "metadata": {},
   "outputs": [],
   "source": [
    "GEH, count = ga.GEH(np.asarray(yv5), np.asarray(test_predictions5))\n",
    "GEH5 = count/GEH.size\n",
    "print(GEH5)"
   ]
  },
  {
   "cell_type": "code",
   "execution_count": null,
   "metadata": {},
   "outputs": [],
   "source": [
    "err = yv5 - test_predictions5"
   ]
  },
  {
   "cell_type": "code",
   "execution_count": null,
   "metadata": {},
   "outputs": [],
   "source": [
    "# Use similar to plt.figure() except use tuple unpacking to grab fig and axes\n",
    "fig, axes = plt.subplots(figsize=(16,3))\n",
    "\n",
    "# Now use the axes object to add stuff to plot\n",
    "axes.scatter(test_predictions5, err, 4)\n",
    "axes.set_xlabel('Flow')\n",
    "axes.set_ylabel('Error')\n",
    "axes.set_title('Flow vs. Error')\n",
    "axes.grid()"
   ]
  },
  {
   "cell_type": "code",
   "execution_count": null,
   "metadata": {},
   "outputs": [],
   "source": [
    "sns.histplot(data=c, x=c[:,1], y=c[:,0], bins=20)"
   ]
  },
  {
   "cell_type": "code",
   "execution_count": null,
   "metadata": {},
   "outputs": [],
   "source": [
    "sns.histplot(data=c, x=c[:,1], bins=20)"
   ]
  },
  {
   "cell_type": "code",
   "execution_count": null,
   "metadata": {},
   "outputs": [],
   "source": [
    "a = err.flatten().reshape(-1, 1)\n",
    "b = test_predictions5.flatten().reshape(-1, 1)\n",
    "c = np.concatenate((a,b), axis=1)"
   ]
  },
  {
   "cell_type": "markdown",
   "metadata": {},
   "source": [
    "# 15 mins ahead"
   ]
  },
  {
   "cell_type": "code",
   "execution_count": 39,
   "metadata": {},
   "outputs": [],
   "source": [
    "def build_model_15(hp):\n",
    "    # Inputs\n",
    "    channel_Wide = keras.layers.Input(shape=Wt15.shape[1:], name=\"WideInput\")\n",
    "    channel_Deep = keras.layers.Input(shape=Xt15.shape[1:], name=\"DeepInput\")\n",
    "    units = hp.Int(\"units\", min_value=1, max_value=100, step=1)\n",
    "    \n",
    "    \n",
    "    # Wide Model\n",
    "    flatten_15w = keras.layers.TimeDistributed(keras.layers.Flatten())(channel_Wide)\n",
    "    Bi_15 = keras.layers.Bidirectional(\n",
    "        keras.layers.LSTM(units=units, return_sequences=True),\n",
    "        merge_mode=\"ave\"\n",
    "    )(flatten_15w)\n",
    "    \n",
    "    \n",
    "    \n",
    "    # Deep Model\n",
    "    # CNN \n",
    "    CNN_15 = keras.layers.TimeDistributed(\n",
    "        keras.layers.Conv2D(filters=hp.Int(\"filters\", min_value=32, max_value=512, step=32),\n",
    "                            kernel_size=hp.Choice(\"kernel_size\", [2, 3]), activation='relu'))(channel_Deep)\n",
    "    flatten_15 = keras.layers.TimeDistributed(keras.layers.Flatten())(CNN_15)\n",
    "    # LSTM          \n",
    "    LSTM_15 = keras.layers.LSTM(units=units, return_sequences=True)(flatten_15)\n",
    "\n",
    "    \n",
    "    # Concatenation \n",
    "    concat = keras.layers.concatenate([Bi_15, LSTM_15], axis=1)\n",
    "\n",
    "    # Attention\n",
    "    Att_15 = SeqSelfAttention(attention_activation='sigmoid')(concat)\n",
    "    merge = keras.layers.Flatten()(Att_15)\n",
    "\n",
    "    \n",
    "    # Output\n",
    "    output = keras.layers.Dense(n_features, name= \"output\")(merge)\n",
    "    \n",
    "    # Model\n",
    "    model_15 = keras.Model(inputs=[channel_Wide,channel_Deep], outputs=[output])\n",
    "\n",
    "    # Compile\n",
    "    model_15.compile(optimizer=keras.optimizers.Adam(hp.Choice(\"learning_rate\", [1e-2, 1e-3, 1e-4])), \n",
    "        loss=\"mse\", metrics=['MeanAbsoluteError','RootMeanSquaredError','MeanAbsolutePercentageError'])\n",
    "                    \n",
    "    return model_15"
   ]
  },
  {
   "cell_type": "code",
   "execution_count": 40,
   "metadata": {},
   "outputs": [
    {
     "name": "stdout",
     "output_type": "stream",
     "text": [
      "INFO:tensorflow:Reloading Oracle from existing project C:\\Runs\\8a-15\\oracle.json\n",
      "INFO:tensorflow:Reloading Tuner from C:\\Runs\\8a-15\\tuner0.json\n"
     ]
    }
   ],
   "source": [
    "tuner15 = RandomSearch(\n",
    "    build_model_15,\n",
    "    objective=\"val_loss\",\n",
    "    max_trials=60,\n",
    "    executions_per_trial=2,\n",
    "    overwrite=False,\n",
    "    directory=os.path.normpath('C:/Runs'),\n",
    "    project_name=\"8a-15\",\n",
    ")"
   ]
  },
  {
   "cell_type": "code",
   "execution_count": null,
   "metadata": {},
   "outputs": [],
   "source": [
    "tuner15.search_space_summary()"
   ]
  },
  {
   "cell_type": "code",
   "execution_count": null,
   "metadata": {},
   "outputs": [],
   "source": [
    "tuner15.search((Wt15,Xt15), yt15, epochs=200,\n",
    "            validation_split = val_percent,\n",
    "            callbacks=[early_stop], \n",
    "            verbose=2)"
   ]
  },
  {
   "cell_type": "code",
   "execution_count": null,
   "metadata": {},
   "outputs": [],
   "source": [
    "tuner15.results_summary(1)"
   ]
  },
  {
   "cell_type": "markdown",
   "metadata": {},
   "source": [
    "### Best model"
   ]
  },
  {
   "cell_type": "code",
   "execution_count": 41,
   "metadata": {},
   "outputs": [],
   "source": [
    "scaler_filename = \"Best_HP/8a-15\"\n",
    "best_hp15 = joblib.load(scaler_filename) \n",
    "\n",
    "model15 = tuner15.hypermodel.build(best_hp15)"
   ]
  },
  {
   "cell_type": "code",
   "execution_count": null,
   "metadata": {},
   "outputs": [],
   "source": [
    "best_hp15 = tuner15.get_best_hyperparameters()[0]\n",
    "model15 = tuner15.hypermodel.build(best_hp15)"
   ]
  },
  {
   "cell_type": "code",
   "execution_count": null,
   "metadata": {},
   "outputs": [],
   "source": [
    "scaler_filename = \"Best_HP/8a-15\"\n",
    "joblib.dump(best_hp15, scaler_filename) "
   ]
  },
  {
   "cell_type": "code",
   "execution_count": 42,
   "metadata": {},
   "outputs": [
    {
     "name": "stdout",
     "output_type": "stream",
     "text": [
      "Model: \"model_3\"\n",
      "__________________________________________________________________________________________________\n",
      " Layer (type)                   Output Shape         Param #     Connected to                     \n",
      "==================================================================================================\n",
      " DeepInput (InputLayer)         [(None, 3, 5, 7, 1)  0           []                               \n",
      "                                ]                                                                 \n",
      "                                                                                                  \n",
      " WideInput (InputLayer)         [(None, 3, 3, 7)]    0           []                               \n",
      "                                                                                                  \n",
      " time_distributed_10 (TimeDistr  (None, 3, 4, 6, 320  1600       ['DeepInput[0][0]']              \n",
      " ibuted)                        )                                                                 \n",
      "                                                                                                  \n",
      " time_distributed_9 (TimeDistri  (None, 3, 21)       0           ['WideInput[0][0]']              \n",
      " buted)                                                                                           \n",
      "                                                                                                  \n",
      " time_distributed_11 (TimeDistr  (None, 3, 7680)     0           ['time_distributed_10[0][0]']    \n",
      " ibuted)                                                                                          \n",
      "                                                                                                  \n",
      " bidirectional_3 (Bidirectional  (None, 3, 59)       38232       ['time_distributed_9[0][0]']     \n",
      " )                                                                                                \n",
      "                                                                                                  \n",
      " lstm_7 (LSTM)                  (None, 3, 59)        1826640     ['time_distributed_11[0][0]']    \n",
      "                                                                                                  \n",
      " concatenate_3 (Concatenate)    (None, 6, 59)        0           ['bidirectional_3[0][0]',        \n",
      "                                                                  'lstm_7[0][0]']                 \n",
      "                                                                                                  \n",
      " seq_self_attention_3 (SeqSelfA  (None, 6, 59)       3841        ['concatenate_3[0][0]']          \n",
      " ttention)                                                                                        \n",
      "                                                                                                  \n",
      " flatten_11 (Flatten)           (None, 354)          0           ['seq_self_attention_3[0][0]']   \n",
      "                                                                                                  \n",
      " output (Dense)                 (None, 7)            2485        ['flatten_11[0][0]']             \n",
      "                                                                                                  \n",
      "==================================================================================================\n",
      "Total params: 1,872,798\n",
      "Trainable params: 1,872,798\n",
      "Non-trainable params: 0\n",
      "__________________________________________________________________________________________________\n"
     ]
    }
   ],
   "source": [
    "model15.summary()"
   ]
  },
  {
   "cell_type": "code",
   "execution_count": 43,
   "metadata": {},
   "outputs": [
    {
     "name": "stdout",
     "output_type": "stream",
     "text": [
      "Epoch 1/100\n",
      "778/778 [==============================] - 19s 18ms/step - loss: 25492.4102 - mean_absolute_error: 122.5349 - root_mean_squared_error: 159.6634 - mean_absolute_percentage_error: 43832940.0000 - val_loss: 7650.6680 - val_mean_absolute_error: 63.1869 - val_root_mean_squared_error: 87.4681 - val_mean_absolute_percentage_error: 2166431.5000\n",
      "Epoch 2/100\n",
      "778/778 [==============================] - 12s 15ms/step - loss: 3925.2004 - mean_absolute_error: 42.0844 - root_mean_squared_error: 62.6514 - mean_absolute_percentage_error: 44540888.0000 - val_loss: 1903.3727 - val_mean_absolute_error: 30.1185 - val_root_mean_squared_error: 43.6277 - val_mean_absolute_percentage_error: 2388920.2500\n",
      "Epoch 3/100\n",
      "778/778 [==============================] - 12s 15ms/step - loss: 1442.3690 - mean_absolute_error: 26.2606 - root_mean_squared_error: 37.9785 - mean_absolute_percentage_error: 46257360.0000 - val_loss: 1093.2871 - val_mean_absolute_error: 24.4215 - val_root_mean_squared_error: 33.0649 - val_mean_absolute_percentage_error: 2590703.2500\n",
      "Epoch 4/100\n",
      "778/778 [==============================] - 13s 16ms/step - loss: 945.4151 - mean_absolute_error: 21.9828 - root_mean_squared_error: 30.7476 - mean_absolute_percentage_error: 48642760.0000 - val_loss: 834.3242 - val_mean_absolute_error: 21.3555 - val_root_mean_squared_error: 28.8847 - val_mean_absolute_percentage_error: 2896455.2500\n",
      "Epoch 5/100\n",
      "778/778 [==============================] - 12s 16ms/step - loss: 809.7689 - mean_absolute_error: 20.6067 - root_mean_squared_error: 28.4564 - mean_absolute_percentage_error: 50930672.0000 - val_loss: 771.8690 - val_mean_absolute_error: 20.6858 - val_root_mean_squared_error: 27.7825 - val_mean_absolute_percentage_error: 3086144.7500\n",
      "Epoch 6/100\n",
      "778/778 [==============================] - 12s 15ms/step - loss: 759.6489 - mean_absolute_error: 20.0144 - root_mean_squared_error: 27.5617 - mean_absolute_percentage_error: 51724072.0000 - val_loss: 759.7145 - val_mean_absolute_error: 20.6217 - val_root_mean_squared_error: 27.5629 - val_mean_absolute_percentage_error: 3023095.7500\n",
      "Epoch 7/100\n",
      "778/778 [==============================] - 16s 21ms/step - loss: 737.2318 - mean_absolute_error: 19.7385 - root_mean_squared_error: 27.1520 - mean_absolute_percentage_error: 52822912.0000 - val_loss: 748.3165 - val_mean_absolute_error: 20.4804 - val_root_mean_squared_error: 27.3554 - val_mean_absolute_percentage_error: 3174155.2500\n",
      "Epoch 8/100\n",
      "778/778 [==============================] - 16s 21ms/step - loss: 718.2269 - mean_absolute_error: 19.5190 - root_mean_squared_error: 26.7997 - mean_absolute_percentage_error: 52288268.0000 - val_loss: 731.6196 - val_mean_absolute_error: 20.2511 - val_root_mean_squared_error: 27.0485 - val_mean_absolute_percentage_error: 3027271.0000\n",
      "Epoch 9/100\n",
      "778/778 [==============================] - 12s 16ms/step - loss: 704.0324 - mean_absolute_error: 19.3433 - root_mean_squared_error: 26.5336 - mean_absolute_percentage_error: 51394756.0000 - val_loss: 738.5672 - val_mean_absolute_error: 20.4064 - val_root_mean_squared_error: 27.1766 - val_mean_absolute_percentage_error: 3646914.2500\n",
      "Epoch 10/100\n",
      "778/778 [==============================] - 11s 15ms/step - loss: 686.6165 - mean_absolute_error: 19.1245 - root_mean_squared_error: 26.2034 - mean_absolute_percentage_error: 50430144.0000 - val_loss: 723.1619 - val_mean_absolute_error: 20.1370 - val_root_mean_squared_error: 26.8917 - val_mean_absolute_percentage_error: 3772571.2500\n",
      "Epoch 11/100\n",
      "778/778 [==============================] - 13s 17ms/step - loss: 669.9156 - mean_absolute_error: 18.8880 - root_mean_squared_error: 25.8827 - mean_absolute_percentage_error: 48522280.0000 - val_loss: 703.8326 - val_mean_absolute_error: 19.8480 - val_root_mean_squared_error: 26.5298 - val_mean_absolute_percentage_error: 3636526.2500\n",
      "Epoch 12/100\n",
      "778/778 [==============================] - 13s 17ms/step - loss: 652.2470 - mean_absolute_error: 18.6520 - root_mean_squared_error: 25.5391 - mean_absolute_percentage_error: 45591540.0000 - val_loss: 708.4751 - val_mean_absolute_error: 19.9442 - val_root_mean_squared_error: 26.6172 - val_mean_absolute_percentage_error: 3601764.7500\n",
      "Epoch 13/100\n",
      "778/778 [==============================] - 12s 15ms/step - loss: 633.8544 - mean_absolute_error: 18.4071 - root_mean_squared_error: 25.1765 - mean_absolute_percentage_error: 40013688.0000 - val_loss: 667.9673 - val_mean_absolute_error: 19.2541 - val_root_mean_squared_error: 25.8451 - val_mean_absolute_percentage_error: 3661783.7500\n",
      "Epoch 14/100\n",
      "778/778 [==============================] - 11s 15ms/step - loss: 627.4419 - mean_absolute_error: 18.3203 - root_mean_squared_error: 25.0488 - mean_absolute_percentage_error: 35752540.0000 - val_loss: 654.6357 - val_mean_absolute_error: 19.0359 - val_root_mean_squared_error: 25.5859 - val_mean_absolute_percentage_error: 3810057.7500\n",
      "Epoch 15/100\n",
      "778/778 [==============================] - 13s 17ms/step - loss: 615.9788 - mean_absolute_error: 18.1667 - root_mean_squared_error: 24.8189 - mean_absolute_percentage_error: 33634744.0000 - val_loss: 674.6995 - val_mean_absolute_error: 19.4306 - val_root_mean_squared_error: 25.9750 - val_mean_absolute_percentage_error: 3855465.0000\n",
      "Epoch 16/100\n",
      "778/778 [==============================] - 13s 16ms/step - loss: 610.1469 - mean_absolute_error: 18.0847 - root_mean_squared_error: 24.7012 - mean_absolute_percentage_error: 31514442.0000 - val_loss: 678.4062 - val_mean_absolute_error: 19.4427 - val_root_mean_squared_error: 26.0462 - val_mean_absolute_percentage_error: 4003200.0000\n",
      "Epoch 17/100\n",
      "778/778 [==============================] - 15s 19ms/step - loss: 603.9360 - mean_absolute_error: 18.0007 - root_mean_squared_error: 24.5751 - mean_absolute_percentage_error: 29383658.0000 - val_loss: 641.4108 - val_mean_absolute_error: 18.8300 - val_root_mean_squared_error: 25.3261 - val_mean_absolute_percentage_error: 3865241.7500\n",
      "Epoch 18/100\n",
      "778/778 [==============================] - 12s 16ms/step - loss: 598.5317 - mean_absolute_error: 17.9291 - root_mean_squared_error: 24.4649 - mean_absolute_percentage_error: 27734106.0000 - val_loss: 663.7448 - val_mean_absolute_error: 19.1238 - val_root_mean_squared_error: 25.7632 - val_mean_absolute_percentage_error: 3816759.5000\n",
      "Epoch 19/100\n",
      "778/778 [==============================] - 11s 14ms/step - loss: 592.9699 - mean_absolute_error: 17.8426 - root_mean_squared_error: 24.3510 - mean_absolute_percentage_error: 25494922.0000 - val_loss: 664.8968 - val_mean_absolute_error: 19.2745 - val_root_mean_squared_error: 25.7856 - val_mean_absolute_percentage_error: 4033510.2500\n",
      "Epoch 20/100\n",
      "778/778 [==============================] - 11s 14ms/step - loss: 587.6064 - mean_absolute_error: 17.7709 - root_mean_squared_error: 24.2406 - mean_absolute_percentage_error: 23934510.0000 - val_loss: 634.4864 - val_mean_absolute_error: 18.7346 - val_root_mean_squared_error: 25.1890 - val_mean_absolute_percentage_error: 3852912.2500\n",
      "Epoch 21/100\n",
      "778/778 [==============================] - 11s 14ms/step - loss: 588.5366 - mean_absolute_error: 17.7852 - root_mean_squared_error: 24.2598 - mean_absolute_percentage_error: 22772610.0000 - val_loss: 640.7823 - val_mean_absolute_error: 18.8320 - val_root_mean_squared_error: 25.3137 - val_mean_absolute_percentage_error: 3915982.7500\n",
      "Epoch 22/100\n",
      "778/778 [==============================] - 12s 15ms/step - loss: 581.7073 - mean_absolute_error: 17.6844 - root_mean_squared_error: 24.1186 - mean_absolute_percentage_error: 22112888.0000 - val_loss: 660.6134 - val_mean_absolute_error: 19.1896 - val_root_mean_squared_error: 25.7024 - val_mean_absolute_percentage_error: 3787740.5000\n",
      "Epoch 23/100\n",
      "778/778 [==============================] - 12s 15ms/step - loss: 576.3709 - mean_absolute_error: 17.6105 - root_mean_squared_error: 24.0077 - mean_absolute_percentage_error: 20286420.0000 - val_loss: 641.0891 - val_mean_absolute_error: 18.7759 - val_root_mean_squared_error: 25.3197 - val_mean_absolute_percentage_error: 3897181.5000\n",
      "Epoch 24/100\n",
      "778/778 [==============================] - 12s 15ms/step - loss: 574.8967 - mean_absolute_error: 17.6043 - root_mean_squared_error: 23.9770 - mean_absolute_percentage_error: 20725796.0000 - val_loss: 642.8111 - val_mean_absolute_error: 18.8079 - val_root_mean_squared_error: 25.3537 - val_mean_absolute_percentage_error: 3884188.7500\n"
     ]
    },
    {
     "name": "stdout",
     "output_type": "stream",
     "text": [
      "Epoch 25/100\n",
      "778/778 [==============================] - 12s 16ms/step - loss: 570.3112 - mean_absolute_error: 17.5298 - root_mean_squared_error: 23.8812 - mean_absolute_percentage_error: 19448586.0000 - val_loss: 641.3344 - val_mean_absolute_error: 18.8174 - val_root_mean_squared_error: 25.3246 - val_mean_absolute_percentage_error: 3765626.7500\n",
      "Epoch 26/100\n",
      "778/778 [==============================] - 12s 15ms/step - loss: 565.5137 - mean_absolute_error: 17.4586 - root_mean_squared_error: 23.7805 - mean_absolute_percentage_error: 17565758.0000 - val_loss: 632.9275 - val_mean_absolute_error: 18.6832 - val_root_mean_squared_error: 25.1581 - val_mean_absolute_percentage_error: 3674834.2500\n",
      "Epoch 27/100\n",
      "778/778 [==============================] - 12s 16ms/step - loss: 560.1010 - mean_absolute_error: 17.3822 - root_mean_squared_error: 23.6665 - mean_absolute_percentage_error: 16838576.0000 - val_loss: 628.0018 - val_mean_absolute_error: 18.6643 - val_root_mean_squared_error: 25.0600 - val_mean_absolute_percentage_error: 3790505.7500\n",
      "Epoch 28/100\n",
      "778/778 [==============================] - 13s 17ms/step - loss: 556.8336 - mean_absolute_error: 17.3380 - root_mean_squared_error: 23.5973 - mean_absolute_percentage_error: 16576903.0000 - val_loss: 625.0552 - val_mean_absolute_error: 18.6020 - val_root_mean_squared_error: 25.0011 - val_mean_absolute_percentage_error: 3496279.7500\n",
      "Epoch 29/100\n",
      "778/778 [==============================] - 12s 15ms/step - loss: 555.8750 - mean_absolute_error: 17.3210 - root_mean_squared_error: 23.5770 - mean_absolute_percentage_error: 16054220.0000 - val_loss: 632.0691 - val_mean_absolute_error: 18.6435 - val_root_mean_squared_error: 25.1410 - val_mean_absolute_percentage_error: 3709595.7500\n",
      "Epoch 30/100\n",
      "778/778 [==============================] - 12s 15ms/step - loss: 549.6467 - mean_absolute_error: 17.2266 - root_mean_squared_error: 23.4445 - mean_absolute_percentage_error: 14599468.0000 - val_loss: 619.6178 - val_mean_absolute_error: 18.5022 - val_root_mean_squared_error: 24.8921 - val_mean_absolute_percentage_error: 3842386.5000\n",
      "Epoch 31/100\n",
      "778/778 [==============================] - 12s 15ms/step - loss: 548.2815 - mean_absolute_error: 17.2283 - root_mean_squared_error: 23.4154 - mean_absolute_percentage_error: 14919497.0000 - val_loss: 635.2032 - val_mean_absolute_error: 18.7908 - val_root_mean_squared_error: 25.2032 - val_mean_absolute_percentage_error: 3736185.0000\n",
      "Epoch 32/100\n",
      "778/778 [==============================] - 12s 15ms/step - loss: 542.3929 - mean_absolute_error: 17.1219 - root_mean_squared_error: 23.2893 - mean_absolute_percentage_error: 14021092.0000 - val_loss: 613.3499 - val_mean_absolute_error: 18.4219 - val_root_mean_squared_error: 24.7659 - val_mean_absolute_percentage_error: 3837908.7500\n",
      "Epoch 33/100\n",
      "778/778 [==============================] - 12s 15ms/step - loss: 541.6127 - mean_absolute_error: 17.1141 - root_mean_squared_error: 23.2726 - mean_absolute_percentage_error: 12720029.0000 - val_loss: 635.8345 - val_mean_absolute_error: 18.7740 - val_root_mean_squared_error: 25.2158 - val_mean_absolute_percentage_error: 3831270.2500\n",
      "Epoch 34/100\n",
      "778/778 [==============================] - 11s 15ms/step - loss: 537.8058 - mean_absolute_error: 17.0558 - root_mean_squared_error: 23.1906 - mean_absolute_percentage_error: 13293624.0000 - val_loss: 623.0856 - val_mean_absolute_error: 18.5913 - val_root_mean_squared_error: 24.9617 - val_mean_absolute_percentage_error: 3551545.2500\n",
      "Epoch 35/100\n",
      "778/778 [==============================] - 12s 15ms/step - loss: 535.4188 - mean_absolute_error: 17.0210 - root_mean_squared_error: 23.1391 - mean_absolute_percentage_error: 12709113.0000 - val_loss: 618.3530 - val_mean_absolute_error: 18.5009 - val_root_mean_squared_error: 24.8667 - val_mean_absolute_percentage_error: 3732241.7500\n",
      "Epoch 36/100\n",
      "778/778 [==============================] - 12s 16ms/step - loss: 532.2462 - mean_absolute_error: 16.9920 - root_mean_squared_error: 23.0705 - mean_absolute_percentage_error: 13387915.0000 - val_loss: 620.7337 - val_mean_absolute_error: 18.5058 - val_root_mean_squared_error: 24.9145 - val_mean_absolute_percentage_error: 3667312.2500\n",
      "Epoch 37/100\n",
      "778/778 [==============================] - 11s 15ms/step - loss: 528.3689 - mean_absolute_error: 16.9270 - root_mean_squared_error: 22.9863 - mean_absolute_percentage_error: 12159197.0000 - val_loss: 620.2297 - val_mean_absolute_error: 18.5376 - val_root_mean_squared_error: 24.9044 - val_mean_absolute_percentage_error: 3700207.2500\n",
      "Epoch 38/100\n",
      "778/778 [==============================] - 11s 14ms/step - loss: 527.5016 - mean_absolute_error: 16.9158 - root_mean_squared_error: 22.9674 - mean_absolute_percentage_error: 12504768.0000 - val_loss: 626.2621 - val_mean_absolute_error: 18.6508 - val_root_mean_squared_error: 25.0252 - val_mean_absolute_percentage_error: 3668566.5000\n",
      "Epoch 39/100\n",
      "778/778 [==============================] - 11s 14ms/step - loss: 525.7457 - mean_absolute_error: 16.8929 - root_mean_squared_error: 22.9291 - mean_absolute_percentage_error: 11827543.0000 - val_loss: 641.2449 - val_mean_absolute_error: 18.9424 - val_root_mean_squared_error: 25.3228 - val_mean_absolute_percentage_error: 3456391.2500\n",
      "Epoch 40/100\n",
      "778/778 [==============================] - 11s 15ms/step - loss: 522.5804 - mean_absolute_error: 16.8341 - root_mean_squared_error: 22.8600 - mean_absolute_percentage_error: 11004144.0000 - val_loss: 623.6996 - val_mean_absolute_error: 18.5813 - val_root_mean_squared_error: 24.9740 - val_mean_absolute_percentage_error: 3555958.7500\n",
      "Epoch 41/100\n",
      "778/778 [==============================] - 12s 15ms/step - loss: 518.9612 - mean_absolute_error: 16.7847 - root_mean_squared_error: 22.7807 - mean_absolute_percentage_error: 11482373.0000 - val_loss: 623.7231 - val_mean_absolute_error: 18.5617 - val_root_mean_squared_error: 24.9745 - val_mean_absolute_percentage_error: 3740190.5000\n",
      "Epoch 42/100\n",
      "778/778 [==============================] - 11s 14ms/step - loss: 516.7300 - mean_absolute_error: 16.7474 - root_mean_squared_error: 22.7317 - mean_absolute_percentage_error: 10973129.0000 - val_loss: 624.8607 - val_mean_absolute_error: 18.6436 - val_root_mean_squared_error: 24.9972 - val_mean_absolute_percentage_error: 3916508.5000\n",
      "Epoch 43/100\n",
      "778/778 [==============================] - 12s 15ms/step - loss: 513.7780 - mean_absolute_error: 16.7015 - root_mean_squared_error: 22.6667 - mean_absolute_percentage_error: 10926047.0000 - val_loss: 619.9532 - val_mean_absolute_error: 18.5444 - val_root_mean_squared_error: 24.8989 - val_mean_absolute_percentage_error: 3708862.2500\n",
      "Epoch 44/100\n",
      "778/778 [==============================] - 12s 16ms/step - loss: 510.7277 - mean_absolute_error: 16.6561 - root_mean_squared_error: 22.5993 - mean_absolute_percentage_error: 10741619.0000 - val_loss: 650.1778 - val_mean_absolute_error: 18.9722 - val_root_mean_squared_error: 25.4986 - val_mean_absolute_percentage_error: 3784216.0000\n",
      "Epoch 45/100\n",
      "778/778 [==============================] - 12s 15ms/step - loss: 508.1104 - mean_absolute_error: 16.6110 - root_mean_squared_error: 22.5413 - mean_absolute_percentage_error: 10669747.0000 - val_loss: 615.5519 - val_mean_absolute_error: 18.5006 - val_root_mean_squared_error: 24.8103 - val_mean_absolute_percentage_error: 3550946.5000\n",
      "Epoch 46/100\n",
      "778/778 [==============================] - 11s 14ms/step - loss: 507.1609 - mean_absolute_error: 16.6011 - root_mean_squared_error: 22.5202 - mean_absolute_percentage_error: 9990223.0000 - val_loss: 618.3218 - val_mean_absolute_error: 18.5214 - val_root_mean_squared_error: 24.8661 - val_mean_absolute_percentage_error: 3713036.5000\n",
      "Epoch 47/100\n",
      "778/778 [==============================] - 11s 15ms/step - loss: 506.0431 - mean_absolute_error: 16.5899 - root_mean_squared_error: 22.4954 - mean_absolute_percentage_error: 10741288.0000 - val_loss: 630.3228 - val_mean_absolute_error: 18.6887 - val_root_mean_squared_error: 25.1062 - val_mean_absolute_percentage_error: 3535295.0000\n",
      "Epoch 48/100\n",
      "778/778 [==============================] - 11s 14ms/step - loss: 501.5610 - mean_absolute_error: 16.5021 - root_mean_squared_error: 22.3956 - mean_absolute_percentage_error: 10496724.0000 - val_loss: 621.6638 - val_mean_absolute_error: 18.5379 - val_root_mean_squared_error: 24.9332 - val_mean_absolute_percentage_error: 3816243.2500\n"
     ]
    },
    {
     "name": "stdout",
     "output_type": "stream",
     "text": [
      "Epoch 49/100\n",
      "778/778 [==============================] - 12s 15ms/step - loss: 499.5623 - mean_absolute_error: 16.4835 - root_mean_squared_error: 22.3509 - mean_absolute_percentage_error: 10451490.0000 - val_loss: 623.5433 - val_mean_absolute_error: 18.5978 - val_root_mean_squared_error: 24.9708 - val_mean_absolute_percentage_error: 3819650.5000\n",
      "Epoch 50/100\n",
      "778/778 [==============================] - 11s 14ms/step - loss: 496.5422 - mean_absolute_error: 16.4301 - root_mean_squared_error: 22.2832 - mean_absolute_percentage_error: 10950340.0000 - val_loss: 621.4639 - val_mean_absolute_error: 18.5912 - val_root_mean_squared_error: 24.9292 - val_mean_absolute_percentage_error: 3558565.0000\n",
      "Epoch 51/100\n",
      "778/778 [==============================] - 11s 15ms/step - loss: 495.2963 - mean_absolute_error: 16.4176 - root_mean_squared_error: 22.2552 - mean_absolute_percentage_error: 10204069.0000 - val_loss: 627.7122 - val_mean_absolute_error: 18.6807 - val_root_mean_squared_error: 25.0542 - val_mean_absolute_percentage_error: 3599784.0000\n",
      "Epoch 52/100\n",
      "778/778 [==============================] - 11s 15ms/step - loss: 493.3914 - mean_absolute_error: 16.3832 - root_mean_squared_error: 22.2124 - mean_absolute_percentage_error: 10275367.0000 - val_loss: 621.4383 - val_mean_absolute_error: 18.5670 - val_root_mean_squared_error: 24.9287 - val_mean_absolute_percentage_error: 3628016.5000\n",
      "Epoch 53/100\n",
      "778/778 [==============================] - 11s 14ms/step - loss: 492.3937 - mean_absolute_error: 16.3660 - root_mean_squared_error: 22.1899 - mean_absolute_percentage_error: 10531112.0000 - val_loss: 629.0215 - val_mean_absolute_error: 18.6930 - val_root_mean_squared_error: 25.0803 - val_mean_absolute_percentage_error: 3589347.0000\n",
      "Epoch 54/100\n",
      "778/778 [==============================] - 13s 16ms/step - loss: 488.8964 - mean_absolute_error: 16.3135 - root_mean_squared_error: 22.1110 - mean_absolute_percentage_error: 10449842.0000 - val_loss: 626.1321 - val_mean_absolute_error: 18.6599 - val_root_mean_squared_error: 25.0226 - val_mean_absolute_percentage_error: 3762827.2500\n",
      "Epoch 55/100\n",
      "778/778 [==============================] - 13s 17ms/step - loss: 486.5802 - mean_absolute_error: 16.2744 - root_mean_squared_error: 22.0586 - mean_absolute_percentage_error: 10316447.0000 - val_loss: 622.8168 - val_mean_absolute_error: 18.6117 - val_root_mean_squared_error: 24.9563 - val_mean_absolute_percentage_error: 3653384.0000\n",
      "Epoch 56/100\n",
      "778/778 [==============================] - 12s 15ms/step - loss: 483.0175 - mean_absolute_error: 16.2176 - root_mean_squared_error: 21.9777 - mean_absolute_percentage_error: 10026083.0000 - val_loss: 624.7746 - val_mean_absolute_error: 18.6393 - val_root_mean_squared_error: 24.9955 - val_mean_absolute_percentage_error: 3704958.7500\n",
      "Epoch 57/100\n",
      "778/778 [==============================] - 12s 16ms/step - loss: 479.6005 - mean_absolute_error: 16.1689 - root_mean_squared_error: 21.8998 - mean_absolute_percentage_error: 10597066.0000 - val_loss: 629.2853 - val_mean_absolute_error: 18.7186 - val_root_mean_squared_error: 25.0856 - val_mean_absolute_percentage_error: 3641024.7500\n",
      "Epoch 58/100\n",
      "778/778 [==============================] - 11s 15ms/step - loss: 477.8895 - mean_absolute_error: 16.1361 - root_mean_squared_error: 21.8607 - mean_absolute_percentage_error: 10501933.0000 - val_loss: 638.0084 - val_mean_absolute_error: 18.8297 - val_root_mean_squared_error: 25.2588 - val_mean_absolute_percentage_error: 3752098.5000\n",
      "Epoch 59/100\n",
      "778/778 [==============================] - 11s 15ms/step - loss: 476.0352 - mean_absolute_error: 16.1032 - root_mean_squared_error: 21.8182 - mean_absolute_percentage_error: 10187812.0000 - val_loss: 631.3426 - val_mean_absolute_error: 18.7270 - val_root_mean_squared_error: 25.1265 - val_mean_absolute_percentage_error: 3699980.0000\n",
      "Epoch 60/100\n",
      "778/778 [==============================] - 11s 15ms/step - loss: 473.5694 - mean_absolute_error: 16.0706 - root_mean_squared_error: 21.7617 - mean_absolute_percentage_error: 9980761.0000 - val_loss: 639.8254 - val_mean_absolute_error: 18.8709 - val_root_mean_squared_error: 25.2948 - val_mean_absolute_percentage_error: 3851555.5000\n",
      "Epoch 61/100\n",
      "778/778 [==============================] - 11s 15ms/step - loss: 471.5456 - mean_absolute_error: 16.0284 - root_mean_squared_error: 21.7151 - mean_absolute_percentage_error: 10228400.0000 - val_loss: 644.7775 - val_mean_absolute_error: 18.9350 - val_root_mean_squared_error: 25.3925 - val_mean_absolute_percentage_error: 3743910.0000\n",
      "Epoch 62/100\n",
      "778/778 [==============================] - 11s 15ms/step - loss: 468.9530 - mean_absolute_error: 15.9883 - root_mean_squared_error: 21.6553 - mean_absolute_percentage_error: 10168082.0000 - val_loss: 640.2952 - val_mean_absolute_error: 18.8702 - val_root_mean_squared_error: 25.3041 - val_mean_absolute_percentage_error: 3699958.2500\n",
      "Epoch 63/100\n",
      "778/778 [==============================] - 12s 15ms/step - loss: 465.1393 - mean_absolute_error: 15.9238 - root_mean_squared_error: 21.5671 - mean_absolute_percentage_error: 10027576.0000 - val_loss: 636.1721 - val_mean_absolute_error: 18.8150 - val_root_mean_squared_error: 25.2224 - val_mean_absolute_percentage_error: 3721578.7500\n",
      "Epoch 64/100\n",
      "778/778 [==============================] - 11s 15ms/step - loss: 463.3478 - mean_absolute_error: 15.8997 - root_mean_squared_error: 21.5255 - mean_absolute_percentage_error: 9613960.0000 - val_loss: 642.9814 - val_mean_absolute_error: 18.9187 - val_root_mean_squared_error: 25.3571 - val_mean_absolute_percentage_error: 3793532.2500\n",
      "Epoch 65/100\n",
      "778/778 [==============================] - 12s 15ms/step - loss: 460.9048 - mean_absolute_error: 15.8522 - root_mean_squared_error: 21.4687 - mean_absolute_percentage_error: 9887506.0000 - val_loss: 642.1578 - val_mean_absolute_error: 18.9090 - val_root_mean_squared_error: 25.3408 - val_mean_absolute_percentage_error: 3735460.5000\n",
      "Epoch 66/100\n",
      "778/778 [==============================] - 13s 16ms/step - loss: 458.9254 - mean_absolute_error: 15.8129 - root_mean_squared_error: 21.4226 - mean_absolute_percentage_error: 10192893.0000 - val_loss: 649.7584 - val_mean_absolute_error: 19.0150 - val_root_mean_squared_error: 25.4904 - val_mean_absolute_percentage_error: 3634572.5000\n",
      "Epoch 67/100\n",
      "778/778 [==============================] - 12s 15ms/step - loss: 455.8663 - mean_absolute_error: 15.7622 - root_mean_squared_error: 21.3510 - mean_absolute_percentage_error: 10148888.0000 - val_loss: 635.1599 - val_mean_absolute_error: 18.8118 - val_root_mean_squared_error: 25.2024 - val_mean_absolute_percentage_error: 3791175.7500\n",
      "Epoch 68/100\n",
      "778/778 [==============================] - 12s 15ms/step - loss: 451.9925 - mean_absolute_error: 15.6920 - root_mean_squared_error: 21.2601 - mean_absolute_percentage_error: 9895489.0000 - val_loss: 639.7047 - val_mean_absolute_error: 18.8597 - val_root_mean_squared_error: 25.2924 - val_mean_absolute_percentage_error: 3919416.5000\n",
      "Epoch 69/100\n",
      "778/778 [==============================] - 13s 17ms/step - loss: 450.3484 - mean_absolute_error: 15.6772 - root_mean_squared_error: 21.2214 - mean_absolute_percentage_error: 9770799.0000 - val_loss: 643.5230 - val_mean_absolute_error: 18.9272 - val_root_mean_squared_error: 25.3678 - val_mean_absolute_percentage_error: 3775335.7500\n",
      "Epoch 70/100\n",
      "778/778 [==============================] - 16s 20ms/step - loss: 448.3324 - mean_absolute_error: 15.6340 - root_mean_squared_error: 21.1739 - mean_absolute_percentage_error: 10143984.0000 - val_loss: 638.7349 - val_mean_absolute_error: 18.8568 - val_root_mean_squared_error: 25.2732 - val_mean_absolute_percentage_error: 3715382.2500\n",
      "Epoch 71/100\n",
      "778/778 [==============================] - 12s 15ms/step - loss: 446.2129 - mean_absolute_error: 15.5892 - root_mean_squared_error: 21.1237 - mean_absolute_percentage_error: 9833576.0000 - val_loss: 644.7779 - val_mean_absolute_error: 18.9736 - val_root_mean_squared_error: 25.3925 - val_mean_absolute_percentage_error: 3696480.2500\n",
      "Epoch 72/100\n",
      "778/778 [==============================] - 11s 15ms/step - loss: 442.5610 - mean_absolute_error: 15.5378 - root_mean_squared_error: 21.0371 - mean_absolute_percentage_error: 9221253.0000 - val_loss: 647.8399 - val_mean_absolute_error: 19.0093 - val_root_mean_squared_error: 25.4527 - val_mean_absolute_percentage_error: 3800538.0000\n"
     ]
    },
    {
     "name": "stdout",
     "output_type": "stream",
     "text": [
      "Epoch 73/100\n",
      "778/778 [==============================] - 11s 15ms/step - loss: 439.4274 - mean_absolute_error: 15.4779 - root_mean_squared_error: 20.9625 - mean_absolute_percentage_error: 9764264.0000 - val_loss: 651.9435 - val_mean_absolute_error: 19.0682 - val_root_mean_squared_error: 25.5332 - val_mean_absolute_percentage_error: 3768644.0000\n",
      "Epoch 74/100\n",
      "778/778 [==============================] - 11s 14ms/step - loss: 437.6882 - mean_absolute_error: 15.4624 - root_mean_squared_error: 20.9210 - mean_absolute_percentage_error: 9729100.0000 - val_loss: 658.3154 - val_mean_absolute_error: 19.1702 - val_root_mean_squared_error: 25.6577 - val_mean_absolute_percentage_error: 3786155.2500\n",
      "Epoch 75/100\n",
      "778/778 [==============================] - 11s 14ms/step - loss: 437.8334 - mean_absolute_error: 15.4595 - root_mean_squared_error: 20.9245 - mean_absolute_percentage_error: 9140093.0000 - val_loss: 647.4419 - val_mean_absolute_error: 18.9964 - val_root_mean_squared_error: 25.4449 - val_mean_absolute_percentage_error: 3943255.0000\n",
      "Epoch 76/100\n",
      "778/778 [==============================] - 11s 14ms/step - loss: 432.1132 - mean_absolute_error: 15.3566 - root_mean_squared_error: 20.7873 - mean_absolute_percentage_error: 9351716.0000 - val_loss: 655.5801 - val_mean_absolute_error: 19.1532 - val_root_mean_squared_error: 25.6043 - val_mean_absolute_percentage_error: 3764347.2500\n",
      "Epoch 77/100\n",
      "778/778 [==============================] - 12s 15ms/step - loss: 430.7722 - mean_absolute_error: 15.3210 - root_mean_squared_error: 20.7551 - mean_absolute_percentage_error: 9358278.0000 - val_loss: 649.6705 - val_mean_absolute_error: 19.0383 - val_root_mean_squared_error: 25.4886 - val_mean_absolute_percentage_error: 3747540.0000\n",
      "Epoch 78/100\n",
      "778/778 [==============================] - 12s 15ms/step - loss: 427.2629 - mean_absolute_error: 15.2633 - root_mean_squared_error: 20.6703 - mean_absolute_percentage_error: 9701247.0000 - val_loss: 658.5579 - val_mean_absolute_error: 19.1741 - val_root_mean_squared_error: 25.6624 - val_mean_absolute_percentage_error: 3820529.5000\n",
      "Epoch 79/100\n",
      "778/778 [==============================] - 11s 15ms/step - loss: 424.3138 - mean_absolute_error: 15.2065 - root_mean_squared_error: 20.5989 - mean_absolute_percentage_error: 10288911.0000 - val_loss: 654.6166 - val_mean_absolute_error: 19.1281 - val_root_mean_squared_error: 25.5855 - val_mean_absolute_percentage_error: 3896202.5000\n",
      "Epoch 80/100\n",
      "778/778 [==============================] - 11s 15ms/step - loss: 421.9439 - mean_absolute_error: 15.1746 - root_mean_squared_error: 20.5413 - mean_absolute_percentage_error: 9254045.0000 - val_loss: 667.3098 - val_mean_absolute_error: 19.3154 - val_root_mean_squared_error: 25.8323 - val_mean_absolute_percentage_error: 3812192.5000\n",
      "Epoch 81/100\n",
      "778/778 [==============================] - 11s 14ms/step - loss: 419.2668 - mean_absolute_error: 15.1282 - root_mean_squared_error: 20.4760 - mean_absolute_percentage_error: 9212292.0000 - val_loss: 658.2642 - val_mean_absolute_error: 19.1729 - val_root_mean_squared_error: 25.6567 - val_mean_absolute_percentage_error: 3770143.7500\n",
      "Epoch 82/100\n",
      "778/778 [==============================] - 11s 14ms/step - loss: 417.8145 - mean_absolute_error: 15.0894 - root_mean_squared_error: 20.4405 - mean_absolute_percentage_error: 9441424.0000 - val_loss: 658.3859 - val_mean_absolute_error: 19.1513 - val_root_mean_squared_error: 25.6590 - val_mean_absolute_percentage_error: 3804791.5000\n",
      "Epoch 83/100\n",
      "778/778 [==============================] - 11s 14ms/step - loss: 414.0811 - mean_absolute_error: 15.0350 - root_mean_squared_error: 20.3490 - mean_absolute_percentage_error: 9310430.0000 - val_loss: 672.9175 - val_mean_absolute_error: 19.3425 - val_root_mean_squared_error: 25.9407 - val_mean_absolute_percentage_error: 3915437.5000\n",
      "Epoch 84/100\n",
      "778/778 [==============================] - 11s 14ms/step - loss: 411.5844 - mean_absolute_error: 15.0004 - root_mean_squared_error: 20.2875 - mean_absolute_percentage_error: 9643305.0000 - val_loss: 664.1557 - val_mean_absolute_error: 19.2517 - val_root_mean_squared_error: 25.7712 - val_mean_absolute_percentage_error: 3783026.5000\n",
      "Epoch 85/100\n",
      "778/778 [==============================] - 11s 15ms/step - loss: 411.5869 - mean_absolute_error: 14.9885 - root_mean_squared_error: 20.2876 - mean_absolute_percentage_error: 9915971.0000 - val_loss: 671.3625 - val_mean_absolute_error: 19.3837 - val_root_mean_squared_error: 25.9107 - val_mean_absolute_percentage_error: 3824390.2500\n",
      "Epoch 86/100\n",
      "778/778 [==============================] - 11s 14ms/step - loss: 406.8019 - mean_absolute_error: 14.8940 - root_mean_squared_error: 20.1693 - mean_absolute_percentage_error: 9225049.0000 - val_loss: 656.2653 - val_mean_absolute_error: 19.1279 - val_root_mean_squared_error: 25.6177 - val_mean_absolute_percentage_error: 3910448.2500\n",
      "Epoch 87/100\n",
      "778/778 [==============================] - 11s 14ms/step - loss: 406.2130 - mean_absolute_error: 14.8891 - root_mean_squared_error: 20.1547 - mean_absolute_percentage_error: 9540836.0000 - val_loss: 661.0262 - val_mean_absolute_error: 19.2058 - val_root_mean_squared_error: 25.7104 - val_mean_absolute_percentage_error: 3884551.7500\n",
      "Epoch 88/100\n",
      "778/778 [==============================] - 11s 15ms/step - loss: 403.1806 - mean_absolute_error: 14.8381 - root_mean_squared_error: 20.0794 - mean_absolute_percentage_error: 9483316.0000 - val_loss: 661.9645 - val_mean_absolute_error: 19.2380 - val_root_mean_squared_error: 25.7287 - val_mean_absolute_percentage_error: 3888472.5000\n",
      "Epoch 89/100\n",
      "778/778 [==============================] - 11s 15ms/step - loss: 400.9571 - mean_absolute_error: 14.7892 - root_mean_squared_error: 20.0239 - mean_absolute_percentage_error: 9823041.0000 - val_loss: 674.8298 - val_mean_absolute_error: 19.4287 - val_root_mean_squared_error: 25.9775 - val_mean_absolute_percentage_error: 3919132.2500\n",
      "Epoch 90/100\n",
      "778/778 [==============================] - 11s 14ms/step - loss: 398.8129 - mean_absolute_error: 14.7611 - root_mean_squared_error: 19.9703 - mean_absolute_percentage_error: 9261525.0000 - val_loss: 682.6848 - val_mean_absolute_error: 19.5888 - val_root_mean_squared_error: 26.1282 - val_mean_absolute_percentage_error: 3975587.2500\n",
      "Epoch 91/100\n",
      "778/778 [==============================] - 11s 14ms/step - loss: 395.5003 - mean_absolute_error: 14.7093 - root_mean_squared_error: 19.8872 - mean_absolute_percentage_error: 9460488.0000 - val_loss: 684.6168 - val_mean_absolute_error: 19.5420 - val_root_mean_squared_error: 26.1652 - val_mean_absolute_percentage_error: 3741010.0000\n",
      "Epoch 92/100\n",
      "778/778 [==============================] - 11s 15ms/step - loss: 393.6451 - mean_absolute_error: 14.6613 - root_mean_squared_error: 19.8405 - mean_absolute_percentage_error: 9579708.0000 - val_loss: 674.7383 - val_mean_absolute_error: 19.4241 - val_root_mean_squared_error: 25.9757 - val_mean_absolute_percentage_error: 3735811.0000\n",
      "Epoch 93/100\n",
      "778/778 [==============================] - 12s 15ms/step - loss: 391.6365 - mean_absolute_error: 14.6295 - root_mean_squared_error: 19.7898 - mean_absolute_percentage_error: 9297933.0000 - val_loss: 674.3051 - val_mean_absolute_error: 19.4192 - val_root_mean_squared_error: 25.9674 - val_mean_absolute_percentage_error: 3669554.5000\n",
      "Epoch 94/100\n",
      "778/778 [==============================] - 12s 15ms/step - loss: 389.8313 - mean_absolute_error: 14.6038 - root_mean_squared_error: 19.7441 - mean_absolute_percentage_error: 9181195.0000 - val_loss: 678.5615 - val_mean_absolute_error: 19.4208 - val_root_mean_squared_error: 26.0492 - val_mean_absolute_percentage_error: 3898189.5000\n",
      "Epoch 95/100\n",
      "778/778 [==============================] - 12s 15ms/step - loss: 385.3596 - mean_absolute_error: 14.5095 - root_mean_squared_error: 19.6306 - mean_absolute_percentage_error: 9794009.0000 - val_loss: 677.9385 - val_mean_absolute_error: 19.4736 - val_root_mean_squared_error: 26.0372 - val_mean_absolute_percentage_error: 3836427.7500\n",
      "Epoch 96/100\n",
      "778/778 [==============================] - 11s 15ms/step - loss: 383.3000 - mean_absolute_error: 14.4712 - root_mean_squared_error: 19.5781 - mean_absolute_percentage_error: 10108074.0000 - val_loss: 682.8724 - val_mean_absolute_error: 19.5202 - val_root_mean_squared_error: 26.1318 - val_mean_absolute_percentage_error: 3960245.0000\n"
     ]
    },
    {
     "name": "stdout",
     "output_type": "stream",
     "text": [
      "Epoch 97/100\n",
      "778/778 [==============================] - 12s 15ms/step - loss: 382.3268 - mean_absolute_error: 14.4687 - root_mean_squared_error: 19.5532 - mean_absolute_percentage_error: 9822930.0000 - val_loss: 672.8907 - val_mean_absolute_error: 19.3712 - val_root_mean_squared_error: 25.9401 - val_mean_absolute_percentage_error: 3828658.5000\n",
      "Epoch 98/100\n",
      "778/778 [==============================] - 11s 15ms/step - loss: 379.0145 - mean_absolute_error: 14.3984 - root_mean_squared_error: 19.4683 - mean_absolute_percentage_error: 9435631.0000 - val_loss: 679.5096 - val_mean_absolute_error: 19.5011 - val_root_mean_squared_error: 26.0674 - val_mean_absolute_percentage_error: 4054873.2500\n",
      "Epoch 99/100\n",
      "778/778 [==============================] - 12s 16ms/step - loss: 377.6629 - mean_absolute_error: 14.3857 - root_mean_squared_error: 19.4336 - mean_absolute_percentage_error: 9765903.0000 - val_loss: 685.8148 - val_mean_absolute_error: 19.6096 - val_root_mean_squared_error: 26.1881 - val_mean_absolute_percentage_error: 3922192.0000\n",
      "Epoch 100/100\n",
      "778/778 [==============================] - 12s 15ms/step - loss: 374.3173 - mean_absolute_error: 14.3145 - root_mean_squared_error: 19.3473 - mean_absolute_percentage_error: 9884859.0000 - val_loss: 670.7242 - val_mean_absolute_error: 19.3808 - val_root_mean_squared_error: 25.8983 - val_mean_absolute_percentage_error: 3885683.5000\n"
     ]
    },
    {
     "data": {
      "text/plain": [
       "<keras.callbacks.History at 0x21766cebf40>"
      ]
     },
     "execution_count": 43,
     "metadata": {},
     "output_type": "execute_result"
    }
   ],
   "source": [
    "model15.fit((Wt15,Xt15), yt15, validation_split = val_percent,\n",
    "            epochs = 100, \n",
    "            verbose = 1)"
   ]
  },
  {
   "cell_type": "code",
   "execution_count": 44,
   "metadata": {},
   "outputs": [],
   "source": [
    "metrics15 = pd.DataFrame(model15.history.history)"
   ]
  },
  {
   "cell_type": "code",
   "execution_count": 147,
   "metadata": {},
   "outputs": [
    {
     "data": {
      "image/png": "[encoded data removed]",
      "text/plain": [
       "<Figure size 432x288 with 2 Axes>"
      ]
     },
     "metadata": {
      "needs_background": "light"
     },
     "output_type": "display_data"
    }
   ],
   "source": [
    "fig = plt.figure(figsize=(6,4))\n",
    "\n",
    "# Add set of axes to figure\n",
    "axes = fig.add_axes([0, 0, 1, 1]) \n",
    "axes2 = fig.add_axes([0.3, 0.35, 0.5, 0.5]) # Smaller figure\n",
    "axes.plot(metrics15[['loss','val_loss']], label=['train_loss','val_loss'], lw=4)\n",
    "axes.set_ylim(0,4000)\n",
    "\n",
    "axes2.plot(metrics15[['loss','val_loss']], lw=4)\n",
    "axes2.set_xlim(0,20)\n",
    "axes2.set_ylim(500,1500)\n",
    "#plt.xticks(visible=False)\n",
    "plt.yticks(visible=False)\n",
    "\n",
    "axes.set_xlabel('Epoch')\n",
    "axes.set_ylabel('Loss')\n",
    "axes.grid()\n",
    "axes2.grid()\n",
    "\n",
    "mark_inset(axes, axes2, loc1=2, loc2=4, fc=\"0.9\", ec=\"0.1\", ls='--')\n",
    "axes.yaxis.set_major_formatter(formatter)"
   ]
  },
  {
   "cell_type": "code",
   "execution_count": null,
   "metadata": {},
   "outputs": [],
   "source": [
    "model15.save(\"my_dir/8a-15\")"
   ]
  },
  {
   "cell_type": "code",
   "execution_count": 38,
   "metadata": {},
   "outputs": [],
   "source": [
    "model15 = keras.models.load_model(\"my_dir/8a-15\", custom_objects=SeqSelfAttention.get_custom_objects())"
   ]
  },
  {
   "cell_type": "code",
   "execution_count": 41,
   "metadata": {},
   "outputs": [],
   "source": [
    "scaler_filename = \"Best_HP/8a-15\"\n",
    "best_hp15 = joblib.load(scaler_filename)"
   ]
  },
  {
   "cell_type": "code",
   "execution_count": 44,
   "metadata": {},
   "outputs": [
    {
     "data": {
      "text/plain": [
       "{'units': 59, 'filters': 320, 'kernel_size': 2, 'learning_rate': 0.001}"
      ]
     },
     "execution_count": 44,
     "metadata": {},
     "output_type": "execute_result"
    }
   ],
   "source": [
    "best_hp15.values"
   ]
  },
  {
   "cell_type": "code",
   "execution_count": 42,
   "metadata": {},
   "outputs": [
    {
     "data": {
      "text/plain": [
       "(59, 32)"
      ]
     },
     "execution_count": 42,
     "metadata": {},
     "output_type": "execute_result"
    }
   ],
   "source": [
    "model15.layers[8].get_weights()[0].shape"
   ]
  },
  {
   "cell_type": "code",
   "execution_count": 83,
   "metadata": {},
   "outputs": [
    {
     "data": {
      "image/png": "[encoded data removed]",
      "text/plain": [
       "<Figure size 3600x1200 with 1 Axes>"
      ]
     },
     "metadata": {},
     "output_type": "display_data"
    }
   ],
   "source": [
    "att15_weights = model15.layers[8].get_weights()[0]\n",
    "\n",
    "plt.figure(figsize=(12,4), dpi=300)\n",
    "\n",
    "hmap = sns.heatmap(att15_weights,\n",
    "            xticklabels=False,\n",
    "            yticklabels=False,\n",
    "            cbar=False,\n",
    "            #cbar_kws={'fraction' : 0.01}, # shrink colour bar\n",
    "            cmap='viridis',\n",
    "            robust=True,\n",
    "            square=True,\n",
    "            )\n",
    "plt.axhline(y=30, color='red', linestyle='--')\n",
    "\n",
    "plt.tight_layout()\n",
    "plt.show()"
   ]
  },
  {
   "cell_type": "code",
   "execution_count": 43,
   "metadata": {},
   "outputs": [
    {
     "data": {
      "text/plain": [
       "array([[ 61.233547,  65.03271 ,  70.812195, ...,  69.483505,  44.72527 ,\n",
       "         47.613136],\n",
       "       [ 58.50959 ,  61.455166,  66.414116, ...,  63.012486,  42.032063,\n",
       "         42.75905 ],\n",
       "       [ 59.33823 ,  62.8003  ,  67.6639  , ...,  64.04137 ,  41.743355,\n",
       "         42.25818 ],\n",
       "       ...,\n",
       "       [141.46136 , 142.4226  , 154.08115 , ..., 158.07556 , 104.77337 ,\n",
       "         93.449814],\n",
       "       [136.52338 , 145.02216 , 156.93636 , ..., 159.97942 , 106.66766 ,\n",
       "         87.12105 ],\n",
       "       [118.28582 , 128.00305 , 131.39111 , ..., 128.71664 ,  96.54588 ,\n",
       "         83.05749 ]], dtype=float32)"
      ]
     },
     "execution_count": 43,
     "metadata": {},
     "output_type": "execute_result"
    }
   ],
   "source": [
    "model15.predict((Wv15,Xv15))"
   ]
  },
  {
   "cell_type": "markdown",
   "metadata": {},
   "source": [
    "### Evaluation on inverse_transform"
   ]
  },
  {
   "cell_type": "code",
   "execution_count": null,
   "metadata": {},
   "outputs": [],
   "source": [
    "test_predictions15 = model15.predict((Wv15,Xv15))\n",
    "\n",
    "\n",
    "MSE15 = mean_squared_error(yv15,test_predictions15)\n",
    "\n",
    "MAE15 = mean_absolute_error(yv15,test_predictions15)\n",
    "\n",
    "RMSE15 = np.sqrt(MSE15)\n",
    "\n",
    "MAPE15 = mean_absolute_percentage_error(yv15,test_predictions15)*100\n",
    "\n",
    "eval15 = [MSE15, MAE15, RMSE15, MAPE15]\n",
    "print(eval15)"
   ]
  },
  {
   "cell_type": "code",
   "execution_count": 60,
   "metadata": {},
   "outputs": [],
   "source": [
    "test_predictions15 = model15.predict((Wv15,Xv15))\n",
    "\n",
    "\n",
    "MSE15 = mean_squared_error(yv15,test_predictions15,multioutput='raw_values')\n",
    "\n",
    "MAE15 = mean_absolute_error(yv15,test_predictions15,multioutput='raw_values')\n",
    "\n",
    "RMSE15 = mean_squared_error(yv15,test_predictions15,multioutput='raw_values',squared=False)\n",
    "\n",
    "MAPE15 = mean_absolute_percentage_error(yv15,test_predictions15,multioutput='raw_values')*100"
   ]
  },
  {
   "cell_type": "code",
   "execution_count": 61,
   "metadata": {},
   "outputs": [
    {
     "data": {
      "text/plain": [
       "array([19.06537591, 20.8356653 , 20.69844989, 16.22666225, 20.97499336,\n",
       "       17.4408017 , 14.72508116])"
      ]
     },
     "execution_count": 61,
     "metadata": {},
     "output_type": "execute_result"
    }
   ],
   "source": [
    "MAE15"
   ]
  },
  {
   "cell_type": "code",
   "execution_count": 62,
   "metadata": {},
   "outputs": [
    {
     "data": {
      "text/plain": [
       "array([24.73098913, 27.57751681, 26.82263064, 20.86828468, 27.09525334,\n",
       "       22.76557747, 19.27491875])"
      ]
     },
     "execution_count": 62,
     "metadata": {},
     "output_type": "execute_result"
    }
   ],
   "source": [
    "RMSE15"
   ]
  },
  {
   "cell_type": "code",
   "execution_count": 63,
   "metadata": {},
   "outputs": [
    {
     "data": {
      "text/plain": [
       "array([10.21989404, 10.33237209,  9.683328  ,  8.24790868,  9.2723227 ,\n",
       "       10.39765406,  9.58358919])"
      ]
     },
     "execution_count": 63,
     "metadata": {},
     "output_type": "execute_result"
    }
   ],
   "source": [
    "MAPE15"
   ]
  },
  {
   "cell_type": "code",
   "execution_count": null,
   "metadata": {},
   "outputs": [],
   "source": [
    "GEH, count = ga.GEH(np.asarray(yv15), np.asarray(test_predictions15))\n",
    "GEH15 = count/GEH.size\n",
    "print(GEH15)"
   ]
  },
  {
   "cell_type": "markdown",
   "metadata": {},
   "source": [
    "# 30 mins ahead"
   ]
  },
  {
   "cell_type": "code",
   "execution_count": 45,
   "metadata": {},
   "outputs": [],
   "source": [
    "def build_model_30(hp):\n",
    "    # Inputs\n",
    "    channel_Wide = keras.layers.Input(shape=Wt30.shape[1:], name=\"WideInput\")\n",
    "    channel_Deep = keras.layers.Input(shape=Xt30.shape[1:], name=\"DeepInput\")\n",
    "    units = hp.Int(\"units\", min_value=1, max_value=100, step=1)\n",
    "    \n",
    "    \n",
    "    # Wide Model\n",
    "    flatten_30w = keras.layers.TimeDistributed(keras.layers.Flatten())(channel_Wide)\n",
    "    Bi_30 = keras.layers.Bidirectional(\n",
    "        keras.layers.LSTM(units=units, return_sequences=True),\n",
    "        merge_mode=\"ave\"\n",
    "    )(flatten_30w)\n",
    "    \n",
    "    \n",
    "    # Deep Model\n",
    "    # CNN \n",
    "    CNN_30 = keras.layers.TimeDistributed(\n",
    "        keras.layers.Conv2D(filters=hp.Int(\"filters\", min_value=32, max_value=512, step=32),\n",
    "                            kernel_size=hp.Choice(\"kernel_size\", [2, 3]), activation='relu'))(channel_Deep)\n",
    "    flatten_30 = keras.layers.TimeDistributed(keras.layers.Flatten())(CNN_30)\n",
    "    # LSTM          \n",
    "    LSTM_30 = keras.layers.LSTM(units=units, return_sequences=True)(flatten_30)\n",
    "\n",
    "    \n",
    "    # Concatenation \n",
    "    concat = keras.layers.concatenate([Bi_30, LSTM_30], axis=1)\n",
    "\n",
    "    # Attention\n",
    "    Att_30 = SeqSelfAttention(attention_activation='sigmoid')(concat)\n",
    "    merge = keras.layers.Flatten()(Att_30)\n",
    "\n",
    "    \n",
    "    # Output\n",
    "    output = keras.layers.Dense(n_features, name= \"output\")(merge)\n",
    "    \n",
    "    # Model\n",
    "    model_30 = keras.Model(inputs=[channel_Wide,channel_Deep], outputs=[output])\n",
    "\n",
    "    # Compile\n",
    "    model_30.compile(optimizer=keras.optimizers.Adam(hp.Choice(\"learning_rate\", [1e-2, 1e-3, 1e-4])), \n",
    "        loss=\"mse\", metrics=['MeanAbsoluteError','RootMeanSquaredError','MeanAbsolutePercentageError'])\n",
    "                    \n",
    "    return model_30"
   ]
  },
  {
   "cell_type": "code",
   "execution_count": 46,
   "metadata": {},
   "outputs": [
    {
     "name": "stdout",
     "output_type": "stream",
     "text": [
      "INFO:tensorflow:Reloading Oracle from existing project C:\\Runs\\8a-30\\oracle.json\n",
      "INFO:tensorflow:Reloading Tuner from C:\\Runs\\8a-30\\tuner0.json\n"
     ]
    }
   ],
   "source": [
    "tuner30 = RandomSearch(\n",
    "    build_model_30,\n",
    "    objective=\"val_loss\",\n",
    "    max_trials=60,\n",
    "    executions_per_trial=2,\n",
    "    overwrite=False,\n",
    "    directory=os.path.normpath('C:/Runs'),\n",
    "    project_name=\"8a-30\",\n",
    ")"
   ]
  },
  {
   "cell_type": "code",
   "execution_count": null,
   "metadata": {},
   "outputs": [],
   "source": [
    "tuner30.search_space_summary()"
   ]
  },
  {
   "cell_type": "code",
   "execution_count": null,
   "metadata": {},
   "outputs": [],
   "source": [
    "tuner30.search((Wt30,Xt30), yt30, epochs=200,\n",
    "            validation_split = val_percent,\n",
    "            callbacks=[early_stop],\n",
    "            verbose=2)"
   ]
  },
  {
   "cell_type": "code",
   "execution_count": null,
   "metadata": {},
   "outputs": [],
   "source": [
    "tuner30.results_summary(1)"
   ]
  },
  {
   "cell_type": "markdown",
   "metadata": {},
   "source": [
    "### Best model"
   ]
  },
  {
   "cell_type": "code",
   "execution_count": 47,
   "metadata": {},
   "outputs": [],
   "source": [
    "scaler_filename = \"Best_HP/8a-30\"\n",
    "best_hp30 = joblib.load(scaler_filename) \n",
    "\n",
    "model30 = tuner30.hypermodel.build(best_hp30)"
   ]
  },
  {
   "cell_type": "code",
   "execution_count": null,
   "metadata": {},
   "outputs": [],
   "source": [
    "best_hp30 = tuner30.get_best_hyperparameters()[0]\n",
    "model30 = tuner30.hypermodel.build(best_hp30)"
   ]
  },
  {
   "cell_type": "code",
   "execution_count": null,
   "metadata": {},
   "outputs": [],
   "source": [
    "scaler_filename = \"Best_HP/8a-30\"\n",
    "joblib.dump(best_hp30, scaler_filename) "
   ]
  },
  {
   "cell_type": "code",
   "execution_count": null,
   "metadata": {},
   "outputs": [],
   "source": [
    "model30.summary()"
   ]
  },
  {
   "cell_type": "code",
   "execution_count": 48,
   "metadata": {},
   "outputs": [
    {
     "name": "stdout",
     "output_type": "stream",
     "text": [
      "Epoch 1/100\n",
      "778/778 [==============================] - 18s 17ms/step - loss: 21728.2012 - mean_absolute_error: 109.3640 - root_mean_squared_error: 147.4049 - mean_absolute_percentage_error: 49147800.0000 - val_loss: 4788.0215 - val_mean_absolute_error: 48.4621 - val_root_mean_squared_error: 69.1955 - val_mean_absolute_percentage_error: 3094378.0000\n",
      "Epoch 2/100\n",
      "778/778 [==============================] - 12s 15ms/step - loss: 2532.0171 - mean_absolute_error: 33.9232 - root_mean_squared_error: 50.3191 - mean_absolute_percentage_error: 42206132.0000 - val_loss: 1446.9641 - val_mean_absolute_error: 26.9676 - val_root_mean_squared_error: 38.0390 - val_mean_absolute_percentage_error: 2999046.5000\n",
      "Epoch 3/100\n",
      "778/778 [==============================] - 13s 16ms/step - loss: 1143.8716 - mean_absolute_error: 24.0446 - root_mean_squared_error: 33.8211 - mean_absolute_percentage_error: 44798208.0000 - val_loss: 1014.1415 - val_mean_absolute_error: 23.2007 - val_root_mean_squared_error: 31.8456 - val_mean_absolute_percentage_error: 3204394.0000\n",
      "Epoch 4/100\n",
      "778/778 [==============================] - 12s 16ms/step - loss: 892.3422 - mean_absolute_error: 21.6200 - root_mean_squared_error: 29.8721 - mean_absolute_percentage_error: 48085356.0000 - val_loss: 945.9912 - val_mean_absolute_error: 22.3729 - val_root_mean_squared_error: 30.7570 - val_mean_absolute_percentage_error: 3396123.2500\n",
      "Epoch 5/100\n",
      "778/778 [==============================] - 12s 16ms/step - loss: 824.8395 - mean_absolute_error: 20.8797 - root_mean_squared_error: 28.7200 - mean_absolute_percentage_error: 50367460.0000 - val_loss: 872.3055 - val_mean_absolute_error: 21.6568 - val_root_mean_squared_error: 29.5348 - val_mean_absolute_percentage_error: 3660623.5000\n",
      "Epoch 6/100\n",
      "778/778 [==============================] - 13s 17ms/step - loss: 793.6202 - mean_absolute_error: 20.5123 - root_mean_squared_error: 28.1713 - mean_absolute_percentage_error: 51442636.0000 - val_loss: 916.4817 - val_mean_absolute_error: 22.2360 - val_root_mean_squared_error: 30.2734 - val_mean_absolute_percentage_error: 3779452.0000\n",
      "Epoch 7/100\n",
      "778/778 [==============================] - 13s 17ms/step - loss: 777.3698 - mean_absolute_error: 20.3302 - root_mean_squared_error: 27.8814 - mean_absolute_percentage_error: 51045156.0000 - val_loss: 888.0209 - val_mean_absolute_error: 21.7557 - val_root_mean_squared_error: 29.7997 - val_mean_absolute_percentage_error: 3627133.7500\n",
      "Epoch 8/100\n",
      "778/778 [==============================] - 12s 16ms/step - loss: 765.3813 - mean_absolute_error: 20.1678 - root_mean_squared_error: 27.6655 - mean_absolute_percentage_error: 51021828.0000 - val_loss: 864.5753 - val_mean_absolute_error: 21.3561 - val_root_mean_squared_error: 29.4037 - val_mean_absolute_percentage_error: 3670277.0000\n",
      "Epoch 9/100\n",
      "778/778 [==============================] - 13s 16ms/step - loss: 744.8335 - mean_absolute_error: 19.8718 - root_mean_squared_error: 27.2916 - mean_absolute_percentage_error: 51549324.0000 - val_loss: 848.1914 - val_mean_absolute_error: 21.1581 - val_root_mean_squared_error: 29.1237 - val_mean_absolute_percentage_error: 3747298.7500\n",
      "Epoch 10/100\n",
      "778/778 [==============================] - 12s 16ms/step - loss: 732.2814 - mean_absolute_error: 19.7331 - root_mean_squared_error: 27.0607 - mean_absolute_percentage_error: 50379740.0000 - val_loss: 884.3997 - val_mean_absolute_error: 21.6475 - val_root_mean_squared_error: 29.7389 - val_mean_absolute_percentage_error: 3996198.5000\n",
      "Epoch 11/100\n",
      "778/778 [==============================] - 12s 16ms/step - loss: 715.0240 - mean_absolute_error: 19.4979 - root_mean_squared_error: 26.7399 - mean_absolute_percentage_error: 49268496.0000 - val_loss: 804.6631 - val_mean_absolute_error: 20.6193 - val_root_mean_squared_error: 28.3666 - val_mean_absolute_percentage_error: 4136244.2500\n",
      "Epoch 12/100\n",
      "778/778 [==============================] - 12s 16ms/step - loss: 697.4357 - mean_absolute_error: 19.2694 - root_mean_squared_error: 26.4090 - mean_absolute_percentage_error: 47420288.0000 - val_loss: 797.7151 - val_mean_absolute_error: 20.5284 - val_root_mean_squared_error: 28.2439 - val_mean_absolute_percentage_error: 3916372.5000\n",
      "Epoch 13/100\n",
      "778/778 [==============================] - 12s 16ms/step - loss: 689.1345 - mean_absolute_error: 19.1844 - root_mean_squared_error: 26.2514 - mean_absolute_percentage_error: 46184160.0000 - val_loss: 796.3040 - val_mean_absolute_error: 20.5192 - val_root_mean_squared_error: 28.2189 - val_mean_absolute_percentage_error: 3751259.2500\n",
      "Epoch 14/100\n",
      "778/778 [==============================] - 12s 15ms/step - loss: 679.7988 - mean_absolute_error: 19.0560 - root_mean_squared_error: 26.0729 - mean_absolute_percentage_error: 43230504.0000 - val_loss: 776.5735 - val_mean_absolute_error: 20.2138 - val_root_mean_squared_error: 27.8671 - val_mean_absolute_percentage_error: 3979633.0000\n",
      "Epoch 15/100\n",
      "778/778 [==============================] - 12s 15ms/step - loss: 670.3434 - mean_absolute_error: 18.9307 - root_mean_squared_error: 25.8910 - mean_absolute_percentage_error: 41260944.0000 - val_loss: 792.6546 - val_mean_absolute_error: 20.4953 - val_root_mean_squared_error: 28.1541 - val_mean_absolute_percentage_error: 4001099.2500\n",
      "Epoch 16/100\n",
      "778/778 [==============================] - 12s 15ms/step - loss: 665.1484 - mean_absolute_error: 18.8451 - root_mean_squared_error: 25.7905 - mean_absolute_percentage_error: 40199668.0000 - val_loss: 759.9593 - val_mean_absolute_error: 20.0248 - val_root_mean_squared_error: 27.5674 - val_mean_absolute_percentage_error: 3920577.2500\n",
      "Epoch 17/100\n",
      "778/778 [==============================] - 11s 15ms/step - loss: 657.8566 - mean_absolute_error: 18.7523 - root_mean_squared_error: 25.6487 - mean_absolute_percentage_error: 38537708.0000 - val_loss: 773.1010 - val_mean_absolute_error: 20.1741 - val_root_mean_squared_error: 27.8047 - val_mean_absolute_percentage_error: 3908112.5000\n",
      "Epoch 18/100\n",
      "778/778 [==============================] - 12s 15ms/step - loss: 655.2112 - mean_absolute_error: 18.7227 - root_mean_squared_error: 25.5971 - mean_absolute_percentage_error: 36087184.0000 - val_loss: 765.7620 - val_mean_absolute_error: 20.0988 - val_root_mean_squared_error: 27.6724 - val_mean_absolute_percentage_error: 4065245.7500\n",
      "Epoch 19/100\n",
      "778/778 [==============================] - 12s 16ms/step - loss: 647.2235 - mean_absolute_error: 18.6038 - root_mean_squared_error: 25.4406 - mean_absolute_percentage_error: 34595288.0000 - val_loss: 761.2086 - val_mean_absolute_error: 20.0457 - val_root_mean_squared_error: 27.5900 - val_mean_absolute_percentage_error: 4098485.2500\n",
      "Epoch 20/100\n",
      "778/778 [==============================] - 12s 15ms/step - loss: 641.0064 - mean_absolute_error: 18.5226 - root_mean_squared_error: 25.3181 - mean_absolute_percentage_error: 33650040.0000 - val_loss: 756.6342 - val_mean_absolute_error: 20.0533 - val_root_mean_squared_error: 27.5070 - val_mean_absolute_percentage_error: 3903386.5000\n",
      "Epoch 21/100\n",
      "778/778 [==============================] - 12s 15ms/step - loss: 637.3823 - mean_absolute_error: 18.4629 - root_mean_squared_error: 25.2464 - mean_absolute_percentage_error: 32112134.0000 - val_loss: 770.7461 - val_mean_absolute_error: 20.2195 - val_root_mean_squared_error: 27.7623 - val_mean_absolute_percentage_error: 3915616.5000\n",
      "Epoch 22/100\n",
      "778/778 [==============================] - 12s 16ms/step - loss: 634.4024 - mean_absolute_error: 18.4210 - root_mean_squared_error: 25.1873 - mean_absolute_percentage_error: 30923336.0000 - val_loss: 741.1314 - val_mean_absolute_error: 19.8259 - val_root_mean_squared_error: 27.2237 - val_mean_absolute_percentage_error: 3937425.0000\n",
      "Epoch 23/100\n",
      "778/778 [==============================] - 12s 16ms/step - loss: 629.6608 - mean_absolute_error: 18.3661 - root_mean_squared_error: 25.0930 - mean_absolute_percentage_error: 29458536.0000 - val_loss: 763.9263 - val_mean_absolute_error: 20.1805 - val_root_mean_squared_error: 27.6392 - val_mean_absolute_percentage_error: 4061752.0000\n",
      "Epoch 24/100\n",
      "778/778 [==============================] - 12s 16ms/step - loss: 626.4451 - mean_absolute_error: 18.2985 - root_mean_squared_error: 25.0289 - mean_absolute_percentage_error: 27877598.0000 - val_loss: 748.7711 - val_mean_absolute_error: 19.8880 - val_root_mean_squared_error: 27.3637 - val_mean_absolute_percentage_error: 3902134.7500\n"
     ]
    },
    {
     "name": "stdout",
     "output_type": "stream",
     "text": [
      "Epoch 25/100\n",
      "778/778 [==============================] - 12s 15ms/step - loss: 620.8986 - mean_absolute_error: 18.2471 - root_mean_squared_error: 24.9178 - mean_absolute_percentage_error: 26222514.0000 - val_loss: 736.6290 - val_mean_absolute_error: 19.8092 - val_root_mean_squared_error: 27.1409 - val_mean_absolute_percentage_error: 4014223.2500\n",
      "Epoch 26/100\n",
      "778/778 [==============================] - 12s 15ms/step - loss: 617.9740 - mean_absolute_error: 18.2132 - root_mean_squared_error: 24.8591 - mean_absolute_percentage_error: 23665590.0000 - val_loss: 784.2294 - val_mean_absolute_error: 20.4616 - val_root_mean_squared_error: 28.0041 - val_mean_absolute_percentage_error: 3988003.7500\n",
      "Epoch 27/100\n",
      "778/778 [==============================] - 12s 15ms/step - loss: 613.7483 - mean_absolute_error: 18.1265 - root_mean_squared_error: 24.7739 - mean_absolute_percentage_error: 22921516.0000 - val_loss: 746.2620 - val_mean_absolute_error: 19.9541 - val_root_mean_squared_error: 27.3178 - val_mean_absolute_percentage_error: 3934136.7500\n",
      "Epoch 28/100\n",
      "778/778 [==============================] - 12s 15ms/step - loss: 609.2472 - mean_absolute_error: 18.0809 - root_mean_squared_error: 24.6829 - mean_absolute_percentage_error: 22088110.0000 - val_loss: 722.0325 - val_mean_absolute_error: 19.5881 - val_root_mean_squared_error: 26.8707 - val_mean_absolute_percentage_error: 3936669.5000\n",
      "Epoch 29/100\n",
      "778/778 [==============================] - 12s 15ms/step - loss: 606.2447 - mean_absolute_error: 18.0349 - root_mean_squared_error: 24.6220 - mean_absolute_percentage_error: 21404714.0000 - val_loss: 733.9818 - val_mean_absolute_error: 19.8070 - val_root_mean_squared_error: 27.0921 - val_mean_absolute_percentage_error: 3930633.5000\n",
      "Epoch 30/100\n",
      "778/778 [==============================] - 12s 15ms/step - loss: 604.2668 - mean_absolute_error: 18.0108 - root_mean_squared_error: 24.5818 - mean_absolute_percentage_error: 19917878.0000 - val_loss: 724.3339 - val_mean_absolute_error: 19.6379 - val_root_mean_squared_error: 26.9134 - val_mean_absolute_percentage_error: 3959968.2500\n",
      "Epoch 31/100\n",
      "778/778 [==============================] - 12s 16ms/step - loss: 599.6821 - mean_absolute_error: 17.9362 - root_mean_squared_error: 24.4884 - mean_absolute_percentage_error: 19431398.0000 - val_loss: 765.8499 - val_mean_absolute_error: 20.2080 - val_root_mean_squared_error: 27.6740 - val_mean_absolute_percentage_error: 3972329.7500\n",
      "Epoch 32/100\n",
      "778/778 [==============================] - 12s 15ms/step - loss: 596.0474 - mean_absolute_error: 17.8973 - root_mean_squared_error: 24.4141 - mean_absolute_percentage_error: 18786678.0000 - val_loss: 715.7377 - val_mean_absolute_error: 19.5743 - val_root_mean_squared_error: 26.7533 - val_mean_absolute_percentage_error: 4125792.7500\n",
      "Epoch 33/100\n",
      "778/778 [==============================] - 12s 15ms/step - loss: 594.4598 - mean_absolute_error: 17.8700 - root_mean_squared_error: 24.3815 - mean_absolute_percentage_error: 18404532.0000 - val_loss: 709.5253 - val_mean_absolute_error: 19.5251 - val_root_mean_squared_error: 26.6369 - val_mean_absolute_percentage_error: 3920323.0000\n",
      "Epoch 34/100\n",
      "778/778 [==============================] - 13s 16ms/step - loss: 591.6232 - mean_absolute_error: 17.8293 - root_mean_squared_error: 24.3233 - mean_absolute_percentage_error: 18387432.0000 - val_loss: 742.8873 - val_mean_absolute_error: 19.9269 - val_root_mean_squared_error: 27.2560 - val_mean_absolute_percentage_error: 3980909.7500\n",
      "Epoch 35/100\n",
      "778/778 [==============================] - 12s 15ms/step - loss: 589.7001 - mean_absolute_error: 17.8173 - root_mean_squared_error: 24.2837 - mean_absolute_percentage_error: 16983316.0000 - val_loss: 700.3909 - val_mean_absolute_error: 19.3482 - val_root_mean_squared_error: 26.4649 - val_mean_absolute_percentage_error: 3872610.5000\n",
      "Epoch 36/100\n",
      "778/778 [==============================] - 12s 15ms/step - loss: 585.6013 - mean_absolute_error: 17.7515 - root_mean_squared_error: 24.1992 - mean_absolute_percentage_error: 17249528.0000 - val_loss: 729.3965 - val_mean_absolute_error: 19.8056 - val_root_mean_squared_error: 27.0073 - val_mean_absolute_percentage_error: 4025677.2500\n",
      "Epoch 37/100\n",
      "778/778 [==============================] - 12s 16ms/step - loss: 586.3845 - mean_absolute_error: 17.7606 - root_mean_squared_error: 24.2154 - mean_absolute_percentage_error: 16596574.0000 - val_loss: 719.5364 - val_mean_absolute_error: 19.6570 - val_root_mean_squared_error: 26.8242 - val_mean_absolute_percentage_error: 4112580.2500\n",
      "Epoch 38/100\n",
      "778/778 [==============================] - 14s 17ms/step - loss: 579.4124 - mean_absolute_error: 17.6704 - root_mean_squared_error: 24.0710 - mean_absolute_percentage_error: 16559304.0000 - val_loss: 693.1910 - val_mean_absolute_error: 19.2845 - val_root_mean_squared_error: 26.3285 - val_mean_absolute_percentage_error: 4062030.2500\n",
      "Epoch 39/100\n",
      "778/778 [==============================] - 14s 18ms/step - loss: 580.5606 - mean_absolute_error: 17.6770 - root_mean_squared_error: 24.0948 - mean_absolute_percentage_error: 16112142.0000 - val_loss: 764.6463 - val_mean_absolute_error: 20.3318 - val_root_mean_squared_error: 27.6522 - val_mean_absolute_percentage_error: 3917712.2500\n",
      "Epoch 40/100\n",
      "778/778 [==============================] - 21s 27ms/step - loss: 574.8694 - mean_absolute_error: 17.6012 - root_mean_squared_error: 23.9764 - mean_absolute_percentage_error: 15662624.0000 - val_loss: 721.8159 - val_mean_absolute_error: 19.8186 - val_root_mean_squared_error: 26.8666 - val_mean_absolute_percentage_error: 4188030.7500\n",
      "Epoch 41/100\n",
      "778/778 [==============================] - 13s 17ms/step - loss: 573.2941 - mean_absolute_error: 17.5815 - root_mean_squared_error: 23.9436 - mean_absolute_percentage_error: 15600400.0000 - val_loss: 702.8541 - val_mean_absolute_error: 19.4710 - val_root_mean_squared_error: 26.5114 - val_mean_absolute_percentage_error: 4062688.7500\n",
      "Epoch 42/100\n",
      "778/778 [==============================] - 12s 15ms/step - loss: 572.2940 - mean_absolute_error: 17.5686 - root_mean_squared_error: 23.9227 - mean_absolute_percentage_error: 14963632.0000 - val_loss: 698.0762 - val_mean_absolute_error: 19.3807 - val_root_mean_squared_error: 26.4211 - val_mean_absolute_percentage_error: 3864015.7500\n",
      "Epoch 43/100\n",
      "778/778 [==============================] - 12s 15ms/step - loss: 568.7936 - mean_absolute_error: 17.5008 - root_mean_squared_error: 23.8494 - mean_absolute_percentage_error: 14767063.0000 - val_loss: 695.4124 - val_mean_absolute_error: 19.3630 - val_root_mean_squared_error: 26.3707 - val_mean_absolute_percentage_error: 3852255.5000\n",
      "Epoch 44/100\n",
      "778/778 [==============================] - 12s 15ms/step - loss: 564.9830 - mean_absolute_error: 17.4409 - root_mean_squared_error: 23.7694 - mean_absolute_percentage_error: 14265016.0000 - val_loss: 712.7486 - val_mean_absolute_error: 19.6365 - val_root_mean_squared_error: 26.6973 - val_mean_absolute_percentage_error: 3927623.0000\n",
      "Epoch 45/100\n",
      "778/778 [==============================] - 12s 15ms/step - loss: 563.1672 - mean_absolute_error: 17.4266 - root_mean_squared_error: 23.7311 - mean_absolute_percentage_error: 14398883.0000 - val_loss: 691.5477 - val_mean_absolute_error: 19.3502 - val_root_mean_squared_error: 26.2973 - val_mean_absolute_percentage_error: 4101060.7500\n",
      "Epoch 46/100\n",
      "778/778 [==============================] - 12s 15ms/step - loss: 560.0474 - mean_absolute_error: 17.3712 - root_mean_squared_error: 23.6653 - mean_absolute_percentage_error: 13858399.0000 - val_loss: 707.8451 - val_mean_absolute_error: 19.5613 - val_root_mean_squared_error: 26.6054 - val_mean_absolute_percentage_error: 3893214.5000\n",
      "Epoch 47/100\n",
      "778/778 [==============================] - 12s 15ms/step - loss: 558.6114 - mean_absolute_error: 17.3696 - root_mean_squared_error: 23.6349 - mean_absolute_percentage_error: 13741229.0000 - val_loss: 710.5867 - val_mean_absolute_error: 19.6318 - val_root_mean_squared_error: 26.6568 - val_mean_absolute_percentage_error: 3963955.5000\n",
      "Epoch 48/100\n",
      "778/778 [==============================] - 12s 16ms/step - loss: 555.6266 - mean_absolute_error: 17.3194 - root_mean_squared_error: 23.5717 - mean_absolute_percentage_error: 13401556.0000 - val_loss: 697.2197 - val_mean_absolute_error: 19.4449 - val_root_mean_squared_error: 26.4049 - val_mean_absolute_percentage_error: 4080331.7500\n"
     ]
    },
    {
     "name": "stdout",
     "output_type": "stream",
     "text": [
      "Epoch 49/100\n",
      "778/778 [==============================] - 12s 16ms/step - loss: 553.5245 - mean_absolute_error: 17.2928 - root_mean_squared_error: 23.5271 - mean_absolute_percentage_error: 13205943.0000 - val_loss: 694.2161 - val_mean_absolute_error: 19.4024 - val_root_mean_squared_error: 26.3480 - val_mean_absolute_percentage_error: 4084555.0000\n",
      "Epoch 50/100\n",
      "778/778 [==============================] - 12s 16ms/step - loss: 551.3737 - mean_absolute_error: 17.2486 - root_mean_squared_error: 23.4814 - mean_absolute_percentage_error: 12974672.0000 - val_loss: 685.3369 - val_mean_absolute_error: 19.2750 - val_root_mean_squared_error: 26.1789 - val_mean_absolute_percentage_error: 3985428.5000\n",
      "Epoch 51/100\n",
      "778/778 [==============================] - 12s 15ms/step - loss: 547.4958 - mean_absolute_error: 17.1744 - root_mean_squared_error: 23.3986 - mean_absolute_percentage_error: 13268480.0000 - val_loss: 700.4220 - val_mean_absolute_error: 19.4963 - val_root_mean_squared_error: 26.4655 - val_mean_absolute_percentage_error: 4020276.5000\n",
      "Epoch 52/100\n",
      "778/778 [==============================] - 12s 15ms/step - loss: 545.6767 - mean_absolute_error: 17.1574 - root_mean_squared_error: 23.3597 - mean_absolute_percentage_error: 12572356.0000 - val_loss: 695.0119 - val_mean_absolute_error: 19.4220 - val_root_mean_squared_error: 26.3631 - val_mean_absolute_percentage_error: 3885188.0000\n",
      "Epoch 53/100\n",
      "778/778 [==============================] - 12s 15ms/step - loss: 543.0588 - mean_absolute_error: 17.1271 - root_mean_squared_error: 23.3036 - mean_absolute_percentage_error: 12819036.0000 - val_loss: 699.6112 - val_mean_absolute_error: 19.4913 - val_root_mean_squared_error: 26.4502 - val_mean_absolute_percentage_error: 4050066.5000\n",
      "Epoch 54/100\n",
      "778/778 [==============================] - 12s 16ms/step - loss: 540.6179 - mean_absolute_error: 17.0875 - root_mean_squared_error: 23.2512 - mean_absolute_percentage_error: 12801100.0000 - val_loss: 695.0299 - val_mean_absolute_error: 19.4694 - val_root_mean_squared_error: 26.3634 - val_mean_absolute_percentage_error: 3998394.0000\n",
      "Epoch 55/100\n",
      "778/778 [==============================] - 12s 15ms/step - loss: 537.7780 - mean_absolute_error: 17.0474 - root_mean_squared_error: 23.1900 - mean_absolute_percentage_error: 12402653.0000 - val_loss: 698.3724 - val_mean_absolute_error: 19.4553 - val_root_mean_squared_error: 26.4267 - val_mean_absolute_percentage_error: 3900726.5000\n",
      "Epoch 56/100\n",
      "778/778 [==============================] - 12s 15ms/step - loss: 537.4842 - mean_absolute_error: 17.0401 - root_mean_squared_error: 23.1837 - mean_absolute_percentage_error: 12466807.0000 - val_loss: 686.6217 - val_mean_absolute_error: 19.3011 - val_root_mean_squared_error: 26.2035 - val_mean_absolute_percentage_error: 4041115.7500\n",
      "Epoch 57/100\n",
      "778/778 [==============================] - 12s 15ms/step - loss: 531.3770 - mean_absolute_error: 16.9288 - root_mean_squared_error: 23.0516 - mean_absolute_percentage_error: 12242840.0000 - val_loss: 708.5595 - val_mean_absolute_error: 19.6296 - val_root_mean_squared_error: 26.6188 - val_mean_absolute_percentage_error: 4013890.2500\n",
      "Epoch 58/100\n",
      "778/778 [==============================] - 12s 16ms/step - loss: 529.2732 - mean_absolute_error: 16.9103 - root_mean_squared_error: 23.0059 - mean_absolute_percentage_error: 12115952.0000 - val_loss: 695.1656 - val_mean_absolute_error: 19.5247 - val_root_mean_squared_error: 26.3660 - val_mean_absolute_percentage_error: 4068598.5000\n",
      "Epoch 59/100\n",
      "778/778 [==============================] - 12s 16ms/step - loss: 528.4598 - mean_absolute_error: 16.8933 - root_mean_squared_error: 22.9882 - mean_absolute_percentage_error: 12651495.0000 - val_loss: 692.1303 - val_mean_absolute_error: 19.4000 - val_root_mean_squared_error: 26.3084 - val_mean_absolute_percentage_error: 3926445.0000\n",
      "Epoch 60/100\n",
      "778/778 [==============================] - 12s 15ms/step - loss: 526.5198 - mean_absolute_error: 16.8668 - root_mean_squared_error: 22.9460 - mean_absolute_percentage_error: 12123364.0000 - val_loss: 699.4587 - val_mean_absolute_error: 19.6041 - val_root_mean_squared_error: 26.4473 - val_mean_absolute_percentage_error: 4071824.2500\n",
      "Epoch 61/100\n",
      "778/778 [==============================] - 13s 17ms/step - loss: 523.8875 - mean_absolute_error: 16.8489 - root_mean_squared_error: 22.8886 - mean_absolute_percentage_error: 12407241.0000 - val_loss: 716.3062 - val_mean_absolute_error: 19.8001 - val_root_mean_squared_error: 26.7639 - val_mean_absolute_percentage_error: 3961951.2500\n",
      "Epoch 62/100\n",
      "778/778 [==============================] - 13s 17ms/step - loss: 520.4524 - mean_absolute_error: 16.7895 - root_mean_squared_error: 22.8134 - mean_absolute_percentage_error: 11885816.0000 - val_loss: 709.1616 - val_mean_absolute_error: 19.6215 - val_root_mean_squared_error: 26.6301 - val_mean_absolute_percentage_error: 4072631.0000\n",
      "Epoch 63/100\n",
      "778/778 [==============================] - 14s 19ms/step - loss: 518.1580 - mean_absolute_error: 16.7362 - root_mean_squared_error: 22.7631 - mean_absolute_percentage_error: 11830936.0000 - val_loss: 697.1595 - val_mean_absolute_error: 19.4875 - val_root_mean_squared_error: 26.4038 - val_mean_absolute_percentage_error: 3907082.2500\n",
      "Epoch 64/100\n",
      "778/778 [==============================] - 14s 18ms/step - loss: 516.3961 - mean_absolute_error: 16.7160 - root_mean_squared_error: 22.7244 - mean_absolute_percentage_error: 11703297.0000 - val_loss: 709.1401 - val_mean_absolute_error: 19.6193 - val_root_mean_squared_error: 26.6297 - val_mean_absolute_percentage_error: 4042428.7500\n",
      "Epoch 65/100\n",
      "778/778 [==============================] - 14s 18ms/step - loss: 512.9380 - mean_absolute_error: 16.6487 - root_mean_squared_error: 22.6481 - mean_absolute_percentage_error: 11588462.0000 - val_loss: 702.6378 - val_mean_absolute_error: 19.5671 - val_root_mean_squared_error: 26.5073 - val_mean_absolute_percentage_error: 3947687.7500\n",
      "Epoch 66/100\n",
      "778/778 [==============================] - 15s 19ms/step - loss: 508.8257 - mean_absolute_error: 16.5905 - root_mean_squared_error: 22.5572 - mean_absolute_percentage_error: 11912384.0000 - val_loss: 696.6185 - val_mean_absolute_error: 19.5231 - val_root_mean_squared_error: 26.3935 - val_mean_absolute_percentage_error: 3910978.2500\n",
      "Epoch 67/100\n",
      "778/778 [==============================] - 14s 18ms/step - loss: 507.9837 - mean_absolute_error: 16.5881 - root_mean_squared_error: 22.5385 - mean_absolute_percentage_error: 11481938.0000 - val_loss: 721.9325 - val_mean_absolute_error: 19.8313 - val_root_mean_squared_error: 26.8688 - val_mean_absolute_percentage_error: 4079408.5000\n",
      "Epoch 68/100\n",
      "778/778 [==============================] - 14s 18ms/step - loss: 506.0743 - mean_absolute_error: 16.5520 - root_mean_squared_error: 22.4961 - mean_absolute_percentage_error: 12152591.0000 - val_loss: 703.8559 - val_mean_absolute_error: 19.6083 - val_root_mean_squared_error: 26.5303 - val_mean_absolute_percentage_error: 4041550.2500\n",
      "Epoch 69/100\n",
      "778/778 [==============================] - 18s 24ms/step - loss: 502.0294 - mean_absolute_error: 16.4934 - root_mean_squared_error: 22.4060 - mean_absolute_percentage_error: 11467287.0000 - val_loss: 700.4949 - val_mean_absolute_error: 19.5692 - val_root_mean_squared_error: 26.4669 - val_mean_absolute_percentage_error: 3872214.0000\n",
      "Epoch 70/100\n",
      "778/778 [==============================] - 18s 24ms/step - loss: 499.4160 - mean_absolute_error: 16.4490 - root_mean_squared_error: 22.3476 - mean_absolute_percentage_error: 11415537.0000 - val_loss: 697.0845 - val_mean_absolute_error: 19.5353 - val_root_mean_squared_error: 26.4024 - val_mean_absolute_percentage_error: 4092637.5000\n",
      "Epoch 71/100\n",
      "778/778 [==============================] - 14s 18ms/step - loss: 498.4048 - mean_absolute_error: 16.4221 - root_mean_squared_error: 22.3250 - mean_absolute_percentage_error: 11926663.0000 - val_loss: 709.1362 - val_mean_absolute_error: 19.6922 - val_root_mean_squared_error: 26.6296 - val_mean_absolute_percentage_error: 4012851.0000\n",
      "Epoch 72/100\n",
      "778/778 [==============================] - 14s 17ms/step - loss: 494.5470 - mean_absolute_error: 16.3712 - root_mean_squared_error: 22.2384 - mean_absolute_percentage_error: 11638708.0000 - val_loss: 710.3959 - val_mean_absolute_error: 19.7740 - val_root_mean_squared_error: 26.6533 - val_mean_absolute_percentage_error: 4046477.7500\n"
     ]
    },
    {
     "name": "stdout",
     "output_type": "stream",
     "text": [
      "Epoch 73/100\n",
      "778/778 [==============================] - 14s 17ms/step - loss: 492.2299 - mean_absolute_error: 16.3309 - root_mean_squared_error: 22.1863 - mean_absolute_percentage_error: 11917434.0000 - val_loss: 710.6225 - val_mean_absolute_error: 19.7481 - val_root_mean_squared_error: 26.6575 - val_mean_absolute_percentage_error: 3968775.2500\n",
      "Epoch 74/100\n",
      "778/778 [==============================] - 13s 17ms/step - loss: 488.4980 - mean_absolute_error: 16.2780 - root_mean_squared_error: 22.1020 - mean_absolute_percentage_error: 11294531.0000 - val_loss: 707.1970 - val_mean_absolute_error: 19.7432 - val_root_mean_squared_error: 26.5932 - val_mean_absolute_percentage_error: 4092398.2500\n",
      "Epoch 75/100\n",
      "778/778 [==============================] - 13s 17ms/step - loss: 486.4480 - mean_absolute_error: 16.2367 - root_mean_squared_error: 22.0556 - mean_absolute_percentage_error: 11602067.0000 - val_loss: 706.6248 - val_mean_absolute_error: 19.7116 - val_root_mean_squared_error: 26.5824 - val_mean_absolute_percentage_error: 4025581.7500\n",
      "Epoch 76/100\n",
      "778/778 [==============================] - 13s 17ms/step - loss: 483.0051 - mean_absolute_error: 16.1882 - root_mean_squared_error: 21.9774 - mean_absolute_percentage_error: 11589409.0000 - val_loss: 699.4770 - val_mean_absolute_error: 19.6211 - val_root_mean_squared_error: 26.4476 - val_mean_absolute_percentage_error: 3986015.7500\n",
      "Epoch 77/100\n",
      "778/778 [==============================] - 13s 16ms/step - loss: 480.2275 - mean_absolute_error: 16.1474 - root_mean_squared_error: 21.9141 - mean_absolute_percentage_error: 11400792.0000 - val_loss: 706.8134 - val_mean_absolute_error: 19.7148 - val_root_mean_squared_error: 26.5860 - val_mean_absolute_percentage_error: 4189953.0000\n",
      "Epoch 78/100\n",
      "778/778 [==============================] - 14s 17ms/step - loss: 479.9250 - mean_absolute_error: 16.1395 - root_mean_squared_error: 21.9072 - mean_absolute_percentage_error: 11676874.0000 - val_loss: 707.6954 - val_mean_absolute_error: 19.7394 - val_root_mean_squared_error: 26.6025 - val_mean_absolute_percentage_error: 4120344.7500\n",
      "Epoch 79/100\n",
      "778/778 [==============================] - 13s 16ms/step - loss: 474.6192 - mean_absolute_error: 16.0401 - root_mean_squared_error: 21.7858 - mean_absolute_percentage_error: 11659775.0000 - val_loss: 723.4879 - val_mean_absolute_error: 19.9808 - val_root_mean_squared_error: 26.8977 - val_mean_absolute_percentage_error: 4044372.7500\n",
      "Epoch 80/100\n",
      "778/778 [==============================] - 13s 17ms/step - loss: 473.4052 - mean_absolute_error: 16.0124 - root_mean_squared_error: 21.7579 - mean_absolute_percentage_error: 11801216.0000 - val_loss: 719.6450 - val_mean_absolute_error: 19.9276 - val_root_mean_squared_error: 26.8262 - val_mean_absolute_percentage_error: 4109881.5000\n",
      "Epoch 81/100\n",
      "778/778 [==============================] - 12s 15ms/step - loss: 470.6103 - mean_absolute_error: 15.9908 - root_mean_squared_error: 21.6936 - mean_absolute_percentage_error: 11759578.0000 - val_loss: 723.9261 - val_mean_absolute_error: 19.9351 - val_root_mean_squared_error: 26.9059 - val_mean_absolute_percentage_error: 4248497.0000\n",
      "Epoch 82/100\n",
      "778/778 [==============================] - 13s 16ms/step - loss: 466.3826 - mean_absolute_error: 15.9047 - root_mean_squared_error: 21.5959 - mean_absolute_percentage_error: 11592191.0000 - val_loss: 718.0695 - val_mean_absolute_error: 19.9229 - val_root_mean_squared_error: 26.7968 - val_mean_absolute_percentage_error: 4144337.0000\n",
      "Epoch 83/100\n",
      "778/778 [==============================] - 12s 16ms/step - loss: 462.9069 - mean_absolute_error: 15.8550 - root_mean_squared_error: 21.5153 - mean_absolute_percentage_error: 11881269.0000 - val_loss: 725.9169 - val_mean_absolute_error: 19.9874 - val_root_mean_squared_error: 26.9428 - val_mean_absolute_percentage_error: 4144440.5000\n",
      "Epoch 84/100\n",
      "778/778 [==============================] - 12s 16ms/step - loss: 460.4716 - mean_absolute_error: 15.8105 - root_mean_squared_error: 21.4586 - mean_absolute_percentage_error: 11401087.0000 - val_loss: 727.5085 - val_mean_absolute_error: 20.0226 - val_root_mean_squared_error: 26.9724 - val_mean_absolute_percentage_error: 4058899.5000\n",
      "Epoch 85/100\n",
      "778/778 [==============================] - 12s 16ms/step - loss: 458.6047 - mean_absolute_error: 15.7873 - root_mean_squared_error: 21.4151 - mean_absolute_percentage_error: 11946985.0000 - val_loss: 727.9261 - val_mean_absolute_error: 20.0441 - val_root_mean_squared_error: 26.9801 - val_mean_absolute_percentage_error: 4068925.2500\n",
      "Epoch 86/100\n",
      "778/778 [==============================] - 12s 15ms/step - loss: 455.8296 - mean_absolute_error: 15.7341 - root_mean_squared_error: 21.3502 - mean_absolute_percentage_error: 11405122.0000 - val_loss: 726.0582 - val_mean_absolute_error: 20.0013 - val_root_mean_squared_error: 26.9455 - val_mean_absolute_percentage_error: 3908726.0000\n",
      "Epoch 87/100\n",
      "778/778 [==============================] - 12s 15ms/step - loss: 451.9195 - mean_absolute_error: 15.6679 - root_mean_squared_error: 21.2584 - mean_absolute_percentage_error: 11978327.0000 - val_loss: 721.9072 - val_mean_absolute_error: 19.9291 - val_root_mean_squared_error: 26.8683 - val_mean_absolute_percentage_error: 4005686.0000\n",
      "Epoch 88/100\n",
      "778/778 [==============================] - 12s 15ms/step - loss: 450.1415 - mean_absolute_error: 15.6451 - root_mean_squared_error: 21.2165 - mean_absolute_percentage_error: 11948882.0000 - val_loss: 741.7706 - val_mean_absolute_error: 20.2521 - val_root_mean_squared_error: 27.2355 - val_mean_absolute_percentage_error: 4145300.5000\n",
      "Epoch 89/100\n",
      "778/778 [==============================] - 12s 15ms/step - loss: 448.0630 - mean_absolute_error: 15.6066 - root_mean_squared_error: 21.1675 - mean_absolute_percentage_error: 11908019.0000 - val_loss: 727.1296 - val_mean_absolute_error: 20.0775 - val_root_mean_squared_error: 26.9653 - val_mean_absolute_percentage_error: 4217719.0000\n",
      "Epoch 90/100\n",
      "778/778 [==============================] - 13s 16ms/step - loss: 445.8570 - mean_absolute_error: 15.5714 - root_mean_squared_error: 21.1153 - mean_absolute_percentage_error: 11863754.0000 - val_loss: 759.5415 - val_mean_absolute_error: 20.6018 - val_root_mean_squared_error: 27.5598 - val_mean_absolute_percentage_error: 4330015.0000\n",
      "Epoch 91/100\n",
      "778/778 [==============================] - 14s 18ms/step - loss: 442.2550 - mean_absolute_error: 15.5098 - root_mean_squared_error: 21.0299 - mean_absolute_percentage_error: 12055584.0000 - val_loss: 716.7524 - val_mean_absolute_error: 19.9253 - val_root_mean_squared_error: 26.7722 - val_mean_absolute_percentage_error: 4190509.5000\n",
      "Epoch 92/100\n",
      "778/778 [==============================] - 19s 24ms/step - loss: 437.6291 - mean_absolute_error: 15.4173 - root_mean_squared_error: 20.9196 - mean_absolute_percentage_error: 11758753.0000 - val_loss: 724.3513 - val_mean_absolute_error: 20.0310 - val_root_mean_squared_error: 26.9138 - val_mean_absolute_percentage_error: 4075952.5000\n",
      "Epoch 93/100\n",
      "778/778 [==============================] - 15s 19ms/step - loss: 436.0345 - mean_absolute_error: 15.4127 - root_mean_squared_error: 20.8814 - mean_absolute_percentage_error: 11717738.0000 - val_loss: 736.0063 - val_mean_absolute_error: 20.1517 - val_root_mean_squared_error: 27.1294 - val_mean_absolute_percentage_error: 4128588.7500\n",
      "Epoch 94/100\n",
      "778/778 [==============================] - 15s 19ms/step - loss: 433.0086 - mean_absolute_error: 15.3462 - root_mean_squared_error: 20.8089 - mean_absolute_percentage_error: 11921826.0000 - val_loss: 743.4316 - val_mean_absolute_error: 20.2811 - val_root_mean_squared_error: 27.2659 - val_mean_absolute_percentage_error: 4055945.5000\n",
      "Epoch 95/100\n",
      "778/778 [==============================] - 14s 18ms/step - loss: 432.1378 - mean_absolute_error: 15.3335 - root_mean_squared_error: 20.7879 - mean_absolute_percentage_error: 12109647.0000 - val_loss: 750.9816 - val_mean_absolute_error: 20.3538 - val_root_mean_squared_error: 27.4040 - val_mean_absolute_percentage_error: 4027081.7500\n",
      "Epoch 96/100\n",
      "778/778 [==============================] - 16s 21ms/step - loss: 428.3490 - mean_absolute_error: 15.2731 - root_mean_squared_error: 20.6966 - mean_absolute_percentage_error: 12225430.0000 - val_loss: 744.4589 - val_mean_absolute_error: 20.3365 - val_root_mean_squared_error: 27.2848 - val_mean_absolute_percentage_error: 4109825.5000\n",
      "Epoch 97/100\n",
      "778/778 [==============================] - 12s 15ms/step - loss: 427.4494 - mean_absolute_error: 15.2455 - root_mean_squared_error: 20.6749 - mean_absolute_percentage_error: 12185539.0000 - val_loss: 739.3658 - val_mean_absolute_error: 20.2983 - val_root_mean_squared_error: 27.1913 - val_mean_absolute_percentage_error: 4065638.5000\n",
      "Epoch 98/100\n",
      "778/778 [==============================] - 12s 15ms/step - loss: 423.7935 - mean_absolute_error: 15.1928 - root_mean_squared_error: 20.5862 - mean_absolute_percentage_error: 11911174.0000 - val_loss: 735.5225 - val_mean_absolute_error: 20.1858 - val_root_mean_squared_error: 27.1205 - val_mean_absolute_percentage_error: 4035041.5000\n",
      "Epoch 99/100\n",
      "778/778 [==============================] - 12s 16ms/step - loss: 418.8439 - mean_absolute_error: 15.1227 - root_mean_squared_error: 20.4657 - mean_absolute_percentage_error: 11568781.0000 - val_loss: 746.9182 - val_mean_absolute_error: 20.3624 - val_root_mean_squared_error: 27.3298 - val_mean_absolute_percentage_error: 4185393.2500\n",
      "Epoch 100/100\n",
      "778/778 [==============================] - 12s 15ms/step - loss: 418.1843 - mean_absolute_error: 15.0861 - root_mean_squared_error: 20.4496 - mean_absolute_percentage_error: 11700191.0000 - val_loss: 737.0640 - val_mean_absolute_error: 20.1569 - val_root_mean_squared_error: 27.1489 - val_mean_absolute_percentage_error: 4052982.0000\n"
     ]
    },
    {
     "data": {
      "text/plain": [
       "<keras.callbacks.History at 0x21770c2c490>"
      ]
     },
     "execution_count": 48,
     "metadata": {},
     "output_type": "execute_result"
    }
   ],
   "source": [
    "model30.fit((Wt30,Xt30), yt30, validation_split = val_percent,\n",
    "            epochs = 100, \n",
    "            verbose = 1)"
   ]
  },
  {
   "cell_type": "code",
   "execution_count": 49,
   "metadata": {},
   "outputs": [],
   "source": [
    "metrics30 = pd.DataFrame(model30.history.history)"
   ]
  },
  {
   "cell_type": "code",
   "execution_count": 149,
   "metadata": {},
   "outputs": [
    {
     "data": {
      "image/png": "[encoded data removed]",
      "text/plain": [
       "<Figure size 432x288 with 2 Axes>"
      ]
     },
     "metadata": {
      "needs_background": "light"
     },
     "output_type": "display_data"
    }
   ],
   "source": [
    "fig = plt.figure(figsize=(6,4))\n",
    "\n",
    "# Add set of axes to figure\n",
    "axes = fig.add_axes([0, 0, 1, 1]) \n",
    "axes2 = fig.add_axes([0.3, 0.35, 0.5, 0.5]) # Smaller figure\n",
    "axes.plot(metrics30[['loss','val_loss']], label=['train_loss','val_loss'], lw=4)\n",
    "axes.set_ylim(0,4000)\n",
    "\n",
    "axes2.plot(metrics30[['loss','val_loss']], lw=4)\n",
    "axes2.set_xlim(0,20)\n",
    "axes2.set_ylim(500,1500)\n",
    "# plt.xticks(visible=False)\n",
    "plt.yticks(visible=False)\n",
    "\n",
    "axes.set_xlabel('Epoch')\n",
    "axes.set_ylabel('Loss')\n",
    "axes.grid()\n",
    "axes2.grid()\n",
    "\n",
    "mark_inset(axes, axes2, loc1=2, loc2=4, fc=\"0.9\", ec=\"0.1\", ls='--')\n",
    "axes.yaxis.set_major_formatter(formatter)"
   ]
  },
  {
   "cell_type": "code",
   "execution_count": null,
   "metadata": {},
   "outputs": [],
   "source": [
    "model30.save(\"my_dir/8a-30\")"
   ]
  },
  {
   "cell_type": "code",
   "execution_count": 45,
   "metadata": {},
   "outputs": [],
   "source": [
    "model30 = keras.models.load_model(\"my_dir/8a-30\", custom_objects=SeqSelfAttention.get_custom_objects())"
   ]
  },
  {
   "cell_type": "code",
   "execution_count": 46,
   "metadata": {},
   "outputs": [],
   "source": [
    "scaler_filename = \"Best_HP/8a-30\"\n",
    "best_hp30 = joblib.load(scaler_filename)"
   ]
  },
  {
   "cell_type": "code",
   "execution_count": 47,
   "metadata": {},
   "outputs": [
    {
     "data": {
      "text/plain": [
       "{'units': 75, 'filters': 256, 'kernel_size': 2, 'learning_rate': 0.001}"
      ]
     },
     "execution_count": 47,
     "metadata": {},
     "output_type": "execute_result"
    }
   ],
   "source": [
    "best_hp30.values"
   ]
  },
  {
   "cell_type": "code",
   "execution_count": 61,
   "metadata": {},
   "outputs": [
    {
     "data": {
      "text/plain": [
       "(32,)"
      ]
     },
     "execution_count": 61,
     "metadata": {},
     "output_type": "execute_result"
    }
   ],
   "source": [
    "model30.layers[8].get_weights()[2].shape"
   ]
  },
  {
   "cell_type": "code",
   "execution_count": 84,
   "metadata": {},
   "outputs": [
    {
     "data": {
      "image/png": "[encoded data removed]",
      "text/plain": [
       "<Figure size 3600x1200 with 1 Axes>"
      ]
     },
     "metadata": {},
     "output_type": "display_data"
    }
   ],
   "source": [
    "att30_weights = model30.layers[8].get_weights()[0]\n",
    "\n",
    "plt.figure(figsize=(12,4), dpi=300)\n",
    "\n",
    "hmap = sns.heatmap(att30_weights,\n",
    "            xticklabels=False,\n",
    "            yticklabels=False,\n",
    "            cbar=False,\n",
    "            #cbar_kws={'fraction' : 0.01}, # shrink colour bar\n",
    "            cmap='viridis',\n",
    "            robust=True,\n",
    "            square=True,\n",
    "            )\n",
    "plt.axhline(y=38, color='red', linestyle='--')\n",
    "\n",
    "\n",
    "plt.tight_layout()\n",
    "plt.show()"
   ]
  },
  {
   "cell_type": "code",
   "execution_count": 49,
   "metadata": {},
   "outputs": [
    {
     "data": {
      "text/plain": [
       "array([[ 59.023396,  59.745155,  67.867744, ...,  65.548004,  40.758633,\n",
       "         39.20157 ],\n",
       "       [ 53.896374,  54.72494 ,  61.49757 , ...,  59.944668,  39.26347 ,\n",
       "         39.009186],\n",
       "       [ 54.589725,  57.045486,  60.91808 , ...,  58.29884 ,  37.405376,\n",
       "         37.499847],\n",
       "       ...,\n",
       "       [150.7902  , 150.525   , 167.64685 , ..., 166.45932 , 112.65739 ,\n",
       "        101.25629 ],\n",
       "       [128.621   , 132.5793  , 143.09807 , ..., 144.51881 , 102.21831 ,\n",
       "         95.607605],\n",
       "       [127.51357 , 131.42601 , 141.88034 , ..., 134.42348 ,  91.960495,\n",
       "         84.919205]], dtype=float32)"
      ]
     },
     "execution_count": 49,
     "metadata": {},
     "output_type": "execute_result"
    }
   ],
   "source": [
    "model30.predict((Wv30,Xv30))"
   ]
  },
  {
   "cell_type": "markdown",
   "metadata": {},
   "source": [
    "### Evaluation on inverse_transform"
   ]
  },
  {
   "cell_type": "code",
   "execution_count": null,
   "metadata": {},
   "outputs": [],
   "source": [
    "test_predictions30 = model30.predict((Wv30,Xv30))\n",
    "\n",
    "\n",
    "MSE30 = mean_squared_error(yv30,test_predictions30)\n",
    "\n",
    "MAE30 = mean_absolute_error(yv30,test_predictions30)\n",
    "\n",
    "RMSE30 = np.sqrt(MSE30)\n",
    "\n",
    "MAPE30 = mean_absolute_percentage_error(yv30,test_predictions30)*100\n",
    "\n",
    "eval30 = [MSE30, MAE30, RMSE30, MAPE30]\n",
    "print(eval30)"
   ]
  },
  {
   "cell_type": "code",
   "execution_count": 50,
   "metadata": {},
   "outputs": [],
   "source": [
    "test_predictions30 = model30.predict((Wv30,Xv30))\n",
    "\n",
    "\n",
    "MSE30 = mean_squared_error(yv30,test_predictions30,multioutput='raw_values')\n",
    "\n",
    "MAE30 = mean_absolute_error(yv30,test_predictions30,multioutput='raw_values')\n",
    "\n",
    "RMSE30 = mean_squared_error(yv30,test_predictions30,multioutput='raw_values',squared=False)\n",
    "\n",
    "MAPE30 = mean_absolute_percentage_error(yv30,test_predictions30,multioutput='raw_values')*100"
   ]
  },
  {
   "cell_type": "code",
   "execution_count": 51,
   "metadata": {},
   "outputs": [
    {
     "data": {
      "text/plain": [
       "array([19.50623188, 21.43336257, 21.23623007, 16.21087089, 21.51518721,\n",
       "       17.72504631, 14.61677523])"
      ]
     },
     "execution_count": 51,
     "metadata": {},
     "output_type": "execute_result"
    }
   ],
   "source": [
    "MAE30"
   ]
  },
  {
   "cell_type": "code",
   "execution_count": 52,
   "metadata": {},
   "outputs": [
    {
     "data": {
      "text/plain": [
       "array([25.40774522, 28.37509282, 27.57045043, 21.00402363, 27.90847804,\n",
       "       23.3013428 , 19.30284506])"
      ]
     },
     "execution_count": 52,
     "metadata": {},
     "output_type": "execute_result"
    }
   ],
   "source": [
    "RMSE30"
   ]
  },
  {
   "cell_type": "code",
   "execution_count": 53,
   "metadata": {},
   "outputs": [
    {
     "data": {
      "text/plain": [
       "array([10.50546576, 10.60548122,  9.95930181,  8.24953049,  9.46666691,\n",
       "       10.39044762,  9.45098207])"
      ]
     },
     "execution_count": 53,
     "metadata": {},
     "output_type": "execute_result"
    }
   ],
   "source": [
    "MAPE30"
   ]
  },
  {
   "cell_type": "code",
   "execution_count": null,
   "metadata": {},
   "outputs": [],
   "source": [
    "GEH, count = ga.GEH(np.asarray(yv30), np.asarray(test_predictions30))\n",
    "GEH30 = count/GEH.size\n",
    "print(GEH30)"
   ]
  },
  {
   "cell_type": "markdown",
   "metadata": {},
   "source": [
    "# 60 mins ahead"
   ]
  },
  {
   "cell_type": "code",
   "execution_count": 50,
   "metadata": {},
   "outputs": [],
   "source": [
    "def build_model_60(hp):\n",
    "    # Inputs\n",
    "    channel_Wide = keras.layers.Input(shape=Wt60.shape[1:], name=\"WideInput\")\n",
    "    channel_Deep = keras.layers.Input(shape=Xt60.shape[1:], name=\"DeepInput\")\n",
    "    units = hp.Int(\"units\", min_value=1, max_value=100, step=1)\n",
    "    \n",
    "    \n",
    "    # Wide Model\n",
    "    flatten_60w = keras.layers.TimeDistributed(keras.layers.Flatten())(channel_Wide)\n",
    "    Bi_60 = keras.layers.Bidirectional(\n",
    "        keras.layers.LSTM(units=units, return_sequences=True),\n",
    "        merge_mode=\"ave\"\n",
    "    )(flatten_60w)\n",
    "    \n",
    "    \n",
    "    # Deep Model\n",
    "    # CNN \n",
    "    CNN_60 = keras.layers.TimeDistributed(\n",
    "        keras.layers.Conv2D(filters=hp.Int(\"filters\", min_value=32, max_value=512, step=32),\n",
    "                            kernel_size=hp.Choice(\"kernel_size\", [2, 3]), activation='relu'))(channel_Deep)\n",
    "    flatten_60 = keras.layers.TimeDistributed(keras.layers.Flatten())(CNN_60)\n",
    "    # LSTM          \n",
    "    LSTM_60 = keras.layers.LSTM(units=units, return_sequences=True)(flatten_60)\n",
    "\n",
    "    \n",
    "    # Concatenation \n",
    "    concat = keras.layers.concatenate([Bi_60, LSTM_60], axis=1)\n",
    "\n",
    "    # Attention\n",
    "    Att_60 = SeqSelfAttention(attention_activation='sigmoid')(concat)\n",
    "    merge = keras.layers.Flatten()(Att_60)\n",
    "\n",
    "    \n",
    "    # Output\n",
    "    output = keras.layers.Dense(n_features, name= \"output\")(merge)\n",
    "    \n",
    "    # Model\n",
    "    model_60 = keras.Model(inputs=[channel_Wide,channel_Deep], outputs=[output])\n",
    "\n",
    "    # Compile\n",
    "    model_60.compile(optimizer=keras.optimizers.Adam(hp.Choice(\"learning_rate\", [1e-2, 1e-3, 1e-4])), \n",
    "        loss=\"mse\", metrics=['MeanAbsoluteError','RootMeanSquaredError','MeanAbsolutePercentageError'])\n",
    "                    \n",
    "    return model_60"
   ]
  },
  {
   "cell_type": "code",
   "execution_count": 51,
   "metadata": {},
   "outputs": [
    {
     "name": "stdout",
     "output_type": "stream",
     "text": [
      "INFO:tensorflow:Reloading Oracle from existing project C:\\Runs\\8a-60\\oracle.json\n",
      "INFO:tensorflow:Reloading Tuner from C:\\Runs\\8a-60\\tuner0.json\n"
     ]
    }
   ],
   "source": [
    "tuner60 = RandomSearch(\n",
    "    build_model_60,\n",
    "    objective=\"val_loss\",\n",
    "    max_trials=60,\n",
    "    executions_per_trial=2,\n",
    "    overwrite=False,\n",
    "    directory=os.path.normpath('C:/Runs'),\n",
    "    project_name=\"8a-60\",\n",
    ")"
   ]
  },
  {
   "cell_type": "code",
   "execution_count": null,
   "metadata": {},
   "outputs": [],
   "source": [
    "tuner60.search_space_summary()"
   ]
  },
  {
   "cell_type": "code",
   "execution_count": null,
   "metadata": {},
   "outputs": [],
   "source": [
    "tuner60.search((Wt60,Xt60), yt60, epochs=200,\n",
    "            validation_split = val_percent,\n",
    "            callbacks=[early_stop],\n",
    "            verbose=2)"
   ]
  },
  {
   "cell_type": "code",
   "execution_count": null,
   "metadata": {},
   "outputs": [],
   "source": [
    "tuner60.results_summary(1)"
   ]
  },
  {
   "cell_type": "markdown",
   "metadata": {},
   "source": [
    "### Best model"
   ]
  },
  {
   "cell_type": "code",
   "execution_count": 52,
   "metadata": {},
   "outputs": [],
   "source": [
    "scaler_filename = \"Best_HP/8a-60\"\n",
    "best_hp60 = joblib.load(scaler_filename) \n",
    "\n",
    "model60 = tuner60.hypermodel.build(best_hp60)"
   ]
  },
  {
   "cell_type": "code",
   "execution_count": null,
   "metadata": {},
   "outputs": [],
   "source": [
    "best_hp60 = tuner60.get_best_hyperparameters()[0]\n",
    "model60 = tuner60.hypermodel.build(best_hp60)"
   ]
  },
  {
   "cell_type": "code",
   "execution_count": null,
   "metadata": {},
   "outputs": [],
   "source": [
    "scaler_filename = \"Best_HP/8a-60\"\n",
    "joblib.dump(best_hp60, scaler_filename) "
   ]
  },
  {
   "cell_type": "code",
   "execution_count": null,
   "metadata": {},
   "outputs": [],
   "source": [
    "model60.summary()"
   ]
  },
  {
   "cell_type": "code",
   "execution_count": 53,
   "metadata": {},
   "outputs": [
    {
     "name": "stdout",
     "output_type": "stream",
     "text": [
      "Epoch 1/100\n",
      "777/777 [==============================] - 18s 17ms/step - loss: 31725.4238 - mean_absolute_error: 142.5234 - root_mean_squared_error: 178.1161 - mean_absolute_percentage_error: 52524380.0000 - val_loss: 13815.0459 - val_mean_absolute_error: 89.7127 - val_root_mean_squared_error: 117.5374 - val_mean_absolute_percentage_error: 4014948.7500\n",
      "Epoch 2/100\n",
      "777/777 [==============================] - 11s 14ms/step - loss: 7603.7993 - mean_absolute_error: 61.3092 - root_mean_squared_error: 87.1998 - mean_absolute_percentage_error: 49133468.0000 - val_loss: 3789.6682 - val_mean_absolute_error: 42.6661 - val_root_mean_squared_error: 61.5603 - val_mean_absolute_percentage_error: 3622925.5000\n",
      "Epoch 3/100\n",
      "777/777 [==============================] - 11s 14ms/step - loss: 2547.7869 - mean_absolute_error: 34.3151 - root_mean_squared_error: 50.4756 - mean_absolute_percentage_error: 45232008.0000 - val_loss: 1819.7402 - val_mean_absolute_error: 29.9900 - val_root_mean_squared_error: 42.6584 - val_mean_absolute_percentage_error: 3462863.2500\n",
      "Epoch 4/100\n",
      "777/777 [==============================] - 11s 14ms/step - loss: 1401.1046 - mean_absolute_error: 26.3776 - root_mean_squared_error: 37.4313 - mean_absolute_percentage_error: 44544696.0000 - val_loss: 1306.4431 - val_mean_absolute_error: 25.8225 - val_root_mean_squared_error: 36.1448 - val_mean_absolute_percentage_error: 3197222.0000\n",
      "Epoch 5/100\n",
      "777/777 [==============================] - 11s 14ms/step - loss: 1048.5048 - mean_absolute_error: 23.3299 - root_mean_squared_error: 32.3806 - mean_absolute_percentage_error: 45816660.0000 - val_loss: 1116.8961 - val_mean_absolute_error: 24.0045 - val_root_mean_squared_error: 33.4200 - val_mean_absolute_percentage_error: 3176449.2500\n",
      "Epoch 6/100\n",
      "777/777 [==============================] - 11s 14ms/step - loss: 919.6279 - mean_absolute_error: 22.0074 - root_mean_squared_error: 30.3254 - mean_absolute_percentage_error: 48255984.0000 - val_loss: 1059.7301 - val_mean_absolute_error: 23.3316 - val_root_mean_squared_error: 32.5535 - val_mean_absolute_percentage_error: 3654095.0000\n",
      "Epoch 7/100\n",
      "777/777 [==============================] - 11s 15ms/step - loss: 863.8092 - mean_absolute_error: 21.3796 - root_mean_squared_error: 29.3906 - mean_absolute_percentage_error: 50544384.0000 - val_loss: 1007.7239 - val_mean_absolute_error: 22.7060 - val_root_mean_squared_error: 31.7447 - val_mean_absolute_percentage_error: 3204295.0000\n",
      "Epoch 8/100\n",
      "777/777 [==============================] - 11s 14ms/step - loss: 836.9883 - mean_absolute_error: 21.0586 - root_mean_squared_error: 28.9308 - mean_absolute_percentage_error: 51796652.0000 - val_loss: 988.1729 - val_mean_absolute_error: 22.5102 - val_root_mean_squared_error: 31.4352 - val_mean_absolute_percentage_error: 3614546.7500\n",
      "Epoch 9/100\n",
      "777/777 [==============================] - 11s 15ms/step - loss: 819.2690 - mean_absolute_error: 20.8428 - root_mean_squared_error: 28.6229 - mean_absolute_percentage_error: 52720192.0000 - val_loss: 992.4572 - val_mean_absolute_error: 22.5037 - val_root_mean_squared_error: 31.5033 - val_mean_absolute_percentage_error: 3678333.2500\n",
      "Epoch 10/100\n",
      "777/777 [==============================] - 11s 14ms/step - loss: 808.9340 - mean_absolute_error: 20.7084 - root_mean_squared_error: 28.4418 - mean_absolute_percentage_error: 53242792.0000 - val_loss: 989.7833 - val_mean_absolute_error: 22.3679 - val_root_mean_squared_error: 31.4608 - val_mean_absolute_percentage_error: 3628207.0000\n",
      "Epoch 11/100\n",
      "777/777 [==============================] - 12s 15ms/step - loss: 797.3856 - mean_absolute_error: 20.5852 - root_mean_squared_error: 28.2380 - mean_absolute_percentage_error: 52502664.0000 - val_loss: 986.8986 - val_mean_absolute_error: 22.3265 - val_root_mean_squared_error: 31.4149 - val_mean_absolute_percentage_error: 3908608.7500\n",
      "Epoch 12/100\n",
      "777/777 [==============================] - 11s 15ms/step - loss: 786.5925 - mean_absolute_error: 20.4367 - root_mean_squared_error: 28.0463 - mean_absolute_percentage_error: 52704128.0000 - val_loss: 974.1115 - val_mean_absolute_error: 22.2675 - val_root_mean_squared_error: 31.2108 - val_mean_absolute_percentage_error: 3934225.7500\n",
      "Epoch 13/100\n",
      "777/777 [==============================] - 11s 15ms/step - loss: 775.8136 - mean_absolute_error: 20.2984 - root_mean_squared_error: 27.8534 - mean_absolute_percentage_error: 52623496.0000 - val_loss: 973.6323 - val_mean_absolute_error: 22.1529 - val_root_mean_squared_error: 31.2031 - val_mean_absolute_percentage_error: 3895813.2500\n",
      "Epoch 14/100\n",
      "777/777 [==============================] - 11s 15ms/step - loss: 765.8580 - mean_absolute_error: 20.1807 - root_mean_squared_error: 27.6741 - mean_absolute_percentage_error: 52775392.0000 - val_loss: 979.8569 - val_mean_absolute_error: 22.1439 - val_root_mean_squared_error: 31.3027 - val_mean_absolute_percentage_error: 3997951.2500\n",
      "Epoch 15/100\n",
      "777/777 [==============================] - 12s 15ms/step - loss: 758.4775 - mean_absolute_error: 20.0863 - root_mean_squared_error: 27.5405 - mean_absolute_percentage_error: 51718532.0000 - val_loss: 970.8474 - val_mean_absolute_error: 22.0583 - val_root_mean_squared_error: 31.1584 - val_mean_absolute_percentage_error: 4339416.0000\n",
      "Epoch 16/100\n",
      "777/777 [==============================] - 11s 14ms/step - loss: 749.8448 - mean_absolute_error: 19.9903 - root_mean_squared_error: 27.3833 - mean_absolute_percentage_error: 49887784.0000 - val_loss: 962.1685 - val_mean_absolute_error: 21.8956 - val_root_mean_squared_error: 31.0188 - val_mean_absolute_percentage_error: 4287046.0000\n",
      "Epoch 17/100\n",
      "777/777 [==============================] - 11s 14ms/step - loss: 741.8202 - mean_absolute_error: 19.8791 - root_mean_squared_error: 27.2364 - mean_absolute_percentage_error: 48610036.0000 - val_loss: 960.7421 - val_mean_absolute_error: 21.9298 - val_root_mean_squared_error: 30.9958 - val_mean_absolute_percentage_error: 4204181.5000\n",
      "Epoch 18/100\n",
      "777/777 [==============================] - 12s 15ms/step - loss: 733.7139 - mean_absolute_error: 19.7777 - root_mean_squared_error: 27.0872 - mean_absolute_percentage_error: 47742636.0000 - val_loss: 955.5298 - val_mean_absolute_error: 21.7907 - val_root_mean_squared_error: 30.9116 - val_mean_absolute_percentage_error: 4215694.5000\n",
      "Epoch 19/100\n",
      "777/777 [==============================] - 11s 14ms/step - loss: 726.2068 - mean_absolute_error: 19.6760 - root_mean_squared_error: 26.9482 - mean_absolute_percentage_error: 47675540.0000 - val_loss: 957.7614 - val_mean_absolute_error: 21.9167 - val_root_mean_squared_error: 30.9477 - val_mean_absolute_percentage_error: 4347161.0000\n",
      "Epoch 20/100\n",
      "777/777 [==============================] - 11s 15ms/step - loss: 720.4009 - mean_absolute_error: 19.5997 - root_mean_squared_error: 26.8403 - mean_absolute_percentage_error: 46745620.0000 - val_loss: 930.4964 - val_mean_absolute_error: 21.5483 - val_root_mean_squared_error: 30.5040 - val_mean_absolute_percentage_error: 4243089.0000\n",
      "Epoch 21/100\n",
      "777/777 [==============================] - 12s 15ms/step - loss: 712.9598 - mean_absolute_error: 19.5041 - root_mean_squared_error: 26.7013 - mean_absolute_percentage_error: 46056108.0000 - val_loss: 936.4435 - val_mean_absolute_error: 21.6343 - val_root_mean_squared_error: 30.6014 - val_mean_absolute_percentage_error: 4243187.5000\n",
      "Epoch 22/100\n",
      "777/777 [==============================] - 11s 14ms/step - loss: 708.6623 - mean_absolute_error: 19.4456 - root_mean_squared_error: 26.6207 - mean_absolute_percentage_error: 44837536.0000 - val_loss: 928.1182 - val_mean_absolute_error: 21.4956 - val_root_mean_squared_error: 30.4650 - val_mean_absolute_percentage_error: 4066733.2500\n",
      "Epoch 23/100\n",
      "777/777 [==============================] - 11s 14ms/step - loss: 705.1838 - mean_absolute_error: 19.4049 - root_mean_squared_error: 26.5553 - mean_absolute_percentage_error: 43607788.0000 - val_loss: 921.1419 - val_mean_absolute_error: 21.4406 - val_root_mean_squared_error: 30.3503 - val_mean_absolute_percentage_error: 4117965.2500\n",
      "Epoch 24/100\n",
      "777/777 [==============================] - 11s 14ms/step - loss: 699.9960 - mean_absolute_error: 19.3341 - root_mean_squared_error: 26.4575 - mean_absolute_percentage_error: 43545740.0000 - val_loss: 929.6433 - val_mean_absolute_error: 21.4964 - val_root_mean_squared_error: 30.4900 - val_mean_absolute_percentage_error: 4171421.5000\n"
     ]
    },
    {
     "name": "stdout",
     "output_type": "stream",
     "text": [
      "Epoch 25/100\n",
      "777/777 [==============================] - 11s 14ms/step - loss: 696.3712 - mean_absolute_error: 19.2853 - root_mean_squared_error: 26.3889 - mean_absolute_percentage_error: 42540276.0000 - val_loss: 911.6769 - val_mean_absolute_error: 21.2641 - val_root_mean_squared_error: 30.1940 - val_mean_absolute_percentage_error: 4227975.0000\n",
      "Epoch 26/100\n",
      "777/777 [==============================] - 11s 15ms/step - loss: 691.4035 - mean_absolute_error: 19.2225 - root_mean_squared_error: 26.2945 - mean_absolute_percentage_error: 42448232.0000 - val_loss: 913.6364 - val_mean_absolute_error: 21.4821 - val_root_mean_squared_error: 30.2264 - val_mean_absolute_percentage_error: 4471427.0000\n",
      "Epoch 27/100\n",
      "777/777 [==============================] - 12s 15ms/step - loss: 686.3575 - mean_absolute_error: 19.1446 - root_mean_squared_error: 26.1984 - mean_absolute_percentage_error: 41841732.0000 - val_loss: 913.7371 - val_mean_absolute_error: 21.4268 - val_root_mean_squared_error: 30.2281 - val_mean_absolute_percentage_error: 4347683.5000\n",
      "Epoch 28/100\n",
      "777/777 [==============================] - 11s 14ms/step - loss: 684.5834 - mean_absolute_error: 19.1280 - root_mean_squared_error: 26.1646 - mean_absolute_percentage_error: 41488940.0000 - val_loss: 910.5013 - val_mean_absolute_error: 21.3162 - val_root_mean_squared_error: 30.1745 - val_mean_absolute_percentage_error: 4222348.5000\n",
      "Epoch 29/100\n",
      "777/777 [==============================] - 11s 14ms/step - loss: 680.5032 - mean_absolute_error: 19.0695 - root_mean_squared_error: 26.0865 - mean_absolute_percentage_error: 41203368.0000 - val_loss: 915.0809 - val_mean_absolute_error: 21.3730 - val_root_mean_squared_error: 30.2503 - val_mean_absolute_percentage_error: 4456336.5000\n",
      "Epoch 30/100\n",
      "777/777 [==============================] - 11s 15ms/step - loss: 678.4710 - mean_absolute_error: 19.0496 - root_mean_squared_error: 26.0475 - mean_absolute_percentage_error: 40766476.0000 - val_loss: 905.4450 - val_mean_absolute_error: 21.2566 - val_root_mean_squared_error: 30.0906 - val_mean_absolute_percentage_error: 4262633.5000\n",
      "Epoch 31/100\n",
      "777/777 [==============================] - 11s 14ms/step - loss: 674.5003 - mean_absolute_error: 19.0022 - root_mean_squared_error: 25.9712 - mean_absolute_percentage_error: 40223448.0000 - val_loss: 894.6539 - val_mean_absolute_error: 21.2665 - val_root_mean_squared_error: 29.9108 - val_mean_absolute_percentage_error: 4303302.5000\n",
      "Epoch 32/100\n",
      "777/777 [==============================] - 11s 15ms/step - loss: 672.3321 - mean_absolute_error: 18.9718 - root_mean_squared_error: 25.9294 - mean_absolute_percentage_error: 39668332.0000 - val_loss: 899.9276 - val_mean_absolute_error: 21.2378 - val_root_mean_squared_error: 29.9988 - val_mean_absolute_percentage_error: 4401775.5000\n",
      "Epoch 33/100\n",
      "777/777 [==============================] - 10s 13ms/step - loss: 669.3414 - mean_absolute_error: 18.9300 - root_mean_squared_error: 25.8716 - mean_absolute_percentage_error: 39617820.0000 - val_loss: 899.2614 - val_mean_absolute_error: 21.1861 - val_root_mean_squared_error: 29.9877 - val_mean_absolute_percentage_error: 4460252.0000\n",
      "Epoch 34/100\n",
      "777/777 [==============================] - 10s 13ms/step - loss: 665.0910 - mean_absolute_error: 18.8771 - root_mean_squared_error: 25.7894 - mean_absolute_percentage_error: 38501328.0000 - val_loss: 891.4054 - val_mean_absolute_error: 21.1808 - val_root_mean_squared_error: 29.8564 - val_mean_absolute_percentage_error: 4032371.0000\n",
      "Epoch 35/100\n",
      "777/777 [==============================] - 10s 13ms/step - loss: 662.2454 - mean_absolute_error: 18.8419 - root_mean_squared_error: 25.7341 - mean_absolute_percentage_error: 37862708.0000 - val_loss: 888.9482 - val_mean_absolute_error: 21.1904 - val_root_mean_squared_error: 29.8152 - val_mean_absolute_percentage_error: 4092995.2500\n",
      "Epoch 36/100\n",
      "777/777 [==============================] - 11s 14ms/step - loss: 662.1363 - mean_absolute_error: 18.8345 - root_mean_squared_error: 25.7320 - mean_absolute_percentage_error: 37660400.0000 - val_loss: 878.9407 - val_mean_absolute_error: 21.0713 - val_root_mean_squared_error: 29.6469 - val_mean_absolute_percentage_error: 4168327.7500\n",
      "Epoch 37/100\n",
      "777/777 [==============================] - 11s 14ms/step - loss: 658.7990 - mean_absolute_error: 18.7897 - root_mean_squared_error: 25.6671 - mean_absolute_percentage_error: 36634636.0000 - val_loss: 875.2330 - val_mean_absolute_error: 21.1005 - val_root_mean_squared_error: 29.5843 - val_mean_absolute_percentage_error: 4200390.5000\n",
      "Epoch 38/100\n",
      "777/777 [==============================] - 11s 14ms/step - loss: 656.8448 - mean_absolute_error: 18.7759 - root_mean_squared_error: 25.6290 - mean_absolute_percentage_error: 36254460.0000 - val_loss: 884.9535 - val_mean_absolute_error: 21.1066 - val_root_mean_squared_error: 29.7482 - val_mean_absolute_percentage_error: 4073942.5000\n",
      "Epoch 39/100\n",
      "777/777 [==============================] - 11s 15ms/step - loss: 653.3341 - mean_absolute_error: 18.7284 - root_mean_squared_error: 25.5604 - mean_absolute_percentage_error: 35871076.0000 - val_loss: 893.7449 - val_mean_absolute_error: 21.2508 - val_root_mean_squared_error: 29.8956 - val_mean_absolute_percentage_error: 4206122.0000\n",
      "Epoch 40/100\n",
      "777/777 [==============================] - 11s 15ms/step - loss: 651.0050 - mean_absolute_error: 18.6836 - root_mean_squared_error: 25.5148 - mean_absolute_percentage_error: 35218168.0000 - val_loss: 890.3513 - val_mean_absolute_error: 21.3238 - val_root_mean_squared_error: 29.8388 - val_mean_absolute_percentage_error: 4440057.0000\n",
      "Epoch 41/100\n",
      "777/777 [==============================] - 11s 15ms/step - loss: 650.0753 - mean_absolute_error: 18.6813 - root_mean_squared_error: 25.4966 - mean_absolute_percentage_error: 35016000.0000 - val_loss: 870.1118 - val_mean_absolute_error: 20.9002 - val_root_mean_squared_error: 29.4977 - val_mean_absolute_percentage_error: 4293486.0000\n",
      "Epoch 42/100\n",
      "777/777 [==============================] - 12s 15ms/step - loss: 646.5159 - mean_absolute_error: 18.6330 - root_mean_squared_error: 25.4267 - mean_absolute_percentage_error: 34658284.0000 - val_loss: 886.7960 - val_mean_absolute_error: 21.1637 - val_root_mean_squared_error: 29.7791 - val_mean_absolute_percentage_error: 4133424.0000\n",
      "Epoch 43/100\n",
      "777/777 [==============================] - 11s 14ms/step - loss: 644.4760 - mean_absolute_error: 18.6121 - root_mean_squared_error: 25.3865 - mean_absolute_percentage_error: 34217456.0000 - val_loss: 871.9805 - val_mean_absolute_error: 20.9389 - val_root_mean_squared_error: 29.5293 - val_mean_absolute_percentage_error: 4166873.5000\n",
      "Epoch 44/100\n",
      "777/777 [==============================] - 10s 13ms/step - loss: 643.0078 - mean_absolute_error: 18.6050 - root_mean_squared_error: 25.3576 - mean_absolute_percentage_error: 33903152.0000 - val_loss: 896.2566 - val_mean_absolute_error: 21.3378 - val_root_mean_squared_error: 29.9375 - val_mean_absolute_percentage_error: 4383863.0000\n",
      "Epoch 45/100\n",
      "777/777 [==============================] - 11s 14ms/step - loss: 639.2607 - mean_absolute_error: 18.5473 - root_mean_squared_error: 25.2836 - mean_absolute_percentage_error: 33169724.0000 - val_loss: 864.9200 - val_mean_absolute_error: 21.0036 - val_root_mean_squared_error: 29.4095 - val_mean_absolute_percentage_error: 4366327.5000\n",
      "Epoch 46/100\n",
      "777/777 [==============================] - 11s 14ms/step - loss: 640.3742 - mean_absolute_error: 18.5491 - root_mean_squared_error: 25.3056 - mean_absolute_percentage_error: 32861496.0000 - val_loss: 871.1070 - val_mean_absolute_error: 20.9891 - val_root_mean_squared_error: 29.5145 - val_mean_absolute_percentage_error: 4288901.0000\n",
      "Epoch 47/100\n",
      "777/777 [==============================] - 11s 14ms/step - loss: 637.2618 - mean_absolute_error: 18.5146 - root_mean_squared_error: 25.2440 - mean_absolute_percentage_error: 32869354.0000 - val_loss: 851.3922 - val_mean_absolute_error: 20.7832 - val_root_mean_squared_error: 29.1786 - val_mean_absolute_percentage_error: 4160347.0000\n",
      "Epoch 48/100\n",
      "777/777 [==============================] - 11s 14ms/step - loss: 634.6539 - mean_absolute_error: 18.4759 - root_mean_squared_error: 25.1923 - mean_absolute_percentage_error: 32204928.0000 - val_loss: 858.2377 - val_mean_absolute_error: 20.8731 - val_root_mean_squared_error: 29.2957 - val_mean_absolute_percentage_error: 4229848.5000\n"
     ]
    },
    {
     "name": "stdout",
     "output_type": "stream",
     "text": [
      "Epoch 49/100\n",
      "777/777 [==============================] - 11s 14ms/step - loss: 632.7033 - mean_absolute_error: 18.4481 - root_mean_squared_error: 25.1536 - mean_absolute_percentage_error: 32349750.0000 - val_loss: 893.2891 - val_mean_absolute_error: 21.3035 - val_root_mean_squared_error: 29.8879 - val_mean_absolute_percentage_error: 4241548.5000\n",
      "Epoch 50/100\n",
      "777/777 [==============================] - 11s 14ms/step - loss: 631.5676 - mean_absolute_error: 18.4379 - root_mean_squared_error: 25.1310 - mean_absolute_percentage_error: 31498720.0000 - val_loss: 865.9794 - val_mean_absolute_error: 20.9439 - val_root_mean_squared_error: 29.4275 - val_mean_absolute_percentage_error: 4081266.2500\n",
      "Epoch 51/100\n",
      "777/777 [==============================] - 11s 14ms/step - loss: 630.0419 - mean_absolute_error: 18.4226 - root_mean_squared_error: 25.1006 - mean_absolute_percentage_error: 31335868.0000 - val_loss: 865.0246 - val_mean_absolute_error: 21.0283 - val_root_mean_squared_error: 29.4113 - val_mean_absolute_percentage_error: 4225136.5000\n",
      "Epoch 52/100\n",
      "777/777 [==============================] - 12s 15ms/step - loss: 627.5419 - mean_absolute_error: 18.3892 - root_mean_squared_error: 25.0508 - mean_absolute_percentage_error: 31272238.0000 - val_loss: 862.1263 - val_mean_absolute_error: 20.9291 - val_root_mean_squared_error: 29.3620 - val_mean_absolute_percentage_error: 4075070.2500\n",
      "Epoch 53/100\n",
      "777/777 [==============================] - 11s 15ms/step - loss: 625.6997 - mean_absolute_error: 18.3625 - root_mean_squared_error: 25.0140 - mean_absolute_percentage_error: 30798308.0000 - val_loss: 867.6627 - val_mean_absolute_error: 20.9968 - val_root_mean_squared_error: 29.4561 - val_mean_absolute_percentage_error: 4160186.2500\n",
      "Epoch 54/100\n",
      "777/777 [==============================] - 12s 15ms/step - loss: 624.0627 - mean_absolute_error: 18.3434 - root_mean_squared_error: 24.9813 - mean_absolute_percentage_error: 30683206.0000 - val_loss: 860.1134 - val_mean_absolute_error: 20.8792 - val_root_mean_squared_error: 29.3277 - val_mean_absolute_percentage_error: 4093359.5000\n",
      "Epoch 55/100\n",
      "777/777 [==============================] - 12s 15ms/step - loss: 621.3101 - mean_absolute_error: 18.3134 - root_mean_squared_error: 24.9261 - mean_absolute_percentage_error: 29759596.0000 - val_loss: 856.6792 - val_mean_absolute_error: 20.9003 - val_root_mean_squared_error: 29.2691 - val_mean_absolute_percentage_error: 4249797.5000\n",
      "Epoch 56/100\n",
      "777/777 [==============================] - 11s 15ms/step - loss: 618.6132 - mean_absolute_error: 18.2751 - root_mean_squared_error: 24.8719 - mean_absolute_percentage_error: 29813336.0000 - val_loss: 881.9944 - val_mean_absolute_error: 21.1567 - val_root_mean_squared_error: 29.6984 - val_mean_absolute_percentage_error: 4224588.0000\n",
      "Epoch 57/100\n",
      "777/777 [==============================] - 11s 14ms/step - loss: 618.4569 - mean_absolute_error: 18.2710 - root_mean_squared_error: 24.8688 - mean_absolute_percentage_error: 29619402.0000 - val_loss: 867.2417 - val_mean_absolute_error: 21.0091 - val_root_mean_squared_error: 29.4490 - val_mean_absolute_percentage_error: 4052391.2500\n",
      "Epoch 58/100\n",
      "777/777 [==============================] - 11s 14ms/step - loss: 616.3604 - mean_absolute_error: 18.2514 - root_mean_squared_error: 24.8266 - mean_absolute_percentage_error: 29198442.0000 - val_loss: 866.2641 - val_mean_absolute_error: 21.1637 - val_root_mean_squared_error: 29.4324 - val_mean_absolute_percentage_error: 4369520.5000\n",
      "Epoch 59/100\n",
      "777/777 [==============================] - 13s 17ms/step - loss: 613.4849 - mean_absolute_error: 18.2209 - root_mean_squared_error: 24.7686 - mean_absolute_percentage_error: 28663320.0000 - val_loss: 879.4949 - val_mean_absolute_error: 21.2154 - val_root_mean_squared_error: 29.6563 - val_mean_absolute_percentage_error: 4262677.0000\n",
      "Epoch 60/100\n",
      "777/777 [==============================] - 11s 14ms/step - loss: 612.9081 - mean_absolute_error: 18.2081 - root_mean_squared_error: 24.7570 - mean_absolute_percentage_error: 28477420.0000 - val_loss: 853.3189 - val_mean_absolute_error: 20.8646 - val_root_mean_squared_error: 29.2116 - val_mean_absolute_percentage_error: 3992272.5000\n",
      "Epoch 61/100\n",
      "777/777 [==============================] - 12s 15ms/step - loss: 609.2991 - mean_absolute_error: 18.1544 - root_mean_squared_error: 24.6840 - mean_absolute_percentage_error: 27845126.0000 - val_loss: 874.6564 - val_mean_absolute_error: 21.1595 - val_root_mean_squared_error: 29.5746 - val_mean_absolute_percentage_error: 4190748.0000\n",
      "Epoch 62/100\n",
      "777/777 [==============================] - 12s 15ms/step - loss: 607.9640 - mean_absolute_error: 18.1474 - root_mean_squared_error: 24.6569 - mean_absolute_percentage_error: 27577650.0000 - val_loss: 870.2736 - val_mean_absolute_error: 21.0395 - val_root_mean_squared_error: 29.5004 - val_mean_absolute_percentage_error: 4090600.5000\n",
      "Epoch 63/100\n",
      "777/777 [==============================] - 11s 14ms/step - loss: 607.1537 - mean_absolute_error: 18.1280 - root_mean_squared_error: 24.6405 - mean_absolute_percentage_error: 27721676.0000 - val_loss: 863.6172 - val_mean_absolute_error: 20.9735 - val_root_mean_squared_error: 29.3874 - val_mean_absolute_percentage_error: 4219214.5000\n",
      "Epoch 64/100\n",
      "777/777 [==============================] - 11s 14ms/step - loss: 603.5787 - mean_absolute_error: 18.0757 - root_mean_squared_error: 24.5678 - mean_absolute_percentage_error: 27572816.0000 - val_loss: 843.7779 - val_mean_absolute_error: 20.7832 - val_root_mean_squared_error: 29.0479 - val_mean_absolute_percentage_error: 4106621.5000\n",
      "Epoch 65/100\n",
      "777/777 [==============================] - 11s 14ms/step - loss: 605.0376 - mean_absolute_error: 18.1029 - root_mean_squared_error: 24.5975 - mean_absolute_percentage_error: 27086338.0000 - val_loss: 860.5253 - val_mean_absolute_error: 20.8799 - val_root_mean_squared_error: 29.3347 - val_mean_absolute_percentage_error: 4025606.5000\n",
      "Epoch 66/100\n",
      "777/777 [==============================] - 12s 15ms/step - loss: 600.6270 - mean_absolute_error: 18.0396 - root_mean_squared_error: 24.5077 - mean_absolute_percentage_error: 27063624.0000 - val_loss: 859.4914 - val_mean_absolute_error: 20.9193 - val_root_mean_squared_error: 29.3171 - val_mean_absolute_percentage_error: 4080019.2500\n",
      "Epoch 67/100\n",
      "777/777 [==============================] - 12s 16ms/step - loss: 599.9126 - mean_absolute_error: 18.0218 - root_mean_squared_error: 24.4931 - mean_absolute_percentage_error: 26623160.0000 - val_loss: 839.2844 - val_mean_absolute_error: 20.6962 - val_root_mean_squared_error: 28.9704 - val_mean_absolute_percentage_error: 4157068.0000\n",
      "Epoch 68/100\n",
      "777/777 [==============================] - 12s 15ms/step - loss: 599.3273 - mean_absolute_error: 18.0158 - root_mean_squared_error: 24.4812 - mean_absolute_percentage_error: 26898564.0000 - val_loss: 842.6740 - val_mean_absolute_error: 20.7435 - val_root_mean_squared_error: 29.0288 - val_mean_absolute_percentage_error: 4078228.0000\n",
      "Epoch 69/100\n",
      "777/777 [==============================] - 11s 14ms/step - loss: 596.7284 - mean_absolute_error: 17.9928 - root_mean_squared_error: 24.4280 - mean_absolute_percentage_error: 26471472.0000 - val_loss: 863.8715 - val_mean_absolute_error: 20.9417 - val_root_mean_squared_error: 29.3917 - val_mean_absolute_percentage_error: 4100651.2500\n",
      "Epoch 70/100\n",
      "777/777 [==============================] - 11s 14ms/step - loss: 595.3170 - mean_absolute_error: 17.9761 - root_mean_squared_error: 24.3991 - mean_absolute_percentage_error: 26556324.0000 - val_loss: 839.5276 - val_mean_absolute_error: 20.6689 - val_root_mean_squared_error: 28.9746 - val_mean_absolute_percentage_error: 4020687.5000\n",
      "Epoch 71/100\n",
      "777/777 [==============================] - 11s 14ms/step - loss: 593.6794 - mean_absolute_error: 17.9384 - root_mean_squared_error: 24.3655 - mean_absolute_percentage_error: 25794814.0000 - val_loss: 861.6492 - val_mean_absolute_error: 20.9575 - val_root_mean_squared_error: 29.3539 - val_mean_absolute_percentage_error: 4130709.5000\n",
      "Epoch 72/100\n",
      "777/777 [==============================] - 11s 14ms/step - loss: 593.1304 - mean_absolute_error: 17.9443 - root_mean_squared_error: 24.3543 - mean_absolute_percentage_error: 26167928.0000 - val_loss: 854.0707 - val_mean_absolute_error: 20.8356 - val_root_mean_squared_error: 29.2245 - val_mean_absolute_percentage_error: 4014306.7500\n"
     ]
    },
    {
     "name": "stdout",
     "output_type": "stream",
     "text": [
      "Epoch 73/100\n",
      "777/777 [==============================] - 11s 14ms/step - loss: 591.7041 - mean_absolute_error: 17.9160 - root_mean_squared_error: 24.3250 - mean_absolute_percentage_error: 26058566.0000 - val_loss: 845.4030 - val_mean_absolute_error: 20.7294 - val_root_mean_squared_error: 29.0758 - val_mean_absolute_percentage_error: 3992017.7500\n",
      "Epoch 74/100\n",
      "777/777 [==============================] - 11s 14ms/step - loss: 589.7394 - mean_absolute_error: 17.8928 - root_mean_squared_error: 24.2845 - mean_absolute_percentage_error: 25871282.0000 - val_loss: 861.4728 - val_mean_absolute_error: 20.9870 - val_root_mean_squared_error: 29.3509 - val_mean_absolute_percentage_error: 3977153.5000\n",
      "Epoch 75/100\n",
      "777/777 [==============================] - 11s 14ms/step - loss: 588.9634 - mean_absolute_error: 17.8645 - root_mean_squared_error: 24.2686 - mean_absolute_percentage_error: 25491904.0000 - val_loss: 837.2209 - val_mean_absolute_error: 20.7254 - val_root_mean_squared_error: 28.9348 - val_mean_absolute_percentage_error: 4223981.5000\n",
      "Epoch 76/100\n",
      "777/777 [==============================] - 11s 14ms/step - loss: 587.4414 - mean_absolute_error: 17.8635 - root_mean_squared_error: 24.2372 - mean_absolute_percentage_error: 25416362.0000 - val_loss: 843.5485 - val_mean_absolute_error: 20.7689 - val_root_mean_squared_error: 29.0439 - val_mean_absolute_percentage_error: 4137674.7500\n",
      "Epoch 77/100\n",
      "777/777 [==============================] - 11s 14ms/step - loss: 586.0179 - mean_absolute_error: 17.8520 - root_mean_squared_error: 24.2078 - mean_absolute_percentage_error: 24896004.0000 - val_loss: 833.5046 - val_mean_absolute_error: 20.6516 - val_root_mean_squared_error: 28.8705 - val_mean_absolute_percentage_error: 4003576.0000\n",
      "Epoch 78/100\n",
      "777/777 [==============================] - 11s 14ms/step - loss: 582.9569 - mean_absolute_error: 17.7938 - root_mean_squared_error: 24.1445 - mean_absolute_percentage_error: 24862466.0000 - val_loss: 854.7392 - val_mean_absolute_error: 20.9929 - val_root_mean_squared_error: 29.2359 - val_mean_absolute_percentage_error: 4214059.0000\n",
      "Epoch 79/100\n",
      "777/777 [==============================] - 11s 14ms/step - loss: 583.8889 - mean_absolute_error: 17.8055 - root_mean_squared_error: 24.1638 - mean_absolute_percentage_error: 24229124.0000 - val_loss: 869.3265 - val_mean_absolute_error: 21.0766 - val_root_mean_squared_error: 29.4843 - val_mean_absolute_percentage_error: 4010716.0000\n",
      "Epoch 80/100\n",
      "777/777 [==============================] - 11s 14ms/step - loss: 582.0376 - mean_absolute_error: 17.7760 - root_mean_squared_error: 24.1255 - mean_absolute_percentage_error: 24577218.0000 - val_loss: 842.8457 - val_mean_absolute_error: 20.8560 - val_root_mean_squared_error: 29.0318 - val_mean_absolute_percentage_error: 4136695.0000\n",
      "Epoch 81/100\n",
      "777/777 [==============================] - 11s 14ms/step - loss: 579.5396 - mean_absolute_error: 17.7498 - root_mean_squared_error: 24.0736 - mean_absolute_percentage_error: 24638234.0000 - val_loss: 838.3062 - val_mean_absolute_error: 20.7777 - val_root_mean_squared_error: 28.9535 - val_mean_absolute_percentage_error: 4025923.7500\n",
      "Epoch 82/100\n",
      "777/777 [==============================] - 11s 14ms/step - loss: 579.3571 - mean_absolute_error: 17.7580 - root_mean_squared_error: 24.0698 - mean_absolute_percentage_error: 24644212.0000 - val_loss: 847.7540 - val_mean_absolute_error: 20.7727 - val_root_mean_squared_error: 29.1162 - val_mean_absolute_percentage_error: 4070526.7500\n",
      "Epoch 83/100\n",
      "777/777 [==============================] - 11s 14ms/step - loss: 577.0850 - mean_absolute_error: 17.7079 - root_mean_squared_error: 24.0226 - mean_absolute_percentage_error: 24916598.0000 - val_loss: 837.0703 - val_mean_absolute_error: 20.7377 - val_root_mean_squared_error: 28.9322 - val_mean_absolute_percentage_error: 4137596.7500\n",
      "Epoch 84/100\n",
      "777/777 [==============================] - 12s 15ms/step - loss: 577.1328 - mean_absolute_error: 17.7165 - root_mean_squared_error: 24.0236 - mean_absolute_percentage_error: 23743480.0000 - val_loss: 836.3293 - val_mean_absolute_error: 20.6665 - val_root_mean_squared_error: 28.9194 - val_mean_absolute_percentage_error: 4091686.0000\n",
      "Epoch 85/100\n",
      "777/777 [==============================] - 11s 14ms/step - loss: 576.0616 - mean_absolute_error: 17.7033 - root_mean_squared_error: 24.0013 - mean_absolute_percentage_error: 24148352.0000 - val_loss: 839.6860 - val_mean_absolute_error: 20.7410 - val_root_mean_squared_error: 28.9773 - val_mean_absolute_percentage_error: 4145787.0000\n",
      "Epoch 86/100\n",
      "777/777 [==============================] - 11s 14ms/step - loss: 573.3325 - mean_absolute_error: 17.6709 - root_mean_squared_error: 23.9444 - mean_absolute_percentage_error: 24442094.0000 - val_loss: 840.6115 - val_mean_absolute_error: 20.7612 - val_root_mean_squared_error: 28.9933 - val_mean_absolute_percentage_error: 4095857.0000\n",
      "Epoch 87/100\n",
      "777/777 [==============================] - 11s 14ms/step - loss: 572.3389 - mean_absolute_error: 17.6452 - root_mean_squared_error: 23.9236 - mean_absolute_percentage_error: 23767980.0000 - val_loss: 837.9803 - val_mean_absolute_error: 20.7416 - val_root_mean_squared_error: 28.9479 - val_mean_absolute_percentage_error: 4158943.0000\n",
      "Epoch 88/100\n",
      "777/777 [==============================] - 11s 14ms/step - loss: 571.9300 - mean_absolute_error: 17.6363 - root_mean_squared_error: 23.9151 - mean_absolute_percentage_error: 23708674.0000 - val_loss: 846.8162 - val_mean_absolute_error: 20.8798 - val_root_mean_squared_error: 29.1001 - val_mean_absolute_percentage_error: 4161067.5000\n",
      "Epoch 89/100\n",
      "777/777 [==============================] - 11s 14ms/step - loss: 569.9344 - mean_absolute_error: 17.6059 - root_mean_squared_error: 23.8733 - mean_absolute_percentage_error: 23594648.0000 - val_loss: 869.7721 - val_mean_absolute_error: 21.2234 - val_root_mean_squared_error: 29.4919 - val_mean_absolute_percentage_error: 4218407.5000\n",
      "Epoch 90/100\n",
      "777/777 [==============================] - 11s 14ms/step - loss: 569.0157 - mean_absolute_error: 17.5987 - root_mean_squared_error: 23.8540 - mean_absolute_percentage_error: 22842074.0000 - val_loss: 864.7440 - val_mean_absolute_error: 21.1342 - val_root_mean_squared_error: 29.4065 - val_mean_absolute_percentage_error: 3925934.2500\n",
      "Epoch 91/100\n",
      "777/777 [==============================] - 11s 14ms/step - loss: 569.0620 - mean_absolute_error: 17.5946 - root_mean_squared_error: 23.8550 - mean_absolute_percentage_error: 23630884.0000 - val_loss: 843.7991 - val_mean_absolute_error: 20.8525 - val_root_mean_squared_error: 29.0482 - val_mean_absolute_percentage_error: 4015810.7500\n",
      "Epoch 92/100\n",
      "777/777 [==============================] - 11s 15ms/step - loss: 567.4661 - mean_absolute_error: 17.5724 - root_mean_squared_error: 23.8216 - mean_absolute_percentage_error: 23479832.0000 - val_loss: 827.0638 - val_mean_absolute_error: 20.6915 - val_root_mean_squared_error: 28.7587 - val_mean_absolute_percentage_error: 4009599.7500\n",
      "Epoch 93/100\n",
      "777/777 [==============================] - 11s 14ms/step - loss: 565.2059 - mean_absolute_error: 17.5405 - root_mean_squared_error: 23.7741 - mean_absolute_percentage_error: 23191438.0000 - val_loss: 864.8467 - val_mean_absolute_error: 21.1809 - val_root_mean_squared_error: 29.4083 - val_mean_absolute_percentage_error: 4204358.5000\n",
      "Epoch 94/100\n",
      "777/777 [==============================] - 11s 15ms/step - loss: 563.7877 - mean_absolute_error: 17.5130 - root_mean_squared_error: 23.7442 - mean_absolute_percentage_error: 22621864.0000 - val_loss: 844.5623 - val_mean_absolute_error: 20.8468 - val_root_mean_squared_error: 29.0614 - val_mean_absolute_percentage_error: 4192543.2500\n",
      "Epoch 95/100\n",
      "777/777 [==============================] - 11s 14ms/step - loss: 561.8273 - mean_absolute_error: 17.4838 - root_mean_squared_error: 23.7029 - mean_absolute_percentage_error: 22760706.0000 - val_loss: 838.8874 - val_mean_absolute_error: 20.7822 - val_root_mean_squared_error: 28.9635 - val_mean_absolute_percentage_error: 4005791.7500\n",
      "Epoch 96/100\n",
      "777/777 [==============================] - 11s 14ms/step - loss: 561.3741 - mean_absolute_error: 17.4906 - root_mean_squared_error: 23.6933 - mean_absolute_percentage_error: 22643398.0000 - val_loss: 848.9995 - val_mean_absolute_error: 20.8697 - val_root_mean_squared_error: 29.1376 - val_mean_absolute_percentage_error: 4280337.0000\n"
     ]
    },
    {
     "name": "stdout",
     "output_type": "stream",
     "text": [
      "Epoch 97/100\n",
      "777/777 [==============================] - 11s 14ms/step - loss: 558.4073 - mean_absolute_error: 17.4372 - root_mean_squared_error: 23.6306 - mean_absolute_percentage_error: 22118690.0000 - val_loss: 835.8859 - val_mean_absolute_error: 20.7707 - val_root_mean_squared_error: 28.9117 - val_mean_absolute_percentage_error: 4091251.0000\n",
      "Epoch 98/100\n",
      "777/777 [==============================] - 11s 14ms/step - loss: 561.1206 - mean_absolute_error: 17.4938 - root_mean_squared_error: 23.6880 - mean_absolute_percentage_error: 22215060.0000 - val_loss: 854.0787 - val_mean_absolute_error: 21.0338 - val_root_mean_squared_error: 29.2246 - val_mean_absolute_percentage_error: 4171925.0000\n",
      "Epoch 99/100\n",
      "777/777 [==============================] - 11s 14ms/step - loss: 556.8698 - mean_absolute_error: 17.4177 - root_mean_squared_error: 23.5981 - mean_absolute_percentage_error: 22221140.0000 - val_loss: 846.7563 - val_mean_absolute_error: 20.9126 - val_root_mean_squared_error: 29.0991 - val_mean_absolute_percentage_error: 4140303.2500\n",
      "Epoch 100/100\n",
      "777/777 [==============================] - 11s 14ms/step - loss: 557.0527 - mean_absolute_error: 17.4402 - root_mean_squared_error: 23.6020 - mean_absolute_percentage_error: 22174104.0000 - val_loss: 847.7991 - val_mean_absolute_error: 20.8587 - val_root_mean_squared_error: 29.1170 - val_mean_absolute_percentage_error: 4079457.2500\n"
     ]
    },
    {
     "data": {
      "text/plain": [
       "<keras.callbacks.History at 0x2177dac4580>"
      ]
     },
     "execution_count": 53,
     "metadata": {},
     "output_type": "execute_result"
    }
   ],
   "source": [
    "model60.fit((Wt60,Xt60), yt60, validation_split = val_percent,\n",
    "            epochs = 100, \n",
    "            verbose = 1\n",
    "            )"
   ]
  },
  {
   "cell_type": "code",
   "execution_count": 54,
   "metadata": {},
   "outputs": [],
   "source": [
    "metrics60 = pd.DataFrame(model60.history.history)"
   ]
  },
  {
   "cell_type": "code",
   "execution_count": 55,
   "metadata": {},
   "outputs": [
    {
     "data": {
      "image/png": "[encoded data removed]",
      "text/plain": [
       "<Figure size 600x400 with 2 Axes>"
      ]
     },
     "metadata": {},
     "output_type": "display_data"
    }
   ],
   "source": [
    "fig = plt.figure(figsize=(6,4))\n",
    "\n",
    "# Add set of axes to figure\n",
    "axes = fig.add_axes([0, 0, 1, 1]) \n",
    "axes2 = fig.add_axes([0.3, 0.35, 0.5, 0.5]) # Smaller figure\n",
    "axes.plot(metrics60[['loss','val_loss']], label=['train_loss','val_loss'], lw=4)\n",
    "axes.set_ylim(0,4000)\n",
    "\n",
    "axes2.plot(metrics60[['loss','val_loss']], lw=4)\n",
    "axes2.set_xlim(0,20)\n",
    "axes2.set_ylim(500,1500)\n",
    "# plt.xticks(visible=False)\n",
    "plt.yticks(visible=False)\n",
    "\n",
    "axes.set_xlabel('Epoch')\n",
    "axes.set_ylabel('Loss')\n",
    "axes.grid()\n",
    "axes2.grid()\n",
    "\n",
    "mark_inset(axes, axes2, loc1=2, loc2=4, fc=\"0.9\", ec=\"0.1\", ls='--')\n",
    "axes.yaxis.set_major_formatter(formatter)"
   ]
  },
  {
   "cell_type": "code",
   "execution_count": 151,
   "metadata": {},
   "outputs": [
    {
     "data": {
      "image/png": "[encoded data removed]",
      "text/plain": [
       "<Figure size 432x288 with 2 Axes>"
      ]
     },
     "metadata": {
      "needs_background": "light"
     },
     "output_type": "display_data"
    }
   ],
   "source": [
    "fig = plt.figure(figsize=(6,4))\n",
    "\n",
    "# Add set of axes to figure\n",
    "axes = fig.add_axes([0, 0, 1, 1]) \n",
    "axes2 = fig.add_axes([0.3, 0.35, 0.5, 0.5]) # Smaller figure\n",
    "axes.plot(metrics60[['loss','val_loss']], label=['train_loss','val_loss'], lw=4)\n",
    "axes.set_ylim(0,4000)\n",
    "\n",
    "axes2.plot(metrics60[['loss','val_loss']], lw=4)\n",
    "axes2.set_xlim(0,20)\n",
    "axes2.set_ylim(500,1500)\n",
    "# plt.xticks(visible=False)\n",
    "plt.yticks(visible=False)\n",
    "\n",
    "axes.set_xlabel('Epoch')\n",
    "axes.set_ylabel('Loss')\n",
    "axes.grid()\n",
    "axes2.grid()\n",
    "\n",
    "mark_inset(axes, axes2, loc1=2, loc2=4, fc=\"0.9\", ec=\"0.1\", ls='--')\n",
    "axes.yaxis.set_major_formatter(formatter)"
   ]
  },
  {
   "cell_type": "code",
   "execution_count": null,
   "metadata": {},
   "outputs": [],
   "source": [
    "model60.save(\"my_dir/8a-60\")"
   ]
  },
  {
   "cell_type": "code",
   "execution_count": 50,
   "metadata": {},
   "outputs": [],
   "source": [
    "model60 = keras.models.load_model(\"my_dir/8a-60\", custom_objects=SeqSelfAttention.get_custom_objects())"
   ]
  },
  {
   "cell_type": "code",
   "execution_count": 51,
   "metadata": {},
   "outputs": [],
   "source": [
    "scaler_filename = \"Best_HP/8a-60\"\n",
    "best_hp60 = joblib.load(scaler_filename)"
   ]
  },
  {
   "cell_type": "code",
   "execution_count": 52,
   "metadata": {},
   "outputs": [
    {
     "data": {
      "text/plain": [
       "{'units': 43, 'filters': 96, 'kernel_size': 2, 'learning_rate': 0.001}"
      ]
     },
     "execution_count": 52,
     "metadata": {},
     "output_type": "execute_result"
    }
   ],
   "source": [
    "best_hp60.values"
   ]
  },
  {
   "cell_type": "code",
   "execution_count": 53,
   "metadata": {},
   "outputs": [
    {
     "data": {
      "text/plain": [
       "(43, 32)"
      ]
     },
     "execution_count": 53,
     "metadata": {},
     "output_type": "execute_result"
    }
   ],
   "source": [
    "model60.layers[8].get_weights()[0].shape"
   ]
  },
  {
   "cell_type": "code",
   "execution_count": 102,
   "metadata": {},
   "outputs": [
    {
     "data": {
      "image/png": "[encoded data removed]",
      "text/plain": [
       "<Figure size 3600x1200 with 1 Axes>"
      ]
     },
     "metadata": {},
     "output_type": "display_data"
    }
   ],
   "source": [
    "att60_weights = model60.layers[8].get_weights()[0]\n",
    "\n",
    "plt.figure(figsize=(12,4), dpi=300)\n",
    "\n",
    "hmap = sns.heatmap(att60_weights,\n",
    "            xticklabels=False,\n",
    "            yticklabels=False,\n",
    "            cbar=False,\n",
    "            #cbar_kws={'fraction' : 0.01}, # shrink colour bar\n",
    "            cmap='viridis',\n",
    "            robust=True,\n",
    "            square=True,\n",
    "            )\n",
    "plt.axhline(y=22, color='red', linestyle='--')\n",
    "\n",
    "plt.tight_layout()\n",
    "plt.show()"
   ]
  },
  {
   "cell_type": "code",
   "execution_count": 131,
   "metadata": {},
   "outputs": [
    {
     "data": {
      "image/png": "[encoded data removed]",
      "text/plain": [
       "<Figure size 4200x2400 with 5 Axes>"
      ]
     },
     "metadata": {},
     "output_type": "display_data"
    }
   ],
   "source": [
    "# Create a figure with subplots\n",
    "fig, axs = plt.subplots(nrows=1, ncols=4, figsize=(14, 8), dpi=300)\n",
    "\n",
    "# Figure 1\n",
    "att5_weights = model5.layers[8].get_weights()[0]\n",
    "sns.heatmap(att5_weights,\n",
    "            ax=axs[0],\n",
    "            xticklabels=False,\n",
    "            yticklabels=False,\n",
    "            cbar=False,\n",
    "            cmap='viridis',\n",
    "            robust=True,\n",
    "            square=True)\n",
    "#axs[0].set_title('5 mins')\n",
    "axs[0].axhline(y=29, color='red', linestyle='--', lw=3)\n",
    "\n",
    "# Add axis labels to the top and bottom halves\n",
    "axs[0].text(-10, 20, \"$F_{t}^{s}$\", fontsize=22, va='center')  # top half\n",
    "axs[0].text(-10, 40, \"$F_{w}^{s}$\", fontsize=22, va='center')  # bottom half\n",
    "\n",
    "# Figure 2\n",
    "att15_weights = model15.layers[8].get_weights()[0]\n",
    "sns.heatmap(att15_weights,\n",
    "            ax=axs[1],\n",
    "            xticklabels=False,\n",
    "            yticklabels=False,\n",
    "            cbar=False,\n",
    "            cmap='viridis',\n",
    "            robust=True,\n",
    "            square=True)\n",
    "#axs[1].set_title('15 mins')\n",
    "axs[1].axhline(y=30, color='red', linestyle='--', lw=3)\n",
    "\n",
    "# Figure 3\n",
    "att30_weights = model30.layers[8].get_weights()[0]\n",
    "sns.heatmap(att30_weights,\n",
    "            ax=axs[2],\n",
    "            xticklabels=False,\n",
    "            yticklabels=False,\n",
    "            cbar=False,\n",
    "            cmap='viridis',\n",
    "            robust=True,\n",
    "            square=True)\n",
    "#axs[2].set_title('30 mins')\n",
    "axs[2].axhline(y=38, color='red', linestyle='--', lw=3)\n",
    "\n",
    "# Figure 4\n",
    "att60_weights = model60.layers[8].get_weights()[0]\n",
    "sns.heatmap(att60_weights,\n",
    "            ax=axs[3],\n",
    "            xticklabels=False,\n",
    "            yticklabels=False,\n",
    "            cbar=True,\n",
    "            cbar_kws={'fraction' : 0.06, 'pad': 0.2},\n",
    "            cmap='viridis',\n",
    "            robust=True,\n",
    "            square=True)\n",
    "#axs[3].set_title('60 mins')\n",
    "axs[3].axhline(y=22, color='red', linestyle='--', lw=3)\n",
    "\n",
    "# Adjust spacing between subplots\n",
    "# plt.tight_layout()\n",
    "\n",
    "# Display the figure\n",
    "plt.show()\n"
   ]
  },
  {
   "cell_type": "code",
   "execution_count": 55,
   "metadata": {},
   "outputs": [
    {
     "data": {
      "text/plain": [
       "array([[ 52.280888,  54.740578,  60.751358, ...,  61.27484 ,  42.039   ,\n",
       "         41.67343 ],\n",
       "       [ 49.84779 ,  52.421577,  56.765812, ...,  55.56859 ,  39.15346 ,\n",
       "         39.44658 ],\n",
       "       [ 47.525677,  50.158974,  53.37129 , ...,  52.303463,  37.4556  ,\n",
       "         40.917038],\n",
       "       ...,\n",
       "       [134.21025 , 138.58275 , 148.93796 , ..., 144.45364 ,  95.04853 ,\n",
       "         86.20823 ],\n",
       "       [130.81146 , 137.22533 , 144.57617 , ..., 140.95178 ,  93.62418 ,\n",
       "         84.92316 ],\n",
       "       [122.341515, 125.46215 , 135.98526 , ..., 132.48659 ,  88.46222 ,\n",
       "         81.21714 ]], dtype=float32)"
      ]
     },
     "execution_count": 55,
     "metadata": {},
     "output_type": "execute_result"
    }
   ],
   "source": [
    "model60.predict((Wv60,Xv60))"
   ]
  },
  {
   "cell_type": "markdown",
   "metadata": {},
   "source": [
    "### Evaluation on inverse_transform"
   ]
  },
  {
   "cell_type": "code",
   "execution_count": null,
   "metadata": {},
   "outputs": [],
   "source": [
    "test_predictions60 = model60.predict((Wv60,Xv60))\n",
    "\n",
    "\n",
    "MSE60 = mean_squared_error(yv60,test_predictions60)\n",
    "\n",
    "MAE60 = mean_absolute_error(yv60,test_predictions60)\n",
    "\n",
    "RMSE60 = np.sqrt(MSE60)\n",
    "\n",
    "MAPE60 = mean_absolute_percentage_error(yv60,test_predictions60)*100\n",
    "\n",
    "eval60 = [MSE60, MAE60, RMSE60, MAPE60]\n",
    "print(eval60)"
   ]
  },
  {
   "cell_type": "code",
   "execution_count": 56,
   "metadata": {},
   "outputs": [],
   "source": [
    "test_predictions60 = model60.predict((Wv60,Xv60))\n",
    "\n",
    "\n",
    "MSE60 = mean_squared_error(yv60,test_predictions60,multioutput='raw_values')\n",
    "\n",
    "MAE60 = mean_absolute_error(yv60,test_predictions60,multioutput='raw_values')\n",
    "\n",
    "RMSE60 = mean_squared_error(yv60,test_predictions60,multioutput='raw_values',squared=False)\n",
    "\n",
    "MAPE60 = mean_absolute_percentage_error(yv60,test_predictions60,multioutput='raw_values')*100"
   ]
  },
  {
   "cell_type": "code",
   "execution_count": 57,
   "metadata": {},
   "outputs": [
    {
     "data": {
      "text/plain": [
       "array([19.29579618, 21.32130853, 20.85102069, 15.68516783, 20.98491467,\n",
       "       17.04892197, 14.0532244 ])"
      ]
     },
     "execution_count": 57,
     "metadata": {},
     "output_type": "execute_result"
    }
   ],
   "source": [
    "MAE60"
   ]
  },
  {
   "cell_type": "code",
   "execution_count": 58,
   "metadata": {},
   "outputs": [
    {
     "data": {
      "text/plain": [
       "array([25.0532354 , 28.07286625, 27.1803886 , 20.26796703, 27.16459435,\n",
       "       22.50531174, 18.50613346])"
      ]
     },
     "execution_count": 58,
     "metadata": {},
     "output_type": "execute_result"
    }
   ],
   "source": [
    "RMSE60"
   ]
  },
  {
   "cell_type": "code",
   "execution_count": 59,
   "metadata": {},
   "outputs": [
    {
     "data": {
      "text/plain": [
       "array([10.12349256, 10.31965719,  9.57008769,  7.81606216,  9.04147249,\n",
       "        9.89044889,  9.08399682])"
      ]
     },
     "execution_count": 59,
     "metadata": {},
     "output_type": "execute_result"
    }
   ],
   "source": [
    "MAPE60"
   ]
  },
  {
   "cell_type": "code",
   "execution_count": null,
   "metadata": {},
   "outputs": [],
   "source": [
    "GEH, count = ga.GEH(np.asarray(yv60), np.asarray(test_predictions60))\n",
    "GEH60 = count/GEH.size\n",
    "print(GEH60)"
   ]
  },
  {
   "cell_type": "markdown",
   "metadata": {},
   "source": [
    "# RESULTS"
   ]
  },
  {
   "cell_type": "markdown",
   "metadata": {},
   "source": [
    "## General results"
   ]
  },
  {
   "cell_type": "code",
   "execution_count": null,
   "metadata": {},
   "outputs": [],
   "source": [
    "l = ['MSE','MAE','RMSE','MAPE','Horizon']"
   ]
  },
  {
   "cell_type": "code",
   "execution_count": null,
   "metadata": {},
   "outputs": [],
   "source": [
    "eval5.append(5)\n",
    "eval15.append(15)\n",
    "eval30.append(30)\n",
    "eval60.append(60)"
   ]
  },
  {
   "cell_type": "code",
   "execution_count": null,
   "metadata": {},
   "outputs": [],
   "source": [
    "df = pd.DataFrame(np.array([eval5,eval15,eval30,eval60]),columns=l)\n",
    "df.set_index('Horizon')"
   ]
  },
  {
   "cell_type": "markdown",
   "metadata": {},
   "source": [
    "## GEH"
   ]
  },
  {
   "cell_type": "code",
   "execution_count": null,
   "metadata": {},
   "outputs": [],
   "source": [
    "n = [' 5 ',' 15 ',' 30 ',' 60 ']\n",
    "df2 = pd.DataFrame(np.array([[GEH5, GEH15, GEH30, GEH60]]), columns=n)\n",
    "print(df2)"
   ]
  },
  {
   "cell_type": "markdown",
   "metadata": {},
   "source": [
    "## Save Loss"
   ]
  },
  {
   "cell_type": "code",
   "execution_count": null,
   "metadata": {},
   "outputs": [],
   "source": [
    "metrics5.to_csv('Loss/8a-5.csv') \n",
    "metrics15.to_csv('Loss/8a-15.csv') \n",
    "metrics30.to_csv('Loss/8a-30.csv') \n",
    "metrics60.to_csv('Loss/8a-60.csv') "
   ]
  }
 ],
 "metadata": {
  "kernelspec": {
   "display_name": "Python 3 (ipykernel)",
   "language": "python",
   "name": "python3"
  },
  "language_info": {
   "codemirror_mode": {
    "name": "ipython",
    "version": 3
   },
   "file_extension": ".py",
   "mimetype": "text/x-python",
   "name": "python",
   "nbconvert_exporter": "python",
   "pygments_lexer": "ipython3",
   "version": "3.9.7"
  }
 },
 "nbformat": 4,
 "nbformat_minor": 4
}
