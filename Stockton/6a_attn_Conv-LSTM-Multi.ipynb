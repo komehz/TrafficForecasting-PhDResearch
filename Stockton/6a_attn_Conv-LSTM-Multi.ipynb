{
 "cells": [
  {
   "cell_type": "code",
   "execution_count": 1,
   "metadata": {},
   "outputs": [],
   "source": [
    "import pandas as pd\n",
    "import numpy as np\n",
    "import matplotlib.pyplot as plt\n",
    "import seaborn as sns\n",
    "import joblib\n",
    "import os"
   ]
  },
  {
   "cell_type": "code",
   "execution_count": 2,
   "metadata": {},
   "outputs": [],
   "source": [
    "import keras_tuner as kt\n",
    "from keras_tuner import RandomSearch"
   ]
  },
  {
   "cell_type": "code",
   "execution_count": 3,
   "metadata": {},
   "outputs": [],
   "source": [
    "from sklearn.metrics import mean_absolute_error,mean_squared_error,mean_absolute_percentage_error"
   ]
  },
  {
   "cell_type": "code",
   "execution_count": 4,
   "metadata": {},
   "outputs": [],
   "source": [
    "import relative_accuracy as ra\n",
    "from statistics import mean, stdev\n",
    "import geh as ga"
   ]
  },
  {
   "cell_type": "code",
   "execution_count": 5,
   "metadata": {},
   "outputs": [],
   "source": [
    "# Load all Inputs and Output Data\n",
    "\n",
    "# 5 mins (1 step ahead)\n",
    "Deep_train_5   = np.load(\"Deep_train_5_multi.npz\")['x'] \n",
    "Output_train_5 = np.load(\"Deep_train_5_multi.npz\")['y']\n",
    "\n",
    "Deep_test_5   = np.load(\"Deep_test_5_multi.npz\")['x'] \n",
    "Output_test_5 = np.load(\"Deep_test_5_multi.npz\")['y'] \n",
    "\n",
    "# 15 mins (3 steps ahead)\n",
    "Deep_train_15   = np.load(\"Deep_train_15_multi.npz\")['x'] \n",
    "Output_train_15 = np.load(\"Deep_train_15_multi.npz\")['y']\n",
    "\n",
    "Deep_test_15   = np.load(\"Deep_test_15_multi.npz\")['x'] \n",
    "Output_test_15 = np.load(\"Deep_test_15_multi.npz\")['y']\n",
    "\n",
    "# 30 mins (6 steps ahead)\n",
    "Deep_train_30   = np.load(\"Deep_train_30_multi.npz\")['x'] \n",
    "Output_train_30 = np.load(\"Deep_train_30_multi.npz\")['y']\n",
    "\n",
    "Deep_test_30   = np.load(\"Deep_test_30_multi.npz\")['x'] \n",
    "Output_test_30 = np.load(\"Deep_test_30_multi.npz\")['y']\n",
    "\n",
    "# 60 mins (12 steps ahead)\n",
    "Deep_train_60   = np.load(\"Deep_train_60_multi.npz\")['x'] \n",
    "Output_train_60 = np.load(\"Deep_train_60_multi.npz\")['y']\n",
    "\n",
    "Deep_test_60   = np.load(\"Deep_test_60_multi.npz\")['x'] \n",
    "Output_test_60 = np.load(\"Deep_test_60_multi.npz\")['y']"
   ]
  },
  {
   "cell_type": "code",
   "execution_count": 6,
   "metadata": {},
   "outputs": [],
   "source": [
    "# Wide Week Data\n",
    "Xtrain = joblib.load(\"002weeks_train.save\") \n",
    "Xtest = joblib.load(\"002weeks_test.save\") \n",
    "\n",
    "# Wide Day Data\n",
    "Xtrain_day = joblib.load(\"002days_train.save\") \n",
    "Xtest_day = joblib.load(\"002days_test.save\") "
   ]
  },
  {
   "cell_type": "code",
   "execution_count": 7,
   "metadata": {},
   "outputs": [],
   "source": [
    "# 5 mins\n",
    "# Delete first 15 samples\n",
    "Wide_train_5 = np.delete(Xtrain, np.s_[0:15], 0)\n",
    "Wide_test_5 = np.delete(Xtest, np.s_[0:15], 0)\n",
    "\n",
    "Wide_train_5_day = np.delete(Xtrain_day, np.s_[0:15], 0)\n",
    "Wide_test_5_day = np.delete(Xtest_day, np.s_[0:15], 0)"
   ]
  },
  {
   "cell_type": "code",
   "execution_count": 8,
   "metadata": {},
   "outputs": [],
   "source": [
    "# 15 mins\n",
    "# Delete first 17 samples\n",
    "Wide_train_15 = np.delete(Xtrain, np.s_[0:17], 0)\n",
    "Wide_test_15 = np.delete(Xtest, np.s_[0:17], 0)\n",
    "\n",
    "Wide_train_15_day = np.delete(Xtrain_day, np.s_[0:17], 0)\n",
    "Wide_test_15_day = np.delete(Xtest_day, np.s_[0:17], 0)"
   ]
  },
  {
   "cell_type": "code",
   "execution_count": 9,
   "metadata": {},
   "outputs": [],
   "source": [
    "# 30 mins\n",
    "# Delete first 20 samples\n",
    "Wide_train_30 = np.delete(Xtrain, np.s_[0:20], 0)\n",
    "Wide_test_30 = np.delete(Xtest, np.s_[0:20], 0)\n",
    "\n",
    "Wide_train_30_day = np.delete(Xtrain_day, np.s_[0:20], 0)\n",
    "Wide_test_30_day = np.delete(Xtest_day, np.s_[0:20], 0)"
   ]
  },
  {
   "cell_type": "code",
   "execution_count": 10,
   "metadata": {},
   "outputs": [],
   "source": [
    "# 60 mins\n",
    "# Delete first 27 samples\n",
    "Wide_train_60 = np.delete(Xtrain, np.s_[0:26], 0)\n",
    "Wide_test_60 = np.delete(Xtest, np.s_[0:26], 0)\n",
    "\n",
    "Wide_train_60_day = np.delete(Xtrain_day, np.s_[0:26], 0)\n",
    "Wide_test_60_day = np.delete(Xtest_day, np.s_[0:26], 0)"
   ]
  },
  {
   "cell_type": "code",
   "execution_count": 11,
   "metadata": {},
   "outputs": [
    {
     "name": "stderr",
     "output_type": "stream",
     "text": [
      "C:\\Users\\mesug\\anaconda3\\envs\\my_env\\lib\\site-packages\\sklearn\\base.py:324: UserWarning: Trying to unpickle estimator MinMaxScaler from version 1.0.2 when using version 1.0.1. This might lead to breaking code or invalid results. Use at your own risk. For more info please refer to:\n",
      "https://scikit-learn.org/stable/modules/model_persistence.html#security-maintainability-limitations\n",
      "  warnings.warn(\n"
     ]
    }
   ],
   "source": [
    "scaler_filename = \"scaler.save\"\n",
    "scaler = joblib.load(scaler_filename) "
   ]
  },
  {
   "cell_type": "code",
   "execution_count": 12,
   "metadata": {},
   "outputs": [],
   "source": [
    "Test      = pd.read_csv('01test_scaled.csv', index_col=None, parse_dates=[0])"
   ]
  },
  {
   "cell_type": "markdown",
   "metadata": {},
   "source": [
    "# Reshape Samples"
   ]
  },
  {
   "cell_type": "markdown",
   "metadata": {},
   "source": [
    "The first step is to split the input sequences into subsequences that can be processed by the CNN model. Here, each spatio-temporal sample can be split into three sub-samples, each with five time steps. The CNN can interpret each subsequence of five time steps and provide a time series of interpretations of the subsequences to the LSTM model to process as input."
   ]
  },
  {
   "cell_type": "code",
   "execution_count": 13,
   "metadata": {},
   "outputs": [],
   "source": [
    "# reshape from [samples, timesteps] into [samples, subsequences, timesteps, features]\n",
    "n_features = 7              # No of loop detectors\n",
    "n_seq = 3                    # Subsequences\n",
    "n_steps = 5                  # time-step per subsequence\n",
    "val_percent = 0.2            # 2 weeks\n",
    "batch_size = 32"
   ]
  },
  {
   "cell_type": "markdown",
   "metadata": {},
   "source": [
    "#### 5 mins"
   ]
  },
  {
   "cell_type": "code",
   "execution_count": 14,
   "metadata": {},
   "outputs": [],
   "source": [
    "# Train\n",
    "# reshape from [samples, timesteps] into [samples, subsequences, timesteps, features]\n",
    "Xt5 = Deep_train_5.reshape((Deep_train_5.shape[0], n_seq, n_steps, n_features))\n",
    "yt5 = scaler.inverse_transform(Output_train_5)"
   ]
  },
  {
   "cell_type": "code",
   "execution_count": 15,
   "metadata": {},
   "outputs": [],
   "source": [
    "# Test\n",
    "# reshape from [samples, timesteps] into [samples, subsequences, timesteps, features]\n",
    "Xv5 = Deep_test_5.reshape((Deep_test_5.shape[0], n_seq, n_steps, n_features))\n",
    "yv5 = scaler.inverse_transform(Output_test_5)"
   ]
  },
  {
   "cell_type": "markdown",
   "metadata": {},
   "source": [
    "#### 15 mins"
   ]
  },
  {
   "cell_type": "code",
   "execution_count": 16,
   "metadata": {},
   "outputs": [],
   "source": [
    "# Train\n",
    "# reshape from [samples, timesteps] into [samples, subsequences, timesteps, features]\n",
    "Xt15 = Deep_train_15.reshape((Deep_train_15.shape[0], n_seq, n_steps, n_features))\n",
    "yt15 = scaler.inverse_transform(Output_train_15)"
   ]
  },
  {
   "cell_type": "code",
   "execution_count": 17,
   "metadata": {},
   "outputs": [],
   "source": [
    "# Test\n",
    "# reshape from [samples, timesteps] into [samples, subsequences, timesteps, features]\n",
    "Xv15 = Deep_test_15.reshape((Deep_test_15.shape[0], n_seq, n_steps, n_features))\n",
    "yv15 = scaler.inverse_transform(Output_test_15)"
   ]
  },
  {
   "cell_type": "markdown",
   "metadata": {},
   "source": [
    "#### 30 mins"
   ]
  },
  {
   "cell_type": "code",
   "execution_count": 18,
   "metadata": {},
   "outputs": [],
   "source": [
    "# Train\n",
    "# reshape from [samples, timesteps] into [samples, subsequences, timesteps, features]\n",
    "Xt30 = Deep_train_30.reshape((Deep_train_30.shape[0], n_seq, n_steps, n_features))\n",
    "yt30 = scaler.inverse_transform(Output_train_30)"
   ]
  },
  {
   "cell_type": "code",
   "execution_count": 19,
   "metadata": {},
   "outputs": [],
   "source": [
    "# Test\n",
    "# reshape from [samples, timesteps] into [samples, subsequences, timesteps, features]\n",
    "Xv30 = Deep_test_30.reshape((Deep_test_30.shape[0], n_seq, n_steps, n_features))\n",
    "yv30 = scaler.inverse_transform(Output_test_30)"
   ]
  },
  {
   "cell_type": "markdown",
   "metadata": {},
   "source": [
    "#### 60 mins"
   ]
  },
  {
   "cell_type": "code",
   "execution_count": 20,
   "metadata": {},
   "outputs": [],
   "source": [
    "# Train\n",
    "# reshape from [samples, timesteps] into [samples, subsequences, timesteps, features]\n",
    "Xt60 = Deep_train_60.reshape((Deep_train_60.shape[0], n_seq, n_steps, n_features))\n",
    "yt60 = scaler.inverse_transform(Output_train_60)"
   ]
  },
  {
   "cell_type": "code",
   "execution_count": 21,
   "metadata": {},
   "outputs": [],
   "source": [
    "# Test\n",
    "# reshape from [samples, timesteps] into [samples, subsequences, timesteps, features]\n",
    "Xv60 = Deep_test_60.reshape((Deep_test_60.shape[0], n_seq, n_steps, n_features))\n",
    "yv60 = scaler.inverse_transform(Output_test_60)"
   ]
  },
  {
   "cell_type": "markdown",
   "metadata": {},
   "source": [
    "### Reshaping the Data for Conv2D layer\n",
    "\n",
    "For Conv2D, there is a need to add one more dimension to show we're dealing with 1 channel (since technically the images are in black and white, only showing values from 0-max flow on a single channel).\n",
    "\n",
    "Conv1D - strides in 1 dimension\n",
    "Conv2D - strides in 2 dimensions"
   ]
  },
  {
   "cell_type": "code",
   "execution_count": 22,
   "metadata": {},
   "outputs": [],
   "source": [
    "# define no_of_channels\n",
    "n_channels = 1"
   ]
  },
  {
   "cell_type": "code",
   "execution_count": 23,
   "metadata": {},
   "outputs": [],
   "source": [
    "# Train data\n",
    "Xt5  =  Xt5.reshape(Xt5.shape[0], n_seq, n_steps, n_features, n_channels)\n",
    "Xt15 =  Xt15.reshape(Xt15.shape[0], n_seq, n_steps, n_features, n_channels)\n",
    "Xt30 =  Xt30.reshape(Xt30.shape[0], n_seq, n_steps, n_features, n_channels)\n",
    "Xt60 =  Xt60.reshape(Xt60.shape[0], n_seq, n_steps, n_features, n_channels)\n",
    "\n",
    "# Validation data\n",
    "Xv5  =  Xv5.reshape(Xv5.shape[0], n_seq, n_steps, n_features, n_channels)\n",
    "Xv15 =  Xv15.reshape(Xv15.shape[0], n_seq, n_steps, n_features, n_channels)\n",
    "Xv30 =  Xv30.reshape(Xv30.shape[0], n_seq, n_steps, n_features, n_channels)\n",
    "Xv60 =  Xv60.reshape(Xv60.shape[0], n_seq, n_steps, n_features, n_channels)"
   ]
  },
  {
   "cell_type": "code",
   "execution_count": 24,
   "metadata": {},
   "outputs": [],
   "source": [
    "Wide_train_5 = np.expand_dims(Wide_train_5, 1)\n",
    "Wide_train_15 = np.expand_dims(Wide_train_15, 1)\n",
    "Wide_train_30 = np.expand_dims(Wide_train_30, 1)\n",
    "Wide_train_60 = np.expand_dims(Wide_train_60, 1)\n",
    "\n",
    "Wide_test_5 = np.expand_dims(Wide_test_5, 1)\n",
    "Wide_test_15 = np.expand_dims(Wide_test_15, 1)\n",
    "Wide_test_30 = np.expand_dims(Wide_test_30, 1)\n",
    "Wide_test_60 = np.expand_dims(Wide_test_60, 1)"
   ]
  },
  {
   "cell_type": "code",
   "execution_count": 25,
   "metadata": {},
   "outputs": [],
   "source": [
    "Wide_train_5_day = np.expand_dims(Wide_train_5_day, 1)\n",
    "Wide_train_15_day = np.expand_dims(Wide_train_15_day, 1)\n",
    "Wide_train_30_day = np.expand_dims(Wide_train_30_day, 1)\n",
    "Wide_train_60_day = np.expand_dims(Wide_train_60_day, 1)\n",
    "\n",
    "Wide_test_5_day = np.expand_dims(Wide_test_5_day, 1)\n",
    "Wide_test_15_day = np.expand_dims(Wide_test_15_day, 1)\n",
    "Wide_test_30_day = np.expand_dims(Wide_test_30_day, 1)\n",
    "Wide_test_60_day = np.expand_dims(Wide_test_60_day, 1)"
   ]
  },
  {
   "cell_type": "code",
   "execution_count": 26,
   "metadata": {},
   "outputs": [],
   "source": [
    "Wt5  = Wide_train_5\n",
    "Wt15 = Wide_train_15\n",
    "Wt30 = Wide_train_30\n",
    "Wt60 = Wide_train_60\n",
    "\n",
    "Wv5  = Wide_test_5\n",
    "Wv15 = Wide_test_15\n",
    "Wv30 = Wide_test_30\n",
    "Wv60 = Wide_test_60"
   ]
  },
  {
   "cell_type": "code",
   "execution_count": 27,
   "metadata": {},
   "outputs": [],
   "source": [
    "Wt5x  = Wide_train_5_day\n",
    "Wt15x = Wide_train_15_day\n",
    "Wt30x = Wide_train_30_day\n",
    "Wt60x = Wide_train_60_day\n",
    "\n",
    "Wv5x  = Wide_test_5_day\n",
    "Wv15x = Wide_test_15_day\n",
    "Wv30x = Wide_test_30_day\n",
    "Wv60x = Wide_test_60_day"
   ]
  },
  {
   "cell_type": "markdown",
   "metadata": {},
   "source": [
    "# CNN-LSTM model"
   ]
  },
  {
   "cell_type": "code",
   "execution_count": 28,
   "metadata": {},
   "outputs": [],
   "source": [
    "from tensorflow import keras\n",
    "from keras_self_attention import SeqSelfAttention\n",
    "\n",
    "# Early Stopping\n",
    "early_stop = keras.callbacks.EarlyStopping(monitor='val_loss',patience=5)"
   ]
  },
  {
   "cell_type": "code",
   "execution_count": 29,
   "metadata": {},
   "outputs": [],
   "source": [
    "stop = keras.callbacks.EarlyStopping(\n",
    "    monitor = 'val_loss', \n",
    "    patience = 5, \n",
    "    restore_best_weights = True)"
   ]
  },
  {
   "cell_type": "code",
   "execution_count": 30,
   "metadata": {},
   "outputs": [
    {
     "data": {
      "text/plain": [
       "(31089, 1, 14)"
      ]
     },
     "execution_count": 30,
     "metadata": {},
     "output_type": "execute_result"
    }
   ],
   "source": [
    "Wide_train_5.shape"
   ]
  },
  {
   "cell_type": "code",
   "execution_count": 31,
   "metadata": {},
   "outputs": [
    {
     "data": {
      "text/plain": [
       "(3, 5, 7, 1)"
      ]
     },
     "execution_count": 31,
     "metadata": {},
     "output_type": "execute_result"
    }
   ],
   "source": [
    "Xt5.shape[1:]"
   ]
  },
  {
   "cell_type": "markdown",
   "metadata": {},
   "source": [
    "# 5 mins ahead"
   ]
  },
  {
   "cell_type": "code",
   "execution_count": 32,
   "metadata": {},
   "outputs": [],
   "source": [
    "def build_model_5(hp):\n",
    "    # Inputs\n",
    "    channel_Wide = keras.layers.Input(shape=Wide_train_5.shape[1:], name=\"wide_week\")\n",
    "    channel_Widex = keras.layers.Input(shape=Wide_train_5_day.shape[1:], name=\"wide_day\")\n",
    "    channel_Deep = keras.layers.Input(shape=Xt5.shape[1:], name=\"weep_input\")\n",
    "    \n",
    "    # Wide Model\n",
    "    Wide_5 = keras.layers.Bidirectional(\n",
    "        keras.layers.LSTM(units=hp.Int(\"wide_week_LSTM\", min_value=1, max_value=100, step=1), \n",
    "                                activation='relu'))(channel_Wide)\n",
    "    \n",
    "    Wide_5x = keras.layers.Bidirectional(\n",
    "        keras.layers.LSTM(units=hp.Int(\"wide_day_LSTM\", min_value=1, max_value=100, step=1), \n",
    "                                activation='relu'))(channel_Widex)\n",
    "       \n",
    "    # Deep Model\n",
    "    # CNN \n",
    "    CNN_5a = keras.layers.TimeDistributed(\n",
    "        keras.layers.Conv2D(filters=hp.Int(\"filters\", min_value=32, max_value=512, step=32),\n",
    "                            kernel_size=hp.Choice(\"kernel_size\", [2, 3]), activation='relu'))(channel_Deep)\n",
    "    CNN_5b = keras.layers.TimeDistributed(\n",
    "        keras.layers.Conv2D(filters=hp.Int(\"filters\", min_value=32, max_value=512, step=32),\n",
    "                            kernel_size=hp.Choice(\"kernel_size\", [2, 3]), activation='relu'))(CNN_5a)\n",
    "    flatten_5 = keras.layers.TimeDistributed(keras.layers.Flatten())(CNN_5b)\n",
    "    # LSTM          \n",
    "    LSTM_5a = keras.layers.LSTM(units=hp.Int(\"units_LSTM\", min_value=1, max_value=100, step=1), \n",
    "                                activation='relu', return_sequences=True)(flatten_5)\n",
    "    LSTM_5b = keras.layers.LSTM(units=hp.Int(\"units_LSTM\", min_value=1, max_value=100, step=1), \n",
    "                                activation='relu', return_sequences=True)(LSTM_5a)\n",
    "    Att_5 = SeqSelfAttention(attention_activation='tanh')(LSTM_5b)\n",
    "    Reshaped_5 = keras.layers.Flatten()(Att_5)\n",
    "    \n",
    "    # Concatenation \n",
    "    concat = keras.layers.concatenate([Wide_5, Wide_5x, Reshaped_5])\n",
    "    \n",
    "    # Output\n",
    "    output = keras.layers.Dense(n_features, name= \"output\")(concat)\n",
    "    \n",
    "    # Model\n",
    "    model_5 = keras.Model(inputs=[channel_Wide, channel_Widex, channel_Deep], outputs=[output])\n",
    "\n",
    "    # Compile\n",
    "    model_5.compile(optimizer=keras.optimizers.Adam(hp.Choice(\"learning_rate\", [1e-2, 1e-3, 1e-4])), \n",
    "        loss='mse',metrics=['MeanAbsoluteError','RootMeanSquaredError','MeanAbsolutePercentageError'])\n",
    "                    \n",
    "    return model_5"
   ]
  },
  {
   "cell_type": "code",
   "execution_count": 33,
   "metadata": {},
   "outputs": [
    {
     "name": "stdout",
     "output_type": "stream",
     "text": [
      "INFO:tensorflow:Reloading Oracle from existing project C:\\Runs\\6ai-Conv-LSTM-5\\oracle.json\n",
      "INFO:tensorflow:Reloading Tuner from C:\\Runs\\6ai-Conv-LSTM-5\\tuner0.json\n"
     ]
    }
   ],
   "source": [
    "tuner5 = RandomSearch(\n",
    "    build_model_5,\n",
    "    objective=\"val_loss\",\n",
    "    max_trials=30,\n",
    "    executions_per_trial=2,\n",
    "    overwrite=False,\n",
    "    directory=os.path.normpath('C:/Runs'),\n",
    "    project_name=\"6ai-Conv-LSTM-5\",\n",
    ")"
   ]
  },
  {
   "cell_type": "code",
   "execution_count": 34,
   "metadata": {},
   "outputs": [
    {
     "name": "stdout",
     "output_type": "stream",
     "text": [
      "Search space summary\n",
      "Default search space size: 6\n",
      "wide_week_LSTM (Int)\n",
      "{'default': None, 'conditions': [], 'min_value': 1, 'max_value': 100, 'step': 1, 'sampling': None}\n",
      "wide_day_LSTM (Int)\n",
      "{'default': None, 'conditions': [], 'min_value': 1, 'max_value': 100, 'step': 1, 'sampling': None}\n",
      "filters (Int)\n",
      "{'default': None, 'conditions': [], 'min_value': 32, 'max_value': 512, 'step': 32, 'sampling': None}\n",
      "kernel_size (Choice)\n",
      "{'default': 2, 'conditions': [], 'values': [2, 3], 'ordered': True}\n",
      "units_LSTM (Int)\n",
      "{'default': None, 'conditions': [], 'min_value': 1, 'max_value': 100, 'step': 1, 'sampling': None}\n",
      "learning_rate (Choice)\n",
      "{'default': 0.01, 'conditions': [], 'values': [0.01, 0.001, 0.0001], 'ordered': True}\n"
     ]
    }
   ],
   "source": [
    "tuner5.search_space_summary()"
   ]
  },
  {
   "cell_type": "code",
   "execution_count": 35,
   "metadata": {},
   "outputs": [
    {
     "name": "stdout",
     "output_type": "stream",
     "text": [
      "Trial 30 Complete [00h 49m 27s]\n",
      "val_loss: 535.6563720703125\n",
      "\n",
      "Best val_loss So Far: 501.7811737060547\n",
      "Total elapsed time: 12h 32m 08s\n",
      "INFO:tensorflow:Oracle triggered exit\n"
     ]
    }
   ],
   "source": [
    "tuner5.search((Wt5, Wt5x, Xt5), yt5, epochs=200,\n",
    "           validation_split = val_percent,\n",
    "           callbacks = [early_stop],\n",
    "           verbose=2)"
   ]
  },
  {
   "cell_type": "code",
   "execution_count": 36,
   "metadata": {},
   "outputs": [
    {
     "name": "stdout",
     "output_type": "stream",
     "text": [
      "Results summary\n",
      "Results in C:\\Runs\\6ai-Conv-LSTM-5\n",
      "Showing 1 best trials\n",
      "Objective(name='val_loss', direction='min')\n",
      "Trial summary\n",
      "Hyperparameters:\n",
      "wide_week_LSTM: 9\n",
      "wide_day_LSTM: 71\n",
      "filters: 384\n",
      "kernel_size: 3\n",
      "units_LSTM: 82\n",
      "learning_rate: 0.001\n",
      "Score: 501.7811737060547\n"
     ]
    }
   ],
   "source": [
    "tuner5.results_summary(1)"
   ]
  },
  {
   "cell_type": "markdown",
   "metadata": {},
   "source": [
    "### Best Model"
   ]
  },
  {
   "cell_type": "code",
   "execution_count": 37,
   "metadata": {},
   "outputs": [],
   "source": [
    "best_hp5 = tuner5.get_best_hyperparameters()[0]\n",
    "model5 = tuner5.hypermodel.build(best_hp5)"
   ]
  },
  {
   "cell_type": "code",
   "execution_count": 38,
   "metadata": {},
   "outputs": [
    {
     "data": {
      "text/plain": [
       "['Best_HP/6ai-Conv_LSTM-5']"
      ]
     },
     "execution_count": 38,
     "metadata": {},
     "output_type": "execute_result"
    }
   ],
   "source": [
    "scaler_filename = \"Best_HP/6ai-Conv_LSTM-5\"\n",
    "joblib.dump(best_hp5, scaler_filename) "
   ]
  },
  {
   "cell_type": "code",
   "execution_count": 39,
   "metadata": {},
   "outputs": [
    {
     "name": "stdout",
     "output_type": "stream",
     "text": [
      "Model: \"model_1\"\n",
      "__________________________________________________________________________________________________\n",
      " Layer (type)                   Output Shape         Param #     Connected to                     \n",
      "==================================================================================================\n",
      " weep_input (InputLayer)        [(None, 3, 5, 7, 1)  0           []                               \n",
      "                                ]                                                                 \n",
      "                                                                                                  \n",
      " time_distributed_3 (TimeDistri  (None, 3, 3, 5, 384  3840       ['weep_input[0][0]']             \n",
      " buted)                         )                                                                 \n",
      "                                                                                                  \n",
      " time_distributed_4 (TimeDistri  (None, 3, 1, 3, 384  1327488    ['time_distributed_3[0][0]']     \n",
      " buted)                         )                                                                 \n",
      "                                                                                                  \n",
      " time_distributed_5 (TimeDistri  (None, 3, 1152)     0           ['time_distributed_4[0][0]']     \n",
      " buted)                                                                                           \n",
      "                                                                                                  \n",
      " lstm_6 (LSTM)                  (None, 3, 82)        405080      ['time_distributed_5[0][0]']     \n",
      "                                                                                                  \n",
      " lstm_7 (LSTM)                  (None, 3, 82)        54120       ['lstm_6[0][0]']                 \n",
      "                                                                                                  \n",
      " wide_week (InputLayer)         [(None, 1, 14)]      0           []                               \n",
      "                                                                                                  \n",
      " wide_day (InputLayer)          [(None, 1, 14)]      0           []                               \n",
      "                                                                                                  \n",
      " seq_self_attention_1 (SeqSelfA  (None, 3, 82)       5313        ['lstm_7[0][0]']                 \n",
      " ttention)                                                                                        \n",
      "                                                                                                  \n",
      " bidirectional_2 (Bidirectional  (None, 18)          1728        ['wide_week[0][0]']              \n",
      " )                                                                                                \n",
      "                                                                                                  \n",
      " bidirectional_3 (Bidirectional  (None, 142)         48848       ['wide_day[0][0]']               \n",
      " )                                                                                                \n",
      "                                                                                                  \n",
      " flatten_3 (Flatten)            (None, 246)          0           ['seq_self_attention_1[0][0]']   \n",
      "                                                                                                  \n",
      " concatenate_1 (Concatenate)    (None, 406)          0           ['bidirectional_2[0][0]',        \n",
      "                                                                  'bidirectional_3[0][0]',        \n",
      "                                                                  'flatten_3[0][0]']              \n",
      "                                                                                                  \n",
      " output (Dense)                 (None, 7)            2849        ['concatenate_1[0][0]']          \n",
      "                                                                                                  \n",
      "==================================================================================================\n",
      "Total params: 1,849,266\n",
      "Trainable params: 1,849,266\n",
      "Non-trainable params: 0\n",
      "__________________________________________________________________________________________________\n"
     ]
    }
   ],
   "source": [
    "model5.summary()"
   ]
  },
  {
   "cell_type": "code",
   "execution_count": 40,
   "metadata": {},
   "outputs": [
    {
     "name": "stdout",
     "output_type": "stream",
     "text": [
      "Epoch 1/100\n",
      "972/972 [==============================] - ETA: 0s - loss: 2352.9260 - mean_absolute_error: 30.7371 - root_mean_squared_error: 48.5070 - mean_absolute_percentage_error: 37265060.0000WARNING:tensorflow:Early stopping conditioned on metric `val_loss` which is not available. Available metrics are: loss,mean_absolute_error,root_mean_squared_error,mean_absolute_percentage_error\n",
      "972/972 [==============================] - 123s 115ms/step - loss: 2352.9260 - mean_absolute_error: 30.7371 - root_mean_squared_error: 48.5070 - mean_absolute_percentage_error: 37265060.0000\n",
      "Epoch 2/100\n",
      "972/972 [==============================] - ETA: 0s - loss: 881.7930 - mean_absolute_error: 22.0723 - root_mean_squared_error: 29.6950 - mean_absolute_percentage_error: 36584068.0000WARNING:tensorflow:Early stopping conditioned on metric `val_loss` which is not available. Available metrics are: loss,mean_absolute_error,root_mean_squared_error,mean_absolute_percentage_error\n",
      "972/972 [==============================] - 112s 115ms/step - loss: 881.7930 - mean_absolute_error: 22.0723 - root_mean_squared_error: 29.6950 - mean_absolute_percentage_error: 36584068.0000\n",
      "Epoch 3/100\n",
      "972/972 [==============================] - ETA: 0s - loss: 733.0685 - mean_absolute_error: 20.0682 - root_mean_squared_error: 27.0752 - mean_absolute_percentage_error: 37538960.0000WARNING:tensorflow:Early stopping conditioned on metric `val_loss` which is not available. Available metrics are: loss,mean_absolute_error,root_mean_squared_error,mean_absolute_percentage_error\n",
      "972/972 [==============================] - 113s 116ms/step - loss: 733.0685 - mean_absolute_error: 20.0682 - root_mean_squared_error: 27.0752 - mean_absolute_percentage_error: 37538960.0000\n",
      "Epoch 4/100\n",
      "972/972 [==============================] - ETA: 0s - loss: 690.7543 - mean_absolute_error: 19.4439 - root_mean_squared_error: 26.2822 - mean_absolute_percentage_error: 38708196.0000WARNING:tensorflow:Early stopping conditioned on metric `val_loss` which is not available. Available metrics are: loss,mean_absolute_error,root_mean_squared_error,mean_absolute_percentage_error\n",
      "972/972 [==============================] - 112s 115ms/step - loss: 690.7543 - mean_absolute_error: 19.4439 - root_mean_squared_error: 26.2822 - mean_absolute_percentage_error: 38708196.0000\n",
      "Epoch 5/100\n",
      "972/972 [==============================] - ETA: 0s - loss: 658.7016 - mean_absolute_error: 18.9571 - root_mean_squared_error: 25.6652 - mean_absolute_percentage_error: 40092896.0000WARNING:tensorflow:Early stopping conditioned on metric `val_loss` which is not available. Available metrics are: loss,mean_absolute_error,root_mean_squared_error,mean_absolute_percentage_error\n",
      "972/972 [==============================] - 112s 115ms/step - loss: 658.7016 - mean_absolute_error: 18.9571 - root_mean_squared_error: 25.6652 - mean_absolute_percentage_error: 40092896.0000\n",
      "Epoch 6/100\n",
      "972/972 [==============================] - ETA: 0s - loss: 646.1213 - mean_absolute_error: 18.7616 - root_mean_squared_error: 25.4189 - mean_absolute_percentage_error: 41207216.0000- ETA: 1s - loss: 645.2745 - mean_absolute_error: 18.7498 - root_mean_squared_error: 25.4022 - mean_absolute_percentage_error: 413WARNING:tensorflow:Early stopping conditioned on metric `val_loss` which is not available. Available metrics are: loss,mean_absolute_error,root_mean_squared_error,mean_absolute_percentage_error\n",
      "972/972 [==============================] - 112s 115ms/step - loss: 646.1213 - mean_absolute_error: 18.7616 - root_mean_squared_error: 25.4189 - mean_absolute_percentage_error: 41207216.0000\n",
      "Epoch 7/100\n",
      "972/972 [==============================] - ETA: 0s - loss: 633.4678 - mean_absolute_error: 18.5681 - root_mean_squared_error: 25.1688 - mean_absolute_percentage_error: 30247056.0000WARNING:tensorflow:Early stopping conditioned on metric `val_loss` which is not available. Available metrics are: loss,mean_absolute_error,root_mean_squared_error,mean_absolute_percentage_error\n",
      "972/972 [==============================] - 114s 118ms/step - loss: 633.4678 - mean_absolute_error: 18.5681 - root_mean_squared_error: 25.1688 - mean_absolute_percentage_error: 30247056.0000\n",
      "Epoch 8/100\n",
      "972/972 [==============================] - ETA: 0s - loss: 607.0925 - mean_absolute_error: 18.1977 - root_mean_squared_error: 24.6393 - mean_absolute_percentage_error: 9000991.0000WARNING:tensorflow:Early stopping conditioned on metric `val_loss` which is not available. Available metrics are: loss,mean_absolute_error,root_mean_squared_error,mean_absolute_percentage_error\n",
      "972/972 [==============================] - 112s 115ms/step - loss: 607.0925 - mean_absolute_error: 18.1977 - root_mean_squared_error: 24.6393 - mean_absolute_percentage_error: 9000991.0000\n",
      "Epoch 9/100\n",
      "972/972 [==============================] - ETA: 0s - loss: 586.5099 - mean_absolute_error: 17.8920 - root_mean_squared_error: 24.2180 - mean_absolute_percentage_error: 8176004.5000WARNING:tensorflow:Early stopping conditioned on metric `val_loss` which is not available. Available metrics are: loss,mean_absolute_error,root_mean_squared_error,mean_absolute_percentage_error\n",
      "972/972 [==============================] - 112s 116ms/step - loss: 586.5099 - mean_absolute_error: 17.8920 - root_mean_squared_error: 24.2180 - mean_absolute_percentage_error: 8176004.5000\n",
      "Epoch 10/100\n",
      "972/972 [==============================] - ETA: 0s - loss: 597.4070 - mean_absolute_error: 18.0379 - root_mean_squared_error: 24.4419 - mean_absolute_percentage_error: 9243157.0000WARNING:tensorflow:Early stopping conditioned on metric `val_loss` which is not available. Available metrics are: loss,mean_absolute_error,root_mean_squared_error,mean_absolute_percentage_error\n",
      "972/972 [==============================] - 113s 116ms/step - loss: 597.4070 - mean_absolute_error: 18.0379 - root_mean_squared_error: 24.4419 - mean_absolute_percentage_error: 9243157.0000\n",
      "Epoch 11/100\n",
      "972/972 [==============================] - ETA: 0s - loss: 571.1237 - mean_absolute_error: 17.6588 - root_mean_squared_error: 23.8982 - mean_absolute_percentage_error: 8236904.0000WARNING:tensorflow:Early stopping conditioned on metric `val_loss` which is not available. Available metrics are: loss,mean_absolute_error,root_mean_squared_error,mean_absolute_percentage_error\n",
      "972/972 [==============================] - 112s 115ms/step - loss: 571.1237 - mean_absolute_error: 17.6588 - root_mean_squared_error: 23.8982 - mean_absolute_percentage_error: 8236904.0000\n",
      "Epoch 12/100\n",
      "972/972 [==============================] - ETA: 0s - loss: 555.8865 - mean_absolute_error: 17.4108 - root_mean_squared_error: 23.5772 - mean_absolute_percentage_error: 7959231.0000WARNING:tensorflow:Early stopping conditioned on metric `val_loss` which is not available. Available metrics are: loss,mean_absolute_error,root_mean_squared_error,mean_absolute_percentage_error\n",
      "972/972 [==============================] - 112s 115ms/step - loss: 555.8865 - mean_absolute_error: 17.4108 - root_mean_squared_error: 23.5772 - mean_absolute_percentage_error: 7959231.0000\n",
      "Epoch 13/100\n",
      "972/972 [==============================] - ETA: 0s - loss: 544.6606 - mean_absolute_error: 17.2441 - root_mean_squared_error: 23.3380 - mean_absolute_percentage_error: 6771599.0000WARNING:tensorflow:Early stopping conditioned on metric `val_loss` which is not available. Available metrics are: loss,mean_absolute_error,root_mean_squared_error,mean_absolute_percentage_error\n",
      "972/972 [==============================] - 113s 116ms/step - loss: 544.6606 - mean_absolute_error: 17.2441 - root_mean_squared_error: 23.3380 - mean_absolute_percentage_error: 6771599.0000\n",
      "Epoch 14/100\n",
      "972/972 [==============================] - ETA: 0s - loss: 533.6494 - mean_absolute_error: 17.0862 - root_mean_squared_error: 23.1009 - mean_absolute_percentage_error: 7923399.0000WARNING:tensorflow:Early stopping conditioned on metric `val_loss` which is not available. Available metrics are: loss,mean_absolute_error,root_mean_squared_error,mean_absolute_percentage_error\n",
      "972/972 [==============================] - 112s 115ms/step - loss: 533.6494 - mean_absolute_error: 17.0862 - root_mean_squared_error: 23.1009 - mean_absolute_percentage_error: 7923399.0000\n"
     ]
    },
    {
     "name": "stdout",
     "output_type": "stream",
     "text": [
      "Epoch 15/100\n",
      "972/972 [==============================] - ETA: 0s - loss: 528.3112 - mean_absolute_error: 17.0130 - root_mean_squared_error: 22.9850 - mean_absolute_percentage_error: 8739004.0000WARNING:tensorflow:Early stopping conditioned on metric `val_loss` which is not available. Available metrics are: loss,mean_absolute_error,root_mean_squared_error,mean_absolute_percentage_error\n",
      "972/972 [==============================] - 112s 115ms/step - loss: 528.3112 - mean_absolute_error: 17.0130 - root_mean_squared_error: 22.9850 - mean_absolute_percentage_error: 8739004.0000\n",
      "Epoch 16/100\n",
      "972/972 [==============================] - ETA: 0s - loss: 519.1397 - mean_absolute_error: 16.8812 - root_mean_squared_error: 22.7846 - mean_absolute_percentage_error: 8199802.5000WARNING:tensorflow:Early stopping conditioned on metric `val_loss` which is not available. Available metrics are: loss,mean_absolute_error,root_mean_squared_error,mean_absolute_percentage_error\n",
      "972/972 [==============================] - 112s 115ms/step - loss: 519.1397 - mean_absolute_error: 16.8812 - root_mean_squared_error: 22.7846 - mean_absolute_percentage_error: 8199802.5000\n",
      "Epoch 17/100\n",
      "972/972 [==============================] - ETA: 0s - loss: 515.9958 - mean_absolute_error: 16.8354 - root_mean_squared_error: 22.7155 - mean_absolute_percentage_error: 9072824.0000WARNING:tensorflow:Early stopping conditioned on metric `val_loss` which is not available. Available metrics are: loss,mean_absolute_error,root_mean_squared_error,mean_absolute_percentage_error\n",
      "972/972 [==============================] - 112s 115ms/step - loss: 515.9958 - mean_absolute_error: 16.8354 - root_mean_squared_error: 22.7155 - mean_absolute_percentage_error: 9072824.0000\n",
      "Epoch 18/100\n",
      "972/972 [==============================] - ETA: 0s - loss: 513.8540 - mean_absolute_error: 16.8049 - root_mean_squared_error: 22.6683 - mean_absolute_percentage_error: 6854893.0000WARNING:tensorflow:Early stopping conditioned on metric `val_loss` which is not available. Available metrics are: loss,mean_absolute_error,root_mean_squared_error,mean_absolute_percentage_error\n",
      "972/972 [==============================] - 111s 114ms/step - loss: 513.8540 - mean_absolute_error: 16.8049 - root_mean_squared_error: 22.6683 - mean_absolute_percentage_error: 6854893.0000\n",
      "Epoch 19/100\n",
      "972/972 [==============================] - ETA: 0s - loss: 506.1824 - mean_absolute_error: 16.6880 - root_mean_squared_error: 22.4985 - mean_absolute_percentage_error: 7877392.0000WARNING:tensorflow:Early stopping conditioned on metric `val_loss` which is not available. Available metrics are: loss,mean_absolute_error,root_mean_squared_error,mean_absolute_percentage_error\n",
      "972/972 [==============================] - 111s 114ms/step - loss: 506.1824 - mean_absolute_error: 16.6880 - root_mean_squared_error: 22.4985 - mean_absolute_percentage_error: 7877392.0000\n",
      "Epoch 20/100\n",
      "972/972 [==============================] - ETA: 0s - loss: 508.5189 - mean_absolute_error: 16.7244 - root_mean_squared_error: 22.5504 - mean_absolute_percentage_error: 7283795.0000WARNING:tensorflow:Early stopping conditioned on metric `val_loss` which is not available. Available metrics are: loss,mean_absolute_error,root_mean_squared_error,mean_absolute_percentage_error\n",
      "972/972 [==============================] - 112s 115ms/step - loss: 508.5189 - mean_absolute_error: 16.7244 - root_mean_squared_error: 22.5504 - mean_absolute_percentage_error: 7283795.0000\n",
      "Epoch 21/100\n",
      "972/972 [==============================] - ETA: 0s - loss: 500.5618 - mean_absolute_error: 16.5929 - root_mean_squared_error: 22.3732 - mean_absolute_percentage_error: 7423275.0000WARNING:tensorflow:Early stopping conditioned on metric `val_loss` which is not available. Available metrics are: loss,mean_absolute_error,root_mean_squared_error,mean_absolute_percentage_error\n",
      "972/972 [==============================] - 111s 114ms/step - loss: 500.5618 - mean_absolute_error: 16.5929 - root_mean_squared_error: 22.3732 - mean_absolute_percentage_error: 7423275.0000\n",
      "Epoch 22/100\n",
      "972/972 [==============================] - ETA: 0s - loss: 499.3040 - mean_absolute_error: 16.5808 - root_mean_squared_error: 22.3451 - mean_absolute_percentage_error: 6900610.0000WARNING:tensorflow:Early stopping conditioned on metric `val_loss` which is not available. Available metrics are: loss,mean_absolute_error,root_mean_squared_error,mean_absolute_percentage_error\n",
      "972/972 [==============================] - 112s 115ms/step - loss: 499.3040 - mean_absolute_error: 16.5808 - root_mean_squared_error: 22.3451 - mean_absolute_percentage_error: 6900610.0000\n",
      "Epoch 23/100\n",
      "972/972 [==============================] - ETA: 0s - loss: 497.5406 - mean_absolute_error: 16.5445 - root_mean_squared_error: 22.3056 - mean_absolute_percentage_error: 6868374.5000WARNING:tensorflow:Early stopping conditioned on metric `val_loss` which is not available. Available metrics are: loss,mean_absolute_error,root_mean_squared_error,mean_absolute_percentage_error\n",
      "972/972 [==============================] - 112s 115ms/step - loss: 497.5406 - mean_absolute_error: 16.5445 - root_mean_squared_error: 22.3056 - mean_absolute_percentage_error: 6868374.5000\n",
      "Epoch 24/100\n",
      "972/972 [==============================] - ETA: 0s - loss: 494.0929 - mean_absolute_error: 16.4922 - root_mean_squared_error: 22.2282 - mean_absolute_percentage_error: 7427431.5000WARNING:tensorflow:Early stopping conditioned on metric `val_loss` which is not available. Available metrics are: loss,mean_absolute_error,root_mean_squared_error,mean_absolute_percentage_error\n",
      "972/972 [==============================] - 100s 103ms/step - loss: 494.0929 - mean_absolute_error: 16.4922 - root_mean_squared_error: 22.2282 - mean_absolute_percentage_error: 7427431.5000\n",
      "Epoch 25/100\n",
      "972/972 [==============================] - ETA: 0s - loss: 496.6071 - mean_absolute_error: 16.5274 - root_mean_squared_error: 22.2847 - mean_absolute_percentage_error: 6481250.5000WARNING:tensorflow:Early stopping conditioned on metric `val_loss` which is not available. Available metrics are: loss,mean_absolute_error,root_mean_squared_error,mean_absolute_percentage_error\n",
      "972/972 [==============================] - 104s 107ms/step - loss: 496.6071 - mean_absolute_error: 16.5274 - root_mean_squared_error: 22.2847 - mean_absolute_percentage_error: 6481250.5000\n",
      "Epoch 26/100\n",
      "972/972 [==============================] - ETA: 0s - loss: 494.6638 - mean_absolute_error: 16.4981 - root_mean_squared_error: 22.2410 - mean_absolute_percentage_error: 7441646.5000WARNING:tensorflow:Early stopping conditioned on metric `val_loss` which is not available. Available metrics are: loss,mean_absolute_error,root_mean_squared_error,mean_absolute_percentage_error\n",
      "972/972 [==============================] - 105s 108ms/step - loss: 494.6638 - mean_absolute_error: 16.4981 - root_mean_squared_error: 22.2410 - mean_absolute_percentage_error: 7441646.5000\n",
      "Epoch 27/100\n",
      "972/972 [==============================] - ETA: 0s - loss: 492.8615 - mean_absolute_error: 16.4795 - root_mean_squared_error: 22.2005 - mean_absolute_percentage_error: 6621416.5000WARNING:tensorflow:Early stopping conditioned on metric `val_loss` which is not available. Available metrics are: loss,mean_absolute_error,root_mean_squared_error,mean_absolute_percentage_error\n",
      "972/972 [==============================] - 104s 107ms/step - loss: 492.8615 - mean_absolute_error: 16.4795 - root_mean_squared_error: 22.2005 - mean_absolute_percentage_error: 6621416.5000\n",
      "Epoch 28/100\n",
      "972/972 [==============================] - ETA: 0s - loss: 489.2189 - mean_absolute_error: 16.4005 - root_mean_squared_error: 22.1183 - mean_absolute_percentage_error: 6502747.5000WARNING:tensorflow:Early stopping conditioned on metric `val_loss` which is not available. Available metrics are: loss,mean_absolute_error,root_mean_squared_error,mean_absolute_percentage_error\n",
      "972/972 [==============================] - 105s 108ms/step - loss: 489.2189 - mean_absolute_error: 16.4005 - root_mean_squared_error: 22.1183 - mean_absolute_percentage_error: 6502747.5000\n",
      "Epoch 29/100\n",
      "972/972 [==============================] - ETA: 0s - loss: 487.9141 - mean_absolute_error: 16.3988 - root_mean_squared_error: 22.0888 - mean_absolute_percentage_error: 6461384.5000WARNING:tensorflow:Early stopping conditioned on metric `val_loss` which is not available. Available metrics are: loss,mean_absolute_error,root_mean_squared_error,mean_absolute_percentage_error\n",
      "972/972 [==============================] - 104s 107ms/step - loss: 487.9141 - mean_absolute_error: 16.3988 - root_mean_squared_error: 22.0888 - mean_absolute_percentage_error: 6461384.5000\n",
      "Epoch 30/100\n",
      "972/972 [==============================] - ETA: 0s - loss: 485.7921 - mean_absolute_error: 16.3548 - root_mean_squared_error: 22.0407 - mean_absolute_percentage_error: 5826645.0000 ETA: 1s - loss: 485.9091 - mean_absolute_error: 16.3598 - root_mean_squared_error: 22.0433 - mean_absolute_percenWARNING:tensorflow:Early stopping conditioned on metric `val_loss` which is not available. Available metrics are: loss,mean_absolute_error,root_mean_squared_error,mean_absolute_percentage_error\n",
      "972/972 [==============================] - 104s 107ms/step - loss: 485.7921 - mean_absolute_error: 16.3548 - root_mean_squared_error: 22.0407 - mean_absolute_percentage_error: 5826645.0000\n",
      "Epoch 31/100\n",
      "972/972 [==============================] - ETA: 0s - loss: 482.2186 - mean_absolute_error: 16.2898 - root_mean_squared_error: 21.9595 - mean_absolute_percentage_error: 5860391.0000WARNING:tensorflow:Early stopping conditioned on metric `val_loss` which is not available. Available metrics are: loss,mean_absolute_error,root_mean_squared_error,mean_absolute_percentage_error\n",
      "972/972 [==============================] - 104s 107ms/step - loss: 482.2186 - mean_absolute_error: 16.2898 - root_mean_squared_error: 21.9595 - mean_absolute_percentage_error: 5860391.0000\n",
      "Epoch 32/100\n",
      "972/972 [==============================] - ETA: 0s - loss: 486.3271 - mean_absolute_error: 16.3747 - root_mean_squared_error: 22.0528 - mean_absolute_percentage_error: 6649291.0000WARNING:tensorflow:Early stopping conditioned on metric `val_loss` which is not available. Available metrics are: loss,mean_absolute_error,root_mean_squared_error,mean_absolute_percentage_error\n",
      "972/972 [==============================] - 104s 107ms/step - loss: 486.3271 - mean_absolute_error: 16.3747 - root_mean_squared_error: 22.0528 - mean_absolute_percentage_error: 6649291.0000\n",
      "Epoch 33/100\n",
      "972/972 [==============================] - ETA: 0s - loss: 482.1840 - mean_absolute_error: 16.2765 - root_mean_squared_error: 21.9587 - mean_absolute_percentage_error: 5837133.0000WARNING:tensorflow:Early stopping conditioned on metric `val_loss` which is not available. Available metrics are: loss,mean_absolute_error,root_mean_squared_error,mean_absolute_percentage_error\n",
      "972/972 [==============================] - 104s 107ms/step - loss: 482.1840 - mean_absolute_error: 16.2765 - root_mean_squared_error: 21.9587 - mean_absolute_percentage_error: 5837133.0000\n",
      "Epoch 34/100\n",
      "971/972 [============================>.] - ETA: 0s - loss: 479.6769 - mean_absolute_error: 16.2434 - root_mean_squared_error: 21.9015 - mean_absolute_percentage_error: 5522837.0000WARNING:tensorflow:Early stopping conditioned on metric `val_loss` which is not available. Available metrics are: loss,mean_absolute_error,root_mean_squared_error,mean_absolute_percentage_error\n",
      "972/972 [==============================] - 105s 108ms/step - loss: 479.9627 - mean_absolute_error: 16.2482 - root_mean_squared_error: 21.9081 - mean_absolute_percentage_error: 5519817.0000\n",
      "Epoch 35/100\n",
      "972/972 [==============================] - ETA: 0s - loss: 479.1884 - mean_absolute_error: 16.2344 - root_mean_squared_error: 21.8904 - mean_absolute_percentage_error: 5803653.0000WARNING:tensorflow:Early stopping conditioned on metric `val_loss` which is not available. Available metrics are: loss,mean_absolute_error,root_mean_squared_error,mean_absolute_percentage_error\n",
      "972/972 [==============================] - 105s 108ms/step - loss: 479.1884 - mean_absolute_error: 16.2344 - root_mean_squared_error: 21.8904 - mean_absolute_percentage_error: 5803653.0000\n",
      "Epoch 36/100\n",
      "972/972 [==============================] - ETA: 0s - loss: 478.8358 - mean_absolute_error: 16.2398 - root_mean_squared_error: 21.8823 - mean_absolute_percentage_error: 6206563.0000WARNING:tensorflow:Early stopping conditioned on metric `val_loss` which is not available. Available metrics are: loss,mean_absolute_error,root_mean_squared_error,mean_absolute_percentage_error\n",
      "972/972 [==============================] - 104s 107ms/step - loss: 478.8358 - mean_absolute_error: 16.2398 - root_mean_squared_error: 21.8823 - mean_absolute_percentage_error: 6206563.0000\n",
      "Epoch 37/100\n",
      "972/972 [==============================] - ETA: 0s - loss: 476.7670 - mean_absolute_error: 16.1946 - root_mean_squared_error: 21.8350 - mean_absolute_percentage_error: 5925583.0000WARNING:tensorflow:Early stopping conditioned on metric `val_loss` which is not available. Available metrics are: loss,mean_absolute_error,root_mean_squared_error,mean_absolute_percentage_error\n",
      "972/972 [==============================] - 104s 107ms/step - loss: 476.7670 - mean_absolute_error: 16.1946 - root_mean_squared_error: 21.8350 - mean_absolute_percentage_error: 5925583.0000\n",
      "Epoch 38/100\n",
      "972/972 [==============================] - ETA: 0s - loss: 478.6460 - mean_absolute_error: 16.2122 - root_mean_squared_error: 21.8780 - mean_absolute_percentage_error: 4951777.0000WARNING:tensorflow:Early stopping conditioned on metric `val_loss` which is not available. Available metrics are: loss,mean_absolute_error,root_mean_squared_error,mean_absolute_percentage_error\n",
      "972/972 [==============================] - 104s 107ms/step - loss: 478.6460 - mean_absolute_error: 16.2122 - root_mean_squared_error: 21.8780 - mean_absolute_percentage_error: 4951777.0000\n",
      "Epoch 39/100\n",
      "972/972 [==============================] - ETA: 0s - loss: 476.4654 - mean_absolute_error: 16.1852 - root_mean_squared_error: 21.8281 - mean_absolute_percentage_error: 5061884.0000WARNING:tensorflow:Early stopping conditioned on metric `val_loss` which is not available. Available metrics are: loss,mean_absolute_error,root_mean_squared_error,mean_absolute_percentage_error\n",
      "972/972 [==============================] - 104s 107ms/step - loss: 476.4654 - mean_absolute_error: 16.1852 - root_mean_squared_error: 21.8281 - mean_absolute_percentage_error: 5061884.0000\n",
      "Epoch 40/100\n",
      "971/972 [============================>.] - ETA: 0s - loss: 476.2067 - mean_absolute_error: 16.1911 - root_mean_squared_error: 21.8222 - mean_absolute_percentage_error: 5600819.5000WARNING:tensorflow:Early stopping conditioned on metric `val_loss` which is not available. Available metrics are: loss,mean_absolute_error,root_mean_squared_error,mean_absolute_percentage_error\n",
      "972/972 [==============================] - 105s 108ms/step - loss: 476.3506 - mean_absolute_error: 16.1925 - root_mean_squared_error: 21.8255 - mean_absolute_percentage_error: 5597757.0000\n",
      "Epoch 41/100\n",
      "972/972 [==============================] - ETA: 0s - loss: 476.1866 - mean_absolute_error: 16.1836 - root_mean_squared_error: 21.8217 - mean_absolute_percentage_error: 5123769.0000WARNING:tensorflow:Early stopping conditioned on metric `val_loss` which is not available. Available metrics are: loss,mean_absolute_error,root_mean_squared_error,mean_absolute_percentage_error\n",
      "972/972 [==============================] - 105s 108ms/step - loss: 476.1866 - mean_absolute_error: 16.1836 - root_mean_squared_error: 21.8217 - mean_absolute_percentage_error: 5123769.0000\n",
      "Epoch 42/100\n",
      "972/972 [==============================] - ETA: 0s - loss: 471.9549 - mean_absolute_error: 16.1128 - root_mean_squared_error: 21.7245 - mean_absolute_percentage_error: 5100111.5000WARNING:tensorflow:Early stopping conditioned on metric `val_loss` which is not available. Available metrics are: loss,mean_absolute_error,root_mean_squared_error,mean_absolute_percentage_error\n",
      "972/972 [==============================] - 104s 107ms/step - loss: 471.9549 - mean_absolute_error: 16.1128 - root_mean_squared_error: 21.7245 - mean_absolute_percentage_error: 5100111.5000\n",
      "Epoch 43/100\n"
     ]
    },
    {
     "name": "stdout",
     "output_type": "stream",
     "text": [
      "972/972 [==============================] - ETA: 0s - loss: 472.5568 - mean_absolute_error: 16.1197 - root_mean_squared_error: 21.7384 - mean_absolute_percentage_error: 4324374.5000WARNING:tensorflow:Early stopping conditioned on metric `val_loss` which is not available. Available metrics are: loss,mean_absolute_error,root_mean_squared_error,mean_absolute_percentage_error\n",
      "972/972 [==============================] - 104s 107ms/step - loss: 472.5568 - mean_absolute_error: 16.1197 - root_mean_squared_error: 21.7384 - mean_absolute_percentage_error: 4324374.5000\n",
      "Epoch 44/100\n",
      "972/972 [==============================] - ETA: 0s - loss: 472.1652 - mean_absolute_error: 16.1150 - root_mean_squared_error: 21.7294 - mean_absolute_percentage_error: 5305771.0000 ETA: 1s - loss: 472.2130 - mean_absolute_error: 16.1123 - root_mean_squared_error: 21.7305 - mean_absolute_WARNING:tensorflow:Early stopping conditioned on metric `val_loss` which is not available. Available metrics are: loss,mean_absolute_error,root_mean_squared_error,mean_absolute_percentage_error\n",
      "972/972 [==============================] - 104s 107ms/step - loss: 472.1652 - mean_absolute_error: 16.1150 - root_mean_squared_error: 21.7294 - mean_absolute_percentage_error: 5305771.0000\n",
      "Epoch 45/100\n",
      "972/972 [==============================] - ETA: 0s - loss: 471.3389 - mean_absolute_error: 16.1154 - root_mean_squared_error: 21.7103 - mean_absolute_percentage_error: 4925736.5000WARNING:tensorflow:Early stopping conditioned on metric `val_loss` which is not available. Available metrics are: loss,mean_absolute_error,root_mean_squared_error,mean_absolute_percentage_error\n",
      "972/972 [==============================] - 104s 107ms/step - loss: 471.3389 - mean_absolute_error: 16.1154 - root_mean_squared_error: 21.7103 - mean_absolute_percentage_error: 4925736.5000\n",
      "Epoch 46/100\n",
      "972/972 [==============================] - ETA: 0s - loss: 470.1754 - mean_absolute_error: 16.0844 - root_mean_squared_error: 21.6835 - mean_absolute_percentage_error: 5020431.0000WARNING:tensorflow:Early stopping conditioned on metric `val_loss` which is not available. Available metrics are: loss,mean_absolute_error,root_mean_squared_error,mean_absolute_percentage_error\n",
      "972/972 [==============================] - 104s 107ms/step - loss: 470.1754 - mean_absolute_error: 16.0844 - root_mean_squared_error: 21.6835 - mean_absolute_percentage_error: 5020431.0000\n",
      "Epoch 47/100\n",
      "972/972 [==============================] - ETA: 0s - loss: 471.4460 - mean_absolute_error: 16.0919 - root_mean_squared_error: 21.7128 - mean_absolute_percentage_error: 5300059.5000WARNING:tensorflow:Early stopping conditioned on metric `val_loss` which is not available. Available metrics are: loss,mean_absolute_error,root_mean_squared_error,mean_absolute_percentage_error\n",
      "972/972 [==============================] - 104s 107ms/step - loss: 471.4460 - mean_absolute_error: 16.0919 - root_mean_squared_error: 21.7128 - mean_absolute_percentage_error: 5300059.5000\n",
      "Epoch 48/100\n",
      "972/972 [==============================] - ETA: 0s - loss: 467.7301 - mean_absolute_error: 16.0382 - root_mean_squared_error: 21.6271 - mean_absolute_percentage_error: 5119045.5000WARNING:tensorflow:Early stopping conditioned on metric `val_loss` which is not available. Available metrics are: loss,mean_absolute_error,root_mean_squared_error,mean_absolute_percentage_error\n",
      "972/972 [==============================] - 104s 107ms/step - loss: 467.7301 - mean_absolute_error: 16.0382 - root_mean_squared_error: 21.6271 - mean_absolute_percentage_error: 5119045.5000\n",
      "Epoch 49/100\n",
      "972/972 [==============================] - ETA: 0s - loss: 469.9748 - mean_absolute_error: 16.0791 - root_mean_squared_error: 21.6789 - mean_absolute_percentage_error: 4392534.0000WARNING:tensorflow:Early stopping conditioned on metric `val_loss` which is not available. Available metrics are: loss,mean_absolute_error,root_mean_squared_error,mean_absolute_percentage_error\n",
      "972/972 [==============================] - 99s 102ms/step - loss: 469.9748 - mean_absolute_error: 16.0791 - root_mean_squared_error: 21.6789 - mean_absolute_percentage_error: 4392534.0000\n",
      "Epoch 50/100\n",
      "972/972 [==============================] - ETA: 0s - loss: 467.6008 - mean_absolute_error: 16.0309 - root_mean_squared_error: 21.6241 - mean_absolute_percentage_error: 5230254.0000WARNING:tensorflow:Early stopping conditioned on metric `val_loss` which is not available. Available metrics are: loss,mean_absolute_error,root_mean_squared_error,mean_absolute_percentage_error\n",
      "972/972 [==============================] - 102s 105ms/step - loss: 467.6008 - mean_absolute_error: 16.0309 - root_mean_squared_error: 21.6241 - mean_absolute_percentage_error: 5230254.0000\n",
      "Epoch 51/100\n",
      "972/972 [==============================] - ETA: 0s - loss: 467.1281 - mean_absolute_error: 16.0244 - root_mean_squared_error: 21.6131 - mean_absolute_percentage_error: 4617802.0000WARNING:tensorflow:Early stopping conditioned on metric `val_loss` which is not available. Available metrics are: loss,mean_absolute_error,root_mean_squared_error,mean_absolute_percentage_error\n",
      "972/972 [==============================] - 101s 104ms/step - loss: 467.1281 - mean_absolute_error: 16.0244 - root_mean_squared_error: 21.6131 - mean_absolute_percentage_error: 4617802.0000\n",
      "Epoch 52/100\n",
      "972/972 [==============================] - ETA: 0s - loss: 468.8705 - mean_absolute_error: 16.0630 - root_mean_squared_error: 21.6534 - mean_absolute_percentage_error: 5146227.5000WARNING:tensorflow:Early stopping conditioned on metric `val_loss` which is not available. Available metrics are: loss,mean_absolute_error,root_mean_squared_error,mean_absolute_percentage_error\n",
      "972/972 [==============================] - 102s 105ms/step - loss: 468.8705 - mean_absolute_error: 16.0630 - root_mean_squared_error: 21.6534 - mean_absolute_percentage_error: 5146227.5000\n",
      "Epoch 53/100\n",
      "972/972 [==============================] - ETA: 0s - loss: 468.2827 - mean_absolute_error: 16.0446 - root_mean_squared_error: 21.6399 - mean_absolute_percentage_error: 4189100.7500WARNING:tensorflow:Early stopping conditioned on metric `val_loss` which is not available. Available metrics are: loss,mean_absolute_error,root_mean_squared_error,mean_absolute_percentage_error\n",
      "972/972 [==============================] - 102s 105ms/step - loss: 468.2827 - mean_absolute_error: 16.0446 - root_mean_squared_error: 21.6399 - mean_absolute_percentage_error: 4189100.7500\n",
      "Epoch 54/100\n",
      "972/972 [==============================] - ETA: 0s - loss: 464.2906 - mean_absolute_error: 15.9844 - root_mean_squared_error: 21.5474 - mean_absolute_percentage_error: 4465322.0000WARNING:tensorflow:Early stopping conditioned on metric `val_loss` which is not available. Available metrics are: loss,mean_absolute_error,root_mean_squared_error,mean_absolute_percentage_error\n",
      "972/972 [==============================] - 102s 105ms/step - loss: 464.2906 - mean_absolute_error: 15.9844 - root_mean_squared_error: 21.5474 - mean_absolute_percentage_error: 4465322.0000\n",
      "Epoch 55/100\n",
      "972/972 [==============================] - ETA: 0s - loss: 466.4731 - mean_absolute_error: 16.0269 - root_mean_squared_error: 21.5980 - mean_absolute_percentage_error: 3921124.0000WARNING:tensorflow:Early stopping conditioned on metric `val_loss` which is not available. Available metrics are: loss,mean_absolute_error,root_mean_squared_error,mean_absolute_percentage_error\n",
      "972/972 [==============================] - 102s 105ms/step - loss: 466.4731 - mean_absolute_error: 16.0269 - root_mean_squared_error: 21.5980 - mean_absolute_percentage_error: 3921124.0000\n",
      "Epoch 56/100\n",
      "972/972 [==============================] - ETA: 0s - loss: 463.0490 - mean_absolute_error: 15.9746 - root_mean_squared_error: 21.5186 - mean_absolute_percentage_error: 3996891.5000WARNING:tensorflow:Early stopping conditioned on metric `val_loss` which is not available. Available metrics are: loss,mean_absolute_error,root_mean_squared_error,mean_absolute_percentage_error\n",
      "972/972 [==============================] - 102s 105ms/step - loss: 463.0490 - mean_absolute_error: 15.9746 - root_mean_squared_error: 21.5186 - mean_absolute_percentage_error: 3996891.5000\n",
      "Epoch 57/100\n",
      "972/972 [==============================] - ETA: 0s - loss: 463.1100 - mean_absolute_error: 15.9661 - root_mean_squared_error: 21.5200 - mean_absolute_percentage_error: 4875457.0000WARNING:tensorflow:Early stopping conditioned on metric `val_loss` which is not available. Available metrics are: loss,mean_absolute_error,root_mean_squared_error,mean_absolute_percentage_error\n",
      "972/972 [==============================] - 102s 105ms/step - loss: 463.1100 - mean_absolute_error: 15.9661 - root_mean_squared_error: 21.5200 - mean_absolute_percentage_error: 4875457.0000\n",
      "Epoch 58/100\n",
      "971/972 [============================>.] - ETA: 0s - loss: 460.4259 - mean_absolute_error: 15.9164 - root_mean_squared_error: 21.4575 - mean_absolute_percentage_error: 4190769.7500WARNING:tensorflow:Early stopping conditioned on metric `val_loss` which is not available. Available metrics are: loss,mean_absolute_error,root_mean_squared_error,mean_absolute_percentage_error\n",
      "972/972 [==============================] - 102s 105ms/step - loss: 460.4331 - mean_absolute_error: 15.9157 - root_mean_squared_error: 21.4577 - mean_absolute_percentage_error: 4188478.2500\n",
      "Epoch 59/100\n",
      "972/972 [==============================] - ETA: 0s - loss: 462.8849 - mean_absolute_error: 15.9505 - root_mean_squared_error: 21.5148 - mean_absolute_percentage_error: 4609569.0000WARNING:tensorflow:Early stopping conditioned on metric `val_loss` which is not available. Available metrics are: loss,mean_absolute_error,root_mean_squared_error,mean_absolute_percentage_error\n",
      "972/972 [==============================] - 102s 105ms/step - loss: 462.8849 - mean_absolute_error: 15.9505 - root_mean_squared_error: 21.5148 - mean_absolute_percentage_error: 4609569.0000\n",
      "Epoch 60/100\n",
      "972/972 [==============================] - ETA: 0s - loss: 462.7091 - mean_absolute_error: 15.9519 - root_mean_squared_error: 21.5107 - mean_absolute_percentage_error: 4464172.5000WARNING:tensorflow:Early stopping conditioned on metric `val_loss` which is not available. Available metrics are: loss,mean_absolute_error,root_mean_squared_error,mean_absolute_percentage_error\n",
      "972/972 [==============================] - 102s 105ms/step - loss: 462.7091 - mean_absolute_error: 15.9519 - root_mean_squared_error: 21.5107 - mean_absolute_percentage_error: 4464172.5000\n",
      "Epoch 61/100\n",
      "972/972 [==============================] - ETA: 0s - loss: 460.6713 - mean_absolute_error: 15.9202 - root_mean_squared_error: 21.4633 - mean_absolute_percentage_error: 5153815.5000WARNING:tensorflow:Early stopping conditioned on metric `val_loss` which is not available. Available metrics are: loss,mean_absolute_error,root_mean_squared_error,mean_absolute_percentage_error\n",
      "972/972 [==============================] - 102s 105ms/step - loss: 460.6713 - mean_absolute_error: 15.9202 - root_mean_squared_error: 21.4633 - mean_absolute_percentage_error: 5153815.5000\n",
      "Epoch 62/100\n",
      "972/972 [==============================] - ETA: 0s - loss: 459.1852 - mean_absolute_error: 15.9055 - root_mean_squared_error: 21.4286 - mean_absolute_percentage_error: 4126752.2500WARNING:tensorflow:Early stopping conditioned on metric `val_loss` which is not available. Available metrics are: loss,mean_absolute_error,root_mean_squared_error,mean_absolute_percentage_error\n",
      "972/972 [==============================] - 102s 105ms/step - loss: 459.1852 - mean_absolute_error: 15.9055 - root_mean_squared_error: 21.4286 - mean_absolute_percentage_error: 4126752.2500\n",
      "Epoch 63/100\n",
      "972/972 [==============================] - ETA: 0s - loss: 458.4440 - mean_absolute_error: 15.8886 - root_mean_squared_error: 21.4113 - mean_absolute_percentage_error: 4351781.5000WARNING:tensorflow:Early stopping conditioned on metric `val_loss` which is not available. Available metrics are: loss,mean_absolute_error,root_mean_squared_error,mean_absolute_percentage_error\n",
      "972/972 [==============================] - 103s 106ms/step - loss: 458.4440 - mean_absolute_error: 15.8886 - root_mean_squared_error: 21.4113 - mean_absolute_percentage_error: 4351781.5000\n",
      "Epoch 64/100\n",
      "972/972 [==============================] - ETA: 0s - loss: 458.8662 - mean_absolute_error: 15.8927 - root_mean_squared_error: 21.4212 - mean_absolute_percentage_error: 4330904.5000WARNING:tensorflow:Early stopping conditioned on metric `val_loss` which is not available. Available metrics are: loss,mean_absolute_error,root_mean_squared_error,mean_absolute_percentage_error\n",
      "972/972 [==============================] - 102s 105ms/step - loss: 458.8662 - mean_absolute_error: 15.8927 - root_mean_squared_error: 21.4212 - mean_absolute_percentage_error: 4330904.5000\n",
      "Epoch 65/100\n",
      "972/972 [==============================] - ETA: 0s - loss: 455.5350 - mean_absolute_error: 15.8388 - root_mean_squared_error: 21.3433 - mean_absolute_percentage_error: 3879596.0000WARNING:tensorflow:Early stopping conditioned on metric `val_loss` which is not available. Available metrics are: loss,mean_absolute_error,root_mean_squared_error,mean_absolute_percentage_error\n",
      "972/972 [==============================] - 102s 105ms/step - loss: 455.5350 - mean_absolute_error: 15.8388 - root_mean_squared_error: 21.3433 - mean_absolute_percentage_error: 3879596.0000\n",
      "Epoch 66/100\n",
      "971/972 [============================>.] - ETA: 0s - loss: 458.0812 - mean_absolute_error: 15.8837 - root_mean_squared_error: 21.4028 - mean_absolute_percentage_error: 4269277.0000WARNING:tensorflow:Early stopping conditioned on metric `val_loss` which is not available. Available metrics are: loss,mean_absolute_error,root_mean_squared_error,mean_absolute_percentage_error\n",
      "972/972 [==============================] - 102s 105ms/step - loss: 458.0953 - mean_absolute_error: 15.8840 - root_mean_squared_error: 21.4032 - mean_absolute_percentage_error: 4266942.5000\n",
      "Epoch 67/100\n",
      "972/972 [==============================] - ETA: 0s - loss: 455.0650 - mean_absolute_error: 15.8301 - root_mean_squared_error: 21.3323 - mean_absolute_percentage_error: 4241939.5000WARNING:tensorflow:Early stopping conditioned on metric `val_loss` which is not available. Available metrics are: loss,mean_absolute_error,root_mean_squared_error,mean_absolute_percentage_error\n",
      "972/972 [==============================] - 102s 105ms/step - loss: 455.0650 - mean_absolute_error: 15.8301 - root_mean_squared_error: 21.3323 - mean_absolute_percentage_error: 4241939.5000\n",
      "Epoch 68/100\n",
      "972/972 [==============================] - ETA: 0s - loss: 459.4314 - mean_absolute_error: 15.9088 - root_mean_squared_error: 21.4343 - mean_absolute_percentage_error: 4586809.0000WARNING:tensorflow:Early stopping conditioned on metric `val_loss` which is not available. Available metrics are: loss,mean_absolute_error,root_mean_squared_error,mean_absolute_percentage_error\n",
      "972/972 [==============================] - 102s 105ms/step - loss: 459.4314 - mean_absolute_error: 15.9088 - root_mean_squared_error: 21.4343 - mean_absolute_percentage_error: 4586809.0000\n",
      "Epoch 69/100\n",
      "971/972 [============================>.] - ETA: 0s - loss: 461.3613 - mean_absolute_error: 15.9243 - root_mean_squared_error: 21.4793 - mean_absolute_percentage_error: 4848237.0000WARNING:tensorflow:Early stopping conditioned on metric `val_loss` which is not available. Available metrics are: loss,mean_absolute_error,root_mean_squared_error,mean_absolute_percentage_error\n",
      "972/972 [==============================] - 102s 105ms/step - loss: 461.3391 - mean_absolute_error: 15.9242 - root_mean_squared_error: 21.4788 - mean_absolute_percentage_error: 4878980.0000\n",
      "Epoch 70/100\n",
      "971/972 [============================>.] - ETA: 0s - loss: 456.3209 - mean_absolute_error: 15.8463 - root_mean_squared_error: 21.3617 - mean_absolute_percentage_error: 4488393.0000WARNING:tensorflow:Early stopping conditioned on metric `val_loss` which is not available. Available metrics are: loss,mean_absolute_error,root_mean_squared_error,mean_absolute_percentage_error\n",
      "972/972 [==============================] - 102s 105ms/step - loss: 456.4342 - mean_absolute_error: 15.8472 - root_mean_squared_error: 21.3643 - mean_absolute_percentage_error: 4525994.5000\n",
      "Epoch 71/100\n"
     ]
    },
    {
     "name": "stdout",
     "output_type": "stream",
     "text": [
      "972/972 [==============================] - ETA: 0s - loss: 451.5661 - mean_absolute_error: 15.7640 - root_mean_squared_error: 21.2501 - mean_absolute_percentage_error: 4563798.5000WARNING:tensorflow:Early stopping conditioned on metric `val_loss` which is not available. Available metrics are: loss,mean_absolute_error,root_mean_squared_error,mean_absolute_percentage_error\n",
      "972/972 [==============================] - 102s 105ms/step - loss: 451.5661 - mean_absolute_error: 15.7640 - root_mean_squared_error: 21.2501 - mean_absolute_percentage_error: 4563798.5000\n",
      "Epoch 72/100\n",
      "972/972 [==============================] - ETA: 0s - loss: 455.0645 - mean_absolute_error: 15.8312 - root_mean_squared_error: 21.3322 - mean_absolute_percentage_error: 4004755.7500WARNING:tensorflow:Early stopping conditioned on metric `val_loss` which is not available. Available metrics are: loss,mean_absolute_error,root_mean_squared_error,mean_absolute_percentage_error\n",
      "972/972 [==============================] - 102s 105ms/step - loss: 455.0645 - mean_absolute_error: 15.8312 - root_mean_squared_error: 21.3322 - mean_absolute_percentage_error: 4004755.7500\n",
      "Epoch 73/100\n",
      "972/972 [==============================] - ETA: 0s - loss: 452.1924 - mean_absolute_error: 15.7866 - root_mean_squared_error: 21.2648 - mean_absolute_percentage_error: 4828445.5000WARNING:tensorflow:Early stopping conditioned on metric `val_loss` which is not available. Available metrics are: loss,mean_absolute_error,root_mean_squared_error,mean_absolute_percentage_error\n",
      "972/972 [==============================] - 102s 105ms/step - loss: 452.1924 - mean_absolute_error: 15.7866 - root_mean_squared_error: 21.2648 - mean_absolute_percentage_error: 4828445.5000\n",
      "Epoch 74/100\n",
      "972/972 [==============================] - ETA: 0s - loss: 453.1678 - mean_absolute_error: 15.7927 - root_mean_squared_error: 21.2877 - mean_absolute_percentage_error: 4542030.0000WARNING:tensorflow:Early stopping conditioned on metric `val_loss` which is not available. Available metrics are: loss,mean_absolute_error,root_mean_squared_error,mean_absolute_percentage_error\n",
      "972/972 [==============================] - 102s 105ms/step - loss: 453.1678 - mean_absolute_error: 15.7927 - root_mean_squared_error: 21.2877 - mean_absolute_percentage_error: 4542030.0000\n",
      "Epoch 75/100\n",
      "972/972 [==============================] - ETA: 0s - loss: 450.6289 - mean_absolute_error: 15.7493 - root_mean_squared_error: 21.2280 - mean_absolute_percentage_error: 4320422.0000WARNING:tensorflow:Early stopping conditioned on metric `val_loss` which is not available. Available metrics are: loss,mean_absolute_error,root_mean_squared_error,mean_absolute_percentage_error\n",
      "972/972 [==============================] - 102s 105ms/step - loss: 450.6289 - mean_absolute_error: 15.7493 - root_mean_squared_error: 21.2280 - mean_absolute_percentage_error: 4320422.0000\n",
      "Epoch 76/100\n",
      "972/972 [==============================] - ETA: 0s - loss: 450.7802 - mean_absolute_error: 15.7483 - root_mean_squared_error: 21.2316 - mean_absolute_percentage_error: 4828199.0000WARNING:tensorflow:Early stopping conditioned on metric `val_loss` which is not available. Available metrics are: loss,mean_absolute_error,root_mean_squared_error,mean_absolute_percentage_error\n",
      "972/972 [==============================] - 104s 107ms/step - loss: 450.7802 - mean_absolute_error: 15.7483 - root_mean_squared_error: 21.2316 - mean_absolute_percentage_error: 4828199.0000\n",
      "Epoch 77/100\n",
      "972/972 [==============================] - ETA: 0s - loss: 453.3912 - mean_absolute_error: 15.8127 - root_mean_squared_error: 21.2930 - mean_absolute_percentage_error: 4806226.0000WARNING:tensorflow:Early stopping conditioned on metric `val_loss` which is not available. Available metrics are: loss,mean_absolute_error,root_mean_squared_error,mean_absolute_percentage_error\n",
      "972/972 [==============================] - 102s 105ms/step - loss: 453.3912 - mean_absolute_error: 15.8127 - root_mean_squared_error: 21.2930 - mean_absolute_percentage_error: 4806226.0000\n",
      "Epoch 78/100\n",
      "972/972 [==============================] - ETA: 0s - loss: 448.3495 - mean_absolute_error: 15.7125 - root_mean_squared_error: 21.1743 - mean_absolute_percentage_error: 4592599.5000WARNING:tensorflow:Early stopping conditioned on metric `val_loss` which is not available. Available metrics are: loss,mean_absolute_error,root_mean_squared_error,mean_absolute_percentage_error\n",
      "972/972 [==============================] - 102s 105ms/step - loss: 448.3495 - mean_absolute_error: 15.7125 - root_mean_squared_error: 21.1743 - mean_absolute_percentage_error: 4592599.5000\n",
      "Epoch 79/100\n",
      "972/972 [==============================] - ETA: 0s - loss: 448.5649 - mean_absolute_error: 15.7213 - root_mean_squared_error: 21.1793 - mean_absolute_percentage_error: 4639060.0000WARNING:tensorflow:Early stopping conditioned on metric `val_loss` which is not available. Available metrics are: loss,mean_absolute_error,root_mean_squared_error,mean_absolute_percentage_error\n",
      "972/972 [==============================] - 102s 105ms/step - loss: 448.5649 - mean_absolute_error: 15.7213 - root_mean_squared_error: 21.1793 - mean_absolute_percentage_error: 4639060.0000\n",
      "Epoch 80/100\n",
      "972/972 [==============================] - ETA: 0s - loss: 450.7040 - mean_absolute_error: 15.7536 - root_mean_squared_error: 21.2298 - mean_absolute_percentage_error: 4657887.0000WARNING:tensorflow:Early stopping conditioned on metric `val_loss` which is not available. Available metrics are: loss,mean_absolute_error,root_mean_squared_error,mean_absolute_percentage_error\n",
      "972/972 [==============================] - 102s 105ms/step - loss: 450.7040 - mean_absolute_error: 15.7536 - root_mean_squared_error: 21.2298 - mean_absolute_percentage_error: 4657887.0000\n",
      "Epoch 81/100\n",
      "972/972 [==============================] - ETA: 0s - loss: 449.1937 - mean_absolute_error: 15.7311 - root_mean_squared_error: 21.1942 - mean_absolute_percentage_error: 4731191.0000WARNING:tensorflow:Early stopping conditioned on metric `val_loss` which is not available. Available metrics are: loss,mean_absolute_error,root_mean_squared_error,mean_absolute_percentage_error\n",
      "972/972 [==============================] - 102s 105ms/step - loss: 449.1937 - mean_absolute_error: 15.7311 - root_mean_squared_error: 21.1942 - mean_absolute_percentage_error: 4731191.0000\n",
      "Epoch 82/100\n",
      "972/972 [==============================] - ETA: 0s - loss: 446.2733 - mean_absolute_error: 15.6892 - root_mean_squared_error: 21.1252 - mean_absolute_percentage_error: 4746285.5000WARNING:tensorflow:Early stopping conditioned on metric `val_loss` which is not available. Available metrics are: loss,mean_absolute_error,root_mean_squared_error,mean_absolute_percentage_error\n",
      "972/972 [==============================] - 102s 105ms/step - loss: 446.2733 - mean_absolute_error: 15.6892 - root_mean_squared_error: 21.1252 - mean_absolute_percentage_error: 4746285.5000\n",
      "Epoch 83/100\n",
      "972/972 [==============================] - ETA: 0s - loss: 445.2279 - mean_absolute_error: 15.6689 - root_mean_squared_error: 21.1004 - mean_absolute_percentage_error: 4633065.5000WARNING:tensorflow:Early stopping conditioned on metric `val_loss` which is not available. Available metrics are: loss,mean_absolute_error,root_mean_squared_error,mean_absolute_percentage_error\n",
      "972/972 [==============================] - 102s 105ms/step - loss: 445.2279 - mean_absolute_error: 15.6689 - root_mean_squared_error: 21.1004 - mean_absolute_percentage_error: 4633065.5000\n",
      "Epoch 84/100\n",
      "972/972 [==============================] - ETA: 0s - loss: 444.8460 - mean_absolute_error: 15.6591 - root_mean_squared_error: 21.0914 - mean_absolute_percentage_error: 4411314.0000WARNING:tensorflow:Early stopping conditioned on metric `val_loss` which is not available. Available metrics are: loss,mean_absolute_error,root_mean_squared_error,mean_absolute_percentage_error\n",
      "972/972 [==============================] - 102s 105ms/step - loss: 444.8460 - mean_absolute_error: 15.6591 - root_mean_squared_error: 21.0914 - mean_absolute_percentage_error: 4411314.0000\n",
      "Epoch 85/100\n",
      "971/972 [============================>.] - ETA: 0s - loss: 443.0111 - mean_absolute_error: 15.6318 - root_mean_squared_error: 21.0478 - mean_absolute_percentage_error: 4364490.5000WARNING:tensorflow:Early stopping conditioned on metric `val_loss` which is not available. Available metrics are: loss,mean_absolute_error,root_mean_squared_error,mean_absolute_percentage_error\n",
      "972/972 [==============================] - 102s 105ms/step - loss: 443.0576 - mean_absolute_error: 15.6312 - root_mean_squared_error: 21.0489 - mean_absolute_percentage_error: 4362104.0000\n",
      "Epoch 86/100\n",
      "972/972 [==============================] - ETA: 0s - loss: 442.7249 - mean_absolute_error: 15.6156 - root_mean_squared_error: 21.0410 - mean_absolute_percentage_error: 4623663.0000WARNING:tensorflow:Early stopping conditioned on metric `val_loss` which is not available. Available metrics are: loss,mean_absolute_error,root_mean_squared_error,mean_absolute_percentage_error\n",
      "972/972 [==============================] - 102s 105ms/step - loss: 442.7249 - mean_absolute_error: 15.6156 - root_mean_squared_error: 21.0410 - mean_absolute_percentage_error: 4623663.0000\n",
      "Epoch 87/100\n",
      "972/972 [==============================] - ETA: 0s - loss: 442.2818 - mean_absolute_error: 15.6149 - root_mean_squared_error: 21.0305 - mean_absolute_percentage_error: 4783936.0000WARNING:tensorflow:Early stopping conditioned on metric `val_loss` which is not available. Available metrics are: loss,mean_absolute_error,root_mean_squared_error,mean_absolute_percentage_error\n",
      "972/972 [==============================] - 102s 105ms/step - loss: 442.2818 - mean_absolute_error: 15.6149 - root_mean_squared_error: 21.0305 - mean_absolute_percentage_error: 4783936.0000\n",
      "Epoch 88/100\n",
      "971/972 [============================>.] - ETA: 0s - loss: 442.9555 - mean_absolute_error: 15.6277 - root_mean_squared_error: 21.0465 - mean_absolute_percentage_error: 4889350.0000WARNING:tensorflow:Early stopping conditioned on metric `val_loss` which is not available. Available metrics are: loss,mean_absolute_error,root_mean_squared_error,mean_absolute_percentage_error\n",
      "972/972 [==============================] - 102s 105ms/step - loss: 442.9724 - mean_absolute_error: 15.6274 - root_mean_squared_error: 21.0469 - mean_absolute_percentage_error: 4886676.5000\n",
      "Epoch 89/100\n",
      "972/972 [==============================] - ETA: 0s - loss: 441.5908 - mean_absolute_error: 15.6073 - root_mean_squared_error: 21.0141 - mean_absolute_percentage_error: 4019295.7500 ETA: 5s - loss: 441.3800 - mean_absolutWARNING:tensorflow:Early stopping conditioned on metric `val_loss` which is not available. Available metrics are: loss,mean_absolute_error,root_mean_squared_error,mean_absolute_percentage_error\n",
      "972/972 [==============================] - 102s 105ms/step - loss: 441.5908 - mean_absolute_error: 15.6073 - root_mean_squared_error: 21.0141 - mean_absolute_percentage_error: 4019295.7500\n",
      "Epoch 90/100\n",
      "972/972 [==============================] - ETA: 0s - loss: 441.6413 - mean_absolute_error: 15.6164 - root_mean_squared_error: 21.0153 - mean_absolute_percentage_error: 5194083.0000WARNING:tensorflow:Early stopping conditioned on metric `val_loss` which is not available. Available metrics are: loss,mean_absolute_error,root_mean_squared_error,mean_absolute_percentage_error\n",
      "972/972 [==============================] - 103s 105ms/step - loss: 441.6413 - mean_absolute_error: 15.6164 - root_mean_squared_error: 21.0153 - mean_absolute_percentage_error: 5194083.0000\n",
      "Epoch 91/100\n",
      "972/972 [==============================] - ETA: 0s - loss: 440.5882 - mean_absolute_error: 15.5988 - root_mean_squared_error: 20.9902 - mean_absolute_percentage_error: 4506309.5000WARNING:tensorflow:Early stopping conditioned on metric `val_loss` which is not available. Available metrics are: loss,mean_absolute_error,root_mean_squared_error,mean_absolute_percentage_error\n",
      "972/972 [==============================] - 102s 105ms/step - loss: 440.5882 - mean_absolute_error: 15.5988 - root_mean_squared_error: 20.9902 - mean_absolute_percentage_error: 4506309.5000\n",
      "Epoch 92/100\n",
      "972/972 [==============================] - ETA: 0s - loss: 441.0998 - mean_absolute_error: 15.5702 - root_mean_squared_error: 21.0024 - mean_absolute_percentage_error: 4466838.0000WARNING:tensorflow:Early stopping conditioned on metric `val_loss` which is not available. Available metrics are: loss,mean_absolute_error,root_mean_squared_error,mean_absolute_percentage_error\n",
      "972/972 [==============================] - 102s 105ms/step - loss: 441.0998 - mean_absolute_error: 15.5702 - root_mean_squared_error: 21.0024 - mean_absolute_percentage_error: 4466838.0000\n",
      "Epoch 93/100\n",
      "972/972 [==============================] - ETA: 0s - loss: 438.5185 - mean_absolute_error: 15.5458 - root_mean_squared_error: 20.9408 - mean_absolute_percentage_error: 4432191.0000WARNING:tensorflow:Early stopping conditioned on metric `val_loss` which is not available. Available metrics are: loss,mean_absolute_error,root_mean_squared_error,mean_absolute_percentage_error\n",
      "972/972 [==============================] - 102s 105ms/step - loss: 438.5185 - mean_absolute_error: 15.5458 - root_mean_squared_error: 20.9408 - mean_absolute_percentage_error: 4432191.0000\n",
      "Epoch 94/100\n",
      "972/972 [==============================] - ETA: 0s - loss: 437.3306 - mean_absolute_error: 15.5268 - root_mean_squared_error: 20.9124 - mean_absolute_percentage_error: 4788820.0000WARNING:tensorflow:Early stopping conditioned on metric `val_loss` which is not available. Available metrics are: loss,mean_absolute_error,root_mean_squared_error,mean_absolute_percentage_error\n",
      "972/972 [==============================] - 102s 105ms/step - loss: 437.3306 - mean_absolute_error: 15.5268 - root_mean_squared_error: 20.9124 - mean_absolute_percentage_error: 4788820.0000\n",
      "Epoch 95/100\n",
      "972/972 [==============================] - ETA: 0s - loss: 436.6039 - mean_absolute_error: 15.5164 - root_mean_squared_error: 20.8951 - mean_absolute_percentage_error: 4838400.0000WARNING:tensorflow:Early stopping conditioned on metric `val_loss` which is not available. Available metrics are: loss,mean_absolute_error,root_mean_squared_error,mean_absolute_percentage_error\n",
      "972/972 [==============================] - 102s 105ms/step - loss: 436.6039 - mean_absolute_error: 15.5164 - root_mean_squared_error: 20.8951 - mean_absolute_percentage_error: 4838400.0000\n",
      "Epoch 96/100\n",
      "972/972 [==============================] - ETA: 0s - loss: 437.2618 - mean_absolute_error: 15.5252 - root_mean_squared_error: 20.9108 - mean_absolute_percentage_error: 4714873.5000WARNING:tensorflow:Early stopping conditioned on metric `val_loss` which is not available. Available metrics are: loss,mean_absolute_error,root_mean_squared_error,mean_absolute_percentage_error\n",
      "972/972 [==============================] - 102s 105ms/step - loss: 437.2618 - mean_absolute_error: 15.5252 - root_mean_squared_error: 20.9108 - mean_absolute_percentage_error: 4714873.5000\n",
      "Epoch 97/100\n",
      "972/972 [==============================] - ETA: 0s - loss: 436.6680 - mean_absolute_error: 15.5166 - root_mean_squared_error: 20.8966 - mean_absolute_percentage_error: 4634598.0000WARNING:tensorflow:Early stopping conditioned on metric `val_loss` which is not available. Available metrics are: loss,mean_absolute_error,root_mean_squared_error,mean_absolute_percentage_error\n",
      "972/972 [==============================] - 102s 105ms/step - loss: 436.6680 - mean_absolute_error: 15.5166 - root_mean_squared_error: 20.8966 - mean_absolute_percentage_error: 4634598.0000\n",
      "Epoch 98/100\n",
      "972/972 [==============================] - ETA: 0s - loss: 436.0091 - mean_absolute_error: 15.5159 - root_mean_squared_error: 20.8808 - mean_absolute_percentage_error: 4985821.0000WARNING:tensorflow:Early stopping conditioned on metric `val_loss` which is not available. Available metrics are: loss,mean_absolute_error,root_mean_squared_error,mean_absolute_percentage_error\n",
      "972/972 [==============================] - 102s 105ms/step - loss: 436.0091 - mean_absolute_error: 15.5159 - root_mean_squared_error: 20.8808 - mean_absolute_percentage_error: 4985821.0000\n",
      "Epoch 99/100\n"
     ]
    },
    {
     "name": "stdout",
     "output_type": "stream",
     "text": [
      "972/972 [==============================] - ETA: 0s - loss: 433.7364 - mean_absolute_error: 15.4668 - root_mean_squared_error: 20.8263 - mean_absolute_percentage_error: 4515795.5000WARNING:tensorflow:Early stopping conditioned on metric `val_loss` which is not available. Available metrics are: loss,mean_absolute_error,root_mean_squared_error,mean_absolute_percentage_error\n",
      "972/972 [==============================] - 102s 105ms/step - loss: 433.7364 - mean_absolute_error: 15.4668 - root_mean_squared_error: 20.8263 - mean_absolute_percentage_error: 4515795.5000\n",
      "Epoch 100/100\n",
      "971/972 [============================>.] - ETA: 0s - loss: 432.9361 - mean_absolute_error: 15.4559 - root_mean_squared_error: 20.8071 - mean_absolute_percentage_error: 4433061.0000WARNING:tensorflow:Early stopping conditioned on metric `val_loss` which is not available. Available metrics are: loss,mean_absolute_error,root_mean_squared_error,mean_absolute_percentage_error\n",
      "972/972 [==============================] - 102s 105ms/step - loss: 432.9356 - mean_absolute_error: 15.4554 - root_mean_squared_error: 20.8071 - mean_absolute_percentage_error: 4430637.0000\n"
     ]
    },
    {
     "data": {
      "text/plain": [
       "<keras.callbacks.History at 0x1fbfb324820>"
      ]
     },
     "execution_count": 40,
     "metadata": {},
     "output_type": "execute_result"
    }
   ],
   "source": [
    "model5.fit((Wt5, Wt5x, Xt5), yt5, \n",
    "           epochs = 100,\n",
    "           verbose = 1)"
   ]
  },
  {
   "cell_type": "code",
   "execution_count": 41,
   "metadata": {},
   "outputs": [
    {
     "name": "stdout",
     "output_type": "stream",
     "text": [
      "INFO:tensorflow:Assets written to: my_dir/6ai-Conv-LSTM-5\\assets\n"
     ]
    },
    {
     "name": "stderr",
     "output_type": "stream",
     "text": [
      "WARNING:absl:<keras.layers.recurrent.LSTMCell object at 0x000001FBE7D15880> has the same name 'LSTMCell' as a built-in Keras object. Consider renaming <class 'keras.layers.recurrent.LSTMCell'> to avoid naming conflicts when loading with `tf.keras.models.load_model`. If renaming is not possible, pass the object in the `custom_objects` parameter of the load function.\n",
      "WARNING:absl:<keras.layers.recurrent.LSTMCell object at 0x000001FB82796FA0> has the same name 'LSTMCell' as a built-in Keras object. Consider renaming <class 'keras.layers.recurrent.LSTMCell'> to avoid naming conflicts when loading with `tf.keras.models.load_model`. If renaming is not possible, pass the object in the `custom_objects` parameter of the load function.\n",
      "WARNING:absl:<keras.layers.recurrent.LSTMCell object at 0x000001FB8DB0B970> has the same name 'LSTMCell' as a built-in Keras object. Consider renaming <class 'keras.layers.recurrent.LSTMCell'> to avoid naming conflicts when loading with `tf.keras.models.load_model`. If renaming is not possible, pass the object in the `custom_objects` parameter of the load function.\n",
      "WARNING:absl:<keras.layers.recurrent.LSTMCell object at 0x000001FB82BD1550> has the same name 'LSTMCell' as a built-in Keras object. Consider renaming <class 'keras.layers.recurrent.LSTMCell'> to avoid naming conflicts when loading with `tf.keras.models.load_model`. If renaming is not possible, pass the object in the `custom_objects` parameter of the load function.\n",
      "WARNING:absl:<keras.layers.recurrent.LSTMCell object at 0x000001FB82BA6160> has the same name 'LSTMCell' as a built-in Keras object. Consider renaming <class 'keras.layers.recurrent.LSTMCell'> to avoid naming conflicts when loading with `tf.keras.models.load_model`. If renaming is not possible, pass the object in the `custom_objects` parameter of the load function.\n",
      "WARNING:absl:<keras.layers.recurrent.LSTMCell object at 0x000001FB82BA4190> has the same name 'LSTMCell' as a built-in Keras object. Consider renaming <class 'keras.layers.recurrent.LSTMCell'> to avoid naming conflicts when loading with `tf.keras.models.load_model`. If renaming is not possible, pass the object in the `custom_objects` parameter of the load function.\n"
     ]
    }
   ],
   "source": [
    "model5.save(\"my_dir/6ai-Conv-LSTM-5\")"
   ]
  },
  {
   "cell_type": "code",
   "execution_count": 42,
   "metadata": {},
   "outputs": [],
   "source": [
    "metrics5 = pd.DataFrame(model5.history.history)"
   ]
  },
  {
   "cell_type": "code",
   "execution_count": 43,
   "metadata": {},
   "outputs": [
    {
     "data": {
      "text/plain": [
       "<AxesSubplot:>"
      ]
     },
     "execution_count": 43,
     "metadata": {},
     "output_type": "execute_result"
    },
    {
     "data": {
      "image/png": "[encoded data removed]",
      "text/plain": [
       "<Figure size 432x288 with 1 Axes>"
      ]
     },
     "metadata": {
      "needs_background": "light"
     },
     "output_type": "display_data"
    }
   ],
   "source": [
    "metrics5[['loss']].plot()"
   ]
  },
  {
   "cell_type": "code",
   "execution_count": 32,
   "metadata": {},
   "outputs": [],
   "source": [
    "model5 = keras.models.load_model(\"my_dir/6ai-Conv-LSTM-5\") "
   ]
  },
  {
   "cell_type": "code",
   "execution_count": 33,
   "metadata": {},
   "outputs": [
    {
     "data": {
      "text/plain": [
       "array([[ 70.62493 ,  71.54001 ,  76.58073 , ...,  72.43489 ,  50.328564,\n",
       "         50.698395],\n",
       "       [ 63.5157  ,  65.24812 ,  69.11455 , ...,  67.1625  ,  44.83884 ,\n",
       "         45.719536],\n",
       "       [ 60.12734 ,  61.69774 ,  65.25823 , ...,  63.772095,  45.086956,\n",
       "         46.045845],\n",
       "       ...,\n",
       "       [140.17044 , 144.79955 , 156.70667 , ..., 155.73622 , 102.93774 ,\n",
       "         90.69725 ],\n",
       "       [125.738434, 130.36275 , 138.58469 , ..., 130.6186  ,  87.36866 ,\n",
       "         78.39825 ],\n",
       "       [122.36532 , 125.6228  , 138.19394 , ..., 140.37431 ,  93.70591 ,\n",
       "         84.93205 ]], dtype=float32)"
      ]
     },
     "execution_count": 33,
     "metadata": {},
     "output_type": "execute_result"
    }
   ],
   "source": [
    "model5.predict((Wv5, Wv5x, Xv5))"
   ]
  },
  {
   "cell_type": "markdown",
   "metadata": {},
   "source": [
    "# 15 mins ahead"
   ]
  },
  {
   "cell_type": "code",
   "execution_count": 39,
   "metadata": {},
   "outputs": [],
   "source": [
    "def build_model_15(hp):\n",
    "    # Inputs\n",
    "    channel_Wide = keras.layers.Input(shape=Wide_train_15.shape[1:], name=\"wide_week\")\n",
    "    channel_Widex = keras.layers.Input(shape=Wide_train_15_day.shape[1:], name=\"wide_day\")\n",
    "    channel_Deep = keras.layers.Input(shape=Xt15.shape[1:], name=\"deep_input\")\n",
    "    \n",
    "    # Wide Model\n",
    "    Wide_15 = keras.layers.Bidirectional(\n",
    "        keras.layers.LSTM(units=hp.Int(\"wide_week_LSTM\", min_value=1, max_value=100, step=1), \n",
    "                                activation='relu'))(channel_Wide)\n",
    "    \n",
    "    Wide_15x = keras.layers.Bidirectional(\n",
    "        keras.layers.LSTM(units=hp.Int(\"wide_day_LSTM\", min_value=1, max_value=100, step=1), \n",
    "                                activation='relu'))(channel_Widex)\n",
    "    \n",
    "    # Deep Model\n",
    "    # CNN \n",
    "    CNN_15a = keras.layers.TimeDistributed(\n",
    "        keras.layers.Conv2D(filters=hp.Int(\"filters\", min_value=32, max_value=512, step=32),\n",
    "                            kernel_size=hp.Choice(\"kernel_size\", [2, 3]), activation='relu'))(channel_Deep)\n",
    "    CNN_15b = keras.layers.TimeDistributed(\n",
    "        keras.layers.Conv2D(filters=hp.Int(\"filters\", min_value=32, max_value=512, step=32),\n",
    "                            kernel_size=hp.Choice(\"kernel_size\", [2, 3]), activation='relu'))(CNN_15a)\n",
    "    flatten_15 = keras.layers.TimeDistributed(keras.layers.Flatten())(CNN_15b)\n",
    "    # LSTM          \n",
    "    LSTM_15a = keras.layers.LSTM(units=hp.Int(\"units_LSTM\", min_value=1, max_value=100, step=1), \n",
    "                                activation='relu', return_sequences=True)(flatten_15)\n",
    "    LSTM_15b = keras.layers.LSTM(units=hp.Int(\"units_LSTM\", min_value=1, max_value=100, step=1), \n",
    "                                activation='relu', return_sequences=True)(LSTM_15a)\n",
    "    Att_15 = SeqSelfAttention(attention_activation='tanh')(LSTM_15b)\n",
    "    Reshaped_15 = keras.layers.Flatten()(Att_15)\n",
    "    \n",
    "    # Concatenation \n",
    "    concat = keras.layers.concatenate([Wide_15, Wide_15x, Reshaped_15])\n",
    "    \n",
    "    # Output\n",
    "    output = keras.layers.Dense(n_features, name= \"output\")(concat)\n",
    "    \n",
    "    # Model\n",
    "    model_15 = keras.Model(inputs=[channel_Wide, channel_Widex, channel_Deep], outputs=[output])\n",
    "\n",
    "    # Compile\n",
    "    model_15.compile(optimizer=keras.optimizers.Adam(hp.Choice(\"learning_rate\", [1e-2, 1e-3, 1e-4])), \n",
    "        loss='mse',metrics=['MeanAbsoluteError','RootMeanSquaredError','MeanAbsolutePercentageError'])\n",
    "                    \n",
    "    return model_15"
   ]
  },
  {
   "cell_type": "code",
   "execution_count": 40,
   "metadata": {},
   "outputs": [
    {
     "name": "stdout",
     "output_type": "stream",
     "text": [
      "INFO:tensorflow:Reloading Oracle from existing project C:\\Runs\\6ai-Conv-LSTM-15\\oracle.json\n",
      "INFO:tensorflow:Reloading Tuner from C:\\Runs\\6ai-Conv-LSTM-15\\tuner0.json\n"
     ]
    }
   ],
   "source": [
    "tuner15 = RandomSearch(\n",
    "    build_model_15,\n",
    "    objective=\"val_loss\",\n",
    "    max_trials=30,\n",
    "    executions_per_trial=2,\n",
    "    overwrite=False,\n",
    "    directory=os.path.normpath('C:/Runs'),\n",
    "    project_name=\"6ai-Conv-LSTM-15\",\n",
    ")"
   ]
  },
  {
   "cell_type": "code",
   "execution_count": 41,
   "metadata": {},
   "outputs": [
    {
     "name": "stdout",
     "output_type": "stream",
     "text": [
      "Search space summary\n",
      "Default search space size: 6\n",
      "wide_week_LSTM (Int)\n",
      "{'default': None, 'conditions': [], 'min_value': 1, 'max_value': 100, 'step': 1, 'sampling': None}\n",
      "wide_day_LSTM (Int)\n",
      "{'default': None, 'conditions': [], 'min_value': 1, 'max_value': 100, 'step': 1, 'sampling': None}\n",
      "filters (Int)\n",
      "{'default': None, 'conditions': [], 'min_value': 32, 'max_value': 512, 'step': 32, 'sampling': None}\n",
      "kernel_size (Choice)\n",
      "{'default': 2, 'conditions': [], 'values': [2, 3], 'ordered': True}\n",
      "units_LSTM (Int)\n",
      "{'default': None, 'conditions': [], 'min_value': 1, 'max_value': 100, 'step': 1, 'sampling': None}\n",
      "learning_rate (Choice)\n",
      "{'default': 0.01, 'conditions': [], 'values': [0.01, 0.001, 0.0001], 'ordered': True}\n"
     ]
    }
   ],
   "source": [
    "tuner15.search_space_summary()"
   ]
  },
  {
   "cell_type": "code",
   "execution_count": 42,
   "metadata": {},
   "outputs": [
    {
     "name": "stdout",
     "output_type": "stream",
     "text": [
      "Trial 31 Complete [01h 30m 20s]\n",
      "val_loss: 891.1954345703125\n",
      "\n",
      "Best val_loss So Far: 627.5131225585938\n",
      "Total elapsed time: 03h 05m 48s\n",
      "INFO:tensorflow:Oracle triggered exit\n"
     ]
    }
   ],
   "source": [
    "tuner15.search((Wt15, Wt15x, Xt15), yt15, epochs=200,\n",
    "            validation_split = val_percent,\n",
    "            callbacks=[early_stop], \n",
    "            verbose=2)"
   ]
  },
  {
   "cell_type": "code",
   "execution_count": 43,
   "metadata": {},
   "outputs": [
    {
     "name": "stdout",
     "output_type": "stream",
     "text": [
      "Results summary\n",
      "Results in C:\\Runs\\6ai-Conv-LSTM-15\n",
      "Showing 1 best trials\n",
      "Objective(name='val_loss', direction='min')\n",
      "Trial summary\n",
      "Hyperparameters:\n",
      "wide_week_LSTM: 20\n",
      "wide_day_LSTM: 39\n",
      "filters: 160\n",
      "kernel_size: 2\n",
      "units_LSTM: 80\n",
      "learning_rate: 0.0001\n",
      "Score: 627.5131225585938\n"
     ]
    }
   ],
   "source": [
    "tuner15.results_summary(1)"
   ]
  },
  {
   "cell_type": "markdown",
   "metadata": {},
   "source": [
    "### Best model"
   ]
  },
  {
   "cell_type": "code",
   "execution_count": 44,
   "metadata": {},
   "outputs": [],
   "source": [
    "best_hp15 = tuner15.get_best_hyperparameters()[0]\n",
    "model15 = tuner15.hypermodel.build(best_hp15)"
   ]
  },
  {
   "cell_type": "code",
   "execution_count": 45,
   "metadata": {},
   "outputs": [
    {
     "data": {
      "text/plain": [
       "['Best_HP/6ai-Conv_LSTM-15']"
      ]
     },
     "execution_count": 45,
     "metadata": {},
     "output_type": "execute_result"
    }
   ],
   "source": [
    "scaler_filename = \"Best_HP/6ai-Conv_LSTM-15\"\n",
    "joblib.dump(best_hp15, scaler_filename) "
   ]
  },
  {
   "cell_type": "code",
   "execution_count": 46,
   "metadata": {},
   "outputs": [
    {
     "name": "stdout",
     "output_type": "stream",
     "text": [
      "Model: \"model_1\"\n",
      "__________________________________________________________________________________________________\n",
      " Layer (type)                   Output Shape         Param #     Connected to                     \n",
      "==================================================================================================\n",
      " deep_input (InputLayer)        [(None, 3, 5, 7, 1)  0           []                               \n",
      "                                ]                                                                 \n",
      "                                                                                                  \n",
      " time_distributed_3 (TimeDistri  (None, 3, 4, 6, 160  800        ['deep_input[0][0]']             \n",
      " buted)                         )                                                                 \n",
      "                                                                                                  \n",
      " time_distributed_4 (TimeDistri  (None, 3, 3, 5, 160  102560     ['time_distributed_3[0][0]']     \n",
      " buted)                         )                                                                 \n",
      "                                                                                                  \n",
      " time_distributed_5 (TimeDistri  (None, 3, 2400)     0           ['time_distributed_4[0][0]']     \n",
      " buted)                                                                                           \n",
      "                                                                                                  \n",
      " lstm_6 (LSTM)                  (None, 3, 80)        793920      ['time_distributed_5[0][0]']     \n",
      "                                                                                                  \n",
      " lstm_7 (LSTM)                  (None, 3, 80)        51520       ['lstm_6[0][0]']                 \n",
      "                                                                                                  \n",
      " wide_week (InputLayer)         [(None, 1, 14)]      0           []                               \n",
      "                                                                                                  \n",
      " wide_day (InputLayer)          [(None, 1, 14)]      0           []                               \n",
      "                                                                                                  \n",
      " seq_self_attention_1 (SeqSelfA  (None, 3, 80)       5185        ['lstm_7[0][0]']                 \n",
      " ttention)                                                                                        \n",
      "                                                                                                  \n",
      " bidirectional_2 (Bidirectional  (None, 40)          5600        ['wide_week[0][0]']              \n",
      " )                                                                                                \n",
      "                                                                                                  \n",
      " bidirectional_3 (Bidirectional  (None, 78)          16848       ['wide_day[0][0]']               \n",
      " )                                                                                                \n",
      "                                                                                                  \n",
      " flatten_3 (Flatten)            (None, 240)          0           ['seq_self_attention_1[0][0]']   \n",
      "                                                                                                  \n",
      " concatenate_1 (Concatenate)    (None, 358)          0           ['bidirectional_2[0][0]',        \n",
      "                                                                  'bidirectional_3[0][0]',        \n",
      "                                                                  'flatten_3[0][0]']              \n",
      "                                                                                                  \n",
      " output (Dense)                 (None, 7)            2513        ['concatenate_1[0][0]']          \n",
      "                                                                                                  \n",
      "==================================================================================================\n",
      "Total params: 978,946\n",
      "Trainable params: 978,946\n",
      "Non-trainable params: 0\n",
      "__________________________________________________________________________________________________\n"
     ]
    }
   ],
   "source": [
    "model15.summary()"
   ]
  },
  {
   "cell_type": "code",
   "execution_count": 47,
   "metadata": {},
   "outputs": [
    {
     "name": "stdout",
     "output_type": "stream",
     "text": [
      "Epoch 1/100\n",
      "972/972 [==============================] - 42s 32ms/step - loss: 7059.1157 - mean_absolute_error: 48.1131 - root_mean_squared_error: 84.0186 - mean_absolute_percentage_error: 41126380.0000\n",
      "Epoch 2/100\n",
      "972/972 [==============================] - 31s 32ms/step - loss: 1151.6510 - mean_absolute_error: 25.2947 - root_mean_squared_error: 33.9360 - mean_absolute_percentage_error: 42385868.00001s - loss: 1152.3030 - mean_absolute_error: 25.3097 - root_mean_squared_error: 33.9456 - mean_absolute_percentage_error: 42813 - ETA: 0s - loss: 1153.6544 - mean_absolute_error: 25.3237 - root_mean_squared_error: 33.9655 - mean_absolute_per\n",
      "Epoch 3/100\n",
      "972/972 [==============================] - 31s 32ms/step - loss: 1141.8505 - mean_absolute_error: 25.0336 - root_mean_squared_error: 33.7913 - mean_absolute_percentage_error: 42844340.0000\n",
      "Epoch 4/100\n",
      "972/972 [==============================] - 31s 32ms/step - loss: 1053.7388 - mean_absolute_error: 23.8039 - root_mean_squared_error: 32.4613 - mean_absolute_percentage_error: 42755584.0000\n",
      "Epoch 5/100\n",
      "972/972 [==============================] - 31s 32ms/step - loss: 950.2351 - mean_absolute_error: 22.5522 - root_mean_squared_error: 30.8259 - mean_absolute_percentage_error: 41840048.0000\n",
      "Epoch 6/100\n",
      "972/972 [==============================] - 31s 32ms/step - loss: 880.3774 - mean_absolute_error: 21.7326 - root_mean_squared_error: 29.6711 - mean_absolute_percentage_error: 41216704.0000\n",
      "Epoch 7/100\n",
      "972/972 [==============================] - 31s 32ms/step - loss: 873.0557 - mean_absolute_error: 21.6742 - root_mean_squared_error: 29.5475 - mean_absolute_percentage_error: 41217848.0000\n",
      "Epoch 8/100\n",
      "972/972 [==============================] - 31s 32ms/step - loss: 828.6577 - mean_absolute_error: 21.1308 - root_mean_squared_error: 28.7864 - mean_absolute_percentage_error: 40381456.0000\n",
      "Epoch 9/100\n",
      "972/972 [==============================] - 31s 32ms/step - loss: 798.2153 - mean_absolute_error: 20.7374 - root_mean_squared_error: 28.2527 - mean_absolute_percentage_error: 40914284.0000 6s - loss: 796.7874 - mean_absolute_\n",
      "Epoch 10/100\n",
      "972/972 [==============================] - 31s 32ms/step - loss: 785.0734 - mean_absolute_error: 20.5909 - root_mean_squared_error: 28.0192 - mean_absolute_percentage_error: 40639588.0000 3s - loss: 790.4624 - mean_absolute_error: 20.6391 - root_mean_squared_error\n",
      "Epoch 11/100\n",
      "972/972 [==============================] - 31s 32ms/step - loss: 758.1868 - mean_absolute_error: 20.2124 - root_mean_squared_error: 27.5352 - mean_absolute_percentage_error: 40586460.0000\n",
      "Epoch 12/100\n",
      "972/972 [==============================] - 31s 32ms/step - loss: 750.8877 - mean_absolute_error: 20.1386 - root_mean_squared_error: 27.4023 - mean_absolute_percentage_error: 40459772.0000\n",
      "Epoch 13/100\n",
      "972/972 [==============================] - 31s 32ms/step - loss: 744.8550 - mean_absolute_error: 20.0684 - root_mean_squared_error: 27.2920 - mean_absolute_percentage_error: 40056748.0000\n",
      "Epoch 14/100\n",
      "972/972 [==============================] - 31s 32ms/step - loss: 742.3428 - mean_absolute_error: 20.0541 - root_mean_squared_error: 27.2460 - mean_absolute_percentage_error: 40030500.0000\n",
      "Epoch 15/100\n",
      "972/972 [==============================] - 31s 32ms/step - loss: 728.2936 - mean_absolute_error: 19.8304 - root_mean_squared_error: 26.9869 - mean_absolute_percentage_error: 39062952.0000\n",
      "Epoch 16/100\n",
      "972/972 [==============================] - 31s 32ms/step - loss: 710.6619 - mean_absolute_error: 19.6009 - root_mean_squared_error: 26.6582 - mean_absolute_percentage_error: 36769544.0000\n",
      "Epoch 17/100\n",
      "972/972 [==============================] - 31s 32ms/step - loss: 701.0130 - mean_absolute_error: 19.4816 - root_mean_squared_error: 26.4766 - mean_absolute_percentage_error: 25250886.0000 3s - loss: 697.9655 - mean_absolute_error: 19.4634 - root_mean_squared_error:\n",
      "Epoch 18/100\n",
      "972/972 [==============================] - 32s 33ms/step - loss: 683.0691 - mean_absolute_error: 19.2217 - root_mean_squared_error: 26.1356 - mean_absolute_percentage_error: 17479540.0000 4s - loss: 685.4009 - mean_absolute_error: 19.2518 - root\n",
      "Epoch 19/100\n",
      "972/972 [==============================] - 31s 32ms/step - loss: 684.7980 - mean_absolute_error: 19.2414 - root_mean_squared_error: 26.1686 - mean_absolute_percentage_error: 14397469.0000 0s - loss: 684.8759 - mean_absolute_error: 19.2363 - root_mean_squared_error: 26.1701 - mean_absolute_percentage_error:\n",
      "Epoch 20/100\n",
      "972/972 [==============================] - 31s 32ms/step - loss: 674.0293 - mean_absolute_error: 19.1062 - root_mean_squared_error: 25.9621 - mean_absolute_percentage_error: 12948507.0000 7s - loss: 6\n",
      "Epoch 21/100\n",
      "972/972 [==============================] - 31s 32ms/step - loss: 668.8529 - mean_absolute_error: 19.0355 - root_mean_squared_error: 25.8622 - mean_absolute_percentage_error: 11837800.0000\n",
      "Epoch 22/100\n",
      "972/972 [==============================] - 29s 30ms/step - loss: 658.8084 - mean_absolute_error: 18.8884 - root_mean_squared_error: 25.6673 - mean_absolute_percentage_error: 11231427.0000\n",
      "Epoch 23/100\n",
      "972/972 [==============================] - 39s 40ms/step - loss: 648.8238 - mean_absolute_error: 18.7696 - root_mean_squared_error: 25.4720 - mean_absolute_percentage_error: 10627488.0000\n",
      "Epoch 24/100\n",
      "972/972 [==============================] - 39s 40ms/step - loss: 646.9996 - mean_absolute_error: 18.7551 - root_mean_squared_error: 25.4362 - mean_absolute_percentage_error: 11552419.0000 6s - loss: 642.6707 - mean_absolute_error: 18.7268 \n",
      "Epoch 25/100\n",
      "972/972 [==============================] - 39s 40ms/step - loss: 647.8677 - mean_absolute_error: 18.7443 - root_mean_squared_error: 25.4532 - mean_absolute_percentage_error: 11318526.0000\n",
      "Epoch 26/100\n",
      "972/972 [==============================] - 39s 40ms/step - loss: 639.0129 - mean_absolute_error: 18.6209 - root_mean_squared_error: 25.2787 - mean_absolute_percentage_error: 10289541.0000\n",
      "Epoch 27/100\n",
      "972/972 [==============================] - 37s 38ms/step - loss: 633.4949 - mean_absolute_error: 18.5493 - root_mean_squared_error: 25.1693 - mean_absolute_percentage_error: 11089812.0000\n",
      "Epoch 28/100\n",
      "972/972 [==============================] - 39s 40ms/step - loss: 627.7628 - mean_absolute_error: 18.4795 - root_mean_squared_error: 25.0552 - mean_absolute_percentage_error: 10104622.0000\n",
      "Epoch 29/100\n",
      "972/972 [==============================] - 39s 40ms/step - loss: 622.5364 - mean_absolute_error: 18.4145 - root_mean_squared_error: 24.9507 - mean_absolute_percentage_error: 10095075.0000\n",
      "Epoch 30/100\n",
      "972/972 [==============================] - 39s 40ms/step - loss: 635.6149 - mean_absolute_error: 18.5799 - root_mean_squared_error: 25.2114 - mean_absolute_percentage_error: 10007231.0000\n",
      "Epoch 31/100\n",
      "972/972 [==============================] - 38s 39ms/step - loss: 623.3270 - mean_absolute_error: 18.4011 - root_mean_squared_error: 24.9665 - mean_absolute_percentage_error: 9159586.0000\n",
      "Epoch 32/100\n",
      "972/972 [==============================] - 39s 40ms/step - loss: 620.6295 - mean_absolute_error: 18.3726 - root_mean_squared_error: 24.9124 - mean_absolute_percentage_error: 9235917.0000\n",
      "Epoch 33/100\n",
      "972/972 [==============================] - 39s 40ms/step - loss: 614.7536 - mean_absolute_error: 18.3054 - root_mean_squared_error: 24.7942 - mean_absolute_percentage_error: 8943292.0000\n",
      "Epoch 34/100\n",
      "972/972 [==============================] - 39s 40ms/step - loss: 615.1786 - mean_absolute_error: 18.3048 - root_mean_squared_error: 24.8028 - mean_absolute_percentage_error: 9179078.0000\n",
      "Epoch 35/100\n",
      "972/972 [==============================] - 38s 39ms/step - loss: 608.3719 - mean_absolute_error: 18.2034 - root_mean_squared_error: 24.6652 - mean_absolute_percentage_error: 9106497.0000\n",
      "Epoch 36/100\n",
      "972/972 [==============================] - 39s 40ms/step - loss: 608.2429 - mean_absolute_error: 18.1992 - root_mean_squared_error: 24.6626 - mean_absolute_percentage_error: 8569502.0000\n",
      "Epoch 37/100\n",
      "972/972 [==============================] - 39s 40ms/step - loss: 608.1179 - mean_absolute_error: 18.2116 - root_mean_squared_error: 24.6600 - mean_absolute_percentage_error: 8490702.0000\n",
      "Epoch 38/100\n",
      "972/972 [==============================] - 39s 40ms/step - loss: 603.5574 - mean_absolute_error: 18.1348 - root_mean_squared_error: 24.5674 - mean_absolute_percentage_error: 7868396.0000\n",
      "Epoch 39/100\n",
      "972/972 [==============================] - 39s 40ms/step - loss: 600.3071 - mean_absolute_error: 18.0792 - root_mean_squared_error: 24.5012 - mean_absolute_percentage_error: 8501529.0000\n",
      "Epoch 40/100\n",
      "972/972 [==============================] - 38s 39ms/step - loss: 599.3860 - mean_absolute_error: 18.0860 - root_mean_squared_error: 24.4824 - mean_absolute_percentage_error: 8051021.0000\n",
      "Epoch 41/100\n",
      "972/972 [==============================] - 39s 40ms/step - loss: 593.1277 - mean_absolute_error: 17.9777 - root_mean_squared_error: 24.3542 - mean_absolute_percentage_error: 8350839.5000\n",
      "Epoch 42/100\n",
      "972/972 [==============================] - 39s 40ms/step - loss: 596.5590 - mean_absolute_error: 18.0634 - root_mean_squared_error: 24.4246 - mean_absolute_percentage_error: 8608684.0000\n",
      "Epoch 43/100\n",
      "972/972 [==============================] - 39s 41ms/step - loss: 592.6189 - mean_absolute_error: 17.9861 - root_mean_squared_error: 24.3438 - mean_absolute_percentage_error: 8500366.0000\n",
      "Epoch 44/100\n",
      "972/972 [==============================] - 38s 39ms/step - loss: 589.4080 - mean_absolute_error: 17.9463 - root_mean_squared_error: 24.2777 - mean_absolute_percentage_error: 7836634.5000\n",
      "Epoch 45/100\n",
      "972/972 [==============================] - 39s 40ms/step - loss: 587.7297 - mean_absolute_error: 17.9194 - root_mean_squared_error: 24.2431 - mean_absolute_percentage_error: 7662008.0000\n",
      "Epoch 46/100\n",
      "972/972 [==============================] - 39s 40ms/step - loss: 586.2853 - mean_absolute_error: 17.8853 - root_mean_squared_error: 24.2133 - mean_absolute_percentage_error: 8274727.0000\n",
      "Epoch 47/100\n",
      "972/972 [==============================] - 39s 40ms/step - loss: 584.5496 - mean_absolute_error: 17.8660 - root_mean_squared_error: 24.1775 - mean_absolute_percentage_error: 7384853.0000\n",
      "Epoch 48/100\n",
      "972/972 [==============================] - 38s 39ms/step - loss: 583.5607 - mean_absolute_error: 17.8450 - root_mean_squared_error: 24.1570 - mean_absolute_percentage_error: 7288072.5000\n",
      "Epoch 49/100\n",
      "972/972 [==============================] - 39s 40ms/step - loss: 582.9138 - mean_absolute_error: 17.8452 - root_mean_squared_error: 24.1436 - mean_absolute_percentage_error: 7607763.0000\n",
      "Epoch 50/100\n",
      "972/972 [==============================] - 39s 40ms/step - loss: 581.9269 - mean_absolute_error: 17.8284 - root_mean_squared_error: 24.1232 - mean_absolute_percentage_error: 7392801.5000\n",
      "Epoch 51/100\n",
      "972/972 [==============================] - 39s 40ms/step - loss: 579.7501 - mean_absolute_error: 17.8037 - root_mean_squared_error: 24.0780 - mean_absolute_percentage_error: 7441018.0000\n",
      "Epoch 52/100\n",
      "972/972 [==============================] - 38s 39ms/step - loss: 580.4621 - mean_absolute_error: 17.8052 - root_mean_squared_error: 24.0928 - mean_absolute_percentage_error: 7982322.5000\n",
      "Epoch 53/100\n",
      "972/972 [==============================] - 39s 40ms/step - loss: 577.4811 - mean_absolute_error: 17.7634 - root_mean_squared_error: 24.0308 - mean_absolute_percentage_error: 7509767.5000\n",
      "Epoch 54/100\n",
      "972/972 [==============================] - 39s 40ms/step - loss: 575.1062 - mean_absolute_error: 17.7300 - root_mean_squared_error: 23.9814 - mean_absolute_percentage_error: 6137560.5000\n",
      "Epoch 55/100\n",
      "972/972 [==============================] - 39s 40ms/step - loss: 576.9268 - mean_absolute_error: 17.7391 - root_mean_squared_error: 24.0193 - mean_absolute_percentage_error: 6584173.0000\n",
      "Epoch 56/100\n",
      "972/972 [==============================] - 39s 40ms/step - loss: 573.8264 - mean_absolute_error: 17.7025 - root_mean_squared_error: 23.9547 - mean_absolute_percentage_error: 7057718.5000\n",
      "Epoch 57/100\n",
      "972/972 [==============================] - 38s 39ms/step - loss: 573.0226 - mean_absolute_error: 17.6974 - root_mean_squared_error: 23.9379 - mean_absolute_percentage_error: 7043262.0000\n",
      "Epoch 58/100\n",
      "972/972 [==============================] - 39s 40ms/step - loss: 571.3565 - mean_absolute_error: 17.6662 - root_mean_squared_error: 23.9031 - mean_absolute_percentage_error: 7044243.0000\n",
      "Epoch 59/100\n",
      "972/972 [==============================] - 39s 40ms/step - loss: 569.2312 - mean_absolute_error: 17.6414 - root_mean_squared_error: 23.8586 - mean_absolute_percentage_error: 6592237.0000\n",
      "Epoch 60/100\n",
      "972/972 [==============================] - 39s 40ms/step - loss: 569.0118 - mean_absolute_error: 17.6381 - root_mean_squared_error: 23.8540 - mean_absolute_percentage_error: 6512993.0000\n",
      "Epoch 61/100\n",
      "972/972 [==============================] - 38s 39ms/step - loss: 569.0413 - mean_absolute_error: 17.6354 - root_mean_squared_error: 23.8546 - mean_absolute_percentage_error: 6278012.5000\n",
      "Epoch 62/100\n",
      "972/972 [==============================] - 39s 40ms/step - loss: 568.0833 - mean_absolute_error: 17.6170 - root_mean_squared_error: 23.8345 - mean_absolute_percentage_error: 6619181.0000\n",
      "Epoch 63/100\n",
      "972/972 [==============================] - 39s 40ms/step - loss: 564.8423 - mean_absolute_error: 17.5793 - root_mean_squared_error: 23.7664 - mean_absolute_percentage_error: 6802384.5000\n",
      "Epoch 64/100\n",
      "972/972 [==============================] - 39s 40ms/step - loss: 563.8075 - mean_absolute_error: 17.5460 - root_mean_squared_error: 23.7446 - mean_absolute_percentage_error: 6163884.0000\n",
      "Epoch 65/100\n",
      "972/972 [==============================] - 38s 39ms/step - loss: 564.0950 - mean_absolute_error: 17.5584 - root_mean_squared_error: 23.7507 - mean_absolute_percentage_error: 6320385.5000\n",
      "Epoch 66/100\n",
      "972/972 [==============================] - 39s 40ms/step - loss: 562.8862 - mean_absolute_error: 17.5550 - root_mean_squared_error: 23.7252 - mean_absolute_percentage_error: 6335272.5000\n",
      "Epoch 67/100\n",
      "972/972 [==============================] - 39s 40ms/step - loss: 564.3450 - mean_absolute_error: 17.5683 - root_mean_squared_error: 23.7560 - mean_absolute_percentage_error: 6063586.5000\n",
      "Epoch 68/100\n",
      "972/972 [==============================] - 39s 40ms/step - loss: 561.9437 - mean_absolute_error: 17.5222 - root_mean_squared_error: 23.7054 - mean_absolute_percentage_error: 5942937.0000\n",
      "Epoch 69/100\n",
      "972/972 [==============================] - 39s 40ms/step - loss: 560.6011 - mean_absolute_error: 17.5085 - root_mean_squared_error: 23.6770 - mean_absolute_percentage_error: 6584283.5000\n",
      "Epoch 70/100\n",
      "972/972 [==============================] - 38s 39ms/step - loss: 558.4033 - mean_absolute_error: 17.4724 - root_mean_squared_error: 23.6306 - mean_absolute_percentage_error: 5606802.0000\n",
      "Epoch 71/100\n",
      "972/972 [==============================] - 40s 41ms/step - loss: 559.7441 - mean_absolute_error: 17.4879 - root_mean_squared_error: 23.6589 - mean_absolute_percentage_error: 6211963.0000\n",
      "Epoch 72/100\n",
      "972/972 [==============================] - 40s 42ms/step - loss: 558.7443 - mean_absolute_error: 17.4800 - root_mean_squared_error: 23.6378 - mean_absolute_percentage_error: 5778856.0000\n",
      "Epoch 73/100\n",
      "972/972 [==============================] - 39s 40ms/step - loss: 556.7690 - mean_absolute_error: 17.4477 - root_mean_squared_error: 23.5960 - mean_absolute_percentage_error: 6322650.5000\n",
      "Epoch 74/100\n",
      "972/972 [==============================] - 38s 39ms/step - loss: 554.5735 - mean_absolute_error: 17.4119 - root_mean_squared_error: 23.5494 - mean_absolute_percentage_error: 6154920.0000\n",
      "Epoch 75/100\n",
      "972/972 [==============================] - 39s 40ms/step - loss: 555.9059 - mean_absolute_error: 17.4259 - root_mean_squared_error: 23.5777 - mean_absolute_percentage_error: 6538491.0000\n",
      "Epoch 76/100\n",
      "972/972 [==============================] - 39s 40ms/step - loss: 552.7819 - mean_absolute_error: 17.3838 - root_mean_squared_error: 23.5113 - mean_absolute_percentage_error: 6059934.5000\n",
      "Epoch 77/100\n",
      "972/972 [==============================] - 39s 40ms/step - loss: 553.7427 - mean_absolute_error: 17.3978 - root_mean_squared_error: 23.5317 - mean_absolute_percentage_error: 6115305.0000\n",
      "Epoch 78/100\n"
     ]
    },
    {
     "name": "stdout",
     "output_type": "stream",
     "text": [
      "972/972 [==============================] - 38s 39ms/step - loss: 549.4042 - mean_absolute_error: 17.3258 - root_mean_squared_error: 23.4394 - mean_absolute_percentage_error: 5750830.5000\n",
      "Epoch 79/100\n",
      "972/972 [==============================] - 39s 40ms/step - loss: 551.5423 - mean_absolute_error: 17.3528 - root_mean_squared_error: 23.4849 - mean_absolute_percentage_error: 6253033.5000\n",
      "Epoch 80/100\n",
      "972/972 [==============================] - 39s 40ms/step - loss: 550.1843 - mean_absolute_error: 17.3420 - root_mean_squared_error: 23.4560 - mean_absolute_percentage_error: 6326911.5000\n",
      "Epoch 81/100\n",
      "972/972 [==============================] - 39s 40ms/step - loss: 547.3912 - mean_absolute_error: 17.2974 - root_mean_squared_error: 23.3964 - mean_absolute_percentage_error: 5982054.5000\n",
      "Epoch 82/100\n",
      "972/972 [==============================] - 38s 39ms/step - loss: 548.7242 - mean_absolute_error: 17.3202 - root_mean_squared_error: 23.4249 - mean_absolute_percentage_error: 5727830.5000\n",
      "Epoch 83/100\n",
      "972/972 [==============================] - 39s 40ms/step - loss: 547.5001 - mean_absolute_error: 17.2969 - root_mean_squared_error: 23.3987 - mean_absolute_percentage_error: 5523560.0000\n",
      "Epoch 84/100\n",
      "972/972 [==============================] - 39s 40ms/step - loss: 544.5540 - mean_absolute_error: 17.2577 - root_mean_squared_error: 23.3357 - mean_absolute_percentage_error: 5950191.5000\n",
      "Epoch 85/100\n",
      "972/972 [==============================] - 39s 40ms/step - loss: 545.3370 - mean_absolute_error: 17.2623 - root_mean_squared_error: 23.3525 - mean_absolute_percentage_error: 6138023.0000\n",
      "Epoch 86/100\n",
      "972/972 [==============================] - 39s 40ms/step - loss: 540.9636 - mean_absolute_error: 17.2104 - root_mean_squared_error: 23.2586 - mean_absolute_percentage_error: 5974579.5000\n",
      "Epoch 87/100\n",
      "972/972 [==============================] - 38s 39ms/step - loss: 541.6852 - mean_absolute_error: 17.2067 - root_mean_squared_error: 23.2741 - mean_absolute_percentage_error: 5731795.0000\n",
      "Epoch 88/100\n",
      "972/972 [==============================] - 39s 40ms/step - loss: 540.5817 - mean_absolute_error: 17.1928 - root_mean_squared_error: 23.2504 - mean_absolute_percentage_error: 5612125.5000\n",
      "Epoch 89/100\n",
      "972/972 [==============================] - 39s 40ms/step - loss: 540.2537 - mean_absolute_error: 17.1764 - root_mean_squared_error: 23.2434 - mean_absolute_percentage_error: 6100598.5000\n",
      "Epoch 90/100\n",
      "972/972 [==============================] - 39s 40ms/step - loss: 538.3007 - mean_absolute_error: 17.1746 - root_mean_squared_error: 23.2013 - mean_absolute_percentage_error: 5522567.5000\n",
      "Epoch 91/100\n",
      "972/972 [==============================] - 38s 39ms/step - loss: 540.0067 - mean_absolute_error: 17.1904 - root_mean_squared_error: 23.2380 - mean_absolute_percentage_error: 5669784.0000\n",
      "Epoch 92/100\n",
      "972/972 [==============================] - 39s 40ms/step - loss: 537.0587 - mean_absolute_error: 17.1402 - root_mean_squared_error: 23.1745 - mean_absolute_percentage_error: 5994030.0000\n",
      "Epoch 93/100\n",
      "972/972 [==============================] - 39s 40ms/step - loss: 536.7515 - mean_absolute_error: 17.1271 - root_mean_squared_error: 23.1679 - mean_absolute_percentage_error: 5989565.5000\n",
      "Epoch 94/100\n",
      "972/972 [==============================] - 39s 40ms/step - loss: 534.5734 - mean_absolute_error: 17.1091 - root_mean_squared_error: 23.1208 - mean_absolute_percentage_error: 5720356.0000\n",
      "Epoch 95/100\n",
      "972/972 [==============================] - 38s 39ms/step - loss: 536.0618 - mean_absolute_error: 17.1212 - root_mean_squared_error: 23.1530 - mean_absolute_percentage_error: 5873055.0000\n",
      "Epoch 96/100\n",
      "972/972 [==============================] - 39s 40ms/step - loss: 533.7556 - mean_absolute_error: 17.0979 - root_mean_squared_error: 23.1031 - mean_absolute_percentage_error: 5871292.5000\n",
      "Epoch 97/100\n",
      "972/972 [==============================] - 39s 40ms/step - loss: 530.3397 - mean_absolute_error: 17.0409 - root_mean_squared_error: 23.0291 - mean_absolute_percentage_error: 5521145.5000\n",
      "Epoch 98/100\n",
      "972/972 [==============================] - 39s 40ms/step - loss: 531.2686 - mean_absolute_error: 17.0562 - root_mean_squared_error: 23.0493 - mean_absolute_percentage_error: 5819632.0000\n",
      "Epoch 99/100\n",
      "972/972 [==============================] - 38s 39ms/step - loss: 529.6431 - mean_absolute_error: 17.0271 - root_mean_squared_error: 23.0140 - mean_absolute_percentage_error: 5292020.5000\n",
      "Epoch 100/100\n",
      "972/972 [==============================] - 39s 40ms/step - loss: 530.7872 - mean_absolute_error: 17.0531 - root_mean_squared_error: 23.0388 - mean_absolute_percentage_error: 5248426.0000\n"
     ]
    },
    {
     "data": {
      "text/plain": [
       "<keras.callbacks.History at 0x21a16f16220>"
      ]
     },
     "execution_count": 47,
     "metadata": {},
     "output_type": "execute_result"
    }
   ],
   "source": [
    "model15.fit((Wt15, Wt15x, Xt15), yt15, \n",
    "           epochs = 100, \n",
    "           verbose = 1)"
   ]
  },
  {
   "cell_type": "code",
   "execution_count": 48,
   "metadata": {},
   "outputs": [
    {
     "name": "stdout",
     "output_type": "stream",
     "text": [
      "INFO:tensorflow:Assets written to: my_dir/6ai-Conv-LSTM-15\\assets\n"
     ]
    },
    {
     "name": "stderr",
     "output_type": "stream",
     "text": [
      "WARNING:absl:<keras.layers.recurrent.LSTMCell object at 0x0000021A13E9F1C0> has the same name 'LSTMCell' as a built-in Keras object. Consider renaming <class 'keras.layers.recurrent.LSTMCell'> to avoid naming conflicts when loading with `tf.keras.models.load_model`. If renaming is not possible, pass the object in the `custom_objects` parameter of the load function.\n",
      "WARNING:absl:<keras.layers.recurrent.LSTMCell object at 0x0000021A13EC9580> has the same name 'LSTMCell' as a built-in Keras object. Consider renaming <class 'keras.layers.recurrent.LSTMCell'> to avoid naming conflicts when loading with `tf.keras.models.load_model`. If renaming is not possible, pass the object in the `custom_objects` parameter of the load function.\n",
      "WARNING:absl:<keras.layers.recurrent.LSTMCell object at 0x0000021A64B5F700> has the same name 'LSTMCell' as a built-in Keras object. Consider renaming <class 'keras.layers.recurrent.LSTMCell'> to avoid naming conflicts when loading with `tf.keras.models.load_model`. If renaming is not possible, pass the object in the `custom_objects` parameter of the load function.\n",
      "WARNING:absl:<keras.layers.recurrent.LSTMCell object at 0x0000021A64B8B100> has the same name 'LSTMCell' as a built-in Keras object. Consider renaming <class 'keras.layers.recurrent.LSTMCell'> to avoid naming conflicts when loading with `tf.keras.models.load_model`. If renaming is not possible, pass the object in the `custom_objects` parameter of the load function.\n",
      "WARNING:absl:<keras.layers.recurrent.LSTMCell object at 0x0000021A689363D0> has the same name 'LSTMCell' as a built-in Keras object. Consider renaming <class 'keras.layers.recurrent.LSTMCell'> to avoid naming conflicts when loading with `tf.keras.models.load_model`. If renaming is not possible, pass the object in the `custom_objects` parameter of the load function.\n",
      "WARNING:absl:<keras.layers.recurrent.LSTMCell object at 0x0000021A664C3C10> has the same name 'LSTMCell' as a built-in Keras object. Consider renaming <class 'keras.layers.recurrent.LSTMCell'> to avoid naming conflicts when loading with `tf.keras.models.load_model`. If renaming is not possible, pass the object in the `custom_objects` parameter of the load function.\n"
     ]
    }
   ],
   "source": [
    "model15.save(\"my_dir/6ai-Conv-LSTM-15\")"
   ]
  },
  {
   "cell_type": "code",
   "execution_count": 49,
   "metadata": {},
   "outputs": [],
   "source": [
    "metrics15 = pd.DataFrame(model15.history.history)"
   ]
  },
  {
   "cell_type": "code",
   "execution_count": 50,
   "metadata": {},
   "outputs": [
    {
     "data": {
      "text/plain": [
       "<AxesSubplot:>"
      ]
     },
     "execution_count": 50,
     "metadata": {},
     "output_type": "execute_result"
    },
    {
     "data": {
      "image/png": "[encoded data removed]",
      "text/plain": [
       "<Figure size 432x288 with 1 Axes>"
      ]
     },
     "metadata": {
      "needs_background": "light"
     },
     "output_type": "display_data"
    }
   ],
   "source": [
    "metrics15[['loss']].plot()"
   ]
  },
  {
   "cell_type": "code",
   "execution_count": 36,
   "metadata": {},
   "outputs": [],
   "source": [
    "model15 = keras.models.load_model(\"my_dir/6ai-Conv-LSTM-15\")"
   ]
  },
  {
   "cell_type": "code",
   "execution_count": 37,
   "metadata": {},
   "outputs": [
    {
     "data": {
      "text/plain": [
       "array([[ 62.40092 ,  65.96764 ,  69.66801 , ...,  70.30959 ,  46.35786 ,\n",
       "         45.25941 ],\n",
       "       [ 62.74642 ,  65.36727 ,  70.11772 , ...,  69.48972 ,  45.32623 ,\n",
       "         46.49333 ],\n",
       "       [ 63.943905,  66.183624,  70.837616, ...,  70.24171 ,  46.051163,\n",
       "         48.66731 ],\n",
       "       ...,\n",
       "       [136.44579 , 139.11201 , 154.78514 , ..., 154.78027 , 102.37126 ,\n",
       "         97.545525],\n",
       "       [129.6003  , 133.63426 , 145.89555 , ..., 147.3115  ,  96.74164 ,\n",
       "         90.41812 ],\n",
       "       [123.01246 , 128.53117 , 137.22488 , ..., 138.32808 ,  89.25339 ,\n",
       "         81.831566]], dtype=float32)"
      ]
     },
     "execution_count": 37,
     "metadata": {},
     "output_type": "execute_result"
    }
   ],
   "source": [
    "model15.predict((Wv15, Wv15x, Xv15))"
   ]
  },
  {
   "cell_type": "markdown",
   "metadata": {},
   "source": [
    "# 30 mins ahead"
   ]
  },
  {
   "cell_type": "code",
   "execution_count": 40,
   "metadata": {},
   "outputs": [],
   "source": [
    "def build_model_30(hp):\n",
    "    # Inputs\n",
    "    channel_Wide = keras.layers.Input(shape=Wide_train_30.shape[1:], name=\"wide_week\")\n",
    "    channel_Widex = keras.layers.Input(shape=Wide_train_30_day.shape[1:], name=\"wide_day\")\n",
    "    channel_Deep = keras.layers.Input(shape=Xt30.shape[1:], name=\"deep_input\")\n",
    "    \n",
    "    # Wide Model\n",
    "    Wide_30 = keras.layers.Bidirectional(\n",
    "        keras.layers.LSTM(units=hp.Int(\"wide_week_LSTM\", min_value=1, max_value=100, step=1), \n",
    "                                activation='relu'))(channel_Wide)\n",
    "    \n",
    "    Wide_30x = keras.layers.Bidirectional(\n",
    "        keras.layers.LSTM(units=hp.Int(\"wide_day_LSTM\", min_value=1, max_value=100, step=1), \n",
    "                                activation='relu'))(channel_Widex)\n",
    "    \n",
    "    # Deep Model\n",
    "    # CNN \n",
    "    CNN_30a = keras.layers.TimeDistributed(\n",
    "        keras.layers.Conv2D(filters=hp.Int(\"filters\", min_value=32, max_value=512, step=32),\n",
    "                            kernel_size=hp.Choice(\"kernel_size\", [2, 3]), activation='relu'))(channel_Deep)\n",
    "    CNN_30b = keras.layers.TimeDistributed(\n",
    "        keras.layers.Conv2D(filters=hp.Int(\"filters\", min_value=32, max_value=512, step=32),\n",
    "                            kernel_size=hp.Choice(\"kernel_size\", [2, 3]), activation='relu'))(CNN_30a)\n",
    "    flatten_30 = keras.layers.TimeDistributed(keras.layers.Flatten())(CNN_30b)\n",
    "    # LSTM          \n",
    "    LSTM_30a = keras.layers.LSTM(units=hp.Int(\"units_LSTM\", min_value=1, max_value=100, step=1), \n",
    "                                activation='relu', return_sequences=True)(flatten_30)\n",
    "    LSTM_30b = keras.layers.LSTM(units=hp.Int(\"units_LSTM\", min_value=1, max_value=100, step=1), \n",
    "                                activation='relu', return_sequences=True)(LSTM_30a)\n",
    "    Att_30 = SeqSelfAttention(attention_activation='tanh')(LSTM_30b)\n",
    "    Reshaped_30 = keras.layers.Flatten()(Att_30)\n",
    "    \n",
    "    # Concatenation \n",
    "    concat = keras.layers.concatenate([Wide_30, Wide_30x, Reshaped_30])\n",
    "    \n",
    "    # Output\n",
    "    output = keras.layers.Dense(n_features, name= \"output\")(concat)\n",
    "    \n",
    "    # Model\n",
    "    model_30 = keras.Model(inputs=[channel_Wide, channel_Widex, channel_Deep], outputs=[output])\n",
    "\n",
    "    # Compile\n",
    "    model_30.compile(optimizer=keras.optimizers.Adam(hp.Choice(\"learning_rate\", [1e-2, 1e-3, 1e-4])), \n",
    "        loss='mse',metrics=['MeanAbsoluteError','RootMeanSquaredError','MeanAbsolutePercentageError'])\n",
    "                    \n",
    "    return model_30"
   ]
  },
  {
   "cell_type": "code",
   "execution_count": 41,
   "metadata": {},
   "outputs": [
    {
     "name": "stdout",
     "output_type": "stream",
     "text": [
      "INFO:tensorflow:Reloading Oracle from existing project C:\\Runs\\6ai-Conv-LSTM-30\\oracle.json\n",
      "INFO:tensorflow:Reloading Tuner from C:\\Runs\\6ai-Conv-LSTM-30\\tuner0.json\n"
     ]
    }
   ],
   "source": [
    "tuner30 = RandomSearch(\n",
    "    build_model_30,\n",
    "    objective=\"val_loss\",\n",
    "    max_trials=30,\n",
    "    executions_per_trial=2,\n",
    "    overwrite=False,\n",
    "    directory=os.path.normpath('C:/Runs'),\n",
    "    project_name=\"6ai-Conv-LSTM-30\",\n",
    ")"
   ]
  },
  {
   "cell_type": "code",
   "execution_count": 42,
   "metadata": {},
   "outputs": [
    {
     "name": "stdout",
     "output_type": "stream",
     "text": [
      "Search space summary\n",
      "Default search space size: 6\n",
      "wide_week_LSTM (Int)\n",
      "{'default': None, 'conditions': [], 'min_value': 1, 'max_value': 100, 'step': 1, 'sampling': None}\n",
      "wide_day_LSTM (Int)\n",
      "{'default': None, 'conditions': [], 'min_value': 1, 'max_value': 100, 'step': 1, 'sampling': None}\n",
      "filters (Int)\n",
      "{'default': None, 'conditions': [], 'min_value': 32, 'max_value': 512, 'step': 32, 'sampling': None}\n",
      "kernel_size (Choice)\n",
      "{'default': 2, 'conditions': [], 'values': [2, 3], 'ordered': True}\n",
      "units_LSTM (Int)\n",
      "{'default': None, 'conditions': [], 'min_value': 1, 'max_value': 100, 'step': 1, 'sampling': None}\n",
      "learning_rate (Choice)\n",
      "{'default': 0.01, 'conditions': [], 'values': [0.01, 0.001, 0.0001], 'ordered': True}\n"
     ]
    }
   ],
   "source": [
    "tuner30.search_space_summary()"
   ]
  },
  {
   "cell_type": "code",
   "execution_count": 43,
   "metadata": {},
   "outputs": [
    {
     "name": "stdout",
     "output_type": "stream",
     "text": [
      "INFO:tensorflow:Oracle triggered exit\n"
     ]
    }
   ],
   "source": [
    "tuner30.search((Wt30, Wt30x, Xt30), yt30, epochs=200,\n",
    "            validation_split = val_percent,\n",
    "            callbacks=[early_stop],\n",
    "            verbose=2)"
   ]
  },
  {
   "cell_type": "code",
   "execution_count": 44,
   "metadata": {},
   "outputs": [
    {
     "name": "stdout",
     "output_type": "stream",
     "text": [
      "Results summary\n",
      "Results in C:\\Runs\\6ai-Conv-LSTM-30\n",
      "Showing 1 best trials\n",
      "Objective(name='val_loss', direction='min')\n",
      "Trial summary\n",
      "Hyperparameters:\n",
      "wide_week_LSTM: 53\n",
      "wide_day_LSTM: 97\n",
      "filters: 64\n",
      "kernel_size: 2\n",
      "units_LSTM: 77\n",
      "learning_rate: 0.0001\n",
      "Score: 698.9335327148438\n"
     ]
    }
   ],
   "source": [
    "tuner30.results_summary(1)"
   ]
  },
  {
   "cell_type": "markdown",
   "metadata": {},
   "source": [
    "### Best model"
   ]
  },
  {
   "cell_type": "code",
   "execution_count": 45,
   "metadata": {},
   "outputs": [],
   "source": [
    "best_hp30 = tuner30.get_best_hyperparameters()[0]\n",
    "model30 = tuner30.hypermodel.build(best_hp30)"
   ]
  },
  {
   "cell_type": "code",
   "execution_count": 46,
   "metadata": {},
   "outputs": [
    {
     "data": {
      "text/plain": [
       "['6ai-Conv_LSTM-30']"
      ]
     },
     "execution_count": 46,
     "metadata": {},
     "output_type": "execute_result"
    }
   ],
   "source": [
    "scaler_filename = \"6ai-Conv_LSTM-30\"\n",
    "joblib.dump(best_hp30, scaler_filename) "
   ]
  },
  {
   "cell_type": "code",
   "execution_count": 47,
   "metadata": {},
   "outputs": [
    {
     "name": "stdout",
     "output_type": "stream",
     "text": [
      "Model: \"model_1\"\n",
      "__________________________________________________________________________________________________\n",
      " Layer (type)                   Output Shape         Param #     Connected to                     \n",
      "==================================================================================================\n",
      " deep_input (InputLayer)        [(None, 3, 5, 7, 1)  0           []                               \n",
      "                                ]                                                                 \n",
      "                                                                                                  \n",
      " time_distributed_3 (TimeDistri  (None, 3, 4, 6, 64)  320        ['deep_input[0][0]']             \n",
      " buted)                                                                                           \n",
      "                                                                                                  \n",
      " time_distributed_4 (TimeDistri  (None, 3, 3, 5, 64)  16448      ['time_distributed_3[0][0]']     \n",
      " buted)                                                                                           \n",
      "                                                                                                  \n",
      " time_distributed_5 (TimeDistri  (None, 3, 960)      0           ['time_distributed_4[0][0]']     \n",
      " buted)                                                                                           \n",
      "                                                                                                  \n",
      " lstm_6 (LSTM)                  (None, 3, 77)        319704      ['time_distributed_5[0][0]']     \n",
      "                                                                                                  \n",
      " lstm_7 (LSTM)                  (None, 3, 77)        47740       ['lstm_6[0][0]']                 \n",
      "                                                                                                  \n",
      " wide_week (InputLayer)         [(None, 1, 14)]      0           []                               \n",
      "                                                                                                  \n",
      " wide_day (InputLayer)          [(None, 1, 14)]      0           []                               \n",
      "                                                                                                  \n",
      " seq_self_attention_1 (SeqSelfA  (None, 3, 77)       4993        ['lstm_7[0][0]']                 \n",
      " ttention)                                                                                        \n",
      "                                                                                                  \n",
      " bidirectional_2 (Bidirectional  (None, 106)         28832       ['wide_week[0][0]']              \n",
      " )                                                                                                \n",
      "                                                                                                  \n",
      " bidirectional_3 (Bidirectional  (None, 194)         86912       ['wide_day[0][0]']               \n",
      " )                                                                                                \n",
      "                                                                                                  \n",
      " flatten_3 (Flatten)            (None, 231)          0           ['seq_self_attention_1[0][0]']   \n",
      "                                                                                                  \n",
      " concatenate_1 (Concatenate)    (None, 531)          0           ['bidirectional_2[0][0]',        \n",
      "                                                                  'bidirectional_3[0][0]',        \n",
      "                                                                  'flatten_3[0][0]']              \n",
      "                                                                                                  \n",
      " output (Dense)                 (None, 7)            3724        ['concatenate_1[0][0]']          \n",
      "                                                                                                  \n",
      "==================================================================================================\n",
      "Total params: 508,673\n",
      "Trainable params: 508,673\n",
      "Non-trainable params: 0\n",
      "__________________________________________________________________________________________________\n"
     ]
    }
   ],
   "source": [
    "model30.summary()"
   ]
  },
  {
   "cell_type": "code",
   "execution_count": 48,
   "metadata": {},
   "outputs": [
    {
     "name": "stdout",
     "output_type": "stream",
     "text": [
      "Epoch 1/100\n",
      "972/972 [==============================] - 32s 11ms/step - loss: 8823.6035 - mean_absolute_error: 56.6558 - root_mean_squared_error: 93.9340 - mean_absolute_percentage_error: 45228544.0000\n",
      "Epoch 2/100\n",
      "972/972 [==============================] - 10s 11ms/step - loss: 1325.5664 - mean_absolute_error: 27.5927 - root_mean_squared_error: 36.4083 - mean_absolute_percentage_error: 43754068.0000\n",
      "Epoch 3/100\n",
      "972/972 [==============================] - 11s 11ms/step - loss: 1142.9404 - mean_absolute_error: 25.0369 - root_mean_squared_error: 33.8074 - mean_absolute_percentage_error: 42323180.0000\n",
      "Epoch 4/100\n",
      "972/972 [==============================] - 12s 12ms/step - loss: 1074.9475 - mean_absolute_error: 24.0850 - root_mean_squared_error: 32.7864 - mean_absolute_percentage_error: 42193524.0000\n",
      "Epoch 5/100\n",
      "972/972 [==============================] - 12s 12ms/step - loss: 979.2396 - mean_absolute_error: 22.9734 - root_mean_squared_error: 31.2928 - mean_absolute_percentage_error: 42132108.0000 9s - loss: 973.8973 - mean_absolute_error: 23.0117 - root_mean_squared_error: 31.2073 - mean_abs - ETA: 7s - l\n",
      "Epoch 6/100\n",
      "972/972 [==============================] - 11s 12ms/step - loss: 943.5452 - mean_absolute_error: 22.5727 - root_mean_squared_error: 30.7172 - mean_absolute_percentage_error: 41982468.0000A: 11s - loss: 1060.5718 - mean_absolute_error: 23.6908 - root_mean_s - ETA: 8s - loss: 955.9621 - mean_absolute_error: 22.7646 - root_mean_squared_error: 30.9186 - mean_absolute_perce - ETA: 7s - loss: 947.9056 - mean_absolute_error: 22.6329 - root_mean_squared_error: 30.7881 - mean_absolute_percentage_error: 39039804.000 - ETA: 7s - loss: 947.74\n",
      "Epoch 7/100\n",
      "972/972 [==============================] - 11s 11ms/step - loss: 936.1755 - mean_absolute_error: 22.4700 - root_mean_squared_error: 30.5970 - mean_absolute_percentage_error: 42603004.0000\n",
      "Epoch 8/100\n",
      "972/972 [==============================] - 10s 11ms/step - loss: 921.1443 - mean_absolute_error: 22.3389 - root_mean_squared_error: 30.3504 - mean_absolute_percentage_error: 40532604.0000 0s - loss: 916.3683 - mean_absolute_error: 22.2891 - root_mean_squared_error: 30.2716 - mean_absolute_percentage_error\n",
      "Epoch 9/100\n",
      "972/972 [==============================] - 11s 11ms/step - loss: 875.6281 - mean_absolute_error: 21.7600 - root_mean_squared_error: 29.5910 - mean_absolute_percentage_error: 40341816.0000\n",
      "Epoch 10/100\n",
      "972/972 [==============================] - 12s 13ms/step - loss: 870.8245 - mean_absolute_error: 21.7470 - root_mean_squared_error: 29.5097 - mean_absolute_percentage_error: 40268728.0000 3s - loss: 872.1260 - mean_absolute_error: 21.7305 - root_mean_squared_erro\n",
      "Epoch 11/100\n",
      "972/972 [==============================] - 12s 12ms/step - loss: 850.1589 - mean_absolute_error: 21.4931 - root_mean_squared_error: 29.1575 - mean_absolute_percentage_error: 40188332.0000\n",
      "Epoch 12/100\n",
      "972/972 [==============================] - 11s 11ms/step - loss: 830.1155 - mean_absolute_error: 21.2267 - root_mean_squared_error: 28.8117 - mean_absolute_percentage_error: 40801524.0000 5s - loss: 816.3985 - mean_absolute_error: 21.0885 - root_mean_squared_error: 28.5727 - mean_absolute_percentage_error: 36024940 - ETA: 5s - loss: 816.2385 - mean_absolute_erro\n",
      "Epoch 13/100\n",
      "972/972 [==============================] - 11s 11ms/step - loss: 807.1845 - mean_absolute_error: 20.9309 - root_mean_squared_error: 28.4110 - mean_absolute_percentage_error: 40941580.0000\n",
      "Epoch 14/100\n",
      "972/972 [==============================] - 11s 11ms/step - loss: 811.5096 - mean_absolute_error: 20.9892 - root_mean_squared_error: 28.4870 - mean_absolute_percentage_error: 40814736.0000\n",
      "Epoch 15/100\n",
      "972/972 [==============================] - 11s 12ms/step - loss: 793.0096 - mean_absolute_error: 20.7383 - root_mean_squared_error: 28.1604 - mean_absolute_percentage_error: 40745768.0000\n",
      "Epoch 16/100\n",
      "972/972 [==============================] - 12s 12ms/step - loss: 791.9199 - mean_absolute_error: 20.7005 - root_mean_squared_error: 28.1411 - mean_absolute_percentage_error: 40913192.0000\n",
      "Epoch 17/100\n",
      "972/972 [==============================] - 12s 12ms/step - loss: 769.7468 - mean_absolute_error: 20.4082 - root_mean_squared_error: 27.7443 - mean_absolute_percentage_error: 39536888.0000\n",
      "Epoch 18/100\n",
      "972/972 [==============================] - 11s 11ms/step - loss: 761.5778 - mean_absolute_error: 20.3120 - root_mean_squared_error: 27.5967 - mean_absolute_percentage_error: 38779004.0000 1s - loss: 764.0539 - mean_absolute_error: 20.3322 - root_mean_squared_error: 27.6415 - mean_absolute_\n",
      "Epoch 19/100\n",
      "972/972 [==============================] - 11s 11ms/step - loss: 746.7394 - mean_absolute_error: 20.1031 - root_mean_squared_error: 27.3265 - mean_absolute_percentage_error: 35227104.0000\n",
      "Epoch 20/100\n",
      "972/972 [==============================] - 11s 11ms/step - loss: 734.8446 - mean_absolute_error: 19.9483 - root_mean_squared_error: 27.1080 - mean_absolute_percentage_error: 26653386.0000\n",
      "Epoch 21/100\n",
      "972/972 [==============================] - 11s 12ms/step - loss: 730.3115 - mean_absolute_error: 19.8862 - root_mean_squared_error: 27.0243 - mean_absolute_percentage_error: 18555836.0000\n",
      "Epoch 22/100\n",
      "972/972 [==============================] - 10s 11ms/step - loss: 725.7830 - mean_absolute_error: 19.8171 - root_mean_squared_error: 26.9404 - mean_absolute_percentage_error: 14544904.0000\n",
      "Epoch 23/100\n",
      "972/972 [==============================] - 10s 11ms/step - loss: 717.9097 - mean_absolute_error: 19.7127 - root_mean_squared_error: 26.7938 - mean_absolute_percentage_error: 13552014.0000\n",
      "Epoch 24/100\n",
      "972/972 [==============================] - 10s 11ms/step - loss: 714.1205 - mean_absolute_error: 19.6371 - root_mean_squared_error: 26.7230 - mean_absolute_percentage_error: 11614201.0000\n",
      "Epoch 25/100\n",
      "972/972 [==============================] - 10s 11ms/step - loss: 708.3849 - mean_absolute_error: 19.5616 - root_mean_squared_error: 26.6155 - mean_absolute_percentage_error: 11074852.0000 - ETA: 3s - loss: 707.6386 - mean_absolute_error: 19.5806 - root_mean_squared_error: 26.6015 - mean_absolute_percentage_error:  - ETA: 2s - loss: 706.1202 - mean_absolute_error: 19.5569 - root_mean_squared_error: \n",
      "Epoch 26/100\n",
      "972/972 [==============================] - 10s 11ms/step - loss: 705.1545 - mean_absolute_error: 19.5398 - root_mean_squared_error: 26.5547 - mean_absolute_percentage_error: 10931818.0000\n",
      "Epoch 27/100\n",
      "972/972 [==============================] - 11s 11ms/step - loss: 695.7596 - mean_absolute_error: 19.3916 - root_mean_squared_error: 26.3773 - mean_absolute_percentage_error: 12124710.0000 5s - loss: 691\n",
      "Epoch 28/100\n",
      "972/972 [==============================] - 10s 11ms/step - loss: 688.9844 - mean_absolute_error: 19.3075 - root_mean_squared_error: 26.2485 - mean_absolute_percentage_error: 10450588.0000s - loss: 690.5916 - mean_absolute_error: 19.3505 - root_mean_squared_error: 26.2791 - mean_absolute_pe - ETA: 4s - loss: 687.8572 - mean_absolute_error: 19 - ETA: 1s - loss: 686.4210 - mean_absolute_error: 19.2914 - root_mean_squared_error: 26.1996 - mean_absolute_\n",
      "Epoch 29/100\n",
      "972/972 [==============================] - 10s 11ms/step - loss: 687.5803 - mean_absolute_error: 19.2960 - root_mean_squared_error: 26.2217 - mean_absolute_percentage_error: 11146269.0000\n",
      "Epoch 30/100\n",
      "972/972 [==============================] - 11s 11ms/step - loss: 682.5392 - mean_absolute_error: 19.2177 - root_mean_squared_error: 26.1255 - mean_absolute_percentage_error: 10994007.0000\n",
      "Epoch 31/100\n",
      "972/972 [==============================] - 11s 11ms/step - loss: 681.0681 - mean_absolute_error: 19.2048 - root_mean_squared_error: 26.0973 - mean_absolute_percentage_error: 11200454.0000\n",
      "Epoch 32/100\n",
      "972/972 [==============================] - 10s 11ms/step - loss: 678.6949 - mean_absolute_error: 19.1752 - root_mean_squared_error: 26.0518 - mean_absolute_percentage_error: 10844533.0000 1s - loss: 679.5391 - mean_absolute_error: 19.1944 - root_mean_squared_error: 26.0680 - mean_absolut\n",
      "Epoch 33/100\n",
      "972/972 [==============================] - 10s 11ms/step - loss: 673.7632 - mean_absolute_error: 19.0957 - root_mean_squared_error: 25.9570 - mean_absolute_percentage_error: 10508430.0000\n",
      "Epoch 34/100\n",
      "972/972 [==============================] - 10s 11ms/step - loss: 672.5358 - mean_absolute_error: 19.0840 - root_mean_squared_error: 25.9333 - mean_absolute_percentage_error: 10725252.0000 0s - loss: 670.4709 - mean_absolute_error: 19.0763 - root_mean_squared_error: 25.8935 - mean_absolute_percentage_error: 1054\n",
      "Epoch 35/100\n",
      "972/972 [==============================] - 10s 11ms/step - loss: 669.1099 - mean_absolute_error: 19.0444 - root_mean_squared_error: 25.8672 - mean_absolute_percentage_error: 10954931.0000\n",
      "Epoch 36/100\n",
      "972/972 [==============================] - 10s 11ms/step - loss: 664.7211 - mean_absolute_error: 18.9888 - root_mean_squared_error: 25.7822 - mean_absolute_percentage_error: 10832739.0000 6s - loss: 666\n",
      "Epoch 37/100\n",
      "972/972 [==============================] - 10s 11ms/step - loss: 661.5237 - mean_absolute_error: 18.9423 - root_mean_squared_error: 25.7201 - mean_absolute_percentage_error: 10182078.0000\n",
      "Epoch 38/100\n",
      "972/972 [==============================] - 10s 11ms/step - loss: 658.7495 - mean_absolute_error: 18.8952 - root_mean_squared_error: 25.6661 - mean_absolute_percentage_error: 10211391.0000\n",
      "Epoch 39/100\n",
      "972/972 [==============================] - 11s 11ms/step - loss: 658.5007 - mean_absolute_error: 18.9016 - root_mean_squared_error: 25.6613 - mean_absolute_percentage_error: 10647565.0000 0s - loss: 658.1390 - mean_absolute_error: 18.9000 - root_mean_squared_error: 25.6542 - mean_absolute_percentage_error: 1092076\n",
      "Epoch 40/100\n",
      "972/972 [==============================] - 11s 11ms/step - loss: 658.5835 - mean_absolute_error: 18.9004 - root_mean_squared_error: 25.6629 - mean_absolute_percentage_error: 10188216.0000 3s - loss: 651.6656 - mean_\n",
      "Epoch 41/100\n",
      "972/972 [==============================] - 11s 11ms/step - loss: 654.7111 - mean_absolute_error: 18.8460 - root_mean_squared_error: 25.5873 - mean_absolute_percentage_error: 9853926.0000\n",
      "Epoch 42/100\n",
      "972/972 [==============================] - 10s 11ms/step - loss: 654.1008 - mean_absolute_error: 18.8282 - root_mean_squared_error: 25.5754 - mean_absolute_percentage_error: 9803357.0000\n",
      "Epoch 43/100\n",
      "972/972 [==============================] - 11s 11ms/step - loss: 650.9207 - mean_absolute_error: 18.7887 - root_mean_squared_error: 25.5131 - mean_absolute_percentage_error: 10941632.0000 4s - loss: 648.8715 - mean_absolute_error: 18.7317 - root_mean_squared_error: 25.4729 - mean_absolute_percentage_err - ETA: 3s - loss: 646.1785 - mean_absolute_error: 18.7134 - root_mean_squar\n",
      "Epoch 44/100\n",
      "972/972 [==============================] - 10s 11ms/step - loss: 650.5797 - mean_absolute_error: 18.7704 - root_mean_squared_error: 25.5065 - mean_absolute_percentage_error: 9907099.0000\n",
      "Epoch 45/100\n",
      "972/972 [==============================] - 10s 11ms/step - loss: 647.2119 - mean_absolute_error: 18.7512 - root_mean_squared_error: 25.4403 - mean_absolute_percentage_error: 10654519.0000\n",
      "Epoch 46/100\n",
      "972/972 [==============================] - 10s 11ms/step - loss: 644.7936 - mean_absolute_error: 18.7135 - root_mean_squared_error: 25.3928 - mean_absolute_percentage_error: 10003743.0000\n",
      "Epoch 47/100\n",
      "972/972 [==============================] - 10s 10ms/step - loss: 645.5026 - mean_absolute_error: 18.7046 - root_mean_squared_error: 25.4067 - mean_absolute_percentage_error: 10375911.0000 3s - loss: 649.2216 - mean_absolute_error: 18.7416 - root_mean_squared_erro\n",
      "Epoch 48/100\n",
      "972/972 [==============================] - 10s 10ms/step - loss: 646.7279 - mean_absolute_error: 18.7358 - root_mean_squared_error: 25.4308 - mean_absolute_percentage_error: 9979192.0000\n",
      "Epoch 49/100\n",
      "972/972 [==============================] - 10s 10ms/step - loss: 642.9286 - mean_absolute_error: 18.6732 - root_mean_squared_error: 25.3560 - mean_absolute_percentage_error: 10206447.0000\n",
      "Epoch 50/100\n",
      "972/972 [==============================] - 10s 10ms/step - loss: 640.8905 - mean_absolute_error: 18.6507 - root_mean_squared_error: 25.3158 - mean_absolute_percentage_error: 9594832.0000\n",
      "Epoch 51/100\n",
      "972/972 [==============================] - 10s 10ms/step - loss: 641.2635 - mean_absolute_error: 18.6614 - root_mean_squared_error: 25.3232 - mean_absolute_percentage_error: 10659482.0000 6s - loss: \n",
      "Epoch 52/100\n",
      "972/972 [==============================] - 10s 10ms/step - loss: 639.0660 - mean_absolute_error: 18.6220 - root_mean_squared_error: 25.2797 - mean_absolute_percentage_error: 10335227.0000\n",
      "Epoch 53/100\n",
      "972/972 [==============================] - 10s 10ms/step - loss: 636.8809 - mean_absolute_error: 18.5834 - root_mean_squared_error: 25.2365 - mean_absolute_percentage_error: 9816212.0000\n",
      "Epoch 54/100\n",
      "972/972 [==============================] - 10s 10ms/step - loss: 635.5956 - mean_absolute_error: 18.5865 - root_mean_squared_error: 25.2110 - mean_absolute_percentage_error: 10055716.0000\n",
      "Epoch 55/100\n",
      "972/972 [==============================] - 10s 10ms/step - loss: 636.4886 - mean_absolute_error: 18.5775 - root_mean_squared_error: 25.2287 - mean_absolute_percentage_error: 9417119.0000\n",
      "Epoch 56/100\n",
      "972/972 [==============================] - 10s 10ms/step - loss: 635.7559 - mean_absolute_error: 18.5574 - root_mean_squared_error: 25.2142 - mean_absolute_percentage_error: 9665268.0000\n",
      "Epoch 57/100\n",
      "972/972 [==============================] - 10s 11ms/step - loss: 636.3582 - mean_absolute_error: 18.5738 - root_mean_squared_error: 25.2262 - mean_absolute_percentage_error: 9092016.0000\n",
      "Epoch 58/100\n",
      "972/972 [==============================] - 10s 10ms/step - loss: 632.9948 - mean_absolute_error: 18.5209 - root_mean_squared_error: 25.1594 - mean_absolute_percentage_error: 9878927.00002s - loss: 626.6019 - mean_absolute_error: 18.4531 - root_mean_squared_err - ETA: 1s - loss: 631.1355 - mean_absolute_error: 18.4960 - root_mean_squared_error: \n",
      "Epoch 59/100\n",
      "972/972 [==============================] - ETA: 0s - loss: 632.8997 - mean_absolute_error: 18.5340 - root_mean_squared_error: 25.1575 - mean_absolute_percentage_error: 9289541.00 - 10s 10ms/step - loss: 632.8021 - mean_absolute_error: 18.5341 - root_mean_squared_error: 25.1556 - mean_absolute_percentage_error: 9542511.0000\n",
      "Epoch 60/100\n",
      "972/972 [==============================] - 10s 10ms/step - loss: 632.3079 - mean_absolute_error: 18.5235 - root_mean_squared_error: 25.1457 - mean_absolute_percentage_error: 9082689.0000\n",
      "Epoch 61/100\n",
      "972/972 [==============================] - 10s 10ms/step - loss: 630.4678 - mean_absolute_error: 18.4996 - root_mean_squared_error: 25.1091 - mean_absolute_percentage_error: 9560787.0000\n",
      "Epoch 62/100\n",
      "972/972 [==============================] - 10s 10ms/step - loss: 628.3604 - mean_absolute_error: 18.4485 - root_mean_squared_error: 25.0671 - mean_absolute_percentage_error: 9985180.0000\n",
      "Epoch 63/100\n",
      "972/972 [==============================] - 10s 11ms/step - loss: 628.3395 - mean_absolute_error: 18.4604 - root_mean_squared_error: 25.0667 - mean_absolute_percentage_error: 9314449.0000: 5s - loss: 630.3711 - mean_absolute_error: 18.4877 - root_mean_squared_error: 25.1072 - mean_absolute_percen - ETA: 4s - loss: 625.9215 - mea\n",
      "Epoch 64/100\n",
      "972/972 [==============================] - 10s 10ms/step - loss: 625.9403 - mean_absolute_error: 18.4199 - root_mean_squared_error: 25.0188 - mean_absolute_percentage_error: 9085899.0000\n",
      "Epoch 65/100\n",
      "972/972 [==============================] - 10s 10ms/step - loss: 624.0460 - mean_absolute_error: 18.3979 - root_mean_squared_error: 24.9809 - mean_absolute_percentage_error: 9077460.0000\n",
      "Epoch 66/100\n",
      "972/972 [==============================] - 10s 10ms/step - loss: 624.8184 - mean_absolute_error: 18.4229 - root_mean_squared_error: 24.9964 - mean_absolute_percentage_error: 9420525.0000\n",
      "Epoch 67/100\n",
      "972/972 [==============================] - 10s 10ms/step - loss: 623.3834 - mean_absolute_error: 18.3948 - root_mean_squared_error: 24.9676 - mean_absolute_percentage_error: 9070303.0000\n",
      "Epoch 68/100\n",
      "972/972 [==============================] - 10s 10ms/step - loss: 623.2415 - mean_absolute_error: 18.3987 - root_mean_squared_error: 24.9648 - mean_absolute_percentage_error: 8934127.0000\n",
      "Epoch 69/100\n"
     ]
    },
    {
     "name": "stdout",
     "output_type": "stream",
     "text": [
      "972/972 [==============================] - 10s 11ms/step - loss: 623.3582 - mean_absolute_error: 18.3939 - root_mean_squared_error: 24.9671 - mean_absolute_percentage_error: 8759322.0000\n",
      "Epoch 70/100\n",
      "972/972 [==============================] - 10s 10ms/step - loss: 621.1946 - mean_absolute_error: 18.3658 - root_mean_squared_error: 24.9238 - mean_absolute_percentage_error: 9127452.0000\n",
      "Epoch 71/100\n",
      "972/972 [==============================] - 10s 10ms/step - loss: 619.8964 - mean_absolute_error: 18.3471 - root_mean_squared_error: 24.8977 - mean_absolute_percentage_error: 8726959.0000\n",
      "Epoch 72/100\n",
      "972/972 [==============================] - 10s 10ms/step - loss: 620.0591 - mean_absolute_error: 18.3554 - root_mean_squared_error: 24.9010 - mean_absolute_percentage_error: 8623791.0000\n",
      "Epoch 73/100\n",
      "972/972 [==============================] - 10s 10ms/step - loss: 620.0108 - mean_absolute_error: 18.3483 - root_mean_squared_error: 24.9000 - mean_absolute_percentage_error: 9046440.0000\n",
      "Epoch 74/100\n",
      "972/972 [==============================] - 10s 10ms/step - loss: 619.9380 - mean_absolute_error: 18.3351 - root_mean_squared_error: 24.8986 - mean_absolute_percentage_error: 9299638.0000\n",
      "Epoch 75/100\n",
      "972/972 [==============================] - 10s 10ms/step - loss: 618.8240 - mean_absolute_error: 18.3227 - root_mean_squared_error: 24.8762 - mean_absolute_percentage_error: 8159987.5000\n",
      "Epoch 76/100\n",
      "972/972 [==============================] - 10s 10ms/step - loss: 617.5285 - mean_absolute_error: 18.3105 - root_mean_squared_error: 24.8501 - mean_absolute_percentage_error: 8910282.0000\n",
      "Epoch 77/100\n",
      "972/972 [==============================] - 10s 10ms/step - loss: 616.1672 - mean_absolute_error: 18.2995 - root_mean_squared_error: 24.8227 - mean_absolute_percentage_error: 8727723.0000\n",
      "Epoch 78/100\n",
      "972/972 [==============================] - 10s 10ms/step - loss: 617.0892 - mean_absolute_error: 18.3120 - root_mean_squared_error: 24.8413 - mean_absolute_percentage_error: 9102899.0000\n",
      "Epoch 79/100\n",
      "972/972 [==============================] - 10s 10ms/step - loss: 614.5536 - mean_absolute_error: 18.2713 - root_mean_squared_error: 24.7902 - mean_absolute_percentage_error: 8820110.0000\n",
      "Epoch 80/100\n",
      "972/972 [==============================] - 10s 10ms/step - loss: 614.6563 - mean_absolute_error: 18.2642 - root_mean_squared_error: 24.7923 - mean_absolute_percentage_error: 8594155.00002s - loss: 611.3338 - mean_absolute_error: 18.2139 -\n",
      "Epoch 81/100\n",
      "972/972 [==============================] - 10s 10ms/step - loss: 613.5146 - mean_absolute_error: 18.2586 - root_mean_squared_error: 24.7692 - mean_absolute_percentage_error: 9094420.00002s - loss: 612.3164 - mean_absolute_error: 18.2712 - root_mean_squared_error: 24.7450 - mean_absolute_ - ETA: 1s - loss: 610.4001 - mean_absolute_error: 18.2430 - root_\n",
      "Epoch 82/100\n",
      "972/972 [==============================] - 10s 10ms/step - loss: 613.9651 - mean_absolute_error: 18.2518 - root_mean_squared_error: 24.7783 - mean_absolute_percentage_error: 8978777.0000\n",
      "Epoch 83/100\n",
      "972/972 [==============================] - 10s 10ms/step - loss: 610.7905 - mean_absolute_error: 18.2078 - root_mean_squared_error: 24.7142 - mean_absolute_percentage_error: 8676188.0000\n",
      "Epoch 84/100\n",
      "972/972 [==============================] - 10s 10ms/step - loss: 610.8607 - mean_absolute_error: 18.2079 - root_mean_squared_error: 24.7156 - mean_absolute_percentage_error: 8861807.00002s - loss: 617.8651 - mean_absolute_error: 18.2885 - root_me\n",
      "Epoch 85/100\n",
      "972/972 [==============================] - 10s 10ms/step - loss: 609.3182 - mean_absolute_error: 18.1826 - root_mean_squared_error: 24.6844 - mean_absolute_percentage_error: 9213289.0000- ETA: 3s - loss: 606.3632 - mean_abso\n",
      "Epoch 86/100\n",
      "972/972 [==============================] - 10s 10ms/step - loss: 609.5500 - mean_absolute_error: 18.1911 - root_mean_squared_error: 24.6891 - mean_absolute_percentage_error: 8792397.0000\n",
      "Epoch 87/100\n",
      "972/972 [==============================] - 10s 10ms/step - loss: 608.4235 - mean_absolute_error: 18.1716 - root_mean_squared_error: 24.6662 - mean_absolute_percentage_error: 8771328.0000\n",
      "Epoch 88/100\n",
      "972/972 [==============================] - 10s 10ms/step - loss: 607.3752 - mean_absolute_error: 18.1681 - root_mean_squared_error: 24.6450 - mean_absolute_percentage_error: 8939169.00001s - loss: 606.0731 - mean_absolute_error: 18.1642 - root_mean_squared_error: 24\n",
      "Epoch 89/100\n",
      "972/972 [==============================] - 10s 10ms/step - loss: 606.9346 - mean_absolute_error: 18.1595 - root_mean_squared_error: 24.6360 - mean_absolute_percentage_error: 9333404.0000\n",
      "Epoch 90/100\n",
      "972/972 [==============================] - 10s 10ms/step - loss: 605.7643 - mean_absolute_error: 18.1445 - root_mean_squared_error: 24.6123 - mean_absolute_percentage_error: 8638171.00002s - loss: 607.6268 - mean_absolute_error: 18.\n",
      "Epoch 91/100\n",
      "972/972 [==============================] - 10s 10ms/step - loss: 606.5927 - mean_absolute_error: 18.1565 - root_mean_squared_error: 24.6291 - mean_absolute_percentage_error: 9295088.0000\n",
      "Epoch 92/100\n",
      "972/972 [==============================] - 10s 11ms/step - loss: 604.9592 - mean_absolute_error: 18.1282 - root_mean_squared_error: 24.5959 - mean_absolute_percentage_error: 8636229.00002s - loss: 599.7461 - mean_absolute_error: 1\n",
      "Epoch 93/100\n",
      "972/972 [==============================] - 10s 10ms/step - loss: 602.9310 - mean_absolute_error: 18.0987 - root_mean_squared_error: 24.5546 - mean_absolute_percentage_error: 8424738.0000\n",
      "Epoch 94/100\n",
      "972/972 [==============================] - 10s 10ms/step - loss: 602.9086 - mean_absolute_error: 18.0908 - root_mean_squared_error: 24.5542 - mean_absolute_percentage_error: 9169559.00009s - loss: 625.0257 - mean_a - ETA: 6s - loss: 611.03 - ETA: 2s - loss: 604.1788 - mean_absolute_erro\n",
      "Epoch 95/100\n",
      "972/972 [==============================] - 10s 10ms/step - loss: 603.6517 - mean_absolute_error: 18.0977 - root_mean_squared_error: 24.5693 - mean_absolute_percentage_error: 9146266.0000\n",
      "Epoch 96/100\n",
      "972/972 [==============================] - 10s 10ms/step - loss: 601.9875 - mean_absolute_error: 18.0774 - root_mean_squared_error: 24.5354 - mean_absolute_percentage_error: 8653405.0000\n",
      "Epoch 97/100\n",
      "972/972 [==============================] - 10s 10ms/step - loss: 598.3135 - mean_absolute_error: 18.0287 - root_mean_squared_error: 24.4604 - mean_absolute_percentage_error: 8930254.0000\n",
      "Epoch 98/100\n",
      "972/972 [==============================] - 10s 10ms/step - loss: 599.3113 - mean_absolute_error: 18.0452 - root_mean_squared_error: 24.4808 - mean_absolute_percentage_error: 8716968.0000A: 1s - loss: 603.8361 - mean_absolute_error: 18.1014 - root_\n",
      "Epoch 99/100\n",
      "972/972 [==============================] - 10s 10ms/step - loss: 604.1684 - mean_absolute_error: 18.1132 - root_mean_squared_error: 24.5798 - mean_absolute_percentage_error: 8883748.00003s - loss:\n",
      "Epoch 100/100\n",
      "972/972 [==============================] - 10s 10ms/step - loss: 597.7693 - mean_absolute_error: 18.0059 - root_mean_squared_error: 24.4493 - mean_absolute_percentage_error: 8853995.00001s - loss: 595.8365 - mean_absolute_error: 17.9809 - root_me\n"
     ]
    },
    {
     "data": {
      "text/plain": [
       "<keras.callbacks.History at 0x25bad30d4c0>"
      ]
     },
     "execution_count": 48,
     "metadata": {},
     "output_type": "execute_result"
    }
   ],
   "source": [
    "model30.fit((Wt30, Wt30x, Xt30), yt30, \n",
    "            epochs = 100, \n",
    "            verbose = 1)"
   ]
  },
  {
   "cell_type": "code",
   "execution_count": 49,
   "metadata": {},
   "outputs": [
    {
     "name": "stdout",
     "output_type": "stream",
     "text": [
      "INFO:tensorflow:Assets written to: my_dir/6ai-Conv-LSTM-30\\assets\n"
     ]
    },
    {
     "name": "stderr",
     "output_type": "stream",
     "text": [
      "WARNING:absl:<keras.layers.recurrent.LSTMCell object at 0x0000025BA98B5C70> has the same name 'LSTMCell' as a built-in Keras object. Consider renaming <class 'keras.layers.recurrent.LSTMCell'> to avoid naming conflicts when loading with `tf.keras.models.load_model`. If renaming is not possible, pass the object in the `custom_objects` parameter of the load function.\n",
      "WARNING:absl:<keras.layers.recurrent.LSTMCell object at 0x0000025BAA076220> has the same name 'LSTMCell' as a built-in Keras object. Consider renaming <class 'keras.layers.recurrent.LSTMCell'> to avoid naming conflicts when loading with `tf.keras.models.load_model`. If renaming is not possible, pass the object in the `custom_objects` parameter of the load function.\n",
      "WARNING:absl:<keras.layers.recurrent.LSTMCell object at 0x0000025BA9A1E670> has the same name 'LSTMCell' as a built-in Keras object. Consider renaming <class 'keras.layers.recurrent.LSTMCell'> to avoid naming conflicts when loading with `tf.keras.models.load_model`. If renaming is not possible, pass the object in the `custom_objects` parameter of the load function.\n",
      "WARNING:absl:<keras.layers.recurrent.LSTMCell object at 0x0000025BA9A1EC10> has the same name 'LSTMCell' as a built-in Keras object. Consider renaming <class 'keras.layers.recurrent.LSTMCell'> to avoid naming conflicts when loading with `tf.keras.models.load_model`. If renaming is not possible, pass the object in the `custom_objects` parameter of the load function.\n",
      "WARNING:absl:<keras.layers.recurrent.LSTMCell object at 0x0000025BACE6B4C0> has the same name 'LSTMCell' as a built-in Keras object. Consider renaming <class 'keras.layers.recurrent.LSTMCell'> to avoid naming conflicts when loading with `tf.keras.models.load_model`. If renaming is not possible, pass the object in the `custom_objects` parameter of the load function.\n",
      "WARNING:absl:<keras.layers.recurrent.LSTMCell object at 0x0000025BA9DEE130> has the same name 'LSTMCell' as a built-in Keras object. Consider renaming <class 'keras.layers.recurrent.LSTMCell'> to avoid naming conflicts when loading with `tf.keras.models.load_model`. If renaming is not possible, pass the object in the `custom_objects` parameter of the load function.\n"
     ]
    }
   ],
   "source": [
    "model30.save(\"my_dir/6ai-Conv-LSTM-30\")"
   ]
  },
  {
   "cell_type": "code",
   "execution_count": 50,
   "metadata": {},
   "outputs": [],
   "source": [
    "metrics30 = pd.DataFrame(model30.history.history)"
   ]
  },
  {
   "cell_type": "code",
   "execution_count": 51,
   "metadata": {},
   "outputs": [
    {
     "data": {
      "text/plain": [
       "<AxesSubplot:>"
      ]
     },
     "execution_count": 51,
     "metadata": {},
     "output_type": "execute_result"
    },
    {
     "data": {
      "image/png": "[encoded data removed]",
      "text/plain": [
       "<Figure size 432x288 with 1 Axes>"
      ]
     },
     "metadata": {
      "needs_background": "light"
     },
     "output_type": "display_data"
    }
   ],
   "source": [
    "metrics30[['loss']].plot()"
   ]
  },
  {
   "cell_type": "code",
   "execution_count": 40,
   "metadata": {},
   "outputs": [],
   "source": [
    "model30 = keras.models.load_model(\"my_dir/6ai-Conv-LSTM-30\")"
   ]
  },
  {
   "cell_type": "code",
   "execution_count": 41,
   "metadata": {},
   "outputs": [
    {
     "data": {
      "text/plain": [
       "array([[ 59.362713,  61.451447,  65.545166, ...,  62.3582  ,  41.758617,\n",
       "         42.101933],\n",
       "       [ 56.11957 ,  57.04493 ,  62.04149 , ...,  58.339157,  39.207508,\n",
       "         40.50475 ],\n",
       "       [ 54.83355 ,  55.541573,  60.59506 , ...,  57.656975,  38.7168  ,\n",
       "         41.29214 ],\n",
       "       ...,\n",
       "       [144.08818 , 147.82149 , 160.07211 , ..., 158.37106 , 110.52066 ,\n",
       "        101.146706],\n",
       "       [134.45314 , 137.131   , 149.60303 , ..., 147.06601 , 100.94776 ,\n",
       "         93.34111 ],\n",
       "       [120.5532  , 122.69646 , 134.7485  , ..., 132.3018  ,  85.642555,\n",
       "         80.892784]], dtype=float32)"
      ]
     },
     "execution_count": 41,
     "metadata": {},
     "output_type": "execute_result"
    }
   ],
   "source": [
    "model30.predict((Wv30, Wv30x, Xv30))"
   ]
  },
  {
   "cell_type": "markdown",
   "metadata": {},
   "source": [
    "# 60 mins ahead"
   ]
  },
  {
   "cell_type": "code",
   "execution_count": 44,
   "metadata": {},
   "outputs": [],
   "source": [
    "def build_model_60(hp):\n",
    "    # Inputs\n",
    "    channel_Wide = keras.layers.Input(shape=Wide_train_60.shape[1:], name=\"wide_week\")\n",
    "    channel_Widex = keras.layers.Input(shape=Wide_train_60_day.shape[1:], name=\"wide_day\")\n",
    "    channel_Deep = keras.layers.Input(shape=Xt60.shape[1:], name=\"deep_input\")\n",
    "    \n",
    "    # Wide Model\n",
    "    Wide_60 = keras.layers.Bidirectional(\n",
    "        keras.layers.LSTM(units=hp.Int(\"wide_week_LSTM\", min_value=1, max_value=100, step=1), \n",
    "                                activation='relu'))(channel_Wide)\n",
    "    \n",
    "    Wide_60x = keras.layers.Bidirectional(\n",
    "        keras.layers.LSTM(units=hp.Int(\"wide_day_LSTM\", min_value=1, max_value=100, step=1), \n",
    "                                activation='relu'))(channel_Widex)\n",
    "    \n",
    "    # Deep Model\n",
    "    # CNN \n",
    "    CNN_60a = keras.layers.TimeDistributed(\n",
    "        keras.layers.Conv2D(filters=hp.Int(\"filters\", min_value=32, max_value=512, step=32),\n",
    "                            kernel_size=hp.Choice(\"kernel_size\", [2, 3]), activation='relu'))(channel_Deep)\n",
    "    CNN_60b = keras.layers.TimeDistributed(\n",
    "        keras.layers.Conv2D(filters=hp.Int(\"filters\", min_value=32, max_value=512, step=32),\n",
    "                            kernel_size=hp.Choice(\"kernel_size\", [2, 3]), activation='relu'))(CNN_60a)\n",
    "    flatten_60 = keras.layers.TimeDistributed(keras.layers.Flatten())(CNN_60b)\n",
    "    # LSTM          \n",
    "    LSTM_60a = keras.layers.LSTM(units=hp.Int(\"units_LSTM\", min_value=1, max_value=100, step=1), \n",
    "                                activation='relu', return_sequences=True)(flatten_60)\n",
    "    LSTM_60b = keras.layers.LSTM(units=hp.Int(\"units_LSTM\", min_value=1, max_value=100, step=1), \n",
    "                                activation='relu', return_sequences=True)(LSTM_60a)\n",
    "    Att_60 = SeqSelfAttention(attention_activation='tanh')(LSTM_60b)\n",
    "    Reshaped_60 = keras.layers.Flatten()(Att_60)\n",
    "    \n",
    "    # Concatenation \n",
    "    concat = keras.layers.concatenate([Wide_60, Wide_60x, Reshaped_60])\n",
    "    \n",
    "    # Output\n",
    "    output = keras.layers.Dense(n_features, name= \"output\")(concat)\n",
    "    \n",
    "    # Model\n",
    "    model_60 = keras.Model(inputs=[channel_Wide, channel_Widex, channel_Deep], outputs=[output])\n",
    "\n",
    "    # Compile\n",
    "    model_60.compile(optimizer=keras.optimizers.Adam(hp.Choice(\"learning_rate\", [1e-2, 1e-3, 1e-4])), \n",
    "        loss='mse',metrics=['MeanAbsoluteError','RootMeanSquaredError','MeanAbsolutePercentageError'])\n",
    "                    \n",
    "    return model_60"
   ]
  },
  {
   "cell_type": "code",
   "execution_count": 45,
   "metadata": {},
   "outputs": [
    {
     "name": "stdout",
     "output_type": "stream",
     "text": [
      "INFO:tensorflow:Reloading Oracle from existing project C:\\Runs\\6ai-Conv-LSTM-60\\oracle.json\n",
      "INFO:tensorflow:Reloading Tuner from C:\\Runs\\6ai-Conv-LSTM-60\\tuner0.json\n"
     ]
    }
   ],
   "source": [
    "tuner60 = RandomSearch(\n",
    "    build_model_60,\n",
    "    objective=\"val_loss\",\n",
    "    max_trials=30,\n",
    "    executions_per_trial=2,\n",
    "    overwrite=False,\n",
    "    directory=os.path.normpath('C:/Runs'),\n",
    "    project_name=\"6ai-Conv-LSTM-60\",\n",
    ")"
   ]
  },
  {
   "cell_type": "code",
   "execution_count": 46,
   "metadata": {},
   "outputs": [
    {
     "name": "stdout",
     "output_type": "stream",
     "text": [
      "Search space summary\n",
      "Default search space size: 6\n",
      "wide_week_LSTM (Int)\n",
      "{'default': None, 'conditions': [], 'min_value': 1, 'max_value': 100, 'step': 1, 'sampling': None}\n",
      "wide_day_LSTM (Int)\n",
      "{'default': None, 'conditions': [], 'min_value': 1, 'max_value': 100, 'step': 1, 'sampling': None}\n",
      "filters (Int)\n",
      "{'default': None, 'conditions': [], 'min_value': 32, 'max_value': 512, 'step': 32, 'sampling': None}\n",
      "kernel_size (Choice)\n",
      "{'default': 2, 'conditions': [], 'values': [2, 3], 'ordered': True}\n",
      "units_LSTM (Int)\n",
      "{'default': None, 'conditions': [], 'min_value': 1, 'max_value': 100, 'step': 1, 'sampling': None}\n",
      "learning_rate (Choice)\n",
      "{'default': 0.01, 'conditions': [], 'values': [0.01, 0.001, 0.0001], 'ordered': True}\n"
     ]
    }
   ],
   "source": [
    "tuner60.search_space_summary()"
   ]
  },
  {
   "cell_type": "code",
   "execution_count": 47,
   "metadata": {},
   "outputs": [
    {
     "name": "stdout",
     "output_type": "stream",
     "text": [
      "Trial 31 Complete [00h 03m 25s]\n",
      "val_loss: 925.2304992675781\n",
      "\n",
      "Best val_loss So Far: 807.4200744628906\n",
      "Total elapsed time: 12h 00m 51s\n",
      "INFO:tensorflow:Oracle triggered exit\n"
     ]
    }
   ],
   "source": [
    "tuner60.search((Wt60, Wt60x, Xt60), yt60, epochs=200,\n",
    "            validation_split = val_percent,\n",
    "            callbacks=[early_stop],\n",
    "            verbose=2)"
   ]
  },
  {
   "cell_type": "code",
   "execution_count": 48,
   "metadata": {},
   "outputs": [
    {
     "name": "stdout",
     "output_type": "stream",
     "text": [
      "Results summary\n",
      "Results in C:\\Runs\\6ai-Conv-LSTM-60\n",
      "Showing 1 best trials\n",
      "Objective(name='val_loss', direction='min')\n",
      "Trial summary\n",
      "Hyperparameters:\n",
      "wide_week_LSTM: 10\n",
      "wide_day_LSTM: 91\n",
      "filters: 192\n",
      "kernel_size: 3\n",
      "units_LSTM: 87\n",
      "learning_rate: 0.0001\n",
      "Score: 807.4200744628906\n"
     ]
    }
   ],
   "source": [
    "tuner60.results_summary(1)"
   ]
  },
  {
   "cell_type": "markdown",
   "metadata": {},
   "source": [
    "### Best model"
   ]
  },
  {
   "cell_type": "code",
   "execution_count": 49,
   "metadata": {},
   "outputs": [],
   "source": [
    "best_hp60 = tuner60.get_best_hyperparameters()[0]\n",
    "model60 = tuner60.hypermodel.build(best_hp60)"
   ]
  },
  {
   "cell_type": "code",
   "execution_count": 50,
   "metadata": {},
   "outputs": [
    {
     "data": {
      "text/plain": [
       "['Best_HP/6ai-Conv-LSTM-60']"
      ]
     },
     "execution_count": 50,
     "metadata": {},
     "output_type": "execute_result"
    }
   ],
   "source": [
    "scaler_filename = \"Best_HP/6ai-Conv-LSTM-60\"\n",
    "joblib.dump(best_hp60, scaler_filename) "
   ]
  },
  {
   "cell_type": "code",
   "execution_count": 51,
   "metadata": {},
   "outputs": [
    {
     "name": "stdout",
     "output_type": "stream",
     "text": [
      "Model: \"model_1\"\n",
      "__________________________________________________________________________________________________\n",
      " Layer (type)                   Output Shape         Param #     Connected to                     \n",
      "==================================================================================================\n",
      " deep_input (InputLayer)        [(None, 3, 5, 7, 1)  0           []                               \n",
      "                                ]                                                                 \n",
      "                                                                                                  \n",
      " time_distributed_3 (TimeDistri  (None, 3, 3, 5, 192  1920       ['deep_input[0][0]']             \n",
      " buted)                         )                                                                 \n",
      "                                                                                                  \n",
      " time_distributed_4 (TimeDistri  (None, 3, 1, 3, 192  331968     ['time_distributed_3[0][0]']     \n",
      " buted)                         )                                                                 \n",
      "                                                                                                  \n",
      " time_distributed_5 (TimeDistri  (None, 3, 576)      0           ['time_distributed_4[0][0]']     \n",
      " buted)                                                                                           \n",
      "                                                                                                  \n",
      " lstm_6 (LSTM)                  (None, 3, 87)        231072      ['time_distributed_5[0][0]']     \n",
      "                                                                                                  \n",
      " lstm_7 (LSTM)                  (None, 3, 87)        60900       ['lstm_6[0][0]']                 \n",
      "                                                                                                  \n",
      " wide_week (InputLayer)         [(None, 1, 14)]      0           []                               \n",
      "                                                                                                  \n",
      " wide_day (InputLayer)          [(None, 1, 14)]      0           []                               \n",
      "                                                                                                  \n",
      " seq_self_attention_1 (SeqSelfA  (None, 3, 87)       5633        ['lstm_7[0][0]']                 \n",
      " ttention)                                                                                        \n",
      "                                                                                                  \n",
      " bidirectional_2 (Bidirectional  (None, 20)          2000        ['wide_week[0][0]']              \n",
      " )                                                                                                \n",
      "                                                                                                  \n",
      " bidirectional_3 (Bidirectional  (None, 182)         77168       ['wide_day[0][0]']               \n",
      " )                                                                                                \n",
      "                                                                                                  \n",
      " flatten_3 (Flatten)            (None, 261)          0           ['seq_self_attention_1[0][0]']   \n",
      "                                                                                                  \n",
      " concatenate_1 (Concatenate)    (None, 463)          0           ['bidirectional_2[0][0]',        \n",
      "                                                                  'bidirectional_3[0][0]',        \n",
      "                                                                  'flatten_3[0][0]']              \n",
      "                                                                                                  \n",
      " output (Dense)                 (None, 7)            3248        ['concatenate_1[0][0]']          \n",
      "                                                                                                  \n",
      "==================================================================================================\n",
      "Total params: 713,909\n",
      "Trainable params: 713,909\n",
      "Non-trainable params: 0\n",
      "__________________________________________________________________________________________________\n"
     ]
    }
   ],
   "source": [
    "model60.summary()"
   ]
  },
  {
   "cell_type": "code",
   "execution_count": 52,
   "metadata": {},
   "outputs": [
    {
     "name": "stdout",
     "output_type": "stream",
     "text": [
      "Epoch 1/100\n",
      "972/972 [==============================] - 28s 18ms/step - loss: 8370.2402 - mean_absolute_error: 59.5643 - root_mean_squared_error: 91.4890 - mean_absolute_percentage_error: 52017824.0000\n",
      "Epoch 2/100\n",
      "972/972 [==============================] - 18s 18ms/step - loss: 2042.7142 - mean_absolute_error: 34.9279 - root_mean_squared_error: 45.1964 - mean_absolute_percentage_error: 50795192.0000\n",
      "Epoch 3/100\n",
      "972/972 [==============================] - 18s 18ms/step - loss: 1648.6371 - mean_absolute_error: 30.5239 - root_mean_squared_error: 40.6034 - mean_absolute_percentage_error: 46225796.00004s - loss: 1706.1729 - m - ETA: 1s - loss: 1662.4106 - mean_absolute_error: 30.6869 - root_mean_squared_error: 40.7727 - mean_ab\n",
      "Epoch 4/100\n",
      "972/972 [==============================] - 18s 18ms/step - loss: 1416.3590 - mean_absolute_error: 28.0356 - root_mean_squared_error: 37.6345 - mean_absolute_percentage_error: 44761252.00007s - loss: 1406.72 - ETA: 3s - loss: 1387.6672 - mean_absolute_error: 27.6912 - root_mean_sq - ETA: 1s - loss: 1396.5286 - mean_absolute_error: 27.8075 - root_mean_squared_error:\n",
      "Epoch 5/100\n",
      "972/972 [==============================] - 18s 18ms/step - loss: 1328.2693 - mean_absolute_error: 27.1531 - root_mean_squared_error: 36.4454 - mean_absolute_percentage_error: 42322756.0000\n",
      "Epoch 6/100\n",
      "972/972 [==============================] - 18s 19ms/step - loss: 1263.3914 - mean_absolute_error: 26.4963 - root_mean_squared_error: 35.5442 - mean_absolute_percentage_error: 42271692.00001s - loss: 1256.7794 - mean_absolute_error: 26.4059 - root_mean_squared_error: 35.4511 -\n",
      "Epoch 7/100\n",
      "972/972 [==============================] - 18s 18ms/step - loss: 1224.1873 - mean_absolute_error: 26.1169 - root_mean_squared_error: 34.9884 - mean_absolute_percentage_error: 41374216.0000\n",
      "Epoch 8/100\n",
      "972/972 [==============================] - 19s 19ms/step - loss: 1166.0920 - mean_absolute_error: 25.4254 - root_mean_squared_error: 34.1481 - mean_absolute_percentage_error: 42889596.0000\n",
      "Epoch 9/100\n",
      "972/972 [==============================] - 19s 19ms/step - loss: 1129.6140 - mean_absolute_error: 25.0264 - root_mean_squared_error: 33.6097 - mean_absolute_percentage_error: 42791456.0000\n",
      "Epoch 10/100\n",
      "972/972 [==============================] - 19s 19ms/step - loss: 1104.9751 - mean_absolute_error: 24.7360 - root_mean_squared_error: 33.2412 - mean_absolute_percentage_error: 43904468.00002s - loss: 1108.3473 - mean_absolute_error: 24.7719 - root_mea\n",
      "Epoch 11/100\n",
      "972/972 [==============================] - 19s 20ms/step - loss: 1070.6874 - mean_absolute_error: 24.3597 - root_mean_squared_error: 32.7214 - mean_absolute_percentage_error: 44900824.00002s - loss: 1071.6865 - mean_absolute_error: 24.3741 - ro\n",
      "Epoch 12/100\n",
      "972/972 [==============================] - 19s 19ms/step - loss: 1044.7378 - mean_absolute_error: 24.0639 - root_mean_squared_error: 32.3224 - mean_absolute_percentage_error: 45054500.0000\n",
      "Epoch 13/100\n",
      "972/972 [==============================] - 19s 20ms/step - loss: 1035.0658 - mean_absolute_error: 23.9249 - root_mean_squared_error: 32.1724 - mean_absolute_percentage_error: 44518584.00002s - loss: 1042.5101 - mean_absolute_error: 23.9\n",
      "Epoch 14/100\n",
      "972/972 [==============================] - 18s 18ms/step - loss: 1023.4841 - mean_absolute_error: 23.7827 - root_mean_squared_error: 31.9919 - mean_absolute_percentage_error: 43548060.0000\n",
      "Epoch 15/100\n",
      "972/972 [==============================] - 18s 19ms/step - loss: 1006.2071 - mean_absolute_error: 23.5896 - root_mean_squared_error: 31.7208 - mean_absolute_percentage_error: 43405572.00000s - loss: 1006.9689 - mean_absolute_error: 23.5974 - root_mean_squared_error: 31.7328 - mean_absolute_percentage_\n",
      "Epoch 16/100\n",
      "972/972 [==============================] - 19s 19ms/step - loss: 993.7488 - mean_absolute_error: 23.4118 - root_mean_squared_error: 31.5238 - mean_absolute_percentage_error: 42507476.0000: 13s - loss:  - ETA: 1s - loss: 991.9003 - mean_absolute_error: 23.3767 - root_mean_squared_error: 31.4945 - mean_absolute_perce\n",
      "Epoch 17/100\n",
      "972/972 [==============================] - 19s 19ms/step - loss: 982.9782 - mean_absolute_error: 23.3350 - root_mean_squared_error: 31.3525 - mean_absolute_percentage_error: 42594584.0000\n",
      "Epoch 18/100\n",
      "972/972 [==============================] - 19s 20ms/step - loss: 964.7590 - mean_absolute_error: 23.0593 - root_mean_squared_error: 31.0606 - mean_absolute_percentage_error: 41248876.0000 5s - loss: 973.7071 - mean_absolute_error: 23.1999 - root_m - ETA: 0s - loss: 964.7372 - mean_absolute_error: 23.0592 - root_mean_squared_error: 31.0602 - mean_absolute_percentage_error: 41144944. - ETA: 0s - loss: 964.4326 - mean_absolute_error: 23.0607 - root_mean_squared_error: 31.0553 - mean_absolute_percentage_error: 41066 - ETA: 0s - loss: 964.6302 - mean_absolute_error: 23.0574 - root_mean_squared_error: 31.0585 - mean_absolute_percentage_error: 41256840.000\n",
      "Epoch 19/100\n",
      "972/972 [==============================] - 19s 20ms/step - loss: 946.6255 - mean_absolute_error: 22.8436 - root_mean_squared_error: 30.7673 - mean_absolute_percentage_error: 40353120.0000 14s - loss: 959.9694 - mean_absolute_error: 22.9574 - root_mean_squared_error: 30.9834 - mean_abso - ET - \n",
      "Epoch 20/100\n",
      "972/972 [==============================] - 19s 19ms/step - loss: 940.0038 - mean_absolute_error: 22.7277 - root_mean_squared_error: 30.6595 - mean_absolute_percentage_error: 40007784.0000\n",
      "Epoch 21/100\n",
      "972/972 [==============================] - 20s 20ms/step - loss: 927.2078 - mean_absolute_error: 22.5779 - root_mean_squared_error: 30.4501 - mean_absolute_percentage_error: 38617664.0000 5s - loss: 923.7233 - mean_absolute_error: \n",
      "Epoch 22/100\n",
      "972/972 [==============================] - 18s 19ms/step - loss: 912.3046 - mean_absolute_error: 22.4044 - root_mean_squared_error: 30.2044 - mean_absolute_percentage_error: 36235140.0000\n",
      "Epoch 23/100\n",
      "972/972 [==============================] - 19s 20ms/step - loss: 894.0374 - mean_absolute_error: 22.1577 - root_mean_squared_error: 29.9004 - mean_absolute_percentage_error: 32446056.0000 11s - loss: 893.7031 - mean_absol - ETA: 7s - loss: 901.5210 - mean_absolute_error: 22.2533 - root_mean_squared_error: 30.0254 - mean_absolute_perc - ETA: 5s - loss: 897.0065 - mean_absolute_error: 22.2072 - root - ETA: 1s - loss: 894.3234 - mean_absolute_error: 22.1691 - root_mean_squared_error: 29.9052 - mean_absolute_percentage_\n",
      "Epoch 24/100\n",
      "972/972 [==============================] - 20s 20ms/step - loss: 892.4888 - mean_absolute_error: 22.1286 - root_mean_squared_error: 29.8745 - mean_absolute_percentage_error: 27231520.0000 11s - loss: 891.8060 - mean_absolute_error: 22.1440 - root_mean_squared_error: 29.8631 - mean_absolut - ETA: 1s - loss: 894.9723 - mean_absolute_error: 22.1630 - root_mean_squared_error: 29.9161 - mean_absolut\n",
      "Epoch 25/100\n",
      "972/972 [==============================] - 20s 20ms/step - loss: 875.3448 - mean_absolute_error: 21.9042 - root_mean_squared_error: 29.5862 - mean_absolute_percentage_error: 23376546.0000 0s - loss: 876.1653 - mean_absolute_error: 21.9115 - root_mean_squared_error: 29.6001 - mean_absolute_percentage_error: 2385\n",
      "Epoch 26/100\n",
      "972/972 [==============================] - 20s 20ms/step - loss: 868.9877 - mean_absolute_error: 21.8107 - root_mean_squared_error: 29.4786 - mean_absolute_percentage_error: 19448928.0000 4s - loss: 871.6548 - mean_absolute_error: 21.8560 - root_mean_squared_error: 29 - ETA: 0s - loss: 869.0605 - mean_absolute_error: 21.8098 - root_mean_squared_error: 29.4798 - mean_absolute_percentage_error\n",
      "Epoch 27/100\n",
      "972/972 [==============================] - 19s 20ms/step - loss: 866.7606 - mean_absolute_error: 21.7502 - root_mean_squared_error: 29.4408 - mean_absolute_percentage_error: 18944714.0000 9s - loss: 864.4406 - mean_absolute_error: 21.6875 - root_mean_s - ETA: 4s - loss: 870.2883 - mean_absolute_error: 21.7706 - root_mean_squared_error: 29.5006 - mean_absolute_per - ETA: 3s - loss: 869.1953 - mean_absolute_error: 21.7507 - root_mean_squared_error: 29.4821 - mean_absolute_percentage_erro - ETA: 2s - loss: 869.0356 - mean_absolute_error: 21.7629 - root_mean_squared_error: 29.4794 - mean_absol\n",
      "Epoch 28/100\n",
      "972/972 [==============================] - 19s 20ms/step - loss: 874.2953 - mean_absolute_error: 21.8631 - root_mean_squared_error: 29.5685 - mean_absolute_percentage_error: 17184084.0000 0s - loss: 874.4493 - mean_absolute_error: 21.8644 - root_mean_squared_error: 29.5711 - mean_absolute_percentage_error: 17205122.000\n",
      "Epoch 29/100\n",
      "972/972 [==============================] - 18s 18ms/step - loss: 870.6549 - mean_absolute_error: 21.8142 - root_mean_squared_error: 29.5069 - mean_absolute_percentage_error: 18706582.0000 3s - loss: 871.8052 - mean_absolute_error: 21.8213 - root_mean_squa\n",
      "Epoch 30/100\n",
      "972/972 [==============================] - 19s 20ms/step - loss: 857.5552 - mean_absolute_error: 21.6330 - root_mean_squared_error: 29.2841 - mean_absolute_percentage_error: 17446524.0000 0s - loss: 857.9713 - mean_absolute_error: 21.6339 - root_mean_squared_error: 29.2912 - mean_absolute_percentage_error: 17573644.\n",
      "Epoch 31/100\n",
      "972/972 [==============================] - 19s 19ms/step - loss: 845.1282 - mean_absolute_error: 21.4720 - root_mean_squared_error: 29.0711 - mean_absolute_percentage_error: 16796956.0000\n",
      "Epoch 32/100\n",
      "972/972 [==============================] - 19s 20ms/step - loss: 838.6174 - mean_absolute_error: 21.3841 - root_mean_squared_error: 28.9589 - mean_absolute_percentage_error: 17144040.0000\n",
      "Epoch 33/100\n",
      "972/972 [==============================] - 19s 19ms/step - loss: 829.1189 - mean_absolute_error: 21.2660 - root_mean_squared_error: 28.7944 - mean_absolute_percentage_error: 16587916.0000 10s - loss: 829.3768 - mean_absolute_error: 21.2929 - root_mean_squared - ETA: 7s - loss: \n",
      "Epoch 34/100\n",
      "972/972 [==============================] - 19s 19ms/step - loss: 819.7048 - mean_absolute_error: 21.1283 - root_mean_squared_error: 28.6305 - mean_absolute_percentage_error: 16162010.0000\n",
      "Epoch 35/100\n",
      "972/972 [==============================] - 19s 19ms/step - loss: 814.2069 - mean_absolute_error: 21.0513 - root_mean_squared_error: 28.5343 - mean_absolute_percentage_error: 15516513.0000 6s - loss: 823.2988 - mean_a\n",
      "Epoch 36/100\n",
      "972/972 [==============================] - 18s 18ms/step - loss: 807.5361 - mean_absolute_error: 20.9722 - root_mean_squared_error: 28.4172 - mean_absolute_percentage_error: 16199645.0000\n",
      "Epoch 37/100\n",
      "972/972 [==============================] - 19s 19ms/step - loss: 802.2267 - mean_absolute_error: 20.9092 - root_mean_squared_error: 28.3236 - mean_absolute_percentage_error: 15804357.0000 14s - loss: 804.1955 - mean_absolute_error: 20 - ETA: 13s - loss: 795.3273 - mean_absolute_error: 20.8485 - root_mean_squa - ETA: 11s - loss: 803.9986 - mean_absolute_err\n",
      "Epoch 38/100\n",
      "972/972 [==============================] - 18s 19ms/step - loss: 809.0623 - mean_absolute_error: 20.9872 - root_mean_squared_error: 28.4440 - mean_absolute_percentage_error: 16099655.0000\n",
      "Epoch 39/100\n",
      "972/972 [==============================] - 17s 18ms/step - loss: 792.5058 - mean_absolute_error: 20.7743 - root_mean_squared_error: 28.1515 - mean_absolute_percentage_error: 15322071.0000 8s - loss: 806.7992 - mean_absolute_erro - ETA: 2s - loss: 794.8119 - mean_absolute_error: 20.8081 - root_mean_squared_error: 28.1924 - mean_absolute_percentage - ETA: 1s - loss: 793.8891 - mean_absolute_error: 20.7934 - root_mean_squared_error: 28.1760 - mean_absolute_per\n",
      "Epoch 40/100\n",
      "972/972 [==============================] - 17s 18ms/step - loss: 788.0778 - mean_absolute_error: 20.7354 - root_mean_squared_error: 28.0727 - mean_absolute_percentage_error: 15090189.0000 2s - loss: 788.2896 - mean_absolute_error: 20.7311 - root_mean_squared_error: 28.0765 - mea - ETA: 0s - loss: 788.0406 - mean_absolute_error: 20.7349 - root_mean_squared_error: 28.0721 - mean_absolute_percentage_error: 15067905.000\n",
      "Epoch 41/100\n",
      "972/972 [==============================] - 17s 18ms/step - loss: 784.8221 - mean_absolute_error: 20.6764 - root_mean_squared_error: 28.0147 - mean_absolute_percentage_error: 15915782.0000 10s - loss: 786.0739 - mean_absolute_error: 20.6895 - root_mean_squared_error: 28.0370 - mean_absolute_percentage_ - ETA: 9s - loss: 793.4109 - mean_absolute_e - ETA: 3s - loss: 787.4941 - mean_absolute_error: 20.7070 - root_mean_squared_error: 28\n",
      "Epoch 42/100\n",
      "972/972 [==============================] - 17s 18ms/step - loss: 773.0002 - mean_absolute_error: 20.5206 - root_mean_squared_error: 27.8029 - mean_absolute_percentage_error: 14794345.0000 10s - loss: 774.5039 - m - ETA: 3s - loss: 771.0303 - mean_absolute_error: 20.5185 - root_mean_squared_error: 27.\n",
      "Epoch 43/100\n",
      "972/972 [==============================] - 18s 18ms/step - loss: 767.2618 - mean_absolute_error: 20.4360 - root_mean_squared_error: 27.6995 - mean_absolute_percentage_error: 14963484.0000 9s - loss: 764.3646 - mean_absolute_error: 20.3781 - root_mean_squared_error: 27.6471 - mean_absol - ETA: 7s - loss: 763.2593 - mean_absolute_error: 20.3609 - root_mean_squared_error: 27.6 - ETA: 4s - loss: 761.7001 - mean_absolute_error: 20.3455 - root_me\n",
      "Epoch 44/100\n",
      "972/972 [==============================] - 16s 17ms/step - loss: 764.5482 - mean_absolute_error: 20.3954 - root_mean_squared_error: 27.6505 - mean_absolute_percentage_error: 15209007.0000\n",
      "Epoch 45/100\n",
      "972/972 [==============================] - 18s 18ms/step - loss: 759.8447 - mean_absolute_error: 20.3270 - root_mean_squared_error: 27.5653 - mean_absolute_percentage_error: 15380335.0000 10s - loss: 756.9502 - mean_absolute_error: 20.2979 - root_mean_ - ETA: 7s - loss: 7\n",
      "Epoch 46/100\n",
      "972/972 [==============================] - 17s 18ms/step - loss: 750.0721 - mean_absolute_error: 20.1968 - root_mean_squared_error: 27.3874 - mean_absolute_percentage_error: 14529203.0000 14s - loss - ETA: 10s - loss: 750.5457 - mean_absolute_error: 20.2152 - root_mean_squared_error: 27.39 - ETA: 7\n",
      "Epoch 47/100\n",
      "972/972 [==============================] - 17s 18ms/step - loss: 747.5274 - mean_absolute_error: 20.1681 - root_mean_squared_error: 27.3409 - mean_absolute_percentage_error: 14937538.0000 15s - loss: 767.6941 - mean_absolute_err - ETA: 12s - loss: 769.0548 \n",
      "Epoch 48/100\n",
      "972/972 [==============================] - 17s 18ms/step - loss: 742.7812 - mean_absolute_error: 20.0933 - root_mean_squared_error: 27.2540 - mean_absolute_percentage_error: 14056828.0000\n",
      "Epoch 49/100\n",
      "972/972 [==============================] - 17s 18ms/step - loss: 741.1956 - mean_absolute_error: 20.0730 - root_mean_squared_error: 27.2249 - mean_absolute_percentage_error: 14156349.0000 15s - lo - ETA: 0s - loss: 742.3957 - mean_absolute_error: 20.0840 - root_mean_squared_error: 27.2469 - mean_absolute_percentage_error: 14109\n",
      "Epoch 50/100\n",
      "972/972 [==============================] - 17s 18ms/step - loss: 737.7389 - mean_absolute_error: 20.0300 - root_mean_squared_error: 27.1614 - mean_absolute_percentage_error: 14467694.0000\n",
      "Epoch 51/100\n",
      "972/972 [==============================] - 16s 17ms/step - loss: 735.5060 - mean_absolute_error: 19.9878 - root_mean_squared_error: 27.1202 - mean_absolute_percentage_error: 14181929.0000 2s - loss: 735.8558 - mean_absolute_error: 19.9875 - root_mean_squared_error: 27.1267 - mean_absolute_percentage_error: 14116036.0 - ETA: 1s - loss: 735.6880 - mean_absolute_error: 19.9865 - root_mean_squared_error: 27.1236 - mean_absol\n",
      "Epoch 52/100\n",
      "972/972 [==============================] - 18s 18ms/step - loss: 731.2212 - mean_absolute_error: 19.9414 - root_mean_squared_error: 27.0411 - mean_absolute_percentage_error: 14642465.0000 7s - loss: 721.2851 - mean_absolute_error: 19.8299 - root_mean_squared_error: 26.8567 - mean - ETA: 5s - loss: 725.4756 - mean_absolute_error: 19.8745 - root_mean_squared_error: 26.9346 - mean_a - ETA: 2s - loss: 727.1612 - mean_absolute_error: 19.9021 - root_mean_squared_error: 26.965\n",
      "Epoch 53/100\n"
     ]
    },
    {
     "name": "stdout",
     "output_type": "stream",
     "text": [
      "972/972 [==============================] - 17s 18ms/step - loss: 732.1799 - mean_absolute_error: 19.9368 - root_mean_squared_error: 27.0588 - mean_absolute_percentage_error: 14642104.0000 9s - loss: 728.1537 - mean_absolute_error: 19.8735 - root_mean_squared_error: 26.9843 - mean_absolute_percentage_error: 1581 - ETA: 9s - loss: 726.0541 - mean_absolute_error: 19.86 - ETA: 3s - loss: 729.1963 - mean_absolute_error: 19.9169 - root_mean_squared_error: 27.0036 - mean_absolute_p - ETA: 2s - loss: 730.1625 - mean_absolute_error: 19.9239 - root_mean_squared_error: 27.0215 - mean_absolut\n",
      "Epoch 54/100\n",
      "972/972 [==============================] - 17s 18ms/step - loss: 731.1341 - mean_absolute_error: 19.9393 - root_mean_squared_error: 27.0395 - mean_absolute_percentage_error: 14478712.0000 17s - loss: 732.7 - ETA: 11s - loss: 738.7134 - mean_absolute_error: 20.0341 - root_mean_squared_error: 27.1793 - mean_absolute_percentag - ETA: 10s - loss: 737.8613 - mean_absolute_error: 20.0081 - root_mean_squared_error: 27.1636 - mean_absolute_percentage_error: 97 - ETA: 9s - loss: 737.0588 - mean_absolute_error: 20.0064 - root_mean_squared_error: 27.1488 - mean_absolut - ETA: 8s - loss: 736.3267 - mean_absolute_error: 20.0165 - root_mean_squared_error: 27.1353 - mean_absolute_percent - ETA: 6s - loss: 729.6679 - m\n",
      "Epoch 55/100\n",
      "972/972 [==============================] - 17s 18ms/step - loss: 725.0533 - mean_absolute_error: 19.8535 - root_mean_squared_error: 26.9268 - mean_absolute_percentage_error: 14748864.0000 4s - loss: 721.6263 - mean_absolute_error: 19.8488 - root_mean_squared_error: 26.8631 - mean_absolute_ - ETA: 2s - loss: 721.7205 - mean_absolute_error: 19.8318 - root_mean_squared_error: 26.8648 - mea\n",
      "Epoch 56/100\n",
      "972/972 [==============================] - 17s 18ms/step - loss: 724.4061 - mean_absolute_error: 19.8260 - root_mean_squared_error: 26.9148 - mean_absolute_percentage_error: 14680321.0000 loss: 778.0244 - mean_abs - ETA: 14s - loss: 716.5807 - mean_absolute_error: 19.8712 - root_mean_squared_error: 26.7690 - mean_absolute_percentage_error: 209 - ETA: 14s - loss: 715.2421 - mean_ab - ETA: 2s - loss: 720.9763 - mean_absolute_error: 19.8143 - root_mean_squared_error: 26.8510 - m\n",
      "Epoch 57/100\n",
      "972/972 [==============================] - 18s 18ms/step - loss: 720.6135 - mean_absolute_error: 19.7873 - root_mean_squared_error: 26.8442 - mean_absolute_percentage_error: 14925884.0000 3s - loss: 721.1205 - mean_absolute_error: 19.7978 - root_mean_squared_erro\n",
      "Epoch 58/100\n",
      "972/972 [==============================] - 17s 17ms/step - loss: 719.1223 - mean_absolute_error: 19.7696 - root_mean_squared_error: 26.8165 - mean_absolute_percentage_error: 14713231.0000 5s - loss: 714.4287 - mean_absolute_error: 19.724\n",
      "Epoch 59/100\n",
      "972/972 [==============================] - 17s 18ms/step - loss: 714.1406 - mean_absolute_error: 19.6851 - root_mean_squared_error: 26.7234 - mean_absolute_percentage_error: 14585069.0000\n",
      "Epoch 60/100\n",
      "972/972 [==============================] - 17s 18ms/step - loss: 714.3723 - mean_absolute_error: 19.6989 - root_mean_squared_error: 26.7277 - mean_absolute_percentage_error: 14132801.0000 5s - loss: 710.8203 - mean_absolute_error:\n",
      "Epoch 61/100\n",
      "972/972 [==============================] - 17s 18ms/step - loss: 713.1600 - mean_absolute_error: 19.6717 - root_mean_squared_error: 26.7051 - mean_absolute_percentage_error: 14347858.0000 8s - loss: 718.4244 - mean_absolute_error: 19.7255 - root_mean_sq - ETA: 4s - loss: 713.5757 - mean_absolute_error: 19.6907 - roo\n",
      "Epoch 62/100\n",
      "972/972 [==============================] - 17s 18ms/step - loss: 712.0078 - mean_absolute_error: 19.6479 - root_mean_squared_error: 26.6835 - mean_absolute_percentage_error: 13958717.0000\n",
      "Epoch 63/100\n",
      "972/972 [==============================] - 17s 18ms/step - loss: 708.7328 - mean_absolute_error: 19.6024 - root_mean_squared_error: 26.6220 - mean_absolute_percentage_error: 14682199.0000 1s - loss: 707.9519 - mean_absolute_error: 19.5785 - root_mean_squared_error: 26.6074 - mean_absolute_per\n",
      "Epoch 64/100\n",
      "972/972 [==============================] - 18s 18ms/step - loss: 704.1138 - mean_absolute_error: 19.5483 - root_mean_squared_error: 26.5352 - mean_absolute_percentage_error: 13693043.0000 7s - l\n",
      "Epoch 65/100\n",
      "972/972 [==============================] - 17s 18ms/step - loss: 704.4991 - mean_absolute_error: 19.5687 - root_mean_squared_error: 26.5424 - mean_absolute_percentage_error: 13385357.0000\n",
      "Epoch 66/100\n",
      "972/972 [==============================] - 16s 17ms/step - loss: 700.3633 - mean_absolute_error: 19.5024 - root_mean_squared_error: 26.4644 - mean_absolute_percentage_error: 13306181.0000 13s - loss: 697.2592 - mean_absolute_error:\n",
      "Epoch 67/100\n",
      "972/972 [==============================] - 17s 18ms/step - loss: 700.8940 - mean_absolute_error: 19.5143 - root_mean_squared_error: 26.4744 - mean_absolute_percentage_error: 13733427.0000 10s - loss: 695.2125 - mean_absolute_error: 19.4535 - root_mean_squared_error: 26.3669 - mean_absolute_percentage_error: 12511698. - ETA: 10s  - ETA: 3s - loss: 701.2188 - mean_absolute_error: 19.4952 - root_mean_squared_error: 26.4\n",
      "Epoch 68/100\n",
      "972/972 [==============================] - 17s 18ms/step - loss: 696.3564 - mean_absolute_error: 19.4399 - root_mean_squared_error: 26.3886 - mean_absolute_percentage_error: 13583139.0000 8s - loss: 693.4193 - mean_absolute_error: 19.4333 - root_mean_squared_error: 26.3328 - mean_abso - ETA: 6s - loss: 690.2585 - mean_absolute_error: 19.3773 - root_mean_squared_error: 26.2728 - mean_absolute_percentage_error:  - ETA: 5s - loss: 690.6735 - mean_absolute_er\n",
      "Epoch 69/100\n",
      "972/972 [==============================] - 17s 18ms/step - loss: 696.8353 - mean_absolute_error: 19.4418 - root_mean_squared_error: 26.3976 - mean_absolute_percentage_error: 13544878.0000 0s - loss: 697.7980 - mean_absolute_error: 19.4604 - root_mean_squared_error: 26.4159 - mean_absolute_percentage_error:\n",
      "Epoch 70/100\n",
      "972/972 [==============================] - 17s 18ms/step - loss: 692.5306 - mean_absolute_error: 19.3898 - root_mean_squared_error: 26.3160 - mean_absolute_percentage_error: 13342460.0000\n",
      "Epoch 71/100\n",
      "972/972 [==============================] - 17s 18ms/step - loss: 691.5365 - mean_absolute_error: 19.3962 - root_mean_squared_error: 26.2971 - mean_absolute_percentage_error: 14004916.0000 5s - loss: 691.6264 - mean_absolute_er\n",
      "Epoch 72/100\n",
      "972/972 [==============================] - 17s 18ms/step - loss: 690.3860 - mean_absolute_error: 19.3644 - root_mean_squared_error: 26.2752 - mean_absolute_percentage_error: 13726274.0000 15s - loss: 708.8426 - mean_absolute_error: 19.6757 - root_mean_squared_error: 26.62 - ETA: 12s - loss:  - ETA: 7s  - ETA: 0s - loss: 690.3846 - mean_absolute_error: 19.3642 - root_mean_squared_error: 26.2752 - mean_absolute_percentage_error: 13728924.000\n",
      "Epoch 73/100\n",
      "972/972 [==============================] - 15s 16ms/step - loss: 688.4660 - mean_absolute_error: 19.3382 - root_mean_squared_error: 26.2386 - mean_absolute_percentage_error: 13198933.0000 12s - loss: 679.4485 - mean_absolute_error: 19.2525 - root - ETA: 9\n",
      "Epoch 74/100\n",
      "972/972 [==============================] - 11s 11ms/step - loss: 687.2353 - mean_absolute_error: 19.3233 - root_mean_squared_error: 26.2152 - mean_absolute_percentage_error: 13080121.0000\n",
      "Epoch 75/100\n",
      "972/972 [==============================] - 16s 17ms/step - loss: 689.9769 - mean_absolute_error: 19.3592 - root_mean_squared_error: 26.2674 - mean_absolute_percentage_error: 13462073.0000 8s - loss: 693.9529 - mean_absolute_error: 19.3641 - root_mean_squared_error: 26.3430 - mean_absolut - ETA: 6s - loss: 689.6967 - mean_absolute_error: 19.3215 - root_mean_squared_error: 26.2621 - mean_absolute_ - ETA: 5s - loss: 688.5969 - mea\n",
      "Epoch 76/100\n",
      "972/972 [==============================] - 18s 19ms/step - loss: 685.5599 - mean_absolute_error: 19.3023 - root_mean_squared_error: 26.1832 - mean_absolute_percentage_error: 13171191.0000 12s - loss: 682.7463 - mean_absolute_error: 19.236 - ETA: 9s - loss: 682.9911 - ETA: 2s - loss: 682.0892 - mean_absolute_error: 19.2519 - root_mean_squared_error: 26.1168 - m\n",
      "Epoch 77/100\n",
      "972/972 [==============================] - 18s 19ms/step - loss: 683.8367 - mean_absolute_error: 19.2700 - root_mean_squared_error: 26.1503 - mean_absolute_percentage_error: 13198618.0000 16s - loss: 687.7030 - me\n",
      "Epoch 78/100\n",
      "972/972 [==============================] - 18s 19ms/step - loss: 680.8795 - mean_absolute_error: 19.2450 - root_mean_squared_error: 26.0937 - mean_absolute_percentage_error: 13077953.0000 16s - loss: 682.6323 - mean_absolute_error: 19.0855 - root_mean_squared_error: 26.1272 - mean_absolute_percentage_err - ETA: 3s - loss: 677.7489 - mean_absolute_error: 19.2158 - root_mean_squared_error: 26.\n",
      "Epoch 79/100\n",
      "972/972 [==============================] - 18s 19ms/step - loss: 677.7836 - mean_absolute_error: 19.1932 - root_mean_squared_error: 26.0343 - mean_absolute_percentage_error: 12742471.0000 loss: 715.7115 - mean_absolute_error: 19.7821 - root_mean_squared_error: 26.7528 - mean_absolu - ETA: 17s - loss: 686.3082 - mean_absolute_error: 19.3587 - root_mean_squared_error: 26.1975 - mea - ETA: 16s - loss: 678.8663 - mea - ETA: 6s - loss: 681.3168 - mean_absolut\n",
      "Epoch 80/100\n",
      "972/972 [==============================] - 18s 19ms/step - loss: 676.9163 - mean_absolute_error: 19.1758 - root_mean_squared_error: 26.0176 - mean_absolute_percentage_error: 12543744.0000 0s - loss: 676.6081 - mean_absolute_error: 19.1575 - root_mean_squared_error: 26.0117 - mean_absolute_percentage_error: 1\n",
      "Epoch 81/100\n",
      "972/972 [==============================] - 16s 17ms/step - loss: 675.1678 - mean_absolute_error: 19.1615 - root_mean_squared_error: 25.9840 - mean_absolute_percentage_error: 12770160.0000 14s - loss: 666.1519 - mean_absolute_error: 19.0938 - root_mean_sq - ETA: 2s - loss: 678.7016 - mean_absolute_error: 19.1782 - root_mean_squared_error: 26.0519 - mean_absolute_percentage_er - ETA: 1s - loss: 675.2902 - mean_absolute_error: 19.1605 - root_mean_squared_error: 25.9863 - mean_absolute_percentage_e\n",
      "Epoch 82/100\n",
      "972/972 [==============================] - 18s 19ms/step - loss: 675.1678 - mean_absolute_error: 19.1468 - root_mean_squared_error: 25.9840 - mean_absolute_percentage_error: 12106095.0000 4s - loss: 675.2273 - mean_absolute_error: 19.1401 - root_mean_squared_error: 25.9851 - mean_absolute_percentage_error: 114 - ETA: 3s - loss: 674.5514 - mean_absolute_error: 19.1394 - root_mean_squared_er\n",
      "Epoch 83/100\n",
      "972/972 [==============================] - 18s 19ms/step - loss: 671.9538 - mean_absolute_error: 19.1239 - root_mean_squared_error: 25.9221 - mean_absolute_percentage_error: 11894947.0000 17s - loss: 675.3546 - mean_absolute_error: 19.2784 - root_mean_squared_error: 25.9876 - mean_absolute_percentage_error: 1532577.12 - ETA: 16s - loss: 672.2374 - mean_absolute_error: 19.1975 - root_mean_squared_error: 25.9275 - mean_absolute_pe - ETA: 15s - loss: 686.2203 - mean_absolute_error: 19.2871 - root_mean_squared_error: 26.1958 - mean_ab - ETA: 6s - loss: 673.4838 - \n",
      "Epoch 84/100\n",
      "972/972 [==============================] - 18s 19ms/step - loss: 671.8790 - mean_absolute_error: 19.1087 - root_mean_squared_error: 25.9206 - mean_absolute_percentage_error: 13060734.0000 15s - loss: 679.9376 - mean_absolute_err - ETA: 12s - loss: 673.5147 - mean_absolute_error: 19.1761 - root_mean_squared_error: 25.9522 - mean_ - ETA: 10s - loss: 668.1544 - mean_absolute_error: 19.0879 - root_mean_squared_error: 25.848 - ETA: 8 - ETA: 0s - loss: 672.3253 - mean_absolute_error: 19.1128 - root_mean_squared_error: 25.9292 - mean_absolute_percentage_error: 129351\n",
      "Epoch 85/100\n",
      "972/972 [==============================] - 19s 19ms/step - loss: 672.4501 - mean_absolute_error: 19.1039 - root_mean_squared_error: 25.9316 - mean_absolute_percentage_error: 11963176.0000 10s - loss: 674.6379 - mean_absolute_error: 19. - ETA: 6s - loss: 670.3132 - \n",
      "Epoch 86/100\n",
      "972/972 [==============================] - 18s 19ms/step - loss: 671.4109 - mean_absolute_error: 19.1051 - root_mean_squared_error: 25.9116 - mean_absolute_percentage_error: 12232300.0000\n",
      "Epoch 87/100\n",
      "972/972 [==============================] - 19s 19ms/step - loss: 668.2203 - mean_absolute_error: 19.0567 - root_mean_squared_error: 25.8500 - mean_absolute_percentage_error: 11999377.0000 6s - loss: 658.5283 - mean_absolute_error: 18.9152 - root_mean_squared_e - ETA: 2s - loss: 663.0313 - mean_absolute_error: 18.9892 - root_mean_squared_error: 25.7494 - mean_\n",
      "Epoch 88/100\n",
      "972/972 [==============================] - 17s 18ms/step - loss: 666.4345 - mean_absolute_error: 19.0303 - root_mean_squared_error: 25.8154 - mean_absolute_percentage_error: 12113296.0000\n",
      "Epoch 89/100\n",
      "972/972 [==============================] - 18s 19ms/step - loss: 667.1221 - mean_absolute_error: 19.0415 - root_mean_squared_error: 25.8287 - mean_absolute_percentage_error: 12035295.0000 3s - loss: 667.5757 - mean_absolute_error: 19.0525 - root_mean_squared_error: 25.8375 - mean_absolute_percentage_error: 129 - ETA: 2s - loss: 666.4288 - mean_absolute_error: 19.0370 - root_mean_squared_error: 25.8153 - mean_\n",
      "Epoch 90/100\n",
      "972/972 [==============================] - 18s 19ms/step - loss: 662.2979 - mean_absolute_error: 18.9718 - root_mean_squared_error: 25.7352 - mean_absolute_percentage_error: 12557850.0000 16s - loss: 654.0861 - m - ETA: 12s - los - ETA: 7s - loss: 661.3326 - mean_absolute_error: 18.9773 - root_mean_squared_error: 25.7164 - mean_absolute_percentage_error: 12947518. - ETA: 6s - loss: 659.8943 - mean_absolute_error: 18.9582 - root_mean_squared_error: 25.6884 - mean_absolute_percentage_error: 126812 - ETA: 6s - loss: 660.1195 - mean_absolute_error: 18.9600 - root_mean_squared_error: 25.6928 - mean_absolute_percentage_ - ETA: 5s - loss: 662.4979 - mean_absolute_error: 18.9891\n",
      "Epoch 91/100\n",
      "972/972 [==============================] - 18s 19ms/step - loss: 664.9557 - mean_absolute_error: 19.0175 - root_mean_squared_error: 25.7867 - mean_absolute_percentage_error: 11592828.0000 3s - loss: 666.6398 - mean_absolute_error: 19.0359 - root_mean_squared_er\n",
      "Epoch 92/100\n",
      "972/972 [==============================] - 19s 19ms/step - loss: 662.2697 - mean_absolute_error: 18.9840 - root_mean_squared_error: 25.7346 - mean_absolute_percentage_error: 11633791.0000\n",
      "Epoch 93/100\n",
      "972/972 [==============================] - 19s 19ms/step - loss: 661.3999 - mean_absolute_error: 18.9645 - root_mean_squared_error: 25.7177 - mean_absolute_percentage_error: 11829989.0000\n",
      "Epoch 94/100\n",
      "972/972 [==============================] - 18s 18ms/step - loss: 659.9413 - mean_absolute_error: 18.9475 - root_mean_squared_error: 25.6893 - mean_absolute_percentage_error: 11931411.0000 loss: 665.5008 - mean_absolute_error: 18.9136 - root_mean_squared_error: 25.7973 - mean_absolute_per - ETA: 17s - loss: 651.7900 - mean_absolute_error: 18.7956 - root_mean_squared_error: 25.5302 - mean_absolute_percentage_erro - ETA: 15s - loss: 661.0757 - mean_absolute_error: 18.9731 - root_mean_squared_error: 25.7114 - mean_absolut - ETA: 13s - loss: 667.3048 - mean_absolute_error: 19.0565 - root_me - ETA: 11s - loss: 667.1567 - mean_absolute_error: 19.0157 -  - ETA: 7s - loss: 665.8438 - mean_absolute_error: 19.0233 - root_mean_squared_error: 25.8040 - mean_absolute_percentage_error:  - ETA: 6s - loss: 667.5266 - mean_absolute_error: 19.0434 - - ETA: 2s - loss: 659.7895 - mean_absolute_error: 18.9369 - root_mean_squared_error: 25.6864 - mean_abso\n",
      "Epoch 95/100\n",
      "972/972 [==============================] - 18s 19ms/step - loss: 660.2816 - mean_absolute_error: 18.9503 - root_mean_squared_error: 25.6959 - mean_absolute_percentage_error: 11610542.0000 14s - loss: 662.2159 - mean_absolute_error: 18.886 - ETA: 4s - loss: 662.2894 - mean_absolute_error: 18.9701 - root_mean_sq - ETA: 0s - loss: 660.4649 - mean_absolute_error: 18.9562 - root_mean_squared_error: 25.6995 - mean_absolute_percentage_error: 117615\n",
      "Epoch 96/100\n"
     ]
    },
    {
     "name": "stdout",
     "output_type": "stream",
     "text": [
      "972/972 [==============================] - 18s 19ms/step - loss: 657.2454 - mean_absolute_error: 18.9037 - root_mean_squared_error: 25.6368 - mean_absolute_percentage_error: 11707758.0000 16s - loss: 664.0757 - mean_absolute_error: 18.8322 - root_mean_squared_error: 25.7697 - mean_abs - ETA: 10s - loss: 660.4028 - mean_absolute_error: 18.9459 - root_mean_squared_error: 25.6983 - mean_absolute_pe - E - ETA: 0s - loss: 657.1262 - mean_absolute_error: 18.8992 - root_mean_squared_error: 25.6345 - mean_absolute_percentage_error: 1 - ETA: 0s - loss: 657.4495 - mean_absolute_error: 18.9063 - root_mean_squared_error: 25.6408 - mean_absolute_percentage_error: 11672513.000\n",
      "Epoch 97/100\n",
      "972/972 [==============================] - 18s 19ms/step - loss: 655.8201 - mean_absolute_error: 18.8804 - root_mean_squared_error: 25.6090 - mean_absolute_percentage_error: 11518820.0000\n",
      "Epoch 98/100\n",
      "972/972 [==============================] - 18s 19ms/step - loss: 657.0729 - mean_absolute_error: 18.8967 - root_mean_squared_error: 25.6334 - mean_absolute_percentage_error: 11170535.0000 16s - loss: 658.4293 - mean_absolute_error: 18.9570 - root_mean_squared_error: 25.6599 - mean_absolute_percentage_err - ETA: 15s - loss: 654.2322 - \n",
      "Epoch 99/100\n",
      "972/972 [==============================] - 18s 19ms/step - loss: 653.1014 - mean_absolute_error: 18.8414 - root_mean_squared_error: 25.5558 - mean_absolute_percentage_error: 11309380.0000\n",
      "Epoch 100/100\n",
      "972/972 [==============================] - 19s 19ms/step - loss: 653.8468 - mean_absolute_error: 18.8452 - root_mean_squared_error: 25.5704 - mean_absolute_percentage_error: 11944476.0000\n"
     ]
    },
    {
     "data": {
      "text/plain": [
       "<keras.callbacks.History at 0x177b53a72b0>"
      ]
     },
     "execution_count": 52,
     "metadata": {},
     "output_type": "execute_result"
    }
   ],
   "source": [
    "model60.fit((Wt60, Wt60x, Xt60), yt60, \n",
    "            epochs = 100, \n",
    "            verbose = 1\n",
    "            )"
   ]
  },
  {
   "cell_type": "code",
   "execution_count": 53,
   "metadata": {},
   "outputs": [
    {
     "name": "stdout",
     "output_type": "stream",
     "text": [
      "INFO:tensorflow:Assets written to: my_dir/6ai-Conv-LSTM-60\\assets\n"
     ]
    },
    {
     "name": "stderr",
     "output_type": "stream",
     "text": [
      "WARNING:absl:<keras.layers.recurrent.LSTMCell object at 0x00000177B530C100> has the same name 'LSTMCell' as a built-in Keras object. Consider renaming <class 'keras.layers.recurrent.LSTMCell'> to avoid naming conflicts when loading with `tf.keras.models.load_model`. If renaming is not possible, pass the object in the `custom_objects` parameter of the load function.\n",
      "WARNING:absl:<keras.layers.recurrent.LSTMCell object at 0x00000177B5344FA0> has the same name 'LSTMCell' as a built-in Keras object. Consider renaming <class 'keras.layers.recurrent.LSTMCell'> to avoid naming conflicts when loading with `tf.keras.models.load_model`. If renaming is not possible, pass the object in the `custom_objects` parameter of the load function.\n",
      "WARNING:absl:<keras.layers.recurrent.LSTMCell object at 0x00000177B2F30E80> has the same name 'LSTMCell' as a built-in Keras object. Consider renaming <class 'keras.layers.recurrent.LSTMCell'> to avoid naming conflicts when loading with `tf.keras.models.load_model`. If renaming is not possible, pass the object in the `custom_objects` parameter of the load function.\n",
      "WARNING:absl:<keras.layers.recurrent.LSTMCell object at 0x00000177EEFCED30> has the same name 'LSTMCell' as a built-in Keras object. Consider renaming <class 'keras.layers.recurrent.LSTMCell'> to avoid naming conflicts when loading with `tf.keras.models.load_model`. If renaming is not possible, pass the object in the `custom_objects` parameter of the load function.\n",
      "WARNING:absl:<keras.layers.recurrent.LSTMCell object at 0x0000017786B52730> has the same name 'LSTMCell' as a built-in Keras object. Consider renaming <class 'keras.layers.recurrent.LSTMCell'> to avoid naming conflicts when loading with `tf.keras.models.load_model`. If renaming is not possible, pass the object in the `custom_objects` parameter of the load function.\n",
      "WARNING:absl:<keras.layers.recurrent.LSTMCell object at 0x00000177B521D130> has the same name 'LSTMCell' as a built-in Keras object. Consider renaming <class 'keras.layers.recurrent.LSTMCell'> to avoid naming conflicts when loading with `tf.keras.models.load_model`. If renaming is not possible, pass the object in the `custom_objects` parameter of the load function.\n"
     ]
    }
   ],
   "source": [
    "model60.save(\"my_dir/6ai-Conv-LSTM-60\")"
   ]
  },
  {
   "cell_type": "code",
   "execution_count": 54,
   "metadata": {},
   "outputs": [],
   "source": [
    "metrics60 = pd.DataFrame(model60.history.history)"
   ]
  },
  {
   "cell_type": "code",
   "execution_count": 55,
   "metadata": {},
   "outputs": [
    {
     "data": {
      "text/plain": [
       "<AxesSubplot:>"
      ]
     },
     "execution_count": 55,
     "metadata": {},
     "output_type": "execute_result"
    },
    {
     "data": {
      "image/png": "[encoded data removed]",
      "text/plain": [
       "<Figure size 432x288 with 1 Axes>"
      ]
     },
     "metadata": {
      "needs_background": "light"
     },
     "output_type": "display_data"
    }
   ],
   "source": [
    "metrics60[['loss']].plot()"
   ]
  },
  {
   "cell_type": "code",
   "execution_count": 56,
   "metadata": {},
   "outputs": [],
   "source": [
    "model60 = keras.models.load_model(\"my_dir/6ai-Conv-LSTM-60\")"
   ]
  },
  {
   "cell_type": "code",
   "execution_count": 57,
   "metadata": {},
   "outputs": [
    {
     "data": {
      "text/plain": [
       "array([[ 50.706543,  50.429993,  57.326973, ...,  57.013264,  38.76113 ,\n",
       "         37.437603],\n",
       "       [ 49.4272  ,  50.007206,  56.883232, ...,  56.45013 ,  40.10421 ,\n",
       "         37.351295],\n",
       "       [ 45.49115 ,  46.29246 ,  51.934925, ...,  50.562443,  36.61736 ,\n",
       "         34.87856 ],\n",
       "       ...,\n",
       "       [137.31021 , 142.32536 , 152.76022 , ..., 149.8076  , 101.94714 ,\n",
       "         91.46246 ],\n",
       "       [133.27792 , 137.13042 , 149.68506 , ..., 146.3773  , 100.213554,\n",
       "         88.98649 ],\n",
       "       [127.16323 , 129.57072 , 144.35143 , ..., 138.19635 ,  93.68118 ,\n",
       "         81.59623 ]], dtype=float32)"
      ]
     },
     "execution_count": 57,
     "metadata": {},
     "output_type": "execute_result"
    }
   ],
   "source": [
    "model60.predict((Wv60, Wv60x, Xv60))"
   ]
  }
 ],
 "metadata": {
  "kernelspec": {
   "display_name": "Python 3 (ipykernel)",
   "language": "python",
   "name": "python3"
  },
  "language_info": {
   "codemirror_mode": {
    "name": "ipython",
    "version": 3
   },
   "file_extension": ".py",
   "mimetype": "text/x-python",
   "name": "python",
   "nbconvert_exporter": "python",
   "pygments_lexer": "ipython3",
   "version": "3.11.5"
  }
 },
 "nbformat": 4,
 "nbformat_minor": 4
}
