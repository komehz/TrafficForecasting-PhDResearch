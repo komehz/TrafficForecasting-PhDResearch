{
 "cells": [
  {
   "cell_type": "code",
   "execution_count": 1,
   "metadata": {},
   "outputs": [],
   "source": [
    "import pandas as pd\n",
    "import numpy as np\n",
    "import matplotlib.pyplot as plt\n",
    "import seaborn as sns"
   ]
  },
  {
   "cell_type": "code",
   "execution_count": 2,
   "metadata": {},
   "outputs": [],
   "source": [
    "# Read saved csv files\n",
    "TrainVal     = pd.read_csv('01TrainVal.csv')"
   ]
  },
  {
   "cell_type": "code",
   "execution_count": 3,
   "metadata": {},
   "outputs": [],
   "source": [
    "TrainVal['index'] = pd.to_datetime(TrainVal['index'])\n",
    "TrainVal.rename(columns = {'index':'Timestamp'}, inplace=True)"
   ]
  },
  {
   "cell_type": "code",
   "execution_count": 4,
   "metadata": {},
   "outputs": [
    {
     "data": {
      "text/plain": [
       "0       2019-03-01 00:00:00\n",
       "1       2019-03-01 00:05:00\n",
       "2       2019-03-01 00:10:00\n",
       "3       2019-03-01 00:15:00\n",
       "4       2019-03-01 00:20:00\n",
       "                ...        \n",
       "35131   2019-06-30 23:35:00\n",
       "35132   2019-06-30 23:40:00\n",
       "35133   2019-06-30 23:45:00\n",
       "35134   2019-06-30 23:50:00\n",
       "35135   2019-06-30 23:55:00\n",
       "Name: Timestamp, Length: 35136, dtype: datetime64[ns]"
      ]
     },
     "execution_count": 4,
     "metadata": {},
     "output_type": "execute_result"
    }
   ],
   "source": [
    "TrainVal['Timestamp']"
   ]
  },
  {
   "cell_type": "code",
   "execution_count": 5,
   "metadata": {},
   "outputs": [
    {
     "data": {
      "text/html": [
       "<div>\n",
       "<style scoped>\n",
       "    .dataframe tbody tr th:only-of-type {\n",
       "        vertical-align: middle;\n",
       "    }\n",
       "\n",
       "    .dataframe tbody tr th {\n",
       "        vertical-align: top;\n",
       "    }\n",
       "\n",
       "    .dataframe thead th {\n",
       "        text-align: right;\n",
       "    }\n",
       "</style>\n",
       "<table border=\"1\" class=\"dataframe\">\n",
       "  <thead>\n",
       "    <tr style=\"text-align: right;\">\n",
       "      <th></th>\n",
       "      <th>Timestamp</th>\n",
       "      <th>f1</th>\n",
       "      <th>f2</th>\n",
       "      <th>f3</th>\n",
       "      <th>f4</th>\n",
       "      <th>f5</th>\n",
       "      <th>f6</th>\n",
       "      <th>f7</th>\n",
       "    </tr>\n",
       "  </thead>\n",
       "  <tbody>\n",
       "    <tr>\n",
       "      <th>0</th>\n",
       "      <td>2019-03-01 00:00:00</td>\n",
       "      <td>104.0</td>\n",
       "      <td>98.0</td>\n",
       "      <td>132.0</td>\n",
       "      <td>125.0</td>\n",
       "      <td>128.0</td>\n",
       "      <td>38.0</td>\n",
       "      <td>45.0</td>\n",
       "    </tr>\n",
       "    <tr>\n",
       "      <th>1</th>\n",
       "      <td>2019-03-01 00:05:00</td>\n",
       "      <td>100.0</td>\n",
       "      <td>95.0</td>\n",
       "      <td>135.0</td>\n",
       "      <td>125.0</td>\n",
       "      <td>119.0</td>\n",
       "      <td>72.0</td>\n",
       "      <td>77.0</td>\n",
       "    </tr>\n",
       "    <tr>\n",
       "      <th>2</th>\n",
       "      <td>2019-03-01 00:10:00</td>\n",
       "      <td>110.0</td>\n",
       "      <td>124.0</td>\n",
       "      <td>132.0</td>\n",
       "      <td>112.0</td>\n",
       "      <td>118.0</td>\n",
       "      <td>73.0</td>\n",
       "      <td>73.0</td>\n",
       "    </tr>\n",
       "    <tr>\n",
       "      <th>3</th>\n",
       "      <td>2019-03-01 00:15:00</td>\n",
       "      <td>110.0</td>\n",
       "      <td>102.0</td>\n",
       "      <td>103.0</td>\n",
       "      <td>100.0</td>\n",
       "      <td>106.0</td>\n",
       "      <td>88.0</td>\n",
       "      <td>90.0</td>\n",
       "    </tr>\n",
       "    <tr>\n",
       "      <th>4</th>\n",
       "      <td>2019-03-01 00:20:00</td>\n",
       "      <td>101.0</td>\n",
       "      <td>98.0</td>\n",
       "      <td>117.0</td>\n",
       "      <td>114.0</td>\n",
       "      <td>109.0</td>\n",
       "      <td>66.0</td>\n",
       "      <td>62.0</td>\n",
       "    </tr>\n",
       "    <tr>\n",
       "      <th>...</th>\n",
       "      <td>...</td>\n",
       "      <td>...</td>\n",
       "      <td>...</td>\n",
       "      <td>...</td>\n",
       "      <td>...</td>\n",
       "      <td>...</td>\n",
       "      <td>...</td>\n",
       "      <td>...</td>\n",
       "    </tr>\n",
       "    <tr>\n",
       "      <th>35131</th>\n",
       "      <td>2019-06-30 23:35:00</td>\n",
       "      <td>141.0</td>\n",
       "      <td>143.0</td>\n",
       "      <td>150.0</td>\n",
       "      <td>142.0</td>\n",
       "      <td>153.0</td>\n",
       "      <td>110.0</td>\n",
       "      <td>84.0</td>\n",
       "    </tr>\n",
       "    <tr>\n",
       "      <th>35132</th>\n",
       "      <td>2019-06-30 23:40:00</td>\n",
       "      <td>132.0</td>\n",
       "      <td>128.0</td>\n",
       "      <td>139.0</td>\n",
       "      <td>116.0</td>\n",
       "      <td>114.0</td>\n",
       "      <td>98.0</td>\n",
       "      <td>89.0</td>\n",
       "    </tr>\n",
       "    <tr>\n",
       "      <th>35133</th>\n",
       "      <td>2019-06-30 23:45:00</td>\n",
       "      <td>106.0</td>\n",
       "      <td>111.0</td>\n",
       "      <td>123.0</td>\n",
       "      <td>127.0</td>\n",
       "      <td>146.0</td>\n",
       "      <td>94.0</td>\n",
       "      <td>85.0</td>\n",
       "    </tr>\n",
       "    <tr>\n",
       "      <th>35134</th>\n",
       "      <td>2019-06-30 23:50:00</td>\n",
       "      <td>137.0</td>\n",
       "      <td>140.0</td>\n",
       "      <td>141.0</td>\n",
       "      <td>103.0</td>\n",
       "      <td>124.0</td>\n",
       "      <td>109.0</td>\n",
       "      <td>95.0</td>\n",
       "    </tr>\n",
       "    <tr>\n",
       "      <th>35135</th>\n",
       "      <td>2019-06-30 23:55:00</td>\n",
       "      <td>125.0</td>\n",
       "      <td>114.0</td>\n",
       "      <td>136.0</td>\n",
       "      <td>128.0</td>\n",
       "      <td>130.0</td>\n",
       "      <td>100.0</td>\n",
       "      <td>98.0</td>\n",
       "    </tr>\n",
       "  </tbody>\n",
       "</table>\n",
       "<p>35136 rows × 8 columns</p>\n",
       "</div>"
      ],
      "text/plain": [
       "                Timestamp     f1     f2     f3     f4     f5     f6    f7\n",
       "0     2019-03-01 00:00:00  104.0   98.0  132.0  125.0  128.0   38.0  45.0\n",
       "1     2019-03-01 00:05:00  100.0   95.0  135.0  125.0  119.0   72.0  77.0\n",
       "2     2019-03-01 00:10:00  110.0  124.0  132.0  112.0  118.0   73.0  73.0\n",
       "3     2019-03-01 00:15:00  110.0  102.0  103.0  100.0  106.0   88.0  90.0\n",
       "4     2019-03-01 00:20:00  101.0   98.0  117.0  114.0  109.0   66.0  62.0\n",
       "...                   ...    ...    ...    ...    ...    ...    ...   ...\n",
       "35131 2019-06-30 23:35:00  141.0  143.0  150.0  142.0  153.0  110.0  84.0\n",
       "35132 2019-06-30 23:40:00  132.0  128.0  139.0  116.0  114.0   98.0  89.0\n",
       "35133 2019-06-30 23:45:00  106.0  111.0  123.0  127.0  146.0   94.0  85.0\n",
       "35134 2019-06-30 23:50:00  137.0  140.0  141.0  103.0  124.0  109.0  95.0\n",
       "35135 2019-06-30 23:55:00  125.0  114.0  136.0  128.0  130.0  100.0  98.0\n",
       "\n",
       "[35136 rows x 8 columns]"
      ]
     },
     "execution_count": 5,
     "metadata": {},
     "output_type": "execute_result"
    }
   ],
   "source": [
    "TrainVal"
   ]
  },
  {
   "cell_type": "markdown",
   "metadata": {},
   "source": [
    "# Split to Training and Test Data"
   ]
  },
  {
   "cell_type": "code",
   "execution_count": 6,
   "metadata": {},
   "outputs": [
    {
     "data": {
      "text/plain": [
       "35136"
      ]
     },
     "execution_count": 6,
     "metadata": {},
     "output_type": "execute_result"
    }
   ],
   "source": [
    "len(TrainVal)"
   ]
  },
  {
   "cell_type": "code",
   "execution_count": 7,
   "metadata": {},
   "outputs": [],
   "source": [
    "test_percent = 0.11475     # 11.475 % used as test data (final 2 weeks)\n",
    "len(TrainVal)*test_percent\n",
    "test_point = np.round(len(TrainVal)*test_percent)\n",
    "test_ind = int(len(TrainVal) - test_point)"
   ]
  },
  {
   "cell_type": "code",
   "execution_count": 8,
   "metadata": {},
   "outputs": [
    {
     "data": {
      "text/plain": [
       "31104"
      ]
     },
     "execution_count": 8,
     "metadata": {},
     "output_type": "execute_result"
    }
   ],
   "source": [
    "test_ind"
   ]
  },
  {
   "cell_type": "code",
   "execution_count": 9,
   "metadata": {},
   "outputs": [],
   "source": [
    "train = TrainVal.iloc[:test_ind].drop('Timestamp', axis=1)      # From 1st element to 31575\n",
    "test = TrainVal.iloc[test_ind:].drop('Timestamp', axis=1)       # From 31575 to end"
   ]
  },
  {
   "cell_type": "code",
   "execution_count": 10,
   "metadata": {},
   "outputs": [
    {
     "data": {
      "text/html": [
       "<div>\n",
       "<style scoped>\n",
       "    .dataframe tbody tr th:only-of-type {\n",
       "        vertical-align: middle;\n",
       "    }\n",
       "\n",
       "    .dataframe tbody tr th {\n",
       "        vertical-align: top;\n",
       "    }\n",
       "\n",
       "    .dataframe thead th {\n",
       "        text-align: right;\n",
       "    }\n",
       "</style>\n",
       "<table border=\"1\" class=\"dataframe\">\n",
       "  <thead>\n",
       "    <tr style=\"text-align: right;\">\n",
       "      <th></th>\n",
       "      <th>f1</th>\n",
       "      <th>f2</th>\n",
       "      <th>f3</th>\n",
       "      <th>f4</th>\n",
       "      <th>f5</th>\n",
       "      <th>f6</th>\n",
       "      <th>f7</th>\n",
       "    </tr>\n",
       "  </thead>\n",
       "  <tbody>\n",
       "    <tr>\n",
       "      <th>31104</th>\n",
       "      <td>144.0</td>\n",
       "      <td>155.0</td>\n",
       "      <td>130.0</td>\n",
       "      <td>122.0</td>\n",
       "      <td>136.0</td>\n",
       "      <td>84.0</td>\n",
       "      <td>75.0</td>\n",
       "    </tr>\n",
       "    <tr>\n",
       "      <th>31105</th>\n",
       "      <td>130.0</td>\n",
       "      <td>132.0</td>\n",
       "      <td>157.0</td>\n",
       "      <td>109.0</td>\n",
       "      <td>133.0</td>\n",
       "      <td>95.0</td>\n",
       "      <td>80.0</td>\n",
       "    </tr>\n",
       "    <tr>\n",
       "      <th>31106</th>\n",
       "      <td>109.0</td>\n",
       "      <td>121.0</td>\n",
       "      <td>133.0</td>\n",
       "      <td>114.0</td>\n",
       "      <td>135.0</td>\n",
       "      <td>109.0</td>\n",
       "      <td>104.0</td>\n",
       "    </tr>\n",
       "    <tr>\n",
       "      <th>31107</th>\n",
       "      <td>123.0</td>\n",
       "      <td>133.0</td>\n",
       "      <td>123.0</td>\n",
       "      <td>104.0</td>\n",
       "      <td>120.0</td>\n",
       "      <td>100.0</td>\n",
       "      <td>96.0</td>\n",
       "    </tr>\n",
       "    <tr>\n",
       "      <th>31108</th>\n",
       "      <td>121.0</td>\n",
       "      <td>130.0</td>\n",
       "      <td>135.0</td>\n",
       "      <td>119.0</td>\n",
       "      <td>129.0</td>\n",
       "      <td>73.0</td>\n",
       "      <td>65.0</td>\n",
       "    </tr>\n",
       "  </tbody>\n",
       "</table>\n",
       "</div>"
      ],
      "text/plain": [
       "          f1     f2     f3     f4     f5     f6     f7\n",
       "31104  144.0  155.0  130.0  122.0  136.0   84.0   75.0\n",
       "31105  130.0  132.0  157.0  109.0  133.0   95.0   80.0\n",
       "31106  109.0  121.0  133.0  114.0  135.0  109.0  104.0\n",
       "31107  123.0  133.0  123.0  104.0  120.0  100.0   96.0\n",
       "31108  121.0  130.0  135.0  119.0  129.0   73.0   65.0"
      ]
     },
     "execution_count": 10,
     "metadata": {},
     "output_type": "execute_result"
    }
   ],
   "source": [
    "test.head()"
   ]
  },
  {
   "cell_type": "code",
   "execution_count": 11,
   "metadata": {},
   "outputs": [],
   "source": [
    "test_percen = 0.12962     # 11.475 % used as test data (final 2 weeks)\n",
    "len(train)*test_percen\n",
    "test_p = np.round(len(train)*test_percen)\n",
    "test_ind = int(len(train) - test_p)"
   ]
  },
  {
   "cell_type": "code",
   "execution_count": 12,
   "metadata": {},
   "outputs": [
    {
     "data": {
      "text/plain": [
       "27072"
      ]
     },
     "execution_count": 12,
     "metadata": {},
     "output_type": "execute_result"
    }
   ],
   "source": [
    "test_ind"
   ]
  },
  {
   "cell_type": "code",
   "execution_count": 13,
   "metadata": {},
   "outputs": [],
   "source": [
    "t = train.iloc[:test_ind]      # From 1st element to 31575"
   ]
  },
  {
   "cell_type": "code",
   "execution_count": 14,
   "metadata": {},
   "outputs": [
    {
     "data": {
      "text/html": [
       "<div>\n",
       "<style scoped>\n",
       "    .dataframe tbody tr th:only-of-type {\n",
       "        vertical-align: middle;\n",
       "    }\n",
       "\n",
       "    .dataframe tbody tr th {\n",
       "        vertical-align: top;\n",
       "    }\n",
       "\n",
       "    .dataframe thead th {\n",
       "        text-align: right;\n",
       "    }\n",
       "</style>\n",
       "<table border=\"1\" class=\"dataframe\">\n",
       "  <thead>\n",
       "    <tr style=\"text-align: right;\">\n",
       "      <th></th>\n",
       "      <th>f1</th>\n",
       "      <th>f2</th>\n",
       "      <th>f3</th>\n",
       "      <th>f4</th>\n",
       "      <th>f5</th>\n",
       "      <th>f6</th>\n",
       "      <th>f7</th>\n",
       "    </tr>\n",
       "  </thead>\n",
       "  <tbody>\n",
       "    <tr>\n",
       "      <th>0</th>\n",
       "      <td>104.0</td>\n",
       "      <td>98.0</td>\n",
       "      <td>132.0</td>\n",
       "      <td>125.0</td>\n",
       "      <td>128.0</td>\n",
       "      <td>38.0</td>\n",
       "      <td>45.0</td>\n",
       "    </tr>\n",
       "    <tr>\n",
       "      <th>1</th>\n",
       "      <td>100.0</td>\n",
       "      <td>95.0</td>\n",
       "      <td>135.0</td>\n",
       "      <td>125.0</td>\n",
       "      <td>119.0</td>\n",
       "      <td>72.0</td>\n",
       "      <td>77.0</td>\n",
       "    </tr>\n",
       "    <tr>\n",
       "      <th>2</th>\n",
       "      <td>110.0</td>\n",
       "      <td>124.0</td>\n",
       "      <td>132.0</td>\n",
       "      <td>112.0</td>\n",
       "      <td>118.0</td>\n",
       "      <td>73.0</td>\n",
       "      <td>73.0</td>\n",
       "    </tr>\n",
       "    <tr>\n",
       "      <th>3</th>\n",
       "      <td>110.0</td>\n",
       "      <td>102.0</td>\n",
       "      <td>103.0</td>\n",
       "      <td>100.0</td>\n",
       "      <td>106.0</td>\n",
       "      <td>88.0</td>\n",
       "      <td>90.0</td>\n",
       "    </tr>\n",
       "    <tr>\n",
       "      <th>4</th>\n",
       "      <td>101.0</td>\n",
       "      <td>98.0</td>\n",
       "      <td>117.0</td>\n",
       "      <td>114.0</td>\n",
       "      <td>109.0</td>\n",
       "      <td>66.0</td>\n",
       "      <td>62.0</td>\n",
       "    </tr>\n",
       "    <tr>\n",
       "      <th>...</th>\n",
       "      <td>...</td>\n",
       "      <td>...</td>\n",
       "      <td>...</td>\n",
       "      <td>...</td>\n",
       "      <td>...</td>\n",
       "      <td>...</td>\n",
       "      <td>...</td>\n",
       "    </tr>\n",
       "    <tr>\n",
       "      <th>27067</th>\n",
       "      <td>115.0</td>\n",
       "      <td>110.0</td>\n",
       "      <td>127.0</td>\n",
       "      <td>115.0</td>\n",
       "      <td>116.0</td>\n",
       "      <td>61.0</td>\n",
       "      <td>69.0</td>\n",
       "    </tr>\n",
       "    <tr>\n",
       "      <th>27068</th>\n",
       "      <td>98.0</td>\n",
       "      <td>121.0</td>\n",
       "      <td>123.0</td>\n",
       "      <td>126.0</td>\n",
       "      <td>142.0</td>\n",
       "      <td>87.0</td>\n",
       "      <td>82.0</td>\n",
       "    </tr>\n",
       "    <tr>\n",
       "      <th>27069</th>\n",
       "      <td>115.0</td>\n",
       "      <td>112.0</td>\n",
       "      <td>125.0</td>\n",
       "      <td>128.0</td>\n",
       "      <td>131.0</td>\n",
       "      <td>75.0</td>\n",
       "      <td>80.0</td>\n",
       "    </tr>\n",
       "    <tr>\n",
       "      <th>27070</th>\n",
       "      <td>113.0</td>\n",
       "      <td>113.0</td>\n",
       "      <td>123.0</td>\n",
       "      <td>103.0</td>\n",
       "      <td>107.0</td>\n",
       "      <td>71.0</td>\n",
       "      <td>75.0</td>\n",
       "    </tr>\n",
       "    <tr>\n",
       "      <th>27071</th>\n",
       "      <td>104.0</td>\n",
       "      <td>109.0</td>\n",
       "      <td>104.0</td>\n",
       "      <td>83.0</td>\n",
       "      <td>86.0</td>\n",
       "      <td>68.0</td>\n",
       "      <td>68.0</td>\n",
       "    </tr>\n",
       "  </tbody>\n",
       "</table>\n",
       "<p>27072 rows × 7 columns</p>\n",
       "</div>"
      ],
      "text/plain": [
       "          f1     f2     f3     f4     f5    f6    f7\n",
       "0      104.0   98.0  132.0  125.0  128.0  38.0  45.0\n",
       "1      100.0   95.0  135.0  125.0  119.0  72.0  77.0\n",
       "2      110.0  124.0  132.0  112.0  118.0  73.0  73.0\n",
       "3      110.0  102.0  103.0  100.0  106.0  88.0  90.0\n",
       "4      101.0   98.0  117.0  114.0  109.0  66.0  62.0\n",
       "...      ...    ...    ...    ...    ...   ...   ...\n",
       "27067  115.0  110.0  127.0  115.0  116.0  61.0  69.0\n",
       "27068   98.0  121.0  123.0  126.0  142.0  87.0  82.0\n",
       "27069  115.0  112.0  125.0  128.0  131.0  75.0  80.0\n",
       "27070  113.0  113.0  123.0  103.0  107.0  71.0  75.0\n",
       "27071  104.0  109.0  104.0   83.0   86.0  68.0  68.0\n",
       "\n",
       "[27072 rows x 7 columns]"
      ]
     },
     "execution_count": 14,
     "metadata": {},
     "output_type": "execute_result"
    }
   ],
   "source": [
    "t"
   ]
  },
  {
   "cell_type": "code",
   "execution_count": 15,
   "metadata": {},
   "outputs": [
    {
     "data": {
      "text/plain": [
       "Timestamp    2019-06-02 23:55:00\n",
       "f1                         104.0\n",
       "f2                         109.0\n",
       "f3                         104.0\n",
       "f4                          83.0\n",
       "f5                          86.0\n",
       "f6                          68.0\n",
       "f7                          68.0\n",
       "Name: 27071, dtype: object"
      ]
     },
     "execution_count": 15,
     "metadata": {},
     "output_type": "execute_result"
    }
   ],
   "source": [
    "TrainVal.iloc[27071]"
   ]
  },
  {
   "cell_type": "markdown",
   "metadata": {},
   "source": [
    "# Feature Scaling"
   ]
  },
  {
   "cell_type": "code",
   "execution_count": 16,
   "metadata": {},
   "outputs": [],
   "source": [
    "# The scaler - for min-max scaling\n",
    "from sklearn.preprocessing import MinMaxScaler"
   ]
  },
  {
   "cell_type": "markdown",
   "metadata": {},
   "source": [
    "The MinMaxScaler from scikit-learn subtracts the minimum value and re-scales the the value range, rendering the variable values between 0 and 1. "
   ]
  },
  {
   "cell_type": "code",
   "execution_count": 17,
   "metadata": {},
   "outputs": [],
   "source": [
    "# set up the scaler\n",
    "scaler = MinMaxScaler()\n",
    "\n",
    "# fit the scaler to the train set, it will learn the parameters\n",
    "scaler.fit(train)\n",
    "\n",
    "# transform train and test sets\n",
    "train_scaled = scaler.transform(train)\n",
    "test_scaled = scaler.transform(test)"
   ]
  },
  {
   "cell_type": "code",
   "execution_count": 18,
   "metadata": {},
   "outputs": [
    {
     "data": {
      "text/plain": [
       "array([463., 512., 540., 470., 600., 534., 466.])"
      ]
     },
     "execution_count": 18,
     "metadata": {},
     "output_type": "execute_result"
    }
   ],
   "source": [
    "# the scaler stores the maximum values of the features, learned from train set\n",
    "scaler.data_max_"
   ]
  },
  {
   "cell_type": "code",
   "execution_count": 19,
   "metadata": {},
   "outputs": [
    {
     "data": {
      "text/plain": [
       "array([14., 18., 10.,  0., 17.,  6.,  6.])"
      ]
     },
     "execution_count": 19,
     "metadata": {},
     "output_type": "execute_result"
    }
   ],
   "source": [
    "# the scaler stores the minimum values of the features, learned from train set\n",
    "scaler.data_min_"
   ]
  },
  {
   "cell_type": "code",
   "execution_count": 20,
   "metadata": {},
   "outputs": [],
   "source": [
    "l = ['f1','f2','f3','f4','f5','f6','f7']"
   ]
  },
  {
   "cell_type": "code",
   "execution_count": 21,
   "metadata": {},
   "outputs": [],
   "source": [
    "train_scaled = pd.DataFrame(train_scaled, columns=l)\n",
    "test_scaled = pd.DataFrame(test_scaled, columns=l)"
   ]
  },
  {
   "cell_type": "code",
   "execution_count": 22,
   "metadata": {},
   "outputs": [],
   "source": [
    "train_scaled['Timestamp'] = TrainVal['Timestamp'].iloc[:test_ind]\n",
    "test_scaled['Timestamp'] = TrainVal.iloc[test_ind:].reset_index()['Timestamp']"
   ]
  },
  {
   "cell_type": "code",
   "execution_count": 23,
   "metadata": {},
   "outputs": [
    {
     "data": {
      "text/html": [
       "<div>\n",
       "<style scoped>\n",
       "    .dataframe tbody tr th:only-of-type {\n",
       "        vertical-align: middle;\n",
       "    }\n",
       "\n",
       "    .dataframe tbody tr th {\n",
       "        vertical-align: top;\n",
       "    }\n",
       "\n",
       "    .dataframe thead th {\n",
       "        text-align: right;\n",
       "    }\n",
       "</style>\n",
       "<table border=\"1\" class=\"dataframe\">\n",
       "  <thead>\n",
       "    <tr style=\"text-align: right;\">\n",
       "      <th></th>\n",
       "      <th>f1</th>\n",
       "      <th>f2</th>\n",
       "      <th>f3</th>\n",
       "      <th>f4</th>\n",
       "      <th>f5</th>\n",
       "      <th>f6</th>\n",
       "      <th>f7</th>\n",
       "      <th>Timestamp</th>\n",
       "    </tr>\n",
       "  </thead>\n",
       "  <tbody>\n",
       "    <tr>\n",
       "      <th>0</th>\n",
       "      <td>0.200445</td>\n",
       "      <td>0.161943</td>\n",
       "      <td>0.230189</td>\n",
       "      <td>0.265957</td>\n",
       "      <td>0.190395</td>\n",
       "      <td>0.060606</td>\n",
       "      <td>0.084783</td>\n",
       "      <td>2019-03-01 00:00:00</td>\n",
       "    </tr>\n",
       "    <tr>\n",
       "      <th>1</th>\n",
       "      <td>0.191537</td>\n",
       "      <td>0.155870</td>\n",
       "      <td>0.235849</td>\n",
       "      <td>0.265957</td>\n",
       "      <td>0.174957</td>\n",
       "      <td>0.125000</td>\n",
       "      <td>0.154348</td>\n",
       "      <td>2019-03-01 00:05:00</td>\n",
       "    </tr>\n",
       "    <tr>\n",
       "      <th>2</th>\n",
       "      <td>0.213808</td>\n",
       "      <td>0.214575</td>\n",
       "      <td>0.230189</td>\n",
       "      <td>0.238298</td>\n",
       "      <td>0.173242</td>\n",
       "      <td>0.126894</td>\n",
       "      <td>0.145652</td>\n",
       "      <td>2019-03-01 00:10:00</td>\n",
       "    </tr>\n",
       "    <tr>\n",
       "      <th>3</th>\n",
       "      <td>0.213808</td>\n",
       "      <td>0.170040</td>\n",
       "      <td>0.175472</td>\n",
       "      <td>0.212766</td>\n",
       "      <td>0.152659</td>\n",
       "      <td>0.155303</td>\n",
       "      <td>0.182609</td>\n",
       "      <td>2019-03-01 00:15:00</td>\n",
       "    </tr>\n",
       "    <tr>\n",
       "      <th>4</th>\n",
       "      <td>0.193764</td>\n",
       "      <td>0.161943</td>\n",
       "      <td>0.201887</td>\n",
       "      <td>0.242553</td>\n",
       "      <td>0.157804</td>\n",
       "      <td>0.113636</td>\n",
       "      <td>0.121739</td>\n",
       "      <td>2019-03-01 00:20:00</td>\n",
       "    </tr>\n",
       "    <tr>\n",
       "      <th>...</th>\n",
       "      <td>...</td>\n",
       "      <td>...</td>\n",
       "      <td>...</td>\n",
       "      <td>...</td>\n",
       "      <td>...</td>\n",
       "      <td>...</td>\n",
       "      <td>...</td>\n",
       "      <td>...</td>\n",
       "    </tr>\n",
       "    <tr>\n",
       "      <th>31099</th>\n",
       "      <td>0.298441</td>\n",
       "      <td>0.253036</td>\n",
       "      <td>0.288679</td>\n",
       "      <td>0.291489</td>\n",
       "      <td>0.255575</td>\n",
       "      <td>0.204545</td>\n",
       "      <td>0.184783</td>\n",
       "      <td>NaT</td>\n",
       "    </tr>\n",
       "    <tr>\n",
       "      <th>31100</th>\n",
       "      <td>0.407572</td>\n",
       "      <td>0.382591</td>\n",
       "      <td>0.358491</td>\n",
       "      <td>0.312766</td>\n",
       "      <td>0.286449</td>\n",
       "      <td>0.195076</td>\n",
       "      <td>0.191304</td>\n",
       "      <td>NaT</td>\n",
       "    </tr>\n",
       "    <tr>\n",
       "      <th>31101</th>\n",
       "      <td>0.276169</td>\n",
       "      <td>0.285425</td>\n",
       "      <td>0.309434</td>\n",
       "      <td>0.293617</td>\n",
       "      <td>0.257290</td>\n",
       "      <td>0.231061</td>\n",
       "      <td>0.247826</td>\n",
       "      <td>NaT</td>\n",
       "    </tr>\n",
       "    <tr>\n",
       "      <th>31102</th>\n",
       "      <td>0.271715</td>\n",
       "      <td>0.246964</td>\n",
       "      <td>0.335849</td>\n",
       "      <td>0.270213</td>\n",
       "      <td>0.217839</td>\n",
       "      <td>0.159091</td>\n",
       "      <td>0.173913</td>\n",
       "      <td>NaT</td>\n",
       "    </tr>\n",
       "    <tr>\n",
       "      <th>31103</th>\n",
       "      <td>0.229399</td>\n",
       "      <td>0.212551</td>\n",
       "      <td>0.245283</td>\n",
       "      <td>0.265957</td>\n",
       "      <td>0.222985</td>\n",
       "      <td>0.176136</td>\n",
       "      <td>0.189130</td>\n",
       "      <td>NaT</td>\n",
       "    </tr>\n",
       "  </tbody>\n",
       "</table>\n",
       "<p>31104 rows × 8 columns</p>\n",
       "</div>"
      ],
      "text/plain": [
       "             f1        f2        f3        f4        f5        f6        f7  \\\n",
       "0      0.200445  0.161943  0.230189  0.265957  0.190395  0.060606  0.084783   \n",
       "1      0.191537  0.155870  0.235849  0.265957  0.174957  0.125000  0.154348   \n",
       "2      0.213808  0.214575  0.230189  0.238298  0.173242  0.126894  0.145652   \n",
       "3      0.213808  0.170040  0.175472  0.212766  0.152659  0.155303  0.182609   \n",
       "4      0.193764  0.161943  0.201887  0.242553  0.157804  0.113636  0.121739   \n",
       "...         ...       ...       ...       ...       ...       ...       ...   \n",
       "31099  0.298441  0.253036  0.288679  0.291489  0.255575  0.204545  0.184783   \n",
       "31100  0.407572  0.382591  0.358491  0.312766  0.286449  0.195076  0.191304   \n",
       "31101  0.276169  0.285425  0.309434  0.293617  0.257290  0.231061  0.247826   \n",
       "31102  0.271715  0.246964  0.335849  0.270213  0.217839  0.159091  0.173913   \n",
       "31103  0.229399  0.212551  0.245283  0.265957  0.222985  0.176136  0.189130   \n",
       "\n",
       "                Timestamp  \n",
       "0     2019-03-01 00:00:00  \n",
       "1     2019-03-01 00:05:00  \n",
       "2     2019-03-01 00:10:00  \n",
       "3     2019-03-01 00:15:00  \n",
       "4     2019-03-01 00:20:00  \n",
       "...                   ...  \n",
       "31099                 NaT  \n",
       "31100                 NaT  \n",
       "31101                 NaT  \n",
       "31102                 NaT  \n",
       "31103                 NaT  \n",
       "\n",
       "[31104 rows x 8 columns]"
      ]
     },
     "execution_count": 23,
     "metadata": {},
     "output_type": "execute_result"
    }
   ],
   "source": [
    "train_scaled"
   ]
  },
  {
   "cell_type": "code",
   "execution_count": 24,
   "metadata": {},
   "outputs": [
    {
     "data": {
      "text/html": [
       "<div>\n",
       "<style scoped>\n",
       "    .dataframe tbody tr th:only-of-type {\n",
       "        vertical-align: middle;\n",
       "    }\n",
       "\n",
       "    .dataframe tbody tr th {\n",
       "        vertical-align: top;\n",
       "    }\n",
       "\n",
       "    .dataframe thead th {\n",
       "        text-align: right;\n",
       "    }\n",
       "</style>\n",
       "<table border=\"1\" class=\"dataframe\">\n",
       "  <thead>\n",
       "    <tr style=\"text-align: right;\">\n",
       "      <th></th>\n",
       "      <th>f1</th>\n",
       "      <th>f2</th>\n",
       "      <th>f3</th>\n",
       "      <th>f4</th>\n",
       "      <th>f5</th>\n",
       "      <th>f6</th>\n",
       "      <th>f7</th>\n",
       "      <th>Timestamp</th>\n",
       "    </tr>\n",
       "  </thead>\n",
       "  <tbody>\n",
       "    <tr>\n",
       "      <th>0</th>\n",
       "      <td>0.289532</td>\n",
       "      <td>0.277328</td>\n",
       "      <td>0.226415</td>\n",
       "      <td>0.259574</td>\n",
       "      <td>0.204117</td>\n",
       "      <td>0.147727</td>\n",
       "      <td>0.150000</td>\n",
       "      <td>2019-06-03 00:00:00</td>\n",
       "    </tr>\n",
       "    <tr>\n",
       "      <th>1</th>\n",
       "      <td>0.258352</td>\n",
       "      <td>0.230769</td>\n",
       "      <td>0.277358</td>\n",
       "      <td>0.231915</td>\n",
       "      <td>0.198971</td>\n",
       "      <td>0.168561</td>\n",
       "      <td>0.160870</td>\n",
       "      <td>2019-06-03 00:05:00</td>\n",
       "    </tr>\n",
       "    <tr>\n",
       "      <th>2</th>\n",
       "      <td>0.211581</td>\n",
       "      <td>0.208502</td>\n",
       "      <td>0.232075</td>\n",
       "      <td>0.242553</td>\n",
       "      <td>0.202401</td>\n",
       "      <td>0.195076</td>\n",
       "      <td>0.213043</td>\n",
       "      <td>2019-06-03 00:10:00</td>\n",
       "    </tr>\n",
       "    <tr>\n",
       "      <th>3</th>\n",
       "      <td>0.242762</td>\n",
       "      <td>0.232794</td>\n",
       "      <td>0.213208</td>\n",
       "      <td>0.221277</td>\n",
       "      <td>0.176672</td>\n",
       "      <td>0.178030</td>\n",
       "      <td>0.195652</td>\n",
       "      <td>2019-06-03 00:15:00</td>\n",
       "    </tr>\n",
       "    <tr>\n",
       "      <th>4</th>\n",
       "      <td>0.238307</td>\n",
       "      <td>0.226721</td>\n",
       "      <td>0.235849</td>\n",
       "      <td>0.253191</td>\n",
       "      <td>0.192110</td>\n",
       "      <td>0.126894</td>\n",
       "      <td>0.128261</td>\n",
       "      <td>2019-06-03 00:20:00</td>\n",
       "    </tr>\n",
       "    <tr>\n",
       "      <th>...</th>\n",
       "      <td>...</td>\n",
       "      <td>...</td>\n",
       "      <td>...</td>\n",
       "      <td>...</td>\n",
       "      <td>...</td>\n",
       "      <td>...</td>\n",
       "      <td>...</td>\n",
       "      <td>...</td>\n",
       "    </tr>\n",
       "    <tr>\n",
       "      <th>4027</th>\n",
       "      <td>0.282851</td>\n",
       "      <td>0.253036</td>\n",
       "      <td>0.264151</td>\n",
       "      <td>0.302128</td>\n",
       "      <td>0.233276</td>\n",
       "      <td>0.196970</td>\n",
       "      <td>0.169565</td>\n",
       "      <td>2019-06-16 23:35:00</td>\n",
       "    </tr>\n",
       "    <tr>\n",
       "      <th>4028</th>\n",
       "      <td>0.262806</td>\n",
       "      <td>0.222672</td>\n",
       "      <td>0.243396</td>\n",
       "      <td>0.246809</td>\n",
       "      <td>0.166381</td>\n",
       "      <td>0.174242</td>\n",
       "      <td>0.180435</td>\n",
       "      <td>2019-06-16 23:40:00</td>\n",
       "    </tr>\n",
       "    <tr>\n",
       "      <th>4029</th>\n",
       "      <td>0.204900</td>\n",
       "      <td>0.188259</td>\n",
       "      <td>0.213208</td>\n",
       "      <td>0.270213</td>\n",
       "      <td>0.221269</td>\n",
       "      <td>0.166667</td>\n",
       "      <td>0.171739</td>\n",
       "      <td>2019-06-16 23:45:00</td>\n",
       "    </tr>\n",
       "    <tr>\n",
       "      <th>4030</th>\n",
       "      <td>0.273942</td>\n",
       "      <td>0.246964</td>\n",
       "      <td>0.247170</td>\n",
       "      <td>0.219149</td>\n",
       "      <td>0.183533</td>\n",
       "      <td>0.195076</td>\n",
       "      <td>0.193478</td>\n",
       "      <td>2019-06-16 23:50:00</td>\n",
       "    </tr>\n",
       "    <tr>\n",
       "      <th>4031</th>\n",
       "      <td>0.247216</td>\n",
       "      <td>0.194332</td>\n",
       "      <td>0.237736</td>\n",
       "      <td>0.272340</td>\n",
       "      <td>0.193825</td>\n",
       "      <td>0.178030</td>\n",
       "      <td>0.200000</td>\n",
       "      <td>2019-06-16 23:55:00</td>\n",
       "    </tr>\n",
       "  </tbody>\n",
       "</table>\n",
       "<p>4032 rows × 8 columns</p>\n",
       "</div>"
      ],
      "text/plain": [
       "            f1        f2        f3        f4        f5        f6        f7  \\\n",
       "0     0.289532  0.277328  0.226415  0.259574  0.204117  0.147727  0.150000   \n",
       "1     0.258352  0.230769  0.277358  0.231915  0.198971  0.168561  0.160870   \n",
       "2     0.211581  0.208502  0.232075  0.242553  0.202401  0.195076  0.213043   \n",
       "3     0.242762  0.232794  0.213208  0.221277  0.176672  0.178030  0.195652   \n",
       "4     0.238307  0.226721  0.235849  0.253191  0.192110  0.126894  0.128261   \n",
       "...        ...       ...       ...       ...       ...       ...       ...   \n",
       "4027  0.282851  0.253036  0.264151  0.302128  0.233276  0.196970  0.169565   \n",
       "4028  0.262806  0.222672  0.243396  0.246809  0.166381  0.174242  0.180435   \n",
       "4029  0.204900  0.188259  0.213208  0.270213  0.221269  0.166667  0.171739   \n",
       "4030  0.273942  0.246964  0.247170  0.219149  0.183533  0.195076  0.193478   \n",
       "4031  0.247216  0.194332  0.237736  0.272340  0.193825  0.178030  0.200000   \n",
       "\n",
       "               Timestamp  \n",
       "0    2019-06-03 00:00:00  \n",
       "1    2019-06-03 00:05:00  \n",
       "2    2019-06-03 00:10:00  \n",
       "3    2019-06-03 00:15:00  \n",
       "4    2019-06-03 00:20:00  \n",
       "...                  ...  \n",
       "4027 2019-06-16 23:35:00  \n",
       "4028 2019-06-16 23:40:00  \n",
       "4029 2019-06-16 23:45:00  \n",
       "4030 2019-06-16 23:50:00  \n",
       "4031 2019-06-16 23:55:00  \n",
       "\n",
       "[4032 rows x 8 columns]"
      ]
     },
     "execution_count": 24,
     "metadata": {},
     "output_type": "execute_result"
    }
   ],
   "source": [
    "test_scaled"
   ]
  },
  {
   "cell_type": "code",
   "execution_count": 25,
   "metadata": {},
   "outputs": [
    {
     "data": {
      "text/plain": [
       "pandas._libs.tslibs.timestamps.Timestamp"
      ]
     },
     "execution_count": 25,
     "metadata": {},
     "output_type": "execute_result"
    }
   ],
   "source": [
    "type(test_scaled.iloc[0]['Timestamp'])"
   ]
  },
  {
   "cell_type": "markdown",
   "metadata": {},
   "source": [
    "# Save Data and Scaler"
   ]
  },
  {
   "cell_type": "code",
   "execution_count": 26,
   "metadata": {},
   "outputs": [],
   "source": [
    "import joblib"
   ]
  },
  {
   "cell_type": "code",
   "execution_count": 27,
   "metadata": {},
   "outputs": [
    {
     "data": {
      "text/plain": [
       "['scaler.save']"
      ]
     },
     "execution_count": 27,
     "metadata": {},
     "output_type": "execute_result"
    }
   ],
   "source": [
    "scaler_filename = \"scaler.save\"\n",
    "joblib.dump(scaler, scaler_filename) "
   ]
  },
  {
   "cell_type": "code",
   "execution_count": 28,
   "metadata": {},
   "outputs": [],
   "source": [
    "train.to_csv('01train.csv')\n",
    "test.to_csv('01test.csv')"
   ]
  },
  {
   "cell_type": "code",
   "execution_count": 29,
   "metadata": {},
   "outputs": [],
   "source": [
    "train_scaled.to_csv('01train_scaled.csv')\n",
    "test_scaled.to_csv('01test_scaled.csv')"
   ]
  }
 ],
 "metadata": {
  "kernelspec": {
   "display_name": "Python 3 (ipykernel)",
   "language": "python",
   "name": "python3"
  },
  "language_info": {
   "codemirror_mode": {
    "name": "ipython",
    "version": 3
   },
   "file_extension": ".py",
   "mimetype": "text/x-python",
   "name": "python",
   "nbconvert_exporter": "python",
   "pygments_lexer": "ipython3",
   "version": "3.11.5"
  }
 },
 "nbformat": 4,
 "nbformat_minor": 4
}
