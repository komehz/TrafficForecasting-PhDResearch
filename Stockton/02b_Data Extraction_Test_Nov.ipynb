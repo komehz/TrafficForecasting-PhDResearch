{
 "cells": [
  {
   "cell_type": "markdown",
   "id": "03e3ade3",
   "metadata": {},
   "source": [
    "# Extract data from txt file"
   ]
  },
  {
   "cell_type": "code",
   "execution_count": 1,
   "id": "bc6df0a2",
   "metadata": {},
   "outputs": [],
   "source": [
    "import csv"
   ]
  },
  {
   "cell_type": "code",
   "execution_count": 2,
   "id": "cf8d33a7",
   "metadata": {},
   "outputs": [],
   "source": [
    "# Nov\n",
    "stations = ['1096710','1096310','1007410','1021310','1021410','1021510','1016610','1027410','10115310','1022010','1022210']\n",
    "\n",
    "with open('00Nov.csv', 'w') as new_file:\n",
    "    csv_writer = csv.writer(new_file)\n",
    "    \n",
    "    for i in range(3,31):\n",
    "        with open('DataSet/Traffic/Test_II/d10_text_station_5min_2019_11_{}.txt'.\n",
    "                  format(str(i).zfill(2)), 'r') as csv_file:\n",
    "            csv_reader = csv.reader(csv_file)\n",
    "    \n",
    "            for line in csv_reader:\n",
    "                if line[1] in stations:\n",
    "                    csv_writer.writerow(line)"
   ]
  },
  {
   "cell_type": "code",
   "execution_count": 3,
   "id": "844a0c78",
   "metadata": {},
   "outputs": [],
   "source": [
    "# 1st Dec\n",
    "stations = ['1096710','1096310','1007410','1021310','1021410','1021510','1016610','1027410','10115310','1022010','1022210']\n",
    "\n",
    "with open('00Dec.csv', 'w') as new_file:\n",
    "    csv_writer = csv.writer(new_file)\n",
    "    \n",
    "    with open('DataSet/Traffic/Test_II/d10_text_station_5min_2019_12_01.txt', 'r') as csv_file:\n",
    "        csv_reader = csv.reader(csv_file)\n",
    "    \n",
    "        for line in csv_reader:\n",
    "            if line[1] in stations:\n",
    "                csv_writer.writerow(line)"
   ]
  },
  {
   "cell_type": "markdown",
   "id": "af918f3a",
   "metadata": {},
   "source": [
    "# Process dataset"
   ]
  },
  {
   "cell_type": "code",
   "execution_count": 4,
   "id": "055d2769",
   "metadata": {},
   "outputs": [],
   "source": [
    "import pandas as pd\n",
    "import numpy as np\n",
    "import matplotlib.pyplot as plt\n",
    "import seaborn as sns"
   ]
  },
  {
   "cell_type": "code",
   "execution_count": 5,
   "id": "fcb60ea9",
   "metadata": {},
   "outputs": [],
   "source": [
    "# Read saved csv files\n",
    "Nov = pd.read_csv('00Nov.csv',header=None)\n",
    "Dec = pd.read_csv('00Dec.csv',header=None)"
   ]
  },
  {
   "cell_type": "code",
   "execution_count": 6,
   "id": "e50e0787",
   "metadata": {},
   "outputs": [],
   "source": [
    "# Trim the data (first 17 columns)\n",
    "Nov = Nov.iloc[:,0:17]\n",
    "Dec = Dec.iloc[:,0:17]"
   ]
  },
  {
   "cell_type": "code",
   "execution_count": 7,
   "id": "9685b151",
   "metadata": {},
   "outputs": [],
   "source": [
    "# Define dataframe header\n",
    "columns = ['Timestamp','Station','District','Freeway','DoT','Lane Type','Station Length','Samples', '% Obs',\n",
    "          'Total flow','Avg Occ','Ave Speed','Lane N Samples','Lane N Flow','Lane N Avg Occ','Lane N Avg Speed','Lane N obs']"
   ]
  },
  {
   "cell_type": "code",
   "execution_count": 8,
   "id": "c4826a8d",
   "metadata": {},
   "outputs": [],
   "source": [
    "# Input the header defined above\n",
    "Nov.columns = columns\n",
    "Dec.columns = columns"
   ]
  },
  {
   "cell_type": "code",
   "execution_count": 9,
   "id": "98561f89",
   "metadata": {},
   "outputs": [
    {
     "data": {
      "text/html": [
       "<div>\n",
       "<style scoped>\n",
       "    .dataframe tbody tr th:only-of-type {\n",
       "        vertical-align: middle;\n",
       "    }\n",
       "\n",
       "    .dataframe tbody tr th {\n",
       "        vertical-align: top;\n",
       "    }\n",
       "\n",
       "    .dataframe thead th {\n",
       "        text-align: right;\n",
       "    }\n",
       "</style>\n",
       "<table border=\"1\" class=\"dataframe\">\n",
       "  <thead>\n",
       "    <tr style=\"text-align: right;\">\n",
       "      <th></th>\n",
       "      <th>Timestamp</th>\n",
       "      <th>Station</th>\n",
       "      <th>District</th>\n",
       "      <th>Freeway</th>\n",
       "      <th>DoT</th>\n",
       "      <th>Lane Type</th>\n",
       "      <th>Station Length</th>\n",
       "      <th>Samples</th>\n",
       "      <th>% Obs</th>\n",
       "      <th>Total flow</th>\n",
       "      <th>Avg Occ</th>\n",
       "      <th>Ave Speed</th>\n",
       "      <th>Lane N Samples</th>\n",
       "      <th>Lane N Flow</th>\n",
       "      <th>Lane N Avg Occ</th>\n",
       "      <th>Lane N Avg Speed</th>\n",
       "      <th>Lane N obs</th>\n",
       "    </tr>\n",
       "  </thead>\n",
       "  <tbody>\n",
       "    <tr>\n",
       "      <th>0</th>\n",
       "      <td>12/01/2019 00:00:00</td>\n",
       "      <td>1007410</td>\n",
       "      <td>10</td>\n",
       "      <td>5</td>\n",
       "      <td>N</td>\n",
       "      <td>ML</td>\n",
       "      <td>0.501</td>\n",
       "      <td>36</td>\n",
       "      <td>100</td>\n",
       "      <td>93</td>\n",
       "      <td>0.0190</td>\n",
       "      <td>70.3</td>\n",
       "      <td>9</td>\n",
       "      <td>26</td>\n",
       "      <td>0.0154</td>\n",
       "      <td>76.0</td>\n",
       "      <td>1</td>\n",
       "    </tr>\n",
       "    <tr>\n",
       "      <th>1</th>\n",
       "      <td>12/01/2019 00:00:00</td>\n",
       "      <td>1016610</td>\n",
       "      <td>10</td>\n",
       "      <td>5</td>\n",
       "      <td>N</td>\n",
       "      <td>ML</td>\n",
       "      <td>0.612</td>\n",
       "      <td>27</td>\n",
       "      <td>100</td>\n",
       "      <td>84</td>\n",
       "      <td>0.0209</td>\n",
       "      <td>70.5</td>\n",
       "      <td>9</td>\n",
       "      <td>19</td>\n",
       "      <td>0.0108</td>\n",
       "      <td>74.8</td>\n",
       "      <td>1</td>\n",
       "    </tr>\n",
       "    <tr>\n",
       "      <th>2</th>\n",
       "      <td>12/01/2019 00:00:00</td>\n",
       "      <td>1021310</td>\n",
       "      <td>10</td>\n",
       "      <td>5</td>\n",
       "      <td>N</td>\n",
       "      <td>ML</td>\n",
       "      <td>0.726</td>\n",
       "      <td>27</td>\n",
       "      <td>33</td>\n",
       "      <td>99</td>\n",
       "      <td>0.0297</td>\n",
       "      <td>63.8</td>\n",
       "      <td>9</td>\n",
       "      <td>32</td>\n",
       "      <td>0.0217</td>\n",
       "      <td>69.9</td>\n",
       "      <td>0</td>\n",
       "    </tr>\n",
       "    <tr>\n",
       "      <th>3</th>\n",
       "      <td>12/01/2019 00:00:00</td>\n",
       "      <td>1021410</td>\n",
       "      <td>10</td>\n",
       "      <td>5</td>\n",
       "      <td>N</td>\n",
       "      <td>ML</td>\n",
       "      <td>0.487</td>\n",
       "      <td>0</td>\n",
       "      <td>0</td>\n",
       "      <td>103</td>\n",
       "      <td>0.0316</td>\n",
       "      <td>63.5</td>\n",
       "      <td>0</td>\n",
       "      <td>37</td>\n",
       "      <td>0.0246</td>\n",
       "      <td>68.7</td>\n",
       "      <td>0</td>\n",
       "    </tr>\n",
       "    <tr>\n",
       "      <th>4</th>\n",
       "      <td>12/01/2019 00:00:00</td>\n",
       "      <td>1021510</td>\n",
       "      <td>10</td>\n",
       "      <td>5</td>\n",
       "      <td>N</td>\n",
       "      <td>ML</td>\n",
       "      <td>0.450</td>\n",
       "      <td>0</td>\n",
       "      <td>0</td>\n",
       "      <td>89</td>\n",
       "      <td>0.0290</td>\n",
       "      <td>66.1</td>\n",
       "      <td>0</td>\n",
       "      <td>33</td>\n",
       "      <td>0.0231</td>\n",
       "      <td>70.6</td>\n",
       "      <td>0</td>\n",
       "    </tr>\n",
       "  </tbody>\n",
       "</table>\n",
       "</div>"
      ],
      "text/plain": [
       "             Timestamp  Station  District  Freeway DoT Lane Type  \\\n",
       "0  12/01/2019 00:00:00  1007410        10        5   N        ML   \n",
       "1  12/01/2019 00:00:00  1016610        10        5   N        ML   \n",
       "2  12/01/2019 00:00:00  1021310        10        5   N        ML   \n",
       "3  12/01/2019 00:00:00  1021410        10        5   N        ML   \n",
       "4  12/01/2019 00:00:00  1021510        10        5   N        ML   \n",
       "\n",
       "   Station Length  Samples  % Obs  Total flow  Avg Occ  Ave Speed  \\\n",
       "0           0.501       36    100          93   0.0190       70.3   \n",
       "1           0.612       27    100          84   0.0209       70.5   \n",
       "2           0.726       27     33          99   0.0297       63.8   \n",
       "3           0.487        0      0         103   0.0316       63.5   \n",
       "4           0.450        0      0          89   0.0290       66.1   \n",
       "\n",
       "   Lane N Samples  Lane N Flow  Lane N Avg Occ  Lane N Avg Speed  Lane N obs  \n",
       "0               9           26          0.0154              76.0           1  \n",
       "1               9           19          0.0108              74.8           1  \n",
       "2               9           32          0.0217              69.9           0  \n",
       "3               0           37          0.0246              68.7           0  \n",
       "4               0           33          0.0231              70.6           0  "
      ]
     },
     "execution_count": 9,
     "metadata": {},
     "output_type": "execute_result"
    }
   ],
   "source": [
    "Dec.head()"
   ]
  },
  {
   "cell_type": "code",
   "execution_count": 10,
   "id": "a2fef6d0",
   "metadata": {},
   "outputs": [
    {
     "data": {
      "text/html": [
       "<div>\n",
       "<style scoped>\n",
       "    .dataframe tbody tr th:only-of-type {\n",
       "        vertical-align: middle;\n",
       "    }\n",
       "\n",
       "    .dataframe tbody tr th {\n",
       "        vertical-align: top;\n",
       "    }\n",
       "\n",
       "    .dataframe thead th {\n",
       "        text-align: right;\n",
       "    }\n",
       "</style>\n",
       "<table border=\"1\" class=\"dataframe\">\n",
       "  <thead>\n",
       "    <tr style=\"text-align: right;\">\n",
       "      <th></th>\n",
       "      <th>Timestamp</th>\n",
       "      <th>Station</th>\n",
       "      <th>District</th>\n",
       "      <th>Freeway</th>\n",
       "      <th>DoT</th>\n",
       "      <th>Lane Type</th>\n",
       "      <th>Station Length</th>\n",
       "      <th>Samples</th>\n",
       "      <th>% Obs</th>\n",
       "      <th>Total flow</th>\n",
       "      <th>Avg Occ</th>\n",
       "      <th>Ave Speed</th>\n",
       "      <th>Lane N Samples</th>\n",
       "      <th>Lane N Flow</th>\n",
       "      <th>Lane N Avg Occ</th>\n",
       "      <th>Lane N Avg Speed</th>\n",
       "      <th>Lane N obs</th>\n",
       "    </tr>\n",
       "  </thead>\n",
       "  <tbody>\n",
       "    <tr>\n",
       "      <th>88699</th>\n",
       "      <td>11/30/2019 23:55:00</td>\n",
       "      <td>1022210</td>\n",
       "      <td>10</td>\n",
       "      <td>5</td>\n",
       "      <td>N</td>\n",
       "      <td>ML</td>\n",
       "      <td>1.713</td>\n",
       "      <td>0</td>\n",
       "      <td>0</td>\n",
       "      <td>71.0</td>\n",
       "      <td>0.0294</td>\n",
       "      <td>63.2</td>\n",
       "      <td>0.0</td>\n",
       "      <td>25.0</td>\n",
       "      <td>0.0235</td>\n",
       "      <td>69.0</td>\n",
       "      <td>0</td>\n",
       "    </tr>\n",
       "    <tr>\n",
       "      <th>88700</th>\n",
       "      <td>11/30/2019 23:55:00</td>\n",
       "      <td>1027410</td>\n",
       "      <td>10</td>\n",
       "      <td>5</td>\n",
       "      <td>N</td>\n",
       "      <td>ML</td>\n",
       "      <td>1.232</td>\n",
       "      <td>0</td>\n",
       "      <td>0</td>\n",
       "      <td>83.0</td>\n",
       "      <td>0.0317</td>\n",
       "      <td>67.7</td>\n",
       "      <td>0.0</td>\n",
       "      <td>42.0</td>\n",
       "      <td>0.0286</td>\n",
       "      <td>70.0</td>\n",
       "      <td>0</td>\n",
       "    </tr>\n",
       "    <tr>\n",
       "      <th>88701</th>\n",
       "      <td>11/30/2019 23:55:00</td>\n",
       "      <td>1096310</td>\n",
       "      <td>10</td>\n",
       "      <td>5</td>\n",
       "      <td>N</td>\n",
       "      <td>ML</td>\n",
       "      <td>0.669</td>\n",
       "      <td>24</td>\n",
       "      <td>100</td>\n",
       "      <td>116.0</td>\n",
       "      <td>0.0279</td>\n",
       "      <td>66.3</td>\n",
       "      <td>8.0</td>\n",
       "      <td>41.0</td>\n",
       "      <td>0.0241</td>\n",
       "      <td>68.7</td>\n",
       "      <td>1</td>\n",
       "    </tr>\n",
       "    <tr>\n",
       "      <th>88702</th>\n",
       "      <td>11/30/2019 23:55:00</td>\n",
       "      <td>1096710</td>\n",
       "      <td>10</td>\n",
       "      <td>5</td>\n",
       "      <td>N</td>\n",
       "      <td>ML</td>\n",
       "      <td>0.249</td>\n",
       "      <td>30</td>\n",
       "      <td>100</td>\n",
       "      <td>93.0</td>\n",
       "      <td>0.0247</td>\n",
       "      <td>66.9</td>\n",
       "      <td>10.0</td>\n",
       "      <td>28.0</td>\n",
       "      <td>0.0177</td>\n",
       "      <td>71.0</td>\n",
       "      <td>1</td>\n",
       "    </tr>\n",
       "    <tr>\n",
       "      <th>88703</th>\n",
       "      <td>11/30/2019 23:55:00</td>\n",
       "      <td>10115310</td>\n",
       "      <td>10</td>\n",
       "      <td>5</td>\n",
       "      <td>N</td>\n",
       "      <td>ML</td>\n",
       "      <td>0.978</td>\n",
       "      <td>30</td>\n",
       "      <td>100</td>\n",
       "      <td>86.0</td>\n",
       "      <td>0.0198</td>\n",
       "      <td>66.4</td>\n",
       "      <td>10.0</td>\n",
       "      <td>10.0</td>\n",
       "      <td>0.0053</td>\n",
       "      <td>71.8</td>\n",
       "      <td>1</td>\n",
       "    </tr>\n",
       "  </tbody>\n",
       "</table>\n",
       "</div>"
      ],
      "text/plain": [
       "                 Timestamp   Station  District  Freeway DoT Lane Type  \\\n",
       "88699  11/30/2019 23:55:00   1022210        10        5   N        ML   \n",
       "88700  11/30/2019 23:55:00   1027410        10        5   N        ML   \n",
       "88701  11/30/2019 23:55:00   1096310        10        5   N        ML   \n",
       "88702  11/30/2019 23:55:00   1096710        10        5   N        ML   \n",
       "88703  11/30/2019 23:55:00  10115310        10        5   N        ML   \n",
       "\n",
       "       Station Length  Samples  % Obs  Total flow  Avg Occ  Ave Speed  \\\n",
       "88699           1.713        0      0        71.0   0.0294       63.2   \n",
       "88700           1.232        0      0        83.0   0.0317       67.7   \n",
       "88701           0.669       24    100       116.0   0.0279       66.3   \n",
       "88702           0.249       30    100        93.0   0.0247       66.9   \n",
       "88703           0.978       30    100        86.0   0.0198       66.4   \n",
       "\n",
       "       Lane N Samples  Lane N Flow  Lane N Avg Occ  Lane N Avg Speed  \\\n",
       "88699             0.0         25.0          0.0235              69.0   \n",
       "88700             0.0         42.0          0.0286              70.0   \n",
       "88701             8.0         41.0          0.0241              68.7   \n",
       "88702            10.0         28.0          0.0177              71.0   \n",
       "88703            10.0         10.0          0.0053              71.8   \n",
       "\n",
       "       Lane N obs  \n",
       "88699           0  \n",
       "88700           0  \n",
       "88701           1  \n",
       "88702           1  \n",
       "88703           1  "
      ]
     },
     "execution_count": 10,
     "metadata": {},
     "output_type": "execute_result"
    }
   ],
   "source": [
    "Nov.tail()"
   ]
  },
  {
   "cell_type": "code",
   "execution_count": 11,
   "id": "1f5fab4d",
   "metadata": {},
   "outputs": [],
   "source": [
    "df = pd.concat([Nov,Dec],ignore_index=True)"
   ]
  },
  {
   "cell_type": "code",
   "execution_count": 12,
   "id": "c7a70a06",
   "metadata": {},
   "outputs": [
    {
     "data": {
      "text/plain": [
       "91872"
      ]
     },
     "execution_count": 12,
     "metadata": {},
     "output_type": "execute_result"
    }
   ],
   "source": [
    "len(df)"
   ]
  },
  {
   "cell_type": "code",
   "execution_count": 13,
   "id": "e8188574",
   "metadata": {},
   "outputs": [],
   "source": [
    "# Pass a list of column names (the important variables)\n",
    "df = df[['Timestamp','Station','Total flow']]"
   ]
  },
  {
   "cell_type": "code",
   "execution_count": 14,
   "id": "50facc5b",
   "metadata": {},
   "outputs": [],
   "source": [
    "# Replace Station ID\n",
    "mymap = {\n",
    "            1096710  : 'f1',\n",
    "            1096310  : 'f2',\n",
    "            1007410  : 'f3',\n",
    "            1021310  : 'f4',\n",
    "            1021410  : 'f5',\n",
    "            1021510  : 'f6',\n",
    "            1016610  : 'f7',\n",
    "            1027410  : 'f8',\n",
    "            10115310 : 'f9',\n",
    "            1022010  : 'f10',\n",
    "            1022210  : 'f11'\n",
    "        }\n",
    "df['Station'] = df['Station'].map(mymap)"
   ]
  },
  {
   "cell_type": "code",
   "execution_count": 15,
   "id": "038fc813",
   "metadata": {},
   "outputs": [
    {
     "data": {
      "text/plain": [
       "f10    8352\n",
       "f4     8352\n",
       "f6     8352\n",
       "f2     8352\n",
       "f9     8352\n",
       "f5     8352\n",
       "f8     8352\n",
       "f3     8352\n",
       "f11    8352\n",
       "f1     8352\n",
       "f7     8352\n",
       "Name: Station, dtype: int64"
      ]
     },
     "execution_count": 15,
     "metadata": {},
     "output_type": "execute_result"
    }
   ],
   "source": [
    "df['Station'].value_counts()"
   ]
  },
  {
   "cell_type": "code",
   "execution_count": 16,
   "id": "7bda4a88",
   "metadata": {},
   "outputs": [
    {
     "data": {
      "text/plain": [
       "8352"
      ]
     },
     "execution_count": 16,
     "metadata": {},
     "output_type": "execute_result"
    }
   ],
   "source": [
    "df['Timestamp'].nunique()"
   ]
  },
  {
   "cell_type": "code",
   "execution_count": 17,
   "id": "69978cef",
   "metadata": {},
   "outputs": [],
   "source": [
    "# Re-arrange the Dataframe to spatio-temporal format\n",
    "df = df.pivot(index='Timestamp',columns='Station',values='Total flow')"
   ]
  },
  {
   "cell_type": "code",
   "execution_count": 18,
   "id": "470b6227",
   "metadata": {},
   "outputs": [
    {
     "data": {
      "text/plain": [
       "Index(['f1', 'f10', 'f11', 'f2', 'f3', 'f4', 'f5', 'f6', 'f7', 'f8', 'f9'], dtype='object', name='Station')"
      ]
     },
     "execution_count": 18,
     "metadata": {},
     "output_type": "execute_result"
    }
   ],
   "source": [
    "df.keys()"
   ]
  },
  {
   "cell_type": "code",
   "execution_count": 19,
   "id": "1eccb3ce",
   "metadata": {},
   "outputs": [],
   "source": [
    "# f11 is incomplete so drop it\n",
    "df.drop(columns = ['f4','f5','f8','f11'], inplace = True)"
   ]
  },
  {
   "cell_type": "code",
   "execution_count": 20,
   "id": "5bf0a624",
   "metadata": {},
   "outputs": [
    {
     "data": {
      "text/html": [
       "<div>\n",
       "<style scoped>\n",
       "    .dataframe tbody tr th:only-of-type {\n",
       "        vertical-align: middle;\n",
       "    }\n",
       "\n",
       "    .dataframe tbody tr th {\n",
       "        vertical-align: top;\n",
       "    }\n",
       "\n",
       "    .dataframe thead th {\n",
       "        text-align: right;\n",
       "    }\n",
       "</style>\n",
       "<table border=\"1\" class=\"dataframe\">\n",
       "  <thead>\n",
       "    <tr style=\"text-align: right;\">\n",
       "      <th>Station</th>\n",
       "      <th>f1</th>\n",
       "      <th>f10</th>\n",
       "      <th>f2</th>\n",
       "      <th>f3</th>\n",
       "      <th>f6</th>\n",
       "      <th>f7</th>\n",
       "      <th>f9</th>\n",
       "    </tr>\n",
       "    <tr>\n",
       "      <th>Timestamp</th>\n",
       "      <th></th>\n",
       "      <th></th>\n",
       "      <th></th>\n",
       "      <th></th>\n",
       "      <th></th>\n",
       "      <th></th>\n",
       "      <th></th>\n",
       "    </tr>\n",
       "  </thead>\n",
       "  <tbody>\n",
       "    <tr>\n",
       "      <th>11/03/2019 00:00:00</th>\n",
       "      <td>120.0</td>\n",
       "      <td>74.0</td>\n",
       "      <td>117.0</td>\n",
       "      <td>131.0</td>\n",
       "      <td>107.0</td>\n",
       "      <td>108.0</td>\n",
       "      <td>77.0</td>\n",
       "    </tr>\n",
       "    <tr>\n",
       "      <th>11/03/2019 00:05:00</th>\n",
       "      <td>122.0</td>\n",
       "      <td>73.0</td>\n",
       "      <td>120.0</td>\n",
       "      <td>125.0</td>\n",
       "      <td>134.0</td>\n",
       "      <td>139.0</td>\n",
       "      <td>94.0</td>\n",
       "    </tr>\n",
       "    <tr>\n",
       "      <th>11/03/2019 00:10:00</th>\n",
       "      <td>97.0</td>\n",
       "      <td>94.0</td>\n",
       "      <td>108.0</td>\n",
       "      <td>93.0</td>\n",
       "      <td>123.0</td>\n",
       "      <td>125.0</td>\n",
       "      <td>104.0</td>\n",
       "    </tr>\n",
       "    <tr>\n",
       "      <th>11/03/2019 00:15:00</th>\n",
       "      <td>111.0</td>\n",
       "      <td>81.0</td>\n",
       "      <td>123.0</td>\n",
       "      <td>130.0</td>\n",
       "      <td>114.0</td>\n",
       "      <td>124.0</td>\n",
       "      <td>78.0</td>\n",
       "    </tr>\n",
       "    <tr>\n",
       "      <th>11/03/2019 00:20:00</th>\n",
       "      <td>106.0</td>\n",
       "      <td>84.0</td>\n",
       "      <td>106.0</td>\n",
       "      <td>119.0</td>\n",
       "      <td>91.0</td>\n",
       "      <td>89.0</td>\n",
       "      <td>93.0</td>\n",
       "    </tr>\n",
       "    <tr>\n",
       "      <th>...</th>\n",
       "      <td>...</td>\n",
       "      <td>...</td>\n",
       "      <td>...</td>\n",
       "      <td>...</td>\n",
       "      <td>...</td>\n",
       "      <td>...</td>\n",
       "      <td>...</td>\n",
       "    </tr>\n",
       "    <tr>\n",
       "      <th>12/01/2019 23:35:00</th>\n",
       "      <td>115.0</td>\n",
       "      <td>107.0</td>\n",
       "      <td>125.0</td>\n",
       "      <td>134.0</td>\n",
       "      <td>114.0</td>\n",
       "      <td>129.0</td>\n",
       "      <td>97.0</td>\n",
       "    </tr>\n",
       "    <tr>\n",
       "      <th>12/01/2019 23:40:00</th>\n",
       "      <td>98.0</td>\n",
       "      <td>122.0</td>\n",
       "      <td>80.0</td>\n",
       "      <td>107.0</td>\n",
       "      <td>108.0</td>\n",
       "      <td>122.0</td>\n",
       "      <td>108.0</td>\n",
       "    </tr>\n",
       "    <tr>\n",
       "      <th>12/01/2019 23:45:00</th>\n",
       "      <td>132.0</td>\n",
       "      <td>101.0</td>\n",
       "      <td>126.0</td>\n",
       "      <td>155.0</td>\n",
       "      <td>116.0</td>\n",
       "      <td>120.0</td>\n",
       "      <td>84.0</td>\n",
       "    </tr>\n",
       "    <tr>\n",
       "      <th>12/01/2019 23:50:00</th>\n",
       "      <td>118.0</td>\n",
       "      <td>105.0</td>\n",
       "      <td>129.0</td>\n",
       "      <td>124.0</td>\n",
       "      <td>102.0</td>\n",
       "      <td>121.0</td>\n",
       "      <td>86.0</td>\n",
       "    </tr>\n",
       "    <tr>\n",
       "      <th>12/01/2019 23:55:00</th>\n",
       "      <td>99.0</td>\n",
       "      <td>120.0</td>\n",
       "      <td>98.0</td>\n",
       "      <td>104.0</td>\n",
       "      <td>100.0</td>\n",
       "      <td>112.0</td>\n",
       "      <td>102.0</td>\n",
       "    </tr>\n",
       "  </tbody>\n",
       "</table>\n",
       "<p>8352 rows × 7 columns</p>\n",
       "</div>"
      ],
      "text/plain": [
       "Station                 f1    f10     f2     f3     f6     f7     f9\n",
       "Timestamp                                                           \n",
       "11/03/2019 00:00:00  120.0   74.0  117.0  131.0  107.0  108.0   77.0\n",
       "11/03/2019 00:05:00  122.0   73.0  120.0  125.0  134.0  139.0   94.0\n",
       "11/03/2019 00:10:00   97.0   94.0  108.0   93.0  123.0  125.0  104.0\n",
       "11/03/2019 00:15:00  111.0   81.0  123.0  130.0  114.0  124.0   78.0\n",
       "11/03/2019 00:20:00  106.0   84.0  106.0  119.0   91.0   89.0   93.0\n",
       "...                    ...    ...    ...    ...    ...    ...    ...\n",
       "12/01/2019 23:35:00  115.0  107.0  125.0  134.0  114.0  129.0   97.0\n",
       "12/01/2019 23:40:00   98.0  122.0   80.0  107.0  108.0  122.0  108.0\n",
       "12/01/2019 23:45:00  132.0  101.0  126.0  155.0  116.0  120.0   84.0\n",
       "12/01/2019 23:50:00  118.0  105.0  129.0  124.0  102.0  121.0   86.0\n",
       "12/01/2019 23:55:00   99.0  120.0   98.0  104.0  100.0  112.0  102.0\n",
       "\n",
       "[8352 rows x 7 columns]"
      ]
     },
     "execution_count": 20,
     "metadata": {},
     "output_type": "execute_result"
    }
   ],
   "source": [
    "df"
   ]
  },
  {
   "cell_type": "code",
   "execution_count": 21,
   "id": "536efb35",
   "metadata": {},
   "outputs": [
    {
     "data": {
      "text/html": [
       "<div>\n",
       "<style scoped>\n",
       "    .dataframe tbody tr th:only-of-type {\n",
       "        vertical-align: middle;\n",
       "    }\n",
       "\n",
       "    .dataframe tbody tr th {\n",
       "        vertical-align: top;\n",
       "    }\n",
       "\n",
       "    .dataframe thead th {\n",
       "        text-align: right;\n",
       "    }\n",
       "</style>\n",
       "<table border=\"1\" class=\"dataframe\">\n",
       "  <thead>\n",
       "    <tr style=\"text-align: right;\">\n",
       "      <th>Station</th>\n",
       "      <th>f1</th>\n",
       "      <th>f2</th>\n",
       "      <th>f3</th>\n",
       "      <th>f6</th>\n",
       "      <th>f7</th>\n",
       "      <th>f9</th>\n",
       "      <th>f10</th>\n",
       "    </tr>\n",
       "    <tr>\n",
       "      <th>Timestamp</th>\n",
       "      <th></th>\n",
       "      <th></th>\n",
       "      <th></th>\n",
       "      <th></th>\n",
       "      <th></th>\n",
       "      <th></th>\n",
       "      <th></th>\n",
       "    </tr>\n",
       "  </thead>\n",
       "  <tbody>\n",
       "    <tr>\n",
       "      <th>11/03/2019 00:00:00</th>\n",
       "      <td>120.0</td>\n",
       "      <td>117.0</td>\n",
       "      <td>131.0</td>\n",
       "      <td>107.0</td>\n",
       "      <td>108.0</td>\n",
       "      <td>77.0</td>\n",
       "      <td>74.0</td>\n",
       "    </tr>\n",
       "    <tr>\n",
       "      <th>11/03/2019 00:05:00</th>\n",
       "      <td>122.0</td>\n",
       "      <td>120.0</td>\n",
       "      <td>125.0</td>\n",
       "      <td>134.0</td>\n",
       "      <td>139.0</td>\n",
       "      <td>94.0</td>\n",
       "      <td>73.0</td>\n",
       "    </tr>\n",
       "    <tr>\n",
       "      <th>11/03/2019 00:10:00</th>\n",
       "      <td>97.0</td>\n",
       "      <td>108.0</td>\n",
       "      <td>93.0</td>\n",
       "      <td>123.0</td>\n",
       "      <td>125.0</td>\n",
       "      <td>104.0</td>\n",
       "      <td>94.0</td>\n",
       "    </tr>\n",
       "    <tr>\n",
       "      <th>11/03/2019 00:15:00</th>\n",
       "      <td>111.0</td>\n",
       "      <td>123.0</td>\n",
       "      <td>130.0</td>\n",
       "      <td>114.0</td>\n",
       "      <td>124.0</td>\n",
       "      <td>78.0</td>\n",
       "      <td>81.0</td>\n",
       "    </tr>\n",
       "    <tr>\n",
       "      <th>11/03/2019 00:20:00</th>\n",
       "      <td>106.0</td>\n",
       "      <td>106.0</td>\n",
       "      <td>119.0</td>\n",
       "      <td>91.0</td>\n",
       "      <td>89.0</td>\n",
       "      <td>93.0</td>\n",
       "      <td>84.0</td>\n",
       "    </tr>\n",
       "    <tr>\n",
       "      <th>...</th>\n",
       "      <td>...</td>\n",
       "      <td>...</td>\n",
       "      <td>...</td>\n",
       "      <td>...</td>\n",
       "      <td>...</td>\n",
       "      <td>...</td>\n",
       "      <td>...</td>\n",
       "    </tr>\n",
       "    <tr>\n",
       "      <th>12/01/2019 23:35:00</th>\n",
       "      <td>115.0</td>\n",
       "      <td>125.0</td>\n",
       "      <td>134.0</td>\n",
       "      <td>114.0</td>\n",
       "      <td>129.0</td>\n",
       "      <td>97.0</td>\n",
       "      <td>107.0</td>\n",
       "    </tr>\n",
       "    <tr>\n",
       "      <th>12/01/2019 23:40:00</th>\n",
       "      <td>98.0</td>\n",
       "      <td>80.0</td>\n",
       "      <td>107.0</td>\n",
       "      <td>108.0</td>\n",
       "      <td>122.0</td>\n",
       "      <td>108.0</td>\n",
       "      <td>122.0</td>\n",
       "    </tr>\n",
       "    <tr>\n",
       "      <th>12/01/2019 23:45:00</th>\n",
       "      <td>132.0</td>\n",
       "      <td>126.0</td>\n",
       "      <td>155.0</td>\n",
       "      <td>116.0</td>\n",
       "      <td>120.0</td>\n",
       "      <td>84.0</td>\n",
       "      <td>101.0</td>\n",
       "    </tr>\n",
       "    <tr>\n",
       "      <th>12/01/2019 23:50:00</th>\n",
       "      <td>118.0</td>\n",
       "      <td>129.0</td>\n",
       "      <td>124.0</td>\n",
       "      <td>102.0</td>\n",
       "      <td>121.0</td>\n",
       "      <td>86.0</td>\n",
       "      <td>105.0</td>\n",
       "    </tr>\n",
       "    <tr>\n",
       "      <th>12/01/2019 23:55:00</th>\n",
       "      <td>99.0</td>\n",
       "      <td>98.0</td>\n",
       "      <td>104.0</td>\n",
       "      <td>100.0</td>\n",
       "      <td>112.0</td>\n",
       "      <td>102.0</td>\n",
       "      <td>120.0</td>\n",
       "    </tr>\n",
       "  </tbody>\n",
       "</table>\n",
       "<p>8352 rows × 7 columns</p>\n",
       "</div>"
      ],
      "text/plain": [
       "Station                 f1     f2     f3     f6     f7     f9    f10\n",
       "Timestamp                                                           \n",
       "11/03/2019 00:00:00  120.0  117.0  131.0  107.0  108.0   77.0   74.0\n",
       "11/03/2019 00:05:00  122.0  120.0  125.0  134.0  139.0   94.0   73.0\n",
       "11/03/2019 00:10:00   97.0  108.0   93.0  123.0  125.0  104.0   94.0\n",
       "11/03/2019 00:15:00  111.0  123.0  130.0  114.0  124.0   78.0   81.0\n",
       "11/03/2019 00:20:00  106.0  106.0  119.0   91.0   89.0   93.0   84.0\n",
       "...                    ...    ...    ...    ...    ...    ...    ...\n",
       "12/01/2019 23:35:00  115.0  125.0  134.0  114.0  129.0   97.0  107.0\n",
       "12/01/2019 23:40:00   98.0   80.0  107.0  108.0  122.0  108.0  122.0\n",
       "12/01/2019 23:45:00  132.0  126.0  155.0  116.0  120.0   84.0  101.0\n",
       "12/01/2019 23:50:00  118.0  129.0  124.0  102.0  121.0   86.0  105.0\n",
       "12/01/2019 23:55:00   99.0   98.0  104.0  100.0  112.0  102.0  120.0\n",
       "\n",
       "[8352 rows x 7 columns]"
      ]
     },
     "execution_count": 21,
     "metadata": {},
     "output_type": "execute_result"
    }
   ],
   "source": [
    "# Re-arrange spatial columns, so, the data is sequential\n",
    "df = df[['f1','f2','f3','f6','f7','f9','f10']]\n",
    "df"
   ]
  },
  {
   "cell_type": "code",
   "execution_count": 22,
   "id": "90bea32f",
   "metadata": {},
   "outputs": [],
   "source": [
    "columns = ['f1', 'f2', 'f3', 'f4', 'f5', 'f6', 'f7']\n",
    "df.columns = columns"
   ]
  },
  {
   "cell_type": "code",
   "execution_count": 23,
   "id": "3265ba5a",
   "metadata": {},
   "outputs": [
    {
     "data": {
      "text/html": [
       "<div>\n",
       "<style scoped>\n",
       "    .dataframe tbody tr th:only-of-type {\n",
       "        vertical-align: middle;\n",
       "    }\n",
       "\n",
       "    .dataframe tbody tr th {\n",
       "        vertical-align: top;\n",
       "    }\n",
       "\n",
       "    .dataframe thead th {\n",
       "        text-align: right;\n",
       "    }\n",
       "</style>\n",
       "<table border=\"1\" class=\"dataframe\">\n",
       "  <thead>\n",
       "    <tr style=\"text-align: right;\">\n",
       "      <th></th>\n",
       "      <th>f1</th>\n",
       "      <th>f2</th>\n",
       "      <th>f3</th>\n",
       "      <th>f4</th>\n",
       "      <th>f5</th>\n",
       "      <th>f6</th>\n",
       "      <th>f7</th>\n",
       "    </tr>\n",
       "    <tr>\n",
       "      <th>Timestamp</th>\n",
       "      <th></th>\n",
       "      <th></th>\n",
       "      <th></th>\n",
       "      <th></th>\n",
       "      <th></th>\n",
       "      <th></th>\n",
       "      <th></th>\n",
       "    </tr>\n",
       "  </thead>\n",
       "  <tbody>\n",
       "    <tr>\n",
       "      <th>11/03/2019 00:00:00</th>\n",
       "      <td>120.0</td>\n",
       "      <td>117.0</td>\n",
       "      <td>131.0</td>\n",
       "      <td>107.0</td>\n",
       "      <td>108.0</td>\n",
       "      <td>77.0</td>\n",
       "      <td>74.0</td>\n",
       "    </tr>\n",
       "    <tr>\n",
       "      <th>11/03/2019 00:05:00</th>\n",
       "      <td>122.0</td>\n",
       "      <td>120.0</td>\n",
       "      <td>125.0</td>\n",
       "      <td>134.0</td>\n",
       "      <td>139.0</td>\n",
       "      <td>94.0</td>\n",
       "      <td>73.0</td>\n",
       "    </tr>\n",
       "    <tr>\n",
       "      <th>11/03/2019 00:10:00</th>\n",
       "      <td>97.0</td>\n",
       "      <td>108.0</td>\n",
       "      <td>93.0</td>\n",
       "      <td>123.0</td>\n",
       "      <td>125.0</td>\n",
       "      <td>104.0</td>\n",
       "      <td>94.0</td>\n",
       "    </tr>\n",
       "    <tr>\n",
       "      <th>11/03/2019 00:15:00</th>\n",
       "      <td>111.0</td>\n",
       "      <td>123.0</td>\n",
       "      <td>130.0</td>\n",
       "      <td>114.0</td>\n",
       "      <td>124.0</td>\n",
       "      <td>78.0</td>\n",
       "      <td>81.0</td>\n",
       "    </tr>\n",
       "    <tr>\n",
       "      <th>11/03/2019 00:20:00</th>\n",
       "      <td>106.0</td>\n",
       "      <td>106.0</td>\n",
       "      <td>119.0</td>\n",
       "      <td>91.0</td>\n",
       "      <td>89.0</td>\n",
       "      <td>93.0</td>\n",
       "      <td>84.0</td>\n",
       "    </tr>\n",
       "    <tr>\n",
       "      <th>...</th>\n",
       "      <td>...</td>\n",
       "      <td>...</td>\n",
       "      <td>...</td>\n",
       "      <td>...</td>\n",
       "      <td>...</td>\n",
       "      <td>...</td>\n",
       "      <td>...</td>\n",
       "    </tr>\n",
       "    <tr>\n",
       "      <th>12/01/2019 23:35:00</th>\n",
       "      <td>115.0</td>\n",
       "      <td>125.0</td>\n",
       "      <td>134.0</td>\n",
       "      <td>114.0</td>\n",
       "      <td>129.0</td>\n",
       "      <td>97.0</td>\n",
       "      <td>107.0</td>\n",
       "    </tr>\n",
       "    <tr>\n",
       "      <th>12/01/2019 23:40:00</th>\n",
       "      <td>98.0</td>\n",
       "      <td>80.0</td>\n",
       "      <td>107.0</td>\n",
       "      <td>108.0</td>\n",
       "      <td>122.0</td>\n",
       "      <td>108.0</td>\n",
       "      <td>122.0</td>\n",
       "    </tr>\n",
       "    <tr>\n",
       "      <th>12/01/2019 23:45:00</th>\n",
       "      <td>132.0</td>\n",
       "      <td>126.0</td>\n",
       "      <td>155.0</td>\n",
       "      <td>116.0</td>\n",
       "      <td>120.0</td>\n",
       "      <td>84.0</td>\n",
       "      <td>101.0</td>\n",
       "    </tr>\n",
       "    <tr>\n",
       "      <th>12/01/2019 23:50:00</th>\n",
       "      <td>118.0</td>\n",
       "      <td>129.0</td>\n",
       "      <td>124.0</td>\n",
       "      <td>102.0</td>\n",
       "      <td>121.0</td>\n",
       "      <td>86.0</td>\n",
       "      <td>105.0</td>\n",
       "    </tr>\n",
       "    <tr>\n",
       "      <th>12/01/2019 23:55:00</th>\n",
       "      <td>99.0</td>\n",
       "      <td>98.0</td>\n",
       "      <td>104.0</td>\n",
       "      <td>100.0</td>\n",
       "      <td>112.0</td>\n",
       "      <td>102.0</td>\n",
       "      <td>120.0</td>\n",
       "    </tr>\n",
       "  </tbody>\n",
       "</table>\n",
       "<p>8352 rows × 7 columns</p>\n",
       "</div>"
      ],
      "text/plain": [
       "                        f1     f2     f3     f4     f5     f6     f7\n",
       "Timestamp                                                           \n",
       "11/03/2019 00:00:00  120.0  117.0  131.0  107.0  108.0   77.0   74.0\n",
       "11/03/2019 00:05:00  122.0  120.0  125.0  134.0  139.0   94.0   73.0\n",
       "11/03/2019 00:10:00   97.0  108.0   93.0  123.0  125.0  104.0   94.0\n",
       "11/03/2019 00:15:00  111.0  123.0  130.0  114.0  124.0   78.0   81.0\n",
       "11/03/2019 00:20:00  106.0  106.0  119.0   91.0   89.0   93.0   84.0\n",
       "...                    ...    ...    ...    ...    ...    ...    ...\n",
       "12/01/2019 23:35:00  115.0  125.0  134.0  114.0  129.0   97.0  107.0\n",
       "12/01/2019 23:40:00   98.0   80.0  107.0  108.0  122.0  108.0  122.0\n",
       "12/01/2019 23:45:00  132.0  126.0  155.0  116.0  120.0   84.0  101.0\n",
       "12/01/2019 23:50:00  118.0  129.0  124.0  102.0  121.0   86.0  105.0\n",
       "12/01/2019 23:55:00   99.0   98.0  104.0  100.0  112.0  102.0  120.0\n",
       "\n",
       "[8352 rows x 7 columns]"
      ]
     },
     "execution_count": 23,
     "metadata": {},
     "output_type": "execute_result"
    }
   ],
   "source": [
    "df"
   ]
  },
  {
   "cell_type": "code",
   "execution_count": 24,
   "id": "1040bdd6",
   "metadata": {},
   "outputs": [
    {
     "data": {
      "text/plain": [
       "pandas.core.indexes.base.Index"
      ]
     },
     "execution_count": 24,
     "metadata": {},
     "output_type": "execute_result"
    }
   ],
   "source": [
    "type(df.index)"
   ]
  },
  {
   "cell_type": "markdown",
   "id": "2375b354",
   "metadata": {},
   "source": [
    "# Data Preprocessing II \n",
    "## Dataset integrity"
   ]
  },
  {
   "cell_type": "code",
   "execution_count": 25,
   "id": "5e79fe1e",
   "metadata": {},
   "outputs": [
    {
     "data": {
      "image/png": "[encoded data removed]",
      "text/plain": [
       "<Figure size 1152x720 with 7 Axes>"
      ]
     },
     "metadata": {
      "needs_background": "light"
     },
     "output_type": "display_data"
    }
   ],
   "source": [
    "# plot data\n",
    "\n",
    "# map timestamp to a variable x\n",
    "x = np.linspace(0,8352,8352)\n",
    "\n",
    "fig,axes = plt.subplots(nrows=4,ncols=2,figsize=(16,10))\n",
    "\n",
    "axes[0,0].plot(x,df['f1'], lw=1.2)\n",
    "axes[1,0].plot(x,df['f2'], lw=1.2)\n",
    "axes[2,0].plot(x,df['f3'], lw=1.2)\n",
    "axes[3,0].plot(x,df['f4'], lw=1.2)\n",
    "axes[0,1].plot(x,df['f5'], lw=1.2)\n",
    "axes[1,1].plot(x,df['f6'], lw=1.2)\n",
    "axes[2,1].plot(x,df['f7'], lw=1.2)\n",
    "fig.delaxes(axes[3,1])\n",
    "\n",
    "\n",
    "c = 0;\n",
    "for b in range(0,2):\n",
    "    for a in range(0,4):\n",
    "        c += 1\n",
    "        if b == 1 and a == 3:\n",
    "            pass\n",
    "        else:\n",
    "            axes[a,b].set_xlabel('Interval')\n",
    "            axes[a,b].set_title('Detector '+str(c) ,fontweight =\"bold\")\n",
    "            axes[a,b].grid()\n",
    "            if b == 0:\n",
    "                axes[a,b].set_ylabel('Flow (veh/5-Min)')\n",
    "\n",
    "plt.tight_layout()\n",
    "plt.show()"
   ]
  },
  {
   "cell_type": "code",
   "execution_count": 26,
   "id": "ed0238a3",
   "metadata": {},
   "outputs": [
    {
     "data": {
      "image/png": "[encoded data removed]",
      "text/plain": [
       "<Figure size 576x648 with 2 Axes>"
      ]
     },
     "metadata": {
      "needs_background": "light"
     },
     "output_type": "display_data"
    }
   ],
   "source": [
    "# The above as a plot\n",
    "\n",
    "corr = df.corr()\n",
    "\n",
    "# Generate a mask for the upper triangle\n",
    "mask = np.triu(np.ones_like(corr, dtype=bool), 1)\n",
    "\n",
    "# Set up the matplotlib figure\n",
    "f, ax = plt.subplots(figsize=(8, 9))\n",
    "\n",
    "# Draw the heatmap with the mask and correct aspect ratio\n",
    "crr = sns.heatmap(corr, mask=mask, cmap=\"rocket_r\",\n",
    "            square=True, linewidths=.5, cbar_kws={\"shrink\": .5}, annot=True)\n",
    "\n",
    "labels = ['Detector  1','Detector  2','Detector  3','Detector  4','Detector  5',\n",
    "          'Detector  6','Detector  7']\n",
    "crr.set_yticklabels(labels, rotation=0);\n",
    "crr.set_xticklabels(labels, rotation=90);"
   ]
  },
  {
   "cell_type": "markdown",
   "id": "fdb4cdeb",
   "metadata": {},
   "source": [
    "### Check for missing values"
   ]
  },
  {
   "cell_type": "code",
   "execution_count": 27,
   "id": "b66b8086",
   "metadata": {},
   "outputs": [
    {
     "data": {
      "text/plain": [
       "f1     True\n",
       "f2     True\n",
       "f3    False\n",
       "f4    False\n",
       "f5     True\n",
       "f6    False\n",
       "f7    False\n",
       "dtype: bool"
      ]
     },
     "execution_count": 27,
     "metadata": {},
     "output_type": "execute_result"
    }
   ],
   "source": [
    "df.isnull().any()"
   ]
  },
  {
   "cell_type": "code",
   "execution_count": 28,
   "id": "e4c53db2",
   "metadata": {},
   "outputs": [
    {
     "data": {
      "text/plain": [
       "3"
      ]
     },
     "execution_count": 28,
     "metadata": {},
     "output_type": "execute_result"
    }
   ],
   "source": [
    "df.isnull().sum().sum()"
   ]
  },
  {
   "cell_type": "code",
   "execution_count": 29,
   "id": "da92a2c3",
   "metadata": {},
   "outputs": [],
   "source": [
    "# Use interpolation to fill in Missing Completely random (MCR) nan values\n",
    "df.interpolate(inplace = True)"
   ]
  },
  {
   "cell_type": "code",
   "execution_count": 30,
   "id": "fda0545f",
   "metadata": {},
   "outputs": [
    {
     "data": {
      "text/plain": [
       "f1    False\n",
       "f2    False\n",
       "f3    False\n",
       "f4    False\n",
       "f5    False\n",
       "f6    False\n",
       "f7    False\n",
       "dtype: bool"
      ]
     },
     "execution_count": 30,
     "metadata": {},
     "output_type": "execute_result"
    }
   ],
   "source": [
    "df.isnull().any()"
   ]
  },
  {
   "cell_type": "markdown",
   "id": "2274bbb6",
   "metadata": {},
   "source": [
    "### Check for missing values"
   ]
  },
  {
   "cell_type": "code",
   "execution_count": 31,
   "id": "a23707a5",
   "metadata": {},
   "outputs": [],
   "source": [
    "myser1 = pd.to_datetime(df.index)"
   ]
  },
  {
   "cell_type": "code",
   "execution_count": 32,
   "id": "c8987846",
   "metadata": {},
   "outputs": [
    {
     "data": {
      "text/plain": [
       "pandas.core.indexes.datetimes.DatetimeIndex"
      ]
     },
     "execution_count": 32,
     "metadata": {},
     "output_type": "execute_result"
    }
   ],
   "source": [
    "type(myser1)"
   ]
  },
  {
   "cell_type": "code",
   "execution_count": 33,
   "id": "cad67488",
   "metadata": {},
   "outputs": [],
   "source": [
    "# Create a date range for the specified interval using 5min fequency (as per the dataset)\n",
    "date_range = pd.date_range('2019-11-03 00:00', '2019-12-01 23:59', freq='5Min')"
   ]
  },
  {
   "cell_type": "code",
   "execution_count": 34,
   "id": "8bf18693",
   "metadata": {},
   "outputs": [
    {
     "data": {
      "text/plain": [
       "Series([], dtype: datetime64[ns])"
      ]
     },
     "execution_count": 34,
     "metadata": {},
     "output_type": "execute_result"
    }
   ],
   "source": [
    "myser = pd.Series(data=date_range)\n",
    "\n",
    "# check if date range is in TrainVal timestamp and output the missing timestamps\n",
    "myser[~myser.isin(myser1)]"
   ]
  },
  {
   "cell_type": "code",
   "execution_count": 35,
   "id": "71ecf0c5",
   "metadata": {},
   "outputs": [
    {
     "data": {
      "text/plain": [
       "0"
      ]
     },
     "execution_count": 35,
     "metadata": {},
     "output_type": "execute_result"
    }
   ],
   "source": [
    "len(myser[~myser.isin(myser1)])"
   ]
  },
  {
   "cell_type": "markdown",
   "id": "1073f1ce",
   "metadata": {},
   "source": [
    "# Scale Data"
   ]
  },
  {
   "cell_type": "code",
   "execution_count": 36,
   "id": "ca3b7f69",
   "metadata": {},
   "outputs": [],
   "source": [
    "import joblib"
   ]
  },
  {
   "cell_type": "code",
   "execution_count": 37,
   "id": "59157339",
   "metadata": {},
   "outputs": [],
   "source": [
    "scaler_filename = \"scaler.save\"\n",
    "scaler = joblib.load(scaler_filename) "
   ]
  },
  {
   "cell_type": "code",
   "execution_count": 38,
   "id": "d6fe8be7",
   "metadata": {},
   "outputs": [],
   "source": [
    "df_scaled = scaler.transform(df)"
   ]
  },
  {
   "cell_type": "code",
   "execution_count": 39,
   "id": "56171241",
   "metadata": {},
   "outputs": [
    {
     "data": {
      "text/plain": [
       "(8352, 7)"
      ]
     },
     "execution_count": 39,
     "metadata": {},
     "output_type": "execute_result"
    }
   ],
   "source": [
    "df_scaled.shape"
   ]
  },
  {
   "cell_type": "code",
   "execution_count": 40,
   "id": "30bb6723",
   "metadata": {},
   "outputs": [
    {
     "data": {
      "text/plain": [
       "array([[0.23608018, 0.20040486, 0.22830189, ..., 0.15608919, 0.1344697 ,\n",
       "        0.14782609],\n",
       "       [0.24053452, 0.20647773, 0.21698113, ..., 0.20926244, 0.16666667,\n",
       "        0.14565217],\n",
       "       [0.18485523, 0.18218623, 0.15660377, ..., 0.18524871, 0.18560606,\n",
       "        0.19130435],\n",
       "       ...,\n",
       "       [0.26280624, 0.21862348, 0.27358491, ..., 0.17667238, 0.14772727,\n",
       "        0.20652174],\n",
       "       [0.23162584, 0.22469636, 0.21509434, ..., 0.17838765, 0.15151515,\n",
       "        0.21521739],\n",
       "       [0.18930958, 0.16194332, 0.17735849, ..., 0.16295026, 0.18181818,\n",
       "        0.24782609]])"
      ]
     },
     "execution_count": 40,
     "metadata": {},
     "output_type": "execute_result"
    }
   ],
   "source": [
    "df_scaled"
   ]
  },
  {
   "cell_type": "markdown",
   "id": "a9c5cb08",
   "metadata": {},
   "source": [
    "# Save Data"
   ]
  },
  {
   "cell_type": "code",
   "execution_count": 41,
   "id": "6c267488",
   "metadata": {},
   "outputs": [
    {
     "data": {
      "text/plain": [
       "['0000Test.save']"
      ]
     },
     "execution_count": 41,
     "metadata": {},
     "output_type": "execute_result"
    }
   ],
   "source": [
    "scaler_filename = \"0000Test.save\"\n",
    "joblib.dump(df_scaled, scaler_filename) "
   ]
  }
 ],
 "metadata": {
  "kernelspec": {
   "display_name": "Python 3 (ipykernel)",
   "language": "python",
   "name": "python3"
  },
  "language_info": {
   "codemirror_mode": {
    "name": "ipython",
    "version": 3
   },
   "file_extension": ".py",
   "mimetype": "text/x-python",
   "name": "python",
   "nbconvert_exporter": "python",
   "pygments_lexer": "ipython3",
   "version": "3.9.12"
  }
 },
 "nbformat": 4,
 "nbformat_minor": 5
}
