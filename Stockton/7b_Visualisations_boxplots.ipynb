{
 "cells": [
  {
   "cell_type": "code",
   "execution_count": 1,
   "metadata": {},
   "outputs": [],
   "source": [
    "import pandas as pd\n",
    "import numpy as np\n",
    "import matplotlib.pyplot as plt\n",
    "import seaborn as sns\n",
    "import joblib\n",
    "import os"
   ]
  },
  {
   "cell_type": "code",
   "execution_count": 2,
   "metadata": {},
   "outputs": [],
   "source": [
    "import keras_tuner as kt\n",
    "from keras_tuner import RandomSearch\n",
    "# from GEH_LOSS import GEH_loss\n",
    "import geh as ga"
   ]
  },
  {
   "cell_type": "code",
   "execution_count": 3,
   "metadata": {},
   "outputs": [],
   "source": [
    "from sklearn.metrics import mean_absolute_error,mean_squared_error,mean_absolute_percentage_error"
   ]
  },
  {
   "cell_type": "code",
   "execution_count": 4,
   "metadata": {},
   "outputs": [],
   "source": [
    "import relative_accuracy as ra"
   ]
  },
  {
   "cell_type": "code",
   "execution_count": 5,
   "metadata": {},
   "outputs": [],
   "source": [
    "# Load all Inputs and Output Data\n",
    "\n",
    "# 5 mins (1 step ahead)\n",
    "Deep_train_5   = np.load(\"Deep_train_5_multi.npz\")['x'] \n",
    "Output_train_5 = np.load(\"Deep_train_5_multi.npz\")['y']\n",
    "\n",
    "Deep_test_5   = np.load(\"Deep_test_5_multi.npz\")['x'] \n",
    "Output_test_5 = np.load(\"Deep_test_5_multi.npz\")['y'] \n",
    "\n",
    "# 15 mins (3 steps ahead)\n",
    "Deep_train_15   = np.load(\"Deep_train_15_multi.npz\")['x'] \n",
    "Output_train_15 = np.load(\"Deep_train_15_multi.npz\")['y']\n",
    "\n",
    "Deep_test_15   = np.load(\"Deep_test_15_multi.npz\")['x'] \n",
    "Output_test_15 = np.load(\"Deep_test_15_multi.npz\")['y']\n",
    "\n",
    "# 30 mins (6 steps ahead)\n",
    "Deep_train_30   = np.load(\"Deep_train_30_multi.npz\")['x'] \n",
    "Output_train_30 = np.load(\"Deep_train_30_multi.npz\")['y']\n",
    "\n",
    "Deep_test_30   = np.load(\"Deep_test_30_multi.npz\")['x'] \n",
    "Output_test_30 = np.load(\"Deep_test_30_multi.npz\")['y']\n",
    "\n",
    "# 60 mins (12 steps ahead)\n",
    "Deep_train_60   = np.load(\"Deep_train_60_multi.npz\")['x'] \n",
    "Output_train_60 = np.load(\"Deep_train_60_multi.npz\")['y']\n",
    "\n",
    "Deep_test_60   = np.load(\"Deep_test_60_multi.npz\")['x'] \n",
    "Output_test_60 = np.load(\"Deep_test_60_multi.npz\")['y']"
   ]
  },
  {
   "cell_type": "code",
   "execution_count": 6,
   "metadata": {},
   "outputs": [],
   "source": [
    "# Wide Data\n",
    "Xtrain = joblib.load(\"002weeks_train_Multi.save\") \n",
    "Xtest = joblib.load(\"002weeks_test_Multi.save\") "
   ]
  },
  {
   "cell_type": "code",
   "execution_count": 7,
   "metadata": {},
   "outputs": [],
   "source": [
    "# 5 mins\n",
    "# Delete first 15 samples\n",
    "Wide_train_5 = np.delete(Xtrain, np.s_[0:15], 0)\n",
    "Wide_test_5 = np.delete(Xtest, np.s_[0:15], 0)"
   ]
  },
  {
   "cell_type": "code",
   "execution_count": 8,
   "metadata": {},
   "outputs": [],
   "source": [
    "# 15 mins\n",
    "# Delete first 17 samples\n",
    "Wide_train_15 = np.delete(Xtrain, np.s_[0:17], 0)\n",
    "Wide_test_15 = np.delete(Xtest, np.s_[0:17], 0)"
   ]
  },
  {
   "cell_type": "code",
   "execution_count": 9,
   "metadata": {},
   "outputs": [],
   "source": [
    "# 30 mins\n",
    "# Delete first 20 samples\n",
    "Wide_train_30 = np.delete(Xtrain, np.s_[0:20], 0)\n",
    "Wide_test_30 = np.delete(Xtest, np.s_[0:20], 0)"
   ]
  },
  {
   "cell_type": "code",
   "execution_count": 10,
   "metadata": {},
   "outputs": [],
   "source": [
    "# 60 mins\n",
    "# Delete first 27 samples\n",
    "Wide_train_60 = np.delete(Xtrain, np.s_[0:26], 0)\n",
    "Wide_test_60 = np.delete(Xtest, np.s_[0:26], 0)"
   ]
  },
  {
   "cell_type": "code",
   "execution_count": 11,
   "metadata": {},
   "outputs": [
    {
     "name": "stderr",
     "output_type": "stream",
     "text": [
      "C:\\Users\\esugom\\.conda\\envs\\my_env\\lib\\site-packages\\sklearn\\base.py:324: UserWarning: Trying to unpickle estimator MinMaxScaler from version 1.0.2 when using version 1.0.1. This might lead to breaking code or invalid results. Use at your own risk. For more info please refer to:\n",
      "https://scikit-learn.org/stable/modules/model_persistence.html#security-maintainability-limitations\n",
      "  warnings.warn(\n"
     ]
    }
   ],
   "source": [
    "scaler_filename = \"scaler.save\"\n",
    "scaler = joblib.load(scaler_filename) "
   ]
  },
  {
   "cell_type": "code",
   "execution_count": 12,
   "metadata": {},
   "outputs": [],
   "source": [
    "# Wide Day Data\n",
    "Xtest_week = joblib.load(\"002weeks_test.save\") \n",
    "Xtest_day = joblib.load(\"002days_test.save\") \n",
    "\n",
    "Wide_test_5_week = np.delete(Xtest_week, np.s_[0:15], 0)\n",
    "Wide_test_5_day = np.delete(Xtest_day, np.s_[0:15], 0)\n",
    "\n",
    "Wide_test_15_week = np.delete(Xtest_week, np.s_[0:17], 0)\n",
    "Wide_test_15_day = np.delete(Xtest_day, np.s_[0:17], 0)\n",
    "\n",
    "Wide_test_30_week = np.delete(Xtest_week, np.s_[0:20], 0)\n",
    "Wide_test_30_day = np.delete(Xtest_day, np.s_[0:20], 0)\n",
    "\n",
    "Wide_test_60_week = np.delete(Xtest_week, np.s_[0:26], 0)\n",
    "Wide_test_60_day = np.delete(Xtest_day, np.s_[0:26], 0)"
   ]
  },
  {
   "cell_type": "code",
   "execution_count": 13,
   "metadata": {},
   "outputs": [],
   "source": [
    "Test      = pd.read_csv('01test_scaled.csv', index_col=None, parse_dates=[0])"
   ]
  },
  {
   "cell_type": "code",
   "execution_count": 14,
   "metadata": {},
   "outputs": [],
   "source": [
    "# from mpl_toolkits.axes_grid1.inset_locator import inset_axes\n",
    "# from mpl_toolkits.axes_grid1.inset_locator import mark_inset\n",
    "# from matplotlib import ticker\n",
    "# formatter = ticker.ScalarFormatter(useMathText=True)\n",
    "# formatter.set_scientific(True) \n",
    "# formatter.set_powerlimits((-1,1)) \n",
    "# plt.rc('font', size=30)"
   ]
  },
  {
   "cell_type": "markdown",
   "metadata": {},
   "source": [
    "# Reshape Samples"
   ]
  },
  {
   "cell_type": "markdown",
   "metadata": {},
   "source": [
    "The first step is to split the input sequences into subsequences that can be processed by the CNN model. Here, each spatio-temporal sample can be split into three sub-samples, each with five time steps. The CNN can interpret each subsequence of five time steps and provide a time series of interpretations of the subsequences to the LSTM model to process as input."
   ]
  },
  {
   "cell_type": "code",
   "execution_count": 15,
   "metadata": {},
   "outputs": [],
   "source": [
    "# reshape from [samples, timesteps] into [samples, subsequences, timesteps, features]\n",
    "n_features = 7                # No of loop detectors\n",
    "n_seq = 3                     # Subsequences\n",
    "n_steps = 5                   # time-step per subsequence\n",
    "# val_percent = 0.07567       # 2 weeks\n",
    "val_percent = 0.2        \n",
    "batch_size = 32\n",
    "\n",
    "n_seq_ = 3                     # Subsequences\n",
    "n_steps_ = 3                   # time-step per subsequence"
   ]
  },
  {
   "cell_type": "markdown",
   "metadata": {},
   "source": [
    "#### 5 mins"
   ]
  },
  {
   "cell_type": "code",
   "execution_count": 16,
   "metadata": {},
   "outputs": [],
   "source": [
    "# Train\n",
    "# reshape from [samples, timesteps] into [samples, subsequences, timesteps, features]\n",
    "Xt5 = Deep_train_5.reshape((Deep_train_5.shape[0], n_seq, n_steps, n_features))\n",
    "yt5 = scaler.inverse_transform(Output_train_5)"
   ]
  },
  {
   "cell_type": "code",
   "execution_count": 17,
   "metadata": {},
   "outputs": [],
   "source": [
    "# Test\n",
    "# reshape from [samples, timesteps] into [samples, subsequences, timesteps, features]\n",
    "Xv5 = Deep_test_5.reshape((Deep_test_5.shape[0], n_seq, n_steps, n_features))\n",
    "yv5 = scaler.inverse_transform(Output_test_5)"
   ]
  },
  {
   "cell_type": "markdown",
   "metadata": {},
   "source": [
    "#### 15 mins"
   ]
  },
  {
   "cell_type": "code",
   "execution_count": 18,
   "metadata": {},
   "outputs": [],
   "source": [
    "# Train\n",
    "# reshape from [samples, timesteps] into [samples, subsequences, timesteps, features]\n",
    "Xt15 = Deep_train_15.reshape((Deep_train_15.shape[0], n_seq, n_steps, n_features))\n",
    "yt15 = scaler.inverse_transform(Output_train_15)"
   ]
  },
  {
   "cell_type": "code",
   "execution_count": 19,
   "metadata": {},
   "outputs": [],
   "source": [
    "# Test\n",
    "# reshape from [samples, timesteps] into [samples, subsequences, timesteps, features]\n",
    "Xv15 = Deep_test_15.reshape((Deep_test_15.shape[0], n_seq, n_steps, n_features))\n",
    "yv15 = scaler.inverse_transform(Output_test_15)"
   ]
  },
  {
   "cell_type": "markdown",
   "metadata": {},
   "source": [
    "#### 30 mins"
   ]
  },
  {
   "cell_type": "code",
   "execution_count": 20,
   "metadata": {},
   "outputs": [],
   "source": [
    "# Train\n",
    "# reshape from [samples, timesteps] into [samples, subsequences, timesteps, features]\n",
    "Xt30 = Deep_train_30.reshape((Deep_train_30.shape[0], n_seq, n_steps, n_features))\n",
    "yt30 = scaler.inverse_transform(Output_train_30)"
   ]
  },
  {
   "cell_type": "code",
   "execution_count": 21,
   "metadata": {},
   "outputs": [],
   "source": [
    "# Test\n",
    "# reshape from [samples, timesteps] into [samples, subsequences, timesteps, features]\n",
    "Xv30 = Deep_test_30.reshape((Deep_test_30.shape[0], n_seq, n_steps, n_features))\n",
    "yv30 = scaler.inverse_transform(Output_test_30)"
   ]
  },
  {
   "cell_type": "markdown",
   "metadata": {},
   "source": [
    "#### 60 mins"
   ]
  },
  {
   "cell_type": "code",
   "execution_count": 22,
   "metadata": {},
   "outputs": [],
   "source": [
    "# Train\n",
    "# reshape from [samples, timesteps] into [samples, subsequences, timesteps, features]\n",
    "Xt60 = Deep_train_60.reshape((Deep_train_60.shape[0], n_seq, n_steps, n_features))\n",
    "yt60 = scaler.inverse_transform(Output_train_60)"
   ]
  },
  {
   "cell_type": "code",
   "execution_count": 23,
   "metadata": {},
   "outputs": [],
   "source": [
    "# Test\n",
    "# reshape from [samples, timesteps] into [samples, subsequences, timesteps, features]\n",
    "Xv60 = Deep_test_60.reshape((Deep_test_60.shape[0], n_seq, n_steps, n_features))\n",
    "yv60 = scaler.inverse_transform(Output_test_60)"
   ]
  },
  {
   "cell_type": "markdown",
   "metadata": {},
   "source": [
    "### Reshaping the Data for Conv2D layer\n",
    "\n",
    "For Conv2D, there is a need to add one more dimension to show we're dealing with 1 channel (since technically the images are in black and white, only showing values from 0-max flow on a single channel).\n",
    "\n",
    "Conv1D - strides in 1 dimension\n",
    "Conv2D - strides in 2 dimensions"
   ]
  },
  {
   "cell_type": "code",
   "execution_count": 24,
   "metadata": {},
   "outputs": [],
   "source": [
    "# define no_of_channels\n",
    "n_channels = 1"
   ]
  },
  {
   "cell_type": "code",
   "execution_count": 25,
   "metadata": {},
   "outputs": [],
   "source": [
    "# Train data\n",
    "Xt5  =  Xt5.reshape(Xt5.shape[0], n_seq, n_steps, n_features, n_channels)\n",
    "Xt15 =  Xt15.reshape(Xt15.shape[0], n_seq, n_steps, n_features, n_channels)\n",
    "Xt30 =  Xt30.reshape(Xt30.shape[0], n_seq, n_steps, n_features, n_channels)\n",
    "Xt60 =  Xt60.reshape(Xt60.shape[0], n_seq, n_steps, n_features, n_channels)\n",
    "\n",
    "# Validation data\n",
    "Xv5  =  Xv5.reshape(Xv5.shape[0], n_seq, n_steps, n_features, n_channels)\n",
    "Xv15 =  Xv15.reshape(Xv15.shape[0], n_seq, n_steps, n_features, n_channels)\n",
    "Xv30 =  Xv30.reshape(Xv30.shape[0], n_seq, n_steps, n_features, n_channels)\n",
    "Xv60 =  Xv60.reshape(Xv60.shape[0], n_seq, n_steps, n_features, n_channels)"
   ]
  },
  {
   "cell_type": "code",
   "execution_count": 26,
   "metadata": {},
   "outputs": [],
   "source": [
    "Wt5  = Wide_train_5\n",
    "Wt15 = Wide_train_15\n",
    "Wt30 = Wide_train_30\n",
    "Wt60 = Wide_train_60\n",
    "\n",
    "Wv5  = Wide_test_5\n",
    "Wv15 = Wide_test_15\n",
    "Wv30 = Wide_test_30\n",
    "Wv60 = Wide_test_60"
   ]
  },
  {
   "cell_type": "code",
   "execution_count": 27,
   "metadata": {},
   "outputs": [],
   "source": [
    "# Train data\n",
    "Wt5  =  Wt5.reshape(Wt5.shape[0], n_seq_, n_steps_, n_features)\n",
    "Wt15 =  Wt15.reshape(Wt15.shape[0], n_seq_, n_steps_, n_features)\n",
    "Wt30 =  Wt30.reshape(Wt30.shape[0], n_seq_, n_steps_, n_features)\n",
    "Wt60 =  Wt60.reshape(Wt60.shape[0], n_seq_, n_steps_, n_features)\n",
    "\n",
    "# Validation data\n",
    "Wv5  =  Wv5.reshape(Wv5.shape[0], n_seq_, n_steps_, n_features)\n",
    "Wv15 =  Wv15.reshape(Wv15.shape[0], n_seq_, n_steps_, n_features)\n",
    "Wv30 =  Wv30.reshape(Wv30.shape[0], n_seq_, n_steps_, n_features)\n",
    "Wv60 =  Wv60.reshape(Wv60.shape[0], n_seq_, n_steps_, n_features)"
   ]
  },
  {
   "cell_type": "code",
   "execution_count": 28,
   "metadata": {},
   "outputs": [],
   "source": [
    "Wide_test_5_week = np.expand_dims(Wide_test_5_week, 1)\n",
    "Wide_test_15_week = np.expand_dims(Wide_test_15_week, 1)\n",
    "Wide_test_30_week = np.expand_dims(Wide_test_30_week, 1)\n",
    "Wide_test_60_week = np.expand_dims(Wide_test_60_week, 1)\n",
    "\n",
    "Wide_test_5_day = np.expand_dims(Wide_test_5_day, 1)\n",
    "Wide_test_15_day = np.expand_dims(Wide_test_15_day, 1)\n",
    "Wide_test_30_day = np.expand_dims(Wide_test_30_day, 1)\n",
    "Wide_test_60_day = np.expand_dims(Wide_test_60_day, 1)"
   ]
  },
  {
   "cell_type": "code",
   "execution_count": 29,
   "metadata": {},
   "outputs": [],
   "source": [
    "Wv5w  = Wide_test_5_week\n",
    "Wv15w = Wide_test_15_week\n",
    "Wv30w = Wide_test_30_week\n",
    "Wv60w = Wide_test_60_week\n",
    "\n",
    "Wv5x  = Wide_test_5_day\n",
    "Wv15x = Wide_test_15_day\n",
    "Wv30x = Wide_test_30_day\n",
    "Wv60x = Wide_test_60_day"
   ]
  },
  {
   "cell_type": "code",
   "execution_count": 30,
   "metadata": {},
   "outputs": [
    {
     "data": {
      "text/plain": [
       "(31089, 3, 5, 7, 1)"
      ]
     },
     "execution_count": 30,
     "metadata": {},
     "output_type": "execute_result"
    }
   ],
   "source": [
    "Xt5.shape"
   ]
  },
  {
   "cell_type": "code",
   "execution_count": 31,
   "metadata": {},
   "outputs": [
    {
     "data": {
      "text/plain": [
       "(31089, 3, 3, 7)"
      ]
     },
     "execution_count": 31,
     "metadata": {},
     "output_type": "execute_result"
    }
   ],
   "source": [
    "Wt5.shape"
   ]
  },
  {
   "cell_type": "markdown",
   "metadata": {},
   "source": [
    "# CNN-LSTM model"
   ]
  },
  {
   "cell_type": "code",
   "execution_count": 32,
   "metadata": {},
   "outputs": [],
   "source": [
    "from tensorflow import keras\n",
    "from keras_self_attention import SeqSelfAttention\n",
    "\n",
    "# Early Stopping\n",
    "early_stop = keras.callbacks.EarlyStopping(monitor='val_loss',patience=5, restore_best_weights = True)"
   ]
  },
  {
   "cell_type": "code",
   "execution_count": 33,
   "metadata": {},
   "outputs": [
    {
     "data": {
      "text/plain": [
       "(31089, 9, 7)"
      ]
     },
     "execution_count": 33,
     "metadata": {},
     "output_type": "execute_result"
    }
   ],
   "source": [
    "Wide_train_5.shape"
   ]
  },
  {
   "cell_type": "markdown",
   "metadata": {},
   "source": [
    "# 5 mins ahead"
   ]
  },
  {
   "cell_type": "code",
   "execution_count": 34,
   "metadata": {},
   "outputs": [],
   "source": [
    "model5 = keras.models.load_model(\"my_dir/8a-5\") "
   ]
  },
  {
   "cell_type": "code",
   "execution_count": 35,
   "metadata": {},
   "outputs": [
    {
     "name": "stdout",
     "output_type": "stream",
     "text": [
      "WARNING:tensorflow:Layer lstm_6 will not use cuDNN kernels since it doesn't meet the criteria. It will use a generic GPU kernel as fallback when running on GPU.\n",
      "WARNING:tensorflow:Layer lstm_7 will not use cuDNN kernels since it doesn't meet the criteria. It will use a generic GPU kernel as fallback when running on GPU.\n",
      "WARNING:tensorflow:Layer lstm_4 will not use cuDNN kernels since it doesn't meet the criteria. It will use a generic GPU kernel as fallback when running on GPU.\n",
      "WARNING:tensorflow:Layer lstm_4 will not use cuDNN kernels since it doesn't meet the criteria. It will use a generic GPU kernel as fallback when running on GPU.\n",
      "WARNING:tensorflow:Layer lstm_4 will not use cuDNN kernels since it doesn't meet the criteria. It will use a generic GPU kernel as fallback when running on GPU.\n",
      "WARNING:tensorflow:Layer lstm_5 will not use cuDNN kernels since it doesn't meet the criteria. It will use a generic GPU kernel as fallback when running on GPU.\n",
      "WARNING:tensorflow:Layer lstm_5 will not use cuDNN kernels since it doesn't meet the criteria. It will use a generic GPU kernel as fallback when running on GPU.\n",
      "WARNING:tensorflow:Layer lstm_5 will not use cuDNN kernels since it doesn't meet the criteria. It will use a generic GPU kernel as fallback when running on GPU.\n"
     ]
    }
   ],
   "source": [
    "model5_At_Conv_LSTM = keras.models.load_model(\"my_dir/6ai-Conv-LSTM-5\") "
   ]
  },
  {
   "cell_type": "code",
   "execution_count": 36,
   "metadata": {},
   "outputs": [
    {
     "data": {
      "text/plain": [
       "array([[ 67.75817 ,  70.07021 ,  75.87873 , ...,  72.46061 ,  51.128765,\n",
       "         51.68292 ],\n",
       "       [ 66.7092  ,  68.1204  ,  76.67665 , ...,  71.107735,  50.77759 ,\n",
       "         47.561333],\n",
       "       [ 54.350677,  57.3212  ,  60.963604, ...,  58.357147,  40.769318,\n",
       "         42.22266 ],\n",
       "       ...,\n",
       "       [136.07123 , 142.76152 , 152.49614 , ..., 144.12524 ,  97.750946,\n",
       "         79.61091 ],\n",
       "       [122.816444, 126.396614, 135.78203 , ..., 127.48604 ,  90.53893 ,\n",
       "         80.34822 ],\n",
       "       [129.65399 , 135.15091 , 144.2694  , ..., 144.32944 ,  93.88534 ,\n",
       "         83.36094 ]], dtype=float32)"
      ]
     },
     "execution_count": 36,
     "metadata": {},
     "output_type": "execute_result"
    }
   ],
   "source": [
    "model5.predict((Wv5,Xv5))"
   ]
  },
  {
   "cell_type": "code",
   "execution_count": 37,
   "metadata": {},
   "outputs": [
    {
     "data": {
      "text/plain": [
       "(4017, 1, 14)"
      ]
     },
     "execution_count": 37,
     "metadata": {},
     "output_type": "execute_result"
    }
   ],
   "source": [
    "Wv5w.shape"
   ]
  },
  {
   "cell_type": "code",
   "execution_count": 38,
   "metadata": {},
   "outputs": [
    {
     "data": {
      "text/plain": [
       "array([[ 70.624954,  71.54003 ,  76.580734, ...,  72.43491 ,  50.32857 ,\n",
       "         50.69841 ],\n",
       "       [ 63.515717,  65.24814 ,  69.11457 , ...,  67.16253 ,  44.838844,\n",
       "         45.719543],\n",
       "       [ 60.127365,  61.697765,  65.25825 , ...,  63.772118,  45.086952,\n",
       "         46.045837],\n",
       "       ...,\n",
       "       [140.17044 , 144.79956 , 156.70667 , ..., 155.73622 , 102.937744,\n",
       "         90.69726 ],\n",
       "       [125.73845 , 130.36276 , 138.5847  , ..., 130.6186  ,  87.36866 ,\n",
       "         78.39825 ],\n",
       "       [122.36534 , 125.62282 , 138.19395 , ..., 140.37434 ,  93.705894,\n",
       "         84.93204 ]], dtype=float32)"
      ]
     },
     "execution_count": 38,
     "metadata": {},
     "output_type": "execute_result"
    }
   ],
   "source": [
    "model5_At_Conv_LSTM.predict((Wv5w, Wv5x, Xv5))"
   ]
  },
  {
   "cell_type": "markdown",
   "metadata": {},
   "source": [
    "### Evaluation on inverse_transform"
   ]
  },
  {
   "cell_type": "code",
   "execution_count": 40,
   "metadata": {},
   "outputs": [
    {
     "name": "stdout",
     "output_type": "stream",
     "text": [
      "[17.020972749672165, 22.582899104427142, 8.720836162074344]\n",
      "[16.259037904106176, 21.47564875043329, 8.562668045852716]\n"
     ]
    }
   ],
   "source": [
    "test_predictions5 = model5.predict((Wv5,Xv5))\n",
    "\n",
    "\n",
    "MSE5 = mean_squared_error(yv5,test_predictions5)\n",
    "\n",
    "MAE5 = mean_absolute_error(yv5,test_predictions5)\n",
    "\n",
    "RMSE5 = np.sqrt(MSE5)\n",
    "\n",
    "MAPE5 = mean_absolute_percentage_error(yv5,test_predictions5)*100\n",
    "\n",
    "eval5 = [MAE5, RMSE5, MAPE5]\n",
    "print(eval5)\n",
    "\n",
    "test_predictions5 = model5_At_Conv_LSTM.predict((Wv5w, Wv5x, Xv5))\n",
    "\n",
    "\n",
    "MSE5 = mean_squared_error(yv5,test_predictions5)\n",
    "\n",
    "MAE5 = mean_absolute_error(yv5,test_predictions5)\n",
    "\n",
    "RMSE5 = np.sqrt(MSE5)\n",
    "\n",
    "MAPE5 = mean_absolute_percentage_error(yv5,test_predictions5)*100\n",
    "\n",
    "eval5a = [MAE5, RMSE5, MAPE5]\n",
    "print(eval5a)"
   ]
  },
  {
   "cell_type": "code",
   "execution_count": 41,
   "metadata": {},
   "outputs": [
    {
     "name": "stdout",
     "output_type": "stream",
     "text": [
      "[array([18.69375385, 20.22319963, 19.95069049, 14.43920859, 18.17894185,\n",
      "       14.91455557, 12.74645928]), array([24.11510859, 26.86852495, 25.76509622, 18.8824726 , 24.11827346,\n",
      "       19.6312496 , 16.70299966]), array([9.84924552, 9.87649404, 9.25110237, 7.22043898, 7.91523972,\n",
      "       8.73054696, 8.20278556])]\n"
     ]
    }
   ],
   "source": [
    "test_predictions5 = model5.predict((Wv5,Xv5))\n",
    "\n",
    "\n",
    "MSE5 = mean_squared_error(yv5,test_predictions5, multioutput='raw_values')\n",
    "\n",
    "MAE5 = mean_absolute_error(yv5,test_predictions5, multioutput='raw_values')\n",
    "\n",
    "RMSE5 = np.sqrt(MSE5)\n",
    "\n",
    "MAPE5 = mean_absolute_percentage_error(yv5,test_predictions5, multioutput='raw_values')*100\n",
    "\n",
    "eval5 = [MAE5, RMSE5, MAPE5]\n",
    "print(eval5)"
   ]
  },
  {
   "cell_type": "code",
   "execution_count": 42,
   "metadata": {},
   "outputs": [
    {
     "name": "stdout",
     "output_type": "stream",
     "text": [
      "[array([17.74732322, 19.31943375, 18.73966983, 14.13711709, 17.5895313 ,\n",
      "       14.19297548, 12.08721466]), array([22.90577043, 25.47388929, 24.11365876, 18.41198083, 22.97128924,\n",
      "       18.74486088, 15.9784716 ]), array([9.66117166, 9.77296784, 8.97340329, 7.2296475 , 7.86734088,\n",
      "       8.51389453, 7.92025062])]\n"
     ]
    }
   ],
   "source": [
    "test_predictions5 = model5_At_Conv_LSTM.predict((Wv5w, Wv5x, Xv5))\n",
    "\n",
    "\n",
    "MSE5 = mean_squared_error(yv5,test_predictions5, multioutput='raw_values')\n",
    "\n",
    "MAE5 = mean_absolute_error(yv5,test_predictions5, multioutput='raw_values')\n",
    "\n",
    "RMSE5 = np.sqrt(MSE5)\n",
    "\n",
    "MAPE5 = mean_absolute_percentage_error(yv5,test_predictions5, multioutput='raw_values')*100\n",
    "\n",
    "eval5a = [MAE5, RMSE5, MAPE5]\n",
    "print(eval5a)"
   ]
  },
  {
   "cell_type": "code",
   "execution_count": 43,
   "metadata": {},
   "outputs": [
    {
     "data": {
      "image/png": "[encoded data removed]",
      "text/plain": [
       "<Figure size 640x480 with 1 Axes>"
      ]
     },
     "metadata": {},
     "output_type": "display_data"
    }
   ],
   "source": [
    "ax = sns.boxplot(data=[eval5[0],eval5a[0]])"
   ]
  },
  {
   "cell_type": "markdown",
   "metadata": {},
   "source": [
    "# 15 mins ahead"
   ]
  },
  {
   "cell_type": "code",
   "execution_count": 44,
   "metadata": {},
   "outputs": [],
   "source": [
    "model15 = keras.models.load_model(\"my_dir/8a-15\")"
   ]
  },
  {
   "cell_type": "code",
   "execution_count": 45,
   "metadata": {},
   "outputs": [
    {
     "name": "stdout",
     "output_type": "stream",
     "text": [
      "WARNING:tensorflow:Layer lstm_6 will not use cuDNN kernels since it doesn't meet the criteria. It will use a generic GPU kernel as fallback when running on GPU.\n",
      "WARNING:tensorflow:Layer lstm_7 will not use cuDNN kernels since it doesn't meet the criteria. It will use a generic GPU kernel as fallback when running on GPU.\n",
      "WARNING:tensorflow:Layer lstm_4 will not use cuDNN kernels since it doesn't meet the criteria. It will use a generic GPU kernel as fallback when running on GPU.\n",
      "WARNING:tensorflow:Layer lstm_4 will not use cuDNN kernels since it doesn't meet the criteria. It will use a generic GPU kernel as fallback when running on GPU.\n",
      "WARNING:tensorflow:Layer lstm_4 will not use cuDNN kernels since it doesn't meet the criteria. It will use a generic GPU kernel as fallback when running on GPU.\n",
      "WARNING:tensorflow:Layer lstm_5 will not use cuDNN kernels since it doesn't meet the criteria. It will use a generic GPU kernel as fallback when running on GPU.\n",
      "WARNING:tensorflow:Layer lstm_5 will not use cuDNN kernels since it doesn't meet the criteria. It will use a generic GPU kernel as fallback when running on GPU.\n",
      "WARNING:tensorflow:Layer lstm_5 will not use cuDNN kernels since it doesn't meet the criteria. It will use a generic GPU kernel as fallback when running on GPU.\n"
     ]
    }
   ],
   "source": [
    "model15_At_Conv_LSTM = keras.models.load_model(\"my_dir/6ai-Conv-LSTM-15\") "
   ]
  },
  {
   "cell_type": "code",
   "execution_count": 46,
   "metadata": {},
   "outputs": [
    {
     "data": {
      "text/plain": [
       "array([[ 61.233555,  65.03271 ,  70.81219 , ...,  69.48351 ,  44.72526 ,\n",
       "         47.613144],\n",
       "       [ 58.509598,  61.455173,  66.41412 , ...,  63.012486,  42.03208 ,\n",
       "         42.759056],\n",
       "       [ 59.338234,  62.80031 ,  67.66392 , ...,  64.04135 ,  41.74335 ,\n",
       "         42.258175],\n",
       "       ...,\n",
       "       [141.46136 , 142.42258 , 154.08113 , ..., 158.07558 , 104.77337 ,\n",
       "         93.44982 ],\n",
       "       [136.52338 , 145.02214 , 156.93636 , ..., 159.97939 , 106.66768 ,\n",
       "         87.12106 ],\n",
       "       [118.28583 , 128.00305 , 131.39111 , ..., 128.71664 ,  96.54586 ,\n",
       "         83.05749 ]], dtype=float32)"
      ]
     },
     "execution_count": 46,
     "metadata": {},
     "output_type": "execute_result"
    }
   ],
   "source": [
    "model15.predict((Wv15,Xv15))"
   ]
  },
  {
   "cell_type": "code",
   "execution_count": 47,
   "metadata": {},
   "outputs": [
    {
     "data": {
      "text/plain": [
       "array([[ 62.400906,  65.96764 ,  69.66801 , ...,  70.309586,  46.35785 ,\n",
       "         45.259422],\n",
       "       [ 62.746403,  65.36727 ,  70.11771 , ...,  69.48969 ,  45.326225,\n",
       "         46.493324],\n",
       "       [ 63.943897,  66.1836  ,  70.83761 , ...,  70.241714,  46.05115 ,\n",
       "         48.66731 ],\n",
       "       ...,\n",
       "       [136.4458  , 139.11201 , 154.78513 , ..., 154.78029 , 102.37128 ,\n",
       "         97.54554 ],\n",
       "       [129.60031 , 133.63426 , 145.89555 , ..., 147.3115  ,  96.74161 ,\n",
       "         90.41813 ],\n",
       "       [123.01244 , 128.53119 , 137.22485 , ..., 138.3281  ,  89.25339 ,\n",
       "         81.83157 ]], dtype=float32)"
      ]
     },
     "execution_count": 47,
     "metadata": {},
     "output_type": "execute_result"
    }
   ],
   "source": [
    "model15_At_Conv_LSTM.predict((Wv15w, Wv15x, Xv15))"
   ]
  },
  {
   "cell_type": "markdown",
   "metadata": {},
   "source": [
    "### Evaluation on inverse_transform"
   ]
  },
  {
   "cell_type": "code",
   "execution_count": 48,
   "metadata": {},
   "outputs": [
    {
     "name": "stdout",
     "output_type": "stream",
     "text": [
      "[18.566718252603106, 24.35166987056123, 9.676724042656511]\n",
      "[17.49897421270349, 22.98040728523044, 9.175298073952796]\n"
     ]
    }
   ],
   "source": [
    "test_predictions15 = model15.predict((Wv15,Xv15))\n",
    "\n",
    "\n",
    "MSE15 = mean_squared_error(yv15,test_predictions15)\n",
    "\n",
    "MAE15 = mean_absolute_error(yv15,test_predictions15)\n",
    "\n",
    "RMSE15 = np.sqrt(MSE15)\n",
    "\n",
    "MAPE15 = mean_absolute_percentage_error(yv15,test_predictions15)*100\n",
    "\n",
    "eval15 = [MAE15, RMSE15, MAPE15]\n",
    "print(eval15)\n",
    "\n",
    "\n",
    "test_predictions15 = model15_At_Conv_LSTM.predict((Wv15w, Wv15x, Xv15))\n",
    "\n",
    "\n",
    "MSE15 = mean_squared_error(yv15,test_predictions15)\n",
    "\n",
    "MAE15 = mean_absolute_error(yv15,test_predictions15)\n",
    "\n",
    "RMSE15 = np.sqrt(MSE15)\n",
    "\n",
    "MAPE15 = mean_absolute_percentage_error(yv15,test_predictions15)*100\n",
    "\n",
    "eval15a = [MAE15, RMSE15, MAPE15]\n",
    "print(eval15a)"
   ]
  },
  {
   "cell_type": "code",
   "execution_count": 49,
   "metadata": {},
   "outputs": [
    {
     "name": "stdout",
     "output_type": "stream",
     "text": [
      "[array([19.0653747 , 20.83566532, 20.69844905, 16.22666169, 20.97499377,\n",
      "       17.44080182, 14.72508141]), array([24.73098788, 27.57751729, 26.82262951, 20.86828396, 27.0952544 ,\n",
      "       22.76557727, 19.27491917]), array([10.21989352, 10.33237195,  9.68332773,  8.24790849,  9.27232288,\n",
      "       10.39765434,  9.58358939])]\n"
     ]
    }
   ],
   "source": [
    "test_predictions15 = model15.predict((Wv15,Xv15))\n",
    "\n",
    "\n",
    "MSE15 = mean_squared_error(yv15,test_predictions15, multioutput='raw_values')\n",
    "\n",
    "MAE15 = mean_absolute_error(yv15,test_predictions15, multioutput='raw_values')\n",
    "\n",
    "RMSE15 = np.sqrt(MSE15)\n",
    "\n",
    "MAPE15 = mean_absolute_percentage_error(yv15,test_predictions15, multioutput='raw_values')*100\n",
    "\n",
    "eval15 = [MAE15, RMSE15, MAPE15]\n",
    "print(eval15)"
   ]
  },
  {
   "cell_type": "code",
   "execution_count": 50,
   "metadata": {},
   "outputs": [
    {
     "name": "stdout",
     "output_type": "stream",
     "text": [
      "[array([18.23630592, 19.95123186, 19.55727123, 14.80806   , 19.47484018,\n",
      "       16.48834748, 13.97676282]), array([23.5978851 , 26.30675344, 25.22813498, 19.01871469, 25.17410879,\n",
      "       21.87270271, 18.37028023]), array([9.78015442, 9.99098165, 9.29635685, 7.66885559, 8.81142806,\n",
      "       9.688181  , 8.99112895])]\n"
     ]
    }
   ],
   "source": [
    "test_predictions15 = model15_At_Conv_LSTM.predict((Wv15w, Wv15x, Xv15))\n",
    "\n",
    "\n",
    "MSE15 = mean_squared_error(yv15,test_predictions15, multioutput='raw_values')\n",
    "\n",
    "MAE15 = mean_absolute_error(yv15,test_predictions15, multioutput='raw_values')\n",
    "\n",
    "RMSE15 = np.sqrt(MSE15)\n",
    "\n",
    "MAPE15 = mean_absolute_percentage_error(yv15,test_predictions15, multioutput='raw_values')*100\n",
    "\n",
    "eval15a = [MAE15, RMSE15, MAPE15]\n",
    "print(eval15a)"
   ]
  },
  {
   "cell_type": "code",
   "execution_count": 51,
   "metadata": {},
   "outputs": [
    {
     "data": {
      "image/png": "[encoded data removed]",
      "text/plain": [
       "<Figure size 640x480 with 1 Axes>"
      ]
     },
     "metadata": {},
     "output_type": "display_data"
    }
   ],
   "source": [
    "ax = sns.boxplot(data=[eval15[0],eval15a[0]])"
   ]
  },
  {
   "cell_type": "markdown",
   "metadata": {},
   "source": [
    "# 30 mins ahead"
   ]
  },
  {
   "cell_type": "code",
   "execution_count": 52,
   "metadata": {},
   "outputs": [],
   "source": [
    "model30 = keras.models.load_model(\"my_dir/8a-30\")"
   ]
  },
  {
   "cell_type": "code",
   "execution_count": 53,
   "metadata": {},
   "outputs": [
    {
     "name": "stdout",
     "output_type": "stream",
     "text": [
      "WARNING:tensorflow:Layer lstm_6 will not use cuDNN kernels since it doesn't meet the criteria. It will use a generic GPU kernel as fallback when running on GPU.\n",
      "WARNING:tensorflow:Layer lstm_7 will not use cuDNN kernels since it doesn't meet the criteria. It will use a generic GPU kernel as fallback when running on GPU.\n",
      "WARNING:tensorflow:Layer lstm_4 will not use cuDNN kernels since it doesn't meet the criteria. It will use a generic GPU kernel as fallback when running on GPU.\n",
      "WARNING:tensorflow:Layer lstm_4 will not use cuDNN kernels since it doesn't meet the criteria. It will use a generic GPU kernel as fallback when running on GPU.\n",
      "WARNING:tensorflow:Layer lstm_4 will not use cuDNN kernels since it doesn't meet the criteria. It will use a generic GPU kernel as fallback when running on GPU.\n",
      "WARNING:tensorflow:Layer lstm_5 will not use cuDNN kernels since it doesn't meet the criteria. It will use a generic GPU kernel as fallback when running on GPU.\n",
      "WARNING:tensorflow:Layer lstm_5 will not use cuDNN kernels since it doesn't meet the criteria. It will use a generic GPU kernel as fallback when running on GPU.\n",
      "WARNING:tensorflow:Layer lstm_5 will not use cuDNN kernels since it doesn't meet the criteria. It will use a generic GPU kernel as fallback when running on GPU.\n"
     ]
    }
   ],
   "source": [
    "model30_At_Conv_LSTM = keras.models.load_model(\"my_dir/6ai-Conv-LSTM-30\") "
   ]
  },
  {
   "cell_type": "code",
   "execution_count": 54,
   "metadata": {},
   "outputs": [
    {
     "data": {
      "text/plain": [
       "array([[ 59.0234  ,  59.745167,  67.86776 , ...,  65.548004,  40.758648,\n",
       "         39.201572],\n",
       "       [ 53.89638 ,  54.72495 ,  61.49757 , ...,  59.944675,  39.26347 ,\n",
       "         39.009193],\n",
       "       [ 54.58972 ,  57.045506,  60.91811 , ...,  58.298862,  37.405384,\n",
       "         37.499847],\n",
       "       ...,\n",
       "       [150.79024 , 150.52498 , 167.64687 , ..., 166.45929 , 112.65737 ,\n",
       "        101.25627 ],\n",
       "       [128.621   , 132.57933 , 143.09807 , ..., 144.51878 , 102.21832 ,\n",
       "         95.60763 ],\n",
       "       [127.51358 , 131.426   , 141.88033 , ..., 134.4235  ,  91.96049 ,\n",
       "         84.91921 ]], dtype=float32)"
      ]
     },
     "execution_count": 54,
     "metadata": {},
     "output_type": "execute_result"
    }
   ],
   "source": [
    "model30.predict((Wv30,Xv30))"
   ]
  },
  {
   "cell_type": "code",
   "execution_count": 55,
   "metadata": {},
   "outputs": [
    {
     "data": {
      "text/plain": [
       "array([[ 59.362717,  61.451447,  65.54517 , ...,  62.3582  ,  41.758633,\n",
       "         42.10194 ],\n",
       "       [ 56.11958 ,  57.04493 ,  62.041496, ...,  58.339157,  39.207508,\n",
       "         40.504757],\n",
       "       [ 54.833553,  55.541576,  60.595062, ...,  57.656975,  38.716812,\n",
       "         41.292133],\n",
       "       ...,\n",
       "       [144.08817 , 147.82147 , 160.07211 , ..., 158.37105 , 110.52066 ,\n",
       "        101.1467  ],\n",
       "       [134.45312 , 137.13098 , 149.60304 , ..., 147.06602 , 100.94774 ,\n",
       "         93.341095],\n",
       "       [120.55323 , 122.69648 , 134.74852 , ..., 132.30182 ,  85.642555,\n",
       "         80.89279 ]], dtype=float32)"
      ]
     },
     "execution_count": 55,
     "metadata": {},
     "output_type": "execute_result"
    }
   ],
   "source": [
    "model30_At_Conv_LSTM.predict((Wv30w, Wv30x, Xv30))"
   ]
  },
  {
   "cell_type": "markdown",
   "metadata": {},
   "source": [
    "### Evaluation on inverse_transform"
   ]
  },
  {
   "cell_type": "code",
   "execution_count": 56,
   "metadata": {},
   "outputs": [
    {
     "name": "stdout",
     "output_type": "stream",
     "text": [
      "[18.891957372872685, 24.91824791801469, 9.803982234181085]\n",
      "[17.956378501223256, 23.631854404328024, 9.454296143451282]\n"
     ]
    }
   ],
   "source": [
    "test_predictions30 = model30.predict((Wv30,Xv30))\n",
    "\n",
    "\n",
    "MSE30 = mean_squared_error(yv30,test_predictions30)\n",
    "\n",
    "MAE30 = mean_absolute_error(yv30,test_predictions30)\n",
    "\n",
    "RMSE30 = np.sqrt(MSE30)\n",
    "\n",
    "MAPE30 = mean_absolute_percentage_error(yv30,test_predictions30)*100\n",
    "\n",
    "eval30 = [MAE30, RMSE30, MAPE30]\n",
    "print(eval30)\n",
    "\n",
    "\n",
    "test_predictions30 = model30_At_Conv_LSTM.predict((Wv30w, Wv30x, Xv30))\n",
    "\n",
    "\n",
    "MSE30 = mean_squared_error(yv30,test_predictions30)\n",
    "\n",
    "MAE30 = mean_absolute_error(yv30,test_predictions30)\n",
    "\n",
    "RMSE30 = np.sqrt(MSE30)\n",
    "\n",
    "MAPE30 = mean_absolute_percentage_error(yv30,test_predictions30)*100\n",
    "\n",
    "eval30a = [MAE30, RMSE30, MAPE30]\n",
    "print(eval30a)"
   ]
  },
  {
   "cell_type": "code",
   "execution_count": 57,
   "metadata": {},
   "outputs": [
    {
     "name": "stdout",
     "output_type": "stream",
     "text": [
      "[array([19.50623181, 21.43336259, 21.23623029, 16.21086945, 21.51518696,\n",
      "       17.7250458 , 14.61677471]), array([25.40774482, 28.37509295, 27.57045045, 21.00402223, 27.90847804,\n",
      "       23.3013416 , 19.30284445]), array([10.50546598, 10.60548126,  9.95930202,  8.24952994,  9.46666697,\n",
      "       10.39044764,  9.45098182])]\n"
     ]
    }
   ],
   "source": [
    "test_predictions30 = model30.predict((Wv30,Xv30))\n",
    "\n",
    "\n",
    "MSE30 = mean_squared_error(yv30,test_predictions30, multioutput='raw_values')\n",
    "\n",
    "MAE30 = mean_absolute_error(yv30,test_predictions30, multioutput='raw_values')\n",
    "\n",
    "RMSE30 = np.sqrt(MSE30)\n",
    "\n",
    "MAPE30 = mean_absolute_percentage_error(yv30,test_predictions30, multioutput='raw_values')*100\n",
    "\n",
    "eval30 = [MAE30, RMSE30, MAPE30]\n",
    "print(eval30)"
   ]
  },
  {
   "cell_type": "code",
   "execution_count": 58,
   "metadata": {},
   "outputs": [
    {
     "name": "stdout",
     "output_type": "stream",
     "text": [
      "[array([18.56508746, 21.06065633, 19.96079324, 15.04172828, 19.78655042,\n",
      "       17.02523717, 14.25459662]), array([24.00849994, 27.71677939, 25.81467547, 19.40574706, 25.62322168,\n",
      "       22.63154601, 18.78581955]), array([10.13647354, 10.40968827,  9.55595662,  7.79062833,  8.95115342,\n",
      "       10.05364415,  9.28252869])]\n"
     ]
    }
   ],
   "source": [
    "test_predictions30 = model30_At_Conv_LSTM.predict((Wv30w, Wv30x, Xv30))\n",
    "\n",
    "\n",
    "MSE30 = mean_squared_error(yv30,test_predictions30, multioutput='raw_values')\n",
    "\n",
    "MAE30 = mean_absolute_error(yv30,test_predictions30, multioutput='raw_values')\n",
    "\n",
    "RMSE30 = np.sqrt(MSE30)\n",
    "\n",
    "MAPE30 = mean_absolute_percentage_error(yv30,test_predictions30, multioutput='raw_values')*100\n",
    "\n",
    "eval30a = [MAE30, RMSE30, MAPE30]\n",
    "print(eval30a)"
   ]
  },
  {
   "cell_type": "code",
   "execution_count": 59,
   "metadata": {},
   "outputs": [
    {
     "data": {
      "image/png": "[encoded data removed]",
      "text/plain": [
       "<Figure size 640x480 with 1 Axes>"
      ]
     },
     "metadata": {},
     "output_type": "display_data"
    }
   ],
   "source": [
    "ax = sns.boxplot(data=[eval30[0],eval30a[0]])"
   ]
  },
  {
   "cell_type": "markdown",
   "metadata": {},
   "source": [
    "# 60 mins ahead"
   ]
  },
  {
   "cell_type": "code",
   "execution_count": 60,
   "metadata": {},
   "outputs": [],
   "source": [
    "model60 = keras.models.load_model(\"my_dir/8a-60\")"
   ]
  },
  {
   "cell_type": "code",
   "execution_count": 61,
   "metadata": {},
   "outputs": [
    {
     "name": "stdout",
     "output_type": "stream",
     "text": [
      "WARNING:tensorflow:Layer lstm_6 will not use cuDNN kernels since it doesn't meet the criteria. It will use a generic GPU kernel as fallback when running on GPU.\n",
      "WARNING:tensorflow:Layer lstm_7 will not use cuDNN kernels since it doesn't meet the criteria. It will use a generic GPU kernel as fallback when running on GPU.\n",
      "WARNING:tensorflow:Layer lstm_4 will not use cuDNN kernels since it doesn't meet the criteria. It will use a generic GPU kernel as fallback when running on GPU.\n",
      "WARNING:tensorflow:Layer lstm_4 will not use cuDNN kernels since it doesn't meet the criteria. It will use a generic GPU kernel as fallback when running on GPU.\n",
      "WARNING:tensorflow:Layer lstm_4 will not use cuDNN kernels since it doesn't meet the criteria. It will use a generic GPU kernel as fallback when running on GPU.\n",
      "WARNING:tensorflow:Layer lstm_5 will not use cuDNN kernels since it doesn't meet the criteria. It will use a generic GPU kernel as fallback when running on GPU.\n",
      "WARNING:tensorflow:Layer lstm_5 will not use cuDNN kernels since it doesn't meet the criteria. It will use a generic GPU kernel as fallback when running on GPU.\n",
      "WARNING:tensorflow:Layer lstm_5 will not use cuDNN kernels since it doesn't meet the criteria. It will use a generic GPU kernel as fallback when running on GPU.\n"
     ]
    }
   ],
   "source": [
    "model60_At_Conv_LSTM = keras.models.load_model(\"my_dir/6ai-Conv-LSTM-60\")"
   ]
  },
  {
   "cell_type": "code",
   "execution_count": 62,
   "metadata": {},
   "outputs": [
    {
     "data": {
      "text/plain": [
       "array([[ 52.280888,  54.74058 ,  60.751358, ...,  61.27484 ,  42.03901 ,\n",
       "         41.673428],\n",
       "       [ 49.847794,  52.421577,  56.76582 , ...,  55.568592,  39.15346 ,\n",
       "         39.446575],\n",
       "       [ 47.525677,  50.158978,  53.37129 , ...,  52.30347 ,  37.455605,\n",
       "         40.917038],\n",
       "       ...,\n",
       "       [134.21024 , 138.58275 , 148.93797 , ..., 144.45366 ,  95.04853 ,\n",
       "         86.20822 ],\n",
       "       [130.81146 , 137.22534 , 144.57616 , ..., 140.95177 ,  93.62418 ,\n",
       "         84.92316 ],\n",
       "       [122.34152 , 125.462166, 135.98528 , ..., 132.48659 ,  88.46223 ,\n",
       "         81.21717 ]], dtype=float32)"
      ]
     },
     "execution_count": 62,
     "metadata": {},
     "output_type": "execute_result"
    }
   ],
   "source": [
    "model60.predict((Wv60,Xv60))"
   ]
  },
  {
   "cell_type": "code",
   "execution_count": 63,
   "metadata": {},
   "outputs": [
    {
     "data": {
      "text/plain": [
       "array([[ 50.70656 ,  50.430004,  57.32698 , ...,  57.01328 ,  38.761116,\n",
       "         37.437603],\n",
       "       [ 49.427204,  50.007214,  56.883232, ...,  56.45015 ,  40.10421 ,\n",
       "         37.3513  ],\n",
       "       [ 45.49114 ,  46.29245 ,  51.9349  , ...,  50.562424,  36.617355,\n",
       "         34.87856 ],\n",
       "       ...,\n",
       "       [137.31021 , 142.32536 , 152.76024 , ..., 149.80762 , 101.94713 ,\n",
       "         91.46247 ],\n",
       "       [133.27792 , 137.13043 , 149.68506 , ..., 146.37729 , 100.21352 ,\n",
       "         88.98649 ],\n",
       "       [127.16322 , 129.57076 , 144.35147 , ..., 138.19637 ,  93.6812  ,\n",
       "         81.59621 ]], dtype=float32)"
      ]
     },
     "execution_count": 63,
     "metadata": {},
     "output_type": "execute_result"
    }
   ],
   "source": [
    "model60_At_Conv_LSTM.predict((Wv60w, Wv60x, Xv60))"
   ]
  },
  {
   "cell_type": "markdown",
   "metadata": {},
   "source": [
    "### Evaluation on inverse_transform"
   ]
  },
  {
   "cell_type": "code",
   "execution_count": 64,
   "metadata": {},
   "outputs": [
    {
     "name": "stdout",
     "output_type": "stream",
     "text": [
      "[18.462906965948566, 24.355097054041913, 9.406459644810669]\n",
      "[18.559450025880192, 24.29879012318357, 9.784624214849224]\n"
     ]
    }
   ],
   "source": [
    "test_predictions60 = model60.predict((Wv60,Xv60))\n",
    "\n",
    "\n",
    "MSE60 = mean_squared_error(yv60,test_predictions60)\n",
    "\n",
    "MAE60 = mean_absolute_error(yv60,test_predictions60)\n",
    "\n",
    "RMSE60 = np.sqrt(MSE60)\n",
    "\n",
    "MAPE60 = mean_absolute_percentage_error(yv60,test_predictions60)*100\n",
    "\n",
    "eval60 = [MAE60, RMSE60, MAPE60]\n",
    "print(eval60)\n",
    "\n",
    "\n",
    "test_predictions60 = model60_At_Conv_LSTM.predict((Wv60w, Wv60x, Xv60))\n",
    "\n",
    "\n",
    "MSE60 = mean_squared_error(yv60,test_predictions60)\n",
    "\n",
    "MAE60 = mean_absolute_error(yv60,test_predictions60)\n",
    "\n",
    "RMSE60 = np.sqrt(MSE60)\n",
    "\n",
    "MAPE60 = mean_absolute_percentage_error(yv60,test_predictions60)*100\n",
    "\n",
    "eval60a = [MAE60, RMSE60, MAPE60]\n",
    "print(eval60a)"
   ]
  },
  {
   "cell_type": "code",
   "execution_count": 65,
   "metadata": {},
   "outputs": [
    {
     "name": "stdout",
     "output_type": "stream",
     "text": [
      "[array([19.29579585, 21.3213072 , 20.85102021, 15.68516748, 20.98491376,\n",
      "       17.04892126, 14.053223  ]), array([25.05323474, 28.07286488, 27.18038756, 20.26796644, 27.16459256,\n",
      "       22.50531064, 18.50613212]), array([10.12349273, 10.31965695,  9.57008773,  7.81606208,  9.04147254,\n",
      "        9.89044901,  9.08399646])]\n"
     ]
    }
   ],
   "source": [
    "test_predictions60 = model60.predict((Wv60,Xv60))\n",
    "\n",
    "\n",
    "MSE60 = mean_squared_error(yv60,test_predictions60, multioutput='raw_values')\n",
    "\n",
    "MAE60 = mean_absolute_error(yv60,test_predictions60, multioutput='raw_values')\n",
    "\n",
    "RMSE60 = np.sqrt(MSE60)\n",
    "\n",
    "MAPE60 = mean_absolute_percentage_error(yv60,test_predictions60, multioutput='raw_values')*100\n",
    "\n",
    "eval60 = [MAE60, RMSE60, MAPE60]\n",
    "print(eval60)"
   ]
  },
  {
   "cell_type": "code",
   "execution_count": 66,
   "metadata": {},
   "outputs": [
    {
     "name": "stdout",
     "output_type": "stream",
     "text": [
      "[array([18.87336383, 21.05917947, 20.46575641, 15.8981837 , 20.67789187,\n",
      "       18.08073819, 14.86103672]), array([24.49651577, 27.53939119, 26.53536795, 20.2836397 , 26.56451887,\n",
      "       23.91395179, 19.52993889]), array([10.32277702, 10.53107051,  9.77626813,  8.26526781,  9.36296555,\n",
      "       10.59792188,  9.63609861])]\n"
     ]
    }
   ],
   "source": [
    "test_predictions60 = model60_At_Conv_LSTM.predict((Wv60w, Wv60x, Xv60))\n",
    "\n",
    "\n",
    "MSE60 = mean_squared_error(yv60,test_predictions60, multioutput='raw_values')\n",
    "\n",
    "MAE60 = mean_absolute_error(yv60,test_predictions60, multioutput='raw_values')\n",
    "\n",
    "RMSE60 = np.sqrt(MSE60)\n",
    "\n",
    "MAPE60 = mean_absolute_percentage_error(yv60,test_predictions60, multioutput='raw_values')*100\n",
    "\n",
    "eval60a = [MAE60, RMSE60, MAPE60]\n",
    "print(eval60a)"
   ]
  },
  {
   "cell_type": "code",
   "execution_count": 67,
   "metadata": {},
   "outputs": [
    {
     "data": {
      "image/png": "[encoded data removed]",
      "text/plain": [
       "<Figure size 640x480 with 1 Axes>"
      ]
     },
     "metadata": {},
     "output_type": "display_data"
    }
   ],
   "source": [
    "ax = sns.boxplot(data=[eval60[0],eval60a[0]])"
   ]
  },
  {
   "cell_type": "markdown",
   "metadata": {},
   "source": [
    "# RESULTS"
   ]
  },
  {
   "cell_type": "markdown",
   "metadata": {},
   "source": [
    "## General results"
   ]
  },
  {
   "cell_type": "code",
   "execution_count": null,
   "metadata": {},
   "outputs": [],
   "source": [
    "l = ['MAE','RMSE','MAPE','Horizon']"
   ]
  },
  {
   "cell_type": "code",
   "execution_count": null,
   "metadata": {},
   "outputs": [],
   "source": [
    "eval5.append(5)\n",
    "eval15.append(15)\n",
    "eval30.append(30)\n",
    "eval60.append(60)"
   ]
  },
  {
   "cell_type": "code",
   "execution_count": null,
   "metadata": {},
   "outputs": [],
   "source": [
    "df = pd.DataFrame(np.array([eval5,eval15,eval30,eval60]),columns=l)\n",
    "df.set_index('Horizon')"
   ]
  }
 ],
 "metadata": {
  "kernelspec": {
   "display_name": "Python 3 (ipykernel)",
   "language": "python",
   "name": "python3"
  },
  "language_info": {
   "codemirror_mode": {
    "name": "ipython",
    "version": 3
   },
   "file_extension": ".py",
   "mimetype": "text/x-python",
   "name": "python",
   "nbconvert_exporter": "python",
   "pygments_lexer": "ipython3",
   "version": "3.9.12"
  }
 },
 "nbformat": 4,
 "nbformat_minor": 4
}
