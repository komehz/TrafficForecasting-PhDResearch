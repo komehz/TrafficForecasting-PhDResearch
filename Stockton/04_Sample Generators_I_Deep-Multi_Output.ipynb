{
 "cells": [
  {
   "cell_type": "code",
   "execution_count": 1,
   "metadata": {},
   "outputs": [],
   "source": [
    "import pandas as pd\n",
    "import numpy as np\n",
    "import matplotlib.pyplot as plt\n",
    "import seaborn as sns"
   ]
  },
  {
   "cell_type": "markdown",
   "metadata": {},
   "source": [
    "#### Read training data from csv files"
   ]
  },
  {
   "cell_type": "code",
   "execution_count": 2,
   "metadata": {},
   "outputs": [],
   "source": [
    "Train     = pd.read_csv('01train_scaled.csv', index_col=0, parse_dates=[8])\n",
    "Test      = pd.read_csv('01test_scaled.csv', index_col=0, parse_dates=[8])"
   ]
  },
  {
   "cell_type": "code",
   "execution_count": 3,
   "metadata": {},
   "outputs": [
    {
     "data": {
      "text/html": [
       "<div>\n",
       "<style scoped>\n",
       "    .dataframe tbody tr th:only-of-type {\n",
       "        vertical-align: middle;\n",
       "    }\n",
       "\n",
       "    .dataframe tbody tr th {\n",
       "        vertical-align: top;\n",
       "    }\n",
       "\n",
       "    .dataframe thead th {\n",
       "        text-align: right;\n",
       "    }\n",
       "</style>\n",
       "<table border=\"1\" class=\"dataframe\">\n",
       "  <thead>\n",
       "    <tr style=\"text-align: right;\">\n",
       "      <th></th>\n",
       "      <th>f1</th>\n",
       "      <th>f2</th>\n",
       "      <th>f3</th>\n",
       "      <th>f4</th>\n",
       "      <th>f5</th>\n",
       "      <th>f6</th>\n",
       "      <th>f7</th>\n",
       "      <th>Timestamp</th>\n",
       "    </tr>\n",
       "  </thead>\n",
       "  <tbody>\n",
       "    <tr>\n",
       "      <th>0</th>\n",
       "      <td>0.289532</td>\n",
       "      <td>0.277328</td>\n",
       "      <td>0.226415</td>\n",
       "      <td>0.259574</td>\n",
       "      <td>0.204117</td>\n",
       "      <td>0.147727</td>\n",
       "      <td>0.150000</td>\n",
       "      <td>2019-06-03 00:00:00</td>\n",
       "    </tr>\n",
       "    <tr>\n",
       "      <th>1</th>\n",
       "      <td>0.258352</td>\n",
       "      <td>0.230769</td>\n",
       "      <td>0.277358</td>\n",
       "      <td>0.231915</td>\n",
       "      <td>0.198971</td>\n",
       "      <td>0.168561</td>\n",
       "      <td>0.160870</td>\n",
       "      <td>2019-06-03 00:05:00</td>\n",
       "    </tr>\n",
       "    <tr>\n",
       "      <th>2</th>\n",
       "      <td>0.211581</td>\n",
       "      <td>0.208502</td>\n",
       "      <td>0.232075</td>\n",
       "      <td>0.242553</td>\n",
       "      <td>0.202401</td>\n",
       "      <td>0.195076</td>\n",
       "      <td>0.213043</td>\n",
       "      <td>2019-06-03 00:10:00</td>\n",
       "    </tr>\n",
       "    <tr>\n",
       "      <th>3</th>\n",
       "      <td>0.242762</td>\n",
       "      <td>0.232794</td>\n",
       "      <td>0.213208</td>\n",
       "      <td>0.221277</td>\n",
       "      <td>0.176672</td>\n",
       "      <td>0.178030</td>\n",
       "      <td>0.195652</td>\n",
       "      <td>2019-06-03 00:15:00</td>\n",
       "    </tr>\n",
       "    <tr>\n",
       "      <th>4</th>\n",
       "      <td>0.238307</td>\n",
       "      <td>0.226721</td>\n",
       "      <td>0.235849</td>\n",
       "      <td>0.253191</td>\n",
       "      <td>0.192110</td>\n",
       "      <td>0.126894</td>\n",
       "      <td>0.128261</td>\n",
       "      <td>2019-06-03 00:20:00</td>\n",
       "    </tr>\n",
       "    <tr>\n",
       "      <th>...</th>\n",
       "      <td>...</td>\n",
       "      <td>...</td>\n",
       "      <td>...</td>\n",
       "      <td>...</td>\n",
       "      <td>...</td>\n",
       "      <td>...</td>\n",
       "      <td>...</td>\n",
       "      <td>...</td>\n",
       "    </tr>\n",
       "    <tr>\n",
       "      <th>4027</th>\n",
       "      <td>0.282851</td>\n",
       "      <td>0.253036</td>\n",
       "      <td>0.264151</td>\n",
       "      <td>0.302128</td>\n",
       "      <td>0.233276</td>\n",
       "      <td>0.196970</td>\n",
       "      <td>0.169565</td>\n",
       "      <td>2019-06-16 23:35:00</td>\n",
       "    </tr>\n",
       "    <tr>\n",
       "      <th>4028</th>\n",
       "      <td>0.262806</td>\n",
       "      <td>0.222672</td>\n",
       "      <td>0.243396</td>\n",
       "      <td>0.246809</td>\n",
       "      <td>0.166381</td>\n",
       "      <td>0.174242</td>\n",
       "      <td>0.180435</td>\n",
       "      <td>2019-06-16 23:40:00</td>\n",
       "    </tr>\n",
       "    <tr>\n",
       "      <th>4029</th>\n",
       "      <td>0.204900</td>\n",
       "      <td>0.188259</td>\n",
       "      <td>0.213208</td>\n",
       "      <td>0.270213</td>\n",
       "      <td>0.221269</td>\n",
       "      <td>0.166667</td>\n",
       "      <td>0.171739</td>\n",
       "      <td>2019-06-16 23:45:00</td>\n",
       "    </tr>\n",
       "    <tr>\n",
       "      <th>4030</th>\n",
       "      <td>0.273942</td>\n",
       "      <td>0.246964</td>\n",
       "      <td>0.247170</td>\n",
       "      <td>0.219149</td>\n",
       "      <td>0.183533</td>\n",
       "      <td>0.195076</td>\n",
       "      <td>0.193478</td>\n",
       "      <td>2019-06-16 23:50:00</td>\n",
       "    </tr>\n",
       "    <tr>\n",
       "      <th>4031</th>\n",
       "      <td>0.247216</td>\n",
       "      <td>0.194332</td>\n",
       "      <td>0.237736</td>\n",
       "      <td>0.272340</td>\n",
       "      <td>0.193825</td>\n",
       "      <td>0.178030</td>\n",
       "      <td>0.200000</td>\n",
       "      <td>2019-06-16 23:55:00</td>\n",
       "    </tr>\n",
       "  </tbody>\n",
       "</table>\n",
       "<p>4032 rows × 8 columns</p>\n",
       "</div>"
      ],
      "text/plain": [
       "            f1        f2        f3        f4        f5        f6        f7  \\\n",
       "0     0.289532  0.277328  0.226415  0.259574  0.204117  0.147727  0.150000   \n",
       "1     0.258352  0.230769  0.277358  0.231915  0.198971  0.168561  0.160870   \n",
       "2     0.211581  0.208502  0.232075  0.242553  0.202401  0.195076  0.213043   \n",
       "3     0.242762  0.232794  0.213208  0.221277  0.176672  0.178030  0.195652   \n",
       "4     0.238307  0.226721  0.235849  0.253191  0.192110  0.126894  0.128261   \n",
       "...        ...       ...       ...       ...       ...       ...       ...   \n",
       "4027  0.282851  0.253036  0.264151  0.302128  0.233276  0.196970  0.169565   \n",
       "4028  0.262806  0.222672  0.243396  0.246809  0.166381  0.174242  0.180435   \n",
       "4029  0.204900  0.188259  0.213208  0.270213  0.221269  0.166667  0.171739   \n",
       "4030  0.273942  0.246964  0.247170  0.219149  0.183533  0.195076  0.193478   \n",
       "4031  0.247216  0.194332  0.237736  0.272340  0.193825  0.178030  0.200000   \n",
       "\n",
       "               Timestamp  \n",
       "0    2019-06-03 00:00:00  \n",
       "1    2019-06-03 00:05:00  \n",
       "2    2019-06-03 00:10:00  \n",
       "3    2019-06-03 00:15:00  \n",
       "4    2019-06-03 00:20:00  \n",
       "...                  ...  \n",
       "4027 2019-06-16 23:35:00  \n",
       "4028 2019-06-16 23:40:00  \n",
       "4029 2019-06-16 23:45:00  \n",
       "4030 2019-06-16 23:50:00  \n",
       "4031 2019-06-16 23:55:00  \n",
       "\n",
       "[4032 rows x 8 columns]"
      ]
     },
     "execution_count": 3,
     "metadata": {},
     "output_type": "execute_result"
    }
   ],
   "source": [
    "Test"
   ]
  },
  {
   "cell_type": "code",
   "execution_count": 4,
   "metadata": {},
   "outputs": [
    {
     "data": {
      "text/plain": [
       "pandas._libs.tslibs.timestamps.Timestamp"
      ]
     },
     "execution_count": 4,
     "metadata": {},
     "output_type": "execute_result"
    }
   ],
   "source": [
    "type(Test.iloc[0]['Timestamp'])"
   ]
  },
  {
   "cell_type": "code",
   "execution_count": 5,
   "metadata": {},
   "outputs": [],
   "source": [
    "train = Train.drop('Timestamp', axis=1)\n",
    "test = Test.drop('Timestamp', axis=1)"
   ]
  },
  {
   "cell_type": "code",
   "execution_count": 6,
   "metadata": {},
   "outputs": [
    {
     "data": {
      "text/html": [
       "<div>\n",
       "<style scoped>\n",
       "    .dataframe tbody tr th:only-of-type {\n",
       "        vertical-align: middle;\n",
       "    }\n",
       "\n",
       "    .dataframe tbody tr th {\n",
       "        vertical-align: top;\n",
       "    }\n",
       "\n",
       "    .dataframe thead th {\n",
       "        text-align: right;\n",
       "    }\n",
       "</style>\n",
       "<table border=\"1\" class=\"dataframe\">\n",
       "  <thead>\n",
       "    <tr style=\"text-align: right;\">\n",
       "      <th></th>\n",
       "      <th>f1</th>\n",
       "      <th>f2</th>\n",
       "      <th>f3</th>\n",
       "      <th>f4</th>\n",
       "      <th>f5</th>\n",
       "      <th>f6</th>\n",
       "      <th>f7</th>\n",
       "    </tr>\n",
       "  </thead>\n",
       "  <tbody>\n",
       "    <tr>\n",
       "      <th>0</th>\n",
       "      <td>0.200445</td>\n",
       "      <td>0.161943</td>\n",
       "      <td>0.230189</td>\n",
       "      <td>0.265957</td>\n",
       "      <td>0.190395</td>\n",
       "      <td>0.060606</td>\n",
       "      <td>0.084783</td>\n",
       "    </tr>\n",
       "    <tr>\n",
       "      <th>1</th>\n",
       "      <td>0.191537</td>\n",
       "      <td>0.155870</td>\n",
       "      <td>0.235849</td>\n",
       "      <td>0.265957</td>\n",
       "      <td>0.174957</td>\n",
       "      <td>0.125000</td>\n",
       "      <td>0.154348</td>\n",
       "    </tr>\n",
       "    <tr>\n",
       "      <th>2</th>\n",
       "      <td>0.213808</td>\n",
       "      <td>0.214575</td>\n",
       "      <td>0.230189</td>\n",
       "      <td>0.238298</td>\n",
       "      <td>0.173242</td>\n",
       "      <td>0.126894</td>\n",
       "      <td>0.145652</td>\n",
       "    </tr>\n",
       "    <tr>\n",
       "      <th>3</th>\n",
       "      <td>0.213808</td>\n",
       "      <td>0.170040</td>\n",
       "      <td>0.175472</td>\n",
       "      <td>0.212766</td>\n",
       "      <td>0.152659</td>\n",
       "      <td>0.155303</td>\n",
       "      <td>0.182609</td>\n",
       "    </tr>\n",
       "    <tr>\n",
       "      <th>4</th>\n",
       "      <td>0.193764</td>\n",
       "      <td>0.161943</td>\n",
       "      <td>0.201887</td>\n",
       "      <td>0.242553</td>\n",
       "      <td>0.157804</td>\n",
       "      <td>0.113636</td>\n",
       "      <td>0.121739</td>\n",
       "    </tr>\n",
       "    <tr>\n",
       "      <th>...</th>\n",
       "      <td>...</td>\n",
       "      <td>...</td>\n",
       "      <td>...</td>\n",
       "      <td>...</td>\n",
       "      <td>...</td>\n",
       "      <td>...</td>\n",
       "      <td>...</td>\n",
       "    </tr>\n",
       "    <tr>\n",
       "      <th>31099</th>\n",
       "      <td>0.298441</td>\n",
       "      <td>0.253036</td>\n",
       "      <td>0.288679</td>\n",
       "      <td>0.291489</td>\n",
       "      <td>0.255575</td>\n",
       "      <td>0.204545</td>\n",
       "      <td>0.184783</td>\n",
       "    </tr>\n",
       "    <tr>\n",
       "      <th>31100</th>\n",
       "      <td>0.407572</td>\n",
       "      <td>0.382591</td>\n",
       "      <td>0.358491</td>\n",
       "      <td>0.312766</td>\n",
       "      <td>0.286449</td>\n",
       "      <td>0.195076</td>\n",
       "      <td>0.191304</td>\n",
       "    </tr>\n",
       "    <tr>\n",
       "      <th>31101</th>\n",
       "      <td>0.276169</td>\n",
       "      <td>0.285425</td>\n",
       "      <td>0.309434</td>\n",
       "      <td>0.293617</td>\n",
       "      <td>0.257290</td>\n",
       "      <td>0.231061</td>\n",
       "      <td>0.247826</td>\n",
       "    </tr>\n",
       "    <tr>\n",
       "      <th>31102</th>\n",
       "      <td>0.271715</td>\n",
       "      <td>0.246964</td>\n",
       "      <td>0.335849</td>\n",
       "      <td>0.270213</td>\n",
       "      <td>0.217839</td>\n",
       "      <td>0.159091</td>\n",
       "      <td>0.173913</td>\n",
       "    </tr>\n",
       "    <tr>\n",
       "      <th>31103</th>\n",
       "      <td>0.229399</td>\n",
       "      <td>0.212551</td>\n",
       "      <td>0.245283</td>\n",
       "      <td>0.265957</td>\n",
       "      <td>0.222985</td>\n",
       "      <td>0.176136</td>\n",
       "      <td>0.189130</td>\n",
       "    </tr>\n",
       "  </tbody>\n",
       "</table>\n",
       "<p>31104 rows × 7 columns</p>\n",
       "</div>"
      ],
      "text/plain": [
       "             f1        f2        f3        f4        f5        f6        f7\n",
       "0      0.200445  0.161943  0.230189  0.265957  0.190395  0.060606  0.084783\n",
       "1      0.191537  0.155870  0.235849  0.265957  0.174957  0.125000  0.154348\n",
       "2      0.213808  0.214575  0.230189  0.238298  0.173242  0.126894  0.145652\n",
       "3      0.213808  0.170040  0.175472  0.212766  0.152659  0.155303  0.182609\n",
       "4      0.193764  0.161943  0.201887  0.242553  0.157804  0.113636  0.121739\n",
       "...         ...       ...       ...       ...       ...       ...       ...\n",
       "31099  0.298441  0.253036  0.288679  0.291489  0.255575  0.204545  0.184783\n",
       "31100  0.407572  0.382591  0.358491  0.312766  0.286449  0.195076  0.191304\n",
       "31101  0.276169  0.285425  0.309434  0.293617  0.257290  0.231061  0.247826\n",
       "31102  0.271715  0.246964  0.335849  0.270213  0.217839  0.159091  0.173913\n",
       "31103  0.229399  0.212551  0.245283  0.265957  0.222985  0.176136  0.189130\n",
       "\n",
       "[31104 rows x 7 columns]"
      ]
     },
     "execution_count": 6,
     "metadata": {},
     "output_type": "execute_result"
    }
   ],
   "source": [
    "train"
   ]
  },
  {
   "cell_type": "markdown",
   "metadata": {},
   "source": [
    "# 5-minute (1 step ahead) foreast"
   ]
  },
  {
   "cell_type": "markdown",
   "metadata": {},
   "source": [
    "## Train"
   ]
  },
  {
   "cell_type": "code",
   "execution_count": 7,
   "metadata": {},
   "outputs": [],
   "source": [
    "length = 15\n",
    "step = 1\n",
    "k = -1\n",
    "\n",
    "a = np.zeros((15, 7))\n",
    "b = np.zeros((7,))\n",
    "x = np.zeros((15, 7))\n",
    "y = np.zeros((7,))\n",
    "\n",
    "\n",
    "for i in range(length, (len(train)-step+1)):\n",
    "    b = np.asarray(train.iloc[i+step-1])\n",
    "    k = k+1\n",
    "    for j in range(length):\n",
    "        if j+k <= (len(train) + length - step):\n",
    "            a[j] = train.iloc[j+k]\n",
    "            \n",
    "    x = np.append(x, a, axis=0)\n",
    "    y = np.append(y, b, axis=0)\n",
    "    \n",
    "x = np.delete(x, np.s_[0:15], 0).reshape(-1, 15, 7)\n",
    "y = np.delete(y, np.s_[0:7], 0).reshape(-1, 7)"
   ]
  },
  {
   "cell_type": "code",
   "execution_count": 8,
   "metadata": {},
   "outputs": [
    {
     "data": {
      "text/plain": [
       "(31089, 15, 7)"
      ]
     },
     "execution_count": 8,
     "metadata": {},
     "output_type": "execute_result"
    }
   ],
   "source": [
    "x.shape"
   ]
  },
  {
   "cell_type": "code",
   "execution_count": 9,
   "metadata": {},
   "outputs": [
    {
     "data": {
      "text/plain": [
       "(31089, 7)"
      ]
     },
     "execution_count": 9,
     "metadata": {},
     "output_type": "execute_result"
    }
   ],
   "source": [
    "y.shape"
   ]
  },
  {
   "cell_type": "code",
   "execution_count": 10,
   "metadata": {},
   "outputs": [
    {
     "data": {
      "text/html": [
       "<div>\n",
       "<style scoped>\n",
       "    .dataframe tbody tr th:only-of-type {\n",
       "        vertical-align: middle;\n",
       "    }\n",
       "\n",
       "    .dataframe tbody tr th {\n",
       "        vertical-align: top;\n",
       "    }\n",
       "\n",
       "    .dataframe thead th {\n",
       "        text-align: right;\n",
       "    }\n",
       "</style>\n",
       "<table border=\"1\" class=\"dataframe\">\n",
       "  <thead>\n",
       "    <tr style=\"text-align: right;\">\n",
       "      <th></th>\n",
       "      <th>f1</th>\n",
       "      <th>f2</th>\n",
       "      <th>f3</th>\n",
       "      <th>f4</th>\n",
       "      <th>f5</th>\n",
       "      <th>f6</th>\n",
       "      <th>f7</th>\n",
       "    </tr>\n",
       "  </thead>\n",
       "  <tbody>\n",
       "    <tr>\n",
       "      <th>31088</th>\n",
       "      <td>0.483296</td>\n",
       "      <td>0.417004</td>\n",
       "      <td>0.390566</td>\n",
       "      <td>0.463830</td>\n",
       "      <td>0.421955</td>\n",
       "      <td>0.257576</td>\n",
       "      <td>0.282609</td>\n",
       "    </tr>\n",
       "    <tr>\n",
       "      <th>31089</th>\n",
       "      <td>0.374165</td>\n",
       "      <td>0.366397</td>\n",
       "      <td>0.339623</td>\n",
       "      <td>0.351064</td>\n",
       "      <td>0.308748</td>\n",
       "      <td>0.333333</td>\n",
       "      <td>0.319565</td>\n",
       "    </tr>\n",
       "    <tr>\n",
       "      <th>31090</th>\n",
       "      <td>0.489978</td>\n",
       "      <td>0.443320</td>\n",
       "      <td>0.445283</td>\n",
       "      <td>0.414894</td>\n",
       "      <td>0.387650</td>\n",
       "      <td>0.304924</td>\n",
       "      <td>0.276087</td>\n",
       "    </tr>\n",
       "    <tr>\n",
       "      <th>31091</th>\n",
       "      <td>0.416481</td>\n",
       "      <td>0.410931</td>\n",
       "      <td>0.433962</td>\n",
       "      <td>0.376596</td>\n",
       "      <td>0.346484</td>\n",
       "      <td>0.337121</td>\n",
       "      <td>0.336957</td>\n",
       "    </tr>\n",
       "    <tr>\n",
       "      <th>31092</th>\n",
       "      <td>0.383073</td>\n",
       "      <td>0.392713</td>\n",
       "      <td>0.373585</td>\n",
       "      <td>0.363830</td>\n",
       "      <td>0.336192</td>\n",
       "      <td>0.284091</td>\n",
       "      <td>0.276087</td>\n",
       "    </tr>\n",
       "    <tr>\n",
       "      <th>31093</th>\n",
       "      <td>0.351893</td>\n",
       "      <td>0.319838</td>\n",
       "      <td>0.341509</td>\n",
       "      <td>0.334043</td>\n",
       "      <td>0.300172</td>\n",
       "      <td>0.231061</td>\n",
       "      <td>0.267391</td>\n",
       "    </tr>\n",
       "    <tr>\n",
       "      <th>31094</th>\n",
       "      <td>0.280624</td>\n",
       "      <td>0.329960</td>\n",
       "      <td>0.318868</td>\n",
       "      <td>0.291489</td>\n",
       "      <td>0.252144</td>\n",
       "      <td>0.225379</td>\n",
       "      <td>0.230435</td>\n",
       "    </tr>\n",
       "    <tr>\n",
       "      <th>31095</th>\n",
       "      <td>0.298441</td>\n",
       "      <td>0.295547</td>\n",
       "      <td>0.316981</td>\n",
       "      <td>0.370213</td>\n",
       "      <td>0.336192</td>\n",
       "      <td>0.251894</td>\n",
       "      <td>0.263043</td>\n",
       "    </tr>\n",
       "    <tr>\n",
       "      <th>31096</th>\n",
       "      <td>0.378619</td>\n",
       "      <td>0.334008</td>\n",
       "      <td>0.339623</td>\n",
       "      <td>0.325532</td>\n",
       "      <td>0.295026</td>\n",
       "      <td>0.214015</td>\n",
       "      <td>0.226087</td>\n",
       "    </tr>\n",
       "    <tr>\n",
       "      <th>31097</th>\n",
       "      <td>0.293987</td>\n",
       "      <td>0.269231</td>\n",
       "      <td>0.301887</td>\n",
       "      <td>0.291489</td>\n",
       "      <td>0.253859</td>\n",
       "      <td>0.232955</td>\n",
       "      <td>0.239130</td>\n",
       "    </tr>\n",
       "    <tr>\n",
       "      <th>31098</th>\n",
       "      <td>0.298441</td>\n",
       "      <td>0.238866</td>\n",
       "      <td>0.283019</td>\n",
       "      <td>0.280851</td>\n",
       "      <td>0.238422</td>\n",
       "      <td>0.195076</td>\n",
       "      <td>0.197826</td>\n",
       "    </tr>\n",
       "    <tr>\n",
       "      <th>31099</th>\n",
       "      <td>0.298441</td>\n",
       "      <td>0.253036</td>\n",
       "      <td>0.288679</td>\n",
       "      <td>0.291489</td>\n",
       "      <td>0.255575</td>\n",
       "      <td>0.204545</td>\n",
       "      <td>0.184783</td>\n",
       "    </tr>\n",
       "    <tr>\n",
       "      <th>31100</th>\n",
       "      <td>0.407572</td>\n",
       "      <td>0.382591</td>\n",
       "      <td>0.358491</td>\n",
       "      <td>0.312766</td>\n",
       "      <td>0.286449</td>\n",
       "      <td>0.195076</td>\n",
       "      <td>0.191304</td>\n",
       "    </tr>\n",
       "    <tr>\n",
       "      <th>31101</th>\n",
       "      <td>0.276169</td>\n",
       "      <td>0.285425</td>\n",
       "      <td>0.309434</td>\n",
       "      <td>0.293617</td>\n",
       "      <td>0.257290</td>\n",
       "      <td>0.231061</td>\n",
       "      <td>0.247826</td>\n",
       "    </tr>\n",
       "    <tr>\n",
       "      <th>31102</th>\n",
       "      <td>0.271715</td>\n",
       "      <td>0.246964</td>\n",
       "      <td>0.335849</td>\n",
       "      <td>0.270213</td>\n",
       "      <td>0.217839</td>\n",
       "      <td>0.159091</td>\n",
       "      <td>0.173913</td>\n",
       "    </tr>\n",
       "    <tr>\n",
       "      <th>31103</th>\n",
       "      <td>0.229399</td>\n",
       "      <td>0.212551</td>\n",
       "      <td>0.245283</td>\n",
       "      <td>0.265957</td>\n",
       "      <td>0.222985</td>\n",
       "      <td>0.176136</td>\n",
       "      <td>0.189130</td>\n",
       "    </tr>\n",
       "  </tbody>\n",
       "</table>\n",
       "</div>"
      ],
      "text/plain": [
       "             f1        f2        f3        f4        f5        f6        f7\n",
       "31088  0.483296  0.417004  0.390566  0.463830  0.421955  0.257576  0.282609\n",
       "31089  0.374165  0.366397  0.339623  0.351064  0.308748  0.333333  0.319565\n",
       "31090  0.489978  0.443320  0.445283  0.414894  0.387650  0.304924  0.276087\n",
       "31091  0.416481  0.410931  0.433962  0.376596  0.346484  0.337121  0.336957\n",
       "31092  0.383073  0.392713  0.373585  0.363830  0.336192  0.284091  0.276087\n",
       "31093  0.351893  0.319838  0.341509  0.334043  0.300172  0.231061  0.267391\n",
       "31094  0.280624  0.329960  0.318868  0.291489  0.252144  0.225379  0.230435\n",
       "31095  0.298441  0.295547  0.316981  0.370213  0.336192  0.251894  0.263043\n",
       "31096  0.378619  0.334008  0.339623  0.325532  0.295026  0.214015  0.226087\n",
       "31097  0.293987  0.269231  0.301887  0.291489  0.253859  0.232955  0.239130\n",
       "31098  0.298441  0.238866  0.283019  0.280851  0.238422  0.195076  0.197826\n",
       "31099  0.298441  0.253036  0.288679  0.291489  0.255575  0.204545  0.184783\n",
       "31100  0.407572  0.382591  0.358491  0.312766  0.286449  0.195076  0.191304\n",
       "31101  0.276169  0.285425  0.309434  0.293617  0.257290  0.231061  0.247826\n",
       "31102  0.271715  0.246964  0.335849  0.270213  0.217839  0.159091  0.173913\n",
       "31103  0.229399  0.212551  0.245283  0.265957  0.222985  0.176136  0.189130"
      ]
     },
     "execution_count": 10,
     "metadata": {},
     "output_type": "execute_result"
    }
   ],
   "source": [
    "train.tail(16)"
   ]
  },
  {
   "cell_type": "code",
   "execution_count": 11,
   "metadata": {},
   "outputs": [
    {
     "data": {
      "text/plain": [
       "array([0.22939866, 0.21255061, 0.24528302, 0.26595745, 0.22298456,\n",
       "       0.17613636, 0.18913043])"
      ]
     },
     "execution_count": 11,
     "metadata": {},
     "output_type": "execute_result"
    }
   ],
   "source": [
    "y[-1]"
   ]
  },
  {
   "cell_type": "code",
   "execution_count": 12,
   "metadata": {},
   "outputs": [],
   "source": [
    "# Checked as correct"
   ]
  },
  {
   "cell_type": "code",
   "execution_count": 13,
   "metadata": {},
   "outputs": [],
   "source": [
    "# Save \n",
    "\n",
    "np.savez_compressed(\"Deep_train_5_multi\", x=x , y=y)"
   ]
  },
  {
   "cell_type": "markdown",
   "metadata": {},
   "source": [
    "## Test"
   ]
  },
  {
   "cell_type": "code",
   "execution_count": 14,
   "metadata": {},
   "outputs": [],
   "source": [
    "length = 15\n",
    "step = 1\n",
    "k = -1\n",
    "\n",
    "a = np.zeros((15, 7))\n",
    "b = np.zeros((7,))\n",
    "x = np.zeros((15, 7))\n",
    "y = np.zeros((7,))\n",
    "\n",
    "\n",
    "for i in range(length, (len(test)-step+1)):\n",
    "    b = np.asarray(test.iloc[i+step-1])\n",
    "    k = k+1\n",
    "    for j in range(length):\n",
    "        if j+k <= (len(test) + length - step):\n",
    "            a[j] = test.iloc[j+k]\n",
    "            \n",
    "    x = np.append(x, a, axis=0)\n",
    "    y = np.append(y, b, axis=0)\n",
    "    \n",
    "x = np.delete(x, np.s_[0:15], 0).reshape(-1, 15, 7)\n",
    "y = np.delete(y, np.s_[0:7], 0).reshape(-1, 7)"
   ]
  },
  {
   "cell_type": "code",
   "execution_count": 15,
   "metadata": {},
   "outputs": [
    {
     "data": {
      "text/plain": [
       "(4017, 15, 7)"
      ]
     },
     "execution_count": 15,
     "metadata": {},
     "output_type": "execute_result"
    }
   ],
   "source": [
    "x.shape"
   ]
  },
  {
   "cell_type": "code",
   "execution_count": 16,
   "metadata": {},
   "outputs": [
    {
     "data": {
      "text/plain": [
       "(4017, 7)"
      ]
     },
     "execution_count": 16,
     "metadata": {},
     "output_type": "execute_result"
    }
   ],
   "source": [
    "y.shape"
   ]
  },
  {
   "cell_type": "code",
   "execution_count": 56,
   "metadata": {},
   "outputs": [
    {
     "data": {
      "text/html": [
       "<div>\n",
       "<style scoped>\n",
       "    .dataframe tbody tr th:only-of-type {\n",
       "        vertical-align: middle;\n",
       "    }\n",
       "\n",
       "    .dataframe tbody tr th {\n",
       "        vertical-align: top;\n",
       "    }\n",
       "\n",
       "    .dataframe thead th {\n",
       "        text-align: right;\n",
       "    }\n",
       "</style>\n",
       "<table border=\"1\" class=\"dataframe\">\n",
       "  <thead>\n",
       "    <tr style=\"text-align: right;\">\n",
       "      <th></th>\n",
       "      <th>f1</th>\n",
       "      <th>f2</th>\n",
       "      <th>f3</th>\n",
       "      <th>f4</th>\n",
       "      <th>f5</th>\n",
       "      <th>f6</th>\n",
       "      <th>f7</th>\n",
       "    </tr>\n",
       "  </thead>\n",
       "  <tbody>\n",
       "    <tr>\n",
       "      <th>4027</th>\n",
       "      <td>0.282851</td>\n",
       "      <td>0.253036</td>\n",
       "      <td>0.264151</td>\n",
       "      <td>0.302128</td>\n",
       "      <td>0.233276</td>\n",
       "      <td>0.196970</td>\n",
       "      <td>0.169565</td>\n",
       "    </tr>\n",
       "    <tr>\n",
       "      <th>4028</th>\n",
       "      <td>0.262806</td>\n",
       "      <td>0.222672</td>\n",
       "      <td>0.243396</td>\n",
       "      <td>0.246809</td>\n",
       "      <td>0.166381</td>\n",
       "      <td>0.174242</td>\n",
       "      <td>0.180435</td>\n",
       "    </tr>\n",
       "    <tr>\n",
       "      <th>4029</th>\n",
       "      <td>0.204900</td>\n",
       "      <td>0.188259</td>\n",
       "      <td>0.213208</td>\n",
       "      <td>0.270213</td>\n",
       "      <td>0.221269</td>\n",
       "      <td>0.166667</td>\n",
       "      <td>0.171739</td>\n",
       "    </tr>\n",
       "    <tr>\n",
       "      <th>4030</th>\n",
       "      <td>0.273942</td>\n",
       "      <td>0.246964</td>\n",
       "      <td>0.247170</td>\n",
       "      <td>0.219149</td>\n",
       "      <td>0.183533</td>\n",
       "      <td>0.195076</td>\n",
       "      <td>0.193478</td>\n",
       "    </tr>\n",
       "    <tr>\n",
       "      <th>4031</th>\n",
       "      <td>0.247216</td>\n",
       "      <td>0.194332</td>\n",
       "      <td>0.237736</td>\n",
       "      <td>0.272340</td>\n",
       "      <td>0.193825</td>\n",
       "      <td>0.178030</td>\n",
       "      <td>0.200000</td>\n",
       "    </tr>\n",
       "  </tbody>\n",
       "</table>\n",
       "</div>"
      ],
      "text/plain": [
       "            f1        f2        f3        f4        f5        f6        f7\n",
       "4027  0.282851  0.253036  0.264151  0.302128  0.233276  0.196970  0.169565\n",
       "4028  0.262806  0.222672  0.243396  0.246809  0.166381  0.174242  0.180435\n",
       "4029  0.204900  0.188259  0.213208  0.270213  0.221269  0.166667  0.171739\n",
       "4030  0.273942  0.246964  0.247170  0.219149  0.183533  0.195076  0.193478\n",
       "4031  0.247216  0.194332  0.237736  0.272340  0.193825  0.178030  0.200000"
      ]
     },
     "execution_count": 56,
     "metadata": {},
     "output_type": "execute_result"
    }
   ],
   "source": [
    "test.tail()"
   ]
  },
  {
   "cell_type": "code",
   "execution_count": 17,
   "metadata": {},
   "outputs": [
    {
     "data": {
      "text/plain": [
       "array([0.24721604, 0.19433198, 0.23773585, 0.27234043, 0.19382504,\n",
       "       0.1780303 , 0.2       ])"
      ]
     },
     "execution_count": 17,
     "metadata": {},
     "output_type": "execute_result"
    }
   ],
   "source": [
    "y[-1]"
   ]
  },
  {
   "cell_type": "code",
   "execution_count": 18,
   "metadata": {},
   "outputs": [],
   "source": [
    "# Checked as correct"
   ]
  },
  {
   "cell_type": "code",
   "execution_count": 19,
   "metadata": {},
   "outputs": [],
   "source": [
    "# Save \n",
    "\n",
    "np.savez_compressed(\"Deep_test_5_multi\", x=x , y=y)"
   ]
  },
  {
   "cell_type": "markdown",
   "metadata": {},
   "source": [
    "# 15-minute (3 step ahead) forecast"
   ]
  },
  {
   "cell_type": "markdown",
   "metadata": {},
   "source": [
    "## Train"
   ]
  },
  {
   "cell_type": "code",
   "execution_count": 20,
   "metadata": {},
   "outputs": [],
   "source": [
    "length = 15\n",
    "step = 3\n",
    "k = -1\n",
    "\n",
    "a = np.zeros((15, 7))\n",
    "b = np.zeros((7,))\n",
    "x = np.zeros((15, 7))\n",
    "y = np.zeros((7,))\n",
    "\n",
    "\n",
    "for i in range(length, (len(train)-step+1)):\n",
    "    b = np.asarray(train.iloc[i+step-1])\n",
    "    k = k+1\n",
    "    for j in range(length):\n",
    "        if j+k <= (len(train) + length - step):\n",
    "            a[j] = train.iloc[j+k]\n",
    "            \n",
    "    x = np.append(x, a, axis=0)\n",
    "    y = np.append(y, b, axis=0)\n",
    "    \n",
    "x = np.delete(x, np.s_[0:15], 0).reshape(-1, 15, 7)\n",
    "y = np.delete(y, np.s_[0:7], 0).reshape(-1, 7)"
   ]
  },
  {
   "cell_type": "code",
   "execution_count": 21,
   "metadata": {},
   "outputs": [
    {
     "data": {
      "text/plain": [
       "(31087, 15, 7)"
      ]
     },
     "execution_count": 21,
     "metadata": {},
     "output_type": "execute_result"
    }
   ],
   "source": [
    "x.shape"
   ]
  },
  {
   "cell_type": "code",
   "execution_count": 22,
   "metadata": {},
   "outputs": [
    {
     "data": {
      "text/plain": [
       "(31087, 7)"
      ]
     },
     "execution_count": 22,
     "metadata": {},
     "output_type": "execute_result"
    }
   ],
   "source": [
    "y.shape"
   ]
  },
  {
   "cell_type": "code",
   "execution_count": 57,
   "metadata": {},
   "outputs": [
    {
     "data": {
      "text/html": [
       "<div>\n",
       "<style scoped>\n",
       "    .dataframe tbody tr th:only-of-type {\n",
       "        vertical-align: middle;\n",
       "    }\n",
       "\n",
       "    .dataframe tbody tr th {\n",
       "        vertical-align: top;\n",
       "    }\n",
       "\n",
       "    .dataframe thead th {\n",
       "        text-align: right;\n",
       "    }\n",
       "</style>\n",
       "<table border=\"1\" class=\"dataframe\">\n",
       "  <thead>\n",
       "    <tr style=\"text-align: right;\">\n",
       "      <th></th>\n",
       "      <th>f1</th>\n",
       "      <th>f2</th>\n",
       "      <th>f3</th>\n",
       "      <th>f4</th>\n",
       "      <th>f5</th>\n",
       "      <th>f6</th>\n",
       "      <th>f7</th>\n",
       "    </tr>\n",
       "  </thead>\n",
       "  <tbody>\n",
       "    <tr>\n",
       "      <th>31088</th>\n",
       "      <td>0.483296</td>\n",
       "      <td>0.417004</td>\n",
       "      <td>0.390566</td>\n",
       "      <td>0.463830</td>\n",
       "      <td>0.421955</td>\n",
       "      <td>0.257576</td>\n",
       "      <td>0.282609</td>\n",
       "    </tr>\n",
       "    <tr>\n",
       "      <th>31089</th>\n",
       "      <td>0.374165</td>\n",
       "      <td>0.366397</td>\n",
       "      <td>0.339623</td>\n",
       "      <td>0.351064</td>\n",
       "      <td>0.308748</td>\n",
       "      <td>0.333333</td>\n",
       "      <td>0.319565</td>\n",
       "    </tr>\n",
       "    <tr>\n",
       "      <th>31090</th>\n",
       "      <td>0.489978</td>\n",
       "      <td>0.443320</td>\n",
       "      <td>0.445283</td>\n",
       "      <td>0.414894</td>\n",
       "      <td>0.387650</td>\n",
       "      <td>0.304924</td>\n",
       "      <td>0.276087</td>\n",
       "    </tr>\n",
       "    <tr>\n",
       "      <th>31091</th>\n",
       "      <td>0.416481</td>\n",
       "      <td>0.410931</td>\n",
       "      <td>0.433962</td>\n",
       "      <td>0.376596</td>\n",
       "      <td>0.346484</td>\n",
       "      <td>0.337121</td>\n",
       "      <td>0.336957</td>\n",
       "    </tr>\n",
       "    <tr>\n",
       "      <th>31092</th>\n",
       "      <td>0.383073</td>\n",
       "      <td>0.392713</td>\n",
       "      <td>0.373585</td>\n",
       "      <td>0.363830</td>\n",
       "      <td>0.336192</td>\n",
       "      <td>0.284091</td>\n",
       "      <td>0.276087</td>\n",
       "    </tr>\n",
       "    <tr>\n",
       "      <th>31093</th>\n",
       "      <td>0.351893</td>\n",
       "      <td>0.319838</td>\n",
       "      <td>0.341509</td>\n",
       "      <td>0.334043</td>\n",
       "      <td>0.300172</td>\n",
       "      <td>0.231061</td>\n",
       "      <td>0.267391</td>\n",
       "    </tr>\n",
       "    <tr>\n",
       "      <th>31094</th>\n",
       "      <td>0.280624</td>\n",
       "      <td>0.329960</td>\n",
       "      <td>0.318868</td>\n",
       "      <td>0.291489</td>\n",
       "      <td>0.252144</td>\n",
       "      <td>0.225379</td>\n",
       "      <td>0.230435</td>\n",
       "    </tr>\n",
       "    <tr>\n",
       "      <th>31095</th>\n",
       "      <td>0.298441</td>\n",
       "      <td>0.295547</td>\n",
       "      <td>0.316981</td>\n",
       "      <td>0.370213</td>\n",
       "      <td>0.336192</td>\n",
       "      <td>0.251894</td>\n",
       "      <td>0.263043</td>\n",
       "    </tr>\n",
       "    <tr>\n",
       "      <th>31096</th>\n",
       "      <td>0.378619</td>\n",
       "      <td>0.334008</td>\n",
       "      <td>0.339623</td>\n",
       "      <td>0.325532</td>\n",
       "      <td>0.295026</td>\n",
       "      <td>0.214015</td>\n",
       "      <td>0.226087</td>\n",
       "    </tr>\n",
       "    <tr>\n",
       "      <th>31097</th>\n",
       "      <td>0.293987</td>\n",
       "      <td>0.269231</td>\n",
       "      <td>0.301887</td>\n",
       "      <td>0.291489</td>\n",
       "      <td>0.253859</td>\n",
       "      <td>0.232955</td>\n",
       "      <td>0.239130</td>\n",
       "    </tr>\n",
       "    <tr>\n",
       "      <th>31098</th>\n",
       "      <td>0.298441</td>\n",
       "      <td>0.238866</td>\n",
       "      <td>0.283019</td>\n",
       "      <td>0.280851</td>\n",
       "      <td>0.238422</td>\n",
       "      <td>0.195076</td>\n",
       "      <td>0.197826</td>\n",
       "    </tr>\n",
       "    <tr>\n",
       "      <th>31099</th>\n",
       "      <td>0.298441</td>\n",
       "      <td>0.253036</td>\n",
       "      <td>0.288679</td>\n",
       "      <td>0.291489</td>\n",
       "      <td>0.255575</td>\n",
       "      <td>0.204545</td>\n",
       "      <td>0.184783</td>\n",
       "    </tr>\n",
       "    <tr>\n",
       "      <th>31100</th>\n",
       "      <td>0.407572</td>\n",
       "      <td>0.382591</td>\n",
       "      <td>0.358491</td>\n",
       "      <td>0.312766</td>\n",
       "      <td>0.286449</td>\n",
       "      <td>0.195076</td>\n",
       "      <td>0.191304</td>\n",
       "    </tr>\n",
       "    <tr>\n",
       "      <th>31101</th>\n",
       "      <td>0.276169</td>\n",
       "      <td>0.285425</td>\n",
       "      <td>0.309434</td>\n",
       "      <td>0.293617</td>\n",
       "      <td>0.257290</td>\n",
       "      <td>0.231061</td>\n",
       "      <td>0.247826</td>\n",
       "    </tr>\n",
       "    <tr>\n",
       "      <th>31102</th>\n",
       "      <td>0.271715</td>\n",
       "      <td>0.246964</td>\n",
       "      <td>0.335849</td>\n",
       "      <td>0.270213</td>\n",
       "      <td>0.217839</td>\n",
       "      <td>0.159091</td>\n",
       "      <td>0.173913</td>\n",
       "    </tr>\n",
       "    <tr>\n",
       "      <th>31103</th>\n",
       "      <td>0.229399</td>\n",
       "      <td>0.212551</td>\n",
       "      <td>0.245283</td>\n",
       "      <td>0.265957</td>\n",
       "      <td>0.222985</td>\n",
       "      <td>0.176136</td>\n",
       "      <td>0.189130</td>\n",
       "    </tr>\n",
       "  </tbody>\n",
       "</table>\n",
       "</div>"
      ],
      "text/plain": [
       "             f1        f2        f3        f4        f5        f6        f7\n",
       "31088  0.483296  0.417004  0.390566  0.463830  0.421955  0.257576  0.282609\n",
       "31089  0.374165  0.366397  0.339623  0.351064  0.308748  0.333333  0.319565\n",
       "31090  0.489978  0.443320  0.445283  0.414894  0.387650  0.304924  0.276087\n",
       "31091  0.416481  0.410931  0.433962  0.376596  0.346484  0.337121  0.336957\n",
       "31092  0.383073  0.392713  0.373585  0.363830  0.336192  0.284091  0.276087\n",
       "31093  0.351893  0.319838  0.341509  0.334043  0.300172  0.231061  0.267391\n",
       "31094  0.280624  0.329960  0.318868  0.291489  0.252144  0.225379  0.230435\n",
       "31095  0.298441  0.295547  0.316981  0.370213  0.336192  0.251894  0.263043\n",
       "31096  0.378619  0.334008  0.339623  0.325532  0.295026  0.214015  0.226087\n",
       "31097  0.293987  0.269231  0.301887  0.291489  0.253859  0.232955  0.239130\n",
       "31098  0.298441  0.238866  0.283019  0.280851  0.238422  0.195076  0.197826\n",
       "31099  0.298441  0.253036  0.288679  0.291489  0.255575  0.204545  0.184783\n",
       "31100  0.407572  0.382591  0.358491  0.312766  0.286449  0.195076  0.191304\n",
       "31101  0.276169  0.285425  0.309434  0.293617  0.257290  0.231061  0.247826\n",
       "31102  0.271715  0.246964  0.335849  0.270213  0.217839  0.159091  0.173913\n",
       "31103  0.229399  0.212551  0.245283  0.265957  0.222985  0.176136  0.189130"
      ]
     },
     "execution_count": 57,
     "metadata": {},
     "output_type": "execute_result"
    }
   ],
   "source": [
    "train.tail(16)"
   ]
  },
  {
   "cell_type": "code",
   "execution_count": 23,
   "metadata": {},
   "outputs": [
    {
     "data": {
      "text/plain": [
       "array([0.22939866, 0.21255061, 0.24528302, 0.26595745, 0.22298456,\n",
       "       0.17613636, 0.18913043])"
      ]
     },
     "execution_count": 23,
     "metadata": {},
     "output_type": "execute_result"
    }
   ],
   "source": [
    "y[-1]"
   ]
  },
  {
   "cell_type": "code",
   "execution_count": 24,
   "metadata": {},
   "outputs": [],
   "source": [
    "# Checked as correct"
   ]
  },
  {
   "cell_type": "code",
   "execution_count": 25,
   "metadata": {},
   "outputs": [],
   "source": [
    "# Save \n",
    "\n",
    "np.savez_compressed(\"Deep_train_15_multi\", x=x , y=y)"
   ]
  },
  {
   "cell_type": "markdown",
   "metadata": {},
   "source": [
    "## Test"
   ]
  },
  {
   "cell_type": "code",
   "execution_count": 26,
   "metadata": {},
   "outputs": [],
   "source": [
    "length = 15\n",
    "step = 3\n",
    "k = -1\n",
    "\n",
    "a = np.zeros((15, 7))\n",
    "b = np.zeros((7,))\n",
    "x = np.zeros((15, 7))\n",
    "y = np.zeros((7,))\n",
    "\n",
    "\n",
    "for i in range(length, (len(test)-step+1)):\n",
    "    b = np.asarray(test.iloc[i+step-1])\n",
    "    k = k+1\n",
    "    for j in range(length):\n",
    "        if j+k <= (len(test) + length - step):\n",
    "            a[j] = test.iloc[j+k]\n",
    "            \n",
    "    x = np.append(x, a, axis=0)\n",
    "    y = np.append(y, b, axis=0)\n",
    "    \n",
    "x = np.delete(x, np.s_[0:15], 0).reshape(-1, 15, 7)\n",
    "y = np.delete(y, np.s_[0:7], 0).reshape(-1, 7)"
   ]
  },
  {
   "cell_type": "code",
   "execution_count": 27,
   "metadata": {},
   "outputs": [
    {
     "data": {
      "text/plain": [
       "(4015, 15, 7)"
      ]
     },
     "execution_count": 27,
     "metadata": {},
     "output_type": "execute_result"
    }
   ],
   "source": [
    "x.shape"
   ]
  },
  {
   "cell_type": "code",
   "execution_count": 28,
   "metadata": {},
   "outputs": [
    {
     "data": {
      "text/plain": [
       "(4015, 7)"
      ]
     },
     "execution_count": 28,
     "metadata": {},
     "output_type": "execute_result"
    }
   ],
   "source": [
    "y.shape"
   ]
  },
  {
   "cell_type": "code",
   "execution_count": 58,
   "metadata": {},
   "outputs": [
    {
     "data": {
      "text/html": [
       "<div>\n",
       "<style scoped>\n",
       "    .dataframe tbody tr th:only-of-type {\n",
       "        vertical-align: middle;\n",
       "    }\n",
       "\n",
       "    .dataframe tbody tr th {\n",
       "        vertical-align: top;\n",
       "    }\n",
       "\n",
       "    .dataframe thead th {\n",
       "        text-align: right;\n",
       "    }\n",
       "</style>\n",
       "<table border=\"1\" class=\"dataframe\">\n",
       "  <thead>\n",
       "    <tr style=\"text-align: right;\">\n",
       "      <th></th>\n",
       "      <th>f1</th>\n",
       "      <th>f2</th>\n",
       "      <th>f3</th>\n",
       "      <th>f4</th>\n",
       "      <th>f5</th>\n",
       "      <th>f6</th>\n",
       "      <th>f7</th>\n",
       "    </tr>\n",
       "  </thead>\n",
       "  <tbody>\n",
       "    <tr>\n",
       "      <th>4027</th>\n",
       "      <td>0.282851</td>\n",
       "      <td>0.253036</td>\n",
       "      <td>0.264151</td>\n",
       "      <td>0.302128</td>\n",
       "      <td>0.233276</td>\n",
       "      <td>0.196970</td>\n",
       "      <td>0.169565</td>\n",
       "    </tr>\n",
       "    <tr>\n",
       "      <th>4028</th>\n",
       "      <td>0.262806</td>\n",
       "      <td>0.222672</td>\n",
       "      <td>0.243396</td>\n",
       "      <td>0.246809</td>\n",
       "      <td>0.166381</td>\n",
       "      <td>0.174242</td>\n",
       "      <td>0.180435</td>\n",
       "    </tr>\n",
       "    <tr>\n",
       "      <th>4029</th>\n",
       "      <td>0.204900</td>\n",
       "      <td>0.188259</td>\n",
       "      <td>0.213208</td>\n",
       "      <td>0.270213</td>\n",
       "      <td>0.221269</td>\n",
       "      <td>0.166667</td>\n",
       "      <td>0.171739</td>\n",
       "    </tr>\n",
       "    <tr>\n",
       "      <th>4030</th>\n",
       "      <td>0.273942</td>\n",
       "      <td>0.246964</td>\n",
       "      <td>0.247170</td>\n",
       "      <td>0.219149</td>\n",
       "      <td>0.183533</td>\n",
       "      <td>0.195076</td>\n",
       "      <td>0.193478</td>\n",
       "    </tr>\n",
       "    <tr>\n",
       "      <th>4031</th>\n",
       "      <td>0.247216</td>\n",
       "      <td>0.194332</td>\n",
       "      <td>0.237736</td>\n",
       "      <td>0.272340</td>\n",
       "      <td>0.193825</td>\n",
       "      <td>0.178030</td>\n",
       "      <td>0.200000</td>\n",
       "    </tr>\n",
       "  </tbody>\n",
       "</table>\n",
       "</div>"
      ],
      "text/plain": [
       "            f1        f2        f3        f4        f5        f6        f7\n",
       "4027  0.282851  0.253036  0.264151  0.302128  0.233276  0.196970  0.169565\n",
       "4028  0.262806  0.222672  0.243396  0.246809  0.166381  0.174242  0.180435\n",
       "4029  0.204900  0.188259  0.213208  0.270213  0.221269  0.166667  0.171739\n",
       "4030  0.273942  0.246964  0.247170  0.219149  0.183533  0.195076  0.193478\n",
       "4031  0.247216  0.194332  0.237736  0.272340  0.193825  0.178030  0.200000"
      ]
     },
     "execution_count": 58,
     "metadata": {},
     "output_type": "execute_result"
    }
   ],
   "source": [
    "test.tail()"
   ]
  },
  {
   "cell_type": "code",
   "execution_count": 29,
   "metadata": {},
   "outputs": [
    {
     "data": {
      "text/plain": [
       "array([0.24721604, 0.19433198, 0.23773585, 0.27234043, 0.19382504,\n",
       "       0.1780303 , 0.2       ])"
      ]
     },
     "execution_count": 29,
     "metadata": {},
     "output_type": "execute_result"
    }
   ],
   "source": [
    "y[-1]"
   ]
  },
  {
   "cell_type": "code",
   "execution_count": 30,
   "metadata": {},
   "outputs": [],
   "source": [
    "# Checked as correct"
   ]
  },
  {
   "cell_type": "code",
   "execution_count": 31,
   "metadata": {},
   "outputs": [],
   "source": [
    "# Save \n",
    "\n",
    "np.savez_compressed(\"Deep_test_15_multi\", x=x , y=y)"
   ]
  },
  {
   "cell_type": "markdown",
   "metadata": {},
   "source": [
    "# 30-minute (6 step ahead) forecast"
   ]
  },
  {
   "cell_type": "markdown",
   "metadata": {},
   "source": [
    "## Train"
   ]
  },
  {
   "cell_type": "code",
   "execution_count": 32,
   "metadata": {},
   "outputs": [],
   "source": [
    "length = 15\n",
    "step = 6\n",
    "k = -1\n",
    "\n",
    "a = np.zeros((15, 7))\n",
    "b = np.zeros((7,))\n",
    "x = np.zeros((15, 7))\n",
    "y = np.zeros((7,))\n",
    "\n",
    "\n",
    "for i in range(length, (len(train)-step+1)):\n",
    "    b = np.asarray(train.iloc[i+step-1])\n",
    "    k = k+1\n",
    "    for j in range(length):\n",
    "        if j+k <= (len(train) + length - step):\n",
    "            a[j] = train.iloc[j+k]\n",
    "            \n",
    "    x = np.append(x, a, axis=0)\n",
    "    y = np.append(y, b, axis=0)\n",
    "    \n",
    "x = np.delete(x, np.s_[0:15], 0).reshape(-1, 15, 7)\n",
    "y = np.delete(y, np.s_[0:7], 0).reshape(-1, 7)"
   ]
  },
  {
   "cell_type": "code",
   "execution_count": 33,
   "metadata": {},
   "outputs": [
    {
     "data": {
      "text/plain": [
       "(31084, 15, 7)"
      ]
     },
     "execution_count": 33,
     "metadata": {},
     "output_type": "execute_result"
    }
   ],
   "source": [
    "x.shape"
   ]
  },
  {
   "cell_type": "code",
   "execution_count": 34,
   "metadata": {},
   "outputs": [
    {
     "data": {
      "text/plain": [
       "(31084, 7)"
      ]
     },
     "execution_count": 34,
     "metadata": {},
     "output_type": "execute_result"
    }
   ],
   "source": [
    "y.shape"
   ]
  },
  {
   "cell_type": "code",
   "execution_count": 59,
   "metadata": {},
   "outputs": [
    {
     "data": {
      "text/html": [
       "<div>\n",
       "<style scoped>\n",
       "    .dataframe tbody tr th:only-of-type {\n",
       "        vertical-align: middle;\n",
       "    }\n",
       "\n",
       "    .dataframe tbody tr th {\n",
       "        vertical-align: top;\n",
       "    }\n",
       "\n",
       "    .dataframe thead th {\n",
       "        text-align: right;\n",
       "    }\n",
       "</style>\n",
       "<table border=\"1\" class=\"dataframe\">\n",
       "  <thead>\n",
       "    <tr style=\"text-align: right;\">\n",
       "      <th></th>\n",
       "      <th>f1</th>\n",
       "      <th>f2</th>\n",
       "      <th>f3</th>\n",
       "      <th>f4</th>\n",
       "      <th>f5</th>\n",
       "      <th>f6</th>\n",
       "      <th>f7</th>\n",
       "    </tr>\n",
       "  </thead>\n",
       "  <tbody>\n",
       "    <tr>\n",
       "      <th>31099</th>\n",
       "      <td>0.298441</td>\n",
       "      <td>0.253036</td>\n",
       "      <td>0.288679</td>\n",
       "      <td>0.291489</td>\n",
       "      <td>0.255575</td>\n",
       "      <td>0.204545</td>\n",
       "      <td>0.184783</td>\n",
       "    </tr>\n",
       "    <tr>\n",
       "      <th>31100</th>\n",
       "      <td>0.407572</td>\n",
       "      <td>0.382591</td>\n",
       "      <td>0.358491</td>\n",
       "      <td>0.312766</td>\n",
       "      <td>0.286449</td>\n",
       "      <td>0.195076</td>\n",
       "      <td>0.191304</td>\n",
       "    </tr>\n",
       "    <tr>\n",
       "      <th>31101</th>\n",
       "      <td>0.276169</td>\n",
       "      <td>0.285425</td>\n",
       "      <td>0.309434</td>\n",
       "      <td>0.293617</td>\n",
       "      <td>0.257290</td>\n",
       "      <td>0.231061</td>\n",
       "      <td>0.247826</td>\n",
       "    </tr>\n",
       "    <tr>\n",
       "      <th>31102</th>\n",
       "      <td>0.271715</td>\n",
       "      <td>0.246964</td>\n",
       "      <td>0.335849</td>\n",
       "      <td>0.270213</td>\n",
       "      <td>0.217839</td>\n",
       "      <td>0.159091</td>\n",
       "      <td>0.173913</td>\n",
       "    </tr>\n",
       "    <tr>\n",
       "      <th>31103</th>\n",
       "      <td>0.229399</td>\n",
       "      <td>0.212551</td>\n",
       "      <td>0.245283</td>\n",
       "      <td>0.265957</td>\n",
       "      <td>0.222985</td>\n",
       "      <td>0.176136</td>\n",
       "      <td>0.189130</td>\n",
       "    </tr>\n",
       "  </tbody>\n",
       "</table>\n",
       "</div>"
      ],
      "text/plain": [
       "             f1        f2        f3        f4        f5        f6        f7\n",
       "31099  0.298441  0.253036  0.288679  0.291489  0.255575  0.204545  0.184783\n",
       "31100  0.407572  0.382591  0.358491  0.312766  0.286449  0.195076  0.191304\n",
       "31101  0.276169  0.285425  0.309434  0.293617  0.257290  0.231061  0.247826\n",
       "31102  0.271715  0.246964  0.335849  0.270213  0.217839  0.159091  0.173913\n",
       "31103  0.229399  0.212551  0.245283  0.265957  0.222985  0.176136  0.189130"
      ]
     },
     "execution_count": 59,
     "metadata": {},
     "output_type": "execute_result"
    }
   ],
   "source": [
    "train.tail()"
   ]
  },
  {
   "cell_type": "code",
   "execution_count": 35,
   "metadata": {},
   "outputs": [
    {
     "data": {
      "text/plain": [
       "array([0.22939866, 0.21255061, 0.24528302, 0.26595745, 0.22298456,\n",
       "       0.17613636, 0.18913043])"
      ]
     },
     "execution_count": 35,
     "metadata": {},
     "output_type": "execute_result"
    }
   ],
   "source": [
    "y[-1]"
   ]
  },
  {
   "cell_type": "code",
   "execution_count": 36,
   "metadata": {},
   "outputs": [],
   "source": [
    "# Checked as correct"
   ]
  },
  {
   "cell_type": "code",
   "execution_count": 37,
   "metadata": {},
   "outputs": [],
   "source": [
    "# Save \n",
    "\n",
    "np.savez_compressed(\"Deep_train_30_multi\", x=x , y=y)"
   ]
  },
  {
   "cell_type": "markdown",
   "metadata": {},
   "source": [
    "## Test"
   ]
  },
  {
   "cell_type": "code",
   "execution_count": 38,
   "metadata": {},
   "outputs": [],
   "source": [
    "length = 15\n",
    "step = 6\n",
    "k = -1\n",
    "\n",
    "a = np.zeros((15, 7))\n",
    "b = np.zeros((7,))\n",
    "x = np.zeros((15, 7))\n",
    "y = np.zeros((7,))\n",
    "\n",
    "\n",
    "for i in range(length, (len(test)-step+1)):\n",
    "    b = np.asarray(test.iloc[i+step-1])\n",
    "    k = k+1\n",
    "    for j in range(length):\n",
    "        if j+k <= (len(test) + length - step):\n",
    "            a[j] = test.iloc[j+k]\n",
    "            \n",
    "    x = np.append(x, a, axis=0)\n",
    "    y = np.append(y, b, axis=0)\n",
    "    \n",
    "x = np.delete(x, np.s_[0:15], 0).reshape(-1, 15, 7)\n",
    "y = np.delete(y, np.s_[0:7], 0).reshape(-1, 7)"
   ]
  },
  {
   "cell_type": "code",
   "execution_count": 39,
   "metadata": {},
   "outputs": [
    {
     "data": {
      "text/plain": [
       "(4012, 15, 7)"
      ]
     },
     "execution_count": 39,
     "metadata": {},
     "output_type": "execute_result"
    }
   ],
   "source": [
    "x.shape"
   ]
  },
  {
   "cell_type": "code",
   "execution_count": 40,
   "metadata": {},
   "outputs": [
    {
     "data": {
      "text/plain": [
       "(4012, 7)"
      ]
     },
     "execution_count": 40,
     "metadata": {},
     "output_type": "execute_result"
    }
   ],
   "source": [
    "y.shape"
   ]
  },
  {
   "cell_type": "code",
   "execution_count": 60,
   "metadata": {},
   "outputs": [
    {
     "data": {
      "text/html": [
       "<div>\n",
       "<style scoped>\n",
       "    .dataframe tbody tr th:only-of-type {\n",
       "        vertical-align: middle;\n",
       "    }\n",
       "\n",
       "    .dataframe tbody tr th {\n",
       "        vertical-align: top;\n",
       "    }\n",
       "\n",
       "    .dataframe thead th {\n",
       "        text-align: right;\n",
       "    }\n",
       "</style>\n",
       "<table border=\"1\" class=\"dataframe\">\n",
       "  <thead>\n",
       "    <tr style=\"text-align: right;\">\n",
       "      <th></th>\n",
       "      <th>f1</th>\n",
       "      <th>f2</th>\n",
       "      <th>f3</th>\n",
       "      <th>f4</th>\n",
       "      <th>f5</th>\n",
       "      <th>f6</th>\n",
       "      <th>f7</th>\n",
       "    </tr>\n",
       "  </thead>\n",
       "  <tbody>\n",
       "    <tr>\n",
       "      <th>4027</th>\n",
       "      <td>0.282851</td>\n",
       "      <td>0.253036</td>\n",
       "      <td>0.264151</td>\n",
       "      <td>0.302128</td>\n",
       "      <td>0.233276</td>\n",
       "      <td>0.196970</td>\n",
       "      <td>0.169565</td>\n",
       "    </tr>\n",
       "    <tr>\n",
       "      <th>4028</th>\n",
       "      <td>0.262806</td>\n",
       "      <td>0.222672</td>\n",
       "      <td>0.243396</td>\n",
       "      <td>0.246809</td>\n",
       "      <td>0.166381</td>\n",
       "      <td>0.174242</td>\n",
       "      <td>0.180435</td>\n",
       "    </tr>\n",
       "    <tr>\n",
       "      <th>4029</th>\n",
       "      <td>0.204900</td>\n",
       "      <td>0.188259</td>\n",
       "      <td>0.213208</td>\n",
       "      <td>0.270213</td>\n",
       "      <td>0.221269</td>\n",
       "      <td>0.166667</td>\n",
       "      <td>0.171739</td>\n",
       "    </tr>\n",
       "    <tr>\n",
       "      <th>4030</th>\n",
       "      <td>0.273942</td>\n",
       "      <td>0.246964</td>\n",
       "      <td>0.247170</td>\n",
       "      <td>0.219149</td>\n",
       "      <td>0.183533</td>\n",
       "      <td>0.195076</td>\n",
       "      <td>0.193478</td>\n",
       "    </tr>\n",
       "    <tr>\n",
       "      <th>4031</th>\n",
       "      <td>0.247216</td>\n",
       "      <td>0.194332</td>\n",
       "      <td>0.237736</td>\n",
       "      <td>0.272340</td>\n",
       "      <td>0.193825</td>\n",
       "      <td>0.178030</td>\n",
       "      <td>0.200000</td>\n",
       "    </tr>\n",
       "  </tbody>\n",
       "</table>\n",
       "</div>"
      ],
      "text/plain": [
       "            f1        f2        f3        f4        f5        f6        f7\n",
       "4027  0.282851  0.253036  0.264151  0.302128  0.233276  0.196970  0.169565\n",
       "4028  0.262806  0.222672  0.243396  0.246809  0.166381  0.174242  0.180435\n",
       "4029  0.204900  0.188259  0.213208  0.270213  0.221269  0.166667  0.171739\n",
       "4030  0.273942  0.246964  0.247170  0.219149  0.183533  0.195076  0.193478\n",
       "4031  0.247216  0.194332  0.237736  0.272340  0.193825  0.178030  0.200000"
      ]
     },
     "execution_count": 60,
     "metadata": {},
     "output_type": "execute_result"
    }
   ],
   "source": [
    "test.tail()"
   ]
  },
  {
   "cell_type": "code",
   "execution_count": 41,
   "metadata": {},
   "outputs": [
    {
     "data": {
      "text/plain": [
       "array([0.24721604, 0.19433198, 0.23773585, 0.27234043, 0.19382504,\n",
       "       0.1780303 , 0.2       ])"
      ]
     },
     "execution_count": 41,
     "metadata": {},
     "output_type": "execute_result"
    }
   ],
   "source": [
    "y[-1]"
   ]
  },
  {
   "cell_type": "code",
   "execution_count": 42,
   "metadata": {},
   "outputs": [],
   "source": [
    "# Checked as correct"
   ]
  },
  {
   "cell_type": "code",
   "execution_count": 43,
   "metadata": {},
   "outputs": [],
   "source": [
    "# Save \n",
    "\n",
    "np.savez_compressed(\"Deep_test_30_multi\", x=x , y=y)"
   ]
  },
  {
   "cell_type": "markdown",
   "metadata": {},
   "source": [
    "# 60-minute (12 step ahead) forecast"
   ]
  },
  {
   "cell_type": "markdown",
   "metadata": {},
   "source": [
    "## Train"
   ]
  },
  {
   "cell_type": "code",
   "execution_count": 44,
   "metadata": {},
   "outputs": [],
   "source": [
    "length = 15\n",
    "step = 12\n",
    "k = -1\n",
    "\n",
    "a = np.zeros((15, 7))\n",
    "b = np.zeros((7,))\n",
    "x = np.zeros((15, 7))\n",
    "y = np.zeros((7,))\n",
    "\n",
    "\n",
    "for i in range(length, (len(train)-step+1)):\n",
    "    b = np.asarray(train.iloc[i+step-1])\n",
    "    k = k+1\n",
    "    for j in range(length):\n",
    "        if j+k <= (len(train) + length - step):\n",
    "            a[j] = train.iloc[j+k]\n",
    "            \n",
    "    x = np.append(x, a, axis=0)\n",
    "    y = np.append(y, b, axis=0)\n",
    "    \n",
    "x = np.delete(x, np.s_[0:15], 0).reshape(-1, 15, 7)\n",
    "y = np.delete(y, np.s_[0:7], 0).reshape(-1, 7)"
   ]
  },
  {
   "cell_type": "code",
   "execution_count": 45,
   "metadata": {},
   "outputs": [
    {
     "data": {
      "text/plain": [
       "(31078, 15, 7)"
      ]
     },
     "execution_count": 45,
     "metadata": {},
     "output_type": "execute_result"
    }
   ],
   "source": [
    "x.shape"
   ]
  },
  {
   "cell_type": "code",
   "execution_count": 46,
   "metadata": {},
   "outputs": [
    {
     "data": {
      "text/plain": [
       "(31078, 7)"
      ]
     },
     "execution_count": 46,
     "metadata": {},
     "output_type": "execute_result"
    }
   ],
   "source": [
    "y.shape"
   ]
  },
  {
   "cell_type": "code",
   "execution_count": 61,
   "metadata": {},
   "outputs": [
    {
     "data": {
      "text/html": [
       "<div>\n",
       "<style scoped>\n",
       "    .dataframe tbody tr th:only-of-type {\n",
       "        vertical-align: middle;\n",
       "    }\n",
       "\n",
       "    .dataframe tbody tr th {\n",
       "        vertical-align: top;\n",
       "    }\n",
       "\n",
       "    .dataframe thead th {\n",
       "        text-align: right;\n",
       "    }\n",
       "</style>\n",
       "<table border=\"1\" class=\"dataframe\">\n",
       "  <thead>\n",
       "    <tr style=\"text-align: right;\">\n",
       "      <th></th>\n",
       "      <th>f1</th>\n",
       "      <th>f2</th>\n",
       "      <th>f3</th>\n",
       "      <th>f4</th>\n",
       "      <th>f5</th>\n",
       "      <th>f6</th>\n",
       "      <th>f7</th>\n",
       "    </tr>\n",
       "  </thead>\n",
       "  <tbody>\n",
       "    <tr>\n",
       "      <th>31099</th>\n",
       "      <td>0.298441</td>\n",
       "      <td>0.253036</td>\n",
       "      <td>0.288679</td>\n",
       "      <td>0.291489</td>\n",
       "      <td>0.255575</td>\n",
       "      <td>0.204545</td>\n",
       "      <td>0.184783</td>\n",
       "    </tr>\n",
       "    <tr>\n",
       "      <th>31100</th>\n",
       "      <td>0.407572</td>\n",
       "      <td>0.382591</td>\n",
       "      <td>0.358491</td>\n",
       "      <td>0.312766</td>\n",
       "      <td>0.286449</td>\n",
       "      <td>0.195076</td>\n",
       "      <td>0.191304</td>\n",
       "    </tr>\n",
       "    <tr>\n",
       "      <th>31101</th>\n",
       "      <td>0.276169</td>\n",
       "      <td>0.285425</td>\n",
       "      <td>0.309434</td>\n",
       "      <td>0.293617</td>\n",
       "      <td>0.257290</td>\n",
       "      <td>0.231061</td>\n",
       "      <td>0.247826</td>\n",
       "    </tr>\n",
       "    <tr>\n",
       "      <th>31102</th>\n",
       "      <td>0.271715</td>\n",
       "      <td>0.246964</td>\n",
       "      <td>0.335849</td>\n",
       "      <td>0.270213</td>\n",
       "      <td>0.217839</td>\n",
       "      <td>0.159091</td>\n",
       "      <td>0.173913</td>\n",
       "    </tr>\n",
       "    <tr>\n",
       "      <th>31103</th>\n",
       "      <td>0.229399</td>\n",
       "      <td>0.212551</td>\n",
       "      <td>0.245283</td>\n",
       "      <td>0.265957</td>\n",
       "      <td>0.222985</td>\n",
       "      <td>0.176136</td>\n",
       "      <td>0.189130</td>\n",
       "    </tr>\n",
       "  </tbody>\n",
       "</table>\n",
       "</div>"
      ],
      "text/plain": [
       "             f1        f2        f3        f4        f5        f6        f7\n",
       "31099  0.298441  0.253036  0.288679  0.291489  0.255575  0.204545  0.184783\n",
       "31100  0.407572  0.382591  0.358491  0.312766  0.286449  0.195076  0.191304\n",
       "31101  0.276169  0.285425  0.309434  0.293617  0.257290  0.231061  0.247826\n",
       "31102  0.271715  0.246964  0.335849  0.270213  0.217839  0.159091  0.173913\n",
       "31103  0.229399  0.212551  0.245283  0.265957  0.222985  0.176136  0.189130"
      ]
     },
     "execution_count": 61,
     "metadata": {},
     "output_type": "execute_result"
    }
   ],
   "source": [
    "train.tail()"
   ]
  },
  {
   "cell_type": "code",
   "execution_count": 47,
   "metadata": {},
   "outputs": [
    {
     "data": {
      "text/plain": [
       "array([0.22939866, 0.21255061, 0.24528302, 0.26595745, 0.22298456,\n",
       "       0.17613636, 0.18913043])"
      ]
     },
     "execution_count": 47,
     "metadata": {},
     "output_type": "execute_result"
    }
   ],
   "source": [
    "y[-1]"
   ]
  },
  {
   "cell_type": "code",
   "execution_count": 48,
   "metadata": {},
   "outputs": [],
   "source": [
    "# Checked as correct"
   ]
  },
  {
   "cell_type": "code",
   "execution_count": 49,
   "metadata": {},
   "outputs": [],
   "source": [
    "# Save \n",
    "\n",
    "np.savez_compressed(\"Deep_train_60_multi\", x=x , y=y)"
   ]
  },
  {
   "cell_type": "markdown",
   "metadata": {},
   "source": [
    "## Test"
   ]
  },
  {
   "cell_type": "code",
   "execution_count": 50,
   "metadata": {},
   "outputs": [],
   "source": [
    "length = 15\n",
    "step = 12\n",
    "k = -1\n",
    "\n",
    "a = np.zeros((15, 7))\n",
    "b = np.zeros((7,))\n",
    "x = np.zeros((15, 7))\n",
    "y = np.zeros((7,))\n",
    "\n",
    "\n",
    "for i in range(length, (len(test)-step+1)):\n",
    "    b = np.asarray(test.iloc[i+step-1])\n",
    "    k = k+1\n",
    "    for j in range(length):\n",
    "        if j+k <= (len(test) + length - step):\n",
    "            a[j] = test.iloc[j+k]\n",
    "            \n",
    "    x = np.append(x, a, axis=0)\n",
    "    y = np.append(y, b, axis=0)\n",
    "    \n",
    "x = np.delete(x, np.s_[0:15], 0).reshape(-1, 15, 7)\n",
    "y = np.delete(y, np.s_[0:7], 0).reshape(-1, 7)"
   ]
  },
  {
   "cell_type": "code",
   "execution_count": 51,
   "metadata": {},
   "outputs": [
    {
     "data": {
      "text/plain": [
       "(4006, 15, 7)"
      ]
     },
     "execution_count": 51,
     "metadata": {},
     "output_type": "execute_result"
    }
   ],
   "source": [
    "x.shape"
   ]
  },
  {
   "cell_type": "code",
   "execution_count": 52,
   "metadata": {},
   "outputs": [
    {
     "data": {
      "text/plain": [
       "(4006, 7)"
      ]
     },
     "execution_count": 52,
     "metadata": {},
     "output_type": "execute_result"
    }
   ],
   "source": [
    "y.shape"
   ]
  },
  {
   "cell_type": "code",
   "execution_count": 62,
   "metadata": {},
   "outputs": [
    {
     "data": {
      "text/html": [
       "<div>\n",
       "<style scoped>\n",
       "    .dataframe tbody tr th:only-of-type {\n",
       "        vertical-align: middle;\n",
       "    }\n",
       "\n",
       "    .dataframe tbody tr th {\n",
       "        vertical-align: top;\n",
       "    }\n",
       "\n",
       "    .dataframe thead th {\n",
       "        text-align: right;\n",
       "    }\n",
       "</style>\n",
       "<table border=\"1\" class=\"dataframe\">\n",
       "  <thead>\n",
       "    <tr style=\"text-align: right;\">\n",
       "      <th></th>\n",
       "      <th>f1</th>\n",
       "      <th>f2</th>\n",
       "      <th>f3</th>\n",
       "      <th>f4</th>\n",
       "      <th>f5</th>\n",
       "      <th>f6</th>\n",
       "      <th>f7</th>\n",
       "    </tr>\n",
       "  </thead>\n",
       "  <tbody>\n",
       "    <tr>\n",
       "      <th>4027</th>\n",
       "      <td>0.282851</td>\n",
       "      <td>0.253036</td>\n",
       "      <td>0.264151</td>\n",
       "      <td>0.302128</td>\n",
       "      <td>0.233276</td>\n",
       "      <td>0.196970</td>\n",
       "      <td>0.169565</td>\n",
       "    </tr>\n",
       "    <tr>\n",
       "      <th>4028</th>\n",
       "      <td>0.262806</td>\n",
       "      <td>0.222672</td>\n",
       "      <td>0.243396</td>\n",
       "      <td>0.246809</td>\n",
       "      <td>0.166381</td>\n",
       "      <td>0.174242</td>\n",
       "      <td>0.180435</td>\n",
       "    </tr>\n",
       "    <tr>\n",
       "      <th>4029</th>\n",
       "      <td>0.204900</td>\n",
       "      <td>0.188259</td>\n",
       "      <td>0.213208</td>\n",
       "      <td>0.270213</td>\n",
       "      <td>0.221269</td>\n",
       "      <td>0.166667</td>\n",
       "      <td>0.171739</td>\n",
       "    </tr>\n",
       "    <tr>\n",
       "      <th>4030</th>\n",
       "      <td>0.273942</td>\n",
       "      <td>0.246964</td>\n",
       "      <td>0.247170</td>\n",
       "      <td>0.219149</td>\n",
       "      <td>0.183533</td>\n",
       "      <td>0.195076</td>\n",
       "      <td>0.193478</td>\n",
       "    </tr>\n",
       "    <tr>\n",
       "      <th>4031</th>\n",
       "      <td>0.247216</td>\n",
       "      <td>0.194332</td>\n",
       "      <td>0.237736</td>\n",
       "      <td>0.272340</td>\n",
       "      <td>0.193825</td>\n",
       "      <td>0.178030</td>\n",
       "      <td>0.200000</td>\n",
       "    </tr>\n",
       "  </tbody>\n",
       "</table>\n",
       "</div>"
      ],
      "text/plain": [
       "            f1        f2        f3        f4        f5        f6        f7\n",
       "4027  0.282851  0.253036  0.264151  0.302128  0.233276  0.196970  0.169565\n",
       "4028  0.262806  0.222672  0.243396  0.246809  0.166381  0.174242  0.180435\n",
       "4029  0.204900  0.188259  0.213208  0.270213  0.221269  0.166667  0.171739\n",
       "4030  0.273942  0.246964  0.247170  0.219149  0.183533  0.195076  0.193478\n",
       "4031  0.247216  0.194332  0.237736  0.272340  0.193825  0.178030  0.200000"
      ]
     },
     "execution_count": 62,
     "metadata": {},
     "output_type": "execute_result"
    }
   ],
   "source": [
    "test.tail()"
   ]
  },
  {
   "cell_type": "code",
   "execution_count": 53,
   "metadata": {},
   "outputs": [
    {
     "data": {
      "text/plain": [
       "array([0.24721604, 0.19433198, 0.23773585, 0.27234043, 0.19382504,\n",
       "       0.1780303 , 0.2       ])"
      ]
     },
     "execution_count": 53,
     "metadata": {},
     "output_type": "execute_result"
    }
   ],
   "source": [
    "y[-1]"
   ]
  },
  {
   "cell_type": "code",
   "execution_count": 54,
   "metadata": {},
   "outputs": [],
   "source": [
    "# Checked as correct"
   ]
  },
  {
   "cell_type": "code",
   "execution_count": 55,
   "metadata": {},
   "outputs": [],
   "source": [
    "# Save \n",
    "\n",
    "np.savez_compressed(\"Deep_test_60_multi\", x=x , y=y)"
   ]
  }
 ],
 "metadata": {
  "kernelspec": {
   "display_name": "Python 3 (ipykernel)",
   "language": "python",
   "name": "python3"
  },
  "language_info": {
   "codemirror_mode": {
    "name": "ipython",
    "version": 3
   },
   "file_extension": ".py",
   "mimetype": "text/x-python",
   "name": "python",
   "nbconvert_exporter": "python",
   "pygments_lexer": "ipython3",
   "version": "3.9.12"
  }
 },
 "nbformat": 4,
 "nbformat_minor": 4
}
