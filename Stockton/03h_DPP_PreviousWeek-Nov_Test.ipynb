{
 "cells": [
  {
   "cell_type": "code",
   "execution_count": 1,
   "id": "38a99ba8",
   "metadata": {},
   "outputs": [],
   "source": [
    "import pandas as pd\n",
    "import numpy as np\n",
    "import matplotlib.pyplot as plt\n",
    "import seaborn as sns\n",
    "import joblib"
   ]
  },
  {
   "cell_type": "code",
   "execution_count": 2,
   "id": "bf397cfa",
   "metadata": {},
   "outputs": [],
   "source": [
    "Ext             = pd.DataFrame(joblib.load(\"0000Test.save\")) "
   ]
  },
  {
   "cell_type": "code",
   "execution_count": 3,
   "id": "375c5ab9",
   "metadata": {},
   "outputs": [],
   "source": [
    "columns = ['f1', 'f2', 'f3', 'f4', 'f5', 'f6', 'f7']\n",
    "Ext.columns = columns"
   ]
  },
  {
   "cell_type": "code",
   "execution_count": 4,
   "id": "121a393d",
   "metadata": {},
   "outputs": [
    {
     "data": {
      "text/html": [
       "<div>\n",
       "<style scoped>\n",
       "    .dataframe tbody tr th:only-of-type {\n",
       "        vertical-align: middle;\n",
       "    }\n",
       "\n",
       "    .dataframe tbody tr th {\n",
       "        vertical-align: top;\n",
       "    }\n",
       "\n",
       "    .dataframe thead th {\n",
       "        text-align: right;\n",
       "    }\n",
       "</style>\n",
       "<table border=\"1\" class=\"dataframe\">\n",
       "  <thead>\n",
       "    <tr style=\"text-align: right;\">\n",
       "      <th></th>\n",
       "      <th>f1</th>\n",
       "      <th>f2</th>\n",
       "      <th>f3</th>\n",
       "      <th>f4</th>\n",
       "      <th>f5</th>\n",
       "      <th>f6</th>\n",
       "      <th>f7</th>\n",
       "    </tr>\n",
       "  </thead>\n",
       "  <tbody>\n",
       "    <tr>\n",
       "      <th>0</th>\n",
       "      <td>0.236080</td>\n",
       "      <td>0.200405</td>\n",
       "      <td>0.228302</td>\n",
       "      <td>0.227660</td>\n",
       "      <td>0.156089</td>\n",
       "      <td>0.134470</td>\n",
       "      <td>0.147826</td>\n",
       "    </tr>\n",
       "    <tr>\n",
       "      <th>1</th>\n",
       "      <td>0.240535</td>\n",
       "      <td>0.206478</td>\n",
       "      <td>0.216981</td>\n",
       "      <td>0.285106</td>\n",
       "      <td>0.209262</td>\n",
       "      <td>0.166667</td>\n",
       "      <td>0.145652</td>\n",
       "    </tr>\n",
       "    <tr>\n",
       "      <th>2</th>\n",
       "      <td>0.184855</td>\n",
       "      <td>0.182186</td>\n",
       "      <td>0.156604</td>\n",
       "      <td>0.261702</td>\n",
       "      <td>0.185249</td>\n",
       "      <td>0.185606</td>\n",
       "      <td>0.191304</td>\n",
       "    </tr>\n",
       "    <tr>\n",
       "      <th>3</th>\n",
       "      <td>0.216036</td>\n",
       "      <td>0.212551</td>\n",
       "      <td>0.226415</td>\n",
       "      <td>0.242553</td>\n",
       "      <td>0.183533</td>\n",
       "      <td>0.136364</td>\n",
       "      <td>0.163043</td>\n",
       "    </tr>\n",
       "    <tr>\n",
       "      <th>4</th>\n",
       "      <td>0.204900</td>\n",
       "      <td>0.178138</td>\n",
       "      <td>0.205660</td>\n",
       "      <td>0.193617</td>\n",
       "      <td>0.123499</td>\n",
       "      <td>0.164773</td>\n",
       "      <td>0.169565</td>\n",
       "    </tr>\n",
       "    <tr>\n",
       "      <th>...</th>\n",
       "      <td>...</td>\n",
       "      <td>...</td>\n",
       "      <td>...</td>\n",
       "      <td>...</td>\n",
       "      <td>...</td>\n",
       "      <td>...</td>\n",
       "      <td>...</td>\n",
       "    </tr>\n",
       "    <tr>\n",
       "      <th>8347</th>\n",
       "      <td>0.224944</td>\n",
       "      <td>0.216599</td>\n",
       "      <td>0.233962</td>\n",
       "      <td>0.242553</td>\n",
       "      <td>0.192110</td>\n",
       "      <td>0.172348</td>\n",
       "      <td>0.219565</td>\n",
       "    </tr>\n",
       "    <tr>\n",
       "      <th>8348</th>\n",
       "      <td>0.187082</td>\n",
       "      <td>0.125506</td>\n",
       "      <td>0.183019</td>\n",
       "      <td>0.229787</td>\n",
       "      <td>0.180103</td>\n",
       "      <td>0.193182</td>\n",
       "      <td>0.252174</td>\n",
       "    </tr>\n",
       "    <tr>\n",
       "      <th>8349</th>\n",
       "      <td>0.262806</td>\n",
       "      <td>0.218623</td>\n",
       "      <td>0.273585</td>\n",
       "      <td>0.246809</td>\n",
       "      <td>0.176672</td>\n",
       "      <td>0.147727</td>\n",
       "      <td>0.206522</td>\n",
       "    </tr>\n",
       "    <tr>\n",
       "      <th>8350</th>\n",
       "      <td>0.231626</td>\n",
       "      <td>0.224696</td>\n",
       "      <td>0.215094</td>\n",
       "      <td>0.217021</td>\n",
       "      <td>0.178388</td>\n",
       "      <td>0.151515</td>\n",
       "      <td>0.215217</td>\n",
       "    </tr>\n",
       "    <tr>\n",
       "      <th>8351</th>\n",
       "      <td>0.189310</td>\n",
       "      <td>0.161943</td>\n",
       "      <td>0.177358</td>\n",
       "      <td>0.212766</td>\n",
       "      <td>0.162950</td>\n",
       "      <td>0.181818</td>\n",
       "      <td>0.247826</td>\n",
       "    </tr>\n",
       "  </tbody>\n",
       "</table>\n",
       "<p>8352 rows × 7 columns</p>\n",
       "</div>"
      ],
      "text/plain": [
       "            f1        f2        f3        f4        f5        f6        f7\n",
       "0     0.236080  0.200405  0.228302  0.227660  0.156089  0.134470  0.147826\n",
       "1     0.240535  0.206478  0.216981  0.285106  0.209262  0.166667  0.145652\n",
       "2     0.184855  0.182186  0.156604  0.261702  0.185249  0.185606  0.191304\n",
       "3     0.216036  0.212551  0.226415  0.242553  0.183533  0.136364  0.163043\n",
       "4     0.204900  0.178138  0.205660  0.193617  0.123499  0.164773  0.169565\n",
       "...        ...       ...       ...       ...       ...       ...       ...\n",
       "8347  0.224944  0.216599  0.233962  0.242553  0.192110  0.172348  0.219565\n",
       "8348  0.187082  0.125506  0.183019  0.229787  0.180103  0.193182  0.252174\n",
       "8349  0.262806  0.218623  0.273585  0.246809  0.176672  0.147727  0.206522\n",
       "8350  0.231626  0.224696  0.215094  0.217021  0.178388  0.151515  0.215217\n",
       "8351  0.189310  0.161943  0.177358  0.212766  0.162950  0.181818  0.247826\n",
       "\n",
       "[8352 rows x 7 columns]"
      ]
     },
     "execution_count": 4,
     "metadata": {},
     "output_type": "execute_result"
    }
   ],
   "source": [
    "Ext"
   ]
  },
  {
   "cell_type": "markdown",
   "id": "66a3bf4d",
   "metadata": {},
   "source": [
    "### Total Data"
   ]
  },
  {
   "cell_type": "code",
   "execution_count": 5,
   "id": "5b4619da",
   "metadata": {},
   "outputs": [],
   "source": [
    "df = Ext.copy()"
   ]
  },
  {
   "cell_type": "code",
   "execution_count": 6,
   "id": "a846a23f",
   "metadata": {},
   "outputs": [
    {
     "data": {
      "text/html": [
       "<div>\n",
       "<style scoped>\n",
       "    .dataframe tbody tr th:only-of-type {\n",
       "        vertical-align: middle;\n",
       "    }\n",
       "\n",
       "    .dataframe tbody tr th {\n",
       "        vertical-align: top;\n",
       "    }\n",
       "\n",
       "    .dataframe thead th {\n",
       "        text-align: right;\n",
       "    }\n",
       "</style>\n",
       "<table border=\"1\" class=\"dataframe\">\n",
       "  <thead>\n",
       "    <tr style=\"text-align: right;\">\n",
       "      <th></th>\n",
       "      <th>f1</th>\n",
       "      <th>f2</th>\n",
       "      <th>f3</th>\n",
       "      <th>f4</th>\n",
       "      <th>f5</th>\n",
       "      <th>f6</th>\n",
       "      <th>f7</th>\n",
       "    </tr>\n",
       "  </thead>\n",
       "  <tbody>\n",
       "    <tr>\n",
       "      <th>0</th>\n",
       "      <td>0.236080</td>\n",
       "      <td>0.200405</td>\n",
       "      <td>0.228302</td>\n",
       "      <td>0.227660</td>\n",
       "      <td>0.156089</td>\n",
       "      <td>0.134470</td>\n",
       "      <td>0.147826</td>\n",
       "    </tr>\n",
       "    <tr>\n",
       "      <th>1</th>\n",
       "      <td>0.240535</td>\n",
       "      <td>0.206478</td>\n",
       "      <td>0.216981</td>\n",
       "      <td>0.285106</td>\n",
       "      <td>0.209262</td>\n",
       "      <td>0.166667</td>\n",
       "      <td>0.145652</td>\n",
       "    </tr>\n",
       "    <tr>\n",
       "      <th>2</th>\n",
       "      <td>0.184855</td>\n",
       "      <td>0.182186</td>\n",
       "      <td>0.156604</td>\n",
       "      <td>0.261702</td>\n",
       "      <td>0.185249</td>\n",
       "      <td>0.185606</td>\n",
       "      <td>0.191304</td>\n",
       "    </tr>\n",
       "    <tr>\n",
       "      <th>3</th>\n",
       "      <td>0.216036</td>\n",
       "      <td>0.212551</td>\n",
       "      <td>0.226415</td>\n",
       "      <td>0.242553</td>\n",
       "      <td>0.183533</td>\n",
       "      <td>0.136364</td>\n",
       "      <td>0.163043</td>\n",
       "    </tr>\n",
       "    <tr>\n",
       "      <th>4</th>\n",
       "      <td>0.204900</td>\n",
       "      <td>0.178138</td>\n",
       "      <td>0.205660</td>\n",
       "      <td>0.193617</td>\n",
       "      <td>0.123499</td>\n",
       "      <td>0.164773</td>\n",
       "      <td>0.169565</td>\n",
       "    </tr>\n",
       "    <tr>\n",
       "      <th>...</th>\n",
       "      <td>...</td>\n",
       "      <td>...</td>\n",
       "      <td>...</td>\n",
       "      <td>...</td>\n",
       "      <td>...</td>\n",
       "      <td>...</td>\n",
       "      <td>...</td>\n",
       "    </tr>\n",
       "    <tr>\n",
       "      <th>8347</th>\n",
       "      <td>0.224944</td>\n",
       "      <td>0.216599</td>\n",
       "      <td>0.233962</td>\n",
       "      <td>0.242553</td>\n",
       "      <td>0.192110</td>\n",
       "      <td>0.172348</td>\n",
       "      <td>0.219565</td>\n",
       "    </tr>\n",
       "    <tr>\n",
       "      <th>8348</th>\n",
       "      <td>0.187082</td>\n",
       "      <td>0.125506</td>\n",
       "      <td>0.183019</td>\n",
       "      <td>0.229787</td>\n",
       "      <td>0.180103</td>\n",
       "      <td>0.193182</td>\n",
       "      <td>0.252174</td>\n",
       "    </tr>\n",
       "    <tr>\n",
       "      <th>8349</th>\n",
       "      <td>0.262806</td>\n",
       "      <td>0.218623</td>\n",
       "      <td>0.273585</td>\n",
       "      <td>0.246809</td>\n",
       "      <td>0.176672</td>\n",
       "      <td>0.147727</td>\n",
       "      <td>0.206522</td>\n",
       "    </tr>\n",
       "    <tr>\n",
       "      <th>8350</th>\n",
       "      <td>0.231626</td>\n",
       "      <td>0.224696</td>\n",
       "      <td>0.215094</td>\n",
       "      <td>0.217021</td>\n",
       "      <td>0.178388</td>\n",
       "      <td>0.151515</td>\n",
       "      <td>0.215217</td>\n",
       "    </tr>\n",
       "    <tr>\n",
       "      <th>8351</th>\n",
       "      <td>0.189310</td>\n",
       "      <td>0.161943</td>\n",
       "      <td>0.177358</td>\n",
       "      <td>0.212766</td>\n",
       "      <td>0.162950</td>\n",
       "      <td>0.181818</td>\n",
       "      <td>0.247826</td>\n",
       "    </tr>\n",
       "  </tbody>\n",
       "</table>\n",
       "<p>8352 rows × 7 columns</p>\n",
       "</div>"
      ],
      "text/plain": [
       "            f1        f2        f3        f4        f5        f6        f7\n",
       "0     0.236080  0.200405  0.228302  0.227660  0.156089  0.134470  0.147826\n",
       "1     0.240535  0.206478  0.216981  0.285106  0.209262  0.166667  0.145652\n",
       "2     0.184855  0.182186  0.156604  0.261702  0.185249  0.185606  0.191304\n",
       "3     0.216036  0.212551  0.226415  0.242553  0.183533  0.136364  0.163043\n",
       "4     0.204900  0.178138  0.205660  0.193617  0.123499  0.164773  0.169565\n",
       "...        ...       ...       ...       ...       ...       ...       ...\n",
       "8347  0.224944  0.216599  0.233962  0.242553  0.192110  0.172348  0.219565\n",
       "8348  0.187082  0.125506  0.183019  0.229787  0.180103  0.193182  0.252174\n",
       "8349  0.262806  0.218623  0.273585  0.246809  0.176672  0.147727  0.206522\n",
       "8350  0.231626  0.224696  0.215094  0.217021  0.178388  0.151515  0.215217\n",
       "8351  0.189310  0.161943  0.177358  0.212766  0.162950  0.181818  0.247826\n",
       "\n",
       "[8352 rows x 7 columns]"
      ]
     },
     "execution_count": 6,
     "metadata": {},
     "output_type": "execute_result"
    }
   ],
   "source": [
    "df"
   ]
  },
  {
   "cell_type": "code",
   "execution_count": 7,
   "id": "9c0e3b13",
   "metadata": {},
   "outputs": [],
   "source": [
    "date_range = pd.date_range('2019-11-03 00:00', '2019-12-01 23:59', freq='5Min')\n",
    "myser = pd.Series(data=date_range, name='Timestamp')"
   ]
  },
  {
   "cell_type": "code",
   "execution_count": 8,
   "id": "569e21c6",
   "metadata": {},
   "outputs": [
    {
     "data": {
      "text/plain": [
       "8352"
      ]
     },
     "execution_count": 8,
     "metadata": {},
     "output_type": "execute_result"
    }
   ],
   "source": [
    "len(myser)"
   ]
  },
  {
   "cell_type": "code",
   "execution_count": 9,
   "id": "a7e0c403",
   "metadata": {},
   "outputs": [],
   "source": [
    "df.drop(columns = ['f1', 'f2', 'f3', 'f4', 'f6', 'f7'], inplace=True);\n",
    "df['Timestamp'] = myser\n",
    "\n",
    "# Re-arrange spatial columns, so, the data is sequential\n",
    "df = df[['Timestamp','f5']]"
   ]
  },
  {
   "cell_type": "code",
   "execution_count": 10,
   "id": "7bf106c4",
   "metadata": {},
   "outputs": [
    {
     "data": {
      "text/html": [
       "<div>\n",
       "<style scoped>\n",
       "    .dataframe tbody tr th:only-of-type {\n",
       "        vertical-align: middle;\n",
       "    }\n",
       "\n",
       "    .dataframe tbody tr th {\n",
       "        vertical-align: top;\n",
       "    }\n",
       "\n",
       "    .dataframe thead th {\n",
       "        text-align: right;\n",
       "    }\n",
       "</style>\n",
       "<table border=\"1\" class=\"dataframe\">\n",
       "  <thead>\n",
       "    <tr style=\"text-align: right;\">\n",
       "      <th></th>\n",
       "      <th>Timestamp</th>\n",
       "      <th>f5</th>\n",
       "    </tr>\n",
       "  </thead>\n",
       "  <tbody>\n",
       "    <tr>\n",
       "      <th>0</th>\n",
       "      <td>2019-11-03 00:00:00</td>\n",
       "      <td>0.156089</td>\n",
       "    </tr>\n",
       "    <tr>\n",
       "      <th>1</th>\n",
       "      <td>2019-11-03 00:05:00</td>\n",
       "      <td>0.209262</td>\n",
       "    </tr>\n",
       "    <tr>\n",
       "      <th>2</th>\n",
       "      <td>2019-11-03 00:10:00</td>\n",
       "      <td>0.185249</td>\n",
       "    </tr>\n",
       "    <tr>\n",
       "      <th>3</th>\n",
       "      <td>2019-11-03 00:15:00</td>\n",
       "      <td>0.183533</td>\n",
       "    </tr>\n",
       "    <tr>\n",
       "      <th>4</th>\n",
       "      <td>2019-11-03 00:20:00</td>\n",
       "      <td>0.123499</td>\n",
       "    </tr>\n",
       "    <tr>\n",
       "      <th>...</th>\n",
       "      <td>...</td>\n",
       "      <td>...</td>\n",
       "    </tr>\n",
       "    <tr>\n",
       "      <th>8347</th>\n",
       "      <td>2019-12-01 23:35:00</td>\n",
       "      <td>0.192110</td>\n",
       "    </tr>\n",
       "    <tr>\n",
       "      <th>8348</th>\n",
       "      <td>2019-12-01 23:40:00</td>\n",
       "      <td>0.180103</td>\n",
       "    </tr>\n",
       "    <tr>\n",
       "      <th>8349</th>\n",
       "      <td>2019-12-01 23:45:00</td>\n",
       "      <td>0.176672</td>\n",
       "    </tr>\n",
       "    <tr>\n",
       "      <th>8350</th>\n",
       "      <td>2019-12-01 23:50:00</td>\n",
       "      <td>0.178388</td>\n",
       "    </tr>\n",
       "    <tr>\n",
       "      <th>8351</th>\n",
       "      <td>2019-12-01 23:55:00</td>\n",
       "      <td>0.162950</td>\n",
       "    </tr>\n",
       "  </tbody>\n",
       "</table>\n",
       "<p>8352 rows × 2 columns</p>\n",
       "</div>"
      ],
      "text/plain": [
       "               Timestamp        f5\n",
       "0    2019-11-03 00:00:00  0.156089\n",
       "1    2019-11-03 00:05:00  0.209262\n",
       "2    2019-11-03 00:10:00  0.185249\n",
       "3    2019-11-03 00:15:00  0.183533\n",
       "4    2019-11-03 00:20:00  0.123499\n",
       "...                  ...       ...\n",
       "8347 2019-12-01 23:35:00  0.192110\n",
       "8348 2019-12-01 23:40:00  0.180103\n",
       "8349 2019-12-01 23:45:00  0.176672\n",
       "8350 2019-12-01 23:50:00  0.178388\n",
       "8351 2019-12-01 23:55:00  0.162950\n",
       "\n",
       "[8352 rows x 2 columns]"
      ]
     },
     "execution_count": 10,
     "metadata": {},
     "output_type": "execute_result"
    }
   ],
   "source": [
    "df"
   ]
  },
  {
   "cell_type": "code",
   "execution_count": 11,
   "id": "33f60250",
   "metadata": {},
   "outputs": [
    {
     "data": {
      "text/plain": [
       "Timestamp    2019-11-18 00:00:00\n",
       "f5                      0.070326\n",
       "Name: 4320, dtype: object"
      ]
     },
     "execution_count": 11,
     "metadata": {},
     "output_type": "execute_result"
    }
   ],
   "source": [
    "df.iloc[4320]          # First sample"
   ]
  },
  {
   "cell_type": "code",
   "execution_count": 12,
   "id": "f14049f2",
   "metadata": {},
   "outputs": [
    {
     "data": {
      "text/plain": [
       "Timestamp    2019-11-11 00:00:00\n",
       "f5                      0.125214\n",
       "Name: 2304, dtype: object"
      ]
     },
     "execution_count": 12,
     "metadata": {},
     "output_type": "execute_result"
    }
   ],
   "source": [
    "df.iloc[2304]          # -1 week (-2016 samples)"
   ]
  },
  {
   "cell_type": "code",
   "execution_count": 13,
   "id": "d9a66860",
   "metadata": {},
   "outputs": [
    {
     "data": {
      "text/plain": [
       "Timestamp    2019-11-04 00:00:00\n",
       "f5                      0.102916\n",
       "Name: 288, dtype: object"
      ]
     },
     "execution_count": 13,
     "metadata": {},
     "output_type": "execute_result"
    }
   ],
   "source": [
    "df.iloc[288]           # -2 week (-4032 samples)"
   ]
  },
  {
   "cell_type": "markdown",
   "id": "e1fbe51c",
   "metadata": {},
   "source": [
    "# Generate Weekly Samples"
   ]
  },
  {
   "cell_type": "code",
   "execution_count": 14,
   "id": "09eff39f",
   "metadata": {},
   "outputs": [],
   "source": [
    "a = np.zeros((2, 7))\n",
    "b = np.zeros((2, 7))\n",
    "x = 4320                           # Start\n",
    "\n",
    "for i in range(len(df.iloc[x:])):\n",
    "    for j in range(2):\n",
    "        for k in range(7):\n",
    "            if j == 0:\n",
    "                a[j][k] = df.iloc[x-2019+i+k].drop(['Timestamp'])\n",
    "            else:\n",
    "                a[j][k] = df.iloc[x-4035+i+k].drop(['Timestamp'])\n",
    "    b = np.append(b, a, axis=0)\n",
    "\n",
    "b = np.delete(b, np.s_[0:2], 0).reshape(-1, 2, 7)"
   ]
  },
  {
   "cell_type": "code",
   "execution_count": 15,
   "id": "5485fbb0",
   "metadata": {},
   "outputs": [
    {
     "data": {
      "text/plain": [
       "array([[0.13379074, 0.12864494, 0.11492281, 0.12521441, 0.10634648,\n",
       "        0.12521441, 0.10291595],\n",
       "       [0.15780446, 0.10291595, 0.10977702, 0.10291595, 0.08404803,\n",
       "        0.09777015, 0.11149228]])"
      ]
     },
     "execution_count": 15,
     "metadata": {},
     "output_type": "execute_result"
    }
   ],
   "source": [
    "b[0]"
   ]
  },
  {
   "cell_type": "code",
   "execution_count": 16,
   "id": "f9a0769c",
   "metadata": {},
   "outputs": [
    {
     "data": {
      "text/plain": [
       "array([[0.12864494, 0.11492281, 0.12521441, 0.10634648, 0.12521441,\n",
       "        0.10291595, 0.10634648],\n",
       "       [0.10291595, 0.10977702, 0.10291595, 0.08404803, 0.09777015,\n",
       "        0.11149228, 0.07375643]])"
      ]
     },
     "execution_count": 16,
     "metadata": {},
     "output_type": "execute_result"
    }
   ],
   "source": [
    "b[1]"
   ]
  },
  {
   "cell_type": "code",
   "execution_count": 17,
   "id": "80d44ec4",
   "metadata": {},
   "outputs": [
    {
     "data": {
      "text/plain": [
       "array([0.13379074, 0.12864494, 0.11492281, 0.12521441, 0.10634648,\n",
       "       0.12521441, 0.10291595, 0.15780446, 0.10291595, 0.10977702,\n",
       "       0.10291595, 0.08404803, 0.09777015, 0.11149228])"
      ]
     },
     "execution_count": 17,
     "metadata": {},
     "output_type": "execute_result"
    }
   ],
   "source": [
    "b[0].flatten()"
   ]
  },
  {
   "cell_type": "code",
   "execution_count": 18,
   "id": "77321798",
   "metadata": {},
   "outputs": [],
   "source": [
    "a = b.flatten().reshape(-1,14)"
   ]
  },
  {
   "cell_type": "code",
   "execution_count": 19,
   "id": "d2198ca2",
   "metadata": {},
   "outputs": [
    {
     "data": {
      "text/plain": [
       "array([0.13379074, 0.12864494, 0.11492281, 0.12521441, 0.10634648,\n",
       "       0.12521441, 0.10291595, 0.15780446, 0.10291595, 0.10977702,\n",
       "       0.10291595, 0.08404803, 0.09777015, 0.11149228])"
      ]
     },
     "execution_count": 19,
     "metadata": {},
     "output_type": "execute_result"
    }
   ],
   "source": [
    "a[0]"
   ]
  },
  {
   "cell_type": "markdown",
   "id": "3ed9e851",
   "metadata": {},
   "source": [
    "#### Confirmation"
   ]
  },
  {
   "cell_type": "code",
   "execution_count": 20,
   "id": "607224da",
   "metadata": {},
   "outputs": [
    {
     "data": {
      "text/plain": [
       "array([0.13379074, 0.12864494, 0.11492281, 0.12521441, 0.10634648,\n",
       "       0.12521441, 0.10291595, 0.15780446, 0.10291595, 0.10977702,\n",
       "       0.10291595, 0.08404803, 0.09777015, 0.11149228])"
      ]
     },
     "execution_count": 20,
     "metadata": {},
     "output_type": "execute_result"
    }
   ],
   "source": [
    "a[0]"
   ]
  },
  {
   "cell_type": "code",
   "execution_count": 21,
   "id": "fbb8c5bf",
   "metadata": {},
   "outputs": [
    {
     "data": {
      "text/plain": [
       "Timestamp    2019-11-11 00:00:00\n",
       "f5                      0.125214\n",
       "Name: 2304, dtype: object"
      ]
     },
     "execution_count": 21,
     "metadata": {},
     "output_type": "execute_result"
    }
   ],
   "source": [
    "df.iloc[2304] "
   ]
  },
  {
   "cell_type": "code",
   "execution_count": 22,
   "id": "64d58e79",
   "metadata": {},
   "outputs": [
    {
     "data": {
      "text/plain": [
       "Timestamp    2019-11-04 00:00:00\n",
       "f5                      0.102916\n",
       "Name: 288, dtype: object"
      ]
     },
     "execution_count": 22,
     "metadata": {},
     "output_type": "execute_result"
    }
   ],
   "source": [
    "df.iloc[288] "
   ]
  },
  {
   "cell_type": "code",
   "execution_count": 23,
   "id": "da226c46",
   "metadata": {},
   "outputs": [
    {
     "data": {
      "text/plain": [
       "4032"
      ]
     },
     "execution_count": 23,
     "metadata": {},
     "output_type": "execute_result"
    }
   ],
   "source": [
    "len(a)"
   ]
  },
  {
   "cell_type": "markdown",
   "id": "0b001f34",
   "metadata": {},
   "source": [
    "# Save Data"
   ]
  },
  {
   "cell_type": "code",
   "execution_count": 24,
   "id": "9cc679c8",
   "metadata": {},
   "outputs": [],
   "source": [
    "joblib.dump(a, \"002weeks_test_Nov.save\"); "
   ]
  }
 ],
 "metadata": {
  "kernelspec": {
   "display_name": "Python 3 (ipykernel)",
   "language": "python",
   "name": "python3"
  },
  "language_info": {
   "codemirror_mode": {
    "name": "ipython",
    "version": 3
   },
   "file_extension": ".py",
   "mimetype": "text/x-python",
   "name": "python",
   "nbconvert_exporter": "python",
   "pygments_lexer": "ipython3",
   "version": "3.11.5"
  }
 },
 "nbformat": 4,
 "nbformat_minor": 5
}
