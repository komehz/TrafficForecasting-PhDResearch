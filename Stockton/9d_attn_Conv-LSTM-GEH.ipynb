{
 "cells": [
  {
   "cell_type": "code",
   "execution_count": 1,
   "metadata": {},
   "outputs": [],
   "source": [
    "import pandas as pd\n",
    "import numpy as np\n",
    "import matplotlib.pyplot as plt\n",
    "import seaborn as sns\n",
    "import joblib\n",
    "import os"
   ]
  },
  {
   "cell_type": "code",
   "execution_count": 2,
   "metadata": {},
   "outputs": [],
   "source": [
    "import keras_tuner as kt\n",
    "from keras_tuner import RandomSearch"
   ]
  },
  {
   "cell_type": "code",
   "execution_count": 3,
   "metadata": {},
   "outputs": [],
   "source": [
    "from sklearn.metrics import mean_absolute_error,mean_squared_error,mean_absolute_percentage_error"
   ]
  },
  {
   "cell_type": "code",
   "execution_count": 4,
   "metadata": {},
   "outputs": [],
   "source": [
    "import relative_accuracy as ra\n",
    "import MVA as ga\n",
    "from statistics import mean, stdev"
   ]
  },
  {
   "cell_type": "code",
   "execution_count": 5,
   "metadata": {},
   "outputs": [],
   "source": [
    "# Load all Inputs and Output Data\n",
    "\n",
    "# 5 mins (1 step ahead)\n",
    "Deep_train_5   = np.load(\"Deep_train_5.npz\")['x'] \n",
    "Output_train_5 = np.load(\"Deep_train_5.npz\")['y']\n",
    "\n",
    "Deep_test_5   = np.load(\"Deep_test_5.npz\")['x'] \n",
    "Output_test_5 = np.load(\"Deep_test_5.npz\")['y'] \n",
    "\n",
    "# 15 mins (3 steps ahead)\n",
    "Deep_train_15   = np.load(\"Deep_train_15.npz\")['x'] \n",
    "Output_train_15 = np.load(\"Deep_train_15.npz\")['y']\n",
    "\n",
    "Deep_test_15   = np.load(\"Deep_test_15.npz\")['x'] \n",
    "Output_test_15 = np.load(\"Deep_test_15.npz\")['y']\n",
    "\n",
    "# 30 mins (6 steps ahead)\n",
    "Deep_train_30   = np.load(\"Deep_train_30.npz\")['x'] \n",
    "Output_train_30 = np.load(\"Deep_train_30.npz\")['y']\n",
    "\n",
    "Deep_test_30   = np.load(\"Deep_test_30.npz\")['x'] \n",
    "Output_test_30 = np.load(\"Deep_test_30.npz\")['y']\n",
    "\n",
    "# 60 mins (12 steps ahead)\n",
    "Deep_train_60   = np.load(\"Deep_train_60.npz\")['x'] \n",
    "Output_train_60 = np.load(\"Deep_train_60.npz\")['y']\n",
    "\n",
    "Deep_test_60   = np.load(\"Deep_test_60.npz\")['x'] \n",
    "Output_test_60 = np.load(\"Deep_test_60.npz\")['y']"
   ]
  },
  {
   "cell_type": "code",
   "execution_count": 6,
   "metadata": {},
   "outputs": [],
   "source": [
    "# Wide Week Data\n",
    "Xtrain = joblib.load(\"002weeks_train.save\") \n",
    "Xtest = joblib.load(\"002weeks_test.save\") \n",
    "\n",
    "# Wide Day Data\n",
    "Xtrain_day = joblib.load(\"002days_train.save\") \n",
    "Xtest_day = joblib.load(\"002days_test.save\") "
   ]
  },
  {
   "cell_type": "code",
   "execution_count": 7,
   "metadata": {},
   "outputs": [],
   "source": [
    "# 5 mins\n",
    "# Delete first 15 samples\n",
    "Wide_train_5 = np.delete(Xtrain, np.s_[0:15], 0)\n",
    "Wide_test_5 = np.delete(Xtest, np.s_[0:15], 0)\n",
    "\n",
    "Wide_train_5_day = np.delete(Xtrain_day, np.s_[0:15], 0)\n",
    "Wide_test_5_day = np.delete(Xtest_day, np.s_[0:15], 0)"
   ]
  },
  {
   "cell_type": "code",
   "execution_count": 8,
   "metadata": {},
   "outputs": [],
   "source": [
    "# 15 mins\n",
    "# Delete first 17 samples\n",
    "Wide_train_15 = np.delete(Xtrain, np.s_[0:17], 0)\n",
    "Wide_test_15 = np.delete(Xtest, np.s_[0:17], 0)\n",
    "\n",
    "Wide_train_15_day = np.delete(Xtrain_day, np.s_[0:17], 0)\n",
    "Wide_test_15_day = np.delete(Xtest_day, np.s_[0:17], 0)"
   ]
  },
  {
   "cell_type": "code",
   "execution_count": 9,
   "metadata": {},
   "outputs": [],
   "source": [
    "# 30 mins\n",
    "# Delete first 20 samples\n",
    "Wide_train_30 = np.delete(Xtrain, np.s_[0:20], 0)\n",
    "Wide_test_30 = np.delete(Xtest, np.s_[0:20], 0)\n",
    "\n",
    "Wide_train_30_day = np.delete(Xtrain_day, np.s_[0:20], 0)\n",
    "Wide_test_30_day = np.delete(Xtest_day, np.s_[0:20], 0)"
   ]
  },
  {
   "cell_type": "code",
   "execution_count": 10,
   "metadata": {},
   "outputs": [],
   "source": [
    "# 60 mins\n",
    "# Delete first 27 samples\n",
    "Wide_train_60 = np.delete(Xtrain, np.s_[0:26], 0)\n",
    "Wide_test_60 = np.delete(Xtest, np.s_[0:26], 0)\n",
    "\n",
    "Wide_train_60_day = np.delete(Xtrain_day, np.s_[0:26], 0)\n",
    "Wide_test_60_day = np.delete(Xtest_day, np.s_[0:26], 0)"
   ]
  },
  {
   "cell_type": "code",
   "execution_count": 11,
   "metadata": {},
   "outputs": [
    {
     "name": "stderr",
     "output_type": "stream",
     "text": [
      "C:\\Users\\esugom\\.conda\\envs\\my_env\\lib\\site-packages\\sklearn\\base.py:324: UserWarning: Trying to unpickle estimator MinMaxScaler from version 1.0.2 when using version 1.0.1. This might lead to breaking code or invalid results. Use at your own risk. For more info please refer to:\n",
      "https://scikit-learn.org/stable/modules/model_persistence.html#security-maintainability-limitations\n",
      "  warnings.warn(\n"
     ]
    }
   ],
   "source": [
    "scaler_filename = \"scaler.save\"\n",
    "scaler = joblib.load(scaler_filename) "
   ]
  },
  {
   "cell_type": "code",
   "execution_count": 12,
   "metadata": {},
   "outputs": [],
   "source": [
    "Test      = pd.read_csv('01test_scaled.csv', index_col=0, parse_dates=[8])"
   ]
  },
  {
   "cell_type": "markdown",
   "metadata": {},
   "source": [
    "# Reshape Samples"
   ]
  },
  {
   "cell_type": "markdown",
   "metadata": {},
   "source": [
    "The first step is to split the input sequences into subsequences that can be processed by the CNN model. Here, each spatio-temporal sample can be split into three sub-samples, each with five time steps. The CNN can interpret each subsequence of five time steps and provide a time series of interpretations of the subsequences to the LSTM model to process as input."
   ]
  },
  {
   "cell_type": "code",
   "execution_count": 13,
   "metadata": {},
   "outputs": [],
   "source": [
    "# reshape from [samples, timesteps] into [samples, subsequences, timesteps, features]\n",
    "n_features = 7              # No of loop detectors\n",
    "n_seq = 3                    # Subsequences\n",
    "n_steps = 5                  # time-step per subsequence\n",
    "val_percent = 0.12962        # 2 weeks\n",
    "batch_size = 32"
   ]
  },
  {
   "cell_type": "markdown",
   "metadata": {},
   "source": [
    "#### 5 mins"
   ]
  },
  {
   "cell_type": "code",
   "execution_count": 14,
   "metadata": {},
   "outputs": [],
   "source": [
    "# Train\n",
    "# reshape from [samples, timesteps] into [samples, subsequences, timesteps, features]\n",
    "Xt5 = Deep_train_5.reshape((Deep_train_5.shape[0], n_seq, n_steps, n_features))\n",
    "yt5 = Output_train_5"
   ]
  },
  {
   "cell_type": "code",
   "execution_count": 15,
   "metadata": {},
   "outputs": [],
   "source": [
    "# Test\n",
    "# reshape from [samples, timesteps] into [samples, subsequences, timesteps, features]\n",
    "Xv5 = Deep_test_5.reshape((Deep_test_5.shape[0], n_seq, n_steps, n_features))\n",
    "yv5 = Output_test_5"
   ]
  },
  {
   "cell_type": "markdown",
   "metadata": {},
   "source": [
    "#### 15 mins"
   ]
  },
  {
   "cell_type": "code",
   "execution_count": 16,
   "metadata": {},
   "outputs": [],
   "source": [
    "# Train\n",
    "# reshape from [samples, timesteps] into [samples, subsequences, timesteps, features]\n",
    "Xt15 = Deep_train_15.reshape((Deep_train_15.shape[0], n_seq, n_steps, n_features))\n",
    "yt15 = Output_train_15"
   ]
  },
  {
   "cell_type": "code",
   "execution_count": 17,
   "metadata": {},
   "outputs": [],
   "source": [
    "# Test\n",
    "# reshape from [samples, timesteps] into [samples, subsequences, timesteps, features]\n",
    "Xv15 = Deep_test_15.reshape((Deep_test_15.shape[0], n_seq, n_steps, n_features))\n",
    "yv15 = Output_test_15"
   ]
  },
  {
   "cell_type": "markdown",
   "metadata": {},
   "source": [
    "#### 30 mins"
   ]
  },
  {
   "cell_type": "code",
   "execution_count": 18,
   "metadata": {},
   "outputs": [],
   "source": [
    "# Train\n",
    "# reshape from [samples, timesteps] into [samples, subsequences, timesteps, features]\n",
    "Xt30 = Deep_train_30.reshape((Deep_train_30.shape[0], n_seq, n_steps, n_features))\n",
    "yt30 = Output_train_30"
   ]
  },
  {
   "cell_type": "code",
   "execution_count": 19,
   "metadata": {},
   "outputs": [],
   "source": [
    "# Test\n",
    "# reshape from [samples, timesteps] into [samples, subsequences, timesteps, features]\n",
    "Xv30 = Deep_test_30.reshape((Deep_test_30.shape[0], n_seq, n_steps, n_features))\n",
    "yv30 = Output_test_30"
   ]
  },
  {
   "cell_type": "markdown",
   "metadata": {},
   "source": [
    "#### 60 mins"
   ]
  },
  {
   "cell_type": "code",
   "execution_count": 20,
   "metadata": {},
   "outputs": [],
   "source": [
    "# Train\n",
    "# reshape from [samples, timesteps] into [samples, subsequences, timesteps, features]\n",
    "Xt60 = Deep_train_60.reshape((Deep_train_60.shape[0], n_seq, n_steps, n_features))\n",
    "yt60 = Output_train_60"
   ]
  },
  {
   "cell_type": "code",
   "execution_count": 21,
   "metadata": {},
   "outputs": [],
   "source": [
    "# Test\n",
    "# reshape from [samples, timesteps] into [samples, subsequences, timesteps, features]\n",
    "Xv60 = Deep_test_60.reshape((Deep_test_60.shape[0], n_seq, n_steps, n_features))\n",
    "yv60 = Output_test_60"
   ]
  },
  {
   "cell_type": "markdown",
   "metadata": {},
   "source": [
    "### Reshaping the Data for Conv2D layer\n",
    "\n",
    "For Conv2D, there is a need to add one more dimension to show we're dealing with 1 channel (since technically the images are in black and white, only showing values from 0-max flow on a single channel).\n",
    "\n",
    "Conv1D - strides in 1 dimension\n",
    "Conv2D - strides in 2 dimensions"
   ]
  },
  {
   "cell_type": "code",
   "execution_count": 22,
   "metadata": {},
   "outputs": [],
   "source": [
    "# define no_of_channels\n",
    "n_channels = 1"
   ]
  },
  {
   "cell_type": "code",
   "execution_count": 23,
   "metadata": {},
   "outputs": [],
   "source": [
    "# Train data\n",
    "Xt5  =  Xt5.reshape(Xt5.shape[0], n_seq, n_steps, n_features, n_channels)\n",
    "Xt15 =  Xt15.reshape(Xt15.shape[0], n_seq, n_steps, n_features, n_channels)\n",
    "Xt30 =  Xt30.reshape(Xt30.shape[0], n_seq, n_steps, n_features, n_channels)\n",
    "Xt60 =  Xt60.reshape(Xt60.shape[0], n_seq, n_steps, n_features, n_channels)\n",
    "\n",
    "# Validation data\n",
    "Xv5  =  Xv5.reshape(Xv5.shape[0], n_seq, n_steps, n_features, n_channels)\n",
    "Xv15 =  Xv15.reshape(Xv15.shape[0], n_seq, n_steps, n_features, n_channels)\n",
    "Xv30 =  Xv30.reshape(Xv30.shape[0], n_seq, n_steps, n_features, n_channels)\n",
    "Xv60 =  Xv60.reshape(Xv60.shape[0], n_seq, n_steps, n_features, n_channels)"
   ]
  },
  {
   "cell_type": "code",
   "execution_count": 24,
   "metadata": {},
   "outputs": [],
   "source": [
    "Wide_train_5 = np.expand_dims(Wide_train_5, 1)\n",
    "Wide_train_15 = np.expand_dims(Wide_train_15, 1)\n",
    "Wide_train_30 = np.expand_dims(Wide_train_30, 1)\n",
    "Wide_train_60 = np.expand_dims(Wide_train_60, 1)\n",
    "\n",
    "Wide_test_5 = np.expand_dims(Wide_test_5, 1)\n",
    "Wide_test_15 = np.expand_dims(Wide_test_15, 1)\n",
    "Wide_test_30 = np.expand_dims(Wide_test_30, 1)\n",
    "Wide_test_60 = np.expand_dims(Wide_test_60, 1)"
   ]
  },
  {
   "cell_type": "code",
   "execution_count": 25,
   "metadata": {},
   "outputs": [],
   "source": [
    "Wide_train_5_day = np.expand_dims(Wide_train_5_day, 1)\n",
    "Wide_train_15_day = np.expand_dims(Wide_train_15_day, 1)\n",
    "Wide_train_30_day = np.expand_dims(Wide_train_30_day, 1)\n",
    "Wide_train_60_day = np.expand_dims(Wide_train_60_day, 1)\n",
    "\n",
    "Wide_test_5_day = np.expand_dims(Wide_test_5_day, 1)\n",
    "Wide_test_15_day = np.expand_dims(Wide_test_15_day, 1)\n",
    "Wide_test_30_day = np.expand_dims(Wide_test_30_day, 1)\n",
    "Wide_test_60_day = np.expand_dims(Wide_test_60_day, 1)"
   ]
  },
  {
   "cell_type": "code",
   "execution_count": 26,
   "metadata": {},
   "outputs": [],
   "source": [
    "Wt5  = Wide_train_5\n",
    "Wt15 = Wide_train_15\n",
    "Wt30 = Wide_train_30\n",
    "Wt60 = Wide_train_60\n",
    "\n",
    "Wv5  = Wide_test_5\n",
    "Wv15 = Wide_test_15\n",
    "Wv30 = Wide_test_30\n",
    "Wv60 = Wide_test_60"
   ]
  },
  {
   "cell_type": "code",
   "execution_count": 27,
   "metadata": {},
   "outputs": [],
   "source": [
    "Wt5x  = Wide_train_5_day\n",
    "Wt15x = Wide_train_15_day\n",
    "Wt30x = Wide_train_30_day\n",
    "Wt60x = Wide_train_60_day\n",
    "\n",
    "Wv5x  = Wide_test_5_day\n",
    "Wv15x = Wide_test_15_day\n",
    "Wv30x = Wide_test_30_day\n",
    "Wv60x = Wide_test_60_day"
   ]
  },
  {
   "cell_type": "markdown",
   "metadata": {},
   "source": [
    "# CNN-LSTM model"
   ]
  },
  {
   "cell_type": "code",
   "execution_count": 28,
   "metadata": {},
   "outputs": [],
   "source": [
    "from tensorflow import keras\n",
    "from keras_self_attention import SeqSelfAttention\n",
    "\n",
    "# Early Stopping\n",
    "early_stop = keras.callbacks.EarlyStopping(monitor='val_loss',patience=5)"
   ]
  },
  {
   "cell_type": "code",
   "execution_count": 29,
   "metadata": {},
   "outputs": [],
   "source": [
    "stop = keras.callbacks.EarlyStopping(\n",
    "    monitor = 'val_loss', \n",
    "    patience = 5,\n",
    "    restore_best_weights = True)"
   ]
  },
  {
   "cell_type": "code",
   "execution_count": 30,
   "metadata": {},
   "outputs": [
    {
     "data": {
      "text/plain": [
       "(31089, 1, 14)"
      ]
     },
     "execution_count": 30,
     "metadata": {},
     "output_type": "execute_result"
    }
   ],
   "source": [
    "Wide_train_5.shape"
   ]
  },
  {
   "cell_type": "code",
   "execution_count": 31,
   "metadata": {},
   "outputs": [
    {
     "data": {
      "text/plain": [
       "(3, 5, 7, 1)"
      ]
     },
     "execution_count": 31,
     "metadata": {},
     "output_type": "execute_result"
    }
   ],
   "source": [
    "Xt5.shape[1:]"
   ]
  },
  {
   "cell_type": "markdown",
   "metadata": {},
   "source": [
    "# 5 mins ahead"
   ]
  },
  {
   "cell_type": "code",
   "execution_count": 32,
   "metadata": {},
   "outputs": [
    {
     "name": "stdout",
     "output_type": "stream",
     "text": [
      "WARNING:tensorflow:Layer lstm_14 will not use cuDNN kernels since it doesn't meet the criteria. It will use a generic GPU kernel as fallback when running on GPU.\n",
      "WARNING:tensorflow:Layer lstm_15 will not use cuDNN kernels since it doesn't meet the criteria. It will use a generic GPU kernel as fallback when running on GPU.\n",
      "WARNING:tensorflow:Layer lstm_12 will not use cuDNN kernels since it doesn't meet the criteria. It will use a generic GPU kernel as fallback when running on GPU.\n",
      "WARNING:tensorflow:Layer lstm_12 will not use cuDNN kernels since it doesn't meet the criteria. It will use a generic GPU kernel as fallback when running on GPU.\n",
      "WARNING:tensorflow:Layer lstm_12 will not use cuDNN kernels since it doesn't meet the criteria. It will use a generic GPU kernel as fallback when running on GPU.\n",
      "WARNING:tensorflow:Layer lstm_13 will not use cuDNN kernels since it doesn't meet the criteria. It will use a generic GPU kernel as fallback when running on GPU.\n",
      "WARNING:tensorflow:Layer lstm_13 will not use cuDNN kernels since it doesn't meet the criteria. It will use a generic GPU kernel as fallback when running on GPU.\n",
      "WARNING:tensorflow:Layer lstm_13 will not use cuDNN kernels since it doesn't meet the criteria. It will use a generic GPU kernel as fallback when running on GPU.\n"
     ]
    }
   ],
   "source": [
    "model5 = keras.models.load_model(\"my_dir/8a-Conv-LSTM-5\") "
   ]
  },
  {
   "cell_type": "markdown",
   "metadata": {},
   "source": [
    "### Evaluation on inverse_transform"
   ]
  },
  {
   "cell_type": "code",
   "execution_count": 33,
   "metadata": {},
   "outputs": [],
   "source": [
    "test_predictions5 = model5.predict((Wv5, Wv5x, Xv5))\n",
    "\n",
    "yv5 = scaler.inverse_transform(Test.drop('Timestamp', axis = 1))\n",
    "yv5 = yv5[15:,4]\n",
    "\n",
    "df = Test.drop(Test.head(15).index)\n",
    "df.reset_index(inplace = True)\n",
    "df = df.drop(columns=['index','Timestamp'])\n",
    "df['f5'] = pd.Series(test_predictions5.flatten())\n",
    "\n",
    "test_predictions5 = scaler.inverse_transform(df)\n",
    "\n",
    "test_predictions5 = test_predictions5[:,4]\n",
    "\n",
    "#MSE5 = mean_squared_error(yv5,test_predictions5)\n",
    "\n",
    "#MAE5 = mean_absolute_error(yv5,test_predictions5)\n",
    "\n",
    "#RMSE5 = np.sqrt(MSE5)\n",
    "\n",
    "#MAPE5 = mean_absolute_percentage_error(yv5,test_predictions5)*100\n",
    "\n",
    "#eval5 = [MSE5, MAE5, RMSE5, MAPE5]\n",
    "#print(eval5)"
   ]
  },
  {
   "cell_type": "code",
   "execution_count": 34,
   "metadata": {},
   "outputs": [
    {
     "name": "stdout",
     "output_type": "stream",
     "text": [
      "[64.05277570326115, 81.57829225790391, 90.71446352999752]\n"
     ]
    }
   ],
   "source": [
    "RA10 = ra.RA_10(np.asarray(yv5), np.asarray(test_predictions5))\n",
    "RA15 = ra.RA_15(np.asarray(yv5), np.asarray(test_predictions5))\n",
    "RA20 = ra.RA_20(np.asarray(yv5), np.asarray(test_predictions5))\n",
    "\n",
    "res5 = [RA10, RA15, RA20]\n",
    "print(res5)"
   ]
  },
  {
   "cell_type": "code",
   "execution_count": 35,
   "metadata": {},
   "outputs": [],
   "source": [
    "GEH, num, _, _ = ga.GEH(np.asarray(yv5), np.asarray(test_predictions5))"
   ]
  },
  {
   "cell_type": "code",
   "execution_count": 36,
   "metadata": {},
   "outputs": [],
   "source": [
    "x = np.arange(1,len(GEH)+1)"
   ]
  },
  {
   "cell_type": "code",
   "execution_count": 37,
   "metadata": {},
   "outputs": [
    {
     "data": {
      "image/png": "[encoded data removed]",
      "text/plain": [
       "<Figure size 1152x216 with 1 Axes>"
      ]
     },
     "metadata": {
      "needs_background": "light"
     },
     "output_type": "display_data"
    }
   ],
   "source": [
    "# Use similar to plt.figure() except use tuple unpacking to grab fig and axes\n",
    "fig, axes = plt.subplots(figsize=(16,3))\n",
    "\n",
    "# Now use the axes object to add stuff to plot\n",
    "axes.scatter(x, GEH, 4)\n",
    "axes.set_xlabel('Interval')\n",
    "axes.set_ylabel('GEH')\n",
    "axes.set_title('GEH < 5 is ideal')\n",
    "axes.grid()"
   ]
  },
  {
   "cell_type": "code",
   "execution_count": 38,
   "metadata": {},
   "outputs": [],
   "source": [
    "GEH5 = num/len(GEH)"
   ]
  },
  {
   "cell_type": "markdown",
   "metadata": {},
   "source": [
    "# 15 mins ahead"
   ]
  },
  {
   "cell_type": "code",
   "execution_count": 39,
   "metadata": {},
   "outputs": [
    {
     "name": "stdout",
     "output_type": "stream",
     "text": [
      "WARNING:tensorflow:Layer lstm_6 will not use cuDNN kernels since it doesn't meet the criteria. It will use a generic GPU kernel as fallback when running on GPU.\n",
      "WARNING:tensorflow:Layer lstm_7 will not use cuDNN kernels since it doesn't meet the criteria. It will use a generic GPU kernel as fallback when running on GPU.\n",
      "WARNING:tensorflow:Layer lstm_4 will not use cuDNN kernels since it doesn't meet the criteria. It will use a generic GPU kernel as fallback when running on GPU.\n",
      "WARNING:tensorflow:Layer lstm_4 will not use cuDNN kernels since it doesn't meet the criteria. It will use a generic GPU kernel as fallback when running on GPU.\n",
      "WARNING:tensorflow:Layer lstm_4 will not use cuDNN kernels since it doesn't meet the criteria. It will use a generic GPU kernel as fallback when running on GPU.\n",
      "WARNING:tensorflow:Layer lstm_5 will not use cuDNN kernels since it doesn't meet the criteria. It will use a generic GPU kernel as fallback when running on GPU.\n",
      "WARNING:tensorflow:Layer lstm_5 will not use cuDNN kernels since it doesn't meet the criteria. It will use a generic GPU kernel as fallback when running on GPU.\n",
      "WARNING:tensorflow:Layer lstm_5 will not use cuDNN kernels since it doesn't meet the criteria. It will use a generic GPU kernel as fallback when running on GPU.\n"
     ]
    }
   ],
   "source": [
    "model15 = keras.models.load_model(\"my_dir/8a-Conv-LSTM-15\")"
   ]
  },
  {
   "cell_type": "markdown",
   "metadata": {},
   "source": [
    "### Evaluation on inverse_transform"
   ]
  },
  {
   "cell_type": "code",
   "execution_count": 40,
   "metadata": {},
   "outputs": [],
   "source": [
    "test_predictions15 = model15.predict((Wv15, Wv15x, Xv15))\n",
    "\n",
    "yv15 = scaler.inverse_transform(Test.drop('Timestamp', axis = 1))\n",
    "yv15 = yv15[17:,4]\n",
    "\n",
    "df = Test.drop(Test.head(17).index)\n",
    "df.reset_index(inplace = True)\n",
    "df = df.drop(columns=['index','Timestamp'])\n",
    "df['f5'] = pd.Series(test_predictions15.flatten())\n",
    "\n",
    "test_predictions15 = scaler.inverse_transform(df)\n",
    "\n",
    "test_predictions15 = test_predictions15[:,4]\n",
    "\n",
    "#MSE15 = mean_squared_error(yv15,test_predictions15)\n",
    "\n",
    "#MAE15 = mean_absolute_error(yv15,test_predictions15)\n",
    "\n",
    "#RMSE15 = np.sqrt(MSE15)\n",
    "\n",
    "#MAPE15 = mean_absolute_percentage_error(yv15,test_predictions15)*100\n",
    "\n",
    "#eval15 = [MSE15, MAE15, RMSE15, MAPE15]\n",
    "#print(eval15)"
   ]
  },
  {
   "cell_type": "code",
   "execution_count": 41,
   "metadata": {},
   "outputs": [
    {
     "name": "stdout",
     "output_type": "stream",
     "text": [
      "[55.89041095890411, 73.87297633872977, 85.37982565379826]\n"
     ]
    }
   ],
   "source": [
    "RA10 = ra.RA_10(np.asarray(yv15), np.asarray(test_predictions15))\n",
    "RA15 = ra.RA_15(np.asarray(yv15), np.asarray(test_predictions15))\n",
    "RA20 = ra.RA_20(np.asarray(yv15), np.asarray(test_predictions15))\n",
    "\n",
    "res15 = [RA10, RA15, RA20]\n",
    "print(res15)"
   ]
  },
  {
   "cell_type": "code",
   "execution_count": 42,
   "metadata": {},
   "outputs": [],
   "source": [
    "GEH, num, _, _ = ga.GEH(np.asarray(yv15), np.asarray(test_predictions15))"
   ]
  },
  {
   "cell_type": "code",
   "execution_count": 43,
   "metadata": {},
   "outputs": [],
   "source": [
    "x = np.arange(1,len(GEH)+1)"
   ]
  },
  {
   "cell_type": "code",
   "execution_count": 44,
   "metadata": {},
   "outputs": [
    {
     "data": {
      "image/png": "[encoded data removed]",
      "text/plain": [
       "<Figure size 1152x216 with 1 Axes>"
      ]
     },
     "metadata": {
      "needs_background": "light"
     },
     "output_type": "display_data"
    }
   ],
   "source": [
    "# Use similar to plt.figure() except use tuple unpacking to grab fig and axes\n",
    "fig, axes = plt.subplots(figsize=(16,3))\n",
    "\n",
    "# Now use the axes object to add stuff to plot\n",
    "axes.scatter(x, GEH, 4)\n",
    "axes.set_xlabel('Interval')\n",
    "axes.set_ylabel('GEH')\n",
    "axes.set_title('GEH < 5 is ideal')\n",
    "axes.grid()"
   ]
  },
  {
   "cell_type": "code",
   "execution_count": 45,
   "metadata": {},
   "outputs": [],
   "source": [
    "GEH15 = num/len(GEH)"
   ]
  },
  {
   "cell_type": "markdown",
   "metadata": {},
   "source": [
    "# 30 mins ahead"
   ]
  },
  {
   "cell_type": "code",
   "execution_count": 46,
   "metadata": {},
   "outputs": [
    {
     "name": "stdout",
     "output_type": "stream",
     "text": [
      "WARNING:tensorflow:Layer lstm_6 will not use cuDNN kernels since it doesn't meet the criteria. It will use a generic GPU kernel as fallback when running on GPU.\n",
      "WARNING:tensorflow:Layer lstm_7 will not use cuDNN kernels since it doesn't meet the criteria. It will use a generic GPU kernel as fallback when running on GPU.\n",
      "WARNING:tensorflow:Layer lstm_4 will not use cuDNN kernels since it doesn't meet the criteria. It will use a generic GPU kernel as fallback when running on GPU.\n",
      "WARNING:tensorflow:Layer lstm_4 will not use cuDNN kernels since it doesn't meet the criteria. It will use a generic GPU kernel as fallback when running on GPU.\n",
      "WARNING:tensorflow:Layer lstm_4 will not use cuDNN kernels since it doesn't meet the criteria. It will use a generic GPU kernel as fallback when running on GPU.\n",
      "WARNING:tensorflow:Layer lstm_5 will not use cuDNN kernels since it doesn't meet the criteria. It will use a generic GPU kernel as fallback when running on GPU.\n",
      "WARNING:tensorflow:Layer lstm_5 will not use cuDNN kernels since it doesn't meet the criteria. It will use a generic GPU kernel as fallback when running on GPU.\n",
      "WARNING:tensorflow:Layer lstm_5 will not use cuDNN kernels since it doesn't meet the criteria. It will use a generic GPU kernel as fallback when running on GPU.\n"
     ]
    }
   ],
   "source": [
    "model30 = keras.models.load_model(\"my_dir/8a-Conv-LSTM-30\")"
   ]
  },
  {
   "cell_type": "markdown",
   "metadata": {},
   "source": [
    "### Evaluation on inverse_transform"
   ]
  },
  {
   "cell_type": "code",
   "execution_count": 47,
   "metadata": {},
   "outputs": [],
   "source": [
    "test_predictions30 = model30.predict((Wv30, Wv30x, Xv30))\n",
    "\n",
    "yv30 = scaler.inverse_transform(Test.drop('Timestamp', axis = 1))\n",
    "yv30 = yv30[20:,4]\n",
    "\n",
    "df = Test.drop(Test.head(20).index)\n",
    "df.reset_index(inplace = True)\n",
    "df = df.drop(columns=['index','Timestamp'])\n",
    "df['f5'] = pd.Series(test_predictions30.flatten())\n",
    "\n",
    "test_predictions30 = scaler.inverse_transform(df)\n",
    "\n",
    "test_predictions30 = test_predictions30[:,4]\n",
    "\n",
    "#MSE30 = mean_squared_error(yv30,test_predictions30)\n",
    "\n",
    "#MAE30 = mean_absolute_error(yv30,test_predictions30)\n",
    "\n",
    "#RMSE30 = np.sqrt(MSE30)\n",
    "\n",
    "#MAPE30 = mean_absolute_percentage_error(yv30,test_predictions30)*100\n",
    "\n",
    "#eval30 = [MSE30, MAE30, RMSE30, MAPE30]\n",
    "#print(eval30)"
   ]
  },
  {
   "cell_type": "code",
   "execution_count": 48,
   "metadata": {},
   "outputs": [
    {
     "name": "stdout",
     "output_type": "stream",
     "text": [
      "[57.47756729810568, 75.3738783649053, 86.93918245264207]\n"
     ]
    }
   ],
   "source": [
    "RA10 = ra.RA_10(np.asarray(yv30), np.asarray(test_predictions30))\n",
    "RA15 = ra.RA_15(np.asarray(yv30), np.asarray(test_predictions30))\n",
    "RA20 = ra.RA_20(np.asarray(yv30), np.asarray(test_predictions30))\n",
    "\n",
    "res30 = [RA10, RA15, RA20]\n",
    "print(res30)"
   ]
  },
  {
   "cell_type": "code",
   "execution_count": 49,
   "metadata": {},
   "outputs": [],
   "source": [
    "GEH, num, _, _ = ga.GEH(np.asarray(yv30), np.asarray(test_predictions30))"
   ]
  },
  {
   "cell_type": "code",
   "execution_count": 50,
   "metadata": {},
   "outputs": [],
   "source": [
    "x = np.arange(1,len(GEH)+1)"
   ]
  },
  {
   "cell_type": "code",
   "execution_count": 51,
   "metadata": {},
   "outputs": [
    {
     "data": {
      "image/png": "[encoded data removed]",
      "text/plain": [
       "<Figure size 1152x216 with 1 Axes>"
      ]
     },
     "metadata": {
      "needs_background": "light"
     },
     "output_type": "display_data"
    }
   ],
   "source": [
    "# Use similar to plt.figure() except use tuple unpacking to grab fig and axes\n",
    "fig, axes = plt.subplots(figsize=(16,3))\n",
    "\n",
    "# Now use the axes object to add stuff to plot\n",
    "axes.scatter(x, GEH, 4)\n",
    "axes.set_xlabel('Interval')\n",
    "axes.set_ylabel('GEH')\n",
    "axes.set_title('GEH < 5 is ideal')\n",
    "axes.grid()"
   ]
  },
  {
   "cell_type": "code",
   "execution_count": 52,
   "metadata": {},
   "outputs": [],
   "source": [
    "GEH30 = num/len(GEH)"
   ]
  },
  {
   "cell_type": "markdown",
   "metadata": {},
   "source": [
    "# 60 mins ahead"
   ]
  },
  {
   "cell_type": "code",
   "execution_count": 53,
   "metadata": {},
   "outputs": [
    {
     "name": "stdout",
     "output_type": "stream",
     "text": [
      "WARNING:tensorflow:Layer lstm_6 will not use cuDNN kernels since it doesn't meet the criteria. It will use a generic GPU kernel as fallback when running on GPU.\n",
      "WARNING:tensorflow:Layer lstm_7 will not use cuDNN kernels since it doesn't meet the criteria. It will use a generic GPU kernel as fallback when running on GPU.\n",
      "WARNING:tensorflow:Layer lstm_4 will not use cuDNN kernels since it doesn't meet the criteria. It will use a generic GPU kernel as fallback when running on GPU.\n",
      "WARNING:tensorflow:Layer lstm_4 will not use cuDNN kernels since it doesn't meet the criteria. It will use a generic GPU kernel as fallback when running on GPU.\n",
      "WARNING:tensorflow:Layer lstm_4 will not use cuDNN kernels since it doesn't meet the criteria. It will use a generic GPU kernel as fallback when running on GPU.\n",
      "WARNING:tensorflow:Layer lstm_5 will not use cuDNN kernels since it doesn't meet the criteria. It will use a generic GPU kernel as fallback when running on GPU.\n",
      "WARNING:tensorflow:Layer lstm_5 will not use cuDNN kernels since it doesn't meet the criteria. It will use a generic GPU kernel as fallback when running on GPU.\n",
      "WARNING:tensorflow:Layer lstm_5 will not use cuDNN kernels since it doesn't meet the criteria. It will use a generic GPU kernel as fallback when running on GPU.\n"
     ]
    }
   ],
   "source": [
    "model60 = keras.models.load_model(\"my_dir/8a-Conv-LSTM-60\")"
   ]
  },
  {
   "cell_type": "markdown",
   "metadata": {},
   "source": [
    "### Evaluation on inverse_transform"
   ]
  },
  {
   "cell_type": "code",
   "execution_count": 54,
   "metadata": {},
   "outputs": [],
   "source": [
    "test_predictions60 = model60.predict((Wv60, Wv60x, Xv60))\n",
    "\n",
    "yv60 = scaler.inverse_transform(Test.drop('Timestamp', axis = 1))\n",
    "yv60 = yv60[26:,4]\n",
    "\n",
    "df = Test.drop(Test.head(26).index)\n",
    "df.reset_index(inplace = True)\n",
    "df = df.drop(columns=['index','Timestamp'])\n",
    "df['f5'] = pd.Series(test_predictions60.flatten())\n",
    "\n",
    "test_predictions60 = scaler.inverse_transform(df)\n",
    "\n",
    "test_predictions60 = test_predictions60[:,4]\n",
    "\n",
    "#MSE60 = mean_squared_error(yv60,test_predictions60)\n",
    "\n",
    "#MAE60 = mean_absolute_error(yv60,test_predictions60)\n",
    "\n",
    "#RMSE60 = np.sqrt(MSE60)\n",
    "\n",
    "#MAPE60 = mean_absolute_percentage_error(yv60,test_predictions60)*100\n",
    "\n",
    "#eval60 = [MSE60, MAE60, RMSE60, MAPE60]\n",
    "#print(eval60)"
   ]
  },
  {
   "cell_type": "code",
   "execution_count": 55,
   "metadata": {},
   "outputs": [
    {
     "name": "stdout",
     "output_type": "stream",
     "text": [
      "[55.14228657014478, 72.36645032451324, 84.34847728407388]\n"
     ]
    }
   ],
   "source": [
    "RA10 = ra.RA_10(np.asarray(yv60), np.asarray(test_predictions60))\n",
    "RA15 = ra.RA_15(np.asarray(yv60), np.asarray(test_predictions60))\n",
    "RA20 = ra.RA_20(np.asarray(yv60), np.asarray(test_predictions60))\n",
    "\n",
    "res60 = [RA10, RA15, RA20]\n",
    "print(res60)"
   ]
  },
  {
   "cell_type": "code",
   "execution_count": 56,
   "metadata": {},
   "outputs": [],
   "source": [
    "GEH, num, _, _ = ga.GEH(np.asarray(yv60), np.asarray(test_predictions60))"
   ]
  },
  {
   "cell_type": "code",
   "execution_count": 57,
   "metadata": {},
   "outputs": [],
   "source": [
    "x = np.arange(1,len(GEH)+1)"
   ]
  },
  {
   "cell_type": "code",
   "execution_count": 58,
   "metadata": {},
   "outputs": [
    {
     "data": {
      "image/png": "[encoded data removed]",
      "text/plain": [
       "<Figure size 1152x216 with 1 Axes>"
      ]
     },
     "metadata": {
      "needs_background": "light"
     },
     "output_type": "display_data"
    }
   ],
   "source": [
    "# Use similar to plt.figure() except use tuple unpacking to grab fig and axes\n",
    "fig, axes = plt.subplots(figsize=(16,3))\n",
    "\n",
    "# Now use the axes object to add stuff to plot\n",
    "axes.scatter(x, GEH, 4)\n",
    "axes.set_xlabel('Interval')\n",
    "axes.set_ylabel('GEH')\n",
    "axes.set_title('GEH < 5 is ideal')\n",
    "axes.grid()"
   ]
  },
  {
   "cell_type": "code",
   "execution_count": 59,
   "metadata": {},
   "outputs": [],
   "source": [
    "GEH60 = num/len(GEH)"
   ]
  },
  {
   "cell_type": "markdown",
   "metadata": {},
   "source": [
    "## GEH"
   ]
  },
  {
   "cell_type": "code",
   "execution_count": null,
   "metadata": {},
   "outputs": [],
   "source": [
    "m = [\"GEH5\", \"GEH15\", \"GEH30\", \"GEH60\"]"
   ]
  },
  {
   "cell_type": "code",
   "execution_count": null,
   "metadata": {},
   "outputs": [],
   "source": [
    "GEH = [GEH5, GEH15, GEH30, GEH60]"
   ]
  },
  {
   "cell_type": "code",
   "execution_count": null,
   "metadata": {},
   "outputs": [],
   "source": [
    "data = np.asarray(GEH).reshape((1, 4))\n",
    "df = pd.DataFrame(data=data,columns=m)\n",
    "df"
   ]
  }
 ],
 "metadata": {
  "kernelspec": {
   "display_name": "Python 3 (ipykernel)",
   "language": "python",
   "name": "python3"
  },
  "language_info": {
   "codemirror_mode": {
    "name": "ipython",
    "version": 3
   },
   "file_extension": ".py",
   "mimetype": "text/x-python",
   "name": "python",
   "nbconvert_exporter": "python",
   "pygments_lexer": "ipython3",
   "version": "3.11.5"
  }
 },
 "nbformat": 4,
 "nbformat_minor": 4
}
