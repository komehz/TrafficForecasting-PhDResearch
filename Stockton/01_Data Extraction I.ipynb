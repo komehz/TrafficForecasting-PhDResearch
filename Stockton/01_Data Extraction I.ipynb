{
 "cells": [
  {
   "cell_type": "code",
   "execution_count": 1,
   "metadata": {},
   "outputs": [],
   "source": [
    "import csv"
   ]
  },
  {
   "cell_type": "markdown",
   "metadata": {},
   "source": [
    "# Train DataSet"
   ]
  },
  {
   "cell_type": "code",
   "execution_count": 2,
   "metadata": {},
   "outputs": [],
   "source": [
    "# March\n",
    "stations = ['1096710','1096310','1007410','1021310','1021410','1021510','1016610','1027410','10115310','1022010','1022210']\n",
    "\n",
    "with open('03March.csv', 'w') as new_file:\n",
    "    csv_writer = csv.writer(new_file)\n",
    "    \n",
    "    for i in range(1,32):\n",
    "        with open('DataSet/Traffic/03March/d10_text_station_5min_2019_03_{}.txt'.\n",
    "                  format(str(i).zfill(2)), 'r') as csv_file:\n",
    "            csv_reader = csv.reader(csv_file)\n",
    "    \n",
    "            for line in csv_reader:\n",
    "                if line[1] in stations:\n",
    "                    csv_writer.writerow(line)"
   ]
  },
  {
   "cell_type": "code",
   "execution_count": 3,
   "metadata": {},
   "outputs": [],
   "source": [
    "# April\n",
    "stations = ['1096710','1096310','1007410','1021310','1021410','1021510','1016610','1027410','10115310','1022010','1022210']\n",
    "\n",
    "with open('04April.csv', 'w') as new_file:\n",
    "    csv_writer = csv.writer(new_file)\n",
    "    \n",
    "    for i in range(1,31):\n",
    "        with open('DataSet/Traffic/04April/d10_text_station_5min_2019_04_{}.txt'.\n",
    "                  format(str(i).zfill(2)), 'r') as csv_file:\n",
    "            csv_reader = csv.reader(csv_file)\n",
    "    \n",
    "            for line in csv_reader:\n",
    "                if line[1] in stations:\n",
    "                    csv_writer.writerow(line)"
   ]
  },
  {
   "cell_type": "code",
   "execution_count": 4,
   "metadata": {},
   "outputs": [],
   "source": [
    "# May\n",
    "stations = ['1096710','1096310','1007410','1021310','1021410','1021510','1016610','1027410','10115310','1022010','1022210']\n",
    "\n",
    "with open('05May.csv', 'w') as new_file:\n",
    "    csv_writer = csv.writer(new_file)\n",
    "    \n",
    "    for i in range(1,32):\n",
    "        with open('DataSet/Traffic/05May/d10_text_station_5min_2019_05_{}.txt'.\n",
    "                  format(str(i).zfill(2)), 'r') as csv_file:\n",
    "            csv_reader = csv.reader(csv_file)\n",
    "    \n",
    "            for line in csv_reader:\n",
    "                if line[1] in stations:\n",
    "                    csv_writer.writerow(line)"
   ]
  },
  {
   "cell_type": "code",
   "execution_count": 5,
   "metadata": {},
   "outputs": [],
   "source": [
    "# June\n",
    "stations = ['1096710','1096310','1007410','1021310','1021410','1021510','1016610','1027410','10115310','1022010','1022210']\n",
    "\n",
    "with open('06June.csv', 'w') as new_file:\n",
    "    csv_writer = csv.writer(new_file)\n",
    "    \n",
    "    for i in range(1,31):\n",
    "        with open('DataSet/Traffic/06June/d10_text_station_5min_2019_06_{}.txt'.\n",
    "                  format(str(i).zfill(2)), 'r') as csv_file:\n",
    "            csv_reader = csv.reader(csv_file)\n",
    "    \n",
    "            for line in csv_reader:\n",
    "                if line[1] in stations:\n",
    "                    csv_writer.writerow(line)"
   ]
  },
  {
   "cell_type": "markdown",
   "metadata": {},
   "source": [
    "# Test DataSet"
   ]
  },
  {
   "cell_type": "code",
   "execution_count": 6,
   "metadata": {},
   "outputs": [],
   "source": [
    "# Weekday 6th Aug 2019\n",
    "stations = ['1096710','1096310','1007410','1021310','1021410','1021510','1016610','1027410','10115310','1022010','1022210']\n",
    "\n",
    "with open('07Weekday.csv', 'w') as new_file:\n",
    "    csv_writer = csv.writer(new_file)\n",
    "    \n",
    "    with open('DataSet/Traffic/Test/d10_text_station_5min_2019_08_06.txt', 'r') as csv_file:\n",
    "        csv_reader = csv.reader(csv_file)\n",
    "    \n",
    "        for line in csv_reader:\n",
    "            if line[1] in stations:\n",
    "                csv_writer.writerow(line)"
   ]
  },
  {
   "cell_type": "code",
   "execution_count": 7,
   "metadata": {},
   "outputs": [],
   "source": [
    "# Weekend 10th Aug 2019\n",
    "stations = ['1096710','1096310','1007410','1021310','1021410','1021510','1016610','1027410','10115310','1022010','1022210']\n",
    "\n",
    "with open('08Weekend.csv', 'w') as new_file:\n",
    "    csv_writer = csv.writer(new_file)\n",
    "    \n",
    "    with open('DataSet/Traffic/Test/d10_text_station_5min_2019_08_10.txt', 'r') as csv_file:\n",
    "        csv_reader = csv.reader(csv_file)\n",
    "    \n",
    "        for line in csv_reader:\n",
    "            if line[1] in stations:\n",
    "                csv_writer.writerow(line)"
   ]
  }
 ],
 "metadata": {
  "kernelspec": {
   "display_name": "Python 3 (ipykernel)",
   "language": "python",
   "name": "python3"
  },
  "language_info": {
   "codemirror_mode": {
    "name": "ipython",
    "version": 3
   },
   "file_extension": ".py",
   "mimetype": "text/x-python",
   "name": "python",
   "nbconvert_exporter": "python",
   "pygments_lexer": "ipython3",
   "version": "3.11.5"
  }
 },
 "nbformat": 4,
 "nbformat_minor": 4
}
