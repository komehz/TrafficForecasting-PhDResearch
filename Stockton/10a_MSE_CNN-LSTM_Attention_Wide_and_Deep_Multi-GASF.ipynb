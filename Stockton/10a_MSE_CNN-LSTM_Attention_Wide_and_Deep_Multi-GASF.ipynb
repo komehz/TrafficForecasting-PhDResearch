{
 "cells": [
  {
   "cell_type": "code",
   "execution_count": 1,
   "metadata": {},
   "outputs": [],
   "source": [
    "import pandas as pd\n",
    "import numpy as np\n",
    "import matplotlib.pyplot as plt\n",
    "import seaborn as sns\n",
    "import joblib\n",
    "import os"
   ]
  },
  {
   "cell_type": "code",
   "execution_count": 2,
   "metadata": {},
   "outputs": [],
   "source": [
    "import keras_tuner as kt\n",
    "from keras_tuner import RandomSearch\n",
    "# from GEH_LOSS import GEH_loss\n",
    "import geh as ga"
   ]
  },
  {
   "cell_type": "code",
   "execution_count": 3,
   "metadata": {},
   "outputs": [],
   "source": [
    "from sklearn.metrics import mean_absolute_error,mean_squared_error,mean_absolute_percentage_error"
   ]
  },
  {
   "cell_type": "code",
   "execution_count": 4,
   "metadata": {},
   "outputs": [],
   "source": [
    "import relative_accuracy as ra"
   ]
  },
  {
   "cell_type": "code",
   "execution_count": 5,
   "metadata": {},
   "outputs": [],
   "source": [
    "# Load all Inputs and Output Data\n",
    "\n",
    "# 5 mins (1 step ahead)\n",
    "Deep_train_5   = np.load(\"Deep_train_5_multi.npz\")['x'] \n",
    "Output_train_5 = np.load(\"Deep_train_5_multi.npz\")['y']\n",
    "\n",
    "Deep_test_5   = np.load(\"Deep_test_5_multi.npz\")['x'] \n",
    "Output_test_5 = np.load(\"Deep_test_5_multi.npz\")['y'] \n",
    "\n",
    "# 15 mins (3 steps ahead)\n",
    "Deep_train_15   = np.load(\"Deep_train_15_multi.npz\")['x'] \n",
    "Output_train_15 = np.load(\"Deep_train_15_multi.npz\")['y']\n",
    "\n",
    "Deep_test_15   = np.load(\"Deep_test_15_multi.npz\")['x'] \n",
    "Output_test_15 = np.load(\"Deep_test_15_multi.npz\")['y']\n",
    "\n",
    "# 30 mins (6 steps ahead)\n",
    "Deep_train_30   = np.load(\"Deep_train_30_multi.npz\")['x'] \n",
    "Output_train_30 = np.load(\"Deep_train_30_multi.npz\")['y']\n",
    "\n",
    "Deep_test_30   = np.load(\"Deep_test_30_multi.npz\")['x'] \n",
    "Output_test_30 = np.load(\"Deep_test_30_multi.npz\")['y']\n",
    "\n",
    "# 60 mins (12 steps ahead)\n",
    "Deep_train_60   = np.load(\"Deep_train_60_multi.npz\")['x'] \n",
    "Output_train_60 = np.load(\"Deep_train_60_multi.npz\")['y']\n",
    "\n",
    "Deep_test_60   = np.load(\"Deep_test_60_multi.npz\")['x'] \n",
    "Output_test_60 = np.load(\"Deep_test_60_multi.npz\")['y']"
   ]
  },
  {
   "cell_type": "code",
   "execution_count": 6,
   "metadata": {},
   "outputs": [],
   "source": [
    "# Wide Data\n",
    "Xtrain = joblib.load(\"002weeks_train_Multi.save\") \n",
    "Xtest = joblib.load(\"002weeks_test_Multi.save\") "
   ]
  },
  {
   "cell_type": "code",
   "execution_count": 7,
   "metadata": {},
   "outputs": [],
   "source": [
    "# 5 mins\n",
    "# Delete first 15 samples\n",
    "Wide_train_5 = np.delete(Xtrain, np.s_[0:15], 0)\n",
    "Wide_test_5 = np.delete(Xtest, np.s_[0:15], 0)"
   ]
  },
  {
   "cell_type": "code",
   "execution_count": 8,
   "metadata": {},
   "outputs": [],
   "source": [
    "# 15 mins\n",
    "# Delete first 17 samples\n",
    "Wide_train_15 = np.delete(Xtrain, np.s_[0:17], 0)\n",
    "Wide_test_15 = np.delete(Xtest, np.s_[0:17], 0)"
   ]
  },
  {
   "cell_type": "code",
   "execution_count": 9,
   "metadata": {},
   "outputs": [],
   "source": [
    "# 30 mins\n",
    "# Delete first 20 samples\n",
    "Wide_train_30 = np.delete(Xtrain, np.s_[0:20], 0)\n",
    "Wide_test_30 = np.delete(Xtest, np.s_[0:20], 0)"
   ]
  },
  {
   "cell_type": "code",
   "execution_count": 10,
   "metadata": {},
   "outputs": [],
   "source": [
    "# 60 mins\n",
    "# Delete first 27 samples\n",
    "Wide_train_60 = np.delete(Xtrain, np.s_[0:26], 0)\n",
    "Wide_test_60 = np.delete(Xtest, np.s_[0:26], 0)"
   ]
  },
  {
   "cell_type": "code",
   "execution_count": 11,
   "metadata": {},
   "outputs": [
    {
     "name": "stderr",
     "output_type": "stream",
     "text": [
      "C:\\Users\\mesug\\anaconda3\\envs\\my_env\\lib\\site-packages\\sklearn\\base.py:324: UserWarning: Trying to unpickle estimator MinMaxScaler from version 1.0.2 when using version 1.0.1. This might lead to breaking code or invalid results. Use at your own risk. For more info please refer to:\n",
      "https://scikit-learn.org/stable/modules/model_persistence.html#security-maintainability-limitations\n",
      "  warnings.warn(\n"
     ]
    }
   ],
   "source": [
    "scaler_filename = \"scaler.save\"\n",
    "scaler = joblib.load(scaler_filename) "
   ]
  },
  {
   "cell_type": "code",
   "execution_count": 12,
   "metadata": {},
   "outputs": [],
   "source": [
    "Test      = pd.read_csv('01test_scaled.csv', index_col=None, parse_dates=[0])"
   ]
  },
  {
   "cell_type": "code",
   "execution_count": 13,
   "metadata": {},
   "outputs": [],
   "source": [
    "from pyts.image import GramianAngularField"
   ]
  },
  {
   "cell_type": "markdown",
   "metadata": {},
   "source": [
    "# Reshape Samples"
   ]
  },
  {
   "cell_type": "markdown",
   "metadata": {},
   "source": [
    "The first step is to split the input sequences into subsequences that can be processed by the CNN model. Here, each spatio-temporal sample can be split into three sub-samples, each with five time steps. The CNN can interpret each subsequence of five time steps and provide a time series of interpretations of the subsequences to the LSTM model to process as input."
   ]
  },
  {
   "cell_type": "code",
   "execution_count": 14,
   "metadata": {},
   "outputs": [],
   "source": [
    "# reshape from [samples, timesteps] into [samples, subsequences, timesteps, features]\n",
    "n_features = 7                # No of loop detectors\n",
    "n_seq = 3                     # Subsequences\n",
    "n_steps = 5                   # time-step per subsequence\n",
    "# val_percent = 0.07567       # 2 weeks\n",
    "val_percent = 0.2        \n",
    "batch_size = 32\n",
    "n_GAF = 15\n",
    "\n",
    "n_seq_ = 3                     # Subsequences\n",
    "n_steps_ = 3                   # time-step per subsequence"
   ]
  },
  {
   "cell_type": "code",
   "execution_count": 15,
   "metadata": {},
   "outputs": [],
   "source": [
    "# Summation\n",
    "gasf = GramianAngularField(image_size=1., method='summation', sample_range=None)\n",
    "# Difference\n",
    "gadf = GramianAngularField(image_size=1., method='difference', sample_range=None)"
   ]
  },
  {
   "cell_type": "markdown",
   "metadata": {},
   "source": [
    "#### 5 mins"
   ]
  },
  {
   "cell_type": "code",
   "execution_count": 16,
   "metadata": {},
   "outputs": [],
   "source": [
    "# Train\n",
    "Xt5 = np.empty((len(Deep_train_5), n_features, n_GAF, n_GAF))\n",
    "yt5 = scaler.inverse_transform(Output_train_5)"
   ]
  },
  {
   "cell_type": "code",
   "execution_count": 17,
   "metadata": {},
   "outputs": [],
   "source": [
    "# Test\n",
    "Xv5 = np.empty((len(Deep_test_5), n_features, n_GAF, n_GAF))\n",
    "yv5 = scaler.inverse_transform(Output_test_5)"
   ]
  },
  {
   "cell_type": "markdown",
   "metadata": {},
   "source": [
    "#### 15 mins"
   ]
  },
  {
   "cell_type": "code",
   "execution_count": 18,
   "metadata": {},
   "outputs": [],
   "source": [
    "# Train\n",
    "Xt15 = np.empty((len(Deep_train_15), n_features, n_GAF, n_GAF))\n",
    "yt15 = scaler.inverse_transform(Output_train_15)"
   ]
  },
  {
   "cell_type": "code",
   "execution_count": 19,
   "metadata": {},
   "outputs": [],
   "source": [
    "# Test\n",
    "Xv15 = np.empty((len(Deep_test_15), n_features, n_GAF, n_GAF))\n",
    "yv15 = scaler.inverse_transform(Output_test_15)"
   ]
  },
  {
   "cell_type": "markdown",
   "metadata": {},
   "source": [
    "#### 30 mins"
   ]
  },
  {
   "cell_type": "code",
   "execution_count": 20,
   "metadata": {},
   "outputs": [],
   "source": [
    "# Train\n",
    "Xt30 = np.empty((len(Deep_train_30), n_features, n_GAF, n_GAF))\n",
    "yt30 = scaler.inverse_transform(Output_train_30)"
   ]
  },
  {
   "cell_type": "code",
   "execution_count": 21,
   "metadata": {},
   "outputs": [],
   "source": [
    "# Test\n",
    "Xv30 = np.empty((len(Deep_test_30), n_features, n_GAF, n_GAF))\n",
    "yv30 = scaler.inverse_transform(Output_test_30)"
   ]
  },
  {
   "cell_type": "markdown",
   "metadata": {},
   "source": [
    "#### 60 mins"
   ]
  },
  {
   "cell_type": "code",
   "execution_count": 22,
   "metadata": {},
   "outputs": [],
   "source": [
    "# Train\n",
    "Xt60 = np.empty((len(Deep_train_60), n_features, n_GAF, n_GAF))\n",
    "yt60 = scaler.inverse_transform(Output_train_60)"
   ]
  },
  {
   "cell_type": "code",
   "execution_count": 23,
   "metadata": {},
   "outputs": [],
   "source": [
    "# Test\n",
    "Xv60 = np.empty((len(Deep_test_60), n_features, n_GAF, n_GAF))\n",
    "yv60 = scaler.inverse_transform(Output_test_60)"
   ]
  },
  {
   "cell_type": "code",
   "execution_count": 24,
   "metadata": {},
   "outputs": [],
   "source": [
    "## Check Size"
   ]
  },
  {
   "cell_type": "code",
   "execution_count": 25,
   "metadata": {},
   "outputs": [
    {
     "data": {
      "text/plain": [
       "(31089, 7, 15, 15)"
      ]
     },
     "execution_count": 25,
     "metadata": {},
     "output_type": "execute_result"
    }
   ],
   "source": [
    "Xt5.shape"
   ]
  },
  {
   "cell_type": "markdown",
   "metadata": {},
   "source": [
    "## Tranformations"
   ]
  },
  {
   "cell_type": "markdown",
   "metadata": {},
   "source": [
    "### 5 mins"
   ]
  },
  {
   "cell_type": "code",
   "execution_count": 26,
   "metadata": {},
   "outputs": [],
   "source": [
    "for i in range(len(Xt5)):\n",
    "    # Transpose data first because:\n",
    "    # expected shape is (n_samples, n_timestamps)\n",
    "    X = np.transpose(Deep_train_5[i])\n",
    "    \n",
    "    # Perform the GAF transformations\n",
    "    X_gasf = gasf.transform(X)\n",
    "    # X_gadf = gadf.transform(X)\n",
    "    \n",
    "    # Store value in the array to get the shape:\n",
    "    # (samples, feature, n_GAF, n_GAF)\n",
    "    Xt5[i,:,:,:] = X_gasf\n",
    "    # Xt5[i,:,:,:] = X_gadf"
   ]
  },
  {
   "cell_type": "code",
   "execution_count": 27,
   "metadata": {},
   "outputs": [],
   "source": [
    "for i in range(len(Xv5)):\n",
    "    # Transpose data first because:\n",
    "    # expected shape is (n_samples, n_timestamps)\n",
    "    X = np.transpose(Deep_test_5[i])\n",
    "    \n",
    "    # Perform the GAF transformations\n",
    "    X_gasf = gasf.transform(X)\n",
    "    # X_gadf = gadf.transform(X)\n",
    "    \n",
    "    # Store value in the array to get the shape:\n",
    "    # (samples, feature, n_GAF, n_GAF)\n",
    "    Xv5[i,:,:,:] = X_gasf\n",
    "    # Xv5[i,:,:,:] = X_gadf"
   ]
  },
  {
   "cell_type": "code",
   "execution_count": 28,
   "metadata": {},
   "outputs": [
    {
     "data": {
      "text/plain": [
       "(31089, 7, 15, 15)"
      ]
     },
     "execution_count": 28,
     "metadata": {},
     "output_type": "execute_result"
    }
   ],
   "source": [
    "Xt5.shape"
   ]
  },
  {
   "cell_type": "code",
   "execution_count": 29,
   "metadata": {},
   "outputs": [
    {
     "data": {
      "text/plain": [
       "(4017, 7, 15, 15)"
      ]
     },
     "execution_count": 29,
     "metadata": {},
     "output_type": "execute_result"
    }
   ],
   "source": [
    "Xv5.shape"
   ]
  },
  {
   "cell_type": "markdown",
   "metadata": {},
   "source": [
    "### 15 mins"
   ]
  },
  {
   "cell_type": "code",
   "execution_count": 30,
   "metadata": {},
   "outputs": [],
   "source": [
    "for i in range(len(Xt15)):\n",
    "    # Transpose data first because:\n",
    "    # expected shape is (n_samples, n_timestamps)\n",
    "    X = np.transpose(Deep_train_15[i])\n",
    "    \n",
    "    # Perform the GAF transformations\n",
    "    X_gasf = gasf.transform(X)\n",
    "    # X_gadf = gadf.transform(X)\n",
    "    \n",
    "    # Store value in the array to get the shape:\n",
    "    # (samples, feature, n_GAF, n_GAF)\n",
    "    Xt15[i,:,:,:] = X_gasf\n",
    "    # Xt5[i,:,:,:] = X_gadf"
   ]
  },
  {
   "cell_type": "code",
   "execution_count": 31,
   "metadata": {},
   "outputs": [],
   "source": [
    "for i in range(len(Xv15)):\n",
    "    # Transpose data first because:\n",
    "    # expected shape is (n_samples, n_timestamps)\n",
    "    X = np.transpose(Deep_test_15[i])\n",
    "    \n",
    "    # Perform the GAF transformations\n",
    "    X_gasf = gasf.transform(X)\n",
    "    # X_gadf = gadf.transform(X)\n",
    "    \n",
    "    # Store value in the array to get the shape:\n",
    "    # (samples, feature, n_GAF, n_GAF)\n",
    "    Xv15[i,:,:,:] = X_gasf\n",
    "    # Xv5[i,:,:,:] = X_gadf"
   ]
  },
  {
   "cell_type": "code",
   "execution_count": 32,
   "metadata": {},
   "outputs": [
    {
     "data": {
      "text/plain": [
       "(31087, 7, 15, 15)"
      ]
     },
     "execution_count": 32,
     "metadata": {},
     "output_type": "execute_result"
    }
   ],
   "source": [
    "Xt15.shape"
   ]
  },
  {
   "cell_type": "code",
   "execution_count": 33,
   "metadata": {},
   "outputs": [
    {
     "data": {
      "text/plain": [
       "(4015, 7, 15, 15)"
      ]
     },
     "execution_count": 33,
     "metadata": {},
     "output_type": "execute_result"
    }
   ],
   "source": [
    "Xv15.shape"
   ]
  },
  {
   "cell_type": "markdown",
   "metadata": {},
   "source": [
    "### 30 mins"
   ]
  },
  {
   "cell_type": "code",
   "execution_count": 34,
   "metadata": {},
   "outputs": [],
   "source": [
    "for i in range(len(Xt30)):\n",
    "    # Transpose data first because:\n",
    "    # expected shape is (n_samples, n_timestamps)\n",
    "    X = np.transpose(Deep_train_30[i])\n",
    "    \n",
    "    # Perform the GAF transformations\n",
    "    X_gasf = gasf.transform(X)\n",
    "    # X_gadf = gadf.transform(X)\n",
    "    \n",
    "    # Store value in the array to get the shape:\n",
    "    # (samples, feature, n_GAF, n_GAF)\n",
    "    Xt30[i,:,:,:] = X_gasf\n",
    "    # Xt5[i,:,:,:] = X_gadf"
   ]
  },
  {
   "cell_type": "code",
   "execution_count": 35,
   "metadata": {},
   "outputs": [],
   "source": [
    "for i in range(len(Xv30)):\n",
    "    # Transpose data first because:\n",
    "    # expected shape is (n_samples, n_timestamps)\n",
    "    X = np.transpose(Deep_test_30[i])\n",
    "    \n",
    "    # Perform the GAF transformations\n",
    "    X_gasf = gasf.transform(X)\n",
    "    # X_gadf = gadf.transform(X)\n",
    "    \n",
    "    # Store value in the array to get the shape:\n",
    "    # (samples, feature, n_GAF, n_GAF)\n",
    "    Xv30[i,:,:,:] = X_gasf\n",
    "    # Xv5[i,:,:,:] = X_gadf"
   ]
  },
  {
   "cell_type": "code",
   "execution_count": 36,
   "metadata": {},
   "outputs": [
    {
     "data": {
      "text/plain": [
       "(31084, 7, 15, 15)"
      ]
     },
     "execution_count": 36,
     "metadata": {},
     "output_type": "execute_result"
    }
   ],
   "source": [
    "Xt30.shape"
   ]
  },
  {
   "cell_type": "code",
   "execution_count": 37,
   "metadata": {},
   "outputs": [
    {
     "data": {
      "text/plain": [
       "(4012, 7, 15, 15)"
      ]
     },
     "execution_count": 37,
     "metadata": {},
     "output_type": "execute_result"
    }
   ],
   "source": [
    "Xv30.shape"
   ]
  },
  {
   "cell_type": "markdown",
   "metadata": {},
   "source": [
    "### 60 mins"
   ]
  },
  {
   "cell_type": "code",
   "execution_count": 38,
   "metadata": {},
   "outputs": [],
   "source": [
    "for i in range(len(Xt60)):\n",
    "    # Transpose data first because:\n",
    "    # expected shape is (n_samples, n_timestamps)\n",
    "    X = np.transpose(Deep_train_60[i])\n",
    "    \n",
    "    # Perform the GAF transformations\n",
    "    X_gasf = gasf.transform(X)\n",
    "    # X_gadf = gadf.transform(X)\n",
    "    \n",
    "    # Store value in the array to get the shape:\n",
    "    # (samples, feature, n_GAF, n_GAF)\n",
    "    Xt30[i,:,:,:] = X_gasf\n",
    "    # Xt5[i,:,:,:] = X_gadf"
   ]
  },
  {
   "cell_type": "code",
   "execution_count": 39,
   "metadata": {},
   "outputs": [],
   "source": [
    "for i in range(len(Xv60)):\n",
    "    # Transpose data first because:\n",
    "    # expected shape is (n_samples, n_timestamps)\n",
    "    X = np.transpose(Deep_test_60[i])\n",
    "    \n",
    "    # Perform the GAF transformations\n",
    "    X_gasf = gasf.transform(X)\n",
    "    # X_gadf = gadf.transform(X)\n",
    "    \n",
    "    # Store value in the array to get the shape:\n",
    "    # (samples, feature, n_GAF, n_GAF)\n",
    "    Xv60[i,:,:,:] = X_gasf\n",
    "    # Xv5[i,:,:,:] = X_gadf"
   ]
  },
  {
   "cell_type": "code",
   "execution_count": 40,
   "metadata": {},
   "outputs": [
    {
     "data": {
      "text/plain": [
       "(31078, 7, 15, 15)"
      ]
     },
     "execution_count": 40,
     "metadata": {},
     "output_type": "execute_result"
    }
   ],
   "source": [
    "Xt60.shape"
   ]
  },
  {
   "cell_type": "code",
   "execution_count": 41,
   "metadata": {},
   "outputs": [
    {
     "data": {
      "text/plain": [
       "(4006, 7, 15, 15)"
      ]
     },
     "execution_count": 41,
     "metadata": {},
     "output_type": "execute_result"
    }
   ],
   "source": [
    "Xv60.shape"
   ]
  },
  {
   "cell_type": "markdown",
   "metadata": {},
   "source": [
    "### Reshaping the Data for Conv2D layer\n",
    "\n",
    "For Conv2D, there is a need to add one more dimension to show we're dealing with 1 channel (since technically the images are in black and white, only showing values from 0-max flow on a single channel).\n",
    "\n",
    "Conv1D - strides in 1 dimension\n",
    "Conv2D - strides in 2 dimensions"
   ]
  },
  {
   "cell_type": "code",
   "execution_count": 42,
   "metadata": {},
   "outputs": [],
   "source": [
    "# Train data\n",
    "Xt5  =  np.transpose(Xt5, (0, 2, 3, 1))\n",
    "Xt15 =  np.transpose(Xt15, (0, 2, 3, 1))\n",
    "Xt30 =  np.transpose(Xt30, (0, 2, 3, 1))\n",
    "Xt60 =  np.transpose(Xt60, (0, 2, 3, 1))\n",
    "\n",
    "# Validation data\n",
    "Xv5  =  np.transpose(Xv5, (0, 2, 3, 1))\n",
    "Xv15 =  np.transpose(Xv15, (0, 2, 3, 1))\n",
    "Xv30 =  np.transpose(Xv30, (0, 2, 3, 1))\n",
    "Xv60 =  np.transpose(Xv60, (0, 2, 3, 1))"
   ]
  },
  {
   "cell_type": "code",
   "execution_count": 43,
   "metadata": {},
   "outputs": [
    {
     "data": {
      "text/plain": [
       "(31089, 15, 15, 7)"
      ]
     },
     "execution_count": 43,
     "metadata": {},
     "output_type": "execute_result"
    }
   ],
   "source": [
    "Xt5.shape"
   ]
  },
  {
   "cell_type": "code",
   "execution_count": 44,
   "metadata": {},
   "outputs": [
    {
     "data": {
      "text/plain": [
       "(4017, 15, 15, 7)"
      ]
     },
     "execution_count": 44,
     "metadata": {},
     "output_type": "execute_result"
    }
   ],
   "source": [
    "Xv5.shape"
   ]
  },
  {
   "cell_type": "code",
   "execution_count": 45,
   "metadata": {},
   "outputs": [],
   "source": [
    "# Train data\n",
    "Xt5  =  Xt5.reshape(Xt5.shape[0], n_seq, n_steps, n_GAF, n_features)\n",
    "Xt15 =  Xt15.reshape(Xt15.shape[0], n_seq, n_steps, n_GAF, n_features)\n",
    "Xt30 =  Xt30.reshape(Xt30.shape[0], n_seq, n_steps, n_GAF, n_features)\n",
    "Xt60 =  Xt60.reshape(Xt60.shape[0], n_seq, n_steps, n_GAF, n_features)\n",
    "\n",
    "# Validation data\n",
    "Xv5  =  Xv5.reshape(Xv5.shape[0], n_seq, n_steps, n_GAF, n_features)\n",
    "Xv15 =  Xv15.reshape(Xv15.shape[0], n_seq, n_steps, n_GAF, n_features)\n",
    "Xv30 =  Xv30.reshape(Xv30.shape[0], n_seq, n_steps, n_GAF, n_features)\n",
    "Xv60 =  Xv60.reshape(Xv60.shape[0], n_seq, n_steps, n_GAF, n_features)"
   ]
  },
  {
   "cell_type": "code",
   "execution_count": 46,
   "metadata": {},
   "outputs": [],
   "source": [
    "Wt5  = Wide_train_5\n",
    "Wt15 = Wide_train_15\n",
    "Wt30 = Wide_train_30\n",
    "Wt60 = Wide_train_60\n",
    "\n",
    "Wv5  = Wide_test_5\n",
    "Wv15 = Wide_test_15\n",
    "Wv30 = Wide_test_30\n",
    "Wv60 = Wide_test_60"
   ]
  },
  {
   "cell_type": "code",
   "execution_count": 47,
   "metadata": {},
   "outputs": [],
   "source": [
    "# Train data\n",
    "Wt5  =  Wt5.reshape(Wt5.shape[0], n_seq_, n_steps_, n_features)\n",
    "Wt15 =  Wt15.reshape(Wt15.shape[0], n_seq_, n_steps_, n_features)\n",
    "Wt30 =  Wt30.reshape(Wt30.shape[0], n_seq_, n_steps_, n_features)\n",
    "Wt60 =  Wt60.reshape(Wt60.shape[0], n_seq_, n_steps_, n_features)\n",
    "\n",
    "# Validation data\n",
    "Wv5  =  Wv5.reshape(Wv5.shape[0], n_seq_, n_steps_, n_features)\n",
    "Wv15 =  Wv15.reshape(Wv15.shape[0], n_seq_, n_steps_, n_features)\n",
    "Wv30 =  Wv30.reshape(Wv30.shape[0], n_seq_, n_steps_, n_features)\n",
    "Wv60 =  Wv60.reshape(Wv60.shape[0], n_seq_, n_steps_, n_features)"
   ]
  },
  {
   "cell_type": "code",
   "execution_count": 48,
   "metadata": {},
   "outputs": [
    {
     "data": {
      "text/plain": [
       "(31089, 3, 5, 15, 7)"
      ]
     },
     "execution_count": 48,
     "metadata": {},
     "output_type": "execute_result"
    }
   ],
   "source": [
    "Xt5.shape"
   ]
  },
  {
   "cell_type": "code",
   "execution_count": 49,
   "metadata": {},
   "outputs": [
    {
     "data": {
      "text/plain": [
       "(31089, 3, 3, 7)"
      ]
     },
     "execution_count": 49,
     "metadata": {},
     "output_type": "execute_result"
    }
   ],
   "source": [
    "Wt5.shape"
   ]
  },
  {
   "cell_type": "markdown",
   "metadata": {},
   "source": [
    "# CNN-LSTM model"
   ]
  },
  {
   "cell_type": "code",
   "execution_count": 50,
   "metadata": {},
   "outputs": [],
   "source": [
    "from tensorflow import keras\n",
    "from keras_self_attention import SeqSelfAttention\n",
    "\n",
    "# Early Stopping\n",
    "early_stop = keras.callbacks.EarlyStopping(monitor='val_loss',patience=5, restore_best_weights = True)"
   ]
  },
  {
   "cell_type": "code",
   "execution_count": 51,
   "metadata": {},
   "outputs": [
    {
     "data": {
      "text/plain": [
       "(31089, 9, 7)"
      ]
     },
     "execution_count": 51,
     "metadata": {},
     "output_type": "execute_result"
    }
   ],
   "source": [
    "Wide_train_5.shape"
   ]
  },
  {
   "cell_type": "markdown",
   "metadata": {},
   "source": [
    "# 5 mins ahead"
   ]
  },
  {
   "cell_type": "code",
   "execution_count": 52,
   "metadata": {},
   "outputs": [],
   "source": [
    "def build_model_5(hp):\n",
    "    # Inputs\n",
    "    channel_Wide = keras.layers.Input(shape=Wt5.shape[1:], name=\"WideInput\")\n",
    "    channel_Deep = keras.layers.Input(shape=Xt5.shape[1:], name=\"DeepInput\")\n",
    "    units = hp.Int(\"units\", min_value=1, max_value=100, step=1)\n",
    "    \n",
    "    \n",
    "    # Wide Model\n",
    "    flatten_5w = keras.layers.TimeDistributed(keras.layers.Flatten())(channel_Wide)\n",
    "    Bi_5 = keras.layers.Bidirectional(\n",
    "        keras.layers.LSTM(units=units, return_sequences=True),\n",
    "        merge_mode=\"ave\"\n",
    "    )(flatten_5w)\n",
    "    \n",
    "    \n",
    "    # Deep Model\n",
    "    # CNN \n",
    "    CNN_5 = keras.layers.TimeDistributed(\n",
    "        keras.layers.Conv2D(filters=hp.Int(\"filters\", min_value=32, max_value=512, step=32),\n",
    "                            kernel_size=hp.Choice(\"kernel_size\", [2, 3]), activation='relu'))(channel_Deep)\n",
    "    flatten_5 = keras.layers.TimeDistributed(keras.layers.Flatten())(CNN_5)\n",
    "    # LSTM          \n",
    "    LSTM_5 = keras.layers.LSTM(units=units, return_sequences=True)(flatten_5)\n",
    "\n",
    "    \n",
    "    # Concatenation \n",
    "    concat = keras.layers.concatenate([Bi_5, LSTM_5], axis=1)\n",
    "\n",
    "    # Attention\n",
    "    Att_5 = SeqSelfAttention(attention_activation='sigmoid')(concat)\n",
    "    merge = keras.layers.Flatten()(concat)\n",
    "    \n",
    "    # Output\n",
    "    output = keras.layers.Dense(n_features, name= \"output\")(merge)\n",
    "    #print(output.shape)\n",
    "    \n",
    "    # Model\n",
    "    model_5 = keras.Model(inputs=[channel_Wide,channel_Deep], outputs=[output])\n",
    "\n",
    "    # Compile\n",
    "    model_5.compile(optimizer=keras.optimizers.Adam(hp.Choice(\"learning_rate\", [1e-2, 1e-3, 1e-4])), \n",
    "        loss=\"mse\", metrics=['MeanAbsoluteError','RootMeanSquaredError','MeanAbsolutePercentageError'])\n",
    "                                   \n",
    "    return model_5"
   ]
  },
  {
   "cell_type": "code",
   "execution_count": 53,
   "metadata": {},
   "outputs": [
    {
     "name": "stdout",
     "output_type": "stream",
     "text": [
      "INFO:tensorflow:Reloading Tuner from C:\\Runs\\10a-5\\tuner0.json\n"
     ]
    }
   ],
   "source": [
    "tuner5 = RandomSearch(\n",
    "    build_model_5,\n",
    "    objective=\"val_loss\",\n",
    "    max_trials=10,\n",
    "    executions_per_trial=2,\n",
    "    overwrite=False,\n",
    "    directory=os.path.normpath('C:/Runs'),\n",
    "    project_name=\"10a-5\",\n",
    ")"
   ]
  },
  {
   "cell_type": "code",
   "execution_count": 54,
   "metadata": {},
   "outputs": [
    {
     "name": "stdout",
     "output_type": "stream",
     "text": [
      "Search space summary\n",
      "Default search space size: 4\n",
      "units (Int)\n",
      "{'default': None, 'conditions': [], 'min_value': 1, 'max_value': 100, 'step': 1, 'sampling': 'linear'}\n",
      "filters (Int)\n",
      "{'default': None, 'conditions': [], 'min_value': 32, 'max_value': 512, 'step': 32, 'sampling': 'linear'}\n",
      "kernel_size (Choice)\n",
      "{'default': 2, 'conditions': [], 'values': [2, 3], 'ordered': True}\n",
      "learning_rate (Choice)\n",
      "{'default': 0.01, 'conditions': [], 'values': [0.01, 0.001, 0.0001], 'ordered': True}\n"
     ]
    }
   ],
   "source": [
    "tuner5.search_space_summary()"
   ]
  },
  {
   "cell_type": "code",
   "execution_count": 55,
   "metadata": {},
   "outputs": [
    {
     "name": "stdout",
     "output_type": "stream",
     "text": [
      "Trial 10 Complete [00h 20m 32s]\n",
      "val_loss: 619.9215698242188\n",
      "\n",
      "Best val_loss So Far: 600.4235534667969\n",
      "Total elapsed time: 12h 50m 20s\n",
      "INFO:tensorflow:Oracle triggered exit\n"
     ]
    }
   ],
   "source": [
    "tuner5.search((Wt5,Xt5), yt5, epochs=200,\n",
    "           validation_split = val_percent,\n",
    "           callbacks = [early_stop],\n",
    "           verbose=2)"
   ]
  },
  {
   "cell_type": "code",
   "execution_count": 56,
   "metadata": {},
   "outputs": [
    {
     "name": "stdout",
     "output_type": "stream",
     "text": [
      "Results summary\n",
      "Results in C:\\Runs\\10a-5\n",
      "Showing 1 best trials\n",
      "Objective(name=\"val_loss\", direction=\"min\")\n",
      "\n",
      "Trial 00 summary\n",
      "Hyperparameters:\n",
      "units: 72\n",
      "filters: 96\n",
      "kernel_size: 3\n",
      "learning_rate: 0.001\n",
      "Score: 600.4235534667969\n"
     ]
    }
   ],
   "source": [
    "tuner5.results_summary(1)"
   ]
  },
  {
   "cell_type": "markdown",
   "metadata": {},
   "source": [
    "### Best Model"
   ]
  },
  {
   "cell_type": "code",
   "execution_count": 58,
   "metadata": {},
   "outputs": [],
   "source": [
    "best_hp5 = tuner5.get_best_hyperparameters()[0]\n",
    "model5 = tuner5.hypermodel.build(best_hp5)"
   ]
  },
  {
   "cell_type": "code",
   "execution_count": 59,
   "metadata": {},
   "outputs": [
    {
     "data": {
      "text/plain": [
       "['Best_HP/10a-5']"
      ]
     },
     "execution_count": 59,
     "metadata": {},
     "output_type": "execute_result"
    }
   ],
   "source": [
    "scaler_filename = \"Best_HP/10a-5\"\n",
    "joblib.dump(best_hp5, scaler_filename) "
   ]
  },
  {
   "cell_type": "code",
   "execution_count": 60,
   "metadata": {},
   "outputs": [],
   "source": [
    "scaler_filename = \"Best_HP/10a-5\"\n",
    "best_hp5 = joblib.load(scaler_filename) \n",
    "\n",
    "model5 = tuner5.hypermodel.build(best_hp5)"
   ]
  },
  {
   "cell_type": "code",
   "execution_count": 61,
   "metadata": {},
   "outputs": [
    {
     "name": "stdout",
     "output_type": "stream",
     "text": [
      "Model: \"model_2\"\n",
      "__________________________________________________________________________________________________\n",
      "Layer (type)                    Output Shape         Param #     Connected to                     \n",
      "==================================================================================================\n",
      "DeepInput (InputLayer)          [(None, 3, 5, 15, 7) 0                                            \n",
      "__________________________________________________________________________________________________\n",
      "WideInput (InputLayer)          [(None, 3, 3, 7)]    0                                            \n",
      "__________________________________________________________________________________________________\n",
      "time_distributed_7 (TimeDistrib (None, 3, 3, 13, 96) 6144        DeepInput[0][0]                  \n",
      "__________________________________________________________________________________________________\n",
      "time_distributed_6 (TimeDistrib (None, 3, 21)        0           WideInput[0][0]                  \n",
      "__________________________________________________________________________________________________\n",
      "time_distributed_8 (TimeDistrib (None, 3, 3744)      0           time_distributed_7[0][0]         \n",
      "__________________________________________________________________________________________________\n",
      "bidirectional_2 (Bidirectional) (None, 3, 72)        54144       time_distributed_6[0][0]         \n",
      "__________________________________________________________________________________________________\n",
      "lstm_5 (LSTM)                   (None, 3, 72)        1099296     time_distributed_8[0][0]         \n",
      "__________________________________________________________________________________________________\n",
      "concatenate_2 (Concatenate)     (None, 6, 72)        0           bidirectional_2[0][0]            \n",
      "                                                                 lstm_5[0][0]                     \n",
      "__________________________________________________________________________________________________\n",
      "flatten_8 (Flatten)             (None, 432)          0           concatenate_2[0][0]              \n",
      "__________________________________________________________________________________________________\n",
      "output (Dense)                  (None, 7)            3031        flatten_8[0][0]                  \n",
      "==================================================================================================\n",
      "Total params: 1,162,615\n",
      "Trainable params: 1,162,615\n",
      "Non-trainable params: 0\n",
      "__________________________________________________________________________________________________\n"
     ]
    }
   ],
   "source": [
    "model5.summary()"
   ]
  },
  {
   "cell_type": "code",
   "execution_count": 62,
   "metadata": {},
   "outputs": [
    {
     "name": "stdout",
     "output_type": "stream",
     "text": [
      "Epoch 1/100\n",
      "778/778 [==============================] - 13s 11ms/step - loss: 22486.2793 - mean_absolute_error: 113.6391 - root_mean_squared_error: 149.9543 - mean_absolute_percentage_error: 56427040.0000 - val_loss: 5655.7632 - val_mean_absolute_error: 53.7114 - val_root_mean_squared_error: 75.2048 - val_mean_absolute_percentage_error: 4655168.0000\n",
      "Epoch 2/100\n",
      "778/778 [==============================] - 8s 11ms/step - loss: 2928.7363 - mean_absolute_error: 36.9108 - root_mean_squared_error: 54.1178 - mean_absolute_percentage_error: 60046716.0000 - val_loss: 1812.6003 - val_mean_absolute_error: 29.6229 - val_root_mean_squared_error: 42.5746 - val_mean_absolute_percentage_error: 4307955.0000\n",
      "Epoch 3/100\n",
      "778/778 [==============================] - 9s 11ms/step - loss: 1265.7067 - mean_absolute_error: 25.3516 - root_mean_squared_error: 35.5768 - mean_absolute_percentage_error: 59957732.0000 - val_loss: 1315.3838 - val_mean_absolute_error: 25.3872 - val_root_mean_squared_error: 36.2682 - val_mean_absolute_percentage_error: 4301849.5000\n",
      "Epoch 4/100\n",
      "778/778 [==============================] - 8s 10ms/step - loss: 978.6759 - mean_absolute_error: 22.7311 - root_mean_squared_error: 31.2838 - mean_absolute_percentage_error: 60850036.0000 - val_loss: 1252.3121 - val_mean_absolute_error: 24.6652 - val_root_mean_squared_error: 35.3880 - val_mean_absolute_percentage_error: 4321564.0000\n",
      "Epoch 5/100\n",
      "778/778 [==============================] - 8s 10ms/step - loss: 904.9194 - mean_absolute_error: 21.9355 - root_mean_squared_error: 30.0819 - mean_absolute_percentage_error: 61322292.0000 - val_loss: 1199.7078 - val_mean_absolute_error: 23.9982 - val_root_mean_squared_error: 34.6368 - val_mean_absolute_percentage_error: 4294751.5000\n",
      "Epoch 6/100\n",
      "778/778 [==============================] - 8s 10ms/step - loss: 872.5452 - mean_absolute_error: 21.5713 - root_mean_squared_error: 29.5389 - mean_absolute_percentage_error: 61366396.0000 - val_loss: 1194.2703 - val_mean_absolute_error: 23.9142 - val_root_mean_squared_error: 34.5582 - val_mean_absolute_percentage_error: 4191683.5000\n",
      "Epoch 7/100\n",
      "778/778 [==============================] - 9s 12ms/step - loss: 855.5191 - mean_absolute_error: 21.3829 - root_mean_squared_error: 29.2493 - mean_absolute_percentage_error: 60741060.0000 - val_loss: 1180.0593 - val_mean_absolute_error: 23.6875 - val_root_mean_squared_error: 34.3520 - val_mean_absolute_percentage_error: 4084660.2500\n",
      "Epoch 8/100\n",
      "778/778 [==============================] - 9s 11ms/step - loss: 836.3882 - mean_absolute_error: 21.1452 - root_mean_squared_error: 28.9204 - mean_absolute_percentage_error: 60187496.0000 - val_loss: 1183.3312 - val_mean_absolute_error: 23.6833 - val_root_mean_squared_error: 34.3996 - val_mean_absolute_percentage_error: 4036443.0000\n",
      "Epoch 9/100\n",
      "778/778 [==============================] - 8s 10ms/step - loss: 821.2325 - mean_absolute_error: 20.9649 - root_mean_squared_error: 28.6572 - mean_absolute_percentage_error: 59912496.0000 - val_loss: 1174.4834 - val_mean_absolute_error: 23.5925 - val_root_mean_squared_error: 34.2707 - val_mean_absolute_percentage_error: 4022675.7500\n",
      "Epoch 10/100\n",
      "778/778 [==============================] - 12s 16ms/step - loss: 804.2036 - mean_absolute_error: 20.7514 - root_mean_squared_error: 28.3585 - mean_absolute_percentage_error: 59770156.0000 - val_loss: 1158.1678 - val_mean_absolute_error: 23.3695 - val_root_mean_squared_error: 34.0319 - val_mean_absolute_percentage_error: 4010052.2500\n",
      "Epoch 11/100\n",
      "778/778 [==============================] - 51s 66ms/step - loss: 791.8734 - mean_absolute_error: 20.5986 - root_mean_squared_error: 28.1403 - mean_absolute_percentage_error: 59784996.0000 - val_loss: 1140.5024 - val_mean_absolute_error: 23.0958 - val_root_mean_squared_error: 33.7713 - val_mean_absolute_percentage_error: 4026000.0000\n",
      "Epoch 12/100\n",
      "778/778 [==============================] - 43s 55ms/step - loss: 780.6132 - mean_absolute_error: 20.4445 - root_mean_squared_error: 27.9395 - mean_absolute_percentage_error: 59648444.0000 - val_loss: 1146.8026 - val_mean_absolute_error: 23.1425 - val_root_mean_squared_error: 33.8645 - val_mean_absolute_percentage_error: 4007623.5000\n",
      "Epoch 13/100\n",
      "778/778 [==============================] - 45s 58ms/step - loss: 767.9237 - mean_absolute_error: 20.2692 - root_mean_squared_error: 27.7114 - mean_absolute_percentage_error: 59803284.0000 - val_loss: 1122.9335 - val_mean_absolute_error: 22.8271 - val_root_mean_squared_error: 33.5102 - val_mean_absolute_percentage_error: 3982140.2500\n",
      "Epoch 14/100\n",
      "778/778 [==============================] - 47s 61ms/step - loss: 756.6304 - mean_absolute_error: 20.1032 - root_mean_squared_error: 27.5069 - mean_absolute_percentage_error: 59762404.0000 - val_loss: 1129.0870 - val_mean_absolute_error: 22.9183 - val_root_mean_squared_error: 33.6019 - val_mean_absolute_percentage_error: 4072133.5000\n",
      "Epoch 15/100\n",
      "778/778 [==============================] - 40s 52ms/step - loss: 747.9391 - mean_absolute_error: 19.9834 - root_mean_squared_error: 27.3485 - mean_absolute_percentage_error: 59877568.0000 - val_loss: 1113.9060 - val_mean_absolute_error: 22.7241 - val_root_mean_squared_error: 33.3752 - val_mean_absolute_percentage_error: 4021464.0000\n",
      "Epoch 16/100\n",
      "778/778 [==============================] - 42s 54ms/step - loss: 738.8699 - mean_absolute_error: 19.8712 - root_mean_squared_error: 27.1821 - mean_absolute_percentage_error: 59782524.0000 - val_loss: 1113.0331 - val_mean_absolute_error: 22.6612 - val_root_mean_squared_error: 33.3621 - val_mean_absolute_percentage_error: 4005006.0000\n",
      "Epoch 17/100\n",
      "778/778 [==============================] - 42s 55ms/step - loss: 733.1209 - mean_absolute_error: 19.7885 - root_mean_squared_error: 27.0762 - mean_absolute_percentage_error: 59556620.0000 - val_loss: 1090.2668 - val_mean_absolute_error: 22.5014 - val_root_mean_squared_error: 33.0192 - val_mean_absolute_percentage_error: 3985387.5000\n",
      "Epoch 18/100\n",
      "778/778 [==============================] - 39s 51ms/step - loss: 728.1719 - mean_absolute_error: 19.7206 - root_mean_squared_error: 26.9847 - mean_absolute_percentage_error: 59306272.0000 - val_loss: 1078.0996 - val_mean_absolute_error: 22.4445 - val_root_mean_squared_error: 32.8344 - val_mean_absolute_percentage_error: 4044124.5000\n",
      "Epoch 19/100\n",
      "778/778 [==============================] - 40s 52ms/step - loss: 720.7025 - mean_absolute_error: 19.6236 - root_mean_squared_error: 26.8459 - mean_absolute_percentage_error: 59381436.0000 - val_loss: 1086.2527 - val_mean_absolute_error: 22.5262 - val_root_mean_squared_error: 32.9583 - val_mean_absolute_percentage_error: 3891273.7500\n",
      "Epoch 20/100\n",
      "778/778 [==============================] - 39s 50ms/step - loss: 715.9607 - mean_absolute_error: 19.5520 - root_mean_squared_error: 26.7574 - mean_absolute_percentage_error: 59213920.0000 - val_loss: 1067.0828 - val_mean_absolute_error: 22.2366 - val_root_mean_squared_error: 32.6662 - val_mean_absolute_percentage_error: 3884645.2500\n",
      "Epoch 21/100\n",
      "778/778 [==============================] - 40s 52ms/step - loss: 712.3855 - mean_absolute_error: 19.5129 - root_mean_squared_error: 26.6906 - mean_absolute_percentage_error: 59077456.0000 - val_loss: 1070.4802 - val_mean_absolute_error: 22.2857 - val_root_mean_squared_error: 32.7182 - val_mean_absolute_percentage_error: 3853796.2500\n",
      "Epoch 22/100\n",
      "778/778 [==============================] - 41s 53ms/step - loss: 709.3079 - mean_absolute_error: 19.4736 - root_mean_squared_error: 26.6328 - mean_absolute_percentage_error: 58915876.0000 - val_loss: 1074.2209 - val_mean_absolute_error: 22.3668 - val_root_mean_squared_error: 32.7753 - val_mean_absolute_percentage_error: 3903663.5000\n",
      "Epoch 23/100\n",
      "778/778 [==============================] - 39s 51ms/step - loss: 706.9811 - mean_absolute_error: 19.4444 - root_mean_squared_error: 26.5891 - mean_absolute_percentage_error: 58809280.0000 - val_loss: 1058.0757 - val_mean_absolute_error: 22.1957 - val_root_mean_squared_error: 32.5281 - val_mean_absolute_percentage_error: 3790274.5000\n",
      "Epoch 24/100\n",
      "778/778 [==============================] - 39s 51ms/step - loss: 703.3528 - mean_absolute_error: 19.4138 - root_mean_squared_error: 26.5208 - mean_absolute_percentage_error: 58774816.0000 - val_loss: 1053.3549 - val_mean_absolute_error: 22.1054 - val_root_mean_squared_error: 32.4554 - val_mean_absolute_percentage_error: 3895557.5000\n",
      "Epoch 25/100\n",
      "778/778 [==============================] - 39s 51ms/step - loss: 698.9522 - mean_absolute_error: 19.3439 - root_mean_squared_error: 26.4377 - mean_absolute_percentage_error: 58714212.0000 - val_loss: 1051.6024 - val_mean_absolute_error: 22.1461 - val_root_mean_squared_error: 32.4284 - val_mean_absolute_percentage_error: 3805496.5000\n",
      "Epoch 26/100\n",
      "778/778 [==============================] - 41s 53ms/step - loss: 697.4742 - mean_absolute_error: 19.3337 - root_mean_squared_error: 26.4097 - mean_absolute_percentage_error: 58678512.0000 - val_loss: 1040.9327 - val_mean_absolute_error: 22.0375 - val_root_mean_squared_error: 32.2635 - val_mean_absolute_percentage_error: 3827311.5000\n",
      "Epoch 27/100\n",
      "778/778 [==============================] - 44s 56ms/step - loss: 695.4866 - mean_absolute_error: 19.3040 - root_mean_squared_error: 26.3721 - mean_absolute_percentage_error: 58757072.0000 - val_loss: 1046.4188 - val_mean_absolute_error: 22.0462 - val_root_mean_squared_error: 32.3484 - val_mean_absolute_percentage_error: 3750353.5000\n",
      "Epoch 28/100\n",
      "778/778 [==============================] - 40s 52ms/step - loss: 683.6628 - mean_absolute_error: 19.1672 - root_mean_squared_error: 26.1469 - mean_absolute_percentage_error: 58438360.0000 - val_loss: 1007.9150 - val_mean_absolute_error: 21.7255 - val_root_mean_squared_error: 31.7477 - val_mean_absolute_percentage_error: 3759324.0000\n",
      "Epoch 29/100\n",
      "778/778 [==============================] - 39s 50ms/step - loss: 674.7784 - mean_absolute_error: 19.0692 - root_mean_squared_error: 25.9765 - mean_absolute_percentage_error: 58538596.0000 - val_loss: 1031.3868 - val_mean_absolute_error: 21.9722 - val_root_mean_squared_error: 32.1152 - val_mean_absolute_percentage_error: 3768823.2500\n",
      "Epoch 30/100\n",
      "778/778 [==============================] - 40s 52ms/step - loss: 669.9050 - mean_absolute_error: 18.9884 - root_mean_squared_error: 25.8825 - mean_absolute_percentage_error: 58593504.0000 - val_loss: 1012.2916 - val_mean_absolute_error: 21.7588 - val_root_mean_squared_error: 31.8165 - val_mean_absolute_percentage_error: 3724001.0000\n",
      "Epoch 31/100\n",
      "778/778 [==============================] - 40s 51ms/step - loss: 663.7753 - mean_absolute_error: 18.9098 - root_mean_squared_error: 25.7638 - mean_absolute_percentage_error: 58190204.0000 - val_loss: 1016.7819 - val_mean_absolute_error: 21.7652 - val_root_mean_squared_error: 31.8870 - val_mean_absolute_percentage_error: 3842898.7500\n",
      "Epoch 32/100\n",
      "778/778 [==============================] - 39s 51ms/step - loss: 661.9086 - mean_absolute_error: 18.8990 - root_mean_squared_error: 25.7276 - mean_absolute_percentage_error: 58590076.0000 - val_loss: 996.5106 - val_mean_absolute_error: 21.6419 - val_root_mean_squared_error: 31.5676 - val_mean_absolute_percentage_error: 3684058.2500\n",
      "Epoch 33/100\n",
      "778/778 [==============================] - 41s 53ms/step - loss: 658.0472 - mean_absolute_error: 18.8457 - root_mean_squared_error: 25.6524 - mean_absolute_percentage_error: 58535196.0000 - val_loss: 990.4186 - val_mean_absolute_error: 21.5632 - val_root_mean_squared_error: 31.4709 - val_mean_absolute_percentage_error: 3787494.5000\n",
      "Epoch 34/100\n",
      "778/778 [==============================] - 41s 53ms/step - loss: 653.1296 - mean_absolute_error: 18.7749 - root_mean_squared_error: 25.5564 - mean_absolute_percentage_error: 58502472.0000 - val_loss: 1000.2590 - val_mean_absolute_error: 21.7243 - val_root_mean_squared_error: 31.6269 - val_mean_absolute_percentage_error: 3820457.5000\n",
      "Epoch 35/100\n",
      "778/778 [==============================] - 42s 54ms/step - loss: 649.6086 - mean_absolute_error: 18.7349 - root_mean_squared_error: 25.4874 - mean_absolute_percentage_error: 58542524.0000 - val_loss: 958.8313 - val_mean_absolute_error: 21.3793 - val_root_mean_squared_error: 30.9650 - val_mean_absolute_percentage_error: 3703669.2500\n",
      "Epoch 36/100\n",
      "778/778 [==============================] - 39s 50ms/step - loss: 643.8851 - mean_absolute_error: 18.6729 - root_mean_squared_error: 25.3749 - mean_absolute_percentage_error: 58411660.0000 - val_loss: 961.6685 - val_mean_absolute_error: 21.3652 - val_root_mean_squared_error: 31.0108 - val_mean_absolute_percentage_error: 3830751.7500\n",
      "Epoch 37/100\n",
      "778/778 [==============================] - 40s 51ms/step - loss: 636.5685 - mean_absolute_error: 18.5693 - root_mean_squared_error: 25.2303 - mean_absolute_percentage_error: 58464668.0000 - val_loss: 952.6421 - val_mean_absolute_error: 21.4380 - val_root_mean_squared_error: 30.8649 - val_mean_absolute_percentage_error: 3696505.0000\n",
      "Epoch 38/100\n",
      "778/778 [==============================] - 41s 53ms/step - loss: 627.5865 - mean_absolute_error: 18.4330 - root_mean_squared_error: 25.0517 - mean_absolute_percentage_error: 58526872.0000 - val_loss: 897.8767 - val_mean_absolute_error: 20.9156 - val_root_mean_squared_error: 29.9646 - val_mean_absolute_percentage_error: 3680688.7500\n",
      "Epoch 39/100\n",
      "778/778 [==============================] - 41s 52ms/step - loss: 617.1660 - mean_absolute_error: 18.2937 - root_mean_squared_error: 24.8428 - mean_absolute_percentage_error: 58397740.0000 - val_loss: 895.4506 - val_mean_absolute_error: 20.8487 - val_root_mean_squared_error: 29.9241 - val_mean_absolute_percentage_error: 3633479.0000\n",
      "Epoch 40/100\n",
      "778/778 [==============================] - 50s 64ms/step - loss: 608.8966 - mean_absolute_error: 18.1644 - root_mean_squared_error: 24.6758 - mean_absolute_percentage_error: 58026516.0000 - val_loss: 889.8488 - val_mean_absolute_error: 20.7684 - val_root_mean_squared_error: 29.8303 - val_mean_absolute_percentage_error: 3831895.5000\n",
      "Epoch 41/100\n",
      "778/778 [==============================] - 46s 59ms/step - loss: 602.3403 - mean_absolute_error: 18.0944 - root_mean_squared_error: 24.5426 - mean_absolute_percentage_error: 58566760.0000 - val_loss: 855.8335 - val_mean_absolute_error: 20.4885 - val_root_mean_squared_error: 29.2546 - val_mean_absolute_percentage_error: 3811088.0000\n",
      "Epoch 42/100\n",
      "778/778 [==============================] - 40s 52ms/step - loss: 592.6345 - mean_absolute_error: 17.9509 - root_mean_squared_error: 24.3441 - mean_absolute_percentage_error: 58733132.0000 - val_loss: 874.2774 - val_mean_absolute_error: 20.7150 - val_root_mean_squared_error: 29.5682 - val_mean_absolute_percentage_error: 3812101.2500\n",
      "Epoch 43/100\n",
      "778/778 [==============================] - 42s 53ms/step - loss: 591.2335 - mean_absolute_error: 17.9344 - root_mean_squared_error: 24.3153 - mean_absolute_percentage_error: 58419816.0000 - val_loss: 879.7601 - val_mean_absolute_error: 20.7483 - val_root_mean_squared_error: 29.6607 - val_mean_absolute_percentage_error: 3814261.2500\n",
      "Epoch 44/100\n",
      "778/778 [==============================] - 39s 50ms/step - loss: 585.4340 - mean_absolute_error: 17.8625 - root_mean_squared_error: 24.1957 - mean_absolute_percentage_error: 58643536.0000 - val_loss: 846.6649 - val_mean_absolute_error: 20.4485 - val_root_mean_squared_error: 29.0975 - val_mean_absolute_percentage_error: 3853226.2500\n",
      "Epoch 45/100\n",
      "778/778 [==============================] - 40s 51ms/step - loss: 578.9058 - mean_absolute_error: 17.7487 - root_mean_squared_error: 24.0605 - mean_absolute_percentage_error: 58504732.0000 - val_loss: 836.1498 - val_mean_absolute_error: 20.3591 - val_root_mean_squared_error: 28.9163 - val_mean_absolute_percentage_error: 3794902.5000bsolute_error: 17.758\n",
      "Epoch 46/100\n",
      "778/778 [==============================] - 41s 53ms/step - loss: 574.7941 - mean_absolute_error: 17.6974 - root_mean_squared_error: 23.9749 - mean_absolute_percentage_error: 58456788.0000 - val_loss: 820.3174 - val_mean_absolute_error: 20.2140 - val_root_mean_squared_error: 28.6412 - val_mean_absolute_percentage_error: 3831680.2500ss: 572.3106 - mean_absol\n",
      "Epoch 47/100\n"
     ]
    },
    {
     "name": "stdout",
     "output_type": "stream",
     "text": [
      "778/778 [==============================] - 40s 51ms/step - loss: 567.4253 - mean_absolute_error: 17.5836 - root_mean_squared_error: 23.8207 - mean_absolute_percentage_error: 58421144.0000 - val_loss: 804.9432 - val_mean_absolute_error: 20.0962 - val_root_mean_squared_error: 28.3715 - val_mean_absolute_percentage_error: 3733731.2500\n",
      "Epoch 48/100\n",
      "778/778 [==============================] - 42s 54ms/step - loss: 564.6152 - mean_absolute_error: 17.5462 - root_mean_squared_error: 23.7616 - mean_absolute_percentage_error: 58441848.0000 - val_loss: 796.4717 - val_mean_absolute_error: 19.9889 - val_root_mean_squared_error: 28.2218 - val_mean_absolute_percentage_error: 3812808.5000\n",
      "Epoch 49/100\n",
      "778/778 [==============================] - 39s 50ms/step - loss: 559.2304 - mean_absolute_error: 17.4812 - root_mean_squared_error: 23.6481 - mean_absolute_percentage_error: 58259936.0000 - val_loss: 791.4532 - val_mean_absolute_error: 19.9873 - val_root_mean_squared_error: 28.1328 - val_mean_absolute_percentage_error: 3819100.5000\n",
      "Epoch 50/100\n",
      "778/778 [==============================] - 39s 50ms/step - loss: 555.7509 - mean_absolute_error: 17.4280 - root_mean_squared_error: 23.5744 - mean_absolute_percentage_error: 58288996.0000 - val_loss: 792.0007 - val_mean_absolute_error: 19.9733 - val_root_mean_squared_error: 28.1425 - val_mean_absolute_percentage_error: 3817919.0000\n",
      "Epoch 51/100\n",
      "778/778 [==============================] - 39s 50ms/step - loss: 548.9363 - mean_absolute_error: 17.3238 - root_mean_squared_error: 23.4294 - mean_absolute_percentage_error: 58384272.0000 - val_loss: 797.5243 - val_mean_absolute_error: 20.0886 - val_root_mean_squared_error: 28.2405 - val_mean_absolute_percentage_error: 3855016.2500t_mean_squared_error: 23.4279 - mean_absolute - ETA: 0s - loss: 548.3703 - mean_absolute_error: 17.3132 - root_mean_squared_error: 23.4173 - mean_absolute_percentage_error: 58360316. - ETA: 0s - loss: 548.6746 - mean_absolute_error: 17.3209 - root_mean_squared_error: 23.4238 - mean_absolute_percentage_error: 57907324.\n",
      "Epoch 52/100\n",
      "778/778 [==============================] - 42s 54ms/step - loss: 544.4396 - mean_absolute_error: 17.2625 - root_mean_squared_error: 23.3332 - mean_absolute_percentage_error: 58203788.0000 - val_loss: 801.7382 - val_mean_absolute_error: 20.0629 - val_root_mean_squared_error: 28.3150 - val_mean_absolute_percentage_error: 3786345.5000\n",
      "Epoch 53/100\n",
      "778/778 [==============================] - 40s 52ms/step - loss: 540.9855 - mean_absolute_error: 17.2122 - root_mean_squared_error: 23.2591 - mean_absolute_percentage_error: 58369816.0000 - val_loss: 786.6483 - val_mean_absolute_error: 19.9727 - val_root_mean_squared_error: 28.0473 - val_mean_absolute_percentage_error: 3901009.5000\n",
      "Epoch 54/100\n",
      "778/778 [==============================] - 40s 51ms/step - loss: 534.6825 - mean_absolute_error: 17.1086 - root_mean_squared_error: 23.1232 - mean_absolute_percentage_error: 58306112.0000 - val_loss: 779.5656 - val_mean_absolute_error: 19.8390 - val_root_mean_squared_error: 27.9207 - val_mean_absolute_percentage_error: 3949197.5000\n",
      "Epoch 55/100\n",
      "778/778 [==============================] - 40s 51ms/step - loss: 534.1723 - mean_absolute_error: 17.1122 - root_mean_squared_error: 23.1122 - mean_absolute_percentage_error: 58167536.0000 - val_loss: 767.6634 - val_mean_absolute_error: 19.7250 - val_root_mean_squared_error: 27.7067 - val_mean_absolute_percentage_error: 3876203.2500\n",
      "Epoch 56/100\n",
      "778/778 [==============================] - 39s 51ms/step - loss: 527.6966 - mean_absolute_error: 17.0056 - root_mean_squared_error: 22.9717 - mean_absolute_percentage_error: 58118336.0000 - val_loss: 758.5461 - val_mean_absolute_error: 19.6873 - val_root_mean_squared_error: 27.5417 - val_mean_absolute_percentage_error: 3709265.5000\n",
      "Epoch 57/100\n",
      "778/778 [==============================] - 42s 54ms/step - loss: 520.2087 - mean_absolute_error: 16.8958 - root_mean_squared_error: 22.8081 - mean_absolute_percentage_error: 58068088.0000 - val_loss: 740.8167 - val_mean_absolute_error: 19.4799 - val_root_mean_squared_error: 27.2180 - val_mean_absolute_percentage_error: 3902820.2500\n",
      "Epoch 58/100\n",
      "778/778 [==============================] - 39s 50ms/step - loss: 516.2394 - mean_absolute_error: 16.8449 - root_mean_squared_error: 22.7209 - mean_absolute_percentage_error: 57986740.0000 - val_loss: 739.7817 - val_mean_absolute_error: 19.5227 - val_root_mean_squared_error: 27.1989 - val_mean_absolute_percentage_error: 3818896.7500\n",
      "Epoch 59/100\n",
      "778/778 [==============================] - 39s 50ms/step - loss: 512.3217 - mean_absolute_error: 16.7831 - root_mean_squared_error: 22.6345 - mean_absolute_percentage_error: 58088360.0000 - val_loss: 743.4169 - val_mean_absolute_error: 19.5821 - val_root_mean_squared_error: 27.2657 - val_mean_absolute_percentage_error: 3835121.5000\n",
      "Epoch 60/100\n",
      "778/778 [==============================] - 39s 50ms/step - loss: 504.1685 - mean_absolute_error: 16.6431 - root_mean_squared_error: 22.4537 - mean_absolute_percentage_error: 58168920.0000 - val_loss: 734.3691 - val_mean_absolute_error: 19.4897 - val_root_mean_squared_error: 27.0992 - val_mean_absolute_percentage_error: 3813318.2500\n",
      "Epoch 61/100\n",
      "778/778 [==============================] - 42s 54ms/step - loss: 500.3820 - mean_absolute_error: 16.6007 - root_mean_squared_error: 22.3692 - mean_absolute_percentage_error: 57768744.0000 - val_loss: 724.8293 - val_mean_absolute_error: 19.4306 - val_root_mean_squared_error: 26.9226 - val_mean_absolute_percentage_error: 3826794.7500\n",
      "Epoch 62/100\n",
      "778/778 [==============================] - 39s 50ms/step - loss: 496.2616 - mean_absolute_error: 16.5394 - root_mean_squared_error: 22.2769 - mean_absolute_percentage_error: 58095420.0000 - val_loss: 738.6975 - val_mean_absolute_error: 19.5207 - val_root_mean_squared_error: 27.1790 - val_mean_absolute_percentage_error: 3849540.7500\n",
      "Epoch 63/100\n",
      "778/778 [==============================] - 39s 50ms/step - loss: 489.7565 - mean_absolute_error: 16.4423 - root_mean_squared_error: 22.1304 - mean_absolute_percentage_error: 57706784.0000 - val_loss: 720.8797 - val_mean_absolute_error: 19.3042 - val_root_mean_squared_error: 26.8492 - val_mean_absolute_percentage_error: 3868361.5000\n",
      "Epoch 64/100\n",
      "778/778 [==============================] - 39s 50ms/step - loss: 486.6169 - mean_absolute_error: 16.3835 - root_mean_squared_error: 22.0594 - mean_absolute_percentage_error: 57999480.0000 - val_loss: 735.2166 - val_mean_absolute_error: 19.6365 - val_root_mean_squared_error: 27.1149 - val_mean_absolute_percentage_error: 3933356.0000loss: 485.4084 - m\n",
      "Epoch 65/100\n",
      "778/778 [==============================] - 40s 51ms/step - loss: 482.7264 - mean_absolute_error: 16.3163 - root_mean_squared_error: 21.9710 - mean_absolute_percentage_error: 57647188.0000 - val_loss: 726.7198 - val_mean_absolute_error: 19.4649 - val_root_mean_squared_error: 26.9577 - val_mean_absolute_percentage_error: 3810435.5000\n",
      "Epoch 66/100\n",
      "778/778 [==============================] - 40s 51ms/step - loss: 478.0858 - mean_absolute_error: 16.2477 - root_mean_squared_error: 21.8652 - mean_absolute_percentage_error: 57765144.0000 - val_loss: 697.5872 - val_mean_absolute_error: 19.0722 - val_root_mean_squared_error: 26.4119 - val_mean_absolute_percentage_error: 3902085.5000\n",
      "Epoch 67/100\n",
      "778/778 [==============================] - 39s 51ms/step - loss: 474.3637 - mean_absolute_error: 16.1846 - root_mean_squared_error: 21.7799 - mean_absolute_percentage_error: 57993144.0000 - val_loss: 712.9998 - val_mean_absolute_error: 19.3286 - val_root_mean_squared_error: 26.7021 - val_mean_absolute_percentage_error: 3912251.7500\n",
      "Epoch 68/100\n",
      "778/778 [==============================] - 40s 51ms/step - loss: 470.9289 - mean_absolute_error: 16.1464 - root_mean_squared_error: 21.7009 - mean_absolute_percentage_error: 57699480.0000 - val_loss: 707.8135 - val_mean_absolute_error: 19.2478 - val_root_mean_squared_error: 26.6048 - val_mean_absolute_percentage_error: 3896047.0000\n",
      "Epoch 69/100\n",
      "778/778 [==============================] - 41s 53ms/step - loss: 465.9402 - mean_absolute_error: 16.0570 - root_mean_squared_error: 21.5856 - mean_absolute_percentage_error: 57736176.0000 - val_loss: 691.5527 - val_mean_absolute_error: 19.0552 - val_root_mean_squared_error: 26.2974 - val_mean_absolute_percentage_error: 3925099.7500\n",
      "Epoch 70/100\n",
      "778/778 [==============================] - 40s 51ms/step - loss: 463.6533 - mean_absolute_error: 16.0101 - root_mean_squared_error: 21.5326 - mean_absolute_percentage_error: 57707784.0000 - val_loss: 718.9063 - val_mean_absolute_error: 19.3360 - val_root_mean_squared_error: 26.8124 - val_mean_absolute_percentage_error: 3914953.2500\n",
      "Epoch 71/100\n",
      "778/778 [==============================] - 42s 53ms/step - loss: 460.6074 - mean_absolute_error: 15.9720 - root_mean_squared_error: 21.4618 - mean_absolute_percentage_error: 57674000.0000 - val_loss: 706.6421 - val_mean_absolute_error: 19.2037 - val_root_mean_squared_error: 26.5827 - val_mean_absolute_percentage_error: 3973733.5000or:\n",
      "Epoch 72/100\n",
      "778/778 [==============================] - 39s 50ms/step - loss: 457.5069 - mean_absolute_error: 15.9354 - root_mean_squared_error: 21.3894 - mean_absolute_percentage_error: 57800880.0000 - val_loss: 699.6238 - val_mean_absolute_error: 19.2763 - val_root_mean_squared_error: 26.4504 - val_mean_absolute_percentage_error: 4074357.0000\n",
      "Epoch 73/100\n",
      "778/778 [==============================] - 39s 50ms/step - loss: 452.4641 - mean_absolute_error: 15.8427 - root_mean_squared_error: 21.2712 - mean_absolute_percentage_error: 57381932.0000 - val_loss: 702.1738 - val_mean_absolute_error: 19.2418 - val_root_mean_squared_error: 26.4986 - val_mean_absolute_percentage_error: 3989272.5000\n",
      "Epoch 74/100\n",
      "778/778 [==============================] - 41s 52ms/step - loss: 449.0700 - mean_absolute_error: 15.7880 - root_mean_squared_error: 21.1913 - mean_absolute_percentage_error: 57449652.0000 - val_loss: 681.3716 - val_mean_absolute_error: 18.9871 - val_root_mean_squared_error: 26.1031 - val_mean_absolute_percentage_error: 4114128.0000\n",
      "Epoch 75/100\n",
      "778/778 [==============================] - 41s 52ms/step - loss: 446.0840 - mean_absolute_error: 15.7317 - root_mean_squared_error: 21.1207 - mean_absolute_percentage_error: 57639600.0000 - val_loss: 698.8101 - val_mean_absolute_error: 19.2229 - val_root_mean_squared_error: 26.4350 - val_mean_absolute_percentage_error: 3881798.0000\n",
      "Epoch 76/100\n",
      "778/778 [==============================] - 39s 50ms/step - loss: 442.5125 - mean_absolute_error: 15.6913 - root_mean_squared_error: 21.0360 - mean_absolute_percentage_error: 57086396.0000 - val_loss: 701.8401 - val_mean_absolute_error: 19.2604 - val_root_mean_squared_error: 26.4923 - val_mean_absolute_percentage_error: 3848329.0000\n",
      "Epoch 77/100\n",
      "778/778 [==============================] - 39s 50ms/step - loss: 440.2792 - mean_absolute_error: 15.6349 - root_mean_squared_error: 20.9828 - mean_absolute_percentage_error: 57160240.0000 - val_loss: 697.4222 - val_mean_absolute_error: 19.1908 - val_root_mean_squared_error: 26.4087 - val_mean_absolute_percentage_error: 4004790.0000\n",
      "Epoch 78/100\n",
      "778/778 [==============================] - 42s 54ms/step - loss: 435.2729 - mean_absolute_error: 15.5590 - root_mean_squared_error: 20.8632 - mean_absolute_percentage_error: 57265656.0000 - val_loss: 685.6882 - val_mean_absolute_error: 19.0512 - val_root_mean_squared_error: 26.1857 - val_mean_absolute_percentage_error: 3959075.5000te_error: 15.5014\n",
      "Epoch 79/100\n",
      "778/778 [==============================] - 41s 53ms/step - loss: 431.5344 - mean_absolute_error: 15.5011 - root_mean_squared_error: 20.7734 - mean_absolute_percentage_error: 57543724.0000 - val_loss: 684.5919 - val_mean_absolute_error: 19.0599 - val_root_mean_squared_error: 26.1647 - val_mean_absolute_percentage_error: 3939764.5000\n",
      "Epoch 80/100\n",
      "778/778 [==============================] - 39s 50ms/step - loss: 431.5502 - mean_absolute_error: 15.5071 - root_mean_squared_error: 20.7738 - mean_absolute_percentage_error: 56603164.0000 - val_loss: 706.5599 - val_mean_absolute_error: 19.3317 - val_root_mean_squared_error: 26.5812 - val_mean_absolute_percentage_error: 3887531.5000\n",
      "Epoch 81/100\n",
      "778/778 [==============================] - 39s 51ms/step - loss: 427.3529 - mean_absolute_error: 15.4421 - root_mean_squared_error: 20.6725 - mean_absolute_percentage_error: 56797692.0000 - val_loss: 710.4592 - val_mean_absolute_error: 19.4052 - val_root_mean_squared_error: 26.6544 - val_mean_absolute_percentage_error: 4025204.0000\n",
      "Epoch 82/100\n",
      "778/778 [==============================] - 39s 50ms/step - loss: 424.8574 - mean_absolute_error: 15.3944 - root_mean_squared_error: 20.6121 - mean_absolute_percentage_error: 56352856.0000 - val_loss: 692.3715 - val_mean_absolute_error: 19.3166 - val_root_mean_squared_error: 26.3129 - val_mean_absolute_percentage_error: 3937866.2500- ETA: 4s - loss: 425.5680 - mean_absolute_error: 15.3974 - root_mean_squared_erro\n",
      "Epoch 83/100\n",
      "778/778 [==============================] - 39s 50ms/step - loss: 420.8588 - mean_absolute_error: 15.3209 - root_mean_squared_error: 20.5148 - mean_absolute_percentage_error: 55749912.0000 - val_loss: 682.1720 - val_mean_absolute_error: 19.1132 - val_root_mean_squared_error: 26.1184 - val_mean_absolute_percentage_error: 3915338.5000\n",
      "Epoch 84/100\n",
      "778/778 [==============================] - 40s 51ms/step - loss: 417.3408 - mean_absolute_error: 15.2684 - root_mean_squared_error: 20.4289 - mean_absolute_percentage_error: 56015864.0000 - val_loss: 694.6653 - val_mean_absolute_error: 19.2461 - val_root_mean_squared_error: 26.3565 - val_mean_absolute_percentage_error: 3813164.2500\n",
      "Epoch 85/100\n",
      "778/778 [==============================] - 42s 54ms/step - loss: 416.3358 - mean_absolute_error: 15.2444 - root_mean_squared_error: 20.4043 - mean_absolute_percentage_error: 55335856.0000 - val_loss: 686.1148 - val_mean_absolute_error: 19.1237 - val_root_mean_squared_error: 26.1938 - val_mean_absolute_percentage_error: 4041736.0000\n",
      "Epoch 86/100\n",
      "778/778 [==============================] - 40s 51ms/step - loss: 411.6653 - mean_absolute_error: 15.1583 - root_mean_squared_error: 20.2895 - mean_absolute_percentage_error: 54917224.0000 - val_loss: 684.1024 - val_mean_absolute_error: 19.1534 - val_root_mean_squared_error: 26.1553 - val_mean_absolute_percentage_error: 4063285.0000\n",
      "Epoch 87/100\n",
      "778/778 [==============================] - 41s 52ms/step - loss: 410.3416 - mean_absolute_error: 15.1456 - root_mean_squared_error: 20.2569 - mean_absolute_percentage_error: 55014052.0000 - val_loss: 687.5806 - val_mean_absolute_error: 19.2047 - val_root_mean_squared_error: 26.2218 - val_mean_absolute_percentage_error: 3983183.5000\n",
      "Epoch 88/100\n",
      "778/778 [==============================] - 39s 50ms/step - loss: 407.3282 - mean_absolute_error: 15.0992 - root_mean_squared_error: 20.1824 - mean_absolute_percentage_error: 54819752.0000 - val_loss: 680.5302 - val_mean_absolute_error: 19.0551 - val_root_mean_squared_error: 26.0870 - val_mean_absolute_percentage_error: 4148928.2500\n",
      "Epoch 89/100\n",
      "778/778 [==============================] - 40s 51ms/step - loss: 403.3848 - mean_absolute_error: 15.0241 - root_mean_squared_error: 20.0844 - mean_absolute_percentage_error: 54307428.0000 - val_loss: 682.6738 - val_mean_absolute_error: 19.0488 - val_root_mean_squared_error: 26.1280 - val_mean_absolute_percentage_error: 4188938.2500.0302 - root_mean_squared_error: 20.0972 - mean_absolute_percentage_error: 5\n",
      "Epoch 90/100\n",
      "778/778 [==============================] - 41s 53ms/step - loss: 400.7959 - mean_absolute_error: 14.9870 - root_mean_squared_error: 20.0199 - mean_absolute_percentage_error: 53952680.0000 - val_loss: 679.5327 - val_mean_absolute_error: 19.0503 - val_root_mean_squared_error: 26.0678 - val_mean_absolute_percentage_error: 3946561.7500\n",
      "Epoch 91/100\n"
     ]
    },
    {
     "name": "stdout",
     "output_type": "stream",
     "text": [
      "778/778 [==============================] - 40s 52ms/step - loss: 399.3508 - mean_absolute_error: 14.9623 - root_mean_squared_error: 19.9838 - mean_absolute_percentage_error: 54082432.0000 - val_loss: 677.0504 - val_mean_absolute_error: 18.9842 - val_root_mean_squared_error: 26.0202 - val_mean_absolute_percentage_error: 3998672.2500ean_squared_error: 19.9669 - mean_absolute_percentage_err\n",
      "Epoch 92/100\n",
      "778/778 [==============================] - 39s 50ms/step - loss: 395.0486 - mean_absolute_error: 14.8856 - root_mean_squared_error: 19.8758 - mean_absolute_percentage_error: 53624188.0000 - val_loss: 683.6328 - val_mean_absolute_error: 19.0920 - val_root_mean_squared_error: 26.1464 - val_mean_absolute_percentage_error: 4136705.0000\n",
      "Epoch 93/100\n",
      "778/778 [==============================] - 39s 51ms/step - loss: 393.5710 - mean_absolute_error: 14.8569 - root_mean_squared_error: 19.8386 - mean_absolute_percentage_error: 53146468.0000 - val_loss: 693.3772 - val_mean_absolute_error: 19.2457 - val_root_mean_squared_error: 26.3321 - val_mean_absolute_percentage_error: 4321642.5000\n",
      "Epoch 94/100\n",
      "778/778 [==============================] - 39s 51ms/step - loss: 390.4680 - mean_absolute_error: 14.7980 - root_mean_squared_error: 19.7603 - mean_absolute_percentage_error: 53033824.0000 - val_loss: 680.6309 - val_mean_absolute_error: 19.1000 - val_root_mean_squared_error: 26.0889 - val_mean_absolute_percentage_error: 4093142.0000an_squared_er\n",
      "Epoch 95/100\n",
      "778/778 [==============================] - 42s 54ms/step - loss: 385.7646 - mean_absolute_error: 14.7288 - root_mean_squared_error: 19.6409 - mean_absolute_percentage_error: 52451144.0000 - val_loss: 687.0825 - val_mean_absolute_error: 19.1775 - val_root_mean_squared_error: 26.2123 - val_mean_absolute_percentage_error: 4154215.7500\n",
      "Epoch 96/100\n",
      "778/778 [==============================] - 42s 54ms/step - loss: 383.8038 - mean_absolute_error: 14.6928 - root_mean_squared_error: 19.5909 - mean_absolute_percentage_error: 51816612.0000 - val_loss: 706.3724 - val_mean_absolute_error: 19.5227 - val_root_mean_squared_error: 26.5777 - val_mean_absolute_percentage_error: 4047436.2500s: 380.3427 - mean_absolute_error: 14.6382 - root_mean_squared_error: 19.5024 - mean_absolute_percentage_ - ETA: 15s - loss: 380.5511 - mean_abso - ETA: 2s - loss: 383.0427 - mean_absolute_error: 14.6766 - root_mean_squared_error: 19.5715 - mean_absol\n",
      "Epoch 97/100\n",
      "778/778 [==============================] - 40s 51ms/step - loss: 380.5174 - mean_absolute_error: 14.6252 - root_mean_squared_error: 19.5069 - mean_absolute_percentage_error: 51968860.0000 - val_loss: 690.8723 - val_mean_absolute_error: 19.2475 - val_root_mean_squared_error: 26.2845 - val_mean_absolute_percentage_error: 4327616.5000\n",
      "Epoch 98/100\n",
      "778/778 [==============================] - 40s 52ms/step - loss: 378.4849 - mean_absolute_error: 14.5912 - root_mean_squared_error: 19.4547 - mean_absolute_percentage_error: 51983632.0000 - val_loss: 695.4012 - val_mean_absolute_error: 19.2792 - val_root_mean_squared_error: 26.3705 - val_mean_absolute_percentage_error: 3970175.7500\n",
      "Epoch 99/100\n",
      "778/778 [==============================] - 39s 50ms/step - loss: 376.3102 - mean_absolute_error: 14.5544 - root_mean_squared_error: 19.3987 - mean_absolute_percentage_error: 51283256.0000 - val_loss: 688.9637 - val_mean_absolute_error: 19.2153 - val_root_mean_squared_error: 26.2481 - val_mean_absolute_percentage_error: 4118737.7500\n",
      "Epoch 100/100\n",
      "778/778 [==============================] - 40s 51ms/step - loss: 373.0918 - mean_absolute_error: 14.4877 - root_mean_squared_error: 19.3156 - mean_absolute_percentage_error: 49977672.0000 - val_loss: 694.1099 - val_mean_absolute_error: 19.2693 - val_root_mean_squared_error: 26.3460 - val_mean_absolute_percentage_error: 4189056.0000\n"
     ]
    },
    {
     "data": {
      "text/plain": [
       "<keras.callbacks.History at 0x2911bd23dc0>"
      ]
     },
     "execution_count": 62,
     "metadata": {},
     "output_type": "execute_result"
    }
   ],
   "source": [
    "model5.fit((Wt5,Xt5), yt5, validation_split = val_percent,\n",
    "           epochs = 100, \n",
    "           verbose = 1)"
   ]
  },
  {
   "cell_type": "code",
   "execution_count": 63,
   "metadata": {},
   "outputs": [],
   "source": [
    "metrics5 = pd.DataFrame(model5.history.history)"
   ]
  },
  {
   "cell_type": "code",
   "execution_count": 64,
   "metadata": {},
   "outputs": [],
   "source": [
    "# fig = plt.figure(figsize=(6,4))\n",
    "\n",
    "# # Add set of axes to figure\n",
    "# axes = fig.add_axes([0, 0, 1, 1]) \n",
    "# axes2 = fig.add_axes([0.3, 0.35, 0.5, 0.5]) # Smaller figure\n",
    "# axes.plot(metrics5[['loss','val_loss']], label=['train_loss','val_loss'], lw=4)\n",
    "# axes.set_ylim(0,4000)\n",
    "\n",
    "# axes2.plot(metrics5[['loss','val_loss']], lw=4)\n",
    "# axes2.set_xlim(0,20)\n",
    "# axes2.set_ylim(400,1500)\n",
    "# #plt.xticks(visible=False)\n",
    "# plt.yticks(visible=False)\n",
    "\n",
    "# axes.set_xlabel('Epoch')\n",
    "# axes.set_ylabel('Loss')\n",
    "# axes.grid()\n",
    "# axes2.grid()\n",
    "\n",
    "# mark_inset(axes, axes2, loc1=2, loc2=4, fc=\"0.9\", ec=\"0.1\", ls='--')\n",
    "# axes.yaxis.set_major_formatter(formatter)"
   ]
  },
  {
   "cell_type": "code",
   "execution_count": 65,
   "metadata": {},
   "outputs": [
    {
     "name": "stderr",
     "output_type": "stream",
     "text": [
      "WARNING:absl:Function `_wrapped_model` contains input name(s) WideInput, DeepInput with unsupported characters which will be renamed to wideinput, deepinput in the SavedModel.\n",
      "WARNING:absl:Found untraced functions such as lstm_cell_11_layer_call_and_return_conditional_losses, lstm_cell_11_layer_call_fn, lstm_cell_9_layer_call_and_return_conditional_losses, lstm_cell_9_layer_call_fn, lstm_cell_10_layer_call_and_return_conditional_losses while saving (showing 5 of 15). These functions will not be directly callable after loading.\n"
     ]
    },
    {
     "name": "stdout",
     "output_type": "stream",
     "text": [
      "INFO:tensorflow:Assets written to: my_dir/10a-5\\assets\n"
     ]
    },
    {
     "name": "stderr",
     "output_type": "stream",
     "text": [
      "INFO:tensorflow:Assets written to: my_dir/10a-5\\assets\n"
     ]
    }
   ],
   "source": [
    "model5.save(\"my_dir/10a-5\")"
   ]
  },
  {
   "cell_type": "code",
   "execution_count": 66,
   "metadata": {},
   "outputs": [],
   "source": [
    "model5 = keras.models.load_model(\"my_dir/10a-5\") "
   ]
  },
  {
   "cell_type": "code",
   "execution_count": 67,
   "metadata": {},
   "outputs": [
    {
     "data": {
      "text/plain": [
       "array([[ 59.02682 ,  59.79645 ,  65.27474 , ...,  64.279495,  40.046974,\n",
       "         40.953808],\n",
       "       [ 56.99516 ,  57.859547,  63.15796 , ...,  62.31836 ,  39.07563 ,\n",
       "         39.77834 ],\n",
       "       [ 55.477062,  56.19042 ,  61.280403, ...,  60.23426 ,  38.166008,\n",
       "         39.09357 ],\n",
       "       ...,\n",
       "       [129.25044 , 128.06305 , 144.4904  , ..., 140.35992 ,  93.890236,\n",
       "         87.092094],\n",
       "       [123.62173 , 120.77094 , 138.22844 , ..., 132.51044 ,  86.26104 ,\n",
       "         78.78473 ],\n",
       "       [116.00847 , 114.18362 , 130.83052 , ..., 127.21562 ,  84.34516 ,\n",
       "         81.040596]], dtype=float32)"
      ]
     },
     "execution_count": 67,
     "metadata": {},
     "output_type": "execute_result"
    }
   ],
   "source": [
    "model5.predict((Wv5,Xv5))"
   ]
  },
  {
   "cell_type": "markdown",
   "metadata": {},
   "source": [
    "# 15 mins ahead"
   ]
  },
  {
   "cell_type": "code",
   "execution_count": 70,
   "metadata": {},
   "outputs": [],
   "source": [
    "def build_model_15(hp):\n",
    "    # Inputs\n",
    "    channel_Wide = keras.layers.Input(shape=Wt15.shape[1:], name=\"WideInput\")\n",
    "    channel_Deep = keras.layers.Input(shape=Xt15.shape[1:], name=\"DeepInput\")\n",
    "    units = hp.Int(\"units\", min_value=1, max_value=100, step=1)\n",
    "    \n",
    "    \n",
    "    # Wide Model\n",
    "    flatten_15w = keras.layers.TimeDistributed(keras.layers.Flatten())(channel_Wide)\n",
    "    Bi_15 = keras.layers.Bidirectional(\n",
    "        keras.layers.LSTM(units=units, return_sequences=True),\n",
    "        merge_mode=\"ave\"\n",
    "    )(flatten_15w)\n",
    "    \n",
    "    \n",
    "    \n",
    "    # Deep Model\n",
    "    # CNN \n",
    "    CNN_15 = keras.layers.TimeDistributed(\n",
    "        keras.layers.Conv2D(filters=hp.Int(\"filters\", min_value=32, max_value=512, step=32),\n",
    "                            kernel_size=hp.Choice(\"kernel_size\", [2, 3]), activation='relu'))(channel_Deep)\n",
    "    flatten_15 = keras.layers.TimeDistributed(keras.layers.Flatten())(CNN_15)\n",
    "    # LSTM          \n",
    "    LSTM_15 = keras.layers.LSTM(units=units, return_sequences=True)(flatten_15)\n",
    "\n",
    "    \n",
    "    # Concatenation \n",
    "    concat = keras.layers.concatenate([Bi_15, LSTM_15], axis=1)\n",
    "\n",
    "    # Attention\n",
    "    Att_15 = SeqSelfAttention(attention_activation='sigmoid')(concat)\n",
    "    merge = keras.layers.Flatten()(concat)\n",
    "\n",
    "    \n",
    "    # Output\n",
    "    output = keras.layers.Dense(n_features, name= \"output\")(merge)\n",
    "    \n",
    "    # Model\n",
    "    model_15 = keras.Model(inputs=[channel_Wide,channel_Deep], outputs=[output])\n",
    "\n",
    "    # Compile\n",
    "    model_15.compile(optimizer=keras.optimizers.Adam(hp.Choice(\"learning_rate\", [1e-2, 1e-3, 1e-4])), \n",
    "        loss=\"mse\", metrics=['MeanAbsoluteError','RootMeanSquaredError','MeanAbsolutePercentageError'])\n",
    "                    \n",
    "    return model_15"
   ]
  },
  {
   "cell_type": "code",
   "execution_count": 71,
   "metadata": {},
   "outputs": [],
   "source": [
    "tuner15 = RandomSearch(\n",
    "    build_model_15,\n",
    "    objective=\"val_loss\",\n",
    "    max_trials=10,\n",
    "    executions_per_trial=2,\n",
    "    overwrite=False,\n",
    "    directory=os.path.normpath('C:/Runs'),\n",
    "    project_name=\"10a-15\",\n",
    ")"
   ]
  },
  {
   "cell_type": "code",
   "execution_count": 72,
   "metadata": {},
   "outputs": [
    {
     "name": "stdout",
     "output_type": "stream",
     "text": [
      "Search space summary\n",
      "Default search space size: 4\n",
      "units (Int)\n",
      "{'default': None, 'conditions': [], 'min_value': 1, 'max_value': 100, 'step': 1, 'sampling': 'linear'}\n",
      "filters (Int)\n",
      "{'default': None, 'conditions': [], 'min_value': 32, 'max_value': 512, 'step': 32, 'sampling': 'linear'}\n",
      "kernel_size (Choice)\n",
      "{'default': 2, 'conditions': [], 'values': [2, 3], 'ordered': True}\n",
      "learning_rate (Choice)\n",
      "{'default': 0.01, 'conditions': [], 'values': [0.01, 0.001, 0.0001], 'ordered': True}\n"
     ]
    }
   ],
   "source": [
    "tuner15.search_space_summary()"
   ]
  },
  {
   "cell_type": "code",
   "execution_count": 73,
   "metadata": {},
   "outputs": [
    {
     "name": "stdout",
     "output_type": "stream",
     "text": [
      "Trial 10 Complete [00h 49m 26s]\n",
      "val_loss: 855.87451171875\n",
      "\n",
      "Best val_loss So Far: 747.3331909179688\n",
      "Total elapsed time: 10h 02m 14s\n",
      "INFO:tensorflow:Oracle triggered exit\n"
     ]
    },
    {
     "name": "stderr",
     "output_type": "stream",
     "text": [
      "INFO:tensorflow:Oracle triggered exit\n"
     ]
    }
   ],
   "source": [
    "tuner15.search((Wt15,Xt15), yt15, epochs=200,\n",
    "            validation_split = val_percent,\n",
    "            callbacks=[early_stop], \n",
    "            verbose=2)"
   ]
  },
  {
   "cell_type": "code",
   "execution_count": 74,
   "metadata": {},
   "outputs": [
    {
     "name": "stdout",
     "output_type": "stream",
     "text": [
      "Results summary\n",
      "Results in C:\\Runs\\10a-15\n",
      "Showing 1 best trials\n",
      "Objective(name=\"val_loss\", direction=\"min\")\n",
      "\n",
      "Trial 06 summary\n",
      "Hyperparameters:\n",
      "units: 73\n",
      "filters: 32\n",
      "kernel_size: 3\n",
      "learning_rate: 0.001\n",
      "Score: 747.3331909179688\n"
     ]
    }
   ],
   "source": [
    "tuner15.results_summary(1)"
   ]
  },
  {
   "cell_type": "markdown",
   "metadata": {},
   "source": [
    "### Best model"
   ]
  },
  {
   "cell_type": "code",
   "execution_count": 75,
   "metadata": {},
   "outputs": [],
   "source": [
    "best_hp15 = tuner15.get_best_hyperparameters()[0]\n",
    "model15 = tuner15.hypermodel.build(best_hp15)"
   ]
  },
  {
   "cell_type": "code",
   "execution_count": 76,
   "metadata": {},
   "outputs": [
    {
     "data": {
      "text/plain": [
       "['Best_HP/10a-15']"
      ]
     },
     "execution_count": 76,
     "metadata": {},
     "output_type": "execute_result"
    }
   ],
   "source": [
    "scaler_filename = \"Best_HP/10a-15\"\n",
    "joblib.dump(best_hp15, scaler_filename) "
   ]
  },
  {
   "cell_type": "code",
   "execution_count": 77,
   "metadata": {},
   "outputs": [],
   "source": [
    "scaler_filename = \"Best_HP/10a-15\"\n",
    "best_hp15 = joblib.load(scaler_filename) \n",
    "\n",
    "model15 = tuner15.hypermodel.build(best_hp15)"
   ]
  },
  {
   "cell_type": "code",
   "execution_count": 78,
   "metadata": {},
   "outputs": [
    {
     "name": "stdout",
     "output_type": "stream",
     "text": [
      "Model: \"model_2\"\n",
      "__________________________________________________________________________________________________\n",
      "Layer (type)                    Output Shape         Param #     Connected to                     \n",
      "==================================================================================================\n",
      "DeepInput (InputLayer)          [(None, 3, 5, 15, 7) 0                                            \n",
      "__________________________________________________________________________________________________\n",
      "WideInput (InputLayer)          [(None, 3, 3, 7)]    0                                            \n",
      "__________________________________________________________________________________________________\n",
      "time_distributed_7 (TimeDistrib (None, 3, 3, 13, 32) 2048        DeepInput[0][0]                  \n",
      "__________________________________________________________________________________________________\n",
      "time_distributed_6 (TimeDistrib (None, 3, 21)        0           WideInput[0][0]                  \n",
      "__________________________________________________________________________________________________\n",
      "time_distributed_8 (TimeDistrib (None, 3, 1248)      0           time_distributed_7[0][0]         \n",
      "__________________________________________________________________________________________________\n",
      "bidirectional_2 (Bidirectional) (None, 3, 73)        55480       time_distributed_6[0][0]         \n",
      "__________________________________________________________________________________________________\n",
      "lstm_5 (LSTM)                   (None, 3, 73)        386024      time_distributed_8[0][0]         \n",
      "__________________________________________________________________________________________________\n",
      "concatenate_2 (Concatenate)     (None, 6, 73)        0           bidirectional_2[0][0]            \n",
      "                                                                 lstm_5[0][0]                     \n",
      "__________________________________________________________________________________________________\n",
      "flatten_8 (Flatten)             (None, 438)          0           concatenate_2[0][0]              \n",
      "__________________________________________________________________________________________________\n",
      "output (Dense)                  (None, 7)            3073        flatten_8[0][0]                  \n",
      "==================================================================================================\n",
      "Total params: 446,625\n",
      "Trainable params: 446,625\n",
      "Non-trainable params: 0\n",
      "__________________________________________________________________________________________________\n"
     ]
    }
   ],
   "source": [
    "model15.summary()"
   ]
  },
  {
   "cell_type": "code",
   "execution_count": 79,
   "metadata": {},
   "outputs": [
    {
     "name": "stdout",
     "output_type": "stream",
     "text": [
      "Epoch 1/100\n",
      "778/778 [==============================] - 37s 36ms/step - loss: 22638.8047 - mean_absolute_error: 113.5351 - root_mean_squared_error: 150.4619 - mean_absolute_percentage_error: 57702084.0000 - val_loss: 5595.3398 - val_mean_absolute_error: 53.3831 - val_root_mean_squared_error: 74.8020 - val_mean_absolute_percentage_error: 4627006.0000n_absolute_error: 147.5866 - root_mean_squared_error: 18 - ETA: 7s - loss: 29394.0977 - mean_a\n",
      "Epoch 2/100\n",
      "778/778 [==============================] - 28s 36ms/step - loss: 2882.4387 - mean_absolute_error: 36.6689 - root_mean_squared_error: 53.6883 - mean_absolute_percentage_error: 59866736.0000 - val_loss: 1790.3788 - val_mean_absolute_error: 29.5845 - val_root_mean_squared_error: 42.3129 - val_mean_absolute_percentage_error: 4318664.0000\n",
      "Epoch 3/100\n",
      "778/778 [==============================] - 25s 32ms/step - loss: 1249.5582 - mean_absolute_error: 25.2649 - root_mean_squared_error: 35.3491 - mean_absolute_percentage_error: 59796068.0000 - val_loss: 1304.8707 - val_mean_absolute_error: 25.2482 - val_root_mean_squared_error: 36.1230 - val_mean_absolute_percentage_error: 4292863.0000_squared_error: 35.4397 - mean_absolute_per\n",
      "Epoch 4/100\n",
      "778/778 [==============================] - 25s 32ms/step - loss: 975.7885 - mean_absolute_error: 22.7071 - root_mean_squared_error: 31.2376 - mean_absolute_percentage_error: 60615148.0000 - val_loss: 1222.0681 - val_mean_absolute_error: 24.3034 - val_root_mean_squared_error: 34.9581 - val_mean_absolute_percentage_error: 4370921.0000\n",
      "Epoch 5/100\n",
      "778/778 [==============================] - 25s 32ms/step - loss: 904.1466 - mean_absolute_error: 21.9438 - root_mean_squared_error: 30.0690 - mean_absolute_percentage_error: 61601720.0000 - val_loss: 1195.8120 - val_mean_absolute_error: 23.9825 - val_root_mean_squared_error: 34.5805 - val_mean_absolute_percentage_error: 4298430.0000\n",
      "Epoch 6/100\n",
      "778/778 [==============================] - 25s 32ms/step - loss: 874.4760 - mean_absolute_error: 21.6137 - root_mean_squared_error: 29.5715 - mean_absolute_percentage_error: 61386112.0000 - val_loss: 1204.0400 - val_mean_absolute_error: 23.9894 - val_root_mean_squared_error: 34.6993 - val_mean_absolute_percentage_error: 4214551.5000ared_error: 29.5879 - mean_absolute_percentage_err - ETA: 1s - loss: 875.2913 - mean_absolute_error: 21.6151 - root_mean_squared_error: 29.5853 - mean_absolute_percentage_e\n",
      "Epoch 7/100\n",
      "778/778 [==============================] - 26s 34ms/step - loss: 857.5375 - mean_absolute_error: 21.4299 - root_mean_squared_error: 29.2837 - mean_absolute_percentage_error: 60712004.0000 - val_loss: 1181.0126 - val_mean_absolute_error: 23.7234 - val_root_mean_squared_error: 34.3659 - val_mean_absolute_percentage_error: 4174004.7500\n",
      "Epoch 8/100\n",
      "778/778 [==============================] - 26s 33ms/step - loss: 843.0723 - mean_absolute_error: 21.2331 - root_mean_squared_error: 29.0357 - mean_absolute_percentage_error: 60401228.0000 - val_loss: 1175.2607 - val_mean_absolute_error: 23.6037 - val_root_mean_squared_error: 34.2821 - val_mean_absolute_percentage_error: 4078677.2500\n",
      "Epoch 9/100\n",
      "778/778 [==============================] - 25s 33ms/step - loss: 831.1988 - mean_absolute_error: 21.0975 - root_mean_squared_error: 28.8305 - mean_absolute_percentage_error: 59840112.0000 - val_loss: 1183.5499 - val_mean_absolute_error: 23.6821 - val_root_mean_squared_error: 34.4028 - val_mean_absolute_percentage_error: 4014977.2500\n",
      "Epoch 10/100\n",
      "778/778 [==============================] - 25s 32ms/step - loss: 819.4496 - mean_absolute_error: 20.9487 - root_mean_squared_error: 28.6260 - mean_absolute_percentage_error: 59607176.0000 - val_loss: 1180.3279 - val_mean_absolute_error: 23.5616 - val_root_mean_squared_error: 34.3559 - val_mean_absolute_percentage_error: 3973934.2500rror: 28.6117 - mean_absolute_percentage_error: 587\n",
      "Epoch 11/100\n",
      "778/778 [==============================] - 26s 34ms/step - loss: 805.6471 - mean_absolute_error: 20.7623 - root_mean_squared_error: 28.3839 - mean_absolute_percentage_error: 59607972.0000 - val_loss: 1143.7380 - val_mean_absolute_error: 23.2267 - val_root_mean_squared_error: 33.8192 - val_mean_absolute_percentage_error: 3973371.2500\n",
      "Epoch 12/100\n",
      "778/778 [==============================] - 27s 35ms/step - loss: 797.0948 - mean_absolute_error: 20.6456 - root_mean_squared_error: 28.2329 - mean_absolute_percentage_error: 59579032.0000 - val_loss: 1148.7266 - val_mean_absolute_error: 23.1591 - val_root_mean_squared_error: 33.8929 - val_mean_absolute_percentage_error: 4000034.5000\n",
      "Epoch 13/100\n",
      "778/778 [==============================] - 25s 32ms/step - loss: 787.9642 - mean_absolute_error: 20.5233 - root_mean_squared_error: 28.0707 - mean_absolute_percentage_error: 59644004.0000 - val_loss: 1164.4391 - val_mean_absolute_error: 23.3858 - val_root_mean_squared_error: 34.1239 - val_mean_absolute_percentage_error: 4017439.5000uared_error: 28.0869 - mean_absolute_percentage_err\n",
      "Epoch 14/100\n",
      "778/778 [==============================] - 25s 33ms/step - loss: 778.9586 - mean_absolute_error: 20.3853 - root_mean_squared_error: 27.9098 - mean_absolute_percentage_error: 59767024.0000 - val_loss: 1143.5315 - val_mean_absolute_error: 23.1368 - val_root_mean_squared_error: 33.8161 - val_mean_absolute_percentage_error: 3975785.5000_squared_error: 27.9329 - mean_absolute_per - ETA: 1s - loss: 778.6658 - mean_absolute_error: 20.3887 - root_mean_squared_error: 27.9046 - mean_absolute_percentage_error\n",
      "Epoch 15/100\n",
      "778/778 [==============================] - 26s 33ms/step - loss: 768.9682 - mean_absolute_error: 20.2329 - root_mean_squared_error: 27.7303 - mean_absolute_percentage_error: 59594884.0000 - val_loss: 1133.8875 - val_mean_absolute_error: 22.9470 - val_root_mean_squared_error: 33.6732 - val_mean_absolute_percentage_error: 4014571.7500\n",
      "Epoch 16/100\n",
      "778/778 [==============================] - 25s 32ms/step - loss: 766.2388 - mean_absolute_error: 20.1887 - root_mean_squared_error: 27.6810 - mean_absolute_percentage_error: 59609192.0000 - val_loss: 1119.0106 - val_mean_absolute_error: 22.7550 - val_root_mean_squared_error: 33.4516 - val_mean_absolute_percentage_error: 4014683.0000\n",
      "Epoch 17/100\n",
      "778/778 [==============================] - 25s 33ms/step - loss: 758.8687 - mean_absolute_error: 20.0846 - root_mean_squared_error: 27.5476 - mean_absolute_percentage_error: 59659900.0000 - val_loss: 1126.5199 - val_mean_absolute_error: 22.8269 - val_root_mean_squared_error: 33.5637 - val_mean_absolute_percentage_error: 3997552.5000lute_error: 20.1664 - root_mean_squared_error: 27.6369 - mean_absolute_percentage_ - ETA:  - ETA: 7s - loss: 759.4713 - mean_absolute_error: 20.1290 - root_mean_squared_error: 27.5585 - mean_absolute_percentage_error: 6 - ETA: 6s - loss: 760.5853 - mean_absolute_error: 20.1531 - root_mean_squared_error: - ETA: 2s - loss: 755.6373 - mean_absolute_error: 20.0561 - root_mean_squared_error: 27.4889 - mean_abs\n",
      "Epoch 18/100\n",
      "778/778 [==============================] - 26s 34ms/step - loss: 753.6513 - mean_absolute_error: 20.0187 - root_mean_squared_error: 27.4527 - mean_absolute_percentage_error: 59334292.0000 - val_loss: 1117.4127 - val_mean_absolute_error: 22.7290 - val_root_mean_squared_error: 33.4277 - val_mean_absolute_percentage_error: 4024595.25000.0227 - roo\n",
      "Epoch 19/100\n",
      "778/778 [==============================] - 25s 32ms/step - loss: 749.4903 - mean_absolute_error: 19.9472 - root_mean_squared_error: 27.3768 - mean_absolute_percentage_error: 59523984.0000 - val_loss: 1117.7112 - val_mean_absolute_error: 22.7195 - val_root_mean_squared_error: 33.4322 - val_mean_absolute_percentage_error: 3959417.2500ed_error: 27.3318 - mean_absolute_percen\n",
      "Epoch 20/100\n",
      "778/778 [==============================] - 25s 32ms/step - loss: 743.6159 - mean_absolute_error: 19.8873 - root_mean_squared_error: 27.2693 - mean_absolute_percentage_error: 59173496.0000 - val_loss: 1104.9512 - val_mean_absolute_error: 22.6932 - val_root_mean_squared_error: 33.2408 - val_mean_absolute_percentage_error: 3919184.0000\n",
      "Epoch 21/100\n",
      "778/778 [==============================] - 28s 36ms/step - loss: 735.5073 - mean_absolute_error: 19.7715 - root_mean_squared_error: 27.1202 - mean_absolute_percentage_error: 59305012.0000 - val_loss: 1076.7433 - val_mean_absolute_error: 22.4668 - val_root_mean_squared_error: 32.8138 - val_mean_absolute_percentage_error: 4111796.7500error: 27.1174 - mean_absolute_percent\n",
      "Epoch 22/100\n",
      "778/778 [==============================] - 25s 32ms/step - loss: 724.1395 - mean_absolute_error: 19.6318 - root_mean_squared_error: 26.9098 - mean_absolute_percentage_error: 59285312.0000 - val_loss: 1069.2009 - val_mean_absolute_error: 22.3112 - val_root_mean_squared_error: 32.6986 - val_mean_absolute_percentage_error: 3953635.7500\n",
      "Epoch 23/100\n",
      "778/778 [==============================] - 25s 32ms/step - loss: 715.1647 - mean_absolute_error: 19.5216 - root_mean_squared_error: 26.7426 - mean_absolute_percentage_error: 59232128.0000 - val_loss: 1025.8918 - val_mean_absolute_error: 22.0118 - val_root_mean_squared_error: 32.0295 - val_mean_absolute_percentage_error: 3906969.5000\n",
      "Epoch 24/100\n",
      "778/778 [==============================] - 27s 35ms/step - loss: 698.7037 - mean_absolute_error: 19.2991 - root_mean_squared_error: 26.4330 - mean_absolute_percentage_error: 59155756.0000 - val_loss: 1015.1721 - val_mean_absolute_error: 21.9346 - val_root_mean_squared_error: 31.8618 - val_mean_absolute_percentage_error: 3944975.2500\n",
      "Epoch 25/100\n",
      "778/778 [==============================] - 26s 34ms/step - loss: 691.4400 - mean_absolute_error: 19.2162 - root_mean_squared_error: 26.2953 - mean_absolute_percentage_error: 58874048.0000 - val_loss: 985.5947 - val_mean_absolute_error: 21.6644 - val_root_mean_squared_error: 31.3942 - val_mean_absolute_percentage_error: 3910424.5000\n",
      "Epoch 26/100\n",
      "778/778 [==============================] - 26s 33ms/step - loss: 681.5205 - mean_absolute_error: 19.0737 - root_mean_squared_error: 26.1059 - mean_absolute_percentage_error: 58674960.0000 - val_loss: 952.4911 - val_mean_absolute_error: 21.5428 - val_root_mean_squared_error: 30.8625 - val_mean_absolute_percentage_error: 3947811.5000\n",
      "Epoch 27/100\n",
      "778/778 [==============================] - 26s 33ms/step - loss: 675.4465 - mean_absolute_error: 19.0039 - root_mean_squared_error: 25.9894 - mean_absolute_percentage_error: 58635996.0000 - val_loss: 937.5835 - val_mean_absolute_error: 21.3499 - val_root_mean_squared_error: 30.6200 - val_mean_absolute_percentage_error: 3896059.5000\n",
      "Epoch 28/100\n",
      "778/778 [==============================] - 25s 33ms/step - loss: 666.1854 - mean_absolute_error: 18.8759 - root_mean_squared_error: 25.8106 - mean_absolute_percentage_error: 58674312.0000 - val_loss: 923.2620 - val_mean_absolute_error: 21.3237 - val_root_mean_squared_error: 30.3852 - val_mean_absolute_percentage_error: 3964467.2500\n",
      "Epoch 29/100\n",
      "778/778 [==============================] - 25s 31ms/step - loss: 660.4809 - mean_absolute_error: 18.8124 - root_mean_squared_error: 25.6998 - mean_absolute_percentage_error: 58428096.0000 - val_loss: 910.3797 - val_mean_absolute_error: 21.2019 - val_root_mean_squared_error: 30.1725 - val_mean_absolute_percentage_error: 3971936.0000\n",
      "Epoch 30/100\n",
      "778/778 [==============================] - 27s 35ms/step - loss: 653.7512 - mean_absolute_error: 18.7207 - root_mean_squared_error: 25.5686 - mean_absolute_percentage_error: 58503840.0000 - val_loss: 898.9276 - val_mean_absolute_error: 21.0277 - val_root_mean_squared_error: 29.9821 - val_mean_absolute_percentage_error: 3870539.2500\n",
      "Epoch 31/100\n",
      "778/778 [==============================] - 25s 32ms/step - loss: 649.6141 - mean_absolute_error: 18.6727 - root_mean_squared_error: 25.4875 - mean_absolute_percentage_error: 58464572.0000 - val_loss: 901.3762 - val_mean_absolute_error: 21.1335 - val_root_mean_squared_error: 30.0229 - val_mean_absolute_percentage_error: 3898568.5000\n",
      "Epoch 32/100\n",
      "778/778 [==============================] - 25s 32ms/step - loss: 643.9152 - mean_absolute_error: 18.5797 - root_mean_squared_error: 25.3755 - mean_absolute_percentage_error: 58541820.0000 - val_loss: 885.8875 - val_mean_absolute_error: 21.0026 - val_root_mean_squared_error: 29.7639 - val_mean_absolute_percentage_error: 3901993.2500ed_error: 25.2803 - mean_absolute_percentage_error: 61546008.0 - ETA: 9s - loss: 640.1963 - mean_absolute_error: 18.5186 - root_mean_squared_error: 25.3021 - mean_absolute_percentage_error: 60852920.000 - ETA: 9s - loss: 640.3303 - mean_absolute_error: 18.5192 - - ETA: 4s - loss: 644.7446 - mean_absolute_error: 18.5805 - root_mean_squared_error\n",
      "Epoch 33/100\n",
      "778/778 [==============================] - 26s 33ms/step - loss: 641.6959 - mean_absolute_error: 18.5713 - root_mean_squared_error: 25.3317 - mean_absolute_percentage_error: 58270356.0000 - val_loss: 875.3452 - val_mean_absolute_error: 20.8625 - val_root_mean_squared_error: 29.5862 - val_mean_absolute_percentage_error: 3980902.2500\n",
      "Epoch 34/100\n",
      "778/778 [==============================] - 26s 33ms/step - loss: 633.8361 - mean_absolute_error: 18.4801 - root_mean_squared_error: 25.1761 - mean_absolute_percentage_error: 57948744.0000 - val_loss: 850.1786 - val_mean_absolute_error: 20.6721 - val_root_mean_squared_error: 29.1578 - val_mean_absolute_percentage_error: 3952127.7500A: 3s - loss: 637.6691 - mean_absolute_error: 18.5171 - root_mean_squared_error: 25.2521 \n",
      "Epoch 35/100\n",
      "778/778 [==============================] - 25s 32ms/step - loss: 629.4881 - mean_absolute_error: 18.4053 - root_mean_squared_error: 25.0896 - mean_absolute_percentage_error: 58193464.0000 - val_loss: 865.5281 - val_mean_absolute_error: 20.9272 - val_root_mean_squared_error: 29.4199 - val_mean_absolute_percentage_error: 3831795.5000030 - mean_absolute_error: 18.3267 - root_\n",
      "Epoch 36/100\n",
      "778/778 [==============================] - 25s 33ms/step - loss: 625.6329 - mean_absolute_error: 18.3740 - root_mean_squared_error: 25.0127 - mean_absolute_percentage_error: 57641280.0000 - val_loss: 837.9499 - val_mean_absolute_error: 20.5610 - val_root_mean_squared_error: 28.9474 - val_mean_absolute_percentage_error: 3863969.7500\n",
      "Epoch 37/100\n",
      "778/778 [==============================] - 25s 33ms/step - loss: 621.1392 - mean_absolute_error: 18.3064 - root_mean_squared_error: 24.9227 - mean_absolute_percentage_error: 57641712.0000 - val_loss: 827.9706 - val_mean_absolute_error: 20.5180 - val_root_mean_squared_error: 28.7745 - val_mean_absolute_percentage_error: 3772329.5000\n",
      "Epoch 38/100\n",
      "778/778 [==============================] - 25s 32ms/step - loss: 614.5612 - mean_absolute_error: 18.2373 - root_mean_squared_error: 24.7903 - mean_absolute_percentage_error: 56895372.0000 - val_loss: 829.1312 - val_mean_absolute_error: 20.4585 - val_root_mean_squared_error: 28.7946 - val_mean_absolute_percentage_error: 3874290.0000- root_mean_squared_error: 24.9766 - mean_absolute_percentage_error: 57552 - ETA: 9s - loss\n",
      "Epoch 39/100\n",
      "778/778 [==============================] - 29s 37ms/step - loss: 610.1528 - mean_absolute_error: 18.1744 - root_mean_squared_error: 24.7013 - mean_absolute_percentage_error: 56644156.0000 - val_loss: 812.9258 - val_mean_absolute_error: 20.3285 - val_root_mean_squared_error: 28.5119 - val_mean_absolute_percentage_error: 3998533.50002441 - roo - ETA: 1s - loss: 611.9949 - mean_absolute_error: 18.1949 - root_mean_squared_error: 24.7385 - mean_absolute_percentage\n",
      "Epoch 40/100\n",
      "778/778 [==============================] - 27s 34ms/step - loss: 607.0380 - mean_absolute_error: 18.1311 - root_mean_squared_error: 24.6381 - mean_absolute_percentage_error: 56663888.0000 - val_loss: 811.7854 - val_mean_absolute_error: 20.4291 - val_root_mean_squared_error: 28.4918 - val_mean_absolute_percentage_error: 3636059.0000\n",
      "Epoch 41/100\n",
      "778/778 [==============================] - 25s 32ms/step - loss: 602.0353 - mean_absolute_error: 18.0584 - root_mean_squared_error: 24.5364 - mean_absolute_percentage_error: 56441468.0000 - val_loss: 818.7535 - val_mean_absolute_error: 20.4442 - val_root_mean_squared_error: 28.6139 - val_mean_absolute_percentage_error: 4007528.5000\n",
      "Epoch 42/100\n"
     ]
    },
    {
     "name": "stdout",
     "output_type": "stream",
     "text": [
      "778/778 [==============================] - 25s 32ms/step - loss: 598.6176 - mean_absolute_error: 18.0397 - root_mean_squared_error: 24.4667 - mean_absolute_percentage_error: 55751300.0000 - val_loss: 801.6315 - val_mean_absolute_error: 20.2148 - val_root_mean_squared_error: 28.3131 - val_mean_absolute_percentage_error: 3876536.2500\n",
      "Epoch 43/100\n",
      "778/778 [==============================] - 24s 31ms/step - loss: 595.9752 - mean_absolute_error: 17.9908 - root_mean_squared_error: 24.4126 - mean_absolute_percentage_error: 55989260.0000 - val_loss: 791.2432 - val_mean_absolute_error: 20.2332 - val_root_mean_squared_error: 28.1291 - val_mean_absolute_percentage_error: 3803970.2500\n",
      "Epoch 44/100\n",
      "778/778 [==============================] - 25s 32ms/step - loss: 590.7324 - mean_absolute_error: 17.9230 - root_mean_squared_error: 24.3050 - mean_absolute_percentage_error: 55109312.0000 - val_loss: 768.2452 - val_mean_absolute_error: 20.0050 - val_root_mean_squared_error: 27.7172 - val_mean_absolute_percentage_error: 3918071.7500\n",
      "Epoch 45/100\n",
      "778/778 [==============================] - 26s 33ms/step - loss: 586.9869 - mean_absolute_error: 17.8669 - root_mean_squared_error: 24.2278 - mean_absolute_percentage_error: 55143632.0000 - val_loss: 790.2463 - val_mean_absolute_error: 20.1959 - val_root_mean_squared_error: 28.1113 - val_mean_absolute_percentage_error: 4268510.0000age\n",
      "Epoch 46/100\n",
      "778/778 [==============================] - 26s 33ms/step - loss: 581.0032 - mean_absolute_error: 17.7907 - root_mean_squared_error: 24.1040 - mean_absolute_percentage_error: 54583784.0000 - val_loss: 789.6003 - val_mean_absolute_error: 20.3445 - val_root_mean_squared_error: 28.0998 - val_mean_absolute_percentage_error: 3473597.0000\n",
      "Epoch 47/100\n",
      "778/778 [==============================] - 25s 33ms/step - loss: 579.2493 - mean_absolute_error: 17.7749 - root_mean_squared_error: 24.0676 - mean_absolute_percentage_error: 54764136.0000 - val_loss: 775.5005 - val_mean_absolute_error: 20.0726 - val_root_mean_squared_error: 27.8478 - val_mean_absolute_percentage_error: 3454095.0000\n",
      "Epoch 48/100\n",
      "778/778 [==============================] - 25s 32ms/step - loss: 575.9065 - mean_absolute_error: 17.7415 - root_mean_squared_error: 23.9980 - mean_absolute_percentage_error: 54820108.0000 - val_loss: 767.3754 - val_mean_absolute_error: 19.9714 - val_root_mean_squared_error: 27.7015 - val_mean_absolute_percentage_error: 3961475.2500s: 575.8282 - mean_absolute_error: 17.7413 - root_mean_squared_error: 23.9964 - mean_absolute\n",
      "Epoch 49/100\n",
      "778/778 [==============================] - 28s 36ms/step - loss: 572.0674 - mean_absolute_error: 17.6655 - root_mean_squared_error: 23.9179 - mean_absolute_percentage_error: 54450100.0000 - val_loss: 766.8292 - val_mean_absolute_error: 19.9896 - val_root_mean_squared_error: 27.6917 - val_mean_absolute_percentage_error: 3952754.0000ute_percentage_err\n",
      "Epoch 50/100\n",
      "778/778 [==============================] - 26s 33ms/step - loss: 567.4942 - mean_absolute_error: 17.6109 - root_mean_squared_error: 23.8221 - mean_absolute_percentage_error: 53321028.0000 - val_loss: 763.0276 - val_mean_absolute_error: 19.9464 - val_root_mean_squared_error: 27.6230 - val_mean_absolute_percentage_error: 4100374.7500\n",
      "Epoch 51/100\n",
      "778/778 [==============================] - 25s 33ms/step - loss: 564.8836 - mean_absolute_error: 17.5794 - root_mean_squared_error: 23.7673 - mean_absolute_percentage_error: 51283752.0000 - val_loss: 775.7371 - val_mean_absolute_error: 20.1265 - val_root_mean_squared_error: 27.8521 - val_mean_absolute_percentage_error: 3890499.0000\n",
      "Epoch 52/100\n",
      "778/778 [==============================] - 28s 36ms/step - loss: 560.5370 - mean_absolute_error: 17.5245 - root_mean_squared_error: 23.6757 - mean_absolute_percentage_error: 51583332.0000 - val_loss: 785.1545 - val_mean_absolute_error: 20.1855 - val_root_mean_squared_error: 28.0206 - val_mean_absolute_percentage_error: 4263025.0000\n",
      "Epoch 53/100\n",
      "778/778 [==============================] - 26s 33ms/step - loss: 558.4114 - mean_absolute_error: 17.4957 - root_mean_squared_error: 23.6307 - mean_absolute_percentage_error: 52343936.0000 - val_loss: 748.9708 - val_mean_absolute_error: 19.7604 - val_root_mean_squared_error: 27.3673 - val_mean_absolute_percentage_error: 3986704.5000\n",
      "Epoch 54/100\n",
      "778/778 [==============================] - 25s 32ms/step - loss: 554.3438 - mean_absolute_error: 17.4462 - root_mean_squared_error: 23.5445 - mean_absolute_percentage_error: 48970568.0000 - val_loss: 760.1406 - val_mean_absolute_error: 19.9517 - val_root_mean_squared_error: 27.5706 - val_mean_absolute_percentage_error: 4121297.0000- loss: 554.4206 - mean_absolute_error: 17.4476 - root_mean_squared_error: 23.5461 - mean_absolute_percentage_error: 48980416.00\n",
      "Epoch 55/100\n",
      "778/778 [==============================] - 26s 34ms/step - loss: 552.3487 - mean_absolute_error: 17.4150 - root_mean_squared_error: 23.5021 - mean_absolute_percentage_error: 50455696.0000 - val_loss: 764.8738 - val_mean_absolute_error: 19.9947 - val_root_mean_squared_error: 27.6563 - val_mean_absolute_percentage_error: 3996088.25008 - mean_absolute_error: 17.3969 - root_mean_squared_error: 23.4549 - mean_abso\n",
      "Epoch 56/100\n",
      "778/778 [==============================] - 25s 32ms/step - loss: 548.1730 - mean_absolute_error: 17.3696 - root_mean_squared_error: 23.4131 - mean_absolute_percentage_error: 48671788.0000 - val_loss: 738.8607 - val_mean_absolute_error: 19.7007 - val_root_mean_squared_error: 27.1820 - val_mean_absolute_percentage_error: 3605182.0000\n",
      "Epoch 57/100\n",
      "778/778 [==============================] - 25s 32ms/step - loss: 544.3436 - mean_absolute_error: 17.3119 - root_mean_squared_error: 23.3312 - mean_absolute_percentage_error: 47666204.0000 - val_loss: 746.1135 - val_mean_absolute_error: 19.7471 - val_root_mean_squared_error: 27.3151 - val_mean_absolute_percentage_error: 4117011.5000\n",
      "Epoch 58/100\n",
      "778/778 [==============================] - 27s 35ms/step - loss: 539.1964 - mean_absolute_error: 17.2269 - root_mean_squared_error: 23.2206 - mean_absolute_percentage_error: 46801776.0000 - val_loss: 746.4485 - val_mean_absolute_error: 19.8177 - val_root_mean_squared_error: 27.3212 - val_mean_absolute_percentage_error: 3737074.7500\n",
      "Epoch 59/100\n",
      "778/778 [==============================] - 26s 33ms/step - loss: 537.0236 - mean_absolute_error: 17.2084 - root_mean_squared_error: 23.1738 - mean_absolute_percentage_error: 45852764.0000 - val_loss: 773.5813 - val_mean_absolute_error: 20.2474 - val_root_mean_squared_error: 27.8133 - val_mean_absolute_percentage_error: 3906125.00009904 - mean_absolute_error: 17.2077 - root_mean_squared_error: 23.1731 - mean_absolute_percentage_error: 45665352.\n",
      "Epoch 60/100\n",
      "778/778 [==============================] - 26s 33ms/step - loss: 531.0145 - mean_absolute_error: 17.1279 - root_mean_squared_error: 23.0438 - mean_absolute_percentage_error: 45001900.0000 - val_loss: 742.3214 - val_mean_absolute_error: 19.7078 - val_root_mean_squared_error: 27.2456 - val_mean_absolute_percentage_error: 4473571.0000\n",
      "Epoch 61/100\n",
      "778/778 [==============================] - 25s 32ms/step - loss: 529.7791 - mean_absolute_error: 17.0989 - root_mean_squared_error: 23.0169 - mean_absolute_percentage_error: 42268352.0000 - val_loss: 736.7577 - val_mean_absolute_error: 19.7107 - val_root_mean_squared_error: 27.1433 - val_mean_absolute_percentage_error: 4221619.5000loss: \n",
      "Epoch 62/100\n",
      "778/778 [==============================] - 26s 33ms/step - loss: 524.4573 - mean_absolute_error: 17.0229 - root_mean_squared_error: 22.9010 - mean_absolute_percentage_error: 41441432.0000 - val_loss: 736.1713 - val_mean_absolute_error: 19.6933 - val_root_mean_squared_error: 27.1325 - val_mean_absolute_percentage_error: 4244656.0000\n",
      "Epoch 63/100\n",
      "778/778 [==============================] - 26s 33ms/step - loss: 521.4314 - mean_absolute_error: 16.9850 - root_mean_squared_error: 22.8349 - mean_absolute_percentage_error: 41813384.0000 - val_loss: 754.0218 - val_mean_absolute_error: 20.0051 - val_root_mean_squared_error: 27.4595 - val_mean_absolute_percentage_error: 4134380.0000\n",
      "Epoch 64/100\n",
      "778/778 [==============================] - 26s 34ms/step - loss: 518.5392 - mean_absolute_error: 16.9559 - root_mean_squared_error: 22.7714 - mean_absolute_percentage_error: 41173436.0000 - val_loss: 745.2619 - val_mean_absolute_error: 19.9080 - val_root_mean_squared_error: 27.2995 - val_mean_absolute_percentage_error: 4226753.0000mean_absolute_percentage_error: 3 - ETA: 14s - loss: 52 - ETA: 0s - loss: 519.0390 - mean_absolute_error: 16.9556 - root_mean_squared_error: 22.7824 - mean_absolute_percentage_error: 40\n",
      "Epoch 65/100\n",
      "778/778 [==============================] - 27s 35ms/step - loss: 516.7794 - mean_absolute_error: 16.9282 - root_mean_squared_error: 22.7328 - mean_absolute_percentage_error: 42343100.0000 - val_loss: 762.0090 - val_mean_absolute_error: 20.1010 - val_root_mean_squared_error: 27.6045 - val_mean_absolute_percentage_error: 3857126.7500\n",
      "Epoch 66/100\n",
      "778/778 [==============================] - 27s 35ms/step - loss: 511.4774 - mean_absolute_error: 16.8383 - root_mean_squared_error: 22.6159 - mean_absolute_percentage_error: 40556408.0000 - val_loss: 733.2311 - val_mean_absolute_error: 19.6618 - val_root_mean_squared_error: 27.0782 - val_mean_absolute_percentage_error: 4107398.0000\n",
      "Epoch 67/100\n",
      "778/778 [==============================] - 26s 34ms/step - loss: 507.5733 - mean_absolute_error: 16.7702 - root_mean_squared_error: 22.5294 - mean_absolute_percentage_error: 40825356.0000 - val_loss: 736.2815 - val_mean_absolute_error: 19.7301 - val_root_mean_squared_error: 27.1345 - val_mean_absolute_percentage_error: 4213781.5000\n",
      "Epoch 68/100\n",
      "778/778 [==============================] - 27s 35ms/step - loss: 505.9085 - mean_absolute_error: 16.7567 - root_mean_squared_error: 22.4924 - mean_absolute_percentage_error: 40310888.0000 - val_loss: 728.7310 - val_mean_absolute_error: 19.6547 - val_root_mean_squared_error: 26.9950 - val_mean_absolute_percentage_error: 4391579.5000r: 22.4906 - mean_absolute_percentage_error: 405232\n",
      "Epoch 69/100\n",
      "778/778 [==============================] - 20s 26ms/step - loss: 499.5155 - mean_absolute_error: 16.6604 - root_mean_squared_error: 22.3498 - mean_absolute_percentage_error: 38800776.0000 - val_loss: 734.5220 - val_mean_absolute_error: 19.7740 - val_root_mean_squared_error: 27.1021 - val_mean_absolute_percentage_error: 4223238.0000\n",
      "Epoch 70/100\n",
      "778/778 [==============================] - 4s 6ms/step - loss: 497.2988 - mean_absolute_error: 16.6169 - root_mean_squared_error: 22.3002 - mean_absolute_percentage_error: 39431916.0000 - val_loss: 730.1918 - val_mean_absolute_error: 19.6625 - val_root_mean_squared_error: 27.0221 - val_mean_absolute_percentage_error: 4075315.2500\n",
      "Epoch 71/100\n",
      "778/778 [==============================] - 18s 23ms/step - loss: 492.9162 - mean_absolute_error: 16.5653 - root_mean_squared_error: 22.2017 - mean_absolute_percentage_error: 37582324.0000 - val_loss: 719.4661 - val_mean_absolute_error: 19.5870 - val_root_mean_squared_error: 26.8229 - val_mean_absolute_percentage_error: 4333252.0000\n",
      "Epoch 72/100\n",
      "778/778 [==============================] - 29s 37ms/step - loss: 490.0003 - mean_absolute_error: 16.5218 - root_mean_squared_error: 22.1359 - mean_absolute_percentage_error: 36727452.0000 - val_loss: 728.3609 - val_mean_absolute_error: 19.7099 - val_root_mean_squared_error: 26.9882 - val_mean_absolute_percentage_error: 4197640.0000te_error: 16.5435 - root_mean_squared_error: 22.1788 - mean_absolute_percent\n",
      "Epoch 73/100\n",
      "778/778 [==============================] - 37s 47ms/step - loss: 487.5038 - mean_absolute_error: 16.4891 - root_mean_squared_error: 22.0795 - mean_absolute_percentage_error: 37715012.0000 - val_loss: 736.2424 - val_mean_absolute_error: 19.8310 - val_root_mean_squared_error: 27.1338 - val_mean_absolute_percentage_error: 4477624.0000\n",
      "Epoch 74/100\n",
      "778/778 [==============================] - 36s 46ms/step - loss: 484.1848 - mean_absolute_error: 16.4422 - root_mean_squared_error: 22.0042 - mean_absolute_percentage_error: 38265828.0000 - val_loss: 732.3610 - val_mean_absolute_error: 19.7415 - val_root_mean_squared_error: 27.0622 - val_mean_absolute_percentage_error: 4263970.5000loss: 483.4781 - mean_absolute_error: 16.4250 - root_mean_squared_error - ETA: 0s - loss: 484.1757 - mean_absolute_error: 16.4432 - root_mean_squared_error: 22.0040 - mean_absolute_percentage_error: 383652\n",
      "Epoch 75/100\n",
      "778/778 [==============================] - 36s 47ms/step - loss: 479.5847 - mean_absolute_error: 16.3484 - root_mean_squared_error: 21.8994 - mean_absolute_percentage_error: 37131256.0000 - val_loss: 723.5154 - val_mean_absolute_error: 19.6574 - val_root_mean_squared_error: 26.8982 - val_mean_absolute_percentage_error: 4252803.5000an_absolute_error: 16.3203 - root_mean_squared_ - ETA: 8s - loss: 481.0793 - mean_absolute_error:\n",
      "Epoch 76/100\n",
      "778/778 [==============================] - 38s 49ms/step - loss: 477.2870 - mean_absolute_error: 16.3235 - root_mean_squared_error: 21.8469 - mean_absolute_percentage_error: 35941084.0000 - val_loss: 742.0851 - val_mean_absolute_error: 19.9137 - val_root_mean_squared_error: 27.2412 - val_mean_absolute_percentage_error: 4130911.5000red_error: 21.8643 - mean_absolu - ETA: 1s - loss: 476.5891 - mean_absolute_error: 16.3116 - root_mean_squared_error: 21.8309 - mean_absolute_percentage_e\n",
      "Epoch 77/100\n",
      "778/778 [==============================] - 37s 48ms/step - loss: 475.5538 - mean_absolute_error: 16.3008 - root_mean_squared_error: 21.8072 - mean_absolute_percentage_error: 34850828.0000 - val_loss: 733.0530 - val_mean_absolute_error: 19.7730 - val_root_mean_squared_error: 27.0750 - val_mean_absolute_percentage_error: 4339152.5000\n",
      "Epoch 78/100\n",
      "778/778 [==============================] - 39s 50ms/step - loss: 471.5376 - mean_absolute_error: 16.2529 - root_mean_squared_error: 21.7149 - mean_absolute_percentage_error: 35661808.0000 - val_loss: 733.8349 - val_mean_absolute_error: 19.7779 - val_root_mean_squared_error: 27.0894 - val_mean_absolute_percentage_error: 4364424.5000\n",
      "Epoch 79/100\n",
      "778/778 [==============================] - 37s 48ms/step - loss: 467.0797 - mean_absolute_error: 16.1687 - root_mean_squared_error: 21.6120 - mean_absolute_percentage_error: 34423584.0000 - val_loss: 737.3151 - val_mean_absolute_error: 19.8592 - val_root_mean_squared_error: 27.1535 - val_mean_absolute_percentage_error: 4061977.0000: 470.0791 - mean_absolute_error: 16.2175 - root_mean_squared_error: 21.6813 -\n",
      "Epoch 80/100\n",
      "778/778 [==============================] - 35s 45ms/step - loss: 465.3366 - mean_absolute_error: 16.1390 - root_mean_squared_error: 21.5717 - mean_absolute_percentage_error: 34717232.0000 - val_loss: 734.8141 - val_mean_absolute_error: 19.8348 - val_root_mean_squared_error: 27.1075 - val_mean_absolute_percentage_error: 3879194.5000465.5830 - mean_absolute_error: 16.1445 - root_mean_squared_error: 21.5774 - mean_absolute_percentage_error\n",
      "Epoch 81/100\n",
      "778/778 [==============================] - 36s 46ms/step - loss: 460.7333 - mean_absolute_error: 16.0566 - root_mean_squared_error: 21.4647 - mean_absolute_percentage_error: 33617980.0000 - val_loss: 743.7396 - val_mean_absolute_error: 19.9299 - val_root_mean_squared_error: 27.2716 - val_mean_absolute_percentage_error: 4384206.5000\n",
      "Epoch 82/100\n",
      "778/778 [==============================] - 36s 46ms/step - loss: 459.3577 - mean_absolute_error: 16.0387 - root_mean_squared_error: 21.4326 - mean_absolute_percentage_error: 33157236.0000 - val_loss: 731.2625 - val_mean_absolute_error: 19.7642 - val_root_mean_squared_error: 27.0419 - val_mean_absolute_percentage_error: 4276085.5000- mean_absolute_error: 16.0448 - root_mean_squared_error: 21.4556 - mean_absolute_p - ETA: 3s - loss: 461.9023 - mean_absolute_error: 16.0656 - root_mean_squared_error: 21.4919 - mean\n",
      "Epoch 83/100\n",
      "778/778 [==============================] - 38s 49ms/step - loss: 457.5783 - mean_absolute_error: 16.0267 - root_mean_squared_error: 21.3911 - mean_absolute_percentage_error: 32716314.0000 - val_loss: 734.5839 - val_mean_absolute_error: 19.7652 - val_root_mean_squared_error: 27.1032 - val_mean_absolute_percentage_error: 4329910.0000\n",
      "Epoch 84/100\n"
     ]
    },
    {
     "name": "stdout",
     "output_type": "stream",
     "text": [
      "778/778 [==============================] - 36s 46ms/step - loss: 452.4526 - mean_absolute_error: 15.9393 - root_mean_squared_error: 21.2709 - mean_absolute_percentage_error: 32015770.0000 - val_loss: 730.0443 - val_mean_absolute_error: 19.7286 - val_root_mean_squared_error: 27.0193 - val_mean_absolute_percentage_error: 4224599.0000\n",
      "Epoch 85/100\n",
      "778/778 [==============================] - 35s 46ms/step - loss: 448.8951 - mean_absolute_error: 15.8893 - root_mean_squared_error: 21.1871 - mean_absolute_percentage_error: 30058482.0000 - val_loss: 725.2624 - val_mean_absolute_error: 19.7072 - val_root_mean_squared_error: 26.9307 - val_mean_absolute_percentage_error: 3783274.0000r: 15.8518 - root_mean_squared_error: 21.1176 -  - ETA: 1s - loss: 448.2180 - mean_absolute_error: 15.8782 - root_mean_squared_error: 21.1712 - mean_absolute_percentage_er\n",
      "Epoch 86/100\n",
      "778/778 [==============================] - 36s 46ms/step - loss: 447.5816 - mean_absolute_error: 15.8673 - root_mean_squared_error: 21.1561 - mean_absolute_percentage_error: 31261428.0000 - val_loss: 726.9957 - val_mean_absolute_error: 19.7826 - val_root_mean_squared_error: 26.9629 - val_mean_absolute_percentage_error: 4334197.0000olute_error: 15.7147 - root_mea - ETA: 15s - loss: 441.6056 - mean_absolute_error: 15.7586 - root_mean_squared_erro - ETA: 12s - loss: 444.5874 - mean_absolute_error: 15.7970 - root_mean_squared_error: 21.0852 - mean_absolute_per - ETA: 10s - loss: 445.7971 - mean_absolute_error: 15.8314 - root_mean_squared - ETA: 5s - loss: 447.1864 - mean_absolute_error: 15.8644 - root_mean_sq\n",
      "Epoch 87/100\n",
      "778/778 [==============================] - 41s 52ms/step - loss: 444.7704 - mean_absolute_error: 15.8070 - root_mean_squared_error: 21.0896 - mean_absolute_percentage_error: 32229788.0000 - val_loss: 754.4913 - val_mean_absolute_error: 20.2700 - val_root_mean_squared_error: 27.4680 - val_mean_absolute_percentage_error: 4476365.0000mea\n",
      "Epoch 88/100\n",
      "778/778 [==============================] - 36s 47ms/step - loss: 441.6365 - mean_absolute_error: 15.7613 - root_mean_squared_error: 21.0151 - mean_absolute_percentage_error: 32438570.0000 - val_loss: 726.9218 - val_mean_absolute_error: 19.8231 - val_root_mean_squared_error: 26.9615 - val_mean_absolute_percentage_error: 4380992.0000\n",
      "Epoch 89/100\n",
      "778/778 [==============================] - 41s 53ms/step - loss: 437.5146 - mean_absolute_error: 15.6933 - root_mean_squared_error: 20.9169 - mean_absolute_percentage_error: 31521822.0000 - val_loss: 731.2498 - val_mean_absolute_error: 19.8614 - val_root_mean_squared_error: 27.0416 - val_mean_absolute_percentage_error: 4337083.5000\n",
      "Epoch 90/100\n",
      "778/778 [==============================] - 36s 46ms/step - loss: 436.5892 - mean_absolute_error: 15.6828 - root_mean_squared_error: 20.8947 - mean_absolute_percentage_error: 31473066.0000 - val_loss: 731.1309 - val_mean_absolute_error: 19.8379 - val_root_mean_squared_error: 27.0394 - val_mean_absolute_percentage_error: 4445603.5000\n",
      "Epoch 91/100\n",
      "778/778 [==============================] - 37s 48ms/step - loss: 434.6878 - mean_absolute_error: 15.6596 - root_mean_squared_error: 20.8492 - mean_absolute_percentage_error: 31515106.0000 - val_loss: 734.0560 - val_mean_absolute_error: 19.8811 - val_root_mean_squared_error: 27.0935 - val_mean_absolute_percentage_error: 3932957.50005.6279 - root_mean_square - ETA: 3s - loss: 433.4584 - mean_absolute_error: 15.6328 - root_mean_squared_error: 20.8197 - mean_absol\n",
      "Epoch 92/100\n",
      "778/778 [==============================] - 36s 46ms/step - loss: 429.2229 - mean_absolute_error: 15.5571 - root_mean_squared_error: 20.7177 - mean_absolute_percentage_error: 33015062.0000 - val_loss: 728.3944 - val_mean_absolute_error: 19.8363 - val_root_mean_squared_error: 26.9888 - val_mean_absolute_percentage_error: 4521837.0000error: 15.5147 - root_mean_squared_error\n",
      "Epoch 93/100\n",
      "778/778 [==============================] - 38s 49ms/step - loss: 428.2376 - mean_absolute_error: 15.5418 - root_mean_squared_error: 20.6939 - mean_absolute_percentage_error: 28888510.0000 - val_loss: 732.1592 - val_mean_absolute_error: 19.8187 - val_root_mean_squared_error: 27.0584 - val_mean_absolute_percentage_error: 4458102.0000\n",
      "Epoch 94/100\n",
      "778/778 [==============================] - 35s 45ms/step - loss: 424.4463 - mean_absolute_error: 15.4729 - root_mean_squared_error: 20.6021 - mean_absolute_percentage_error: 30630038.0000 - val_loss: 740.5912 - val_mean_absolute_error: 20.0547 - val_root_mean_squared_error: 27.2138 - val_mean_absolute_percentage_error: 3673989.2500\n",
      "Epoch 95/100\n",
      "778/778 [==============================] - 40s 51ms/step - loss: 422.1918 - mean_absolute_error: 15.4287 - root_mean_squared_error: 20.5473 - mean_absolute_percentage_error: 30138464.0000 - val_loss: 722.6580 - val_mean_absolute_error: 19.7756 - val_root_mean_squared_error: 26.8823 - val_mean_absolute_percentage_error: 3753920.7500\n",
      "Epoch 96/100\n",
      "778/778 [==============================] - 39s 50ms/step - loss: 419.7714 - mean_absolute_error: 15.3958 - root_mean_squared_error: 20.4883 - mean_absolute_percentage_error: 28365756.0000 - val_loss: 725.7543 - val_mean_absolute_error: 19.7675 - val_root_mean_squared_error: 26.9398 - val_mean_absolute_percentage_error: 4401064.0000A: 13s - loss: 415.8095 - mean_absolute_error: 15.3648 - root_m - ETA: 10s - loss: 416.7910 - mean_absol - ETA: 3s - loss: 419.3596 - mean_absolute_error: 15.3879 - root_mean_squared_error: 20.4783 - mean_abs\n",
      "Epoch 97/100\n",
      "778/778 [==============================] - 39s 50ms/step - loss: 416.7788 - mean_absolute_error: 15.3515 - root_mean_squared_error: 20.4152 - mean_absolute_percentage_error: 29576176.0000 - val_loss: 732.2863 - val_mean_absolute_error: 19.9069 - val_root_mean_squared_error: 27.0608 - val_mean_absolute_percentage_error: 4274746.0000\n",
      "Epoch 98/100\n",
      "778/778 [==============================] - 36s 46ms/step - loss: 413.8911 - mean_absolute_error: 15.2990 - root_mean_squared_error: 20.3443 - mean_absolute_percentage_error: 30809430.0000 - val_loss: 730.1423 - val_mean_absolute_error: 19.8570 - val_root_mean_squared_error: 27.0211 - val_mean_absolute_percentage_error: 4365735.5000- mean_absolute_error: 15.2689 - root_mean_squared_er\n",
      "Epoch 99/100\n",
      "778/778 [==============================] - 36s 46ms/step - loss: 414.1187 - mean_absolute_error: 15.3040 - root_mean_squared_error: 20.3499 - mean_absolute_percentage_error: 27187882.0000 - val_loss: 729.9570 - val_mean_absolute_error: 19.8974 - val_root_mean_squared_error: 27.0177 - val_mean_absolute_percentage_error: 4188960.7500\n",
      "Epoch 100/100\n",
      "778/778 [==============================] - 37s 48ms/step - loss: 408.8610 - mean_absolute_error: 15.2113 - root_mean_squared_error: 20.2203 - mean_absolute_percentage_error: 28841172.0000 - val_loss: 745.8004 - val_mean_absolute_error: 20.1851 - val_root_mean_squared_error: 27.3093 - val_mean_absolute_percentage_error: 4546846.0000\n"
     ]
    },
    {
     "data": {
      "text/plain": [
       "<keras.callbacks.History at 0x2916312d0d0>"
      ]
     },
     "execution_count": 79,
     "metadata": {},
     "output_type": "execute_result"
    }
   ],
   "source": [
    "model15.fit((Wt15,Xt15), yt15, validation_split = val_percent,\n",
    "            epochs = 100, \n",
    "            verbose = 1)"
   ]
  },
  {
   "cell_type": "code",
   "execution_count": 80,
   "metadata": {},
   "outputs": [],
   "source": [
    "metrics15 = pd.DataFrame(model15.history.history)"
   ]
  },
  {
   "cell_type": "code",
   "execution_count": 81,
   "metadata": {},
   "outputs": [],
   "source": [
    "# fig = plt.figure(figsize=(6,4))\n",
    "\n",
    "# # Add set of axes to figure\n",
    "# axes = fig.add_axes([0, 0, 1, 1]) \n",
    "# axes2 = fig.add_axes([0.3, 0.35, 0.5, 0.5]) # Smaller figure\n",
    "# axes.plot(metrics15[['loss','val_loss']], label=['train_loss','val_loss'], lw=4)\n",
    "# axes.set_ylim(0,4000)\n",
    "\n",
    "# axes2.plot(metrics15[['loss','val_loss']], lw=4)\n",
    "# axes2.set_xlim(0,20)\n",
    "# axes2.set_ylim(500,1500)\n",
    "# #plt.xticks(visible=False)\n",
    "# plt.yticks(visible=False)\n",
    "\n",
    "# axes.set_xlabel('Epoch')\n",
    "# axes.set_ylabel('Loss')\n",
    "# axes.grid()\n",
    "# axes2.grid()\n",
    "\n",
    "# mark_inset(axes, axes2, loc1=2, loc2=4, fc=\"0.9\", ec=\"0.1\", ls='--')\n",
    "# axes.yaxis.set_major_formatter(formatter)"
   ]
  },
  {
   "cell_type": "code",
   "execution_count": 82,
   "metadata": {},
   "outputs": [
    {
     "name": "stderr",
     "output_type": "stream",
     "text": [
      "WARNING:absl:Function `_wrapped_model` contains input name(s) WideInput, DeepInput with unsupported characters which will be renamed to wideinput, deepinput in the SavedModel.\n",
      "WARNING:absl:Found untraced functions such as lstm_cell_11_layer_call_and_return_conditional_losses, lstm_cell_11_layer_call_fn, lstm_cell_9_layer_call_and_return_conditional_losses, lstm_cell_9_layer_call_fn, lstm_cell_10_layer_call_and_return_conditional_losses while saving (showing 5 of 15). These functions will not be directly callable after loading.\n"
     ]
    },
    {
     "name": "stdout",
     "output_type": "stream",
     "text": [
      "INFO:tensorflow:Assets written to: my_dir/10a-15\\assets\n"
     ]
    },
    {
     "name": "stderr",
     "output_type": "stream",
     "text": [
      "INFO:tensorflow:Assets written to: my_dir/10a-15\\assets\n"
     ]
    }
   ],
   "source": [
    "model15.save(\"my_dir/10a-15\")"
   ]
  },
  {
   "cell_type": "code",
   "execution_count": 83,
   "metadata": {},
   "outputs": [],
   "source": [
    "model15 = keras.models.load_model(\"my_dir/10a-15\")"
   ]
  },
  {
   "cell_type": "code",
   "execution_count": 84,
   "metadata": {},
   "outputs": [
    {
     "data": {
      "text/plain": [
       "array([[ 57.93532 ,  59.859737,  65.97726 , ...,  64.92633 ,  40.03468 ,\n",
       "         39.719524],\n",
       "       [ 57.74734 ,  59.614666,  66.033005, ...,  65.0835  ,  40.406963,\n",
       "         40.270184],\n",
       "       [ 57.95614 ,  59.607716,  66.17795 , ...,  65.34059 ,  40.02831 ,\n",
       "         40.44447 ],\n",
       "       ...,\n",
       "       [133.25099 , 136.6567  , 149.34543 , ..., 145.65353 ,  97.77357 ,\n",
       "         92.50432 ],\n",
       "       [132.18394 , 134.61342 , 148.07689 , ..., 145.83757 ,  97.26371 ,\n",
       "         92.52729 ],\n",
       "       [122.100586, 123.83324 , 137.25868 , ..., 135.76941 ,  88.382866,\n",
       "         83.8345  ]], dtype=float32)"
      ]
     },
     "execution_count": 84,
     "metadata": {},
     "output_type": "execute_result"
    }
   ],
   "source": [
    "model15.predict((Wv15,Xv15))"
   ]
  },
  {
   "cell_type": "markdown",
   "metadata": {},
   "source": [
    "# 30 mins ahead"
   ]
  },
  {
   "cell_type": "code",
   "execution_count": 87,
   "metadata": {},
   "outputs": [],
   "source": [
    "def build_model_30(hp):\n",
    "    # Inputs\n",
    "    channel_Wide = keras.layers.Input(shape=Wt30.shape[1:], name=\"WideInput\")\n",
    "    channel_Deep = keras.layers.Input(shape=Xt30.shape[1:], name=\"DeepInput\")\n",
    "    units = hp.Int(\"units\", min_value=1, max_value=100, step=1)\n",
    "    \n",
    "    \n",
    "    # Wide Model\n",
    "    flatten_30w = keras.layers.TimeDistributed(keras.layers.Flatten())(channel_Wide)\n",
    "    Bi_30 = keras.layers.Bidirectional(\n",
    "        keras.layers.LSTM(units=units, return_sequences=True),\n",
    "        merge_mode=\"ave\"\n",
    "    )(flatten_30w)\n",
    "    \n",
    "    \n",
    "    # Deep Model\n",
    "    # CNN \n",
    "    CNN_30 = keras.layers.TimeDistributed(\n",
    "        keras.layers.Conv2D(filters=hp.Int(\"filters\", min_value=32, max_value=512, step=32),\n",
    "                            kernel_size=hp.Choice(\"kernel_size\", [2, 3]), activation='relu'))(channel_Deep)\n",
    "    flatten_30 = keras.layers.TimeDistributed(keras.layers.Flatten())(CNN_30)\n",
    "    # LSTM          \n",
    "    LSTM_30 = keras.layers.LSTM(units=units, return_sequences=True)(flatten_30)\n",
    "\n",
    "    \n",
    "    # Concatenation \n",
    "    concat = keras.layers.concatenate([Bi_30, LSTM_30], axis=1)\n",
    "\n",
    "    # Attention\n",
    "    Att_30 = SeqSelfAttention(attention_activation='sigmoid')(concat)\n",
    "    merge = keras.layers.Flatten()(concat)\n",
    "\n",
    "    \n",
    "    # Output\n",
    "    output = keras.layers.Dense(n_features, name= \"output\")(merge)\n",
    "    \n",
    "    # Model\n",
    "    model_30 = keras.Model(inputs=[channel_Wide,channel_Deep], outputs=[output])\n",
    "\n",
    "    # Compile\n",
    "    model_30.compile(optimizer=keras.optimizers.Adam(hp.Choice(\"learning_rate\", [1e-2, 1e-3, 1e-4])), \n",
    "        loss=\"mse\", metrics=['MeanAbsoluteError','RootMeanSquaredError','MeanAbsolutePercentageError'])\n",
    "                    \n",
    "    return model_30"
   ]
  },
  {
   "cell_type": "code",
   "execution_count": 88,
   "metadata": {},
   "outputs": [],
   "source": [
    "tuner30 = RandomSearch(\n",
    "    build_model_30,\n",
    "    objective=\"val_loss\",\n",
    "    max_trials=10,\n",
    "    executions_per_trial=2,\n",
    "    overwrite=False,\n",
    "    directory=os.path.normpath('C:/Runs'),\n",
    "    project_name=\"10a-30\",\n",
    ")"
   ]
  },
  {
   "cell_type": "code",
   "execution_count": 89,
   "metadata": {},
   "outputs": [
    {
     "name": "stdout",
     "output_type": "stream",
     "text": [
      "Search space summary\n",
      "Default search space size: 4\n",
      "units (Int)\n",
      "{'default': None, 'conditions': [], 'min_value': 1, 'max_value': 100, 'step': 1, 'sampling': 'linear'}\n",
      "filters (Int)\n",
      "{'default': None, 'conditions': [], 'min_value': 32, 'max_value': 512, 'step': 32, 'sampling': 'linear'}\n",
      "kernel_size (Choice)\n",
      "{'default': 2, 'conditions': [], 'values': [2, 3], 'ordered': True}\n",
      "learning_rate (Choice)\n",
      "{'default': 0.01, 'conditions': [], 'values': [0.01, 0.001, 0.0001], 'ordered': True}\n"
     ]
    }
   ],
   "source": [
    "tuner30.search_space_summary()"
   ]
  },
  {
   "cell_type": "code",
   "execution_count": 90,
   "metadata": {},
   "outputs": [
    {
     "name": "stdout",
     "output_type": "stream",
     "text": [
      "Trial 10 Complete [00h 11m 57s]\n",
      "val_loss: 1137.7197265625\n",
      "\n",
      "Best val_loss So Far: 984.0860290527344\n",
      "Total elapsed time: 10h 10m 41s\n",
      "INFO:tensorflow:Oracle triggered exit\n"
     ]
    },
    {
     "name": "stderr",
     "output_type": "stream",
     "text": [
      "INFO:tensorflow:Oracle triggered exit\n"
     ]
    }
   ],
   "source": [
    "tuner30.search((Wt30,Xt30), yt30, epochs=200,\n",
    "            validation_split = val_percent,\n",
    "            callbacks=[early_stop],\n",
    "            verbose=2)"
   ]
  },
  {
   "cell_type": "code",
   "execution_count": 91,
   "metadata": {},
   "outputs": [
    {
     "name": "stdout",
     "output_type": "stream",
     "text": [
      "Results summary\n",
      "Results in C:\\Runs\\10a-30\n",
      "Showing 1 best trials\n",
      "Objective(name=\"val_loss\", direction=\"min\")\n",
      "\n",
      "Trial 07 summary\n",
      "Hyperparameters:\n",
      "units: 72\n",
      "filters: 512\n",
      "kernel_size: 3\n",
      "learning_rate: 0.0001\n",
      "Score: 984.0860290527344\n"
     ]
    }
   ],
   "source": [
    "tuner30.results_summary(1)"
   ]
  },
  {
   "cell_type": "markdown",
   "metadata": {},
   "source": [
    "### Best model"
   ]
  },
  {
   "cell_type": "code",
   "execution_count": 92,
   "metadata": {},
   "outputs": [],
   "source": [
    "best_hp30 = tuner30.get_best_hyperparameters()[0]\n",
    "model30 = tuner30.hypermodel.build(best_hp30)"
   ]
  },
  {
   "cell_type": "code",
   "execution_count": 93,
   "metadata": {},
   "outputs": [
    {
     "data": {
      "text/plain": [
       "['Best_HP/10a-30']"
      ]
     },
     "execution_count": 93,
     "metadata": {},
     "output_type": "execute_result"
    }
   ],
   "source": [
    "scaler_filename = \"Best_HP/10a-30\"\n",
    "joblib.dump(best_hp30, scaler_filename) "
   ]
  },
  {
   "cell_type": "code",
   "execution_count": 94,
   "metadata": {},
   "outputs": [],
   "source": [
    "scaler_filename = \"Best_HP/10a-30\"\n",
    "best_hp30 = joblib.load(scaler_filename) \n",
    "\n",
    "model30 = tuner30.hypermodel.build(best_hp30)"
   ]
  },
  {
   "cell_type": "code",
   "execution_count": 95,
   "metadata": {},
   "outputs": [
    {
     "name": "stdout",
     "output_type": "stream",
     "text": [
      "Model: \"model_2\"\n",
      "__________________________________________________________________________________________________\n",
      "Layer (type)                    Output Shape         Param #     Connected to                     \n",
      "==================================================================================================\n",
      "DeepInput (InputLayer)          [(None, 3, 5, 15, 7) 0                                            \n",
      "__________________________________________________________________________________________________\n",
      "WideInput (InputLayer)          [(None, 3, 3, 7)]    0                                            \n",
      "__________________________________________________________________________________________________\n",
      "time_distributed_7 (TimeDistrib (None, 3, 3, 13, 512 32768       DeepInput[0][0]                  \n",
      "__________________________________________________________________________________________________\n",
      "time_distributed_6 (TimeDistrib (None, 3, 21)        0           WideInput[0][0]                  \n",
      "__________________________________________________________________________________________________\n",
      "time_distributed_8 (TimeDistrib (None, 3, 19968)     0           time_distributed_7[0][0]         \n",
      "__________________________________________________________________________________________________\n",
      "bidirectional_2 (Bidirectional) (None, 3, 72)        54144       time_distributed_6[0][0]         \n",
      "__________________________________________________________________________________________________\n",
      "lstm_5 (LSTM)                   (None, 3, 72)        5771808     time_distributed_8[0][0]         \n",
      "__________________________________________________________________________________________________\n",
      "concatenate_2 (Concatenate)     (None, 6, 72)        0           bidirectional_2[0][0]            \n",
      "                                                                 lstm_5[0][0]                     \n",
      "__________________________________________________________________________________________________\n",
      "flatten_8 (Flatten)             (None, 432)          0           concatenate_2[0][0]              \n",
      "__________________________________________________________________________________________________\n",
      "output (Dense)                  (None, 7)            3031        flatten_8[0][0]                  \n",
      "==================================================================================================\n",
      "Total params: 5,861,751\n",
      "Trainable params: 5,861,751\n",
      "Non-trainable params: 0\n",
      "__________________________________________________________________________________________________\n"
     ]
    }
   ],
   "source": [
    "model30.summary()"
   ]
  },
  {
   "cell_type": "code",
   "execution_count": 96,
   "metadata": {},
   "outputs": [
    {
     "name": "stdout",
     "output_type": "stream",
     "text": [
      "Epoch 1/100\n",
      "778/778 [==============================] - 68s 79ms/step - loss: 53710.0820 - mean_absolute_error: 201.5426 - root_mean_squared_error: 231.7544 - mean_absolute_percentage_error: 10731697.0000 - val_loss: 47419.1758 - val_mean_absolute_error: 189.4015 - val_root_mean_squared_error: 217.7595 - val_mean_absolute_percentage_error: 1659061.5000\n",
      "Epoch 2/100\n",
      "778/778 [==============================] - 57s 73ms/step - loss: 41257.0820 - mean_absolute_error: 170.0495 - root_mean_squared_error: 203.1185 - mean_absolute_percentage_error: 34897200.0000 - val_loss: 36641.1016 - val_mean_absolute_error: 160.4463 - val_root_mean_squared_error: 191.4186 - val_mean_absolute_percentage_error: 3462613.2500\n",
      "Epoch 3/100\n",
      "778/778 [==============================] - 58s 74ms/step - loss: 32208.1504 - mean_absolute_error: 146.0748 - root_mean_squared_error: 179.4663 - mean_absolute_percentage_error: 57287872.0000 - val_loss: 28586.6719 - val_mean_absolute_error: 138.6699 - val_root_mean_squared_error: 169.0760 - val_mean_absolute_percentage_error: 5047809.5000- mean_absolute_error: 148.0172 - root_mean_squared - ETA: 8s - loss: 32853.4141 \n",
      "Epoch 4/100\n",
      "778/778 [==============================] - 58s 74ms/step - loss: 25380.3965 - mean_absolute_error: 128.7317 - root_mean_squared_error: 159.3123 - mean_absolute_percentage_error: 75930640.0000 - val_loss: 22419.8145 - val_mean_absolute_error: 121.6050 - val_root_mean_squared_error: 149.7325 - val_mean_absolute_percentage_error: 5660460.0000\n",
      "Epoch 5/100\n",
      "778/778 [==============================] - 60s 77ms/step - loss: 19817.7109 - mean_absolute_error: 111.1657 - root_mean_squared_error: 140.7755 - mean_absolute_percentage_error: 72348688.0000 - val_loss: 17210.8125 - val_mean_absolute_error: 103.1353 - val_root_mean_squared_error: 131.1900 - val_mean_absolute_percentage_error: 4858676.5000\n",
      "Epoch 6/100\n",
      "778/778 [==============================] - 58s 75ms/step - loss: 15147.0801 - mean_absolute_error: 94.1313 - root_mean_squared_error: 123.0735 - mean_absolute_percentage_error: 65863456.0000 - val_loss: 13039.8916 - val_mean_absolute_error: 87.2460 - val_root_mean_squared_error: 114.1923 - val_mean_absolute_percentage_error: 4879168.5000.4445 - mean_absolute_per - ETA: 0s - loss: 15178.1309 - mean_absolute_error: 94.2447 - root_mean_squared_error: 123.1996 - mean_absolute_percentage_erro\n",
      "Epoch 7/100\n",
      "778/778 [==============================] - 57s 73ms/step - loss: 11461.1670 - mean_absolute_error: 79.6167 - root_mean_squared_error: 107.0568 - mean_absolute_percentage_error: 62511092.0000 - val_loss: 9799.5020 - val_mean_absolute_error: 73.6417 - val_root_mean_squared_error: 98.9925 - val_mean_absolute_percentage_error: 4841285.0000oss: 12571.2939 - mean_absolute_error: 84.3780 - root_mean_squared_error: 112.1218 - mean_absolute_percentage_er - ETA: 33s - loss: 12481.1904 - mean_absolute_error: - ETA: 25s - loss: 12252.0107 - m - ETA: 2s - loss: 11483.4561 - mean_absolute_error: 79.6800 - root_mean_squared_e - ETA: 0s - loss: 11453.3740 - mean_absolute_error: 79.5789 - root_mean_squared_error: 107.0204 - mean_absolute_percentage_error: 6219847\n",
      "Epoch 8/100\n",
      "778/778 [==============================] - 58s 75ms/step - loss: 8585.8379 - mean_absolute_error: 67.2158 - root_mean_squared_error: 92.6598 - mean_absolute_percentage_error: 60839740.0000 - val_loss: 7317.8408 - val_mean_absolute_error: 62.1059 - val_root_mean_squared_error: 85.5444 - val_mean_absolute_percentage_error: 4682496.0000\n",
      "Epoch 9/100\n",
      "778/778 [==============================] - 57s 73ms/step - loss: 6392.1470 - mean_absolute_error: 56.7085 - root_mean_squared_error: 79.9509 - mean_absolute_percentage_error: 60487444.0000 - val_loss: 5473.7485 - val_mean_absolute_error: 52.4913 - val_root_mean_squared_error: 73.9848 - val_mean_absolute_percentage_error: 4562493.5000\n",
      "Epoch 10/100\n",
      "778/778 [==============================] - 59s 76ms/step - loss: 4764.7295 - mean_absolute_error: 48.0690 - root_mean_squared_error: 69.0270 - mean_absolute_percentage_error: 60823112.0000 - val_loss: 4136.5728 - val_mean_absolute_error: 44.8785 - val_root_mean_squared_error: 64.3162 - val_mean_absolute_percentage_error: 4538743.50008566 - root_mean_squared_error: 73.9815 - mean_absolute_percentage_error: 4 - ETA: 47s - loss: 5454.8159 - mean_ab - ETA: 33s - - ETA: 4s - loss: 4840.0625 - mean_absolute_error: 48.4706 - root_mean_squared_error: - ETA: 2s - loss: 4804.7603 - mean_absolute_error: 48.2855 - root_mean_squared_error: 69.3164 - mean_ab - ETA: 0s - loss: 4780.5874 - mean_absolute_error: 48.1648 - root_mean_squared_error: 69.1418 - mean_absolute_percentage_erro - ETA: 0s - loss: 4768.2417 - mean_absolute_error: 48.0909 - root_mean_squared_error: 69.0525 - mean_absolute_percentage_error: 6059552\n",
      "Epoch 11/100\n",
      "778/778 [==============================] - 59s 76ms/step - loss: 3596.2031 - mean_absolute_error: 41.3979 - root_mean_squared_error: 59.9683 - mean_absolute_percentage_error: 61664496.0000 - val_loss: 3204.6843 - val_mean_absolute_error: 39.3012 - val_root_mean_squared_error: 56.6099 - val_mean_absolute_percentage_error: 4555099.00003723 - mean_absolute_percentage_error: 56550696.00 - ETA: 30s - loss: 3887.8994 - mean - ETA: 21s - loss: 3829.6072 - mean_absolute_error: 42.8159 - root_mean_squared_error: 61.8838 - mean_absolute_percentage_error: 56607668. - ETA: 21s - loss: 3825.4011 - mean_absolute - ETA: 13s - loss: 3716.1169 - mean_absolute_error: 42.1100 - root_mean_squared_error: 60.9599 - mean_absolute_ - ETA: 10s - loss: 3685.3418 - mean_absolute_error: 41.9253 - root_mean_squared_error: 60.7070 - mean_absolute_p - ETA: 9s - loss: 3668.4241 - mean_absolute_error: 41.8406 - root_mean_squared_error: 60.5675 - mean_absolute_percentage_erro - ETA: 8s - loss: 3658.9004 - ETA: 4s - loss: 3626.3875 -\n",
      "Epoch 12/100\n",
      "778/778 [==============================] - 56s 73ms/step - loss: 2772.3347 - mean_absolute_error: 36.4242 - root_mean_squared_error: 52.6530 - mean_absolute_percentage_error: 62355980.0000 - val_loss: 2561.0549 - val_mean_absolute_error: 35.1027 - val_root_mean_squared_error: 50.6069 - val_mean_absolute_percentage_error: 4554204.5000- loss: 2928.8000 - mean_absolute_error: 37.2839 - root_mean_squared_error: 54.1184 - mean_absolut - ETA: 47s - loss: 3015.3284 - mean_absolute_error: 37.8049 - root_mean_squared_error: 54. - ETA: 31s - loss: 2972.8320 - mean_absolute_error: 37.6746 - root_mean_squared_error: 54.5237 - mean_absolute_percenta - ETA: 29s - loss: 2973.5547 -  - ETA: 21s - loss: 2908.8044 - mean_absolute_error: 37.2989 - root_mean_squared_error: 53.9333 - mean_absolut - ETA: 19s - loss: 2882.2207 - mean_absolute_error: 37.1062 - root_mean - ETA: 13s - loss: 2845.1765 - mean_absolute_error: 36.8734 - root_mean_squared_error: 53.3402 - mean_absolute_percentage_\n",
      "Epoch 13/100\n",
      "778/778 [==============================] - 56s 72ms/step - loss: 2185.9246 - mean_absolute_error: 32.5785 - root_mean_squared_error: 46.7539 - mean_absolute_percentage_error: 62675956.0000 - val_loss: 2099.7468 - val_mean_absolute_error: 32.0043 - val_root_mean_squared_error: 45.8230 - val_mean_absolute_percentage_error: 4549119.0000\n",
      "Epoch 14/100\n",
      "778/778 [==============================] - 59s 76ms/step - loss: 1763.1537 - mean_absolute_error: 29.5820 - root_mean_squared_error: 41.9899 - mean_absolute_percentage_error: 62633460.0000 - val_loss: 1775.0326 - val_mean_absolute_error: 29.5837 - val_root_mean_squared_error: 42.1311 - val_mean_absolute_percentage_error: 4536531.0000\n",
      "Epoch 15/100\n",
      "778/778 [==============================] - 58s 74ms/step - loss: 1467.5422 - mean_absolute_error: 27.3227 - root_mean_squared_error: 38.3085 - mean_absolute_percentage_error: 62692012.0000 - val_loss: 1556.3109 - val_mean_absolute_error: 27.8107 - val_root_mean_squared_error: 39.4501 - val_mean_absolute_percentage_error: 4526204.0000\n",
      "Epoch 16/100\n",
      "778/778 [==============================] - 59s 76ms/step - loss: 1265.7079 - mean_absolute_error: 25.6350 - root_mean_squared_error: 35.5768 - mean_absolute_percentage_error: 62618304.0000 - val_loss: 1414.2715 - val_mean_absolute_error: 26.5758 - val_root_mean_squared_error: 37.6068 - val_mean_absolute_percentage_error: 4526150.0000_absolute_error: 26.1284 - root_mean_squared_error: 36.3069 - mean_absolute_pe - ETA: 40s - ETA: 30s - loss: 1312.0345 - mean_absolute_error:  - ETA: 12s - loss: 1289.1019 - mean_absolute_error: 25.8755 - root_mean_squared_err - ETA: 9s - loss: 1284.5984 - mean_absolute_error: 25.8178 - root_mean_squared_error: 35.84 - ETA: 7s - loss: 1280.7842 - mean_absolute_error: 25.7781  - ETA: 4s - loss: 1276.4066 - mean_absolute_error: 25.7384 - root_mean_squared_error: 35.7269 - mean_absolute_percentage_error: 65003 - ETA: 4s - loss: 1274.6929 - mean_absolute_error: 25.7219 - root_mean_squared_error: 35.7029 - mean_ab - ETA: 2s - loss: 1269.9308 - mean_absolute_error: 25.6788 - root\n",
      "Epoch 17/100\n",
      "778/778 [==============================] - 57s 74ms/step - loss: 1128.6423 - mean_absolute_error: 24.4051 - root_mean_squared_error: 33.5953 - mean_absolute_percentage_error: 62691268.0000 - val_loss: 1316.5060 - val_mean_absolute_error: 25.6164 - val_root_mean_squared_error: 36.2837 - val_mean_absolute_percentage_error: 4536136.0000\n",
      "Epoch 18/100\n",
      "778/778 [==============================] - 60s 77ms/step - loss: 1039.0693 - mean_absolute_error: 23.5213 - root_mean_squared_error: 32.2346 - mean_absolute_percentage_error: 62761392.0000 - val_loss: 1266.3394 - val_mean_absolute_error: 25.0460 - val_root_mean_squared_error: 35.5857 - val_mean_absolute_percentage_error: 4540502.5000\n",
      "Epoch 19/100\n",
      "778/778 [==============================] - 56s 72ms/step - loss: 980.4466 - mean_absolute_error: 22.8902 - root_mean_squared_error: 31.3121 - mean_absolute_percentage_error: 62805172.0000 - val_loss: 1227.4447 - val_mean_absolute_error: 24.5410 - val_root_mean_squared_error: 35.0349 - val_mean_absolute_percentage_error: 4539411.5000\n",
      "Epoch 20/100\n",
      "778/778 [==============================] - 56s 72ms/step - loss: 941.5911 - mean_absolute_error: 22.4307 - root_mean_squared_error: 30.6853 - mean_absolute_percentage_error: 62829756.0000 - val_loss: 1202.5403 - val_mean_absolute_error: 24.2464 - val_root_mean_squared_error: 34.6777 - val_mean_absolute_percentage_error: 4543963.5000lute_percentage_err\n",
      "Epoch 21/100\n",
      "778/778 [==============================] - 56s 72ms/step - loss: 915.6525 - mean_absolute_error: 22.1049 - root_mean_squared_error: 30.2598 - mean_absolute_percentage_error: 62805980.0000 - val_loss: 1199.5374 - val_mean_absolute_error: 24.1476 - val_root_mean_squared_error: 34.6343 - val_mean_absolute_percentage_error: 4505038.0000\n",
      "Epoch 22/100\n",
      "778/778 [==============================] - 60s 77ms/step - loss: 898.1507 - mean_absolute_error: 21.8809 - root_mean_squared_error: 29.9692 - mean_absolute_percentage_error: 62515432.0000 - val_loss: 1190.2838 - val_mean_absolute_error: 23.9918 - val_root_mean_squared_error: 34.5005 - val_mean_absolute_percentage_error: 4477076.000023 - root_mean_squared_error: 29.9852 - mean_absolute_percentage_error: 635577 - ETA: 4s - loss: 898.7542 - mean_absolute_error: 21.8932 - root_mean_squared_error: 29.9792 - mean_absolute_percentage_error:  - ETA: 3s - loss: 898.4501 - mean_absolute_error: 21.8896 - root_mean_squared_error: 29.9742 - mean_absolute_percentage_error: 63214952. - ETA: 3s - loss: 899.4356 - mean_absolute_error: 21.9009 - root_mean_squared_error: 29.\n",
      "Epoch 23/100\n",
      "778/778 [==============================] - 58s 75ms/step - loss: 886.1655 - mean_absolute_error: 21.7208 - root_mean_squared_error: 29.7685 - mean_absolute_percentage_error: 62357760.0000 - val_loss: 1182.1670 - val_mean_absolute_error: 23.9237 - val_root_mean_squared_error: 34.3827 - val_mean_absolute_percentage_error: 4456804.0000\n",
      "Epoch 24/100\n",
      "778/778 [==============================] - 58s 75ms/step - loss: 876.8940 - mean_absolute_error: 21.6060 - root_mean_squared_error: 29.6124 - mean_absolute_percentage_error: 62110356.0000 - val_loss: 1182.4565 - val_mean_absolute_error: 23.8767 - val_root_mean_squared_error: 34.3869 - val_mean_absolute_percentage_error: 4425778.5000\n",
      "Epoch 25/100\n",
      "778/778 [==============================] - 58s 74ms/step - loss: 870.1426 - mean_absolute_error: 21.5304 - root_mean_squared_error: 29.4982 - mean_absolute_percentage_error: 61976416.0000 - val_loss: 1179.4413 - val_mean_absolute_error: 23.8342 - val_root_mean_squared_error: 34.3430 - val_mean_absolute_percentage_error: 4386495.5000\n",
      "Epoch 26/100\n",
      "778/778 [==============================] - 59s 76ms/step - loss: 864.8439 - mean_absolute_error: 21.4670 - root_mean_squared_error: 29.4082 - mean_absolute_percentage_error: 61740132.0000 - val_loss: 1179.5526 - val_mean_absolute_error: 23.8230 - val_root_mean_squared_error: 34.3446 - val_mean_absolute_percentage_error: 4359661.0000\n",
      "Epoch 27/100\n",
      "778/778 [==============================] - 57s 73ms/step - loss: 859.2298 - mean_absolute_error: 21.4017 - root_mean_squared_error: 29.3126 - mean_absolute_percentage_error: 61650344.0000 - val_loss: 1174.4667 - val_mean_absolute_error: 23.7712 - val_root_mean_squared_error: 34.2705 - val_mean_absolute_percentage_error: 4320889.5000\n",
      "Epoch 28/100\n",
      "778/778 [==============================] - 57s 74ms/step - loss: 855.4041 - mean_absolute_error: 21.3622 - root_mean_squared_error: 29.2473 - mean_absolute_percentage_error: 61274712.0000 - val_loss: 1175.0676 - val_mean_absolute_error: 23.7473 - val_root_mean_squared_error: 34.2793 - val_mean_absolute_percentage_error: 4298653.0000s - loss: 851.1633 - mean_absolute_error: 21.3296 - root_mean_squared_error: 29.1747 - mean_absolute_percentage_error: 61129024 - ETA: 9s - loss: 851.5353 - mean_absolute_error: 21.3361 - root_mean_squared_error: 29.1811 - mean_absolute - ETA: 6s - loss: 852.2023 - mean_absolute_error: 21.3443 - root_mean_squared_error: 29.1925 - mean_absolute_percentage_erro - ETA: 5s - loss: 853.1786 - mean_absolute_error: 21.3570 - root_m\n",
      "Epoch 29/100\n",
      "778/778 [==============================] - 59s 76ms/step - loss: 850.7661 - mean_absolute_error: 21.3036 - root_mean_squared_error: 29.1679 - mean_absolute_percentage_error: 61338812.0000 - val_loss: 1178.6743 - val_mean_absolute_error: 23.7778 - val_root_mean_squared_error: 34.3318 - val_mean_absolute_percentage_error: 4261548.5000\n",
      "Epoch 30/100\n",
      "778/778 [==============================] - 59s 76ms/step - loss: 846.9769 - mean_absolute_error: 21.2604 - root_mean_squared_error: 29.1029 - mean_absolute_percentage_error: 61118504.0000 - val_loss: 1172.4325 - val_mean_absolute_error: 23.7203 - val_root_mean_squared_error: 34.2408 - val_mean_absolute_percentage_error: 4240473.0000solute_error: 21.2925 - root_mean_squared_error: 29.1 - ETA: 1s - loss: 848.4409 - mean_absolute_error: 21.2757 - root_mean_squared_error: 29.1280 - mean_absolute_percenta\n",
      "Epoch 31/100\n",
      "778/778 [==============================] - 56s 72ms/step - loss: 843.7798 - mean_absolute_error: 21.2207 - root_mean_squared_error: 29.0479 - mean_absolute_percentage_error: 61000836.0000 - val_loss: 1168.3328 - val_mean_absolute_error: 23.6765 - val_root_mean_squared_error: 34.1809 - val_mean_absolute_percentage_error: 4209429.5000e - ETA: 8s - loss: 846.210\n",
      "Epoch 32/100\n",
      "778/778 [==============================] - 57s 73ms/step - loss: 840.6068 - mean_absolute_error: 21.1855 - root_mean_squared_error: 28.9932 - mean_absolute_percentage_error: 60858000.0000 - val_loss: 1171.2856 - val_mean_absolute_error: 23.6767 - val_root_mean_squared_error: 34.2241 - val_mean_absolute_percentage_error: 4193451.7500 - mean_absolute_error: 21.2401 - root_mean_squared_error: 29. - ETA: 20s - loss: 843.5323 - ET\n",
      "Epoch 33/100\n",
      "778/778 [==============================] - 56s 72ms/step - loss: 837.3740 - mean_absolute_error: 21.1475 - root_mean_squared_error: 28.9374 - mean_absolute_percentage_error: 60742112.0000 - val_loss: 1166.4656 - val_mean_absolute_error: 23.6349 - val_root_mean_squared_error: 34.1536 - val_mean_absolute_percentage_error: 4178065.2500ute_percentage_error: \n",
      "Epoch 34/100\n"
     ]
    },
    {
     "name": "stdout",
     "output_type": "stream",
     "text": [
      "778/778 [==============================] - 57s 74ms/step - loss: 834.3495 - mean_absolute_error: 21.1160 - root_mean_squared_error: 28.8851 - mean_absolute_percentage_error: 60697564.0000 - val_loss: 1168.7664 - val_mean_absolute_error: 23.6337 - val_root_mean_squared_error: 34.1872 - val_mean_absolute_percentage_error: 4155167.2500\n",
      "Epoch 35/100\n",
      "778/778 [==============================] - 61s 78ms/step - loss: 831.9349 - mean_absolute_error: 21.0821 - root_mean_squared_error: 28.8433 - mean_absolute_percentage_error: 60468516.0000 - val_loss: 1167.4814 - val_mean_absolute_error: 23.6405 - val_root_mean_squared_error: 34.1684 - val_mean_absolute_percentage_error: 4163171.5000\n",
      "Epoch 36/100\n",
      "778/778 [==============================] - 58s 74ms/step - loss: 829.0396 - mean_absolute_error: 21.0536 - root_mean_squared_error: 28.7931 - mean_absolute_percentage_error: 60510808.0000 - val_loss: 1162.0317 - val_mean_absolute_error: 23.5593 - val_root_mean_squared_error: 34.0886 - val_mean_absolute_percentage_error: 4143571.7500\n",
      "Epoch 37/100\n",
      "778/778 [==============================] - 57s 73ms/step - loss: 826.2162 - mean_absolute_error: 21.0146 - root_mean_squared_error: 28.7440 - mean_absolute_percentage_error: 60398644.0000 - val_loss: 1163.3055 - val_mean_absolute_error: 23.5596 - val_root_mean_squared_error: 34.1073 - val_mean_absolute_percentage_error: 4118577.7500ot_mean_squa - ETA: 4s - loss: 826.4925 - mean_absolute_error: 21.0241 - root_mean_squared_e\n",
      "Epoch 38/100\n",
      "778/778 [==============================] - 58s 74ms/step - loss: 823.7866 - mean_absolute_error: 20.9814 - root_mean_squared_error: 28.7017 - mean_absolute_percentage_error: 60277276.0000 - val_loss: 1159.9531 - val_mean_absolute_error: 23.5389 - val_root_mean_squared_error: 34.0581 - val_mean_absolute_percentage_error: 4131502.2500\n",
      "Epoch 39/100\n",
      "778/778 [==============================] - 60s 77ms/step - loss: 820.8731 - mean_absolute_error: 20.9556 - root_mean_squared_error: 28.6509 - mean_absolute_percentage_error: 60312948.0000 - val_loss: 1161.0999 - val_mean_absolute_error: 23.5183 - val_root_mean_squared_error: 34.0749 - val_mean_absolute_percentage_error: 4105409.5000\n",
      "Epoch 40/100\n",
      "778/778 [==============================] - 58s 75ms/step - loss: 818.6367 - mean_absolute_error: 20.9265 - root_mean_squared_error: 28.6118 - mean_absolute_percentage_error: 60199604.0000 - val_loss: 1158.0880 - val_mean_absolute_error: 23.5220 - val_root_mean_squared_error: 34.0307 - val_mean_absolute_percentage_error: 4086758.5000\n",
      "Epoch 41/100\n",
      "778/778 [==============================] - 59s 76ms/step - loss: 817.0121 - mean_absolute_error: 20.9032 - root_mean_squared_error: 28.5834 - mean_absolute_percentage_error: 60163032.0000 - val_loss: 1161.8959 - val_mean_absolute_error: 23.5108 - val_root_mean_squared_error: 34.0866 - val_mean_absolute_percentage_error: 4069301.5000 mean_absolute_error: 20.9092 - root_mean_squared_error: 28.5961 - mean_absolute_percentage_error: 60481652\n",
      "Epoch 42/100\n",
      "778/778 [==============================] - 57s 74ms/step - loss: 814.5667 - mean_absolute_error: 20.8719 - root_mean_squared_error: 28.5406 - mean_absolute_percentage_error: 60056684.0000 - val_loss: 1158.3726 - val_mean_absolute_error: 23.5048 - val_root_mean_squared_error: 34.0349 - val_mean_absolute_percentage_error: 4064986.5000015 - mean_absolute_error: 20.8674 - root_mean_squared_error: 28.5605 - mean_abs - ETA: 4s - loss: 815.0402 - mean_absolute_error: 20.8671 - root_mean_squ\n",
      "Epoch 43/100\n",
      "778/778 [==============================] - 60s 77ms/step - loss: 812.6268 - mean_absolute_error: 20.8512 - root_mean_squared_error: 28.5066 - mean_absolute_percentage_error: 60171664.0000 - val_loss: 1160.8907 - val_mean_absolute_error: 23.5098 - val_root_mean_squared_error: 34.0718 - val_mean_absolute_percentage_error: 4068360.7500ean_abso - ETA: 5s - loss: 809.6734 - mean_absolute_error: 20.8096 - root_mean_squared_e\n",
      "Epoch 44/100\n",
      "778/778 [==============================] - 57s 73ms/step - loss: 809.9859 - mean_absolute_error: 20.8234 - root_mean_squared_error: 28.4602 - mean_absolute_percentage_error: 60104256.0000 - val_loss: 1158.1086 - val_mean_absolute_error: 23.4621 - val_root_mean_squared_error: 34.0310 - val_mean_absolute_percentage_error: 4059799.0000\n",
      "Epoch 45/100\n",
      "778/778 [==============================] - 58s 74ms/step - loss: 807.9104 - mean_absolute_error: 20.7975 - root_mean_squared_error: 28.4238 - mean_absolute_percentage_error: 60012284.0000 - val_loss: 1161.6151 - val_mean_absolute_error: 23.5139 - val_root_mean_squared_error: 34.0825 - val_mean_absolute_percentage_error: 4060558.7500root_mean_squared_error: 27.4752 - mean_absolute_percentage_error: 5846583 - ETA: 47s - loss: 760.3900 - mean_absolute_error: 20.2179 - root_mean_squared_error: 27.5752 - mean_absolute_p - ETA: 45s - loss: 768.5602 - mean_ - ETA: 41s - loss: 800.5225 - mean_ab - ETA: 37s - loss: 807.2657 - mean_absolute_error: 20.8010 - root_mean_squared_error: 28.4124 - mean_absolute_percentage_error: 5 - ETA: 37s - loss: 805.0037 - mean_absolute_error: 20.7725 - root_mean_squared_erro - ETA: 35s - loss: 801.2828 - mean_ - ETA: 31s - loss: 815.5500 - mean_absolute_error: 20.8439 - root_mean_square - ETA: 29s - loss: 811.8964 - mean_absolute_error: 20.8259  - ETA: 26s - loss: 816.7721 - mean_absolute_error: 20.8465 - root_mean_squared_error: 28.5 - ETA: 5s - loss: 809.5922 - mean_absolute_error: 20.7977 - root_mea\n",
      "Epoch 46/100\n",
      "778/778 [==============================] - 57s 73ms/step - loss: 805.9555 - mean_absolute_error: 20.7723 - root_mean_squared_error: 28.3893 - mean_absolute_percentage_error: 59891588.0000 - val_loss: 1154.4255 - val_mean_absolute_error: 23.4262 - val_root_mean_squared_error: 33.9768 - val_mean_absolute_percentage_error: 4084343.5000\n",
      "Epoch 47/100\n",
      "778/778 [==============================] - 61s 79ms/step - loss: 804.7856 - mean_absolute_error: 20.7598 - root_mean_squared_error: 28.3687 - mean_absolute_percentage_error: 60111464.0000 - val_loss: 1157.0814 - val_mean_absolute_error: 23.4317 - val_root_mean_squared_error: 34.0159 - val_mean_absolute_percentage_error: 4030962.7500\n",
      "Epoch 48/100\n",
      "778/778 [==============================] - 57s 73ms/step - loss: 802.4596 - mean_absolute_error: 20.7274 - root_mean_squared_error: 28.3277 - mean_absolute_percentage_error: 59975216.0000 - val_loss: 1162.8699 - val_mean_absolute_error: 23.5521 - val_root_mean_squared_error: 34.1009 - val_mean_absolute_percentage_error: 4041604.7500d_error: 28.0979 - mean_absolute_percentage_er - ETA: 22s -  - ETA: 17s - loss - ETA: 13s - loss: 794.857 - ETA: 7s - loss: 800.2858 - mean_absolute_error: 20.7106 - root_mean_squared_error: 28.2893 - mean_absolute_percentage_error: 57639824.0 - ETA: 7s - loss: 800.5447 - mean_absolute\n",
      "Epoch 49/100\n",
      "778/778 [==============================] - 58s 74ms/step - loss: 799.8053 - mean_absolute_error: 20.6998 - root_mean_squared_error: 28.2808 - mean_absolute_percentage_error: 59907516.0000 - val_loss: 1170.4905 - val_mean_absolute_error: 23.6019 - val_root_mean_squared_error: 34.2124 - val_mean_absolute_percentage_error: 4027496.0000\n",
      "Epoch 50/100\n",
      "778/778 [==============================] - 58s 74ms/step - loss: 797.3725 - mean_absolute_error: 20.6768 - root_mean_squared_error: 28.2378 - mean_absolute_percentage_error: 59329452.0000 - val_loss: 1144.4501 - val_mean_absolute_error: 23.3516 - val_root_mean_squared_error: 33.8297 - val_mean_absolute_percentage_error: 3839300.2500\n",
      "Epoch 51/100\n",
      "778/778 [==============================] - 59s 76ms/step - loss: 790.6599 - mean_absolute_error: 20.5831 - root_mean_squared_error: 28.1187 - mean_absolute_percentage_error: 59558724.0000 - val_loss: 1134.0227 - val_mean_absolute_error: 23.2465 - val_root_mean_squared_error: 33.6752 - val_mean_absolute_percentage_error: 3907570.7500mean_absolute_error: 20.5557 - root_mean_squared_error: 28.0763 - mean_absolute_percentage_err\n",
      "Epoch 52/100\n",
      "778/778 [==============================] - 57s 73ms/step - loss: 788.2029 - mean_absolute_error: 20.5474 - root_mean_squared_error: 28.0750 - mean_absolute_percentage_error: 59896588.0000 - val_loss: 1138.0306 - val_mean_absolute_error: 23.2531 - val_root_mean_squared_error: 33.7347 - val_mean_absolute_percentage_error: 3907314.2500\n",
      "Epoch 53/100\n",
      "778/778 [==============================] - 59s 76ms/step - loss: 785.8259 - mean_absolute_error: 20.5085 - root_mean_squared_error: 28.0326 - mean_absolute_percentage_error: 59795952.0000 - val_loss: 1147.2245 - val_mean_absolute_error: 23.3597 - val_root_mean_squared_error: 33.8707 - val_mean_absolute_percentage_error: 3928522.50007.8623 - ETA: 15s - loss: 77\n",
      "Epoch 54/100\n",
      "778/778 [==============================] - 57s 74ms/step - loss: 783.6938 - mean_absolute_error: 20.4862 - root_mean_squared_error: 27.9945 - mean_absolute_percentage_error: 59870172.0000 - val_loss: 1137.8730 - val_mean_absolute_error: 23.2504 - val_root_mean_squared_error: 33.7324 - val_mean_absolute_percentage_error: 3937107.2500\n",
      "Epoch 55/100\n",
      "778/778 [==============================] - 60s 77ms/step - loss: 780.2443 - mean_absolute_error: 20.4439 - root_mean_squared_error: 27.9329 - mean_absolute_percentage_error: 59838828.0000 - val_loss: 1139.1703 - val_mean_absolute_error: 23.2582 - val_root_mean_squared_error: 33.7516 - val_mean_absolute_percentage_error: 3971760.2500\n",
      "Epoch 56/100\n",
      "778/778 [==============================] - 55s 70ms/step - loss: 778.9004 - mean_absolute_error: 20.4255 - root_mean_squared_error: 27.9088 - mean_absolute_percentage_error: 59947884.0000 - val_loss: 1131.0166 - val_mean_absolute_error: 23.2044 - val_root_mean_squared_error: 33.6306 - val_mean_absolute_percentage_error: 3954213.2500\n",
      "Epoch 57/100\n",
      "778/778 [==============================] - 43s 56ms/step - loss: 775.9821 - mean_absolute_error: 20.3939 - root_mean_squared_error: 27.8565 - mean_absolute_percentage_error: 59913540.0000 - val_loss: 1131.9548 - val_mean_absolute_error: 23.1772 - val_root_mean_squared_error: 33.6445 - val_mean_absolute_percentage_error: 3953057.7500\n",
      "Epoch 58/100\n",
      "778/778 [==============================] - 55s 70ms/step - loss: 773.5793 - mean_absolute_error: 20.3592 - root_mean_squared_error: 27.8133 - mean_absolute_percentage_error: 59822132.0000 - val_loss: 1130.5970 - val_mean_absolute_error: 23.1458 - val_root_mean_squared_error: 33.6244 - val_mean_absolute_percentage_error: 3975026.0000\n",
      "Epoch 59/100\n",
      "778/778 [==============================] - 60s 77ms/step - loss: 770.7830 - mean_absolute_error: 20.3232 - root_mean_squared_error: 27.7630 - mean_absolute_percentage_error: 59824228.0000 - val_loss: 1137.3234 - val_mean_absolute_error: 23.2013 - val_root_mean_squared_error: 33.7242 - val_mean_absolute_percentage_error: 3956849.2500.3386 - root_mean_squared_error: 27.7796 - mean_absolute_percen - ETA: 0s - loss: 771.0692 - mean_absolute_error: 20.3282 - root_mean_squared_error: 27.7681 - mean_absolute_percentage_error: 599094\n",
      "Epoch 60/100\n",
      "778/778 [==============================] - 58s 75ms/step - loss: 768.8580 - mean_absolute_error: 20.2951 - root_mean_squared_error: 27.7283 - mean_absolute_percentage_error: 59830776.0000 - val_loss: 1129.6406 - val_mean_absolute_error: 23.1585 - val_root_mean_squared_error: 33.6101 - val_mean_absolute_percentage_error: 3955732.2500\n",
      "Epoch 61/100\n",
      "778/778 [==============================] - 58s 74ms/step - loss: 766.1002 - mean_absolute_error: 20.2589 - root_mean_squared_error: 27.6785 - mean_absolute_percentage_error: 59826280.0000 - val_loss: 1131.7067 - val_mean_absolute_error: 23.1336 - val_root_mean_squared_error: 33.6409 - val_mean_absolute_percentage_error: 3962564.0000\n",
      "Epoch 62/100\n",
      "778/778 [==============================] - 57s 74ms/step - loss: 763.8244 - mean_absolute_error: 20.2313 - root_mean_squared_error: 27.6374 - mean_absolute_percentage_error: 59881512.0000 - val_loss: 1129.9470 - val_mean_absolute_error: 23.1210 - val_root_mean_squared_error: 33.6147 - val_mean_absolute_percentage_error: 3955391.0000\n",
      "Epoch 63/100\n",
      "778/778 [==============================] - 57s 73ms/step - loss: 759.9165 - mean_absolute_error: 20.1728 - root_mean_squared_error: 27.5666 - mean_absolute_percentage_error: 59223652.0000 - val_loss: 1115.6475 - val_mean_absolute_error: 23.0351 - val_root_mean_squared_error: 33.4013 - val_mean_absolute_percentage_error: 3896748.0000\n",
      "Epoch 64/100\n",
      "778/778 [==============================] - 59s 76ms/step - loss: 755.8160 - mean_absolute_error: 20.1222 - root_mean_squared_error: 27.4921 - mean_absolute_percentage_error: 59626468.0000 - val_loss: 1111.7500 - val_mean_absolute_error: 23.0106 - val_root_mean_squared_error: 33.3429 - val_mean_absolute_percentage_error: 3900401.7500\n",
      "Epoch 65/100\n",
      "778/778 [==============================] - 60s 77ms/step - loss: 753.1295 - mean_absolute_error: 20.0879 - root_mean_squared_error: 27.4432 - mean_absolute_percentage_error: 58835032.0000 - val_loss: 1116.7860 - val_mean_absolute_error: 23.0100 - val_root_mean_squared_error: 33.4184 - val_mean_absolute_percentage_error: 3902061.2500\n",
      "Epoch 66/100\n",
      "778/778 [==============================] - 57s 74ms/step - loss: 749.2938 - mean_absolute_error: 20.0367 - root_mean_squared_error: 27.3732 - mean_absolute_percentage_error: 58125292.0000 - val_loss: 1087.9255 - val_mean_absolute_error: 22.8224 - val_root_mean_squared_error: 32.9837 - val_mean_absolute_percentage_error: 3814617.5000\n",
      "Epoch 67/100\n",
      "778/778 [==============================] - 56s 72ms/step - loss: 744.4843 - mean_absolute_error: 19.9691 - root_mean_squared_error: 27.2852 - mean_absolute_percentage_error: 59596272.0000 - val_loss: 1099.7179 - val_mean_absolute_error: 22.8979 - val_root_mean_squared_error: 33.1620 - val_mean_absolute_percentage_error: 3857223.0000\n",
      "Epoch 68/100\n",
      "778/778 [==============================] - 59s 76ms/step - loss: 741.5500 - mean_absolute_error: 19.9265 - root_mean_squared_error: 27.2314 - mean_absolute_percentage_error: 59423464.0000 - val_loss: 1084.5697 - val_mean_absolute_error: 22.7723 - val_root_mean_squared_error: 32.9328 - val_mean_absolute_percentage_error: 3858543.0000\n",
      "Epoch 69/100\n",
      "778/778 [==============================] - 57s 74ms/step - loss: 741.3168 - mean_absolute_error: 19.9328 - root_mean_squared_error: 27.2271 - mean_absolute_percentage_error: 59687792.0000 - val_loss: 1087.3070 - val_mean_absolute_error: 22.9276 - val_root_mean_squared_error: 32.9743 - val_mean_absolute_percentage_error: 3609214.7500\n",
      "Epoch 70/100\n",
      "778/778 [==============================] - 58s 74ms/step - loss: 732.6928 - mean_absolute_error: 19.8088 - root_mean_squared_error: 27.0683 - mean_absolute_percentage_error: 59143500.0000 - val_loss: 1070.7026 - val_mean_absolute_error: 22.6554 - val_root_mean_squared_error: 32.7216 - val_mean_absolute_percentage_error: 3865668.0000\n",
      "Epoch 71/100\n",
      "778/778 [==============================] - 59s 76ms/step - loss: 729.7015 - mean_absolute_error: 19.7616 - root_mean_squared_error: 27.0130 - mean_absolute_percentage_error: 59447924.0000 - val_loss: 1069.7468 - val_mean_absolute_error: 22.6085 - val_root_mean_squared_error: 32.7070 - val_mean_absolute_percentage_error: 3885966.7500\n",
      "Epoch 72/100\n",
      "778/778 [==============================] - 60s 77ms/step - loss: 726.2260 - mean_absolute_error: 19.7104 - root_mean_squared_error: 26.9486 - mean_absolute_percentage_error: 59605588.0000 - val_loss: 1066.2690 - val_mean_absolute_error: 22.6046 - val_root_mean_squared_error: 32.6538 - val_mean_absolute_percentage_error: 3881987.5000\n",
      "Epoch 73/100\n",
      "778/778 [==============================] - 58s 74ms/step - loss: 722.5718 - mean_absolute_error: 19.6701 - root_mean_squared_error: 26.8807 - mean_absolute_percentage_error: 59422476.0000 - val_loss: 1066.2452 - val_mean_absolute_error: 22.5941 - val_root_mean_squared_error: 32.6534 - val_mean_absolute_percentage_error: 3879137.2500\n",
      "Epoch 74/100\n"
     ]
    },
    {
     "name": "stdout",
     "output_type": "stream",
     "text": [
      "778/778 [==============================] - 58s 74ms/step - loss: 720.3133 - mean_absolute_error: 19.6339 - root_mean_squared_error: 26.8386 - mean_absolute_percentage_error: 59495440.0000 - val_loss: 1081.3002 - val_mean_absolute_error: 22.8218 - val_root_mean_squared_error: 32.8831 - val_mean_absolute_percentage_error: 3894964.0000\n",
      "Epoch 75/100\n",
      "778/778 [==============================] - 57s 73ms/step - loss: 718.2810 - mean_absolute_error: 19.6046 - root_mean_squared_error: 26.8008 - mean_absolute_percentage_error: 59413160.0000 - val_loss: 1065.9586 - val_mean_absolute_error: 22.5656 - val_root_mean_squared_error: 32.6490 - val_mean_absolute_percentage_error: 3873676.7500\n",
      "Epoch 76/100\n",
      "778/778 [==============================] - 58s 75ms/step - loss: 714.8368 - mean_absolute_error: 19.5580 - root_mean_squared_error: 26.7364 - mean_absolute_percentage_error: 59393380.0000 - val_loss: 1057.5657 - val_mean_absolute_error: 22.4768 - val_root_mean_squared_error: 32.5202 - val_mean_absolute_percentage_error: 3895928.2500\n",
      "Epoch 77/100\n",
      "778/778 [==============================] - 60s 77ms/step - loss: 711.4412 - mean_absolute_error: 19.5233 - root_mean_squared_error: 26.6728 - mean_absolute_percentage_error: 58780016.0000 - val_loss: 1063.4760 - val_mean_absolute_error: 22.6408 - val_root_mean_squared_error: 32.6110 - val_mean_absolute_percentage_error: 3826613.7500\n",
      "Epoch 78/100\n",
      "778/778 [==============================] - 58s 74ms/step - loss: 706.1139 - mean_absolute_error: 19.4414 - root_mean_squared_error: 26.5728 - mean_absolute_percentage_error: 58412772.0000 - val_loss: 1054.6448 - val_mean_absolute_error: 22.5107 - val_root_mean_squared_error: 32.4753 - val_mean_absolute_percentage_error: 3832044.7500\n",
      "Epoch 79/100\n",
      "778/778 [==============================] - 57s 73ms/step - loss: 703.2227 - mean_absolute_error: 19.4082 - root_mean_squared_error: 26.5183 - mean_absolute_percentage_error: 59236048.0000 - val_loss: 1046.7169 - val_mean_absolute_error: 22.4623 - val_root_mean_squared_error: 32.3530 - val_mean_absolute_percentage_error: 3885583.7500\n",
      "Epoch 80/100\n",
      "778/778 [==============================] - 57s 73ms/step - loss: 700.2128 - mean_absolute_error: 19.3503 - root_mean_squared_error: 26.4615 - mean_absolute_percentage_error: 59204284.0000 - val_loss: 1030.6168 - val_mean_absolute_error: 22.2790 - val_root_mean_squared_error: 32.1032 - val_mean_absolute_percentage_error: 3878011.0000\n",
      "Epoch 81/100\n",
      "778/778 [==============================] - 57s 73ms/step - loss: 697.8580 - mean_absolute_error: 19.3367 - root_mean_squared_error: 26.4170 - mean_absolute_percentage_error: 59274700.0000 - val_loss: 1036.7429 - val_mean_absolute_error: 22.3765 - val_root_mean_squared_error: 32.1985 - val_mean_absolute_percentage_error: 3864498.2500\n",
      "Epoch 82/100\n",
      "778/778 [==============================] - 58s 74ms/step - loss: 696.1936 - mean_absolute_error: 19.3085 - root_mean_squared_error: 26.3855 - mean_absolute_percentage_error: 59217420.0000 - val_loss: 1030.5232 - val_mean_absolute_error: 22.2484 - val_root_mean_squared_error: 32.1018 - val_mean_absolute_percentage_error: 3930635.0000\n",
      "Epoch 83/100\n",
      "778/778 [==============================] - 57s 74ms/step - loss: 692.0378 - mean_absolute_error: 19.2465 - root_mean_squared_error: 26.3066 - mean_absolute_percentage_error: 59172232.0000 - val_loss: 1042.3994 - val_mean_absolute_error: 22.3907 - val_root_mean_squared_error: 32.2862 - val_mean_absolute_percentage_error: 3879130.0000\n",
      "Epoch 84/100\n",
      "778/778 [==============================] - 61s 79ms/step - loss: 689.6793 - mean_absolute_error: 19.2196 - root_mean_squared_error: 26.2617 - mean_absolute_percentage_error: 59012876.0000 - val_loss: 1024.2767 - val_mean_absolute_error: 22.2261 - val_root_mean_squared_error: 32.0043 - val_mean_absolute_percentage_error: 3902981.0000\n",
      "Epoch 85/100\n",
      "778/778 [==============================] - 59s 75ms/step - loss: 686.6925 - mean_absolute_error: 19.1722 - root_mean_squared_error: 26.2048 - mean_absolute_percentage_error: 59038684.0000 - val_loss: 1021.8724 - val_mean_absolute_error: 22.1776 - val_root_mean_squared_error: 31.9667 - val_mean_absolute_percentage_error: 3927678.5000\n",
      "Epoch 86/100\n",
      "778/778 [==============================] - 57s 73ms/step - loss: 684.4009 - mean_absolute_error: 19.1518 - root_mean_squared_error: 26.1611 - mean_absolute_percentage_error: 59019580.0000 - val_loss: 1020.3418 - val_mean_absolute_error: 22.1575 - val_root_mean_squared_error: 31.9428 - val_mean_absolute_percentage_error: 3905978.0000\n",
      "Epoch 87/100\n",
      "778/778 [==============================] - 57s 74ms/step - loss: 681.8755 - mean_absolute_error: 19.1090 - root_mean_squared_error: 26.1128 - mean_absolute_percentage_error: 59170624.0000 - val_loss: 1025.4152 - val_mean_absolute_error: 22.2176 - val_root_mean_squared_error: 32.0221 - val_mean_absolute_percentage_error: 3954739.7500\n",
      "Epoch 88/100\n",
      "778/778 [==============================] - 59s 76ms/step - loss: 680.5270 - mean_absolute_error: 19.0941 - root_mean_squared_error: 26.0869 - mean_absolute_percentage_error: 59008412.0000 - val_loss: 1023.6480 - val_mean_absolute_error: 22.1883 - val_root_mean_squared_error: 31.9945 - val_mean_absolute_percentage_error: 3926700.2500\n",
      "Epoch 89/100\n",
      "778/778 [==============================] - 60s 77ms/step - loss: 677.3999 - mean_absolute_error: 19.0511 - root_mean_squared_error: 26.0269 - mean_absolute_percentage_error: 58964200.0000 - val_loss: 1022.7582 - val_mean_absolute_error: 22.2230 - val_root_mean_squared_error: 31.9806 - val_mean_absolute_percentage_error: 3956151.5000 26.0453 - mean_absolute_percentage_error: 5958\n",
      "Epoch 90/100\n",
      "778/778 [==============================] - 58s 75ms/step - loss: 675.1863 - mean_absolute_error: 19.0344 - root_mean_squared_error: 25.9843 - mean_absolute_percentage_error: 59020192.0000 - val_loss: 1007.8774 - val_mean_absolute_error: 22.0413 - val_root_mean_squared_error: 31.7471 - val_mean_absolute_percentage_error: 3938334.7500\n",
      "Epoch 91/100\n",
      "778/778 [==============================] - 57s 74ms/step - loss: 672.0262 - mean_absolute_error: 18.9816 - root_mean_squared_error: 25.9235 - mean_absolute_percentage_error: 58902556.0000 - val_loss: 1013.3107 - val_mean_absolute_error: 22.1123 - val_root_mean_squared_error: 31.8325 - val_mean_absolute_percentage_error: 3853724.2500\n",
      "Epoch 92/100\n",
      "778/778 [==============================] - 57s 73ms/step - loss: 669.3954 - mean_absolute_error: 18.9352 - root_mean_squared_error: 25.8727 - mean_absolute_percentage_error: 58874348.0000 - val_loss: 1005.4374 - val_mean_absolute_error: 22.0184 - val_root_mean_squared_error: 31.7086 - val_mean_absolute_percentage_error: 3934950.5000\n",
      "Epoch 93/100\n",
      "778/778 [==============================] - 59s 75ms/step - loss: 667.1680 - mean_absolute_error: 18.9074 - root_mean_squared_error: 25.8296 - mean_absolute_percentage_error: 58996140.0000 - val_loss: 1004.6263 - val_mean_absolute_error: 22.0431 - val_root_mean_squared_error: 31.6958 - val_mean_absolute_percentage_error: 4003175.5000\n",
      "Epoch 94/100\n",
      "778/778 [==============================] - 57s 73ms/step - loss: 664.7725 - mean_absolute_error: 18.8796 - root_mean_squared_error: 25.7832 - mean_absolute_percentage_error: 58855576.0000 - val_loss: 1009.2672 - val_mean_absolute_error: 22.0523 - val_root_mean_squared_error: 31.7690 - val_mean_absolute_percentage_error: 3979404.0000\n",
      "Epoch 95/100\n",
      "778/778 [==============================] - 56s 72ms/step - loss: 662.3029 - mean_absolute_error: 18.8510 - root_mean_squared_error: 25.7352 - mean_absolute_percentage_error: 58022024.0000 - val_loss: 1005.9211 - val_mean_absolute_error: 22.0798 - val_root_mean_squared_error: 31.7163 - val_mean_absolute_percentage_error: 3905605.5000ean_squared_e - ETA: 1s - loss: 663.6497 - mean_absolute_error: 18.8710 - root_mean_squared_error: 25.7614 - mean_absolute_percentage_erro\n",
      "Epoch 96/100\n",
      "778/778 [==============================] - 58s 74ms/step - loss: 659.3706 - mean_absolute_error: 18.8122 - root_mean_squared_error: 25.6782 - mean_absolute_percentage_error: 57380424.0000 - val_loss: 997.9224 - val_mean_absolute_error: 22.0094 - val_root_mean_squared_error: 31.5899 - val_mean_absolute_percentage_error: 3943116.750008 - mean_absolute_percentage_error: 545456 - ETA: 6s - loss: 656.5787 - mean_absolute_error: 18.779\n",
      "Epoch 97/100\n",
      "778/778 [==============================] - 62s 80ms/step - loss: 657.6069 - mean_absolute_error: 18.7741 - root_mean_squared_error: 25.6439 - mean_absolute_percentage_error: 58593244.0000 - val_loss: 983.2331 - val_mean_absolute_error: 21.9012 - val_root_mean_squared_error: 31.3565 - val_mean_absolute_percentage_error: 3944925.2500\n",
      "Epoch 98/100\n",
      "778/778 [==============================] - 57s 73ms/step - loss: 653.4119 - mean_absolute_error: 18.7194 - root_mean_squared_error: 25.5619 - mean_absolute_percentage_error: 58723016.0000 - val_loss: 973.3943 - val_mean_absolute_error: 21.8044 - val_root_mean_squared_error: 31.1993 - val_mean_absolute_percentage_error: 4016899.2500 18.5823 - root_m - ETA: 20s - loss: 645.2098 - mean_absolute_err - ETA: 11s  - ETA: 3s - loss: 652.3560 - mean_absolute_error: 18.7110 - root_mean_squared_error: 25.5412 - mean_ab - ETA: 1s - loss: 651.9102 - mean_absolute_error: 18.7032 - root_mean_squared_error: 25.5325 - mean_absolute_percentage_erro\n",
      "Epoch 99/100\n",
      "778/778 [==============================] - 51s 65ms/step - loss: 651.3218 - mean_absolute_error: 18.6921 - root_mean_squared_error: 25.5210 - mean_absolute_percentage_error: 58778168.0000 - val_loss: 981.9616 - val_mean_absolute_error: 21.8801 - val_root_mean_squared_error: 31.3363 - val_mean_absolute_percentage_error: 4007544.7500\n",
      "Epoch 100/100\n",
      "778/778 [==============================] - 47s 60ms/step - loss: 648.6791 - mean_absolute_error: 18.6613 - root_mean_squared_error: 25.4692 - mean_absolute_percentage_error: 58131052.0000 - val_loss: 972.4772 - val_mean_absolute_error: 21.8251 - val_root_mean_squared_error: 31.1846 - val_mean_absolute_percentage_error: 3985237.7500\n"
     ]
    },
    {
     "data": {
      "text/plain": [
       "<keras.callbacks.History at 0x2916d784040>"
      ]
     },
     "execution_count": 96,
     "metadata": {},
     "output_type": "execute_result"
    }
   ],
   "source": [
    "model30.fit((Wt30,Xt30), yt30, validation_split = val_percent,\n",
    "            epochs = 100, \n",
    "            verbose = 1)"
   ]
  },
  {
   "cell_type": "code",
   "execution_count": 97,
   "metadata": {},
   "outputs": [],
   "source": [
    "metrics30 = pd.DataFrame(model30.history.history)"
   ]
  },
  {
   "cell_type": "code",
   "execution_count": 98,
   "metadata": {},
   "outputs": [],
   "source": [
    "# fig = plt.figure(figsize=(6,4))\n",
    "\n",
    "# # Add set of axes to figure\n",
    "# axes = fig.add_axes([0, 0, 1, 1]) \n",
    "# axes2 = fig.add_axes([0.3, 0.35, 0.5, 0.5]) # Smaller figure\n",
    "# axes.plot(metrics30[['loss','val_loss']], label=['train_loss','val_loss'], lw=4)\n",
    "# axes.set_ylim(0,4000)\n",
    "\n",
    "# axes2.plot(metrics30[['loss','val_loss']], lw=4)\n",
    "# axes2.set_xlim(0,20)\n",
    "# axes2.set_ylim(500,1500)\n",
    "# # plt.xticks(visible=False)\n",
    "# plt.yticks(visible=False)\n",
    "\n",
    "# axes.set_xlabel('Epoch')\n",
    "# axes.set_ylabel('Loss')\n",
    "# axes.grid()\n",
    "# axes2.grid()\n",
    "\n",
    "# mark_inset(axes, axes2, loc1=2, loc2=4, fc=\"0.9\", ec=\"0.1\", ls='--')\n",
    "# axes.yaxis.set_major_formatter(formatter)"
   ]
  },
  {
   "cell_type": "code",
   "execution_count": 99,
   "metadata": {},
   "outputs": [
    {
     "name": "stderr",
     "output_type": "stream",
     "text": [
      "WARNING:absl:Function `_wrapped_model` contains input name(s) WideInput, DeepInput with unsupported characters which will be renamed to wideinput, deepinput in the SavedModel.\n",
      "WARNING:absl:Found untraced functions such as lstm_cell_11_layer_call_and_return_conditional_losses, lstm_cell_11_layer_call_fn, lstm_cell_9_layer_call_and_return_conditional_losses, lstm_cell_9_layer_call_fn, lstm_cell_10_layer_call_and_return_conditional_losses while saving (showing 5 of 15). These functions will not be directly callable after loading.\n"
     ]
    },
    {
     "name": "stdout",
     "output_type": "stream",
     "text": [
      "INFO:tensorflow:Assets written to: my_dir/10a-30\\assets\n"
     ]
    },
    {
     "name": "stderr",
     "output_type": "stream",
     "text": [
      "INFO:tensorflow:Assets written to: my_dir/10a-30\\assets\n"
     ]
    }
   ],
   "source": [
    "model30.save(\"my_dir/10a-30\")"
   ]
  },
  {
   "cell_type": "code",
   "execution_count": 100,
   "metadata": {},
   "outputs": [],
   "source": [
    "model30 = keras.models.load_model(\"my_dir/10a-30\")"
   ]
  },
  {
   "cell_type": "code",
   "execution_count": 101,
   "metadata": {},
   "outputs": [
    {
     "data": {
      "text/plain": [
       "array([[ 54.21254 ,  55.082134,  60.729515, ...,  59.44064 ,  36.773853,\n",
       "         37.160862],\n",
       "       [ 51.966225,  52.86063 ,  58.438805, ...,  57.22533 ,  35.85191 ,\n",
       "         36.331104],\n",
       "       [ 53.10244 ,  54.07008 ,  59.845627, ...,  58.81686 ,  37.419804,\n",
       "         37.635464],\n",
       "       ...,\n",
       "       [143.85712 , 147.02951 , 156.04454 , ..., 155.45277 , 100.35548 ,\n",
       "         93.45484 ],\n",
       "       [134.54543 , 136.9028  , 146.34138 , ..., 147.71202 ,  93.69557 ,\n",
       "         87.114296],\n",
       "       [124.06637 , 126.31295 , 135.74872 , ..., 136.3805  ,  88.44228 ,\n",
       "         82.40748 ]], dtype=float32)"
      ]
     },
     "execution_count": 101,
     "metadata": {},
     "output_type": "execute_result"
    }
   ],
   "source": [
    "model30.predict((Wv30,Xv30))"
   ]
  },
  {
   "cell_type": "markdown",
   "metadata": {},
   "source": [
    "# 60 mins ahead"
   ]
  },
  {
   "cell_type": "code",
   "execution_count": 104,
   "metadata": {},
   "outputs": [],
   "source": [
    "def build_model_60(hp):\n",
    "    # Inputs\n",
    "    channel_Wide = keras.layers.Input(shape=Wt60.shape[1:], name=\"WideInput\")\n",
    "    channel_Deep = keras.layers.Input(shape=Xt60.shape[1:], name=\"DeepInput\")\n",
    "    units = hp.Int(\"units\", min_value=1, max_value=100, step=1)\n",
    "    \n",
    "    \n",
    "    # Wide Model\n",
    "    flatten_60w = keras.layers.TimeDistributed(keras.layers.Flatten())(channel_Wide)\n",
    "    Bi_60 = keras.layers.Bidirectional(\n",
    "        keras.layers.LSTM(units=units, return_sequences=True),\n",
    "        merge_mode=\"ave\"\n",
    "    )(flatten_60w)\n",
    "    \n",
    "    \n",
    "    # Deep Model\n",
    "    # CNN \n",
    "    CNN_60 = keras.layers.TimeDistributed(\n",
    "        keras.layers.Conv2D(filters=hp.Int(\"filters\", min_value=32, max_value=512, step=32),\n",
    "                            kernel_size=hp.Choice(\"kernel_size\", [2, 3]), activation='relu'))(channel_Deep)\n",
    "    flatten_60 = keras.layers.TimeDistributed(keras.layers.Flatten())(CNN_60)\n",
    "    # LSTM          \n",
    "    LSTM_60 = keras.layers.LSTM(units=units, return_sequences=True)(flatten_60)\n",
    "\n",
    "    \n",
    "    # Concatenation \n",
    "    concat = keras.layers.concatenate([Bi_60, LSTM_60], axis=1)\n",
    "\n",
    "    # Attention\n",
    "    Att_60 = SeqSelfAttention(attention_activation='sigmoid')(concat)\n",
    "    merge = keras.layers.Flatten()(concat)\n",
    "\n",
    "    \n",
    "    # Output\n",
    "    output = keras.layers.Dense(n_features, name= \"output\")(merge)\n",
    "    \n",
    "    # Model\n",
    "    model_60 = keras.Model(inputs=[channel_Wide,channel_Deep], outputs=[output])\n",
    "\n",
    "    # Compile\n",
    "    model_60.compile(optimizer=keras.optimizers.Adam(hp.Choice(\"learning_rate\", [1e-2, 1e-3, 1e-4])), \n",
    "        loss=\"mse\", metrics=['MeanAbsoluteError','RootMeanSquaredError','MeanAbsolutePercentageError'])\n",
    "                    \n",
    "    return model_60"
   ]
  },
  {
   "cell_type": "code",
   "execution_count": 105,
   "metadata": {},
   "outputs": [],
   "source": [
    "tuner60 = RandomSearch(\n",
    "    build_model_60,\n",
    "    objective=\"val_loss\",\n",
    "    max_trials=10,\n",
    "    executions_per_trial=2,\n",
    "    overwrite=False,\n",
    "    directory=os.path.normpath('C:/Runs'),\n",
    "    project_name=\"10a-60\",\n",
    ")"
   ]
  },
  {
   "cell_type": "code",
   "execution_count": 106,
   "metadata": {},
   "outputs": [
    {
     "name": "stdout",
     "output_type": "stream",
     "text": [
      "Search space summary\n",
      "Default search space size: 4\n",
      "units (Int)\n",
      "{'default': None, 'conditions': [], 'min_value': 1, 'max_value': 100, 'step': 1, 'sampling': 'linear'}\n",
      "filters (Int)\n",
      "{'default': None, 'conditions': [], 'min_value': 32, 'max_value': 512, 'step': 32, 'sampling': 'linear'}\n",
      "kernel_size (Choice)\n",
      "{'default': 2, 'conditions': [], 'values': [2, 3], 'ordered': True}\n",
      "learning_rate (Choice)\n",
      "{'default': 0.01, 'conditions': [], 'values': [0.01, 0.001, 0.0001], 'ordered': True}\n"
     ]
    }
   ],
   "source": [
    "tuner60.search_space_summary()"
   ]
  },
  {
   "cell_type": "code",
   "execution_count": 107,
   "metadata": {},
   "outputs": [
    {
     "name": "stdout",
     "output_type": "stream",
     "text": [
      "Trial 10 Complete [00h 31m 24s]\n",
      "val_loss: 1137.6492919921875\n",
      "\n",
      "Best val_loss So Far: 1137.6492919921875\n",
      "Total elapsed time: 12h 19m 25s\n",
      "INFO:tensorflow:Oracle triggered exit\n"
     ]
    },
    {
     "name": "stderr",
     "output_type": "stream",
     "text": [
      "INFO:tensorflow:Oracle triggered exit\n"
     ]
    }
   ],
   "source": [
    "tuner60.search((Wt60,Xt60), yt60, epochs=200,\n",
    "            validation_split = val_percent,\n",
    "            callbacks=[early_stop],\n",
    "            verbose=2)"
   ]
  },
  {
   "cell_type": "code",
   "execution_count": 108,
   "metadata": {},
   "outputs": [
    {
     "name": "stdout",
     "output_type": "stream",
     "text": [
      "Results summary\n",
      "Results in C:\\Runs\\10a-60\n",
      "Showing 1 best trials\n",
      "Objective(name=\"val_loss\", direction=\"min\")\n",
      "\n",
      "Trial 09 summary\n",
      "Hyperparameters:\n",
      "units: 27\n",
      "filters: 288\n",
      "kernel_size: 3\n",
      "learning_rate: 0.01\n",
      "Score: 1137.6492919921875\n"
     ]
    }
   ],
   "source": [
    "tuner60.results_summary(1)"
   ]
  },
  {
   "cell_type": "markdown",
   "metadata": {},
   "source": [
    "### Best model"
   ]
  },
  {
   "cell_type": "code",
   "execution_count": 109,
   "metadata": {},
   "outputs": [],
   "source": [
    "best_hp60 = tuner60.get_best_hyperparameters()[0]\n",
    "model60 = tuner60.hypermodel.build(best_hp60)"
   ]
  },
  {
   "cell_type": "code",
   "execution_count": 110,
   "metadata": {},
   "outputs": [
    {
     "data": {
      "text/plain": [
       "['Best_HP/10a-60']"
      ]
     },
     "execution_count": 110,
     "metadata": {},
     "output_type": "execute_result"
    }
   ],
   "source": [
    "scaler_filename = \"Best_HP/10a-60\"\n",
    "joblib.dump(best_hp60, scaler_filename) "
   ]
  },
  {
   "cell_type": "code",
   "execution_count": 111,
   "metadata": {},
   "outputs": [],
   "source": [
    "scaler_filename = \"Best_HP/10a-60\"\n",
    "best_hp60 = joblib.load(scaler_filename) \n",
    "\n",
    "model60 = tuner60.hypermodel.build(best_hp60)"
   ]
  },
  {
   "cell_type": "code",
   "execution_count": 112,
   "metadata": {},
   "outputs": [
    {
     "name": "stdout",
     "output_type": "stream",
     "text": [
      "Model: \"model_2\"\n",
      "__________________________________________________________________________________________________\n",
      "Layer (type)                    Output Shape         Param #     Connected to                     \n",
      "==================================================================================================\n",
      "DeepInput (InputLayer)          [(None, 3, 5, 15, 7) 0                                            \n",
      "__________________________________________________________________________________________________\n",
      "WideInput (InputLayer)          [(None, 3, 3, 7)]    0                                            \n",
      "__________________________________________________________________________________________________\n",
      "time_distributed_7 (TimeDistrib (None, 3, 3, 13, 288 18432       DeepInput[0][0]                  \n",
      "__________________________________________________________________________________________________\n",
      "time_distributed_6 (TimeDistrib (None, 3, 21)        0           WideInput[0][0]                  \n",
      "__________________________________________________________________________________________________\n",
      "time_distributed_8 (TimeDistrib (None, 3, 11232)     0           time_distributed_7[0][0]         \n",
      "__________________________________________________________________________________________________\n",
      "bidirectional_2 (Bidirectional) (None, 3, 27)        10584       time_distributed_6[0][0]         \n",
      "__________________________________________________________________________________________________\n",
      "lstm_5 (LSTM)                   (None, 3, 27)        1216080     time_distributed_8[0][0]         \n",
      "__________________________________________________________________________________________________\n",
      "concatenate_2 (Concatenate)     (None, 6, 27)        0           bidirectional_2[0][0]            \n",
      "                                                                 lstm_5[0][0]                     \n",
      "__________________________________________________________________________________________________\n",
      "flatten_8 (Flatten)             (None, 162)          0           concatenate_2[0][0]              \n",
      "__________________________________________________________________________________________________\n",
      "output (Dense)                  (None, 7)            1141        flatten_8[0][0]                  \n",
      "==================================================================================================\n",
      "Total params: 1,246,237\n",
      "Trainable params: 1,246,237\n",
      "Non-trainable params: 0\n",
      "__________________________________________________________________________________________________\n"
     ]
    }
   ],
   "source": [
    "model60.summary()"
   ]
  },
  {
   "cell_type": "code",
   "execution_count": 113,
   "metadata": {},
   "outputs": [
    {
     "name": "stdout",
     "output_type": "stream",
     "text": [
      "Epoch 1/100\n",
      "777/777 [==============================] - 65s 74ms/step - loss: 7697.1631 - mean_absolute_error: 52.5665 - root_mean_squared_error: 87.7335 - mean_absolute_percentage_error: 62097076.0000 - val_loss: 1337.0981 - val_mean_absolute_error: 25.6524 - val_root_mean_squared_error: 36.5664 - val_mean_absolute_percentage_error: 4878527.0000\n",
      "Epoch 2/100\n",
      "777/777 [==============================] - 54s 69ms/step - loss: 927.3624 - mean_absolute_error: 22.3286 - root_mean_squared_error: 30.4526 - mean_absolute_percentage_error: 62813252.0000 - val_loss: 1257.4464 - val_mean_absolute_error: 24.5371 - val_root_mean_squared_error: 35.4605 - val_mean_absolute_percentage_error: 4588735.0000\n",
      "Epoch 3/100\n",
      "777/777 [==============================] - 55s 71ms/step - loss: 877.1278 - mean_absolute_error: 21.6953 - root_mean_squared_error: 29.6163 - mean_absolute_percentage_error: 61273608.0000 - val_loss: 1224.7526 - val_mean_absolute_error: 24.2429 - val_root_mean_squared_error: 34.9965 - val_mean_absolute_percentage_error: 4272371.5000\n",
      "Epoch 4/100\n",
      "777/777 [==============================] - 58s 74ms/step - loss: 852.4941 - mean_absolute_error: 21.4027 - root_mean_squared_error: 29.1975 - mean_absolute_percentage_error: 60179508.0000 - val_loss: 1192.2808 - val_mean_absolute_error: 23.7109 - val_root_mean_squared_error: 34.5294 - val_mean_absolute_percentage_error: 4138159.2500\n",
      "Epoch 5/100\n",
      "777/777 [==============================] - 53s 68ms/step - loss: 832.1900 - mean_absolute_error: 21.0729 - root_mean_squared_error: 28.8477 - mean_absolute_percentage_error: 60608468.0000 - val_loss: 1165.8501 - val_mean_absolute_error: 23.4169 - val_root_mean_squared_error: 34.1445 - val_mean_absolute_percentage_error: 4286782.5000\n",
      "Epoch 6/100\n",
      "777/777 [==============================] - 55s 71ms/step - loss: 812.5966 - mean_absolute_error: 20.7960 - root_mean_squared_error: 28.5061 - mean_absolute_percentage_error: 60505964.0000 - val_loss: 1161.4293 - val_mean_absolute_error: 23.2293 - val_root_mean_squared_error: 34.0798 - val_mean_absolute_percentage_error: 4103123.7500\n",
      "Epoch 7/100\n",
      "777/777 [==============================] - 54s 69ms/step - loss: 803.2689 - mean_absolute_error: 20.6466 - root_mean_squared_error: 28.3420 - mean_absolute_percentage_error: 60261768.0000 - val_loss: 1155.7970 - val_mean_absolute_error: 23.0868 - val_root_mean_squared_error: 33.9970 - val_mean_absolute_percentage_error: 4015618.7500\n",
      "Epoch 8/100\n",
      "777/777 [==============================] - 58s 75ms/step - loss: 799.2961 - mean_absolute_error: 20.5931 - root_mean_squared_error: 28.2718 - mean_absolute_percentage_error: 59180300.0000 - val_loss: 1160.0560 - val_mean_absolute_error: 23.2544 - val_root_mean_squared_error: 34.0596 - val_mean_absolute_percentage_error: 3757539.2500\n",
      "Epoch 9/100\n",
      "777/777 [==============================] - 58s 74ms/step - loss: 795.1885 - mean_absolute_error: 20.5222 - root_mean_squared_error: 28.1991 - mean_absolute_percentage_error: 58768796.0000 - val_loss: 1153.2130 - val_mean_absolute_error: 23.0797 - val_root_mean_squared_error: 33.9590 - val_mean_absolute_percentage_error: 4036149.0000\n",
      "Epoch 10/100\n",
      "777/777 [==============================] - 54s 70ms/step - loss: 792.6136 - mean_absolute_error: 20.5120 - root_mean_squared_error: 28.1534 - mean_absolute_percentage_error: 58990360.0000 - val_loss: 1186.7751 - val_mean_absolute_error: 23.3458 - val_root_mean_squared_error: 34.4496 - val_mean_absolute_percentage_error: 4047016.750020.4823 - root_mean_squared_error: 28 - ETA: 0s - loss: 791.4159 - mean_absolute_error: 20.4985 - root_mean_squared_error: 28.1321 - mean_absolute_percentage_error: 587479\n",
      "Epoch 11/100\n",
      "777/777 [==============================] - 54s 69ms/step - loss: 783.6185 - mean_absolute_error: 20.4096 - root_mean_squared_error: 27.9932 - mean_absolute_percentage_error: 58798884.0000 - val_loss: 1137.6005 - val_mean_absolute_error: 23.0082 - val_root_mean_squared_error: 33.7283 - val_mean_absolute_percentage_error: 3890640.0000\n",
      "Epoch 12/100\n",
      "777/777 [==============================] - 55s 70ms/step - loss: 783.6909 - mean_absolute_error: 20.3989 - root_mean_squared_error: 27.9945 - mean_absolute_percentage_error: 58911828.0000 - val_loss: 1213.7433 - val_mean_absolute_error: 23.9955 - val_root_mean_squared_error: 34.8388 - val_mean_absolute_percentage_error: 4007805.7500\n",
      "Epoch 13/100\n",
      "777/777 [==============================] - 56s 72ms/step - loss: 782.1064 - mean_absolute_error: 20.3958 - root_mean_squared_error: 27.9662 - mean_absolute_percentage_error: 58900664.0000 - val_loss: 1180.3263 - val_mean_absolute_error: 23.5628 - val_root_mean_squared_error: 34.3559 - val_mean_absolute_percentage_error: 4071736.7500781.9880  - ETA: 5s - loss: 781.6838 - mean_absolute_error: 20.3706 - root_mean_squared\n",
      "Epoch 14/100\n",
      "777/777 [==============================] - 57s 74ms/step - loss: 779.4637 - mean_absolute_error: 20.3747 - root_mean_squared_error: 27.9189 - mean_absolute_percentage_error: 58767044.0000 - val_loss: 1148.5947 - val_mean_absolute_error: 22.9954 - val_root_mean_squared_error: 33.8909 - val_mean_absolute_percentage_error: 3594233.0000\n",
      "Epoch 15/100\n",
      "777/777 [==============================] - 55s 70ms/step - loss: 775.7292 - mean_absolute_error: 20.3161 - root_mean_squared_error: 27.8519 - mean_absolute_percentage_error: 58400884.0000 - val_loss: 1151.9022 - val_mean_absolute_error: 23.0641 - val_root_mean_squared_error: 33.9397 - val_mean_absolute_percentage_error: 3902883.0000\n",
      "Epoch 16/100\n",
      "777/777 [==============================] - 53s 68ms/step - loss: 775.5269 - mean_absolute_error: 20.3204 - root_mean_squared_error: 27.8483 - mean_absolute_percentage_error: 58260360.0000 - val_loss: 1167.0399 - val_mean_absolute_error: 23.2360 - val_root_mean_squared_error: 34.1620 - val_mean_absolute_percentage_error: 3679957.7500ror: 27.8481 - mean_absolute_percentage_error: 58330744.00\n",
      "Epoch 17/100\n",
      "777/777 [==============================] - 57s 74ms/step - loss: 768.2624 - mean_absolute_error: 20.2195 - root_mean_squared_error: 27.7176 - mean_absolute_percentage_error: 58620040.0000 - val_loss: 1176.9963 - val_mean_absolute_error: 23.4815 - val_root_mean_squared_error: 34.3074 - val_mean_absolute_percentage_error: 3524681.7500\n",
      "Epoch 18/100\n",
      "777/777 [==============================] - 54s 70ms/step - loss: 768.3529 - mean_absolute_error: 20.2168 - root_mean_squared_error: 27.7192 - mean_absolute_percentage_error: 58221716.0000 - val_loss: 1178.8774 - val_mean_absolute_error: 23.3819 - val_root_mean_squared_error: 34.3348 - val_mean_absolute_percentage_error: 3964544.5000\n",
      "Epoch 19/100\n",
      "777/777 [==============================] - 53s 68ms/step - loss: 766.2209 - mean_absolute_error: 20.2007 - root_mean_squared_error: 27.6807 - mean_absolute_percentage_error: 58284040.0000 - val_loss: 1176.2527 - val_mean_absolute_error: 23.5311 - val_root_mean_squared_error: 34.2965 - val_mean_absolute_percentage_error: 3683728.2500\n",
      "Epoch 20/100\n",
      "777/777 [==============================] - 60s 77ms/step - loss: 764.9917 - mean_absolute_error: 20.1653 - root_mean_squared_error: 27.6585 - mean_absolute_percentage_error: 58565256.0000 - val_loss: 1160.6608 - val_mean_absolute_error: 23.3037 - val_root_mean_squared_error: 34.0685 - val_mean_absolute_percentage_error: 3653028.7500\n",
      "Epoch 21/100\n",
      "777/777 [==============================] - 56s 72ms/step - loss: 764.1480 - mean_absolute_error: 20.1692 - root_mean_squared_error: 27.6432 - mean_absolute_percentage_error: 58394808.0000 - val_loss: 1168.0693 - val_mean_absolute_error: 23.3001 - val_root_mean_squared_error: 34.1770 - val_mean_absolute_percentage_error: 3780484.5000\n",
      "Epoch 22/100\n",
      "777/777 [==============================] - 58s 75ms/step - loss: 763.2142 - mean_absolute_error: 20.1743 - root_mean_squared_error: 27.6263 - mean_absolute_percentage_error: 58424944.0000 - val_loss: 1143.1637 - val_mean_absolute_error: 23.0031 - val_root_mean_squared_error: 33.8107 - val_mean_absolute_percentage_error: 4062686.0000\n",
      "Epoch 23/100\n",
      "777/777 [==============================] - 53s 68ms/step - loss: 760.4720 - mean_absolute_error: 20.1400 - root_mean_squared_error: 27.5767 - mean_absolute_percentage_error: 58301868.0000 - val_loss: 1162.4181 - val_mean_absolute_error: 23.1498 - val_root_mean_squared_error: 34.0943 - val_mean_absolute_percentage_error: 3917510.7500\n",
      "Epoch 24/100\n",
      "777/777 [==============================] - 55s 71ms/step - loss: 766.6488 - mean_absolute_error: 20.1886 - root_mean_squared_error: 27.6884 - mean_absolute_percentage_error: 58196612.0000 - val_loss: 1160.2814 - val_mean_absolute_error: 23.2648 - val_root_mean_squared_error: 34.0629 - val_mean_absolute_percentage_error: 4089901.7500\n",
      "Epoch 25/100\n",
      "777/777 [==============================] - 52s 68ms/step - loss: 759.5009 - mean_absolute_error: 20.0949 - root_mean_squared_error: 27.5590 - mean_absolute_percentage_error: 58165780.0000 - val_loss: 1148.0391 - val_mean_absolute_error: 22.9592 - val_root_mean_squared_error: 33.8827 - val_mean_absolute_percentage_error: 3886676.7500\n",
      "Epoch 26/100\n",
      "777/777 [==============================] - 60s 77ms/step - loss: 759.7940 - mean_absolute_error: 20.1074 - root_mean_squared_error: 27.5644 - mean_absolute_percentage_error: 58164488.0000 - val_loss: 1170.5070 - val_mean_absolute_error: 23.3843 - val_root_mean_squared_error: 34.2127 - val_mean_absolute_percentage_error: 3779723.7500\n",
      "Epoch 27/100\n",
      "777/777 [==============================] - 55s 71ms/step - loss: 761.6240 - mean_absolute_error: 20.1452 - root_mean_squared_error: 27.5975 - mean_absolute_percentage_error: 58083520.0000 - val_loss: 1145.8584 - val_mean_absolute_error: 23.0192 - val_root_mean_squared_error: 33.8505 - val_mean_absolute_percentage_error: 3903361.2500\n",
      "Epoch 28/100\n",
      "777/777 [==============================] - 55s 71ms/step - loss: 760.6415 - mean_absolute_error: 20.1194 - root_mean_squared_error: 27.5797 - mean_absolute_percentage_error: 58305704.0000 - val_loss: 1146.6239 - val_mean_absolute_error: 23.1678 - val_root_mean_squared_error: 33.8618 - val_mean_absolute_percentage_error: 4219316.0000\n",
      "Epoch 29/100\n",
      "777/777 [==============================] - 53s 68ms/step - loss: 757.6965 - mean_absolute_error: 20.0803 - root_mean_squared_error: 27.5263 - mean_absolute_percentage_error: 58004920.0000 - val_loss: 1162.3942 - val_mean_absolute_error: 23.1978 - val_root_mean_squared_error: 34.0939 - val_mean_absolute_percentage_error: 4187279.0000\n",
      "Epoch 30/100\n",
      "777/777 [==============================] - 58s 74ms/step - loss: 757.5609 - mean_absolute_error: 20.0612 - root_mean_squared_error: 27.5238 - mean_absolute_percentage_error: 57985248.0000 - val_loss: 1140.7438 - val_mean_absolute_error: 22.9332 - val_root_mean_squared_error: 33.7749 - val_mean_absolute_percentage_error: 4083436.5000\n",
      "Epoch 31/100\n",
      "777/777 [==============================] - 56s 72ms/step - loss: 756.1151 - mean_absolute_error: 20.0481 - root_mean_squared_error: 27.4975 - mean_absolute_percentage_error: 57894604.0000 - val_loss: 1149.7772 - val_mean_absolute_error: 23.2122 - val_root_mean_squared_error: 33.9084 - val_mean_absolute_percentage_error: 4134150.5000\n",
      "Epoch 32/100\n",
      "777/777 [==============================] - 54s 69ms/step - loss: 754.3433 - mean_absolute_error: 20.0065 - root_mean_squared_error: 27.4653 - mean_absolute_percentage_error: 58057220.0000 - val_loss: 1152.9338 - val_mean_absolute_error: 23.1980 - val_root_mean_squared_error: 33.9549 - val_mean_absolute_percentage_error: 3977344.2500\n",
      "Epoch 33/100\n",
      "777/777 [==============================] - 59s 76ms/step - loss: 754.8366 - mean_absolute_error: 20.0240 - root_mean_squared_error: 27.4743 - mean_absolute_percentage_error: 58068180.0000 - val_loss: 1152.3972 - val_mean_absolute_error: 23.0777 - val_root_mean_squared_error: 33.9470 - val_mean_absolute_percentage_error: 4144453.5000- mean_absolute_error: 20.0237 - root_mean_squared_error: 27.4822 - mean_absolute_percentage_error: 5851536\n",
      "Epoch 34/100\n",
      "777/777 [==============================] - 55s 70ms/step - loss: 752.2907 - mean_absolute_error: 20.0103 - root_mean_squared_error: 27.4279 - mean_absolute_percentage_error: 58169164.0000 - val_loss: 1130.2943 - val_mean_absolute_error: 22.9058 - val_root_mean_squared_error: 33.6199 - val_mean_absolute_percentage_error: 4316015.0000\n",
      "Epoch 35/100\n",
      "777/777 [==============================] - 58s 75ms/step - loss: 751.4012 - mean_absolute_error: 19.9968 - root_mean_squared_error: 27.4117 - mean_absolute_percentage_error: 57949688.0000 - val_loss: 1146.8068 - val_mean_absolute_error: 23.0402 - val_root_mean_squared_error: 33.8645 - val_mean_absolute_percentage_error: 4159317.0000\n",
      "Epoch 36/100\n",
      "777/777 [==============================] - 53s 69ms/step - loss: 749.3545 - mean_absolute_error: 19.9705 - root_mean_squared_error: 27.3743 - mean_absolute_percentage_error: 57727896.0000 - val_loss: 1131.6824 - val_mean_absolute_error: 22.9131 - val_root_mean_squared_error: 33.6405 - val_mean_absolute_percentage_error: 4072212.5000\n",
      "Epoch 37/100\n",
      "777/777 [==============================] - 57s 74ms/step - loss: 753.3266 - mean_absolute_error: 20.0069 - root_mean_squared_error: 27.4468 - mean_absolute_percentage_error: 57865816.0000 - val_loss: 1186.6455 - val_mean_absolute_error: 23.3770 - val_root_mean_squared_error: 34.4477 - val_mean_absolute_percentage_error: 4429358.5000- mean_absolute_error: 20.0209 - root_mean_squared_error: 27.4402 - mean_absolute_percentage_err\n",
      "Epoch 38/100\n",
      "777/777 [==============================] - 52s 67ms/step - loss: 755.6763 - mean_absolute_error: 20.0389 - root_mean_squared_error: 27.4896 - mean_absolute_percentage_error: 57712500.0000 - val_loss: 1161.6387 - val_mean_absolute_error: 23.2775 - val_root_mean_squared_error: 34.0828 - val_mean_absolute_percentage_error: 4046368.5000\n",
      "Epoch 39/100\n",
      "777/777 [==============================] - 61s 78ms/step - loss: 751.9454 - mean_absolute_error: 20.0070 - root_mean_squared_error: 27.4216 - mean_absolute_percentage_error: 57739168.0000 - val_loss: 1139.4043 - val_mean_absolute_error: 23.0097 - val_root_mean_squared_error: 33.7551 - val_mean_absolute_percentage_error: 4052091.0000\n",
      "Epoch 40/100\n",
      "777/777 [==============================] - 55s 70ms/step - loss: 751.9737 - mean_absolute_error: 19.9819 - root_mean_squared_error: 27.4221 - mean_absolute_percentage_error: 57812528.0000 - val_loss: 1149.8779 - val_mean_absolute_error: 23.1306 - val_root_mean_squared_error: 33.9099 - val_mean_absolute_percentage_error: 3862942.7500\n",
      "Epoch 41/100\n",
      "777/777 [==============================] - 52s 67ms/step - loss: 752.4473 - mean_absolute_error: 20.0054 - root_mean_squared_error: 27.4308 - mean_absolute_percentage_error: 57730688.0000 - val_loss: 1132.8046 - val_mean_absolute_error: 23.0214 - val_root_mean_squared_error: 33.6572 - val_mean_absolute_percentage_error: 4224976.0000\n",
      "Epoch 42/100\n",
      "777/777 [==============================] - 54s 70ms/step - loss: 749.5887 - mean_absolute_error: 19.9613 - root_mean_squared_error: 27.3786 - mean_absolute_percentage_error: 57897088.0000 - val_loss: 1144.4597 - val_mean_absolute_error: 23.0718 - val_root_mean_squared_error: 33.8299 - val_mean_absolute_percentage_error: 4185165.5000\n",
      "Epoch 43/100\n",
      "777/777 [==============================] - 52s 67ms/step - loss: 750.6069 - mean_absolute_error: 19.9838 - root_mean_squared_error: 27.3972 - mean_absolute_percentage_error: 57687988.0000 - val_loss: 1185.4570 - val_mean_absolute_error: 23.6762 - val_root_mean_squared_error: 34.4305 - val_mean_absolute_percentage_error: 4056518.7500_error: 27.4323 - mean_absol\n",
      "Epoch 44/100\n",
      "777/777 [==============================] - 54s 70ms/step - loss: 747.3344 - mean_absolute_error: 19.9365 - root_mean_squared_error: 27.3374 - mean_absolute_percentage_error: 57909632.0000 - val_loss: 1139.3718 - val_mean_absolute_error: 22.9850 - val_root_mean_squared_error: 33.7546 - val_mean_absolute_percentage_error: 4154852.2500\n",
      "Epoch 45/100\n"
     ]
    },
    {
     "name": "stdout",
     "output_type": "stream",
     "text": [
      "777/777 [==============================] - 55s 71ms/step - loss: 748.0656 - mean_absolute_error: 19.9358 - root_mean_squared_error: 27.3508 - mean_absolute_percentage_error: 57850196.0000 - val_loss: 1161.2623 - val_mean_absolute_error: 23.2154 - val_root_mean_squared_error: 34.0773 - val_mean_absolute_percentage_error: 4249039.0000\n",
      "Epoch 46/100\n",
      "777/777 [==============================] - 57s 74ms/step - loss: 749.7981 - mean_absolute_error: 19.9761 - root_mean_squared_error: 27.3824 - mean_absolute_percentage_error: 57444532.0000 - val_loss: 1141.4374 - val_mean_absolute_error: 22.9332 - val_root_mean_squared_error: 33.7852 - val_mean_absolute_percentage_error: 4342391.5000\n",
      "Epoch 47/100\n",
      "777/777 [==============================] - 58s 75ms/step - loss: 748.5167 - mean_absolute_error: 19.9485 - root_mean_squared_error: 27.3590 - mean_absolute_percentage_error: 57989308.0000 - val_loss: 1152.7325 - val_mean_absolute_error: 23.1454 - val_root_mean_squared_error: 33.9519 - val_mean_absolute_percentage_error: 4338582.5000\n",
      "Epoch 48/100\n",
      "777/777 [==============================] - 55s 71ms/step - loss: 749.1839 - mean_absolute_error: 19.9472 - root_mean_squared_error: 27.3712 - mean_absolute_percentage_error: 57606656.0000 - val_loss: 1155.2704 - val_mean_absolute_error: 23.1896 - val_root_mean_squared_error: 33.9893 - val_mean_absolute_percentage_error: 3935933.0000\n",
      "Epoch 49/100\n",
      "777/777 [==============================] - 58s 75ms/step - loss: 748.3704 - mean_absolute_error: 19.9401 - root_mean_squared_error: 27.3564 - mean_absolute_percentage_error: 57631676.0000 - val_loss: 1129.0992 - val_mean_absolute_error: 22.9003 - val_root_mean_squared_error: 33.6021 - val_mean_absolute_percentage_error: 4336367.5000\n",
      "Epoch 50/100\n",
      "777/777 [==============================] - 55s 70ms/step - loss: 745.3914 - mean_absolute_error: 19.8965 - root_mean_squared_error: 27.3018 - mean_absolute_percentage_error: 57217592.0000 - val_loss: 1179.8882 - val_mean_absolute_error: 23.4980 - val_root_mean_squared_error: 34.3495 - val_mean_absolute_percentage_error: 4252858.5000\n",
      "Epoch 51/100\n",
      "777/777 [==============================] - 54s 70ms/step - loss: 746.8617 - mean_absolute_error: 19.9107 - root_mean_squared_error: 27.3288 - mean_absolute_percentage_error: 57228580.0000 - val_loss: 1134.4209 - val_mean_absolute_error: 22.8559 - val_root_mean_squared_error: 33.6812 - val_mean_absolute_percentage_error: 4035782.2500\n",
      "Epoch 52/100\n",
      "777/777 [==============================] - 60s 77ms/step - loss: 747.7794 - mean_absolute_error: 19.9199 - root_mean_squared_error: 27.3456 - mean_absolute_percentage_error: 57520080.0000 - val_loss: 1167.3937 - val_mean_absolute_error: 23.2513 - val_root_mean_squared_error: 34.1671 - val_mean_absolute_percentage_error: 4028735.5000\n",
      "Epoch 53/100\n",
      "777/777 [==============================] - 56s 72ms/step - loss: 746.6498 - mean_absolute_error: 19.9193 - root_mean_squared_error: 27.3249 - mean_absolute_percentage_error: 57520652.0000 - val_loss: 1126.6693 - val_mean_absolute_error: 22.8382 - val_root_mean_squared_error: 33.5659 - val_mean_absolute_percentage_error: 4387860.0000\n",
      "Epoch 54/100\n",
      "777/777 [==============================] - 52s 67ms/step - loss: 746.0121 - mean_absolute_error: 19.9011 - root_mean_squared_error: 27.3132 - mean_absolute_percentage_error: 57909852.0000 - val_loss: 1116.4672 - val_mean_absolute_error: 22.8311 - val_root_mean_squared_error: 33.4136 - val_mean_absolute_percentage_error: 3984764.0000\n",
      "Epoch 55/100\n",
      "777/777 [==============================] - 54s 69ms/step - loss: 741.2845 - mean_absolute_error: 19.8424 - root_mean_squared_error: 27.2265 - mean_absolute_percentage_error: 57533760.0000 - val_loss: 1129.2960 - val_mean_absolute_error: 22.8490 - val_root_mean_squared_error: 33.6050 - val_mean_absolute_percentage_error: 4187809.7500\n",
      "Epoch 56/100\n",
      "777/777 [==============================] - 57s 73ms/step - loss: 742.4964 - mean_absolute_error: 19.8484 - root_mean_squared_error: 27.2488 - mean_absolute_percentage_error: 57426152.0000 - val_loss: 1129.1130 - val_mean_absolute_error: 22.8208 - val_root_mean_squared_error: 33.6023 - val_mean_absolute_percentage_error: 4340518.0000\n",
      "Epoch 57/100\n",
      "777/777 [==============================] - 55s 71ms/step - loss: 743.2891 - mean_absolute_error: 19.8634 - root_mean_squared_error: 27.2633 - mean_absolute_percentage_error: 57565480.0000 - val_loss: 1142.8934 - val_mean_absolute_error: 22.9010 - val_root_mean_squared_error: 33.8067 - val_mean_absolute_percentage_error: 4236306.0000\n",
      "Epoch 58/100\n",
      "777/777 [==============================] - 58s 74ms/step - loss: 741.3391 - mean_absolute_error: 19.8554 - root_mean_squared_error: 27.2275 - mean_absolute_percentage_error: 57830244.0000 - val_loss: 1135.3363 - val_mean_absolute_error: 23.0143 - val_root_mean_squared_error: 33.6948 - val_mean_absolute_percentage_error: 4064258.2500\n",
      "Epoch 59/100\n",
      "777/777 [==============================] - 53s 68ms/step - loss: 743.9036 - mean_absolute_error: 19.8663 - root_mean_squared_error: 27.2746 - mean_absolute_percentage_error: 57916336.0000 - val_loss: 1121.9363 - val_mean_absolute_error: 22.8870 - val_root_mean_squared_error: 33.4953 - val_mean_absolute_percentage_error: 4141430.2500\n",
      "Epoch 60/100\n",
      "777/777 [==============================] - 55s 71ms/step - loss: 743.7485 - mean_absolute_error: 19.8730 - root_mean_squared_error: 27.2718 - mean_absolute_percentage_error: 57422888.0000 - val_loss: 1146.5032 - val_mean_absolute_error: 22.9975 - val_root_mean_squared_error: 33.8601 - val_mean_absolute_percentage_error: 4412801.5000\n",
      "Epoch 61/100\n",
      "777/777 [==============================] - 56s 72ms/step - loss: 742.3034 - mean_absolute_error: 19.8523 - root_mean_squared_error: 27.2452 - mean_absolute_percentage_error: 57807544.0000 - val_loss: 1117.1466 - val_mean_absolute_error: 22.7535 - val_root_mean_squared_error: 33.4237 - val_mean_absolute_percentage_error: 4395004.5000\n",
      "Epoch 62/100\n",
      "777/777 [==============================] - 54s 70ms/step - loss: 742.5075 - mean_absolute_error: 19.8609 - root_mean_squared_error: 27.2490 - mean_absolute_percentage_error: 57733520.0000 - val_loss: 1117.3079 - val_mean_absolute_error: 22.7665 - val_root_mean_squared_error: 33.4262 - val_mean_absolute_percentage_error: 4502703.0000\n",
      "Epoch 63/100\n",
      "777/777 [==============================] - 53s 69ms/step - loss: 740.8378 - mean_absolute_error: 19.8296 - root_mean_squared_error: 27.2183 - mean_absolute_percentage_error: 57598180.0000 - val_loss: 1139.5879 - val_mean_absolute_error: 22.9173 - val_root_mean_squared_error: 33.7578 - val_mean_absolute_percentage_error: 4102643.7500\n",
      "Epoch 64/100\n",
      "777/777 [==============================] - 58s 74ms/step - loss: 740.4564 - mean_absolute_error: 19.8375 - root_mean_squared_error: 27.2113 - mean_absolute_percentage_error: 57582952.0000 - val_loss: 1134.5806 - val_mean_absolute_error: 22.9246 - val_root_mean_squared_error: 33.6835 - val_mean_absolute_percentage_error: 4070400.0000\n",
      "Epoch 65/100\n",
      "777/777 [==============================] - 59s 76ms/step - loss: 739.2565 - mean_absolute_error: 19.8138 - root_mean_squared_error: 27.1893 - mean_absolute_percentage_error: 57546692.0000 - val_loss: 1125.2876 - val_mean_absolute_error: 22.8081 - val_root_mean_squared_error: 33.5453 - val_mean_absolute_percentage_error: 4165785.5000\n",
      "Epoch 66/100\n",
      "777/777 [==============================] - 54s 70ms/step - loss: 741.1303 - mean_absolute_error: 19.8462 - root_mean_squared_error: 27.2237 - mean_absolute_percentage_error: 57358840.0000 - val_loss: 1120.9070 - val_mean_absolute_error: 22.7913 - val_root_mean_squared_error: 33.4799 - val_mean_absolute_percentage_error: 4198081.5000\n",
      "Epoch 67/100\n",
      "777/777 [==============================] - 52s 67ms/step - loss: 737.0172 - mean_absolute_error: 19.7704 - root_mean_squared_error: 27.1481 - mean_absolute_percentage_error: 57686388.0000 - val_loss: 1116.4933 - val_mean_absolute_error: 22.7101 - val_root_mean_squared_error: 33.4140 - val_mean_absolute_percentage_error: 4445337.0000\n",
      "Epoch 68/100\n",
      "777/777 [==============================] - 53s 69ms/step - loss: 736.5927 - mean_absolute_error: 19.7748 - root_mean_squared_error: 27.1402 - mean_absolute_percentage_error: 57518572.0000 - val_loss: 1135.6221 - val_mean_absolute_error: 22.9754 - val_root_mean_squared_error: 33.6990 - val_mean_absolute_percentage_error: 4193993.7500\n",
      "Epoch 69/100\n",
      "777/777 [==============================] - 60s 77ms/step - loss: 736.8896 - mean_absolute_error: 19.7819 - root_mean_squared_error: 27.1457 - mean_absolute_percentage_error: 57459904.0000 - val_loss: 1142.5968 - val_mean_absolute_error: 23.0812 - val_root_mean_squared_error: 33.8023 - val_mean_absolute_percentage_error: 4642596.0000\n",
      "Epoch 70/100\n",
      "777/777 [==============================] - 53s 68ms/step - loss: 736.5029 - mean_absolute_error: 19.7702 - root_mean_squared_error: 27.1386 - mean_absolute_percentage_error: 57470364.0000 - val_loss: 1122.1058 - val_mean_absolute_error: 22.7846 - val_root_mean_squared_error: 33.4978 - val_mean_absolute_percentage_error: 4306360.5000TA: 3s - loss: 737.9508 - mean_absolute_error: 19.7930 - root_mean_squared_error: 27.1653 - mean_ab\n",
      "Epoch 71/100\n",
      "777/777 [==============================] - 58s 75ms/step - loss: 739.8973 - mean_absolute_error: 19.8160 - root_mean_squared_error: 27.2010 - mean_absolute_percentage_error: 57435564.0000 - val_loss: 1173.2952 - val_mean_absolute_error: 23.4580 - val_root_mean_squared_error: 34.2534 - val_mean_absolute_percentage_error: 4163540.5000\n",
      "Epoch 72/100\n",
      "777/777 [==============================] - 53s 68ms/step - loss: 739.4407 - mean_absolute_error: 19.8010 - root_mean_squared_error: 27.1927 - mean_absolute_percentage_error: 57176036.0000 - val_loss: 1134.3104 - val_mean_absolute_error: 22.8967 - val_root_mean_squared_error: 33.6795 - val_mean_absolute_percentage_error: 4303729.5000\n",
      "Epoch 73/100\n",
      "777/777 [==============================] - 57s 73ms/step - loss: 739.1045 - mean_absolute_error: 19.7912 - root_mean_squared_error: 27.1865 - mean_absolute_percentage_error: 57487236.0000 - val_loss: 1132.3016 - val_mean_absolute_error: 22.8634 - val_root_mean_squared_error: 33.6497 - val_mean_absolute_percentage_error: 4392977.0000\n",
      "Epoch 74/100\n",
      "777/777 [==============================] - 56s 73ms/step - loss: 737.2795 - mean_absolute_error: 19.7830 - root_mean_squared_error: 27.1529 - mean_absolute_percentage_error: 57315100.0000 - val_loss: 1140.7521 - val_mean_absolute_error: 22.9702 - val_root_mean_squared_error: 33.7750 - val_mean_absolute_percentage_error: 4377200.5000\n",
      "Epoch 75/100\n",
      "777/777 [==============================] - 54s 70ms/step - loss: 736.0510 - mean_absolute_error: 19.7614 - root_mean_squared_error: 27.1303 - mean_absolute_percentage_error: 57470848.0000 - val_loss: 1144.2810 - val_mean_absolute_error: 23.1695 - val_root_mean_squared_error: 33.8272 - val_mean_absolute_percentage_error: 4285566.0000\n",
      "Epoch 76/100\n",
      "777/777 [==============================] - 55s 70ms/step - loss: 737.0560 - mean_absolute_error: 19.7972 - root_mean_squared_error: 27.1488 - mean_absolute_percentage_error: 57612956.0000 - val_loss: 1136.7683 - val_mean_absolute_error: 22.8977 - val_root_mean_squared_error: 33.7160 - val_mean_absolute_percentage_error: 4244340.0000\n",
      "Epoch 77/100\n",
      "777/777 [==============================] - 57s 74ms/step - loss: 737.0780 - mean_absolute_error: 19.7793 - root_mean_squared_error: 27.1492 - mean_absolute_percentage_error: 57673040.0000 - val_loss: 1130.7192 - val_mean_absolute_error: 22.8456 - val_root_mean_squared_error: 33.6262 - val_mean_absolute_percentage_error: 4406416.5000\n",
      "Epoch 78/100\n",
      "777/777 [==============================] - 57s 74ms/step - loss: 735.4984 - mean_absolute_error: 19.7660 - root_mean_squared_error: 27.1201 - mean_absolute_percentage_error: 57756928.0000 - val_loss: 1132.6165 - val_mean_absolute_error: 22.8696 - val_root_mean_squared_error: 33.6544 - val_mean_absolute_percentage_error: 4425849.0000\n",
      "Epoch 79/100\n",
      "777/777 [==============================] - 53s 69ms/step - loss: 733.5922 - mean_absolute_error: 19.7230 - root_mean_squared_error: 27.0849 - mean_absolute_percentage_error: 57408092.0000 - val_loss: 1146.1348 - val_mean_absolute_error: 23.1035 - val_root_mean_squared_error: 33.8546 - val_mean_absolute_percentage_error: 4169075.2500\n",
      "Epoch 80/100\n",
      "777/777 [==============================] - 54s 70ms/step - loss: 734.0994 - mean_absolute_error: 19.7221 - root_mean_squared_error: 27.0943 - mean_absolute_percentage_error: 57617236.0000 - val_loss: 1134.5640 - val_mean_absolute_error: 22.9032 - val_root_mean_squared_error: 33.6833 - val_mean_absolute_percentage_error: 4343405.5000\n",
      "Epoch 81/100\n",
      "777/777 [==============================] - 52s 67ms/step - loss: 738.0684 - mean_absolute_error: 19.7874 - root_mean_squared_error: 27.1674 - mean_absolute_percentage_error: 57615648.0000 - val_loss: 1141.0319 - val_mean_absolute_error: 23.0179 - val_root_mean_squared_error: 33.7792 - val_mean_absolute_percentage_error: 4455767.5000\n",
      "Epoch 82/100\n",
      "777/777 [==============================] - 57s 74ms/step - loss: 735.0704 - mean_absolute_error: 19.7394 - root_mean_squared_error: 27.1122 - mean_absolute_percentage_error: 57482736.0000 - val_loss: 1122.9692 - val_mean_absolute_error: 22.8048 - val_root_mean_squared_error: 33.5107 - val_mean_absolute_percentage_error: 4649842.5000\n",
      "Epoch 83/100\n",
      "777/777 [==============================] - 54s 69ms/step - loss: 733.6632 - mean_absolute_error: 19.7211 - root_mean_squared_error: 27.0862 - mean_absolute_percentage_error: 57240336.0000 - val_loss: 1129.0841 - val_mean_absolute_error: 22.9470 - val_root_mean_squared_error: 33.6019 - val_mean_absolute_percentage_error: 4604666.0000\n",
      "Epoch 84/100\n",
      "777/777 [==============================] - 56s 72ms/step - loss: 736.4268 - mean_absolute_error: 19.7607 - root_mean_squared_error: 27.1372 - mean_absolute_percentage_error: 57356216.0000 - val_loss: 1148.8698 - val_mean_absolute_error: 23.0000 - val_root_mean_squared_error: 33.8950 - val_mean_absolute_percentage_error: 4406023.0000\n",
      "Epoch 85/100\n",
      "777/777 [==============================] - 55s 71ms/step - loss: 735.2099 - mean_absolute_error: 19.7539 - root_mean_squared_error: 27.1147 - mean_absolute_percentage_error: 57380208.0000 - val_loss: 1138.4725 - val_mean_absolute_error: 22.9413 - val_root_mean_squared_error: 33.7413 - val_mean_absolute_percentage_error: 4783191.0000\n",
      "Epoch 86/100\n",
      "777/777 [==============================] - 53s 68ms/step - loss: 734.9603 - mean_absolute_error: 19.7534 - root_mean_squared_error: 27.1102 - mean_absolute_percentage_error: 57302768.0000 - val_loss: 1142.9393 - val_mean_absolute_error: 23.0958 - val_root_mean_squared_error: 33.8074 - val_mean_absolute_percentage_error: 4452408.5000\n",
      "Epoch 87/100\n",
      "777/777 [==============================] - 58s 75ms/step - loss: 736.0956 - mean_absolute_error: 19.7597 - root_mean_squared_error: 27.1311 - mean_absolute_percentage_error: 57362568.0000 - val_loss: 1173.0614 - val_mean_absolute_error: 23.3865 - val_root_mean_squared_error: 34.2500 - val_mean_absolute_percentage_error: 4337861.5000\n",
      "Epoch 88/100\n",
      "777/777 [==============================] - 51s 66ms/step - loss: 737.3719 - mean_absolute_error: 19.7845 - root_mean_squared_error: 27.1546 - mean_absolute_percentage_error: 57652260.0000 - val_loss: 1144.2451 - val_mean_absolute_error: 22.9736 - val_root_mean_squared_error: 33.8267 - val_mean_absolute_percentage_error: 4280580.5000\n",
      "Epoch 89/100\n",
      "777/777 [==============================] - 45s 58ms/step - loss: 738.8444 - mean_absolute_error: 19.8216 - root_mean_squared_error: 27.1817 - mean_absolute_percentage_error: 57453632.0000 - val_loss: 1136.1315 - val_mean_absolute_error: 22.9596 - val_root_mean_squared_error: 33.7066 - val_mean_absolute_percentage_error: 4605928.5000\n",
      "Epoch 90/100\n",
      "777/777 [==============================] - 36s 46ms/step - loss: 734.1427 - mean_absolute_error: 19.7364 - root_mean_squared_error: 27.0951 - mean_absolute_percentage_error: 57403600.0000 - val_loss: 1156.9436 - val_mean_absolute_error: 23.0932 - val_root_mean_squared_error: 34.0139 - val_mean_absolute_percentage_error: 4316488.5000\n",
      "Epoch 91/100\n"
     ]
    },
    {
     "name": "stdout",
     "output_type": "stream",
     "text": [
      "777/777 [==============================] - 51s 66ms/step - loss: 733.4724 - mean_absolute_error: 19.7265 - root_mean_squared_error: 27.0827 - mean_absolute_percentage_error: 57513380.0000 - val_loss: 1158.0088 - val_mean_absolute_error: 23.1232 - val_root_mean_squared_error: 34.0295 - val_mean_absolute_percentage_error: 4447732.0000\n",
      "Epoch 92/100\n",
      "777/777 [==============================] - 52s 66ms/step - loss: 732.2618 - mean_absolute_error: 19.7102 - root_mean_squared_error: 27.0603 - mean_absolute_percentage_error: 57397796.0000 - val_loss: 1146.8992 - val_mean_absolute_error: 23.0014 - val_root_mean_squared_error: 33.8659 - val_mean_absolute_percentage_error: 4277010.5000\n",
      "Epoch 93/100\n",
      "777/777 [==============================] - 52s 67ms/step - loss: 733.6927 - mean_absolute_error: 19.7224 - root_mean_squared_error: 27.0868 - mean_absolute_percentage_error: 57408008.0000 - val_loss: 1126.4890 - val_mean_absolute_error: 22.8707 - val_root_mean_squared_error: 33.5632 - val_mean_absolute_percentage_error: 4531556.0000\n",
      "Epoch 94/100\n",
      "777/777 [==============================] - 51s 66ms/step - loss: 737.4938 - mean_absolute_error: 19.7736 - root_mean_squared_error: 27.1569 - mean_absolute_percentage_error: 57247316.0000 - val_loss: 1153.6022 - val_mean_absolute_error: 23.1574 - val_root_mean_squared_error: 33.9647 - val_mean_absolute_percentage_error: 4420193.0000\n",
      "Epoch 95/100\n",
      "777/777 [==============================] - 51s 65ms/step - loss: 737.6329 - mean_absolute_error: 19.7994 - root_mean_squared_error: 27.1594 - mean_absolute_percentage_error: 57800332.0000 - val_loss: 1157.3451 - val_mean_absolute_error: 23.2181 - val_root_mean_squared_error: 34.0198 - val_mean_absolute_percentage_error: 4544782.0000\n",
      "Epoch 96/100\n",
      "777/777 [==============================] - 52s 67ms/step - loss: 736.5118 - mean_absolute_error: 19.7785 - root_mean_squared_error: 27.1388 - mean_absolute_percentage_error: 57566884.0000 - val_loss: 1130.4154 - val_mean_absolute_error: 22.9016 - val_root_mean_squared_error: 33.6216 - val_mean_absolute_percentage_error: 4572248.5000\n",
      "Epoch 97/100\n",
      "777/777 [==============================] - 52s 67ms/step - loss: 736.2310 - mean_absolute_error: 19.7590 - root_mean_squared_error: 27.1336 - mean_absolute_percentage_error: 57241820.0000 - val_loss: 1143.3855 - val_mean_absolute_error: 23.1818 - val_root_mean_squared_error: 33.8140 - val_mean_absolute_percentage_error: 4421961.5000absolute_percentage_erro\n",
      "Epoch 98/100\n",
      "777/777 [==============================] - 50s 65ms/step - loss: 733.0197 - mean_absolute_error: 19.7199 - root_mean_squared_error: 27.0743 - mean_absolute_percentage_error: 57356884.0000 - val_loss: 1150.5508 - val_mean_absolute_error: 23.2428 - val_root_mean_squared_error: 33.9198 - val_mean_absolute_percentage_error: 4609810.0000\n",
      "Epoch 99/100\n",
      "777/777 [==============================] - 53s 68ms/step - loss: 734.4539 - mean_absolute_error: 19.7323 - root_mean_squared_error: 27.1008 - mean_absolute_percentage_error: 57201528.0000 - val_loss: 1151.1987 - val_mean_absolute_error: 23.0645 - val_root_mean_squared_error: 33.9293 - val_mean_absolute_percentage_error: 4550916.5000\n",
      "Epoch 100/100\n",
      "777/777 [==============================] - 51s 65ms/step - loss: 730.5728 - mean_absolute_error: 19.6819 - root_mean_squared_error: 27.0291 - mean_absolute_percentage_error: 57283368.0000 - val_loss: 1148.1235 - val_mean_absolute_error: 23.1079 - val_root_mean_squared_error: 33.8840 - val_mean_absolute_percentage_error: 4446824.500030.4009 - mean_absolute_error: 19.6932 - root_\n"
     ]
    },
    {
     "data": {
      "text/plain": [
       "<keras.callbacks.History at 0x29116757820>"
      ]
     },
     "execution_count": 113,
     "metadata": {},
     "output_type": "execute_result"
    }
   ],
   "source": [
    "model60.fit((Wt60,Xt60), yt60, validation_split = val_percent,\n",
    "            epochs = 100, \n",
    "            verbose = 1\n",
    "            )"
   ]
  },
  {
   "cell_type": "code",
   "execution_count": 114,
   "metadata": {},
   "outputs": [],
   "source": [
    "metrics60 = pd.DataFrame(model60.history.history)"
   ]
  },
  {
   "cell_type": "code",
   "execution_count": 115,
   "metadata": {},
   "outputs": [],
   "source": [
    "# fig = plt.figure(figsize=(6,4))\n",
    "\n",
    "# # Add set of axes to figure\n",
    "# axes = fig.add_axes([0, 0, 1, 1]) \n",
    "# axes2 = fig.add_axes([0.3, 0.35, 0.5, 0.5]) # Smaller figure\n",
    "# axes.plot(metrics60[['loss','val_loss']], label=['train_loss','val_loss'], lw=4)\n",
    "# axes.set_ylim(0,4000)\n",
    "\n",
    "# axes2.plot(metrics60[['loss','val_loss']], lw=4)\n",
    "# axes2.set_xlim(0,20)\n",
    "# axes2.set_ylim(500,1500)\n",
    "# # plt.xticks(visible=False)\n",
    "# plt.yticks(visible=False)\n",
    "\n",
    "# axes.set_xlabel('Epoch')\n",
    "# axes.set_ylabel('Loss')\n",
    "# axes.grid()\n",
    "# axes2.grid()\n",
    "\n",
    "# mark_inset(axes, axes2, loc1=2, loc2=4, fc=\"0.9\", ec=\"0.1\", ls='--')\n",
    "# axes.yaxis.set_major_formatter(formatter)"
   ]
  },
  {
   "cell_type": "code",
   "execution_count": 116,
   "metadata": {},
   "outputs": [
    {
     "name": "stderr",
     "output_type": "stream",
     "text": [
      "WARNING:absl:Function `_wrapped_model` contains input name(s) WideInput, DeepInput with unsupported characters which will be renamed to wideinput, deepinput in the SavedModel.\n",
      "WARNING:absl:Found untraced functions such as lstm_cell_11_layer_call_and_return_conditional_losses, lstm_cell_11_layer_call_fn, lstm_cell_9_layer_call_and_return_conditional_losses, lstm_cell_9_layer_call_fn, lstm_cell_10_layer_call_and_return_conditional_losses while saving (showing 5 of 15). These functions will not be directly callable after loading.\n"
     ]
    },
    {
     "name": "stdout",
     "output_type": "stream",
     "text": [
      "INFO:tensorflow:Assets written to: my_dir/10a-60\\assets\n"
     ]
    },
    {
     "name": "stderr",
     "output_type": "stream",
     "text": [
      "INFO:tensorflow:Assets written to: my_dir/10a-60\\assets\n"
     ]
    }
   ],
   "source": [
    "model60.save(\"my_dir/10a-60\")"
   ]
  },
  {
   "cell_type": "code",
   "execution_count": 117,
   "metadata": {},
   "outputs": [],
   "source": [
    "model60 = keras.models.load_model(\"my_dir/10a-60\")"
   ]
  },
  {
   "cell_type": "code",
   "execution_count": 118,
   "metadata": {},
   "outputs": [
    {
     "data": {
      "text/plain": [
       "array([[ 50.806084,  52.57669 ,  58.162888, ...,  55.658173,  34.18853 ,\n",
       "         32.66595 ],\n",
       "       [ 51.767876,  53.36006 ,  59.14941 , ...,  56.383972,  35.09823 ,\n",
       "         33.7865  ],\n",
       "       [ 49.692398,  51.361984,  56.775497, ...,  55.296703,  34.078228,\n",
       "         32.786762],\n",
       "       ...,\n",
       "       [137.15553 , 142.36897 , 152.10564 , ..., 148.57814 ,  96.28397 ,\n",
       "         88.14984 ],\n",
       "       [128.92668 , 134.31769 , 142.95769 , ..., 140.7562  ,  92.04637 ,\n",
       "         84.84946 ],\n",
       "       [122.21385 , 125.68692 , 133.41643 , ..., 128.0332  ,  84.735916,\n",
       "         78.06212 ]], dtype=float32)"
      ]
     },
     "execution_count": 118,
     "metadata": {},
     "output_type": "execute_result"
    }
   ],
   "source": [
    "model60.predict((Wv60,Xv60))"
   ]
  },
  {
   "cell_type": "markdown",
   "metadata": {},
   "source": [
    "## Save Loss"
   ]
  },
  {
   "cell_type": "code",
   "execution_count": null,
   "metadata": {},
   "outputs": [],
   "source": [
    "# metrics5.to_csv('Loss/8a-5.csv') \n",
    "# metrics15.to_csv('Loss/8a-15.csv') \n",
    "# metrics30.to_csv('Loss/8a-30.csv') \n",
    "# metrics60.to_csv('Loss/8a-60.csv') "
   ]
  }
 ],
 "metadata": {
  "kernelspec": {
   "display_name": "Python 3 (ipykernel)",
   "language": "python",
   "name": "python3"
  },
  "language_info": {
   "codemirror_mode": {
    "name": "ipython",
    "version": 3
   },
   "file_extension": ".py",
   "mimetype": "text/x-python",
   "name": "python",
   "nbconvert_exporter": "python",
   "pygments_lexer": "ipython3",
   "version": "3.11.5"
  }
 },
 "nbformat": 4,
 "nbformat_minor": 4
}
