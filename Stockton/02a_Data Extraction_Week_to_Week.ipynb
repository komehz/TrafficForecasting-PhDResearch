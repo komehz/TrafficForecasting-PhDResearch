{
 "cells": [
  {
   "cell_type": "markdown",
   "id": "7ee9f63e",
   "metadata": {},
   "source": [
    "# Extract data from txt file"
   ]
  },
  {
   "cell_type": "code",
   "execution_count": 1,
   "id": "68db9dca",
   "metadata": {},
   "outputs": [],
   "source": [
    "import csv"
   ]
  },
  {
   "cell_type": "code",
   "execution_count": 2,
   "id": "abbb96fc",
   "metadata": {},
   "outputs": [],
   "source": [
    "# Extension\n",
    "stations = ['1096710','1096310','1007410','1021310','1021410','1021510','1016610','1027410','10115310','1022010','1022210']\n",
    "\n",
    "with open('00Extension.csv', 'w') as new_file:\n",
    "    csv_writer = csv.writer(new_file)\n",
    "    \n",
    "    for i in range(14,29):\n",
    "        with open('DataSet/Traffic/2_Weeks_Extention/d10_text_station_5min_2019_02_{}.txt'.\n",
    "                  format(str(i).zfill(2)), 'r') as csv_file:\n",
    "            csv_reader = csv.reader(csv_file)\n",
    "    \n",
    "            for line in csv_reader:\n",
    "                if line[1] in stations:\n",
    "                    csv_writer.writerow(line)"
   ]
  },
  {
   "cell_type": "markdown",
   "id": "85365af6",
   "metadata": {},
   "source": [
    "# Process dataset"
   ]
  },
  {
   "cell_type": "code",
   "execution_count": 3,
   "id": "4f2375bb",
   "metadata": {},
   "outputs": [],
   "source": [
    "import pandas as pd\n",
    "import numpy as np\n",
    "import matplotlib.pyplot as plt\n",
    "import seaborn as sns"
   ]
  },
  {
   "cell_type": "code",
   "execution_count": 4,
   "id": "3c2d8e2e",
   "metadata": {},
   "outputs": [],
   "source": [
    "# Read saved csv file\n",
    "Ext  = pd.read_csv('00Extension.csv',header=None)"
   ]
  },
  {
   "cell_type": "code",
   "execution_count": 5,
   "id": "0a9f33f2",
   "metadata": {},
   "outputs": [],
   "source": [
    "# Trim the data (first 17 columns)\n",
    "Ext = Ext.iloc[:,0:17]"
   ]
  },
  {
   "cell_type": "code",
   "execution_count": 6,
   "id": "60369466",
   "metadata": {},
   "outputs": [],
   "source": [
    "# Define dataframe header\n",
    "columns = ['Timestamp','Station','District','Freeway','DoT','Lane Type','Station Length','Samples', '% Obs',\n",
    "          'Total flow','Avg Occ','Ave Speed','Lane N Samples','Lane N Flow','Lane N Avg Occ','Lane N Avg Speed','Lane N obs']"
   ]
  },
  {
   "cell_type": "code",
   "execution_count": 7,
   "id": "eae3a796",
   "metadata": {},
   "outputs": [],
   "source": [
    "# Input the header defined above\n",
    "Ext.columns = columns"
   ]
  },
  {
   "cell_type": "code",
   "execution_count": 8,
   "id": "fb3d0b03",
   "metadata": {},
   "outputs": [
    {
     "data": {
      "text/html": [
       "<div>\n",
       "<style scoped>\n",
       "    .dataframe tbody tr th:only-of-type {\n",
       "        vertical-align: middle;\n",
       "    }\n",
       "\n",
       "    .dataframe tbody tr th {\n",
       "        vertical-align: top;\n",
       "    }\n",
       "\n",
       "    .dataframe thead th {\n",
       "        text-align: right;\n",
       "    }\n",
       "</style>\n",
       "<table border=\"1\" class=\"dataframe\">\n",
       "  <thead>\n",
       "    <tr style=\"text-align: right;\">\n",
       "      <th></th>\n",
       "      <th>Timestamp</th>\n",
       "      <th>Station</th>\n",
       "      <th>District</th>\n",
       "      <th>Freeway</th>\n",
       "      <th>DoT</th>\n",
       "      <th>Lane Type</th>\n",
       "      <th>Station Length</th>\n",
       "      <th>Samples</th>\n",
       "      <th>% Obs</th>\n",
       "      <th>Total flow</th>\n",
       "      <th>Avg Occ</th>\n",
       "      <th>Ave Speed</th>\n",
       "      <th>Lane N Samples</th>\n",
       "      <th>Lane N Flow</th>\n",
       "      <th>Lane N Avg Occ</th>\n",
       "      <th>Lane N Avg Speed</th>\n",
       "      <th>Lane N obs</th>\n",
       "    </tr>\n",
       "  </thead>\n",
       "  <tbody>\n",
       "    <tr>\n",
       "      <th>0</th>\n",
       "      <td>02/14/2019 00:00:00</td>\n",
       "      <td>1007410</td>\n",
       "      <td>10</td>\n",
       "      <td>5</td>\n",
       "      <td>N</td>\n",
       "      <td>ML</td>\n",
       "      <td>0.501</td>\n",
       "      <td>32</td>\n",
       "      <td>100</td>\n",
       "      <td>88.0</td>\n",
       "      <td>0.0198</td>\n",
       "      <td>72.0</td>\n",
       "      <td>8.0</td>\n",
       "      <td>24.0</td>\n",
       "      <td>0.0145</td>\n",
       "      <td>75.9</td>\n",
       "      <td>1</td>\n",
       "    </tr>\n",
       "    <tr>\n",
       "      <th>1</th>\n",
       "      <td>02/14/2019 00:00:00</td>\n",
       "      <td>1016610</td>\n",
       "      <td>10</td>\n",
       "      <td>5</td>\n",
       "      <td>N</td>\n",
       "      <td>ML</td>\n",
       "      <td>0.612</td>\n",
       "      <td>24</td>\n",
       "      <td>100</td>\n",
       "      <td>84.0</td>\n",
       "      <td>0.0187</td>\n",
       "      <td>70.7</td>\n",
       "      <td>8.0</td>\n",
       "      <td>21.0</td>\n",
       "      <td>0.0111</td>\n",
       "      <td>74.8</td>\n",
       "      <td>1</td>\n",
       "    </tr>\n",
       "    <tr>\n",
       "      <th>2</th>\n",
       "      <td>02/14/2019 00:00:00</td>\n",
       "      <td>1021310</td>\n",
       "      <td>10</td>\n",
       "      <td>5</td>\n",
       "      <td>N</td>\n",
       "      <td>ML</td>\n",
       "      <td>0.726</td>\n",
       "      <td>24</td>\n",
       "      <td>67</td>\n",
       "      <td>99.0</td>\n",
       "      <td>0.0274</td>\n",
       "      <td>68.2</td>\n",
       "      <td>8.0</td>\n",
       "      <td>39.0</td>\n",
       "      <td>0.0194</td>\n",
       "      <td>72.5</td>\n",
       "      <td>1</td>\n",
       "    </tr>\n",
       "    <tr>\n",
       "      <th>3</th>\n",
       "      <td>02/14/2019 00:00:00</td>\n",
       "      <td>1021410</td>\n",
       "      <td>10</td>\n",
       "      <td>5</td>\n",
       "      <td>N</td>\n",
       "      <td>ML</td>\n",
       "      <td>0.487</td>\n",
       "      <td>0</td>\n",
       "      <td>0</td>\n",
       "      <td>94.0</td>\n",
       "      <td>0.0288</td>\n",
       "      <td>65.5</td>\n",
       "      <td>0.0</td>\n",
       "      <td>33.0</td>\n",
       "      <td>0.0217</td>\n",
       "      <td>70.3</td>\n",
       "      <td>0</td>\n",
       "    </tr>\n",
       "    <tr>\n",
       "      <th>4</th>\n",
       "      <td>02/14/2019 00:00:00</td>\n",
       "      <td>1021510</td>\n",
       "      <td>10</td>\n",
       "      <td>5</td>\n",
       "      <td>N</td>\n",
       "      <td>ML</td>\n",
       "      <td>0.450</td>\n",
       "      <td>0</td>\n",
       "      <td>0</td>\n",
       "      <td>87.0</td>\n",
       "      <td>0.0265</td>\n",
       "      <td>66.0</td>\n",
       "      <td>0.0</td>\n",
       "      <td>32.0</td>\n",
       "      <td>0.0205</td>\n",
       "      <td>70.6</td>\n",
       "      <td>0</td>\n",
       "    </tr>\n",
       "  </tbody>\n",
       "</table>\n",
       "</div>"
      ],
      "text/plain": [
       "             Timestamp  Station  District  Freeway DoT Lane Type  \\\n",
       "0  02/14/2019 00:00:00  1007410        10        5   N        ML   \n",
       "1  02/14/2019 00:00:00  1016610        10        5   N        ML   \n",
       "2  02/14/2019 00:00:00  1021310        10        5   N        ML   \n",
       "3  02/14/2019 00:00:00  1021410        10        5   N        ML   \n",
       "4  02/14/2019 00:00:00  1021510        10        5   N        ML   \n",
       "\n",
       "   Station Length  Samples  % Obs  Total flow  Avg Occ  Ave Speed  \\\n",
       "0           0.501       32    100        88.0   0.0198       72.0   \n",
       "1           0.612       24    100        84.0   0.0187       70.7   \n",
       "2           0.726       24     67        99.0   0.0274       68.2   \n",
       "3           0.487        0      0        94.0   0.0288       65.5   \n",
       "4           0.450        0      0        87.0   0.0265       66.0   \n",
       "\n",
       "   Lane N Samples  Lane N Flow  Lane N Avg Occ  Lane N Avg Speed  Lane N obs  \n",
       "0             8.0         24.0          0.0145              75.9           1  \n",
       "1             8.0         21.0          0.0111              74.8           1  \n",
       "2             8.0         39.0          0.0194              72.5           1  \n",
       "3             0.0         33.0          0.0217              70.3           0  \n",
       "4             0.0         32.0          0.0205              70.6           0  "
      ]
     },
     "execution_count": 8,
     "metadata": {},
     "output_type": "execute_result"
    }
   ],
   "source": [
    "Ext.head()"
   ]
  },
  {
   "cell_type": "code",
   "execution_count": 9,
   "id": "c7c55025",
   "metadata": {},
   "outputs": [
    {
     "data": {
      "text/html": [
       "<div>\n",
       "<style scoped>\n",
       "    .dataframe tbody tr th:only-of-type {\n",
       "        vertical-align: middle;\n",
       "    }\n",
       "\n",
       "    .dataframe tbody tr th {\n",
       "        vertical-align: top;\n",
       "    }\n",
       "\n",
       "    .dataframe thead th {\n",
       "        text-align: right;\n",
       "    }\n",
       "</style>\n",
       "<table border=\"1\" class=\"dataframe\">\n",
       "  <thead>\n",
       "    <tr style=\"text-align: right;\">\n",
       "      <th></th>\n",
       "      <th>Timestamp</th>\n",
       "      <th>Station</th>\n",
       "      <th>District</th>\n",
       "      <th>Freeway</th>\n",
       "      <th>DoT</th>\n",
       "      <th>Lane Type</th>\n",
       "      <th>Station Length</th>\n",
       "      <th>Samples</th>\n",
       "      <th>% Obs</th>\n",
       "      <th>Total flow</th>\n",
       "      <th>Avg Occ</th>\n",
       "      <th>Ave Speed</th>\n",
       "      <th>Lane N Samples</th>\n",
       "      <th>Lane N Flow</th>\n",
       "      <th>Lane N Avg Occ</th>\n",
       "      <th>Lane N Avg Speed</th>\n",
       "      <th>Lane N obs</th>\n",
       "    </tr>\n",
       "  </thead>\n",
       "  <tbody>\n",
       "    <tr>\n",
       "      <th>47515</th>\n",
       "      <td>02/28/2019 23:55:00</td>\n",
       "      <td>1022210</td>\n",
       "      <td>10</td>\n",
       "      <td>5</td>\n",
       "      <td>N</td>\n",
       "      <td>ML</td>\n",
       "      <td>1.497</td>\n",
       "      <td>0</td>\n",
       "      <td>0</td>\n",
       "      <td>7.0</td>\n",
       "      <td>0.0030</td>\n",
       "      <td>68.3</td>\n",
       "      <td>0.0</td>\n",
       "      <td>2.0</td>\n",
       "      <td>0.0021</td>\n",
       "      <td>71.9</td>\n",
       "      <td>0</td>\n",
       "    </tr>\n",
       "    <tr>\n",
       "      <th>47516</th>\n",
       "      <td>02/28/2019 23:55:00</td>\n",
       "      <td>1027410</td>\n",
       "      <td>10</td>\n",
       "      <td>5</td>\n",
       "      <td>N</td>\n",
       "      <td>ML</td>\n",
       "      <td>0.249</td>\n",
       "      <td>0</td>\n",
       "      <td>0</td>\n",
       "      <td>73.0</td>\n",
       "      <td>0.0235</td>\n",
       "      <td>65.4</td>\n",
       "      <td>0.0</td>\n",
       "      <td>38.0</td>\n",
       "      <td>0.0242</td>\n",
       "      <td>68.2</td>\n",
       "      <td>0</td>\n",
       "    </tr>\n",
       "    <tr>\n",
       "      <th>47517</th>\n",
       "      <td>02/28/2019 23:55:00</td>\n",
       "      <td>1096310</td>\n",
       "      <td>10</td>\n",
       "      <td>5</td>\n",
       "      <td>N</td>\n",
       "      <td>ML</td>\n",
       "      <td>0.669</td>\n",
       "      <td>30</td>\n",
       "      <td>100</td>\n",
       "      <td>117.0</td>\n",
       "      <td>0.0376</td>\n",
       "      <td>65.1</td>\n",
       "      <td>10.0</td>\n",
       "      <td>31.0</td>\n",
       "      <td>0.0170</td>\n",
       "      <td>71.9</td>\n",
       "      <td>1</td>\n",
       "    </tr>\n",
       "    <tr>\n",
       "      <th>47518</th>\n",
       "      <td>02/28/2019 23:55:00</td>\n",
       "      <td>1096710</td>\n",
       "      <td>10</td>\n",
       "      <td>5</td>\n",
       "      <td>N</td>\n",
       "      <td>ML</td>\n",
       "      <td>0.249</td>\n",
       "      <td>15</td>\n",
       "      <td>100</td>\n",
       "      <td>102.0</td>\n",
       "      <td>0.0310</td>\n",
       "      <td>67.5</td>\n",
       "      <td>5.0</td>\n",
       "      <td>20.0</td>\n",
       "      <td>0.0122</td>\n",
       "      <td>71.7</td>\n",
       "      <td>1</td>\n",
       "    </tr>\n",
       "    <tr>\n",
       "      <th>47519</th>\n",
       "      <td>02/28/2019 23:55:00</td>\n",
       "      <td>10115310</td>\n",
       "      <td>10</td>\n",
       "      <td>5</td>\n",
       "      <td>N</td>\n",
       "      <td>ML</td>\n",
       "      <td>0.730</td>\n",
       "      <td>18</td>\n",
       "      <td>100</td>\n",
       "      <td>58.0</td>\n",
       "      <td>0.0136</td>\n",
       "      <td>66.8</td>\n",
       "      <td>6.0</td>\n",
       "      <td>3.0</td>\n",
       "      <td>0.0017</td>\n",
       "      <td>71.7</td>\n",
       "      <td>1</td>\n",
       "    </tr>\n",
       "  </tbody>\n",
       "</table>\n",
       "</div>"
      ],
      "text/plain": [
       "                 Timestamp   Station  District  Freeway DoT Lane Type  \\\n",
       "47515  02/28/2019 23:55:00   1022210        10        5   N        ML   \n",
       "47516  02/28/2019 23:55:00   1027410        10        5   N        ML   \n",
       "47517  02/28/2019 23:55:00   1096310        10        5   N        ML   \n",
       "47518  02/28/2019 23:55:00   1096710        10        5   N        ML   \n",
       "47519  02/28/2019 23:55:00  10115310        10        5   N        ML   \n",
       "\n",
       "       Station Length  Samples  % Obs  Total flow  Avg Occ  Ave Speed  \\\n",
       "47515           1.497        0      0         7.0   0.0030       68.3   \n",
       "47516           0.249        0      0        73.0   0.0235       65.4   \n",
       "47517           0.669       30    100       117.0   0.0376       65.1   \n",
       "47518           0.249       15    100       102.0   0.0310       67.5   \n",
       "47519           0.730       18    100        58.0   0.0136       66.8   \n",
       "\n",
       "       Lane N Samples  Lane N Flow  Lane N Avg Occ  Lane N Avg Speed  \\\n",
       "47515             0.0          2.0          0.0021              71.9   \n",
       "47516             0.0         38.0          0.0242              68.2   \n",
       "47517            10.0         31.0          0.0170              71.9   \n",
       "47518             5.0         20.0          0.0122              71.7   \n",
       "47519             6.0          3.0          0.0017              71.7   \n",
       "\n",
       "       Lane N obs  \n",
       "47515           0  \n",
       "47516           0  \n",
       "47517           1  \n",
       "47518           1  \n",
       "47519           1  "
      ]
     },
     "execution_count": 9,
     "metadata": {},
     "output_type": "execute_result"
    }
   ],
   "source": [
    "Ext.tail()"
   ]
  },
  {
   "cell_type": "code",
   "execution_count": 10,
   "id": "b25839a8",
   "metadata": {},
   "outputs": [
    {
     "data": {
      "text/plain": [
       "47520"
      ]
     },
     "execution_count": 10,
     "metadata": {},
     "output_type": "execute_result"
    }
   ],
   "source": [
    "len(Ext)"
   ]
  },
  {
   "cell_type": "code",
   "execution_count": 11,
   "id": "209e7984",
   "metadata": {},
   "outputs": [],
   "source": [
    "# Pass a list of column names (the important variables)\n",
    "Ext = Ext[['Timestamp','Station','Total flow']]"
   ]
  },
  {
   "cell_type": "code",
   "execution_count": 12,
   "id": "a7632da9",
   "metadata": {},
   "outputs": [],
   "source": [
    "# Replace Station ID\n",
    "mymap = {\n",
    "            1096710  : 'f1',\n",
    "            1096310  : 'f2',\n",
    "            1007410  : 'f3',\n",
    "            1021310  : 'f4',\n",
    "            1021410  : 'f5',\n",
    "            1021510  : 'f6',\n",
    "            1016610  : 'f7',\n",
    "            1027410  : 'f8',\n",
    "            10115310 : 'f9',\n",
    "            1022010  : 'f10',\n",
    "            1022210  : 'f11'\n",
    "        }\n",
    "Ext['Station'] = Ext['Station'].map(mymap)"
   ]
  },
  {
   "cell_type": "code",
   "execution_count": 13,
   "id": "6201a142",
   "metadata": {},
   "outputs": [
    {
     "data": {
      "text/plain": [
       "f8     4320\n",
       "f6     4320\n",
       "f9     4320\n",
       "f3     4320\n",
       "f4     4320\n",
       "f7     4320\n",
       "f10    4320\n",
       "f11    4320\n",
       "f1     4320\n",
       "f2     4320\n",
       "f5     4320\n",
       "Name: Station, dtype: int64"
      ]
     },
     "execution_count": 13,
     "metadata": {},
     "output_type": "execute_result"
    }
   ],
   "source": [
    "Ext['Station'].value_counts()"
   ]
  },
  {
   "cell_type": "code",
   "execution_count": 14,
   "id": "aa0ad1b8",
   "metadata": {},
   "outputs": [
    {
     "data": {
      "text/plain": [
       "4320"
      ]
     },
     "execution_count": 14,
     "metadata": {},
     "output_type": "execute_result"
    }
   ],
   "source": [
    "Ext['Timestamp'].nunique()"
   ]
  },
  {
   "cell_type": "code",
   "execution_count": 15,
   "id": "61880ea9",
   "metadata": {},
   "outputs": [],
   "source": [
    "# Re-arrange the Dataframe to spatio-temporal format\n",
    "Ext = Ext.pivot(index='Timestamp',columns='Station',values='Total flow')"
   ]
  },
  {
   "cell_type": "code",
   "execution_count": 16,
   "id": "486d5934",
   "metadata": {},
   "outputs": [
    {
     "data": {
      "text/plain": [
       "Index(['f1', 'f10', 'f11', 'f2', 'f3', 'f4', 'f5', 'f6', 'f7', 'f8', 'f9'], dtype='object', name='Station')"
      ]
     },
     "execution_count": 16,
     "metadata": {},
     "output_type": "execute_result"
    }
   ],
   "source": [
    "Ext.keys()"
   ]
  },
  {
   "cell_type": "code",
   "execution_count": 17,
   "id": "05355d5b",
   "metadata": {},
   "outputs": [],
   "source": [
    "# f11 is incomplete so drop it\n",
    "Ext.drop(columns = ['f4','f5','f8','f11'], inplace = True)"
   ]
  },
  {
   "cell_type": "code",
   "execution_count": 18,
   "id": "109825df",
   "metadata": {},
   "outputs": [
    {
     "data": {
      "text/html": [
       "<div>\n",
       "<style scoped>\n",
       "    .dataframe tbody tr th:only-of-type {\n",
       "        vertical-align: middle;\n",
       "    }\n",
       "\n",
       "    .dataframe tbody tr th {\n",
       "        vertical-align: top;\n",
       "    }\n",
       "\n",
       "    .dataframe thead th {\n",
       "        text-align: right;\n",
       "    }\n",
       "</style>\n",
       "<table border=\"1\" class=\"dataframe\">\n",
       "  <thead>\n",
       "    <tr style=\"text-align: right;\">\n",
       "      <th>Station</th>\n",
       "      <th>f1</th>\n",
       "      <th>f10</th>\n",
       "      <th>f2</th>\n",
       "      <th>f3</th>\n",
       "      <th>f6</th>\n",
       "      <th>f7</th>\n",
       "      <th>f9</th>\n",
       "    </tr>\n",
       "    <tr>\n",
       "      <th>Timestamp</th>\n",
       "      <th></th>\n",
       "      <th></th>\n",
       "      <th></th>\n",
       "      <th></th>\n",
       "      <th></th>\n",
       "      <th></th>\n",
       "      <th></th>\n",
       "    </tr>\n",
       "  </thead>\n",
       "  <tbody>\n",
       "    <tr>\n",
       "      <th>02/14/2019 00:00:00</th>\n",
       "      <td>89.0</td>\n",
       "      <td>66.0</td>\n",
       "      <td>91.0</td>\n",
       "      <td>88.0</td>\n",
       "      <td>87.0</td>\n",
       "      <td>84.0</td>\n",
       "      <td>53.0</td>\n",
       "    </tr>\n",
       "    <tr>\n",
       "      <th>02/14/2019 00:05:00</th>\n",
       "      <td>87.0</td>\n",
       "      <td>82.0</td>\n",
       "      <td>100.0</td>\n",
       "      <td>125.0</td>\n",
       "      <td>97.0</td>\n",
       "      <td>101.0</td>\n",
       "      <td>60.0</td>\n",
       "    </tr>\n",
       "    <tr>\n",
       "      <th>02/14/2019 00:10:00</th>\n",
       "      <td>88.0</td>\n",
       "      <td>81.0</td>\n",
       "      <td>86.0</td>\n",
       "      <td>96.0</td>\n",
       "      <td>99.0</td>\n",
       "      <td>105.0</td>\n",
       "      <td>64.0</td>\n",
       "    </tr>\n",
       "    <tr>\n",
       "      <th>02/14/2019 00:15:00</th>\n",
       "      <td>82.0</td>\n",
       "      <td>58.0</td>\n",
       "      <td>80.0</td>\n",
       "      <td>89.0</td>\n",
       "      <td>86.0</td>\n",
       "      <td>86.0</td>\n",
       "      <td>42.0</td>\n",
       "    </tr>\n",
       "    <tr>\n",
       "      <th>02/14/2019 00:20:00</th>\n",
       "      <td>56.0</td>\n",
       "      <td>62.0</td>\n",
       "      <td>78.0</td>\n",
       "      <td>84.0</td>\n",
       "      <td>94.0</td>\n",
       "      <td>77.0</td>\n",
       "      <td>46.0</td>\n",
       "    </tr>\n",
       "    <tr>\n",
       "      <th>...</th>\n",
       "      <td>...</td>\n",
       "      <td>...</td>\n",
       "      <td>...</td>\n",
       "      <td>...</td>\n",
       "      <td>...</td>\n",
       "      <td>...</td>\n",
       "      <td>...</td>\n",
       "    </tr>\n",
       "    <tr>\n",
       "      <th>02/28/2019 23:35:00</th>\n",
       "      <td>110.0</td>\n",
       "      <td>69.0</td>\n",
       "      <td>110.0</td>\n",
       "      <td>86.0</td>\n",
       "      <td>89.0</td>\n",
       "      <td>101.0</td>\n",
       "      <td>86.0</td>\n",
       "    </tr>\n",
       "    <tr>\n",
       "      <th>02/28/2019 23:40:00</th>\n",
       "      <td>136.0</td>\n",
       "      <td>69.0</td>\n",
       "      <td>118.0</td>\n",
       "      <td>130.0</td>\n",
       "      <td>106.0</td>\n",
       "      <td>104.0</td>\n",
       "      <td>76.0</td>\n",
       "    </tr>\n",
       "    <tr>\n",
       "      <th>02/28/2019 23:45:00</th>\n",
       "      <td>113.0</td>\n",
       "      <td>83.0</td>\n",
       "      <td>107.0</td>\n",
       "      <td>124.0</td>\n",
       "      <td>96.0</td>\n",
       "      <td>112.0</td>\n",
       "      <td>87.0</td>\n",
       "    </tr>\n",
       "    <tr>\n",
       "      <th>02/28/2019 23:50:00</th>\n",
       "      <td>110.0</td>\n",
       "      <td>74.0</td>\n",
       "      <td>114.0</td>\n",
       "      <td>134.0</td>\n",
       "      <td>109.0</td>\n",
       "      <td>108.0</td>\n",
       "      <td>70.0</td>\n",
       "    </tr>\n",
       "    <tr>\n",
       "      <th>02/28/2019 23:55:00</th>\n",
       "      <td>102.0</td>\n",
       "      <td>59.0</td>\n",
       "      <td>117.0</td>\n",
       "      <td>116.0</td>\n",
       "      <td>119.0</td>\n",
       "      <td>116.0</td>\n",
       "      <td>58.0</td>\n",
       "    </tr>\n",
       "  </tbody>\n",
       "</table>\n",
       "<p>4320 rows × 7 columns</p>\n",
       "</div>"
      ],
      "text/plain": [
       "Station                 f1   f10     f2     f3     f6     f7    f9\n",
       "Timestamp                                                         \n",
       "02/14/2019 00:00:00   89.0  66.0   91.0   88.0   87.0   84.0  53.0\n",
       "02/14/2019 00:05:00   87.0  82.0  100.0  125.0   97.0  101.0  60.0\n",
       "02/14/2019 00:10:00   88.0  81.0   86.0   96.0   99.0  105.0  64.0\n",
       "02/14/2019 00:15:00   82.0  58.0   80.0   89.0   86.0   86.0  42.0\n",
       "02/14/2019 00:20:00   56.0  62.0   78.0   84.0   94.0   77.0  46.0\n",
       "...                    ...   ...    ...    ...    ...    ...   ...\n",
       "02/28/2019 23:35:00  110.0  69.0  110.0   86.0   89.0  101.0  86.0\n",
       "02/28/2019 23:40:00  136.0  69.0  118.0  130.0  106.0  104.0  76.0\n",
       "02/28/2019 23:45:00  113.0  83.0  107.0  124.0   96.0  112.0  87.0\n",
       "02/28/2019 23:50:00  110.0  74.0  114.0  134.0  109.0  108.0  70.0\n",
       "02/28/2019 23:55:00  102.0  59.0  117.0  116.0  119.0  116.0  58.0\n",
       "\n",
       "[4320 rows x 7 columns]"
      ]
     },
     "execution_count": 18,
     "metadata": {},
     "output_type": "execute_result"
    }
   ],
   "source": [
    "Ext"
   ]
  },
  {
   "cell_type": "code",
   "execution_count": 19,
   "id": "10d209aa",
   "metadata": {},
   "outputs": [
    {
     "data": {
      "text/html": [
       "<div>\n",
       "<style scoped>\n",
       "    .dataframe tbody tr th:only-of-type {\n",
       "        vertical-align: middle;\n",
       "    }\n",
       "\n",
       "    .dataframe tbody tr th {\n",
       "        vertical-align: top;\n",
       "    }\n",
       "\n",
       "    .dataframe thead th {\n",
       "        text-align: right;\n",
       "    }\n",
       "</style>\n",
       "<table border=\"1\" class=\"dataframe\">\n",
       "  <thead>\n",
       "    <tr style=\"text-align: right;\">\n",
       "      <th>Station</th>\n",
       "      <th>f1</th>\n",
       "      <th>f2</th>\n",
       "      <th>f3</th>\n",
       "      <th>f6</th>\n",
       "      <th>f7</th>\n",
       "      <th>f9</th>\n",
       "      <th>f10</th>\n",
       "    </tr>\n",
       "    <tr>\n",
       "      <th>Timestamp</th>\n",
       "      <th></th>\n",
       "      <th></th>\n",
       "      <th></th>\n",
       "      <th></th>\n",
       "      <th></th>\n",
       "      <th></th>\n",
       "      <th></th>\n",
       "    </tr>\n",
       "  </thead>\n",
       "  <tbody>\n",
       "    <tr>\n",
       "      <th>02/14/2019 00:00:00</th>\n",
       "      <td>89.0</td>\n",
       "      <td>91.0</td>\n",
       "      <td>88.0</td>\n",
       "      <td>87.0</td>\n",
       "      <td>84.0</td>\n",
       "      <td>53.0</td>\n",
       "      <td>66.0</td>\n",
       "    </tr>\n",
       "    <tr>\n",
       "      <th>02/14/2019 00:05:00</th>\n",
       "      <td>87.0</td>\n",
       "      <td>100.0</td>\n",
       "      <td>125.0</td>\n",
       "      <td>97.0</td>\n",
       "      <td>101.0</td>\n",
       "      <td>60.0</td>\n",
       "      <td>82.0</td>\n",
       "    </tr>\n",
       "    <tr>\n",
       "      <th>02/14/2019 00:10:00</th>\n",
       "      <td>88.0</td>\n",
       "      <td>86.0</td>\n",
       "      <td>96.0</td>\n",
       "      <td>99.0</td>\n",
       "      <td>105.0</td>\n",
       "      <td>64.0</td>\n",
       "      <td>81.0</td>\n",
       "    </tr>\n",
       "    <tr>\n",
       "      <th>02/14/2019 00:15:00</th>\n",
       "      <td>82.0</td>\n",
       "      <td>80.0</td>\n",
       "      <td>89.0</td>\n",
       "      <td>86.0</td>\n",
       "      <td>86.0</td>\n",
       "      <td>42.0</td>\n",
       "      <td>58.0</td>\n",
       "    </tr>\n",
       "    <tr>\n",
       "      <th>02/14/2019 00:20:00</th>\n",
       "      <td>56.0</td>\n",
       "      <td>78.0</td>\n",
       "      <td>84.0</td>\n",
       "      <td>94.0</td>\n",
       "      <td>77.0</td>\n",
       "      <td>46.0</td>\n",
       "      <td>62.0</td>\n",
       "    </tr>\n",
       "    <tr>\n",
       "      <th>...</th>\n",
       "      <td>...</td>\n",
       "      <td>...</td>\n",
       "      <td>...</td>\n",
       "      <td>...</td>\n",
       "      <td>...</td>\n",
       "      <td>...</td>\n",
       "      <td>...</td>\n",
       "    </tr>\n",
       "    <tr>\n",
       "      <th>02/28/2019 23:35:00</th>\n",
       "      <td>110.0</td>\n",
       "      <td>110.0</td>\n",
       "      <td>86.0</td>\n",
       "      <td>89.0</td>\n",
       "      <td>101.0</td>\n",
       "      <td>86.0</td>\n",
       "      <td>69.0</td>\n",
       "    </tr>\n",
       "    <tr>\n",
       "      <th>02/28/2019 23:40:00</th>\n",
       "      <td>136.0</td>\n",
       "      <td>118.0</td>\n",
       "      <td>130.0</td>\n",
       "      <td>106.0</td>\n",
       "      <td>104.0</td>\n",
       "      <td>76.0</td>\n",
       "      <td>69.0</td>\n",
       "    </tr>\n",
       "    <tr>\n",
       "      <th>02/28/2019 23:45:00</th>\n",
       "      <td>113.0</td>\n",
       "      <td>107.0</td>\n",
       "      <td>124.0</td>\n",
       "      <td>96.0</td>\n",
       "      <td>112.0</td>\n",
       "      <td>87.0</td>\n",
       "      <td>83.0</td>\n",
       "    </tr>\n",
       "    <tr>\n",
       "      <th>02/28/2019 23:50:00</th>\n",
       "      <td>110.0</td>\n",
       "      <td>114.0</td>\n",
       "      <td>134.0</td>\n",
       "      <td>109.0</td>\n",
       "      <td>108.0</td>\n",
       "      <td>70.0</td>\n",
       "      <td>74.0</td>\n",
       "    </tr>\n",
       "    <tr>\n",
       "      <th>02/28/2019 23:55:00</th>\n",
       "      <td>102.0</td>\n",
       "      <td>117.0</td>\n",
       "      <td>116.0</td>\n",
       "      <td>119.0</td>\n",
       "      <td>116.0</td>\n",
       "      <td>58.0</td>\n",
       "      <td>59.0</td>\n",
       "    </tr>\n",
       "  </tbody>\n",
       "</table>\n",
       "<p>4320 rows × 7 columns</p>\n",
       "</div>"
      ],
      "text/plain": [
       "Station                 f1     f2     f3     f6     f7    f9   f10\n",
       "Timestamp                                                         \n",
       "02/14/2019 00:00:00   89.0   91.0   88.0   87.0   84.0  53.0  66.0\n",
       "02/14/2019 00:05:00   87.0  100.0  125.0   97.0  101.0  60.0  82.0\n",
       "02/14/2019 00:10:00   88.0   86.0   96.0   99.0  105.0  64.0  81.0\n",
       "02/14/2019 00:15:00   82.0   80.0   89.0   86.0   86.0  42.0  58.0\n",
       "02/14/2019 00:20:00   56.0   78.0   84.0   94.0   77.0  46.0  62.0\n",
       "...                    ...    ...    ...    ...    ...   ...   ...\n",
       "02/28/2019 23:35:00  110.0  110.0   86.0   89.0  101.0  86.0  69.0\n",
       "02/28/2019 23:40:00  136.0  118.0  130.0  106.0  104.0  76.0  69.0\n",
       "02/28/2019 23:45:00  113.0  107.0  124.0   96.0  112.0  87.0  83.0\n",
       "02/28/2019 23:50:00  110.0  114.0  134.0  109.0  108.0  70.0  74.0\n",
       "02/28/2019 23:55:00  102.0  117.0  116.0  119.0  116.0  58.0  59.0\n",
       "\n",
       "[4320 rows x 7 columns]"
      ]
     },
     "execution_count": 19,
     "metadata": {},
     "output_type": "execute_result"
    }
   ],
   "source": [
    "# Re-arrange spatial columns, so, the data is sequential\n",
    "Ext = Ext[['f1','f2','f3','f6','f7','f9','f10']]\n",
    "Ext"
   ]
  },
  {
   "cell_type": "code",
   "execution_count": 20,
   "id": "1a1e6aad",
   "metadata": {},
   "outputs": [],
   "source": [
    "columns = ['f1', 'f2', 'f3', 'f4', 'f5', 'f6', 'f7']\n",
    "Ext.columns = columns"
   ]
  },
  {
   "cell_type": "code",
   "execution_count": 21,
   "id": "526fa845",
   "metadata": {},
   "outputs": [
    {
     "data": {
      "text/html": [
       "<div>\n",
       "<style scoped>\n",
       "    .dataframe tbody tr th:only-of-type {\n",
       "        vertical-align: middle;\n",
       "    }\n",
       "\n",
       "    .dataframe tbody tr th {\n",
       "        vertical-align: top;\n",
       "    }\n",
       "\n",
       "    .dataframe thead th {\n",
       "        text-align: right;\n",
       "    }\n",
       "</style>\n",
       "<table border=\"1\" class=\"dataframe\">\n",
       "  <thead>\n",
       "    <tr style=\"text-align: right;\">\n",
       "      <th></th>\n",
       "      <th>f1</th>\n",
       "      <th>f2</th>\n",
       "      <th>f3</th>\n",
       "      <th>f4</th>\n",
       "      <th>f5</th>\n",
       "      <th>f6</th>\n",
       "      <th>f7</th>\n",
       "    </tr>\n",
       "    <tr>\n",
       "      <th>Timestamp</th>\n",
       "      <th></th>\n",
       "      <th></th>\n",
       "      <th></th>\n",
       "      <th></th>\n",
       "      <th></th>\n",
       "      <th></th>\n",
       "      <th></th>\n",
       "    </tr>\n",
       "  </thead>\n",
       "  <tbody>\n",
       "    <tr>\n",
       "      <th>02/14/2019 00:00:00</th>\n",
       "      <td>89.0</td>\n",
       "      <td>91.0</td>\n",
       "      <td>88.0</td>\n",
       "      <td>87.0</td>\n",
       "      <td>84.0</td>\n",
       "      <td>53.0</td>\n",
       "      <td>66.0</td>\n",
       "    </tr>\n",
       "    <tr>\n",
       "      <th>02/14/2019 00:05:00</th>\n",
       "      <td>87.0</td>\n",
       "      <td>100.0</td>\n",
       "      <td>125.0</td>\n",
       "      <td>97.0</td>\n",
       "      <td>101.0</td>\n",
       "      <td>60.0</td>\n",
       "      <td>82.0</td>\n",
       "    </tr>\n",
       "    <tr>\n",
       "      <th>02/14/2019 00:10:00</th>\n",
       "      <td>88.0</td>\n",
       "      <td>86.0</td>\n",
       "      <td>96.0</td>\n",
       "      <td>99.0</td>\n",
       "      <td>105.0</td>\n",
       "      <td>64.0</td>\n",
       "      <td>81.0</td>\n",
       "    </tr>\n",
       "    <tr>\n",
       "      <th>02/14/2019 00:15:00</th>\n",
       "      <td>82.0</td>\n",
       "      <td>80.0</td>\n",
       "      <td>89.0</td>\n",
       "      <td>86.0</td>\n",
       "      <td>86.0</td>\n",
       "      <td>42.0</td>\n",
       "      <td>58.0</td>\n",
       "    </tr>\n",
       "    <tr>\n",
       "      <th>02/14/2019 00:20:00</th>\n",
       "      <td>56.0</td>\n",
       "      <td>78.0</td>\n",
       "      <td>84.0</td>\n",
       "      <td>94.0</td>\n",
       "      <td>77.0</td>\n",
       "      <td>46.0</td>\n",
       "      <td>62.0</td>\n",
       "    </tr>\n",
       "    <tr>\n",
       "      <th>...</th>\n",
       "      <td>...</td>\n",
       "      <td>...</td>\n",
       "      <td>...</td>\n",
       "      <td>...</td>\n",
       "      <td>...</td>\n",
       "      <td>...</td>\n",
       "      <td>...</td>\n",
       "    </tr>\n",
       "    <tr>\n",
       "      <th>02/28/2019 23:35:00</th>\n",
       "      <td>110.0</td>\n",
       "      <td>110.0</td>\n",
       "      <td>86.0</td>\n",
       "      <td>89.0</td>\n",
       "      <td>101.0</td>\n",
       "      <td>86.0</td>\n",
       "      <td>69.0</td>\n",
       "    </tr>\n",
       "    <tr>\n",
       "      <th>02/28/2019 23:40:00</th>\n",
       "      <td>136.0</td>\n",
       "      <td>118.0</td>\n",
       "      <td>130.0</td>\n",
       "      <td>106.0</td>\n",
       "      <td>104.0</td>\n",
       "      <td>76.0</td>\n",
       "      <td>69.0</td>\n",
       "    </tr>\n",
       "    <tr>\n",
       "      <th>02/28/2019 23:45:00</th>\n",
       "      <td>113.0</td>\n",
       "      <td>107.0</td>\n",
       "      <td>124.0</td>\n",
       "      <td>96.0</td>\n",
       "      <td>112.0</td>\n",
       "      <td>87.0</td>\n",
       "      <td>83.0</td>\n",
       "    </tr>\n",
       "    <tr>\n",
       "      <th>02/28/2019 23:50:00</th>\n",
       "      <td>110.0</td>\n",
       "      <td>114.0</td>\n",
       "      <td>134.0</td>\n",
       "      <td>109.0</td>\n",
       "      <td>108.0</td>\n",
       "      <td>70.0</td>\n",
       "      <td>74.0</td>\n",
       "    </tr>\n",
       "    <tr>\n",
       "      <th>02/28/2019 23:55:00</th>\n",
       "      <td>102.0</td>\n",
       "      <td>117.0</td>\n",
       "      <td>116.0</td>\n",
       "      <td>119.0</td>\n",
       "      <td>116.0</td>\n",
       "      <td>58.0</td>\n",
       "      <td>59.0</td>\n",
       "    </tr>\n",
       "  </tbody>\n",
       "</table>\n",
       "<p>4320 rows × 7 columns</p>\n",
       "</div>"
      ],
      "text/plain": [
       "                        f1     f2     f3     f4     f5    f6    f7\n",
       "Timestamp                                                         \n",
       "02/14/2019 00:00:00   89.0   91.0   88.0   87.0   84.0  53.0  66.0\n",
       "02/14/2019 00:05:00   87.0  100.0  125.0   97.0  101.0  60.0  82.0\n",
       "02/14/2019 00:10:00   88.0   86.0   96.0   99.0  105.0  64.0  81.0\n",
       "02/14/2019 00:15:00   82.0   80.0   89.0   86.0   86.0  42.0  58.0\n",
       "02/14/2019 00:20:00   56.0   78.0   84.0   94.0   77.0  46.0  62.0\n",
       "...                    ...    ...    ...    ...    ...   ...   ...\n",
       "02/28/2019 23:35:00  110.0  110.0   86.0   89.0  101.0  86.0  69.0\n",
       "02/28/2019 23:40:00  136.0  118.0  130.0  106.0  104.0  76.0  69.0\n",
       "02/28/2019 23:45:00  113.0  107.0  124.0   96.0  112.0  87.0  83.0\n",
       "02/28/2019 23:50:00  110.0  114.0  134.0  109.0  108.0  70.0  74.0\n",
       "02/28/2019 23:55:00  102.0  117.0  116.0  119.0  116.0  58.0  59.0\n",
       "\n",
       "[4320 rows x 7 columns]"
      ]
     },
     "execution_count": 21,
     "metadata": {},
     "output_type": "execute_result"
    }
   ],
   "source": [
    "Ext"
   ]
  },
  {
   "cell_type": "code",
   "execution_count": 22,
   "id": "544865c6",
   "metadata": {},
   "outputs": [
    {
     "data": {
      "text/plain": [
       "pandas.core.indexes.base.Index"
      ]
     },
     "execution_count": 22,
     "metadata": {},
     "output_type": "execute_result"
    }
   ],
   "source": [
    "type(Ext.index)"
   ]
  },
  {
   "cell_type": "markdown",
   "id": "61380922",
   "metadata": {},
   "source": [
    "# Data Preprocessing II \n",
    "## Dataset integrity"
   ]
  },
  {
   "cell_type": "code",
   "execution_count": 23,
   "id": "fc433691",
   "metadata": {},
   "outputs": [
    {
     "data": {
      "image/png": "[encoded data removed]",
      "text/plain": [
       "<Figure size 1152x720 with 7 Axes>"
      ]
     },
     "metadata": {
      "needs_background": "light"
     },
     "output_type": "display_data"
    }
   ],
   "source": [
    "# plot data\n",
    "\n",
    "# map timestamp to a variable x\n",
    "x = np.linspace(0,4320,4320)\n",
    "\n",
    "fig,axes = plt.subplots(nrows=4,ncols=2,figsize=(16,10))\n",
    "\n",
    "axes[0,0].plot(x,Ext['f1'], lw=1.2)\n",
    "axes[1,0].plot(x,Ext['f2'], lw=1.2)\n",
    "axes[2,0].plot(x,Ext['f3'], lw=1.2)\n",
    "axes[3,0].plot(x,Ext['f4'], lw=1.2)\n",
    "axes[0,1].plot(x,Ext['f5'], lw=1.2)\n",
    "axes[1,1].plot(x,Ext['f6'], lw=1.2)\n",
    "axes[2,1].plot(x,Ext['f7'], lw=1.2)\n",
    "fig.delaxes(axes[3,1])\n",
    "\n",
    "\n",
    "c = 0;\n",
    "for b in range(0,2):\n",
    "    for a in range(0,4):\n",
    "        c += 1\n",
    "        if b == 1 and a == 3:\n",
    "            pass\n",
    "        else:\n",
    "            axes[a,b].set_xlabel('Interval')\n",
    "            axes[a,b].set_title('Detector '+str(c) ,fontweight =\"bold\")\n",
    "            axes[a,b].grid()\n",
    "            if b == 0:\n",
    "                axes[a,b].set_ylabel('Flow (veh/5-Min)')\n",
    "\n",
    "plt.tight_layout()\n",
    "plt.show()"
   ]
  },
  {
   "cell_type": "code",
   "execution_count": 24,
   "id": "ffbe7593",
   "metadata": {},
   "outputs": [
    {
     "data": {
      "image/png": "[encoded data removed]",
      "text/plain": [
       "<Figure size 576x648 with 2 Axes>"
      ]
     },
     "metadata": {
      "needs_background": "light"
     },
     "output_type": "display_data"
    }
   ],
   "source": [
    "# The above as a plot\n",
    "\n",
    "corr = Ext.corr()\n",
    "\n",
    "# Generate a mask for the upper triangle\n",
    "mask = np.triu(np.ones_like(corr, dtype=bool), 1)\n",
    "\n",
    "# Set up the matplotlib figure\n",
    "f, ax = plt.subplots(figsize=(8, 9))\n",
    "\n",
    "# Draw the heatmap with the mask and correct aspect ratio\n",
    "crr = sns.heatmap(corr, mask=mask, cmap=\"rocket_r\",\n",
    "            square=True, linewidths=.5, cbar_kws={\"shrink\": .5}, annot=True)\n",
    "\n",
    "labels = ['Detector  1','Detector  2','Detector  3','Detector  4','Detector  5',\n",
    "          'Detector  6','Detector  7']\n",
    "crr.set_yticklabels(labels, rotation=0);\n",
    "crr.set_xticklabels(labels, rotation=90);"
   ]
  },
  {
   "cell_type": "markdown",
   "id": "151e9465",
   "metadata": {},
   "source": [
    "### Check for missing values"
   ]
  },
  {
   "cell_type": "code",
   "execution_count": 25,
   "id": "0f110b11",
   "metadata": {},
   "outputs": [
    {
     "data": {
      "text/plain": [
       "f1     True\n",
       "f2     True\n",
       "f3     True\n",
       "f4    False\n",
       "f5     True\n",
       "f6     True\n",
       "f7    False\n",
       "dtype: bool"
      ]
     },
     "execution_count": 25,
     "metadata": {},
     "output_type": "execute_result"
    }
   ],
   "source": [
    "Ext.isnull().any()"
   ]
  },
  {
   "cell_type": "code",
   "execution_count": 26,
   "id": "33cce1a0",
   "metadata": {},
   "outputs": [
    {
     "data": {
      "text/plain": [
       "5"
      ]
     },
     "execution_count": 26,
     "metadata": {},
     "output_type": "execute_result"
    }
   ],
   "source": [
    "Ext.isnull().sum().sum()"
   ]
  },
  {
   "cell_type": "code",
   "execution_count": 27,
   "id": "4d2310c7",
   "metadata": {},
   "outputs": [],
   "source": [
    "# Use interpolation to fill in Missing Completely random (MCR) nan values\n",
    "Ext.interpolate(inplace = True)"
   ]
  },
  {
   "cell_type": "code",
   "execution_count": 28,
   "id": "7e11ff3f",
   "metadata": {},
   "outputs": [
    {
     "data": {
      "text/plain": [
       "f1    False\n",
       "f2    False\n",
       "f3    False\n",
       "f4    False\n",
       "f5    False\n",
       "f6    False\n",
       "f7    False\n",
       "dtype: bool"
      ]
     },
     "execution_count": 28,
     "metadata": {},
     "output_type": "execute_result"
    }
   ],
   "source": [
    "Ext.isnull().any()"
   ]
  },
  {
   "cell_type": "markdown",
   "id": "1022c5fa",
   "metadata": {},
   "source": [
    "### Check for missing values"
   ]
  },
  {
   "cell_type": "code",
   "execution_count": 29,
   "id": "eca997a4",
   "metadata": {},
   "outputs": [],
   "source": [
    "myser1 = pd.to_datetime(Ext.index)"
   ]
  },
  {
   "cell_type": "code",
   "execution_count": 30,
   "id": "7935d86e",
   "metadata": {},
   "outputs": [
    {
     "data": {
      "text/plain": [
       "pandas.core.indexes.datetimes.DatetimeIndex"
      ]
     },
     "execution_count": 30,
     "metadata": {},
     "output_type": "execute_result"
    }
   ],
   "source": [
    "type(myser1)"
   ]
  },
  {
   "cell_type": "code",
   "execution_count": 31,
   "id": "22fe97a6",
   "metadata": {},
   "outputs": [],
   "source": [
    "# Create a date range for the specified interval using 5min fequency (as per the dataset)\n",
    "date_range = pd.date_range('2019-02-14 00:00', '2019-02-28 23:59', freq='5Min')"
   ]
  },
  {
   "cell_type": "code",
   "execution_count": 32,
   "id": "086b9b05",
   "metadata": {},
   "outputs": [
    {
     "data": {
      "text/plain": [
       "Series([], dtype: datetime64[ns])"
      ]
     },
     "execution_count": 32,
     "metadata": {},
     "output_type": "execute_result"
    }
   ],
   "source": [
    "myser = pd.Series(data=date_range)\n",
    "\n",
    "# check if date range is in TrainVal timestamp and output the missing timestamps\n",
    "myser[~myser.isin(myser1)]"
   ]
  },
  {
   "cell_type": "code",
   "execution_count": 33,
   "id": "4ee2de5b",
   "metadata": {},
   "outputs": [
    {
     "data": {
      "text/plain": [
       "0"
      ]
     },
     "execution_count": 33,
     "metadata": {},
     "output_type": "execute_result"
    }
   ],
   "source": [
    "len(myser[~myser.isin(myser1)])"
   ]
  },
  {
   "cell_type": "markdown",
   "id": "37a87c87",
   "metadata": {},
   "source": [
    "# Scale Data"
   ]
  },
  {
   "cell_type": "code",
   "execution_count": 34,
   "id": "ac736767",
   "metadata": {},
   "outputs": [],
   "source": [
    "import joblib"
   ]
  },
  {
   "cell_type": "code",
   "execution_count": 35,
   "id": "fa7ee1c7",
   "metadata": {},
   "outputs": [],
   "source": [
    "scaler_filename = \"scaler.save\"\n",
    "scaler = joblib.load(scaler_filename) "
   ]
  },
  {
   "cell_type": "code",
   "execution_count": 36,
   "id": "3782a0a7",
   "metadata": {},
   "outputs": [],
   "source": [
    "Ext_scaled = scaler.transform(Ext)"
   ]
  },
  {
   "cell_type": "code",
   "execution_count": 37,
   "id": "47bfa7ac",
   "metadata": {},
   "outputs": [
    {
     "data": {
      "text/plain": [
       "(4320, 7)"
      ]
     },
     "execution_count": 37,
     "metadata": {},
     "output_type": "execute_result"
    }
   ],
   "source": [
    "Ext_scaled.shape"
   ]
  },
  {
   "cell_type": "code",
   "execution_count": 38,
   "id": "9f2c48be",
   "metadata": {},
   "outputs": [
    {
     "data": {
      "text/plain": [
       "array([[0.16703786, 0.14777328, 0.14716981, ..., 0.11492281, 0.08901515,\n",
       "        0.13043478],\n",
       "       [0.16258352, 0.1659919 , 0.21698113, ..., 0.14408233, 0.10227273,\n",
       "        0.16521739],\n",
       "       [0.16481069, 0.13765182, 0.16226415, ..., 0.1509434 , 0.10984848,\n",
       "        0.16304348],\n",
       "       ...,\n",
       "       [0.22048998, 0.18016194, 0.21509434, ..., 0.16295026, 0.15340909,\n",
       "        0.1673913 ],\n",
       "       [0.21380846, 0.19433198, 0.23396226, ..., 0.15608919, 0.12121212,\n",
       "        0.14782609],\n",
       "       [0.19599109, 0.20040486, 0.2       , ..., 0.16981132, 0.09848485,\n",
       "        0.11521739]])"
      ]
     },
     "execution_count": 38,
     "metadata": {},
     "output_type": "execute_result"
    }
   ],
   "source": [
    "Ext_scaled"
   ]
  },
  {
   "cell_type": "markdown",
   "id": "e1f59b04",
   "metadata": {},
   "source": [
    "# Save Data"
   ]
  },
  {
   "cell_type": "code",
   "execution_count": 39,
   "id": "dbaac0f3",
   "metadata": {},
   "outputs": [
    {
     "data": {
      "text/plain": [
       "['Extension.save']"
      ]
     },
     "execution_count": 39,
     "metadata": {},
     "output_type": "execute_result"
    }
   ],
   "source": [
    "scaler_filename = \"Extension.save\"\n",
    "joblib.dump(Ext_scaled, scaler_filename) "
   ]
  }
 ],
 "metadata": {
  "kernelspec": {
   "display_name": "Python 3 (ipykernel)",
   "language": "python",
   "name": "python3"
  },
  "language_info": {
   "codemirror_mode": {
    "name": "ipython",
    "version": 3
   },
   "file_extension": ".py",
   "mimetype": "text/x-python",
   "name": "python",
   "nbconvert_exporter": "python",
   "pygments_lexer": "ipython3",
   "version": "3.9.12"
  }
 },
 "nbformat": 4,
 "nbformat_minor": 5
}
