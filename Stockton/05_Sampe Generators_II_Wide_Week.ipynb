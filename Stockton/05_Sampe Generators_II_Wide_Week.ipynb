{
 "cells": [
  {
   "cell_type": "code",
   "execution_count": 1,
   "id": "bd14f8fb",
   "metadata": {},
   "outputs": [],
   "source": [
    "import pandas as pd\n",
    "import numpy as np\n",
    "import matplotlib.pyplot as plt\n",
    "import seaborn as sns\n",
    "import joblib"
   ]
  },
  {
   "cell_type": "code",
   "execution_count": 2,
   "id": "46ca8203",
   "metadata": {},
   "outputs": [],
   "source": [
    "# General Period\n",
    "train_period = joblib.load(\"00Periodicity_train.save\") \n",
    "test_period = joblib.load(\"00Periodicity_test.save\") \n",
    "\n",
    "# 2 Week priodicity\n",
    "train_2week = joblib.load(\"002weeks_train.save\") \n",
    "test_2week = joblib.load(\"002weeks_test.save\") "
   ]
  },
  {
   "cell_type": "code",
   "execution_count": 3,
   "id": "bb20ec1c",
   "metadata": {},
   "outputs": [
    {
     "data": {
      "text/plain": [
       "(31104, 49)"
      ]
     },
     "execution_count": 3,
     "metadata": {},
     "output_type": "execute_result"
    }
   ],
   "source": [
    "train_period.shape"
   ]
  },
  {
   "cell_type": "code",
   "execution_count": 4,
   "id": "b393227c",
   "metadata": {},
   "outputs": [
    {
     "data": {
      "text/plain": [
       "(31104, 14)"
      ]
     },
     "execution_count": 4,
     "metadata": {},
     "output_type": "execute_result"
    }
   ],
   "source": [
    "train_2week.shape"
   ]
  },
  {
   "cell_type": "code",
   "execution_count": 5,
   "id": "5212e327",
   "metadata": {},
   "outputs": [
    {
     "data": {
      "text/plain": [
       "(4032, 49)"
      ]
     },
     "execution_count": 5,
     "metadata": {},
     "output_type": "execute_result"
    }
   ],
   "source": [
    "test_period.shape"
   ]
  },
  {
   "cell_type": "code",
   "execution_count": 6,
   "id": "dcc79ebe",
   "metadata": {},
   "outputs": [
    {
     "data": {
      "text/plain": [
       "(4032, 14)"
      ]
     },
     "execution_count": 6,
     "metadata": {},
     "output_type": "execute_result"
    }
   ],
   "source": [
    "test_2week.shape"
   ]
  },
  {
   "cell_type": "code",
   "execution_count": 7,
   "id": "d3af2de7",
   "metadata": {},
   "outputs": [
    {
     "data": {
      "text/plain": [
       "array([0.19291023, 0.03761239, 0.13036021, 0.26072041, 0.16638079,\n",
       "       0.19039451, 0.2186964 , 0.18536306, 0.03597076, 0.12692967,\n",
       "       0.24528302, 0.16037736, 0.18010292, 0.20754717, 0.17232704,\n",
       "       0.02996191, 0.10634648, 0.23327616, 0.16209262, 0.17152659,\n",
       "       0.18524871, 0.1745283 , 0.01995909, 0.14236707, 0.21955403,\n",
       "       0.16380789, 0.17495712, 0.1796741 , 0.18278302, 0.02931696,\n",
       "       0.12349914, 0.23156089, 0.16252144, 0.18181818, 0.20368782,\n",
       "       0.18181818, 0.02484867, 0.12692967, 0.2212693 , 0.17024014,\n",
       "       0.18524871, 0.19682676, 0.1745283 , 0.01956205, 0.1406518 ,\n",
       "       0.21269297, 0.16252144, 0.17066895, 0.18310463])"
      ]
     },
     "execution_count": 7,
     "metadata": {},
     "output_type": "execute_result"
    }
   ],
   "source": [
    "train_period[0]"
   ]
  },
  {
   "cell_type": "code",
   "execution_count": 8,
   "id": "c30c7e69",
   "metadata": {},
   "outputs": [
    {
     "data": {
      "text/plain": [
       "array([0.135506  , 0.1457976 , 0.18867925, 0.16466552, 0.16638079,\n",
       "       0.15608919, 0.18010292, 0.16638079, 0.15951973, 0.18181818,\n",
       "       0.15780446, 0.12864494, 0.15437393, 0.18353345])"
      ]
     },
     "execution_count": 8,
     "metadata": {},
     "output_type": "execute_result"
    }
   ],
   "source": [
    "train_2week[0]"
   ]
  },
  {
   "cell_type": "code",
   "execution_count": 9,
   "id": "dbb62015",
   "metadata": {},
   "outputs": [
    {
     "data": {
      "text/plain": [
       "array([0.19291023, 0.03761239, 0.13036021, 0.26072041, 0.16638079,\n",
       "       0.19039451, 0.2186964 , 0.18536306, 0.03597076, 0.12692967,\n",
       "       0.24528302, 0.16037736, 0.18010292, 0.20754717, 0.17232704,\n",
       "       0.02996191, 0.10634648, 0.23327616, 0.16209262, 0.17152659,\n",
       "       0.18524871, 0.1745283 , 0.01995909, 0.14236707, 0.21955403,\n",
       "       0.16380789, 0.17495712, 0.1796741 , 0.18278302, 0.02931696,\n",
       "       0.12349914, 0.23156089, 0.16252144, 0.18181818, 0.20368782,\n",
       "       0.18181818, 0.02484867, 0.12692967, 0.2212693 , 0.17024014,\n",
       "       0.18524871, 0.19682676, 0.1745283 , 0.01956205, 0.1406518 ,\n",
       "       0.21269297, 0.16252144, 0.17066895, 0.18310463, 0.135506  ,\n",
       "       0.1457976 , 0.18867925, 0.16466552, 0.16638079, 0.15608919,\n",
       "       0.18010292, 0.16638079, 0.15951973, 0.18181818, 0.15780446,\n",
       "       0.12864494, 0.15437393, 0.18353345])"
      ]
     },
     "execution_count": 9,
     "metadata": {},
     "output_type": "execute_result"
    }
   ],
   "source": [
    "np.concatenate((train_period[0], train_2week[0]), axis=0)"
   ]
  },
  {
   "cell_type": "markdown",
   "id": "1d283ebe",
   "metadata": {},
   "source": [
    "### Train"
   ]
  },
  {
   "cell_type": "code",
   "execution_count": 10,
   "id": "1d26603f",
   "metadata": {},
   "outputs": [],
   "source": [
    "b = np.zeros(63)\n",
    "\n",
    "for i in range(len(train_period)):\n",
    "    a = np.concatenate((train_period[i], train_2week[i]), axis=0)\n",
    "    b = np.append(b, a, axis=0)\n",
    "\n",
    "b = b.reshape(-1,63)\n",
    "Xtrain = np.delete(b, np.s_[0], 0)"
   ]
  },
  {
   "cell_type": "code",
   "execution_count": 11,
   "id": "4f101657",
   "metadata": {},
   "outputs": [
    {
     "data": {
      "text/plain": [
       "array([ True,  True,  True,  True,  True,  True,  True,  True,  True,\n",
       "        True,  True,  True,  True,  True,  True,  True,  True,  True,\n",
       "        True,  True,  True,  True,  True,  True,  True,  True,  True,\n",
       "        True,  True,  True,  True,  True,  True,  True,  True,  True,\n",
       "        True,  True,  True,  True,  True,  True,  True,  True,  True,\n",
       "        True,  True,  True,  True,  True,  True,  True,  True,  True,\n",
       "        True,  True,  True,  True,  True,  True,  True,  True,  True])"
      ]
     },
     "execution_count": 11,
     "metadata": {},
     "output_type": "execute_result"
    }
   ],
   "source": [
    "Xtrain[0] == np.concatenate((train_period[0], train_2week[0]), axis=0)"
   ]
  },
  {
   "cell_type": "code",
   "execution_count": 12,
   "id": "2e5effcc",
   "metadata": {},
   "outputs": [
    {
     "data": {
      "text/plain": [
       "(31104, 63)"
      ]
     },
     "execution_count": 12,
     "metadata": {},
     "output_type": "execute_result"
    }
   ],
   "source": [
    "Xtrain.shape"
   ]
  },
  {
   "cell_type": "markdown",
   "id": "d966d364",
   "metadata": {},
   "source": [
    "### Test"
   ]
  },
  {
   "cell_type": "code",
   "execution_count": 13,
   "id": "677a898d",
   "metadata": {},
   "outputs": [],
   "source": [
    "b = np.zeros(63)\n",
    "\n",
    "for i in range(len(test_period)):\n",
    "    a = np.concatenate((test_period[i], test_2week[i]), axis=0)\n",
    "    b = np.append(b, a, axis=0)\n",
    "    \n",
    "b = b.reshape(-1,63)\n",
    "Xtest = np.delete(b, np.s_[0], 0)"
   ]
  },
  {
   "cell_type": "code",
   "execution_count": 14,
   "id": "aa23a46b",
   "metadata": {},
   "outputs": [
    {
     "data": {
      "text/plain": [
       "array([ True,  True,  True,  True,  True,  True,  True,  True,  True,\n",
       "        True,  True,  True,  True,  True,  True,  True,  True,  True,\n",
       "        True,  True,  True,  True,  True,  True,  True,  True,  True,\n",
       "        True,  True,  True,  True,  True,  True,  True,  True,  True,\n",
       "        True,  True,  True,  True,  True,  True,  True,  True,  True,\n",
       "        True,  True,  True,  True,  True,  True,  True,  True,  True,\n",
       "        True,  True,  True,  True,  True,  True,  True,  True,  True])"
      ]
     },
     "execution_count": 14,
     "metadata": {},
     "output_type": "execute_result"
    }
   ],
   "source": [
    "Xtest[0] == np.concatenate((test_period[0], test_2week[0]), axis=0)"
   ]
  },
  {
   "cell_type": "code",
   "execution_count": 15,
   "id": "34d70795",
   "metadata": {},
   "outputs": [
    {
     "data": {
      "text/plain": [
       "(4032, 63)"
      ]
     },
     "execution_count": 15,
     "metadata": {},
     "output_type": "execute_result"
    }
   ],
   "source": [
    "Xtest.shape"
   ]
  },
  {
   "cell_type": "markdown",
   "id": "1dacfa4c",
   "metadata": {},
   "source": [
    "# Samples"
   ]
  },
  {
   "cell_type": "markdown",
   "id": "c2eacecc",
   "metadata": {},
   "source": [
    "### 5 mins"
   ]
  },
  {
   "cell_type": "code",
   "execution_count": 16,
   "id": "0d2cfc68",
   "metadata": {},
   "outputs": [],
   "source": [
    "# Delete first 15 samples\n",
    "a = np.delete(Xtrain, np.s_[0:15], 0)\n",
    "b = np.delete(Xtest, np.s_[0:15], 0)"
   ]
  },
  {
   "cell_type": "code",
   "execution_count": 17,
   "id": "53f8eab7",
   "metadata": {},
   "outputs": [
    {
     "data": {
      "text/plain": [
       "31089"
      ]
     },
     "execution_count": 17,
     "metadata": {},
     "output_type": "execute_result"
    }
   ],
   "source": [
    "len(a)"
   ]
  },
  {
   "cell_type": "code",
   "execution_count": 18,
   "id": "0fe46ab5",
   "metadata": {},
   "outputs": [
    {
     "data": {
      "text/plain": [
       "4017"
      ]
     },
     "execution_count": 18,
     "metadata": {},
     "output_type": "execute_result"
    }
   ],
   "source": [
    "len(b)"
   ]
  },
  {
   "cell_type": "code",
   "execution_count": 19,
   "id": "a1dacbd7",
   "metadata": {},
   "outputs": [],
   "source": [
    "# Save \n",
    "\n",
    "np.save(\"Wide_train_5\", a)\n",
    "np.save(\"Wide_test_5\", b)"
   ]
  },
  {
   "cell_type": "markdown",
   "id": "7cc62d6d",
   "metadata": {},
   "source": [
    "### 15 mins"
   ]
  },
  {
   "cell_type": "code",
   "execution_count": 20,
   "id": "29e5afaf",
   "metadata": {},
   "outputs": [],
   "source": [
    "# Delete first 17 samples\n",
    "a = np.delete(Xtrain, np.s_[0:17], 0)\n",
    "b = np.delete(Xtest, np.s_[0:17], 0)"
   ]
  },
  {
   "cell_type": "code",
   "execution_count": 21,
   "id": "1452a2db",
   "metadata": {},
   "outputs": [
    {
     "data": {
      "text/plain": [
       "31087"
      ]
     },
     "execution_count": 21,
     "metadata": {},
     "output_type": "execute_result"
    }
   ],
   "source": [
    "len(a)"
   ]
  },
  {
   "cell_type": "code",
   "execution_count": 22,
   "id": "941eaba9",
   "metadata": {},
   "outputs": [
    {
     "data": {
      "text/plain": [
       "4015"
      ]
     },
     "execution_count": 22,
     "metadata": {},
     "output_type": "execute_result"
    }
   ],
   "source": [
    "len(b)"
   ]
  },
  {
   "cell_type": "code",
   "execution_count": 23,
   "id": "e38f4c85",
   "metadata": {},
   "outputs": [],
   "source": [
    "# Save \n",
    "\n",
    "np.save(\"Wide_train_15\", a)\n",
    "np.save(\"Wide_test_15\", b)"
   ]
  },
  {
   "cell_type": "markdown",
   "id": "9a351af2",
   "metadata": {},
   "source": [
    "### 30 mins"
   ]
  },
  {
   "cell_type": "code",
   "execution_count": 24,
   "id": "b15b07a2",
   "metadata": {},
   "outputs": [],
   "source": [
    "# Delete first 20 samples\n",
    "a = np.delete(Xtrain, np.s_[0:20], 0)\n",
    "b = np.delete(Xtest, np.s_[0:20], 0)"
   ]
  },
  {
   "cell_type": "code",
   "execution_count": 25,
   "id": "e95e1806",
   "metadata": {},
   "outputs": [
    {
     "data": {
      "text/plain": [
       "31084"
      ]
     },
     "execution_count": 25,
     "metadata": {},
     "output_type": "execute_result"
    }
   ],
   "source": [
    "len(a)"
   ]
  },
  {
   "cell_type": "code",
   "execution_count": 26,
   "id": "2f86bafc",
   "metadata": {},
   "outputs": [
    {
     "data": {
      "text/plain": [
       "4012"
      ]
     },
     "execution_count": 26,
     "metadata": {},
     "output_type": "execute_result"
    }
   ],
   "source": [
    "len(b)"
   ]
  },
  {
   "cell_type": "code",
   "execution_count": 27,
   "id": "4c496e9d",
   "metadata": {},
   "outputs": [],
   "source": [
    "# Save \n",
    "\n",
    "np.save(\"Wide_train_30\", a)\n",
    "np.save(\"Wide_test_30\", b)"
   ]
  },
  {
   "cell_type": "markdown",
   "id": "cbcdd722",
   "metadata": {},
   "source": [
    "### 60 mins"
   ]
  },
  {
   "cell_type": "code",
   "execution_count": 28,
   "id": "a28a7611",
   "metadata": {},
   "outputs": [],
   "source": [
    "# Delete first 27 samples\n",
    "a = np.delete(Xtrain, np.s_[0:26], 0)\n",
    "b = np.delete(Xtest, np.s_[0:26], 0)"
   ]
  },
  {
   "cell_type": "code",
   "execution_count": 29,
   "id": "1379200a",
   "metadata": {},
   "outputs": [
    {
     "data": {
      "text/plain": [
       "31078"
      ]
     },
     "execution_count": 29,
     "metadata": {},
     "output_type": "execute_result"
    }
   ],
   "source": [
    "len(a)"
   ]
  },
  {
   "cell_type": "code",
   "execution_count": 30,
   "id": "99fb5e78",
   "metadata": {},
   "outputs": [
    {
     "data": {
      "text/plain": [
       "4006"
      ]
     },
     "execution_count": 30,
     "metadata": {},
     "output_type": "execute_result"
    }
   ],
   "source": [
    "len(b)"
   ]
  },
  {
   "cell_type": "code",
   "execution_count": 31,
   "id": "4e723a5b",
   "metadata": {},
   "outputs": [],
   "source": [
    "# Save \n",
    "\n",
    "np.save(\"Wide_train_60\", a)\n",
    "np.save(\"Wide_test_60\", b)"
   ]
  }
 ],
 "metadata": {
  "kernelspec": {
   "display_name": "Python 3 (ipykernel)",
   "language": "python",
   "name": "python3"
  },
  "language_info": {
   "codemirror_mode": {
    "name": "ipython",
    "version": 3
   },
   "file_extension": ".py",
   "mimetype": "text/x-python",
   "name": "python",
   "nbconvert_exporter": "python",
   "pygments_lexer": "ipython3",
   "version": "3.9.7"
  }
 },
 "nbformat": 4,
 "nbformat_minor": 5
}
