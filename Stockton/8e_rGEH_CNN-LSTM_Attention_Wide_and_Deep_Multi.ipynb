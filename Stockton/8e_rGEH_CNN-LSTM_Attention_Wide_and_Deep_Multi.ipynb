{
 "cells": [
  {
   "cell_type": "code",
   "execution_count": 1,
   "metadata": {},
   "outputs": [],
   "source": [
    "import pandas as pd\n",
    "import numpy as np\n",
    "import matplotlib.pyplot as plt\n",
    "import seaborn as sns\n",
    "import joblib\n",
    "import os"
   ]
  },
  {
   "cell_type": "code",
   "execution_count": 2,
   "metadata": {},
   "outputs": [],
   "source": [
    "import keras_tuner as kt\n",
    "from keras_tuner import RandomSearch\n",
    "from GEH_LOSS import GEH_loss\n",
    "import geh as ga"
   ]
  },
  {
   "cell_type": "code",
   "execution_count": 3,
   "metadata": {},
   "outputs": [],
   "source": [
    "from sklearn.metrics import mean_absolute_error,mean_squared_error,mean_absolute_percentage_error"
   ]
  },
  {
   "cell_type": "code",
   "execution_count": 4,
   "metadata": {},
   "outputs": [],
   "source": [
    "import relative_accuracy as ra"
   ]
  },
  {
   "cell_type": "code",
   "execution_count": 5,
   "metadata": {},
   "outputs": [],
   "source": [
    "# Load all Inputs and Output Data\n",
    "\n",
    "# 5 mins (1 step ahead)\n",
    "Deep_train_5   = np.load(\"Deep_train_5_multi.npz\")['x'] \n",
    "Output_train_5 = np.load(\"Deep_train_5_multi.npz\")['y']\n",
    "\n",
    "Deep_test_5   = np.load(\"Deep_test_5_multi.npz\")['x'] \n",
    "Output_test_5 = np.load(\"Deep_test_5_multi.npz\")['y'] \n",
    "\n",
    "# 15 mins (3 steps ahead)\n",
    "Deep_train_15   = np.load(\"Deep_train_15_multi.npz\")['x'] \n",
    "Output_train_15 = np.load(\"Deep_train_15_multi.npz\")['y']\n",
    "\n",
    "Deep_test_15   = np.load(\"Deep_test_15_multi.npz\")['x'] \n",
    "Output_test_15 = np.load(\"Deep_test_15_multi.npz\")['y']\n",
    "\n",
    "# 30 mins (6 steps ahead)\n",
    "Deep_train_30   = np.load(\"Deep_train_30_multi.npz\")['x'] \n",
    "Output_train_30 = np.load(\"Deep_train_30_multi.npz\")['y']\n",
    "\n",
    "Deep_test_30   = np.load(\"Deep_test_30_multi.npz\")['x'] \n",
    "Output_test_30 = np.load(\"Deep_test_30_multi.npz\")['y']\n",
    "\n",
    "# 60 mins (12 steps ahead)\n",
    "Deep_train_60   = np.load(\"Deep_train_60_multi.npz\")['x'] \n",
    "Output_train_60 = np.load(\"Deep_train_60_multi.npz\")['y']\n",
    "\n",
    "Deep_test_60   = np.load(\"Deep_test_60_multi.npz\")['x'] \n",
    "Output_test_60 = np.load(\"Deep_test_60_multi.npz\")['y']"
   ]
  },
  {
   "cell_type": "code",
   "execution_count": 6,
   "metadata": {},
   "outputs": [],
   "source": [
    "# Wide Data\n",
    "Xtrain = joblib.load(\"002weeks_train_Multi.save\") \n",
    "Xtest = joblib.load(\"002weeks_test_Multi.save\") "
   ]
  },
  {
   "cell_type": "code",
   "execution_count": 7,
   "metadata": {},
   "outputs": [],
   "source": [
    "# 5 mins\n",
    "# Delete first 15 samples\n",
    "Wide_train_5 = np.delete(Xtrain, np.s_[0:15], 0)\n",
    "Wide_test_5 = np.delete(Xtest, np.s_[0:15], 0)"
   ]
  },
  {
   "cell_type": "code",
   "execution_count": 8,
   "metadata": {},
   "outputs": [],
   "source": [
    "# 15 mins\n",
    "# Delete first 17 samples\n",
    "Wide_train_15 = np.delete(Xtrain, np.s_[0:17], 0)\n",
    "Wide_test_15 = np.delete(Xtest, np.s_[0:17], 0)"
   ]
  },
  {
   "cell_type": "code",
   "execution_count": 9,
   "metadata": {},
   "outputs": [],
   "source": [
    "# 30 mins\n",
    "# Delete first 20 samples\n",
    "Wide_train_30 = np.delete(Xtrain, np.s_[0:20], 0)\n",
    "Wide_test_30 = np.delete(Xtest, np.s_[0:20], 0)"
   ]
  },
  {
   "cell_type": "code",
   "execution_count": 10,
   "metadata": {},
   "outputs": [],
   "source": [
    "# 60 mins\n",
    "# Delete first 27 samples\n",
    "Wide_train_60 = np.delete(Xtrain, np.s_[0:26], 0)\n",
    "Wide_test_60 = np.delete(Xtest, np.s_[0:26], 0)"
   ]
  },
  {
   "cell_type": "code",
   "execution_count": 11,
   "metadata": {},
   "outputs": [
    {
     "name": "stderr",
     "output_type": "stream",
     "text": [
      "C:\\Users\\esugom\\.conda\\envs\\my_env\\lib\\site-packages\\sklearn\\base.py:324: UserWarning: Trying to unpickle estimator MinMaxScaler from version 1.0.2 when using version 1.0.1. This might lead to breaking code or invalid results. Use at your own risk. For more info please refer to:\n",
      "https://scikit-learn.org/stable/modules/model_persistence.html#security-maintainability-limitations\n",
      "  warnings.warn(\n"
     ]
    }
   ],
   "source": [
    "scaler_filename = \"scaler.save\"\n",
    "scaler = joblib.load(scaler_filename) "
   ]
  },
  {
   "cell_type": "code",
   "execution_count": 12,
   "metadata": {},
   "outputs": [],
   "source": [
    "Test      = pd.read_csv('01test_scaled.csv', index_col=None, parse_dates=[8])"
   ]
  },
  {
   "cell_type": "code",
   "execution_count": 13,
   "metadata": {},
   "outputs": [],
   "source": [
    "from mpl_toolkits.axes_grid1.inset_locator import inset_axes\n",
    "from mpl_toolkits.axes_grid1.inset_locator import mark_inset\n",
    "from matplotlib import ticker\n",
    "formatter = ticker.ScalarFormatter(useMathText=True)\n",
    "formatter.set_scientific(True) \n",
    "formatter.set_powerlimits((-1,1)) \n",
    "plt.rc('font', size=30)"
   ]
  },
  {
   "cell_type": "markdown",
   "metadata": {},
   "source": [
    "# Reshape Samples"
   ]
  },
  {
   "cell_type": "markdown",
   "metadata": {},
   "source": [
    "The first step is to split the input sequences into subsequences that can be processed by the CNN model. Here, each spatio-temporal sample can be split into three sub-samples, each with five time steps. The CNN can interpret each subsequence of five time steps and provide a time series of interpretations of the subsequences to the LSTM model to process as input."
   ]
  },
  {
   "cell_type": "code",
   "execution_count": 14,
   "metadata": {},
   "outputs": [],
   "source": [
    "# reshape from [samples, timesteps] into [samples, subsequences, timesteps, features]\n",
    "n_features = 7                # No of loop detectors\n",
    "n_seq = 3                     # Subsequences\n",
    "n_steps = 5                   # time-step per subsequence\n",
    "# val_percent = 0.07567       # 2 weeks\n",
    "val_percent = 0.2        \n",
    "batch_size = 32\n",
    "\n",
    "n_seq_ = 3                     # Subsequences\n",
    "n_steps_ = 3                   # time-step per subsequence"
   ]
  },
  {
   "cell_type": "markdown",
   "metadata": {},
   "source": [
    "#### 5 mins"
   ]
  },
  {
   "cell_type": "code",
   "execution_count": 15,
   "metadata": {},
   "outputs": [],
   "source": [
    "# Train\n",
    "# reshape from [samples, timesteps] into [samples, subsequences, timesteps, features]\n",
    "Xt5 = Deep_train_5.reshape((Deep_train_5.shape[0], n_seq, n_steps, n_features))\n",
    "yt5 = scaler.inverse_transform(Output_train_5)"
   ]
  },
  {
   "cell_type": "code",
   "execution_count": 16,
   "metadata": {},
   "outputs": [],
   "source": [
    "# Test\n",
    "# reshape from [samples, timesteps] into [samples, subsequences, timesteps, features]\n",
    "Xv5 = Deep_test_5.reshape((Deep_test_5.shape[0], n_seq, n_steps, n_features))\n",
    "yv5 = scaler.inverse_transform(Output_test_5)"
   ]
  },
  {
   "cell_type": "markdown",
   "metadata": {},
   "source": [
    "#### 15 mins"
   ]
  },
  {
   "cell_type": "code",
   "execution_count": 17,
   "metadata": {},
   "outputs": [],
   "source": [
    "# Train\n",
    "# reshape from [samples, timesteps] into [samples, subsequences, timesteps, features]\n",
    "Xt15 = Deep_train_15.reshape((Deep_train_15.shape[0], n_seq, n_steps, n_features))\n",
    "yt15 = scaler.inverse_transform(Output_train_15)"
   ]
  },
  {
   "cell_type": "code",
   "execution_count": 18,
   "metadata": {},
   "outputs": [],
   "source": [
    "# Test\n",
    "# reshape from [samples, timesteps] into [samples, subsequences, timesteps, features]\n",
    "Xv15 = Deep_test_15.reshape((Deep_test_15.shape[0], n_seq, n_steps, n_features))\n",
    "yv15 = scaler.inverse_transform(Output_test_15)"
   ]
  },
  {
   "cell_type": "markdown",
   "metadata": {},
   "source": [
    "#### 30 mins"
   ]
  },
  {
   "cell_type": "code",
   "execution_count": 19,
   "metadata": {},
   "outputs": [],
   "source": [
    "# Train\n",
    "# reshape from [samples, timesteps] into [samples, subsequences, timesteps, features]\n",
    "Xt30 = Deep_train_30.reshape((Deep_train_30.shape[0], n_seq, n_steps, n_features))\n",
    "yt30 = scaler.inverse_transform(Output_train_30)"
   ]
  },
  {
   "cell_type": "code",
   "execution_count": 20,
   "metadata": {},
   "outputs": [],
   "source": [
    "# Test\n",
    "# reshape from [samples, timesteps] into [samples, subsequences, timesteps, features]\n",
    "Xv30 = Deep_test_30.reshape((Deep_test_30.shape[0], n_seq, n_steps, n_features))\n",
    "yv30 = scaler.inverse_transform(Output_test_30)"
   ]
  },
  {
   "cell_type": "markdown",
   "metadata": {},
   "source": [
    "#### 60 mins"
   ]
  },
  {
   "cell_type": "code",
   "execution_count": 21,
   "metadata": {},
   "outputs": [],
   "source": [
    "# Train\n",
    "# reshape from [samples, timesteps] into [samples, subsequences, timesteps, features]\n",
    "Xt60 = Deep_train_60.reshape((Deep_train_60.shape[0], n_seq, n_steps, n_features))\n",
    "yt60 = scaler.inverse_transform(Output_train_60)"
   ]
  },
  {
   "cell_type": "code",
   "execution_count": 22,
   "metadata": {},
   "outputs": [],
   "source": [
    "# Test\n",
    "# reshape from [samples, timesteps] into [samples, subsequences, timesteps, features]\n",
    "Xv60 = Deep_test_60.reshape((Deep_test_60.shape[0], n_seq, n_steps, n_features))\n",
    "yv60 = scaler.inverse_transform(Output_test_60)"
   ]
  },
  {
   "cell_type": "markdown",
   "metadata": {},
   "source": [
    "### Reshaping the Data for Conv2D layer\n",
    "\n",
    "For Conv2D, there is a need to add one more dimension to show we're dealing with 1 channel (since technically the images are in black and white, only showing values from 0-max flow on a single channel).\n",
    "\n",
    "Conv1D - strides in 1 dimension\n",
    "Conv2D - strides in 2 dimensions"
   ]
  },
  {
   "cell_type": "code",
   "execution_count": 23,
   "metadata": {},
   "outputs": [],
   "source": [
    "# define no_of_channels\n",
    "n_channels = 1"
   ]
  },
  {
   "cell_type": "code",
   "execution_count": 24,
   "metadata": {},
   "outputs": [],
   "source": [
    "# Train data\n",
    "Xt5  =  Xt5.reshape(Xt5.shape[0], n_seq, n_steps, n_features, n_channels)\n",
    "Xt15 =  Xt15.reshape(Xt15.shape[0], n_seq, n_steps, n_features, n_channels)\n",
    "Xt30 =  Xt30.reshape(Xt30.shape[0], n_seq, n_steps, n_features, n_channels)\n",
    "Xt60 =  Xt60.reshape(Xt60.shape[0], n_seq, n_steps, n_features, n_channels)\n",
    "\n",
    "# Validation data\n",
    "Xv5  =  Xv5.reshape(Xv5.shape[0], n_seq, n_steps, n_features, n_channels)\n",
    "Xv15 =  Xv15.reshape(Xv15.shape[0], n_seq, n_steps, n_features, n_channels)\n",
    "Xv30 =  Xv30.reshape(Xv30.shape[0], n_seq, n_steps, n_features, n_channels)\n",
    "Xv60 =  Xv60.reshape(Xv60.shape[0], n_seq, n_steps, n_features, n_channels)"
   ]
  },
  {
   "cell_type": "code",
   "execution_count": 25,
   "metadata": {},
   "outputs": [],
   "source": [
    "Wt5  = Wide_train_5\n",
    "Wt15 = Wide_train_15\n",
    "Wt30 = Wide_train_30\n",
    "Wt60 = Wide_train_60\n",
    "\n",
    "Wv5  = Wide_test_5\n",
    "Wv15 = Wide_test_15\n",
    "Wv30 = Wide_test_30\n",
    "Wv60 = Wide_test_60"
   ]
  },
  {
   "cell_type": "code",
   "execution_count": 26,
   "metadata": {},
   "outputs": [],
   "source": [
    "# Train data\n",
    "Wt5  =  Wt5.reshape(Wt5.shape[0], n_seq_, n_steps_, n_features, n_channels)\n",
    "Wt15 =  Wt15.reshape(Wt15.shape[0], n_seq_, n_steps_, n_features, n_channels)\n",
    "Wt30 =  Wt30.reshape(Wt30.shape[0], n_seq_, n_steps_, n_features, n_channels)\n",
    "Wt60 =  Wt60.reshape(Wt60.shape[0], n_seq_, n_steps_, n_features, n_channels)\n",
    "\n",
    "# Validation data\n",
    "Wv5  =  Wv5.reshape(Wv5.shape[0], n_seq_, n_steps_, n_features, n_channels)\n",
    "Wv15 =  Wv15.reshape(Wv15.shape[0], n_seq_, n_steps_, n_features, n_channels)\n",
    "Wv30 =  Wv30.reshape(Wv30.shape[0], n_seq_, n_steps_, n_features, n_channels)\n",
    "Wv60 =  Wv60.reshape(Wv60.shape[0], n_seq_, n_steps_, n_features, n_channels)"
   ]
  },
  {
   "cell_type": "code",
   "execution_count": 27,
   "metadata": {},
   "outputs": [
    {
     "data": {
      "text/plain": [
       "(31089, 3, 5, 7, 1)"
      ]
     },
     "execution_count": 27,
     "metadata": {},
     "output_type": "execute_result"
    }
   ],
   "source": [
    "Xt5.shape"
   ]
  },
  {
   "cell_type": "code",
   "execution_count": 28,
   "metadata": {},
   "outputs": [
    {
     "data": {
      "text/plain": [
       "(31089, 3, 3, 7, 1)"
      ]
     },
     "execution_count": 28,
     "metadata": {},
     "output_type": "execute_result"
    }
   ],
   "source": [
    "Wt5.shape"
   ]
  },
  {
   "cell_type": "markdown",
   "metadata": {},
   "source": [
    "# CNN-LSTM model"
   ]
  },
  {
   "cell_type": "code",
   "execution_count": 29,
   "metadata": {},
   "outputs": [],
   "source": [
    "from tensorflow import keras\n",
    "from keras_self_attention import SeqSelfAttention\n",
    "\n",
    "# Early Stopping\n",
    "early_stop = keras.callbacks.EarlyStopping(monitor='val_loss',patience=5, restore_best_weights = True)"
   ]
  },
  {
   "cell_type": "code",
   "execution_count": 30,
   "metadata": {},
   "outputs": [
    {
     "data": {
      "text/plain": [
       "(31089, 9, 7)"
      ]
     },
     "execution_count": 30,
     "metadata": {},
     "output_type": "execute_result"
    }
   ],
   "source": [
    "Wide_train_5.shape"
   ]
  },
  {
   "cell_type": "markdown",
   "metadata": {},
   "source": [
    "# 5 mins ahead"
   ]
  },
  {
   "cell_type": "code",
   "execution_count": 31,
   "metadata": {},
   "outputs": [],
   "source": [
    "def build_model_5(hp):\n",
    "    # Inputs\n",
    "    channel_Wide = keras.layers.Input(shape=Wt5.shape[1:], name=\"WideInput\")\n",
    "    channel_Deep = keras.layers.Input(shape=Xt5.shape[1:], name=\"DeepInput\")\n",
    "    units = hp.Int(\"units\", min_value=1, max_value=100, step=1)\n",
    "    \n",
    "    \n",
    "    # Wide Model\n",
    "    flatten_5w = keras.layers.TimeDistributed(keras.layers.Flatten())(channel_Wide)\n",
    "    Bi_5 = keras.layers.Bidirectional(\n",
    "        keras.layers.LSTM(units=units, return_sequences=True),\n",
    "        merge_mode=\"ave\"\n",
    "    )(flatten_5w)\n",
    "    \n",
    "    \n",
    "    # Deep Model\n",
    "    # CNN \n",
    "    CNN_5 = keras.layers.TimeDistributed(\n",
    "        keras.layers.Conv2D(filters=hp.Int(\"filters\", min_value=32, max_value=512, step=32),\n",
    "                            kernel_size=hp.Choice(\"kernel_size\", [2, 3]), activation='relu'))(channel_Deep)\n",
    "    flatten_5 = keras.layers.TimeDistributed(keras.layers.Flatten())(CNN_5)\n",
    "    # LSTM          \n",
    "    LSTM_5 = keras.layers.LSTM(units=units, return_sequences=True)(flatten_5)\n",
    "\n",
    "    \n",
    "    # Concatenation \n",
    "    concat = keras.layers.concatenate([Bi_5, LSTM_5], axis=1)\n",
    "\n",
    "    # Attention\n",
    "    Att_5 = SeqSelfAttention(attention_activation='sigmoid')(concat)\n",
    "    merge = keras.layers.Flatten()(Att_5)\n",
    "\n",
    "    \n",
    "    # Output\n",
    "    output = keras.layers.Dense(n_features, name= \"output\")(merge)\n",
    "    \n",
    "    # Model\n",
    "    model_5 = keras.Model(inputs=[channel_Wide,channel_Deep], outputs=[output])\n",
    "\n",
    "    # Compile\n",
    "    model_5.compile(optimizer=keras.optimizers.Adam(hp.Choice(\"learning_rate\", [1e-2, 1e-3, 1e-4])), \n",
    "        loss=GEH_loss, metrics=['MeanAbsoluteError','RootMeanSquaredError','MeanAbsolutePercentageError'])\n",
    "                                   \n",
    "    return model_5"
   ]
  },
  {
   "cell_type": "code",
   "execution_count": 32,
   "metadata": {},
   "outputs": [],
   "source": [
    "tuner5 = RandomSearch(\n",
    "    build_model_5,\n",
    "    objective=\"val_loss\",\n",
    "    max_trials=60,\n",
    "    executions_per_trial=2,\n",
    "    overwrite=False,\n",
    "    directory=os.path.normpath('C:/Runs'),\n",
    "    project_name=\"8e-5\",\n",
    ")"
   ]
  },
  {
   "cell_type": "code",
   "execution_count": 32,
   "metadata": {},
   "outputs": [
    {
     "name": "stdout",
     "output_type": "stream",
     "text": [
      "Search space summary\n",
      "Default search space size: 4\n",
      "units (Int)\n",
      "{'default': None, 'conditions': [], 'min_value': 1, 'max_value': 100, 'step': 1, 'sampling': None}\n",
      "filters (Int)\n",
      "{'default': None, 'conditions': [], 'min_value': 32, 'max_value': 512, 'step': 32, 'sampling': None}\n",
      "kernel_size (Choice)\n",
      "{'default': 2, 'conditions': [], 'values': [2, 3], 'ordered': True}\n",
      "learning_rate (Choice)\n",
      "{'default': 0.01, 'conditions': [], 'values': [0.01, 0.001, 0.0001], 'ordered': True}\n"
     ]
    }
   ],
   "source": [
    "tuner5.search_space_summary()"
   ]
  },
  {
   "cell_type": "code",
   "execution_count": 33,
   "metadata": {},
   "outputs": [
    {
     "name": "stdout",
     "output_type": "stream",
     "text": [
      "Trial 60 Complete [00h 02m 30s]\n",
      "val_loss: 7.861430406570435\n",
      "\n",
      "Best val_loss So Far: 7.755388259887695\n",
      "Total elapsed time: 15h 12m 49s\n",
      "INFO:tensorflow:Oracle triggered exit\n"
     ]
    }
   ],
   "source": [
    "tuner5.search((Wt5,Xt5), yt5, epochs=200,\n",
    "           validation_split = val_percent,\n",
    "           callbacks = [early_stop],\n",
    "           verbose=2)"
   ]
  },
  {
   "cell_type": "code",
   "execution_count": 34,
   "metadata": {},
   "outputs": [
    {
     "name": "stdout",
     "output_type": "stream",
     "text": [
      "Results summary\n",
      "Results in C:\\Runs\\8e-5\n",
      "Showing 1 best trials\n",
      "Objective(name='val_loss', direction='min')\n",
      "Trial summary\n",
      "Hyperparameters:\n",
      "units: 80\n",
      "filters: 192\n",
      "kernel_size: 3\n",
      "learning_rate: 0.001\n",
      "Score: 7.755388259887695\n"
     ]
    }
   ],
   "source": [
    "tuner5.results_summary(1)"
   ]
  },
  {
   "cell_type": "markdown",
   "metadata": {},
   "source": [
    "### Best Model"
   ]
  },
  {
   "cell_type": "code",
   "execution_count": 33,
   "metadata": {},
   "outputs": [],
   "source": [
    "scaler_filename = \"Best_HP/8e-5\"\n",
    "best_hp5 = joblib.load(scaler_filename) \n",
    "\n",
    "model5 = tuner5.hypermodel.build(best_hp5)"
   ]
  },
  {
   "cell_type": "code",
   "execution_count": 35,
   "metadata": {},
   "outputs": [],
   "source": [
    "best_hp5 = tuner5.get_best_hyperparameters()[0]\n",
    "model5 = tuner5.hypermodel.build(best_hp5)"
   ]
  },
  {
   "cell_type": "code",
   "execution_count": 36,
   "metadata": {},
   "outputs": [
    {
     "data": {
      "text/plain": [
       "['Best_HP/8e-5']"
      ]
     },
     "execution_count": 36,
     "metadata": {},
     "output_type": "execute_result"
    }
   ],
   "source": [
    "scaler_filename = \"Best_HP/8e-5\"\n",
    "joblib.dump(best_hp5, scaler_filename) "
   ]
  },
  {
   "cell_type": "code",
   "execution_count": 37,
   "metadata": {},
   "outputs": [
    {
     "name": "stdout",
     "output_type": "stream",
     "text": [
      "Model: \"model_1\"\n",
      "__________________________________________________________________________________________________\n",
      " Layer (type)                   Output Shape         Param #     Connected to                     \n",
      "==================================================================================================\n",
      " DeepInput (InputLayer)         [(None, 3, 5, 7, 1)  0           []                               \n",
      "                                ]                                                                 \n",
      "                                                                                                  \n",
      " WideInput (InputLayer)         [(None, 3, 3, 7, 1)  0           []                               \n",
      "                                ]                                                                 \n",
      "                                                                                                  \n",
      " time_distributed_4 (TimeDistri  (None, 3, 3, 5, 192  1920       ['DeepInput[0][0]']              \n",
      " buted)                         )                                                                 \n",
      "                                                                                                  \n",
      " time_distributed_3 (TimeDistri  (None, 3, 21)       0           ['WideInput[0][0]']              \n",
      " buted)                                                                                           \n",
      "                                                                                                  \n",
      " time_distributed_5 (TimeDistri  (None, 3, 2880)     0           ['time_distributed_4[0][0]']     \n",
      " buted)                                                                                           \n",
      "                                                                                                  \n",
      " bidirectional_1 (Bidirectional  (None, 3, 80)       65280       ['time_distributed_3[0][0]']     \n",
      " )                                                                                                \n",
      "                                                                                                  \n",
      " lstm_3 (LSTM)                  (None, 3, 80)        947520      ['time_distributed_5[0][0]']     \n",
      "                                                                                                  \n",
      " concatenate_1 (Concatenate)    (None, 6, 80)        0           ['bidirectional_1[0][0]',        \n",
      "                                                                  'lstm_3[0][0]']                 \n",
      "                                                                                                  \n",
      " seq_self_attention_1 (SeqSelfA  (None, 6, 80)       5185        ['concatenate_1[0][0]']          \n",
      " ttention)                                                                                        \n",
      "                                                                                                  \n",
      " flatten_5 (Flatten)            (None, 480)          0           ['seq_self_attention_1[0][0]']   \n",
      "                                                                                                  \n",
      " output (Dense)                 (None, 7)            3367        ['flatten_5[0][0]']              \n",
      "                                                                                                  \n",
      "==================================================================================================\n",
      "Total params: 1,023,272\n",
      "Trainable params: 1,023,272\n",
      "Non-trainable params: 0\n",
      "__________________________________________________________________________________________________\n"
     ]
    }
   ],
   "source": [
    "model5.summary()"
   ]
  },
  {
   "cell_type": "code",
   "execution_count": 34,
   "metadata": {},
   "outputs": [
    {
     "name": "stdout",
     "output_type": "stream",
     "text": [
      "Epoch 1/100\n",
      "778/778 [==============================] - 22s 17ms/step - loss: 30.4529 - mean_absolute_error: 103.7908 - root_mean_squared_error: 143.4038 - mean_absolute_percentage_error: 47172880.0000 - val_loss: 11.0999 - val_mean_absolute_error: 35.7859 - val_root_mean_squared_error: 53.5636 - val_mean_absolute_percentage_error: 2741579.7500\n",
      "Epoch 2/100\n",
      "778/778 [==============================] - 11s 14ms/step - loss: 9.9617 - mean_absolute_error: 24.7914 - root_mean_squared_error: 37.1751 - mean_absolute_percentage_error: 51737716.0000 - val_loss: 8.5510 - val_mean_absolute_error: 20.4594 - val_root_mean_squared_error: 28.1683 - val_mean_absolute_percentage_error: 3207578.5000\n",
      "Epoch 3/100\n",
      "778/778 [==============================] - 11s 14ms/step - loss: 8.6754 - mean_absolute_error: 19.2545 - root_mean_squared_error: 26.8375 - mean_absolute_percentage_error: 55201772.0000 - val_loss: 8.3016 - val_mean_absolute_error: 19.2486 - val_root_mean_squared_error: 26.0007 - val_mean_absolute_percentage_error: 3415872.2500\n",
      "Epoch 4/100\n",
      "778/778 [==============================] - 10s 13ms/step - loss: 8.5242 - mean_absolute_error: 18.6830 - root_mean_squared_error: 25.8030 - mean_absolute_percentage_error: 56454084.0000 - val_loss: 8.2255 - val_mean_absolute_error: 19.0507 - val_root_mean_squared_error: 25.7310 - val_mean_absolute_percentage_error: 3396401.2500\n",
      "Epoch 5/100\n",
      "778/778 [==============================] - 11s 14ms/step - loss: 8.4178 - mean_absolute_error: 18.2579 - root_mean_squared_error: 25.1571 - mean_absolute_percentage_error: 56570040.0000 - val_loss: 8.1362 - val_mean_absolute_error: 18.6459 - val_root_mean_squared_error: 25.1153 - val_mean_absolute_percentage_error: 3454775.7500\n",
      "Epoch 6/100\n",
      "778/778 [==============================] - 10s 13ms/step - loss: 8.3392 - mean_absolute_error: 17.9267 - root_mean_squared_error: 24.6795 - mean_absolute_percentage_error: 55769396.0000 - val_loss: 8.1195 - val_mean_absolute_error: 18.5984 - val_root_mean_squared_error: 25.0193 - val_mean_absolute_percentage_error: 3348586.0000\n",
      "Epoch 7/100\n",
      "778/778 [==============================] - 10s 13ms/step - loss: 8.2880 - mean_absolute_error: 17.6580 - root_mean_squared_error: 24.2782 - mean_absolute_percentage_error: 53533952.0000 - val_loss: 8.0054 - val_mean_absolute_error: 18.0044 - val_root_mean_squared_error: 24.1727 - val_mean_absolute_percentage_error: 3199059.0000\n",
      "Epoch 8/100\n",
      "778/778 [==============================] - 10s 13ms/step - loss: 8.2540 - mean_absolute_error: 17.5222 - root_mean_squared_error: 24.0764 - mean_absolute_percentage_error: 51642980.0000 - val_loss: 8.0282 - val_mean_absolute_error: 18.0352 - val_root_mean_squared_error: 24.1802 - val_mean_absolute_percentage_error: 3497189.0000\n",
      "Epoch 9/100\n",
      "778/778 [==============================] - 10s 13ms/step - loss: 8.2239 - mean_absolute_error: 17.3260 - root_mean_squared_error: 23.7917 - mean_absolute_percentage_error: 49572708.0000 - val_loss: 7.9734 - val_mean_absolute_error: 17.6833 - val_root_mean_squared_error: 23.7719 - val_mean_absolute_percentage_error: 3355697.7500\n",
      "Epoch 10/100\n",
      "778/778 [==============================] - 10s 13ms/step - loss: 8.1915 - mean_absolute_error: 17.2407 - root_mean_squared_error: 23.6789 - mean_absolute_percentage_error: 45795564.0000 - val_loss: 7.9765 - val_mean_absolute_error: 17.9456 - val_root_mean_squared_error: 24.0162 - val_mean_absolute_percentage_error: 3349549.7500\n",
      "Epoch 11/100\n",
      "778/778 [==============================] - 10s 13ms/step - loss: 8.1526 - mean_absolute_error: 17.1088 - root_mean_squared_error: 23.4780 - mean_absolute_percentage_error: 42434512.0000 - val_loss: 7.9395 - val_mean_absolute_error: 17.5485 - val_root_mean_squared_error: 23.6069 - val_mean_absolute_percentage_error: 3244418.2500\n",
      "Epoch 12/100\n",
      "778/778 [==============================] - 10s 13ms/step - loss: 8.1383 - mean_absolute_error: 17.0490 - root_mean_squared_error: 23.3680 - mean_absolute_percentage_error: 38281652.0000 - val_loss: 7.9992 - val_mean_absolute_error: 18.1413 - val_root_mean_squared_error: 24.2596 - val_mean_absolute_percentage_error: 3075388.2500\n",
      "Epoch 13/100\n",
      "778/778 [==============================] - 11s 14ms/step - loss: 8.1165 - mean_absolute_error: 16.9766 - root_mean_squared_error: 23.2588 - mean_absolute_percentage_error: 32826564.0000 - val_loss: 7.9273 - val_mean_absolute_error: 17.4539 - val_root_mean_squared_error: 23.4346 - val_mean_absolute_percentage_error: 3498602.2500\n",
      "Epoch 14/100\n",
      "778/778 [==============================] - 10s 13ms/step - loss: 8.0867 - mean_absolute_error: 16.8839 - root_mean_squared_error: 23.1254 - mean_absolute_percentage_error: 25990846.0000 - val_loss: 7.9208 - val_mean_absolute_error: 17.3487 - val_root_mean_squared_error: 23.2536 - val_mean_absolute_percentage_error: 3524690.0000\n",
      "Epoch 15/100\n",
      "778/778 [==============================] - 10s 13ms/step - loss: 8.0454 - mean_absolute_error: 16.8377 - root_mean_squared_error: 23.0526 - mean_absolute_percentage_error: 12917618.0000 - val_loss: 7.8977 - val_mean_absolute_error: 17.3408 - val_root_mean_squared_error: 23.2513 - val_mean_absolute_percentage_error: 3505671.0000\n",
      "Epoch 16/100\n",
      "778/778 [==============================] - 10s 13ms/step - loss: 7.9994 - mean_absolute_error: 16.7601 - root_mean_squared_error: 22.9390 - mean_absolute_percentage_error: 9067976.0000 - val_loss: 7.9063 - val_mean_absolute_error: 17.3363 - val_root_mean_squared_error: 23.3061 - val_mean_absolute_percentage_error: 3522283.7500\n",
      "Epoch 17/100\n",
      "778/778 [==============================] - 10s 13ms/step - loss: 8.0154 - mean_absolute_error: 16.7519 - root_mean_squared_error: 22.9111 - mean_absolute_percentage_error: 10600445.0000 - val_loss: 7.9336 - val_mean_absolute_error: 17.4882 - val_root_mean_squared_error: 23.3562 - val_mean_absolute_percentage_error: 4169351.2500\n",
      "Epoch 18/100\n",
      "778/778 [==============================] - 10s 13ms/step - loss: 8.0632 - mean_absolute_error: 16.7184 - root_mean_squared_error: 22.8849 - mean_absolute_percentage_error: 34490224.0000 - val_loss: 7.8329 - val_mean_absolute_error: 17.0676 - val_root_mean_squared_error: 22.8764 - val_mean_absolute_percentage_error: 3380083.0000\n",
      "Epoch 19/100\n",
      "778/778 [==============================] - 10s 13ms/step - loss: 8.0040 - mean_absolute_error: 16.5892 - root_mean_squared_error: 22.7009 - mean_absolute_percentage_error: 17357884.0000 - val_loss: 7.8506 - val_mean_absolute_error: 17.0781 - val_root_mean_squared_error: 22.8553 - val_mean_absolute_percentage_error: 3367681.7500\n",
      "Epoch 20/100\n",
      "778/778 [==============================] - 10s 13ms/step - loss: 7.9516 - mean_absolute_error: 16.5726 - root_mean_squared_error: 22.6800 - mean_absolute_percentage_error: 7412461.5000 - val_loss: 7.8677 - val_mean_absolute_error: 17.1128 - val_root_mean_squared_error: 22.9115 - val_mean_absolute_percentage_error: 3299886.2500\n",
      "Epoch 21/100\n",
      "778/778 [==============================] - 10s 13ms/step - loss: 7.9290 - mean_absolute_error: 16.4915 - root_mean_squared_error: 22.5730 - mean_absolute_percentage_error: 7834874.0000 - val_loss: 7.8948 - val_mean_absolute_error: 17.3898 - val_root_mean_squared_error: 23.2619 - val_mean_absolute_percentage_error: 3487924.2500\n",
      "Epoch 22/100\n",
      "778/778 [==============================] - 10s 13ms/step - loss: 7.9257 - mean_absolute_error: 16.4515 - root_mean_squared_error: 22.5330 - mean_absolute_percentage_error: 7051760.5000 - val_loss: 7.8724 - val_mean_absolute_error: 17.1968 - val_root_mean_squared_error: 23.1074 - val_mean_absolute_percentage_error: 3411730.5000\n",
      "Epoch 23/100\n",
      "778/778 [==============================] - 10s 13ms/step - loss: 7.9136 - mean_absolute_error: 16.4301 - root_mean_squared_error: 22.4867 - mean_absolute_percentage_error: 7033348.5000 - val_loss: 7.8054 - val_mean_absolute_error: 16.9102 - val_root_mean_squared_error: 22.6277 - val_mean_absolute_percentage_error: 3341320.2500\n",
      "Epoch 24/100\n",
      "778/778 [==============================] - 10s 13ms/step - loss: 7.9189 - mean_absolute_error: 16.3985 - root_mean_squared_error: 22.4440 - mean_absolute_percentage_error: 7469648.0000 - val_loss: 7.8205 - val_mean_absolute_error: 16.9213 - val_root_mean_squared_error: 22.6345 - val_mean_absolute_percentage_error: 3255569.2500\n"
     ]
    },
    {
     "name": "stdout",
     "output_type": "stream",
     "text": [
      "Epoch 25/100\n",
      "778/778 [==============================] - 10s 13ms/step - loss: 7.8921 - mean_absolute_error: 16.3096 - root_mean_squared_error: 22.3362 - mean_absolute_percentage_error: 6911564.0000 - val_loss: 7.8157 - val_mean_absolute_error: 16.8524 - val_root_mean_squared_error: 22.5752 - val_mean_absolute_percentage_error: 3297606.0000\n",
      "Epoch 26/100\n",
      "778/778 [==============================] - 10s 13ms/step - loss: 7.8837 - mean_absolute_error: 16.2895 - root_mean_squared_error: 22.2929 - mean_absolute_percentage_error: 6843570.0000 - val_loss: 7.8233 - val_mean_absolute_error: 16.9764 - val_root_mean_squared_error: 22.7500 - val_mean_absolute_percentage_error: 3288882.2500\n",
      "Epoch 27/100\n",
      "778/778 [==============================] - 10s 13ms/step - loss: 7.9482 - mean_absolute_error: 16.3837 - root_mean_squared_error: 22.3605 - mean_absolute_percentage_error: 19470910.0000 - val_loss: 7.8100 - val_mean_absolute_error: 16.8760 - val_root_mean_squared_error: 22.6090 - val_mean_absolute_percentage_error: 3116916.0000\n",
      "Epoch 28/100\n",
      "778/778 [==============================] - 10s 12ms/step - loss: 7.8848 - mean_absolute_error: 16.2199 - root_mean_squared_error: 22.1976 - mean_absolute_percentage_error: 7134199.5000 - val_loss: 7.8392 - val_mean_absolute_error: 16.9953 - val_root_mean_squared_error: 22.6657 - val_mean_absolute_percentage_error: 3373414.0000\n",
      "Epoch 29/100\n",
      "778/778 [==============================] - 10s 13ms/step - loss: 7.8893 - mean_absolute_error: 16.2471 - root_mean_squared_error: 22.2314 - mean_absolute_percentage_error: 10886076.0000 - val_loss: 7.7980 - val_mean_absolute_error: 16.8541 - val_root_mean_squared_error: 22.5182 - val_mean_absolute_percentage_error: 3106766.5000\n",
      "Epoch 30/100\n",
      "778/778 [==============================] - 10s 13ms/step - loss: 7.9066 - mean_absolute_error: 16.2296 - root_mean_squared_error: 22.1881 - mean_absolute_percentage_error: 12705975.0000 - val_loss: 7.7809 - val_mean_absolute_error: 16.7875 - val_root_mean_squared_error: 22.4054 - val_mean_absolute_percentage_error: 3006628.2500\n",
      "Epoch 31/100\n",
      "778/778 [==============================] - 10s 12ms/step - loss: 7.8476 - mean_absolute_error: 16.1370 - root_mean_squared_error: 22.0796 - mean_absolute_percentage_error: 6530961.5000 - val_loss: 7.7908 - val_mean_absolute_error: 16.8240 - val_root_mean_squared_error: 22.5348 - val_mean_absolute_percentage_error: 3185206.2500\n",
      "Epoch 32/100\n",
      "778/778 [==============================] - 10s 12ms/step - loss: 7.8405 - mean_absolute_error: 16.1173 - root_mean_squared_error: 22.0600 - mean_absolute_percentage_error: 6493711.0000 - val_loss: 7.7759 - val_mean_absolute_error: 16.7155 - val_root_mean_squared_error: 22.3491 - val_mean_absolute_percentage_error: 3046887.5000\n",
      "Epoch 33/100\n",
      "778/778 [==============================] - 11s 14ms/step - loss: 7.8510 - mean_absolute_error: 16.0839 - root_mean_squared_error: 22.0112 - mean_absolute_percentage_error: 6755083.5000 - val_loss: 7.8033 - val_mean_absolute_error: 16.8360 - val_root_mean_squared_error: 22.4966 - val_mean_absolute_percentage_error: 3063568.5000\n",
      "Epoch 34/100\n",
      "778/778 [==============================] - 10s 13ms/step - loss: 7.8438 - mean_absolute_error: 16.0958 - root_mean_squared_error: 22.0157 - mean_absolute_percentage_error: 6682985.5000 - val_loss: 7.7877 - val_mean_absolute_error: 16.9057 - val_root_mean_squared_error: 22.5947 - val_mean_absolute_percentage_error: 2820341.0000\n",
      "Epoch 35/100\n",
      "778/778 [==============================] - 10s 13ms/step - loss: 7.8447 - mean_absolute_error: 16.0858 - root_mean_squared_error: 21.9528 - mean_absolute_percentage_error: 11414467.0000 - val_loss: 7.7936 - val_mean_absolute_error: 16.9126 - val_root_mean_squared_error: 22.6462 - val_mean_absolute_percentage_error: 2982644.2500\n",
      "Epoch 36/100\n",
      "778/778 [==============================] - 10s 13ms/step - loss: 7.8235 - mean_absolute_error: 15.9949 - root_mean_squared_error: 21.8757 - mean_absolute_percentage_error: 5993150.0000 - val_loss: 7.7981 - val_mean_absolute_error: 16.7118 - val_root_mean_squared_error: 22.3943 - val_mean_absolute_percentage_error: 3110078.0000\n",
      "Epoch 37/100\n",
      "778/778 [==============================] - 10s 13ms/step - loss: 7.7977 - mean_absolute_error: 15.9951 - root_mean_squared_error: 21.8642 - mean_absolute_percentage_error: 6009488.5000 - val_loss: 7.7946 - val_mean_absolute_error: 16.6745 - val_root_mean_squared_error: 22.2882 - val_mean_absolute_percentage_error: 3263154.7500\n",
      "Epoch 38/100\n",
      "778/778 [==============================] - 10s 13ms/step - loss: 7.8071 - mean_absolute_error: 15.9790 - root_mean_squared_error: 21.8386 - mean_absolute_percentage_error: 5794595.0000 - val_loss: 7.7587 - val_mean_absolute_error: 16.6445 - val_root_mean_squared_error: 22.2591 - val_mean_absolute_percentage_error: 2827411.0000\n",
      "Epoch 39/100\n",
      "778/778 [==============================] - 10s 13ms/step - loss: 7.7999 - mean_absolute_error: 15.9778 - root_mean_squared_error: 21.8166 - mean_absolute_percentage_error: 5977872.0000 - val_loss: 7.8060 - val_mean_absolute_error: 17.0497 - val_root_mean_squared_error: 22.7102 - val_mean_absolute_percentage_error: 3128291.7500\n",
      "Epoch 40/100\n",
      "778/778 [==============================] - 10s 13ms/step - loss: 7.8077 - mean_absolute_error: 15.9486 - root_mean_squared_error: 21.7800 - mean_absolute_percentage_error: 7209910.0000 - val_loss: 7.7539 - val_mean_absolute_error: 16.5328 - val_root_mean_squared_error: 22.1243 - val_mean_absolute_percentage_error: 2890827.0000\n",
      "Epoch 41/100\n",
      "778/778 [==============================] - 10s 13ms/step - loss: 7.7808 - mean_absolute_error: 15.8939 - root_mean_squared_error: 21.6902 - mean_absolute_percentage_error: 6433437.0000 - val_loss: 7.8370 - val_mean_absolute_error: 16.9345 - val_root_mean_squared_error: 22.6045 - val_mean_absolute_percentage_error: 2936801.7500\n",
      "Epoch 42/100\n",
      "778/778 [==============================] - 10s 13ms/step - loss: 7.7716 - mean_absolute_error: 15.9176 - root_mean_squared_error: 21.7263 - mean_absolute_percentage_error: 5778262.0000 - val_loss: 7.7524 - val_mean_absolute_error: 16.5864 - val_root_mean_squared_error: 22.1745 - val_mean_absolute_percentage_error: 2847361.2500\n",
      "Epoch 43/100\n",
      "778/778 [==============================] - 10s 13ms/step - loss: 7.7782 - mean_absolute_error: 15.8772 - root_mean_squared_error: 21.6573 - mean_absolute_percentage_error: 5686990.0000 - val_loss: 7.8134 - val_mean_absolute_error: 17.1822 - val_root_mean_squared_error: 23.0540 - val_mean_absolute_percentage_error: 2970114.7500\n",
      "Epoch 44/100\n",
      "778/778 [==============================] - 10s 13ms/step - loss: 7.7655 - mean_absolute_error: 15.8706 - root_mean_squared_error: 21.6287 - mean_absolute_percentage_error: 5644285.5000 - val_loss: 7.7549 - val_mean_absolute_error: 16.5676 - val_root_mean_squared_error: 22.1677 - val_mean_absolute_percentage_error: 2888463.2500\n",
      "Epoch 45/100\n",
      "778/778 [==============================] - 10s 13ms/step - loss: 7.7491 - mean_absolute_error: 15.8169 - root_mean_squared_error: 21.5694 - mean_absolute_percentage_error: 5448710.5000 - val_loss: 7.7767 - val_mean_absolute_error: 16.8308 - val_root_mean_squared_error: 22.5550 - val_mean_absolute_percentage_error: 2808053.5000\n",
      "Epoch 46/100\n",
      "778/778 [==============================] - 11s 14ms/step - loss: 7.7429 - mean_absolute_error: 15.8142 - root_mean_squared_error: 21.5447 - mean_absolute_percentage_error: 5636346.5000 - val_loss: 7.7908 - val_mean_absolute_error: 16.6554 - val_root_mean_squared_error: 22.2501 - val_mean_absolute_percentage_error: 2690731.5000\n",
      "Epoch 47/100\n",
      "778/778 [==============================] - 10s 13ms/step - loss: 7.7372 - mean_absolute_error: 15.8039 - root_mean_squared_error: 21.5230 - mean_absolute_percentage_error: 5328966.0000 - val_loss: 7.7501 - val_mean_absolute_error: 16.5578 - val_root_mean_squared_error: 22.1443 - val_mean_absolute_percentage_error: 2923791.7500\n",
      "Epoch 48/100\n",
      "778/778 [==============================] - 11s 14ms/step - loss: 7.7348 - mean_absolute_error: 15.7796 - root_mean_squared_error: 21.4826 - mean_absolute_percentage_error: 5053581.5000 - val_loss: 7.7567 - val_mean_absolute_error: 16.4811 - val_root_mean_squared_error: 22.0485 - val_mean_absolute_percentage_error: 3022960.2500\n"
     ]
    },
    {
     "name": "stdout",
     "output_type": "stream",
     "text": [
      "Epoch 49/100\n",
      "778/778 [==============================] - 10s 13ms/step - loss: 7.7265 - mean_absolute_error: 15.7301 - root_mean_squared_error: 21.4061 - mean_absolute_percentage_error: 5104895.5000 - val_loss: 7.7611 - val_mean_absolute_error: 16.5503 - val_root_mean_squared_error: 22.0961 - val_mean_absolute_percentage_error: 2796573.2500\n",
      "Epoch 50/100\n",
      "778/778 [==============================] - 10s 13ms/step - loss: 7.7120 - mean_absolute_error: 15.7541 - root_mean_squared_error: 21.4086 - mean_absolute_percentage_error: 5428886.5000 - val_loss: 7.7547 - val_mean_absolute_error: 16.5376 - val_root_mean_squared_error: 22.1125 - val_mean_absolute_percentage_error: 2614030.0000\n",
      "Epoch 51/100\n",
      "778/778 [==============================] - 10s 13ms/step - loss: 7.7086 - mean_absolute_error: 15.7315 - root_mean_squared_error: 21.3798 - mean_absolute_percentage_error: 5193804.5000 - val_loss: 7.7454 - val_mean_absolute_error: 16.7060 - val_root_mean_squared_error: 22.3613 - val_mean_absolute_percentage_error: 2769798.5000\n",
      "Epoch 52/100\n",
      "778/778 [==============================] - 10s 13ms/step - loss: 7.6962 - mean_absolute_error: 15.6622 - root_mean_squared_error: 21.2960 - mean_absolute_percentage_error: 5398583.5000 - val_loss: 7.7735 - val_mean_absolute_error: 16.5969 - val_root_mean_squared_error: 22.1827 - val_mean_absolute_percentage_error: 3017281.5000\n",
      "Epoch 53/100\n",
      "778/778 [==============================] - 10s 13ms/step - loss: 7.6963 - mean_absolute_error: 15.7096 - root_mean_squared_error: 21.3529 - mean_absolute_percentage_error: 5441498.0000 - val_loss: 7.7589 - val_mean_absolute_error: 16.5973 - val_root_mean_squared_error: 22.1547 - val_mean_absolute_percentage_error: 2891538.7500\n",
      "Epoch 54/100\n",
      "778/778 [==============================] - 10s 13ms/step - loss: 7.6893 - mean_absolute_error: 15.6007 - root_mean_squared_error: 21.2059 - mean_absolute_percentage_error: 5115314.5000 - val_loss: 7.7756 - val_mean_absolute_error: 16.6375 - val_root_mean_squared_error: 22.2343 - val_mean_absolute_percentage_error: 2792577.7500\n",
      "Epoch 55/100\n",
      "778/778 [==============================] - 10s 13ms/step - loss: 7.6801 - mean_absolute_error: 15.6040 - root_mean_squared_error: 21.2088 - mean_absolute_percentage_error: 5031863.5000 - val_loss: 7.7657 - val_mean_absolute_error: 16.5926 - val_root_mean_squared_error: 22.1310 - val_mean_absolute_percentage_error: 2867304.7500\n",
      "Epoch 56/100\n",
      "778/778 [==============================] - 10s 13ms/step - loss: 7.6578 - mean_absolute_error: 15.6135 - root_mean_squared_error: 21.2011 - mean_absolute_percentage_error: 5135374.0000 - val_loss: 7.8061 - val_mean_absolute_error: 16.8385 - val_root_mean_squared_error: 22.4296 - val_mean_absolute_percentage_error: 2673687.0000\n",
      "Epoch 57/100\n",
      "778/778 [==============================] - 10s 13ms/step - loss: 7.6602 - mean_absolute_error: 15.5795 - root_mean_squared_error: 21.1438 - mean_absolute_percentage_error: 4962277.0000 - val_loss: 7.7567 - val_mean_absolute_error: 16.7206 - val_root_mean_squared_error: 22.3333 - val_mean_absolute_percentage_error: 2686888.5000\n",
      "Epoch 58/100\n",
      "778/778 [==============================] - 10s 13ms/step - loss: 7.6562 - mean_absolute_error: 15.5598 - root_mean_squared_error: 21.1129 - mean_absolute_percentage_error: 5250371.0000 - val_loss: 7.7889 - val_mean_absolute_error: 16.6841 - val_root_mean_squared_error: 22.3194 - val_mean_absolute_percentage_error: 2955206.7500\n",
      "Epoch 59/100\n",
      "778/778 [==============================] - 10s 13ms/step - loss: 7.6502 - mean_absolute_error: 15.5593 - root_mean_squared_error: 21.1229 - mean_absolute_percentage_error: 4998795.0000 - val_loss: 7.7532 - val_mean_absolute_error: 16.5313 - val_root_mean_squared_error: 22.0485 - val_mean_absolute_percentage_error: 2795675.2500\n",
      "Epoch 60/100\n",
      "778/778 [==============================] - 10s 13ms/step - loss: 7.6375 - mean_absolute_error: 15.5052 - root_mean_squared_error: 21.0381 - mean_absolute_percentage_error: 5046815.5000 - val_loss: 7.7662 - val_mean_absolute_error: 16.5791 - val_root_mean_squared_error: 22.1499 - val_mean_absolute_percentage_error: 2698456.5000\n",
      "Epoch 61/100\n",
      "778/778 [==============================] - 10s 13ms/step - loss: 7.6300 - mean_absolute_error: 15.4949 - root_mean_squared_error: 21.0200 - mean_absolute_percentage_error: 4966070.0000 - val_loss: 7.7985 - val_mean_absolute_error: 16.7001 - val_root_mean_squared_error: 22.2564 - val_mean_absolute_percentage_error: 2706832.5000\n",
      "Epoch 62/100\n",
      "778/778 [==============================] - 10s 12ms/step - loss: 7.6294 - mean_absolute_error: 15.5021 - root_mean_squared_error: 21.0184 - mean_absolute_percentage_error: 6916536.0000 - val_loss: 7.7539 - val_mean_absolute_error: 16.6743 - val_root_mean_squared_error: 22.2429 - val_mean_absolute_percentage_error: 2990538.5000\n",
      "Epoch 63/100\n",
      "778/778 [==============================] - 10s 12ms/step - loss: 7.6237 - mean_absolute_error: 15.4541 - root_mean_squared_error: 20.9651 - mean_absolute_percentage_error: 4571388.5000 - val_loss: 7.7329 - val_mean_absolute_error: 16.5646 - val_root_mean_squared_error: 22.1186 - val_mean_absolute_percentage_error: 2748782.0000\n",
      "Epoch 64/100\n",
      "778/778 [==============================] - 10s 13ms/step - loss: 7.6078 - mean_absolute_error: 15.4517 - root_mean_squared_error: 20.9463 - mean_absolute_percentage_error: 4809773.5000 - val_loss: 7.7902 - val_mean_absolute_error: 16.6481 - val_root_mean_squared_error: 22.2130 - val_mean_absolute_percentage_error: 2739974.2500\n",
      "Epoch 65/100\n",
      "778/778 [==============================] - 10s 13ms/step - loss: 7.6009 - mean_absolute_error: 15.4229 - root_mean_squared_error: 20.9084 - mean_absolute_percentage_error: 4776924.0000 - val_loss: 7.7369 - val_mean_absolute_error: 16.6122 - val_root_mean_squared_error: 22.1509 - val_mean_absolute_percentage_error: 2622209.5000\n",
      "Epoch 66/100\n",
      "778/778 [==============================] - 10s 13ms/step - loss: 7.6038 - mean_absolute_error: 15.3841 - root_mean_squared_error: 20.8752 - mean_absolute_percentage_error: 4684378.5000 - val_loss: 7.7612 - val_mean_absolute_error: 16.6213 - val_root_mean_squared_error: 22.1623 - val_mean_absolute_percentage_error: 2873243.0000\n",
      "Epoch 67/100\n",
      "778/778 [==============================] - 10s 13ms/step - loss: 7.6000 - mean_absolute_error: 15.4113 - root_mean_squared_error: 20.8912 - mean_absolute_percentage_error: 4539710.0000 - val_loss: 7.7719 - val_mean_absolute_error: 16.6798 - val_root_mean_squared_error: 22.2299 - val_mean_absolute_percentage_error: 2434035.2500\n",
      "Epoch 68/100\n",
      "778/778 [==============================] - 10s 13ms/step - loss: 7.5813 - mean_absolute_error: 15.3380 - root_mean_squared_error: 20.8031 - mean_absolute_percentage_error: 4597964.5000 - val_loss: 7.7947 - val_mean_absolute_error: 16.6205 - val_root_mean_squared_error: 22.1455 - val_mean_absolute_percentage_error: 2779455.7500\n",
      "Epoch 69/100\n",
      "778/778 [==============================] - 10s 13ms/step - loss: 7.5838 - mean_absolute_error: 15.3524 - root_mean_squared_error: 20.7987 - mean_absolute_percentage_error: 5282334.5000 - val_loss: 7.7796 - val_mean_absolute_error: 16.5904 - val_root_mean_squared_error: 22.1274 - val_mean_absolute_percentage_error: 2575443.5000\n",
      "Epoch 70/100\n",
      "778/778 [==============================] - 10s 13ms/step - loss: 7.5613 - mean_absolute_error: 15.3101 - root_mean_squared_error: 20.7444 - mean_absolute_percentage_error: 4691300.5000 - val_loss: 7.8000 - val_mean_absolute_error: 16.6406 - val_root_mean_squared_error: 22.2389 - val_mean_absolute_percentage_error: 2746816.0000\n",
      "Epoch 71/100\n",
      "778/778 [==============================] - 11s 14ms/step - loss: 7.5626 - mean_absolute_error: 15.2909 - root_mean_squared_error: 20.7376 - mean_absolute_percentage_error: 4590461.5000 - val_loss: 7.7780 - val_mean_absolute_error: 16.5832 - val_root_mean_squared_error: 22.1149 - val_mean_absolute_percentage_error: 2723472.5000\n",
      "Epoch 72/100\n",
      "778/778 [==============================] - 10s 13ms/step - loss: 7.5550 - mean_absolute_error: 15.2630 - root_mean_squared_error: 20.6953 - mean_absolute_percentage_error: 4685883.0000 - val_loss: 7.8707 - val_mean_absolute_error: 16.9805 - val_root_mean_squared_error: 22.6303 - val_mean_absolute_percentage_error: 2676605.2500\n"
     ]
    },
    {
     "name": "stdout",
     "output_type": "stream",
     "text": [
      "Epoch 73/100\n",
      "778/778 [==============================] - 10s 13ms/step - loss: 7.5489 - mean_absolute_error: 15.2568 - root_mean_squared_error: 20.6786 - mean_absolute_percentage_error: 4476097.0000 - val_loss: 7.7797 - val_mean_absolute_error: 16.6207 - val_root_mean_squared_error: 22.1644 - val_mean_absolute_percentage_error: 2778328.7500\n",
      "Epoch 74/100\n",
      "778/778 [==============================] - 10s 13ms/step - loss: 7.5412 - mean_absolute_error: 15.2324 - root_mean_squared_error: 20.6431 - mean_absolute_percentage_error: 4706925.5000 - val_loss: 7.7670 - val_mean_absolute_error: 16.5270 - val_root_mean_squared_error: 22.0515 - val_mean_absolute_percentage_error: 2594909.7500\n",
      "Epoch 75/100\n",
      "778/778 [==============================] - 10s 13ms/step - loss: 7.5402 - mean_absolute_error: 15.2225 - root_mean_squared_error: 20.6371 - mean_absolute_percentage_error: 4581892.0000 - val_loss: 7.8257 - val_mean_absolute_error: 16.7195 - val_root_mean_squared_error: 22.3019 - val_mean_absolute_percentage_error: 2843166.2500\n",
      "Epoch 76/100\n",
      "778/778 [==============================] - 10s 13ms/step - loss: 7.5230 - mean_absolute_error: 15.1916 - root_mean_squared_error: 20.5884 - mean_absolute_percentage_error: 4472545.0000 - val_loss: 7.8138 - val_mean_absolute_error: 16.6942 - val_root_mean_squared_error: 22.2894 - val_mean_absolute_percentage_error: 2665392.5000\n",
      "Epoch 77/100\n",
      "778/778 [==============================] - 10s 13ms/step - loss: 7.5281 - mean_absolute_error: 15.1830 - root_mean_squared_error: 20.5622 - mean_absolute_percentage_error: 4358831.5000 - val_loss: 7.7643 - val_mean_absolute_error: 16.6667 - val_root_mean_squared_error: 22.2396 - val_mean_absolute_percentage_error: 2486028.0000\n",
      "Epoch 78/100\n",
      "778/778 [==============================] - 10s 13ms/step - loss: 7.5095 - mean_absolute_error: 15.1605 - root_mean_squared_error: 20.5357 - mean_absolute_percentage_error: 4193030.5000 - val_loss: 7.7791 - val_mean_absolute_error: 16.5729 - val_root_mean_squared_error: 22.1238 - val_mean_absolute_percentage_error: 2792403.7500\n",
      "Epoch 79/100\n",
      "778/778 [==============================] - 10s 13ms/step - loss: 7.5100 - mean_absolute_error: 15.1219 - root_mean_squared_error: 20.4942 - mean_absolute_percentage_error: 4444513.0000 - val_loss: 7.8167 - val_mean_absolute_error: 16.7169 - val_root_mean_squared_error: 22.2931 - val_mean_absolute_percentage_error: 2634174.2500\n",
      "Epoch 80/100\n",
      "778/778 [==============================] - 10s 13ms/step - loss: 7.4958 - mean_absolute_error: 15.1243 - root_mean_squared_error: 20.4730 - mean_absolute_percentage_error: 4530160.0000 - val_loss: 7.7664 - val_mean_absolute_error: 16.6599 - val_root_mean_squared_error: 22.1664 - val_mean_absolute_percentage_error: 2596471.0000\n",
      "Epoch 81/100\n",
      "778/778 [==============================] - 10s 13ms/step - loss: 7.4947 - mean_absolute_error: 15.0550 - root_mean_squared_error: 20.4086 - mean_absolute_percentage_error: 4635491.0000 - val_loss: 7.7848 - val_mean_absolute_error: 16.7384 - val_root_mean_squared_error: 22.2924 - val_mean_absolute_percentage_error: 2661158.7500\n",
      "Epoch 82/100\n",
      "778/778 [==============================] - 10s 13ms/step - loss: 7.4713 - mean_absolute_error: 15.0635 - root_mean_squared_error: 20.3950 - mean_absolute_percentage_error: 4674683.5000 - val_loss: 7.8082 - val_mean_absolute_error: 16.6596 - val_root_mean_squared_error: 22.1954 - val_mean_absolute_percentage_error: 2410162.7500\n",
      "Epoch 83/100\n",
      "778/778 [==============================] - 10s 13ms/step - loss: 7.4649 - mean_absolute_error: 15.0302 - root_mean_squared_error: 20.3564 - mean_absolute_percentage_error: 4497946.0000 - val_loss: 7.8303 - val_mean_absolute_error: 16.7920 - val_root_mean_squared_error: 22.4011 - val_mean_absolute_percentage_error: 2851126.5000\n",
      "Epoch 84/100\n",
      "778/778 [==============================] - 10s 13ms/step - loss: 7.4539 - mean_absolute_error: 15.0142 - root_mean_squared_error: 20.3187 - mean_absolute_percentage_error: 4238119.0000 - val_loss: 7.8464 - val_mean_absolute_error: 16.7882 - val_root_mean_squared_error: 22.3369 - val_mean_absolute_percentage_error: 2966151.7500\n",
      "Epoch 85/100\n",
      "778/778 [==============================] - 10s 13ms/step - loss: 7.4644 - mean_absolute_error: 14.9808 - root_mean_squared_error: 20.2921 - mean_absolute_percentage_error: 4415897.5000 - val_loss: 7.8491 - val_mean_absolute_error: 17.0336 - val_root_mean_squared_error: 22.6393 - val_mean_absolute_percentage_error: 2857445.2500\n",
      "Epoch 86/100\n",
      "778/778 [==============================] - 10s 13ms/step - loss: 7.4473 - mean_absolute_error: 14.9684 - root_mean_squared_error: 20.2696 - mean_absolute_percentage_error: 4404883.0000 - val_loss: 7.8146 - val_mean_absolute_error: 16.7150 - val_root_mean_squared_error: 22.2615 - val_mean_absolute_percentage_error: 2753244.7500\n",
      "Epoch 87/100\n",
      "778/778 [==============================] - 10s 13ms/step - loss: 7.4367 - mean_absolute_error: 14.9229 - root_mean_squared_error: 20.2142 - mean_absolute_percentage_error: 4351766.0000 - val_loss: 7.8109 - val_mean_absolute_error: 16.6789 - val_root_mean_squared_error: 22.2145 - val_mean_absolute_percentage_error: 2605858.7500\n",
      "Epoch 88/100\n",
      "778/778 [==============================] - 10s 13ms/step - loss: 7.4345 - mean_absolute_error: 14.9232 - root_mean_squared_error: 20.2028 - mean_absolute_percentage_error: 4412837.0000 - val_loss: 7.8076 - val_mean_absolute_error: 16.8084 - val_root_mean_squared_error: 22.3325 - val_mean_absolute_percentage_error: 2883059.2500\n",
      "Epoch 89/100\n",
      "778/778 [==============================] - 10s 13ms/step - loss: 7.4207 - mean_absolute_error: 14.8824 - root_mean_squared_error: 20.1450 - mean_absolute_percentage_error: 4401056.5000 - val_loss: 7.8232 - val_mean_absolute_error: 16.6927 - val_root_mean_squared_error: 22.1931 - val_mean_absolute_percentage_error: 2750134.5000\n",
      "Epoch 90/100\n",
      "778/778 [==============================] - 10s 13ms/step - loss: 7.4245 - mean_absolute_error: 14.8498 - root_mean_squared_error: 20.1076 - mean_absolute_percentage_error: 4306252.5000 - val_loss: 7.8346 - val_mean_absolute_error: 16.8300 - val_root_mean_squared_error: 22.3931 - val_mean_absolute_percentage_error: 2534232.2500\n",
      "Epoch 91/100\n",
      "778/778 [==============================] - 10s 13ms/step - loss: 7.4150 - mean_absolute_error: 14.8494 - root_mean_squared_error: 20.1057 - mean_absolute_percentage_error: 4267586.5000 - val_loss: 7.8301 - val_mean_absolute_error: 16.7250 - val_root_mean_squared_error: 22.2718 - val_mean_absolute_percentage_error: 2780365.5000\n",
      "Epoch 92/100\n",
      "778/778 [==============================] - 10s 13ms/step - loss: 7.3999 - mean_absolute_error: 14.8142 - root_mean_squared_error: 20.0556 - mean_absolute_percentage_error: 3954509.0000 - val_loss: 7.8048 - val_mean_absolute_error: 16.6368 - val_root_mean_squared_error: 22.1612 - val_mean_absolute_percentage_error: 2881746.5000\n",
      "Epoch 93/100\n",
      "778/778 [==============================] - 10s 13ms/step - loss: 7.3844 - mean_absolute_error: 14.7767 - root_mean_squared_error: 19.9923 - mean_absolute_percentage_error: 3849527.2500 - val_loss: 7.8350 - val_mean_absolute_error: 16.7865 - val_root_mean_squared_error: 22.2950 - val_mean_absolute_percentage_error: 2910245.5000\n",
      "Epoch 94/100\n",
      "778/778 [==============================] - 10s 13ms/step - loss: 7.3846 - mean_absolute_error: 14.7589 - root_mean_squared_error: 19.9747 - mean_absolute_percentage_error: 3966659.2500 - val_loss: 7.8410 - val_mean_absolute_error: 16.7777 - val_root_mean_squared_error: 22.3056 - val_mean_absolute_percentage_error: 2794066.5000\n",
      "Epoch 95/100\n",
      "778/778 [==============================] - 10s 13ms/step - loss: 7.3628 - mean_absolute_error: 14.7261 - root_mean_squared_error: 19.9348 - mean_absolute_percentage_error: 4001031.0000 - val_loss: 7.9002 - val_mean_absolute_error: 17.0041 - val_root_mean_squared_error: 22.5708 - val_mean_absolute_percentage_error: 2816615.2500\n",
      "Epoch 96/100\n",
      "778/778 [==============================] - 10s 13ms/step - loss: 7.3670 - mean_absolute_error: 14.7272 - root_mean_squared_error: 19.9372 - mean_absolute_percentage_error: 4374786.0000 - val_loss: 7.8217 - val_mean_absolute_error: 16.7715 - val_root_mean_squared_error: 22.3201 - val_mean_absolute_percentage_error: 2746646.2500\n"
     ]
    },
    {
     "name": "stdout",
     "output_type": "stream",
     "text": [
      "Epoch 97/100\n",
      "778/778 [==============================] - 10s 13ms/step - loss: 7.3597 - mean_absolute_error: 14.7141 - root_mean_squared_error: 19.9103 - mean_absolute_percentage_error: 4202689.0000 - val_loss: 7.8214 - val_mean_absolute_error: 16.8278 - val_root_mean_squared_error: 22.3919 - val_mean_absolute_percentage_error: 2543501.0000\n",
      "Epoch 98/100\n",
      "778/778 [==============================] - 10s 13ms/step - loss: 7.3556 - mean_absolute_error: 14.6594 - root_mean_squared_error: 19.8524 - mean_absolute_percentage_error: 4131682.7500 - val_loss: 7.8586 - val_mean_absolute_error: 16.9231 - val_root_mean_squared_error: 22.5030 - val_mean_absolute_percentage_error: 2752689.5000\n",
      "Epoch 99/100\n",
      "778/778 [==============================] - 10s 13ms/step - loss: 7.3466 - mean_absolute_error: 14.6172 - root_mean_squared_error: 19.7904 - mean_absolute_percentage_error: 4324079.0000 - val_loss: 7.8588 - val_mean_absolute_error: 16.9530 - val_root_mean_squared_error: 22.5365 - val_mean_absolute_percentage_error: 2720479.7500\n",
      "Epoch 100/100\n",
      "778/778 [==============================] - 10s 13ms/step - loss: 7.3319 - mean_absolute_error: 14.6215 - root_mean_squared_error: 19.7811 - mean_absolute_percentage_error: 3890994.5000 - val_loss: 7.9739 - val_mean_absolute_error: 17.4098 - val_root_mean_squared_error: 23.1207 - val_mean_absolute_percentage_error: 2721159.7500\n"
     ]
    },
    {
     "data": {
      "text/plain": [
       "<keras.callbacks.History at 0x25b3de7e910>"
      ]
     },
     "execution_count": 34,
     "metadata": {},
     "output_type": "execute_result"
    }
   ],
   "source": [
    "model5.fit((Wt5,Xt5), yt5, validation_split = val_percent,\n",
    "           epochs = 100, \n",
    "           verbose = 1)"
   ]
  },
  {
   "cell_type": "code",
   "execution_count": 35,
   "metadata": {},
   "outputs": [],
   "source": [
    "metrics5 = pd.DataFrame(model5.history.history)"
   ]
  },
  {
   "cell_type": "code",
   "execution_count": 53,
   "metadata": {},
   "outputs": [
    {
     "data": {
      "text/plain": [
       "(<mpl_toolkits.axes_grid1.inset_locator.BboxPatch at 0x25c4ab35af0>,\n",
       " <mpl_toolkits.axes_grid1.inset_locator.BboxConnector at 0x25c4ab8f6a0>,\n",
       " <mpl_toolkits.axes_grid1.inset_locator.BboxConnector at 0x25c4ab8f8e0>)"
      ]
     },
     "execution_count": 53,
     "metadata": {},
     "output_type": "execute_result"
    },
    {
     "data": {
      "image/png": "[encoded data removed]",
      "text/plain": [
       "<Figure size 600x400 with 2 Axes>"
      ]
     },
     "metadata": {},
     "output_type": "display_data"
    }
   ],
   "source": [
    "fig = plt.figure(figsize=(6,4))\n",
    "\n",
    "# Add set of axes to figure\n",
    "axes = fig.add_axes([0, 0, 1, 1]) \n",
    "axes2 = fig.add_axes([0.35, 0.45, 0.5, 0.5]) # Smaller figure\n",
    "axes.plot(metrics5[['loss','val_loss']], label=['train_loss','val_loss'], lw=4)\n",
    "axes.set_ylim(7,15)\n",
    "\n",
    "axes2.plot(metrics5[['loss','val_loss']], lw=4)\n",
    "axes2.set_xlim(0,25)\n",
    "axes2.set_ylim(7.5,10)\n",
    "#plt.xticks(visible=False)\n",
    "plt.yticks(visible=False)\n",
    "\n",
    "axes.set_xlabel('Epoch')\n",
    "axes.set_ylabel('Loss')\n",
    "axes.grid()\n",
    "axes2.grid()\n",
    "\n",
    "mark_inset(axes, axes2, loc1=2, loc2=4, fc=\"0.9\", ec=\"0.1\", ls='--')\n",
    "# axes.yaxis.set_major_formatter(formatter)"
   ]
  },
  {
   "cell_type": "code",
   "execution_count": 69,
   "metadata": {},
   "outputs": [
    {
     "data": {
      "text/plain": [
       "(<mpl_toolkits.axes_grid1.inset_locator.BboxPatch at 0x1ba7cc72a30>,\n",
       " <mpl_toolkits.axes_grid1.inset_locator.BboxConnector at 0x1ba7cccb490>,\n",
       " <mpl_toolkits.axes_grid1.inset_locator.BboxConnector at 0x1ba7cccb6d0>)"
      ]
     },
     "execution_count": 69,
     "metadata": {},
     "output_type": "execute_result"
    },
    {
     "data": {
      "image/png": "[encoded data removed]",
      "text/plain": [
       "<Figure size 432x288 with 2 Axes>"
      ]
     },
     "metadata": {
      "needs_background": "light"
     },
     "output_type": "display_data"
    }
   ],
   "source": [
    "fig = plt.figure(figsize=(6,4))\n",
    "\n",
    "# Add set of axes to figure\n",
    "axes = fig.add_axes([0, 0, 1, 1]) \n",
    "axes2 = fig.add_axes([0.35, 0.45, 0.5, 0.5]) # Smaller figure\n",
    "axes.plot(metrics5[['loss','val_loss']], label=['train_loss','val_loss'], lw=4)\n",
    "axes.set_ylim(6.5,15)\n",
    "\n",
    "axes2.plot(metrics5[['loss','val_loss']], lw=4)\n",
    "axes2.set_xlim(0,25)\n",
    "axes2.set_ylim(7.5,10)\n",
    "#plt.xticks(visible=False)\n",
    "plt.yticks(visible=False)\n",
    "\n",
    "axes.set_xlabel('Epoch')\n",
    "axes.set_ylabel('Loss')\n",
    "axes.grid()\n",
    "axes2.grid()\n",
    "\n",
    "mark_inset(axes, axes2, loc1=2, loc2=4, fc=\"0.9\", ec=\"0.1\", ls='--')\n",
    "# axes.yaxis.set_major_formatter(formatter)"
   ]
  },
  {
   "cell_type": "code",
   "execution_count": 39,
   "metadata": {},
   "outputs": [
    {
     "name": "stderr",
     "output_type": "stream",
     "text": [
      "WARNING:absl:Function `_wrapped_model` contains input name(s) WideInput, DeepInput with unsupported characters which will be renamed to wideinput, deepinput in the SavedModel.\n"
     ]
    },
    {
     "name": "stdout",
     "output_type": "stream",
     "text": [
      "INFO:tensorflow:Assets written to: my_dir/8e-5\\assets\n"
     ]
    },
    {
     "name": "stderr",
     "output_type": "stream",
     "text": [
      "INFO:tensorflow:Assets written to: my_dir/8e-5\\assets\n",
      "WARNING:absl:<keras.layers.recurrent.LSTMCell object at 0x0000020D8043EAC0> has the same name 'LSTMCell' as a built-in Keras object. Consider renaming <class 'keras.layers.recurrent.LSTMCell'> to avoid naming conflicts when loading with `tf.keras.models.load_model`. If renaming is not possible, pass the object in the `custom_objects` parameter of the load function.\n",
      "WARNING:absl:<keras.layers.recurrent.LSTMCell object at 0x0000020D8169D0D0> has the same name 'LSTMCell' as a built-in Keras object. Consider renaming <class 'keras.layers.recurrent.LSTMCell'> to avoid naming conflicts when loading with `tf.keras.models.load_model`. If renaming is not possible, pass the object in the `custom_objects` parameter of the load function.\n",
      "WARNING:absl:<keras.layers.recurrent.LSTMCell object at 0x0000020D8169DA60> has the same name 'LSTMCell' as a built-in Keras object. Consider renaming <class 'keras.layers.recurrent.LSTMCell'> to avoid naming conflicts when loading with `tf.keras.models.load_model`. If renaming is not possible, pass the object in the `custom_objects` parameter of the load function.\n"
     ]
    }
   ],
   "source": [
    "model5.save(\"my_dir/8e-5\")"
   ]
  },
  {
   "cell_type": "code",
   "execution_count": 42,
   "metadata": {},
   "outputs": [],
   "source": [
    "model5 = keras.models.load_model(\"my_dir/8e-5\", custom_objects={'GEH_loss': GEH_loss}) "
   ]
  },
  {
   "cell_type": "code",
   "execution_count": 43,
   "metadata": {},
   "outputs": [
    {
     "data": {
      "text/plain": [
       "array([[ 65.11422 ,  66.9684  ,  74.43863 , ...,  74.58737 ,  49.080624,\n",
       "         48.29925 ],\n",
       "       [ 57.514423,  60.31341 ,  66.18984 , ...,  67.447174,  48.095432,\n",
       "         47.138527],\n",
       "       [ 58.58546 ,  61.463196,  66.45977 , ...,  64.69653 ,  46.446976,\n",
       "         45.878887],\n",
       "       ...,\n",
       "       [127.52245 , 133.86073 , 144.79308 , ..., 144.51715 ,  97.430626,\n",
       "         83.50301 ],\n",
       "       [117.47536 , 122.5035  , 129.76321 , ..., 121.12706 ,  85.88177 ,\n",
       "         75.12699 ],\n",
       "       [112.43143 , 115.2083  , 128.58572 , ..., 133.20749 ,  95.75674 ,\n",
       "         85.56812 ]], dtype=float32)"
      ]
     },
     "execution_count": 43,
     "metadata": {},
     "output_type": "execute_result"
    }
   ],
   "source": [
    "model5.predict((Wv5,Xv5))"
   ]
  },
  {
   "cell_type": "markdown",
   "metadata": {},
   "source": [
    "### Evaluation on inverse_transform"
   ]
  },
  {
   "cell_type": "code",
   "execution_count": null,
   "metadata": {},
   "outputs": [],
   "source": [
    "test_predictions5 = model5.predict((Wv5,Xv5))\n",
    "\n",
    "\n",
    "MSE5 = mean_squared_error(yv5,test_predictions5)\n",
    "\n",
    "MAE5 = mean_absolute_error(yv5,test_predictions5)\n",
    "\n",
    "RMSE5 = np.sqrt(MSE5)\n",
    "\n",
    "MAPE5 = mean_absolute_percentage_error(yv5,test_predictions5)*100\n",
    "\n",
    "eval5 = [MSE5, MAE5, RMSE5, MAPE5]\n",
    "print(eval5)"
   ]
  },
  {
   "cell_type": "code",
   "execution_count": null,
   "metadata": {},
   "outputs": [],
   "source": [
    "GEH, count = ga.GEH(np.asarray(yv5), np.asarray(test_predictions5))\n",
    "GEH5 = count/GEH.size\n",
    "print(GEH5)"
   ]
  },
  {
   "cell_type": "markdown",
   "metadata": {},
   "source": [
    "# 15 mins ahead"
   ]
  },
  {
   "cell_type": "code",
   "execution_count": 36,
   "metadata": {},
   "outputs": [],
   "source": [
    "def build_model_15(hp):\n",
    "    # Inputs\n",
    "    channel_Wide = keras.layers.Input(shape=Wt15.shape[1:], name=\"WideInput\")\n",
    "    channel_Deep = keras.layers.Input(shape=Xt15.shape[1:], name=\"DeepInput\")\n",
    "    units = hp.Int(\"units\", min_value=1, max_value=100, step=1)\n",
    "    \n",
    "    \n",
    "    # Wide Model\n",
    "    flatten_15w = keras.layers.TimeDistributed(keras.layers.Flatten())(channel_Wide)\n",
    "    Bi_15 = keras.layers.Bidirectional(\n",
    "        keras.layers.LSTM(units=units, return_sequences=True),\n",
    "        merge_mode=\"ave\"\n",
    "    )(flatten_15w)\n",
    "    \n",
    "    \n",
    "    # Deep Model\n",
    "    # CNN \n",
    "    CNN_15 = keras.layers.TimeDistributed(\n",
    "        keras.layers.Conv2D(filters=hp.Int(\"filters\", min_value=32, max_value=512, step=32),\n",
    "                            kernel_size=hp.Choice(\"kernel_size\", [2, 3]), activation='relu'))(channel_Deep)\n",
    "    flatten_15 = keras.layers.TimeDistributed(keras.layers.Flatten())(CNN_15)\n",
    "    # LSTM          \n",
    "    LSTM_15 = keras.layers.LSTM(units=units, return_sequences=True)(flatten_15)\n",
    "\n",
    "    \n",
    "    # Concatenation \n",
    "    concat = keras.layers.concatenate([Bi_15, LSTM_15], axis=1)\n",
    "\n",
    "    # Attention\n",
    "    Att_15 = SeqSelfAttention(attention_activation='sigmoid')(concat)\n",
    "    merge = keras.layers.Flatten()(Att_15)\n",
    "\n",
    "    \n",
    "    # Output\n",
    "    output = keras.layers.Dense(n_features, name= \"output\")(merge)\n",
    "    \n",
    "    # Model\n",
    "    model_15 = keras.Model(inputs=[channel_Wide,channel_Deep], outputs=[output])\n",
    "\n",
    "    # Compile\n",
    "    model_15.compile(optimizer=keras.optimizers.Adam(hp.Choice(\"learning_rate\", [1e-2, 1e-3, 1e-4])), \n",
    "        loss=GEH_loss, metrics=['MeanAbsoluteError','RootMeanSquaredError','MeanAbsolutePercentageError'])\n",
    "                    \n",
    "    return model_15"
   ]
  },
  {
   "cell_type": "code",
   "execution_count": 37,
   "metadata": {},
   "outputs": [],
   "source": [
    "tuner15 = RandomSearch(\n",
    "    build_model_15,\n",
    "    objective=\"val_loss\",\n",
    "    max_trials=60,\n",
    "    executions_per_trial=2,\n",
    "    overwrite=False,\n",
    "    directory=os.path.normpath('C:/Runs'),\n",
    "    project_name=\"8e-15\",\n",
    ")"
   ]
  },
  {
   "cell_type": "code",
   "execution_count": 48,
   "metadata": {},
   "outputs": [
    {
     "name": "stdout",
     "output_type": "stream",
     "text": [
      "Search space summary\n",
      "Default search space size: 4\n",
      "units (Int)\n",
      "{'default': None, 'conditions': [], 'min_value': 1, 'max_value': 100, 'step': 1, 'sampling': None}\n",
      "filters (Int)\n",
      "{'default': None, 'conditions': [], 'min_value': 32, 'max_value': 512, 'step': 32, 'sampling': None}\n",
      "kernel_size (Choice)\n",
      "{'default': 2, 'conditions': [], 'values': [2, 3], 'ordered': True}\n",
      "learning_rate (Choice)\n",
      "{'default': 0.01, 'conditions': [], 'values': [0.01, 0.001, 0.0001], 'ordered': True}\n"
     ]
    }
   ],
   "source": [
    "tuner15.search_space_summary()"
   ]
  },
  {
   "cell_type": "code",
   "execution_count": 49,
   "metadata": {
    "scrolled": true
   },
   "outputs": [
    {
     "name": "stdout",
     "output_type": "stream",
     "text": [
      "Trial 60 Complete [00h 12m 16s]\n",
      "val_loss: 8.299551963806152\n",
      "\n",
      "Best val_loss So Far: 8.114250183105469\n",
      "Total elapsed time: 17h 02m 34s\n",
      "INFO:tensorflow:Oracle triggered exit\n"
     ]
    },
    {
     "name": "stderr",
     "output_type": "stream",
     "text": [
      "INFO:tensorflow:Oracle triggered exit\n"
     ]
    }
   ],
   "source": [
    "tuner15.search((Wt15,Xt15), yt15, epochs=200,\n",
    "            validation_split = val_percent,\n",
    "            callbacks=[early_stop], \n",
    "            verbose=2)"
   ]
  },
  {
   "cell_type": "code",
   "execution_count": 50,
   "metadata": {},
   "outputs": [
    {
     "name": "stdout",
     "output_type": "stream",
     "text": [
      "Results summary\n",
      "Results in C:\\Runs\\8e-15\n",
      "Showing 1 best trials\n",
      "Objective(name='val_loss', direction='min')\n",
      "Trial summary\n",
      "Hyperparameters:\n",
      "units: 69\n",
      "filters: 96\n",
      "kernel_size: 2\n",
      "learning_rate: 0.001\n",
      "Score: 8.114250183105469\n"
     ]
    }
   ],
   "source": [
    "tuner15.results_summary(1)"
   ]
  },
  {
   "cell_type": "markdown",
   "metadata": {},
   "source": [
    "### Best model"
   ]
  },
  {
   "cell_type": "code",
   "execution_count": 38,
   "metadata": {},
   "outputs": [],
   "source": [
    "scaler_filename = \"Best_HP/8e-15\"\n",
    "best_hp15 = joblib.load(scaler_filename) \n",
    "\n",
    "model15 = tuner15.hypermodel.build(best_hp15)"
   ]
  },
  {
   "cell_type": "code",
   "execution_count": 51,
   "metadata": {},
   "outputs": [],
   "source": [
    "best_hp15 = tuner15.get_best_hyperparameters()[0]\n",
    "model15 = tuner15.hypermodel.build(best_hp15)"
   ]
  },
  {
   "cell_type": "code",
   "execution_count": 52,
   "metadata": {},
   "outputs": [
    {
     "data": {
      "text/plain": [
       "['Best_HP/8e-15']"
      ]
     },
     "execution_count": 52,
     "metadata": {},
     "output_type": "execute_result"
    }
   ],
   "source": [
    "scaler_filename = \"Best_HP/8e-15\"\n",
    "joblib.dump(best_hp15, scaler_filename) "
   ]
  },
  {
   "cell_type": "code",
   "execution_count": 53,
   "metadata": {},
   "outputs": [
    {
     "name": "stdout",
     "output_type": "stream",
     "text": [
      "Model: \"model_1\"\n",
      "__________________________________________________________________________________________________\n",
      " Layer (type)                   Output Shape         Param #     Connected to                     \n",
      "==================================================================================================\n",
      " DeepInput (InputLayer)         [(None, 3, 5, 7, 1)  0           []                               \n",
      "                                ]                                                                 \n",
      "                                                                                                  \n",
      " WideInput (InputLayer)         [(None, 3, 3, 7, 1)  0           []                               \n",
      "                                ]                                                                 \n",
      "                                                                                                  \n",
      " time_distributed_4 (TimeDistri  (None, 3, 4, 6, 96)  480        ['DeepInput[0][0]']              \n",
      " buted)                                                                                           \n",
      "                                                                                                  \n",
      " time_distributed_3 (TimeDistri  (None, 3, 21)       0           ['WideInput[0][0]']              \n",
      " buted)                                                                                           \n",
      "                                                                                                  \n",
      " time_distributed_5 (TimeDistri  (None, 3, 2304)     0           ['time_distributed_4[0][0]']     \n",
      " buted)                                                                                           \n",
      "                                                                                                  \n",
      " bidirectional_1 (Bidirectional  (None, 3, 69)       50232       ['time_distributed_3[0][0]']     \n",
      " )                                                                                                \n",
      "                                                                                                  \n",
      " lstm_3 (LSTM)                  (None, 3, 69)        655224      ['time_distributed_5[0][0]']     \n",
      "                                                                                                  \n",
      " concatenate_1 (Concatenate)    (None, 6, 69)        0           ['bidirectional_1[0][0]',        \n",
      "                                                                  'lstm_3[0][0]']                 \n",
      "                                                                                                  \n",
      " seq_self_attention_1 (SeqSelfA  (None, 6, 69)       4481        ['concatenate_1[0][0]']          \n",
      " ttention)                                                                                        \n",
      "                                                                                                  \n",
      " flatten_5 (Flatten)            (None, 414)          0           ['seq_self_attention_1[0][0]']   \n",
      "                                                                                                  \n",
      " output (Dense)                 (None, 7)            2905        ['flatten_5[0][0]']              \n",
      "                                                                                                  \n",
      "==================================================================================================\n",
      "Total params: 713,322\n",
      "Trainable params: 713,322\n",
      "Non-trainable params: 0\n",
      "__________________________________________________________________________________________________\n"
     ]
    }
   ],
   "source": [
    "model15.summary()"
   ]
  },
  {
   "cell_type": "code",
   "execution_count": 39,
   "metadata": {},
   "outputs": [
    {
     "name": "stdout",
     "output_type": "stream",
     "text": [
      "Epoch 1/100\n",
      "778/778 [==============================] - 18s 16ms/step - loss: 32.9727 - mean_absolute_error: 113.5859 - root_mean_squared_error: 151.9140 - mean_absolute_percentage_error: 46397608.0000 - val_loss: 12.7559 - val_mean_absolute_error: 45.3260 - val_root_mean_squared_error: 66.3230 - val_mean_absolute_percentage_error: 2926276.5000\n",
      "Epoch 2/100\n",
      "778/778 [==============================] - 11s 15ms/step - loss: 10.8957 - mean_absolute_error: 28.8140 - root_mean_squared_error: 43.7873 - mean_absolute_percentage_error: 52054648.0000 - val_loss: 8.9095 - val_mean_absolute_error: 22.9175 - val_root_mean_squared_error: 31.8027 - val_mean_absolute_percentage_error: 3172358.5000\n",
      "Epoch 3/100\n",
      "778/778 [==============================] - 11s 14ms/step - loss: 8.9544 - mean_absolute_error: 20.7284 - root_mean_squared_error: 29.0932 - mean_absolute_percentage_error: 55698148.0000 - val_loss: 8.5637 - val_mean_absolute_error: 20.7221 - val_root_mean_squared_error: 28.1071 - val_mean_absolute_percentage_error: 3432420.2500\n",
      "Epoch 4/100\n",
      "778/778 [==============================] - 11s 15ms/step - loss: 8.7471 - mean_absolute_error: 19.8414 - root_mean_squared_error: 27.5343 - mean_absolute_percentage_error: 56542692.0000 - val_loss: 8.4598 - val_mean_absolute_error: 20.2717 - val_root_mean_squared_error: 27.4635 - val_mean_absolute_percentage_error: 3633996.7500\n",
      "Epoch 5/100\n",
      "778/778 [==============================] - 12s 15ms/step - loss: 8.6555 - mean_absolute_error: 19.5007 - root_mean_squared_error: 26.9984 - mean_absolute_percentage_error: 57013396.0000 - val_loss: 8.4120 - val_mean_absolute_error: 20.1239 - val_root_mean_squared_error: 27.1312 - val_mean_absolute_percentage_error: 3475215.5000\n",
      "Epoch 6/100\n",
      "778/778 [==============================] - 12s 15ms/step - loss: 8.6141 - mean_absolute_error: 19.3193 - root_mean_squared_error: 26.7253 - mean_absolute_percentage_error: 56800684.0000 - val_loss: 8.3936 - val_mean_absolute_error: 19.9294 - val_root_mean_squared_error: 26.8583 - val_mean_absolute_percentage_error: 3722456.0000\n",
      "Epoch 7/100\n",
      "778/778 [==============================] - 12s 15ms/step - loss: 8.5691 - mean_absolute_error: 19.0377 - root_mean_squared_error: 26.3015 - mean_absolute_percentage_error: 56310228.0000 - val_loss: 8.3489 - val_mean_absolute_error: 19.6976 - val_root_mean_squared_error: 26.5907 - val_mean_absolute_percentage_error: 3581935.5000\n",
      "Epoch 8/100\n",
      "778/778 [==============================] - 12s 15ms/step - loss: 8.5130 - mean_absolute_error: 18.8740 - root_mean_squared_error: 26.0164 - mean_absolute_percentage_error: 55643496.0000 - val_loss: 8.2943 - val_mean_absolute_error: 19.5045 - val_root_mean_squared_error: 26.3459 - val_mean_absolute_percentage_error: 3550284.7500\n",
      "Epoch 9/100\n",
      "778/778 [==============================] - 12s 15ms/step - loss: 8.4537 - mean_absolute_error: 18.6409 - root_mean_squared_error: 25.6937 - mean_absolute_percentage_error: 54151664.0000 - val_loss: 8.3152 - val_mean_absolute_error: 19.4753 - val_root_mean_squared_error: 26.2671 - val_mean_absolute_percentage_error: 3670123.0000\n",
      "Epoch 10/100\n",
      "778/778 [==============================] - 11s 15ms/step - loss: 8.4433 - mean_absolute_error: 18.4751 - root_mean_squared_error: 25.4666 - mean_absolute_percentage_error: 53063304.0000 - val_loss: 8.2801 - val_mean_absolute_error: 19.3574 - val_root_mean_squared_error: 26.1301 - val_mean_absolute_percentage_error: 3563736.7500\n",
      "Epoch 11/100\n",
      "778/778 [==============================] - 11s 15ms/step - loss: 8.4006 - mean_absolute_error: 18.3877 - root_mean_squared_error: 25.2974 - mean_absolute_percentage_error: 50702068.0000 - val_loss: 8.2550 - val_mean_absolute_error: 19.3697 - val_root_mean_squared_error: 26.1954 - val_mean_absolute_percentage_error: 3308193.5000\n",
      "Epoch 12/100\n",
      "778/778 [==============================] - 12s 15ms/step - loss: 8.3893 - mean_absolute_error: 18.2931 - root_mean_squared_error: 25.1771 - mean_absolute_percentage_error: 48983760.0000 - val_loss: 8.2594 - val_mean_absolute_error: 19.3020 - val_root_mean_squared_error: 26.0548 - val_mean_absolute_percentage_error: 3396762.7500\n",
      "Epoch 13/100\n",
      "778/778 [==============================] - 11s 15ms/step - loss: 8.3579 - mean_absolute_error: 18.1766 - root_mean_squared_error: 25.0068 - mean_absolute_percentage_error: 47065324.0000 - val_loss: 8.2784 - val_mean_absolute_error: 19.4108 - val_root_mean_squared_error: 26.2286 - val_mean_absolute_percentage_error: 3421116.2500\n",
      "Epoch 14/100\n",
      "778/778 [==============================] - 12s 15ms/step - loss: 8.3386 - mean_absolute_error: 18.1102 - root_mean_squared_error: 24.8807 - mean_absolute_percentage_error: 44245000.0000 - val_loss: 8.2198 - val_mean_absolute_error: 19.0519 - val_root_mean_squared_error: 25.7064 - val_mean_absolute_percentage_error: 3518027.2500\n",
      "Epoch 15/100\n",
      "778/778 [==============================] - 11s 14ms/step - loss: 8.3224 - mean_absolute_error: 18.0772 - root_mean_squared_error: 24.8318 - mean_absolute_percentage_error: 41264040.0000 - val_loss: 8.1894 - val_mean_absolute_error: 18.9483 - val_root_mean_squared_error: 25.5712 - val_mean_absolute_percentage_error: 3429571.0000\n",
      "Epoch 16/100\n",
      "778/778 [==============================] - 11s 14ms/step - loss: 8.3141 - mean_absolute_error: 18.0229 - root_mean_squared_error: 24.7316 - mean_absolute_percentage_error: 38417052.0000 - val_loss: 8.1950 - val_mean_absolute_error: 18.8944 - val_root_mean_squared_error: 25.6094 - val_mean_absolute_percentage_error: 3537491.2500\n",
      "Epoch 17/100\n",
      "778/778 [==============================] - 11s 15ms/step - loss: 8.2787 - mean_absolute_error: 17.9611 - root_mean_squared_error: 24.6547 - mean_absolute_percentage_error: 33274734.0000 - val_loss: 8.1948 - val_mean_absolute_error: 18.9180 - val_root_mean_squared_error: 25.5708 - val_mean_absolute_percentage_error: 3445983.0000\n",
      "Epoch 18/100\n",
      "778/778 [==============================] - 11s 14ms/step - loss: 8.2641 - mean_absolute_error: 17.9106 - root_mean_squared_error: 24.5726 - mean_absolute_percentage_error: 26046178.0000 - val_loss: 8.2095 - val_mean_absolute_error: 18.9949 - val_root_mean_squared_error: 25.7991 - val_mean_absolute_percentage_error: 3638181.0000\n",
      "Epoch 19/100\n",
      "778/778 [==============================] - 11s 14ms/step - loss: 8.2242 - mean_absolute_error: 17.8024 - root_mean_squared_error: 24.4301 - mean_absolute_percentage_error: 15181785.0000 - val_loss: 8.2073 - val_mean_absolute_error: 18.9996 - val_root_mean_squared_error: 25.6938 - val_mean_absolute_percentage_error: 3559255.7500\n",
      "Epoch 20/100\n",
      "778/778 [==============================] - 11s 14ms/step - loss: 8.2124 - mean_absolute_error: 17.7683 - root_mean_squared_error: 24.4159 - mean_absolute_percentage_error: 10467481.0000 - val_loss: 8.2476 - val_mean_absolute_error: 19.1407 - val_root_mean_squared_error: 25.7841 - val_mean_absolute_percentage_error: 3832989.0000\n",
      "Epoch 21/100\n",
      "778/778 [==============================] - 11s 14ms/step - loss: 8.1796 - mean_absolute_error: 17.7192 - root_mean_squared_error: 24.3304 - mean_absolute_percentage_error: 9898542.0000 - val_loss: 8.2285 - val_mean_absolute_error: 19.0014 - val_root_mean_squared_error: 25.6784 - val_mean_absolute_percentage_error: 3479161.0000\n",
      "Epoch 22/100\n",
      "778/778 [==============================] - 12s 15ms/step - loss: 8.2169 - mean_absolute_error: 17.7612 - root_mean_squared_error: 24.3705 - mean_absolute_percentage_error: 18216098.0000 - val_loss: 8.2142 - val_mean_absolute_error: 19.0008 - val_root_mean_squared_error: 25.6654 - val_mean_absolute_percentage_error: 3520187.0000\n",
      "Epoch 23/100\n",
      "778/778 [==============================] - 11s 14ms/step - loss: 8.1545 - mean_absolute_error: 17.6187 - root_mean_squared_error: 24.1914 - mean_absolute_percentage_error: 10332899.0000 - val_loss: 8.1877 - val_mean_absolute_error: 18.7813 - val_root_mean_squared_error: 25.3430 - val_mean_absolute_percentage_error: 3669550.5000\n",
      "Epoch 24/100\n",
      "778/778 [==============================] - 11s 14ms/step - loss: 8.1516 - mean_absolute_error: 17.5754 - root_mean_squared_error: 24.1358 - mean_absolute_percentage_error: 9381657.0000 - val_loss: 8.1958 - val_mean_absolute_error: 18.8499 - val_root_mean_squared_error: 25.3742 - val_mean_absolute_percentage_error: 3721034.2500\n"
     ]
    },
    {
     "name": "stdout",
     "output_type": "stream",
     "text": [
      "Epoch 25/100\n",
      "778/778 [==============================] - 11s 14ms/step - loss: 8.1593 - mean_absolute_error: 17.5684 - root_mean_squared_error: 24.1336 - mean_absolute_percentage_error: 9325434.0000 - val_loss: 8.2168 - val_mean_absolute_error: 19.0537 - val_root_mean_squared_error: 25.8408 - val_mean_absolute_percentage_error: 3597094.0000\n",
      "Epoch 26/100\n",
      "778/778 [==============================] - 11s 14ms/step - loss: 8.1809 - mean_absolute_error: 17.6452 - root_mean_squared_error: 24.2134 - mean_absolute_percentage_error: 15637613.0000 - val_loss: 8.1408 - val_mean_absolute_error: 18.6219 - val_root_mean_squared_error: 25.2488 - val_mean_absolute_percentage_error: 3434346.5000\n",
      "Epoch 27/100\n",
      "778/778 [==============================] - 11s 14ms/step - loss: 8.1585 - mean_absolute_error: 17.5424 - root_mean_squared_error: 24.0943 - mean_absolute_percentage_error: 10764692.0000 - val_loss: 8.1827 - val_mean_absolute_error: 18.7803 - val_root_mean_squared_error: 25.4339 - val_mean_absolute_percentage_error: 3821614.5000\n",
      "Epoch 28/100\n",
      "778/778 [==============================] - 11s 15ms/step - loss: 8.1304 - mean_absolute_error: 17.4817 - root_mean_squared_error: 24.0174 - mean_absolute_percentage_error: 9065955.0000 - val_loss: 8.1380 - val_mean_absolute_error: 18.6798 - val_root_mean_squared_error: 25.2623 - val_mean_absolute_percentage_error: 3610981.0000\n",
      "Epoch 29/100\n",
      "778/778 [==============================] - 11s 15ms/step - loss: 8.1247 - mean_absolute_error: 17.4708 - root_mean_squared_error: 23.9862 - mean_absolute_percentage_error: 8927929.0000 - val_loss: 8.1321 - val_mean_absolute_error: 18.5311 - val_root_mean_squared_error: 25.0610 - val_mean_absolute_percentage_error: 3664218.2500\n",
      "Epoch 30/100\n",
      "778/778 [==============================] - 11s 14ms/step - loss: 8.1242 - mean_absolute_error: 17.4035 - root_mean_squared_error: 23.9143 - mean_absolute_percentage_error: 10321934.0000 - val_loss: 8.1487 - val_mean_absolute_error: 18.6221 - val_root_mean_squared_error: 25.2065 - val_mean_absolute_percentage_error: 3560118.7500\n",
      "Epoch 31/100\n",
      "778/778 [==============================] - 11s 14ms/step - loss: 8.1111 - mean_absolute_error: 17.3922 - root_mean_squared_error: 23.8929 - mean_absolute_percentage_error: 8983359.0000 - val_loss: 8.1393 - val_mean_absolute_error: 18.6669 - val_root_mean_squared_error: 25.1973 - val_mean_absolute_percentage_error: 3673693.5000\n",
      "Epoch 32/100\n",
      "778/778 [==============================] - 11s 14ms/step - loss: 8.0937 - mean_absolute_error: 17.3585 - root_mean_squared_error: 23.8310 - mean_absolute_percentage_error: 9258739.0000 - val_loss: 8.1542 - val_mean_absolute_error: 18.6365 - val_root_mean_squared_error: 25.1713 - val_mean_absolute_percentage_error: 3677847.7500\n",
      "Epoch 33/100\n",
      "778/778 [==============================] - 11s 14ms/step - loss: 8.0886 - mean_absolute_error: 17.3357 - root_mean_squared_error: 23.8095 - mean_absolute_percentage_error: 9109517.0000 - val_loss: 8.1317 - val_mean_absolute_error: 18.5465 - val_root_mean_squared_error: 25.0367 - val_mean_absolute_percentage_error: 3456328.0000\n",
      "Epoch 34/100\n",
      "778/778 [==============================] - 11s 14ms/step - loss: 8.0964 - mean_absolute_error: 17.3055 - root_mean_squared_error: 23.7769 - mean_absolute_percentage_error: 8551698.0000 - val_loss: 8.0880 - val_mean_absolute_error: 18.4038 - val_root_mean_squared_error: 24.8561 - val_mean_absolute_percentage_error: 3519408.2500\n",
      "Epoch 35/100\n",
      "778/778 [==============================] - 11s 15ms/step - loss: 8.0932 - mean_absolute_error: 17.3056 - root_mean_squared_error: 23.7706 - mean_absolute_percentage_error: 9711189.0000 - val_loss: 8.1388 - val_mean_absolute_error: 18.5991 - val_root_mean_squared_error: 25.1692 - val_mean_absolute_percentage_error: 3673755.7500\n",
      "Epoch 36/100\n",
      "778/778 [==============================] - 11s 15ms/step - loss: 8.0915 - mean_absolute_error: 17.3139 - root_mean_squared_error: 23.7750 - mean_absolute_percentage_error: 9216467.0000 - val_loss: 8.1209 - val_mean_absolute_error: 18.5405 - val_root_mean_squared_error: 25.0840 - val_mean_absolute_percentage_error: 3491226.5000\n",
      "Epoch 37/100\n",
      "778/778 [==============================] - 11s 15ms/step - loss: 8.0661 - mean_absolute_error: 17.2451 - root_mean_squared_error: 23.6647 - mean_absolute_percentage_error: 9269187.0000 - val_loss: 8.1820 - val_mean_absolute_error: 18.7721 - val_root_mean_squared_error: 25.3797 - val_mean_absolute_percentage_error: 3426154.7500\n",
      "Epoch 38/100\n",
      "778/778 [==============================] - 12s 15ms/step - loss: 8.0816 - mean_absolute_error: 17.2443 - root_mean_squared_error: 23.6747 - mean_absolute_percentage_error: 9587783.0000 - val_loss: 8.1008 - val_mean_absolute_error: 18.4091 - val_root_mean_squared_error: 24.8445 - val_mean_absolute_percentage_error: 3659365.5000\n",
      "Epoch 39/100\n",
      "778/778 [==============================] - 12s 15ms/step - loss: 8.0700 - mean_absolute_error: 17.2373 - root_mean_squared_error: 23.6545 - mean_absolute_percentage_error: 8376064.0000 - val_loss: 8.1373 - val_mean_absolute_error: 18.5673 - val_root_mean_squared_error: 25.0480 - val_mean_absolute_percentage_error: 3592488.7500\n",
      "Epoch 40/100\n",
      "778/778 [==============================] - 12s 15ms/step - loss: 8.0449 - mean_absolute_error: 17.1932 - root_mean_squared_error: 23.5930 - mean_absolute_percentage_error: 8519974.0000 - val_loss: 8.1183 - val_mean_absolute_error: 18.5170 - val_root_mean_squared_error: 25.0581 - val_mean_absolute_percentage_error: 3645097.7500\n",
      "Epoch 41/100\n",
      "778/778 [==============================] - 12s 16ms/step - loss: 8.0443 - mean_absolute_error: 17.1632 - root_mean_squared_error: 23.5421 - mean_absolute_percentage_error: 8403614.0000 - val_loss: 8.1269 - val_mean_absolute_error: 18.5318 - val_root_mean_squared_error: 25.0018 - val_mean_absolute_percentage_error: 3751595.0000\n",
      "Epoch 42/100\n",
      "778/778 [==============================] - 12s 15ms/step - loss: 8.0457 - mean_absolute_error: 17.1667 - root_mean_squared_error: 23.5476 - mean_absolute_percentage_error: 8239416.5000 - val_loss: 8.1566 - val_mean_absolute_error: 18.7024 - val_root_mean_squared_error: 25.2468 - val_mean_absolute_percentage_error: 3982556.7500\n",
      "Epoch 43/100\n",
      "778/778 [==============================] - 12s 15ms/step - loss: 8.0513 - mean_absolute_error: 17.1648 - root_mean_squared_error: 23.5524 - mean_absolute_percentage_error: 7732775.0000 - val_loss: 8.1660 - val_mean_absolute_error: 18.7902 - val_root_mean_squared_error: 25.3889 - val_mean_absolute_percentage_error: 3501751.0000\n",
      "Epoch 44/100\n",
      "778/778 [==============================] - 11s 15ms/step - loss: 8.0405 - mean_absolute_error: 17.1136 - root_mean_squared_error: 23.4800 - mean_absolute_percentage_error: 8184250.5000 - val_loss: 8.1006 - val_mean_absolute_error: 18.4506 - val_root_mean_squared_error: 24.9363 - val_mean_absolute_percentage_error: 3592293.0000\n",
      "Epoch 45/100\n",
      "778/778 [==============================] - 11s 15ms/step - loss: 8.0212 - mean_absolute_error: 17.0874 - root_mean_squared_error: 23.4274 - mean_absolute_percentage_error: 8526790.0000 - val_loss: 8.1297 - val_mean_absolute_error: 18.4805 - val_root_mean_squared_error: 24.9448 - val_mean_absolute_percentage_error: 3578802.2500\n",
      "Epoch 46/100\n",
      "778/778 [==============================] - 12s 15ms/step - loss: 8.0242 - mean_absolute_error: 17.0760 - root_mean_squared_error: 23.4129 - mean_absolute_percentage_error: 7638788.0000 - val_loss: 8.1238 - val_mean_absolute_error: 18.5844 - val_root_mean_squared_error: 25.1530 - val_mean_absolute_percentage_error: 3818793.7500\n",
      "Epoch 47/100\n",
      "778/778 [==============================] - 12s 15ms/step - loss: 8.0130 - mean_absolute_error: 17.0873 - root_mean_squared_error: 23.4047 - mean_absolute_percentage_error: 8378427.5000 - val_loss: 8.1284 - val_mean_absolute_error: 18.5419 - val_root_mean_squared_error: 25.0682 - val_mean_absolute_percentage_error: 3626502.7500\n",
      "Epoch 48/100\n",
      "778/778 [==============================] - 12s 15ms/step - loss: 8.0340 - mean_absolute_error: 17.0911 - root_mean_squared_error: 23.3983 - mean_absolute_percentage_error: 10239160.0000 - val_loss: 8.1227 - val_mean_absolute_error: 18.6470 - val_root_mean_squared_error: 25.1683 - val_mean_absolute_percentage_error: 3650570.0000\n"
     ]
    },
    {
     "name": "stdout",
     "output_type": "stream",
     "text": [
      "Epoch 49/100\n",
      "778/778 [==============================] - 12s 15ms/step - loss: 8.0145 - mean_absolute_error: 17.0241 - root_mean_squared_error: 23.3263 - mean_absolute_percentage_error: 9697295.0000 - val_loss: 8.1034 - val_mean_absolute_error: 18.4722 - val_root_mean_squared_error: 24.9888 - val_mean_absolute_percentage_error: 3673601.7500\n",
      "Epoch 50/100\n",
      "778/778 [==============================] - 11s 15ms/step - loss: 8.0028 - mean_absolute_error: 17.0098 - root_mean_squared_error: 23.3083 - mean_absolute_percentage_error: 7726151.5000 - val_loss: 8.1510 - val_mean_absolute_error: 18.7316 - val_root_mean_squared_error: 25.2252 - val_mean_absolute_percentage_error: 3605791.2500\n",
      "Epoch 51/100\n",
      "778/778 [==============================] - 11s 14ms/step - loss: 7.9971 - mean_absolute_error: 16.9725 - root_mean_squared_error: 23.2604 - mean_absolute_percentage_error: 7720096.0000 - val_loss: 8.1075 - val_mean_absolute_error: 18.5495 - val_root_mean_squared_error: 25.1297 - val_mean_absolute_percentage_error: 3725803.0000\n",
      "Epoch 52/100\n",
      "778/778 [==============================] - 11s 15ms/step - loss: 7.9988 - mean_absolute_error: 16.9979 - root_mean_squared_error: 23.2816 - mean_absolute_percentage_error: 8017243.0000 - val_loss: 8.1258 - val_mean_absolute_error: 18.5751 - val_root_mean_squared_error: 25.0071 - val_mean_absolute_percentage_error: 3588550.2500\n",
      "Epoch 53/100\n",
      "778/778 [==============================] - 11s 14ms/step - loss: 7.9924 - mean_absolute_error: 16.9636 - root_mean_squared_error: 23.2335 - mean_absolute_percentage_error: 7282220.0000 - val_loss: 8.0958 - val_mean_absolute_error: 18.4413 - val_root_mean_squared_error: 24.9640 - val_mean_absolute_percentage_error: 3652452.5000\n",
      "Epoch 54/100\n",
      "778/778 [==============================] - 11s 14ms/step - loss: 7.9771 - mean_absolute_error: 16.9452 - root_mean_squared_error: 23.1969 - mean_absolute_percentage_error: 7363222.0000 - val_loss: 8.1026 - val_mean_absolute_error: 18.5385 - val_root_mean_squared_error: 25.0026 - val_mean_absolute_percentage_error: 3501335.7500\n",
      "Epoch 55/100\n",
      "778/778 [==============================] - 10s 13ms/step - loss: 7.9709 - mean_absolute_error: 16.9288 - root_mean_squared_error: 23.1758 - mean_absolute_percentage_error: 7502735.0000 - val_loss: 8.1551 - val_mean_absolute_error: 18.6453 - val_root_mean_squared_error: 25.1330 - val_mean_absolute_percentage_error: 3672150.5000\n",
      "Epoch 56/100\n",
      "778/778 [==============================] - 11s 14ms/step - loss: 7.9668 - mean_absolute_error: 16.8950 - root_mean_squared_error: 23.1266 - mean_absolute_percentage_error: 7746597.0000 - val_loss: 8.1169 - val_mean_absolute_error: 18.5524 - val_root_mean_squared_error: 25.0404 - val_mean_absolute_percentage_error: 3668332.2500\n",
      "Epoch 57/100\n",
      "778/778 [==============================] - 11s 14ms/step - loss: 8.0155 - mean_absolute_error: 16.9793 - root_mean_squared_error: 23.2031 - mean_absolute_percentage_error: 13726947.0000 - val_loss: 8.1283 - val_mean_absolute_error: 18.4915 - val_root_mean_squared_error: 24.9228 - val_mean_absolute_percentage_error: 3686932.5000\n",
      "Epoch 58/100\n",
      "778/778 [==============================] - 11s 15ms/step - loss: 7.9552 - mean_absolute_error: 16.8406 - root_mean_squared_error: 23.0474 - mean_absolute_percentage_error: 7542175.5000 - val_loss: 8.0987 - val_mean_absolute_error: 18.5281 - val_root_mean_squared_error: 24.9460 - val_mean_absolute_percentage_error: 3480607.2500\n",
      "Epoch 59/100\n",
      "778/778 [==============================] - 12s 15ms/step - loss: 7.9491 - mean_absolute_error: 16.8465 - root_mean_squared_error: 23.0368 - mean_absolute_percentage_error: 7915369.5000 - val_loss: 8.1673 - val_mean_absolute_error: 18.6884 - val_root_mean_squared_error: 25.1742 - val_mean_absolute_percentage_error: 3892582.0000\n",
      "Epoch 60/100\n",
      "778/778 [==============================] - 11s 15ms/step - loss: 7.9443 - mean_absolute_error: 16.8299 - root_mean_squared_error: 23.0259 - mean_absolute_percentage_error: 7338051.5000 - val_loss: 8.1408 - val_mean_absolute_error: 18.6060 - val_root_mean_squared_error: 25.1575 - val_mean_absolute_percentage_error: 3592483.2500\n",
      "Epoch 61/100\n",
      "778/778 [==============================] - 11s 14ms/step - loss: 7.9203 - mean_absolute_error: 16.7866 - root_mean_squared_error: 22.9411 - mean_absolute_percentage_error: 7247711.5000 - val_loss: 8.1068 - val_mean_absolute_error: 18.4202 - val_root_mean_squared_error: 24.9070 - val_mean_absolute_percentage_error: 3379747.0000\n",
      "Epoch 62/100\n",
      "778/778 [==============================] - 11s 14ms/step - loss: 7.9279 - mean_absolute_error: 16.7819 - root_mean_squared_error: 22.9346 - mean_absolute_percentage_error: 6975144.5000 - val_loss: 8.1475 - val_mean_absolute_error: 18.5801 - val_root_mean_squared_error: 25.0011 - val_mean_absolute_percentage_error: 3592334.5000\n",
      "Epoch 63/100\n",
      "778/778 [==============================] - 11s 14ms/step - loss: 7.9161 - mean_absolute_error: 16.7671 - root_mean_squared_error: 22.9004 - mean_absolute_percentage_error: 7465997.0000 - val_loss: 8.1115 - val_mean_absolute_error: 18.5299 - val_root_mean_squared_error: 25.0159 - val_mean_absolute_percentage_error: 3476034.2500\n",
      "Epoch 64/100\n",
      "778/778 [==============================] - 11s 14ms/step - loss: 7.9079 - mean_absolute_error: 16.7355 - root_mean_squared_error: 22.8519 - mean_absolute_percentage_error: 7563193.0000 - val_loss: 8.1077 - val_mean_absolute_error: 18.4368 - val_root_mean_squared_error: 24.8668 - val_mean_absolute_percentage_error: 3647060.2500\n",
      "Epoch 65/100\n",
      "778/778 [==============================] - 12s 15ms/step - loss: 7.9074 - mean_absolute_error: 16.7259 - root_mean_squared_error: 22.8379 - mean_absolute_percentage_error: 8890668.0000 - val_loss: 8.1294 - val_mean_absolute_error: 18.5265 - val_root_mean_squared_error: 24.9374 - val_mean_absolute_percentage_error: 3579172.5000\n",
      "Epoch 66/100\n",
      "778/778 [==============================] - 12s 15ms/step - loss: 7.9064 - mean_absolute_error: 16.7004 - root_mean_squared_error: 22.8103 - mean_absolute_percentage_error: 7210505.5000 - val_loss: 8.1777 - val_mean_absolute_error: 18.7440 - val_root_mean_squared_error: 25.2491 - val_mean_absolute_percentage_error: 3605060.0000\n",
      "Epoch 67/100\n",
      "778/778 [==============================] - 11s 14ms/step - loss: 7.8938 - mean_absolute_error: 16.6773 - root_mean_squared_error: 22.7772 - mean_absolute_percentage_error: 7128266.0000 - val_loss: 8.1325 - val_mean_absolute_error: 18.5131 - val_root_mean_squared_error: 24.9604 - val_mean_absolute_percentage_error: 3347749.7500\n",
      "Epoch 68/100\n",
      "778/778 [==============================] - 11s 14ms/step - loss: 7.8817 - mean_absolute_error: 16.6625 - root_mean_squared_error: 22.7604 - mean_absolute_percentage_error: 6751228.5000 - val_loss: 8.1416 - val_mean_absolute_error: 18.6102 - val_root_mean_squared_error: 25.1460 - val_mean_absolute_percentage_error: 3591504.2500\n",
      "Epoch 69/100\n",
      "778/778 [==============================] - 11s 14ms/step - loss: 7.8807 - mean_absolute_error: 16.6206 - root_mean_squared_error: 22.7004 - mean_absolute_percentage_error: 7158013.5000 - val_loss: 8.1460 - val_mean_absolute_error: 18.5981 - val_root_mean_squared_error: 24.9767 - val_mean_absolute_percentage_error: 3558496.2500\n",
      "Epoch 70/100\n",
      "778/778 [==============================] - 11s 15ms/step - loss: 7.8720 - mean_absolute_error: 16.6043 - root_mean_squared_error: 22.6736 - mean_absolute_percentage_error: 7505559.0000 - val_loss: 8.1010 - val_mean_absolute_error: 18.4386 - val_root_mean_squared_error: 24.8113 - val_mean_absolute_percentage_error: 3491761.0000\n",
      "Epoch 71/100\n",
      "778/778 [==============================] - 11s 15ms/step - loss: 7.8638 - mean_absolute_error: 16.5894 - root_mean_squared_error: 22.6499 - mean_absolute_percentage_error: 7241301.5000 - val_loss: 8.1344 - val_mean_absolute_error: 18.4784 - val_root_mean_squared_error: 24.8718 - val_mean_absolute_percentage_error: 3597433.7500\n",
      "Epoch 72/100\n",
      "778/778 [==============================] - 11s 15ms/step - loss: 7.8641 - mean_absolute_error: 16.5643 - root_mean_squared_error: 22.6156 - mean_absolute_percentage_error: 7481805.5000 - val_loss: 8.1466 - val_mean_absolute_error: 18.5906 - val_root_mean_squared_error: 25.0303 - val_mean_absolute_percentage_error: 3476008.2500\n"
     ]
    },
    {
     "name": "stdout",
     "output_type": "stream",
     "text": [
      "Epoch 73/100\n",
      "778/778 [==============================] - 11s 15ms/step - loss: 7.8577 - mean_absolute_error: 16.5635 - root_mean_squared_error: 22.6030 - mean_absolute_percentage_error: 7029817.0000 - val_loss: 8.1960 - val_mean_absolute_error: 18.7227 - val_root_mean_squared_error: 25.1467 - val_mean_absolute_percentage_error: 3577164.2500\n",
      "Epoch 74/100\n",
      "778/778 [==============================] - 11s 15ms/step - loss: 7.8434 - mean_absolute_error: 16.5234 - root_mean_squared_error: 22.5379 - mean_absolute_percentage_error: 7275935.5000 - val_loss: 8.1561 - val_mean_absolute_error: 18.6802 - val_root_mean_squared_error: 25.1400 - val_mean_absolute_percentage_error: 3727604.7500\n",
      "Epoch 75/100\n",
      "778/778 [==============================] - 12s 15ms/step - loss: 7.8405 - mean_absolute_error: 16.5074 - root_mean_squared_error: 22.5125 - mean_absolute_percentage_error: 7092801.5000 - val_loss: 8.1289 - val_mean_absolute_error: 18.4974 - val_root_mean_squared_error: 24.9676 - val_mean_absolute_percentage_error: 3589066.7500\n",
      "Epoch 76/100\n",
      "778/778 [==============================] - 11s 14ms/step - loss: 7.8419 - mean_absolute_error: 16.4959 - root_mean_squared_error: 22.5152 - mean_absolute_percentage_error: 7121525.0000 - val_loss: 8.1514 - val_mean_absolute_error: 18.6747 - val_root_mean_squared_error: 25.1387 - val_mean_absolute_percentage_error: 3503733.7500\n",
      "Epoch 77/100\n",
      "778/778 [==============================] - 11s 14ms/step - loss: 7.8287 - mean_absolute_error: 16.4818 - root_mean_squared_error: 22.4971 - mean_absolute_percentage_error: 6779388.0000 - val_loss: 8.1537 - val_mean_absolute_error: 18.6390 - val_root_mean_squared_error: 25.0937 - val_mean_absolute_percentage_error: 3608013.7500\n",
      "Epoch 78/100\n",
      "778/778 [==============================] - 11s 14ms/step - loss: 7.8288 - mean_absolute_error: 16.4428 - root_mean_squared_error: 22.4204 - mean_absolute_percentage_error: 7129749.0000 - val_loss: 8.1498 - val_mean_absolute_error: 18.5591 - val_root_mean_squared_error: 25.0073 - val_mean_absolute_percentage_error: 3334259.5000\n",
      "Epoch 79/100\n",
      "778/778 [==============================] - 11s 15ms/step - loss: 7.8127 - mean_absolute_error: 16.4093 - root_mean_squared_error: 22.3930 - mean_absolute_percentage_error: 6965707.0000 - val_loss: 8.1293 - val_mean_absolute_error: 18.4941 - val_root_mean_squared_error: 24.8431 - val_mean_absolute_percentage_error: 3443959.0000\n",
      "Epoch 80/100\n",
      "778/778 [==============================] - 11s 15ms/step - loss: 7.8151 - mean_absolute_error: 16.3861 - root_mean_squared_error: 22.3605 - mean_absolute_percentage_error: 7256718.0000 - val_loss: 8.1543 - val_mean_absolute_error: 18.6815 - val_root_mean_squared_error: 25.1013 - val_mean_absolute_percentage_error: 3478682.7500\n",
      "Epoch 81/100\n",
      "778/778 [==============================] - 12s 15ms/step - loss: 7.8087 - mean_absolute_error: 16.3752 - root_mean_squared_error: 22.3524 - mean_absolute_percentage_error: 6812510.5000 - val_loss: 8.2353 - val_mean_absolute_error: 18.9040 - val_root_mean_squared_error: 25.3087 - val_mean_absolute_percentage_error: 3596681.0000\n",
      "Epoch 82/100\n",
      "778/778 [==============================] - 11s 14ms/step - loss: 7.8017 - mean_absolute_error: 16.3426 - root_mean_squared_error: 22.2796 - mean_absolute_percentage_error: 7046171.0000 - val_loss: 8.1471 - val_mean_absolute_error: 18.6078 - val_root_mean_squared_error: 25.0370 - val_mean_absolute_percentage_error: 3748671.2500\n",
      "Epoch 83/100\n",
      "778/778 [==============================] - 11s 14ms/step - loss: 7.7937 - mean_absolute_error: 16.3209 - root_mean_squared_error: 22.2710 - mean_absolute_percentage_error: 7255913.0000 - val_loss: 8.1149 - val_mean_absolute_error: 18.5129 - val_root_mean_squared_error: 24.9138 - val_mean_absolute_percentage_error: 3543427.7500\n",
      "Epoch 84/100\n",
      "778/778 [==============================] - 11s 14ms/step - loss: 7.7847 - mean_absolute_error: 16.3073 - root_mean_squared_error: 22.2495 - mean_absolute_percentage_error: 6980367.5000 - val_loss: 8.1856 - val_mean_absolute_error: 18.6986 - val_root_mean_squared_error: 25.1127 - val_mean_absolute_percentage_error: 3627706.5000\n",
      "Epoch 85/100\n",
      "778/778 [==============================] - 10s 13ms/step - loss: 7.7732 - mean_absolute_error: 16.2936 - root_mean_squared_error: 22.2220 - mean_absolute_percentage_error: 7059046.0000 - val_loss: 8.1409 - val_mean_absolute_error: 18.5620 - val_root_mean_squared_error: 24.8671 - val_mean_absolute_percentage_error: 3386170.0000\n",
      "Epoch 86/100\n",
      "778/778 [==============================] - 11s 14ms/step - loss: 7.7609 - mean_absolute_error: 16.2518 - root_mean_squared_error: 22.1499 - mean_absolute_percentage_error: 6560474.5000 - val_loss: 8.1694 - val_mean_absolute_error: 18.6757 - val_root_mean_squared_error: 25.1196 - val_mean_absolute_percentage_error: 3524991.0000\n",
      "Epoch 87/100\n",
      "778/778 [==============================] - 11s 14ms/step - loss: 7.7658 - mean_absolute_error: 16.2285 - root_mean_squared_error: 22.1436 - mean_absolute_percentage_error: 6323145.0000 - val_loss: 8.1399 - val_mean_absolute_error: 18.6710 - val_root_mean_squared_error: 25.0666 - val_mean_absolute_percentage_error: 3463969.2500\n",
      "Epoch 88/100\n",
      "778/778 [==============================] - 11s 14ms/step - loss: 7.7554 - mean_absolute_error: 16.2068 - root_mean_squared_error: 22.1201 - mean_absolute_percentage_error: 6741500.0000 - val_loss: 8.1498 - val_mean_absolute_error: 18.5714 - val_root_mean_squared_error: 24.8878 - val_mean_absolute_percentage_error: 3384731.0000\n",
      "Epoch 89/100\n",
      "778/778 [==============================] - 11s 14ms/step - loss: 7.7648 - mean_absolute_error: 16.1912 - root_mean_squared_error: 22.0906 - mean_absolute_percentage_error: 6989312.5000 - val_loss: 8.1675 - val_mean_absolute_error: 18.6127 - val_root_mean_squared_error: 24.9649 - val_mean_absolute_percentage_error: 3407986.2500\n",
      "Epoch 90/100\n",
      "778/778 [==============================] - 11s 15ms/step - loss: 7.7435 - mean_absolute_error: 16.1536 - root_mean_squared_error: 22.0359 - mean_absolute_percentage_error: 7030770.0000 - val_loss: 8.1728 - val_mean_absolute_error: 18.6839 - val_root_mean_squared_error: 25.0618 - val_mean_absolute_percentage_error: 3517050.2500\n",
      "Epoch 91/100\n",
      "778/778 [==============================] - 11s 15ms/step - loss: 7.7381 - mean_absolute_error: 16.1287 - root_mean_squared_error: 22.0013 - mean_absolute_percentage_error: 7316742.5000 - val_loss: 8.1397 - val_mean_absolute_error: 18.5200 - val_root_mean_squared_error: 24.8892 - val_mean_absolute_percentage_error: 3444701.0000\n",
      "Epoch 92/100\n",
      "778/778 [==============================] - 12s 15ms/step - loss: 7.7212 - mean_absolute_error: 16.0883 - root_mean_squared_error: 21.9533 - mean_absolute_percentage_error: 6801600.5000 - val_loss: 8.1860 - val_mean_absolute_error: 18.7068 - val_root_mean_squared_error: 25.1275 - val_mean_absolute_percentage_error: 3629771.7500\n",
      "Epoch 93/100\n",
      "778/778 [==============================] - 12s 15ms/step - loss: 7.7183 - mean_absolute_error: 16.1106 - root_mean_squared_error: 21.9725 - mean_absolute_percentage_error: 6973666.0000 - val_loss: 8.1924 - val_mean_absolute_error: 18.6619 - val_root_mean_squared_error: 25.0210 - val_mean_absolute_percentage_error: 3325493.7500\n",
      "Epoch 94/100\n",
      "778/778 [==============================] - 11s 14ms/step - loss: 7.7231 - mean_absolute_error: 16.0442 - root_mean_squared_error: 21.9063 - mean_absolute_percentage_error: 7416627.5000 - val_loss: 8.1866 - val_mean_absolute_error: 18.7132 - val_root_mean_squared_error: 25.1006 - val_mean_absolute_percentage_error: 3400387.2500\n",
      "Epoch 95/100\n",
      "778/778 [==============================] - 12s 15ms/step - loss: 7.7174 - mean_absolute_error: 16.0311 - root_mean_squared_error: 21.8730 - mean_absolute_percentage_error: 7233241.0000 - val_loss: 8.1329 - val_mean_absolute_error: 18.6296 - val_root_mean_squared_error: 25.0253 - val_mean_absolute_percentage_error: 3524251.2500\n",
      "Epoch 96/100\n",
      "778/778 [==============================] - 11s 15ms/step - loss: 7.7050 - mean_absolute_error: 16.0203 - root_mean_squared_error: 21.8472 - mean_absolute_percentage_error: 6969545.0000 - val_loss: 8.1785 - val_mean_absolute_error: 18.7665 - val_root_mean_squared_error: 25.1481 - val_mean_absolute_percentage_error: 3404470.0000\n"
     ]
    },
    {
     "name": "stdout",
     "output_type": "stream",
     "text": [
      "Epoch 97/100\n",
      "778/778 [==============================] - 11s 14ms/step - loss: 7.6924 - mean_absolute_error: 15.9813 - root_mean_squared_error: 21.8206 - mean_absolute_percentage_error: 6717743.0000 - val_loss: 8.1720 - val_mean_absolute_error: 18.6597 - val_root_mean_squared_error: 25.0306 - val_mean_absolute_percentage_error: 3641538.7500\n",
      "Epoch 98/100\n",
      "778/778 [==============================] - 11s 15ms/step - loss: 7.6996 - mean_absolute_error: 15.9703 - root_mean_squared_error: 21.8020 - mean_absolute_percentage_error: 7033806.0000 - val_loss: 8.1625 - val_mean_absolute_error: 18.6813 - val_root_mean_squared_error: 25.0430 - val_mean_absolute_percentage_error: 3530399.5000\n",
      "Epoch 99/100\n",
      "778/778 [==============================] - 12s 15ms/step - loss: 7.6890 - mean_absolute_error: 15.9393 - root_mean_squared_error: 21.7520 - mean_absolute_percentage_error: 6896915.0000 - val_loss: 8.1659 - val_mean_absolute_error: 18.6391 - val_root_mean_squared_error: 25.0131 - val_mean_absolute_percentage_error: 3404932.7500\n",
      "Epoch 100/100\n",
      "778/778 [==============================] - 11s 15ms/step - loss: 7.6832 - mean_absolute_error: 15.9143 - root_mean_squared_error: 21.7078 - mean_absolute_percentage_error: 6474843.5000 - val_loss: 8.1740 - val_mean_absolute_error: 18.7143 - val_root_mean_squared_error: 25.0915 - val_mean_absolute_percentage_error: 3355452.7500\n"
     ]
    },
    {
     "data": {
      "text/plain": [
       "<keras.callbacks.History at 0x25c11ed7e20>"
      ]
     },
     "execution_count": 39,
     "metadata": {},
     "output_type": "execute_result"
    }
   ],
   "source": [
    "model15.fit((Wt15,Xt15), yt15, validation_split = val_percent,\n",
    "            epochs = 100, \n",
    "            verbose = 1)"
   ]
  },
  {
   "cell_type": "code",
   "execution_count": 49,
   "metadata": {},
   "outputs": [],
   "source": [
    "metrics15 = pd.DataFrame(model15.history.history)"
   ]
  },
  {
   "cell_type": "code",
   "execution_count": 70,
   "metadata": {},
   "outputs": [
    {
     "data": {
      "text/plain": [
       "(<mpl_toolkits.axes_grid1.inset_locator.BboxPatch at 0x1ba7cd15df0>,\n",
       " <mpl_toolkits.axes_grid1.inset_locator.BboxConnector at 0x1ba7cd6d8e0>,\n",
       " <mpl_toolkits.axes_grid1.inset_locator.BboxConnector at 0x1ba7cd6db20>)"
      ]
     },
     "execution_count": 70,
     "metadata": {},
     "output_type": "execute_result"
    },
    {
     "data": {
      "image/png": "[encoded data removed]",
      "text/plain": [
       "<Figure size 432x288 with 2 Axes>"
      ]
     },
     "metadata": {
      "needs_background": "light"
     },
     "output_type": "display_data"
    }
   ],
   "source": [
    "fig = plt.figure(figsize=(6,4))\n",
    "\n",
    "# Add set of axes to figure\n",
    "axes = fig.add_axes([0, 0, 1, 1]) \n",
    "axes2 = fig.add_axes([0.35, 0.45, 0.5, 0.5]) # Smaller figure\n",
    "axes.plot(metrics15[['loss','val_loss']], label=['train_loss','val_loss'], lw=4)\n",
    "axes.set_ylim(7.5,15)\n",
    "\n",
    "axes2.plot(metrics15[['loss','val_loss']], lw=4)\n",
    "axes2.set_xlim(0,25)\n",
    "axes2.set_ylim(8,10)\n",
    "#plt.xticks(visible=False)\n",
    "plt.yticks(visible=False)\n",
    "\n",
    "axes.set_xlabel('Epoch')\n",
    "axes.set_ylabel('Loss')\n",
    "axes.grid()\n",
    "axes2.grid()\n",
    "\n",
    "mark_inset(axes, axes2, loc1=2, loc2=4, fc=\"0.9\", ec=\"0.1\", ls='--')\n",
    "# axes.yaxis.set_major_formatter(formatter)"
   ]
  },
  {
   "cell_type": "code",
   "execution_count": 55,
   "metadata": {},
   "outputs": [
    {
     "name": "stderr",
     "output_type": "stream",
     "text": [
      "WARNING:absl:Function `_wrapped_model` contains input name(s) WideInput, DeepInput with unsupported characters which will be renamed to wideinput, deepinput in the SavedModel.\n"
     ]
    },
    {
     "name": "stdout",
     "output_type": "stream",
     "text": [
      "INFO:tensorflow:Assets written to: my_dir/8e-15\\assets\n"
     ]
    },
    {
     "name": "stderr",
     "output_type": "stream",
     "text": [
      "INFO:tensorflow:Assets written to: my_dir/8e-15\\assets\n",
      "WARNING:absl:<keras.layers.recurrent.LSTMCell object at 0x0000020D81B61F40> has the same name 'LSTMCell' as a built-in Keras object. Consider renaming <class 'keras.layers.recurrent.LSTMCell'> to avoid naming conflicts when loading with `tf.keras.models.load_model`. If renaming is not possible, pass the object in the `custom_objects` parameter of the load function.\n",
      "WARNING:absl:<keras.layers.recurrent.LSTMCell object at 0x0000020D8E0FD130> has the same name 'LSTMCell' as a built-in Keras object. Consider renaming <class 'keras.layers.recurrent.LSTMCell'> to avoid naming conflicts when loading with `tf.keras.models.load_model`. If renaming is not possible, pass the object in the `custom_objects` parameter of the load function.\n",
      "WARNING:absl:<keras.layers.recurrent.LSTMCell object at 0x0000020D8E0FDB80> has the same name 'LSTMCell' as a built-in Keras object. Consider renaming <class 'keras.layers.recurrent.LSTMCell'> to avoid naming conflicts when loading with `tf.keras.models.load_model`. If renaming is not possible, pass the object in the `custom_objects` parameter of the load function.\n"
     ]
    }
   ],
   "source": [
    "model15.save(\"my_dir/8e-15\")"
   ]
  },
  {
   "cell_type": "code",
   "execution_count": 58,
   "metadata": {},
   "outputs": [],
   "source": [
    "model15 = keras.models.load_model(\"my_dir/8e-15\", custom_objects={'GEH_loss': GEH_loss})"
   ]
  },
  {
   "cell_type": "code",
   "execution_count": 59,
   "metadata": {},
   "outputs": [
    {
     "data": {
      "text/plain": [
       "array([[ 59.914017,  62.400864,  66.59089 , ...,  62.892387,  41.96364 ,\n",
       "         42.714767],\n",
       "       [ 59.319687,  61.635986,  66.439186, ...,  62.728733,  41.67466 ,\n",
       "         43.38703 ],\n",
       "       [ 59.87405 ,  63.038902,  67.31254 , ...,  65.04761 ,  44.9862  ,\n",
       "         44.385315],\n",
       "       ...,\n",
       "       [134.57304 , 138.70264 , 149.42848 , ..., 147.51271 ,  98.897156,\n",
       "         89.95299 ],\n",
       "       [131.08788 , 135.3107  , 145.67247 , ..., 143.98311 ,  96.54508 ,\n",
       "         87.03639 ],\n",
       "       [117.05011 , 121.29782 , 129.28815 , ..., 128.12141 ,  86.40668 ,\n",
       "         77.564575]], dtype=float32)"
      ]
     },
     "execution_count": 59,
     "metadata": {},
     "output_type": "execute_result"
    }
   ],
   "source": [
    "model15.predict((Wv15,Xv15))"
   ]
  },
  {
   "cell_type": "markdown",
   "metadata": {},
   "source": [
    "### Evaluation on inverse_transform"
   ]
  },
  {
   "cell_type": "code",
   "execution_count": null,
   "metadata": {},
   "outputs": [],
   "source": [
    "test_predictions15 = model15.predict((Wv15,Xv15))\n",
    "\n",
    "\n",
    "MSE15 = mean_squared_error(yv15,test_predictions15)\n",
    "\n",
    "MAE15 = mean_absolute_error(yv15,test_predictions15)\n",
    "\n",
    "RMSE15 = np.sqrt(MSE15)\n",
    "\n",
    "MAPE15 = mean_absolute_percentage_error(yv15,test_predictions15)*100\n",
    "\n",
    "eval15 = [MSE15, MAE15, RMSE15, MAPE15]\n",
    "print(eval15)"
   ]
  },
  {
   "cell_type": "code",
   "execution_count": null,
   "metadata": {},
   "outputs": [],
   "source": [
    "GEH, count = ga.GEH(np.asarray(yv15), np.asarray(test_predictions15))\n",
    "GEH15 = count/GEH.size\n",
    "print(GEH15)"
   ]
  },
  {
   "cell_type": "markdown",
   "metadata": {},
   "source": [
    "# 30 mins ahead"
   ]
  },
  {
   "cell_type": "code",
   "execution_count": 40,
   "metadata": {},
   "outputs": [],
   "source": [
    "def build_model_30(hp):\n",
    "    # Inputs\n",
    "    channel_Wide = keras.layers.Input(shape=Wt30.shape[1:], name=\"WideInput\")\n",
    "    channel_Deep = keras.layers.Input(shape=Xt30.shape[1:], name=\"DeepInput\")\n",
    "    units = hp.Int(\"units\", min_value=1, max_value=100, step=1)\n",
    "    \n",
    "    \n",
    "    # Wide Model\n",
    "    flatten_30w = keras.layers.TimeDistributed(keras.layers.Flatten())(channel_Wide)\n",
    "    Bi_30 = keras.layers.Bidirectional(\n",
    "        keras.layers.LSTM(units=units, return_sequences=True),\n",
    "        merge_mode=\"ave\"\n",
    "    )(flatten_30w)\n",
    "    \n",
    "    \n",
    "    # Deep Model\n",
    "    # CNN \n",
    "    CNN_30 = keras.layers.TimeDistributed(\n",
    "        keras.layers.Conv2D(filters=hp.Int(\"filters\", min_value=32, max_value=512, step=32),\n",
    "                            kernel_size=hp.Choice(\"kernel_size\", [2, 3]), activation='relu'))(channel_Deep)\n",
    "    flatten_30 = keras.layers.TimeDistributed(keras.layers.Flatten())(CNN_30)\n",
    "    # LSTM          \n",
    "    LSTM_30 = keras.layers.LSTM(units=units, return_sequences=True)(flatten_30)\n",
    "\n",
    "    \n",
    "    # Concatenation \n",
    "    concat = keras.layers.concatenate([Bi_30, LSTM_30], axis=1)\n",
    "\n",
    "    # Attention\n",
    "    Att_30 = SeqSelfAttention(attention_activation='sigmoid')(concat)\n",
    "    merge = keras.layers.Flatten()(Att_30)\n",
    "\n",
    "    \n",
    "    # Output\n",
    "    output = keras.layers.Dense(n_features, name= \"output\")(merge)\n",
    "    \n",
    "    # Model\n",
    "    model_30 = keras.Model(inputs=[channel_Wide,channel_Deep], outputs=[output])\n",
    "\n",
    "    # Compile\n",
    "    model_30.compile(optimizer=keras.optimizers.Adam(hp.Choice(\"learning_rate\", [1e-2, 1e-3, 1e-4])), \n",
    "        loss=GEH_loss, metrics=['MeanAbsoluteError','RootMeanSquaredError','MeanAbsolutePercentageError'])\n",
    "                    \n",
    "    return model_30"
   ]
  },
  {
   "cell_type": "code",
   "execution_count": 41,
   "metadata": {},
   "outputs": [],
   "source": [
    "tuner30 = RandomSearch(\n",
    "    build_model_30,\n",
    "    objective=\"val_loss\",\n",
    "    max_trials=60,\n",
    "    executions_per_trial=2,\n",
    "    overwrite=False,\n",
    "    directory=os.path.normpath('C:/Runs'),\n",
    "    project_name=\"8e-30\",\n",
    ")"
   ]
  },
  {
   "cell_type": "code",
   "execution_count": 64,
   "metadata": {},
   "outputs": [
    {
     "name": "stdout",
     "output_type": "stream",
     "text": [
      "Search space summary\n",
      "Default search space size: 4\n",
      "units (Int)\n",
      "{'default': None, 'conditions': [], 'min_value': 1, 'max_value': 100, 'step': 1, 'sampling': None}\n",
      "filters (Int)\n",
      "{'default': None, 'conditions': [], 'min_value': 32, 'max_value': 512, 'step': 32, 'sampling': None}\n",
      "kernel_size (Choice)\n",
      "{'default': 2, 'conditions': [], 'values': [2, 3], 'ordered': True}\n",
      "learning_rate (Choice)\n",
      "{'default': 0.01, 'conditions': [], 'values': [0.01, 0.001, 0.0001], 'ordered': True}\n"
     ]
    }
   ],
   "source": [
    "tuner30.search_space_summary()"
   ]
  },
  {
   "cell_type": "code",
   "execution_count": 65,
   "metadata": {},
   "outputs": [
    {
     "name": "stdout",
     "output_type": "stream",
     "text": [
      "Trial 60 Complete [00h 15m 21s]\n",
      "val_loss: 8.496138095855713\n",
      "\n",
      "Best val_loss So Far: 8.389375686645508\n",
      "Total elapsed time: 15h 37m 01s\n",
      "INFO:tensorflow:Oracle triggered exit\n"
     ]
    },
    {
     "name": "stderr",
     "output_type": "stream",
     "text": [
      "INFO:tensorflow:Oracle triggered exit\n"
     ]
    }
   ],
   "source": [
    "tuner30.search((Wt30,Xt30), yt30, epochs=200,\n",
    "            validation_split = val_percent,\n",
    "            callbacks=[early_stop],\n",
    "            verbose=2)"
   ]
  },
  {
   "cell_type": "code",
   "execution_count": 66,
   "metadata": {},
   "outputs": [
    {
     "name": "stdout",
     "output_type": "stream",
     "text": [
      "Results summary\n",
      "Results in C:\\Runs\\8e-30\n",
      "Showing 1 best trials\n",
      "Objective(name='val_loss', direction='min')\n",
      "Trial summary\n",
      "Hyperparameters:\n",
      "units: 29\n",
      "filters: 32\n",
      "kernel_size: 2\n",
      "learning_rate: 0.001\n",
      "Score: 8.389375686645508\n"
     ]
    }
   ],
   "source": [
    "tuner30.results_summary(1)"
   ]
  },
  {
   "cell_type": "markdown",
   "metadata": {},
   "source": [
    "### Best model"
   ]
  },
  {
   "cell_type": "code",
   "execution_count": 42,
   "metadata": {},
   "outputs": [],
   "source": [
    "scaler_filename = \"Best_HP/8e-30\"\n",
    "best_hp30 = joblib.load(scaler_filename) \n",
    "\n",
    "model30 = tuner30.hypermodel.build(best_hp30)"
   ]
  },
  {
   "cell_type": "code",
   "execution_count": 67,
   "metadata": {},
   "outputs": [],
   "source": [
    "best_hp30 = tuner30.get_best_hyperparameters()[0]\n",
    "model30 = tuner30.hypermodel.build(best_hp30)"
   ]
  },
  {
   "cell_type": "code",
   "execution_count": 68,
   "metadata": {},
   "outputs": [
    {
     "data": {
      "text/plain": [
       "['8e-30']"
      ]
     },
     "execution_count": 68,
     "metadata": {},
     "output_type": "execute_result"
    }
   ],
   "source": [
    "scaler_filename = \"8e-30\"\n",
    "joblib.dump(best_hp30, scaler_filename) "
   ]
  },
  {
   "cell_type": "code",
   "execution_count": 69,
   "metadata": {},
   "outputs": [
    {
     "name": "stdout",
     "output_type": "stream",
     "text": [
      "Model: \"model_1\"\n",
      "__________________________________________________________________________________________________\n",
      " Layer (type)                   Output Shape         Param #     Connected to                     \n",
      "==================================================================================================\n",
      " DeepInput (InputLayer)         [(None, 3, 5, 7, 1)  0           []                               \n",
      "                                ]                                                                 \n",
      "                                                                                                  \n",
      " WideInput (InputLayer)         [(None, 3, 3, 7, 1)  0           []                               \n",
      "                                ]                                                                 \n",
      "                                                                                                  \n",
      " time_distributed_4 (TimeDistri  (None, 3, 4, 6, 32)  160        ['DeepInput[0][0]']              \n",
      " buted)                                                                                           \n",
      "                                                                                                  \n",
      " time_distributed_3 (TimeDistri  (None, 3, 21)       0           ['WideInput[0][0]']              \n",
      " buted)                                                                                           \n",
      "                                                                                                  \n",
      " time_distributed_5 (TimeDistri  (None, 3, 768)      0           ['time_distributed_4[0][0]']     \n",
      " buted)                                                                                           \n",
      "                                                                                                  \n",
      " bidirectional_1 (Bidirectional  (None, 3, 29)       11832       ['time_distributed_3[0][0]']     \n",
      " )                                                                                                \n",
      "                                                                                                  \n",
      " lstm_3 (LSTM)                  (None, 3, 29)        92568       ['time_distributed_5[0][0]']     \n",
      "                                                                                                  \n",
      " concatenate_1 (Concatenate)    (None, 6, 29)        0           ['bidirectional_1[0][0]',        \n",
      "                                                                  'lstm_3[0][0]']                 \n",
      "                                                                                                  \n",
      " seq_self_attention_1 (SeqSelfA  (None, 6, 29)       1921        ['concatenate_1[0][0]']          \n",
      " ttention)                                                                                        \n",
      "                                                                                                  \n",
      " flatten_5 (Flatten)            (None, 174)          0           ['seq_self_attention_1[0][0]']   \n",
      "                                                                                                  \n",
      " output (Dense)                 (None, 7)            1225        ['flatten_5[0][0]']              \n",
      "                                                                                                  \n",
      "==================================================================================================\n",
      "Total params: 107,706\n",
      "Trainable params: 107,706\n",
      "Non-trainable params: 0\n",
      "__________________________________________________________________________________________________\n"
     ]
    }
   ],
   "source": [
    "model30.summary()"
   ]
  },
  {
   "cell_type": "code",
   "execution_count": 43,
   "metadata": {},
   "outputs": [
    {
     "name": "stdout",
     "output_type": "stream",
     "text": [
      "Epoch 1/100\n",
      "778/778 [==============================] - 18s 17ms/step - loss: 47.1435 - mean_absolute_error: 162.0404 - root_mean_squared_error: 196.8695 - mean_absolute_percentage_error: 46246040.0000 - val_loss: 30.8889 - val_mean_absolute_error: 121.3819 - val_root_mean_squared_error: 152.5595 - val_mean_absolute_percentage_error: 3614740.5000\n",
      "Epoch 2/100\n",
      "778/778 [==============================] - 11s 14ms/step - loss: 25.3005 - mean_absolute_error: 87.7429 - root_mean_squared_error: 119.0651 - mean_absolute_percentage_error: 48849996.0000 - val_loss: 15.9143 - val_mean_absolute_error: 61.5757 - val_root_mean_squared_error: 85.9507 - val_mean_absolute_percentage_error: 3288421.0000\n",
      "Epoch 3/100\n",
      "778/778 [==============================] - 11s 15ms/step - loss: 14.4412 - mean_absolute_error: 44.1834 - root_mean_squared_error: 66.2245 - mean_absolute_percentage_error: 49596796.0000 - val_loss: 10.6979 - val_mean_absolute_error: 33.4027 - val_root_mean_squared_error: 49.2655 - val_mean_absolute_percentage_error: 3248152.5000\n",
      "Epoch 4/100\n",
      "778/778 [==============================] - 11s 14ms/step - loss: 10.5872 - mean_absolute_error: 27.7782 - root_mean_squared_error: 41.1856 - mean_absolute_percentage_error: 51321500.0000 - val_loss: 9.3172 - val_mean_absolute_error: 25.3694 - val_root_mean_squared_error: 36.1474 - val_mean_absolute_percentage_error: 3468626.7500\n",
      "Epoch 5/100\n",
      "778/778 [==============================] - 12s 15ms/step - loss: 9.4147 - mean_absolute_error: 22.8451 - root_mean_squared_error: 32.5119 - mean_absolute_percentage_error: 54246752.0000 - val_loss: 9.0239 - val_mean_absolute_error: 23.0421 - val_root_mean_squared_error: 32.3430 - val_mean_absolute_percentage_error: 3722816.0000\n",
      "Epoch 6/100\n",
      "778/778 [==============================] - 11s 15ms/step - loss: 9.1078 - mean_absolute_error: 21.3290 - root_mean_squared_error: 29.8111 - mean_absolute_percentage_error: 56449188.0000 - val_loss: 8.9296 - val_mean_absolute_error: 22.3123 - val_root_mean_squared_error: 31.1949 - val_mean_absolute_percentage_error: 4031032.0000\n",
      "Epoch 7/100\n",
      "778/778 [==============================] - 11s 14ms/step - loss: 9.0065 - mean_absolute_error: 20.8756 - root_mean_squared_error: 28.9909 - mean_absolute_percentage_error: 57167196.0000 - val_loss: 8.8969 - val_mean_absolute_error: 22.1931 - val_root_mean_squared_error: 31.0109 - val_mean_absolute_percentage_error: 3900059.5000\n",
      "Epoch 8/100\n",
      "778/778 [==============================] - 12s 15ms/step - loss: 8.9526 - mean_absolute_error: 20.6609 - root_mean_squared_error: 28.6144 - mean_absolute_percentage_error: 57568340.0000 - val_loss: 8.8551 - val_mean_absolute_error: 22.0153 - val_root_mean_squared_error: 30.7660 - val_mean_absolute_percentage_error: 4093650.0000\n",
      "Epoch 9/100\n",
      "778/778 [==============================] - 12s 15ms/step - loss: 8.9034 - mean_absolute_error: 20.4892 - root_mean_squared_error: 28.3403 - mean_absolute_percentage_error: 57547084.0000 - val_loss: 8.8338 - val_mean_absolute_error: 22.0286 - val_root_mean_squared_error: 30.6962 - val_mean_absolute_percentage_error: 4162795.7500\n",
      "Epoch 10/100\n",
      "778/778 [==============================] - 11s 14ms/step - loss: 8.8829 - mean_absolute_error: 20.4063 - root_mean_squared_error: 28.1859 - mean_absolute_percentage_error: 57387436.0000 - val_loss: 8.8381 - val_mean_absolute_error: 22.0472 - val_root_mean_squared_error: 30.7311 - val_mean_absolute_percentage_error: 4028908.7500\n",
      "Epoch 11/100\n",
      "778/778 [==============================] - 11s 14ms/step - loss: 8.8393 - mean_absolute_error: 20.2387 - root_mean_squared_error: 27.9317 - mean_absolute_percentage_error: 57488900.0000 - val_loss: 8.8055 - val_mean_absolute_error: 21.8915 - val_root_mean_squared_error: 30.6034 - val_mean_absolute_percentage_error: 4060417.7500\n",
      "Epoch 12/100\n",
      "778/778 [==============================] - 11s 14ms/step - loss: 8.8112 - mean_absolute_error: 20.1559 - root_mean_squared_error: 27.7759 - mean_absolute_percentage_error: 57848476.0000 - val_loss: 8.7895 - val_mean_absolute_error: 21.8271 - val_root_mean_squared_error: 30.5113 - val_mean_absolute_percentage_error: 3934790.0000\n",
      "Epoch 13/100\n",
      "778/778 [==============================] - 11s 14ms/step - loss: 8.7777 - mean_absolute_error: 19.9959 - root_mean_squared_error: 27.5531 - mean_absolute_percentage_error: 57503760.0000 - val_loss: 8.7429 - val_mean_absolute_error: 21.5923 - val_root_mean_squared_error: 30.1973 - val_mean_absolute_percentage_error: 4174188.0000\n",
      "Epoch 14/100\n",
      "778/778 [==============================] - 11s 14ms/step - loss: 8.7443 - mean_absolute_error: 19.8679 - root_mean_squared_error: 27.3864 - mean_absolute_percentage_error: 58411880.0000 - val_loss: 8.7200 - val_mean_absolute_error: 21.5894 - val_root_mean_squared_error: 30.2795 - val_mean_absolute_percentage_error: 4143720.2500\n",
      "Epoch 15/100\n",
      "778/778 [==============================] - 11s 14ms/step - loss: 8.7243 - mean_absolute_error: 19.7500 - root_mean_squared_error: 27.2176 - mean_absolute_percentage_error: 57911192.0000 - val_loss: 8.6808 - val_mean_absolute_error: 21.3287 - val_root_mean_squared_error: 29.8812 - val_mean_absolute_percentage_error: 4181542.2500\n",
      "Epoch 16/100\n",
      "778/778 [==============================] - 11s 14ms/step - loss: 8.6950 - mean_absolute_error: 19.6460 - root_mean_squared_error: 27.0777 - mean_absolute_percentage_error: 58253636.0000 - val_loss: 8.7021 - val_mean_absolute_error: 21.5002 - val_root_mean_squared_error: 30.1738 - val_mean_absolute_percentage_error: 4130893.5000\n",
      "Epoch 17/100\n",
      "778/778 [==============================] - 11s 14ms/step - loss: 8.6783 - mean_absolute_error: 19.5077 - root_mean_squared_error: 26.9121 - mean_absolute_percentage_error: 58419696.0000 - val_loss: 8.6491 - val_mean_absolute_error: 21.1831 - val_root_mean_squared_error: 29.6940 - val_mean_absolute_percentage_error: 4283215.5000\n",
      "Epoch 18/100\n",
      "778/778 [==============================] - 11s 14ms/step - loss: 8.6577 - mean_absolute_error: 19.4061 - root_mean_squared_error: 26.7770 - mean_absolute_percentage_error: 58384800.0000 - val_loss: 8.5925 - val_mean_absolute_error: 20.9806 - val_root_mean_squared_error: 29.4179 - val_mean_absolute_percentage_error: 4180770.7500\n",
      "Epoch 19/100\n",
      "778/778 [==============================] - 11s 14ms/step - loss: 8.6342 - mean_absolute_error: 19.2908 - root_mean_squared_error: 26.6275 - mean_absolute_percentage_error: 58164128.0000 - val_loss: 8.5794 - val_mean_absolute_error: 20.9194 - val_root_mean_squared_error: 29.3605 - val_mean_absolute_percentage_error: 4259788.5000\n",
      "Epoch 20/100\n",
      "778/778 [==============================] - 11s 14ms/step - loss: nan - mean_absolute_error: 19.2104 - root_mean_squared_error: 26.5109 - mean_absolute_percentage_error: 57898536.0000 - val_loss: 8.6109 - val_mean_absolute_error: 21.0741 - val_root_mean_squared_error: 29.4395 - val_mean_absolute_percentage_error: 4148695.2500\n",
      "Epoch 21/100\n",
      "778/778 [==============================] - 12s 15ms/step - loss: 8.6033 - mean_absolute_error: 19.1647 - root_mean_squared_error: 26.4462 - mean_absolute_percentage_error: 57798544.0000 - val_loss: 8.5705 - val_mean_absolute_error: 20.7476 - val_root_mean_squared_error: 29.0473 - val_mean_absolute_percentage_error: 4342163.0000\n",
      "Epoch 22/100\n",
      "778/778 [==============================] - 12s 15ms/step - loss: 8.5928 - mean_absolute_error: 19.0525 - root_mean_squared_error: 26.3006 - mean_absolute_percentage_error: 57485004.0000 - val_loss: 8.5377 - val_mean_absolute_error: 20.6337 - val_root_mean_squared_error: 28.8633 - val_mean_absolute_percentage_error: 4246399.5000\n",
      "Epoch 23/100\n",
      "778/778 [==============================] - 12s 16ms/step - loss: 8.5686 - mean_absolute_error: 19.0164 - root_mean_squared_error: 26.2200 - mean_absolute_percentage_error: 57238448.0000 - val_loss: 8.5520 - val_mean_absolute_error: 20.5981 - val_root_mean_squared_error: 28.8759 - val_mean_absolute_percentage_error: 4249068.5000\n",
      "Epoch 24/100\n",
      "778/778 [==============================] - 11s 15ms/step - loss: 8.5588 - mean_absolute_error: 18.9491 - root_mean_squared_error: 26.1250 - mean_absolute_percentage_error: 56941092.0000 - val_loss: 8.5160 - val_mean_absolute_error: 20.5336 - val_root_mean_squared_error: 28.7501 - val_mean_absolute_percentage_error: 4313967.5000\n"
     ]
    },
    {
     "name": "stdout",
     "output_type": "stream",
     "text": [
      "Epoch 25/100\n",
      "778/778 [==============================] - 11s 14ms/step - loss: 8.5592 - mean_absolute_error: 18.9045 - root_mean_squared_error: 26.0694 - mean_absolute_percentage_error: 57029644.0000 - val_loss: 8.5255 - val_mean_absolute_error: 20.6045 - val_root_mean_squared_error: 28.7487 - val_mean_absolute_percentage_error: 4013516.2500\n",
      "Epoch 26/100\n",
      "778/778 [==============================] - 11s 14ms/step - loss: 8.5347 - mean_absolute_error: 18.8404 - root_mean_squared_error: 25.9493 - mean_absolute_percentage_error: 56663312.0000 - val_loss: 8.4977 - val_mean_absolute_error: 20.4282 - val_root_mean_squared_error: 28.6417 - val_mean_absolute_percentage_error: 4206797.0000\n",
      "Epoch 27/100\n",
      "778/778 [==============================] - 12s 15ms/step - loss: 8.5350 - mean_absolute_error: 18.8346 - root_mean_squared_error: 25.9592 - mean_absolute_percentage_error: 56493692.0000 - val_loss: 8.5078 - val_mean_absolute_error: 20.4232 - val_root_mean_squared_error: 28.6220 - val_mean_absolute_percentage_error: 4091317.0000\n",
      "Epoch 28/100\n",
      "778/778 [==============================] - 11s 15ms/step - loss: 8.5176 - mean_absolute_error: 18.7989 - root_mean_squared_error: 25.8958 - mean_absolute_percentage_error: 56372120.0000 - val_loss: 8.5021 - val_mean_absolute_error: 20.3833 - val_root_mean_squared_error: 28.5373 - val_mean_absolute_percentage_error: 4015018.7500\n",
      "Epoch 29/100\n",
      "778/778 [==============================] - 12s 15ms/step - loss: 8.5234 - mean_absolute_error: 18.7424 - root_mean_squared_error: 25.8244 - mean_absolute_percentage_error: 56019320.0000 - val_loss: 8.4858 - val_mean_absolute_error: 20.3018 - val_root_mean_squared_error: 28.5109 - val_mean_absolute_percentage_error: 4177717.0000\n",
      "Epoch 30/100\n",
      "778/778 [==============================] - 14s 18ms/step - loss: 8.5104 - mean_absolute_error: 18.6899 - root_mean_squared_error: 25.7655 - mean_absolute_percentage_error: 55500876.0000 - val_loss: 8.5397 - val_mean_absolute_error: 20.5805 - val_root_mean_squared_error: 28.8579 - val_mean_absolute_percentage_error: 3982292.2500\n",
      "Epoch 31/100\n",
      "778/778 [==============================] - 14s 18ms/step - loss: 8.5054 - mean_absolute_error: 18.6566 - root_mean_squared_error: 25.7109 - mean_absolute_percentage_error: 55356064.0000 - val_loss: 8.5075 - val_mean_absolute_error: 20.4108 - val_root_mean_squared_error: 28.6075 - val_mean_absolute_percentage_error: 4072400.5000\n",
      "Epoch 32/100\n",
      "778/778 [==============================] - 14s 18ms/step - loss: 8.4810 - mean_absolute_error: 18.6203 - root_mean_squared_error: 25.6558 - mean_absolute_percentage_error: 55292000.0000 - val_loss: 8.4983 - val_mean_absolute_error: 20.4088 - val_root_mean_squared_error: 28.6065 - val_mean_absolute_percentage_error: 3967563.7500\n",
      "Epoch 33/100\n",
      "778/778 [==============================] - 12s 15ms/step - loss: 8.4747 - mean_absolute_error: 18.6208 - root_mean_squared_error: 25.6425 - mean_absolute_percentage_error: 54973652.0000 - val_loss: 8.5581 - val_mean_absolute_error: 20.6532 - val_root_mean_squared_error: 28.9293 - val_mean_absolute_percentage_error: 4137396.2500\n",
      "Epoch 34/100\n",
      "778/778 [==============================] - 11s 15ms/step - loss: 8.4796 - mean_absolute_error: 18.6039 - root_mean_squared_error: 25.6207 - mean_absolute_percentage_error: 54107588.0000 - val_loss: 8.4817 - val_mean_absolute_error: 20.2850 - val_root_mean_squared_error: 28.3662 - val_mean_absolute_percentage_error: 4048356.0000\n",
      "Epoch 35/100\n",
      "778/778 [==============================] - 11s 15ms/step - loss: 8.4750 - mean_absolute_error: 18.5718 - root_mean_squared_error: 25.5818 - mean_absolute_percentage_error: 53003700.0000 - val_loss: 8.4648 - val_mean_absolute_error: 20.2578 - val_root_mean_squared_error: 28.2763 - val_mean_absolute_percentage_error: 4121288.2500\n",
      "Epoch 36/100\n",
      "778/778 [==============================] - 11s 15ms/step - loss: 8.4596 - mean_absolute_error: 18.5337 - root_mean_squared_error: 25.5230 - mean_absolute_percentage_error: 52579064.0000 - val_loss: 8.4640 - val_mean_absolute_error: 20.1550 - val_root_mean_squared_error: 28.1206 - val_mean_absolute_percentage_error: 4025492.0000\n",
      "Epoch 37/100\n",
      "778/778 [==============================] - 11s 15ms/step - loss: 8.4535 - mean_absolute_error: 18.5196 - root_mean_squared_error: 25.4962 - mean_absolute_percentage_error: 52308180.0000 - val_loss: 8.4577 - val_mean_absolute_error: 20.1177 - val_root_mean_squared_error: 28.1487 - val_mean_absolute_percentage_error: 3944351.7500\n",
      "Epoch 38/100\n",
      "778/778 [==============================] - 11s 15ms/step - loss: 8.4530 - mean_absolute_error: 18.4926 - root_mean_squared_error: 25.4611 - mean_absolute_percentage_error: 51668516.0000 - val_loss: 8.4403 - val_mean_absolute_error: 20.0516 - val_root_mean_squared_error: 28.0207 - val_mean_absolute_percentage_error: 4065759.7500\n",
      "Epoch 39/100\n",
      "778/778 [==============================] - 11s 15ms/step - loss: 8.4474 - mean_absolute_error: 18.4451 - root_mean_squared_error: 25.3984 - mean_absolute_percentage_error: 51382048.0000 - val_loss: 8.4480 - val_mean_absolute_error: 20.0764 - val_root_mean_squared_error: 28.0218 - val_mean_absolute_percentage_error: 4045795.5000\n",
      "Epoch 40/100\n",
      "778/778 [==============================] - 13s 17ms/step - loss: 8.4479 - mean_absolute_error: 18.4446 - root_mean_squared_error: 25.3926 - mean_absolute_percentage_error: 50880992.0000 - val_loss: 8.4536 - val_mean_absolute_error: 20.0753 - val_root_mean_squared_error: 28.0090 - val_mean_absolute_percentage_error: 4045937.5000\n",
      "Epoch 41/100\n",
      "778/778 [==============================] - 15s 20ms/step - loss: 8.4370 - mean_absolute_error: 18.4288 - root_mean_squared_error: 25.3614 - mean_absolute_percentage_error: 50591320.0000 - val_loss: 8.4581 - val_mean_absolute_error: 20.1375 - val_root_mean_squared_error: 28.0408 - val_mean_absolute_percentage_error: 4091962.2500\n",
      "Epoch 42/100\n",
      "778/778 [==============================] - 13s 17ms/step - loss: 8.4317 - mean_absolute_error: 18.4030 - root_mean_squared_error: 25.3437 - mean_absolute_percentage_error: 50169592.0000 - val_loss: 8.4298 - val_mean_absolute_error: 20.0100 - val_root_mean_squared_error: 27.9753 - val_mean_absolute_percentage_error: 4023800.5000\n",
      "Epoch 43/100\n",
      "778/778 [==============================] - 12s 15ms/step - loss: 8.4201 - mean_absolute_error: 18.3805 - root_mean_squared_error: 25.2920 - mean_absolute_percentage_error: 49661808.0000 - val_loss: 8.4545 - val_mean_absolute_error: 20.1326 - val_root_mean_squared_error: 28.0500 - val_mean_absolute_percentage_error: 4147278.7500\n",
      "Epoch 44/100\n",
      "778/778 [==============================] - 12s 15ms/step - loss: 8.4235 - mean_absolute_error: 18.3290 - root_mean_squared_error: 25.2393 - mean_absolute_percentage_error: 49523440.0000 - val_loss: 8.4421 - val_mean_absolute_error: 20.1029 - val_root_mean_squared_error: 28.1301 - val_mean_absolute_percentage_error: 4044423.7500\n",
      "Epoch 45/100\n",
      "778/778 [==============================] - 12s 16ms/step - loss: 8.4155 - mean_absolute_error: 18.3402 - root_mean_squared_error: 25.2617 - mean_absolute_percentage_error: 49208224.0000 - val_loss: 8.4290 - val_mean_absolute_error: 19.9969 - val_root_mean_squared_error: 27.9302 - val_mean_absolute_percentage_error: 4041415.0000\n",
      "Epoch 46/100\n",
      "778/778 [==============================] - 11s 15ms/step - loss: 8.4033 - mean_absolute_error: 18.2936 - root_mean_squared_error: 25.1765 - mean_absolute_percentage_error: 48969432.0000 - val_loss: 8.4628 - val_mean_absolute_error: 20.1012 - val_root_mean_squared_error: 27.9932 - val_mean_absolute_percentage_error: 4104652.2500\n",
      "Epoch 47/100\n",
      "778/778 [==============================] - 11s 14ms/step - loss: 8.4045 - mean_absolute_error: 18.2724 - root_mean_squared_error: 25.1458 - mean_absolute_percentage_error: 47924224.0000 - val_loss: 8.4229 - val_mean_absolute_error: 19.9501 - val_root_mean_squared_error: 27.8374 - val_mean_absolute_percentage_error: 4025736.7500\n",
      "Epoch 48/100\n",
      "778/778 [==============================] - 11s 14ms/step - loss: 8.4040 - mean_absolute_error: 18.2893 - root_mean_squared_error: 25.1772 - mean_absolute_percentage_error: 47892604.0000 - val_loss: 8.4371 - val_mean_absolute_error: 20.0630 - val_root_mean_squared_error: 27.9427 - val_mean_absolute_percentage_error: 3877222.0000\n"
     ]
    },
    {
     "name": "stdout",
     "output_type": "stream",
     "text": [
      "Epoch 49/100\n",
      "778/778 [==============================] - 11s 14ms/step - loss: 8.3956 - mean_absolute_error: 18.2719 - root_mean_squared_error: 25.1542 - mean_absolute_percentage_error: 47387648.0000 - val_loss: 8.4180 - val_mean_absolute_error: 19.8610 - val_root_mean_squared_error: 27.7170 - val_mean_absolute_percentage_error: 4036396.2500\n",
      "Epoch 50/100\n",
      "778/778 [==============================] - 12s 15ms/step - loss: 8.3770 - mean_absolute_error: 18.2134 - root_mean_squared_error: 25.0551 - mean_absolute_percentage_error: 46535704.0000 - val_loss: 8.4193 - val_mean_absolute_error: 20.0440 - val_root_mean_squared_error: 27.9563 - val_mean_absolute_percentage_error: 3957377.0000\n",
      "Epoch 51/100\n",
      "778/778 [==============================] - 11s 14ms/step - loss: 8.3819 - mean_absolute_error: 18.2077 - root_mean_squared_error: 25.0721 - mean_absolute_percentage_error: 46357036.0000 - val_loss: 8.4315 - val_mean_absolute_error: 20.1115 - val_root_mean_squared_error: 28.0020 - val_mean_absolute_percentage_error: 4070831.7500\n",
      "Epoch 52/100\n",
      "778/778 [==============================] - 11s 14ms/step - loss: 8.3706 - mean_absolute_error: 18.2070 - root_mean_squared_error: 25.0406 - mean_absolute_percentage_error: 45566976.0000 - val_loss: 8.4021 - val_mean_absolute_error: 19.8379 - val_root_mean_squared_error: 27.6021 - val_mean_absolute_percentage_error: 3983978.0000\n",
      "Epoch 53/100\n",
      "778/778 [==============================] - 11s 14ms/step - loss: 8.3728 - mean_absolute_error: 18.1852 - root_mean_squared_error: 25.0198 - mean_absolute_percentage_error: 45378464.0000 - val_loss: 8.4057 - val_mean_absolute_error: 19.9292 - val_root_mean_squared_error: 27.7879 - val_mean_absolute_percentage_error: 3994725.0000\n",
      "Epoch 54/100\n",
      "778/778 [==============================] - 11s 14ms/step - loss: 8.3745 - mean_absolute_error: 18.1737 - root_mean_squared_error: 25.0095 - mean_absolute_percentage_error: 44846960.0000 - val_loss: 8.3929 - val_mean_absolute_error: 19.8370 - val_root_mean_squared_error: 27.5711 - val_mean_absolute_percentage_error: 4097024.5000\n",
      "Epoch 55/100\n",
      "778/778 [==============================] - 11s 15ms/step - loss: 8.3691 - mean_absolute_error: 18.1529 - root_mean_squared_error: 24.9851 - mean_absolute_percentage_error: 44373456.0000 - val_loss: 8.4134 - val_mean_absolute_error: 19.8672 - val_root_mean_squared_error: 27.6888 - val_mean_absolute_percentage_error: 4021703.7500\n",
      "Epoch 56/100\n",
      "778/778 [==============================] - 11s 15ms/step - loss: 8.3818 - mean_absolute_error: 18.1400 - root_mean_squared_error: 24.9715 - mean_absolute_percentage_error: 43926196.0000 - val_loss: 8.4528 - val_mean_absolute_error: 20.0267 - val_root_mean_squared_error: 27.8594 - val_mean_absolute_percentage_error: 4012733.2500\n",
      "Epoch 57/100\n",
      "778/778 [==============================] - 11s 14ms/step - loss: nan - mean_absolute_error: 18.1276 - root_mean_squared_error: 24.9472 - mean_absolute_percentage_error: 43280684.0000 - val_loss: 8.4186 - val_mean_absolute_error: 19.9560 - val_root_mean_squared_error: 27.6618 - val_mean_absolute_percentage_error: 4004582.2500\n",
      "Epoch 58/100\n",
      "778/778 [==============================] - 11s 14ms/step - loss: 8.3573 - mean_absolute_error: 18.1282 - root_mean_squared_error: 24.9328 - mean_absolute_percentage_error: 42348096.0000 - val_loss: 8.4031 - val_mean_absolute_error: 19.9568 - val_root_mean_squared_error: 27.7448 - val_mean_absolute_percentage_error: 4005200.7500\n",
      "Epoch 59/100\n",
      "778/778 [==============================] - 11s 15ms/step - loss: 8.3533 - mean_absolute_error: 18.1080 - root_mean_squared_error: 24.9032 - mean_absolute_percentage_error: 42308068.0000 - val_loss: 8.3937 - val_mean_absolute_error: 19.8957 - val_root_mean_squared_error: 27.6033 - val_mean_absolute_percentage_error: 3979895.7500\n",
      "Epoch 60/100\n",
      "778/778 [==============================] - 11s 15ms/step - loss: 8.3575 - mean_absolute_error: 18.0734 - root_mean_squared_error: 24.8738 - mean_absolute_percentage_error: 41358648.0000 - val_loss: 8.4044 - val_mean_absolute_error: 19.7997 - val_root_mean_squared_error: 27.5110 - val_mean_absolute_percentage_error: 3904748.2500\n",
      "Epoch 61/100\n",
      "778/778 [==============================] - 12s 15ms/step - loss: 8.3521 - mean_absolute_error: 18.0596 - root_mean_squared_error: 24.8637 - mean_absolute_percentage_error: 41100548.0000 - val_loss: 8.3854 - val_mean_absolute_error: 19.7627 - val_root_mean_squared_error: 27.4101 - val_mean_absolute_percentage_error: 4038219.5000\n",
      "Epoch 62/100\n",
      "778/778 [==============================] - 12s 16ms/step - loss: 8.3494 - mean_absolute_error: 18.0410 - root_mean_squared_error: 24.8288 - mean_absolute_percentage_error: 40187232.0000 - val_loss: 8.3812 - val_mean_absolute_error: 19.8391 - val_root_mean_squared_error: 27.5095 - val_mean_absolute_percentage_error: 4018398.0000\n",
      "Epoch 63/100\n",
      "778/778 [==============================] - 11s 15ms/step - loss: 8.3438 - mean_absolute_error: 18.0368 - root_mean_squared_error: 24.8141 - mean_absolute_percentage_error: 40148288.0000 - val_loss: 8.4048 - val_mean_absolute_error: 19.8138 - val_root_mean_squared_error: 27.5375 - val_mean_absolute_percentage_error: 4063257.7500\n",
      "Epoch 64/100\n",
      "778/778 [==============================] - 12s 15ms/step - loss: 8.3400 - mean_absolute_error: 18.0101 - root_mean_squared_error: 24.7850 - mean_absolute_percentage_error: 39132808.0000 - val_loss: 8.3991 - val_mean_absolute_error: 19.7823 - val_root_mean_squared_error: 27.5035 - val_mean_absolute_percentage_error: 3993423.0000\n",
      "Epoch 65/100\n",
      "778/778 [==============================] - 11s 14ms/step - loss: 8.3359 - mean_absolute_error: 18.0201 - root_mean_squared_error: 24.8124 - mean_absolute_percentage_error: 38827012.0000 - val_loss: 8.3970 - val_mean_absolute_error: 19.8263 - val_root_mean_squared_error: 27.5517 - val_mean_absolute_percentage_error: 3914116.5000\n",
      "Epoch 66/100\n",
      "778/778 [==============================] - 11s 14ms/step - loss: 8.3353 - mean_absolute_error: 18.0160 - root_mean_squared_error: 24.7818 - mean_absolute_percentage_error: 37941164.0000 - val_loss: 8.4018 - val_mean_absolute_error: 19.8273 - val_root_mean_squared_error: 27.5793 - val_mean_absolute_percentage_error: 4021541.7500\n",
      "Epoch 67/100\n",
      "778/778 [==============================] - 11s 14ms/step - loss: 8.3326 - mean_absolute_error: 17.9917 - root_mean_squared_error: 24.7527 - mean_absolute_percentage_error: 37145460.0000 - val_loss: 8.4529 - val_mean_absolute_error: 20.0872 - val_root_mean_squared_error: 27.8829 - val_mean_absolute_percentage_error: 4005958.2500\n",
      "Epoch 68/100\n",
      "778/778 [==============================] - 11s 14ms/step - loss: 8.3270 - mean_absolute_error: 17.9767 - root_mean_squared_error: 24.7347 - mean_absolute_percentage_error: 36763048.0000 - val_loss: 8.4559 - val_mean_absolute_error: 20.1147 - val_root_mean_squared_error: 27.9480 - val_mean_absolute_percentage_error: 4140111.5000\n",
      "Epoch 69/100\n",
      "778/778 [==============================] - 11s 14ms/step - loss: 8.3188 - mean_absolute_error: 17.9552 - root_mean_squared_error: 24.7069 - mean_absolute_percentage_error: 35675112.0000 - val_loss: 8.4039 - val_mean_absolute_error: 19.8171 - val_root_mean_squared_error: 27.4670 - val_mean_absolute_percentage_error: 3989337.0000\n",
      "Epoch 70/100\n",
      "778/778 [==============================] - 11s 14ms/step - loss: 8.3090 - mean_absolute_error: 17.9393 - root_mean_squared_error: 24.6815 - mean_absolute_percentage_error: 35095632.0000 - val_loss: 8.4501 - val_mean_absolute_error: 19.9892 - val_root_mean_squared_error: 27.7119 - val_mean_absolute_percentage_error: 4113545.5000\n",
      "Epoch 71/100\n",
      "778/778 [==============================] - 11s 15ms/step - loss: 8.3236 - mean_absolute_error: 17.9648 - root_mean_squared_error: 24.7111 - mean_absolute_percentage_error: 34246648.0000 - val_loss: 8.3897 - val_mean_absolute_error: 19.7572 - val_root_mean_squared_error: 27.4304 - val_mean_absolute_percentage_error: 4109613.0000\n",
      "Epoch 72/100\n",
      "778/778 [==============================] - 12s 15ms/step - loss: 8.3060 - mean_absolute_error: 17.9006 - root_mean_squared_error: 24.6282 - mean_absolute_percentage_error: 33387848.0000 - val_loss: 8.4004 - val_mean_absolute_error: 19.8488 - val_root_mean_squared_error: 27.5103 - val_mean_absolute_percentage_error: 4056623.7500\n"
     ]
    },
    {
     "name": "stdout",
     "output_type": "stream",
     "text": [
      "Epoch 73/100\n",
      "778/778 [==============================] - 11s 15ms/step - loss: 8.3062 - mean_absolute_error: 17.9116 - root_mean_squared_error: 24.6433 - mean_absolute_percentage_error: 32704988.0000 - val_loss: 8.3858 - val_mean_absolute_error: 19.8280 - val_root_mean_squared_error: 27.4629 - val_mean_absolute_percentage_error: 3992941.7500\n",
      "Epoch 74/100\n",
      "778/778 [==============================] - 11s 15ms/step - loss: 8.2902 - mean_absolute_error: 17.8953 - root_mean_squared_error: 24.6087 - mean_absolute_percentage_error: 31843082.0000 - val_loss: 8.4322 - val_mean_absolute_error: 19.9979 - val_root_mean_squared_error: 27.7200 - val_mean_absolute_percentage_error: 3930868.7500\n",
      "Epoch 75/100\n",
      "778/778 [==============================] - 11s 15ms/step - loss: 8.2990 - mean_absolute_error: 17.9026 - root_mean_squared_error: 24.6144 - mean_absolute_percentage_error: 31070586.0000 - val_loss: 8.4008 - val_mean_absolute_error: 19.7306 - val_root_mean_squared_error: 27.3640 - val_mean_absolute_percentage_error: 4068564.0000\n",
      "Epoch 76/100\n",
      "778/778 [==============================] - 12s 15ms/step - loss: 8.2821 - mean_absolute_error: 17.8665 - root_mean_squared_error: 24.5676 - mean_absolute_percentage_error: 30353866.0000 - val_loss: 8.3937 - val_mean_absolute_error: 19.8893 - val_root_mean_squared_error: 27.5568 - val_mean_absolute_percentage_error: 3992395.7500\n",
      "Epoch 77/100\n",
      "778/778 [==============================] - 12s 15ms/step - loss: 8.2931 - mean_absolute_error: 17.8464 - root_mean_squared_error: 24.5472 - mean_absolute_percentage_error: 28888840.0000 - val_loss: 8.3525 - val_mean_absolute_error: 19.5941 - val_root_mean_squared_error: 27.1460 - val_mean_absolute_percentage_error: 3942761.0000\n",
      "Epoch 78/100\n",
      "778/778 [==============================] - 12s 16ms/step - loss: 8.2869 - mean_absolute_error: 17.8579 - root_mean_squared_error: 24.5598 - mean_absolute_percentage_error: 28180622.0000 - val_loss: 8.3871 - val_mean_absolute_error: 19.7699 - val_root_mean_squared_error: 27.4416 - val_mean_absolute_percentage_error: 4024135.5000\n",
      "Epoch 79/100\n",
      "778/778 [==============================] - 12s 15ms/step - loss: 8.2732 - mean_absolute_error: 17.8242 - root_mean_squared_error: 24.5160 - mean_absolute_percentage_error: 26914186.0000 - val_loss: 8.3737 - val_mean_absolute_error: 19.7548 - val_root_mean_squared_error: 27.3634 - val_mean_absolute_percentage_error: 3949108.5000\n",
      "Epoch 80/100\n",
      "778/778 [==============================] - 12s 16ms/step - loss: 8.2860 - mean_absolute_error: 17.8071 - root_mean_squared_error: 24.4964 - mean_absolute_percentage_error: 25806468.0000 - val_loss: 8.3852 - val_mean_absolute_error: 19.7855 - val_root_mean_squared_error: 27.3761 - val_mean_absolute_percentage_error: 3892990.5000\n",
      "Epoch 81/100\n",
      "778/778 [==============================] - 12s 16ms/step - loss: 8.2773 - mean_absolute_error: 17.7956 - root_mean_squared_error: 24.4885 - mean_absolute_percentage_error: 24945450.0000 - val_loss: 8.4168 - val_mean_absolute_error: 19.9641 - val_root_mean_squared_error: 27.6786 - val_mean_absolute_percentage_error: 3984347.5000\n",
      "Epoch 82/100\n",
      "778/778 [==============================] - 11s 15ms/step - loss: 8.2648 - mean_absolute_error: 17.8036 - root_mean_squared_error: 24.4655 - mean_absolute_percentage_error: 23779338.0000 - val_loss: 8.3776 - val_mean_absolute_error: 19.7846 - val_root_mean_squared_error: 27.3396 - val_mean_absolute_percentage_error: 4028886.5000\n",
      "Epoch 83/100\n",
      "778/778 [==============================] - 12s 15ms/step - loss: 8.2551 - mean_absolute_error: 17.7858 - root_mean_squared_error: 24.4483 - mean_absolute_percentage_error: 21413420.0000 - val_loss: 8.3924 - val_mean_absolute_error: 19.8260 - val_root_mean_squared_error: 27.5230 - val_mean_absolute_percentage_error: 3884175.2500\n",
      "Epoch 84/100\n",
      "778/778 [==============================] - 12s 15ms/step - loss: 8.2531 - mean_absolute_error: 17.7786 - root_mean_squared_error: 24.4278 - mean_absolute_percentage_error: 20460496.0000 - val_loss: 8.4266 - val_mean_absolute_error: 20.0490 - val_root_mean_squared_error: 27.7273 - val_mean_absolute_percentage_error: 4056089.5000\n",
      "Epoch 85/100\n",
      "778/778 [==============================] - 12s 15ms/step - loss: 8.2439 - mean_absolute_error: 17.7725 - root_mean_squared_error: 24.4292 - mean_absolute_percentage_error: 19506784.0000 - val_loss: 8.3993 - val_mean_absolute_error: 19.8821 - val_root_mean_squared_error: 27.5398 - val_mean_absolute_percentage_error: 4098905.2500\n",
      "Epoch 86/100\n",
      "778/778 [==============================] - 12s 15ms/step - loss: 8.2421 - mean_absolute_error: 17.7459 - root_mean_squared_error: 24.4027 - mean_absolute_percentage_error: 17195902.0000 - val_loss: 8.3519 - val_mean_absolute_error: 19.6771 - val_root_mean_squared_error: 27.2318 - val_mean_absolute_percentage_error: 3927207.2500\n",
      "Epoch 87/100\n",
      "778/778 [==============================] - 11s 15ms/step - loss: 8.2282 - mean_absolute_error: 17.7491 - root_mean_squared_error: 24.4003 - mean_absolute_percentage_error: 15843355.0000 - val_loss: 8.3815 - val_mean_absolute_error: 19.7615 - val_root_mean_squared_error: 27.4295 - val_mean_absolute_percentage_error: 4082395.2500\n",
      "Epoch 88/100\n",
      "778/778 [==============================] - 11s 14ms/step - loss: 8.2194 - mean_absolute_error: 17.7450 - root_mean_squared_error: 24.3832 - mean_absolute_percentage_error: 14577110.0000 - val_loss: 8.3624 - val_mean_absolute_error: 19.7012 - val_root_mean_squared_error: 27.2252 - val_mean_absolute_percentage_error: 4103038.7500\n",
      "Epoch 89/100\n",
      "778/778 [==============================] - 11s 15ms/step - loss: 8.2326 - mean_absolute_error: 17.7170 - root_mean_squared_error: 24.3680 - mean_absolute_percentage_error: 14087502.0000 - val_loss: 8.3755 - val_mean_absolute_error: 19.7275 - val_root_mean_squared_error: 27.3364 - val_mean_absolute_percentage_error: 4079669.2500\n",
      "Epoch 90/100\n",
      "778/778 [==============================] - 15s 19ms/step - loss: 8.2145 - mean_absolute_error: 17.6807 - root_mean_squared_error: 24.3051 - mean_absolute_percentage_error: 13491712.0000 - val_loss: 8.4107 - val_mean_absolute_error: 19.9554 - val_root_mean_squared_error: 27.6060 - val_mean_absolute_percentage_error: 4017592.0000\n",
      "Epoch 91/100\n",
      "778/778 [==============================] - 15s 20ms/step - loss: 8.2087 - mean_absolute_error: 17.7236 - root_mean_squared_error: 24.3520 - mean_absolute_percentage_error: 13305012.0000 - val_loss: 8.3810 - val_mean_absolute_error: 19.8087 - val_root_mean_squared_error: 27.4780 - val_mean_absolute_percentage_error: 4079153.7500\n",
      "Epoch 92/100\n",
      "778/778 [==============================] - 11s 14ms/step - loss: 8.2091 - mean_absolute_error: 17.6807 - root_mean_squared_error: 24.3093 - mean_absolute_percentage_error: 12809058.0000 - val_loss: 8.3955 - val_mean_absolute_error: 19.7992 - val_root_mean_squared_error: 27.4129 - val_mean_absolute_percentage_error: 4044919.0000\n",
      "Epoch 93/100\n",
      "778/778 [==============================] - 11s 14ms/step - loss: 8.2092 - mean_absolute_error: 17.6676 - root_mean_squared_error: 24.3026 - mean_absolute_percentage_error: 12873689.0000 - val_loss: 8.3949 - val_mean_absolute_error: 19.8625 - val_root_mean_squared_error: 27.5295 - val_mean_absolute_percentage_error: 4171230.2500\n",
      "Epoch 94/100\n",
      "778/778 [==============================] - 11s 14ms/step - loss: 8.1997 - mean_absolute_error: 17.6737 - root_mean_squared_error: 24.2789 - mean_absolute_percentage_error: 12554300.0000 - val_loss: 8.3761 - val_mean_absolute_error: 19.7537 - val_root_mean_squared_error: 27.3868 - val_mean_absolute_percentage_error: 4140134.5000\n",
      "Epoch 95/100\n",
      "778/778 [==============================] - 11s 15ms/step - loss: 8.2020 - mean_absolute_error: 17.6578 - root_mean_squared_error: 24.2608 - mean_absolute_percentage_error: 12432251.0000 - val_loss: 8.4007 - val_mean_absolute_error: 19.9299 - val_root_mean_squared_error: 27.6074 - val_mean_absolute_percentage_error: 4063707.7500\n",
      "Epoch 96/100\n",
      "778/778 [==============================] - 11s 14ms/step - loss: 8.1947 - mean_absolute_error: 17.6378 - root_mean_squared_error: 24.2400 - mean_absolute_percentage_error: 12576968.0000 - val_loss: 8.4088 - val_mean_absolute_error: 19.9299 - val_root_mean_squared_error: 27.5454 - val_mean_absolute_percentage_error: 4325855.5000\n"
     ]
    },
    {
     "name": "stdout",
     "output_type": "stream",
     "text": [
      "Epoch 97/100\n",
      "778/778 [==============================] - 11s 14ms/step - loss: 8.1996 - mean_absolute_error: 17.6201 - root_mean_squared_error: 24.2193 - mean_absolute_percentage_error: 12240675.0000 - val_loss: 8.3611 - val_mean_absolute_error: 19.6599 - val_root_mean_squared_error: 27.2965 - val_mean_absolute_percentage_error: 4101505.0000\n",
      "Epoch 98/100\n",
      "778/778 [==============================] - 11s 14ms/step - loss: 8.2036 - mean_absolute_error: 17.6292 - root_mean_squared_error: 24.2329 - mean_absolute_percentage_error: 12063919.0000 - val_loss: 8.3694 - val_mean_absolute_error: 19.6839 - val_root_mean_squared_error: 27.2622 - val_mean_absolute_percentage_error: 4007533.0000\n",
      "Epoch 99/100\n",
      "778/778 [==============================] - 11s 14ms/step - loss: 8.1790 - mean_absolute_error: 17.5978 - root_mean_squared_error: 24.1793 - mean_absolute_percentage_error: 12157500.0000 - val_loss: 8.3730 - val_mean_absolute_error: 19.6466 - val_root_mean_squared_error: 27.2089 - val_mean_absolute_percentage_error: 4017546.2500\n",
      "Epoch 100/100\n",
      "778/778 [==============================] - 11s 14ms/step - loss: 8.1909 - mean_absolute_error: 17.6046 - root_mean_squared_error: 24.1907 - mean_absolute_percentage_error: 12341431.0000 - val_loss: 8.4016 - val_mean_absolute_error: 19.8717 - val_root_mean_squared_error: 27.5719 - val_mean_absolute_percentage_error: 4229641.0000\n"
     ]
    },
    {
     "data": {
      "text/plain": [
       "<keras.callbacks.History at 0x25c37ccedf0>"
      ]
     },
     "execution_count": 43,
     "metadata": {},
     "output_type": "execute_result"
    }
   ],
   "source": [
    "model30.fit((Wt30,Xt30), yt30, validation_split = val_percent,\n",
    "            epochs = 100, \n",
    "            verbose = 1)"
   ]
  },
  {
   "cell_type": "code",
   "execution_count": 50,
   "metadata": {},
   "outputs": [],
   "source": [
    "metrics30 = pd.DataFrame(model30.history.history)"
   ]
  },
  {
   "cell_type": "code",
   "execution_count": 71,
   "metadata": {},
   "outputs": [
    {
     "data": {
      "text/plain": [
       "(<mpl_toolkits.axes_grid1.inset_locator.BboxPatch at 0x1ba7cdc07f0>,\n",
       " <mpl_toolkits.axes_grid1.inset_locator.BboxConnector at 0x1ba7ce16370>,\n",
       " <mpl_toolkits.axes_grid1.inset_locator.BboxConnector at 0x1ba7ce165b0>)"
      ]
     },
     "execution_count": 71,
     "metadata": {},
     "output_type": "execute_result"
    },
    {
     "data": {
      "image/png": "[encoded data removed]",
      "text/plain": [
       "<Figure size 432x288 with 2 Axes>"
      ]
     },
     "metadata": {
      "needs_background": "light"
     },
     "output_type": "display_data"
    }
   ],
   "source": [
    "fig = plt.figure(figsize=(6,4))\n",
    "\n",
    "# Add set of axes to figure\n",
    "axes = fig.add_axes([0, 0, 1, 1]) \n",
    "axes2 = fig.add_axes([0.35, 0.45, 0.5, 0.5]) # Smaller figure\n",
    "axes.plot(metrics30[['loss','val_loss']], label=['train_loss','val_loss'], lw=4)\n",
    "axes.set_ylim(7.5,15)\n",
    "\n",
    "axes2.plot(metrics30[['loss','val_loss']], lw=4)\n",
    "axes2.set_xlim(0,25)\n",
    "axes2.set_ylim(8,10)\n",
    "#plt.xticks(visible=False)\n",
    "plt.yticks(visible=False)\n",
    "\n",
    "axes.set_xlabel('Epoch')\n",
    "axes.set_ylabel('Loss')\n",
    "axes.grid()\n",
    "axes2.grid()\n",
    "\n",
    "mark_inset(axes, axes2, loc1=2, loc2=4, fc=\"0.9\", ec=\"0.1\", ls='--')\n",
    "# axes.yaxis.set_major_formatter(formatter)"
   ]
  },
  {
   "cell_type": "code",
   "execution_count": 71,
   "metadata": {},
   "outputs": [
    {
     "name": "stderr",
     "output_type": "stream",
     "text": [
      "WARNING:absl:Function `_wrapped_model` contains input name(s) WideInput, DeepInput with unsupported characters which will be renamed to wideinput, deepinput in the SavedModel.\n"
     ]
    },
    {
     "name": "stdout",
     "output_type": "stream",
     "text": [
      "INFO:tensorflow:Assets written to: my_dir/8e-30\\assets\n"
     ]
    },
    {
     "name": "stderr",
     "output_type": "stream",
     "text": [
      "INFO:tensorflow:Assets written to: my_dir/8e-30\\assets\n",
      "WARNING:absl:<keras.layers.recurrent.LSTMCell object at 0x0000020DA013BD00> has the same name 'LSTMCell' as a built-in Keras object. Consider renaming <class 'keras.layers.recurrent.LSTMCell'> to avoid naming conflicts when loading with `tf.keras.models.load_model`. If renaming is not possible, pass the object in the `custom_objects` parameter of the load function.\n",
      "WARNING:absl:<keras.layers.recurrent.LSTMCell object at 0x0000020D821808B0> has the same name 'LSTMCell' as a built-in Keras object. Consider renaming <class 'keras.layers.recurrent.LSTMCell'> to avoid naming conflicts when loading with `tf.keras.models.load_model`. If renaming is not possible, pass the object in the `custom_objects` parameter of the load function.\n",
      "WARNING:absl:<keras.layers.recurrent.LSTMCell object at 0x0000020D821885E0> has the same name 'LSTMCell' as a built-in Keras object. Consider renaming <class 'keras.layers.recurrent.LSTMCell'> to avoid naming conflicts when loading with `tf.keras.models.load_model`. If renaming is not possible, pass the object in the `custom_objects` parameter of the load function.\n"
     ]
    }
   ],
   "source": [
    "model30.save(\"my_dir/8e-30\")"
   ]
  },
  {
   "cell_type": "code",
   "execution_count": 74,
   "metadata": {},
   "outputs": [],
   "source": [
    "model30 = keras.models.load_model(\"my_dir/8e-30\", custom_objects={'GEH_loss': GEH_loss})"
   ]
  },
  {
   "cell_type": "code",
   "execution_count": 75,
   "metadata": {},
   "outputs": [
    {
     "data": {
      "text/plain": [
       "array([[ 58.13458 ,  61.590725,  64.924515, ...,  62.39058 ,  41.57397 ,\n",
       "         39.713192],\n",
       "       [ 53.75056 ,  56.94462 ,  60.58965 , ...,  58.520596,  39.087505,\n",
       "         37.197865],\n",
       "       [ 52.43781 ,  55.585846,  58.977676, ...,  57.70283 ,  37.39748 ,\n",
       "         36.955467],\n",
       "       ...,\n",
       "       [138.88947 , 145.51346 , 153.3124  , ..., 150.96898 , 101.40951 ,\n",
       "         87.95067 ],\n",
       "       [133.13705 , 140.08047 , 149.09775 , ..., 146.12573 , 102.373055,\n",
       "         89.8578  ],\n",
       "       [118.53354 , 123.04162 , 132.54817 , ..., 127.252914,  88.37382 ,\n",
       "         78.956276]], dtype=float32)"
      ]
     },
     "execution_count": 75,
     "metadata": {},
     "output_type": "execute_result"
    }
   ],
   "source": [
    "model30.predict((Wv30,Xv30))"
   ]
  },
  {
   "cell_type": "markdown",
   "metadata": {},
   "source": [
    "### Evaluation on inverse_transform"
   ]
  },
  {
   "cell_type": "code",
   "execution_count": null,
   "metadata": {},
   "outputs": [],
   "source": [
    "test_predictions30 = model30.predict((Wv30,Xv30))\n",
    "\n",
    "\n",
    "MSE30 = mean_squared_error(yv30,test_predictions30)\n",
    "\n",
    "MAE30 = mean_absolute_error(yv30,test_predictions30)\n",
    "\n",
    "RMSE30 = np.sqrt(MSE30)\n",
    "\n",
    "MAPE30 = mean_absolute_percentage_error(yv30,test_predictions30)*100\n",
    "\n",
    "eval30 = [MSE30, MAE30, RMSE30, MAPE30]\n",
    "print(eval30)"
   ]
  },
  {
   "cell_type": "code",
   "execution_count": null,
   "metadata": {},
   "outputs": [],
   "source": [
    "GEH, count = ga.GEH(np.asarray(yv30), np.asarray(test_predictions30))\n",
    "GEH30 = count/GEH.size\n",
    "print(GEH30)"
   ]
  },
  {
   "cell_type": "markdown",
   "metadata": {},
   "source": [
    "# 60 mins ahead"
   ]
  },
  {
   "cell_type": "code",
   "execution_count": 44,
   "metadata": {},
   "outputs": [],
   "source": [
    "def build_model_60(hp):\n",
    "    # Inputs\n",
    "    channel_Wide = keras.layers.Input(shape=Wt60.shape[1:], name=\"WideInput\")\n",
    "    channel_Deep = keras.layers.Input(shape=Xt60.shape[1:], name=\"DeepInput\")\n",
    "    units = hp.Int(\"units\", min_value=1, max_value=100, step=1)\n",
    "    \n",
    "    \n",
    "    # Wide Model\n",
    "    flatten_60w = keras.layers.TimeDistributed(keras.layers.Flatten())(channel_Wide)\n",
    "    Bi_60 = keras.layers.Bidirectional(\n",
    "        keras.layers.LSTM(units=units, return_sequences=True),\n",
    "        merge_mode=\"ave\"\n",
    "    )(flatten_60w)\n",
    "    \n",
    "    \n",
    "    # Deep Model\n",
    "    # CNN \n",
    "    CNN_60 = keras.layers.TimeDistributed(\n",
    "        keras.layers.Conv2D(filters=hp.Int(\"filters\", min_value=32, max_value=512, step=32),\n",
    "                            kernel_size=hp.Choice(\"kernel_size\", [2, 3]), activation='relu'))(channel_Deep)\n",
    "    flatten_60 = keras.layers.TimeDistributed(keras.layers.Flatten())(CNN_60)\n",
    "    # LSTM          \n",
    "    LSTM_60 = keras.layers.LSTM(units=units, return_sequences=True)(flatten_60)\n",
    "\n",
    "    \n",
    "    # Concatenation \n",
    "    concat = keras.layers.concatenate([Bi_60, LSTM_60], axis=1)\n",
    "\n",
    "    # Attention\n",
    "    Att_60 = SeqSelfAttention(attention_activation='sigmoid')(concat)\n",
    "    merge = keras.layers.Flatten()(Att_60)\n",
    "\n",
    "    \n",
    "    # Output\n",
    "    output = keras.layers.Dense(n_features, name= \"output\")(merge)\n",
    "    \n",
    "    # Model\n",
    "    model_60 = keras.Model(inputs=[channel_Wide,channel_Deep], outputs=[output])\n",
    "\n",
    "    # Compile\n",
    "    model_60.compile(optimizer=keras.optimizers.Adam(hp.Choice(\"learning_rate\", [1e-2, 1e-3, 1e-4])), \n",
    "        loss=GEH_loss, metrics=['MeanAbsoluteError','RootMeanSquaredError','MeanAbsolutePercentageError'])\n",
    "                    \n",
    "    return model_60"
   ]
  },
  {
   "cell_type": "code",
   "execution_count": 45,
   "metadata": {},
   "outputs": [],
   "source": [
    "tuner60 = RandomSearch(\n",
    "    build_model_60,\n",
    "    objective=\"val_loss\",\n",
    "    max_trials=60,\n",
    "    executions_per_trial=2,\n",
    "    overwrite=False,\n",
    "    directory=os.path.normpath('C:/Runs'),\n",
    "    project_name=\"8e-60\",\n",
    ")"
   ]
  },
  {
   "cell_type": "code",
   "execution_count": 80,
   "metadata": {},
   "outputs": [
    {
     "name": "stdout",
     "output_type": "stream",
     "text": [
      "Search space summary\n",
      "Default search space size: 4\n",
      "units (Int)\n",
      "{'default': None, 'conditions': [], 'min_value': 1, 'max_value': 100, 'step': 1, 'sampling': None}\n",
      "filters (Int)\n",
      "{'default': None, 'conditions': [], 'min_value': 32, 'max_value': 512, 'step': 32, 'sampling': None}\n",
      "kernel_size (Choice)\n",
      "{'default': 2, 'conditions': [], 'values': [2, 3], 'ordered': True}\n",
      "learning_rate (Choice)\n",
      "{'default': 0.01, 'conditions': [], 'values': [0.01, 0.001, 0.0001], 'ordered': True}\n"
     ]
    }
   ],
   "source": [
    "tuner60.search_space_summary()"
   ]
  },
  {
   "cell_type": "code",
   "execution_count": 81,
   "metadata": {},
   "outputs": [
    {
     "name": "stdout",
     "output_type": "stream",
     "text": [
      "Trial 60 Complete [00h 27m 39s]\n",
      "val_loss: 8.612287521362305\n",
      "\n",
      "Best val_loss So Far: 8.589139461517334\n",
      "Total elapsed time: 14h 20m 35s\n",
      "INFO:tensorflow:Oracle triggered exit\n"
     ]
    },
    {
     "name": "stderr",
     "output_type": "stream",
     "text": [
      "INFO:tensorflow:Oracle triggered exit\n"
     ]
    }
   ],
   "source": [
    "tuner60.search((Wt60,Xt60), yt60, epochs=200,\n",
    "            validation_split = val_percent,\n",
    "            callbacks=[early_stop],\n",
    "            verbose=2)"
   ]
  },
  {
   "cell_type": "code",
   "execution_count": 82,
   "metadata": {},
   "outputs": [
    {
     "name": "stdout",
     "output_type": "stream",
     "text": [
      "Results summary\n",
      "Results in C:\\Runs\\8e-60\n",
      "Showing 1 best trials\n",
      "Objective(name='val_loss', direction='min')\n",
      "Trial summary\n",
      "Hyperparameters:\n",
      "units: 97\n",
      "filters: 96\n",
      "kernel_size: 2\n",
      "learning_rate: 0.001\n",
      "Score: 8.589139461517334\n"
     ]
    }
   ],
   "source": [
    "tuner60.results_summary(1)"
   ]
  },
  {
   "cell_type": "markdown",
   "metadata": {},
   "source": [
    "### Best model"
   ]
  },
  {
   "cell_type": "code",
   "execution_count": 46,
   "metadata": {},
   "outputs": [],
   "source": [
    "scaler_filename = \"Best_HP/8e-60\"\n",
    "best_hp60 = joblib.load(scaler_filename) \n",
    "\n",
    "model60 = tuner60.hypermodel.build(best_hp60)"
   ]
  },
  {
   "cell_type": "code",
   "execution_count": 83,
   "metadata": {},
   "outputs": [],
   "source": [
    "best_hp60 = tuner60.get_best_hyperparameters()[0]\n",
    "model60 = tuner60.hypermodel.build(best_hp60)"
   ]
  },
  {
   "cell_type": "code",
   "execution_count": 84,
   "metadata": {},
   "outputs": [
    {
     "data": {
      "text/plain": [
       "['Best_HP/8e-60']"
      ]
     },
     "execution_count": 84,
     "metadata": {},
     "output_type": "execute_result"
    }
   ],
   "source": [
    "scaler_filename = \"Best_HP/8e-60\"\n",
    "joblib.dump(best_hp60, scaler_filename) "
   ]
  },
  {
   "cell_type": "code",
   "execution_count": 85,
   "metadata": {},
   "outputs": [
    {
     "name": "stdout",
     "output_type": "stream",
     "text": [
      "Model: \"model_1\"\n",
      "__________________________________________________________________________________________________\n",
      " Layer (type)                   Output Shape         Param #     Connected to                     \n",
      "==================================================================================================\n",
      " DeepInput (InputLayer)         [(None, 3, 5, 7, 1)  0           []                               \n",
      "                                ]                                                                 \n",
      "                                                                                                  \n",
      " WideInput (InputLayer)         [(None, 3, 3, 7, 1)  0           []                               \n",
      "                                ]                                                                 \n",
      "                                                                                                  \n",
      " time_distributed_4 (TimeDistri  (None, 3, 4, 6, 96)  480        ['DeepInput[0][0]']              \n",
      " buted)                                                                                           \n",
      "                                                                                                  \n",
      " time_distributed_3 (TimeDistri  (None, 3, 21)       0           ['WideInput[0][0]']              \n",
      " buted)                                                                                           \n",
      "                                                                                                  \n",
      " time_distributed_5 (TimeDistri  (None, 3, 2304)     0           ['time_distributed_4[0][0]']     \n",
      " buted)                                                                                           \n",
      "                                                                                                  \n",
      " bidirectional_1 (Bidirectional  (None, 3, 97)       92344       ['time_distributed_3[0][0]']     \n",
      " )                                                                                                \n",
      "                                                                                                  \n",
      " lstm_3 (LSTM)                  (None, 3, 97)        931976      ['time_distributed_5[0][0]']     \n",
      "                                                                                                  \n",
      " concatenate_1 (Concatenate)    (None, 6, 97)        0           ['bidirectional_1[0][0]',        \n",
      "                                                                  'lstm_3[0][0]']                 \n",
      "                                                                                                  \n",
      " seq_self_attention_1 (SeqSelfA  (None, 6, 97)       6273        ['concatenate_1[0][0]']          \n",
      " ttention)                                                                                        \n",
      "                                                                                                  \n",
      " flatten_5 (Flatten)            (None, 582)          0           ['seq_self_attention_1[0][0]']   \n",
      "                                                                                                  \n",
      " output (Dense)                 (None, 7)            4081        ['flatten_5[0][0]']              \n",
      "                                                                                                  \n",
      "==================================================================================================\n",
      "Total params: 1,035,154\n",
      "Trainable params: 1,035,154\n",
      "Non-trainable params: 0\n",
      "__________________________________________________________________________________________________\n"
     ]
    }
   ],
   "source": [
    "model60.summary()"
   ]
  },
  {
   "cell_type": "code",
   "execution_count": 47,
   "metadata": {},
   "outputs": [
    {
     "name": "stdout",
     "output_type": "stream",
     "text": [
      "Epoch 1/100\n",
      "777/777 [==============================] - 17s 15ms/step - loss: 27.5109 - mean_absolute_error: 94.0633 - root_mean_squared_error: 134.0143 - mean_absolute_percentage_error: 50650248.0000 - val_loss: 10.3837 - val_mean_absolute_error: 31.4504 - val_root_mean_squared_error: 45.8115 - val_mean_absolute_percentage_error: 3011140.5000\n",
      "Epoch 2/100\n",
      "777/777 [==============================] - 10s 13ms/step - loss: 9.7242 - mean_absolute_error: 24.3309 - root_mean_squared_error: 34.7642 - mean_absolute_percentage_error: 49637704.0000 - val_loss: 9.1128 - val_mean_absolute_error: 23.3799 - val_root_mean_squared_error: 33.0132 - val_mean_absolute_percentage_error: 3484056.0000\n",
      "Epoch 3/100\n",
      "777/777 [==============================] - 10s 13ms/step - loss: 9.0974 - mean_absolute_error: 21.4366 - root_mean_squared_error: 29.6957 - mean_absolute_percentage_error: 55962792.0000 - val_loss: 8.9843 - val_mean_absolute_error: 22.8154 - val_root_mean_squared_error: 32.1586 - val_mean_absolute_percentage_error: 3674106.5000\n",
      "Epoch 4/100\n",
      "777/777 [==============================] - 11s 14ms/step - loss: 9.0031 - mean_absolute_error: 21.0216 - root_mean_squared_error: 29.0102 - mean_absolute_percentage_error: 58164236.0000 - val_loss: 8.9571 - val_mean_absolute_error: 22.7826 - val_root_mean_squared_error: 32.0642 - val_mean_absolute_percentage_error: 3889825.5000\n",
      "Epoch 5/100\n",
      "777/777 [==============================] - 11s 14ms/step - loss: 8.9604 - mean_absolute_error: 20.9023 - root_mean_squared_error: 28.8033 - mean_absolute_percentage_error: 58930524.0000 - val_loss: 8.8849 - val_mean_absolute_error: 22.3984 - val_root_mean_squared_error: 31.5979 - val_mean_absolute_percentage_error: 3906030.7500\n",
      "Epoch 6/100\n",
      "777/777 [==============================] - 10s 13ms/step - loss: 8.9247 - mean_absolute_error: 20.7034 - root_mean_squared_error: 28.5534 - mean_absolute_percentage_error: 59155820.0000 - val_loss: 8.9162 - val_mean_absolute_error: 22.5121 - val_root_mean_squared_error: 31.7803 - val_mean_absolute_percentage_error: 4056043.2500\n",
      "Epoch 7/100\n",
      "777/777 [==============================] - 10s 13ms/step - loss: 8.8823 - mean_absolute_error: 20.4976 - root_mean_squared_error: 28.2621 - mean_absolute_percentage_error: 59562196.0000 - val_loss: 8.8252 - val_mean_absolute_error: 22.1393 - val_root_mean_squared_error: 31.2096 - val_mean_absolute_percentage_error: 4291039.0000\n",
      "Epoch 8/100\n",
      "777/777 [==============================] - 10s 13ms/step - loss: 8.8590 - mean_absolute_error: 20.3975 - root_mean_squared_error: 28.1285 - mean_absolute_percentage_error: 58851392.0000 - val_loss: 8.8419 - val_mean_absolute_error: 22.1564 - val_root_mean_squared_error: 31.3045 - val_mean_absolute_percentage_error: 4296680.0000\n",
      "Epoch 9/100\n",
      "777/777 [==============================] - 10s 13ms/step - loss: 8.8402 - mean_absolute_error: 20.2826 - root_mean_squared_error: 27.9725 - mean_absolute_percentage_error: 58591488.0000 - val_loss: 8.8540 - val_mean_absolute_error: 22.3032 - val_root_mean_squared_error: 31.5842 - val_mean_absolute_percentage_error: 4437952.0000\n",
      "Epoch 10/100\n",
      "777/777 [==============================] - 10s 13ms/step - loss: 8.8124 - mean_absolute_error: 20.1703 - root_mean_squared_error: 27.7977 - mean_absolute_percentage_error: 57289708.0000 - val_loss: 8.9093 - val_mean_absolute_error: 22.5948 - val_root_mean_squared_error: 31.8799 - val_mean_absolute_percentage_error: 4191490.0000\n",
      "Epoch 11/100\n",
      "777/777 [==============================] - 10s 13ms/step - loss: 8.7929 - mean_absolute_error: 20.0434 - root_mean_squared_error: 27.6236 - mean_absolute_percentage_error: 56022468.0000 - val_loss: 8.8224 - val_mean_absolute_error: 22.0812 - val_root_mean_squared_error: 31.2886 - val_mean_absolute_percentage_error: 4212488.0000\n",
      "Epoch 12/100\n",
      "777/777 [==============================] - 10s 13ms/step - loss: 8.7686 - mean_absolute_error: 19.9840 - root_mean_squared_error: 27.5133 - mean_absolute_percentage_error: 55286900.0000 - val_loss: 8.7427 - val_mean_absolute_error: 21.6404 - val_root_mean_squared_error: 30.6801 - val_mean_absolute_percentage_error: 4490491.5000\n",
      "Epoch 13/100\n",
      "777/777 [==============================] - 10s 13ms/step - loss: 8.7342 - mean_absolute_error: 19.8313 - root_mean_squared_error: 27.2980 - mean_absolute_percentage_error: 54768400.0000 - val_loss: 8.7445 - val_mean_absolute_error: 21.6080 - val_root_mean_squared_error: 30.6700 - val_mean_absolute_percentage_error: 4228901.5000\n",
      "Epoch 14/100\n",
      "777/777 [==============================] - 11s 14ms/step - loss: 8.7233 - mean_absolute_error: 19.7192 - root_mean_squared_error: 27.1731 - mean_absolute_percentage_error: 53973876.0000 - val_loss: 8.7520 - val_mean_absolute_error: 21.7053 - val_root_mean_squared_error: 30.8101 - val_mean_absolute_percentage_error: 4382956.0000\n",
      "Epoch 15/100\n",
      "777/777 [==============================] - 11s 14ms/step - loss: 8.7144 - mean_absolute_error: 19.6318 - root_mean_squared_error: 27.0343 - mean_absolute_percentage_error: 53510272.0000 - val_loss: 8.7273 - val_mean_absolute_error: 21.4743 - val_root_mean_squared_error: 30.5769 - val_mean_absolute_percentage_error: 4423081.5000\n",
      "Epoch 16/100\n",
      "777/777 [==============================] - 11s 14ms/step - loss: 8.6805 - mean_absolute_error: 19.5671 - root_mean_squared_error: 26.9301 - mean_absolute_percentage_error: 53834952.0000 - val_loss: 8.7224 - val_mean_absolute_error: 21.4184 - val_root_mean_squared_error: 30.4407 - val_mean_absolute_percentage_error: 4301536.5000\n",
      "Epoch 17/100\n",
      "777/777 [==============================] - 10s 13ms/step - loss: 8.6728 - mean_absolute_error: 19.4657 - root_mean_squared_error: 26.8014 - mean_absolute_percentage_error: 52973468.0000 - val_loss: 8.7484 - val_mean_absolute_error: 21.6012 - val_root_mean_squared_error: 30.5525 - val_mean_absolute_percentage_error: 4213681.5000\n",
      "Epoch 18/100\n",
      "777/777 [==============================] - 10s 13ms/step - loss: 8.6551 - mean_absolute_error: 19.4286 - root_mean_squared_error: 26.7529 - mean_absolute_percentage_error: 52864292.0000 - val_loss: 8.6874 - val_mean_absolute_error: 21.4049 - val_root_mean_squared_error: 30.2772 - val_mean_absolute_percentage_error: 4324039.5000\n",
      "Epoch 19/100\n",
      "777/777 [==============================] - 10s 13ms/step - loss: 8.6466 - mean_absolute_error: 19.3552 - root_mean_squared_error: 26.6511 - mean_absolute_percentage_error: 52741376.0000 - val_loss: 8.6684 - val_mean_absolute_error: 21.1535 - val_root_mean_squared_error: 29.9654 - val_mean_absolute_percentage_error: 4344911.5000\n",
      "Epoch 20/100\n",
      "777/777 [==============================] - 10s 13ms/step - loss: 8.6353 - mean_absolute_error: 19.3141 - root_mean_squared_error: 26.6012 - mean_absolute_percentage_error: 52559304.0000 - val_loss: 8.6792 - val_mean_absolute_error: 21.1673 - val_root_mean_squared_error: 29.9548 - val_mean_absolute_percentage_error: 4158400.7500\n",
      "Epoch 21/100\n",
      "777/777 [==============================] - 10s 13ms/step - loss: 8.6239 - mean_absolute_error: 19.2250 - root_mean_squared_error: 26.4757 - mean_absolute_percentage_error: 52172640.0000 - val_loss: 8.6522 - val_mean_absolute_error: 21.1420 - val_root_mean_squared_error: 29.9391 - val_mean_absolute_percentage_error: 4265543.5000\n",
      "Epoch 22/100\n",
      "777/777 [==============================] - 10s 13ms/step - loss: 8.6226 - mean_absolute_error: 19.2209 - root_mean_squared_error: 26.4705 - mean_absolute_percentage_error: 52125952.0000 - val_loss: 8.6201 - val_mean_absolute_error: 21.0465 - val_root_mean_squared_error: 29.7709 - val_mean_absolute_percentage_error: 4320796.0000\n",
      "Epoch 23/100\n",
      "777/777 [==============================] - 11s 14ms/step - loss: 8.6140 - mean_absolute_error: 19.1882 - root_mean_squared_error: 26.4046 - mean_absolute_percentage_error: 51429228.0000 - val_loss: 8.6499 - val_mean_absolute_error: 21.0881 - val_root_mean_squared_error: 29.9347 - val_mean_absolute_percentage_error: 4325210.5000\n",
      "Epoch 24/100\n",
      "777/777 [==============================] - 10s 13ms/step - loss: 8.6126 - mean_absolute_error: 19.1305 - root_mean_squared_error: 26.3546 - mean_absolute_percentage_error: 51831288.0000 - val_loss: 8.6331 - val_mean_absolute_error: 21.0005 - val_root_mean_squared_error: 29.6144 - val_mean_absolute_percentage_error: 4139304.7500\n"
     ]
    },
    {
     "name": "stdout",
     "output_type": "stream",
     "text": [
      "Epoch 25/100\n",
      "777/777 [==============================] - 10s 13ms/step - loss: 8.6037 - mean_absolute_error: 19.1241 - root_mean_squared_error: 26.3364 - mean_absolute_percentage_error: 51073720.0000 - val_loss: 8.6672 - val_mean_absolute_error: 21.1665 - val_root_mean_squared_error: 29.9837 - val_mean_absolute_percentage_error: 4102937.2500\n",
      "Epoch 26/100\n",
      "777/777 [==============================] - 10s 13ms/step - loss: 8.5936 - mean_absolute_error: 19.0756 - root_mean_squared_error: 26.2635 - mean_absolute_percentage_error: 50730588.0000 - val_loss: 8.6468 - val_mean_absolute_error: 21.0415 - val_root_mean_squared_error: 29.7582 - val_mean_absolute_percentage_error: 4127766.7500\n",
      "Epoch 27/100\n",
      "777/777 [==============================] - 11s 14ms/step - loss: 8.5825 - mean_absolute_error: 19.0355 - root_mean_squared_error: 26.2019 - mean_absolute_percentage_error: 50445448.0000 - val_loss: 8.6699 - val_mean_absolute_error: 21.2092 - val_root_mean_squared_error: 29.7867 - val_mean_absolute_percentage_error: 4090399.7500\n",
      "Epoch 28/100\n",
      "777/777 [==============================] - 11s 14ms/step - loss: 8.5662 - mean_absolute_error: 18.9799 - root_mean_squared_error: 26.1304 - mean_absolute_percentage_error: 50473148.0000 - val_loss: 8.6300 - val_mean_absolute_error: 21.0375 - val_root_mean_squared_error: 29.7282 - val_mean_absolute_percentage_error: 4077931.7500\n",
      "Epoch 29/100\n",
      "777/777 [==============================] - 10s 13ms/step - loss: 8.5680 - mean_absolute_error: 18.9781 - root_mean_squared_error: 26.1150 - mean_absolute_percentage_error: 49517524.0000 - val_loss: 8.6117 - val_mean_absolute_error: 20.8207 - val_root_mean_squared_error: 29.4611 - val_mean_absolute_percentage_error: 4155474.0000\n",
      "Epoch 30/100\n",
      "777/777 [==============================] - 10s 13ms/step - loss: 8.5687 - mean_absolute_error: 18.9512 - root_mean_squared_error: 26.0782 - mean_absolute_percentage_error: 48759592.0000 - val_loss: 8.6248 - val_mean_absolute_error: 21.0082 - val_root_mean_squared_error: 29.6561 - val_mean_absolute_percentage_error: 3973156.5000\n",
      "Epoch 31/100\n",
      "777/777 [==============================] - 10s 13ms/step - loss: 8.5476 - mean_absolute_error: 18.9637 - root_mean_squared_error: 26.0706 - mean_absolute_percentage_error: 47223716.0000 - val_loss: 8.5965 - val_mean_absolute_error: 20.8846 - val_root_mean_squared_error: 29.3789 - val_mean_absolute_percentage_error: 4129945.0000\n",
      "Epoch 32/100\n",
      "777/777 [==============================] - 10s 13ms/step - loss: 8.5461 - mean_absolute_error: 18.8665 - root_mean_squared_error: 25.9709 - mean_absolute_percentage_error: 46544008.0000 - val_loss: 8.6996 - val_mean_absolute_error: 21.2474 - val_root_mean_squared_error: 29.8887 - val_mean_absolute_percentage_error: 3990356.0000\n",
      "Epoch 33/100\n",
      "777/777 [==============================] - 10s 13ms/step - loss: 8.5433 - mean_absolute_error: 18.8976 - root_mean_squared_error: 26.0119 - mean_absolute_percentage_error: 45560580.0000 - val_loss: 8.6377 - val_mean_absolute_error: 20.9370 - val_root_mean_squared_error: 29.5467 - val_mean_absolute_percentage_error: 4111134.7500\n",
      "Epoch 34/100\n",
      "777/777 [==============================] - 11s 14ms/step - loss: 8.5372 - mean_absolute_error: 18.8539 - root_mean_squared_error: 25.9332 - mean_absolute_percentage_error: 45689412.0000 - val_loss: 8.5952 - val_mean_absolute_error: 20.9469 - val_root_mean_squared_error: 29.5130 - val_mean_absolute_percentage_error: 4067305.5000\n",
      "Epoch 35/100\n",
      "777/777 [==============================] - 11s 14ms/step - loss: 8.5191 - mean_absolute_error: 18.8031 - root_mean_squared_error: 25.8863 - mean_absolute_percentage_error: 45000600.0000 - val_loss: 8.6055 - val_mean_absolute_error: 20.8315 - val_root_mean_squared_error: 29.3007 - val_mean_absolute_percentage_error: 4050182.0000\n",
      "Epoch 36/100\n",
      "777/777 [==============================] - 10s 13ms/step - loss: 8.5301 - mean_absolute_error: 18.7995 - root_mean_squared_error: 25.8720 - mean_absolute_percentage_error: 44075328.0000 - val_loss: 8.6033 - val_mean_absolute_error: 20.8381 - val_root_mean_squared_error: 29.3573 - val_mean_absolute_percentage_error: 3921295.0000\n",
      "Epoch 37/100\n",
      "777/777 [==============================] - 10s 13ms/step - loss: 8.5152 - mean_absolute_error: 18.7747 - root_mean_squared_error: 25.8233 - mean_absolute_percentage_error: 43700164.0000 - val_loss: 8.6077 - val_mean_absolute_error: 20.9395 - val_root_mean_squared_error: 29.4737 - val_mean_absolute_percentage_error: 4150993.0000\n",
      "Epoch 38/100\n",
      "777/777 [==============================] - 10s 13ms/step - loss: 8.5186 - mean_absolute_error: 18.7620 - root_mean_squared_error: 25.8110 - mean_absolute_percentage_error: 42720848.0000 - val_loss: 8.6430 - val_mean_absolute_error: 20.9483 - val_root_mean_squared_error: 29.5638 - val_mean_absolute_percentage_error: 3997391.5000\n",
      "Epoch 39/100\n",
      "777/777 [==============================] - 10s 13ms/step - loss: 8.5054 - mean_absolute_error: 18.7262 - root_mean_squared_error: 25.7607 - mean_absolute_percentage_error: 42428588.0000 - val_loss: 8.5994 - val_mean_absolute_error: 20.7506 - val_root_mean_squared_error: 29.1728 - val_mean_absolute_percentage_error: 4000854.2500\n",
      "Epoch 40/100\n",
      "777/777 [==============================] - 10s 13ms/step - loss: 8.5003 - mean_absolute_error: 18.6969 - root_mean_squared_error: 25.7126 - mean_absolute_percentage_error: 41950584.0000 - val_loss: 8.6127 - val_mean_absolute_error: 20.8934 - val_root_mean_squared_error: 29.3719 - val_mean_absolute_percentage_error: 4013872.7500\n",
      "Epoch 41/100\n",
      "777/777 [==============================] - 10s 13ms/step - loss: 8.4898 - mean_absolute_error: 18.6879 - root_mean_squared_error: 25.6877 - mean_absolute_percentage_error: 40645324.0000 - val_loss: 8.6151 - val_mean_absolute_error: 20.8330 - val_root_mean_squared_error: 29.3848 - val_mean_absolute_percentage_error: 3971223.5000\n",
      "Epoch 42/100\n",
      "777/777 [==============================] - 10s 13ms/step - loss: 8.4939 - mean_absolute_error: 18.6723 - root_mean_squared_error: 25.6846 - mean_absolute_percentage_error: 40239264.0000 - val_loss: 8.6122 - val_mean_absolute_error: 20.8189 - val_root_mean_squared_error: 29.3033 - val_mean_absolute_percentage_error: 4001341.2500\n",
      "Epoch 43/100\n",
      "777/777 [==============================] - 10s 13ms/step - loss: 8.4906 - mean_absolute_error: 18.6633 - root_mean_squared_error: 25.6615 - mean_absolute_percentage_error: 39172476.0000 - val_loss: 8.6304 - val_mean_absolute_error: 20.9112 - val_root_mean_squared_error: 29.4539 - val_mean_absolute_percentage_error: 4072094.2500\n",
      "Epoch 44/100\n",
      "777/777 [==============================] - 11s 14ms/step - loss: 8.4698 - mean_absolute_error: 18.5891 - root_mean_squared_error: 25.5670 - mean_absolute_percentage_error: 38887180.0000 - val_loss: 8.6155 - val_mean_absolute_error: 20.8990 - val_root_mean_squared_error: 29.3897 - val_mean_absolute_percentage_error: 4113705.5000\n",
      "Epoch 45/100\n",
      "777/777 [==============================] - 10s 13ms/step - loss: 8.4711 - mean_absolute_error: 18.6183 - root_mean_squared_error: 25.6028 - mean_absolute_percentage_error: 38401996.0000 - val_loss: 8.6086 - val_mean_absolute_error: 20.8052 - val_root_mean_squared_error: 29.1432 - val_mean_absolute_percentage_error: 4093451.7500\n",
      "Epoch 46/100\n",
      "777/777 [==============================] - 10s 13ms/step - loss: 8.4600 - mean_absolute_error: 18.5827 - root_mean_squared_error: 25.5500 - mean_absolute_percentage_error: 37326692.0000 - val_loss: 8.5852 - val_mean_absolute_error: 20.7194 - val_root_mean_squared_error: 29.1731 - val_mean_absolute_percentage_error: 3983755.7500\n",
      "Epoch 47/100\n",
      "777/777 [==============================] - 10s 13ms/step - loss: 8.4643 - mean_absolute_error: 18.5483 - root_mean_squared_error: 25.5139 - mean_absolute_percentage_error: 36935096.0000 - val_loss: 8.6105 - val_mean_absolute_error: 20.9178 - val_root_mean_squared_error: 29.2892 - val_mean_absolute_percentage_error: 3985172.7500\n",
      "Epoch 48/100\n",
      "777/777 [==============================] - 10s 13ms/step - loss: 8.4539 - mean_absolute_error: 18.5150 - root_mean_squared_error: 25.4637 - mean_absolute_percentage_error: 35511908.0000 - val_loss: 8.6307 - val_mean_absolute_error: 20.8496 - val_root_mean_squared_error: 29.2309 - val_mean_absolute_percentage_error: 3911737.2500\n"
     ]
    },
    {
     "name": "stdout",
     "output_type": "stream",
     "text": [
      "Epoch 49/100\n",
      "777/777 [==============================] - 10s 13ms/step - loss: 8.4480 - mean_absolute_error: 18.4992 - root_mean_squared_error: 25.4255 - mean_absolute_percentage_error: 34669852.0000 - val_loss: 8.6040 - val_mean_absolute_error: 20.7856 - val_root_mean_squared_error: 29.0979 - val_mean_absolute_percentage_error: 3987543.7500\n",
      "Epoch 50/100\n",
      "777/777 [==============================] - 11s 14ms/step - loss: 8.4366 - mean_absolute_error: 18.4707 - root_mean_squared_error: 25.3794 - mean_absolute_percentage_error: 33783552.0000 - val_loss: 8.6437 - val_mean_absolute_error: 21.0472 - val_root_mean_squared_error: 29.5322 - val_mean_absolute_percentage_error: 4109884.5000\n",
      "Epoch 51/100\n",
      "777/777 [==============================] - 11s 14ms/step - loss: 8.4346 - mean_absolute_error: 18.5035 - root_mean_squared_error: 25.4214 - mean_absolute_percentage_error: 32492884.0000 - val_loss: 8.5757 - val_mean_absolute_error: 20.6483 - val_root_mean_squared_error: 28.9990 - val_mean_absolute_percentage_error: 4106310.5000\n",
      "Epoch 52/100\n",
      "777/777 [==============================] - 10s 13ms/step - loss: 8.4275 - mean_absolute_error: 18.4633 - root_mean_squared_error: 25.3593 - mean_absolute_percentage_error: 31950258.0000 - val_loss: 8.6231 - val_mean_absolute_error: 20.8471 - val_root_mean_squared_error: 29.2854 - val_mean_absolute_percentage_error: 3953247.0000\n",
      "Epoch 53/100\n",
      "777/777 [==============================] - 10s 13ms/step - loss: 8.4179 - mean_absolute_error: 18.3870 - root_mean_squared_error: 25.2835 - mean_absolute_percentage_error: 30783634.0000 - val_loss: 8.5897 - val_mean_absolute_error: 20.7641 - val_root_mean_squared_error: 28.9980 - val_mean_absolute_percentage_error: 3986736.7500\n",
      "Epoch 54/100\n",
      "777/777 [==============================] - 10s 13ms/step - loss: 8.4120 - mean_absolute_error: 18.4015 - root_mean_squared_error: 25.2901 - mean_absolute_percentage_error: 29519130.0000 - val_loss: 8.5730 - val_mean_absolute_error: 20.6456 - val_root_mean_squared_error: 28.9027 - val_mean_absolute_percentage_error: 3995456.5000\n",
      "Epoch 55/100\n",
      "777/777 [==============================] - 10s 13ms/step - loss: 8.4043 - mean_absolute_error: 18.3845 - root_mean_squared_error: 25.2666 - mean_absolute_percentage_error: 28308900.0000 - val_loss: 8.5965 - val_mean_absolute_error: 20.7983 - val_root_mean_squared_error: 29.1188 - val_mean_absolute_percentage_error: 4002170.2500\n",
      "Epoch 56/100\n",
      "777/777 [==============================] - 10s 13ms/step - loss: 8.3997 - mean_absolute_error: 18.3395 - root_mean_squared_error: 25.2041 - mean_absolute_percentage_error: 27041218.0000 - val_loss: 8.6018 - val_mean_absolute_error: 20.8163 - val_root_mean_squared_error: 29.1347 - val_mean_absolute_percentage_error: 4042545.7500\n",
      "Epoch 57/100\n",
      "777/777 [==============================] - 10s 13ms/step - loss: 8.3884 - mean_absolute_error: 18.3165 - root_mean_squared_error: 25.1705 - mean_absolute_percentage_error: 24984064.0000 - val_loss: 8.6134 - val_mean_absolute_error: 20.8070 - val_root_mean_squared_error: 29.2271 - val_mean_absolute_percentage_error: 3997409.2500\n",
      "Epoch 58/100\n",
      "777/777 [==============================] - 10s 13ms/step - loss: 8.3850 - mean_absolute_error: 18.3276 - root_mean_squared_error: 25.1900 - mean_absolute_percentage_error: 23382992.0000 - val_loss: 8.5869 - val_mean_absolute_error: 20.7132 - val_root_mean_squared_error: 29.1188 - val_mean_absolute_percentage_error: 3849547.5000\n",
      "Epoch 59/100\n",
      "777/777 [==============================] - 10s 13ms/step - loss: 8.3769 - mean_absolute_error: 18.3164 - root_mean_squared_error: 25.1669 - mean_absolute_percentage_error: 21483974.0000 - val_loss: 8.6016 - val_mean_absolute_error: 20.8342 - val_root_mean_squared_error: 29.1971 - val_mean_absolute_percentage_error: 4070629.2500\n",
      "Epoch 60/100\n",
      "777/777 [==============================] - 10s 13ms/step - loss: 8.3539 - mean_absolute_error: 18.2558 - root_mean_squared_error: 25.0826 - mean_absolute_percentage_error: 19565438.0000 - val_loss: 8.5861 - val_mean_absolute_error: 20.6947 - val_root_mean_squared_error: 28.9589 - val_mean_absolute_percentage_error: 3944890.7500\n",
      "Epoch 61/100\n",
      "777/777 [==============================] - 11s 14ms/step - loss: 8.3669 - mean_absolute_error: 18.3017 - root_mean_squared_error: 25.1470 - mean_absolute_percentage_error: 18360116.0000 - val_loss: 8.5489 - val_mean_absolute_error: 20.5132 - val_root_mean_squared_error: 28.7003 - val_mean_absolute_percentage_error: 4069301.5000\n",
      "Epoch 62/100\n",
      "777/777 [==============================] - 10s 13ms/step - loss: 8.3493 - mean_absolute_error: 18.2080 - root_mean_squared_error: 25.0181 - mean_absolute_percentage_error: 16893842.0000 - val_loss: 8.5641 - val_mean_absolute_error: 20.6251 - val_root_mean_squared_error: 28.8682 - val_mean_absolute_percentage_error: 4080133.2500\n",
      "Epoch 63/100\n",
      "777/777 [==============================] - 10s 13ms/step - loss: 8.3432 - mean_absolute_error: 18.2137 - root_mean_squared_error: 25.0293 - mean_absolute_percentage_error: 16864010.0000 - val_loss: 8.5876 - val_mean_absolute_error: 20.7730 - val_root_mean_squared_error: 29.0329 - val_mean_absolute_percentage_error: 4055421.5000\n",
      "Epoch 64/100\n",
      "777/777 [==============================] - 10s 13ms/step - loss: 8.3318 - mean_absolute_error: 18.2011 - root_mean_squared_error: 24.9869 - mean_absolute_percentage_error: 16285998.0000 - val_loss: 8.5631 - val_mean_absolute_error: 20.6602 - val_root_mean_squared_error: 28.8705 - val_mean_absolute_percentage_error: 4131512.7500\n",
      "Epoch 65/100\n",
      "777/777 [==============================] - 10s 13ms/step - loss: 8.3347 - mean_absolute_error: 18.1672 - root_mean_squared_error: 24.9572 - mean_absolute_percentage_error: 15921029.0000 - val_loss: 8.6060 - val_mean_absolute_error: 20.8163 - val_root_mean_squared_error: 29.1881 - val_mean_absolute_percentage_error: 3904554.7500\n",
      "Epoch 66/100\n",
      "777/777 [==============================] - 10s 13ms/step - loss: 8.3352 - mean_absolute_error: 18.1670 - root_mean_squared_error: 24.9545 - mean_absolute_percentage_error: 16178957.0000 - val_loss: 8.5781 - val_mean_absolute_error: 20.7006 - val_root_mean_squared_error: 28.8904 - val_mean_absolute_percentage_error: 3876328.2500\n",
      "Epoch 67/100\n",
      "777/777 [==============================] - 10s 13ms/step - loss: 8.3216 - mean_absolute_error: 18.1635 - root_mean_squared_error: 24.9538 - mean_absolute_percentage_error: 16072382.0000 - val_loss: 8.5614 - val_mean_absolute_error: 20.7851 - val_root_mean_squared_error: 29.0999 - val_mean_absolute_percentage_error: 3973539.7500\n",
      "Epoch 68/100\n",
      "777/777 [==============================] - 10s 13ms/step - loss: 8.3318 - mean_absolute_error: 18.1675 - root_mean_squared_error: 24.9527 - mean_absolute_percentage_error: 15821564.0000 - val_loss: 8.5970 - val_mean_absolute_error: 20.8488 - val_root_mean_squared_error: 28.9672 - val_mean_absolute_percentage_error: 4020749.2500\n",
      "Epoch 69/100\n",
      "777/777 [==============================] - 10s 13ms/step - loss: 8.3198 - mean_absolute_error: 18.1475 - root_mean_squared_error: 24.9234 - mean_absolute_percentage_error: 15751063.0000 - val_loss: 8.6882 - val_mean_absolute_error: 21.3656 - val_root_mean_squared_error: 29.6328 - val_mean_absolute_percentage_error: 4152293.7500\n",
      "Epoch 70/100\n",
      "777/777 [==============================] - 10s 13ms/step - loss: 8.3143 - mean_absolute_error: 18.1117 - root_mean_squared_error: 24.8754 - mean_absolute_percentage_error: 16098572.0000 - val_loss: 8.5731 - val_mean_absolute_error: 20.7149 - val_root_mean_squared_error: 28.8620 - val_mean_absolute_percentage_error: 4102546.2500\n",
      "Epoch 71/100\n",
      "777/777 [==============================] - 10s 13ms/step - loss: 8.3065 - mean_absolute_error: 18.0848 - root_mean_squared_error: 24.8161 - mean_absolute_percentage_error: 15914500.0000 - val_loss: 8.6006 - val_mean_absolute_error: 20.7773 - val_root_mean_squared_error: 29.0374 - val_mean_absolute_percentage_error: 4103030.2500\n",
      "Epoch 72/100\n",
      "777/777 [==============================] - 10s 13ms/step - loss: 8.3050 - mean_absolute_error: 18.0510 - root_mean_squared_error: 24.7959 - mean_absolute_percentage_error: 16025765.0000 - val_loss: 8.6110 - val_mean_absolute_error: 20.7567 - val_root_mean_squared_error: 29.0751 - val_mean_absolute_percentage_error: 4128355.2500\n"
     ]
    },
    {
     "name": "stdout",
     "output_type": "stream",
     "text": [
      "Epoch 73/100\n",
      "777/777 [==============================] - 10s 13ms/step - loss: 8.3022 - mean_absolute_error: 18.0730 - root_mean_squared_error: 24.8077 - mean_absolute_percentage_error: 15882849.0000 - val_loss: 8.5801 - val_mean_absolute_error: 20.6803 - val_root_mean_squared_error: 28.8433 - val_mean_absolute_percentage_error: 3993496.5000\n",
      "Epoch 74/100\n",
      "777/777 [==============================] - 10s 13ms/step - loss: 8.2939 - mean_absolute_error: 18.0149 - root_mean_squared_error: 24.7298 - mean_absolute_percentage_error: 15980887.0000 - val_loss: 8.6127 - val_mean_absolute_error: 20.8641 - val_root_mean_squared_error: 29.1409 - val_mean_absolute_percentage_error: 3971004.2500\n",
      "Epoch 75/100\n",
      "777/777 [==============================] - 10s 13ms/step - loss: 8.3008 - mean_absolute_error: 18.0057 - root_mean_squared_error: 24.7326 - mean_absolute_percentage_error: 15868238.0000 - val_loss: 8.5915 - val_mean_absolute_error: 20.6818 - val_root_mean_squared_error: 28.8101 - val_mean_absolute_percentage_error: 4014448.2500\n",
      "Epoch 76/100\n",
      "777/777 [==============================] - 10s 13ms/step - loss: 8.2813 - mean_absolute_error: 17.9847 - root_mean_squared_error: 24.6876 - mean_absolute_percentage_error: 16054832.0000 - val_loss: 8.6096 - val_mean_absolute_error: 20.8019 - val_root_mean_squared_error: 29.0704 - val_mean_absolute_percentage_error: 3950458.0000\n",
      "Epoch 77/100\n",
      "777/777 [==============================] - 10s 13ms/step - loss: 8.2811 - mean_absolute_error: 17.9787 - root_mean_squared_error: 24.6867 - mean_absolute_percentage_error: 16176098.0000 - val_loss: 8.6036 - val_mean_absolute_error: 20.7792 - val_root_mean_squared_error: 29.0252 - val_mean_absolute_percentage_error: 3884107.0000\n",
      "Epoch 78/100\n",
      "777/777 [==============================] - 10s 13ms/step - loss: 8.2791 - mean_absolute_error: 17.9802 - root_mean_squared_error: 24.6923 - mean_absolute_percentage_error: 16401287.0000 - val_loss: 8.5247 - val_mean_absolute_error: 20.4271 - val_root_mean_squared_error: 28.4662 - val_mean_absolute_percentage_error: 4024358.5000\n",
      "Epoch 79/100\n",
      "777/777 [==============================] - 10s 13ms/step - loss: 8.2646 - mean_absolute_error: 17.9342 - root_mean_squared_error: 24.6120 - mean_absolute_percentage_error: 16332793.0000 - val_loss: 8.5781 - val_mean_absolute_error: 20.5796 - val_root_mean_squared_error: 28.7909 - val_mean_absolute_percentage_error: 3947838.5000\n",
      "Epoch 80/100\n",
      "777/777 [==============================] - 10s 13ms/step - loss: 8.2736 - mean_absolute_error: 17.9236 - root_mean_squared_error: 24.6067 - mean_absolute_percentage_error: 15911520.0000 - val_loss: 8.5518 - val_mean_absolute_error: 20.5431 - val_root_mean_squared_error: 28.6715 - val_mean_absolute_percentage_error: 3874523.0000\n",
      "Epoch 81/100\n",
      "777/777 [==============================] - 10s 13ms/step - loss: 8.2693 - mean_absolute_error: 17.8986 - root_mean_squared_error: 24.5880 - mean_absolute_percentage_error: 16006444.0000 - val_loss: 8.5820 - val_mean_absolute_error: 20.7041 - val_root_mean_squared_error: 28.8028 - val_mean_absolute_percentage_error: 3949995.7500\n",
      "Epoch 82/100\n",
      "777/777 [==============================] - 10s 13ms/step - loss: 8.2542 - mean_absolute_error: 17.8984 - root_mean_squared_error: 24.5710 - mean_absolute_percentage_error: 16354342.0000 - val_loss: 8.5964 - val_mean_absolute_error: 20.7323 - val_root_mean_squared_error: 29.0299 - val_mean_absolute_percentage_error: 4001824.5000\n",
      "Epoch 83/100\n",
      "777/777 [==============================] - 10s 13ms/step - loss: 8.2518 - mean_absolute_error: 17.8995 - root_mean_squared_error: 24.5500 - mean_absolute_percentage_error: 16027480.0000 - val_loss: 8.5847 - val_mean_absolute_error: 20.6674 - val_root_mean_squared_error: 28.8801 - val_mean_absolute_percentage_error: 3836746.5000\n",
      "Epoch 84/100\n",
      "777/777 [==============================] - 10s 13ms/step - loss: 8.2442 - mean_absolute_error: 17.8466 - root_mean_squared_error: 24.4812 - mean_absolute_percentage_error: 16332511.0000 - val_loss: 8.6396 - val_mean_absolute_error: 20.9140 - val_root_mean_squared_error: 29.2416 - val_mean_absolute_percentage_error: 3981921.5000\n",
      "Epoch 85/100\n",
      "777/777 [==============================] - 10s 13ms/step - loss: 8.2518 - mean_absolute_error: 17.8620 - root_mean_squared_error: 24.5041 - mean_absolute_percentage_error: 16819256.0000 - val_loss: 8.5799 - val_mean_absolute_error: 20.6057 - val_root_mean_squared_error: 28.7188 - val_mean_absolute_percentage_error: 4007870.7500\n",
      "Epoch 86/100\n",
      "777/777 [==============================] - 10s 13ms/step - loss: 8.2422 - mean_absolute_error: 17.8448 - root_mean_squared_error: 24.4792 - mean_absolute_percentage_error: 16483887.0000 - val_loss: 8.6148 - val_mean_absolute_error: 20.7243 - val_root_mean_squared_error: 28.9222 - val_mean_absolute_percentage_error: 4017488.0000\n",
      "Epoch 87/100\n",
      "777/777 [==============================] - 10s 13ms/step - loss: 8.2349 - mean_absolute_error: 17.8382 - root_mean_squared_error: 24.4576 - mean_absolute_percentage_error: 16204540.0000 - val_loss: 8.5975 - val_mean_absolute_error: 20.9099 - val_root_mean_squared_error: 29.0407 - val_mean_absolute_percentage_error: 3911766.2500\n",
      "Epoch 88/100\n",
      "777/777 [==============================] - 10s 13ms/step - loss: 8.2327 - mean_absolute_error: 17.8270 - root_mean_squared_error: 24.4558 - mean_absolute_percentage_error: 16491248.0000 - val_loss: 8.5854 - val_mean_absolute_error: 20.6420 - val_root_mean_squared_error: 28.9267 - val_mean_absolute_percentage_error: 3936495.2500\n",
      "Epoch 89/100\n",
      "777/777 [==============================] - 10s 13ms/step - loss: 8.2414 - mean_absolute_error: 17.8186 - root_mean_squared_error: 24.4473 - mean_absolute_percentage_error: 16603793.0000 - val_loss: 8.6045 - val_mean_absolute_error: 20.7541 - val_root_mean_squared_error: 28.9505 - val_mean_absolute_percentage_error: 3950142.5000\n",
      "Epoch 90/100\n",
      "777/777 [==============================] - 10s 13ms/step - loss: 8.2259 - mean_absolute_error: 17.8071 - root_mean_squared_error: 24.4037 - mean_absolute_percentage_error: 16284356.0000 - val_loss: 8.5758 - val_mean_absolute_error: 20.6168 - val_root_mean_squared_error: 28.7954 - val_mean_absolute_percentage_error: 4038313.2500\n",
      "Epoch 91/100\n",
      "777/777 [==============================] - 10s 13ms/step - loss: 8.2208 - mean_absolute_error: 17.7353 - root_mean_squared_error: 24.3206 - mean_absolute_percentage_error: 16499462.0000 - val_loss: 8.5681 - val_mean_absolute_error: 20.6620 - val_root_mean_squared_error: 28.8451 - val_mean_absolute_percentage_error: 3855021.2500\n",
      "Epoch 92/100\n",
      "777/777 [==============================] - 10s 13ms/step - loss: 8.2165 - mean_absolute_error: 17.7392 - root_mean_squared_error: 24.3307 - mean_absolute_percentage_error: 16587700.0000 - val_loss: 8.6138 - val_mean_absolute_error: 20.8048 - val_root_mean_squared_error: 28.8793 - val_mean_absolute_percentage_error: 4013960.0000\n",
      "Epoch 93/100\n",
      "777/777 [==============================] - 10s 13ms/step - loss: 8.2142 - mean_absolute_error: 17.7370 - root_mean_squared_error: 24.3328 - mean_absolute_percentage_error: 16475229.0000 - val_loss: 8.5909 - val_mean_absolute_error: 20.7530 - val_root_mean_squared_error: 28.8731 - val_mean_absolute_percentage_error: 4011142.0000\n",
      "Epoch 94/100\n",
      "777/777 [==============================] - 10s 13ms/step - loss: 8.2153 - mean_absolute_error: 17.6965 - root_mean_squared_error: 24.2876 - mean_absolute_percentage_error: 16629209.0000 - val_loss: 8.5932 - val_mean_absolute_error: 20.8019 - val_root_mean_squared_error: 28.9632 - val_mean_absolute_percentage_error: 3957199.2500\n",
      "Epoch 95/100\n",
      "777/777 [==============================] - 10s 13ms/step - loss: 8.2110 - mean_absolute_error: 17.7154 - root_mean_squared_error: 24.3013 - mean_absolute_percentage_error: 16406702.0000 - val_loss: 8.6156 - val_mean_absolute_error: 20.8803 - val_root_mean_squared_error: 29.0559 - val_mean_absolute_percentage_error: 3919025.2500\n",
      "Epoch 96/100\n",
      "777/777 [==============================] - 11s 14ms/step - loss: 8.2080 - mean_absolute_error: 17.6641 - root_mean_squared_error: 24.2316 - mean_absolute_percentage_error: 16223853.0000 - val_loss: 8.5892 - val_mean_absolute_error: 20.7737 - val_root_mean_squared_error: 28.9129 - val_mean_absolute_percentage_error: 3974772.7500\n"
     ]
    },
    {
     "name": "stdout",
     "output_type": "stream",
     "text": [
      "Epoch 97/100\n",
      "777/777 [==============================] - 10s 13ms/step - loss: 8.2069 - mean_absolute_error: 17.6581 - root_mean_squared_error: 24.2172 - mean_absolute_percentage_error: 16528472.0000 - val_loss: 8.5907 - val_mean_absolute_error: 20.8063 - val_root_mean_squared_error: 28.8930 - val_mean_absolute_percentage_error: 4062593.5000\n",
      "Epoch 98/100\n",
      "777/777 [==============================] - 10s 13ms/step - loss: 8.1957 - mean_absolute_error: 17.6422 - root_mean_squared_error: 24.2001 - mean_absolute_percentage_error: 16506365.0000 - val_loss: 8.6621 - val_mean_absolute_error: 21.1862 - val_root_mean_squared_error: 29.4531 - val_mean_absolute_percentage_error: 3920546.7500\n",
      "Epoch 99/100\n",
      "777/777 [==============================] - 10s 13ms/step - loss: 8.1821 - mean_absolute_error: 17.6314 - root_mean_squared_error: 24.1652 - mean_absolute_percentage_error: 16698426.0000 - val_loss: 8.5967 - val_mean_absolute_error: 20.7616 - val_root_mean_squared_error: 28.9849 - val_mean_absolute_percentage_error: 4073591.5000\n",
      "Epoch 100/100\n",
      "777/777 [==============================] - 10s 13ms/step - loss: 8.1968 - mean_absolute_error: 17.6070 - root_mean_squared_error: 24.1631 - mean_absolute_percentage_error: 16511894.0000 - val_loss: 8.6005 - val_mean_absolute_error: 20.7240 - val_root_mean_squared_error: 28.8640 - val_mean_absolute_percentage_error: 3926505.2500\n"
     ]
    },
    {
     "data": {
      "text/plain": [
       "<keras.callbacks.History at 0x25c41f6ef40>"
      ]
     },
     "execution_count": 47,
     "metadata": {},
     "output_type": "execute_result"
    }
   ],
   "source": [
    "model60.fit((Wt60,Xt60), yt60, validation_split = val_percent,\n",
    "            epochs = 100, \n",
    "            verbose = 1\n",
    "            )"
   ]
  },
  {
   "cell_type": "code",
   "execution_count": 48,
   "metadata": {},
   "outputs": [],
   "source": [
    "metrics60 = pd.DataFrame(model60.history.history)"
   ]
  },
  {
   "cell_type": "code",
   "execution_count": 72,
   "metadata": {},
   "outputs": [
    {
     "data": {
      "text/plain": [
       "(<mpl_toolkits.axes_grid1.inset_locator.BboxPatch at 0x1ba7de2b760>,\n",
       " <mpl_toolkits.axes_grid1.inset_locator.BboxConnector at 0x1ba7de8ab80>,\n",
       " <mpl_toolkits.axes_grid1.inset_locator.BboxConnector at 0x1ba7de8adc0>)"
      ]
     },
     "execution_count": 72,
     "metadata": {},
     "output_type": "execute_result"
    },
    {
     "data": {
      "image/png": "[encoded data removed]",
      "text/plain": [
       "<Figure size 432x288 with 2 Axes>"
      ]
     },
     "metadata": {
      "needs_background": "light"
     },
     "output_type": "display_data"
    }
   ],
   "source": [
    "fig = plt.figure(figsize=(6,4))\n",
    "\n",
    "# Add set of axes to figure\n",
    "axes = fig.add_axes([0, 0, 1, 1]) \n",
    "axes2 = fig.add_axes([0.35, 0.45, 0.5, 0.5]) # Smaller figure\n",
    "axes.plot(metrics60[['loss','val_loss']], label=['train_loss','val_loss'], lw=4)\n",
    "axes.set_ylim(7.5,15)\n",
    "\n",
    "axes2.plot(metrics60[['loss','val_loss']], lw=4)\n",
    "axes2.set_xlim(0,25)\n",
    "axes2.set_ylim(8,10)\n",
    "#plt.xticks(visible=False)\n",
    "plt.yticks(visible=False)\n",
    "\n",
    "axes.set_xlabel('Epoch')\n",
    "axes.set_ylabel('Loss')\n",
    "axes.grid()\n",
    "axes2.grid()\n",
    "\n",
    "mark_inset(axes, axes2, loc1=2, loc2=4, fc=\"0.9\", ec=\"0.1\", ls='--')\n",
    "# axes.yaxis.set_major_formatter(formatter)"
   ]
  },
  {
   "cell_type": "code",
   "execution_count": 87,
   "metadata": {},
   "outputs": [
    {
     "name": "stderr",
     "output_type": "stream",
     "text": [
      "WARNING:absl:Function `_wrapped_model` contains input name(s) WideInput, DeepInput with unsupported characters which will be renamed to wideinput, deepinput in the SavedModel.\n"
     ]
    },
    {
     "name": "stdout",
     "output_type": "stream",
     "text": [
      "INFO:tensorflow:Assets written to: my_dir/8e-60\\assets\n"
     ]
    },
    {
     "name": "stderr",
     "output_type": "stream",
     "text": [
      "INFO:tensorflow:Assets written to: my_dir/8e-60\\assets\n",
      "WARNING:absl:<keras.layers.recurrent.LSTMCell object at 0x0000020D8E084250> has the same name 'LSTMCell' as a built-in Keras object. Consider renaming <class 'keras.layers.recurrent.LSTMCell'> to avoid naming conflicts when loading with `tf.keras.models.load_model`. If renaming is not possible, pass the object in the `custom_objects` parameter of the load function.\n",
      "WARNING:absl:<keras.layers.recurrent.LSTMCell object at 0x0000020D88ED11F0> has the same name 'LSTMCell' as a built-in Keras object. Consider renaming <class 'keras.layers.recurrent.LSTMCell'> to avoid naming conflicts when loading with `tf.keras.models.load_model`. If renaming is not possible, pass the object in the `custom_objects` parameter of the load function.\n",
      "WARNING:absl:<keras.layers.recurrent.LSTMCell object at 0x0000020DD4F1FC10> has the same name 'LSTMCell' as a built-in Keras object. Consider renaming <class 'keras.layers.recurrent.LSTMCell'> to avoid naming conflicts when loading with `tf.keras.models.load_model`. If renaming is not possible, pass the object in the `custom_objects` parameter of the load function.\n"
     ]
    }
   ],
   "source": [
    "model60.save(\"my_dir/8e-60\")"
   ]
  },
  {
   "cell_type": "code",
   "execution_count": 90,
   "metadata": {},
   "outputs": [],
   "source": [
    "model60 = keras.models.load_model(\"my_dir/8e-60\", custom_objects={'GEH_loss': GEH_loss})"
   ]
  },
  {
   "cell_type": "code",
   "execution_count": 91,
   "metadata": {},
   "outputs": [
    {
     "data": {
      "text/plain": [
       "array([[ 55.69512 ,  59.354942,  63.22116 , ...,  63.12973 ,  44.7746  ,\n",
       "         43.90793 ],\n",
       "       [ 52.107468,  54.763996,  58.16891 , ...,  58.224815,  37.27435 ,\n",
       "         37.397926],\n",
       "       [ 49.15518 ,  51.655193,  54.368217, ...,  54.762875,  34.371017,\n",
       "         36.145336],\n",
       "       ...,\n",
       "       [124.479164, 132.75945 , 140.61221 , ..., 136.97383 ,  89.99701 ,\n",
       "         81.90206 ],\n",
       "       [129.01045 , 135.77612 , 144.7396  , ..., 139.82118 ,  88.422035,\n",
       "         77.29512 ],\n",
       "       [122.19745 , 128.5338  , 137.10838 , ..., 130.47055 ,  80.12406 ,\n",
       "         69.22607 ]], dtype=float32)"
      ]
     },
     "execution_count": 91,
     "metadata": {},
     "output_type": "execute_result"
    }
   ],
   "source": [
    "model60.predict((Wv60,Xv60))"
   ]
  },
  {
   "cell_type": "markdown",
   "metadata": {},
   "source": [
    "### Evaluation on inverse_transform"
   ]
  },
  {
   "cell_type": "code",
   "execution_count": null,
   "metadata": {},
   "outputs": [],
   "source": [
    "test_predictions60 = model60.predict((Wv60,Xv60))\n",
    "\n",
    "\n",
    "MSE60 = mean_squared_error(yv60,test_predictions60)\n",
    "\n",
    "MAE60 = mean_absolute_error(yv60,test_predictions60)\n",
    "\n",
    "RMSE60 = np.sqrt(MSE60)\n",
    "\n",
    "MAPE60 = mean_absolute_percentage_error(yv60,test_predictions60)*100\n",
    "\n",
    "eval60 = [MSE60, MAE60, RMSE60, MAPE60]\n",
    "print(eval60)"
   ]
  },
  {
   "cell_type": "code",
   "execution_count": null,
   "metadata": {},
   "outputs": [],
   "source": [
    "GEH, count = ga.GEH(np.asarray(yv60), np.asarray(test_predictions60))\n",
    "GEH60 = count/GEH.size\n",
    "print(GEH60)"
   ]
  },
  {
   "cell_type": "markdown",
   "metadata": {},
   "source": [
    "# RESULTS"
   ]
  },
  {
   "cell_type": "markdown",
   "metadata": {},
   "source": [
    "## General results"
   ]
  },
  {
   "cell_type": "code",
   "execution_count": null,
   "metadata": {},
   "outputs": [],
   "source": [
    "l = ['MSE','MAE','RMSE','MAPE','Horizon']"
   ]
  },
  {
   "cell_type": "code",
   "execution_count": null,
   "metadata": {},
   "outputs": [],
   "source": [
    "eval5.append(5)\n",
    "eval15.append(15)\n",
    "eval30.append(30)\n",
    "eval60.append(60)"
   ]
  },
  {
   "cell_type": "code",
   "execution_count": null,
   "metadata": {},
   "outputs": [],
   "source": [
    "df = pd.DataFrame(np.array([eval5,eval15,eval30,eval60]),columns=l)\n",
    "df.set_index('Horizon')"
   ]
  },
  {
   "cell_type": "markdown",
   "metadata": {},
   "source": [
    "## GEH"
   ]
  },
  {
   "cell_type": "code",
   "execution_count": null,
   "metadata": {},
   "outputs": [],
   "source": [
    "n = [' 5 ',' 15 ',' 30 ',' 60 ']\n",
    "df2 = pd.DataFrame(np.array([[GEH5, GEH15, GEH30, GEH60]]), columns=n)\n",
    "print(df2)"
   ]
  },
  {
   "cell_type": "markdown",
   "metadata": {},
   "source": [
    "## Save Loss"
   ]
  },
  {
   "cell_type": "code",
   "execution_count": null,
   "metadata": {},
   "outputs": [],
   "source": [
    "metrics5.to_csv('Loss/8e-5.csv') \n",
    "metrics15.to_csv('Loss/8e-15.csv') \n",
    "metrics30.to_csv('Loss/8e-30.csv') \n",
    "metrics60.to_csv('Loss/8e-60.csv') "
   ]
  }
 ],
 "metadata": {
  "kernelspec": {
   "display_name": "Python 3 (ipykernel)",
   "language": "python",
   "name": "python3"
  },
  "language_info": {
   "codemirror_mode": {
    "name": "ipython",
    "version": 3
   },
   "file_extension": ".py",
   "mimetype": "text/x-python",
   "name": "python",
   "nbconvert_exporter": "python",
   "pygments_lexer": "ipython3",
   "version": "3.11.5"
  }
 },
 "nbformat": 4,
 "nbformat_minor": 4
}
