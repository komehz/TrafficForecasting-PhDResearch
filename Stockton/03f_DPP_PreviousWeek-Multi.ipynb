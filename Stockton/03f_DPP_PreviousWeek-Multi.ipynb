{
 "cells": [
  {
   "cell_type": "code",
   "execution_count": 1,
   "id": "6381d18a",
   "metadata": {},
   "outputs": [],
   "source": [
    "import pandas as pd\n",
    "import numpy as np\n",
    "import matplotlib.pyplot as plt\n",
    "import seaborn as sns\n",
    "import joblib"
   ]
  },
  {
   "cell_type": "code",
   "execution_count": 2,
   "id": "94d5753a",
   "metadata": {},
   "outputs": [],
   "source": [
    "Ext             = pd.DataFrame(joblib.load(\"Extension.save\"))\n",
    "TrainVal_scaled = pd.read_csv('01train_scaled.csv').drop(['Timestamp','Unnamed: 0'], axis=1)\n",
    "Test_scaled     = pd.read_csv('01test_scaled.csv').drop(['Timestamp','Unnamed: 0'], axis=1)"
   ]
  },
  {
   "cell_type": "code",
   "execution_count": 3,
   "id": "8446e962",
   "metadata": {},
   "outputs": [],
   "source": [
    "columns = ['f1', 'f2', 'f3', 'f4', 'f5', 'f6', 'f7']\n",
    "Ext.columns = columns"
   ]
  },
  {
   "cell_type": "code",
   "execution_count": 4,
   "id": "2266c273",
   "metadata": {},
   "outputs": [
    {
     "data": {
      "text/html": [
       "<div>\n",
       "<style scoped>\n",
       "    .dataframe tbody tr th:only-of-type {\n",
       "        vertical-align: middle;\n",
       "    }\n",
       "\n",
       "    .dataframe tbody tr th {\n",
       "        vertical-align: top;\n",
       "    }\n",
       "\n",
       "    .dataframe thead th {\n",
       "        text-align: right;\n",
       "    }\n",
       "</style>\n",
       "<table border=\"1\" class=\"dataframe\">\n",
       "  <thead>\n",
       "    <tr style=\"text-align: right;\">\n",
       "      <th></th>\n",
       "      <th>f1</th>\n",
       "      <th>f2</th>\n",
       "      <th>f3</th>\n",
       "      <th>f4</th>\n",
       "      <th>f5</th>\n",
       "      <th>f6</th>\n",
       "      <th>f7</th>\n",
       "    </tr>\n",
       "  </thead>\n",
       "  <tbody>\n",
       "    <tr>\n",
       "      <th>0</th>\n",
       "      <td>0.167038</td>\n",
       "      <td>0.147773</td>\n",
       "      <td>0.147170</td>\n",
       "      <td>0.185106</td>\n",
       "      <td>0.114923</td>\n",
       "      <td>0.089015</td>\n",
       "      <td>0.130435</td>\n",
       "    </tr>\n",
       "    <tr>\n",
       "      <th>1</th>\n",
       "      <td>0.162584</td>\n",
       "      <td>0.165992</td>\n",
       "      <td>0.216981</td>\n",
       "      <td>0.206383</td>\n",
       "      <td>0.144082</td>\n",
       "      <td>0.102273</td>\n",
       "      <td>0.165217</td>\n",
       "    </tr>\n",
       "    <tr>\n",
       "      <th>2</th>\n",
       "      <td>0.164811</td>\n",
       "      <td>0.137652</td>\n",
       "      <td>0.162264</td>\n",
       "      <td>0.210638</td>\n",
       "      <td>0.150943</td>\n",
       "      <td>0.109848</td>\n",
       "      <td>0.163043</td>\n",
       "    </tr>\n",
       "    <tr>\n",
       "      <th>3</th>\n",
       "      <td>0.151448</td>\n",
       "      <td>0.125506</td>\n",
       "      <td>0.149057</td>\n",
       "      <td>0.182979</td>\n",
       "      <td>0.118353</td>\n",
       "      <td>0.068182</td>\n",
       "      <td>0.113043</td>\n",
       "    </tr>\n",
       "    <tr>\n",
       "      <th>4</th>\n",
       "      <td>0.093541</td>\n",
       "      <td>0.121457</td>\n",
       "      <td>0.139623</td>\n",
       "      <td>0.200000</td>\n",
       "      <td>0.102916</td>\n",
       "      <td>0.075758</td>\n",
       "      <td>0.121739</td>\n",
       "    </tr>\n",
       "    <tr>\n",
       "      <th>...</th>\n",
       "      <td>...</td>\n",
       "      <td>...</td>\n",
       "      <td>...</td>\n",
       "      <td>...</td>\n",
       "      <td>...</td>\n",
       "      <td>...</td>\n",
       "      <td>...</td>\n",
       "    </tr>\n",
       "    <tr>\n",
       "      <th>4315</th>\n",
       "      <td>0.213808</td>\n",
       "      <td>0.186235</td>\n",
       "      <td>0.143396</td>\n",
       "      <td>0.189362</td>\n",
       "      <td>0.144082</td>\n",
       "      <td>0.151515</td>\n",
       "      <td>0.136957</td>\n",
       "    </tr>\n",
       "    <tr>\n",
       "      <th>4316</th>\n",
       "      <td>0.271715</td>\n",
       "      <td>0.202429</td>\n",
       "      <td>0.226415</td>\n",
       "      <td>0.225532</td>\n",
       "      <td>0.149228</td>\n",
       "      <td>0.132576</td>\n",
       "      <td>0.136957</td>\n",
       "    </tr>\n",
       "    <tr>\n",
       "      <th>4317</th>\n",
       "      <td>0.220490</td>\n",
       "      <td>0.180162</td>\n",
       "      <td>0.215094</td>\n",
       "      <td>0.204255</td>\n",
       "      <td>0.162950</td>\n",
       "      <td>0.153409</td>\n",
       "      <td>0.167391</td>\n",
       "    </tr>\n",
       "    <tr>\n",
       "      <th>4318</th>\n",
       "      <td>0.213808</td>\n",
       "      <td>0.194332</td>\n",
       "      <td>0.233962</td>\n",
       "      <td>0.231915</td>\n",
       "      <td>0.156089</td>\n",
       "      <td>0.121212</td>\n",
       "      <td>0.147826</td>\n",
       "    </tr>\n",
       "    <tr>\n",
       "      <th>4319</th>\n",
       "      <td>0.195991</td>\n",
       "      <td>0.200405</td>\n",
       "      <td>0.200000</td>\n",
       "      <td>0.253191</td>\n",
       "      <td>0.169811</td>\n",
       "      <td>0.098485</td>\n",
       "      <td>0.115217</td>\n",
       "    </tr>\n",
       "  </tbody>\n",
       "</table>\n",
       "<p>4320 rows × 7 columns</p>\n",
       "</div>"
      ],
      "text/plain": [
       "            f1        f2        f3        f4        f5        f6        f7\n",
       "0     0.167038  0.147773  0.147170  0.185106  0.114923  0.089015  0.130435\n",
       "1     0.162584  0.165992  0.216981  0.206383  0.144082  0.102273  0.165217\n",
       "2     0.164811  0.137652  0.162264  0.210638  0.150943  0.109848  0.163043\n",
       "3     0.151448  0.125506  0.149057  0.182979  0.118353  0.068182  0.113043\n",
       "4     0.093541  0.121457  0.139623  0.200000  0.102916  0.075758  0.121739\n",
       "...        ...       ...       ...       ...       ...       ...       ...\n",
       "4315  0.213808  0.186235  0.143396  0.189362  0.144082  0.151515  0.136957\n",
       "4316  0.271715  0.202429  0.226415  0.225532  0.149228  0.132576  0.136957\n",
       "4317  0.220490  0.180162  0.215094  0.204255  0.162950  0.153409  0.167391\n",
       "4318  0.213808  0.194332  0.233962  0.231915  0.156089  0.121212  0.147826\n",
       "4319  0.195991  0.200405  0.200000  0.253191  0.169811  0.098485  0.115217\n",
       "\n",
       "[4320 rows x 7 columns]"
      ]
     },
     "execution_count": 4,
     "metadata": {},
     "output_type": "execute_result"
    }
   ],
   "source": [
    "Ext"
   ]
  },
  {
   "cell_type": "code",
   "execution_count": 5,
   "id": "8131065f",
   "metadata": {},
   "outputs": [
    {
     "data": {
      "text/html": [
       "<div>\n",
       "<style scoped>\n",
       "    .dataframe tbody tr th:only-of-type {\n",
       "        vertical-align: middle;\n",
       "    }\n",
       "\n",
       "    .dataframe tbody tr th {\n",
       "        vertical-align: top;\n",
       "    }\n",
       "\n",
       "    .dataframe thead th {\n",
       "        text-align: right;\n",
       "    }\n",
       "</style>\n",
       "<table border=\"1\" class=\"dataframe\">\n",
       "  <thead>\n",
       "    <tr style=\"text-align: right;\">\n",
       "      <th></th>\n",
       "      <th>f1</th>\n",
       "      <th>f2</th>\n",
       "      <th>f3</th>\n",
       "      <th>f4</th>\n",
       "      <th>f5</th>\n",
       "      <th>f6</th>\n",
       "      <th>f7</th>\n",
       "    </tr>\n",
       "  </thead>\n",
       "  <tbody>\n",
       "    <tr>\n",
       "      <th>0</th>\n",
       "      <td>0.200445</td>\n",
       "      <td>0.161943</td>\n",
       "      <td>0.230189</td>\n",
       "      <td>0.265957</td>\n",
       "      <td>0.190395</td>\n",
       "      <td>0.060606</td>\n",
       "      <td>0.084783</td>\n",
       "    </tr>\n",
       "    <tr>\n",
       "      <th>1</th>\n",
       "      <td>0.191537</td>\n",
       "      <td>0.155870</td>\n",
       "      <td>0.235849</td>\n",
       "      <td>0.265957</td>\n",
       "      <td>0.174957</td>\n",
       "      <td>0.125000</td>\n",
       "      <td>0.154348</td>\n",
       "    </tr>\n",
       "    <tr>\n",
       "      <th>2</th>\n",
       "      <td>0.213808</td>\n",
       "      <td>0.214575</td>\n",
       "      <td>0.230189</td>\n",
       "      <td>0.238298</td>\n",
       "      <td>0.173242</td>\n",
       "      <td>0.126894</td>\n",
       "      <td>0.145652</td>\n",
       "    </tr>\n",
       "    <tr>\n",
       "      <th>3</th>\n",
       "      <td>0.213808</td>\n",
       "      <td>0.170040</td>\n",
       "      <td>0.175472</td>\n",
       "      <td>0.212766</td>\n",
       "      <td>0.152659</td>\n",
       "      <td>0.155303</td>\n",
       "      <td>0.182609</td>\n",
       "    </tr>\n",
       "    <tr>\n",
       "      <th>4</th>\n",
       "      <td>0.193764</td>\n",
       "      <td>0.161943</td>\n",
       "      <td>0.201887</td>\n",
       "      <td>0.242553</td>\n",
       "      <td>0.157804</td>\n",
       "      <td>0.113636</td>\n",
       "      <td>0.121739</td>\n",
       "    </tr>\n",
       "    <tr>\n",
       "      <th>...</th>\n",
       "      <td>...</td>\n",
       "      <td>...</td>\n",
       "      <td>...</td>\n",
       "      <td>...</td>\n",
       "      <td>...</td>\n",
       "      <td>...</td>\n",
       "      <td>...</td>\n",
       "    </tr>\n",
       "    <tr>\n",
       "      <th>31099</th>\n",
       "      <td>0.298441</td>\n",
       "      <td>0.253036</td>\n",
       "      <td>0.288679</td>\n",
       "      <td>0.291489</td>\n",
       "      <td>0.255575</td>\n",
       "      <td>0.204545</td>\n",
       "      <td>0.184783</td>\n",
       "    </tr>\n",
       "    <tr>\n",
       "      <th>31100</th>\n",
       "      <td>0.407572</td>\n",
       "      <td>0.382591</td>\n",
       "      <td>0.358491</td>\n",
       "      <td>0.312766</td>\n",
       "      <td>0.286449</td>\n",
       "      <td>0.195076</td>\n",
       "      <td>0.191304</td>\n",
       "    </tr>\n",
       "    <tr>\n",
       "      <th>31101</th>\n",
       "      <td>0.276169</td>\n",
       "      <td>0.285425</td>\n",
       "      <td>0.309434</td>\n",
       "      <td>0.293617</td>\n",
       "      <td>0.257290</td>\n",
       "      <td>0.231061</td>\n",
       "      <td>0.247826</td>\n",
       "    </tr>\n",
       "    <tr>\n",
       "      <th>31102</th>\n",
       "      <td>0.271715</td>\n",
       "      <td>0.246964</td>\n",
       "      <td>0.335849</td>\n",
       "      <td>0.270213</td>\n",
       "      <td>0.217839</td>\n",
       "      <td>0.159091</td>\n",
       "      <td>0.173913</td>\n",
       "    </tr>\n",
       "    <tr>\n",
       "      <th>31103</th>\n",
       "      <td>0.229399</td>\n",
       "      <td>0.212551</td>\n",
       "      <td>0.245283</td>\n",
       "      <td>0.265957</td>\n",
       "      <td>0.222985</td>\n",
       "      <td>0.176136</td>\n",
       "      <td>0.189130</td>\n",
       "    </tr>\n",
       "  </tbody>\n",
       "</table>\n",
       "<p>31104 rows × 7 columns</p>\n",
       "</div>"
      ],
      "text/plain": [
       "             f1        f2        f3        f4        f5        f6        f7\n",
       "0      0.200445  0.161943  0.230189  0.265957  0.190395  0.060606  0.084783\n",
       "1      0.191537  0.155870  0.235849  0.265957  0.174957  0.125000  0.154348\n",
       "2      0.213808  0.214575  0.230189  0.238298  0.173242  0.126894  0.145652\n",
       "3      0.213808  0.170040  0.175472  0.212766  0.152659  0.155303  0.182609\n",
       "4      0.193764  0.161943  0.201887  0.242553  0.157804  0.113636  0.121739\n",
       "...         ...       ...       ...       ...       ...       ...       ...\n",
       "31099  0.298441  0.253036  0.288679  0.291489  0.255575  0.204545  0.184783\n",
       "31100  0.407572  0.382591  0.358491  0.312766  0.286449  0.195076  0.191304\n",
       "31101  0.276169  0.285425  0.309434  0.293617  0.257290  0.231061  0.247826\n",
       "31102  0.271715  0.246964  0.335849  0.270213  0.217839  0.159091  0.173913\n",
       "31103  0.229399  0.212551  0.245283  0.265957  0.222985  0.176136  0.189130\n",
       "\n",
       "[31104 rows x 7 columns]"
      ]
     },
     "execution_count": 5,
     "metadata": {},
     "output_type": "execute_result"
    }
   ],
   "source": [
    "TrainVal_scaled"
   ]
  },
  {
   "cell_type": "code",
   "execution_count": 6,
   "id": "735ffb26",
   "metadata": {},
   "outputs": [
    {
     "data": {
      "text/html": [
       "<div>\n",
       "<style scoped>\n",
       "    .dataframe tbody tr th:only-of-type {\n",
       "        vertical-align: middle;\n",
       "    }\n",
       "\n",
       "    .dataframe tbody tr th {\n",
       "        vertical-align: top;\n",
       "    }\n",
       "\n",
       "    .dataframe thead th {\n",
       "        text-align: right;\n",
       "    }\n",
       "</style>\n",
       "<table border=\"1\" class=\"dataframe\">\n",
       "  <thead>\n",
       "    <tr style=\"text-align: right;\">\n",
       "      <th></th>\n",
       "      <th>f1</th>\n",
       "      <th>f2</th>\n",
       "      <th>f3</th>\n",
       "      <th>f4</th>\n",
       "      <th>f5</th>\n",
       "      <th>f6</th>\n",
       "      <th>f7</th>\n",
       "    </tr>\n",
       "  </thead>\n",
       "  <tbody>\n",
       "    <tr>\n",
       "      <th>0</th>\n",
       "      <td>0.289532</td>\n",
       "      <td>0.277328</td>\n",
       "      <td>0.226415</td>\n",
       "      <td>0.259574</td>\n",
       "      <td>0.204117</td>\n",
       "      <td>0.147727</td>\n",
       "      <td>0.150000</td>\n",
       "    </tr>\n",
       "    <tr>\n",
       "      <th>1</th>\n",
       "      <td>0.258352</td>\n",
       "      <td>0.230769</td>\n",
       "      <td>0.277358</td>\n",
       "      <td>0.231915</td>\n",
       "      <td>0.198971</td>\n",
       "      <td>0.168561</td>\n",
       "      <td>0.160870</td>\n",
       "    </tr>\n",
       "    <tr>\n",
       "      <th>2</th>\n",
       "      <td>0.211581</td>\n",
       "      <td>0.208502</td>\n",
       "      <td>0.232075</td>\n",
       "      <td>0.242553</td>\n",
       "      <td>0.202401</td>\n",
       "      <td>0.195076</td>\n",
       "      <td>0.213043</td>\n",
       "    </tr>\n",
       "    <tr>\n",
       "      <th>3</th>\n",
       "      <td>0.242762</td>\n",
       "      <td>0.232794</td>\n",
       "      <td>0.213208</td>\n",
       "      <td>0.221277</td>\n",
       "      <td>0.176672</td>\n",
       "      <td>0.178030</td>\n",
       "      <td>0.195652</td>\n",
       "    </tr>\n",
       "    <tr>\n",
       "      <th>4</th>\n",
       "      <td>0.238307</td>\n",
       "      <td>0.226721</td>\n",
       "      <td>0.235849</td>\n",
       "      <td>0.253191</td>\n",
       "      <td>0.192110</td>\n",
       "      <td>0.126894</td>\n",
       "      <td>0.128261</td>\n",
       "    </tr>\n",
       "    <tr>\n",
       "      <th>...</th>\n",
       "      <td>...</td>\n",
       "      <td>...</td>\n",
       "      <td>...</td>\n",
       "      <td>...</td>\n",
       "      <td>...</td>\n",
       "      <td>...</td>\n",
       "      <td>...</td>\n",
       "    </tr>\n",
       "    <tr>\n",
       "      <th>4027</th>\n",
       "      <td>0.282851</td>\n",
       "      <td>0.253036</td>\n",
       "      <td>0.264151</td>\n",
       "      <td>0.302128</td>\n",
       "      <td>0.233276</td>\n",
       "      <td>0.196970</td>\n",
       "      <td>0.169565</td>\n",
       "    </tr>\n",
       "    <tr>\n",
       "      <th>4028</th>\n",
       "      <td>0.262806</td>\n",
       "      <td>0.222672</td>\n",
       "      <td>0.243396</td>\n",
       "      <td>0.246809</td>\n",
       "      <td>0.166381</td>\n",
       "      <td>0.174242</td>\n",
       "      <td>0.180435</td>\n",
       "    </tr>\n",
       "    <tr>\n",
       "      <th>4029</th>\n",
       "      <td>0.204900</td>\n",
       "      <td>0.188259</td>\n",
       "      <td>0.213208</td>\n",
       "      <td>0.270213</td>\n",
       "      <td>0.221269</td>\n",
       "      <td>0.166667</td>\n",
       "      <td>0.171739</td>\n",
       "    </tr>\n",
       "    <tr>\n",
       "      <th>4030</th>\n",
       "      <td>0.273942</td>\n",
       "      <td>0.246964</td>\n",
       "      <td>0.247170</td>\n",
       "      <td>0.219149</td>\n",
       "      <td>0.183533</td>\n",
       "      <td>0.195076</td>\n",
       "      <td>0.193478</td>\n",
       "    </tr>\n",
       "    <tr>\n",
       "      <th>4031</th>\n",
       "      <td>0.247216</td>\n",
       "      <td>0.194332</td>\n",
       "      <td>0.237736</td>\n",
       "      <td>0.272340</td>\n",
       "      <td>0.193825</td>\n",
       "      <td>0.178030</td>\n",
       "      <td>0.200000</td>\n",
       "    </tr>\n",
       "  </tbody>\n",
       "</table>\n",
       "<p>4032 rows × 7 columns</p>\n",
       "</div>"
      ],
      "text/plain": [
       "            f1        f2        f3        f4        f5        f6        f7\n",
       "0     0.289532  0.277328  0.226415  0.259574  0.204117  0.147727  0.150000\n",
       "1     0.258352  0.230769  0.277358  0.231915  0.198971  0.168561  0.160870\n",
       "2     0.211581  0.208502  0.232075  0.242553  0.202401  0.195076  0.213043\n",
       "3     0.242762  0.232794  0.213208  0.221277  0.176672  0.178030  0.195652\n",
       "4     0.238307  0.226721  0.235849  0.253191  0.192110  0.126894  0.128261\n",
       "...        ...       ...       ...       ...       ...       ...       ...\n",
       "4027  0.282851  0.253036  0.264151  0.302128  0.233276  0.196970  0.169565\n",
       "4028  0.262806  0.222672  0.243396  0.246809  0.166381  0.174242  0.180435\n",
       "4029  0.204900  0.188259  0.213208  0.270213  0.221269  0.166667  0.171739\n",
       "4030  0.273942  0.246964  0.247170  0.219149  0.183533  0.195076  0.193478\n",
       "4031  0.247216  0.194332  0.237736  0.272340  0.193825  0.178030  0.200000\n",
       "\n",
       "[4032 rows x 7 columns]"
      ]
     },
     "execution_count": 6,
     "metadata": {},
     "output_type": "execute_result"
    }
   ],
   "source": [
    "Test_scaled"
   ]
  },
  {
   "cell_type": "markdown",
   "id": "75c73a4b",
   "metadata": {},
   "source": [
    "### Total Data"
   ]
  },
  {
   "cell_type": "code",
   "execution_count": 7,
   "id": "bc75f1e5",
   "metadata": {},
   "outputs": [],
   "source": [
    "df = pd.concat([Ext, TrainVal_scaled, Test_scaled], ignore_index=True)"
   ]
  },
  {
   "cell_type": "code",
   "execution_count": 8,
   "id": "4ee24f88",
   "metadata": {},
   "outputs": [
    {
     "data": {
      "text/html": [
       "<div>\n",
       "<style scoped>\n",
       "    .dataframe tbody tr th:only-of-type {\n",
       "        vertical-align: middle;\n",
       "    }\n",
       "\n",
       "    .dataframe tbody tr th {\n",
       "        vertical-align: top;\n",
       "    }\n",
       "\n",
       "    .dataframe thead th {\n",
       "        text-align: right;\n",
       "    }\n",
       "</style>\n",
       "<table border=\"1\" class=\"dataframe\">\n",
       "  <thead>\n",
       "    <tr style=\"text-align: right;\">\n",
       "      <th></th>\n",
       "      <th>f1</th>\n",
       "      <th>f2</th>\n",
       "      <th>f3</th>\n",
       "      <th>f4</th>\n",
       "      <th>f5</th>\n",
       "      <th>f6</th>\n",
       "      <th>f7</th>\n",
       "    </tr>\n",
       "  </thead>\n",
       "  <tbody>\n",
       "    <tr>\n",
       "      <th>0</th>\n",
       "      <td>0.167038</td>\n",
       "      <td>0.147773</td>\n",
       "      <td>0.147170</td>\n",
       "      <td>0.185106</td>\n",
       "      <td>0.114923</td>\n",
       "      <td>0.089015</td>\n",
       "      <td>0.130435</td>\n",
       "    </tr>\n",
       "    <tr>\n",
       "      <th>1</th>\n",
       "      <td>0.162584</td>\n",
       "      <td>0.165992</td>\n",
       "      <td>0.216981</td>\n",
       "      <td>0.206383</td>\n",
       "      <td>0.144082</td>\n",
       "      <td>0.102273</td>\n",
       "      <td>0.165217</td>\n",
       "    </tr>\n",
       "    <tr>\n",
       "      <th>2</th>\n",
       "      <td>0.164811</td>\n",
       "      <td>0.137652</td>\n",
       "      <td>0.162264</td>\n",
       "      <td>0.210638</td>\n",
       "      <td>0.150943</td>\n",
       "      <td>0.109848</td>\n",
       "      <td>0.163043</td>\n",
       "    </tr>\n",
       "    <tr>\n",
       "      <th>3</th>\n",
       "      <td>0.151448</td>\n",
       "      <td>0.125506</td>\n",
       "      <td>0.149057</td>\n",
       "      <td>0.182979</td>\n",
       "      <td>0.118353</td>\n",
       "      <td>0.068182</td>\n",
       "      <td>0.113043</td>\n",
       "    </tr>\n",
       "    <tr>\n",
       "      <th>4</th>\n",
       "      <td>0.093541</td>\n",
       "      <td>0.121457</td>\n",
       "      <td>0.139623</td>\n",
       "      <td>0.200000</td>\n",
       "      <td>0.102916</td>\n",
       "      <td>0.075758</td>\n",
       "      <td>0.121739</td>\n",
       "    </tr>\n",
       "    <tr>\n",
       "      <th>...</th>\n",
       "      <td>...</td>\n",
       "      <td>...</td>\n",
       "      <td>...</td>\n",
       "      <td>...</td>\n",
       "      <td>...</td>\n",
       "      <td>...</td>\n",
       "      <td>...</td>\n",
       "    </tr>\n",
       "    <tr>\n",
       "      <th>39451</th>\n",
       "      <td>0.282851</td>\n",
       "      <td>0.253036</td>\n",
       "      <td>0.264151</td>\n",
       "      <td>0.302128</td>\n",
       "      <td>0.233276</td>\n",
       "      <td>0.196970</td>\n",
       "      <td>0.169565</td>\n",
       "    </tr>\n",
       "    <tr>\n",
       "      <th>39452</th>\n",
       "      <td>0.262806</td>\n",
       "      <td>0.222672</td>\n",
       "      <td>0.243396</td>\n",
       "      <td>0.246809</td>\n",
       "      <td>0.166381</td>\n",
       "      <td>0.174242</td>\n",
       "      <td>0.180435</td>\n",
       "    </tr>\n",
       "    <tr>\n",
       "      <th>39453</th>\n",
       "      <td>0.204900</td>\n",
       "      <td>0.188259</td>\n",
       "      <td>0.213208</td>\n",
       "      <td>0.270213</td>\n",
       "      <td>0.221269</td>\n",
       "      <td>0.166667</td>\n",
       "      <td>0.171739</td>\n",
       "    </tr>\n",
       "    <tr>\n",
       "      <th>39454</th>\n",
       "      <td>0.273942</td>\n",
       "      <td>0.246964</td>\n",
       "      <td>0.247170</td>\n",
       "      <td>0.219149</td>\n",
       "      <td>0.183533</td>\n",
       "      <td>0.195076</td>\n",
       "      <td>0.193478</td>\n",
       "    </tr>\n",
       "    <tr>\n",
       "      <th>39455</th>\n",
       "      <td>0.247216</td>\n",
       "      <td>0.194332</td>\n",
       "      <td>0.237736</td>\n",
       "      <td>0.272340</td>\n",
       "      <td>0.193825</td>\n",
       "      <td>0.178030</td>\n",
       "      <td>0.200000</td>\n",
       "    </tr>\n",
       "  </tbody>\n",
       "</table>\n",
       "<p>39456 rows × 7 columns</p>\n",
       "</div>"
      ],
      "text/plain": [
       "             f1        f2        f3        f4        f5        f6        f7\n",
       "0      0.167038  0.147773  0.147170  0.185106  0.114923  0.089015  0.130435\n",
       "1      0.162584  0.165992  0.216981  0.206383  0.144082  0.102273  0.165217\n",
       "2      0.164811  0.137652  0.162264  0.210638  0.150943  0.109848  0.163043\n",
       "3      0.151448  0.125506  0.149057  0.182979  0.118353  0.068182  0.113043\n",
       "4      0.093541  0.121457  0.139623  0.200000  0.102916  0.075758  0.121739\n",
       "...         ...       ...       ...       ...       ...       ...       ...\n",
       "39451  0.282851  0.253036  0.264151  0.302128  0.233276  0.196970  0.169565\n",
       "39452  0.262806  0.222672  0.243396  0.246809  0.166381  0.174242  0.180435\n",
       "39453  0.204900  0.188259  0.213208  0.270213  0.221269  0.166667  0.171739\n",
       "39454  0.273942  0.246964  0.247170  0.219149  0.183533  0.195076  0.193478\n",
       "39455  0.247216  0.194332  0.237736  0.272340  0.193825  0.178030  0.200000\n",
       "\n",
       "[39456 rows x 7 columns]"
      ]
     },
     "execution_count": 8,
     "metadata": {},
     "output_type": "execute_result"
    }
   ],
   "source": [
    "df"
   ]
  },
  {
   "cell_type": "code",
   "execution_count": 9,
   "id": "00db7d79",
   "metadata": {},
   "outputs": [],
   "source": [
    "date_range = pd.date_range('2019-02-14 00:00', '2019-06-30 23:59', freq='5Min')\n",
    "myser = pd.Series(data=date_range, name='Timestamp')"
   ]
  },
  {
   "cell_type": "code",
   "execution_count": 10,
   "id": "1561398e",
   "metadata": {},
   "outputs": [
    {
     "data": {
      "text/plain": [
       "39456"
      ]
     },
     "execution_count": 10,
     "metadata": {},
     "output_type": "execute_result"
    }
   ],
   "source": [
    "len(myser)"
   ]
  },
  {
   "cell_type": "code",
   "execution_count": 11,
   "id": "eb0c0ced",
   "metadata": {},
   "outputs": [],
   "source": [
    "df['Timestamp'] = myser\n",
    "\n",
    "# Re-arrange spatial columns, so, the data is sequential\n",
    "df = df[['Timestamp','f1', 'f2', 'f3', 'f4', 'f5', 'f6', 'f7']]"
   ]
  },
  {
   "cell_type": "code",
   "execution_count": 12,
   "id": "86c3ffb0",
   "metadata": {},
   "outputs": [
    {
     "data": {
      "text/html": [
       "<div>\n",
       "<style scoped>\n",
       "    .dataframe tbody tr th:only-of-type {\n",
       "        vertical-align: middle;\n",
       "    }\n",
       "\n",
       "    .dataframe tbody tr th {\n",
       "        vertical-align: top;\n",
       "    }\n",
       "\n",
       "    .dataframe thead th {\n",
       "        text-align: right;\n",
       "    }\n",
       "</style>\n",
       "<table border=\"1\" class=\"dataframe\">\n",
       "  <thead>\n",
       "    <tr style=\"text-align: right;\">\n",
       "      <th></th>\n",
       "      <th>Timestamp</th>\n",
       "      <th>f1</th>\n",
       "      <th>f2</th>\n",
       "      <th>f3</th>\n",
       "      <th>f4</th>\n",
       "      <th>f5</th>\n",
       "      <th>f6</th>\n",
       "      <th>f7</th>\n",
       "    </tr>\n",
       "  </thead>\n",
       "  <tbody>\n",
       "    <tr>\n",
       "      <th>0</th>\n",
       "      <td>2019-02-14 00:00:00</td>\n",
       "      <td>0.167038</td>\n",
       "      <td>0.147773</td>\n",
       "      <td>0.147170</td>\n",
       "      <td>0.185106</td>\n",
       "      <td>0.114923</td>\n",
       "      <td>0.089015</td>\n",
       "      <td>0.130435</td>\n",
       "    </tr>\n",
       "    <tr>\n",
       "      <th>1</th>\n",
       "      <td>2019-02-14 00:05:00</td>\n",
       "      <td>0.162584</td>\n",
       "      <td>0.165992</td>\n",
       "      <td>0.216981</td>\n",
       "      <td>0.206383</td>\n",
       "      <td>0.144082</td>\n",
       "      <td>0.102273</td>\n",
       "      <td>0.165217</td>\n",
       "    </tr>\n",
       "    <tr>\n",
       "      <th>2</th>\n",
       "      <td>2019-02-14 00:10:00</td>\n",
       "      <td>0.164811</td>\n",
       "      <td>0.137652</td>\n",
       "      <td>0.162264</td>\n",
       "      <td>0.210638</td>\n",
       "      <td>0.150943</td>\n",
       "      <td>0.109848</td>\n",
       "      <td>0.163043</td>\n",
       "    </tr>\n",
       "    <tr>\n",
       "      <th>3</th>\n",
       "      <td>2019-02-14 00:15:00</td>\n",
       "      <td>0.151448</td>\n",
       "      <td>0.125506</td>\n",
       "      <td>0.149057</td>\n",
       "      <td>0.182979</td>\n",
       "      <td>0.118353</td>\n",
       "      <td>0.068182</td>\n",
       "      <td>0.113043</td>\n",
       "    </tr>\n",
       "    <tr>\n",
       "      <th>4</th>\n",
       "      <td>2019-02-14 00:20:00</td>\n",
       "      <td>0.093541</td>\n",
       "      <td>0.121457</td>\n",
       "      <td>0.139623</td>\n",
       "      <td>0.200000</td>\n",
       "      <td>0.102916</td>\n",
       "      <td>0.075758</td>\n",
       "      <td>0.121739</td>\n",
       "    </tr>\n",
       "    <tr>\n",
       "      <th>...</th>\n",
       "      <td>...</td>\n",
       "      <td>...</td>\n",
       "      <td>...</td>\n",
       "      <td>...</td>\n",
       "      <td>...</td>\n",
       "      <td>...</td>\n",
       "      <td>...</td>\n",
       "      <td>...</td>\n",
       "    </tr>\n",
       "    <tr>\n",
       "      <th>39451</th>\n",
       "      <td>2019-06-30 23:35:00</td>\n",
       "      <td>0.282851</td>\n",
       "      <td>0.253036</td>\n",
       "      <td>0.264151</td>\n",
       "      <td>0.302128</td>\n",
       "      <td>0.233276</td>\n",
       "      <td>0.196970</td>\n",
       "      <td>0.169565</td>\n",
       "    </tr>\n",
       "    <tr>\n",
       "      <th>39452</th>\n",
       "      <td>2019-06-30 23:40:00</td>\n",
       "      <td>0.262806</td>\n",
       "      <td>0.222672</td>\n",
       "      <td>0.243396</td>\n",
       "      <td>0.246809</td>\n",
       "      <td>0.166381</td>\n",
       "      <td>0.174242</td>\n",
       "      <td>0.180435</td>\n",
       "    </tr>\n",
       "    <tr>\n",
       "      <th>39453</th>\n",
       "      <td>2019-06-30 23:45:00</td>\n",
       "      <td>0.204900</td>\n",
       "      <td>0.188259</td>\n",
       "      <td>0.213208</td>\n",
       "      <td>0.270213</td>\n",
       "      <td>0.221269</td>\n",
       "      <td>0.166667</td>\n",
       "      <td>0.171739</td>\n",
       "    </tr>\n",
       "    <tr>\n",
       "      <th>39454</th>\n",
       "      <td>2019-06-30 23:50:00</td>\n",
       "      <td>0.273942</td>\n",
       "      <td>0.246964</td>\n",
       "      <td>0.247170</td>\n",
       "      <td>0.219149</td>\n",
       "      <td>0.183533</td>\n",
       "      <td>0.195076</td>\n",
       "      <td>0.193478</td>\n",
       "    </tr>\n",
       "    <tr>\n",
       "      <th>39455</th>\n",
       "      <td>2019-06-30 23:55:00</td>\n",
       "      <td>0.247216</td>\n",
       "      <td>0.194332</td>\n",
       "      <td>0.237736</td>\n",
       "      <td>0.272340</td>\n",
       "      <td>0.193825</td>\n",
       "      <td>0.178030</td>\n",
       "      <td>0.200000</td>\n",
       "    </tr>\n",
       "  </tbody>\n",
       "</table>\n",
       "<p>39456 rows × 8 columns</p>\n",
       "</div>"
      ],
      "text/plain": [
       "                Timestamp        f1        f2        f3        f4        f5  \\\n",
       "0     2019-02-14 00:00:00  0.167038  0.147773  0.147170  0.185106  0.114923   \n",
       "1     2019-02-14 00:05:00  0.162584  0.165992  0.216981  0.206383  0.144082   \n",
       "2     2019-02-14 00:10:00  0.164811  0.137652  0.162264  0.210638  0.150943   \n",
       "3     2019-02-14 00:15:00  0.151448  0.125506  0.149057  0.182979  0.118353   \n",
       "4     2019-02-14 00:20:00  0.093541  0.121457  0.139623  0.200000  0.102916   \n",
       "...                   ...       ...       ...       ...       ...       ...   \n",
       "39451 2019-06-30 23:35:00  0.282851  0.253036  0.264151  0.302128  0.233276   \n",
       "39452 2019-06-30 23:40:00  0.262806  0.222672  0.243396  0.246809  0.166381   \n",
       "39453 2019-06-30 23:45:00  0.204900  0.188259  0.213208  0.270213  0.221269   \n",
       "39454 2019-06-30 23:50:00  0.273942  0.246964  0.247170  0.219149  0.183533   \n",
       "39455 2019-06-30 23:55:00  0.247216  0.194332  0.237736  0.272340  0.193825   \n",
       "\n",
       "             f6        f7  \n",
       "0      0.089015  0.130435  \n",
       "1      0.102273  0.165217  \n",
       "2      0.109848  0.163043  \n",
       "3      0.068182  0.113043  \n",
       "4      0.075758  0.121739  \n",
       "...         ...       ...  \n",
       "39451  0.196970  0.169565  \n",
       "39452  0.174242  0.180435  \n",
       "39453  0.166667  0.171739  \n",
       "39454  0.195076  0.193478  \n",
       "39455  0.178030  0.200000  \n",
       "\n",
       "[39456 rows x 8 columns]"
      ]
     },
     "execution_count": 12,
     "metadata": {},
     "output_type": "execute_result"
    }
   ],
   "source": [
    "df"
   ]
  },
  {
   "cell_type": "code",
   "execution_count": 13,
   "id": "4223b026",
   "metadata": {},
   "outputs": [
    {
     "data": {
      "text/plain": [
       "Timestamp    2019-03-01 00:00:00\n",
       "f1                      0.200445\n",
       "f2                      0.161943\n",
       "f3                      0.230189\n",
       "f4                      0.265957\n",
       "f5                      0.190395\n",
       "f6                      0.060606\n",
       "f7                      0.084783\n",
       "Name: 4320, dtype: object"
      ]
     },
     "execution_count": 13,
     "metadata": {},
     "output_type": "execute_result"
    }
   ],
   "source": [
    "df.iloc[4320]          # First sample"
   ]
  },
  {
   "cell_type": "code",
   "execution_count": 14,
   "id": "1419ce49",
   "metadata": {},
   "outputs": [
    {
     "data": {
      "text/plain": [
       "Timestamp    2019-02-22 00:00:00\n",
       "f1                      0.202673\n",
       "f2                      0.182186\n",
       "f3                      0.239623\n",
       "f4                      0.219149\n",
       "f5                      0.164666\n",
       "f6                       0.13447\n",
       "f7                       0.13913\n",
       "Name: 2304, dtype: object"
      ]
     },
     "execution_count": 14,
     "metadata": {},
     "output_type": "execute_result"
    }
   ],
   "source": [
    "df.iloc[2304]          # -1 week (-2016 samples)"
   ]
  },
  {
   "cell_type": "code",
   "execution_count": 15,
   "id": "e77e869c",
   "metadata": {},
   "outputs": [
    {
     "data": {
      "text/plain": [
       "Timestamp    2019-02-15 00:00:00\n",
       "f1                      0.158129\n",
       "f2                      0.137652\n",
       "f3                      0.162264\n",
       "f4                      0.210638\n",
       "f5                      0.157804\n",
       "f6                      0.140152\n",
       "f7                      0.132609\n",
       "Name: 288, dtype: object"
      ]
     },
     "execution_count": 15,
     "metadata": {},
     "output_type": "execute_result"
    }
   ],
   "source": [
    "df.iloc[288]          # -2 week (-4032 samples)"
   ]
  },
  {
   "cell_type": "markdown",
   "id": "153c1b2d",
   "metadata": {},
   "source": [
    "# Generate Weekly Samples"
   ]
  },
  {
   "cell_type": "code",
   "execution_count": 16,
   "id": "5d49c1ab",
   "metadata": {},
   "outputs": [],
   "source": [
    "a = np.zeros((1, 9, 7))\n",
    "b = np.zeros((1, 9, 7))\n",
    "x = 4320                           # Start\n",
    "\n",
    "for i in range(len(df.iloc[x:])):\n",
    "    for j in range(9):\n",
    "        a[0][j] = df.iloc[x-2020+i+j].drop(['Timestamp'])\n",
    "        \n",
    "    b = np.append(b, a, axis=0)\n",
    "\n",
    "b = np.delete(b, np.s_[0:1], 0)"
   ]
  },
  {
   "cell_type": "code",
   "execution_count": 17,
   "id": "ff57c9c9",
   "metadata": {},
   "outputs": [
    {
     "data": {
      "text/plain": [
       "array([[0.22939866, 0.21659919, 0.18301887, 0.25531915, 0.18181818,\n",
       "        0.10795455, 0.11304348],\n",
       "       [0.24498886, 0.22267206, 0.22641509, 0.21276596, 0.135506  ,\n",
       "        0.13068182, 0.13695652],\n",
       "       [0.24053452, 0.24291498, 0.19622642, 0.19574468, 0.1457976 ,\n",
       "        0.14583333, 0.11956522],\n",
       "       [0.19599109, 0.18218623, 0.23396226, 0.24680851, 0.18867925,\n",
       "        0.13636364, 0.11304348],\n",
       "       [0.20267261, 0.18218623, 0.23962264, 0.21914894, 0.16466552,\n",
       "        0.1344697 , 0.13913043],\n",
       "       [0.21158129, 0.17206478, 0.20943396, 0.23617021, 0.16638079,\n",
       "        0.17045455, 0.14130435],\n",
       "       [0.23608018, 0.23076923, 0.25849057, 0.21489362, 0.15608919,\n",
       "        0.13068182, 0.11304348],\n",
       "       [0.20267261, 0.17813765, 0.21886792, 0.25531915, 0.18010292,\n",
       "        0.10795455, 0.14347826],\n",
       "       [0.13363029, 0.12955466, 0.13207547, 0.18085106, 0.10291595,\n",
       "        0.10416667, 0.11086957]])"
      ]
     },
     "execution_count": 17,
     "metadata": {},
     "output_type": "execute_result"
    }
   ],
   "source": [
    "b[0]"
   ]
  },
  {
   "cell_type": "code",
   "execution_count": 18,
   "id": "8cdb6e1b",
   "metadata": {},
   "outputs": [
    {
     "data": {
      "text/plain": [
       "array([[0.24498886, 0.22267206, 0.22641509, 0.21276596, 0.135506  ,\n",
       "        0.13068182, 0.13695652],\n",
       "       [0.24053452, 0.24291498, 0.19622642, 0.19574468, 0.1457976 ,\n",
       "        0.14583333, 0.11956522],\n",
       "       [0.19599109, 0.18218623, 0.23396226, 0.24680851, 0.18867925,\n",
       "        0.13636364, 0.11304348],\n",
       "       [0.20267261, 0.18218623, 0.23962264, 0.21914894, 0.16466552,\n",
       "        0.1344697 , 0.13913043],\n",
       "       [0.21158129, 0.17206478, 0.20943396, 0.23617021, 0.16638079,\n",
       "        0.17045455, 0.14130435],\n",
       "       [0.23608018, 0.23076923, 0.25849057, 0.21489362, 0.15608919,\n",
       "        0.13068182, 0.11304348],\n",
       "       [0.20267261, 0.17813765, 0.21886792, 0.25531915, 0.18010292,\n",
       "        0.10795455, 0.14347826],\n",
       "       [0.13363029, 0.12955466, 0.13207547, 0.18085106, 0.10291595,\n",
       "        0.10416667, 0.11086957],\n",
       "       [0.16035635, 0.12550607, 0.1509434 , 0.1893617 , 0.12349914,\n",
       "        0.07575758, 0.07173913]])"
      ]
     },
     "execution_count": 18,
     "metadata": {},
     "output_type": "execute_result"
    }
   ],
   "source": [
    "b[1]"
   ]
  },
  {
   "cell_type": "code",
   "execution_count": 19,
   "id": "986c6068",
   "metadata": {},
   "outputs": [
    {
     "data": {
      "text/plain": [
       "(35136, 9, 7)"
      ]
     },
     "execution_count": 19,
     "metadata": {},
     "output_type": "execute_result"
    }
   ],
   "source": [
    "b.shape"
   ]
  },
  {
   "cell_type": "markdown",
   "id": "3bf75a89",
   "metadata": {},
   "source": [
    "### Split into corresponding test and train"
   ]
  },
  {
   "cell_type": "code",
   "execution_count": 20,
   "id": "a4ef76d1",
   "metadata": {},
   "outputs": [],
   "source": [
    "train = b[:TrainVal_scaled.shape[0]]"
   ]
  },
  {
   "cell_type": "code",
   "execution_count": 21,
   "id": "f65028fa",
   "metadata": {},
   "outputs": [
    {
     "data": {
      "text/plain": [
       "(31104, 9, 7)"
      ]
     },
     "execution_count": 21,
     "metadata": {},
     "output_type": "execute_result"
    }
   ],
   "source": [
    "train.shape"
   ]
  },
  {
   "cell_type": "code",
   "execution_count": 22,
   "id": "680222ff",
   "metadata": {},
   "outputs": [
    {
     "data": {
      "text/plain": [
       "(31104, 7)"
      ]
     },
     "execution_count": 22,
     "metadata": {},
     "output_type": "execute_result"
    }
   ],
   "source": [
    "TrainVal_scaled.shape"
   ]
  },
  {
   "cell_type": "code",
   "execution_count": 23,
   "id": "b07be8d3",
   "metadata": {},
   "outputs": [],
   "source": [
    "test = b[TrainVal_scaled.shape[0]:]"
   ]
  },
  {
   "cell_type": "code",
   "execution_count": 24,
   "id": "80b194c7",
   "metadata": {},
   "outputs": [
    {
     "data": {
      "text/plain": [
       "(4032, 9, 7)"
      ]
     },
     "execution_count": 24,
     "metadata": {},
     "output_type": "execute_result"
    }
   ],
   "source": [
    "test.shape"
   ]
  },
  {
   "cell_type": "code",
   "execution_count": 25,
   "id": "51da75bd",
   "metadata": {},
   "outputs": [
    {
     "data": {
      "text/plain": [
       "(4032, 7)"
      ]
     },
     "execution_count": 25,
     "metadata": {},
     "output_type": "execute_result"
    }
   ],
   "source": [
    "Test_scaled.shape"
   ]
  },
  {
   "cell_type": "markdown",
   "id": "9652f618",
   "metadata": {},
   "source": [
    "#### Confirmation"
   ]
  },
  {
   "cell_type": "code",
   "execution_count": 26,
   "id": "e54b954b",
   "metadata": {},
   "outputs": [
    {
     "data": {
      "text/plain": [
       "array([0.18040089, 0.15384615, 0.19622642, 0.19148936, 0.12864494,\n",
       "       0.09090909, 0.11956522])"
      ]
     },
     "execution_count": 26,
     "metadata": {},
     "output_type": "execute_result"
    }
   ],
   "source": [
    "test[0][4]"
   ]
  },
  {
   "cell_type": "code",
   "execution_count": 27,
   "id": "1d6958b1",
   "metadata": {},
   "outputs": [
    {
     "data": {
      "text/plain": [
       "f1    0.180401\n",
       "f2    0.153846\n",
       "f3    0.196226\n",
       "f4    0.191489\n",
       "f5    0.128645\n",
       "f6    0.090909\n",
       "f7    0.119565\n",
       "Name: 29088, dtype: float64"
      ]
     },
     "execution_count": 27,
     "metadata": {},
     "output_type": "execute_result"
    }
   ],
   "source": [
    "TrainVal_scaled.iloc[-2016]"
   ]
  },
  {
   "cell_type": "markdown",
   "id": "c9f417ab",
   "metadata": {},
   "source": [
    "# Save Data"
   ]
  },
  {
   "cell_type": "code",
   "execution_count": 28,
   "id": "8f208ced",
   "metadata": {},
   "outputs": [],
   "source": [
    "joblib.dump(train, \"002weeks_train_Multi.save\");\n",
    "joblib.dump(test, \"002weeks_test_Multi.save\"); "
   ]
  }
 ],
 "metadata": {
  "kernelspec": {
   "display_name": "Python 3 (ipykernel)",
   "language": "python",
   "name": "python3"
  },
  "language_info": {
   "codemirror_mode": {
    "name": "ipython",
    "version": 3
   },
   "file_extension": ".py",
   "mimetype": "text/x-python",
   "name": "python",
   "nbconvert_exporter": "python",
   "pygments_lexer": "ipython3",
   "version": "3.11.5"
  }
 },
 "nbformat": 4,
 "nbformat_minor": 5
}
